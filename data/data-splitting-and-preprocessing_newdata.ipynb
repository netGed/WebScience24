{
 "cells": [
  {
   "cell_type": "code",
   "execution_count": 1,
   "metadata": {
    "collapsed": true,
    "ExecuteTime": {
     "end_time": "2024-12-06T16:26:22.252628Z",
     "start_time": "2024-12-06T16:26:12.365746700Z"
    }
   },
   "outputs": [],
   "source": [
    "import pandas as pd\n",
    "import numpy as np\n",
    "from src.functions.cleaning_pipeline import clean_dataframe"
   ]
  },
  {
   "cell_type": "code",
   "execution_count": 2,
   "outputs": [],
   "source": [
    "def print_distribution(df, col):\n",
    "    positive = np.count_nonzero(df[col] == 1)\n",
    "    negative = np.count_nonzero(df[col] == 0)\n",
    "    print(\"- Positive:\", positive)\n",
    "    print(\"- Negative:\", negative)\n",
    "    print(\"- Verhältnis:\", negative / positive)"
   ],
   "metadata": {
    "collapsed": false,
    "ExecuteTime": {
     "end_time": "2024-12-06T16:26:22.292684600Z",
     "start_time": "2024-12-06T16:26:22.252628Z"
    }
   }
  },
  {
   "cell_type": "markdown",
   "source": [
    "### Erstellung neuer Train und Testdatensatz"
   ],
   "metadata": {
    "collapsed": false
   }
  },
  {
   "cell_type": "code",
   "execution_count": 3,
   "outputs": [
    {
     "data": {
      "text/plain": "                                                                                                                                                                                                                                                                                                                                                                                                                                tweet  \\\n0                Hey ,muslim dickhead !!!!!!!! Why don;t you go and shove Allah or whatever the fuck you call the retard up your stupid backwards ass !!!!!!!!! You fucking muslims are a bunch of jealous west hating mongs, Islam is a peaceful religion, BULLSHIT !!!!!!! There are many times when it refers to violence. So go strap on your suicide bomb and blow yourself up. yey, one less feeble minded prick ion the world.   \n1                                                                                                                                                                                                                                                                                                                                                                                          @user @user Shut your faggot beaner ass up   \n2                                                                                                                                                                                                                                                                                                                              Went to a car wash got on Twitter and we'll you know the rest 😂🤤💦🍆 #hung #latino #cock #precum #bi URL   \n3                                                                                                                                                                                                                                                                                                                                                                                                        @user Eat your ass and pussy   \n4  +I am God Not by proportion of population. There you go truth twisting and fact altering to try and justify your racist views. If that cop was white he would of walked that's a fact they sacrifice this cop I'm not surprised at all considering how bad public relations are at the moment. You cops are more of a threat to public safety, stability justice and innocent lives than Al Qaeda and ISIS will ever be in America   \n\n   label  \n0      1  \n1      1  \n2      0  \n3      0  \n4      0  ",
      "text/html": "<div>\n<style scoped>\n    .dataframe tbody tr th:only-of-type {\n        vertical-align: middle;\n    }\n\n    .dataframe tbody tr th {\n        vertical-align: top;\n    }\n\n    .dataframe thead th {\n        text-align: right;\n    }\n</style>\n<table border=\"1\" class=\"dataframe\">\n  <thead>\n    <tr style=\"text-align: right;\">\n      <th></th>\n      <th>tweet</th>\n      <th>label</th>\n    </tr>\n  </thead>\n  <tbody>\n    <tr>\n      <th>0</th>\n      <td>Hey ,muslim dickhead !!!!!!!! Why don;t you go and shove Allah or whatever the fuck you call the retard up your stupid backwards ass !!!!!!!!! You fucking muslims are a bunch of jealous west hating mongs, Islam is a peaceful religion, BULLSHIT !!!!!!! There are many times when it refers to violence. So go strap on your suicide bomb and blow yourself up. yey, one less feeble minded prick ion the world.</td>\n      <td>1</td>\n    </tr>\n    <tr>\n      <th>1</th>\n      <td>@user @user Shut your faggot beaner ass up</td>\n      <td>1</td>\n    </tr>\n    <tr>\n      <th>2</th>\n      <td>Went to a car wash got on Twitter and we'll you know the rest 😂🤤💦🍆 #hung #latino #cock #precum #bi URL</td>\n      <td>0</td>\n    </tr>\n    <tr>\n      <th>3</th>\n      <td>@user Eat your ass and pussy</td>\n      <td>0</td>\n    </tr>\n    <tr>\n      <th>4</th>\n      <td>+I am God Not by proportion of population. There you go truth twisting and fact altering to try and justify your racist views. If that cop was white he would of walked that's a fact they sacrifice this cop I'm not surprised at all considering how bad public relations are at the moment. You cops are more of a threat to public safety, stability justice and innocent lives than Al Qaeda and ISIS will ever be in America</td>\n      <td>0</td>\n    </tr>\n  </tbody>\n</table>\n</div>"
     },
     "execution_count": 3,
     "metadata": {},
     "output_type": "execute_result"
    }
   ],
   "source": [
    "df_train_old = pd.read_csv(\"new_datasets/NEW_DATA.csv\", index_col=0)\n",
    "df_train_old.head()"
   ],
   "metadata": {
    "collapsed": false,
    "ExecuteTime": {
     "end_time": "2024-12-06T16:27:01.842719200Z",
     "start_time": "2024-12-06T16:27:01.352541900Z"
    }
   }
  },
  {
   "cell_type": "code",
   "execution_count": 4,
   "outputs": [
    {
     "name": "stdout",
     "output_type": "stream",
     "text": [
      "- Positive: 52493\n",
      "- Negative: 123896\n",
      "- Verhältnis: 2.3602385079915416\n"
     ]
    }
   ],
   "source": [
    "print_distribution(df_train_old, \"label\")"
   ],
   "metadata": {
    "collapsed": false,
    "ExecuteTime": {
     "end_time": "2024-12-06T16:27:01.921712500Z",
     "start_time": "2024-12-06T16:27:01.822470400Z"
    }
   }
  },
  {
   "cell_type": "code",
   "execution_count": 5,
   "outputs": [
    {
     "name": "stdout",
     "output_type": "stream",
     "text": [
      "- Positive: 36862\n",
      "- Negative: 86610\n",
      "- Verhältnis: 2.349574087135804\n"
     ]
    }
   ],
   "source": [
    "train = df_train_old.sample(frac=0.7, random_state=200)\n",
    "print_distribution(train, \"label\")"
   ],
   "metadata": {
    "collapsed": false,
    "ExecuteTime": {
     "end_time": "2024-12-06T16:27:05.252779500Z",
     "start_time": "2024-12-06T16:27:05.114082500Z"
    }
   }
  },
  {
   "cell_type": "code",
   "execution_count": 6,
   "outputs": [
    {
     "data": {
      "text/plain": "                                                                                                                                                                                                                                                                                                                                                                                                                                                                                                                                                                                                                 tweet  \\\n154771                                                                                                                                                                                                                                                                                                                                                                                                                                                                                                                                                                              I love that you enjoy being trans.   \n131520  WARNING: IF MY PEOPLE WHO ARE CALLED BY MY NAME WILL HUMBLE THEMSELVES AND PRAY AND SEEK MY FACE AND TURN FROM THEIR WICKED WAYS THEN I WILL HEAR FROM HEAVEN AND I WILL FORGIVE THEIR SIN AND WILL HEAL THEIR LAND. BABIES BLOOD IS CRYING OUT FROM THE GROUND, FALSE ACCUSATIONS AGAINST THE PRESIDENT, DISRESPECT MEN WITH MEN WOMEN WITH WOMEN, FORNICATORS, FOWL MOUTHS...ETC A NEW GREEN DEAL WILL NOT HELP YOU, ONLY HUMILITY AND REPENTANCE WILL GOD HEAR. AMERICA IN GOD WE TRUST WE ARE THE PEOPLE CALLED BY HIS NAME. STOP KILLING OUR BABIES BAN ABORTION. WE NEED TO REPENT FROM OUR WICKED WAYS.   \n174481                                                                                                                                                                                                                                                                                                                                                                                    @user Lol I had to think about it for second myself. I guess she's asking why do we worry about how people feel about other races when black people are being asked about. As if we don't have the right to be defensive lol   \n143444                                                                                                                                                                                                                                                                                                                                                                                                                                                                                                RT @user: RT @user: \"I've met few people in politics that I disrespect more than Charlie Crist,\" --Rudy Giuliani   \n36573                                                                                                                                                                                                                                                                                                                                                                                                                                                                                                                         Lailat al Miraj mubarak to all Muslims.. I'm wishing for everyone's peace & prosperity🤲🏻   \n\n        label  \n154771      0  \n131520      0  \n174481      0  \n143444      0  \n36573       0  ",
      "text/html": "<div>\n<style scoped>\n    .dataframe tbody tr th:only-of-type {\n        vertical-align: middle;\n    }\n\n    .dataframe tbody tr th {\n        vertical-align: top;\n    }\n\n    .dataframe thead th {\n        text-align: right;\n    }\n</style>\n<table border=\"1\" class=\"dataframe\">\n  <thead>\n    <tr style=\"text-align: right;\">\n      <th></th>\n      <th>tweet</th>\n      <th>label</th>\n    </tr>\n  </thead>\n  <tbody>\n    <tr>\n      <th>154771</th>\n      <td>I love that you enjoy being trans.</td>\n      <td>0</td>\n    </tr>\n    <tr>\n      <th>131520</th>\n      <td>WARNING: IF MY PEOPLE WHO ARE CALLED BY MY NAME WILL HUMBLE THEMSELVES AND PRAY AND SEEK MY FACE AND TURN FROM THEIR WICKED WAYS THEN I WILL HEAR FROM HEAVEN AND I WILL FORGIVE THEIR SIN AND WILL HEAL THEIR LAND. BABIES BLOOD IS CRYING OUT FROM THE GROUND, FALSE ACCUSATIONS AGAINST THE PRESIDENT, DISRESPECT MEN WITH MEN WOMEN WITH WOMEN, FORNICATORS, FOWL MOUTHS...ETC A NEW GREEN DEAL WILL NOT HELP YOU, ONLY HUMILITY AND REPENTANCE WILL GOD HEAR. AMERICA IN GOD WE TRUST WE ARE THE PEOPLE CALLED BY HIS NAME. STOP KILLING OUR BABIES BAN ABORTION. WE NEED TO REPENT FROM OUR WICKED WAYS.</td>\n      <td>0</td>\n    </tr>\n    <tr>\n      <th>174481</th>\n      <td>@user Lol I had to think about it for second myself. I guess she's asking why do we worry about how people feel about other races when black people are being asked about. As if we don't have the right to be defensive lol</td>\n      <td>0</td>\n    </tr>\n    <tr>\n      <th>143444</th>\n      <td>RT @user: RT @user: \"I've met few people in politics that I disrespect more than Charlie Crist,\" --Rudy Giuliani</td>\n      <td>0</td>\n    </tr>\n    <tr>\n      <th>36573</th>\n      <td>Lailat al Miraj mubarak to all Muslims.. I'm wishing for everyone's peace &amp; prosperity🤲🏻</td>\n      <td>0</td>\n    </tr>\n  </tbody>\n</table>\n</div>"
     },
     "execution_count": 6,
     "metadata": {},
     "output_type": "execute_result"
    }
   ],
   "source": [
    "train.head()"
   ],
   "metadata": {
    "collapsed": false,
    "ExecuteTime": {
     "end_time": "2024-12-06T16:27:05.527758800Z",
     "start_time": "2024-12-06T16:27:05.434220600Z"
    }
   }
  },
  {
   "cell_type": "code",
   "execution_count": 7,
   "outputs": [
    {
     "name": "stdout",
     "output_type": "stream",
     "text": [
      "- Positive: 15631\n",
      "- Negative: 37286\n",
      "- Verhältnis: 2.3853880110037746\n"
     ]
    }
   ],
   "source": [
    "test = df_train_old.drop(train.index)\n",
    "print_distribution(test, \"label\")"
   ],
   "metadata": {
    "collapsed": false,
    "ExecuteTime": {
     "end_time": "2024-12-06T16:27:11.082794900Z",
     "start_time": "2024-12-06T16:27:10.963856200Z"
    }
   }
  },
  {
   "cell_type": "code",
   "execution_count": 8,
   "outputs": [
    {
     "data": {
      "text/plain": "                                                                                                                                                                                                                                                                                                                                                                                                                                 tweet  \\\n0                 Hey ,muslim dickhead !!!!!!!! Why don;t you go and shove Allah or whatever the fuck you call the retard up your stupid backwards ass !!!!!!!!! You fucking muslims are a bunch of jealous west hating mongs, Islam is a peaceful religion, BULLSHIT !!!!!!! There are many times when it refers to violence. So go strap on your suicide bomb and blow yourself up. yey, one less feeble minded prick ion the world.   \n2                                                                                                                                                                                                                                                                                                                               Went to a car wash got on Twitter and we'll you know the rest 😂🤤💦🍆 #hung #latino #cock #precum #bi URL   \n4   +I am God Not by proportion of population. There you go truth twisting and fact altering to try and justify your racist views. If that cop was white he would of walked that's a fact they sacrifice this cop I'm not surprised at all considering how bad public relations are at the moment. You cops are more of a threat to public safety, stability justice and innocent lives than Al Qaeda and ISIS will ever be in America   \n9                                                                                                                                                                                                                                                      Lady in the back Blinks when \"her\" camera red light goes on. Part of the tranny SHOW. Before ya deny...see: Transvestigations on Yt. Trannies are PROUD to show How It's Done!👍   \n10                                                                                                                                                                                                                                                                                                                                                                                          That country is run by disgusting cowards.   \n\n    label  \n0       1  \n2       0  \n4       0  \n9       0  \n10      0  ",
      "text/html": "<div>\n<style scoped>\n    .dataframe tbody tr th:only-of-type {\n        vertical-align: middle;\n    }\n\n    .dataframe tbody tr th {\n        vertical-align: top;\n    }\n\n    .dataframe thead th {\n        text-align: right;\n    }\n</style>\n<table border=\"1\" class=\"dataframe\">\n  <thead>\n    <tr style=\"text-align: right;\">\n      <th></th>\n      <th>tweet</th>\n      <th>label</th>\n    </tr>\n  </thead>\n  <tbody>\n    <tr>\n      <th>0</th>\n      <td>Hey ,muslim dickhead !!!!!!!! Why don;t you go and shove Allah or whatever the fuck you call the retard up your stupid backwards ass !!!!!!!!! You fucking muslims are a bunch of jealous west hating mongs, Islam is a peaceful religion, BULLSHIT !!!!!!! There are many times when it refers to violence. So go strap on your suicide bomb and blow yourself up. yey, one less feeble minded prick ion the world.</td>\n      <td>1</td>\n    </tr>\n    <tr>\n      <th>2</th>\n      <td>Went to a car wash got on Twitter and we'll you know the rest 😂🤤💦🍆 #hung #latino #cock #precum #bi URL</td>\n      <td>0</td>\n    </tr>\n    <tr>\n      <th>4</th>\n      <td>+I am God Not by proportion of population. There you go truth twisting and fact altering to try and justify your racist views. If that cop was white he would of walked that's a fact they sacrifice this cop I'm not surprised at all considering how bad public relations are at the moment. You cops are more of a threat to public safety, stability justice and innocent lives than Al Qaeda and ISIS will ever be in America</td>\n      <td>0</td>\n    </tr>\n    <tr>\n      <th>9</th>\n      <td>Lady in the back Blinks when \"her\" camera red light goes on. Part of the tranny SHOW. Before ya deny...see: Transvestigations on Yt. Trannies are PROUD to show How It's Done!👍</td>\n      <td>0</td>\n    </tr>\n    <tr>\n      <th>10</th>\n      <td>That country is run by disgusting cowards.</td>\n      <td>0</td>\n    </tr>\n  </tbody>\n</table>\n</div>"
     },
     "execution_count": 8,
     "metadata": {},
     "output_type": "execute_result"
    }
   ],
   "source": [
    "test.head()"
   ],
   "metadata": {
    "collapsed": false,
    "ExecuteTime": {
     "end_time": "2024-12-06T16:27:12.042643800Z",
     "start_time": "2024-12-06T16:27:11.988317500Z"
    }
   }
  },
  {
   "cell_type": "code",
   "execution_count": 9,
   "outputs": [],
   "source": [
    "train.to_csv(\"new_datasets/train.csv\")\n",
    "test.to_csv(\"new_datasets/test.csv\")"
   ],
   "metadata": {
    "collapsed": false,
    "ExecuteTime": {
     "end_time": "2024-12-06T16:27:20.499807800Z",
     "start_time": "2024-12-06T16:27:19.402791300Z"
    }
   }
  },
  {
   "cell_type": "markdown",
   "source": [
    "### Bereinigung und Vorverarbeitung"
   ],
   "metadata": {
    "collapsed": false
   }
  },
  {
   "cell_type": "markdown",
   "source": [
    "#### Bereinigung und Vorverarbeitung: TRAIN"
   ],
   "metadata": {
    "collapsed": false
   }
  },
  {
   "cell_type": "markdown",
   "source": [
    "##### Geeignet für: Maschinelles Lernen\n",
    "es werden alle implementierten Cleaning und Preprocessing Schritte ausgeführt AUßER: Auflösen Negationen (nicht implementiert), Emojis Entfernen"
   ],
   "metadata": {
    "collapsed": false
   }
  },
  {
   "cell_type": "code",
   "execution_count": 10,
   "outputs": [],
   "source": [
    "df_origin_train = pd.read_csv('new_datasets/train.csv', index_col=0)\n",
    "df_clean_base_train = df_origin_train.copy()"
   ],
   "metadata": {
    "collapsed": false,
    "ExecuteTime": {
     "end_time": "2024-12-06T16:27:28.012697700Z",
     "start_time": "2024-12-06T16:27:27.637688300Z"
    }
   }
  },
  {
   "cell_type": "code",
   "execution_count": 11,
   "outputs": [
    {
     "name": "stdout",
     "output_type": "stream",
     "text": [
      "Start Cleaning\n",
      "--- Cleaning Step 1/21: to_lowercase\n",
      "--- Cleaning Step 2/21: expand_shortcuts\n",
      "--- Cleaning Step 3/21: remove_negations - SKIP (not implemented)\n",
      "--- Cleaning Step 4/21: handle_userhandles\n",
      "--- Cleaning Step 5/21: handle_hashtags\n",
      "--- Cleaning Step 6/21: segment_tweets - SKIP\n",
      "--- Cleaning Step 7/21: extract_emojis\n",
      "--- Cleaning Step 8/21: replace_emojis\n",
      "--- Cleaning Step 9/21: replace_smileys\n",
      "--- Cleaning Step 10/21: remove_emojis - SKIP\n",
      "--- Cleaning Step 11/21: remove_url_from_tweet\n",
      "--- Cleaning Step 12/21: remove_punctuation\n",
      "--- Cleaning Step 13/21: remove_special_characters\n",
      "--- Cleaning Step 14/21: remove_digis\n",
      "--- Cleaning Step 15/21: remove_word_from_column: amp\n",
      "--- Cleaning Step 16/21: lemmatize\n",
      "--- Cleaning Step 17/21: remove_stop_words\n",
      "--- Cleaning Step 18/21: remove_most_frequent_words\n",
      "--- Cleaning Step 19/21: remove_least_frequent_words\n",
      "--- Cleaning Step 20/21: remove_duplicates\n",
      "--- Cleaning Step 21/21: remove_nans\n",
      "All Cleaning done\n"
     ]
    }
   ],
   "source": [
    "df_cleaned_train = clean_dataframe(df_clean_base_train, \"tweet\", False, True, False)"
   ],
   "metadata": {
    "collapsed": false,
    "ExecuteTime": {
     "end_time": "2024-12-06T16:38:37.599597300Z",
     "start_time": "2024-12-06T16:27:28.142702100Z"
    }
   }
  },
  {
   "cell_type": "code",
   "execution_count": 12,
   "outputs": [
    {
     "data": {
      "text/plain": "                                                                                                                                                                                                                                                                                                                                                                                                                                                                                                                                                                                                                 tweet  \\\n154771                                                                                                                                                                                                                                                                                                                                                                                                                                                                                                                                                                              I love that you enjoy being trans.   \n131520  WARNING: IF MY PEOPLE WHO ARE CALLED BY MY NAME WILL HUMBLE THEMSELVES AND PRAY AND SEEK MY FACE AND TURN FROM THEIR WICKED WAYS THEN I WILL HEAR FROM HEAVEN AND I WILL FORGIVE THEIR SIN AND WILL HEAL THEIR LAND. BABIES BLOOD IS CRYING OUT FROM THE GROUND, FALSE ACCUSATIONS AGAINST THE PRESIDENT, DISRESPECT MEN WITH MEN WOMEN WITH WOMEN, FORNICATORS, FOWL MOUTHS...ETC A NEW GREEN DEAL WILL NOT HELP YOU, ONLY HUMILITY AND REPENTANCE WILL GOD HEAR. AMERICA IN GOD WE TRUST WE ARE THE PEOPLE CALLED BY HIS NAME. STOP KILLING OUR BABIES BAN ABORTION. WE NEED TO REPENT FROM OUR WICKED WAYS.   \n174481                                                                                                                                                                                                                                                                                                                                                                                    @user Lol I had to think about it for second myself. I guess she's asking why do we worry about how people feel about other races when black people are being asked about. As if we don't have the right to be defensive lol   \n143444                                                                                                                                                                                                                                                                                                                                                                                                                                                                                                RT @user: RT @user: \"I've met few people in politics that I disrespect more than Charlie Crist,\" --Rudy Giuliani   \n36573                                                                                                                                                                                                                                                                                                                                                                                                                                                                                                                         Lailat al Miraj mubarak to all Muslims.. I'm wishing for everyone's peace & prosperity🤲🏻   \n143938                                                                                                                                                                                                                                                                                                                                                                                                                                                                                                                                                                stupid teacher talks to @user like he's retarded   \n29222                                                                                                                                                                                                                                                                                                                                                                                                                                                                                                     I think queer folk should be left alone and the idea that homosexuality is inherently evil or bad is stupid.   \n111066                                                                                                                                                                                                                                                                   I don't care how threatened you feel, you can't go throwing respect for human rights and due process out the window and just blow a kid away to defend your shit. But this is america the free country founded on genocide and slavery where they hold people in prison camps for years without trial and property is worth more than life so   \n154250                                                                                                                                                                                                                                                                                                                                                                                              i need to be fucked so hard and long and rough that i cant even remember my own name. turn me into your brainless slut, nothing but a set of holes to use for your own pleasure whenever and wherever you want me.   \n45147                                                                                                                                                                                                                                                                                                                                                                                                                                                         AOC if you dont like America GO BACK TO YOUR COUNTRY!!!!! No one asked you to come here!!!!! And We as Americans DONT want your help or political views!   \n121804                                                                                                                                                                                                                                                                                                                                                                                                                                                                                                                     Fuck you fuck you you stupid cheating bitch go lick a dick and die ur a stupid nigger bitch   \n167853                                                                                                                                                                                                                                                                                                                                                     JEW Get the fuck out of here you jewish son of a bitch, I'll rape your fucking family if you don't leave you semite bastard. I will shoot you if you return, because you're a dirty semite, I hope you choke on a fucking bagel, prick. Shalom. We Came In?   \n40143                                                                                                                                                                                                                                                                                                                                                                                                                                                                                            I find beauty in all walks of life. I don't discriminate.  However, I have a very strong attraction to Spanish women.   \n96920                                                                                                                                                                                                                                                                                                                                                                                                                                                                                                                                                  Further proof that reddit is filled with mentally ill trannies.   \n99635                                                                                                                                                                                                                                                                                                                                                                                     Who in the world thinks recycling is gay? Like really. If you don't recycle because \"you are afraid of being labeled as gay\" then you are secretly homosexual and have been struggling with this torment your entire life...   \n156261                                                                                                                                                                                                                                                                                                                                                                                                                                                                         RT @user: You gotta fuck ugly bitches from 3 towns over that you'll never see again so you can work the kinks out of your sex ga&#8230;   \n83754                                                                                                                                                                                                                                                                                                                                                                                                                                                                                                                                                                            Epic games more like epic gays gottem   \n161768                                                                                                                                                                                                                                                                                                                                                                                                                                                                                                                         Hitler didn't finish it. Can u. If a nigger ur Jew confronts u in the street what then.   \n116418                                                                                                                                                                                                                                                                                                                                                                                                                                                                                                                                                         Every gook in #LosAngeles should be deported or killed.   \n156317                                                                                                                                                                                                                                                                                                                                                                                                                                                                                              Every slant in #LosAngeles should be deported. Those scum have no right to be here. Chinatown should be bulldozed.   \n102240                                                                                                                                                                                                                                                                                                                                                                                                                                                                                                 What's more ironic is that India is probably the only country in the world who weren't antisemitic to the Jews.   \n42270                                                                                                                                                                                                                                                                                                                                                                                                                                                                                                                                                                                          Including ya size hoe !   \n12083                                                                                                                                                                                                                                                                                                        @user @user @user Ilhan, either assimilate into the customs and cultures of Americans or remove yourself from office. Thus far, your actions show you're on a mission to impose Sharia law on America. Alert! We will not allow you to get us even the tiniest bit pregnant with Sharia. So stop it now!!   \n20329                                                                                                                                                                                                                                                                                                                                                                                                                                                            Other women might say \"men are trash\" every once and while, but it's a group of women on here, that speaks on Men doing them wrong tweet after tweet.   \n87773                                                                                                                                                                                                                                                                                                                                                                                                                                                                                                                                                      Black American singers back in the day were freakishly good   \n128707                                                                                                                                                                                                                                                                                                                                                                                                                                                                                                                                                      i hate jews so much i wish the holocaust actually happened   \n103230                                                                                                                                                                                                                                                                                                                                                                                                                                                                                                                                                                         Just get the caves devils out of israel   \n155217                                                                                                                                                                                                                                                                                                                                                                                                                                                                                                                                                                             @user tweetbot is a paid client. :P   \n98356                                                                                                                                                                                                                                                                                                                                                                                                                                                                                                                To Republicans, Christian = Southern Baptist. Any other kind of Christian isn't the \"right\" kind.   \n22267                                                                                                                                                                                                                                                                                                                                                                                                                                                        I THINK IRAN RELIGIOUS LEADERSHIP ARE POTENTIALLY \"BUNCH OF DUMMIES\" (ITSEEMS ALLEGEDLY THE 1979 HOSTAGE TAKER IS A MINISTER IN IRAN CABINET), GO FIGURE.   \n51910                                                                                                                                                                                                                                                                                                                                                                                                                                                                                                                                                                     It really ain't nothin to cut that bitch off   \n65029                                                                                                                                                                                                                                                                                                                                                                                                                                                                                        Why do so many filthy wetback half-breed spic savages live in #LosAngeles? None of them have any right at all to be here.   \n73212                                                                                                                                                                                                                                                                                                                                                                                                   Lol, I don't even know anyone who is Christian apart from my mother and grandmother. Be it my best friends, coworkers or my fiance.  Honestly, I don't see any problem with being friends with \"nonbelievers\".   \n59925                                                                                                                                                                                                                                                                                                                                                                                                                                                                                                                                                                                               @user @user *hugs*   \n170243                                                                                                                                                                                            Hey ,muslim dickhead !!!!!!!! Why don;t you go and shove Allah or whatever the fuck you call the retard up your stupid backwards ass !!!!!!!!! You fucking muslims are a bunch of jealous west hating mongs, Islam is a peaceful religion, BULLSHIT !!!!!!! There are many times when it refers to violence. So go strap on your suicide bomb and blow yourself up. yey, one less feeble minded prick ion the world.   \n50920                                                                                                                                                                                                                                                                                                          I wanna see the full clip. This dude is crazy, but I'm not gonna disregard the fact that it convieniently starts as soon as he's beginning to rage. I wanna see what he said that was degrading women in the beginning. He probably had a (somewhat) legitimate reason to be mad but it was edited out.   \n90151                                                                                                                                                                                                                                                                                                                                                                                                                                                                                                 Lmao holy shit, I can just imagine you stroking the three pubes on your chin as you posted that weak ass comment   \n70503                                                                                                                                                                                                                                                                                                                                                                                                                                                                                                                                                @user Where the Niggas that do that point me in they direction 😩😩   \n19826                                                                                                                                                                                                                                                                                                                          Neither u nor Corbyn give a toss about Palestinians. There they are being massacred in the 1000s by Corbyns mates Assad and Hizballah in Syria. Being subjected to gross apartheid in Lebanon Jordan and across Arab World. Where's ur outrage. Your boycotts No Jews no interest. Fool   \n22078                                                                                                                                                                                                                                                                                                                                                                                                                                                   Niggers and their liberal friends steal everything not tied down, just like the presidency here with acorn with its liberal defenders, FUCK YOU NIGGER OBOAMA!   \n103979                                                                                                                                                                                                                                                                                                                                                                                                                                                                                                 Toy soldiers from their militia and their IRG will burn to ash. Iran will go to the ash heaps of civilizations.   \n27049                                                                                                                                                                                                                                                                                                                                                                                                                                                                                 @user @user @user @user That is a very Christian conception of God. Jews believe that human beings work in partnership with God.   \n62860                                                                                                                                                                                                                                                                                                                                                                                                                                                                     every time i say i don't like someone, boxer, rapper, etc., everyone bitches their fucking heads off as if it changes my opinion. relax. no.   \n17368                                                                                                                                                                                                                                                                                                                                                                                       @user M Iran needs to work with the rest of us and stop making trouble, yes the Shaw was bad and they got rid of him. supporting terrorism is hostile and an act of war..call for Israel to be wiped out is very hostile..   \n67317                                                                                                                                                                                                                                                                                                                                                                                                                                                                                                                                                                     How fags cock looks while riding a dildo URL   \n111936                                                                                                                                                                                                                                                                                                                                                                                                                                                                                                                                                                        @user The toxic gasses belonged to ISIS.   \n9371                                                                                                                                                                                                                                                                                                                                                                                                                                                        The signs say oppose tommy, yet he is the only one who speaks up for them. The pakistani Muslims will rape their daughters and destroy the English people!   \n137611                                                                                                                                                                                                                                                                                                                                                                                                                                                         I will suck on yo clitoris and finger u at the same time eat yo pussy from the back let u ride my face to you cum and go home and post my bitch 🤷🏽‍♂️💯😭   \n174815                                                                                                                                                                                                                                                                                             Maybe because it's not at all a common occurrence. And minority rights is one of the few observable changes in Pakistan right now. I'm not going to lie and say it's great for minorities it's not but it is better now then a year ago and vastly different then a decade ago. It's moving in the right direction.   \n123061                                                                                                                                                                                                                                                                                                                                                                                                                                                                                                                    Another high point was a Hungarian calling me \"cheat fuck\" and \"cheat pussy\" for doing well.   \n\n        label  \\\n154771      0   \n131520      0   \n174481      0   \n143444      0   \n36573       0   \n143938      0   \n29222       0   \n111066      0   \n154250      1   \n45147       0   \n121804      1   \n167853      1   \n40143       0   \n96920       1   \n99635       0   \n156261      0   \n83754       0   \n161768      0   \n116418      1   \n156317      1   \n102240      0   \n42270       0   \n12083       1   \n20329       0   \n87773       0   \n128707      1   \n103230      1   \n155217      0   \n98356       0   \n22267       0   \n51910       0   \n65029       1   \n73212       0   \n59925       0   \n170243      1   \n50920       0   \n90151       0   \n70503       0   \n19826       0   \n22078       1   \n103979      0   \n27049       0   \n62860       0   \n17368       0   \n67317       0   \n111936      0   \n9371        0   \n137611      0   \n174815      0   \n123061      0   \n\n                                                                                                                                                                                                                                                                                                 tweet_cleaned  \\\n154771                                                                                                                                                                                                                                                                                         love enjoy tran   \n131520  warn call name humble pray seek face turn wicked way hear heaven forgive sin heal land baby blood cry ground false accusation president disrespect man man woman woman new green deal help humility repentance god hear america god trust call name stop kill baby ban abortion need repent wicked way   \n174481                                                                                                                                                                                                                  laugh Loud think second guess ask worry feel race black ask right defensive laugh Loud   \n143444                                                                                                                                                                                                                                          Retweet Retweet meet politic disrespect charlie crist giuliani   \n36573                                                                                                                                                                                                                           al mubarak muslim wish everyone peace prosperity palm together light skin tone   \n143938                                                                                                                                                                                                                                                                              stupid teacher talk retard   \n29222                                                                                                                                                                                                                               think queer folk leave alone idea homosexuality inherently evil bad stupid   \n111066                                                                                                                    care feel throw respect human right due process window blow kid away defend shit america free country found genocide slavery hold prison camp year without trial property worth life   \n154250                                                                                                                                                                                        need hard long rough even remember name turn brainless slut nothing set hole use pleasure whenever wherever want   \n45147                                                                                                                                                                                                                                 aoc america back country one ask come americans want help political view   \n121804                                                                                                                                                                                                                                                                stupid cheat lick dick die stupid nigger   \n167853                                                                                                                                                                        jew jewish son ill rape fucking family leave semite bastard shoot return dirty semite hope choke fucking bagel prick shalom come   \n40143                                                                                                                                                                                                                               find beauty walk life discriminate however strong attraction spanish woman   \n96920                                                                                                                                                                                                                                                                   proof reddit fill mentally ill trannie   \n99635                                                                                                                                                                                               world think recycling gay really recycle afraid label gay secretly homosexual struggle torment entire life   \n156261                                                                                                                                                                                                                                                                    ugly town never see work kink sex ga   \n83754                                                                                                                                                                                                                                                                                epic game epic gay gottem   \n161768                                                                                                                                                                                                                                                              hitler finish u nigger jew confront street   \n116418                                                                                                                                                                                                                                                                        every gook losangele deport kill   \n156317                                                                                                                                                                                                                                              every slant losangele deport scum right chinatown bulldoze   \n102240                                                                                                                                                                                                                                                    ironic india probably country world antisemitic jews   \n42270                                                                                                                                                                                                                                                                                      include ya size hoe   \n12083                                                                                                                                     ilhan either assimilate custom culture americans remove office thus far action show mission impose sharia law america alert allow even tiny bit pregnant sharia stop   \n20329                                                                                                                                                                                                                                  woman might say man trash every group woman speak man wrong tweet tweet   \n87773                                                                                                                                                                                                                                                                      black american singer back day good   \n128707                                                                                                                                                                                                                                                           hate jews much wish holocaust actually happen   \n103230                                                                                                                                                                                                                                                                                       cave devil israel   \n155217                                                                                                                                                                                                                                                                                      pay client playful   \n98356                                                                                                                                                                                                                                       republicans christian = southern baptist kind christian right kind   \n22267                                                                                                                                                                                               think iran religious leadership potentially bunch dummy ( allegedly hostage minister iran cabinet ) figure   \n51910                                                                                                                                                                                                                                                                                        really nothin cut   \n65029                                                                                                                                                                                                                                   many filthy wetback half - breed spic savage live losangele none right   \n73212                                                                                                                                                                                                 lol even know anyone christian apart mother grandmother good friend coworker honestly see problem friend   \n59925                                                                                                                                                                                                                                                                                                  * hug *   \n170243                                                    hey muslim dickhead don;t shove allah whatever call retard stupid backwards ass fucking muslim bunch jealous west hate mong islam peaceful religion bullshit many time refer violence strap suicide bomb blow one less feeble minded prick ion world   \n50920                                                                                                                                               wanna see full clip dude crazy disregard fact start soon begin rage wanna see say degrade woman beginning probably ( somewhat ) legitimate reason mad edit   \n90151                                                                                                                                                                                                                                laugh * * holy shit imagine stroke three pubis chin post weak ass comment   \n70503                                                                                                                                                                                                                                                             niggas point direction weary face weary face   \n19826                                                                                                                                                      neither corbyn give toss palestinians massacre mate assad syria subject gross apartheid lebanon jordan across arab world outrage jews interest fool   \n22078                                                                                                                                                                                                                        nigger liberal friend steal everything tie presidency acorn liberal defender nigg   \n103979                                                                                                                                                                                                                                                 toy soldier militia burn ash iran ash heap civilization   \n27049                                                                                                                                                                                                                                         christian conception god jews believe human work partnership god   \n62860                                                                                                                                                                                                                       every time say someone boxer rapper etc everyone fucking head change opinion relax   \n17368                                                                                                                                                                                                      iran need work rest stop make trouble yes bad rid support terrorism hostile act israel wipe hostile   \n67317                                                                                                                                                                                                                                                                                 fag cock look ride dildo   \n111936                                                                                                                                                                                                                                                                                   toxic gas belong isis   \n9371                                                                                                                                                                                                                        sign say oppose tommy yet one speak pakistani muslim rape daughter destroy english   \n137611                                                                                                                                                                     suck yo clitoris finger time eat yo pussy back let ride face cum home post man shrug medium skin tone hundred point loudly cry face   \n174815                                                                                                                                                             maybe common minority right one change pakistan right lie say great minority well year ago vastly different decade ago move right direction   \n123061                                                                                                                                                                                                                                                another high point hungarian call cheat cheat pussy well   \n\n        user_handle       hashtags  \\\n154771            0             []   \n131520            0             []   \n174481            1             []   \n143444            2             []   \n36573             0             []   \n143938            1             []   \n29222             0             []   \n111066            0             []   \n154250            0             []   \n45147             0             []   \n121804            0             []   \n167853            0             []   \n40143             0             []   \n96920             0             []   \n99635             0             []   \n156261            1        [#8230]   \n83754             0             []   \n161768            0             []   \n116418            0  [#losangeles]   \n156317            0  [#losangeles]   \n102240            0             []   \n42270             0             []   \n12083             3             []   \n20329             0             []   \n87773             0             []   \n128707            0             []   \n103230            0             []   \n155217            1             []   \n98356             0             []   \n22267             0             []   \n51910             0             []   \n65029             0  [#losangeles]   \n73212             0             []   \n59925             2             []   \n170243            0             []   \n50920             0             []   \n90151             0             []   \n70503             1             []   \n19826             0             []   \n22078             0             []   \n103979            0             []   \n27049             4             []   \n62860             0             []   \n17368             1             []   \n67317             0             []   \n111936            1             []   \n9371              0             []   \n137611            0             []   \n174815            0             []   \n123061            0             []   \n\n                                                                                         emojis  \n154771                                                                                           \n131520                                                                                           \n174481                                                                                           \n143444                                                                                           \n36573                                                     :palms_up_together:,:light_skin_tone:  \n143938                                                                                           \n29222                                                                                            \n111066                                                                                           \n154250                                                                                           \n45147                                                                                            \n121804                                                                                           \n167853                                                                                           \n40143                                                                                            \n96920                                                                                            \n99635                                                                                            \n156261                                                                                           \n83754                                                                                            \n161768                                                                                           \n116418                                                                                           \n156317                                                                                           \n102240                                                                                           \n42270                                                                                            \n12083                                                                                            \n20329                                                                                            \n87773                                                                                            \n128707                                                                                           \n103230                                                                                           \n155217                                                                                           \n98356                                                                                            \n22267                                                                                            \n51910                                                                                            \n65029                                                                                            \n73212                                                                                            \n59925                                                                                            \n170243                                                                                           \n50920                                                                                            \n90151                                                                                            \n70503                                                                 :weary_face:,:weary_face:  \n19826                                                                                            \n22078                                                                                            \n103979                                                                                           \n27049                                                                                            \n62860                                                                                            \n17368                                                                                            \n67317                                                                                            \n111936                                                                                           \n9371                                                                                             \n137611  :person_shrugging:,:medium_skin_tone:,:male_sign:,:hundred_points:,:loudly_crying_face:  \n174815                                                                                           \n123061                                                                                           ",
      "text/html": "<div>\n<style scoped>\n    .dataframe tbody tr th:only-of-type {\n        vertical-align: middle;\n    }\n\n    .dataframe tbody tr th {\n        vertical-align: top;\n    }\n\n    .dataframe thead th {\n        text-align: right;\n    }\n</style>\n<table border=\"1\" class=\"dataframe\">\n  <thead>\n    <tr style=\"text-align: right;\">\n      <th></th>\n      <th>tweet</th>\n      <th>label</th>\n      <th>tweet_cleaned</th>\n      <th>user_handle</th>\n      <th>hashtags</th>\n      <th>emojis</th>\n    </tr>\n  </thead>\n  <tbody>\n    <tr>\n      <th>154771</th>\n      <td>I love that you enjoy being trans.</td>\n      <td>0</td>\n      <td>love enjoy tran</td>\n      <td>0</td>\n      <td>[]</td>\n      <td></td>\n    </tr>\n    <tr>\n      <th>131520</th>\n      <td>WARNING: IF MY PEOPLE WHO ARE CALLED BY MY NAME WILL HUMBLE THEMSELVES AND PRAY AND SEEK MY FACE AND TURN FROM THEIR WICKED WAYS THEN I WILL HEAR FROM HEAVEN AND I WILL FORGIVE THEIR SIN AND WILL HEAL THEIR LAND. BABIES BLOOD IS CRYING OUT FROM THE GROUND, FALSE ACCUSATIONS AGAINST THE PRESIDENT, DISRESPECT MEN WITH MEN WOMEN WITH WOMEN, FORNICATORS, FOWL MOUTHS...ETC A NEW GREEN DEAL WILL NOT HELP YOU, ONLY HUMILITY AND REPENTANCE WILL GOD HEAR. AMERICA IN GOD WE TRUST WE ARE THE PEOPLE CALLED BY HIS NAME. STOP KILLING OUR BABIES BAN ABORTION. WE NEED TO REPENT FROM OUR WICKED WAYS.</td>\n      <td>0</td>\n      <td>warn call name humble pray seek face turn wicked way hear heaven forgive sin heal land baby blood cry ground false accusation president disrespect man man woman woman new green deal help humility repentance god hear america god trust call name stop kill baby ban abortion need repent wicked way</td>\n      <td>0</td>\n      <td>[]</td>\n      <td></td>\n    </tr>\n    <tr>\n      <th>174481</th>\n      <td>@user Lol I had to think about it for second myself. I guess she's asking why do we worry about how people feel about other races when black people are being asked about. As if we don't have the right to be defensive lol</td>\n      <td>0</td>\n      <td>laugh Loud think second guess ask worry feel race black ask right defensive laugh Loud</td>\n      <td>1</td>\n      <td>[]</td>\n      <td></td>\n    </tr>\n    <tr>\n      <th>143444</th>\n      <td>RT @user: RT @user: \"I've met few people in politics that I disrespect more than Charlie Crist,\" --Rudy Giuliani</td>\n      <td>0</td>\n      <td>Retweet Retweet meet politic disrespect charlie crist giuliani</td>\n      <td>2</td>\n      <td>[]</td>\n      <td></td>\n    </tr>\n    <tr>\n      <th>36573</th>\n      <td>Lailat al Miraj mubarak to all Muslims.. I'm wishing for everyone's peace &amp; prosperity🤲🏻</td>\n      <td>0</td>\n      <td>al mubarak muslim wish everyone peace prosperity palm together light skin tone</td>\n      <td>0</td>\n      <td>[]</td>\n      <td>:palms_up_together:,:light_skin_tone:</td>\n    </tr>\n    <tr>\n      <th>143938</th>\n      <td>stupid teacher talks to @user like he's retarded</td>\n      <td>0</td>\n      <td>stupid teacher talk retard</td>\n      <td>1</td>\n      <td>[]</td>\n      <td></td>\n    </tr>\n    <tr>\n      <th>29222</th>\n      <td>I think queer folk should be left alone and the idea that homosexuality is inherently evil or bad is stupid.</td>\n      <td>0</td>\n      <td>think queer folk leave alone idea homosexuality inherently evil bad stupid</td>\n      <td>0</td>\n      <td>[]</td>\n      <td></td>\n    </tr>\n    <tr>\n      <th>111066</th>\n      <td>I don't care how threatened you feel, you can't go throwing respect for human rights and due process out the window and just blow a kid away to defend your shit. But this is america the free country founded on genocide and slavery where they hold people in prison camps for years without trial and property is worth more than life so</td>\n      <td>0</td>\n      <td>care feel throw respect human right due process window blow kid away defend shit america free country found genocide slavery hold prison camp year without trial property worth life</td>\n      <td>0</td>\n      <td>[]</td>\n      <td></td>\n    </tr>\n    <tr>\n      <th>154250</th>\n      <td>i need to be fucked so hard and long and rough that i cant even remember my own name. turn me into your brainless slut, nothing but a set of holes to use for your own pleasure whenever and wherever you want me.</td>\n      <td>1</td>\n      <td>need hard long rough even remember name turn brainless slut nothing set hole use pleasure whenever wherever want</td>\n      <td>0</td>\n      <td>[]</td>\n      <td></td>\n    </tr>\n    <tr>\n      <th>45147</th>\n      <td>AOC if you dont like America GO BACK TO YOUR COUNTRY!!!!! No one asked you to come here!!!!! And We as Americans DONT want your help or political views!</td>\n      <td>0</td>\n      <td>aoc america back country one ask come americans want help political view</td>\n      <td>0</td>\n      <td>[]</td>\n      <td></td>\n    </tr>\n    <tr>\n      <th>121804</th>\n      <td>Fuck you fuck you you stupid cheating bitch go lick a dick and die ur a stupid nigger bitch</td>\n      <td>1</td>\n      <td>stupid cheat lick dick die stupid nigger</td>\n      <td>0</td>\n      <td>[]</td>\n      <td></td>\n    </tr>\n    <tr>\n      <th>167853</th>\n      <td>JEW Get the fuck out of here you jewish son of a bitch, I'll rape your fucking family if you don't leave you semite bastard. I will shoot you if you return, because you're a dirty semite, I hope you choke on a fucking bagel, prick. Shalom. We Came In?</td>\n      <td>1</td>\n      <td>jew jewish son ill rape fucking family leave semite bastard shoot return dirty semite hope choke fucking bagel prick shalom come</td>\n      <td>0</td>\n      <td>[]</td>\n      <td></td>\n    </tr>\n    <tr>\n      <th>40143</th>\n      <td>I find beauty in all walks of life. I don't discriminate.  However, I have a very strong attraction to Spanish women.</td>\n      <td>0</td>\n      <td>find beauty walk life discriminate however strong attraction spanish woman</td>\n      <td>0</td>\n      <td>[]</td>\n      <td></td>\n    </tr>\n    <tr>\n      <th>96920</th>\n      <td>Further proof that reddit is filled with mentally ill trannies.</td>\n      <td>1</td>\n      <td>proof reddit fill mentally ill trannie</td>\n      <td>0</td>\n      <td>[]</td>\n      <td></td>\n    </tr>\n    <tr>\n      <th>99635</th>\n      <td>Who in the world thinks recycling is gay? Like really. If you don't recycle because \"you are afraid of being labeled as gay\" then you are secretly homosexual and have been struggling with this torment your entire life...</td>\n      <td>0</td>\n      <td>world think recycling gay really recycle afraid label gay secretly homosexual struggle torment entire life</td>\n      <td>0</td>\n      <td>[]</td>\n      <td></td>\n    </tr>\n    <tr>\n      <th>156261</th>\n      <td>RT @user: You gotta fuck ugly bitches from 3 towns over that you'll never see again so you can work the kinks out of your sex ga&amp;#8230;</td>\n      <td>0</td>\n      <td>ugly town never see work kink sex ga</td>\n      <td>1</td>\n      <td>[#8230]</td>\n      <td></td>\n    </tr>\n    <tr>\n      <th>83754</th>\n      <td>Epic games more like epic gays gottem</td>\n      <td>0</td>\n      <td>epic game epic gay gottem</td>\n      <td>0</td>\n      <td>[]</td>\n      <td></td>\n    </tr>\n    <tr>\n      <th>161768</th>\n      <td>Hitler didn't finish it. Can u. If a nigger ur Jew confronts u in the street what then.</td>\n      <td>0</td>\n      <td>hitler finish u nigger jew confront street</td>\n      <td>0</td>\n      <td>[]</td>\n      <td></td>\n    </tr>\n    <tr>\n      <th>116418</th>\n      <td>Every gook in #LosAngeles should be deported or killed.</td>\n      <td>1</td>\n      <td>every gook losangele deport kill</td>\n      <td>0</td>\n      <td>[#losangeles]</td>\n      <td></td>\n    </tr>\n    <tr>\n      <th>156317</th>\n      <td>Every slant in #LosAngeles should be deported. Those scum have no right to be here. Chinatown should be bulldozed.</td>\n      <td>1</td>\n      <td>every slant losangele deport scum right chinatown bulldoze</td>\n      <td>0</td>\n      <td>[#losangeles]</td>\n      <td></td>\n    </tr>\n    <tr>\n      <th>102240</th>\n      <td>What's more ironic is that India is probably the only country in the world who weren't antisemitic to the Jews.</td>\n      <td>0</td>\n      <td>ironic india probably country world antisemitic jews</td>\n      <td>0</td>\n      <td>[]</td>\n      <td></td>\n    </tr>\n    <tr>\n      <th>42270</th>\n      <td>Including ya size hoe !</td>\n      <td>0</td>\n      <td>include ya size hoe</td>\n      <td>0</td>\n      <td>[]</td>\n      <td></td>\n    </tr>\n    <tr>\n      <th>12083</th>\n      <td>@user @user @user Ilhan, either assimilate into the customs and cultures of Americans or remove yourself from office. Thus far, your actions show you're on a mission to impose Sharia law on America. Alert! We will not allow you to get us even the tiniest bit pregnant with Sharia. So stop it now!!</td>\n      <td>1</td>\n      <td>ilhan either assimilate custom culture americans remove office thus far action show mission impose sharia law america alert allow even tiny bit pregnant sharia stop</td>\n      <td>3</td>\n      <td>[]</td>\n      <td></td>\n    </tr>\n    <tr>\n      <th>20329</th>\n      <td>Other women might say \"men are trash\" every once and while, but it's a group of women on here, that speaks on Men doing them wrong tweet after tweet.</td>\n      <td>0</td>\n      <td>woman might say man trash every group woman speak man wrong tweet tweet</td>\n      <td>0</td>\n      <td>[]</td>\n      <td></td>\n    </tr>\n    <tr>\n      <th>87773</th>\n      <td>Black American singers back in the day were freakishly good</td>\n      <td>0</td>\n      <td>black american singer back day good</td>\n      <td>0</td>\n      <td>[]</td>\n      <td></td>\n    </tr>\n    <tr>\n      <th>128707</th>\n      <td>i hate jews so much i wish the holocaust actually happened</td>\n      <td>1</td>\n      <td>hate jews much wish holocaust actually happen</td>\n      <td>0</td>\n      <td>[]</td>\n      <td></td>\n    </tr>\n    <tr>\n      <th>103230</th>\n      <td>Just get the caves devils out of israel</td>\n      <td>1</td>\n      <td>cave devil israel</td>\n      <td>0</td>\n      <td>[]</td>\n      <td></td>\n    </tr>\n    <tr>\n      <th>155217</th>\n      <td>@user tweetbot is a paid client. :P</td>\n      <td>0</td>\n      <td>pay client playful</td>\n      <td>1</td>\n      <td>[]</td>\n      <td></td>\n    </tr>\n    <tr>\n      <th>98356</th>\n      <td>To Republicans, Christian = Southern Baptist. Any other kind of Christian isn't the \"right\" kind.</td>\n      <td>0</td>\n      <td>republicans christian = southern baptist kind christian right kind</td>\n      <td>0</td>\n      <td>[]</td>\n      <td></td>\n    </tr>\n    <tr>\n      <th>22267</th>\n      <td>I THINK IRAN RELIGIOUS LEADERSHIP ARE POTENTIALLY \"BUNCH OF DUMMIES\" (ITSEEMS ALLEGEDLY THE 1979 HOSTAGE TAKER IS A MINISTER IN IRAN CABINET), GO FIGURE.</td>\n      <td>0</td>\n      <td>think iran religious leadership potentially bunch dummy ( allegedly hostage minister iran cabinet ) figure</td>\n      <td>0</td>\n      <td>[]</td>\n      <td></td>\n    </tr>\n    <tr>\n      <th>51910</th>\n      <td>It really ain't nothin to cut that bitch off</td>\n      <td>0</td>\n      <td>really nothin cut</td>\n      <td>0</td>\n      <td>[]</td>\n      <td></td>\n    </tr>\n    <tr>\n      <th>65029</th>\n      <td>Why do so many filthy wetback half-breed spic savages live in #LosAngeles? None of them have any right at all to be here.</td>\n      <td>1</td>\n      <td>many filthy wetback half - breed spic savage live losangele none right</td>\n      <td>0</td>\n      <td>[#losangeles]</td>\n      <td></td>\n    </tr>\n    <tr>\n      <th>73212</th>\n      <td>Lol, I don't even know anyone who is Christian apart from my mother and grandmother. Be it my best friends, coworkers or my fiance.  Honestly, I don't see any problem with being friends with \"nonbelievers\".</td>\n      <td>0</td>\n      <td>lol even know anyone christian apart mother grandmother good friend coworker honestly see problem friend</td>\n      <td>0</td>\n      <td>[]</td>\n      <td></td>\n    </tr>\n    <tr>\n      <th>59925</th>\n      <td>@user @user *hugs*</td>\n      <td>0</td>\n      <td>* hug *</td>\n      <td>2</td>\n      <td>[]</td>\n      <td></td>\n    </tr>\n    <tr>\n      <th>170243</th>\n      <td>Hey ,muslim dickhead !!!!!!!! Why don;t you go and shove Allah or whatever the fuck you call the retard up your stupid backwards ass !!!!!!!!! You fucking muslims are a bunch of jealous west hating mongs, Islam is a peaceful religion, BULLSHIT !!!!!!! There are many times when it refers to violence. So go strap on your suicide bomb and blow yourself up. yey, one less feeble minded prick ion the world.</td>\n      <td>1</td>\n      <td>hey muslim dickhead don;t shove allah whatever call retard stupid backwards ass fucking muslim bunch jealous west hate mong islam peaceful religion bullshit many time refer violence strap suicide bomb blow one less feeble minded prick ion world</td>\n      <td>0</td>\n      <td>[]</td>\n      <td></td>\n    </tr>\n    <tr>\n      <th>50920</th>\n      <td>I wanna see the full clip. This dude is crazy, but I'm not gonna disregard the fact that it convieniently starts as soon as he's beginning to rage. I wanna see what he said that was degrading women in the beginning. He probably had a (somewhat) legitimate reason to be mad but it was edited out.</td>\n      <td>0</td>\n      <td>wanna see full clip dude crazy disregard fact start soon begin rage wanna see say degrade woman beginning probably ( somewhat ) legitimate reason mad edit</td>\n      <td>0</td>\n      <td>[]</td>\n      <td></td>\n    </tr>\n    <tr>\n      <th>90151</th>\n      <td>Lmao holy shit, I can just imagine you stroking the three pubes on your chin as you posted that weak ass comment</td>\n      <td>0</td>\n      <td>laugh * * holy shit imagine stroke three pubis chin post weak ass comment</td>\n      <td>0</td>\n      <td>[]</td>\n      <td></td>\n    </tr>\n    <tr>\n      <th>70503</th>\n      <td>@user Where the Niggas that do that point me in they direction 😩😩</td>\n      <td>0</td>\n      <td>niggas point direction weary face weary face</td>\n      <td>1</td>\n      <td>[]</td>\n      <td>:weary_face:,:weary_face:</td>\n    </tr>\n    <tr>\n      <th>19826</th>\n      <td>Neither u nor Corbyn give a toss about Palestinians. There they are being massacred in the 1000s by Corbyns mates Assad and Hizballah in Syria. Being subjected to gross apartheid in Lebanon Jordan and across Arab World. Where's ur outrage. Your boycotts No Jews no interest. Fool</td>\n      <td>0</td>\n      <td>neither corbyn give toss palestinians massacre mate assad syria subject gross apartheid lebanon jordan across arab world outrage jews interest fool</td>\n      <td>0</td>\n      <td>[]</td>\n      <td></td>\n    </tr>\n    <tr>\n      <th>22078</th>\n      <td>Niggers and their liberal friends steal everything not tied down, just like the presidency here with acorn with its liberal defenders, FUCK YOU NIGGER OBOAMA!</td>\n      <td>1</td>\n      <td>nigger liberal friend steal everything tie presidency acorn liberal defender nigg</td>\n      <td>0</td>\n      <td>[]</td>\n      <td></td>\n    </tr>\n    <tr>\n      <th>103979</th>\n      <td>Toy soldiers from their militia and their IRG will burn to ash. Iran will go to the ash heaps of civilizations.</td>\n      <td>0</td>\n      <td>toy soldier militia burn ash iran ash heap civilization</td>\n      <td>0</td>\n      <td>[]</td>\n      <td></td>\n    </tr>\n    <tr>\n      <th>27049</th>\n      <td>@user @user @user @user That is a very Christian conception of God. Jews believe that human beings work in partnership with God.</td>\n      <td>0</td>\n      <td>christian conception god jews believe human work partnership god</td>\n      <td>4</td>\n      <td>[]</td>\n      <td></td>\n    </tr>\n    <tr>\n      <th>62860</th>\n      <td>every time i say i don't like someone, boxer, rapper, etc., everyone bitches their fucking heads off as if it changes my opinion. relax. no.</td>\n      <td>0</td>\n      <td>every time say someone boxer rapper etc everyone fucking head change opinion relax</td>\n      <td>0</td>\n      <td>[]</td>\n      <td></td>\n    </tr>\n    <tr>\n      <th>17368</th>\n      <td>@user M Iran needs to work with the rest of us and stop making trouble, yes the Shaw was bad and they got rid of him. supporting terrorism is hostile and an act of war..call for Israel to be wiped out is very hostile..</td>\n      <td>0</td>\n      <td>iran need work rest stop make trouble yes bad rid support terrorism hostile act israel wipe hostile</td>\n      <td>1</td>\n      <td>[]</td>\n      <td></td>\n    </tr>\n    <tr>\n      <th>67317</th>\n      <td>How fags cock looks while riding a dildo URL</td>\n      <td>0</td>\n      <td>fag cock look ride dildo</td>\n      <td>0</td>\n      <td>[]</td>\n      <td></td>\n    </tr>\n    <tr>\n      <th>111936</th>\n      <td>@user The toxic gasses belonged to ISIS.</td>\n      <td>0</td>\n      <td>toxic gas belong isis</td>\n      <td>1</td>\n      <td>[]</td>\n      <td></td>\n    </tr>\n    <tr>\n      <th>9371</th>\n      <td>The signs say oppose tommy, yet he is the only one who speaks up for them. The pakistani Muslims will rape their daughters and destroy the English people!</td>\n      <td>0</td>\n      <td>sign say oppose tommy yet one speak pakistani muslim rape daughter destroy english</td>\n      <td>0</td>\n      <td>[]</td>\n      <td></td>\n    </tr>\n    <tr>\n      <th>137611</th>\n      <td>I will suck on yo clitoris and finger u at the same time eat yo pussy from the back let u ride my face to you cum and go home and post my bitch 🤷🏽‍♂️💯😭</td>\n      <td>0</td>\n      <td>suck yo clitoris finger time eat yo pussy back let ride face cum home post man shrug medium skin tone hundred point loudly cry face</td>\n      <td>0</td>\n      <td>[]</td>\n      <td>:person_shrugging:,:medium_skin_tone:,:male_sign:,:hundred_points:,:loudly_crying_face:</td>\n    </tr>\n    <tr>\n      <th>174815</th>\n      <td>Maybe because it's not at all a common occurrence. And minority rights is one of the few observable changes in Pakistan right now. I'm not going to lie and say it's great for minorities it's not but it is better now then a year ago and vastly different then a decade ago. It's moving in the right direction.</td>\n      <td>0</td>\n      <td>maybe common minority right one change pakistan right lie say great minority well year ago vastly different decade ago move right direction</td>\n      <td>0</td>\n      <td>[]</td>\n      <td></td>\n    </tr>\n    <tr>\n      <th>123061</th>\n      <td>Another high point was a Hungarian calling me \"cheat fuck\" and \"cheat pussy\" for doing well.</td>\n      <td>0</td>\n      <td>another high point hungarian call cheat cheat pussy well</td>\n      <td>0</td>\n      <td>[]</td>\n      <td></td>\n    </tr>\n  </tbody>\n</table>\n</div>"
     },
     "execution_count": 12,
     "metadata": {},
     "output_type": "execute_result"
    }
   ],
   "source": [
    "df_cleaned_train.head(50)"
   ],
   "metadata": {
    "collapsed": false,
    "ExecuteTime": {
     "end_time": "2024-12-06T16:38:37.689448900Z",
     "start_time": "2024-12-06T16:38:37.599597300Z"
    }
   }
  },
  {
   "cell_type": "code",
   "execution_count": 13,
   "outputs": [],
   "source": [
    "df_cleaned_train.to_csv('new_datasets/train_cleaned.csv')"
   ],
   "metadata": {
    "collapsed": false,
    "ExecuteTime": {
     "end_time": "2024-12-06T16:38:38.219430400Z",
     "start_time": "2024-12-06T16:38:37.669498Z"
    }
   }
  },
  {
   "cell_type": "markdown",
   "source": [
    "##### Geeignet für: Deep Learning (RNN)\n",
    "es werden nicht alle implementierten Cleaning und Preprocessing Schritte ausgeführt\n",
    "\n",
    "NICHT: Auflösen Negationen (nicht implementiert), Emojis Entfernen, Lemmatisierung, Stopwords entfernen, Most/Least frequent words entfernen"
   ],
   "metadata": {
    "collapsed": false
   }
  },
  {
   "cell_type": "code",
   "execution_count": 14,
   "outputs": [],
   "source": [
    "df_origin_train_rnn = pd.read_csv('new_datasets/train.csv', index_col=0)\n",
    "df_clean_base_train_rnn = df_origin_train_rnn.copy()"
   ],
   "metadata": {
    "collapsed": false,
    "ExecuteTime": {
     "end_time": "2024-12-06T16:38:38.532600100Z",
     "start_time": "2024-12-06T16:38:38.224456900Z"
    }
   }
  },
  {
   "cell_type": "code",
   "execution_count": 15,
   "outputs": [
    {
     "name": "stdout",
     "output_type": "stream",
     "text": [
      "Start Cleaning\n",
      "--- Cleaning Step 1/21: to_lowercase\n",
      "--- Cleaning Step 2/21: expand_shortcuts\n",
      "--- Cleaning Step 3/21: remove_negations - SKIP (not implemented)\n",
      "--- Cleaning Step 4/21: handle_userhandles\n",
      "--- Cleaning Step 5/21: handle_hashtags\n",
      "--- Cleaning Step 6/21: segment_tweets - SKIP\n",
      "--- Cleaning Step 7/21: extract_emojis\n",
      "--- Cleaning Step 8/21: replace_emojis\n",
      "--- Cleaning Step 9/21: replace_smileys\n",
      "--- Cleaning Step 10/21: remove_emojis - SKIP\n",
      "--- Cleaning Step 11/21: remove_url_from_tweet\n",
      "--- Cleaning Step 12/21: remove_punctuation\n",
      "--- Cleaning Step 13/21: remove_special_characters\n",
      "--- Cleaning Step 14/21: remove_digis\n",
      "--- Cleaning Step 15/21: remove_word_from_column: amp\n",
      "--- Cleaning Step 16/21: lemmatize - SKIP\n",
      "--- Cleaning Step 17/21: remove_stop_words - SKIP\n",
      "--- Cleaning Step 18/21: remove_most_frequent_words - SKIP\n",
      "--- Cleaning Step 19/21: remove_least_frequent_words - SKIP\n",
      "--- Cleaning Step 20/21: remove_duplicates\n",
      "--- Cleaning Step 21/21: remove_nans\n",
      "All Cleaning done\n"
     ]
    }
   ],
   "source": [
    "df_cleaned_train_rnn = clean_dataframe(df_clean_base_train_rnn, \"tweet\", False, True, True)"
   ],
   "metadata": {
    "collapsed": false,
    "ExecuteTime": {
     "end_time": "2024-12-06T16:39:08.984783100Z",
     "start_time": "2024-12-06T16:38:38.529436300Z"
    }
   }
  },
  {
   "cell_type": "code",
   "execution_count": 16,
   "outputs": [
    {
     "data": {
      "text/plain": "                                                                                                                                                                                                                                                                                                                                                                                                                                                                                                                                                                                                                 tweet  \\\n154771                                                                                                                                                                                                                                                                                                                                                                                                                                                                                                                                                                              I love that you enjoy being trans.   \n131520  WARNING: IF MY PEOPLE WHO ARE CALLED BY MY NAME WILL HUMBLE THEMSELVES AND PRAY AND SEEK MY FACE AND TURN FROM THEIR WICKED WAYS THEN I WILL HEAR FROM HEAVEN AND I WILL FORGIVE THEIR SIN AND WILL HEAL THEIR LAND. BABIES BLOOD IS CRYING OUT FROM THE GROUND, FALSE ACCUSATIONS AGAINST THE PRESIDENT, DISRESPECT MEN WITH MEN WOMEN WITH WOMEN, FORNICATORS, FOWL MOUTHS...ETC A NEW GREEN DEAL WILL NOT HELP YOU, ONLY HUMILITY AND REPENTANCE WILL GOD HEAR. AMERICA IN GOD WE TRUST WE ARE THE PEOPLE CALLED BY HIS NAME. STOP KILLING OUR BABIES BAN ABORTION. WE NEED TO REPENT FROM OUR WICKED WAYS.   \n174481                                                                                                                                                                                                                                                                                                                                                                                    @user Lol I had to think about it for second myself. I guess she's asking why do we worry about how people feel about other races when black people are being asked about. As if we don't have the right to be defensive lol   \n143444                                                                                                                                                                                                                                                                                                                                                                                                                                                                                                RT @user: RT @user: \"I've met few people in politics that I disrespect more than Charlie Crist,\" --Rudy Giuliani   \n36573                                                                                                                                                                                                                                                                                                                                                                                                                                                                                                                         Lailat al Miraj mubarak to all Muslims.. I'm wishing for everyone's peace & prosperity🤲🏻   \n\n        label  \\\n154771      0   \n131520      0   \n174481      0   \n143444      0   \n36573       0   \n\n                                                                                                                                                                                                                                                                                                                                                                                                                                                                                                                                                                                           tweet_cleaned  \\\n154771                                                                                                                                                                                                                                                                                                                                                                                                                                                                                                                                                                 i love that you enjoy being trans   \n131520  warning if my people who are called by my name will humble themselves and pray and seek my face and turn from their wicked ways then i will hear from heaven and i will forgive their sin and will heal their land babies blood is crying out from the ground false accusations against the president disrespect men with men women with women fornicators fowl mouthsetc a new green deal will not help you only humility and repentance will god hear america in god we trust we are the people called by his name stop killing our babies ban abortion we need to repent from our wicked ways   \n174481                                                                                                                                                                                                                                                                                                                                                Laughing Out Loud i had to think about it for second myself i guess she is asking why do we worry about how people feel about other races when black people are being asked about as if we do not have the right to be defensive Laughing Out Loud   \n143444                                                                                                                                                                                                                                                                                                                                                                                                                                                                                      Retweet  Retweet  \"ive met few people in politics that i disrespect more than charlie crist\" --rudy giuliani   \n36573                                                                                                                                                                                                                                                                                                                                                                                                                                                                              lailat al miraj mubarak to all muslims i am wishing for everyones peace  prosperity palms up together light skin tone   \n\n        user_handle hashtags                                 emojis  \n154771            0       []                                         \n131520            0       []                                         \n174481            1       []                                         \n143444            2       []                                         \n36573             0       []  :palms_up_together:,:light_skin_tone:  ",
      "text/html": "<div>\n<style scoped>\n    .dataframe tbody tr th:only-of-type {\n        vertical-align: middle;\n    }\n\n    .dataframe tbody tr th {\n        vertical-align: top;\n    }\n\n    .dataframe thead th {\n        text-align: right;\n    }\n</style>\n<table border=\"1\" class=\"dataframe\">\n  <thead>\n    <tr style=\"text-align: right;\">\n      <th></th>\n      <th>tweet</th>\n      <th>label</th>\n      <th>tweet_cleaned</th>\n      <th>user_handle</th>\n      <th>hashtags</th>\n      <th>emojis</th>\n    </tr>\n  </thead>\n  <tbody>\n    <tr>\n      <th>154771</th>\n      <td>I love that you enjoy being trans.</td>\n      <td>0</td>\n      <td>i love that you enjoy being trans</td>\n      <td>0</td>\n      <td>[]</td>\n      <td></td>\n    </tr>\n    <tr>\n      <th>131520</th>\n      <td>WARNING: IF MY PEOPLE WHO ARE CALLED BY MY NAME WILL HUMBLE THEMSELVES AND PRAY AND SEEK MY FACE AND TURN FROM THEIR WICKED WAYS THEN I WILL HEAR FROM HEAVEN AND I WILL FORGIVE THEIR SIN AND WILL HEAL THEIR LAND. BABIES BLOOD IS CRYING OUT FROM THE GROUND, FALSE ACCUSATIONS AGAINST THE PRESIDENT, DISRESPECT MEN WITH MEN WOMEN WITH WOMEN, FORNICATORS, FOWL MOUTHS...ETC A NEW GREEN DEAL WILL NOT HELP YOU, ONLY HUMILITY AND REPENTANCE WILL GOD HEAR. AMERICA IN GOD WE TRUST WE ARE THE PEOPLE CALLED BY HIS NAME. STOP KILLING OUR BABIES BAN ABORTION. WE NEED TO REPENT FROM OUR WICKED WAYS.</td>\n      <td>0</td>\n      <td>warning if my people who are called by my name will humble themselves and pray and seek my face and turn from their wicked ways then i will hear from heaven and i will forgive their sin and will heal their land babies blood is crying out from the ground false accusations against the president disrespect men with men women with women fornicators fowl mouthsetc a new green deal will not help you only humility and repentance will god hear america in god we trust we are the people called by his name stop killing our babies ban abortion we need to repent from our wicked ways</td>\n      <td>0</td>\n      <td>[]</td>\n      <td></td>\n    </tr>\n    <tr>\n      <th>174481</th>\n      <td>@user Lol I had to think about it for second myself. I guess she's asking why do we worry about how people feel about other races when black people are being asked about. As if we don't have the right to be defensive lol</td>\n      <td>0</td>\n      <td>Laughing Out Loud i had to think about it for second myself i guess she is asking why do we worry about how people feel about other races when black people are being asked about as if we do not have the right to be defensive Laughing Out Loud</td>\n      <td>1</td>\n      <td>[]</td>\n      <td></td>\n    </tr>\n    <tr>\n      <th>143444</th>\n      <td>RT @user: RT @user: \"I've met few people in politics that I disrespect more than Charlie Crist,\" --Rudy Giuliani</td>\n      <td>0</td>\n      <td>Retweet  Retweet  \"ive met few people in politics that i disrespect more than charlie crist\" --rudy giuliani</td>\n      <td>2</td>\n      <td>[]</td>\n      <td></td>\n    </tr>\n    <tr>\n      <th>36573</th>\n      <td>Lailat al Miraj mubarak to all Muslims.. I'm wishing for everyone's peace &amp; prosperity🤲🏻</td>\n      <td>0</td>\n      <td>lailat al miraj mubarak to all muslims i am wishing for everyones peace  prosperity palms up together light skin tone</td>\n      <td>0</td>\n      <td>[]</td>\n      <td>:palms_up_together:,:light_skin_tone:</td>\n    </tr>\n  </tbody>\n</table>\n</div>"
     },
     "execution_count": 16,
     "metadata": {},
     "output_type": "execute_result"
    }
   ],
   "source": [
    "df_cleaned_train_rnn.head()"
   ],
   "metadata": {
    "collapsed": false,
    "ExecuteTime": {
     "end_time": "2024-12-06T16:39:09.049503400Z",
     "start_time": "2024-12-06T16:39:08.979766600Z"
    }
   }
  },
  {
   "cell_type": "code",
   "execution_count": 17,
   "outputs": [],
   "source": [
    "df_cleaned_train_rnn.to_csv('new_datasets/train_cleaned_rnn.csv')"
   ],
   "metadata": {
    "collapsed": false,
    "ExecuteTime": {
     "end_time": "2024-12-06T16:39:09.840457600Z",
     "start_time": "2024-12-06T16:39:08.999703800Z"
    }
   }
  },
  {
   "cell_type": "markdown",
   "source": [
    "#### Bereinigung und Vorverarbeitung: TEST"
   ],
   "metadata": {
    "collapsed": false
   }
  },
  {
   "cell_type": "markdown",
   "source": [
    "##### Geeignet für: Maschinelles Lernen\n",
    "es werden alle implementierten Cleaning und Preprocessing Schritte ausgeführt AUßER welche, bei denen Zeilen gelöscht werden"
   ],
   "metadata": {
    "collapsed": false
   }
  },
  {
   "cell_type": "code",
   "execution_count": 18,
   "outputs": [],
   "source": [
    "df_origin_test = pd.read_csv('new_datasets/test.csv', index_col=0)\n",
    "df_clean_base_test = df_origin_test.copy()"
   ],
   "metadata": {
    "collapsed": false,
    "ExecuteTime": {
     "end_time": "2024-12-06T16:39:09.989841400Z",
     "start_time": "2024-12-06T16:39:09.840457600Z"
    }
   }
  },
  {
   "cell_type": "code",
   "execution_count": 19,
   "outputs": [
    {
     "name": "stdout",
     "output_type": "stream",
     "text": [
      "Start Cleaning\n",
      "--- Cleaning Step 1/21: to_lowercase\n",
      "--- Cleaning Step 2/21: expand_shortcuts\n",
      "--- Cleaning Step 3/21: remove_negations - SKIP (not implemented)\n",
      "--- Cleaning Step 4/21: handle_userhandles\n",
      "--- Cleaning Step 5/21: handle_hashtags\n",
      "--- Cleaning Step 6/21: segment_tweets - SKIP\n",
      "--- Cleaning Step 7/21: extract_emojis\n",
      "--- Cleaning Step 8/21: replace_emojis\n",
      "--- Cleaning Step 9/21: replace_smileys\n",
      "--- Cleaning Step 10/21: remove_emojis - SKIP\n",
      "--- Cleaning Step 11/21: remove_url_from_tweet\n",
      "--- Cleaning Step 12/21: remove_punctuation\n",
      "--- Cleaning Step 13/21: remove_special_characters\n",
      "--- Cleaning Step 14/21: remove_digis\n",
      "--- Cleaning Step 15/21: remove_word_from_column: amp\n",
      "--- Cleaning Step 16/21: lemmatize\n",
      "--- Cleaning Step 17/21: remove_stop_words\n",
      "--- Cleaning Step 18/21: remove_most_frequent_words\n",
      "--- Cleaning Step 19/21: remove_least_frequent_words\n",
      "--- Cleaning Step 20/21: remove_duplicates - SKIP\n",
      "--- Cleaning Step 21/21: remove_nans\n",
      "All Cleaning done\n"
     ]
    }
   ],
   "source": [
    "df_cleaned_test = clean_dataframe(df_clean_base_test, \"tweet\", False, False, False)"
   ],
   "metadata": {
    "collapsed": false,
    "ExecuteTime": {
     "end_time": "2024-12-06T16:47:08.289826500Z",
     "start_time": "2024-12-06T16:39:09.989841400Z"
    }
   }
  },
  {
   "cell_type": "code",
   "execution_count": 20,
   "outputs": [
    {
     "data": {
      "text/plain": "                                                                                                                                                                                                                                                                                                                                                                                                                                 tweet  \\\n0                 Hey ,muslim dickhead !!!!!!!! Why don;t you go and shove Allah or whatever the fuck you call the retard up your stupid backwards ass !!!!!!!!! You fucking muslims are a bunch of jealous west hating mongs, Islam is a peaceful religion, BULLSHIT !!!!!!! There are many times when it refers to violence. So go strap on your suicide bomb and blow yourself up. yey, one less feeble minded prick ion the world.   \n2                                                                                                                                                                                                                                                                                                                               Went to a car wash got on Twitter and we'll you know the rest 😂🤤💦🍆 #hung #latino #cock #precum #bi URL   \n4   +I am God Not by proportion of population. There you go truth twisting and fact altering to try and justify your racist views. If that cop was white he would of walked that's a fact they sacrifice this cop I'm not surprised at all considering how bad public relations are at the moment. You cops are more of a threat to public safety, stability justice and innocent lives than Al Qaeda and ISIS will ever be in America   \n9                                                                                                                                                                                                                                                      Lady in the back Blinks when \"her\" camera red light goes on. Part of the tranny SHOW. Before ya deny...see: Transvestigations on Yt. Trannies are PROUD to show How It's Done!👍   \n10                                                                                                                                                                                                                                                                                                                                                                                          That country is run by disgusting cowards.   \n\n    label  \\\n0       1   \n2       0   \n4       0   \n9       0   \n10      0   \n\n                                                                                                                                                                                                                                               tweet_cleaned  \\\n0   hey muslim dickhead don;t shove allah whatever call retard stupid backwards ass fucking muslim bunch jealous west hate mong islam peaceful religion bullshit many time refer violence strap suicide bomb blow yey one less feeble minded prick ion world   \n2                                                                                                                                                        car wash twitter well know rest face tear joy drool face sweat droplet eggplant hung latino cock bi   \n4             + god proportion population truth fact alter try justify racist view cop white would walk fact sacrifice cop surprised consider bad public relation moment cop threat public safety stability justice innocent life al qaeda isis ever america   \n9                                                                                                                                                  lady back blink camera red light part tranny show ya denysee transvestigation yt trannie proud show thumb   \n10                                                                                                                                                                                                                             country run disgusting coward   \n\n    user_handle                               hashtags  \\\n0             0                                     []   \n2             0  [#hung, #latino, #cock, #precum, #bi]   \n4             0                                     []   \n9             0                                     []   \n10            0                                     []   \n\n                                                                  emojis  \n0                                                                         \n2   :face_with_tears_of_joy:,:drooling_face:,:sweat_droplets:,:eggplant:  \n4                                                                         \n9                                                            :thumbs_up:  \n10                                                                        ",
      "text/html": "<div>\n<style scoped>\n    .dataframe tbody tr th:only-of-type {\n        vertical-align: middle;\n    }\n\n    .dataframe tbody tr th {\n        vertical-align: top;\n    }\n\n    .dataframe thead th {\n        text-align: right;\n    }\n</style>\n<table border=\"1\" class=\"dataframe\">\n  <thead>\n    <tr style=\"text-align: right;\">\n      <th></th>\n      <th>tweet</th>\n      <th>label</th>\n      <th>tweet_cleaned</th>\n      <th>user_handle</th>\n      <th>hashtags</th>\n      <th>emojis</th>\n    </tr>\n  </thead>\n  <tbody>\n    <tr>\n      <th>0</th>\n      <td>Hey ,muslim dickhead !!!!!!!! Why don;t you go and shove Allah or whatever the fuck you call the retard up your stupid backwards ass !!!!!!!!! You fucking muslims are a bunch of jealous west hating mongs, Islam is a peaceful religion, BULLSHIT !!!!!!! There are many times when it refers to violence. So go strap on your suicide bomb and blow yourself up. yey, one less feeble minded prick ion the world.</td>\n      <td>1</td>\n      <td>hey muslim dickhead don;t shove allah whatever call retard stupid backwards ass fucking muslim bunch jealous west hate mong islam peaceful religion bullshit many time refer violence strap suicide bomb blow yey one less feeble minded prick ion world</td>\n      <td>0</td>\n      <td>[]</td>\n      <td></td>\n    </tr>\n    <tr>\n      <th>2</th>\n      <td>Went to a car wash got on Twitter and we'll you know the rest 😂🤤💦🍆 #hung #latino #cock #precum #bi URL</td>\n      <td>0</td>\n      <td>car wash twitter well know rest face tear joy drool face sweat droplet eggplant hung latino cock bi</td>\n      <td>0</td>\n      <td>[#hung, #latino, #cock, #precum, #bi]</td>\n      <td>:face_with_tears_of_joy:,:drooling_face:,:sweat_droplets:,:eggplant:</td>\n    </tr>\n    <tr>\n      <th>4</th>\n      <td>+I am God Not by proportion of population. There you go truth twisting and fact altering to try and justify your racist views. If that cop was white he would of walked that's a fact they sacrifice this cop I'm not surprised at all considering how bad public relations are at the moment. You cops are more of a threat to public safety, stability justice and innocent lives than Al Qaeda and ISIS will ever be in America</td>\n      <td>0</td>\n      <td>+ god proportion population truth fact alter try justify racist view cop white would walk fact sacrifice cop surprised consider bad public relation moment cop threat public safety stability justice innocent life al qaeda isis ever america</td>\n      <td>0</td>\n      <td>[]</td>\n      <td></td>\n    </tr>\n    <tr>\n      <th>9</th>\n      <td>Lady in the back Blinks when \"her\" camera red light goes on. Part of the tranny SHOW. Before ya deny...see: Transvestigations on Yt. Trannies are PROUD to show How It's Done!👍</td>\n      <td>0</td>\n      <td>lady back blink camera red light part tranny show ya denysee transvestigation yt trannie proud show thumb</td>\n      <td>0</td>\n      <td>[]</td>\n      <td>:thumbs_up:</td>\n    </tr>\n    <tr>\n      <th>10</th>\n      <td>That country is run by disgusting cowards.</td>\n      <td>0</td>\n      <td>country run disgusting coward</td>\n      <td>0</td>\n      <td>[]</td>\n      <td></td>\n    </tr>\n  </tbody>\n</table>\n</div>"
     },
     "execution_count": 20,
     "metadata": {},
     "output_type": "execute_result"
    }
   ],
   "source": [
    "df_cleaned_test.head()"
   ],
   "metadata": {
    "collapsed": false,
    "ExecuteTime": {
     "end_time": "2024-12-06T16:47:08.353828200Z",
     "start_time": "2024-12-06T16:47:08.293829600Z"
    }
   }
  },
  {
   "cell_type": "code",
   "execution_count": 21,
   "outputs": [],
   "source": [
    "df_cleaned_test.to_csv('new_datasets/test_cleaned.csv')"
   ],
   "metadata": {
    "collapsed": false,
    "ExecuteTime": {
     "end_time": "2024-12-06T16:47:08.827727400Z",
     "start_time": "2024-12-06T16:47:08.321827900Z"
    }
   }
  },
  {
   "cell_type": "markdown",
   "source": [
    "##### Geeignet für: Deep Learning (RNN)\n",
    "es werden nicht alle implementierten Cleaning und Preprocessing Schritte ausgeführt\n",
    "\n",
    "NICHT: Duplikate entfernen, Auflösen Negationen (nicht implementiert), Emojis Entfernen, Lemmatisierung, Stopwords entfernen, Most/Least frequent words entfernen"
   ],
   "metadata": {
    "collapsed": false
   }
  },
  {
   "cell_type": "code",
   "execution_count": 22,
   "outputs": [],
   "source": [
    "df_origin_test_rnn = pd.read_csv('new_datasets/test.csv', index_col=0)\n",
    "df_clean_base_test_rnn = df_origin_test_rnn.copy()"
   ],
   "metadata": {
    "collapsed": false,
    "ExecuteTime": {
     "end_time": "2024-12-06T16:47:08.959724100Z",
     "start_time": "2024-12-06T16:47:08.827727400Z"
    }
   }
  },
  {
   "cell_type": "code",
   "execution_count": 23,
   "outputs": [
    {
     "name": "stdout",
     "output_type": "stream",
     "text": [
      "Start Cleaning\n",
      "--- Cleaning Step 1/21: to_lowercase\n",
      "--- Cleaning Step 2/21: expand_shortcuts\n",
      "--- Cleaning Step 3/21: remove_negations - SKIP (not implemented)\n",
      "--- Cleaning Step 4/21: handle_userhandles\n",
      "--- Cleaning Step 5/21: handle_hashtags\n",
      "--- Cleaning Step 6/21: segment_tweets - SKIP\n",
      "--- Cleaning Step 7/21: extract_emojis\n",
      "--- Cleaning Step 8/21: replace_emojis\n",
      "--- Cleaning Step 9/21: replace_smileys\n",
      "--- Cleaning Step 10/21: remove_emojis - SKIP\n",
      "--- Cleaning Step 11/21: remove_url_from_tweet\n",
      "--- Cleaning Step 12/21: remove_punctuation\n",
      "--- Cleaning Step 13/21: remove_special_characters\n",
      "--- Cleaning Step 14/21: remove_digis\n",
      "--- Cleaning Step 15/21: remove_word_from_column: amp\n",
      "--- Cleaning Step 16/21: lemmatize - SKIP\n",
      "--- Cleaning Step 17/21: remove_stop_words - SKIP\n",
      "--- Cleaning Step 18/21: remove_most_frequent_words - SKIP\n",
      "--- Cleaning Step 19/21: remove_least_frequent_words - SKIP\n",
      "--- Cleaning Step 20/21: remove_duplicates - SKIP\n",
      "--- Cleaning Step 21/21: remove_nans\n",
      "All Cleaning done\n"
     ]
    }
   ],
   "source": [
    "df_cleaned_test_rnn = clean_dataframe(df_clean_base_test_rnn, \"tweet\", False, False, True)"
   ],
   "metadata": {
    "collapsed": false,
    "ExecuteTime": {
     "end_time": "2024-12-06T16:47:34.998118Z",
     "start_time": "2024-12-06T16:47:08.963727400Z"
    }
   }
  },
  {
   "cell_type": "code",
   "execution_count": 24,
   "outputs": [
    {
     "data": {
      "text/plain": "                                                                                                                                                                                                                                                                                                                                                                                                                                 tweet  \\\n0                 Hey ,muslim dickhead !!!!!!!! Why don;t you go and shove Allah or whatever the fuck you call the retard up your stupid backwards ass !!!!!!!!! You fucking muslims are a bunch of jealous west hating mongs, Islam is a peaceful religion, BULLSHIT !!!!!!! There are many times when it refers to violence. So go strap on your suicide bomb and blow yourself up. yey, one less feeble minded prick ion the world.   \n2                                                                                                                                                                                                                                                                                                                               Went to a car wash got on Twitter and we'll you know the rest 😂🤤💦🍆 #hung #latino #cock #precum #bi URL   \n4   +I am God Not by proportion of population. There you go truth twisting and fact altering to try and justify your racist views. If that cop was white he would of walked that's a fact they sacrifice this cop I'm not surprised at all considering how bad public relations are at the moment. You cops are more of a threat to public safety, stability justice and innocent lives than Al Qaeda and ISIS will ever be in America   \n9                                                                                                                                                                                                                                                      Lady in the back Blinks when \"her\" camera red light goes on. Part of the tranny SHOW. Before ya deny...see: Transvestigations on Yt. Trannies are PROUD to show How It's Done!👍   \n10                                                                                                                                                                                                                                                                                                                                                                                          That country is run by disgusting cowards.   \n\n    label  \\\n0       1   \n2       0   \n4       0   \n9       0   \n10      0   \n\n                                                                                                                                                                                                                                                                                                                                                                                                                     tweet_cleaned  \\\n0                                            hey muslim dickhead  why don;t you go and shove allah or whatever the fuck you call the retard up your stupid backwards ass  you fucking muslims are a bunch of jealous west hating mongs islam is a peaceful religion bullshit  there are many times when it refers to violence so go strap on your suicide bomb and blow yourself up yey one less feeble minded prick ion the world   \n2                                                                                                                                                                                                                                                                         went to a car wash got on twitter and well you know the rest face with tears of joy drooling face sweat droplets eggplant hung latino cock precum bi url   \n4   +i am god not by proportion of population there you go truth twisting and fact altering to try and justify your racist views if that cop was white he would of walked thats a fact they sacrifice this cop i am not surprised at all considering how bad public relations are at the moment you cops are more of a threat to public safety stability justice and innocent lives than al qaeda and isis will ever be in america   \n9                                                                                                                                                                                                                                                lady in the back blinks when \"her\" camera red light goes on part of the tranny show before ya denysee transvestigations on yt trannies are proud to show how it is done thumbs up   \n10                                                                                                                                                                                                                                                                                                                                                                                       that country is run by disgusting cowards   \n\n    user_handle                               hashtags  \\\n0             0                                     []   \n2             0  [#hung, #latino, #cock, #precum, #bi]   \n4             0                                     []   \n9             0                                     []   \n10            0                                     []   \n\n                                                                  emojis  \n0                                                                         \n2   :face_with_tears_of_joy:,:drooling_face:,:sweat_droplets:,:eggplant:  \n4                                                                         \n9                                                            :thumbs_up:  \n10                                                                        ",
      "text/html": "<div>\n<style scoped>\n    .dataframe tbody tr th:only-of-type {\n        vertical-align: middle;\n    }\n\n    .dataframe tbody tr th {\n        vertical-align: top;\n    }\n\n    .dataframe thead th {\n        text-align: right;\n    }\n</style>\n<table border=\"1\" class=\"dataframe\">\n  <thead>\n    <tr style=\"text-align: right;\">\n      <th></th>\n      <th>tweet</th>\n      <th>label</th>\n      <th>tweet_cleaned</th>\n      <th>user_handle</th>\n      <th>hashtags</th>\n      <th>emojis</th>\n    </tr>\n  </thead>\n  <tbody>\n    <tr>\n      <th>0</th>\n      <td>Hey ,muslim dickhead !!!!!!!! Why don;t you go and shove Allah or whatever the fuck you call the retard up your stupid backwards ass !!!!!!!!! You fucking muslims are a bunch of jealous west hating mongs, Islam is a peaceful religion, BULLSHIT !!!!!!! There are many times when it refers to violence. So go strap on your suicide bomb and blow yourself up. yey, one less feeble minded prick ion the world.</td>\n      <td>1</td>\n      <td>hey muslim dickhead  why don;t you go and shove allah or whatever the fuck you call the retard up your stupid backwards ass  you fucking muslims are a bunch of jealous west hating mongs islam is a peaceful religion bullshit  there are many times when it refers to violence so go strap on your suicide bomb and blow yourself up yey one less feeble minded prick ion the world</td>\n      <td>0</td>\n      <td>[]</td>\n      <td></td>\n    </tr>\n    <tr>\n      <th>2</th>\n      <td>Went to a car wash got on Twitter and we'll you know the rest 😂🤤💦🍆 #hung #latino #cock #precum #bi URL</td>\n      <td>0</td>\n      <td>went to a car wash got on twitter and well you know the rest face with tears of joy drooling face sweat droplets eggplant hung latino cock precum bi url</td>\n      <td>0</td>\n      <td>[#hung, #latino, #cock, #precum, #bi]</td>\n      <td>:face_with_tears_of_joy:,:drooling_face:,:sweat_droplets:,:eggplant:</td>\n    </tr>\n    <tr>\n      <th>4</th>\n      <td>+I am God Not by proportion of population. There you go truth twisting and fact altering to try and justify your racist views. If that cop was white he would of walked that's a fact they sacrifice this cop I'm not surprised at all considering how bad public relations are at the moment. You cops are more of a threat to public safety, stability justice and innocent lives than Al Qaeda and ISIS will ever be in America</td>\n      <td>0</td>\n      <td>+i am god not by proportion of population there you go truth twisting and fact altering to try and justify your racist views if that cop was white he would of walked thats a fact they sacrifice this cop i am not surprised at all considering how bad public relations are at the moment you cops are more of a threat to public safety stability justice and innocent lives than al qaeda and isis will ever be in america</td>\n      <td>0</td>\n      <td>[]</td>\n      <td></td>\n    </tr>\n    <tr>\n      <th>9</th>\n      <td>Lady in the back Blinks when \"her\" camera red light goes on. Part of the tranny SHOW. Before ya deny...see: Transvestigations on Yt. Trannies are PROUD to show How It's Done!👍</td>\n      <td>0</td>\n      <td>lady in the back blinks when \"her\" camera red light goes on part of the tranny show before ya denysee transvestigations on yt trannies are proud to show how it is done thumbs up</td>\n      <td>0</td>\n      <td>[]</td>\n      <td>:thumbs_up:</td>\n    </tr>\n    <tr>\n      <th>10</th>\n      <td>That country is run by disgusting cowards.</td>\n      <td>0</td>\n      <td>that country is run by disgusting cowards</td>\n      <td>0</td>\n      <td>[]</td>\n      <td></td>\n    </tr>\n  </tbody>\n</table>\n</div>"
     },
     "execution_count": 24,
     "metadata": {},
     "output_type": "execute_result"
    }
   ],
   "source": [
    "df_cleaned_test_rnn.head()"
   ],
   "metadata": {
    "collapsed": false,
    "ExecuteTime": {
     "end_time": "2024-12-06T16:47:35.008131500Z",
     "start_time": "2024-12-06T16:47:34.990090200Z"
    }
   }
  },
  {
   "cell_type": "code",
   "execution_count": 25,
   "outputs": [],
   "source": [
    "df_cleaned_test_rnn.to_csv('new_datasets/test_cleaned_rnn.csv')"
   ],
   "metadata": {
    "collapsed": false,
    "ExecuteTime": {
     "end_time": "2024-12-06T16:47:35.632176900Z",
     "start_time": "2024-12-06T16:47:35.008131500Z"
    }
   }
  },
  {
   "cell_type": "code",
   "execution_count": null,
   "outputs": [],
   "source": [],
   "metadata": {
    "collapsed": false
   }
  }
 ],
 "metadata": {
  "kernelspec": {
   "display_name": "Python 3",
   "language": "python",
   "name": "python3"
  },
  "language_info": {
   "codemirror_mode": {
    "name": "ipython",
    "version": 2
   },
   "file_extension": ".py",
   "mimetype": "text/x-python",
   "name": "python",
   "nbconvert_exporter": "python",
   "pygments_lexer": "ipython2",
   "version": "2.7.6"
  }
 },
 "nbformat": 4,
 "nbformat_minor": 0
}
