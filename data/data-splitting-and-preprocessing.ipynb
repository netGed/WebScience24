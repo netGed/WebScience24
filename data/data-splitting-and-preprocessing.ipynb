{
 "cells": [
  {
   "cell_type": "code",
   "execution_count": 21,
   "metadata": {
    "collapsed": true,
    "ExecuteTime": {
     "end_time": "2024-12-01T11:24:21.357705300Z",
     "start_time": "2024-12-01T11:24:21.330705Z"
    }
   },
   "outputs": [],
   "source": [
    "import pandas as pd\n",
    "import numpy as np"
   ]
  },
  {
   "cell_type": "code",
   "execution_count": 10,
   "outputs": [],
   "source": [
    "def print_distribution(df, col):\n",
    "    positive = np.count_nonzero(df[col] == 1)\n",
    "    negative = np.count_nonzero(df[col] == 0)\n",
    "    print(\"- Positive:\", positive)\n",
    "    print(\"- Negative:\", negative)\n",
    "    print(\"- Verhältnis:\", negative / positive)"
   ],
   "metadata": {
    "collapsed": false,
    "ExecuteTime": {
     "end_time": "2024-12-01T11:02:47.973007900Z",
     "start_time": "2024-12-01T11:02:47.946009300Z"
    }
   }
  },
  {
   "cell_type": "markdown",
   "source": [
    "### Erstellung neuer Train und Testdatensatz"
   ],
   "metadata": {
    "collapsed": false
   }
  },
  {
   "cell_type": "code",
   "execution_count": 11,
   "outputs": [
    {
     "data": {
      "text/plain": "    label                                              tweet\nid                                                          \n1       0   @user when a father is dysfunctional and is s...\n2       0  @user @user thanks for #lyft credit i can't us...\n3       0                                bihday your majesty\n4       0  #model   i love u take with u all the time in ...\n5       0             factsguide: society now    #motivation",
      "text/html": "<div>\n<style scoped>\n    .dataframe tbody tr th:only-of-type {\n        vertical-align: middle;\n    }\n\n    .dataframe tbody tr th {\n        vertical-align: top;\n    }\n\n    .dataframe thead th {\n        text-align: right;\n    }\n</style>\n<table border=\"1\" class=\"dataframe\">\n  <thead>\n    <tr style=\"text-align: right;\">\n      <th></th>\n      <th>label</th>\n      <th>tweet</th>\n    </tr>\n    <tr>\n      <th>id</th>\n      <th></th>\n      <th></th>\n    </tr>\n  </thead>\n  <tbody>\n    <tr>\n      <th>1</th>\n      <td>0</td>\n      <td>@user when a father is dysfunctional and is s...</td>\n    </tr>\n    <tr>\n      <th>2</th>\n      <td>0</td>\n      <td>@user @user thanks for #lyft credit i can't us...</td>\n    </tr>\n    <tr>\n      <th>3</th>\n      <td>0</td>\n      <td>bihday your majesty</td>\n    </tr>\n    <tr>\n      <th>4</th>\n      <td>0</td>\n      <td>#model   i love u take with u all the time in ...</td>\n    </tr>\n    <tr>\n      <th>5</th>\n      <td>0</td>\n      <td>factsguide: society now    #motivation</td>\n    </tr>\n  </tbody>\n</table>\n</div>"
     },
     "execution_count": 11,
     "metadata": {},
     "output_type": "execute_result"
    }
   ],
   "source": [
    "df_train_old = pd.read_csv(\"twitter_hate-speech-alt/train.csv\", index_col=0)\n",
    "df_train_old.head()"
   ],
   "metadata": {
    "collapsed": false,
    "ExecuteTime": {
     "end_time": "2024-12-01T11:02:48.245016600Z",
     "start_time": "2024-12-01T11:02:48.165017300Z"
    }
   }
  },
  {
   "cell_type": "code",
   "execution_count": 12,
   "outputs": [
    {
     "name": "stdout",
     "output_type": "stream",
     "text": [
      "- Positive: 2242\n",
      "- Negative: 29720\n",
      "- Verhältnis: 13.256021409455842\n"
     ]
    }
   ],
   "source": [
    "print_distribution(df_train_old, \"label\")"
   ],
   "metadata": {
    "collapsed": false,
    "ExecuteTime": {
     "end_time": "2024-12-01T11:02:48.466014500Z",
     "start_time": "2024-12-01T11:02:48.392021700Z"
    }
   }
  },
  {
   "cell_type": "code",
   "execution_count": 13,
   "outputs": [
    {
     "name": "stdout",
     "output_type": "stream",
     "text": [
      "- Positive: 1574\n",
      "- Negative: 20799\n",
      "- Verhältnis: 13.214104193138501\n"
     ]
    }
   ],
   "source": [
    "train = df_train_old.sample(frac=0.7, random_state=200)\n",
    "print_distribution(train, \"label\")"
   ],
   "metadata": {
    "collapsed": false,
    "ExecuteTime": {
     "end_time": "2024-12-01T11:03:22.441702300Z",
     "start_time": "2024-12-01T11:03:22.380705Z"
    }
   }
  },
  {
   "cell_type": "code",
   "execution_count": 17,
   "outputs": [
    {
     "data": {
      "text/plain": "       label                                              tweet\nid                                                             \n8886       0   @user #cinemaaawards final rehearsals!! geari...\n909        0  istg this is the best cheese ta but dayum expe...\n27613      0  this was amazing. the weather was not. #musica...\n15999      0  yes! #talented #sexy   âcriminal mindsâ ca...\n23817      0  want to be   while being #successful? see how ...",
      "text/html": "<div>\n<style scoped>\n    .dataframe tbody tr th:only-of-type {\n        vertical-align: middle;\n    }\n\n    .dataframe tbody tr th {\n        vertical-align: top;\n    }\n\n    .dataframe thead th {\n        text-align: right;\n    }\n</style>\n<table border=\"1\" class=\"dataframe\">\n  <thead>\n    <tr style=\"text-align: right;\">\n      <th></th>\n      <th>label</th>\n      <th>tweet</th>\n    </tr>\n    <tr>\n      <th>id</th>\n      <th></th>\n      <th></th>\n    </tr>\n  </thead>\n  <tbody>\n    <tr>\n      <th>8886</th>\n      <td>0</td>\n      <td>@user #cinemaaawards final rehearsals!! geari...</td>\n    </tr>\n    <tr>\n      <th>909</th>\n      <td>0</td>\n      <td>istg this is the best cheese ta but dayum expe...</td>\n    </tr>\n    <tr>\n      <th>27613</th>\n      <td>0</td>\n      <td>this was amazing. the weather was not. #musica...</td>\n    </tr>\n    <tr>\n      <th>15999</th>\n      <td>0</td>\n      <td>yes! #talented #sexy   âcriminal mindsâ ca...</td>\n    </tr>\n    <tr>\n      <th>23817</th>\n      <td>0</td>\n      <td>want to be   while being #successful? see how ...</td>\n    </tr>\n  </tbody>\n</table>\n</div>"
     },
     "execution_count": 17,
     "metadata": {},
     "output_type": "execute_result"
    }
   ],
   "source": [
    "train.head()"
   ],
   "metadata": {
    "collapsed": false,
    "ExecuteTime": {
     "end_time": "2024-12-01T11:05:04.873875300Z",
     "start_time": "2024-12-01T11:05:04.855882500Z"
    }
   }
  },
  {
   "cell_type": "code",
   "execution_count": 14,
   "outputs": [
    {
     "name": "stdout",
     "output_type": "stream",
     "text": [
      "- Positive: 668\n",
      "- Negative: 8921\n",
      "- Verhältnis: 13.354790419161677\n"
     ]
    }
   ],
   "source": [
    "test = df_train_old.drop(train.index)\n",
    "print_distribution(test, \"label\")"
   ],
   "metadata": {
    "collapsed": false,
    "ExecuteTime": {
     "end_time": "2024-12-01T11:03:22.611520400Z",
     "start_time": "2024-12-01T11:03:22.579523200Z"
    }
   }
  },
  {
   "cell_type": "code",
   "execution_count": 18,
   "outputs": [
    {
     "data": {
      "text/plain": "    label                                              tweet\nid                                                          \n4       0  #model   i love u take with u all the time in ...\n5       0             factsguide: society now    #motivation\n6       0  [2/2] huge fan fare and big talking before the...\n16      0  ouch...junior is angryð#got7 #junior #yugyo...\n18      1                             retweet if you agree! ",
      "text/html": "<div>\n<style scoped>\n    .dataframe tbody tr th:only-of-type {\n        vertical-align: middle;\n    }\n\n    .dataframe tbody tr th {\n        vertical-align: top;\n    }\n\n    .dataframe thead th {\n        text-align: right;\n    }\n</style>\n<table border=\"1\" class=\"dataframe\">\n  <thead>\n    <tr style=\"text-align: right;\">\n      <th></th>\n      <th>label</th>\n      <th>tweet</th>\n    </tr>\n    <tr>\n      <th>id</th>\n      <th></th>\n      <th></th>\n    </tr>\n  </thead>\n  <tbody>\n    <tr>\n      <th>4</th>\n      <td>0</td>\n      <td>#model   i love u take with u all the time in ...</td>\n    </tr>\n    <tr>\n      <th>5</th>\n      <td>0</td>\n      <td>factsguide: society now    #motivation</td>\n    </tr>\n    <tr>\n      <th>6</th>\n      <td>0</td>\n      <td>[2/2] huge fan fare and big talking before the...</td>\n    </tr>\n    <tr>\n      <th>16</th>\n      <td>0</td>\n      <td>ouch...junior is angryð#got7 #junior #yugyo...</td>\n    </tr>\n    <tr>\n      <th>18</th>\n      <td>1</td>\n      <td>retweet if you agree!</td>\n    </tr>\n  </tbody>\n</table>\n</div>"
     },
     "execution_count": 18,
     "metadata": {},
     "output_type": "execute_result"
    }
   ],
   "source": [
    "test.head()"
   ],
   "metadata": {
    "collapsed": false,
    "ExecuteTime": {
     "end_time": "2024-12-01T11:05:17.599894700Z",
     "start_time": "2024-12-01T11:05:17.566895900Z"
    }
   }
  },
  {
   "cell_type": "code",
   "execution_count": 16,
   "outputs": [],
   "source": [
    "train.to_csv(\"twitter_hate-speech/train.csv\")\n",
    "test.to_csv(\"twitter_hate-speech/test.csv\")"
   ],
   "metadata": {
    "collapsed": false,
    "ExecuteTime": {
     "end_time": "2024-12-01T11:04:35.606463300Z",
     "start_time": "2024-12-01T11:04:35.437427100Z"
    }
   }
  },
  {
   "cell_type": "markdown",
   "source": [
    "### Prüfung: Cleaned-DFs (normal)"
   ],
   "metadata": {
    "collapsed": false
   }
  },
  {
   "cell_type": "code",
   "execution_count": 23,
   "outputs": [
    {
     "name": "stdout",
     "output_type": "stream",
     "text": [
      "- Positive: 1304\n",
      "- Negative: 18317\n",
      "- Verhältnis: 14.046779141104295\n"
     ]
    }
   ],
   "source": [
    "df_train_cleaned = pd.read_csv(\"twitter_hate-speech/train_cleaned.csv\", index_col=0)\n",
    "print_distribution(df_train_cleaned, \"label\")"
   ],
   "metadata": {
    "collapsed": false,
    "ExecuteTime": {
     "end_time": "2024-12-01T11:31:09.225143600Z",
     "start_time": "2024-12-01T11:31:09.109143Z"
    }
   }
  },
  {
   "cell_type": "code",
   "execution_count": 27,
   "outputs": [
    {
     "data": {
      "text/plain": "       label                                              tweet  \\\nid                                                                \n8886       0   @user #cinemaaawards final rehearsals!! geari...   \n909        0  istg this is the best cheese ta but dayum expe...   \n27613      0  this was amazing. the weather was not. #musica...   \n15999      0  yes! #talented #sexy   ‘criminal minds’ casts ...   \n23817      0  want to be   while being #successful? see how ...   \n\n                                           tweet_cleaned  user_handle  \\\nid                                                                      \n8886   final rehearsal gear evening butterfly stage h...            1   \n909                             good cheese ta expensive            0   \n27613             amazing weather musical london weekend            0   \n15999  yes talented sexy ' criminal mind ' cast serie...            2   \n23817                           want successful see help            2   \n\n                                                hashtags emojis  \nid                                                               \n8886        ['#cinemaaawards', '#butterflies', '#stage']    NaN  \n909                                                   []    NaN  \n27613  ['#musical', '#london', '#matilda', '#westend'...    NaN  \n15999                             ['#talented', '#sexy']    NaN  \n23817                ['#successful', '#worklifebalance']    NaN  ",
      "text/html": "<div>\n<style scoped>\n    .dataframe tbody tr th:only-of-type {\n        vertical-align: middle;\n    }\n\n    .dataframe tbody tr th {\n        vertical-align: top;\n    }\n\n    .dataframe thead th {\n        text-align: right;\n    }\n</style>\n<table border=\"1\" class=\"dataframe\">\n  <thead>\n    <tr style=\"text-align: right;\">\n      <th></th>\n      <th>label</th>\n      <th>tweet</th>\n      <th>tweet_cleaned</th>\n      <th>user_handle</th>\n      <th>hashtags</th>\n      <th>emojis</th>\n    </tr>\n    <tr>\n      <th>id</th>\n      <th></th>\n      <th></th>\n      <th></th>\n      <th></th>\n      <th></th>\n      <th></th>\n    </tr>\n  </thead>\n  <tbody>\n    <tr>\n      <th>8886</th>\n      <td>0</td>\n      <td>@user #cinemaaawards final rehearsals!! geari...</td>\n      <td>final rehearsal gear evening butterfly stage h...</td>\n      <td>1</td>\n      <td>['#cinemaaawards', '#butterflies', '#stage']</td>\n      <td>NaN</td>\n    </tr>\n    <tr>\n      <th>909</th>\n      <td>0</td>\n      <td>istg this is the best cheese ta but dayum expe...</td>\n      <td>good cheese ta expensive</td>\n      <td>0</td>\n      <td>[]</td>\n      <td>NaN</td>\n    </tr>\n    <tr>\n      <th>27613</th>\n      <td>0</td>\n      <td>this was amazing. the weather was not. #musica...</td>\n      <td>amazing weather musical london weekend</td>\n      <td>0</td>\n      <td>['#musical', '#london', '#matilda', '#westend'...</td>\n      <td>NaN</td>\n    </tr>\n    <tr>\n      <th>15999</th>\n      <td>0</td>\n      <td>yes! #talented #sexy   ‘criminal minds’ casts ...</td>\n      <td>yes talented sexy ' criminal mind ' cast serie...</td>\n      <td>2</td>\n      <td>['#talented', '#sexy']</td>\n      <td>NaN</td>\n    </tr>\n    <tr>\n      <th>23817</th>\n      <td>0</td>\n      <td>want to be   while being #successful? see how ...</td>\n      <td>want successful see help</td>\n      <td>2</td>\n      <td>['#successful', '#worklifebalance']</td>\n      <td>NaN</td>\n    </tr>\n  </tbody>\n</table>\n</div>"
     },
     "execution_count": 27,
     "metadata": {},
     "output_type": "execute_result"
    }
   ],
   "source": [
    "df_train_cleaned.head()"
   ],
   "metadata": {
    "collapsed": false,
    "ExecuteTime": {
     "end_time": "2024-12-01T11:32:51.650940600Z",
     "start_time": "2024-12-01T11:32:51.620944500Z"
    }
   }
  },
  {
   "cell_type": "code",
   "execution_count": 24,
   "outputs": [
    {
     "name": "stdout",
     "output_type": "stream",
     "text": [
      "- Positive: 668\n",
      "- Negative: 8921\n",
      "- Verhältnis: 13.354790419161677\n"
     ]
    }
   ],
   "source": [
    "df_test_cleaned = pd.read_csv(\"twitter_hate-speech/test_cleaned.csv\", index_col=0)\n",
    "print_distribution(df_test_cleaned, \"label\")"
   ],
   "metadata": {
    "collapsed": false,
    "ExecuteTime": {
     "end_time": "2024-12-01T11:31:09.945834600Z",
     "start_time": "2024-12-01T11:31:09.866832900Z"
    }
   }
  },
  {
   "cell_type": "code",
   "execution_count": 28,
   "outputs": [
    {
     "data": {
      "text/plain": "    label                                              tweet  \\\nid                                                             \n4       0  #model   i love u take with u all the time in ...   \n5       0             factsguide: society now    #motivation   \n6       0  [2/2] huge fan fare and big talking before the...   \n16      0  ouch...junior is angry😐#got7 #junior #yugyoem ...   \n18      1                             retweet if you agree!    \n\n                                        tweet_cleaned  user_handle  \\\nid                                                                   \n4   model take time ur mobile phone kiss sunglass ...            0   \n5                       factsguide society motivation            0   \n6                    huge fan big leave chaos pay get            0   \n16                               angry get junior omg            0   \n18                                      retweet agree            0   \n\n                                    hashtags  \\\nid                                             \n4                                 ['#model']   \n5                            ['#motivation']   \n6                        ['#allshowandnogo']   \n16  ['#got7', '#junior', '#yugyoem', '#omg']   \n18                                        []   \n\n                                               emojis  \nid                                                     \n4   :mobile_phone:,:kissing_face_with_smiling_eyes...  \n5                                                 NaN  \n6                                                 NaN  \n16                                     :neutral_face:  \n18                                                NaN  ",
      "text/html": "<div>\n<style scoped>\n    .dataframe tbody tr th:only-of-type {\n        vertical-align: middle;\n    }\n\n    .dataframe tbody tr th {\n        vertical-align: top;\n    }\n\n    .dataframe thead th {\n        text-align: right;\n    }\n</style>\n<table border=\"1\" class=\"dataframe\">\n  <thead>\n    <tr style=\"text-align: right;\">\n      <th></th>\n      <th>label</th>\n      <th>tweet</th>\n      <th>tweet_cleaned</th>\n      <th>user_handle</th>\n      <th>hashtags</th>\n      <th>emojis</th>\n    </tr>\n    <tr>\n      <th>id</th>\n      <th></th>\n      <th></th>\n      <th></th>\n      <th></th>\n      <th></th>\n      <th></th>\n    </tr>\n  </thead>\n  <tbody>\n    <tr>\n      <th>4</th>\n      <td>0</td>\n      <td>#model   i love u take with u all the time in ...</td>\n      <td>model take time ur mobile phone kiss sunglass ...</td>\n      <td>0</td>\n      <td>['#model']</td>\n      <td>:mobile_phone:,:kissing_face_with_smiling_eyes...</td>\n    </tr>\n    <tr>\n      <th>5</th>\n      <td>0</td>\n      <td>factsguide: society now    #motivation</td>\n      <td>factsguide society motivation</td>\n      <td>0</td>\n      <td>['#motivation']</td>\n      <td>NaN</td>\n    </tr>\n    <tr>\n      <th>6</th>\n      <td>0</td>\n      <td>[2/2] huge fan fare and big talking before the...</td>\n      <td>huge fan big leave chaos pay get</td>\n      <td>0</td>\n      <td>['#allshowandnogo']</td>\n      <td>NaN</td>\n    </tr>\n    <tr>\n      <th>16</th>\n      <td>0</td>\n      <td>ouch...junior is angry😐#got7 #junior #yugyoem ...</td>\n      <td>angry get junior omg</td>\n      <td>0</td>\n      <td>['#got7', '#junior', '#yugyoem', '#omg']</td>\n      <td>:neutral_face:</td>\n    </tr>\n    <tr>\n      <th>18</th>\n      <td>1</td>\n      <td>retweet if you agree!</td>\n      <td>retweet agree</td>\n      <td>0</td>\n      <td>[]</td>\n      <td>NaN</td>\n    </tr>\n  </tbody>\n</table>\n</div>"
     },
     "execution_count": 28,
     "metadata": {},
     "output_type": "execute_result"
    }
   ],
   "source": [
    "df_test_cleaned.head()"
   ],
   "metadata": {
    "collapsed": false,
    "ExecuteTime": {
     "end_time": "2024-12-01T11:32:57.983971800Z",
     "start_time": "2024-12-01T11:32:57.956966100Z"
    }
   }
  },
  {
   "cell_type": "code",
   "execution_count": 26,
   "outputs": [
    {
     "name": "stdout",
     "output_type": "stream",
     "text": [
      "<class 'pandas.core.frame.DataFrame'>\n",
      "Int64Index: 17197 entries, 31963 to 49159\n",
      "Data columns (total 5 columns):\n",
      " #   Column         Non-Null Count  Dtype \n",
      "---  ------         --------------  ----- \n",
      " 0   tweet          17197 non-null  object\n",
      " 1   tweet_cleaned  17092 non-null  object\n",
      " 2   user_handle    17197 non-null  int64 \n",
      " 3   hashtags       17197 non-null  object\n",
      " 4   emojis         3452 non-null   object\n",
      "dtypes: int64(1), object(4)\n",
      "memory usage: 806.1+ KB\n"
     ]
    }
   ],
   "source": [
    "df_predict_cleaned = pd.read_csv(\"twitter_hate-speech/predict_cleaned.csv\", index_col=0)\n",
    "df_predict_cleaned.info()"
   ],
   "metadata": {
    "collapsed": false,
    "ExecuteTime": {
     "end_time": "2024-12-01T11:31:23.983886200Z",
     "start_time": "2024-12-01T11:31:23.879787200Z"
    }
   }
  },
  {
   "cell_type": "code",
   "execution_count": 29,
   "outputs": [
    {
     "data": {
      "text/plain": "                                                   tweet  \\\nid                                                         \n31963  #studiolife #aislife #requires #passion #dedic...   \n31964   @user #white #supremacists want everyone to s...   \n31965  safe ways to heal your #acne!!    #altwaystohe...   \n31966  is the hp and the cursed child book up for res...   \n31967    3rd #bihday to my amazing, hilarious #nephew...   \n\n                                           tweet_cleaned  user_handle  \\\nid                                                                      \n31963                               require passion find            0   \n31964     white want everyone see new ' bird ' movie — ’            1   \n31965   safe way heal acne altwaystoheal healthy healing            0   \n31966        child book already yes harrypotter favorite            0   \n31967  rd bihday amazing hilarious nephew uncle dave ...            0   \n\n                                                hashtags  \\\nid                                                         \n31963  ['#studiolife', '#aislife', '#requires', '#pas...   \n31964    ['#white', '#supremacists', '#birds', '#movie']   \n31965  ['#acne', '#altwaystoheal', '#healthy', '#heal...   \n31966       ['#harrypotter', '#pottermore', '#favorite']   \n31967                             ['#bihday', '#nephew']   \n\n                                                  emojis  \nid                                                        \n31963                                                NaN  \n31964                                                NaN  \n31965                                                NaN  \n31966  :smiling_face_with_heart-eyes:,:smiling_face_w...  \n31967                                                NaN  ",
      "text/html": "<div>\n<style scoped>\n    .dataframe tbody tr th:only-of-type {\n        vertical-align: middle;\n    }\n\n    .dataframe tbody tr th {\n        vertical-align: top;\n    }\n\n    .dataframe thead th {\n        text-align: right;\n    }\n</style>\n<table border=\"1\" class=\"dataframe\">\n  <thead>\n    <tr style=\"text-align: right;\">\n      <th></th>\n      <th>tweet</th>\n      <th>tweet_cleaned</th>\n      <th>user_handle</th>\n      <th>hashtags</th>\n      <th>emojis</th>\n    </tr>\n    <tr>\n      <th>id</th>\n      <th></th>\n      <th></th>\n      <th></th>\n      <th></th>\n      <th></th>\n    </tr>\n  </thead>\n  <tbody>\n    <tr>\n      <th>31963</th>\n      <td>#studiolife #aislife #requires #passion #dedic...</td>\n      <td>require passion find</td>\n      <td>0</td>\n      <td>['#studiolife', '#aislife', '#requires', '#pas...</td>\n      <td>NaN</td>\n    </tr>\n    <tr>\n      <th>31964</th>\n      <td>@user #white #supremacists want everyone to s...</td>\n      <td>white want everyone see new ' bird ' movie — ’</td>\n      <td>1</td>\n      <td>['#white', '#supremacists', '#birds', '#movie']</td>\n      <td>NaN</td>\n    </tr>\n    <tr>\n      <th>31965</th>\n      <td>safe ways to heal your #acne!!    #altwaystohe...</td>\n      <td>safe way heal acne altwaystoheal healthy healing</td>\n      <td>0</td>\n      <td>['#acne', '#altwaystoheal', '#healthy', '#heal...</td>\n      <td>NaN</td>\n    </tr>\n    <tr>\n      <th>31966</th>\n      <td>is the hp and the cursed child book up for res...</td>\n      <td>child book already yes harrypotter favorite</td>\n      <td>0</td>\n      <td>['#harrypotter', '#pottermore', '#favorite']</td>\n      <td>:smiling_face_with_heart-eyes:,:smiling_face_w...</td>\n    </tr>\n    <tr>\n      <th>31967</th>\n      <td>3rd #bihday to my amazing, hilarious #nephew...</td>\n      <td>rd bihday amazing hilarious nephew uncle dave ...</td>\n      <td>0</td>\n      <td>['#bihday', '#nephew']</td>\n      <td>NaN</td>\n    </tr>\n  </tbody>\n</table>\n</div>"
     },
     "execution_count": 29,
     "metadata": {},
     "output_type": "execute_result"
    }
   ],
   "source": [
    "df_predict_cleaned.head()"
   ],
   "metadata": {
    "collapsed": false,
    "ExecuteTime": {
     "end_time": "2024-12-01T11:33:03.860463700Z",
     "start_time": "2024-12-01T11:33:03.735614800Z"
    }
   }
  },
  {
   "cell_type": "markdown",
   "source": [
    "### Prüfung: Cleaned-DFs (RNN)"
   ],
   "metadata": {
    "collapsed": false
   }
  },
  {
   "cell_type": "code",
   "execution_count": 40,
   "outputs": [
    {
     "name": "stdout",
     "output_type": "stream",
     "text": [
      "- Positive: 1427\n",
      "- Negative: 19421\n",
      "- Verhältnis: 13.609670637701472\n"
     ]
    },
    {
     "data": {
      "text/plain": "       label                                              tweet\nid                                                             \n8886       0   @user #cinemaaawards final rehearsals!! geari...\n909        0  istg this is the best cheese ta but dayum expe...\n27613      0  this was amazing. the weather was not. #musica...\n15999      0  yes! #talented #sexy   ‘criminal minds’ casts ...\n23817      0  want to be   while being #successful? see how ...",
      "text/html": "<div>\n<style scoped>\n    .dataframe tbody tr th:only-of-type {\n        vertical-align: middle;\n    }\n\n    .dataframe tbody tr th {\n        vertical-align: top;\n    }\n\n    .dataframe thead th {\n        text-align: right;\n    }\n</style>\n<table border=\"1\" class=\"dataframe\">\n  <thead>\n    <tr style=\"text-align: right;\">\n      <th></th>\n      <th>label</th>\n      <th>tweet</th>\n    </tr>\n    <tr>\n      <th>id</th>\n      <th></th>\n      <th></th>\n    </tr>\n  </thead>\n  <tbody>\n    <tr>\n      <th>8886</th>\n      <td>0</td>\n      <td>@user #cinemaaawards final rehearsals!! geari...</td>\n    </tr>\n    <tr>\n      <th>909</th>\n      <td>0</td>\n      <td>istg this is the best cheese ta but dayum expe...</td>\n    </tr>\n    <tr>\n      <th>27613</th>\n      <td>0</td>\n      <td>this was amazing. the weather was not. #musica...</td>\n    </tr>\n    <tr>\n      <th>15999</th>\n      <td>0</td>\n      <td>yes! #talented #sexy   ‘criminal minds’ casts ...</td>\n    </tr>\n    <tr>\n      <th>23817</th>\n      <td>0</td>\n      <td>want to be   while being #successful? see how ...</td>\n    </tr>\n  </tbody>\n</table>\n</div>"
     },
     "execution_count": 40,
     "metadata": {},
     "output_type": "execute_result"
    }
   ],
   "source": [
    "df_train_cleaned_rnn_basic = pd.read_csv(\"twitter_hate-speech/train_cleaned_rnn-basic.csv\", index_col=0)\n",
    "print_distribution(df_train_cleaned_rnn_basic, \"label\")\n",
    "df_train_cleaned_rnn_basic.head()"
   ],
   "metadata": {
    "collapsed": false,
    "ExecuteTime": {
     "end_time": "2024-12-01T12:33:02.269276800Z",
     "start_time": "2024-12-01T12:33:02.169292500Z"
    }
   }
  },
  {
   "cell_type": "code",
   "execution_count": 41,
   "outputs": [
    {
     "name": "stdout",
     "output_type": "stream",
     "text": [
      "- Positive: 1339\n",
      "- Negative: 18945\n",
      "- Verhältnis: 14.148618371919342\n"
     ]
    },
    {
     "data": {
      "text/plain": "       label                                              tweet  \\\nid                                                                \n8886       0   @user #cinemaaawards final rehearsals!! geari...   \n909        0  istg this is the best cheese ta but dayum expe...   \n27613      0  this was amazing. the weather was not. #musica...   \n15999      0  yes! #talented #sexy   ‘criminal minds’ casts ...   \n23817      0  want to be   while being #successful? see how ...   \n\n                                           tweet_cleaned  user_handle  \\\nid                                                                      \n8886   cinemaaaward final rehearsal gear up for the e...            1   \n909    istg this be the good cheese ta but dayum expe...            0   \n27613  this be amazing the weather be not musical lon...            0   \n15999  yes talented sexy ' criminal mind ' cast   as ...            2   \n23817  want to be while be successful see how worklif...            2   \n\n                                                hashtags emojis  \nid                                                               \n8886        ['#cinemaaawards', '#butterflies', '#stage']    NaN  \n909                                                   []    NaN  \n27613  ['#musical', '#london', '#matilda', '#westend'...    NaN  \n15999                             ['#talented', '#sexy']    NaN  \n23817                ['#successful', '#worklifebalance']    NaN  ",
      "text/html": "<div>\n<style scoped>\n    .dataframe tbody tr th:only-of-type {\n        vertical-align: middle;\n    }\n\n    .dataframe tbody tr th {\n        vertical-align: top;\n    }\n\n    .dataframe thead th {\n        text-align: right;\n    }\n</style>\n<table border=\"1\" class=\"dataframe\">\n  <thead>\n    <tr style=\"text-align: right;\">\n      <th></th>\n      <th>label</th>\n      <th>tweet</th>\n      <th>tweet_cleaned</th>\n      <th>user_handle</th>\n      <th>hashtags</th>\n      <th>emojis</th>\n    </tr>\n    <tr>\n      <th>id</th>\n      <th></th>\n      <th></th>\n      <th></th>\n      <th></th>\n      <th></th>\n      <th></th>\n    </tr>\n  </thead>\n  <tbody>\n    <tr>\n      <th>8886</th>\n      <td>0</td>\n      <td>@user #cinemaaawards final rehearsals!! geari...</td>\n      <td>cinemaaaward final rehearsal gear up for the e...</td>\n      <td>1</td>\n      <td>['#cinemaaawards', '#butterflies', '#stage']</td>\n      <td>NaN</td>\n    </tr>\n    <tr>\n      <th>909</th>\n      <td>0</td>\n      <td>istg this is the best cheese ta but dayum expe...</td>\n      <td>istg this be the good cheese ta but dayum expe...</td>\n      <td>0</td>\n      <td>[]</td>\n      <td>NaN</td>\n    </tr>\n    <tr>\n      <th>27613</th>\n      <td>0</td>\n      <td>this was amazing. the weather was not. #musica...</td>\n      <td>this be amazing the weather be not musical lon...</td>\n      <td>0</td>\n      <td>['#musical', '#london', '#matilda', '#westend'...</td>\n      <td>NaN</td>\n    </tr>\n    <tr>\n      <th>15999</th>\n      <td>0</td>\n      <td>yes! #talented #sexy   ‘criminal minds’ casts ...</td>\n      <td>yes talented sexy ' criminal mind ' cast   as ...</td>\n      <td>2</td>\n      <td>['#talented', '#sexy']</td>\n      <td>NaN</td>\n    </tr>\n    <tr>\n      <th>23817</th>\n      <td>0</td>\n      <td>want to be   while being #successful? see how ...</td>\n      <td>want to be while be successful see how worklif...</td>\n      <td>2</td>\n      <td>['#successful', '#worklifebalance']</td>\n      <td>NaN</td>\n    </tr>\n  </tbody>\n</table>\n</div>"
     },
     "execution_count": 41,
     "metadata": {},
     "output_type": "execute_result"
    }
   ],
   "source": [
    "df_train_cleaned_rnn = pd.read_csv(\"twitter_hate-speech/train_cleaned_rnn.csv\", index_col=0)\n",
    "print_distribution(df_train_cleaned_rnn, \"label\")\n",
    "df_train_cleaned_rnn.head()"
   ],
   "metadata": {
    "collapsed": false,
    "ExecuteTime": {
     "end_time": "2024-12-01T12:33:02.768765800Z",
     "start_time": "2024-12-01T12:33:02.634765100Z"
    }
   }
  },
  {
   "cell_type": "code",
   "execution_count": 42,
   "outputs": [
    {
     "name": "stdout",
     "output_type": "stream",
     "text": [
      "- Positive: 668\n",
      "- Negative: 8921\n",
      "- Verhältnis: 13.354790419161677\n"
     ]
    },
    {
     "data": {
      "text/plain": "    label                                              tweet\nid                                                          \n4       0  #model   i love u take with u all the time in ...\n5       0             factsguide: society now    #motivation\n6       0  [2/2] huge fan fare and big talking before the...\n16      0  ouch...junior is angry😐#got7 #junior #yugyoem ...\n18      1                             retweet if you agree! ",
      "text/html": "<div>\n<style scoped>\n    .dataframe tbody tr th:only-of-type {\n        vertical-align: middle;\n    }\n\n    .dataframe tbody tr th {\n        vertical-align: top;\n    }\n\n    .dataframe thead th {\n        text-align: right;\n    }\n</style>\n<table border=\"1\" class=\"dataframe\">\n  <thead>\n    <tr style=\"text-align: right;\">\n      <th></th>\n      <th>label</th>\n      <th>tweet</th>\n    </tr>\n    <tr>\n      <th>id</th>\n      <th></th>\n      <th></th>\n    </tr>\n  </thead>\n  <tbody>\n    <tr>\n      <th>4</th>\n      <td>0</td>\n      <td>#model   i love u take with u all the time in ...</td>\n    </tr>\n    <tr>\n      <th>5</th>\n      <td>0</td>\n      <td>factsguide: society now    #motivation</td>\n    </tr>\n    <tr>\n      <th>6</th>\n      <td>0</td>\n      <td>[2/2] huge fan fare and big talking before the...</td>\n    </tr>\n    <tr>\n      <th>16</th>\n      <td>0</td>\n      <td>ouch...junior is angry😐#got7 #junior #yugyoem ...</td>\n    </tr>\n    <tr>\n      <th>18</th>\n      <td>1</td>\n      <td>retweet if you agree!</td>\n    </tr>\n  </tbody>\n</table>\n</div>"
     },
     "execution_count": 42,
     "metadata": {},
     "output_type": "execute_result"
    }
   ],
   "source": [
    "df_test_cleaned_rnn_basic = pd.read_csv(\"twitter_hate-speech/test_cleaned_rnn-basic.csv\", index_col=0)\n",
    "print_distribution(df_test_cleaned_rnn_basic, \"label\")\n",
    "df_test_cleaned_rnn_basic.head()"
   ],
   "metadata": {
    "collapsed": false,
    "ExecuteTime": {
     "end_time": "2024-12-01T12:33:04.853673400Z",
     "start_time": "2024-12-01T12:33:04.811672200Z"
    }
   }
  },
  {
   "cell_type": "code",
   "execution_count": 43,
   "outputs": [
    {
     "name": "stdout",
     "output_type": "stream",
     "text": [
      "- Positive: 668\n",
      "- Negative: 8921\n",
      "- Verhältnis: 13.354790419161677\n"
     ]
    },
    {
     "data": {
      "text/plain": "    label                                              tweet  \\\nid                                                             \n4       0  #model   i love u take with u all the time in ...   \n5       0             factsguide: society now    #motivation   \n6       0  [2/2] huge fan fare and big talking before the...   \n16      0  ouch...junior is angry😐#got7 #junior #yugyoem ...   \n18      1                             retweet if you agree!    \n\n                                        tweet_cleaned  user_handle  \\\nid                                                                   \n4   model I love you take with you all the time in...            0   \n5                   factsguide society now motivation            0   \n6   huge fan fare and big talking before they leav...            0   \n16  ouchjunior be angry neutral face get junior yu...            0   \n18                               retweet if you agree            0   \n\n                                    hashtags  \\\nid                                             \n4                                 ['#model']   \n5                            ['#motivation']   \n6                        ['#allshowandnogo']   \n16  ['#got7', '#junior', '#yugyoem', '#omg']   \n18                                        []   \n\n                                               emojis  \nid                                                     \n4   :mobile_phone:,:kissing_face_with_smiling_eyes...  \n5                                                 NaN  \n6                                                 NaN  \n16                                     :neutral_face:  \n18                                                NaN  ",
      "text/html": "<div>\n<style scoped>\n    .dataframe tbody tr th:only-of-type {\n        vertical-align: middle;\n    }\n\n    .dataframe tbody tr th {\n        vertical-align: top;\n    }\n\n    .dataframe thead th {\n        text-align: right;\n    }\n</style>\n<table border=\"1\" class=\"dataframe\">\n  <thead>\n    <tr style=\"text-align: right;\">\n      <th></th>\n      <th>label</th>\n      <th>tweet</th>\n      <th>tweet_cleaned</th>\n      <th>user_handle</th>\n      <th>hashtags</th>\n      <th>emojis</th>\n    </tr>\n    <tr>\n      <th>id</th>\n      <th></th>\n      <th></th>\n      <th></th>\n      <th></th>\n      <th></th>\n      <th></th>\n    </tr>\n  </thead>\n  <tbody>\n    <tr>\n      <th>4</th>\n      <td>0</td>\n      <td>#model   i love u take with u all the time in ...</td>\n      <td>model I love you take with you all the time in...</td>\n      <td>0</td>\n      <td>['#model']</td>\n      <td>:mobile_phone:,:kissing_face_with_smiling_eyes...</td>\n    </tr>\n    <tr>\n      <th>5</th>\n      <td>0</td>\n      <td>factsguide: society now    #motivation</td>\n      <td>factsguide society now motivation</td>\n      <td>0</td>\n      <td>['#motivation']</td>\n      <td>NaN</td>\n    </tr>\n    <tr>\n      <th>6</th>\n      <td>0</td>\n      <td>[2/2] huge fan fare and big talking before the...</td>\n      <td>huge fan fare and big talking before they leav...</td>\n      <td>0</td>\n      <td>['#allshowandnogo']</td>\n      <td>NaN</td>\n    </tr>\n    <tr>\n      <th>16</th>\n      <td>0</td>\n      <td>ouch...junior is angry😐#got7 #junior #yugyoem ...</td>\n      <td>ouchjunior be angry neutral face get junior yu...</td>\n      <td>0</td>\n      <td>['#got7', '#junior', '#yugyoem', '#omg']</td>\n      <td>:neutral_face:</td>\n    </tr>\n    <tr>\n      <th>18</th>\n      <td>1</td>\n      <td>retweet if you agree!</td>\n      <td>retweet if you agree</td>\n      <td>0</td>\n      <td>[]</td>\n      <td>NaN</td>\n    </tr>\n  </tbody>\n</table>\n</div>"
     },
     "execution_count": 43,
     "metadata": {},
     "output_type": "execute_result"
    }
   ],
   "source": [
    "df_test_cleaned_rnn = pd.read_csv(\"twitter_hate-speech/test_cleaned_rnn.csv\", index_col=0)\n",
    "print_distribution(df_test_cleaned_rnn, \"label\")\n",
    "df_test_cleaned_rnn.head()"
   ],
   "metadata": {
    "collapsed": false,
    "ExecuteTime": {
     "end_time": "2024-12-01T12:33:05.616489900Z",
     "start_time": "2024-12-01T12:33:05.525492700Z"
    }
   }
  },
  {
   "cell_type": "code",
   "execution_count": 44,
   "outputs": [
    {
     "name": "stdout",
     "output_type": "stream",
     "text": [
      "<class 'pandas.core.frame.DataFrame'>\n",
      "Int64Index: 17197 entries, 31963 to 49159\n",
      "Data columns (total 1 columns):\n",
      " #   Column  Non-Null Count  Dtype \n",
      "---  ------  --------------  ----- \n",
      " 0   tweet   17197 non-null  object\n",
      "dtypes: object(1)\n",
      "memory usage: 268.7+ KB\n"
     ]
    },
    {
     "data": {
      "text/plain": "                                                   tweet\nid                                                      \n31963  #studiolife #aislife #requires #passion #dedic...\n31964   @user #white #supremacists want everyone to s...\n31965  safe ways to heal your #acne!!    #altwaystohe...\n31966  is the hp and the cursed child book up for res...\n31967    3rd #bihday to my amazing, hilarious #nephew...",
      "text/html": "<div>\n<style scoped>\n    .dataframe tbody tr th:only-of-type {\n        vertical-align: middle;\n    }\n\n    .dataframe tbody tr th {\n        vertical-align: top;\n    }\n\n    .dataframe thead th {\n        text-align: right;\n    }\n</style>\n<table border=\"1\" class=\"dataframe\">\n  <thead>\n    <tr style=\"text-align: right;\">\n      <th></th>\n      <th>tweet</th>\n    </tr>\n    <tr>\n      <th>id</th>\n      <th></th>\n    </tr>\n  </thead>\n  <tbody>\n    <tr>\n      <th>31963</th>\n      <td>#studiolife #aislife #requires #passion #dedic...</td>\n    </tr>\n    <tr>\n      <th>31964</th>\n      <td>@user #white #supremacists want everyone to s...</td>\n    </tr>\n    <tr>\n      <th>31965</th>\n      <td>safe ways to heal your #acne!!    #altwaystohe...</td>\n    </tr>\n    <tr>\n      <th>31966</th>\n      <td>is the hp and the cursed child book up for res...</td>\n    </tr>\n    <tr>\n      <th>31967</th>\n      <td>3rd #bihday to my amazing, hilarious #nephew...</td>\n    </tr>\n  </tbody>\n</table>\n</div>"
     },
     "execution_count": 44,
     "metadata": {},
     "output_type": "execute_result"
    }
   ],
   "source": [
    "df_predict_cleaned_rnn_basic = pd.read_csv(\"twitter_hate-speech/predict_cleaned_rnn-basic.csv\", index_col=0)\n",
    "df_predict_cleaned_rnn_basic.info()\n",
    "df_predict_cleaned_rnn_basic.head()"
   ],
   "metadata": {
    "collapsed": false,
    "ExecuteTime": {
     "end_time": "2024-12-01T12:33:06.503349900Z",
     "start_time": "2024-12-01T12:33:06.419354200Z"
    }
   }
  },
  {
   "cell_type": "code",
   "execution_count": 45,
   "outputs": [
    {
     "name": "stdout",
     "output_type": "stream",
     "text": [
      "<class 'pandas.core.frame.DataFrame'>\n",
      "Int64Index: 17197 entries, 31963 to 49159\n",
      "Data columns (total 5 columns):\n",
      " #   Column         Non-Null Count  Dtype \n",
      "---  ------         --------------  ----- \n",
      " 0   tweet          17197 non-null  object\n",
      " 1   tweet_cleaned  17197 non-null  object\n",
      " 2   user_handle    17197 non-null  int64 \n",
      " 3   hashtags       17197 non-null  object\n",
      " 4   emojis         3452 non-null   object\n",
      "dtypes: int64(1), object(4)\n",
      "memory usage: 806.1+ KB\n"
     ]
    },
    {
     "data": {
      "text/plain": "                                                   tweet  \\\nid                                                         \n31963  #studiolife #aislife #requires #passion #dedic...   \n31964   @user #white #supremacists want everyone to s...   \n31965  safe ways to heal your #acne!!    #altwaystohe...   \n31966  is the hp and the cursed child book up for res...   \n31967    3rd #bihday to my amazing, hilarious #nephew...   \n\n                                           tweet_cleaned  user_handle  \\\nid                                                                      \n31963  studiolife aislife require passion dedication ...            0   \n31964  white supremacist want everyone to see the new...            1   \n31965  safe way to heal your acne altwaystoheal healt...            0   \n31966  be the hp and the cursed child book up for res...            0   \n31967  rd bihday to my amazing hilarious nephew eli a...            0   \n\n                                                hashtags  \\\nid                                                         \n31963  ['#studiolife', '#aislife', '#requires', '#pas...   \n31964    ['#white', '#supremacists', '#birds', '#movie']   \n31965  ['#acne', '#altwaystoheal', '#healthy', '#heal...   \n31966       ['#harrypotter', '#pottermore', '#favorite']   \n31967                             ['#bihday', '#nephew']   \n\n                                                  emojis  \nid                                                        \n31963                                                NaN  \n31964                                                NaN  \n31965                                                NaN  \n31966  :smiling_face_with_heart-eyes:,:smiling_face_w...  \n31967                                                NaN  ",
      "text/html": "<div>\n<style scoped>\n    .dataframe tbody tr th:only-of-type {\n        vertical-align: middle;\n    }\n\n    .dataframe tbody tr th {\n        vertical-align: top;\n    }\n\n    .dataframe thead th {\n        text-align: right;\n    }\n</style>\n<table border=\"1\" class=\"dataframe\">\n  <thead>\n    <tr style=\"text-align: right;\">\n      <th></th>\n      <th>tweet</th>\n      <th>tweet_cleaned</th>\n      <th>user_handle</th>\n      <th>hashtags</th>\n      <th>emojis</th>\n    </tr>\n    <tr>\n      <th>id</th>\n      <th></th>\n      <th></th>\n      <th></th>\n      <th></th>\n      <th></th>\n    </tr>\n  </thead>\n  <tbody>\n    <tr>\n      <th>31963</th>\n      <td>#studiolife #aislife #requires #passion #dedic...</td>\n      <td>studiolife aislife require passion dedication ...</td>\n      <td>0</td>\n      <td>['#studiolife', '#aislife', '#requires', '#pas...</td>\n      <td>NaN</td>\n    </tr>\n    <tr>\n      <th>31964</th>\n      <td>@user #white #supremacists want everyone to s...</td>\n      <td>white supremacist want everyone to see the new...</td>\n      <td>1</td>\n      <td>['#white', '#supremacists', '#birds', '#movie']</td>\n      <td>NaN</td>\n    </tr>\n    <tr>\n      <th>31965</th>\n      <td>safe ways to heal your #acne!!    #altwaystohe...</td>\n      <td>safe way to heal your acne altwaystoheal healt...</td>\n      <td>0</td>\n      <td>['#acne', '#altwaystoheal', '#healthy', '#heal...</td>\n      <td>NaN</td>\n    </tr>\n    <tr>\n      <th>31966</th>\n      <td>is the hp and the cursed child book up for res...</td>\n      <td>be the hp and the cursed child book up for res...</td>\n      <td>0</td>\n      <td>['#harrypotter', '#pottermore', '#favorite']</td>\n      <td>:smiling_face_with_heart-eyes:,:smiling_face_w...</td>\n    </tr>\n    <tr>\n      <th>31967</th>\n      <td>3rd #bihday to my amazing, hilarious #nephew...</td>\n      <td>rd bihday to my amazing hilarious nephew eli a...</td>\n      <td>0</td>\n      <td>['#bihday', '#nephew']</td>\n      <td>NaN</td>\n    </tr>\n  </tbody>\n</table>\n</div>"
     },
     "execution_count": 45,
     "metadata": {},
     "output_type": "execute_result"
    }
   ],
   "source": [
    "df_predict_cleaned_rnn = pd.read_csv(\"twitter_hate-speech/predict_cleaned_rnn.csv\", index_col=0)\n",
    "df_predict_cleaned_rnn.info()\n",
    "df_predict_cleaned_rnn.head()"
   ],
   "metadata": {
    "collapsed": false,
    "ExecuteTime": {
     "end_time": "2024-12-01T12:33:07.510409Z",
     "start_time": "2024-12-01T12:33:07.385407300Z"
    }
   }
  },
  {
   "cell_type": "code",
   "execution_count": null,
   "outputs": [],
   "source": [],
   "metadata": {
    "collapsed": false
   }
  }
 ],
 "metadata": {
  "kernelspec": {
   "display_name": "Python 3",
   "language": "python",
   "name": "python3"
  },
  "language_info": {
   "codemirror_mode": {
    "name": "ipython",
    "version": 2
   },
   "file_extension": ".py",
   "mimetype": "text/x-python",
   "name": "python",
   "nbconvert_exporter": "python",
   "pygments_lexer": "ipython2",
   "version": "2.7.6"
  }
 },
 "nbformat": 4,
 "nbformat_minor": 0
}
