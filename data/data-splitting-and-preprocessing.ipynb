{
 "cells": [
  {
   "cell_type": "code",
   "execution_count": 21,
   "metadata": {
    "collapsed": true,
    "ExecuteTime": {
     "end_time": "2024-12-01T11:24:21.357705300Z",
     "start_time": "2024-12-01T11:24:21.330705Z"
    }
   },
   "outputs": [],
   "source": [
    "import pandas as pd\n",
    "import numpy as np"
   ]
  },
  {
   "cell_type": "code",
   "execution_count": 10,
   "outputs": [],
   "source": [
    "def print_distribution(df, col):\n",
    "    positive = np.count_nonzero(df[col] == 1)\n",
    "    negative = np.count_nonzero(df[col] == 0)\n",
    "    print(\"- Positive:\", positive)\n",
    "    print(\"- Negative:\", negative)\n",
    "    print(\"- Verhältnis:\", negative / positive)"
   ],
   "metadata": {
    "collapsed": false,
    "ExecuteTime": {
     "end_time": "2024-12-01T11:02:47.973007900Z",
     "start_time": "2024-12-01T11:02:47.946009300Z"
    }
   }
  },
  {
   "cell_type": "markdown",
   "source": [
    "### Erstellung neuer Train und Testdatensatz"
   ],
   "metadata": {
    "collapsed": false
   }
  },
  {
   "cell_type": "code",
   "execution_count": 11,
   "outputs": [
    {
     "data": {
      "text/plain": "    label                                              tweet\nid                                                          \n1       0   @user when a father is dysfunctional and is s...\n2       0  @user @user thanks for #lyft credit i can't us...\n3       0                                bihday your majesty\n4       0  #model   i love u take with u all the time in ...\n5       0             factsguide: society now    #motivation",
      "text/html": "<div>\n<style scoped>\n    .dataframe tbody tr th:only-of-type {\n        vertical-align: middle;\n    }\n\n    .dataframe tbody tr th {\n        vertical-align: top;\n    }\n\n    .dataframe thead th {\n        text-align: right;\n    }\n</style>\n<table border=\"1\" class=\"dataframe\">\n  <thead>\n    <tr style=\"text-align: right;\">\n      <th></th>\n      <th>label</th>\n      <th>tweet</th>\n    </tr>\n    <tr>\n      <th>id</th>\n      <th></th>\n      <th></th>\n    </tr>\n  </thead>\n  <tbody>\n    <tr>\n      <th>1</th>\n      <td>0</td>\n      <td>@user when a father is dysfunctional and is s...</td>\n    </tr>\n    <tr>\n      <th>2</th>\n      <td>0</td>\n      <td>@user @user thanks for #lyft credit i can't us...</td>\n    </tr>\n    <tr>\n      <th>3</th>\n      <td>0</td>\n      <td>bihday your majesty</td>\n    </tr>\n    <tr>\n      <th>4</th>\n      <td>0</td>\n      <td>#model   i love u take with u all the time in ...</td>\n    </tr>\n    <tr>\n      <th>5</th>\n      <td>0</td>\n      <td>factsguide: society now    #motivation</td>\n    </tr>\n  </tbody>\n</table>\n</div>"
     },
     "execution_count": 11,
     "metadata": {},
     "output_type": "execute_result"
    }
   ],
   "source": [
    "df_train_old = pd.read_csv(\"twitter_hate-speech-alt/train.csv\", index_col=0)\n",
    "df_train_old.head()"
   ],
   "metadata": {
    "collapsed": false,
    "ExecuteTime": {
     "end_time": "2024-12-01T11:02:48.245016600Z",
     "start_time": "2024-12-01T11:02:48.165017300Z"
    }
   }
  },
  {
   "cell_type": "code",
   "execution_count": 12,
   "outputs": [
    {
     "name": "stdout",
     "output_type": "stream",
     "text": [
      "- Positive: 2242\n",
      "- Negative: 29720\n",
      "- Verhältnis: 13.256021409455842\n"
     ]
    }
   ],
   "source": [
    "print_distribution(df_train_old, \"label\")"
   ],
   "metadata": {
    "collapsed": false,
    "ExecuteTime": {
     "end_time": "2024-12-01T11:02:48.466014500Z",
     "start_time": "2024-12-01T11:02:48.392021700Z"
    }
   }
  },
  {
   "cell_type": "code",
   "execution_count": 13,
   "outputs": [
    {
     "name": "stdout",
     "output_type": "stream",
     "text": [
      "- Positive: 1574\n",
      "- Negative: 20799\n",
      "- Verhältnis: 13.214104193138501\n"
     ]
    }
   ],
   "source": [
    "train = df_train_old.sample(frac=0.7, random_state=200)\n",
    "print_distribution(train, \"label\")"
   ],
   "metadata": {
    "collapsed": false,
    "ExecuteTime": {
     "end_time": "2024-12-01T11:03:22.441702300Z",
     "start_time": "2024-12-01T11:03:22.380705Z"
    }
   }
  },
  {
   "cell_type": "code",
   "execution_count": 17,
   "outputs": [
    {
     "data": {
      "text/plain": "       label                                              tweet\nid                                                             \n8886       0   @user #cinemaaawards final rehearsals!! geari...\n909        0  istg this is the best cheese ta but dayum expe...\n27613      0  this was amazing. the weather was not. #musica...\n15999      0  yes! #talented #sexy   âcriminal mindsâ ca...\n23817      0  want to be   while being #successful? see how ...",
      "text/html": "<div>\n<style scoped>\n    .dataframe tbody tr th:only-of-type {\n        vertical-align: middle;\n    }\n\n    .dataframe tbody tr th {\n        vertical-align: top;\n    }\n\n    .dataframe thead th {\n        text-align: right;\n    }\n</style>\n<table border=\"1\" class=\"dataframe\">\n  <thead>\n    <tr style=\"text-align: right;\">\n      <th></th>\n      <th>label</th>\n      <th>tweet</th>\n    </tr>\n    <tr>\n      <th>id</th>\n      <th></th>\n      <th></th>\n    </tr>\n  </thead>\n  <tbody>\n    <tr>\n      <th>8886</th>\n      <td>0</td>\n      <td>@user #cinemaaawards final rehearsals!! geari...</td>\n    </tr>\n    <tr>\n      <th>909</th>\n      <td>0</td>\n      <td>istg this is the best cheese ta but dayum expe...</td>\n    </tr>\n    <tr>\n      <th>27613</th>\n      <td>0</td>\n      <td>this was amazing. the weather was not. #musica...</td>\n    </tr>\n    <tr>\n      <th>15999</th>\n      <td>0</td>\n      <td>yes! #talented #sexy   âcriminal mindsâ ca...</td>\n    </tr>\n    <tr>\n      <th>23817</th>\n      <td>0</td>\n      <td>want to be   while being #successful? see how ...</td>\n    </tr>\n  </tbody>\n</table>\n</div>"
     },
     "execution_count": 17,
     "metadata": {},
     "output_type": "execute_result"
    }
   ],
   "source": [
    "train.head()"
   ],
   "metadata": {
    "collapsed": false,
    "ExecuteTime": {
     "end_time": "2024-12-01T11:05:04.873875300Z",
     "start_time": "2024-12-01T11:05:04.855882500Z"
    }
   }
  },
  {
   "cell_type": "code",
   "execution_count": 14,
   "outputs": [
    {
     "name": "stdout",
     "output_type": "stream",
     "text": [
      "- Positive: 668\n",
      "- Negative: 8921\n",
      "- Verhältnis: 13.354790419161677\n"
     ]
    }
   ],
   "source": [
    "test = df_train_old.drop(train.index)\n",
    "print_distribution(test, \"label\")"
   ],
   "metadata": {
    "collapsed": false,
    "ExecuteTime": {
     "end_time": "2024-12-01T11:03:22.611520400Z",
     "start_time": "2024-12-01T11:03:22.579523200Z"
    }
   }
  },
  {
   "cell_type": "code",
   "execution_count": 18,
   "outputs": [
    {
     "data": {
      "text/plain": "    label                                              tweet\nid                                                          \n4       0  #model   i love u take with u all the time in ...\n5       0             factsguide: society now    #motivation\n6       0  [2/2] huge fan fare and big talking before the...\n16      0  ouch...junior is angryð#got7 #junior #yugyo...\n18      1                             retweet if you agree! ",
      "text/html": "<div>\n<style scoped>\n    .dataframe tbody tr th:only-of-type {\n        vertical-align: middle;\n    }\n\n    .dataframe tbody tr th {\n        vertical-align: top;\n    }\n\n    .dataframe thead th {\n        text-align: right;\n    }\n</style>\n<table border=\"1\" class=\"dataframe\">\n  <thead>\n    <tr style=\"text-align: right;\">\n      <th></th>\n      <th>label</th>\n      <th>tweet</th>\n    </tr>\n    <tr>\n      <th>id</th>\n      <th></th>\n      <th></th>\n    </tr>\n  </thead>\n  <tbody>\n    <tr>\n      <th>4</th>\n      <td>0</td>\n      <td>#model   i love u take with u all the time in ...</td>\n    </tr>\n    <tr>\n      <th>5</th>\n      <td>0</td>\n      <td>factsguide: society now    #motivation</td>\n    </tr>\n    <tr>\n      <th>6</th>\n      <td>0</td>\n      <td>[2/2] huge fan fare and big talking before the...</td>\n    </tr>\n    <tr>\n      <th>16</th>\n      <td>0</td>\n      <td>ouch...junior is angryð#got7 #junior #yugyo...</td>\n    </tr>\n    <tr>\n      <th>18</th>\n      <td>1</td>\n      <td>retweet if you agree!</td>\n    </tr>\n  </tbody>\n</table>\n</div>"
     },
     "execution_count": 18,
     "metadata": {},
     "output_type": "execute_result"
    }
   ],
   "source": [
    "test.head()"
   ],
   "metadata": {
    "collapsed": false,
    "ExecuteTime": {
     "end_time": "2024-12-01T11:05:17.599894700Z",
     "start_time": "2024-12-01T11:05:17.566895900Z"
    }
   }
  },
  {
   "cell_type": "code",
   "execution_count": 16,
   "outputs": [],
   "source": [
    "train.to_csv(\"twitter_hate-speech/train.csv\")\n",
    "test.to_csv(\"twitter_hate-speech/test.csv\")"
   ],
   "metadata": {
    "collapsed": false,
    "ExecuteTime": {
     "end_time": "2024-12-01T11:04:35.606463300Z",
     "start_time": "2024-12-01T11:04:35.437427100Z"
    }
   }
  },
  {
   "cell_type": "markdown",
   "source": [
    "### Bereinigung und Vorverarbeitung"
   ],
   "metadata": {
    "collapsed": false
   }
  },
  {
   "cell_type": "code",
   "execution_count": 103,
   "outputs": [],
   "source": [
    "from src.functions.cleaning_pipeline import clean_dataframe"
   ],
   "metadata": {
    "collapsed": false,
    "ExecuteTime": {
     "end_time": "2024-12-02T19:14:10.841810500Z",
     "start_time": "2024-12-02T19:14:10.769812200Z"
    }
   }
  },
  {
   "cell_type": "markdown",
   "source": [
    "#### Bereinigung und Vorverarbeitung: TRAIN"
   ],
   "metadata": {
    "collapsed": false
   }
  },
  {
   "cell_type": "markdown",
   "source": [
    "##### Geeignet für: Maschinelles Lernen\n",
    "es werden alle implementierten Cleaning und Preprocessing Schritte ausgeführt AUßER: Auflösen Negationen (nicht implementiert), Emojis Entfernen"
   ],
   "metadata": {
    "collapsed": false
   }
  },
  {
   "cell_type": "code",
   "execution_count": 64,
   "outputs": [],
   "source": [
    "df_origin_train = pd.read_csv('./twitter_hate-speech/train.csv', index_col=0)\n",
    "df_clean_base_train = df_origin_train.copy()"
   ],
   "metadata": {
    "collapsed": false,
    "ExecuteTime": {
     "end_time": "2024-12-02T16:08:55.087561700Z",
     "start_time": "2024-12-02T16:08:55.012570900Z"
    }
   }
  },
  {
   "cell_type": "code",
   "execution_count": null,
   "outputs": [],
   "source": [
    "df_cleaned_train = clean_dataframe(df_clean_base_train, \"tweet\", False, True, False)"
   ],
   "metadata": {
    "collapsed": false
   }
  },
  {
   "cell_type": "code",
   "execution_count": 101,
   "outputs": [
    {
     "data": {
      "text/plain": "       label  \\\nid             \n8886       0   \n909        0   \n27613      0   \n15999      0   \n23817      0   \n11243      0   \n18889      0   \n290        0   \n1737       0   \n24201      0   \n4088       0   \n5812       0   \n31939      0   \n14427      0   \n26132      0   \n8033       0   \n13024      0   \n20043      0   \n12936      0   \n2541       0   \n28726      0   \n1344       0   \n7398       0   \n1574       0   \n31245      0   \n4879       0   \n5604       0   \n18952      0   \n19203      0   \n22601      0   \n11334      0   \n12353      0   \n8858       1   \n27529      0   \n15388      0   \n10288      0   \n29070      0   \n8468       0   \n21858      0   \n23013      0   \n13575      0   \n5780       0   \n11962      0   \n23565      0   \n14107      0   \n22450      0   \n12052      0   \n18005      0   \n10871      0   \n12485      0   \n\n                                                                                                                                          tweet  \\\nid                                                                                                                                                \n8886                            @user #cinemaaawards final rehearsals!! gearing up for the evening!! #butterflies #stage  ! hope u all like it    \n909                                                                                        istg this is the best cheese ta but dayum expensive    \n27613                                                    this was amazing. the weather was not. #musical #london #matilda #westend #weekend  …    \n15999                                            yes! #talented #sexy   ‘criminal minds’ casts @user as series regular for season 12  via @user   \n23817                                                   want to be   while being #successful? see how #worklifebalance helps in  by @user @user   \n11243                     really, @user !!!!! #thepurge is what you show on #fathersday for a movie trailer?   kids are watching! get a clue!!!   \n18889                                                                      be happy. be bright. be you.💖👑   #monday   #motivation #inspiration    \n290                                                 where is the world heading? you could lose your life just for leaving your home. #orlando     \n1737                              #horsepower   bull up: you will dominate your bull and you will direct it whatever you want it to do. when y    \n24201                                 #bihday!  a new #porait of #princenicolas of #sweden who turns 1 today. #congrats! #kongebloggen #royals    \n4088                                       these niggas burning &amp; won't let you know &amp; these females burning &amp; won't let you know     \n5812                                                             @user @user just ordered two spf15 with bronzes and lip balm   #australiangold   \n31939                          my fav actor #vijaysethupathi ! my fav actress @user ! my most fav director @user !! one film !! can't wait   :)   \n14427                       @user study history, @user a #gop president spawned #isis. fearing you'll be booted, you're desperate; you play th…   \n26132                                                                                                      who fuckin coat? 😭😭 ugly ass lmfao     \n8033                                                                @user playing songs we rarely play live @user - friday 29th july 2016 😀🎸🎶     \n13024                                                                                                          best of luck dear for your film    \n20043                                                             these two are my everything 😍😍😍   fathersday  #dad #family #love #instamood…    \n12936                                                                      got a @user #retweet i've truly made it in life! @user and that's      \n2541                                                                                           i'm so   and #grateful now that - #affirmations    \n28726                                                      #angels #archangels from on high here to help you live #spiritual and   anf lives      \n1344                                                            @user @user is from #tennessee.  do not look to this #republican for suppo!       \n7398                                                                                                                      feels #1day #myhea      \n1574                            #  users and growing fast! 1 business - 3 income streams - 5 minutes per day if you can click a mouse - you...    \n31245                                                                         @user thanks for introducing me to this page @user 😂😂😂😂😂   #funny   \n4879                                                  #bravo @user ~ @user #banningofpostpress means #nothing ~ just as donald is #nothing!       \n5604                                                                                                    @user did you see it gian @user ?? ❣😄❣    \n18952                                                                  child attacked by alligator at walt disney world     #waltdisneyworld      \n19203                                             making new friends this year is definitely one of the best decisions i've made in my life 😊     \n22601                                                                                 now going to watch  the most awarded show @user  @user      \n11334                         @user 50% off all chamilia charms - entire inventory at our cranberry location 🤗   #summer #june #chamilia #sale    \n12353                                                 @user @user just gone in2 @user its now showing this...thx hun! so happy!   #pll #love 😍    \n8858                                                     are you #black &amp; feel like … are stomping on you? listen  #retweet #tampa #miami…    \n27529                                          our first visit to @user today. fabulous place to eat and drink. @user pizza was superb   diners   \n15388                                                                             @user   sunday mike @user @user @user @user @user @user @user   \n10288  no new hires for police officers😮. what about all the students that are taking police program in school. where do they go to get jobs?     \n29070                                                                                                        what's going on with the world?      \n8468                                                                                          a good old fashioned public shaming is in order.    \n21858                @user i've just waited half an hour for a bus to come. #x43 to skipton was due at one and didn't arrive until half past.     \n23013                                                                                                            #selfie   aggressive bitch -     \n13575                                               @user here is @user favorite basketball player @user at the tough mudder today #hulkmode      \n5780                                  @user @user #djhumility feeling you with the ojb vibes... #ripojb   #areacodemixshow cc @user @user @user   \n11962                                                                                      i have a great view #sydney #esco   #gfe  #letsplay    \n23565                            @user off to ponsanooth later today to sing at a wonderful village pay for the queen's bihday!   #lovecornwall   \n14107                                                      it seems i'd be good at it by now, but no #rock #rap #funny #comedy #pop   #hiphop     \n22450                                      queen evil's bihday😘#lnic #lnicjustanevilbday   #bihday #suit #evil #love #yolo #swag #doitfohev...    \n12052                                @user @user @user could they not come up with a midlands promotion instead of irelands ancient east? @user   \n18005                                         we are   and #proud to celebrate this vacation along with💎🙌sarita, itzel &amp; enrique. she has…    \n10871                                                                                           i am special. #i_am #positive #affirmation        \n12485                                                                                                        me rn cause school is over soon      \n\n                                                                          tweet_cleaned  \\\nid                                                                                        \n8886                             final rehearsal gear evening butterfly stage hope like   \n909                                                            good cheese ta expensive   \n27613                                            amazing weather musical london weekend   \n15999                yes talented sexy ' criminal mind ' cast series regular season via   \n23817                                                          want successful see help   \n11243                           really show fathersday movie trailer kid watch get clue   \n18889                          happy bright sparkle crown monday motivation inspiration   \n290                                       world head could lose life leave home orlando   \n1737                                            bull dominate bull direct whatever want   \n24201                                bihday new porait sweden turn today congrats royal   \n4088                                               niggas let know female burn let know   \n5812                                                                      order two lip   \n31939                           fav actor fav actress fav director one film wait smiley   \n14427                      study history gop president isis fear boot desperate play th   \n26132                                  fuckin coat loudly cry loudly cry ugly ass lmfao   \n8033                 play song rarely play live friday th july grin guitar musical note   \n13024                                                               good luck dear film   \n20043                                    two everything fathersday dad family instamood   \n12936                                                       get retweet truly make life   \n2541                                                               grateful affirmation   \n28726                                               angel high help live spiritual live   \n1344                                                    tennessee look republican suppo   \n7398                                                                               feel   \n1574                       user grow fast business income stream minute per click mouse   \n31245           thank introduce page tear joy tear joy tear joy tear joy tear joy funny   \n4879                                                    ~ mean nothing ~ donald nothing   \n5604                                                   see exclamation grin exclamation   \n18952                                          child attack alligator walt disney world   \n19203                       make new friend year definitely one good decision make life   \n22601                                                               go watch award show   \n11334                                        entire location open hand summer june sale   \n12353                                                                 go show happy pll   \n8858                                   black feel like stomp listen retweet tampa miami   \n27529                     first visit today fabulous place eat drink pizza superb diner   \n15388                                                                       sunday mike   \n10288  new hire police officer open mouth student take police program school go get job   \n29070                                                                          go world   \n8468                                                              good old public order   \n21858                                wait half hour bus come x due one arrive half past   \n23013                                                                      selfie bitch   \n13575                                            favorite basketball player tough today   \n5780                                                                       feel vibe cc   \n11962                                                            great view sydney esco   \n23565                              later today sing wonderful village pay queens bihday   \n14107                                        seem good rock rap funny comedy pop hiphop   \n22450                            queen evil bihday blow kiss bihday suit evil yolo swag   \n12052                                         could come promotion instead ireland east   \n18005                               proud celebrate vacation along gem stone raise hand   \n10871                                                      special positive affirmation   \n12485                                                           right cause school soon   \n\n       user_handle  \\\nid                   \n8886             1   \n909              0   \n27613            0   \n15999            2   \n23817            2   \n11243            1   \n18889            0   \n290              0   \n1737             0   \n24201            0   \n4088             0   \n5812             2   \n31939            2   \n14427            2   \n26132            0   \n8033             2   \n13024            0   \n20043            0   \n12936            2   \n2541             0   \n28726            0   \n1344             2   \n7398             0   \n1574             0   \n31245            2   \n4879             2   \n5604             2   \n18952            0   \n19203            0   \n22601            2   \n11334            1   \n12353            3   \n8858             0   \n27529            2   \n15388            8   \n10288            0   \n29070            0   \n8468             0   \n21858            1   \n23013            0   \n13575            3   \n5780             5   \n11962            0   \n23565            1   \n14107            0   \n22450            0   \n12052            4   \n18005            0   \n10871            0   \n12485            0   \n\n                                                                                   hashtags  \\\nid                                                                                            \n8886                                                 [#cinemaaawards, #butterflies, #stage]   \n909                                                                                      []   \n27613                                     [#musical, #london, #matilda, #westend, #weekend]   \n15999                                                                    [#talented, #sexy]   \n23817                                                       [#successful, #worklifebalance]   \n11243                                                              [#thepurge, #fathersday]   \n18889                                                  [#monday, #motivation, #inspiration]   \n290                                                                              [#orlando]   \n1737                                                                          [#horsepower]   \n24201        [#bihday, #porait, #princenicolas, #sweden, #congrats, #kongebloggen, #royals]   \n4088                                                                                     []   \n5812                                                                      [#australiangold]   \n31939                                                                    [#vijaysethupathi]   \n14427                                                                         [#gop, #isis]   \n26132                                                                                    []   \n8033                                                                                     []   \n13024                                                                                    []   \n20043                                                    [#dad, #family, #love, #instamood]   \n12936                                                                            [#retweet]   \n2541                                                             [#grateful, #affirmations]   \n28726                                                    [#angels, #archangels, #spiritual]   \n1344                                                              [#tennessee, #republican]   \n7398                                                                        [#1day, #myhea]   \n1574                                                                                     []   \n31245                                                                              [#funny]   \n4879                                      [#bravo, #banningofpostpress, #nothing, #nothing]   \n5604                                                                                     []   \n18952                                                                    [#waltdisneyworld]   \n19203                                                                                    []   \n22601                                                                                    []   \n11334                                                    [#summer, #june, #chamilia, #sale]   \n12353                                                                         [#pll, #love]   \n8858                                                     [#black, #retweet, #tampa, #miami]   \n27529                                                                                    []   \n15388                                                                                    []   \n10288                                                                                    []   \n29070                                                                                    []   \n8468                                                                                     []   \n21858                                                                                [#x43]   \n23013                                                                             [#selfie]   \n13575                                                                           [#hulkmode]   \n5780                                               [#djhumility, #ripojb, #areacodemixshow]   \n11962                                                     [#sydney, #esco, #gfe, #letsplay]   \n23565                                                                       [#lovecornwall]   \n14107                                         [#rock, #rap, #funny, #comedy, #pop, #hiphop]   \n22450  [#lnic, #lnicjustanevilbday, #bihday, #suit, #evil, #love, #yolo, #swag, #doitfohev]   \n12052                                                                                    []   \n18005                                                                              [#proud]   \n10871                                                      [#i_am, #positive, #affirmation]   \n12485                                                                                    []   \n\n                                                                                                                             emojis  \nid                                                                                                                                   \n8886                                                                                                                                 \n909                                                                                                                                  \n27613                                                                                                                                \n15999                                                                                                                                \n23817                                                                                                                                \n11243                                                                                                                                \n18889                                                                                                     :sparkling_heart:,:crown:  \n290                                                                                                                                  \n1737                                                                                                                                 \n24201                                                                                                                                \n4088                                                                                                                                 \n5812                                                                                                                                 \n31939                                                                                                                                \n14427                                                                                                                                \n26132                                                                                     :loudly_crying_face:,:loudly_crying_face:  \n8033                                                                                       :grinning_face:,:guitar:,:musical_notes:  \n13024                                                                                                                                \n20043                                  :smiling_face_with_heart-eyes:,:smiling_face_with_heart-eyes:,:smiling_face_with_heart-eyes:  \n12936                                                                                                                                \n2541                                                                                                                                 \n28726                                                                                                                                \n1344                                                                                                                                 \n7398                                                                                                                                 \n1574                                                                                                                                 \n31245  :face_with_tears_of_joy:,:face_with_tears_of_joy:,:face_with_tears_of_joy:,:face_with_tears_of_joy:,:face_with_tears_of_joy:  \n4879                                                                                                                                 \n5604                                                      :heart_exclamation:,:grinning_face_with_smiling_eyes:,:heart_exclamation:  \n18952                                                                                                                                \n19203                                                                                              :smiling_face_with_smiling_eyes:  \n22601                                                                                                                                \n11334                                                                                                :smiling_face_with_open_hands:  \n12353                                                                                                :smiling_face_with_heart-eyes:  \n8858                                                                                                                                 \n27529                                                                                                                                \n15388                                                                                                                                \n10288                                                                                                        :face_with_open_mouth:  \n29070                                                                                                                                \n8468                                                                                                                                 \n21858                                                                                                                                \n23013                                                                                                                                \n13575                                                                                                                                \n5780                                                                                                                                 \n11962                                                                                                                                \n23565                                                                                                                                \n14107                                                                                                                                \n22450                                                                                                         :face_blowing_a_kiss:  \n12052                                                                                                                                \n18005                                                                                                   :gem_stone:,:raising_hands:  \n10871                                                                                                                                \n12485                                                                                                                                ",
      "text/html": "<div>\n<style scoped>\n    .dataframe tbody tr th:only-of-type {\n        vertical-align: middle;\n    }\n\n    .dataframe tbody tr th {\n        vertical-align: top;\n    }\n\n    .dataframe thead th {\n        text-align: right;\n    }\n</style>\n<table border=\"1\" class=\"dataframe\">\n  <thead>\n    <tr style=\"text-align: right;\">\n      <th></th>\n      <th>label</th>\n      <th>tweet</th>\n      <th>tweet_cleaned</th>\n      <th>user_handle</th>\n      <th>hashtags</th>\n      <th>emojis</th>\n    </tr>\n    <tr>\n      <th>id</th>\n      <th></th>\n      <th></th>\n      <th></th>\n      <th></th>\n      <th></th>\n      <th></th>\n    </tr>\n  </thead>\n  <tbody>\n    <tr>\n      <th>8886</th>\n      <td>0</td>\n      <td>@user #cinemaaawards final rehearsals!! gearing up for the evening!! #butterflies #stage  ! hope u all like it</td>\n      <td>final rehearsal gear evening butterfly stage hope like</td>\n      <td>1</td>\n      <td>[#cinemaaawards, #butterflies, #stage]</td>\n      <td></td>\n    </tr>\n    <tr>\n      <th>909</th>\n      <td>0</td>\n      <td>istg this is the best cheese ta but dayum expensive</td>\n      <td>good cheese ta expensive</td>\n      <td>0</td>\n      <td>[]</td>\n      <td></td>\n    </tr>\n    <tr>\n      <th>27613</th>\n      <td>0</td>\n      <td>this was amazing. the weather was not. #musical #london #matilda #westend #weekend  …</td>\n      <td>amazing weather musical london weekend</td>\n      <td>0</td>\n      <td>[#musical, #london, #matilda, #westend, #weekend]</td>\n      <td></td>\n    </tr>\n    <tr>\n      <th>15999</th>\n      <td>0</td>\n      <td>yes! #talented #sexy   ‘criminal minds’ casts @user as series regular for season 12  via @user</td>\n      <td>yes talented sexy ' criminal mind ' cast series regular season via</td>\n      <td>2</td>\n      <td>[#talented, #sexy]</td>\n      <td></td>\n    </tr>\n    <tr>\n      <th>23817</th>\n      <td>0</td>\n      <td>want to be   while being #successful? see how #worklifebalance helps in  by @user @user</td>\n      <td>want successful see help</td>\n      <td>2</td>\n      <td>[#successful, #worklifebalance]</td>\n      <td></td>\n    </tr>\n    <tr>\n      <th>11243</th>\n      <td>0</td>\n      <td>really, @user !!!!! #thepurge is what you show on #fathersday for a movie trailer?   kids are watching! get a clue!!!</td>\n      <td>really show fathersday movie trailer kid watch get clue</td>\n      <td>1</td>\n      <td>[#thepurge, #fathersday]</td>\n      <td></td>\n    </tr>\n    <tr>\n      <th>18889</th>\n      <td>0</td>\n      <td>be happy. be bright. be you.💖👑   #monday   #motivation #inspiration</td>\n      <td>happy bright sparkle crown monday motivation inspiration</td>\n      <td>0</td>\n      <td>[#monday, #motivation, #inspiration]</td>\n      <td>:sparkling_heart:,:crown:</td>\n    </tr>\n    <tr>\n      <th>290</th>\n      <td>0</td>\n      <td>where is the world heading? you could lose your life just for leaving your home. #orlando</td>\n      <td>world head could lose life leave home orlando</td>\n      <td>0</td>\n      <td>[#orlando]</td>\n      <td></td>\n    </tr>\n    <tr>\n      <th>1737</th>\n      <td>0</td>\n      <td>#horsepower   bull up: you will dominate your bull and you will direct it whatever you want it to do. when y</td>\n      <td>bull dominate bull direct whatever want</td>\n      <td>0</td>\n      <td>[#horsepower]</td>\n      <td></td>\n    </tr>\n    <tr>\n      <th>24201</th>\n      <td>0</td>\n      <td>#bihday!  a new #porait of #princenicolas of #sweden who turns 1 today. #congrats! #kongebloggen #royals</td>\n      <td>bihday new porait sweden turn today congrats royal</td>\n      <td>0</td>\n      <td>[#bihday, #porait, #princenicolas, #sweden, #congrats, #kongebloggen, #royals]</td>\n      <td></td>\n    </tr>\n    <tr>\n      <th>4088</th>\n      <td>0</td>\n      <td>these niggas burning &amp;amp; won't let you know &amp;amp; these females burning &amp;amp; won't let you know</td>\n      <td>niggas let know female burn let know</td>\n      <td>0</td>\n      <td>[]</td>\n      <td></td>\n    </tr>\n    <tr>\n      <th>5812</th>\n      <td>0</td>\n      <td>@user @user just ordered two spf15 with bronzes and lip balm   #australiangold</td>\n      <td>order two lip</td>\n      <td>2</td>\n      <td>[#australiangold]</td>\n      <td></td>\n    </tr>\n    <tr>\n      <th>31939</th>\n      <td>0</td>\n      <td>my fav actor #vijaysethupathi ! my fav actress @user ! my most fav director @user !! one film !! can't wait   :)</td>\n      <td>fav actor fav actress fav director one film wait smiley</td>\n      <td>2</td>\n      <td>[#vijaysethupathi]</td>\n      <td></td>\n    </tr>\n    <tr>\n      <th>14427</th>\n      <td>0</td>\n      <td>@user study history, @user a #gop president spawned #isis. fearing you'll be booted, you're desperate; you play th…</td>\n      <td>study history gop president isis fear boot desperate play th</td>\n      <td>2</td>\n      <td>[#gop, #isis]</td>\n      <td></td>\n    </tr>\n    <tr>\n      <th>26132</th>\n      <td>0</td>\n      <td>who fuckin coat? 😭😭 ugly ass lmfao</td>\n      <td>fuckin coat loudly cry loudly cry ugly ass lmfao</td>\n      <td>0</td>\n      <td>[]</td>\n      <td>:loudly_crying_face:,:loudly_crying_face:</td>\n    </tr>\n    <tr>\n      <th>8033</th>\n      <td>0</td>\n      <td>@user playing songs we rarely play live @user - friday 29th july 2016 😀🎸🎶</td>\n      <td>play song rarely play live friday th july grin guitar musical note</td>\n      <td>2</td>\n      <td>[]</td>\n      <td>:grinning_face:,:guitar:,:musical_notes:</td>\n    </tr>\n    <tr>\n      <th>13024</th>\n      <td>0</td>\n      <td>best of luck dear for your film</td>\n      <td>good luck dear film</td>\n      <td>0</td>\n      <td>[]</td>\n      <td></td>\n    </tr>\n    <tr>\n      <th>20043</th>\n      <td>0</td>\n      <td>these two are my everything 😍😍😍   fathersday  #dad #family #love #instamood…</td>\n      <td>two everything fathersday dad family instamood</td>\n      <td>0</td>\n      <td>[#dad, #family, #love, #instamood]</td>\n      <td>:smiling_face_with_heart-eyes:,:smiling_face_with_heart-eyes:,:smiling_face_with_heart-eyes:</td>\n    </tr>\n    <tr>\n      <th>12936</th>\n      <td>0</td>\n      <td>got a @user #retweet i've truly made it in life! @user and that's</td>\n      <td>get retweet truly make life</td>\n      <td>2</td>\n      <td>[#retweet]</td>\n      <td></td>\n    </tr>\n    <tr>\n      <th>2541</th>\n      <td>0</td>\n      <td>i'm so   and #grateful now that - #affirmations</td>\n      <td>grateful affirmation</td>\n      <td>0</td>\n      <td>[#grateful, #affirmations]</td>\n      <td></td>\n    </tr>\n    <tr>\n      <th>28726</th>\n      <td>0</td>\n      <td>#angels #archangels from on high here to help you live #spiritual and   anf lives</td>\n      <td>angel high help live spiritual live</td>\n      <td>0</td>\n      <td>[#angels, #archangels, #spiritual]</td>\n      <td></td>\n    </tr>\n    <tr>\n      <th>1344</th>\n      <td>0</td>\n      <td>@user @user is from #tennessee.  do not look to this #republican for suppo!</td>\n      <td>tennessee look republican suppo</td>\n      <td>2</td>\n      <td>[#tennessee, #republican]</td>\n      <td></td>\n    </tr>\n    <tr>\n      <th>7398</th>\n      <td>0</td>\n      <td>feels #1day #myhea</td>\n      <td>feel</td>\n      <td>0</td>\n      <td>[#1day, #myhea]</td>\n      <td></td>\n    </tr>\n    <tr>\n      <th>1574</th>\n      <td>0</td>\n      <td>#  users and growing fast! 1 business - 3 income streams - 5 minutes per day if you can click a mouse - you...</td>\n      <td>user grow fast business income stream minute per click mouse</td>\n      <td>0</td>\n      <td>[]</td>\n      <td></td>\n    </tr>\n    <tr>\n      <th>31245</th>\n      <td>0</td>\n      <td>@user thanks for introducing me to this page @user 😂😂😂😂😂   #funny</td>\n      <td>thank introduce page tear joy tear joy tear joy tear joy tear joy funny</td>\n      <td>2</td>\n      <td>[#funny]</td>\n      <td>:face_with_tears_of_joy:,:face_with_tears_of_joy:,:face_with_tears_of_joy:,:face_with_tears_of_joy:,:face_with_tears_of_joy:</td>\n    </tr>\n    <tr>\n      <th>4879</th>\n      <td>0</td>\n      <td>#bravo @user ~ @user #banningofpostpress means #nothing ~ just as donald is #nothing!</td>\n      <td>~ mean nothing ~ donald nothing</td>\n      <td>2</td>\n      <td>[#bravo, #banningofpostpress, #nothing, #nothing]</td>\n      <td></td>\n    </tr>\n    <tr>\n      <th>5604</th>\n      <td>0</td>\n      <td>@user did you see it gian @user ?? ❣😄❣</td>\n      <td>see exclamation grin exclamation</td>\n      <td>2</td>\n      <td>[]</td>\n      <td>:heart_exclamation:,:grinning_face_with_smiling_eyes:,:heart_exclamation:</td>\n    </tr>\n    <tr>\n      <th>18952</th>\n      <td>0</td>\n      <td>child attacked by alligator at walt disney world     #waltdisneyworld</td>\n      <td>child attack alligator walt disney world</td>\n      <td>0</td>\n      <td>[#waltdisneyworld]</td>\n      <td></td>\n    </tr>\n    <tr>\n      <th>19203</th>\n      <td>0</td>\n      <td>making new friends this year is definitely one of the best decisions i've made in my life 😊</td>\n      <td>make new friend year definitely one good decision make life</td>\n      <td>0</td>\n      <td>[]</td>\n      <td>:smiling_face_with_smiling_eyes:</td>\n    </tr>\n    <tr>\n      <th>22601</th>\n      <td>0</td>\n      <td>now going to watch  the most awarded show @user  @user</td>\n      <td>go watch award show</td>\n      <td>2</td>\n      <td>[]</td>\n      <td></td>\n    </tr>\n    <tr>\n      <th>11334</th>\n      <td>0</td>\n      <td>@user 50% off all chamilia charms - entire inventory at our cranberry location 🤗   #summer #june #chamilia #sale</td>\n      <td>entire location open hand summer june sale</td>\n      <td>1</td>\n      <td>[#summer, #june, #chamilia, #sale]</td>\n      <td>:smiling_face_with_open_hands:</td>\n    </tr>\n    <tr>\n      <th>12353</th>\n      <td>0</td>\n      <td>@user @user just gone in2 @user its now showing this...thx hun! so happy!   #pll #love 😍</td>\n      <td>go show happy pll</td>\n      <td>3</td>\n      <td>[#pll, #love]</td>\n      <td>:smiling_face_with_heart-eyes:</td>\n    </tr>\n    <tr>\n      <th>8858</th>\n      <td>1</td>\n      <td>are you #black &amp;amp; feel like … are stomping on you? listen  #retweet #tampa #miami…</td>\n      <td>black feel like stomp listen retweet tampa miami</td>\n      <td>0</td>\n      <td>[#black, #retweet, #tampa, #miami]</td>\n      <td></td>\n    </tr>\n    <tr>\n      <th>27529</th>\n      <td>0</td>\n      <td>our first visit to @user today. fabulous place to eat and drink. @user pizza was superb   diners</td>\n      <td>first visit today fabulous place eat drink pizza superb diner</td>\n      <td>2</td>\n      <td>[]</td>\n      <td></td>\n    </tr>\n    <tr>\n      <th>15388</th>\n      <td>0</td>\n      <td>@user   sunday mike @user @user @user @user @user @user @user</td>\n      <td>sunday mike</td>\n      <td>8</td>\n      <td>[]</td>\n      <td></td>\n    </tr>\n    <tr>\n      <th>10288</th>\n      <td>0</td>\n      <td>no new hires for police officers😮. what about all the students that are taking police program in school. where do they go to get jobs?</td>\n      <td>new hire police officer open mouth student take police program school go get job</td>\n      <td>0</td>\n      <td>[]</td>\n      <td>:face_with_open_mouth:</td>\n    </tr>\n    <tr>\n      <th>29070</th>\n      <td>0</td>\n      <td>what's going on with the world?</td>\n      <td>go world</td>\n      <td>0</td>\n      <td>[]</td>\n      <td></td>\n    </tr>\n    <tr>\n      <th>8468</th>\n      <td>0</td>\n      <td>a good old fashioned public shaming is in order.</td>\n      <td>good old public order</td>\n      <td>0</td>\n      <td>[]</td>\n      <td></td>\n    </tr>\n    <tr>\n      <th>21858</th>\n      <td>0</td>\n      <td>@user i've just waited half an hour for a bus to come. #x43 to skipton was due at one and didn't arrive until half past.</td>\n      <td>wait half hour bus come x due one arrive half past</td>\n      <td>1</td>\n      <td>[#x43]</td>\n      <td></td>\n    </tr>\n    <tr>\n      <th>23013</th>\n      <td>0</td>\n      <td>#selfie   aggressive bitch -</td>\n      <td>selfie bitch</td>\n      <td>0</td>\n      <td>[#selfie]</td>\n      <td></td>\n    </tr>\n    <tr>\n      <th>13575</th>\n      <td>0</td>\n      <td>@user here is @user favorite basketball player @user at the tough mudder today #hulkmode</td>\n      <td>favorite basketball player tough today</td>\n      <td>3</td>\n      <td>[#hulkmode]</td>\n      <td></td>\n    </tr>\n    <tr>\n      <th>5780</th>\n      <td>0</td>\n      <td>@user @user #djhumility feeling you with the ojb vibes... #ripojb   #areacodemixshow cc @user @user @user</td>\n      <td>feel vibe cc</td>\n      <td>5</td>\n      <td>[#djhumility, #ripojb, #areacodemixshow]</td>\n      <td></td>\n    </tr>\n    <tr>\n      <th>11962</th>\n      <td>0</td>\n      <td>i have a great view #sydney #esco   #gfe  #letsplay</td>\n      <td>great view sydney esco</td>\n      <td>0</td>\n      <td>[#sydney, #esco, #gfe, #letsplay]</td>\n      <td></td>\n    </tr>\n    <tr>\n      <th>23565</th>\n      <td>0</td>\n      <td>@user off to ponsanooth later today to sing at a wonderful village pay for the queen's bihday!   #lovecornwall</td>\n      <td>later today sing wonderful village pay queens bihday</td>\n      <td>1</td>\n      <td>[#lovecornwall]</td>\n      <td></td>\n    </tr>\n    <tr>\n      <th>14107</th>\n      <td>0</td>\n      <td>it seems i'd be good at it by now, but no #rock #rap #funny #comedy #pop   #hiphop</td>\n      <td>seem good rock rap funny comedy pop hiphop</td>\n      <td>0</td>\n      <td>[#rock, #rap, #funny, #comedy, #pop, #hiphop]</td>\n      <td></td>\n    </tr>\n    <tr>\n      <th>22450</th>\n      <td>0</td>\n      <td>queen evil's bihday😘#lnic #lnicjustanevilbday   #bihday #suit #evil #love #yolo #swag #doitfohev...</td>\n      <td>queen evil bihday blow kiss bihday suit evil yolo swag</td>\n      <td>0</td>\n      <td>[#lnic, #lnicjustanevilbday, #bihday, #suit, #evil, #love, #yolo, #swag, #doitfohev]</td>\n      <td>:face_blowing_a_kiss:</td>\n    </tr>\n    <tr>\n      <th>12052</th>\n      <td>0</td>\n      <td>@user @user @user could they not come up with a midlands promotion instead of irelands ancient east? @user</td>\n      <td>could come promotion instead ireland east</td>\n      <td>4</td>\n      <td>[]</td>\n      <td></td>\n    </tr>\n    <tr>\n      <th>18005</th>\n      <td>0</td>\n      <td>we are   and #proud to celebrate this vacation along with💎🙌sarita, itzel &amp;amp; enrique. she has…</td>\n      <td>proud celebrate vacation along gem stone raise hand</td>\n      <td>0</td>\n      <td>[#proud]</td>\n      <td>:gem_stone:,:raising_hands:</td>\n    </tr>\n    <tr>\n      <th>10871</th>\n      <td>0</td>\n      <td>i am special. #i_am #positive #affirmation</td>\n      <td>special positive affirmation</td>\n      <td>0</td>\n      <td>[#i_am, #positive, #affirmation]</td>\n      <td></td>\n    </tr>\n    <tr>\n      <th>12485</th>\n      <td>0</td>\n      <td>me rn cause school is over soon</td>\n      <td>right cause school soon</td>\n      <td>0</td>\n      <td>[]</td>\n      <td></td>\n    </tr>\n  </tbody>\n</table>\n</div>"
     },
     "execution_count": 101,
     "metadata": {},
     "output_type": "execute_result"
    }
   ],
   "source": [
    "df_cleaned_train.head(50)"
   ],
   "metadata": {
    "collapsed": false,
    "ExecuteTime": {
     "end_time": "2024-12-02T16:33:06.112988400Z",
     "start_time": "2024-12-02T16:33:04.021040500Z"
    }
   }
  },
  {
   "cell_type": "code",
   "execution_count": 70,
   "outputs": [],
   "source": [
    "df_cleaned_train.to_csv('./twitter_hate-speech/train_cleaned.csv')"
   ],
   "metadata": {
    "collapsed": false,
    "ExecuteTime": {
     "end_time": "2024-12-02T16:12:36.182592400Z",
     "start_time": "2024-12-02T16:12:35.999599900Z"
    }
   }
  },
  {
   "cell_type": "markdown",
   "source": [
    "##### Geeignet für: Deep Learning (RNN)\n",
    "es werden nicht alle implementierten Cleaning und Preprocessing Schritte ausgeführt\n",
    "\n",
    "NICHT: Auflösen Negationen (nicht implementiert), Emojis Entfernen, Lemmatisierung, Stopwords entfernen, Most/Least frequent words entfernen"
   ],
   "metadata": {
    "collapsed": false
   }
  },
  {
   "cell_type": "code",
   "execution_count": 71,
   "outputs": [],
   "source": [
    "df_origin_train_rnn = pd.read_csv('./twitter_hate-speech/train.csv', index_col=0)\n",
    "df_clean_base_train_rnn = df_origin_train_rnn.copy()"
   ],
   "metadata": {
    "collapsed": false,
    "ExecuteTime": {
     "end_time": "2024-12-02T16:13:22.615142800Z",
     "start_time": "2024-12-02T16:13:22.532149100Z"
    }
   }
  },
  {
   "cell_type": "code",
   "execution_count": null,
   "outputs": [],
   "source": [
    "df_cleaned_train_rnn = clean_dataframe(df_clean_base_train_rnn, \"tweet\", False, True, True)"
   ],
   "metadata": {
    "collapsed": false
   }
  },
  {
   "cell_type": "code",
   "execution_count": 75,
   "outputs": [
    {
     "data": {
      "text/plain": "       label  \\\nid             \n8886       0   \n909        0   \n27613      0   \n15999      0   \n23817      0   \n\n                                                                                                                  tweet  \\\nid                                                                                                                        \n8886    @user #cinemaaawards final rehearsals!! gearing up for the evening!! #butterflies #stage  ! hope u all like it    \n909                                                                istg this is the best cheese ta but dayum expensive    \n27613                            this was amazing. the weather was not. #musical #london #matilda #westend #weekend  …    \n15999                    yes! #talented #sexy   ‘criminal minds’ casts @user as series regular for season 12  via @user   \n23817                           want to be   while being #successful? see how #worklifebalance helps in  by @user @user   \n\n                                                                                           tweet_cleaned  \\\nid                                                                                                         \n8886   cinemaaawards final rehearsals gearing up for the evening butterflies stage  hope You all like it   \n909                                                  istg this is the best cheese ta but dayum expensive   \n27613                      this was amazing the weather was not musical london matilda westend weekend …   \n15999                         yes talented sexy ‘criminal minds’ casts as series regular for season  via   \n23817                              want to be while being successful see how worklifebalance helps in by   \n\n       user_handle                                           hashtags emojis  \nid                                                                            \n8886             1             [#cinemaaawards, #butterflies, #stage]         \n909              0                                                 []         \n27613            0  [#musical, #london, #matilda, #westend, #weekend]         \n15999            2                                 [#talented, #sexy]         \n23817            2                    [#successful, #worklifebalance]         ",
      "text/html": "<div>\n<style scoped>\n    .dataframe tbody tr th:only-of-type {\n        vertical-align: middle;\n    }\n\n    .dataframe tbody tr th {\n        vertical-align: top;\n    }\n\n    .dataframe thead th {\n        text-align: right;\n    }\n</style>\n<table border=\"1\" class=\"dataframe\">\n  <thead>\n    <tr style=\"text-align: right;\">\n      <th></th>\n      <th>label</th>\n      <th>tweet</th>\n      <th>tweet_cleaned</th>\n      <th>user_handle</th>\n      <th>hashtags</th>\n      <th>emojis</th>\n    </tr>\n    <tr>\n      <th>id</th>\n      <th></th>\n      <th></th>\n      <th></th>\n      <th></th>\n      <th></th>\n      <th></th>\n    </tr>\n  </thead>\n  <tbody>\n    <tr>\n      <th>8886</th>\n      <td>0</td>\n      <td>@user #cinemaaawards final rehearsals!! gearing up for the evening!! #butterflies #stage  ! hope u all like it</td>\n      <td>cinemaaawards final rehearsals gearing up for the evening butterflies stage  hope You all like it</td>\n      <td>1</td>\n      <td>[#cinemaaawards, #butterflies, #stage]</td>\n      <td></td>\n    </tr>\n    <tr>\n      <th>909</th>\n      <td>0</td>\n      <td>istg this is the best cheese ta but dayum expensive</td>\n      <td>istg this is the best cheese ta but dayum expensive</td>\n      <td>0</td>\n      <td>[]</td>\n      <td></td>\n    </tr>\n    <tr>\n      <th>27613</th>\n      <td>0</td>\n      <td>this was amazing. the weather was not. #musical #london #matilda #westend #weekend  …</td>\n      <td>this was amazing the weather was not musical london matilda westend weekend …</td>\n      <td>0</td>\n      <td>[#musical, #london, #matilda, #westend, #weekend]</td>\n      <td></td>\n    </tr>\n    <tr>\n      <th>15999</th>\n      <td>0</td>\n      <td>yes! #talented #sexy   ‘criminal minds’ casts @user as series regular for season 12  via @user</td>\n      <td>yes talented sexy ‘criminal minds’ casts as series regular for season  via</td>\n      <td>2</td>\n      <td>[#talented, #sexy]</td>\n      <td></td>\n    </tr>\n    <tr>\n      <th>23817</th>\n      <td>0</td>\n      <td>want to be   while being #successful? see how #worklifebalance helps in  by @user @user</td>\n      <td>want to be while being successful see how worklifebalance helps in by</td>\n      <td>2</td>\n      <td>[#successful, #worklifebalance]</td>\n      <td></td>\n    </tr>\n  </tbody>\n</table>\n</div>"
     },
     "execution_count": 75,
     "metadata": {},
     "output_type": "execute_result"
    }
   ],
   "source": [
    "df_cleaned_train_rnn.head()"
   ],
   "metadata": {
    "collapsed": false,
    "ExecuteTime": {
     "end_time": "2024-12-02T16:13:30.685897800Z",
     "start_time": "2024-12-02T16:13:30.665897600Z"
    }
   }
  },
  {
   "cell_type": "code",
   "execution_count": 76,
   "outputs": [],
   "source": [
    "df_cleaned_train_rnn.to_csv('./twitter_hate-speech/train_cleaned_rnn.csv')"
   ],
   "metadata": {
    "collapsed": false,
    "ExecuteTime": {
     "end_time": "2024-12-02T16:13:30.982888200Z",
     "start_time": "2024-12-02T16:13:30.681898400Z"
    }
   }
  },
  {
   "cell_type": "markdown",
   "source": [
    "#### Bereinigung und Vorverarbeitung: TEST"
   ],
   "metadata": {
    "collapsed": false
   }
  },
  {
   "cell_type": "markdown",
   "source": [
    "##### Geeignet für: Maschinelles Lernen\n",
    "es werden alle implementierten Cleaning und Preprocessing Schritte ausgeführt AUßER welche, bei denen Zeilen gelöscht werden"
   ],
   "metadata": {
    "collapsed": false
   }
  },
  {
   "cell_type": "code",
   "execution_count": 77,
   "outputs": [],
   "source": [
    "df_origin_test = pd.read_csv('./twitter_hate-speech/test.csv', index_col=0)\n",
    "df_clean_base_test = df_origin_test.copy()"
   ],
   "metadata": {
    "collapsed": false,
    "ExecuteTime": {
     "end_time": "2024-12-02T16:13:48.183242900Z",
     "start_time": "2024-12-02T16:13:48.119250500Z"
    }
   }
  },
  {
   "cell_type": "code",
   "execution_count": null,
   "outputs": [],
   "source": [
    "df_cleaned_test = clean_dataframe(df_clean_base_test, \"tweet\", False, False, False)"
   ],
   "metadata": {
    "collapsed": false
   }
  },
  {
   "cell_type": "code",
   "execution_count": 81,
   "outputs": [
    {
     "data": {
      "text/plain": "    label  \\\nid          \n4       0   \n5       0   \n6       0   \n16      0   \n18      1   \n\n                                                                                                                   tweet  \\\nid                                                                                                                         \n4                                                         #model   i love u take with u all the time in ur📱!!! 😙😎👄👅💦💦💦     \n5                                                                                 factsguide: society now    #motivation   \n6   [2/2] huge fan fare and big talking before they leave. chaos and pay disputes when they get there. #allshowandnogo     \n16                                                                 ouch...junior is angry😐#got7 #junior #yugyoem   #omg    \n18                                                                                                retweet if you agree!    \n\n                                                                                        tweet_cleaned  \\\nid                                                                                                      \n4   model take time mobile phone kiss sunglass mouth tongue sweat droplet sweat droplet sweat droplet   \n5                                                                       factsguide society motivation   \n6                                                                    huge fan big leave chaos pay get   \n16                                                                               angry get junior omg   \n18                                                                                      retweet agree   \n\n    user_handle                          hashtags  \\\nid                                                  \n4             0                          [#model]   \n5             0                     [#motivation]   \n6             0                 [#allshowandnogo]   \n16            0  [#got7, #junior, #yugyoem, #omg]   \n18            0                                []   \n\n                                                                                                                                                emojis  \nid                                                                                                                                                      \n4   :mobile_phone:,:kissing_face_with_smiling_eyes:,:smiling_face_with_sunglasses:,:mouth:,:tongue:,:sweat_droplets:,:sweat_droplets:,:sweat_droplets:  \n5                                                                                                                                                       \n6                                                                                                                                                       \n16                                                                                                                                      :neutral_face:  \n18                                                                                                                                                      ",
      "text/html": "<div>\n<style scoped>\n    .dataframe tbody tr th:only-of-type {\n        vertical-align: middle;\n    }\n\n    .dataframe tbody tr th {\n        vertical-align: top;\n    }\n\n    .dataframe thead th {\n        text-align: right;\n    }\n</style>\n<table border=\"1\" class=\"dataframe\">\n  <thead>\n    <tr style=\"text-align: right;\">\n      <th></th>\n      <th>label</th>\n      <th>tweet</th>\n      <th>tweet_cleaned</th>\n      <th>user_handle</th>\n      <th>hashtags</th>\n      <th>emojis</th>\n    </tr>\n    <tr>\n      <th>id</th>\n      <th></th>\n      <th></th>\n      <th></th>\n      <th></th>\n      <th></th>\n      <th></th>\n    </tr>\n  </thead>\n  <tbody>\n    <tr>\n      <th>4</th>\n      <td>0</td>\n      <td>#model   i love u take with u all the time in ur📱!!! 😙😎👄👅💦💦💦</td>\n      <td>model take time mobile phone kiss sunglass mouth tongue sweat droplet sweat droplet sweat droplet</td>\n      <td>0</td>\n      <td>[#model]</td>\n      <td>:mobile_phone:,:kissing_face_with_smiling_eyes:,:smiling_face_with_sunglasses:,:mouth:,:tongue:,:sweat_droplets:,:sweat_droplets:,:sweat_droplets:</td>\n    </tr>\n    <tr>\n      <th>5</th>\n      <td>0</td>\n      <td>factsguide: society now    #motivation</td>\n      <td>factsguide society motivation</td>\n      <td>0</td>\n      <td>[#motivation]</td>\n      <td></td>\n    </tr>\n    <tr>\n      <th>6</th>\n      <td>0</td>\n      <td>[2/2] huge fan fare and big talking before they leave. chaos and pay disputes when they get there. #allshowandnogo</td>\n      <td>huge fan big leave chaos pay get</td>\n      <td>0</td>\n      <td>[#allshowandnogo]</td>\n      <td></td>\n    </tr>\n    <tr>\n      <th>16</th>\n      <td>0</td>\n      <td>ouch...junior is angry😐#got7 #junior #yugyoem   #omg</td>\n      <td>angry get junior omg</td>\n      <td>0</td>\n      <td>[#got7, #junior, #yugyoem, #omg]</td>\n      <td>:neutral_face:</td>\n    </tr>\n    <tr>\n      <th>18</th>\n      <td>1</td>\n      <td>retweet if you agree!</td>\n      <td>retweet agree</td>\n      <td>0</td>\n      <td>[]</td>\n      <td></td>\n    </tr>\n  </tbody>\n</table>\n</div>"
     },
     "execution_count": 81,
     "metadata": {},
     "output_type": "execute_result"
    }
   ],
   "source": [
    "df_cleaned_test.head()"
   ],
   "metadata": {
    "collapsed": false,
    "ExecuteTime": {
     "end_time": "2024-12-02T16:14:56.794974500Z",
     "start_time": "2024-12-02T16:14:56.748978600Z"
    }
   }
  },
  {
   "cell_type": "code",
   "execution_count": 82,
   "outputs": [],
   "source": [
    "df_cleaned_test.to_csv('./twitter_hate-speech/test_cleaned.csv')"
   ],
   "metadata": {
    "collapsed": false,
    "ExecuteTime": {
     "end_time": "2024-12-02T16:14:56.965970300Z",
     "start_time": "2024-12-02T16:14:56.765979600Z"
    }
   }
  },
  {
   "cell_type": "markdown",
   "source": [
    "##### Geeignet für: Deep Learning (RNN)\n",
    "es werden nicht alle implementierten Cleaning und Preprocessing Schritte ausgeführt\n",
    "\n",
    "NICHT: Duplikate entfernen, Auflösen Negationen (nicht implementiert), Emojis Entfernen, Lemmatisierung, Stopwords entfernen, Most/Least frequent words entfernen"
   ],
   "metadata": {
    "collapsed": false
   }
  },
  {
   "cell_type": "code",
   "execution_count": 83,
   "outputs": [],
   "source": [
    "df_origin_test_rnn = pd.read_csv('./twitter_hate-speech/test.csv', index_col=0)\n",
    "df_clean_base_test_rnn = df_origin_test_rnn.copy()"
   ],
   "metadata": {
    "collapsed": false,
    "ExecuteTime": {
     "end_time": "2024-12-02T16:15:01.016798900Z",
     "start_time": "2024-12-02T16:15:00.971804300Z"
    }
   }
  },
  {
   "cell_type": "code",
   "execution_count": null,
   "outputs": [],
   "source": [
    "df_cleaned_test_rnn = clean_dataframe(df_clean_base_test_rnn, \"tweet\", False, False, True)"
   ],
   "metadata": {
    "collapsed": false
   }
  },
  {
   "cell_type": "code",
   "execution_count": 87,
   "outputs": [
    {
     "data": {
      "text/plain": "    label  \\\nid          \n4       0   \n5       0   \n6       0   \n16      0   \n18      1   \n\n                                                                                                                   tweet  \\\nid                                                                                                                         \n4                                                         #model   i love u take with u all the time in ur📱!!! 😙😎👄👅💦💦💦     \n5                                                                                 factsguide: society now    #motivation   \n6   [2/2] huge fan fare and big talking before they leave. chaos and pay disputes when they get there. #allshowandnogo     \n16                                                                 ouch...junior is angry😐#got7 #junior #yugyoem   #omg    \n18                                                                                                retweet if you agree!    \n\n                                                                                                                                                                            tweet_cleaned  \\\nid                                                                                                                                                                                          \n4   model i love You take with You all the time in ur mobile phone  kissing face with smiling eyes smiling face with sunglasses mouth tongue sweat droplets sweat droplets sweat droplets   \n5                                                                                                                                                       factsguide society now motivation   \n6                                                                               huge fan fare and big talking before they leave chaos and pay disputes when they get there allshowandnogo   \n16                                                                                                                                ouchjunior is angry neutral face got junior yugyoem omg   \n18                                                                                                                                                                   retweet if you agree   \n\n    user_handle                          hashtags  \\\nid                                                  \n4             0                          [#model]   \n5             0                     [#motivation]   \n6             0                 [#allshowandnogo]   \n16            0  [#got7, #junior, #yugyoem, #omg]   \n18            0                                []   \n\n                                                                                                                                                emojis  \nid                                                                                                                                                      \n4   :mobile_phone:,:kissing_face_with_smiling_eyes:,:smiling_face_with_sunglasses:,:mouth:,:tongue:,:sweat_droplets:,:sweat_droplets:,:sweat_droplets:  \n5                                                                                                                                                       \n6                                                                                                                                                       \n16                                                                                                                                      :neutral_face:  \n18                                                                                                                                                      ",
      "text/html": "<div>\n<style scoped>\n    .dataframe tbody tr th:only-of-type {\n        vertical-align: middle;\n    }\n\n    .dataframe tbody tr th {\n        vertical-align: top;\n    }\n\n    .dataframe thead th {\n        text-align: right;\n    }\n</style>\n<table border=\"1\" class=\"dataframe\">\n  <thead>\n    <tr style=\"text-align: right;\">\n      <th></th>\n      <th>label</th>\n      <th>tweet</th>\n      <th>tweet_cleaned</th>\n      <th>user_handle</th>\n      <th>hashtags</th>\n      <th>emojis</th>\n    </tr>\n    <tr>\n      <th>id</th>\n      <th></th>\n      <th></th>\n      <th></th>\n      <th></th>\n      <th></th>\n      <th></th>\n    </tr>\n  </thead>\n  <tbody>\n    <tr>\n      <th>4</th>\n      <td>0</td>\n      <td>#model   i love u take with u all the time in ur📱!!! 😙😎👄👅💦💦💦</td>\n      <td>model i love You take with You all the time in ur mobile phone  kissing face with smiling eyes smiling face with sunglasses mouth tongue sweat droplets sweat droplets sweat droplets</td>\n      <td>0</td>\n      <td>[#model]</td>\n      <td>:mobile_phone:,:kissing_face_with_smiling_eyes:,:smiling_face_with_sunglasses:,:mouth:,:tongue:,:sweat_droplets:,:sweat_droplets:,:sweat_droplets:</td>\n    </tr>\n    <tr>\n      <th>5</th>\n      <td>0</td>\n      <td>factsguide: society now    #motivation</td>\n      <td>factsguide society now motivation</td>\n      <td>0</td>\n      <td>[#motivation]</td>\n      <td></td>\n    </tr>\n    <tr>\n      <th>6</th>\n      <td>0</td>\n      <td>[2/2] huge fan fare and big talking before they leave. chaos and pay disputes when they get there. #allshowandnogo</td>\n      <td>huge fan fare and big talking before they leave chaos and pay disputes when they get there allshowandnogo</td>\n      <td>0</td>\n      <td>[#allshowandnogo]</td>\n      <td></td>\n    </tr>\n    <tr>\n      <th>16</th>\n      <td>0</td>\n      <td>ouch...junior is angry😐#got7 #junior #yugyoem   #omg</td>\n      <td>ouchjunior is angry neutral face got junior yugyoem omg</td>\n      <td>0</td>\n      <td>[#got7, #junior, #yugyoem, #omg]</td>\n      <td>:neutral_face:</td>\n    </tr>\n    <tr>\n      <th>18</th>\n      <td>1</td>\n      <td>retweet if you agree!</td>\n      <td>retweet if you agree</td>\n      <td>0</td>\n      <td>[]</td>\n      <td></td>\n    </tr>\n  </tbody>\n</table>\n</div>"
     },
     "execution_count": 87,
     "metadata": {},
     "output_type": "execute_result"
    }
   ],
   "source": [
    "df_cleaned_test_rnn.head()"
   ],
   "metadata": {
    "collapsed": false,
    "ExecuteTime": {
     "end_time": "2024-12-02T16:15:04.564670200Z",
     "start_time": "2024-12-02T16:15:04.539671Z"
    }
   }
  },
  {
   "cell_type": "code",
   "execution_count": 88,
   "outputs": [],
   "source": [
    "df_cleaned_test_rnn.to_csv('./twitter_hate-speech/test_cleaned_rnn.csv')"
   ],
   "metadata": {
    "collapsed": false,
    "ExecuteTime": {
     "end_time": "2024-12-02T16:15:04.739665900Z",
     "start_time": "2024-12-02T16:15:04.554674400Z"
    }
   }
  },
  {
   "cell_type": "markdown",
   "source": [
    "#### Bereinigung und Vorverarbeitung: PREDICT"
   ],
   "metadata": {
    "collapsed": false
   }
  },
  {
   "cell_type": "markdown",
   "source": [
    "##### Geeignet für: Maschinelles Lernen\n",
    "es werden alle implementierten Cleaning und Preprocessing Schritte ausgeführt AUßER welche, bei denen Zeilen gelöscht werden"
   ],
   "metadata": {
    "collapsed": false
   }
  },
  {
   "cell_type": "code",
   "execution_count": 89,
   "outputs": [],
   "source": [
    "df_origin_predict = pd.read_csv('./twitter_hate-speech/predict.csv', index_col=0)\n",
    "df_clean_base_predict = df_origin_predict.copy()"
   ],
   "metadata": {
    "collapsed": false,
    "ExecuteTime": {
     "end_time": "2024-12-02T16:15:04.740666Z",
     "start_time": "2024-12-02T16:15:04.664666700Z"
    }
   }
  },
  {
   "cell_type": "code",
   "execution_count": 105,
   "outputs": [
    {
     "name": "stdout",
     "output_type": "stream",
     "text": [
      "Start Cleaning\n",
      "--- Cleaning Step 1/20: to_lowercase\n",
      "--- Cleaning Step 2/20: expand_shortcuts\n",
      "--- Cleaning Step 3/20: remove_negations - SKIP\n",
      "--- Cleaning Step 4/20: handle_userhandles\n",
      "--- Cleaning Step 5/20: handle_hashtags\n",
      "--- Cleaning Step 6/20: extract_emojis\n",
      "--- Cleaning Step 7/20: replace_emojis\n",
      "--- Cleaning Step 8/20: replace_smileys\n",
      "--- Cleaning Step 9/20: remove_emojis - SKIP\n",
      "--- Cleaning Step 10/20: remove_url_from_tweet\n",
      "--- Cleaning Step 11/20: remove_punctuation\n",
      "--- Cleaning Step 12/20: remove_special_characters\n",
      "--- Cleaning Step 13/20: remove_digis\n",
      "--- Cleaning Step 14/20: remove_word_from_column: amp\n",
      "--- Cleaning Step 15/20: lemmatize\n",
      "--- Cleaning Step 16/20: remove_stop_words\n",
      "--- Cleaning Step 17/20: remove_most_frequent_words\n",
      "--- Cleaning Step 18/20: remove_least_frequent_words\n",
      "--- Cleaning Step 19/20: remove_duplicates - SKIP\n",
      "--- Cleaning Step 20/20: remove_nans\n",
      "All Cleaning done\n"
     ]
    }
   ],
   "source": [
    "df_cleaned_predict = clean_dataframe(df_clean_base_predict, \"tweet\", False, False, False)"
   ],
   "metadata": {
    "collapsed": false,
    "ExecuteTime": {
     "end_time": "2024-12-02T19:17:27.376128200Z",
     "start_time": "2024-12-02T19:15:32.298131300Z"
    }
   }
  },
  {
   "cell_type": "code",
   "execution_count": 93,
   "outputs": [
    {
     "data": {
      "text/plain": "                                                                                                                                       tweet  \\\nid                                                                                                                                             \n31963                                               #studiolife #aislife #requires #passion #dedication #willpower   to find #newmaterials…    \n31964                                           @user #white #supremacists want everyone to see the new ‘  #birds’ #movie — and here’s why     \n31965                                                                safe ways to heal your #acne!!    #altwaystoheal #healthy   #healing!!    \n31966  is the hp and the cursed child book up for reservations already? if yes, where? if no, when? 😍😍😍   #harrypotter #pottermore #favorite   \n31967                                              3rd #bihday to my amazing, hilarious #nephew eli ahmir! uncle dave loves you and misses…    \n\n                                            tweet_cleaned  user_handle  \\\nid                                                                       \n31963                                require passion find            0   \n31964      white want everyone see new ' bird ' movie — ’            1   \n31965         safe way heal altwaystoheal healthy healing            0   \n31966         child book already yes harrypotter favorite            0   \n31967  rd bihday amazing hilarious nephew uncle dave miss            0   \n\n                                                                                   hashtags  \\\nid                                                                                            \n31963  [#studiolife, #aislife, #requires, #passion, #dedication, #willpower, #newmaterials]   \n31964                                               [#white, #supremacists, #birds, #movie]   \n31965                                           [#acne, #altwaystoheal, #healthy, #healing]   \n31966                                                [#harrypotter, #pottermore, #favorite]   \n31967                                                                    [#bihday, #nephew]   \n\n                                                                                             emojis  \nid                                                                                                   \n31963                                                                                                \n31964                                                                                                \n31965                                                                                                \n31966  :smiling_face_with_heart-eyes:,:smiling_face_with_heart-eyes:,:smiling_face_with_heart-eyes:  \n31967                                                                                                ",
      "text/html": "<div>\n<style scoped>\n    .dataframe tbody tr th:only-of-type {\n        vertical-align: middle;\n    }\n\n    .dataframe tbody tr th {\n        vertical-align: top;\n    }\n\n    .dataframe thead th {\n        text-align: right;\n    }\n</style>\n<table border=\"1\" class=\"dataframe\">\n  <thead>\n    <tr style=\"text-align: right;\">\n      <th></th>\n      <th>tweet</th>\n      <th>tweet_cleaned</th>\n      <th>user_handle</th>\n      <th>hashtags</th>\n      <th>emojis</th>\n    </tr>\n    <tr>\n      <th>id</th>\n      <th></th>\n      <th></th>\n      <th></th>\n      <th></th>\n      <th></th>\n    </tr>\n  </thead>\n  <tbody>\n    <tr>\n      <th>31963</th>\n      <td>#studiolife #aislife #requires #passion #dedication #willpower   to find #newmaterials…</td>\n      <td>require passion find</td>\n      <td>0</td>\n      <td>[#studiolife, #aislife, #requires, #passion, #dedication, #willpower, #newmaterials]</td>\n      <td></td>\n    </tr>\n    <tr>\n      <th>31964</th>\n      <td>@user #white #supremacists want everyone to see the new ‘  #birds’ #movie — and here’s why</td>\n      <td>white want everyone see new ' bird ' movie — ’</td>\n      <td>1</td>\n      <td>[#white, #supremacists, #birds, #movie]</td>\n      <td></td>\n    </tr>\n    <tr>\n      <th>31965</th>\n      <td>safe ways to heal your #acne!!    #altwaystoheal #healthy   #healing!!</td>\n      <td>safe way heal altwaystoheal healthy healing</td>\n      <td>0</td>\n      <td>[#acne, #altwaystoheal, #healthy, #healing]</td>\n      <td></td>\n    </tr>\n    <tr>\n      <th>31966</th>\n      <td>is the hp and the cursed child book up for reservations already? if yes, where? if no, when? 😍😍😍   #harrypotter #pottermore #favorite</td>\n      <td>child book already yes harrypotter favorite</td>\n      <td>0</td>\n      <td>[#harrypotter, #pottermore, #favorite]</td>\n      <td>:smiling_face_with_heart-eyes:,:smiling_face_with_heart-eyes:,:smiling_face_with_heart-eyes:</td>\n    </tr>\n    <tr>\n      <th>31967</th>\n      <td>3rd #bihday to my amazing, hilarious #nephew eli ahmir! uncle dave loves you and misses…</td>\n      <td>rd bihday amazing hilarious nephew uncle dave miss</td>\n      <td>0</td>\n      <td>[#bihday, #nephew]</td>\n      <td></td>\n    </tr>\n  </tbody>\n</table>\n</div>"
     },
     "execution_count": 93,
     "metadata": {},
     "output_type": "execute_result"
    }
   ],
   "source": [
    "df_cleaned_predict.head()"
   ],
   "metadata": {
    "collapsed": false,
    "ExecuteTime": {
     "end_time": "2024-12-02T16:17:04.373260900Z",
     "start_time": "2024-12-02T16:17:04.356263200Z"
    }
   }
  },
  {
   "cell_type": "code",
   "execution_count": 94,
   "outputs": [],
   "source": [
    "df_cleaned_predict.to_csv('./twitter_hate-speech/predict_cleaned.csv')"
   ],
   "metadata": {
    "collapsed": false,
    "ExecuteTime": {
     "end_time": "2024-12-02T16:17:04.543254600Z",
     "start_time": "2024-12-02T16:17:04.370261200Z"
    }
   }
  },
  {
   "cell_type": "markdown",
   "source": [
    "##### Geeignet für: Deep Learning (RNN)\n",
    "es werden nicht alle implementierten Cleaning und Preprocessing Schritte ausgeführt\n",
    "\n",
    "NICHT: Duplikate entfernen, Auflösen Negationen (nicht implementiert), Emojis Entfernen, Lemmatisierung, Stopwords entfernen, Most/Least frequent words entfernen"
   ],
   "metadata": {
    "collapsed": false
   }
  },
  {
   "cell_type": "code",
   "execution_count": 95,
   "outputs": [],
   "source": [
    "df_origin_predict_rnn = pd.read_csv('./twitter_hate-speech/predict.csv', index_col=0)\n",
    "df_clean_base_predict_rnn = df_origin_predict_rnn.copy()"
   ],
   "metadata": {
    "collapsed": false,
    "ExecuteTime": {
     "end_time": "2024-12-02T16:17:04.605255900Z",
     "start_time": "2024-12-02T16:17:04.515258300Z"
    }
   }
  },
  {
   "cell_type": "code",
   "execution_count": 104,
   "outputs": [
    {
     "name": "stdout",
     "output_type": "stream",
     "text": [
      "Start Cleaning\n",
      "--- Cleaning Step 1/20: to_lowercase\n",
      "--- Cleaning Step 2/20: expand_shortcuts\n",
      "--- Cleaning Step 3/20: remove_negations - SKIP\n",
      "--- Cleaning Step 4/20: handle_userhandles\n",
      "--- Cleaning Step 5/20: handle_hashtags\n",
      "--- Cleaning Step 6/20: extract_emojis\n",
      "--- Cleaning Step 7/20: replace_emojis\n",
      "--- Cleaning Step 8/20: replace_smileys\n",
      "--- Cleaning Step 9/20: remove_emojis - SKIP\n",
      "--- Cleaning Step 10/20: remove_url_from_tweet\n",
      "--- Cleaning Step 11/20: remove_punctuation\n",
      "--- Cleaning Step 12/20: remove_special_characters\n",
      "--- Cleaning Step 13/20: remove_digis\n",
      "--- Cleaning Step 14/20: remove_word_from_column: amp\n",
      "--- Cleaning Step 15/20: lemmatize - SKIP\n",
      "--- Cleaning Step 16/20: remove_stop_words - SKIP\n",
      "--- Cleaning Step 17/20: remove_most_frequent_words - SKIP\n",
      "--- Cleaning Step 18/20: remove_least_frequent_words - SKIP\n",
      "--- Cleaning Step 19/20: remove_duplicates - SKIP\n",
      "--- Cleaning Step 20/20: remove_nans\n",
      "All Cleaning done\n"
     ]
    }
   ],
   "source": [
    "df_cleaned_predict_rnn = clean_dataframe(df_clean_base_predict_rnn, \"tweet\", False, False, True)"
   ],
   "metadata": {
    "collapsed": false,
    "ExecuteTime": {
     "end_time": "2024-12-02T19:14:45.049607800Z",
     "start_time": "2024-12-02T19:14:40.364609300Z"
    }
   }
  },
  {
   "cell_type": "code",
   "execution_count": 99,
   "outputs": [
    {
     "data": {
      "text/plain": "                                                                                                                                       tweet  \\\nid                                                                                                                                             \n31963                                               #studiolife #aislife #requires #passion #dedication #willpower   to find #newmaterials…    \n31964                                           @user #white #supremacists want everyone to see the new ‘  #birds’ #movie — and here’s why     \n31965                                                                safe ways to heal your #acne!!    #altwaystoheal #healthy   #healing!!    \n31966  is the hp and the cursed child book up for reservations already? if yes, where? if no, when? 😍😍😍   #harrypotter #pottermore #favorite   \n31967                                              3rd #bihday to my amazing, hilarious #nephew eli ahmir! uncle dave loves you and misses…    \n\n                                                                                                                                                                                                        tweet_cleaned  \\\nid                                                                                                                                                                                                                      \n31963                                                                                                                                  studiolife aislife requires passion dedication willpower to find newmaterials…   \n31964                                                                                                                                 white supremacists want everyone to see the new ‘ birds’ movie — and here’s why   \n31965                                                                                                                                                       safe ways to heal your acne altwaystoheal healthy healing   \n31966  is the hp and the cursed child book up for reservations already if yes where if no when smiling face with heart-eyes smiling face with heart-eyes smiling face with heart-eyes harrypotter pottermore favorite   \n31967                                                                                                                             rd bihday to my amazing hilarious nephew eli ahmir uncle dave loves you and misses…   \n\n       user_handle  \\\nid                   \n31963            0   \n31964            1   \n31965            0   \n31966            0   \n31967            0   \n\n                                                                                   hashtags  \\\nid                                                                                            \n31963  [#studiolife, #aislife, #requires, #passion, #dedication, #willpower, #newmaterials]   \n31964                                               [#white, #supremacists, #birds, #movie]   \n31965                                           [#acne, #altwaystoheal, #healthy, #healing]   \n31966                                                [#harrypotter, #pottermore, #favorite]   \n31967                                                                    [#bihday, #nephew]   \n\n                                                                                             emojis  \nid                                                                                                   \n31963                                                                                                \n31964                                                                                                \n31965                                                                                                \n31966  :smiling_face_with_heart-eyes:,:smiling_face_with_heart-eyes:,:smiling_face_with_heart-eyes:  \n31967                                                                                                ",
      "text/html": "<div>\n<style scoped>\n    .dataframe tbody tr th:only-of-type {\n        vertical-align: middle;\n    }\n\n    .dataframe tbody tr th {\n        vertical-align: top;\n    }\n\n    .dataframe thead th {\n        text-align: right;\n    }\n</style>\n<table border=\"1\" class=\"dataframe\">\n  <thead>\n    <tr style=\"text-align: right;\">\n      <th></th>\n      <th>tweet</th>\n      <th>tweet_cleaned</th>\n      <th>user_handle</th>\n      <th>hashtags</th>\n      <th>emojis</th>\n    </tr>\n    <tr>\n      <th>id</th>\n      <th></th>\n      <th></th>\n      <th></th>\n      <th></th>\n      <th></th>\n    </tr>\n  </thead>\n  <tbody>\n    <tr>\n      <th>31963</th>\n      <td>#studiolife #aislife #requires #passion #dedication #willpower   to find #newmaterials…</td>\n      <td>studiolife aislife requires passion dedication willpower to find newmaterials…</td>\n      <td>0</td>\n      <td>[#studiolife, #aislife, #requires, #passion, #dedication, #willpower, #newmaterials]</td>\n      <td></td>\n    </tr>\n    <tr>\n      <th>31964</th>\n      <td>@user #white #supremacists want everyone to see the new ‘  #birds’ #movie — and here’s why</td>\n      <td>white supremacists want everyone to see the new ‘ birds’ movie — and here’s why</td>\n      <td>1</td>\n      <td>[#white, #supremacists, #birds, #movie]</td>\n      <td></td>\n    </tr>\n    <tr>\n      <th>31965</th>\n      <td>safe ways to heal your #acne!!    #altwaystoheal #healthy   #healing!!</td>\n      <td>safe ways to heal your acne altwaystoheal healthy healing</td>\n      <td>0</td>\n      <td>[#acne, #altwaystoheal, #healthy, #healing]</td>\n      <td></td>\n    </tr>\n    <tr>\n      <th>31966</th>\n      <td>is the hp and the cursed child book up for reservations already? if yes, where? if no, when? 😍😍😍   #harrypotter #pottermore #favorite</td>\n      <td>is the hp and the cursed child book up for reservations already if yes where if no when smiling face with heart-eyes smiling face with heart-eyes smiling face with heart-eyes harrypotter pottermore favorite</td>\n      <td>0</td>\n      <td>[#harrypotter, #pottermore, #favorite]</td>\n      <td>:smiling_face_with_heart-eyes:,:smiling_face_with_heart-eyes:,:smiling_face_with_heart-eyes:</td>\n    </tr>\n    <tr>\n      <th>31967</th>\n      <td>3rd #bihday to my amazing, hilarious #nephew eli ahmir! uncle dave loves you and misses…</td>\n      <td>rd bihday to my amazing hilarious nephew eli ahmir uncle dave loves you and misses…</td>\n      <td>0</td>\n      <td>[#bihday, #nephew]</td>\n      <td></td>\n    </tr>\n  </tbody>\n</table>\n</div>"
     },
     "execution_count": 99,
     "metadata": {},
     "output_type": "execute_result"
    }
   ],
   "source": [
    "df_cleaned_predict_rnn.head()"
   ],
   "metadata": {
    "collapsed": false,
    "ExecuteTime": {
     "end_time": "2024-12-02T16:17:10.373039Z",
     "start_time": "2024-12-02T16:17:10.323044700Z"
    }
   }
  },
  {
   "cell_type": "code",
   "execution_count": 100,
   "outputs": [],
   "source": [
    "df_cleaned_predict_rnn.to_csv('./twitter_hate-speech/predict_cleaned_rnn.csv')"
   ],
   "metadata": {
    "collapsed": false,
    "ExecuteTime": {
     "end_time": "2024-12-02T16:17:10.531034400Z",
     "start_time": "2024-12-02T16:17:10.336042300Z"
    }
   }
  },
  {
   "cell_type": "code",
   "execution_count": null,
   "outputs": [],
   "source": [],
   "metadata": {
    "collapsed": false
   }
  },
  {
   "cell_type": "code",
   "execution_count": null,
   "outputs": [],
   "source": [],
   "metadata": {
    "collapsed": false
   }
  },
  {
   "cell_type": "code",
   "execution_count": null,
   "outputs": [],
   "source": [],
   "metadata": {
    "collapsed": false
   }
  },
  {
   "cell_type": "code",
   "execution_count": 1,
   "outputs": [],
   "source": [
    "from src.functions.clean_data_generic_functions import segment_tweets\n",
    "import pandas as pd"
   ],
   "metadata": {
    "collapsed": false,
    "ExecuteTime": {
     "end_time": "2024-12-02T20:19:28.634071Z",
     "start_time": "2024-12-02T20:19:20.673446600Z"
    }
   }
  },
  {
   "cell_type": "code",
   "execution_count": 2,
   "outputs": [
    {
     "name": "stdout",
     "output_type": "stream",
     "text": [
      "Reading english - 1grams ...\n",
      "Reading english - 2grams ...\n"
     ]
    },
    {
     "name": "stderr",
     "output_type": "stream",
     "text": [
      "C:\\Users\\admin\\anaconda3\\lib\\site-packages\\ekphrasis\\classes\\exmanager.py:14: FutureWarning: Possible nested set at position 42\n",
      "  regexes = {k.lower(): re.compile(self.expressions[k]) for k, v in\n"
     ]
    },
    {
     "name": "stdout",
     "output_type": "stream",
     "text": [
      "Reading english - 1grams ...\n",
      "Reading english - 2grams ...\n",
      "Reading english - 1grams ...\n",
      "Reading english - 2grams ...\n",
      "Reading english - 1grams ...\n",
      "Reading english - 2grams ...\n",
      "Reading english - 1grams ...\n",
      "Reading english - 2grams ...\n",
      "Reading english - 1grams ...\n",
      "Reading english - 2grams ...\n",
      "Reading english - 1grams ...\n",
      "Reading english - 2grams ...\n",
      "Reading english - 1grams ...\n",
      "Reading english - 2grams ...\n",
      "Reading english - 1grams ...\n",
      "Reading english - 2grams ...\n",
      "Reading english - 1grams ...\n",
      "Reading english - 2grams ...\n",
      "Reading english - 1grams ...\n",
      "Reading english - 2grams ...\n",
      "Reading english - 1grams ...\n",
      "Reading english - 2grams ...\n",
      "Reading english - 1grams ...\n",
      "Reading english - 2grams ...\n",
      "Reading english - 1grams ...\n",
      "Reading english - 2grams ...\n",
      "Reading english - 1grams ...\n",
      "Reading english - 2grams ...\n",
      "Reading english - 1grams ...\n",
      "Reading english - 2grams ...\n",
      "Reading english - 1grams ...\n",
      "Reading english - 2grams ...\n"
     ]
    },
    {
     "ename": "JSONDecodeError",
     "evalue": "Could not reserve memory block",
     "output_type": "error",
     "traceback": [
      "\u001B[1;31m---------------------------------------------------------------------------\u001B[0m",
      "\u001B[1;31mJSONDecodeError\u001B[0m                           Traceback (most recent call last)",
      "Cell \u001B[1;32mIn[2], line 2\u001B[0m\n\u001B[0;32m      1\u001B[0m test_df \u001B[38;5;241m=\u001B[39m pd\u001B[38;5;241m.\u001B[39mread_csv(\u001B[38;5;124m'\u001B[39m\u001B[38;5;124m./twitter_hate-speech/predict.csv\u001B[39m\u001B[38;5;124m'\u001B[39m, index_col\u001B[38;5;241m=\u001B[39m\u001B[38;5;241m0\u001B[39m)\n\u001B[1;32m----> 2\u001B[0m segment_test \u001B[38;5;241m=\u001B[39m \u001B[43msegment_tweets\u001B[49m\u001B[43m(\u001B[49m\u001B[43mtest_df\u001B[49m\u001B[43m,\u001B[49m\u001B[43m \u001B[49m\u001B[38;5;124;43m\"\u001B[39;49m\u001B[38;5;124;43mtweet\u001B[39;49m\u001B[38;5;124;43m\"\u001B[39;49m\u001B[43m)\u001B[49m\n",
      "File \u001B[1;32m~\\PycharmProjects\\WebScience24\\src\\functions\\clean_data_generic_functions.py:453\u001B[0m, in \u001B[0;36msegment_tweets\u001B[1;34m(df, column_name)\u001B[0m\n\u001B[0;32m    449\u001B[0m \u001B[38;5;28;01mdef\u001B[39;00m \u001B[38;5;21msegment_tweets\u001B[39m(df, column_name):\n\u001B[0;32m    450\u001B[0m     \u001B[38;5;124;03m\"\"\"\u001B[39;00m\n\u001B[0;32m    451\u001B[0m \u001B[38;5;124;03m    Separates all text in the specified column of a DataFrame according to a provided corpus.\u001B[39;00m\n\u001B[0;32m    452\u001B[0m \u001B[38;5;124;03m    \"\"\"\u001B[39;00m\n\u001B[1;32m--> 453\u001B[0m     df[column_name] \u001B[38;5;241m=\u001B[39m \u001B[43mdf\u001B[49m\u001B[43m[\u001B[49m\u001B[43mcolumn_name\u001B[49m\u001B[43m]\u001B[49m\u001B[38;5;241;43m.\u001B[39;49m\u001B[43mfillna\u001B[49m\u001B[43m(\u001B[49m\u001B[38;5;124;43m'\u001B[39;49m\u001B[38;5;124;43m'\u001B[39;49m\u001B[43m)\u001B[49m\u001B[38;5;241;43m.\u001B[39;49m\u001B[43mapply\u001B[49m\u001B[43m(\u001B[49m\u001B[43msegment_text_cases\u001B[49m\u001B[43m)\u001B[49m\n\u001B[0;32m    454\u001B[0m     df[column_name] \u001B[38;5;241m=\u001B[39m df[column_name]\u001B[38;5;241m.\u001B[39mfillna(\u001B[38;5;124m'\u001B[39m\u001B[38;5;124m'\u001B[39m)\u001B[38;5;241m.\u001B[39mapply(segment_text_english)\n\u001B[0;32m    455\u001B[0m     df[column_name] \u001B[38;5;241m=\u001B[39m df[column_name]\u001B[38;5;241m.\u001B[39mfillna(\u001B[38;5;124m'\u001B[39m\u001B[38;5;124m'\u001B[39m)\u001B[38;5;241m.\u001B[39mapply(segment_text_twitter)\n",
      "File \u001B[1;32m~\\anaconda3\\lib\\site-packages\\pandas\\core\\series.py:4771\u001B[0m, in \u001B[0;36mSeries.apply\u001B[1;34m(self, func, convert_dtype, args, **kwargs)\u001B[0m\n\u001B[0;32m   4661\u001B[0m \u001B[38;5;28;01mdef\u001B[39;00m \u001B[38;5;21mapply\u001B[39m(\n\u001B[0;32m   4662\u001B[0m     \u001B[38;5;28mself\u001B[39m,\n\u001B[0;32m   4663\u001B[0m     func: AggFuncType,\n\u001B[1;32m   (...)\u001B[0m\n\u001B[0;32m   4666\u001B[0m     \u001B[38;5;241m*\u001B[39m\u001B[38;5;241m*\u001B[39mkwargs,\n\u001B[0;32m   4667\u001B[0m ) \u001B[38;5;241m-\u001B[39m\u001B[38;5;241m>\u001B[39m DataFrame \u001B[38;5;241m|\u001B[39m Series:\n\u001B[0;32m   4668\u001B[0m     \u001B[38;5;124;03m\"\"\"\u001B[39;00m\n\u001B[0;32m   4669\u001B[0m \u001B[38;5;124;03m    Invoke function on values of Series.\u001B[39;00m\n\u001B[0;32m   4670\u001B[0m \n\u001B[1;32m   (...)\u001B[0m\n\u001B[0;32m   4769\u001B[0m \u001B[38;5;124;03m    dtype: float64\u001B[39;00m\n\u001B[0;32m   4770\u001B[0m \u001B[38;5;124;03m    \"\"\"\u001B[39;00m\n\u001B[1;32m-> 4771\u001B[0m     \u001B[38;5;28;01mreturn\u001B[39;00m \u001B[43mSeriesApply\u001B[49m\u001B[43m(\u001B[49m\u001B[38;5;28;43mself\u001B[39;49m\u001B[43m,\u001B[49m\u001B[43m \u001B[49m\u001B[43mfunc\u001B[49m\u001B[43m,\u001B[49m\u001B[43m \u001B[49m\u001B[43mconvert_dtype\u001B[49m\u001B[43m,\u001B[49m\u001B[43m \u001B[49m\u001B[43margs\u001B[49m\u001B[43m,\u001B[49m\u001B[43m \u001B[49m\u001B[43mkwargs\u001B[49m\u001B[43m)\u001B[49m\u001B[38;5;241;43m.\u001B[39;49m\u001B[43mapply\u001B[49m\u001B[43m(\u001B[49m\u001B[43m)\u001B[49m\n",
      "File \u001B[1;32m~\\anaconda3\\lib\\site-packages\\pandas\\core\\apply.py:1123\u001B[0m, in \u001B[0;36mSeriesApply.apply\u001B[1;34m(self)\u001B[0m\n\u001B[0;32m   1120\u001B[0m     \u001B[38;5;28;01mreturn\u001B[39;00m \u001B[38;5;28mself\u001B[39m\u001B[38;5;241m.\u001B[39mapply_str()\n\u001B[0;32m   1122\u001B[0m \u001B[38;5;66;03m# self.f is Callable\u001B[39;00m\n\u001B[1;32m-> 1123\u001B[0m \u001B[38;5;28;01mreturn\u001B[39;00m \u001B[38;5;28;43mself\u001B[39;49m\u001B[38;5;241;43m.\u001B[39;49m\u001B[43mapply_standard\u001B[49m\u001B[43m(\u001B[49m\u001B[43m)\u001B[49m\n",
      "File \u001B[1;32m~\\anaconda3\\lib\\site-packages\\pandas\\core\\apply.py:1174\u001B[0m, in \u001B[0;36mSeriesApply.apply_standard\u001B[1;34m(self)\u001B[0m\n\u001B[0;32m   1172\u001B[0m     \u001B[38;5;28;01melse\u001B[39;00m:\n\u001B[0;32m   1173\u001B[0m         values \u001B[38;5;241m=\u001B[39m obj\u001B[38;5;241m.\u001B[39mastype(\u001B[38;5;28mobject\u001B[39m)\u001B[38;5;241m.\u001B[39m_values\n\u001B[1;32m-> 1174\u001B[0m         mapped \u001B[38;5;241m=\u001B[39m \u001B[43mlib\u001B[49m\u001B[38;5;241;43m.\u001B[39;49m\u001B[43mmap_infer\u001B[49m\u001B[43m(\u001B[49m\n\u001B[0;32m   1175\u001B[0m \u001B[43m            \u001B[49m\u001B[43mvalues\u001B[49m\u001B[43m,\u001B[49m\n\u001B[0;32m   1176\u001B[0m \u001B[43m            \u001B[49m\u001B[43mf\u001B[49m\u001B[43m,\u001B[49m\n\u001B[0;32m   1177\u001B[0m \u001B[43m            \u001B[49m\u001B[43mconvert\u001B[49m\u001B[38;5;241;43m=\u001B[39;49m\u001B[38;5;28;43mself\u001B[39;49m\u001B[38;5;241;43m.\u001B[39;49m\u001B[43mconvert_dtype\u001B[49m\u001B[43m,\u001B[49m\n\u001B[0;32m   1178\u001B[0m \u001B[43m        \u001B[49m\u001B[43m)\u001B[49m\n\u001B[0;32m   1180\u001B[0m \u001B[38;5;28;01mif\u001B[39;00m \u001B[38;5;28mlen\u001B[39m(mapped) \u001B[38;5;129;01mand\u001B[39;00m \u001B[38;5;28misinstance\u001B[39m(mapped[\u001B[38;5;241m0\u001B[39m], ABCSeries):\n\u001B[0;32m   1181\u001B[0m     \u001B[38;5;66;03m# GH#43986 Need to do list(mapped) in order to get treated as nested\u001B[39;00m\n\u001B[0;32m   1182\u001B[0m     \u001B[38;5;66;03m#  See also GH#25959 regarding EA support\u001B[39;00m\n\u001B[0;32m   1183\u001B[0m     \u001B[38;5;28;01mreturn\u001B[39;00m obj\u001B[38;5;241m.\u001B[39m_constructor_expanddim(\u001B[38;5;28mlist\u001B[39m(mapped), index\u001B[38;5;241m=\u001B[39mobj\u001B[38;5;241m.\u001B[39mindex)\n",
      "File \u001B[1;32m~\\anaconda3\\lib\\site-packages\\pandas\\_libs\\lib.pyx:2924\u001B[0m, in \u001B[0;36mpandas._libs.lib.map_infer\u001B[1;34m()\u001B[0m\n",
      "File \u001B[1;32m~\\PycharmProjects\\WebScience24\\src\\functions\\clean_data_generic_functions.py:406\u001B[0m, in \u001B[0;36msegment_text_cases\u001B[1;34m(text)\u001B[0m\n\u001B[0;32m    400\u001B[0m \u001B[38;5;124;03m\"\"\"\u001B[39;00m\n\u001B[0;32m    401\u001B[0m \u001B[38;5;124;03mSeparates CamelCase and pascalCase words into strings.\u001B[39;00m\n\u001B[0;32m    402\u001B[0m \n\u001B[0;32m    403\u001B[0m \u001B[38;5;124;03m# Code reference: https://github.com/cbaziotis/ekphrasis\u001B[39;00m\n\u001B[0;32m    404\u001B[0m \u001B[38;5;124;03m\"\"\"\u001B[39;00m\n\u001B[0;32m    405\u001B[0m \u001B[38;5;66;03m# segmenter for CamelCase and pascalCase\u001B[39;00m\n\u001B[1;32m--> 406\u001B[0m seg \u001B[38;5;241m=\u001B[39m \u001B[43mSegmenter\u001B[49m\u001B[43m(\u001B[49m\u001B[43m)\u001B[49m\n\u001B[0;32m    408\u001B[0m new_text \u001B[38;5;241m=\u001B[39m []\n\u001B[0;32m    409\u001B[0m \u001B[38;5;28;01mfor\u001B[39;00m w \u001B[38;5;129;01min\u001B[39;00m text\u001B[38;5;241m.\u001B[39msplit():\n",
      "File \u001B[1;32m~\\anaconda3\\lib\\site-packages\\ekphrasis\\classes\\segmenter.py:60\u001B[0m, in \u001B[0;36mSegmenter.__init__\u001B[1;34m(self, corpus, max_split_length)\u001B[0m\n\u001B[0;32m     57\u001B[0m \u001B[38;5;66;03m# self.unigrams = Counter(read_stats(corpus, 1))\u001B[39;00m\n\u001B[0;32m     58\u001B[0m \u001B[38;5;66;03m# self.bigrams = Counter(read_stats(corpus, 2))\u001B[39;00m\n\u001B[0;32m     59\u001B[0m \u001B[38;5;28mself\u001B[39m\u001B[38;5;241m.\u001B[39munigrams \u001B[38;5;241m=\u001B[39m read_stats(corpus, \u001B[38;5;241m1\u001B[39m)\n\u001B[1;32m---> 60\u001B[0m \u001B[38;5;28mself\u001B[39m\u001B[38;5;241m.\u001B[39mbigrams \u001B[38;5;241m=\u001B[39m \u001B[43mread_stats\u001B[49m\u001B[43m(\u001B[49m\u001B[43mcorpus\u001B[49m\u001B[43m,\u001B[49m\u001B[43m \u001B[49m\u001B[38;5;241;43m2\u001B[39;49m\u001B[43m)\u001B[49m\n\u001B[0;32m     61\u001B[0m \u001B[38;5;28mself\u001B[39m\u001B[38;5;241m.\u001B[39mN \u001B[38;5;241m=\u001B[39m \u001B[38;5;28msum\u001B[39m(\u001B[38;5;28mself\u001B[39m\u001B[38;5;241m.\u001B[39munigrams\u001B[38;5;241m.\u001B[39mvalues())\n\u001B[0;32m     62\u001B[0m \u001B[38;5;28mself\u001B[39m\u001B[38;5;241m.\u001B[39mL \u001B[38;5;241m=\u001B[39m max_split_length\n",
      "File \u001B[1;32m~\\anaconda3\\lib\\site-packages\\ekphrasis\\utils\\helpers.py:55\u001B[0m, in \u001B[0;36mread_stats\u001B[1;34m(corpus, ngram)\u001B[0m\n\u001B[0;32m     53\u001B[0m \u001B[38;5;28;01mif\u001B[39;00m os\u001B[38;5;241m.\u001B[39mpath\u001B[38;5;241m.\u001B[39misfile(dumped):\n\u001B[0;32m     54\u001B[0m     \u001B[38;5;28;01mwith\u001B[39;00m \u001B[38;5;28mopen\u001B[39m(dumped, \u001B[38;5;124m\"\u001B[39m\u001B[38;5;124mr\u001B[39m\u001B[38;5;124m\"\u001B[39m) \u001B[38;5;28;01mas\u001B[39;00m f:\n\u001B[1;32m---> 55\u001B[0m         stats \u001B[38;5;241m=\u001B[39m \u001B[43mjson\u001B[49m\u001B[38;5;241;43m.\u001B[39;49m\u001B[43mload\u001B[49m\u001B[43m(\u001B[49m\u001B[43mf\u001B[49m\u001B[43m)\u001B[49m\n\u001B[0;32m     56\u001B[0m         \u001B[38;5;28;01mreturn\u001B[39;00m stats\n\u001B[0;32m     57\u001B[0m \u001B[38;5;28;01melif\u001B[39;00m os\u001B[38;5;241m.\u001B[39mpath\u001B[38;5;241m.\u001B[39misfile(text):\n",
      "\u001B[1;31mJSONDecodeError\u001B[0m: Could not reserve memory block"
     ]
    }
   ],
   "source": [
    "test_df = pd.read_csv('./twitter_hate-speech/predict.csv', index_col=0)\n",
    "segment_test = segment_tweets(test_df, \"tweet\")"
   ],
   "metadata": {
    "collapsed": false,
    "ExecuteTime": {
     "end_time": "2024-12-02T20:24:03.275950400Z",
     "start_time": "2024-12-02T20:19:28.638073400Z"
    }
   }
  },
  {
   "cell_type": "code",
   "execution_count": null,
   "outputs": [],
   "source": [
    "segment_test"
   ],
   "metadata": {
    "collapsed": false
   }
  },
  {
   "cell_type": "code",
   "execution_count": 4,
   "outputs": [
    {
     "name": "stdout",
     "output_type": "stream",
     "text": [
      "Reading english - 1grams ...\n",
      "Reading english - 2grams ...\n",
      " @user study history, @user a #gop president spawned #isis. fearing you'll be booted, you're desperate; you play thâ¦\n",
      " @user study history, @user a #gop president spawned #isis. fearing you'll be booted, you're desperate; you play th…\n",
      "@user\n",
      "(eng): @ user\n",
      "\n",
      "study\n",
      "(eng): study\n",
      "\n",
      "history,\n",
      "(eng): history ,\n",
      "\n",
      "@user\n",
      "(eng): @ user\n",
      "\n",
      "a\n",
      "(eng): a\n",
      "\n",
      "#gop\n",
      "(eng): #gop\n",
      "\n",
      "president\n",
      "(eng): president\n",
      "\n",
      "spawned\n",
      "(eng): spawned\n",
      "\n",
      "#isis.\n",
      "(eng): #isis.\n",
      "\n",
      "fearing\n",
      "(eng): fearing\n",
      "\n",
      "you'll\n",
      "(eng): you 'll\n",
      "\n",
      "be\n",
      "(eng): be\n",
      "\n",
      "booted,\n",
      "(eng): booted,\n",
      "\n",
      "you're\n",
      "(eng): you 're\n",
      "\n",
      "desperate;\n",
      "(eng): desperate ;\n",
      "\n",
      "you\n",
      "(eng): you\n",
      "\n",
      "play\n",
      "(eng): play\n",
      "\n",
      "th…\n",
      "(eng): th…\n",
      "\n"
     ]
    }
   ],
   "source": [
    "from ftfy import fix_encoding\n",
    "from ekphrasis.classes.segmenter import Segmenter\n",
    "\n",
    "# segmenter using the word statistics from english Wikipedia\n",
    "seg_eng = Segmenter(corpus=\"english\")\n",
    "\n",
    "# segmenter using the word statistics from Twitter\n",
    "# seg_tw = Segmenter(corpus=\"twitter\")\n",
    "\n",
    "words = \" @user study history, @user a #gop president spawned #isis. fearing you'll be booted, you're desperate; you play thâ¦\"\n",
    "print(words)\n",
    "words = fix_encoding(words)\n",
    "print(words)\n",
    "\n",
    "for w in words.split():\n",
    "    print(w)\n",
    "    print(\"(eng):\", seg_eng.segment(w))\n",
    "    # print(\"(tw):\", seg_tw.segment(w))\n",
    "    print()"
   ],
   "metadata": {
    "collapsed": false,
    "ExecuteTime": {
     "end_time": "2024-12-02T20:15:31.799817400Z",
     "start_time": "2024-12-02T20:15:22.986446200Z"
    }
   }
  },
  {
   "cell_type": "code",
   "execution_count": null,
   "outputs": [],
   "source": [],
   "metadata": {
    "collapsed": false
   }
  }
 ],
 "metadata": {
  "kernelspec": {
   "display_name": "Python 3",
   "language": "python",
   "name": "python3"
  },
  "language_info": {
   "codemirror_mode": {
    "name": "ipython",
    "version": 2
   },
   "file_extension": ".py",
   "mimetype": "text/x-python",
   "name": "python",
   "nbconvert_exporter": "python",
   "pygments_lexer": "ipython2",
   "version": "2.7.6"
  }
 },
 "nbformat": 4,
 "nbformat_minor": 0
}
