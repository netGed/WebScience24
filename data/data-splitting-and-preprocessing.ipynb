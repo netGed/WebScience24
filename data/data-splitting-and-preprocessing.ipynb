{
 "cells": [
  {
   "cell_type": "code",
   "execution_count": null,
   "metadata": {
    "collapsed": true
   },
   "outputs": [],
   "source": [
    "import pandas as pd\n",
    "import numpy as np\n",
    "from src.functions.cleaning_pipeline import clean_dataframe"
   ]
  },
  {
   "cell_type": "code",
   "execution_count": null,
   "outputs": [],
   "source": [
    "def print_distribution(df, col):\n",
    "    positive = np.count_nonzero(df[col] == 1)\n",
    "    negative = np.count_nonzero(df[col] == 0)\n",
    "    print(\"- Positive:\", positive)\n",
    "    print(\"- Negative:\", negative)\n",
    "    print(\"- Verhältnis:\", negative / positive)"
   ],
   "metadata": {
    "collapsed": false
   }
  },
  {
   "cell_type": "markdown",
   "source": [
    "### Erstellung neuer Train und Testdatensatz"
   ],
   "metadata": {
    "collapsed": false
   }
  },
  {
   "cell_type": "code",
   "execution_count": null,
   "outputs": [],
   "source": [
    "df_train_old = pd.read_csv(\"twitter_hate-speech-alt/train.csv\", index_col=0)\n",
    "df_train_old.head()"
   ],
   "metadata": {
    "collapsed": false
   }
  },
  {
   "cell_type": "code",
   "execution_count": null,
   "outputs": [],
   "source": [
    "print_distribution(df_train_old, \"label\")"
   ],
   "metadata": {
    "collapsed": false
   }
  },
  {
   "cell_type": "code",
   "execution_count": null,
   "outputs": [],
   "source": [
    "train = df_train_old.sample(frac=0.7, random_state=200)\n",
    "print_distribution(train, \"label\")"
   ],
   "metadata": {
    "collapsed": false
   }
  },
  {
   "cell_type": "code",
   "execution_count": null,
   "outputs": [],
   "source": [
    "train.head()"
   ],
   "metadata": {
    "collapsed": false
   }
  },
  {
   "cell_type": "code",
   "execution_count": null,
   "outputs": [],
   "source": [
    "test = df_train_old.drop(train.index)\n",
    "print_distribution(test, \"label\")"
   ],
   "metadata": {
    "collapsed": false
   }
  },
  {
   "cell_type": "code",
   "execution_count": null,
   "outputs": [],
   "source": [
    "test.head()"
   ],
   "metadata": {
    "collapsed": false
   }
  },
  {
   "cell_type": "code",
   "execution_count": null,
   "outputs": [],
   "source": [
    "train.to_csv(\"twitter_hate-speech/train.csv\")\n",
    "test.to_csv(\"twitter_hate-speech/test.csv\")"
   ],
   "metadata": {
    "collapsed": false
   }
  },
  {
   "cell_type": "markdown",
   "source": [
    "### Bereinigung und Vorverarbeitung"
   ],
   "metadata": {
    "collapsed": false
   }
  },
  {
   "cell_type": "markdown",
   "source": [
    "#### Bereinigung und Vorverarbeitung: TRAIN"
   ],
   "metadata": {
    "collapsed": false
   }
  },
  {
   "cell_type": "markdown",
   "source": [
    "##### Geeignet für: Maschinelles Lernen\n",
    "es werden alle implementierten Cleaning und Preprocessing Schritte ausgeführt AUßER: Auflösen Negationen (nicht implementiert), Emojis Entfernen"
   ],
   "metadata": {
    "collapsed": false
   }
  },
  {
   "cell_type": "code",
   "execution_count": null,
   "outputs": [],
   "source": [
    "df_origin_train = pd.read_csv('./twitter_hate-speech/train.csv', index_col=0)\n",
    "df_clean_base_train = df_origin_train.copy()"
   ],
   "metadata": {
    "collapsed": false
   }
  },
  {
   "cell_type": "code",
   "execution_count": null,
   "outputs": [],
   "source": [
    "df_cleaned_train = clean_dataframe(df_clean_base_train, \"tweet\", False, True, False)"
   ],
   "metadata": {
    "collapsed": false
   }
  },
  {
   "cell_type": "code",
   "execution_count": null,
   "outputs": [],
   "source": [
    "df_cleaned_train.head(50)"
   ],
   "metadata": {
    "collapsed": false
   }
  },
  {
   "cell_type": "code",
   "execution_count": null,
   "outputs": [],
   "source": [
    "df_cleaned_train.to_csv('./twitter_hate-speech/train_cleaned.csv')"
   ],
   "metadata": {
    "collapsed": false
   }
  },
  {
   "cell_type": "markdown",
   "source": [
    "##### Geeignet für: Deep Learning (RNN)\n",
    "es werden nicht alle implementierten Cleaning und Preprocessing Schritte ausgeführt\n",
    "\n",
    "NICHT: Auflösen Negationen (nicht implementiert), Emojis Entfernen, Lemmatisierung, Stopwords entfernen, Most/Least frequent words entfernen"
   ],
   "metadata": {
    "collapsed": false
   }
  },
  {
   "cell_type": "code",
   "execution_count": null,
   "outputs": [],
   "source": [
    "df_origin_train_rnn = pd.read_csv('./twitter_hate-speech/train.csv', index_col=0)\n",
    "df_clean_base_train_rnn = df_origin_train_rnn.copy()"
   ],
   "metadata": {
    "collapsed": false
   }
  },
  {
   "cell_type": "code",
   "execution_count": null,
   "outputs": [],
   "source": [
    "df_cleaned_train_rnn = clean_dataframe(df_clean_base_train_rnn, \"tweet\", False, True, True)"
   ],
   "metadata": {
    "collapsed": false
   }
  },
  {
   "cell_type": "code",
   "execution_count": null,
   "outputs": [],
   "source": [
    "df_cleaned_train_rnn.head()"
   ],
   "metadata": {
    "collapsed": false
   }
  },
  {
   "cell_type": "code",
   "execution_count": null,
   "outputs": [],
   "source": [
    "df_cleaned_train_rnn.to_csv('./twitter_hate-speech/train_cleaned_rnn.csv')"
   ],
   "metadata": {
    "collapsed": false
   }
  },
  {
   "cell_type": "markdown",
   "source": [
    "#### Bereinigung und Vorverarbeitung: TEST"
   ],
   "metadata": {
    "collapsed": false
   }
  },
  {
   "cell_type": "markdown",
   "source": [
    "##### Geeignet für: Maschinelles Lernen\n",
    "es werden alle implementierten Cleaning und Preprocessing Schritte ausgeführt AUßER welche, bei denen Zeilen gelöscht werden"
   ],
   "metadata": {
    "collapsed": false
   }
  },
  {
   "cell_type": "code",
   "execution_count": null,
   "outputs": [],
   "source": [
    "df_origin_test = pd.read_csv('./twitter_hate-speech/test.csv', index_col=0)\n",
    "df_clean_base_test = df_origin_test.copy()"
   ],
   "metadata": {
    "collapsed": false
   }
  },
  {
   "cell_type": "code",
   "execution_count": null,
   "outputs": [],
   "source": [
    "df_cleaned_test = clean_dataframe(df_clean_base_test, \"tweet\", False, False, False)"
   ],
   "metadata": {
    "collapsed": false
   }
  },
  {
   "cell_type": "code",
   "execution_count": null,
   "outputs": [],
   "source": [
    "df_cleaned_test.head()"
   ],
   "metadata": {
    "collapsed": false
   }
  },
  {
   "cell_type": "code",
   "execution_count": null,
   "outputs": [],
   "source": [
    "df_cleaned_test.to_csv('./twitter_hate-speech/test_cleaned.csv')"
   ],
   "metadata": {
    "collapsed": false
   }
  },
  {
   "cell_type": "markdown",
   "source": [
    "##### Geeignet für: Deep Learning (RNN)\n",
    "es werden nicht alle implementierten Cleaning und Preprocessing Schritte ausgeführt\n",
    "\n",
    "NICHT: Duplikate entfernen, Auflösen Negationen (nicht implementiert), Emojis Entfernen, Lemmatisierung, Stopwords entfernen, Most/Least frequent words entfernen"
   ],
   "metadata": {
    "collapsed": false
   }
  },
  {
   "cell_type": "code",
   "execution_count": null,
   "outputs": [],
   "source": [
    "df_origin_test_rnn = pd.read_csv('./twitter_hate-speech/test.csv', index_col=0)\n",
    "df_clean_base_test_rnn = df_origin_test_rnn.copy()"
   ],
   "metadata": {
    "collapsed": false
   }
  },
  {
   "cell_type": "code",
   "execution_count": null,
   "outputs": [],
   "source": [
    "df_cleaned_test_rnn = clean_dataframe(df_clean_base_test_rnn, \"tweet\", False, False, True)"
   ],
   "metadata": {
    "collapsed": false
   }
  },
  {
   "cell_type": "code",
   "execution_count": null,
   "outputs": [],
   "source": [
    "df_cleaned_test_rnn.head()"
   ],
   "metadata": {
    "collapsed": false
   }
  },
  {
   "cell_type": "code",
   "execution_count": null,
   "outputs": [],
   "source": [
    "df_cleaned_test_rnn.to_csv('./twitter_hate-speech/test_cleaned_rnn.csv')"
   ],
   "metadata": {
    "collapsed": false
   }
  },
  {
   "cell_type": "markdown",
   "source": [
    "#### Bereinigung und Vorverarbeitung: PREDICT"
   ],
   "metadata": {
    "collapsed": false
   }
  },
  {
   "cell_type": "markdown",
   "source": [
    "##### Geeignet für: Maschinelles Lernen\n",
    "es werden alle implementierten Cleaning und Preprocessing Schritte ausgeführt AUßER welche, bei denen Zeilen gelöscht werden"
   ],
   "metadata": {
    "collapsed": false
   }
  },
  {
   "cell_type": "code",
   "execution_count": null,
   "outputs": [],
   "source": [
    "df_origin_predict = pd.read_csv('./twitter_hate-speech/predict.csv', index_col=0)\n",
    "df_clean_base_predict = df_origin_predict.copy()"
   ],
   "metadata": {
    "collapsed": false
   }
  },
  {
   "cell_type": "code",
   "execution_count": null,
   "outputs": [],
   "source": [
    "df_cleaned_predict = clean_dataframe(df_clean_base_predict, \"tweet\", False, False, False)"
   ],
   "metadata": {
    "collapsed": false
   }
  },
  {
   "cell_type": "code",
   "execution_count": null,
   "outputs": [],
   "source": [
    "df_cleaned_predict.head()"
   ],
   "metadata": {
    "collapsed": false
   }
  },
  {
   "cell_type": "code",
   "execution_count": null,
   "outputs": [],
   "source": [
    "df_cleaned_predict.to_csv('./twitter_hate-speech/predict_cleaned.csv')"
   ],
   "metadata": {
    "collapsed": false
   }
  },
  {
   "cell_type": "markdown",
   "source": [
    "##### Geeignet für: Deep Learning (RNN)\n",
    "es werden nicht alle implementierten Cleaning und Preprocessing Schritte ausgeführt\n",
    "\n",
    "NICHT: Duplikate entfernen, Auflösen Negationen (nicht implementiert), Emojis Entfernen, Lemmatisierung, Stopwords entfernen, Most/Least frequent words entfernen"
   ],
   "metadata": {
    "collapsed": false
   }
  },
  {
   "cell_type": "code",
   "execution_count": null,
   "outputs": [],
   "source": [
    "df_origin_predict_rnn = pd.read_csv('./twitter_hate-speech/predict.csv', index_col=0)\n",
    "df_clean_base_predict_rnn = df_origin_predict_rnn.copy()"
   ],
   "metadata": {
    "collapsed": false
   }
  },
  {
   "cell_type": "code",
   "execution_count": null,
   "outputs": [],
   "source": [
    "df_cleaned_predict_rnn = clean_dataframe(df_clean_base_predict_rnn, \"tweet\", False, False, True)"
   ],
   "metadata": {
    "collapsed": false
   }
  },
  {
   "cell_type": "code",
   "execution_count": null,
   "outputs": [],
   "source": [
    "df_cleaned_predict_rnn.head()"
   ],
   "metadata": {
    "collapsed": false
   }
  },
  {
   "cell_type": "code",
   "execution_count": null,
   "outputs": [],
   "source": [
    "df_cleaned_predict_rnn.to_csv('./twitter_hate-speech/predict_cleaned_rnn.csv')"
   ],
   "metadata": {
    "collapsed": false
   }
  },
  {
   "cell_type": "code",
   "execution_count": null,
   "outputs": [],
   "source": [],
   "metadata": {
    "collapsed": false
   }
  },
  {
   "cell_type": "code",
   "execution_count": null,
   "outputs": [],
   "source": [],
   "metadata": {
    "collapsed": false
   }
  },
  {
   "cell_type": "code",
   "execution_count": null,
   "outputs": [],
   "source": [],
   "metadata": {
    "collapsed": false
   }
  },
  {
   "cell_type": "code",
   "execution_count": 1,
   "outputs": [],
   "source": [
    "from src.functions.cleaning_pipeline import clean_dataframe\n",
    "import pandas as pd\n",
    "\n",
    "test_predict_df = pd.read_csv('./twitter_hate-speech/predict.csv', index_col=0)\n",
    "test_df = test_predict_df.copy()"
   ],
   "metadata": {
    "collapsed": false,
    "ExecuteTime": {
     "end_time": "2024-12-03T22:24:44.673555400Z",
     "start_time": "2024-12-03T22:24:38.171001300Z"
    }
   }
  },
  {
   "cell_type": "code",
   "execution_count": 2,
   "outputs": [
    {
     "name": "stdout",
     "output_type": "stream",
     "text": [
      "Start Cleaning\n",
      "--- Cleaning Step 1/21: to_lowercase\n",
      "--- Cleaning Step 2/21: expand_shortcuts\n",
      "--- Cleaning Step 3/21: remove_negations - SKIP (not implemented)\n",
      "--- Cleaning Step 4/21: handle_userhandles\n",
      "--- Cleaning Step 5/21: handle_hashtags\n",
      "Reading twitter - 1grams ...\n",
      "Reading twitter - 2grams ...\n"
     ]
    },
    {
     "name": "stderr",
     "output_type": "stream",
     "text": [
      "C:\\Users\\admin\\anaconda3\\lib\\site-packages\\ekphrasis\\classes\\exmanager.py:14: FutureWarning: Possible nested set at position 42\n",
      "  regexes = {k.lower(): re.compile(self.expressions[k]) for k, v in\n"
     ]
    },
    {
     "name": "stdout",
     "output_type": "stream",
     "text": [
      "--- Cleaning Step 6/21: segment_tweets\n",
      "Reading english - 1grams ...\n",
      "Reading english - 2grams ...\n",
      "Reading twitter - 1grams ...\n",
      "Reading twitter - 2grams ...\n",
      "--- Cleaning Step 7/21: extract_emojis\n",
      "--- Cleaning Step 8/21: replace_emojis\n",
      "--- Cleaning Step 9/21: replace_smileys\n",
      "--- Cleaning Step 10/21: remove_emojis - SKIP\n",
      "--- Cleaning Step 11/21: remove_url_from_tweet\n",
      "--- Cleaning Step 12/21: remove_punctuation\n",
      "--- Cleaning Step 13/21: remove_special_characters\n",
      "--- Cleaning Step 14/21: remove_digis\n",
      "--- Cleaning Step 15/21: remove_word_from_column: amp\n",
      "--- Cleaning Step 16/21: lemmatize - SKIP\n",
      "--- Cleaning Step 17/21: remove_stop_words - SKIP\n",
      "--- Cleaning Step 18/21: remove_most_frequent_words - SKIP\n",
      "--- Cleaning Step 19/21: remove_least_frequent_words - SKIP\n",
      "--- Cleaning Step 20/21: remove_duplicates - SKIP\n",
      "--- Cleaning Step 21/21: remove_nans\n",
      "All Cleaning done\n"
     ]
    }
   ],
   "source": [
    "test = clean_dataframe(test_df, \"tweet\", False, False, True)"
   ],
   "metadata": {
    "collapsed": false,
    "ExecuteTime": {
     "end_time": "2024-12-03T22:26:04.719716100Z",
     "start_time": "2024-12-03T22:24:44.673555400Z"
    }
   }
  },
  {
   "cell_type": "code",
   "execution_count": 3,
   "outputs": [
    {
     "data": {
      "text/plain": "                                                                                                                                       tweet  \\\nid                                                                                                                                             \n31963                                               #studiolife #aislife #requires #passion #dedication #willpower   to find #newmaterials…    \n31964                                           @user #white #supremacists want everyone to see the new ‘  #birds’ #movie — and here’s why     \n31965                                                                safe ways to heal your #acne!!    #altwaystoheal #healthy   #healing!!    \n31966  is the hp and the cursed child book up for reservations already? if yes, where? if no, when? 😍😍😍   #harrypotter #pottermore #favorite   \n31967                                              3rd #bihday to my amazing, hilarious #nephew eli ahmir! uncle dave loves you and misses…    \n31968                                                                                                            choose to be   :) #momtips    \n31969                                                     something inside me dies 💦💿✨  eyes ness #smokeyeyes #tired  #lonely #sof #grunge…    \n31970                                                                      #finished#tattoo#inked#ink#loveit❤️ #❤️❤️❤️❤️ #thanks#aleeee !!!    \n31971                            @user @user @user i will never understand why my dad left me when i was so young.... :/ #deep #inthefeels     \n31972                                                                       #delicious   #food #lovelife #capetown mannaepicure #resturant…    \n31973                                              1000dayswasted - narcosis infinite ep.. make me aware.. grinding neuro bass #lifestyle      \n31974                                                                      one of the world's greatest spoing events   #lemans24 #teamaudi     \n31975                                                                              half way through the website now and #allgoingwell very     \n31976                                                good food, good life , #enjoy and   🙌🍕👀👍👌👄 this is called ~garlic bread~ ... #iloveit…    \n31977                                    i'll stand behind this #guncontrolplease   #senselessshootings #taketheguns #comicrelief #stillsad    \n31978                                           i ate,i ate and i ate...😀😊   #jamaisasthi #fish #curry #prawn #hilsa #foodfestival #foodies    \n31979                                               @user got my @user limited edition rain or shine set today!!  ! @user @user @user @user    \n31980                                           &amp; #love &amp; #hugs &amp; #kisses too! how to keep your #baby     #parenting #healthcare   \n31981                                                                                      👭🌞💖 #girls   #sun #fave @ london, united kingdom    \n31982                         thought factory: bbc neutrality on right wing fascism  #politics #media #blm #brexit #trump #leadership &gt;3    \n31983                                                                       hey guys tommorow is the last day of my exams i'm so happy yay     \n31984                                  @user @user  @user  #levyrroni #recuerdos memories💭❤🔗👫💏 #recuerdos    #friends #life #triunfodelamor    \n31985                                                                  my mind is like 🎉💃🏽🏀 but my body like 🛌😴👵🏽....   #sleepy #stillallin😉   \n31986                                                                                    never been this down on myself in my entire life.     \n31987                        check  twitterww - trends: \"trending worldwide 11:14 am bst\"1. #oscarpistorius2. #diplomalıliselilerayakta3.  …   \n31988                                              i thought i saw a mermaid!!! #ceegee  #smcr   #inshot #girls #cute #summer #blur #sun  …    \n31989                                                                                                  chick gets fucked hottest naked lady    \n31990                                                 happy bday lucy✨✨🎈 xoxo #love #beautiful #pizza   #instagood #mileycyrus #demilovato…    \n31991                                                        haroldfriday have a weekend filled with sunbeams everyone!   #healthy #weekend    \n31992                  @user @user tried that! but nothing - will try again! know you loved #2, but the 3rd light my fave &amp;deep rivers     \n31993                                                                       i'll #never be #120 #again i'm   #i'm a #thick #women #blacktina   \n31994                                    @user new @user episode tk! and a really cool 2-year anniversary ep in the works for august. :o)      \n31995                          #orangechicken   attack bull game 3d: do you really think that his head was empty around the city. each side    \n31996                                                suppo the #taiji fisherman! no bullying! no racism! #tweet4taiji #thecove #seashepherd    \n31997                                               i say we because i'm speaking collectively. i've always known. 2016 showed a lot.  and…    \n31998                                                                                                                   wish we could talk     \n31999                                              food time for haylie 😛 hot chocolate for mummy ☕️✅🌤🍃💯💪☮🤓 thank god it's friday!!! 👏👏👏  …    \n32000                                          @user snow white --&gt; open! --&gt; #sleepy,  , #sneezy and #bashful. @ or dm us today! [#]    \n32001                            #bihday #shilpashetty we #wish you to have a very very #successful #yearretailer,manufacturer ladies cloth    \n32002                                                                                                                it wasn't me  #lottery    \n32003                                                   tomorrow will be fun! seeing an old friend and then shooting something super fun:)     \n32004                                                 #raw food diet benefits! -    #altwaystoheal #healthy   #healing #peace #joy #love !!    \n32005                              @user @user trumps invested billions into saudi. he empowers the people funding isis.   #trumpsahypocrite   \n32006                      my granddaughter's 1st bihday is tomorrow.  going to pick her play house, little car, &amp; pool today.   🎂💞🎁💖💎💞🎈   \n32007                                              happiest place on eah! #disneyworld #orlando #castle   #mickeymouse #likechildrens @user    \n32008        so baby dave is due to be born on october 26...my fav band of all time #tool will be playing @user the same weekend .....   lol   \n32009                                                                                                            loving each other every day   \n32010                                                                                    @user morning sunshine! 💋   #smile #sexy #bigboobs    \n32011                                            this #world makes me  ... #jesus makes me #happy... john 16:33 #word #truth #faith #peace…    \n32012                                                                          foods for #healing your body!!    #doplants! #healthy is  !!    \n\n                                                                                                                                                                                                                                                                tweet_cleaned  \\\nid                                                                                                                                                                                                                                                                              \n31963                                                                                                                                                                                    studio life a is life requires passion dedication will power to find new materials …   \n31964                                                                                                                                                                                       white supremacists want everyone to see the new ‘ birds ’ movie — and here ’s why   \n31965                                                                                                                                                                                                            safe ways to heal your acne alt ways to heal healthy healing   \n31966                                                      is the hp and the cursed child book up for reservations already  if yes where  if no when  smiling face with heart-eyes smiling face with heart-eyes smiling face with heart-eyes harry potter pottermore favorite   \n31967                                                                                                                                                                                  rd bih day to my amazing  hilarious nephew eli ahmir uncle dave loves you and misses …   \n31968                                                                                                                                                                                                                                            choose to be smiley mom tips   \n31969                                                                                                                                                          something inside me dies sweat droplets optical disk sparkles eyes ness smokey eyes tired lonely s of grunge …   \n31970                                                                                                                                                                      finished tattoo inked ink love it red heart red heart red heart red heart red heart thanks al eeee   \n31971                                                                                                                                                                                      i will never understand why my dad left me when i was so young   deep in the feels   \n31972                                                                                                                                                                                                            delicious food love life cape town manna epicure resturant …   \n31973                                                                                                                                                                                        days wasted - narcos is infinite ep make me aware  grinding neuro bass lifestyle   \n31974                                                                                                                                                                                                          one of the world s greatest spo ing events le man s  team audi   \n31975                                                                                                                                                                                                                half way through the website now and all going well very   \n31976                                                                                                                                           good food  good life  enjoy and raising hands pizza eyes thumbs up OK hand mouth this is called ~ garlic bread ~  i love it …   \n31977                                                                                                                                                                       ill stand behind this gun control please senseless shootings take the guns comic relief still sad   \n31978                                                                                                                                          i atei ate and i ate grinning face smiling face with smiling eyes jamais as thi fish curry prawn hil s a food festival foodies   \n31979                                                                                                                                                                                                                          got my limited edition rain or shine set today   \n31980                                                                                                                                                                                                 ; love ; hugs ; kisses to o how to keep your baby parenting health care   \n31981                                                                                                                                                                               women holding hands sun with face sparkling heart girls sun fave @ london  united kingdom   \n31982                                                                                                                                                                   thought factory  bbc neutrality on right wing fascism politics media blm br exit trump leadership gt;   \n31983                                                                                                                                                                                                         hey guys tommorow is the last day of my exams i am so happy yay   \n31984                                                                                                                                levy r r on i recuerdos memories thought balloon red heart link woman and man holding hands kiss recuerdos friends life triunfo del amor   \n31985                                                                                        my mind is like party popper woman dancing medium skin tone basketball but my body like person in bed sleeping face old woman medium skin tone  sleepy still all in winking face   \n31986                                                                                                                                                                                                                        never been this down on myself in my entire life   \n31987                                                                                                                                                                  check twitter ww - trends  \" trending worldwide   am bst\" oscar pistorius  diploma lıliselilerayakta …   \n31988                                                                                                                                                                                           i thought i saw a mermaid  cee gee sm cr in shot girls cute summer blur sun …   \n31989                                                                                                                                                                                                                                    chick gets fucked hottest naked lady   \n31990                                                                                                                                                     happy bday lucy sparkles sparkles balloon hugs and kisses love beautiful pizza insta good miley cyrus demi lovato …   \n31991                                                                                                                                                                                             harold friday have a weekend filled with sunbeams everyone  healthy weekend   \n31992                                                                                                                                                                        tried that  but nothing - will try again  know you loved  but the rd light my fave ; deep rivers   \n31993                                                                                                                                                                                                                  ill never be  again i am i am a thick women black tina   \n31994                                                                                                                                                                                     new episode tk and a really cool  - year anniversary ep in the works for august  o)   \n31995                                                                                                                                                                orange chicken attack bull game d do you really think that his head was empty around the city  each side   \n31996                                                                                                                                                                                    suppo the taiji fisherman  no bullying  no racism  tweet taiji the cove sea shepherd   \n31997                                                                                                                                                                                      i say we because i am speaking collectively  ive always known   showed a lot and …   \n31998                                                                                                                                                                                                                                                      wish we could talk   \n31999  food time for haylie face with tongue hot chocolate for mummy hot beverage check mark button sun behind small cloud leaf fluttering in wind hundred points flexed biceps peace symbol nerd face thank god it is friday  clapping hands clapping hands clapping hands …   \n32000                                                                                                                                                                                  snow white --gt; open  --gt; sleepy   sneezy and bashful  @ or direct message us today   \n32001                                                                                                                                                               bih day shilpa shetty we wish you to have a very very successful year retailer  manufacturer ladies cloth   \n32002                                                                                                                                                                                                                                                   it was not me lottery   \n32003                                                                                                                                                                                        tomorrow will be fun seeing an old friend and then shooting something super fun)   \n32004                                                                                                                                                                                               raw food diet benefits  - alt ways to heal healthy healing peace joy love   \n32005                                                                                                                                                                         trump s invested billions into saudi  he empowers the people funding is is  trump s a hypocrite   \n32006                                                                        my granddaughter s st bih day is tomorrow  going to pick her play house  little car ; pool today  birthday cake revolving hearts wrapped gift sparkling heart gem stone revolving hearts balloon   \n32007                                                                                                                                                                                          happiest place on eah disney world orlando castle mickey mouse like children s   \n32008                                                                                                                                             so baby dave is due to be born on october  my fav band of all time tool will be playing the same weekend  laughing out loud   \n32009                                                                                                                                                                                                                                             loving each other every day   \n32010                                                                                                                                                                                                                        morning sunshine  kiss mark smile sexy big boobs   \n32011                                                                                                                                                                                              this world makes me  jesus makes me happy  john   word truth faith peace …   \n32012                                                                                                                                                                                                                      foods for healing your body  do plants  healthy is   \n\n       user_handle  \\\nid                   \n31963            0   \n31964            1   \n31965            0   \n31966            0   \n31967            0   \n31968            0   \n31969            0   \n31970            0   \n31971            3   \n31972            0   \n31973            0   \n31974            0   \n31975            0   \n31976            0   \n31977            0   \n31978            0   \n31979            6   \n31980            0   \n31981            0   \n31982            0   \n31983            0   \n31984            3   \n31985            0   \n31986            0   \n31987            0   \n31988            0   \n31989            0   \n31990            0   \n31991            0   \n31992            2   \n31993            0   \n31994            2   \n31995            0   \n31996            0   \n31997            0   \n31998            0   \n31999            0   \n32000            1   \n32001            0   \n32002            0   \n32003            0   \n32004            0   \n32005            2   \n32006            0   \n32007            1   \n32008            1   \n32009            0   \n32010            1   \n32011            0   \n32012            0   \n\n                                                                                   hashtags  \\\nid                                                                                            \n31963  [#studiolife, #aislife, #requires, #passion, #dedication, #willpower, #newmaterials]   \n31964                                               [#white, #supremacists, #birds, #movie]   \n31965                                           [#acne, #altwaystoheal, #healthy, #healing]   \n31966                                                [#harrypotter, #pottermore, #favorite]   \n31967                                                                    [#bihday, #nephew]   \n31968                                                                            [#momtips]   \n31969                                         [#smokeyeyes, #tired, #lonely, #sof, #grunge]   \n31970                         [#finished, #tattoo, #inked, #ink, #loveit, #thanks, #aleeee]   \n31971                                                                  [#deep, #inthefeels]   \n31972                                 [#delicious, #food, #lovelife, #capetown, #resturant]   \n31973                                                                          [#lifestyle]   \n31974                                                                [#lemans24, #teamaudi]   \n31975                                                                       [#allgoingwell]   \n31976                                                                    [#enjoy, #iloveit]   \n31977       [#guncontrolplease, #senselessshootings, #taketheguns, #comicrelief, #stillsad]   \n31978                [#jamaisasthi, #fish, #curry, #prawn, #hilsa, #foodfestival, #foodies]   \n31979                                                                                    []   \n31980                               [#love, #hugs, #kisses, #baby, #parenting, #healthcare]   \n31981                                                                 [#girls, #sun, #fave]   \n31982                               [#politics, #media, #blm, #brexit, #trump, #leadership]   \n31983                                                                                    []   \n31984                [#levyrroni, #recuerdos, #recuerdos, #friends, #life, #triunfodelamor]   \n31985                                                                [#sleepy, #stillallin]   \n31986                                                                                    []   \n31987                                        [#oscarpistorius2, #diplomalıliselilerayakta3]   \n31988                        [#ceegee, #smcr, #inshot, #girls, #cute, #summer, #blur, #sun]   \n31989                                                                                    []   \n31990                     [#love, #beautiful, #pizza, #instagood, #mileycyrus, #demilovato]   \n31991                                                                  [#healthy, #weekend]   \n31992                                                                                  [#2]   \n31993                                [#never, #120, #again, #i, #thick, #women, #blacktina]   \n31994                                                                                    []   \n31995                                                                      [#orangechicken]   \n31996                                        [#taiji, #tweet4taiji, #thecove, #seashepherd]   \n31997                                                                                    []   \n31998                                                                                    []   \n31999                                                                                    []   \n32000                                                          [#sleepy, #sneezy, #bashful]   \n32001                           [#bihday, #shilpashetty, #wish, #successful, #yearretailer]   \n32002                                                                            [#lottery]   \n32003                                                                                    []   \n32004                       [#raw, #altwaystoheal, #healthy, #healing, #peace, #joy, #love]   \n32005                                                                   [#trumpsahypocrite]   \n32006                                                                                    []   \n32007                       [#disneyworld, #orlando, #castle, #mickeymouse, #likechildrens]   \n32008                                                                               [#tool]   \n32009                                                                                    []   \n32010                                                            [#smile, #sexy, #bigboobs]   \n32011                               [#world, #jesus, #happy, #word, #truth, #faith, #peace]   \n32012                                                       [#healing, #doplants, #healthy]   \n\n                                                                                    hashtags_segmented  \\\nid                                                                                                       \n31963  [# studio life, #a is life, # requires, # passion, # dedication, # will power, # new materials]   \n31964                                                      [# white, # supremacists, # birds, # movie]   \n31965                                                 [#acne, #alt ways to heal, # healthy, # healing]   \n31966                                                       [# harry potter, # pottermore, # favorite]   \n31967                                                                             [#bih day, # nephew]   \n31968                                                                                      [#mom tips]   \n31969                                              [# smokey eyes, # tired, # lonely, #s of, # grunge]   \n31970                               [# finished, # tattoo, #inked, #ink, # love it, # thanks, #aleeee]   \n31971                                                                         [# deep, # in the feels]   \n31972                                     [# delicious, # food, # love life, # cape town, # resturant]   \n31973                                                                                    [# lifestyle]   \n31974                                                                           [#lemans24, #teamaudi]   \n31975                                                                               [# all going well]   \n31976                                                                           [# enjoy, # i love it]   \n31977      [# gun control please, # senseless shootings, # take the guns, # comic relief, # still sad]   \n31978                       [#jamaisasthi, #fish, # curry, #prawn, #hilsa, # food festival, # foodies]   \n31979                                                                                               []   \n31980                                     [# love, #hugs, # kisses, # baby, # parenting, # healthcare]   \n31981                                                                           [# girls, #sun, #fave]   \n31982                                     [# politics, # media, #blm, # brexit, # trump, # leadership]   \n31983                                                                                               []   \n31984                       [#levyrroni, # recuerdos, # recuerdos, # friends, # life, #triunfodelamor]   \n31985                                                                       [# sleepy, # still all in]   \n31986                                                                                               []   \n31987                                                 [#oscarpistorius2, # diploma lıliselilerayakta3]   \n31988                               [#ceegee, #smcr, #in shot, # girls, # cute, # summer, #blur, #sun]   \n31989                                                                                               []   \n31990                       [# love, # beautiful, # pizza, # insta good, # miley cyrus, # demi lovato]   \n31991                                                                           [# healthy, # weekend]   \n31992                                                                                            [# 2]   \n31993                                    [# never, # 120, # again, #i, # thick, # women, # black tina]   \n31994                                                                                               []   \n31995                                                                               [# orange chicken]   \n31996                                               [#taiji, #tweet4taiji, # the cove, # sea shepherd]   \n31997                                                                                               []   \n31998                                                                                               []   \n31999                                                                                               []   \n32000                                                                   [# sleepy, #sneezy, # bashful]   \n32001                               [#bih day, # shilpa shetty, # wish, # successful, # year retailer]   \n32002                                                                                      [# lottery]   \n32003                                                                                               []   \n32004                           [#raw, #alt ways to heal, # healthy, # healing, # peace, #joy, # love]   \n32005                                                                          [# trump s a hypocrite]   \n32006                                                                                               []   \n32007                         [# disney world, # orlando, # castle, # mickey mouse, # like children s]   \n32008                                                                                          [#tool]   \n32009                                                                                               []   \n32010                                                                   [# smile, # sexy, # big boobs]   \n32011                                   [# world, # jesus, # happy, # word, # truth, # faith, # peace]   \n32012                                                               [# healing, #do plants, # healthy]   \n\n                                                                                                                                                                                                                        emojis  \nid                                                                                                                                                                                                                              \n31963                                                                                                                                                                                                                           \n31964                                                                                                                                                                                                                           \n31965                                                                                                                                                                                                                           \n31966                                                                                                                             :smiling_face_with_heart-eyes:,:smiling_face_with_heart-eyes:,:smiling_face_with_heart-eyes:  \n31967                                                                                                                                                                                                                           \n31968                                                                                                                                                                                                                           \n31969                                                                                                                                                                               :sweat_droplets:,:optical_disk:,:sparkles:  \n31970                                                                                                                                                              :red_heart:,:red_heart:,:red_heart:,:red_heart:,:red_heart:  \n31971                                                                                                                                                                                                                           \n31972                                                                                                                                                                                                                           \n31973                                                                                                                                                                                                                           \n31974                                                                                                                                                                                                                           \n31975                                                                                                                                                                                                                           \n31976                                                                                                                                                             :raising_hands:,:pizza:,:eyes:,:thumbs_up:,:OK_hand:,:mouth:  \n31977                                                                                                                                                                                                                           \n31978                                                                                                                                                                         :grinning_face:,:smiling_face_with_smiling_eyes:  \n31979                                                                                                                                                                                                                           \n31980                                                                                                                                                                                                                           \n31981                                                                                                                                                                  :women_holding_hands:,:sun_with_face:,:sparkling_heart:  \n31982                                                                                                                                                                                                                           \n31983                                                                                                                                                                                                                           \n31984                                                                                                                                                :thought_balloon:,:red_heart:,:link:,:woman_and_man_holding_hands:,:kiss:  \n31985                                                                             :party_popper:,:woman_dancing:,:medium_skin_tone:,:basketball:,:person_in_bed:,:sleeping_face:,:old_woman:,:medium_skin_tone:,:winking_face:  \n31986                                                                                                                                                                                                                           \n31987                                                                                                                                                                                                                           \n31988                                                                                                                                                                                                                           \n31989                                                                                                                                                                                                                           \n31990                                                                                                                                                                                          :sparkles:,:sparkles:,:balloon:  \n31991                                                                                                                                                                                                                           \n31992                                                                                                                                                                                                                           \n31993                                                                                                                                                                                                                           \n31994                                                                                                                                                                                                                           \n31995                                                                                                                                                                                                                           \n31996                                                                                                                                                                                                                           \n31997                                                                                                                                                                                                                           \n31998                                                                                                                                                                                                                           \n31999  :face_with_tongue:,:hot_beverage:,:check_mark_button:,:sun_behind_small_cloud:,:leaf_fluttering_in_wind:,:hundred_points:,:flexed_biceps:,:peace_symbol:,:nerd_face:,:clapping_hands:,:clapping_hands:,:clapping_hands:  \n32000                                                                                                                                                                                                                           \n32001                                                                                                                                                                                                                           \n32002                                                                                                                                                                                                                           \n32003                                                                                                                                                                                                                           \n32004                                                                                                                                                                                                                           \n32005                                                                                                                                                                                                                           \n32006                                                                                                             :birthday_cake:,:revolving_hearts:,:wrapped_gift:,:sparkling_heart:,:gem_stone:,:revolving_hearts:,:balloon:  \n32007                                                                                                                                                                                                                           \n32008                                                                                                                                                                                                                           \n32009                                                                                                                                                                                                                           \n32010                                                                                                                                                                                                              :kiss_mark:  \n32011                                                                                                                                                                                                                           \n32012                                                                                                                                                                                                                           ",
      "text/html": "<div>\n<style scoped>\n    .dataframe tbody tr th:only-of-type {\n        vertical-align: middle;\n    }\n\n    .dataframe tbody tr th {\n        vertical-align: top;\n    }\n\n    .dataframe thead th {\n        text-align: right;\n    }\n</style>\n<table border=\"1\" class=\"dataframe\">\n  <thead>\n    <tr style=\"text-align: right;\">\n      <th></th>\n      <th>tweet</th>\n      <th>tweet_cleaned</th>\n      <th>user_handle</th>\n      <th>hashtags</th>\n      <th>hashtags_segmented</th>\n      <th>emojis</th>\n    </tr>\n    <tr>\n      <th>id</th>\n      <th></th>\n      <th></th>\n      <th></th>\n      <th></th>\n      <th></th>\n      <th></th>\n    </tr>\n  </thead>\n  <tbody>\n    <tr>\n      <th>31963</th>\n      <td>#studiolife #aislife #requires #passion #dedication #willpower   to find #newmaterials…</td>\n      <td>studio life a is life requires passion dedication will power to find new materials …</td>\n      <td>0</td>\n      <td>[#studiolife, #aislife, #requires, #passion, #dedication, #willpower, #newmaterials]</td>\n      <td>[# studio life, #a is life, # requires, # passion, # dedication, # will power, # new materials]</td>\n      <td></td>\n    </tr>\n    <tr>\n      <th>31964</th>\n      <td>@user #white #supremacists want everyone to see the new ‘  #birds’ #movie — and here’s why</td>\n      <td>white supremacists want everyone to see the new ‘ birds ’ movie — and here ’s why</td>\n      <td>1</td>\n      <td>[#white, #supremacists, #birds, #movie]</td>\n      <td>[# white, # supremacists, # birds, # movie]</td>\n      <td></td>\n    </tr>\n    <tr>\n      <th>31965</th>\n      <td>safe ways to heal your #acne!!    #altwaystoheal #healthy   #healing!!</td>\n      <td>safe ways to heal your acne alt ways to heal healthy healing</td>\n      <td>0</td>\n      <td>[#acne, #altwaystoheal, #healthy, #healing]</td>\n      <td>[#acne, #alt ways to heal, # healthy, # healing]</td>\n      <td></td>\n    </tr>\n    <tr>\n      <th>31966</th>\n      <td>is the hp and the cursed child book up for reservations already? if yes, where? if no, when? 😍😍😍   #harrypotter #pottermore #favorite</td>\n      <td>is the hp and the cursed child book up for reservations already  if yes where  if no when  smiling face with heart-eyes smiling face with heart-eyes smiling face with heart-eyes harry potter pottermore favorite</td>\n      <td>0</td>\n      <td>[#harrypotter, #pottermore, #favorite]</td>\n      <td>[# harry potter, # pottermore, # favorite]</td>\n      <td>:smiling_face_with_heart-eyes:,:smiling_face_with_heart-eyes:,:smiling_face_with_heart-eyes:</td>\n    </tr>\n    <tr>\n      <th>31967</th>\n      <td>3rd #bihday to my amazing, hilarious #nephew eli ahmir! uncle dave loves you and misses…</td>\n      <td>rd bih day to my amazing  hilarious nephew eli ahmir uncle dave loves you and misses …</td>\n      <td>0</td>\n      <td>[#bihday, #nephew]</td>\n      <td>[#bih day, # nephew]</td>\n      <td></td>\n    </tr>\n    <tr>\n      <th>31968</th>\n      <td>choose to be   :) #momtips</td>\n      <td>choose to be smiley mom tips</td>\n      <td>0</td>\n      <td>[#momtips]</td>\n      <td>[#mom tips]</td>\n      <td></td>\n    </tr>\n    <tr>\n      <th>31969</th>\n      <td>something inside me dies 💦💿✨  eyes ness #smokeyeyes #tired  #lonely #sof #grunge…</td>\n      <td>something inside me dies sweat droplets optical disk sparkles eyes ness smokey eyes tired lonely s of grunge …</td>\n      <td>0</td>\n      <td>[#smokeyeyes, #tired, #lonely, #sof, #grunge]</td>\n      <td>[# smokey eyes, # tired, # lonely, #s of, # grunge]</td>\n      <td>:sweat_droplets:,:optical_disk:,:sparkles:</td>\n    </tr>\n    <tr>\n      <th>31970</th>\n      <td>#finished#tattoo#inked#ink#loveit❤️ #❤️❤️❤️❤️ #thanks#aleeee !!!</td>\n      <td>finished tattoo inked ink love it red heart red heart red heart red heart red heart thanks al eeee</td>\n      <td>0</td>\n      <td>[#finished, #tattoo, #inked, #ink, #loveit, #thanks, #aleeee]</td>\n      <td>[# finished, # tattoo, #inked, #ink, # love it, # thanks, #aleeee]</td>\n      <td>:red_heart:,:red_heart:,:red_heart:,:red_heart:,:red_heart:</td>\n    </tr>\n    <tr>\n      <th>31971</th>\n      <td>@user @user @user i will never understand why my dad left me when i was so young.... :/ #deep #inthefeels</td>\n      <td>i will never understand why my dad left me when i was so young   deep in the feels</td>\n      <td>3</td>\n      <td>[#deep, #inthefeels]</td>\n      <td>[# deep, # in the feels]</td>\n      <td></td>\n    </tr>\n    <tr>\n      <th>31972</th>\n      <td>#delicious   #food #lovelife #capetown mannaepicure #resturant…</td>\n      <td>delicious food love life cape town manna epicure resturant …</td>\n      <td>0</td>\n      <td>[#delicious, #food, #lovelife, #capetown, #resturant]</td>\n      <td>[# delicious, # food, # love life, # cape town, # resturant]</td>\n      <td></td>\n    </tr>\n    <tr>\n      <th>31973</th>\n      <td>1000dayswasted - narcosis infinite ep.. make me aware.. grinding neuro bass #lifestyle</td>\n      <td>days wasted - narcos is infinite ep make me aware  grinding neuro bass lifestyle</td>\n      <td>0</td>\n      <td>[#lifestyle]</td>\n      <td>[# lifestyle]</td>\n      <td></td>\n    </tr>\n    <tr>\n      <th>31974</th>\n      <td>one of the world's greatest spoing events   #lemans24 #teamaudi</td>\n      <td>one of the world s greatest spo ing events le man s  team audi</td>\n      <td>0</td>\n      <td>[#lemans24, #teamaudi]</td>\n      <td>[#lemans24, #teamaudi]</td>\n      <td></td>\n    </tr>\n    <tr>\n      <th>31975</th>\n      <td>half way through the website now and #allgoingwell very</td>\n      <td>half way through the website now and all going well very</td>\n      <td>0</td>\n      <td>[#allgoingwell]</td>\n      <td>[# all going well]</td>\n      <td></td>\n    </tr>\n    <tr>\n      <th>31976</th>\n      <td>good food, good life , #enjoy and   🙌🍕👀👍👌👄 this is called ~garlic bread~ ... #iloveit…</td>\n      <td>good food  good life  enjoy and raising hands pizza eyes thumbs up OK hand mouth this is called ~ garlic bread ~  i love it …</td>\n      <td>0</td>\n      <td>[#enjoy, #iloveit]</td>\n      <td>[# enjoy, # i love it]</td>\n      <td>:raising_hands:,:pizza:,:eyes:,:thumbs_up:,:OK_hand:,:mouth:</td>\n    </tr>\n    <tr>\n      <th>31977</th>\n      <td>i'll stand behind this #guncontrolplease   #senselessshootings #taketheguns #comicrelief #stillsad</td>\n      <td>ill stand behind this gun control please senseless shootings take the guns comic relief still sad</td>\n      <td>0</td>\n      <td>[#guncontrolplease, #senselessshootings, #taketheguns, #comicrelief, #stillsad]</td>\n      <td>[# gun control please, # senseless shootings, # take the guns, # comic relief, # still sad]</td>\n      <td></td>\n    </tr>\n    <tr>\n      <th>31978</th>\n      <td>i ate,i ate and i ate...😀😊   #jamaisasthi #fish #curry #prawn #hilsa #foodfestival #foodies</td>\n      <td>i atei ate and i ate grinning face smiling face with smiling eyes jamais as thi fish curry prawn hil s a food festival foodies</td>\n      <td>0</td>\n      <td>[#jamaisasthi, #fish, #curry, #prawn, #hilsa, #foodfestival, #foodies]</td>\n      <td>[#jamaisasthi, #fish, # curry, #prawn, #hilsa, # food festival, # foodies]</td>\n      <td>:grinning_face:,:smiling_face_with_smiling_eyes:</td>\n    </tr>\n    <tr>\n      <th>31979</th>\n      <td>@user got my @user limited edition rain or shine set today!!  ! @user @user @user @user</td>\n      <td>got my limited edition rain or shine set today</td>\n      <td>6</td>\n      <td>[]</td>\n      <td>[]</td>\n      <td></td>\n    </tr>\n    <tr>\n      <th>31980</th>\n      <td>&amp;amp; #love &amp;amp; #hugs &amp;amp; #kisses too! how to keep your #baby     #parenting #healthcare</td>\n      <td>; love ; hugs ; kisses to o how to keep your baby parenting health care</td>\n      <td>0</td>\n      <td>[#love, #hugs, #kisses, #baby, #parenting, #healthcare]</td>\n      <td>[# love, #hugs, # kisses, # baby, # parenting, # healthcare]</td>\n      <td></td>\n    </tr>\n    <tr>\n      <th>31981</th>\n      <td>👭🌞💖 #girls   #sun #fave @ london, united kingdom</td>\n      <td>women holding hands sun with face sparkling heart girls sun fave @ london  united kingdom</td>\n      <td>0</td>\n      <td>[#girls, #sun, #fave]</td>\n      <td>[# girls, #sun, #fave]</td>\n      <td>:women_holding_hands:,:sun_with_face:,:sparkling_heart:</td>\n    </tr>\n    <tr>\n      <th>31982</th>\n      <td>thought factory: bbc neutrality on right wing fascism  #politics #media #blm #brexit #trump #leadership &amp;gt;3</td>\n      <td>thought factory  bbc neutrality on right wing fascism politics media blm br exit trump leadership gt;</td>\n      <td>0</td>\n      <td>[#politics, #media, #blm, #brexit, #trump, #leadership]</td>\n      <td>[# politics, # media, #blm, # brexit, # trump, # leadership]</td>\n      <td></td>\n    </tr>\n    <tr>\n      <th>31983</th>\n      <td>hey guys tommorow is the last day of my exams i'm so happy yay</td>\n      <td>hey guys tommorow is the last day of my exams i am so happy yay</td>\n      <td>0</td>\n      <td>[]</td>\n      <td>[]</td>\n      <td></td>\n    </tr>\n    <tr>\n      <th>31984</th>\n      <td>@user @user  @user  #levyrroni #recuerdos memories💭❤🔗👫💏 #recuerdos    #friends #life #triunfodelamor</td>\n      <td>levy r r on i recuerdos memories thought balloon red heart link woman and man holding hands kiss recuerdos friends life triunfo del amor</td>\n      <td>3</td>\n      <td>[#levyrroni, #recuerdos, #recuerdos, #friends, #life, #triunfodelamor]</td>\n      <td>[#levyrroni, # recuerdos, # recuerdos, # friends, # life, #triunfodelamor]</td>\n      <td>:thought_balloon:,:red_heart:,:link:,:woman_and_man_holding_hands:,:kiss:</td>\n    </tr>\n    <tr>\n      <th>31985</th>\n      <td>my mind is like 🎉💃🏽🏀 but my body like 🛌😴👵🏽....   #sleepy #stillallin😉</td>\n      <td>my mind is like party popper woman dancing medium skin tone basketball but my body like person in bed sleeping face old woman medium skin tone  sleepy still all in winking face</td>\n      <td>0</td>\n      <td>[#sleepy, #stillallin]</td>\n      <td>[# sleepy, # still all in]</td>\n      <td>:party_popper:,:woman_dancing:,:medium_skin_tone:,:basketball:,:person_in_bed:,:sleeping_face:,:old_woman:,:medium_skin_tone:,:winking_face:</td>\n    </tr>\n    <tr>\n      <th>31986</th>\n      <td>never been this down on myself in my entire life.</td>\n      <td>never been this down on myself in my entire life</td>\n      <td>0</td>\n      <td>[]</td>\n      <td>[]</td>\n      <td></td>\n    </tr>\n    <tr>\n      <th>31987</th>\n      <td>check  twitterww - trends: \"trending worldwide 11:14 am bst\"1. #oscarpistorius2. #diplomalıliselilerayakta3.  …</td>\n      <td>check twitter ww - trends  \" trending worldwide   am bst\" oscar pistorius  diploma lıliselilerayakta …</td>\n      <td>0</td>\n      <td>[#oscarpistorius2, #diplomalıliselilerayakta3]</td>\n      <td>[#oscarpistorius2, # diploma lıliselilerayakta3]</td>\n      <td></td>\n    </tr>\n    <tr>\n      <th>31988</th>\n      <td>i thought i saw a mermaid!!! #ceegee  #smcr   #inshot #girls #cute #summer #blur #sun  …</td>\n      <td>i thought i saw a mermaid  cee gee sm cr in shot girls cute summer blur sun …</td>\n      <td>0</td>\n      <td>[#ceegee, #smcr, #inshot, #girls, #cute, #summer, #blur, #sun]</td>\n      <td>[#ceegee, #smcr, #in shot, # girls, # cute, # summer, #blur, #sun]</td>\n      <td></td>\n    </tr>\n    <tr>\n      <th>31989</th>\n      <td>chick gets fucked hottest naked lady</td>\n      <td>chick gets fucked hottest naked lady</td>\n      <td>0</td>\n      <td>[]</td>\n      <td>[]</td>\n      <td></td>\n    </tr>\n    <tr>\n      <th>31990</th>\n      <td>happy bday lucy✨✨🎈 xoxo #love #beautiful #pizza   #instagood #mileycyrus #demilovato…</td>\n      <td>happy bday lucy sparkles sparkles balloon hugs and kisses love beautiful pizza insta good miley cyrus demi lovato …</td>\n      <td>0</td>\n      <td>[#love, #beautiful, #pizza, #instagood, #mileycyrus, #demilovato]</td>\n      <td>[# love, # beautiful, # pizza, # insta good, # miley cyrus, # demi lovato]</td>\n      <td>:sparkles:,:sparkles:,:balloon:</td>\n    </tr>\n    <tr>\n      <th>31991</th>\n      <td>haroldfriday have a weekend filled with sunbeams everyone!   #healthy #weekend</td>\n      <td>harold friday have a weekend filled with sunbeams everyone  healthy weekend</td>\n      <td>0</td>\n      <td>[#healthy, #weekend]</td>\n      <td>[# healthy, # weekend]</td>\n      <td></td>\n    </tr>\n    <tr>\n      <th>31992</th>\n      <td>@user @user tried that! but nothing - will try again! know you loved #2, but the 3rd light my fave &amp;amp;deep rivers</td>\n      <td>tried that  but nothing - will try again  know you loved  but the rd light my fave ; deep rivers</td>\n      <td>2</td>\n      <td>[#2]</td>\n      <td>[# 2]</td>\n      <td></td>\n    </tr>\n    <tr>\n      <th>31993</th>\n      <td>i'll #never be #120 #again i'm   #i'm a #thick #women #blacktina</td>\n      <td>ill never be  again i am i am a thick women black tina</td>\n      <td>0</td>\n      <td>[#never, #120, #again, #i, #thick, #women, #blacktina]</td>\n      <td>[# never, # 120, # again, #i, # thick, # women, # black tina]</td>\n      <td></td>\n    </tr>\n    <tr>\n      <th>31994</th>\n      <td>@user new @user episode tk! and a really cool 2-year anniversary ep in the works for august. :o)</td>\n      <td>new episode tk and a really cool  - year anniversary ep in the works for august  o)</td>\n      <td>2</td>\n      <td>[]</td>\n      <td>[]</td>\n      <td></td>\n    </tr>\n    <tr>\n      <th>31995</th>\n      <td>#orangechicken   attack bull game 3d: do you really think that his head was empty around the city. each side</td>\n      <td>orange chicken attack bull game d do you really think that his head was empty around the city  each side</td>\n      <td>0</td>\n      <td>[#orangechicken]</td>\n      <td>[# orange chicken]</td>\n      <td></td>\n    </tr>\n    <tr>\n      <th>31996</th>\n      <td>suppo the #taiji fisherman! no bullying! no racism! #tweet4taiji #thecove #seashepherd</td>\n      <td>suppo the taiji fisherman  no bullying  no racism  tweet taiji the cove sea shepherd</td>\n      <td>0</td>\n      <td>[#taiji, #tweet4taiji, #thecove, #seashepherd]</td>\n      <td>[#taiji, #tweet4taiji, # the cove, # sea shepherd]</td>\n      <td></td>\n    </tr>\n    <tr>\n      <th>31997</th>\n      <td>i say we because i'm speaking collectively. i've always known. 2016 showed a lot.  and…</td>\n      <td>i say we because i am speaking collectively  ive always known   showed a lot and …</td>\n      <td>0</td>\n      <td>[]</td>\n      <td>[]</td>\n      <td></td>\n    </tr>\n    <tr>\n      <th>31998</th>\n      <td>wish we could talk</td>\n      <td>wish we could talk</td>\n      <td>0</td>\n      <td>[]</td>\n      <td>[]</td>\n      <td></td>\n    </tr>\n    <tr>\n      <th>31999</th>\n      <td>food time for haylie 😛 hot chocolate for mummy ☕️✅🌤🍃💯💪☮🤓 thank god it's friday!!! 👏👏👏  …</td>\n      <td>food time for haylie face with tongue hot chocolate for mummy hot beverage check mark button sun behind small cloud leaf fluttering in wind hundred points flexed biceps peace symbol nerd face thank god it is friday  clapping hands clapping hands clapping hands …</td>\n      <td>0</td>\n      <td>[]</td>\n      <td>[]</td>\n      <td>:face_with_tongue:,:hot_beverage:,:check_mark_button:,:sun_behind_small_cloud:,:leaf_fluttering_in_wind:,:hundred_points:,:flexed_biceps:,:peace_symbol:,:nerd_face:,:clapping_hands:,:clapping_hands:,:clapping_hands:</td>\n    </tr>\n    <tr>\n      <th>32000</th>\n      <td>@user snow white --&amp;gt; open! --&amp;gt; #sleepy,  , #sneezy and #bashful. @ or dm us today! [#]</td>\n      <td>snow white --gt; open  --gt; sleepy   sneezy and bashful  @ or direct message us today</td>\n      <td>1</td>\n      <td>[#sleepy, #sneezy, #bashful]</td>\n      <td>[# sleepy, #sneezy, # bashful]</td>\n      <td></td>\n    </tr>\n    <tr>\n      <th>32001</th>\n      <td>#bihday #shilpashetty we #wish you to have a very very #successful #yearretailer,manufacturer ladies cloth</td>\n      <td>bih day shilpa shetty we wish you to have a very very successful year retailer  manufacturer ladies cloth</td>\n      <td>0</td>\n      <td>[#bihday, #shilpashetty, #wish, #successful, #yearretailer]</td>\n      <td>[#bih day, # shilpa shetty, # wish, # successful, # year retailer]</td>\n      <td></td>\n    </tr>\n    <tr>\n      <th>32002</th>\n      <td>it wasn't me  #lottery</td>\n      <td>it was not me lottery</td>\n      <td>0</td>\n      <td>[#lottery]</td>\n      <td>[# lottery]</td>\n      <td></td>\n    </tr>\n    <tr>\n      <th>32003</th>\n      <td>tomorrow will be fun! seeing an old friend and then shooting something super fun:)</td>\n      <td>tomorrow will be fun seeing an old friend and then shooting something super fun)</td>\n      <td>0</td>\n      <td>[]</td>\n      <td>[]</td>\n      <td></td>\n    </tr>\n    <tr>\n      <th>32004</th>\n      <td>#raw food diet benefits! -    #altwaystoheal #healthy   #healing #peace #joy #love !!</td>\n      <td>raw food diet benefits  - alt ways to heal healthy healing peace joy love</td>\n      <td>0</td>\n      <td>[#raw, #altwaystoheal, #healthy, #healing, #peace, #joy, #love]</td>\n      <td>[#raw, #alt ways to heal, # healthy, # healing, # peace, #joy, # love]</td>\n      <td></td>\n    </tr>\n    <tr>\n      <th>32005</th>\n      <td>@user @user trumps invested billions into saudi. he empowers the people funding isis.   #trumpsahypocrite</td>\n      <td>trump s invested billions into saudi  he empowers the people funding is is  trump s a hypocrite</td>\n      <td>2</td>\n      <td>[#trumpsahypocrite]</td>\n      <td>[# trump s a hypocrite]</td>\n      <td></td>\n    </tr>\n    <tr>\n      <th>32006</th>\n      <td>my granddaughter's 1st bihday is tomorrow.  going to pick her play house, little car, &amp;amp; pool today.   🎂💞🎁💖💎💞🎈</td>\n      <td>my granddaughter s st bih day is tomorrow  going to pick her play house  little car ; pool today  birthday cake revolving hearts wrapped gift sparkling heart gem stone revolving hearts balloon</td>\n      <td>0</td>\n      <td>[]</td>\n      <td>[]</td>\n      <td>:birthday_cake:,:revolving_hearts:,:wrapped_gift:,:sparkling_heart:,:gem_stone:,:revolving_hearts:,:balloon:</td>\n    </tr>\n    <tr>\n      <th>32007</th>\n      <td>happiest place on eah! #disneyworld #orlando #castle   #mickeymouse #likechildrens @user</td>\n      <td>happiest place on eah disney world orlando castle mickey mouse like children s</td>\n      <td>1</td>\n      <td>[#disneyworld, #orlando, #castle, #mickeymouse, #likechildrens]</td>\n      <td>[# disney world, # orlando, # castle, # mickey mouse, # like children s]</td>\n      <td></td>\n    </tr>\n    <tr>\n      <th>32008</th>\n      <td>so baby dave is due to be born on october 26...my fav band of all time #tool will be playing @user the same weekend .....   lol</td>\n      <td>so baby dave is due to be born on october  my fav band of all time tool will be playing the same weekend  laughing out loud</td>\n      <td>1</td>\n      <td>[#tool]</td>\n      <td>[#tool]</td>\n      <td></td>\n    </tr>\n    <tr>\n      <th>32009</th>\n      <td>loving each other every day</td>\n      <td>loving each other every day</td>\n      <td>0</td>\n      <td>[]</td>\n      <td>[]</td>\n      <td></td>\n    </tr>\n    <tr>\n      <th>32010</th>\n      <td>@user morning sunshine! 💋   #smile #sexy #bigboobs</td>\n      <td>morning sunshine  kiss mark smile sexy big boobs</td>\n      <td>1</td>\n      <td>[#smile, #sexy, #bigboobs]</td>\n      <td>[# smile, # sexy, # big boobs]</td>\n      <td>:kiss_mark:</td>\n    </tr>\n    <tr>\n      <th>32011</th>\n      <td>this #world makes me  ... #jesus makes me #happy... john 16:33 #word #truth #faith #peace…</td>\n      <td>this world makes me  jesus makes me happy  john   word truth faith peace …</td>\n      <td>0</td>\n      <td>[#world, #jesus, #happy, #word, #truth, #faith, #peace]</td>\n      <td>[# world, # jesus, # happy, # word, # truth, # faith, # peace]</td>\n      <td></td>\n    </tr>\n    <tr>\n      <th>32012</th>\n      <td>foods for #healing your body!!    #doplants! #healthy is  !!</td>\n      <td>foods for healing your body  do plants  healthy is</td>\n      <td>0</td>\n      <td>[#healing, #doplants, #healthy]</td>\n      <td>[# healing, #do plants, # healthy]</td>\n      <td></td>\n    </tr>\n  </tbody>\n</table>\n</div>"
     },
     "execution_count": 3,
     "metadata": {},
     "output_type": "execute_result"
    }
   ],
   "source": [
    "test.head(50)"
   ],
   "metadata": {
    "collapsed": false,
    "ExecuteTime": {
     "end_time": "2024-12-03T22:26:05.169622Z",
     "start_time": "2024-12-03T22:26:04.719716100Z"
    }
   }
  },
  {
   "cell_type": "code",
   "execution_count": 4,
   "outputs": [
    {
     "data": {
      "text/plain": "                                                                                                                                                tweet\nid                                                                                                                                                   \n31963                                                      #studiolife #aislife #requires #passion #dedication #willpower   to find #newmaterialsâ¦ \n31964                                            @user #white #supremacists want everyone to see the new â  #birdsâ #movie â and hereâs why  \n31965                                                                         safe ways to heal your #acne!!    #altwaystoheal #healthy   #healing!! \n31966  is the hp and the cursed child book up for reservations already? if yes, where? if no, when? ððð   #harrypotter #pottermore #favorite\n31967                                                     3rd #bihday to my amazing, hilarious #nephew eli ahmir! uncle dave loves you and missesâ¦ ",
      "text/html": "<div>\n<style scoped>\n    .dataframe tbody tr th:only-of-type {\n        vertical-align: middle;\n    }\n\n    .dataframe tbody tr th {\n        vertical-align: top;\n    }\n\n    .dataframe thead th {\n        text-align: right;\n    }\n</style>\n<table border=\"1\" class=\"dataframe\">\n  <thead>\n    <tr style=\"text-align: right;\">\n      <th></th>\n      <th>tweet</th>\n    </tr>\n    <tr>\n      <th>id</th>\n      <th></th>\n    </tr>\n  </thead>\n  <tbody>\n    <tr>\n      <th>31963</th>\n      <td>#studiolife #aislife #requires #passion #dedication #willpower   to find #newmaterialsâ¦</td>\n    </tr>\n    <tr>\n      <th>31964</th>\n      <td>@user #white #supremacists want everyone to see the new â  #birdsâ #movie â and hereâs why</td>\n    </tr>\n    <tr>\n      <th>31965</th>\n      <td>safe ways to heal your #acne!!    #altwaystoheal #healthy   #healing!!</td>\n    </tr>\n    <tr>\n      <th>31966</th>\n      <td>is the hp and the cursed child book up for reservations already? if yes, where? if no, when? ððð   #harrypotter #pottermore #favorite</td>\n    </tr>\n    <tr>\n      <th>31967</th>\n      <td>3rd #bihday to my amazing, hilarious #nephew eli ahmir! uncle dave loves you and missesâ¦</td>\n    </tr>\n  </tbody>\n</table>\n</div>"
     },
     "execution_count": 4,
     "metadata": {},
     "output_type": "execute_result"
    }
   ],
   "source": [
    "test_predict_df.head()"
   ],
   "metadata": {
    "collapsed": false,
    "ExecuteTime": {
     "end_time": "2024-12-03T22:26:05.181626400Z",
     "start_time": "2024-12-03T22:26:05.173625100Z"
    }
   }
  },
  {
   "cell_type": "code",
   "execution_count": null,
   "outputs": [],
   "source": [],
   "metadata": {
    "collapsed": false
   }
  },
  {
   "cell_type": "code",
   "execution_count": 31,
   "outputs": [],
   "source": [
    "from ekphrasis.classes.spellcorrect import SpellCorrector\n",
    "import time\n",
    "import swifter\n",
    "\n",
    "i = 1\n",
    "\n",
    "\n",
    "def correct_tweet(text, corrector):\n",
    "    global i\n",
    "    words = text.split()\n",
    "    corrected_text = []\n",
    "    for word in words:\n",
    "        corrected_word = corrector.correct(word)\n",
    "        corrected_text.append(str(corrected_word))\n",
    "    print(\"tweet\", i)\n",
    "    i = i + 1\n",
    "    return ' '.join(corrected_text)\n",
    "\n",
    "\n",
    "def spell_correction(df, column_name):\n",
    "    sp = SpellCorrector(corpus=\"english\")\n",
    "\n",
    "    df[column_name] = df[column_name].apply(correct_tweet, corrector=sp)\n",
    "    return df"
   ],
   "metadata": {
    "collapsed": false,
    "ExecuteTime": {
     "end_time": "2024-12-03T23:02:03.241256400Z",
     "start_time": "2024-12-03T23:02:03.241256400Z"
    }
   }
  },
  {
   "cell_type": "code",
   "execution_count": 32,
   "outputs": [
    {
     "name": "stdout",
     "output_type": "stream",
     "text": [
      "Reading english - 1grams ...\n",
      "tweet 1\n",
      "tweet 2\n",
      "tweet 3\n",
      "tweet 4\n",
      "tweet 5\n",
      "tweet 6\n",
      "tweet 7\n",
      "tweet 8\n",
      "tweet 9\n",
      "tweet 10\n",
      "tweet 11\n",
      "tweet 12\n",
      "tweet 13\n",
      "tweet 14\n",
      "tweet 15\n",
      "tweet 16\n",
      "tweet 17\n",
      "tweet 18\n",
      "tweet 19\n",
      "tweet 20\n",
      "tweet 21\n",
      "tweet 22\n",
      "tweet 23\n",
      "tweet 24\n",
      "tweet 25\n",
      "tweet 26\n",
      "tweet 27\n",
      "tweet 28\n",
      "tweet 29\n",
      "tweet 30\n",
      "tweet 31\n",
      "tweet 32\n",
      "tweet 33\n",
      "tweet 34\n",
      "tweet 35\n",
      "tweet 36\n",
      "tweet 37\n",
      "tweet 38\n",
      "tweet 39\n",
      "tweet 40\n",
      "tweet 41\n",
      "tweet 42\n",
      "tweet 43\n",
      "tweet 44\n",
      "tweet 45\n",
      "tweet 46\n",
      "tweet 47\n",
      "tweet 48\n",
      "tweet 49\n",
      "tweet 50\n",
      "tweet 51\n",
      "tweet 52\n",
      "tweet 53\n",
      "tweet 54\n",
      "tweet 55\n",
      "tweet 56\n",
      "tweet 57\n",
      "tweet 58\n",
      "tweet 59\n",
      "tweet 60\n",
      "tweet 61\n",
      "tweet 62\n",
      "tweet 63\n",
      "tweet 64\n",
      "tweet 65\n",
      "tweet 66\n",
      "tweet 67\n",
      "tweet 68\n",
      "tweet 69\n",
      "tweet 70\n",
      "tweet 71\n",
      "tweet 72\n",
      "tweet 73\n",
      "tweet 74\n",
      "tweet 75\n",
      "tweet 76\n",
      "tweet 77\n",
      "tweet 78\n",
      "tweet 79\n",
      "tweet 80\n",
      "tweet 81\n",
      "tweet 82\n",
      "tweet 83\n",
      "tweet 84\n",
      "tweet 85\n",
      "tweet 86\n",
      "tweet 87\n",
      "tweet 88\n",
      "tweet 89\n",
      "tweet 90\n",
      "tweet 91\n",
      "tweet 92\n",
      "tweet 93\n",
      "tweet 94\n",
      "tweet 95\n",
      "tweet 96\n",
      "tweet 97\n",
      "tweet 98\n",
      "tweet 99\n",
      "tweet 100\n",
      "tweet 101\n",
      "tweet 102\n",
      "tweet 103\n",
      "tweet 104\n",
      "tweet 105\n",
      "tweet 106\n",
      "tweet 107\n",
      "tweet 108\n",
      "tweet 109\n",
      "tweet 110\n",
      "tweet 111\n",
      "tweet 112\n",
      "tweet 113\n",
      "tweet 114\n",
      "tweet 115\n",
      "tweet 116\n",
      "tweet 117\n",
      "tweet 118\n",
      "tweet 119\n",
      "tweet 120\n",
      "tweet 121\n",
      "tweet 122\n",
      "tweet 123\n",
      "tweet 124\n",
      "tweet 125\n",
      "tweet 126\n",
      "tweet 127\n",
      "tweet 128\n",
      "tweet 129\n",
      "tweet 130\n",
      "tweet 131\n",
      "tweet 132\n",
      "tweet 133\n",
      "tweet 134\n",
      "tweet 135\n",
      "tweet 136\n",
      "tweet 137\n",
      "tweet 138\n",
      "tweet 139\n",
      "tweet 140\n",
      "tweet 141\n",
      "tweet 142\n",
      "tweet 143\n",
      "tweet 144\n",
      "tweet 145\n",
      "tweet 146\n",
      "tweet 147\n",
      "tweet 148\n",
      "tweet 149\n",
      "tweet 150\n",
      "tweet 151\n",
      "tweet 152\n",
      "tweet 153\n",
      "tweet 154\n",
      "tweet 155\n",
      "tweet 156\n",
      "tweet 157\n",
      "tweet 158\n",
      "tweet 159\n",
      "tweet 160\n",
      "tweet 161\n",
      "tweet 162\n",
      "tweet 163\n",
      "tweet 164\n",
      "tweet 165\n",
      "tweet 166\n",
      "tweet 167\n",
      "tweet 168\n",
      "tweet 169\n",
      "tweet 170\n",
      "tweet 171\n",
      "tweet 172\n",
      "tweet 173\n",
      "tweet 174\n",
      "tweet 175\n",
      "tweet 176\n",
      "tweet 177\n",
      "tweet 178\n",
      "tweet 179\n",
      "tweet 180\n",
      "tweet 181\n",
      "tweet 182\n",
      "tweet 183\n",
      "tweet 184\n",
      "tweet 185\n",
      "tweet 186\n",
      "tweet 187\n",
      "tweet 188\n",
      "tweet 189\n",
      "tweet 190\n",
      "tweet 191\n",
      "tweet 192\n",
      "tweet 193\n",
      "tweet 194\n",
      "tweet 195\n",
      "tweet 196\n",
      "tweet 197\n",
      "tweet 198\n",
      "tweet 199\n",
      "tweet 200\n",
      "tweet 201\n",
      "tweet 202\n",
      "tweet 203\n",
      "tweet 204\n",
      "tweet 205\n",
      "tweet 206\n",
      "tweet 207\n",
      "tweet 208\n",
      "tweet 209\n",
      "tweet 210\n",
      "tweet 211\n",
      "tweet 212\n",
      "tweet 213\n",
      "tweet 214\n",
      "tweet 215\n",
      "tweet 216\n",
      "tweet 217\n",
      "tweet 218\n",
      "tweet 219\n",
      "tweet 220\n",
      "tweet 221\n",
      "tweet 222\n",
      "tweet 223\n",
      "tweet 224\n",
      "tweet 225\n",
      "tweet 226\n",
      "tweet 227\n",
      "tweet 228\n",
      "tweet 229\n",
      "tweet 230\n",
      "tweet 231\n",
      "tweet 232\n",
      "tweet 233\n",
      "tweet 234\n",
      "tweet 235\n",
      "tweet 236\n",
      "tweet 237\n",
      "tweet 238\n",
      "tweet 239\n",
      "tweet 240\n",
      "tweet 241\n",
      "tweet 242\n",
      "tweet 243\n",
      "tweet 244\n",
      "tweet 245\n",
      "tweet 246\n",
      "tweet 247\n",
      "tweet 248\n",
      "tweet 249\n",
      "tweet 250\n",
      "tweet 251\n",
      "tweet 252\n",
      "tweet 253\n",
      "tweet 254\n",
      "tweet 255\n",
      "tweet 256\n",
      "tweet 257\n",
      "tweet 258\n",
      "tweet 259\n",
      "tweet 260\n",
      "tweet 261\n",
      "tweet 262\n",
      "tweet 263\n",
      "tweet 264\n",
      "tweet 265\n",
      "tweet 266\n",
      "tweet 267\n",
      "tweet 268\n",
      "tweet 269\n",
      "tweet 270\n",
      "tweet 271\n",
      "tweet 272\n",
      "tweet 273\n",
      "tweet 274\n",
      "tweet 275\n",
      "tweet 276\n",
      "tweet 277\n",
      "tweet 278\n",
      "tweet 279\n",
      "tweet 280\n",
      "tweet 281\n",
      "tweet 282\n",
      "tweet 283\n",
      "tweet 284\n",
      "tweet 285\n",
      "tweet 286\n",
      "tweet 287\n",
      "tweet 288\n",
      "tweet 289\n",
      "tweet 290\n",
      "tweet 291\n",
      "tweet 292\n",
      "tweet 293\n",
      "tweet 294\n",
      "tweet 295\n",
      "tweet 296\n",
      "tweet 297\n",
      "tweet 298\n",
      "tweet 299\n",
      "tweet 300\n",
      "tweet 301\n",
      "tweet 302\n",
      "tweet 303\n",
      "tweet 304\n",
      "tweet 305\n",
      "tweet 306\n",
      "tweet 307\n",
      "tweet 308\n",
      "tweet 309\n",
      "tweet 310\n",
      "tweet 311\n",
      "tweet 312\n",
      "tweet 313\n",
      "tweet 314\n",
      "tweet 315\n",
      "tweet 316\n",
      "tweet 317\n",
      "tweet 318\n",
      "tweet 319\n",
      "tweet 320\n",
      "tweet 321\n",
      "tweet 322\n",
      "tweet 323\n",
      "tweet 324\n",
      "tweet 325\n",
      "tweet 326\n",
      "tweet 327\n",
      "tweet 328\n",
      "tweet 329\n",
      "tweet 330\n",
      "tweet 331\n",
      "tweet 332\n",
      "tweet 333\n",
      "tweet 334\n",
      "tweet 335\n",
      "tweet 336\n",
      "tweet 337\n",
      "tweet 338\n",
      "tweet 339\n",
      "tweet 340\n",
      "tweet 341\n",
      "tweet 342\n",
      "tweet 343\n",
      "tweet 344\n",
      "tweet 345\n",
      "tweet 346\n",
      "tweet 347\n",
      "tweet 348\n",
      "tweet 349\n",
      "tweet 350\n",
      "tweet 351\n",
      "tweet 352\n",
      "tweet 353\n",
      "tweet 354\n",
      "tweet 355\n",
      "tweet 356\n",
      "tweet 357\n",
      "tweet 358\n",
      "tweet 359\n",
      "tweet 360\n",
      "tweet 361\n",
      "tweet 362\n",
      "tweet 363\n",
      "tweet 364\n",
      "tweet 365\n",
      "tweet 366\n",
      "tweet 367\n",
      "tweet 368\n",
      "tweet 369\n",
      "tweet 370\n",
      "tweet 371\n",
      "tweet 372\n",
      "tweet 373\n",
      "tweet 374\n",
      "tweet 375\n",
      "tweet 376\n",
      "tweet 377\n",
      "tweet 378\n",
      "tweet 379\n",
      "tweet 380\n",
      "tweet 381\n",
      "tweet 382\n",
      "tweet 383\n",
      "tweet 384\n",
      "tweet 385\n",
      "tweet 386\n",
      "tweet 387\n",
      "tweet 388\n",
      "tweet 389\n",
      "tweet 390\n",
      "tweet 391\n",
      "tweet 392\n",
      "tweet 393\n",
      "tweet 394\n",
      "tweet 395\n",
      "tweet 396\n",
      "tweet 397\n",
      "tweet 398\n",
      "tweet 399\n",
      "tweet 400\n",
      "tweet 401\n",
      "tweet 402\n",
      "tweet 403\n",
      "tweet 404\n",
      "tweet 405\n",
      "tweet 406\n",
      "tweet 407\n",
      "tweet 408\n",
      "tweet 409\n",
      "tweet 410\n",
      "tweet 411\n",
      "tweet 412\n",
      "tweet 413\n",
      "tweet 414\n",
      "tweet 415\n",
      "tweet 416\n",
      "tweet 417\n",
      "tweet 418\n",
      "tweet 419\n",
      "tweet 420\n",
      "tweet 421\n",
      "tweet 422\n",
      "tweet 423\n",
      "tweet 424\n",
      "tweet 425\n",
      "tweet 426\n",
      "tweet 427\n",
      "tweet 428\n",
      "tweet 429\n",
      "tweet 430\n",
      "tweet 431\n",
      "tweet 432\n",
      "tweet 433\n",
      "tweet 434\n",
      "tweet 435\n",
      "tweet 436\n",
      "tweet 437\n",
      "tweet 438\n",
      "tweet 439\n",
      "tweet 440\n",
      "tweet 441\n",
      "tweet 442\n",
      "tweet 443\n",
      "tweet 444\n",
      "tweet 445\n",
      "tweet 446\n",
      "tweet 447\n",
      "tweet 448\n",
      "tweet 449\n",
      "tweet 450\n",
      "tweet 451\n",
      "tweet 452\n",
      "tweet 453\n",
      "tweet 454\n",
      "tweet 455\n",
      "tweet 456\n",
      "tweet 457\n",
      "tweet 458\n",
      "tweet 459\n",
      "tweet 460\n",
      "tweet 461\n",
      "tweet 462\n",
      "tweet 463\n",
      "tweet 464\n",
      "tweet 465\n",
      "tweet 466\n",
      "tweet 467\n",
      "tweet 468\n",
      "tweet 469\n",
      "tweet 470\n",
      "tweet 471\n",
      "tweet 472\n",
      "tweet 473\n",
      "tweet 474\n",
      "tweet 475\n",
      "tweet 476\n",
      "tweet 477\n",
      "tweet 478\n",
      "tweet 479\n",
      "tweet 480\n",
      "tweet 481\n",
      "tweet 482\n",
      "tweet 483\n",
      "tweet 484\n",
      "tweet 485\n",
      "tweet 486\n",
      "tweet 487\n",
      "tweet 488\n",
      "tweet 489\n",
      "tweet 490\n",
      "tweet 491\n",
      "tweet 492\n",
      "tweet 493\n",
      "tweet 494\n",
      "tweet 495\n",
      "tweet 496\n",
      "tweet 497\n",
      "tweet 498\n",
      "tweet 499\n",
      "tweet 500\n",
      "tweet 501\n",
      "tweet 502\n",
      "tweet 503\n",
      "tweet 504\n",
      "tweet 505\n",
      "tweet 506\n",
      "tweet 507\n",
      "tweet 508\n",
      "tweet 509\n",
      "tweet 510\n",
      "tweet 511\n",
      "tweet 512\n",
      "tweet 513\n",
      "tweet 514\n",
      "tweet 515\n",
      "tweet 516\n",
      "tweet 517\n",
      "tweet 518\n",
      "tweet 519\n",
      "tweet 520\n",
      "tweet 521\n",
      "tweet 522\n",
      "tweet 523\n",
      "tweet 524\n",
      "tweet 525\n",
      "tweet 526\n",
      "tweet 527\n",
      "tweet 528\n",
      "tweet 529\n",
      "tweet 530\n",
      "tweet 531\n",
      "tweet 532\n",
      "tweet 533\n",
      "tweet 534\n",
      "tweet 535\n",
      "tweet 536\n",
      "tweet 537\n",
      "tweet 538\n",
      "tweet 539\n",
      "tweet 540\n",
      "tweet 541\n",
      "tweet 542\n",
      "tweet 543\n",
      "tweet 544\n",
      "tweet 545\n",
      "tweet 546\n",
      "tweet 547\n",
      "tweet 548\n",
      "tweet 549\n",
      "tweet 550\n",
      "tweet 551\n",
      "tweet 552\n",
      "tweet 553\n",
      "tweet 554\n",
      "tweet 555\n",
      "tweet 556\n",
      "tweet 557\n",
      "tweet 558\n",
      "tweet 559\n",
      "tweet 560\n",
      "tweet 561\n",
      "tweet 562\n",
      "tweet 563\n",
      "tweet 564\n",
      "tweet 565\n",
      "tweet 566\n",
      "tweet 567\n",
      "tweet 568\n",
      "tweet 569\n",
      "tweet 570\n",
      "tweet 571\n",
      "tweet 572\n"
     ]
    },
    {
     "ename": "KeyboardInterrupt",
     "evalue": "",
     "output_type": "error",
     "traceback": [
      "\u001B[1;31m---------------------------------------------------------------------------\u001B[0m",
      "\u001B[1;31mKeyboardInterrupt\u001B[0m                         Traceback (most recent call last)",
      "Cell \u001B[1;32mIn[32], line 2\u001B[0m\n\u001B[0;32m      1\u001B[0m start \u001B[38;5;241m=\u001B[39m time\u001B[38;5;241m.\u001B[39mperf_counter()\n\u001B[1;32m----> 2\u001B[0m testcorrection \u001B[38;5;241m=\u001B[39m \u001B[43mspell_correction\u001B[49m\u001B[43m(\u001B[49m\u001B[43mtest_df\u001B[49m\u001B[43m,\u001B[49m\u001B[43m \u001B[49m\u001B[38;5;124;43m\"\u001B[39;49m\u001B[38;5;124;43mtweet\u001B[39;49m\u001B[38;5;124;43m\"\u001B[39;49m\u001B[43m)\u001B[49m\n\u001B[0;32m      3\u001B[0m stop \u001B[38;5;241m=\u001B[39m time\u001B[38;5;241m.\u001B[39mperf_counter()\n",
      "Cell \u001B[1;32mIn[31], line 23\u001B[0m, in \u001B[0;36mspell_correction\u001B[1;34m(df, column_name)\u001B[0m\n\u001B[0;32m     20\u001B[0m \u001B[38;5;28;01mdef\u001B[39;00m \u001B[38;5;21mspell_correction\u001B[39m(df, column_name):\n\u001B[0;32m     21\u001B[0m     sp \u001B[38;5;241m=\u001B[39m SpellCorrector(corpus\u001B[38;5;241m=\u001B[39m\u001B[38;5;124m\"\u001B[39m\u001B[38;5;124menglish\u001B[39m\u001B[38;5;124m\"\u001B[39m)\n\u001B[1;32m---> 23\u001B[0m     df[column_name] \u001B[38;5;241m=\u001B[39m \u001B[43mdf\u001B[49m\u001B[43m[\u001B[49m\u001B[43mcolumn_name\u001B[49m\u001B[43m]\u001B[49m\u001B[38;5;241;43m.\u001B[39;49m\u001B[43mapply\u001B[49m\u001B[43m(\u001B[49m\u001B[43mcorrect_tweet\u001B[49m\u001B[43m,\u001B[49m\u001B[43m \u001B[49m\u001B[43mcorrector\u001B[49m\u001B[38;5;241;43m=\u001B[39;49m\u001B[43msp\u001B[49m\u001B[43m)\u001B[49m\n\u001B[0;32m     24\u001B[0m     \u001B[38;5;28;01mreturn\u001B[39;00m df\n",
      "File \u001B[1;32m~\\anaconda3\\lib\\site-packages\\pandas\\core\\series.py:4771\u001B[0m, in \u001B[0;36mSeries.apply\u001B[1;34m(self, func, convert_dtype, args, **kwargs)\u001B[0m\n\u001B[0;32m   4661\u001B[0m \u001B[38;5;28;01mdef\u001B[39;00m \u001B[38;5;21mapply\u001B[39m(\n\u001B[0;32m   4662\u001B[0m     \u001B[38;5;28mself\u001B[39m,\n\u001B[0;32m   4663\u001B[0m     func: AggFuncType,\n\u001B[1;32m   (...)\u001B[0m\n\u001B[0;32m   4666\u001B[0m     \u001B[38;5;241m*\u001B[39m\u001B[38;5;241m*\u001B[39mkwargs,\n\u001B[0;32m   4667\u001B[0m ) \u001B[38;5;241m-\u001B[39m\u001B[38;5;241m>\u001B[39m DataFrame \u001B[38;5;241m|\u001B[39m Series:\n\u001B[0;32m   4668\u001B[0m     \u001B[38;5;124;03m\"\"\"\u001B[39;00m\n\u001B[0;32m   4669\u001B[0m \u001B[38;5;124;03m    Invoke function on values of Series.\u001B[39;00m\n\u001B[0;32m   4670\u001B[0m \n\u001B[1;32m   (...)\u001B[0m\n\u001B[0;32m   4769\u001B[0m \u001B[38;5;124;03m    dtype: float64\u001B[39;00m\n\u001B[0;32m   4770\u001B[0m \u001B[38;5;124;03m    \"\"\"\u001B[39;00m\n\u001B[1;32m-> 4771\u001B[0m     \u001B[38;5;28;01mreturn\u001B[39;00m \u001B[43mSeriesApply\u001B[49m\u001B[43m(\u001B[49m\u001B[38;5;28;43mself\u001B[39;49m\u001B[43m,\u001B[49m\u001B[43m \u001B[49m\u001B[43mfunc\u001B[49m\u001B[43m,\u001B[49m\u001B[43m \u001B[49m\u001B[43mconvert_dtype\u001B[49m\u001B[43m,\u001B[49m\u001B[43m \u001B[49m\u001B[43margs\u001B[49m\u001B[43m,\u001B[49m\u001B[43m \u001B[49m\u001B[43mkwargs\u001B[49m\u001B[43m)\u001B[49m\u001B[38;5;241;43m.\u001B[39;49m\u001B[43mapply\u001B[49m\u001B[43m(\u001B[49m\u001B[43m)\u001B[49m\n",
      "File \u001B[1;32m~\\anaconda3\\lib\\site-packages\\pandas\\core\\apply.py:1123\u001B[0m, in \u001B[0;36mSeriesApply.apply\u001B[1;34m(self)\u001B[0m\n\u001B[0;32m   1120\u001B[0m     \u001B[38;5;28;01mreturn\u001B[39;00m \u001B[38;5;28mself\u001B[39m\u001B[38;5;241m.\u001B[39mapply_str()\n\u001B[0;32m   1122\u001B[0m \u001B[38;5;66;03m# self.f is Callable\u001B[39;00m\n\u001B[1;32m-> 1123\u001B[0m \u001B[38;5;28;01mreturn\u001B[39;00m \u001B[38;5;28;43mself\u001B[39;49m\u001B[38;5;241;43m.\u001B[39;49m\u001B[43mapply_standard\u001B[49m\u001B[43m(\u001B[49m\u001B[43m)\u001B[49m\n",
      "File \u001B[1;32m~\\anaconda3\\lib\\site-packages\\pandas\\core\\apply.py:1174\u001B[0m, in \u001B[0;36mSeriesApply.apply_standard\u001B[1;34m(self)\u001B[0m\n\u001B[0;32m   1172\u001B[0m     \u001B[38;5;28;01melse\u001B[39;00m:\n\u001B[0;32m   1173\u001B[0m         values \u001B[38;5;241m=\u001B[39m obj\u001B[38;5;241m.\u001B[39mastype(\u001B[38;5;28mobject\u001B[39m)\u001B[38;5;241m.\u001B[39m_values\n\u001B[1;32m-> 1174\u001B[0m         mapped \u001B[38;5;241m=\u001B[39m \u001B[43mlib\u001B[49m\u001B[38;5;241;43m.\u001B[39;49m\u001B[43mmap_infer\u001B[49m\u001B[43m(\u001B[49m\n\u001B[0;32m   1175\u001B[0m \u001B[43m            \u001B[49m\u001B[43mvalues\u001B[49m\u001B[43m,\u001B[49m\n\u001B[0;32m   1176\u001B[0m \u001B[43m            \u001B[49m\u001B[43mf\u001B[49m\u001B[43m,\u001B[49m\n\u001B[0;32m   1177\u001B[0m \u001B[43m            \u001B[49m\u001B[43mconvert\u001B[49m\u001B[38;5;241;43m=\u001B[39;49m\u001B[38;5;28;43mself\u001B[39;49m\u001B[38;5;241;43m.\u001B[39;49m\u001B[43mconvert_dtype\u001B[49m\u001B[43m,\u001B[49m\n\u001B[0;32m   1178\u001B[0m \u001B[43m        \u001B[49m\u001B[43m)\u001B[49m\n\u001B[0;32m   1180\u001B[0m \u001B[38;5;28;01mif\u001B[39;00m \u001B[38;5;28mlen\u001B[39m(mapped) \u001B[38;5;129;01mand\u001B[39;00m \u001B[38;5;28misinstance\u001B[39m(mapped[\u001B[38;5;241m0\u001B[39m], ABCSeries):\n\u001B[0;32m   1181\u001B[0m     \u001B[38;5;66;03m# GH#43986 Need to do list(mapped) in order to get treated as nested\u001B[39;00m\n\u001B[0;32m   1182\u001B[0m     \u001B[38;5;66;03m#  See also GH#25959 regarding EA support\u001B[39;00m\n\u001B[0;32m   1183\u001B[0m     \u001B[38;5;28;01mreturn\u001B[39;00m obj\u001B[38;5;241m.\u001B[39m_constructor_expanddim(\u001B[38;5;28mlist\u001B[39m(mapped), index\u001B[38;5;241m=\u001B[39mobj\u001B[38;5;241m.\u001B[39mindex)\n",
      "File \u001B[1;32m~\\anaconda3\\lib\\site-packages\\pandas\\_libs\\lib.pyx:2924\u001B[0m, in \u001B[0;36mpandas._libs.lib.map_infer\u001B[1;34m()\u001B[0m\n",
      "File \u001B[1;32m~\\anaconda3\\lib\\site-packages\\pandas\\core\\apply.py:142\u001B[0m, in \u001B[0;36mApply.__init__.<locals>.f\u001B[1;34m(x)\u001B[0m\n\u001B[0;32m    141\u001B[0m \u001B[38;5;28;01mdef\u001B[39;00m \u001B[38;5;21mf\u001B[39m(x):\n\u001B[1;32m--> 142\u001B[0m     \u001B[38;5;28;01mreturn\u001B[39;00m func(x, \u001B[38;5;241m*\u001B[39margs, \u001B[38;5;241m*\u001B[39m\u001B[38;5;241m*\u001B[39mkwargs)\n",
      "Cell \u001B[1;32mIn[31], line 13\u001B[0m, in \u001B[0;36mcorrect_tweet\u001B[1;34m(text, corrector)\u001B[0m\n\u001B[0;32m     11\u001B[0m corrected_text \u001B[38;5;241m=\u001B[39m []\n\u001B[0;32m     12\u001B[0m \u001B[38;5;28;01mfor\u001B[39;00m word \u001B[38;5;129;01min\u001B[39;00m words:\n\u001B[1;32m---> 13\u001B[0m     corrected_word \u001B[38;5;241m=\u001B[39m \u001B[43mcorrector\u001B[49m\u001B[38;5;241;43m.\u001B[39;49m\u001B[43mcorrect\u001B[49m\u001B[43m(\u001B[49m\u001B[43mword\u001B[49m\u001B[43m)\u001B[49m\n\u001B[0;32m     14\u001B[0m     corrected_text\u001B[38;5;241m.\u001B[39mappend(\u001B[38;5;28mstr\u001B[39m(corrected_word))\n\u001B[0;32m     15\u001B[0m \u001B[38;5;28mprint\u001B[39m(\u001B[38;5;124m\"\u001B[39m\u001B[38;5;124mtweet\u001B[39m\u001B[38;5;124m\"\u001B[39m, i)\n",
      "File \u001B[1;32m~\\anaconda3\\lib\\site-packages\\ekphrasis\\classes\\spellcorrect.py:102\u001B[0m, in \u001B[0;36mSpellCorrector.correct\u001B[1;34m(self, word, assume_wrong, fast)\u001B[0m\n\u001B[0;32m     97\u001B[0m \u001B[38;5;129m@lru_cache\u001B[39m(maxsize\u001B[38;5;241m=\u001B[39m\u001B[38;5;241m65536\u001B[39m)\n\u001B[0;32m     98\u001B[0m \u001B[38;5;28;01mdef\u001B[39;00m \u001B[38;5;21mcorrect\u001B[39m(\u001B[38;5;28mself\u001B[39m, word, assume_wrong\u001B[38;5;241m=\u001B[39m\u001B[38;5;28;01mFalse\u001B[39;00m, fast\u001B[38;5;241m=\u001B[39m\u001B[38;5;28;01mFalse\u001B[39;00m):\n\u001B[0;32m     99\u001B[0m     \u001B[38;5;124;03m\"\"\"\u001B[39;00m\n\u001B[0;32m    100\u001B[0m \u001B[38;5;124;03m    Most probable spelling correction for word.\u001B[39;00m\n\u001B[0;32m    101\u001B[0m \u001B[38;5;124;03m    \"\"\"\u001B[39;00m\n\u001B[1;32m--> 102\u001B[0m     \u001B[38;5;28;01mreturn\u001B[39;00m \u001B[38;5;28mmax\u001B[39m(\u001B[38;5;28;43mself\u001B[39;49m\u001B[38;5;241;43m.\u001B[39;49m\u001B[43medit_candidates\u001B[49m\u001B[43m(\u001B[49m\u001B[43mword\u001B[49m\u001B[43m,\u001B[49m\u001B[43m \u001B[49m\u001B[43massume_wrong\u001B[49m\u001B[38;5;241;43m=\u001B[39;49m\u001B[43massume_wrong\u001B[49m\u001B[43m,\u001B[49m\u001B[43m \u001B[49m\u001B[43mfast\u001B[49m\u001B[38;5;241;43m=\u001B[39;49m\u001B[43mfast\u001B[49m\u001B[43m)\u001B[49m, key\u001B[38;5;241m=\u001B[39m\u001B[38;5;28mself\u001B[39m\u001B[38;5;241m.\u001B[39mP)\n",
      "File \u001B[1;32m~\\anaconda3\\lib\\site-packages\\ekphrasis\\classes\\spellcorrect.py:88\u001B[0m, in \u001B[0;36mSpellCorrector.edit_candidates\u001B[1;34m(self, word, assume_wrong, fast)\u001B[0m\n\u001B[0;32m     86\u001B[0m     \u001B[38;5;28;01mreturn\u001B[39;00m ttt\n\u001B[0;32m     87\u001B[0m \u001B[38;5;28;01melse\u001B[39;00m:\n\u001B[1;32m---> 88\u001B[0m     \u001B[38;5;28;01mreturn\u001B[39;00m \u001B[38;5;28mself\u001B[39m\u001B[38;5;241m.\u001B[39mknown([word]) \u001B[38;5;129;01mor\u001B[39;00m \u001B[38;5;28mself\u001B[39m\u001B[38;5;241m.\u001B[39mknown(\u001B[38;5;28mself\u001B[39m\u001B[38;5;241m.\u001B[39medit_step(word)) \u001B[38;5;129;01mor\u001B[39;00m \u001B[38;5;28;43mself\u001B[39;49m\u001B[38;5;241;43m.\u001B[39;49m\u001B[43mknown\u001B[49m\u001B[43m(\u001B[49m\u001B[38;5;28;43mself\u001B[39;49m\u001B[38;5;241;43m.\u001B[39;49m\u001B[43medits2\u001B[49m\u001B[43m(\u001B[49m\u001B[43mword\u001B[49m\u001B[43m)\u001B[49m\u001B[43m)\u001B[49m \u001B[38;5;129;01mor\u001B[39;00m [word]\n",
      "File \u001B[1;32m~\\anaconda3\\lib\\site-packages\\ekphrasis\\classes\\spellcorrect.py:67\u001B[0m, in \u001B[0;36mSpellCorrector.known\u001B[1;34m(self, words)\u001B[0m\n\u001B[0;32m     63\u001B[0m \u001B[38;5;28;01mdef\u001B[39;00m \u001B[38;5;21mknown\u001B[39m(\u001B[38;5;28mself\u001B[39m, words):\n\u001B[0;32m     64\u001B[0m     \u001B[38;5;124;03m\"\"\"\u001B[39;00m\n\u001B[0;32m     65\u001B[0m \u001B[38;5;124;03m    The subset of `words` that appear in the dictionary of WORDS.\u001B[39;00m\n\u001B[0;32m     66\u001B[0m \u001B[38;5;124;03m    \"\"\"\u001B[39;00m\n\u001B[1;32m---> 67\u001B[0m     \u001B[38;5;28;01mreturn\u001B[39;00m \u001B[38;5;28;43mset\u001B[39;49m\u001B[43m(\u001B[49m\u001B[43mw\u001B[49m\u001B[43m \u001B[49m\u001B[38;5;28;43;01mfor\u001B[39;49;00m\u001B[43m \u001B[49m\u001B[43mw\u001B[49m\u001B[43m \u001B[49m\u001B[38;5;129;43;01min\u001B[39;49;00m\u001B[43m \u001B[49m\u001B[43mwords\u001B[49m\u001B[43m \u001B[49m\u001B[38;5;28;43;01mif\u001B[39;49;00m\u001B[43m \u001B[49m\u001B[43mw\u001B[49m\u001B[43m \u001B[49m\u001B[38;5;129;43;01min\u001B[39;49;00m\u001B[43m \u001B[49m\u001B[38;5;28;43mself\u001B[39;49m\u001B[38;5;241;43m.\u001B[39;49m\u001B[43mWORDS\u001B[49m\u001B[43m)\u001B[49m\n",
      "File \u001B[1;32m~\\anaconda3\\lib\\site-packages\\ekphrasis\\classes\\spellcorrect.py:67\u001B[0m, in \u001B[0;36m<genexpr>\u001B[1;34m(.0)\u001B[0m\n\u001B[0;32m     63\u001B[0m \u001B[38;5;28;01mdef\u001B[39;00m \u001B[38;5;21mknown\u001B[39m(\u001B[38;5;28mself\u001B[39m, words):\n\u001B[0;32m     64\u001B[0m     \u001B[38;5;124;03m\"\"\"\u001B[39;00m\n\u001B[0;32m     65\u001B[0m \u001B[38;5;124;03m    The subset of `words` that appear in the dictionary of WORDS.\u001B[39;00m\n\u001B[0;32m     66\u001B[0m \u001B[38;5;124;03m    \"\"\"\u001B[39;00m\n\u001B[1;32m---> 67\u001B[0m     \u001B[38;5;28;01mreturn\u001B[39;00m \u001B[38;5;28mset\u001B[39m(w \u001B[38;5;28;01mfor\u001B[39;00m w \u001B[38;5;129;01min\u001B[39;00m words \u001B[38;5;28;01mif\u001B[39;00m w \u001B[38;5;129;01min\u001B[39;00m \u001B[38;5;28mself\u001B[39m\u001B[38;5;241m.\u001B[39mWORDS)\n",
      "File \u001B[1;32m~\\anaconda3\\lib\\site-packages\\ekphrasis\\classes\\spellcorrect.py:61\u001B[0m, in \u001B[0;36m<genexpr>\u001B[1;34m(.0)\u001B[0m\n\u001B[0;32m     56\u001B[0m \u001B[38;5;28;01mdef\u001B[39;00m \u001B[38;5;21medits2\u001B[39m(\u001B[38;5;28mself\u001B[39m, word):\n\u001B[0;32m     57\u001B[0m     \u001B[38;5;124;03m\"\"\"\u001B[39;00m\n\u001B[0;32m     58\u001B[0m \u001B[38;5;124;03m    All edits that are two edits away from `word`.\u001B[39;00m\n\u001B[0;32m     59\u001B[0m \u001B[38;5;124;03m    \"\"\"\u001B[39;00m\n\u001B[0;32m     60\u001B[0m     \u001B[38;5;28;01mreturn\u001B[39;00m (e2 \u001B[38;5;28;01mfor\u001B[39;00m e1 \u001B[38;5;129;01min\u001B[39;00m \u001B[38;5;28mself\u001B[39m\u001B[38;5;241m.\u001B[39medit_step(word)\n\u001B[1;32m---> 61\u001B[0m             \u001B[38;5;28;01mfor\u001B[39;00m e2 \u001B[38;5;129;01min\u001B[39;00m \u001B[38;5;28;43mself\u001B[39;49m\u001B[38;5;241;43m.\u001B[39;49m\u001B[43medit_step\u001B[49m\u001B[43m(\u001B[49m\u001B[43me1\u001B[49m\u001B[43m)\u001B[49m)\n",
      "File \u001B[1;32m~\\anaconda3\\lib\\site-packages\\ekphrasis\\classes\\spellcorrect.py:52\u001B[0m, in \u001B[0;36mSpellCorrector.edit_step\u001B[1;34m(word)\u001B[0m\n\u001B[0;32m     50\u001B[0m deletes \u001B[38;5;241m=\u001B[39m [L \u001B[38;5;241m+\u001B[39m R[\u001B[38;5;241m1\u001B[39m:] \u001B[38;5;28;01mfor\u001B[39;00m L, R \u001B[38;5;129;01min\u001B[39;00m splits \u001B[38;5;28;01mif\u001B[39;00m R]\n\u001B[0;32m     51\u001B[0m transposes \u001B[38;5;241m=\u001B[39m [L \u001B[38;5;241m+\u001B[39m R[\u001B[38;5;241m1\u001B[39m] \u001B[38;5;241m+\u001B[39m R[\u001B[38;5;241m0\u001B[39m] \u001B[38;5;241m+\u001B[39m R[\u001B[38;5;241m2\u001B[39m:] \u001B[38;5;28;01mfor\u001B[39;00m L, R \u001B[38;5;129;01min\u001B[39;00m splits \u001B[38;5;28;01mif\u001B[39;00m \u001B[38;5;28mlen\u001B[39m(R) \u001B[38;5;241m>\u001B[39m \u001B[38;5;241m1\u001B[39m]\n\u001B[1;32m---> 52\u001B[0m replaces \u001B[38;5;241m=\u001B[39m [L \u001B[38;5;241m+\u001B[39m c \u001B[38;5;241m+\u001B[39m R[\u001B[38;5;241m1\u001B[39m:] \u001B[38;5;28;01mfor\u001B[39;00m L, R \u001B[38;5;129;01min\u001B[39;00m splits \u001B[38;5;28;01mif\u001B[39;00m R \u001B[38;5;28;01mfor\u001B[39;00m c \u001B[38;5;129;01min\u001B[39;00m letters]\n\u001B[0;32m     53\u001B[0m inserts \u001B[38;5;241m=\u001B[39m [L \u001B[38;5;241m+\u001B[39m c \u001B[38;5;241m+\u001B[39m R \u001B[38;5;28;01mfor\u001B[39;00m L, R \u001B[38;5;129;01min\u001B[39;00m splits \u001B[38;5;28;01mfor\u001B[39;00m c \u001B[38;5;129;01min\u001B[39;00m letters]\n\u001B[0;32m     54\u001B[0m \u001B[38;5;28;01mreturn\u001B[39;00m \u001B[38;5;28mset\u001B[39m(deletes \u001B[38;5;241m+\u001B[39m transposes \u001B[38;5;241m+\u001B[39m replaces \u001B[38;5;241m+\u001B[39m inserts)\n",
      "File \u001B[1;32m~\\anaconda3\\lib\\site-packages\\ekphrasis\\classes\\spellcorrect.py:52\u001B[0m, in \u001B[0;36m<listcomp>\u001B[1;34m(.0)\u001B[0m\n\u001B[0;32m     50\u001B[0m deletes \u001B[38;5;241m=\u001B[39m [L \u001B[38;5;241m+\u001B[39m R[\u001B[38;5;241m1\u001B[39m:] \u001B[38;5;28;01mfor\u001B[39;00m L, R \u001B[38;5;129;01min\u001B[39;00m splits \u001B[38;5;28;01mif\u001B[39;00m R]\n\u001B[0;32m     51\u001B[0m transposes \u001B[38;5;241m=\u001B[39m [L \u001B[38;5;241m+\u001B[39m R[\u001B[38;5;241m1\u001B[39m] \u001B[38;5;241m+\u001B[39m R[\u001B[38;5;241m0\u001B[39m] \u001B[38;5;241m+\u001B[39m R[\u001B[38;5;241m2\u001B[39m:] \u001B[38;5;28;01mfor\u001B[39;00m L, R \u001B[38;5;129;01min\u001B[39;00m splits \u001B[38;5;28;01mif\u001B[39;00m \u001B[38;5;28mlen\u001B[39m(R) \u001B[38;5;241m>\u001B[39m \u001B[38;5;241m1\u001B[39m]\n\u001B[1;32m---> 52\u001B[0m replaces \u001B[38;5;241m=\u001B[39m [L \u001B[38;5;241m+\u001B[39m c \u001B[38;5;241m+\u001B[39m R[\u001B[38;5;241m1\u001B[39m:] \u001B[38;5;28;01mfor\u001B[39;00m L, R \u001B[38;5;129;01min\u001B[39;00m splits \u001B[38;5;28;01mif\u001B[39;00m R \u001B[38;5;28;01mfor\u001B[39;00m c \u001B[38;5;129;01min\u001B[39;00m letters]\n\u001B[0;32m     53\u001B[0m inserts \u001B[38;5;241m=\u001B[39m [L \u001B[38;5;241m+\u001B[39m c \u001B[38;5;241m+\u001B[39m R \u001B[38;5;28;01mfor\u001B[39;00m L, R \u001B[38;5;129;01min\u001B[39;00m splits \u001B[38;5;28;01mfor\u001B[39;00m c \u001B[38;5;129;01min\u001B[39;00m letters]\n\u001B[0;32m     54\u001B[0m \u001B[38;5;28;01mreturn\u001B[39;00m \u001B[38;5;28mset\u001B[39m(deletes \u001B[38;5;241m+\u001B[39m transposes \u001B[38;5;241m+\u001B[39m replaces \u001B[38;5;241m+\u001B[39m inserts)\n",
      "\u001B[1;31mKeyboardInterrupt\u001B[0m: "
     ]
    }
   ],
   "source": [
    "start = time.perf_counter()\n",
    "testcorrection = spell_correction(test_df, \"tweet\")\n",
    "stop = time.perf_counter()"
   ],
   "metadata": {
    "collapsed": false,
    "ExecuteTime": {
     "end_time": "2024-12-03T23:05:53.631048700Z",
     "start_time": "2024-12-03T23:02:03.712283500Z"
    }
   }
  },
  {
   "cell_type": "code",
   "execution_count": null,
   "outputs": [],
   "source": [
    "print(f\"Execution time {stop - start:0.4f} seconds\")\n",
    "testcorrection"
   ],
   "metadata": {
    "collapsed": false
   }
  },
  {
   "cell_type": "code",
   "execution_count": 11,
   "outputs": [],
   "source": [
    "# testsentence = \"delicious food love life cape town manna epicure resturant …\""
   ],
   "metadata": {
    "collapsed": false,
    "ExecuteTime": {
     "end_time": "2024-12-03T22:31:33.560895600Z",
     "start_time": "2024-12-03T22:31:33.520725500Z"
    }
   }
  },
  {
   "cell_type": "code",
   "execution_count": 29,
   "outputs": [],
   "source": [
    "def spell_correction_parallel(df, column_name):\n",
    "    sp = SpellCorrector(corpus=\"english\")\n",
    "\n",
    "    df[column_name] = df[column_name].swifter.apply(correct_tweet, corrector=sp)\n",
    "    return df"
   ],
   "metadata": {
    "collapsed": false,
    "ExecuteTime": {
     "end_time": "2024-12-03T22:59:50.823601300Z",
     "start_time": "2024-12-03T22:59:50.807973300Z"
    }
   }
  },
  {
   "cell_type": "code",
   "execution_count": 30,
   "outputs": [
    {
     "name": "stdout",
     "output_type": "stream",
     "text": [
      "Reading english - 1grams ...\n"
     ]
    },
    {
     "name": "stderr",
     "output_type": "stream",
     "text": [
      "\n",
      "KeyboardInterrupt\n",
      "\n"
     ]
    }
   ],
   "source": [
    "start2 = time.perf_counter()\n",
    "testcorrection = spell_correction_parallel(test_df, \"tweet\")\n",
    "stop2 = time.perf_counter()"
   ],
   "metadata": {
    "collapsed": false,
    "ExecuteTime": {
     "end_time": "2024-12-03T23:01:58.284593Z",
     "start_time": "2024-12-03T22:59:51.476576500Z"
    }
   }
  },
  {
   "cell_type": "code",
   "execution_count": null,
   "outputs": [],
   "source": [
    "print(f\"Execution time {stop2 - start2:0.4f} seconds\")\n",
    "testcorrection"
   ],
   "metadata": {
    "collapsed": false
   }
  },
  {
   "cell_type": "code",
   "execution_count": null,
   "outputs": [],
   "source": [],
   "metadata": {
    "collapsed": false
   }
  },
  {
   "cell_type": "code",
   "execution_count": 18,
   "outputs": [],
   "source": [
    "import pandas as pd"
   ],
   "metadata": {
    "collapsed": false,
    "ExecuteTime": {
     "end_time": "2024-12-04T19:03:03.948885600Z",
     "start_time": "2024-12-04T19:03:03.235931900Z"
    }
   }
  },
  {
   "cell_type": "code",
   "execution_count": 19,
   "outputs": [],
   "source": [
    "test_predict_df = pd.read_csv('./twitter_hate-speech/predict.csv', index_col=0)"
   ],
   "metadata": {
    "collapsed": false,
    "ExecuteTime": {
     "end_time": "2024-12-04T19:03:04.015643900Z",
     "start_time": "2024-12-04T19:03:03.948885600Z"
    }
   }
  },
  {
   "cell_type": "code",
   "execution_count": 20,
   "outputs": [
    {
     "data": {
      "text/plain": "                                                   tweet\nid                                                      \n31963  #studiolife #aislife #requires #passion #dedic...\n31964   @user #white #supremacists want everyone to s...\n31965  safe ways to heal your #acne!!    #altwaystohe...\n31966  is the hp and the cursed child book up for res...\n31967    3rd #bihday to my amazing, hilarious #nephew...\n...                                                  ...\n49155  thought factory: left-right polarisation! #tru...\n49156  feeling like a mermaid ð #hairflip #neverre...\n49157  #hillary #campaigned today in #ohio((omg)) &am...\n49158  happy, at work conference: right mindset leads...\n49159  my   song \"so glad\" free download!  #shoegaze ...\n\n[17197 rows x 1 columns]",
      "text/html": "<div>\n<style scoped>\n    .dataframe tbody tr th:only-of-type {\n        vertical-align: middle;\n    }\n\n    .dataframe tbody tr th {\n        vertical-align: top;\n    }\n\n    .dataframe thead th {\n        text-align: right;\n    }\n</style>\n<table border=\"1\" class=\"dataframe\">\n  <thead>\n    <tr style=\"text-align: right;\">\n      <th></th>\n      <th>tweet</th>\n    </tr>\n    <tr>\n      <th>id</th>\n      <th></th>\n    </tr>\n  </thead>\n  <tbody>\n    <tr>\n      <th>31963</th>\n      <td>#studiolife #aislife #requires #passion #dedic...</td>\n    </tr>\n    <tr>\n      <th>31964</th>\n      <td>@user #white #supremacists want everyone to s...</td>\n    </tr>\n    <tr>\n      <th>31965</th>\n      <td>safe ways to heal your #acne!!    #altwaystohe...</td>\n    </tr>\n    <tr>\n      <th>31966</th>\n      <td>is the hp and the cursed child book up for res...</td>\n    </tr>\n    <tr>\n      <th>31967</th>\n      <td>3rd #bihday to my amazing, hilarious #nephew...</td>\n    </tr>\n    <tr>\n      <th>...</th>\n      <td>...</td>\n    </tr>\n    <tr>\n      <th>49155</th>\n      <td>thought factory: left-right polarisation! #tru...</td>\n    </tr>\n    <tr>\n      <th>49156</th>\n      <td>feeling like a mermaid ð #hairflip #neverre...</td>\n    </tr>\n    <tr>\n      <th>49157</th>\n      <td>#hillary #campaigned today in #ohio((omg)) &amp;am...</td>\n    </tr>\n    <tr>\n      <th>49158</th>\n      <td>happy, at work conference: right mindset leads...</td>\n    </tr>\n    <tr>\n      <th>49159</th>\n      <td>my   song \"so glad\" free download!  #shoegaze ...</td>\n    </tr>\n  </tbody>\n</table>\n<p>17197 rows × 1 columns</p>\n</div>"
     },
     "execution_count": 20,
     "metadata": {},
     "output_type": "execute_result"
    }
   ],
   "source": [
    "test_predict_df"
   ],
   "metadata": {
    "collapsed": false,
    "ExecuteTime": {
     "end_time": "2024-12-04T19:03:06.635497100Z",
     "start_time": "2024-12-04T19:03:06.591879800Z"
    }
   }
  },
  {
   "cell_type": "code",
   "execution_count": 25,
   "outputs": [],
   "source": [
    "check = test_predict_df.tweet.str.contains(r'Passion')"
   ],
   "metadata": {
    "collapsed": false,
    "ExecuteTime": {
     "end_time": "2024-12-04T19:06:37.978372100Z",
     "start_time": "2024-12-04T19:06:37.958444Z"
    }
   }
  },
  {
   "cell_type": "code",
   "execution_count": 26,
   "outputs": [
    {
     "data": {
      "text/plain": "id\n31963    False\n31964    False\n31965    False\n31966    False\n31967    False\n         ...  \n49155    False\n49156    False\n49157    False\n49158    False\n49159    False\nName: tweet, Length: 17197, dtype: bool"
     },
     "execution_count": 26,
     "metadata": {},
     "output_type": "execute_result"
    }
   ],
   "source": [
    "check"
   ],
   "metadata": {
    "collapsed": false,
    "ExecuteTime": {
     "end_time": "2024-12-04T19:06:38.348400900Z",
     "start_time": "2024-12-04T19:06:38.308615800Z"
    }
   }
  },
  {
   "cell_type": "code",
   "execution_count": null,
   "outputs": [],
   "source": [],
   "metadata": {
    "collapsed": false
   }
  }
 ],
 "metadata": {
  "kernelspec": {
   "display_name": "Python 3",
   "language": "python",
   "name": "python3"
  },
  "language_info": {
   "codemirror_mode": {
    "name": "ipython",
    "version": 2
   },
   "file_extension": ".py",
   "mimetype": "text/x-python",
   "name": "python",
   "nbconvert_exporter": "python",
   "pygments_lexer": "ipython2",
   "version": "2.7.6"
  }
 },
 "nbformat": 4,
 "nbformat_minor": 0
}
