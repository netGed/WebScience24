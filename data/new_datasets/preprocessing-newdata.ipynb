{
 "cells": [
  {
   "cell_type": "code",
   "execution_count": 1,
   "metadata": {
    "collapsed": true,
    "ExecuteTime": {
     "end_time": "2024-12-05T20:35:05.953843900Z",
     "start_time": "2024-12-05T20:35:04.923904400Z"
    }
   },
   "outputs": [],
   "source": [
    "import pandas as pd\n",
    "import pandas as np\n",
    "import re"
   ]
  },
  {
   "cell_type": "code",
   "execution_count": 2,
   "outputs": [],
   "source": [
    "def print_distribution(df, col):\n",
    "    positive = np.count_nonzero(df[col] == 1)\n",
    "    negative = np.count_nonzero(df[col] == 0)\n",
    "    print(\"- Positive:\", positive)\n",
    "    print(\"- Negative:\", negative)\n",
    "    print(\"- Verhältnis:\", negative / positive)"
   ],
   "metadata": {
    "collapsed": false,
    "ExecuteTime": {
     "end_time": "2024-12-05T20:35:05.974011800Z",
     "start_time": "2024-12-05T20:35:05.953843900Z"
    }
   }
  },
  {
   "cell_type": "markdown",
   "source": [
    "### Neue Daten einlesen & vereinheitlichen - hate-speech-and-offensive-language"
   ],
   "metadata": {
    "collapsed": false
   }
  },
  {
   "cell_type": "code",
   "execution_count": 15,
   "outputs": [
    {
     "data": {
      "text/plain": "   count  hate_speech  offensive_language  neither  class  \\\n0      3            0                   0        3      2   \n1      3            0                   3        0      1   \n2      3            0                   3        0      1   \n3      3            0                   2        1      1   \n4      6            0                   6        0      1   \n5      3            1                   2        0      1   \n6      3            0                   3        0      1   \n7      3            0                   3        0      1   \n8      3            0                   3        0      1   \n9      3            1                   2        0      1   \n\n                                               tweet  \n0  !!! RT @mayasolovely: As a woman you shouldn't...  \n1  !!!!! RT @mleew17: boy dats cold...tyga dwn ba...  \n2  !!!!!!! RT @UrKindOfBrand Dawg!!!! RT @80sbaby...  \n3  !!!!!!!!! RT @C_G_Anderson: @viva_based she lo...  \n4  !!!!!!!!!!!!! RT @ShenikaRoberts: The shit you...  \n5  !!!!!!!!!!!!!!!!!!\"@T_Madison_x: The shit just...  \n6  !!!!!!\"@__BrighterDays: I can not just sit up ...  \n7  !!!!&#8220;@selfiequeenbri: cause I'm tired of...  \n8  \" &amp; you might not get ya bitch back &amp; ...  \n9  \" @rhythmixx_ :hobbies include: fighting Maria...  ",
      "text/html": "<div>\n<style scoped>\n    .dataframe tbody tr th:only-of-type {\n        vertical-align: middle;\n    }\n\n    .dataframe tbody tr th {\n        vertical-align: top;\n    }\n\n    .dataframe thead th {\n        text-align: right;\n    }\n</style>\n<table border=\"1\" class=\"dataframe\">\n  <thead>\n    <tr style=\"text-align: right;\">\n      <th></th>\n      <th>count</th>\n      <th>hate_speech</th>\n      <th>offensive_language</th>\n      <th>neither</th>\n      <th>class</th>\n      <th>tweet</th>\n    </tr>\n  </thead>\n  <tbody>\n    <tr>\n      <th>0</th>\n      <td>3</td>\n      <td>0</td>\n      <td>0</td>\n      <td>3</td>\n      <td>2</td>\n      <td>!!! RT @mayasolovely: As a woman you shouldn't...</td>\n    </tr>\n    <tr>\n      <th>1</th>\n      <td>3</td>\n      <td>0</td>\n      <td>3</td>\n      <td>0</td>\n      <td>1</td>\n      <td>!!!!! RT @mleew17: boy dats cold...tyga dwn ba...</td>\n    </tr>\n    <tr>\n      <th>2</th>\n      <td>3</td>\n      <td>0</td>\n      <td>3</td>\n      <td>0</td>\n      <td>1</td>\n      <td>!!!!!!! RT @UrKindOfBrand Dawg!!!! RT @80sbaby...</td>\n    </tr>\n    <tr>\n      <th>3</th>\n      <td>3</td>\n      <td>0</td>\n      <td>2</td>\n      <td>1</td>\n      <td>1</td>\n      <td>!!!!!!!!! RT @C_G_Anderson: @viva_based she lo...</td>\n    </tr>\n    <tr>\n      <th>4</th>\n      <td>6</td>\n      <td>0</td>\n      <td>6</td>\n      <td>0</td>\n      <td>1</td>\n      <td>!!!!!!!!!!!!! RT @ShenikaRoberts: The shit you...</td>\n    </tr>\n    <tr>\n      <th>5</th>\n      <td>3</td>\n      <td>1</td>\n      <td>2</td>\n      <td>0</td>\n      <td>1</td>\n      <td>!!!!!!!!!!!!!!!!!!\"@T_Madison_x: The shit just...</td>\n    </tr>\n    <tr>\n      <th>6</th>\n      <td>3</td>\n      <td>0</td>\n      <td>3</td>\n      <td>0</td>\n      <td>1</td>\n      <td>!!!!!!\"@__BrighterDays: I can not just sit up ...</td>\n    </tr>\n    <tr>\n      <th>7</th>\n      <td>3</td>\n      <td>0</td>\n      <td>3</td>\n      <td>0</td>\n      <td>1</td>\n      <td>!!!!&amp;#8220;@selfiequeenbri: cause I'm tired of...</td>\n    </tr>\n    <tr>\n      <th>8</th>\n      <td>3</td>\n      <td>0</td>\n      <td>3</td>\n      <td>0</td>\n      <td>1</td>\n      <td>\" &amp;amp; you might not get ya bitch back &amp;amp; ...</td>\n    </tr>\n    <tr>\n      <th>9</th>\n      <td>3</td>\n      <td>1</td>\n      <td>2</td>\n      <td>0</td>\n      <td>1</td>\n      <td>\" @rhythmixx_ :hobbies include: fighting Maria...</td>\n    </tr>\n  </tbody>\n</table>\n</div>"
     },
     "execution_count": 15,
     "metadata": {},
     "output_type": "execute_result"
    }
   ],
   "source": [
    "df_offensive_raw = pd.read_csv(\"hate-speech-and-offensive-language/ORIGINAL_DATA.csv\", index_col=0, on_bad_lines='warn')\n",
    "df_offensive_raw.head(10)"
   ],
   "metadata": {
    "collapsed": false,
    "ExecuteTime": {
     "end_time": "2024-12-05T20:28:58.383400Z",
     "start_time": "2024-12-05T20:28:58.108456Z"
    }
   }
  },
  {
   "cell_type": "code",
   "execution_count": 16,
   "outputs": [
    {
     "name": "stdout",
     "output_type": "stream",
     "text": [
      "<class 'pandas.core.frame.DataFrame'>\n",
      "Int64Index: 24783 entries, 0 to 25296\n",
      "Data columns (total 6 columns):\n",
      " #   Column              Non-Null Count  Dtype \n",
      "---  ------              --------------  ----- \n",
      " 0   count               24783 non-null  int64 \n",
      " 1   hate_speech         24783 non-null  int64 \n",
      " 2   offensive_language  24783 non-null  int64 \n",
      " 3   neither             24783 non-null  int64 \n",
      " 4   class               24783 non-null  int64 \n",
      " 5   tweet               24783 non-null  object\n",
      "dtypes: int64(5), object(1)\n",
      "memory usage: 1.3+ MB\n"
     ]
    }
   ],
   "source": [
    "df_offensive_raw.info()"
   ],
   "metadata": {
    "collapsed": false,
    "ExecuteTime": {
     "end_time": "2024-12-05T20:28:58.388430700Z",
     "start_time": "2024-12-05T20:28:58.188434900Z"
    }
   }
  },
  {
   "cell_type": "markdown",
   "source": [
    "#### Label erstellen"
   ],
   "metadata": {
    "collapsed": false
   }
  },
  {
   "cell_type": "code",
   "execution_count": 17,
   "outputs": [
    {
     "data": {
      "text/plain": "   count  hate_speech  offensive_language  neither  class  \\\n0      3            0                   0        3      2   \n1      3            0                   3        0      1   \n2      3            0                   3        0      1   \n3      3            0                   2        1      1   \n4      6            0                   6        0      1   \n\n                                               tweet  label  \n0  !!! RT @mayasolovely: As a woman you shouldn't...      0  \n1  !!!!! RT @mleew17: boy dats cold...tyga dwn ba...      0  \n2  !!!!!!! RT @UrKindOfBrand Dawg!!!! RT @80sbaby...      0  \n3  !!!!!!!!! RT @C_G_Anderson: @viva_based she lo...      0  \n4  !!!!!!!!!!!!! RT @ShenikaRoberts: The shit you...      0  ",
      "text/html": "<div>\n<style scoped>\n    .dataframe tbody tr th:only-of-type {\n        vertical-align: middle;\n    }\n\n    .dataframe tbody tr th {\n        vertical-align: top;\n    }\n\n    .dataframe thead th {\n        text-align: right;\n    }\n</style>\n<table border=\"1\" class=\"dataframe\">\n  <thead>\n    <tr style=\"text-align: right;\">\n      <th></th>\n      <th>count</th>\n      <th>hate_speech</th>\n      <th>offensive_language</th>\n      <th>neither</th>\n      <th>class</th>\n      <th>tweet</th>\n      <th>label</th>\n    </tr>\n  </thead>\n  <tbody>\n    <tr>\n      <th>0</th>\n      <td>3</td>\n      <td>0</td>\n      <td>0</td>\n      <td>3</td>\n      <td>2</td>\n      <td>!!! RT @mayasolovely: As a woman you shouldn't...</td>\n      <td>0</td>\n    </tr>\n    <tr>\n      <th>1</th>\n      <td>3</td>\n      <td>0</td>\n      <td>3</td>\n      <td>0</td>\n      <td>1</td>\n      <td>!!!!! RT @mleew17: boy dats cold...tyga dwn ba...</td>\n      <td>0</td>\n    </tr>\n    <tr>\n      <th>2</th>\n      <td>3</td>\n      <td>0</td>\n      <td>3</td>\n      <td>0</td>\n      <td>1</td>\n      <td>!!!!!!! RT @UrKindOfBrand Dawg!!!! RT @80sbaby...</td>\n      <td>0</td>\n    </tr>\n    <tr>\n      <th>3</th>\n      <td>3</td>\n      <td>0</td>\n      <td>2</td>\n      <td>1</td>\n      <td>1</td>\n      <td>!!!!!!!!! RT @C_G_Anderson: @viva_based she lo...</td>\n      <td>0</td>\n    </tr>\n    <tr>\n      <th>4</th>\n      <td>6</td>\n      <td>0</td>\n      <td>6</td>\n      <td>0</td>\n      <td>1</td>\n      <td>!!!!!!!!!!!!! RT @ShenikaRoberts: The shit you...</td>\n      <td>0</td>\n    </tr>\n  </tbody>\n</table>\n</div>"
     },
     "execution_count": 17,
     "metadata": {},
     "output_type": "execute_result"
    }
   ],
   "source": [
    "df_offensive_raw['label'] = df_offensive_raw['class'].replace({\n",
    "    0:1,\n",
    "    1:0,\n",
    "    2:0,\n",
    "})\n",
    "df_offensive_raw.head()"
   ],
   "metadata": {
    "collapsed": false,
    "ExecuteTime": {
     "end_time": "2024-12-05T20:28:58.388430700Z",
     "start_time": "2024-12-05T20:28:58.268290900Z"
    }
   }
  },
  {
   "cell_type": "code",
   "execution_count": 18,
   "outputs": [
    {
     "data": {
      "text/plain": "0    23353\n1     1430\nName: label, dtype: int64"
     },
     "execution_count": 18,
     "metadata": {},
     "output_type": "execute_result"
    }
   ],
   "source": [
    "df_offensive_raw.label.value_counts()"
   ],
   "metadata": {
    "collapsed": false,
    "ExecuteTime": {
     "end_time": "2024-12-05T20:28:58.388430700Z",
     "start_time": "2024-12-05T20:28:58.303373600Z"
    }
   }
  },
  {
   "cell_type": "markdown",
   "source": [
    "#### Userhandles anonymisieren"
   ],
   "metadata": {
    "collapsed": false
   }
  },
  {
   "cell_type": "code",
   "execution_count": 19,
   "outputs": [],
   "source": [
    "df_offensive_raw['userhandles'] = [re.findall(r'@\\w+', x) if re.findall(r'@\\w+', x) else [] for x in df_offensive_raw['tweet']]\n",
    "df_offensive_raw['tweet'] = df_offensive_raw['tweet'].str.replace(r'@\\w+', '@user', regex=True)"
   ],
   "metadata": {
    "collapsed": false,
    "ExecuteTime": {
     "end_time": "2024-12-05T20:28:58.828419Z",
     "start_time": "2024-12-05T20:28:58.323487200Z"
    }
   }
  },
  {
   "cell_type": "code",
   "execution_count": 20,
   "outputs": [
    {
     "data": {
      "text/plain": "   count  hate_speech  offensive_language  neither  class  \\\n0      3            0                   0        3      2   \n1      3            0                   3        0      1   \n2      3            0                   3        0      1   \n3      3            0                   2        1      1   \n4      6            0                   6        0      1   \n\n                                               tweet  label  \\\n0  !!! RT @user: As a woman you shouldn't complai...      0   \n1  !!!!! RT @user: boy dats cold...tyga dwn bad f...      0   \n2  !!!!!!! RT @user Dawg!!!! RT @user: You ever f...      0   \n3   !!!!!!!!! RT @user: @user she look like a tranny      0   \n4  !!!!!!!!!!!!! RT @user: The shit you hear abou...      0   \n\n                       userhandles  \n0                  [@mayasolovely]  \n1                       [@mleew17]  \n2  [@UrKindOfBrand, @80sbaby4life]  \n3     [@C_G_Anderson, @viva_based]  \n4                [@ShenikaRoberts]  ",
      "text/html": "<div>\n<style scoped>\n    .dataframe tbody tr th:only-of-type {\n        vertical-align: middle;\n    }\n\n    .dataframe tbody tr th {\n        vertical-align: top;\n    }\n\n    .dataframe thead th {\n        text-align: right;\n    }\n</style>\n<table border=\"1\" class=\"dataframe\">\n  <thead>\n    <tr style=\"text-align: right;\">\n      <th></th>\n      <th>count</th>\n      <th>hate_speech</th>\n      <th>offensive_language</th>\n      <th>neither</th>\n      <th>class</th>\n      <th>tweet</th>\n      <th>label</th>\n      <th>userhandles</th>\n    </tr>\n  </thead>\n  <tbody>\n    <tr>\n      <th>0</th>\n      <td>3</td>\n      <td>0</td>\n      <td>0</td>\n      <td>3</td>\n      <td>2</td>\n      <td>!!! RT @user: As a woman you shouldn't complai...</td>\n      <td>0</td>\n      <td>[@mayasolovely]</td>\n    </tr>\n    <tr>\n      <th>1</th>\n      <td>3</td>\n      <td>0</td>\n      <td>3</td>\n      <td>0</td>\n      <td>1</td>\n      <td>!!!!! RT @user: boy dats cold...tyga dwn bad f...</td>\n      <td>0</td>\n      <td>[@mleew17]</td>\n    </tr>\n    <tr>\n      <th>2</th>\n      <td>3</td>\n      <td>0</td>\n      <td>3</td>\n      <td>0</td>\n      <td>1</td>\n      <td>!!!!!!! RT @user Dawg!!!! RT @user: You ever f...</td>\n      <td>0</td>\n      <td>[@UrKindOfBrand, @80sbaby4life]</td>\n    </tr>\n    <tr>\n      <th>3</th>\n      <td>3</td>\n      <td>0</td>\n      <td>2</td>\n      <td>1</td>\n      <td>1</td>\n      <td>!!!!!!!!! RT @user: @user she look like a tranny</td>\n      <td>0</td>\n      <td>[@C_G_Anderson, @viva_based]</td>\n    </tr>\n    <tr>\n      <th>4</th>\n      <td>6</td>\n      <td>0</td>\n      <td>6</td>\n      <td>0</td>\n      <td>1</td>\n      <td>!!!!!!!!!!!!! RT @user: The shit you hear abou...</td>\n      <td>0</td>\n      <td>[@ShenikaRoberts]</td>\n    </tr>\n  </tbody>\n</table>\n</div>"
     },
     "execution_count": 20,
     "metadata": {},
     "output_type": "execute_result"
    }
   ],
   "source": [
    "df_offensive_raw.head()"
   ],
   "metadata": {
    "collapsed": false,
    "ExecuteTime": {
     "end_time": "2024-12-05T20:28:58.828419Z",
     "start_time": "2024-12-05T20:28:58.768452400Z"
    }
   }
  },
  {
   "cell_type": "markdown",
   "source": [
    "#### CSV speichern"
   ],
   "metadata": {
    "collapsed": false
   }
  },
  {
   "cell_type": "code",
   "execution_count": 21,
   "outputs": [],
   "source": [
    "df_offensive_new = df_offensive_raw[['tweet', 'label']]\n",
    "df_offensive_new.to_csv(\"hate-speech-and-offensive-language/new_data.csv\")"
   ],
   "metadata": {
    "collapsed": false,
    "ExecuteTime": {
     "end_time": "2024-12-05T20:28:59.043870900Z",
     "start_time": "2024-12-05T20:28:58.788463700Z"
    }
   }
  },
  {
   "cell_type": "markdown",
   "source": [
    "### Neue Daten einlesen & vereinheitlichen - detecting-offensive-language-in-tweets"
   ],
   "metadata": {
    "collapsed": false
   }
  },
  {
   "cell_type": "code",
   "execution_count": 22,
   "outputs": [
    {
     "data": {
      "text/plain": "                                                                tweet category\nid                                                                            \n572340447797903360  RT @colonelkickhead: Another bloody instant re...     none\n560934139403436032  @azzamalirhabi @JihadiA8 This video of the Pes...     none\n575597326519042050  Oh really? No more instant restaurants? THAT'S...     none\n552487055553757187  RT @Benfrancisallen: It hasn't been a good few...     none\n563306298788151300  RT @NoToFeminism: I don’t need femisnsn becaus...     none\n562782575656435717      @MariachiMacabre 19% is not the vast majority     none\n571776252656287744  @DianH4 @ExposeFalsehood And it is Muslims who...   racism\n567015045561712641  @truaemusic @mattybboi83 @Number10gov Capital ...   racism\n565363767090085896  RT @fruitondabottom: #FeminismisEQUALITYwhen M...   sexism\n563084011489480704  Gather round, kids. It's story time, brought t...     none",
      "text/html": "<div>\n<style scoped>\n    .dataframe tbody tr th:only-of-type {\n        vertical-align: middle;\n    }\n\n    .dataframe tbody tr th {\n        vertical-align: top;\n    }\n\n    .dataframe thead th {\n        text-align: right;\n    }\n</style>\n<table border=\"1\" class=\"dataframe\">\n  <thead>\n    <tr style=\"text-align: right;\">\n      <th></th>\n      <th>tweet</th>\n      <th>category</th>\n    </tr>\n    <tr>\n      <th>id</th>\n      <th></th>\n      <th></th>\n    </tr>\n  </thead>\n  <tbody>\n    <tr>\n      <th>572340447797903360</th>\n      <td>RT @colonelkickhead: Another bloody instant re...</td>\n      <td>none</td>\n    </tr>\n    <tr>\n      <th>560934139403436032</th>\n      <td>@azzamalirhabi @JihadiA8 This video of the Pes...</td>\n      <td>none</td>\n    </tr>\n    <tr>\n      <th>575597326519042050</th>\n      <td>Oh really? No more instant restaurants? THAT'S...</td>\n      <td>none</td>\n    </tr>\n    <tr>\n      <th>552487055553757187</th>\n      <td>RT @Benfrancisallen: It hasn't been a good few...</td>\n      <td>none</td>\n    </tr>\n    <tr>\n      <th>563306298788151300</th>\n      <td>RT @NoToFeminism: I don’t need femisnsn becaus...</td>\n      <td>none</td>\n    </tr>\n    <tr>\n      <th>562782575656435717</th>\n      <td>@MariachiMacabre 19% is not the vast majority</td>\n      <td>none</td>\n    </tr>\n    <tr>\n      <th>571776252656287744</th>\n      <td>@DianH4 @ExposeFalsehood And it is Muslims who...</td>\n      <td>racism</td>\n    </tr>\n    <tr>\n      <th>567015045561712641</th>\n      <td>@truaemusic @mattybboi83 @Number10gov Capital ...</td>\n      <td>racism</td>\n    </tr>\n    <tr>\n      <th>565363767090085896</th>\n      <td>RT @fruitondabottom: #FeminismisEQUALITYwhen M...</td>\n      <td>sexism</td>\n    </tr>\n    <tr>\n      <th>563084011489480704</th>\n      <td>Gather round, kids. It's story time, brought t...</td>\n      <td>none</td>\n    </tr>\n  </tbody>\n</table>\n</div>"
     },
     "execution_count": 22,
     "metadata": {},
     "output_type": "execute_result"
    }
   ],
   "source": [
    "df_detecting_raw = pd.read_csv(\"detecting-offensive-language-in-tweets/ORIGINAL_DATA.csv\", index_col=0, on_bad_lines='warn', delimiter='\\t', names=['id', 'tweet', 'category'])\n",
    "df_detecting_raw.head(10)"
   ],
   "metadata": {
    "collapsed": false,
    "ExecuteTime": {
     "end_time": "2024-12-05T20:28:59.048393100Z",
     "start_time": "2024-12-05T20:28:58.951584700Z"
    }
   }
  },
  {
   "cell_type": "code",
   "execution_count": 23,
   "outputs": [
    {
     "name": "stdout",
     "output_type": "stream",
     "text": [
      "<class 'pandas.core.frame.DataFrame'>\n",
      "Int64Index: 16050 entries, 572340447797903360 to 564921657240735744\n",
      "Data columns (total 2 columns):\n",
      " #   Column    Non-Null Count  Dtype \n",
      "---  ------    --------------  ----- \n",
      " 0   tweet     16050 non-null  object\n",
      " 1   category  16050 non-null  object\n",
      "dtypes: object(2)\n",
      "memory usage: 376.2+ KB\n"
     ]
    }
   ],
   "source": [
    "df_detecting_raw.info()"
   ],
   "metadata": {
    "collapsed": false,
    "ExecuteTime": {
     "end_time": "2024-12-05T20:28:59.188256200Z",
     "start_time": "2024-12-05T20:28:59.048393100Z"
    }
   }
  },
  {
   "cell_type": "markdown",
   "source": [
    "#### Label erstellen"
   ],
   "metadata": {
    "collapsed": false
   }
  },
  {
   "cell_type": "code",
   "execution_count": 24,
   "outputs": [
    {
     "data": {
      "text/plain": "                                                                tweet  \\\nid                                                                      \n572340447797903360  RT @colonelkickhead: Another bloody instant re...   \n560934139403436032  @azzamalirhabi @JihadiA8 This video of the Pes...   \n575597326519042050  Oh really? No more instant restaurants? THAT'S...   \n552487055553757187  RT @Benfrancisallen: It hasn't been a good few...   \n563306298788151300  RT @NoToFeminism: I don’t need femisnsn becaus...   \n562782575656435717      @MariachiMacabre 19% is not the vast majority   \n571776252656287744  @DianH4 @ExposeFalsehood And it is Muslims who...   \n567015045561712641  @truaemusic @mattybboi83 @Number10gov Capital ...   \n565363767090085896  RT @fruitondabottom: #FeminismisEQUALITYwhen M...   \n563084011489480704  Gather round, kids. It's story time, brought t...   \n\n                   category  label  \nid                                  \n572340447797903360     none      0  \n560934139403436032     none      0  \n575597326519042050     none      0  \n552487055553757187     none      0  \n563306298788151300     none      0  \n562782575656435717     none      0  \n571776252656287744   racism      1  \n567015045561712641   racism      1  \n565363767090085896   sexism      1  \n563084011489480704     none      0  ",
      "text/html": "<div>\n<style scoped>\n    .dataframe tbody tr th:only-of-type {\n        vertical-align: middle;\n    }\n\n    .dataframe tbody tr th {\n        vertical-align: top;\n    }\n\n    .dataframe thead th {\n        text-align: right;\n    }\n</style>\n<table border=\"1\" class=\"dataframe\">\n  <thead>\n    <tr style=\"text-align: right;\">\n      <th></th>\n      <th>tweet</th>\n      <th>category</th>\n      <th>label</th>\n    </tr>\n    <tr>\n      <th>id</th>\n      <th></th>\n      <th></th>\n      <th></th>\n    </tr>\n  </thead>\n  <tbody>\n    <tr>\n      <th>572340447797903360</th>\n      <td>RT @colonelkickhead: Another bloody instant re...</td>\n      <td>none</td>\n      <td>0</td>\n    </tr>\n    <tr>\n      <th>560934139403436032</th>\n      <td>@azzamalirhabi @JihadiA8 This video of the Pes...</td>\n      <td>none</td>\n      <td>0</td>\n    </tr>\n    <tr>\n      <th>575597326519042050</th>\n      <td>Oh really? No more instant restaurants? THAT'S...</td>\n      <td>none</td>\n      <td>0</td>\n    </tr>\n    <tr>\n      <th>552487055553757187</th>\n      <td>RT @Benfrancisallen: It hasn't been a good few...</td>\n      <td>none</td>\n      <td>0</td>\n    </tr>\n    <tr>\n      <th>563306298788151300</th>\n      <td>RT @NoToFeminism: I don’t need femisnsn becaus...</td>\n      <td>none</td>\n      <td>0</td>\n    </tr>\n    <tr>\n      <th>562782575656435717</th>\n      <td>@MariachiMacabre 19% is not the vast majority</td>\n      <td>none</td>\n      <td>0</td>\n    </tr>\n    <tr>\n      <th>571776252656287744</th>\n      <td>@DianH4 @ExposeFalsehood And it is Muslims who...</td>\n      <td>racism</td>\n      <td>1</td>\n    </tr>\n    <tr>\n      <th>567015045561712641</th>\n      <td>@truaemusic @mattybboi83 @Number10gov Capital ...</td>\n      <td>racism</td>\n      <td>1</td>\n    </tr>\n    <tr>\n      <th>565363767090085896</th>\n      <td>RT @fruitondabottom: #FeminismisEQUALITYwhen M...</td>\n      <td>sexism</td>\n      <td>1</td>\n    </tr>\n    <tr>\n      <th>563084011489480704</th>\n      <td>Gather round, kids. It's story time, brought t...</td>\n      <td>none</td>\n      <td>0</td>\n    </tr>\n  </tbody>\n</table>\n</div>"
     },
     "execution_count": 24,
     "metadata": {},
     "output_type": "execute_result"
    }
   ],
   "source": [
    "df_detecting_raw['category'] = df_detecting_raw['category'].str.strip()\n",
    "\n",
    "df_detecting_raw['label'] = df_detecting_raw['category'].replace({\n",
    "    \"racism\":1,\n",
    "    \"sexism\":1,\n",
    "    \"none\":0,\n",
    "})\n",
    "df_detecting_raw.head(10)"
   ],
   "metadata": {
    "collapsed": false,
    "ExecuteTime": {
     "end_time": "2024-12-05T20:28:59.218483900Z",
     "start_time": "2024-12-05T20:28:59.078598500Z"
    }
   }
  },
  {
   "cell_type": "code",
   "execution_count": 25,
   "outputs": [
    {
     "data": {
      "text/plain": "0    11008\n1     5042\nName: label, dtype: int64"
     },
     "execution_count": 25,
     "metadata": {},
     "output_type": "execute_result"
    }
   ],
   "source": [
    "df_detecting_raw.label.value_counts()"
   ],
   "metadata": {
    "collapsed": false,
    "ExecuteTime": {
     "end_time": "2024-12-05T20:28:59.218483900Z",
     "start_time": "2024-12-05T20:28:59.128310300Z"
    }
   }
  },
  {
   "cell_type": "markdown",
   "source": [
    "#### Userhandles anonymisieren"
   ],
   "metadata": {
    "collapsed": false
   }
  },
  {
   "cell_type": "code",
   "execution_count": 26,
   "outputs": [
    {
     "data": {
      "text/plain": "                                                                tweet  \\\nid                                                                      \n572340447797903360  RT @user: Another bloody instant restaurant we...   \n560934139403436032  @user @user This video of the Peshmerga decima...   \n575597326519042050  Oh really? No more instant restaurants? THAT'S...   \n552487055553757187  RT @user: It hasn't been a good few weeks for ...   \n563306298788151300  RT @user: I don’t need femisnsn because men ca...   \n...                                                               ...   \n552245992721252352  RT @user: #ISIS #Islam PC Puzzle: Converting t...   \n575950853644775424         RT @user: Mmm maple bacon is the bomb #mkr   \n575506339029352449  @user @user Lol. You think there are no probs ...   \n576094128997412864  @user the sourcelist is now dynamically genera...   \n576696883256500225  @user @user @user terrorists that have taken t...   \n\n                   category  label                                 userhandles  \nid                                                                              \n572340447797903360     none      0                          [@colonelkickhead]  \n560934139403436032     none      0                 [@azzamalirhabi, @JihadiA8]  \n575597326519042050     none      0                                          []  \n552487055553757187     none      0                          [@Benfrancisallen]  \n563306298788151300     none      0                             [@NoToFeminism]  \n...                     ...    ...                                         ...  \n552245992721252352   racism      1                           [@PeterTownsend7]  \n575950853644775424     none      0                                    [@sl473]  \n575506339029352449   racism      1                 [@BabaKristian, @MuftahOrg]  \n576094128997412864     none      0                            [@MoerasGrizzly]  \n576696883256500225   racism      1  [@AAlwuhaib1977, @dankmtl, @PeaceNotHate_]  \n\n[100 rows x 4 columns]",
      "text/html": "<div>\n<style scoped>\n    .dataframe tbody tr th:only-of-type {\n        vertical-align: middle;\n    }\n\n    .dataframe tbody tr th {\n        vertical-align: top;\n    }\n\n    .dataframe thead th {\n        text-align: right;\n    }\n</style>\n<table border=\"1\" class=\"dataframe\">\n  <thead>\n    <tr style=\"text-align: right;\">\n      <th></th>\n      <th>tweet</th>\n      <th>category</th>\n      <th>label</th>\n      <th>userhandles</th>\n    </tr>\n    <tr>\n      <th>id</th>\n      <th></th>\n      <th></th>\n      <th></th>\n      <th></th>\n    </tr>\n  </thead>\n  <tbody>\n    <tr>\n      <th>572340447797903360</th>\n      <td>RT @user: Another bloody instant restaurant we...</td>\n      <td>none</td>\n      <td>0</td>\n      <td>[@colonelkickhead]</td>\n    </tr>\n    <tr>\n      <th>560934139403436032</th>\n      <td>@user @user This video of the Peshmerga decima...</td>\n      <td>none</td>\n      <td>0</td>\n      <td>[@azzamalirhabi, @JihadiA8]</td>\n    </tr>\n    <tr>\n      <th>575597326519042050</th>\n      <td>Oh really? No more instant restaurants? THAT'S...</td>\n      <td>none</td>\n      <td>0</td>\n      <td>[]</td>\n    </tr>\n    <tr>\n      <th>552487055553757187</th>\n      <td>RT @user: It hasn't been a good few weeks for ...</td>\n      <td>none</td>\n      <td>0</td>\n      <td>[@Benfrancisallen]</td>\n    </tr>\n    <tr>\n      <th>563306298788151300</th>\n      <td>RT @user: I don’t need femisnsn because men ca...</td>\n      <td>none</td>\n      <td>0</td>\n      <td>[@NoToFeminism]</td>\n    </tr>\n    <tr>\n      <th>...</th>\n      <td>...</td>\n      <td>...</td>\n      <td>...</td>\n      <td>...</td>\n    </tr>\n    <tr>\n      <th>552245992721252352</th>\n      <td>RT @user: #ISIS #Islam PC Puzzle: Converting t...</td>\n      <td>racism</td>\n      <td>1</td>\n      <td>[@PeterTownsend7]</td>\n    </tr>\n    <tr>\n      <th>575950853644775424</th>\n      <td>RT @user: Mmm maple bacon is the bomb #mkr</td>\n      <td>none</td>\n      <td>0</td>\n      <td>[@sl473]</td>\n    </tr>\n    <tr>\n      <th>575506339029352449</th>\n      <td>@user @user Lol. You think there are no probs ...</td>\n      <td>racism</td>\n      <td>1</td>\n      <td>[@BabaKristian, @MuftahOrg]</td>\n    </tr>\n    <tr>\n      <th>576094128997412864</th>\n      <td>@user the sourcelist is now dynamically genera...</td>\n      <td>none</td>\n      <td>0</td>\n      <td>[@MoerasGrizzly]</td>\n    </tr>\n    <tr>\n      <th>576696883256500225</th>\n      <td>@user @user @user terrorists that have taken t...</td>\n      <td>racism</td>\n      <td>1</td>\n      <td>[@AAlwuhaib1977, @dankmtl, @PeaceNotHate_]</td>\n    </tr>\n  </tbody>\n</table>\n<p>100 rows × 4 columns</p>\n</div>"
     },
     "execution_count": 26,
     "metadata": {},
     "output_type": "execute_result"
    }
   ],
   "source": [
    "df_detecting_raw['userhandles'] = [re.findall(r'@\\w+', x) if re.findall(r'@\\w+', x) else [] for x in df_detecting_raw['tweet']]\n",
    "df_detecting_raw['tweet'] = df_detecting_raw['tweet'].str.replace(r'@\\w+', '@user', regex=True)\n",
    "df_detecting_raw.head(100)"
   ],
   "metadata": {
    "collapsed": false,
    "ExecuteTime": {
     "end_time": "2024-12-05T20:28:59.508402300Z",
     "start_time": "2024-12-05T20:28:59.128310300Z"
    }
   }
  },
  {
   "cell_type": "markdown",
   "source": [
    "#### CSV speichern"
   ],
   "metadata": {
    "collapsed": false
   }
  },
  {
   "cell_type": "code",
   "execution_count": 27,
   "outputs": [],
   "source": [
    "df_detecting_new = df_detecting_raw[['tweet', 'label']]\n",
    "df_detecting_new.to_csv(\"detecting-offensive-language-in-tweets/new_data.csv\")"
   ],
   "metadata": {
    "collapsed": false,
    "ExecuteTime": {
     "end_time": "2024-12-05T20:28:59.598471600Z",
     "start_time": "2024-12-05T20:28:59.268169100Z"
    }
   }
  },
  {
   "cell_type": "markdown",
   "source": [
    "### Neue Daten einlesen & vereinheitlichen - measuring-hate-speech"
   ],
   "metadata": {
    "collapsed": false
   }
  },
  {
   "cell_type": "code",
   "execution_count": 28,
   "outputs": [
    {
     "data": {
      "text/plain": "   comment_id  annotator_id  platform  sentiment  respect  insult  humiliate  \\\n0       47777         10873         3        0.0      0.0     0.0        0.0   \n1       39773          2790         2        0.0      0.0     0.0        0.0   \n2       47101          3379         3        4.0      4.0     4.0        4.0   \n3       43625          7365         3        2.0      3.0     2.0        1.0   \n4       12538           488         0        4.0      4.0     4.0        4.0   \n\n   status  dehumanize  violence  ...  annotator_religion_hindu  \\\n0     2.0         0.0       0.0  ...                     False   \n1     2.0         0.0       0.0  ...                     False   \n2     4.0         4.0       0.0  ...                     False   \n3     2.0         0.0       0.0  ...                     False   \n4     4.0         4.0       4.0  ...                     False   \n\n   annotator_religion_jewish  annotator_religion_mormon  \\\n0                      False                      False   \n1                      False                      False   \n2                      False                      False   \n3                      False                      False   \n4                      False                      False   \n\n   annotator_religion_muslim annotator_religion_nothing  \\\n0                      False                      False   \n1                      False                      False   \n2                      False                       True   \n3                      False                      False   \n4                      False                      False   \n\n   annotator_religion_other  annotator_sexuality_bisexual  \\\n0                     False                         False   \n1                     False                         False   \n2                     False                         False   \n3                     False                         False   \n4                     False                         False   \n\n   annotator_sexuality_gay  annotator_sexuality_straight  \\\n0                    False                          True   \n1                    False                          True   \n2                    False                          True   \n3                    False                          True   \n4                    False                          True   \n\n   annotator_sexuality_other  \n0                      False  \n1                      False  \n2                      False  \n3                      False  \n4                      False  \n\n[5 rows x 131 columns]",
      "text/html": "<div>\n<style scoped>\n    .dataframe tbody tr th:only-of-type {\n        vertical-align: middle;\n    }\n\n    .dataframe tbody tr th {\n        vertical-align: top;\n    }\n\n    .dataframe thead th {\n        text-align: right;\n    }\n</style>\n<table border=\"1\" class=\"dataframe\">\n  <thead>\n    <tr style=\"text-align: right;\">\n      <th></th>\n      <th>comment_id</th>\n      <th>annotator_id</th>\n      <th>platform</th>\n      <th>sentiment</th>\n      <th>respect</th>\n      <th>insult</th>\n      <th>humiliate</th>\n      <th>status</th>\n      <th>dehumanize</th>\n      <th>violence</th>\n      <th>...</th>\n      <th>annotator_religion_hindu</th>\n      <th>annotator_religion_jewish</th>\n      <th>annotator_religion_mormon</th>\n      <th>annotator_religion_muslim</th>\n      <th>annotator_religion_nothing</th>\n      <th>annotator_religion_other</th>\n      <th>annotator_sexuality_bisexual</th>\n      <th>annotator_sexuality_gay</th>\n      <th>annotator_sexuality_straight</th>\n      <th>annotator_sexuality_other</th>\n    </tr>\n  </thead>\n  <tbody>\n    <tr>\n      <th>0</th>\n      <td>47777</td>\n      <td>10873</td>\n      <td>3</td>\n      <td>0.0</td>\n      <td>0.0</td>\n      <td>0.0</td>\n      <td>0.0</td>\n      <td>2.0</td>\n      <td>0.0</td>\n      <td>0.0</td>\n      <td>...</td>\n      <td>False</td>\n      <td>False</td>\n      <td>False</td>\n      <td>False</td>\n      <td>False</td>\n      <td>False</td>\n      <td>False</td>\n      <td>False</td>\n      <td>True</td>\n      <td>False</td>\n    </tr>\n    <tr>\n      <th>1</th>\n      <td>39773</td>\n      <td>2790</td>\n      <td>2</td>\n      <td>0.0</td>\n      <td>0.0</td>\n      <td>0.0</td>\n      <td>0.0</td>\n      <td>2.0</td>\n      <td>0.0</td>\n      <td>0.0</td>\n      <td>...</td>\n      <td>False</td>\n      <td>False</td>\n      <td>False</td>\n      <td>False</td>\n      <td>False</td>\n      <td>False</td>\n      <td>False</td>\n      <td>False</td>\n      <td>True</td>\n      <td>False</td>\n    </tr>\n    <tr>\n      <th>2</th>\n      <td>47101</td>\n      <td>3379</td>\n      <td>3</td>\n      <td>4.0</td>\n      <td>4.0</td>\n      <td>4.0</td>\n      <td>4.0</td>\n      <td>4.0</td>\n      <td>4.0</td>\n      <td>0.0</td>\n      <td>...</td>\n      <td>False</td>\n      <td>False</td>\n      <td>False</td>\n      <td>False</td>\n      <td>True</td>\n      <td>False</td>\n      <td>False</td>\n      <td>False</td>\n      <td>True</td>\n      <td>False</td>\n    </tr>\n    <tr>\n      <th>3</th>\n      <td>43625</td>\n      <td>7365</td>\n      <td>3</td>\n      <td>2.0</td>\n      <td>3.0</td>\n      <td>2.0</td>\n      <td>1.0</td>\n      <td>2.0</td>\n      <td>0.0</td>\n      <td>0.0</td>\n      <td>...</td>\n      <td>False</td>\n      <td>False</td>\n      <td>False</td>\n      <td>False</td>\n      <td>False</td>\n      <td>False</td>\n      <td>False</td>\n      <td>False</td>\n      <td>True</td>\n      <td>False</td>\n    </tr>\n    <tr>\n      <th>4</th>\n      <td>12538</td>\n      <td>488</td>\n      <td>0</td>\n      <td>4.0</td>\n      <td>4.0</td>\n      <td>4.0</td>\n      <td>4.0</td>\n      <td>4.0</td>\n      <td>4.0</td>\n      <td>4.0</td>\n      <td>...</td>\n      <td>False</td>\n      <td>False</td>\n      <td>False</td>\n      <td>False</td>\n      <td>False</td>\n      <td>False</td>\n      <td>False</td>\n      <td>False</td>\n      <td>True</td>\n      <td>False</td>\n    </tr>\n  </tbody>\n</table>\n<p>5 rows × 131 columns</p>\n</div>"
     },
     "execution_count": 28,
     "metadata": {},
     "output_type": "execute_result"
    }
   ],
   "source": [
    "df_measuring_raw = pd.read_parquet(\"measuring-hate-speech/ORIGINAL_DATA.parquet\")\n",
    "df_measuring_raw.head()"
   ],
   "metadata": {
    "collapsed": false,
    "ExecuteTime": {
     "end_time": "2024-12-05T20:29:00.028409Z",
     "start_time": "2024-12-05T20:28:59.388411300Z"
    }
   }
  },
  {
   "cell_type": "code",
   "execution_count": 29,
   "outputs": [
    {
     "name": "stdout",
     "output_type": "stream",
     "text": [
      "<class 'pandas.core.frame.DataFrame'>\n",
      "RangeIndex: 135556 entries, 0 to 135555\n",
      "Columns: 131 entries, comment_id to annotator_sexuality_other\n",
      "dtypes: bool(103), float64(19), int32(2), int8(1), object(6)\n",
      "memory usage: 40.3+ MB\n"
     ]
    }
   ],
   "source": [
    "df_measuring_raw.info()"
   ],
   "metadata": {
    "collapsed": false,
    "ExecuteTime": {
     "end_time": "2024-12-05T20:29:00.168550600Z",
     "start_time": "2024-12-05T20:29:00.008142800Z"
    }
   }
  },
  {
   "cell_type": "code",
   "execution_count": 30,
   "outputs": [],
   "source": [
    "df_measuring_raw['label'] = (df_measuring_raw['hatespeech'] == 2.0).astype(int)"
   ],
   "metadata": {
    "collapsed": false,
    "ExecuteTime": {
     "end_time": "2024-12-05T20:29:00.208463600Z",
     "start_time": "2024-12-05T20:29:00.052439100Z"
    }
   }
  },
  {
   "cell_type": "code",
   "execution_count": 31,
   "outputs": [
    {
     "data": {
      "text/plain": "0    89535\n1    46021\nName: label, dtype: int64"
     },
     "execution_count": 31,
     "metadata": {},
     "output_type": "execute_result"
    }
   ],
   "source": [
    "df_measuring_raw.label.value_counts()"
   ],
   "metadata": {
    "collapsed": false,
    "ExecuteTime": {
     "end_time": "2024-12-05T20:29:00.214225700Z",
     "start_time": "2024-12-05T20:29:00.068410600Z"
    }
   }
  },
  {
   "cell_type": "code",
   "execution_count": 32,
   "outputs": [
    {
     "data": {
      "text/plain": "                                                    tweet  label\n0       Yes indeed. She sort of reminds me of the elde...      0\n1       The trans women reading this tweet right now i...      0\n2       Question: These 4 broads who criticize America...      1\n3       It is about time for all illegals to go back t...      0\n4       For starters bend over the one in pink and kic...      1\n...                                                   ...    ...\n135551  عاجل سماحة #السيد_عبدالملك_بدرالدين_الحوثي  نص...      0\n135552  Millions of #Yemen-is participated in mass ral...      0\n135553  @AbeShinzo @realDonaldTrump @shinzoabe 独裁者は行きま...      0\n135554  Millions of #Yemen-is participated in mass ral...      0\n135555  لا تتشمت الرجال مسكين يعاني كس امه 😂. يقول يال...      1\n\n[135556 rows x 2 columns]",
      "text/html": "<div>\n<style scoped>\n    .dataframe tbody tr th:only-of-type {\n        vertical-align: middle;\n    }\n\n    .dataframe tbody tr th {\n        vertical-align: top;\n    }\n\n    .dataframe thead th {\n        text-align: right;\n    }\n</style>\n<table border=\"1\" class=\"dataframe\">\n  <thead>\n    <tr style=\"text-align: right;\">\n      <th></th>\n      <th>tweet</th>\n      <th>label</th>\n    </tr>\n  </thead>\n  <tbody>\n    <tr>\n      <th>0</th>\n      <td>Yes indeed. She sort of reminds me of the elde...</td>\n      <td>0</td>\n    </tr>\n    <tr>\n      <th>1</th>\n      <td>The trans women reading this tweet right now i...</td>\n      <td>0</td>\n    </tr>\n    <tr>\n      <th>2</th>\n      <td>Question: These 4 broads who criticize America...</td>\n      <td>1</td>\n    </tr>\n    <tr>\n      <th>3</th>\n      <td>It is about time for all illegals to go back t...</td>\n      <td>0</td>\n    </tr>\n    <tr>\n      <th>4</th>\n      <td>For starters bend over the one in pink and kic...</td>\n      <td>1</td>\n    </tr>\n    <tr>\n      <th>...</th>\n      <td>...</td>\n      <td>...</td>\n    </tr>\n    <tr>\n      <th>135551</th>\n      <td>عاجل سماحة #السيد_عبدالملك_بدرالدين_الحوثي  نص...</td>\n      <td>0</td>\n    </tr>\n    <tr>\n      <th>135552</th>\n      <td>Millions of #Yemen-is participated in mass ral...</td>\n      <td>0</td>\n    </tr>\n    <tr>\n      <th>135553</th>\n      <td>@AbeShinzo @realDonaldTrump @shinzoabe 独裁者は行きま...</td>\n      <td>0</td>\n    </tr>\n    <tr>\n      <th>135554</th>\n      <td>Millions of #Yemen-is participated in mass ral...</td>\n      <td>0</td>\n    </tr>\n    <tr>\n      <th>135555</th>\n      <td>لا تتشمت الرجال مسكين يعاني كس امه 😂. يقول يال...</td>\n      <td>1</td>\n    </tr>\n  </tbody>\n</table>\n<p>135556 rows × 2 columns</p>\n</div>"
     },
     "execution_count": 32,
     "metadata": {},
     "output_type": "execute_result"
    }
   ],
   "source": [
    "df_measuring_raw = df_measuring_raw[['text', 'label']]\n",
    "df_measuring_raw.rename(columns={'text':'tweet'}, inplace=True)\n",
    "df_measuring_raw"
   ],
   "metadata": {
    "collapsed": false,
    "ExecuteTime": {
     "end_time": "2024-12-05T20:29:00.214225700Z",
     "start_time": "2024-12-05T20:29:00.088497400Z"
    }
   }
  },
  {
   "cell_type": "markdown",
   "source": [
    "#### Userhandles anonymisieren"
   ],
   "metadata": {
    "collapsed": false
   }
  },
  {
   "cell_type": "code",
   "execution_count": 33,
   "outputs": [
    {
     "data": {
      "text/plain": "                                               tweet  label userhandles\n0  Yes indeed. She sort of reminds me of the elde...      0          []\n1  The trans women reading this tweet right now i...      0          []\n2  Question: These 4 broads who criticize America...      1          []\n3  It is about time for all illegals to go back t...      0          []\n4  For starters bend over the one in pink and kic...      1          []",
      "text/html": "<div>\n<style scoped>\n    .dataframe tbody tr th:only-of-type {\n        vertical-align: middle;\n    }\n\n    .dataframe tbody tr th {\n        vertical-align: top;\n    }\n\n    .dataframe thead th {\n        text-align: right;\n    }\n</style>\n<table border=\"1\" class=\"dataframe\">\n  <thead>\n    <tr style=\"text-align: right;\">\n      <th></th>\n      <th>tweet</th>\n      <th>label</th>\n      <th>userhandles</th>\n    </tr>\n  </thead>\n  <tbody>\n    <tr>\n      <th>0</th>\n      <td>Yes indeed. She sort of reminds me of the elde...</td>\n      <td>0</td>\n      <td>[]</td>\n    </tr>\n    <tr>\n      <th>1</th>\n      <td>The trans women reading this tweet right now i...</td>\n      <td>0</td>\n      <td>[]</td>\n    </tr>\n    <tr>\n      <th>2</th>\n      <td>Question: These 4 broads who criticize America...</td>\n      <td>1</td>\n      <td>[]</td>\n    </tr>\n    <tr>\n      <th>3</th>\n      <td>It is about time for all illegals to go back t...</td>\n      <td>0</td>\n      <td>[]</td>\n    </tr>\n    <tr>\n      <th>4</th>\n      <td>For starters bend over the one in pink and kic...</td>\n      <td>1</td>\n      <td>[]</td>\n    </tr>\n  </tbody>\n</table>\n</div>"
     },
     "execution_count": 33,
     "metadata": {},
     "output_type": "execute_result"
    }
   ],
   "source": [
    "df_measuring_raw['userhandles'] = [re.findall(r'@\\w+', x) if re.findall(r'@\\w+', x) else [] for x in df_measuring_raw['tweet']]\n",
    "df_measuring_raw['tweet'] = df_measuring_raw['tweet'].str.replace(r'@\\w+', '@user', regex=True)\n",
    "df_measuring_raw.head()"
   ],
   "metadata": {
    "collapsed": false,
    "ExecuteTime": {
     "end_time": "2024-12-05T20:29:00.758456500Z",
     "start_time": "2024-12-05T20:29:00.128592400Z"
    }
   }
  },
  {
   "cell_type": "code",
   "execution_count": 34,
   "outputs": [
    {
     "data": {
      "text/plain": "[]                                                                  119352\n[@Legionary1488, @JomavaesJos]                                         799\n[@Cam_Coles]                                                           793\n[@JihadistJoe]                                                         772\n[@iamkrause]                                                           767\n                                                                     ...  \n[@SWRTxxx, @CicisSWPromo, @Lewd_Dudes, @MoondustRT, @QueerBabes]         1\n[@David_Mahfood]                                                         1\n[@StemCell]                                                              1\n[@ResistProfessor, @PinkIguana11]                                        1\n[@rextrekr, @peterdaou]                                                  1\nName: userhandles, Length: 4820, dtype: int64"
     },
     "execution_count": 34,
     "metadata": {},
     "output_type": "execute_result"
    }
   ],
   "source": [
    "df_measuring_raw.userhandles.value_counts()"
   ],
   "metadata": {
    "collapsed": false,
    "ExecuteTime": {
     "end_time": "2024-12-05T20:29:03.138444900Z",
     "start_time": "2024-12-05T20:29:03.125597900Z"
    }
   }
  },
  {
   "cell_type": "markdown",
   "source": [
    "#### CSV speichern"
   ],
   "metadata": {
    "collapsed": false
   }
  },
  {
   "cell_type": "code",
   "execution_count": 35,
   "outputs": [],
   "source": [
    "df_measuring_new = df_measuring_raw[['tweet', 'label']]\n",
    "df_measuring_new.to_csv(\"measuring-hate-speech/new_data.csv\")"
   ],
   "metadata": {
    "collapsed": false,
    "ExecuteTime": {
     "end_time": "2024-12-05T20:29:04.023380600Z",
     "start_time": "2024-12-05T20:29:03.138444900Z"
    }
   }
  },
  {
   "cell_type": "markdown",
   "source": [
    "### Neue Daten einlesen & vereinheitlichen - Benchmark GAB/REDDIT"
   ],
   "metadata": {
    "collapsed": false
   }
  },
  {
   "cell_type": "code",
   "execution_count": 36,
   "outputs": [],
   "source": [
    "# todo"
   ],
   "metadata": {
    "collapsed": false,
    "ExecuteTime": {
     "end_time": "2024-12-05T20:29:04.058421900Z",
     "start_time": "2024-12-05T20:29:04.023380600Z"
    }
   }
  },
  {
   "cell_type": "markdown",
   "source": [
    "### Datensätze zusammenführen"
   ],
   "metadata": {
    "collapsed": false
   }
  },
  {
   "cell_type": "code",
   "execution_count": 11,
   "outputs": [],
   "source": [
    "df_measuring_new = pd.read_csv(\"measuring-hate-speech/new_data.csv\", index_col=0)\n",
    "df_offensive_new = pd.read_csv(\"hate-speech-and-offensive-language/new_data.csv\", index_col=0)\n",
    "df_detecting_new = pd.read_csv(\"detecting-offensive-language-in-tweets/new_data.csv\", index_col=0)"
   ],
   "metadata": {
    "collapsed": false,
    "ExecuteTime": {
     "end_time": "2024-12-05T20:36:42.099073200Z",
     "start_time": "2024-12-05T20:36:41.708962200Z"
    }
   }
  },
  {
   "cell_type": "code",
   "execution_count": 12,
   "outputs": [
    {
     "name": "stdout",
     "output_type": "stream",
     "text": [
      "                                               tweet  label\n",
      "0  Yes indeed. She sort of reminds me of the elde...      0\n",
      "1  The trans women reading this tweet right now i...      0\n",
      "2  Question: These 4 broads who criticize America...      1\n",
      "3  It is about time for all illegals to go back t...      0\n",
      "4  For starters bend over the one in pink and kic...      1\n",
      "                                               tweet  label\n",
      "0  !!! RT @user: As a woman you shouldn't complai...      0\n",
      "1  !!!!! RT @user: boy dats cold...tyga dwn bad f...      0\n",
      "2  !!!!!!! RT @user Dawg!!!! RT @user: You ever f...      0\n",
      "3   !!!!!!!!! RT @user: @user she look like a tranny      0\n",
      "4  !!!!!!!!!!!!! RT @user: The shit you hear abou...      0\n",
      "                                                                tweet  label\n",
      "id                                                                          \n",
      "572340447797903360  RT @user: Another bloody instant restaurant we...      0\n",
      "560934139403436032  @user @user This video of the Peshmerga decima...      0\n",
      "575597326519042050  Oh really? No more instant restaurants? THAT'S...      0\n",
      "552487055553757187  RT @user: It hasn't been a good few weeks for ...      0\n",
      "563306298788151300  RT @user: I don’t need femisnsn because men ca...      0\n"
     ]
    }
   ],
   "source": [
    "print(df_measuring_new.head())\n",
    "print(df_offensive_new.head())\n",
    "print(df_detecting_new.head())"
   ],
   "metadata": {
    "collapsed": false,
    "ExecuteTime": {
     "end_time": "2024-12-05T20:36:42.118709100Z",
     "start_time": "2024-12-05T20:36:42.099073200Z"
    }
   }
  },
  {
   "cell_type": "code",
   "execution_count": 13,
   "outputs": [],
   "source": [
    "df_new = pd.concat([df_measuring_new, df_offensive_new, df_detecting_new])"
   ],
   "metadata": {
    "collapsed": false,
    "ExecuteTime": {
     "end_time": "2024-12-05T20:36:44.218799700Z",
     "start_time": "2024-12-05T20:36:44.204797500Z"
    }
   }
  },
  {
   "cell_type": "code",
   "execution_count": 6,
   "outputs": [
    {
     "name": "stdout",
     "output_type": "stream",
     "text": [
      "<class 'pandas.core.frame.DataFrame'>\n",
      "Int64Index: 176389 entries, 0 to 564921657240735744\n",
      "Data columns (total 2 columns):\n",
      " #   Column  Non-Null Count   Dtype \n",
      "---  ------  --------------   ----- \n",
      " 0   tweet   176389 non-null  object\n",
      " 1   label   176389 non-null  int64 \n",
      "dtypes: int64(1), object(1)\n",
      "memory usage: 4.0+ MB\n"
     ]
    }
   ],
   "source": [
    "df_new.info()"
   ],
   "metadata": {
    "collapsed": false,
    "ExecuteTime": {
     "end_time": "2024-12-05T20:35:14.863863800Z",
     "start_time": "2024-12-05T20:35:14.803879500Z"
    }
   }
  },
  {
   "cell_type": "code",
   "execution_count": 7,
   "outputs": [
    {
     "data": {
      "text/plain": "0    123896\n1     52493\nName: label, dtype: int64"
     },
     "execution_count": 7,
     "metadata": {},
     "output_type": "execute_result"
    }
   ],
   "source": [
    "df_new.label.value_counts()"
   ],
   "metadata": {
    "collapsed": false,
    "ExecuteTime": {
     "end_time": "2024-12-05T20:35:15.373849700Z",
     "start_time": "2024-12-05T20:35:15.353747900Z"
    }
   }
  },
  {
   "cell_type": "code",
   "execution_count": 8,
   "outputs": [
    {
     "data": {
      "text/plain": "                                               tweet  label\n0  Yes indeed. She sort of reminds me of the elde...      0\n1  The trans women reading this tweet right now i...      0\n2  Question: These 4 broads who criticize America...      1\n3  It is about time for all illegals to go back t...      0\n4  For starters bend over the one in pink and kic...      1",
      "text/html": "<div>\n<style scoped>\n    .dataframe tbody tr th:only-of-type {\n        vertical-align: middle;\n    }\n\n    .dataframe tbody tr th {\n        vertical-align: top;\n    }\n\n    .dataframe thead th {\n        text-align: right;\n    }\n</style>\n<table border=\"1\" class=\"dataframe\">\n  <thead>\n    <tr style=\"text-align: right;\">\n      <th></th>\n      <th>tweet</th>\n      <th>label</th>\n    </tr>\n  </thead>\n  <tbody>\n    <tr>\n      <th>0</th>\n      <td>Yes indeed. She sort of reminds me of the elde...</td>\n      <td>0</td>\n    </tr>\n    <tr>\n      <th>1</th>\n      <td>The trans women reading this tweet right now i...</td>\n      <td>0</td>\n    </tr>\n    <tr>\n      <th>2</th>\n      <td>Question: These 4 broads who criticize America...</td>\n      <td>1</td>\n    </tr>\n    <tr>\n      <th>3</th>\n      <td>It is about time for all illegals to go back t...</td>\n      <td>0</td>\n    </tr>\n    <tr>\n      <th>4</th>\n      <td>For starters bend over the one in pink and kic...</td>\n      <td>1</td>\n    </tr>\n  </tbody>\n</table>\n</div>"
     },
     "execution_count": 8,
     "metadata": {},
     "output_type": "execute_result"
    }
   ],
   "source": [
    "df_new.head()"
   ],
   "metadata": {
    "collapsed": false,
    "ExecuteTime": {
     "end_time": "2024-12-05T20:35:16.071257300Z",
     "start_time": "2024-12-05T20:35:16.025173900Z"
    }
   }
  },
  {
   "cell_type": "code",
   "execution_count": 17,
   "outputs": [],
   "source": [
    "df_new = df_new.sample(frac=1).reset_index(drop=True)"
   ],
   "metadata": {
    "collapsed": false,
    "ExecuteTime": {
     "end_time": "2024-12-05T20:42:28.475920Z",
     "start_time": "2024-12-05T20:42:28.448935Z"
    }
   }
  },
  {
   "cell_type": "code",
   "execution_count": 18,
   "outputs": [],
   "source": [
    "df_new.to_csv(\"train_extension.csv\")"
   ],
   "metadata": {
    "collapsed": false,
    "ExecuteTime": {
     "end_time": "2024-12-05T20:42:30.036506200Z",
     "start_time": "2024-12-05T20:42:28.899031900Z"
    }
   }
  },
  {
   "cell_type": "code",
   "execution_count": null,
   "outputs": [],
   "source": [],
   "metadata": {
    "collapsed": false
   }
  }
 ],
 "metadata": {
  "kernelspec": {
   "display_name": "Python 3",
   "language": "python",
   "name": "python3"
  },
  "language_info": {
   "codemirror_mode": {
    "name": "ipython",
    "version": 2
   },
   "file_extension": ".py",
   "mimetype": "text/x-python",
   "name": "python",
   "nbconvert_exporter": "python",
   "pygments_lexer": "ipython2",
   "version": "2.7.6"
  }
 },
 "nbformat": 4,
 "nbformat_minor": 0
}
