{
 "cells": [
  {
   "cell_type": "code",
   "execution_count": 2,
   "metadata": {
    "collapsed": true,
    "ExecuteTime": {
     "end_time": "2025-01-11T17:00:46.448716Z",
     "start_time": "2025-01-11T17:00:09.126961800Z"
    }
   },
   "outputs": [
    {
     "name": "stdout",
     "output_type": "stream",
     "text": [
      "Reading english - 1grams ...\n",
      "Reading english - 2grams ...\n"
     ]
    },
    {
     "name": "stderr",
     "output_type": "stream",
     "text": [
      "C:\\Users\\admin\\anaconda3\\lib\\site-packages\\ekphrasis\\classes\\exmanager.py:14: FutureWarning: Possible nested set at position 42\n",
      "  regexes = {k.lower(): re.compile(self.expressions[k]) for k, v in\n"
     ]
    },
    {
     "name": "stdout",
     "output_type": "stream",
     "text": [
      "Reading english - 1grams ...\n",
      "Reading english - 2grams ...\n",
      "Reading twitter - 1grams ...\n",
      "Reading twitter - 2grams ...\n"
     ]
    }
   ],
   "source": [
    "import pandas as pd\n",
    "import numpy as np\n",
    "from src.functions.cleaning_pipeline import clean_dataframe"
   ]
  },
  {
   "cell_type": "code",
   "execution_count": 3,
   "outputs": [],
   "source": [
    "def print_distribution(df, col):\n",
    "    positive = np.count_nonzero(df[col] == 1)\n",
    "    negative = np.count_nonzero(df[col] == 0)\n",
    "    print(\"- Positive:\", positive)\n",
    "    print(\"- Negative:\", negative)\n",
    "    print(\"- Verhältnis:\", negative / positive)"
   ],
   "metadata": {
    "collapsed": false,
    "ExecuteTime": {
     "end_time": "2025-01-11T17:00:46.464901800Z",
     "start_time": "2025-01-11T17:00:46.453721700Z"
    }
   }
  },
  {
   "cell_type": "markdown",
   "source": [
    "### Alte und neue Daten zusammenführen"
   ],
   "metadata": {
    "collapsed": false
   }
  },
  {
   "cell_type": "code",
   "execution_count": 13,
   "outputs": [
    {
     "name": "stdout",
     "output_type": "stream",
     "text": [
      "- Positive: 1574\n",
      "- Negative: 20799\n",
      "- Verhältnis: 13.214104193138501\n"
     ]
    }
   ],
   "source": [
    "df_old_train = pd.read_csv(\"twitter_hate-speech/train.csv\", index_col=0)\n",
    "print_distribution(df_old_train, \"label\")"
   ],
   "metadata": {
    "collapsed": false,
    "ExecuteTime": {
     "end_time": "2025-01-11T17:04:09.498587400Z",
     "start_time": "2025-01-11T17:04:09.435530400Z"
    }
   }
  },
  {
   "cell_type": "code",
   "execution_count": 12,
   "outputs": [
    {
     "name": "stdout",
     "output_type": "stream",
     "text": [
      "- Positive: 668\n",
      "- Negative: 8921\n",
      "- Verhältnis: 13.354790419161677\n"
     ]
    }
   ],
   "source": [
    "df_old_test = pd.read_csv(\"twitter_hate-speech/test.csv\", index_col=0)\n",
    "print_distribution(df_old_test, \"label\")"
   ],
   "metadata": {
    "collapsed": false,
    "ExecuteTime": {
     "end_time": "2025-01-11T17:04:03.044726300Z",
     "start_time": "2025-01-11T17:04:02.990340400Z"
    }
   }
  },
  {
   "cell_type": "code",
   "execution_count": 14,
   "outputs": [
    {
     "name": "stdout",
     "output_type": "stream",
     "text": [
      "- Positive: 52493\n",
      "- Negative: 123896\n",
      "- Verhältnis: 2.3602385079915416\n"
     ]
    }
   ],
   "source": [
    "df_new = pd.read_csv(\"new_datasets/NEW_DATA.csv\", index_col=0)\n",
    "print_distribution(df_new, \"label\")"
   ],
   "metadata": {
    "collapsed": false,
    "ExecuteTime": {
     "end_time": "2025-01-11T17:04:18.157420Z",
     "start_time": "2025-01-11T17:04:17.674464100Z"
    }
   }
  },
  {
   "cell_type": "code",
   "execution_count": 15,
   "outputs": [
    {
     "name": "stdout",
     "output_type": "stream",
     "text": [
      "- Positive: 54735\n",
      "- Negative: 153616\n",
      "- Verhältnis: 2.80654060473189\n"
     ]
    }
   ],
   "source": [
    "df_mixed = pd.concat([df_old_train, df_old_test, df_new])\n",
    "print_distribution(df_mixed, \"label\")"
   ],
   "metadata": {
    "collapsed": false,
    "ExecuteTime": {
     "end_time": "2025-01-11T17:04:25.824899800Z",
     "start_time": "2025-01-11T17:04:25.801518600Z"
    }
   }
  },
  {
   "cell_type": "markdown",
   "source": [
    "### Erstellung neuer Train und Testdatensatz"
   ],
   "metadata": {
    "collapsed": false
   }
  },
  {
   "cell_type": "code",
   "execution_count": 16,
   "outputs": [
    {
     "name": "stdout",
     "output_type": "stream",
     "text": [
      "- Positive: 38382\n",
      "- Negative: 107464\n",
      "- Verhältnis: 2.799854098275233\n"
     ]
    }
   ],
   "source": [
    "train = df_mixed.sample(frac=0.7, random_state=200)\n",
    "print_distribution(train, \"label\")"
   ],
   "metadata": {
    "collapsed": false,
    "ExecuteTime": {
     "end_time": "2025-01-11T17:04:59.256390300Z",
     "start_time": "2025-01-11T17:04:59.217354500Z"
    }
   }
  },
  {
   "cell_type": "code",
   "execution_count": 17,
   "outputs": [
    {
     "data": {
      "text/plain": "        label  \\\n140232      0   \n6083        0   \n62913       0   \n13525       0   \n6318        0   \n\n                                                                            tweet  \n140232             Nicki's \"that's not good\" pout bought to you by Botox[™]. #MKR  \n6083    @user @user @user @user @user @user  greater game ever!  #fun   #possible  \n62913                                          I love that you enjoy being trans.  \n13525                                         yes good shapely eurotrash manbooty  \n6318                      i can't wait for euro 2016 to sta on friday #euro2016    ",
      "text/html": "<div>\n<style scoped>\n    .dataframe tbody tr th:only-of-type {\n        vertical-align: middle;\n    }\n\n    .dataframe tbody tr th {\n        vertical-align: top;\n    }\n\n    .dataframe thead th {\n        text-align: right;\n    }\n</style>\n<table border=\"1\" class=\"dataframe\">\n  <thead>\n    <tr style=\"text-align: right;\">\n      <th></th>\n      <th>label</th>\n      <th>tweet</th>\n    </tr>\n  </thead>\n  <tbody>\n    <tr>\n      <th>140232</th>\n      <td>0</td>\n      <td>Nicki's \"that's not good\" pout bought to you by Botox[™]. #MKR</td>\n    </tr>\n    <tr>\n      <th>6083</th>\n      <td>0</td>\n      <td>@user @user @user @user @user @user  greater game ever!  #fun   #possible</td>\n    </tr>\n    <tr>\n      <th>62913</th>\n      <td>0</td>\n      <td>I love that you enjoy being trans.</td>\n    </tr>\n    <tr>\n      <th>13525</th>\n      <td>0</td>\n      <td>yes good shapely eurotrash manbooty</td>\n    </tr>\n    <tr>\n      <th>6318</th>\n      <td>0</td>\n      <td>i can't wait for euro 2016 to sta on friday #euro2016</td>\n    </tr>\n  </tbody>\n</table>\n</div>"
     },
     "execution_count": 17,
     "metadata": {},
     "output_type": "execute_result"
    }
   ],
   "source": [
    "train.head()"
   ],
   "metadata": {
    "collapsed": false,
    "ExecuteTime": {
     "end_time": "2025-01-11T17:05:00.395256Z",
     "start_time": "2025-01-11T17:05:00.364753200Z"
    }
   }
  },
  {
   "cell_type": "code",
   "execution_count": 18,
   "outputs": [
    {
     "name": "stdout",
     "output_type": "stream",
     "text": [
      "- Positive: 13916\n",
      "- Negative: 35079\n",
      "- Verhältnis: 2.5207674619143434\n"
     ]
    }
   ],
   "source": [
    "test = df_mixed.drop(train.index)\n",
    "print_distribution(test, \"label\")"
   ],
   "metadata": {
    "collapsed": false,
    "ExecuteTime": {
     "end_time": "2025-01-11T17:05:10.794137200Z",
     "start_time": "2025-01-11T17:05:10.092763900Z"
    }
   }
  },
  {
   "cell_type": "code",
   "execution_count": 19,
   "outputs": [
    {
     "data": {
      "text/plain": "       label  \\\n8886       0   \n27613      0   \n18952      0   \n12485      0   \n5879       0   \n\n                                                                                                                  tweet  \n8886    @user #cinemaaawards final rehearsals!! gearing up for the evening!! #butterflies #stage  ! hope u all like it   \n27613                          this was amazing. the weather was not. #musical #london #matilda #westend #weekend  â¦   \n18952                                          child attacked by alligator at walt disney world     #waltdisneyworld     \n12485                                                                                me rn cause school is over soon     \n5879                                                                       is it #good to #sleep when  ?  #good #sleep   ",
      "text/html": "<div>\n<style scoped>\n    .dataframe tbody tr th:only-of-type {\n        vertical-align: middle;\n    }\n\n    .dataframe tbody tr th {\n        vertical-align: top;\n    }\n\n    .dataframe thead th {\n        text-align: right;\n    }\n</style>\n<table border=\"1\" class=\"dataframe\">\n  <thead>\n    <tr style=\"text-align: right;\">\n      <th></th>\n      <th>label</th>\n      <th>tweet</th>\n    </tr>\n  </thead>\n  <tbody>\n    <tr>\n      <th>8886</th>\n      <td>0</td>\n      <td>@user #cinemaaawards final rehearsals!! gearing up for the evening!! #butterflies #stage  ! hope u all like it</td>\n    </tr>\n    <tr>\n      <th>27613</th>\n      <td>0</td>\n      <td>this was amazing. the weather was not. #musical #london #matilda #westend #weekend  â¦</td>\n    </tr>\n    <tr>\n      <th>18952</th>\n      <td>0</td>\n      <td>child attacked by alligator at walt disney world     #waltdisneyworld</td>\n    </tr>\n    <tr>\n      <th>12485</th>\n      <td>0</td>\n      <td>me rn cause school is over soon</td>\n    </tr>\n    <tr>\n      <th>5879</th>\n      <td>0</td>\n      <td>is it #good to #sleep when  ?  #good #sleep</td>\n    </tr>\n  </tbody>\n</table>\n</div>"
     },
     "execution_count": 19,
     "metadata": {},
     "output_type": "execute_result"
    }
   ],
   "source": [
    "test.head()"
   ],
   "metadata": {
    "collapsed": false,
    "ExecuteTime": {
     "end_time": "2025-01-11T17:05:16.105797800Z",
     "start_time": "2025-01-11T17:05:16.077772800Z"
    }
   }
  },
  {
   "cell_type": "code",
   "execution_count": 21,
   "outputs": [],
   "source": [
    "train.to_csv(\"mixed_dataset/train.csv\")\n",
    "test.to_csv(\"mixed_dataset/test.csv\")"
   ],
   "metadata": {
    "collapsed": false,
    "ExecuteTime": {
     "end_time": "2025-01-11T17:06:56.109585200Z",
     "start_time": "2025-01-11T17:06:54.976940600Z"
    }
   }
  },
  {
   "cell_type": "markdown",
   "source": [
    "### Bereinigung und Vorverarbeitung"
   ],
   "metadata": {
    "collapsed": false
   }
  },
  {
   "cell_type": "markdown",
   "source": [
    "#### Bereinigung und Vorverarbeitung: TRAIN"
   ],
   "metadata": {
    "collapsed": false
   }
  },
  {
   "cell_type": "markdown",
   "source": [
    "##### Geeignet für: Maschinelles Lernen\n",
    "es werden alle implementierten Cleaning und Preprocessing Schritte ausgeführt AUßER: Auflösen Negationen (nicht implementiert), Emojis Entfernen"
   ],
   "metadata": {
    "collapsed": false
   }
  },
  {
   "cell_type": "code",
   "execution_count": 22,
   "outputs": [],
   "source": [
    "df_origin_train = pd.read_csv('mixed_dataset/train.csv', index_col=0)\n",
    "df_clean_base_train = df_origin_train.copy()"
   ],
   "metadata": {
    "collapsed": false,
    "ExecuteTime": {
     "end_time": "2025-01-11T17:06:56.520961200Z",
     "start_time": "2025-01-11T17:06:56.113588700Z"
    }
   }
  },
  {
   "cell_type": "code",
   "execution_count": 23,
   "outputs": [
    {
     "name": "stdout",
     "output_type": "stream",
     "text": [
      "Start Cleaning\n",
      "--- Cleaning Step 1/20: to_lowercase\n",
      "--- Cleaning Step 2/20: expand_shortcuts\n",
      "--- Cleaning Step 3/20: remove_negations - SKIP (not implemented)\n",
      "--- Cleaning Step 4/20: handle_userhandles\n",
      "--- Cleaning Step 5/20: handle_hashtags\n",
      "--- Cleaning Step 6/20: extract_emojis\n",
      "--- Cleaning Step 7/20: replace_emojis\n",
      "--- Cleaning Step 8/20: replace_smileys\n",
      "--- Cleaning Step 9/20: remove_emojis - SKIP\n",
      "--- Cleaning Step 10/20: remove_url_from_tweet\n",
      "--- Cleaning Step 11/20: remove_punctuation\n",
      "--- Cleaning Step 12/20: remove_special_characters\n",
      "--- Cleaning Step 13/20: remove_digis\n",
      "--- Cleaning Step 14/20: remove_word_from_column: amp\n",
      "--- Cleaning Step 15/20: lemmatize\n",
      "--- Cleaning Step 16/20: remove_stop_words\n",
      "--- Cleaning Step 17/20: remove_most_frequent_words\n",
      "--- Cleaning Step 18/20: remove_least_frequent_words\n",
      "--- Cleaning Step 19/20: remove_duplicates\n",
      "--- Cleaning Step 20/20: remove_nans\n",
      "All Cleaning done\n"
     ]
    }
   ],
   "source": [
    "df_cleaned_train = clean_dataframe(df_clean_base_train, \"tweet\", False, True, False)"
   ],
   "metadata": {
    "collapsed": false,
    "ExecuteTime": {
     "end_time": "2025-01-11T17:19:43.271239Z",
     "start_time": "2025-01-11T17:06:56.508950400Z"
    }
   }
  },
  {
   "cell_type": "code",
   "execution_count": 24,
   "outputs": [
    {
     "data": {
      "text/plain": "        label  \\\n140232      0   \n6083        0   \n62913       0   \n13525       0   \n6318        0   \n31636       0   \n55308       0   \n166030      0   \n81252       0   \n118247      0   \n27985       1   \n174324      0   \n62220       0   \n104798      0   \n150332      1   \n117642      0   \n110352      0   \n135607      0   \n72267       0   \n36785       1   \n117463      0   \n70183       1   \n101417      1   \n137475      0   \n113129      0   \n100802      0   \n29468       1   \n76827       0   \n43432       1   \n19626       0   \n162103      0   \n81992       0   \n10910       0   \n21793       0   \n144154      0   \n123254      0   \n96816       0   \n66565       0   \n5382        0   \n30529       0   \n24652       0   \n156928      0   \n6234        0   \n65873       0   \n79419       1   \n149614      0   \n171167      0   \n102349      0   \n118206      0   \n18046       0   \n\n                                                                                                                                                                                                                                                                                                                                                                                                                                                                                                                                                                                                       tweet  \\\n140232                                                                                                                                                                                                                                                                                                                                                                                                                                                                                                                                        Nicki's \"that's not good\" pout bought to you by Botox[™]. #MKR   \n6083                                                                                                                                                                                                                                                                                                                                                                                                                                                                                                                               @user @user @user @user @user @user  greater game ever!  #fun   #possible   \n62913                                                                                                                                                                                                                                                                                                                                                                                                                                                                                                                                                                     I love that you enjoy being trans.   \n13525                                                                                                                                                                                                                                                                                                                                                                                                                                                                                                                                                                    yes good shapely eurotrash manbooty   \n6318                                                                                                                                                                                                                                                                                                                                                                                                                                                                                                                                                 i can't wait for euro 2016 to sta on friday #euro2016     \n31636                                                                                                                                                                                                                                                                                                                                                                                                                                                                                         ↝ #uk: risks skewed to the downside for interest rates going into the referendum – danske bank   #blog #silve…   \n55308                                                                                                                                                                                                                                                                                                                                                                                                                                                                                                                                                                  Yeah well fuck those lesbian niggers.   \n166030                                                                                                                                                                                                                                                                                                                                                                                                                                                                                                         Guys if they came to our country please dont mob them. Show some respect. #RespectOurEuphoria   \n81252                                                                                                                                                                                                                                                                                                                                                                                                                                                                                                                                              First fat niggas and now white men? Throw your phone away   \n118247                                                                                                                                                                                                                                                                                                                                                                                                                       Deport them all to their sacred homeland Al-Bakastan aka Pakistan. Put them in a trolley of wagons labelled 370Express to the LoC and hand them to their lords and masters. URL   \n27985                                                                                                                                                                                                                                                                                                                                                                                                                                                                                                                                                                                       i will rape isis   \n174324                                                                                                                                                                                                                                                                                                                                                                                                                                                                                                           Why are people saying don't let guys treat you like a yellow starburst? That's my favorite.   \n62220                                                                                                                                                                                                                                                                                                                                       How many women get into precarious situations because they're screwed over by welfare officers, family services, etc...? Imagine how those would be different if there was a system of publicly funded advocates to help them with knowledge of their rights? 11   \n104798                                                                                                                                                                                                                                                                                                                                                                                                                                                                @user In Mexico they have a lovely expression \"culturally catholic\" which is much less pass-remarkable than \"non-practicing catholic\".   \n150332                                                                                                                                                                                                                                                                                                                                                                                                                                                                                                    @user Bills , Jail time or for Blacks they'll just murder them. Conservatives think we're animals.   \n117642                                                                                                                                   The AIDS epidemic in S.F. caused many gay males to become monogamous.  I lived in S.F. during the gay bathhouse era. It was a phuckfest and then it wasn't. [Kaposi's sarcoma](URL%27s_sarcoma) was rampant, as the first sign of infection. Some of my best friends have been gay men. I'm currently best friends with a 76-year old gay man who is the best professor of languages I've ever known. He even speak Nahuatl, the Aztec language. FYI, I'm straight.   \n110352                                                                                                                                                                                                                                                                                                                                                                                                                                                                                                                                                               AOC and her followers are mentally ill.   \n135607                                                                                                                                                                                                                                                                                                                                                                                                                                                                                                                                             Don't make me make you fall in love with a bitch* like me   \n72267                                                                                                                                                                                                                                                                                                                                                                                                                                                                                              @user i'm very entertained that all it takes is \"155 IQ\" for me to know precisely who is being discussed.   \n36785                                                                                                                                                                                                      yeah, heres a clue for the nigger author of this article. Chinks hate niggers, Kikes hate niggers, Spicks hate niggers and Towelheads hate niggers. EVen niggers hate niggers. Black Africans hate the gauche lazy American blacks because they have no morals or work ethic. Niggrus Americanus is the lowest form of human (if you can even call them that) on the planet, we should erase them   \n117463                                                                                                                                                                                                                                                                                                                                                                                                                                                                                                                                               RT @user: These hoes ain't loyal http://t.co/JiK7OfqMBE   \n70183                                                                                                                                                                                       That's no excuse for stealing other people's technology and research and intellectual property You're all a bunch of human cockroaches is what you are And your food is disgusting on top of that you assholes will eat anything to the point where you'll make any creature go extinct because of your fucking appetites You chinks are determined to eat every Pangolin until they are all wiped off the earth   \n101417                                                                                                                                                                                                                                                                                                                                                                                                                                                                                                                                                              Wow lmao niggas really ain't shit 😹💀 URL   \n137475                                                                                                                                                                                                                                                                                                                  Erica Thomas is 9 months pregnant, and she spilled crocodile tears, however she can confront the man who called her a \"bitch\" while on camera? This is absurd. This is similar to the Jussie Smollett story. Lying to create a political divide, to push a narrative. It's sick. URL   \n113129                                                                                                                                                                                                                                                                                                                                                                                                                                                                                                                                     holy shit i am just getting dunked on by a cripple this is unreal   \n100802                                                                                                                                                                                                                                                                                                                                                                                                                                                                                                                                                                              Aimee's a punk ass bitch   \n29468                                                                                                                                                                                                                                                                                                                                                                                                                                      Dis nigga daddy shoulda just shot him and his brova on the fucking sheet or his mova shoulda just swallowed that nut cuz these niggas is a waste of fucking space   \n76827                                                                                                                                                                                                                                                                                                                                                                                                      You have to admire queers like this. They just want to fuck each other in the ass with dignity and respect. Meanwhile Nana is out there biting young women. Anthony wishes he had this much class   \n43432                                                                                                                                                                                                                                                                                                                                                                                                                                                                                                                                                                      Lmao couple of faggots lmao, wow!   \n19626                                                                                                                                                                                                                                                                                                                                                                                                                                                                                                                   happy saturday 👯   #cali #positivevibes #model #actress #fromrussiawithlove #style…    \n162103                                                                                                                                                                                                                                                                                                                                                                                                                                                                                                                          Blackdown CTC: Cadets Canada Pushes the LGBT Agenda on Our Youth - Sign: URL   \n81992                                                                                                                                                                                                                                                                                                                                                                                                                                                                   Congrats! That's great you're with someone you can be open about your sexuality with, this will only make your relationship stronger   \n10910                                                                                                                                                                                                                                                                                                                                                                                                                                                                                            10007 #love, #happy,  , #fail   \"i must say my first semester at murdoch has been a delight! i met this...    \n21793                                                                                                                                                                                                                                                                                                                                                                                                                                                                                                                                                                          happy pride month i'm gay URL   \n144154                                                                                                                                                                                                                                                                                                                                                                                                                                                                                                                                                                    Let me guess: they're all racists.   \n123254                                                                                                                                                                                                                                                                                                                                                                                                                                                                                                                      You got deported for using the n word and saying shit about Nanjing. Stop lying.   \n96816                                                                                                                                                                                                                                                                                                                                                                                                                                                                                                                                           Please help support nonbinary pride, add a #Twibbon now! URL   \n66565                                                                                                                                                                                                                                                                                                                                                                                                                                                                                            considering all of your other posts, i'm guessing you're a white teen that only listens to eminem. fuck off   \n5382                                                                                                                                                                                                                                                                                       Why did I click on your profile? You gave no source anyway, you just are a hateful human being. Good grief. You have been given sources by others disproving your statements, but no you didn't, once you cited the hatesub GC, that is used only to missrepresent Transgender people and to deny their existence   \n30529                                                                                                                                                                                                                                                                                                                                                                                                                                                                                                                                         Wonder why we call a man's participation in sex \"performance\".   \n24652                                                                                                                                                                                                                                                                                                                                                                                                                                                                                                Now take daddy's thick hard cock in baby girls mouth while daddy pulls on babies hard hungry nipples 😈😛   \n156928                                                                                                                                                                                                                                                                                                                                                                                                                       Lady in the back Blinks when \"her\" camera red light goes on. Part of the tranny SHOW. Before ya deny...see: Transvestigations on Yt. Trannies are PROUD to show How It's Done!👍   \n6234                                                                                                                                                                                                                                                                                                                                                                                                                                                              RT @user: LIKE A FLAT TIRE HE NEED A FIX &#8220;@user: Run up on em, put the gun up on em, ask a pussy nigga \"What's to ya bitch ?\"&#8221;   \n65873                                                                                                                                                                                                                                                          I don't care how threatened you feel, you can't go throwing respect for human rights and due process out the window and just blow a kid away to defend your shit. But this is america the free country founded on genocide and slavery where they hold people in prison camps for years without trial and property is worth more than life so   \n79419                                                                                                                                                                                                                                                                                                                                                                                                                                                                                                                                             i hate jews so much i wish the holocaust actually happened   \n149614                                                                                                                                                                                                                                                                                                                                                                                                                                                                                                                                         RT @user: Talkin bout the next bitch but you ain't bout shit.   \n171167                                                                                                                                                                                                                                                                                                                                                                                                                                                                                                                   RT @user: RIP Robin Williams, I'm gonna fuck the baddest bitch tonight for you bruh   \n102349                                                                                                                                                                                                                                                                                                                                                                                                                                                                                                                                                   RT @user: It was all yellow. http://t.co/xB4dkWuoKi   \n118206  First, I'm not taunting him. I am pointing out that his behavior hasn't been helpful. I bring up his history because I always check if I'm dealing with a troll. I love jokes. I make libtard jokes all the time. Second, I'm bi. You know, the b in lgbt. I certainly would never use homosexuality to shame people. I will however use homosexuality to bring up a point in which you shouldn't hate on gays to hide your feelings. That subreddit is made for the gay community in mind. Third, please if your going to accuse someone of being bigoted, do what I did and actually have a point.   \n18046                                                                                                                                                                                                                                                                                                                                                                                                                                                                                                                                                              Beyonce only looks black on the inside...   \n\n                                                                                                                                                                                                                                                                                                                                  tweet_cleaned  \\\n140232                                                                                                                                                                                                                                                                                              nickis \" good pout buy botox trade mark mkr   \n6083                                                                                                                                                                                                                                                                                                               great game ever fun possible   \n62913                                                                                                                                                                                                                                                                                                                           love enjoy tran   \n13525                                                                                                                                                                                                                                                                                                                        yes good eurotrash   \n6318                                                                                                                                                                                                                                                                                                                  wait euro sta friday euro   \n31636                                                                                                                                                                                                                                                                  uk risk skewed downside interest rate go referendum – danske bank blog …   \n55308                                                                                                                                                                                                                                                                                                             yeah well fuck lesbian nigger   \n166030                                                                                                                                                                                                                                                                                                 guy come country please mob show respect   \n81252                                                                                                                                                                                                                                                                                               first fat niggas white man throw phone away   \n118247                                                                                                                                                                                                                                  deport sacred homeland al - also know pakistan put trolley wagon label express loc hand lord master url   \n27985                                                                                                                                                                                                                                                                                                                                 rape isis   \n174324                                                                                                                                                                                                                                                                                  people say let guy treat like yellow starburst favorite   \n62220                                                                                                                                                                                              many woman get situation screw welfare officer family service etc imagine would different system publicly fund advocate help knowledge right   \n104798                                                                                                                                                                                                                                                  mexico lovely expression \" culturally catholic much less pass - remarkable non catholic   \n150332                                                                                                                                                                                                                                                                                    bill jail time black murder conservative think animal   \n117642                                                                                                       aids epidemic sf cause many gay male become monogamous live sf gay era rampant first sign infection good friend gay man currently good friend -year old gay man good professor language ever know even speak language fyi straight   \n110352                                                                                                                                                                                                                                                                                                                aoc follower mentally ill   \n135607                                                                                                                                                                                                                                                                                                         make make fall love bitch * like   \n72267                                                                                                                                                                                                                                                                                                          take \" iq know precisely discuss   \n36785                                                                                                                          yeah clue nigger author article chink hate nigger kike hate nigger hate nigger hate nigger even nigger hate nigger black african hate lazy american black moral work ethic low form human even call planet erase   \n117463                                                                                                                                                                                                                                                                                                                        retweet hoe loyal   \n70183                                                                                                                        excuse steal people technology research intellectual property bunch human cockroach food disgusting top asshole eat anything point make creature go extinct fucking appetite chink determined eat every wipe earth   \n101417                                                                                                                                                                                                                                                                                  wow laugh * * niggas really shit cat tear joy skull url   \n137475                                                                                                                                                       erica thomas month pregnant spill crocodile tear however confront man call \" bitch camera absurd similar jussie smollett story lie create political divide push narrative sick url   \n113129                                                                                                                                                                                                                                                                                                    holy shit getting dunk cripple unreal   \n100802                                                                                                                                                                                                                                                                                                                           punk ass bitch   \n29468                                                                                                                                                                                                                                            dis nigga daddy shoulda shoot fucking sheet shoulda swallow nut cuz niggas waste fucking space   \n76827                                                                                                                                                                                                                                        admire queer like want fuck ass dignity respect meanwhile bite young woman anthony wish much class   \n43432                                                                                                                                                                                                                                                                                                          laugh * * couple faggot lmao wow   \n19626                                                                                                                                                                                                                                                                                happy saturday people bunny ear cali model actress style …   \n162103                                                                                                                                                                                                                                                                                           cadet canada push lgbt agenda youth - sign url   \n81992                                                                                                                                                                                                                                                                             congrat great someone open sexuality make relationship strong   \n10910                                                                                                                                                                                                                                                                                    love happy fail \" must say first semester delight meet   \n21793                                                                                                                                                                                                                                                                                                                 happy pride month gay url   \n144154                                                                                                                                                                                                                                                                                                                         let guess racist   \n123254                                                                                                                                                                                                                                                                                                  get deport use n word say shit stop lie   \n96816                                                                                                                                                                                                                                                                                       please help support nonbinary pride add twibbon url   \n66565                                                                                                                                                                                                                                                                                         consider post guess white teen listen eminem fuck   \n5382                                                                                                                                                                                                     click profile give source anyway hateful human good grief give source disprove statement cite gc use transgender people deny existence   \n30529                                                                                                                                                                                                                                                                                           wonder call man participation sex \" performance   \n24652                                                                                                                                                                                                                                     take daddys thick hard cock baby girl mouth daddy pull baby hard hungry nipple smile face horn tongue   \n156928                                                                                                                                                                                                                                   lady back blink \" camera red light go part tranny show ya transvestigation yt trannie proud show thumb   \n6234                                                                                                                                                                                                                                                               retweet like flat tire need fix run em put gun em ask pussy nigga \" ya bitch   \n65873                                                                                                                                            care feel go throw respect human right due process window blow kid away defend shit america free country found genocide slavery hold people prison camp year without trial property worth life   \n79419                                                                                                                                                                                                                                                                                             hate jews much wish holocaust actually happen   \n149614                                                                                                                                                                                                                                                                                                 retweet talkin bout next bitch bout shit   \n171167                                                                                                                                                                                                                                                                               retweet rip robin williams go fuck badd bitch tonight bruh   \n102349                                                                                                                                                                                                                                                                                                                           retweet yellow   \n118206  first taunt point behavior helpful bring history always check deal troll love joke make libtard joke time second bi know b lgbt certainly would never use homosexuality shame people however use homosexuality bring point hate gay hide feeling subreddit make gay community mind third please go accuse someone bigote actually point   \n18046                                                                                                                                                                                                                                                                                                                 beyonce look black inside   \n\n        user_handle  \\\n140232            0   \n6083              6   \n62913             0   \n13525             0   \n6318              0   \n31636             0   \n55308             0   \n166030            0   \n81252             0   \n118247            0   \n27985             0   \n174324            0   \n62220             0   \n104798            1   \n150332            1   \n117642            0   \n110352            0   \n135607            0   \n72267             1   \n36785             0   \n117463            1   \n70183             0   \n101417            0   \n137475            0   \n113129            0   \n100802            0   \n29468             0   \n76827             0   \n43432             0   \n19626             0   \n162103            0   \n81992             0   \n10910             0   \n21793             0   \n144154            0   \n123254            0   \n96816             0   \n66565             0   \n5382              0   \n30529             0   \n24652             0   \n156928            0   \n6234              2   \n65873             0   \n79419             0   \n149614            1   \n171167            1   \n102349            1   \n118206            0   \n18046             0   \n\n                                                                      hashtags  \\\n140232                                                                  [#mkr]   \n6083                                                         [#fun, #possible]   \n62913                                                                       []   \n13525                                                                       []   \n6318                                                               [#euro2016]   \n31636                                                     [#uk, #blog, #silve]   \n55308                                                                       []   \n166030                                                   [#respectoureuphoria]   \n81252                                                                       []   \n118247                                                                      []   \n27985                                                                       []   \n174324                                                                      []   \n62220                                                                       []   \n104798                                                                      []   \n150332                                                                      []   \n117642                                                                      []   \n110352                                                                      []   \n135607                                                                      []   \n72267                                                                       []   \n36785                                                                       []   \n117463                                                                      []   \n70183                                                                       []   \n101417                                                                      []   \n137475                                                                      []   \n113129                                                                      []   \n100802                                                                      []   \n29468                                                                       []   \n76827                                                                       []   \n43432                                                                       []   \n19626   [#cali, #positivevibes, #model, #actress, #fromrussiawithlove, #style]   \n162103                                                                      []   \n81992                                                                       []   \n10910                                                   [#love, #happy, #fail]   \n21793                                                                       []   \n144154                                                                      []   \n123254                                                                      []   \n96816                                                               [#twibbon]   \n66565                                                                       []   \n5382                                                                        []   \n30529                                                                       []   \n24652                                                                       []   \n156928                                                                      []   \n6234                                                            [#8220, #8221]   \n65873                                                                       []   \n79419                                                                       []   \n149614                                                                      []   \n171167                                                                      []   \n102349                                                                      []   \n118206                                                                      []   \n18046                                                                       []   \n\n                                                  emojis  \n140232                                    __trade_mark__  \n6083                                                      \n62913                                                     \n13525                                                     \n6318                                                      \n31636                                                     \n55308                                                     \n166030                                                    \n81252                                                     \n118247                                                    \n27985                                                     \n174324                                                    \n62220                                                     \n104798                                                    \n150332                                                    \n117642                                                    \n110352                                                    \n135607                                                    \n72267                                                     \n36785                                                     \n117463                                                    \n70183                                                     \n101417               __cat_with_tears_of_joy__,__skull__  \n137475                                                    \n113129                                                    \n100802                                                    \n29468                                                     \n76827                                                     \n43432                                                     \n19626                         __people_with_bunny_ears__  \n162103                                                    \n81992                                                     \n10910                                                     \n21793                                                     \n144154                                                    \n123254                                                    \n96816                                                     \n66565                                                     \n5382                                                      \n30529                                                     \n24652   __smiling_face_with_horns__,__face_with_tongue__  \n156928                                     __thumbs_up__  \n6234                                                      \n65873                                                     \n79419                                                     \n149614                                                    \n171167                                                    \n102349                                                    \n118206                                                    \n18046                                                     ",
      "text/html": "<div>\n<style scoped>\n    .dataframe tbody tr th:only-of-type {\n        vertical-align: middle;\n    }\n\n    .dataframe tbody tr th {\n        vertical-align: top;\n    }\n\n    .dataframe thead th {\n        text-align: right;\n    }\n</style>\n<table border=\"1\" class=\"dataframe\">\n  <thead>\n    <tr style=\"text-align: right;\">\n      <th></th>\n      <th>label</th>\n      <th>tweet</th>\n      <th>tweet_cleaned</th>\n      <th>user_handle</th>\n      <th>hashtags</th>\n      <th>emojis</th>\n    </tr>\n  </thead>\n  <tbody>\n    <tr>\n      <th>140232</th>\n      <td>0</td>\n      <td>Nicki's \"that's not good\" pout bought to you by Botox[™]. #MKR</td>\n      <td>nickis \" good pout buy botox trade mark mkr</td>\n      <td>0</td>\n      <td>[#mkr]</td>\n      <td>__trade_mark__</td>\n    </tr>\n    <tr>\n      <th>6083</th>\n      <td>0</td>\n      <td>@user @user @user @user @user @user  greater game ever!  #fun   #possible</td>\n      <td>great game ever fun possible</td>\n      <td>6</td>\n      <td>[#fun, #possible]</td>\n      <td></td>\n    </tr>\n    <tr>\n      <th>62913</th>\n      <td>0</td>\n      <td>I love that you enjoy being trans.</td>\n      <td>love enjoy tran</td>\n      <td>0</td>\n      <td>[]</td>\n      <td></td>\n    </tr>\n    <tr>\n      <th>13525</th>\n      <td>0</td>\n      <td>yes good shapely eurotrash manbooty</td>\n      <td>yes good eurotrash</td>\n      <td>0</td>\n      <td>[]</td>\n      <td></td>\n    </tr>\n    <tr>\n      <th>6318</th>\n      <td>0</td>\n      <td>i can't wait for euro 2016 to sta on friday #euro2016</td>\n      <td>wait euro sta friday euro</td>\n      <td>0</td>\n      <td>[#euro2016]</td>\n      <td></td>\n    </tr>\n    <tr>\n      <th>31636</th>\n      <td>0</td>\n      <td>↝ #uk: risks skewed to the downside for interest rates going into the referendum – danske bank   #blog #silve…</td>\n      <td>uk risk skewed downside interest rate go referendum – danske bank blog …</td>\n      <td>0</td>\n      <td>[#uk, #blog, #silve]</td>\n      <td></td>\n    </tr>\n    <tr>\n      <th>55308</th>\n      <td>0</td>\n      <td>Yeah well fuck those lesbian niggers.</td>\n      <td>yeah well fuck lesbian nigger</td>\n      <td>0</td>\n      <td>[]</td>\n      <td></td>\n    </tr>\n    <tr>\n      <th>166030</th>\n      <td>0</td>\n      <td>Guys if they came to our country please dont mob them. Show some respect. #RespectOurEuphoria</td>\n      <td>guy come country please mob show respect</td>\n      <td>0</td>\n      <td>[#respectoureuphoria]</td>\n      <td></td>\n    </tr>\n    <tr>\n      <th>81252</th>\n      <td>0</td>\n      <td>First fat niggas and now white men? Throw your phone away</td>\n      <td>first fat niggas white man throw phone away</td>\n      <td>0</td>\n      <td>[]</td>\n      <td></td>\n    </tr>\n    <tr>\n      <th>118247</th>\n      <td>0</td>\n      <td>Deport them all to their sacred homeland Al-Bakastan aka Pakistan. Put them in a trolley of wagons labelled 370Express to the LoC and hand them to their lords and masters. URL</td>\n      <td>deport sacred homeland al - also know pakistan put trolley wagon label express loc hand lord master url</td>\n      <td>0</td>\n      <td>[]</td>\n      <td></td>\n    </tr>\n    <tr>\n      <th>27985</th>\n      <td>1</td>\n      <td>i will rape isis</td>\n      <td>rape isis</td>\n      <td>0</td>\n      <td>[]</td>\n      <td></td>\n    </tr>\n    <tr>\n      <th>174324</th>\n      <td>0</td>\n      <td>Why are people saying don't let guys treat you like a yellow starburst? That's my favorite.</td>\n      <td>people say let guy treat like yellow starburst favorite</td>\n      <td>0</td>\n      <td>[]</td>\n      <td></td>\n    </tr>\n    <tr>\n      <th>62220</th>\n      <td>0</td>\n      <td>How many women get into precarious situations because they're screwed over by welfare officers, family services, etc...? Imagine how those would be different if there was a system of publicly funded advocates to help them with knowledge of their rights? 11</td>\n      <td>many woman get situation screw welfare officer family service etc imagine would different system publicly fund advocate help knowledge right</td>\n      <td>0</td>\n      <td>[]</td>\n      <td></td>\n    </tr>\n    <tr>\n      <th>104798</th>\n      <td>0</td>\n      <td>@user In Mexico they have a lovely expression \"culturally catholic\" which is much less pass-remarkable than \"non-practicing catholic\".</td>\n      <td>mexico lovely expression \" culturally catholic much less pass - remarkable non catholic</td>\n      <td>1</td>\n      <td>[]</td>\n      <td></td>\n    </tr>\n    <tr>\n      <th>150332</th>\n      <td>1</td>\n      <td>@user Bills , Jail time or for Blacks they'll just murder them. Conservatives think we're animals.</td>\n      <td>bill jail time black murder conservative think animal</td>\n      <td>1</td>\n      <td>[]</td>\n      <td></td>\n    </tr>\n    <tr>\n      <th>117642</th>\n      <td>0</td>\n      <td>The AIDS epidemic in S.F. caused many gay males to become monogamous.  I lived in S.F. during the gay bathhouse era. It was a phuckfest and then it wasn't. [Kaposi's sarcoma](URL%27s_sarcoma) was rampant, as the first sign of infection. Some of my best friends have been gay men. I'm currently best friends with a 76-year old gay man who is the best professor of languages I've ever known. He even speak Nahuatl, the Aztec language. FYI, I'm straight.</td>\n      <td>aids epidemic sf cause many gay male become monogamous live sf gay era rampant first sign infection good friend gay man currently good friend -year old gay man good professor language ever know even speak language fyi straight</td>\n      <td>0</td>\n      <td>[]</td>\n      <td></td>\n    </tr>\n    <tr>\n      <th>110352</th>\n      <td>0</td>\n      <td>AOC and her followers are mentally ill.</td>\n      <td>aoc follower mentally ill</td>\n      <td>0</td>\n      <td>[]</td>\n      <td></td>\n    </tr>\n    <tr>\n      <th>135607</th>\n      <td>0</td>\n      <td>Don't make me make you fall in love with a bitch* like me</td>\n      <td>make make fall love bitch * like</td>\n      <td>0</td>\n      <td>[]</td>\n      <td></td>\n    </tr>\n    <tr>\n      <th>72267</th>\n      <td>0</td>\n      <td>@user i'm very entertained that all it takes is \"155 IQ\" for me to know precisely who is being discussed.</td>\n      <td>take \" iq know precisely discuss</td>\n      <td>1</td>\n      <td>[]</td>\n      <td></td>\n    </tr>\n    <tr>\n      <th>36785</th>\n      <td>1</td>\n      <td>yeah, heres a clue for the nigger author of this article. Chinks hate niggers, Kikes hate niggers, Spicks hate niggers and Towelheads hate niggers. EVen niggers hate niggers. Black Africans hate the gauche lazy American blacks because they have no morals or work ethic. Niggrus Americanus is the lowest form of human (if you can even call them that) on the planet, we should erase them</td>\n      <td>yeah clue nigger author article chink hate nigger kike hate nigger hate nigger hate nigger even nigger hate nigger black african hate lazy american black moral work ethic low form human even call planet erase</td>\n      <td>0</td>\n      <td>[]</td>\n      <td></td>\n    </tr>\n    <tr>\n      <th>117463</th>\n      <td>0</td>\n      <td>RT @user: These hoes ain't loyal http://t.co/JiK7OfqMBE</td>\n      <td>retweet hoe loyal</td>\n      <td>1</td>\n      <td>[]</td>\n      <td></td>\n    </tr>\n    <tr>\n      <th>70183</th>\n      <td>1</td>\n      <td>That's no excuse for stealing other people's technology and research and intellectual property You're all a bunch of human cockroaches is what you are And your food is disgusting on top of that you assholes will eat anything to the point where you'll make any creature go extinct because of your fucking appetites You chinks are determined to eat every Pangolin until they are all wiped off the earth</td>\n      <td>excuse steal people technology research intellectual property bunch human cockroach food disgusting top asshole eat anything point make creature go extinct fucking appetite chink determined eat every wipe earth</td>\n      <td>0</td>\n      <td>[]</td>\n      <td></td>\n    </tr>\n    <tr>\n      <th>101417</th>\n      <td>1</td>\n      <td>Wow lmao niggas really ain't shit 😹💀 URL</td>\n      <td>wow laugh * * niggas really shit cat tear joy skull url</td>\n      <td>0</td>\n      <td>[]</td>\n      <td>__cat_with_tears_of_joy__,__skull__</td>\n    </tr>\n    <tr>\n      <th>137475</th>\n      <td>0</td>\n      <td>Erica Thomas is 9 months pregnant, and she spilled crocodile tears, however she can confront the man who called her a \"bitch\" while on camera? This is absurd. This is similar to the Jussie Smollett story. Lying to create a political divide, to push a narrative. It's sick. URL</td>\n      <td>erica thomas month pregnant spill crocodile tear however confront man call \" bitch camera absurd similar jussie smollett story lie create political divide push narrative sick url</td>\n      <td>0</td>\n      <td>[]</td>\n      <td></td>\n    </tr>\n    <tr>\n      <th>113129</th>\n      <td>0</td>\n      <td>holy shit i am just getting dunked on by a cripple this is unreal</td>\n      <td>holy shit getting dunk cripple unreal</td>\n      <td>0</td>\n      <td>[]</td>\n      <td></td>\n    </tr>\n    <tr>\n      <th>100802</th>\n      <td>0</td>\n      <td>Aimee's a punk ass bitch</td>\n      <td>punk ass bitch</td>\n      <td>0</td>\n      <td>[]</td>\n      <td></td>\n    </tr>\n    <tr>\n      <th>29468</th>\n      <td>1</td>\n      <td>Dis nigga daddy shoulda just shot him and his brova on the fucking sheet or his mova shoulda just swallowed that nut cuz these niggas is a waste of fucking space</td>\n      <td>dis nigga daddy shoulda shoot fucking sheet shoulda swallow nut cuz niggas waste fucking space</td>\n      <td>0</td>\n      <td>[]</td>\n      <td></td>\n    </tr>\n    <tr>\n      <th>76827</th>\n      <td>0</td>\n      <td>You have to admire queers like this. They just want to fuck each other in the ass with dignity and respect. Meanwhile Nana is out there biting young women. Anthony wishes he had this much class</td>\n      <td>admire queer like want fuck ass dignity respect meanwhile bite young woman anthony wish much class</td>\n      <td>0</td>\n      <td>[]</td>\n      <td></td>\n    </tr>\n    <tr>\n      <th>43432</th>\n      <td>1</td>\n      <td>Lmao couple of faggots lmao, wow!</td>\n      <td>laugh * * couple faggot lmao wow</td>\n      <td>0</td>\n      <td>[]</td>\n      <td></td>\n    </tr>\n    <tr>\n      <th>19626</th>\n      <td>0</td>\n      <td>happy saturday 👯   #cali #positivevibes #model #actress #fromrussiawithlove #style…</td>\n      <td>happy saturday people bunny ear cali model actress style …</td>\n      <td>0</td>\n      <td>[#cali, #positivevibes, #model, #actress, #fromrussiawithlove, #style]</td>\n      <td>__people_with_bunny_ears__</td>\n    </tr>\n    <tr>\n      <th>162103</th>\n      <td>0</td>\n      <td>Blackdown CTC: Cadets Canada Pushes the LGBT Agenda on Our Youth - Sign: URL</td>\n      <td>cadet canada push lgbt agenda youth - sign url</td>\n      <td>0</td>\n      <td>[]</td>\n      <td></td>\n    </tr>\n    <tr>\n      <th>81992</th>\n      <td>0</td>\n      <td>Congrats! That's great you're with someone you can be open about your sexuality with, this will only make your relationship stronger</td>\n      <td>congrat great someone open sexuality make relationship strong</td>\n      <td>0</td>\n      <td>[]</td>\n      <td></td>\n    </tr>\n    <tr>\n      <th>10910</th>\n      <td>0</td>\n      <td>10007 #love, #happy,  , #fail   \"i must say my first semester at murdoch has been a delight! i met this...</td>\n      <td>love happy fail \" must say first semester delight meet</td>\n      <td>0</td>\n      <td>[#love, #happy, #fail]</td>\n      <td></td>\n    </tr>\n    <tr>\n      <th>21793</th>\n      <td>0</td>\n      <td>happy pride month i'm gay URL</td>\n      <td>happy pride month gay url</td>\n      <td>0</td>\n      <td>[]</td>\n      <td></td>\n    </tr>\n    <tr>\n      <th>144154</th>\n      <td>0</td>\n      <td>Let me guess: they're all racists.</td>\n      <td>let guess racist</td>\n      <td>0</td>\n      <td>[]</td>\n      <td></td>\n    </tr>\n    <tr>\n      <th>123254</th>\n      <td>0</td>\n      <td>You got deported for using the n word and saying shit about Nanjing. Stop lying.</td>\n      <td>get deport use n word say shit stop lie</td>\n      <td>0</td>\n      <td>[]</td>\n      <td></td>\n    </tr>\n    <tr>\n      <th>96816</th>\n      <td>0</td>\n      <td>Please help support nonbinary pride, add a #Twibbon now! URL</td>\n      <td>please help support nonbinary pride add twibbon url</td>\n      <td>0</td>\n      <td>[#twibbon]</td>\n      <td></td>\n    </tr>\n    <tr>\n      <th>66565</th>\n      <td>0</td>\n      <td>considering all of your other posts, i'm guessing you're a white teen that only listens to eminem. fuck off</td>\n      <td>consider post guess white teen listen eminem fuck</td>\n      <td>0</td>\n      <td>[]</td>\n      <td></td>\n    </tr>\n    <tr>\n      <th>5382</th>\n      <td>0</td>\n      <td>Why did I click on your profile? You gave no source anyway, you just are a hateful human being. Good grief. You have been given sources by others disproving your statements, but no you didn't, once you cited the hatesub GC, that is used only to missrepresent Transgender people and to deny their existence</td>\n      <td>click profile give source anyway hateful human good grief give source disprove statement cite gc use transgender people deny existence</td>\n      <td>0</td>\n      <td>[]</td>\n      <td></td>\n    </tr>\n    <tr>\n      <th>30529</th>\n      <td>0</td>\n      <td>Wonder why we call a man's participation in sex \"performance\".</td>\n      <td>wonder call man participation sex \" performance</td>\n      <td>0</td>\n      <td>[]</td>\n      <td></td>\n    </tr>\n    <tr>\n      <th>24652</th>\n      <td>0</td>\n      <td>Now take daddy's thick hard cock in baby girls mouth while daddy pulls on babies hard hungry nipples 😈😛</td>\n      <td>take daddys thick hard cock baby girl mouth daddy pull baby hard hungry nipple smile face horn tongue</td>\n      <td>0</td>\n      <td>[]</td>\n      <td>__smiling_face_with_horns__,__face_with_tongue__</td>\n    </tr>\n    <tr>\n      <th>156928</th>\n      <td>0</td>\n      <td>Lady in the back Blinks when \"her\" camera red light goes on. Part of the tranny SHOW. Before ya deny...see: Transvestigations on Yt. Trannies are PROUD to show How It's Done!👍</td>\n      <td>lady back blink \" camera red light go part tranny show ya transvestigation yt trannie proud show thumb</td>\n      <td>0</td>\n      <td>[]</td>\n      <td>__thumbs_up__</td>\n    </tr>\n    <tr>\n      <th>6234</th>\n      <td>0</td>\n      <td>RT @user: LIKE A FLAT TIRE HE NEED A FIX &amp;#8220;@user: Run up on em, put the gun up on em, ask a pussy nigga \"What's to ya bitch ?\"&amp;#8221;</td>\n      <td>retweet like flat tire need fix run em put gun em ask pussy nigga \" ya bitch</td>\n      <td>2</td>\n      <td>[#8220, #8221]</td>\n      <td></td>\n    </tr>\n    <tr>\n      <th>65873</th>\n      <td>0</td>\n      <td>I don't care how threatened you feel, you can't go throwing respect for human rights and due process out the window and just blow a kid away to defend your shit. But this is america the free country founded on genocide and slavery where they hold people in prison camps for years without trial and property is worth more than life so</td>\n      <td>care feel go throw respect human right due process window blow kid away defend shit america free country found genocide slavery hold people prison camp year without trial property worth life</td>\n      <td>0</td>\n      <td>[]</td>\n      <td></td>\n    </tr>\n    <tr>\n      <th>79419</th>\n      <td>1</td>\n      <td>i hate jews so much i wish the holocaust actually happened</td>\n      <td>hate jews much wish holocaust actually happen</td>\n      <td>0</td>\n      <td>[]</td>\n      <td></td>\n    </tr>\n    <tr>\n      <th>149614</th>\n      <td>0</td>\n      <td>RT @user: Talkin bout the next bitch but you ain't bout shit.</td>\n      <td>retweet talkin bout next bitch bout shit</td>\n      <td>1</td>\n      <td>[]</td>\n      <td></td>\n    </tr>\n    <tr>\n      <th>171167</th>\n      <td>0</td>\n      <td>RT @user: RIP Robin Williams, I'm gonna fuck the baddest bitch tonight for you bruh</td>\n      <td>retweet rip robin williams go fuck badd bitch tonight bruh</td>\n      <td>1</td>\n      <td>[]</td>\n      <td></td>\n    </tr>\n    <tr>\n      <th>102349</th>\n      <td>0</td>\n      <td>RT @user: It was all yellow. http://t.co/xB4dkWuoKi</td>\n      <td>retweet yellow</td>\n      <td>1</td>\n      <td>[]</td>\n      <td></td>\n    </tr>\n    <tr>\n      <th>118206</th>\n      <td>0</td>\n      <td>First, I'm not taunting him. I am pointing out that his behavior hasn't been helpful. I bring up his history because I always check if I'm dealing with a troll. I love jokes. I make libtard jokes all the time. Second, I'm bi. You know, the b in lgbt. I certainly would never use homosexuality to shame people. I will however use homosexuality to bring up a point in which you shouldn't hate on gays to hide your feelings. That subreddit is made for the gay community in mind. Third, please if your going to accuse someone of being bigoted, do what I did and actually have a point.</td>\n      <td>first taunt point behavior helpful bring history always check deal troll love joke make libtard joke time second bi know b lgbt certainly would never use homosexuality shame people however use homosexuality bring point hate gay hide feeling subreddit make gay community mind third please go accuse someone bigote actually point</td>\n      <td>0</td>\n      <td>[]</td>\n      <td></td>\n    </tr>\n    <tr>\n      <th>18046</th>\n      <td>0</td>\n      <td>Beyonce only looks black on the inside...</td>\n      <td>beyonce look black inside</td>\n      <td>0</td>\n      <td>[]</td>\n      <td></td>\n    </tr>\n  </tbody>\n</table>\n</div>"
     },
     "execution_count": 24,
     "metadata": {},
     "output_type": "execute_result"
    }
   ],
   "source": [
    "df_cleaned_train.head(50)"
   ],
   "metadata": {
    "collapsed": false,
    "ExecuteTime": {
     "end_time": "2025-01-11T17:19:43.335286300Z",
     "start_time": "2025-01-11T17:19:43.275231500Z"
    }
   }
  },
  {
   "cell_type": "code",
   "execution_count": 25,
   "outputs": [],
   "source": [
    "df_cleaned_train.to_csv('mixed_dataset/train_cleaned.csv')"
   ],
   "metadata": {
    "collapsed": false,
    "ExecuteTime": {
     "end_time": "2025-01-11T17:19:44.090974600Z",
     "start_time": "2025-01-11T17:19:43.336287600Z"
    }
   }
  },
  {
   "cell_type": "markdown",
   "source": [
    "##### Geeignet für: Deep Learning (RNN)\n",
    "es werden nicht alle implementierten Cleaning und Preprocessing Schritte ausgeführt\n",
    "\n",
    "NICHT: Auflösen Negationen (nicht implementiert), Emojis Entfernen, Lemmatisierung, Stopwords entfernen, Most/Least frequent words entfernen"
   ],
   "metadata": {
    "collapsed": false
   }
  },
  {
   "cell_type": "code",
   "execution_count": 26,
   "outputs": [],
   "source": [
    "df_origin_train_rnn = pd.read_csv('mixed_dataset/train.csv', index_col=0)\n",
    "df_clean_base_train_rnn = df_origin_train_rnn.copy()"
   ],
   "metadata": {
    "collapsed": false,
    "ExecuteTime": {
     "end_time": "2025-01-11T17:19:44.425279800Z",
     "start_time": "2025-01-11T17:19:44.090974600Z"
    }
   }
  },
  {
   "cell_type": "code",
   "execution_count": 27,
   "outputs": [
    {
     "name": "stdout",
     "output_type": "stream",
     "text": [
      "Start Cleaning\n",
      "--- Cleaning Step 1/20: to_lowercase\n",
      "--- Cleaning Step 2/20: expand_shortcuts\n",
      "--- Cleaning Step 3/20: remove_negations - SKIP (not implemented)\n",
      "--- Cleaning Step 4/20: handle_userhandles\n",
      "--- Cleaning Step 5/20: handle_hashtags\n",
      "--- Cleaning Step 6/20: extract_emojis\n",
      "--- Cleaning Step 7/20: replace_emojis\n",
      "--- Cleaning Step 8/20: replace_smileys\n",
      "--- Cleaning Step 9/20: remove_emojis - SKIP\n",
      "--- Cleaning Step 10/20: remove_url_from_tweet\n",
      "--- Cleaning Step 11/20: remove_punctuation\n",
      "--- Cleaning Step 12/20: remove_special_characters\n",
      "--- Cleaning Step 13/20: remove_digis\n",
      "--- Cleaning Step 14/20: remove_word_from_column: amp\n",
      "--- Cleaning Step 15/20: lemmatize - SKIP\n",
      "--- Cleaning Step 16/20: remove_stop_words - SKIP\n",
      "--- Cleaning Step 17/20: remove_most_frequent_words - SKIP\n",
      "--- Cleaning Step 18/20: remove_least_frequent_words - SKIP\n",
      "--- Cleaning Step 19/20: remove_duplicates\n",
      "--- Cleaning Step 20/20: remove_nans\n",
      "All Cleaning done\n"
     ]
    }
   ],
   "source": [
    "df_cleaned_train_rnn = clean_dataframe(df_clean_base_train_rnn, \"tweet\", False, True, True)"
   ],
   "metadata": {
    "collapsed": false,
    "ExecuteTime": {
     "end_time": "2025-01-11T17:20:21.737275400Z",
     "start_time": "2025-01-11T17:19:44.426280400Z"
    }
   }
  },
  {
   "cell_type": "code",
   "execution_count": 28,
   "outputs": [
    {
     "data": {
      "text/plain": "        label  \\\n140232      0   \n6083        0   \n62913       0   \n13525       0   \n6318        0   \n\n                                                                            tweet  \\\n140232             Nicki's \"that's not good\" pout bought to you by Botox[™]. #MKR   \n6083    @user @user @user @user @user @user  greater game ever!  #fun   #possible   \n62913                                          I love that you enjoy being trans.   \n13525                                         yes good shapely eurotrash manbooty   \n6318                      i can't wait for euro 2016 to sta on friday #euro2016     \n\n                                                              tweet_cleaned  \\\n140232  nickis \"thats not good\" pout bought to you by botox trade mark  mkr   \n6083                                         greater game ever fun possible   \n62913                                     i love that you enjoy being trans   \n13525                                   yes good shapely eurotrash manbooty   \n6318                            i cant wait for euro  to sta on friday euro   \n\n        user_handle           hashtags          emojis  \n140232            0             [#mkr]  __trade_mark__  \n6083              6  [#fun, #possible]                  \n62913             0                 []                  \n13525             0                 []                  \n6318              0        [#euro2016]                  ",
      "text/html": "<div>\n<style scoped>\n    .dataframe tbody tr th:only-of-type {\n        vertical-align: middle;\n    }\n\n    .dataframe tbody tr th {\n        vertical-align: top;\n    }\n\n    .dataframe thead th {\n        text-align: right;\n    }\n</style>\n<table border=\"1\" class=\"dataframe\">\n  <thead>\n    <tr style=\"text-align: right;\">\n      <th></th>\n      <th>label</th>\n      <th>tweet</th>\n      <th>tweet_cleaned</th>\n      <th>user_handle</th>\n      <th>hashtags</th>\n      <th>emojis</th>\n    </tr>\n  </thead>\n  <tbody>\n    <tr>\n      <th>140232</th>\n      <td>0</td>\n      <td>Nicki's \"that's not good\" pout bought to you by Botox[™]. #MKR</td>\n      <td>nickis \"thats not good\" pout bought to you by botox trade mark  mkr</td>\n      <td>0</td>\n      <td>[#mkr]</td>\n      <td>__trade_mark__</td>\n    </tr>\n    <tr>\n      <th>6083</th>\n      <td>0</td>\n      <td>@user @user @user @user @user @user  greater game ever!  #fun   #possible</td>\n      <td>greater game ever fun possible</td>\n      <td>6</td>\n      <td>[#fun, #possible]</td>\n      <td></td>\n    </tr>\n    <tr>\n      <th>62913</th>\n      <td>0</td>\n      <td>I love that you enjoy being trans.</td>\n      <td>i love that you enjoy being trans</td>\n      <td>0</td>\n      <td>[]</td>\n      <td></td>\n    </tr>\n    <tr>\n      <th>13525</th>\n      <td>0</td>\n      <td>yes good shapely eurotrash manbooty</td>\n      <td>yes good shapely eurotrash manbooty</td>\n      <td>0</td>\n      <td>[]</td>\n      <td></td>\n    </tr>\n    <tr>\n      <th>6318</th>\n      <td>0</td>\n      <td>i can't wait for euro 2016 to sta on friday #euro2016</td>\n      <td>i cant wait for euro  to sta on friday euro</td>\n      <td>0</td>\n      <td>[#euro2016]</td>\n      <td></td>\n    </tr>\n  </tbody>\n</table>\n</div>"
     },
     "execution_count": 28,
     "metadata": {},
     "output_type": "execute_result"
    }
   ],
   "source": [
    "df_cleaned_train_rnn.head()"
   ],
   "metadata": {
    "collapsed": false,
    "ExecuteTime": {
     "end_time": "2025-01-11T17:20:21.773306900Z",
     "start_time": "2025-01-11T17:20:21.754289800Z"
    }
   }
  },
  {
   "cell_type": "code",
   "execution_count": 29,
   "outputs": [],
   "source": [
    "df_cleaned_train_rnn.to_csv('mixed_dataset/train_cleaned_rnn.csv')"
   ],
   "metadata": {
    "collapsed": false,
    "ExecuteTime": {
     "end_time": "2025-01-11T17:20:22.679131700Z",
     "start_time": "2025-01-11T17:20:21.772306Z"
    }
   }
  },
  {
   "cell_type": "markdown",
   "source": [
    "#### Bereinigung und Vorverarbeitung: TEST"
   ],
   "metadata": {
    "collapsed": false
   }
  },
  {
   "cell_type": "markdown",
   "source": [
    "##### Geeignet für: Maschinelles Lernen\n",
    "es werden alle implementierten Cleaning und Preprocessing Schritte ausgeführt AUßER welche, bei denen Zeilen gelöscht werden"
   ],
   "metadata": {
    "collapsed": false
   }
  },
  {
   "cell_type": "code",
   "execution_count": 30,
   "outputs": [],
   "source": [
    "df_origin_test = pd.read_csv('mixed_dataset/test.csv', index_col=0)\n",
    "df_clean_base_test = df_origin_test.copy()"
   ],
   "metadata": {
    "collapsed": false,
    "ExecuteTime": {
     "end_time": "2025-01-11T17:20:22.809250100Z",
     "start_time": "2025-01-11T17:20:22.679131700Z"
    }
   }
  },
  {
   "cell_type": "code",
   "execution_count": 31,
   "outputs": [
    {
     "name": "stdout",
     "output_type": "stream",
     "text": [
      "Start Cleaning\n",
      "--- Cleaning Step 1/20: to_lowercase\n",
      "--- Cleaning Step 2/20: expand_shortcuts\n",
      "--- Cleaning Step 3/20: remove_negations - SKIP (not implemented)\n",
      "--- Cleaning Step 4/20: handle_userhandles\n",
      "--- Cleaning Step 5/20: handle_hashtags\n",
      "--- Cleaning Step 6/20: extract_emojis\n",
      "--- Cleaning Step 7/20: replace_emojis\n",
      "--- Cleaning Step 8/20: replace_smileys\n",
      "--- Cleaning Step 9/20: remove_emojis - SKIP\n",
      "--- Cleaning Step 10/20: remove_url_from_tweet\n",
      "--- Cleaning Step 11/20: remove_punctuation\n",
      "--- Cleaning Step 12/20: remove_special_characters\n",
      "--- Cleaning Step 13/20: remove_digis\n",
      "--- Cleaning Step 14/20: remove_word_from_column: amp\n",
      "--- Cleaning Step 15/20: lemmatize\n",
      "--- Cleaning Step 16/20: remove_stop_words\n",
      "--- Cleaning Step 17/20: remove_most_frequent_words\n",
      "--- Cleaning Step 18/20: remove_least_frequent_words\n",
      "--- Cleaning Step 19/20: remove_duplicates - SKIP\n",
      "--- Cleaning Step 20/20: remove_nans\n",
      "All Cleaning done\n"
     ]
    }
   ],
   "source": [
    "df_cleaned_test = clean_dataframe(df_clean_base_test, \"tweet\", False, False, False)"
   ],
   "metadata": {
    "collapsed": false,
    "ExecuteTime": {
     "end_time": "2025-01-11T17:27:43.263217300Z",
     "start_time": "2025-01-11T17:20:22.812255100Z"
    }
   }
  },
  {
   "cell_type": "code",
   "execution_count": 32,
   "outputs": [
    {
     "data": {
      "text/plain": "       label  \\\n8886       0   \n27613      0   \n18952      0   \n12485      0   \n5879       0   \n\n                                                                                                                  tweet  \\\n8886    @user #cinemaaawards final rehearsals!! gearing up for the evening!! #butterflies #stage  ! hope u all like it    \n27613                            this was amazing. the weather was not. #musical #london #matilda #westend #weekend  …    \n18952                                          child attacked by alligator at walt disney world     #waltdisneyworld      \n12485                                                                                me rn cause school is over soon      \n5879                                                                       is it #good to #sleep when  ?  #good #sleep    \n\n                                      tweet_cleaned  user_handle  \\\n8886   final gear evening butterfly stage hope like            1   \n27613      amazing weather musical london weekend …            0   \n18952           child attack alligator disney world            0   \n12485                       right cause school soon            0   \n5879                          good sleep good sleep            0   \n\n                                                hashtags emojis  \n8886              [#cinemaaawards, #butterflies, #stage]         \n27613  [#musical, #london, #matilda, #westend, #weekend]         \n18952                                 [#waltdisneyworld]         \n12485                                                 []         \n5879                      [#good, #sleep, #good, #sleep]         ",
      "text/html": "<div>\n<style scoped>\n    .dataframe tbody tr th:only-of-type {\n        vertical-align: middle;\n    }\n\n    .dataframe tbody tr th {\n        vertical-align: top;\n    }\n\n    .dataframe thead th {\n        text-align: right;\n    }\n</style>\n<table border=\"1\" class=\"dataframe\">\n  <thead>\n    <tr style=\"text-align: right;\">\n      <th></th>\n      <th>label</th>\n      <th>tweet</th>\n      <th>tweet_cleaned</th>\n      <th>user_handle</th>\n      <th>hashtags</th>\n      <th>emojis</th>\n    </tr>\n  </thead>\n  <tbody>\n    <tr>\n      <th>8886</th>\n      <td>0</td>\n      <td>@user #cinemaaawards final rehearsals!! gearing up for the evening!! #butterflies #stage  ! hope u all like it</td>\n      <td>final gear evening butterfly stage hope like</td>\n      <td>1</td>\n      <td>[#cinemaaawards, #butterflies, #stage]</td>\n      <td></td>\n    </tr>\n    <tr>\n      <th>27613</th>\n      <td>0</td>\n      <td>this was amazing. the weather was not. #musical #london #matilda #westend #weekend  …</td>\n      <td>amazing weather musical london weekend …</td>\n      <td>0</td>\n      <td>[#musical, #london, #matilda, #westend, #weekend]</td>\n      <td></td>\n    </tr>\n    <tr>\n      <th>18952</th>\n      <td>0</td>\n      <td>child attacked by alligator at walt disney world     #waltdisneyworld</td>\n      <td>child attack alligator disney world</td>\n      <td>0</td>\n      <td>[#waltdisneyworld]</td>\n      <td></td>\n    </tr>\n    <tr>\n      <th>12485</th>\n      <td>0</td>\n      <td>me rn cause school is over soon</td>\n      <td>right cause school soon</td>\n      <td>0</td>\n      <td>[]</td>\n      <td></td>\n    </tr>\n    <tr>\n      <th>5879</th>\n      <td>0</td>\n      <td>is it #good to #sleep when  ?  #good #sleep</td>\n      <td>good sleep good sleep</td>\n      <td>0</td>\n      <td>[#good, #sleep, #good, #sleep]</td>\n      <td></td>\n    </tr>\n  </tbody>\n</table>\n</div>"
     },
     "execution_count": 32,
     "metadata": {},
     "output_type": "execute_result"
    }
   ],
   "source": [
    "df_cleaned_test.head()"
   ],
   "metadata": {
    "collapsed": false,
    "ExecuteTime": {
     "end_time": "2025-01-11T17:27:43.290241900Z",
     "start_time": "2025-01-11T17:27:43.266220600Z"
    }
   }
  },
  {
   "cell_type": "code",
   "execution_count": 33,
   "outputs": [],
   "source": [
    "df_cleaned_test.to_csv('mixed_dataset/test_cleaned.csv')"
   ],
   "metadata": {
    "collapsed": false,
    "ExecuteTime": {
     "end_time": "2025-01-11T17:27:43.776686200Z",
     "start_time": "2025-01-11T17:27:43.282234400Z"
    }
   }
  },
  {
   "cell_type": "markdown",
   "source": [
    "##### Geeignet für: Deep Learning (RNN)\n",
    "es werden nicht alle implementierten Cleaning und Preprocessing Schritte ausgeführt\n",
    "\n",
    "NICHT: Duplikate entfernen, Auflösen Negationen (nicht implementiert), Emojis Entfernen, Lemmatisierung, Stopwords entfernen, Most/Least frequent words entfernen"
   ],
   "metadata": {
    "collapsed": false
   }
  },
  {
   "cell_type": "code",
   "execution_count": 34,
   "outputs": [],
   "source": [
    "df_origin_test_rnn = pd.read_csv('mixed_dataset/test.csv', index_col=0)\n",
    "df_clean_base_test_rnn = df_origin_test_rnn.copy()"
   ],
   "metadata": {
    "collapsed": false,
    "ExecuteTime": {
     "end_time": "2025-01-11T17:27:43.905679700Z",
     "start_time": "2025-01-11T17:27:43.778687400Z"
    }
   }
  },
  {
   "cell_type": "code",
   "execution_count": 35,
   "outputs": [
    {
     "name": "stdout",
     "output_type": "stream",
     "text": [
      "Start Cleaning\n",
      "--- Cleaning Step 1/20: to_lowercase\n",
      "--- Cleaning Step 2/20: expand_shortcuts\n",
      "--- Cleaning Step 3/20: remove_negations - SKIP (not implemented)\n",
      "--- Cleaning Step 4/20: handle_userhandles\n",
      "--- Cleaning Step 5/20: handle_hashtags\n",
      "--- Cleaning Step 6/20: extract_emojis\n",
      "--- Cleaning Step 7/20: replace_emojis\n",
      "--- Cleaning Step 8/20: replace_smileys\n",
      "--- Cleaning Step 9/20: remove_emojis - SKIP\n",
      "--- Cleaning Step 10/20: remove_url_from_tweet\n",
      "--- Cleaning Step 11/20: remove_punctuation\n",
      "--- Cleaning Step 12/20: remove_special_characters\n",
      "--- Cleaning Step 13/20: remove_digis\n",
      "--- Cleaning Step 14/20: remove_word_from_column: amp\n",
      "--- Cleaning Step 15/20: lemmatize - SKIP\n",
      "--- Cleaning Step 16/20: remove_stop_words - SKIP\n",
      "--- Cleaning Step 17/20: remove_most_frequent_words - SKIP\n",
      "--- Cleaning Step 18/20: remove_least_frequent_words - SKIP\n",
      "--- Cleaning Step 19/20: remove_duplicates - SKIP\n",
      "--- Cleaning Step 20/20: remove_nans\n",
      "All Cleaning done\n"
     ]
    }
   ],
   "source": [
    "df_cleaned_test_rnn = clean_dataframe(df_clean_base_test_rnn, \"tweet\", False, False, True)"
   ],
   "metadata": {
    "collapsed": false,
    "ExecuteTime": {
     "end_time": "2025-01-11T17:28:07.288947200Z",
     "start_time": "2025-01-11T17:27:43.908681800Z"
    }
   }
  },
  {
   "cell_type": "code",
   "execution_count": 36,
   "outputs": [
    {
     "data": {
      "text/plain": "       label  \\\n8886       0   \n27613      0   \n18952      0   \n12485      0   \n5879       0   \n\n                                                                                                                  tweet  \\\n8886    @user #cinemaaawards final rehearsals!! gearing up for the evening!! #butterflies #stage  ! hope u all like it    \n27613                            this was amazing. the weather was not. #musical #london #matilda #westend #weekend  …    \n18952                                          child attacked by alligator at walt disney world     #waltdisneyworld      \n12485                                                                                me rn cause school is over soon      \n5879                                                                       is it #good to #sleep when  ?  #good #sleep    \n\n                                                                                           tweet_cleaned  \\\n8886   cinemaaawards final rehearsals gearing up for the evening butterflies stage  hope You all like it   \n27613                      this was amazing the weather was not musical london matilda westend weekend …   \n18952                                   child attacked by alligator at walt disney world waltdisneyworld   \n12485                                                             me Right now cause school is over soon   \n5879                                                                is it good to sleep when  good sleep   \n\n       user_handle                                           hashtags emojis  \n8886             1             [#cinemaaawards, #butterflies, #stage]         \n27613            0  [#musical, #london, #matilda, #westend, #weekend]         \n18952            0                                 [#waltdisneyworld]         \n12485            0                                                 []         \n5879             0                     [#good, #sleep, #good, #sleep]         ",
      "text/html": "<div>\n<style scoped>\n    .dataframe tbody tr th:only-of-type {\n        vertical-align: middle;\n    }\n\n    .dataframe tbody tr th {\n        vertical-align: top;\n    }\n\n    .dataframe thead th {\n        text-align: right;\n    }\n</style>\n<table border=\"1\" class=\"dataframe\">\n  <thead>\n    <tr style=\"text-align: right;\">\n      <th></th>\n      <th>label</th>\n      <th>tweet</th>\n      <th>tweet_cleaned</th>\n      <th>user_handle</th>\n      <th>hashtags</th>\n      <th>emojis</th>\n    </tr>\n  </thead>\n  <tbody>\n    <tr>\n      <th>8886</th>\n      <td>0</td>\n      <td>@user #cinemaaawards final rehearsals!! gearing up for the evening!! #butterflies #stage  ! hope u all like it</td>\n      <td>cinemaaawards final rehearsals gearing up for the evening butterflies stage  hope You all like it</td>\n      <td>1</td>\n      <td>[#cinemaaawards, #butterflies, #stage]</td>\n      <td></td>\n    </tr>\n    <tr>\n      <th>27613</th>\n      <td>0</td>\n      <td>this was amazing. the weather was not. #musical #london #matilda #westend #weekend  …</td>\n      <td>this was amazing the weather was not musical london matilda westend weekend …</td>\n      <td>0</td>\n      <td>[#musical, #london, #matilda, #westend, #weekend]</td>\n      <td></td>\n    </tr>\n    <tr>\n      <th>18952</th>\n      <td>0</td>\n      <td>child attacked by alligator at walt disney world     #waltdisneyworld</td>\n      <td>child attacked by alligator at walt disney world waltdisneyworld</td>\n      <td>0</td>\n      <td>[#waltdisneyworld]</td>\n      <td></td>\n    </tr>\n    <tr>\n      <th>12485</th>\n      <td>0</td>\n      <td>me rn cause school is over soon</td>\n      <td>me Right now cause school is over soon</td>\n      <td>0</td>\n      <td>[]</td>\n      <td></td>\n    </tr>\n    <tr>\n      <th>5879</th>\n      <td>0</td>\n      <td>is it #good to #sleep when  ?  #good #sleep</td>\n      <td>is it good to sleep when  good sleep</td>\n      <td>0</td>\n      <td>[#good, #sleep, #good, #sleep]</td>\n      <td></td>\n    </tr>\n  </tbody>\n</table>\n</div>"
     },
     "execution_count": 36,
     "metadata": {},
     "output_type": "execute_result"
    }
   ],
   "source": [
    "df_cleaned_test_rnn.head()"
   ],
   "metadata": {
    "collapsed": false,
    "ExecuteTime": {
     "end_time": "2025-01-11T17:28:07.310804Z",
     "start_time": "2025-01-11T17:28:07.283942700Z"
    }
   }
  },
  {
   "cell_type": "code",
   "execution_count": 37,
   "outputs": [],
   "source": [
    "df_cleaned_test_rnn.to_csv('mixed_dataset/test_cleaned_rnn.csv')"
   ],
   "metadata": {
    "collapsed": false,
    "ExecuteTime": {
     "end_time": "2025-01-11T17:28:07.905345400Z",
     "start_time": "2025-01-11T17:28:07.313807400Z"
    }
   }
  },
  {
   "cell_type": "code",
   "execution_count": 37,
   "outputs": [],
   "source": [],
   "metadata": {
    "collapsed": false,
    "ExecuteTime": {
     "end_time": "2025-01-11T17:28:07.919358800Z",
     "start_time": "2025-01-11T17:28:07.905345400Z"
    }
   }
  }
 ],
 "metadata": {
  "kernelspec": {
   "display_name": "Python 3",
   "language": "python",
   "name": "python3"
  },
  "language_info": {
   "codemirror_mode": {
    "name": "ipython",
    "version": 2
   },
   "file_extension": ".py",
   "mimetype": "text/x-python",
   "name": "python",
   "nbconvert_exporter": "python",
   "pygments_lexer": "ipython2",
   "version": "2.7.6"
  }
 },
 "nbformat": 4,
 "nbformat_minor": 0
}
