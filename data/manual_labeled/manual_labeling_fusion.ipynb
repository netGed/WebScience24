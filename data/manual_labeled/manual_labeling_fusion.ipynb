{
 "cells": [
  {
   "cell_type": "code",
   "execution_count": 1,
   "metadata": {
    "collapsed": true,
    "ExecuteTime": {
     "end_time": "2025-03-15T09:17:38.604429300Z",
     "start_time": "2025-03-15T09:17:38.599424400Z"
    }
   },
   "outputs": [],
   "source": [
    "import pandas as pd"
   ]
  },
  {
   "cell_type": "markdown",
   "metadata": {
    "collapsed": false
   },
   "source": []
  },
  {
   "cell_type": "code",
   "execution_count": 2,
   "metadata": {
    "collapsed": false,
    "ExecuteTime": {
     "end_time": "2025-03-15T09:17:38.630581100Z",
     "start_time": "2025-03-15T09:17:38.604429300Z"
    }
   },
   "outputs": [
    {
     "data": {
      "text/plain": "         id                                              tweet  label  \\\n0    133373              Post the shit or kill yourself faggot      1   \n1    133374  I have so much longer be and respect for peopl...      0   \n2    133380  i hate jews so much i wish the holocaust actua...      1   \n3    133405  Poor kid would have been better off with his h...      1   \n4    133409  Will smith is breaking the stereotype of black...      0   \n..      ...                                                ...    ...   \n110  134891  Makes me sad hearing their painful experience....      0   \n111  134925  JEW Get the fuck out of here you jewish son of...      1   \n112  135063  @user @user now we have a Ebloa case in Texas....      1   \n113  135128  Niggers and their liberal friends steal everyt...      1   \n114  135131          i hope you rot in prison you sick bitch!!      1   \n\n     label_elena Creator  \n0              1   Elena  \n1              0   Elena  \n2              1   Elena  \n3              1   Elena  \n4              0   Elena  \n..           ...     ...  \n110            0   Elena  \n111            1   Elena  \n112            1   Elena  \n113            1   Elena  \n114            1   Elena  \n\n[115 rows x 5 columns]",
      "text/html": "<div>\n<style scoped>\n    .dataframe tbody tr th:only-of-type {\n        vertical-align: middle;\n    }\n\n    .dataframe tbody tr th {\n        vertical-align: top;\n    }\n\n    .dataframe thead th {\n        text-align: right;\n    }\n</style>\n<table border=\"1\" class=\"dataframe\">\n  <thead>\n    <tr style=\"text-align: right;\">\n      <th></th>\n      <th>id</th>\n      <th>tweet</th>\n      <th>label</th>\n      <th>label_elena</th>\n      <th>Creator</th>\n    </tr>\n  </thead>\n  <tbody>\n    <tr>\n      <th>0</th>\n      <td>133373</td>\n      <td>Post the shit or kill yourself faggot</td>\n      <td>1</td>\n      <td>1</td>\n      <td>Elena</td>\n    </tr>\n    <tr>\n      <th>1</th>\n      <td>133374</td>\n      <td>I have so much longer be and respect for peopl...</td>\n      <td>0</td>\n      <td>0</td>\n      <td>Elena</td>\n    </tr>\n    <tr>\n      <th>2</th>\n      <td>133380</td>\n      <td>i hate jews so much i wish the holocaust actua...</td>\n      <td>1</td>\n      <td>1</td>\n      <td>Elena</td>\n    </tr>\n    <tr>\n      <th>3</th>\n      <td>133405</td>\n      <td>Poor kid would have been better off with his h...</td>\n      <td>1</td>\n      <td>1</td>\n      <td>Elena</td>\n    </tr>\n    <tr>\n      <th>4</th>\n      <td>133409</td>\n      <td>Will smith is breaking the stereotype of black...</td>\n      <td>0</td>\n      <td>0</td>\n      <td>Elena</td>\n    </tr>\n    <tr>\n      <th>...</th>\n      <td>...</td>\n      <td>...</td>\n      <td>...</td>\n      <td>...</td>\n      <td>...</td>\n    </tr>\n    <tr>\n      <th>110</th>\n      <td>134891</td>\n      <td>Makes me sad hearing their painful experience....</td>\n      <td>0</td>\n      <td>0</td>\n      <td>Elena</td>\n    </tr>\n    <tr>\n      <th>111</th>\n      <td>134925</td>\n      <td>JEW Get the fuck out of here you jewish son of...</td>\n      <td>1</td>\n      <td>1</td>\n      <td>Elena</td>\n    </tr>\n    <tr>\n      <th>112</th>\n      <td>135063</td>\n      <td>@user @user now we have a Ebloa case in Texas....</td>\n      <td>1</td>\n      <td>1</td>\n      <td>Elena</td>\n    </tr>\n    <tr>\n      <th>113</th>\n      <td>135128</td>\n      <td>Niggers and their liberal friends steal everyt...</td>\n      <td>1</td>\n      <td>1</td>\n      <td>Elena</td>\n    </tr>\n    <tr>\n      <th>114</th>\n      <td>135131</td>\n      <td>i hope you rot in prison you sick bitch!!</td>\n      <td>1</td>\n      <td>1</td>\n      <td>Elena</td>\n    </tr>\n  </tbody>\n</table>\n<p>115 rows × 5 columns</p>\n</div>"
     },
     "execution_count": 2,
     "metadata": {},
     "output_type": "execute_result"
    }
   ],
   "source": [
    "df_e = pd.read_csv(\"manual_labeled_ef.csv\", sep=\";\")\n",
    "df_e"
   ]
  },
  {
   "cell_type": "code",
   "execution_count": 3,
   "metadata": {
    "collapsed": false,
    "ExecuteTime": {
     "end_time": "2025-03-15T09:17:47.440104200Z",
     "start_time": "2025-03-15T09:17:47.417576600Z"
    }
   },
   "outputs": [
    {
     "data": {
      "text/plain": "         id                                              tweet  label  \\\n0    133373              Post the shit or kill yourself faggot      1   \n1    133374  I have so much longer be and respect for peopl...      0   \n2    133380  i hate jews so much i wish the holocaust actua...      1   \n3    133405  Poor kid would have been better off with his h...      1   \n4    133409  Will smith is breaking the stereotype of black...      0   \n..      ...                                                ...    ...   \n110  134891  Makes me sad hearing their painful experience....      0   \n111  134925  JEW Get the fuck out of here you jewish son of...      1   \n112  135063  @user @user now we have a Ebloa case in Texas....      1   \n113  135128  Niggers and their liberal friends steal everyt...      1   \n114  135131          i hope you rot in prison you sick bitch!!      1   \n\n     label_manual creator  \n0               1   Elena  \n1               0   Elena  \n2               1   Elena  \n3               1   Elena  \n4               0   Elena  \n..            ...     ...  \n110             0   Elena  \n111             1   Elena  \n112             1   Elena  \n113             1   Elena  \n114             1   Elena  \n\n[115 rows x 5 columns]",
      "text/html": "<div>\n<style scoped>\n    .dataframe tbody tr th:only-of-type {\n        vertical-align: middle;\n    }\n\n    .dataframe tbody tr th {\n        vertical-align: top;\n    }\n\n    .dataframe thead th {\n        text-align: right;\n    }\n</style>\n<table border=\"1\" class=\"dataframe\">\n  <thead>\n    <tr style=\"text-align: right;\">\n      <th></th>\n      <th>id</th>\n      <th>tweet</th>\n      <th>label</th>\n      <th>label_manual</th>\n      <th>creator</th>\n    </tr>\n  </thead>\n  <tbody>\n    <tr>\n      <th>0</th>\n      <td>133373</td>\n      <td>Post the shit or kill yourself faggot</td>\n      <td>1</td>\n      <td>1</td>\n      <td>Elena</td>\n    </tr>\n    <tr>\n      <th>1</th>\n      <td>133374</td>\n      <td>I have so much longer be and respect for peopl...</td>\n      <td>0</td>\n      <td>0</td>\n      <td>Elena</td>\n    </tr>\n    <tr>\n      <th>2</th>\n      <td>133380</td>\n      <td>i hate jews so much i wish the holocaust actua...</td>\n      <td>1</td>\n      <td>1</td>\n      <td>Elena</td>\n    </tr>\n    <tr>\n      <th>3</th>\n      <td>133405</td>\n      <td>Poor kid would have been better off with his h...</td>\n      <td>1</td>\n      <td>1</td>\n      <td>Elena</td>\n    </tr>\n    <tr>\n      <th>4</th>\n      <td>133409</td>\n      <td>Will smith is breaking the stereotype of black...</td>\n      <td>0</td>\n      <td>0</td>\n      <td>Elena</td>\n    </tr>\n    <tr>\n      <th>...</th>\n      <td>...</td>\n      <td>...</td>\n      <td>...</td>\n      <td>...</td>\n      <td>...</td>\n    </tr>\n    <tr>\n      <th>110</th>\n      <td>134891</td>\n      <td>Makes me sad hearing their painful experience....</td>\n      <td>0</td>\n      <td>0</td>\n      <td>Elena</td>\n    </tr>\n    <tr>\n      <th>111</th>\n      <td>134925</td>\n      <td>JEW Get the fuck out of here you jewish son of...</td>\n      <td>1</td>\n      <td>1</td>\n      <td>Elena</td>\n    </tr>\n    <tr>\n      <th>112</th>\n      <td>135063</td>\n      <td>@user @user now we have a Ebloa case in Texas....</td>\n      <td>1</td>\n      <td>1</td>\n      <td>Elena</td>\n    </tr>\n    <tr>\n      <th>113</th>\n      <td>135128</td>\n      <td>Niggers and their liberal friends steal everyt...</td>\n      <td>1</td>\n      <td>1</td>\n      <td>Elena</td>\n    </tr>\n    <tr>\n      <th>114</th>\n      <td>135131</td>\n      <td>i hope you rot in prison you sick bitch!!</td>\n      <td>1</td>\n      <td>1</td>\n      <td>Elena</td>\n    </tr>\n  </tbody>\n</table>\n<p>115 rows × 5 columns</p>\n</div>"
     },
     "execution_count": 3,
     "metadata": {},
     "output_type": "execute_result"
    }
   ],
   "source": [
    "df_e.rename(columns={'label_elena':'label_manual', 'Creator':'creator'}, inplace=True)\n",
    "df_e"
   ]
  },
  {
   "cell_type": "code",
   "execution_count": 4,
   "metadata": {
    "collapsed": false,
    "ExecuteTime": {
     "end_time": "2025-03-15T09:18:07.075948800Z",
     "start_time": "2025-03-15T09:18:07.043179Z"
    }
   },
   "outputs": [
    {
     "data": {
      "text/plain": "        id                                              tweet  label  \\\n0   133373              Post the shit or kill yourself faggot      1   \n2   133380  i hate jews so much i wish the holocaust actua...      1   \n3   133405  Poor kid would have been better off with his h...      1   \n10  133444  Close your fucking legs, hoe. Use birth contro...      1   \n11  133453  @user @user Please take away their license to ...      1   \n..     ...                                                ...    ...   \n67  133641  i really hate when hungry bitches put dick bet...      0   \n69  133658  Current partner of four years is an atheist, a...      0   \n71  133663  I would lick from that asshole to your clit th...      0   \n72  133666  A black person Acting scared of harmless Anima...      0   \n73  133671    @user bitch been on there for ah mintue cdfuuuu      0   \n\n    label_manual creator  \n0              1   Elena  \n2              1   Elena  \n3              1   Elena  \n10             1   Elena  \n11             1   Elena  \n..           ...     ...  \n67             0   Elena  \n69             0   Elena  \n71             0   Elena  \n72             0   Elena  \n73             0   Elena  \n\n[100 rows x 5 columns]",
      "text/html": "<div>\n<style scoped>\n    .dataframe tbody tr th:only-of-type {\n        vertical-align: middle;\n    }\n\n    .dataframe tbody tr th {\n        vertical-align: top;\n    }\n\n    .dataframe thead th {\n        text-align: right;\n    }\n</style>\n<table border=\"1\" class=\"dataframe\">\n  <thead>\n    <tr style=\"text-align: right;\">\n      <th></th>\n      <th>id</th>\n      <th>tweet</th>\n      <th>label</th>\n      <th>label_manual</th>\n      <th>creator</th>\n    </tr>\n  </thead>\n  <tbody>\n    <tr>\n      <th>0</th>\n      <td>133373</td>\n      <td>Post the shit or kill yourself faggot</td>\n      <td>1</td>\n      <td>1</td>\n      <td>Elena</td>\n    </tr>\n    <tr>\n      <th>2</th>\n      <td>133380</td>\n      <td>i hate jews so much i wish the holocaust actua...</td>\n      <td>1</td>\n      <td>1</td>\n      <td>Elena</td>\n    </tr>\n    <tr>\n      <th>3</th>\n      <td>133405</td>\n      <td>Poor kid would have been better off with his h...</td>\n      <td>1</td>\n      <td>1</td>\n      <td>Elena</td>\n    </tr>\n    <tr>\n      <th>10</th>\n      <td>133444</td>\n      <td>Close your fucking legs, hoe. Use birth contro...</td>\n      <td>1</td>\n      <td>1</td>\n      <td>Elena</td>\n    </tr>\n    <tr>\n      <th>11</th>\n      <td>133453</td>\n      <td>@user @user Please take away their license to ...</td>\n      <td>1</td>\n      <td>1</td>\n      <td>Elena</td>\n    </tr>\n    <tr>\n      <th>...</th>\n      <td>...</td>\n      <td>...</td>\n      <td>...</td>\n      <td>...</td>\n      <td>...</td>\n    </tr>\n    <tr>\n      <th>67</th>\n      <td>133641</td>\n      <td>i really hate when hungry bitches put dick bet...</td>\n      <td>0</td>\n      <td>0</td>\n      <td>Elena</td>\n    </tr>\n    <tr>\n      <th>69</th>\n      <td>133658</td>\n      <td>Current partner of four years is an atheist, a...</td>\n      <td>0</td>\n      <td>0</td>\n      <td>Elena</td>\n    </tr>\n    <tr>\n      <th>71</th>\n      <td>133663</td>\n      <td>I would lick from that asshole to your clit th...</td>\n      <td>0</td>\n      <td>0</td>\n      <td>Elena</td>\n    </tr>\n    <tr>\n      <th>72</th>\n      <td>133666</td>\n      <td>A black person Acting scared of harmless Anima...</td>\n      <td>0</td>\n      <td>0</td>\n      <td>Elena</td>\n    </tr>\n    <tr>\n      <th>73</th>\n      <td>133671</td>\n      <td>@user bitch been on there for ah mintue cdfuuuu</td>\n      <td>0</td>\n      <td>0</td>\n      <td>Elena</td>\n    </tr>\n  </tbody>\n</table>\n<p>100 rows × 5 columns</p>\n</div>"
     },
     "execution_count": 4,
     "metadata": {},
     "output_type": "execute_result"
    }
   ],
   "source": [
    "df_e_reduced = pd.concat([df_e[df_e.label_manual == 1][0:50], df_e[df_e.label_manual == 0][0:50]])\n",
    "df_e_reduced"
   ]
  },
  {
   "cell_type": "markdown",
   "metadata": {
    "collapsed": false
   },
   "source": []
  },
  {
   "cell_type": "code",
   "execution_count": 22,
   "metadata": {
    "collapsed": false,
    "ExecuteTime": {
     "end_time": "2025-03-15T09:22:10.899581600Z",
     "start_time": "2025-03-15T09:22:10.868551800Z"
    }
   },
   "outputs": [
    {
     "data": {
      "text/plain": "                                                tweet  label  label_manual  \\\n0   RT @user: Derek Jeter ... A class act... A gre...      0             0   \n1                       Trans rights are human rights      0             0   \n2   As I mentioned at a recent reading, I probably...      0             0   \n3   RT @user: This is so great. Regular season bal...      0             0   \n4   The world would be a very dull place if we wer...      1             0   \n..                                                ...    ...           ...   \n94           wow men are fucking trash and disgusting      1             1   \n95  I hope your an anal only slut. No one should h...      1             1   \n96  do you have autism or something? why do you ta...      1             1   \n97  Stupid Asian Bitch You're an idiot and you sho...      1             1   \n98  RT @user: List of bitches who want my dick... ...      1             1   \n\n   creator  id  \n0    Imran   0  \n1    Imran   1  \n2    Imran   2  \n3    Imran   3  \n4    Imran   4  \n..     ...  ..  \n94   Imran  94  \n95   Imran  95  \n96   Imran  96  \n97   Imran  97  \n98   Imran  98  \n\n[99 rows x 5 columns]",
      "text/html": "<div>\n<style scoped>\n    .dataframe tbody tr th:only-of-type {\n        vertical-align: middle;\n    }\n\n    .dataframe tbody tr th {\n        vertical-align: top;\n    }\n\n    .dataframe thead th {\n        text-align: right;\n    }\n</style>\n<table border=\"1\" class=\"dataframe\">\n  <thead>\n    <tr style=\"text-align: right;\">\n      <th></th>\n      <th>tweet</th>\n      <th>label</th>\n      <th>label_manual</th>\n      <th>creator</th>\n      <th>id</th>\n    </tr>\n  </thead>\n  <tbody>\n    <tr>\n      <th>0</th>\n      <td>RT @user: Derek Jeter ... A class act... A gre...</td>\n      <td>0</td>\n      <td>0</td>\n      <td>Imran</td>\n      <td>0</td>\n    </tr>\n    <tr>\n      <th>1</th>\n      <td>Trans rights are human rights</td>\n      <td>0</td>\n      <td>0</td>\n      <td>Imran</td>\n      <td>1</td>\n    </tr>\n    <tr>\n      <th>2</th>\n      <td>As I mentioned at a recent reading, I probably...</td>\n      <td>0</td>\n      <td>0</td>\n      <td>Imran</td>\n      <td>2</td>\n    </tr>\n    <tr>\n      <th>3</th>\n      <td>RT @user: This is so great. Regular season bal...</td>\n      <td>0</td>\n      <td>0</td>\n      <td>Imran</td>\n      <td>3</td>\n    </tr>\n    <tr>\n      <th>4</th>\n      <td>The world would be a very dull place if we wer...</td>\n      <td>1</td>\n      <td>0</td>\n      <td>Imran</td>\n      <td>4</td>\n    </tr>\n    <tr>\n      <th>...</th>\n      <td>...</td>\n      <td>...</td>\n      <td>...</td>\n      <td>...</td>\n      <td>...</td>\n    </tr>\n    <tr>\n      <th>94</th>\n      <td>wow men are fucking trash and disgusting</td>\n      <td>1</td>\n      <td>1</td>\n      <td>Imran</td>\n      <td>94</td>\n    </tr>\n    <tr>\n      <th>95</th>\n      <td>I hope your an anal only slut. No one should h...</td>\n      <td>1</td>\n      <td>1</td>\n      <td>Imran</td>\n      <td>95</td>\n    </tr>\n    <tr>\n      <th>96</th>\n      <td>do you have autism or something? why do you ta...</td>\n      <td>1</td>\n      <td>1</td>\n      <td>Imran</td>\n      <td>96</td>\n    </tr>\n    <tr>\n      <th>97</th>\n      <td>Stupid Asian Bitch You're an idiot and you sho...</td>\n      <td>1</td>\n      <td>1</td>\n      <td>Imran</td>\n      <td>97</td>\n    </tr>\n    <tr>\n      <th>98</th>\n      <td>RT @user: List of bitches who want my dick... ...</td>\n      <td>1</td>\n      <td>1</td>\n      <td>Imran</td>\n      <td>98</td>\n    </tr>\n  </tbody>\n</table>\n<p>99 rows × 5 columns</p>\n</div>"
     },
     "execution_count": 22,
     "metadata": {},
     "output_type": "execute_result"
    }
   ],
   "source": [
    "df_i = pd.read_csv(\"manual_labeled_in.csv\", sep=\";\", encoding='mac_roman')\n",
    "df_i[\"id\"] = df_i.index\n",
    "df_i"
   ]
  },
  {
   "cell_type": "code",
   "execution_count": 23,
   "metadata": {
    "collapsed": false,
    "ExecuteTime": {
     "end_time": "2025-03-15T09:22:14.145474200Z",
     "start_time": "2025-03-15T09:22:14.123455100Z"
    }
   },
   "outputs": [
    {
     "data": {
      "text/plain": "                                                tweet  label  label_manual  \\\n0   RT @user: Derek Jeter ... A class act... A gre...      0             0   \n1                       Trans rights are human rights      0             0   \n2   As I mentioned at a recent reading, I probably...      0             0   \n3   RT @user: This is so great. Regular season bal...      0             0   \n4   The world would be a very dull place if we wer...      1             0   \n..                                                ...    ...           ...   \n94           wow men are fucking trash and disgusting      1             1   \n95  I hope your an anal only slut. No one should h...      1             1   \n96  do you have autism or something? why do you ta...      1             1   \n97  Stupid Asian Bitch You're an idiot and you sho...      1             1   \n98  RT @user: List of bitches who want my dick... ...      1             1   \n\n   creator  id  \n0    Imran   0  \n1    Imran   1  \n2    Imran   2  \n3    Imran   3  \n4    Imran   4  \n..     ...  ..  \n94   Imran  94  \n95   Imran  95  \n96   Imran  96  \n97   Imran  97  \n98   Imran  98  \n\n[99 rows x 5 columns]",
      "text/html": "<div>\n<style scoped>\n    .dataframe tbody tr th:only-of-type {\n        vertical-align: middle;\n    }\n\n    .dataframe tbody tr th {\n        vertical-align: top;\n    }\n\n    .dataframe thead th {\n        text-align: right;\n    }\n</style>\n<table border=\"1\" class=\"dataframe\">\n  <thead>\n    <tr style=\"text-align: right;\">\n      <th></th>\n      <th>tweet</th>\n      <th>label</th>\n      <th>label_manual</th>\n      <th>creator</th>\n      <th>id</th>\n    </tr>\n  </thead>\n  <tbody>\n    <tr>\n      <th>0</th>\n      <td>RT @user: Derek Jeter ... A class act... A gre...</td>\n      <td>0</td>\n      <td>0</td>\n      <td>Imran</td>\n      <td>0</td>\n    </tr>\n    <tr>\n      <th>1</th>\n      <td>Trans rights are human rights</td>\n      <td>0</td>\n      <td>0</td>\n      <td>Imran</td>\n      <td>1</td>\n    </tr>\n    <tr>\n      <th>2</th>\n      <td>As I mentioned at a recent reading, I probably...</td>\n      <td>0</td>\n      <td>0</td>\n      <td>Imran</td>\n      <td>2</td>\n    </tr>\n    <tr>\n      <th>3</th>\n      <td>RT @user: This is so great. Regular season bal...</td>\n      <td>0</td>\n      <td>0</td>\n      <td>Imran</td>\n      <td>3</td>\n    </tr>\n    <tr>\n      <th>4</th>\n      <td>The world would be a very dull place if we wer...</td>\n      <td>1</td>\n      <td>0</td>\n      <td>Imran</td>\n      <td>4</td>\n    </tr>\n    <tr>\n      <th>...</th>\n      <td>...</td>\n      <td>...</td>\n      <td>...</td>\n      <td>...</td>\n      <td>...</td>\n    </tr>\n    <tr>\n      <th>94</th>\n      <td>wow men are fucking trash and disgusting</td>\n      <td>1</td>\n      <td>1</td>\n      <td>Imran</td>\n      <td>94</td>\n    </tr>\n    <tr>\n      <th>95</th>\n      <td>I hope your an anal only slut. No one should h...</td>\n      <td>1</td>\n      <td>1</td>\n      <td>Imran</td>\n      <td>95</td>\n    </tr>\n    <tr>\n      <th>96</th>\n      <td>do you have autism or something? why do you ta...</td>\n      <td>1</td>\n      <td>1</td>\n      <td>Imran</td>\n      <td>96</td>\n    </tr>\n    <tr>\n      <th>97</th>\n      <td>Stupid Asian Bitch You're an idiot and you sho...</td>\n      <td>1</td>\n      <td>1</td>\n      <td>Imran</td>\n      <td>97</td>\n    </tr>\n    <tr>\n      <th>98</th>\n      <td>RT @user: List of bitches who want my dick... ...</td>\n      <td>1</td>\n      <td>1</td>\n      <td>Imran</td>\n      <td>98</td>\n    </tr>\n  </tbody>\n</table>\n<p>99 rows × 5 columns</p>\n</div>"
     },
     "execution_count": 23,
     "metadata": {},
     "output_type": "execute_result"
    }
   ],
   "source": [
    "df_i"
   ]
  },
  {
   "cell_type": "code",
   "execution_count": 24,
   "metadata": {
    "collapsed": false,
    "ExecuteTime": {
     "end_time": "2025-03-15T09:22:14.469466100Z",
     "start_time": "2025-03-15T09:22:14.394396900Z"
    }
   },
   "outputs": [
    {
     "data": {
      "text/plain": "       ID                                              tweet  label  \\\n0   20009  i hate jews so much i wish the holocaust actua...      1   \n1   20014                      Trans rights are human rights      0   \n2   20015  Not just Pakistani, but any Muslim athletes re...      0   \n3   20024                              gay people should die      1   \n4   20037  Pause in horror as you realize the harsh reali...      0   \n..    ...                                                ...    ...   \n95  24197  Every gook in #LosAngeles should be deported o...      1   \n96  24258  Its a woman doing or in charge of the document...      1   \n97  24273  Of course with the mandatory \"allahu akbar\" kn...      0   \n98  24349  @user when those iranian missiles hit us citie...      1   \n99  24403  Where are the pictures of the illegal bolshive...      1   \n\n    label_manual creator  \n0              1     swa  \n1              0     swa  \n2              0     swa  \n3              1     swa  \n4              0     swa  \n..           ...     ...  \n95             1     swa  \n96             1     swa  \n97             1     swa  \n98             1     swa  \n99             1     swa  \n\n[100 rows x 5 columns]",
      "text/html": "<div>\n<style scoped>\n    .dataframe tbody tr th:only-of-type {\n        vertical-align: middle;\n    }\n\n    .dataframe tbody tr th {\n        vertical-align: top;\n    }\n\n    .dataframe thead th {\n        text-align: right;\n    }\n</style>\n<table border=\"1\" class=\"dataframe\">\n  <thead>\n    <tr style=\"text-align: right;\">\n      <th></th>\n      <th>ID</th>\n      <th>tweet</th>\n      <th>label</th>\n      <th>label_manual</th>\n      <th>creator</th>\n    </tr>\n  </thead>\n  <tbody>\n    <tr>\n      <th>0</th>\n      <td>20009</td>\n      <td>i hate jews so much i wish the holocaust actua...</td>\n      <td>1</td>\n      <td>1</td>\n      <td>swa</td>\n    </tr>\n    <tr>\n      <th>1</th>\n      <td>20014</td>\n      <td>Trans rights are human rights</td>\n      <td>0</td>\n      <td>0</td>\n      <td>swa</td>\n    </tr>\n    <tr>\n      <th>2</th>\n      <td>20015</td>\n      <td>Not just Pakistani, but any Muslim athletes re...</td>\n      <td>0</td>\n      <td>0</td>\n      <td>swa</td>\n    </tr>\n    <tr>\n      <th>3</th>\n      <td>20024</td>\n      <td>gay people should die</td>\n      <td>1</td>\n      <td>1</td>\n      <td>swa</td>\n    </tr>\n    <tr>\n      <th>4</th>\n      <td>20037</td>\n      <td>Pause in horror as you realize the harsh reali...</td>\n      <td>0</td>\n      <td>0</td>\n      <td>swa</td>\n    </tr>\n    <tr>\n      <th>...</th>\n      <td>...</td>\n      <td>...</td>\n      <td>...</td>\n      <td>...</td>\n      <td>...</td>\n    </tr>\n    <tr>\n      <th>95</th>\n      <td>24197</td>\n      <td>Every gook in #LosAngeles should be deported o...</td>\n      <td>1</td>\n      <td>1</td>\n      <td>swa</td>\n    </tr>\n    <tr>\n      <th>96</th>\n      <td>24258</td>\n      <td>Its a woman doing or in charge of the document...</td>\n      <td>1</td>\n      <td>1</td>\n      <td>swa</td>\n    </tr>\n    <tr>\n      <th>97</th>\n      <td>24273</td>\n      <td>Of course with the mandatory \"allahu akbar\" kn...</td>\n      <td>0</td>\n      <td>1</td>\n      <td>swa</td>\n    </tr>\n    <tr>\n      <th>98</th>\n      <td>24349</td>\n      <td>@user when those iranian missiles hit us citie...</td>\n      <td>1</td>\n      <td>1</td>\n      <td>swa</td>\n    </tr>\n    <tr>\n      <th>99</th>\n      <td>24403</td>\n      <td>Where are the pictures of the illegal bolshive...</td>\n      <td>1</td>\n      <td>1</td>\n      <td>swa</td>\n    </tr>\n  </tbody>\n</table>\n<p>100 rows × 5 columns</p>\n</div>"
     },
     "execution_count": 24,
     "metadata": {},
     "output_type": "execute_result"
    }
   ],
   "source": [
    "df_s = pd.read_csv(\"manual_labeled_swa.csv\", index_col=0)\n",
    "df_s"
   ]
  },
  {
   "cell_type": "code",
   "execution_count": 25,
   "metadata": {
    "collapsed": false,
    "ExecuteTime": {
     "end_time": "2025-03-15T09:22:14.820367800Z",
     "start_time": "2025-03-15T09:22:14.696194900Z"
    }
   },
   "outputs": [
    {
     "data": {
      "text/plain": "       id                                              tweet  label  \\\n0   20009  i hate jews so much i wish the holocaust actua...      1   \n1   20014                      Trans rights are human rights      0   \n2   20015  Not just Pakistani, but any Muslim athletes re...      0   \n3   20024                              gay people should die      1   \n4   20037  Pause in horror as you realize the harsh reali...      0   \n..    ...                                                ...    ...   \n95  24197  Every gook in #LosAngeles should be deported o...      1   \n96  24258  Its a woman doing or in charge of the document...      1   \n97  24273  Of course with the mandatory \"allahu akbar\" kn...      0   \n98  24349  @user when those iranian missiles hit us citie...      1   \n99  24403  Where are the pictures of the illegal bolshive...      1   \n\n    label_manual creator  \n0              1    sven  \n1              0    sven  \n2              0    sven  \n3              1    sven  \n4              0    sven  \n..           ...     ...  \n95             1    sven  \n96             1    sven  \n97             1    sven  \n98             1    sven  \n99             1    sven  \n\n[100 rows x 5 columns]",
      "text/html": "<div>\n<style scoped>\n    .dataframe tbody tr th:only-of-type {\n        vertical-align: middle;\n    }\n\n    .dataframe tbody tr th {\n        vertical-align: top;\n    }\n\n    .dataframe thead th {\n        text-align: right;\n    }\n</style>\n<table border=\"1\" class=\"dataframe\">\n  <thead>\n    <tr style=\"text-align: right;\">\n      <th></th>\n      <th>id</th>\n      <th>tweet</th>\n      <th>label</th>\n      <th>label_manual</th>\n      <th>creator</th>\n    </tr>\n  </thead>\n  <tbody>\n    <tr>\n      <th>0</th>\n      <td>20009</td>\n      <td>i hate jews so much i wish the holocaust actua...</td>\n      <td>1</td>\n      <td>1</td>\n      <td>sven</td>\n    </tr>\n    <tr>\n      <th>1</th>\n      <td>20014</td>\n      <td>Trans rights are human rights</td>\n      <td>0</td>\n      <td>0</td>\n      <td>sven</td>\n    </tr>\n    <tr>\n      <th>2</th>\n      <td>20015</td>\n      <td>Not just Pakistani, but any Muslim athletes re...</td>\n      <td>0</td>\n      <td>0</td>\n      <td>sven</td>\n    </tr>\n    <tr>\n      <th>3</th>\n      <td>20024</td>\n      <td>gay people should die</td>\n      <td>1</td>\n      <td>1</td>\n      <td>sven</td>\n    </tr>\n    <tr>\n      <th>4</th>\n      <td>20037</td>\n      <td>Pause in horror as you realize the harsh reali...</td>\n      <td>0</td>\n      <td>0</td>\n      <td>sven</td>\n    </tr>\n    <tr>\n      <th>...</th>\n      <td>...</td>\n      <td>...</td>\n      <td>...</td>\n      <td>...</td>\n      <td>...</td>\n    </tr>\n    <tr>\n      <th>95</th>\n      <td>24197</td>\n      <td>Every gook in #LosAngeles should be deported o...</td>\n      <td>1</td>\n      <td>1</td>\n      <td>sven</td>\n    </tr>\n    <tr>\n      <th>96</th>\n      <td>24258</td>\n      <td>Its a woman doing or in charge of the document...</td>\n      <td>1</td>\n      <td>1</td>\n      <td>sven</td>\n    </tr>\n    <tr>\n      <th>97</th>\n      <td>24273</td>\n      <td>Of course with the mandatory \"allahu akbar\" kn...</td>\n      <td>0</td>\n      <td>1</td>\n      <td>sven</td>\n    </tr>\n    <tr>\n      <th>98</th>\n      <td>24349</td>\n      <td>@user when those iranian missiles hit us citie...</td>\n      <td>1</td>\n      <td>1</td>\n      <td>sven</td>\n    </tr>\n    <tr>\n      <th>99</th>\n      <td>24403</td>\n      <td>Where are the pictures of the illegal bolshive...</td>\n      <td>1</td>\n      <td>1</td>\n      <td>sven</td>\n    </tr>\n  </tbody>\n</table>\n<p>100 rows × 5 columns</p>\n</div>"
     },
     "execution_count": 25,
     "metadata": {},
     "output_type": "execute_result"
    }
   ],
   "source": [
    "df_s.rename(columns={'ID':'id'}, inplace=True)\n",
    "df_s[\"creator\"] = \"sven\"\n",
    "df_s"
   ]
  },
  {
   "cell_type": "code",
   "execution_count": 26,
   "metadata": {
    "collapsed": false,
    "ExecuteTime": {
     "end_time": "2025-03-15T09:22:15.057139500Z",
     "start_time": "2025-03-15T09:22:14.897336800Z"
    }
   },
   "outputs": [
    {
     "data": {
      "text/plain": "       id                                              tweet  label  \\\n0   33390                 #whitepower...I'll hang you nigger      1   \n1   33414  STOP SUCKING THAT FATASS' DICK, YOU NIGGERLOVI...      1   \n2   33434  Those fucker give true muslims a bad name, kil...      0   \n3   33499  Learn the fucking language you fucking useless...      1   \n4   33513  Yea, even white suburban people here hate his ...      0   \n..    ...                                                ...    ...   \n95  59052  @user It's fair if the religion itself is extr...      1   \n96  33563      31 Black Women Who Died In Police Custody URL      0   \n97  63813               Baby thee niggas come a dime a dozen      1   \n98  60761  Because European men are a bunch of soyboy fag...      1   \n99  64346       Normally a bad diet and lack of exercise URL      0   \n\n    manual_label creator  \n0              1   chris  \n1              1   chris  \n2              0   chris  \n3              1   chris  \n4              0   chris  \n..           ...     ...  \n95             0   chris  \n96             0   chris  \n97             1   chris  \n98             1   chris  \n99             0   chris  \n\n[100 rows x 5 columns]",
      "text/html": "<div>\n<style scoped>\n    .dataframe tbody tr th:only-of-type {\n        vertical-align: middle;\n    }\n\n    .dataframe tbody tr th {\n        vertical-align: top;\n    }\n\n    .dataframe thead th {\n        text-align: right;\n    }\n</style>\n<table border=\"1\" class=\"dataframe\">\n  <thead>\n    <tr style=\"text-align: right;\">\n      <th></th>\n      <th>id</th>\n      <th>tweet</th>\n      <th>label</th>\n      <th>manual_label</th>\n      <th>creator</th>\n    </tr>\n  </thead>\n  <tbody>\n    <tr>\n      <th>0</th>\n      <td>33390</td>\n      <td>#whitepower...I'll hang you nigger</td>\n      <td>1</td>\n      <td>1</td>\n      <td>chris</td>\n    </tr>\n    <tr>\n      <th>1</th>\n      <td>33414</td>\n      <td>STOP SUCKING THAT FATASS' DICK, YOU NIGGERLOVI...</td>\n      <td>1</td>\n      <td>1</td>\n      <td>chris</td>\n    </tr>\n    <tr>\n      <th>2</th>\n      <td>33434</td>\n      <td>Those fucker give true muslims a bad name, kil...</td>\n      <td>0</td>\n      <td>0</td>\n      <td>chris</td>\n    </tr>\n    <tr>\n      <th>3</th>\n      <td>33499</td>\n      <td>Learn the fucking language you fucking useless...</td>\n      <td>1</td>\n      <td>1</td>\n      <td>chris</td>\n    </tr>\n    <tr>\n      <th>4</th>\n      <td>33513</td>\n      <td>Yea, even white suburban people here hate his ...</td>\n      <td>0</td>\n      <td>0</td>\n      <td>chris</td>\n    </tr>\n    <tr>\n      <th>...</th>\n      <td>...</td>\n      <td>...</td>\n      <td>...</td>\n      <td>...</td>\n      <td>...</td>\n    </tr>\n    <tr>\n      <th>95</th>\n      <td>59052</td>\n      <td>@user It's fair if the religion itself is extr...</td>\n      <td>1</td>\n      <td>0</td>\n      <td>chris</td>\n    </tr>\n    <tr>\n      <th>96</th>\n      <td>33563</td>\n      <td>31 Black Women Who Died In Police Custody URL</td>\n      <td>0</td>\n      <td>0</td>\n      <td>chris</td>\n    </tr>\n    <tr>\n      <th>97</th>\n      <td>63813</td>\n      <td>Baby thee niggas come a dime a dozen</td>\n      <td>1</td>\n      <td>1</td>\n      <td>chris</td>\n    </tr>\n    <tr>\n      <th>98</th>\n      <td>60761</td>\n      <td>Because European men are a bunch of soyboy fag...</td>\n      <td>1</td>\n      <td>1</td>\n      <td>chris</td>\n    </tr>\n    <tr>\n      <th>99</th>\n      <td>64346</td>\n      <td>Normally a bad diet and lack of exercise URL</td>\n      <td>0</td>\n      <td>0</td>\n      <td>chris</td>\n    </tr>\n  </tbody>\n</table>\n<p>100 rows × 5 columns</p>\n</div>"
     },
     "execution_count": 26,
     "metadata": {},
     "output_type": "execute_result"
    }
   ],
   "source": [
    "df_c = pd.read_csv(\"manual_labeled_ch.csv\", sep=\";\")\n",
    "df_c[\"creator\"] = \"chris\"\n",
    "df_c"
   ]
  },
  {
   "cell_type": "code",
   "execution_count": 27,
   "metadata": {
    "collapsed": false,
    "ExecuteTime": {
     "end_time": "2025-03-15T09:22:15.278544300Z",
     "start_time": "2025-03-15T09:22:15.148068500Z"
    }
   },
   "outputs": [
    {
     "data": {
      "text/plain": "       id                                              tweet  label  \\\n0   33390                 #whitepower...I'll hang you nigger      1   \n1   33414  STOP SUCKING THAT FATASS' DICK, YOU NIGGERLOVI...      1   \n2   33434  Those fucker give true muslims a bad name, kil...      0   \n3   33499  Learn the fucking language you fucking useless...      1   \n4   33513  Yea, even white suburban people here hate his ...      0   \n..    ...                                                ...    ...   \n95  59052  @user It's fair if the religion itself is extr...      1   \n96  33563      31 Black Women Who Died In Police Custody URL      0   \n97  63813               Baby thee niggas come a dime a dozen      1   \n98  60761  Because European men are a bunch of soyboy fag...      1   \n99  64346       Normally a bad diet and lack of exercise URL      0   \n\n    label_manual creator  \n0              1   chris  \n1              1   chris  \n2              0   chris  \n3              1   chris  \n4              0   chris  \n..           ...     ...  \n95             0   chris  \n96             0   chris  \n97             1   chris  \n98             1   chris  \n99             0   chris  \n\n[100 rows x 5 columns]",
      "text/html": "<div>\n<style scoped>\n    .dataframe tbody tr th:only-of-type {\n        vertical-align: middle;\n    }\n\n    .dataframe tbody tr th {\n        vertical-align: top;\n    }\n\n    .dataframe thead th {\n        text-align: right;\n    }\n</style>\n<table border=\"1\" class=\"dataframe\">\n  <thead>\n    <tr style=\"text-align: right;\">\n      <th></th>\n      <th>id</th>\n      <th>tweet</th>\n      <th>label</th>\n      <th>label_manual</th>\n      <th>creator</th>\n    </tr>\n  </thead>\n  <tbody>\n    <tr>\n      <th>0</th>\n      <td>33390</td>\n      <td>#whitepower...I'll hang you nigger</td>\n      <td>1</td>\n      <td>1</td>\n      <td>chris</td>\n    </tr>\n    <tr>\n      <th>1</th>\n      <td>33414</td>\n      <td>STOP SUCKING THAT FATASS' DICK, YOU NIGGERLOVI...</td>\n      <td>1</td>\n      <td>1</td>\n      <td>chris</td>\n    </tr>\n    <tr>\n      <th>2</th>\n      <td>33434</td>\n      <td>Those fucker give true muslims a bad name, kil...</td>\n      <td>0</td>\n      <td>0</td>\n      <td>chris</td>\n    </tr>\n    <tr>\n      <th>3</th>\n      <td>33499</td>\n      <td>Learn the fucking language you fucking useless...</td>\n      <td>1</td>\n      <td>1</td>\n      <td>chris</td>\n    </tr>\n    <tr>\n      <th>4</th>\n      <td>33513</td>\n      <td>Yea, even white suburban people here hate his ...</td>\n      <td>0</td>\n      <td>0</td>\n      <td>chris</td>\n    </tr>\n    <tr>\n      <th>...</th>\n      <td>...</td>\n      <td>...</td>\n      <td>...</td>\n      <td>...</td>\n      <td>...</td>\n    </tr>\n    <tr>\n      <th>95</th>\n      <td>59052</td>\n      <td>@user It's fair if the religion itself is extr...</td>\n      <td>1</td>\n      <td>0</td>\n      <td>chris</td>\n    </tr>\n    <tr>\n      <th>96</th>\n      <td>33563</td>\n      <td>31 Black Women Who Died In Police Custody URL</td>\n      <td>0</td>\n      <td>0</td>\n      <td>chris</td>\n    </tr>\n    <tr>\n      <th>97</th>\n      <td>63813</td>\n      <td>Baby thee niggas come a dime a dozen</td>\n      <td>1</td>\n      <td>1</td>\n      <td>chris</td>\n    </tr>\n    <tr>\n      <th>98</th>\n      <td>60761</td>\n      <td>Because European men are a bunch of soyboy fag...</td>\n      <td>1</td>\n      <td>1</td>\n      <td>chris</td>\n    </tr>\n    <tr>\n      <th>99</th>\n      <td>64346</td>\n      <td>Normally a bad diet and lack of exercise URL</td>\n      <td>0</td>\n      <td>0</td>\n      <td>chris</td>\n    </tr>\n  </tbody>\n</table>\n<p>100 rows × 5 columns</p>\n</div>"
     },
     "execution_count": 27,
     "metadata": {},
     "output_type": "execute_result"
    }
   ],
   "source": [
    "df_c.rename(columns={'manual_label':'label_manual'}, inplace=True)\n",
    "df_c"
   ]
  },
  {
   "cell_type": "code",
   "execution_count": 28,
   "metadata": {
    "collapsed": false,
    "ExecuteTime": {
     "end_time": "2025-03-15T09:22:15.615507800Z",
     "start_time": "2025-03-15T09:22:15.529919400Z"
    }
   },
   "outputs": [
    {
     "data": {
      "text/plain": "       id                                              tweet  label  \\\n0    5771   @user irony is when a woman who wears make up...      1   \n1     483  No, I'm an African American. I can send you a ...      1   \n2     532  They all need to be Kicked, taken out of our c...      1   \n3     622  @user By showing your love of a genocidal anim...      1   \n4     635  Put them in a airplane, and take them back to ...      1   \n..    ...                                                ...    ...   \n94  95956  You want genocide? Cause this is how genocide ...      0   \n95  96041                        The black girl is gorgeous.      0   \n96  96064  God help us Africans have mercy on us in the n...      0   \n97  96319  India not only exporting goods and services, A...      0   \n98  96529  There a lot of marriages in Ghana in which wom...      0   \n\n    label_manual creator  \n0              1  nasiba  \n1              1  nasiba  \n2              1  nasiba  \n3              1  nasiba  \n4              1  nasiba  \n..           ...     ...  \n94             0  nasiba  \n95             0  nasiba  \n96             0  nasiba  \n97             0  nasiba  \n98             0  nasiba  \n\n[99 rows x 5 columns]",
      "text/html": "<div>\n<style scoped>\n    .dataframe tbody tr th:only-of-type {\n        vertical-align: middle;\n    }\n\n    .dataframe tbody tr th {\n        vertical-align: top;\n    }\n\n    .dataframe thead th {\n        text-align: right;\n    }\n</style>\n<table border=\"1\" class=\"dataframe\">\n  <thead>\n    <tr style=\"text-align: right;\">\n      <th></th>\n      <th>id</th>\n      <th>tweet</th>\n      <th>label</th>\n      <th>label_manual</th>\n      <th>creator</th>\n    </tr>\n  </thead>\n  <tbody>\n    <tr>\n      <th>0</th>\n      <td>5771</td>\n      <td>@user irony is when a woman who wears make up...</td>\n      <td>1</td>\n      <td>1</td>\n      <td>nasiba</td>\n    </tr>\n    <tr>\n      <th>1</th>\n      <td>483</td>\n      <td>No, I'm an African American. I can send you a ...</td>\n      <td>1</td>\n      <td>1</td>\n      <td>nasiba</td>\n    </tr>\n    <tr>\n      <th>2</th>\n      <td>532</td>\n      <td>They all need to be Kicked, taken out of our c...</td>\n      <td>1</td>\n      <td>1</td>\n      <td>nasiba</td>\n    </tr>\n    <tr>\n      <th>3</th>\n      <td>622</td>\n      <td>@user By showing your love of a genocidal anim...</td>\n      <td>1</td>\n      <td>1</td>\n      <td>nasiba</td>\n    </tr>\n    <tr>\n      <th>4</th>\n      <td>635</td>\n      <td>Put them in a airplane, and take them back to ...</td>\n      <td>1</td>\n      <td>1</td>\n      <td>nasiba</td>\n    </tr>\n    <tr>\n      <th>...</th>\n      <td>...</td>\n      <td>...</td>\n      <td>...</td>\n      <td>...</td>\n      <td>...</td>\n    </tr>\n    <tr>\n      <th>94</th>\n      <td>95956</td>\n      <td>You want genocide? Cause this is how genocide ...</td>\n      <td>0</td>\n      <td>0</td>\n      <td>nasiba</td>\n    </tr>\n    <tr>\n      <th>95</th>\n      <td>96041</td>\n      <td>The black girl is gorgeous.</td>\n      <td>0</td>\n      <td>0</td>\n      <td>nasiba</td>\n    </tr>\n    <tr>\n      <th>96</th>\n      <td>96064</td>\n      <td>God help us Africans have mercy on us in the n...</td>\n      <td>0</td>\n      <td>0</td>\n      <td>nasiba</td>\n    </tr>\n    <tr>\n      <th>97</th>\n      <td>96319</td>\n      <td>India not only exporting goods and services, A...</td>\n      <td>0</td>\n      <td>0</td>\n      <td>nasiba</td>\n    </tr>\n    <tr>\n      <th>98</th>\n      <td>96529</td>\n      <td>There a lot of marriages in Ghana in which wom...</td>\n      <td>0</td>\n      <td>0</td>\n      <td>nasiba</td>\n    </tr>\n  </tbody>\n</table>\n<p>99 rows × 5 columns</p>\n</div>"
     },
     "execution_count": 28,
     "metadata": {},
     "output_type": "execute_result"
    }
   ],
   "source": [
    "df_n = pd.read_csv(\"manual_labeled_n.csv\", sep=\";\")\n",
    "df_n.rename(columns={'Id':'id'}, inplace=True)\n",
    "df_n"
   ]
  },
  {
   "cell_type": "code",
   "execution_count": 29,
   "metadata": {
    "collapsed": false,
    "ExecuteTime": {
     "end_time": "2025-03-15T09:22:16.040502700Z",
     "start_time": "2025-03-15T09:22:16.011784100Z"
    }
   },
   "outputs": [],
   "source": [
    "df = pd.concat([df_e_reduced, df_c, df_s, df_i, df_n])"
   ]
  },
  {
   "cell_type": "code",
   "execution_count": 30,
   "metadata": {
    "collapsed": false,
    "ExecuteTime": {
     "end_time": "2025-03-15T09:22:16.488265500Z",
     "start_time": "2025-03-15T09:22:16.458885500Z"
    }
   },
   "outputs": [
    {
     "data": {
      "text/plain": "        id                                              tweet  label  \\\n0   133373              Post the shit or kill yourself faggot      1   \n2   133380  i hate jews so much i wish the holocaust actua...      1   \n3   133405  Poor kid would have been better off with his h...      1   \n10  133444  Close your fucking legs, hoe. Use birth contro...      1   \n11  133453  @user @user Please take away their license to ...      1   \n\n    label_manual creator  \n0              1   Elena  \n2              1   Elena  \n3              1   Elena  \n10             1   Elena  \n11             1   Elena  ",
      "text/html": "<div>\n<style scoped>\n    .dataframe tbody tr th:only-of-type {\n        vertical-align: middle;\n    }\n\n    .dataframe tbody tr th {\n        vertical-align: top;\n    }\n\n    .dataframe thead th {\n        text-align: right;\n    }\n</style>\n<table border=\"1\" class=\"dataframe\">\n  <thead>\n    <tr style=\"text-align: right;\">\n      <th></th>\n      <th>id</th>\n      <th>tweet</th>\n      <th>label</th>\n      <th>label_manual</th>\n      <th>creator</th>\n    </tr>\n  </thead>\n  <tbody>\n    <tr>\n      <th>0</th>\n      <td>133373</td>\n      <td>Post the shit or kill yourself faggot</td>\n      <td>1</td>\n      <td>1</td>\n      <td>Elena</td>\n    </tr>\n    <tr>\n      <th>2</th>\n      <td>133380</td>\n      <td>i hate jews so much i wish the holocaust actua...</td>\n      <td>1</td>\n      <td>1</td>\n      <td>Elena</td>\n    </tr>\n    <tr>\n      <th>3</th>\n      <td>133405</td>\n      <td>Poor kid would have been better off with his h...</td>\n      <td>1</td>\n      <td>1</td>\n      <td>Elena</td>\n    </tr>\n    <tr>\n      <th>10</th>\n      <td>133444</td>\n      <td>Close your fucking legs, hoe. Use birth contro...</td>\n      <td>1</td>\n      <td>1</td>\n      <td>Elena</td>\n    </tr>\n    <tr>\n      <th>11</th>\n      <td>133453</td>\n      <td>@user @user Please take away their license to ...</td>\n      <td>1</td>\n      <td>1</td>\n      <td>Elena</td>\n    </tr>\n  </tbody>\n</table>\n</div>"
     },
     "execution_count": 30,
     "metadata": {},
     "output_type": "execute_result"
    }
   ],
   "source": [
    "df.head()"
   ]
  },
  {
   "cell_type": "code",
   "execution_count": 31,
   "metadata": {
    "collapsed": false,
    "ExecuteTime": {
     "end_time": "2025-03-15T09:22:17.257006300Z",
     "start_time": "2025-03-15T09:22:17.235873400Z"
    }
   },
   "outputs": [
    {
     "name": "stdout",
     "output_type": "stream",
     "text": [
      "<class 'pandas.core.frame.DataFrame'>\n",
      "Index: 498 entries, 0 to 98\n",
      "Data columns (total 5 columns):\n",
      " #   Column        Non-Null Count  Dtype \n",
      "---  ------        --------------  ----- \n",
      " 0   id            498 non-null    int64 \n",
      " 1   tweet         498 non-null    object\n",
      " 2   label         498 non-null    int64 \n",
      " 3   label_manual  498 non-null    int64 \n",
      " 4   creator       498 non-null    object\n",
      "dtypes: int64(3), object(2)\n",
      "memory usage: 23.3+ KB\n"
     ]
    }
   ],
   "source": [
    "df.info()"
   ]
  },
  {
   "cell_type": "code",
   "execution_count": 32,
   "metadata": {
    "collapsed": false,
    "ExecuteTime": {
     "end_time": "2025-03-15T09:22:31.301664300Z",
     "start_time": "2025-03-15T09:22:31.265810700Z"
    }
   },
   "outputs": [],
   "source": [
    "df.to_csv(\"manual_labeled_group.csv\")"
   ]
  },
  {
   "cell_type": "code",
   "execution_count": 33,
   "metadata": {
    "collapsed": false,
    "ExecuteTime": {
     "end_time": "2025-03-15T11:52:54.335029Z",
     "start_time": "2025-03-15T11:52:54.306003Z"
    }
   },
   "outputs": [],
   "source": [
    "df = df[~df.tweet.duplicated()]"
   ]
  },
  {
   "cell_type": "code",
   "execution_count": 35,
   "metadata": {
    "collapsed": false,
    "ExecuteTime": {
     "end_time": "2025-03-15T11:53:06.172704400Z",
     "start_time": "2025-03-15T11:53:06.138287600Z"
    }
   },
   "outputs": [],
   "source": [
    "df.to_csv(\"manual_labeled_group.csv\")"
   ]
  },
  {
   "cell_type": "code",
   "execution_count": null,
   "outputs": [],
   "source": [],
   "metadata": {
    "collapsed": false
   }
  }
 ],
 "metadata": {
  "kernelspec": {
   "display_name": "Python 3",
   "language": "python",
   "name": "python3"
  },
  "language_info": {
   "codemirror_mode": {
    "name": "ipython",
    "version": 3
   },
   "file_extension": ".py",
   "mimetype": "text/x-python",
   "name": "python",
   "nbconvert_exporter": "python",
   "pygments_lexer": "ipython3",
   "version": "3.8.10"
  }
 },
 "nbformat": 4,
 "nbformat_minor": 0
}
