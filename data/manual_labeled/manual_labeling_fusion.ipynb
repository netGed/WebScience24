{
 "cells": [
  {
   "cell_type": "code",
   "execution_count": 1,
   "metadata": {
    "collapsed": true,
    "ExecuteTime": {
     "end_time": "2025-02-14T16:17:46.614054200Z",
     "start_time": "2025-02-14T16:17:45.488202100Z"
    }
   },
   "outputs": [],
   "source": [
    "import pandas as pd"
   ]
  },
  {
   "cell_type": "markdown",
   "source": [],
   "metadata": {
    "collapsed": false
   }
  },
  {
   "cell_type": "code",
   "execution_count": 2,
   "outputs": [
    {
     "data": {
      "text/plain": "         id                                              tweet  label  \\\n0    133373              Post the shit or kill yourself faggot      1   \n1    133374  I have so much longer be and respect for peopl...      0   \n2    133380  i hate jews so much i wish the holocaust actua...      1   \n3    133405  Poor kid would have been better off with his h...      1   \n4    133409  Will smith is breaking the stereotype of black...      0   \n..      ...                                                ...    ...   \n110  134891  Makes me sad hearing their painful experience....      0   \n111  134925  JEW Get the fuck out of here you jewish son of...      1   \n112  135063  @user @user now we have a Ebloa case in Texas....      1   \n113  135128  Niggers and their liberal friends steal everyt...      1   \n114  135131          i hope you rot in prison you sick bitch!!      1   \n\n     label_elena Creator  \n0              1   Elena  \n1              0   Elena  \n2              1   Elena  \n3              1   Elena  \n4              0   Elena  \n..           ...     ...  \n110            0   Elena  \n111            1   Elena  \n112            1   Elena  \n113            1   Elena  \n114            1   Elena  \n\n[115 rows x 5 columns]",
      "text/html": "<div>\n<style scoped>\n    .dataframe tbody tr th:only-of-type {\n        vertical-align: middle;\n    }\n\n    .dataframe tbody tr th {\n        vertical-align: top;\n    }\n\n    .dataframe thead th {\n        text-align: right;\n    }\n</style>\n<table border=\"1\" class=\"dataframe\">\n  <thead>\n    <tr style=\"text-align: right;\">\n      <th></th>\n      <th>id</th>\n      <th>tweet</th>\n      <th>label</th>\n      <th>label_elena</th>\n      <th>Creator</th>\n    </tr>\n  </thead>\n  <tbody>\n    <tr>\n      <th>0</th>\n      <td>133373</td>\n      <td>Post the shit or kill yourself faggot</td>\n      <td>1</td>\n      <td>1</td>\n      <td>Elena</td>\n    </tr>\n    <tr>\n      <th>1</th>\n      <td>133374</td>\n      <td>I have so much longer be and respect for peopl...</td>\n      <td>0</td>\n      <td>0</td>\n      <td>Elena</td>\n    </tr>\n    <tr>\n      <th>2</th>\n      <td>133380</td>\n      <td>i hate jews so much i wish the holocaust actua...</td>\n      <td>1</td>\n      <td>1</td>\n      <td>Elena</td>\n    </tr>\n    <tr>\n      <th>3</th>\n      <td>133405</td>\n      <td>Poor kid would have been better off with his h...</td>\n      <td>1</td>\n      <td>1</td>\n      <td>Elena</td>\n    </tr>\n    <tr>\n      <th>4</th>\n      <td>133409</td>\n      <td>Will smith is breaking the stereotype of black...</td>\n      <td>0</td>\n      <td>0</td>\n      <td>Elena</td>\n    </tr>\n    <tr>\n      <th>...</th>\n      <td>...</td>\n      <td>...</td>\n      <td>...</td>\n      <td>...</td>\n      <td>...</td>\n    </tr>\n    <tr>\n      <th>110</th>\n      <td>134891</td>\n      <td>Makes me sad hearing their painful experience....</td>\n      <td>0</td>\n      <td>0</td>\n      <td>Elena</td>\n    </tr>\n    <tr>\n      <th>111</th>\n      <td>134925</td>\n      <td>JEW Get the fuck out of here you jewish son of...</td>\n      <td>1</td>\n      <td>1</td>\n      <td>Elena</td>\n    </tr>\n    <tr>\n      <th>112</th>\n      <td>135063</td>\n      <td>@user @user now we have a Ebloa case in Texas....</td>\n      <td>1</td>\n      <td>1</td>\n      <td>Elena</td>\n    </tr>\n    <tr>\n      <th>113</th>\n      <td>135128</td>\n      <td>Niggers and their liberal friends steal everyt...</td>\n      <td>1</td>\n      <td>1</td>\n      <td>Elena</td>\n    </tr>\n    <tr>\n      <th>114</th>\n      <td>135131</td>\n      <td>i hope you rot in prison you sick bitch!!</td>\n      <td>1</td>\n      <td>1</td>\n      <td>Elena</td>\n    </tr>\n  </tbody>\n</table>\n<p>115 rows × 5 columns</p>\n</div>"
     },
     "execution_count": 2,
     "metadata": {},
     "output_type": "execute_result"
    }
   ],
   "source": [
    "df_e = pd.read_csv(\"manual_labeled_test.csv\", sep=\";\")\n",
    "df_e"
   ],
   "metadata": {
    "collapsed": false,
    "ExecuteTime": {
     "end_time": "2025-02-14T16:17:46.714486400Z",
     "start_time": "2025-02-14T16:17:46.615120700Z"
    }
   }
  },
  {
   "cell_type": "code",
   "execution_count": 9,
   "outputs": [
    {
     "data": {
      "text/plain": "         id                                              tweet  label  \\\n0    133373              Post the shit or kill yourself faggot      1   \n1    133374  I have so much longer be and respect for peopl...      0   \n2    133380  i hate jews so much i wish the holocaust actua...      1   \n3    133405  Poor kid would have been better off with his h...      1   \n4    133409  Will smith is breaking the stereotype of black...      0   \n..      ...                                                ...    ...   \n110  134891  Makes me sad hearing their painful experience....      0   \n111  134925  JEW Get the fuck out of here you jewish son of...      1   \n112  135063  @user @user now we have a Ebloa case in Texas....      1   \n113  135128  Niggers and their liberal friends steal everyt...      1   \n114  135131          i hope you rot in prison you sick bitch!!      1   \n\n     label_manual creator  \n0               1   Elena  \n1               0   Elena  \n2               1   Elena  \n3               1   Elena  \n4               0   Elena  \n..            ...     ...  \n110             0   Elena  \n111             1   Elena  \n112             1   Elena  \n113             1   Elena  \n114             1   Elena  \n\n[115 rows x 5 columns]",
      "text/html": "<div>\n<style scoped>\n    .dataframe tbody tr th:only-of-type {\n        vertical-align: middle;\n    }\n\n    .dataframe tbody tr th {\n        vertical-align: top;\n    }\n\n    .dataframe thead th {\n        text-align: right;\n    }\n</style>\n<table border=\"1\" class=\"dataframe\">\n  <thead>\n    <tr style=\"text-align: right;\">\n      <th></th>\n      <th>id</th>\n      <th>tweet</th>\n      <th>label</th>\n      <th>label_manual</th>\n      <th>creator</th>\n    </tr>\n  </thead>\n  <tbody>\n    <tr>\n      <th>0</th>\n      <td>133373</td>\n      <td>Post the shit or kill yourself faggot</td>\n      <td>1</td>\n      <td>1</td>\n      <td>Elena</td>\n    </tr>\n    <tr>\n      <th>1</th>\n      <td>133374</td>\n      <td>I have so much longer be and respect for peopl...</td>\n      <td>0</td>\n      <td>0</td>\n      <td>Elena</td>\n    </tr>\n    <tr>\n      <th>2</th>\n      <td>133380</td>\n      <td>i hate jews so much i wish the holocaust actua...</td>\n      <td>1</td>\n      <td>1</td>\n      <td>Elena</td>\n    </tr>\n    <tr>\n      <th>3</th>\n      <td>133405</td>\n      <td>Poor kid would have been better off with his h...</td>\n      <td>1</td>\n      <td>1</td>\n      <td>Elena</td>\n    </tr>\n    <tr>\n      <th>4</th>\n      <td>133409</td>\n      <td>Will smith is breaking the stereotype of black...</td>\n      <td>0</td>\n      <td>0</td>\n      <td>Elena</td>\n    </tr>\n    <tr>\n      <th>...</th>\n      <td>...</td>\n      <td>...</td>\n      <td>...</td>\n      <td>...</td>\n      <td>...</td>\n    </tr>\n    <tr>\n      <th>110</th>\n      <td>134891</td>\n      <td>Makes me sad hearing their painful experience....</td>\n      <td>0</td>\n      <td>0</td>\n      <td>Elena</td>\n    </tr>\n    <tr>\n      <th>111</th>\n      <td>134925</td>\n      <td>JEW Get the fuck out of here you jewish son of...</td>\n      <td>1</td>\n      <td>1</td>\n      <td>Elena</td>\n    </tr>\n    <tr>\n      <th>112</th>\n      <td>135063</td>\n      <td>@user @user now we have a Ebloa case in Texas....</td>\n      <td>1</td>\n      <td>1</td>\n      <td>Elena</td>\n    </tr>\n    <tr>\n      <th>113</th>\n      <td>135128</td>\n      <td>Niggers and their liberal friends steal everyt...</td>\n      <td>1</td>\n      <td>1</td>\n      <td>Elena</td>\n    </tr>\n    <tr>\n      <th>114</th>\n      <td>135131</td>\n      <td>i hope you rot in prison you sick bitch!!</td>\n      <td>1</td>\n      <td>1</td>\n      <td>Elena</td>\n    </tr>\n  </tbody>\n</table>\n<p>115 rows × 5 columns</p>\n</div>"
     },
     "execution_count": 9,
     "metadata": {},
     "output_type": "execute_result"
    }
   ],
   "source": [
    "df_e.rename(columns={'label_elena':'label_manual', 'Creator':'creator'}, inplace=True)\n",
    "df_e"
   ],
   "metadata": {
    "collapsed": false,
    "ExecuteTime": {
     "end_time": "2025-02-14T16:19:28.392497300Z",
     "start_time": "2025-02-14T16:19:28.291711400Z"
    }
   }
  },
  {
   "cell_type": "code",
   "execution_count": 42,
   "outputs": [
    {
     "data": {
      "text/plain": "        id                                              tweet  label  \\\n0   133373              Post the shit or kill yourself faggot      1   \n2   133380  i hate jews so much i wish the holocaust actua...      1   \n3   133405  Poor kid would have been better off with his h...      1   \n10  133444  Close your fucking legs, hoe. Use birth contro...      1   \n11  133453  @user @user Please take away their license to ...      1   \n..     ...                                                ...    ...   \n67  133641  i really hate when hungry bitches put dick bet...      0   \n69  133658  Current partner of four years is an atheist, a...      0   \n71  133663  I would lick from that asshole to your clit th...      0   \n72  133666  A black person Acting scared of harmless Anima...      0   \n73  133671    @user bitch been on there for ah mintue cdfuuuu      0   \n\n    label_manual creator  \n0              1   Elena  \n2              1   Elena  \n3              1   Elena  \n10             1   Elena  \n11             1   Elena  \n..           ...     ...  \n67             0   Elena  \n69             0   Elena  \n71             0   Elena  \n72             0   Elena  \n73             0   Elena  \n\n[100 rows x 5 columns]",
      "text/html": "<div>\n<style scoped>\n    .dataframe tbody tr th:only-of-type {\n        vertical-align: middle;\n    }\n\n    .dataframe tbody tr th {\n        vertical-align: top;\n    }\n\n    .dataframe thead th {\n        text-align: right;\n    }\n</style>\n<table border=\"1\" class=\"dataframe\">\n  <thead>\n    <tr style=\"text-align: right;\">\n      <th></th>\n      <th>id</th>\n      <th>tweet</th>\n      <th>label</th>\n      <th>label_manual</th>\n      <th>creator</th>\n    </tr>\n  </thead>\n  <tbody>\n    <tr>\n      <th>0</th>\n      <td>133373</td>\n      <td>Post the shit or kill yourself faggot</td>\n      <td>1</td>\n      <td>1</td>\n      <td>Elena</td>\n    </tr>\n    <tr>\n      <th>2</th>\n      <td>133380</td>\n      <td>i hate jews so much i wish the holocaust actua...</td>\n      <td>1</td>\n      <td>1</td>\n      <td>Elena</td>\n    </tr>\n    <tr>\n      <th>3</th>\n      <td>133405</td>\n      <td>Poor kid would have been better off with his h...</td>\n      <td>1</td>\n      <td>1</td>\n      <td>Elena</td>\n    </tr>\n    <tr>\n      <th>10</th>\n      <td>133444</td>\n      <td>Close your fucking legs, hoe. Use birth contro...</td>\n      <td>1</td>\n      <td>1</td>\n      <td>Elena</td>\n    </tr>\n    <tr>\n      <th>11</th>\n      <td>133453</td>\n      <td>@user @user Please take away their license to ...</td>\n      <td>1</td>\n      <td>1</td>\n      <td>Elena</td>\n    </tr>\n    <tr>\n      <th>...</th>\n      <td>...</td>\n      <td>...</td>\n      <td>...</td>\n      <td>...</td>\n      <td>...</td>\n    </tr>\n    <tr>\n      <th>67</th>\n      <td>133641</td>\n      <td>i really hate when hungry bitches put dick bet...</td>\n      <td>0</td>\n      <td>0</td>\n      <td>Elena</td>\n    </tr>\n    <tr>\n      <th>69</th>\n      <td>133658</td>\n      <td>Current partner of four years is an atheist, a...</td>\n      <td>0</td>\n      <td>0</td>\n      <td>Elena</td>\n    </tr>\n    <tr>\n      <th>71</th>\n      <td>133663</td>\n      <td>I would lick from that asshole to your clit th...</td>\n      <td>0</td>\n      <td>0</td>\n      <td>Elena</td>\n    </tr>\n    <tr>\n      <th>72</th>\n      <td>133666</td>\n      <td>A black person Acting scared of harmless Anima...</td>\n      <td>0</td>\n      <td>0</td>\n      <td>Elena</td>\n    </tr>\n    <tr>\n      <th>73</th>\n      <td>133671</td>\n      <td>@user bitch been on there for ah mintue cdfuuuu</td>\n      <td>0</td>\n      <td>0</td>\n      <td>Elena</td>\n    </tr>\n  </tbody>\n</table>\n<p>100 rows × 5 columns</p>\n</div>"
     },
     "execution_count": 42,
     "metadata": {},
     "output_type": "execute_result"
    }
   ],
   "source": [
    "df_e_reduced = pd.concat([df_e[df_e.label_manual == 1][0:50], df_e[df_e.label_manual == 0][0:50]])\n",
    "df_e_reduced"
   ],
   "metadata": {
    "collapsed": false,
    "ExecuteTime": {
     "end_time": "2025-02-14T16:28:56.793889600Z",
     "start_time": "2025-02-14T16:28:56.762639500Z"
    }
   }
  },
  {
   "cell_type": "markdown",
   "source": [],
   "metadata": {
    "collapsed": false
   }
  },
  {
   "cell_type": "code",
   "execution_count": 10,
   "outputs": [
    {
     "data": {
      "text/plain": "                                                tweet  label creator\n0   RT @user: Derek Jeter ... A class act... A gre...      0   Imran\n1                       Trans rights are human rights      0   Imran\n2   As I mentioned at a recent reading, I probably...      0   Imran\n3   RT @user: This is so great. Regular season bal...      0   Imran\n4   The world would be a very dull place if we wer...      0   Imran\n..                                                ...    ...     ...\n95           wow men are fucking trash and disgusting      1   Imran\n96  I hope your an anal only slut. No one should h...      1   Imran\n97  do you have autism or something? why do you ta...      1   Imran\n98  Stupid Asian Bitch You're an idiot and you sho...      1   Imran\n99  RT @user: List of bitches who want my dick... ...      1   Imran\n\n[100 rows x 3 columns]",
      "text/html": "<div>\n<style scoped>\n    .dataframe tbody tr th:only-of-type {\n        vertical-align: middle;\n    }\n\n    .dataframe tbody tr th {\n        vertical-align: top;\n    }\n\n    .dataframe thead th {\n        text-align: right;\n    }\n</style>\n<table border=\"1\" class=\"dataframe\">\n  <thead>\n    <tr style=\"text-align: right;\">\n      <th></th>\n      <th>tweet</th>\n      <th>label</th>\n      <th>creator</th>\n    </tr>\n  </thead>\n  <tbody>\n    <tr>\n      <th>0</th>\n      <td>RT @user: Derek Jeter ... A class act... A gre...</td>\n      <td>0</td>\n      <td>Imran</td>\n    </tr>\n    <tr>\n      <th>1</th>\n      <td>Trans rights are human rights</td>\n      <td>0</td>\n      <td>Imran</td>\n    </tr>\n    <tr>\n      <th>2</th>\n      <td>As I mentioned at a recent reading, I probably...</td>\n      <td>0</td>\n      <td>Imran</td>\n    </tr>\n    <tr>\n      <th>3</th>\n      <td>RT @user: This is so great. Regular season bal...</td>\n      <td>0</td>\n      <td>Imran</td>\n    </tr>\n    <tr>\n      <th>4</th>\n      <td>The world would be a very dull place if we wer...</td>\n      <td>0</td>\n      <td>Imran</td>\n    </tr>\n    <tr>\n      <th>...</th>\n      <td>...</td>\n      <td>...</td>\n      <td>...</td>\n    </tr>\n    <tr>\n      <th>95</th>\n      <td>wow men are fucking trash and disgusting</td>\n      <td>1</td>\n      <td>Imran</td>\n    </tr>\n    <tr>\n      <th>96</th>\n      <td>I hope your an anal only slut. No one should h...</td>\n      <td>1</td>\n      <td>Imran</td>\n    </tr>\n    <tr>\n      <th>97</th>\n      <td>do you have autism or something? why do you ta...</td>\n      <td>1</td>\n      <td>Imran</td>\n    </tr>\n    <tr>\n      <th>98</th>\n      <td>Stupid Asian Bitch You're an idiot and you sho...</td>\n      <td>1</td>\n      <td>Imran</td>\n    </tr>\n    <tr>\n      <th>99</th>\n      <td>RT @user: List of bitches who want my dick... ...</td>\n      <td>1</td>\n      <td>Imran</td>\n    </tr>\n  </tbody>\n</table>\n<p>100 rows × 3 columns</p>\n</div>"
     },
     "execution_count": 10,
     "metadata": {},
     "output_type": "execute_result"
    }
   ],
   "source": [
    "df_i = pd.read_csv(\"manual_test.csv\", sep=\";\", encoding='mac_roman')\n",
    "df_i"
   ],
   "metadata": {
    "collapsed": false,
    "ExecuteTime": {
     "end_time": "2025-02-14T16:19:31.190971900Z",
     "start_time": "2025-02-14T16:19:31.109493700Z"
    }
   }
  },
  {
   "cell_type": "code",
   "execution_count": 11,
   "outputs": [
    {
     "data": {
      "text/plain": "                                                tweet  label_manual creator\n0   RT @user: Derek Jeter ... A class act... A gre...             0   Imran\n1                       Trans rights are human rights             0   Imran\n2   As I mentioned at a recent reading, I probably...             0   Imran\n3   RT @user: This is so great. Regular season bal...             0   Imran\n4   The world would be a very dull place if we wer...             0   Imran\n..                                                ...           ...     ...\n95           wow men are fucking trash and disgusting             1   Imran\n96  I hope your an anal only slut. No one should h...             1   Imran\n97  do you have autism or something? why do you ta...             1   Imran\n98  Stupid Asian Bitch You're an idiot and you sho...             1   Imran\n99  RT @user: List of bitches who want my dick... ...             1   Imran\n\n[100 rows x 3 columns]",
      "text/html": "<div>\n<style scoped>\n    .dataframe tbody tr th:only-of-type {\n        vertical-align: middle;\n    }\n\n    .dataframe tbody tr th {\n        vertical-align: top;\n    }\n\n    .dataframe thead th {\n        text-align: right;\n    }\n</style>\n<table border=\"1\" class=\"dataframe\">\n  <thead>\n    <tr style=\"text-align: right;\">\n      <th></th>\n      <th>tweet</th>\n      <th>label_manual</th>\n      <th>creator</th>\n    </tr>\n  </thead>\n  <tbody>\n    <tr>\n      <th>0</th>\n      <td>RT @user: Derek Jeter ... A class act... A gre...</td>\n      <td>0</td>\n      <td>Imran</td>\n    </tr>\n    <tr>\n      <th>1</th>\n      <td>Trans rights are human rights</td>\n      <td>0</td>\n      <td>Imran</td>\n    </tr>\n    <tr>\n      <th>2</th>\n      <td>As I mentioned at a recent reading, I probably...</td>\n      <td>0</td>\n      <td>Imran</td>\n    </tr>\n    <tr>\n      <th>3</th>\n      <td>RT @user: This is so great. Regular season bal...</td>\n      <td>0</td>\n      <td>Imran</td>\n    </tr>\n    <tr>\n      <th>4</th>\n      <td>The world would be a very dull place if we wer...</td>\n      <td>0</td>\n      <td>Imran</td>\n    </tr>\n    <tr>\n      <th>...</th>\n      <td>...</td>\n      <td>...</td>\n      <td>...</td>\n    </tr>\n    <tr>\n      <th>95</th>\n      <td>wow men are fucking trash and disgusting</td>\n      <td>1</td>\n      <td>Imran</td>\n    </tr>\n    <tr>\n      <th>96</th>\n      <td>I hope your an anal only slut. No one should h...</td>\n      <td>1</td>\n      <td>Imran</td>\n    </tr>\n    <tr>\n      <th>97</th>\n      <td>do you have autism or something? why do you ta...</td>\n      <td>1</td>\n      <td>Imran</td>\n    </tr>\n    <tr>\n      <th>98</th>\n      <td>Stupid Asian Bitch You're an idiot and you sho...</td>\n      <td>1</td>\n      <td>Imran</td>\n    </tr>\n    <tr>\n      <th>99</th>\n      <td>RT @user: List of bitches who want my dick... ...</td>\n      <td>1</td>\n      <td>Imran</td>\n    </tr>\n  </tbody>\n</table>\n<p>100 rows × 3 columns</p>\n</div>"
     },
     "execution_count": 11,
     "metadata": {},
     "output_type": "execute_result"
    }
   ],
   "source": [
    "df_i.rename(columns={'label':'label_manual'}, inplace=True)\n",
    "df_i"
   ],
   "metadata": {
    "collapsed": false,
    "ExecuteTime": {
     "end_time": "2025-02-14T16:19:32.865169800Z",
     "start_time": "2025-02-14T16:19:32.780349400Z"
    }
   }
  },
  {
   "cell_type": "code",
   "execution_count": 13,
   "outputs": [
    {
     "data": {
      "text/plain": "       ID                                              tweet  label  \\\n0   20009  i hate jews so much i wish the holocaust actua...      1   \n1   20014                      Trans rights are human rights      0   \n2   20015  Not just Pakistani, but any Muslim athletes re...      0   \n3   20024                              gay people should die      1   \n4   20037  Pause in horror as you realize the harsh reali...      0   \n..    ...                                                ...    ...   \n95  24197  Every gook in #LosAngeles should be deported o...      1   \n96  24258  Its a woman doing or in charge of the document...      1   \n97  24273  Of course with the mandatory \"allahu akbar\" kn...      0   \n98  24349  @user when those iranian missiles hit us citie...      1   \n99  24403  Where are the pictures of the illegal bolshive...      1   \n\n    label_manual creator  \n0              1     swa  \n1              0     swa  \n2              0     swa  \n3              1     swa  \n4              0     swa  \n..           ...     ...  \n95             1     swa  \n96             1     swa  \n97             1     swa  \n98             1     swa  \n99             1     swa  \n\n[100 rows x 5 columns]",
      "text/html": "<div>\n<style scoped>\n    .dataframe tbody tr th:only-of-type {\n        vertical-align: middle;\n    }\n\n    .dataframe tbody tr th {\n        vertical-align: top;\n    }\n\n    .dataframe thead th {\n        text-align: right;\n    }\n</style>\n<table border=\"1\" class=\"dataframe\">\n  <thead>\n    <tr style=\"text-align: right;\">\n      <th></th>\n      <th>ID</th>\n      <th>tweet</th>\n      <th>label</th>\n      <th>label_manual</th>\n      <th>creator</th>\n    </tr>\n  </thead>\n  <tbody>\n    <tr>\n      <th>0</th>\n      <td>20009</td>\n      <td>i hate jews so much i wish the holocaust actua...</td>\n      <td>1</td>\n      <td>1</td>\n      <td>swa</td>\n    </tr>\n    <tr>\n      <th>1</th>\n      <td>20014</td>\n      <td>Trans rights are human rights</td>\n      <td>0</td>\n      <td>0</td>\n      <td>swa</td>\n    </tr>\n    <tr>\n      <th>2</th>\n      <td>20015</td>\n      <td>Not just Pakistani, but any Muslim athletes re...</td>\n      <td>0</td>\n      <td>0</td>\n      <td>swa</td>\n    </tr>\n    <tr>\n      <th>3</th>\n      <td>20024</td>\n      <td>gay people should die</td>\n      <td>1</td>\n      <td>1</td>\n      <td>swa</td>\n    </tr>\n    <tr>\n      <th>4</th>\n      <td>20037</td>\n      <td>Pause in horror as you realize the harsh reali...</td>\n      <td>0</td>\n      <td>0</td>\n      <td>swa</td>\n    </tr>\n    <tr>\n      <th>...</th>\n      <td>...</td>\n      <td>...</td>\n      <td>...</td>\n      <td>...</td>\n      <td>...</td>\n    </tr>\n    <tr>\n      <th>95</th>\n      <td>24197</td>\n      <td>Every gook in #LosAngeles should be deported o...</td>\n      <td>1</td>\n      <td>1</td>\n      <td>swa</td>\n    </tr>\n    <tr>\n      <th>96</th>\n      <td>24258</td>\n      <td>Its a woman doing or in charge of the document...</td>\n      <td>1</td>\n      <td>1</td>\n      <td>swa</td>\n    </tr>\n    <tr>\n      <th>97</th>\n      <td>24273</td>\n      <td>Of course with the mandatory \"allahu akbar\" kn...</td>\n      <td>0</td>\n      <td>1</td>\n      <td>swa</td>\n    </tr>\n    <tr>\n      <th>98</th>\n      <td>24349</td>\n      <td>@user when those iranian missiles hit us citie...</td>\n      <td>1</td>\n      <td>1</td>\n      <td>swa</td>\n    </tr>\n    <tr>\n      <th>99</th>\n      <td>24403</td>\n      <td>Where are the pictures of the illegal bolshive...</td>\n      <td>1</td>\n      <td>1</td>\n      <td>swa</td>\n    </tr>\n  </tbody>\n</table>\n<p>100 rows × 5 columns</p>\n</div>"
     },
     "execution_count": 13,
     "metadata": {},
     "output_type": "execute_result"
    }
   ],
   "source": [
    "df_s = pd.read_csv(\"manual_labeled_swa.csv\", index_col=0)\n",
    "df_s"
   ],
   "metadata": {
    "collapsed": false,
    "ExecuteTime": {
     "end_time": "2025-02-14T16:20:01.370253900Z",
     "start_time": "2025-02-14T16:20:01.231579Z"
    }
   }
  },
  {
   "cell_type": "code",
   "execution_count": 14,
   "outputs": [
    {
     "data": {
      "text/plain": "       id                                              tweet  label  \\\n0   20009  i hate jews so much i wish the holocaust actua...      1   \n1   20014                      Trans rights are human rights      0   \n2   20015  Not just Pakistani, but any Muslim athletes re...      0   \n3   20024                              gay people should die      1   \n4   20037  Pause in horror as you realize the harsh reali...      0   \n..    ...                                                ...    ...   \n95  24197  Every gook in #LosAngeles should be deported o...      1   \n96  24258  Its a woman doing or in charge of the document...      1   \n97  24273  Of course with the mandatory \"allahu akbar\" kn...      0   \n98  24349  @user when those iranian missiles hit us citie...      1   \n99  24403  Where are the pictures of the illegal bolshive...      1   \n\n    label_manual creator  \n0              1     swa  \n1              0     swa  \n2              0     swa  \n3              1     swa  \n4              0     swa  \n..           ...     ...  \n95             1     swa  \n96             1     swa  \n97             1     swa  \n98             1     swa  \n99             1     swa  \n\n[100 rows x 5 columns]",
      "text/html": "<div>\n<style scoped>\n    .dataframe tbody tr th:only-of-type {\n        vertical-align: middle;\n    }\n\n    .dataframe tbody tr th {\n        vertical-align: top;\n    }\n\n    .dataframe thead th {\n        text-align: right;\n    }\n</style>\n<table border=\"1\" class=\"dataframe\">\n  <thead>\n    <tr style=\"text-align: right;\">\n      <th></th>\n      <th>id</th>\n      <th>tweet</th>\n      <th>label</th>\n      <th>label_manual</th>\n      <th>creator</th>\n    </tr>\n  </thead>\n  <tbody>\n    <tr>\n      <th>0</th>\n      <td>20009</td>\n      <td>i hate jews so much i wish the holocaust actua...</td>\n      <td>1</td>\n      <td>1</td>\n      <td>swa</td>\n    </tr>\n    <tr>\n      <th>1</th>\n      <td>20014</td>\n      <td>Trans rights are human rights</td>\n      <td>0</td>\n      <td>0</td>\n      <td>swa</td>\n    </tr>\n    <tr>\n      <th>2</th>\n      <td>20015</td>\n      <td>Not just Pakistani, but any Muslim athletes re...</td>\n      <td>0</td>\n      <td>0</td>\n      <td>swa</td>\n    </tr>\n    <tr>\n      <th>3</th>\n      <td>20024</td>\n      <td>gay people should die</td>\n      <td>1</td>\n      <td>1</td>\n      <td>swa</td>\n    </tr>\n    <tr>\n      <th>4</th>\n      <td>20037</td>\n      <td>Pause in horror as you realize the harsh reali...</td>\n      <td>0</td>\n      <td>0</td>\n      <td>swa</td>\n    </tr>\n    <tr>\n      <th>...</th>\n      <td>...</td>\n      <td>...</td>\n      <td>...</td>\n      <td>...</td>\n      <td>...</td>\n    </tr>\n    <tr>\n      <th>95</th>\n      <td>24197</td>\n      <td>Every gook in #LosAngeles should be deported o...</td>\n      <td>1</td>\n      <td>1</td>\n      <td>swa</td>\n    </tr>\n    <tr>\n      <th>96</th>\n      <td>24258</td>\n      <td>Its a woman doing or in charge of the document...</td>\n      <td>1</td>\n      <td>1</td>\n      <td>swa</td>\n    </tr>\n    <tr>\n      <th>97</th>\n      <td>24273</td>\n      <td>Of course with the mandatory \"allahu akbar\" kn...</td>\n      <td>0</td>\n      <td>1</td>\n      <td>swa</td>\n    </tr>\n    <tr>\n      <th>98</th>\n      <td>24349</td>\n      <td>@user when those iranian missiles hit us citie...</td>\n      <td>1</td>\n      <td>1</td>\n      <td>swa</td>\n    </tr>\n    <tr>\n      <th>99</th>\n      <td>24403</td>\n      <td>Where are the pictures of the illegal bolshive...</td>\n      <td>1</td>\n      <td>1</td>\n      <td>swa</td>\n    </tr>\n  </tbody>\n</table>\n<p>100 rows × 5 columns</p>\n</div>"
     },
     "execution_count": 14,
     "metadata": {},
     "output_type": "execute_result"
    }
   ],
   "source": [
    "df_s.rename(columns={'ID':'id'}, inplace=True)\n",
    "df_s"
   ],
   "metadata": {
    "collapsed": false,
    "ExecuteTime": {
     "end_time": "2025-02-14T16:20:01.763495700Z",
     "start_time": "2025-02-14T16:20:01.475858700Z"
    }
   }
  },
  {
   "cell_type": "code",
   "execution_count": 15,
   "outputs": [
    {
     "data": {
      "text/plain": "       id                                              tweet  label  \\\n0   33390                 #whitepower...I'll hang you nigger      1   \n1   33414  STOP SUCKING THAT FATASS' DICK, YOU NIGGERLOVI...      1   \n2   33434  Those fucker give true muslims a bad name, kil...      0   \n3   33499  Learn the fucking language you fucking useless...      1   \n4   33513  Yea, even white suburban people here hate his ...      0   \n..    ...                                                ...    ...   \n95  59052  @user It's fair if the religion itself is extr...      1   \n96  33563      31 Black Women Who Died In Police Custody URL      0   \n97  63813               Baby thee niggas come a dime a dozen      1   \n98  60761  Because European men are a bunch of soyboy fag...      1   \n99  64346       Normally a bad diet and lack of exercise URL      0   \n\n    manual_label  \n0              1  \n1              1  \n2              0  \n3              1  \n4              0  \n..           ...  \n95             0  \n96             0  \n97             1  \n98             1  \n99             0  \n\n[100 rows x 4 columns]",
      "text/html": "<div>\n<style scoped>\n    .dataframe tbody tr th:only-of-type {\n        vertical-align: middle;\n    }\n\n    .dataframe tbody tr th {\n        vertical-align: top;\n    }\n\n    .dataframe thead th {\n        text-align: right;\n    }\n</style>\n<table border=\"1\" class=\"dataframe\">\n  <thead>\n    <tr style=\"text-align: right;\">\n      <th></th>\n      <th>id</th>\n      <th>tweet</th>\n      <th>label</th>\n      <th>manual_label</th>\n    </tr>\n  </thead>\n  <tbody>\n    <tr>\n      <th>0</th>\n      <td>33390</td>\n      <td>#whitepower...I'll hang you nigger</td>\n      <td>1</td>\n      <td>1</td>\n    </tr>\n    <tr>\n      <th>1</th>\n      <td>33414</td>\n      <td>STOP SUCKING THAT FATASS' DICK, YOU NIGGERLOVI...</td>\n      <td>1</td>\n      <td>1</td>\n    </tr>\n    <tr>\n      <th>2</th>\n      <td>33434</td>\n      <td>Those fucker give true muslims a bad name, kil...</td>\n      <td>0</td>\n      <td>0</td>\n    </tr>\n    <tr>\n      <th>3</th>\n      <td>33499</td>\n      <td>Learn the fucking language you fucking useless...</td>\n      <td>1</td>\n      <td>1</td>\n    </tr>\n    <tr>\n      <th>4</th>\n      <td>33513</td>\n      <td>Yea, even white suburban people here hate his ...</td>\n      <td>0</td>\n      <td>0</td>\n    </tr>\n    <tr>\n      <th>...</th>\n      <td>...</td>\n      <td>...</td>\n      <td>...</td>\n      <td>...</td>\n    </tr>\n    <tr>\n      <th>95</th>\n      <td>59052</td>\n      <td>@user It's fair if the religion itself is extr...</td>\n      <td>1</td>\n      <td>0</td>\n    </tr>\n    <tr>\n      <th>96</th>\n      <td>33563</td>\n      <td>31 Black Women Who Died In Police Custody URL</td>\n      <td>0</td>\n      <td>0</td>\n    </tr>\n    <tr>\n      <th>97</th>\n      <td>63813</td>\n      <td>Baby thee niggas come a dime a dozen</td>\n      <td>1</td>\n      <td>1</td>\n    </tr>\n    <tr>\n      <th>98</th>\n      <td>60761</td>\n      <td>Because European men are a bunch of soyboy fag...</td>\n      <td>1</td>\n      <td>1</td>\n    </tr>\n    <tr>\n      <th>99</th>\n      <td>64346</td>\n      <td>Normally a bad diet and lack of exercise URL</td>\n      <td>0</td>\n      <td>0</td>\n    </tr>\n  </tbody>\n</table>\n<p>100 rows × 4 columns</p>\n</div>"
     },
     "execution_count": 15,
     "metadata": {},
     "output_type": "execute_result"
    }
   ],
   "source": [
    "df_c = pd.read_csv(\"manual_labeled_ch.csv\", sep=\";\")\n",
    "df_c"
   ],
   "metadata": {
    "collapsed": false,
    "ExecuteTime": {
     "end_time": "2025-02-14T16:20:06.600094200Z",
     "start_time": "2025-02-14T16:20:06.507971900Z"
    }
   }
  },
  {
   "cell_type": "code",
   "execution_count": 27,
   "outputs": [
    {
     "data": {
      "text/plain": "       id                                              tweet  label  \\\n0   33390                 #whitepower...I'll hang you nigger      1   \n1   33414  STOP SUCKING THAT FATASS' DICK, YOU NIGGERLOVI...      1   \n2   33434  Those fucker give true muslims a bad name, kil...      0   \n3   33499  Learn the fucking language you fucking useless...      1   \n4   33513  Yea, even white suburban people here hate his ...      0   \n..    ...                                                ...    ...   \n95  59052  @user It's fair if the religion itself is extr...      1   \n96  33563      31 Black Women Who Died In Police Custody URL      0   \n97  63813               Baby thee niggas come a dime a dozen      1   \n98  60761  Because European men are a bunch of soyboy fag...      1   \n99  64346       Normally a bad diet and lack of exercise URL      0   \n\n    label_manual  \n0              1  \n1              1  \n2              0  \n3              1  \n4              0  \n..           ...  \n95             0  \n96             0  \n97             1  \n98             1  \n99             0  \n\n[100 rows x 4 columns]",
      "text/html": "<div>\n<style scoped>\n    .dataframe tbody tr th:only-of-type {\n        vertical-align: middle;\n    }\n\n    .dataframe tbody tr th {\n        vertical-align: top;\n    }\n\n    .dataframe thead th {\n        text-align: right;\n    }\n</style>\n<table border=\"1\" class=\"dataframe\">\n  <thead>\n    <tr style=\"text-align: right;\">\n      <th></th>\n      <th>id</th>\n      <th>tweet</th>\n      <th>label</th>\n      <th>label_manual</th>\n    </tr>\n  </thead>\n  <tbody>\n    <tr>\n      <th>0</th>\n      <td>33390</td>\n      <td>#whitepower...I'll hang you nigger</td>\n      <td>1</td>\n      <td>1</td>\n    </tr>\n    <tr>\n      <th>1</th>\n      <td>33414</td>\n      <td>STOP SUCKING THAT FATASS' DICK, YOU NIGGERLOVI...</td>\n      <td>1</td>\n      <td>1</td>\n    </tr>\n    <tr>\n      <th>2</th>\n      <td>33434</td>\n      <td>Those fucker give true muslims a bad name, kil...</td>\n      <td>0</td>\n      <td>0</td>\n    </tr>\n    <tr>\n      <th>3</th>\n      <td>33499</td>\n      <td>Learn the fucking language you fucking useless...</td>\n      <td>1</td>\n      <td>1</td>\n    </tr>\n    <tr>\n      <th>4</th>\n      <td>33513</td>\n      <td>Yea, even white suburban people here hate his ...</td>\n      <td>0</td>\n      <td>0</td>\n    </tr>\n    <tr>\n      <th>...</th>\n      <td>...</td>\n      <td>...</td>\n      <td>...</td>\n      <td>...</td>\n    </tr>\n    <tr>\n      <th>95</th>\n      <td>59052</td>\n      <td>@user It's fair if the religion itself is extr...</td>\n      <td>1</td>\n      <td>0</td>\n    </tr>\n    <tr>\n      <th>96</th>\n      <td>33563</td>\n      <td>31 Black Women Who Died In Police Custody URL</td>\n      <td>0</td>\n      <td>0</td>\n    </tr>\n    <tr>\n      <th>97</th>\n      <td>63813</td>\n      <td>Baby thee niggas come a dime a dozen</td>\n      <td>1</td>\n      <td>1</td>\n    </tr>\n    <tr>\n      <th>98</th>\n      <td>60761</td>\n      <td>Because European men are a bunch of soyboy fag...</td>\n      <td>1</td>\n      <td>1</td>\n    </tr>\n    <tr>\n      <th>99</th>\n      <td>64346</td>\n      <td>Normally a bad diet and lack of exercise URL</td>\n      <td>0</td>\n      <td>0</td>\n    </tr>\n  </tbody>\n</table>\n<p>100 rows × 4 columns</p>\n</div>"
     },
     "execution_count": 27,
     "metadata": {},
     "output_type": "execute_result"
    }
   ],
   "source": [
    "df_c.rename(columns={'manual_label':'label_manual'}, inplace=True)\n",
    "df_c"
   ],
   "metadata": {
    "collapsed": false,
    "ExecuteTime": {
     "end_time": "2025-02-14T16:23:05.957037200Z",
     "start_time": "2025-02-14T16:23:05.925782200Z"
    }
   }
  },
  {
   "cell_type": "code",
   "execution_count": 50,
   "outputs": [],
   "source": [
    "df = pd.concat([df_e_reduced, df_c, df_s, df_i])"
   ],
   "metadata": {
    "collapsed": false,
    "ExecuteTime": {
     "end_time": "2025-02-14T16:31:39.929668700Z",
     "start_time": "2025-02-14T16:31:39.914039700Z"
    }
   }
  },
  {
   "cell_type": "code",
   "execution_count": 51,
   "outputs": [
    {
     "data": {
      "text/plain": "          id                                              tweet  label  \\\n0   133373.0              Post the shit or kill yourself faggot    1.0   \n2   133380.0  i hate jews so much i wish the holocaust actua...    1.0   \n3   133405.0  Poor kid would have been better off with his h...    1.0   \n10  133444.0  Close your fucking legs, hoe. Use birth contro...    1.0   \n11  133453.0  @user @user Please take away their license to ...    1.0   \n\n    label_manual creator  \n0              1   Elena  \n2              1   Elena  \n3              1   Elena  \n10             1   Elena  \n11             1   Elena  ",
      "text/html": "<div>\n<style scoped>\n    .dataframe tbody tr th:only-of-type {\n        vertical-align: middle;\n    }\n\n    .dataframe tbody tr th {\n        vertical-align: top;\n    }\n\n    .dataframe thead th {\n        text-align: right;\n    }\n</style>\n<table border=\"1\" class=\"dataframe\">\n  <thead>\n    <tr style=\"text-align: right;\">\n      <th></th>\n      <th>id</th>\n      <th>tweet</th>\n      <th>label</th>\n      <th>label_manual</th>\n      <th>creator</th>\n    </tr>\n  </thead>\n  <tbody>\n    <tr>\n      <th>0</th>\n      <td>133373.0</td>\n      <td>Post the shit or kill yourself faggot</td>\n      <td>1.0</td>\n      <td>1</td>\n      <td>Elena</td>\n    </tr>\n    <tr>\n      <th>2</th>\n      <td>133380.0</td>\n      <td>i hate jews so much i wish the holocaust actua...</td>\n      <td>1.0</td>\n      <td>1</td>\n      <td>Elena</td>\n    </tr>\n    <tr>\n      <th>3</th>\n      <td>133405.0</td>\n      <td>Poor kid would have been better off with his h...</td>\n      <td>1.0</td>\n      <td>1</td>\n      <td>Elena</td>\n    </tr>\n    <tr>\n      <th>10</th>\n      <td>133444.0</td>\n      <td>Close your fucking legs, hoe. Use birth contro...</td>\n      <td>1.0</td>\n      <td>1</td>\n      <td>Elena</td>\n    </tr>\n    <tr>\n      <th>11</th>\n      <td>133453.0</td>\n      <td>@user @user Please take away their license to ...</td>\n      <td>1.0</td>\n      <td>1</td>\n      <td>Elena</td>\n    </tr>\n  </tbody>\n</table>\n</div>"
     },
     "execution_count": 51,
     "metadata": {},
     "output_type": "execute_result"
    }
   ],
   "source": [
    "df.head()"
   ],
   "metadata": {
    "collapsed": false,
    "ExecuteTime": {
     "end_time": "2025-02-14T16:31:40.129789200Z",
     "start_time": "2025-02-14T16:31:40.084275300Z"
    }
   }
  },
  {
   "cell_type": "code",
   "execution_count": 52,
   "outputs": [
    {
     "name": "stdout",
     "output_type": "stream",
     "text": [
      "<class 'pandas.core.frame.DataFrame'>\n",
      "Int64Index: 400 entries, 0 to 99\n",
      "Data columns (total 5 columns):\n",
      " #   Column        Non-Null Count  Dtype  \n",
      "---  ------        --------------  -----  \n",
      " 0   id            300 non-null    float64\n",
      " 1   tweet         400 non-null    object \n",
      " 2   label         300 non-null    float64\n",
      " 3   label_manual  400 non-null    int64  \n",
      " 4   creator       300 non-null    object \n",
      "dtypes: float64(2), int64(1), object(2)\n",
      "memory usage: 18.8+ KB\n"
     ]
    }
   ],
   "source": [
    "df.info()"
   ],
   "metadata": {
    "collapsed": false,
    "ExecuteTime": {
     "end_time": "2025-02-14T16:31:40.747589600Z",
     "start_time": "2025-02-14T16:31:40.728651200Z"
    }
   }
  },
  {
   "cell_type": "code",
   "execution_count": 54,
   "outputs": [],
   "source": [
    "df.to_csv(\"manual_labeled_group.csv\")"
   ],
   "metadata": {
    "collapsed": false,
    "ExecuteTime": {
     "end_time": "2025-02-14T16:33:49.282824500Z",
     "start_time": "2025-02-14T16:33:49.235945Z"
    }
   }
  },
  {
   "cell_type": "code",
   "execution_count": null,
   "outputs": [],
   "source": [],
   "metadata": {
    "collapsed": false
   }
  }
 ],
 "metadata": {
  "kernelspec": {
   "display_name": "Python 3",
   "language": "python",
   "name": "python3"
  },
  "language_info": {
   "codemirror_mode": {
    "name": "ipython",
    "version": 2
   },
   "file_extension": ".py",
   "mimetype": "text/x-python",
   "name": "python",
   "nbconvert_exporter": "python",
   "pygments_lexer": "ipython2",
   "version": "2.7.6"
  }
 },
 "nbformat": 4,
 "nbformat_minor": 0
}
