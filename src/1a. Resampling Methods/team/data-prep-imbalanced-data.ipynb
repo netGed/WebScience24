{
 "cells": [
  {
   "cell_type": "markdown",
   "source": [
    "#### Imports & Downloads"
   ],
   "metadata": {
    "collapsed": false
   }
  },
  {
   "cell_type": "code",
   "execution_count": 56,
   "outputs": [],
   "source": [
    "import pandas as pd\n",
    "import os\n",
    "from sklearn.feature_extraction.text import TfidfVectorizer\n",
    "import numpy as np\n",
    "from imblearn.under_sampling import NearMiss, CondensedNearestNeighbour, NeighbourhoodCleaningRule, RandomUnderSampler\n",
    "from imblearn.over_sampling import SMOTE, BorderlineSMOTE, SVMSMOTE, ADASYN\n",
    "from imblearn.under_sampling import TomekLinks\n",
    "import time\n",
    "from sklearn.model_selection import GridSearchCV\n",
    "from imblearn.combine import SMOTETomek, SMOTEENN\n",
    "\n",
    "from collections import Counter\n",
    "from sklearn.metrics import precision_score, recall_score, f1_score, confusion_matrix, classification_report\n",
    "from sklearn import metrics\n",
    "from sklearn.model_selection import train_test_split\n",
    "\n",
    "from sklearn.ensemble import RandomForestClassifier, StackingClassifier\n",
    "from sklearn.svm import LinearSVC\n",
    "from sklearn.naive_bayes import MultinomialNB"
   ],
   "metadata": {
    "collapsed": false,
    "ExecuteTime": {
     "end_time": "2024-11-14T19:43:57.272058700Z",
     "start_time": "2024-11-14T19:43:57.133782900Z"
    }
   }
  },
  {
   "cell_type": "markdown",
   "source": [
    "### Daten"
   ],
   "metadata": {
    "collapsed": false
   }
  },
  {
   "cell_type": "markdown",
   "source": [
    "#### Originaldaten ohne umfassende Vorverarbeitung"
   ],
   "metadata": {
    "collapsed": false
   }
  },
  {
   "cell_type": "code",
   "execution_count": 2,
   "outputs": [
    {
     "data": {
      "text/plain": "    label                                              tweet\nid                                                          \n1       0   @user when a father is dysfunctional and is s...\n2       0  @user @user thanks for #lyft credit i can't us...\n3       0                                bihday your majesty\n4       0  #model   i love u take with u all the time in ...\n5       0             factsguide: society now    #motivation",
      "text/html": "<div>\n<style scoped>\n    .dataframe tbody tr th:only-of-type {\n        vertical-align: middle;\n    }\n\n    .dataframe tbody tr th {\n        vertical-align: top;\n    }\n\n    .dataframe thead th {\n        text-align: right;\n    }\n</style>\n<table border=\"1\" class=\"dataframe\">\n  <thead>\n    <tr style=\"text-align: right;\">\n      <th></th>\n      <th>label</th>\n      <th>tweet</th>\n    </tr>\n    <tr>\n      <th>id</th>\n      <th></th>\n      <th></th>\n    </tr>\n  </thead>\n  <tbody>\n    <tr>\n      <th>1</th>\n      <td>0</td>\n      <td>@user when a father is dysfunctional and is s...</td>\n    </tr>\n    <tr>\n      <th>2</th>\n      <td>0</td>\n      <td>@user @user thanks for #lyft credit i can't us...</td>\n    </tr>\n    <tr>\n      <th>3</th>\n      <td>0</td>\n      <td>bihday your majesty</td>\n    </tr>\n    <tr>\n      <th>4</th>\n      <td>0</td>\n      <td>#model   i love u take with u all the time in ...</td>\n    </tr>\n    <tr>\n      <th>5</th>\n      <td>0</td>\n      <td>factsguide: society now    #motivation</td>\n    </tr>\n  </tbody>\n</table>\n</div>"
     },
     "execution_count": 2,
     "metadata": {},
     "output_type": "execute_result"
    }
   ],
   "source": [
    "current_dir = os.getcwd()\n",
    "csv_path_train = os.path.abspath(os.path.join(current_dir, '../../../data/twitter_hate-speech/train_basic_cleaned.csv'))\n",
    "df = pd.read_csv(csv_path_train, encoding='utf-8', index_col=0)\n",
    "\n",
    "df.head()"
   ],
   "metadata": {
    "collapsed": false,
    "ExecuteTime": {
     "end_time": "2024-11-14T19:18:29.918728300Z",
     "start_time": "2024-11-14T19:18:29.854665500Z"
    }
   }
  },
  {
   "cell_type": "code",
   "execution_count": 3,
   "outputs": [
    {
     "name": "stdout",
     "output_type": "stream",
     "text": [
      "Positive: 2013\n",
      "Negative: 27517\n",
      "Verhältnis: 13.669647292598112\n"
     ]
    }
   ],
   "source": [
    "df['label'].value_counts()\n",
    "positive = len(df[df['label'] == 1])\n",
    "negative = len(df[df['label'] == 0])\n",
    "print(\"Positive:\", positive)\n",
    "print(\"Negative:\", negative)\n",
    "print(\"Verhältnis:\", negative / positive)"
   ],
   "metadata": {
    "collapsed": false,
    "ExecuteTime": {
     "end_time": "2024-11-14T19:18:29.996850600Z",
     "start_time": "2024-11-14T19:18:29.893129500Z"
    }
   }
  },
  {
   "cell_type": "markdown",
   "source": [
    "#### Vorverarbeitete Daten"
   ],
   "metadata": {
    "collapsed": false
   }
  },
  {
   "cell_type": "code",
   "execution_count": 4,
   "outputs": [
    {
     "data": {
      "text/plain": "    label                                              tweet  \\\nid                                                             \n1       0   @user when a father is dysfunctional and is s...   \n2       0  @user @user thanks for #lyft credit i can't us...   \n3       0                                bihday your majesty   \n4       0  #model   i love u take with u all the time in ...   \n5       0             factsguide: society now    #motivation   \n\n                                        tweet_cleaned  user_handle  \\\nid                                                                   \n1                         father selfish drag kid run            1   \n2               thank lyft credit use cause offer van            2   \n3                                      bihday majesty            0   \n4   model take time mobile phone kiss sunglass mou...            0   \n5                       factsguide society motivation            0   \n\n                                    hashtags  \\\nid                                             \n1                                   ['#run']   \n2   ['#lyft', '#disapointed', '#getthanked']   \n3                                         []   \n4                                 ['#model']   \n5                            ['#motivation']   \n\n                                               emojis  \nid                                                     \n1                                                 NaN  \n2                                                 NaN  \n3                                                 NaN  \n4   :mobile_phone:,:kissing_face_with_smiling_eyes...  \n5                                                 NaN  ",
      "text/html": "<div>\n<style scoped>\n    .dataframe tbody tr th:only-of-type {\n        vertical-align: middle;\n    }\n\n    .dataframe tbody tr th {\n        vertical-align: top;\n    }\n\n    .dataframe thead th {\n        text-align: right;\n    }\n</style>\n<table border=\"1\" class=\"dataframe\">\n  <thead>\n    <tr style=\"text-align: right;\">\n      <th></th>\n      <th>label</th>\n      <th>tweet</th>\n      <th>tweet_cleaned</th>\n      <th>user_handle</th>\n      <th>hashtags</th>\n      <th>emojis</th>\n    </tr>\n    <tr>\n      <th>id</th>\n      <th></th>\n      <th></th>\n      <th></th>\n      <th></th>\n      <th></th>\n      <th></th>\n    </tr>\n  </thead>\n  <tbody>\n    <tr>\n      <th>1</th>\n      <td>0</td>\n      <td>@user when a father is dysfunctional and is s...</td>\n      <td>father selfish drag kid run</td>\n      <td>1</td>\n      <td>['#run']</td>\n      <td>NaN</td>\n    </tr>\n    <tr>\n      <th>2</th>\n      <td>0</td>\n      <td>@user @user thanks for #lyft credit i can't us...</td>\n      <td>thank lyft credit use cause offer van</td>\n      <td>2</td>\n      <td>['#lyft', '#disapointed', '#getthanked']</td>\n      <td>NaN</td>\n    </tr>\n    <tr>\n      <th>3</th>\n      <td>0</td>\n      <td>bihday your majesty</td>\n      <td>bihday majesty</td>\n      <td>0</td>\n      <td>[]</td>\n      <td>NaN</td>\n    </tr>\n    <tr>\n      <th>4</th>\n      <td>0</td>\n      <td>#model   i love u take with u all the time in ...</td>\n      <td>model take time mobile phone kiss sunglass mou...</td>\n      <td>0</td>\n      <td>['#model']</td>\n      <td>:mobile_phone:,:kissing_face_with_smiling_eyes...</td>\n    </tr>\n    <tr>\n      <th>5</th>\n      <td>0</td>\n      <td>factsguide: society now    #motivation</td>\n      <td>factsguide society motivation</td>\n      <td>0</td>\n      <td>['#motivation']</td>\n      <td>NaN</td>\n    </tr>\n  </tbody>\n</table>\n</div>"
     },
     "execution_count": 4,
     "metadata": {},
     "output_type": "execute_result"
    }
   ],
   "source": [
    "current_dir = os.getcwd()\n",
    "csv_path_train = os.path.abspath(os.path.join(current_dir, '../../../data/twitter_hate-speech/train_cleaned.csv'))\n",
    "df_cleaned = pd.read_csv(csv_path_train, encoding='utf-8', index_col=0)\n",
    "\n",
    "df_cleaned.head()"
   ],
   "metadata": {
    "collapsed": false,
    "ExecuteTime": {
     "end_time": "2024-11-14T19:18:30.203930900Z",
     "start_time": "2024-11-14T19:18:29.918728300Z"
    }
   }
  },
  {
   "cell_type": "code",
   "execution_count": 5,
   "outputs": [],
   "source": [
    "df_cleaned.dropna(subset=['tweet_cleaned'],\n",
    "                  inplace=True)  #irgendwoher kommt eine na row in tweet_cleaned, dadurch funktioniert der Vectorizer nicht"
   ],
   "metadata": {
    "collapsed": false,
    "ExecuteTime": {
     "end_time": "2024-11-14T19:18:30.203930900Z",
     "start_time": "2024-11-14T19:18:30.050261300Z"
    }
   }
  },
  {
   "cell_type": "code",
   "execution_count": 6,
   "outputs": [
    {
     "name": "stdout",
     "output_type": "stream",
     "text": [
      "Positive: 1811\n",
      "Negative: 25838\n",
      "Verhältnis: 14.267255659856433\n"
     ]
    }
   ],
   "source": [
    "df_cleaned['label'].value_counts()\n",
    "positive = len(df_cleaned[df_cleaned['label'] == 1])\n",
    "negative = len(df_cleaned[df_cleaned['label'] == 0])\n",
    "print(\"Positive:\", positive)\n",
    "print(\"Negative:\", negative)\n",
    "print(\"Verhältnis:\", negative / positive)"
   ],
   "metadata": {
    "collapsed": false,
    "ExecuteTime": {
     "end_time": "2024-11-14T19:18:30.203930900Z",
     "start_time": "2024-11-14T19:18:30.065885Z"
    }
   }
  },
  {
   "cell_type": "markdown",
   "source": [
    "Verhältnis hat sich durch die Bereinigung sogar noch weiter verschlechter"
   ],
   "metadata": {
    "collapsed": false
   }
  },
  {
   "cell_type": "markdown",
   "source": [
    "### Train/Test Split"
   ],
   "metadata": {
    "collapsed": false
   }
  },
  {
   "cell_type": "code",
   "execution_count": 7,
   "outputs": [],
   "source": [
    "def print_pos_neg(y_train, y_test):\n",
    "    positive = np.count_nonzero(y_train == 1)\n",
    "    negative = np.count_nonzero(y_train == 0)\n",
    "    print(\"Train\")\n",
    "    print(\"- Positive:\", positive)\n",
    "    print(\"- Negative:\", negative)\n",
    "    print(\"- Verhältnis:\", negative / positive)\n",
    "\n",
    "    positive = np.count_nonzero(y_test == 1)\n",
    "    negative = np.count_nonzero(y_test == 0)\n",
    "    print(\"Test\")\n",
    "    print(\"- Positive:\", positive)\n",
    "    print(\"- Negative:\", negative)\n",
    "    print(\"- Verhältnis:\", negative / positive)"
   ],
   "metadata": {
    "collapsed": false,
    "ExecuteTime": {
     "end_time": "2024-11-14T19:19:50.506941Z",
     "start_time": "2024-11-14T19:19:50.453529Z"
    }
   }
  },
  {
   "cell_type": "code",
   "execution_count": 8,
   "outputs": [],
   "source": [
    "X_base = df[\"tweet\"]\n",
    "y_base = df[\"label\"]"
   ],
   "metadata": {
    "collapsed": false,
    "ExecuteTime": {
     "end_time": "2024-11-14T19:19:51.825771800Z",
     "start_time": "2024-11-14T19:19:51.794506500Z"
    }
   }
  },
  {
   "cell_type": "code",
   "execution_count": 9,
   "outputs": [
    {
     "name": "stdout",
     "output_type": "stream",
     "text": [
      "Train\n",
      "- Positive: 1409\n",
      "- Negative: 19262\n",
      "- Verhältnis: 13.67068843151171\n",
      "Test\n",
      "- Positive: 604\n",
      "- Negative: 8255\n",
      "- Verhältnis: 13.667218543046358\n"
     ]
    }
   ],
   "source": [
    "X_train_base, X_test_base, y_train_base, y_test_base = train_test_split(X_base, y_base, test_size=0.3, stratify=y_base,\n",
    "                                                                        random_state=42)\n",
    "print_pos_neg(y_train_base, y_test_base)"
   ],
   "metadata": {
    "collapsed": false,
    "ExecuteTime": {
     "end_time": "2024-11-14T19:19:52.517097200Z",
     "start_time": "2024-11-14T19:19:52.398159500Z"
    }
   }
  },
  {
   "cell_type": "code",
   "execution_count": 12,
   "outputs": [],
   "source": [
    "X_clean = df_cleaned[\"tweet_cleaned\"]\n",
    "y_clean = df_cleaned[\"label\"]"
   ],
   "metadata": {
    "collapsed": false,
    "ExecuteTime": {
     "end_time": "2024-11-14T19:20:04.747034800Z",
     "start_time": "2024-11-14T19:20:04.715756400Z"
    }
   }
  },
  {
   "cell_type": "code",
   "execution_count": 13,
   "outputs": [
    {
     "name": "stdout",
     "output_type": "stream",
     "text": [
      "Train\n",
      "- Positive: 1268\n",
      "- Negative: 18086\n",
      "- Verhältnis: 14.263406940063092\n",
      "Test\n",
      "- Positive: 543\n",
      "- Negative: 7752\n",
      "- Verhältnis: 14.276243093922652\n"
     ]
    }
   ],
   "source": [
    "X_train_clean, X_test_clean, y_train_clean, y_test_clean = train_test_split(X_clean, y_clean, test_size=0.3,\n",
    "                                                                            stratify=y_clean, random_state=42)\n",
    "print_pos_neg(y_train_clean, y_test_clean)"
   ],
   "metadata": {
    "collapsed": false,
    "ExecuteTime": {
     "end_time": "2024-11-14T19:20:05.194676300Z",
     "start_time": "2024-11-14T19:20:05.163423800Z"
    }
   }
  },
  {
   "cell_type": "markdown",
   "source": [
    "### Vektorisierung"
   ],
   "metadata": {
    "collapsed": false
   }
  },
  {
   "cell_type": "code",
   "execution_count": 14,
   "outputs": [],
   "source": [
    "vectorizer = TfidfVectorizer(max_features=5000)\n",
    "\n",
    "X_train_base = vectorizer.fit_transform(X_train_base)\n",
    "X_test_base = vectorizer.transform(X_test_base)"
   ],
   "metadata": {
    "collapsed": false,
    "ExecuteTime": {
     "end_time": "2024-11-14T19:20:10.203924800Z",
     "start_time": "2024-11-14T19:20:09.556637600Z"
    }
   }
  },
  {
   "cell_type": "code",
   "execution_count": 15,
   "outputs": [
    {
     "name": "stdout",
     "output_type": "stream",
     "text": [
      "X_train_base shape (20671, 5000)\n",
      "y_train_base shape (20671,)\n",
      "X_test_base shape (8859, 5000)\n",
      "y_test_base shape (8859,)\n"
     ]
    }
   ],
   "source": [
    "print(\"X_train_base shape\", X_train_base.shape)\n",
    "print(\"y_train_base shape\", y_train_base.shape)\n",
    "\n",
    "print(\"X_test_base shape\", X_test_base.shape)\n",
    "print(\"y_test_base shape\", y_test_base.shape)"
   ],
   "metadata": {
    "collapsed": false,
    "ExecuteTime": {
     "end_time": "2024-11-14T19:20:10.242232900Z",
     "start_time": "2024-11-14T19:20:10.203924800Z"
    }
   }
  },
  {
   "cell_type": "code",
   "execution_count": 16,
   "outputs": [],
   "source": [
    "vectorizer_clean = TfidfVectorizer(max_features=5000)\n",
    "\n",
    "X_train_clean = vectorizer_clean.fit_transform(X_train_clean)\n",
    "X_test_clean = vectorizer_clean.transform(X_test_clean)"
   ],
   "metadata": {
    "collapsed": false,
    "ExecuteTime": {
     "end_time": "2024-11-14T19:20:10.731098500Z",
     "start_time": "2024-11-14T19:20:10.414802800Z"
    }
   }
  },
  {
   "cell_type": "code",
   "execution_count": 17,
   "outputs": [
    {
     "name": "stdout",
     "output_type": "stream",
     "text": [
      "X_train_clean shape (19354, 5000)\n",
      "y_train_clean shape (19354,)\n",
      "X_test_clean shape (8295, 5000)\n",
      "y_test_clean shape (8295,)\n"
     ]
    }
   ],
   "source": [
    "print(\"X_train_clean shape\", X_train_clean.shape)\n",
    "print(\"y_train_clean shape\", y_train_clean.shape)\n",
    "\n",
    "print(\"X_test_clean shape\", X_test_clean.shape)\n",
    "print(\"y_test_clean shape\", y_test_clean.shape)"
   ],
   "metadata": {
    "collapsed": false,
    "ExecuteTime": {
     "end_time": "2024-11-14T19:20:11.446852100Z",
     "start_time": "2024-11-14T19:20:11.315301100Z"
    }
   }
  },
  {
   "cell_type": "markdown",
   "source": [
    "### 1. Resampling Methods"
   ],
   "metadata": {
    "collapsed": false
   }
  },
  {
   "cell_type": "code",
   "execution_count": 18,
   "outputs": [],
   "source": [
    "def print_data(y_before, y_after, sampling_technique):\n",
    "    counter_before = Counter(y_before)\n",
    "    counter_after = Counter(y_after)\n",
    "    print(\"Before sampling with:\", sampling_technique, counter_before)\n",
    "    print(\"After sampling with:\", sampling_technique, counter_after)"
   ],
   "metadata": {
    "collapsed": false,
    "ExecuteTime": {
     "end_time": "2024-11-14T19:20:13.294535200Z",
     "start_time": "2024-11-14T19:20:13.225520800Z"
    }
   }
  },
  {
   "cell_type": "markdown",
   "source": [
    "#### 1.1 Oversampling"
   ],
   "metadata": {
    "collapsed": false
   }
  },
  {
   "cell_type": "markdown",
   "source": [
    "##### 1.1.1 SMOTE"
   ],
   "metadata": {
    "collapsed": false
   }
  },
  {
   "cell_type": "code",
   "execution_count": 19,
   "outputs": [],
   "source": [
    "os_smote = SMOTE()"
   ],
   "metadata": {
    "collapsed": false,
    "ExecuteTime": {
     "end_time": "2024-11-14T19:20:14.718075900Z",
     "start_time": "2024-11-14T19:20:14.700444300Z"
    }
   }
  },
  {
   "cell_type": "code",
   "execution_count": 20,
   "outputs": [
    {
     "name": "stdout",
     "output_type": "stream",
     "text": [
      "Before sampling with: SMOTE Counter({0: 19262, 1: 1409})\n",
      "After sampling with: SMOTE Counter({1: 19262, 0: 19262})\n"
     ]
    }
   ],
   "source": [
    "X_train_base_s, y_train_base_s = os_smote.fit_resample(X_train_base, y_train_base)\n",
    "print_data(y_train_base, y_train_base_s, \"SMOTE\")"
   ],
   "metadata": {
    "collapsed": false,
    "ExecuteTime": {
     "end_time": "2024-11-14T19:20:15.473072900Z",
     "start_time": "2024-11-14T19:20:15.173143100Z"
    }
   }
  },
  {
   "cell_type": "code",
   "execution_count": 21,
   "outputs": [
    {
     "name": "stdout",
     "output_type": "stream",
     "text": [
      "Before sampling with: SMOTE Counter({0: 18086, 1: 1268})\n",
      "After sampling with: SMOTE Counter({0: 18086, 1: 18086})\n"
     ]
    }
   ],
   "source": [
    "X_train_clean_s, y_train_clean_s = os_smote.fit_resample(X_train_clean, y_train_clean)\n",
    "print_data(y_train_clean, y_train_clean_s, \"SMOTE\")"
   ],
   "metadata": {
    "collapsed": false,
    "ExecuteTime": {
     "end_time": "2024-11-14T19:20:16.315375700Z",
     "start_time": "2024-11-14T19:20:16.164773100Z"
    }
   }
  },
  {
   "cell_type": "markdown",
   "source": [
    "##### 1.1.2 Borderline-SMOTE"
   ],
   "metadata": {
    "collapsed": false
   }
  },
  {
   "cell_type": "code",
   "execution_count": 22,
   "outputs": [],
   "source": [
    "os_bsmote = BorderlineSMOTE()"
   ],
   "metadata": {
    "collapsed": false,
    "ExecuteTime": {
     "end_time": "2024-11-14T19:20:17.846061100Z",
     "start_time": "2024-11-14T19:20:17.830434400Z"
    }
   }
  },
  {
   "cell_type": "code",
   "execution_count": 23,
   "outputs": [
    {
     "name": "stdout",
     "output_type": "stream",
     "text": [
      "Before sampling with: BorderlineSMOTE Counter({0: 19262, 1: 1409})\n",
      "After sampling with: BorderlineSMOTE Counter({1: 19262, 0: 19262})\n"
     ]
    }
   ],
   "source": [
    "X_train_base_bs, y_train_base_bs = os_bsmote.fit_resample(X_train_base, y_train_base)\n",
    "print_data(y_train_base, y_train_base_bs, \"BorderlineSMOTE\")"
   ],
   "metadata": {
    "collapsed": false,
    "ExecuteTime": {
     "end_time": "2024-11-14T19:20:19.019218400Z",
     "start_time": "2024-11-14T19:20:18.167253Z"
    }
   }
  },
  {
   "cell_type": "code",
   "execution_count": 24,
   "outputs": [
    {
     "name": "stdout",
     "output_type": "stream",
     "text": [
      "Before sampling with: BorderlineSMOTE Counter({0: 18086, 1: 1268})\n",
      "After sampling with: BorderlineSMOTE Counter({0: 18086, 1: 18086})\n"
     ]
    }
   ],
   "source": [
    "X_train_clean_bs, y_train_clean_bs = os_bsmote.fit_resample(X_train_clean, y_train_clean)\n",
    "print_data(y_train_clean, y_train_clean_bs, \"BorderlineSMOTE\")"
   ],
   "metadata": {
    "collapsed": false,
    "ExecuteTime": {
     "end_time": "2024-11-14T19:20:19.473959300Z",
     "start_time": "2024-11-14T19:20:19.019218400Z"
    }
   }
  },
  {
   "cell_type": "markdown",
   "source": [
    "##### 1.1.3 ADASYN"
   ],
   "metadata": {
    "collapsed": false
   }
  },
  {
   "cell_type": "code",
   "execution_count": 25,
   "outputs": [],
   "source": [
    "os_ada = ADASYN()"
   ],
   "metadata": {
    "collapsed": false,
    "ExecuteTime": {
     "end_time": "2024-11-14T19:20:19.484066800Z",
     "start_time": "2024-11-14T19:20:19.463885300Z"
    }
   }
  },
  {
   "cell_type": "code",
   "execution_count": 26,
   "outputs": [
    {
     "name": "stdout",
     "output_type": "stream",
     "text": [
      "Before sampling with: ADASYN Counter({0: 19262, 1: 1409})\n",
      "After sampling with: ADASYN Counter({0: 19262, 1: 18876})\n"
     ]
    }
   ],
   "source": [
    "X_train_base_a, y_train_base_a = os_ada.fit_resample(X_train_base, y_train_base)\n",
    "print_data(y_train_base, y_train_base_a, \"ADASYN\")"
   ],
   "metadata": {
    "collapsed": false,
    "ExecuteTime": {
     "end_time": "2024-11-14T19:20:20.506071600Z",
     "start_time": "2024-11-14T19:20:19.568322100Z"
    }
   }
  },
  {
   "cell_type": "code",
   "execution_count": 27,
   "outputs": [
    {
     "name": "stdout",
     "output_type": "stream",
     "text": [
      "Before sampling with: ADASYN Counter({0: 18086, 1: 1268})\n",
      "After sampling with: ADASYN Counter({1: 18656, 0: 18086})\n"
     ]
    }
   ],
   "source": [
    "X_train_clean_a, y_train_clean_a = os_ada.fit_resample(X_train_clean, y_train_clean)\n",
    "print_data(y_train_clean, y_train_clean_a, \"ADASYN\")"
   ],
   "metadata": {
    "collapsed": false,
    "ExecuteTime": {
     "end_time": "2024-11-14T19:20:20.953800600Z",
     "start_time": "2024-11-14T19:20:20.506071600Z"
    }
   }
  },
  {
   "cell_type": "markdown",
   "source": [
    "#### 1.2 Undersampling"
   ],
   "metadata": {
    "collapsed": false
   }
  },
  {
   "cell_type": "markdown",
   "source": [
    "##### 1.2.1 NearMiss"
   ],
   "metadata": {
    "collapsed": false
   }
  },
  {
   "cell_type": "code",
   "execution_count": 28,
   "outputs": [],
   "source": [
    "us_near_miss = NearMiss(version=3, n_neighbors_ver3=3)"
   ],
   "metadata": {
    "collapsed": false,
    "ExecuteTime": {
     "end_time": "2024-11-14T19:20:21.353801900Z",
     "start_time": "2024-11-14T19:20:21.307023Z"
    }
   }
  },
  {
   "cell_type": "code",
   "execution_count": 29,
   "outputs": [
    {
     "name": "stdout",
     "output_type": "stream",
     "text": [
      "Before sampling with: NearMiss Counter({0: 19262, 1: 1409})\n",
      "After sampling with: NearMiss Counter({1: 1409, 0: 185})\n"
     ]
    },
    {
     "name": "stderr",
     "output_type": "stream",
     "text": [
      "C:\\Users\\admin\\anaconda3\\lib\\site-packages\\imblearn\\under_sampling\\_prototype_selection\\_nearmiss.py:203: UserWarning: The number of the samples to be selected is larger than the number of samples available. The balancing ratio cannot be ensure and all samples will be returned.\n",
      "  warnings.warn(\n"
     ]
    }
   ],
   "source": [
    "X_train_base_nm, y_train_base_nm = us_near_miss.fit_resample(X_train_base, y_train_base)\n",
    "print_data(y_train_base, y_train_base_nm, \"NearMiss\")"
   ],
   "metadata": {
    "collapsed": false,
    "ExecuteTime": {
     "end_time": "2024-11-14T19:20:23.056954500Z",
     "start_time": "2024-11-14T19:20:22.075935400Z"
    }
   }
  },
  {
   "cell_type": "code",
   "execution_count": 30,
   "outputs": [
    {
     "name": "stdout",
     "output_type": "stream",
     "text": [
      "Before sampling with: NearMiss Counter({0: 18086, 1: 1268})\n",
      "After sampling with: NearMiss Counter({1: 1268, 0: 357})\n"
     ]
    },
    {
     "name": "stderr",
     "output_type": "stream",
     "text": [
      "C:\\Users\\admin\\anaconda3\\lib\\site-packages\\imblearn\\under_sampling\\_prototype_selection\\_nearmiss.py:203: UserWarning: The number of the samples to be selected is larger than the number of samples available. The balancing ratio cannot be ensure and all samples will be returned.\n",
      "  warnings.warn(\n"
     ]
    }
   ],
   "source": [
    "X_train_clean_nm, y_train_clean_nm = us_near_miss.fit_resample(X_train_clean, y_train_clean)\n",
    "print_data(y_train_clean, y_train_clean_nm, \"NearMiss\")"
   ],
   "metadata": {
    "collapsed": false,
    "ExecuteTime": {
     "end_time": "2024-11-14T19:20:23.420763200Z",
     "start_time": "2024-11-14T19:20:22.984253100Z"
    }
   }
  },
  {
   "cell_type": "markdown",
   "source": [
    "##### 1.2.2 Condensed Nearest Neighbor"
   ],
   "metadata": {
    "collapsed": false
   }
  },
  {
   "cell_type": "code",
   "execution_count": 31,
   "outputs": [],
   "source": [
    "us_cnn = CondensedNearestNeighbour(n_neighbors=1, n_jobs=-1)  # sehr langsam"
   ],
   "metadata": {
    "collapsed": false,
    "ExecuteTime": {
     "end_time": "2024-11-14T19:20:23.613196700Z",
     "start_time": "2024-11-14T19:20:23.469035200Z"
    }
   }
  },
  {
   "cell_type": "code",
   "execution_count": 32,
   "outputs": [],
   "source": [
    "# X_train_base_cnn, y_train_base_cnn = us_cnn.fit_resample(X_train_base, y_train_base)\n",
    "# print_data(y_train_base, y_train_base_cnn, \"CondensedNearestNeighbour\")"
   ],
   "metadata": {
    "collapsed": false,
    "ExecuteTime": {
     "end_time": "2024-11-14T19:20:23.882789700Z",
     "start_time": "2024-11-14T19:20:23.751268500Z"
    }
   }
  },
  {
   "cell_type": "code",
   "execution_count": 33,
   "outputs": [],
   "source": [
    "# X_train_clean_cnn, y_train_clean_cnn = us_cnn.fit_resample(X_train_clean, y_train_clean)\n",
    "# print_data(y_train_clean, y_train_clean_cnn, \"CondensedNearestNeighbour\")"
   ],
   "metadata": {
    "collapsed": false,
    "ExecuteTime": {
     "end_time": "2024-11-14T19:20:24.098947Z",
     "start_time": "2024-11-14T19:20:23.983046300Z"
    }
   }
  },
  {
   "cell_type": "markdown",
   "source": [
    "##### 1.2.3 Neighborhood Cleaning"
   ],
   "metadata": {
    "collapsed": false
   }
  },
  {
   "cell_type": "code",
   "execution_count": 34,
   "outputs": [],
   "source": [
    "us_cnn_cr = NeighbourhoodCleaningRule(n_neighbors=3, threshold_cleaning=0.5, n_jobs=-1)  # sehr langsam"
   ],
   "metadata": {
    "collapsed": false,
    "ExecuteTime": {
     "end_time": "2024-11-14T19:20:24.437228Z",
     "start_time": "2024-11-14T19:20:24.387329Z"
    }
   }
  },
  {
   "cell_type": "code",
   "execution_count": 35,
   "outputs": [],
   "source": [
    "# X_train_base_ncr, y_train_base_ncr = us_cnn.fit_resample(X_train_base, y_train_base)\n",
    "# print_data(y_train_base, y_train_base_ncr, \"NeighbourhoodCleaningRule\")"
   ],
   "metadata": {
    "collapsed": false,
    "ExecuteTime": {
     "end_time": "2024-11-14T19:20:24.737855300Z",
     "start_time": "2024-11-14T19:20:24.617096500Z"
    }
   }
  },
  {
   "cell_type": "code",
   "execution_count": 36,
   "outputs": [],
   "source": [
    "# X_train_clean_ncr, y_train_clean_ncr = us_cnn.fit_resample(X_train_clean, y_train_clean)\n",
    "# print_data(y_train_clean, y_train_clean_ncr, \"NeighbourhoodCleaningRule\")"
   ],
   "metadata": {
    "collapsed": false,
    "ExecuteTime": {
     "end_time": "2024-11-14T19:20:24.937865800Z",
     "start_time": "2024-11-14T19:20:24.853214100Z"
    }
   }
  },
  {
   "cell_type": "markdown",
   "source": [
    "##### 1.2.4 Tomek Links Undersampler"
   ],
   "metadata": {
    "collapsed": false
   }
  },
  {
   "cell_type": "code",
   "execution_count": 37,
   "outputs": [],
   "source": [
    "us_tomek = TomekLinks()"
   ],
   "metadata": {
    "collapsed": false,
    "ExecuteTime": {
     "end_time": "2024-11-14T19:20:25.369547Z",
     "start_time": "2024-11-14T19:20:25.307643300Z"
    }
   }
  },
  {
   "cell_type": "code",
   "execution_count": 38,
   "outputs": [
    {
     "name": "stdout",
     "output_type": "stream",
     "text": [
      "Before sampling with: TomekLinks Counter({0: 19262, 1: 1409})\n",
      "After sampling with: TomekLinks Counter({0: 19223, 1: 1409})\n"
     ]
    }
   ],
   "source": [
    "X_train_base_t, y_train_base_t = us_tomek.fit_resample(X_train_base, y_train_base)\n",
    "print_data(y_train_base, y_train_base_t, \"TomekLinks\")"
   ],
   "metadata": {
    "collapsed": false,
    "ExecuteTime": {
     "end_time": "2024-11-14T19:20:34.713901500Z",
     "start_time": "2024-11-14T19:20:25.976263Z"
    }
   }
  },
  {
   "cell_type": "code",
   "execution_count": 39,
   "outputs": [
    {
     "name": "stdout",
     "output_type": "stream",
     "text": [
      "Before sampling with: TomekLinks Counter({0: 18086, 1: 1268})\n",
      "After sampling with: TomekLinks Counter({0: 18022, 1: 1268})\n"
     ]
    }
   ],
   "source": [
    "X_train_clean_t, y_train_clean_t = us_tomek.fit_resample(X_train_clean, y_train_clean)\n",
    "print_data(y_train_clean, y_train_clean_t, \"TomekLinks\")"
   ],
   "metadata": {
    "collapsed": false,
    "ExecuteTime": {
     "end_time": "2024-11-14T19:20:37.763770900Z",
     "start_time": "2024-11-14T19:20:34.531869600Z"
    }
   }
  },
  {
   "cell_type": "markdown",
   "source": [
    "##### 1.2.5 RandomUnderSampler"
   ],
   "metadata": {
    "collapsed": false
   }
  },
  {
   "cell_type": "code",
   "execution_count": 49,
   "outputs": [],
   "source": [
    "rus = RandomUnderSampler(sampling_strategy='auto')"
   ],
   "metadata": {
    "collapsed": false,
    "ExecuteTime": {
     "end_time": "2024-11-14T19:25:39.352384600Z",
     "start_time": "2024-11-14T19:25:39.321103900Z"
    }
   }
  },
  {
   "cell_type": "code",
   "execution_count": 50,
   "outputs": [
    {
     "name": "stdout",
     "output_type": "stream",
     "text": [
      "Before sampling with: RandomUnderSampler Counter({0: 19262, 1: 1409})\n",
      "After sampling with: RandomUnderSampler Counter({0: 1409, 1: 1409})\n"
     ]
    }
   ],
   "source": [
    "X_train_base_r, y_train_base_r = rus.fit_resample(X_train_base, y_train_base)\n",
    "print_data(y_train_base, y_train_base_r, \"RandomUnderSampler\")"
   ],
   "metadata": {
    "collapsed": false,
    "ExecuteTime": {
     "end_time": "2024-11-14T19:25:39.615438600Z",
     "start_time": "2024-11-14T19:25:39.537311400Z"
    }
   }
  },
  {
   "cell_type": "code",
   "execution_count": 51,
   "outputs": [
    {
     "name": "stdout",
     "output_type": "stream",
     "text": [
      "Before sampling with: RandomUnderSampler Counter({0: 18086, 1: 1268})\n",
      "After sampling with: RandomUnderSampler Counter({0: 18022, 1: 1268})\n"
     ]
    }
   ],
   "source": [
    "X_train_clean_r, y_train_clean_r = us_tomek.fit_resample(X_train_clean, y_train_clean)\n",
    "print_data(y_train_clean, y_train_clean_r, \"RandomUnderSampler\")"
   ],
   "metadata": {
    "collapsed": false,
    "ExecuteTime": {
     "end_time": "2024-11-14T19:25:46.301363200Z",
     "start_time": "2024-11-14T19:25:39.784760600Z"
    }
   }
  },
  {
   "cell_type": "markdown",
   "source": [
    "#### 1.3 Hybrid Sampling"
   ],
   "metadata": {
    "collapsed": false
   }
  },
  {
   "cell_type": "markdown",
   "source": [
    "##### 1.3.1 Manual Hybrid-Sampling\n",
    "Oversmapling the minority class & undersampling the majority class"
   ],
   "metadata": {
    "collapsed": false
   }
  },
  {
   "cell_type": "code",
   "execution_count": 40,
   "outputs": [],
   "source": [
    "smote = SMOTE(sampling_strategy=0.5, random_state=42)\n",
    "undersample = RandomUnderSampler(sampling_strategy=0.8, random_state=42)"
   ],
   "metadata": {
    "collapsed": false,
    "ExecuteTime": {
     "end_time": "2024-11-14T19:20:37.844482900Z",
     "start_time": "2024-11-14T19:20:37.745636600Z"
    }
   }
  },
  {
   "cell_type": "code",
   "execution_count": 41,
   "outputs": [
    {
     "name": "stdout",
     "output_type": "stream",
     "text": [
      "Before sampling with: ManualHybrid Counter({0: 19262, 1: 1409})\n",
      "After sampling with: ManualHybrid Counter({0: 12038, 1: 9631})\n"
     ]
    }
   ],
   "source": [
    "# using numeric data (verctorizaiton result) instead of text data\n",
    "X_train_base_smotefirst, y_train_base_smotefirst = smote.fit_resample(X_train_base, y_train_base)\n",
    "X_train_base_mhs, y_train_base_mhs = undersample.fit_resample(X_train_base_smotefirst, y_train_base_smotefirst)\n",
    "print_data(y_train_base, y_train_base_mhs, \"ManualHybrid\")"
   ],
   "metadata": {
    "collapsed": false,
    "ExecuteTime": {
     "end_time": "2024-11-14T19:20:37.986032500Z",
     "start_time": "2024-11-14T19:20:37.765802700Z"
    }
   }
  },
  {
   "cell_type": "code",
   "execution_count": 42,
   "outputs": [
    {
     "name": "stdout",
     "output_type": "stream",
     "text": [
      "Before sampling with: ManualHybrid Counter({0: 18086, 1: 1268})\n",
      "After sampling with: ManualHybrid Counter({0: 11303, 1: 9043})\n"
     ]
    }
   ],
   "source": [
    "X_train_clean_smotefirst, y_train_clean_smotefirst = smote.fit_resample(X_train_clean, y_train_clean)\n",
    "X_train_clean_mhs, y_train_clean_mhs = undersample.fit_resample(X_train_clean_smotefirst, y_train_clean_smotefirst)\n",
    "print_data(y_train_clean, y_train_clean_mhs, \"ManualHybrid\")"
   ],
   "metadata": {
    "collapsed": false,
    "ExecuteTime": {
     "end_time": "2024-11-14T19:20:38.055050400Z",
     "start_time": "2024-11-14T19:20:37.932632200Z"
    }
   }
  },
  {
   "cell_type": "markdown",
   "source": [
    "##### 1.3.2 SMOTETomek Hybrid-Sampling"
   ],
   "metadata": {
    "collapsed": false
   }
  },
  {
   "cell_type": "code",
   "execution_count": 43,
   "outputs": [],
   "source": [
    "smote_tomek = SMOTETomek(random_state=42)"
   ],
   "metadata": {
    "collapsed": false,
    "ExecuteTime": {
     "end_time": "2024-11-14T19:20:38.101939300Z",
     "start_time": "2024-11-14T19:20:38.055050400Z"
    }
   }
  },
  {
   "cell_type": "code",
   "execution_count": 44,
   "outputs": [
    {
     "name": "stdout",
     "output_type": "stream",
     "text": [
      "Before sampling with: SMOTETomek Counter({0: 19262, 1: 1409})\n",
      "After sampling with: SMOTETomek Counter({1: 19262, 0: 19262})\n"
     ]
    }
   ],
   "source": [
    "X_train_base_st, y_train_base_st = smote_tomek.fit_resample(X_train_base, y_train_base)\n",
    "print_data(y_train_base, y_train_base_st, \"SMOTETomek\")"
   ],
   "metadata": {
    "collapsed": false,
    "ExecuteTime": {
     "end_time": "2024-11-14T19:21:34.397150400Z",
     "start_time": "2024-11-14T19:20:40.440582100Z"
    }
   }
  },
  {
   "cell_type": "code",
   "execution_count": 45,
   "outputs": [
    {
     "name": "stdout",
     "output_type": "stream",
     "text": [
      "Before sampling with: SMOTETomek Counter({0: 18086, 1: 1268})\n",
      "After sampling with: SMOTETomek Counter({0: 18086, 1: 18086})\n"
     ]
    }
   ],
   "source": [
    "X_train_clean_st, y_train_clean_st = smote_tomek.fit_resample(X_train_clean, y_train_clean)\n",
    "print_data(y_train_clean, y_train_clean_st, \"SMOTETomek\")"
   ],
   "metadata": {
    "collapsed": false,
    "ExecuteTime": {
     "end_time": "2024-11-14T19:21:53.607799700Z",
     "start_time": "2024-11-14T19:21:34.397150400Z"
    }
   }
  },
  {
   "cell_type": "markdown",
   "source": [
    "##### 1.3.3 SMOTEEN Hyprid-Sampling"
   ],
   "metadata": {
    "collapsed": false
   }
  },
  {
   "cell_type": "code",
   "execution_count": 46,
   "outputs": [],
   "source": [
    "smote_enn = SMOTEENN(random_state=42)"
   ],
   "metadata": {
    "collapsed": false,
    "ExecuteTime": {
     "end_time": "2024-11-14T19:22:55.767676200Z",
     "start_time": "2024-11-14T19:22:55.690592400Z"
    }
   }
  },
  {
   "cell_type": "code",
   "execution_count": 47,
   "outputs": [
    {
     "name": "stdout",
     "output_type": "stream",
     "text": [
      "Before sampling with: SMOTEENN Counter({0: 19262, 1: 1409})\n",
      "After sampling with: SMOTEENN Counter({1: 19262, 0: 19262})\n"
     ]
    }
   ],
   "source": [
    "X_train_base_smoteen, y_train_base_smoteen = smote_tomek.fit_resample(X_train_base, y_train_base)\n",
    "print_data(y_train_base, y_train_base_smoteen, \"SMOTEENN\")"
   ],
   "metadata": {
    "collapsed": false,
    "ExecuteTime": {
     "end_time": "2024-11-14T19:23:52.667027Z",
     "start_time": "2024-11-14T19:22:56.068427Z"
    }
   }
  },
  {
   "cell_type": "code",
   "execution_count": 48,
   "outputs": [
    {
     "name": "stdout",
     "output_type": "stream",
     "text": [
      "Before sampling with: SMOTEENN Counter({0: 18086, 1: 1268})\n",
      "After sampling with: SMOTEENN Counter({1: 17822, 0: 3842})\n"
     ]
    }
   ],
   "source": [
    "X_train_clean_smoteen, y_train_clean_smoteen = smote_enn.fit_resample(X_train_clean, y_train_clean)\n",
    "print_data(y_train_clean, y_train_clean_smoteen, \"SMOTEENN\")"
   ],
   "metadata": {
    "collapsed": false,
    "ExecuteTime": {
     "end_time": "2024-11-14T19:24:08.657169500Z",
     "start_time": "2024-11-14T19:23:52.667027Z"
    }
   }
  },
  {
   "cell_type": "markdown",
   "source": [
    "#### Datensatz Getter"
   ],
   "metadata": {
    "collapsed": false
   }
  },
  {
   "cell_type": "code",
   "execution_count": null,
   "outputs": [],
   "source": [
    "def get_resampled_data(resampling_variant):\n",
    "    \"\"\" Gibt die Daten der jeweiligen Resampling-Methode zurück\n",
    "\n",
    "    Parameters\n",
    "    ----------\n",
    "    resampling_variant : [SMOTE, BORDERLINESMOTE, ADASYN, NEARMISS, TOMEK, RANDOMUNDERSAMPLER, MANUALHYBRID, SMOTETOMEK, SMOTEEN]\n",
    "\n",
    "    Returns\n",
    "    -------\n",
    "    X_train_base : X_resample der Daten OHNE umfassende Vorverarbeitung\n",
    "    y_train_base : y der Daten OHNE umfassende Vorverarbeitung\n",
    "    X_train_clean : X_resample der Daten MIT umfassender Vorverarbeitung\n",
    "    y_train_clean : y der Daten MIT umfassender Vorverarbeitung\n",
    "    \"\"\"\n",
    "    match resampling_variant:\n",
    "        case \"SMOTE\":\n",
    "            return X_train_base_s, y_train_base_s, X_train_clean_s, y_train_clean_s\n",
    "        case \"BORDERLINESMOTE\":\n",
    "            return X_train_base_bs, y_train_base_bs, X_train_clean_bs, y_train_clean_bs\n",
    "        case \"ADASYN\":\n",
    "            return X_train_base_a, y_train_base_a, X_train_clean_a, y_train_clean_a\n",
    "        case \"NEARMISS\":\n",
    "            return X_train_base_nm, y_train_base_nm, X_train_clean_nm, y_train_clean_nm\n",
    "        case \"TOMEK\":\n",
    "            return X_train_base_t, y_train_base_t, X_train_clean_t, y_train_clean_t\n",
    "        case \"RANDOMUNDERSAMPLER\":\n",
    "            return X_train_base_r, y_train_base_r, X_train_clean_r, y_train_clean_r\n",
    "        case \"MANUALHYBRID\":\n",
    "            return X_train_base_mhs, y_train_base_mhs, X_train_clean_mhs, y_train_clean_mhs\n",
    "        case \"SMOTETOMEK\":\n",
    "            return X_train_base_st, y_train_base_st, X_train_clean_st, y_train_clean_st\n",
    "        case \"SMOTEEN\":\n",
    "            return X_train_base_smoteen, y_train_base_smoteen, X_train_clean_smoteen, y_train_clean_smoteen"
   ],
   "metadata": {
    "collapsed": false
   }
  },
  {
   "cell_type": "markdown",
   "source": [
    "### 2. Ergebnisvergleich"
   ],
   "metadata": {
    "collapsed": false
   }
  },
  {
   "cell_type": "code",
   "execution_count": 52,
   "outputs": [],
   "source": [
    "evaluation = pd.DataFrame(\n",
    "    columns=[\"model\", \"variant\", \"train_acc\", \"train_prec\", \"train_rec\", \"train_f1\", \"test_acc\", \"test_prec\",\n",
    "             \"test_rec\", \"test_f1\"])"
   ],
   "metadata": {
    "collapsed": false,
    "ExecuteTime": {
     "end_time": "2024-11-14T19:41:04.721727800Z",
     "start_time": "2024-11-14T19:41:04.659224200Z"
    }
   }
  },
  {
   "cell_type": "code",
   "execution_count": 53,
   "outputs": [],
   "source": [
    "def add_to_eval_df(model, model_name, variant, x_data_train, y_data_train, x_data_test, y_data_test):\n",
    "    train_acc = model.score(x_data_train, y_data_train)\n",
    "    train_precision = precision_score(y_data_train, model.predict(x_data_train))\n",
    "    train_recall = recall_score(y_data_train, model.predict(x_data_train))\n",
    "    train_f1 = f1_score(y_data_train, model.predict(x_data_train))\n",
    "\n",
    "    test_acc = model.score(x_data_test, y_data_test)\n",
    "    test_precision = precision_score(y_data_test, model.predict(x_data_test))\n",
    "    test_recall = recall_score(y_data_test, model.predict(x_data_test))\n",
    "    test_f1 = f1_score(y_data_test, model.predict(x_data_test))\n",
    "\n",
    "    evaluation.loc[len(evaluation.index)] = [model_name, variant, train_acc, train_precision, train_recall, train_f1,\n",
    "                                             test_acc, test_precision, test_recall, test_f1]"
   ],
   "metadata": {
    "collapsed": false,
    "ExecuteTime": {
     "end_time": "2024-11-14T19:41:05.075727300Z",
     "start_time": "2024-11-14T19:41:05.022307400Z"
    }
   }
  },
  {
   "cell_type": "code",
   "execution_count": 54,
   "outputs": [],
   "source": [
    "def evaluate_model(model, x_test, y_test, sampling_method):\n",
    "    pred = model.predict(x_test)\n",
    "    accscore = metrics.accuracy_score(pred, y_test)\n",
    "\n",
    "    print(f'{sampling_method} model accuracy for classification is =', str('{:04.2f}'.format(accscore * 100)) + '%')\n",
    "    print('------------------------------------------------')\n",
    "    print('Confusion Matrix:')\n",
    "    print(pd.DataFrame(confusion_matrix(y_test, pred)))\n",
    "    print('------------------------------------------------')\n",
    "    print('Classification Report:')\n",
    "    print(classification_report(y_test, pred))"
   ],
   "metadata": {
    "collapsed": false,
    "ExecuteTime": {
     "end_time": "2024-11-14T19:41:06.178419600Z",
     "start_time": "2024-11-14T19:41:06.034841300Z"
    }
   }
  },
  {
   "cell_type": "code",
   "execution_count": 55,
   "outputs": [],
   "source": [
    "def fit_model(model, modelName):\n",
    "    i = 1\n",
    "    n = 20\n",
    "\n",
    "    print(\"Starting model fitting.\")\n",
    "    print(\"------------ NO SAMPLING ------------ \")\n",
    "    start = time.time()\n",
    "    print(f\"{i}/{n} Fitting: {modelName} BASE started...\")\n",
    "    model.fit(X_train_base, y_train_base)\n",
    "    add_to_eval_df(model, modelName, \"base\", X_train_base, y_train_base, X_test_base, y_test_base)\n",
    "    end = time.time()\n",
    "    elapsed_time = round(end - start)\n",
    "    print(f\"- Fitting: {modelName} finished. Elapsed time: {elapsed_time} Seconds\")\n",
    "\n",
    "    i += 1\n",
    "    start = time.time()\n",
    "    print(f\"{i}/{n} Fitting: {modelName} CLEAN started...\")\n",
    "    model.fit(X_train_clean, y_train_clean)\n",
    "    add_to_eval_df(model, modelName, \"clean\", X_train_clean, y_train_clean, X_test_clean, y_test_clean)\n",
    "    end = time.time()\n",
    "    elapsed_time = round(end - start)\n",
    "    print(f\"- Fitting: {modelName} finished. Elapsed time: {elapsed_time} Seconds\")\n",
    "\n",
    "    print(\"------------ OVERSAMPLING ------------ \")\n",
    "    i += 1\n",
    "    start = time.time()\n",
    "    print(f\"{i}/{n} Fitting: {modelName} SMOTE-base started...\")\n",
    "    model.fit(X_train_base_s, y_train_base_s)\n",
    "    add_to_eval_df(model, modelName, \"SMOTE base\", X_train_base_s, y_train_base_s, X_test_base, y_test_base)\n",
    "    end = time.time()\n",
    "    elapsed_time = round(end - start)\n",
    "    print(f\"- Fitting: {modelName} finished. Elapsed time: {elapsed_time} Seconds\")\n",
    "\n",
    "    i += 1\n",
    "    start = time.time()\n",
    "    print(f\"{i}/{n} Fitting: {modelName} SMOTE-clean started...\")\n",
    "    model.fit(X_train_clean_s, y_train_clean_s)\n",
    "    add_to_eval_df(model, modelName, \"SMOTE clean\", X_train_clean_s, y_train_clean_s, X_test_clean, y_test_clean)\n",
    "    end = time.time()\n",
    "    elapsed_time = round(end - start)\n",
    "    print(f\"- Fitting: {modelName} finished. Elapsed time: {elapsed_time} Seconds\")\n",
    "\n",
    "    i += 1\n",
    "    start = time.time()\n",
    "    print(f\"{i}/{n} Fitting: {modelName} BorderlineSMOTE-base started...\")\n",
    "    model.fit(X_train_base_bs, y_train_base_bs)\n",
    "    add_to_eval_df(model, modelName, \"BorderlineSMOTE base\", X_train_base_bs, y_train_base_bs, X_test_base, y_test_base)\n",
    "    end = time.time()\n",
    "    elapsed_time = round(end - start)\n",
    "    print(f\"- Fitting: {modelName} finished. Elapsed time: {elapsed_time} Seconds\")\n",
    "\n",
    "    i += 1\n",
    "    start = time.time()\n",
    "    print(f\"{i}/{n} Fitting: {modelName} BorderlineSMOTE-clean started...\")\n",
    "    model.fit(X_train_clean_bs, y_train_clean_bs)\n",
    "    add_to_eval_df(model, modelName, \"BorderlineSMOTE clean\", X_train_clean_bs, y_train_clean_bs, X_test_clean,\n",
    "                   y_test_clean)\n",
    "    end = time.time()\n",
    "    elapsed_time = round(end - start)\n",
    "    print(f\"- Fitting: {modelName} finished. Elapsed time: {elapsed_time} Seconds\")\n",
    "\n",
    "    i += 1\n",
    "    start = time.time()\n",
    "    print(f\"{i}/{n} Fitting: {modelName} ADASYN-base started...\")\n",
    "    model.fit(X_train_base_a, y_train_base_a)\n",
    "    add_to_eval_df(model, modelName, \"ADASYN base\", X_train_base_a, y_train_base_a, X_test_base, y_test_base)\n",
    "    end = time.time()\n",
    "    elapsed_time = round(end - start)\n",
    "    print(f\"- Fitting: {modelName} finished. Elapsed time: {elapsed_time} Seconds\")\n",
    "\n",
    "    i += 1\n",
    "    start = time.time()\n",
    "    print(f\"{i}/{n} Fitting: {modelName} ADASYN-clean started...\")\n",
    "    model.fit(X_train_clean_a, y_train_clean_a)\n",
    "    add_to_eval_df(model, modelName, \"ADASYN clean\", X_train_clean_a, y_train_clean_a, X_test_clean, y_test_clean)\n",
    "    end = time.time()\n",
    "    elapsed_time = round(end - start)\n",
    "    print(f\"- Fitting: {modelName} finished. Elapsed time: {elapsed_time} Seconds\")\n",
    "\n",
    "    print(\"------------ UNDERSAMPLING ------------ \")\n",
    "    i += 1\n",
    "    start = time.time()\n",
    "    print(f\"{i}/{n} Fitting: {modelName} NearMiss-base started...\")\n",
    "    model.fit(X_train_base_nm, y_train_base_nm)\n",
    "    add_to_eval_df(model, modelName, \"NearMiss base\", X_train_base_nm, y_train_base_nm, X_test_base, y_test_base)\n",
    "    end = time.time()\n",
    "    elapsed_time = round(end - start)\n",
    "    print(f\"- Fitting: {modelName} finished. Elapsed time: {elapsed_time} Seconds\")\n",
    "\n",
    "    i += 1\n",
    "    start = time.time()\n",
    "    print(f\"{i}/{n} Fitting: {modelName} NearMiss-clean started...\")\n",
    "    model.fit(X_train_clean_nm, y_train_clean_nm)\n",
    "    add_to_eval_df(model, modelName, \"NearMiss clean\", X_train_clean_nm, y_train_clean_nm, X_test_clean, y_test_clean)\n",
    "    end = time.time()\n",
    "    elapsed_time = round(end - start)\n",
    "    print(f\"- Fitting: {modelName} finished. Elapsed time: {elapsed_time} Seconds\")\n",
    "\n",
    "    i += 1\n",
    "    start = time.time()\n",
    "    print(f\"{i}/{n} Fitting: {modelName} TomekLink-base started...\")\n",
    "    model.fit(X_train_clean_t, y_train_clean_t)\n",
    "    add_to_eval_df(model, modelName, \"TomekLink base\", X_train_clean_t, y_train_clean_t, X_test_clean, y_test_clean)\n",
    "    end = time.time()\n",
    "    elapsed_time = round(end - start)\n",
    "    print(f\"- Fitting: {modelName} finished. Elapsed time: {elapsed_time} Seconds\")\n",
    "\n",
    "    i += 1\n",
    "    start = time.time()\n",
    "    print(f\"{i}/{n} Fitting: {modelName} TomekLink-clean started...\")\n",
    "    model.fit(X_train_clean_t, y_train_clean_t)\n",
    "    add_to_eval_df(model, modelName, \"TomekLink clean\", X_train_clean_t, y_train_clean_t, X_test_clean, y_test_clean)\n",
    "    end = time.time()\n",
    "    elapsed_time = round(end - start)\n",
    "    print(f\"- Fitting: {modelName} finished. Elapsed time: {elapsed_time} Seconds\")\n",
    "\n",
    "    i += 1\n",
    "    start = time.time()\n",
    "    print(f\"{i}/{n} Fitting: {modelName} RandomUnderSampler-base started...\")\n",
    "    model.fit(X_train_clean_r, y_train_clean_r)\n",
    "    add_to_eval_df(model, modelName, \"RandomUnderSampler base\", X_train_clean_r, y_train_clean_r, X_test_clean,\n",
    "                   y_test_clean)\n",
    "    end = time.time()\n",
    "    elapsed_time = round(end - start)\n",
    "    print(f\"- Fitting: {modelName} finished. Elapsed time: {elapsed_time} Seconds\")\n",
    "\n",
    "    i += 1\n",
    "    start = time.time()\n",
    "    print(f\"{i}/{n} Fitting: {modelName} RandomUnderSampler-clean started...\")\n",
    "    model.fit(X_train_clean_r, y_train_clean_r)\n",
    "    add_to_eval_df(model, modelName, \"RandomUnderSampler clean\", X_train_clean_r, y_train_clean_r, X_test_clean,\n",
    "                   y_test_clean)\n",
    "    end = time.time()\n",
    "    elapsed_time = round(end - start)\n",
    "    print(f\"- Fitting: {modelName} finished. Elapsed time: {elapsed_time} Seconds\")\n",
    "\n",
    "    print(\"------------ HYBRID SAMPLING ------------ \")\n",
    "    i += 1\n",
    "    start = time.time()\n",
    "    print(f\"{i}/{n} Fitting: {modelName} ManualyHybrid-base started...\")\n",
    "    model.fit(X_train_clean_mhs, y_train_clean_mhs)\n",
    "    add_to_eval_df(model, modelName, \"ManualyHybrid base\", X_train_clean_mhs, y_train_clean_mhs, X_test_clean,\n",
    "                   y_test_clean)\n",
    "    end = time.time()\n",
    "    elapsed_time = round(end - start)\n",
    "    print(f\"- Fitting: {modelName} finished. Elapsed time: {elapsed_time} Seconds\")\n",
    "\n",
    "    i += 1\n",
    "    start = time.time()\n",
    "    print(f\"{i}/{n} Fitting: {modelName} ManualyHybrid-clean started...\")\n",
    "    model.fit(X_train_clean_mhs, y_train_clean_mhs)\n",
    "    add_to_eval_df(model, modelName, \"ManualyHybrid clean\", X_train_clean_mhs, y_train_clean_mhs, X_test_clean,\n",
    "                   y_test_clean)\n",
    "    end = time.time()\n",
    "    elapsed_time = round(end - start)\n",
    "    print(f\"- Fitting: {modelName} finished. Elapsed time: {elapsed_time} Seconds\")\n",
    "\n",
    "    i += 1\n",
    "    start = time.time()\n",
    "    print(f\"{i}/{n} Fitting: {modelName} SMOTETomek-base started...\")\n",
    "    model.fit(X_train_clean_st, y_train_clean_st)\n",
    "    add_to_eval_df(model, modelName, \"SMOTETomek base\", X_train_clean_st, y_train_clean_st, X_test_clean, y_test_clean)\n",
    "    end = time.time()\n",
    "    elapsed_time = round(end - start)\n",
    "    print(f\"- Fitting: {modelName} finished. Elapsed time: {elapsed_time} Seconds\")\n",
    "\n",
    "    i += 1\n",
    "    start = time.time()\n",
    "    print(f\"{i}/{n} Fitting: {modelName} SMOTETomek-clean started...\")\n",
    "    model.fit(X_train_clean_st, y_train_clean_st)\n",
    "    add_to_eval_df(model, modelName, \"SMOTETomek clean\", X_train_clean_st, y_train_clean_st, X_test_clean, y_test_clean)\n",
    "    end = time.time()\n",
    "    elapsed_time = round(end - start)\n",
    "    print(f\"- Fitting: {modelName} finished. Elapsed time: {elapsed_time} Seconds\")\n",
    "\n",
    "    i += 1\n",
    "    start = time.time()\n",
    "    print(f\"{i}/{n} Fitting: {modelName} SMOTEEN-base started...\")\n",
    "    model.fit(X_train_clean_smoteen, y_train_clean_smoteen)\n",
    "    add_to_eval_df(model, modelName, \"SMOTEEN base\", X_train_clean_smoteen, y_train_clean_smoteen, X_test_clean,\n",
    "                   y_test_clean)\n",
    "    end = time.time()\n",
    "    elapsed_time = round(end - start)\n",
    "    print(f\"- Fitting: {modelName} finished. Elapsed time: {elapsed_time} Seconds\")\n",
    "\n",
    "    i += 1\n",
    "    start = time.time()\n",
    "    print(f\"{i}/{n} Fitting: {modelName} SMOTEEN-clean started...\")\n",
    "    model.fit(X_train_clean_smoteen, y_train_clean_smoteen)\n",
    "    add_to_eval_df(model, modelName, \"SMOTEEN clean\", X_train_clean_smoteen, y_train_clean_smoteen, X_test_clean,\n",
    "                   y_test_clean)\n",
    "    end = time.time()\n",
    "    elapsed_time = round(end - start)\n",
    "    print(f\"- Fitting: {modelName} finished. Elapsed time: {elapsed_time} Seconds\")\n",
    "\n",
    "    print(\"Model fitting finished.\")"
   ],
   "metadata": {
    "collapsed": false,
    "ExecuteTime": {
     "end_time": "2024-11-14T19:41:07.080898500Z",
     "start_time": "2024-11-14T19:41:06.980622400Z"
    }
   }
  },
  {
   "cell_type": "markdown",
   "source": [
    "#### 2.1 RandomForest"
   ],
   "metadata": {
    "collapsed": false
   }
  },
  {
   "cell_type": "code",
   "execution_count": 57,
   "outputs": [],
   "source": [
    "rf = RandomForestClassifier(n_jobs=-1)"
   ],
   "metadata": {
    "collapsed": false,
    "ExecuteTime": {
     "end_time": "2024-11-14T19:44:14.152725300Z",
     "start_time": "2024-11-14T19:44:14.105850700Z"
    }
   }
  },
  {
   "cell_type": "code",
   "execution_count": 58,
   "outputs": [
    {
     "name": "stdout",
     "output_type": "stream",
     "text": [
      "Starting model fitting.\n",
      "------------ NO SAMPLING ------------ \n",
      "1/20 Fitting: RandomForest BASE started...\n",
      "Fitting: RandomForest finished. Elapsed time: 4 Seconds\n",
      "2/20 Fitting: RandomForest CLEAN started...\n",
      "Fitting: RandomForest finished. Elapsed time: 4 Seconds\n",
      "------------ OVERSAMPLING ------------ \n",
      "3/20 Fitting: RandomForest SMOTE-base started...\n",
      "Fitting: RandomForest finished. Elapsed time: 6 Seconds\n",
      "4/20 Fitting: RandomForest SMOTE-clean started...\n",
      "Fitting: RandomForest finished. Elapsed time: 6 Seconds\n",
      "5/20 Fitting: RandomForest BorderlineSMOTE-base started...\n",
      "Fitting: RandomForest finished. Elapsed time: 6 Seconds\n",
      "6/20 Fitting: RandomForest BorderlineSMOTE-clean started...\n",
      "Fitting: RandomForest finished. Elapsed time: 6 Seconds\n",
      "7/20 Fitting: RandomForest ADASYN-base started...\n",
      "Fitting: RandomForest finished. Elapsed time: 6 Seconds\n",
      "8/20 Fitting: RandomForest ADASYN-clean started...\n",
      "Fitting: RandomForest finished. Elapsed time: 6 Seconds\n",
      "------------ UNDERSAMPLING ------------ \n",
      "9/20 Fitting: RandomForest NearMiss-base started...\n",
      "Fitting: RandomForest finished. Elapsed time: 1 Seconds\n",
      "10/20 Fitting: RandomForest NearMiss-clean started...\n",
      "Fitting: RandomForest finished. Elapsed time: 1 Seconds\n",
      "11/20 Fitting: RandomForest TomekLink-base started...\n",
      "Fitting: RandomForest finished. Elapsed time: 4 Seconds\n",
      "12/20 Fitting: RandomForest TomekLink-clean started...\n",
      "Fitting: RandomForest finished. Elapsed time: 4 Seconds\n",
      "13/20 Fitting: RandomForest RandomUnderSampler-base started...\n",
      "Fitting: RandomForest finished. Elapsed time: 4 Seconds\n",
      "14/20 Fitting: RandomForest RandomUnderSampler-clean started...\n",
      "Fitting: RandomForest finished. Elapsed time: 4 Seconds\n",
      "------------ HYBRID SAMPLING ------------ \n",
      "15/20 Fitting: RandomForest ManualyHybrid-base started...\n",
      "Fitting: RandomForest finished. Elapsed time: 4 Seconds\n",
      "16/20 Fitting: RandomForest ManualyHybrid-clean started...\n",
      "Fitting: RandomForest finished. Elapsed time: 4 Seconds\n",
      "17/20 Fitting: RandomForest SMOTETomek-base started...\n",
      "Fitting: RandomForest finished. Elapsed time: 6 Seconds\n",
      "18/20 Fitting: RandomForest SMOTETomek-clean started...\n",
      "Fitting: RandomForest finished. Elapsed time: 6 Seconds\n",
      "19/20 Fitting: RandomForest SMOTEEN-base started...\n",
      "Fitting: RandomForest finished. Elapsed time: 4 Seconds\n",
      "20/20 Fitting: RandomForest SMOTEEN-clean started...\n",
      "Fitting: RandomForest finished. Elapsed time: 4 Seconds\n",
      "Model fitting finished.\n"
     ]
    }
   ],
   "source": [
    "fit_model(rf, \"RandomForest\")"
   ],
   "metadata": {
    "collapsed": false,
    "ExecuteTime": {
     "end_time": "2024-11-14T19:45:43.442784100Z",
     "start_time": "2024-11-14T19:44:14.916810600Z"
    }
   }
  },
  {
   "cell_type": "code",
   "execution_count": 59,
   "outputs": [
    {
     "data": {
      "text/plain": "           model                   variant  train_acc  train_prec  train_rec  \\\n16  RandomForest           SMOTETomek base   0.999917    0.999889   0.999945   \n5   RandomForest     BorderlineSMOTE clean   0.999917    0.999945   0.999889   \n3   RandomForest               SMOTE clean   0.999917    0.999889   0.999945   \n7   RandomForest              ADASYN clean   0.999918    1.000000   0.999839   \n12  RandomForest   RandomUnderSampler base   0.999844    0.999211   0.998423   \n0   RandomForest                      base   0.999710    1.000000   0.995742   \n15  RandomForest       ManualyHybrid clean   0.999902    1.000000   0.999779   \n17  RandomForest          SMOTETomek clean   0.999917    0.999889   0.999945   \n14  RandomForest        ManualyHybrid base   0.999902    1.000000   0.999779   \n13  RandomForest  RandomUnderSampler clean   0.999844    0.999211   0.998423   \n10  RandomForest            TomekLink base   0.999844    1.000000   0.997634   \n1   RandomForest                     clean   0.999742    1.000000   0.996057   \n11  RandomForest           TomekLink clean   0.999844    1.000000   0.997634   \n6   RandomForest               ADASYN base   0.999921    0.999947   0.999894   \n2   RandomForest                SMOTE base   0.999922    0.999896   0.999948   \n4   RandomForest      BorderlineSMOTE base   0.999922    1.000000   0.999844   \n18  RandomForest              SMOTEEN base   1.000000    1.000000   1.000000   \n19  RandomForest             SMOTEEN clean   1.000000    1.000000   1.000000   \n9   RandomForest            NearMiss clean   0.998154    1.000000   0.997634   \n8   RandomForest             NearMiss base   0.998118    0.999290   0.998581   \n\n    train_f1  test_acc  test_prec  test_rec   test_f1  \n16  0.999917  0.948885   0.621181  0.561694  0.589942  \n5   0.999917  0.947438   0.608081  0.554328  0.579961  \n3   0.999917  0.946233   0.593810  0.565378  0.579245  \n7   0.999920  0.946233   0.594912  0.559853  0.576850  \n12  0.998817  0.956480   0.793548  0.453039  0.576788  \n0   0.997866  0.957219   0.891986  0.423841  0.574635  \n15  0.999889  0.942978   0.561837  0.585635  0.573490  \n17  0.999917  0.946233   0.597586  0.546961  0.571154  \n14  0.999889  0.942013   0.554007  0.585635  0.569382  \n13  0.998817  0.954671   0.760125  0.449355  0.564815  \n10  0.998816  0.955033   0.774194  0.441989  0.562720  \n1   0.998024  0.954913   0.771704  0.441989  0.562061  \n11  0.998816  0.954551   0.767742  0.438306  0.558030  \n6   0.999921  0.951688   0.773292  0.412252  0.537797  \n2   0.999922  0.951688   0.775000  0.410596  0.536797  \n4   0.999922  0.950220   0.865471  0.319536  0.466747  \n18  1.000000  0.748282   0.180917  0.806630  0.295547  \n19  1.000000  0.746594   0.178822  0.799263  0.292256  \n9   0.998816  0.478722   0.099385  0.863720  0.178259  \n8   0.998935  0.230839   0.079268  0.968543  0.146543  ",
      "text/html": "<div>\n<style scoped>\n    .dataframe tbody tr th:only-of-type {\n        vertical-align: middle;\n    }\n\n    .dataframe tbody tr th {\n        vertical-align: top;\n    }\n\n    .dataframe thead th {\n        text-align: right;\n    }\n</style>\n<table border=\"1\" class=\"dataframe\">\n  <thead>\n    <tr style=\"text-align: right;\">\n      <th></th>\n      <th>model</th>\n      <th>variant</th>\n      <th>train_acc</th>\n      <th>train_prec</th>\n      <th>train_rec</th>\n      <th>train_f1</th>\n      <th>test_acc</th>\n      <th>test_prec</th>\n      <th>test_rec</th>\n      <th>test_f1</th>\n    </tr>\n  </thead>\n  <tbody>\n    <tr>\n      <th>16</th>\n      <td>RandomForest</td>\n      <td>SMOTETomek base</td>\n      <td>0.999917</td>\n      <td>0.999889</td>\n      <td>0.999945</td>\n      <td>0.999917</td>\n      <td>0.948885</td>\n      <td>0.621181</td>\n      <td>0.561694</td>\n      <td>0.589942</td>\n    </tr>\n    <tr>\n      <th>5</th>\n      <td>RandomForest</td>\n      <td>BorderlineSMOTE clean</td>\n      <td>0.999917</td>\n      <td>0.999945</td>\n      <td>0.999889</td>\n      <td>0.999917</td>\n      <td>0.947438</td>\n      <td>0.608081</td>\n      <td>0.554328</td>\n      <td>0.579961</td>\n    </tr>\n    <tr>\n      <th>3</th>\n      <td>RandomForest</td>\n      <td>SMOTE clean</td>\n      <td>0.999917</td>\n      <td>0.999889</td>\n      <td>0.999945</td>\n      <td>0.999917</td>\n      <td>0.946233</td>\n      <td>0.593810</td>\n      <td>0.565378</td>\n      <td>0.579245</td>\n    </tr>\n    <tr>\n      <th>7</th>\n      <td>RandomForest</td>\n      <td>ADASYN clean</td>\n      <td>0.999918</td>\n      <td>1.000000</td>\n      <td>0.999839</td>\n      <td>0.999920</td>\n      <td>0.946233</td>\n      <td>0.594912</td>\n      <td>0.559853</td>\n      <td>0.576850</td>\n    </tr>\n    <tr>\n      <th>12</th>\n      <td>RandomForest</td>\n      <td>RandomUnderSampler base</td>\n      <td>0.999844</td>\n      <td>0.999211</td>\n      <td>0.998423</td>\n      <td>0.998817</td>\n      <td>0.956480</td>\n      <td>0.793548</td>\n      <td>0.453039</td>\n      <td>0.576788</td>\n    </tr>\n    <tr>\n      <th>0</th>\n      <td>RandomForest</td>\n      <td>base</td>\n      <td>0.999710</td>\n      <td>1.000000</td>\n      <td>0.995742</td>\n      <td>0.997866</td>\n      <td>0.957219</td>\n      <td>0.891986</td>\n      <td>0.423841</td>\n      <td>0.574635</td>\n    </tr>\n    <tr>\n      <th>15</th>\n      <td>RandomForest</td>\n      <td>ManualyHybrid clean</td>\n      <td>0.999902</td>\n      <td>1.000000</td>\n      <td>0.999779</td>\n      <td>0.999889</td>\n      <td>0.942978</td>\n      <td>0.561837</td>\n      <td>0.585635</td>\n      <td>0.573490</td>\n    </tr>\n    <tr>\n      <th>17</th>\n      <td>RandomForest</td>\n      <td>SMOTETomek clean</td>\n      <td>0.999917</td>\n      <td>0.999889</td>\n      <td>0.999945</td>\n      <td>0.999917</td>\n      <td>0.946233</td>\n      <td>0.597586</td>\n      <td>0.546961</td>\n      <td>0.571154</td>\n    </tr>\n    <tr>\n      <th>14</th>\n      <td>RandomForest</td>\n      <td>ManualyHybrid base</td>\n      <td>0.999902</td>\n      <td>1.000000</td>\n      <td>0.999779</td>\n      <td>0.999889</td>\n      <td>0.942013</td>\n      <td>0.554007</td>\n      <td>0.585635</td>\n      <td>0.569382</td>\n    </tr>\n    <tr>\n      <th>13</th>\n      <td>RandomForest</td>\n      <td>RandomUnderSampler clean</td>\n      <td>0.999844</td>\n      <td>0.999211</td>\n      <td>0.998423</td>\n      <td>0.998817</td>\n      <td>0.954671</td>\n      <td>0.760125</td>\n      <td>0.449355</td>\n      <td>0.564815</td>\n    </tr>\n    <tr>\n      <th>10</th>\n      <td>RandomForest</td>\n      <td>TomekLink base</td>\n      <td>0.999844</td>\n      <td>1.000000</td>\n      <td>0.997634</td>\n      <td>0.998816</td>\n      <td>0.955033</td>\n      <td>0.774194</td>\n      <td>0.441989</td>\n      <td>0.562720</td>\n    </tr>\n    <tr>\n      <th>1</th>\n      <td>RandomForest</td>\n      <td>clean</td>\n      <td>0.999742</td>\n      <td>1.000000</td>\n      <td>0.996057</td>\n      <td>0.998024</td>\n      <td>0.954913</td>\n      <td>0.771704</td>\n      <td>0.441989</td>\n      <td>0.562061</td>\n    </tr>\n    <tr>\n      <th>11</th>\n      <td>RandomForest</td>\n      <td>TomekLink clean</td>\n      <td>0.999844</td>\n      <td>1.000000</td>\n      <td>0.997634</td>\n      <td>0.998816</td>\n      <td>0.954551</td>\n      <td>0.767742</td>\n      <td>0.438306</td>\n      <td>0.558030</td>\n    </tr>\n    <tr>\n      <th>6</th>\n      <td>RandomForest</td>\n      <td>ADASYN base</td>\n      <td>0.999921</td>\n      <td>0.999947</td>\n      <td>0.999894</td>\n      <td>0.999921</td>\n      <td>0.951688</td>\n      <td>0.773292</td>\n      <td>0.412252</td>\n      <td>0.537797</td>\n    </tr>\n    <tr>\n      <th>2</th>\n      <td>RandomForest</td>\n      <td>SMOTE base</td>\n      <td>0.999922</td>\n      <td>0.999896</td>\n      <td>0.999948</td>\n      <td>0.999922</td>\n      <td>0.951688</td>\n      <td>0.775000</td>\n      <td>0.410596</td>\n      <td>0.536797</td>\n    </tr>\n    <tr>\n      <th>4</th>\n      <td>RandomForest</td>\n      <td>BorderlineSMOTE base</td>\n      <td>0.999922</td>\n      <td>1.000000</td>\n      <td>0.999844</td>\n      <td>0.999922</td>\n      <td>0.950220</td>\n      <td>0.865471</td>\n      <td>0.319536</td>\n      <td>0.466747</td>\n    </tr>\n    <tr>\n      <th>18</th>\n      <td>RandomForest</td>\n      <td>SMOTEEN base</td>\n      <td>1.000000</td>\n      <td>1.000000</td>\n      <td>1.000000</td>\n      <td>1.000000</td>\n      <td>0.748282</td>\n      <td>0.180917</td>\n      <td>0.806630</td>\n      <td>0.295547</td>\n    </tr>\n    <tr>\n      <th>19</th>\n      <td>RandomForest</td>\n      <td>SMOTEEN clean</td>\n      <td>1.000000</td>\n      <td>1.000000</td>\n      <td>1.000000</td>\n      <td>1.000000</td>\n      <td>0.746594</td>\n      <td>0.178822</td>\n      <td>0.799263</td>\n      <td>0.292256</td>\n    </tr>\n    <tr>\n      <th>9</th>\n      <td>RandomForest</td>\n      <td>NearMiss clean</td>\n      <td>0.998154</td>\n      <td>1.000000</td>\n      <td>0.997634</td>\n      <td>0.998816</td>\n      <td>0.478722</td>\n      <td>0.099385</td>\n      <td>0.863720</td>\n      <td>0.178259</td>\n    </tr>\n    <tr>\n      <th>8</th>\n      <td>RandomForest</td>\n      <td>NearMiss base</td>\n      <td>0.998118</td>\n      <td>0.999290</td>\n      <td>0.998581</td>\n      <td>0.998935</td>\n      <td>0.230839</td>\n      <td>0.079268</td>\n      <td>0.968543</td>\n      <td>0.146543</td>\n    </tr>\n  </tbody>\n</table>\n</div>"
     },
     "execution_count": 59,
     "metadata": {},
     "output_type": "execute_result"
    }
   ],
   "source": [
    "evaluation[(evaluation.model == \"RandomForest\")].sort_values(by=[\"test_f1\"], ascending=False)"
   ],
   "metadata": {
    "collapsed": false,
    "ExecuteTime": {
     "end_time": "2024-11-14T19:48:48.910634500Z",
     "start_time": "2024-11-14T19:48:48.848123300Z"
    }
   }
  },
  {
   "cell_type": "markdown",
   "source": [
    "#### 2.2 SVM"
   ],
   "metadata": {
    "collapsed": false
   }
  },
  {
   "cell_type": "code",
   "execution_count": 62,
   "outputs": [],
   "source": [
    "svc = LinearSVC(class_weight=\"balanced\")"
   ],
   "metadata": {
    "collapsed": false,
    "ExecuteTime": {
     "end_time": "2024-11-14T19:51:25.046779400Z",
     "start_time": "2024-11-14T19:51:25.012779300Z"
    }
   }
  },
  {
   "cell_type": "code",
   "execution_count": 63,
   "outputs": [
    {
     "name": "stdout",
     "output_type": "stream",
     "text": [
      "Starting model fitting.\n",
      "------------ NO SAMPLING ------------ \n",
      "1/20 Fitting: LinearSVC BASE started...\n",
      "Fitting: LinearSVC finished. Elapsed time: 0 Seconds\n",
      "2/20 Fitting: LinearSVC CLEAN started...\n",
      "Fitting: LinearSVC finished. Elapsed time: 0 Seconds\n",
      "------------ OVERSAMPLING ------------ \n",
      "3/20 Fitting: LinearSVC SMOTE-base started...\n",
      "Fitting: LinearSVC finished. Elapsed time: 0 Seconds\n",
      "4/20 Fitting: LinearSVC SMOTE-clean started...\n",
      "Fitting: LinearSVC finished. Elapsed time: 0 Seconds\n",
      "5/20 Fitting: LinearSVC BorderlineSMOTE-base started...\n",
      "Fitting: LinearSVC finished. Elapsed time: 0 Seconds\n",
      "6/20 Fitting: LinearSVC BorderlineSMOTE-clean started...\n",
      "Fitting: LinearSVC finished. Elapsed time: 0 Seconds\n",
      "7/20 Fitting: LinearSVC ADASYN-base started...\n",
      "Fitting: LinearSVC finished. Elapsed time: 0 Seconds\n",
      "8/20 Fitting: LinearSVC ADASYN-clean started...\n",
      "Fitting: LinearSVC finished. Elapsed time: 0 Seconds\n",
      "------------ UNDERSAMPLING ------------ \n",
      "9/20 Fitting: LinearSVC NearMiss-base started...\n",
      "Fitting: LinearSVC finished. Elapsed time: 0 Seconds\n",
      "10/20 Fitting: LinearSVC NearMiss-clean started...\n",
      "Fitting: LinearSVC finished. Elapsed time: 0 Seconds\n",
      "11/20 Fitting: LinearSVC TomekLink-base started...\n",
      "Fitting: LinearSVC finished. Elapsed time: 0 Seconds\n",
      "12/20 Fitting: LinearSVC TomekLink-clean started...\n",
      "Fitting: LinearSVC finished. Elapsed time: 0 Seconds\n",
      "13/20 Fitting: LinearSVC RandomUnderSampler-base started...\n",
      "Fitting: LinearSVC finished. Elapsed time: 0 Seconds\n",
      "14/20 Fitting: LinearSVC RandomUnderSampler-clean started...\n",
      "Fitting: LinearSVC finished. Elapsed time: 0 Seconds\n",
      "------------ HYBRID SAMPLING ------------ \n",
      "15/20 Fitting: LinearSVC ManualyHybrid-base started...\n",
      "Fitting: LinearSVC finished. Elapsed time: 0 Seconds\n",
      "16/20 Fitting: LinearSVC ManualyHybrid-clean started...\n",
      "Fitting: LinearSVC finished. Elapsed time: 0 Seconds\n",
      "17/20 Fitting: LinearSVC SMOTETomek-base started...\n",
      "Fitting: LinearSVC finished. Elapsed time: 0 Seconds\n",
      "18/20 Fitting: LinearSVC SMOTETomek-clean started...\n",
      "Fitting: LinearSVC finished. Elapsed time: 0 Seconds\n",
      "19/20 Fitting: LinearSVC SMOTEEN-base started...\n",
      "Fitting: LinearSVC finished. Elapsed time: 0 Seconds\n",
      "20/20 Fitting: LinearSVC SMOTEEN-clean started...\n",
      "Fitting: LinearSVC finished. Elapsed time: 0 Seconds\n",
      "Model fitting finished.\n"
     ]
    }
   ],
   "source": [
    "fit_model(svc, \"LinearSVC\")"
   ],
   "metadata": {
    "collapsed": false,
    "ExecuteTime": {
     "end_time": "2024-11-14T19:51:27.872780100Z",
     "start_time": "2024-11-14T19:51:25.234783200Z"
    }
   }
  },
  {
   "cell_type": "code",
   "execution_count": 64,
   "outputs": [
    {
     "data": {
      "text/plain": "        model                   variant  train_acc  train_prec  train_rec  \\\n24  LinearSVC      BorderlineSMOTE base   0.989591    0.990840   0.988319   \n20  LinearSVC                      base   0.969619    0.692270   0.997871   \n22  LinearSVC                SMOTE base   0.988605    0.979225   0.998391   \n26  LinearSVC               ADASYN base   0.987834    0.977193   0.998729   \n31  LinearSVC           TomekLink clean   0.968844    0.679012   0.997634   \n33  LinearSVC  RandomUnderSampler clean   0.968844    0.679012   0.997634   \n32  LinearSVC   RandomUnderSampler base   0.968844    0.679012   0.997634   \n30  LinearSVC            TomekLink base   0.968844    0.679012   0.997634   \n21  LinearSVC                     clean   0.967655    0.670201   0.996845   \n23  LinearSVC               SMOTE clean   0.983219    0.970144   0.997125   \n25  LinearSVC     BorderlineSMOTE clean   0.983413    0.970864   0.996738   \n36  LinearSVC           SMOTETomek base   0.983496    0.970716   0.997070   \n37  LinearSVC          SMOTETomek clean   0.983496    0.970716   0.997070   \n27  LinearSVC              ADASYN clean   0.983289    0.970432   0.997481   \n34  LinearSVC        ManualyHybrid base   0.981274    0.964102   0.994913   \n35  LinearSVC       ManualyHybrid clean   0.981274    0.964102   0.994913   \n38  LinearSVC              SMOTEEN base   0.998292    0.998486   0.999439   \n39  LinearSVC             SMOTEEN clean   0.998292    0.998486   0.999439   \n29  LinearSVC            NearMiss clean   0.952615    0.995012   0.944006   \n28  LinearSVC             NearMiss base   0.967378    0.997799   0.965224   \n\n    train_f1  test_acc  test_prec  test_rec   test_f1  \n24  0.989578  0.947285   0.616695  0.599338  0.607893  \n20  0.817442  0.930128   0.491803  0.745033  0.592495  \n22  0.988715  0.933627   0.509615  0.701987  0.590529  \n26  0.987843  0.933288   0.507747  0.705298  0.590437  \n31  0.808049  0.917661   0.420455  0.681400  0.520028  \n33  0.808049  0.917661   0.420455  0.681400  0.520028  \n32  0.808049  0.917661   0.420455  0.681400  0.520028  \n30  0.808049  0.917661   0.420455  0.681400  0.520028  \n21  0.801522  0.918143   0.421839  0.675875  0.519462  \n23  0.983449  0.911754   0.398930  0.686924  0.504736  \n25  0.983631  0.912236   0.399783  0.679558  0.503411  \n36  0.983717  0.911513   0.397642  0.683241  0.502710  \n37  0.983717  0.911513   0.397642  0.683241  0.502710  \n27  0.983770  0.909946   0.391489  0.677716  0.496291  \n34  0.979265  0.902230   0.371648  0.714549  0.488973  \n35  0.979265  0.902230   0.371648  0.714549  0.488973  \n38  0.998962  0.743701   0.191182  0.902394  0.315518  \n39  0.998962  0.743701   0.191182  0.902394  0.315518  \n29  0.968839  0.563593   0.117764  0.872928  0.207531  \n28  0.981241  0.386274   0.093250  0.917219  0.169290  ",
      "text/html": "<div>\n<style scoped>\n    .dataframe tbody tr th:only-of-type {\n        vertical-align: middle;\n    }\n\n    .dataframe tbody tr th {\n        vertical-align: top;\n    }\n\n    .dataframe thead th {\n        text-align: right;\n    }\n</style>\n<table border=\"1\" class=\"dataframe\">\n  <thead>\n    <tr style=\"text-align: right;\">\n      <th></th>\n      <th>model</th>\n      <th>variant</th>\n      <th>train_acc</th>\n      <th>train_prec</th>\n      <th>train_rec</th>\n      <th>train_f1</th>\n      <th>test_acc</th>\n      <th>test_prec</th>\n      <th>test_rec</th>\n      <th>test_f1</th>\n    </tr>\n  </thead>\n  <tbody>\n    <tr>\n      <th>24</th>\n      <td>LinearSVC</td>\n      <td>BorderlineSMOTE base</td>\n      <td>0.989591</td>\n      <td>0.990840</td>\n      <td>0.988319</td>\n      <td>0.989578</td>\n      <td>0.947285</td>\n      <td>0.616695</td>\n      <td>0.599338</td>\n      <td>0.607893</td>\n    </tr>\n    <tr>\n      <th>20</th>\n      <td>LinearSVC</td>\n      <td>base</td>\n      <td>0.969619</td>\n      <td>0.692270</td>\n      <td>0.997871</td>\n      <td>0.817442</td>\n      <td>0.930128</td>\n      <td>0.491803</td>\n      <td>0.745033</td>\n      <td>0.592495</td>\n    </tr>\n    <tr>\n      <th>22</th>\n      <td>LinearSVC</td>\n      <td>SMOTE base</td>\n      <td>0.988605</td>\n      <td>0.979225</td>\n      <td>0.998391</td>\n      <td>0.988715</td>\n      <td>0.933627</td>\n      <td>0.509615</td>\n      <td>0.701987</td>\n      <td>0.590529</td>\n    </tr>\n    <tr>\n      <th>26</th>\n      <td>LinearSVC</td>\n      <td>ADASYN base</td>\n      <td>0.987834</td>\n      <td>0.977193</td>\n      <td>0.998729</td>\n      <td>0.987843</td>\n      <td>0.933288</td>\n      <td>0.507747</td>\n      <td>0.705298</td>\n      <td>0.590437</td>\n    </tr>\n    <tr>\n      <th>31</th>\n      <td>LinearSVC</td>\n      <td>TomekLink clean</td>\n      <td>0.968844</td>\n      <td>0.679012</td>\n      <td>0.997634</td>\n      <td>0.808049</td>\n      <td>0.917661</td>\n      <td>0.420455</td>\n      <td>0.681400</td>\n      <td>0.520028</td>\n    </tr>\n    <tr>\n      <th>33</th>\n      <td>LinearSVC</td>\n      <td>RandomUnderSampler clean</td>\n      <td>0.968844</td>\n      <td>0.679012</td>\n      <td>0.997634</td>\n      <td>0.808049</td>\n      <td>0.917661</td>\n      <td>0.420455</td>\n      <td>0.681400</td>\n      <td>0.520028</td>\n    </tr>\n    <tr>\n      <th>32</th>\n      <td>LinearSVC</td>\n      <td>RandomUnderSampler base</td>\n      <td>0.968844</td>\n      <td>0.679012</td>\n      <td>0.997634</td>\n      <td>0.808049</td>\n      <td>0.917661</td>\n      <td>0.420455</td>\n      <td>0.681400</td>\n      <td>0.520028</td>\n    </tr>\n    <tr>\n      <th>30</th>\n      <td>LinearSVC</td>\n      <td>TomekLink base</td>\n      <td>0.968844</td>\n      <td>0.679012</td>\n      <td>0.997634</td>\n      <td>0.808049</td>\n      <td>0.917661</td>\n      <td>0.420455</td>\n      <td>0.681400</td>\n      <td>0.520028</td>\n    </tr>\n    <tr>\n      <th>21</th>\n      <td>LinearSVC</td>\n      <td>clean</td>\n      <td>0.967655</td>\n      <td>0.670201</td>\n      <td>0.996845</td>\n      <td>0.801522</td>\n      <td>0.918143</td>\n      <td>0.421839</td>\n      <td>0.675875</td>\n      <td>0.519462</td>\n    </tr>\n    <tr>\n      <th>23</th>\n      <td>LinearSVC</td>\n      <td>SMOTE clean</td>\n      <td>0.983219</td>\n      <td>0.970144</td>\n      <td>0.997125</td>\n      <td>0.983449</td>\n      <td>0.911754</td>\n      <td>0.398930</td>\n      <td>0.686924</td>\n      <td>0.504736</td>\n    </tr>\n    <tr>\n      <th>25</th>\n      <td>LinearSVC</td>\n      <td>BorderlineSMOTE clean</td>\n      <td>0.983413</td>\n      <td>0.970864</td>\n      <td>0.996738</td>\n      <td>0.983631</td>\n      <td>0.912236</td>\n      <td>0.399783</td>\n      <td>0.679558</td>\n      <td>0.503411</td>\n    </tr>\n    <tr>\n      <th>36</th>\n      <td>LinearSVC</td>\n      <td>SMOTETomek base</td>\n      <td>0.983496</td>\n      <td>0.970716</td>\n      <td>0.997070</td>\n      <td>0.983717</td>\n      <td>0.911513</td>\n      <td>0.397642</td>\n      <td>0.683241</td>\n      <td>0.502710</td>\n    </tr>\n    <tr>\n      <th>37</th>\n      <td>LinearSVC</td>\n      <td>SMOTETomek clean</td>\n      <td>0.983496</td>\n      <td>0.970716</td>\n      <td>0.997070</td>\n      <td>0.983717</td>\n      <td>0.911513</td>\n      <td>0.397642</td>\n      <td>0.683241</td>\n      <td>0.502710</td>\n    </tr>\n    <tr>\n      <th>27</th>\n      <td>LinearSVC</td>\n      <td>ADASYN clean</td>\n      <td>0.983289</td>\n      <td>0.970432</td>\n      <td>0.997481</td>\n      <td>0.983770</td>\n      <td>0.909946</td>\n      <td>0.391489</td>\n      <td>0.677716</td>\n      <td>0.496291</td>\n    </tr>\n    <tr>\n      <th>34</th>\n      <td>LinearSVC</td>\n      <td>ManualyHybrid base</td>\n      <td>0.981274</td>\n      <td>0.964102</td>\n      <td>0.994913</td>\n      <td>0.979265</td>\n      <td>0.902230</td>\n      <td>0.371648</td>\n      <td>0.714549</td>\n      <td>0.488973</td>\n    </tr>\n    <tr>\n      <th>35</th>\n      <td>LinearSVC</td>\n      <td>ManualyHybrid clean</td>\n      <td>0.981274</td>\n      <td>0.964102</td>\n      <td>0.994913</td>\n      <td>0.979265</td>\n      <td>0.902230</td>\n      <td>0.371648</td>\n      <td>0.714549</td>\n      <td>0.488973</td>\n    </tr>\n    <tr>\n      <th>38</th>\n      <td>LinearSVC</td>\n      <td>SMOTEEN base</td>\n      <td>0.998292</td>\n      <td>0.998486</td>\n      <td>0.999439</td>\n      <td>0.998962</td>\n      <td>0.743701</td>\n      <td>0.191182</td>\n      <td>0.902394</td>\n      <td>0.315518</td>\n    </tr>\n    <tr>\n      <th>39</th>\n      <td>LinearSVC</td>\n      <td>SMOTEEN clean</td>\n      <td>0.998292</td>\n      <td>0.998486</td>\n      <td>0.999439</td>\n      <td>0.998962</td>\n      <td>0.743701</td>\n      <td>0.191182</td>\n      <td>0.902394</td>\n      <td>0.315518</td>\n    </tr>\n    <tr>\n      <th>29</th>\n      <td>LinearSVC</td>\n      <td>NearMiss clean</td>\n      <td>0.952615</td>\n      <td>0.995012</td>\n      <td>0.944006</td>\n      <td>0.968839</td>\n      <td>0.563593</td>\n      <td>0.117764</td>\n      <td>0.872928</td>\n      <td>0.207531</td>\n    </tr>\n    <tr>\n      <th>28</th>\n      <td>LinearSVC</td>\n      <td>NearMiss base</td>\n      <td>0.967378</td>\n      <td>0.997799</td>\n      <td>0.965224</td>\n      <td>0.981241</td>\n      <td>0.386274</td>\n      <td>0.093250</td>\n      <td>0.917219</td>\n      <td>0.169290</td>\n    </tr>\n  </tbody>\n</table>\n</div>"
     },
     "execution_count": 64,
     "metadata": {},
     "output_type": "execute_result"
    }
   ],
   "source": [
    "evaluation[evaluation.model == \"LinearSVC\"].sort_values(by=[\"test_f1\"], ascending=False)"
   ],
   "metadata": {
    "collapsed": false,
    "ExecuteTime": {
     "end_time": "2024-11-14T19:51:27.919779400Z",
     "start_time": "2024-11-14T19:51:27.877782100Z"
    }
   }
  },
  {
   "cell_type": "markdown",
   "source": [
    "#### 2.3 Bayes"
   ],
   "metadata": {
    "collapsed": false
   }
  },
  {
   "cell_type": "code",
   "execution_count": 94,
   "outputs": [],
   "source": [
    "bayes = MultinomialNB()"
   ],
   "metadata": {
    "collapsed": false,
    "ExecuteTime": {
     "end_time": "2024-11-14T20:31:10.493495600Z",
     "start_time": "2024-11-14T20:31:10.408756800Z"
    }
   }
  },
  {
   "cell_type": "code",
   "execution_count": 95,
   "outputs": [
    {
     "name": "stdout",
     "output_type": "stream",
     "text": [
      "Starting model fitting.\n",
      "------------ NO SAMPLING ------------ \n",
      "1/20 Fitting: MultinomialNB BASE started...\n",
      "Fitting: MultinomialNB finished. Elapsed time: 0 Seconds\n",
      "2/20 Fitting: MultinomialNB CLEAN started...\n",
      "Fitting: MultinomialNB finished. Elapsed time: 0 Seconds\n",
      "------------ OVERSAMPLING ------------ \n",
      "3/20 Fitting: MultinomialNB SMOTE-base started...\n",
      "Fitting: MultinomialNB finished. Elapsed time: 0 Seconds\n",
      "4/20 Fitting: MultinomialNB SMOTE-clean started...\n",
      "Fitting: MultinomialNB finished. Elapsed time: 0 Seconds\n",
      "5/20 Fitting: MultinomialNB BorderlineSMOTE-base started...\n",
      "Fitting: MultinomialNB finished. Elapsed time: 0 Seconds\n",
      "6/20 Fitting: MultinomialNB BorderlineSMOTE-clean started...\n",
      "Fitting: MultinomialNB finished. Elapsed time: 0 Seconds\n",
      "7/20 Fitting: MultinomialNB ADASYN-base started...\n",
      "Fitting: MultinomialNB finished. Elapsed time: 0 Seconds\n",
      "8/20 Fitting: MultinomialNB ADASYN-clean started...\n",
      "Fitting: MultinomialNB finished. Elapsed time: 0 Seconds\n",
      "------------ UNDERSAMPLING ------------ \n",
      "9/20 Fitting: MultinomialNB NearMiss-base started...\n",
      "Fitting: MultinomialNB finished. Elapsed time: 0 Seconds\n",
      "10/20 Fitting: MultinomialNB NearMiss-clean started...\n",
      "Fitting: MultinomialNB finished. Elapsed time: 0 Seconds\n",
      "11/20 Fitting: MultinomialNB TomekLink-base started...\n",
      "Fitting: MultinomialNB finished. Elapsed time: 0 Seconds\n",
      "12/20 Fitting: MultinomialNB TomekLink-clean started...\n",
      "Fitting: MultinomialNB finished. Elapsed time: 0 Seconds\n",
      "13/20 Fitting: MultinomialNB RandomUnderSampler-base started...\n",
      "Fitting: MultinomialNB finished. Elapsed time: 0 Seconds\n",
      "14/20 Fitting: MultinomialNB RandomUnderSampler-clean started...\n",
      "Fitting: MultinomialNB finished. Elapsed time: 0 Seconds\n",
      "------------ HYBRID SAMPLING ------------ \n",
      "15/20 Fitting: MultinomialNB ManualyHybrid-base started...\n",
      "Fitting: MultinomialNB finished. Elapsed time: 0 Seconds\n",
      "16/20 Fitting: MultinomialNB ManualyHybrid-clean started...\n",
      "Fitting: MultinomialNB finished. Elapsed time: 0 Seconds\n",
      "17/20 Fitting: MultinomialNB SMOTETomek-base started...\n",
      "Fitting: MultinomialNB finished. Elapsed time: 0 Seconds\n",
      "18/20 Fitting: MultinomialNB SMOTETomek-clean started...\n",
      "Fitting: MultinomialNB finished. Elapsed time: 0 Seconds\n",
      "19/20 Fitting: MultinomialNB SMOTEEN-base started...\n",
      "Fitting: MultinomialNB finished. Elapsed time: 0 Seconds\n",
      "20/20 Fitting: MultinomialNB SMOTEEN-clean started...\n",
      "Fitting: MultinomialNB finished. Elapsed time: 0 Seconds\n",
      "Model fitting finished.\n"
     ]
    }
   ],
   "source": [
    "fit_model(bayes, \"MultinomialNB\")"
   ],
   "metadata": {
    "collapsed": false,
    "ExecuteTime": {
     "end_time": "2024-11-14T20:31:15.251254800Z",
     "start_time": "2024-11-14T20:31:14.301878Z"
    }
   }
  },
  {
   "cell_type": "code",
   "execution_count": 96,
   "outputs": [
    {
     "data": {
      "text/plain": "            model                   variant  train_acc  train_prec  train_rec  \\\n64  MultinomialNB      BorderlineSMOTE base   0.966047    0.957823   0.975029   \n62  MultinomialNB                SMOTE base   0.944372    0.916906   0.977313   \n66  MultinomialNB               ADASYN base   0.943154    0.911324   0.980557   \n75  MultinomialNB       ManualyHybrid clean   0.934926    0.914510   0.941612   \n74  MultinomialNB        ManualyHybrid base   0.934926    0.914510   0.941612   \n65  MultinomialNB     BorderlineSMOTE clean   0.947390    0.919880   0.980150   \n77  MultinomialNB          SMOTETomek clean   0.945566    0.920085   0.975893   \n76  MultinomialNB           SMOTETomek base   0.945566    0.920085   0.975893   \n63  MultinomialNB               SMOTE clean   0.945151    0.919279   0.976004   \n67  MultinomialNB              ADASYN clean   0.944641    0.915508   0.981561   \n60  MultinomialNB                      base   0.948043    0.969188   0.245564   \n61  MultinomialNB                     clean   0.952361    0.965054   0.283123   \n73  MultinomialNB  RandomUnderSampler clean   0.952462    0.970509   0.285489   \n70  MultinomialNB            TomekLink base   0.952462    0.970509   0.285489   \n72  MultinomialNB   RandomUnderSampler base   0.952462    0.970509   0.285489   \n71  MultinomialNB           TomekLink clean   0.952462    0.970509   0.285489   \n78  MultinomialNB              SMOTEEN base   0.975074    0.971156   0.999383   \n79  MultinomialNB             SMOTEEN clean   0.975074    0.971156   0.999383   \n68  MultinomialNB             NearMiss base   0.883940    0.883940   1.000000   \n69  MultinomialNB            NearMiss clean   0.792000    0.789900   0.999211   \n\n    train_f1  test_acc  test_prec  test_rec   test_f1  \n64  0.966349  0.929225   0.485924  0.657285  0.558761  \n62  0.946146  0.896489   0.382065  0.839404  0.525117  \n66  0.944674  0.890733   0.369253  0.850993  0.515030  \n75  0.927863  0.897046   0.365601  0.779006  0.497647  \n74  0.927863  0.897046   0.365601  0.779006  0.497647  \n65  0.949059  0.889813   0.352191  0.813996  0.491657  \n77  0.947168  0.888608   0.349645  0.815838  0.489503  \n76  0.947168  0.888608   0.349645  0.815838  0.489503  \n63  0.946793  0.888005   0.347310  0.808471  0.485888  \n67  0.947385  0.880048   0.331343  0.817680  0.471588  \n60  0.391846  0.944576   0.931298  0.201987  0.331973  \n61  0.437805  0.946353   0.945455  0.191529  0.318530  \n73  0.441194  0.946112   0.928571  0.191529  0.317557  \n70  0.441194  0.946112   0.928571  0.191529  0.317557  \n72  0.441194  0.946112   0.928571  0.191529  0.317557  \n71  0.441194  0.946112   0.928571  0.191529  0.317557  \n78  0.985067  0.572755   0.130692  0.977901  0.230569  \n79  0.985067  0.572755   0.130692  0.977901  0.230569  \n68  0.938395  0.068179   0.068179  1.000000  0.127655  \n69  0.882312  0.079687   0.066406  1.000000  0.124541  ",
      "text/html": "<div>\n<style scoped>\n    .dataframe tbody tr th:only-of-type {\n        vertical-align: middle;\n    }\n\n    .dataframe tbody tr th {\n        vertical-align: top;\n    }\n\n    .dataframe thead th {\n        text-align: right;\n    }\n</style>\n<table border=\"1\" class=\"dataframe\">\n  <thead>\n    <tr style=\"text-align: right;\">\n      <th></th>\n      <th>model</th>\n      <th>variant</th>\n      <th>train_acc</th>\n      <th>train_prec</th>\n      <th>train_rec</th>\n      <th>train_f1</th>\n      <th>test_acc</th>\n      <th>test_prec</th>\n      <th>test_rec</th>\n      <th>test_f1</th>\n    </tr>\n  </thead>\n  <tbody>\n    <tr>\n      <th>64</th>\n      <td>MultinomialNB</td>\n      <td>BorderlineSMOTE base</td>\n      <td>0.966047</td>\n      <td>0.957823</td>\n      <td>0.975029</td>\n      <td>0.966349</td>\n      <td>0.929225</td>\n      <td>0.485924</td>\n      <td>0.657285</td>\n      <td>0.558761</td>\n    </tr>\n    <tr>\n      <th>62</th>\n      <td>MultinomialNB</td>\n      <td>SMOTE base</td>\n      <td>0.944372</td>\n      <td>0.916906</td>\n      <td>0.977313</td>\n      <td>0.946146</td>\n      <td>0.896489</td>\n      <td>0.382065</td>\n      <td>0.839404</td>\n      <td>0.525117</td>\n    </tr>\n    <tr>\n      <th>66</th>\n      <td>MultinomialNB</td>\n      <td>ADASYN base</td>\n      <td>0.943154</td>\n      <td>0.911324</td>\n      <td>0.980557</td>\n      <td>0.944674</td>\n      <td>0.890733</td>\n      <td>0.369253</td>\n      <td>0.850993</td>\n      <td>0.515030</td>\n    </tr>\n    <tr>\n      <th>75</th>\n      <td>MultinomialNB</td>\n      <td>ManualyHybrid clean</td>\n      <td>0.934926</td>\n      <td>0.914510</td>\n      <td>0.941612</td>\n      <td>0.927863</td>\n      <td>0.897046</td>\n      <td>0.365601</td>\n      <td>0.779006</td>\n      <td>0.497647</td>\n    </tr>\n    <tr>\n      <th>74</th>\n      <td>MultinomialNB</td>\n      <td>ManualyHybrid base</td>\n      <td>0.934926</td>\n      <td>0.914510</td>\n      <td>0.941612</td>\n      <td>0.927863</td>\n      <td>0.897046</td>\n      <td>0.365601</td>\n      <td>0.779006</td>\n      <td>0.497647</td>\n    </tr>\n    <tr>\n      <th>65</th>\n      <td>MultinomialNB</td>\n      <td>BorderlineSMOTE clean</td>\n      <td>0.947390</td>\n      <td>0.919880</td>\n      <td>0.980150</td>\n      <td>0.949059</td>\n      <td>0.889813</td>\n      <td>0.352191</td>\n      <td>0.813996</td>\n      <td>0.491657</td>\n    </tr>\n    <tr>\n      <th>77</th>\n      <td>MultinomialNB</td>\n      <td>SMOTETomek clean</td>\n      <td>0.945566</td>\n      <td>0.920085</td>\n      <td>0.975893</td>\n      <td>0.947168</td>\n      <td>0.888608</td>\n      <td>0.349645</td>\n      <td>0.815838</td>\n      <td>0.489503</td>\n    </tr>\n    <tr>\n      <th>76</th>\n      <td>MultinomialNB</td>\n      <td>SMOTETomek base</td>\n      <td>0.945566</td>\n      <td>0.920085</td>\n      <td>0.975893</td>\n      <td>0.947168</td>\n      <td>0.888608</td>\n      <td>0.349645</td>\n      <td>0.815838</td>\n      <td>0.489503</td>\n    </tr>\n    <tr>\n      <th>63</th>\n      <td>MultinomialNB</td>\n      <td>SMOTE clean</td>\n      <td>0.945151</td>\n      <td>0.919279</td>\n      <td>0.976004</td>\n      <td>0.946793</td>\n      <td>0.888005</td>\n      <td>0.347310</td>\n      <td>0.808471</td>\n      <td>0.485888</td>\n    </tr>\n    <tr>\n      <th>67</th>\n      <td>MultinomialNB</td>\n      <td>ADASYN clean</td>\n      <td>0.944641</td>\n      <td>0.915508</td>\n      <td>0.981561</td>\n      <td>0.947385</td>\n      <td>0.880048</td>\n      <td>0.331343</td>\n      <td>0.817680</td>\n      <td>0.471588</td>\n    </tr>\n    <tr>\n      <th>60</th>\n      <td>MultinomialNB</td>\n      <td>base</td>\n      <td>0.948043</td>\n      <td>0.969188</td>\n      <td>0.245564</td>\n      <td>0.391846</td>\n      <td>0.944576</td>\n      <td>0.931298</td>\n      <td>0.201987</td>\n      <td>0.331973</td>\n    </tr>\n    <tr>\n      <th>61</th>\n      <td>MultinomialNB</td>\n      <td>clean</td>\n      <td>0.952361</td>\n      <td>0.965054</td>\n      <td>0.283123</td>\n      <td>0.437805</td>\n      <td>0.946353</td>\n      <td>0.945455</td>\n      <td>0.191529</td>\n      <td>0.318530</td>\n    </tr>\n    <tr>\n      <th>73</th>\n      <td>MultinomialNB</td>\n      <td>RandomUnderSampler clean</td>\n      <td>0.952462</td>\n      <td>0.970509</td>\n      <td>0.285489</td>\n      <td>0.441194</td>\n      <td>0.946112</td>\n      <td>0.928571</td>\n      <td>0.191529</td>\n      <td>0.317557</td>\n    </tr>\n    <tr>\n      <th>70</th>\n      <td>MultinomialNB</td>\n      <td>TomekLink base</td>\n      <td>0.952462</td>\n      <td>0.970509</td>\n      <td>0.285489</td>\n      <td>0.441194</td>\n      <td>0.946112</td>\n      <td>0.928571</td>\n      <td>0.191529</td>\n      <td>0.317557</td>\n    </tr>\n    <tr>\n      <th>72</th>\n      <td>MultinomialNB</td>\n      <td>RandomUnderSampler base</td>\n      <td>0.952462</td>\n      <td>0.970509</td>\n      <td>0.285489</td>\n      <td>0.441194</td>\n      <td>0.946112</td>\n      <td>0.928571</td>\n      <td>0.191529</td>\n      <td>0.317557</td>\n    </tr>\n    <tr>\n      <th>71</th>\n      <td>MultinomialNB</td>\n      <td>TomekLink clean</td>\n      <td>0.952462</td>\n      <td>0.970509</td>\n      <td>0.285489</td>\n      <td>0.441194</td>\n      <td>0.946112</td>\n      <td>0.928571</td>\n      <td>0.191529</td>\n      <td>0.317557</td>\n    </tr>\n    <tr>\n      <th>78</th>\n      <td>MultinomialNB</td>\n      <td>SMOTEEN base</td>\n      <td>0.975074</td>\n      <td>0.971156</td>\n      <td>0.999383</td>\n      <td>0.985067</td>\n      <td>0.572755</td>\n      <td>0.130692</td>\n      <td>0.977901</td>\n      <td>0.230569</td>\n    </tr>\n    <tr>\n      <th>79</th>\n      <td>MultinomialNB</td>\n      <td>SMOTEEN clean</td>\n      <td>0.975074</td>\n      <td>0.971156</td>\n      <td>0.999383</td>\n      <td>0.985067</td>\n      <td>0.572755</td>\n      <td>0.130692</td>\n      <td>0.977901</td>\n      <td>0.230569</td>\n    </tr>\n    <tr>\n      <th>68</th>\n      <td>MultinomialNB</td>\n      <td>NearMiss base</td>\n      <td>0.883940</td>\n      <td>0.883940</td>\n      <td>1.000000</td>\n      <td>0.938395</td>\n      <td>0.068179</td>\n      <td>0.068179</td>\n      <td>1.000000</td>\n      <td>0.127655</td>\n    </tr>\n    <tr>\n      <th>69</th>\n      <td>MultinomialNB</td>\n      <td>NearMiss clean</td>\n      <td>0.792000</td>\n      <td>0.789900</td>\n      <td>0.999211</td>\n      <td>0.882312</td>\n      <td>0.079687</td>\n      <td>0.066406</td>\n      <td>1.000000</td>\n      <td>0.124541</td>\n    </tr>\n  </tbody>\n</table>\n</div>"
     },
     "execution_count": 96,
     "metadata": {},
     "output_type": "execute_result"
    }
   ],
   "source": [
    "evaluation[evaluation.model == \"MultinomialNB\"].sort_values(by=[\"test_f1\"], ascending=False)"
   ],
   "metadata": {
    "collapsed": false,
    "ExecuteTime": {
     "end_time": "2024-11-14T20:31:20.843574400Z",
     "start_time": "2024-11-14T20:31:20.760106200Z"
    }
   }
  },
  {
   "cell_type": "markdown",
   "source": [
    "#### Gesamtvergleich"
   ],
   "metadata": {
    "collapsed": false
   }
  },
  {
   "cell_type": "code",
   "execution_count": 68,
   "outputs": [
    {
     "data": {
      "text/plain": "           model                   variant  train_acc  train_prec  train_rec  \\\n24     LinearSVC      BorderlineSMOTE base   0.989591    0.990840   0.988319   \n44    GaussianNB      BorderlineSMOTE base   0.989591    0.990840   0.988319   \n40    GaussianNB                      base   0.969619    0.692270   0.997871   \n20     LinearSVC                      base   0.969619    0.692270   0.997871   \n42    GaussianNB                SMOTE base   0.988605    0.979225   0.998391   \n22     LinearSVC                SMOTE base   0.988605    0.979225   0.998391   \n26     LinearSVC               ADASYN base   0.987834    0.977193   0.998729   \n46    GaussianNB               ADASYN base   0.987834    0.977193   0.998729   \n16  RandomForest           SMOTETomek base   0.999917    0.999889   0.999945   \n5   RandomForest     BorderlineSMOTE clean   0.999917    0.999945   0.999889   \n3   RandomForest               SMOTE clean   0.999917    0.999889   0.999945   \n7   RandomForest              ADASYN clean   0.999918    1.000000   0.999839   \n12  RandomForest   RandomUnderSampler base   0.999844    0.999211   0.998423   \n0   RandomForest                      base   0.999710    1.000000   0.995742   \n15  RandomForest       ManualyHybrid clean   0.999902    1.000000   0.999779   \n17  RandomForest          SMOTETomek clean   0.999917    0.999889   0.999945   \n14  RandomForest        ManualyHybrid base   0.999902    1.000000   0.999779   \n13  RandomForest  RandomUnderSampler clean   0.999844    0.999211   0.998423   \n10  RandomForest            TomekLink base   0.999844    1.000000   0.997634   \n1   RandomForest                     clean   0.999742    1.000000   0.996057   \n11  RandomForest           TomekLink clean   0.999844    1.000000   0.997634   \n6   RandomForest               ADASYN base   0.999921    0.999947   0.999894   \n2   RandomForest                SMOTE base   0.999922    0.999896   0.999948   \n50    GaussianNB            TomekLink base   0.968844    0.679012   0.997634   \n51    GaussianNB           TomekLink clean   0.968844    0.679012   0.997634   \n52    GaussianNB   RandomUnderSampler base   0.968844    0.679012   0.997634   \n53    GaussianNB  RandomUnderSampler clean   0.968844    0.679012   0.997634   \n33     LinearSVC  RandomUnderSampler clean   0.968844    0.679012   0.997634   \n32     LinearSVC   RandomUnderSampler base   0.968844    0.679012   0.997634   \n31     LinearSVC           TomekLink clean   0.968844    0.679012   0.997634   \n30     LinearSVC            TomekLink base   0.968844    0.679012   0.997634   \n41    GaussianNB                     clean   0.967655    0.670201   0.996845   \n21     LinearSVC                     clean   0.967655    0.670201   0.996845   \n43    GaussianNB               SMOTE clean   0.983219    0.970144   0.997125   \n23     LinearSVC               SMOTE clean   0.983219    0.970144   0.997125   \n45    GaussianNB     BorderlineSMOTE clean   0.983413    0.970864   0.996738   \n25     LinearSVC     BorderlineSMOTE clean   0.983413    0.970864   0.996738   \n37     LinearSVC          SMOTETomek clean   0.983496    0.970716   0.997070   \n57    GaussianNB          SMOTETomek clean   0.983496    0.970716   0.997070   \n36     LinearSVC           SMOTETomek base   0.983496    0.970716   0.997070   \n56    GaussianNB           SMOTETomek base   0.983496    0.970716   0.997070   \n27     LinearSVC              ADASYN clean   0.983289    0.970432   0.997481   \n47    GaussianNB              ADASYN clean   0.983289    0.970432   0.997481   \n35     LinearSVC       ManualyHybrid clean   0.981274    0.964102   0.994913   \n34     LinearSVC        ManualyHybrid base   0.981274    0.964102   0.994913   \n55    GaussianNB       ManualyHybrid clean   0.981274    0.964102   0.994913   \n54    GaussianNB        ManualyHybrid base   0.981274    0.964102   0.994913   \n4   RandomForest      BorderlineSMOTE base   0.999922    1.000000   0.999844   \n58    GaussianNB              SMOTEEN base   0.998292    0.998486   0.999439   \n59    GaussianNB             SMOTEEN clean   0.998292    0.998486   0.999439   \n39     LinearSVC             SMOTEEN clean   0.998292    0.998486   0.999439   \n38     LinearSVC              SMOTEEN base   0.998292    0.998486   0.999439   \n18  RandomForest              SMOTEEN base   1.000000    1.000000   1.000000   \n19  RandomForest             SMOTEEN clean   1.000000    1.000000   1.000000   \n49    GaussianNB            NearMiss clean   0.952615    0.995012   0.944006   \n29     LinearSVC            NearMiss clean   0.952615    0.995012   0.944006   \n9   RandomForest            NearMiss clean   0.998154    1.000000   0.997634   \n48    GaussianNB             NearMiss base   0.967378    0.997799   0.965224   \n28     LinearSVC             NearMiss base   0.967378    0.997799   0.965224   \n8   RandomForest             NearMiss base   0.998118    0.999290   0.998581   \n\n    train_f1  test_acc  test_prec  test_rec   test_f1  \n24  0.989578  0.947285   0.616695  0.599338  0.607893  \n44  0.989578  0.947285   0.616695  0.599338  0.607893  \n40  0.817442  0.930128   0.491803  0.745033  0.592495  \n20  0.817442  0.930128   0.491803  0.745033  0.592495  \n42  0.988715  0.933627   0.509615  0.701987  0.590529  \n22  0.988715  0.933627   0.509615  0.701987  0.590529  \n26  0.987843  0.933288   0.507747  0.705298  0.590437  \n46  0.987843  0.933288   0.507747  0.705298  0.590437  \n16  0.999917  0.948885   0.621181  0.561694  0.589942  \n5   0.999917  0.947438   0.608081  0.554328  0.579961  \n3   0.999917  0.946233   0.593810  0.565378  0.579245  \n7   0.999920  0.946233   0.594912  0.559853  0.576850  \n12  0.998817  0.956480   0.793548  0.453039  0.576788  \n0   0.997866  0.957219   0.891986  0.423841  0.574635  \n15  0.999889  0.942978   0.561837  0.585635  0.573490  \n17  0.999917  0.946233   0.597586  0.546961  0.571154  \n14  0.999889  0.942013   0.554007  0.585635  0.569382  \n13  0.998817  0.954671   0.760125  0.449355  0.564815  \n10  0.998816  0.955033   0.774194  0.441989  0.562720  \n1   0.998024  0.954913   0.771704  0.441989  0.562061  \n11  0.998816  0.954551   0.767742  0.438306  0.558030  \n6   0.999921  0.951688   0.773292  0.412252  0.537797  \n2   0.999922  0.951688   0.775000  0.410596  0.536797  \n50  0.808049  0.917661   0.420455  0.681400  0.520028  \n51  0.808049  0.917661   0.420455  0.681400  0.520028  \n52  0.808049  0.917661   0.420455  0.681400  0.520028  \n53  0.808049  0.917661   0.420455  0.681400  0.520028  \n33  0.808049  0.917661   0.420455  0.681400  0.520028  \n32  0.808049  0.917661   0.420455  0.681400  0.520028  \n31  0.808049  0.917661   0.420455  0.681400  0.520028  \n30  0.808049  0.917661   0.420455  0.681400  0.520028  \n41  0.801522  0.918143   0.421839  0.675875  0.519462  \n21  0.801522  0.918143   0.421839  0.675875  0.519462  \n43  0.983449  0.911754   0.398930  0.686924  0.504736  \n23  0.983449  0.911754   0.398930  0.686924  0.504736  \n45  0.983631  0.912236   0.399783  0.679558  0.503411  \n25  0.983631  0.912236   0.399783  0.679558  0.503411  \n37  0.983717  0.911513   0.397642  0.683241  0.502710  \n57  0.983717  0.911513   0.397642  0.683241  0.502710  \n36  0.983717  0.911513   0.397642  0.683241  0.502710  \n56  0.983717  0.911513   0.397642  0.683241  0.502710  \n27  0.983770  0.909946   0.391489  0.677716  0.496291  \n47  0.983770  0.909946   0.391489  0.677716  0.496291  \n35  0.979265  0.902230   0.371648  0.714549  0.488973  \n34  0.979265  0.902230   0.371648  0.714549  0.488973  \n55  0.979265  0.902230   0.371648  0.714549  0.488973  \n54  0.979265  0.902230   0.371648  0.714549  0.488973  \n4   0.999922  0.950220   0.865471  0.319536  0.466747  \n58  0.998962  0.743701   0.191182  0.902394  0.315518  \n59  0.998962  0.743701   0.191182  0.902394  0.315518  \n39  0.998962  0.743701   0.191182  0.902394  0.315518  \n38  0.998962  0.743701   0.191182  0.902394  0.315518  \n18  1.000000  0.748282   0.180917  0.806630  0.295547  \n19  1.000000  0.746594   0.178822  0.799263  0.292256  \n49  0.968839  0.563593   0.117764  0.872928  0.207531  \n29  0.968839  0.563593   0.117764  0.872928  0.207531  \n9   0.998816  0.478722   0.099385  0.863720  0.178259  \n48  0.981241  0.386274   0.093250  0.917219  0.169290  \n28  0.981241  0.386274   0.093250  0.917219  0.169290  \n8   0.998935  0.230839   0.079268  0.968543  0.146543  ",
      "text/html": "<div>\n<style scoped>\n    .dataframe tbody tr th:only-of-type {\n        vertical-align: middle;\n    }\n\n    .dataframe tbody tr th {\n        vertical-align: top;\n    }\n\n    .dataframe thead th {\n        text-align: right;\n    }\n</style>\n<table border=\"1\" class=\"dataframe\">\n  <thead>\n    <tr style=\"text-align: right;\">\n      <th></th>\n      <th>model</th>\n      <th>variant</th>\n      <th>train_acc</th>\n      <th>train_prec</th>\n      <th>train_rec</th>\n      <th>train_f1</th>\n      <th>test_acc</th>\n      <th>test_prec</th>\n      <th>test_rec</th>\n      <th>test_f1</th>\n    </tr>\n  </thead>\n  <tbody>\n    <tr>\n      <th>24</th>\n      <td>LinearSVC</td>\n      <td>BorderlineSMOTE base</td>\n      <td>0.989591</td>\n      <td>0.990840</td>\n      <td>0.988319</td>\n      <td>0.989578</td>\n      <td>0.947285</td>\n      <td>0.616695</td>\n      <td>0.599338</td>\n      <td>0.607893</td>\n    </tr>\n    <tr>\n      <th>44</th>\n      <td>GaussianNB</td>\n      <td>BorderlineSMOTE base</td>\n      <td>0.989591</td>\n      <td>0.990840</td>\n      <td>0.988319</td>\n      <td>0.989578</td>\n      <td>0.947285</td>\n      <td>0.616695</td>\n      <td>0.599338</td>\n      <td>0.607893</td>\n    </tr>\n    <tr>\n      <th>40</th>\n      <td>GaussianNB</td>\n      <td>base</td>\n      <td>0.969619</td>\n      <td>0.692270</td>\n      <td>0.997871</td>\n      <td>0.817442</td>\n      <td>0.930128</td>\n      <td>0.491803</td>\n      <td>0.745033</td>\n      <td>0.592495</td>\n    </tr>\n    <tr>\n      <th>20</th>\n      <td>LinearSVC</td>\n      <td>base</td>\n      <td>0.969619</td>\n      <td>0.692270</td>\n      <td>0.997871</td>\n      <td>0.817442</td>\n      <td>0.930128</td>\n      <td>0.491803</td>\n      <td>0.745033</td>\n      <td>0.592495</td>\n    </tr>\n    <tr>\n      <th>42</th>\n      <td>GaussianNB</td>\n      <td>SMOTE base</td>\n      <td>0.988605</td>\n      <td>0.979225</td>\n      <td>0.998391</td>\n      <td>0.988715</td>\n      <td>0.933627</td>\n      <td>0.509615</td>\n      <td>0.701987</td>\n      <td>0.590529</td>\n    </tr>\n    <tr>\n      <th>22</th>\n      <td>LinearSVC</td>\n      <td>SMOTE base</td>\n      <td>0.988605</td>\n      <td>0.979225</td>\n      <td>0.998391</td>\n      <td>0.988715</td>\n      <td>0.933627</td>\n      <td>0.509615</td>\n      <td>0.701987</td>\n      <td>0.590529</td>\n    </tr>\n    <tr>\n      <th>26</th>\n      <td>LinearSVC</td>\n      <td>ADASYN base</td>\n      <td>0.987834</td>\n      <td>0.977193</td>\n      <td>0.998729</td>\n      <td>0.987843</td>\n      <td>0.933288</td>\n      <td>0.507747</td>\n      <td>0.705298</td>\n      <td>0.590437</td>\n    </tr>\n    <tr>\n      <th>46</th>\n      <td>GaussianNB</td>\n      <td>ADASYN base</td>\n      <td>0.987834</td>\n      <td>0.977193</td>\n      <td>0.998729</td>\n      <td>0.987843</td>\n      <td>0.933288</td>\n      <td>0.507747</td>\n      <td>0.705298</td>\n      <td>0.590437</td>\n    </tr>\n    <tr>\n      <th>16</th>\n      <td>RandomForest</td>\n      <td>SMOTETomek base</td>\n      <td>0.999917</td>\n      <td>0.999889</td>\n      <td>0.999945</td>\n      <td>0.999917</td>\n      <td>0.948885</td>\n      <td>0.621181</td>\n      <td>0.561694</td>\n      <td>0.589942</td>\n    </tr>\n    <tr>\n      <th>5</th>\n      <td>RandomForest</td>\n      <td>BorderlineSMOTE clean</td>\n      <td>0.999917</td>\n      <td>0.999945</td>\n      <td>0.999889</td>\n      <td>0.999917</td>\n      <td>0.947438</td>\n      <td>0.608081</td>\n      <td>0.554328</td>\n      <td>0.579961</td>\n    </tr>\n    <tr>\n      <th>3</th>\n      <td>RandomForest</td>\n      <td>SMOTE clean</td>\n      <td>0.999917</td>\n      <td>0.999889</td>\n      <td>0.999945</td>\n      <td>0.999917</td>\n      <td>0.946233</td>\n      <td>0.593810</td>\n      <td>0.565378</td>\n      <td>0.579245</td>\n    </tr>\n    <tr>\n      <th>7</th>\n      <td>RandomForest</td>\n      <td>ADASYN clean</td>\n      <td>0.999918</td>\n      <td>1.000000</td>\n      <td>0.999839</td>\n      <td>0.999920</td>\n      <td>0.946233</td>\n      <td>0.594912</td>\n      <td>0.559853</td>\n      <td>0.576850</td>\n    </tr>\n    <tr>\n      <th>12</th>\n      <td>RandomForest</td>\n      <td>RandomUnderSampler base</td>\n      <td>0.999844</td>\n      <td>0.999211</td>\n      <td>0.998423</td>\n      <td>0.998817</td>\n      <td>0.956480</td>\n      <td>0.793548</td>\n      <td>0.453039</td>\n      <td>0.576788</td>\n    </tr>\n    <tr>\n      <th>0</th>\n      <td>RandomForest</td>\n      <td>base</td>\n      <td>0.999710</td>\n      <td>1.000000</td>\n      <td>0.995742</td>\n      <td>0.997866</td>\n      <td>0.957219</td>\n      <td>0.891986</td>\n      <td>0.423841</td>\n      <td>0.574635</td>\n    </tr>\n    <tr>\n      <th>15</th>\n      <td>RandomForest</td>\n      <td>ManualyHybrid clean</td>\n      <td>0.999902</td>\n      <td>1.000000</td>\n      <td>0.999779</td>\n      <td>0.999889</td>\n      <td>0.942978</td>\n      <td>0.561837</td>\n      <td>0.585635</td>\n      <td>0.573490</td>\n    </tr>\n    <tr>\n      <th>17</th>\n      <td>RandomForest</td>\n      <td>SMOTETomek clean</td>\n      <td>0.999917</td>\n      <td>0.999889</td>\n      <td>0.999945</td>\n      <td>0.999917</td>\n      <td>0.946233</td>\n      <td>0.597586</td>\n      <td>0.546961</td>\n      <td>0.571154</td>\n    </tr>\n    <tr>\n      <th>14</th>\n      <td>RandomForest</td>\n      <td>ManualyHybrid base</td>\n      <td>0.999902</td>\n      <td>1.000000</td>\n      <td>0.999779</td>\n      <td>0.999889</td>\n      <td>0.942013</td>\n      <td>0.554007</td>\n      <td>0.585635</td>\n      <td>0.569382</td>\n    </tr>\n    <tr>\n      <th>13</th>\n      <td>RandomForest</td>\n      <td>RandomUnderSampler clean</td>\n      <td>0.999844</td>\n      <td>0.999211</td>\n      <td>0.998423</td>\n      <td>0.998817</td>\n      <td>0.954671</td>\n      <td>0.760125</td>\n      <td>0.449355</td>\n      <td>0.564815</td>\n    </tr>\n    <tr>\n      <th>10</th>\n      <td>RandomForest</td>\n      <td>TomekLink base</td>\n      <td>0.999844</td>\n      <td>1.000000</td>\n      <td>0.997634</td>\n      <td>0.998816</td>\n      <td>0.955033</td>\n      <td>0.774194</td>\n      <td>0.441989</td>\n      <td>0.562720</td>\n    </tr>\n    <tr>\n      <th>1</th>\n      <td>RandomForest</td>\n      <td>clean</td>\n      <td>0.999742</td>\n      <td>1.000000</td>\n      <td>0.996057</td>\n      <td>0.998024</td>\n      <td>0.954913</td>\n      <td>0.771704</td>\n      <td>0.441989</td>\n      <td>0.562061</td>\n    </tr>\n    <tr>\n      <th>11</th>\n      <td>RandomForest</td>\n      <td>TomekLink clean</td>\n      <td>0.999844</td>\n      <td>1.000000</td>\n      <td>0.997634</td>\n      <td>0.998816</td>\n      <td>0.954551</td>\n      <td>0.767742</td>\n      <td>0.438306</td>\n      <td>0.558030</td>\n    </tr>\n    <tr>\n      <th>6</th>\n      <td>RandomForest</td>\n      <td>ADASYN base</td>\n      <td>0.999921</td>\n      <td>0.999947</td>\n      <td>0.999894</td>\n      <td>0.999921</td>\n      <td>0.951688</td>\n      <td>0.773292</td>\n      <td>0.412252</td>\n      <td>0.537797</td>\n    </tr>\n    <tr>\n      <th>2</th>\n      <td>RandomForest</td>\n      <td>SMOTE base</td>\n      <td>0.999922</td>\n      <td>0.999896</td>\n      <td>0.999948</td>\n      <td>0.999922</td>\n      <td>0.951688</td>\n      <td>0.775000</td>\n      <td>0.410596</td>\n      <td>0.536797</td>\n    </tr>\n    <tr>\n      <th>50</th>\n      <td>GaussianNB</td>\n      <td>TomekLink base</td>\n      <td>0.968844</td>\n      <td>0.679012</td>\n      <td>0.997634</td>\n      <td>0.808049</td>\n      <td>0.917661</td>\n      <td>0.420455</td>\n      <td>0.681400</td>\n      <td>0.520028</td>\n    </tr>\n    <tr>\n      <th>51</th>\n      <td>GaussianNB</td>\n      <td>TomekLink clean</td>\n      <td>0.968844</td>\n      <td>0.679012</td>\n      <td>0.997634</td>\n      <td>0.808049</td>\n      <td>0.917661</td>\n      <td>0.420455</td>\n      <td>0.681400</td>\n      <td>0.520028</td>\n    </tr>\n    <tr>\n      <th>52</th>\n      <td>GaussianNB</td>\n      <td>RandomUnderSampler base</td>\n      <td>0.968844</td>\n      <td>0.679012</td>\n      <td>0.997634</td>\n      <td>0.808049</td>\n      <td>0.917661</td>\n      <td>0.420455</td>\n      <td>0.681400</td>\n      <td>0.520028</td>\n    </tr>\n    <tr>\n      <th>53</th>\n      <td>GaussianNB</td>\n      <td>RandomUnderSampler clean</td>\n      <td>0.968844</td>\n      <td>0.679012</td>\n      <td>0.997634</td>\n      <td>0.808049</td>\n      <td>0.917661</td>\n      <td>0.420455</td>\n      <td>0.681400</td>\n      <td>0.520028</td>\n    </tr>\n    <tr>\n      <th>33</th>\n      <td>LinearSVC</td>\n      <td>RandomUnderSampler clean</td>\n      <td>0.968844</td>\n      <td>0.679012</td>\n      <td>0.997634</td>\n      <td>0.808049</td>\n      <td>0.917661</td>\n      <td>0.420455</td>\n      <td>0.681400</td>\n      <td>0.520028</td>\n    </tr>\n    <tr>\n      <th>32</th>\n      <td>LinearSVC</td>\n      <td>RandomUnderSampler base</td>\n      <td>0.968844</td>\n      <td>0.679012</td>\n      <td>0.997634</td>\n      <td>0.808049</td>\n      <td>0.917661</td>\n      <td>0.420455</td>\n      <td>0.681400</td>\n      <td>0.520028</td>\n    </tr>\n    <tr>\n      <th>31</th>\n      <td>LinearSVC</td>\n      <td>TomekLink clean</td>\n      <td>0.968844</td>\n      <td>0.679012</td>\n      <td>0.997634</td>\n      <td>0.808049</td>\n      <td>0.917661</td>\n      <td>0.420455</td>\n      <td>0.681400</td>\n      <td>0.520028</td>\n    </tr>\n    <tr>\n      <th>30</th>\n      <td>LinearSVC</td>\n      <td>TomekLink base</td>\n      <td>0.968844</td>\n      <td>0.679012</td>\n      <td>0.997634</td>\n      <td>0.808049</td>\n      <td>0.917661</td>\n      <td>0.420455</td>\n      <td>0.681400</td>\n      <td>0.520028</td>\n    </tr>\n    <tr>\n      <th>41</th>\n      <td>GaussianNB</td>\n      <td>clean</td>\n      <td>0.967655</td>\n      <td>0.670201</td>\n      <td>0.996845</td>\n      <td>0.801522</td>\n      <td>0.918143</td>\n      <td>0.421839</td>\n      <td>0.675875</td>\n      <td>0.519462</td>\n    </tr>\n    <tr>\n      <th>21</th>\n      <td>LinearSVC</td>\n      <td>clean</td>\n      <td>0.967655</td>\n      <td>0.670201</td>\n      <td>0.996845</td>\n      <td>0.801522</td>\n      <td>0.918143</td>\n      <td>0.421839</td>\n      <td>0.675875</td>\n      <td>0.519462</td>\n    </tr>\n    <tr>\n      <th>43</th>\n      <td>GaussianNB</td>\n      <td>SMOTE clean</td>\n      <td>0.983219</td>\n      <td>0.970144</td>\n      <td>0.997125</td>\n      <td>0.983449</td>\n      <td>0.911754</td>\n      <td>0.398930</td>\n      <td>0.686924</td>\n      <td>0.504736</td>\n    </tr>\n    <tr>\n      <th>23</th>\n      <td>LinearSVC</td>\n      <td>SMOTE clean</td>\n      <td>0.983219</td>\n      <td>0.970144</td>\n      <td>0.997125</td>\n      <td>0.983449</td>\n      <td>0.911754</td>\n      <td>0.398930</td>\n      <td>0.686924</td>\n      <td>0.504736</td>\n    </tr>\n    <tr>\n      <th>45</th>\n      <td>GaussianNB</td>\n      <td>BorderlineSMOTE clean</td>\n      <td>0.983413</td>\n      <td>0.970864</td>\n      <td>0.996738</td>\n      <td>0.983631</td>\n      <td>0.912236</td>\n      <td>0.399783</td>\n      <td>0.679558</td>\n      <td>0.503411</td>\n    </tr>\n    <tr>\n      <th>25</th>\n      <td>LinearSVC</td>\n      <td>BorderlineSMOTE clean</td>\n      <td>0.983413</td>\n      <td>0.970864</td>\n      <td>0.996738</td>\n      <td>0.983631</td>\n      <td>0.912236</td>\n      <td>0.399783</td>\n      <td>0.679558</td>\n      <td>0.503411</td>\n    </tr>\n    <tr>\n      <th>37</th>\n      <td>LinearSVC</td>\n      <td>SMOTETomek clean</td>\n      <td>0.983496</td>\n      <td>0.970716</td>\n      <td>0.997070</td>\n      <td>0.983717</td>\n      <td>0.911513</td>\n      <td>0.397642</td>\n      <td>0.683241</td>\n      <td>0.502710</td>\n    </tr>\n    <tr>\n      <th>57</th>\n      <td>GaussianNB</td>\n      <td>SMOTETomek clean</td>\n      <td>0.983496</td>\n      <td>0.970716</td>\n      <td>0.997070</td>\n      <td>0.983717</td>\n      <td>0.911513</td>\n      <td>0.397642</td>\n      <td>0.683241</td>\n      <td>0.502710</td>\n    </tr>\n    <tr>\n      <th>36</th>\n      <td>LinearSVC</td>\n      <td>SMOTETomek base</td>\n      <td>0.983496</td>\n      <td>0.970716</td>\n      <td>0.997070</td>\n      <td>0.983717</td>\n      <td>0.911513</td>\n      <td>0.397642</td>\n      <td>0.683241</td>\n      <td>0.502710</td>\n    </tr>\n    <tr>\n      <th>56</th>\n      <td>GaussianNB</td>\n      <td>SMOTETomek base</td>\n      <td>0.983496</td>\n      <td>0.970716</td>\n      <td>0.997070</td>\n      <td>0.983717</td>\n      <td>0.911513</td>\n      <td>0.397642</td>\n      <td>0.683241</td>\n      <td>0.502710</td>\n    </tr>\n    <tr>\n      <th>27</th>\n      <td>LinearSVC</td>\n      <td>ADASYN clean</td>\n      <td>0.983289</td>\n      <td>0.970432</td>\n      <td>0.997481</td>\n      <td>0.983770</td>\n      <td>0.909946</td>\n      <td>0.391489</td>\n      <td>0.677716</td>\n      <td>0.496291</td>\n    </tr>\n    <tr>\n      <th>47</th>\n      <td>GaussianNB</td>\n      <td>ADASYN clean</td>\n      <td>0.983289</td>\n      <td>0.970432</td>\n      <td>0.997481</td>\n      <td>0.983770</td>\n      <td>0.909946</td>\n      <td>0.391489</td>\n      <td>0.677716</td>\n      <td>0.496291</td>\n    </tr>\n    <tr>\n      <th>35</th>\n      <td>LinearSVC</td>\n      <td>ManualyHybrid clean</td>\n      <td>0.981274</td>\n      <td>0.964102</td>\n      <td>0.994913</td>\n      <td>0.979265</td>\n      <td>0.902230</td>\n      <td>0.371648</td>\n      <td>0.714549</td>\n      <td>0.488973</td>\n    </tr>\n    <tr>\n      <th>34</th>\n      <td>LinearSVC</td>\n      <td>ManualyHybrid base</td>\n      <td>0.981274</td>\n      <td>0.964102</td>\n      <td>0.994913</td>\n      <td>0.979265</td>\n      <td>0.902230</td>\n      <td>0.371648</td>\n      <td>0.714549</td>\n      <td>0.488973</td>\n    </tr>\n    <tr>\n      <th>55</th>\n      <td>GaussianNB</td>\n      <td>ManualyHybrid clean</td>\n      <td>0.981274</td>\n      <td>0.964102</td>\n      <td>0.994913</td>\n      <td>0.979265</td>\n      <td>0.902230</td>\n      <td>0.371648</td>\n      <td>0.714549</td>\n      <td>0.488973</td>\n    </tr>\n    <tr>\n      <th>54</th>\n      <td>GaussianNB</td>\n      <td>ManualyHybrid base</td>\n      <td>0.981274</td>\n      <td>0.964102</td>\n      <td>0.994913</td>\n      <td>0.979265</td>\n      <td>0.902230</td>\n      <td>0.371648</td>\n      <td>0.714549</td>\n      <td>0.488973</td>\n    </tr>\n    <tr>\n      <th>4</th>\n      <td>RandomForest</td>\n      <td>BorderlineSMOTE base</td>\n      <td>0.999922</td>\n      <td>1.000000</td>\n      <td>0.999844</td>\n      <td>0.999922</td>\n      <td>0.950220</td>\n      <td>0.865471</td>\n      <td>0.319536</td>\n      <td>0.466747</td>\n    </tr>\n    <tr>\n      <th>58</th>\n      <td>GaussianNB</td>\n      <td>SMOTEEN base</td>\n      <td>0.998292</td>\n      <td>0.998486</td>\n      <td>0.999439</td>\n      <td>0.998962</td>\n      <td>0.743701</td>\n      <td>0.191182</td>\n      <td>0.902394</td>\n      <td>0.315518</td>\n    </tr>\n    <tr>\n      <th>59</th>\n      <td>GaussianNB</td>\n      <td>SMOTEEN clean</td>\n      <td>0.998292</td>\n      <td>0.998486</td>\n      <td>0.999439</td>\n      <td>0.998962</td>\n      <td>0.743701</td>\n      <td>0.191182</td>\n      <td>0.902394</td>\n      <td>0.315518</td>\n    </tr>\n    <tr>\n      <th>39</th>\n      <td>LinearSVC</td>\n      <td>SMOTEEN clean</td>\n      <td>0.998292</td>\n      <td>0.998486</td>\n      <td>0.999439</td>\n      <td>0.998962</td>\n      <td>0.743701</td>\n      <td>0.191182</td>\n      <td>0.902394</td>\n      <td>0.315518</td>\n    </tr>\n    <tr>\n      <th>38</th>\n      <td>LinearSVC</td>\n      <td>SMOTEEN base</td>\n      <td>0.998292</td>\n      <td>0.998486</td>\n      <td>0.999439</td>\n      <td>0.998962</td>\n      <td>0.743701</td>\n      <td>0.191182</td>\n      <td>0.902394</td>\n      <td>0.315518</td>\n    </tr>\n    <tr>\n      <th>18</th>\n      <td>RandomForest</td>\n      <td>SMOTEEN base</td>\n      <td>1.000000</td>\n      <td>1.000000</td>\n      <td>1.000000</td>\n      <td>1.000000</td>\n      <td>0.748282</td>\n      <td>0.180917</td>\n      <td>0.806630</td>\n      <td>0.295547</td>\n    </tr>\n    <tr>\n      <th>19</th>\n      <td>RandomForest</td>\n      <td>SMOTEEN clean</td>\n      <td>1.000000</td>\n      <td>1.000000</td>\n      <td>1.000000</td>\n      <td>1.000000</td>\n      <td>0.746594</td>\n      <td>0.178822</td>\n      <td>0.799263</td>\n      <td>0.292256</td>\n    </tr>\n    <tr>\n      <th>49</th>\n      <td>GaussianNB</td>\n      <td>NearMiss clean</td>\n      <td>0.952615</td>\n      <td>0.995012</td>\n      <td>0.944006</td>\n      <td>0.968839</td>\n      <td>0.563593</td>\n      <td>0.117764</td>\n      <td>0.872928</td>\n      <td>0.207531</td>\n    </tr>\n    <tr>\n      <th>29</th>\n      <td>LinearSVC</td>\n      <td>NearMiss clean</td>\n      <td>0.952615</td>\n      <td>0.995012</td>\n      <td>0.944006</td>\n      <td>0.968839</td>\n      <td>0.563593</td>\n      <td>0.117764</td>\n      <td>0.872928</td>\n      <td>0.207531</td>\n    </tr>\n    <tr>\n      <th>9</th>\n      <td>RandomForest</td>\n      <td>NearMiss clean</td>\n      <td>0.998154</td>\n      <td>1.000000</td>\n      <td>0.997634</td>\n      <td>0.998816</td>\n      <td>0.478722</td>\n      <td>0.099385</td>\n      <td>0.863720</td>\n      <td>0.178259</td>\n    </tr>\n    <tr>\n      <th>48</th>\n      <td>GaussianNB</td>\n      <td>NearMiss base</td>\n      <td>0.967378</td>\n      <td>0.997799</td>\n      <td>0.965224</td>\n      <td>0.981241</td>\n      <td>0.386274</td>\n      <td>0.093250</td>\n      <td>0.917219</td>\n      <td>0.169290</td>\n    </tr>\n    <tr>\n      <th>28</th>\n      <td>LinearSVC</td>\n      <td>NearMiss base</td>\n      <td>0.967378</td>\n      <td>0.997799</td>\n      <td>0.965224</td>\n      <td>0.981241</td>\n      <td>0.386274</td>\n      <td>0.093250</td>\n      <td>0.917219</td>\n      <td>0.169290</td>\n    </tr>\n    <tr>\n      <th>8</th>\n      <td>RandomForest</td>\n      <td>NearMiss base</td>\n      <td>0.998118</td>\n      <td>0.999290</td>\n      <td>0.998581</td>\n      <td>0.998935</td>\n      <td>0.230839</td>\n      <td>0.079268</td>\n      <td>0.968543</td>\n      <td>0.146543</td>\n    </tr>\n  </tbody>\n</table>\n</div>"
     },
     "execution_count": 68,
     "metadata": {},
     "output_type": "execute_result"
    }
   ],
   "source": [
    "evaluation.sort_values(by=[\"test_f1\"], ascending=False)"
   ],
   "metadata": {
    "collapsed": false,
    "ExecuteTime": {
     "end_time": "2024-11-14T19:53:39.758094300Z",
     "start_time": "2024-11-14T19:53:39.666411Z"
    }
   }
  },
  {
   "cell_type": "markdown",
   "source": [
    "#### Visualisierung"
   ],
   "metadata": {
    "collapsed": false
   }
  },
  {
   "cell_type": "code",
   "execution_count": 86,
   "outputs": [],
   "source": [
    "import seaborn as sns\n",
    "import matplotlib.pyplot as plt"
   ],
   "metadata": {
    "collapsed": false,
    "ExecuteTime": {
     "end_time": "2024-11-14T20:00:36.874463600Z",
     "start_time": "2024-11-14T20:00:36.834463100Z"
    }
   }
  },
  {
   "cell_type": "code",
   "execution_count": 88,
   "outputs": [
    {
     "data": {
      "text/plain": "<Figure size 1000x700 with 1 Axes>",
      "image/png": "[encoded data removed]"
     },
     "metadata": {},
     "output_type": "display_data"
    }
   ],
   "source": [
    "fig, ax = plt.subplots(figsize=(10, 7))\n",
    "\n",
    "sns.scatterplot(data=evaluation, y=evaluation['train_f1'], x=evaluation.model, ax=ax)\n",
    "sns.scatterplot(data=evaluation, y=evaluation['test_f1'], x=evaluation.model, ax=ax)\n",
    "\n",
    "plt.show()"
   ],
   "metadata": {
    "collapsed": false,
    "ExecuteTime": {
     "end_time": "2024-11-14T20:00:51.730458700Z",
     "start_time": "2024-11-14T20:00:51.509779500Z"
    }
   }
  },
  {
   "cell_type": "code",
   "execution_count": 91,
   "outputs": [
    {
     "data": {
      "text/plain": "<Figure size 2000x700 with 1 Axes>",
      "image/png": "[encoded data removed]"
     },
     "metadata": {},
     "output_type": "display_data"
    }
   ],
   "source": [
    "fig, ax = plt.subplots(figsize=(20, 7))\n",
    "\n",
    "sns.scatterplot(data=evaluation, y=evaluation['train_f1'].head(10), x=evaluation.variant, ax=ax)\n",
    "sns.scatterplot(data=evaluation, y=evaluation['test_f1'].head(10), x=evaluation.variant, ax=ax)\n",
    "\n",
    "plt.show()"
   ],
   "metadata": {
    "collapsed": false,
    "ExecuteTime": {
     "end_time": "2024-11-14T20:03:50.090526200Z",
     "start_time": "2024-11-14T20:03:49.447526300Z"
    }
   }
  },
  {
   "cell_type": "code",
   "execution_count": 73,
   "outputs": [
    {
     "data": {
      "text/plain": "<Axes: xlabel='model', ylabel='test_f1'>"
     },
     "execution_count": 73,
     "metadata": {},
     "output_type": "execute_result"
    },
    {
     "data": {
      "text/plain": "<Figure size 640x480 with 1 Axes>",
      "image/png": "[encoded data removed]"
     },
     "metadata": {},
     "output_type": "display_data"
    }
   ],
   "source": [
    "sns.barplot(data=evaluation, y=evaluation.test_f1, x=evaluation.model)"
   ],
   "metadata": {
    "collapsed": false,
    "ExecuteTime": {
     "end_time": "2024-11-14T19:55:06.618503200Z",
     "start_time": "2024-11-14T19:55:06.346100700Z"
    }
   }
  },
  {
   "cell_type": "code",
   "execution_count": null,
   "outputs": [],
   "source": [],
   "metadata": {
    "collapsed": false
   }
  }
 ],
 "metadata": {
  "kernelspec": {
   "display_name": "Python 3",
   "language": "python",
   "name": "python3"
  },
  "language_info": {
   "codemirror_mode": {
    "name": "ipython",
    "version": 2
   },
   "file_extension": ".py",
   "mimetype": "text/x-python",
   "name": "python",
   "nbconvert_exporter": "python",
   "pygments_lexer": "ipython2",
   "version": "2.7.6"
  }
 },
 "nbformat": 4,
 "nbformat_minor": 0
}
