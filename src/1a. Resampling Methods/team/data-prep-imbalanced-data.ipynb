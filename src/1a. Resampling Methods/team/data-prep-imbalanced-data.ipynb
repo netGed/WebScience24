{
 "cells": [
  {
   "cell_type": "markdown",
   "source": [
    "#### Imports & Downloads"
   ],
   "metadata": {
    "collapsed": false
   }
  },
  {
   "cell_type": "code",
   "execution_count": 1,
   "outputs": [],
   "source": [
    "import pandas as pd\n",
    "import os\n",
    "from sklearn.feature_extraction.text import TfidfVectorizer\n",
    "import numpy as np\n",
    "from imblearn.under_sampling import NearMiss, CondensedNearestNeighbour, NeighbourhoodCleaningRule, RandomUnderSampler\n",
    "from imblearn.over_sampling import SMOTE, BorderlineSMOTE, SVMSMOTE, ADASYN\n",
    "from imblearn.under_sampling import TomekLinks\n",
    "import time\n",
    "from sklearn.model_selection import GridSearchCV\n",
    "from imblearn.combine import SMOTETomek, SMOTEENN\n",
    "\n",
    "from collections import Counter\n",
    "from sklearn.metrics import precision_score, recall_score, f1_score, confusion_matrix, classification_report\n",
    "from sklearn import metrics\n",
    "from sklearn.model_selection import train_test_split\n",
    "\n",
    "from sklearn.ensemble import RandomForestClassifier, StackingClassifier\n",
    "from sklearn.svm import LinearSVC\n",
    "from sklearn.naive_bayes import MultinomialNB"
   ],
   "metadata": {
    "collapsed": false,
    "ExecuteTime": {
     "end_time": "2024-11-17T15:31:53.070592300Z",
     "start_time": "2024-11-17T15:31:51.787192800Z"
    }
   }
  },
  {
   "cell_type": "markdown",
   "source": [
    "### Daten"
   ],
   "metadata": {
    "collapsed": false
   }
  },
  {
   "cell_type": "markdown",
   "source": [
    "#### Originaldaten ohne umfassende Vorverarbeitung"
   ],
   "metadata": {
    "collapsed": false
   }
  },
  {
   "cell_type": "code",
   "execution_count": 2,
   "outputs": [
    {
     "data": {
      "text/plain": "    label                                              tweet\nid                                                          \n1       0   @user when a father is dysfunctional and is s...\n2       0  @user @user thanks for #lyft credit i can't us...\n3       0                                bihday your majesty\n4       0  #model   i love u take with u all the time in ...\n5       0             factsguide: society now    #motivation",
      "text/html": "<div>\n<style scoped>\n    .dataframe tbody tr th:only-of-type {\n        vertical-align: middle;\n    }\n\n    .dataframe tbody tr th {\n        vertical-align: top;\n    }\n\n    .dataframe thead th {\n        text-align: right;\n    }\n</style>\n<table border=\"1\" class=\"dataframe\">\n  <thead>\n    <tr style=\"text-align: right;\">\n      <th></th>\n      <th>label</th>\n      <th>tweet</th>\n    </tr>\n    <tr>\n      <th>id</th>\n      <th></th>\n      <th></th>\n    </tr>\n  </thead>\n  <tbody>\n    <tr>\n      <th>1</th>\n      <td>0</td>\n      <td>@user when a father is dysfunctional and is s...</td>\n    </tr>\n    <tr>\n      <th>2</th>\n      <td>0</td>\n      <td>@user @user thanks for #lyft credit i can't us...</td>\n    </tr>\n    <tr>\n      <th>3</th>\n      <td>0</td>\n      <td>bihday your majesty</td>\n    </tr>\n    <tr>\n      <th>4</th>\n      <td>0</td>\n      <td>#model   i love u take with u all the time in ...</td>\n    </tr>\n    <tr>\n      <th>5</th>\n      <td>0</td>\n      <td>factsguide: society now    #motivation</td>\n    </tr>\n  </tbody>\n</table>\n</div>"
     },
     "execution_count": 2,
     "metadata": {},
     "output_type": "execute_result"
    }
   ],
   "source": [
    "current_dir = os.getcwd()\n",
    "csv_path_train = os.path.abspath(os.path.join(current_dir, '../../../data/twitter_hate-speech/train_basic_cleaned.csv'))\n",
    "df = pd.read_csv(csv_path_train, encoding='utf-8', index_col=0)\n",
    "\n",
    "df.head()"
   ],
   "metadata": {
    "collapsed": false,
    "ExecuteTime": {
     "end_time": "2024-11-17T15:31:53.159596Z",
     "start_time": "2024-11-17T15:31:53.070592300Z"
    }
   }
  },
  {
   "cell_type": "code",
   "execution_count": 3,
   "outputs": [
    {
     "name": "stdout",
     "output_type": "stream",
     "text": [
      "Positive: 2013\n",
      "Negative: 27517\n",
      "Verhältnis: 13.669647292598112\n"
     ]
    }
   ],
   "source": [
    "df['label'].value_counts()\n",
    "positive = len(df[df['label'] == 1])\n",
    "negative = len(df[df['label'] == 0])\n",
    "print(\"Positive:\", positive)\n",
    "print(\"Negative:\", negative)\n",
    "print(\"Verhältnis:\", negative / positive)"
   ],
   "metadata": {
    "collapsed": false,
    "ExecuteTime": {
     "end_time": "2024-11-17T15:31:53.271590400Z",
     "start_time": "2024-11-17T15:31:53.165591100Z"
    }
   }
  },
  {
   "cell_type": "markdown",
   "source": [
    "#### Vorverarbeitete Daten"
   ],
   "metadata": {
    "collapsed": false
   }
  },
  {
   "cell_type": "code",
   "execution_count": 4,
   "outputs": [
    {
     "data": {
      "text/plain": "    label                                              tweet  \\\nid                                                             \n1       0   @user when a father is dysfunctional and is s...   \n2       0  @user @user thanks for #lyft credit i can't us...   \n3       0                                bihday your majesty   \n4       0  #model   i love u take with u all the time in ...   \n5       0             factsguide: society now    #motivation   \n\n                                        tweet_cleaned  user_handle  \\\nid                                                                   \n1                         father selfish drag kid run            1   \n2               thank lyft credit use cause offer van            2   \n3                                      bihday majesty            0   \n4   model take time mobile phone kiss sunglass mou...            0   \n5                       factsguide society motivation            0   \n\n                                    hashtags  \\\nid                                             \n1                                   ['#run']   \n2   ['#lyft', '#disapointed', '#getthanked']   \n3                                         []   \n4                                 ['#model']   \n5                            ['#motivation']   \n\n                                               emojis  \nid                                                     \n1                                                 NaN  \n2                                                 NaN  \n3                                                 NaN  \n4   :mobile_phone:,:kissing_face_with_smiling_eyes...  \n5                                                 NaN  ",
      "text/html": "<div>\n<style scoped>\n    .dataframe tbody tr th:only-of-type {\n        vertical-align: middle;\n    }\n\n    .dataframe tbody tr th {\n        vertical-align: top;\n    }\n\n    .dataframe thead th {\n        text-align: right;\n    }\n</style>\n<table border=\"1\" class=\"dataframe\">\n  <thead>\n    <tr style=\"text-align: right;\">\n      <th></th>\n      <th>label</th>\n      <th>tweet</th>\n      <th>tweet_cleaned</th>\n      <th>user_handle</th>\n      <th>hashtags</th>\n      <th>emojis</th>\n    </tr>\n    <tr>\n      <th>id</th>\n      <th></th>\n      <th></th>\n      <th></th>\n      <th></th>\n      <th></th>\n      <th></th>\n    </tr>\n  </thead>\n  <tbody>\n    <tr>\n      <th>1</th>\n      <td>0</td>\n      <td>@user when a father is dysfunctional and is s...</td>\n      <td>father selfish drag kid run</td>\n      <td>1</td>\n      <td>['#run']</td>\n      <td>NaN</td>\n    </tr>\n    <tr>\n      <th>2</th>\n      <td>0</td>\n      <td>@user @user thanks for #lyft credit i can't us...</td>\n      <td>thank lyft credit use cause offer van</td>\n      <td>2</td>\n      <td>['#lyft', '#disapointed', '#getthanked']</td>\n      <td>NaN</td>\n    </tr>\n    <tr>\n      <th>3</th>\n      <td>0</td>\n      <td>bihday your majesty</td>\n      <td>bihday majesty</td>\n      <td>0</td>\n      <td>[]</td>\n      <td>NaN</td>\n    </tr>\n    <tr>\n      <th>4</th>\n      <td>0</td>\n      <td>#model   i love u take with u all the time in ...</td>\n      <td>model take time mobile phone kiss sunglass mou...</td>\n      <td>0</td>\n      <td>['#model']</td>\n      <td>:mobile_phone:,:kissing_face_with_smiling_eyes...</td>\n    </tr>\n    <tr>\n      <th>5</th>\n      <td>0</td>\n      <td>factsguide: society now    #motivation</td>\n      <td>factsguide society motivation</td>\n      <td>0</td>\n      <td>['#motivation']</td>\n      <td>NaN</td>\n    </tr>\n  </tbody>\n</table>\n</div>"
     },
     "execution_count": 4,
     "metadata": {},
     "output_type": "execute_result"
    }
   ],
   "source": [
    "current_dir = os.getcwd()\n",
    "csv_path_train = os.path.abspath(os.path.join(current_dir, '../../../data/twitter_hate-speech/train_cleaned.csv'))\n",
    "df_cleaned = pd.read_csv(csv_path_train, encoding='utf-8', index_col=0)\n",
    "\n",
    "df_cleaned.head()"
   ],
   "metadata": {
    "collapsed": false,
    "ExecuteTime": {
     "end_time": "2024-11-17T15:31:53.527591600Z",
     "start_time": "2024-11-17T15:31:53.178595300Z"
    }
   }
  },
  {
   "cell_type": "code",
   "execution_count": 5,
   "outputs": [],
   "source": [
    "df_cleaned.dropna(subset=['tweet_cleaned'],\n",
    "                  inplace=True)  #irgendwoher kommt eine na row in tweet_cleaned, dadurch funktioniert der Vectorizer nicht"
   ],
   "metadata": {
    "collapsed": false,
    "ExecuteTime": {
     "end_time": "2024-11-17T15:31:53.527591600Z",
     "start_time": "2024-11-17T15:31:53.339594400Z"
    }
   }
  },
  {
   "cell_type": "code",
   "execution_count": 6,
   "outputs": [
    {
     "name": "stdout",
     "output_type": "stream",
     "text": [
      "Positive: 1811\n",
      "Negative: 25838\n",
      "Verhältnis: 14.267255659856433\n"
     ]
    }
   ],
   "source": [
    "df_cleaned['label'].value_counts()\n",
    "positive = len(df_cleaned[df_cleaned['label'] == 1])\n",
    "negative = len(df_cleaned[df_cleaned['label'] == 0])\n",
    "print(\"Positive:\", positive)\n",
    "print(\"Negative:\", negative)\n",
    "print(\"Verhältnis:\", negative / positive)"
   ],
   "metadata": {
    "collapsed": false,
    "ExecuteTime": {
     "end_time": "2024-11-17T15:31:53.528589300Z",
     "start_time": "2024-11-17T15:31:53.375598200Z"
    }
   }
  },
  {
   "cell_type": "markdown",
   "source": [
    "Verhältnis hat sich durch die Bereinigung sogar noch weiter verschlechter"
   ],
   "metadata": {
    "collapsed": false
   }
  },
  {
   "cell_type": "markdown",
   "source": [
    "### Train/Test Split"
   ],
   "metadata": {
    "collapsed": false
   }
  },
  {
   "cell_type": "code",
   "execution_count": 7,
   "outputs": [],
   "source": [
    "def print_pos_neg(y_train, y_test):\n",
    "    positive = np.count_nonzero(y_train == 1)\n",
    "    negative = np.count_nonzero(y_train == 0)\n",
    "    print(\"Train\")\n",
    "    print(\"- Positive:\", positive)\n",
    "    print(\"- Negative:\", negative)\n",
    "    print(\"- Verhältnis:\", negative / positive)\n",
    "\n",
    "    positive = np.count_nonzero(y_test == 1)\n",
    "    negative = np.count_nonzero(y_test == 0)\n",
    "    print(\"Test\")\n",
    "    print(\"- Positive:\", positive)\n",
    "    print(\"- Negative:\", negative)\n",
    "    print(\"- Verhältnis:\", negative / positive)"
   ],
   "metadata": {
    "collapsed": false,
    "ExecuteTime": {
     "end_time": "2024-11-17T15:31:53.528589300Z",
     "start_time": "2024-11-17T15:31:53.418592500Z"
    }
   }
  },
  {
   "cell_type": "code",
   "execution_count": 8,
   "outputs": [],
   "source": [
    "X_base = df[\"tweet\"]\n",
    "y_base = df[\"label\"]"
   ],
   "metadata": {
    "collapsed": false,
    "ExecuteTime": {
     "end_time": "2024-11-17T15:31:53.529589800Z",
     "start_time": "2024-11-17T15:31:53.419594100Z"
    }
   }
  },
  {
   "cell_type": "code",
   "execution_count": 9,
   "outputs": [
    {
     "name": "stdout",
     "output_type": "stream",
     "text": [
      "Train\n",
      "- Positive: 1409\n",
      "- Negative: 19262\n",
      "- Verhältnis: 13.67068843151171\n",
      "Test\n",
      "- Positive: 604\n",
      "- Negative: 8255\n",
      "- Verhältnis: 13.667218543046358\n"
     ]
    }
   ],
   "source": [
    "X_train_base, X_test_base, y_train_base, y_test_base = train_test_split(X_base, y_base, test_size=0.3, stratify=y_base,\n",
    "                                                                        random_state=42)\n",
    "print_pos_neg(y_train_base, y_test_base)"
   ],
   "metadata": {
    "collapsed": false,
    "ExecuteTime": {
     "end_time": "2024-11-17T15:31:53.529589800Z",
     "start_time": "2024-11-17T15:31:53.431595600Z"
    }
   }
  },
  {
   "cell_type": "code",
   "execution_count": 10,
   "outputs": [],
   "source": [
    "X_clean = df_cleaned[\"tweet_cleaned\"]\n",
    "y_clean = df_cleaned[\"label\"]"
   ],
   "metadata": {
    "collapsed": false,
    "ExecuteTime": {
     "end_time": "2024-11-17T15:31:53.529589800Z",
     "start_time": "2024-11-17T15:31:53.472596800Z"
    }
   }
  },
  {
   "cell_type": "code",
   "execution_count": 11,
   "outputs": [
    {
     "name": "stdout",
     "output_type": "stream",
     "text": [
      "Train\n",
      "- Positive: 1268\n",
      "- Negative: 18086\n",
      "- Verhältnis: 14.263406940063092\n",
      "Test\n",
      "- Positive: 543\n",
      "- Negative: 7752\n",
      "- Verhältnis: 14.276243093922652\n"
     ]
    }
   ],
   "source": [
    "X_train_clean, X_test_clean, y_train_clean, y_test_clean = train_test_split(X_clean, y_clean, test_size=0.3,\n",
    "                                                                            stratify=y_clean, random_state=42)\n",
    "print_pos_neg(y_train_clean, y_test_clean)"
   ],
   "metadata": {
    "collapsed": false,
    "ExecuteTime": {
     "end_time": "2024-11-17T15:31:53.529589800Z",
     "start_time": "2024-11-17T15:31:53.499598100Z"
    }
   }
  },
  {
   "cell_type": "markdown",
   "source": [
    "### Vektorisierung"
   ],
   "metadata": {
    "collapsed": false
   }
  },
  {
   "cell_type": "code",
   "execution_count": 12,
   "outputs": [],
   "source": [
    "vectorizer = TfidfVectorizer(max_features=5000)\n",
    "\n",
    "X_train_base = vectorizer.fit_transform(X_train_base)\n",
    "X_test_base = vectorizer.transform(X_test_base)"
   ],
   "metadata": {
    "collapsed": false,
    "ExecuteTime": {
     "end_time": "2024-11-17T15:31:54.206595600Z",
     "start_time": "2024-11-17T15:31:53.532594600Z"
    }
   }
  },
  {
   "cell_type": "code",
   "execution_count": 13,
   "outputs": [
    {
     "name": "stdout",
     "output_type": "stream",
     "text": [
      "X_train_base shape (20671, 5000)\n",
      "y_train_base shape (20671,)\n",
      "X_test_base shape (8859, 5000)\n",
      "y_test_base shape (8859,)\n"
     ]
    }
   ],
   "source": [
    "print(\"X_train_base shape\", X_train_base.shape)\n",
    "print(\"y_train_base shape\", y_train_base.shape)\n",
    "\n",
    "print(\"X_test_base shape\", X_test_base.shape)\n",
    "print(\"y_test_base shape\", y_test_base.shape)"
   ],
   "metadata": {
    "collapsed": false,
    "ExecuteTime": {
     "end_time": "2024-11-17T15:31:54.223592200Z",
     "start_time": "2024-11-17T15:31:54.207594Z"
    }
   }
  },
  {
   "cell_type": "code",
   "execution_count": 14,
   "outputs": [],
   "source": [
    "vectorizer_clean = TfidfVectorizer(max_features=5000)\n",
    "\n",
    "X_train_clean = vectorizer_clean.fit_transform(X_train_clean)\n",
    "X_test_clean = vectorizer_clean.transform(X_test_clean)"
   ],
   "metadata": {
    "collapsed": false,
    "ExecuteTime": {
     "end_time": "2024-11-17T15:31:54.540597900Z",
     "start_time": "2024-11-17T15:31:54.222593500Z"
    }
   }
  },
  {
   "cell_type": "code",
   "execution_count": 15,
   "outputs": [
    {
     "name": "stdout",
     "output_type": "stream",
     "text": [
      "X_train_clean shape (19354, 5000)\n",
      "y_train_clean shape (19354,)\n",
      "X_test_clean shape (8295, 5000)\n",
      "y_test_clean shape (8295,)\n"
     ]
    }
   ],
   "source": [
    "print(\"X_train_clean shape\", X_train_clean.shape)\n",
    "print(\"y_train_clean shape\", y_train_clean.shape)\n",
    "\n",
    "print(\"X_test_clean shape\", X_test_clean.shape)\n",
    "print(\"y_test_clean shape\", y_test_clean.shape)"
   ],
   "metadata": {
    "collapsed": false,
    "ExecuteTime": {
     "end_time": "2024-11-17T15:31:54.555589900Z",
     "start_time": "2024-11-17T15:31:54.541591800Z"
    }
   }
  },
  {
   "cell_type": "markdown",
   "source": [
    "### 1. Resampling Methods"
   ],
   "metadata": {
    "collapsed": false
   }
  },
  {
   "cell_type": "code",
   "execution_count": 16,
   "outputs": [],
   "source": [
    "def print_data(y_before, y_after, sampling_technique):\n",
    "    counter_before = Counter(y_before)\n",
    "    counter_after = Counter(y_after)\n",
    "    print(\"Before sampling with:\", sampling_technique, counter_before)\n",
    "    print(\"After sampling with:\", sampling_technique, counter_after)"
   ],
   "metadata": {
    "collapsed": false,
    "ExecuteTime": {
     "end_time": "2024-11-17T15:31:54.598588800Z",
     "start_time": "2024-11-17T15:31:54.555589900Z"
    }
   }
  },
  {
   "cell_type": "markdown",
   "source": [
    "#### 1.1 Oversampling"
   ],
   "metadata": {
    "collapsed": false
   }
  },
  {
   "cell_type": "markdown",
   "source": [
    "##### 1.1.1 SMOTE"
   ],
   "metadata": {
    "collapsed": false
   }
  },
  {
   "cell_type": "code",
   "execution_count": 17,
   "outputs": [],
   "source": [
    "os_smote = SMOTE()"
   ],
   "metadata": {
    "collapsed": false,
    "ExecuteTime": {
     "end_time": "2024-11-17T15:31:54.637593500Z",
     "start_time": "2024-11-17T15:31:54.571593500Z"
    }
   }
  },
  {
   "cell_type": "code",
   "execution_count": 18,
   "outputs": [
    {
     "name": "stdout",
     "output_type": "stream",
     "text": [
      "Before sampling with: SMOTE Counter({0: 19262, 1: 1409})\n",
      "After sampling with: SMOTE Counter({1: 19262, 0: 19262})\n"
     ]
    }
   ],
   "source": [
    "X_train_base_s, y_train_base_s = os_smote.fit_resample(X_train_base, y_train_base)\n",
    "print_data(y_train_base, y_train_base_s, \"SMOTE\")"
   ],
   "metadata": {
    "collapsed": false,
    "ExecuteTime": {
     "end_time": "2024-11-17T15:31:54.903588700Z",
     "start_time": "2024-11-17T15:31:54.587594200Z"
    }
   }
  },
  {
   "cell_type": "code",
   "execution_count": 19,
   "outputs": [
    {
     "name": "stdout",
     "output_type": "stream",
     "text": [
      "Before sampling with: SMOTE Counter({0: 18086, 1: 1268})\n",
      "After sampling with: SMOTE Counter({0: 18086, 1: 18086})\n"
     ]
    }
   ],
   "source": [
    "X_train_clean_s, y_train_clean_s = os_smote.fit_resample(X_train_clean, y_train_clean)\n",
    "print_data(y_train_clean, y_train_clean_s, \"SMOTE\")"
   ],
   "metadata": {
    "collapsed": false,
    "ExecuteTime": {
     "end_time": "2024-11-17T15:31:55.021589100Z",
     "start_time": "2024-11-17T15:31:54.905588600Z"
    }
   }
  },
  {
   "cell_type": "markdown",
   "source": [
    "##### 1.1.2 Borderline-SMOTE"
   ],
   "metadata": {
    "collapsed": false
   }
  },
  {
   "cell_type": "code",
   "execution_count": 20,
   "outputs": [],
   "source": [
    "os_bsmote = BorderlineSMOTE()"
   ],
   "metadata": {
    "collapsed": false,
    "ExecuteTime": {
     "end_time": "2024-11-17T15:31:55.033589300Z",
     "start_time": "2024-11-17T15:31:55.016590300Z"
    }
   }
  },
  {
   "cell_type": "code",
   "execution_count": 21,
   "outputs": [
    {
     "name": "stdout",
     "output_type": "stream",
     "text": [
      "Before sampling with: BorderlineSMOTE Counter({0: 19262, 1: 1409})\n",
      "After sampling with: BorderlineSMOTE Counter({1: 19262, 0: 19262})\n"
     ]
    }
   ],
   "source": [
    "X_train_base_bs, y_train_base_bs = os_bsmote.fit_resample(X_train_base, y_train_base)\n",
    "print_data(y_train_base, y_train_base_bs, \"BorderlineSMOTE\")"
   ],
   "metadata": {
    "collapsed": false,
    "ExecuteTime": {
     "end_time": "2024-11-17T15:31:56.139595400Z",
     "start_time": "2024-11-17T15:31:55.033589300Z"
    }
   }
  },
  {
   "cell_type": "code",
   "execution_count": 22,
   "outputs": [
    {
     "name": "stdout",
     "output_type": "stream",
     "text": [
      "Before sampling with: BorderlineSMOTE Counter({0: 18086, 1: 1268})\n",
      "After sampling with: BorderlineSMOTE Counter({0: 18086, 1: 18086})\n"
     ]
    }
   ],
   "source": [
    "X_train_clean_bs, y_train_clean_bs = os_bsmote.fit_resample(X_train_clean, y_train_clean)\n",
    "print_data(y_train_clean, y_train_clean_bs, \"BorderlineSMOTE\")"
   ],
   "metadata": {
    "collapsed": false,
    "ExecuteTime": {
     "end_time": "2024-11-17T15:31:56.685590400Z",
     "start_time": "2024-11-17T15:31:56.142591800Z"
    }
   }
  },
  {
   "cell_type": "markdown",
   "source": [
    "##### 1.1.3 ADASYN"
   ],
   "metadata": {
    "collapsed": false
   }
  },
  {
   "cell_type": "code",
   "execution_count": 23,
   "outputs": [],
   "source": [
    "os_ada = ADASYN()"
   ],
   "metadata": {
    "collapsed": false,
    "ExecuteTime": {
     "end_time": "2024-11-17T15:31:56.694591Z",
     "start_time": "2024-11-17T15:31:56.682593700Z"
    }
   }
  },
  {
   "cell_type": "code",
   "execution_count": 24,
   "outputs": [
    {
     "name": "stdout",
     "output_type": "stream",
     "text": [
      "Before sampling with: ADASYN Counter({0: 19262, 1: 1409})\n",
      "After sampling with: ADASYN Counter({0: 19262, 1: 18876})\n"
     ]
    }
   ],
   "source": [
    "X_train_base_a, y_train_base_a = os_ada.fit_resample(X_train_base, y_train_base)\n",
    "print_data(y_train_base, y_train_base_a, \"ADASYN\")"
   ],
   "metadata": {
    "collapsed": false,
    "ExecuteTime": {
     "end_time": "2024-11-17T15:31:57.757593100Z",
     "start_time": "2024-11-17T15:31:56.695591200Z"
    }
   }
  },
  {
   "cell_type": "code",
   "execution_count": 25,
   "outputs": [
    {
     "name": "stdout",
     "output_type": "stream",
     "text": [
      "Before sampling with: ADASYN Counter({0: 18086, 1: 1268})\n",
      "After sampling with: ADASYN Counter({1: 18656, 0: 18086})\n"
     ]
    }
   ],
   "source": [
    "X_train_clean_a, y_train_clean_a = os_ada.fit_resample(X_train_clean, y_train_clean)\n",
    "print_data(y_train_clean, y_train_clean_a, \"ADASYN\")"
   ],
   "metadata": {
    "collapsed": false,
    "ExecuteTime": {
     "end_time": "2024-11-17T15:31:58.333588700Z",
     "start_time": "2024-11-17T15:31:57.761591300Z"
    }
   }
  },
  {
   "cell_type": "markdown",
   "source": [
    "#### 1.2 Undersampling"
   ],
   "metadata": {
    "collapsed": false
   }
  },
  {
   "cell_type": "markdown",
   "source": [
    "##### 1.2.1 NearMiss"
   ],
   "metadata": {
    "collapsed": false
   }
  },
  {
   "cell_type": "code",
   "execution_count": 26,
   "outputs": [],
   "source": [
    "us_near_miss = NearMiss(version=3, n_neighbors_ver3=3)"
   ],
   "metadata": {
    "collapsed": false,
    "ExecuteTime": {
     "end_time": "2024-11-17T15:31:58.410588500Z",
     "start_time": "2024-11-17T15:31:58.336591300Z"
    }
   }
  },
  {
   "cell_type": "code",
   "execution_count": 27,
   "outputs": [
    {
     "name": "stdout",
     "output_type": "stream",
     "text": [
      "Before sampling with: NearMiss Counter({0: 19262, 1: 1409})\n",
      "After sampling with: NearMiss Counter({1: 1409, 0: 185})\n"
     ]
    },
    {
     "name": "stderr",
     "output_type": "stream",
     "text": [
      "C:\\Users\\admin\\anaconda3\\lib\\site-packages\\imblearn\\under_sampling\\_prototype_selection\\_nearmiss.py:203: UserWarning: The number of the samples to be selected is larger than the number of samples available. The balancing ratio cannot be ensure and all samples will be returned.\n",
      "  warnings.warn(\n"
     ]
    }
   ],
   "source": [
    "X_train_base_nm, y_train_base_nm = us_near_miss.fit_resample(X_train_base, y_train_base)\n",
    "print_data(y_train_base, y_train_base_nm, \"NearMiss\")"
   ],
   "metadata": {
    "collapsed": false,
    "ExecuteTime": {
     "end_time": "2024-11-17T15:31:59.220589100Z",
     "start_time": "2024-11-17T15:31:58.353592600Z"
    }
   }
  },
  {
   "cell_type": "code",
   "execution_count": 28,
   "outputs": [
    {
     "name": "stdout",
     "output_type": "stream",
     "text": [
      "Before sampling with: NearMiss Counter({0: 18086, 1: 1268})\n",
      "After sampling with: NearMiss Counter({1: 1268, 0: 357})\n"
     ]
    },
    {
     "name": "stderr",
     "output_type": "stream",
     "text": [
      "C:\\Users\\admin\\anaconda3\\lib\\site-packages\\imblearn\\under_sampling\\_prototype_selection\\_nearmiss.py:203: UserWarning: The number of the samples to be selected is larger than the number of samples available. The balancing ratio cannot be ensure and all samples will be returned.\n",
      "  warnings.warn(\n"
     ]
    }
   ],
   "source": [
    "X_train_clean_nm, y_train_clean_nm = us_near_miss.fit_resample(X_train_clean, y_train_clean)\n",
    "print_data(y_train_clean, y_train_clean_nm, \"NearMiss\")"
   ],
   "metadata": {
    "collapsed": false,
    "ExecuteTime": {
     "end_time": "2024-11-17T15:31:59.649589100Z",
     "start_time": "2024-11-17T15:31:59.223589400Z"
    }
   }
  },
  {
   "cell_type": "markdown",
   "source": [
    "##### 1.2.2 Condensed Nearest Neighbor"
   ],
   "metadata": {
    "collapsed": false
   }
  },
  {
   "cell_type": "code",
   "execution_count": 29,
   "outputs": [],
   "source": [
    "us_cnn = CondensedNearestNeighbour(n_neighbors=1, n_jobs=-1)  # sehr langsam"
   ],
   "metadata": {
    "collapsed": false,
    "ExecuteTime": {
     "end_time": "2024-11-17T15:31:59.649589100Z",
     "start_time": "2024-11-17T15:31:59.645588600Z"
    }
   }
  },
  {
   "cell_type": "code",
   "execution_count": 30,
   "outputs": [],
   "source": [
    "# X_train_base_cnn, y_train_base_cnn = us_cnn.fit_resample(X_train_base, y_train_base)\n",
    "# print_data(y_train_base, y_train_base_cnn, \"CondensedNearestNeighbour\")"
   ],
   "metadata": {
    "collapsed": false,
    "ExecuteTime": {
     "end_time": "2024-11-17T15:31:59.664588900Z",
     "start_time": "2024-11-17T15:31:59.652589200Z"
    }
   }
  },
  {
   "cell_type": "code",
   "execution_count": 31,
   "outputs": [],
   "source": [
    "# X_train_clean_cnn, y_train_clean_cnn = us_cnn.fit_resample(X_train_clean, y_train_clean)\n",
    "# print_data(y_train_clean, y_train_clean_cnn, \"CondensedNearestNeighbour\")"
   ],
   "metadata": {
    "collapsed": false,
    "ExecuteTime": {
     "end_time": "2024-11-17T15:31:59.772589500Z",
     "start_time": "2024-11-17T15:31:59.667589600Z"
    }
   }
  },
  {
   "cell_type": "markdown",
   "source": [
    "##### 1.2.3 Neighborhood Cleaning"
   ],
   "metadata": {
    "collapsed": false
   }
  },
  {
   "cell_type": "code",
   "execution_count": 32,
   "outputs": [],
   "source": [
    "us_cnn_cr = NeighbourhoodCleaningRule(n_neighbors=3, threshold_cleaning=0.5, n_jobs=-1)  # sehr langsam"
   ],
   "metadata": {
    "collapsed": false,
    "ExecuteTime": {
     "end_time": "2024-11-17T15:31:59.808588500Z",
     "start_time": "2024-11-17T15:31:59.684588800Z"
    }
   }
  },
  {
   "cell_type": "code",
   "execution_count": 33,
   "outputs": [],
   "source": [
    "# X_train_base_ncr, y_train_base_ncr = us_cnn.fit_resample(X_train_base, y_train_base)\n",
    "# print_data(y_train_base, y_train_base_ncr, \"NeighbourhoodCleaningRule\")"
   ],
   "metadata": {
    "collapsed": false,
    "ExecuteTime": {
     "end_time": "2024-11-17T15:31:59.809589600Z",
     "start_time": "2024-11-17T15:31:59.698589300Z"
    }
   }
  },
  {
   "cell_type": "code",
   "execution_count": 34,
   "outputs": [],
   "source": [
    "# X_train_clean_ncr, y_train_clean_ncr = us_cnn.fit_resample(X_train_clean, y_train_clean)\n",
    "# print_data(y_train_clean, y_train_clean_ncr, \"NeighbourhoodCleaningRule\")"
   ],
   "metadata": {
    "collapsed": false,
    "ExecuteTime": {
     "end_time": "2024-11-17T15:31:59.809589600Z",
     "start_time": "2024-11-17T15:31:59.716589500Z"
    }
   }
  },
  {
   "cell_type": "markdown",
   "source": [
    "##### 1.2.4 Tomek Links Undersampler"
   ],
   "metadata": {
    "collapsed": false
   }
  },
  {
   "cell_type": "code",
   "execution_count": 35,
   "outputs": [],
   "source": [
    "us_tomek = TomekLinks()"
   ],
   "metadata": {
    "collapsed": false,
    "ExecuteTime": {
     "end_time": "2024-11-17T15:31:59.809589600Z",
     "start_time": "2024-11-17T15:31:59.729590800Z"
    }
   }
  },
  {
   "cell_type": "code",
   "execution_count": 36,
   "outputs": [
    {
     "name": "stdout",
     "output_type": "stream",
     "text": [
      "Before sampling with: TomekLinks Counter({0: 19262, 1: 1409})\n",
      "After sampling with: TomekLinks Counter({0: 19223, 1: 1409})\n"
     ]
    }
   ],
   "source": [
    "X_train_base_t, y_train_base_t = us_tomek.fit_resample(X_train_base, y_train_base)\n",
    "print_data(y_train_base, y_train_base_t, \"TomekLinks\")"
   ],
   "metadata": {
    "collapsed": false,
    "ExecuteTime": {
     "end_time": "2024-11-17T15:32:07.940590800Z",
     "start_time": "2024-11-17T15:31:59.745592500Z"
    }
   }
  },
  {
   "cell_type": "code",
   "execution_count": 37,
   "outputs": [
    {
     "name": "stdout",
     "output_type": "stream",
     "text": [
      "Before sampling with: TomekLinks Counter({0: 18086, 1: 1268})\n",
      "After sampling with: TomekLinks Counter({0: 18022, 1: 1268})\n"
     ]
    }
   ],
   "source": [
    "X_train_clean_t, y_train_clean_t = us_tomek.fit_resample(X_train_clean, y_train_clean)\n",
    "print_data(y_train_clean, y_train_clean_t, \"TomekLinks\")"
   ],
   "metadata": {
    "collapsed": false,
    "ExecuteTime": {
     "end_time": "2024-11-17T15:32:11.128588800Z",
     "start_time": "2024-11-17T15:32:07.943589900Z"
    }
   }
  },
  {
   "cell_type": "markdown",
   "source": [
    "##### 1.2.5 RandomUnderSampler"
   ],
   "metadata": {
    "collapsed": false
   }
  },
  {
   "cell_type": "code",
   "execution_count": 38,
   "outputs": [],
   "source": [
    "rus = RandomUnderSampler(sampling_strategy='auto')"
   ],
   "metadata": {
    "collapsed": false,
    "ExecuteTime": {
     "end_time": "2024-11-17T15:32:11.189588300Z",
     "start_time": "2024-11-17T15:32:11.131590100Z"
    }
   }
  },
  {
   "cell_type": "code",
   "execution_count": 39,
   "outputs": [
    {
     "name": "stdout",
     "output_type": "stream",
     "text": [
      "Before sampling with: RandomUnderSampler Counter({0: 19262, 1: 1409})\n",
      "After sampling with: RandomUnderSampler Counter({0: 1409, 1: 1409})\n"
     ]
    }
   ],
   "source": [
    "X_train_base_r, y_train_base_r = rus.fit_resample(X_train_base, y_train_base)\n",
    "print_data(y_train_base, y_train_base_r, \"RandomUnderSampler\")"
   ],
   "metadata": {
    "collapsed": false,
    "ExecuteTime": {
     "end_time": "2024-11-17T15:32:11.227588400Z",
     "start_time": "2024-11-17T15:32:11.157589Z"
    }
   }
  },
  {
   "cell_type": "code",
   "execution_count": 40,
   "outputs": [
    {
     "name": "stdout",
     "output_type": "stream",
     "text": [
      "Before sampling with: RandomUnderSampler Counter({0: 18086, 1: 1268})\n",
      "After sampling with: RandomUnderSampler Counter({0: 18022, 1: 1268})\n"
     ]
    }
   ],
   "source": [
    "X_train_clean_r, y_train_clean_r = us_tomek.fit_resample(X_train_clean, y_train_clean)\n",
    "print_data(y_train_clean, y_train_clean_r, \"RandomUnderSampler\")"
   ],
   "metadata": {
    "collapsed": false,
    "ExecuteTime": {
     "end_time": "2024-11-17T15:32:14.363588700Z",
     "start_time": "2024-11-17T15:32:11.189588300Z"
    }
   }
  },
  {
   "cell_type": "markdown",
   "source": [
    "#### 1.3 Hybrid Sampling"
   ],
   "metadata": {
    "collapsed": false
   }
  },
  {
   "cell_type": "markdown",
   "source": [
    "##### 1.3.1 Manual Hybrid-Sampling\n",
    "Oversmapling the minority class & undersampling the majority class"
   ],
   "metadata": {
    "collapsed": false
   }
  },
  {
   "cell_type": "code",
   "execution_count": 41,
   "outputs": [],
   "source": [
    "smote = SMOTE(sampling_strategy=0.5, random_state=42)\n",
    "undersample = RandomUnderSampler(sampling_strategy=0.8, random_state=42)"
   ],
   "metadata": {
    "collapsed": false,
    "ExecuteTime": {
     "end_time": "2024-11-17T15:32:14.407588400Z",
     "start_time": "2024-11-17T15:32:14.367589500Z"
    }
   }
  },
  {
   "cell_type": "code",
   "execution_count": 42,
   "outputs": [
    {
     "name": "stdout",
     "output_type": "stream",
     "text": [
      "Before sampling with: ManualHybrid Counter({0: 19262, 1: 1409})\n",
      "After sampling with: ManualHybrid Counter({0: 12038, 1: 9631})\n"
     ]
    }
   ],
   "source": [
    "# using numeric data (verctorizaiton result) instead of text data\n",
    "X_train_base_smotefirst, y_train_base_smotefirst = smote.fit_resample(X_train_base, y_train_base)\n",
    "X_train_base_mhs, y_train_base_mhs = undersample.fit_resample(X_train_base_smotefirst, y_train_base_smotefirst)\n",
    "print_data(y_train_base, y_train_base_mhs, \"ManualHybrid\")"
   ],
   "metadata": {
    "collapsed": false,
    "ExecuteTime": {
     "end_time": "2024-11-17T15:32:14.553591800Z",
     "start_time": "2024-11-17T15:32:14.383590100Z"
    }
   }
  },
  {
   "cell_type": "code",
   "execution_count": 43,
   "outputs": [
    {
     "name": "stdout",
     "output_type": "stream",
     "text": [
      "Before sampling with: ManualHybrid Counter({0: 18086, 1: 1268})\n",
      "After sampling with: ManualHybrid Counter({0: 11303, 1: 9043})\n"
     ]
    }
   ],
   "source": [
    "X_train_clean_smotefirst, y_train_clean_smotefirst = smote.fit_resample(X_train_clean, y_train_clean)\n",
    "X_train_clean_mhs, y_train_clean_mhs = undersample.fit_resample(X_train_clean_smotefirst, y_train_clean_smotefirst)\n",
    "print_data(y_train_clean, y_train_clean_mhs, \"ManualHybrid\")"
   ],
   "metadata": {
    "collapsed": false,
    "ExecuteTime": {
     "end_time": "2024-11-17T15:32:14.666590400Z",
     "start_time": "2024-11-17T15:32:14.556592200Z"
    }
   }
  },
  {
   "cell_type": "markdown",
   "source": [
    "##### 1.3.2 SMOTETomek Hybrid-Sampling"
   ],
   "metadata": {
    "collapsed": false
   }
  },
  {
   "cell_type": "code",
   "execution_count": 44,
   "outputs": [],
   "source": [
    "smote_tomek = SMOTETomek(random_state=42)"
   ],
   "metadata": {
    "collapsed": false,
    "ExecuteTime": {
     "end_time": "2024-11-17T15:32:14.707588600Z",
     "start_time": "2024-11-17T15:32:14.666590400Z"
    }
   }
  },
  {
   "cell_type": "code",
   "execution_count": 45,
   "outputs": [
    {
     "name": "stdout",
     "output_type": "stream",
     "text": [
      "Before sampling with: SMOTETomek Counter({0: 19262, 1: 1409})\n",
      "After sampling with: SMOTETomek Counter({1: 19262, 0: 19262})\n"
     ]
    }
   ],
   "source": [
    "X_train_base_st, y_train_base_st = smote_tomek.fit_resample(X_train_base, y_train_base)\n",
    "print_data(y_train_base, y_train_base_st, \"SMOTETomek\")"
   ],
   "metadata": {
    "collapsed": false,
    "ExecuteTime": {
     "end_time": "2024-11-17T15:33:02.668589100Z",
     "start_time": "2024-11-17T15:32:14.681594400Z"
    }
   }
  },
  {
   "cell_type": "code",
   "execution_count": 46,
   "outputs": [
    {
     "name": "stdout",
     "output_type": "stream",
     "text": [
      "Before sampling with: SMOTETomek Counter({0: 18086, 1: 1268})\n",
      "After sampling with: SMOTETomek Counter({0: 18086, 1: 18086})\n"
     ]
    }
   ],
   "source": [
    "X_train_clean_st, y_train_clean_st = smote_tomek.fit_resample(X_train_clean, y_train_clean)\n",
    "print_data(y_train_clean, y_train_clean_st, \"SMOTETomek\")"
   ],
   "metadata": {
    "collapsed": false,
    "ExecuteTime": {
     "end_time": "2024-11-17T15:33:18.976588600Z",
     "start_time": "2024-11-17T15:33:02.660589100Z"
    }
   }
  },
  {
   "cell_type": "markdown",
   "source": [
    "##### 1.3.3 SMOTEEN Hyprid-Sampling"
   ],
   "metadata": {
    "collapsed": false
   }
  },
  {
   "cell_type": "code",
   "execution_count": 47,
   "outputs": [],
   "source": [
    "smote_enn = SMOTEENN(random_state=42)"
   ],
   "metadata": {
    "collapsed": false,
    "ExecuteTime": {
     "end_time": "2024-11-17T15:33:19.035588300Z",
     "start_time": "2024-11-17T15:33:18.976588600Z"
    }
   }
  },
  {
   "cell_type": "code",
   "execution_count": 48,
   "outputs": [
    {
     "name": "stdout",
     "output_type": "stream",
     "text": [
      "Before sampling with: SMOTEENN Counter({0: 19262, 1: 1409})\n",
      "After sampling with: SMOTEENN Counter({1: 19262, 0: 19262})\n"
     ]
    }
   ],
   "source": [
    "X_train_base_smoteen, y_train_base_smoteen = smote_tomek.fit_resample(X_train_base, y_train_base)\n",
    "print_data(y_train_base, y_train_base_smoteen, \"SMOTEENN\")"
   ],
   "metadata": {
    "collapsed": false,
    "ExecuteTime": {
     "end_time": "2024-11-17T15:34:07.843588800Z",
     "start_time": "2024-11-17T15:33:18.992588600Z"
    }
   }
  },
  {
   "cell_type": "code",
   "execution_count": 49,
   "outputs": [
    {
     "name": "stdout",
     "output_type": "stream",
     "text": [
      "Before sampling with: SMOTEENN Counter({0: 18086, 1: 1268})\n",
      "After sampling with: SMOTEENN Counter({1: 17822, 0: 3842})\n"
     ]
    }
   ],
   "source": [
    "X_train_clean_smoteen, y_train_clean_smoteen = smote_enn.fit_resample(X_train_clean, y_train_clean)\n",
    "print_data(y_train_clean, y_train_clean_smoteen, \"SMOTEENN\")"
   ],
   "metadata": {
    "collapsed": false,
    "ExecuteTime": {
     "end_time": "2024-11-17T15:34:22.907589500Z",
     "start_time": "2024-11-17T15:34:07.847589300Z"
    }
   }
  },
  {
   "cell_type": "markdown",
   "source": [
    "### 2. Ergebnisvergleich"
   ],
   "metadata": {
    "collapsed": false
   }
  },
  {
   "cell_type": "code",
   "execution_count": 50,
   "outputs": [],
   "source": [
    "evaluation = pd.DataFrame(\n",
    "    columns=[\"model\", \"variant\", \"train_acc\", \"train_prec\", \"train_rec\", \"train_f1\", \"test_acc\", \"test_prec\",\n",
    "             \"test_rec\", \"test_f1\"])"
   ],
   "metadata": {
    "collapsed": false,
    "ExecuteTime": {
     "end_time": "2024-11-17T15:34:22.964588300Z",
     "start_time": "2024-11-17T15:34:22.906588600Z"
    }
   }
  },
  {
   "cell_type": "code",
   "execution_count": 51,
   "outputs": [],
   "source": [
    "def add_to_eval_df(model, model_name, variant, x_data_train, y_data_train, x_data_test, y_data_test):\n",
    "    train_acc = model.score(x_data_train, y_data_train)\n",
    "    train_precision = precision_score(y_data_train, model.predict(x_data_train))\n",
    "    train_recall = recall_score(y_data_train, model.predict(x_data_train))\n",
    "    train_f1 = f1_score(y_data_train, model.predict(x_data_train))\n",
    "\n",
    "    test_acc = model.score(x_data_test, y_data_test)\n",
    "    test_precision = precision_score(y_data_test, model.predict(x_data_test))\n",
    "    test_recall = recall_score(y_data_test, model.predict(x_data_test))\n",
    "    test_f1 = f1_score(y_data_test, model.predict(x_data_test))\n",
    "\n",
    "    evaluation.loc[len(evaluation.index)] = [model_name, variant, train_acc, train_precision, train_recall, train_f1,\n",
    "                                             test_acc, test_precision, test_recall, test_f1]"
   ],
   "metadata": {
    "collapsed": false,
    "ExecuteTime": {
     "end_time": "2024-11-17T15:34:23.001588800Z",
     "start_time": "2024-11-17T15:34:22.926589700Z"
    }
   }
  },
  {
   "cell_type": "code",
   "execution_count": 52,
   "outputs": [],
   "source": [
    "def evaluate_model(model, x_test, y_test, sampling_method):\n",
    "    pred = model.predict(x_test)\n",
    "    accscore = metrics.accuracy_score(pred, y_test)\n",
    "\n",
    "    print(f'{sampling_method} model accuracy for classification is =', str('{:04.2f}'.format(accscore * 100)) + '%')\n",
    "    print('------------------------------------------------')\n",
    "    print('Confusion Matrix:')\n",
    "    print(pd.DataFrame(confusion_matrix(y_test, pred)))\n",
    "    print('------------------------------------------------')\n",
    "    print('Classification Report:')\n",
    "    print(classification_report(y_test, pred))"
   ],
   "metadata": {
    "collapsed": false,
    "ExecuteTime": {
     "end_time": "2024-11-17T15:34:23.002589800Z",
     "start_time": "2024-11-17T15:34:22.939589700Z"
    }
   }
  },
  {
   "cell_type": "code",
   "execution_count": 53,
   "outputs": [],
   "source": [
    "def fit_model(model, modelName):\n",
    "    i = 1\n",
    "    n = 20\n",
    "\n",
    "    print(\"Starting model fitting.\")\n",
    "    print(\"------------ NO SAMPLING ------------ \")\n",
    "    start = time.time()\n",
    "    print(f\"{i}/{n} Fitting: {modelName} BASE started...\")\n",
    "    model.fit(X_train_base, y_train_base)\n",
    "    add_to_eval_df(model, modelName, \"base\", X_train_base, y_train_base, X_test_base, y_test_base)\n",
    "    end = time.time()\n",
    "    elapsed_time = round(end - start)\n",
    "    print(f\"- Fitting: {modelName} finished. Elapsed time: {elapsed_time} Seconds\")\n",
    "\n",
    "    i += 1\n",
    "    start = time.time()\n",
    "    print(f\"{i}/{n} Fitting: {modelName} CLEAN started...\")\n",
    "    model.fit(X_train_clean, y_train_clean)\n",
    "    add_to_eval_df(model, modelName, \"clean\", X_train_clean, y_train_clean, X_test_clean, y_test_clean)\n",
    "    end = time.time()\n",
    "    elapsed_time = round(end - start)\n",
    "    print(f\"- Fitting: {modelName} finished. Elapsed time: {elapsed_time} Seconds\")\n",
    "\n",
    "    print(\"------------ OVERSAMPLING ------------ \")\n",
    "    i += 1\n",
    "    start = time.time()\n",
    "    print(f\"{i}/{n} Fitting: {modelName} SMOTE-base started...\")\n",
    "    model.fit(X_train_base_s, y_train_base_s)\n",
    "    add_to_eval_df(model, modelName, \"SMOTE base\", X_train_base_s, y_train_base_s, X_test_base, y_test_base)\n",
    "    end = time.time()\n",
    "    elapsed_time = round(end - start)\n",
    "    print(f\"- Fitting: {modelName} finished. Elapsed time: {elapsed_time} Seconds\")\n",
    "\n",
    "    i += 1\n",
    "    start = time.time()\n",
    "    print(f\"{i}/{n} Fitting: {modelName} SMOTE-clean started...\")\n",
    "    model.fit(X_train_clean_s, y_train_clean_s)\n",
    "    add_to_eval_df(model, modelName, \"SMOTE clean\", X_train_clean_s, y_train_clean_s, X_test_clean, y_test_clean)\n",
    "    end = time.time()\n",
    "    elapsed_time = round(end - start)\n",
    "    print(f\"- Fitting: {modelName} finished. Elapsed time: {elapsed_time} Seconds\")\n",
    "\n",
    "    i += 1\n",
    "    start = time.time()\n",
    "    print(f\"{i}/{n} Fitting: {modelName} BorderlineSMOTE-base started...\")\n",
    "    model.fit(X_train_base_bs, y_train_base_bs)\n",
    "    add_to_eval_df(model, modelName, \"BorderlineSMOTE base\", X_train_base_bs, y_train_base_bs, X_test_base, y_test_base)\n",
    "    end = time.time()\n",
    "    elapsed_time = round(end - start)\n",
    "    print(f\"- Fitting: {modelName} finished. Elapsed time: {elapsed_time} Seconds\")\n",
    "\n",
    "    i += 1\n",
    "    start = time.time()\n",
    "    print(f\"{i}/{n} Fitting: {modelName} BorderlineSMOTE-clean started...\")\n",
    "    model.fit(X_train_clean_bs, y_train_clean_bs)\n",
    "    add_to_eval_df(model, modelName, \"BorderlineSMOTE clean\", X_train_clean_bs, y_train_clean_bs, X_test_clean,\n",
    "                   y_test_clean)\n",
    "    end = time.time()\n",
    "    elapsed_time = round(end - start)\n",
    "    print(f\"- Fitting: {modelName} finished. Elapsed time: {elapsed_time} Seconds\")\n",
    "\n",
    "    i += 1\n",
    "    start = time.time()\n",
    "    print(f\"{i}/{n} Fitting: {modelName} ADASYN-base started...\")\n",
    "    model.fit(X_train_base_a, y_train_base_a)\n",
    "    add_to_eval_df(model, modelName, \"ADASYN base\", X_train_base_a, y_train_base_a, X_test_base, y_test_base)\n",
    "    end = time.time()\n",
    "    elapsed_time = round(end - start)\n",
    "    print(f\"- Fitting: {modelName} finished. Elapsed time: {elapsed_time} Seconds\")\n",
    "\n",
    "    i += 1\n",
    "    start = time.time()\n",
    "    print(f\"{i}/{n} Fitting: {modelName} ADASYN-clean started...\")\n",
    "    model.fit(X_train_clean_a, y_train_clean_a)\n",
    "    add_to_eval_df(model, modelName, \"ADASYN clean\", X_train_clean_a, y_train_clean_a, X_test_clean, y_test_clean)\n",
    "    end = time.time()\n",
    "    elapsed_time = round(end - start)\n",
    "    print(f\"- Fitting: {modelName} finished. Elapsed time: {elapsed_time} Seconds\")\n",
    "\n",
    "    print(\"------------ UNDERSAMPLING ------------ \")\n",
    "    i += 1\n",
    "    start = time.time()\n",
    "    print(f\"{i}/{n} Fitting: {modelName} NearMiss-base started...\")\n",
    "    model.fit(X_train_base_nm, y_train_base_nm)\n",
    "    add_to_eval_df(model, modelName, \"NearMiss base\", X_train_base_nm, y_train_base_nm, X_test_base, y_test_base)\n",
    "    end = time.time()\n",
    "    elapsed_time = round(end - start)\n",
    "    print(f\"- Fitting: {modelName} finished. Elapsed time: {elapsed_time} Seconds\")\n",
    "\n",
    "    i += 1\n",
    "    start = time.time()\n",
    "    print(f\"{i}/{n} Fitting: {modelName} NearMiss-clean started...\")\n",
    "    model.fit(X_train_clean_nm, y_train_clean_nm)\n",
    "    add_to_eval_df(model, modelName, \"NearMiss clean\", X_train_clean_nm, y_train_clean_nm, X_test_clean, y_test_clean)\n",
    "    end = time.time()\n",
    "    elapsed_time = round(end - start)\n",
    "    print(f\"- Fitting: {modelName} finished. Elapsed time: {elapsed_time} Seconds\")\n",
    "\n",
    "    i += 1\n",
    "    start = time.time()\n",
    "    print(f\"{i}/{n} Fitting: {modelName} TomekLink-base started...\")\n",
    "    model.fit(X_train_clean_t, y_train_clean_t)\n",
    "    add_to_eval_df(model, modelName, \"TomekLink base\", X_train_clean_t, y_train_clean_t, X_test_clean, y_test_clean)\n",
    "    end = time.time()\n",
    "    elapsed_time = round(end - start)\n",
    "    print(f\"- Fitting: {modelName} finished. Elapsed time: {elapsed_time} Seconds\")\n",
    "\n",
    "    i += 1\n",
    "    start = time.time()\n",
    "    print(f\"{i}/{n} Fitting: {modelName} TomekLink-clean started...\")\n",
    "    model.fit(X_train_clean_t, y_train_clean_t)\n",
    "    add_to_eval_df(model, modelName, \"TomekLink clean\", X_train_clean_t, y_train_clean_t, X_test_clean, y_test_clean)\n",
    "    end = time.time()\n",
    "    elapsed_time = round(end - start)\n",
    "    print(f\"- Fitting: {modelName} finished. Elapsed time: {elapsed_time} Seconds\")\n",
    "\n",
    "    i += 1\n",
    "    start = time.time()\n",
    "    print(f\"{i}/{n} Fitting: {modelName} RandomUnderSampler-base started...\")\n",
    "    model.fit(X_train_clean_r, y_train_clean_r)\n",
    "    add_to_eval_df(model, modelName, \"RandomUnderSampler base\", X_train_clean_r, y_train_clean_r, X_test_clean,\n",
    "                   y_test_clean)\n",
    "    end = time.time()\n",
    "    elapsed_time = round(end - start)\n",
    "    print(f\"- Fitting: {modelName} finished. Elapsed time: {elapsed_time} Seconds\")\n",
    "\n",
    "    i += 1\n",
    "    start = time.time()\n",
    "    print(f\"{i}/{n} Fitting: {modelName} RandomUnderSampler-clean started...\")\n",
    "    model.fit(X_train_clean_r, y_train_clean_r)\n",
    "    add_to_eval_df(model, modelName, \"RandomUnderSampler clean\", X_train_clean_r, y_train_clean_r, X_test_clean,\n",
    "                   y_test_clean)\n",
    "    end = time.time()\n",
    "    elapsed_time = round(end - start)\n",
    "    print(f\"- Fitting: {modelName} finished. Elapsed time: {elapsed_time} Seconds\")\n",
    "\n",
    "    print(\"------------ HYBRID SAMPLING ------------ \")\n",
    "    i += 1\n",
    "    start = time.time()\n",
    "    print(f\"{i}/{n} Fitting: {modelName} ManualyHybrid-base started...\")\n",
    "    model.fit(X_train_clean_mhs, y_train_clean_mhs)\n",
    "    add_to_eval_df(model, modelName, \"ManualyHybrid base\", X_train_clean_mhs, y_train_clean_mhs, X_test_clean,\n",
    "                   y_test_clean)\n",
    "    end = time.time()\n",
    "    elapsed_time = round(end - start)\n",
    "    print(f\"- Fitting: {modelName} finished. Elapsed time: {elapsed_time} Seconds\")\n",
    "\n",
    "    i += 1\n",
    "    start = time.time()\n",
    "    print(f\"{i}/{n} Fitting: {modelName} ManualyHybrid-clean started...\")\n",
    "    model.fit(X_train_clean_mhs, y_train_clean_mhs)\n",
    "    add_to_eval_df(model, modelName, \"ManualyHybrid clean\", X_train_clean_mhs, y_train_clean_mhs, X_test_clean,\n",
    "                   y_test_clean)\n",
    "    end = time.time()\n",
    "    elapsed_time = round(end - start)\n",
    "    print(f\"- Fitting: {modelName} finished. Elapsed time: {elapsed_time} Seconds\")\n",
    "\n",
    "    i += 1\n",
    "    start = time.time()\n",
    "    print(f\"{i}/{n} Fitting: {modelName} SMOTETomek-base started...\")\n",
    "    model.fit(X_train_clean_st, y_train_clean_st)\n",
    "    add_to_eval_df(model, modelName, \"SMOTETomek base\", X_train_clean_st, y_train_clean_st, X_test_clean, y_test_clean)\n",
    "    end = time.time()\n",
    "    elapsed_time = round(end - start)\n",
    "    print(f\"- Fitting: {modelName} finished. Elapsed time: {elapsed_time} Seconds\")\n",
    "\n",
    "    i += 1\n",
    "    start = time.time()\n",
    "    print(f\"{i}/{n} Fitting: {modelName} SMOTETomek-clean started...\")\n",
    "    model.fit(X_train_clean_st, y_train_clean_st)\n",
    "    add_to_eval_df(model, modelName, \"SMOTETomek clean\", X_train_clean_st, y_train_clean_st, X_test_clean, y_test_clean)\n",
    "    end = time.time()\n",
    "    elapsed_time = round(end - start)\n",
    "    print(f\"- Fitting: {modelName} finished. Elapsed time: {elapsed_time} Seconds\")\n",
    "\n",
    "    i += 1\n",
    "    start = time.time()\n",
    "    print(f\"{i}/{n} Fitting: {modelName} SMOTEEN-base started...\")\n",
    "    model.fit(X_train_clean_smoteen, y_train_clean_smoteen)\n",
    "    add_to_eval_df(model, modelName, \"SMOTEEN base\", X_train_clean_smoteen, y_train_clean_smoteen, X_test_clean,\n",
    "                   y_test_clean)\n",
    "    end = time.time()\n",
    "    elapsed_time = round(end - start)\n",
    "    print(f\"- Fitting: {modelName} finished. Elapsed time: {elapsed_time} Seconds\")\n",
    "\n",
    "    i += 1\n",
    "    start = time.time()\n",
    "    print(f\"{i}/{n} Fitting: {modelName} SMOTEEN-clean started...\")\n",
    "    model.fit(X_train_clean_smoteen, y_train_clean_smoteen)\n",
    "    add_to_eval_df(model, modelName, \"SMOTEEN clean\", X_train_clean_smoteen, y_train_clean_smoteen, X_test_clean,\n",
    "                   y_test_clean)\n",
    "    end = time.time()\n",
    "    elapsed_time = round(end - start)\n",
    "    print(f\"- Fitting: {modelName} finished. Elapsed time: {elapsed_time} Seconds\")\n",
    "\n",
    "    print(\"Model fitting finished.\")"
   ],
   "metadata": {
    "collapsed": false,
    "ExecuteTime": {
     "end_time": "2024-11-17T15:34:23.050589800Z",
     "start_time": "2024-11-17T15:34:22.953589300Z"
    }
   }
  },
  {
   "cell_type": "markdown",
   "source": [
    "#### 2.1 RandomForest"
   ],
   "metadata": {
    "collapsed": false
   }
  },
  {
   "cell_type": "code",
   "execution_count": 54,
   "outputs": [],
   "source": [
    "rf = RandomForestClassifier(n_jobs=-1)"
   ],
   "metadata": {
    "collapsed": false,
    "ExecuteTime": {
     "end_time": "2024-11-17T15:34:23.050589800Z",
     "start_time": "2024-11-17T15:34:23.017591600Z"
    }
   }
  },
  {
   "cell_type": "code",
   "execution_count": 55,
   "outputs": [
    {
     "name": "stdout",
     "output_type": "stream",
     "text": [
      "Starting model fitting.\n",
      "------------ NO SAMPLING ------------ \n",
      "1/20 Fitting: RandomForest BASE started...\n",
      "- Fitting: RandomForest finished. Elapsed time: 4 Seconds\n",
      "2/20 Fitting: RandomForest CLEAN started...\n",
      "- Fitting: RandomForest finished. Elapsed time: 4 Seconds\n",
      "------------ OVERSAMPLING ------------ \n",
      "3/20 Fitting: RandomForest SMOTE-base started...\n",
      "- Fitting: RandomForest finished. Elapsed time: 6 Seconds\n",
      "4/20 Fitting: RandomForest SMOTE-clean started...\n",
      "- Fitting: RandomForest finished. Elapsed time: 7 Seconds\n",
      "5/20 Fitting: RandomForest BorderlineSMOTE-base started...\n",
      "- Fitting: RandomForest finished. Elapsed time: 5 Seconds\n",
      "6/20 Fitting: RandomForest BorderlineSMOTE-clean started...\n",
      "- Fitting: RandomForest finished. Elapsed time: 7 Seconds\n",
      "7/20 Fitting: RandomForest ADASYN-base started...\n",
      "- Fitting: RandomForest finished. Elapsed time: 6 Seconds\n",
      "8/20 Fitting: RandomForest ADASYN-clean started...\n",
      "- Fitting: RandomForest finished. Elapsed time: 7 Seconds\n",
      "------------ UNDERSAMPLING ------------ \n",
      "9/20 Fitting: RandomForest NearMiss-base started...\n",
      "- Fitting: RandomForest finished. Elapsed time: 1 Seconds\n",
      "10/20 Fitting: RandomForest NearMiss-clean started...\n",
      "- Fitting: RandomForest finished. Elapsed time: 1 Seconds\n",
      "11/20 Fitting: RandomForest TomekLink-base started...\n",
      "- Fitting: RandomForest finished. Elapsed time: 4 Seconds\n",
      "12/20 Fitting: RandomForest TomekLink-clean started...\n",
      "- Fitting: RandomForest finished. Elapsed time: 4 Seconds\n",
      "13/20 Fitting: RandomForest RandomUnderSampler-base started...\n",
      "- Fitting: RandomForest finished. Elapsed time: 4 Seconds\n",
      "14/20 Fitting: RandomForest RandomUnderSampler-clean started...\n",
      "- Fitting: RandomForest finished. Elapsed time: 4 Seconds\n",
      "------------ HYBRID SAMPLING ------------ \n",
      "15/20 Fitting: RandomForest ManualyHybrid-base started...\n",
      "- Fitting: RandomForest finished. Elapsed time: 4 Seconds\n",
      "16/20 Fitting: RandomForest ManualyHybrid-clean started...\n",
      "- Fitting: RandomForest finished. Elapsed time: 5 Seconds\n",
      "17/20 Fitting: RandomForest SMOTETomek-base started...\n",
      "- Fitting: RandomForest finished. Elapsed time: 7 Seconds\n",
      "18/20 Fitting: RandomForest SMOTETomek-clean started...\n",
      "- Fitting: RandomForest finished. Elapsed time: 7 Seconds\n",
      "19/20 Fitting: RandomForest SMOTEEN-base started...\n",
      "- Fitting: RandomForest finished. Elapsed time: 4 Seconds\n",
      "20/20 Fitting: RandomForest SMOTEEN-clean started...\n",
      "- Fitting: RandomForest finished. Elapsed time: 4 Seconds\n",
      "Model fitting finished.\n"
     ]
    }
   ],
   "source": [
    "fit_model(rf, \"RandomForest\")"
   ],
   "metadata": {
    "collapsed": false,
    "ExecuteTime": {
     "end_time": "2024-11-17T15:35:56.019592100Z",
     "start_time": "2024-11-17T15:34:23.032591900Z"
    }
   }
  },
  {
   "cell_type": "code",
   "execution_count": 56,
   "outputs": [
    {
     "data": {
      "text/plain": "           model                   variant  train_acc  train_prec  train_rec  \\\n16  RandomForest           SMOTETomek base   0.999917    0.999889   0.999945   \n5   RandomForest     BorderlineSMOTE clean   0.999917    0.999889   0.999945   \n15  RandomForest       ManualyHybrid clean   0.999902    0.999889   0.999889   \n17  RandomForest          SMOTETomek clean   0.999917    0.999889   0.999945   \n3   RandomForest               SMOTE clean   0.999917    0.999889   0.999945   \n13  RandomForest  RandomUnderSampler clean   0.999793    1.000000   0.996845   \n7   RandomForest              ADASYN clean   0.999918    0.999946   0.999893   \n14  RandomForest        ManualyHybrid base   0.999902    1.000000   0.999779   \n12  RandomForest   RandomUnderSampler base   0.999844    1.000000   0.997634   \n1   RandomForest                     clean   0.999793    1.000000   0.996845   \n11  RandomForest           TomekLink clean   0.999844    1.000000   0.997634   \n10  RandomForest            TomekLink base   0.999793    1.000000   0.996845   \n0   RandomForest                      base   0.999855    1.000000   0.997871   \n2   RandomForest                SMOTE base   0.999922    0.999948   0.999896   \n6   RandomForest               ADASYN base   0.999921    0.999947   0.999894   \n4   RandomForest      BorderlineSMOTE base   0.999922    0.999896   0.999948   \n19  RandomForest             SMOTEEN clean   1.000000    1.000000   1.000000   \n18  RandomForest              SMOTEEN base   1.000000    1.000000   1.000000   \n9   RandomForest            NearMiss clean   0.998154    1.000000   0.997634   \n8   RandomForest             NearMiss base   0.998118    0.998582   0.999290   \n\n    train_f1  test_acc  test_prec  test_rec   test_f1  \n16  0.999917  0.946594   0.595785  0.572744  0.584038  \n5   0.999917  0.947559   0.610204  0.550645  0.578896  \n15  0.999889  0.943822   0.568384  0.589319  0.578662  \n17  0.999917  0.947438   0.609407  0.548803  0.577519  \n3   0.999917  0.945992   0.591876  0.563536  0.577358  \n13  0.998420  0.955395   0.764526  0.460405  0.574713  \n7   0.999920  0.945389   0.586207  0.563536  0.574648  \n14  0.999889  0.942495   0.558099  0.583794  0.570657  \n12  0.998816  0.955756   0.791391  0.440147  0.565680  \n1   0.998420  0.955274   0.782895  0.438306  0.561983  \n11  0.998816  0.954069   0.751553  0.445672  0.559538  \n10  0.998420  0.953828   0.746914  0.445672  0.558247  \n0   0.998934  0.955074   0.875912  0.397351  0.546697  \n2   0.999922  0.951349   0.759760  0.418874  0.540021  \n6   0.999921  0.951123   0.761468  0.412252  0.534909  \n4   0.999922  0.950333   0.879630  0.314570  0.463415  \n19  1.000000  0.748282   0.180653  0.804788  0.295071  \n18  1.000000  0.745148   0.178995  0.806630  0.292977  \n9   0.998816  0.467511   0.097632  0.865562  0.175471  \n8   0.998936  0.236934   0.079853  0.968543  0.147541  ",
      "text/html": "<div>\n<style scoped>\n    .dataframe tbody tr th:only-of-type {\n        vertical-align: middle;\n    }\n\n    .dataframe tbody tr th {\n        vertical-align: top;\n    }\n\n    .dataframe thead th {\n        text-align: right;\n    }\n</style>\n<table border=\"1\" class=\"dataframe\">\n  <thead>\n    <tr style=\"text-align: right;\">\n      <th></th>\n      <th>model</th>\n      <th>variant</th>\n      <th>train_acc</th>\n      <th>train_prec</th>\n      <th>train_rec</th>\n      <th>train_f1</th>\n      <th>test_acc</th>\n      <th>test_prec</th>\n      <th>test_rec</th>\n      <th>test_f1</th>\n    </tr>\n  </thead>\n  <tbody>\n    <tr>\n      <th>16</th>\n      <td>RandomForest</td>\n      <td>SMOTETomek base</td>\n      <td>0.999917</td>\n      <td>0.999889</td>\n      <td>0.999945</td>\n      <td>0.999917</td>\n      <td>0.946594</td>\n      <td>0.595785</td>\n      <td>0.572744</td>\n      <td>0.584038</td>\n    </tr>\n    <tr>\n      <th>5</th>\n      <td>RandomForest</td>\n      <td>BorderlineSMOTE clean</td>\n      <td>0.999917</td>\n      <td>0.999889</td>\n      <td>0.999945</td>\n      <td>0.999917</td>\n      <td>0.947559</td>\n      <td>0.610204</td>\n      <td>0.550645</td>\n      <td>0.578896</td>\n    </tr>\n    <tr>\n      <th>15</th>\n      <td>RandomForest</td>\n      <td>ManualyHybrid clean</td>\n      <td>0.999902</td>\n      <td>0.999889</td>\n      <td>0.999889</td>\n      <td>0.999889</td>\n      <td>0.943822</td>\n      <td>0.568384</td>\n      <td>0.589319</td>\n      <td>0.578662</td>\n    </tr>\n    <tr>\n      <th>17</th>\n      <td>RandomForest</td>\n      <td>SMOTETomek clean</td>\n      <td>0.999917</td>\n      <td>0.999889</td>\n      <td>0.999945</td>\n      <td>0.999917</td>\n      <td>0.947438</td>\n      <td>0.609407</td>\n      <td>0.548803</td>\n      <td>0.577519</td>\n    </tr>\n    <tr>\n      <th>3</th>\n      <td>RandomForest</td>\n      <td>SMOTE clean</td>\n      <td>0.999917</td>\n      <td>0.999889</td>\n      <td>0.999945</td>\n      <td>0.999917</td>\n      <td>0.945992</td>\n      <td>0.591876</td>\n      <td>0.563536</td>\n      <td>0.577358</td>\n    </tr>\n    <tr>\n      <th>13</th>\n      <td>RandomForest</td>\n      <td>RandomUnderSampler clean</td>\n      <td>0.999793</td>\n      <td>1.000000</td>\n      <td>0.996845</td>\n      <td>0.998420</td>\n      <td>0.955395</td>\n      <td>0.764526</td>\n      <td>0.460405</td>\n      <td>0.574713</td>\n    </tr>\n    <tr>\n      <th>7</th>\n      <td>RandomForest</td>\n      <td>ADASYN clean</td>\n      <td>0.999918</td>\n      <td>0.999946</td>\n      <td>0.999893</td>\n      <td>0.999920</td>\n      <td>0.945389</td>\n      <td>0.586207</td>\n      <td>0.563536</td>\n      <td>0.574648</td>\n    </tr>\n    <tr>\n      <th>14</th>\n      <td>RandomForest</td>\n      <td>ManualyHybrid base</td>\n      <td>0.999902</td>\n      <td>1.000000</td>\n      <td>0.999779</td>\n      <td>0.999889</td>\n      <td>0.942495</td>\n      <td>0.558099</td>\n      <td>0.583794</td>\n      <td>0.570657</td>\n    </tr>\n    <tr>\n      <th>12</th>\n      <td>RandomForest</td>\n      <td>RandomUnderSampler base</td>\n      <td>0.999844</td>\n      <td>1.000000</td>\n      <td>0.997634</td>\n      <td>0.998816</td>\n      <td>0.955756</td>\n      <td>0.791391</td>\n      <td>0.440147</td>\n      <td>0.565680</td>\n    </tr>\n    <tr>\n      <th>1</th>\n      <td>RandomForest</td>\n      <td>clean</td>\n      <td>0.999793</td>\n      <td>1.000000</td>\n      <td>0.996845</td>\n      <td>0.998420</td>\n      <td>0.955274</td>\n      <td>0.782895</td>\n      <td>0.438306</td>\n      <td>0.561983</td>\n    </tr>\n    <tr>\n      <th>11</th>\n      <td>RandomForest</td>\n      <td>TomekLink clean</td>\n      <td>0.999844</td>\n      <td>1.000000</td>\n      <td>0.997634</td>\n      <td>0.998816</td>\n      <td>0.954069</td>\n      <td>0.751553</td>\n      <td>0.445672</td>\n      <td>0.559538</td>\n    </tr>\n    <tr>\n      <th>10</th>\n      <td>RandomForest</td>\n      <td>TomekLink base</td>\n      <td>0.999793</td>\n      <td>1.000000</td>\n      <td>0.996845</td>\n      <td>0.998420</td>\n      <td>0.953828</td>\n      <td>0.746914</td>\n      <td>0.445672</td>\n      <td>0.558247</td>\n    </tr>\n    <tr>\n      <th>0</th>\n      <td>RandomForest</td>\n      <td>base</td>\n      <td>0.999855</td>\n      <td>1.000000</td>\n      <td>0.997871</td>\n      <td>0.998934</td>\n      <td>0.955074</td>\n      <td>0.875912</td>\n      <td>0.397351</td>\n      <td>0.546697</td>\n    </tr>\n    <tr>\n      <th>2</th>\n      <td>RandomForest</td>\n      <td>SMOTE base</td>\n      <td>0.999922</td>\n      <td>0.999948</td>\n      <td>0.999896</td>\n      <td>0.999922</td>\n      <td>0.951349</td>\n      <td>0.759760</td>\n      <td>0.418874</td>\n      <td>0.540021</td>\n    </tr>\n    <tr>\n      <th>6</th>\n      <td>RandomForest</td>\n      <td>ADASYN base</td>\n      <td>0.999921</td>\n      <td>0.999947</td>\n      <td>0.999894</td>\n      <td>0.999921</td>\n      <td>0.951123</td>\n      <td>0.761468</td>\n      <td>0.412252</td>\n      <td>0.534909</td>\n    </tr>\n    <tr>\n      <th>4</th>\n      <td>RandomForest</td>\n      <td>BorderlineSMOTE base</td>\n      <td>0.999922</td>\n      <td>0.999896</td>\n      <td>0.999948</td>\n      <td>0.999922</td>\n      <td>0.950333</td>\n      <td>0.879630</td>\n      <td>0.314570</td>\n      <td>0.463415</td>\n    </tr>\n    <tr>\n      <th>19</th>\n      <td>RandomForest</td>\n      <td>SMOTEEN clean</td>\n      <td>1.000000</td>\n      <td>1.000000</td>\n      <td>1.000000</td>\n      <td>1.000000</td>\n      <td>0.748282</td>\n      <td>0.180653</td>\n      <td>0.804788</td>\n      <td>0.295071</td>\n    </tr>\n    <tr>\n      <th>18</th>\n      <td>RandomForest</td>\n      <td>SMOTEEN base</td>\n      <td>1.000000</td>\n      <td>1.000000</td>\n      <td>1.000000</td>\n      <td>1.000000</td>\n      <td>0.745148</td>\n      <td>0.178995</td>\n      <td>0.806630</td>\n      <td>0.292977</td>\n    </tr>\n    <tr>\n      <th>9</th>\n      <td>RandomForest</td>\n      <td>NearMiss clean</td>\n      <td>0.998154</td>\n      <td>1.000000</td>\n      <td>0.997634</td>\n      <td>0.998816</td>\n      <td>0.467511</td>\n      <td>0.097632</td>\n      <td>0.865562</td>\n      <td>0.175471</td>\n    </tr>\n    <tr>\n      <th>8</th>\n      <td>RandomForest</td>\n      <td>NearMiss base</td>\n      <td>0.998118</td>\n      <td>0.998582</td>\n      <td>0.999290</td>\n      <td>0.998936</td>\n      <td>0.236934</td>\n      <td>0.079853</td>\n      <td>0.968543</td>\n      <td>0.147541</td>\n    </tr>\n  </tbody>\n</table>\n</div>"
     },
     "execution_count": 56,
     "metadata": {},
     "output_type": "execute_result"
    }
   ],
   "source": [
    "evaluation[(evaluation.model == \"RandomForest\")].sort_values(by=[\"test_f1\"], ascending=False)"
   ],
   "metadata": {
    "collapsed": false,
    "ExecuteTime": {
     "end_time": "2024-11-17T15:35:56.051590800Z",
     "start_time": "2024-11-17T15:35:56.025593300Z"
    }
   }
  },
  {
   "cell_type": "markdown",
   "source": [
    "#### 2.2 SVM"
   ],
   "metadata": {
    "collapsed": false
   }
  },
  {
   "cell_type": "code",
   "execution_count": 57,
   "outputs": [],
   "source": [
    "svc = LinearSVC(class_weight=\"balanced\")"
   ],
   "metadata": {
    "collapsed": false,
    "ExecuteTime": {
     "end_time": "2024-11-17T15:35:56.074589300Z",
     "start_time": "2024-11-17T15:35:56.055592700Z"
    }
   }
  },
  {
   "cell_type": "code",
   "execution_count": 58,
   "outputs": [
    {
     "name": "stdout",
     "output_type": "stream",
     "text": [
      "Starting model fitting.\n",
      "------------ NO SAMPLING ------------ \n",
      "1/20 Fitting: LinearSVC BASE started...\n",
      "- Fitting: LinearSVC finished. Elapsed time: 0 Seconds\n",
      "2/20 Fitting: LinearSVC CLEAN started...\n",
      "- Fitting: LinearSVC finished. Elapsed time: 0 Seconds\n",
      "------------ OVERSAMPLING ------------ \n",
      "3/20 Fitting: LinearSVC SMOTE-base started...\n",
      "- Fitting: LinearSVC finished. Elapsed time: 0 Seconds\n",
      "4/20 Fitting: LinearSVC SMOTE-clean started...\n",
      "- Fitting: LinearSVC finished. Elapsed time: 0 Seconds\n",
      "5/20 Fitting: LinearSVC BorderlineSMOTE-base started...\n",
      "- Fitting: LinearSVC finished. Elapsed time: 0 Seconds\n",
      "6/20 Fitting: LinearSVC BorderlineSMOTE-clean started...\n",
      "- Fitting: LinearSVC finished. Elapsed time: 0 Seconds\n",
      "7/20 Fitting: LinearSVC ADASYN-base started...\n",
      "- Fitting: LinearSVC finished. Elapsed time: 0 Seconds\n",
      "8/20 Fitting: LinearSVC ADASYN-clean started...\n",
      "- Fitting: LinearSVC finished. Elapsed time: 0 Seconds\n",
      "------------ UNDERSAMPLING ------------ \n",
      "9/20 Fitting: LinearSVC NearMiss-base started...\n",
      "- Fitting: LinearSVC finished. Elapsed time: 0 Seconds\n",
      "10/20 Fitting: LinearSVC NearMiss-clean started...\n",
      "- Fitting: LinearSVC finished. Elapsed time: 0 Seconds\n",
      "11/20 Fitting: LinearSVC TomekLink-base started...\n",
      "- Fitting: LinearSVC finished. Elapsed time: 0 Seconds\n",
      "12/20 Fitting: LinearSVC TomekLink-clean started...\n",
      "- Fitting: LinearSVC finished. Elapsed time: 0 Seconds\n",
      "13/20 Fitting: LinearSVC RandomUnderSampler-base started...\n",
      "- Fitting: LinearSVC finished. Elapsed time: 0 Seconds\n",
      "14/20 Fitting: LinearSVC RandomUnderSampler-clean started...\n",
      "- Fitting: LinearSVC finished. Elapsed time: 0 Seconds\n",
      "------------ HYBRID SAMPLING ------------ \n",
      "15/20 Fitting: LinearSVC ManualyHybrid-base started...\n",
      "- Fitting: LinearSVC finished. Elapsed time: 0 Seconds\n",
      "16/20 Fitting: LinearSVC ManualyHybrid-clean started...\n",
      "- Fitting: LinearSVC finished. Elapsed time: 0 Seconds\n",
      "17/20 Fitting: LinearSVC SMOTETomek-base started...\n",
      "- Fitting: LinearSVC finished. Elapsed time: 0 Seconds\n",
      "18/20 Fitting: LinearSVC SMOTETomek-clean started...\n",
      "- Fitting: LinearSVC finished. Elapsed time: 0 Seconds\n",
      "19/20 Fitting: LinearSVC SMOTEEN-base started...\n",
      "- Fitting: LinearSVC finished. Elapsed time: 0 Seconds\n",
      "20/20 Fitting: LinearSVC SMOTEEN-clean started...\n",
      "- Fitting: LinearSVC finished. Elapsed time: 0 Seconds\n",
      "Model fitting finished.\n"
     ]
    }
   ],
   "source": [
    "fit_model(svc, \"LinearSVC\")"
   ],
   "metadata": {
    "collapsed": false,
    "ExecuteTime": {
     "end_time": "2024-11-17T15:35:58.772591700Z",
     "start_time": "2024-11-17T15:35:56.068590800Z"
    }
   }
  },
  {
   "cell_type": "code",
   "execution_count": 59,
   "outputs": [
    {
     "data": {
      "text/plain": "        model                   variant  train_acc  train_prec  train_rec  \\\n24  LinearSVC      BorderlineSMOTE base   0.989617    0.991044   0.988163   \n20  LinearSVC                      base   0.969619    0.692270   0.997871   \n26  LinearSVC               ADASYN base   0.988096    0.977551   0.998887   \n22  LinearSVC                SMOTE base   0.988111    0.978279   0.998391   \n31  LinearSVC           TomekLink clean   0.968844    0.679012   0.997634   \n33  LinearSVC  RandomUnderSampler clean   0.968844    0.679012   0.997634   \n32  LinearSVC   RandomUnderSampler base   0.968844    0.679012   0.997634   \n30  LinearSVC            TomekLink base   0.968844    0.679012   0.997634   \n21  LinearSVC                     clean   0.967655    0.670201   0.996845   \n25  LinearSVC     BorderlineSMOTE clean   0.983164    0.970799   0.996295   \n36  LinearSVC           SMOTETomek base   0.983496    0.970716   0.997070   \n37  LinearSVC          SMOTETomek clean   0.983496    0.970716   0.997070   \n23  LinearSVC               SMOTE clean   0.983302    0.970199   0.997235   \n27  LinearSVC              ADASYN clean   0.982962    0.970168   0.997105   \n34  LinearSVC        ManualyHybrid base   0.981274    0.964102   0.994913   \n35  LinearSVC       ManualyHybrid clean   0.981274    0.964102   0.994913   \n38  LinearSVC              SMOTEEN base   0.998292    0.998486   0.999439   \n39  LinearSVC             SMOTEEN clean   0.998292    0.998486   0.999439   \n29  LinearSVC            NearMiss clean   0.952615    0.995012   0.944006   \n28  LinearSVC             NearMiss base   0.967378    0.997799   0.965224   \n\n    train_f1  test_acc  test_prec  test_rec   test_f1  \n24  0.989602  0.948075   0.624138  0.599338  0.611486  \n20  0.817442  0.930128   0.491803  0.745033  0.592495  \n26  0.988104  0.933401   0.508333  0.706954  0.591413  \n22  0.988232  0.933627   0.509709  0.695364  0.588235  \n31  0.808049  0.917661   0.420455  0.681400  0.520028  \n33  0.808049  0.917661   0.420455  0.681400  0.520028  \n32  0.808049  0.917661   0.420455  0.681400  0.520028  \n30  0.808049  0.917661   0.420455  0.681400  0.520028  \n21  0.801522  0.918143   0.421839  0.675875  0.519462  \n25  0.983382  0.912477   0.400218  0.675875  0.502740  \n36  0.983717  0.911513   0.397642  0.683241  0.502710  \n37  0.983717  0.911513   0.397642  0.683241  0.502710  \n23  0.983531  0.910066   0.392365  0.681400  0.497981  \n27  0.983452  0.908499   0.388199  0.690608  0.497018  \n34  0.979265  0.902230   0.371648  0.714549  0.488973  \n35  0.979265  0.902230   0.371648  0.714549  0.488973  \n38  0.998962  0.743701   0.191182  0.902394  0.315518  \n39  0.998962  0.743701   0.191182  0.902394  0.315518  \n29  0.968839  0.563593   0.117764  0.872928  0.207531  \n28  0.981241  0.386274   0.093250  0.917219  0.169290  ",
      "text/html": "<div>\n<style scoped>\n    .dataframe tbody tr th:only-of-type {\n        vertical-align: middle;\n    }\n\n    .dataframe tbody tr th {\n        vertical-align: top;\n    }\n\n    .dataframe thead th {\n        text-align: right;\n    }\n</style>\n<table border=\"1\" class=\"dataframe\">\n  <thead>\n    <tr style=\"text-align: right;\">\n      <th></th>\n      <th>model</th>\n      <th>variant</th>\n      <th>train_acc</th>\n      <th>train_prec</th>\n      <th>train_rec</th>\n      <th>train_f1</th>\n      <th>test_acc</th>\n      <th>test_prec</th>\n      <th>test_rec</th>\n      <th>test_f1</th>\n    </tr>\n  </thead>\n  <tbody>\n    <tr>\n      <th>24</th>\n      <td>LinearSVC</td>\n      <td>BorderlineSMOTE base</td>\n      <td>0.989617</td>\n      <td>0.991044</td>\n      <td>0.988163</td>\n      <td>0.989602</td>\n      <td>0.948075</td>\n      <td>0.624138</td>\n      <td>0.599338</td>\n      <td>0.611486</td>\n    </tr>\n    <tr>\n      <th>20</th>\n      <td>LinearSVC</td>\n      <td>base</td>\n      <td>0.969619</td>\n      <td>0.692270</td>\n      <td>0.997871</td>\n      <td>0.817442</td>\n      <td>0.930128</td>\n      <td>0.491803</td>\n      <td>0.745033</td>\n      <td>0.592495</td>\n    </tr>\n    <tr>\n      <th>26</th>\n      <td>LinearSVC</td>\n      <td>ADASYN base</td>\n      <td>0.988096</td>\n      <td>0.977551</td>\n      <td>0.998887</td>\n      <td>0.988104</td>\n      <td>0.933401</td>\n      <td>0.508333</td>\n      <td>0.706954</td>\n      <td>0.591413</td>\n    </tr>\n    <tr>\n      <th>22</th>\n      <td>LinearSVC</td>\n      <td>SMOTE base</td>\n      <td>0.988111</td>\n      <td>0.978279</td>\n      <td>0.998391</td>\n      <td>0.988232</td>\n      <td>0.933627</td>\n      <td>0.509709</td>\n      <td>0.695364</td>\n      <td>0.588235</td>\n    </tr>\n    <tr>\n      <th>31</th>\n      <td>LinearSVC</td>\n      <td>TomekLink clean</td>\n      <td>0.968844</td>\n      <td>0.679012</td>\n      <td>0.997634</td>\n      <td>0.808049</td>\n      <td>0.917661</td>\n      <td>0.420455</td>\n      <td>0.681400</td>\n      <td>0.520028</td>\n    </tr>\n    <tr>\n      <th>33</th>\n      <td>LinearSVC</td>\n      <td>RandomUnderSampler clean</td>\n      <td>0.968844</td>\n      <td>0.679012</td>\n      <td>0.997634</td>\n      <td>0.808049</td>\n      <td>0.917661</td>\n      <td>0.420455</td>\n      <td>0.681400</td>\n      <td>0.520028</td>\n    </tr>\n    <tr>\n      <th>32</th>\n      <td>LinearSVC</td>\n      <td>RandomUnderSampler base</td>\n      <td>0.968844</td>\n      <td>0.679012</td>\n      <td>0.997634</td>\n      <td>0.808049</td>\n      <td>0.917661</td>\n      <td>0.420455</td>\n      <td>0.681400</td>\n      <td>0.520028</td>\n    </tr>\n    <tr>\n      <th>30</th>\n      <td>LinearSVC</td>\n      <td>TomekLink base</td>\n      <td>0.968844</td>\n      <td>0.679012</td>\n      <td>0.997634</td>\n      <td>0.808049</td>\n      <td>0.917661</td>\n      <td>0.420455</td>\n      <td>0.681400</td>\n      <td>0.520028</td>\n    </tr>\n    <tr>\n      <th>21</th>\n      <td>LinearSVC</td>\n      <td>clean</td>\n      <td>0.967655</td>\n      <td>0.670201</td>\n      <td>0.996845</td>\n      <td>0.801522</td>\n      <td>0.918143</td>\n      <td>0.421839</td>\n      <td>0.675875</td>\n      <td>0.519462</td>\n    </tr>\n    <tr>\n      <th>25</th>\n      <td>LinearSVC</td>\n      <td>BorderlineSMOTE clean</td>\n      <td>0.983164</td>\n      <td>0.970799</td>\n      <td>0.996295</td>\n      <td>0.983382</td>\n      <td>0.912477</td>\n      <td>0.400218</td>\n      <td>0.675875</td>\n      <td>0.502740</td>\n    </tr>\n    <tr>\n      <th>36</th>\n      <td>LinearSVC</td>\n      <td>SMOTETomek base</td>\n      <td>0.983496</td>\n      <td>0.970716</td>\n      <td>0.997070</td>\n      <td>0.983717</td>\n      <td>0.911513</td>\n      <td>0.397642</td>\n      <td>0.683241</td>\n      <td>0.502710</td>\n    </tr>\n    <tr>\n      <th>37</th>\n      <td>LinearSVC</td>\n      <td>SMOTETomek clean</td>\n      <td>0.983496</td>\n      <td>0.970716</td>\n      <td>0.997070</td>\n      <td>0.983717</td>\n      <td>0.911513</td>\n      <td>0.397642</td>\n      <td>0.683241</td>\n      <td>0.502710</td>\n    </tr>\n    <tr>\n      <th>23</th>\n      <td>LinearSVC</td>\n      <td>SMOTE clean</td>\n      <td>0.983302</td>\n      <td>0.970199</td>\n      <td>0.997235</td>\n      <td>0.983531</td>\n      <td>0.910066</td>\n      <td>0.392365</td>\n      <td>0.681400</td>\n      <td>0.497981</td>\n    </tr>\n    <tr>\n      <th>27</th>\n      <td>LinearSVC</td>\n      <td>ADASYN clean</td>\n      <td>0.982962</td>\n      <td>0.970168</td>\n      <td>0.997105</td>\n      <td>0.983452</td>\n      <td>0.908499</td>\n      <td>0.388199</td>\n      <td>0.690608</td>\n      <td>0.497018</td>\n    </tr>\n    <tr>\n      <th>34</th>\n      <td>LinearSVC</td>\n      <td>ManualyHybrid base</td>\n      <td>0.981274</td>\n      <td>0.964102</td>\n      <td>0.994913</td>\n      <td>0.979265</td>\n      <td>0.902230</td>\n      <td>0.371648</td>\n      <td>0.714549</td>\n      <td>0.488973</td>\n    </tr>\n    <tr>\n      <th>35</th>\n      <td>LinearSVC</td>\n      <td>ManualyHybrid clean</td>\n      <td>0.981274</td>\n      <td>0.964102</td>\n      <td>0.994913</td>\n      <td>0.979265</td>\n      <td>0.902230</td>\n      <td>0.371648</td>\n      <td>0.714549</td>\n      <td>0.488973</td>\n    </tr>\n    <tr>\n      <th>38</th>\n      <td>LinearSVC</td>\n      <td>SMOTEEN base</td>\n      <td>0.998292</td>\n      <td>0.998486</td>\n      <td>0.999439</td>\n      <td>0.998962</td>\n      <td>0.743701</td>\n      <td>0.191182</td>\n      <td>0.902394</td>\n      <td>0.315518</td>\n    </tr>\n    <tr>\n      <th>39</th>\n      <td>LinearSVC</td>\n      <td>SMOTEEN clean</td>\n      <td>0.998292</td>\n      <td>0.998486</td>\n      <td>0.999439</td>\n      <td>0.998962</td>\n      <td>0.743701</td>\n      <td>0.191182</td>\n      <td>0.902394</td>\n      <td>0.315518</td>\n    </tr>\n    <tr>\n      <th>29</th>\n      <td>LinearSVC</td>\n      <td>NearMiss clean</td>\n      <td>0.952615</td>\n      <td>0.995012</td>\n      <td>0.944006</td>\n      <td>0.968839</td>\n      <td>0.563593</td>\n      <td>0.117764</td>\n      <td>0.872928</td>\n      <td>0.207531</td>\n    </tr>\n    <tr>\n      <th>28</th>\n      <td>LinearSVC</td>\n      <td>NearMiss base</td>\n      <td>0.967378</td>\n      <td>0.997799</td>\n      <td>0.965224</td>\n      <td>0.981241</td>\n      <td>0.386274</td>\n      <td>0.093250</td>\n      <td>0.917219</td>\n      <td>0.169290</td>\n    </tr>\n  </tbody>\n</table>\n</div>"
     },
     "execution_count": 59,
     "metadata": {},
     "output_type": "execute_result"
    }
   ],
   "source": [
    "evaluation[evaluation.model == \"LinearSVC\"].sort_values(by=[\"test_f1\"], ascending=False)"
   ],
   "metadata": {
    "collapsed": false,
    "ExecuteTime": {
     "end_time": "2024-11-17T15:35:58.825590Z",
     "start_time": "2024-11-17T15:35:58.774594100Z"
    }
   }
  },
  {
   "cell_type": "markdown",
   "source": [
    "#### 2.3 Bayes"
   ],
   "metadata": {
    "collapsed": false
   }
  },
  {
   "cell_type": "code",
   "execution_count": 60,
   "outputs": [],
   "source": [
    "bayes = MultinomialNB()"
   ],
   "metadata": {
    "collapsed": false,
    "ExecuteTime": {
     "end_time": "2024-11-17T15:35:58.826595Z",
     "start_time": "2024-11-17T15:35:58.806596100Z"
    }
   }
  },
  {
   "cell_type": "code",
   "execution_count": 61,
   "outputs": [
    {
     "name": "stdout",
     "output_type": "stream",
     "text": [
      "Starting model fitting.\n",
      "------------ NO SAMPLING ------------ \n",
      "1/20 Fitting: MultinomialNB BASE started...\n",
      "- Fitting: MultinomialNB finished. Elapsed time: 0 Seconds\n",
      "2/20 Fitting: MultinomialNB CLEAN started...\n",
      "- Fitting: MultinomialNB finished. Elapsed time: 0 Seconds\n",
      "------------ OVERSAMPLING ------------ \n",
      "3/20 Fitting: MultinomialNB SMOTE-base started...\n",
      "- Fitting: MultinomialNB finished. Elapsed time: 0 Seconds\n",
      "4/20 Fitting: MultinomialNB SMOTE-clean started...\n",
      "- Fitting: MultinomialNB finished. Elapsed time: 0 Seconds\n",
      "5/20 Fitting: MultinomialNB BorderlineSMOTE-base started...\n",
      "- Fitting: MultinomialNB finished. Elapsed time: 0 Seconds\n",
      "6/20 Fitting: MultinomialNB BorderlineSMOTE-clean started...\n",
      "- Fitting: MultinomialNB finished. Elapsed time: 0 Seconds\n",
      "7/20 Fitting: MultinomialNB ADASYN-base started...\n",
      "- Fitting: MultinomialNB finished. Elapsed time: 0 Seconds\n",
      "8/20 Fitting: MultinomialNB ADASYN-clean started...\n",
      "- Fitting: MultinomialNB finished. Elapsed time: 0 Seconds\n",
      "------------ UNDERSAMPLING ------------ \n",
      "9/20 Fitting: MultinomialNB NearMiss-base started...\n",
      "- Fitting: MultinomialNB finished. Elapsed time: 0 Seconds\n",
      "10/20 Fitting: MultinomialNB NearMiss-clean started...\n",
      "- Fitting: MultinomialNB finished. Elapsed time: 0 Seconds\n",
      "11/20 Fitting: MultinomialNB TomekLink-base started...\n",
      "- Fitting: MultinomialNB finished. Elapsed time: 0 Seconds\n",
      "12/20 Fitting: MultinomialNB TomekLink-clean started...\n",
      "- Fitting: MultinomialNB finished. Elapsed time: 0 Seconds\n",
      "13/20 Fitting: MultinomialNB RandomUnderSampler-base started...\n",
      "- Fitting: MultinomialNB finished. Elapsed time: 0 Seconds\n",
      "14/20 Fitting: MultinomialNB RandomUnderSampler-clean started...\n",
      "- Fitting: MultinomialNB finished. Elapsed time: 0 Seconds\n",
      "------------ HYBRID SAMPLING ------------ \n",
      "15/20 Fitting: MultinomialNB ManualyHybrid-base started...\n",
      "- Fitting: MultinomialNB finished. Elapsed time: 0 Seconds\n",
      "16/20 Fitting: MultinomialNB ManualyHybrid-clean started...\n",
      "- Fitting: MultinomialNB finished. Elapsed time: 0 Seconds\n",
      "17/20 Fitting: MultinomialNB SMOTETomek-base started...\n",
      "- Fitting: MultinomialNB finished. Elapsed time: 0 Seconds\n",
      "18/20 Fitting: MultinomialNB SMOTETomek-clean started...\n",
      "- Fitting: MultinomialNB finished. Elapsed time: 0 Seconds\n",
      "19/20 Fitting: MultinomialNB SMOTEEN-base started...\n",
      "- Fitting: MultinomialNB finished. Elapsed time: 0 Seconds\n",
      "20/20 Fitting: MultinomialNB SMOTEEN-clean started...\n",
      "- Fitting: MultinomialNB finished. Elapsed time: 0 Seconds\n",
      "Model fitting finished.\n"
     ]
    }
   ],
   "source": [
    "fit_model(bayes, \"MultinomialNB\")"
   ],
   "metadata": {
    "collapsed": false,
    "ExecuteTime": {
     "end_time": "2024-11-17T15:35:59.825589Z",
     "start_time": "2024-11-17T15:35:58.823591400Z"
    }
   }
  },
  {
   "cell_type": "code",
   "execution_count": 62,
   "outputs": [
    {
     "data": {
      "text/plain": "            model                   variant  train_acc  train_prec  train_rec  \\\n44  MultinomialNB      BorderlineSMOTE base   0.965943    0.957162   0.975548   \n42  MultinomialNB                SMOTE base   0.945099    0.917303   0.978403   \n46  MultinomialNB               ADASYN base   0.943311    0.910987   0.981352   \n55  MultinomialNB       ManualyHybrid clean   0.934926    0.914510   0.941612   \n54  MultinomialNB        ManualyHybrid base   0.934926    0.914510   0.941612   \n45  MultinomialNB     BorderlineSMOTE clean   0.947307    0.920172   0.979597   \n57  MultinomialNB          SMOTETomek clean   0.945566    0.920085   0.975893   \n56  MultinomialNB           SMOTETomek base   0.945566    0.920085   0.975893   \n43  MultinomialNB               SMOTE clean   0.946423    0.919865   0.978049   \n47  MultinomialNB              ADASYN clean   0.944423    0.915308   0.981346   \n40  MultinomialNB                      base   0.948043    0.969188   0.245564   \n41  MultinomialNB                     clean   0.952361    0.965054   0.283123   \n53  MultinomialNB  RandomUnderSampler clean   0.952462    0.970509   0.285489   \n50  MultinomialNB            TomekLink base   0.952462    0.970509   0.285489   \n52  MultinomialNB   RandomUnderSampler base   0.952462    0.970509   0.285489   \n51  MultinomialNB           TomekLink clean   0.952462    0.970509   0.285489   \n58  MultinomialNB              SMOTEEN base   0.975074    0.971156   0.999383   \n59  MultinomialNB             SMOTEEN clean   0.975074    0.971156   0.999383   \n48  MultinomialNB             NearMiss base   0.883940    0.883940   1.000000   \n49  MultinomialNB            NearMiss clean   0.792000    0.789900   0.999211   \n\n    train_f1  test_acc  test_prec  test_rec   test_f1  \n44  0.966267  0.928547   0.482209  0.650662  0.553911  \n42  0.946869  0.898521   0.388003  0.846026  0.532015  \n46  0.944861  0.890958   0.369784  0.850993  0.515547  \n55  0.927863  0.897046   0.365601  0.779006  0.497647  \n54  0.927863  0.897046   0.365601  0.779006  0.497647  \n45  0.948956  0.889451   0.351351  0.813996  0.490838  \n57  0.947168  0.888608   0.349645  0.815838  0.489503  \n56  0.947168  0.888608   0.349645  0.815838  0.489503  \n43  0.948065  0.887402   0.346907  0.815838  0.486813  \n47  0.947178  0.879928   0.332346  0.826888  0.474129  \n40  0.391846  0.944576   0.931298  0.201987  0.331973  \n41  0.437805  0.946353   0.945455  0.191529  0.318530  \n53  0.441194  0.946112   0.928571  0.191529  0.317557  \n50  0.441194  0.946112   0.928571  0.191529  0.317557  \n52  0.441194  0.946112   0.928571  0.191529  0.317557  \n51  0.441194  0.946112   0.928571  0.191529  0.317557  \n58  0.985067  0.572755   0.130692  0.977901  0.230569  \n59  0.985067  0.572755   0.130692  0.977901  0.230569  \n48  0.938395  0.068179   0.068179  1.000000  0.127655  \n49  0.882312  0.079687   0.066406  1.000000  0.124541  ",
      "text/html": "<div>\n<style scoped>\n    .dataframe tbody tr th:only-of-type {\n        vertical-align: middle;\n    }\n\n    .dataframe tbody tr th {\n        vertical-align: top;\n    }\n\n    .dataframe thead th {\n        text-align: right;\n    }\n</style>\n<table border=\"1\" class=\"dataframe\">\n  <thead>\n    <tr style=\"text-align: right;\">\n      <th></th>\n      <th>model</th>\n      <th>variant</th>\n      <th>train_acc</th>\n      <th>train_prec</th>\n      <th>train_rec</th>\n      <th>train_f1</th>\n      <th>test_acc</th>\n      <th>test_prec</th>\n      <th>test_rec</th>\n      <th>test_f1</th>\n    </tr>\n  </thead>\n  <tbody>\n    <tr>\n      <th>44</th>\n      <td>MultinomialNB</td>\n      <td>BorderlineSMOTE base</td>\n      <td>0.965943</td>\n      <td>0.957162</td>\n      <td>0.975548</td>\n      <td>0.966267</td>\n      <td>0.928547</td>\n      <td>0.482209</td>\n      <td>0.650662</td>\n      <td>0.553911</td>\n    </tr>\n    <tr>\n      <th>42</th>\n      <td>MultinomialNB</td>\n      <td>SMOTE base</td>\n      <td>0.945099</td>\n      <td>0.917303</td>\n      <td>0.978403</td>\n      <td>0.946869</td>\n      <td>0.898521</td>\n      <td>0.388003</td>\n      <td>0.846026</td>\n      <td>0.532015</td>\n    </tr>\n    <tr>\n      <th>46</th>\n      <td>MultinomialNB</td>\n      <td>ADASYN base</td>\n      <td>0.943311</td>\n      <td>0.910987</td>\n      <td>0.981352</td>\n      <td>0.944861</td>\n      <td>0.890958</td>\n      <td>0.369784</td>\n      <td>0.850993</td>\n      <td>0.515547</td>\n    </tr>\n    <tr>\n      <th>55</th>\n      <td>MultinomialNB</td>\n      <td>ManualyHybrid clean</td>\n      <td>0.934926</td>\n      <td>0.914510</td>\n      <td>0.941612</td>\n      <td>0.927863</td>\n      <td>0.897046</td>\n      <td>0.365601</td>\n      <td>0.779006</td>\n      <td>0.497647</td>\n    </tr>\n    <tr>\n      <th>54</th>\n      <td>MultinomialNB</td>\n      <td>ManualyHybrid base</td>\n      <td>0.934926</td>\n      <td>0.914510</td>\n      <td>0.941612</td>\n      <td>0.927863</td>\n      <td>0.897046</td>\n      <td>0.365601</td>\n      <td>0.779006</td>\n      <td>0.497647</td>\n    </tr>\n    <tr>\n      <th>45</th>\n      <td>MultinomialNB</td>\n      <td>BorderlineSMOTE clean</td>\n      <td>0.947307</td>\n      <td>0.920172</td>\n      <td>0.979597</td>\n      <td>0.948956</td>\n      <td>0.889451</td>\n      <td>0.351351</td>\n      <td>0.813996</td>\n      <td>0.490838</td>\n    </tr>\n    <tr>\n      <th>57</th>\n      <td>MultinomialNB</td>\n      <td>SMOTETomek clean</td>\n      <td>0.945566</td>\n      <td>0.920085</td>\n      <td>0.975893</td>\n      <td>0.947168</td>\n      <td>0.888608</td>\n      <td>0.349645</td>\n      <td>0.815838</td>\n      <td>0.489503</td>\n    </tr>\n    <tr>\n      <th>56</th>\n      <td>MultinomialNB</td>\n      <td>SMOTETomek base</td>\n      <td>0.945566</td>\n      <td>0.920085</td>\n      <td>0.975893</td>\n      <td>0.947168</td>\n      <td>0.888608</td>\n      <td>0.349645</td>\n      <td>0.815838</td>\n      <td>0.489503</td>\n    </tr>\n    <tr>\n      <th>43</th>\n      <td>MultinomialNB</td>\n      <td>SMOTE clean</td>\n      <td>0.946423</td>\n      <td>0.919865</td>\n      <td>0.978049</td>\n      <td>0.948065</td>\n      <td>0.887402</td>\n      <td>0.346907</td>\n      <td>0.815838</td>\n      <td>0.486813</td>\n    </tr>\n    <tr>\n      <th>47</th>\n      <td>MultinomialNB</td>\n      <td>ADASYN clean</td>\n      <td>0.944423</td>\n      <td>0.915308</td>\n      <td>0.981346</td>\n      <td>0.947178</td>\n      <td>0.879928</td>\n      <td>0.332346</td>\n      <td>0.826888</td>\n      <td>0.474129</td>\n    </tr>\n    <tr>\n      <th>40</th>\n      <td>MultinomialNB</td>\n      <td>base</td>\n      <td>0.948043</td>\n      <td>0.969188</td>\n      <td>0.245564</td>\n      <td>0.391846</td>\n      <td>0.944576</td>\n      <td>0.931298</td>\n      <td>0.201987</td>\n      <td>0.331973</td>\n    </tr>\n    <tr>\n      <th>41</th>\n      <td>MultinomialNB</td>\n      <td>clean</td>\n      <td>0.952361</td>\n      <td>0.965054</td>\n      <td>0.283123</td>\n      <td>0.437805</td>\n      <td>0.946353</td>\n      <td>0.945455</td>\n      <td>0.191529</td>\n      <td>0.318530</td>\n    </tr>\n    <tr>\n      <th>53</th>\n      <td>MultinomialNB</td>\n      <td>RandomUnderSampler clean</td>\n      <td>0.952462</td>\n      <td>0.970509</td>\n      <td>0.285489</td>\n      <td>0.441194</td>\n      <td>0.946112</td>\n      <td>0.928571</td>\n      <td>0.191529</td>\n      <td>0.317557</td>\n    </tr>\n    <tr>\n      <th>50</th>\n      <td>MultinomialNB</td>\n      <td>TomekLink base</td>\n      <td>0.952462</td>\n      <td>0.970509</td>\n      <td>0.285489</td>\n      <td>0.441194</td>\n      <td>0.946112</td>\n      <td>0.928571</td>\n      <td>0.191529</td>\n      <td>0.317557</td>\n    </tr>\n    <tr>\n      <th>52</th>\n      <td>MultinomialNB</td>\n      <td>RandomUnderSampler base</td>\n      <td>0.952462</td>\n      <td>0.970509</td>\n      <td>0.285489</td>\n      <td>0.441194</td>\n      <td>0.946112</td>\n      <td>0.928571</td>\n      <td>0.191529</td>\n      <td>0.317557</td>\n    </tr>\n    <tr>\n      <th>51</th>\n      <td>MultinomialNB</td>\n      <td>TomekLink clean</td>\n      <td>0.952462</td>\n      <td>0.970509</td>\n      <td>0.285489</td>\n      <td>0.441194</td>\n      <td>0.946112</td>\n      <td>0.928571</td>\n      <td>0.191529</td>\n      <td>0.317557</td>\n    </tr>\n    <tr>\n      <th>58</th>\n      <td>MultinomialNB</td>\n      <td>SMOTEEN base</td>\n      <td>0.975074</td>\n      <td>0.971156</td>\n      <td>0.999383</td>\n      <td>0.985067</td>\n      <td>0.572755</td>\n      <td>0.130692</td>\n      <td>0.977901</td>\n      <td>0.230569</td>\n    </tr>\n    <tr>\n      <th>59</th>\n      <td>MultinomialNB</td>\n      <td>SMOTEEN clean</td>\n      <td>0.975074</td>\n      <td>0.971156</td>\n      <td>0.999383</td>\n      <td>0.985067</td>\n      <td>0.572755</td>\n      <td>0.130692</td>\n      <td>0.977901</td>\n      <td>0.230569</td>\n    </tr>\n    <tr>\n      <th>48</th>\n      <td>MultinomialNB</td>\n      <td>NearMiss base</td>\n      <td>0.883940</td>\n      <td>0.883940</td>\n      <td>1.000000</td>\n      <td>0.938395</td>\n      <td>0.068179</td>\n      <td>0.068179</td>\n      <td>1.000000</td>\n      <td>0.127655</td>\n    </tr>\n    <tr>\n      <th>49</th>\n      <td>MultinomialNB</td>\n      <td>NearMiss clean</td>\n      <td>0.792000</td>\n      <td>0.789900</td>\n      <td>0.999211</td>\n      <td>0.882312</td>\n      <td>0.079687</td>\n      <td>0.066406</td>\n      <td>1.000000</td>\n      <td>0.124541</td>\n    </tr>\n  </tbody>\n</table>\n</div>"
     },
     "execution_count": 62,
     "metadata": {},
     "output_type": "execute_result"
    }
   ],
   "source": [
    "evaluation[evaluation.model == \"MultinomialNB\"].sort_values(by=[\"test_f1\"], ascending=False)"
   ],
   "metadata": {
    "collapsed": false,
    "ExecuteTime": {
     "end_time": "2024-11-17T15:35:59.878590800Z",
     "start_time": "2024-11-17T15:35:59.828590200Z"
    }
   }
  },
  {
   "cell_type": "markdown",
   "source": [
    "#### Gesamtvergleich"
   ],
   "metadata": {
    "collapsed": false
   }
  },
  {
   "cell_type": "code",
   "execution_count": 63,
   "outputs": [
    {
     "data": {
      "text/plain": "            model                   variant  train_acc  train_prec  train_rec  \\\n24      LinearSVC      BorderlineSMOTE base   0.989617    0.991044   0.988163   \n20      LinearSVC                      base   0.969619    0.692270   0.997871   \n26      LinearSVC               ADASYN base   0.988096    0.977551   0.998887   \n22      LinearSVC                SMOTE base   0.988111    0.978279   0.998391   \n16   RandomForest           SMOTETomek base   0.999917    0.999889   0.999945   \n5    RandomForest     BorderlineSMOTE clean   0.999917    0.999889   0.999945   \n15   RandomForest       ManualyHybrid clean   0.999902    0.999889   0.999889   \n17   RandomForest          SMOTETomek clean   0.999917    0.999889   0.999945   \n3    RandomForest               SMOTE clean   0.999917    0.999889   0.999945   \n13   RandomForest  RandomUnderSampler clean   0.999793    1.000000   0.996845   \n7    RandomForest              ADASYN clean   0.999918    0.999946   0.999893   \n14   RandomForest        ManualyHybrid base   0.999902    1.000000   0.999779   \n12   RandomForest   RandomUnderSampler base   0.999844    1.000000   0.997634   \n1    RandomForest                     clean   0.999793    1.000000   0.996845   \n11   RandomForest           TomekLink clean   0.999844    1.000000   0.997634   \n10   RandomForest            TomekLink base   0.999793    1.000000   0.996845   \n44  MultinomialNB      BorderlineSMOTE base   0.965943    0.957162   0.975548   \n0    RandomForest                      base   0.999855    1.000000   0.997871   \n2    RandomForest                SMOTE base   0.999922    0.999948   0.999896   \n6    RandomForest               ADASYN base   0.999921    0.999947   0.999894   \n42  MultinomialNB                SMOTE base   0.945099    0.917303   0.978403   \n33      LinearSVC  RandomUnderSampler clean   0.968844    0.679012   0.997634   \n32      LinearSVC   RandomUnderSampler base   0.968844    0.679012   0.997634   \n31      LinearSVC           TomekLink clean   0.968844    0.679012   0.997634   \n30      LinearSVC            TomekLink base   0.968844    0.679012   0.997634   \n21      LinearSVC                     clean   0.967655    0.670201   0.996845   \n46  MultinomialNB               ADASYN base   0.943311    0.910987   0.981352   \n25      LinearSVC     BorderlineSMOTE clean   0.983164    0.970799   0.996295   \n37      LinearSVC          SMOTETomek clean   0.983496    0.970716   0.997070   \n36      LinearSVC           SMOTETomek base   0.983496    0.970716   0.997070   \n23      LinearSVC               SMOTE clean   0.983302    0.970199   0.997235   \n55  MultinomialNB       ManualyHybrid clean   0.934926    0.914510   0.941612   \n54  MultinomialNB        ManualyHybrid base   0.934926    0.914510   0.941612   \n27      LinearSVC              ADASYN clean   0.982962    0.970168   0.997105   \n45  MultinomialNB     BorderlineSMOTE clean   0.947307    0.920172   0.979597   \n56  MultinomialNB           SMOTETomek base   0.945566    0.920085   0.975893   \n57  MultinomialNB          SMOTETomek clean   0.945566    0.920085   0.975893   \n34      LinearSVC        ManualyHybrid base   0.981274    0.964102   0.994913   \n35      LinearSVC       ManualyHybrid clean   0.981274    0.964102   0.994913   \n43  MultinomialNB               SMOTE clean   0.946423    0.919865   0.978049   \n47  MultinomialNB              ADASYN clean   0.944423    0.915308   0.981346   \n4    RandomForest      BorderlineSMOTE base   0.999922    0.999896   0.999948   \n40  MultinomialNB                      base   0.948043    0.969188   0.245564   \n41  MultinomialNB                     clean   0.952361    0.965054   0.283123   \n50  MultinomialNB            TomekLink base   0.952462    0.970509   0.285489   \n51  MultinomialNB           TomekLink clean   0.952462    0.970509   0.285489   \n52  MultinomialNB   RandomUnderSampler base   0.952462    0.970509   0.285489   \n53  MultinomialNB  RandomUnderSampler clean   0.952462    0.970509   0.285489   \n38      LinearSVC              SMOTEEN base   0.998292    0.998486   0.999439   \n39      LinearSVC             SMOTEEN clean   0.998292    0.998486   0.999439   \n19   RandomForest             SMOTEEN clean   1.000000    1.000000   1.000000   \n18   RandomForest              SMOTEEN base   1.000000    1.000000   1.000000   \n58  MultinomialNB              SMOTEEN base   0.975074    0.971156   0.999383   \n59  MultinomialNB             SMOTEEN clean   0.975074    0.971156   0.999383   \n29      LinearSVC            NearMiss clean   0.952615    0.995012   0.944006   \n9    RandomForest            NearMiss clean   0.998154    1.000000   0.997634   \n28      LinearSVC             NearMiss base   0.967378    0.997799   0.965224   \n8    RandomForest             NearMiss base   0.998118    0.998582   0.999290   \n48  MultinomialNB             NearMiss base   0.883940    0.883940   1.000000   \n49  MultinomialNB            NearMiss clean   0.792000    0.789900   0.999211   \n\n    train_f1  test_acc  test_prec  test_rec   test_f1  \n24  0.989602  0.948075   0.624138  0.599338  0.611486  \n20  0.817442  0.930128   0.491803  0.745033  0.592495  \n26  0.988104  0.933401   0.508333  0.706954  0.591413  \n22  0.988232  0.933627   0.509709  0.695364  0.588235  \n16  0.999917  0.946594   0.595785  0.572744  0.584038  \n5   0.999917  0.947559   0.610204  0.550645  0.578896  \n15  0.999889  0.943822   0.568384  0.589319  0.578662  \n17  0.999917  0.947438   0.609407  0.548803  0.577519  \n3   0.999917  0.945992   0.591876  0.563536  0.577358  \n13  0.998420  0.955395   0.764526  0.460405  0.574713  \n7   0.999920  0.945389   0.586207  0.563536  0.574648  \n14  0.999889  0.942495   0.558099  0.583794  0.570657  \n12  0.998816  0.955756   0.791391  0.440147  0.565680  \n1   0.998420  0.955274   0.782895  0.438306  0.561983  \n11  0.998816  0.954069   0.751553  0.445672  0.559538  \n10  0.998420  0.953828   0.746914  0.445672  0.558247  \n44  0.966267  0.928547   0.482209  0.650662  0.553911  \n0   0.998934  0.955074   0.875912  0.397351  0.546697  \n2   0.999922  0.951349   0.759760  0.418874  0.540021  \n6   0.999921  0.951123   0.761468  0.412252  0.534909  \n42  0.946869  0.898521   0.388003  0.846026  0.532015  \n33  0.808049  0.917661   0.420455  0.681400  0.520028  \n32  0.808049  0.917661   0.420455  0.681400  0.520028  \n31  0.808049  0.917661   0.420455  0.681400  0.520028  \n30  0.808049  0.917661   0.420455  0.681400  0.520028  \n21  0.801522  0.918143   0.421839  0.675875  0.519462  \n46  0.944861  0.890958   0.369784  0.850993  0.515547  \n25  0.983382  0.912477   0.400218  0.675875  0.502740  \n37  0.983717  0.911513   0.397642  0.683241  0.502710  \n36  0.983717  0.911513   0.397642  0.683241  0.502710  \n23  0.983531  0.910066   0.392365  0.681400  0.497981  \n55  0.927863  0.897046   0.365601  0.779006  0.497647  \n54  0.927863  0.897046   0.365601  0.779006  0.497647  \n27  0.983452  0.908499   0.388199  0.690608  0.497018  \n45  0.948956  0.889451   0.351351  0.813996  0.490838  \n56  0.947168  0.888608   0.349645  0.815838  0.489503  \n57  0.947168  0.888608   0.349645  0.815838  0.489503  \n34  0.979265  0.902230   0.371648  0.714549  0.488973  \n35  0.979265  0.902230   0.371648  0.714549  0.488973  \n43  0.948065  0.887402   0.346907  0.815838  0.486813  \n47  0.947178  0.879928   0.332346  0.826888  0.474129  \n4   0.999922  0.950333   0.879630  0.314570  0.463415  \n40  0.391846  0.944576   0.931298  0.201987  0.331973  \n41  0.437805  0.946353   0.945455  0.191529  0.318530  \n50  0.441194  0.946112   0.928571  0.191529  0.317557  \n51  0.441194  0.946112   0.928571  0.191529  0.317557  \n52  0.441194  0.946112   0.928571  0.191529  0.317557  \n53  0.441194  0.946112   0.928571  0.191529  0.317557  \n38  0.998962  0.743701   0.191182  0.902394  0.315518  \n39  0.998962  0.743701   0.191182  0.902394  0.315518  \n19  1.000000  0.748282   0.180653  0.804788  0.295071  \n18  1.000000  0.745148   0.178995  0.806630  0.292977  \n58  0.985067  0.572755   0.130692  0.977901  0.230569  \n59  0.985067  0.572755   0.130692  0.977901  0.230569  \n29  0.968839  0.563593   0.117764  0.872928  0.207531  \n9   0.998816  0.467511   0.097632  0.865562  0.175471  \n28  0.981241  0.386274   0.093250  0.917219  0.169290  \n8   0.998936  0.236934   0.079853  0.968543  0.147541  \n48  0.938395  0.068179   0.068179  1.000000  0.127655  \n49  0.882312  0.079687   0.066406  1.000000  0.124541  ",
      "text/html": "<div>\n<style scoped>\n    .dataframe tbody tr th:only-of-type {\n        vertical-align: middle;\n    }\n\n    .dataframe tbody tr th {\n        vertical-align: top;\n    }\n\n    .dataframe thead th {\n        text-align: right;\n    }\n</style>\n<table border=\"1\" class=\"dataframe\">\n  <thead>\n    <tr style=\"text-align: right;\">\n      <th></th>\n      <th>model</th>\n      <th>variant</th>\n      <th>train_acc</th>\n      <th>train_prec</th>\n      <th>train_rec</th>\n      <th>train_f1</th>\n      <th>test_acc</th>\n      <th>test_prec</th>\n      <th>test_rec</th>\n      <th>test_f1</th>\n    </tr>\n  </thead>\n  <tbody>\n    <tr>\n      <th>24</th>\n      <td>LinearSVC</td>\n      <td>BorderlineSMOTE base</td>\n      <td>0.989617</td>\n      <td>0.991044</td>\n      <td>0.988163</td>\n      <td>0.989602</td>\n      <td>0.948075</td>\n      <td>0.624138</td>\n      <td>0.599338</td>\n      <td>0.611486</td>\n    </tr>\n    <tr>\n      <th>20</th>\n      <td>LinearSVC</td>\n      <td>base</td>\n      <td>0.969619</td>\n      <td>0.692270</td>\n      <td>0.997871</td>\n      <td>0.817442</td>\n      <td>0.930128</td>\n      <td>0.491803</td>\n      <td>0.745033</td>\n      <td>0.592495</td>\n    </tr>\n    <tr>\n      <th>26</th>\n      <td>LinearSVC</td>\n      <td>ADASYN base</td>\n      <td>0.988096</td>\n      <td>0.977551</td>\n      <td>0.998887</td>\n      <td>0.988104</td>\n      <td>0.933401</td>\n      <td>0.508333</td>\n      <td>0.706954</td>\n      <td>0.591413</td>\n    </tr>\n    <tr>\n      <th>22</th>\n      <td>LinearSVC</td>\n      <td>SMOTE base</td>\n      <td>0.988111</td>\n      <td>0.978279</td>\n      <td>0.998391</td>\n      <td>0.988232</td>\n      <td>0.933627</td>\n      <td>0.509709</td>\n      <td>0.695364</td>\n      <td>0.588235</td>\n    </tr>\n    <tr>\n      <th>16</th>\n      <td>RandomForest</td>\n      <td>SMOTETomek base</td>\n      <td>0.999917</td>\n      <td>0.999889</td>\n      <td>0.999945</td>\n      <td>0.999917</td>\n      <td>0.946594</td>\n      <td>0.595785</td>\n      <td>0.572744</td>\n      <td>0.584038</td>\n    </tr>\n    <tr>\n      <th>5</th>\n      <td>RandomForest</td>\n      <td>BorderlineSMOTE clean</td>\n      <td>0.999917</td>\n      <td>0.999889</td>\n      <td>0.999945</td>\n      <td>0.999917</td>\n      <td>0.947559</td>\n      <td>0.610204</td>\n      <td>0.550645</td>\n      <td>0.578896</td>\n    </tr>\n    <tr>\n      <th>15</th>\n      <td>RandomForest</td>\n      <td>ManualyHybrid clean</td>\n      <td>0.999902</td>\n      <td>0.999889</td>\n      <td>0.999889</td>\n      <td>0.999889</td>\n      <td>0.943822</td>\n      <td>0.568384</td>\n      <td>0.589319</td>\n      <td>0.578662</td>\n    </tr>\n    <tr>\n      <th>17</th>\n      <td>RandomForest</td>\n      <td>SMOTETomek clean</td>\n      <td>0.999917</td>\n      <td>0.999889</td>\n      <td>0.999945</td>\n      <td>0.999917</td>\n      <td>0.947438</td>\n      <td>0.609407</td>\n      <td>0.548803</td>\n      <td>0.577519</td>\n    </tr>\n    <tr>\n      <th>3</th>\n      <td>RandomForest</td>\n      <td>SMOTE clean</td>\n      <td>0.999917</td>\n      <td>0.999889</td>\n      <td>0.999945</td>\n      <td>0.999917</td>\n      <td>0.945992</td>\n      <td>0.591876</td>\n      <td>0.563536</td>\n      <td>0.577358</td>\n    </tr>\n    <tr>\n      <th>13</th>\n      <td>RandomForest</td>\n      <td>RandomUnderSampler clean</td>\n      <td>0.999793</td>\n      <td>1.000000</td>\n      <td>0.996845</td>\n      <td>0.998420</td>\n      <td>0.955395</td>\n      <td>0.764526</td>\n      <td>0.460405</td>\n      <td>0.574713</td>\n    </tr>\n    <tr>\n      <th>7</th>\n      <td>RandomForest</td>\n      <td>ADASYN clean</td>\n      <td>0.999918</td>\n      <td>0.999946</td>\n      <td>0.999893</td>\n      <td>0.999920</td>\n      <td>0.945389</td>\n      <td>0.586207</td>\n      <td>0.563536</td>\n      <td>0.574648</td>\n    </tr>\n    <tr>\n      <th>14</th>\n      <td>RandomForest</td>\n      <td>ManualyHybrid base</td>\n      <td>0.999902</td>\n      <td>1.000000</td>\n      <td>0.999779</td>\n      <td>0.999889</td>\n      <td>0.942495</td>\n      <td>0.558099</td>\n      <td>0.583794</td>\n      <td>0.570657</td>\n    </tr>\n    <tr>\n      <th>12</th>\n      <td>RandomForest</td>\n      <td>RandomUnderSampler base</td>\n      <td>0.999844</td>\n      <td>1.000000</td>\n      <td>0.997634</td>\n      <td>0.998816</td>\n      <td>0.955756</td>\n      <td>0.791391</td>\n      <td>0.440147</td>\n      <td>0.565680</td>\n    </tr>\n    <tr>\n      <th>1</th>\n      <td>RandomForest</td>\n      <td>clean</td>\n      <td>0.999793</td>\n      <td>1.000000</td>\n      <td>0.996845</td>\n      <td>0.998420</td>\n      <td>0.955274</td>\n      <td>0.782895</td>\n      <td>0.438306</td>\n      <td>0.561983</td>\n    </tr>\n    <tr>\n      <th>11</th>\n      <td>RandomForest</td>\n      <td>TomekLink clean</td>\n      <td>0.999844</td>\n      <td>1.000000</td>\n      <td>0.997634</td>\n      <td>0.998816</td>\n      <td>0.954069</td>\n      <td>0.751553</td>\n      <td>0.445672</td>\n      <td>0.559538</td>\n    </tr>\n    <tr>\n      <th>10</th>\n      <td>RandomForest</td>\n      <td>TomekLink base</td>\n      <td>0.999793</td>\n      <td>1.000000</td>\n      <td>0.996845</td>\n      <td>0.998420</td>\n      <td>0.953828</td>\n      <td>0.746914</td>\n      <td>0.445672</td>\n      <td>0.558247</td>\n    </tr>\n    <tr>\n      <th>44</th>\n      <td>MultinomialNB</td>\n      <td>BorderlineSMOTE base</td>\n      <td>0.965943</td>\n      <td>0.957162</td>\n      <td>0.975548</td>\n      <td>0.966267</td>\n      <td>0.928547</td>\n      <td>0.482209</td>\n      <td>0.650662</td>\n      <td>0.553911</td>\n    </tr>\n    <tr>\n      <th>0</th>\n      <td>RandomForest</td>\n      <td>base</td>\n      <td>0.999855</td>\n      <td>1.000000</td>\n      <td>0.997871</td>\n      <td>0.998934</td>\n      <td>0.955074</td>\n      <td>0.875912</td>\n      <td>0.397351</td>\n      <td>0.546697</td>\n    </tr>\n    <tr>\n      <th>2</th>\n      <td>RandomForest</td>\n      <td>SMOTE base</td>\n      <td>0.999922</td>\n      <td>0.999948</td>\n      <td>0.999896</td>\n      <td>0.999922</td>\n      <td>0.951349</td>\n      <td>0.759760</td>\n      <td>0.418874</td>\n      <td>0.540021</td>\n    </tr>\n    <tr>\n      <th>6</th>\n      <td>RandomForest</td>\n      <td>ADASYN base</td>\n      <td>0.999921</td>\n      <td>0.999947</td>\n      <td>0.999894</td>\n      <td>0.999921</td>\n      <td>0.951123</td>\n      <td>0.761468</td>\n      <td>0.412252</td>\n      <td>0.534909</td>\n    </tr>\n    <tr>\n      <th>42</th>\n      <td>MultinomialNB</td>\n      <td>SMOTE base</td>\n      <td>0.945099</td>\n      <td>0.917303</td>\n      <td>0.978403</td>\n      <td>0.946869</td>\n      <td>0.898521</td>\n      <td>0.388003</td>\n      <td>0.846026</td>\n      <td>0.532015</td>\n    </tr>\n    <tr>\n      <th>33</th>\n      <td>LinearSVC</td>\n      <td>RandomUnderSampler clean</td>\n      <td>0.968844</td>\n      <td>0.679012</td>\n      <td>0.997634</td>\n      <td>0.808049</td>\n      <td>0.917661</td>\n      <td>0.420455</td>\n      <td>0.681400</td>\n      <td>0.520028</td>\n    </tr>\n    <tr>\n      <th>32</th>\n      <td>LinearSVC</td>\n      <td>RandomUnderSampler base</td>\n      <td>0.968844</td>\n      <td>0.679012</td>\n      <td>0.997634</td>\n      <td>0.808049</td>\n      <td>0.917661</td>\n      <td>0.420455</td>\n      <td>0.681400</td>\n      <td>0.520028</td>\n    </tr>\n    <tr>\n      <th>31</th>\n      <td>LinearSVC</td>\n      <td>TomekLink clean</td>\n      <td>0.968844</td>\n      <td>0.679012</td>\n      <td>0.997634</td>\n      <td>0.808049</td>\n      <td>0.917661</td>\n      <td>0.420455</td>\n      <td>0.681400</td>\n      <td>0.520028</td>\n    </tr>\n    <tr>\n      <th>30</th>\n      <td>LinearSVC</td>\n      <td>TomekLink base</td>\n      <td>0.968844</td>\n      <td>0.679012</td>\n      <td>0.997634</td>\n      <td>0.808049</td>\n      <td>0.917661</td>\n      <td>0.420455</td>\n      <td>0.681400</td>\n      <td>0.520028</td>\n    </tr>\n    <tr>\n      <th>21</th>\n      <td>LinearSVC</td>\n      <td>clean</td>\n      <td>0.967655</td>\n      <td>0.670201</td>\n      <td>0.996845</td>\n      <td>0.801522</td>\n      <td>0.918143</td>\n      <td>0.421839</td>\n      <td>0.675875</td>\n      <td>0.519462</td>\n    </tr>\n    <tr>\n      <th>46</th>\n      <td>MultinomialNB</td>\n      <td>ADASYN base</td>\n      <td>0.943311</td>\n      <td>0.910987</td>\n      <td>0.981352</td>\n      <td>0.944861</td>\n      <td>0.890958</td>\n      <td>0.369784</td>\n      <td>0.850993</td>\n      <td>0.515547</td>\n    </tr>\n    <tr>\n      <th>25</th>\n      <td>LinearSVC</td>\n      <td>BorderlineSMOTE clean</td>\n      <td>0.983164</td>\n      <td>0.970799</td>\n      <td>0.996295</td>\n      <td>0.983382</td>\n      <td>0.912477</td>\n      <td>0.400218</td>\n      <td>0.675875</td>\n      <td>0.502740</td>\n    </tr>\n    <tr>\n      <th>37</th>\n      <td>LinearSVC</td>\n      <td>SMOTETomek clean</td>\n      <td>0.983496</td>\n      <td>0.970716</td>\n      <td>0.997070</td>\n      <td>0.983717</td>\n      <td>0.911513</td>\n      <td>0.397642</td>\n      <td>0.683241</td>\n      <td>0.502710</td>\n    </tr>\n    <tr>\n      <th>36</th>\n      <td>LinearSVC</td>\n      <td>SMOTETomek base</td>\n      <td>0.983496</td>\n      <td>0.970716</td>\n      <td>0.997070</td>\n      <td>0.983717</td>\n      <td>0.911513</td>\n      <td>0.397642</td>\n      <td>0.683241</td>\n      <td>0.502710</td>\n    </tr>\n    <tr>\n      <th>23</th>\n      <td>LinearSVC</td>\n      <td>SMOTE clean</td>\n      <td>0.983302</td>\n      <td>0.970199</td>\n      <td>0.997235</td>\n      <td>0.983531</td>\n      <td>0.910066</td>\n      <td>0.392365</td>\n      <td>0.681400</td>\n      <td>0.497981</td>\n    </tr>\n    <tr>\n      <th>55</th>\n      <td>MultinomialNB</td>\n      <td>ManualyHybrid clean</td>\n      <td>0.934926</td>\n      <td>0.914510</td>\n      <td>0.941612</td>\n      <td>0.927863</td>\n      <td>0.897046</td>\n      <td>0.365601</td>\n      <td>0.779006</td>\n      <td>0.497647</td>\n    </tr>\n    <tr>\n      <th>54</th>\n      <td>MultinomialNB</td>\n      <td>ManualyHybrid base</td>\n      <td>0.934926</td>\n      <td>0.914510</td>\n      <td>0.941612</td>\n      <td>0.927863</td>\n      <td>0.897046</td>\n      <td>0.365601</td>\n      <td>0.779006</td>\n      <td>0.497647</td>\n    </tr>\n    <tr>\n      <th>27</th>\n      <td>LinearSVC</td>\n      <td>ADASYN clean</td>\n      <td>0.982962</td>\n      <td>0.970168</td>\n      <td>0.997105</td>\n      <td>0.983452</td>\n      <td>0.908499</td>\n      <td>0.388199</td>\n      <td>0.690608</td>\n      <td>0.497018</td>\n    </tr>\n    <tr>\n      <th>45</th>\n      <td>MultinomialNB</td>\n      <td>BorderlineSMOTE clean</td>\n      <td>0.947307</td>\n      <td>0.920172</td>\n      <td>0.979597</td>\n      <td>0.948956</td>\n      <td>0.889451</td>\n      <td>0.351351</td>\n      <td>0.813996</td>\n      <td>0.490838</td>\n    </tr>\n    <tr>\n      <th>56</th>\n      <td>MultinomialNB</td>\n      <td>SMOTETomek base</td>\n      <td>0.945566</td>\n      <td>0.920085</td>\n      <td>0.975893</td>\n      <td>0.947168</td>\n      <td>0.888608</td>\n      <td>0.349645</td>\n      <td>0.815838</td>\n      <td>0.489503</td>\n    </tr>\n    <tr>\n      <th>57</th>\n      <td>MultinomialNB</td>\n      <td>SMOTETomek clean</td>\n      <td>0.945566</td>\n      <td>0.920085</td>\n      <td>0.975893</td>\n      <td>0.947168</td>\n      <td>0.888608</td>\n      <td>0.349645</td>\n      <td>0.815838</td>\n      <td>0.489503</td>\n    </tr>\n    <tr>\n      <th>34</th>\n      <td>LinearSVC</td>\n      <td>ManualyHybrid base</td>\n      <td>0.981274</td>\n      <td>0.964102</td>\n      <td>0.994913</td>\n      <td>0.979265</td>\n      <td>0.902230</td>\n      <td>0.371648</td>\n      <td>0.714549</td>\n      <td>0.488973</td>\n    </tr>\n    <tr>\n      <th>35</th>\n      <td>LinearSVC</td>\n      <td>ManualyHybrid clean</td>\n      <td>0.981274</td>\n      <td>0.964102</td>\n      <td>0.994913</td>\n      <td>0.979265</td>\n      <td>0.902230</td>\n      <td>0.371648</td>\n      <td>0.714549</td>\n      <td>0.488973</td>\n    </tr>\n    <tr>\n      <th>43</th>\n      <td>MultinomialNB</td>\n      <td>SMOTE clean</td>\n      <td>0.946423</td>\n      <td>0.919865</td>\n      <td>0.978049</td>\n      <td>0.948065</td>\n      <td>0.887402</td>\n      <td>0.346907</td>\n      <td>0.815838</td>\n      <td>0.486813</td>\n    </tr>\n    <tr>\n      <th>47</th>\n      <td>MultinomialNB</td>\n      <td>ADASYN clean</td>\n      <td>0.944423</td>\n      <td>0.915308</td>\n      <td>0.981346</td>\n      <td>0.947178</td>\n      <td>0.879928</td>\n      <td>0.332346</td>\n      <td>0.826888</td>\n      <td>0.474129</td>\n    </tr>\n    <tr>\n      <th>4</th>\n      <td>RandomForest</td>\n      <td>BorderlineSMOTE base</td>\n      <td>0.999922</td>\n      <td>0.999896</td>\n      <td>0.999948</td>\n      <td>0.999922</td>\n      <td>0.950333</td>\n      <td>0.879630</td>\n      <td>0.314570</td>\n      <td>0.463415</td>\n    </tr>\n    <tr>\n      <th>40</th>\n      <td>MultinomialNB</td>\n      <td>base</td>\n      <td>0.948043</td>\n      <td>0.969188</td>\n      <td>0.245564</td>\n      <td>0.391846</td>\n      <td>0.944576</td>\n      <td>0.931298</td>\n      <td>0.201987</td>\n      <td>0.331973</td>\n    </tr>\n    <tr>\n      <th>41</th>\n      <td>MultinomialNB</td>\n      <td>clean</td>\n      <td>0.952361</td>\n      <td>0.965054</td>\n      <td>0.283123</td>\n      <td>0.437805</td>\n      <td>0.946353</td>\n      <td>0.945455</td>\n      <td>0.191529</td>\n      <td>0.318530</td>\n    </tr>\n    <tr>\n      <th>50</th>\n      <td>MultinomialNB</td>\n      <td>TomekLink base</td>\n      <td>0.952462</td>\n      <td>0.970509</td>\n      <td>0.285489</td>\n      <td>0.441194</td>\n      <td>0.946112</td>\n      <td>0.928571</td>\n      <td>0.191529</td>\n      <td>0.317557</td>\n    </tr>\n    <tr>\n      <th>51</th>\n      <td>MultinomialNB</td>\n      <td>TomekLink clean</td>\n      <td>0.952462</td>\n      <td>0.970509</td>\n      <td>0.285489</td>\n      <td>0.441194</td>\n      <td>0.946112</td>\n      <td>0.928571</td>\n      <td>0.191529</td>\n      <td>0.317557</td>\n    </tr>\n    <tr>\n      <th>52</th>\n      <td>MultinomialNB</td>\n      <td>RandomUnderSampler base</td>\n      <td>0.952462</td>\n      <td>0.970509</td>\n      <td>0.285489</td>\n      <td>0.441194</td>\n      <td>0.946112</td>\n      <td>0.928571</td>\n      <td>0.191529</td>\n      <td>0.317557</td>\n    </tr>\n    <tr>\n      <th>53</th>\n      <td>MultinomialNB</td>\n      <td>RandomUnderSampler clean</td>\n      <td>0.952462</td>\n      <td>0.970509</td>\n      <td>0.285489</td>\n      <td>0.441194</td>\n      <td>0.946112</td>\n      <td>0.928571</td>\n      <td>0.191529</td>\n      <td>0.317557</td>\n    </tr>\n    <tr>\n      <th>38</th>\n      <td>LinearSVC</td>\n      <td>SMOTEEN base</td>\n      <td>0.998292</td>\n      <td>0.998486</td>\n      <td>0.999439</td>\n      <td>0.998962</td>\n      <td>0.743701</td>\n      <td>0.191182</td>\n      <td>0.902394</td>\n      <td>0.315518</td>\n    </tr>\n    <tr>\n      <th>39</th>\n      <td>LinearSVC</td>\n      <td>SMOTEEN clean</td>\n      <td>0.998292</td>\n      <td>0.998486</td>\n      <td>0.999439</td>\n      <td>0.998962</td>\n      <td>0.743701</td>\n      <td>0.191182</td>\n      <td>0.902394</td>\n      <td>0.315518</td>\n    </tr>\n    <tr>\n      <th>19</th>\n      <td>RandomForest</td>\n      <td>SMOTEEN clean</td>\n      <td>1.000000</td>\n      <td>1.000000</td>\n      <td>1.000000</td>\n      <td>1.000000</td>\n      <td>0.748282</td>\n      <td>0.180653</td>\n      <td>0.804788</td>\n      <td>0.295071</td>\n    </tr>\n    <tr>\n      <th>18</th>\n      <td>RandomForest</td>\n      <td>SMOTEEN base</td>\n      <td>1.000000</td>\n      <td>1.000000</td>\n      <td>1.000000</td>\n      <td>1.000000</td>\n      <td>0.745148</td>\n      <td>0.178995</td>\n      <td>0.806630</td>\n      <td>0.292977</td>\n    </tr>\n    <tr>\n      <th>58</th>\n      <td>MultinomialNB</td>\n      <td>SMOTEEN base</td>\n      <td>0.975074</td>\n      <td>0.971156</td>\n      <td>0.999383</td>\n      <td>0.985067</td>\n      <td>0.572755</td>\n      <td>0.130692</td>\n      <td>0.977901</td>\n      <td>0.230569</td>\n    </tr>\n    <tr>\n      <th>59</th>\n      <td>MultinomialNB</td>\n      <td>SMOTEEN clean</td>\n      <td>0.975074</td>\n      <td>0.971156</td>\n      <td>0.999383</td>\n      <td>0.985067</td>\n      <td>0.572755</td>\n      <td>0.130692</td>\n      <td>0.977901</td>\n      <td>0.230569</td>\n    </tr>\n    <tr>\n      <th>29</th>\n      <td>LinearSVC</td>\n      <td>NearMiss clean</td>\n      <td>0.952615</td>\n      <td>0.995012</td>\n      <td>0.944006</td>\n      <td>0.968839</td>\n      <td>0.563593</td>\n      <td>0.117764</td>\n      <td>0.872928</td>\n      <td>0.207531</td>\n    </tr>\n    <tr>\n      <th>9</th>\n      <td>RandomForest</td>\n      <td>NearMiss clean</td>\n      <td>0.998154</td>\n      <td>1.000000</td>\n      <td>0.997634</td>\n      <td>0.998816</td>\n      <td>0.467511</td>\n      <td>0.097632</td>\n      <td>0.865562</td>\n      <td>0.175471</td>\n    </tr>\n    <tr>\n      <th>28</th>\n      <td>LinearSVC</td>\n      <td>NearMiss base</td>\n      <td>0.967378</td>\n      <td>0.997799</td>\n      <td>0.965224</td>\n      <td>0.981241</td>\n      <td>0.386274</td>\n      <td>0.093250</td>\n      <td>0.917219</td>\n      <td>0.169290</td>\n    </tr>\n    <tr>\n      <th>8</th>\n      <td>RandomForest</td>\n      <td>NearMiss base</td>\n      <td>0.998118</td>\n      <td>0.998582</td>\n      <td>0.999290</td>\n      <td>0.998936</td>\n      <td>0.236934</td>\n      <td>0.079853</td>\n      <td>0.968543</td>\n      <td>0.147541</td>\n    </tr>\n    <tr>\n      <th>48</th>\n      <td>MultinomialNB</td>\n      <td>NearMiss base</td>\n      <td>0.883940</td>\n      <td>0.883940</td>\n      <td>1.000000</td>\n      <td>0.938395</td>\n      <td>0.068179</td>\n      <td>0.068179</td>\n      <td>1.000000</td>\n      <td>0.127655</td>\n    </tr>\n    <tr>\n      <th>49</th>\n      <td>MultinomialNB</td>\n      <td>NearMiss clean</td>\n      <td>0.792000</td>\n      <td>0.789900</td>\n      <td>0.999211</td>\n      <td>0.882312</td>\n      <td>0.079687</td>\n      <td>0.066406</td>\n      <td>1.000000</td>\n      <td>0.124541</td>\n    </tr>\n  </tbody>\n</table>\n</div>"
     },
     "execution_count": 63,
     "metadata": {},
     "output_type": "execute_result"
    }
   ],
   "source": [
    "evaluation.sort_values(by=[\"test_f1\"], ascending=False)"
   ],
   "metadata": {
    "collapsed": false,
    "ExecuteTime": {
     "end_time": "2024-11-17T15:35:59.934591900Z",
     "start_time": "2024-11-17T15:35:59.859596Z"
    }
   }
  },
  {
   "cell_type": "code",
   "execution_count": 64,
   "outputs": [
    {
     "data": {
      "text/plain": "            model                   variant  train_acc  train_prec  train_rec  \\\n41  MultinomialNB                     clean   0.952361    0.965054   0.283123   \n40  MultinomialNB                      base   0.948043    0.969188   0.245564   \n52  MultinomialNB   RandomUnderSampler base   0.952462    0.970509   0.285489   \n50  MultinomialNB            TomekLink base   0.952462    0.970509   0.285489   \n51  MultinomialNB           TomekLink clean   0.952462    0.970509   0.285489   \n53  MultinomialNB  RandomUnderSampler clean   0.952462    0.970509   0.285489   \n4    RandomForest      BorderlineSMOTE base   0.999922    0.999896   0.999948   \n0    RandomForest                      base   0.999855    1.000000   0.997871   \n12   RandomForest   RandomUnderSampler base   0.999844    1.000000   0.997634   \n1    RandomForest                     clean   0.999793    1.000000   0.996845   \n13   RandomForest  RandomUnderSampler clean   0.999793    1.000000   0.996845   \n6    RandomForest               ADASYN base   0.999921    0.999947   0.999894   \n2    RandomForest                SMOTE base   0.999922    0.999948   0.999896   \n11   RandomForest           TomekLink clean   0.999844    1.000000   0.997634   \n10   RandomForest            TomekLink base   0.999793    1.000000   0.996845   \n24      LinearSVC      BorderlineSMOTE base   0.989617    0.991044   0.988163   \n5    RandomForest     BorderlineSMOTE clean   0.999917    0.999889   0.999945   \n17   RandomForest          SMOTETomek clean   0.999917    0.999889   0.999945   \n16   RandomForest           SMOTETomek base   0.999917    0.999889   0.999945   \n3    RandomForest               SMOTE clean   0.999917    0.999889   0.999945   \n7    RandomForest              ADASYN clean   0.999918    0.999946   0.999893   \n15   RandomForest       ManualyHybrid clean   0.999902    0.999889   0.999889   \n14   RandomForest        ManualyHybrid base   0.999902    1.000000   0.999779   \n22      LinearSVC                SMOTE base   0.988111    0.978279   0.998391   \n26      LinearSVC               ADASYN base   0.988096    0.977551   0.998887   \n20      LinearSVC                      base   0.969619    0.692270   0.997871   \n44  MultinomialNB      BorderlineSMOTE base   0.965943    0.957162   0.975548   \n21      LinearSVC                     clean   0.967655    0.670201   0.996845   \n31      LinearSVC           TomekLink clean   0.968844    0.679012   0.997634   \n33      LinearSVC  RandomUnderSampler clean   0.968844    0.679012   0.997634   \n32      LinearSVC   RandomUnderSampler base   0.968844    0.679012   0.997634   \n30      LinearSVC            TomekLink base   0.968844    0.679012   0.997634   \n25      LinearSVC     BorderlineSMOTE clean   0.983164    0.970799   0.996295   \n36      LinearSVC           SMOTETomek base   0.983496    0.970716   0.997070   \n37      LinearSVC          SMOTETomek clean   0.983496    0.970716   0.997070   \n23      LinearSVC               SMOTE clean   0.983302    0.970199   0.997235   \n27      LinearSVC              ADASYN clean   0.982962    0.970168   0.997105   \n42  MultinomialNB                SMOTE base   0.945099    0.917303   0.978403   \n34      LinearSVC        ManualyHybrid base   0.981274    0.964102   0.994913   \n35      LinearSVC       ManualyHybrid clean   0.981274    0.964102   0.994913   \n46  MultinomialNB               ADASYN base   0.943311    0.910987   0.981352   \n54  MultinomialNB        ManualyHybrid base   0.934926    0.914510   0.941612   \n55  MultinomialNB       ManualyHybrid clean   0.934926    0.914510   0.941612   \n45  MultinomialNB     BorderlineSMOTE clean   0.947307    0.920172   0.979597   \n57  MultinomialNB          SMOTETomek clean   0.945566    0.920085   0.975893   \n56  MultinomialNB           SMOTETomek base   0.945566    0.920085   0.975893   \n43  MultinomialNB               SMOTE clean   0.946423    0.919865   0.978049   \n47  MultinomialNB              ADASYN clean   0.944423    0.915308   0.981346   \n39      LinearSVC             SMOTEEN clean   0.998292    0.998486   0.999439   \n38      LinearSVC              SMOTEEN base   0.998292    0.998486   0.999439   \n19   RandomForest             SMOTEEN clean   1.000000    1.000000   1.000000   \n18   RandomForest              SMOTEEN base   1.000000    1.000000   1.000000   \n58  MultinomialNB              SMOTEEN base   0.975074    0.971156   0.999383   \n59  MultinomialNB             SMOTEEN clean   0.975074    0.971156   0.999383   \n29      LinearSVC            NearMiss clean   0.952615    0.995012   0.944006   \n9    RandomForest            NearMiss clean   0.998154    1.000000   0.997634   \n28      LinearSVC             NearMiss base   0.967378    0.997799   0.965224   \n8    RandomForest             NearMiss base   0.998118    0.998582   0.999290   \n48  MultinomialNB             NearMiss base   0.883940    0.883940   1.000000   \n49  MultinomialNB            NearMiss clean   0.792000    0.789900   0.999211   \n\n    train_f1  test_acc  test_prec  test_rec   test_f1  \n41  0.437805  0.946353   0.945455  0.191529  0.318530  \n40  0.391846  0.944576   0.931298  0.201987  0.331973  \n52  0.441194  0.946112   0.928571  0.191529  0.317557  \n50  0.441194  0.946112   0.928571  0.191529  0.317557  \n51  0.441194  0.946112   0.928571  0.191529  0.317557  \n53  0.441194  0.946112   0.928571  0.191529  0.317557  \n4   0.999922  0.950333   0.879630  0.314570  0.463415  \n0   0.998934  0.955074   0.875912  0.397351  0.546697  \n12  0.998816  0.955756   0.791391  0.440147  0.565680  \n1   0.998420  0.955274   0.782895  0.438306  0.561983  \n13  0.998420  0.955395   0.764526  0.460405  0.574713  \n6   0.999921  0.951123   0.761468  0.412252  0.534909  \n2   0.999922  0.951349   0.759760  0.418874  0.540021  \n11  0.998816  0.954069   0.751553  0.445672  0.559538  \n10  0.998420  0.953828   0.746914  0.445672  0.558247  \n24  0.989602  0.948075   0.624138  0.599338  0.611486  \n5   0.999917  0.947559   0.610204  0.550645  0.578896  \n17  0.999917  0.947438   0.609407  0.548803  0.577519  \n16  0.999917  0.946594   0.595785  0.572744  0.584038  \n3   0.999917  0.945992   0.591876  0.563536  0.577358  \n7   0.999920  0.945389   0.586207  0.563536  0.574648  \n15  0.999889  0.943822   0.568384  0.589319  0.578662  \n14  0.999889  0.942495   0.558099  0.583794  0.570657  \n22  0.988232  0.933627   0.509709  0.695364  0.588235  \n26  0.988104  0.933401   0.508333  0.706954  0.591413  \n20  0.817442  0.930128   0.491803  0.745033  0.592495  \n44  0.966267  0.928547   0.482209  0.650662  0.553911  \n21  0.801522  0.918143   0.421839  0.675875  0.519462  \n31  0.808049  0.917661   0.420455  0.681400  0.520028  \n33  0.808049  0.917661   0.420455  0.681400  0.520028  \n32  0.808049  0.917661   0.420455  0.681400  0.520028  \n30  0.808049  0.917661   0.420455  0.681400  0.520028  \n25  0.983382  0.912477   0.400218  0.675875  0.502740  \n36  0.983717  0.911513   0.397642  0.683241  0.502710  \n37  0.983717  0.911513   0.397642  0.683241  0.502710  \n23  0.983531  0.910066   0.392365  0.681400  0.497981  \n27  0.983452  0.908499   0.388199  0.690608  0.497018  \n42  0.946869  0.898521   0.388003  0.846026  0.532015  \n34  0.979265  0.902230   0.371648  0.714549  0.488973  \n35  0.979265  0.902230   0.371648  0.714549  0.488973  \n46  0.944861  0.890958   0.369784  0.850993  0.515547  \n54  0.927863  0.897046   0.365601  0.779006  0.497647  \n55  0.927863  0.897046   0.365601  0.779006  0.497647  \n45  0.948956  0.889451   0.351351  0.813996  0.490838  \n57  0.947168  0.888608   0.349645  0.815838  0.489503  \n56  0.947168  0.888608   0.349645  0.815838  0.489503  \n43  0.948065  0.887402   0.346907  0.815838  0.486813  \n47  0.947178  0.879928   0.332346  0.826888  0.474129  \n39  0.998962  0.743701   0.191182  0.902394  0.315518  \n38  0.998962  0.743701   0.191182  0.902394  0.315518  \n19  1.000000  0.748282   0.180653  0.804788  0.295071  \n18  1.000000  0.745148   0.178995  0.806630  0.292977  \n58  0.985067  0.572755   0.130692  0.977901  0.230569  \n59  0.985067  0.572755   0.130692  0.977901  0.230569  \n29  0.968839  0.563593   0.117764  0.872928  0.207531  \n9   0.998816  0.467511   0.097632  0.865562  0.175471  \n28  0.981241  0.386274   0.093250  0.917219  0.169290  \n8   0.998936  0.236934   0.079853  0.968543  0.147541  \n48  0.938395  0.068179   0.068179  1.000000  0.127655  \n49  0.882312  0.079687   0.066406  1.000000  0.124541  ",
      "text/html": "<div>\n<style scoped>\n    .dataframe tbody tr th:only-of-type {\n        vertical-align: middle;\n    }\n\n    .dataframe tbody tr th {\n        vertical-align: top;\n    }\n\n    .dataframe thead th {\n        text-align: right;\n    }\n</style>\n<table border=\"1\" class=\"dataframe\">\n  <thead>\n    <tr style=\"text-align: right;\">\n      <th></th>\n      <th>model</th>\n      <th>variant</th>\n      <th>train_acc</th>\n      <th>train_prec</th>\n      <th>train_rec</th>\n      <th>train_f1</th>\n      <th>test_acc</th>\n      <th>test_prec</th>\n      <th>test_rec</th>\n      <th>test_f1</th>\n    </tr>\n  </thead>\n  <tbody>\n    <tr>\n      <th>41</th>\n      <td>MultinomialNB</td>\n      <td>clean</td>\n      <td>0.952361</td>\n      <td>0.965054</td>\n      <td>0.283123</td>\n      <td>0.437805</td>\n      <td>0.946353</td>\n      <td>0.945455</td>\n      <td>0.191529</td>\n      <td>0.318530</td>\n    </tr>\n    <tr>\n      <th>40</th>\n      <td>MultinomialNB</td>\n      <td>base</td>\n      <td>0.948043</td>\n      <td>0.969188</td>\n      <td>0.245564</td>\n      <td>0.391846</td>\n      <td>0.944576</td>\n      <td>0.931298</td>\n      <td>0.201987</td>\n      <td>0.331973</td>\n    </tr>\n    <tr>\n      <th>52</th>\n      <td>MultinomialNB</td>\n      <td>RandomUnderSampler base</td>\n      <td>0.952462</td>\n      <td>0.970509</td>\n      <td>0.285489</td>\n      <td>0.441194</td>\n      <td>0.946112</td>\n      <td>0.928571</td>\n      <td>0.191529</td>\n      <td>0.317557</td>\n    </tr>\n    <tr>\n      <th>50</th>\n      <td>MultinomialNB</td>\n      <td>TomekLink base</td>\n      <td>0.952462</td>\n      <td>0.970509</td>\n      <td>0.285489</td>\n      <td>0.441194</td>\n      <td>0.946112</td>\n      <td>0.928571</td>\n      <td>0.191529</td>\n      <td>0.317557</td>\n    </tr>\n    <tr>\n      <th>51</th>\n      <td>MultinomialNB</td>\n      <td>TomekLink clean</td>\n      <td>0.952462</td>\n      <td>0.970509</td>\n      <td>0.285489</td>\n      <td>0.441194</td>\n      <td>0.946112</td>\n      <td>0.928571</td>\n      <td>0.191529</td>\n      <td>0.317557</td>\n    </tr>\n    <tr>\n      <th>53</th>\n      <td>MultinomialNB</td>\n      <td>RandomUnderSampler clean</td>\n      <td>0.952462</td>\n      <td>0.970509</td>\n      <td>0.285489</td>\n      <td>0.441194</td>\n      <td>0.946112</td>\n      <td>0.928571</td>\n      <td>0.191529</td>\n      <td>0.317557</td>\n    </tr>\n    <tr>\n      <th>4</th>\n      <td>RandomForest</td>\n      <td>BorderlineSMOTE base</td>\n      <td>0.999922</td>\n      <td>0.999896</td>\n      <td>0.999948</td>\n      <td>0.999922</td>\n      <td>0.950333</td>\n      <td>0.879630</td>\n      <td>0.314570</td>\n      <td>0.463415</td>\n    </tr>\n    <tr>\n      <th>0</th>\n      <td>RandomForest</td>\n      <td>base</td>\n      <td>0.999855</td>\n      <td>1.000000</td>\n      <td>0.997871</td>\n      <td>0.998934</td>\n      <td>0.955074</td>\n      <td>0.875912</td>\n      <td>0.397351</td>\n      <td>0.546697</td>\n    </tr>\n    <tr>\n      <th>12</th>\n      <td>RandomForest</td>\n      <td>RandomUnderSampler base</td>\n      <td>0.999844</td>\n      <td>1.000000</td>\n      <td>0.997634</td>\n      <td>0.998816</td>\n      <td>0.955756</td>\n      <td>0.791391</td>\n      <td>0.440147</td>\n      <td>0.565680</td>\n    </tr>\n    <tr>\n      <th>1</th>\n      <td>RandomForest</td>\n      <td>clean</td>\n      <td>0.999793</td>\n      <td>1.000000</td>\n      <td>0.996845</td>\n      <td>0.998420</td>\n      <td>0.955274</td>\n      <td>0.782895</td>\n      <td>0.438306</td>\n      <td>0.561983</td>\n    </tr>\n    <tr>\n      <th>13</th>\n      <td>RandomForest</td>\n      <td>RandomUnderSampler clean</td>\n      <td>0.999793</td>\n      <td>1.000000</td>\n      <td>0.996845</td>\n      <td>0.998420</td>\n      <td>0.955395</td>\n      <td>0.764526</td>\n      <td>0.460405</td>\n      <td>0.574713</td>\n    </tr>\n    <tr>\n      <th>6</th>\n      <td>RandomForest</td>\n      <td>ADASYN base</td>\n      <td>0.999921</td>\n      <td>0.999947</td>\n      <td>0.999894</td>\n      <td>0.999921</td>\n      <td>0.951123</td>\n      <td>0.761468</td>\n      <td>0.412252</td>\n      <td>0.534909</td>\n    </tr>\n    <tr>\n      <th>2</th>\n      <td>RandomForest</td>\n      <td>SMOTE base</td>\n      <td>0.999922</td>\n      <td>0.999948</td>\n      <td>0.999896</td>\n      <td>0.999922</td>\n      <td>0.951349</td>\n      <td>0.759760</td>\n      <td>0.418874</td>\n      <td>0.540021</td>\n    </tr>\n    <tr>\n      <th>11</th>\n      <td>RandomForest</td>\n      <td>TomekLink clean</td>\n      <td>0.999844</td>\n      <td>1.000000</td>\n      <td>0.997634</td>\n      <td>0.998816</td>\n      <td>0.954069</td>\n      <td>0.751553</td>\n      <td>0.445672</td>\n      <td>0.559538</td>\n    </tr>\n    <tr>\n      <th>10</th>\n      <td>RandomForest</td>\n      <td>TomekLink base</td>\n      <td>0.999793</td>\n      <td>1.000000</td>\n      <td>0.996845</td>\n      <td>0.998420</td>\n      <td>0.953828</td>\n      <td>0.746914</td>\n      <td>0.445672</td>\n      <td>0.558247</td>\n    </tr>\n    <tr>\n      <th>24</th>\n      <td>LinearSVC</td>\n      <td>BorderlineSMOTE base</td>\n      <td>0.989617</td>\n      <td>0.991044</td>\n      <td>0.988163</td>\n      <td>0.989602</td>\n      <td>0.948075</td>\n      <td>0.624138</td>\n      <td>0.599338</td>\n      <td>0.611486</td>\n    </tr>\n    <tr>\n      <th>5</th>\n      <td>RandomForest</td>\n      <td>BorderlineSMOTE clean</td>\n      <td>0.999917</td>\n      <td>0.999889</td>\n      <td>0.999945</td>\n      <td>0.999917</td>\n      <td>0.947559</td>\n      <td>0.610204</td>\n      <td>0.550645</td>\n      <td>0.578896</td>\n    </tr>\n    <tr>\n      <th>17</th>\n      <td>RandomForest</td>\n      <td>SMOTETomek clean</td>\n      <td>0.999917</td>\n      <td>0.999889</td>\n      <td>0.999945</td>\n      <td>0.999917</td>\n      <td>0.947438</td>\n      <td>0.609407</td>\n      <td>0.548803</td>\n      <td>0.577519</td>\n    </tr>\n    <tr>\n      <th>16</th>\n      <td>RandomForest</td>\n      <td>SMOTETomek base</td>\n      <td>0.999917</td>\n      <td>0.999889</td>\n      <td>0.999945</td>\n      <td>0.999917</td>\n      <td>0.946594</td>\n      <td>0.595785</td>\n      <td>0.572744</td>\n      <td>0.584038</td>\n    </tr>\n    <tr>\n      <th>3</th>\n      <td>RandomForest</td>\n      <td>SMOTE clean</td>\n      <td>0.999917</td>\n      <td>0.999889</td>\n      <td>0.999945</td>\n      <td>0.999917</td>\n      <td>0.945992</td>\n      <td>0.591876</td>\n      <td>0.563536</td>\n      <td>0.577358</td>\n    </tr>\n    <tr>\n      <th>7</th>\n      <td>RandomForest</td>\n      <td>ADASYN clean</td>\n      <td>0.999918</td>\n      <td>0.999946</td>\n      <td>0.999893</td>\n      <td>0.999920</td>\n      <td>0.945389</td>\n      <td>0.586207</td>\n      <td>0.563536</td>\n      <td>0.574648</td>\n    </tr>\n    <tr>\n      <th>15</th>\n      <td>RandomForest</td>\n      <td>ManualyHybrid clean</td>\n      <td>0.999902</td>\n      <td>0.999889</td>\n      <td>0.999889</td>\n      <td>0.999889</td>\n      <td>0.943822</td>\n      <td>0.568384</td>\n      <td>0.589319</td>\n      <td>0.578662</td>\n    </tr>\n    <tr>\n      <th>14</th>\n      <td>RandomForest</td>\n      <td>ManualyHybrid base</td>\n      <td>0.999902</td>\n      <td>1.000000</td>\n      <td>0.999779</td>\n      <td>0.999889</td>\n      <td>0.942495</td>\n      <td>0.558099</td>\n      <td>0.583794</td>\n      <td>0.570657</td>\n    </tr>\n    <tr>\n      <th>22</th>\n      <td>LinearSVC</td>\n      <td>SMOTE base</td>\n      <td>0.988111</td>\n      <td>0.978279</td>\n      <td>0.998391</td>\n      <td>0.988232</td>\n      <td>0.933627</td>\n      <td>0.509709</td>\n      <td>0.695364</td>\n      <td>0.588235</td>\n    </tr>\n    <tr>\n      <th>26</th>\n      <td>LinearSVC</td>\n      <td>ADASYN base</td>\n      <td>0.988096</td>\n      <td>0.977551</td>\n      <td>0.998887</td>\n      <td>0.988104</td>\n      <td>0.933401</td>\n      <td>0.508333</td>\n      <td>0.706954</td>\n      <td>0.591413</td>\n    </tr>\n    <tr>\n      <th>20</th>\n      <td>LinearSVC</td>\n      <td>base</td>\n      <td>0.969619</td>\n      <td>0.692270</td>\n      <td>0.997871</td>\n      <td>0.817442</td>\n      <td>0.930128</td>\n      <td>0.491803</td>\n      <td>0.745033</td>\n      <td>0.592495</td>\n    </tr>\n    <tr>\n      <th>44</th>\n      <td>MultinomialNB</td>\n      <td>BorderlineSMOTE base</td>\n      <td>0.965943</td>\n      <td>0.957162</td>\n      <td>0.975548</td>\n      <td>0.966267</td>\n      <td>0.928547</td>\n      <td>0.482209</td>\n      <td>0.650662</td>\n      <td>0.553911</td>\n    </tr>\n    <tr>\n      <th>21</th>\n      <td>LinearSVC</td>\n      <td>clean</td>\n      <td>0.967655</td>\n      <td>0.670201</td>\n      <td>0.996845</td>\n      <td>0.801522</td>\n      <td>0.918143</td>\n      <td>0.421839</td>\n      <td>0.675875</td>\n      <td>0.519462</td>\n    </tr>\n    <tr>\n      <th>31</th>\n      <td>LinearSVC</td>\n      <td>TomekLink clean</td>\n      <td>0.968844</td>\n      <td>0.679012</td>\n      <td>0.997634</td>\n      <td>0.808049</td>\n      <td>0.917661</td>\n      <td>0.420455</td>\n      <td>0.681400</td>\n      <td>0.520028</td>\n    </tr>\n    <tr>\n      <th>33</th>\n      <td>LinearSVC</td>\n      <td>RandomUnderSampler clean</td>\n      <td>0.968844</td>\n      <td>0.679012</td>\n      <td>0.997634</td>\n      <td>0.808049</td>\n      <td>0.917661</td>\n      <td>0.420455</td>\n      <td>0.681400</td>\n      <td>0.520028</td>\n    </tr>\n    <tr>\n      <th>32</th>\n      <td>LinearSVC</td>\n      <td>RandomUnderSampler base</td>\n      <td>0.968844</td>\n      <td>0.679012</td>\n      <td>0.997634</td>\n      <td>0.808049</td>\n      <td>0.917661</td>\n      <td>0.420455</td>\n      <td>0.681400</td>\n      <td>0.520028</td>\n    </tr>\n    <tr>\n      <th>30</th>\n      <td>LinearSVC</td>\n      <td>TomekLink base</td>\n      <td>0.968844</td>\n      <td>0.679012</td>\n      <td>0.997634</td>\n      <td>0.808049</td>\n      <td>0.917661</td>\n      <td>0.420455</td>\n      <td>0.681400</td>\n      <td>0.520028</td>\n    </tr>\n    <tr>\n      <th>25</th>\n      <td>LinearSVC</td>\n      <td>BorderlineSMOTE clean</td>\n      <td>0.983164</td>\n      <td>0.970799</td>\n      <td>0.996295</td>\n      <td>0.983382</td>\n      <td>0.912477</td>\n      <td>0.400218</td>\n      <td>0.675875</td>\n      <td>0.502740</td>\n    </tr>\n    <tr>\n      <th>36</th>\n      <td>LinearSVC</td>\n      <td>SMOTETomek base</td>\n      <td>0.983496</td>\n      <td>0.970716</td>\n      <td>0.997070</td>\n      <td>0.983717</td>\n      <td>0.911513</td>\n      <td>0.397642</td>\n      <td>0.683241</td>\n      <td>0.502710</td>\n    </tr>\n    <tr>\n      <th>37</th>\n      <td>LinearSVC</td>\n      <td>SMOTETomek clean</td>\n      <td>0.983496</td>\n      <td>0.970716</td>\n      <td>0.997070</td>\n      <td>0.983717</td>\n      <td>0.911513</td>\n      <td>0.397642</td>\n      <td>0.683241</td>\n      <td>0.502710</td>\n    </tr>\n    <tr>\n      <th>23</th>\n      <td>LinearSVC</td>\n      <td>SMOTE clean</td>\n      <td>0.983302</td>\n      <td>0.970199</td>\n      <td>0.997235</td>\n      <td>0.983531</td>\n      <td>0.910066</td>\n      <td>0.392365</td>\n      <td>0.681400</td>\n      <td>0.497981</td>\n    </tr>\n    <tr>\n      <th>27</th>\n      <td>LinearSVC</td>\n      <td>ADASYN clean</td>\n      <td>0.982962</td>\n      <td>0.970168</td>\n      <td>0.997105</td>\n      <td>0.983452</td>\n      <td>0.908499</td>\n      <td>0.388199</td>\n      <td>0.690608</td>\n      <td>0.497018</td>\n    </tr>\n    <tr>\n      <th>42</th>\n      <td>MultinomialNB</td>\n      <td>SMOTE base</td>\n      <td>0.945099</td>\n      <td>0.917303</td>\n      <td>0.978403</td>\n      <td>0.946869</td>\n      <td>0.898521</td>\n      <td>0.388003</td>\n      <td>0.846026</td>\n      <td>0.532015</td>\n    </tr>\n    <tr>\n      <th>34</th>\n      <td>LinearSVC</td>\n      <td>ManualyHybrid base</td>\n      <td>0.981274</td>\n      <td>0.964102</td>\n      <td>0.994913</td>\n      <td>0.979265</td>\n      <td>0.902230</td>\n      <td>0.371648</td>\n      <td>0.714549</td>\n      <td>0.488973</td>\n    </tr>\n    <tr>\n      <th>35</th>\n      <td>LinearSVC</td>\n      <td>ManualyHybrid clean</td>\n      <td>0.981274</td>\n      <td>0.964102</td>\n      <td>0.994913</td>\n      <td>0.979265</td>\n      <td>0.902230</td>\n      <td>0.371648</td>\n      <td>0.714549</td>\n      <td>0.488973</td>\n    </tr>\n    <tr>\n      <th>46</th>\n      <td>MultinomialNB</td>\n      <td>ADASYN base</td>\n      <td>0.943311</td>\n      <td>0.910987</td>\n      <td>0.981352</td>\n      <td>0.944861</td>\n      <td>0.890958</td>\n      <td>0.369784</td>\n      <td>0.850993</td>\n      <td>0.515547</td>\n    </tr>\n    <tr>\n      <th>54</th>\n      <td>MultinomialNB</td>\n      <td>ManualyHybrid base</td>\n      <td>0.934926</td>\n      <td>0.914510</td>\n      <td>0.941612</td>\n      <td>0.927863</td>\n      <td>0.897046</td>\n      <td>0.365601</td>\n      <td>0.779006</td>\n      <td>0.497647</td>\n    </tr>\n    <tr>\n      <th>55</th>\n      <td>MultinomialNB</td>\n      <td>ManualyHybrid clean</td>\n      <td>0.934926</td>\n      <td>0.914510</td>\n      <td>0.941612</td>\n      <td>0.927863</td>\n      <td>0.897046</td>\n      <td>0.365601</td>\n      <td>0.779006</td>\n      <td>0.497647</td>\n    </tr>\n    <tr>\n      <th>45</th>\n      <td>MultinomialNB</td>\n      <td>BorderlineSMOTE clean</td>\n      <td>0.947307</td>\n      <td>0.920172</td>\n      <td>0.979597</td>\n      <td>0.948956</td>\n      <td>0.889451</td>\n      <td>0.351351</td>\n      <td>0.813996</td>\n      <td>0.490838</td>\n    </tr>\n    <tr>\n      <th>57</th>\n      <td>MultinomialNB</td>\n      <td>SMOTETomek clean</td>\n      <td>0.945566</td>\n      <td>0.920085</td>\n      <td>0.975893</td>\n      <td>0.947168</td>\n      <td>0.888608</td>\n      <td>0.349645</td>\n      <td>0.815838</td>\n      <td>0.489503</td>\n    </tr>\n    <tr>\n      <th>56</th>\n      <td>MultinomialNB</td>\n      <td>SMOTETomek base</td>\n      <td>0.945566</td>\n      <td>0.920085</td>\n      <td>0.975893</td>\n      <td>0.947168</td>\n      <td>0.888608</td>\n      <td>0.349645</td>\n      <td>0.815838</td>\n      <td>0.489503</td>\n    </tr>\n    <tr>\n      <th>43</th>\n      <td>MultinomialNB</td>\n      <td>SMOTE clean</td>\n      <td>0.946423</td>\n      <td>0.919865</td>\n      <td>0.978049</td>\n      <td>0.948065</td>\n      <td>0.887402</td>\n      <td>0.346907</td>\n      <td>0.815838</td>\n      <td>0.486813</td>\n    </tr>\n    <tr>\n      <th>47</th>\n      <td>MultinomialNB</td>\n      <td>ADASYN clean</td>\n      <td>0.944423</td>\n      <td>0.915308</td>\n      <td>0.981346</td>\n      <td>0.947178</td>\n      <td>0.879928</td>\n      <td>0.332346</td>\n      <td>0.826888</td>\n      <td>0.474129</td>\n    </tr>\n    <tr>\n      <th>39</th>\n      <td>LinearSVC</td>\n      <td>SMOTEEN clean</td>\n      <td>0.998292</td>\n      <td>0.998486</td>\n      <td>0.999439</td>\n      <td>0.998962</td>\n      <td>0.743701</td>\n      <td>0.191182</td>\n      <td>0.902394</td>\n      <td>0.315518</td>\n    </tr>\n    <tr>\n      <th>38</th>\n      <td>LinearSVC</td>\n      <td>SMOTEEN base</td>\n      <td>0.998292</td>\n      <td>0.998486</td>\n      <td>0.999439</td>\n      <td>0.998962</td>\n      <td>0.743701</td>\n      <td>0.191182</td>\n      <td>0.902394</td>\n      <td>0.315518</td>\n    </tr>\n    <tr>\n      <th>19</th>\n      <td>RandomForest</td>\n      <td>SMOTEEN clean</td>\n      <td>1.000000</td>\n      <td>1.000000</td>\n      <td>1.000000</td>\n      <td>1.000000</td>\n      <td>0.748282</td>\n      <td>0.180653</td>\n      <td>0.804788</td>\n      <td>0.295071</td>\n    </tr>\n    <tr>\n      <th>18</th>\n      <td>RandomForest</td>\n      <td>SMOTEEN base</td>\n      <td>1.000000</td>\n      <td>1.000000</td>\n      <td>1.000000</td>\n      <td>1.000000</td>\n      <td>0.745148</td>\n      <td>0.178995</td>\n      <td>0.806630</td>\n      <td>0.292977</td>\n    </tr>\n    <tr>\n      <th>58</th>\n      <td>MultinomialNB</td>\n      <td>SMOTEEN base</td>\n      <td>0.975074</td>\n      <td>0.971156</td>\n      <td>0.999383</td>\n      <td>0.985067</td>\n      <td>0.572755</td>\n      <td>0.130692</td>\n      <td>0.977901</td>\n      <td>0.230569</td>\n    </tr>\n    <tr>\n      <th>59</th>\n      <td>MultinomialNB</td>\n      <td>SMOTEEN clean</td>\n      <td>0.975074</td>\n      <td>0.971156</td>\n      <td>0.999383</td>\n      <td>0.985067</td>\n      <td>0.572755</td>\n      <td>0.130692</td>\n      <td>0.977901</td>\n      <td>0.230569</td>\n    </tr>\n    <tr>\n      <th>29</th>\n      <td>LinearSVC</td>\n      <td>NearMiss clean</td>\n      <td>0.952615</td>\n      <td>0.995012</td>\n      <td>0.944006</td>\n      <td>0.968839</td>\n      <td>0.563593</td>\n      <td>0.117764</td>\n      <td>0.872928</td>\n      <td>0.207531</td>\n    </tr>\n    <tr>\n      <th>9</th>\n      <td>RandomForest</td>\n      <td>NearMiss clean</td>\n      <td>0.998154</td>\n      <td>1.000000</td>\n      <td>0.997634</td>\n      <td>0.998816</td>\n      <td>0.467511</td>\n      <td>0.097632</td>\n      <td>0.865562</td>\n      <td>0.175471</td>\n    </tr>\n    <tr>\n      <th>28</th>\n      <td>LinearSVC</td>\n      <td>NearMiss base</td>\n      <td>0.967378</td>\n      <td>0.997799</td>\n      <td>0.965224</td>\n      <td>0.981241</td>\n      <td>0.386274</td>\n      <td>0.093250</td>\n      <td>0.917219</td>\n      <td>0.169290</td>\n    </tr>\n    <tr>\n      <th>8</th>\n      <td>RandomForest</td>\n      <td>NearMiss base</td>\n      <td>0.998118</td>\n      <td>0.998582</td>\n      <td>0.999290</td>\n      <td>0.998936</td>\n      <td>0.236934</td>\n      <td>0.079853</td>\n      <td>0.968543</td>\n      <td>0.147541</td>\n    </tr>\n    <tr>\n      <th>48</th>\n      <td>MultinomialNB</td>\n      <td>NearMiss base</td>\n      <td>0.883940</td>\n      <td>0.883940</td>\n      <td>1.000000</td>\n      <td>0.938395</td>\n      <td>0.068179</td>\n      <td>0.068179</td>\n      <td>1.000000</td>\n      <td>0.127655</td>\n    </tr>\n    <tr>\n      <th>49</th>\n      <td>MultinomialNB</td>\n      <td>NearMiss clean</td>\n      <td>0.792000</td>\n      <td>0.789900</td>\n      <td>0.999211</td>\n      <td>0.882312</td>\n      <td>0.079687</td>\n      <td>0.066406</td>\n      <td>1.000000</td>\n      <td>0.124541</td>\n    </tr>\n  </tbody>\n</table>\n</div>"
     },
     "execution_count": 64,
     "metadata": {},
     "output_type": "execute_result"
    }
   ],
   "source": [
    "evaluation.sort_values(by=[\"test_prec\"], ascending=False)"
   ],
   "metadata": {
    "collapsed": false,
    "ExecuteTime": {
     "end_time": "2024-11-17T15:36:00.109591700Z",
     "start_time": "2024-11-17T15:35:59.907590900Z"
    }
   }
  },
  {
   "cell_type": "code",
   "execution_count": 65,
   "outputs": [
    {
     "data": {
      "text/plain": "            model                   variant  train_acc  train_prec  train_rec  \\\n49  MultinomialNB            NearMiss clean   0.792000    0.789900   0.999211   \n48  MultinomialNB             NearMiss base   0.883940    0.883940   1.000000   \n59  MultinomialNB             SMOTEEN clean   0.975074    0.971156   0.999383   \n58  MultinomialNB              SMOTEEN base   0.975074    0.971156   0.999383   \n8    RandomForest             NearMiss base   0.998118    0.998582   0.999290   \n28      LinearSVC             NearMiss base   0.967378    0.997799   0.965224   \n38      LinearSVC              SMOTEEN base   0.998292    0.998486   0.999439   \n39      LinearSVC             SMOTEEN clean   0.998292    0.998486   0.999439   \n29      LinearSVC            NearMiss clean   0.952615    0.995012   0.944006   \n9    RandomForest            NearMiss clean   0.998154    1.000000   0.997634   \n46  MultinomialNB               ADASYN base   0.943311    0.910987   0.981352   \n42  MultinomialNB                SMOTE base   0.945099    0.917303   0.978403   \n47  MultinomialNB              ADASYN clean   0.944423    0.915308   0.981346   \n43  MultinomialNB               SMOTE clean   0.946423    0.919865   0.978049   \n57  MultinomialNB          SMOTETomek clean   0.945566    0.920085   0.975893   \n56  MultinomialNB           SMOTETomek base   0.945566    0.920085   0.975893   \n45  MultinomialNB     BorderlineSMOTE clean   0.947307    0.920172   0.979597   \n18   RandomForest              SMOTEEN base   1.000000    1.000000   1.000000   \n19   RandomForest             SMOTEEN clean   1.000000    1.000000   1.000000   \n54  MultinomialNB        ManualyHybrid base   0.934926    0.914510   0.941612   \n55  MultinomialNB       ManualyHybrid clean   0.934926    0.914510   0.941612   \n20      LinearSVC                      base   0.969619    0.692270   0.997871   \n35      LinearSVC       ManualyHybrid clean   0.981274    0.964102   0.994913   \n34      LinearSVC        ManualyHybrid base   0.981274    0.964102   0.994913   \n26      LinearSVC               ADASYN base   0.988096    0.977551   0.998887   \n22      LinearSVC                SMOTE base   0.988111    0.978279   0.998391   \n27      LinearSVC              ADASYN clean   0.982962    0.970168   0.997105   \n37      LinearSVC          SMOTETomek clean   0.983496    0.970716   0.997070   \n36      LinearSVC           SMOTETomek base   0.983496    0.970716   0.997070   \n32      LinearSVC   RandomUnderSampler base   0.968844    0.679012   0.997634   \n33      LinearSVC  RandomUnderSampler clean   0.968844    0.679012   0.997634   \n30      LinearSVC            TomekLink base   0.968844    0.679012   0.997634   \n31      LinearSVC           TomekLink clean   0.968844    0.679012   0.997634   \n23      LinearSVC               SMOTE clean   0.983302    0.970199   0.997235   \n25      LinearSVC     BorderlineSMOTE clean   0.983164    0.970799   0.996295   \n21      LinearSVC                     clean   0.967655    0.670201   0.996845   \n44  MultinomialNB      BorderlineSMOTE base   0.965943    0.957162   0.975548   \n24      LinearSVC      BorderlineSMOTE base   0.989617    0.991044   0.988163   \n15   RandomForest       ManualyHybrid clean   0.999902    0.999889   0.999889   \n14   RandomForest        ManualyHybrid base   0.999902    1.000000   0.999779   \n16   RandomForest           SMOTETomek base   0.999917    0.999889   0.999945   \n3    RandomForest               SMOTE clean   0.999917    0.999889   0.999945   \n7    RandomForest              ADASYN clean   0.999918    0.999946   0.999893   \n5    RandomForest     BorderlineSMOTE clean   0.999917    0.999889   0.999945   \n17   RandomForest          SMOTETomek clean   0.999917    0.999889   0.999945   \n13   RandomForest  RandomUnderSampler clean   0.999793    1.000000   0.996845   \n10   RandomForest            TomekLink base   0.999793    1.000000   0.996845   \n11   RandomForest           TomekLink clean   0.999844    1.000000   0.997634   \n12   RandomForest   RandomUnderSampler base   0.999844    1.000000   0.997634   \n1    RandomForest                     clean   0.999793    1.000000   0.996845   \n2    RandomForest                SMOTE base   0.999922    0.999948   0.999896   \n6    RandomForest               ADASYN base   0.999921    0.999947   0.999894   \n0    RandomForest                      base   0.999855    1.000000   0.997871   \n4    RandomForest      BorderlineSMOTE base   0.999922    0.999896   0.999948   \n40  MultinomialNB                      base   0.948043    0.969188   0.245564   \n50  MultinomialNB            TomekLink base   0.952462    0.970509   0.285489   \n51  MultinomialNB           TomekLink clean   0.952462    0.970509   0.285489   \n52  MultinomialNB   RandomUnderSampler base   0.952462    0.970509   0.285489   \n53  MultinomialNB  RandomUnderSampler clean   0.952462    0.970509   0.285489   \n41  MultinomialNB                     clean   0.952361    0.965054   0.283123   \n\n    train_f1  test_acc  test_prec  test_rec   test_f1  \n49  0.882312  0.079687   0.066406  1.000000  0.124541  \n48  0.938395  0.068179   0.068179  1.000000  0.127655  \n59  0.985067  0.572755   0.130692  0.977901  0.230569  \n58  0.985067  0.572755   0.130692  0.977901  0.230569  \n8   0.998936  0.236934   0.079853  0.968543  0.147541  \n28  0.981241  0.386274   0.093250  0.917219  0.169290  \n38  0.998962  0.743701   0.191182  0.902394  0.315518  \n39  0.998962  0.743701   0.191182  0.902394  0.315518  \n29  0.968839  0.563593   0.117764  0.872928  0.207531  \n9   0.998816  0.467511   0.097632  0.865562  0.175471  \n46  0.944861  0.890958   0.369784  0.850993  0.515547  \n42  0.946869  0.898521   0.388003  0.846026  0.532015  \n47  0.947178  0.879928   0.332346  0.826888  0.474129  \n43  0.948065  0.887402   0.346907  0.815838  0.486813  \n57  0.947168  0.888608   0.349645  0.815838  0.489503  \n56  0.947168  0.888608   0.349645  0.815838  0.489503  \n45  0.948956  0.889451   0.351351  0.813996  0.490838  \n18  1.000000  0.745148   0.178995  0.806630  0.292977  \n19  1.000000  0.748282   0.180653  0.804788  0.295071  \n54  0.927863  0.897046   0.365601  0.779006  0.497647  \n55  0.927863  0.897046   0.365601  0.779006  0.497647  \n20  0.817442  0.930128   0.491803  0.745033  0.592495  \n35  0.979265  0.902230   0.371648  0.714549  0.488973  \n34  0.979265  0.902230   0.371648  0.714549  0.488973  \n26  0.988104  0.933401   0.508333  0.706954  0.591413  \n22  0.988232  0.933627   0.509709  0.695364  0.588235  \n27  0.983452  0.908499   0.388199  0.690608  0.497018  \n37  0.983717  0.911513   0.397642  0.683241  0.502710  \n36  0.983717  0.911513   0.397642  0.683241  0.502710  \n32  0.808049  0.917661   0.420455  0.681400  0.520028  \n33  0.808049  0.917661   0.420455  0.681400  0.520028  \n30  0.808049  0.917661   0.420455  0.681400  0.520028  \n31  0.808049  0.917661   0.420455  0.681400  0.520028  \n23  0.983531  0.910066   0.392365  0.681400  0.497981  \n25  0.983382  0.912477   0.400218  0.675875  0.502740  \n21  0.801522  0.918143   0.421839  0.675875  0.519462  \n44  0.966267  0.928547   0.482209  0.650662  0.553911  \n24  0.989602  0.948075   0.624138  0.599338  0.611486  \n15  0.999889  0.943822   0.568384  0.589319  0.578662  \n14  0.999889  0.942495   0.558099  0.583794  0.570657  \n16  0.999917  0.946594   0.595785  0.572744  0.584038  \n3   0.999917  0.945992   0.591876  0.563536  0.577358  \n7   0.999920  0.945389   0.586207  0.563536  0.574648  \n5   0.999917  0.947559   0.610204  0.550645  0.578896  \n17  0.999917  0.947438   0.609407  0.548803  0.577519  \n13  0.998420  0.955395   0.764526  0.460405  0.574713  \n10  0.998420  0.953828   0.746914  0.445672  0.558247  \n11  0.998816  0.954069   0.751553  0.445672  0.559538  \n12  0.998816  0.955756   0.791391  0.440147  0.565680  \n1   0.998420  0.955274   0.782895  0.438306  0.561983  \n2   0.999922  0.951349   0.759760  0.418874  0.540021  \n6   0.999921  0.951123   0.761468  0.412252  0.534909  \n0   0.998934  0.955074   0.875912  0.397351  0.546697  \n4   0.999922  0.950333   0.879630  0.314570  0.463415  \n40  0.391846  0.944576   0.931298  0.201987  0.331973  \n50  0.441194  0.946112   0.928571  0.191529  0.317557  \n51  0.441194  0.946112   0.928571  0.191529  0.317557  \n52  0.441194  0.946112   0.928571  0.191529  0.317557  \n53  0.441194  0.946112   0.928571  0.191529  0.317557  \n41  0.437805  0.946353   0.945455  0.191529  0.318530  ",
      "text/html": "<div>\n<style scoped>\n    .dataframe tbody tr th:only-of-type {\n        vertical-align: middle;\n    }\n\n    .dataframe tbody tr th {\n        vertical-align: top;\n    }\n\n    .dataframe thead th {\n        text-align: right;\n    }\n</style>\n<table border=\"1\" class=\"dataframe\">\n  <thead>\n    <tr style=\"text-align: right;\">\n      <th></th>\n      <th>model</th>\n      <th>variant</th>\n      <th>train_acc</th>\n      <th>train_prec</th>\n      <th>train_rec</th>\n      <th>train_f1</th>\n      <th>test_acc</th>\n      <th>test_prec</th>\n      <th>test_rec</th>\n      <th>test_f1</th>\n    </tr>\n  </thead>\n  <tbody>\n    <tr>\n      <th>49</th>\n      <td>MultinomialNB</td>\n      <td>NearMiss clean</td>\n      <td>0.792000</td>\n      <td>0.789900</td>\n      <td>0.999211</td>\n      <td>0.882312</td>\n      <td>0.079687</td>\n      <td>0.066406</td>\n      <td>1.000000</td>\n      <td>0.124541</td>\n    </tr>\n    <tr>\n      <th>48</th>\n      <td>MultinomialNB</td>\n      <td>NearMiss base</td>\n      <td>0.883940</td>\n      <td>0.883940</td>\n      <td>1.000000</td>\n      <td>0.938395</td>\n      <td>0.068179</td>\n      <td>0.068179</td>\n      <td>1.000000</td>\n      <td>0.127655</td>\n    </tr>\n    <tr>\n      <th>59</th>\n      <td>MultinomialNB</td>\n      <td>SMOTEEN clean</td>\n      <td>0.975074</td>\n      <td>0.971156</td>\n      <td>0.999383</td>\n      <td>0.985067</td>\n      <td>0.572755</td>\n      <td>0.130692</td>\n      <td>0.977901</td>\n      <td>0.230569</td>\n    </tr>\n    <tr>\n      <th>58</th>\n      <td>MultinomialNB</td>\n      <td>SMOTEEN base</td>\n      <td>0.975074</td>\n      <td>0.971156</td>\n      <td>0.999383</td>\n      <td>0.985067</td>\n      <td>0.572755</td>\n      <td>0.130692</td>\n      <td>0.977901</td>\n      <td>0.230569</td>\n    </tr>\n    <tr>\n      <th>8</th>\n      <td>RandomForest</td>\n      <td>NearMiss base</td>\n      <td>0.998118</td>\n      <td>0.998582</td>\n      <td>0.999290</td>\n      <td>0.998936</td>\n      <td>0.236934</td>\n      <td>0.079853</td>\n      <td>0.968543</td>\n      <td>0.147541</td>\n    </tr>\n    <tr>\n      <th>28</th>\n      <td>LinearSVC</td>\n      <td>NearMiss base</td>\n      <td>0.967378</td>\n      <td>0.997799</td>\n      <td>0.965224</td>\n      <td>0.981241</td>\n      <td>0.386274</td>\n      <td>0.093250</td>\n      <td>0.917219</td>\n      <td>0.169290</td>\n    </tr>\n    <tr>\n      <th>38</th>\n      <td>LinearSVC</td>\n      <td>SMOTEEN base</td>\n      <td>0.998292</td>\n      <td>0.998486</td>\n      <td>0.999439</td>\n      <td>0.998962</td>\n      <td>0.743701</td>\n      <td>0.191182</td>\n      <td>0.902394</td>\n      <td>0.315518</td>\n    </tr>\n    <tr>\n      <th>39</th>\n      <td>LinearSVC</td>\n      <td>SMOTEEN clean</td>\n      <td>0.998292</td>\n      <td>0.998486</td>\n      <td>0.999439</td>\n      <td>0.998962</td>\n      <td>0.743701</td>\n      <td>0.191182</td>\n      <td>0.902394</td>\n      <td>0.315518</td>\n    </tr>\n    <tr>\n      <th>29</th>\n      <td>LinearSVC</td>\n      <td>NearMiss clean</td>\n      <td>0.952615</td>\n      <td>0.995012</td>\n      <td>0.944006</td>\n      <td>0.968839</td>\n      <td>0.563593</td>\n      <td>0.117764</td>\n      <td>0.872928</td>\n      <td>0.207531</td>\n    </tr>\n    <tr>\n      <th>9</th>\n      <td>RandomForest</td>\n      <td>NearMiss clean</td>\n      <td>0.998154</td>\n      <td>1.000000</td>\n      <td>0.997634</td>\n      <td>0.998816</td>\n      <td>0.467511</td>\n      <td>0.097632</td>\n      <td>0.865562</td>\n      <td>0.175471</td>\n    </tr>\n    <tr>\n      <th>46</th>\n      <td>MultinomialNB</td>\n      <td>ADASYN base</td>\n      <td>0.943311</td>\n      <td>0.910987</td>\n      <td>0.981352</td>\n      <td>0.944861</td>\n      <td>0.890958</td>\n      <td>0.369784</td>\n      <td>0.850993</td>\n      <td>0.515547</td>\n    </tr>\n    <tr>\n      <th>42</th>\n      <td>MultinomialNB</td>\n      <td>SMOTE base</td>\n      <td>0.945099</td>\n      <td>0.917303</td>\n      <td>0.978403</td>\n      <td>0.946869</td>\n      <td>0.898521</td>\n      <td>0.388003</td>\n      <td>0.846026</td>\n      <td>0.532015</td>\n    </tr>\n    <tr>\n      <th>47</th>\n      <td>MultinomialNB</td>\n      <td>ADASYN clean</td>\n      <td>0.944423</td>\n      <td>0.915308</td>\n      <td>0.981346</td>\n      <td>0.947178</td>\n      <td>0.879928</td>\n      <td>0.332346</td>\n      <td>0.826888</td>\n      <td>0.474129</td>\n    </tr>\n    <tr>\n      <th>43</th>\n      <td>MultinomialNB</td>\n      <td>SMOTE clean</td>\n      <td>0.946423</td>\n      <td>0.919865</td>\n      <td>0.978049</td>\n      <td>0.948065</td>\n      <td>0.887402</td>\n      <td>0.346907</td>\n      <td>0.815838</td>\n      <td>0.486813</td>\n    </tr>\n    <tr>\n      <th>57</th>\n      <td>MultinomialNB</td>\n      <td>SMOTETomek clean</td>\n      <td>0.945566</td>\n      <td>0.920085</td>\n      <td>0.975893</td>\n      <td>0.947168</td>\n      <td>0.888608</td>\n      <td>0.349645</td>\n      <td>0.815838</td>\n      <td>0.489503</td>\n    </tr>\n    <tr>\n      <th>56</th>\n      <td>MultinomialNB</td>\n      <td>SMOTETomek base</td>\n      <td>0.945566</td>\n      <td>0.920085</td>\n      <td>0.975893</td>\n      <td>0.947168</td>\n      <td>0.888608</td>\n      <td>0.349645</td>\n      <td>0.815838</td>\n      <td>0.489503</td>\n    </tr>\n    <tr>\n      <th>45</th>\n      <td>MultinomialNB</td>\n      <td>BorderlineSMOTE clean</td>\n      <td>0.947307</td>\n      <td>0.920172</td>\n      <td>0.979597</td>\n      <td>0.948956</td>\n      <td>0.889451</td>\n      <td>0.351351</td>\n      <td>0.813996</td>\n      <td>0.490838</td>\n    </tr>\n    <tr>\n      <th>18</th>\n      <td>RandomForest</td>\n      <td>SMOTEEN base</td>\n      <td>1.000000</td>\n      <td>1.000000</td>\n      <td>1.000000</td>\n      <td>1.000000</td>\n      <td>0.745148</td>\n      <td>0.178995</td>\n      <td>0.806630</td>\n      <td>0.292977</td>\n    </tr>\n    <tr>\n      <th>19</th>\n      <td>RandomForest</td>\n      <td>SMOTEEN clean</td>\n      <td>1.000000</td>\n      <td>1.000000</td>\n      <td>1.000000</td>\n      <td>1.000000</td>\n      <td>0.748282</td>\n      <td>0.180653</td>\n      <td>0.804788</td>\n      <td>0.295071</td>\n    </tr>\n    <tr>\n      <th>54</th>\n      <td>MultinomialNB</td>\n      <td>ManualyHybrid base</td>\n      <td>0.934926</td>\n      <td>0.914510</td>\n      <td>0.941612</td>\n      <td>0.927863</td>\n      <td>0.897046</td>\n      <td>0.365601</td>\n      <td>0.779006</td>\n      <td>0.497647</td>\n    </tr>\n    <tr>\n      <th>55</th>\n      <td>MultinomialNB</td>\n      <td>ManualyHybrid clean</td>\n      <td>0.934926</td>\n      <td>0.914510</td>\n      <td>0.941612</td>\n      <td>0.927863</td>\n      <td>0.897046</td>\n      <td>0.365601</td>\n      <td>0.779006</td>\n      <td>0.497647</td>\n    </tr>\n    <tr>\n      <th>20</th>\n      <td>LinearSVC</td>\n      <td>base</td>\n      <td>0.969619</td>\n      <td>0.692270</td>\n      <td>0.997871</td>\n      <td>0.817442</td>\n      <td>0.930128</td>\n      <td>0.491803</td>\n      <td>0.745033</td>\n      <td>0.592495</td>\n    </tr>\n    <tr>\n      <th>35</th>\n      <td>LinearSVC</td>\n      <td>ManualyHybrid clean</td>\n      <td>0.981274</td>\n      <td>0.964102</td>\n      <td>0.994913</td>\n      <td>0.979265</td>\n      <td>0.902230</td>\n      <td>0.371648</td>\n      <td>0.714549</td>\n      <td>0.488973</td>\n    </tr>\n    <tr>\n      <th>34</th>\n      <td>LinearSVC</td>\n      <td>ManualyHybrid base</td>\n      <td>0.981274</td>\n      <td>0.964102</td>\n      <td>0.994913</td>\n      <td>0.979265</td>\n      <td>0.902230</td>\n      <td>0.371648</td>\n      <td>0.714549</td>\n      <td>0.488973</td>\n    </tr>\n    <tr>\n      <th>26</th>\n      <td>LinearSVC</td>\n      <td>ADASYN base</td>\n      <td>0.988096</td>\n      <td>0.977551</td>\n      <td>0.998887</td>\n      <td>0.988104</td>\n      <td>0.933401</td>\n      <td>0.508333</td>\n      <td>0.706954</td>\n      <td>0.591413</td>\n    </tr>\n    <tr>\n      <th>22</th>\n      <td>LinearSVC</td>\n      <td>SMOTE base</td>\n      <td>0.988111</td>\n      <td>0.978279</td>\n      <td>0.998391</td>\n      <td>0.988232</td>\n      <td>0.933627</td>\n      <td>0.509709</td>\n      <td>0.695364</td>\n      <td>0.588235</td>\n    </tr>\n    <tr>\n      <th>27</th>\n      <td>LinearSVC</td>\n      <td>ADASYN clean</td>\n      <td>0.982962</td>\n      <td>0.970168</td>\n      <td>0.997105</td>\n      <td>0.983452</td>\n      <td>0.908499</td>\n      <td>0.388199</td>\n      <td>0.690608</td>\n      <td>0.497018</td>\n    </tr>\n    <tr>\n      <th>37</th>\n      <td>LinearSVC</td>\n      <td>SMOTETomek clean</td>\n      <td>0.983496</td>\n      <td>0.970716</td>\n      <td>0.997070</td>\n      <td>0.983717</td>\n      <td>0.911513</td>\n      <td>0.397642</td>\n      <td>0.683241</td>\n      <td>0.502710</td>\n    </tr>\n    <tr>\n      <th>36</th>\n      <td>LinearSVC</td>\n      <td>SMOTETomek base</td>\n      <td>0.983496</td>\n      <td>0.970716</td>\n      <td>0.997070</td>\n      <td>0.983717</td>\n      <td>0.911513</td>\n      <td>0.397642</td>\n      <td>0.683241</td>\n      <td>0.502710</td>\n    </tr>\n    <tr>\n      <th>32</th>\n      <td>LinearSVC</td>\n      <td>RandomUnderSampler base</td>\n      <td>0.968844</td>\n      <td>0.679012</td>\n      <td>0.997634</td>\n      <td>0.808049</td>\n      <td>0.917661</td>\n      <td>0.420455</td>\n      <td>0.681400</td>\n      <td>0.520028</td>\n    </tr>\n    <tr>\n      <th>33</th>\n      <td>LinearSVC</td>\n      <td>RandomUnderSampler clean</td>\n      <td>0.968844</td>\n      <td>0.679012</td>\n      <td>0.997634</td>\n      <td>0.808049</td>\n      <td>0.917661</td>\n      <td>0.420455</td>\n      <td>0.681400</td>\n      <td>0.520028</td>\n    </tr>\n    <tr>\n      <th>30</th>\n      <td>LinearSVC</td>\n      <td>TomekLink base</td>\n      <td>0.968844</td>\n      <td>0.679012</td>\n      <td>0.997634</td>\n      <td>0.808049</td>\n      <td>0.917661</td>\n      <td>0.420455</td>\n      <td>0.681400</td>\n      <td>0.520028</td>\n    </tr>\n    <tr>\n      <th>31</th>\n      <td>LinearSVC</td>\n      <td>TomekLink clean</td>\n      <td>0.968844</td>\n      <td>0.679012</td>\n      <td>0.997634</td>\n      <td>0.808049</td>\n      <td>0.917661</td>\n      <td>0.420455</td>\n      <td>0.681400</td>\n      <td>0.520028</td>\n    </tr>\n    <tr>\n      <th>23</th>\n      <td>LinearSVC</td>\n      <td>SMOTE clean</td>\n      <td>0.983302</td>\n      <td>0.970199</td>\n      <td>0.997235</td>\n      <td>0.983531</td>\n      <td>0.910066</td>\n      <td>0.392365</td>\n      <td>0.681400</td>\n      <td>0.497981</td>\n    </tr>\n    <tr>\n      <th>25</th>\n      <td>LinearSVC</td>\n      <td>BorderlineSMOTE clean</td>\n      <td>0.983164</td>\n      <td>0.970799</td>\n      <td>0.996295</td>\n      <td>0.983382</td>\n      <td>0.912477</td>\n      <td>0.400218</td>\n      <td>0.675875</td>\n      <td>0.502740</td>\n    </tr>\n    <tr>\n      <th>21</th>\n      <td>LinearSVC</td>\n      <td>clean</td>\n      <td>0.967655</td>\n      <td>0.670201</td>\n      <td>0.996845</td>\n      <td>0.801522</td>\n      <td>0.918143</td>\n      <td>0.421839</td>\n      <td>0.675875</td>\n      <td>0.519462</td>\n    </tr>\n    <tr>\n      <th>44</th>\n      <td>MultinomialNB</td>\n      <td>BorderlineSMOTE base</td>\n      <td>0.965943</td>\n      <td>0.957162</td>\n      <td>0.975548</td>\n      <td>0.966267</td>\n      <td>0.928547</td>\n      <td>0.482209</td>\n      <td>0.650662</td>\n      <td>0.553911</td>\n    </tr>\n    <tr>\n      <th>24</th>\n      <td>LinearSVC</td>\n      <td>BorderlineSMOTE base</td>\n      <td>0.989617</td>\n      <td>0.991044</td>\n      <td>0.988163</td>\n      <td>0.989602</td>\n      <td>0.948075</td>\n      <td>0.624138</td>\n      <td>0.599338</td>\n      <td>0.611486</td>\n    </tr>\n    <tr>\n      <th>15</th>\n      <td>RandomForest</td>\n      <td>ManualyHybrid clean</td>\n      <td>0.999902</td>\n      <td>0.999889</td>\n      <td>0.999889</td>\n      <td>0.999889</td>\n      <td>0.943822</td>\n      <td>0.568384</td>\n      <td>0.589319</td>\n      <td>0.578662</td>\n    </tr>\n    <tr>\n      <th>14</th>\n      <td>RandomForest</td>\n      <td>ManualyHybrid base</td>\n      <td>0.999902</td>\n      <td>1.000000</td>\n      <td>0.999779</td>\n      <td>0.999889</td>\n      <td>0.942495</td>\n      <td>0.558099</td>\n      <td>0.583794</td>\n      <td>0.570657</td>\n    </tr>\n    <tr>\n      <th>16</th>\n      <td>RandomForest</td>\n      <td>SMOTETomek base</td>\n      <td>0.999917</td>\n      <td>0.999889</td>\n      <td>0.999945</td>\n      <td>0.999917</td>\n      <td>0.946594</td>\n      <td>0.595785</td>\n      <td>0.572744</td>\n      <td>0.584038</td>\n    </tr>\n    <tr>\n      <th>3</th>\n      <td>RandomForest</td>\n      <td>SMOTE clean</td>\n      <td>0.999917</td>\n      <td>0.999889</td>\n      <td>0.999945</td>\n      <td>0.999917</td>\n      <td>0.945992</td>\n      <td>0.591876</td>\n      <td>0.563536</td>\n      <td>0.577358</td>\n    </tr>\n    <tr>\n      <th>7</th>\n      <td>RandomForest</td>\n      <td>ADASYN clean</td>\n      <td>0.999918</td>\n      <td>0.999946</td>\n      <td>0.999893</td>\n      <td>0.999920</td>\n      <td>0.945389</td>\n      <td>0.586207</td>\n      <td>0.563536</td>\n      <td>0.574648</td>\n    </tr>\n    <tr>\n      <th>5</th>\n      <td>RandomForest</td>\n      <td>BorderlineSMOTE clean</td>\n      <td>0.999917</td>\n      <td>0.999889</td>\n      <td>0.999945</td>\n      <td>0.999917</td>\n      <td>0.947559</td>\n      <td>0.610204</td>\n      <td>0.550645</td>\n      <td>0.578896</td>\n    </tr>\n    <tr>\n      <th>17</th>\n      <td>RandomForest</td>\n      <td>SMOTETomek clean</td>\n      <td>0.999917</td>\n      <td>0.999889</td>\n      <td>0.999945</td>\n      <td>0.999917</td>\n      <td>0.947438</td>\n      <td>0.609407</td>\n      <td>0.548803</td>\n      <td>0.577519</td>\n    </tr>\n    <tr>\n      <th>13</th>\n      <td>RandomForest</td>\n      <td>RandomUnderSampler clean</td>\n      <td>0.999793</td>\n      <td>1.000000</td>\n      <td>0.996845</td>\n      <td>0.998420</td>\n      <td>0.955395</td>\n      <td>0.764526</td>\n      <td>0.460405</td>\n      <td>0.574713</td>\n    </tr>\n    <tr>\n      <th>10</th>\n      <td>RandomForest</td>\n      <td>TomekLink base</td>\n      <td>0.999793</td>\n      <td>1.000000</td>\n      <td>0.996845</td>\n      <td>0.998420</td>\n      <td>0.953828</td>\n      <td>0.746914</td>\n      <td>0.445672</td>\n      <td>0.558247</td>\n    </tr>\n    <tr>\n      <th>11</th>\n      <td>RandomForest</td>\n      <td>TomekLink clean</td>\n      <td>0.999844</td>\n      <td>1.000000</td>\n      <td>0.997634</td>\n      <td>0.998816</td>\n      <td>0.954069</td>\n      <td>0.751553</td>\n      <td>0.445672</td>\n      <td>0.559538</td>\n    </tr>\n    <tr>\n      <th>12</th>\n      <td>RandomForest</td>\n      <td>RandomUnderSampler base</td>\n      <td>0.999844</td>\n      <td>1.000000</td>\n      <td>0.997634</td>\n      <td>0.998816</td>\n      <td>0.955756</td>\n      <td>0.791391</td>\n      <td>0.440147</td>\n      <td>0.565680</td>\n    </tr>\n    <tr>\n      <th>1</th>\n      <td>RandomForest</td>\n      <td>clean</td>\n      <td>0.999793</td>\n      <td>1.000000</td>\n      <td>0.996845</td>\n      <td>0.998420</td>\n      <td>0.955274</td>\n      <td>0.782895</td>\n      <td>0.438306</td>\n      <td>0.561983</td>\n    </tr>\n    <tr>\n      <th>2</th>\n      <td>RandomForest</td>\n      <td>SMOTE base</td>\n      <td>0.999922</td>\n      <td>0.999948</td>\n      <td>0.999896</td>\n      <td>0.999922</td>\n      <td>0.951349</td>\n      <td>0.759760</td>\n      <td>0.418874</td>\n      <td>0.540021</td>\n    </tr>\n    <tr>\n      <th>6</th>\n      <td>RandomForest</td>\n      <td>ADASYN base</td>\n      <td>0.999921</td>\n      <td>0.999947</td>\n      <td>0.999894</td>\n      <td>0.999921</td>\n      <td>0.951123</td>\n      <td>0.761468</td>\n      <td>0.412252</td>\n      <td>0.534909</td>\n    </tr>\n    <tr>\n      <th>0</th>\n      <td>RandomForest</td>\n      <td>base</td>\n      <td>0.999855</td>\n      <td>1.000000</td>\n      <td>0.997871</td>\n      <td>0.998934</td>\n      <td>0.955074</td>\n      <td>0.875912</td>\n      <td>0.397351</td>\n      <td>0.546697</td>\n    </tr>\n    <tr>\n      <th>4</th>\n      <td>RandomForest</td>\n      <td>BorderlineSMOTE base</td>\n      <td>0.999922</td>\n      <td>0.999896</td>\n      <td>0.999948</td>\n      <td>0.999922</td>\n      <td>0.950333</td>\n      <td>0.879630</td>\n      <td>0.314570</td>\n      <td>0.463415</td>\n    </tr>\n    <tr>\n      <th>40</th>\n      <td>MultinomialNB</td>\n      <td>base</td>\n      <td>0.948043</td>\n      <td>0.969188</td>\n      <td>0.245564</td>\n      <td>0.391846</td>\n      <td>0.944576</td>\n      <td>0.931298</td>\n      <td>0.201987</td>\n      <td>0.331973</td>\n    </tr>\n    <tr>\n      <th>50</th>\n      <td>MultinomialNB</td>\n      <td>TomekLink base</td>\n      <td>0.952462</td>\n      <td>0.970509</td>\n      <td>0.285489</td>\n      <td>0.441194</td>\n      <td>0.946112</td>\n      <td>0.928571</td>\n      <td>0.191529</td>\n      <td>0.317557</td>\n    </tr>\n    <tr>\n      <th>51</th>\n      <td>MultinomialNB</td>\n      <td>TomekLink clean</td>\n      <td>0.952462</td>\n      <td>0.970509</td>\n      <td>0.285489</td>\n      <td>0.441194</td>\n      <td>0.946112</td>\n      <td>0.928571</td>\n      <td>0.191529</td>\n      <td>0.317557</td>\n    </tr>\n    <tr>\n      <th>52</th>\n      <td>MultinomialNB</td>\n      <td>RandomUnderSampler base</td>\n      <td>0.952462</td>\n      <td>0.970509</td>\n      <td>0.285489</td>\n      <td>0.441194</td>\n      <td>0.946112</td>\n      <td>0.928571</td>\n      <td>0.191529</td>\n      <td>0.317557</td>\n    </tr>\n    <tr>\n      <th>53</th>\n      <td>MultinomialNB</td>\n      <td>RandomUnderSampler clean</td>\n      <td>0.952462</td>\n      <td>0.970509</td>\n      <td>0.285489</td>\n      <td>0.441194</td>\n      <td>0.946112</td>\n      <td>0.928571</td>\n      <td>0.191529</td>\n      <td>0.317557</td>\n    </tr>\n    <tr>\n      <th>41</th>\n      <td>MultinomialNB</td>\n      <td>clean</td>\n      <td>0.952361</td>\n      <td>0.965054</td>\n      <td>0.283123</td>\n      <td>0.437805</td>\n      <td>0.946353</td>\n      <td>0.945455</td>\n      <td>0.191529</td>\n      <td>0.318530</td>\n    </tr>\n  </tbody>\n</table>\n</div>"
     },
     "execution_count": 65,
     "metadata": {},
     "output_type": "execute_result"
    }
   ],
   "source": [
    "evaluation.sort_values(by=[\"test_rec\"], ascending=False)"
   ],
   "metadata": {
    "collapsed": false,
    "ExecuteTime": {
     "end_time": "2024-11-17T15:36:00.224591900Z",
     "start_time": "2024-11-17T15:35:59.956595500Z"
    }
   }
  },
  {
   "cell_type": "markdown",
   "source": [
    "#### Visualisierung"
   ],
   "metadata": {
    "collapsed": false
   }
  },
  {
   "cell_type": "code",
   "execution_count": 66,
   "outputs": [],
   "source": [
    "import seaborn as sns\n",
    "import matplotlib.pyplot as plt"
   ],
   "metadata": {
    "collapsed": false,
    "ExecuteTime": {
     "end_time": "2024-11-17T15:36:00.224591900Z",
     "start_time": "2024-11-17T15:36:00.024591Z"
    }
   }
  },
  {
   "cell_type": "code",
   "execution_count": 67,
   "outputs": [
    {
     "data": {
      "text/plain": "<Figure size 1000x700 with 1 Axes>",
      "image/png": "[encoded data removed]"
     },
     "metadata": {},
     "output_type": "display_data"
    }
   ],
   "source": [
    "fig, ax = plt.subplots(figsize=(10, 7))\n",
    "\n",
    "sns.scatterplot(data=evaluation, y=evaluation['train_f1'], x=evaluation.model, ax=ax)\n",
    "sns.scatterplot(data=evaluation, y=evaluation['test_f1'], x=evaluation.model, ax=ax)\n",
    "\n",
    "plt.show()"
   ],
   "metadata": {
    "collapsed": false,
    "ExecuteTime": {
     "end_time": "2024-11-17T15:36:00.426591400Z",
     "start_time": "2024-11-17T15:36:00.025589700Z"
    }
   }
  },
  {
   "cell_type": "code",
   "execution_count": 68,
   "outputs": [
    {
     "data": {
      "text/plain": "<Figure size 2000x700 with 1 Axes>",
      "image/png": "[encoded data removed]"
     },
     "metadata": {},
     "output_type": "display_data"
    }
   ],
   "source": [
    "fig, ax = plt.subplots(figsize=(20, 7))\n",
    "\n",
    "sns.scatterplot(data=evaluation, y=evaluation['train_f1'].head(10), x=evaluation.variant, ax=ax)\n",
    "sns.scatterplot(data=evaluation, y=evaluation['test_f1'].head(10), x=evaluation.variant, ax=ax)\n",
    "\n",
    "plt.show()"
   ],
   "metadata": {
    "collapsed": false,
    "ExecuteTime": {
     "end_time": "2024-11-17T15:36:00.673592300Z",
     "start_time": "2024-11-17T15:36:00.306595500Z"
    }
   }
  },
  {
   "cell_type": "code",
   "execution_count": 69,
   "outputs": [
    {
     "data": {
      "text/plain": "<Axes: xlabel='model', ylabel='test_f1'>"
     },
     "execution_count": 69,
     "metadata": {},
     "output_type": "execute_result"
    },
    {
     "data": {
      "text/plain": "<Figure size 640x480 with 1 Axes>",
      "image/png": "[encoded data removed]"
     },
     "metadata": {},
     "output_type": "display_data"
    }
   ],
   "source": [
    "sns.barplot(data=evaluation, y=evaluation.test_f1, x=evaluation.model)"
   ],
   "metadata": {
    "collapsed": false,
    "ExecuteTime": {
     "end_time": "2024-11-17T15:36:00.990589800Z",
     "start_time": "2024-11-17T15:36:00.670590100Z"
    }
   }
  },
  {
   "cell_type": "code",
   "execution_count": 69,
   "outputs": [],
   "source": [],
   "metadata": {
    "collapsed": false,
    "ExecuteTime": {
     "end_time": "2024-11-17T15:36:01.004595800Z",
     "start_time": "2024-11-17T15:36:00.989591300Z"
    }
   }
  }
 ],
 "metadata": {
  "kernelspec": {
   "display_name": "Python 3",
   "language": "python",
   "name": "python3"
  },
  "language_info": {
   "codemirror_mode": {
    "name": "ipython",
    "version": 2
   },
   "file_extension": ".py",
   "mimetype": "text/x-python",
   "name": "python",
   "nbconvert_exporter": "python",
   "pygments_lexer": "ipython2",
   "version": "2.7.6"
  }
 },
 "nbformat": 4,
 "nbformat_minor": 0
}
