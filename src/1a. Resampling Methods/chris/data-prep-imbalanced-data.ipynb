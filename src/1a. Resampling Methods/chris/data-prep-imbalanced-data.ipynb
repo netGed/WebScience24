{
 "cells": [
  {
   "cell_type": "markdown",
   "source": [
    "#### Imports & Downloads"
   ],
   "metadata": {
    "collapsed": false
   }
  },
  {
   "cell_type": "code",
   "execution_count": 2,
   "outputs": [],
   "source": [
    "import pandas as pd\n",
    "import os\n",
    "from gensim.models import Word2Vec\n",
    "from sklearn.feature_extraction.text import TfidfVectorizer\n",
    "import numpy as np\n",
    "from imblearn.under_sampling import NearMiss, CondensedNearestNeighbour, NeighbourhoodCleaningRule\n",
    "from imblearn.over_sampling import SMOTE, BorderlineSMOTE, SVMSMOTE, ADASYN\n",
    "from imblearn.under_sampling import TomekLinks\n",
    "import time\n",
    "from sklearn.model_selection import GridSearchCV\n",
    "\n",
    "from collections import Counter\n",
    "from sklearn.metrics import precision_score, recall_score, f1_score, confusion_matrix, classification_report\n",
    "from sklearn import metrics\n",
    "from sklearn.model_selection import train_test_split\n",
    "\n",
    "from sklearn.ensemble import RandomForestClassifier, StackingClassifier\n",
    "from imblearn.ensemble import BalancedRandomForestClassifier\n",
    "from xgboost import XGBClassifier\n",
    "from sklearn.svm import LinearSVC\n",
    "\n",
    "from catboost import CatBoostClassifier\n",
    "from lightgbm import LGBMClassifier"
   ],
   "metadata": {
    "collapsed": false,
    "ExecuteTime": {
     "end_time": "2024-11-14T19:08:54.993843100Z",
     "start_time": "2024-11-14T19:08:50.824969900Z"
    }
   }
  },
  {
   "cell_type": "markdown",
   "source": [
    "### Einladen der Daten"
   ],
   "metadata": {
    "collapsed": false
   }
  },
  {
   "cell_type": "markdown",
   "source": [
    "#### Originaldaten ohne umfassende Vorverarbeitung"
   ],
   "metadata": {
    "collapsed": false
   }
  },
  {
   "cell_type": "code",
   "execution_count": 3,
   "outputs": [
    {
     "data": {
      "text/plain": "    label                                              tweet\nid                                                          \n1       0   @user when a father is dysfunctional and is s...\n2       0  @user @user thanks for #lyft credit i can't us...\n3       0                                bihday your majesty\n4       0  #model   i love u take with u all the time in ...\n5       0             factsguide: society now    #motivation",
      "text/html": "<div>\n<style scoped>\n    .dataframe tbody tr th:only-of-type {\n        vertical-align: middle;\n    }\n\n    .dataframe tbody tr th {\n        vertical-align: top;\n    }\n\n    .dataframe thead th {\n        text-align: right;\n    }\n</style>\n<table border=\"1\" class=\"dataframe\">\n  <thead>\n    <tr style=\"text-align: right;\">\n      <th></th>\n      <th>label</th>\n      <th>tweet</th>\n    </tr>\n    <tr>\n      <th>id</th>\n      <th></th>\n      <th></th>\n    </tr>\n  </thead>\n  <tbody>\n    <tr>\n      <th>1</th>\n      <td>0</td>\n      <td>@user when a father is dysfunctional and is s...</td>\n    </tr>\n    <tr>\n      <th>2</th>\n      <td>0</td>\n      <td>@user @user thanks for #lyft credit i can't us...</td>\n    </tr>\n    <tr>\n      <th>3</th>\n      <td>0</td>\n      <td>bihday your majesty</td>\n    </tr>\n    <tr>\n      <th>4</th>\n      <td>0</td>\n      <td>#model   i love u take with u all the time in ...</td>\n    </tr>\n    <tr>\n      <th>5</th>\n      <td>0</td>\n      <td>factsguide: society now    #motivation</td>\n    </tr>\n  </tbody>\n</table>\n</div>"
     },
     "execution_count": 3,
     "metadata": {},
     "output_type": "execute_result"
    }
   ],
   "source": [
    "current_dir = os.getcwd()\n",
    "csv_path_train = os.path.abspath(os.path.join(current_dir, '../../../data/twitter_hate-speech/train_basic_cleaned.csv'))\n",
    "df = pd.read_csv(csv_path_train, encoding='utf-8', index_col=0)\n",
    "\n",
    "df.head()"
   ],
   "metadata": {
    "collapsed": false,
    "ExecuteTime": {
     "end_time": "2024-11-14T19:08:54.993843100Z",
     "start_time": "2024-11-14T19:08:52.764290Z"
    }
   }
  },
  {
   "cell_type": "code",
   "execution_count": 4,
   "outputs": [
    {
     "name": "stdout",
     "output_type": "stream",
     "text": [
      "Positive: 2013\n",
      "Negative: 27517\n",
      "Verhältnis: 13.669647292598112\n"
     ]
    }
   ],
   "source": [
    "df['label'].value_counts()\n",
    "positive = len(df[df['label'] == 1])\n",
    "negative = len(df[df['label'] == 0])\n",
    "print(\"Positive:\", positive)\n",
    "print(\"Negative:\", negative)\n",
    "print(\"Verhältnis:\", negative / positive)"
   ],
   "metadata": {
    "collapsed": false,
    "ExecuteTime": {
     "end_time": "2024-11-14T19:08:54.993843100Z",
     "start_time": "2024-11-14T19:08:52.844959300Z"
    }
   }
  },
  {
   "cell_type": "markdown",
   "source": [
    "#### Vorverarbeitete Daten"
   ],
   "metadata": {
    "collapsed": false
   }
  },
  {
   "cell_type": "code",
   "execution_count": 5,
   "outputs": [
    {
     "data": {
      "text/plain": "    label                                              tweet  \\\nid                                                             \n1       0   @user when a father is dysfunctional and is s...   \n2       0  @user @user thanks for #lyft credit i can't us...   \n3       0                                bihday your majesty   \n4       0  #model   i love u take with u all the time in ...   \n5       0             factsguide: society now    #motivation   \n\n                                        tweet_cleaned  user_handle  \\\nid                                                                   \n1                         father selfish drag kid run            1   \n2               thank lyft credit use cause offer van            2   \n3                                      bihday majesty            0   \n4   model take time mobile phone kiss sunglass mou...            0   \n5                       factsguide society motivation            0   \n\n                                    hashtags  \\\nid                                             \n1                                   ['#run']   \n2   ['#lyft', '#disapointed', '#getthanked']   \n3                                         []   \n4                                 ['#model']   \n5                            ['#motivation']   \n\n                                               emojis  \nid                                                     \n1                                                 NaN  \n2                                                 NaN  \n3                                                 NaN  \n4   :mobile_phone:,:kissing_face_with_smiling_eyes...  \n5                                                 NaN  ",
      "text/html": "<div>\n<style scoped>\n    .dataframe tbody tr th:only-of-type {\n        vertical-align: middle;\n    }\n\n    .dataframe tbody tr th {\n        vertical-align: top;\n    }\n\n    .dataframe thead th {\n        text-align: right;\n    }\n</style>\n<table border=\"1\" class=\"dataframe\">\n  <thead>\n    <tr style=\"text-align: right;\">\n      <th></th>\n      <th>label</th>\n      <th>tweet</th>\n      <th>tweet_cleaned</th>\n      <th>user_handle</th>\n      <th>hashtags</th>\n      <th>emojis</th>\n    </tr>\n    <tr>\n      <th>id</th>\n      <th></th>\n      <th></th>\n      <th></th>\n      <th></th>\n      <th></th>\n      <th></th>\n    </tr>\n  </thead>\n  <tbody>\n    <tr>\n      <th>1</th>\n      <td>0</td>\n      <td>@user when a father is dysfunctional and is s...</td>\n      <td>father selfish drag kid run</td>\n      <td>1</td>\n      <td>['#run']</td>\n      <td>NaN</td>\n    </tr>\n    <tr>\n      <th>2</th>\n      <td>0</td>\n      <td>@user @user thanks for #lyft credit i can't us...</td>\n      <td>thank lyft credit use cause offer van</td>\n      <td>2</td>\n      <td>['#lyft', '#disapointed', '#getthanked']</td>\n      <td>NaN</td>\n    </tr>\n    <tr>\n      <th>3</th>\n      <td>0</td>\n      <td>bihday your majesty</td>\n      <td>bihday majesty</td>\n      <td>0</td>\n      <td>[]</td>\n      <td>NaN</td>\n    </tr>\n    <tr>\n      <th>4</th>\n      <td>0</td>\n      <td>#model   i love u take with u all the time in ...</td>\n      <td>model take time mobile phone kiss sunglass mou...</td>\n      <td>0</td>\n      <td>['#model']</td>\n      <td>:mobile_phone:,:kissing_face_with_smiling_eyes...</td>\n    </tr>\n    <tr>\n      <th>5</th>\n      <td>0</td>\n      <td>factsguide: society now    #motivation</td>\n      <td>factsguide society motivation</td>\n      <td>0</td>\n      <td>['#motivation']</td>\n      <td>NaN</td>\n    </tr>\n  </tbody>\n</table>\n</div>"
     },
     "execution_count": 5,
     "metadata": {},
     "output_type": "execute_result"
    }
   ],
   "source": [
    "current_dir = os.getcwd()\n",
    "csv_path_train = os.path.abspath(os.path.join(current_dir, '../../../data/twitter_hate-speech/train_cleaned.csv'))\n",
    "df_cleaned = pd.read_csv(csv_path_train, encoding='utf-8', index_col=0)\n",
    "\n",
    "df_cleaned.head()"
   ],
   "metadata": {
    "collapsed": false,
    "ExecuteTime": {
     "end_time": "2024-11-14T19:08:54.993843100Z",
     "start_time": "2024-11-14T19:08:52.865349200Z"
    }
   }
  },
  {
   "cell_type": "code",
   "execution_count": 6,
   "outputs": [],
   "source": [
    "df_cleaned.dropna(subset=['tweet_cleaned'], inplace=True)  #irgendwoher kommt eine na row in tweet_cleaned, dadurch funktioniert der Vectorizer nicht"
   ],
   "metadata": {
    "collapsed": false,
    "ExecuteTime": {
     "end_time": "2024-11-14T19:08:54.993843100Z",
     "start_time": "2024-11-14T19:08:52.986535200Z"
    }
   }
  },
  {
   "cell_type": "code",
   "execution_count": 7,
   "outputs": [
    {
     "name": "stdout",
     "output_type": "stream",
     "text": [
      "Positive: 1811\n",
      "Negative: 25838\n",
      "Verhältnis: 14.267255659856433\n"
     ]
    }
   ],
   "source": [
    "df_cleaned['label'].value_counts()\n",
    "positive = len(df_cleaned[df_cleaned['label'] == 1])\n",
    "negative = len(df_cleaned[df_cleaned['label'] == 0])\n",
    "print(\"Positive:\", positive)\n",
    "print(\"Negative:\", negative)\n",
    "print(\"Verhältnis:\", negative / positive)"
   ],
   "metadata": {
    "collapsed": false,
    "ExecuteTime": {
     "end_time": "2024-11-14T19:08:54.993843100Z",
     "start_time": "2024-11-14T19:08:53.006733100Z"
    }
   }
  },
  {
   "cell_type": "markdown",
   "source": [
    "Verhältnis hat sich durch die Bereinigung sogar noch weiter verschlechter"
   ],
   "metadata": {
    "collapsed": false
   }
  },
  {
   "cell_type": "markdown",
   "source": [
    "### Train/Test Split"
   ],
   "metadata": {
    "collapsed": false
   }
  },
  {
   "cell_type": "code",
   "execution_count": 8,
   "outputs": [],
   "source": [
    "def print_pos_neg(y_train, y_test):\n",
    "    positive = np.count_nonzero(y_train == 1)\n",
    "    negative = np.count_nonzero(y_train == 0)\n",
    "    print(\"Train\")\n",
    "    print(\"- Positive:\", positive)\n",
    "    print(\"- Negative:\", negative)\n",
    "    print(\"- Verhältnis:\", negative / positive)\n",
    "\n",
    "    positive = np.count_nonzero(y_test == 1)\n",
    "    negative = np.count_nonzero(y_test == 0)\n",
    "    print(\"Test\")\n",
    "    print(\"- Positive:\", positive)\n",
    "    print(\"- Negative:\", negative)\n",
    "    print(\"- Verhältnis:\", negative / positive)"
   ],
   "metadata": {
    "collapsed": false,
    "ExecuteTime": {
     "end_time": "2024-11-14T19:08:54.993843100Z",
     "start_time": "2024-11-14T19:08:53.026988900Z"
    }
   }
  },
  {
   "cell_type": "code",
   "execution_count": 9,
   "outputs": [],
   "source": [
    "X_base = df[\"tweet\"]\n",
    "y_base = df[\"label\"]"
   ],
   "metadata": {
    "collapsed": false,
    "ExecuteTime": {
     "end_time": "2024-11-14T19:08:54.993843100Z",
     "start_time": "2024-11-14T19:08:53.047159600Z"
    }
   }
  },
  {
   "cell_type": "code",
   "execution_count": 10,
   "outputs": [
    {
     "name": "stdout",
     "output_type": "stream",
     "text": [
      "Train\n",
      "- Positive: 1401\n",
      "- Negative: 19270\n",
      "- Verhältnis: 13.754461099214847\n",
      "Test\n",
      "- Positive: 612\n",
      "- Negative: 8247\n",
      "- Verhältnis: 13.47549019607843\n"
     ]
    }
   ],
   "source": [
    "# Ohne stratify\n",
    "X_train_base, X_test_base, y_train_base, y_test_base = train_test_split(X_base, y_base, test_size=0.3, random_state=42)\n",
    "print_pos_neg(y_train_base, y_test_base)"
   ],
   "metadata": {
    "collapsed": false,
    "ExecuteTime": {
     "end_time": "2024-11-14T19:08:54.993843100Z",
     "start_time": "2024-11-14T19:08:53.067362500Z"
    }
   }
  },
  {
   "cell_type": "code",
   "execution_count": 11,
   "outputs": [
    {
     "name": "stdout",
     "output_type": "stream",
     "text": [
      "Train\n",
      "- Positive: 1409\n",
      "- Negative: 19262\n",
      "- Verhältnis: 13.67068843151171\n",
      "Test\n",
      "- Positive: 604\n",
      "- Negative: 8255\n",
      "- Verhältnis: 13.667218543046358\n"
     ]
    }
   ],
   "source": [
    "# mit stratify\n",
    "X_train_base, X_test_base, y_train_base, y_test_base = train_test_split(X_base, y_base, test_size=0.3, stratify=y_base,\n",
    "                                                                        random_state=42)\n",
    "print_pos_neg(y_train_base, y_test_base)"
   ],
   "metadata": {
    "collapsed": false,
    "ExecuteTime": {
     "end_time": "2024-11-14T19:08:54.993843100Z",
     "start_time": "2024-11-14T19:08:53.087561900Z"
    }
   }
  },
  {
   "cell_type": "code",
   "execution_count": 12,
   "outputs": [],
   "source": [
    "X_clean = df_cleaned[\"tweet_cleaned\"]\n",
    "y_clean = df_cleaned[\"label\"]"
   ],
   "metadata": {
    "collapsed": false,
    "ExecuteTime": {
     "end_time": "2024-11-14T19:08:54.993843100Z",
     "start_time": "2024-11-14T19:08:53.127887800Z"
    }
   }
  },
  {
   "cell_type": "code",
   "execution_count": 13,
   "outputs": [
    {
     "name": "stdout",
     "output_type": "stream",
     "text": [
      "Train\n",
      "- Positive: 1270\n",
      "- Negative: 18084\n",
      "- Verhältnis: 14.239370078740157\n",
      "Test\n",
      "- Positive: 541\n",
      "- Negative: 7754\n",
      "- Verhältnis: 14.33271719038817\n"
     ]
    }
   ],
   "source": [
    "# Ohne stratify\n",
    "X_train_clean, X_test_clean, y_train_clean, y_test_clean = train_test_split(X_clean, y_clean, test_size=0.3,\n",
    "                                                                            random_state=42)\n",
    "print_pos_neg(y_train_clean, y_test_clean)"
   ],
   "metadata": {
    "collapsed": false,
    "ExecuteTime": {
     "end_time": "2024-11-14T19:08:54.993843100Z",
     "start_time": "2024-11-14T19:08:53.148051Z"
    }
   }
  },
  {
   "cell_type": "code",
   "execution_count": 14,
   "outputs": [
    {
     "name": "stdout",
     "output_type": "stream",
     "text": [
      "Train\n",
      "- Positive: 1268\n",
      "- Negative: 18086\n",
      "- Verhältnis: 14.263406940063092\n",
      "Test\n",
      "- Positive: 543\n",
      "- Negative: 7752\n",
      "- Verhältnis: 14.276243093922652\n"
     ]
    }
   ],
   "source": [
    "# mit stratify\n",
    "X_train_clean, X_test_clean, y_train_clean, y_test_clean = train_test_split(X_clean, y_clean, test_size=0.3,\n",
    "                                                                            stratify=y_clean, random_state=42)\n",
    "print_pos_neg(y_train_clean, y_test_clean)"
   ],
   "metadata": {
    "collapsed": false,
    "ExecuteTime": {
     "end_time": "2024-11-14T19:08:54.993843100Z",
     "start_time": "2024-11-14T19:08:53.168386400Z"
    }
   }
  },
  {
   "cell_type": "markdown",
   "source": [
    "### Vektorisierung"
   ],
   "metadata": {
    "collapsed": false
   }
  },
  {
   "cell_type": "code",
   "execution_count": 15,
   "outputs": [],
   "source": [
    "# https://spotintelligence.com/2023/02/15/word2vec-for-text-classification/#Unsupervised_text_classification_Word2Vec\n",
    "\n",
    "# def vectorize(sentence, w2v_model):\n",
    "#     words = sentence.split()\n",
    "#     words_vecs = [w2v_model.wv[word] for word in words if word in w2v_model.wv]\n",
    "#     if len(words_vecs) == 0:\n",
    "#         return np.zeros(100)\n",
    "#     words_vecs = np.array(words_vecs)\n",
    "#     return words_vecs.mean(axis=0)\n",
    "\n",
    "\n",
    "# def vectorize_df(df):\n",
    "#     X = df[\"tweet\"]\n",
    "#     y = df[\"label\"]\n",
    "#\n",
    "#     sentences_base = [sentence.split() for sentence in X]\n",
    "#     w2v_model_base = Word2Vec(sentences_base, window=5, min_count=5, workers=-1)\n",
    "#\n",
    "#     x_data = np.array([vectorize(sentence, w2v_model_base) for sentence in X])\n",
    "#     return x_data, y\n",
    "\n",
    "\n",
    "# def vectorize_df_cleaned(df):\n",
    "#     X = df[\"tweet_cleaned\"]\n",
    "#     y = df[\"label\"]\n",
    "#\n",
    "#     sentences_base = [sentence.split() for sentence in X]\n",
    "#     w2v_model_base = Word2Vec(sentences_base, window=5, min_count=5, workers=-1, )\n",
    "#\n",
    "#     x_data = np.array([vectorize(sentence, w2v_model_base) for sentence in X])\n",
    "#     return x_data, y\n",
    "\n",
    "\n",
    "# X_base, y_base = vectorize_df(df)\n",
    "# X_clean, y_clean = vectorize_df(df_cleaned)\n",
    "\n",
    "\n",
    "# nicht richtig genutzt, führt zu falschen train/test Daten"
   ],
   "metadata": {
    "collapsed": false,
    "ExecuteTime": {
     "end_time": "2024-11-14T19:08:54.993843100Z",
     "start_time": "2024-11-14T19:08:53.188542900Z"
    }
   }
  },
  {
   "cell_type": "code",
   "execution_count": 16,
   "outputs": [],
   "source": [
    "vectorizer = TfidfVectorizer(max_features=5000)\n",
    "\n",
    "X_train_base = vectorizer.fit_transform(X_train_base)\n",
    "X_test_base = vectorizer.transform(X_test_base)"
   ],
   "metadata": {
    "collapsed": false,
    "ExecuteTime": {
     "end_time": "2024-11-14T19:08:55.014010800Z",
     "start_time": "2024-11-14T19:08:53.208720900Z"
    }
   }
  },
  {
   "cell_type": "code",
   "execution_count": 17,
   "outputs": [
    {
     "name": "stdout",
     "output_type": "stream",
     "text": [
      "X_train_base shape (20671, 5000)\n",
      "y_train_base shape (20671,)\n",
      "X_test_base shape (8859, 5000)\n",
      "y_test_base shape (8859,)\n"
     ]
    }
   ],
   "source": [
    "print(\"X_train_base shape\", X_train_base.shape)\n",
    "print(\"y_train_base shape\", y_train_base.shape)\n",
    "\n",
    "print(\"X_test_base shape\", X_test_base.shape)\n",
    "print(\"y_test_base shape\", y_test_base.shape)"
   ],
   "metadata": {
    "collapsed": false,
    "ExecuteTime": {
     "end_time": "2024-11-14T19:08:55.052375700Z",
     "start_time": "2024-11-14T19:08:53.795873500Z"
    }
   }
  },
  {
   "cell_type": "code",
   "execution_count": 18,
   "outputs": [],
   "source": [
    "vectorizer_clean = TfidfVectorizer(max_features=5000)\n",
    "\n",
    "X_train_clean = vectorizer_clean.fit_transform(X_train_clean)\n",
    "X_test_clean = vectorizer_clean.transform(X_test_clean)"
   ],
   "metadata": {
    "collapsed": false,
    "ExecuteTime": {
     "end_time": "2024-11-14T19:08:55.052375700Z",
     "start_time": "2024-11-14T19:08:53.816090300Z"
    }
   }
  },
  {
   "cell_type": "code",
   "execution_count": 19,
   "outputs": [
    {
     "name": "stdout",
     "output_type": "stream",
     "text": [
      "X_train_clean shape (19354, 5000)\n",
      "y_train_clean shape (19354,)\n",
      "X_test_clean shape (8295, 5000)\n",
      "y_test_clean shape (8295,)\n"
     ]
    }
   ],
   "source": [
    "print(\"X_train_clean shape\", X_train_clean.shape)\n",
    "print(\"y_train_clean shape\", y_train_clean.shape)\n",
    "\n",
    "print(\"X_test_clean shape\", X_test_clean.shape)\n",
    "print(\"y_test_clean shape\", y_test_clean.shape)"
   ],
   "metadata": {
    "collapsed": false,
    "ExecuteTime": {
     "end_time": "2024-11-14T19:08:55.052375700Z",
     "start_time": "2024-11-14T19:08:54.139873300Z"
    }
   }
  },
  {
   "cell_type": "markdown",
   "source": [
    "### 1. Resampling Methods"
   ],
   "metadata": {
    "collapsed": false
   }
  },
  {
   "cell_type": "code",
   "execution_count": 20,
   "outputs": [],
   "source": [
    "def print_data(y_before, y_after, sampling_technique):\n",
    "    counter_before = Counter(y_before)\n",
    "    counter_after = Counter(y_after)\n",
    "    print(\"Before sampling with:\", sampling_technique, counter_before)\n",
    "    print(\"After sampling with:\", sampling_technique, counter_after)"
   ],
   "metadata": {
    "collapsed": false,
    "ExecuteTime": {
     "end_time": "2024-11-14T19:08:55.052375700Z",
     "start_time": "2024-11-14T19:08:54.157927600Z"
    }
   }
  },
  {
   "cell_type": "markdown",
   "source": [
    "#### 1.1 Oversampling"
   ],
   "metadata": {
    "collapsed": false
   }
  },
  {
   "cell_type": "markdown",
   "source": [
    "##### 1.1.1 SMOTE"
   ],
   "metadata": {
    "collapsed": false
   }
  },
  {
   "cell_type": "code",
   "execution_count": 21,
   "outputs": [],
   "source": [
    "os_smote = SMOTE()"
   ],
   "metadata": {
    "collapsed": false,
    "ExecuteTime": {
     "end_time": "2024-11-14T19:08:55.052375700Z",
     "start_time": "2024-11-14T19:08:54.173567700Z"
    }
   }
  },
  {
   "cell_type": "code",
   "execution_count": 22,
   "outputs": [
    {
     "name": "stdout",
     "output_type": "stream",
     "text": [
      "Before sampling with: SMOTE Counter({0: 19262, 1: 1409})\n",
      "After sampling with: SMOTE Counter({1: 19262, 0: 19262})\n"
     ]
    }
   ],
   "source": [
    "X_train_base_s, y_train_base_s = os_smote.fit_resample(X_train_base, y_train_base)\n",
    "print_data(y_train_base, y_train_base_s, \"SMOTE\")"
   ],
   "metadata": {
    "collapsed": false,
    "ExecuteTime": {
     "end_time": "2024-11-14T19:08:55.054414100Z",
     "start_time": "2024-11-14T19:08:54.189192200Z"
    }
   }
  },
  {
   "cell_type": "code",
   "execution_count": 23,
   "outputs": [
    {
     "name": "stdout",
     "output_type": "stream",
     "text": [
      "Before sampling with: SMOTE Counter({0: 18086, 1: 1268})\n",
      "After sampling with: SMOTE Counter({0: 18086, 1: 18086})\n"
     ]
    }
   ],
   "source": [
    "X_train_clean_s, y_train_clean_s = os_smote.fit_resample(X_train_clean, y_train_clean)\n",
    "print_data(y_train_clean, y_train_clean_s, \"SMOTE\")"
   ],
   "metadata": {
    "collapsed": false,
    "ExecuteTime": {
     "end_time": "2024-11-14T19:08:55.054414100Z",
     "start_time": "2024-11-14T19:08:54.505565800Z"
    }
   }
  },
  {
   "cell_type": "markdown",
   "source": [
    "##### 1.1.2 Borderline-SMOTE"
   ],
   "metadata": {
    "collapsed": false
   }
  },
  {
   "cell_type": "code",
   "execution_count": 24,
   "outputs": [],
   "source": [
    "os_bsmote = BorderlineSMOTE()"
   ],
   "metadata": {
    "collapsed": false,
    "ExecuteTime": {
     "end_time": "2024-11-14T19:08:55.054414100Z",
     "start_time": "2024-11-14T19:08:54.621488500Z"
    }
   }
  },
  {
   "cell_type": "code",
   "execution_count": 25,
   "outputs": [
    {
     "name": "stdout",
     "output_type": "stream",
     "text": [
      "Before sampling with: BorderlineSMOTE Counter({0: 19262, 1: 1409})\n",
      "After sampling with: BorderlineSMOTE Counter({1: 19262, 0: 19262})\n"
     ]
    }
   ],
   "source": [
    "X_train_base_bs, y_train_base_bs = os_bsmote.fit_resample(X_train_base, y_train_base)\n",
    "print_data(y_train_base, y_train_base_bs, \"BorderlineSMOTE\")"
   ],
   "metadata": {
    "collapsed": false,
    "ExecuteTime": {
     "end_time": "2024-11-14T19:08:55.558718300Z",
     "start_time": "2024-11-14T19:08:54.637115700Z"
    }
   }
  },
  {
   "cell_type": "code",
   "execution_count": 26,
   "outputs": [
    {
     "name": "stdout",
     "output_type": "stream",
     "text": [
      "Before sampling with: BorderlineSMOTE Counter({0: 18086, 1: 1268})\n",
      "After sampling with: BorderlineSMOTE Counter({0: 18086, 1: 18086})\n"
     ]
    }
   ],
   "source": [
    "X_train_clean_bs, y_train_clean_bs = os_bsmote.fit_resample(X_train_clean, y_train_clean)\n",
    "print_data(y_train_clean, y_train_clean_bs, \"BorderlineSMOTE\")"
   ],
   "metadata": {
    "collapsed": false,
    "ExecuteTime": {
     "end_time": "2024-11-14T19:08:55.947522600Z",
     "start_time": "2024-11-14T19:08:55.528497400Z"
    }
   }
  },
  {
   "cell_type": "markdown",
   "source": [
    "##### 1.1.3 ADASYN"
   ],
   "metadata": {
    "collapsed": false
   }
  },
  {
   "cell_type": "code",
   "execution_count": 27,
   "outputs": [],
   "source": [
    "os_ada = ADASYN()"
   ],
   "metadata": {
    "collapsed": false,
    "ExecuteTime": {
     "end_time": "2024-11-14T19:08:55.994398900Z",
     "start_time": "2024-11-14T19:08:55.947522600Z"
    }
   }
  },
  {
   "cell_type": "code",
   "execution_count": 28,
   "outputs": [
    {
     "name": "stdout",
     "output_type": "stream",
     "text": [
      "Before sampling with: ADASYN Counter({0: 19262, 1: 1409})\n",
      "After sampling with: ADASYN Counter({0: 19262, 1: 18876})\n"
     ]
    }
   ],
   "source": [
    "X_train_base_a, y_train_base_a = os_ada.fit_resample(X_train_base, y_train_base)\n",
    "print_data(y_train_base, y_train_base_a, \"ADASYN\")"
   ],
   "metadata": {
    "collapsed": false,
    "ExecuteTime": {
     "end_time": "2024-11-14T19:08:58.409952Z",
     "start_time": "2024-11-14T19:08:55.963149100Z"
    }
   }
  },
  {
   "cell_type": "code",
   "execution_count": 29,
   "outputs": [
    {
     "name": "stdout",
     "output_type": "stream",
     "text": [
      "Before sampling with: ADASYN Counter({0: 18086, 1: 1268})\n",
      "After sampling with: ADASYN Counter({1: 18656, 0: 18086})\n"
     ]
    }
   ],
   "source": [
    "X_train_clean_a, y_train_clean_a = os_ada.fit_resample(X_train_clean, y_train_clean)\n",
    "print_data(y_train_clean, y_train_clean_a, \"ADASYN\")"
   ],
   "metadata": {
    "collapsed": false,
    "ExecuteTime": {
     "end_time": "2024-11-14T19:08:58.752986800Z",
     "start_time": "2024-11-14T19:08:58.409952Z"
    }
   }
  },
  {
   "cell_type": "markdown",
   "source": [
    "#### 1.2 Undersampling"
   ],
   "metadata": {
    "collapsed": false
   }
  },
  {
   "cell_type": "markdown",
   "source": [
    "##### 1.2.1 NearMiss"
   ],
   "metadata": {
    "collapsed": false
   }
  },
  {
   "cell_type": "code",
   "execution_count": 30,
   "outputs": [],
   "source": [
    "us_near_miss = NearMiss(version=3, n_neighbors_ver3=3)"
   ],
   "metadata": {
    "collapsed": false,
    "ExecuteTime": {
     "end_time": "2024-11-14T19:08:58.846739700Z",
     "start_time": "2024-11-14T19:08:58.752986800Z"
    }
   }
  },
  {
   "cell_type": "code",
   "execution_count": 31,
   "outputs": [
    {
     "name": "stdout",
     "output_type": "stream",
     "text": [
      "Before sampling with: NearMiss Counter({0: 19262, 1: 1409})\n",
      "After sampling with: NearMiss Counter({1: 1409, 0: 185})\n"
     ]
    },
    {
     "name": "stderr",
     "output_type": "stream",
     "text": [
      "C:\\Users\\admin\\anaconda3\\lib\\site-packages\\imblearn\\under_sampling\\_prototype_selection\\_nearmiss.py:203: UserWarning: The number of the samples to be selected is larger than the number of samples available. The balancing ratio cannot be ensure and all samples will be returned.\n",
      "  warnings.warn(\n"
     ]
    }
   ],
   "source": [
    "X_train_base_nm, y_train_base_nm = us_near_miss.fit_resample(X_train_base, y_train_base)\n",
    "print_data(y_train_base, y_train_base_nm, \"NearMiss\")"
   ],
   "metadata": {
    "collapsed": false,
    "ExecuteTime": {
     "end_time": "2024-11-14T19:09:00.000699800Z",
     "start_time": "2024-11-14T19:08:58.768611900Z"
    }
   }
  },
  {
   "cell_type": "code",
   "execution_count": 32,
   "outputs": [
    {
     "name": "stdout",
     "output_type": "stream",
     "text": [
      "Before sampling with: NearMiss Counter({0: 18086, 1: 1268})\n",
      "After sampling with: NearMiss Counter({1: 1268, 0: 357})\n"
     ]
    },
    {
     "name": "stderr",
     "output_type": "stream",
     "text": [
      "C:\\Users\\admin\\anaconda3\\lib\\site-packages\\imblearn\\under_sampling\\_prototype_selection\\_nearmiss.py:203: UserWarning: The number of the samples to be selected is larger than the number of samples available. The balancing ratio cannot be ensure and all samples will be returned.\n",
      "  warnings.warn(\n"
     ]
    }
   ],
   "source": [
    "X_train_clean_nm, y_train_clean_nm = us_near_miss.fit_resample(X_train_clean, y_train_clean)\n",
    "print_data(y_train_clean, y_train_clean_nm, \"NearMiss\")"
   ],
   "metadata": {
    "collapsed": false,
    "ExecuteTime": {
     "end_time": "2024-11-14T19:09:00.286504Z",
     "start_time": "2024-11-14T19:09:00.000699800Z"
    }
   }
  },
  {
   "cell_type": "markdown",
   "source": [
    "##### 1.2.2 Condensed Nearest Neighbor"
   ],
   "metadata": {
    "collapsed": false
   }
  },
  {
   "cell_type": "code",
   "execution_count": 33,
   "outputs": [],
   "source": [
    "us_cnn = CondensedNearestNeighbour(n_neighbors=1, n_jobs=-1)  # sehr langsam"
   ],
   "metadata": {
    "collapsed": false,
    "ExecuteTime": {
     "end_time": "2024-11-14T19:09:00.364629100Z",
     "start_time": "2024-11-14T19:09:00.286504Z"
    }
   }
  },
  {
   "cell_type": "code",
   "execution_count": 34,
   "outputs": [],
   "source": [
    "# X_train_base_cnn, y_train_base_cnn = us_cnn.fit_resample(X_train_base, y_train_base)\n",
    "# print_data(y_train_base, y_train_base_cnn, \"CondensedNearestNeighbour\")"
   ],
   "metadata": {
    "collapsed": false,
    "ExecuteTime": {
     "end_time": "2024-11-14T19:09:00.386783800Z",
     "start_time": "2024-11-14T19:09:00.302129Z"
    }
   }
  },
  {
   "cell_type": "code",
   "execution_count": 35,
   "outputs": [],
   "source": [
    "# X_train_clean_cnn, y_train_clean_cnn = us_cnn.fit_resample(X_train_clean, y_train_clean)\n",
    "# print_data(y_train_clean, y_train_clean_cnn, \"CondensedNearestNeighbour\")"
   ],
   "metadata": {
    "collapsed": false,
    "ExecuteTime": {
     "end_time": "2024-11-14T19:09:00.386783800Z",
     "start_time": "2024-11-14T19:09:00.317754100Z"
    }
   }
  },
  {
   "cell_type": "markdown",
   "source": [
    "##### 1.2.3 Neighborhood Cleaning"
   ],
   "metadata": {
    "collapsed": false
   }
  },
  {
   "cell_type": "code",
   "execution_count": 36,
   "outputs": [],
   "source": [
    "us_cnn_cr = NeighbourhoodCleaningRule(n_neighbors=3, threshold_cleaning=0.5, n_jobs=-1)  # sehr langsam"
   ],
   "metadata": {
    "collapsed": false,
    "ExecuteTime": {
     "end_time": "2024-11-14T19:09:00.386783800Z",
     "start_time": "2024-11-14T19:09:00.333378400Z"
    }
   }
  },
  {
   "cell_type": "code",
   "execution_count": 37,
   "outputs": [],
   "source": [
    "# X_train_base_ncr, y_train_base_ncr = us_cnn.fit_resample(X_train_base, y_train_base)\n",
    "# print_data(y_train_base, y_train_base_ncr, \"NeighbourhoodCleaningRule\")"
   ],
   "metadata": {
    "collapsed": false,
    "ExecuteTime": {
     "end_time": "2024-11-14T19:09:00.386783800Z",
     "start_time": "2024-11-14T19:09:00.349006500Z"
    }
   }
  },
  {
   "cell_type": "code",
   "execution_count": 38,
   "outputs": [],
   "source": [
    "# X_train_clean_ncr, y_train_clean_ncr = us_cnn.fit_resample(X_train_clean, y_train_clean)\n",
    "# print_data(y_train_clean, y_train_clean_ncr, \"NeighbourhoodCleaningRule\")"
   ],
   "metadata": {
    "collapsed": false,
    "ExecuteTime": {
     "end_time": "2024-11-14T19:09:00.502682500Z",
     "start_time": "2024-11-14T19:09:00.364629100Z"
    }
   }
  },
  {
   "cell_type": "markdown",
   "source": [
    "##### 1.2.4 Tomek Links Undersampler"
   ],
   "metadata": {
    "collapsed": false
   }
  },
  {
   "cell_type": "code",
   "execution_count": 39,
   "outputs": [],
   "source": [
    "us_tomek = TomekLinks()"
   ],
   "metadata": {
    "collapsed": false,
    "ExecuteTime": {
     "end_time": "2024-11-14T19:09:00.502682500Z",
     "start_time": "2024-11-14T19:09:00.386783800Z"
    }
   }
  },
  {
   "cell_type": "code",
   "execution_count": 40,
   "outputs": [
    {
     "name": "stdout",
     "output_type": "stream",
     "text": [
      "Before sampling with: TomekLinks Counter({0: 19262, 1: 1409})\n",
      "After sampling with: TomekLinks Counter({0: 19223, 1: 1409})\n"
     ]
    }
   ],
   "source": [
    "X_train_base_t, y_train_base_t = us_tomek.fit_resample(X_train_base, y_train_base)\n",
    "print_data(y_train_base, y_train_base_t, \"TomekLinks\")"
   ],
   "metadata": {
    "collapsed": false,
    "ExecuteTime": {
     "end_time": "2024-11-14T19:09:19.573204900Z",
     "start_time": "2024-11-14T19:09:00.402405700Z"
    }
   }
  },
  {
   "cell_type": "code",
   "execution_count": 41,
   "outputs": [
    {
     "name": "stdout",
     "output_type": "stream",
     "text": [
      "Before sampling with: TomekLinks Counter({0: 18086, 1: 1268})\n",
      "After sampling with: TomekLinks Counter({0: 18022, 1: 1268})\n"
     ]
    }
   ],
   "source": [
    "X_train_clean_t, y_train_clean_t = us_tomek.fit_resample(X_train_clean, y_train_clean)\n",
    "print_data(y_train_clean, y_train_clean_t, \"TomekLinks\")"
   ],
   "metadata": {
    "collapsed": false,
    "ExecuteTime": {
     "end_time": "2024-11-14T19:09:22.788225700Z",
     "start_time": "2024-11-14T19:09:19.573204900Z"
    }
   }
  },
  {
   "cell_type": "markdown",
   "source": [
    "### 2. Ensemble Models"
   ],
   "metadata": {
    "collapsed": false
   }
  },
  {
   "cell_type": "code",
   "execution_count": 42,
   "outputs": [],
   "source": [
    "evaluation = pd.DataFrame(\n",
    "    columns=[\"model\", \"variant\", \"train_acc\", \"train_prec\", \"train_rec\", \"train_f1\", \"test_acc\", \"test_prec\",\n",
    "             \"test_rec\", \"test_f1\"])"
   ],
   "metadata": {
    "collapsed": false,
    "ExecuteTime": {
     "end_time": "2024-11-14T19:09:22.838701600Z",
     "start_time": "2024-11-14T19:09:22.788225700Z"
    }
   }
  },
  {
   "cell_type": "code",
   "execution_count": 43,
   "outputs": [],
   "source": [
    "def add_to_eval_df(model, model_name, variant, x_data_train, y_data_train, x_data_test, y_data_test):\n",
    "    train_acc = model.score(x_data_train, y_data_train)\n",
    "    train_precision = precision_score(y_data_train, model.predict(x_data_train))\n",
    "    train_recall = recall_score(y_data_train, model.predict(x_data_train))\n",
    "    train_f1 = f1_score(y_data_train, model.predict(x_data_train))\n",
    "\n",
    "    test_acc = model.score(x_data_test, y_data_test)\n",
    "    test_precision = precision_score(y_data_test, model.predict(x_data_test))\n",
    "    test_recall = recall_score(y_data_test, model.predict(x_data_test))\n",
    "    test_f1 = f1_score(y_data_test, model.predict(x_data_test))\n",
    "\n",
    "    evaluation.loc[len(evaluation.index)] = [model_name, variant, train_acc, train_precision, train_recall, train_f1,\n",
    "                                             test_acc, test_precision, test_recall, test_f1]"
   ],
   "metadata": {
    "collapsed": false,
    "ExecuteTime": {
     "end_time": "2024-11-14T19:09:22.838701600Z",
     "start_time": "2024-11-14T19:09:22.818470Z"
    }
   }
  },
  {
   "cell_type": "code",
   "execution_count": 44,
   "outputs": [],
   "source": [
    "def evaluate_model(model, x_test, y_test, sampling_method):\n",
    "    pred = model.predict(x_test)\n",
    "    accscore = metrics.accuracy_score(pred, y_test)\n",
    "\n",
    "    print(f'{sampling_method} model accuracy for classification is =', str('{:04.2f}'.format(accscore * 100)) + '%')\n",
    "    print('------------------------------------------------')\n",
    "    print('Confusion Matrix:')\n",
    "    print(pd.DataFrame(confusion_matrix(y_test, pred)))\n",
    "    print('------------------------------------------------')\n",
    "    print('Classification Report:')\n",
    "    print(classification_report(y_test, pred))"
   ],
   "metadata": {
    "collapsed": false,
    "ExecuteTime": {
     "end_time": "2024-11-14T19:09:22.869097Z",
     "start_time": "2024-11-14T19:09:22.828631600Z"
    }
   }
  },
  {
   "cell_type": "code",
   "execution_count": 45,
   "outputs": [],
   "source": [
    "def fit_model(model, modelName):\n",
    "    print(\"Starting model fitting.\")\n",
    "\n",
    "    start = time.time()\n",
    "    print(\"1/12 Fitting: \", modelName, \"BASE started...\")\n",
    "    model.fit(X_train_base, y_train_base)\n",
    "    add_to_eval_df(model, modelName, \"base\", X_train_base, y_train_base, X_test_base, y_test_base)\n",
    "    end = time.time()\n",
    "    elapsed_time = round(end - start)\n",
    "    print(\"Fitting: \", modelName, \"finished. Elapsed time: \", elapsed_time, \"Seconds\")\n",
    "\n",
    "    start = time.time()\n",
    "    print(\"2/12 Fitting: \", modelName, \"CLEAN started...\")\n",
    "    model.fit(X_train_clean, y_train_clean)\n",
    "    add_to_eval_df(model, modelName, \"clean\", X_train_clean, y_train_clean, X_test_clean, y_test_clean)\n",
    "    end = time.time()\n",
    "    elapsed_time = round(end - start)\n",
    "    print(\"Fitting: \", modelName, \"finished. Elapsed time: \", elapsed_time, \"Seconds\")\n",
    "\n",
    "    start = time.time()\n",
    "    print(\"3/12 Fitting: \", modelName, \"SMOTE-base started...\")\n",
    "    model.fit(X_train_base_s, y_train_base_s)\n",
    "    add_to_eval_df(model, modelName, \"SMOTE base\", X_train_base_s, y_train_base_s, X_test_base, y_test_base)\n",
    "    end = time.time()\n",
    "    elapsed_time = round(end - start)\n",
    "    print(\"Fitting: \", modelName, \"finished. Elapsed time: \", elapsed_time, \"Seconds\")\n",
    "\n",
    "    start = time.time()\n",
    "    print(\"4/12 Fitting: \", modelName, \"SMOTE-clean started...\")\n",
    "    model.fit(X_train_clean_s, y_train_clean_s)\n",
    "    add_to_eval_df(model, modelName, \"SMOTE clean\", X_train_clean_s, y_train_clean_s, X_test_clean, y_test_clean)\n",
    "    end = time.time()\n",
    "    elapsed_time = round(end - start)\n",
    "    print(\"Fitting: \", modelName, \"finished. Elapsed time: \", elapsed_time, \"Seconds\")\n",
    "\n",
    "    start = time.time()\n",
    "    print(\"5/12 Fitting: \", modelName, \"BorderlineSMOTE-base started...\")\n",
    "    model.fit(X_train_base_bs, y_train_base_bs)\n",
    "    add_to_eval_df(model, modelName, \"BorderlineSMOTE base\", X_train_base_bs, y_train_base_bs, X_test_base, y_test_base)\n",
    "    end = time.time()\n",
    "    elapsed_time = round(end - start)\n",
    "    print(\"Fitting: \", modelName, \"finished. Elapsed time: \", elapsed_time, \"Seconds\")\n",
    "\n",
    "    start = time.time()\n",
    "    print(\"6/12 Fitting: \", modelName, \"BorderlineSMOTE-clean started...\")\n",
    "    model.fit(X_train_clean_bs, y_train_clean_bs)\n",
    "    add_to_eval_df(model, modelName, \"BorderlineSMOTE clean\", X_train_clean_bs, y_train_clean_bs, X_test_clean,\n",
    "                   y_test_clean)\n",
    "    end = time.time()\n",
    "    elapsed_time = round(end - start)\n",
    "    print(\"Fitting: \", modelName, \"finished. Elapsed time: \", elapsed_time, \"Seconds\")\n",
    "\n",
    "    start = time.time()\n",
    "    print(\"7/12 Fitting: \", modelName, \"ADASYN-base started...\")\n",
    "    model.fit(X_train_base_a, y_train_base_a)\n",
    "    add_to_eval_df(model, modelName, \"ADASYN base\", X_train_base_a, y_train_base_a, X_test_base, y_test_base)\n",
    "    end = time.time()\n",
    "    elapsed_time = round(end - start)\n",
    "    print(\"Fitting: \", modelName, \"finished. Elapsed time: \", elapsed_time, \"Seconds\")\n",
    "\n",
    "    start = time.time()\n",
    "    print(\"8/12 Fitting: \", modelName, \"ADASYN-clean started...\")\n",
    "    model.fit(X_train_clean_a, y_train_clean_a)\n",
    "    add_to_eval_df(model, modelName, \"ADASYN clean\", X_train_clean_a, y_train_clean_a, X_test_clean, y_test_clean)\n",
    "    end = time.time()\n",
    "    elapsed_time = round(end - start)\n",
    "    print(\"Fitting: \", modelName, \"finished. Elapsed time: \", elapsed_time, \"Seconds\")\n",
    "\n",
    "    start = time.time()\n",
    "    print(\"9/12 Fitting: \", modelName, \"NearMiss-base started...\")\n",
    "    model.fit(X_train_base_nm, y_train_base_nm)\n",
    "    add_to_eval_df(model, modelName, \"NearMiss base\", X_train_base_nm, y_train_base_nm, X_test_base, y_test_base)\n",
    "    end = time.time()\n",
    "    elapsed_time = round(end - start)\n",
    "    print(\"Fitting: \", modelName, \"finished. Elapsed time: \", elapsed_time, \"Seconds\")\n",
    "\n",
    "    start = time.time()\n",
    "    print(\"10/12 Fitting: \", modelName, \"NearMiss-clean started...\")\n",
    "    model.fit(X_train_clean_nm, y_train_clean_nm)\n",
    "    add_to_eval_df(model, modelName, \"NearMiss clean\", X_train_clean_nm, y_train_clean_nm, X_test_clean, y_test_clean)\n",
    "    end = time.time()\n",
    "    elapsed_time = round(end - start)\n",
    "    print(\"Fitting: \", modelName, \"finished. Elapsed time: \", elapsed_time, \"Seconds\")\n",
    "\n",
    "    start = time.time()\n",
    "    print(\"11/12 Fitting: \", modelName, \"TomekLink-base started...\")\n",
    "    model.fit(X_train_clean_t, y_train_clean_t)\n",
    "    add_to_eval_df(model, modelName, \"TomekLink base\", X_train_clean_t, y_train_clean_t, X_test_clean, y_test_clean)\n",
    "    end = time.time()\n",
    "    elapsed_time = round(end - start)\n",
    "    print(\"Fitting: \", modelName, \"finished. Elapsed time: \", elapsed_time, \"Seconds\")\n",
    "\n",
    "    start = time.time()\n",
    "    print(\"12/12 Fitting: \", modelName, \"TomekLink-clean started...\")\n",
    "    model.fit(X_train_clean_t, y_train_clean_t)\n",
    "    add_to_eval_df(model, modelName, \"TomekLink clean\", X_train_clean_t, y_train_clean_t, X_test_clean, y_test_clean)\n",
    "    end = time.time()\n",
    "    elapsed_time = round(end - start)\n",
    "    print(\"Fitting: \", modelName, \"finished. Elapsed time: \", elapsed_time, \"Seconds\")\n",
    "\n",
    "    print(\"Model fitting finished.\")"
   ],
   "metadata": {
    "collapsed": false,
    "ExecuteTime": {
     "end_time": "2024-11-14T19:09:22.889345500Z",
     "start_time": "2024-11-14T19:09:22.869097Z"
    }
   }
  },
  {
   "cell_type": "markdown",
   "source": [
    "#### 2.1 Bagging"
   ],
   "metadata": {
    "collapsed": false
   }
  },
  {
   "cell_type": "code",
   "execution_count": 46,
   "outputs": [],
   "source": [
    "rf = RandomForestClassifier(n_jobs=-1)"
   ],
   "metadata": {
    "collapsed": false,
    "ExecuteTime": {
     "end_time": "2024-11-14T19:09:22.923043900Z",
     "start_time": "2024-11-14T19:09:22.889345500Z"
    }
   }
  },
  {
   "cell_type": "code",
   "execution_count": 47,
   "outputs": [
    {
     "name": "stdout",
     "output_type": "stream",
     "text": [
      "Starting model fitting.\n",
      "1/12 Fitting:  RandomForest BASE started...\n",
      "Fitting:  RandomForest finished. Elapsed time:  4 Seconds\n",
      "2/12 Fitting:  RandomForest CLEAN started...\n",
      "Fitting:  RandomForest finished. Elapsed time:  7 Seconds\n",
      "3/12 Fitting:  RandomForest SMOTE-base started...\n",
      "Fitting:  RandomForest finished. Elapsed time:  16 Seconds\n",
      "4/12 Fitting:  RandomForest SMOTE-clean started...\n",
      "Fitting:  RandomForest finished. Elapsed time:  7 Seconds\n",
      "5/12 Fitting:  RandomForest BorderlineSMOTE-base started...\n",
      "Fitting:  RandomForest finished. Elapsed time:  5 Seconds\n",
      "6/12 Fitting:  RandomForest BorderlineSMOTE-clean started...\n",
      "Fitting:  RandomForest finished. Elapsed time:  6 Seconds\n",
      "7/12 Fitting:  RandomForest ADASYN-base started...\n",
      "Fitting:  RandomForest finished. Elapsed time:  6 Seconds\n",
      "8/12 Fitting:  RandomForest ADASYN-clean started...\n",
      "Fitting:  RandomForest finished. Elapsed time:  9 Seconds\n",
      "9/12 Fitting:  RandomForest NearMiss-base started...\n",
      "Fitting:  RandomForest finished. Elapsed time:  1 Seconds\n",
      "10/12 Fitting:  RandomForest NearMiss-clean started...\n",
      "Fitting:  RandomForest finished. Elapsed time:  1 Seconds\n",
      "11/12 Fitting:  RandomForest TomekLink-base started...\n",
      "Fitting:  RandomForest finished. Elapsed time:  6 Seconds\n",
      "12/12 Fitting:  RandomForest TomekLink-clean started...\n",
      "Fitting:  RandomForest finished. Elapsed time:  6 Seconds\n",
      "Model fitting finished.\n"
     ]
    }
   ],
   "source": [
    "fit_model(rf, \"RandomForest\")"
   ],
   "metadata": {
    "collapsed": false,
    "ExecuteTime": {
     "end_time": "2024-11-14T19:10:36.726076Z",
     "start_time": "2024-11-14T19:09:22.907391100Z"
    }
   }
  },
  {
   "cell_type": "code",
   "execution_count": 48,
   "outputs": [],
   "source": [
    "brf = BalancedRandomForestClassifier(n_jobs=-1)"
   ],
   "metadata": {
    "collapsed": false,
    "ExecuteTime": {
     "end_time": "2024-11-14T19:10:36.763852700Z",
     "start_time": "2024-11-14T19:10:36.726076Z"
    }
   }
  },
  {
   "cell_type": "code",
   "execution_count": 49,
   "outputs": [
    {
     "name": "stderr",
     "output_type": "stream",
     "text": [
      "C:\\Users\\admin\\anaconda3\\lib\\site-packages\\sklearn\\utils\\deprecation.py:86: FutureWarning: Function delayed is deprecated; The function `delayed` has been moved from `sklearn.utils.fixes` to `sklearn.utils.parallel`. This import path will be removed in 1.5.\n",
      "  warnings.warn(msg, category=FutureWarning)\n",
      "C:\\Users\\admin\\anaconda3\\lib\\site-packages\\sklearn\\utils\\parallel.py:114: UserWarning: `sklearn.utils.parallel.delayed` should be used with `sklearn.utils.parallel.Parallel` to make it possible to propagate the scikit-learn configuration of the current thread to the joblib workers.\n",
      "  warnings.warn(\n",
      "C:\\Users\\admin\\anaconda3\\lib\\site-packages\\sklearn\\utils\\parallel.py:114: UserWarning: `sklearn.utils.parallel.delayed` should be used with `sklearn.utils.parallel.Parallel` to make it possible to propagate the scikit-learn configuration of the current thread to the joblib workers.\n",
      "  warnings.warn(\n",
      "C:\\Users\\admin\\anaconda3\\lib\\site-packages\\sklearn\\utils\\parallel.py:114: UserWarning: `sklearn.utils.parallel.delayed` should be used with `sklearn.utils.parallel.Parallel` to make it possible to propagate the scikit-learn configuration of the current thread to the joblib workers.\n",
      "  warnings.warn(\n",
      "C:\\Users\\admin\\anaconda3\\lib\\site-packages\\sklearn\\utils\\parallel.py:114: UserWarning: `sklearn.utils.parallel.delayed` should be used with `sklearn.utils.parallel.Parallel` to make it possible to propagate the scikit-learn configuration of the current thread to the joblib workers.\n",
      "  warnings.warn(\n",
      "C:\\Users\\admin\\anaconda3\\lib\\site-packages\\sklearn\\utils\\parallel.py:114: UserWarning: `sklearn.utils.parallel.delayed` should be used with `sklearn.utils.parallel.Parallel` to make it possible to propagate the scikit-learn configuration of the current thread to the joblib workers.\n",
      "  warnings.warn(\n",
      "C:\\Users\\admin\\anaconda3\\lib\\site-packages\\sklearn\\utils\\parallel.py:114: UserWarning: `sklearn.utils.parallel.delayed` should be used with `sklearn.utils.parallel.Parallel` to make it possible to propagate the scikit-learn configuration of the current thread to the joblib workers.\n",
      "  warnings.warn(\n",
      "C:\\Users\\admin\\anaconda3\\lib\\site-packages\\sklearn\\utils\\parallel.py:114: UserWarning: `sklearn.utils.parallel.delayed` should be used with `sklearn.utils.parallel.Parallel` to make it possible to propagate the scikit-learn configuration of the current thread to the joblib workers.\n",
      "  warnings.warn(\n",
      "C:\\Users\\admin\\anaconda3\\lib\\site-packages\\sklearn\\utils\\parallel.py:114: UserWarning: `sklearn.utils.parallel.delayed` should be used with `sklearn.utils.parallel.Parallel` to make it possible to propagate the scikit-learn configuration of the current thread to the joblib workers.\n",
      "  warnings.warn(\n",
      "C:\\Users\\admin\\anaconda3\\lib\\site-packages\\sklearn\\utils\\deprecation.py:86: FutureWarning: Function delayed is deprecated; The function `delayed` has been moved from `sklearn.utils.fixes` to `sklearn.utils.parallel`. This import path will be removed in 1.5.\n",
      "  warnings.warn(msg, category=FutureWarning)\n",
      "C:\\Users\\admin\\anaconda3\\lib\\site-packages\\sklearn\\utils\\parallel.py:114: UserWarning: `sklearn.utils.parallel.delayed` should be used with `sklearn.utils.parallel.Parallel` to make it possible to propagate the scikit-learn configuration of the current thread to the joblib workers.\n",
      "  warnings.warn(\n",
      "C:\\Users\\admin\\anaconda3\\lib\\site-packages\\sklearn\\utils\\parallel.py:114: UserWarning: `sklearn.utils.parallel.delayed` should be used with `sklearn.utils.parallel.Parallel` to make it possible to propagate the scikit-learn configuration of the current thread to the joblib workers.\n",
      "  warnings.warn(\n",
      "C:\\Users\\admin\\anaconda3\\lib\\site-packages\\sklearn\\utils\\parallel.py:114: UserWarning: `sklearn.utils.parallel.delayed` should be used with `sklearn.utils.parallel.Parallel` to make it possible to propagate the scikit-learn configuration of the current thread to the joblib workers.\n",
      "  warnings.warn(\n",
      "C:\\Users\\admin\\anaconda3\\lib\\site-packages\\sklearn\\utils\\parallel.py:114: UserWarning: `sklearn.utils.parallel.delayed` should be used with `sklearn.utils.parallel.Parallel` to make it possible to propagate the scikit-learn configuration of the current thread to the joblib workers.\n",
      "  warnings.warn(\n",
      "C:\\Users\\admin\\anaconda3\\lib\\site-packages\\sklearn\\utils\\parallel.py:114: UserWarning: `sklearn.utils.parallel.delayed` should be used with `sklearn.utils.parallel.Parallel` to make it possible to propagate the scikit-learn configuration of the current thread to the joblib workers.\n",
      "  warnings.warn(\n",
      "C:\\Users\\admin\\anaconda3\\lib\\site-packages\\sklearn\\utils\\parallel.py:114: UserWarning: `sklearn.utils.parallel.delayed` should be used with `sklearn.utils.parallel.Parallel` to make it possible to propagate the scikit-learn configuration of the current thread to the joblib workers.\n",
      "  warnings.warn(\n",
      "C:\\Users\\admin\\anaconda3\\lib\\site-packages\\sklearn\\utils\\parallel.py:114: UserWarning: `sklearn.utils.parallel.delayed` should be used with `sklearn.utils.parallel.Parallel` to make it possible to propagate the scikit-learn configuration of the current thread to the joblib workers.\n",
      "  warnings.warn(\n",
      "C:\\Users\\admin\\anaconda3\\lib\\site-packages\\sklearn\\utils\\parallel.py:114: UserWarning: `sklearn.utils.parallel.delayed` should be used with `sklearn.utils.parallel.Parallel` to make it possible to propagate the scikit-learn configuration of the current thread to the joblib workers.\n",
      "  warnings.warn(\n",
      "C:\\Users\\admin\\anaconda3\\lib\\site-packages\\sklearn\\utils\\parallel.py:114: UserWarning: `sklearn.utils.parallel.delayed` should be used with `sklearn.utils.parallel.Parallel` to make it possible to propagate the scikit-learn configuration of the current thread to the joblib workers.\n",
      "  warnings.warn(\n",
      "C:\\Users\\admin\\anaconda3\\lib\\site-packages\\sklearn\\utils\\parallel.py:114: UserWarning: `sklearn.utils.parallel.delayed` should be used with `sklearn.utils.parallel.Parallel` to make it possible to propagate the scikit-learn configuration of the current thread to the joblib workers.\n",
      "  warnings.warn(\n",
      "C:\\Users\\admin\\anaconda3\\lib\\site-packages\\sklearn\\utils\\parallel.py:114: UserWarning: `sklearn.utils.parallel.delayed` should be used with `sklearn.utils.parallel.Parallel` to make it possible to propagate the scikit-learn configuration of the current thread to the joblib workers.\n",
      "  warnings.warn(\n",
      "C:\\Users\\admin\\anaconda3\\lib\\site-packages\\sklearn\\utils\\parallel.py:114: UserWarning: `sklearn.utils.parallel.delayed` should be used with `sklearn.utils.parallel.Parallel` to make it possible to propagate the scikit-learn configuration of the current thread to the joblib workers.\n",
      "  warnings.warn(\n",
      "C:\\Users\\admin\\anaconda3\\lib\\site-packages\\sklearn\\utils\\deprecation.py:86: FutureWarning: Function delayed is deprecated; The function `delayed` has been moved from `sklearn.utils.fixes` to `sklearn.utils.parallel`. This import path will be removed in 1.5.\n",
      "  warnings.warn(msg, category=FutureWarning)\n",
      "C:\\Users\\admin\\anaconda3\\lib\\site-packages\\sklearn\\utils\\parallel.py:114: UserWarning: `sklearn.utils.parallel.delayed` should be used with `sklearn.utils.parallel.Parallel` to make it possible to propagate the scikit-learn configuration of the current thread to the joblib workers.\n",
      "  warnings.warn(\n",
      "C:\\Users\\admin\\anaconda3\\lib\\site-packages\\sklearn\\utils\\parallel.py:114: UserWarning: `sklearn.utils.parallel.delayed` should be used with `sklearn.utils.parallel.Parallel` to make it possible to propagate the scikit-learn configuration of the current thread to the joblib workers.\n",
      "  warnings.warn(\n",
      "C:\\Users\\admin\\anaconda3\\lib\\site-packages\\sklearn\\utils\\parallel.py:114: UserWarning: `sklearn.utils.parallel.delayed` should be used with `sklearn.utils.parallel.Parallel` to make it possible to propagate the scikit-learn configuration of the current thread to the joblib workers.\n",
      "  warnings.warn(\n",
      "C:\\Users\\admin\\anaconda3\\lib\\site-packages\\sklearn\\utils\\parallel.py:114: UserWarning: `sklearn.utils.parallel.delayed` should be used with `sklearn.utils.parallel.Parallel` to make it possible to propagate the scikit-learn configuration of the current thread to the joblib workers.\n",
      "  warnings.warn(\n",
      "C:\\Users\\admin\\anaconda3\\lib\\site-packages\\sklearn\\utils\\parallel.py:114: UserWarning: `sklearn.utils.parallel.delayed` should be used with `sklearn.utils.parallel.Parallel` to make it possible to propagate the scikit-learn configuration of the current thread to the joblib workers.\n",
      "  warnings.warn(\n",
      "C:\\Users\\admin\\anaconda3\\lib\\site-packages\\sklearn\\utils\\parallel.py:114: UserWarning: `sklearn.utils.parallel.delayed` should be used with `sklearn.utils.parallel.Parallel` to make it possible to propagate the scikit-learn configuration of the current thread to the joblib workers.\n",
      "  warnings.warn(\n",
      "C:\\Users\\admin\\anaconda3\\lib\\site-packages\\sklearn\\utils\\parallel.py:114: UserWarning: `sklearn.utils.parallel.delayed` should be used with `sklearn.utils.parallel.Parallel` to make it possible to propagate the scikit-learn configuration of the current thread to the joblib workers.\n",
      "  warnings.warn(\n",
      "C:\\Users\\admin\\anaconda3\\lib\\site-packages\\sklearn\\utils\\parallel.py:114: UserWarning: `sklearn.utils.parallel.delayed` should be used with `sklearn.utils.parallel.Parallel` to make it possible to propagate the scikit-learn configuration of the current thread to the joblib workers.\n",
      "  warnings.warn(\n",
      "C:\\Users\\admin\\anaconda3\\lib\\site-packages\\sklearn\\utils\\parallel.py:114: UserWarning: `sklearn.utils.parallel.delayed` should be used with `sklearn.utils.parallel.Parallel` to make it possible to propagate the scikit-learn configuration of the current thread to the joblib workers.\n",
      "  warnings.warn(\n",
      "C:\\Users\\admin\\anaconda3\\lib\\site-packages\\sklearn\\utils\\parallel.py:114: UserWarning: `sklearn.utils.parallel.delayed` should be used with `sklearn.utils.parallel.Parallel` to make it possible to propagate the scikit-learn configuration of the current thread to the joblib workers.\n",
      "  warnings.warn(\n",
      "C:\\Users\\admin\\anaconda3\\lib\\site-packages\\sklearn\\utils\\parallel.py:114: UserWarning: `sklearn.utils.parallel.delayed` should be used with `sklearn.utils.parallel.Parallel` to make it possible to propagate the scikit-learn configuration of the current thread to the joblib workers.\n",
      "  warnings.warn(\n",
      "C:\\Users\\admin\\anaconda3\\lib\\site-packages\\sklearn\\utils\\parallel.py:114: UserWarning: `sklearn.utils.parallel.delayed` should be used with `sklearn.utils.parallel.Parallel` to make it possible to propagate the scikit-learn configuration of the current thread to the joblib workers.\n",
      "  warnings.warn(\n",
      "C:\\Users\\admin\\anaconda3\\lib\\site-packages\\sklearn\\utils\\deprecation.py:86: FutureWarning: Function delayed is deprecated; The function `delayed` has been moved from `sklearn.utils.fixes` to `sklearn.utils.parallel`. This import path will be removed in 1.5.\n",
      "  warnings.warn(msg, category=FutureWarning)\n",
      "C:\\Users\\admin\\anaconda3\\lib\\site-packages\\sklearn\\utils\\parallel.py:114: UserWarning: `sklearn.utils.parallel.delayed` should be used with `sklearn.utils.parallel.Parallel` to make it possible to propagate the scikit-learn configuration of the current thread to the joblib workers.\n",
      "  warnings.warn(\n",
      "C:\\Users\\admin\\anaconda3\\lib\\site-packages\\sklearn\\utils\\parallel.py:114: UserWarning: `sklearn.utils.parallel.delayed` should be used with `sklearn.utils.parallel.Parallel` to make it possible to propagate the scikit-learn configuration of the current thread to the joblib workers.\n",
      "  warnings.warn(\n",
      "C:\\Users\\admin\\anaconda3\\lib\\site-packages\\sklearn\\utils\\parallel.py:114: UserWarning: `sklearn.utils.parallel.delayed` should be used with `sklearn.utils.parallel.Parallel` to make it possible to propagate the scikit-learn configuration of the current thread to the joblib workers.\n",
      "  warnings.warn(\n",
      "C:\\Users\\admin\\anaconda3\\lib\\site-packages\\sklearn\\utils\\parallel.py:114: UserWarning: `sklearn.utils.parallel.delayed` should be used with `sklearn.utils.parallel.Parallel` to make it possible to propagate the scikit-learn configuration of the current thread to the joblib workers.\n",
      "  warnings.warn(\n",
      "C:\\Users\\admin\\anaconda3\\lib\\site-packages\\sklearn\\utils\\parallel.py:114: UserWarning: `sklearn.utils.parallel.delayed` should be used with `sklearn.utils.parallel.Parallel` to make it possible to propagate the scikit-learn configuration of the current thread to the joblib workers.\n",
      "  warnings.warn(\n",
      "C:\\Users\\admin\\anaconda3\\lib\\site-packages\\sklearn\\utils\\parallel.py:114: UserWarning: `sklearn.utils.parallel.delayed` should be used with `sklearn.utils.parallel.Parallel` to make it possible to propagate the scikit-learn configuration of the current thread to the joblib workers.\n",
      "  warnings.warn(\n",
      "C:\\Users\\admin\\anaconda3\\lib\\site-packages\\sklearn\\utils\\parallel.py:114: UserWarning: `sklearn.utils.parallel.delayed` should be used with `sklearn.utils.parallel.Parallel` to make it possible to propagate the scikit-learn configuration of the current thread to the joblib workers.\n",
      "  warnings.warn(\n",
      "C:\\Users\\admin\\anaconda3\\lib\\site-packages\\sklearn\\utils\\parallel.py:114: UserWarning: `sklearn.utils.parallel.delayed` should be used with `sklearn.utils.parallel.Parallel` to make it possible to propagate the scikit-learn configuration of the current thread to the joblib workers.\n",
      "  warnings.warn(\n",
      "C:\\Users\\admin\\anaconda3\\lib\\site-packages\\sklearn\\utils\\parallel.py:114: UserWarning: `sklearn.utils.parallel.delayed` should be used with `sklearn.utils.parallel.Parallel` to make it possible to propagate the scikit-learn configuration of the current thread to the joblib workers.\n",
      "  warnings.warn(\n",
      "C:\\Users\\admin\\anaconda3\\lib\\site-packages\\sklearn\\utils\\parallel.py:114: UserWarning: `sklearn.utils.parallel.delayed` should be used with `sklearn.utils.parallel.Parallel` to make it possible to propagate the scikit-learn configuration of the current thread to the joblib workers.\n",
      "  warnings.warn(\n",
      "C:\\Users\\admin\\anaconda3\\lib\\site-packages\\sklearn\\utils\\parallel.py:114: UserWarning: `sklearn.utils.parallel.delayed` should be used with `sklearn.utils.parallel.Parallel` to make it possible to propagate the scikit-learn configuration of the current thread to the joblib workers.\n",
      "  warnings.warn(\n",
      "C:\\Users\\admin\\anaconda3\\lib\\site-packages\\sklearn\\utils\\parallel.py:114: UserWarning: `sklearn.utils.parallel.delayed` should be used with `sklearn.utils.parallel.Parallel` to make it possible to propagate the scikit-learn configuration of the current thread to the joblib workers.\n",
      "  warnings.warn(\n",
      "C:\\Users\\admin\\anaconda3\\lib\\site-packages\\sklearn\\utils\\deprecation.py:86: FutureWarning: Function delayed is deprecated; The function `delayed` has been moved from `sklearn.utils.fixes` to `sklearn.utils.parallel`. This import path will be removed in 1.5.\n",
      "  warnings.warn(msg, category=FutureWarning)\n",
      "C:\\Users\\admin\\anaconda3\\lib\\site-packages\\sklearn\\utils\\parallel.py:114: UserWarning: `sklearn.utils.parallel.delayed` should be used with `sklearn.utils.parallel.Parallel` to make it possible to propagate the scikit-learn configuration of the current thread to the joblib workers.\n",
      "  warnings.warn(\n",
      "C:\\Users\\admin\\anaconda3\\lib\\site-packages\\sklearn\\utils\\parallel.py:114: UserWarning: `sklearn.utils.parallel.delayed` should be used with `sklearn.utils.parallel.Parallel` to make it possible to propagate the scikit-learn configuration of the current thread to the joblib workers.\n",
      "  warnings.warn(\n",
      "C:\\Users\\admin\\anaconda3\\lib\\site-packages\\sklearn\\utils\\parallel.py:114: UserWarning: `sklearn.utils.parallel.delayed` should be used with `sklearn.utils.parallel.Parallel` to make it possible to propagate the scikit-learn configuration of the current thread to the joblib workers.\n",
      "  warnings.warn(\n",
      "C:\\Users\\admin\\anaconda3\\lib\\site-packages\\sklearn\\utils\\parallel.py:114: UserWarning: `sklearn.utils.parallel.delayed` should be used with `sklearn.utils.parallel.Parallel` to make it possible to propagate the scikit-learn configuration of the current thread to the joblib workers.\n",
      "  warnings.warn(\n",
      "C:\\Users\\admin\\anaconda3\\lib\\site-packages\\sklearn\\utils\\parallel.py:114: UserWarning: `sklearn.utils.parallel.delayed` should be used with `sklearn.utils.parallel.Parallel` to make it possible to propagate the scikit-learn configuration of the current thread to the joblib workers.\n",
      "  warnings.warn(\n",
      "C:\\Users\\admin\\anaconda3\\lib\\site-packages\\sklearn\\utils\\parallel.py:114: UserWarning: `sklearn.utils.parallel.delayed` should be used with `sklearn.utils.parallel.Parallel` to make it possible to propagate the scikit-learn configuration of the current thread to the joblib workers.\n",
      "  warnings.warn(\n",
      "C:\\Users\\admin\\anaconda3\\lib\\site-packages\\sklearn\\utils\\parallel.py:114: UserWarning: `sklearn.utils.parallel.delayed` should be used with `sklearn.utils.parallel.Parallel` to make it possible to propagate the scikit-learn configuration of the current thread to the joblib workers.\n",
      "  warnings.warn(\n",
      "C:\\Users\\admin\\anaconda3\\lib\\site-packages\\sklearn\\utils\\parallel.py:114: UserWarning: `sklearn.utils.parallel.delayed` should be used with `sklearn.utils.parallel.Parallel` to make it possible to propagate the scikit-learn configuration of the current thread to the joblib workers.\n",
      "  warnings.warn(\n",
      "C:\\Users\\admin\\anaconda3\\lib\\site-packages\\sklearn\\utils\\parallel.py:114: UserWarning: `sklearn.utils.parallel.delayed` should be used with `sklearn.utils.parallel.Parallel` to make it possible to propagate the scikit-learn configuration of the current thread to the joblib workers.\n",
      "  warnings.warn(\n",
      "C:\\Users\\admin\\anaconda3\\lib\\site-packages\\sklearn\\utils\\parallel.py:114: UserWarning: `sklearn.utils.parallel.delayed` should be used with `sklearn.utils.parallel.Parallel` to make it possible to propagate the scikit-learn configuration of the current thread to the joblib workers.\n",
      "  warnings.warn(\n",
      "C:\\Users\\admin\\anaconda3\\lib\\site-packages\\sklearn\\utils\\parallel.py:114: UserWarning: `sklearn.utils.parallel.delayed` should be used with `sklearn.utils.parallel.Parallel` to make it possible to propagate the scikit-learn configuration of the current thread to the joblib workers.\n",
      "  warnings.warn(\n",
      "C:\\Users\\admin\\anaconda3\\lib\\site-packages\\sklearn\\utils\\parallel.py:114: UserWarning: `sklearn.utils.parallel.delayed` should be used with `sklearn.utils.parallel.Parallel` to make it possible to propagate the scikit-learn configuration of the current thread to the joblib workers.\n",
      "  warnings.warn(\n",
      "C:\\Users\\admin\\anaconda3\\lib\\site-packages\\sklearn\\utils\\deprecation.py:86: FutureWarning: Function delayed is deprecated; The function `delayed` has been moved from `sklearn.utils.fixes` to `sklearn.utils.parallel`. This import path will be removed in 1.5.\n",
      "  warnings.warn(msg, category=FutureWarning)\n",
      "C:\\Users\\admin\\anaconda3\\lib\\site-packages\\sklearn\\utils\\parallel.py:114: UserWarning: `sklearn.utils.parallel.delayed` should be used with `sklearn.utils.parallel.Parallel` to make it possible to propagate the scikit-learn configuration of the current thread to the joblib workers.\n",
      "  warnings.warn(\n",
      "C:\\Users\\admin\\anaconda3\\lib\\site-packages\\sklearn\\utils\\parallel.py:114: UserWarning: `sklearn.utils.parallel.delayed` should be used with `sklearn.utils.parallel.Parallel` to make it possible to propagate the scikit-learn configuration of the current thread to the joblib workers.\n",
      "  warnings.warn(\n",
      "C:\\Users\\admin\\anaconda3\\lib\\site-packages\\sklearn\\utils\\parallel.py:114: UserWarning: `sklearn.utils.parallel.delayed` should be used with `sklearn.utils.parallel.Parallel` to make it possible to propagate the scikit-learn configuration of the current thread to the joblib workers.\n",
      "  warnings.warn(\n",
      "C:\\Users\\admin\\anaconda3\\lib\\site-packages\\sklearn\\utils\\parallel.py:114: UserWarning: `sklearn.utils.parallel.delayed` should be used with `sklearn.utils.parallel.Parallel` to make it possible to propagate the scikit-learn configuration of the current thread to the joblib workers.\n",
      "  warnings.warn(\n",
      "C:\\Users\\admin\\anaconda3\\lib\\site-packages\\sklearn\\utils\\parallel.py:114: UserWarning: `sklearn.utils.parallel.delayed` should be used with `sklearn.utils.parallel.Parallel` to make it possible to propagate the scikit-learn configuration of the current thread to the joblib workers.\n",
      "  warnings.warn(\n",
      "C:\\Users\\admin\\anaconda3\\lib\\site-packages\\sklearn\\utils\\parallel.py:114: UserWarning: `sklearn.utils.parallel.delayed` should be used with `sklearn.utils.parallel.Parallel` to make it possible to propagate the scikit-learn configuration of the current thread to the joblib workers.\n",
      "  warnings.warn(\n",
      "C:\\Users\\admin\\anaconda3\\lib\\site-packages\\sklearn\\utils\\parallel.py:114: UserWarning: `sklearn.utils.parallel.delayed` should be used with `sklearn.utils.parallel.Parallel` to make it possible to propagate the scikit-learn configuration of the current thread to the joblib workers.\n",
      "  warnings.warn(\n",
      "C:\\Users\\admin\\anaconda3\\lib\\site-packages\\sklearn\\utils\\parallel.py:114: UserWarning: `sklearn.utils.parallel.delayed` should be used with `sklearn.utils.parallel.Parallel` to make it possible to propagate the scikit-learn configuration of the current thread to the joblib workers.\n",
      "  warnings.warn(\n",
      "C:\\Users\\admin\\anaconda3\\lib\\site-packages\\sklearn\\utils\\parallel.py:114: UserWarning: `sklearn.utils.parallel.delayed` should be used with `sklearn.utils.parallel.Parallel` to make it possible to propagate the scikit-learn configuration of the current thread to the joblib workers.\n",
      "  warnings.warn(\n",
      "C:\\Users\\admin\\anaconda3\\lib\\site-packages\\sklearn\\utils\\parallel.py:114: UserWarning: `sklearn.utils.parallel.delayed` should be used with `sklearn.utils.parallel.Parallel` to make it possible to propagate the scikit-learn configuration of the current thread to the joblib workers.\n",
      "  warnings.warn(\n",
      "C:\\Users\\admin\\anaconda3\\lib\\site-packages\\sklearn\\utils\\parallel.py:114: UserWarning: `sklearn.utils.parallel.delayed` should be used with `sklearn.utils.parallel.Parallel` to make it possible to propagate the scikit-learn configuration of the current thread to the joblib workers.\n",
      "  warnings.warn(\n",
      "C:\\Users\\admin\\anaconda3\\lib\\site-packages\\sklearn\\utils\\parallel.py:114: UserWarning: `sklearn.utils.parallel.delayed` should be used with `sklearn.utils.parallel.Parallel` to make it possible to propagate the scikit-learn configuration of the current thread to the joblib workers.\n",
      "  warnings.warn(\n",
      "C:\\Users\\admin\\anaconda3\\lib\\site-packages\\sklearn\\utils\\parallel.py:114: UserWarning: `sklearn.utils.parallel.delayed` should be used with `sklearn.utils.parallel.Parallel` to make it possible to propagate the scikit-learn configuration of the current thread to the joblib workers.\n",
      "  warnings.warn(\n",
      "C:\\Users\\admin\\anaconda3\\lib\\site-packages\\sklearn\\utils\\deprecation.py:86: FutureWarning: Function delayed is deprecated; The function `delayed` has been moved from `sklearn.utils.fixes` to `sklearn.utils.parallel`. This import path will be removed in 1.5.\n",
      "  warnings.warn(msg, category=FutureWarning)\n",
      "C:\\Users\\admin\\anaconda3\\lib\\site-packages\\sklearn\\utils\\parallel.py:114: UserWarning: `sklearn.utils.parallel.delayed` should be used with `sklearn.utils.parallel.Parallel` to make it possible to propagate the scikit-learn configuration of the current thread to the joblib workers.\n",
      "  warnings.warn(\n",
      "C:\\Users\\admin\\anaconda3\\lib\\site-packages\\sklearn\\utils\\parallel.py:114: UserWarning: `sklearn.utils.parallel.delayed` should be used with `sklearn.utils.parallel.Parallel` to make it possible to propagate the scikit-learn configuration of the current thread to the joblib workers.\n",
      "  warnings.warn(\n",
      "C:\\Users\\admin\\anaconda3\\lib\\site-packages\\sklearn\\utils\\parallel.py:114: UserWarning: `sklearn.utils.parallel.delayed` should be used with `sklearn.utils.parallel.Parallel` to make it possible to propagate the scikit-learn configuration of the current thread to the joblib workers.\n",
      "  warnings.warn(\n",
      "C:\\Users\\admin\\anaconda3\\lib\\site-packages\\sklearn\\utils\\parallel.py:114: UserWarning: `sklearn.utils.parallel.delayed` should be used with `sklearn.utils.parallel.Parallel` to make it possible to propagate the scikit-learn configuration of the current thread to the joblib workers.\n",
      "  warnings.warn(\n",
      "C:\\Users\\admin\\anaconda3\\lib\\site-packages\\sklearn\\utils\\parallel.py:114: UserWarning: `sklearn.utils.parallel.delayed` should be used with `sklearn.utils.parallel.Parallel` to make it possible to propagate the scikit-learn configuration of the current thread to the joblib workers.\n",
      "  warnings.warn(\n",
      "C:\\Users\\admin\\anaconda3\\lib\\site-packages\\sklearn\\utils\\parallel.py:114: UserWarning: `sklearn.utils.parallel.delayed` should be used with `sklearn.utils.parallel.Parallel` to make it possible to propagate the scikit-learn configuration of the current thread to the joblib workers.\n",
      "  warnings.warn(\n",
      "C:\\Users\\admin\\anaconda3\\lib\\site-packages\\sklearn\\utils\\parallel.py:114: UserWarning: `sklearn.utils.parallel.delayed` should be used with `sklearn.utils.parallel.Parallel` to make it possible to propagate the scikit-learn configuration of the current thread to the joblib workers.\n",
      "  warnings.warn(\n",
      "C:\\Users\\admin\\anaconda3\\lib\\site-packages\\sklearn\\utils\\parallel.py:114: UserWarning: `sklearn.utils.parallel.delayed` should be used with `sklearn.utils.parallel.Parallel` to make it possible to propagate the scikit-learn configuration of the current thread to the joblib workers.\n",
      "  warnings.warn(\n",
      "C:\\Users\\admin\\anaconda3\\lib\\site-packages\\sklearn\\utils\\parallel.py:114: UserWarning: `sklearn.utils.parallel.delayed` should be used with `sklearn.utils.parallel.Parallel` to make it possible to propagate the scikit-learn configuration of the current thread to the joblib workers.\n",
      "  warnings.warn(\n",
      "C:\\Users\\admin\\anaconda3\\lib\\site-packages\\sklearn\\utils\\parallel.py:114: UserWarning: `sklearn.utils.parallel.delayed` should be used with `sklearn.utils.parallel.Parallel` to make it possible to propagate the scikit-learn configuration of the current thread to the joblib workers.\n",
      "  warnings.warn(\n",
      "C:\\Users\\admin\\anaconda3\\lib\\site-packages\\sklearn\\utils\\parallel.py:114: UserWarning: `sklearn.utils.parallel.delayed` should be used with `sklearn.utils.parallel.Parallel` to make it possible to propagate the scikit-learn configuration of the current thread to the joblib workers.\n",
      "  warnings.warn(\n",
      "C:\\Users\\admin\\anaconda3\\lib\\site-packages\\sklearn\\utils\\deprecation.py:86: FutureWarning: Function delayed is deprecated; The function `delayed` has been moved from `sklearn.utils.fixes` to `sklearn.utils.parallel`. This import path will be removed in 1.5.\n",
      "  warnings.warn(msg, category=FutureWarning)\n",
      "C:\\Users\\admin\\anaconda3\\lib\\site-packages\\sklearn\\utils\\parallel.py:114: UserWarning: `sklearn.utils.parallel.delayed` should be used with `sklearn.utils.parallel.Parallel` to make it possible to propagate the scikit-learn configuration of the current thread to the joblib workers.\n",
      "  warnings.warn(\n",
      "C:\\Users\\admin\\anaconda3\\lib\\site-packages\\sklearn\\utils\\parallel.py:114: UserWarning: `sklearn.utils.parallel.delayed` should be used with `sklearn.utils.parallel.Parallel` to make it possible to propagate the scikit-learn configuration of the current thread to the joblib workers.\n",
      "  warnings.warn(\n",
      "C:\\Users\\admin\\anaconda3\\lib\\site-packages\\sklearn\\utils\\parallel.py:114: UserWarning: `sklearn.utils.parallel.delayed` should be used with `sklearn.utils.parallel.Parallel` to make it possible to propagate the scikit-learn configuration of the current thread to the joblib workers.\n",
      "  warnings.warn(\n",
      "C:\\Users\\admin\\anaconda3\\lib\\site-packages\\sklearn\\utils\\parallel.py:114: UserWarning: `sklearn.utils.parallel.delayed` should be used with `sklearn.utils.parallel.Parallel` to make it possible to propagate the scikit-learn configuration of the current thread to the joblib workers.\n",
      "  warnings.warn(\n",
      "C:\\Users\\admin\\anaconda3\\lib\\site-packages\\sklearn\\utils\\parallel.py:114: UserWarning: `sklearn.utils.parallel.delayed` should be used with `sklearn.utils.parallel.Parallel` to make it possible to propagate the scikit-learn configuration of the current thread to the joblib workers.\n",
      "  warnings.warn(\n",
      "C:\\Users\\admin\\anaconda3\\lib\\site-packages\\sklearn\\utils\\parallel.py:114: UserWarning: `sklearn.utils.parallel.delayed` should be used with `sklearn.utils.parallel.Parallel` to make it possible to propagate the scikit-learn configuration of the current thread to the joblib workers.\n",
      "  warnings.warn(\n",
      "C:\\Users\\admin\\anaconda3\\lib\\site-packages\\sklearn\\utils\\parallel.py:114: UserWarning: `sklearn.utils.parallel.delayed` should be used with `sklearn.utils.parallel.Parallel` to make it possible to propagate the scikit-learn configuration of the current thread to the joblib workers.\n",
      "  warnings.warn(\n",
      "C:\\Users\\admin\\anaconda3\\lib\\site-packages\\sklearn\\utils\\parallel.py:114: UserWarning: `sklearn.utils.parallel.delayed` should be used with `sklearn.utils.parallel.Parallel` to make it possible to propagate the scikit-learn configuration of the current thread to the joblib workers.\n",
      "  warnings.warn(\n",
      "C:\\Users\\admin\\anaconda3\\lib\\site-packages\\sklearn\\utils\\parallel.py:114: UserWarning: `sklearn.utils.parallel.delayed` should be used with `sklearn.utils.parallel.Parallel` to make it possible to propagate the scikit-learn configuration of the current thread to the joblib workers.\n",
      "  warnings.warn(\n",
      "C:\\Users\\admin\\anaconda3\\lib\\site-packages\\sklearn\\utils\\parallel.py:114: UserWarning: `sklearn.utils.parallel.delayed` should be used with `sklearn.utils.parallel.Parallel` to make it possible to propagate the scikit-learn configuration of the current thread to the joblib workers.\n",
      "  warnings.warn(\n",
      "C:\\Users\\admin\\anaconda3\\lib\\site-packages\\sklearn\\utils\\parallel.py:114: UserWarning: `sklearn.utils.parallel.delayed` should be used with `sklearn.utils.parallel.Parallel` to make it possible to propagate the scikit-learn configuration of the current thread to the joblib workers.\n",
      "  warnings.warn(\n",
      "C:\\Users\\admin\\anaconda3\\lib\\site-packages\\sklearn\\utils\\parallel.py:114: UserWarning: `sklearn.utils.parallel.delayed` should be used with `sklearn.utils.parallel.Parallel` to make it possible to propagate the scikit-learn configuration of the current thread to the joblib workers.\n",
      "  warnings.warn(\n",
      "C:\\Users\\admin\\anaconda3\\lib\\site-packages\\sklearn\\utils\\parallel.py:114: UserWarning: `sklearn.utils.parallel.delayed` should be used with `sklearn.utils.parallel.Parallel` to make it possible to propagate the scikit-learn configuration of the current thread to the joblib workers.\n",
      "  warnings.warn(\n",
      "C:\\Users\\admin\\anaconda3\\lib\\site-packages\\sklearn\\utils\\parallel.py:114: UserWarning: `sklearn.utils.parallel.delayed` should be used with `sklearn.utils.parallel.Parallel` to make it possible to propagate the scikit-learn configuration of the current thread to the joblib workers.\n",
      "  warnings.warn(\n",
      "C:\\Users\\admin\\anaconda3\\lib\\site-packages\\sklearn\\utils\\parallel.py:114: UserWarning: `sklearn.utils.parallel.delayed` should be used with `sklearn.utils.parallel.Parallel` to make it possible to propagate the scikit-learn configuration of the current thread to the joblib workers.\n",
      "  warnings.warn(\n"
     ]
    }
   ],
   "source": [
    "# BASE\n",
    "brf.fit(X_train_base, y_train_base)\n",
    "add_to_eval_df(brf, \"BalancedRandomForest\", \"BALANCED base\", X_train_base, y_train_base, X_test_base, y_test_base)"
   ],
   "metadata": {
    "collapsed": false,
    "ExecuteTime": {
     "end_time": "2024-11-14T19:10:39.273863300Z",
     "start_time": "2024-11-14T19:10:36.748227600Z"
    }
   }
  },
  {
   "cell_type": "code",
   "execution_count": 50,
   "outputs": [
    {
     "name": "stderr",
     "output_type": "stream",
     "text": [
      "C:\\Users\\admin\\anaconda3\\lib\\site-packages\\sklearn\\utils\\deprecation.py:86: FutureWarning: Function delayed is deprecated; The function `delayed` has been moved from `sklearn.utils.fixes` to `sklearn.utils.parallel`. This import path will be removed in 1.5.\n",
      "  warnings.warn(msg, category=FutureWarning)\n",
      "C:\\Users\\admin\\anaconda3\\lib\\site-packages\\sklearn\\utils\\parallel.py:114: UserWarning: `sklearn.utils.parallel.delayed` should be used with `sklearn.utils.parallel.Parallel` to make it possible to propagate the scikit-learn configuration of the current thread to the joblib workers.\n",
      "  warnings.warn(\n",
      "C:\\Users\\admin\\anaconda3\\lib\\site-packages\\sklearn\\utils\\parallel.py:114: UserWarning: `sklearn.utils.parallel.delayed` should be used with `sklearn.utils.parallel.Parallel` to make it possible to propagate the scikit-learn configuration of the current thread to the joblib workers.\n",
      "  warnings.warn(\n",
      "C:\\Users\\admin\\anaconda3\\lib\\site-packages\\sklearn\\utils\\parallel.py:114: UserWarning: `sklearn.utils.parallel.delayed` should be used with `sklearn.utils.parallel.Parallel` to make it possible to propagate the scikit-learn configuration of the current thread to the joblib workers.\n",
      "  warnings.warn(\n",
      "C:\\Users\\admin\\anaconda3\\lib\\site-packages\\sklearn\\utils\\parallel.py:114: UserWarning: `sklearn.utils.parallel.delayed` should be used with `sklearn.utils.parallel.Parallel` to make it possible to propagate the scikit-learn configuration of the current thread to the joblib workers.\n",
      "  warnings.warn(\n",
      "C:\\Users\\admin\\anaconda3\\lib\\site-packages\\sklearn\\utils\\parallel.py:114: UserWarning: `sklearn.utils.parallel.delayed` should be used with `sklearn.utils.parallel.Parallel` to make it possible to propagate the scikit-learn configuration of the current thread to the joblib workers.\n",
      "  warnings.warn(\n",
      "C:\\Users\\admin\\anaconda3\\lib\\site-packages\\sklearn\\utils\\parallel.py:114: UserWarning: `sklearn.utils.parallel.delayed` should be used with `sklearn.utils.parallel.Parallel` to make it possible to propagate the scikit-learn configuration of the current thread to the joblib workers.\n",
      "  warnings.warn(\n",
      "C:\\Users\\admin\\anaconda3\\lib\\site-packages\\sklearn\\utils\\parallel.py:114: UserWarning: `sklearn.utils.parallel.delayed` should be used with `sklearn.utils.parallel.Parallel` to make it possible to propagate the scikit-learn configuration of the current thread to the joblib workers.\n",
      "  warnings.warn(\n",
      "C:\\Users\\admin\\anaconda3\\lib\\site-packages\\sklearn\\utils\\parallel.py:114: UserWarning: `sklearn.utils.parallel.delayed` should be used with `sklearn.utils.parallel.Parallel` to make it possible to propagate the scikit-learn configuration of the current thread to the joblib workers.\n",
      "  warnings.warn(\n",
      "C:\\Users\\admin\\anaconda3\\lib\\site-packages\\sklearn\\utils\\parallel.py:114: UserWarning: `sklearn.utils.parallel.delayed` should be used with `sklearn.utils.parallel.Parallel` to make it possible to propagate the scikit-learn configuration of the current thread to the joblib workers.\n",
      "  warnings.warn(\n",
      "C:\\Users\\admin\\anaconda3\\lib\\site-packages\\sklearn\\utils\\parallel.py:114: UserWarning: `sklearn.utils.parallel.delayed` should be used with `sklearn.utils.parallel.Parallel` to make it possible to propagate the scikit-learn configuration of the current thread to the joblib workers.\n",
      "  warnings.warn(\n",
      "C:\\Users\\admin\\anaconda3\\lib\\site-packages\\sklearn\\utils\\parallel.py:114: UserWarning: `sklearn.utils.parallel.delayed` should be used with `sklearn.utils.parallel.Parallel` to make it possible to propagate the scikit-learn configuration of the current thread to the joblib workers.\n",
      "  warnings.warn(\n",
      "C:\\Users\\admin\\anaconda3\\lib\\site-packages\\sklearn\\utils\\parallel.py:114: UserWarning: `sklearn.utils.parallel.delayed` should be used with `sklearn.utils.parallel.Parallel` to make it possible to propagate the scikit-learn configuration of the current thread to the joblib workers.\n",
      "  warnings.warn(\n",
      "C:\\Users\\admin\\anaconda3\\lib\\site-packages\\sklearn\\utils\\parallel.py:114: UserWarning: `sklearn.utils.parallel.delayed` should be used with `sklearn.utils.parallel.Parallel` to make it possible to propagate the scikit-learn configuration of the current thread to the joblib workers.\n",
      "  warnings.warn(\n",
      "C:\\Users\\admin\\anaconda3\\lib\\site-packages\\sklearn\\utils\\deprecation.py:86: FutureWarning: Function delayed is deprecated; The function `delayed` has been moved from `sklearn.utils.fixes` to `sklearn.utils.parallel`. This import path will be removed in 1.5.\n",
      "  warnings.warn(msg, category=FutureWarning)\n",
      "C:\\Users\\admin\\anaconda3\\lib\\site-packages\\sklearn\\utils\\parallel.py:114: UserWarning: `sklearn.utils.parallel.delayed` should be used with `sklearn.utils.parallel.Parallel` to make it possible to propagate the scikit-learn configuration of the current thread to the joblib workers.\n",
      "  warnings.warn(\n",
      "C:\\Users\\admin\\anaconda3\\lib\\site-packages\\sklearn\\utils\\parallel.py:114: UserWarning: `sklearn.utils.parallel.delayed` should be used with `sklearn.utils.parallel.Parallel` to make it possible to propagate the scikit-learn configuration of the current thread to the joblib workers.\n",
      "  warnings.warn(\n",
      "C:\\Users\\admin\\anaconda3\\lib\\site-packages\\sklearn\\utils\\parallel.py:114: UserWarning: `sklearn.utils.parallel.delayed` should be used with `sklearn.utils.parallel.Parallel` to make it possible to propagate the scikit-learn configuration of the current thread to the joblib workers.\n",
      "  warnings.warn(\n",
      "C:\\Users\\admin\\anaconda3\\lib\\site-packages\\sklearn\\utils\\parallel.py:114: UserWarning: `sklearn.utils.parallel.delayed` should be used with `sklearn.utils.parallel.Parallel` to make it possible to propagate the scikit-learn configuration of the current thread to the joblib workers.\n",
      "  warnings.warn(\n",
      "C:\\Users\\admin\\anaconda3\\lib\\site-packages\\sklearn\\utils\\parallel.py:114: UserWarning: `sklearn.utils.parallel.delayed` should be used with `sklearn.utils.parallel.Parallel` to make it possible to propagate the scikit-learn configuration of the current thread to the joblib workers.\n",
      "  warnings.warn(\n",
      "C:\\Users\\admin\\anaconda3\\lib\\site-packages\\sklearn\\utils\\parallel.py:114: UserWarning: `sklearn.utils.parallel.delayed` should be used with `sklearn.utils.parallel.Parallel` to make it possible to propagate the scikit-learn configuration of the current thread to the joblib workers.\n",
      "  warnings.warn(\n",
      "C:\\Users\\admin\\anaconda3\\lib\\site-packages\\sklearn\\utils\\parallel.py:114: UserWarning: `sklearn.utils.parallel.delayed` should be used with `sklearn.utils.parallel.Parallel` to make it possible to propagate the scikit-learn configuration of the current thread to the joblib workers.\n",
      "  warnings.warn(\n",
      "C:\\Users\\admin\\anaconda3\\lib\\site-packages\\sklearn\\utils\\parallel.py:114: UserWarning: `sklearn.utils.parallel.delayed` should be used with `sklearn.utils.parallel.Parallel` to make it possible to propagate the scikit-learn configuration of the current thread to the joblib workers.\n",
      "  warnings.warn(\n",
      "C:\\Users\\admin\\anaconda3\\lib\\site-packages\\sklearn\\utils\\parallel.py:114: UserWarning: `sklearn.utils.parallel.delayed` should be used with `sklearn.utils.parallel.Parallel` to make it possible to propagate the scikit-learn configuration of the current thread to the joblib workers.\n",
      "  warnings.warn(\n",
      "C:\\Users\\admin\\anaconda3\\lib\\site-packages\\sklearn\\utils\\parallel.py:114: UserWarning: `sklearn.utils.parallel.delayed` should be used with `sklearn.utils.parallel.Parallel` to make it possible to propagate the scikit-learn configuration of the current thread to the joblib workers.\n",
      "  warnings.warn(\n",
      "C:\\Users\\admin\\anaconda3\\lib\\site-packages\\sklearn\\utils\\parallel.py:114: UserWarning: `sklearn.utils.parallel.delayed` should be used with `sklearn.utils.parallel.Parallel` to make it possible to propagate the scikit-learn configuration of the current thread to the joblib workers.\n",
      "  warnings.warn(\n",
      "C:\\Users\\admin\\anaconda3\\lib\\site-packages\\sklearn\\utils\\parallel.py:114: UserWarning: `sklearn.utils.parallel.delayed` should be used with `sklearn.utils.parallel.Parallel` to make it possible to propagate the scikit-learn configuration of the current thread to the joblib workers.\n",
      "  warnings.warn(\n",
      "C:\\Users\\admin\\anaconda3\\lib\\site-packages\\sklearn\\utils\\deprecation.py:86: FutureWarning: Function delayed is deprecated; The function `delayed` has been moved from `sklearn.utils.fixes` to `sklearn.utils.parallel`. This import path will be removed in 1.5.\n",
      "  warnings.warn(msg, category=FutureWarning)\n",
      "C:\\Users\\admin\\anaconda3\\lib\\site-packages\\sklearn\\utils\\parallel.py:114: UserWarning: `sklearn.utils.parallel.delayed` should be used with `sklearn.utils.parallel.Parallel` to make it possible to propagate the scikit-learn configuration of the current thread to the joblib workers.\n",
      "  warnings.warn(\n",
      "C:\\Users\\admin\\anaconda3\\lib\\site-packages\\sklearn\\utils\\parallel.py:114: UserWarning: `sklearn.utils.parallel.delayed` should be used with `sklearn.utils.parallel.Parallel` to make it possible to propagate the scikit-learn configuration of the current thread to the joblib workers.\n",
      "  warnings.warn(\n",
      "C:\\Users\\admin\\anaconda3\\lib\\site-packages\\sklearn\\utils\\parallel.py:114: UserWarning: `sklearn.utils.parallel.delayed` should be used with `sklearn.utils.parallel.Parallel` to make it possible to propagate the scikit-learn configuration of the current thread to the joblib workers.\n",
      "  warnings.warn(\n",
      "C:\\Users\\admin\\anaconda3\\lib\\site-packages\\sklearn\\utils\\parallel.py:114: UserWarning: `sklearn.utils.parallel.delayed` should be used with `sklearn.utils.parallel.Parallel` to make it possible to propagate the scikit-learn configuration of the current thread to the joblib workers.\n",
      "  warnings.warn(\n",
      "C:\\Users\\admin\\anaconda3\\lib\\site-packages\\sklearn\\utils\\parallel.py:114: UserWarning: `sklearn.utils.parallel.delayed` should be used with `sklearn.utils.parallel.Parallel` to make it possible to propagate the scikit-learn configuration of the current thread to the joblib workers.\n",
      "  warnings.warn(\n",
      "C:\\Users\\admin\\anaconda3\\lib\\site-packages\\sklearn\\utils\\parallel.py:114: UserWarning: `sklearn.utils.parallel.delayed` should be used with `sklearn.utils.parallel.Parallel` to make it possible to propagate the scikit-learn configuration of the current thread to the joblib workers.\n",
      "  warnings.warn(\n",
      "C:\\Users\\admin\\anaconda3\\lib\\site-packages\\sklearn\\utils\\parallel.py:114: UserWarning: `sklearn.utils.parallel.delayed` should be used with `sklearn.utils.parallel.Parallel` to make it possible to propagate the scikit-learn configuration of the current thread to the joblib workers.\n",
      "  warnings.warn(\n",
      "C:\\Users\\admin\\anaconda3\\lib\\site-packages\\sklearn\\utils\\parallel.py:114: UserWarning: `sklearn.utils.parallel.delayed` should be used with `sklearn.utils.parallel.Parallel` to make it possible to propagate the scikit-learn configuration of the current thread to the joblib workers.\n",
      "  warnings.warn(\n",
      "C:\\Users\\admin\\anaconda3\\lib\\site-packages\\sklearn\\utils\\parallel.py:114: UserWarning: `sklearn.utils.parallel.delayed` should be used with `sklearn.utils.parallel.Parallel` to make it possible to propagate the scikit-learn configuration of the current thread to the joblib workers.\n",
      "  warnings.warn(\n",
      "C:\\Users\\admin\\anaconda3\\lib\\site-packages\\sklearn\\utils\\parallel.py:114: UserWarning: `sklearn.utils.parallel.delayed` should be used with `sklearn.utils.parallel.Parallel` to make it possible to propagate the scikit-learn configuration of the current thread to the joblib workers.\n",
      "  warnings.warn(\n",
      "C:\\Users\\admin\\anaconda3\\lib\\site-packages\\sklearn\\utils\\parallel.py:114: UserWarning: `sklearn.utils.parallel.delayed` should be used with `sklearn.utils.parallel.Parallel` to make it possible to propagate the scikit-learn configuration of the current thread to the joblib workers.\n",
      "  warnings.warn(\n",
      "C:\\Users\\admin\\anaconda3\\lib\\site-packages\\sklearn\\utils\\parallel.py:114: UserWarning: `sklearn.utils.parallel.delayed` should be used with `sklearn.utils.parallel.Parallel` to make it possible to propagate the scikit-learn configuration of the current thread to the joblib workers.\n",
      "  warnings.warn(\n",
      "C:\\Users\\admin\\anaconda3\\lib\\site-packages\\sklearn\\utils\\deprecation.py:86: FutureWarning: Function delayed is deprecated; The function `delayed` has been moved from `sklearn.utils.fixes` to `sklearn.utils.parallel`. This import path will be removed in 1.5.\n",
      "  warnings.warn(msg, category=FutureWarning)\n",
      "C:\\Users\\admin\\anaconda3\\lib\\site-packages\\sklearn\\utils\\parallel.py:114: UserWarning: `sklearn.utils.parallel.delayed` should be used with `sklearn.utils.parallel.Parallel` to make it possible to propagate the scikit-learn configuration of the current thread to the joblib workers.\n",
      "  warnings.warn(\n",
      "C:\\Users\\admin\\anaconda3\\lib\\site-packages\\sklearn\\utils\\parallel.py:114: UserWarning: `sklearn.utils.parallel.delayed` should be used with `sklearn.utils.parallel.Parallel` to make it possible to propagate the scikit-learn configuration of the current thread to the joblib workers.\n",
      "  warnings.warn(\n",
      "C:\\Users\\admin\\anaconda3\\lib\\site-packages\\sklearn\\utils\\parallel.py:114: UserWarning: `sklearn.utils.parallel.delayed` should be used with `sklearn.utils.parallel.Parallel` to make it possible to propagate the scikit-learn configuration of the current thread to the joblib workers.\n",
      "  warnings.warn(\n",
      "C:\\Users\\admin\\anaconda3\\lib\\site-packages\\sklearn\\utils\\parallel.py:114: UserWarning: `sklearn.utils.parallel.delayed` should be used with `sklearn.utils.parallel.Parallel` to make it possible to propagate the scikit-learn configuration of the current thread to the joblib workers.\n",
      "  warnings.warn(\n",
      "C:\\Users\\admin\\anaconda3\\lib\\site-packages\\sklearn\\utils\\parallel.py:114: UserWarning: `sklearn.utils.parallel.delayed` should be used with `sklearn.utils.parallel.Parallel` to make it possible to propagate the scikit-learn configuration of the current thread to the joblib workers.\n",
      "  warnings.warn(\n",
      "C:\\Users\\admin\\anaconda3\\lib\\site-packages\\sklearn\\utils\\parallel.py:114: UserWarning: `sklearn.utils.parallel.delayed` should be used with `sklearn.utils.parallel.Parallel` to make it possible to propagate the scikit-learn configuration of the current thread to the joblib workers.\n",
      "  warnings.warn(\n",
      "C:\\Users\\admin\\anaconda3\\lib\\site-packages\\sklearn\\utils\\parallel.py:114: UserWarning: `sklearn.utils.parallel.delayed` should be used with `sklearn.utils.parallel.Parallel` to make it possible to propagate the scikit-learn configuration of the current thread to the joblib workers.\n",
      "  warnings.warn(\n",
      "C:\\Users\\admin\\anaconda3\\lib\\site-packages\\sklearn\\utils\\parallel.py:114: UserWarning: `sklearn.utils.parallel.delayed` should be used with `sklearn.utils.parallel.Parallel` to make it possible to propagate the scikit-learn configuration of the current thread to the joblib workers.\n",
      "  warnings.warn(\n",
      "C:\\Users\\admin\\anaconda3\\lib\\site-packages\\sklearn\\utils\\parallel.py:114: UserWarning: `sklearn.utils.parallel.delayed` should be used with `sklearn.utils.parallel.Parallel` to make it possible to propagate the scikit-learn configuration of the current thread to the joblib workers.\n",
      "  warnings.warn(\n",
      "C:\\Users\\admin\\anaconda3\\lib\\site-packages\\sklearn\\utils\\parallel.py:114: UserWarning: `sklearn.utils.parallel.delayed` should be used with `sklearn.utils.parallel.Parallel` to make it possible to propagate the scikit-learn configuration of the current thread to the joblib workers.\n",
      "  warnings.warn(\n",
      "C:\\Users\\admin\\anaconda3\\lib\\site-packages\\sklearn\\utils\\parallel.py:114: UserWarning: `sklearn.utils.parallel.delayed` should be used with `sklearn.utils.parallel.Parallel` to make it possible to propagate the scikit-learn configuration of the current thread to the joblib workers.\n",
      "  warnings.warn(\n",
      "C:\\Users\\admin\\anaconda3\\lib\\site-packages\\sklearn\\utils\\parallel.py:114: UserWarning: `sklearn.utils.parallel.delayed` should be used with `sklearn.utils.parallel.Parallel` to make it possible to propagate the scikit-learn configuration of the current thread to the joblib workers.\n",
      "  warnings.warn(\n",
      "C:\\Users\\admin\\anaconda3\\lib\\site-packages\\sklearn\\utils\\deprecation.py:86: FutureWarning: Function delayed is deprecated; The function `delayed` has been moved from `sklearn.utils.fixes` to `sklearn.utils.parallel`. This import path will be removed in 1.5.\n",
      "  warnings.warn(msg, category=FutureWarning)\n",
      "C:\\Users\\admin\\anaconda3\\lib\\site-packages\\sklearn\\utils\\parallel.py:114: UserWarning: `sklearn.utils.parallel.delayed` should be used with `sklearn.utils.parallel.Parallel` to make it possible to propagate the scikit-learn configuration of the current thread to the joblib workers.\n",
      "  warnings.warn(\n",
      "C:\\Users\\admin\\anaconda3\\lib\\site-packages\\sklearn\\utils\\parallel.py:114: UserWarning: `sklearn.utils.parallel.delayed` should be used with `sklearn.utils.parallel.Parallel` to make it possible to propagate the scikit-learn configuration of the current thread to the joblib workers.\n",
      "  warnings.warn(\n",
      "C:\\Users\\admin\\anaconda3\\lib\\site-packages\\sklearn\\utils\\parallel.py:114: UserWarning: `sklearn.utils.parallel.delayed` should be used with `sklearn.utils.parallel.Parallel` to make it possible to propagate the scikit-learn configuration of the current thread to the joblib workers.\n",
      "  warnings.warn(\n",
      "C:\\Users\\admin\\anaconda3\\lib\\site-packages\\sklearn\\utils\\parallel.py:114: UserWarning: `sklearn.utils.parallel.delayed` should be used with `sklearn.utils.parallel.Parallel` to make it possible to propagate the scikit-learn configuration of the current thread to the joblib workers.\n",
      "  warnings.warn(\n",
      "C:\\Users\\admin\\anaconda3\\lib\\site-packages\\sklearn\\utils\\parallel.py:114: UserWarning: `sklearn.utils.parallel.delayed` should be used with `sklearn.utils.parallel.Parallel` to make it possible to propagate the scikit-learn configuration of the current thread to the joblib workers.\n",
      "  warnings.warn(\n",
      "C:\\Users\\admin\\anaconda3\\lib\\site-packages\\sklearn\\utils\\parallel.py:114: UserWarning: `sklearn.utils.parallel.delayed` should be used with `sklearn.utils.parallel.Parallel` to make it possible to propagate the scikit-learn configuration of the current thread to the joblib workers.\n",
      "  warnings.warn(\n",
      "C:\\Users\\admin\\anaconda3\\lib\\site-packages\\sklearn\\utils\\parallel.py:114: UserWarning: `sklearn.utils.parallel.delayed` should be used with `sklearn.utils.parallel.Parallel` to make it possible to propagate the scikit-learn configuration of the current thread to the joblib workers.\n",
      "  warnings.warn(\n",
      "C:\\Users\\admin\\anaconda3\\lib\\site-packages\\sklearn\\utils\\parallel.py:114: UserWarning: `sklearn.utils.parallel.delayed` should be used with `sklearn.utils.parallel.Parallel` to make it possible to propagate the scikit-learn configuration of the current thread to the joblib workers.\n",
      "  warnings.warn(\n",
      "C:\\Users\\admin\\anaconda3\\lib\\site-packages\\sklearn\\utils\\parallel.py:114: UserWarning: `sklearn.utils.parallel.delayed` should be used with `sklearn.utils.parallel.Parallel` to make it possible to propagate the scikit-learn configuration of the current thread to the joblib workers.\n",
      "  warnings.warn(\n",
      "C:\\Users\\admin\\anaconda3\\lib\\site-packages\\sklearn\\utils\\parallel.py:114: UserWarning: `sklearn.utils.parallel.delayed` should be used with `sklearn.utils.parallel.Parallel` to make it possible to propagate the scikit-learn configuration of the current thread to the joblib workers.\n",
      "  warnings.warn(\n",
      "C:\\Users\\admin\\anaconda3\\lib\\site-packages\\sklearn\\utils\\parallel.py:114: UserWarning: `sklearn.utils.parallel.delayed` should be used with `sklearn.utils.parallel.Parallel` to make it possible to propagate the scikit-learn configuration of the current thread to the joblib workers.\n",
      "  warnings.warn(\n",
      "C:\\Users\\admin\\anaconda3\\lib\\site-packages\\sklearn\\utils\\parallel.py:114: UserWarning: `sklearn.utils.parallel.delayed` should be used with `sklearn.utils.parallel.Parallel` to make it possible to propagate the scikit-learn configuration of the current thread to the joblib workers.\n",
      "  warnings.warn(\n",
      "C:\\Users\\admin\\anaconda3\\lib\\site-packages\\sklearn\\utils\\deprecation.py:86: FutureWarning: Function delayed is deprecated; The function `delayed` has been moved from `sklearn.utils.fixes` to `sklearn.utils.parallel`. This import path will be removed in 1.5.\n",
      "  warnings.warn(msg, category=FutureWarning)\n",
      "C:\\Users\\admin\\anaconda3\\lib\\site-packages\\sklearn\\utils\\parallel.py:114: UserWarning: `sklearn.utils.parallel.delayed` should be used with `sklearn.utils.parallel.Parallel` to make it possible to propagate the scikit-learn configuration of the current thread to the joblib workers.\n",
      "  warnings.warn(\n",
      "C:\\Users\\admin\\anaconda3\\lib\\site-packages\\sklearn\\utils\\parallel.py:114: UserWarning: `sklearn.utils.parallel.delayed` should be used with `sklearn.utils.parallel.Parallel` to make it possible to propagate the scikit-learn configuration of the current thread to the joblib workers.\n",
      "  warnings.warn(\n",
      "C:\\Users\\admin\\anaconda3\\lib\\site-packages\\sklearn\\utils\\parallel.py:114: UserWarning: `sklearn.utils.parallel.delayed` should be used with `sklearn.utils.parallel.Parallel` to make it possible to propagate the scikit-learn configuration of the current thread to the joblib workers.\n",
      "  warnings.warn(\n",
      "C:\\Users\\admin\\anaconda3\\lib\\site-packages\\sklearn\\utils\\parallel.py:114: UserWarning: `sklearn.utils.parallel.delayed` should be used with `sklearn.utils.parallel.Parallel` to make it possible to propagate the scikit-learn configuration of the current thread to the joblib workers.\n",
      "  warnings.warn(\n",
      "C:\\Users\\admin\\anaconda3\\lib\\site-packages\\sklearn\\utils\\parallel.py:114: UserWarning: `sklearn.utils.parallel.delayed` should be used with `sklearn.utils.parallel.Parallel` to make it possible to propagate the scikit-learn configuration of the current thread to the joblib workers.\n",
      "  warnings.warn(\n",
      "C:\\Users\\admin\\anaconda3\\lib\\site-packages\\sklearn\\utils\\parallel.py:114: UserWarning: `sklearn.utils.parallel.delayed` should be used with `sklearn.utils.parallel.Parallel` to make it possible to propagate the scikit-learn configuration of the current thread to the joblib workers.\n",
      "  warnings.warn(\n",
      "C:\\Users\\admin\\anaconda3\\lib\\site-packages\\sklearn\\utils\\parallel.py:114: UserWarning: `sklearn.utils.parallel.delayed` should be used with `sklearn.utils.parallel.Parallel` to make it possible to propagate the scikit-learn configuration of the current thread to the joblib workers.\n",
      "  warnings.warn(\n",
      "C:\\Users\\admin\\anaconda3\\lib\\site-packages\\sklearn\\utils\\parallel.py:114: UserWarning: `sklearn.utils.parallel.delayed` should be used with `sklearn.utils.parallel.Parallel` to make it possible to propagate the scikit-learn configuration of the current thread to the joblib workers.\n",
      "  warnings.warn(\n",
      "C:\\Users\\admin\\anaconda3\\lib\\site-packages\\sklearn\\utils\\parallel.py:114: UserWarning: `sklearn.utils.parallel.delayed` should be used with `sklearn.utils.parallel.Parallel` to make it possible to propagate the scikit-learn configuration of the current thread to the joblib workers.\n",
      "  warnings.warn(\n",
      "C:\\Users\\admin\\anaconda3\\lib\\site-packages\\sklearn\\utils\\parallel.py:114: UserWarning: `sklearn.utils.parallel.delayed` should be used with `sklearn.utils.parallel.Parallel` to make it possible to propagate the scikit-learn configuration of the current thread to the joblib workers.\n",
      "  warnings.warn(\n",
      "C:\\Users\\admin\\anaconda3\\lib\\site-packages\\sklearn\\utils\\parallel.py:114: UserWarning: `sklearn.utils.parallel.delayed` should be used with `sklearn.utils.parallel.Parallel` to make it possible to propagate the scikit-learn configuration of the current thread to the joblib workers.\n",
      "  warnings.warn(\n",
      "C:\\Users\\admin\\anaconda3\\lib\\site-packages\\sklearn\\utils\\parallel.py:114: UserWarning: `sklearn.utils.parallel.delayed` should be used with `sklearn.utils.parallel.Parallel` to make it possible to propagate the scikit-learn configuration of the current thread to the joblib workers.\n",
      "  warnings.warn(\n",
      "C:\\Users\\admin\\anaconda3\\lib\\site-packages\\sklearn\\utils\\deprecation.py:86: FutureWarning: Function delayed is deprecated; The function `delayed` has been moved from `sklearn.utils.fixes` to `sklearn.utils.parallel`. This import path will be removed in 1.5.\n",
      "  warnings.warn(msg, category=FutureWarning)\n",
      "C:\\Users\\admin\\anaconda3\\lib\\site-packages\\sklearn\\utils\\parallel.py:114: UserWarning: `sklearn.utils.parallel.delayed` should be used with `sklearn.utils.parallel.Parallel` to make it possible to propagate the scikit-learn configuration of the current thread to the joblib workers.\n",
      "  warnings.warn(\n",
      "C:\\Users\\admin\\anaconda3\\lib\\site-packages\\sklearn\\utils\\parallel.py:114: UserWarning: `sklearn.utils.parallel.delayed` should be used with `sklearn.utils.parallel.Parallel` to make it possible to propagate the scikit-learn configuration of the current thread to the joblib workers.\n",
      "  warnings.warn(\n",
      "C:\\Users\\admin\\anaconda3\\lib\\site-packages\\sklearn\\utils\\parallel.py:114: UserWarning: `sklearn.utils.parallel.delayed` should be used with `sklearn.utils.parallel.Parallel` to make it possible to propagate the scikit-learn configuration of the current thread to the joblib workers.\n",
      "  warnings.warn(\n",
      "C:\\Users\\admin\\anaconda3\\lib\\site-packages\\sklearn\\utils\\parallel.py:114: UserWarning: `sklearn.utils.parallel.delayed` should be used with `sklearn.utils.parallel.Parallel` to make it possible to propagate the scikit-learn configuration of the current thread to the joblib workers.\n",
      "  warnings.warn(\n",
      "C:\\Users\\admin\\anaconda3\\lib\\site-packages\\sklearn\\utils\\parallel.py:114: UserWarning: `sklearn.utils.parallel.delayed` should be used with `sklearn.utils.parallel.Parallel` to make it possible to propagate the scikit-learn configuration of the current thread to the joblib workers.\n",
      "  warnings.warn(\n",
      "C:\\Users\\admin\\anaconda3\\lib\\site-packages\\sklearn\\utils\\parallel.py:114: UserWarning: `sklearn.utils.parallel.delayed` should be used with `sklearn.utils.parallel.Parallel` to make it possible to propagate the scikit-learn configuration of the current thread to the joblib workers.\n",
      "  warnings.warn(\n",
      "C:\\Users\\admin\\anaconda3\\lib\\site-packages\\sklearn\\utils\\parallel.py:114: UserWarning: `sklearn.utils.parallel.delayed` should be used with `sklearn.utils.parallel.Parallel` to make it possible to propagate the scikit-learn configuration of the current thread to the joblib workers.\n",
      "  warnings.warn(\n",
      "C:\\Users\\admin\\anaconda3\\lib\\site-packages\\sklearn\\utils\\parallel.py:114: UserWarning: `sklearn.utils.parallel.delayed` should be used with `sklearn.utils.parallel.Parallel` to make it possible to propagate the scikit-learn configuration of the current thread to the joblib workers.\n",
      "  warnings.warn(\n",
      "C:\\Users\\admin\\anaconda3\\lib\\site-packages\\sklearn\\utils\\parallel.py:114: UserWarning: `sklearn.utils.parallel.delayed` should be used with `sklearn.utils.parallel.Parallel` to make it possible to propagate the scikit-learn configuration of the current thread to the joblib workers.\n",
      "  warnings.warn(\n",
      "C:\\Users\\admin\\anaconda3\\lib\\site-packages\\sklearn\\utils\\parallel.py:114: UserWarning: `sklearn.utils.parallel.delayed` should be used with `sklearn.utils.parallel.Parallel` to make it possible to propagate the scikit-learn configuration of the current thread to the joblib workers.\n",
      "  warnings.warn(\n",
      "C:\\Users\\admin\\anaconda3\\lib\\site-packages\\sklearn\\utils\\parallel.py:114: UserWarning: `sklearn.utils.parallel.delayed` should be used with `sklearn.utils.parallel.Parallel` to make it possible to propagate the scikit-learn configuration of the current thread to the joblib workers.\n",
      "  warnings.warn(\n",
      "C:\\Users\\admin\\anaconda3\\lib\\site-packages\\sklearn\\utils\\parallel.py:114: UserWarning: `sklearn.utils.parallel.delayed` should be used with `sklearn.utils.parallel.Parallel` to make it possible to propagate the scikit-learn configuration of the current thread to the joblib workers.\n",
      "  warnings.warn(\n",
      "C:\\Users\\admin\\anaconda3\\lib\\site-packages\\sklearn\\utils\\deprecation.py:86: FutureWarning: Function delayed is deprecated; The function `delayed` has been moved from `sklearn.utils.fixes` to `sklearn.utils.parallel`. This import path will be removed in 1.5.\n",
      "  warnings.warn(msg, category=FutureWarning)\n",
      "C:\\Users\\admin\\anaconda3\\lib\\site-packages\\sklearn\\utils\\parallel.py:114: UserWarning: `sklearn.utils.parallel.delayed` should be used with `sklearn.utils.parallel.Parallel` to make it possible to propagate the scikit-learn configuration of the current thread to the joblib workers.\n",
      "  warnings.warn(\n",
      "C:\\Users\\admin\\anaconda3\\lib\\site-packages\\sklearn\\utils\\parallel.py:114: UserWarning: `sklearn.utils.parallel.delayed` should be used with `sklearn.utils.parallel.Parallel` to make it possible to propagate the scikit-learn configuration of the current thread to the joblib workers.\n",
      "  warnings.warn(\n",
      "C:\\Users\\admin\\anaconda3\\lib\\site-packages\\sklearn\\utils\\parallel.py:114: UserWarning: `sklearn.utils.parallel.delayed` should be used with `sklearn.utils.parallel.Parallel` to make it possible to propagate the scikit-learn configuration of the current thread to the joblib workers.\n",
      "  warnings.warn(\n",
      "C:\\Users\\admin\\anaconda3\\lib\\site-packages\\sklearn\\utils\\parallel.py:114: UserWarning: `sklearn.utils.parallel.delayed` should be used with `sklearn.utils.parallel.Parallel` to make it possible to propagate the scikit-learn configuration of the current thread to the joblib workers.\n",
      "  warnings.warn(\n",
      "C:\\Users\\admin\\anaconda3\\lib\\site-packages\\sklearn\\utils\\parallel.py:114: UserWarning: `sklearn.utils.parallel.delayed` should be used with `sklearn.utils.parallel.Parallel` to make it possible to propagate the scikit-learn configuration of the current thread to the joblib workers.\n",
      "  warnings.warn(\n",
      "C:\\Users\\admin\\anaconda3\\lib\\site-packages\\sklearn\\utils\\parallel.py:114: UserWarning: `sklearn.utils.parallel.delayed` should be used with `sklearn.utils.parallel.Parallel` to make it possible to propagate the scikit-learn configuration of the current thread to the joblib workers.\n",
      "  warnings.warn(\n",
      "C:\\Users\\admin\\anaconda3\\lib\\site-packages\\sklearn\\utils\\parallel.py:114: UserWarning: `sklearn.utils.parallel.delayed` should be used with `sklearn.utils.parallel.Parallel` to make it possible to propagate the scikit-learn configuration of the current thread to the joblib workers.\n",
      "  warnings.warn(\n",
      "C:\\Users\\admin\\anaconda3\\lib\\site-packages\\sklearn\\utils\\parallel.py:114: UserWarning: `sklearn.utils.parallel.delayed` should be used with `sklearn.utils.parallel.Parallel` to make it possible to propagate the scikit-learn configuration of the current thread to the joblib workers.\n",
      "  warnings.warn(\n",
      "C:\\Users\\admin\\anaconda3\\lib\\site-packages\\sklearn\\utils\\parallel.py:114: UserWarning: `sklearn.utils.parallel.delayed` should be used with `sklearn.utils.parallel.Parallel` to make it possible to propagate the scikit-learn configuration of the current thread to the joblib workers.\n",
      "  warnings.warn(\n",
      "C:\\Users\\admin\\anaconda3\\lib\\site-packages\\sklearn\\utils\\parallel.py:114: UserWarning: `sklearn.utils.parallel.delayed` should be used with `sklearn.utils.parallel.Parallel` to make it possible to propagate the scikit-learn configuration of the current thread to the joblib workers.\n",
      "  warnings.warn(\n",
      "C:\\Users\\admin\\anaconda3\\lib\\site-packages\\sklearn\\utils\\parallel.py:114: UserWarning: `sklearn.utils.parallel.delayed` should be used with `sklearn.utils.parallel.Parallel` to make it possible to propagate the scikit-learn configuration of the current thread to the joblib workers.\n",
      "  warnings.warn(\n",
      "C:\\Users\\admin\\anaconda3\\lib\\site-packages\\sklearn\\utils\\parallel.py:114: UserWarning: `sklearn.utils.parallel.delayed` should be used with `sklearn.utils.parallel.Parallel` to make it possible to propagate the scikit-learn configuration of the current thread to the joblib workers.\n",
      "  warnings.warn(\n",
      "C:\\Users\\admin\\anaconda3\\lib\\site-packages\\sklearn\\utils\\parallel.py:114: UserWarning: `sklearn.utils.parallel.delayed` should be used with `sklearn.utils.parallel.Parallel` to make it possible to propagate the scikit-learn configuration of the current thread to the joblib workers.\n",
      "  warnings.warn(\n",
      "C:\\Users\\admin\\anaconda3\\lib\\site-packages\\sklearn\\utils\\parallel.py:114: UserWarning: `sklearn.utils.parallel.delayed` should be used with `sklearn.utils.parallel.Parallel` to make it possible to propagate the scikit-learn configuration of the current thread to the joblib workers.\n",
      "  warnings.warn(\n",
      "C:\\Users\\admin\\anaconda3\\lib\\site-packages\\sklearn\\utils\\parallel.py:114: UserWarning: `sklearn.utils.parallel.delayed` should be used with `sklearn.utils.parallel.Parallel` to make it possible to propagate the scikit-learn configuration of the current thread to the joblib workers.\n",
      "  warnings.warn(\n"
     ]
    }
   ],
   "source": [
    "# CLEANED\n",
    "brf.fit(X_train_clean, y_train_clean)\n",
    "add_to_eval_df(brf, \"BalancedRandomForest\", \"BALANCED clean\", X_train_clean, y_train_clean, X_test_clean, y_test_clean)"
   ],
   "metadata": {
    "collapsed": false,
    "ExecuteTime": {
     "end_time": "2024-11-14T19:10:41.217112100Z",
     "start_time": "2024-11-14T19:10:39.273863300Z"
    }
   }
  },
  {
   "cell_type": "code",
   "execution_count": 51,
   "outputs": [
    {
     "data": {
      "text/plain": "                   model                variant  train_acc  train_prec  \\\n4           RandomForest   BorderlineSMOTE base   0.999922    0.999948   \n0           RandomForest                   base   0.999855    1.000000   \n10          RandomForest         TomekLink base   0.999844    1.000000   \n2           RandomForest             SMOTE base   0.999922    0.999948   \n1           RandomForest                  clean   0.999845    1.000000   \n11          RandomForest        TomekLink clean   0.999793    1.000000   \n6           RandomForest            ADASYN base   0.999921    0.999947   \n5           RandomForest  BorderlineSMOTE clean   0.999917    0.999889   \n7           RandomForest           ADASYN clean   0.999918    0.999946   \n3           RandomForest            SMOTE clean   0.999917    0.999889   \n13  BalancedRandomForest         BALANCED clean   0.891960    0.377420   \n12  BalancedRandomForest          BALANCED base   0.853998    0.318274   \n9           RandomForest         NearMiss clean   0.998154    1.000000   \n8           RandomForest          NearMiss base   0.998118    0.998582   \n\n    train_rec  train_f1  test_acc  test_prec  test_rec   test_f1  \n4    0.999896  0.999922  0.951913   0.886957  0.337748  0.489209  \n0    0.997871  0.998934  0.956316   0.867797  0.423841  0.569522  \n10   0.997634  0.998816  0.955515   0.786184  0.440147  0.564345  \n2    0.999896  0.999922  0.952478   0.776435  0.425497  0.549733  \n1    0.997634  0.998816  0.955395   0.774603  0.449355  0.568765  \n11   0.996845  0.998420  0.954430   0.770492  0.432781  0.554245  \n6    0.999894  0.999921  0.950672   0.749254  0.415563  0.534611  \n5    0.999945  0.999917  0.947800   0.612705  0.550645  0.580019  \n7    0.999893  0.999920  0.945630   0.591633  0.546961  0.568421  \n3    0.999945  0.999917  0.945389   0.586873  0.559853  0.573044  \n13   0.999211  0.547892  0.851236   0.275795  0.782689  0.407869  \n12   1.000000  0.482865  0.811604   0.241630  0.824503  0.373734  \n9    0.997634  0.998816  0.477034   0.099261  0.865562  0.178098  \n8    0.999290  0.998936  0.229936   0.078840  0.963576  0.145755  ",
      "text/html": "<div>\n<style scoped>\n    .dataframe tbody tr th:only-of-type {\n        vertical-align: middle;\n    }\n\n    .dataframe tbody tr th {\n        vertical-align: top;\n    }\n\n    .dataframe thead th {\n        text-align: right;\n    }\n</style>\n<table border=\"1\" class=\"dataframe\">\n  <thead>\n    <tr style=\"text-align: right;\">\n      <th></th>\n      <th>model</th>\n      <th>variant</th>\n      <th>train_acc</th>\n      <th>train_prec</th>\n      <th>train_rec</th>\n      <th>train_f1</th>\n      <th>test_acc</th>\n      <th>test_prec</th>\n      <th>test_rec</th>\n      <th>test_f1</th>\n    </tr>\n  </thead>\n  <tbody>\n    <tr>\n      <th>4</th>\n      <td>RandomForest</td>\n      <td>BorderlineSMOTE base</td>\n      <td>0.999922</td>\n      <td>0.999948</td>\n      <td>0.999896</td>\n      <td>0.999922</td>\n      <td>0.951913</td>\n      <td>0.886957</td>\n      <td>0.337748</td>\n      <td>0.489209</td>\n    </tr>\n    <tr>\n      <th>0</th>\n      <td>RandomForest</td>\n      <td>base</td>\n      <td>0.999855</td>\n      <td>1.000000</td>\n      <td>0.997871</td>\n      <td>0.998934</td>\n      <td>0.956316</td>\n      <td>0.867797</td>\n      <td>0.423841</td>\n      <td>0.569522</td>\n    </tr>\n    <tr>\n      <th>10</th>\n      <td>RandomForest</td>\n      <td>TomekLink base</td>\n      <td>0.999844</td>\n      <td>1.000000</td>\n      <td>0.997634</td>\n      <td>0.998816</td>\n      <td>0.955515</td>\n      <td>0.786184</td>\n      <td>0.440147</td>\n      <td>0.564345</td>\n    </tr>\n    <tr>\n      <th>2</th>\n      <td>RandomForest</td>\n      <td>SMOTE base</td>\n      <td>0.999922</td>\n      <td>0.999948</td>\n      <td>0.999896</td>\n      <td>0.999922</td>\n      <td>0.952478</td>\n      <td>0.776435</td>\n      <td>0.425497</td>\n      <td>0.549733</td>\n    </tr>\n    <tr>\n      <th>1</th>\n      <td>RandomForest</td>\n      <td>clean</td>\n      <td>0.999845</td>\n      <td>1.000000</td>\n      <td>0.997634</td>\n      <td>0.998816</td>\n      <td>0.955395</td>\n      <td>0.774603</td>\n      <td>0.449355</td>\n      <td>0.568765</td>\n    </tr>\n    <tr>\n      <th>11</th>\n      <td>RandomForest</td>\n      <td>TomekLink clean</td>\n      <td>0.999793</td>\n      <td>1.000000</td>\n      <td>0.996845</td>\n      <td>0.998420</td>\n      <td>0.954430</td>\n      <td>0.770492</td>\n      <td>0.432781</td>\n      <td>0.554245</td>\n    </tr>\n    <tr>\n      <th>6</th>\n      <td>RandomForest</td>\n      <td>ADASYN base</td>\n      <td>0.999921</td>\n      <td>0.999947</td>\n      <td>0.999894</td>\n      <td>0.999921</td>\n      <td>0.950672</td>\n      <td>0.749254</td>\n      <td>0.415563</td>\n      <td>0.534611</td>\n    </tr>\n    <tr>\n      <th>5</th>\n      <td>RandomForest</td>\n      <td>BorderlineSMOTE clean</td>\n      <td>0.999917</td>\n      <td>0.999889</td>\n      <td>0.999945</td>\n      <td>0.999917</td>\n      <td>0.947800</td>\n      <td>0.612705</td>\n      <td>0.550645</td>\n      <td>0.580019</td>\n    </tr>\n    <tr>\n      <th>7</th>\n      <td>RandomForest</td>\n      <td>ADASYN clean</td>\n      <td>0.999918</td>\n      <td>0.999946</td>\n      <td>0.999893</td>\n      <td>0.999920</td>\n      <td>0.945630</td>\n      <td>0.591633</td>\n      <td>0.546961</td>\n      <td>0.568421</td>\n    </tr>\n    <tr>\n      <th>3</th>\n      <td>RandomForest</td>\n      <td>SMOTE clean</td>\n      <td>0.999917</td>\n      <td>0.999889</td>\n      <td>0.999945</td>\n      <td>0.999917</td>\n      <td>0.945389</td>\n      <td>0.586873</td>\n      <td>0.559853</td>\n      <td>0.573044</td>\n    </tr>\n    <tr>\n      <th>13</th>\n      <td>BalancedRandomForest</td>\n      <td>BALANCED clean</td>\n      <td>0.891960</td>\n      <td>0.377420</td>\n      <td>0.999211</td>\n      <td>0.547892</td>\n      <td>0.851236</td>\n      <td>0.275795</td>\n      <td>0.782689</td>\n      <td>0.407869</td>\n    </tr>\n    <tr>\n      <th>12</th>\n      <td>BalancedRandomForest</td>\n      <td>BALANCED base</td>\n      <td>0.853998</td>\n      <td>0.318274</td>\n      <td>1.000000</td>\n      <td>0.482865</td>\n      <td>0.811604</td>\n      <td>0.241630</td>\n      <td>0.824503</td>\n      <td>0.373734</td>\n    </tr>\n    <tr>\n      <th>9</th>\n      <td>RandomForest</td>\n      <td>NearMiss clean</td>\n      <td>0.998154</td>\n      <td>1.000000</td>\n      <td>0.997634</td>\n      <td>0.998816</td>\n      <td>0.477034</td>\n      <td>0.099261</td>\n      <td>0.865562</td>\n      <td>0.178098</td>\n    </tr>\n    <tr>\n      <th>8</th>\n      <td>RandomForest</td>\n      <td>NearMiss base</td>\n      <td>0.998118</td>\n      <td>0.998582</td>\n      <td>0.999290</td>\n      <td>0.998936</td>\n      <td>0.229936</td>\n      <td>0.078840</td>\n      <td>0.963576</td>\n      <td>0.145755</td>\n    </tr>\n  </tbody>\n</table>\n</div>"
     },
     "execution_count": 51,
     "metadata": {},
     "output_type": "execute_result"
    }
   ],
   "source": [
    "evaluation[(evaluation.model == \"RandomForest\") | (evaluation.model == \"BalancedRandomForest\")].sort_values(\n",
    "    by=[\"test_prec\"], ascending=False)"
   ],
   "metadata": {
    "collapsed": false,
    "ExecuteTime": {
     "end_time": "2024-11-14T19:10:41.307620300Z",
     "start_time": "2024-11-14T19:10:41.217112100Z"
    }
   }
  },
  {
   "cell_type": "markdown",
   "source": [
    "#### 2.2 Boosting"
   ],
   "metadata": {
    "collapsed": false
   }
  },
  {
   "cell_type": "markdown",
   "source": [
    "##### 2.2.1a XGBClassifier"
   ],
   "metadata": {
    "collapsed": false
   }
  },
  {
   "cell_type": "code",
   "execution_count": 52,
   "outputs": [],
   "source": [
    "xgb = XGBClassifier()"
   ],
   "metadata": {
    "collapsed": false,
    "ExecuteTime": {
     "end_time": "2024-11-14T19:10:41.433225200Z",
     "start_time": "2024-11-14T19:10:41.254899600Z"
    }
   }
  },
  {
   "cell_type": "code",
   "execution_count": 53,
   "outputs": [
    {
     "name": "stdout",
     "output_type": "stream",
     "text": [
      "Starting model fitting.\n",
      "1/12 Fitting:  XGBClassifier BASE started...\n",
      "Fitting:  XGBClassifier finished. Elapsed time:  4 Seconds\n",
      "2/12 Fitting:  XGBClassifier CLEAN started...\n",
      "Fitting:  XGBClassifier finished. Elapsed time:  4 Seconds\n",
      "3/12 Fitting:  XGBClassifier SMOTE-base started...\n",
      "Fitting:  XGBClassifier finished. Elapsed time:  11 Seconds\n",
      "4/12 Fitting:  XGBClassifier SMOTE-clean started...\n",
      "Fitting:  XGBClassifier finished. Elapsed time:  13 Seconds\n",
      "5/12 Fitting:  XGBClassifier BorderlineSMOTE-base started...\n",
      "Fitting:  XGBClassifier finished. Elapsed time:  10 Seconds\n",
      "6/12 Fitting:  XGBClassifier BorderlineSMOTE-clean started...\n",
      "Fitting:  XGBClassifier finished. Elapsed time:  6 Seconds\n",
      "7/12 Fitting:  XGBClassifier ADASYN-base started...\n",
      "Fitting:  XGBClassifier finished. Elapsed time:  6 Seconds\n",
      "8/12 Fitting:  XGBClassifier ADASYN-clean started...\n",
      "Fitting:  XGBClassifier finished. Elapsed time:  6 Seconds\n",
      "9/12 Fitting:  XGBClassifier NearMiss-base started...\n",
      "Fitting:  XGBClassifier finished. Elapsed time:  0 Seconds\n",
      "10/12 Fitting:  XGBClassifier NearMiss-clean started...\n",
      "Fitting:  XGBClassifier finished. Elapsed time:  0 Seconds\n",
      "11/12 Fitting:  XGBClassifier TomekLink-base started...\n",
      "Fitting:  XGBClassifier finished. Elapsed time:  2 Seconds\n",
      "12/12 Fitting:  XGBClassifier TomekLink-clean started...\n",
      "Fitting:  XGBClassifier finished. Elapsed time:  2 Seconds\n",
      "Model fitting finished.\n"
     ]
    }
   ],
   "source": [
    "fit_model(xgb, \"XGBClassifier\")"
   ],
   "metadata": {
    "collapsed": false,
    "ExecuteTime": {
     "end_time": "2024-11-14T19:11:45.410470400Z",
     "start_time": "2024-11-14T19:10:41.260738800Z"
    }
   }
  },
  {
   "cell_type": "code",
   "execution_count": 54,
   "outputs": [
    {
     "data": {
      "text/plain": "            model                variant  train_acc  train_prec  train_rec  \\\n14  XGBClassifier                   base   0.965120    0.972527   0.502484   \n15  XGBClassifier                  clean   0.961455    0.945392   0.436909   \n24  XGBClassifier         TomekLink base   0.961172    0.954466   0.429811   \n25  XGBClassifier        TomekLink clean   0.961172    0.954466   0.429811   \n18  XGBClassifier   BorderlineSMOTE base   0.978169    0.993252   0.962880   \n16  XGBClassifier             SMOTE base   0.968877    0.990869   0.946475   \n20  XGBClassifier            ADASYN base   0.969427    0.990364   0.947446   \n19  XGBClassifier  BorderlineSMOTE clean   0.947418    0.975273   0.918113   \n17  XGBClassifier            SMOTE clean   0.942248    0.974379   0.908382   \n21  XGBClassifier           ADASYN clean   0.942083    0.974452   0.909788   \n23  XGBClassifier         NearMiss clean   0.871385    0.865424   0.988959   \n22  XGBClassifier          NearMiss base   0.966123    0.969508   0.992903   \n\n    train_f1  test_acc  test_prec  test_rec   test_f1  \n14  0.662611  0.951010   0.824427  0.357616  0.498845  \n15  0.597627  0.949367   0.783410  0.313076  0.447368  \n24  0.592713  0.948764   0.780952  0.302026  0.435591  \n25  0.592713  0.948764   0.780952  0.302026  0.435591  \n18  0.977830  0.947511   0.692521  0.413907  0.518135  \n16  0.968163  0.944463   0.636585  0.432119  0.514793  \n20  0.968430  0.942996   0.625954  0.407285  0.493480  \n19  0.945830  0.940567   0.549213  0.513812  0.530923  \n17  0.940224  0.937553   0.524178  0.499079  0.511321  \n21  0.941010  0.937673   0.523810  0.526703  0.525253  \n23  0.923077  0.236769   0.076901  0.968692  0.142490  \n22  0.981066  0.137600   0.070976  0.963576  0.132213  ",
      "text/html": "<div>\n<style scoped>\n    .dataframe tbody tr th:only-of-type {\n        vertical-align: middle;\n    }\n\n    .dataframe tbody tr th {\n        vertical-align: top;\n    }\n\n    .dataframe thead th {\n        text-align: right;\n    }\n</style>\n<table border=\"1\" class=\"dataframe\">\n  <thead>\n    <tr style=\"text-align: right;\">\n      <th></th>\n      <th>model</th>\n      <th>variant</th>\n      <th>train_acc</th>\n      <th>train_prec</th>\n      <th>train_rec</th>\n      <th>train_f1</th>\n      <th>test_acc</th>\n      <th>test_prec</th>\n      <th>test_rec</th>\n      <th>test_f1</th>\n    </tr>\n  </thead>\n  <tbody>\n    <tr>\n      <th>14</th>\n      <td>XGBClassifier</td>\n      <td>base</td>\n      <td>0.965120</td>\n      <td>0.972527</td>\n      <td>0.502484</td>\n      <td>0.662611</td>\n      <td>0.951010</td>\n      <td>0.824427</td>\n      <td>0.357616</td>\n      <td>0.498845</td>\n    </tr>\n    <tr>\n      <th>15</th>\n      <td>XGBClassifier</td>\n      <td>clean</td>\n      <td>0.961455</td>\n      <td>0.945392</td>\n      <td>0.436909</td>\n      <td>0.597627</td>\n      <td>0.949367</td>\n      <td>0.783410</td>\n      <td>0.313076</td>\n      <td>0.447368</td>\n    </tr>\n    <tr>\n      <th>24</th>\n      <td>XGBClassifier</td>\n      <td>TomekLink base</td>\n      <td>0.961172</td>\n      <td>0.954466</td>\n      <td>0.429811</td>\n      <td>0.592713</td>\n      <td>0.948764</td>\n      <td>0.780952</td>\n      <td>0.302026</td>\n      <td>0.435591</td>\n    </tr>\n    <tr>\n      <th>25</th>\n      <td>XGBClassifier</td>\n      <td>TomekLink clean</td>\n      <td>0.961172</td>\n      <td>0.954466</td>\n      <td>0.429811</td>\n      <td>0.592713</td>\n      <td>0.948764</td>\n      <td>0.780952</td>\n      <td>0.302026</td>\n      <td>0.435591</td>\n    </tr>\n    <tr>\n      <th>18</th>\n      <td>XGBClassifier</td>\n      <td>BorderlineSMOTE base</td>\n      <td>0.978169</td>\n      <td>0.993252</td>\n      <td>0.962880</td>\n      <td>0.977830</td>\n      <td>0.947511</td>\n      <td>0.692521</td>\n      <td>0.413907</td>\n      <td>0.518135</td>\n    </tr>\n    <tr>\n      <th>16</th>\n      <td>XGBClassifier</td>\n      <td>SMOTE base</td>\n      <td>0.968877</td>\n      <td>0.990869</td>\n      <td>0.946475</td>\n      <td>0.968163</td>\n      <td>0.944463</td>\n      <td>0.636585</td>\n      <td>0.432119</td>\n      <td>0.514793</td>\n    </tr>\n    <tr>\n      <th>20</th>\n      <td>XGBClassifier</td>\n      <td>ADASYN base</td>\n      <td>0.969427</td>\n      <td>0.990364</td>\n      <td>0.947446</td>\n      <td>0.968430</td>\n      <td>0.942996</td>\n      <td>0.625954</td>\n      <td>0.407285</td>\n      <td>0.493480</td>\n    </tr>\n    <tr>\n      <th>19</th>\n      <td>XGBClassifier</td>\n      <td>BorderlineSMOTE clean</td>\n      <td>0.947418</td>\n      <td>0.975273</td>\n      <td>0.918113</td>\n      <td>0.945830</td>\n      <td>0.940567</td>\n      <td>0.549213</td>\n      <td>0.513812</td>\n      <td>0.530923</td>\n    </tr>\n    <tr>\n      <th>17</th>\n      <td>XGBClassifier</td>\n      <td>SMOTE clean</td>\n      <td>0.942248</td>\n      <td>0.974379</td>\n      <td>0.908382</td>\n      <td>0.940224</td>\n      <td>0.937553</td>\n      <td>0.524178</td>\n      <td>0.499079</td>\n      <td>0.511321</td>\n    </tr>\n    <tr>\n      <th>21</th>\n      <td>XGBClassifier</td>\n      <td>ADASYN clean</td>\n      <td>0.942083</td>\n      <td>0.974452</td>\n      <td>0.909788</td>\n      <td>0.941010</td>\n      <td>0.937673</td>\n      <td>0.523810</td>\n      <td>0.526703</td>\n      <td>0.525253</td>\n    </tr>\n    <tr>\n      <th>23</th>\n      <td>XGBClassifier</td>\n      <td>NearMiss clean</td>\n      <td>0.871385</td>\n      <td>0.865424</td>\n      <td>0.988959</td>\n      <td>0.923077</td>\n      <td>0.236769</td>\n      <td>0.076901</td>\n      <td>0.968692</td>\n      <td>0.142490</td>\n    </tr>\n    <tr>\n      <th>22</th>\n      <td>XGBClassifier</td>\n      <td>NearMiss base</td>\n      <td>0.966123</td>\n      <td>0.969508</td>\n      <td>0.992903</td>\n      <td>0.981066</td>\n      <td>0.137600</td>\n      <td>0.070976</td>\n      <td>0.963576</td>\n      <td>0.132213</td>\n    </tr>\n  </tbody>\n</table>\n</div>"
     },
     "execution_count": 54,
     "metadata": {},
     "output_type": "execute_result"
    }
   ],
   "source": [
    "evaluation[evaluation.model == \"XGBClassifier\"].sort_values(by=[\"test_prec\"], ascending=False)"
   ],
   "metadata": {
    "collapsed": false,
    "ExecuteTime": {
     "end_time": "2024-11-14T19:11:45.470908900Z",
     "start_time": "2024-11-14T19:11:45.402388700Z"
    }
   }
  },
  {
   "cell_type": "markdown",
   "source": [
    "##### 2.2.1b XGBClassifier tuning\n"
   ],
   "metadata": {
    "collapsed": false
   }
  },
  {
   "cell_type": "code",
   "execution_count": 55,
   "outputs": [],
   "source": [
    "# todo erneut machen\n",
    "\n",
    "param_test1 = {\n",
    "    'max_depth': range(3, 10, 2),\n",
    "}\n",
    "gsearch1 = GridSearchCV(estimator=XGBClassifier(\n",
    "    learning_rate=0.1,\n",
    "    n_estimators=140,\n",
    "    min_child_weight=1,\n",
    "    gamma=0,\n",
    "    subsample=0.8,\n",
    "    colsample_bytree=0.8,\n",
    "    objective='binary:logistic',\n",
    "    nthread=4,\n",
    "    scale_pos_weight=1,\n",
    "    seed=27\n",
    "), param_grid=param_test1, scoring='roc_auc', n_jobs=-1, cv=5, verbose=1)"
   ],
   "metadata": {
    "collapsed": false,
    "ExecuteTime": {
     "end_time": "2024-11-14T19:11:45.470908900Z",
     "start_time": "2024-11-14T19:11:45.410470400Z"
    }
   }
  },
  {
   "cell_type": "code",
   "execution_count": 56,
   "outputs": [],
   "source": [
    "# gsearch1.fit(X_train_clean, y_train_clean)\n",
    "# gsearch1.best_score_, gsearch1.best_params_"
   ],
   "metadata": {
    "collapsed": false,
    "ExecuteTime": {
     "end_time": "2024-11-14T19:11:45.486546500Z",
     "start_time": "2024-11-14T19:11:45.412507400Z"
    }
   }
  },
  {
   "cell_type": "code",
   "execution_count": 57,
   "outputs": [],
   "source": [
    "param_test2 = {\n",
    "    'min_child_weight': range(1, 6, 2),\n",
    "}\n",
    "gsearch2 = GridSearchCV(estimator=XGBClassifier(\n",
    "    learning_rate=0.1,\n",
    "    n_estimators=140,\n",
    "    max_depth=9,\n",
    "    gamma=0,\n",
    "    subsample=0.8,\n",
    "    colsample_bytree=0.8,\n",
    "    objective='binary:logistic',\n",
    "    nthread=4,\n",
    "    scale_pos_weight=1,\n",
    "    seed=27\n",
    "), param_grid=param_test2, scoring='roc_auc', n_jobs=-1, cv=5, verbose=1)"
   ],
   "metadata": {
    "collapsed": false,
    "ExecuteTime": {
     "end_time": "2024-11-14T19:11:45.486546500Z",
     "start_time": "2024-11-14T19:11:45.432681Z"
    }
   }
  },
  {
   "cell_type": "code",
   "execution_count": 58,
   "outputs": [],
   "source": [
    "# gsearch2.fit(X_train_clean, y_train_clean)\n",
    "# gsearch2.best_score_, gsearch2.best_params_"
   ],
   "metadata": {
    "collapsed": false,
    "ExecuteTime": {
     "end_time": "2024-11-14T19:11:45.486546500Z",
     "start_time": "2024-11-14T19:11:45.452864800Z"
    }
   }
  },
  {
   "cell_type": "code",
   "execution_count": 59,
   "outputs": [],
   "source": [
    "param_test3 = {\n",
    "    'gamma': [i / 10.0 for i in range(0, 5)],\n",
    "}\n",
    "gsearch3 = GridSearchCV(estimator=XGBClassifier(\n",
    "    learning_rate=0.1,\n",
    "    n_estimators=140,\n",
    "    max_depth=9,\n",
    "    min_child_weight=5,\n",
    "    subsample=0.8,\n",
    "    colsample_bytree=0.8,\n",
    "    objective='binary:logistic',\n",
    "    nthread=4,\n",
    "    scale_pos_weight=1,\n",
    "    seed=27\n",
    "), param_grid=param_test3, scoring='roc_auc', n_jobs=-1, cv=5, verbose=1)"
   ],
   "metadata": {
    "collapsed": false,
    "ExecuteTime": {
     "end_time": "2024-11-14T19:11:45.502171400Z",
     "start_time": "2024-11-14T19:11:45.470908900Z"
    }
   }
  },
  {
   "cell_type": "code",
   "execution_count": 60,
   "outputs": [],
   "source": [
    "# gsearch3.fit(X_train_clean, y_train_clean)\n",
    "# gsearch3.best_score_, gsearch3.best_params_"
   ],
   "metadata": {
    "collapsed": false,
    "ExecuteTime": {
     "end_time": "2024-11-14T19:11:45.602339600Z",
     "start_time": "2024-11-14T19:11:45.486546500Z"
    }
   }
  },
  {
   "cell_type": "code",
   "execution_count": 61,
   "outputs": [],
   "source": [
    "param_test4 = {\n",
    "    'subsample': [i / 10.0 for i in range(6, 10)],\n",
    "}\n",
    "gsearch4 = GridSearchCV(estimator=XGBClassifier(\n",
    "    learning_rate=0.1,\n",
    "    n_estimators=140,\n",
    "    max_depth=9,\n",
    "    min_child_weight=5,\n",
    "    gamma=0.1,\n",
    "    colsample_bytree=0.8,\n",
    "    objective='binary:logistic',\n",
    "    nthread=4,\n",
    "    scale_pos_weight=1,\n",
    "    seed=27\n",
    "), param_grid=param_test4, scoring='roc_auc', n_jobs=-1, cv=5, verbose=1)"
   ],
   "metadata": {
    "collapsed": false,
    "ExecuteTime": {
     "end_time": "2024-11-14T19:11:45.617962600Z",
     "start_time": "2024-11-14T19:11:45.502171400Z"
    }
   }
  },
  {
   "cell_type": "code",
   "execution_count": 62,
   "outputs": [],
   "source": [
    "# gsearch4.fit(X_train_clean, y_train_clean)\n",
    "# gsearch4.best_score_, gsearch4.best_params_"
   ],
   "metadata": {
    "collapsed": false,
    "ExecuteTime": {
     "end_time": "2024-11-14T19:11:45.617962600Z",
     "start_time": "2024-11-14T19:11:45.517799300Z"
    }
   }
  },
  {
   "cell_type": "code",
   "execution_count": 63,
   "outputs": [],
   "source": [
    "param_test5 = {\n",
    "    'colsample_bytree': [i / 10.0 for i in range(6, 10)],\n",
    "}\n",
    "gsearch5 = GridSearchCV(estimator=XGBClassifier(\n",
    "    learning_rate=0.1,\n",
    "    n_estimators=140,\n",
    "    max_depth=9,\n",
    "    min_child_weight=5,\n",
    "    gamma=0.1,\n",
    "    subsample=0.8,\n",
    "    objective='binary:logistic',\n",
    "    nthread=4,\n",
    "    scale_pos_weight=1,\n",
    "    seed=27\n",
    "), param_grid=param_test5, scoring='roc_auc', n_jobs=-1, cv=5, verbose=1)"
   ],
   "metadata": {
    "collapsed": false,
    "ExecuteTime": {
     "end_time": "2024-11-14T19:11:45.617962600Z",
     "start_time": "2024-11-14T19:11:45.533422500Z"
    }
   }
  },
  {
   "cell_type": "code",
   "execution_count": 64,
   "outputs": [],
   "source": [
    "# gsearch5.fit(X_train_clean, y_train_clean)\n",
    "# gsearch5.best_score_, gsearch5.best_params_"
   ],
   "metadata": {
    "collapsed": false,
    "ExecuteTime": {
     "end_time": "2024-11-14T19:11:45.617962600Z",
     "start_time": "2024-11-14T19:11:45.549046500Z"
    }
   }
  },
  {
   "cell_type": "code",
   "execution_count": 65,
   "outputs": [],
   "source": [
    "param_test6 = {\n",
    "    'reg_alpha': [1e-5, 1e-2, 0.1, 1, 100]\n",
    "}\n",
    "gsearch6 = GridSearchCV(estimator=XGBClassifier(\n",
    "    learning_rate=0.1,\n",
    "    n_estimators=140,\n",
    "    max_depth=9,\n",
    "    min_child_weight=5,\n",
    "    gamma=0.1,\n",
    "    subsample=0.8,\n",
    "    colsample_bytree=0.8,\n",
    "    objective='binary:logistic',\n",
    "    nthread=4,\n",
    "    scale_pos_weight=1,\n",
    "    seed=27\n",
    "), param_grid=param_test6, scoring='roc_auc', n_jobs=-1, cv=5, verbose=1)"
   ],
   "metadata": {
    "collapsed": false,
    "ExecuteTime": {
     "end_time": "2024-11-14T19:11:45.617962600Z",
     "start_time": "2024-11-14T19:11:45.571071300Z"
    }
   }
  },
  {
   "cell_type": "code",
   "execution_count": 66,
   "outputs": [],
   "source": [
    "# gsearch6.fit(X_train_clean, y_train_clean)\n",
    "# gsearch6.best_score_, gsearch6.best_params_"
   ],
   "metadata": {
    "collapsed": false,
    "ExecuteTime": {
     "end_time": "2024-11-14T19:11:45.617962600Z",
     "start_time": "2024-11-14T19:11:45.586712400Z"
    }
   }
  },
  {
   "cell_type": "code",
   "execution_count": 67,
   "outputs": [],
   "source": [
    "xgb_tune = XGBClassifier(\n",
    "    learning_rate=0.1,\n",
    "    n_estimators=140,\n",
    "    max_depth=9,\n",
    "    min_child_weight=5,\n",
    "    gamma=0.1,\n",
    "    subsample=0.8,\n",
    "    colsample_bytree=0.8,\n",
    "    objective='binary:logistic',\n",
    "    nthread=4,\n",
    "    scale_pos_weight=1,\n",
    "    seed=27,\n",
    ")"
   ],
   "metadata": {
    "collapsed": false,
    "ExecuteTime": {
     "end_time": "2024-11-14T19:11:45.718253300Z",
     "start_time": "2024-11-14T19:11:45.602339600Z"
    }
   }
  },
  {
   "cell_type": "code",
   "execution_count": 68,
   "outputs": [],
   "source": [
    "# fit_model(xgb_tune, \"XGBClassifier-tuned\")\n",
    "# evaluation[evaluation.model == \"XGBClassifier-tuned\"].sort_values(by=[\"test_prec\"], ascending=False)"
   ],
   "metadata": {
    "collapsed": false,
    "ExecuteTime": {
     "end_time": "2024-11-14T19:11:45.787285100Z",
     "start_time": "2024-11-14T19:11:45.617962600Z"
    }
   }
  },
  {
   "cell_type": "markdown",
   "source": [
    "##### 2.2.1 CatBoostClassifier"
   ],
   "metadata": {
    "collapsed": false
   }
  },
  {
   "cell_type": "code",
   "execution_count": 69,
   "outputs": [],
   "source": [
    "cat = CatBoostClassifier(iterations=100,\n",
    "                         depth=5,\n",
    "                         learning_rate=0.1,\n",
    "                         loss_function='Logloss',\n",
    "                         verbose=True)"
   ],
   "metadata": {
    "collapsed": false,
    "ExecuteTime": {
     "end_time": "2024-11-14T19:11:45.834161400Z",
     "start_time": "2024-11-14T19:11:45.633586700Z"
    }
   }
  },
  {
   "cell_type": "code",
   "execution_count": 70,
   "outputs": [
    {
     "name": "stdout",
     "output_type": "stream",
     "text": [
      "Starting model fitting.\n",
      "1/12 Fitting:  CatBoostClassifier BASE started...\n",
      "0:\tlearn: 0.5886354\ttotal: 183ms\tremaining: 18.1s\n",
      "1:\tlearn: 0.5090445\ttotal: 226ms\tremaining: 11.1s\n",
      "2:\tlearn: 0.4469016\ttotal: 265ms\tremaining: 8.58s\n",
      "3:\tlearn: 0.3988917\ttotal: 304ms\tremaining: 7.29s\n",
      "4:\tlearn: 0.3609651\ttotal: 343ms\tremaining: 6.51s\n",
      "5:\tlearn: 0.3310584\ttotal: 381ms\tremaining: 5.97s\n",
      "6:\tlearn: 0.3071056\ttotal: 424ms\tremaining: 5.63s\n",
      "7:\tlearn: 0.2889219\ttotal: 464ms\tremaining: 5.33s\n",
      "8:\tlearn: 0.2748976\ttotal: 504ms\tremaining: 5.1s\n",
      "9:\tlearn: 0.2627787\ttotal: 545ms\tremaining: 4.91s\n",
      "10:\tlearn: 0.2534025\ttotal: 585ms\tremaining: 4.73s\n",
      "11:\tlearn: 0.2455747\ttotal: 627ms\tremaining: 4.6s\n",
      "12:\tlearn: 0.2389367\ttotal: 668ms\tremaining: 4.47s\n",
      "13:\tlearn: 0.2337709\ttotal: 708ms\tremaining: 4.35s\n",
      "14:\tlearn: 0.2294589\ttotal: 749ms\tremaining: 4.24s\n",
      "15:\tlearn: 0.2254072\ttotal: 790ms\tremaining: 4.14s\n",
      "16:\tlearn: 0.2221890\ttotal: 830ms\tremaining: 4.05s\n",
      "17:\tlearn: 0.2197272\ttotal: 870ms\tremaining: 3.96s\n",
      "18:\tlearn: 0.2174933\ttotal: 910ms\tremaining: 3.88s\n",
      "19:\tlearn: 0.2148602\ttotal: 951ms\tremaining: 3.8s\n",
      "20:\tlearn: 0.2130871\ttotal: 991ms\tremaining: 3.73s\n",
      "21:\tlearn: 0.2112854\ttotal: 1.03s\tremaining: 3.66s\n",
      "22:\tlearn: 0.2098294\ttotal: 1.07s\tremaining: 3.6s\n",
      "23:\tlearn: 0.2082025\ttotal: 1.12s\tremaining: 3.54s\n",
      "24:\tlearn: 0.2071175\ttotal: 1.16s\tremaining: 3.48s\n",
      "25:\tlearn: 0.2056098\ttotal: 1.2s\tremaining: 3.42s\n",
      "26:\tlearn: 0.2045167\ttotal: 1.24s\tremaining: 3.36s\n",
      "27:\tlearn: 0.2032763\ttotal: 1.28s\tremaining: 3.3s\n",
      "28:\tlearn: 0.2023086\ttotal: 1.32s\tremaining: 3.24s\n",
      "29:\tlearn: 0.2013546\ttotal: 1.37s\tremaining: 3.19s\n",
      "30:\tlearn: 0.2004343\ttotal: 1.41s\tremaining: 3.14s\n",
      "31:\tlearn: 0.1992906\ttotal: 1.45s\tremaining: 3.08s\n",
      "32:\tlearn: 0.1983824\ttotal: 1.49s\tremaining: 3.02s\n",
      "33:\tlearn: 0.1975825\ttotal: 1.53s\tremaining: 2.97s\n",
      "34:\tlearn: 0.1967548\ttotal: 1.57s\tremaining: 2.91s\n",
      "35:\tlearn: 0.1960284\ttotal: 1.6s\tremaining: 2.85s\n",
      "36:\tlearn: 0.1953094\ttotal: 1.64s\tremaining: 2.8s\n",
      "37:\tlearn: 0.1943617\ttotal: 1.68s\tremaining: 2.75s\n",
      "38:\tlearn: 0.1935225\ttotal: 1.73s\tremaining: 2.7s\n",
      "39:\tlearn: 0.1927267\ttotal: 1.76s\tremaining: 2.65s\n",
      "40:\tlearn: 0.1920993\ttotal: 1.8s\tremaining: 2.6s\n",
      "41:\tlearn: 0.1914112\ttotal: 1.84s\tremaining: 2.55s\n",
      "42:\tlearn: 0.1907278\ttotal: 1.88s\tremaining: 2.5s\n",
      "43:\tlearn: 0.1900723\ttotal: 1.92s\tremaining: 2.45s\n",
      "44:\tlearn: 0.1894926\ttotal: 1.96s\tremaining: 2.4s\n",
      "45:\tlearn: 0.1889825\ttotal: 2s\tremaining: 2.35s\n",
      "46:\tlearn: 0.1883271\ttotal: 2.04s\tremaining: 2.31s\n",
      "47:\tlearn: 0.1873947\ttotal: 2.08s\tremaining: 2.26s\n",
      "48:\tlearn: 0.1868298\ttotal: 2.13s\tremaining: 2.21s\n",
      "49:\tlearn: 0.1863895\ttotal: 2.17s\tremaining: 2.17s\n",
      "50:\tlearn: 0.1857856\ttotal: 2.21s\tremaining: 2.12s\n",
      "51:\tlearn: 0.1851966\ttotal: 2.25s\tremaining: 2.07s\n",
      "52:\tlearn: 0.1847147\ttotal: 2.29s\tremaining: 2.03s\n",
      "53:\tlearn: 0.1842101\ttotal: 2.33s\tremaining: 1.98s\n",
      "54:\tlearn: 0.1830672\ttotal: 2.37s\tremaining: 1.94s\n",
      "55:\tlearn: 0.1826041\ttotal: 2.41s\tremaining: 1.9s\n",
      "56:\tlearn: 0.1821451\ttotal: 2.45s\tremaining: 1.85s\n",
      "57:\tlearn: 0.1815367\ttotal: 2.49s\tremaining: 1.8s\n",
      "58:\tlearn: 0.1809749\ttotal: 2.53s\tremaining: 1.76s\n",
      "59:\tlearn: 0.1804747\ttotal: 2.57s\tremaining: 1.71s\n",
      "60:\tlearn: 0.1800417\ttotal: 2.61s\tremaining: 1.67s\n",
      "61:\tlearn: 0.1795973\ttotal: 2.65s\tremaining: 1.62s\n",
      "62:\tlearn: 0.1791620\ttotal: 2.69s\tremaining: 1.58s\n",
      "63:\tlearn: 0.1787601\ttotal: 2.72s\tremaining: 1.53s\n",
      "64:\tlearn: 0.1783132\ttotal: 2.76s\tremaining: 1.49s\n",
      "65:\tlearn: 0.1779019\ttotal: 2.8s\tremaining: 1.44s\n",
      "66:\tlearn: 0.1774274\ttotal: 2.85s\tremaining: 1.4s\n",
      "67:\tlearn: 0.1770153\ttotal: 2.88s\tremaining: 1.36s\n",
      "68:\tlearn: 0.1766022\ttotal: 2.92s\tremaining: 1.31s\n",
      "69:\tlearn: 0.1761518\ttotal: 2.97s\tremaining: 1.27s\n",
      "70:\tlearn: 0.1751779\ttotal: 3.01s\tremaining: 1.23s\n",
      "71:\tlearn: 0.1747498\ttotal: 3.05s\tremaining: 1.19s\n",
      "72:\tlearn: 0.1742990\ttotal: 3.09s\tremaining: 1.14s\n",
      "73:\tlearn: 0.1739843\ttotal: 3.13s\tremaining: 1.1s\n",
      "74:\tlearn: 0.1736169\ttotal: 3.17s\tremaining: 1.06s\n",
      "75:\tlearn: 0.1731677\ttotal: 3.21s\tremaining: 1.01s\n",
      "76:\tlearn: 0.1728597\ttotal: 3.25s\tremaining: 971ms\n",
      "77:\tlearn: 0.1725488\ttotal: 3.29s\tremaining: 928ms\n",
      "78:\tlearn: 0.1721928\ttotal: 3.33s\tremaining: 885ms\n",
      "79:\tlearn: 0.1716749\ttotal: 3.37s\tremaining: 843ms\n",
      "80:\tlearn: 0.1712086\ttotal: 3.41s\tremaining: 801ms\n",
      "81:\tlearn: 0.1707514\ttotal: 3.45s\tremaining: 758ms\n",
      "82:\tlearn: 0.1703386\ttotal: 3.5s\tremaining: 716ms\n",
      "83:\tlearn: 0.1699409\ttotal: 3.54s\tremaining: 674ms\n",
      "84:\tlearn: 0.1695979\ttotal: 3.58s\tremaining: 631ms\n",
      "85:\tlearn: 0.1692576\ttotal: 3.62s\tremaining: 589ms\n",
      "86:\tlearn: 0.1687818\ttotal: 3.66s\tremaining: 547ms\n",
      "87:\tlearn: 0.1684200\ttotal: 3.7s\tremaining: 505ms\n",
      "88:\tlearn: 0.1681265\ttotal: 3.74s\tremaining: 463ms\n",
      "89:\tlearn: 0.1678230\ttotal: 3.79s\tremaining: 421ms\n",
      "90:\tlearn: 0.1675383\ttotal: 3.83s\tremaining: 379ms\n",
      "91:\tlearn: 0.1672280\ttotal: 3.87s\tremaining: 336ms\n",
      "92:\tlearn: 0.1668745\ttotal: 3.91s\tremaining: 294ms\n",
      "93:\tlearn: 0.1665733\ttotal: 3.95s\tremaining: 252ms\n",
      "94:\tlearn: 0.1662775\ttotal: 3.99s\tremaining: 210ms\n",
      "95:\tlearn: 0.1658931\ttotal: 4.03s\tremaining: 168ms\n",
      "96:\tlearn: 0.1656319\ttotal: 4.07s\tremaining: 126ms\n",
      "97:\tlearn: 0.1653157\ttotal: 4.12s\tremaining: 84ms\n",
      "98:\tlearn: 0.1650230\ttotal: 4.16s\tremaining: 42ms\n",
      "99:\tlearn: 0.1646396\ttotal: 4.2s\tremaining: 0us\n",
      "Fitting:  CatBoostClassifier finished. Elapsed time:  5 Seconds\n",
      "2/12 Fitting:  CatBoostClassifier CLEAN started...\n",
      "0:\tlearn: 0.5851512\ttotal: 41.1ms\tremaining: 4.07s\n",
      "1:\tlearn: 0.5029998\ttotal: 77.4ms\tremaining: 3.79s\n",
      "2:\tlearn: 0.4417291\ttotal: 115ms\tremaining: 3.72s\n",
      "3:\tlearn: 0.3925381\ttotal: 152ms\tremaining: 3.64s\n",
      "4:\tlearn: 0.3557978\ttotal: 189ms\tremaining: 3.58s\n",
      "5:\tlearn: 0.3256731\ttotal: 225ms\tremaining: 3.52s\n",
      "6:\tlearn: 0.3020646\ttotal: 262ms\tremaining: 3.49s\n",
      "7:\tlearn: 0.2827967\ttotal: 301ms\tremaining: 3.46s\n",
      "8:\tlearn: 0.2677444\ttotal: 338ms\tremaining: 3.42s\n",
      "9:\tlearn: 0.2553475\ttotal: 375ms\tremaining: 3.38s\n",
      "10:\tlearn: 0.2463580\ttotal: 415ms\tremaining: 3.35s\n",
      "11:\tlearn: 0.2385565\ttotal: 452ms\tremaining: 3.32s\n",
      "12:\tlearn: 0.2325391\ttotal: 491ms\tremaining: 3.28s\n",
      "13:\tlearn: 0.2273798\ttotal: 530ms\tremaining: 3.25s\n",
      "14:\tlearn: 0.2230468\ttotal: 569ms\tremaining: 3.22s\n",
      "15:\tlearn: 0.2193351\ttotal: 606ms\tremaining: 3.18s\n",
      "16:\tlearn: 0.2162901\ttotal: 643ms\tremaining: 3.14s\n",
      "17:\tlearn: 0.2134002\ttotal: 680ms\tremaining: 3.1s\n",
      "18:\tlearn: 0.2108925\ttotal: 717ms\tremaining: 3.06s\n",
      "19:\tlearn: 0.2088050\ttotal: 755ms\tremaining: 3.02s\n",
      "20:\tlearn: 0.2069230\ttotal: 792ms\tremaining: 2.98s\n",
      "21:\tlearn: 0.2053554\ttotal: 829ms\tremaining: 2.94s\n",
      "22:\tlearn: 0.2038193\ttotal: 864ms\tremaining: 2.89s\n",
      "23:\tlearn: 0.2023972\ttotal: 899ms\tremaining: 2.85s\n",
      "24:\tlearn: 0.2012176\ttotal: 934ms\tremaining: 2.8s\n",
      "25:\tlearn: 0.1999548\ttotal: 970ms\tremaining: 2.76s\n",
      "26:\tlearn: 0.1985856\ttotal: 1.01s\tremaining: 2.72s\n",
      "27:\tlearn: 0.1974137\ttotal: 1.05s\tremaining: 2.69s\n",
      "28:\tlearn: 0.1963383\ttotal: 1.08s\tremaining: 2.65s\n",
      "29:\tlearn: 0.1953929\ttotal: 1.12s\tremaining: 2.61s\n",
      "30:\tlearn: 0.1945697\ttotal: 1.15s\tremaining: 2.56s\n",
      "31:\tlearn: 0.1937817\ttotal: 1.19s\tremaining: 2.53s\n",
      "32:\tlearn: 0.1930359\ttotal: 1.23s\tremaining: 2.49s\n",
      "33:\tlearn: 0.1922892\ttotal: 1.27s\tremaining: 2.46s\n",
      "34:\tlearn: 0.1915091\ttotal: 1.3s\tremaining: 2.42s\n",
      "35:\tlearn: 0.1908279\ttotal: 1.34s\tremaining: 2.38s\n",
      "36:\tlearn: 0.1900743\ttotal: 1.38s\tremaining: 2.35s\n",
      "37:\tlearn: 0.1891849\ttotal: 1.42s\tremaining: 2.31s\n",
      "38:\tlearn: 0.1885248\ttotal: 1.45s\tremaining: 2.27s\n",
      "39:\tlearn: 0.1879931\ttotal: 1.49s\tremaining: 2.24s\n",
      "40:\tlearn: 0.1874060\ttotal: 1.53s\tremaining: 2.2s\n",
      "41:\tlearn: 0.1868184\ttotal: 1.56s\tremaining: 2.16s\n",
      "42:\tlearn: 0.1862112\ttotal: 1.6s\tremaining: 2.12s\n",
      "43:\tlearn: 0.1856279\ttotal: 1.63s\tremaining: 2.08s\n",
      "44:\tlearn: 0.1850573\ttotal: 1.67s\tremaining: 2.04s\n",
      "45:\tlearn: 0.1845336\ttotal: 1.71s\tremaining: 2s\n",
      "46:\tlearn: 0.1839352\ttotal: 1.75s\tremaining: 1.97s\n",
      "47:\tlearn: 0.1833672\ttotal: 1.79s\tremaining: 1.94s\n",
      "48:\tlearn: 0.1827971\ttotal: 1.82s\tremaining: 1.9s\n",
      "49:\tlearn: 0.1821951\ttotal: 1.86s\tremaining: 1.86s\n",
      "50:\tlearn: 0.1816787\ttotal: 1.9s\tremaining: 1.82s\n",
      "51:\tlearn: 0.1811630\ttotal: 1.93s\tremaining: 1.78s\n",
      "52:\tlearn: 0.1806691\ttotal: 1.97s\tremaining: 1.75s\n",
      "53:\tlearn: 0.1801811\ttotal: 2.01s\tremaining: 1.71s\n",
      "54:\tlearn: 0.1796616\ttotal: 2.04s\tremaining: 1.67s\n",
      "55:\tlearn: 0.1791944\ttotal: 2.08s\tremaining: 1.63s\n",
      "56:\tlearn: 0.1787150\ttotal: 2.12s\tremaining: 1.59s\n",
      "57:\tlearn: 0.1783337\ttotal: 2.15s\tremaining: 1.56s\n",
      "58:\tlearn: 0.1778216\ttotal: 2.19s\tremaining: 1.52s\n",
      "59:\tlearn: 0.1773807\ttotal: 2.22s\tremaining: 1.48s\n",
      "60:\tlearn: 0.1770735\ttotal: 2.26s\tremaining: 1.44s\n",
      "61:\tlearn: 0.1767125\ttotal: 2.29s\tremaining: 1.41s\n",
      "62:\tlearn: 0.1763162\ttotal: 2.33s\tremaining: 1.37s\n",
      "63:\tlearn: 0.1759494\ttotal: 2.37s\tremaining: 1.33s\n",
      "64:\tlearn: 0.1753968\ttotal: 2.4s\tremaining: 1.29s\n",
      "65:\tlearn: 0.1748949\ttotal: 2.44s\tremaining: 1.26s\n",
      "66:\tlearn: 0.1744675\ttotal: 2.48s\tremaining: 1.22s\n",
      "67:\tlearn: 0.1740362\ttotal: 2.51s\tremaining: 1.18s\n",
      "68:\tlearn: 0.1737053\ttotal: 2.55s\tremaining: 1.15s\n",
      "69:\tlearn: 0.1733216\ttotal: 2.59s\tremaining: 1.11s\n",
      "70:\tlearn: 0.1728745\ttotal: 2.63s\tremaining: 1.07s\n",
      "71:\tlearn: 0.1724851\ttotal: 2.66s\tremaining: 1.03s\n",
      "72:\tlearn: 0.1721083\ttotal: 2.7s\tremaining: 997ms\n",
      "73:\tlearn: 0.1717705\ttotal: 2.73s\tremaining: 961ms\n",
      "74:\tlearn: 0.1713319\ttotal: 2.77s\tremaining: 924ms\n",
      "75:\tlearn: 0.1709340\ttotal: 2.81s\tremaining: 887ms\n",
      "76:\tlearn: 0.1705859\ttotal: 2.84s\tremaining: 850ms\n",
      "77:\tlearn: 0.1700624\ttotal: 2.88s\tremaining: 812ms\n",
      "78:\tlearn: 0.1697041\ttotal: 2.91s\tremaining: 774ms\n",
      "79:\tlearn: 0.1693992\ttotal: 2.95s\tremaining: 737ms\n",
      "80:\tlearn: 0.1690434\ttotal: 2.98s\tremaining: 700ms\n",
      "81:\tlearn: 0.1687261\ttotal: 3.02s\tremaining: 664ms\n",
      "82:\tlearn: 0.1683889\ttotal: 3.06s\tremaining: 626ms\n",
      "83:\tlearn: 0.1681104\ttotal: 3.09s\tremaining: 589ms\n",
      "84:\tlearn: 0.1677796\ttotal: 3.13s\tremaining: 552ms\n",
      "85:\tlearn: 0.1675102\ttotal: 3.16s\tremaining: 515ms\n",
      "86:\tlearn: 0.1671863\ttotal: 3.2s\tremaining: 478ms\n",
      "87:\tlearn: 0.1669054\ttotal: 3.24s\tremaining: 442ms\n",
      "88:\tlearn: 0.1666077\ttotal: 3.27s\tremaining: 405ms\n",
      "89:\tlearn: 0.1663020\ttotal: 3.31s\tremaining: 368ms\n",
      "90:\tlearn: 0.1660490\ttotal: 3.34s\tremaining: 331ms\n",
      "91:\tlearn: 0.1656987\ttotal: 3.38s\tremaining: 294ms\n",
      "92:\tlearn: 0.1654254\ttotal: 3.42s\tremaining: 257ms\n",
      "93:\tlearn: 0.1651389\ttotal: 3.46s\tremaining: 221ms\n",
      "94:\tlearn: 0.1648842\ttotal: 3.49s\tremaining: 184ms\n",
      "95:\tlearn: 0.1646143\ttotal: 3.53s\tremaining: 147ms\n",
      "96:\tlearn: 0.1643553\ttotal: 3.56s\tremaining: 110ms\n",
      "97:\tlearn: 0.1640538\ttotal: 3.6s\tremaining: 73.5ms\n",
      "98:\tlearn: 0.1637005\ttotal: 3.63s\tremaining: 36.7ms\n",
      "99:\tlearn: 0.1634066\ttotal: 3.67s\tremaining: 0us\n",
      "Fitting:  CatBoostClassifier finished. Elapsed time:  4 Seconds\n",
      "3/12 Fitting:  CatBoostClassifier SMOTE-base started...\n",
      "0:\tlearn: 0.6512372\ttotal: 70.1ms\tremaining: 6.94s\n",
      "1:\tlearn: 0.6219458\ttotal: 144ms\tremaining: 7.05s\n",
      "2:\tlearn: 0.5901969\ttotal: 210ms\tremaining: 6.8s\n",
      "3:\tlearn: 0.5698499\ttotal: 277ms\tremaining: 6.65s\n",
      "4:\tlearn: 0.5490152\ttotal: 346ms\tremaining: 6.58s\n",
      "5:\tlearn: 0.5337314\ttotal: 414ms\tremaining: 6.49s\n",
      "6:\tlearn: 0.5221326\ttotal: 481ms\tremaining: 6.38s\n",
      "7:\tlearn: 0.5039050\ttotal: 550ms\tremaining: 6.33s\n",
      "8:\tlearn: 0.4927456\ttotal: 620ms\tremaining: 6.27s\n",
      "9:\tlearn: 0.4839328\ttotal: 685ms\tremaining: 6.16s\n",
      "10:\tlearn: 0.4748029\ttotal: 751ms\tremaining: 6.08s\n",
      "11:\tlearn: 0.4611831\ttotal: 816ms\tremaining: 5.98s\n",
      "12:\tlearn: 0.4527094\ttotal: 877ms\tremaining: 5.87s\n",
      "13:\tlearn: 0.4466825\ttotal: 940ms\tremaining: 5.77s\n",
      "14:\tlearn: 0.4372844\ttotal: 1.01s\tremaining: 5.71s\n",
      "15:\tlearn: 0.4309210\ttotal: 1.07s\tremaining: 5.6s\n",
      "16:\tlearn: 0.4239441\ttotal: 1.13s\tremaining: 5.52s\n",
      "17:\tlearn: 0.4149190\ttotal: 1.2s\tremaining: 5.45s\n",
      "18:\tlearn: 0.4083667\ttotal: 1.26s\tremaining: 5.38s\n",
      "19:\tlearn: 0.4019008\ttotal: 1.33s\tremaining: 5.31s\n",
      "20:\tlearn: 0.3976948\ttotal: 1.39s\tremaining: 5.24s\n",
      "21:\tlearn: 0.3934043\ttotal: 1.46s\tremaining: 5.17s\n",
      "22:\tlearn: 0.3903010\ttotal: 1.52s\tremaining: 5.1s\n",
      "23:\tlearn: 0.3859560\ttotal: 1.59s\tremaining: 5.05s\n",
      "24:\tlearn: 0.3814096\ttotal: 1.66s\tremaining: 4.98s\n",
      "25:\tlearn: 0.3788465\ttotal: 1.73s\tremaining: 4.92s\n",
      "26:\tlearn: 0.3730621\ttotal: 1.8s\tremaining: 4.86s\n",
      "27:\tlearn: 0.3685412\ttotal: 1.86s\tremaining: 4.79s\n",
      "28:\tlearn: 0.3643764\ttotal: 1.93s\tremaining: 4.72s\n",
      "29:\tlearn: 0.3613136\ttotal: 2s\tremaining: 4.66s\n",
      "30:\tlearn: 0.3560794\ttotal: 2.06s\tremaining: 4.6s\n",
      "31:\tlearn: 0.3530453\ttotal: 2.13s\tremaining: 4.53s\n",
      "32:\tlearn: 0.3494096\ttotal: 2.2s\tremaining: 4.46s\n",
      "33:\tlearn: 0.3440395\ttotal: 2.26s\tremaining: 4.39s\n",
      "34:\tlearn: 0.3408020\ttotal: 2.33s\tremaining: 4.33s\n",
      "35:\tlearn: 0.3389601\ttotal: 2.4s\tremaining: 4.27s\n",
      "36:\tlearn: 0.3367484\ttotal: 2.46s\tremaining: 4.2s\n",
      "37:\tlearn: 0.3337247\ttotal: 2.53s\tremaining: 4.13s\n",
      "38:\tlearn: 0.3316204\ttotal: 2.6s\tremaining: 4.06s\n",
      "39:\tlearn: 0.3292543\ttotal: 2.66s\tremaining: 3.99s\n",
      "40:\tlearn: 0.3271397\ttotal: 2.73s\tremaining: 3.92s\n",
      "41:\tlearn: 0.3246097\ttotal: 2.79s\tremaining: 3.86s\n",
      "42:\tlearn: 0.3228566\ttotal: 2.86s\tremaining: 3.79s\n",
      "43:\tlearn: 0.3215083\ttotal: 2.92s\tremaining: 3.72s\n",
      "44:\tlearn: 0.3197730\ttotal: 2.99s\tremaining: 3.65s\n",
      "45:\tlearn: 0.3182760\ttotal: 3.05s\tremaining: 3.58s\n",
      "46:\tlearn: 0.3157761\ttotal: 3.12s\tremaining: 3.52s\n",
      "47:\tlearn: 0.3138675\ttotal: 3.18s\tremaining: 3.44s\n",
      "48:\tlearn: 0.3116479\ttotal: 3.25s\tremaining: 3.38s\n",
      "49:\tlearn: 0.3101720\ttotal: 3.31s\tremaining: 3.31s\n",
      "50:\tlearn: 0.3077325\ttotal: 3.38s\tremaining: 3.24s\n",
      "51:\tlearn: 0.3058740\ttotal: 3.44s\tremaining: 3.18s\n",
      "52:\tlearn: 0.3023353\ttotal: 3.51s\tremaining: 3.11s\n",
      "53:\tlearn: 0.3000294\ttotal: 3.57s\tremaining: 3.04s\n",
      "54:\tlearn: 0.2979789\ttotal: 3.64s\tremaining: 2.98s\n",
      "55:\tlearn: 0.2962543\ttotal: 3.7s\tremaining: 2.91s\n",
      "56:\tlearn: 0.2942800\ttotal: 3.76s\tremaining: 2.84s\n",
      "57:\tlearn: 0.2927132\ttotal: 3.83s\tremaining: 2.77s\n",
      "58:\tlearn: 0.2913909\ttotal: 3.89s\tremaining: 2.71s\n",
      "59:\tlearn: 0.2903978\ttotal: 3.96s\tremaining: 2.64s\n",
      "60:\tlearn: 0.2876180\ttotal: 4.02s\tremaining: 2.57s\n",
      "61:\tlearn: 0.2863602\ttotal: 4.08s\tremaining: 2.5s\n",
      "62:\tlearn: 0.2846968\ttotal: 4.14s\tremaining: 2.43s\n",
      "63:\tlearn: 0.2834144\ttotal: 4.21s\tremaining: 2.37s\n",
      "64:\tlearn: 0.2823660\ttotal: 4.27s\tremaining: 2.3s\n",
      "65:\tlearn: 0.2810318\ttotal: 4.33s\tremaining: 2.23s\n",
      "66:\tlearn: 0.2797589\ttotal: 4.4s\tremaining: 2.17s\n",
      "67:\tlearn: 0.2783357\ttotal: 4.46s\tremaining: 2.1s\n",
      "68:\tlearn: 0.2759383\ttotal: 4.52s\tremaining: 2.03s\n",
      "69:\tlearn: 0.2743230\ttotal: 4.59s\tremaining: 1.97s\n",
      "70:\tlearn: 0.2717738\ttotal: 4.65s\tremaining: 1.9s\n",
      "71:\tlearn: 0.2700798\ttotal: 4.72s\tremaining: 1.83s\n",
      "72:\tlearn: 0.2687824\ttotal: 4.78s\tremaining: 1.77s\n",
      "73:\tlearn: 0.2679370\ttotal: 4.84s\tremaining: 1.7s\n",
      "74:\tlearn: 0.2667669\ttotal: 4.9s\tremaining: 1.63s\n",
      "75:\tlearn: 0.2660499\ttotal: 4.96s\tremaining: 1.57s\n",
      "76:\tlearn: 0.2651063\ttotal: 5.04s\tremaining: 1.5s\n",
      "77:\tlearn: 0.2640770\ttotal: 5.1s\tremaining: 1.44s\n",
      "78:\tlearn: 0.2632723\ttotal: 5.16s\tremaining: 1.37s\n",
      "79:\tlearn: 0.2623599\ttotal: 5.23s\tremaining: 1.31s\n",
      "80:\tlearn: 0.2612955\ttotal: 5.29s\tremaining: 1.24s\n",
      "81:\tlearn: 0.2606539\ttotal: 5.36s\tremaining: 1.18s\n",
      "82:\tlearn: 0.2595707\ttotal: 5.43s\tremaining: 1.11s\n",
      "83:\tlearn: 0.2569367\ttotal: 5.5s\tremaining: 1.05s\n",
      "84:\tlearn: 0.2556189\ttotal: 5.59s\tremaining: 987ms\n",
      "85:\tlearn: 0.2546702\ttotal: 5.67s\tremaining: 923ms\n",
      "86:\tlearn: 0.2537574\ttotal: 5.74s\tremaining: 858ms\n",
      "87:\tlearn: 0.2522690\ttotal: 5.81s\tremaining: 792ms\n",
      "88:\tlearn: 0.2513603\ttotal: 5.87s\tremaining: 726ms\n",
      "89:\tlearn: 0.2501600\ttotal: 5.94s\tremaining: 660ms\n",
      "90:\tlearn: 0.2480398\ttotal: 6.01s\tremaining: 595ms\n",
      "91:\tlearn: 0.2468934\ttotal: 6.08s\tremaining: 529ms\n",
      "92:\tlearn: 0.2459299\ttotal: 6.15s\tremaining: 463ms\n",
      "93:\tlearn: 0.2452330\ttotal: 6.21s\tremaining: 396ms\n",
      "94:\tlearn: 0.2443610\ttotal: 6.27s\tremaining: 330ms\n",
      "95:\tlearn: 0.2428456\ttotal: 6.34s\tremaining: 264ms\n",
      "96:\tlearn: 0.2421727\ttotal: 6.4s\tremaining: 198ms\n",
      "97:\tlearn: 0.2415698\ttotal: 6.46s\tremaining: 132ms\n",
      "98:\tlearn: 0.2405808\ttotal: 6.52s\tremaining: 65.9ms\n",
      "99:\tlearn: 0.2392242\ttotal: 6.59s\tremaining: 0us\n",
      "Fitting:  CatBoostClassifier finished. Elapsed time:  7 Seconds\n",
      "4/12 Fitting:  CatBoostClassifier SMOTE-clean started...\n",
      "0:\tlearn: 0.6620505\ttotal: 63.8ms\tremaining: 6.32s\n",
      "1:\tlearn: 0.6373648\ttotal: 125ms\tremaining: 6.14s\n",
      "2:\tlearn: 0.6204431\ttotal: 190ms\tremaining: 6.13s\n",
      "3:\tlearn: 0.6066648\ttotal: 250ms\tremaining: 5.99s\n",
      "4:\tlearn: 0.5959807\ttotal: 310ms\tremaining: 5.89s\n",
      "5:\tlearn: 0.5850227\ttotal: 371ms\tremaining: 5.81s\n",
      "6:\tlearn: 0.5746225\ttotal: 431ms\tremaining: 5.72s\n",
      "7:\tlearn: 0.5659563\ttotal: 491ms\tremaining: 5.65s\n",
      "8:\tlearn: 0.5586154\ttotal: 551ms\tremaining: 5.57s\n",
      "9:\tlearn: 0.5499519\ttotal: 610ms\tremaining: 5.49s\n",
      "10:\tlearn: 0.5435683\ttotal: 670ms\tremaining: 5.42s\n",
      "11:\tlearn: 0.5377725\ttotal: 729ms\tremaining: 5.34s\n",
      "12:\tlearn: 0.5327105\ttotal: 784ms\tremaining: 5.25s\n",
      "13:\tlearn: 0.5259944\ttotal: 843ms\tremaining: 5.18s\n",
      "14:\tlearn: 0.5196714\ttotal: 904ms\tremaining: 5.12s\n",
      "15:\tlearn: 0.5151100\ttotal: 960ms\tremaining: 5.04s\n",
      "16:\tlearn: 0.5100895\ttotal: 1.02s\tremaining: 4.97s\n",
      "17:\tlearn: 0.5044886\ttotal: 1.08s\tremaining: 4.91s\n",
      "18:\tlearn: 0.5005653\ttotal: 1.14s\tremaining: 4.84s\n",
      "19:\tlearn: 0.4954145\ttotal: 1.19s\tremaining: 4.78s\n",
      "20:\tlearn: 0.4911884\ttotal: 1.25s\tremaining: 4.72s\n",
      "21:\tlearn: 0.4861216\ttotal: 1.31s\tremaining: 4.65s\n",
      "22:\tlearn: 0.4812622\ttotal: 1.37s\tremaining: 4.6s\n",
      "23:\tlearn: 0.4768808\ttotal: 1.43s\tremaining: 4.52s\n",
      "24:\tlearn: 0.4726941\ttotal: 1.49s\tremaining: 4.46s\n",
      "25:\tlearn: 0.4695580\ttotal: 1.54s\tremaining: 4.39s\n",
      "26:\tlearn: 0.4668906\ttotal: 1.6s\tremaining: 4.33s\n",
      "27:\tlearn: 0.4640099\ttotal: 1.66s\tremaining: 4.27s\n",
      "28:\tlearn: 0.4605759\ttotal: 1.72s\tremaining: 4.22s\n",
      "29:\tlearn: 0.4580484\ttotal: 1.78s\tremaining: 4.16s\n",
      "30:\tlearn: 0.4544734\ttotal: 1.84s\tremaining: 4.1s\n",
      "31:\tlearn: 0.4522757\ttotal: 1.9s\tremaining: 4.04s\n",
      "32:\tlearn: 0.4490694\ttotal: 1.96s\tremaining: 3.98s\n",
      "33:\tlearn: 0.4459275\ttotal: 2.02s\tremaining: 3.92s\n",
      "34:\tlearn: 0.4419752\ttotal: 2.08s\tremaining: 3.86s\n",
      "35:\tlearn: 0.4397144\ttotal: 2.14s\tremaining: 3.8s\n",
      "36:\tlearn: 0.4368329\ttotal: 2.2s\tremaining: 3.74s\n",
      "37:\tlearn: 0.4348426\ttotal: 2.26s\tremaining: 3.68s\n",
      "38:\tlearn: 0.4309098\ttotal: 2.32s\tremaining: 3.62s\n",
      "39:\tlearn: 0.4285166\ttotal: 2.38s\tremaining: 3.57s\n",
      "40:\tlearn: 0.4253211\ttotal: 2.43s\tremaining: 3.5s\n",
      "41:\tlearn: 0.4230468\ttotal: 2.49s\tremaining: 3.44s\n",
      "42:\tlearn: 0.4198285\ttotal: 2.55s\tremaining: 3.38s\n",
      "43:\tlearn: 0.4174209\ttotal: 2.6s\tremaining: 3.32s\n",
      "44:\tlearn: 0.4156896\ttotal: 2.66s\tremaining: 3.25s\n",
      "45:\tlearn: 0.4134674\ttotal: 2.72s\tremaining: 3.19s\n",
      "46:\tlearn: 0.4118981\ttotal: 2.78s\tremaining: 3.14s\n",
      "47:\tlearn: 0.4100986\ttotal: 2.84s\tremaining: 3.08s\n",
      "48:\tlearn: 0.4083608\ttotal: 2.9s\tremaining: 3.02s\n",
      "49:\tlearn: 0.4063924\ttotal: 2.96s\tremaining: 2.96s\n",
      "50:\tlearn: 0.4044836\ttotal: 3.02s\tremaining: 2.9s\n",
      "51:\tlearn: 0.4029539\ttotal: 3.08s\tremaining: 2.84s\n",
      "52:\tlearn: 0.4012353\ttotal: 3.13s\tremaining: 2.78s\n",
      "53:\tlearn: 0.3992836\ttotal: 3.19s\tremaining: 2.72s\n",
      "54:\tlearn: 0.3974994\ttotal: 3.25s\tremaining: 2.66s\n",
      "55:\tlearn: 0.3962072\ttotal: 3.31s\tremaining: 2.6s\n",
      "56:\tlearn: 0.3945525\ttotal: 3.37s\tremaining: 2.54s\n",
      "57:\tlearn: 0.3932930\ttotal: 3.42s\tremaining: 2.48s\n",
      "58:\tlearn: 0.3910526\ttotal: 3.48s\tremaining: 2.42s\n",
      "59:\tlearn: 0.3890319\ttotal: 3.53s\tremaining: 2.35s\n",
      "60:\tlearn: 0.3879536\ttotal: 3.59s\tremaining: 2.29s\n",
      "61:\tlearn: 0.3865528\ttotal: 3.65s\tremaining: 2.23s\n",
      "62:\tlearn: 0.3849242\ttotal: 3.7s\tremaining: 2.17s\n",
      "63:\tlearn: 0.3825793\ttotal: 3.76s\tremaining: 2.11s\n",
      "64:\tlearn: 0.3813538\ttotal: 3.81s\tremaining: 2.05s\n",
      "65:\tlearn: 0.3797559\ttotal: 3.87s\tremaining: 1.99s\n",
      "66:\tlearn: 0.3779858\ttotal: 3.93s\tremaining: 1.93s\n",
      "67:\tlearn: 0.3769791\ttotal: 3.98s\tremaining: 1.87s\n",
      "68:\tlearn: 0.3747829\ttotal: 4.04s\tremaining: 1.81s\n",
      "69:\tlearn: 0.3728965\ttotal: 4.1s\tremaining: 1.76s\n",
      "70:\tlearn: 0.3712021\ttotal: 4.16s\tremaining: 1.7s\n",
      "71:\tlearn: 0.3702174\ttotal: 4.21s\tremaining: 1.64s\n",
      "72:\tlearn: 0.3691332\ttotal: 4.26s\tremaining: 1.58s\n",
      "73:\tlearn: 0.3680168\ttotal: 4.32s\tremaining: 1.52s\n",
      "74:\tlearn: 0.3670710\ttotal: 4.38s\tremaining: 1.46s\n",
      "75:\tlearn: 0.3648760\ttotal: 4.44s\tremaining: 1.4s\n",
      "76:\tlearn: 0.3639361\ttotal: 4.49s\tremaining: 1.34s\n",
      "77:\tlearn: 0.3630435\ttotal: 4.55s\tremaining: 1.28s\n",
      "78:\tlearn: 0.3616802\ttotal: 4.61s\tremaining: 1.22s\n",
      "79:\tlearn: 0.3607949\ttotal: 4.66s\tremaining: 1.17s\n",
      "80:\tlearn: 0.3596010\ttotal: 4.72s\tremaining: 1.11s\n",
      "81:\tlearn: 0.3581390\ttotal: 4.78s\tremaining: 1.05s\n",
      "82:\tlearn: 0.3571761\ttotal: 4.84s\tremaining: 992ms\n",
      "83:\tlearn: 0.3558797\ttotal: 4.9s\tremaining: 933ms\n",
      "84:\tlearn: 0.3549180\ttotal: 4.96s\tremaining: 875ms\n",
      "85:\tlearn: 0.3538305\ttotal: 5.02s\tremaining: 817ms\n",
      "86:\tlearn: 0.3526602\ttotal: 5.08s\tremaining: 759ms\n",
      "87:\tlearn: 0.3515257\ttotal: 5.13s\tremaining: 700ms\n",
      "88:\tlearn: 0.3503829\ttotal: 5.19s\tremaining: 641ms\n",
      "89:\tlearn: 0.3492856\ttotal: 5.25s\tremaining: 583ms\n",
      "90:\tlearn: 0.3480844\ttotal: 5.32s\tremaining: 526ms\n",
      "91:\tlearn: 0.3471365\ttotal: 5.38s\tremaining: 468ms\n",
      "92:\tlearn: 0.3456583\ttotal: 5.44s\tremaining: 410ms\n",
      "93:\tlearn: 0.3440908\ttotal: 5.5s\tremaining: 351ms\n",
      "94:\tlearn: 0.3428272\ttotal: 5.56s\tremaining: 293ms\n",
      "95:\tlearn: 0.3416340\ttotal: 5.62s\tremaining: 234ms\n",
      "96:\tlearn: 0.3406445\ttotal: 5.68s\tremaining: 176ms\n",
      "97:\tlearn: 0.3397005\ttotal: 5.74s\tremaining: 117ms\n",
      "98:\tlearn: 0.3380958\ttotal: 5.79s\tremaining: 58.5ms\n",
      "99:\tlearn: 0.3372126\ttotal: 5.85s\tremaining: 0us\n",
      "Fitting:  CatBoostClassifier finished. Elapsed time:  7 Seconds\n",
      "5/12 Fitting:  CatBoostClassifier BorderlineSMOTE-base started...\n",
      "0:\tlearn: 0.6517405\ttotal: 61.6ms\tremaining: 6.09s\n",
      "1:\tlearn: 0.6086279\ttotal: 121ms\tremaining: 5.91s\n",
      "2:\tlearn: 0.5758688\ttotal: 247ms\tremaining: 7.98s\n",
      "3:\tlearn: 0.5546384\ttotal: 391ms\tremaining: 9.39s\n",
      "4:\tlearn: 0.5357606\ttotal: 466ms\tremaining: 8.85s\n",
      "5:\tlearn: 0.5206448\ttotal: 530ms\tremaining: 8.31s\n",
      "6:\tlearn: 0.5060359\ttotal: 596ms\tremaining: 7.92s\n",
      "7:\tlearn: 0.4947540\ttotal: 658ms\tremaining: 7.56s\n",
      "8:\tlearn: 0.4789618\ttotal: 723ms\tremaining: 7.31s\n",
      "9:\tlearn: 0.4714823\ttotal: 783ms\tremaining: 7.04s\n",
      "10:\tlearn: 0.4625906\ttotal: 843ms\tremaining: 6.82s\n",
      "11:\tlearn: 0.4516027\ttotal: 905ms\tremaining: 6.64s\n",
      "12:\tlearn: 0.4438221\ttotal: 967ms\tremaining: 6.47s\n",
      "13:\tlearn: 0.4386206\ttotal: 1.03s\tremaining: 6.32s\n",
      "14:\tlearn: 0.4286375\ttotal: 1.09s\tremaining: 6.18s\n",
      "15:\tlearn: 0.4201577\ttotal: 1.15s\tremaining: 6.06s\n",
      "16:\tlearn: 0.4110652\ttotal: 1.22s\tremaining: 5.95s\n",
      "17:\tlearn: 0.4063137\ttotal: 1.28s\tremaining: 5.86s\n",
      "18:\tlearn: 0.4004844\ttotal: 1.35s\tremaining: 5.76s\n",
      "19:\tlearn: 0.3946481\ttotal: 1.41s\tremaining: 5.66s\n",
      "20:\tlearn: 0.3867270\ttotal: 1.48s\tremaining: 5.56s\n",
      "21:\tlearn: 0.3818050\ttotal: 1.54s\tremaining: 5.46s\n",
      "22:\tlearn: 0.3778759\ttotal: 1.6s\tremaining: 5.36s\n",
      "23:\tlearn: 0.3733517\ttotal: 1.67s\tremaining: 5.28s\n",
      "24:\tlearn: 0.3690204\ttotal: 1.73s\tremaining: 5.18s\n",
      "25:\tlearn: 0.3655270\ttotal: 1.78s\tremaining: 5.08s\n",
      "26:\tlearn: 0.3617175\ttotal: 1.84s\tremaining: 4.99s\n",
      "27:\tlearn: 0.3582219\ttotal: 1.91s\tremaining: 4.91s\n",
      "28:\tlearn: 0.3554726\ttotal: 1.97s\tremaining: 4.82s\n",
      "29:\tlearn: 0.3520289\ttotal: 2.03s\tremaining: 4.73s\n",
      "30:\tlearn: 0.3487035\ttotal: 2.09s\tremaining: 4.64s\n",
      "31:\tlearn: 0.3450357\ttotal: 2.15s\tremaining: 4.57s\n",
      "32:\tlearn: 0.3425302\ttotal: 2.21s\tremaining: 4.49s\n",
      "33:\tlearn: 0.3373932\ttotal: 2.28s\tremaining: 4.42s\n",
      "34:\tlearn: 0.3346609\ttotal: 2.34s\tremaining: 4.34s\n",
      "35:\tlearn: 0.3314455\ttotal: 2.4s\tremaining: 4.27s\n",
      "36:\tlearn: 0.3282436\ttotal: 2.46s\tremaining: 4.19s\n",
      "37:\tlearn: 0.3257157\ttotal: 2.52s\tremaining: 4.12s\n",
      "38:\tlearn: 0.3234731\ttotal: 2.59s\tremaining: 4.05s\n",
      "39:\tlearn: 0.3204542\ttotal: 2.65s\tremaining: 3.98s\n",
      "40:\tlearn: 0.3176171\ttotal: 2.72s\tremaining: 3.91s\n",
      "41:\tlearn: 0.3147834\ttotal: 2.77s\tremaining: 3.83s\n",
      "42:\tlearn: 0.3118910\ttotal: 2.83s\tremaining: 3.76s\n",
      "43:\tlearn: 0.3095307\ttotal: 2.9s\tremaining: 3.69s\n",
      "44:\tlearn: 0.3072554\ttotal: 2.96s\tremaining: 3.61s\n",
      "45:\tlearn: 0.3052957\ttotal: 3.01s\tremaining: 3.54s\n",
      "46:\tlearn: 0.3030679\ttotal: 3.07s\tremaining: 3.47s\n",
      "47:\tlearn: 0.3011005\ttotal: 3.14s\tremaining: 3.4s\n",
      "48:\tlearn: 0.2992560\ttotal: 3.2s\tremaining: 3.33s\n",
      "49:\tlearn: 0.2969946\ttotal: 3.26s\tremaining: 3.26s\n",
      "50:\tlearn: 0.2931500\ttotal: 3.32s\tremaining: 3.19s\n",
      "51:\tlearn: 0.2909625\ttotal: 3.38s\tremaining: 3.12s\n",
      "52:\tlearn: 0.2888543\ttotal: 3.44s\tremaining: 3.05s\n",
      "53:\tlearn: 0.2863000\ttotal: 3.5s\tremaining: 2.98s\n",
      "54:\tlearn: 0.2848662\ttotal: 3.56s\tremaining: 2.91s\n",
      "55:\tlearn: 0.2828735\ttotal: 3.62s\tremaining: 2.84s\n",
      "56:\tlearn: 0.2803128\ttotal: 3.68s\tremaining: 2.78s\n",
      "57:\tlearn: 0.2788056\ttotal: 3.75s\tremaining: 2.71s\n",
      "58:\tlearn: 0.2770971\ttotal: 3.83s\tremaining: 2.66s\n",
      "59:\tlearn: 0.2752115\ttotal: 3.89s\tremaining: 2.6s\n",
      "60:\tlearn: 0.2728788\ttotal: 3.96s\tremaining: 2.53s\n",
      "61:\tlearn: 0.2713166\ttotal: 4.01s\tremaining: 2.46s\n",
      "62:\tlearn: 0.2699381\ttotal: 4.07s\tremaining: 2.39s\n",
      "63:\tlearn: 0.2681616\ttotal: 4.13s\tremaining: 2.33s\n",
      "64:\tlearn: 0.2661513\ttotal: 4.19s\tremaining: 2.26s\n",
      "65:\tlearn: 0.2646711\ttotal: 4.25s\tremaining: 2.19s\n",
      "66:\tlearn: 0.2633042\ttotal: 4.31s\tremaining: 2.12s\n",
      "67:\tlearn: 0.2619412\ttotal: 4.37s\tremaining: 2.06s\n",
      "68:\tlearn: 0.2593371\ttotal: 4.43s\tremaining: 1.99s\n",
      "69:\tlearn: 0.2579512\ttotal: 4.49s\tremaining: 1.93s\n",
      "70:\tlearn: 0.2559626\ttotal: 4.56s\tremaining: 1.86s\n",
      "71:\tlearn: 0.2547645\ttotal: 4.62s\tremaining: 1.8s\n",
      "72:\tlearn: 0.2533440\ttotal: 4.68s\tremaining: 1.73s\n",
      "73:\tlearn: 0.2518419\ttotal: 4.75s\tremaining: 1.67s\n",
      "74:\tlearn: 0.2493269\ttotal: 4.81s\tremaining: 1.6s\n",
      "75:\tlearn: 0.2475620\ttotal: 4.87s\tremaining: 1.54s\n",
      "76:\tlearn: 0.2461487\ttotal: 4.93s\tremaining: 1.47s\n",
      "77:\tlearn: 0.2450303\ttotal: 4.99s\tremaining: 1.41s\n",
      "78:\tlearn: 0.2438293\ttotal: 5.05s\tremaining: 1.34s\n",
      "79:\tlearn: 0.2426375\ttotal: 5.11s\tremaining: 1.28s\n",
      "80:\tlearn: 0.2413050\ttotal: 5.18s\tremaining: 1.21s\n",
      "81:\tlearn: 0.2402394\ttotal: 5.24s\tremaining: 1.15s\n",
      "82:\tlearn: 0.2387915\ttotal: 5.3s\tremaining: 1.09s\n",
      "83:\tlearn: 0.2375317\ttotal: 5.36s\tremaining: 1.02s\n",
      "84:\tlearn: 0.2363641\ttotal: 5.43s\tremaining: 958ms\n",
      "85:\tlearn: 0.2352126\ttotal: 5.49s\tremaining: 893ms\n",
      "86:\tlearn: 0.2336707\ttotal: 5.55s\tremaining: 829ms\n",
      "87:\tlearn: 0.2323978\ttotal: 5.61s\tremaining: 765ms\n",
      "88:\tlearn: 0.2310541\ttotal: 5.67s\tremaining: 701ms\n",
      "89:\tlearn: 0.2301003\ttotal: 5.74s\tremaining: 638ms\n",
      "90:\tlearn: 0.2289911\ttotal: 5.8s\tremaining: 574ms\n",
      "91:\tlearn: 0.2277296\ttotal: 5.86s\tremaining: 510ms\n",
      "92:\tlearn: 0.2267020\ttotal: 5.92s\tremaining: 446ms\n",
      "93:\tlearn: 0.2257988\ttotal: 5.98s\tremaining: 382ms\n",
      "94:\tlearn: 0.2249040\ttotal: 6.04s\tremaining: 318ms\n",
      "95:\tlearn: 0.2237487\ttotal: 6.11s\tremaining: 254ms\n",
      "96:\tlearn: 0.2220059\ttotal: 6.17s\tremaining: 191ms\n",
      "97:\tlearn: 0.2207807\ttotal: 6.23s\tremaining: 127ms\n",
      "98:\tlearn: 0.2197649\ttotal: 6.29s\tremaining: 63.6ms\n",
      "99:\tlearn: 0.2189176\ttotal: 6.35s\tremaining: 0us\n",
      "Fitting:  CatBoostClassifier finished. Elapsed time:  7 Seconds\n",
      "6/12 Fitting:  CatBoostClassifier BorderlineSMOTE-clean started...\n",
      "0:\tlearn: 0.6612957\ttotal: 62.6ms\tremaining: 6.2s\n",
      "1:\tlearn: 0.6367453\ttotal: 119ms\tremaining: 5.83s\n",
      "2:\tlearn: 0.6170993\ttotal: 174ms\tremaining: 5.61s\n",
      "3:\tlearn: 0.6014181\ttotal: 228ms\tremaining: 5.47s\n",
      "4:\tlearn: 0.5915486\ttotal: 289ms\tremaining: 5.49s\n",
      "5:\tlearn: 0.5800374\ttotal: 352ms\tremaining: 5.52s\n",
      "6:\tlearn: 0.5715056\ttotal: 421ms\tremaining: 5.59s\n",
      "7:\tlearn: 0.5632845\ttotal: 481ms\tremaining: 5.53s\n",
      "8:\tlearn: 0.5563330\ttotal: 541ms\tremaining: 5.47s\n",
      "9:\tlearn: 0.5479495\ttotal: 603ms\tremaining: 5.42s\n",
      "10:\tlearn: 0.5392777\ttotal: 659ms\tremaining: 5.33s\n",
      "11:\tlearn: 0.5334085\ttotal: 719ms\tremaining: 5.27s\n",
      "12:\tlearn: 0.5281142\ttotal: 779ms\tremaining: 5.22s\n",
      "13:\tlearn: 0.5225790\ttotal: 838ms\tremaining: 5.14s\n",
      "14:\tlearn: 0.5178072\ttotal: 898ms\tremaining: 5.09s\n",
      "15:\tlearn: 0.5116397\ttotal: 958ms\tremaining: 5.03s\n",
      "16:\tlearn: 0.5052582\ttotal: 1.02s\tremaining: 4.97s\n",
      "17:\tlearn: 0.4997993\ttotal: 1.08s\tremaining: 4.9s\n",
      "18:\tlearn: 0.4948992\ttotal: 1.14s\tremaining: 4.84s\n",
      "19:\tlearn: 0.4893031\ttotal: 1.19s\tremaining: 4.76s\n",
      "20:\tlearn: 0.4850554\ttotal: 1.25s\tremaining: 4.7s\n",
      "21:\tlearn: 0.4819244\ttotal: 1.31s\tremaining: 4.63s\n",
      "22:\tlearn: 0.4776577\ttotal: 1.36s\tremaining: 4.57s\n",
      "23:\tlearn: 0.4742462\ttotal: 1.42s\tremaining: 4.5s\n",
      "24:\tlearn: 0.4714976\ttotal: 1.48s\tremaining: 4.43s\n",
      "25:\tlearn: 0.4666106\ttotal: 1.53s\tremaining: 4.37s\n",
      "26:\tlearn: 0.4636683\ttotal: 1.6s\tremaining: 4.32s\n",
      "27:\tlearn: 0.4602850\ttotal: 1.66s\tremaining: 4.26s\n",
      "28:\tlearn: 0.4574291\ttotal: 1.72s\tremaining: 4.21s\n",
      "29:\tlearn: 0.4548903\ttotal: 1.78s\tremaining: 4.15s\n",
      "30:\tlearn: 0.4524401\ttotal: 1.84s\tremaining: 4.09s\n",
      "31:\tlearn: 0.4496074\ttotal: 1.9s\tremaining: 4.03s\n",
      "32:\tlearn: 0.4459024\ttotal: 1.96s\tremaining: 3.98s\n",
      "33:\tlearn: 0.4429212\ttotal: 2.02s\tremaining: 3.92s\n",
      "34:\tlearn: 0.4403751\ttotal: 2.08s\tremaining: 3.86s\n",
      "35:\tlearn: 0.4374836\ttotal: 2.13s\tremaining: 3.79s\n",
      "36:\tlearn: 0.4349615\ttotal: 2.19s\tremaining: 3.73s\n",
      "37:\tlearn: 0.4328595\ttotal: 2.25s\tremaining: 3.67s\n",
      "38:\tlearn: 0.4307429\ttotal: 2.31s\tremaining: 3.61s\n",
      "39:\tlearn: 0.4288699\ttotal: 2.36s\tremaining: 3.54s\n",
      "40:\tlearn: 0.4265112\ttotal: 2.42s\tremaining: 3.48s\n",
      "41:\tlearn: 0.4238928\ttotal: 2.48s\tremaining: 3.42s\n",
      "42:\tlearn: 0.4213178\ttotal: 2.54s\tremaining: 3.36s\n",
      "43:\tlearn: 0.4189807\ttotal: 2.59s\tremaining: 3.3s\n",
      "44:\tlearn: 0.4170971\ttotal: 2.65s\tremaining: 3.23s\n",
      "45:\tlearn: 0.4148623\ttotal: 2.7s\tremaining: 3.17s\n",
      "46:\tlearn: 0.4131768\ttotal: 2.76s\tremaining: 3.11s\n",
      "47:\tlearn: 0.4117243\ttotal: 2.82s\tremaining: 3.05s\n",
      "48:\tlearn: 0.4100197\ttotal: 2.87s\tremaining: 2.99s\n",
      "49:\tlearn: 0.4083338\ttotal: 2.93s\tremaining: 2.93s\n",
      "50:\tlearn: 0.4057790\ttotal: 2.99s\tremaining: 2.87s\n",
      "51:\tlearn: 0.4036491\ttotal: 3.05s\tremaining: 2.82s\n",
      "52:\tlearn: 0.4017026\ttotal: 3.11s\tremaining: 2.76s\n",
      "53:\tlearn: 0.4002329\ttotal: 3.17s\tremaining: 2.7s\n",
      "54:\tlearn: 0.3991990\ttotal: 3.23s\tremaining: 2.64s\n",
      "55:\tlearn: 0.3975145\ttotal: 3.29s\tremaining: 2.58s\n",
      "56:\tlearn: 0.3961681\ttotal: 3.35s\tremaining: 2.53s\n",
      "57:\tlearn: 0.3933763\ttotal: 3.41s\tremaining: 2.47s\n",
      "58:\tlearn: 0.3910002\ttotal: 3.46s\tremaining: 2.41s\n",
      "59:\tlearn: 0.3895397\ttotal: 3.53s\tremaining: 2.35s\n",
      "60:\tlearn: 0.3882307\ttotal: 3.59s\tremaining: 2.29s\n",
      "61:\tlearn: 0.3870498\ttotal: 3.65s\tremaining: 2.23s\n",
      "62:\tlearn: 0.3853910\ttotal: 3.7s\tremaining: 2.17s\n",
      "63:\tlearn: 0.3825754\ttotal: 3.77s\tremaining: 2.12s\n",
      "64:\tlearn: 0.3812686\ttotal: 3.82s\tremaining: 2.06s\n",
      "65:\tlearn: 0.3801503\ttotal: 3.88s\tremaining: 2s\n",
      "66:\tlearn: 0.3785885\ttotal: 3.94s\tremaining: 1.94s\n",
      "67:\tlearn: 0.3770253\ttotal: 4s\tremaining: 1.88s\n",
      "68:\tlearn: 0.3757879\ttotal: 4.05s\tremaining: 1.82s\n",
      "69:\tlearn: 0.3746249\ttotal: 4.13s\tremaining: 1.77s\n",
      "70:\tlearn: 0.3731073\ttotal: 4.19s\tremaining: 1.71s\n",
      "71:\tlearn: 0.3715845\ttotal: 4.25s\tremaining: 1.65s\n",
      "72:\tlearn: 0.3699114\ttotal: 4.31s\tremaining: 1.59s\n",
      "73:\tlearn: 0.3684282\ttotal: 4.37s\tremaining: 1.54s\n",
      "74:\tlearn: 0.3672824\ttotal: 4.43s\tremaining: 1.48s\n",
      "75:\tlearn: 0.3661147\ttotal: 4.49s\tremaining: 1.42s\n",
      "76:\tlearn: 0.3642694\ttotal: 4.55s\tremaining: 1.36s\n",
      "77:\tlearn: 0.3629613\ttotal: 4.61s\tremaining: 1.3s\n",
      "78:\tlearn: 0.3615123\ttotal: 4.66s\tremaining: 1.24s\n",
      "79:\tlearn: 0.3601974\ttotal: 4.72s\tremaining: 1.18s\n",
      "80:\tlearn: 0.3587849\ttotal: 4.77s\tremaining: 1.12s\n",
      "81:\tlearn: 0.3576419\ttotal: 4.83s\tremaining: 1.06s\n",
      "82:\tlearn: 0.3566362\ttotal: 4.89s\tremaining: 1s\n",
      "83:\tlearn: 0.3552447\ttotal: 4.94s\tremaining: 941ms\n",
      "84:\tlearn: 0.3538594\ttotal: 5s\tremaining: 882ms\n",
      "85:\tlearn: 0.3520375\ttotal: 5.05s\tremaining: 823ms\n",
      "86:\tlearn: 0.3509316\ttotal: 5.11s\tremaining: 764ms\n",
      "87:\tlearn: 0.3498387\ttotal: 5.17s\tremaining: 704ms\n",
      "88:\tlearn: 0.3487082\ttotal: 5.22s\tremaining: 645ms\n",
      "89:\tlearn: 0.3475583\ttotal: 5.28s\tremaining: 587ms\n",
      "90:\tlearn: 0.3466827\ttotal: 5.34s\tremaining: 528ms\n",
      "91:\tlearn: 0.3455092\ttotal: 5.39s\tremaining: 469ms\n",
      "92:\tlearn: 0.3442711\ttotal: 5.45s\tremaining: 410ms\n",
      "93:\tlearn: 0.3433323\ttotal: 5.5s\tremaining: 351ms\n",
      "94:\tlearn: 0.3424578\ttotal: 5.56s\tremaining: 293ms\n",
      "95:\tlearn: 0.3415050\ttotal: 5.62s\tremaining: 234ms\n",
      "96:\tlearn: 0.3400227\ttotal: 5.67s\tremaining: 175ms\n",
      "97:\tlearn: 0.3390015\ttotal: 5.73s\tremaining: 117ms\n",
      "98:\tlearn: 0.3377105\ttotal: 5.79s\tremaining: 58.5ms\n",
      "99:\tlearn: 0.3369192\ttotal: 5.85s\tremaining: 0us\n",
      "Fitting:  CatBoostClassifier finished. Elapsed time:  7 Seconds\n",
      "7/12 Fitting:  CatBoostClassifier ADASYN-base started...\n",
      "0:\tlearn: 0.6521523\ttotal: 72.5ms\tremaining: 7.18s\n",
      "1:\tlearn: 0.6222640\ttotal: 134ms\tremaining: 6.54s\n",
      "2:\tlearn: 0.5963105\ttotal: 196ms\tremaining: 6.33s\n",
      "3:\tlearn: 0.5754330\ttotal: 265ms\tremaining: 6.36s\n",
      "4:\tlearn: 0.5538310\ttotal: 334ms\tremaining: 6.34s\n",
      "5:\tlearn: 0.5370093\ttotal: 399ms\tremaining: 6.25s\n",
      "6:\tlearn: 0.5186734\ttotal: 468ms\tremaining: 6.22s\n",
      "7:\tlearn: 0.5043066\ttotal: 535ms\tremaining: 6.16s\n",
      "8:\tlearn: 0.4934157\ttotal: 603ms\tremaining: 6.1s\n",
      "9:\tlearn: 0.4792593\ttotal: 669ms\tremaining: 6.02s\n",
      "10:\tlearn: 0.4657053\ttotal: 735ms\tremaining: 5.95s\n",
      "11:\tlearn: 0.4559749\ttotal: 800ms\tremaining: 5.87s\n",
      "12:\tlearn: 0.4494369\ttotal: 863ms\tremaining: 5.78s\n",
      "13:\tlearn: 0.4421641\ttotal: 928ms\tremaining: 5.7s\n",
      "14:\tlearn: 0.4337221\ttotal: 994ms\tremaining: 5.63s\n",
      "15:\tlearn: 0.4284725\ttotal: 1.06s\tremaining: 5.55s\n",
      "16:\tlearn: 0.4224459\ttotal: 1.12s\tremaining: 5.49s\n",
      "17:\tlearn: 0.4145902\ttotal: 1.19s\tremaining: 5.4s\n",
      "18:\tlearn: 0.4099863\ttotal: 1.25s\tremaining: 5.32s\n",
      "19:\tlearn: 0.4027196\ttotal: 1.31s\tremaining: 5.26s\n",
      "20:\tlearn: 0.3984282\ttotal: 1.37s\tremaining: 5.17s\n",
      "21:\tlearn: 0.3937564\ttotal: 1.44s\tremaining: 5.09s\n",
      "22:\tlearn: 0.3876366\ttotal: 1.5s\tremaining: 5.02s\n",
      "23:\tlearn: 0.3834781\ttotal: 1.56s\tremaining: 4.95s\n",
      "24:\tlearn: 0.3791537\ttotal: 1.63s\tremaining: 4.89s\n",
      "25:\tlearn: 0.3761776\ttotal: 1.7s\tremaining: 4.83s\n",
      "26:\tlearn: 0.3698588\ttotal: 1.76s\tremaining: 4.77s\n",
      "27:\tlearn: 0.3660476\ttotal: 1.83s\tremaining: 4.7s\n",
      "28:\tlearn: 0.3618087\ttotal: 1.89s\tremaining: 4.63s\n",
      "29:\tlearn: 0.3590032\ttotal: 1.96s\tremaining: 4.57s\n",
      "30:\tlearn: 0.3561691\ttotal: 2.02s\tremaining: 4.5s\n",
      "31:\tlearn: 0.3517937\ttotal: 2.09s\tremaining: 4.43s\n",
      "32:\tlearn: 0.3492976\ttotal: 2.15s\tremaining: 4.36s\n",
      "33:\tlearn: 0.3464110\ttotal: 2.21s\tremaining: 4.29s\n",
      "34:\tlearn: 0.3442016\ttotal: 2.27s\tremaining: 4.22s\n",
      "35:\tlearn: 0.3424806\ttotal: 2.33s\tremaining: 4.14s\n",
      "36:\tlearn: 0.3398062\ttotal: 2.39s\tremaining: 4.08s\n",
      "37:\tlearn: 0.3373175\ttotal: 2.46s\tremaining: 4.01s\n",
      "38:\tlearn: 0.3350242\ttotal: 2.52s\tremaining: 3.94s\n",
      "39:\tlearn: 0.3322048\ttotal: 2.58s\tremaining: 3.88s\n",
      "40:\tlearn: 0.3305347\ttotal: 2.65s\tremaining: 3.81s\n",
      "41:\tlearn: 0.3271803\ttotal: 2.71s\tremaining: 3.75s\n",
      "42:\tlearn: 0.3249787\ttotal: 2.77s\tremaining: 3.68s\n",
      "43:\tlearn: 0.3228271\ttotal: 2.83s\tremaining: 3.61s\n",
      "44:\tlearn: 0.3208642\ttotal: 2.9s\tremaining: 3.54s\n",
      "45:\tlearn: 0.3184838\ttotal: 2.96s\tremaining: 3.48s\n",
      "46:\tlearn: 0.3172455\ttotal: 3.02s\tremaining: 3.41s\n",
      "47:\tlearn: 0.3150506\ttotal: 3.08s\tremaining: 3.34s\n",
      "48:\tlearn: 0.3135269\ttotal: 3.15s\tremaining: 3.27s\n",
      "49:\tlearn: 0.3115263\ttotal: 3.21s\tremaining: 3.21s\n",
      "50:\tlearn: 0.3101063\ttotal: 3.27s\tremaining: 3.14s\n",
      "51:\tlearn: 0.3080425\ttotal: 3.33s\tremaining: 3.07s\n",
      "52:\tlearn: 0.3058484\ttotal: 3.39s\tremaining: 3.01s\n",
      "53:\tlearn: 0.3034279\ttotal: 3.46s\tremaining: 2.95s\n",
      "54:\tlearn: 0.3020278\ttotal: 3.52s\tremaining: 2.88s\n",
      "55:\tlearn: 0.3006790\ttotal: 3.58s\tremaining: 2.81s\n",
      "56:\tlearn: 0.2975630\ttotal: 3.64s\tremaining: 2.75s\n",
      "57:\tlearn: 0.2952084\ttotal: 3.71s\tremaining: 2.68s\n",
      "58:\tlearn: 0.2928115\ttotal: 3.77s\tremaining: 2.62s\n",
      "59:\tlearn: 0.2913543\ttotal: 3.83s\tremaining: 2.55s\n",
      "60:\tlearn: 0.2903597\ttotal: 3.89s\tremaining: 2.49s\n",
      "61:\tlearn: 0.2893002\ttotal: 3.96s\tremaining: 2.42s\n",
      "62:\tlearn: 0.2880718\ttotal: 4.02s\tremaining: 2.36s\n",
      "63:\tlearn: 0.2860458\ttotal: 4.08s\tremaining: 2.29s\n",
      "64:\tlearn: 0.2850613\ttotal: 4.14s\tremaining: 2.23s\n",
      "65:\tlearn: 0.2837553\ttotal: 4.21s\tremaining: 2.17s\n",
      "66:\tlearn: 0.2823651\ttotal: 4.26s\tremaining: 2.1s\n",
      "67:\tlearn: 0.2813114\ttotal: 4.32s\tremaining: 2.03s\n",
      "68:\tlearn: 0.2800131\ttotal: 4.38s\tremaining: 1.97s\n",
      "69:\tlearn: 0.2782097\ttotal: 4.45s\tremaining: 1.91s\n",
      "70:\tlearn: 0.2771080\ttotal: 4.51s\tremaining: 1.84s\n",
      "71:\tlearn: 0.2756333\ttotal: 4.57s\tremaining: 1.78s\n",
      "72:\tlearn: 0.2747775\ttotal: 4.63s\tremaining: 1.71s\n",
      "73:\tlearn: 0.2734549\ttotal: 4.7s\tremaining: 1.65s\n",
      "74:\tlearn: 0.2711876\ttotal: 4.76s\tremaining: 1.59s\n",
      "75:\tlearn: 0.2693654\ttotal: 4.82s\tremaining: 1.52s\n",
      "76:\tlearn: 0.2666715\ttotal: 4.88s\tremaining: 1.46s\n",
      "77:\tlearn: 0.2657188\ttotal: 4.95s\tremaining: 1.39s\n",
      "78:\tlearn: 0.2648783\ttotal: 5.01s\tremaining: 1.33s\n",
      "79:\tlearn: 0.2621745\ttotal: 5.07s\tremaining: 1.27s\n",
      "80:\tlearn: 0.2609605\ttotal: 5.13s\tremaining: 1.2s\n",
      "81:\tlearn: 0.2600245\ttotal: 5.19s\tremaining: 1.14s\n",
      "82:\tlearn: 0.2588374\ttotal: 5.26s\tremaining: 1.08s\n",
      "83:\tlearn: 0.2582201\ttotal: 5.32s\tremaining: 1.01s\n",
      "84:\tlearn: 0.2571092\ttotal: 5.38s\tremaining: 949ms\n",
      "85:\tlearn: 0.2563219\ttotal: 5.44s\tremaining: 886ms\n",
      "86:\tlearn: 0.2555566\ttotal: 5.5s\tremaining: 822ms\n",
      "87:\tlearn: 0.2547154\ttotal: 5.56s\tremaining: 758ms\n",
      "88:\tlearn: 0.2527608\ttotal: 5.62s\tremaining: 695ms\n",
      "89:\tlearn: 0.2517493\ttotal: 5.69s\tremaining: 632ms\n",
      "90:\tlearn: 0.2502989\ttotal: 5.75s\tremaining: 569ms\n",
      "91:\tlearn: 0.2493265\ttotal: 5.81s\tremaining: 505ms\n",
      "92:\tlearn: 0.2485468\ttotal: 5.87s\tremaining: 442ms\n",
      "93:\tlearn: 0.2474048\ttotal: 5.94s\tremaining: 379ms\n",
      "94:\tlearn: 0.2465022\ttotal: 6s\tremaining: 316ms\n",
      "95:\tlearn: 0.2456673\ttotal: 6.06s\tremaining: 252ms\n",
      "96:\tlearn: 0.2448411\ttotal: 6.12s\tremaining: 189ms\n",
      "97:\tlearn: 0.2441961\ttotal: 6.18s\tremaining: 126ms\n",
      "98:\tlearn: 0.2432024\ttotal: 6.24s\tremaining: 63ms\n",
      "99:\tlearn: 0.2407919\ttotal: 6.3s\tremaining: 0us\n",
      "Fitting:  CatBoostClassifier finished. Elapsed time:  7 Seconds\n",
      "8/12 Fitting:  CatBoostClassifier ADASYN-clean started...\n",
      "0:\tlearn: 0.6629456\ttotal: 64.6ms\tremaining: 6.4s\n",
      "1:\tlearn: 0.6388120\ttotal: 136ms\tremaining: 6.68s\n",
      "2:\tlearn: 0.6208355\ttotal: 192ms\tremaining: 6.22s\n",
      "3:\tlearn: 0.6058136\ttotal: 250ms\tremaining: 5.99s\n",
      "4:\tlearn: 0.5963541\ttotal: 311ms\tremaining: 5.92s\n",
      "5:\tlearn: 0.5853821\ttotal: 372ms\tremaining: 5.83s\n",
      "6:\tlearn: 0.5748768\ttotal: 431ms\tremaining: 5.72s\n",
      "7:\tlearn: 0.5644776\ttotal: 486ms\tremaining: 5.59s\n",
      "8:\tlearn: 0.5570582\ttotal: 544ms\tremaining: 5.5s\n",
      "9:\tlearn: 0.5479803\ttotal: 604ms\tremaining: 5.43s\n",
      "10:\tlearn: 0.5418583\ttotal: 662ms\tremaining: 5.36s\n",
      "11:\tlearn: 0.5361566\ttotal: 718ms\tremaining: 5.26s\n",
      "12:\tlearn: 0.5300616\ttotal: 776ms\tremaining: 5.19s\n",
      "13:\tlearn: 0.5251965\ttotal: 838ms\tremaining: 5.14s\n",
      "14:\tlearn: 0.5207265\ttotal: 893ms\tremaining: 5.06s\n",
      "15:\tlearn: 0.5157805\ttotal: 952ms\tremaining: 5s\n",
      "16:\tlearn: 0.5114862\ttotal: 1.01s\tremaining: 4.94s\n",
      "17:\tlearn: 0.5065094\ttotal: 1.07s\tremaining: 4.88s\n",
      "18:\tlearn: 0.5001487\ttotal: 1.13s\tremaining: 4.81s\n",
      "19:\tlearn: 0.4953420\ttotal: 1.18s\tremaining: 4.74s\n",
      "20:\tlearn: 0.4911930\ttotal: 1.24s\tremaining: 4.67s\n",
      "21:\tlearn: 0.4876933\ttotal: 1.3s\tremaining: 4.61s\n",
      "22:\tlearn: 0.4841419\ttotal: 1.36s\tremaining: 4.55s\n",
      "23:\tlearn: 0.4804277\ttotal: 1.41s\tremaining: 4.48s\n",
      "24:\tlearn: 0.4772543\ttotal: 1.47s\tremaining: 4.42s\n",
      "25:\tlearn: 0.4739142\ttotal: 1.53s\tremaining: 4.36s\n",
      "26:\tlearn: 0.4705445\ttotal: 1.59s\tremaining: 4.3s\n",
      "27:\tlearn: 0.4655045\ttotal: 1.65s\tremaining: 4.23s\n",
      "28:\tlearn: 0.4610771\ttotal: 1.7s\tremaining: 4.17s\n",
      "29:\tlearn: 0.4578142\ttotal: 1.76s\tremaining: 4.11s\n",
      "30:\tlearn: 0.4546825\ttotal: 1.82s\tremaining: 4.06s\n",
      "31:\tlearn: 0.4522059\ttotal: 1.88s\tremaining: 3.99s\n",
      "32:\tlearn: 0.4496069\ttotal: 1.94s\tremaining: 3.93s\n",
      "33:\tlearn: 0.4467152\ttotal: 2s\tremaining: 3.87s\n",
      "34:\tlearn: 0.4446075\ttotal: 2.05s\tremaining: 3.81s\n",
      "35:\tlearn: 0.4427624\ttotal: 2.11s\tremaining: 3.75s\n",
      "36:\tlearn: 0.4407048\ttotal: 2.16s\tremaining: 3.68s\n",
      "37:\tlearn: 0.4383958\ttotal: 2.22s\tremaining: 3.63s\n",
      "38:\tlearn: 0.4360872\ttotal: 2.28s\tremaining: 3.56s\n",
      "39:\tlearn: 0.4328704\ttotal: 2.33s\tremaining: 3.5s\n",
      "40:\tlearn: 0.4300999\ttotal: 2.39s\tremaining: 3.44s\n",
      "41:\tlearn: 0.4277025\ttotal: 2.45s\tremaining: 3.38s\n",
      "42:\tlearn: 0.4252122\ttotal: 2.52s\tremaining: 3.34s\n",
      "43:\tlearn: 0.4221618\ttotal: 2.59s\tremaining: 3.29s\n",
      "44:\tlearn: 0.4202116\ttotal: 2.65s\tremaining: 3.23s\n",
      "45:\tlearn: 0.4181599\ttotal: 2.71s\tremaining: 3.17s\n",
      "46:\tlearn: 0.4161393\ttotal: 2.76s\tremaining: 3.12s\n",
      "47:\tlearn: 0.4146244\ttotal: 2.82s\tremaining: 3.05s\n",
      "48:\tlearn: 0.4125501\ttotal: 2.87s\tremaining: 2.99s\n",
      "49:\tlearn: 0.4110456\ttotal: 2.93s\tremaining: 2.93s\n",
      "50:\tlearn: 0.4090565\ttotal: 2.99s\tremaining: 2.88s\n",
      "51:\tlearn: 0.4069516\ttotal: 3.05s\tremaining: 2.81s\n",
      "52:\tlearn: 0.4054705\ttotal: 3.1s\tremaining: 2.75s\n",
      "53:\tlearn: 0.4033256\ttotal: 3.17s\tremaining: 2.7s\n",
      "54:\tlearn: 0.4011355\ttotal: 3.22s\tremaining: 2.64s\n",
      "55:\tlearn: 0.3995677\ttotal: 3.28s\tremaining: 2.58s\n",
      "56:\tlearn: 0.3981081\ttotal: 3.33s\tremaining: 2.52s\n",
      "57:\tlearn: 0.3967584\ttotal: 3.39s\tremaining: 2.46s\n",
      "58:\tlearn: 0.3955029\ttotal: 3.45s\tremaining: 2.4s\n",
      "59:\tlearn: 0.3941802\ttotal: 3.51s\tremaining: 2.34s\n",
      "60:\tlearn: 0.3925428\ttotal: 3.56s\tremaining: 2.28s\n",
      "61:\tlearn: 0.3904490\ttotal: 3.63s\tremaining: 2.22s\n",
      "62:\tlearn: 0.3889517\ttotal: 3.69s\tremaining: 2.17s\n",
      "63:\tlearn: 0.3879864\ttotal: 3.74s\tremaining: 2.1s\n",
      "64:\tlearn: 0.3861101\ttotal: 3.8s\tremaining: 2.05s\n",
      "65:\tlearn: 0.3844609\ttotal: 3.86s\tremaining: 1.99s\n",
      "66:\tlearn: 0.3830918\ttotal: 3.92s\tremaining: 1.93s\n",
      "67:\tlearn: 0.3818746\ttotal: 3.98s\tremaining: 1.87s\n",
      "68:\tlearn: 0.3805366\ttotal: 4.03s\tremaining: 1.81s\n",
      "69:\tlearn: 0.3789749\ttotal: 4.09s\tremaining: 1.75s\n",
      "70:\tlearn: 0.3776672\ttotal: 4.15s\tremaining: 1.69s\n",
      "71:\tlearn: 0.3764700\ttotal: 4.2s\tremaining: 1.63s\n",
      "72:\tlearn: 0.3754159\ttotal: 4.26s\tremaining: 1.57s\n",
      "73:\tlearn: 0.3742279\ttotal: 4.32s\tremaining: 1.52s\n",
      "74:\tlearn: 0.3727087\ttotal: 4.38s\tremaining: 1.46s\n",
      "75:\tlearn: 0.3715981\ttotal: 4.43s\tremaining: 1.4s\n",
      "76:\tlearn: 0.3699502\ttotal: 4.49s\tremaining: 1.34s\n",
      "77:\tlearn: 0.3687247\ttotal: 4.54s\tremaining: 1.28s\n",
      "78:\tlearn: 0.3673079\ttotal: 4.6s\tremaining: 1.22s\n",
      "79:\tlearn: 0.3661492\ttotal: 4.66s\tremaining: 1.17s\n",
      "80:\tlearn: 0.3649170\ttotal: 4.72s\tremaining: 1.11s\n",
      "81:\tlearn: 0.3637446\ttotal: 4.78s\tremaining: 1.05s\n",
      "82:\tlearn: 0.3625949\ttotal: 4.83s\tremaining: 990ms\n",
      "83:\tlearn: 0.3609571\ttotal: 4.89s\tremaining: 931ms\n",
      "84:\tlearn: 0.3595706\ttotal: 4.95s\tremaining: 873ms\n",
      "85:\tlearn: 0.3584089\ttotal: 5.01s\tremaining: 815ms\n",
      "86:\tlearn: 0.3573170\ttotal: 5.06s\tremaining: 757ms\n",
      "87:\tlearn: 0.3558994\ttotal: 5.12s\tremaining: 698ms\n",
      "88:\tlearn: 0.3549891\ttotal: 5.17s\tremaining: 639ms\n",
      "89:\tlearn: 0.3531180\ttotal: 5.23s\tremaining: 581ms\n",
      "90:\tlearn: 0.3516399\ttotal: 5.29s\tremaining: 523ms\n",
      "91:\tlearn: 0.3507741\ttotal: 5.35s\tremaining: 465ms\n",
      "92:\tlearn: 0.3496059\ttotal: 5.4s\tremaining: 407ms\n",
      "93:\tlearn: 0.3483559\ttotal: 5.46s\tremaining: 349ms\n",
      "94:\tlearn: 0.3473905\ttotal: 5.52s\tremaining: 290ms\n",
      "95:\tlearn: 0.3463210\ttotal: 5.57s\tremaining: 232ms\n",
      "96:\tlearn: 0.3453355\ttotal: 5.63s\tremaining: 174ms\n",
      "97:\tlearn: 0.3443084\ttotal: 5.69s\tremaining: 116ms\n",
      "98:\tlearn: 0.3434014\ttotal: 5.75s\tremaining: 58.1ms\n",
      "99:\tlearn: 0.3426741\ttotal: 5.8s\tremaining: 0us\n",
      "Fitting:  CatBoostClassifier finished. Elapsed time:  6 Seconds\n",
      "9/12 Fitting:  CatBoostClassifier NearMiss-base started...\n",
      "0:\tlearn: 0.6201800\ttotal: 18.1ms\tremaining: 1.79s\n",
      "1:\tlearn: 0.5621352\ttotal: 34.1ms\tremaining: 1.67s\n",
      "2:\tlearn: 0.5175712\ttotal: 51.4ms\tremaining: 1.66s\n",
      "3:\tlearn: 0.4787788\ttotal: 69ms\tremaining: 1.66s\n",
      "4:\tlearn: 0.4466622\ttotal: 81.9ms\tremaining: 1.56s\n",
      "5:\tlearn: 0.4237574\ttotal: 92.5ms\tremaining: 1.45s\n",
      "6:\tlearn: 0.4002126\ttotal: 103ms\tremaining: 1.37s\n",
      "7:\tlearn: 0.3859271\ttotal: 114ms\tremaining: 1.31s\n",
      "8:\tlearn: 0.3755316\ttotal: 125ms\tremaining: 1.26s\n",
      "9:\tlearn: 0.3624506\ttotal: 135ms\tremaining: 1.22s\n",
      "10:\tlearn: 0.3549973\ttotal: 147ms\tremaining: 1.19s\n",
      "11:\tlearn: 0.3462632\ttotal: 158ms\tremaining: 1.16s\n",
      "12:\tlearn: 0.3406930\ttotal: 169ms\tremaining: 1.13s\n",
      "13:\tlearn: 0.3361241\ttotal: 180ms\tremaining: 1.1s\n",
      "14:\tlearn: 0.3315527\ttotal: 191ms\tremaining: 1.08s\n",
      "15:\tlearn: 0.3252603\ttotal: 200ms\tremaining: 1.05s\n",
      "16:\tlearn: 0.3203680\ttotal: 226ms\tremaining: 1.1s\n",
      "17:\tlearn: 0.3161737\ttotal: 236ms\tremaining: 1.07s\n",
      "18:\tlearn: 0.3139585\ttotal: 245ms\tremaining: 1.04s\n",
      "19:\tlearn: 0.3111671\ttotal: 256ms\tremaining: 1.02s\n",
      "20:\tlearn: 0.3085323\ttotal: 266ms\tremaining: 1s\n",
      "21:\tlearn: 0.3049299\ttotal: 277ms\tremaining: 982ms\n",
      "22:\tlearn: 0.3028549\ttotal: 288ms\tremaining: 963ms\n",
      "23:\tlearn: 0.3000384\ttotal: 297ms\tremaining: 941ms\n",
      "24:\tlearn: 0.2975850\ttotal: 308ms\tremaining: 925ms\n",
      "25:\tlearn: 0.2954911\ttotal: 320ms\tremaining: 909ms\n",
      "26:\tlearn: 0.2936133\ttotal: 330ms\tremaining: 893ms\n",
      "27:\tlearn: 0.2917648\ttotal: 342ms\tremaining: 879ms\n",
      "28:\tlearn: 0.2904496\ttotal: 354ms\tremaining: 867ms\n",
      "29:\tlearn: 0.2881205\ttotal: 365ms\tremaining: 853ms\n",
      "30:\tlearn: 0.2867541\ttotal: 376ms\tremaining: 838ms\n",
      "31:\tlearn: 0.2851570\ttotal: 388ms\tremaining: 824ms\n",
      "32:\tlearn: 0.2837030\ttotal: 399ms\tremaining: 810ms\n",
      "33:\tlearn: 0.2818495\ttotal: 411ms\tremaining: 797ms\n",
      "34:\tlearn: 0.2799157\ttotal: 422ms\tremaining: 784ms\n",
      "35:\tlearn: 0.2780409\ttotal: 433ms\tremaining: 770ms\n",
      "36:\tlearn: 0.2767891\ttotal: 444ms\tremaining: 756ms\n",
      "37:\tlearn: 0.2752551\ttotal: 455ms\tremaining: 742ms\n",
      "38:\tlearn: 0.2741002\ttotal: 466ms\tremaining: 729ms\n",
      "39:\tlearn: 0.2723959\ttotal: 478ms\tremaining: 717ms\n",
      "40:\tlearn: 0.2711328\ttotal: 488ms\tremaining: 703ms\n",
      "41:\tlearn: 0.2701067\ttotal: 498ms\tremaining: 688ms\n",
      "42:\tlearn: 0.2690771\ttotal: 510ms\tremaining: 675ms\n",
      "43:\tlearn: 0.2673382\ttotal: 522ms\tremaining: 664ms\n",
      "44:\tlearn: 0.2659095\ttotal: 533ms\tremaining: 651ms\n",
      "45:\tlearn: 0.2648566\ttotal: 544ms\tremaining: 639ms\n",
      "46:\tlearn: 0.2629583\ttotal: 555ms\tremaining: 626ms\n",
      "47:\tlearn: 0.2618749\ttotal: 566ms\tremaining: 614ms\n",
      "48:\tlearn: 0.2606663\ttotal: 577ms\tremaining: 601ms\n",
      "49:\tlearn: 0.2593228\ttotal: 587ms\tremaining: 587ms\n",
      "50:\tlearn: 0.2575318\ttotal: 597ms\tremaining: 574ms\n",
      "51:\tlearn: 0.2569033\ttotal: 608ms\tremaining: 561ms\n",
      "52:\tlearn: 0.2558556\ttotal: 618ms\tremaining: 548ms\n",
      "53:\tlearn: 0.2548590\ttotal: 629ms\tremaining: 536ms\n",
      "54:\tlearn: 0.2538364\ttotal: 639ms\tremaining: 523ms\n",
      "55:\tlearn: 0.2528270\ttotal: 649ms\tremaining: 510ms\n",
      "56:\tlearn: 0.2515835\ttotal: 659ms\tremaining: 497ms\n",
      "57:\tlearn: 0.2502901\ttotal: 669ms\tremaining: 485ms\n",
      "58:\tlearn: 0.2493246\ttotal: 679ms\tremaining: 472ms\n",
      "59:\tlearn: 0.2485708\ttotal: 689ms\tremaining: 459ms\n",
      "60:\tlearn: 0.2475178\ttotal: 699ms\tremaining: 447ms\n",
      "61:\tlearn: 0.2467419\ttotal: 709ms\tremaining: 434ms\n",
      "62:\tlearn: 0.2456449\ttotal: 719ms\tremaining: 422ms\n",
      "63:\tlearn: 0.2439532\ttotal: 729ms\tremaining: 410ms\n",
      "64:\tlearn: 0.2430344\ttotal: 740ms\tremaining: 398ms\n",
      "65:\tlearn: 0.2420127\ttotal: 751ms\tremaining: 387ms\n",
      "66:\tlearn: 0.2404527\ttotal: 762ms\tremaining: 375ms\n",
      "67:\tlearn: 0.2394831\ttotal: 772ms\tremaining: 363ms\n",
      "68:\tlearn: 0.2382578\ttotal: 783ms\tremaining: 352ms\n",
      "69:\tlearn: 0.2369613\ttotal: 794ms\tremaining: 340ms\n",
      "70:\tlearn: 0.2361304\ttotal: 805ms\tremaining: 329ms\n",
      "71:\tlearn: 0.2351453\ttotal: 816ms\tremaining: 317ms\n",
      "72:\tlearn: 0.2341578\ttotal: 826ms\tremaining: 306ms\n",
      "73:\tlearn: 0.2333639\ttotal: 836ms\tremaining: 294ms\n",
      "74:\tlearn: 0.2321066\ttotal: 846ms\tremaining: 282ms\n",
      "75:\tlearn: 0.2309343\ttotal: 856ms\tremaining: 270ms\n",
      "76:\tlearn: 0.2298360\ttotal: 866ms\tremaining: 259ms\n",
      "77:\tlearn: 0.2285968\ttotal: 876ms\tremaining: 247ms\n",
      "78:\tlearn: 0.2274890\ttotal: 887ms\tremaining: 236ms\n",
      "79:\tlearn: 0.2264116\ttotal: 897ms\tremaining: 224ms\n",
      "80:\tlearn: 0.2253611\ttotal: 907ms\tremaining: 213ms\n",
      "81:\tlearn: 0.2242582\ttotal: 917ms\tremaining: 201ms\n",
      "82:\tlearn: 0.2230976\ttotal: 928ms\tremaining: 190ms\n",
      "83:\tlearn: 0.2221387\ttotal: 938ms\tremaining: 179ms\n",
      "84:\tlearn: 0.2213052\ttotal: 949ms\tremaining: 167ms\n",
      "85:\tlearn: 0.2197383\ttotal: 959ms\tremaining: 156ms\n",
      "86:\tlearn: 0.2191112\ttotal: 970ms\tremaining: 145ms\n",
      "87:\tlearn: 0.2183081\ttotal: 980ms\tremaining: 134ms\n",
      "88:\tlearn: 0.2176903\ttotal: 990ms\tremaining: 122ms\n",
      "89:\tlearn: 0.2167303\ttotal: 1s\tremaining: 111ms\n",
      "90:\tlearn: 0.2161305\ttotal: 1.01s\tremaining: 100ms\n",
      "91:\tlearn: 0.2152369\ttotal: 1.02s\tremaining: 88.9ms\n",
      "92:\tlearn: 0.2144719\ttotal: 1.03s\tremaining: 77.7ms\n",
      "93:\tlearn: 0.2131721\ttotal: 1.04s\tremaining: 66.5ms\n",
      "94:\tlearn: 0.2118540\ttotal: 1.05s\tremaining: 55.4ms\n",
      "95:\tlearn: 0.2112626\ttotal: 1.06s\tremaining: 44.3ms\n",
      "96:\tlearn: 0.2094089\ttotal: 1.07s\tremaining: 33.1ms\n",
      "97:\tlearn: 0.2085075\ttotal: 1.08s\tremaining: 22.1ms\n",
      "98:\tlearn: 0.2079060\ttotal: 1.09s\tremaining: 11ms\n",
      "99:\tlearn: 0.2073403\ttotal: 1.1s\tremaining: 0us\n",
      "Fitting:  CatBoostClassifier finished. Elapsed time:  1 Seconds\n",
      "10/12 Fitting:  CatBoostClassifier NearMiss-clean started...\n",
      "0:\tlearn: 0.6586652\ttotal: 9.04ms\tremaining: 895ms\n",
      "1:\tlearn: 0.6313082\ttotal: 17.2ms\tremaining: 845ms\n",
      "2:\tlearn: 0.6086651\ttotal: 24.6ms\tremaining: 796ms\n",
      "3:\tlearn: 0.5898882\ttotal: 32ms\tremaining: 769ms\n",
      "4:\tlearn: 0.5765440\ttotal: 39.9ms\tremaining: 757ms\n",
      "5:\tlearn: 0.5622255\ttotal: 47.6ms\tremaining: 746ms\n",
      "6:\tlearn: 0.5532065\ttotal: 54.8ms\tremaining: 729ms\n",
      "7:\tlearn: 0.5433843\ttotal: 62.1ms\tremaining: 714ms\n",
      "8:\tlearn: 0.5331303\ttotal: 69.5ms\tremaining: 703ms\n",
      "9:\tlearn: 0.5273913\ttotal: 77.4ms\tremaining: 697ms\n",
      "10:\tlearn: 0.5202178\ttotal: 85.3ms\tremaining: 690ms\n",
      "11:\tlearn: 0.5171400\ttotal: 92.5ms\tremaining: 678ms\n",
      "12:\tlearn: 0.5116606\ttotal: 99.8ms\tremaining: 668ms\n",
      "13:\tlearn: 0.5078823\ttotal: 107ms\tremaining: 658ms\n",
      "14:\tlearn: 0.5013791\ttotal: 114ms\tremaining: 648ms\n",
      "15:\tlearn: 0.4994057\ttotal: 122ms\tremaining: 639ms\n",
      "16:\tlearn: 0.4941161\ttotal: 129ms\tremaining: 629ms\n",
      "17:\tlearn: 0.4907472\ttotal: 137ms\tremaining: 623ms\n",
      "18:\tlearn: 0.4864291\ttotal: 144ms\tremaining: 616ms\n",
      "19:\tlearn: 0.4838528\ttotal: 152ms\tremaining: 610ms\n",
      "20:\tlearn: 0.4820630\ttotal: 160ms\tremaining: 600ms\n",
      "21:\tlearn: 0.4793445\ttotal: 168ms\tremaining: 594ms\n",
      "22:\tlearn: 0.4771995\ttotal: 175ms\tremaining: 587ms\n",
      "23:\tlearn: 0.4754087\ttotal: 183ms\tremaining: 581ms\n",
      "24:\tlearn: 0.4722084\ttotal: 191ms\tremaining: 572ms\n",
      "25:\tlearn: 0.4713495\ttotal: 198ms\tremaining: 564ms\n",
      "26:\tlearn: 0.4686910\ttotal: 205ms\tremaining: 555ms\n",
      "27:\tlearn: 0.4674212\ttotal: 212ms\tremaining: 546ms\n",
      "28:\tlearn: 0.4652564\ttotal: 224ms\tremaining: 547ms\n",
      "29:\tlearn: 0.4634875\ttotal: 232ms\tremaining: 542ms\n",
      "30:\tlearn: 0.4621659\ttotal: 241ms\tremaining: 536ms\n",
      "31:\tlearn: 0.4600669\ttotal: 250ms\tremaining: 532ms\n",
      "32:\tlearn: 0.4589368\ttotal: 258ms\tremaining: 524ms\n",
      "33:\tlearn: 0.4577676\ttotal: 266ms\tremaining: 516ms\n",
      "34:\tlearn: 0.4563760\ttotal: 273ms\tremaining: 508ms\n",
      "35:\tlearn: 0.4549900\ttotal: 282ms\tremaining: 501ms\n",
      "36:\tlearn: 0.4536040\ttotal: 290ms\tremaining: 494ms\n",
      "37:\tlearn: 0.4527994\ttotal: 298ms\tremaining: 486ms\n",
      "38:\tlearn: 0.4508934\ttotal: 306ms\tremaining: 478ms\n",
      "39:\tlearn: 0.4497861\ttotal: 314ms\tremaining: 471ms\n",
      "40:\tlearn: 0.4484680\ttotal: 321ms\tremaining: 462ms\n",
      "41:\tlearn: 0.4469798\ttotal: 329ms\tremaining: 454ms\n",
      "42:\tlearn: 0.4451582\ttotal: 336ms\tremaining: 446ms\n",
      "43:\tlearn: 0.4437897\ttotal: 345ms\tremaining: 439ms\n",
      "44:\tlearn: 0.4427269\ttotal: 352ms\tremaining: 430ms\n",
      "45:\tlearn: 0.4416811\ttotal: 359ms\tremaining: 421ms\n",
      "46:\tlearn: 0.4407663\ttotal: 367ms\tremaining: 414ms\n",
      "47:\tlearn: 0.4397792\ttotal: 375ms\tremaining: 406ms\n",
      "48:\tlearn: 0.4390088\ttotal: 383ms\tremaining: 399ms\n",
      "49:\tlearn: 0.4384750\ttotal: 391ms\tremaining: 391ms\n",
      "50:\tlearn: 0.4366573\ttotal: 399ms\tremaining: 383ms\n",
      "51:\tlearn: 0.4359944\ttotal: 406ms\tremaining: 375ms\n",
      "52:\tlearn: 0.4350846\ttotal: 413ms\tremaining: 367ms\n",
      "53:\tlearn: 0.4337494\ttotal: 421ms\tremaining: 358ms\n",
      "54:\tlearn: 0.4330709\ttotal: 429ms\tremaining: 351ms\n",
      "55:\tlearn: 0.4321688\ttotal: 437ms\tremaining: 343ms\n",
      "56:\tlearn: 0.4312128\ttotal: 444ms\tremaining: 335ms\n",
      "57:\tlearn: 0.4303769\ttotal: 452ms\tremaining: 327ms\n",
      "58:\tlearn: 0.4292663\ttotal: 460ms\tremaining: 320ms\n",
      "59:\tlearn: 0.4281798\ttotal: 468ms\tremaining: 312ms\n",
      "60:\tlearn: 0.4277427\ttotal: 476ms\tremaining: 304ms\n",
      "61:\tlearn: 0.4263832\ttotal: 484ms\tremaining: 297ms\n",
      "62:\tlearn: 0.4252882\ttotal: 492ms\tremaining: 289ms\n",
      "63:\tlearn: 0.4239178\ttotal: 500ms\tremaining: 281ms\n",
      "64:\tlearn: 0.4230410\ttotal: 508ms\tremaining: 274ms\n",
      "65:\tlearn: 0.4219343\ttotal: 516ms\tremaining: 266ms\n",
      "66:\tlearn: 0.4209335\ttotal: 524ms\tremaining: 258ms\n",
      "67:\tlearn: 0.4199525\ttotal: 531ms\tremaining: 250ms\n",
      "68:\tlearn: 0.4188956\ttotal: 538ms\tremaining: 242ms\n",
      "69:\tlearn: 0.4180797\ttotal: 546ms\tremaining: 234ms\n",
      "70:\tlearn: 0.4169975\ttotal: 554ms\tremaining: 226ms\n",
      "71:\tlearn: 0.4161015\ttotal: 562ms\tremaining: 219ms\n",
      "72:\tlearn: 0.4152244\ttotal: 569ms\tremaining: 211ms\n",
      "73:\tlearn: 0.4140673\ttotal: 577ms\tremaining: 203ms\n",
      "74:\tlearn: 0.4131213\ttotal: 584ms\tremaining: 195ms\n",
      "75:\tlearn: 0.4113275\ttotal: 592ms\tremaining: 187ms\n",
      "76:\tlearn: 0.4102407\ttotal: 599ms\tremaining: 179ms\n",
      "77:\tlearn: 0.4088908\ttotal: 606ms\tremaining: 171ms\n",
      "78:\tlearn: 0.4080160\ttotal: 614ms\tremaining: 163ms\n",
      "79:\tlearn: 0.4066241\ttotal: 621ms\tremaining: 155ms\n",
      "80:\tlearn: 0.4054967\ttotal: 629ms\tremaining: 147ms\n",
      "81:\tlearn: 0.4044863\ttotal: 636ms\tremaining: 140ms\n",
      "82:\tlearn: 0.4032082\ttotal: 644ms\tremaining: 132ms\n",
      "83:\tlearn: 0.4021446\ttotal: 651ms\tremaining: 124ms\n",
      "84:\tlearn: 0.4009378\ttotal: 661ms\tremaining: 117ms\n",
      "85:\tlearn: 0.3997078\ttotal: 669ms\tremaining: 109ms\n",
      "86:\tlearn: 0.3985387\ttotal: 677ms\tremaining: 101ms\n",
      "87:\tlearn: 0.3975315\ttotal: 684ms\tremaining: 93.3ms\n",
      "88:\tlearn: 0.3964818\ttotal: 692ms\tremaining: 85.5ms\n",
      "89:\tlearn: 0.3956043\ttotal: 700ms\tremaining: 77.8ms\n",
      "90:\tlearn: 0.3944602\ttotal: 709ms\tremaining: 70.1ms\n",
      "91:\tlearn: 0.3933548\ttotal: 718ms\tremaining: 62.4ms\n",
      "92:\tlearn: 0.3923081\ttotal: 727ms\tremaining: 54.7ms\n",
      "93:\tlearn: 0.3913177\ttotal: 735ms\tremaining: 46.9ms\n",
      "94:\tlearn: 0.3904216\ttotal: 745ms\tremaining: 39.2ms\n",
      "95:\tlearn: 0.3896610\ttotal: 753ms\tremaining: 31.4ms\n",
      "96:\tlearn: 0.3887623\ttotal: 760ms\tremaining: 23.5ms\n",
      "97:\tlearn: 0.3867333\ttotal: 768ms\tremaining: 15.7ms\n",
      "98:\tlearn: 0.3859445\ttotal: 775ms\tremaining: 7.83ms\n",
      "99:\tlearn: 0.3852024\ttotal: 783ms\tremaining: 0us\n",
      "Fitting:  CatBoostClassifier finished. Elapsed time:  1 Seconds\n",
      "11/12 Fitting:  CatBoostClassifier TomekLink-base started...\n",
      "0:\tlearn: 0.5830031\ttotal: 36.6ms\tremaining: 3.62s\n",
      "1:\tlearn: 0.5022415\ttotal: 92.5ms\tremaining: 4.53s\n",
      "2:\tlearn: 0.4410917\ttotal: 130ms\tremaining: 4.22s\n",
      "3:\tlearn: 0.3932387\ttotal: 193ms\tremaining: 4.64s\n",
      "4:\tlearn: 0.3535893\ttotal: 232ms\tremaining: 4.41s\n",
      "5:\tlearn: 0.3256973\ttotal: 266ms\tremaining: 4.17s\n",
      "6:\tlearn: 0.2996773\ttotal: 302ms\tremaining: 4.02s\n",
      "7:\tlearn: 0.2826310\ttotal: 338ms\tremaining: 3.89s\n",
      "8:\tlearn: 0.2683961\ttotal: 375ms\tremaining: 3.79s\n",
      "9:\tlearn: 0.2560802\ttotal: 414ms\tremaining: 3.72s\n",
      "10:\tlearn: 0.2458147\ttotal: 449ms\tremaining: 3.63s\n",
      "11:\tlearn: 0.2383091\ttotal: 485ms\tremaining: 3.55s\n",
      "12:\tlearn: 0.2321472\ttotal: 520ms\tremaining: 3.48s\n",
      "13:\tlearn: 0.2274707\ttotal: 557ms\tremaining: 3.42s\n",
      "14:\tlearn: 0.2230348\ttotal: 595ms\tremaining: 3.37s\n",
      "15:\tlearn: 0.2191279\ttotal: 631ms\tremaining: 3.31s\n",
      "16:\tlearn: 0.2161864\ttotal: 666ms\tremaining: 3.25s\n",
      "17:\tlearn: 0.2137216\ttotal: 701ms\tremaining: 3.19s\n",
      "18:\tlearn: 0.2112609\ttotal: 739ms\tremaining: 3.15s\n",
      "19:\tlearn: 0.2091951\ttotal: 777ms\tremaining: 3.11s\n",
      "20:\tlearn: 0.2071766\ttotal: 815ms\tremaining: 3.06s\n",
      "21:\tlearn: 0.2052099\ttotal: 852ms\tremaining: 3.02s\n",
      "22:\tlearn: 0.2035455\ttotal: 887ms\tremaining: 2.97s\n",
      "23:\tlearn: 0.2022830\ttotal: 922ms\tremaining: 2.92s\n",
      "24:\tlearn: 0.2009383\ttotal: 958ms\tremaining: 2.88s\n",
      "25:\tlearn: 0.1999053\ttotal: 995ms\tremaining: 2.83s\n",
      "26:\tlearn: 0.1987433\ttotal: 1.03s\tremaining: 2.79s\n",
      "27:\tlearn: 0.1977404\ttotal: 1.07s\tremaining: 2.75s\n",
      "28:\tlearn: 0.1967301\ttotal: 1.1s\tremaining: 2.71s\n",
      "29:\tlearn: 0.1958655\ttotal: 1.14s\tremaining: 2.66s\n",
      "30:\tlearn: 0.1949074\ttotal: 1.18s\tremaining: 2.62s\n",
      "31:\tlearn: 0.1941335\ttotal: 1.21s\tremaining: 2.58s\n",
      "32:\tlearn: 0.1933583\ttotal: 1.25s\tremaining: 2.54s\n",
      "33:\tlearn: 0.1925363\ttotal: 1.29s\tremaining: 2.5s\n",
      "34:\tlearn: 0.1918216\ttotal: 1.32s\tremaining: 2.46s\n",
      "35:\tlearn: 0.1908334\ttotal: 1.36s\tremaining: 2.42s\n",
      "36:\tlearn: 0.1902080\ttotal: 1.39s\tremaining: 2.37s\n",
      "37:\tlearn: 0.1894813\ttotal: 1.43s\tremaining: 2.33s\n",
      "38:\tlearn: 0.1888028\ttotal: 1.47s\tremaining: 2.3s\n",
      "39:\tlearn: 0.1881858\ttotal: 1.51s\tremaining: 2.26s\n",
      "40:\tlearn: 0.1876281\ttotal: 1.54s\tremaining: 2.22s\n",
      "41:\tlearn: 0.1870302\ttotal: 1.58s\tremaining: 2.18s\n",
      "42:\tlearn: 0.1862945\ttotal: 1.62s\tremaining: 2.14s\n",
      "43:\tlearn: 0.1857669\ttotal: 1.65s\tremaining: 2.11s\n",
      "44:\tlearn: 0.1851642\ttotal: 1.69s\tremaining: 2.07s\n",
      "45:\tlearn: 0.1843301\ttotal: 1.73s\tremaining: 2.03s\n",
      "46:\tlearn: 0.1837732\ttotal: 1.77s\tremaining: 2s\n",
      "47:\tlearn: 0.1832873\ttotal: 1.81s\tremaining: 1.96s\n",
      "48:\tlearn: 0.1827616\ttotal: 1.85s\tremaining: 1.92s\n",
      "49:\tlearn: 0.1822107\ttotal: 1.89s\tremaining: 1.89s\n",
      "50:\tlearn: 0.1817424\ttotal: 1.92s\tremaining: 1.85s\n",
      "51:\tlearn: 0.1813040\ttotal: 1.96s\tremaining: 1.81s\n",
      "52:\tlearn: 0.1808547\ttotal: 2s\tremaining: 1.77s\n",
      "53:\tlearn: 0.1804004\ttotal: 2.04s\tremaining: 1.74s\n",
      "54:\tlearn: 0.1799553\ttotal: 2.08s\tremaining: 1.7s\n",
      "55:\tlearn: 0.1794190\ttotal: 2.12s\tremaining: 1.66s\n",
      "56:\tlearn: 0.1789362\ttotal: 2.15s\tremaining: 1.62s\n",
      "57:\tlearn: 0.1784248\ttotal: 2.19s\tremaining: 1.58s\n",
      "58:\tlearn: 0.1779141\ttotal: 2.23s\tremaining: 1.55s\n",
      "59:\tlearn: 0.1774789\ttotal: 2.26s\tremaining: 1.51s\n",
      "60:\tlearn: 0.1770261\ttotal: 2.3s\tremaining: 1.47s\n",
      "61:\tlearn: 0.1766174\ttotal: 2.33s\tremaining: 1.43s\n",
      "62:\tlearn: 0.1762873\ttotal: 2.37s\tremaining: 1.39s\n",
      "63:\tlearn: 0.1759271\ttotal: 2.41s\tremaining: 1.35s\n",
      "64:\tlearn: 0.1755327\ttotal: 2.44s\tremaining: 1.31s\n",
      "65:\tlearn: 0.1751966\ttotal: 2.48s\tremaining: 1.28s\n",
      "66:\tlearn: 0.1748688\ttotal: 2.51s\tremaining: 1.24s\n",
      "67:\tlearn: 0.1744716\ttotal: 2.55s\tremaining: 1.2s\n",
      "68:\tlearn: 0.1741119\ttotal: 2.59s\tremaining: 1.16s\n",
      "69:\tlearn: 0.1738007\ttotal: 2.62s\tremaining: 1.12s\n",
      "70:\tlearn: 0.1734169\ttotal: 2.66s\tremaining: 1.09s\n",
      "71:\tlearn: 0.1730848\ttotal: 2.7s\tremaining: 1.05s\n",
      "72:\tlearn: 0.1728254\ttotal: 2.73s\tremaining: 1.01s\n",
      "73:\tlearn: 0.1725454\ttotal: 2.77s\tremaining: 974ms\n",
      "74:\tlearn: 0.1721168\ttotal: 2.81s\tremaining: 936ms\n",
      "75:\tlearn: 0.1717323\ttotal: 2.85s\tremaining: 899ms\n",
      "76:\tlearn: 0.1714912\ttotal: 2.88s\tremaining: 861ms\n",
      "77:\tlearn: 0.1711835\ttotal: 2.92s\tremaining: 824ms\n",
      "78:\tlearn: 0.1709123\ttotal: 2.96s\tremaining: 786ms\n",
      "79:\tlearn: 0.1705640\ttotal: 3s\tremaining: 749ms\n",
      "80:\tlearn: 0.1701513\ttotal: 3.03s\tremaining: 712ms\n",
      "81:\tlearn: 0.1699145\ttotal: 3.07s\tremaining: 675ms\n",
      "82:\tlearn: 0.1695892\ttotal: 3.11s\tremaining: 638ms\n",
      "83:\tlearn: 0.1693138\ttotal: 3.15s\tremaining: 601ms\n",
      "84:\tlearn: 0.1690084\ttotal: 3.19s\tremaining: 563ms\n",
      "85:\tlearn: 0.1686722\ttotal: 3.23s\tremaining: 526ms\n",
      "86:\tlearn: 0.1683673\ttotal: 3.26s\tremaining: 488ms\n",
      "87:\tlearn: 0.1679753\ttotal: 3.3s\tremaining: 450ms\n",
      "88:\tlearn: 0.1675900\ttotal: 3.33s\tremaining: 412ms\n",
      "89:\tlearn: 0.1671659\ttotal: 3.37s\tremaining: 375ms\n",
      "90:\tlearn: 0.1668810\ttotal: 3.41s\tremaining: 337ms\n",
      "91:\tlearn: 0.1665682\ttotal: 3.44s\tremaining: 299ms\n",
      "92:\tlearn: 0.1662488\ttotal: 3.48s\tremaining: 262ms\n",
      "93:\tlearn: 0.1659495\ttotal: 3.52s\tremaining: 225ms\n",
      "94:\tlearn: 0.1656538\ttotal: 3.56s\tremaining: 187ms\n",
      "95:\tlearn: 0.1653733\ttotal: 3.6s\tremaining: 150ms\n",
      "96:\tlearn: 0.1650836\ttotal: 3.63s\tremaining: 112ms\n",
      "97:\tlearn: 0.1647567\ttotal: 3.67s\tremaining: 74.9ms\n",
      "98:\tlearn: 0.1643686\ttotal: 3.71s\tremaining: 37.5ms\n",
      "99:\tlearn: 0.1641013\ttotal: 3.75s\tremaining: 0us\n",
      "Fitting:  CatBoostClassifier finished. Elapsed time:  4 Seconds\n",
      "12/12 Fitting:  CatBoostClassifier TomekLink-clean started...\n",
      "0:\tlearn: 0.5830031\ttotal: 41.7ms\tremaining: 4.13s\n",
      "1:\tlearn: 0.5022415\ttotal: 78.3ms\tremaining: 3.83s\n",
      "2:\tlearn: 0.4410917\ttotal: 115ms\tremaining: 3.73s\n",
      "3:\tlearn: 0.3932387\ttotal: 154ms\tremaining: 3.69s\n",
      "4:\tlearn: 0.3535893\ttotal: 191ms\tremaining: 3.63s\n",
      "5:\tlearn: 0.3256973\ttotal: 227ms\tremaining: 3.55s\n",
      "6:\tlearn: 0.2996773\ttotal: 263ms\tremaining: 3.5s\n",
      "7:\tlearn: 0.2826310\ttotal: 300ms\tremaining: 3.44s\n",
      "8:\tlearn: 0.2683961\ttotal: 336ms\tremaining: 3.4s\n",
      "9:\tlearn: 0.2560802\ttotal: 374ms\tremaining: 3.37s\n",
      "10:\tlearn: 0.2458147\ttotal: 410ms\tremaining: 3.32s\n",
      "11:\tlearn: 0.2383091\ttotal: 446ms\tremaining: 3.27s\n",
      "12:\tlearn: 0.2321472\ttotal: 482ms\tremaining: 3.22s\n",
      "13:\tlearn: 0.2274707\ttotal: 518ms\tremaining: 3.18s\n",
      "14:\tlearn: 0.2230348\ttotal: 555ms\tremaining: 3.14s\n",
      "15:\tlearn: 0.2191279\ttotal: 593ms\tremaining: 3.12s\n",
      "16:\tlearn: 0.2161864\ttotal: 631ms\tremaining: 3.08s\n",
      "17:\tlearn: 0.2137216\ttotal: 670ms\tremaining: 3.05s\n",
      "18:\tlearn: 0.2112609\ttotal: 709ms\tremaining: 3.02s\n",
      "19:\tlearn: 0.2091951\ttotal: 747ms\tremaining: 2.99s\n",
      "20:\tlearn: 0.2071766\ttotal: 786ms\tremaining: 2.96s\n",
      "21:\tlearn: 0.2052099\ttotal: 826ms\tremaining: 2.93s\n",
      "22:\tlearn: 0.2035455\ttotal: 865ms\tremaining: 2.9s\n",
      "23:\tlearn: 0.2022830\ttotal: 904ms\tremaining: 2.86s\n",
      "24:\tlearn: 0.2009383\ttotal: 941ms\tremaining: 2.82s\n",
      "25:\tlearn: 0.1999053\ttotal: 980ms\tremaining: 2.79s\n",
      "26:\tlearn: 0.1987433\ttotal: 1.02s\tremaining: 2.75s\n",
      "27:\tlearn: 0.1977404\ttotal: 1.05s\tremaining: 2.71s\n",
      "28:\tlearn: 0.1967301\ttotal: 1.09s\tremaining: 2.67s\n",
      "29:\tlearn: 0.1958655\ttotal: 1.13s\tremaining: 2.63s\n",
      "30:\tlearn: 0.1949074\ttotal: 1.16s\tremaining: 2.59s\n",
      "31:\tlearn: 0.1941335\ttotal: 1.2s\tremaining: 2.55s\n",
      "32:\tlearn: 0.1933583\ttotal: 1.24s\tremaining: 2.52s\n",
      "33:\tlearn: 0.1925363\ttotal: 1.28s\tremaining: 2.48s\n",
      "34:\tlearn: 0.1918216\ttotal: 1.31s\tremaining: 2.44s\n",
      "35:\tlearn: 0.1908334\ttotal: 1.35s\tremaining: 2.41s\n",
      "36:\tlearn: 0.1902080\ttotal: 1.39s\tremaining: 2.37s\n",
      "37:\tlearn: 0.1894813\ttotal: 1.43s\tremaining: 2.33s\n",
      "38:\tlearn: 0.1888028\ttotal: 1.47s\tremaining: 2.29s\n",
      "39:\tlearn: 0.1881858\ttotal: 1.5s\tremaining: 2.25s\n",
      "40:\tlearn: 0.1876281\ttotal: 1.54s\tremaining: 2.22s\n",
      "41:\tlearn: 0.1870302\ttotal: 1.58s\tremaining: 2.18s\n",
      "42:\tlearn: 0.1862945\ttotal: 1.62s\tremaining: 2.15s\n",
      "43:\tlearn: 0.1857669\ttotal: 1.66s\tremaining: 2.11s\n",
      "44:\tlearn: 0.1851642\ttotal: 1.69s\tremaining: 2.07s\n",
      "45:\tlearn: 0.1843301\ttotal: 1.73s\tremaining: 2.03s\n",
      "46:\tlearn: 0.1837732\ttotal: 1.77s\tremaining: 1.99s\n",
      "47:\tlearn: 0.1832873\ttotal: 1.8s\tremaining: 1.95s\n",
      "48:\tlearn: 0.1827616\ttotal: 1.84s\tremaining: 1.92s\n",
      "49:\tlearn: 0.1822107\ttotal: 1.88s\tremaining: 1.88s\n",
      "50:\tlearn: 0.1817424\ttotal: 1.92s\tremaining: 1.84s\n",
      "51:\tlearn: 0.1813040\ttotal: 1.95s\tremaining: 1.8s\n",
      "52:\tlearn: 0.1808547\ttotal: 1.99s\tremaining: 1.77s\n",
      "53:\tlearn: 0.1804004\ttotal: 2.03s\tremaining: 1.73s\n",
      "54:\tlearn: 0.1799553\ttotal: 2.07s\tremaining: 1.69s\n",
      "55:\tlearn: 0.1794190\ttotal: 2.11s\tremaining: 1.66s\n",
      "56:\tlearn: 0.1789362\ttotal: 2.14s\tremaining: 1.62s\n",
      "57:\tlearn: 0.1784248\ttotal: 2.18s\tremaining: 1.58s\n",
      "58:\tlearn: 0.1779141\ttotal: 2.22s\tremaining: 1.54s\n",
      "59:\tlearn: 0.1774789\ttotal: 2.26s\tremaining: 1.5s\n",
      "60:\tlearn: 0.1770261\ttotal: 2.29s\tremaining: 1.47s\n",
      "61:\tlearn: 0.1766174\ttotal: 2.33s\tremaining: 1.43s\n",
      "62:\tlearn: 0.1762873\ttotal: 2.37s\tremaining: 1.39s\n",
      "63:\tlearn: 0.1759271\ttotal: 2.41s\tremaining: 1.35s\n",
      "64:\tlearn: 0.1755327\ttotal: 2.45s\tremaining: 1.32s\n",
      "65:\tlearn: 0.1751966\ttotal: 2.48s\tremaining: 1.28s\n",
      "66:\tlearn: 0.1748688\ttotal: 2.52s\tremaining: 1.24s\n",
      "67:\tlearn: 0.1744716\ttotal: 2.56s\tremaining: 1.2s\n",
      "68:\tlearn: 0.1741119\ttotal: 2.6s\tremaining: 1.17s\n",
      "69:\tlearn: 0.1738007\ttotal: 2.63s\tremaining: 1.13s\n",
      "70:\tlearn: 0.1734169\ttotal: 2.67s\tremaining: 1.09s\n",
      "71:\tlearn: 0.1730848\ttotal: 2.71s\tremaining: 1.05s\n",
      "72:\tlearn: 0.1728254\ttotal: 2.74s\tremaining: 1.01s\n",
      "73:\tlearn: 0.1725454\ttotal: 2.78s\tremaining: 978ms\n",
      "74:\tlearn: 0.1721168\ttotal: 2.82s\tremaining: 941ms\n",
      "75:\tlearn: 0.1717323\ttotal: 2.86s\tremaining: 904ms\n",
      "76:\tlearn: 0.1714912\ttotal: 2.9s\tremaining: 866ms\n",
      "77:\tlearn: 0.1711835\ttotal: 2.94s\tremaining: 828ms\n",
      "78:\tlearn: 0.1709123\ttotal: 2.97s\tremaining: 790ms\n",
      "79:\tlearn: 0.1705640\ttotal: 3.01s\tremaining: 752ms\n",
      "80:\tlearn: 0.1701513\ttotal: 3.05s\tremaining: 715ms\n",
      "81:\tlearn: 0.1699145\ttotal: 3.09s\tremaining: 677ms\n",
      "82:\tlearn: 0.1695892\ttotal: 3.12s\tremaining: 639ms\n",
      "83:\tlearn: 0.1693138\ttotal: 3.16s\tremaining: 602ms\n",
      "84:\tlearn: 0.1690084\ttotal: 3.2s\tremaining: 564ms\n",
      "85:\tlearn: 0.1686722\ttotal: 3.24s\tremaining: 527ms\n",
      "86:\tlearn: 0.1683673\ttotal: 3.27s\tremaining: 489ms\n",
      "87:\tlearn: 0.1679753\ttotal: 3.31s\tremaining: 452ms\n",
      "88:\tlearn: 0.1675900\ttotal: 3.35s\tremaining: 414ms\n",
      "89:\tlearn: 0.1671659\ttotal: 3.39s\tremaining: 376ms\n",
      "90:\tlearn: 0.1668810\ttotal: 3.42s\tremaining: 338ms\n",
      "91:\tlearn: 0.1665682\ttotal: 3.46s\tremaining: 301ms\n",
      "92:\tlearn: 0.1662488\ttotal: 3.5s\tremaining: 263ms\n",
      "93:\tlearn: 0.1659495\ttotal: 3.53s\tremaining: 226ms\n",
      "94:\tlearn: 0.1656538\ttotal: 3.57s\tremaining: 188ms\n",
      "95:\tlearn: 0.1653733\ttotal: 3.61s\tremaining: 150ms\n",
      "96:\tlearn: 0.1650836\ttotal: 3.65s\tremaining: 113ms\n",
      "97:\tlearn: 0.1647567\ttotal: 3.69s\tremaining: 75.3ms\n",
      "98:\tlearn: 0.1643686\ttotal: 3.73s\tremaining: 37.6ms\n",
      "99:\tlearn: 0.1641013\ttotal: 3.76s\tremaining: 0us\n",
      "Fitting:  CatBoostClassifier finished. Elapsed time:  4 Seconds\n",
      "Model fitting finished.\n"
     ]
    }
   ],
   "source": [
    "fit_model(cat, \"CatBoostClassifier\")"
   ],
   "metadata": {
    "collapsed": false,
    "ExecuteTime": {
     "end_time": "2024-11-14T19:12:46.602506Z",
     "start_time": "2024-11-14T19:11:45.649214100Z"
    }
   }
  },
  {
   "cell_type": "code",
   "execution_count": 71,
   "outputs": [
    {
     "data": {
      "text/plain": "                 model                variant  train_acc  train_prec  \\\n26  CatBoostClassifier                   base   0.946834    0.914439   \n36  CatBoostClassifier         TomekLink base   0.948834    0.916914   \n37  CatBoostClassifier        TomekLink clean   0.948834    0.916914   \n27  CatBoostClassifier                  clean   0.948693    0.920489   \n30  CatBoostClassifier   BorderlineSMOTE base   0.954600    0.967687   \n32  CatBoostClassifier            ADASYN base   0.930778    0.959423   \n28  CatBoostClassifier             SMOTE base   0.931705    0.959699   \n29  CatBoostClassifier            SMOTE clean   0.888450    0.936014   \n31  CatBoostClassifier  BorderlineSMOTE clean   0.888698    0.935025   \n33  CatBoostClassifier           ADASYN clean   0.884437    0.935400   \n34  CatBoostClassifier          NearMiss base   0.915307    0.913100   \n35  CatBoostClassifier         NearMiss clean   0.827692    0.819534   \n\n    train_rec  train_f1  test_acc  test_prec  test_rec   test_f1  \n26   0.242725  0.383623  0.945705   0.901961  0.228477  0.364597  \n36   0.243691  0.385047  0.945389   0.835821  0.206262  0.330871  \n37   0.243691  0.385047  0.945389   0.835821  0.206262  0.330871  \n27   0.237382  0.377429  0.945027   0.832061  0.200737  0.323442  \n30   0.940608  0.953956  0.933965   0.517958  0.453642  0.483672  \n32   0.898125  0.927762  0.930579   0.490401  0.465232  0.477485  \n28   0.901256  0.929560  0.928434   0.475248  0.476821  0.476033  \n29   0.833905  0.882014  0.912236   0.386781  0.581952  0.464706  \n31   0.835453  0.882439  0.911513   0.383961  0.581952  0.462665  \n33   0.829706  0.879389  0.909946   0.379147  0.589319  0.461428  \n34   0.999290  0.954253  0.085111   0.069057  0.995033  0.129150  \n35   0.999211  0.900498  0.121037   0.068653  0.988950  0.128392  ",
      "text/html": "<div>\n<style scoped>\n    .dataframe tbody tr th:only-of-type {\n        vertical-align: middle;\n    }\n\n    .dataframe tbody tr th {\n        vertical-align: top;\n    }\n\n    .dataframe thead th {\n        text-align: right;\n    }\n</style>\n<table border=\"1\" class=\"dataframe\">\n  <thead>\n    <tr style=\"text-align: right;\">\n      <th></th>\n      <th>model</th>\n      <th>variant</th>\n      <th>train_acc</th>\n      <th>train_prec</th>\n      <th>train_rec</th>\n      <th>train_f1</th>\n      <th>test_acc</th>\n      <th>test_prec</th>\n      <th>test_rec</th>\n      <th>test_f1</th>\n    </tr>\n  </thead>\n  <tbody>\n    <tr>\n      <th>26</th>\n      <td>CatBoostClassifier</td>\n      <td>base</td>\n      <td>0.946834</td>\n      <td>0.914439</td>\n      <td>0.242725</td>\n      <td>0.383623</td>\n      <td>0.945705</td>\n      <td>0.901961</td>\n      <td>0.228477</td>\n      <td>0.364597</td>\n    </tr>\n    <tr>\n      <th>36</th>\n      <td>CatBoostClassifier</td>\n      <td>TomekLink base</td>\n      <td>0.948834</td>\n      <td>0.916914</td>\n      <td>0.243691</td>\n      <td>0.385047</td>\n      <td>0.945389</td>\n      <td>0.835821</td>\n      <td>0.206262</td>\n      <td>0.330871</td>\n    </tr>\n    <tr>\n      <th>37</th>\n      <td>CatBoostClassifier</td>\n      <td>TomekLink clean</td>\n      <td>0.948834</td>\n      <td>0.916914</td>\n      <td>0.243691</td>\n      <td>0.385047</td>\n      <td>0.945389</td>\n      <td>0.835821</td>\n      <td>0.206262</td>\n      <td>0.330871</td>\n    </tr>\n    <tr>\n      <th>27</th>\n      <td>CatBoostClassifier</td>\n      <td>clean</td>\n      <td>0.948693</td>\n      <td>0.920489</td>\n      <td>0.237382</td>\n      <td>0.377429</td>\n      <td>0.945027</td>\n      <td>0.832061</td>\n      <td>0.200737</td>\n      <td>0.323442</td>\n    </tr>\n    <tr>\n      <th>30</th>\n      <td>CatBoostClassifier</td>\n      <td>BorderlineSMOTE base</td>\n      <td>0.954600</td>\n      <td>0.967687</td>\n      <td>0.940608</td>\n      <td>0.953956</td>\n      <td>0.933965</td>\n      <td>0.517958</td>\n      <td>0.453642</td>\n      <td>0.483672</td>\n    </tr>\n    <tr>\n      <th>32</th>\n      <td>CatBoostClassifier</td>\n      <td>ADASYN base</td>\n      <td>0.930778</td>\n      <td>0.959423</td>\n      <td>0.898125</td>\n      <td>0.927762</td>\n      <td>0.930579</td>\n      <td>0.490401</td>\n      <td>0.465232</td>\n      <td>0.477485</td>\n    </tr>\n    <tr>\n      <th>28</th>\n      <td>CatBoostClassifier</td>\n      <td>SMOTE base</td>\n      <td>0.931705</td>\n      <td>0.959699</td>\n      <td>0.901256</td>\n      <td>0.929560</td>\n      <td>0.928434</td>\n      <td>0.475248</td>\n      <td>0.476821</td>\n      <td>0.476033</td>\n    </tr>\n    <tr>\n      <th>29</th>\n      <td>CatBoostClassifier</td>\n      <td>SMOTE clean</td>\n      <td>0.888450</td>\n      <td>0.936014</td>\n      <td>0.833905</td>\n      <td>0.882014</td>\n      <td>0.912236</td>\n      <td>0.386781</td>\n      <td>0.581952</td>\n      <td>0.464706</td>\n    </tr>\n    <tr>\n      <th>31</th>\n      <td>CatBoostClassifier</td>\n      <td>BorderlineSMOTE clean</td>\n      <td>0.888698</td>\n      <td>0.935025</td>\n      <td>0.835453</td>\n      <td>0.882439</td>\n      <td>0.911513</td>\n      <td>0.383961</td>\n      <td>0.581952</td>\n      <td>0.462665</td>\n    </tr>\n    <tr>\n      <th>33</th>\n      <td>CatBoostClassifier</td>\n      <td>ADASYN clean</td>\n      <td>0.884437</td>\n      <td>0.935400</td>\n      <td>0.829706</td>\n      <td>0.879389</td>\n      <td>0.909946</td>\n      <td>0.379147</td>\n      <td>0.589319</td>\n      <td>0.461428</td>\n    </tr>\n    <tr>\n      <th>34</th>\n      <td>CatBoostClassifier</td>\n      <td>NearMiss base</td>\n      <td>0.915307</td>\n      <td>0.913100</td>\n      <td>0.999290</td>\n      <td>0.954253</td>\n      <td>0.085111</td>\n      <td>0.069057</td>\n      <td>0.995033</td>\n      <td>0.129150</td>\n    </tr>\n    <tr>\n      <th>35</th>\n      <td>CatBoostClassifier</td>\n      <td>NearMiss clean</td>\n      <td>0.827692</td>\n      <td>0.819534</td>\n      <td>0.999211</td>\n      <td>0.900498</td>\n      <td>0.121037</td>\n      <td>0.068653</td>\n      <td>0.988950</td>\n      <td>0.128392</td>\n    </tr>\n  </tbody>\n</table>\n</div>"
     },
     "execution_count": 71,
     "metadata": {},
     "output_type": "execute_result"
    }
   ],
   "source": [
    "evaluation[evaluation.model == \"CatBoostClassifier\"].sort_values(by=[\"test_prec\"], ascending=False)"
   ],
   "metadata": {
    "collapsed": false,
    "ExecuteTime": {
     "end_time": "2024-11-14T19:12:46.680631700Z",
     "start_time": "2024-11-14T19:12:46.564729100Z"
    }
   }
  },
  {
   "cell_type": "markdown",
   "source": [
    "##### 2.2.1 LGBMClassifier"
   ],
   "metadata": {
    "collapsed": false
   }
  },
  {
   "cell_type": "code",
   "execution_count": 72,
   "outputs": [],
   "source": [
    "light = LGBMClassifier()"
   ],
   "metadata": {
    "collapsed": false,
    "ExecuteTime": {
     "end_time": "2024-11-14T19:12:46.687148400Z",
     "start_time": "2024-11-14T19:12:46.602506Z"
    }
   }
  },
  {
   "cell_type": "code",
   "execution_count": 73,
   "outputs": [
    {
     "name": "stdout",
     "output_type": "stream",
     "text": [
      "Starting model fitting.\n",
      "1/12 Fitting:  LGBMClassifier BASE started...\n",
      "[LightGBM] [Info] Number of positive: 1409, number of negative: 19262\n",
      "[LightGBM] [Info] Auto-choosing col-wise multi-threading, the overhead of testing was 0.037400 seconds.\n",
      "You can set `force_col_wise=true` to remove the overhead.\n",
      "[LightGBM] [Info] Total Bins 45936\n",
      "[LightGBM] [Info] Number of data points in the train set: 20671, number of used features: 1379\n",
      "[LightGBM] [Info] [binary:BoostFromScore]: pavg=0.068163 -> initscore=-2.615254\n",
      "[LightGBM] [Info] Start training from score -2.615254\n",
      "Fitting:  LGBMClassifier finished. Elapsed time:  2 Seconds\n",
      "2/12 Fitting:  LGBMClassifier CLEAN started...\n",
      "[LightGBM] [Info] Number of positive: 1268, number of negative: 18086\n",
      "[LightGBM] [Info] Auto-choosing col-wise multi-threading, the overhead of testing was 0.032250 seconds.\n",
      "You can set `force_col_wise=true` to remove the overhead.\n",
      "[LightGBM] [Info] Total Bins 33446\n",
      "[LightGBM] [Info] Number of data points in the train set: 19354, number of used features: 1211\n",
      "[LightGBM] [Info] [binary:BoostFromScore]: pavg=0.065516 -> initscore=-2.657697\n",
      "[LightGBM] [Info] Start training from score -2.657697\n",
      "Fitting:  LGBMClassifier finished. Elapsed time:  4 Seconds\n",
      "3/12 Fitting:  LGBMClassifier SMOTE-base started...\n",
      "[LightGBM] [Info] Number of positive: 19262, number of negative: 19262\n",
      "[LightGBM] [Info] Auto-choosing row-wise multi-threading, the overhead of testing was 0.126735 seconds.\n",
      "You can set `force_row_wise=true` to remove the overhead.\n",
      "And if memory is not enough, you can set `force_col_wise=true`.\n",
      "[LightGBM] [Info] Total Bins 108534\n",
      "[LightGBM] [Info] Number of data points in the train set: 38524, number of used features: 2607\n",
      "[LightGBM] [Info] [binary:BoostFromScore]: pavg=0.500000 -> initscore=0.000000\n",
      "Fitting:  LGBMClassifier finished. Elapsed time:  5 Seconds\n",
      "4/12 Fitting:  LGBMClassifier SMOTE-clean started...\n",
      "[LightGBM] [Info] Number of positive: 18086, number of negative: 18086\n",
      "[LightGBM] [Info] Auto-choosing col-wise multi-threading, the overhead of testing was 0.106023 seconds.\n",
      "You can set `force_col_wise=true` to remove the overhead.\n",
      "[LightGBM] [Info] Total Bins 84114\n",
      "[LightGBM] [Info] Number of data points in the train set: 36172, number of used features: 2315\n",
      "[LightGBM] [Info] [binary:BoostFromScore]: pavg=0.500000 -> initscore=0.000000\n",
      "Fitting:  LGBMClassifier finished. Elapsed time:  3 Seconds\n",
      "5/12 Fitting:  LGBMClassifier BorderlineSMOTE-base started...\n",
      "[LightGBM] [Info] Number of positive: 19262, number of negative: 19262\n",
      "[LightGBM] [Info] Auto-choosing col-wise multi-threading, the overhead of testing was 0.094123 seconds.\n",
      "You can set `force_col_wise=true` to remove the overhead.\n",
      "[LightGBM] [Info] Total Bins 100892\n",
      "[LightGBM] [Info] Number of data points in the train set: 38524, number of used features: 1994\n",
      "[LightGBM] [Info] [binary:BoostFromScore]: pavg=0.500000 -> initscore=0.000000\n",
      "Fitting:  LGBMClassifier finished. Elapsed time:  3 Seconds\n",
      "6/12 Fitting:  LGBMClassifier BorderlineSMOTE-clean started...\n",
      "[LightGBM] [Info] Number of positive: 18086, number of negative: 18086\n",
      "[LightGBM] [Info] Auto-choosing row-wise multi-threading, the overhead of testing was 0.101823 seconds.\n",
      "You can set `force_row_wise=true` to remove the overhead.\n",
      "And if memory is not enough, you can set `force_col_wise=true`.\n",
      "[LightGBM] [Info] Total Bins 84879\n",
      "[LightGBM] [Info] Number of data points in the train set: 36172, number of used features: 2346\n",
      "[LightGBM] [Info] [binary:BoostFromScore]: pavg=0.500000 -> initscore=0.000000\n",
      "Fitting:  LGBMClassifier finished. Elapsed time:  2 Seconds\n",
      "7/12 Fitting:  LGBMClassifier ADASYN-base started...\n",
      "[LightGBM] [Info] Number of positive: 18876, number of negative: 19262\n",
      "[LightGBM] [Info] Auto-choosing row-wise multi-threading, the overhead of testing was 0.313862 seconds.\n",
      "You can set `force_row_wise=true` to remove the overhead.\n",
      "And if memory is not enough, you can set `force_col_wise=true`.\n",
      "[LightGBM] [Info] Total Bins 108702\n",
      "[LightGBM] [Info] Number of data points in the train set: 38138, number of used features: 2635\n",
      "[LightGBM] [Info] [binary:BoostFromScore]: pavg=0.494939 -> initscore=-0.020243\n",
      "[LightGBM] [Info] Start training from score -0.020243\n",
      "Fitting:  LGBMClassifier finished. Elapsed time:  9 Seconds\n",
      "8/12 Fitting:  LGBMClassifier ADASYN-clean started...\n",
      "[LightGBM] [Info] Number of positive: 18656, number of negative: 18086\n",
      "[LightGBM] [Info] Auto-choosing col-wise multi-threading, the overhead of testing was 0.102992 seconds.\n",
      "You can set `force_col_wise=true` to remove the overhead.\n",
      "[LightGBM] [Info] Total Bins 86827\n",
      "[LightGBM] [Info] Number of data points in the train set: 36742, number of used features: 2395\n",
      "[LightGBM] [Info] [binary:BoostFromScore]: pavg=0.507757 -> initscore=0.031030\n",
      "[LightGBM] [Info] Start training from score 0.031030\n",
      "Fitting:  LGBMClassifier finished. Elapsed time:  3 Seconds\n",
      "9/12 Fitting:  LGBMClassifier NearMiss-base started...\n",
      "[LightGBM] [Info] Number of positive: 1409, number of negative: 185\n",
      "[LightGBM] [Info] Auto-choosing row-wise multi-threading, the overhead of testing was 0.001072 seconds.\n",
      "You can set `force_row_wise=true` to remove the overhead.\n",
      "And if memory is not enough, you can set `force_col_wise=true`.\n",
      "[LightGBM] [Info] Total Bins 2935\n",
      "[LightGBM] [Info] Number of data points in the train set: 1594, number of used features: 126\n",
      "[LightGBM] [Info] [binary:BoostFromScore]: pavg=0.883940 -> initscore=2.030280\n",
      "[LightGBM] [Info] Start training from score 2.030280\n",
      "Fitting:  LGBMClassifier finished. Elapsed time:  0 Seconds\n",
      "10/12 Fitting:  LGBMClassifier NearMiss-clean started...\n",
      "[LightGBM] [Info] Number of positive: 1268, number of negative: 357\n",
      "[LightGBM] [Info] Auto-choosing row-wise multi-threading, the overhead of testing was 0.000572 seconds.\n",
      "You can set `force_row_wise=true` to remove the overhead.\n",
      "And if memory is not enough, you can set `force_col_wise=true`.\n",
      "[LightGBM] [Info] Total Bins 867\n",
      "[LightGBM] [Info] Number of data points in the train set: 1625, number of used features: 61\n",
      "[LightGBM] [Info] [binary:BoostFromScore]: pavg=0.780308 -> initscore=1.267460\n",
      "[LightGBM] [Info] Start training from score 1.267460\n",
      "[LightGBM] [Warning] No further splits with positive gain, best gain: -inf\n",
      "[LightGBM] [Warning] No further splits with positive gain, best gain: -inf\n",
      "[LightGBM] [Warning] No further splits with positive gain, best gain: -inf\n",
      "[LightGBM] [Warning] No further splits with positive gain, best gain: -inf\n",
      "[LightGBM] [Warning] No further splits with positive gain, best gain: -inf\n",
      "[LightGBM] [Warning] No further splits with positive gain, best gain: -inf\n",
      "[LightGBM] [Warning] No further splits with positive gain, best gain: -inf\n",
      "[LightGBM] [Warning] No further splits with positive gain, best gain: -inf\n",
      "[LightGBM] [Warning] No further splits with positive gain, best gain: -inf\n",
      "[LightGBM] [Warning] No further splits with positive gain, best gain: -inf\n",
      "[LightGBM] [Warning] No further splits with positive gain, best gain: -inf\n",
      "[LightGBM] [Warning] No further splits with positive gain, best gain: -inf\n",
      "[LightGBM] [Warning] No further splits with positive gain, best gain: -inf\n",
      "[LightGBM] [Warning] No further splits with positive gain, best gain: -inf\n",
      "[LightGBM] [Warning] No further splits with positive gain, best gain: -inf\n",
      "[LightGBM] [Warning] No further splits with positive gain, best gain: -inf\n",
      "[LightGBM] [Warning] No further splits with positive gain, best gain: -inf\n",
      "[LightGBM] [Warning] No further splits with positive gain, best gain: -inf\n",
      "[LightGBM] [Warning] No further splits with positive gain, best gain: -inf\n",
      "[LightGBM] [Warning] No further splits with positive gain, best gain: -inf\n",
      "[LightGBM] [Warning] No further splits with positive gain, best gain: -inf\n",
      "[LightGBM] [Warning] No further splits with positive gain, best gain: -inf\n",
      "[LightGBM] [Warning] No further splits with positive gain, best gain: -inf\n",
      "[LightGBM] [Warning] No further splits with positive gain, best gain: -inf\n",
      "[LightGBM] [Warning] No further splits with positive gain, best gain: -inf\n",
      "[LightGBM] [Warning] No further splits with positive gain, best gain: -inf\n",
      "[LightGBM] [Warning] No further splits with positive gain, best gain: -inf\n",
      "[LightGBM] [Warning] No further splits with positive gain, best gain: -inf\n",
      "[LightGBM] [Warning] No further splits with positive gain, best gain: -inf\n",
      "[LightGBM] [Warning] No further splits with positive gain, best gain: -inf\n",
      "[LightGBM] [Warning] No further splits with positive gain, best gain: -inf\n",
      "[LightGBM] [Warning] No further splits with positive gain, best gain: -inf\n",
      "[LightGBM] [Warning] No further splits with positive gain, best gain: -inf\n",
      "[LightGBM] [Warning] No further splits with positive gain, best gain: -inf\n",
      "[LightGBM] [Warning] No further splits with positive gain, best gain: -inf\n",
      "[LightGBM] [Warning] No further splits with positive gain, best gain: -inf\n",
      "[LightGBM] [Warning] No further splits with positive gain, best gain: -inf\n",
      "[LightGBM] [Warning] No further splits with positive gain, best gain: -inf\n",
      "[LightGBM] [Warning] No further splits with positive gain, best gain: -inf\n",
      "[LightGBM] [Warning] No further splits with positive gain, best gain: -inf\n",
      "[LightGBM] [Warning] No further splits with positive gain, best gain: -inf\n",
      "[LightGBM] [Warning] No further splits with positive gain, best gain: -inf\n",
      "[LightGBM] [Warning] No further splits with positive gain, best gain: -inf\n",
      "[LightGBM] [Warning] No further splits with positive gain, best gain: -inf\n",
      "[LightGBM] [Warning] No further splits with positive gain, best gain: -inf\n",
      "[LightGBM] [Warning] No further splits with positive gain, best gain: -inf\n",
      "[LightGBM] [Warning] No further splits with positive gain, best gain: -inf\n",
      "[LightGBM] [Warning] No further splits with positive gain, best gain: -inf\n",
      "[LightGBM] [Warning] No further splits with positive gain, best gain: -inf\n",
      "[LightGBM] [Warning] No further splits with positive gain, best gain: -inf\n",
      "[LightGBM] [Warning] No further splits with positive gain, best gain: -inf\n",
      "[LightGBM] [Warning] No further splits with positive gain, best gain: -inf\n",
      "[LightGBM] [Warning] No further splits with positive gain, best gain: -inf\n",
      "[LightGBM] [Warning] No further splits with positive gain, best gain: -inf\n",
      "[LightGBM] [Warning] No further splits with positive gain, best gain: -inf\n",
      "[LightGBM] [Warning] No further splits with positive gain, best gain: -inf\n",
      "[LightGBM] [Warning] No further splits with positive gain, best gain: -inf\n",
      "[LightGBM] [Warning] No further splits with positive gain, best gain: -inf\n",
      "[LightGBM] [Warning] No further splits with positive gain, best gain: -inf\n",
      "[LightGBM] [Warning] No further splits with positive gain, best gain: -inf\n",
      "[LightGBM] [Warning] No further splits with positive gain, best gain: -inf\n",
      "[LightGBM] [Warning] No further splits with positive gain, best gain: -inf\n",
      "[LightGBM] [Warning] No further splits with positive gain, best gain: -inf\n",
      "[LightGBM] [Warning] No further splits with positive gain, best gain: -inf\n",
      "[LightGBM] [Warning] No further splits with positive gain, best gain: -inf\n",
      "[LightGBM] [Warning] No further splits with positive gain, best gain: -inf\n",
      "[LightGBM] [Warning] No further splits with positive gain, best gain: -inf\n",
      "[LightGBM] [Warning] No further splits with positive gain, best gain: -inf\n",
      "[LightGBM] [Warning] No further splits with positive gain, best gain: -inf\n",
      "[LightGBM] [Warning] No further splits with positive gain, best gain: -inf\n",
      "[LightGBM] [Warning] No further splits with positive gain, best gain: -inf\n",
      "[LightGBM] [Warning] No further splits with positive gain, best gain: -inf\n",
      "[LightGBM] [Warning] No further splits with positive gain, best gain: -inf\n",
      "[LightGBM] [Warning] No further splits with positive gain, best gain: -inf\n",
      "[LightGBM] [Warning] No further splits with positive gain, best gain: -inf\n",
      "[LightGBM] [Warning] No further splits with positive gain, best gain: -inf\n",
      "[LightGBM] [Warning] No further splits with positive gain, best gain: -inf\n",
      "[LightGBM] [Warning] No further splits with positive gain, best gain: -inf\n",
      "Fitting:  LGBMClassifier finished. Elapsed time:  0 Seconds\n",
      "11/12 Fitting:  LGBMClassifier TomekLink-base started...\n",
      "[LightGBM] [Info] Number of positive: 1268, number of negative: 18022\n",
      "[LightGBM] [Info] Auto-choosing col-wise multi-threading, the overhead of testing was 0.030765 seconds.\n",
      "You can set `force_col_wise=true` to remove the overhead.\n",
      "[LightGBM] [Info] Total Bins 33401\n",
      "[LightGBM] [Info] Number of data points in the train set: 19290, number of used features: 1211\n",
      "[LightGBM] [Info] [binary:BoostFromScore]: pavg=0.065734 -> initscore=-2.654152\n",
      "[LightGBM] [Info] Start training from score -2.654152\n",
      "Fitting:  LGBMClassifier finished. Elapsed time:  1 Seconds\n",
      "12/12 Fitting:  LGBMClassifier TomekLink-clean started...\n",
      "[LightGBM] [Info] Number of positive: 1268, number of negative: 18022\n",
      "[LightGBM] [Info] Auto-choosing row-wise multi-threading, the overhead of testing was 0.027084 seconds.\n",
      "You can set `force_row_wise=true` to remove the overhead.\n",
      "And if memory is not enough, you can set `force_col_wise=true`.\n",
      "[LightGBM] [Info] Total Bins 33401\n",
      "[LightGBM] [Info] Number of data points in the train set: 19290, number of used features: 1211\n",
      "[LightGBM] [Info] [binary:BoostFromScore]: pavg=0.065734 -> initscore=-2.654152\n",
      "[LightGBM] [Info] Start training from score -2.654152\n",
      "Fitting:  LGBMClassifier finished. Elapsed time:  2 Seconds\n",
      "Model fitting finished.\n"
     ]
    }
   ],
   "source": [
    "fit_model(light, \"LGBMClassifier\")"
   ],
   "metadata": {
    "collapsed": false,
    "ExecuteTime": {
     "end_time": "2024-11-14T19:13:20.653130600Z",
     "start_time": "2024-11-14T19:12:46.618134200Z"
    }
   }
  },
  {
   "cell_type": "code",
   "execution_count": 74,
   "outputs": [
    {
     "data": {
      "text/plain": "             model                variant  train_acc  train_prec  train_rec  \\\n38  LGBMClassifier                   base   0.964298    0.944371   0.506033   \n48  LGBMClassifier         TomekLink base   0.960342    0.926995   0.430599   \n49  LGBMClassifier        TomekLink clean   0.960342    0.926995   0.430599   \n39  LGBMClassifier                  clean   0.960938    0.929530   0.436909   \n42  LGBMClassifier   BorderlineSMOTE base   0.976975    0.984803   0.968903   \n40  LGBMClassifier             SMOTE base   0.970278    0.979058   0.961115   \n44  LGBMClassifier            ADASYN base   0.970423    0.979158   0.960691   \n41  LGBMClassifier            SMOTE clean   0.950404    0.962946   0.936857   \n43  LGBMClassifier  BorderlineSMOTE clean   0.952366    0.964199   0.939622   \n45  LGBMClassifier           ADASYN clean   0.947798    0.962427   0.933641   \n46  LGBMClassifier          NearMiss base   0.971142    0.975576   0.992193   \n47  LGBMClassifier         NearMiss clean   0.814154    0.815274   0.985016   \n\n    train_f1  test_acc  test_prec  test_rec   test_f1  \n38  0.658965  0.948301   0.753472  0.359272  0.486547  \n48  0.588045  0.947559   0.714286  0.331492  0.452830  \n49  0.588045  0.947559   0.714286  0.331492  0.452830  \n39  0.594421  0.946594   0.696850  0.325967  0.444166  \n42  0.976788  0.945366   0.631004  0.478477  0.544256  \n40  0.970003  0.940738   0.573832  0.508278  0.539069  \n44  0.969836  0.940738   0.573284  0.511589  0.540682  \n41  0.949723  0.933213   0.491971  0.620626  0.548860  \n43  0.951752  0.932731   0.489019  0.615101  0.544861  \n45  0.947815  0.931887   0.484286  0.624309  0.545455  \n46  0.983814  0.138052   0.070801  0.960265  0.131878  \n47  0.892143  0.126462   0.067827  0.968692  0.126778  ",
      "text/html": "<div>\n<style scoped>\n    .dataframe tbody tr th:only-of-type {\n        vertical-align: middle;\n    }\n\n    .dataframe tbody tr th {\n        vertical-align: top;\n    }\n\n    .dataframe thead th {\n        text-align: right;\n    }\n</style>\n<table border=\"1\" class=\"dataframe\">\n  <thead>\n    <tr style=\"text-align: right;\">\n      <th></th>\n      <th>model</th>\n      <th>variant</th>\n      <th>train_acc</th>\n      <th>train_prec</th>\n      <th>train_rec</th>\n      <th>train_f1</th>\n      <th>test_acc</th>\n      <th>test_prec</th>\n      <th>test_rec</th>\n      <th>test_f1</th>\n    </tr>\n  </thead>\n  <tbody>\n    <tr>\n      <th>38</th>\n      <td>LGBMClassifier</td>\n      <td>base</td>\n      <td>0.964298</td>\n      <td>0.944371</td>\n      <td>0.506033</td>\n      <td>0.658965</td>\n      <td>0.948301</td>\n      <td>0.753472</td>\n      <td>0.359272</td>\n      <td>0.486547</td>\n    </tr>\n    <tr>\n      <th>48</th>\n      <td>LGBMClassifier</td>\n      <td>TomekLink base</td>\n      <td>0.960342</td>\n      <td>0.926995</td>\n      <td>0.430599</td>\n      <td>0.588045</td>\n      <td>0.947559</td>\n      <td>0.714286</td>\n      <td>0.331492</td>\n      <td>0.452830</td>\n    </tr>\n    <tr>\n      <th>49</th>\n      <td>LGBMClassifier</td>\n      <td>TomekLink clean</td>\n      <td>0.960342</td>\n      <td>0.926995</td>\n      <td>0.430599</td>\n      <td>0.588045</td>\n      <td>0.947559</td>\n      <td>0.714286</td>\n      <td>0.331492</td>\n      <td>0.452830</td>\n    </tr>\n    <tr>\n      <th>39</th>\n      <td>LGBMClassifier</td>\n      <td>clean</td>\n      <td>0.960938</td>\n      <td>0.929530</td>\n      <td>0.436909</td>\n      <td>0.594421</td>\n      <td>0.946594</td>\n      <td>0.696850</td>\n      <td>0.325967</td>\n      <td>0.444166</td>\n    </tr>\n    <tr>\n      <th>42</th>\n      <td>LGBMClassifier</td>\n      <td>BorderlineSMOTE base</td>\n      <td>0.976975</td>\n      <td>0.984803</td>\n      <td>0.968903</td>\n      <td>0.976788</td>\n      <td>0.945366</td>\n      <td>0.631004</td>\n      <td>0.478477</td>\n      <td>0.544256</td>\n    </tr>\n    <tr>\n      <th>40</th>\n      <td>LGBMClassifier</td>\n      <td>SMOTE base</td>\n      <td>0.970278</td>\n      <td>0.979058</td>\n      <td>0.961115</td>\n      <td>0.970003</td>\n      <td>0.940738</td>\n      <td>0.573832</td>\n      <td>0.508278</td>\n      <td>0.539069</td>\n    </tr>\n    <tr>\n      <th>44</th>\n      <td>LGBMClassifier</td>\n      <td>ADASYN base</td>\n      <td>0.970423</td>\n      <td>0.979158</td>\n      <td>0.960691</td>\n      <td>0.969836</td>\n      <td>0.940738</td>\n      <td>0.573284</td>\n      <td>0.511589</td>\n      <td>0.540682</td>\n    </tr>\n    <tr>\n      <th>41</th>\n      <td>LGBMClassifier</td>\n      <td>SMOTE clean</td>\n      <td>0.950404</td>\n      <td>0.962946</td>\n      <td>0.936857</td>\n      <td>0.949723</td>\n      <td>0.933213</td>\n      <td>0.491971</td>\n      <td>0.620626</td>\n      <td>0.548860</td>\n    </tr>\n    <tr>\n      <th>43</th>\n      <td>LGBMClassifier</td>\n      <td>BorderlineSMOTE clean</td>\n      <td>0.952366</td>\n      <td>0.964199</td>\n      <td>0.939622</td>\n      <td>0.951752</td>\n      <td>0.932731</td>\n      <td>0.489019</td>\n      <td>0.615101</td>\n      <td>0.544861</td>\n    </tr>\n    <tr>\n      <th>45</th>\n      <td>LGBMClassifier</td>\n      <td>ADASYN clean</td>\n      <td>0.947798</td>\n      <td>0.962427</td>\n      <td>0.933641</td>\n      <td>0.947815</td>\n      <td>0.931887</td>\n      <td>0.484286</td>\n      <td>0.624309</td>\n      <td>0.545455</td>\n    </tr>\n    <tr>\n      <th>46</th>\n      <td>LGBMClassifier</td>\n      <td>NearMiss base</td>\n      <td>0.971142</td>\n      <td>0.975576</td>\n      <td>0.992193</td>\n      <td>0.983814</td>\n      <td>0.138052</td>\n      <td>0.070801</td>\n      <td>0.960265</td>\n      <td>0.131878</td>\n    </tr>\n    <tr>\n      <th>47</th>\n      <td>LGBMClassifier</td>\n      <td>NearMiss clean</td>\n      <td>0.814154</td>\n      <td>0.815274</td>\n      <td>0.985016</td>\n      <td>0.892143</td>\n      <td>0.126462</td>\n      <td>0.067827</td>\n      <td>0.968692</td>\n      <td>0.126778</td>\n    </tr>\n  </tbody>\n</table>\n</div>"
     },
     "execution_count": 74,
     "metadata": {},
     "output_type": "execute_result"
    }
   ],
   "source": [
    "evaluation[evaluation.model == \"LGBMClassifier\"].sort_values(by=[\"test_prec\"], ascending=False)"
   ],
   "metadata": {
    "collapsed": false,
    "ExecuteTime": {
     "end_time": "2024-11-14T19:13:20.693532900Z",
     "start_time": "2024-11-14T19:13:20.653130600Z"
    }
   }
  },
  {
   "cell_type": "markdown",
   "source": [
    "#### 2.3 Stacking"
   ],
   "metadata": {
    "collapsed": false
   }
  },
  {
   "cell_type": "code",
   "execution_count": 75,
   "outputs": [],
   "source": [
    "base_models = [\n",
    "    ('rf', RandomForestClassifier(n_estimators=100, random_state=42)),\n",
    "    ('svm', LinearSVC(random_state=42))\n",
    "]\n",
    "stack = StackingClassifier(estimators=base_models)"
   ],
   "metadata": {
    "collapsed": false,
    "ExecuteTime": {
     "end_time": "2024-11-14T19:13:20.721885900Z",
     "start_time": "2024-11-14T19:13:20.693532900Z"
    }
   }
  },
  {
   "cell_type": "code",
   "execution_count": 76,
   "outputs": [],
   "source": [
    "# stack.fit(X_train_base, y_train_base)"
   ],
   "metadata": {
    "collapsed": false,
    "ExecuteTime": {
     "end_time": "2024-11-14T19:13:20.782450200Z",
     "start_time": "2024-11-14T19:13:20.713838400Z"
    }
   }
  },
  {
   "cell_type": "markdown",
   "source": [
    "#### Model comparision"
   ],
   "metadata": {
    "collapsed": false
   }
  },
  {
   "cell_type": "code",
   "execution_count": 77,
   "outputs": [
    {
     "data": {
      "text/plain": "                   model                variant  train_acc  train_prec  \\\n26    CatBoostClassifier                   base   0.946834    0.914439   \n4           RandomForest   BorderlineSMOTE base   0.999922    0.999948   \n0           RandomForest                   base   0.999855    1.000000   \n37    CatBoostClassifier        TomekLink clean   0.948834    0.916914   \n36    CatBoostClassifier         TomekLink base   0.948834    0.916914   \n27    CatBoostClassifier                  clean   0.948693    0.920489   \n14         XGBClassifier                   base   0.965120    0.972527   \n10          RandomForest         TomekLink base   0.999844    1.000000   \n15         XGBClassifier                  clean   0.961455    0.945392   \n24         XGBClassifier         TomekLink base   0.961172    0.954466   \n25         XGBClassifier        TomekLink clean   0.961172    0.954466   \n2           RandomForest             SMOTE base   0.999922    0.999948   \n1           RandomForest                  clean   0.999845    1.000000   \n11          RandomForest        TomekLink clean   0.999793    1.000000   \n38        LGBMClassifier                   base   0.964298    0.944371   \n6           RandomForest            ADASYN base   0.999921    0.999947   \n48        LGBMClassifier         TomekLink base   0.960342    0.926995   \n49        LGBMClassifier        TomekLink clean   0.960342    0.926995   \n39        LGBMClassifier                  clean   0.960938    0.929530   \n18         XGBClassifier   BorderlineSMOTE base   0.978169    0.993252   \n16         XGBClassifier             SMOTE base   0.968877    0.990869   \n42        LGBMClassifier   BorderlineSMOTE base   0.976975    0.984803   \n20         XGBClassifier            ADASYN base   0.969427    0.990364   \n5           RandomForest  BorderlineSMOTE clean   0.999917    0.999889   \n7           RandomForest           ADASYN clean   0.999918    0.999946   \n3           RandomForest            SMOTE clean   0.999917    0.999889   \n40        LGBMClassifier             SMOTE base   0.970278    0.979058   \n44        LGBMClassifier            ADASYN base   0.970423    0.979158   \n19         XGBClassifier  BorderlineSMOTE clean   0.947418    0.975273   \n17         XGBClassifier            SMOTE clean   0.942248    0.974379   \n21         XGBClassifier           ADASYN clean   0.942083    0.974452   \n30    CatBoostClassifier   BorderlineSMOTE base   0.954600    0.967687   \n41        LGBMClassifier            SMOTE clean   0.950404    0.962946   \n32    CatBoostClassifier            ADASYN base   0.930778    0.959423   \n43        LGBMClassifier  BorderlineSMOTE clean   0.952366    0.964199   \n45        LGBMClassifier           ADASYN clean   0.947798    0.962427   \n28    CatBoostClassifier             SMOTE base   0.931705    0.959699   \n29    CatBoostClassifier            SMOTE clean   0.888450    0.936014   \n31    CatBoostClassifier  BorderlineSMOTE clean   0.888698    0.935025   \n33    CatBoostClassifier           ADASYN clean   0.884437    0.935400   \n13  BalancedRandomForest         BALANCED clean   0.891960    0.377420   \n12  BalancedRandomForest          BALANCED base   0.853998    0.318274   \n9           RandomForest         NearMiss clean   0.998154    1.000000   \n8           RandomForest          NearMiss base   0.998118    0.998582   \n23         XGBClassifier         NearMiss clean   0.871385    0.865424   \n22         XGBClassifier          NearMiss base   0.966123    0.969508   \n46        LGBMClassifier          NearMiss base   0.971142    0.975576   \n34    CatBoostClassifier          NearMiss base   0.915307    0.913100   \n35    CatBoostClassifier         NearMiss clean   0.827692    0.819534   \n47        LGBMClassifier         NearMiss clean   0.814154    0.815274   \n\n    train_rec  train_f1  test_acc  test_prec  test_rec   test_f1  \n26   0.242725  0.383623  0.945705   0.901961  0.228477  0.364597  \n4    0.999896  0.999922  0.951913   0.886957  0.337748  0.489209  \n0    0.997871  0.998934  0.956316   0.867797  0.423841  0.569522  \n37   0.243691  0.385047  0.945389   0.835821  0.206262  0.330871  \n36   0.243691  0.385047  0.945389   0.835821  0.206262  0.330871  \n27   0.237382  0.377429  0.945027   0.832061  0.200737  0.323442  \n14   0.502484  0.662611  0.951010   0.824427  0.357616  0.498845  \n10   0.997634  0.998816  0.955515   0.786184  0.440147  0.564345  \n15   0.436909  0.597627  0.949367   0.783410  0.313076  0.447368  \n24   0.429811  0.592713  0.948764   0.780952  0.302026  0.435591  \n25   0.429811  0.592713  0.948764   0.780952  0.302026  0.435591  \n2    0.999896  0.999922  0.952478   0.776435  0.425497  0.549733  \n1    0.997634  0.998816  0.955395   0.774603  0.449355  0.568765  \n11   0.996845  0.998420  0.954430   0.770492  0.432781  0.554245  \n38   0.506033  0.658965  0.948301   0.753472  0.359272  0.486547  \n6    0.999894  0.999921  0.950672   0.749254  0.415563  0.534611  \n48   0.430599  0.588045  0.947559   0.714286  0.331492  0.452830  \n49   0.430599  0.588045  0.947559   0.714286  0.331492  0.452830  \n39   0.436909  0.594421  0.946594   0.696850  0.325967  0.444166  \n18   0.962880  0.977830  0.947511   0.692521  0.413907  0.518135  \n16   0.946475  0.968163  0.944463   0.636585  0.432119  0.514793  \n42   0.968903  0.976788  0.945366   0.631004  0.478477  0.544256  \n20   0.947446  0.968430  0.942996   0.625954  0.407285  0.493480  \n5    0.999945  0.999917  0.947800   0.612705  0.550645  0.580019  \n7    0.999893  0.999920  0.945630   0.591633  0.546961  0.568421  \n3    0.999945  0.999917  0.945389   0.586873  0.559853  0.573044  \n40   0.961115  0.970003  0.940738   0.573832  0.508278  0.539069  \n44   0.960691  0.969836  0.940738   0.573284  0.511589  0.540682  \n19   0.918113  0.945830  0.940567   0.549213  0.513812  0.530923  \n17   0.908382  0.940224  0.937553   0.524178  0.499079  0.511321  \n21   0.909788  0.941010  0.937673   0.523810  0.526703  0.525253  \n30   0.940608  0.953956  0.933965   0.517958  0.453642  0.483672  \n41   0.936857  0.949723  0.933213   0.491971  0.620626  0.548860  \n32   0.898125  0.927762  0.930579   0.490401  0.465232  0.477485  \n43   0.939622  0.951752  0.932731   0.489019  0.615101  0.544861  \n45   0.933641  0.947815  0.931887   0.484286  0.624309  0.545455  \n28   0.901256  0.929560  0.928434   0.475248  0.476821  0.476033  \n29   0.833905  0.882014  0.912236   0.386781  0.581952  0.464706  \n31   0.835453  0.882439  0.911513   0.383961  0.581952  0.462665  \n33   0.829706  0.879389  0.909946   0.379147  0.589319  0.461428  \n13   0.999211  0.547892  0.851236   0.275795  0.782689  0.407869  \n12   1.000000  0.482865  0.811604   0.241630  0.824503  0.373734  \n9    0.997634  0.998816  0.477034   0.099261  0.865562  0.178098  \n8    0.999290  0.998936  0.229936   0.078840  0.963576  0.145755  \n23   0.988959  0.923077  0.236769   0.076901  0.968692  0.142490  \n22   0.992903  0.981066  0.137600   0.070976  0.963576  0.132213  \n46   0.992193  0.983814  0.138052   0.070801  0.960265  0.131878  \n34   0.999290  0.954253  0.085111   0.069057  0.995033  0.129150  \n35   0.999211  0.900498  0.121037   0.068653  0.988950  0.128392  \n47   0.985016  0.892143  0.126462   0.067827  0.968692  0.126778  ",
      "text/html": "<div>\n<style scoped>\n    .dataframe tbody tr th:only-of-type {\n        vertical-align: middle;\n    }\n\n    .dataframe tbody tr th {\n        vertical-align: top;\n    }\n\n    .dataframe thead th {\n        text-align: right;\n    }\n</style>\n<table border=\"1\" class=\"dataframe\">\n  <thead>\n    <tr style=\"text-align: right;\">\n      <th></th>\n      <th>model</th>\n      <th>variant</th>\n      <th>train_acc</th>\n      <th>train_prec</th>\n      <th>train_rec</th>\n      <th>train_f1</th>\n      <th>test_acc</th>\n      <th>test_prec</th>\n      <th>test_rec</th>\n      <th>test_f1</th>\n    </tr>\n  </thead>\n  <tbody>\n    <tr>\n      <th>26</th>\n      <td>CatBoostClassifier</td>\n      <td>base</td>\n      <td>0.946834</td>\n      <td>0.914439</td>\n      <td>0.242725</td>\n      <td>0.383623</td>\n      <td>0.945705</td>\n      <td>0.901961</td>\n      <td>0.228477</td>\n      <td>0.364597</td>\n    </tr>\n    <tr>\n      <th>4</th>\n      <td>RandomForest</td>\n      <td>BorderlineSMOTE base</td>\n      <td>0.999922</td>\n      <td>0.999948</td>\n      <td>0.999896</td>\n      <td>0.999922</td>\n      <td>0.951913</td>\n      <td>0.886957</td>\n      <td>0.337748</td>\n      <td>0.489209</td>\n    </tr>\n    <tr>\n      <th>0</th>\n      <td>RandomForest</td>\n      <td>base</td>\n      <td>0.999855</td>\n      <td>1.000000</td>\n      <td>0.997871</td>\n      <td>0.998934</td>\n      <td>0.956316</td>\n      <td>0.867797</td>\n      <td>0.423841</td>\n      <td>0.569522</td>\n    </tr>\n    <tr>\n      <th>37</th>\n      <td>CatBoostClassifier</td>\n      <td>TomekLink clean</td>\n      <td>0.948834</td>\n      <td>0.916914</td>\n      <td>0.243691</td>\n      <td>0.385047</td>\n      <td>0.945389</td>\n      <td>0.835821</td>\n      <td>0.206262</td>\n      <td>0.330871</td>\n    </tr>\n    <tr>\n      <th>36</th>\n      <td>CatBoostClassifier</td>\n      <td>TomekLink base</td>\n      <td>0.948834</td>\n      <td>0.916914</td>\n      <td>0.243691</td>\n      <td>0.385047</td>\n      <td>0.945389</td>\n      <td>0.835821</td>\n      <td>0.206262</td>\n      <td>0.330871</td>\n    </tr>\n    <tr>\n      <th>27</th>\n      <td>CatBoostClassifier</td>\n      <td>clean</td>\n      <td>0.948693</td>\n      <td>0.920489</td>\n      <td>0.237382</td>\n      <td>0.377429</td>\n      <td>0.945027</td>\n      <td>0.832061</td>\n      <td>0.200737</td>\n      <td>0.323442</td>\n    </tr>\n    <tr>\n      <th>14</th>\n      <td>XGBClassifier</td>\n      <td>base</td>\n      <td>0.965120</td>\n      <td>0.972527</td>\n      <td>0.502484</td>\n      <td>0.662611</td>\n      <td>0.951010</td>\n      <td>0.824427</td>\n      <td>0.357616</td>\n      <td>0.498845</td>\n    </tr>\n    <tr>\n      <th>10</th>\n      <td>RandomForest</td>\n      <td>TomekLink base</td>\n      <td>0.999844</td>\n      <td>1.000000</td>\n      <td>0.997634</td>\n      <td>0.998816</td>\n      <td>0.955515</td>\n      <td>0.786184</td>\n      <td>0.440147</td>\n      <td>0.564345</td>\n    </tr>\n    <tr>\n      <th>15</th>\n      <td>XGBClassifier</td>\n      <td>clean</td>\n      <td>0.961455</td>\n      <td>0.945392</td>\n      <td>0.436909</td>\n      <td>0.597627</td>\n      <td>0.949367</td>\n      <td>0.783410</td>\n      <td>0.313076</td>\n      <td>0.447368</td>\n    </tr>\n    <tr>\n      <th>24</th>\n      <td>XGBClassifier</td>\n      <td>TomekLink base</td>\n      <td>0.961172</td>\n      <td>0.954466</td>\n      <td>0.429811</td>\n      <td>0.592713</td>\n      <td>0.948764</td>\n      <td>0.780952</td>\n      <td>0.302026</td>\n      <td>0.435591</td>\n    </tr>\n    <tr>\n      <th>25</th>\n      <td>XGBClassifier</td>\n      <td>TomekLink clean</td>\n      <td>0.961172</td>\n      <td>0.954466</td>\n      <td>0.429811</td>\n      <td>0.592713</td>\n      <td>0.948764</td>\n      <td>0.780952</td>\n      <td>0.302026</td>\n      <td>0.435591</td>\n    </tr>\n    <tr>\n      <th>2</th>\n      <td>RandomForest</td>\n      <td>SMOTE base</td>\n      <td>0.999922</td>\n      <td>0.999948</td>\n      <td>0.999896</td>\n      <td>0.999922</td>\n      <td>0.952478</td>\n      <td>0.776435</td>\n      <td>0.425497</td>\n      <td>0.549733</td>\n    </tr>\n    <tr>\n      <th>1</th>\n      <td>RandomForest</td>\n      <td>clean</td>\n      <td>0.999845</td>\n      <td>1.000000</td>\n      <td>0.997634</td>\n      <td>0.998816</td>\n      <td>0.955395</td>\n      <td>0.774603</td>\n      <td>0.449355</td>\n      <td>0.568765</td>\n    </tr>\n    <tr>\n      <th>11</th>\n      <td>RandomForest</td>\n      <td>TomekLink clean</td>\n      <td>0.999793</td>\n      <td>1.000000</td>\n      <td>0.996845</td>\n      <td>0.998420</td>\n      <td>0.954430</td>\n      <td>0.770492</td>\n      <td>0.432781</td>\n      <td>0.554245</td>\n    </tr>\n    <tr>\n      <th>38</th>\n      <td>LGBMClassifier</td>\n      <td>base</td>\n      <td>0.964298</td>\n      <td>0.944371</td>\n      <td>0.506033</td>\n      <td>0.658965</td>\n      <td>0.948301</td>\n      <td>0.753472</td>\n      <td>0.359272</td>\n      <td>0.486547</td>\n    </tr>\n    <tr>\n      <th>6</th>\n      <td>RandomForest</td>\n      <td>ADASYN base</td>\n      <td>0.999921</td>\n      <td>0.999947</td>\n      <td>0.999894</td>\n      <td>0.999921</td>\n      <td>0.950672</td>\n      <td>0.749254</td>\n      <td>0.415563</td>\n      <td>0.534611</td>\n    </tr>\n    <tr>\n      <th>48</th>\n      <td>LGBMClassifier</td>\n      <td>TomekLink base</td>\n      <td>0.960342</td>\n      <td>0.926995</td>\n      <td>0.430599</td>\n      <td>0.588045</td>\n      <td>0.947559</td>\n      <td>0.714286</td>\n      <td>0.331492</td>\n      <td>0.452830</td>\n    </tr>\n    <tr>\n      <th>49</th>\n      <td>LGBMClassifier</td>\n      <td>TomekLink clean</td>\n      <td>0.960342</td>\n      <td>0.926995</td>\n      <td>0.430599</td>\n      <td>0.588045</td>\n      <td>0.947559</td>\n      <td>0.714286</td>\n      <td>0.331492</td>\n      <td>0.452830</td>\n    </tr>\n    <tr>\n      <th>39</th>\n      <td>LGBMClassifier</td>\n      <td>clean</td>\n      <td>0.960938</td>\n      <td>0.929530</td>\n      <td>0.436909</td>\n      <td>0.594421</td>\n      <td>0.946594</td>\n      <td>0.696850</td>\n      <td>0.325967</td>\n      <td>0.444166</td>\n    </tr>\n    <tr>\n      <th>18</th>\n      <td>XGBClassifier</td>\n      <td>BorderlineSMOTE base</td>\n      <td>0.978169</td>\n      <td>0.993252</td>\n      <td>0.962880</td>\n      <td>0.977830</td>\n      <td>0.947511</td>\n      <td>0.692521</td>\n      <td>0.413907</td>\n      <td>0.518135</td>\n    </tr>\n    <tr>\n      <th>16</th>\n      <td>XGBClassifier</td>\n      <td>SMOTE base</td>\n      <td>0.968877</td>\n      <td>0.990869</td>\n      <td>0.946475</td>\n      <td>0.968163</td>\n      <td>0.944463</td>\n      <td>0.636585</td>\n      <td>0.432119</td>\n      <td>0.514793</td>\n    </tr>\n    <tr>\n      <th>42</th>\n      <td>LGBMClassifier</td>\n      <td>BorderlineSMOTE base</td>\n      <td>0.976975</td>\n      <td>0.984803</td>\n      <td>0.968903</td>\n      <td>0.976788</td>\n      <td>0.945366</td>\n      <td>0.631004</td>\n      <td>0.478477</td>\n      <td>0.544256</td>\n    </tr>\n    <tr>\n      <th>20</th>\n      <td>XGBClassifier</td>\n      <td>ADASYN base</td>\n      <td>0.969427</td>\n      <td>0.990364</td>\n      <td>0.947446</td>\n      <td>0.968430</td>\n      <td>0.942996</td>\n      <td>0.625954</td>\n      <td>0.407285</td>\n      <td>0.493480</td>\n    </tr>\n    <tr>\n      <th>5</th>\n      <td>RandomForest</td>\n      <td>BorderlineSMOTE clean</td>\n      <td>0.999917</td>\n      <td>0.999889</td>\n      <td>0.999945</td>\n      <td>0.999917</td>\n      <td>0.947800</td>\n      <td>0.612705</td>\n      <td>0.550645</td>\n      <td>0.580019</td>\n    </tr>\n    <tr>\n      <th>7</th>\n      <td>RandomForest</td>\n      <td>ADASYN clean</td>\n      <td>0.999918</td>\n      <td>0.999946</td>\n      <td>0.999893</td>\n      <td>0.999920</td>\n      <td>0.945630</td>\n      <td>0.591633</td>\n      <td>0.546961</td>\n      <td>0.568421</td>\n    </tr>\n    <tr>\n      <th>3</th>\n      <td>RandomForest</td>\n      <td>SMOTE clean</td>\n      <td>0.999917</td>\n      <td>0.999889</td>\n      <td>0.999945</td>\n      <td>0.999917</td>\n      <td>0.945389</td>\n      <td>0.586873</td>\n      <td>0.559853</td>\n      <td>0.573044</td>\n    </tr>\n    <tr>\n      <th>40</th>\n      <td>LGBMClassifier</td>\n      <td>SMOTE base</td>\n      <td>0.970278</td>\n      <td>0.979058</td>\n      <td>0.961115</td>\n      <td>0.970003</td>\n      <td>0.940738</td>\n      <td>0.573832</td>\n      <td>0.508278</td>\n      <td>0.539069</td>\n    </tr>\n    <tr>\n      <th>44</th>\n      <td>LGBMClassifier</td>\n      <td>ADASYN base</td>\n      <td>0.970423</td>\n      <td>0.979158</td>\n      <td>0.960691</td>\n      <td>0.969836</td>\n      <td>0.940738</td>\n      <td>0.573284</td>\n      <td>0.511589</td>\n      <td>0.540682</td>\n    </tr>\n    <tr>\n      <th>19</th>\n      <td>XGBClassifier</td>\n      <td>BorderlineSMOTE clean</td>\n      <td>0.947418</td>\n      <td>0.975273</td>\n      <td>0.918113</td>\n      <td>0.945830</td>\n      <td>0.940567</td>\n      <td>0.549213</td>\n      <td>0.513812</td>\n      <td>0.530923</td>\n    </tr>\n    <tr>\n      <th>17</th>\n      <td>XGBClassifier</td>\n      <td>SMOTE clean</td>\n      <td>0.942248</td>\n      <td>0.974379</td>\n      <td>0.908382</td>\n      <td>0.940224</td>\n      <td>0.937553</td>\n      <td>0.524178</td>\n      <td>0.499079</td>\n      <td>0.511321</td>\n    </tr>\n    <tr>\n      <th>21</th>\n      <td>XGBClassifier</td>\n      <td>ADASYN clean</td>\n      <td>0.942083</td>\n      <td>0.974452</td>\n      <td>0.909788</td>\n      <td>0.941010</td>\n      <td>0.937673</td>\n      <td>0.523810</td>\n      <td>0.526703</td>\n      <td>0.525253</td>\n    </tr>\n    <tr>\n      <th>30</th>\n      <td>CatBoostClassifier</td>\n      <td>BorderlineSMOTE base</td>\n      <td>0.954600</td>\n      <td>0.967687</td>\n      <td>0.940608</td>\n      <td>0.953956</td>\n      <td>0.933965</td>\n      <td>0.517958</td>\n      <td>0.453642</td>\n      <td>0.483672</td>\n    </tr>\n    <tr>\n      <th>41</th>\n      <td>LGBMClassifier</td>\n      <td>SMOTE clean</td>\n      <td>0.950404</td>\n      <td>0.962946</td>\n      <td>0.936857</td>\n      <td>0.949723</td>\n      <td>0.933213</td>\n      <td>0.491971</td>\n      <td>0.620626</td>\n      <td>0.548860</td>\n    </tr>\n    <tr>\n      <th>32</th>\n      <td>CatBoostClassifier</td>\n      <td>ADASYN base</td>\n      <td>0.930778</td>\n      <td>0.959423</td>\n      <td>0.898125</td>\n      <td>0.927762</td>\n      <td>0.930579</td>\n      <td>0.490401</td>\n      <td>0.465232</td>\n      <td>0.477485</td>\n    </tr>\n    <tr>\n      <th>43</th>\n      <td>LGBMClassifier</td>\n      <td>BorderlineSMOTE clean</td>\n      <td>0.952366</td>\n      <td>0.964199</td>\n      <td>0.939622</td>\n      <td>0.951752</td>\n      <td>0.932731</td>\n      <td>0.489019</td>\n      <td>0.615101</td>\n      <td>0.544861</td>\n    </tr>\n    <tr>\n      <th>45</th>\n      <td>LGBMClassifier</td>\n      <td>ADASYN clean</td>\n      <td>0.947798</td>\n      <td>0.962427</td>\n      <td>0.933641</td>\n      <td>0.947815</td>\n      <td>0.931887</td>\n      <td>0.484286</td>\n      <td>0.624309</td>\n      <td>0.545455</td>\n    </tr>\n    <tr>\n      <th>28</th>\n      <td>CatBoostClassifier</td>\n      <td>SMOTE base</td>\n      <td>0.931705</td>\n      <td>0.959699</td>\n      <td>0.901256</td>\n      <td>0.929560</td>\n      <td>0.928434</td>\n      <td>0.475248</td>\n      <td>0.476821</td>\n      <td>0.476033</td>\n    </tr>\n    <tr>\n      <th>29</th>\n      <td>CatBoostClassifier</td>\n      <td>SMOTE clean</td>\n      <td>0.888450</td>\n      <td>0.936014</td>\n      <td>0.833905</td>\n      <td>0.882014</td>\n      <td>0.912236</td>\n      <td>0.386781</td>\n      <td>0.581952</td>\n      <td>0.464706</td>\n    </tr>\n    <tr>\n      <th>31</th>\n      <td>CatBoostClassifier</td>\n      <td>BorderlineSMOTE clean</td>\n      <td>0.888698</td>\n      <td>0.935025</td>\n      <td>0.835453</td>\n      <td>0.882439</td>\n      <td>0.911513</td>\n      <td>0.383961</td>\n      <td>0.581952</td>\n      <td>0.462665</td>\n    </tr>\n    <tr>\n      <th>33</th>\n      <td>CatBoostClassifier</td>\n      <td>ADASYN clean</td>\n      <td>0.884437</td>\n      <td>0.935400</td>\n      <td>0.829706</td>\n      <td>0.879389</td>\n      <td>0.909946</td>\n      <td>0.379147</td>\n      <td>0.589319</td>\n      <td>0.461428</td>\n    </tr>\n    <tr>\n      <th>13</th>\n      <td>BalancedRandomForest</td>\n      <td>BALANCED clean</td>\n      <td>0.891960</td>\n      <td>0.377420</td>\n      <td>0.999211</td>\n      <td>0.547892</td>\n      <td>0.851236</td>\n      <td>0.275795</td>\n      <td>0.782689</td>\n      <td>0.407869</td>\n    </tr>\n    <tr>\n      <th>12</th>\n      <td>BalancedRandomForest</td>\n      <td>BALANCED base</td>\n      <td>0.853998</td>\n      <td>0.318274</td>\n      <td>1.000000</td>\n      <td>0.482865</td>\n      <td>0.811604</td>\n      <td>0.241630</td>\n      <td>0.824503</td>\n      <td>0.373734</td>\n    </tr>\n    <tr>\n      <th>9</th>\n      <td>RandomForest</td>\n      <td>NearMiss clean</td>\n      <td>0.998154</td>\n      <td>1.000000</td>\n      <td>0.997634</td>\n      <td>0.998816</td>\n      <td>0.477034</td>\n      <td>0.099261</td>\n      <td>0.865562</td>\n      <td>0.178098</td>\n    </tr>\n    <tr>\n      <th>8</th>\n      <td>RandomForest</td>\n      <td>NearMiss base</td>\n      <td>0.998118</td>\n      <td>0.998582</td>\n      <td>0.999290</td>\n      <td>0.998936</td>\n      <td>0.229936</td>\n      <td>0.078840</td>\n      <td>0.963576</td>\n      <td>0.145755</td>\n    </tr>\n    <tr>\n      <th>23</th>\n      <td>XGBClassifier</td>\n      <td>NearMiss clean</td>\n      <td>0.871385</td>\n      <td>0.865424</td>\n      <td>0.988959</td>\n      <td>0.923077</td>\n      <td>0.236769</td>\n      <td>0.076901</td>\n      <td>0.968692</td>\n      <td>0.142490</td>\n    </tr>\n    <tr>\n      <th>22</th>\n      <td>XGBClassifier</td>\n      <td>NearMiss base</td>\n      <td>0.966123</td>\n      <td>0.969508</td>\n      <td>0.992903</td>\n      <td>0.981066</td>\n      <td>0.137600</td>\n      <td>0.070976</td>\n      <td>0.963576</td>\n      <td>0.132213</td>\n    </tr>\n    <tr>\n      <th>46</th>\n      <td>LGBMClassifier</td>\n      <td>NearMiss base</td>\n      <td>0.971142</td>\n      <td>0.975576</td>\n      <td>0.992193</td>\n      <td>0.983814</td>\n      <td>0.138052</td>\n      <td>0.070801</td>\n      <td>0.960265</td>\n      <td>0.131878</td>\n    </tr>\n    <tr>\n      <th>34</th>\n      <td>CatBoostClassifier</td>\n      <td>NearMiss base</td>\n      <td>0.915307</td>\n      <td>0.913100</td>\n      <td>0.999290</td>\n      <td>0.954253</td>\n      <td>0.085111</td>\n      <td>0.069057</td>\n      <td>0.995033</td>\n      <td>0.129150</td>\n    </tr>\n    <tr>\n      <th>35</th>\n      <td>CatBoostClassifier</td>\n      <td>NearMiss clean</td>\n      <td>0.827692</td>\n      <td>0.819534</td>\n      <td>0.999211</td>\n      <td>0.900498</td>\n      <td>0.121037</td>\n      <td>0.068653</td>\n      <td>0.988950</td>\n      <td>0.128392</td>\n    </tr>\n    <tr>\n      <th>47</th>\n      <td>LGBMClassifier</td>\n      <td>NearMiss clean</td>\n      <td>0.814154</td>\n      <td>0.815274</td>\n      <td>0.985016</td>\n      <td>0.892143</td>\n      <td>0.126462</td>\n      <td>0.067827</td>\n      <td>0.968692</td>\n      <td>0.126778</td>\n    </tr>\n  </tbody>\n</table>\n</div>"
     },
     "execution_count": 77,
     "metadata": {},
     "output_type": "execute_result"
    }
   ],
   "source": [
    "evaluation.sort_values(by=[\"test_prec\"], ascending=False)"
   ],
   "metadata": {
    "collapsed": false,
    "ExecuteTime": {
     "end_time": "2024-11-14T19:13:20.873443200Z",
     "start_time": "2024-11-14T19:13:20.734030900Z"
    }
   }
  },
  {
   "cell_type": "code",
   "execution_count": 78,
   "outputs": [
    {
     "data": {
      "text/plain": "                   model                variant  train_acc  train_prec  \\\n34    CatBoostClassifier          NearMiss base   0.915307    0.913100   \n35    CatBoostClassifier         NearMiss clean   0.827692    0.819534   \n47        LGBMClassifier         NearMiss clean   0.814154    0.815274   \n23         XGBClassifier         NearMiss clean   0.871385    0.865424   \n22         XGBClassifier          NearMiss base   0.966123    0.969508   \n8           RandomForest          NearMiss base   0.998118    0.998582   \n46        LGBMClassifier          NearMiss base   0.971142    0.975576   \n9           RandomForest         NearMiss clean   0.998154    1.000000   \n12  BalancedRandomForest          BALANCED base   0.853998    0.318274   \n13  BalancedRandomForest         BALANCED clean   0.891960    0.377420   \n45        LGBMClassifier           ADASYN clean   0.947798    0.962427   \n41        LGBMClassifier            SMOTE clean   0.950404    0.962946   \n43        LGBMClassifier  BorderlineSMOTE clean   0.952366    0.964199   \n33    CatBoostClassifier           ADASYN clean   0.884437    0.935400   \n29    CatBoostClassifier            SMOTE clean   0.888450    0.936014   \n31    CatBoostClassifier  BorderlineSMOTE clean   0.888698    0.935025   \n3           RandomForest            SMOTE clean   0.999917    0.999889   \n5           RandomForest  BorderlineSMOTE clean   0.999917    0.999889   \n7           RandomForest           ADASYN clean   0.999918    0.999946   \n21         XGBClassifier           ADASYN clean   0.942083    0.974452   \n19         XGBClassifier  BorderlineSMOTE clean   0.947418    0.975273   \n44        LGBMClassifier            ADASYN base   0.970423    0.979158   \n40        LGBMClassifier             SMOTE base   0.970278    0.979058   \n17         XGBClassifier            SMOTE clean   0.942248    0.974379   \n42        LGBMClassifier   BorderlineSMOTE base   0.976975    0.984803   \n28    CatBoostClassifier             SMOTE base   0.931705    0.959699   \n32    CatBoostClassifier            ADASYN base   0.930778    0.959423   \n30    CatBoostClassifier   BorderlineSMOTE base   0.954600    0.967687   \n1           RandomForest                  clean   0.999845    1.000000   \n10          RandomForest         TomekLink base   0.999844    1.000000   \n11          RandomForest        TomekLink clean   0.999793    1.000000   \n16         XGBClassifier             SMOTE base   0.968877    0.990869   \n2           RandomForest             SMOTE base   0.999922    0.999948   \n0           RandomForest                   base   0.999855    1.000000   \n6           RandomForest            ADASYN base   0.999921    0.999947   \n18         XGBClassifier   BorderlineSMOTE base   0.978169    0.993252   \n20         XGBClassifier            ADASYN base   0.969427    0.990364   \n38        LGBMClassifier                   base   0.964298    0.944371   \n14         XGBClassifier                   base   0.965120    0.972527   \n4           RandomForest   BorderlineSMOTE base   0.999922    0.999948   \n48        LGBMClassifier         TomekLink base   0.960342    0.926995   \n49        LGBMClassifier        TomekLink clean   0.960342    0.926995   \n39        LGBMClassifier                  clean   0.960938    0.929530   \n15         XGBClassifier                  clean   0.961455    0.945392   \n24         XGBClassifier         TomekLink base   0.961172    0.954466   \n25         XGBClassifier        TomekLink clean   0.961172    0.954466   \n26    CatBoostClassifier                   base   0.946834    0.914439   \n37    CatBoostClassifier        TomekLink clean   0.948834    0.916914   \n36    CatBoostClassifier         TomekLink base   0.948834    0.916914   \n27    CatBoostClassifier                  clean   0.948693    0.920489   \n\n    train_rec  train_f1  test_acc  test_prec  test_rec   test_f1  \n34   0.999290  0.954253  0.085111   0.069057  0.995033  0.129150  \n35   0.999211  0.900498  0.121037   0.068653  0.988950  0.128392  \n47   0.985016  0.892143  0.126462   0.067827  0.968692  0.126778  \n23   0.988959  0.923077  0.236769   0.076901  0.968692  0.142490  \n22   0.992903  0.981066  0.137600   0.070976  0.963576  0.132213  \n8    0.999290  0.998936  0.229936   0.078840  0.963576  0.145755  \n46   0.992193  0.983814  0.138052   0.070801  0.960265  0.131878  \n9    0.997634  0.998816  0.477034   0.099261  0.865562  0.178098  \n12   1.000000  0.482865  0.811604   0.241630  0.824503  0.373734  \n13   0.999211  0.547892  0.851236   0.275795  0.782689  0.407869  \n45   0.933641  0.947815  0.931887   0.484286  0.624309  0.545455  \n41   0.936857  0.949723  0.933213   0.491971  0.620626  0.548860  \n43   0.939622  0.951752  0.932731   0.489019  0.615101  0.544861  \n33   0.829706  0.879389  0.909946   0.379147  0.589319  0.461428  \n29   0.833905  0.882014  0.912236   0.386781  0.581952  0.464706  \n31   0.835453  0.882439  0.911513   0.383961  0.581952  0.462665  \n3    0.999945  0.999917  0.945389   0.586873  0.559853  0.573044  \n5    0.999945  0.999917  0.947800   0.612705  0.550645  0.580019  \n7    0.999893  0.999920  0.945630   0.591633  0.546961  0.568421  \n21   0.909788  0.941010  0.937673   0.523810  0.526703  0.525253  \n19   0.918113  0.945830  0.940567   0.549213  0.513812  0.530923  \n44   0.960691  0.969836  0.940738   0.573284  0.511589  0.540682  \n40   0.961115  0.970003  0.940738   0.573832  0.508278  0.539069  \n17   0.908382  0.940224  0.937553   0.524178  0.499079  0.511321  \n42   0.968903  0.976788  0.945366   0.631004  0.478477  0.544256  \n28   0.901256  0.929560  0.928434   0.475248  0.476821  0.476033  \n32   0.898125  0.927762  0.930579   0.490401  0.465232  0.477485  \n30   0.940608  0.953956  0.933965   0.517958  0.453642  0.483672  \n1    0.997634  0.998816  0.955395   0.774603  0.449355  0.568765  \n10   0.997634  0.998816  0.955515   0.786184  0.440147  0.564345  \n11   0.996845  0.998420  0.954430   0.770492  0.432781  0.554245  \n16   0.946475  0.968163  0.944463   0.636585  0.432119  0.514793  \n2    0.999896  0.999922  0.952478   0.776435  0.425497  0.549733  \n0    0.997871  0.998934  0.956316   0.867797  0.423841  0.569522  \n6    0.999894  0.999921  0.950672   0.749254  0.415563  0.534611  \n18   0.962880  0.977830  0.947511   0.692521  0.413907  0.518135  \n20   0.947446  0.968430  0.942996   0.625954  0.407285  0.493480  \n38   0.506033  0.658965  0.948301   0.753472  0.359272  0.486547  \n14   0.502484  0.662611  0.951010   0.824427  0.357616  0.498845  \n4    0.999896  0.999922  0.951913   0.886957  0.337748  0.489209  \n48   0.430599  0.588045  0.947559   0.714286  0.331492  0.452830  \n49   0.430599  0.588045  0.947559   0.714286  0.331492  0.452830  \n39   0.436909  0.594421  0.946594   0.696850  0.325967  0.444166  \n15   0.436909  0.597627  0.949367   0.783410  0.313076  0.447368  \n24   0.429811  0.592713  0.948764   0.780952  0.302026  0.435591  \n25   0.429811  0.592713  0.948764   0.780952  0.302026  0.435591  \n26   0.242725  0.383623  0.945705   0.901961  0.228477  0.364597  \n37   0.243691  0.385047  0.945389   0.835821  0.206262  0.330871  \n36   0.243691  0.385047  0.945389   0.835821  0.206262  0.330871  \n27   0.237382  0.377429  0.945027   0.832061  0.200737  0.323442  ",
      "text/html": "<div>\n<style scoped>\n    .dataframe tbody tr th:only-of-type {\n        vertical-align: middle;\n    }\n\n    .dataframe tbody tr th {\n        vertical-align: top;\n    }\n\n    .dataframe thead th {\n        text-align: right;\n    }\n</style>\n<table border=\"1\" class=\"dataframe\">\n  <thead>\n    <tr style=\"text-align: right;\">\n      <th></th>\n      <th>model</th>\n      <th>variant</th>\n      <th>train_acc</th>\n      <th>train_prec</th>\n      <th>train_rec</th>\n      <th>train_f1</th>\n      <th>test_acc</th>\n      <th>test_prec</th>\n      <th>test_rec</th>\n      <th>test_f1</th>\n    </tr>\n  </thead>\n  <tbody>\n    <tr>\n      <th>34</th>\n      <td>CatBoostClassifier</td>\n      <td>NearMiss base</td>\n      <td>0.915307</td>\n      <td>0.913100</td>\n      <td>0.999290</td>\n      <td>0.954253</td>\n      <td>0.085111</td>\n      <td>0.069057</td>\n      <td>0.995033</td>\n      <td>0.129150</td>\n    </tr>\n    <tr>\n      <th>35</th>\n      <td>CatBoostClassifier</td>\n      <td>NearMiss clean</td>\n      <td>0.827692</td>\n      <td>0.819534</td>\n      <td>0.999211</td>\n      <td>0.900498</td>\n      <td>0.121037</td>\n      <td>0.068653</td>\n      <td>0.988950</td>\n      <td>0.128392</td>\n    </tr>\n    <tr>\n      <th>47</th>\n      <td>LGBMClassifier</td>\n      <td>NearMiss clean</td>\n      <td>0.814154</td>\n      <td>0.815274</td>\n      <td>0.985016</td>\n      <td>0.892143</td>\n      <td>0.126462</td>\n      <td>0.067827</td>\n      <td>0.968692</td>\n      <td>0.126778</td>\n    </tr>\n    <tr>\n      <th>23</th>\n      <td>XGBClassifier</td>\n      <td>NearMiss clean</td>\n      <td>0.871385</td>\n      <td>0.865424</td>\n      <td>0.988959</td>\n      <td>0.923077</td>\n      <td>0.236769</td>\n      <td>0.076901</td>\n      <td>0.968692</td>\n      <td>0.142490</td>\n    </tr>\n    <tr>\n      <th>22</th>\n      <td>XGBClassifier</td>\n      <td>NearMiss base</td>\n      <td>0.966123</td>\n      <td>0.969508</td>\n      <td>0.992903</td>\n      <td>0.981066</td>\n      <td>0.137600</td>\n      <td>0.070976</td>\n      <td>0.963576</td>\n      <td>0.132213</td>\n    </tr>\n    <tr>\n      <th>8</th>\n      <td>RandomForest</td>\n      <td>NearMiss base</td>\n      <td>0.998118</td>\n      <td>0.998582</td>\n      <td>0.999290</td>\n      <td>0.998936</td>\n      <td>0.229936</td>\n      <td>0.078840</td>\n      <td>0.963576</td>\n      <td>0.145755</td>\n    </tr>\n    <tr>\n      <th>46</th>\n      <td>LGBMClassifier</td>\n      <td>NearMiss base</td>\n      <td>0.971142</td>\n      <td>0.975576</td>\n      <td>0.992193</td>\n      <td>0.983814</td>\n      <td>0.138052</td>\n      <td>0.070801</td>\n      <td>0.960265</td>\n      <td>0.131878</td>\n    </tr>\n    <tr>\n      <th>9</th>\n      <td>RandomForest</td>\n      <td>NearMiss clean</td>\n      <td>0.998154</td>\n      <td>1.000000</td>\n      <td>0.997634</td>\n      <td>0.998816</td>\n      <td>0.477034</td>\n      <td>0.099261</td>\n      <td>0.865562</td>\n      <td>0.178098</td>\n    </tr>\n    <tr>\n      <th>12</th>\n      <td>BalancedRandomForest</td>\n      <td>BALANCED base</td>\n      <td>0.853998</td>\n      <td>0.318274</td>\n      <td>1.000000</td>\n      <td>0.482865</td>\n      <td>0.811604</td>\n      <td>0.241630</td>\n      <td>0.824503</td>\n      <td>0.373734</td>\n    </tr>\n    <tr>\n      <th>13</th>\n      <td>BalancedRandomForest</td>\n      <td>BALANCED clean</td>\n      <td>0.891960</td>\n      <td>0.377420</td>\n      <td>0.999211</td>\n      <td>0.547892</td>\n      <td>0.851236</td>\n      <td>0.275795</td>\n      <td>0.782689</td>\n      <td>0.407869</td>\n    </tr>\n    <tr>\n      <th>45</th>\n      <td>LGBMClassifier</td>\n      <td>ADASYN clean</td>\n      <td>0.947798</td>\n      <td>0.962427</td>\n      <td>0.933641</td>\n      <td>0.947815</td>\n      <td>0.931887</td>\n      <td>0.484286</td>\n      <td>0.624309</td>\n      <td>0.545455</td>\n    </tr>\n    <tr>\n      <th>41</th>\n      <td>LGBMClassifier</td>\n      <td>SMOTE clean</td>\n      <td>0.950404</td>\n      <td>0.962946</td>\n      <td>0.936857</td>\n      <td>0.949723</td>\n      <td>0.933213</td>\n      <td>0.491971</td>\n      <td>0.620626</td>\n      <td>0.548860</td>\n    </tr>\n    <tr>\n      <th>43</th>\n      <td>LGBMClassifier</td>\n      <td>BorderlineSMOTE clean</td>\n      <td>0.952366</td>\n      <td>0.964199</td>\n      <td>0.939622</td>\n      <td>0.951752</td>\n      <td>0.932731</td>\n      <td>0.489019</td>\n      <td>0.615101</td>\n      <td>0.544861</td>\n    </tr>\n    <tr>\n      <th>33</th>\n      <td>CatBoostClassifier</td>\n      <td>ADASYN clean</td>\n      <td>0.884437</td>\n      <td>0.935400</td>\n      <td>0.829706</td>\n      <td>0.879389</td>\n      <td>0.909946</td>\n      <td>0.379147</td>\n      <td>0.589319</td>\n      <td>0.461428</td>\n    </tr>\n    <tr>\n      <th>29</th>\n      <td>CatBoostClassifier</td>\n      <td>SMOTE clean</td>\n      <td>0.888450</td>\n      <td>0.936014</td>\n      <td>0.833905</td>\n      <td>0.882014</td>\n      <td>0.912236</td>\n      <td>0.386781</td>\n      <td>0.581952</td>\n      <td>0.464706</td>\n    </tr>\n    <tr>\n      <th>31</th>\n      <td>CatBoostClassifier</td>\n      <td>BorderlineSMOTE clean</td>\n      <td>0.888698</td>\n      <td>0.935025</td>\n      <td>0.835453</td>\n      <td>0.882439</td>\n      <td>0.911513</td>\n      <td>0.383961</td>\n      <td>0.581952</td>\n      <td>0.462665</td>\n    </tr>\n    <tr>\n      <th>3</th>\n      <td>RandomForest</td>\n      <td>SMOTE clean</td>\n      <td>0.999917</td>\n      <td>0.999889</td>\n      <td>0.999945</td>\n      <td>0.999917</td>\n      <td>0.945389</td>\n      <td>0.586873</td>\n      <td>0.559853</td>\n      <td>0.573044</td>\n    </tr>\n    <tr>\n      <th>5</th>\n      <td>RandomForest</td>\n      <td>BorderlineSMOTE clean</td>\n      <td>0.999917</td>\n      <td>0.999889</td>\n      <td>0.999945</td>\n      <td>0.999917</td>\n      <td>0.947800</td>\n      <td>0.612705</td>\n      <td>0.550645</td>\n      <td>0.580019</td>\n    </tr>\n    <tr>\n      <th>7</th>\n      <td>RandomForest</td>\n      <td>ADASYN clean</td>\n      <td>0.999918</td>\n      <td>0.999946</td>\n      <td>0.999893</td>\n      <td>0.999920</td>\n      <td>0.945630</td>\n      <td>0.591633</td>\n      <td>0.546961</td>\n      <td>0.568421</td>\n    </tr>\n    <tr>\n      <th>21</th>\n      <td>XGBClassifier</td>\n      <td>ADASYN clean</td>\n      <td>0.942083</td>\n      <td>0.974452</td>\n      <td>0.909788</td>\n      <td>0.941010</td>\n      <td>0.937673</td>\n      <td>0.523810</td>\n      <td>0.526703</td>\n      <td>0.525253</td>\n    </tr>\n    <tr>\n      <th>19</th>\n      <td>XGBClassifier</td>\n      <td>BorderlineSMOTE clean</td>\n      <td>0.947418</td>\n      <td>0.975273</td>\n      <td>0.918113</td>\n      <td>0.945830</td>\n      <td>0.940567</td>\n      <td>0.549213</td>\n      <td>0.513812</td>\n      <td>0.530923</td>\n    </tr>\n    <tr>\n      <th>44</th>\n      <td>LGBMClassifier</td>\n      <td>ADASYN base</td>\n      <td>0.970423</td>\n      <td>0.979158</td>\n      <td>0.960691</td>\n      <td>0.969836</td>\n      <td>0.940738</td>\n      <td>0.573284</td>\n      <td>0.511589</td>\n      <td>0.540682</td>\n    </tr>\n    <tr>\n      <th>40</th>\n      <td>LGBMClassifier</td>\n      <td>SMOTE base</td>\n      <td>0.970278</td>\n      <td>0.979058</td>\n      <td>0.961115</td>\n      <td>0.970003</td>\n      <td>0.940738</td>\n      <td>0.573832</td>\n      <td>0.508278</td>\n      <td>0.539069</td>\n    </tr>\n    <tr>\n      <th>17</th>\n      <td>XGBClassifier</td>\n      <td>SMOTE clean</td>\n      <td>0.942248</td>\n      <td>0.974379</td>\n      <td>0.908382</td>\n      <td>0.940224</td>\n      <td>0.937553</td>\n      <td>0.524178</td>\n      <td>0.499079</td>\n      <td>0.511321</td>\n    </tr>\n    <tr>\n      <th>42</th>\n      <td>LGBMClassifier</td>\n      <td>BorderlineSMOTE base</td>\n      <td>0.976975</td>\n      <td>0.984803</td>\n      <td>0.968903</td>\n      <td>0.976788</td>\n      <td>0.945366</td>\n      <td>0.631004</td>\n      <td>0.478477</td>\n      <td>0.544256</td>\n    </tr>\n    <tr>\n      <th>28</th>\n      <td>CatBoostClassifier</td>\n      <td>SMOTE base</td>\n      <td>0.931705</td>\n      <td>0.959699</td>\n      <td>0.901256</td>\n      <td>0.929560</td>\n      <td>0.928434</td>\n      <td>0.475248</td>\n      <td>0.476821</td>\n      <td>0.476033</td>\n    </tr>\n    <tr>\n      <th>32</th>\n      <td>CatBoostClassifier</td>\n      <td>ADASYN base</td>\n      <td>0.930778</td>\n      <td>0.959423</td>\n      <td>0.898125</td>\n      <td>0.927762</td>\n      <td>0.930579</td>\n      <td>0.490401</td>\n      <td>0.465232</td>\n      <td>0.477485</td>\n    </tr>\n    <tr>\n      <th>30</th>\n      <td>CatBoostClassifier</td>\n      <td>BorderlineSMOTE base</td>\n      <td>0.954600</td>\n      <td>0.967687</td>\n      <td>0.940608</td>\n      <td>0.953956</td>\n      <td>0.933965</td>\n      <td>0.517958</td>\n      <td>0.453642</td>\n      <td>0.483672</td>\n    </tr>\n    <tr>\n      <th>1</th>\n      <td>RandomForest</td>\n      <td>clean</td>\n      <td>0.999845</td>\n      <td>1.000000</td>\n      <td>0.997634</td>\n      <td>0.998816</td>\n      <td>0.955395</td>\n      <td>0.774603</td>\n      <td>0.449355</td>\n      <td>0.568765</td>\n    </tr>\n    <tr>\n      <th>10</th>\n      <td>RandomForest</td>\n      <td>TomekLink base</td>\n      <td>0.999844</td>\n      <td>1.000000</td>\n      <td>0.997634</td>\n      <td>0.998816</td>\n      <td>0.955515</td>\n      <td>0.786184</td>\n      <td>0.440147</td>\n      <td>0.564345</td>\n    </tr>\n    <tr>\n      <th>11</th>\n      <td>RandomForest</td>\n      <td>TomekLink clean</td>\n      <td>0.999793</td>\n      <td>1.000000</td>\n      <td>0.996845</td>\n      <td>0.998420</td>\n      <td>0.954430</td>\n      <td>0.770492</td>\n      <td>0.432781</td>\n      <td>0.554245</td>\n    </tr>\n    <tr>\n      <th>16</th>\n      <td>XGBClassifier</td>\n      <td>SMOTE base</td>\n      <td>0.968877</td>\n      <td>0.990869</td>\n      <td>0.946475</td>\n      <td>0.968163</td>\n      <td>0.944463</td>\n      <td>0.636585</td>\n      <td>0.432119</td>\n      <td>0.514793</td>\n    </tr>\n    <tr>\n      <th>2</th>\n      <td>RandomForest</td>\n      <td>SMOTE base</td>\n      <td>0.999922</td>\n      <td>0.999948</td>\n      <td>0.999896</td>\n      <td>0.999922</td>\n      <td>0.952478</td>\n      <td>0.776435</td>\n      <td>0.425497</td>\n      <td>0.549733</td>\n    </tr>\n    <tr>\n      <th>0</th>\n      <td>RandomForest</td>\n      <td>base</td>\n      <td>0.999855</td>\n      <td>1.000000</td>\n      <td>0.997871</td>\n      <td>0.998934</td>\n      <td>0.956316</td>\n      <td>0.867797</td>\n      <td>0.423841</td>\n      <td>0.569522</td>\n    </tr>\n    <tr>\n      <th>6</th>\n      <td>RandomForest</td>\n      <td>ADASYN base</td>\n      <td>0.999921</td>\n      <td>0.999947</td>\n      <td>0.999894</td>\n      <td>0.999921</td>\n      <td>0.950672</td>\n      <td>0.749254</td>\n      <td>0.415563</td>\n      <td>0.534611</td>\n    </tr>\n    <tr>\n      <th>18</th>\n      <td>XGBClassifier</td>\n      <td>BorderlineSMOTE base</td>\n      <td>0.978169</td>\n      <td>0.993252</td>\n      <td>0.962880</td>\n      <td>0.977830</td>\n      <td>0.947511</td>\n      <td>0.692521</td>\n      <td>0.413907</td>\n      <td>0.518135</td>\n    </tr>\n    <tr>\n      <th>20</th>\n      <td>XGBClassifier</td>\n      <td>ADASYN base</td>\n      <td>0.969427</td>\n      <td>0.990364</td>\n      <td>0.947446</td>\n      <td>0.968430</td>\n      <td>0.942996</td>\n      <td>0.625954</td>\n      <td>0.407285</td>\n      <td>0.493480</td>\n    </tr>\n    <tr>\n      <th>38</th>\n      <td>LGBMClassifier</td>\n      <td>base</td>\n      <td>0.964298</td>\n      <td>0.944371</td>\n      <td>0.506033</td>\n      <td>0.658965</td>\n      <td>0.948301</td>\n      <td>0.753472</td>\n      <td>0.359272</td>\n      <td>0.486547</td>\n    </tr>\n    <tr>\n      <th>14</th>\n      <td>XGBClassifier</td>\n      <td>base</td>\n      <td>0.965120</td>\n      <td>0.972527</td>\n      <td>0.502484</td>\n      <td>0.662611</td>\n      <td>0.951010</td>\n      <td>0.824427</td>\n      <td>0.357616</td>\n      <td>0.498845</td>\n    </tr>\n    <tr>\n      <th>4</th>\n      <td>RandomForest</td>\n      <td>BorderlineSMOTE base</td>\n      <td>0.999922</td>\n      <td>0.999948</td>\n      <td>0.999896</td>\n      <td>0.999922</td>\n      <td>0.951913</td>\n      <td>0.886957</td>\n      <td>0.337748</td>\n      <td>0.489209</td>\n    </tr>\n    <tr>\n      <th>48</th>\n      <td>LGBMClassifier</td>\n      <td>TomekLink base</td>\n      <td>0.960342</td>\n      <td>0.926995</td>\n      <td>0.430599</td>\n      <td>0.588045</td>\n      <td>0.947559</td>\n      <td>0.714286</td>\n      <td>0.331492</td>\n      <td>0.452830</td>\n    </tr>\n    <tr>\n      <th>49</th>\n      <td>LGBMClassifier</td>\n      <td>TomekLink clean</td>\n      <td>0.960342</td>\n      <td>0.926995</td>\n      <td>0.430599</td>\n      <td>0.588045</td>\n      <td>0.947559</td>\n      <td>0.714286</td>\n      <td>0.331492</td>\n      <td>0.452830</td>\n    </tr>\n    <tr>\n      <th>39</th>\n      <td>LGBMClassifier</td>\n      <td>clean</td>\n      <td>0.960938</td>\n      <td>0.929530</td>\n      <td>0.436909</td>\n      <td>0.594421</td>\n      <td>0.946594</td>\n      <td>0.696850</td>\n      <td>0.325967</td>\n      <td>0.444166</td>\n    </tr>\n    <tr>\n      <th>15</th>\n      <td>XGBClassifier</td>\n      <td>clean</td>\n      <td>0.961455</td>\n      <td>0.945392</td>\n      <td>0.436909</td>\n      <td>0.597627</td>\n      <td>0.949367</td>\n      <td>0.783410</td>\n      <td>0.313076</td>\n      <td>0.447368</td>\n    </tr>\n    <tr>\n      <th>24</th>\n      <td>XGBClassifier</td>\n      <td>TomekLink base</td>\n      <td>0.961172</td>\n      <td>0.954466</td>\n      <td>0.429811</td>\n      <td>0.592713</td>\n      <td>0.948764</td>\n      <td>0.780952</td>\n      <td>0.302026</td>\n      <td>0.435591</td>\n    </tr>\n    <tr>\n      <th>25</th>\n      <td>XGBClassifier</td>\n      <td>TomekLink clean</td>\n      <td>0.961172</td>\n      <td>0.954466</td>\n      <td>0.429811</td>\n      <td>0.592713</td>\n      <td>0.948764</td>\n      <td>0.780952</td>\n      <td>0.302026</td>\n      <td>0.435591</td>\n    </tr>\n    <tr>\n      <th>26</th>\n      <td>CatBoostClassifier</td>\n      <td>base</td>\n      <td>0.946834</td>\n      <td>0.914439</td>\n      <td>0.242725</td>\n      <td>0.383623</td>\n      <td>0.945705</td>\n      <td>0.901961</td>\n      <td>0.228477</td>\n      <td>0.364597</td>\n    </tr>\n    <tr>\n      <th>37</th>\n      <td>CatBoostClassifier</td>\n      <td>TomekLink clean</td>\n      <td>0.948834</td>\n      <td>0.916914</td>\n      <td>0.243691</td>\n      <td>0.385047</td>\n      <td>0.945389</td>\n      <td>0.835821</td>\n      <td>0.206262</td>\n      <td>0.330871</td>\n    </tr>\n    <tr>\n      <th>36</th>\n      <td>CatBoostClassifier</td>\n      <td>TomekLink base</td>\n      <td>0.948834</td>\n      <td>0.916914</td>\n      <td>0.243691</td>\n      <td>0.385047</td>\n      <td>0.945389</td>\n      <td>0.835821</td>\n      <td>0.206262</td>\n      <td>0.330871</td>\n    </tr>\n    <tr>\n      <th>27</th>\n      <td>CatBoostClassifier</td>\n      <td>clean</td>\n      <td>0.948693</td>\n      <td>0.920489</td>\n      <td>0.237382</td>\n      <td>0.377429</td>\n      <td>0.945027</td>\n      <td>0.832061</td>\n      <td>0.200737</td>\n      <td>0.323442</td>\n    </tr>\n  </tbody>\n</table>\n</div>"
     },
     "execution_count": 78,
     "metadata": {},
     "output_type": "execute_result"
    }
   ],
   "source": [
    "evaluation.sort_values(by=[\"test_rec\"], ascending=False)"
   ],
   "metadata": {
    "collapsed": false,
    "ExecuteTime": {
     "end_time": "2024-11-14T19:13:20.954144900Z",
     "start_time": "2024-11-14T19:13:20.774398600Z"
    }
   }
  },
  {
   "cell_type": "code",
   "execution_count": 79,
   "outputs": [
    {
     "data": {
      "text/plain": "                   model                variant  train_acc  train_prec  \\\n5           RandomForest  BorderlineSMOTE clean   0.999917    0.999889   \n3           RandomForest            SMOTE clean   0.999917    0.999889   \n0           RandomForest                   base   0.999855    1.000000   \n1           RandomForest                  clean   0.999845    1.000000   \n7           RandomForest           ADASYN clean   0.999918    0.999946   \n10          RandomForest         TomekLink base   0.999844    1.000000   \n11          RandomForest        TomekLink clean   0.999793    1.000000   \n2           RandomForest             SMOTE base   0.999922    0.999948   \n41        LGBMClassifier            SMOTE clean   0.950404    0.962946   \n45        LGBMClassifier           ADASYN clean   0.947798    0.962427   \n43        LGBMClassifier  BorderlineSMOTE clean   0.952366    0.964199   \n42        LGBMClassifier   BorderlineSMOTE base   0.976975    0.984803   \n44        LGBMClassifier            ADASYN base   0.970423    0.979158   \n40        LGBMClassifier             SMOTE base   0.970278    0.979058   \n6           RandomForest            ADASYN base   0.999921    0.999947   \n19         XGBClassifier  BorderlineSMOTE clean   0.947418    0.975273   \n21         XGBClassifier           ADASYN clean   0.942083    0.974452   \n18         XGBClassifier   BorderlineSMOTE base   0.978169    0.993252   \n16         XGBClassifier             SMOTE base   0.968877    0.990869   \n17         XGBClassifier            SMOTE clean   0.942248    0.974379   \n14         XGBClassifier                   base   0.965120    0.972527   \n20         XGBClassifier            ADASYN base   0.969427    0.990364   \n4           RandomForest   BorderlineSMOTE base   0.999922    0.999948   \n38        LGBMClassifier                   base   0.964298    0.944371   \n30    CatBoostClassifier   BorderlineSMOTE base   0.954600    0.967687   \n32    CatBoostClassifier            ADASYN base   0.930778    0.959423   \n28    CatBoostClassifier             SMOTE base   0.931705    0.959699   \n29    CatBoostClassifier            SMOTE clean   0.888450    0.936014   \n31    CatBoostClassifier  BorderlineSMOTE clean   0.888698    0.935025   \n33    CatBoostClassifier           ADASYN clean   0.884437    0.935400   \n48        LGBMClassifier         TomekLink base   0.960342    0.926995   \n49        LGBMClassifier        TomekLink clean   0.960342    0.926995   \n15         XGBClassifier                  clean   0.961455    0.945392   \n39        LGBMClassifier                  clean   0.960938    0.929530   \n25         XGBClassifier        TomekLink clean   0.961172    0.954466   \n24         XGBClassifier         TomekLink base   0.961172    0.954466   \n13  BalancedRandomForest         BALANCED clean   0.891960    0.377420   \n12  BalancedRandomForest          BALANCED base   0.853998    0.318274   \n26    CatBoostClassifier                   base   0.946834    0.914439   \n36    CatBoostClassifier         TomekLink base   0.948834    0.916914   \n37    CatBoostClassifier        TomekLink clean   0.948834    0.916914   \n27    CatBoostClassifier                  clean   0.948693    0.920489   \n9           RandomForest         NearMiss clean   0.998154    1.000000   \n8           RandomForest          NearMiss base   0.998118    0.998582   \n23         XGBClassifier         NearMiss clean   0.871385    0.865424   \n22         XGBClassifier          NearMiss base   0.966123    0.969508   \n46        LGBMClassifier          NearMiss base   0.971142    0.975576   \n34    CatBoostClassifier          NearMiss base   0.915307    0.913100   \n35    CatBoostClassifier         NearMiss clean   0.827692    0.819534   \n47        LGBMClassifier         NearMiss clean   0.814154    0.815274   \n\n    train_rec  train_f1  test_acc  test_prec  test_rec   test_f1  \n5    0.999945  0.999917  0.947800   0.612705  0.550645  0.580019  \n3    0.999945  0.999917  0.945389   0.586873  0.559853  0.573044  \n0    0.997871  0.998934  0.956316   0.867797  0.423841  0.569522  \n1    0.997634  0.998816  0.955395   0.774603  0.449355  0.568765  \n7    0.999893  0.999920  0.945630   0.591633  0.546961  0.568421  \n10   0.997634  0.998816  0.955515   0.786184  0.440147  0.564345  \n11   0.996845  0.998420  0.954430   0.770492  0.432781  0.554245  \n2    0.999896  0.999922  0.952478   0.776435  0.425497  0.549733  \n41   0.936857  0.949723  0.933213   0.491971  0.620626  0.548860  \n45   0.933641  0.947815  0.931887   0.484286  0.624309  0.545455  \n43   0.939622  0.951752  0.932731   0.489019  0.615101  0.544861  \n42   0.968903  0.976788  0.945366   0.631004  0.478477  0.544256  \n44   0.960691  0.969836  0.940738   0.573284  0.511589  0.540682  \n40   0.961115  0.970003  0.940738   0.573832  0.508278  0.539069  \n6    0.999894  0.999921  0.950672   0.749254  0.415563  0.534611  \n19   0.918113  0.945830  0.940567   0.549213  0.513812  0.530923  \n21   0.909788  0.941010  0.937673   0.523810  0.526703  0.525253  \n18   0.962880  0.977830  0.947511   0.692521  0.413907  0.518135  \n16   0.946475  0.968163  0.944463   0.636585  0.432119  0.514793  \n17   0.908382  0.940224  0.937553   0.524178  0.499079  0.511321  \n14   0.502484  0.662611  0.951010   0.824427  0.357616  0.498845  \n20   0.947446  0.968430  0.942996   0.625954  0.407285  0.493480  \n4    0.999896  0.999922  0.951913   0.886957  0.337748  0.489209  \n38   0.506033  0.658965  0.948301   0.753472  0.359272  0.486547  \n30   0.940608  0.953956  0.933965   0.517958  0.453642  0.483672  \n32   0.898125  0.927762  0.930579   0.490401  0.465232  0.477485  \n28   0.901256  0.929560  0.928434   0.475248  0.476821  0.476033  \n29   0.833905  0.882014  0.912236   0.386781  0.581952  0.464706  \n31   0.835453  0.882439  0.911513   0.383961  0.581952  0.462665  \n33   0.829706  0.879389  0.909946   0.379147  0.589319  0.461428  \n48   0.430599  0.588045  0.947559   0.714286  0.331492  0.452830  \n49   0.430599  0.588045  0.947559   0.714286  0.331492  0.452830  \n15   0.436909  0.597627  0.949367   0.783410  0.313076  0.447368  \n39   0.436909  0.594421  0.946594   0.696850  0.325967  0.444166  \n25   0.429811  0.592713  0.948764   0.780952  0.302026  0.435591  \n24   0.429811  0.592713  0.948764   0.780952  0.302026  0.435591  \n13   0.999211  0.547892  0.851236   0.275795  0.782689  0.407869  \n12   1.000000  0.482865  0.811604   0.241630  0.824503  0.373734  \n26   0.242725  0.383623  0.945705   0.901961  0.228477  0.364597  \n36   0.243691  0.385047  0.945389   0.835821  0.206262  0.330871  \n37   0.243691  0.385047  0.945389   0.835821  0.206262  0.330871  \n27   0.237382  0.377429  0.945027   0.832061  0.200737  0.323442  \n9    0.997634  0.998816  0.477034   0.099261  0.865562  0.178098  \n8    0.999290  0.998936  0.229936   0.078840  0.963576  0.145755  \n23   0.988959  0.923077  0.236769   0.076901  0.968692  0.142490  \n22   0.992903  0.981066  0.137600   0.070976  0.963576  0.132213  \n46   0.992193  0.983814  0.138052   0.070801  0.960265  0.131878  \n34   0.999290  0.954253  0.085111   0.069057  0.995033  0.129150  \n35   0.999211  0.900498  0.121037   0.068653  0.988950  0.128392  \n47   0.985016  0.892143  0.126462   0.067827  0.968692  0.126778  ",
      "text/html": "<div>\n<style scoped>\n    .dataframe tbody tr th:only-of-type {\n        vertical-align: middle;\n    }\n\n    .dataframe tbody tr th {\n        vertical-align: top;\n    }\n\n    .dataframe thead th {\n        text-align: right;\n    }\n</style>\n<table border=\"1\" class=\"dataframe\">\n  <thead>\n    <tr style=\"text-align: right;\">\n      <th></th>\n      <th>model</th>\n      <th>variant</th>\n      <th>train_acc</th>\n      <th>train_prec</th>\n      <th>train_rec</th>\n      <th>train_f1</th>\n      <th>test_acc</th>\n      <th>test_prec</th>\n      <th>test_rec</th>\n      <th>test_f1</th>\n    </tr>\n  </thead>\n  <tbody>\n    <tr>\n      <th>5</th>\n      <td>RandomForest</td>\n      <td>BorderlineSMOTE clean</td>\n      <td>0.999917</td>\n      <td>0.999889</td>\n      <td>0.999945</td>\n      <td>0.999917</td>\n      <td>0.947800</td>\n      <td>0.612705</td>\n      <td>0.550645</td>\n      <td>0.580019</td>\n    </tr>\n    <tr>\n      <th>3</th>\n      <td>RandomForest</td>\n      <td>SMOTE clean</td>\n      <td>0.999917</td>\n      <td>0.999889</td>\n      <td>0.999945</td>\n      <td>0.999917</td>\n      <td>0.945389</td>\n      <td>0.586873</td>\n      <td>0.559853</td>\n      <td>0.573044</td>\n    </tr>\n    <tr>\n      <th>0</th>\n      <td>RandomForest</td>\n      <td>base</td>\n      <td>0.999855</td>\n      <td>1.000000</td>\n      <td>0.997871</td>\n      <td>0.998934</td>\n      <td>0.956316</td>\n      <td>0.867797</td>\n      <td>0.423841</td>\n      <td>0.569522</td>\n    </tr>\n    <tr>\n      <th>1</th>\n      <td>RandomForest</td>\n      <td>clean</td>\n      <td>0.999845</td>\n      <td>1.000000</td>\n      <td>0.997634</td>\n      <td>0.998816</td>\n      <td>0.955395</td>\n      <td>0.774603</td>\n      <td>0.449355</td>\n      <td>0.568765</td>\n    </tr>\n    <tr>\n      <th>7</th>\n      <td>RandomForest</td>\n      <td>ADASYN clean</td>\n      <td>0.999918</td>\n      <td>0.999946</td>\n      <td>0.999893</td>\n      <td>0.999920</td>\n      <td>0.945630</td>\n      <td>0.591633</td>\n      <td>0.546961</td>\n      <td>0.568421</td>\n    </tr>\n    <tr>\n      <th>10</th>\n      <td>RandomForest</td>\n      <td>TomekLink base</td>\n      <td>0.999844</td>\n      <td>1.000000</td>\n      <td>0.997634</td>\n      <td>0.998816</td>\n      <td>0.955515</td>\n      <td>0.786184</td>\n      <td>0.440147</td>\n      <td>0.564345</td>\n    </tr>\n    <tr>\n      <th>11</th>\n      <td>RandomForest</td>\n      <td>TomekLink clean</td>\n      <td>0.999793</td>\n      <td>1.000000</td>\n      <td>0.996845</td>\n      <td>0.998420</td>\n      <td>0.954430</td>\n      <td>0.770492</td>\n      <td>0.432781</td>\n      <td>0.554245</td>\n    </tr>\n    <tr>\n      <th>2</th>\n      <td>RandomForest</td>\n      <td>SMOTE base</td>\n      <td>0.999922</td>\n      <td>0.999948</td>\n      <td>0.999896</td>\n      <td>0.999922</td>\n      <td>0.952478</td>\n      <td>0.776435</td>\n      <td>0.425497</td>\n      <td>0.549733</td>\n    </tr>\n    <tr>\n      <th>41</th>\n      <td>LGBMClassifier</td>\n      <td>SMOTE clean</td>\n      <td>0.950404</td>\n      <td>0.962946</td>\n      <td>0.936857</td>\n      <td>0.949723</td>\n      <td>0.933213</td>\n      <td>0.491971</td>\n      <td>0.620626</td>\n      <td>0.548860</td>\n    </tr>\n    <tr>\n      <th>45</th>\n      <td>LGBMClassifier</td>\n      <td>ADASYN clean</td>\n      <td>0.947798</td>\n      <td>0.962427</td>\n      <td>0.933641</td>\n      <td>0.947815</td>\n      <td>0.931887</td>\n      <td>0.484286</td>\n      <td>0.624309</td>\n      <td>0.545455</td>\n    </tr>\n    <tr>\n      <th>43</th>\n      <td>LGBMClassifier</td>\n      <td>BorderlineSMOTE clean</td>\n      <td>0.952366</td>\n      <td>0.964199</td>\n      <td>0.939622</td>\n      <td>0.951752</td>\n      <td>0.932731</td>\n      <td>0.489019</td>\n      <td>0.615101</td>\n      <td>0.544861</td>\n    </tr>\n    <tr>\n      <th>42</th>\n      <td>LGBMClassifier</td>\n      <td>BorderlineSMOTE base</td>\n      <td>0.976975</td>\n      <td>0.984803</td>\n      <td>0.968903</td>\n      <td>0.976788</td>\n      <td>0.945366</td>\n      <td>0.631004</td>\n      <td>0.478477</td>\n      <td>0.544256</td>\n    </tr>\n    <tr>\n      <th>44</th>\n      <td>LGBMClassifier</td>\n      <td>ADASYN base</td>\n      <td>0.970423</td>\n      <td>0.979158</td>\n      <td>0.960691</td>\n      <td>0.969836</td>\n      <td>0.940738</td>\n      <td>0.573284</td>\n      <td>0.511589</td>\n      <td>0.540682</td>\n    </tr>\n    <tr>\n      <th>40</th>\n      <td>LGBMClassifier</td>\n      <td>SMOTE base</td>\n      <td>0.970278</td>\n      <td>0.979058</td>\n      <td>0.961115</td>\n      <td>0.970003</td>\n      <td>0.940738</td>\n      <td>0.573832</td>\n      <td>0.508278</td>\n      <td>0.539069</td>\n    </tr>\n    <tr>\n      <th>6</th>\n      <td>RandomForest</td>\n      <td>ADASYN base</td>\n      <td>0.999921</td>\n      <td>0.999947</td>\n      <td>0.999894</td>\n      <td>0.999921</td>\n      <td>0.950672</td>\n      <td>0.749254</td>\n      <td>0.415563</td>\n      <td>0.534611</td>\n    </tr>\n    <tr>\n      <th>19</th>\n      <td>XGBClassifier</td>\n      <td>BorderlineSMOTE clean</td>\n      <td>0.947418</td>\n      <td>0.975273</td>\n      <td>0.918113</td>\n      <td>0.945830</td>\n      <td>0.940567</td>\n      <td>0.549213</td>\n      <td>0.513812</td>\n      <td>0.530923</td>\n    </tr>\n    <tr>\n      <th>21</th>\n      <td>XGBClassifier</td>\n      <td>ADASYN clean</td>\n      <td>0.942083</td>\n      <td>0.974452</td>\n      <td>0.909788</td>\n      <td>0.941010</td>\n      <td>0.937673</td>\n      <td>0.523810</td>\n      <td>0.526703</td>\n      <td>0.525253</td>\n    </tr>\n    <tr>\n      <th>18</th>\n      <td>XGBClassifier</td>\n      <td>BorderlineSMOTE base</td>\n      <td>0.978169</td>\n      <td>0.993252</td>\n      <td>0.962880</td>\n      <td>0.977830</td>\n      <td>0.947511</td>\n      <td>0.692521</td>\n      <td>0.413907</td>\n      <td>0.518135</td>\n    </tr>\n    <tr>\n      <th>16</th>\n      <td>XGBClassifier</td>\n      <td>SMOTE base</td>\n      <td>0.968877</td>\n      <td>0.990869</td>\n      <td>0.946475</td>\n      <td>0.968163</td>\n      <td>0.944463</td>\n      <td>0.636585</td>\n      <td>0.432119</td>\n      <td>0.514793</td>\n    </tr>\n    <tr>\n      <th>17</th>\n      <td>XGBClassifier</td>\n      <td>SMOTE clean</td>\n      <td>0.942248</td>\n      <td>0.974379</td>\n      <td>0.908382</td>\n      <td>0.940224</td>\n      <td>0.937553</td>\n      <td>0.524178</td>\n      <td>0.499079</td>\n      <td>0.511321</td>\n    </tr>\n    <tr>\n      <th>14</th>\n      <td>XGBClassifier</td>\n      <td>base</td>\n      <td>0.965120</td>\n      <td>0.972527</td>\n      <td>0.502484</td>\n      <td>0.662611</td>\n      <td>0.951010</td>\n      <td>0.824427</td>\n      <td>0.357616</td>\n      <td>0.498845</td>\n    </tr>\n    <tr>\n      <th>20</th>\n      <td>XGBClassifier</td>\n      <td>ADASYN base</td>\n      <td>0.969427</td>\n      <td>0.990364</td>\n      <td>0.947446</td>\n      <td>0.968430</td>\n      <td>0.942996</td>\n      <td>0.625954</td>\n      <td>0.407285</td>\n      <td>0.493480</td>\n    </tr>\n    <tr>\n      <th>4</th>\n      <td>RandomForest</td>\n      <td>BorderlineSMOTE base</td>\n      <td>0.999922</td>\n      <td>0.999948</td>\n      <td>0.999896</td>\n      <td>0.999922</td>\n      <td>0.951913</td>\n      <td>0.886957</td>\n      <td>0.337748</td>\n      <td>0.489209</td>\n    </tr>\n    <tr>\n      <th>38</th>\n      <td>LGBMClassifier</td>\n      <td>base</td>\n      <td>0.964298</td>\n      <td>0.944371</td>\n      <td>0.506033</td>\n      <td>0.658965</td>\n      <td>0.948301</td>\n      <td>0.753472</td>\n      <td>0.359272</td>\n      <td>0.486547</td>\n    </tr>\n    <tr>\n      <th>30</th>\n      <td>CatBoostClassifier</td>\n      <td>BorderlineSMOTE base</td>\n      <td>0.954600</td>\n      <td>0.967687</td>\n      <td>0.940608</td>\n      <td>0.953956</td>\n      <td>0.933965</td>\n      <td>0.517958</td>\n      <td>0.453642</td>\n      <td>0.483672</td>\n    </tr>\n    <tr>\n      <th>32</th>\n      <td>CatBoostClassifier</td>\n      <td>ADASYN base</td>\n      <td>0.930778</td>\n      <td>0.959423</td>\n      <td>0.898125</td>\n      <td>0.927762</td>\n      <td>0.930579</td>\n      <td>0.490401</td>\n      <td>0.465232</td>\n      <td>0.477485</td>\n    </tr>\n    <tr>\n      <th>28</th>\n      <td>CatBoostClassifier</td>\n      <td>SMOTE base</td>\n      <td>0.931705</td>\n      <td>0.959699</td>\n      <td>0.901256</td>\n      <td>0.929560</td>\n      <td>0.928434</td>\n      <td>0.475248</td>\n      <td>0.476821</td>\n      <td>0.476033</td>\n    </tr>\n    <tr>\n      <th>29</th>\n      <td>CatBoostClassifier</td>\n      <td>SMOTE clean</td>\n      <td>0.888450</td>\n      <td>0.936014</td>\n      <td>0.833905</td>\n      <td>0.882014</td>\n      <td>0.912236</td>\n      <td>0.386781</td>\n      <td>0.581952</td>\n      <td>0.464706</td>\n    </tr>\n    <tr>\n      <th>31</th>\n      <td>CatBoostClassifier</td>\n      <td>BorderlineSMOTE clean</td>\n      <td>0.888698</td>\n      <td>0.935025</td>\n      <td>0.835453</td>\n      <td>0.882439</td>\n      <td>0.911513</td>\n      <td>0.383961</td>\n      <td>0.581952</td>\n      <td>0.462665</td>\n    </tr>\n    <tr>\n      <th>33</th>\n      <td>CatBoostClassifier</td>\n      <td>ADASYN clean</td>\n      <td>0.884437</td>\n      <td>0.935400</td>\n      <td>0.829706</td>\n      <td>0.879389</td>\n      <td>0.909946</td>\n      <td>0.379147</td>\n      <td>0.589319</td>\n      <td>0.461428</td>\n    </tr>\n    <tr>\n      <th>48</th>\n      <td>LGBMClassifier</td>\n      <td>TomekLink base</td>\n      <td>0.960342</td>\n      <td>0.926995</td>\n      <td>0.430599</td>\n      <td>0.588045</td>\n      <td>0.947559</td>\n      <td>0.714286</td>\n      <td>0.331492</td>\n      <td>0.452830</td>\n    </tr>\n    <tr>\n      <th>49</th>\n      <td>LGBMClassifier</td>\n      <td>TomekLink clean</td>\n      <td>0.960342</td>\n      <td>0.926995</td>\n      <td>0.430599</td>\n      <td>0.588045</td>\n      <td>0.947559</td>\n      <td>0.714286</td>\n      <td>0.331492</td>\n      <td>0.452830</td>\n    </tr>\n    <tr>\n      <th>15</th>\n      <td>XGBClassifier</td>\n      <td>clean</td>\n      <td>0.961455</td>\n      <td>0.945392</td>\n      <td>0.436909</td>\n      <td>0.597627</td>\n      <td>0.949367</td>\n      <td>0.783410</td>\n      <td>0.313076</td>\n      <td>0.447368</td>\n    </tr>\n    <tr>\n      <th>39</th>\n      <td>LGBMClassifier</td>\n      <td>clean</td>\n      <td>0.960938</td>\n      <td>0.929530</td>\n      <td>0.436909</td>\n      <td>0.594421</td>\n      <td>0.946594</td>\n      <td>0.696850</td>\n      <td>0.325967</td>\n      <td>0.444166</td>\n    </tr>\n    <tr>\n      <th>25</th>\n      <td>XGBClassifier</td>\n      <td>TomekLink clean</td>\n      <td>0.961172</td>\n      <td>0.954466</td>\n      <td>0.429811</td>\n      <td>0.592713</td>\n      <td>0.948764</td>\n      <td>0.780952</td>\n      <td>0.302026</td>\n      <td>0.435591</td>\n    </tr>\n    <tr>\n      <th>24</th>\n      <td>XGBClassifier</td>\n      <td>TomekLink base</td>\n      <td>0.961172</td>\n      <td>0.954466</td>\n      <td>0.429811</td>\n      <td>0.592713</td>\n      <td>0.948764</td>\n      <td>0.780952</td>\n      <td>0.302026</td>\n      <td>0.435591</td>\n    </tr>\n    <tr>\n      <th>13</th>\n      <td>BalancedRandomForest</td>\n      <td>BALANCED clean</td>\n      <td>0.891960</td>\n      <td>0.377420</td>\n      <td>0.999211</td>\n      <td>0.547892</td>\n      <td>0.851236</td>\n      <td>0.275795</td>\n      <td>0.782689</td>\n      <td>0.407869</td>\n    </tr>\n    <tr>\n      <th>12</th>\n      <td>BalancedRandomForest</td>\n      <td>BALANCED base</td>\n      <td>0.853998</td>\n      <td>0.318274</td>\n      <td>1.000000</td>\n      <td>0.482865</td>\n      <td>0.811604</td>\n      <td>0.241630</td>\n      <td>0.824503</td>\n      <td>0.373734</td>\n    </tr>\n    <tr>\n      <th>26</th>\n      <td>CatBoostClassifier</td>\n      <td>base</td>\n      <td>0.946834</td>\n      <td>0.914439</td>\n      <td>0.242725</td>\n      <td>0.383623</td>\n      <td>0.945705</td>\n      <td>0.901961</td>\n      <td>0.228477</td>\n      <td>0.364597</td>\n    </tr>\n    <tr>\n      <th>36</th>\n      <td>CatBoostClassifier</td>\n      <td>TomekLink base</td>\n      <td>0.948834</td>\n      <td>0.916914</td>\n      <td>0.243691</td>\n      <td>0.385047</td>\n      <td>0.945389</td>\n      <td>0.835821</td>\n      <td>0.206262</td>\n      <td>0.330871</td>\n    </tr>\n    <tr>\n      <th>37</th>\n      <td>CatBoostClassifier</td>\n      <td>TomekLink clean</td>\n      <td>0.948834</td>\n      <td>0.916914</td>\n      <td>0.243691</td>\n      <td>0.385047</td>\n      <td>0.945389</td>\n      <td>0.835821</td>\n      <td>0.206262</td>\n      <td>0.330871</td>\n    </tr>\n    <tr>\n      <th>27</th>\n      <td>CatBoostClassifier</td>\n      <td>clean</td>\n      <td>0.948693</td>\n      <td>0.920489</td>\n      <td>0.237382</td>\n      <td>0.377429</td>\n      <td>0.945027</td>\n      <td>0.832061</td>\n      <td>0.200737</td>\n      <td>0.323442</td>\n    </tr>\n    <tr>\n      <th>9</th>\n      <td>RandomForest</td>\n      <td>NearMiss clean</td>\n      <td>0.998154</td>\n      <td>1.000000</td>\n      <td>0.997634</td>\n      <td>0.998816</td>\n      <td>0.477034</td>\n      <td>0.099261</td>\n      <td>0.865562</td>\n      <td>0.178098</td>\n    </tr>\n    <tr>\n      <th>8</th>\n      <td>RandomForest</td>\n      <td>NearMiss base</td>\n      <td>0.998118</td>\n      <td>0.998582</td>\n      <td>0.999290</td>\n      <td>0.998936</td>\n      <td>0.229936</td>\n      <td>0.078840</td>\n      <td>0.963576</td>\n      <td>0.145755</td>\n    </tr>\n    <tr>\n      <th>23</th>\n      <td>XGBClassifier</td>\n      <td>NearMiss clean</td>\n      <td>0.871385</td>\n      <td>0.865424</td>\n      <td>0.988959</td>\n      <td>0.923077</td>\n      <td>0.236769</td>\n      <td>0.076901</td>\n      <td>0.968692</td>\n      <td>0.142490</td>\n    </tr>\n    <tr>\n      <th>22</th>\n      <td>XGBClassifier</td>\n      <td>NearMiss base</td>\n      <td>0.966123</td>\n      <td>0.969508</td>\n      <td>0.992903</td>\n      <td>0.981066</td>\n      <td>0.137600</td>\n      <td>0.070976</td>\n      <td>0.963576</td>\n      <td>0.132213</td>\n    </tr>\n    <tr>\n      <th>46</th>\n      <td>LGBMClassifier</td>\n      <td>NearMiss base</td>\n      <td>0.971142</td>\n      <td>0.975576</td>\n      <td>0.992193</td>\n      <td>0.983814</td>\n      <td>0.138052</td>\n      <td>0.070801</td>\n      <td>0.960265</td>\n      <td>0.131878</td>\n    </tr>\n    <tr>\n      <th>34</th>\n      <td>CatBoostClassifier</td>\n      <td>NearMiss base</td>\n      <td>0.915307</td>\n      <td>0.913100</td>\n      <td>0.999290</td>\n      <td>0.954253</td>\n      <td>0.085111</td>\n      <td>0.069057</td>\n      <td>0.995033</td>\n      <td>0.129150</td>\n    </tr>\n    <tr>\n      <th>35</th>\n      <td>CatBoostClassifier</td>\n      <td>NearMiss clean</td>\n      <td>0.827692</td>\n      <td>0.819534</td>\n      <td>0.999211</td>\n      <td>0.900498</td>\n      <td>0.121037</td>\n      <td>0.068653</td>\n      <td>0.988950</td>\n      <td>0.128392</td>\n    </tr>\n    <tr>\n      <th>47</th>\n      <td>LGBMClassifier</td>\n      <td>NearMiss clean</td>\n      <td>0.814154</td>\n      <td>0.815274</td>\n      <td>0.985016</td>\n      <td>0.892143</td>\n      <td>0.126462</td>\n      <td>0.067827</td>\n      <td>0.968692</td>\n      <td>0.126778</td>\n    </tr>\n  </tbody>\n</table>\n</div>"
     },
     "execution_count": 79,
     "metadata": {},
     "output_type": "execute_result"
    }
   ],
   "source": [
    "evaluation.sort_values(by=[\"test_f1\"], ascending=False)"
   ],
   "metadata": {
    "collapsed": false,
    "ExecuteTime": {
     "end_time": "2024-11-14T19:13:20.964280600Z",
     "start_time": "2024-11-14T19:13:20.812825900Z"
    }
   }
  },
  {
   "cell_type": "markdown",
   "source": [
    "#### 3. Einfache SVM / Bayes-Classifier zum Vergleich"
   ],
   "metadata": {
    "collapsed": false
   }
  },
  {
   "cell_type": "markdown",
   "source": [
    "##### 3.1 LinearSVC"
   ],
   "metadata": {
    "collapsed": false
   }
  },
  {
   "cell_type": "code",
   "execution_count": 80,
   "outputs": [],
   "source": [
    "svc = LinearSVC()"
   ],
   "metadata": {
    "collapsed": false,
    "ExecuteTime": {
     "end_time": "2024-11-14T19:13:20.964280600Z",
     "start_time": "2024-11-14T19:13:20.853266300Z"
    }
   }
  },
  {
   "cell_type": "code",
   "execution_count": 81,
   "outputs": [
    {
     "name": "stdout",
     "output_type": "stream",
     "text": [
      "Starting model fitting.\n",
      "1/12 Fitting:  LinearSVC BASE started...\n",
      "Fitting:  LinearSVC finished. Elapsed time:  0 Seconds\n",
      "2/12 Fitting:  LinearSVC CLEAN started...\n",
      "Fitting:  LinearSVC finished. Elapsed time:  0 Seconds\n",
      "3/12 Fitting:  LinearSVC SMOTE-base started...\n",
      "Fitting:  LinearSVC finished. Elapsed time:  0 Seconds\n",
      "4/12 Fitting:  LinearSVC SMOTE-clean started...\n",
      "Fitting:  LinearSVC finished. Elapsed time:  0 Seconds\n",
      "5/12 Fitting:  LinearSVC BorderlineSMOTE-base started...\n",
      "Fitting:  LinearSVC finished. Elapsed time:  0 Seconds\n",
      "6/12 Fitting:  LinearSVC BorderlineSMOTE-clean started...\n",
      "Fitting:  LinearSVC finished. Elapsed time:  0 Seconds\n",
      "7/12 Fitting:  LinearSVC ADASYN-base started...\n",
      "Fitting:  LinearSVC finished. Elapsed time:  0 Seconds\n",
      "8/12 Fitting:  LinearSVC ADASYN-clean started...\n",
      "Fitting:  LinearSVC finished. Elapsed time:  0 Seconds\n",
      "9/12 Fitting:  LinearSVC NearMiss-base started...\n",
      "Fitting:  LinearSVC finished. Elapsed time:  0 Seconds\n",
      "10/12 Fitting:  LinearSVC NearMiss-clean started...\n",
      "Fitting:  LinearSVC finished. Elapsed time:  0 Seconds\n",
      "11/12 Fitting:  LinearSVC TomekLink-base started...\n",
      "Fitting:  LinearSVC finished. Elapsed time:  0 Seconds\n",
      "12/12 Fitting:  LinearSVC TomekLink-clean started...\n",
      "Fitting:  LinearSVC finished. Elapsed time:  0 Seconds\n",
      "Model fitting finished.\n"
     ]
    }
   ],
   "source": [
    "fit_model(svc, \"LinearSVC\")"
   ],
   "metadata": {
    "collapsed": false,
    "ExecuteTime": {
     "end_time": "2024-11-14T19:13:22.281150400Z",
     "start_time": "2024-11-14T19:13:20.875478500Z"
    }
   }
  },
  {
   "cell_type": "code",
   "execution_count": 82,
   "outputs": [
    {
     "data": {
      "text/plain": "        model                variant  train_acc  train_prec  train_rec  \\\n50  LinearSVC                   base   0.980891    0.967712   0.744500   \n51  LinearSVC                  clean   0.981089    0.956478   0.745268   \n60  LinearSVC         TomekLink base   0.981804    0.962664   0.752366   \n61  LinearSVC        TomekLink clean   0.981804    0.962664   0.752366   \n54  LinearSVC   BorderlineSMOTE base   0.989695    0.990841   0.988527   \n52  LinearSVC             SMOTE base   0.988319    0.978482   0.998598   \n56  LinearSVC            ADASYN base   0.988358    0.977661   0.999311   \n53  LinearSVC            SMOTE clean   0.983274    0.970552   0.996793   \n55  LinearSVC  BorderlineSMOTE clean   0.983440    0.970815   0.996848   \n57  LinearSVC           ADASYN clean   0.983017    0.969828   0.997588   \n59  LinearSVC         NearMiss clean   0.960615    0.961656   0.988959   \n58  LinearSVC          NearMiss base   0.975533    0.977019   0.995742   \n\n    train_f1  test_acc  test_prec  test_rec   test_f1  \n50  0.841556  0.957896   0.800000  0.509934  0.622851  \n51  0.837766  0.954430   0.733711  0.476980  0.578125  \n60  0.844622  0.954430   0.731092  0.480663  0.580000  \n61  0.844622  0.954430   0.731092  0.480663  0.580000  \n54  0.989683  0.946608   0.611205  0.596026  0.603521  \n52  0.988438  0.934417   0.513973  0.700331  0.592852  \n56  0.988368  0.933288   0.507729  0.706954  0.591003  \n53  0.983497  0.911031   0.396166  0.685083  0.502024  \n55  0.983659  0.910910   0.394850  0.677716  0.498983  \n57  0.983512  0.907052   0.382474  0.683241  0.490416  \n59  0.975117  0.351658   0.087246  0.941068  0.159688  \n58  0.986292  0.165594   0.074473  0.983444  0.138462  ",
      "text/html": "<div>\n<style scoped>\n    .dataframe tbody tr th:only-of-type {\n        vertical-align: middle;\n    }\n\n    .dataframe tbody tr th {\n        vertical-align: top;\n    }\n\n    .dataframe thead th {\n        text-align: right;\n    }\n</style>\n<table border=\"1\" class=\"dataframe\">\n  <thead>\n    <tr style=\"text-align: right;\">\n      <th></th>\n      <th>model</th>\n      <th>variant</th>\n      <th>train_acc</th>\n      <th>train_prec</th>\n      <th>train_rec</th>\n      <th>train_f1</th>\n      <th>test_acc</th>\n      <th>test_prec</th>\n      <th>test_rec</th>\n      <th>test_f1</th>\n    </tr>\n  </thead>\n  <tbody>\n    <tr>\n      <th>50</th>\n      <td>LinearSVC</td>\n      <td>base</td>\n      <td>0.980891</td>\n      <td>0.967712</td>\n      <td>0.744500</td>\n      <td>0.841556</td>\n      <td>0.957896</td>\n      <td>0.800000</td>\n      <td>0.509934</td>\n      <td>0.622851</td>\n    </tr>\n    <tr>\n      <th>51</th>\n      <td>LinearSVC</td>\n      <td>clean</td>\n      <td>0.981089</td>\n      <td>0.956478</td>\n      <td>0.745268</td>\n      <td>0.837766</td>\n      <td>0.954430</td>\n      <td>0.733711</td>\n      <td>0.476980</td>\n      <td>0.578125</td>\n    </tr>\n    <tr>\n      <th>60</th>\n      <td>LinearSVC</td>\n      <td>TomekLink base</td>\n      <td>0.981804</td>\n      <td>0.962664</td>\n      <td>0.752366</td>\n      <td>0.844622</td>\n      <td>0.954430</td>\n      <td>0.731092</td>\n      <td>0.480663</td>\n      <td>0.580000</td>\n    </tr>\n    <tr>\n      <th>61</th>\n      <td>LinearSVC</td>\n      <td>TomekLink clean</td>\n      <td>0.981804</td>\n      <td>0.962664</td>\n      <td>0.752366</td>\n      <td>0.844622</td>\n      <td>0.954430</td>\n      <td>0.731092</td>\n      <td>0.480663</td>\n      <td>0.580000</td>\n    </tr>\n    <tr>\n      <th>54</th>\n      <td>LinearSVC</td>\n      <td>BorderlineSMOTE base</td>\n      <td>0.989695</td>\n      <td>0.990841</td>\n      <td>0.988527</td>\n      <td>0.989683</td>\n      <td>0.946608</td>\n      <td>0.611205</td>\n      <td>0.596026</td>\n      <td>0.603521</td>\n    </tr>\n    <tr>\n      <th>52</th>\n      <td>LinearSVC</td>\n      <td>SMOTE base</td>\n      <td>0.988319</td>\n      <td>0.978482</td>\n      <td>0.998598</td>\n      <td>0.988438</td>\n      <td>0.934417</td>\n      <td>0.513973</td>\n      <td>0.700331</td>\n      <td>0.592852</td>\n    </tr>\n    <tr>\n      <th>56</th>\n      <td>LinearSVC</td>\n      <td>ADASYN base</td>\n      <td>0.988358</td>\n      <td>0.977661</td>\n      <td>0.999311</td>\n      <td>0.988368</td>\n      <td>0.933288</td>\n      <td>0.507729</td>\n      <td>0.706954</td>\n      <td>0.591003</td>\n    </tr>\n    <tr>\n      <th>53</th>\n      <td>LinearSVC</td>\n      <td>SMOTE clean</td>\n      <td>0.983274</td>\n      <td>0.970552</td>\n      <td>0.996793</td>\n      <td>0.983497</td>\n      <td>0.911031</td>\n      <td>0.396166</td>\n      <td>0.685083</td>\n      <td>0.502024</td>\n    </tr>\n    <tr>\n      <th>55</th>\n      <td>LinearSVC</td>\n      <td>BorderlineSMOTE clean</td>\n      <td>0.983440</td>\n      <td>0.970815</td>\n      <td>0.996848</td>\n      <td>0.983659</td>\n      <td>0.910910</td>\n      <td>0.394850</td>\n      <td>0.677716</td>\n      <td>0.498983</td>\n    </tr>\n    <tr>\n      <th>57</th>\n      <td>LinearSVC</td>\n      <td>ADASYN clean</td>\n      <td>0.983017</td>\n      <td>0.969828</td>\n      <td>0.997588</td>\n      <td>0.983512</td>\n      <td>0.907052</td>\n      <td>0.382474</td>\n      <td>0.683241</td>\n      <td>0.490416</td>\n    </tr>\n    <tr>\n      <th>59</th>\n      <td>LinearSVC</td>\n      <td>NearMiss clean</td>\n      <td>0.960615</td>\n      <td>0.961656</td>\n      <td>0.988959</td>\n      <td>0.975117</td>\n      <td>0.351658</td>\n      <td>0.087246</td>\n      <td>0.941068</td>\n      <td>0.159688</td>\n    </tr>\n    <tr>\n      <th>58</th>\n      <td>LinearSVC</td>\n      <td>NearMiss base</td>\n      <td>0.975533</td>\n      <td>0.977019</td>\n      <td>0.995742</td>\n      <td>0.986292</td>\n      <td>0.165594</td>\n      <td>0.074473</td>\n      <td>0.983444</td>\n      <td>0.138462</td>\n    </tr>\n  </tbody>\n</table>\n</div>"
     },
     "execution_count": 82,
     "metadata": {},
     "output_type": "execute_result"
    }
   ],
   "source": [
    "evaluation[evaluation.model == \"LinearSVC\"].sort_values(by=[\"test_prec\"], ascending=False)"
   ],
   "metadata": {
    "collapsed": false,
    "ExecuteTime": {
     "end_time": "2024-11-14T19:13:22.312420800Z",
     "start_time": "2024-11-14T19:13:22.281150400Z"
    }
   }
  },
  {
   "cell_type": "code",
   "execution_count": 83,
   "outputs": [],
   "source": [
    "svc = LinearSVC(\n",
    "    class_weight=\"balanced\")  # ohne balanced wird die SVC in einigen Fällen nur auf 0 trainiert, d.h. precision = 0"
   ],
   "metadata": {
    "collapsed": false,
    "ExecuteTime": {
     "end_time": "2024-11-14T19:13:22.359297600Z",
     "start_time": "2024-11-14T19:13:22.328049300Z"
    }
   }
  },
  {
   "cell_type": "code",
   "execution_count": 84,
   "outputs": [
    {
     "name": "stdout",
     "output_type": "stream",
     "text": [
      "Starting model fitting.\n",
      "1/12 Fitting:  LinearSVC-balanced BASE started...\n",
      "Fitting:  LinearSVC-balanced finished. Elapsed time:  0 Seconds\n",
      "2/12 Fitting:  LinearSVC-balanced CLEAN started...\n",
      "Fitting:  LinearSVC-balanced finished. Elapsed time:  0 Seconds\n",
      "3/12 Fitting:  LinearSVC-balanced SMOTE-base started...\n",
      "Fitting:  LinearSVC-balanced finished. Elapsed time:  0 Seconds\n",
      "4/12 Fitting:  LinearSVC-balanced SMOTE-clean started...\n",
      "Fitting:  LinearSVC-balanced finished. Elapsed time:  0 Seconds\n",
      "5/12 Fitting:  LinearSVC-balanced BorderlineSMOTE-base started...\n",
      "Fitting:  LinearSVC-balanced finished. Elapsed time:  0 Seconds\n",
      "6/12 Fitting:  LinearSVC-balanced BorderlineSMOTE-clean started...\n",
      "Fitting:  LinearSVC-balanced finished. Elapsed time:  0 Seconds\n",
      "7/12 Fitting:  LinearSVC-balanced ADASYN-base started...\n",
      "Fitting:  LinearSVC-balanced finished. Elapsed time:  0 Seconds\n",
      "8/12 Fitting:  LinearSVC-balanced ADASYN-clean started...\n",
      "Fitting:  LinearSVC-balanced finished. Elapsed time:  0 Seconds\n",
      "9/12 Fitting:  LinearSVC-balanced NearMiss-base started...\n",
      "Fitting:  LinearSVC-balanced finished. Elapsed time:  0 Seconds\n",
      "10/12 Fitting:  LinearSVC-balanced NearMiss-clean started...\n",
      "Fitting:  LinearSVC-balanced finished. Elapsed time:  0 Seconds\n",
      "11/12 Fitting:  LinearSVC-balanced TomekLink-base started...\n",
      "Fitting:  LinearSVC-balanced finished. Elapsed time:  0 Seconds\n",
      "12/12 Fitting:  LinearSVC-balanced TomekLink-clean started...\n",
      "Fitting:  LinearSVC-balanced finished. Elapsed time:  0 Seconds\n",
      "Model fitting finished.\n"
     ]
    }
   ],
   "source": [
    "fit_model(svc, \"LinearSVC-balanced\")"
   ],
   "metadata": {
    "collapsed": false,
    "ExecuteTime": {
     "end_time": "2024-11-14T19:13:23.989495100Z",
     "start_time": "2024-11-14T19:13:22.343675Z"
    }
   }
  },
  {
   "cell_type": "code",
   "execution_count": 85,
   "outputs": [
    {
     "data": {
      "text/plain": "                 model                variant  train_acc  train_prec  \\\n66  LinearSVC-balanced   BorderlineSMOTE base   0.989695    0.990841   \n64  LinearSVC-balanced             SMOTE base   0.988319    0.978482   \n62  LinearSVC-balanced                   base   0.969619    0.692270   \n68  LinearSVC-balanced            ADASYN base   0.988253    0.977360   \n72  LinearSVC-balanced         TomekLink base   0.968844    0.679012   \n73  LinearSVC-balanced        TomekLink clean   0.968844    0.679012   \n63  LinearSVC-balanced                  clean   0.967655    0.670201   \n65  LinearSVC-balanced            SMOTE clean   0.983274    0.970552   \n67  LinearSVC-balanced  BorderlineSMOTE clean   0.983440    0.970815   \n69  LinearSVC-balanced           ADASYN clean   0.983289    0.970579   \n71  LinearSVC-balanced         NearMiss clean   0.952615    0.995012   \n70  LinearSVC-balanced          NearMiss base   0.967378    0.997799   \n\n    train_rec  train_f1  test_acc  test_prec  test_rec   test_f1  \n66   0.988527  0.989683  0.946608   0.611205  0.596026  0.603521  \n64   0.998598  0.988438  0.934417   0.513973  0.700331  0.592852  \n62   0.997871  0.817442  0.930128   0.491803  0.745033  0.592495  \n68   0.999417  0.988265  0.933175   0.507126  0.706954  0.590595  \n72   0.997634  0.808049  0.917661   0.420455  0.681400  0.520028  \n73   0.997634  0.808049  0.917661   0.420455  0.681400  0.520028  \n63   0.996845  0.801522  0.918143   0.421839  0.675875  0.519462  \n65   0.996793  0.983497  0.911031   0.396166  0.685083  0.502024  \n67   0.996848  0.983659  0.910910   0.394850  0.677716  0.498983  \n69   0.997320  0.983768  0.908620   0.387435  0.681400  0.493992  \n71   0.944006  0.968839  0.563593   0.117764  0.872928  0.207531  \n70   0.965224  0.981241  0.386274   0.093250  0.917219  0.169290  ",
      "text/html": "<div>\n<style scoped>\n    .dataframe tbody tr th:only-of-type {\n        vertical-align: middle;\n    }\n\n    .dataframe tbody tr th {\n        vertical-align: top;\n    }\n\n    .dataframe thead th {\n        text-align: right;\n    }\n</style>\n<table border=\"1\" class=\"dataframe\">\n  <thead>\n    <tr style=\"text-align: right;\">\n      <th></th>\n      <th>model</th>\n      <th>variant</th>\n      <th>train_acc</th>\n      <th>train_prec</th>\n      <th>train_rec</th>\n      <th>train_f1</th>\n      <th>test_acc</th>\n      <th>test_prec</th>\n      <th>test_rec</th>\n      <th>test_f1</th>\n    </tr>\n  </thead>\n  <tbody>\n    <tr>\n      <th>66</th>\n      <td>LinearSVC-balanced</td>\n      <td>BorderlineSMOTE base</td>\n      <td>0.989695</td>\n      <td>0.990841</td>\n      <td>0.988527</td>\n      <td>0.989683</td>\n      <td>0.946608</td>\n      <td>0.611205</td>\n      <td>0.596026</td>\n      <td>0.603521</td>\n    </tr>\n    <tr>\n      <th>64</th>\n      <td>LinearSVC-balanced</td>\n      <td>SMOTE base</td>\n      <td>0.988319</td>\n      <td>0.978482</td>\n      <td>0.998598</td>\n      <td>0.988438</td>\n      <td>0.934417</td>\n      <td>0.513973</td>\n      <td>0.700331</td>\n      <td>0.592852</td>\n    </tr>\n    <tr>\n      <th>62</th>\n      <td>LinearSVC-balanced</td>\n      <td>base</td>\n      <td>0.969619</td>\n      <td>0.692270</td>\n      <td>0.997871</td>\n      <td>0.817442</td>\n      <td>0.930128</td>\n      <td>0.491803</td>\n      <td>0.745033</td>\n      <td>0.592495</td>\n    </tr>\n    <tr>\n      <th>68</th>\n      <td>LinearSVC-balanced</td>\n      <td>ADASYN base</td>\n      <td>0.988253</td>\n      <td>0.977360</td>\n      <td>0.999417</td>\n      <td>0.988265</td>\n      <td>0.933175</td>\n      <td>0.507126</td>\n      <td>0.706954</td>\n      <td>0.590595</td>\n    </tr>\n    <tr>\n      <th>72</th>\n      <td>LinearSVC-balanced</td>\n      <td>TomekLink base</td>\n      <td>0.968844</td>\n      <td>0.679012</td>\n      <td>0.997634</td>\n      <td>0.808049</td>\n      <td>0.917661</td>\n      <td>0.420455</td>\n      <td>0.681400</td>\n      <td>0.520028</td>\n    </tr>\n    <tr>\n      <th>73</th>\n      <td>LinearSVC-balanced</td>\n      <td>TomekLink clean</td>\n      <td>0.968844</td>\n      <td>0.679012</td>\n      <td>0.997634</td>\n      <td>0.808049</td>\n      <td>0.917661</td>\n      <td>0.420455</td>\n      <td>0.681400</td>\n      <td>0.520028</td>\n    </tr>\n    <tr>\n      <th>63</th>\n      <td>LinearSVC-balanced</td>\n      <td>clean</td>\n      <td>0.967655</td>\n      <td>0.670201</td>\n      <td>0.996845</td>\n      <td>0.801522</td>\n      <td>0.918143</td>\n      <td>0.421839</td>\n      <td>0.675875</td>\n      <td>0.519462</td>\n    </tr>\n    <tr>\n      <th>65</th>\n      <td>LinearSVC-balanced</td>\n      <td>SMOTE clean</td>\n      <td>0.983274</td>\n      <td>0.970552</td>\n      <td>0.996793</td>\n      <td>0.983497</td>\n      <td>0.911031</td>\n      <td>0.396166</td>\n      <td>0.685083</td>\n      <td>0.502024</td>\n    </tr>\n    <tr>\n      <th>67</th>\n      <td>LinearSVC-balanced</td>\n      <td>BorderlineSMOTE clean</td>\n      <td>0.983440</td>\n      <td>0.970815</td>\n      <td>0.996848</td>\n      <td>0.983659</td>\n      <td>0.910910</td>\n      <td>0.394850</td>\n      <td>0.677716</td>\n      <td>0.498983</td>\n    </tr>\n    <tr>\n      <th>69</th>\n      <td>LinearSVC-balanced</td>\n      <td>ADASYN clean</td>\n      <td>0.983289</td>\n      <td>0.970579</td>\n      <td>0.997320</td>\n      <td>0.983768</td>\n      <td>0.908620</td>\n      <td>0.387435</td>\n      <td>0.681400</td>\n      <td>0.493992</td>\n    </tr>\n    <tr>\n      <th>71</th>\n      <td>LinearSVC-balanced</td>\n      <td>NearMiss clean</td>\n      <td>0.952615</td>\n      <td>0.995012</td>\n      <td>0.944006</td>\n      <td>0.968839</td>\n      <td>0.563593</td>\n      <td>0.117764</td>\n      <td>0.872928</td>\n      <td>0.207531</td>\n    </tr>\n    <tr>\n      <th>70</th>\n      <td>LinearSVC-balanced</td>\n      <td>NearMiss base</td>\n      <td>0.967378</td>\n      <td>0.997799</td>\n      <td>0.965224</td>\n      <td>0.981241</td>\n      <td>0.386274</td>\n      <td>0.093250</td>\n      <td>0.917219</td>\n      <td>0.169290</td>\n    </tr>\n  </tbody>\n</table>\n</div>"
     },
     "execution_count": 85,
     "metadata": {},
     "output_type": "execute_result"
    }
   ],
   "source": [
    "evaluation[evaluation.model == \"LinearSVC-balanced\"].sort_values(by=[\"test_f1\"], ascending=False)"
   ],
   "metadata": {
    "collapsed": false,
    "ExecuteTime": {
     "end_time": "2024-11-14T19:13:24.048007900Z",
     "start_time": "2024-11-14T19:13:23.989495100Z"
    }
   }
  },
  {
   "cell_type": "markdown",
   "source": [
    "##### 3.2 Bayes-Classifier"
   ],
   "metadata": {
    "collapsed": false
   }
  },
  {
   "cell_type": "code",
   "execution_count": 86,
   "outputs": [],
   "source": [
    "from sklearn.naive_bayes import GaussianNB"
   ],
   "metadata": {
    "collapsed": false,
    "ExecuteTime": {
     "end_time": "2024-11-14T19:13:24.060156400Z",
     "start_time": "2024-11-14T19:13:24.029816700Z"
    }
   }
  },
  {
   "cell_type": "code",
   "execution_count": 87,
   "outputs": [],
   "source": [
    "bayes = GaussianNB()"
   ],
   "metadata": {
    "collapsed": false,
    "ExecuteTime": {
     "end_time": "2024-11-14T19:13:24.078318Z",
     "start_time": "2024-11-14T19:13:24.050093200Z"
    }
   }
  },
  {
   "cell_type": "code",
   "execution_count": 88,
   "outputs": [
    {
     "name": "stdout",
     "output_type": "stream",
     "text": [
      "Starting model fitting.\n",
      "1/12 Fitting:  GaussianNB BASE started...\n",
      "Fitting:  GaussianNB finished. Elapsed time:  0 Seconds\n",
      "2/12 Fitting:  GaussianNB CLEAN started...\n",
      "Fitting:  GaussianNB finished. Elapsed time:  0 Seconds\n",
      "3/12 Fitting:  GaussianNB SMOTE-base started...\n",
      "Fitting:  GaussianNB finished. Elapsed time:  0 Seconds\n",
      "4/12 Fitting:  GaussianNB SMOTE-clean started...\n",
      "Fitting:  GaussianNB finished. Elapsed time:  0 Seconds\n",
      "5/12 Fitting:  GaussianNB BorderlineSMOTE-base started...\n",
      "Fitting:  GaussianNB finished. Elapsed time:  0 Seconds\n",
      "6/12 Fitting:  GaussianNB BorderlineSMOTE-clean started...\n",
      "Fitting:  GaussianNB finished. Elapsed time:  0 Seconds\n",
      "7/12 Fitting:  GaussianNB ADASYN-base started...\n",
      "Fitting:  GaussianNB finished. Elapsed time:  0 Seconds\n",
      "8/12 Fitting:  GaussianNB ADASYN-clean started...\n",
      "Fitting:  GaussianNB finished. Elapsed time:  0 Seconds\n",
      "9/12 Fitting:  GaussianNB NearMiss-base started...\n",
      "Fitting:  GaussianNB finished. Elapsed time:  0 Seconds\n",
      "10/12 Fitting:  GaussianNB NearMiss-clean started...\n",
      "Fitting:  GaussianNB finished. Elapsed time:  0 Seconds\n",
      "11/12 Fitting:  GaussianNB TomekLink-base started...\n",
      "Fitting:  GaussianNB finished. Elapsed time:  0 Seconds\n",
      "12/12 Fitting:  GaussianNB TomekLink-clean started...\n",
      "Fitting:  GaussianNB finished. Elapsed time:  0 Seconds\n",
      "Model fitting finished.\n"
     ]
    }
   ],
   "source": [
    "fit_model(svc, \"GaussianNB\")"
   ],
   "metadata": {
    "collapsed": false,
    "ExecuteTime": {
     "end_time": "2024-11-14T19:13:25.878191300Z",
     "start_time": "2024-11-14T19:13:24.070276500Z"
    }
   }
  },
  {
   "cell_type": "code",
   "execution_count": 89,
   "outputs": [
    {
     "data": {
      "text/plain": "         model                variant  train_acc  train_prec  train_rec  \\\n78  GaussianNB   BorderlineSMOTE base   0.989695    0.990841   0.988527   \n76  GaussianNB             SMOTE base   0.988319    0.978482   0.998598   \n74  GaussianNB                   base   0.969619    0.692270   0.997871   \n80  GaussianNB            ADASYN base   0.988253    0.977360   0.999417   \n84  GaussianNB         TomekLink base   0.968844    0.679012   0.997634   \n85  GaussianNB        TomekLink clean   0.968844    0.679012   0.997634   \n75  GaussianNB                  clean   0.967655    0.670201   0.996845   \n77  GaussianNB            SMOTE clean   0.983274    0.970552   0.996793   \n79  GaussianNB  BorderlineSMOTE clean   0.983440    0.970815   0.996848   \n81  GaussianNB           ADASYN clean   0.983289    0.970579   0.997320   \n83  GaussianNB         NearMiss clean   0.952615    0.995012   0.944006   \n82  GaussianNB          NearMiss base   0.967378    0.997799   0.965224   \n\n    train_f1  test_acc  test_prec  test_rec   test_f1  \n78  0.989683  0.946608   0.611205  0.596026  0.603521  \n76  0.988438  0.934417   0.513973  0.700331  0.592852  \n74  0.817442  0.930128   0.491803  0.745033  0.592495  \n80  0.988265  0.933175   0.507126  0.706954  0.590595  \n84  0.808049  0.917661   0.420455  0.681400  0.520028  \n85  0.808049  0.917661   0.420455  0.681400  0.520028  \n75  0.801522  0.918143   0.421839  0.675875  0.519462  \n77  0.983497  0.911031   0.396166  0.685083  0.502024  \n79  0.983659  0.910910   0.394850  0.677716  0.498983  \n81  0.983768  0.908620   0.387435  0.681400  0.493992  \n83  0.968839  0.563593   0.117764  0.872928  0.207531  \n82  0.981241  0.386274   0.093250  0.917219  0.169290  ",
      "text/html": "<div>\n<style scoped>\n    .dataframe tbody tr th:only-of-type {\n        vertical-align: middle;\n    }\n\n    .dataframe tbody tr th {\n        vertical-align: top;\n    }\n\n    .dataframe thead th {\n        text-align: right;\n    }\n</style>\n<table border=\"1\" class=\"dataframe\">\n  <thead>\n    <tr style=\"text-align: right;\">\n      <th></th>\n      <th>model</th>\n      <th>variant</th>\n      <th>train_acc</th>\n      <th>train_prec</th>\n      <th>train_rec</th>\n      <th>train_f1</th>\n      <th>test_acc</th>\n      <th>test_prec</th>\n      <th>test_rec</th>\n      <th>test_f1</th>\n    </tr>\n  </thead>\n  <tbody>\n    <tr>\n      <th>78</th>\n      <td>GaussianNB</td>\n      <td>BorderlineSMOTE base</td>\n      <td>0.989695</td>\n      <td>0.990841</td>\n      <td>0.988527</td>\n      <td>0.989683</td>\n      <td>0.946608</td>\n      <td>0.611205</td>\n      <td>0.596026</td>\n      <td>0.603521</td>\n    </tr>\n    <tr>\n      <th>76</th>\n      <td>GaussianNB</td>\n      <td>SMOTE base</td>\n      <td>0.988319</td>\n      <td>0.978482</td>\n      <td>0.998598</td>\n      <td>0.988438</td>\n      <td>0.934417</td>\n      <td>0.513973</td>\n      <td>0.700331</td>\n      <td>0.592852</td>\n    </tr>\n    <tr>\n      <th>74</th>\n      <td>GaussianNB</td>\n      <td>base</td>\n      <td>0.969619</td>\n      <td>0.692270</td>\n      <td>0.997871</td>\n      <td>0.817442</td>\n      <td>0.930128</td>\n      <td>0.491803</td>\n      <td>0.745033</td>\n      <td>0.592495</td>\n    </tr>\n    <tr>\n      <th>80</th>\n      <td>GaussianNB</td>\n      <td>ADASYN base</td>\n      <td>0.988253</td>\n      <td>0.977360</td>\n      <td>0.999417</td>\n      <td>0.988265</td>\n      <td>0.933175</td>\n      <td>0.507126</td>\n      <td>0.706954</td>\n      <td>0.590595</td>\n    </tr>\n    <tr>\n      <th>84</th>\n      <td>GaussianNB</td>\n      <td>TomekLink base</td>\n      <td>0.968844</td>\n      <td>0.679012</td>\n      <td>0.997634</td>\n      <td>0.808049</td>\n      <td>0.917661</td>\n      <td>0.420455</td>\n      <td>0.681400</td>\n      <td>0.520028</td>\n    </tr>\n    <tr>\n      <th>85</th>\n      <td>GaussianNB</td>\n      <td>TomekLink clean</td>\n      <td>0.968844</td>\n      <td>0.679012</td>\n      <td>0.997634</td>\n      <td>0.808049</td>\n      <td>0.917661</td>\n      <td>0.420455</td>\n      <td>0.681400</td>\n      <td>0.520028</td>\n    </tr>\n    <tr>\n      <th>75</th>\n      <td>GaussianNB</td>\n      <td>clean</td>\n      <td>0.967655</td>\n      <td>0.670201</td>\n      <td>0.996845</td>\n      <td>0.801522</td>\n      <td>0.918143</td>\n      <td>0.421839</td>\n      <td>0.675875</td>\n      <td>0.519462</td>\n    </tr>\n    <tr>\n      <th>77</th>\n      <td>GaussianNB</td>\n      <td>SMOTE clean</td>\n      <td>0.983274</td>\n      <td>0.970552</td>\n      <td>0.996793</td>\n      <td>0.983497</td>\n      <td>0.911031</td>\n      <td>0.396166</td>\n      <td>0.685083</td>\n      <td>0.502024</td>\n    </tr>\n    <tr>\n      <th>79</th>\n      <td>GaussianNB</td>\n      <td>BorderlineSMOTE clean</td>\n      <td>0.983440</td>\n      <td>0.970815</td>\n      <td>0.996848</td>\n      <td>0.983659</td>\n      <td>0.910910</td>\n      <td>0.394850</td>\n      <td>0.677716</td>\n      <td>0.498983</td>\n    </tr>\n    <tr>\n      <th>81</th>\n      <td>GaussianNB</td>\n      <td>ADASYN clean</td>\n      <td>0.983289</td>\n      <td>0.970579</td>\n      <td>0.997320</td>\n      <td>0.983768</td>\n      <td>0.908620</td>\n      <td>0.387435</td>\n      <td>0.681400</td>\n      <td>0.493992</td>\n    </tr>\n    <tr>\n      <th>83</th>\n      <td>GaussianNB</td>\n      <td>NearMiss clean</td>\n      <td>0.952615</td>\n      <td>0.995012</td>\n      <td>0.944006</td>\n      <td>0.968839</td>\n      <td>0.563593</td>\n      <td>0.117764</td>\n      <td>0.872928</td>\n      <td>0.207531</td>\n    </tr>\n    <tr>\n      <th>82</th>\n      <td>GaussianNB</td>\n      <td>NearMiss base</td>\n      <td>0.967378</td>\n      <td>0.997799</td>\n      <td>0.965224</td>\n      <td>0.981241</td>\n      <td>0.386274</td>\n      <td>0.093250</td>\n      <td>0.917219</td>\n      <td>0.169290</td>\n    </tr>\n  </tbody>\n</table>\n</div>"
     },
     "execution_count": 89,
     "metadata": {},
     "output_type": "execute_result"
    }
   ],
   "source": [
    "evaluation[evaluation.model == \"GaussianNB\"].sort_values(by=[\"test_f1\"], ascending=False)"
   ],
   "metadata": {
    "collapsed": false,
    "ExecuteTime": {
     "end_time": "2024-11-14T19:13:25.896247700Z",
     "start_time": "2024-11-14T19:13:25.878191300Z"
    }
   }
  },
  {
   "cell_type": "code",
   "execution_count": 89,
   "outputs": [],
   "source": [],
   "metadata": {
    "collapsed": false,
    "ExecuteTime": {
     "end_time": "2024-11-14T19:13:25.927516800Z",
     "start_time": "2024-11-14T19:13:25.896247700Z"
    }
   }
  }
 ],
 "metadata": {
  "kernelspec": {
   "display_name": "Python 3",
   "language": "python",
   "name": "python3"
  },
  "language_info": {
   "codemirror_mode": {
    "name": "ipython",
    "version": 2
   },
   "file_extension": ".py",
   "mimetype": "text/x-python",
   "name": "python",
   "nbconvert_exporter": "python",
   "pygments_lexer": "ipython2",
   "version": "2.7.6"
  }
 },
 "nbformat": 4,
 "nbformat_minor": 0
}
