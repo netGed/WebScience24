{
 "cells": [
  {
   "cell_type": "code",
   "execution_count": 1,
   "metadata": {},
   "outputs": [],
   "source": [
    "# !pip install tensorflow\n"
   ]
  },
  {
   "cell_type": "code",
   "execution_count": 1,
   "metadata": {},
   "outputs": [
    {
     "data": {
      "text/plain": [
       "WindowsPath('C:/Users/Nasiba/Documents/1 Master Data Science/Projektpraktikum/WebScience24')"
      ]
     },
     "execution_count": 1,
     "metadata": {},
     "output_type": "execute_result"
    }
   ],
   "source": [
    "import sys\n",
    "from pathlib import Path\n",
    "\n",
    "# Zum übergeordneten Ordner 'src' wechseln\n",
    "current_path = Path().resolve()\n",
    "src_path = current_path.parents[4]  # Zwei Stufen nach oben\n",
    "\n",
    "if str(src_path) not in sys.path:\n",
    "    sys.path.append(str(src_path))\n",
    "\n",
    "src_path\n"
   ]
  },
  {
   "cell_type": "code",
   "execution_count": 2,
   "metadata": {},
   "outputs": [],
   "source": [
    "\n",
    "\n",
    "import pandas as pd\n",
    "import numpy as np\n",
    "import matplotlib.pyplot as plt\n",
    "import seaborn as sns\n",
    "\n",
    "from sklearn.metrics import classification_report, confusion_matrix\n",
    "\n",
    "pd.set_option('display.max_colwidth', None)\n",
    "\n",
    "from vector_functions import  vectorize_fasttext, vectorize_fasttext_test_data, vectorize_fasttext_words, vectorize_fasttext_test_data_words\n",
    "\n",
    "import os\n",
    "from tensorflow.keras.models import Sequential\n",
    "from tensorflow.keras.layers import LSTM, Dense, Dropout\n",
    "\n",
    "from tensorflow.keras.models import Sequential\n",
    "\n",
    "from tensorflow.keras.metrics import Recall\n",
    "from sklearn.metrics import classification_report, confusion_matrix, accuracy_score, matthews_corrcoef\n",
    "\n"
   ]
  },
  {
   "cell_type": "markdown",
   "metadata": {},
   "source": [
    "#### Beladung der Daten"
   ]
  },
  {
   "cell_type": "code",
   "execution_count": 3,
   "metadata": {},
   "outputs": [
    {
     "name": "stdout",
     "output_type": "stream",
     "text": [
      "label            20289\n",
      "tweet            20289\n",
      "tweet_cleaned    20288\n",
      "user_handle      20289\n",
      "hashtags         20289\n",
      "emojis            4220\n",
      "dtype: int64\n"
     ]
    }
   ],
   "source": [
    "\n",
    "source_filepath_name = os.path.abspath(os.path.join(src_path, 'data/twitter_hate-speech/train_cleaned_rnn.csv'))\n",
    "\n",
    "df_cleaned = pd.read_csv(source_filepath_name, encoding='utf-8', index_col=0)\n",
    "\n",
    "source_filepath_name_test = os.path.abspath(os.path.join(src_path, 'data/twitter_hate-speech/test_cleaned_rnn.csv'))\n",
    "\n",
    "df_cleaned_test = pd.read_csv(source_filepath_name_test, encoding='utf-8', index_col=0)\n",
    "\n",
    "print(df_cleaned.count())"
   ]
  },
  {
   "cell_type": "markdown",
   "metadata": {},
   "source": [
    "### Vektorisierung"
   ]
  },
  {
   "cell_type": "code",
   "execution_count": 13,
   "metadata": {},
   "outputs": [
    {
     "name": "stderr",
     "output_type": "stream",
     "text": [
      "c:\\Users\\Nasiba\\Documents\\1 Master Data Science\\Projektpraktikum\\WebScience24\\src\\3. Deep Learning Approach\\nasiba\\Training\\Phase_1\\vector_functions.py:274: SettingWithCopyWarning: \n",
      "A value is trying to be set on a copy of a slice from a DataFrame.\n",
      "Try using .loc[row_indexer,col_indexer] = value instead\n",
      "\n",
      "See the caveats in the documentation: https://pandas.pydata.org/pandas-docs/stable/user_guide/indexing.html#returning-a-view-versus-a-copy\n",
      "  df[text_column] = df[text_column].astype(str)\n"
     ]
    }
   ],
   "source": [
    "\n",
    "\n",
    "\n",
    "X_train_vectors_fast, X_test_vectors_fast, y_train_fast, y_test_fast, ft_model,tokenizer_fast = vectorize_fasttext(df=df_cleaned, text_column =\"tweet_cleaned\", label_column=\"label\")\n",
    "\n",
    "X_test_data_vectors_test_fast , y_test_data_test_fast, ft_model_test,tokenizer_test_fast = vectorize_fasttext_test_data(df=df_cleaned_test, text_column =\"tweet_cleaned\", label_column=\"label\",  tokenizer=tokenizer_fast)\n"
   ]
  },
  {
   "cell_type": "code",
   "execution_count": 5,
   "metadata": {},
   "outputs": [
    {
     "name": "stdout",
     "output_type": "stream",
     "text": [
      "(14201, 1, 200)\n",
      "(9093, 1, 200)\n"
     ]
    }
   ],
   "source": [
    "X_train_vectors_fast = np.expand_dims(X_train_vectors_fast, axis=1)\n",
    "X_test_vectors_fast = np.expand_dims(X_test_vectors_fast, axis=1)\n",
    "X_test_data_vectors_test_fast = np.expand_dims(X_test_data_vectors_test_fast, axis=1)\n",
    "print(X_train_vectors_fast.shape)\n",
    "print(X_test_data_vectors_test_fast.shape)\n"
   ]
  },
  {
   "cell_type": "code",
   "execution_count": 4,
   "metadata": {},
   "outputs": [
    {
     "name": "stderr",
     "output_type": "stream",
     "text": [
      "c:\\Users\\Nasiba\\Documents\\1 Master Data Science\\Projektpraktikum\\WebScience24\\src\\3. Deep Learning Approach\\nasiba\\Training\\Phase_1\\vector_functions.py:399: SettingWithCopyWarning: \n",
      "A value is trying to be set on a copy of a slice from a DataFrame.\n",
      "Try using .loc[row_indexer,col_indexer] = value instead\n",
      "\n",
      "See the caveats in the documentation: https://pandas.pydata.org/pandas-docs/stable/user_guide/indexing.html#returning-a-view-versus-a-copy\n",
      "  df[text_column] = df[text_column].astype(str)\n"
     ]
    }
   ],
   "source": [
    "\n",
    "\n",
    "\n",
    "X_train_vectors_fast_word, X_test_vectors_fast_word, y_train_fast_word, y_test_fast_word, ft_model_word = vectorize_fasttext_words(df=df_cleaned, text_column =\"tweet_cleaned\", label_column=\"label\")\n",
    "\n",
    "X_test_data_vectors_test_fast_word , y_test_data_test_fast_word, ft_model_test= vectorize_fasttext_test_data_words(df=df_cleaned_test, text_column =\"tweet_cleaned\", label_column=\"label\")\n"
   ]
  },
  {
   "cell_type": "markdown",
   "metadata": {},
   "source": [
    "#### Modeltraining mit Fasttext\n",
    "\n",
    "(Aktivierungsfunktion in der Dense-Schicht zu sigmoid ändern,class_wight hinzufügen)"
   ]
  },
  {
   "cell_type": "code",
   "execution_count": 5,
   "metadata": {},
   "outputs": [
    {
     "ename": "NameError",
     "evalue": "name 'X_train_vectors_fast' is not defined",
     "output_type": "error",
     "traceback": [
      "\u001b[1;31m---------------------------------------------------------------------------\u001b[0m",
      "\u001b[1;31mNameError\u001b[0m                                 Traceback (most recent call last)",
      "Cell \u001b[1;32mIn[5], line 1\u001b[0m\n\u001b[1;32m----> 1\u001b[0m samples, max_seq_len, vector_size \u001b[38;5;241m=\u001b[39m \u001b[43mX_train_vectors_fast\u001b[49m\u001b[38;5;241m.\u001b[39mshape\n\u001b[0;32m      2\u001b[0m num_classes \u001b[38;5;241m=\u001b[39m \u001b[38;5;28mlen\u001b[39m(np\u001b[38;5;241m.\u001b[39munique(y_train_fast))\n\u001b[0;32m      5\u001b[0m \u001b[38;5;66;03m# Modellinitialisierung\u001b[39;00m\n",
      "\u001b[1;31mNameError\u001b[0m: name 'X_train_vectors_fast' is not defined"
     ]
    }
   ],
   "source": [
    "samples, max_seq_len, vector_size = X_train_vectors_fast.shape\n",
    "num_classes = len(np.unique(y_train_fast))\n",
    "\n",
    "\n",
    "# Modellinitialisierung\n",
    "model_fast = Sequential()\n",
    "\n",
    "# LSTM-Schicht\n",
    "model_fast.add(LSTM(units=128, input_shape=(1, vector_size), return_sequences=False))\n",
    "\n",
    "# Optional: Dropout zur Vermeidung von Overfitting\n",
    "model_fast.add(Dropout(0.5))\n",
    "\n",
    "# Dense-Schicht für die Ausgabe\n",
    "model_fast.add(Dense(units=1, activation='sigmoid'))\n",
    "\n",
    "# Kompilieren des Modells\n",
    "model_fast.compile(optimizer='adam',\n",
    "              loss='binary_crossentropy',\n",
    "              metrics=['accuracy', Recall()])\n",
    "\n",
    "class_weight = {0: 1, 1: 3} \n",
    "history_fast = model_fast.fit(\n",
    "    X_train_vectors_fast, np.array(y_train_fast),\n",
    "    validation_data=(X_test_vectors_fast, np.array(y_test_fast)),\n",
    "    epochs=10,\n",
    "    batch_size=32,\n",
    "    class_weight=class_weight,\n",
    "    verbose=2\n",
    ")\n",
    "# Vorhersagen auf Testdaten\n",
    "predictions_fast = model_fast.predict(X_test_data_vectors_test_fast)\n",
    "threshold = 0.35  \n",
    "predicted_classes_fast= (predictions_fast > threshold).astype(int)"
   ]
  },
  {
   "cell_type": "code",
   "execution_count": null,
   "metadata": {},
   "outputs": [
    {
     "name": "stdout",
     "output_type": "stream",
     "text": [
      "Classification Report:\n",
      "               precision    recall  f1-score   support\n",
      "\n",
      "     Class 0       0.99      0.02      0.04      8468\n",
      "     Class 1       0.07      1.00      0.13       625\n",
      "\n",
      "    accuracy                           0.09      9093\n",
      "   macro avg       0.53      0.51      0.08      9093\n",
      "weighted avg       0.93      0.09      0.04      9093\n",
      "\n",
      "[[ 157 8311]\n",
      " [   1  624]]\n"
     ]
    },
    {
     "data": {
      "image/png": "[encoded data removed]",
      "text/plain": [
       "<Figure size 400x400 with 2 Axes>"
      ]
     },
     "metadata": {},
     "output_type": "display_data"
    }
   ],
   "source": [
    "\n",
    "\n",
    "# Klassifikationsbericht erstellen\n",
    "report = classification_report(y_test_data_test_fast, predicted_classes_fast, target_names=[\"Class 0\", \"Class 1\"])\n",
    "print(\"Classification Report:\\n\", report)\n",
    "\n",
    "cm = confusion_matrix(y_test_data_test_fast, predicted_classes_fast)\n",
    "print(cm)\n",
    "# Verwirrungsmatrix visualisieren\n",
    "plt.figure(figsize=(4, 4))\n",
    "sns.heatmap(cm, annot=True, fmt=\"d\", cmap=\"coolwarm\", linewidths=0.5, square=True,\n",
    "            xticklabels=[\"Label 0\", \"Label 1\"], yticklabels=[\"Label 0\", \"Label 1\"])\n",
    "plt.xlabel(\"Predicted Labels\", fontsize=12)\n",
    "plt.ylabel(\"True Labels\", fontsize=12)\n",
    "plt.title(\"Confusion Matrix\", fontsize=14)\n",
    "plt.show()"
   ]
  },
  {
   "cell_type": "code",
   "execution_count": 5,
   "metadata": {},
   "outputs": [
    {
     "name": "stdout",
     "output_type": "stream",
     "text": [
      "(14201, 1, 200)\n",
      "(9093, 1, 200)\n",
      "(9093, 1, 200)\n"
     ]
    }
   ],
   "source": [
    "X_train_vectors_fast_word = np.expand_dims(X_train_vectors_fast_word, axis=1)\n",
    "X_test_vectors_fast_word = np.expand_dims(X_test_vectors_fast_word, axis=1)\n",
    "X_test_data_vectors_test_fast_word = np.expand_dims(X_test_data_vectors_test_fast_word, axis=1)\n",
    "print(X_train_vectors_fast_word.shape)\n",
    "print(X_test_data_vectors_test_fast_word.shape)\n",
    "print(X_test_data_vectors_test_fast_word.shape)\n"
   ]
  },
  {
   "cell_type": "code",
   "execution_count": 6,
   "metadata": {},
   "outputs": [
    {
     "name": "stdout",
     "output_type": "stream",
     "text": [
      "Epoch 1/10\n"
     ]
    },
    {
     "name": "stderr",
     "output_type": "stream",
     "text": [
      "C:\\Users\\Nasiba\\AppData\\Local\\Packages\\PythonSoftwareFoundation.Python.3.11_qbz5n2kfra8p0\\LocalCache\\local-packages\\Python311\\site-packages\\keras\\src\\layers\\rnn\\rnn.py:200: UserWarning: Do not pass an `input_shape`/`input_dim` argument to a layer. When using Sequential models, prefer using an `Input(shape)` object as the first layer in the model instead.\n",
      "  super().__init__(**kwargs)\n"
     ]
    },
    {
     "name": "stdout",
     "output_type": "stream",
     "text": [
      "444/444 - 4s - 9ms/step - accuracy: 0.9273 - loss: 0.3931 - recall: 0.2171 - val_accuracy: 0.9269 - val_loss: 0.1847 - val_recall: 0.2010\n",
      "Epoch 2/10\n",
      "444/444 - 2s - 4ms/step - accuracy: 0.9178 - loss: 0.3462 - recall: 0.3909 - val_accuracy: 0.9179 - val_loss: 0.2059 - val_recall: 0.4092\n",
      "Epoch 3/10\n",
      "444/444 - 2s - 4ms/step - accuracy: 0.9207 - loss: 0.3387 - recall: 0.4179 - val_accuracy: 0.9231 - val_loss: 0.1940 - val_recall: 0.3656\n",
      "Epoch 4/10\n",
      "444/444 - 2s - 4ms/step - accuracy: 0.9192 - loss: 0.3377 - recall: 0.4287 - val_accuracy: 0.9210 - val_loss: 0.1967 - val_recall: 0.4068\n",
      "Epoch 5/10\n",
      "444/444 - 2s - 4ms/step - accuracy: 0.9244 - loss: 0.3295 - recall: 0.4536 - val_accuracy: 0.9031 - val_loss: 0.2364 - val_recall: 0.6271\n",
      "Epoch 6/10\n",
      "444/444 - 2s - 4ms/step - accuracy: 0.9233 - loss: 0.3228 - recall: 0.4708 - val_accuracy: 0.9266 - val_loss: 0.1810 - val_recall: 0.3632\n",
      "Epoch 7/10\n",
      "444/444 - 2s - 4ms/step - accuracy: 0.9244 - loss: 0.3237 - recall: 0.4741 - val_accuracy: 0.9266 - val_loss: 0.1894 - val_recall: 0.4407\n",
      "Epoch 8/10\n",
      "444/444 - 2s - 4ms/step - accuracy: 0.9254 - loss: 0.3176 - recall: 0.4752 - val_accuracy: 0.9246 - val_loss: 0.1916 - val_recall: 0.4818\n",
      "Epoch 9/10\n",
      "444/444 - 2s - 4ms/step - accuracy: 0.9259 - loss: 0.3154 - recall: 0.5043 - val_accuracy: 0.9144 - val_loss: 0.2140 - val_recall: 0.6102\n",
      "Epoch 10/10\n",
      "444/444 - 2s - 4ms/step - accuracy: 0.9237 - loss: 0.3127 - recall: 0.4957 - val_accuracy: 0.9159 - val_loss: 0.2162 - val_recall: 0.5908\n"
     ]
    }
   ],
   "source": [
    "samples, max_seq_len, vector_size = X_train_vectors_fast_word.shape\n",
    "num_classes = len(np.unique(y_train_fast_word))\n",
    "\n",
    "\n",
    "# Modellinitialisierung\n",
    "model_fast_word = Sequential()\n",
    "\n",
    "# LSTM-Schicht\n",
    "model_fast_word.add(LSTM(units=128, input_shape=(1, vector_size), return_sequences=False))\n",
    "\n",
    "# Optional: Dropout zur Vermeidung von Overfitting\n",
    "model_fast_word.add(Dropout(0.5))\n",
    "\n",
    "# Dense-Schicht für die Ausgabe\n",
    "model_fast_word.add(Dense(units=1, activation='sigmoid'))\n",
    "\n",
    "# Kompilieren des Modells\n",
    "model_fast_word.compile(optimizer='adam',\n",
    "              loss='binary_crossentropy',\n",
    "              metrics=['accuracy', Recall()])\n",
    "\n",
    "class_weight = {0: 1, 1: 3} \n",
    "history_fast_word = model_fast_word.fit(\n",
    "    X_train_vectors_fast_word, np.array(y_train_fast_word),\n",
    "    validation_data=(X_test_vectors_fast_word, np.array(y_test_fast_word)),\n",
    "    epochs=10,\n",
    "    batch_size=32,\n",
    "    class_weight=class_weight,\n",
    "    verbose=2\n",
    ")\n"
   ]
  },
  {
   "cell_type": "code",
   "execution_count": 7,
   "metadata": {},
   "outputs": [
    {
     "name": "stdout",
     "output_type": "stream",
     "text": [
      "\u001b[1m285/285\u001b[0m \u001b[32m━━━━━━━━━━━━━━━━━━━━\u001b[0m\u001b[37m\u001b[0m \u001b[1m1s\u001b[0m 2ms/step\n"
     ]
    }
   ],
   "source": [
    "# Vorhersagen auf Testdaten\n",
    "predictions_fast_word = model_fast_word.predict(X_test_data_vectors_test_fast_word)\n",
    "threshold = 0.35  \n",
    "predicted_classes_fast_word= (predictions_fast_word > threshold).astype(int)"
   ]
  },
  {
   "cell_type": "code",
   "execution_count": null,
   "metadata": {},
   "outputs": [
    {
     "name": "stdout",
     "output_type": "stream",
     "text": [
      "⚡ F1-Score (Klasse 2): 0.2339\n",
      "🔄 Recall (Klasse 2): 0.9360\n",
      "🎯 Precision (Klasse 2): 0.1336\n",
      "✅ Accuracy (gesamt): 0.5785\n",
      "🔗 MCC: 0.2471\n",
      "Confusion Matrix:\n",
      " [[4675 3793]\n",
      " [  40  585]]\n"
     ]
    },
    {
     "data": {
      "image/png": "[encoded data removed]",
      "text/plain": [
       "<Figure size 400x400 with 2 Axes>"
      ]
     },
     "metadata": {},
     "output_type": "display_data"
    }
   ],
   "source": [
    "# Klassifikationsbericht erstellen (als Dictionary)\n",
    "report = classification_report(y_test_data_test_fast_word, predicted_classes_fast_word, output_dict=True)\n",
    "\n",
    "# Metriken NUR für Klasse 2 extrahieren\n",
    "precision_class_2 = report[\"1\"][\"precision\"]\n",
    "recall_class_2 = report[\"1\"][\"recall\"]\n",
    "f1_class_2 = report[\"1\"][\"f1-score\"]\n",
    "\n",
    "# Gesamtgenauigkeit berechnen\n",
    "accuracy = accuracy_score(y_test_data_test_fast_word, predicted_classes_fast_word)\n",
    "\n",
    "# Matthews Correlation Coefficient (MCC)\n",
    "mcc = matthews_corrcoef(y_test_data_test_fast_word, predicted_classes_fast_word)\n",
    "\n",
    "# Ergebnisse ausgeben (nur für Klasse 2)\n",
    "print(f\" F1-Score (Klasse 2): {f1_class_2:.4f}\")\n",
    "print(f\" Recall (Klasse 2): {recall_class_2:.4f}\")\n",
    "print(f\" Precision (Klasse 2): {precision_class_2:.4f}\")\n",
    "print(f\" Accuracy (gesamt): {accuracy:.4f}\")\n",
    "print(f\" MCC: {mcc:.4f}\")\n",
    "\n",
    "# Confusion Matrix berechnen\n",
    "cm = confusion_matrix(y_test_data_test_fast_word, predicted_classes_fast_word)\n",
    "print(\"Confusion Matrix:\\n\", cm)\n",
    "\n",
    "# Verwirrungsmatrix visualisieren\n",
    "plt.figure(figsize=(4, 4))\n",
    "sns.heatmap(cm, annot=True, fmt=\"d\", cmap=\"coolwarm\", linewidths=0.5, square=True,\n",
    "            xticklabels=[\"Class 0\", \"Class 1\", \"Class 2\"], yticklabels=[\"Class 0\", \"Class 1\", \"Class 2\"])\n",
    "plt.xlabel(\"Predicted Labels\", fontsize=12)\n",
    "plt.ylabel(\"True Labels\", fontsize=12)\n",
    "plt.title(\"Confusion Matrix\", fontsize=14)\n",
    "plt.show()"
   ]
  },
  {
   "cell_type": "code",
   "execution_count": 11,
   "metadata": {},
   "outputs": [
    {
     "name": "stdout",
     "output_type": "stream",
     "text": [
      "Classification Report:\n",
      "               precision    recall  f1-score   support\n",
      "\n",
      "     Class 0       0.99      0.55      0.71      8468\n",
      "     Class 1       0.13      0.94      0.23       625\n",
      "\n",
      "    accuracy                           0.58      9093\n",
      "   macro avg       0.56      0.74      0.47      9093\n",
      "weighted avg       0.93      0.58      0.68      9093\n",
      "\n",
      "[[4675 3793]\n",
      " [  40  585]]\n"
     ]
    },
    {
     "data": {
      "image/png": "[encoded data removed]",
      "text/plain": [
       "<Figure size 400x400 with 2 Axes>"
      ]
     },
     "metadata": {},
     "output_type": "display_data"
    }
   ],
   "source": [
    "\n",
    "\n",
    "# Klassifikationsbericht erstellen\n",
    "report = classification_report(y_test_data_test_fast_word, predicted_classes_fast_word, target_names=[\"Class 0\", \"Class 1\"])\n",
    "print(\"Classification Report:\\n\", report)\n",
    "\n",
    "cm = confusion_matrix(y_test_data_test_fast_word, predicted_classes_fast_word)\n",
    "print(cm)\n",
    "# Verwirrungsmatrix visualisieren\n",
    "plt.figure(figsize=(4, 4))\n",
    "sns.heatmap(cm, annot=True, fmt=\"d\", cmap=\"coolwarm\", linewidths=0.5, square=True,\n",
    "            xticklabels=[\"Label 0\", \"Label 1\"], yticklabels=[\"Label 0\", \"Label 1\"])\n",
    "plt.xlabel(\"Predicted Labels\", fontsize=12)\n",
    "plt.ylabel(\"True Labels\", fontsize=12)\n",
    "plt.title(\"Confusion Matrix\", fontsize=14)\n",
    "plt.show()"
   ]
  }
 ],
 "metadata": {
  "kernelspec": {
   "display_name": "Python 3",
   "language": "python",
   "name": "python3"
  },
  "language_info": {
   "codemirror_mode": {
    "name": "ipython",
    "version": 3
   },
   "file_extension": ".py",
   "mimetype": "text/x-python",
   "name": "python",
   "nbconvert_exporter": "python",
   "pygments_lexer": "ipython3",
   "version": "3.11.9"
  }
 },
 "nbformat": 4,
 "nbformat_minor": 2
}
