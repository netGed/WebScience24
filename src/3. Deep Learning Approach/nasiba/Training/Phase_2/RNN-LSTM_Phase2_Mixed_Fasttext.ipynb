{
 "cells": [
  {
   "cell_type": "code",
   "execution_count": 1,
   "metadata": {},
   "outputs": [],
   "source": [
    "# !pip install tensorflow\n",
    "#!pip install transformers\n",
    "#!pip install tf-keras\n",
    "# !pip install imblearn"
   ]
  },
  {
   "cell_type": "code",
   "execution_count": 3,
   "metadata": {},
   "outputs": [
    {
     "data": {
      "text/plain": [
       "WindowsPath('C:/Users/Nasiba/Documents/1 Master Data Science/Projektpraktikum/WebScience24')"
      ]
     },
     "execution_count": 3,
     "metadata": {},
     "output_type": "execute_result"
    }
   ],
   "source": [
    "import sys\n",
    "from pathlib import Path\n",
    "\n",
    "# Zum übergeordneten Ordner 'src' wechseln\n",
    "current_path = Path().resolve()\n",
    "src_path = current_path.parents[4]  # Zwei Stufen nach oben\n",
    "\n",
    "if str(src_path) not in sys.path:\n",
    "    sys.path.append(str(src_path))\n",
    "\n",
    "src_path\n"
   ]
  },
  {
   "cell_type": "code",
   "execution_count": 10,
   "metadata": {},
   "outputs": [],
   "source": [
    "\n",
    "\n",
    "import pandas as pd\n",
    "import numpy as np\n",
    "import matplotlib.pyplot as plt\n",
    "import seaborn as sns\n",
    "\n",
    "\n",
    "from sklearn.metrics import  classification_report, confusion_matrix\n",
    "\n",
    "\n",
    "pd.set_option('display.max_colwidth', None)\n",
    "from sklearn.model_selection import train_test_split\n",
    "\n",
    "from vector_functions import vectorize_fasttext_words, vectorize_fasttext_test_data_words\n",
    "\n",
    "from tensorflow.keras.models import load_model\n",
    "\n",
    "import os\n",
    "from tensorflow.keras.models import Sequential\n",
    "from tensorflow.keras.layers import LSTM, Dense, Dropout, Bidirectional, Embedding\n",
    "\n",
    "from tensorflow.keras.models import Sequential\n",
    "from tensorflow.keras.optimizers import Adam\n",
    "from tensorflow.keras.metrics import Recall\n",
    "from tensorflow.keras.callbacks import EarlyStopping\n",
    "\n",
    "from tensorflow.keras.callbacks import ReduceLROnPlateau\n",
    "\n",
    "import numpy as np\n",
    "from tensorflow.keras.preprocessing.text import Tokenizer\n",
    "from tensorflow.keras.preprocessing.sequence import pad_sequences\n",
    "from tensorflow.keras.models import Sequential\n",
    "from tensorflow.keras.layers import LSTM, Dense, Dropout, Embedding\n",
    "from tensorflow.keras.optimizers import Adam\n",
    "from tensorflow.keras.callbacks import EarlyStopping, ReduceLROnPlateau\n",
    "from tensorflow.keras.metrics import Recall\n",
    "from sklearn.metrics import classification_report, confusion_matrix, accuracy_score, matthews_corrcoef\n"
   ]
  },
  {
   "cell_type": "markdown",
   "metadata": {},
   "source": [
    "#### Beladung der Daten"
   ]
  },
  {
   "cell_type": "code",
   "execution_count": 6,
   "metadata": {},
   "outputs": [
    {
     "data": {
      "text/html": [
       "<div>\n",
       "<style scoped>\n",
       "    .dataframe tbody tr th:only-of-type {\n",
       "        vertical-align: middle;\n",
       "    }\n",
       "\n",
       "    .dataframe tbody tr th {\n",
       "        vertical-align: top;\n",
       "    }\n",
       "\n",
       "    .dataframe thead th {\n",
       "        text-align: right;\n",
       "    }\n",
       "</style>\n",
       "<table border=\"1\" class=\"dataframe\">\n",
       "  <thead>\n",
       "    <tr style=\"text-align: right;\">\n",
       "      <th></th>\n",
       "      <th>label</th>\n",
       "      <th>tweet</th>\n",
       "      <th>tweet_cleaned</th>\n",
       "      <th>user_handle</th>\n",
       "      <th>hashtags</th>\n",
       "      <th>emojis</th>\n",
       "    </tr>\n",
       "  </thead>\n",
       "  <tbody>\n",
       "    <tr>\n",
       "      <th>140232</th>\n",
       "      <td>0</td>\n",
       "      <td>Nicki's \"that's not good\" pout bought to you by Botox[™]. #MKR</td>\n",
       "      <td>nickis \"thats not good\" pout bought to you by botox trade mark  mkr</td>\n",
       "      <td>0</td>\n",
       "      <td>['#mkr']</td>\n",
       "      <td>__trade_mark__</td>\n",
       "    </tr>\n",
       "  </tbody>\n",
       "</table>\n",
       "</div>"
      ],
      "text/plain": [
       "        label  ...          emojis\n",
       "140232      0  ...  __trade_mark__\n",
       "\n",
       "[1 rows x 6 columns]"
      ]
     },
     "execution_count": 6,
     "metadata": {},
     "output_type": "execute_result"
    }
   ],
   "source": [
    "\n",
    "source_filepath_name = os.path.abspath(os.path.join(src_path, 'data/mixed_dataset/train_cleaned_rnn.csv'))\n",
    "\n",
    "df_cleaned = pd.read_csv(source_filepath_name, encoding='utf-8', index_col=0)\n",
    "\n",
    "source_filepath_name_test = os.path.abspath(os.path.join(src_path, 'data/mixed_dataset/test_cleaned_rnn.csv'))\n",
    "\n",
    "df_cleaned_test = pd.read_csv(source_filepath_name_test, encoding='utf-8', index_col=0)\n",
    "\n",
    "\n",
    "df_cleaned.head(1)\n"
   ]
  },
  {
   "cell_type": "markdown",
   "metadata": {},
   "source": [
    "### Vektorisierung"
   ]
  },
  {
   "cell_type": "markdown",
   "metadata": {},
   "source": [
    "#### Fasttext"
   ]
  },
  {
   "cell_type": "code",
   "execution_count": 7,
   "metadata": {},
   "outputs": [
    {
     "name": "stderr",
     "output_type": "stream",
     "text": [
      "c:\\Users\\Nasiba\\Documents\\1 Master Data Science\\Projektpraktikum\\WebScience24\\src\\3. Deep Learning Approach\\nasiba\\Training\\Phase_2\\vector_functions.py:399: SettingWithCopyWarning: \n",
      "A value is trying to be set on a copy of a slice from a DataFrame.\n",
      "Try using .loc[row_indexer,col_indexer] = value instead\n",
      "\n",
      "See the caveats in the documentation: https://pandas.pydata.org/pandas-docs/stable/user_guide/indexing.html#returning-a-view-versus-a-copy\n",
      "  df[text_column] = df[text_column].astype(str)\n",
      "c:\\Users\\Nasiba\\Documents\\1 Master Data Science\\Projektpraktikum\\WebScience24\\src\\3. Deep Learning Approach\\nasiba\\Training\\Phase_2\\vector_functions.py:452: SettingWithCopyWarning: \n",
      "A value is trying to be set on a copy of a slice from a DataFrame.\n",
      "Try using .loc[row_indexer,col_indexer] = value instead\n",
      "\n",
      "See the caveats in the documentation: https://pandas.pydata.org/pandas-docs/stable/user_guide/indexing.html#returning-a-view-versus-a-copy\n",
      "  df[text_column] = df[text_column].astype(str)\n"
     ]
    }
   ],
   "source": [
    "\n",
    "\n",
    "\n",
    "X_train_vectors_fast_word, X_test_vectors_fast_word, y_train_fast_word, y_test_fast_word, ft_model_word = vectorize_fasttext_words(df=df_cleaned, text_column =\"tweet_cleaned\", label_column=\"label\")\n",
    "\n",
    "X_test_data_vectors_test_fast_word , y_test_data_test_fast_word, ft_model_test= vectorize_fasttext_test_data_words(df=df_cleaned_test, text_column =\"tweet_cleaned\", label_column=\"label\")\n"
   ]
  },
  {
   "cell_type": "code",
   "execution_count": 8,
   "metadata": {},
   "outputs": [
    {
     "name": "stdout",
     "output_type": "stream",
     "text": [
      "(58313, 1, 200)\n",
      "(32529, 1, 200)\n",
      "(32529, 1, 200)\n"
     ]
    }
   ],
   "source": [
    "X_train_vectors_fast_word = np.expand_dims(X_train_vectors_fast_word, axis=1)\n",
    "X_test_vectors_fast_word = np.expand_dims(X_test_vectors_fast_word, axis=1)\n",
    "X_test_data_vectors_test_fast_word = np.expand_dims(X_test_data_vectors_test_fast_word, axis=1)\n",
    "print(X_train_vectors_fast_word.shape)\n",
    "print(X_test_data_vectors_test_fast_word.shape)\n",
    "print(X_test_data_vectors_test_fast_word.shape)\n"
   ]
  },
  {
   "cell_type": "markdown",
   "metadata": {},
   "source": [
    "### Modell aufbauen "
   ]
  },
  {
   "cell_type": "markdown",
   "metadata": {},
   "source": [
    "#### Modeltraining mit anderen Parametern\n",
    "\n",
    "(Aktivierungsfunktion in der Dense-Schicht zu sigmoid ändern,class_wight hinzufügen)"
   ]
  },
  {
   "cell_type": "code",
   "execution_count": null,
   "metadata": {},
   "outputs": [
    {
     "name": "stderr",
     "output_type": "stream",
     "text": [
      "C:\\Users\\Nasiba\\AppData\\Local\\Packages\\PythonSoftwareFoundation.Python.3.11_qbz5n2kfra8p0\\LocalCache\\local-packages\\Python311\\site-packages\\keras\\src\\layers\\rnn\\rnn.py:200: UserWarning: Do not pass an `input_shape`/`input_dim` argument to a layer. When using Sequential models, prefer using an `Input(shape)` object as the first layer in the model instead.\n",
      "  super().__init__(**kwargs)\n"
     ]
    },
    {
     "name": "stdout",
     "output_type": "stream",
     "text": [
      "Epoch 1/10\n",
      "1823/1823 - 10s - 6ms/step - accuracy: 0.7680 - loss: 0.7573 - recall: 0.5053 - val_accuracy: 0.7695 - val_loss: 0.4775 - val_recall: 0.5989\n",
      "Epoch 2/10\n",
      "1823/1823 - 8s - 4ms/step - accuracy: 0.7646 - loss: 0.7246 - recall: 0.5829 - val_accuracy: 0.8175 - val_loss: 0.4045 - val_recall: 0.4002\n",
      "Epoch 3/10\n",
      "1823/1823 - 7s - 4ms/step - accuracy: 0.7693 - loss: 0.7128 - recall: 0.6140 - val_accuracy: 0.7806 - val_loss: 0.4530 - val_recall: 0.6292\n",
      "Epoch 4/10\n",
      "1823/1823 - 7s - 4ms/step - accuracy: 0.7715 - loss: 0.7013 - recall: 0.6277 - val_accuracy: 0.7919 - val_loss: 0.4341 - val_recall: 0.6020\n",
      "Epoch 5/10\n",
      "1823/1823 - 7s - 4ms/step - accuracy: 0.7732 - loss: 0.6919 - recall: 0.6343 - val_accuracy: 0.8001 - val_loss: 0.4173 - val_recall: 0.5864\n",
      "Epoch 6/10\n",
      "1823/1823 - 8s - 4ms/step - accuracy: 0.7766 - loss: 0.6821 - recall: 0.6434 - val_accuracy: 0.7867 - val_loss: 0.4341 - val_recall: 0.6421\n",
      "Epoch 7/10\n",
      "1823/1823 - 8s - 4ms/step - accuracy: 0.7772 - loss: 0.6783 - recall: 0.6563 - val_accuracy: 0.7986 - val_loss: 0.4254 - val_recall: 0.6180\n",
      "Epoch 8/10\n",
      "1823/1823 - 8s - 4ms/step - accuracy: 0.7786 - loss: 0.6736 - recall: 0.6582 - val_accuracy: 0.8129 - val_loss: 0.3996 - val_recall: 0.5656\n",
      "Epoch 9/10\n",
      "1823/1823 - 7s - 4ms/step - accuracy: 0.7809 - loss: 0.6682 - recall: 0.6571 - val_accuracy: 0.8007 - val_loss: 0.4222 - val_recall: 0.6279\n",
      "Epoch 10/10\n",
      "1823/1823 - 8s - 4ms/step - accuracy: 0.7850 - loss: 0.6639 - recall: 0.6652 - val_accuracy: 0.8055 - val_loss: 0.4115 - val_recall: 0.6114\n",
      "\u001b[1m1017/1017\u001b[0m \u001b[32m━━━━━━━━━━━━━━━━━━━━\u001b[0m\u001b[37m\u001b[0m \u001b[1m2s\u001b[0m 2ms/step\n"
     ]
    }
   ],
   "source": [
    "samples, max_seq_len, vector_size = X_train_vectors_fast_word.shape\n",
    "num_classes = len(np.unique(y_train_fast_word))\n",
    "\n",
    "\n",
    "# y_train_onehot = to_categorical(y_train, num_classes=num_classes)\n",
    "# y_test_onehot = to_categorical(y_test, num_classes=num_classes)\n",
    "# y_test_onehot_data = to_categorical(y_test_data, num_classes=num_classes)\n",
    "\n",
    "# Modellinitialisierung\n",
    "model_3 = Sequential()\n",
    "\n",
    "# LSTM-Schicht\n",
    "model_3.add(LSTM(units=128, input_shape=(max_seq_len, vector_size), return_sequences=False))\n",
    "\n",
    "# Optional: Dropout zur Vermeidung von Overfitting\n",
    "model_3.add(Dropout(0.5))\n",
    "\n",
    "# Dense-Schicht für die Ausgabe\n",
    "model_3.add(Dense(units=1, activation='sigmoid'))\n",
    "\n",
    "# Kompilieren des Modells\n",
    "model_3.compile(optimizer='adam',\n",
    "              loss='binary_crossentropy',\n",
    "              metrics=['accuracy', Recall()])\n",
    "\n",
    "class_weight = {0: 1, 1: 3} \n",
    "history_3 = model_3.fit(\n",
    "    X_train_vectors_fast_word, np.array(y_train_fast_word),\n",
    "    validation_data=(X_test_vectors_fast_word, np.array(y_test_fast_word)),\n",
    "    epochs=10,\n",
    "    batch_size=32,\n",
    "    class_weight=class_weight,\n",
    "    verbose=2\n",
    ")\n"
   ]
  },
  {
   "cell_type": "code",
   "execution_count": 11,
   "metadata": {},
   "outputs": [
    {
     "name": "stdout",
     "output_type": "stream",
     "text": [
      "\u001b[1m1017/1017\u001b[0m \u001b[32m━━━━━━━━━━━━━━━━━━━━\u001b[0m\u001b[37m\u001b[0m \u001b[1m1s\u001b[0m 1ms/step\n"
     ]
    }
   ],
   "source": [
    "# Vorhersagen auf Testdaten\n",
    "predictions_3 = model_3.predict(X_test_data_vectors_test_fast_word)\n",
    "threshold = 0.35  # Oder teste 0.4 oder 0.6\n",
    "predicted_classes_fast_word = (predictions_3 > threshold).astype(int)"
   ]
  },
  {
   "cell_type": "code",
   "execution_count": 12,
   "metadata": {},
   "outputs": [
    {
     "name": "stdout",
     "output_type": "stream",
     "text": [
      " F1-Score (Klasse 2): 0.1275\n",
      " Recall (Klasse 2): 0.0788\n",
      " Precision (Klasse 2): 0.3346\n",
      " Accuracy (gesamt): 0.7732\n",
      " MCC: 0.0695\n",
      "Confusion Matrix:\n",
      " [[24613  1072]\n",
      " [ 6305   539]]\n"
     ]
    },
    {
     "data": {
      "image/png": "[encoded data removed]",
      "text/plain": [
       "<Figure size 400x400 with 2 Axes>"
      ]
     },
     "metadata": {},
     "output_type": "display_data"
    }
   ],
   "source": [
    "# Klassifikationsbericht erstellen (als Dictionary)\n",
    "report = classification_report(y_test_data_test_fast_word, predicted_classes_fast_word, output_dict=True)\n",
    "\n",
    "# Metriken NUR für Klasse 2 extrahieren\n",
    "precision_class_2 = report[\"1\"][\"precision\"]\n",
    "recall_class_2 = report[\"1\"][\"recall\"]\n",
    "f1_class_2 = report[\"1\"][\"f1-score\"]\n",
    "\n",
    "# Gesamtgenauigkeit berechnen\n",
    "accuracy = accuracy_score(y_test_data_test_fast_word, predicted_classes_fast_word)\n",
    "\n",
    "# Matthews Correlation Coefficient (MCC)\n",
    "mcc = matthews_corrcoef(y_test_data_test_fast_word, predicted_classes_fast_word)\n",
    "\n",
    "# Ergebnisse ausgeben (nur für Klasse 2)\n",
    "print(f\" F1-Score (Klasse 2): {f1_class_2:.4f}\")\n",
    "print(f\" Recall (Klasse 2): {recall_class_2:.4f}\")\n",
    "print(f\" Precision (Klasse 2): {precision_class_2:.4f}\")\n",
    "print(f\" Accuracy (gesamt): {accuracy:.4f}\")\n",
    "print(f\" MCC: {mcc:.4f}\")\n",
    "\n",
    "# Confusion Matrix berechnen\n",
    "cm = confusion_matrix(y_test_data_test_fast_word, predicted_classes_fast_word)\n",
    "print(\"Confusion Matrix:\\n\", cm)\n",
    "\n",
    "# Verwirrungsmatrix visualisieren\n",
    "plt.figure(figsize=(4, 4))\n",
    "sns.heatmap(cm, annot=True, fmt=\"d\", cmap=\"coolwarm\", linewidths=0.5, square=True,\n",
    "            xticklabels=[\"Class 0\", \"Class 1\", \"Class 2\"], yticklabels=[\"Class 0\", \"Class 1\", \"Class 2\"])\n",
    "plt.xlabel(\"Predicted Labels\", fontsize=12)\n",
    "plt.ylabel(\"True Labels\", fontsize=12)\n",
    "plt.title(\"Confusion Matrix\", fontsize=14)\n",
    "plt.show()"
   ]
  },
  {
   "cell_type": "markdown",
   "metadata": {},
   "source": [
    "Earlystop Aktivierung + Dropout Standard gelassen + epochen erhöhung + learning rate dynamisieren"
   ]
  },
  {
   "cell_type": "code",
   "execution_count": 13,
   "metadata": {},
   "outputs": [
    {
     "name": "stdout",
     "output_type": "stream",
     "text": [
      "Epoch 1/50\n"
     ]
    },
    {
     "name": "stderr",
     "output_type": "stream",
     "text": [
      "C:\\Users\\Nasiba\\AppData\\Local\\Packages\\PythonSoftwareFoundation.Python.3.11_qbz5n2kfra8p0\\LocalCache\\local-packages\\Python311\\site-packages\\keras\\src\\layers\\rnn\\rnn.py:200: UserWarning: Do not pass an `input_shape`/`input_dim` argument to a layer. When using Sequential models, prefer using an `Input(shape)` object as the first layer in the model instead.\n",
      "  super().__init__(**kwargs)\n"
     ]
    },
    {
     "name": "stdout",
     "output_type": "stream",
     "text": [
      "1823/1823 - 10s - 5ms/step - accuracy: 0.7666 - loss: 0.7574 - recall_1: 0.5065 - val_accuracy: 0.7941 - val_loss: 0.4517 - val_recall_1: 0.5099 - learning_rate: 0.0010\n",
      "Epoch 2/50\n",
      "1823/1823 - 8s - 4ms/step - accuracy: 0.7674 - loss: 0.7230 - recall_1: 0.5887 - val_accuracy: 0.7852 - val_loss: 0.4508 - val_recall_1: 0.5743 - learning_rate: 0.0010\n",
      "Epoch 3/50\n",
      "1823/1823 - 8s - 4ms/step - accuracy: 0.7679 - loss: 0.7102 - recall_1: 0.6119 - val_accuracy: 0.7972 - val_loss: 0.4289 - val_recall_1: 0.5691 - learning_rate: 0.0010\n",
      "Epoch 4/50\n",
      "1823/1823 - 7s - 4ms/step - accuracy: 0.7696 - loss: 0.6999 - recall_1: 0.6256 - val_accuracy: 0.7596 - val_loss: 0.4731 - val_recall_1: 0.7099 - learning_rate: 0.0010\n",
      "Epoch 5/50\n",
      "1823/1823 - 7s - 4ms/step - accuracy: 0.7733 - loss: 0.6926 - recall_1: 0.6386 - val_accuracy: 0.7719 - val_loss: 0.4538 - val_recall_1: 0.6873 - learning_rate: 0.0010\n",
      "Epoch 6/50\n",
      "1823/1823 - 7s - 4ms/step - accuracy: 0.7759 - loss: 0.6841 - recall_1: 0.6459 - val_accuracy: 0.7628 - val_loss: 0.4609 - val_recall_1: 0.7189 - learning_rate: 0.0010\n",
      "Epoch 7/50\n",
      "1823/1823 - 7s - 4ms/step - accuracy: 0.7793 - loss: 0.6744 - recall_1: 0.6595 - val_accuracy: 0.7919 - val_loss: 0.4268 - val_recall_1: 0.6414 - learning_rate: 5.0000e-04\n",
      "Epoch 8/50\n",
      "1823/1823 - 7s - 4ms/step - accuracy: 0.7812 - loss: 0.6707 - recall_1: 0.6571 - val_accuracy: 0.7590 - val_loss: 0.4595 - val_recall_1: 0.7318 - learning_rate: 5.0000e-04\n",
      "Epoch 9/50\n",
      "1823/1823 - 7s - 4ms/step - accuracy: 0.7822 - loss: 0.6669 - recall_1: 0.6610 - val_accuracy: 0.8006 - val_loss: 0.4151 - val_recall_1: 0.6213 - learning_rate: 5.0000e-04\n",
      "Epoch 10/50\n",
      "1823/1823 - 7s - 4ms/step - accuracy: 0.7833 - loss: 0.6640 - recall_1: 0.6686 - val_accuracy: 0.7841 - val_loss: 0.4349 - val_recall_1: 0.6864 - learning_rate: 5.0000e-04\n",
      "Epoch 11/50\n",
      "1823/1823 - 7s - 4ms/step - accuracy: 0.7839 - loss: 0.6624 - recall_1: 0.6629 - val_accuracy: 0.7982 - val_loss: 0.4175 - val_recall_1: 0.6500 - learning_rate: 5.0000e-04\n",
      "Epoch 12/50\n",
      "1823/1823 - 7s - 4ms/step - accuracy: 0.7840 - loss: 0.6587 - recall_1: 0.6682 - val_accuracy: 0.8071 - val_loss: 0.4117 - val_recall_1: 0.6184 - learning_rate: 5.0000e-04\n",
      "Epoch 13/50\n",
      "1823/1823 - 8s - 4ms/step - accuracy: 0.7862 - loss: 0.6570 - recall_1: 0.6705 - val_accuracy: 0.7964 - val_loss: 0.4213 - val_recall_1: 0.6667 - learning_rate: 5.0000e-04\n",
      "Epoch 14/50\n",
      "1823/1823 - 8s - 4ms/step - accuracy: 0.7876 - loss: 0.6542 - recall_1: 0.6703 - val_accuracy: 0.7837 - val_loss: 0.4343 - val_recall_1: 0.6996 - learning_rate: 5.0000e-04\n",
      "Epoch 15/50\n",
      "1823/1823 - 8s - 4ms/step - accuracy: 0.7881 - loss: 0.6516 - recall_1: 0.6749 - val_accuracy: 0.7915 - val_loss: 0.4267 - val_recall_1: 0.6855 - learning_rate: 5.0000e-04\n",
      "Epoch 16/50\n",
      "1823/1823 - 9s - 5ms/step - accuracy: 0.7901 - loss: 0.6472 - recall_1: 0.6776 - val_accuracy: 0.7848 - val_loss: 0.4348 - val_recall_1: 0.7070 - learning_rate: 2.5000e-04\n",
      "Epoch 17/50\n",
      "1823/1823 - 9s - 5ms/step - accuracy: 0.7906 - loss: 0.6457 - recall_1: 0.6789 - val_accuracy: 0.7926 - val_loss: 0.4285 - val_recall_1: 0.6893 - learning_rate: 2.5000e-04\n",
      "\u001b[1m1017/1017\u001b[0m \u001b[32m━━━━━━━━━━━━━━━━━━━━\u001b[0m\u001b[37m\u001b[0m \u001b[1m2s\u001b[0m 2ms/step\n"
     ]
    }
   ],
   "source": [
    "\n",
    "samples, max_seq_len, vector_size = X_train_vectors_fast_word.shape\n",
    "num_classes = len(np.unique(y_train_fast_word))\n",
    "# Modellinitialisierung\n",
    "model_21 = Sequential()\n",
    "\n",
    "# LSTM-Schicht\n",
    "model_21.add(LSTM(units=128, input_shape=(max_seq_len, vector_size), return_sequences=False))\n",
    "\n",
    "# Optional: Dropout zur Vermeidung von Overfitting\n",
    "model_21.add(Dropout(0.5))\n",
    "\n",
    "# Dense-Schicht für die Ausgabe\n",
    "model_21.add(Dense(units=1, activation='sigmoid'))\n",
    "\n",
    "# Kompilieren des Modells mit verbesserter Lernrate\n",
    "model_21.compile(optimizer=Adam(),\n",
    "                 loss='binary_crossentropy',\n",
    "                 metrics=['accuracy', Recall()])\n",
    "\n",
    "class_weight = {0: 1, 1: 3}\n",
    "early_stopping = EarlyStopping(monitor='val_loss', patience=5, restore_best_weights=True)\n",
    "\n",
    "reduce_lr = ReduceLROnPlateau(monitor='val_loss', factor=0.5, patience=3, min_lr=0.00001)\n",
    "\n",
    "history_21 = model_21.fit(\n",
    "    X_train_vectors_fast_word, np.array(y_train_fast_word),\n",
    "    validation_data=(X_test_vectors_fast_word, np.array(y_test_fast_word)),\n",
    "    epochs=50,\n",
    "    batch_size=32,\n",
    "    callbacks=[early_stopping,reduce_lr],\n",
    "    class_weight=class_weight,\n",
    "    verbose=2\n",
    ")\n",
    "\n",
    "# Vorhersagen auf Testdaten\n",
    "predictions_21= model_21.predict(X_test_data_vectors_test_fast_word)\n",
    "threshold = 0.35 # Oder teste 0.4 oder 0.6\n",
    "predicted_classes_21 = (predictions_21 > threshold).astype(int)\n",
    "\n"
   ]
  },
  {
   "cell_type": "code",
   "execution_count": 17,
   "metadata": {},
   "outputs": [
    {
     "name": "stdout",
     "output_type": "stream",
     "text": [
      "\u001b[1m1017/1017\u001b[0m \u001b[32m━━━━━━━━━━━━━━━━━━━━\u001b[0m\u001b[37m\u001b[0m \u001b[1m2s\u001b[0m 2ms/step\n"
     ]
    }
   ],
   "source": [
    "# Vorhersagen auf Testdaten\n",
    "predictions_21= model_21.predict(X_test_data_vectors_test_fast_word)\n",
    "threshold = 0.35 # Oder teste 0.4 oder 0.6\n",
    "predicted_classes_21 = (predictions_21 > threshold).astype(int)"
   ]
  },
  {
   "cell_type": "code",
   "execution_count": null,
   "metadata": {},
   "outputs": [
    {
     "name": "stdout",
     "output_type": "stream",
     "text": [
      " F1-Score (Klasse 2): 0.1667\n",
      " Recall (Klasse 2): 0.1090\n",
      " Precision (Klasse 2): 0.3539\n",
      " Accuracy (gesamt): 0.7707\n",
      " MCC: 0.0927\n",
      "Confusion Matrix:\n",
      " [[24323  1362]\n",
      " [ 6098   746]]\n"
     ]
    },
    {
     "data": {
      "image/png": "[encoded data removed]",
      "text/plain": [
       "<Figure size 400x400 with 2 Axes>"
      ]
     },
     "metadata": {},
     "output_type": "display_data"
    }
   ],
   "source": [
    "# Klassifikationsbericht erstellen (als Dictionary)\n",
    "report = classification_report(y_test_data_test_fast_word, predicted_classes_21, output_dict=True)\n",
    "\n",
    "# Metriken NUR für Klasse 2 extrahieren\n",
    "precision_class_2 = report[\"1\"][\"precision\"]\n",
    "recall_class_2 = report[\"1\"][\"recall\"]\n",
    "f1_class_2 = report[\"1\"][\"f1-score\"]\n",
    "\n",
    "# Gesamtgenauigkeit berechnen\n",
    "accuracy = accuracy_score(y_test_data_test_fast_word, predicted_classes_21)\n",
    "\n",
    "# Matthews Correlation Coefficient (MCC)\n",
    "mcc = matthews_corrcoef(y_test_data_test_fast_word, predicted_classes_21)\n",
    "\n",
    "# Ergebnisse ausgeben (nur für Klasse 2)\n",
    "print(f\" F1-Score (Klasse 2): {f1_class_2:.4f}\")\n",
    "print(f\" Recall (Klasse 2): {recall_class_2:.4f}\")\n",
    "print(f\" Precision (Klasse 2): {precision_class_2:.4f}\")\n",
    "print(f\" Accuracy (gesamt): {accuracy:.4f}\")\n",
    "print(f\" MCC: {mcc:.4f}\")\n",
    "\n",
    "# Confusion Matrix berechnen\n",
    "cm = confusion_matrix(y_test_data_test_fast_word, predicted_classes_21)\n",
    "print(\"Confusion Matrix:\\n\", cm)\n",
    "\n",
    "# Verwirrungsmatrix visualisieren\n",
    "plt.figure(figsize=(4, 4))\n",
    "sns.heatmap(cm, annot=True, fmt=\"d\", cmap=\"coolwarm\", linewidths=0.5, square=True,\n",
    "            xticklabels=[\"Class 0\", \"Class 1\", \"Class 2\"], yticklabels=[\"Class 0\", \"Class 1\", \"Class 2\"])\n",
    "plt.xlabel(\"Predicted Labels\", fontsize=12)\n",
    "plt.ylabel(\"True Labels\", fontsize=12)\n",
    "plt.title(\"Confusion Matrix\", fontsize=14)\n",
    "plt.show()"
   ]
  },
  {
   "cell_type": "markdown",
   "metadata": {},
   "source": [
    "Modell speichern"
   ]
  },
  {
   "cell_type": "code",
   "execution_count": null,
   "metadata": {},
   "outputs": [],
   "source": [
    "save_path_model = os.path.abspath(os.path.join(src_path, 'src/3. Deep Learning Approach/nasiba/models/model_21_fast.keras'))\n",
    "# Erstelle das Verzeichnis, falls es nicht existiert\n",
    "os.makedirs(os.path.dirname(save_path_model), exist_ok=True)\n",
    "#save_path_model = os.path.abspath(os.path.join(src_path, 'src/3. Deep Learning Approach/nasiba/model_17.h5')) \n",
    "model_21.save(save_path_model)\n",
    "print(f\"Modell wurde erfolgreich gespeichert unter: {save_path_model}\")"
   ]
  }
 ],
 "metadata": {
  "kernelspec": {
   "display_name": "Python 3",
   "language": "python",
   "name": "python3"
  },
  "language_info": {
   "codemirror_mode": {
    "name": "ipython",
    "version": 3
   },
   "file_extension": ".py",
   "mimetype": "text/x-python",
   "name": "python",
   "nbconvert_exporter": "python",
   "pygments_lexer": "ipython3",
   "version": "3.11.9"
  }
 },
 "nbformat": 4,
 "nbformat_minor": 2
}
