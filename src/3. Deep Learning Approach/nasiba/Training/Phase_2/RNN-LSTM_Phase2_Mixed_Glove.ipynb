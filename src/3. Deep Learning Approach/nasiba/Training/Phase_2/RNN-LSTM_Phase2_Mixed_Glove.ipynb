{
 "cells": [
  {
   "cell_type": "code",
   "execution_count": 1,
   "metadata": {},
   "outputs": [],
   "source": [
    "# !pip install tensorflow\n",
    "#!pip install transformers\n",
    "#!pip install tf-keras\n",
    "# !pip install imblearn"
   ]
  },
  {
   "cell_type": "code",
   "execution_count": 2,
   "metadata": {},
   "outputs": [
    {
     "data": {
      "text/plain": [
       "WindowsPath('C:/Users/Nasiba/Documents/1 Master Data Science/Projektpraktikum/WebScience24')"
      ]
     },
     "execution_count": 2,
     "metadata": {},
     "output_type": "execute_result"
    }
   ],
   "source": [
    "import sys\n",
    "from pathlib import Path\n",
    "\n",
    "# Zum übergeordneten Ordner 'src' wechseln\n",
    "current_path = Path().resolve()\n",
    "src_path = current_path.parents[4]  # Zwei Stufen nach oben\n",
    "\n",
    "if str(src_path) not in sys.path:\n",
    "    sys.path.append(str(src_path))\n",
    "\n",
    "src_path\n"
   ]
  },
  {
   "cell_type": "code",
   "execution_count": 7,
   "metadata": {},
   "outputs": [],
   "source": [
    "\n",
    "\n",
    "import pandas as pd\n",
    "import numpy as np\n",
    "import matplotlib.pyplot as plt\n",
    "import seaborn as sns\n",
    "\n",
    "from pathlib import Path\n",
    "from sklearn.linear_model import LogisticRegression\n",
    "from sklearn.metrics import accuracy_score, classification_report, confusion_matrix\n",
    "\n",
    "from collections import Counter\n",
    "#nlp = spacy.load(\"en_core_web_sm\")\n",
    "from nltk import word_tokenize\n",
    "pd.set_option('display.max_colwidth', None)\n",
    "from sklearn.model_selection import train_test_split\n",
    "from sklearn.feature_extraction.text import TfidfVectorizer\n",
    "from sklearn.feature_extraction.text import CountVectorizer\n",
    "from vector_functions import vectorize_glove, vectorize_glove_test_data,  vectorize_word2vec_test_data,  vectorize_glove_test_data_predict\n",
    "import nltk\n",
    "from tensorflow.keras.models import load_model\n",
    "\n",
    "import os\n",
    "from tensorflow.keras.models import Sequential\n",
    "from tensorflow.keras.layers import LSTM, Dense, Dropout, Bidirectional, Embedding\n",
    "from tensorflow.keras.utils import to_categorical\n",
    "from tensorflow.keras.models import Sequential\n",
    "from tensorflow.keras.optimizers import Adam\n",
    "from tensorflow.keras.metrics import Recall, Precision\n",
    "from tensorflow.keras.callbacks import EarlyStopping\n",
    "\n",
    "from tensorflow.keras.callbacks import ReduceLROnPlateau\n",
    "\n",
    "import numpy as np\n",
    "from tensorflow.keras.preprocessing.text import Tokenizer\n",
    "from tensorflow.keras.preprocessing.sequence import pad_sequences\n",
    "from tensorflow.keras.models import Sequential\n",
    "from tensorflow.keras.layers import LSTM, Dense, Dropout, Embedding\n",
    "from tensorflow.keras.optimizers import Adam\n",
    "from tensorflow.keras.callbacks import EarlyStopping, ReduceLROnPlateau\n",
    "from tensorflow.keras.metrics import Recall\n",
    "from sklearn.metrics import classification_report, confusion_matrix, accuracy_score, matthews_corrcoef\n"
   ]
  },
  {
   "cell_type": "markdown",
   "metadata": {},
   "source": [
    "#### Beladung der Daten"
   ]
  },
  {
   "cell_type": "code",
   "execution_count": 4,
   "metadata": {},
   "outputs": [
    {
     "data": {
      "text/html": [
       "<div>\n",
       "<style scoped>\n",
       "    .dataframe tbody tr th:only-of-type {\n",
       "        vertical-align: middle;\n",
       "    }\n",
       "\n",
       "    .dataframe tbody tr th {\n",
       "        vertical-align: top;\n",
       "    }\n",
       "\n",
       "    .dataframe thead th {\n",
       "        text-align: right;\n",
       "    }\n",
       "</style>\n",
       "<table border=\"1\" class=\"dataframe\">\n",
       "  <thead>\n",
       "    <tr style=\"text-align: right;\">\n",
       "      <th></th>\n",
       "      <th>label</th>\n",
       "      <th>tweet</th>\n",
       "      <th>tweet_cleaned</th>\n",
       "      <th>user_handle</th>\n",
       "      <th>hashtags</th>\n",
       "      <th>emojis</th>\n",
       "    </tr>\n",
       "  </thead>\n",
       "  <tbody>\n",
       "    <tr>\n",
       "      <th>140232</th>\n",
       "      <td>0</td>\n",
       "      <td>Nicki's \"that's not good\" pout bought to you by Botox[™]. #MKR</td>\n",
       "      <td>nickis \"thats not good\" pout bought to you by botox trade mark  mkr</td>\n",
       "      <td>0</td>\n",
       "      <td>['#mkr']</td>\n",
       "      <td>__trade_mark__</td>\n",
       "    </tr>\n",
       "  </tbody>\n",
       "</table>\n",
       "</div>"
      ],
      "text/plain": [
       "        label                                                           tweet  \\\n",
       "140232      0  Nicki's \"that's not good\" pout bought to you by Botox[™]. #MKR   \n",
       "\n",
       "                                                              tweet_cleaned  \\\n",
       "140232  nickis \"thats not good\" pout bought to you by botox trade mark  mkr   \n",
       "\n",
       "        user_handle  hashtags          emojis  \n",
       "140232            0  ['#mkr']  __trade_mark__  "
      ]
     },
     "execution_count": 4,
     "metadata": {},
     "output_type": "execute_result"
    }
   ],
   "source": [
    "\n",
    "source_filepath_name = os.path.abspath(os.path.join(src_path, 'data/mixed_dataset/train_cleaned_rnn.csv'))\n",
    "\n",
    "df_cleaned = pd.read_csv(source_filepath_name, encoding='utf-8', index_col=0)\n",
    "\n",
    "source_filepath_name_test = os.path.abspath(os.path.join(src_path, 'data/mixed_dataset/test_cleaned_rnn.csv'))\n",
    "\n",
    "df_cleaned_test = pd.read_csv(source_filepath_name_test, encoding='utf-8', index_col=0)\n",
    "\n",
    "\n",
    "df_cleaned.head(1)\n"
   ]
  },
  {
   "cell_type": "markdown",
   "metadata": {},
   "source": [
    "### Vektorisierung"
   ]
  },
  {
   "cell_type": "markdown",
   "metadata": {},
   "source": [
    "#### GloVe "
   ]
  },
  {
   "cell_type": "code",
   "execution_count": 5,
   "metadata": {},
   "outputs": [
    {
     "name": "stderr",
     "output_type": "stream",
     "text": [
      "c:\\Users\\Nasiba\\Documents\\1 Master Data Science\\Projektpraktikum\\WebScience24\\src\\3. Deep Learning Approach\\nasiba\\Training\\Phase_2\\vector_functions.py:438: SettingWithCopyWarning: \n",
      "A value is trying to be set on a copy of a slice from a DataFrame.\n",
      "Try using .loc[row_indexer,col_indexer] = value instead\n",
      "\n",
      "See the caveats in the documentation: https://pandas.pydata.org/pandas-docs/stable/user_guide/indexing.html#returning-a-view-versus-a-copy\n",
      "  df[text_column] = df[text_column].astype(str)\n",
      "c:\\Users\\Nasiba\\Documents\\1 Master Data Science\\Projektpraktikum\\WebScience24\\src\\3. Deep Learning Approach\\nasiba\\Training\\Phase_2\\vector_functions.py:510: SettingWithCopyWarning: \n",
      "A value is trying to be set on a copy of a slice from a DataFrame.\n",
      "Try using .loc[row_indexer,col_indexer] = value instead\n",
      "\n",
      "See the caveats in the documentation: https://pandas.pydata.org/pandas-docs/stable/user_guide/indexing.html#returning-a-view-versus-a-copy\n",
      "  df[text_column] = df[text_column].astype(str)\n"
     ]
    }
   ],
   "source": [
    "\n",
    "\n",
    "twitter_glove_path = os.path.abspath(os.path.join(src_path, 'src/3. Deep Learning Approach/nasiba/glove.6B.200d.txt'))\n",
    "\n",
    "\n",
    "X_train_vectors, X_test_vectors, y_train, y_test, glove_embeddings,tokenizer = vectorize_glove(df=df_cleaned, text_column =\"tweet_cleaned\", label_column=\"label\", glove_path=twitter_glove_path)\n",
    "\n",
    "X_test_data_vectors , y_test_data, glove_embeddings_test,tokenizer_test = vectorize_glove_test_data(df=df_cleaned_test, text_column =\"tweet_cleaned\", label_column=\"label\", glove_path=twitter_glove_path, tokenizer=tokenizer)\n"
   ]
  },
  {
   "cell_type": "markdown",
   "metadata": {},
   "source": [
    "### Modell aufbauen "
   ]
  },
  {
   "cell_type": "markdown",
   "metadata": {},
   "source": [
    "#### Model 1:"
   ]
  },
  {
   "cell_type": "code",
   "execution_count": 6,
   "metadata": {},
   "outputs": [
    {
     "name": "stderr",
     "output_type": "stream",
     "text": [
      "C:\\Users\\Nasiba\\AppData\\Local\\Packages\\PythonSoftwareFoundation.Python.3.11_qbz5n2kfra8p0\\LocalCache\\local-packages\\Python311\\site-packages\\keras\\src\\layers\\rnn\\rnn.py:200: UserWarning: Do not pass an `input_shape`/`input_dim` argument to a layer. When using Sequential models, prefer using an `Input(shape)` object as the first layer in the model instead.\n",
      "  super().__init__(**kwargs)\n"
     ]
    },
    {
     "name": "stdout",
     "output_type": "stream",
     "text": [
      "Epoch 1/10\n",
      "2996/2996 - 105s - 35ms/step - accuracy: 0.6655 - loss: 0.8835 - recall: 0.9545 - val_accuracy: 0.3898 - val_loss: 1.0193 - val_recall: 0.9774\n",
      "Epoch 2/10\n",
      "2996/2996 - 126s - 42ms/step - accuracy: 0.7435 - loss: 0.7421 - recall: 0.9577 - val_accuracy: 0.6659 - val_loss: 0.6970 - val_recall: 0.8772\n",
      "Epoch 3/10\n",
      "2996/2996 - 160s - 54ms/step - accuracy: 0.7968 - loss: 0.6203 - recall: 0.9665 - val_accuracy: 0.6425 - val_loss: 0.8152 - val_recall: 0.8794\n",
      "Epoch 4/10\n",
      "2996/2996 - 134s - 45ms/step - accuracy: 0.8501 - loss: 0.4969 - recall: 0.9738 - val_accuracy: 0.6859 - val_loss: 0.7331 - val_recall: 0.8366\n",
      "Epoch 5/10\n",
      "2996/2996 - 129s - 43ms/step - accuracy: 0.8852 - loss: 0.4020 - recall: 0.9796 - val_accuracy: 0.7567 - val_loss: 0.6709 - val_recall: 0.7298\n",
      "Epoch 6/10\n",
      "2996/2996 - 131s - 44ms/step - accuracy: 0.9116 - loss: 0.3292 - recall: 0.9844 - val_accuracy: 0.7669 - val_loss: 0.7013 - val_recall: 0.6967\n",
      "Epoch 7/10\n",
      "2996/2996 - 134s - 45ms/step - accuracy: 0.9283 - loss: 0.2780 - recall: 0.9863 - val_accuracy: 0.7911 - val_loss: 0.6583 - val_recall: 0.6555\n",
      "Epoch 8/10\n",
      "2996/2996 - 118s - 39ms/step - accuracy: 0.9394 - loss: 0.2416 - recall: 0.9888 - val_accuracy: 0.7819 - val_loss: 0.7226 - val_recall: 0.6498\n",
      "Epoch 9/10\n",
      "2996/2996 - 121s - 40ms/step - accuracy: 0.9490 - loss: 0.2075 - recall: 0.9905 - val_accuracy: 0.7749 - val_loss: 0.7658 - val_recall: 0.6656\n",
      "Epoch 10/10\n",
      "2996/2996 - 124s - 41ms/step - accuracy: 0.9570 - loss: 0.1813 - recall: 0.9912 - val_accuracy: 0.7979 - val_loss: 0.7440 - val_recall: 0.5884\n",
      "\u001b[1m1017/1017\u001b[0m \u001b[32m━━━━━━━━━━━━━━━━━━━━\u001b[0m\u001b[37m\u001b[0m \u001b[1m16s\u001b[0m 15ms/step\n"
     ]
    }
   ],
   "source": [
    "samples, max_seq_len, vector_size = X_train_vectors.shape\n",
    "num_classes = len(np.unique(y_train))\n",
    "\n",
    "\n",
    "# y_train_onehot = to_categorical(y_train, num_classes=num_classes)\n",
    "# y_test_onehot = to_categorical(y_test, num_classes=num_classes)\n",
    "# y_test_onehot_data = to_categorical(y_test_data, num_classes=num_classes)\n",
    "\n",
    "# Modellinitialisierung\n",
    "model_3 = Sequential()\n",
    "\n",
    "# LSTM-Schicht\n",
    "model_3.add(LSTM(units=128, input_shape=(max_seq_len, vector_size), return_sequences=False))\n",
    "\n",
    "# Optional: Dropout zur Vermeidung von Overfitting\n",
    "model_3.add(Dropout(0.5))\n",
    "\n",
    "# Dense-Schicht für die Ausgabe\n",
    "model_3.add(Dense(units=1, activation='sigmoid'))\n",
    "\n",
    "# Kompilieren des Modells\n",
    "model_3.compile(optimizer='adam',\n",
    "              loss='binary_crossentropy',\n",
    "              metrics=['accuracy', Recall()])\n",
    "\n",
    "class_weight = {0: 1, 1: 3} \n",
    "history_3 = model_3.fit(\n",
    "    X_train_vectors, np.array(y_train),\n",
    "    validation_data=(X_test_vectors, np.array(y_test)),\n",
    "    epochs=10,\n",
    "    batch_size=32,\n",
    "    class_weight=class_weight,\n",
    "    verbose=2\n",
    ")\n",
    "# Vorhersagen auf Testdaten\n",
    "predictions_3 = model_3.predict(X_test_data_vectors)\n",
    "threshold = 0.35  # Oder teste 0.4 oder 0.6\n",
    "predicted_classes_3 = (predictions_3 > threshold).astype(int)"
   ]
  },
  {
   "cell_type": "code",
   "execution_count": 8,
   "metadata": {},
   "outputs": [
    {
     "name": "stdout",
     "output_type": "stream",
     "text": [
      " F1-Score (Klasse 2): 0.5425\n",
      " Recall (Klasse 2): 0.6400\n",
      " Precision (Klasse 2): 0.4708\n",
      " Accuracy (gesamt): 0.7729\n",
      " MCC: 0.4043\n",
      "Confusion Matrix:\n",
      " [[20761  4924]\n",
      " [ 2464  4380]]\n"
     ]
    },
    {
     "data": {
      "image/png": "[encoded data removed]",
      "text/plain": [
       "<Figure size 400x400 with 2 Axes>"
      ]
     },
     "metadata": {},
     "output_type": "display_data"
    }
   ],
   "source": [
    "# Klassifikationsbericht erstellen (als Dictionary)\n",
    "report = classification_report(y_test_data, predicted_classes_3, output_dict=True)\n",
    "\n",
    "# Metriken NUR für Klasse 2 extrahieren\n",
    "precision_class_2 = report[\"1\"][\"precision\"]\n",
    "recall_class_2 = report[\"1\"][\"recall\"]\n",
    "f1_class_2 = report[\"1\"][\"f1-score\"]\n",
    "\n",
    "# Gesamtgenauigkeit berechnen\n",
    "accuracy = accuracy_score(y_test_data, predicted_classes_3)\n",
    "\n",
    "# Matthews Correlation Coefficient (MCC)\n",
    "mcc = matthews_corrcoef(y_test_data, predicted_classes_3)\n",
    "\n",
    "# Ergebnisse ausgeben (nur für Klasse 2)\n",
    "print(f\" F1-Score (Klasse 2): {f1_class_2:.4f}\")\n",
    "print(f\" Recall (Klasse 2): {recall_class_2:.4f}\")\n",
    "print(f\" Precision (Klasse 2): {precision_class_2:.4f}\")\n",
    "print(f\" Accuracy (gesamt): {accuracy:.4f}\")\n",
    "print(f\" MCC: {mcc:.4f}\")\n",
    "\n",
    "# Confusion Matrix berechnen\n",
    "cm = confusion_matrix(y_test_data, predicted_classes_3)\n",
    "print(\"Confusion Matrix:\\n\", cm)\n",
    "\n",
    "# Verwirrungsmatrix visualisieren\n",
    "plt.figure(figsize=(4, 4))\n",
    "sns.heatmap(cm, annot=True, fmt=\"d\", cmap=\"coolwarm\", linewidths=0.5, square=True,\n",
    "            xticklabels=[\"Class 0\", \"Class 1\", \"Class 2\"], yticklabels=[\"Class 0\", \"Class 1\", \"Class 2\"])\n",
    "plt.xlabel(\"Predicted Labels\", fontsize=12)\n",
    "plt.ylabel(\"True Labels\", fontsize=12)\n",
    "plt.title(\"Confusion Matrix\", fontsize=14)\n",
    "plt.show()"
   ]
  },
  {
   "cell_type": "markdown",
   "metadata": {},
   "source": [
    "#### Model 2:\n",
    "Earlystop Aktivierung + Dropout Erhöhung + epochen erhöhung + learning rate dynamisieren"
   ]
  },
  {
   "cell_type": "code",
   "execution_count": 9,
   "metadata": {},
   "outputs": [
    {
     "name": "stderr",
     "output_type": "stream",
     "text": [
      "C:\\Users\\Nasiba\\AppData\\Local\\Packages\\PythonSoftwareFoundation.Python.3.11_qbz5n2kfra8p0\\LocalCache\\local-packages\\Python311\\site-packages\\keras\\src\\layers\\rnn\\rnn.py:200: UserWarning: Do not pass an `input_shape`/`input_dim` argument to a layer. When using Sequential models, prefer using an `Input(shape)` object as the first layer in the model instead.\n",
      "  super().__init__(**kwargs)\n"
     ]
    },
    {
     "name": "stdout",
     "output_type": "stream",
     "text": [
      "Epoch 1/50\n",
      "2996/2996 - 139s - 47ms/step - accuracy: 0.6679 - loss: 0.8802 - recall_1: 0.9477 - val_accuracy: 0.5421 - val_loss: 0.8222 - val_recall_1: 0.9408 - learning_rate: 0.0010\n",
      "Epoch 2/50\n",
      "2996/2996 - 169s - 56ms/step - accuracy: 0.7451 - loss: 0.7365 - recall_1: 0.9537 - val_accuracy: 0.6721 - val_loss: 0.6775 - val_recall_1: 0.8583 - learning_rate: 0.0010\n",
      "Epoch 3/50\n",
      "2996/2996 - 248s - 83ms/step - accuracy: 0.7959 - loss: 0.6241 - recall_1: 0.9652 - val_accuracy: 0.7398 - val_loss: 0.6075 - val_recall_1: 0.7941 - learning_rate: 0.0010\n",
      "Epoch 4/50\n",
      "2996/2996 - 311s - 104ms/step - accuracy: 0.8488 - loss: 0.5020 - recall_1: 0.9743 - val_accuracy: 0.7026 - val_loss: 0.7417 - val_recall_1: 0.8048 - learning_rate: 0.0010\n",
      "Epoch 5/50\n",
      "2996/2996 - 273s - 91ms/step - accuracy: 0.8650 - loss: 0.4625 - recall_1: 0.9722 - val_accuracy: 0.7059 - val_loss: 0.6756 - val_recall_1: 0.7914 - learning_rate: 0.0010\n",
      "Epoch 6/50\n",
      "2996/2996 - 238s - 79ms/step - accuracy: 0.8955 - loss: 0.3741 - recall_1: 0.9805 - val_accuracy: 0.7796 - val_loss: 0.6047 - val_recall_1: 0.6772 - learning_rate: 0.0010\n",
      "Epoch 7/50\n",
      "2996/2996 - 314s - 105ms/step - accuracy: 0.9209 - loss: 0.3009 - recall_1: 0.9863 - val_accuracy: 0.7768 - val_loss: 0.6648 - val_recall_1: 0.6737 - learning_rate: 0.0010\n",
      "Epoch 8/50\n",
      "2996/2996 - 319s - 106ms/step - accuracy: 0.9339 - loss: 0.2594 - recall_1: 0.9865 - val_accuracy: 0.8005 - val_loss: 0.6709 - val_recall_1: 0.5998 - learning_rate: 0.0010\n",
      "Epoch 9/50\n",
      "2996/2996 - 276s - 92ms/step - accuracy: 0.9445 - loss: 0.2223 - recall_1: 0.9888 - val_accuracy: 0.7860 - val_loss: 0.7721 - val_recall_1: 0.6239 - learning_rate: 0.0010\n",
      "Epoch 10/50\n",
      "2996/2996 - 284s - 95ms/step - accuracy: 0.9662 - loss: 0.1464 - recall_1: 0.9947 - val_accuracy: 0.8021 - val_loss: 0.8816 - val_recall_1: 0.5851 - learning_rate: 5.0000e-04\n",
      "Epoch 11/50\n",
      "2996/2996 - 195s - 65ms/step - accuracy: 0.9726 - loss: 0.1238 - recall_1: 0.9960 - val_accuracy: 0.8046 - val_loss: 0.9351 - val_recall_1: 0.5513 - learning_rate: 5.0000e-04\n",
      "\u001b[1m1017/1017\u001b[0m \u001b[32m━━━━━━━━━━━━━━━━━━━━\u001b[0m\u001b[37m\u001b[0m \u001b[1m28s\u001b[0m 27ms/step\n"
     ]
    }
   ],
   "source": [
    "\n",
    "samples, max_seq_len, vector_size = X_train_vectors.shape\n",
    "num_classes = len(np.unique(y_train))\n",
    "# Modellinitialisierung\n",
    "model_17 = Sequential()\n",
    "\n",
    "# LSTM-Schicht\n",
    "model_17.add(LSTM(units=128, input_shape=(max_seq_len, vector_size), return_sequences=False))\n",
    "\n",
    "# Optional: Dropout zur Vermeidung von Overfitting\n",
    "model_17.add(Dropout(0.35))\n",
    "\n",
    "# Dense-Schicht für die Ausgabe\n",
    "model_17.add(Dense(units=1, activation='sigmoid'))\n",
    "\n",
    "# Kompilieren des Modells mit verbesserter Lernrate\n",
    "model_17.compile(optimizer=Adam(),\n",
    "                 loss='binary_crossentropy',\n",
    "                 metrics=['accuracy', Recall()])\n",
    "\n",
    "class_weight = {0: 1, 1: 3}\n",
    "early_stopping = EarlyStopping(monitor='val_loss', patience=5, restore_best_weights=True)\n",
    "\n",
    "reduce_lr = ReduceLROnPlateau(monitor='val_loss', factor=0.5, patience=3, min_lr=0.00001)\n",
    "\n",
    "history_17 = model_17.fit(\n",
    "    X_train_vectors, np.array(y_train),\n",
    "    validation_data=(X_test_vectors, np.array(y_test)),\n",
    "    epochs=50,\n",
    "    batch_size=32,\n",
    "    callbacks=[early_stopping,reduce_lr],\n",
    "    class_weight=class_weight,\n",
    "    verbose=2\n",
    ")\n",
    "\n",
    "\n",
    "predictions_17 = model_17.predict(X_test_data_vectors)\n",
    "threshold = 0.35  # Oder teste 0.4 oder 0.6\n",
    "predicted_classes_17 = (predictions_17 > threshold).astype(int)\n"
   ]
  },
  {
   "cell_type": "code",
   "execution_count": 16,
   "metadata": {},
   "outputs": [
    {
     "name": "stdout",
     "output_type": "stream",
     "text": [
      " F1-Score (Klasse 2): 0.5416\n",
      " Recall (Klasse 2): 0.7507\n",
      " Precision (Klasse 2): 0.4236\n",
      " Accuracy (gesamt): 0.7327\n",
      " MCC: 0.4034\n",
      "Confusion Matrix:\n",
      " [[18695  6990]\n",
      " [ 1706  5138]]\n"
     ]
    },
    {
     "data": {
      "image/png": "[encoded data removed]",
      "text/plain": [
       "<Figure size 400x400 with 2 Axes>"
      ]
     },
     "metadata": {},
     "output_type": "display_data"
    }
   ],
   "source": [
    "# Klassifikationsbericht erstellen (als Dictionary)\n",
    "report = classification_report(y_test_data, predicted_classes_17, output_dict=True)\n",
    "\n",
    "# Metriken NUR für Klasse 2 extrahieren\n",
    "precision_class_2 = report[\"1\"][\"precision\"]\n",
    "recall_class_2 = report[\"1\"][\"recall\"]\n",
    "f1_class_2 = report[\"1\"][\"f1-score\"]\n",
    "\n",
    "# Gesamtgenauigkeit berechnen\n",
    "accuracy = accuracy_score(y_test_data, predicted_classes_17)\n",
    "\n",
    "# Matthews Correlation Coefficient (MCC)\n",
    "mcc = matthews_corrcoef(y_test_data, predicted_classes_17)\n",
    "\n",
    "# Ergebnisse ausgeben (nur für Klasse 2)\n",
    "print(f\" F1-Score (Klasse 2): {f1_class_2:.4f}\")\n",
    "print(f\" Recall (Klasse 2): {recall_class_2:.4f}\")\n",
    "print(f\" Precision (Klasse 2): {precision_class_2:.4f}\")\n",
    "print(f\" Accuracy (gesamt): {accuracy:.4f}\")\n",
    "print(f\" MCC: {mcc:.4f}\")\n",
    "\n",
    "# Confusion Matrix berechnen\n",
    "cm = confusion_matrix(y_test_data, predicted_classes_17)\n",
    "print(\"Confusion Matrix:\\n\", cm)\n",
    "\n",
    "# Verwirrungsmatrix visualisieren\n",
    "plt.figure(figsize=(4, 4))\n",
    "sns.heatmap(cm, annot=True, fmt=\"d\", cmap=\"coolwarm\", linewidths=0.5, square=True,\n",
    "            xticklabels=[\"Class 0\", \"Class 1\", \"Class 2\"], yticklabels=[\"Class 0\", \"Class 1\", \"Class 2\"])\n",
    "plt.xlabel(\"Predicted Labels\", fontsize=12)\n",
    "plt.ylabel(\"True Labels\", fontsize=12)\n",
    "plt.title(\"Confusion Matrix\", fontsize=14)\n",
    "plt.show()"
   ]
  },
  {
   "cell_type": "markdown",
   "metadata": {},
   "source": [
    "#### Model 3:\n",
    "Earlystop Aktivierung + Dropout Standard gelassen + epochen erhöhung + learning rate dynamisieren"
   ]
  },
  {
   "cell_type": "code",
   "execution_count": 10,
   "metadata": {},
   "outputs": [
    {
     "name": "stdout",
     "output_type": "stream",
     "text": [
      "Epoch 1/50\n",
      "2996/2996 - 252s - 84ms/step - accuracy: 0.6527 - loss: 0.9004 - recall_2: 0.9557 - val_accuracy: 0.5534 - val_loss: 0.8068 - val_recall_2: 0.9202 - learning_rate: 0.0010\n",
      "Epoch 2/50\n",
      "2996/2996 - 198s - 66ms/step - accuracy: 0.7447 - loss: 0.7464 - recall_2: 0.9556 - val_accuracy: 0.6257 - val_loss: 0.7923 - val_recall_2: 0.9031 - learning_rate: 0.0010\n",
      "Epoch 3/50\n",
      "2996/2996 - 294s - 98ms/step - accuracy: 0.7947 - loss: 0.6267 - recall_2: 0.9667 - val_accuracy: 0.7457 - val_loss: 0.5751 - val_recall_2: 0.7693 - learning_rate: 0.0010\n",
      "Epoch 4/50\n",
      "2996/2996 - 244s - 81ms/step - accuracy: 0.8425 - loss: 0.5243 - recall_2: 0.9721 - val_accuracy: 0.7286 - val_loss: 0.6206 - val_recall_2: 0.7809 - learning_rate: 0.0010\n",
      "Epoch 5/50\n",
      "2996/2996 - 298s - 99ms/step - accuracy: 0.8787 - loss: 0.4299 - recall_2: 0.9788 - val_accuracy: 0.7182 - val_loss: 0.7525 - val_recall_2: 0.7724 - learning_rate: 0.0010\n",
      "Epoch 6/50\n",
      "2996/2996 - 231s - 77ms/step - accuracy: 0.9064 - loss: 0.3532 - recall_2: 0.9826 - val_accuracy: 0.7593 - val_loss: 0.6947 - val_recall_2: 0.7004 - learning_rate: 0.0010\n",
      "Epoch 7/50\n",
      "2996/2996 - 6961s - 2s/step - accuracy: 0.9404 - loss: 0.2491 - recall_2: 0.9895 - val_accuracy: 0.7956 - val_loss: 0.6904 - val_recall_2: 0.6154 - learning_rate: 5.0000e-04\n",
      "Epoch 8/50\n",
      "2996/2996 - 127s - 42ms/step - accuracy: 0.9524 - loss: 0.2081 - recall_2: 0.9916 - val_accuracy: 0.7934 - val_loss: 0.7583 - val_recall_2: 0.6096 - learning_rate: 5.0000e-04\n",
      "\u001b[1m1017/1017\u001b[0m \u001b[32m━━━━━━━━━━━━━━━━━━━━\u001b[0m\u001b[37m\u001b[0m \u001b[1m15s\u001b[0m 14ms/step\n"
     ]
    }
   ],
   "source": [
    "\n",
    "samples, max_seq_len, vector_size = X_train_vectors.shape\n",
    "num_classes = len(np.unique(y_train))\n",
    "# Modellinitialisierung\n",
    "model_21 = Sequential()\n",
    "\n",
    "# LSTM-Schicht\n",
    "model_21.add(LSTM(units=128, input_shape=(max_seq_len, vector_size), return_sequences=False))\n",
    "\n",
    "# Optional: Dropout zur Vermeidung von Overfitting\n",
    "model_21.add(Dropout(0.5))\n",
    "\n",
    "# Dense-Schicht für die Ausgabe\n",
    "model_21.add(Dense(units=1, activation='sigmoid'))\n",
    "\n",
    "# Kompilieren des Modells mit verbesserter Lernrate\n",
    "model_21.compile(optimizer=Adam(),\n",
    "                 loss='binary_crossentropy',\n",
    "                 metrics=['accuracy', Recall()])\n",
    "\n",
    "class_weight = {0: 1, 1: 3}\n",
    "early_stopping = EarlyStopping(monitor='val_loss', patience=5, restore_best_weights=True)\n",
    "\n",
    "reduce_lr = ReduceLROnPlateau(monitor='val_loss', factor=0.5, patience=3, min_lr=0.00001)\n",
    "\n",
    "history_21 = model_21.fit(\n",
    "    X_train_vectors, np.array(y_train),\n",
    "    validation_data=(X_test_vectors, np.array(y_test)),\n",
    "    epochs=50,\n",
    "    batch_size=32,\n",
    "    callbacks=[early_stopping,reduce_lr],\n",
    "    class_weight=class_weight,\n",
    "    verbose=2\n",
    ")\n",
    "\n",
    "# Vorhersagen auf Testdaten\n",
    "predictions_21= model_21.predict(X_test_data_vectors)\n",
    "threshold = 0.35  # Oder teste 0.4 oder 0.6\n",
    "predicted_classes_21 = (predictions_21 > threshold).astype(int)\n",
    "\n",
    "\n"
   ]
  },
  {
   "cell_type": "code",
   "execution_count": 17,
   "metadata": {},
   "outputs": [
    {
     "name": "stdout",
     "output_type": "stream",
     "text": [
      " F1-Score (Klasse 2): 0.5153\n",
      " Recall (Klasse 2): 0.8293\n",
      " Precision (Klasse 2): 0.3738\n",
      " Accuracy (gesamt): 0.6717\n",
      " MCC: 0.3751\n",
      "Confusion Matrix:\n",
      " [[16175  9510]\n",
      " [ 1168  5676]]\n"
     ]
    },
    {
     "data": {
      "image/png": "[encoded data removed]",
      "text/plain": [
       "<Figure size 400x400 with 2 Axes>"
      ]
     },
     "metadata": {},
     "output_type": "display_data"
    }
   ],
   "source": [
    "# Klassifikationsbericht erstellen (als Dictionary)\n",
    "report = classification_report(y_test_data, predicted_classes_21, output_dict=True)\n",
    "\n",
    "# Metriken NUR für Klasse 2 extrahieren\n",
    "precision_class_2 = report[\"1\"][\"precision\"]\n",
    "recall_class_2 = report[\"1\"][\"recall\"]\n",
    "f1_class_2 = report[\"1\"][\"f1-score\"]\n",
    "\n",
    "# Gesamtgenauigkeit berechnen\n",
    "accuracy = accuracy_score(y_test_data, predicted_classes_21)\n",
    "\n",
    "# Matthews Correlation Coefficient (MCC)\n",
    "mcc = matthews_corrcoef(y_test_data, predicted_classes_21)\n",
    "\n",
    "# Ergebnisse ausgeben (nur für Klasse 2)\n",
    "print(f\" F1-Score (Klasse 2): {f1_class_2:.4f}\")\n",
    "print(f\" Recall (Klasse 2): {recall_class_2:.4f}\")\n",
    "print(f\" Precision (Klasse 2): {precision_class_2:.4f}\")\n",
    "print(f\" Accuracy (gesamt): {accuracy:.4f}\")\n",
    "print(f\" MCC: {mcc:.4f}\")\n",
    "\n",
    "# Confusion Matrix berechnen\n",
    "cm = confusion_matrix(y_test_data, predicted_classes_21)\n",
    "print(\"Confusion Matrix:\\n\", cm)\n",
    "\n",
    "# Verwirrungsmatrix visualisieren\n",
    "plt.figure(figsize=(4, 4))\n",
    "sns.heatmap(cm, annot=True, fmt=\"d\", cmap=\"coolwarm\", linewidths=0.5, square=True,\n",
    "            xticklabels=[\"Class 0\", \"Class 1\", \"Class 2\"], yticklabels=[\"Class 0\", \"Class 1\", \"Class 2\"])\n",
    "plt.xlabel(\"Predicted Labels\", fontsize=12)\n",
    "plt.ylabel(\"True Labels\", fontsize=12)\n",
    "plt.title(\"Confusion Matrix\", fontsize=14)\n",
    "plt.show()"
   ]
  },
  {
   "cell_type": "markdown",
   "metadata": {},
   "source": [
    "model_21 mit anderem tokenizer"
   ]
  },
  {
   "cell_type": "code",
   "execution_count": 11,
   "metadata": {},
   "outputs": [
    {
     "name": "stdout",
     "output_type": "stream",
     "text": [
      "Epoch 1/50\n",
      "2996/2996 - 146s - 49ms/step - accuracy: 0.6651 - loss: 0.8860 - recall_3: 0.9520 - val_accuracy: 0.6010 - val_loss: 0.8019 - val_recall_3: 0.9046 - learning_rate: 0.0010\n",
      "Epoch 2/50\n",
      "2996/2996 - 137s - 46ms/step - accuracy: 0.7433 - loss: 0.7504 - recall_3: 0.9527 - val_accuracy: 0.5567 - val_loss: 0.8651 - val_recall_3: 0.9360 - learning_rate: 0.0010\n",
      "Epoch 3/50\n",
      "2996/2996 - 138s - 46ms/step - accuracy: 0.7929 - loss: 0.6282 - recall_3: 0.9681 - val_accuracy: 0.6724 - val_loss: 0.7250 - val_recall_3: 0.8647 - learning_rate: 0.0010\n",
      "Epoch 4/50\n",
      "2996/2996 - 317s - 106ms/step - accuracy: 0.8419 - loss: 0.5182 - recall_3: 0.9734 - val_accuracy: 0.7456 - val_loss: 0.5868 - val_recall_3: 0.7627 - learning_rate: 0.0010\n",
      "Epoch 5/50\n",
      "2996/2996 - 143s - 48ms/step - accuracy: 0.8799 - loss: 0.4253 - recall_3: 0.9774 - val_accuracy: 0.7592 - val_loss: 0.6711 - val_recall_3: 0.7221 - learning_rate: 0.0010\n",
      "Epoch 6/50\n",
      "2996/2996 - 131s - 44ms/step - accuracy: 0.9040 - loss: 0.3563 - recall_3: 0.9809 - val_accuracy: 0.7750 - val_loss: 0.6817 - val_recall_3: 0.7037 - learning_rate: 0.0010\n",
      "Epoch 7/50\n",
      "2996/2996 - 138s - 46ms/step - accuracy: 0.9259 - loss: 0.2920 - recall_3: 0.9854 - val_accuracy: 0.7697 - val_loss: 0.6800 - val_recall_3: 0.7081 - learning_rate: 0.0010\n",
      "Epoch 8/50\n",
      "2996/2996 - 144s - 48ms/step - accuracy: 0.9537 - loss: 0.2034 - recall_3: 0.9914 - val_accuracy: 0.8045 - val_loss: 0.7029 - val_recall_3: 0.6118 - learning_rate: 5.0000e-04\n",
      "Epoch 9/50\n",
      "2996/2996 - 153s - 51ms/step - accuracy: 0.9634 - loss: 0.1692 - recall_3: 0.9936 - val_accuracy: 0.8023 - val_loss: 0.7298 - val_recall_3: 0.6031 - learning_rate: 5.0000e-04\n",
      "\u001b[1m1017/1017\u001b[0m \u001b[32m━━━━━━━━━━━━━━━━━━━━\u001b[0m\u001b[37m\u001b[0m \u001b[1m21s\u001b[0m 20ms/step\n"
     ]
    }
   ],
   "source": [
    "\n",
    "samples, max_seq_len, vector_size = X_train_vectors.shape\n",
    "num_classes = len(np.unique(y_train))\n",
    "# Modellinitialisierung\n",
    "model_21_tok = Sequential()\n",
    "\n",
    "# LSTM-Schicht\n",
    "model_21_tok.add(LSTM(units=128, input_shape=(max_seq_len, vector_size), return_sequences=False))\n",
    "\n",
    "# Optional: Dropout zur Vermeidung von Overfitting\n",
    "model_21_tok.add(Dropout(0.5))\n",
    "\n",
    "# Dense-Schicht für die Ausgabe\n",
    "model_21_tok.add(Dense(units=1, activation='sigmoid'))\n",
    "\n",
    "# Kompilieren des Modells mit verbesserter Lernrate\n",
    "model_21_tok.compile(optimizer=Adam(),\n",
    "                 loss='binary_crossentropy',\n",
    "                 metrics=['accuracy', Recall()])\n",
    "\n",
    "class_weight = {0: 1, 1: 3}\n",
    "early_stopping = EarlyStopping(monitor='val_loss', patience=5, restore_best_weights=True)\n",
    "\n",
    "reduce_lr = ReduceLROnPlateau(monitor='val_loss', factor=0.5, patience=3, min_lr=0.00001)\n",
    "\n",
    "history_21_tok = model_21_tok.fit(\n",
    "    X_train_vectors, np.array(y_train),\n",
    "    validation_data=(X_test_vectors, np.array(y_test)),\n",
    "    epochs=50,\n",
    "    batch_size=32,\n",
    "    callbacks=[early_stopping,reduce_lr],\n",
    "    class_weight=class_weight,\n",
    "    verbose=2\n",
    ")\n",
    "\n",
    "# Vorhersagen auf Testdaten\n",
    "predictions_21_tok= model_21_tok.predict(X_test_data_vectors)\n",
    "threshold=0.35 # Oder teste 0.4 oder 0.6\n",
    "predicted_classes_21_tok = (predictions_21_tok > threshold).astype(int)\n",
    "\n",
    "\n",
    "\n"
   ]
  },
  {
   "cell_type": "code",
   "execution_count": 12,
   "metadata": {},
   "outputs": [
    {
     "name": "stdout",
     "output_type": "stream",
     "text": [
      " F1-Score (Klasse 2): 0.5149\n",
      " Recall (Klasse 2): 0.8212\n",
      " Precision (Klasse 2): 0.3751\n",
      " Accuracy (gesamt): 0.6745\n",
      " MCC: 0.3751\n",
      "Confusion Matrix:\n",
      " [[16321  9364]\n",
      " [ 1224  5620]]\n"
     ]
    },
    {
     "data": {
      "image/png": "[encoded data removed]",
      "text/plain": [
       "<Figure size 400x400 with 2 Axes>"
      ]
     },
     "metadata": {},
     "output_type": "display_data"
    }
   ],
   "source": [
    "# Klassifikationsbericht erstellen (als Dictionary)\n",
    "report = classification_report(y_test_data, predicted_classes_21_tok, output_dict=True)\n",
    "\n",
    "# Metriken NUR für Klasse 2 extrahieren\n",
    "precision_class_2 = report[\"1\"][\"precision\"]\n",
    "recall_class_2 = report[\"1\"][\"recall\"]\n",
    "f1_class_2 = report[\"1\"][\"f1-score\"]\n",
    "\n",
    "# Gesamtgenauigkeit berechnen\n",
    "accuracy = accuracy_score(y_test_data, predicted_classes_21_tok)\n",
    "\n",
    "# Matthews Correlation Coefficient (MCC)\n",
    "mcc = matthews_corrcoef(y_test_data, predicted_classes_21)\n",
    "\n",
    "# Ergebnisse ausgeben (nur für Klasse 2)\n",
    "print(f\" F1-Score (Klasse 2): {f1_class_2:.4f}\")\n",
    "print(f\" Recall (Klasse 2): {recall_class_2:.4f}\")\n",
    "print(f\" Precision (Klasse 2): {precision_class_2:.4f}\")\n",
    "print(f\" Accuracy (gesamt): {accuracy:.4f}\")\n",
    "print(f\" MCC: {mcc:.4f}\")\n",
    "\n",
    "# Confusion Matrix berechnen\n",
    "cm = confusion_matrix(y_test_data, predicted_classes_21_tok)\n",
    "print(\"Confusion Matrix:\\n\", cm)\n",
    "\n",
    "# Verwirrungsmatrix visualisieren\n",
    "plt.figure(figsize=(4, 4))\n",
    "sns.heatmap(cm, annot=True, fmt=\"d\", cmap=\"coolwarm\", linewidths=0.5, square=True,\n",
    "            xticklabels=[\"Class 0\", \"Class 1\", \"Class 2\"], yticklabels=[\"Class 0\", \"Class 1\", \"Class 2\"])\n",
    "plt.xlabel(\"Predicted Labels\", fontsize=12)\n",
    "plt.ylabel(\"True Labels\", fontsize=12)\n",
    "plt.title(\"Confusion Matrix\", fontsize=14)\n",
    "plt.show()"
   ]
  },
  {
   "cell_type": "code",
   "execution_count": null,
   "metadata": {},
   "outputs": [],
   "source": [
    "# Entferne NaN-Werte aus df_test\n",
    "df_test = df_cleaned_test.dropna(subset=['tweet_cleaned', 'label'])\n",
    "\n",
    "# Nutze den bereits trainierten Tokenizer für df_test\n",
    "X_test_new = df_test['tweet_cleaned']\n",
    "\n",
    "# Tokenisierung mit dem vorhandenen Tokenizer\n",
    "X_test_new_sequences = tokenizer.texts_to_sequences(X_test_new)\n",
    "\n",
    "# Padding auf gleiche Länge\n",
    "X_test_padded_test = pad_sequences(X_test_new_sequences, padding='post', maxlen=max_seq_len)"
   ]
  },
  {
   "cell_type": "markdown",
   "metadata": {},
   "source": [
    "Model_21 predicten Testdaten"
   ]
  },
  {
   "cell_type": "code",
   "execution_count": 9,
   "metadata": {},
   "outputs": [
    {
     "data": {
      "text/plain": [
       "8886                                                                                                                                                   @user #cinemaaawards final rehearsals!! gearing up for the evening!! #butterflies #stage  ! hope u all like it \n",
       "27613                                                                                                                                                                         this was amazing. the weather was not. #musical #london #matilda #westend #weekend  â¦ \n",
       "18952                                                                                                                                                                                         child attacked by alligator at walt disney world     #waltdisneyworld   \n",
       "12485                                                                                                                                                                                                                               me rn cause school is over soon   \n",
       "5879                                                                                                                                                                                                                      is it #good to #sleep when  ?  #good #sleep \n",
       "                                                                                                                                      ...                                                                                                                             \n",
       "176360                                                                                                                                             Even liberals are humiliated by Charlie Rangel&#8217;s claim the GOP backs slavery - Hot Air http://t.co/I4QawESnud\n",
       "176366                                                                                                                                                                                                                                          @user photoshop my nig\n",
       "176384                                                                                                                                                                                                          And mad hoes you can ask Beavis I get nothing butthead\n",
       "176385    Because child concentration camps were not bad enough, the Trump administration will no longer allow incarcerated migrant children to play soccer, learn English, and is taking away their legal counsel. Til the last drop of humanity is extinguished. URL\n",
       "176387                                                                                                                                                          @user @user You didn't recognize the irony of me using your method because you are an ignorant Muslim.\n",
       "Name: tweet, Length: 32582, dtype: object"
      ]
     },
     "execution_count": 9,
     "metadata": {},
     "output_type": "execute_result"
    }
   ],
   "source": [
    "\n",
    "source_filepath_name = os.path.abspath(os.path.join(src_path, 'data/mixed_dataset/test.csv'))\n",
    "\n",
    "df_test = pd.read_csv(source_filepath_name, encoding='utf-8', index_col=0)\n",
    "\n",
    "X_test_data_vectors_3, text_col_test_data, glove_embeddings_3_test, tokenizer_3_test = vectorize_glove_test_data_predict(df=df_test, text_column =\"tweet\", glove_path=twitter_glove_path, tokenizer=tokenizer)\n",
    "\n",
    "text_col_test_data"
   ]
  },
  {
   "cell_type": "code",
   "execution_count": 12,
   "metadata": {},
   "outputs": [
    {
     "name": "stdout",
     "output_type": "stream",
     "text": [
      "\u001b[1m1019/1019\u001b[0m \u001b[32m━━━━━━━━━━━━━━━━━━━━\u001b[0m\u001b[37m\u001b[0m \u001b[1m19s\u001b[0m 19ms/step\n"
     ]
    },
    {
     "data": {
      "text/html": [
       "<div>\n",
       "<style scoped>\n",
       "    .dataframe tbody tr th:only-of-type {\n",
       "        vertical-align: middle;\n",
       "    }\n",
       "\n",
       "    .dataframe tbody tr th {\n",
       "        vertical-align: top;\n",
       "    }\n",
       "\n",
       "    .dataframe thead th {\n",
       "        text-align: right;\n",
       "    }\n",
       "</style>\n",
       "<table border=\"1\" class=\"dataframe\">\n",
       "  <thead>\n",
       "    <tr style=\"text-align: right;\">\n",
       "      <th></th>\n",
       "      <th>tweet</th>\n",
       "      <th>predicted_label</th>\n",
       "    </tr>\n",
       "  </thead>\n",
       "  <tbody>\n",
       "    <tr>\n",
       "      <th>11885</th>\n",
       "      <td>nothing would be more dangerous than to give #putinschoice the impression we accept  #stopracism #boycott?â¦</td>\n",
       "      <td>1</td>\n",
       "    </tr>\n",
       "    <tr>\n",
       "      <th>27378</th>\n",
       "      <td>attacks 11 week old baby. kills mother. #shocking   #disgusted</td>\n",
       "      <td>1</td>\n",
       "    </tr>\n",
       "    <tr>\n",
       "      <th>6640</th>\n",
       "      <td>and #misogyny is alive and well on the #left.  never let them tell you it isn't.</td>\n",
       "      <td>1</td>\n",
       "    </tr>\n",
       "    <tr>\n",
       "      <th>19019</th>\n",
       "      <td>what is a #detoxdiet?  #altwaystoheal! #healthy  !</td>\n",
       "      <td>1</td>\n",
       "    </tr>\n",
       "    <tr>\n",
       "      <th>12084</th>\n",
       "      <td>politics is great in theory but politicians are all self obsessed point scoring children &amp;amp; idiots take their word as gospel = dangerous</td>\n",
       "      <td>1</td>\n",
       "    </tr>\n",
       "    <tr>\n",
       "      <th>...</th>\n",
       "      <td>...</td>\n",
       "      <td>...</td>\n",
       "    </tr>\n",
       "    <tr>\n",
       "      <th>176344</th>\n",
       "      <td>@user Certainly the paper shows that the idea that drinking water was the only or main health issue in Iraq is a lie.</td>\n",
       "      <td>1</td>\n",
       "    </tr>\n",
       "    <tr>\n",
       "      <th>176360</th>\n",
       "      <td>Even liberals are humiliated by Charlie Rangel&amp;#8217;s claim the GOP backs slavery - Hot Air http://t.co/I4QawESnud</td>\n",
       "      <td>1</td>\n",
       "    </tr>\n",
       "    <tr>\n",
       "      <th>176366</th>\n",
       "      <td>@user photoshop my nig</td>\n",
       "      <td>1</td>\n",
       "    </tr>\n",
       "    <tr>\n",
       "      <th>176384</th>\n",
       "      <td>And mad hoes you can ask Beavis I get nothing butthead</td>\n",
       "      <td>1</td>\n",
       "    </tr>\n",
       "    <tr>\n",
       "      <th>176387</th>\n",
       "      <td>@user @user You didn't recognize the irony of me using your method because you are an ignorant Muslim.</td>\n",
       "      <td>1</td>\n",
       "    </tr>\n",
       "  </tbody>\n",
       "</table>\n",
       "<p>16394 rows × 2 columns</p>\n",
       "</div>"
      ],
      "text/plain": [
       "                                                                                                                                                tweet  \\\n",
       "11885                                  nothing would be more dangerous than to give #putinschoice the impression we accept  #stopracism #boycott?â¦    \n",
       "27378                                                                                 attacks 11 week old baby. kills mother. #shocking   #disgusted    \n",
       "6640                                                                and #misogyny is alive and well on the #left.  never let them tell you it isn't.    \n",
       "19019                                                                                             what is a #detoxdiet?  #altwaystoheal! #healthy  !    \n",
       "12084   politics is great in theory but politicians are all self obsessed point scoring children &amp; idiots take their word as gospel = dangerous     \n",
       "...                                                                                                                                               ...   \n",
       "176344                          @user Certainly the paper shows that the idea that drinking water was the only or main health issue in Iraq is a lie.   \n",
       "176360                            Even liberals are humiliated by Charlie Rangel&#8217;s claim the GOP backs slavery - Hot Air http://t.co/I4QawESnud   \n",
       "176366                                                                                                                         @user photoshop my nig   \n",
       "176384                                                                                         And mad hoes you can ask Beavis I get nothing butthead   \n",
       "176387                                         @user @user You didn't recognize the irony of me using your method because you are an ignorant Muslim.   \n",
       "\n",
       "        predicted_label  \n",
       "11885                 1  \n",
       "27378                 1  \n",
       "6640                  1  \n",
       "19019                 1  \n",
       "12084                 1  \n",
       "...                 ...  \n",
       "176344                1  \n",
       "176360                1  \n",
       "176366                1  \n",
       "176384                1  \n",
       "176387                1  \n",
       "\n",
       "[16394 rows x 2 columns]"
      ]
     },
     "execution_count": 12,
     "metadata": {},
     "output_type": "execute_result"
    }
   ],
   "source": [
    "predictions_17_test= model_17.predict(X_test_data_vectors_3)\n",
    "threshold=0.35 # Oder teste 0.4 oder 0.6\n",
    "predicted_classes_17_test = (predictions_17_test > threshold).astype(int)\n",
    "df_predictions_17 = df_test[['tweet']].copy()  # Textspalte übernehmen\n",
    "df_predictions_17['predicted_label'] =predicted_classes_17_test  # Vorhersagen hinzufügen\n",
    "\n",
    "df_positive_predictions_17 = df_predictions_17[df_predictions_17['predicted_label'] == 1][['tweet', 'predicted_label']]\n",
    "\n",
    "df_positive_predictions_17"
   ]
  },
  {
   "cell_type": "code",
   "execution_count": null,
   "metadata": {},
   "outputs": [],
   "source": [
    "predictions_21_test= model_21.predict(X_test_data_vectors_3)\n",
    "threshold=0.35 # Oder teste 0.4 oder 0.6\n",
    "predicted_classes_21_test = (predictions_21_test > threshold).astype(int)\n",
    "df_predictions = df_test[['tweet']].copy()  # Textspalte übernehmen\n",
    "df_predictions['predicted_label'] = predicted_classes_21_test  # Vorhersagen hinzufügen\n",
    "\n",
    "# pd.set_option('display.max_rows', None)  # Keine Begrenzung der Zeilenanzahl\n",
    "#pd.set_option('display.max_columns', None)  # Falls auch alle Spalten angezeigt werden sollen\n",
    "df_positive_predictions = df_predictions[df_predictions['predicted_label'] == 1][['tweet', 'predicted_label']]\n",
    "\n",
    "df_positive_predictions"
   ]
  },
  {
   "cell_type": "markdown",
   "metadata": {},
   "source": [
    "Model_21 auf testdaten predicten"
   ]
  },
  {
   "cell_type": "markdown",
   "metadata": {},
   "source": [
    "Modell speichern"
   ]
  },
  {
   "cell_type": "code",
   "execution_count": 13,
   "metadata": {},
   "outputs": [
    {
     "name": "stdout",
     "output_type": "stream",
     "text": [
      "Modell wurde erfolgreich gespeichert unter: C:\\Users\\Nasiba\\Documents\\1 Master Data Science\\Projektpraktikum\\WebScience24\\src\\3. Deep Learning Approach\\nasiba\\models\\model_17.keras\n"
     ]
    }
   ],
   "source": [
    "save_path_model = os.path.abspath(os.path.join(src_path, 'src/3. Deep Learning Approach/nasiba/models/model_17.keras'))\n",
    "# Erstelle das Verzeichnis, falls es nicht existiert\n",
    "os.makedirs(os.path.dirname(save_path_model), exist_ok=True)\n",
    "#save_path_model = os.path.abspath(os.path.join(src_path, 'src/3. Deep Learning Approach/nasiba/model_17.h5')) \n",
    "model_17.save(save_path_model)\n",
    "print(f\"Modell wurde erfolgreich gespeichert unter: {save_path_model}\")"
   ]
  },
  {
   "cell_type": "code",
   "execution_count": 14,
   "metadata": {},
   "outputs": [
    {
     "name": "stdout",
     "output_type": "stream",
     "text": [
      "Modell wurde erfolgreich gespeichert unter: C:\\Users\\Nasiba\\Documents\\1 Master Data Science\\Projektpraktikum\\WebScience24\\src\\3. Deep Learning Approach\\nasiba\\models\\model_3.keras\n"
     ]
    }
   ],
   "source": [
    "\n",
    "\n",
    "save_path_model = os.path.abspath(os.path.join(src_path, 'src/3. Deep Learning Approach/nasiba/models/model_3.keras'))\n",
    "# Erstelle das Verzeichnis, falls es nicht existiert\n",
    "os.makedirs(os.path.dirname(save_path_model), exist_ok=True)\n",
    "#save_path_model = os.path.abspath(os.path.join(src_path, 'src/3. Deep Learning Approach/nasiba/model_17.h5')) \n",
    "model_3.save(save_path_model)\n",
    "print(f\"Modell wurde erfolgreich gespeichert unter: {save_path_model}\")"
   ]
  },
  {
   "cell_type": "code",
   "execution_count": 15,
   "metadata": {},
   "outputs": [
    {
     "name": "stdout",
     "output_type": "stream",
     "text": [
      "Modell wurde erfolgreich gespeichert unter: C:\\Users\\Nasiba\\Documents\\1 Master Data Science\\Projektpraktikum\\WebScience24\\src\\3. Deep Learning Approach\\nasiba\\models\\model_21.keras\n"
     ]
    }
   ],
   "source": [
    "\n",
    "\n",
    "\n",
    "save_path_model = os.path.abspath(os.path.join(src_path, 'src/3. Deep Learning Approach/nasiba/models/model_21.keras'))\n",
    "# Erstelle das Verzeichnis, falls es nicht existiert\n",
    "os.makedirs(os.path.dirname(save_path_model), exist_ok=True)\n",
    "\n",
    "model_21.save(save_path_model)\n",
    "print(f\"Modell wurde erfolgreich gespeichert unter: {save_path_model}\")"
   ]
  },
  {
   "cell_type": "code",
   "execution_count": 22,
   "metadata": {},
   "outputs": [],
   "source": [
    "save_path_labeled_data_17 = os.path.abspath(os.path.join(src_path, 'src/3. Deep Learning Approach/nasiba/labeled_data/test_labeled_lstm_md_17.csv'))\n",
    "\n",
    "save_path_labeled_data_21 = os.path.abspath(os.path.join(src_path, 'src/3. Deep Learning Approach/nasiba/labeled_data/test_labeled_lstm_md_21.csv'))\n",
    "\n",
    "\n",
    "df_predictions_17.to_csv(save_path_labeled_data_17, index=False)\n",
    "df_predictions.to_csv(save_path_labeled_data_21, index=False)"
   ]
  }
 ],
 "metadata": {
  "kernelspec": {
   "display_name": "Python 3",
   "language": "python",
   "name": "python3"
  },
  "language_info": {
   "codemirror_mode": {
    "name": "ipython",
    "version": 3
   },
   "file_extension": ".py",
   "mimetype": "text/x-python",
   "name": "python",
   "nbconvert_exporter": "python",
   "pygments_lexer": "ipython3",
   "version": "3.11.9"
  }
 },
 "nbformat": 4,
 "nbformat_minor": 2
}
