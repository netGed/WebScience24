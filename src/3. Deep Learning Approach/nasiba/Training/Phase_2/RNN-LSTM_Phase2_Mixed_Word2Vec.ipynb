{
 "cells": [
  {
   "cell_type": "markdown",
   "metadata": {},
   "source": [
    "## Dieses Notebook umfasst die Trainingsschritte der Phase 2 der LSTM-Modelle mit Word2Vec-Vektorisierung und dokumentiert die Ergebnisse."
   ]
  },
  {
   "cell_type": "markdown",
   "metadata": {},
   "source": [
    "## Codeabschnitt"
   ]
  },
  {
   "cell_type": "code",
   "execution_count": 1,
   "metadata": {},
   "outputs": [],
   "source": [
    "# !pip install tensorflow\n",
    "#!pip install transformers\n",
    "#!pip install tf-keras\n",
    "# !pip install imblearn"
   ]
  },
  {
   "cell_type": "code",
   "execution_count": 1,
   "metadata": {},
   "outputs": [
    {
     "data": {
      "text/plain": [
       "WindowsPath('C:/Users/Nasiba/Documents/1 Master Data Science/Projektpraktikum/WebScience24')"
      ]
     },
     "execution_count": 1,
     "metadata": {},
     "output_type": "execute_result"
    }
   ],
   "source": [
    "import sys\n",
    "from pathlib import Path\n",
    "\n",
    "# Zum übergeordneten Ordner 'src' wechseln\n",
    "current_path = Path().resolve()\n",
    "src_path = current_path.parents[4]  # Zwei Stufen nach oben\n",
    "\n",
    "if str(src_path) not in sys.path:\n",
    "    sys.path.append(str(src_path))\n",
    "\n",
    "src_path\n"
   ]
  },
  {
   "cell_type": "code",
   "execution_count": 2,
   "metadata": {},
   "outputs": [],
   "source": [
    "\n",
    "\n",
    "import pandas as pd\n",
    "import numpy as np\n",
    "import matplotlib.pyplot as plt\n",
    "import seaborn as sns\n",
    "\n",
    "from sklearn.metrics import  classification_report, confusion_matrix\n",
    "pd.set_option('display.max_colwidth', None)\n",
    "\n",
    "from vector_functions import vectorize_word2vec,  vectorize_word2vec_test_data\n",
    "import os\n",
    "from tensorflow.keras.models import Sequential\n",
    "from tensorflow.keras.layers import LSTM, Dense, Dropout, Bidirectional\n",
    "from tensorflow.keras.models import Sequential\n",
    "from tensorflow.keras.optimizers import Adam\n",
    "from tensorflow.keras.metrics import Recall\n",
    "from tensorflow.keras.callbacks import EarlyStopping"
   ]
  },
  {
   "cell_type": "markdown",
   "metadata": {},
   "source": [
    "#### Beladung der Daten"
   ]
  },
  {
   "cell_type": "code",
   "execution_count": 3,
   "metadata": {},
   "outputs": [
    {
     "data": {
      "text/html": [
       "<div>\n",
       "<style scoped>\n",
       "    .dataframe tbody tr th:only-of-type {\n",
       "        vertical-align: middle;\n",
       "    }\n",
       "\n",
       "    .dataframe tbody tr th {\n",
       "        vertical-align: top;\n",
       "    }\n",
       "\n",
       "    .dataframe thead th {\n",
       "        text-align: right;\n",
       "    }\n",
       "</style>\n",
       "<table border=\"1\" class=\"dataframe\">\n",
       "  <thead>\n",
       "    <tr style=\"text-align: right;\">\n",
       "      <th></th>\n",
       "      <th>label</th>\n",
       "      <th>tweet</th>\n",
       "      <th>tweet_cleaned</th>\n",
       "      <th>user_handle</th>\n",
       "      <th>hashtags</th>\n",
       "      <th>emojis</th>\n",
       "    </tr>\n",
       "  </thead>\n",
       "  <tbody>\n",
       "    <tr>\n",
       "      <th>140232</th>\n",
       "      <td>0</td>\n",
       "      <td>Nicki's \"that's not good\" pout bought to you by Botox[™]. #MKR</td>\n",
       "      <td>nickis \"thats not good\" pout bought to you by botox trade mark  mkr</td>\n",
       "      <td>0</td>\n",
       "      <td>['#mkr']</td>\n",
       "      <td>__trade_mark__</td>\n",
       "    </tr>\n",
       "  </tbody>\n",
       "</table>\n",
       "</div>"
      ],
      "text/plain": [
       "        label                                                           tweet  \\\n",
       "140232      0  Nicki's \"that's not good\" pout bought to you by Botox[™]. #MKR   \n",
       "\n",
       "                                                              tweet_cleaned  \\\n",
       "140232  nickis \"thats not good\" pout bought to you by botox trade mark  mkr   \n",
       "\n",
       "        user_handle  hashtags          emojis  \n",
       "140232            0  ['#mkr']  __trade_mark__  "
      ]
     },
     "execution_count": 3,
     "metadata": {},
     "output_type": "execute_result"
    }
   ],
   "source": [
    "\n",
    "source_filepath_name = os.path.abspath(os.path.join(src_path, 'data/mixed_dataset/train_cleaned_rnn.csv'))\n",
    "\n",
    "df_cleaned = pd.read_csv(source_filepath_name, encoding='utf-8', index_col=0)\n",
    "\n",
    "source_filepath_name_test = os.path.abspath(os.path.join(src_path, 'data/mixed_dataset/test_cleaned_rnn.csv'))\n",
    "\n",
    "df_cleaned_test = pd.read_csv(source_filepath_name_test, encoding='utf-8', index_col=0)\n",
    "\n",
    "\n",
    "df_cleaned.head(1)\n"
   ]
  },
  {
   "cell_type": "markdown",
   "metadata": {},
   "source": [
    "### Vektorisierung"
   ]
  },
  {
   "cell_type": "markdown",
   "metadata": {},
   "source": [
    "#### Word2Vec"
   ]
  },
  {
   "cell_type": "code",
   "execution_count": 4,
   "metadata": {},
   "outputs": [
    {
     "name": "stderr",
     "output_type": "stream",
     "text": [
      "c:\\Users\\Nasiba\\Documents\\1 Master Data Science\\Projektpraktikum\\WebScience24\\src\\3. Deep Learning Approach\\nasiba\\Training\\Phase_2\\vector_functions.py:112: SettingWithCopyWarning: \n",
      "A value is trying to be set on a copy of a slice from a DataFrame.\n",
      "Try using .loc[row_indexer,col_indexer] = value instead\n",
      "\n",
      "See the caveats in the documentation: https://pandas.pydata.org/pandas-docs/stable/user_guide/indexing.html#returning-a-view-versus-a-copy\n",
      "  df[text_column] = df[text_column].astype(str)\n"
     ]
    },
    {
     "name": "stdout",
     "output_type": "stream",
     "text": [
      "Shape nach Oversampling: (95868,)\n",
      "(95868,)\n",
      "(95868,)\n",
      "Originaltext: nickis \"thats not good\" pout bought to you by botox trade mark  mkr\n",
      "Tokenisierte Version: ['press', 'will', 'run', 'with', 'it']\n",
      "❌ Fehlende Token (Beispiele): ['respectoureuphoria', 'precarious', 'appetites', 'pangolin', 'nanjing', '\"performance\"', 'blinks', 'denysee', 'escoed', 'onlygoodvibes', 'xterra', 'you~\"', 'happy…when', 'mid-tantrum']\n",
      "Gesamtanzahl fehlender Token: 14\n",
      "Länge von X_train_w2v: 95868\n",
      "Erste Sequenz: [[ 1.62590325e+00 -5.80360591e-01  2.18585357e-02  6.85505494e-02\n",
      "   1.33074713e+00  2.21947357e-01  3.48031968e-02  9.47726220e-02\n",
      "   2.80283988e-01  1.23429328e-01 -5.02190888e-02 -6.90089583e-01\n",
      "   7.55362988e-01  6.08814240e-01  1.00959098e+00  4.05555099e-01\n",
      "  -6.94617271e-01 -4.98088896e-01 -1.15266550e+00 -2.66785294e-01\n",
      "   4.84352738e-01 -7.30122387e-01  7.33256519e-01  6.18947268e-01\n",
      "   5.39789617e-01 -8.59052539e-01  2.10772410e-01 -4.82023843e-02\n",
      "  -4.01343644e-01  2.97713190e-01  1.67331457e-01 -7.41591513e-01\n",
      "  -5.60687259e-02  5.51161170e-01  5.36149144e-01  3.74063365e-02\n",
      "  -1.79558899e-02  1.71103716e-01  1.61839247e-01 -1.53544772e+00\n",
      "  -1.24765432e+00 -1.04772639e+00 -7.28301942e-01  9.47256312e-02\n",
      "  -6.29639849e-02 -6.45911813e-01  4.18226182e-01  5.44230081e-02\n",
      "   1.20279789e+00  1.56657279e-01  5.41092038e-01  2.37192541e-01\n",
      "   6.99645698e-01  1.24504924e-01  8.31099033e-01  7.85523057e-01\n",
      "   6.11928403e-02 -7.76616335e-01 -4.07431006e-01  7.40387857e-01\n",
      "   6.84647143e-01  6.67129457e-01 -1.09905794e-01  6.36716783e-01\n",
      "   1.04456782e-01  4.44559932e-01 -1.17870855e+00  9.05467570e-01\n",
      "  -9.60584730e-03  6.33518577e-01  8.16320181e-01 -1.09842837e+00\n",
      "   8.95247638e-01  7.86196720e-03  6.78842962e-01 -5.70224002e-02\n",
      "   7.74679840e-01  1.53489754e-01 -1.73851222e-01 -1.14118302e+00\n",
      "   7.33970284e-01  3.86748314e-02 -6.27457380e-01  7.32505143e-01\n",
      "  -4.61449474e-01  4.47122790e-02 -1.28444076e+00 -5.34376085e-01\n",
      "  -5.10365188e-01  9.20895040e-01  1.30445197e-01 -2.83758700e-01\n",
      "   7.51434565e-01  1.38720906e+00  6.88304782e-01  5.68093538e-01\n",
      "   4.44998085e-01 -6.89874232e-01  3.15460116e-01 -1.34428823e+00\n",
      "  -1.04167670e-01 -2.33482420e-02  2.48482496e-01  1.95635259e-01\n",
      "  -7.54152596e-01 -2.66010106e-01 -5.23668639e-02  3.25357497e-01\n",
      "   7.96164513e-01 -1.62135541e+00  4.08287764e-01 -6.49720877e-02\n",
      "  -9.72137511e-01  1.17431986e+00  8.17377210e-01  2.13692963e-01\n",
      "  -7.97033608e-02 -1.06665814e+00 -8.06390166e-01  1.64799336e-02\n",
      "  -8.39695334e-01  3.29521924e-01 -4.72515315e-01 -4.55470532e-01\n",
      "   2.80499142e-02  3.41594160e-01 -8.30472946e-01 -2.79821903e-01\n",
      "  -2.20128804e-01  6.60472631e-01 -9.20575410e-02 -3.03346783e-01\n",
      "   2.47184232e-01  6.86557770e-01 -4.45924997e-01  7.44072497e-01\n",
      "   6.60329983e-02 -1.10860400e-01 -4.03749272e-02 -1.85537055e-01\n",
      "  -6.02890372e-01 -3.50782350e-02  1.77398890e-01  5.04656255e-01\n",
      "  -5.03565669e-01 -8.18850100e-01  3.60527001e-02 -8.93668234e-01\n",
      "  -4.45482075e-01  3.16889822e-01  5.06114066e-02 -7.83024311e-01\n",
      "   1.31456938e-03  1.19606149e+00 -1.44753575e+00  4.92018163e-01\n",
      "   4.58130598e-01 -2.18829885e-01  3.17377716e-01 -7.47493386e-01\n",
      "   3.95061672e-01 -1.57632798e-01 -7.81749666e-01 -3.10351849e-02\n",
      "  -2.74899781e-01  2.75774449e-01  5.67862019e-03  6.41485350e-03\n",
      "  -1.51661861e+00  4.09161121e-01  4.76722062e-01  1.07589304e-01\n",
      "   7.51192808e-01 -6.74736738e-01 -2.83326149e-01  3.91507924e-01\n",
      "  -4.75790471e-01  6.98401153e-01 -6.75696015e-01 -1.03698838e+00\n",
      "   8.66331220e-01 -3.08415622e-01 -9.65771324e-04 -4.74356979e-01\n",
      "   9.18779910e-01 -5.92990220e-01 -2.41526932e-01  5.67804277e-01\n",
      "   1.05582547e+00  3.66351038e-01 -4.95526135e-01 -7.70619452e-01\n",
      "  -3.12662840e-01 -5.09817839e-01  2.98650056e-01  1.22446112e-01\n",
      "   6.53052509e-01  7.66732454e-01  2.36861974e-01 -2.87404090e-01]\n",
      " [-1.41560400e+00  8.30510974e-01  3.63329768e-01 -3.60151792e+00\n",
      "  -3.09698844e+00 -9.21054482e-01 -3.22662115e+00 -1.86294043e+00\n",
      "   2.11379290e+00  9.03671086e-01 -1.54544139e+00  5.10426521e-01\n",
      "   6.91565037e-01  1.28734183e+00  4.52862978e-01  2.53814435e+00\n",
      "   1.16136062e+00  1.58731937e+00  7.27097690e-01 -7.95779109e-01\n",
      "   2.69677663e+00 -1.10254407e+00  1.75659788e+00 -2.85471487e+00\n",
      "   4.97861117e-01 -2.66388297e+00  2.01393747e+00  1.28994048e+00\n",
      "   1.15170383e+00  7.62431920e-01  2.63040304e+00  2.03439146e-01\n",
      "  -7.04158545e-01 -3.95327163e+00  6.51754677e-01  2.28736067e+00\n",
      "  -7.08418250e-01  1.12764227e+00 -2.45709372e+00  2.18644762e+00\n",
      "  -4.87603426e-01 -1.77740932e+00 -1.70959961e+00 -2.23519251e-01\n",
      "  -1.15491617e+00  3.10369349e+00  6.78159177e-01  2.34285808e+00\n",
      "  -1.04192495e+00  1.15880859e+00  1.16357255e+00  1.13597131e+00\n",
      "   2.38825941e+00 -1.94200790e+00  1.84854352e+00 -1.41457081e+00\n",
      "  -1.83837688e+00 -6.53213263e-01  1.81611672e-01  9.18332756e-01\n",
      "  -4.28133994e-01 -1.25907493e+00 -1.64371043e-01 -1.32481837e+00\n",
      "   9.15815651e-01  3.28005403e-01  1.76349342e+00 -1.20019269e+00\n",
      "   4.19778973e-01  2.46639204e+00  3.91959727e-01 -1.03010798e+00\n",
      "  -1.63983619e+00 -9.82460558e-01 -3.67323756e-01 -3.77788091e+00\n",
      "   1.87344992e+00  6.45762682e-01 -1.10186946e+00  2.95029068e+00\n",
      "   8.79912198e-01  8.78515661e-01 -1.84829128e+00 -1.52564251e+00\n",
      "   1.77332866e+00 -1.85558462e+00  2.93629169e-01  2.64222443e-01\n",
      "  -2.98334050e+00 -1.64186192e+00 -7.37693429e-01 -5.88446200e-01\n",
      "  -6.83254182e-01 -5.14421940e-01 -1.47234261e-01  6.89957261e-01\n",
      "  -2.25886202e+00 -2.16253424e+00  9.79744554e-01  7.56172478e-01\n",
      "   2.02987954e-01  3.89478415e-01  1.02535129e+00 -1.22128606e+00\n",
      "   3.31491709e+00 -1.31061852e+00  6.08639978e-02 -4.91465569e+00\n",
      "   1.09343529e+00  5.18005276e+00 -1.87728536e+00  5.16456425e-01\n",
      "  -2.94869447e+00  9.38630462e-01  1.16955507e+00  8.85605514e-01\n",
      "   1.41541922e+00  2.80459690e+00 -1.84417088e-02  1.48718870e+00\n",
      "   6.40436649e-01  5.45173883e-02  3.77497971e-01  5.28972864e+00\n",
      "   1.73263466e+00  3.05485940e+00  1.83638597e+00  1.12113881e+00\n",
      "  -9.86172199e-01  2.52247453e+00  8.17466229e-02  2.05183610e-01\n",
      "  -2.52013850e+00  1.56664336e+00  2.09937215e+00 -6.46455958e-02\n",
      "   2.06449628e+00  1.97708428e+00  1.01083398e+00  1.06376338e+00\n",
      "  -3.56567234e-01  1.89931512e+00  3.35556531e+00 -2.99661517e+00\n",
      "  -5.03331125e-01 -3.69445181e+00  9.77372766e-01  3.25908089e+00\n",
      "   1.07422912e+00 -4.07268047e+00 -2.63617659e+00 -2.10232973e+00\n",
      "  -1.48256803e+00 -2.15716982e+00  2.84887886e+00 -1.80881095e+00\n",
      "   2.37899780e-01 -6.45117879e-01 -1.39239657e+00 -2.27652025e+00\n",
      "   4.15283293e-01 -8.26842338e-02  8.36135000e-02 -2.46327326e-01\n",
      "  -2.07148600e+00 -2.60191131e+00 -1.29590726e+00  4.51182187e-01\n",
      "   2.77726865e+00 -1.18808711e+00 -7.67645538e-01  1.91927612e+00\n",
      "  -7.82062769e-01  1.02385354e+00 -2.17334843e+00  1.07051969e+00\n",
      "   1.26469040e+00  1.69795346e+00  2.04105377e+00 -9.38093007e-01\n",
      "   1.27154613e+00  9.00480032e-01 -6.75753877e-02  1.09511244e+00\n",
      "  -5.86037874e-01  1.48849773e+00  9.53275263e-01 -1.10796046e+00\n",
      "  -1.56691623e+00  3.01520896e+00 -2.39741135e+00  6.27681255e-01\n",
      "   1.34411633e+00  4.62006815e-02 -1.60304713e+00  8.48922491e-01\n",
      "   1.17607780e-01  2.54753447e+00  1.13093793e+00  8.24286342e-01]\n",
      " [ 1.65498507e+00 -9.05100465e-01 -1.17926967e+00 -8.56301039e-02\n",
      "  -7.33656108e-01  1.25944960e+00  1.29029918e-02 -1.86216509e+00\n",
      "   2.27912173e-01  3.29594672e-01  6.84499815e-02  1.43614304e+00\n",
      "   7.98748791e-01 -3.84228617e-01 -5.55024505e-01  9.81486797e-01\n",
      "   1.39916360e+00 -1.28643200e-01 -2.99127668e-01  6.46090984e-01\n",
      "   1.63433496e-02 -7.52585411e-01  8.54345858e-01 -1.37320638e+00\n",
      "  -9.06648695e-01  1.16512597e+00 -1.41740489e+00  1.56882298e+00\n",
      "   1.41908157e+00  1.10617566e+00 -6.46416545e-01  4.69450295e-01\n",
      "   1.55195892e-01 -1.95805871e+00  3.29757512e-01  1.67224562e+00\n",
      "   8.77211913e-02 -4.85758245e-01 -7.78812528e-01  4.89222467e-01\n",
      "   1.54918742e+00 -4.93883401e-01 -1.10217071e+00 -2.14334226e+00\n",
      "  -6.64887249e-01 -3.38259220e+00 -9.06783640e-01  1.79080391e+00\n",
      "  -2.93140858e-01  2.46396160e+00 -7.26080537e-01 -4.48875904e-01\n",
      "   9.84816134e-01  1.95592427e+00 -6.18191957e-01 -4.78022955e-02\n",
      "   1.93649900e+00  6.86299443e-01 -2.42434256e-02  4.74929392e-01\n",
      "  -5.20083368e-01  5.51723540e-02 -9.44512248e-01  3.51681292e-01\n",
      "  -2.01664120e-01  9.43235397e-01  6.16131365e-01  7.14797497e-01\n",
      "  -2.22126573e-01 -1.88640103e-01 -1.96752608e+00 -2.12620962e-02\n",
      "   2.02916861e+00 -1.14998591e+00 -2.37133527e+00 -4.28658962e-01\n",
      "  -2.76750088e-01  2.36123800e-01  1.74610019e+00 -2.77229518e-01\n",
      "   1.87329662e+00  1.94991493e+00 -1.58774567e+00  4.22608823e-01\n",
      "  -1.70300293e+00 -7.35377908e-01 -1.48569536e+00  8.05745006e-01\n",
      "  -8.63225281e-01  1.88837206e+00  2.04182222e-01  9.30162609e-01\n",
      "  -1.10277331e+00  1.60265481e+00  1.79218352e-01 -5.27036786e-01\n",
      "  -2.06430006e+00  1.24622309e+00  2.68007547e-01 -7.87378311e-01\n",
      "   1.31183878e-01 -2.87103081e+00 -9.81687725e-01 -1.50132787e+00\n",
      "  -1.19135670e-01  1.59577921e-01  1.00383759e+00 -1.70093393e+00\n",
      "   2.03663483e-01  3.41696329e-02  8.85452151e-01  2.20369950e-01\n",
      "   1.33552909e+00 -1.56520140e+00 -2.51114130e-01 -9.22103047e-01\n",
      "  -1.01795495e+00  9.51251805e-01  4.70053256e-02  1.64984357e+00\n",
      "  -5.91219783e-01  1.56311822e+00 -1.01829696e+00 -6.69226885e-01\n",
      "   2.37779483e-01  5.87098122e-01 -1.44870520e+00 -2.44607854e+00\n",
      "   5.12296200e-01 -3.58385861e-01 -1.02877092e+00  2.13691163e+00\n",
      "  -4.71759915e-01 -7.45213926e-01  7.39182234e-02  5.55507481e-01\n",
      "   3.75193268e-01  6.04690969e-01  1.88537955e+00 -6.74470067e-01\n",
      "   7.50482440e-01 -4.51738536e-01 -1.56230259e+00 -2.79254258e-01\n",
      "  -4.41346802e-02 -1.63977516e+00 -1.20091534e+00 -2.74525142e+00\n",
      "   7.45040059e-01 -1.01639554e-01  4.74517435e-01 -3.63649994e-01\n",
      "   3.31296504e-01 -8.54696989e-01 -9.99438584e-01 -1.76862895e-01\n",
      "  -3.17539158e-03  3.87911618e-01  3.56355816e-01 -1.57812297e+00\n",
      "  -2.66699314e-01  1.69460011e+00 -1.42880785e+00 -2.64317662e-01\n",
      "   1.26463914e+00 -2.33979583e+00  1.49491474e-01 -7.98089728e-02\n",
      "   5.75775921e-01 -9.41473305e-01 -5.35018206e-01 -5.56723595e-01\n",
      "   2.39272043e-01 -1.69793940e+00  9.06867206e-01 -2.02141261e+00\n",
      "   8.08728993e-01  7.62669683e-01  2.88144201e-01 -1.54675543e+00\n",
      "   1.05220628e+00 -9.93026853e-01 -1.68359494e+00  5.50082065e-02\n",
      "   1.82692075e+00 -1.92010589e-02 -8.16293836e-01  3.80363673e-01\n",
      "  -1.56317186e+00 -9.67406332e-01  8.28358591e-01 -1.29883438e-01\n",
      "   2.39889169e+00 -8.46038520e-01  3.42912525e-01  3.12203646e+00\n",
      "   1.16318262e+00  7.83623040e-01 -6.64392710e-01 -8.07939649e-01]\n",
      " [-1.47766566e+00  1.23956156e+00 -1.02407312e+00  2.18737745e+00\n",
      "  -9.16421935e-02  6.21261358e-01  1.28128970e+00 -1.31140828e+00\n",
      "  -1.92248416e+00 -2.17023920e-02 -1.36905944e+00  3.81734818e-01\n",
      "   1.98804235e+00  1.44984114e+00 -9.99339342e-01  1.90908837e+00\n",
      "  -3.06103587e-01 -4.71734971e-01  1.62796926e+00  2.14419365e+00\n",
      "   5.50356627e-01  1.44480482e-01  8.70256424e-01 -1.19454384e-01\n",
      "  -1.69761205e+00  1.59317195e+00 -3.31049532e-01  2.04906678e+00\n",
      "   2.14412436e-01 -6.51626289e-01  8.66886675e-01  8.35390449e-01\n",
      "  -1.09247828e+00  9.43539739e-01 -1.05913401e+00  1.58662629e+00\n",
      "  -1.80598885e-01  1.58154130e+00  1.50873041e+00  4.89791393e-01\n",
      "   2.01429486e+00  1.45483029e+00  3.88995647e-01 -5.32471955e-01\n",
      "  -1.54303586e+00  6.44096792e-01  2.86909454e-02 -1.25257862e+00\n",
      "   1.93527257e+00 -1.21340871e+00 -1.16421461e+00  1.56806087e+00\n",
      "   1.01328075e+00 -1.75367296e+00 -1.86297059e+00 -1.22203141e-01\n",
      "   7.73989975e-01  1.10282528e+00  1.14894712e+00  4.42694604e-01\n",
      "  -8.09790492e-02 -2.10461545e+00  1.28941476e+00 -1.43199539e+00\n",
      "  -4.79806125e-01 -6.70478761e-01  1.62197828e-01 -7.02578127e-01\n",
      "  -7.18180895e-01  1.92228794e-01  2.51723677e-01 -2.02081847e+00\n",
      "  -8.47761393e-01  6.57561600e-01 -2.93852895e-01 -6.60892129e-01\n",
      "   4.20921296e-01  1.30724967e+00  2.44441295e+00  1.34566224e+00\n",
      "  -8.53920877e-01 -3.80989760e-01  6.26743615e-01  9.16553557e-01\n",
      "   1.75869775e+00  3.50650430e-01  1.03765680e-02  3.86184156e-01\n",
      "   2.69981885e+00 -1.15083598e-01  2.34503293e+00 -1.72689414e+00\n",
      "  -8.69037509e-01 -3.99494737e-01 -2.71298671e+00 -2.27364945e+00\n",
      "  -2.79077888e-01 -4.77480084e-01  2.41121858e-01  2.01357436e+00\n",
      "   1.39365017e+00 -9.37059373e-02 -7.13460743e-01  1.66624475e+00\n",
      "   1.78530943e+00  1.84630668e+00  5.14347792e-01 -1.70636535e+00\n",
      "   4.79346871e-01  1.84207428e+00  5.70136130e-01 -2.64075786e-01\n",
      "  -7.29188919e-01  7.26626694e-01 -5.19015610e-01 -6.44542694e-01\n",
      "   7.41382539e-01  2.64314357e-02 -1.13375854e+00  2.27509236e+00\n",
      "   2.21401483e-01  1.43806124e+00 -5.41839659e-01  6.77113831e-01\n",
      "   1.61433089e+00 -1.10220444e+00 -1.03430784e+00 -8.68794441e-01\n",
      "  -4.51051205e-01 -9.30901349e-01  1.13829982e+00  8.50537956e-01\n",
      "  -2.51652050e+00 -3.76322895e-01 -9.47289884e-01  2.83770055e-01\n",
      "   1.18271112e+00  6.40262425e-01  4.32506830e-01 -9.02506590e-01\n",
      "  -4.77445215e-01  6.76352561e-01 -8.28932226e-01 -8.13758969e-02\n",
      "  -2.07798600e+00 -5.11943221e-01 -9.37997401e-01 -3.21093380e-01\n",
      "   1.32028878e+00 -1.07878077e+00  2.73062557e-01 -2.63831830e+00\n",
      "   4.57049459e-01 -2.26036406e+00  1.85514629e+00  4.66892004e-01\n",
      "   6.74582481e-01 -7.40347952e-02 -5.00191391e-01  1.92329419e+00\n",
      "  -1.82353771e+00 -2.10781193e+00 -1.26478389e-01 -6.75544977e-01\n",
      "   1.19280624e+00  1.10057592e+00 -4.24324900e-01 -1.12254322e+00\n",
      "   4.51135589e-03 -8.22856724e-01 -7.02751517e-01  7.33321667e-01\n",
      "   1.57303047e+00 -2.68329024e+00 -3.30958307e-01  8.21414739e-02\n",
      "  -4.70359147e-01 -1.31945658e+00 -1.81910801e+00 -2.09604174e-01\n",
      "  -5.99178895e-02 -7.57223964e-01  8.70759264e-02 -4.25684214e-01\n",
      "  -8.46845061e-02 -1.37720978e+00  6.65720701e-02 -1.39781725e+00\n",
      "  -2.04476237e+00 -7.51378357e-01 -3.16124648e-01 -1.19218087e+00\n",
      "   8.62072527e-01 -3.01572728e+00 -4.87549007e-01  3.13972712e+00\n",
      "   1.20325148e+00 -2.43919552e-03 -6.20763898e-01 -1.94917524e+00]\n",
      " [ 1.14922953e+00  5.72873771e-01 -6.22294426e-01 -3.15204769e-01\n",
      "  -2.90125537e+00 -2.47448236e-01  4.24329907e-01 -8.12362254e-01\n",
      "  -1.96111298e+00 -7.54239559e-01  5.18310249e-01  6.95438981e-01\n",
      "  -9.49726820e-01  3.77249062e-01 -1.44631028e-01  5.56662619e-01\n",
      "   4.16771591e-01  2.02146816e+00  2.92670846e-01 -3.59778702e-01\n",
      "  -6.85909390e-02  9.97330368e-01 -1.01584601e+00 -3.84588718e-01\n",
      "   1.15268648e+00 -2.59070659e+00  1.26194894e+00  8.08325589e-01\n",
      "   3.00523698e-01 -2.70176053e+00  1.70721054e+00 -5.04842281e-01\n",
      "  -1.29144466e+00  1.13655841e+00  1.77220488e+00  1.46338269e-01\n",
      "   1.14479125e+00  5.67427874e-01  2.45632172e+00  1.64545774e+00\n",
      "   9.06727076e-01 -7.95052290e-01  1.11201620e+00 -1.30878711e+00\n",
      "  -5.91945887e-01  8.16061139e-01  2.03603578e+00 -1.63750958e+00\n",
      "   1.76377046e+00 -7.73290575e-01  1.64076400e+00  8.94857407e-01\n",
      "  -3.36439796e-02  1.14234233e+00 -1.00703560e-01 -2.23838259e-02\n",
      "   1.14469182e+00  2.06319332e+00  1.90499306e+00  9.82194781e-01\n",
      "   1.67713881e+00 -7.72059917e-01 -6.35397017e-01  1.51881206e+00\n",
      "   3.74010175e-01 -1.54596031e-01  1.55525160e+00 -1.78716660e+00\n",
      "   4.42998111e-01  9.51120973e-01 -1.23150671e+00 -9.68981385e-01\n",
      "   8.46870661e-01  6.04325116e-01 -1.07929826e+00  9.66311991e-01\n",
      "   6.35508955e-01  1.49125397e+00  9.96179879e-01 -5.70005774e-01\n",
      "   2.84913450e-01  9.42116022e-01  9.60461274e-02 -1.04780748e-01\n",
      "  -4.29763794e-01 -4.33082998e-01 -1.31230378e+00  1.86131999e-01\n",
      "   4.82310683e-01 -1.65492177e-01 -9.94301379e-01 -6.26206100e-01\n",
      "  -2.74811592e-02 -1.11147892e+00 -2.29868269e+00 -5.66511810e-01\n",
      "   1.97921145e+00  1.53927505e-01  5.66858411e-01 -7.95818627e-01\n",
      "   1.88205993e+00 -1.74874663e+00 -2.97818601e-01  4.31222528e-01\n",
      "   2.90715277e-01  1.15386772e+00  3.87088865e-01 -5.98722696e-01\n",
      "  -3.38126242e-01 -2.92065114e-01  3.86539638e-01  7.66836882e-01\n",
      "   1.89882731e+00  5.91228604e-01 -1.44693398e+00  4.64852363e-01\n",
      "  -1.86370045e-01  1.86173975e+00  5.82693443e-02  1.08054483e+00\n",
      "  -5.55669814e-02  5.24363101e-01 -1.49906266e+00 -1.87630653e+00\n",
      "   2.05446124e-01 -1.36759460e+00 -5.24978936e-01 -1.71388698e+00\n",
      "   7.86989927e-01  1.55558312e+00  5.24092555e-01  4.69852328e-01\n",
      "  -1.89683247e+00 -2.92191565e-01  1.71929657e+00  8.94112512e-02\n",
      "   6.79212749e-01  1.95055082e-01 -1.97127864e-01  4.09032106e-02\n",
      "   2.93014973e-01  2.58443618e+00 -4.39340696e-02  1.23522058e-01\n",
      "  -5.14200330e-01 -2.78460056e-01  3.47826451e-01 -9.03319836e-01\n",
      "  -5.24322987e-01 -1.01617336e-01 -1.93005517e-01  8.69311988e-01\n",
      "  -3.81349921e-01  6.23713493e-01  8.55909407e-01 -5.89265861e-03\n",
      "  -2.89926600e+00 -2.70478010e+00 -2.74975657e-01 -7.57667050e-02\n",
      "  -7.93511629e-01 -2.01583076e+00  1.09846008e+00  1.23370779e+00\n",
      "   1.41821706e+00  1.54066849e+00  1.40350306e+00 -2.71392560e+00\n",
      "  -3.59724969e-01 -7.28933811e-01 -8.75269592e-01 -2.03236675e+00\n",
      "  -9.26013291e-01  4.10471112e-01 -1.81781435e+00  5.78590393e-01\n",
      "   4.45116609e-01 -7.87879601e-02 -1.03600407e+00  1.12211144e+00\n",
      "   1.72594070e+00  1.71321642e+00 -7.27145731e-01  5.19955039e-01\n",
      "  -9.30477202e-01 -4.16108668e-01 -2.33778730e-02 -1.97922543e-01\n",
      "  -1.44697344e+00  2.85007298e-01 -1.48475242e+00 -4.70739514e-01\n",
      "   1.95858240e+00 -1.46265674e+00 -9.54865038e-01 -4.75855887e-01\n",
      "  -5.67594171e-01  4.40862846e+00 -2.15173411e+00  8.08364451e-01]]\n"
     ]
    },
    {
     "ename": "MemoryError",
     "evalue": "Unable to allocate 398. KiB for an array with shape (255, 200) and data type float64",
     "output_type": "error",
     "traceback": [
      "\u001b[1;31m---------------------------------------------------------------------------\u001b[0m",
      "\u001b[1;31mMemoryError\u001b[0m                               Traceback (most recent call last)",
      "Cell \u001b[1;32mIn[4], line 1\u001b[0m\n\u001b[1;32m----> 1\u001b[0m X_train_w2v, X_test_w2v, y_train_wv, y_test, w2v_model \u001b[38;5;241m=\u001b[39m \u001b[43mvectorize_word2vec\u001b[49m\u001b[43m(\u001b[49m\u001b[43mdf\u001b[49m\u001b[38;5;241;43m=\u001b[39;49m\u001b[43mdf_cleaned\u001b[49m\u001b[43m,\u001b[49m\u001b[43m \u001b[49m\u001b[43mtext_column\u001b[49m\u001b[43m \u001b[49m\u001b[38;5;241;43m=\u001b[39;49m\u001b[38;5;124;43m\"\u001b[39;49m\u001b[38;5;124;43mtweet_cleaned\u001b[39;49m\u001b[38;5;124;43m\"\u001b[39;49m\u001b[43m,\u001b[49m\u001b[43m \u001b[49m\u001b[43mlabel_column\u001b[49m\u001b[38;5;241;43m=\u001b[39;49m\u001b[38;5;124;43m\"\u001b[39;49m\u001b[38;5;124;43mlabel\u001b[39;49m\u001b[38;5;124;43m\"\u001b[39;49m\u001b[43m)\u001b[49m\n",
      "File \u001b[1;32mc:\\Users\\Nasiba\\Documents\\1 Master Data Science\\Projektpraktikum\\WebScience24\\src\\3. Deep Learning Approach\\nasiba\\Training\\Phase_2\\vector_functions.py:172\u001b[0m, in \u001b[0;36mvectorize_word2vec\u001b[1;34m(df, text_column, label_column, vector_size, window, min_count, test_size, random_state)\u001b[0m\n\u001b[0;32m    166\u001b[0m     \u001b[38;5;28;01mreturn\u001b[39;00m np\u001b[38;5;241m.\u001b[39marray([\n\u001b[0;32m    167\u001b[0m         np\u001b[38;5;241m.\u001b[39mvstack([seq, np\u001b[38;5;241m.\u001b[39mzeros((max_len \u001b[38;5;241m-\u001b[39m \u001b[38;5;28mlen\u001b[39m(seq), vector_size))]) \u001b[38;5;28;01mif\u001b[39;00m \u001b[38;5;28mlen\u001b[39m(seq) \u001b[38;5;241m<\u001b[39m max_len \u001b[38;5;28;01melse\u001b[39;00m seq[:max_len]\n\u001b[0;32m    168\u001b[0m         \u001b[38;5;28;01mfor\u001b[39;00m seq \u001b[38;5;129;01min\u001b[39;00m sequences\n\u001b[0;32m    169\u001b[0m     ])\n\u001b[0;32m    171\u001b[0m \u001b[38;5;66;03m# Padding auf Trainings- und Testdaten anwenden\u001b[39;00m\n\u001b[1;32m--> 172\u001b[0m X_train_w2v_padded \u001b[38;5;241m=\u001b[39m \u001b[43mpad_sequence\u001b[49m\u001b[43m(\u001b[49m\u001b[43mX_train_w2v\u001b[49m\u001b[43m,\u001b[49m\u001b[43m \u001b[49m\u001b[43mmax_seq_len\u001b[49m\u001b[43m,\u001b[49m\u001b[43m \u001b[49m\u001b[43mvector_size\u001b[49m\u001b[43m)\u001b[49m\n\u001b[0;32m    173\u001b[0m X_test_w2v_padded \u001b[38;5;241m=\u001b[39m pad_sequence(X_test_w2v, max_seq_len, vector_size)\n\u001b[0;32m    175\u001b[0m \u001b[38;5;28;01mreturn\u001b[39;00m X_train_w2v_padded, X_test_w2v_padded, y_train_resampled, y_test, w2v_model\n",
      "File \u001b[1;32mc:\\Users\\Nasiba\\Documents\\1 Master Data Science\\Projektpraktikum\\WebScience24\\src\\3. Deep Learning Approach\\nasiba\\Training\\Phase_2\\vector_functions.py:166\u001b[0m, in \u001b[0;36mvectorize_word2vec.<locals>.pad_sequence\u001b[1;34m(sequences, max_len, vector_size)\u001b[0m\n\u001b[0;32m    165\u001b[0m \u001b[38;5;28;01mdef\u001b[39;00m \u001b[38;5;21mpad_sequence\u001b[39m(sequences, max_len, vector_size):\n\u001b[1;32m--> 166\u001b[0m     \u001b[38;5;28;01mreturn\u001b[39;00m np\u001b[38;5;241m.\u001b[39marray(\u001b[43m[\u001b[49m\n\u001b[0;32m    167\u001b[0m \u001b[43m        \u001b[49m\u001b[43mnp\u001b[49m\u001b[38;5;241;43m.\u001b[39;49m\u001b[43mvstack\u001b[49m\u001b[43m(\u001b[49m\u001b[43m[\u001b[49m\u001b[43mseq\u001b[49m\u001b[43m,\u001b[49m\u001b[43m \u001b[49m\u001b[43mnp\u001b[49m\u001b[38;5;241;43m.\u001b[39;49m\u001b[43mzeros\u001b[49m\u001b[43m(\u001b[49m\u001b[43m(\u001b[49m\u001b[43mmax_len\u001b[49m\u001b[43m \u001b[49m\u001b[38;5;241;43m-\u001b[39;49m\u001b[43m \u001b[49m\u001b[38;5;28;43mlen\u001b[39;49m\u001b[43m(\u001b[49m\u001b[43mseq\u001b[49m\u001b[43m)\u001b[49m\u001b[43m,\u001b[49m\u001b[43m \u001b[49m\u001b[43mvector_size\u001b[49m\u001b[43m)\u001b[49m\u001b[43m)\u001b[49m\u001b[43m]\u001b[49m\u001b[43m)\u001b[49m\u001b[43m \u001b[49m\u001b[38;5;28;43;01mif\u001b[39;49;00m\u001b[43m \u001b[49m\u001b[38;5;28;43mlen\u001b[39;49m\u001b[43m(\u001b[49m\u001b[43mseq\u001b[49m\u001b[43m)\u001b[49m\u001b[43m \u001b[49m\u001b[38;5;241;43m<\u001b[39;49m\u001b[43m \u001b[49m\u001b[43mmax_len\u001b[49m\u001b[43m \u001b[49m\u001b[38;5;28;43;01melse\u001b[39;49;00m\u001b[43m \u001b[49m\u001b[43mseq\u001b[49m\u001b[43m[\u001b[49m\u001b[43m:\u001b[49m\u001b[43mmax_len\u001b[49m\u001b[43m]\u001b[49m\n\u001b[0;32m    168\u001b[0m \u001b[43m        \u001b[49m\u001b[38;5;28;43;01mfor\u001b[39;49;00m\u001b[43m \u001b[49m\u001b[43mseq\u001b[49m\u001b[43m \u001b[49m\u001b[38;5;129;43;01min\u001b[39;49;00m\u001b[43m \u001b[49m\u001b[43msequences\u001b[49m\n\u001b[0;32m    169\u001b[0m \u001b[43m    \u001b[49m\u001b[43m]\u001b[49m)\n",
      "File \u001b[1;32mc:\\Users\\Nasiba\\Documents\\1 Master Data Science\\Projektpraktikum\\WebScience24\\src\\3. Deep Learning Approach\\nasiba\\Training\\Phase_2\\vector_functions.py:167\u001b[0m, in \u001b[0;36m<listcomp>\u001b[1;34m(.0)\u001b[0m\n\u001b[0;32m    165\u001b[0m \u001b[38;5;28;01mdef\u001b[39;00m \u001b[38;5;21mpad_sequence\u001b[39m(sequences, max_len, vector_size):\n\u001b[0;32m    166\u001b[0m     \u001b[38;5;28;01mreturn\u001b[39;00m np\u001b[38;5;241m.\u001b[39marray([\n\u001b[1;32m--> 167\u001b[0m         \u001b[43mnp\u001b[49m\u001b[38;5;241;43m.\u001b[39;49m\u001b[43mvstack\u001b[49m\u001b[43m(\u001b[49m\u001b[43m[\u001b[49m\u001b[43mseq\u001b[49m\u001b[43m,\u001b[49m\u001b[43m \u001b[49m\u001b[43mnp\u001b[49m\u001b[38;5;241;43m.\u001b[39;49m\u001b[43mzeros\u001b[49m\u001b[43m(\u001b[49m\u001b[43m(\u001b[49m\u001b[43mmax_len\u001b[49m\u001b[43m \u001b[49m\u001b[38;5;241;43m-\u001b[39;49m\u001b[43m \u001b[49m\u001b[38;5;28;43mlen\u001b[39;49m\u001b[43m(\u001b[49m\u001b[43mseq\u001b[49m\u001b[43m)\u001b[49m\u001b[43m,\u001b[49m\u001b[43m \u001b[49m\u001b[43mvector_size\u001b[49m\u001b[43m)\u001b[49m\u001b[43m)\u001b[49m\u001b[43m]\u001b[49m\u001b[43m)\u001b[49m \u001b[38;5;28;01mif\u001b[39;00m \u001b[38;5;28mlen\u001b[39m(seq) \u001b[38;5;241m<\u001b[39m max_len \u001b[38;5;28;01melse\u001b[39;00m seq[:max_len]\n\u001b[0;32m    168\u001b[0m         \u001b[38;5;28;01mfor\u001b[39;00m seq \u001b[38;5;129;01min\u001b[39;00m sequences\n\u001b[0;32m    169\u001b[0m     ])\n",
      "File \u001b[1;32m~\\AppData\\Local\\Packages\\PythonSoftwareFoundation.Python.3.11_qbz5n2kfra8p0\\LocalCache\\local-packages\\Python311\\site-packages\\numpy\\core\\shape_base.py:289\u001b[0m, in \u001b[0;36mvstack\u001b[1;34m(tup, dtype, casting)\u001b[0m\n\u001b[0;32m    287\u001b[0m \u001b[38;5;28;01mif\u001b[39;00m \u001b[38;5;129;01mnot\u001b[39;00m \u001b[38;5;28misinstance\u001b[39m(arrs, \u001b[38;5;28mlist\u001b[39m):\n\u001b[0;32m    288\u001b[0m     arrs \u001b[38;5;241m=\u001b[39m [arrs]\n\u001b[1;32m--> 289\u001b[0m \u001b[38;5;28;01mreturn\u001b[39;00m \u001b[43m_nx\u001b[49m\u001b[38;5;241;43m.\u001b[39;49m\u001b[43mconcatenate\u001b[49m\u001b[43m(\u001b[49m\u001b[43marrs\u001b[49m\u001b[43m,\u001b[49m\u001b[43m \u001b[49m\u001b[38;5;241;43m0\u001b[39;49m\u001b[43m,\u001b[49m\u001b[43m \u001b[49m\u001b[43mdtype\u001b[49m\u001b[38;5;241;43m=\u001b[39;49m\u001b[43mdtype\u001b[49m\u001b[43m,\u001b[49m\u001b[43m \u001b[49m\u001b[43mcasting\u001b[49m\u001b[38;5;241;43m=\u001b[39;49m\u001b[43mcasting\u001b[49m\u001b[43m)\u001b[49m\n",
      "\u001b[1;31mMemoryError\u001b[0m: Unable to allocate 398. KiB for an array with shape (255, 200) and data type float64"
     ]
    }
   ],
   "source": [
    "X_train_w2v, X_test_w2v, y_train_wv, y_test, w2v_model = vectorize_word2vec(df=df_cleaned, text_column =\"tweet_cleaned\", label_column=\"label\")\n",
    "\n"
   ]
  },
  {
   "cell_type": "code",
   "execution_count": null,
   "metadata": {},
   "outputs": [],
   "source": [
    "X_test_w2v_data, y_test_w2v_data, w2v_model = vectorize_word2vec_test_data(df=df_cleaned_test, text_column =\"tweet_cleaned\", label_column=\"label\")"
   ]
  },
  {
   "cell_type": "code",
   "execution_count": null,
   "metadata": {},
   "outputs": [
    {
     "name": "stdout",
     "output_type": "stream",
     "text": [
      "(58313, 1, 200)\n",
      "(32529, 1, 200)\n",
      "(32529, 1, 200)\n"
     ]
    }
   ],
   "source": [
    "samples_w2v, max_seq_len_w2v, vector_size_w2v = X_train_w2v.shape\n",
    "num_classes_w2v = len(np.unique(y_train_wv))\n",
    "\n",
    "print(samples_w2v)\n",
    "print(max_seq_len_w2v)\n",
    "print (vector_size_w2v)\n"
   ]
  },
  {
   "cell_type": "markdown",
   "metadata": {},
   "source": [
    "### Modell aufbauen "
   ]
  },
  {
   "cell_type": "markdown",
   "metadata": {},
   "source": [
    "Earlystop Aktivierung + Dropout Standard gelassen + epochen erhöhung + learning rate dynamisieren"
   ]
  },
  {
   "cell_type": "code",
   "execution_count": 17,
   "metadata": {},
   "outputs": [
    {
     "name": "stdout",
     "output_type": "stream",
     "text": [
      "\u001b[1m1017/1017\u001b[0m \u001b[32m━━━━━━━━━━━━━━━━━━━━\u001b[0m\u001b[37m\u001b[0m \u001b[1m2s\u001b[0m 2ms/step\n"
     ]
    }
   ],
   "source": [
    "# Vorhersagen auf Testdaten\n",
    "predictions_21= model_21.predict(X_test_data_vectors_test_fast_word)\n",
    "threshold = 0.35 # Oder teste 0.4 oder 0.6\n",
    "predicted_classes_21 = (predictions_21 > threshold).astype(int)"
   ]
  },
  {
   "cell_type": "code",
   "execution_count": null,
   "metadata": {},
   "outputs": [
    {
     "name": "stdout",
     "output_type": "stream",
     "text": [
      " F1-Score (Klasse 2): 0.1667\n",
      " Recall (Klasse 2): 0.1090\n",
      " Precision (Klasse 2): 0.3539\n",
      " Accuracy (gesamt): 0.7707\n",
      " MCC: 0.0927\n",
      "Confusion Matrix:\n",
      " [[24323  1362]\n",
      " [ 6098   746]]\n"
     ]
    },
    {
     "data": {
      "image/png": "[encoded data removed]",
      "text/plain": [
       "<Figure size 400x400 with 2 Axes>"
      ]
     },
     "metadata": {},
     "output_type": "display_data"
    }
   ],
   "source": [
    "# Klassifikationsbericht erstellen (als Dictionary)\n",
    "report = classification_report(y_test_data_test_fast_word, predicted_classes_21, output_dict=True)\n",
    "\n",
    "# Metriken NUR für Klasse 2 extrahieren\n",
    "precision_class_2 = report[\"1\"][\"precision\"]\n",
    "recall_class_2 = report[\"1\"][\"recall\"]\n",
    "f1_class_2 = report[\"1\"][\"f1-score\"]\n",
    "\n",
    "# Gesamtgenauigkeit berechnen\n",
    "accuracy = accuracy_score(y_test_data_test_fast_word, predicted_classes_21)\n",
    "\n",
    "# Matthews Correlation Coefficient (MCC)\n",
    "mcc = matthews_corrcoef(y_test_data_test_fast_word, predicted_classes_21)\n",
    "\n",
    "# Ergebnisse ausgeben (nur für Klasse 2)\n",
    "print(f\" F1-Score (Klasse 2): {f1_class_2:.4f}\")\n",
    "print(f\" Recall (Klasse 2): {recall_class_2:.4f}\")\n",
    "print(f\" Precision (Klasse 2): {precision_class_2:.4f}\")\n",
    "print(f\" Accuracy (gesamt): {accuracy:.4f}\")\n",
    "print(f\" MCC: {mcc:.4f}\")\n",
    "\n",
    "# Confusion Matrix berechnen\n",
    "cm = confusion_matrix(y_test_data_test_fast_word, predicted_classes_21)\n",
    "print(\"Confusion Matrix:\\n\", cm)\n",
    "\n",
    "# Verwirrungsmatrix visualisieren\n",
    "plt.figure(figsize=(4, 4))\n",
    "sns.heatmap(cm, annot=True, fmt=\"d\", cmap=\"coolwarm\", linewidths=0.5, square=True,\n",
    "            xticklabels=[\"Class 0\", \"Class 1\", \"Class 2\"], yticklabels=[\"Class 0\", \"Class 1\", \"Class 2\"])\n",
    "plt.xlabel(\"Predicted Labels\", fontsize=12)\n",
    "plt.ylabel(\"True Labels\", fontsize=12)\n",
    "plt.title(\"Confusion Matrix\", fontsize=14)\n",
    "plt.show()"
   ]
  },
  {
   "cell_type": "markdown",
   "metadata": {},
   "source": [
    "Modell speichern"
   ]
  },
  {
   "cell_type": "code",
   "execution_count": null,
   "metadata": {},
   "outputs": [],
   "source": [
    "save_path_model = os.path.abspath(os.path.join(src_path, 'src/3. Deep Learning Approach/nasiba/models/model_21_fast.keras'))\n",
    "# Erstelle das Verzeichnis, falls es nicht existiert\n",
    "os.makedirs(os.path.dirname(save_path_model), exist_ok=True)\n",
    "#save_path_model = os.path.abspath(os.path.join(src_path, 'src/3. Deep Learning Approach/nasiba/model_17.h5')) \n",
    "model_21.save(save_path_model)\n",
    "print(f\"Modell wurde erfolgreich gespeichert unter: {save_path_model}\")"
   ]
  }
 ],
 "metadata": {
  "kernelspec": {
   "display_name": "Python 3",
   "language": "python",
   "name": "python3"
  },
  "language_info": {
   "codemirror_mode": {
    "name": "ipython",
    "version": 3
   },
   "file_extension": ".py",
   "mimetype": "text/x-python",
   "name": "python",
   "nbconvert_exporter": "python",
   "pygments_lexer": "ipython3",
   "version": "3.11.9"
  }
 },
 "nbformat": 4,
 "nbformat_minor": 2
}
