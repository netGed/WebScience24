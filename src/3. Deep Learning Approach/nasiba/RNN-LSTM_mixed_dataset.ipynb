{
 "cells": [
  {
   "cell_type": "code",
   "execution_count": 6,
   "metadata": {},
   "outputs": [],
   "source": [
    "# !pip install tensorflow\n"
   ]
  },
  {
   "cell_type": "code",
   "execution_count": 7,
   "metadata": {},
   "outputs": [
    {
     "data": {
      "text/plain": [
       "WindowsPath('C:/Users/Nasiba/Documents/1 Master Data Science/Projektpraktikum/WebScience24')"
      ]
     },
     "execution_count": 7,
     "metadata": {},
     "output_type": "execute_result"
    }
   ],
   "source": [
    "import sys\n",
    "from pathlib import Path\n",
    "\n",
    "# Zum übergeordneten Ordner 'src' wechseln\n",
    "current_path = Path().resolve()\n",
    "src_path = current_path.parents[2]  # Zwei Stufen nach oben\n",
    "\n",
    "if str(src_path) not in sys.path:\n",
    "    sys.path.append(str(src_path))\n",
    "\n",
    "src_path\n"
   ]
  },
  {
   "cell_type": "code",
   "execution_count": 8,
   "metadata": {},
   "outputs": [],
   "source": [
    "\n",
    "\n",
    "import pandas as pd\n",
    "import numpy as np\n",
    "import matplotlib.pyplot as plt\n",
    "import seaborn as sns\n",
    "\n",
    "from pathlib import Path\n",
    "from sklearn.linear_model import LogisticRegression\n",
    "from sklearn.metrics import accuracy_score, classification_report, confusion_matrix\n",
    "\n",
    "from collections import Counter\n",
    "#nlp = spacy.load(\"en_core_web_sm\")\n",
    "from nltk import word_tokenize\n",
    "pd.set_option('display.max_colwidth', None)\n",
    "from sklearn.model_selection import train_test_split\n",
    "from sklearn.feature_extraction.text import TfidfVectorizer\n",
    "from sklearn.feature_extraction.text import CountVectorizer\n",
    "from vector_functions import vectorize_word2vec, vectorize_glove, vectorize_glove_test_data, vectorize_word2vec_test_data\n",
    "import nltk\n",
    "\n",
    "import os\n",
    "from tensorflow.keras.models import Sequential\n",
    "from tensorflow.keras.layers import LSTM, Dense, Dropout, Bidirectional\n",
    "from tensorflow.keras.utils import to_categorical\n",
    "from tensorflow.keras.models import Sequential\n",
    "from tensorflow.keras.optimizers import Adam\n",
    "from tensorflow.keras.metrics import Recall, Precision\n",
    "from tensorflow.keras.callbacks import EarlyStopping\n",
    "\n"
   ]
  },
  {
   "cell_type": "markdown",
   "metadata": {},
   "source": [
    "#### Beladung der Daten"
   ]
  },
  {
   "cell_type": "code",
   "execution_count": 9,
   "metadata": {},
   "outputs": [
    {
     "data": {
      "text/html": [
       "<div>\n",
       "<style scoped>\n",
       "    .dataframe tbody tr th:only-of-type {\n",
       "        vertical-align: middle;\n",
       "    }\n",
       "\n",
       "    .dataframe tbody tr th {\n",
       "        vertical-align: top;\n",
       "    }\n",
       "\n",
       "    .dataframe thead th {\n",
       "        text-align: right;\n",
       "    }\n",
       "</style>\n",
       "<table border=\"1\" class=\"dataframe\">\n",
       "  <thead>\n",
       "    <tr style=\"text-align: right;\">\n",
       "      <th></th>\n",
       "      <th>label</th>\n",
       "      <th>tweet</th>\n",
       "      <th>tweet_cleaned</th>\n",
       "      <th>user_handle</th>\n",
       "      <th>hashtags</th>\n",
       "      <th>emojis</th>\n",
       "    </tr>\n",
       "  </thead>\n",
       "  <tbody>\n",
       "    <tr>\n",
       "      <th>140232</th>\n",
       "      <td>0</td>\n",
       "      <td>Nicki's \"that's not good\" pout bought to you by Botox[™]. #MKR</td>\n",
       "      <td>nickis \" good pout buy botox trade mark mkr</td>\n",
       "      <td>0</td>\n",
       "      <td>['#mkr']</td>\n",
       "      <td>__trade_mark__</td>\n",
       "    </tr>\n",
       "  </tbody>\n",
       "</table>\n",
       "</div>"
      ],
      "text/plain": [
       "        label                                                           tweet  \\\n",
       "140232      0  Nicki's \"that's not good\" pout bought to you by Botox[™]. #MKR   \n",
       "\n",
       "                                      tweet_cleaned  user_handle  hashtags  \\\n",
       "140232  nickis \" good pout buy botox trade mark mkr            0  ['#mkr']   \n",
       "\n",
       "                emojis  \n",
       "140232  __trade_mark__  "
      ]
     },
     "execution_count": 9,
     "metadata": {},
     "output_type": "execute_result"
    }
   ],
   "source": [
    "\n",
    "source_filepath_name = os.path.abspath(os.path.join(src_path, 'data/mixed_dataset/train_cleaned.csv'))\n",
    "\n",
    "df_cleaned = pd.read_csv(source_filepath_name, encoding='utf-8', index_col=0)\n",
    "\n",
    "source_filepath_name_test = os.path.abspath(os.path.join(src_path, 'data/mixed_dataset/test_cleaned.csv'))\n",
    "\n",
    "df_cleaned_test = pd.read_csv(source_filepath_name_test, encoding='utf-8', index_col=0)\n",
    "\n",
    "df_cleaned.head(1)"
   ]
  },
  {
   "cell_type": "markdown",
   "metadata": {},
   "source": [
    "### Vektorisierung"
   ]
  },
  {
   "cell_type": "markdown",
   "metadata": {},
   "source": [
    "#### GloVe "
   ]
  },
  {
   "cell_type": "code",
   "execution_count": null,
   "metadata": {},
   "outputs": [
    {
     "name": "stderr",
     "output_type": "stream",
     "text": [
      "c:\\Users\\Nasiba\\Documents\\1 Master Data Science\\Projektpraktikum\\WebScience24\\src\\3. Deep Learning Approach\\nasiba\\vector_functions.py:396: SettingWithCopyWarning: \n",
      "A value is trying to be set on a copy of a slice from a DataFrame.\n",
      "Try using .loc[row_indexer,col_indexer] = value instead\n",
      "\n",
      "See the caveats in the documentation: https://pandas.pydata.org/pandas-docs/stable/user_guide/indexing.html#returning-a-view-versus-a-copy\n",
      "  df[text_column] = df[text_column].astype(str)\n",
      "c:\\Users\\Nasiba\\Documents\\1 Master Data Science\\Projektpraktikum\\WebScience24\\src\\3. Deep Learning Approach\\nasiba\\vector_functions.py:462: SettingWithCopyWarning: \n",
      "A value is trying to be set on a copy of a slice from a DataFrame.\n",
      "Try using .loc[row_indexer,col_indexer] = value instead\n",
      "\n",
      "See the caveats in the documentation: https://pandas.pydata.org/pandas-docs/stable/user_guide/indexing.html#returning-a-view-versus-a-copy\n",
      "  df[text_column] = df[text_column].astype(str)\n",
      "c:\\Users\\Nasiba\\Documents\\1 Master Data Science\\Projektpraktikum\\WebScience24\\src\\3. Deep Learning Approach\\nasiba\\vector_functions.py:462: SettingWithCopyWarning: \n",
      "A value is trying to be set on a copy of a slice from a DataFrame.\n",
      "Try using .loc[row_indexer,col_indexer] = value instead\n",
      "\n",
      "See the caveats in the documentation: https://pandas.pydata.org/pandas-docs/stable/user_guide/indexing.html#returning-a-view-versus-a-copy\n",
      "  df[text_column] = df[text_column].astype(str)\n"
     ]
    }
   ],
   "source": [
    "\n",
    "\n",
    "twitter_glove_path = os.path.abspath(os.path.join(src_path, 'src/3. Deep Learning Approach/nasiba/glove.6B.200d.txt'))\n",
    "\n",
    "\n",
    "X_train_vectors, X_test_vectors, y_train, y_test, glove_embeddings = vectorize_glove(df=df_cleaned, text_column =\"tweet_cleaned\", label_column=\"label\", glove_path=twitter_glove_path)\n",
    "\n",
    "X_test_data_vectors , y_test_data, glove_embeddings = vectorize_glove_test_data(df=df_cleaned_test, text_column =\"tweet_cleaned\", label_column=\"label\", glove_path=twitter_glove_path)\n",
    "\n",
    "#X_train_vectors_2 , y_train_2, glove_embeddings = vectorize_glove_test_data(df=df_cleaned, text_column =\"tweet_cleaned\", label_column=\"label\", glove_path=twitter_glove_path)"
   ]
  },
  {
   "cell_type": "code",
   "execution_count": 6,
   "metadata": {},
   "outputs": [
    {
     "data": {
      "text/plain": [
       "id\n",
       "8886     0\n",
       "909      0\n",
       "27613    0\n",
       "15999    0\n",
       "23817    0\n",
       "        ..\n",
       "16407    0\n",
       "6526     0\n",
       "8002     1\n",
       "323      0\n",
       "16978    0\n",
       "Name: label, Length: 20178, dtype: int64"
      ]
     },
     "execution_count": 6,
     "metadata": {},
     "output_type": "execute_result"
    }
   ],
   "source": [
    "y_train_2"
   ]
  },
  {
   "cell_type": "code",
   "execution_count": null,
   "metadata": {},
   "outputs": [
    {
     "name": "stderr",
     "output_type": "stream",
     "text": [
      "C:\\Users\\Nasiba\\AppData\\Local\\Packages\\PythonSoftwareFoundation.Python.3.11_qbz5n2kfra8p0\\LocalCache\\local-packages\\Python311\\site-packages\\keras\\src\\layers\\rnn\\rnn.py:200: UserWarning: Do not pass an `input_shape`/`input_dim` argument to a layer. When using Sequential models, prefer using an `Input(shape)` object as the first layer in the model instead.\n",
      "  super().__init__(**kwargs)\n"
     ]
    },
    {
     "name": "stdout",
     "output_type": "stream",
     "text": [
      "Epoch 1/10\n",
      "\u001b[1m631/631\u001b[0m \u001b[32m━━━━━━━━━━━━━━━━━━━━\u001b[0m\u001b[37m\u001b[0m \u001b[1m28s\u001b[0m 42ms/step - accuracy: 0.9282 - loss: 0.2868 - val_accuracy: 0.9330 - val_loss: 0.2458\n",
      "Epoch 2/10\n",
      "\u001b[1m631/631\u001b[0m \u001b[32m━━━━━━━━━━━━━━━━━━━━\u001b[0m\u001b[37m\u001b[0m \u001b[1m25s\u001b[0m 39ms/step - accuracy: 0.9333 - loss: 0.2528 - val_accuracy: 0.9326 - val_loss: 0.2472\n",
      "Epoch 3/10\n",
      "\u001b[1m631/631\u001b[0m \u001b[32m━━━━━━━━━━━━━━━━━━━━\u001b[0m\u001b[37m\u001b[0m \u001b[1m25s\u001b[0m 40ms/step - accuracy: 0.9331 - loss: 0.2492 - val_accuracy: 0.9326 - val_loss: 0.2475\n",
      "Epoch 4/10\n",
      "\u001b[1m631/631\u001b[0m \u001b[32m━━━━━━━━━━━━━━━━━━━━\u001b[0m\u001b[37m\u001b[0m \u001b[1m27s\u001b[0m 42ms/step - accuracy: 0.9340 - loss: 0.2471 - val_accuracy: 0.9326 - val_loss: 0.2456\n",
      "Epoch 5/10\n",
      "\u001b[1m631/631\u001b[0m \u001b[32m━━━━━━━━━━━━━━━━━━━━\u001b[0m\u001b[37m\u001b[0m \u001b[1m27s\u001b[0m 43ms/step - accuracy: 0.9323 - loss: 0.2481 - val_accuracy: 0.9330 - val_loss: 0.2455\n",
      "Epoch 6/10\n",
      "\u001b[1m631/631\u001b[0m \u001b[32m━━━━━━━━━━━━━━━━━━━━\u001b[0m\u001b[37m\u001b[0m \u001b[1m26s\u001b[0m 42ms/step - accuracy: 0.9342 - loss: 0.2415 - val_accuracy: 0.9332 - val_loss: 0.2404\n",
      "Epoch 7/10\n",
      "\u001b[1m631/631\u001b[0m \u001b[32m━━━━━━━━━━━━━━━━━━━━\u001b[0m\u001b[37m\u001b[0m \u001b[1m28s\u001b[0m 44ms/step - accuracy: 0.9374 - loss: 0.2329 - val_accuracy: 0.9326 - val_loss: 0.2050\n",
      "Epoch 8/10\n",
      "\u001b[1m631/631\u001b[0m \u001b[32m━━━━━━━━━━━━━━━━━━━━\u001b[0m\u001b[37m\u001b[0m \u001b[1m29s\u001b[0m 46ms/step - accuracy: 0.9345 - loss: 0.1803 - val_accuracy: 0.9356 - val_loss: 0.1593\n",
      "Epoch 9/10\n",
      "\u001b[1m631/631\u001b[0m \u001b[32m━━━━━━━━━━━━━━━━━━━━\u001b[0m\u001b[37m\u001b[0m \u001b[1m28s\u001b[0m 44ms/step - accuracy: 0.9433 - loss: 0.1428 - val_accuracy: 0.9475 - val_loss: 0.1532\n",
      "Epoch 10/10\n",
      "\u001b[1m631/631\u001b[0m \u001b[32m━━━━━━━━━━━━━━━━━━━━\u001b[0m\u001b[37m\u001b[0m \u001b[1m28s\u001b[0m 44ms/step - accuracy: 0.9594 - loss: 0.1179 - val_accuracy: 0.9470 - val_loss: 0.1500\n",
      "\u001b[1m277/277\u001b[0m \u001b[32m━━━━━━━━━━━━━━━━━━━━\u001b[0m\u001b[37m\u001b[0m \u001b[1m5s\u001b[0m 17ms/step\n"
     ]
    }
   ],
   "source": [
    "\n",
    "\n",
    "samples_2, max_seq_len_2, vector_size_2 = X_train_vectors_2.shape\n",
    "num_classes_2 = len(np.unique(y_train_2))\n",
    "\n",
    "y_train_onehot_2 = to_categorical(y_train_2, num_classes=num_classes_2)\n",
    "y_test_onehot_data = to_categorical(y_test_data, num_classes=num_classes_2)\n",
    "\n",
    "# Modellinitialisierung\n",
    "model_tr_2 = Sequential()\n",
    "\n",
    "# LSTM-Schicht\n",
    "model_tr_2.add(LSTM(units=128, input_shape=(max_seq_len_2, vector_size_2), return_sequences=False))\n",
    "\n",
    "# Optional: Dropout zur Vermeidung von Overfitting\n",
    "model_tr_2.add(Dropout(0.5))\n",
    "\n",
    "# Dense-Schicht für die Ausgabe\n",
    "model_tr_2.add(Dense(units=num_classes_2, activation='softmax'))\n",
    "\n",
    "# Kompilieren des Modells\n",
    "model_tr_2.compile(optimizer='adam', loss='categorical_crossentropy', metrics=['accuracy'])\n",
    "\n",
    "history_tr_2 = model_tr_2.fit(\n",
    "    X_train_vectors, y_train_onehot_2,\n",
    "    validation_data=(X_test_data_vectors, y_test_onehot_data),\n",
    "    epochs=10,\n",
    "    batch_size=32,\n",
    "    verbose=1\n",
    ")\n",
    "\n",
    "# Klassifikationsbericht erstellen\n",
    "# Vorhersagen auf Testdaten\n",
    "predictions_tr_2 = model_tr_2.predict(X_test_data_vectors)\n",
    "predicted_classes_tr_2 = np.argmax(predictions_tr_2, axis=1)\n",
    "\n",
    "\n",
    "\n",
    "\n"
   ]
  },
  {
   "cell_type": "code",
   "execution_count": 8,
   "metadata": {},
   "outputs": [
    {
     "name": "stdout",
     "output_type": "stream",
     "text": [
      "Classification Report:\n",
      "               precision    recall  f1-score   support\n",
      "\n",
      "     Class 0       0.97      0.97      0.97      8239\n",
      "     Class 1       0.60      0.62      0.61       595\n",
      "\n",
      "    accuracy                           0.95      8834\n",
      "   macro avg       0.79      0.79      0.79      8834\n",
      "weighted avg       0.95      0.95      0.95      8834\n",
      "\n",
      "[[8000  239]\n",
      " [ 229  366]]\n"
     ]
    },
    {
     "data": {
      "image/png": "[encoded data removed]",
      "text/plain": [
       "<Figure size 400x400 with 2 Axes>"
      ]
     },
     "metadata": {},
     "output_type": "display_data"
    }
   ],
   "source": [
    "report = classification_report(np.argmax(y_test_onehot_data, axis=1), predicted_classes_tr_2, target_names=[\"Class 0\", \"Class 1\"])\n",
    "print(\"Classification Report:\\n\", report)\n",
    "\n",
    "cm = confusion_matrix(np.argmax(y_test_onehot_data, axis=1), predicted_classes_tr_2)\n",
    "print(cm)\n",
    "# Verwirrungsmatrix visualisieren\n",
    "plt.figure(figsize=(4, 4))\n",
    "sns.heatmap(cm, annot=True, fmt=\"d\", cmap=\"coolwarm\", linewidths=0.5, square=True,\n",
    "            xticklabels=[\"Label 0\", \"Label 1\"], yticklabels=[\"Label 0\", \"Label 1\"])\n",
    "plt.xlabel(\"Predicted Labels\", fontsize=12)\n",
    "plt.ylabel(\"True Labels\", fontsize=12)\n",
    "plt.title(\"Confusion Matrix\", fontsize=14)\n",
    "plt.show()"
   ]
  },
  {
   "cell_type": "markdown",
   "metadata": {},
   "source": [
    "### Modell aufbauen "
   ]
  },
  {
   "cell_type": "markdown",
   "metadata": {},
   "source": [
    "#### One-Hot-Encoding der Labels"
   ]
  },
  {
   "cell_type": "code",
   "execution_count": null,
   "metadata": {},
   "outputs": [
    {
     "name": "stderr",
     "output_type": "stream",
     "text": [
      "c:\\Users\\Nasiba\\Documents\\1 Master Data Science\\Projektpraktikum\\WebScience24\\src\\3. Deep Learning Approach\\nasiba\\vector_functions.py:217: SettingWithCopyWarning: \n",
      "A value is trying to be set on a copy of a slice from a DataFrame.\n",
      "Try using .loc[row_indexer,col_indexer] = value instead\n",
      "\n",
      "See the caveats in the documentation: https://pandas.pydata.org/pandas-docs/stable/user_guide/indexing.html#returning-a-view-versus-a-copy\n",
      "  df[text_column] = df[text_column].astype(str)\n",
      "c:\\Users\\Nasiba\\Documents\\1 Master Data Science\\Projektpraktikum\\WebScience24\\src\\3. Deep Learning Approach\\nasiba\\vector_functions.py:217: SettingWithCopyWarning: \n",
      "A value is trying to be set on a copy of a slice from a DataFrame.\n",
      "Try using .loc[row_indexer,col_indexer] = value instead\n",
      "\n",
      "See the caveats in the documentation: https://pandas.pydata.org/pandas-docs/stable/user_guide/indexing.html#returning-a-view-versus-a-copy\n",
      "  df[text_column] = df[text_column].astype(str)\n"
     ]
    },
    {
     "ename": "KeyboardInterrupt",
     "evalue": "",
     "output_type": "error",
     "traceback": [
      "\u001b[1;31m---------------------------------------------------------------------------\u001b[0m",
      "\u001b[1;31mKeyboardInterrupt\u001b[0m                         Traceback (most recent call last)",
      "Cell \u001b[1;32mIn[16], line 4\u001b[0m\n\u001b[0;32m      1\u001b[0m X_train_w2v,  y_train_wv, w2v_model \u001b[38;5;241m=\u001b[39m vectorize_word2vec_test_data(df\u001b[38;5;241m=\u001b[39mdf_cleaned, text_column \u001b[38;5;241m=\u001b[39m\u001b[38;5;124m\"\u001b[39m\u001b[38;5;124mtweet_cleaned\u001b[39m\u001b[38;5;124m\"\u001b[39m, label_column\u001b[38;5;241m=\u001b[39m\u001b[38;5;124m\"\u001b[39m\u001b[38;5;124mlabel\u001b[39m\u001b[38;5;124m\"\u001b[39m)\n\u001b[1;32m----> 4\u001b[0m X_test_w2v_data, y_test_wv_data, w2v_model \u001b[38;5;241m=\u001b[39m \u001b[43mvectorize_word2vec_test_data\u001b[49m\u001b[43m(\u001b[49m\u001b[43mdf\u001b[49m\u001b[38;5;241;43m=\u001b[39;49m\u001b[43mdf_cleaned\u001b[49m\u001b[43m,\u001b[49m\u001b[43m \u001b[49m\u001b[43mtext_column\u001b[49m\u001b[43m \u001b[49m\u001b[38;5;241;43m=\u001b[39;49m\u001b[38;5;124;43m\"\u001b[39;49m\u001b[38;5;124;43mtweet_cleaned\u001b[39;49m\u001b[38;5;124;43m\"\u001b[39;49m\u001b[43m,\u001b[49m\u001b[43m \u001b[49m\u001b[43mlabel_column\u001b[49m\u001b[38;5;241;43m=\u001b[39;49m\u001b[38;5;124;43m\"\u001b[39;49m\u001b[38;5;124;43mlabel\u001b[39;49m\u001b[38;5;124;43m\"\u001b[39;49m\u001b[43m)\u001b[49m\n",
      "File \u001b[1;32mc:\\Users\\Nasiba\\Documents\\1 Master Data Science\\Projektpraktikum\\WebScience24\\src\\3. Deep Learning Approach\\nasiba\\vector_functions.py:220\u001b[0m, in \u001b[0;36mvectorize_word2vec_test_data\u001b[1;34m(df, text_column, label_column, vector_size, max_seq_len, window, min_count)\u001b[0m\n\u001b[0;32m    217\u001b[0m df[text_column] \u001b[38;5;241m=\u001b[39m df[text_column]\u001b[38;5;241m.\u001b[39mastype(\u001b[38;5;28mstr\u001b[39m)\n\u001b[0;32m    219\u001b[0m \u001b[38;5;66;03m# Step 2: Tokenisiere den Text\u001b[39;00m\n\u001b[1;32m--> 220\u001b[0m X_tokenized \u001b[38;5;241m=\u001b[39m \u001b[43mdf\u001b[49m\u001b[43m[\u001b[49m\u001b[43mtext_column\u001b[49m\u001b[43m]\u001b[49m\u001b[38;5;241;43m.\u001b[39;49m\u001b[43mmap\u001b[49m\u001b[43m(\u001b[49m\u001b[38;5;28;43;01mlambda\u001b[39;49;00m\u001b[43m \u001b[49m\u001b[43mx\u001b[49m\u001b[43m:\u001b[49m\u001b[43m \u001b[49m\u001b[43mword_tokenize\u001b[49m\u001b[43m(\u001b[49m\u001b[43mx\u001b[49m\u001b[43m)\u001b[49m\u001b[43m \u001b[49m\u001b[38;5;28;43;01mif\u001b[39;49;00m\u001b[43m \u001b[49m\u001b[38;5;28;43misinstance\u001b[39;49m\u001b[43m(\u001b[49m\u001b[43mx\u001b[49m\u001b[43m,\u001b[49m\u001b[43m \u001b[49m\u001b[38;5;28;43mstr\u001b[39;49m\u001b[43m)\u001b[49m\u001b[43m \u001b[49m\u001b[38;5;28;43;01melse\u001b[39;49;00m\u001b[43m \u001b[49m\u001b[43m[\u001b[49m\u001b[43m]\u001b[49m\u001b[43m)\u001b[49m\n\u001b[0;32m    222\u001b[0m \u001b[38;5;66;03m# Step 3: Trainiere Word2Vec-Modell auf der gesamten tokenisierten Datenmenge\u001b[39;00m\n\u001b[0;32m    223\u001b[0m w2v_model \u001b[38;5;241m=\u001b[39m Word2Vec(sentences\u001b[38;5;241m=\u001b[39mX_tokenized, vector_size\u001b[38;5;241m=\u001b[39mvector_size, window\u001b[38;5;241m=\u001b[39mwindow, min_count\u001b[38;5;241m=\u001b[39mmin_count, sg\u001b[38;5;241m=\u001b[39m\u001b[38;5;241m0\u001b[39m)\n",
      "File \u001b[1;32m~\\AppData\\Local\\Packages\\PythonSoftwareFoundation.Python.3.11_qbz5n2kfra8p0\\LocalCache\\local-packages\\Python311\\site-packages\\pandas\\core\\series.py:4700\u001b[0m, in \u001b[0;36mSeries.map\u001b[1;34m(self, arg, na_action)\u001b[0m\n\u001b[0;32m   4620\u001b[0m \u001b[38;5;28;01mdef\u001b[39;00m \u001b[38;5;21mmap\u001b[39m(\n\u001b[0;32m   4621\u001b[0m     \u001b[38;5;28mself\u001b[39m,\n\u001b[0;32m   4622\u001b[0m     arg: Callable \u001b[38;5;241m|\u001b[39m Mapping \u001b[38;5;241m|\u001b[39m Series,\n\u001b[0;32m   4623\u001b[0m     na_action: Literal[\u001b[38;5;124m\"\u001b[39m\u001b[38;5;124mignore\u001b[39m\u001b[38;5;124m\"\u001b[39m] \u001b[38;5;241m|\u001b[39m \u001b[38;5;28;01mNone\u001b[39;00m \u001b[38;5;241m=\u001b[39m \u001b[38;5;28;01mNone\u001b[39;00m,\n\u001b[0;32m   4624\u001b[0m ) \u001b[38;5;241m-\u001b[39m\u001b[38;5;241m>\u001b[39m Series:\n\u001b[0;32m   4625\u001b[0m \u001b[38;5;250m    \u001b[39m\u001b[38;5;124;03m\"\"\"\u001b[39;00m\n\u001b[0;32m   4626\u001b[0m \u001b[38;5;124;03m    Map values of Series according to an input mapping or function.\u001b[39;00m\n\u001b[0;32m   4627\u001b[0m \n\u001b[1;32m   (...)\u001b[0m\n\u001b[0;32m   4698\u001b[0m \u001b[38;5;124;03m    dtype: object\u001b[39;00m\n\u001b[0;32m   4699\u001b[0m \u001b[38;5;124;03m    \"\"\"\u001b[39;00m\n\u001b[1;32m-> 4700\u001b[0m     new_values \u001b[38;5;241m=\u001b[39m \u001b[38;5;28;43mself\u001b[39;49m\u001b[38;5;241;43m.\u001b[39;49m\u001b[43m_map_values\u001b[49m\u001b[43m(\u001b[49m\u001b[43marg\u001b[49m\u001b[43m,\u001b[49m\u001b[43m \u001b[49m\u001b[43mna_action\u001b[49m\u001b[38;5;241;43m=\u001b[39;49m\u001b[43mna_action\u001b[49m\u001b[43m)\u001b[49m\n\u001b[0;32m   4701\u001b[0m     \u001b[38;5;28;01mreturn\u001b[39;00m \u001b[38;5;28mself\u001b[39m\u001b[38;5;241m.\u001b[39m_constructor(new_values, index\u001b[38;5;241m=\u001b[39m\u001b[38;5;28mself\u001b[39m\u001b[38;5;241m.\u001b[39mindex, copy\u001b[38;5;241m=\u001b[39m\u001b[38;5;28;01mFalse\u001b[39;00m)\u001b[38;5;241m.\u001b[39m__finalize__(\n\u001b[0;32m   4702\u001b[0m         \u001b[38;5;28mself\u001b[39m, method\u001b[38;5;241m=\u001b[39m\u001b[38;5;124m\"\u001b[39m\u001b[38;5;124mmap\u001b[39m\u001b[38;5;124m\"\u001b[39m\n\u001b[0;32m   4703\u001b[0m     )\n",
      "File \u001b[1;32m~\\AppData\\Local\\Packages\\PythonSoftwareFoundation.Python.3.11_qbz5n2kfra8p0\\LocalCache\\local-packages\\Python311\\site-packages\\pandas\\core\\base.py:921\u001b[0m, in \u001b[0;36mIndexOpsMixin._map_values\u001b[1;34m(self, mapper, na_action, convert)\u001b[0m\n\u001b[0;32m    918\u001b[0m \u001b[38;5;28;01mif\u001b[39;00m \u001b[38;5;28misinstance\u001b[39m(arr, ExtensionArray):\n\u001b[0;32m    919\u001b[0m     \u001b[38;5;28;01mreturn\u001b[39;00m arr\u001b[38;5;241m.\u001b[39mmap(mapper, na_action\u001b[38;5;241m=\u001b[39mna_action)\n\u001b[1;32m--> 921\u001b[0m \u001b[38;5;28;01mreturn\u001b[39;00m \u001b[43malgorithms\u001b[49m\u001b[38;5;241;43m.\u001b[39;49m\u001b[43mmap_array\u001b[49m\u001b[43m(\u001b[49m\u001b[43marr\u001b[49m\u001b[43m,\u001b[49m\u001b[43m \u001b[49m\u001b[43mmapper\u001b[49m\u001b[43m,\u001b[49m\u001b[43m \u001b[49m\u001b[43mna_action\u001b[49m\u001b[38;5;241;43m=\u001b[39;49m\u001b[43mna_action\u001b[49m\u001b[43m,\u001b[49m\u001b[43m \u001b[49m\u001b[43mconvert\u001b[49m\u001b[38;5;241;43m=\u001b[39;49m\u001b[43mconvert\u001b[49m\u001b[43m)\u001b[49m\n",
      "File \u001b[1;32m~\\AppData\\Local\\Packages\\PythonSoftwareFoundation.Python.3.11_qbz5n2kfra8p0\\LocalCache\\local-packages\\Python311\\site-packages\\pandas\\core\\algorithms.py:1743\u001b[0m, in \u001b[0;36mmap_array\u001b[1;34m(arr, mapper, na_action, convert)\u001b[0m\n\u001b[0;32m   1741\u001b[0m values \u001b[38;5;241m=\u001b[39m arr\u001b[38;5;241m.\u001b[39mastype(\u001b[38;5;28mobject\u001b[39m, copy\u001b[38;5;241m=\u001b[39m\u001b[38;5;28;01mFalse\u001b[39;00m)\n\u001b[0;32m   1742\u001b[0m \u001b[38;5;28;01mif\u001b[39;00m na_action \u001b[38;5;129;01mis\u001b[39;00m \u001b[38;5;28;01mNone\u001b[39;00m:\n\u001b[1;32m-> 1743\u001b[0m     \u001b[38;5;28;01mreturn\u001b[39;00m \u001b[43mlib\u001b[49m\u001b[38;5;241;43m.\u001b[39;49m\u001b[43mmap_infer\u001b[49m\u001b[43m(\u001b[49m\u001b[43mvalues\u001b[49m\u001b[43m,\u001b[49m\u001b[43m \u001b[49m\u001b[43mmapper\u001b[49m\u001b[43m,\u001b[49m\u001b[43m \u001b[49m\u001b[43mconvert\u001b[49m\u001b[38;5;241;43m=\u001b[39;49m\u001b[43mconvert\u001b[49m\u001b[43m)\u001b[49m\n\u001b[0;32m   1744\u001b[0m \u001b[38;5;28;01melse\u001b[39;00m:\n\u001b[0;32m   1745\u001b[0m     \u001b[38;5;28;01mreturn\u001b[39;00m lib\u001b[38;5;241m.\u001b[39mmap_infer_mask(\n\u001b[0;32m   1746\u001b[0m         values, mapper, mask\u001b[38;5;241m=\u001b[39misna(values)\u001b[38;5;241m.\u001b[39mview(np\u001b[38;5;241m.\u001b[39muint8), convert\u001b[38;5;241m=\u001b[39mconvert\n\u001b[0;32m   1747\u001b[0m     )\n",
      "File \u001b[1;32mlib.pyx:2972\u001b[0m, in \u001b[0;36mpandas._libs.lib.map_infer\u001b[1;34m()\u001b[0m\n",
      "File \u001b[1;32mc:\\Users\\Nasiba\\Documents\\1 Master Data Science\\Projektpraktikum\\WebScience24\\src\\3. Deep Learning Approach\\nasiba\\vector_functions.py:220\u001b[0m, in \u001b[0;36mvectorize_word2vec_test_data.<locals>.<lambda>\u001b[1;34m(x)\u001b[0m\n\u001b[0;32m    217\u001b[0m df[text_column] \u001b[38;5;241m=\u001b[39m df[text_column]\u001b[38;5;241m.\u001b[39mastype(\u001b[38;5;28mstr\u001b[39m)\n\u001b[0;32m    219\u001b[0m \u001b[38;5;66;03m# Step 2: Tokenisiere den Text\u001b[39;00m\n\u001b[1;32m--> 220\u001b[0m X_tokenized \u001b[38;5;241m=\u001b[39m df[text_column]\u001b[38;5;241m.\u001b[39mmap(\u001b[38;5;28;01mlambda\u001b[39;00m x: \u001b[43mword_tokenize\u001b[49m\u001b[43m(\u001b[49m\u001b[43mx\u001b[49m\u001b[43m)\u001b[49m \u001b[38;5;28;01mif\u001b[39;00m \u001b[38;5;28misinstance\u001b[39m(x, \u001b[38;5;28mstr\u001b[39m) \u001b[38;5;28;01melse\u001b[39;00m [])\n\u001b[0;32m    222\u001b[0m \u001b[38;5;66;03m# Step 3: Trainiere Word2Vec-Modell auf der gesamten tokenisierten Datenmenge\u001b[39;00m\n\u001b[0;32m    223\u001b[0m w2v_model \u001b[38;5;241m=\u001b[39m Word2Vec(sentences\u001b[38;5;241m=\u001b[39mX_tokenized, vector_size\u001b[38;5;241m=\u001b[39mvector_size, window\u001b[38;5;241m=\u001b[39mwindow, min_count\u001b[38;5;241m=\u001b[39mmin_count, sg\u001b[38;5;241m=\u001b[39m\u001b[38;5;241m0\u001b[39m)\n",
      "File \u001b[1;32m~\\AppData\\Local\\Packages\\PythonSoftwareFoundation.Python.3.11_qbz5n2kfra8p0\\LocalCache\\local-packages\\Python311\\site-packages\\nltk\\tokenize\\__init__.py:142\u001b[0m, in \u001b[0;36mword_tokenize\u001b[1;34m(text, language, preserve_line)\u001b[0m\n\u001b[0;32m    127\u001b[0m \u001b[38;5;28;01mdef\u001b[39;00m \u001b[38;5;21mword_tokenize\u001b[39m(text, language\u001b[38;5;241m=\u001b[39m\u001b[38;5;124m\"\u001b[39m\u001b[38;5;124menglish\u001b[39m\u001b[38;5;124m\"\u001b[39m, preserve_line\u001b[38;5;241m=\u001b[39m\u001b[38;5;28;01mFalse\u001b[39;00m):\n\u001b[0;32m    128\u001b[0m \u001b[38;5;250m    \u001b[39m\u001b[38;5;124;03m\"\"\"\u001b[39;00m\n\u001b[0;32m    129\u001b[0m \u001b[38;5;124;03m    Return a tokenized copy of *text*,\u001b[39;00m\n\u001b[0;32m    130\u001b[0m \u001b[38;5;124;03m    using NLTK's recommended word tokenizer\u001b[39;00m\n\u001b[1;32m   (...)\u001b[0m\n\u001b[0;32m    140\u001b[0m \u001b[38;5;124;03m    :type preserve_line: bool\u001b[39;00m\n\u001b[0;32m    141\u001b[0m \u001b[38;5;124;03m    \"\"\"\u001b[39;00m\n\u001b[1;32m--> 142\u001b[0m     sentences \u001b[38;5;241m=\u001b[39m [text] \u001b[38;5;28;01mif\u001b[39;00m preserve_line \u001b[38;5;28;01melse\u001b[39;00m \u001b[43msent_tokenize\u001b[49m\u001b[43m(\u001b[49m\u001b[43mtext\u001b[49m\u001b[43m,\u001b[49m\u001b[43m \u001b[49m\u001b[43mlanguage\u001b[49m\u001b[43m)\u001b[49m\n\u001b[0;32m    143\u001b[0m     \u001b[38;5;28;01mreturn\u001b[39;00m [\n\u001b[0;32m    144\u001b[0m         token \u001b[38;5;28;01mfor\u001b[39;00m sent \u001b[38;5;129;01min\u001b[39;00m sentences \u001b[38;5;28;01mfor\u001b[39;00m token \u001b[38;5;129;01min\u001b[39;00m _treebank_word_tokenizer\u001b[38;5;241m.\u001b[39mtokenize(sent)\n\u001b[0;32m    145\u001b[0m     ]\n",
      "File \u001b[1;32m~\\AppData\\Local\\Packages\\PythonSoftwareFoundation.Python.3.11_qbz5n2kfra8p0\\LocalCache\\local-packages\\Python311\\site-packages\\nltk\\tokenize\\__init__.py:120\u001b[0m, in \u001b[0;36msent_tokenize\u001b[1;34m(text, language)\u001b[0m\n\u001b[0;32m    110\u001b[0m \u001b[38;5;250m\u001b[39m\u001b[38;5;124;03m\"\"\"\u001b[39;00m\n\u001b[0;32m    111\u001b[0m \u001b[38;5;124;03mReturn a sentence-tokenized copy of *text*,\u001b[39;00m\n\u001b[0;32m    112\u001b[0m \u001b[38;5;124;03musing NLTK's recommended sentence tokenizer\u001b[39;00m\n\u001b[1;32m   (...)\u001b[0m\n\u001b[0;32m    117\u001b[0m \u001b[38;5;124;03m:param language: the model name in the Punkt corpus\u001b[39;00m\n\u001b[0;32m    118\u001b[0m \u001b[38;5;124;03m\"\"\"\u001b[39;00m\n\u001b[0;32m    119\u001b[0m tokenizer \u001b[38;5;241m=\u001b[39m _get_punkt_tokenizer(language)\n\u001b[1;32m--> 120\u001b[0m \u001b[38;5;28;01mreturn\u001b[39;00m \u001b[43mtokenizer\u001b[49m\u001b[38;5;241;43m.\u001b[39;49m\u001b[43mtokenize\u001b[49m\u001b[43m(\u001b[49m\u001b[43mtext\u001b[49m\u001b[43m)\u001b[49m\n",
      "File \u001b[1;32m~\\AppData\\Local\\Packages\\PythonSoftwareFoundation.Python.3.11_qbz5n2kfra8p0\\LocalCache\\local-packages\\Python311\\site-packages\\nltk\\tokenize\\punkt.py:1280\u001b[0m, in \u001b[0;36mPunktSentenceTokenizer.tokenize\u001b[1;34m(self, text, realign_boundaries)\u001b[0m\n\u001b[0;32m   1276\u001b[0m \u001b[38;5;28;01mdef\u001b[39;00m \u001b[38;5;21mtokenize\u001b[39m(\u001b[38;5;28mself\u001b[39m, text: \u001b[38;5;28mstr\u001b[39m, realign_boundaries: \u001b[38;5;28mbool\u001b[39m \u001b[38;5;241m=\u001b[39m \u001b[38;5;28;01mTrue\u001b[39;00m) \u001b[38;5;241m-\u001b[39m\u001b[38;5;241m>\u001b[39m List[\u001b[38;5;28mstr\u001b[39m]:\n\u001b[0;32m   1277\u001b[0m \u001b[38;5;250m    \u001b[39m\u001b[38;5;124;03m\"\"\"\u001b[39;00m\n\u001b[0;32m   1278\u001b[0m \u001b[38;5;124;03m    Given a text, returns a list of the sentences in that text.\u001b[39;00m\n\u001b[0;32m   1279\u001b[0m \u001b[38;5;124;03m    \"\"\"\u001b[39;00m\n\u001b[1;32m-> 1280\u001b[0m     \u001b[38;5;28;01mreturn\u001b[39;00m \u001b[38;5;28mlist\u001b[39m(\u001b[38;5;28;43mself\u001b[39;49m\u001b[38;5;241;43m.\u001b[39;49m\u001b[43msentences_from_text\u001b[49m\u001b[43m(\u001b[49m\u001b[43mtext\u001b[49m\u001b[43m,\u001b[49m\u001b[43m \u001b[49m\u001b[43mrealign_boundaries\u001b[49m\u001b[43m)\u001b[49m)\n",
      "File \u001b[1;32m~\\AppData\\Local\\Packages\\PythonSoftwareFoundation.Python.3.11_qbz5n2kfra8p0\\LocalCache\\local-packages\\Python311\\site-packages\\nltk\\tokenize\\punkt.py:1340\u001b[0m, in \u001b[0;36mPunktSentenceTokenizer.sentences_from_text\u001b[1;34m(self, text, realign_boundaries)\u001b[0m\n\u001b[0;32m   1331\u001b[0m \u001b[38;5;28;01mdef\u001b[39;00m \u001b[38;5;21msentences_from_text\u001b[39m(\n\u001b[0;32m   1332\u001b[0m     \u001b[38;5;28mself\u001b[39m, text: \u001b[38;5;28mstr\u001b[39m, realign_boundaries: \u001b[38;5;28mbool\u001b[39m \u001b[38;5;241m=\u001b[39m \u001b[38;5;28;01mTrue\u001b[39;00m\n\u001b[0;32m   1333\u001b[0m ) \u001b[38;5;241m-\u001b[39m\u001b[38;5;241m>\u001b[39m List[\u001b[38;5;28mstr\u001b[39m]:\n\u001b[0;32m   1334\u001b[0m \u001b[38;5;250m    \u001b[39m\u001b[38;5;124;03m\"\"\"\u001b[39;00m\n\u001b[0;32m   1335\u001b[0m \u001b[38;5;124;03m    Given a text, generates the sentences in that text by only\u001b[39;00m\n\u001b[0;32m   1336\u001b[0m \u001b[38;5;124;03m    testing candidate sentence breaks. If realign_boundaries is\u001b[39;00m\n\u001b[0;32m   1337\u001b[0m \u001b[38;5;124;03m    True, includes in the sentence closing punctuation that\u001b[39;00m\n\u001b[0;32m   1338\u001b[0m \u001b[38;5;124;03m    follows the period.\u001b[39;00m\n\u001b[0;32m   1339\u001b[0m \u001b[38;5;124;03m    \"\"\"\u001b[39;00m\n\u001b[1;32m-> 1340\u001b[0m     \u001b[38;5;28;01mreturn\u001b[39;00m \u001b[43m[\u001b[49m\u001b[43mtext\u001b[49m\u001b[43m[\u001b[49m\u001b[43ms\u001b[49m\u001b[43m:\u001b[49m\u001b[43me\u001b[49m\u001b[43m]\u001b[49m\u001b[43m \u001b[49m\u001b[38;5;28;43;01mfor\u001b[39;49;00m\u001b[43m \u001b[49m\u001b[43ms\u001b[49m\u001b[43m,\u001b[49m\u001b[43m \u001b[49m\u001b[43me\u001b[49m\u001b[43m \u001b[49m\u001b[38;5;129;43;01min\u001b[39;49;00m\u001b[43m \u001b[49m\u001b[38;5;28;43mself\u001b[39;49m\u001b[38;5;241;43m.\u001b[39;49m\u001b[43mspan_tokenize\u001b[49m\u001b[43m(\u001b[49m\u001b[43mtext\u001b[49m\u001b[43m,\u001b[49m\u001b[43m \u001b[49m\u001b[43mrealign_boundaries\u001b[49m\u001b[43m)\u001b[49m\u001b[43m]\u001b[49m\n",
      "File \u001b[1;32m~\\AppData\\Local\\Packages\\PythonSoftwareFoundation.Python.3.11_qbz5n2kfra8p0\\LocalCache\\local-packages\\Python311\\site-packages\\nltk\\tokenize\\punkt.py:1340\u001b[0m, in \u001b[0;36m<listcomp>\u001b[1;34m(.0)\u001b[0m\n\u001b[0;32m   1331\u001b[0m \u001b[38;5;28;01mdef\u001b[39;00m \u001b[38;5;21msentences_from_text\u001b[39m(\n\u001b[0;32m   1332\u001b[0m     \u001b[38;5;28mself\u001b[39m, text: \u001b[38;5;28mstr\u001b[39m, realign_boundaries: \u001b[38;5;28mbool\u001b[39m \u001b[38;5;241m=\u001b[39m \u001b[38;5;28;01mTrue\u001b[39;00m\n\u001b[0;32m   1333\u001b[0m ) \u001b[38;5;241m-\u001b[39m\u001b[38;5;241m>\u001b[39m List[\u001b[38;5;28mstr\u001b[39m]:\n\u001b[0;32m   1334\u001b[0m \u001b[38;5;250m    \u001b[39m\u001b[38;5;124;03m\"\"\"\u001b[39;00m\n\u001b[0;32m   1335\u001b[0m \u001b[38;5;124;03m    Given a text, generates the sentences in that text by only\u001b[39;00m\n\u001b[0;32m   1336\u001b[0m \u001b[38;5;124;03m    testing candidate sentence breaks. If realign_boundaries is\u001b[39;00m\n\u001b[0;32m   1337\u001b[0m \u001b[38;5;124;03m    True, includes in the sentence closing punctuation that\u001b[39;00m\n\u001b[0;32m   1338\u001b[0m \u001b[38;5;124;03m    follows the period.\u001b[39;00m\n\u001b[0;32m   1339\u001b[0m \u001b[38;5;124;03m    \"\"\"\u001b[39;00m\n\u001b[1;32m-> 1340\u001b[0m     \u001b[38;5;28;01mreturn\u001b[39;00m [text[s:e] \u001b[38;5;28;01mfor\u001b[39;00m s, e \u001b[38;5;129;01min\u001b[39;00m \u001b[38;5;28mself\u001b[39m\u001b[38;5;241m.\u001b[39mspan_tokenize(text, realign_boundaries)]\n",
      "\u001b[1;31mKeyboardInterrupt\u001b[0m: "
     ]
    }
   ],
   "source": [
    "\n",
    "X_train_w2v, X_test_w2v, y_train_wv, y_test_vw, w2v_model = vectorize_word2vec(df=df_cleaned, text_column =\"tweet_cleaned\", label_column=\"label\")\n",
    "\n",
    "\n",
    "X_test_w2v_data, y_test_wv_data, w2v_model = vectorize_word2vec_test_data(df=df_cleaned, text_column =\"tweet_cleaned\", label_column=\"label\")\n",
    "\n",
    "# X_test_w2v_data, y_test_wv_data, w2v_model = vectorize_word2vec_test_data(df=df_cleaned, text_column =\"tweet_cleaned\", label_column=\"label\")\n",
    "\n"
   ]
  },
  {
   "cell_type": "code",
   "execution_count": null,
   "metadata": {},
   "outputs": [
    {
     "name": "stderr",
     "output_type": "stream",
     "text": [
      "C:\\Users\\Nasiba\\AppData\\Local\\Packages\\PythonSoftwareFoundation.Python.3.11_qbz5n2kfra8p0\\LocalCache\\local-packages\\Python311\\site-packages\\keras\\src\\layers\\rnn\\rnn.py:200: UserWarning: Do not pass an `input_shape`/`input_dim` argument to a layer. When using Sequential models, prefer using an `Input(shape)` object as the first layer in the model instead.\n",
      "  super().__init__(**kwargs)\n"
     ]
    },
    {
     "name": "stdout",
     "output_type": "stream",
     "text": [
      "Epoch 1/10\n",
      "\u001b[1m1792/1792\u001b[0m \u001b[32m━━━━━━━━━━━━━━━━━━━━\u001b[0m\u001b[37m\u001b[0m \u001b[1m0s\u001b[0m 34ms/step - accuracy: 0.8212 - loss: 0.4692 - recall: 0.0022"
     ]
    },
    {
     "ename": "ValueError",
     "evalue": "Data cardinality is ambiguous. Make sure all arrays contain the same number of samples.'x' sizes: 24572\n'y' sizes: 81904\n",
     "output_type": "error",
     "traceback": [
      "\u001b[1;31m---------------------------------------------------------------------------\u001b[0m",
      "\u001b[1;31mValueError\u001b[0m                                Traceback (most recent call last)",
      "Cell \u001b[1;32mIn[13], line 19\u001b[0m\n\u001b[0;32m     13\u001b[0m \u001b[38;5;66;03m# Kompilieren des Modells\u001b[39;00m\n\u001b[0;32m     14\u001b[0m model_w2v\u001b[38;5;241m.\u001b[39mcompile(optimizer\u001b[38;5;241m=\u001b[39m\u001b[38;5;124m'\u001b[39m\u001b[38;5;124madam\u001b[39m\u001b[38;5;124m'\u001b[39m,\n\u001b[0;32m     15\u001b[0m               loss\u001b[38;5;241m=\u001b[39m\u001b[38;5;124m'\u001b[39m\u001b[38;5;124mbinary_crossentropy\u001b[39m\u001b[38;5;124m'\u001b[39m,\n\u001b[0;32m     16\u001b[0m               metrics\u001b[38;5;241m=\u001b[39m[\u001b[38;5;124m'\u001b[39m\u001b[38;5;124maccuracy\u001b[39m\u001b[38;5;124m'\u001b[39m, Recall()])\n\u001b[1;32m---> 19\u001b[0m history_model_w2v \u001b[38;5;241m=\u001b[39m \u001b[43mmodel_w2v\u001b[49m\u001b[38;5;241;43m.\u001b[39;49m\u001b[43mfit\u001b[49m\u001b[43m(\u001b[49m\n\u001b[0;32m     20\u001b[0m \u001b[43m    \u001b[49m\u001b[43mX_train_w2v\u001b[49m\u001b[43m,\u001b[49m\u001b[43mnp\u001b[49m\u001b[38;5;241;43m.\u001b[39;49m\u001b[43marray\u001b[49m\u001b[43m(\u001b[49m\u001b[43my_train_wv\u001b[49m\u001b[43m)\u001b[49m\u001b[43m,\u001b[49m\n\u001b[0;32m     21\u001b[0m \u001b[43m    \u001b[49m\u001b[43mvalidation_data\u001b[49m\u001b[38;5;241;43m=\u001b[39;49m\u001b[43m(\u001b[49m\u001b[43mX_test_w2v\u001b[49m\u001b[43m,\u001b[49m\u001b[43m \u001b[49m\u001b[43mnp\u001b[49m\u001b[38;5;241;43m.\u001b[39;49m\u001b[43marray\u001b[49m\u001b[43m(\u001b[49m\u001b[43my_test_wv_data\u001b[49m\u001b[43m)\u001b[49m\u001b[43m)\u001b[49m\u001b[43m,\u001b[49m\n\u001b[0;32m     22\u001b[0m \u001b[43m    \u001b[49m\u001b[43mepochs\u001b[49m\u001b[38;5;241;43m=\u001b[39;49m\u001b[38;5;241;43m10\u001b[39;49m\u001b[43m,\u001b[49m\n\u001b[0;32m     23\u001b[0m \u001b[43m    \u001b[49m\u001b[43mbatch_size\u001b[49m\u001b[38;5;241;43m=\u001b[39;49m\u001b[38;5;241;43m32\u001b[39;49m\u001b[43m,\u001b[49m\n\u001b[0;32m     24\u001b[0m \u001b[43m    \u001b[49m\u001b[43mverbose\u001b[49m\u001b[38;5;241;43m=\u001b[39;49m\u001b[38;5;241;43m1\u001b[39;49m\n\u001b[0;32m     25\u001b[0m \u001b[43m)\u001b[49m\n\u001b[0;32m     26\u001b[0m predictions_w2v \u001b[38;5;241m=\u001b[39m model_w2v\u001b[38;5;241m.\u001b[39mpredict(X_test_w2v_data)\n\u001b[0;32m     27\u001b[0m threshold \u001b[38;5;241m=\u001b[39m \u001b[38;5;241m0.5\u001b[39m\n",
      "File \u001b[1;32m~\\AppData\\Local\\Packages\\PythonSoftwareFoundation.Python.3.11_qbz5n2kfra8p0\\LocalCache\\local-packages\\Python311\\site-packages\\keras\\src\\utils\\traceback_utils.py:122\u001b[0m, in \u001b[0;36mfilter_traceback.<locals>.error_handler\u001b[1;34m(*args, **kwargs)\u001b[0m\n\u001b[0;32m    119\u001b[0m     filtered_tb \u001b[38;5;241m=\u001b[39m _process_traceback_frames(e\u001b[38;5;241m.\u001b[39m__traceback__)\n\u001b[0;32m    120\u001b[0m     \u001b[38;5;66;03m# To get the full stack trace, call:\u001b[39;00m\n\u001b[0;32m    121\u001b[0m     \u001b[38;5;66;03m# `keras.config.disable_traceback_filtering()`\u001b[39;00m\n\u001b[1;32m--> 122\u001b[0m     \u001b[38;5;28;01mraise\u001b[39;00m e\u001b[38;5;241m.\u001b[39mwith_traceback(filtered_tb) \u001b[38;5;28;01mfrom\u001b[39;00m \u001b[38;5;28;01mNone\u001b[39;00m\n\u001b[0;32m    123\u001b[0m \u001b[38;5;28;01mfinally\u001b[39;00m:\n\u001b[0;32m    124\u001b[0m     \u001b[38;5;28;01mdel\u001b[39;00m filtered_tb\n",
      "File \u001b[1;32m~\\AppData\\Local\\Packages\\PythonSoftwareFoundation.Python.3.11_qbz5n2kfra8p0\\LocalCache\\local-packages\\Python311\\site-packages\\keras\\src\\trainers\\data_adapters\\data_adapter_utils.py:114\u001b[0m, in \u001b[0;36mcheck_data_cardinality\u001b[1;34m(data)\u001b[0m\n\u001b[0;32m    110\u001b[0m     sizes \u001b[38;5;241m=\u001b[39m \u001b[38;5;124m\"\u001b[39m\u001b[38;5;124m, \u001b[39m\u001b[38;5;124m\"\u001b[39m\u001b[38;5;241m.\u001b[39mjoin(\n\u001b[0;32m    111\u001b[0m         \u001b[38;5;28mstr\u001b[39m(i\u001b[38;5;241m.\u001b[39mshape[\u001b[38;5;241m0\u001b[39m]) \u001b[38;5;28;01mfor\u001b[39;00m i \u001b[38;5;129;01min\u001b[39;00m tree\u001b[38;5;241m.\u001b[39mflatten(single_data)\n\u001b[0;32m    112\u001b[0m     )\n\u001b[0;32m    113\u001b[0m     msg \u001b[38;5;241m+\u001b[39m\u001b[38;5;241m=\u001b[39m \u001b[38;5;124mf\u001b[39m\u001b[38;5;124m\"\u001b[39m\u001b[38;5;124m'\u001b[39m\u001b[38;5;132;01m{\u001b[39;00mlabel\u001b[38;5;132;01m}\u001b[39;00m\u001b[38;5;124m'\u001b[39m\u001b[38;5;124m sizes: \u001b[39m\u001b[38;5;132;01m{\u001b[39;00msizes\u001b[38;5;132;01m}\u001b[39;00m\u001b[38;5;130;01m\\n\u001b[39;00m\u001b[38;5;124m\"\u001b[39m\n\u001b[1;32m--> 114\u001b[0m \u001b[38;5;28;01mraise\u001b[39;00m \u001b[38;5;167;01mValueError\u001b[39;00m(msg)\n",
      "\u001b[1;31mValueError\u001b[0m: Data cardinality is ambiguous. Make sure all arrays contain the same number of samples.'x' sizes: 24572\n'y' sizes: 81904\n"
     ]
    }
   ],
   "source": [
    "\n",
    "samples_w2v, max_seq_len_w2v, vector_size_w2v = X_train_w2v.shape\n",
    "num_classes_w2v = len(np.unique(y_train_wv))\n",
    "# Modellinitialisierung\n",
    "model_w2v = Sequential()\n",
    "\n",
    "# LSTM-Schicht\n",
    "model_w2v.add(LSTM(units=128, input_shape=(max_seq_len_w2v, vector_size_w2v), return_sequences=False))\n",
    "\n",
    "# Optional: Dropout zur Vermeidung von Overfitting\n",
    "model_w2v.add(Dropout(0.5))\n",
    "\n",
    "# Dense-Schicht für die Ausgabe\n",
    "model_w2v.add(Dense(units=1, activation='sigmoid'))\n",
    "\n",
    "# Kompilieren des Modells\n",
    "model_w2v.compile(optimizer='adam',\n",
    "              loss='binary_crossentropy',\n",
    "              metrics=['accuracy', Recall()])\n",
    "\n",
    "\n",
    "history_model_w2v = model_w2v.fit(\n",
    "    X_train_w2v,np.array(y_train_wv),\n",
    "    validation_data=(X_test_w2v, np.array(y_test_vw)),\n",
    "    epochs=10,\n",
    "    batch_size=32,\n",
    "    verbose=1\n",
    ")\n",
    "predictions_w2v = model_w2v.predict(X_test_w2v_data)\n",
    "threshold = 0.5\n",
    "predicted_classes_w2v = (predictions_w2v> threshold).astype(int)\n",
    "\n"
   ]
  },
  {
   "cell_type": "code",
   "execution_count": null,
   "metadata": {},
   "outputs": [
    {
     "ename": "NameError",
     "evalue": "name 'predicted_classes_w2v' is not defined",
     "output_type": "error",
     "traceback": [
      "\u001b[1;31m---------------------------------------------------------------------------\u001b[0m",
      "\u001b[1;31mNameError\u001b[0m                                 Traceback (most recent call last)",
      "Cell \u001b[1;32mIn[14], line 2\u001b[0m\n\u001b[0;32m      1\u001b[0m \u001b[38;5;66;03m# Klassifikationsbericht erstellen\u001b[39;00m\n\u001b[1;32m----> 2\u001b[0m report \u001b[38;5;241m=\u001b[39m classification_report(y_test_wv_data, \u001b[43mpredicted_classes_w2v\u001b[49m, target_names\u001b[38;5;241m=\u001b[39m[\u001b[38;5;124m\"\u001b[39m\u001b[38;5;124mClass 0\u001b[39m\u001b[38;5;124m\"\u001b[39m, \u001b[38;5;124m\"\u001b[39m\u001b[38;5;124mClass 1\u001b[39m\u001b[38;5;124m\"\u001b[39m])\n\u001b[0;32m      3\u001b[0m \u001b[38;5;28mprint\u001b[39m(\u001b[38;5;124m\"\u001b[39m\u001b[38;5;124mClassification Report:\u001b[39m\u001b[38;5;130;01m\\n\u001b[39;00m\u001b[38;5;124m\"\u001b[39m, report)\n\u001b[0;32m      5\u001b[0m cm \u001b[38;5;241m=\u001b[39m confusion_matrix(np\u001b[38;5;241m.\u001b[39margmax(y_test_wv_data, axis\u001b[38;5;241m=\u001b[39m\u001b[38;5;241m1\u001b[39m), predicted_classes_w2v)\n",
      "\u001b[1;31mNameError\u001b[0m: name 'predicted_classes_w2v' is not defined"
     ]
    }
   ],
   "source": [
    "\n",
    "\n",
    "# Klassifikationsbericht erstellen\n",
    "report = classification_report(y_test_wv_data, predicted_classes_w2v, target_names=[\"Class 0\", \"Class 1\"])\n",
    "print(\"Classification Report:\\n\", report)\n",
    "\n",
    "cm = confusion_matrix(y_test_wv_data, axis=1), predicted_classes_w2v)\n",
    "print(cm)\n",
    "# Verwirrungsmatrix visualisieren\n",
    "plt.figure(figsize=(4, 4))\n",
    "sns.heatmap(cm, annot=True, fmt=\"d\", cmap=\"coolwarm\", linewidths=0.5, square=True,\n",
    "            xticklabels=[\"Label 0\", \"Label 1\"], yticklabels=[\"Label 0\", \"Label 1\"])\n",
    "plt.xlabel(\"Predicted Labels\", fontsize=12)\n",
    "plt.ylabel(\"True Labels\", fontsize=12)\n",
    "plt.title(\"Confusion Matrix\", fontsize=14)\n",
    "plt.show()\n"
   ]
  },
  {
   "cell_type": "markdown",
   "metadata": {},
   "source": [
    "#### Modeltraining mit anderen Parametern\n",
    "\n",
    "(Aktivierungsfunktion in der Dense-Schicht zu sigmoid ändern, da diese für Binärklassifikation besser geeignet sein soll)"
   ]
  },
  {
   "cell_type": "code",
   "execution_count": 20,
   "metadata": {},
   "outputs": [
    {
     "name": "stdout",
     "output_type": "stream",
     "text": [
      "Epoch 1/10\n",
      "1792/1792 - 83s - 47ms/step - accuracy: 0.8309 - loss: 0.4011 - recall_3: 0.1889 - val_accuracy: 0.8444 - val_loss: 0.3714 - val_recall_3: 0.3772\n",
      "Epoch 2/10\n",
      "1792/1792 - 76s - 42ms/step - accuracy: 0.8455 - loss: 0.3662 - recall_3: 0.2928 - val_accuracy: 0.8495 - val_loss: 0.3646 - val_recall_3: 0.3890\n",
      "Epoch 3/10\n",
      "1792/1792 - 82s - 46ms/step - accuracy: 0.8535 - loss: 0.3473 - recall_3: 0.3545 - val_accuracy: 0.8504 - val_loss: 0.3530 - val_recall_3: 0.3036\n",
      "Epoch 4/10\n",
      "1792/1792 - 73s - 41ms/step - accuracy: 0.8607 - loss: 0.3312 - recall_3: 0.4009 - val_accuracy: 0.8523 - val_loss: 0.3739 - val_recall_3: 0.3933\n",
      "Epoch 5/10\n",
      "1792/1792 - 73s - 41ms/step - accuracy: 0.8678 - loss: 0.3133 - recall_3: 0.4449 - val_accuracy: 0.8508 - val_loss: 0.3549 - val_recall_3: 0.2866\n",
      "Epoch 6/10\n",
      "1792/1792 - 71s - 40ms/step - accuracy: 0.8760 - loss: 0.2933 - recall_3: 0.4913 - val_accuracy: 0.8511 - val_loss: 0.3617 - val_recall_3: 0.3430\n",
      "Epoch 7/10\n",
      "1792/1792 - 75s - 42ms/step - accuracy: 0.8857 - loss: 0.2721 - recall_3: 0.5438 - val_accuracy: 0.8436 - val_loss: 0.3827 - val_recall_3: 0.4456\n",
      "Epoch 8/10\n",
      "1792/1792 - 74s - 41ms/step - accuracy: 0.8964 - loss: 0.2471 - recall_3: 0.6033 - val_accuracy: 0.8414 - val_loss: 0.3964 - val_recall_3: 0.4401\n",
      "Epoch 9/10\n",
      "1792/1792 - 75s - 42ms/step - accuracy: 0.9081 - loss: 0.2229 - recall_3: 0.6551 - val_accuracy: 0.8443 - val_loss: 0.4092 - val_recall_3: 0.3663\n",
      "Epoch 10/10\n",
      "1792/1792 - 97s - 54ms/step - accuracy: 0.9196 - loss: 0.1988 - recall_3: 0.7071 - val_accuracy: 0.8277 - val_loss: 0.4682 - val_recall_3: 0.4992\n",
      "\u001b[1m1015/1015\u001b[0m \u001b[32m━━━━━━━━━━━━━━━━━━━━\u001b[0m\u001b[37m\u001b[0m \u001b[1m17s\u001b[0m 17ms/step\n"
     ]
    }
   ],
   "source": [
    "samples, max_seq_len, vector_size = X_train_vectors.shape\n",
    "num_classes = len(np.unique(y_train))\n",
    "\n",
    "\n",
    "# y_train_onehot = to_categorical(y_train, num_classes=num_classes)\n",
    "# y_test_onehot = to_categorical(y_test, num_classes=num_classes)\n",
    "# y_test_onehot_data = to_categorical(y_test_data, num_classes=num_classes)\n",
    "\n",
    "# Modellinitialisierung\n",
    "model_2 = Sequential()\n",
    "\n",
    "# LSTM-Schicht\n",
    "model_2.add(LSTM(units=128, input_shape=(max_seq_len, vector_size), return_sequences=False))\n",
    "\n",
    "# Optional: Dropout zur Vermeidung von Overfitting\n",
    "model_2.add(Dropout(0.5))\n",
    "\n",
    "# Dense-Schicht für die Ausgabe\n",
    "model_2.add(Dense(units=1, activation='sigmoid'))\n",
    "\n",
    "# Kompilieren des Modells\n",
    "model_2.compile(optimizer='adam',\n",
    "              loss='binary_crossentropy',\n",
    "              metrics=['accuracy', Recall()])\n",
    "\n",
    "#class_weight = {0: 1, 1: 3} \n",
    "history_2 = model_2.fit(\n",
    "    X_train_vectors, np.array(y_train),\n",
    "    validation_data=(X_test_vectors, np.array(y_test)),\n",
    "    epochs=10,\n",
    "    batch_size=32,\n",
    "    #class_weight=class_weight,\n",
    "    verbose=2\n",
    ")\n",
    "# Vorhersagen auf Testdaten\n",
    "predictions_2 = model_2.predict(X_test_data_vectors)\n",
    "threshold = 0.5  # Oder teste 0.4 oder 0.6\n",
    "predicted_classes_2 = (predictions_2 > threshold).astype(int)"
   ]
  },
  {
   "cell_type": "code",
   "execution_count": 21,
   "metadata": {},
   "outputs": [
    {
     "name": "stdout",
     "output_type": "stream",
     "text": [
      "Classification Report:\n",
      "               precision    recall  f1-score   support\n",
      "\n",
      "     Class 0       0.88      0.88      0.88     25627\n",
      "     Class 1       0.54      0.53      0.54      6839\n",
      "\n",
      "    accuracy                           0.81     32466\n",
      "   macro avg       0.71      0.71      0.71     32466\n",
      "weighted avg       0.81      0.81      0.81     32466\n",
      "\n",
      "[[22543  3084]\n",
      " [ 3195  3644]]\n"
     ]
    },
    {
     "data": {
      "image/png": "[encoded data removed]",
      "text/plain": [
       "<Figure size 400x400 with 2 Axes>"
      ]
     },
     "metadata": {},
     "output_type": "display_data"
    }
   ],
   "source": [
    "\n",
    "\n",
    "# Klassifikationsbericht erstellen\n",
    "report = classification_report(y_test_data, predicted_classes_2, target_names=[\"Class 0\", \"Class 1\"])\n",
    "print(\"Classification Report:\\n\", report)\n",
    "\n",
    "cm = confusion_matrix(y_test_data, predicted_classes_2)\n",
    "print(cm)\n",
    "# Verwirrungsmatrix visualisieren\n",
    "plt.figure(figsize=(4, 4))\n",
    "sns.heatmap(cm, annot=True, fmt=\"d\", cmap=\"coolwarm\", linewidths=0.5, square=True,\n",
    "            xticklabels=[\"Label 0\", \"Label 1\"], yticklabels=[\"Label 0\", \"Label 1\"])\n",
    "plt.xlabel(\"Predicted Labels\", fontsize=12)\n",
    "plt.ylabel(\"True Labels\", fontsize=12)\n",
    "plt.title(\"Confusion Matrix\", fontsize=14)\n",
    "plt.show()"
   ]
  },
  {
   "cell_type": "markdown",
   "metadata": {},
   "source": [
    "#### Modeltraining mit anderen Parametern\n",
    "\n",
    "(Aktivierungsfunktion in der Dense-Schicht zu sigmoid ändern,class_wight hinzufügen)"
   ]
  },
  {
   "cell_type": "code",
   "execution_count": null,
   "metadata": {},
   "outputs": [
    {
     "name": "stderr",
     "output_type": "stream",
     "text": [
      "C:\\Users\\Nasiba\\AppData\\Local\\Packages\\PythonSoftwareFoundation.Python.3.11_qbz5n2kfra8p0\\LocalCache\\local-packages\\Python311\\site-packages\\keras\\src\\layers\\rnn\\rnn.py:200: UserWarning: Do not pass an `input_shape`/`input_dim` argument to a layer. When using Sequential models, prefer using an `Input(shape)` object as the first layer in the model instead.\n",
      "  super().__init__(**kwargs)\n"
     ]
    },
    {
     "name": "stdout",
     "output_type": "stream",
     "text": [
      "Epoch 1/10\n",
      "1792/1792 - 67s - 37ms/step - accuracy: 0.7688 - loss: 0.7652 - recall_1: 0.5516 - val_accuracy: 0.7873 - val_loss: 0.4450 - val_recall_1: 0.6144\n",
      "Epoch 2/10\n",
      "1792/1792 - 62s - 35ms/step - accuracy: 0.7999 - loss: 0.6926 - recall_1: 0.6143 - val_accuracy: 0.8158 - val_loss: 0.3947 - val_recall_1: 0.5882\n",
      "Epoch 3/10\n",
      "1792/1792 - 64s - 36ms/step - accuracy: 0.8113 - loss: 0.6594 - recall_1: 0.6387 - val_accuracy: 0.8237 - val_loss: 0.4019 - val_recall_1: 0.5852\n",
      "Epoch 4/10\n",
      "1792/1792 - 66s - 37ms/step - accuracy: 0.8194 - loss: 0.6287 - recall_1: 0.6658 - val_accuracy: 0.8406 - val_loss: 0.3818 - val_recall_1: 0.5248\n",
      "Epoch 5/10\n",
      "1792/1792 - 67s - 37ms/step - accuracy: 0.8287 - loss: 0.5926 - recall_1: 0.7022 - val_accuracy: 0.7690 - val_loss: 0.4386 - val_recall_1: 0.7435\n",
      "Epoch 6/10\n",
      "1792/1792 - 70s - 39ms/step - accuracy: 0.8398 - loss: 0.5543 - recall_1: 0.7417 - val_accuracy: 0.8326 - val_loss: 0.3974 - val_recall_1: 0.5721\n",
      "Epoch 7/10\n",
      "1792/1792 - 70s - 39ms/step - accuracy: 0.8522 - loss: 0.5096 - recall_1: 0.7768 - val_accuracy: 0.8363 - val_loss: 0.3861 - val_recall_1: 0.5483\n",
      "Epoch 8/10\n",
      "1792/1792 - 72s - 40ms/step - accuracy: 0.8713 - loss: 0.4697 - recall_1: 0.7942 - val_accuracy: 0.8017 - val_loss: 0.4359 - val_recall_1: 0.6416\n",
      "Epoch 9/10\n",
      "1792/1792 - 74s - 42ms/step - accuracy: 0.8875 - loss: 0.4185 - recall_1: 0.8332 - val_accuracy: 0.7940 - val_loss: 0.4767 - val_recall_1: 0.6321\n",
      "Epoch 10/10\n",
      "1792/1792 - 71s - 40ms/step - accuracy: 0.8970 - loss: 0.3919 - recall_1: 0.8472 - val_accuracy: 0.8012 - val_loss: 0.4740 - val_recall_1: 0.6061\n",
      "\u001b[1m1015/1015\u001b[0m \u001b[32m━━━━━━━━━━━━━━━━━━━━\u001b[0m\u001b[37m\u001b[0m \u001b[1m16s\u001b[0m 15ms/step\n"
     ]
    }
   ],
   "source": [
    "samples, max_seq_len, vector_size = X_train_vectors.shape\n",
    "num_classes = len(np.unique(y_train))\n",
    "\n",
    "\n",
    "# y_train_onehot = to_categorical(y_train, num_classes=num_classes)\n",
    "# y_test_onehot = to_categorical(y_test, num_classes=num_classes)\n",
    "# y_test_onehot_data = to_categorical(y_test_data, num_classes=num_classes)\n",
    "\n",
    "# Modellinitialisierung\n",
    "model_3 = Sequential()\n",
    "\n",
    "# LSTM-Schicht\n",
    "model_3.add(LSTM(units=128, input_shape=(max_seq_len, vector_size), return_sequences=False))\n",
    "\n",
    "# Optional: Dropout zur Vermeidung von Overfitting\n",
    "model_3.add(Dropout(0.5))\n",
    "\n",
    "# Dense-Schicht für die Ausgabe\n",
    "model_3.add(Dense(units=1, activation='sigmoid'))\n",
    "\n",
    "# Kompilieren des Modells\n",
    "model_3.compile(optimizer='adam',\n",
    "              loss='binary_crossentropy',\n",
    "              metrics=['accuracy', Recall()])\n",
    "\n",
    "class_weight = {0: 1, 1: 3} \n",
    "history_3 = model_3.fit(\n",
    "    X_train_vectors, np.array(y_train),\n",
    "    validation_data=(X_test_vectors, np.array(y_test)),\n",
    "    epochs=10,\n",
    "    batch_size=32,\n",
    "    class_weight=class_weight,\n",
    "    verbose=2\n",
    ")\n",
    "# Vorhersagen auf Testdaten\n",
    "predictions_3 = model_3.predict(X_test_data_vectors)\n",
    "threshold = 0.5  # Oder teste 0.4 oder 0.6\n",
    "predicted_classes_3 = (predictions_3 > threshold).astype(int)"
   ]
  },
  {
   "cell_type": "code",
   "execution_count": 15,
   "metadata": {},
   "outputs": [
    {
     "name": "stdout",
     "output_type": "stream",
     "text": [
      "Anzahl der 0en: 25627, Anzahl der 1en: 6839\n",
      "Einzigartige Werte in predicted_classes_2: [0 1]\n",
      "Anzahl der 0en: 25788, Anzahl der 1en: 6678\n"
     ]
    }
   ],
   "source": [
    "\n",
    "count_zeros = np.sum(y_test_data == 0)\n",
    "count_ones = np.sum(y_test_data == 1)\n",
    "print(f\"Anzahl der 0en: {count_zeros}, Anzahl der 1en: {count_ones}\")\n",
    "\n",
    "print(\"Einzigartige Werte in predicted_classes_2:\", np.unique(predicted_classes_2))\n",
    "count_zeros = np.sum(predicted_classes_2 == 0)\n",
    "count_ones = np.sum(predicted_classes_2 == 1)\n",
    "print(f\"Anzahl der 0en: {count_zeros}, Anzahl der 1en: {count_ones}\")\n"
   ]
  },
  {
   "cell_type": "code",
   "execution_count": 18,
   "metadata": {},
   "outputs": [
    {
     "name": "stdout",
     "output_type": "stream",
     "text": [
      "Classification Report:\n",
      "               precision    recall  f1-score   support\n",
      "\n",
      "     Class 0       0.90      0.82      0.85     25627\n",
      "     Class 1       0.48      0.64      0.55      6839\n",
      "\n",
      "    accuracy                           0.78     32466\n",
      "   macro avg       0.69      0.73      0.70     32466\n",
      "weighted avg       0.81      0.78      0.79     32466\n",
      "\n",
      "[[20923  4704]\n",
      " [ 2441  4398]]\n"
     ]
    },
    {
     "data": {
      "image/png": "[encoded data removed]",
      "text/plain": [
       "<Figure size 400x400 with 2 Axes>"
      ]
     },
     "metadata": {},
     "output_type": "display_data"
    }
   ],
   "source": [
    "\n",
    "\n",
    "# Klassifikationsbericht erstellen\n",
    "report = classification_report(y_test_data, predicted_classes_3, target_names=[\"Class 0\", \"Class 1\"])\n",
    "print(\"Classification Report:\\n\", report)\n",
    "\n",
    "cm = confusion_matrix(y_test_data, predicted_classes_3)\n",
    "print(cm)\n",
    "# Verwirrungsmatrix visualisieren\n",
    "plt.figure(figsize=(4, 4))\n",
    "sns.heatmap(cm, annot=True, fmt=\"d\", cmap=\"coolwarm\", linewidths=0.5, square=True,\n",
    "            xticklabels=[\"Label 0\", \"Label 1\"], yticklabels=[\"Label 0\", \"Label 1\"])\n",
    "plt.xlabel(\"Predicted Labels\", fontsize=12)\n",
    "plt.ylabel(\"True Labels\", fontsize=12)\n",
    "plt.title(\"Confusion Matrix\", fontsize=14)\n",
    "plt.show()"
   ]
  },
  {
   "cell_type": "markdown",
   "metadata": {},
   "source": [
    "Recall speziel für Klasse 1 festlegen: muss man in sigmoid nicht, da er dies automatisch macht"
   ]
  },
  {
   "cell_type": "markdown",
   "metadata": {},
   "source": [
    "#### Modeltraining mit anderen Parametern\n",
    "\n",
    "(units erhöht mit sigmoid)"
   ]
  },
  {
   "cell_type": "code",
   "execution_count": null,
   "metadata": {},
   "outputs": [
    {
     "name": "stderr",
     "output_type": "stream",
     "text": [
      "C:\\Users\\Nasiba\\AppData\\Local\\Packages\\PythonSoftwareFoundation.Python.3.11_qbz5n2kfra8p0\\LocalCache\\local-packages\\Python311\\site-packages\\keras\\src\\layers\\rnn\\rnn.py:200: UserWarning: Do not pass an `input_shape`/`input_dim` argument to a layer. When using Sequential models, prefer using an `Input(shape)` object as the first layer in the model instead.\n",
      "  super().__init__(**kwargs)\n"
     ]
    },
    {
     "name": "stdout",
     "output_type": "stream",
     "text": [
      "Epoch 1/10\n",
      "631/631 - 34s - 55ms/step - accuracy: 0.9143 - loss: 0.3883 - recall_4: 0.4936 - val_accuracy: 0.9360 - val_loss: 0.2307 - val_recall_4: 0.3462\n",
      "Epoch 2/10\n",
      "631/631 - 31s - 48ms/step - accuracy: 0.9284 - loss: 0.4474 - recall_4: 0.3456 - val_accuracy: 0.9390 - val_loss: 0.2131 - val_recall_4: 0.1832\n",
      "Epoch 3/10\n",
      "631/631 - 32s - 51ms/step - accuracy: 0.9274 - loss: 0.3902 - recall_4: 0.4425 - val_accuracy: 0.8796 - val_loss: 0.3016 - val_recall_4: 0.6454\n",
      "Epoch 4/10\n",
      "631/631 - 36s - 58ms/step - accuracy: 0.9293 - loss: 0.3248 - recall_4: 0.5808 - val_accuracy: 0.9445 - val_loss: 0.1598 - val_recall_4: 0.5613\n",
      "Epoch 5/10\n",
      "631/631 - 33s - 52ms/step - accuracy: 0.9404 - loss: 0.2723 - recall_4: 0.6476 - val_accuracy: 0.9471 - val_loss: 0.1507 - val_recall_4: 0.5866\n",
      "Epoch 6/10\n",
      "631/631 - 31s - 50ms/step - accuracy: 0.9458 - loss: 0.2458 - recall_4: 0.6912 - val_accuracy: 0.9478 - val_loss: 0.1489 - val_recall_4: 0.4908\n",
      "Epoch 7/10\n",
      "631/631 - 31s - 50ms/step - accuracy: 0.9521 - loss: 0.2161 - recall_4: 0.7378 - val_accuracy: 0.9519 - val_loss: 0.1402 - val_recall_4: 0.5412\n",
      "Epoch 8/10\n",
      "631/631 - 32s - 50ms/step - accuracy: 0.9586 - loss: 0.1867 - recall_4: 0.7761 - val_accuracy: 0.9504 - val_loss: 0.1414 - val_recall_4: 0.5966\n",
      "Epoch 9/10\n",
      "631/631 - 32s - 51ms/step - accuracy: 0.9637 - loss: 0.1576 - recall_4: 0.8325 - val_accuracy: 0.9403 - val_loss: 0.1606 - val_recall_4: 0.6824\n",
      "Epoch 10/10\n",
      "631/631 - 32s - 51ms/step - accuracy: 0.9698 - loss: 0.1288 - recall_4: 0.8663 - val_accuracy: 0.9527 - val_loss: 0.1386 - val_recall_4: 0.5966\n",
      "\u001b[1m277/277\u001b[0m \u001b[32m━━━━━━━━━━━━━━━━━━━━\u001b[0m\u001b[37m\u001b[0m \u001b[1m6s\u001b[0m 21ms/step\n"
     ]
    }
   ],
   "source": [
    "samples, max_seq_len, vector_size = X_train_vectors.shape\n",
    "num_classes = len(np.unique(y_train))\n",
    "\n",
    "\n",
    "# y_train_onehot = to_categorical(y_train, num_classes=num_classes)\n",
    "# y_test_onehot = to_categorical(y_test, num_classes=num_classes)\n",
    "# y_test_onehot_data = to_categorical(y_test_data, num_classes=num_classes)\n",
    "\n",
    "# Modellinitialisierung\n",
    "model_6 = Sequential()\n",
    "\n",
    "# LSTM-Schicht\n",
    "model_6.add(LSTM(units=192, input_shape=(max_seq_len, vector_size), return_sequences=False))\n",
    "\n",
    "# Optional: Dropout zur Vermeidung von Overfitting\n",
    "model_6.add(Dropout(0.5))\n",
    "\n",
    "# Dense-Schicht für die Ausgabe\n",
    "model_6.add(Dense(units=1, activation='sigmoid'))\n",
    "\n",
    "# Kompilieren des Modells\n",
    "model_6.compile(optimizer='adam',\n",
    "              loss='binary_crossentropy',\n",
    "              metrics=['accuracy', Recall()])\n",
    "\n",
    "class_weight = {0: 1, 1: 3} \n",
    "history_6 = model_6.fit(\n",
    "    X_train_vectors, np.array(y_train),\n",
    "    validation_data=(X_test_vectors, np.array(y_test)),\n",
    "    epochs=10,\n",
    "    batch_size=32,\n",
    "   class_weight=class_weight,\n",
    "    verbose=2\n",
    ")\n",
    "# Vorhersagen auf Testdaten\n",
    "\n",
    "# Vorhersagen auf Testdaten\n",
    "predictions_6 = model_6.predict(X_test_data_vectors)\n",
    "threshold = 0.5  # Oder teste 0.4 oder 0.6\n",
    "predicted_classes_6 = (predictions_6 > threshold).astype(int)\n",
    "#predicted_classes_3 = np.argmax(predictions_2, axis=1)\n",
    "\n"
   ]
  },
  {
   "cell_type": "code",
   "execution_count": 27,
   "metadata": {},
   "outputs": [
    {
     "name": "stdout",
     "output_type": "stream",
     "text": [
      "Anzahl der 0en: 8239, Anzahl der 1en: 595\n",
      "Einzigartige Werte in predicted_classes_2: [0 1]\n",
      "Anzahl der 0en: 8301, Anzahl der 1en: 533\n"
     ]
    }
   ],
   "source": [
    "\n",
    "count_zeros = np.sum(y_test_data == 0)\n",
    "count_ones = np.sum(y_test_data == 1)\n",
    "print(f\"Anzahl der 0en: {count_zeros}, Anzahl der 1en: {count_ones}\")\n",
    "\n",
    "print(\"Einzigartige Werte in predicted_classes_2:\", np.unique(predicted_classes_6))\n",
    "count_zeros = np.sum(predicted_classes_6 == 0)\n",
    "count_ones = np.sum(predicted_classes_6 == 1)\n",
    "print(f\"Anzahl der 0en: {count_zeros}, Anzahl der 1en: {count_ones}\")\n"
   ]
  },
  {
   "cell_type": "code",
   "execution_count": 28,
   "metadata": {},
   "outputs": [
    {
     "name": "stdout",
     "output_type": "stream",
     "text": [
      "Classification Report:\n",
      "               precision    recall  f1-score   support\n",
      "\n",
      "     Class 0       0.97      0.98      0.97      8239\n",
      "     Class 1       0.67      0.60      0.63       595\n",
      "\n",
      "    accuracy                           0.95      8834\n",
      "   macro avg       0.82      0.79      0.80      8834\n",
      "weighted avg       0.95      0.95      0.95      8834\n",
      "\n",
      "[[8061  178]\n",
      " [ 240  355]]\n"
     ]
    },
    {
     "data": {
      "image/png": "[encoded data removed]",
      "text/plain": [
       "<Figure size 400x400 with 2 Axes>"
      ]
     },
     "metadata": {},
     "output_type": "display_data"
    }
   ],
   "source": [
    "\n",
    "\n",
    "# Klassifikationsbericht erstellen\n",
    "report = classification_report(y_test_data, predicted_classes_6, target_names=[\"Class 0\", \"Class 1\"])\n",
    "print(\"Classification Report:\\n\", report)\n",
    "\n",
    "cm = confusion_matrix(y_test_data, predicted_classes_6)\n",
    "print(cm)\n",
    "# Verwirrungsmatrix visualisieren\n",
    "plt.figure(figsize=(4, 4))\n",
    "sns.heatmap(cm, annot=True, fmt=\"d\", cmap=\"coolwarm\", linewidths=0.5, square=True,\n",
    "            xticklabels=[\"Label 0\", \"Label 1\"], yticklabels=[\"Label 0\", \"Label 1\"])\n",
    "plt.xlabel(\"Predicted Labels\", fontsize=12)\n",
    "plt.ylabel(\"True Labels\", fontsize=12)\n",
    "plt.title(\"Confusion Matrix\", fontsize=14)\n",
    "plt.show()"
   ]
  },
  {
   "cell_type": "markdown",
   "metadata": {},
   "source": [
    "#### Modeltraining mit anderen Parametern\n",
    "\n",
    "(Dropout reduzieren mit sigmoid)"
   ]
  },
  {
   "cell_type": "code",
   "execution_count": 29,
   "metadata": {},
   "outputs": [
    {
     "name": "stderr",
     "output_type": "stream",
     "text": [
      "C:\\Users\\Nasiba\\AppData\\Local\\Packages\\PythonSoftwareFoundation.Python.3.11_qbz5n2kfra8p0\\LocalCache\\local-packages\\Python311\\site-packages\\keras\\src\\layers\\rnn\\rnn.py:200: UserWarning: Do not pass an `input_shape`/`input_dim` argument to a layer. When using Sequential models, prefer using an `Input(shape)` object as the first layer in the model instead.\n",
      "  super().__init__(**kwargs)\n"
     ]
    },
    {
     "name": "stdout",
     "output_type": "stream",
     "text": [
      "Epoch 1/10\n",
      "631/631 - 29s - 45ms/step - accuracy: 0.9115 - loss: 0.4793 - recall_5: 0.2772 - val_accuracy: 0.9236 - val_loss: 0.2436 - val_recall_5: 0.4034\n",
      "Epoch 2/10\n",
      "631/631 - 25s - 40ms/step - accuracy: 0.9073 - loss: 0.4171 - recall_5: 0.4726 - val_accuracy: 0.9355 - val_loss: 0.2361 - val_recall_5: 0.0739\n",
      "Epoch 3/10\n",
      "631/631 - 26s - 41ms/step - accuracy: 0.9304 - loss: 0.4880 - recall_5: 0.1893 - val_accuracy: 0.9349 - val_loss: 0.2805 - val_recall_5: 0.0975\n",
      "Epoch 4/10\n",
      "631/631 - 25s - 40ms/step - accuracy: 0.9354 - loss: 0.4979 - recall_5: 0.1330 - val_accuracy: 0.9349 - val_loss: 0.2598 - val_recall_5: 0.0975\n",
      "Epoch 5/10\n",
      "631/631 - 25s - 40ms/step - accuracy: 0.9355 - loss: 0.4958 - recall_5: 0.1360 - val_accuracy: 0.9340 - val_loss: 0.2682 - val_recall_5: 0.1076\n",
      "Epoch 6/10\n",
      "631/631 - 25s - 40ms/step - accuracy: 0.9357 - loss: 0.4895 - recall_5: 0.1638 - val_accuracy: 0.9339 - val_loss: 0.2723 - val_recall_5: 0.1059\n",
      "Epoch 7/10\n",
      "631/631 - 26s - 41ms/step - accuracy: 0.9358 - loss: 0.4883 - recall_5: 0.1623 - val_accuracy: 0.9341 - val_loss: 0.2680 - val_recall_5: 0.1076\n",
      "Epoch 8/10\n",
      "631/631 - 25s - 40ms/step - accuracy: 0.9312 - loss: 0.4375 - recall_5: 0.2404 - val_accuracy: 0.9406 - val_loss: 0.1775 - val_recall_5: 0.3513\n",
      "Epoch 9/10\n",
      "631/631 - 26s - 41ms/step - accuracy: 0.9305 - loss: 0.2927 - recall_5: 0.6326 - val_accuracy: 0.9439 - val_loss: 0.1601 - val_recall_5: 0.5395\n",
      "Epoch 10/10\n",
      "631/631 - 26s - 41ms/step - accuracy: 0.9437 - loss: 0.2512 - recall_5: 0.6792 - val_accuracy: 0.9457 - val_loss: 0.1669 - val_recall_5: 0.6319\n",
      "\u001b[1m277/277\u001b[0m \u001b[32m━━━━━━━━━━━━━━━━━━━━\u001b[0m\u001b[37m\u001b[0m \u001b[1m5s\u001b[0m 17ms/step\n"
     ]
    }
   ],
   "source": [
    "samples, max_seq_len, vector_size = X_train_vectors_2.shape\n",
    "num_classes = len(np.unique(y_train_2))\n",
    "\n",
    "\n",
    "# y_train_onehot = to_categorical(y_train, num_classes=num_classes)\n",
    "# y_test_onehot = to_categorical(y_test, num_classes=num_classes)\n",
    "# y_test_onehot_data = to_categorical(y_test_data, num_classes=num_classes)\n",
    "\n",
    "# Modellinitialisierung\n",
    "model_4 = Sequential()\n",
    "\n",
    "# LSTM-Schicht\n",
    "model_4.add(LSTM(units=128, input_shape=(max_seq_len, vector_size), return_sequences=False))\n",
    "\n",
    "# Optional: Dropout zur Vermeidung von Overfitting\n",
    "model_4.add(Dropout(0.3))\n",
    "\n",
    "# Dense-Schicht für die Ausgabe\n",
    "model_4.add(Dense(units=1, activation='sigmoid'))\n",
    "\n",
    "# Kompilieren des Modells\n",
    "model_4.compile(optimizer='adam',\n",
    "              loss='binary_crossentropy',\n",
    "              metrics=['accuracy', Recall()])\n",
    "\n",
    "class_weight = {0: 1, 1: 3} \n",
    "history_4 = model_4.fit(\n",
    "    X_train_vectors_2, np.array(y_train_2),\n",
    "    validation_data=(X_test_data_vectors, np.array(y_test_data)),\n",
    "    epochs=10,\n",
    "    batch_size=32,\n",
    "    class_weight=class_weight,\n",
    "    verbose=2\n",
    ")\n",
    "# Vorhersagen auf Testdaten\n",
    "\n",
    "predictions_4 = model_4.predict(X_test_data_vectors)\n",
    "\n",
    "threshold = 0.5  # Oder teste 0.4 oder 0.6\n",
    "predicted_classes_4= (predictions_4 > threshold).astype(int)\n",
    "\n"
   ]
  },
  {
   "cell_type": "code",
   "execution_count": 30,
   "metadata": {},
   "outputs": [
    {
     "name": "stdout",
     "output_type": "stream",
     "text": [
      "Classification Report:\n",
      "               precision    recall  f1-score   support\n",
      "\n",
      "     Class 0       0.97      0.97      0.97      8239\n",
      "     Class 1       0.59      0.63      0.61       595\n",
      "\n",
      "    accuracy                           0.95      8834\n",
      "   macro avg       0.78      0.80      0.79      8834\n",
      "weighted avg       0.95      0.95      0.95      8834\n",
      "\n",
      "[[7978  261]\n",
      " [ 219  376]]\n"
     ]
    },
    {
     "data": {
      "image/png": "[encoded data removed]",
      "text/plain": [
       "<Figure size 400x400 with 2 Axes>"
      ]
     },
     "metadata": {},
     "output_type": "display_data"
    }
   ],
   "source": [
    "\n",
    "\n",
    "# Klassifikationsbericht erstellen\n",
    "report = classification_report(y_test_data, predicted_classes_4, target_names=[\"Class 0\", \"Class 1\"])\n",
    "print(\"Classification Report:\\n\", report)\n",
    "\n",
    "cm = confusion_matrix(y_test_data, predicted_classes_4)\n",
    "print(cm)\n",
    "# Verwirrungsmatrix visualisieren\n",
    "plt.figure(figsize=(4, 4))\n",
    "sns.heatmap(cm, annot=True, fmt=\"d\", cmap=\"coolwarm\", linewidths=0.5, square=True,\n",
    "            xticklabels=[\"Label 0\", \"Label 1\"], yticklabels=[\"Label 0\", \"Label 1\"])\n",
    "plt.xlabel(\"Predicted Labels\", fontsize=12)\n",
    "plt.ylabel(\"True Labels\", fontsize=12)\n",
    "plt.title(\"Confusion Matrix\", fontsize=14)\n",
    "plt.show()"
   ]
  },
  {
   "cell_type": "markdown",
   "metadata": {},
   "source": [
    "#### Modeltraining mit anderen Parametern\n",
    "\n",
    "(Epochenerhöhung mit sigmoid)"
   ]
  },
  {
   "cell_type": "code",
   "execution_count": 31,
   "metadata": {},
   "outputs": [
    {
     "name": "stderr",
     "output_type": "stream",
     "text": [
      "C:\\Users\\Nasiba\\AppData\\Local\\Packages\\PythonSoftwareFoundation.Python.3.11_qbz5n2kfra8p0\\LocalCache\\local-packages\\Python311\\site-packages\\keras\\src\\layers\\rnn\\rnn.py:200: UserWarning: Do not pass an `input_shape`/`input_dim` argument to a layer. When using Sequential models, prefer using an `Input(shape)` object as the first layer in the model instead.\n",
      "  super().__init__(**kwargs)\n"
     ]
    },
    {
     "name": "stdout",
     "output_type": "stream",
     "text": [
      "Epoch 1/20\n",
      "631/631 - 29s - 47ms/step - accuracy: 0.9243 - loss: 0.3451 - recall_6: 0.5349 - val_accuracy: 0.9449 - val_loss: 0.1577 - val_recall_6: 0.5395\n",
      "Epoch 2/20\n",
      "631/631 - 26s - 41ms/step - accuracy: 0.9408 - loss: 0.2914 - recall_6: 0.6304 - val_accuracy: 0.9509 - val_loss: 0.1542 - val_recall_6: 0.4790\n",
      "Epoch 3/20\n",
      "631/631 - 26s - 41ms/step - accuracy: 0.9429 - loss: 0.2729 - recall_6: 0.6604 - val_accuracy: 0.9435 - val_loss: 0.1642 - val_recall_6: 0.6034\n",
      "Epoch 4/20\n",
      "631/631 - 26s - 41ms/step - accuracy: 0.9500 - loss: 0.2520 - recall_6: 0.6957 - val_accuracy: 0.9448 - val_loss: 0.1701 - val_recall_6: 0.6101\n",
      "Epoch 5/20\n",
      "631/631 - 26s - 41ms/step - accuracy: 0.9530 - loss: 0.2284 - recall_6: 0.7115 - val_accuracy: 0.8751 - val_loss: 0.2124 - val_recall_6: 0.8286\n",
      "Epoch 6/20\n",
      "631/631 - 26s - 41ms/step - accuracy: 0.9559 - loss: 0.2139 - recall_6: 0.7724 - val_accuracy: 0.9356 - val_loss: 0.1650 - val_recall_6: 0.6941\n",
      "Epoch 7/20\n",
      "631/631 - 26s - 41ms/step - accuracy: 0.9566 - loss: 0.1893 - recall_6: 0.8129 - val_accuracy: 0.9534 - val_loss: 0.1383 - val_recall_6: 0.5815\n",
      "Epoch 8/20\n",
      "631/631 - 26s - 42ms/step - accuracy: 0.9609 - loss: 0.1701 - recall_6: 0.8460 - val_accuracy: 0.9442 - val_loss: 0.1646 - val_recall_6: 0.6672\n",
      "Epoch 9/20\n",
      "631/631 - 26s - 41ms/step - accuracy: 0.9698 - loss: 0.1467 - recall_6: 0.8640 - val_accuracy: 0.9415 - val_loss: 0.1677 - val_recall_6: 0.7042\n",
      "Epoch 10/20\n",
      "631/631 - 27s - 43ms/step - accuracy: 0.9730 - loss: 0.1282 - recall_6: 0.8678 - val_accuracy: 0.9441 - val_loss: 0.1679 - val_recall_6: 0.6807\n",
      "Epoch 11/20\n",
      "631/631 - 26s - 42ms/step - accuracy: 0.9761 - loss: 0.1129 - recall_6: 0.8790 - val_accuracy: 0.9474 - val_loss: 0.1800 - val_recall_6: 0.6504\n",
      "Epoch 12/20\n",
      "631/631 - 26s - 41ms/step - accuracy: 0.9520 - loss: 0.1891 - recall_6: 0.8159 - val_accuracy: 0.9492 - val_loss: 0.1600 - val_recall_6: 0.5277\n",
      "Epoch 13/20\n",
      "631/631 - 28s - 44ms/step - accuracy: 0.9668 - loss: 0.1673 - recall_6: 0.8152 - val_accuracy: 0.9373 - val_loss: 0.1795 - val_recall_6: 0.7160\n",
      "Epoch 14/20\n",
      "631/631 - 26s - 41ms/step - accuracy: 0.9733 - loss: 0.1278 - recall_6: 0.8700 - val_accuracy: 0.9486 - val_loss: 0.1615 - val_recall_6: 0.6689\n",
      "Epoch 15/20\n",
      "631/631 - 26s - 41ms/step - accuracy: 0.9724 - loss: 0.1123 - recall_6: 0.8963 - val_accuracy: 0.9521 - val_loss: 0.1623 - val_recall_6: 0.6151\n",
      "Epoch 16/20\n",
      "631/631 - 27s - 43ms/step - accuracy: 0.9723 - loss: 0.1420 - recall_6: 0.8422 - val_accuracy: 0.9526 - val_loss: 0.1650 - val_recall_6: 0.5176\n",
      "Epoch 17/20\n",
      "631/631 - 28s - 45ms/step - accuracy: 0.9665 - loss: 0.1558 - recall_6: 0.7994 - val_accuracy: 0.9469 - val_loss: 0.1459 - val_recall_6: 0.5983\n",
      "Epoch 18/20\n",
      "631/631 - 26s - 41ms/step - accuracy: 0.9781 - loss: 0.0931 - recall_6: 0.9113 - val_accuracy: 0.9492 - val_loss: 0.1446 - val_recall_6: 0.6319\n",
      "Epoch 19/20\n",
      "631/631 - 26s - 41ms/step - accuracy: 0.9834 - loss: 0.0763 - recall_6: 0.9369 - val_accuracy: 0.9477 - val_loss: 0.1745 - val_recall_6: 0.5613\n",
      "Epoch 20/20\n",
      "631/631 - 26s - 42ms/step - accuracy: 0.9842 - loss: 0.0721 - recall_6: 0.9414 - val_accuracy: 0.9559 - val_loss: 0.1897 - val_recall_6: 0.6017\n",
      "\u001b[1m277/277\u001b[0m \u001b[32m━━━━━━━━━━━━━━━━━━━━\u001b[0m\u001b[37m\u001b[0m \u001b[1m5s\u001b[0m 16ms/step\n"
     ]
    }
   ],
   "source": [
    "samples, max_seq_len, vector_size = X_train_vectors_2.shape\n",
    "num_classes = len(np.unique(y_train_2))\n",
    "\n",
    "\n",
    "# y_train_onehot = to_categorical(y_train, num_classes=num_classes)\n",
    "# y_test_onehot = to_categorical(y_test, num_classes=num_classes)\n",
    "# y_test_onehot_data = to_categorical(y_test_data, num_classes=num_classes)\n",
    "\n",
    "# Modellinitialisierung\n",
    "model_7 = Sequential()\n",
    "\n",
    "# LSTM-Schicht\n",
    "model_7.add(LSTM(units=128, input_shape=(max_seq_len, vector_size), return_sequences=False))\n",
    "\n",
    "# Optional: Dropout zur Vermeidung von Overfitting\n",
    "model_7 .add(Dropout(0.5))\n",
    "\n",
    "# Dense-Schicht für die Ausgabe\n",
    "model_7 .add(Dense(units=1, activation='sigmoid'))\n",
    "\n",
    "# Kompilieren des Modells\n",
    "model_7 .compile(optimizer='adam',\n",
    "              loss='binary_crossentropy',\n",
    "              metrics=['accuracy', Recall()])\n",
    "\n",
    "class_weight = {0: 1, 1: 3} \n",
    "history_7 = model_7 .fit(\n",
    "    X_train_vectors_2, np.array(y_train_2),\n",
    "    validation_data=(X_test_data_vectors, np.array(y_test_data)),\n",
    "    epochs=20,\n",
    "    batch_size=32,\n",
    "    class_weight=class_weight,\n",
    "    verbose=2\n",
    ")\n",
    "# Vorhersagen auf Testdaten\n",
    "\n",
    "predictions_7 =model_7.predict(X_test_data_vectors)\n",
    "\n",
    "threshold = 0.5  # Oder teste 0.4 oder 0.6\n",
    "predicted_classes_7 = (predictions_7 > threshold).astype(int)\n",
    "\n"
   ]
  },
  {
   "cell_type": "code",
   "execution_count": 34,
   "metadata": {},
   "outputs": [
    {
     "name": "stdout",
     "output_type": "stream",
     "text": [
      "Classification Report:\n",
      "               precision    recall  f1-score   support\n",
      "\n",
      "     Class 0       0.97      0.98      0.98      8239\n",
      "     Class 1       0.70      0.60      0.65       595\n",
      "\n",
      "    accuracy                           0.96      8834\n",
      "   macro avg       0.84      0.79      0.81      8834\n",
      "weighted avg       0.95      0.96      0.95      8834\n",
      "\n",
      "[[8086  153]\n",
      " [ 237  358]]\n"
     ]
    },
    {
     "data": {
      "image/png": "[encoded data removed]",
      "text/plain": [
       "<Figure size 400x400 with 2 Axes>"
      ]
     },
     "metadata": {},
     "output_type": "display_data"
    }
   ],
   "source": [
    "\n",
    "\n",
    "# Klassifikationsbericht erstellen\n",
    "report = classification_report(y_test_data, predicted_classes_7, target_names=[\"Class 0\", \"Class 1\"])\n",
    "print(\"Classification Report:\\n\", report)\n",
    "\n",
    "cm = confusion_matrix(y_test_data, predicted_classes_7)\n",
    "print(cm)\n",
    "# Verwirrungsmatrix visualisieren\n",
    "plt.figure(figsize=(4, 4))\n",
    "sns.heatmap(cm, annot=True, fmt=\"d\", cmap=\"coolwarm\", linewidths=0.5, square=True,\n",
    "            xticklabels=[\"Label 0\", \"Label 1\"], yticklabels=[\"Label 0\", \"Label 1\"])\n",
    "plt.xlabel(\"Predicted Labels\", fontsize=12)\n",
    "plt.ylabel(\"True Labels\", fontsize=12)\n",
    "plt.title(\"Confusion Matrix\", fontsize=14)\n",
    "plt.show()"
   ]
  },
  {
   "cell_type": "markdown",
   "metadata": {},
   "source": [
    "#### Modeltraining mit anderen Parametern\n",
    "\n",
    "Kombi"
   ]
  },
  {
   "cell_type": "code",
   "execution_count": 35,
   "metadata": {},
   "outputs": [
    {
     "name": "stderr",
     "output_type": "stream",
     "text": [
      "C:\\Users\\Nasiba\\AppData\\Local\\Packages\\PythonSoftwareFoundation.Python.3.11_qbz5n2kfra8p0\\LocalCache\\local-packages\\Python311\\site-packages\\keras\\src\\layers\\rnn\\rnn.py:200: UserWarning: Do not pass an `input_shape`/`input_dim` argument to a layer. When using Sequential models, prefer using an `Input(shape)` object as the first layer in the model instead.\n",
      "  super().__init__(**kwargs)\n"
     ]
    },
    {
     "name": "stdout",
     "output_type": "stream",
     "text": [
      "Epoch 1/20\n",
      "631/631 - 80s - 126ms/step - accuracy: 0.9305 - loss: 0.4929 - recall_8: 0.2006 - val_accuracy: 0.9295 - val_loss: 0.2579 - val_recall_8: 0.2672\n",
      "Epoch 2/20\n",
      "631/631 - 88s - 139ms/step - accuracy: 0.9320 - loss: 0.5215 - recall_8: 0.0526 - val_accuracy: 0.9326 - val_loss: 0.2832 - val_recall_8: 0.0151\n",
      "Epoch 3/20\n",
      "631/631 - 75s - 119ms/step - accuracy: 0.9340 - loss: 0.5174 - recall_8: 0.0466 - val_accuracy: 0.9325 - val_loss: 0.2787 - val_recall_8: 0.0319\n",
      "Epoch 4/20\n",
      "631/631 - 102s - 162ms/step - accuracy: 0.9160 - loss: 0.4187 - recall_8: 0.2374 - val_accuracy: 0.9326 - val_loss: 0.2135 - val_recall_8: 0.0000e+00\n",
      "Epoch 5/20\n",
      "631/631 - 94s - 150ms/step - accuracy: 0.9076 - loss: 0.3509 - recall_8: 0.3974 - val_accuracy: 0.9223 - val_loss: 0.2085 - val_recall_8: 0.2319\n",
      "Epoch 6/20\n",
      "631/631 - 102s - 161ms/step - accuracy: 0.9078 - loss: 0.3324 - recall_8: 0.3907 - val_accuracy: 0.9350 - val_loss: 0.1849 - val_recall_8: 0.2353\n",
      "Epoch 7/20\n",
      "631/631 - 95s - 151ms/step - accuracy: 0.9178 - loss: 0.2907 - recall_8: 0.4884 - val_accuracy: 0.9290 - val_loss: 0.2000 - val_recall_8: 0.4034\n",
      "Epoch 8/20\n",
      "631/631 - 105s - 166ms/step - accuracy: 0.9360 - loss: 0.3781 - recall_8: 0.2615 - val_accuracy: 0.9325 - val_loss: 0.3198 - val_recall_8: 0.0034\n",
      "Epoch 9/20\n",
      "631/631 - 89s - 141ms/step - accuracy: 0.9412 - loss: 0.2715 - recall_8: 0.5883 - val_accuracy: 0.9467 - val_loss: 0.1467 - val_recall_8: 0.6034\n",
      "Epoch 10/20\n",
      "631/631 - 98s - 155ms/step - accuracy: 0.9563 - loss: 0.1859 - recall_8: 0.8062 - val_accuracy: 0.9425 - val_loss: 0.1651 - val_recall_8: 0.6655\n",
      "Epoch 11/20\n",
      "631/631 - 110s - 174ms/step - accuracy: 0.9632 - loss: 0.1597 - recall_8: 0.8482 - val_accuracy: 0.9521 - val_loss: 0.1468 - val_recall_8: 0.5681\n",
      "Epoch 12/20\n",
      "631/631 - 70s - 111ms/step - accuracy: 0.9699 - loss: 0.1365 - recall_8: 0.8708 - val_accuracy: 0.9445 - val_loss: 0.1710 - val_recall_8: 0.6403\n",
      "Epoch 13/20\n",
      "631/631 - 70s - 111ms/step - accuracy: 0.9744 - loss: 0.1196 - recall_8: 0.8978 - val_accuracy: 0.9389 - val_loss: 0.1866 - val_recall_8: 0.6639\n",
      "Epoch 14/20\n",
      "631/631 - 71s - 113ms/step - accuracy: 0.9802 - loss: 0.1038 - recall_8: 0.9121 - val_accuracy: 0.9460 - val_loss: 0.1872 - val_recall_8: 0.6303\n",
      "Epoch 15/20\n",
      "631/631 - 63s - 100ms/step - accuracy: 0.9857 - loss: 0.0856 - recall_8: 0.9196 - val_accuracy: 0.9429 - val_loss: 0.1723 - val_recall_8: 0.6118\n",
      "Epoch 16/20\n",
      "631/631 - 63s - 100ms/step - accuracy: 0.9873 - loss: 0.0725 - recall_8: 0.9399 - val_accuracy: 0.9411 - val_loss: 0.1868 - val_recall_8: 0.6605\n",
      "Epoch 17/20\n",
      "631/631 - 110s - 174ms/step - accuracy: 0.9900 - loss: 0.0649 - recall_8: 0.9474 - val_accuracy: 0.9448 - val_loss: 0.2037 - val_recall_8: 0.6151\n",
      "Epoch 18/20\n",
      "631/631 - 94s - 149ms/step - accuracy: 0.9914 - loss: 0.0584 - recall_8: 0.9549 - val_accuracy: 0.9479 - val_loss: 0.1915 - val_recall_8: 0.5933\n",
      "Epoch 19/20\n",
      "631/631 - 77s - 122ms/step - accuracy: 0.9922 - loss: 0.0547 - recall_8: 0.9557 - val_accuracy: 0.9434 - val_loss: 0.2051 - val_recall_8: 0.6538\n",
      "Epoch 20/20\n",
      "631/631 - 79s - 126ms/step - accuracy: 0.9932 - loss: 0.0464 - recall_8: 0.9647 - val_accuracy: 0.9453 - val_loss: 0.2195 - val_recall_8: 0.6521\n",
      "\u001b[1m277/277\u001b[0m \u001b[32m━━━━━━━━━━━━━━━━━━━━\u001b[0m\u001b[37m\u001b[0m \u001b[1m21s\u001b[0m 76ms/step\n"
     ]
    }
   ],
   "source": [
    "samples, max_seq_len, vector_size = X_train_vectors_2.shape\n",
    "num_classes = len(np.unique(y_train_2))\n",
    "\n",
    "\n",
    "# y_train_onehot = to_categorical(y_train, num_classes=num_classes)\n",
    "# y_test_onehot = to_categorical(y_test, num_classes=num_classes)\n",
    "# y_test_onehot_data = to_categorical(y_test_data, num_classes=num_classes)\n",
    "\n",
    "# Modellinitialisierung\n",
    "model_8 = Sequential()\n",
    "\n",
    "# LSTM-Schicht\n",
    "model_8.add(LSTM(units=256, input_shape=(max_seq_len, vector_size), return_sequences=False))\n",
    "\n",
    "# Optional: Dropout zur Vermeidung von Overfitting\n",
    "model_8.add(Dropout(0.3))\n",
    "\n",
    "# Dense-Schicht für die Ausgabe\n",
    "model_8.add(Dense(units=1, activation='sigmoid'))\n",
    "\n",
    "# Kompilieren des Modells\n",
    "model_8.compile(optimizer='adam',\n",
    "              loss='binary_crossentropy',\n",
    "              metrics=['accuracy', Recall()])\n",
    "\n",
    "class_weight = {0: 1, 1: 3} \n",
    "history_8 = model_8.fit(\n",
    "    X_train_vectors_2, np.array(y_train_2),\n",
    "    validation_data=(X_test_data_vectors, np.array(y_test_data)),\n",
    "    epochs=20,\n",
    "    batch_size=32,\n",
    "    class_weight=class_weight,\n",
    "    verbose=2\n",
    ")\n",
    "# Vorhersagen auf Testdaten\n",
    "\n",
    "predictions_8 = model_8.predict(X_test_data_vectors)\n",
    "\n",
    "threshold = 0.5  # Oder teste 0.4 oder 0.6\n",
    "predicted_classes_8= (predictions_8 > threshold).astype(int)\n",
    "\n"
   ]
  },
  {
   "cell_type": "code",
   "execution_count": 36,
   "metadata": {},
   "outputs": [
    {
     "name": "stdout",
     "output_type": "stream",
     "text": [
      "Classification Report:\n",
      "               precision    recall  f1-score   support\n",
      "\n",
      "     Class 0       0.97      0.97      0.97      8239\n",
      "     Class 1       0.58      0.65      0.62       595\n",
      "\n",
      "    accuracy                           0.95      8834\n",
      "   macro avg       0.78      0.81      0.79      8834\n",
      "weighted avg       0.95      0.95      0.95      8834\n",
      "\n",
      "[[7963  276]\n",
      " [ 207  388]]\n"
     ]
    },
    {
     "data": {
      "image/png": "[encoded data removed]",
      "text/plain": [
       "<Figure size 400x400 with 2 Axes>"
      ]
     },
     "metadata": {},
     "output_type": "display_data"
    }
   ],
   "source": [
    "\n",
    "\n",
    "# Klassifikationsbericht erstellen\n",
    "report = classification_report(y_test_data, predicted_classes_8, target_names=[\"Class 0\", \"Class 1\"])\n",
    "print(\"Classification Report:\\n\", report)\n",
    "\n",
    "cm = confusion_matrix(y_test_data, predicted_classes_8)\n",
    "print(cm)\n",
    "# Verwirrungsmatrix visualisieren\n",
    "plt.figure(figsize=(4, 4))\n",
    "sns.heatmap(cm, annot=True, fmt=\"d\", cmap=\"coolwarm\", linewidths=0.5, square=True,\n",
    "            xticklabels=[\"Label 0\", \"Label 1\"], yticklabels=[\"Label 0\", \"Label 1\"])\n",
    "plt.xlabel(\"Predicted Labels\", fontsize=12)\n",
    "plt.ylabel(\"True Labels\", fontsize=12)\n",
    "plt.title(\"Confusion Matrix\", fontsize=14)\n",
    "plt.show()"
   ]
  },
  {
   "cell_type": "markdown",
   "metadata": {},
   "source": [
    "#### Modeltraining mit anderen Parametern\n",
    "\n",
    "Batchsize Erhöhung"
   ]
  },
  {
   "cell_type": "code",
   "execution_count": 37,
   "metadata": {},
   "outputs": [
    {
     "name": "stderr",
     "output_type": "stream",
     "text": [
      "C:\\Users\\Nasiba\\AppData\\Local\\Packages\\PythonSoftwareFoundation.Python.3.11_qbz5n2kfra8p0\\LocalCache\\local-packages\\Python311\\site-packages\\keras\\src\\layers\\rnn\\rnn.py:200: UserWarning: Do not pass an `input_shape`/`input_dim` argument to a layer. When using Sequential models, prefer using an `Input(shape)` object as the first layer in the model instead.\n",
      "  super().__init__(**kwargs)\n"
     ]
    },
    {
     "name": "stdout",
     "output_type": "stream",
     "text": [
      "Epoch 1/10\n",
      "316/316 - 60s - 189ms/step - accuracy: 0.9958 - loss: 0.0342 - recall_8: 0.9737 - val_accuracy: 0.9475 - val_loss: 0.2391 - val_recall_8: 0.6168\n",
      "Epoch 2/10\n",
      "316/316 - 72s - 228ms/step - accuracy: 0.9980 - loss: 0.0258 - recall_8: 0.9797 - val_accuracy: 0.9483 - val_loss: 0.2505 - val_recall_8: 0.6168\n",
      "Epoch 3/10\n",
      "316/316 - 51s - 161ms/step - accuracy: 0.9968 - loss: 0.0291 - recall_8: 0.9745 - val_accuracy: 0.9501 - val_loss: 0.2368 - val_recall_8: 0.5496\n",
      "Epoch 4/10\n",
      "316/316 - 47s - 148ms/step - accuracy: 0.9975 - loss: 0.0251 - recall_8: 0.9797 - val_accuracy: 0.9504 - val_loss: 0.2524 - val_recall_8: 0.5832\n",
      "Epoch 5/10\n",
      "316/316 - 59s - 188ms/step - accuracy: 0.9973 - loss: 0.0254 - recall_8: 0.9790 - val_accuracy: 0.9466 - val_loss: 0.2633 - val_recall_8: 0.6134\n",
      "Epoch 6/10\n",
      "316/316 - 57s - 179ms/step - accuracy: 0.9973 - loss: 0.0250 - recall_8: 0.9805 - val_accuracy: 0.9510 - val_loss: 0.2143 - val_recall_8: 0.5395\n",
      "Epoch 7/10\n",
      "316/316 - 46s - 146ms/step - accuracy: 0.9975 - loss: 0.0223 - recall_8: 0.9797 - val_accuracy: 0.9392 - val_loss: 0.2769 - val_recall_8: 0.6538\n",
      "Epoch 8/10\n",
      "316/316 - 45s - 143ms/step - accuracy: 0.9965 - loss: 0.0272 - recall_8: 0.9782 - val_accuracy: 0.9501 - val_loss: 0.2536 - val_recall_8: 0.5815\n",
      "Epoch 9/10\n",
      "316/316 - 68s - 216ms/step - accuracy: 0.9957 - loss: 0.0266 - recall_8: 0.9775 - val_accuracy: 0.9489 - val_loss: 0.2232 - val_recall_8: 0.6067\n",
      "Epoch 10/10\n",
      "316/316 - 52s - 166ms/step - accuracy: 0.9973 - loss: 0.0217 - recall_8: 0.9820 - val_accuracy: 0.9495 - val_loss: 0.2646 - val_recall_8: 0.6118\n",
      "\u001b[1m277/277\u001b[0m \u001b[32m━━━━━━━━━━━━━━━━━━━━\u001b[0m\u001b[37m\u001b[0m \u001b[1m11s\u001b[0m 36ms/step\n"
     ]
    }
   ],
   "source": [
    "samples, max_seq_len, vector_size = X_train_vectors_2.shape\n",
    "num_classes = len(np.unique(y_train_2))\n",
    "\n",
    "\n",
    "# y_train_onehot = to_categorical(y_train, num_classes=num_classes)\n",
    "# y_test_onehot = to_categorical(y_test, num_classes=num_classes)\n",
    "# y_test_onehot_data = to_categorical(y_test_data, num_classes=num_classes)\n",
    "\n",
    "# Modellinitialisierung\n",
    "model_9 = Sequential()\n",
    "\n",
    "# LSTM-Schicht\n",
    "model_9.add(LSTM(units=128, input_shape=(max_seq_len, vector_size), return_sequences=False))\n",
    "\n",
    "# Optional: Dropout zur Vermeidung von Overfitting\n",
    "model_9.add(Dropout(0.5))\n",
    "\n",
    "# Dense-Schicht für die Ausgabe\n",
    "model_9.add(Dense(units=1, activation='sigmoid'))\n",
    "\n",
    "# Kompilieren des Modells\n",
    "model_9.compile(optimizer='adam',\n",
    "              loss='binary_crossentropy',\n",
    "              metrics=['accuracy', Recall()])\n",
    "\n",
    "class_weight = {0: 1, 1: 3} \n",
    "history_9 = model_8.fit(\n",
    "    X_train_vectors_2, np.array(y_train_2),\n",
    "    validation_data=(X_test_data_vectors, np.array(y_test_data)),\n",
    "    epochs=10,\n",
    "    batch_size=64,\n",
    "    class_weight=class_weight,\n",
    "    verbose=2\n",
    ")\n",
    "# Vorhersagen auf Testdaten\n",
    "\n",
    "predictions_9 = model_9.predict(X_test_data_vectors)\n",
    "\n",
    "threshold = 0.5  # Oder teste 0.4 oder 0.6\n",
    "predicted_classes_9= (predictions_9 > threshold).astype(int)\n",
    "\n"
   ]
  },
  {
   "cell_type": "code",
   "execution_count": 38,
   "metadata": {},
   "outputs": [
    {
     "name": "stdout",
     "output_type": "stream",
     "text": [
      "Classification Report:\n",
      "               precision    recall  f1-score   support\n",
      "\n",
      "     Class 0       0.93      0.69      0.79      8239\n",
      "     Class 1       0.05      0.24      0.09       595\n",
      "\n",
      "    accuracy                           0.66      8834\n",
      "   macro avg       0.49      0.46      0.44      8834\n",
      "weighted avg       0.87      0.66      0.74      8834\n",
      "\n",
      "[[5680 2559]\n",
      " [ 452  143]]\n"
     ]
    },
    {
     "data": {
      "image/png": "[encoded data removed]",
      "text/plain": [
       "<Figure size 400x400 with 2 Axes>"
      ]
     },
     "metadata": {},
     "output_type": "display_data"
    }
   ],
   "source": [
    "\n",
    "\n",
    "# Klassifikationsbericht erstellen\n",
    "report = classification_report(y_test_data, predicted_classes_9, target_names=[\"Class 0\", \"Class 1\"])\n",
    "print(\"Classification Report:\\n\", report)\n",
    "\n",
    "cm = confusion_matrix(y_test_data, predicted_classes_9)\n",
    "print(cm)\n",
    "# Verwirrungsmatrix visualisieren\n",
    "plt.figure(figsize=(4, 4))\n",
    "sns.heatmap(cm, annot=True, fmt=\"d\", cmap=\"coolwarm\", linewidths=0.5, square=True,\n",
    "            xticklabels=[\"Label 0\", \"Label 1\"], yticklabels=[\"Label 0\", \"Label 1\"])\n",
    "plt.xlabel(\"Predicted Labels\", fontsize=12)\n",
    "plt.ylabel(\"True Labels\", fontsize=12)\n",
    "plt.title(\"Confusion Matrix\", fontsize=14)\n",
    "plt.show()"
   ]
  },
  {
   "cell_type": "markdown",
   "metadata": {},
   "source": [
    "Epcohenerhöhung, dropout Reduzierung "
   ]
  },
  {
   "cell_type": "code",
   "execution_count": null,
   "metadata": {},
   "outputs": [
    {
     "name": "stderr",
     "output_type": "stream",
     "text": [
      "C:\\Users\\Nasiba\\AppData\\Local\\Packages\\PythonSoftwareFoundation.Python.3.11_qbz5n2kfra8p0\\LocalCache\\local-packages\\Python311\\site-packages\\keras\\src\\layers\\rnn\\rnn.py:200: UserWarning: Do not pass an `input_shape`/`input_dim` argument to a layer. When using Sequential models, prefer using an `Input(shape)` object as the first layer in the model instead.\n",
      "  super().__init__(**kwargs)\n"
     ]
    },
    {
     "name": "stdout",
     "output_type": "stream",
     "text": [
      "Epoch 1/20\n",
      "1792/1792 - 83s - 46ms/step - accuracy: 0.7696 - loss: 0.7548 - recall_4: 0.5675 - val_accuracy: 0.8016 - val_loss: 0.4640 - val_recall_4: 0.5875\n",
      "Epoch 2/20\n",
      "1792/1792 - 81s - 45ms/step - accuracy: 0.7959 - loss: 0.6918 - recall_4: 0.6290 - val_accuracy: 0.8003 - val_loss: 0.5225 - val_recall_4: 0.6310\n",
      "Epoch 3/20\n",
      "1792/1792 - 80s - 45ms/step - accuracy: 0.8102 - loss: 0.6585 - recall_4: 0.6484 - val_accuracy: 0.8019 - val_loss: 0.4402 - val_recall_4: 0.6459\n",
      "Epoch 4/20\n",
      "1792/1792 - 93s - 52ms/step - accuracy: 0.8170 - loss: 0.6259 - recall_4: 0.6839 - val_accuracy: 0.8322 - val_loss: 0.3981 - val_recall_4: 0.5608\n",
      "Epoch 5/20\n",
      "1792/1792 - 81s - 45ms/step - accuracy: 0.8290 - loss: 0.5903 - recall_4: 0.7090 - val_accuracy: 0.8144 - val_loss: 0.4261 - val_recall_4: 0.6482\n",
      "Epoch 6/20\n",
      "1792/1792 - 77s - 43ms/step - accuracy: 0.8394 - loss: 0.5499 - recall_4: 0.7436 - val_accuracy: 0.7454 - val_loss: 0.4687 - val_recall_4: 0.7772\n",
      "Epoch 7/20\n",
      "1792/1792 - 75s - 42ms/step - accuracy: 0.8530 - loss: 0.5058 - recall_4: 0.7723 - val_accuracy: 0.7958 - val_loss: 0.4449 - val_recall_4: 0.6710\n",
      "Epoch 8/20\n",
      "1792/1792 - 79s - 44ms/step - accuracy: 0.8699 - loss: 0.4572 - recall_4: 0.8014 - val_accuracy: 0.8189 - val_loss: 0.4199 - val_recall_4: 0.5925\n",
      "Epoch 9/20\n",
      "1792/1792 - 76s - 42ms/step - accuracy: 0.8859 - loss: 0.4111 - recall_4: 0.8317 - val_accuracy: 0.8329 - val_loss: 0.4069 - val_recall_4: 0.5037\n",
      "Epoch 10/20\n",
      "1792/1792 - 75s - 42ms/step - accuracy: 0.9030 - loss: 0.3623 - recall_4: 0.8528 - val_accuracy: 0.7998 - val_loss: 0.4781 - val_recall_4: 0.6126\n",
      "Epoch 11/20\n",
      "1792/1792 - 600s - 335ms/step - accuracy: 0.9128 - loss: 0.3322 - recall_4: 0.8748 - val_accuracy: 0.8109 - val_loss: 0.4875 - val_recall_4: 0.5855\n",
      "Epoch 12/20\n",
      "1792/1792 - 73s - 41ms/step - accuracy: 0.9244 - loss: 0.2949 - recall_4: 0.8881 - val_accuracy: 0.8143 - val_loss: 0.5552 - val_recall_4: 0.5540\n",
      "Epoch 13/20\n",
      "1792/1792 - 87s - 49ms/step - accuracy: 0.9350 - loss: 0.2582 - recall_4: 0.9062 - val_accuracy: 0.8205 - val_loss: 0.5064 - val_recall_4: 0.4766\n",
      "Epoch 14/20\n",
      "1792/1792 - 79s - 44ms/step - accuracy: 0.9412 - loss: 0.2330 - recall_4: 0.9201 - val_accuracy: 0.8247 - val_loss: 0.6019 - val_recall_4: 0.4978\n",
      "Epoch 15/20\n",
      "1792/1792 - 76s - 42ms/step - accuracy: 0.9429 - loss: 0.2242 - recall_4: 0.9253 - val_accuracy: 0.8262 - val_loss: 0.6079 - val_recall_4: 0.4868\n",
      "Epoch 16/20\n",
      "1792/1792 - 75s - 42ms/step - accuracy: 0.9529 - loss: 0.1922 - recall_4: 0.9341 - val_accuracy: 0.8043 - val_loss: 0.6072 - val_recall_4: 0.5667\n",
      "Epoch 17/20\n",
      "1792/1792 - 77s - 43ms/step - accuracy: 0.9556 - loss: 0.1781 - recall_4: 0.9381 - val_accuracy: 0.8189 - val_loss: 0.6435 - val_recall_4: 0.5114\n",
      "Epoch 18/20\n",
      "1792/1792 - 78s - 44ms/step - accuracy: 0.9589 - loss: 0.1675 - recall_4: 0.9466 - val_accuracy: 0.8090 - val_loss: 0.6380 - val_recall_4: 0.5311\n",
      "Epoch 19/20\n",
      "1792/1792 - 77s - 43ms/step - accuracy: 0.9609 - loss: 0.1559 - recall_4: 0.9519 - val_accuracy: 0.8113 - val_loss: 0.6949 - val_recall_4: 0.5443\n",
      "Epoch 20/20\n",
      "1792/1792 - 79s - 44ms/step - accuracy: 0.9643 - loss: 0.1405 - recall_4: 0.9576 - val_accuracy: 0.8119 - val_loss: 0.7435 - val_recall_4: 0.5266\n",
      "\u001b[1m1015/1015\u001b[0m \u001b[32m━━━━━━━━━━━━━━━━━━━━\u001b[0m\u001b[37m\u001b[0m \u001b[1m18s\u001b[0m 17ms/step\n"
     ]
    }
   ],
   "source": [
    "samples, max_seq_len, vector_size = X_train_vectors.shape\n",
    "num_classes = len(np.unique(y_train))\n",
    "\n",
    "\n",
    "# y_train_onehot = to_categorical(y_train, num_classes=num_classes)\n",
    "# y_test_onehot = to_categorical(y_test, num_classes=num_classes)\n",
    "# y_test_onehot_data = to_categorical(y_test_data, num_classes=num_classes)\n",
    "\n",
    "# Modellinitialisierung\n",
    "model_10 = Sequential()\n",
    "\n",
    "# LSTM-Schicht\n",
    "model_10.add(LSTM(units=128, input_shape=(max_seq_len, vector_size), return_sequences=False))\n",
    "\n",
    "# Optional: Dropout zur Vermeidung von Overfitting\n",
    "model_10.add(Dropout(0.5))\n",
    "\n",
    "# Dense-Schicht für die Ausgabe\n",
    "model_10.add(Dense(units=1, activation='sigmoid'))\n",
    "\n",
    "# Kompilieren des Modells\n",
    "model_10.compile(optimizer='adam',\n",
    "              loss='binary_crossentropy',\n",
    "              metrics=['accuracy', Recall()])\n",
    "\n",
    "class_weight = {0: 1, 1: 3} \n",
    "history_10 = model_10.fit(\n",
    "    X_train_vectors, np.array(y_train),\n",
    "    validation_data=(X_test_vectors, np.array(y_test)),\n",
    "    epochs=20,\n",
    "    batch_size=32,\n",
    "    class_weight=class_weight,\n",
    "    verbose=2\n",
    ")\n",
    "# Vorhersagen auf Testdaten\n",
    "\n",
    "predictions_10 = model_10.predict(X_test_data_vectors)\n",
    "\n",
    "threshold = 0.5  # Oder teste 0.4 oder 0.6\n",
    "predicted_classes_10= (predictions_10 > threshold).astype(int)\n",
    "\n"
   ]
  },
  {
   "cell_type": "code",
   "execution_count": 23,
   "metadata": {},
   "outputs": [
    {
     "name": "stdout",
     "output_type": "stream",
     "text": [
      "Classification Report:\n",
      "               precision    recall  f1-score   support\n",
      "\n",
      "     Class 0       0.88      0.86      0.87     25627\n",
      "     Class 1       0.51      0.56      0.54      6839\n",
      "\n",
      "    accuracy                           0.80     32466\n",
      "   macro avg       0.70      0.71      0.70     32466\n",
      "weighted avg       0.80      0.80      0.80     32466\n",
      "\n",
      "[[22016  3611]\n",
      " [ 3006  3833]]\n"
     ]
    },
    {
     "data": {
      "image/png": "[encoded data removed]",
      "text/plain": [
       "<Figure size 400x400 with 2 Axes>"
      ]
     },
     "metadata": {},
     "output_type": "display_data"
    }
   ],
   "source": [
    "\n",
    "\n",
    "# Klassifikationsbericht erstellen\n",
    "report = classification_report(y_test_data, predicted_classes_10, target_names=[\"Class 0\", \"Class 1\"])\n",
    "print(\"Classification Report:\\n\", report)\n",
    "\n",
    "cm = confusion_matrix(y_test_data, predicted_classes_10)\n",
    "print(cm)\n",
    "# Verwirrungsmatrix visualisieren\n",
    "plt.figure(figsize=(4, 4))\n",
    "sns.heatmap(cm, annot=True, fmt=\"d\", cmap=\"coolwarm\", linewidths=0.5, square=True,\n",
    "            xticklabels=[\"Label 0\", \"Label 1\"], yticklabels=[\"Label 0\", \"Label 1\"])\n",
    "plt.xlabel(\"Predicted Labels\", fontsize=12)\n",
    "plt.ylabel(\"True Labels\", fontsize=12)\n",
    "plt.title(\"Confusion Matrix\", fontsize=14)\n",
    "plt.show()"
   ]
  },
  {
   "cell_type": "markdown",
   "metadata": {},
   "source": [
    "Epcohenerhöhung mit anderer lernrate"
   ]
  },
  {
   "cell_type": "code",
   "execution_count": null,
   "metadata": {},
   "outputs": [],
   "source": [
    "samples, max_seq_len, vector_size = X_train_vectors.shape\n",
    "num_classes = len(np.unique(y_train))\n",
    "# Modellinitialisierung\n",
    "model_15 = Sequential()\n",
    "\n",
    "# LSTM-Schicht\n",
    "model_15.add(LSTM(units=128, input_shape=(max_seq_len, vector_size), return_sequences=False))\n",
    "\n",
    "# Optional: Dropout zur Vermeidung von Overfitting\n",
    "model_15.add(Dropout(0.5))\n",
    "\n",
    "# Dense-Schicht für die Ausgabe\n",
    "model_15.add(Dense(units=1, activation='sigmoid'))\n",
    "\n",
    "# Kompilieren des Modells mit verbesserter Lernrate\n",
    "model_15.compile(optimizer=Adam(learning_rate=0.0003),\n",
    "                 loss='binary_crossentropy',\n",
    "                 metrics=['accuracy', Recall()])\n",
    "\n",
    "class_weight = {0: 1, 1: 3}\n",
    "\n",
    "history_15 = model_15.fit(\n",
    "    X_train_vectors, np.array(y_train),\n",
    "    validation_data=(X_test_vectors, np.array(y_test)),\n",
    "    epochs=20,\n",
    "    batch_size=32,\n",
    "    class_weight=class_weight,\n",
    "    verbose=2\n",
    ")\n",
    "\n",
    "# Vorhersagen auf Testdaten\n",
    "predictions_15 = model_15.predict(X_test_data_vectors)\n",
    "threshold = 0.5  # Oder teste 0.4 oder 0.6\n",
    "predicted_classes_15 = (predictions_15 > threshold).astype(int)\n"
   ]
  },
  {
   "cell_type": "code",
   "execution_count": null,
   "metadata": {},
   "outputs": [],
   "source": [
    "\n",
    "\n",
    "# Klassifikationsbericht erstellen\n",
    "report = classification_report(y_test_data, predicted_classes_15, target_names=[\"Class 0\", \"Class 1\"])\n",
    "print(\"Classification Report:\\n\", report)\n",
    "\n",
    "cm = confusion_matrix(y_test_data, predicted_classes_15)\n",
    "print(cm)\n",
    "# Verwirrungsmatrix visualisieren\n",
    "plt.figure(figsize=(4, 4))\n",
    "sns.heatmap(cm, annot=True, fmt=\"d\", cmap=\"coolwarm\", linewidths=0.5, square=True,\n",
    "            xticklabels=[\"Label 0\", \"Label 1\"], yticklabels=[\"Label 0\", \"Label 1\"])\n",
    "plt.xlabel(\"Predicted Labels\", fontsize=12)\n",
    "plt.ylabel(\"True Labels\", fontsize=12)\n",
    "plt.title(\"Confusion Matrix\", fontsize=14)\n",
    "plt.show()"
   ]
  },
  {
   "cell_type": "markdown",
   "metadata": {},
   "source": [
    "Epcohenerhöhung/dropuot reduzierung mit anderer lernrate"
   ]
  },
  {
   "cell_type": "code",
   "execution_count": 24,
   "metadata": {},
   "outputs": [
    {
     "name": "stderr",
     "output_type": "stream",
     "text": [
      "C:\\Users\\Nasiba\\AppData\\Local\\Packages\\PythonSoftwareFoundation.Python.3.11_qbz5n2kfra8p0\\LocalCache\\local-packages\\Python311\\site-packages\\keras\\src\\layers\\rnn\\rnn.py:200: UserWarning: Do not pass an `input_shape`/`input_dim` argument to a layer. When using Sequential models, prefer using an `Input(shape)` object as the first layer in the model instead.\n",
      "  super().__init__(**kwargs)\n"
     ]
    },
    {
     "name": "stdout",
     "output_type": "stream",
     "text": [
      "Epoch 1/20\n",
      "1792/1792 - 151s - 84ms/step - accuracy: 0.7667 - loss: 0.7589 - recall_5: 0.5759 - val_accuracy: 0.8172 - val_loss: 0.4980 - val_recall_5: 0.4929\n",
      "Epoch 2/20\n",
      "1792/1792 - 147s - 82ms/step - accuracy: 0.7903 - loss: 0.6943 - recall_5: 0.6254 - val_accuracy: 0.7717 - val_loss: 0.4740 - val_recall_5: 0.6851\n",
      "Epoch 3/20\n",
      "1792/1792 - 191s - 107ms/step - accuracy: 0.8021 - loss: 0.6673 - recall_5: 0.6456 - val_accuracy: 0.8094 - val_loss: 0.4078 - val_recall_5: 0.5929\n",
      "Epoch 4/20\n",
      "1792/1792 - 165s - 92ms/step - accuracy: 0.8108 - loss: 0.6438 - recall_5: 0.6559 - val_accuracy: 0.8266 - val_loss: 0.3904 - val_recall_5: 0.5696\n",
      "Epoch 5/20\n",
      "1792/1792 - 202s - 113ms/step - accuracy: 0.8154 - loss: 0.6211 - recall_5: 0.6784 - val_accuracy: 0.8080 - val_loss: 0.4293 - val_recall_5: 0.6452\n",
      "Epoch 6/20\n",
      "1792/1792 - 161s - 90ms/step - accuracy: 0.8208 - loss: 0.5986 - recall_5: 0.6961 - val_accuracy: 0.8051 - val_loss: 0.4114 - val_recall_5: 0.6613\n",
      "Epoch 7/20\n",
      "1792/1792 - 181s - 101ms/step - accuracy: 0.8256 - loss: 0.5778 - recall_5: 0.7203 - val_accuracy: 0.7946 - val_loss: 0.4424 - val_recall_5: 0.6751\n",
      "Epoch 8/20\n",
      "1792/1792 - 183s - 102ms/step - accuracy: 0.8292 - loss: 0.5555 - recall_5: 0.7438 - val_accuracy: 0.7929 - val_loss: 0.4554 - val_recall_5: 0.6959\n",
      "Epoch 9/20\n",
      "1792/1792 - 156s - 87ms/step - accuracy: 0.8374 - loss: 0.5304 - recall_5: 0.7637 - val_accuracy: 0.8073 - val_loss: 0.4169 - val_recall_5: 0.6470\n",
      "Epoch 10/20\n",
      "1792/1792 - 125s - 70ms/step - accuracy: 0.8435 - loss: 0.5063 - recall_5: 0.7811 - val_accuracy: 0.7767 - val_loss: 0.4414 - val_recall_5: 0.6971\n",
      "Epoch 11/20\n",
      "1792/1792 - 188s - 105ms/step - accuracy: 0.8514 - loss: 0.4796 - recall_5: 0.8051 - val_accuracy: 0.8014 - val_loss: 0.4203 - val_recall_5: 0.6498\n",
      "Epoch 12/20\n",
      "1792/1792 - 164s - 91ms/step - accuracy: 0.8594 - loss: 0.4581 - recall_5: 0.8216 - val_accuracy: 0.7745 - val_loss: 0.4584 - val_recall_5: 0.7116\n",
      "Epoch 13/20\n",
      "1792/1792 - 192s - 107ms/step - accuracy: 0.8658 - loss: 0.4305 - recall_5: 0.8379 - val_accuracy: 0.7297 - val_loss: 0.5364 - val_recall_5: 0.7722\n",
      "Epoch 14/20\n",
      "1792/1792 - 172s - 96ms/step - accuracy: 0.8725 - loss: 0.4091 - recall_5: 0.8570 - val_accuracy: 0.8070 - val_loss: 0.4410 - val_recall_5: 0.5963\n",
      "Epoch 15/20\n",
      "1792/1792 - 153s - 85ms/step - accuracy: 0.8789 - loss: 0.3857 - recall_5: 0.8733 - val_accuracy: 0.8074 - val_loss: 0.4756 - val_recall_5: 0.6074\n",
      "Epoch 16/20\n",
      "1792/1792 - 142s - 79ms/step - accuracy: 0.8868 - loss: 0.3601 - recall_5: 0.8835 - val_accuracy: 0.8115 - val_loss: 0.4752 - val_recall_5: 0.5866\n",
      "Epoch 17/20\n",
      "1792/1792 - 143s - 80ms/step - accuracy: 0.8937 - loss: 0.3431 - recall_5: 0.8948 - val_accuracy: 0.7606 - val_loss: 0.5571 - val_recall_5: 0.7034\n",
      "Epoch 18/20\n",
      "1792/1792 - 80s - 45ms/step - accuracy: 0.8966 - loss: 0.3300 - recall_5: 0.8994 - val_accuracy: 0.8013 - val_loss: 0.5125 - val_recall_5: 0.5959\n",
      "Epoch 19/20\n",
      "1792/1792 - 82s - 45ms/step - accuracy: 0.9049 - loss: 0.3110 - recall_5: 0.9102 - val_accuracy: 0.7913 - val_loss: 0.5107 - val_recall_5: 0.6163\n",
      "Epoch 20/20\n",
      "1792/1792 - 279s - 155ms/step - accuracy: 0.9083 - loss: 0.2968 - recall_5: 0.9175 - val_accuracy: 0.8041 - val_loss: 0.5380 - val_recall_5: 0.5610\n",
      "\u001b[1m1015/1015\u001b[0m \u001b[32m━━━━━━━━━━━━━━━━━━━━\u001b[0m\u001b[37m\u001b[0m \u001b[1m19s\u001b[0m 19ms/step\n"
     ]
    }
   ],
   "source": [
    "samples, max_seq_len, vector_size = X_train_vectors.shape\n",
    "num_classes = len(np.unique(y_train))\n",
    "# Modellinitialisierung\n",
    "model_13 = Sequential()\n",
    "\n",
    "# LSTM-Schicht\n",
    "model_13.add(LSTM(units=128, input_shape=(max_seq_len, vector_size), return_sequences=False))\n",
    "\n",
    "# Optional: Dropout zur Vermeidung von Overfitting\n",
    "model_13.add(Dropout(0.3))\n",
    "\n",
    "# Dense-Schicht für die Ausgabe\n",
    "model_13.add(Dense(units=1, activation='sigmoid'))\n",
    "\n",
    "# Kompilieren des Modells mit verbesserter Lernrate\n",
    "model_13.compile(optimizer=Adam(learning_rate=0.0003),\n",
    "                 loss='binary_crossentropy',\n",
    "                 metrics=['accuracy', Recall()])\n",
    "\n",
    "class_weight = {0: 1, 1: 3}\n",
    "\n",
    "history_13 = model_13.fit(\n",
    "    X_train_vectors, np.array(y_train),\n",
    "    validation_data=(X_test_vectors, np.array(y_test)),\n",
    "    epochs=20,\n",
    "    batch_size=32,\n",
    "    class_weight=class_weight,\n",
    "    verbose=2\n",
    ")\n",
    "\n",
    "# Vorhersagen auf Testdaten\n",
    "predictions_13 = model_13.predict(X_test_data_vectors)\n",
    "threshold = 0.5  # Oder teste 0.4 oder 0.6\n",
    "predicted_classes_13 = (predictions_13 > threshold).astype(int)\n"
   ]
  },
  {
   "cell_type": "code",
   "execution_count": 25,
   "metadata": {},
   "outputs": [
    {
     "name": "stdout",
     "output_type": "stream",
     "text": [
      "Classification Report:\n",
      "               precision    recall  f1-score   support\n",
      "\n",
      "     Class 0       0.89      0.83      0.86     25627\n",
      "     Class 1       0.49      0.61      0.54      6839\n",
      "\n",
      "    accuracy                           0.78     32466\n",
      "   macro avg       0.69      0.72      0.70     32466\n",
      "weighted avg       0.80      0.78      0.79     32466\n",
      "\n",
      "[[21214  4413]\n",
      " [ 2659  4180]]\n"
     ]
    },
    {
     "data": {
      "image/png": "[encoded data removed]",
      "text/plain": [
       "<Figure size 400x400 with 2 Axes>"
      ]
     },
     "metadata": {},
     "output_type": "display_data"
    }
   ],
   "source": [
    "\n",
    "\n",
    "# Klassifikationsbericht erstellen\n",
    "report = classification_report(y_test_data, predicted_classes_13, target_names=[\"Class 0\", \"Class 1\"])\n",
    "print(\"Classification Report:\\n\", report)\n",
    "\n",
    "cm = confusion_matrix(y_test_data, predicted_classes_13)\n",
    "print(cm)\n",
    "# Verwirrungsmatrix visualisieren\n",
    "plt.figure(figsize=(4, 4))\n",
    "sns.heatmap(cm, annot=True, fmt=\"d\", cmap=\"coolwarm\", linewidths=0.5, square=True,\n",
    "            xticklabels=[\"Label 0\", \"Label 1\"], yticklabels=[\"Label 0\", \"Label 1\"])\n",
    "plt.xlabel(\"Predicted Labels\", fontsize=12)\n",
    "plt.ylabel(\"True Labels\", fontsize=12)\n",
    "plt.title(\"Confusion Matrix\", fontsize=14)\n",
    "plt.show()"
   ]
  },
  {
   "cell_type": "markdown",
   "metadata": {},
   "source": [
    "Epochenreduzierung: funktioniert nicht gut, da er zu wenig lernt"
   ]
  },
  {
   "cell_type": "markdown",
   "metadata": {},
   "source": [
    "Bidirektional"
   ]
  },
  {
   "cell_type": "code",
   "execution_count": null,
   "metadata": {},
   "outputs": [
    {
     "name": "stdout",
     "output_type": "stream",
     "text": [
      "Epoch 1/20\n",
      "\u001b[1m631/631\u001b[0m \u001b[32m━━━━━━━━━━━━━━━━━━━━\u001b[0m\u001b[37m\u001b[0m \u001b[1m64s\u001b[0m 90ms/step - accuracy: 0.9281 - loss: 0.2199 - recall_14: 0.1439 - val_accuracy: 0.9459 - val_loss: 0.1585 - val_recall_14: 0.3126\n",
      "Epoch 2/20\n",
      "\u001b[1m631/631\u001b[0m \u001b[32m━━━━━━━━━━━━━━━━━━━━\u001b[0m\u001b[37m\u001b[0m \u001b[1m56s\u001b[0m 89ms/step - accuracy: 0.9493 - loss: 0.1441 - recall_14: 0.3997 - val_accuracy: 0.9497 - val_loss: 0.1435 - val_recall_14: 0.3580\n",
      "Epoch 3/20\n",
      "\u001b[1m631/631\u001b[0m \u001b[32m━━━━━━━━━━━━━━━━━━━━\u001b[0m\u001b[37m\u001b[0m \u001b[1m60s\u001b[0m 95ms/step - accuracy: 0.9537 - loss: 0.1295 - recall_14: 0.4949 - val_accuracy: 0.9525 - val_loss: 0.1427 - val_recall_14: 0.4050\n",
      "Epoch 4/20\n",
      "\u001b[1m631/631\u001b[0m \u001b[32m━━━━━━━━━━━━━━━━━━━━\u001b[0m\u001b[37m\u001b[0m \u001b[1m58s\u001b[0m 93ms/step - accuracy: 0.9565 - loss: 0.1219 - recall_14: 0.4742 - val_accuracy: 0.9531 - val_loss: 0.1331 - val_recall_14: 0.5059\n",
      "Epoch 5/20\n",
      "\u001b[1m631/631\u001b[0m \u001b[32m━━━━━━━━━━━━━━━━━━━━\u001b[0m\u001b[37m\u001b[0m \u001b[1m58s\u001b[0m 92ms/step - accuracy: 0.9611 - loss: 0.1142 - recall_14: 0.5358 - val_accuracy: 0.9545 - val_loss: 0.1382 - val_recall_14: 0.4319\n",
      "Epoch 6/20\n",
      "\u001b[1m631/631\u001b[0m \u001b[32m━━━━━━━━━━━━━━━━━━━━\u001b[0m\u001b[37m\u001b[0m \u001b[1m58s\u001b[0m 92ms/step - accuracy: 0.9627 - loss: 0.1049 - recall_14: 0.5925 - val_accuracy: 0.9555 - val_loss: 0.1333 - val_recall_14: 0.4319\n",
      "\u001b[1m277/277\u001b[0m \u001b[32m━━━━━━━━━━━━━━━━━━━━\u001b[0m\u001b[37m\u001b[0m \u001b[1m10s\u001b[0m 33ms/step\n"
     ]
    }
   ],
   "source": [
    "\n",
    "# Modellinitialisierung\n",
    "model_bidir = Sequential()\n",
    "\n",
    "# Erste LSTM-Schicht mit Bidirectional für bessere Kontextverarbeitung\n",
    "model_bidir.add(Bidirectional(LSTM(units=128, return_sequences=True, dropout=0.3, recurrent_dropout=0.2)))\n",
    "\n",
    "# Zweite LSTM-Schicht für tiefere Merkmalsextraktion\n",
    "model_bidir.add(Bidirectional(LSTM(units=64, return_sequences=False, dropout=0.3, recurrent_dropout=0.2)))\n",
    "\n",
    "# Dense-Schicht für die Ausgabe mit Sigmoid für binäre Klassifikation\n",
    "model_bidir.add(Dense(units=1, activation='sigmoid'))\n",
    "\n",
    "# Modell kompilieren mit verbessertem Optimierer und zusätzlichen Metriken\n",
    "model_bidir.compile(optimizer=Adam(learning_rate=0.0005), \n",
    "                   loss='binary_crossentropy', \n",
    "                   metrics=['accuracy', Recall()])\n",
    "\n",
    "# Early Stopping Callback zur Vermeidung von Overfitting\n",
    "early_stopping = EarlyStopping(monitor='val_loss', patience=2, restore_best_weights=True)\n",
    "\n",
    "# Modelltraining mit optimierten Parametern\n",
    "history_bidir= model_bidir.fit(\n",
    "    X_train_vectors, y_train,\n",
    "    validation_data=(X_test_vectors, y_test),\n",
    "    epochs=20,  # Erhöhte Epochenzahl mit EarlyStopping\n",
    "    batch_size=32,\n",
    "    verbose=1,\n",
    "    callbacks=[early_stopping]\n",
    ")\n",
    "\n",
    "# Vorhersagen auf Testdaten\n",
    "predictions_bidir = model_bidir.predict(X_test_data_vectors)\n",
    "predicted_classes_bidir = (predictions_bidir > 0.5).astype(int)\n"
   ]
  },
  {
   "cell_type": "code",
   "execution_count": 51,
   "metadata": {},
   "outputs": [
    {
     "name": "stdout",
     "output_type": "stream",
     "text": [
      "Classification Report:\n",
      "               precision    recall  f1-score   support\n",
      "\n",
      "     Class 0       0.97      0.99      0.98      8239\n",
      "     Class 1       0.71      0.51      0.59       595\n",
      "\n",
      "    accuracy                           0.95      8834\n",
      "   macro avg       0.84      0.75      0.78      8834\n",
      "weighted avg       0.95      0.95      0.95      8834\n",
      "\n",
      "[[8119  120]\n",
      " [ 294  301]]\n"
     ]
    },
    {
     "data": {
      "image/png": "[encoded data removed]",
      "text/plain": [
       "<Figure size 400x400 with 2 Axes>"
      ]
     },
     "metadata": {},
     "output_type": "display_data"
    }
   ],
   "source": [
    "\n",
    "\n",
    "# Klassifikationsbericht erstellen\n",
    "report = classification_report(y_test_data, predicted_classes_bidir, target_names=[\"Class 0\", \"Class 1\"])\n",
    "print(\"Classification Report:\\n\", report)\n",
    "\n",
    "cm = confusion_matrix(y_test_data,predicted_classes_bidir)\n",
    "print(cm)\n",
    "# Verwirrungsmatrix visualisieren\n",
    "plt.figure(figsize=(4, 4))\n",
    "sns.heatmap(cm, annot=True, fmt=\"d\", cmap=\"coolwarm\", linewidths=0.5, square=True,\n",
    "            xticklabels=[\"Label 0\", \"Label 1\"], yticklabels=[\"Label 0\", \"Label 1\"])\n",
    "plt.xlabel(\"Predicted Labels\", fontsize=12)\n",
    "plt.ylabel(\"True Labels\", fontsize=12)\n",
    "plt.title(\"Confusion Matrix\", fontsize=14)\n",
    "plt.show()"
   ]
  },
  {
   "cell_type": "markdown",
   "metadata": {},
   "source": [
    "Bidirektional"
   ]
  },
  {
   "cell_type": "code",
   "execution_count": null,
   "metadata": {},
   "outputs": [
    {
     "name": "stderr",
     "output_type": "stream",
     "text": [
      "C:\\Users\\Nasiba\\AppData\\Local\\Packages\\PythonSoftwareFoundation.Python.3.11_qbz5n2kfra8p0\\LocalCache\\local-packages\\Python311\\site-packages\\keras\\src\\layers\\rnn\\rnn.py:200: UserWarning: Do not pass an `input_shape`/`input_dim` argument to a layer. When using Sequential models, prefer using an `Input(shape)` object as the first layer in the model instead.\n",
      "  super().__init__(**kwargs)\n"
     ]
    },
    {
     "name": "stdout",
     "output_type": "stream",
     "text": [
      "Epoch 1/20\n",
      "631/631 - 32s - 51ms/step - accuracy: 0.9328 - loss: 0.3107 - recall_13: 0.5447 - val_accuracy: 0.9440 - val_loss: 0.1732 - val_recall_13: 0.5529\n",
      "Epoch 2/20\n",
      "631/631 - 33s - 52ms/step - accuracy: 0.9483 - loss: 0.2356 - recall_13: 0.6807 - val_accuracy: 0.9522 - val_loss: 0.1440 - val_recall_13: 0.5479\n",
      "Epoch 3/20\n",
      "631/631 - 32s - 51ms/step - accuracy: 0.9596 - loss: 0.1969 - recall_13: 0.7521 - val_accuracy: 0.9527 - val_loss: 0.1372 - val_recall_13: 0.6084\n",
      "Epoch 4/20\n",
      "631/631 - 31s - 49ms/step - accuracy: 0.9670 - loss: 0.1525 - recall_13: 0.8084 - val_accuracy: 0.9542 - val_loss: 0.1341 - val_recall_13: 0.5933\n",
      "Epoch 5/20\n",
      "631/631 - 32s - 50ms/step - accuracy: 0.9742 - loss: 0.1139 - recall_13: 0.8610 - val_accuracy: 0.9354 - val_loss: 0.1724 - val_recall_13: 0.7193\n",
      "Epoch 6/20\n",
      "631/631 - 32s - 51ms/step - accuracy: 0.9824 - loss: 0.0788 - recall_13: 0.9128 - val_accuracy: 0.9538 - val_loss: 0.1567 - val_recall_13: 0.5899\n",
      "Epoch 7/20\n",
      "631/631 - 35s - 55ms/step - accuracy: 0.9878 - loss: 0.0577 - recall_13: 0.9444 - val_accuracy: 0.9402 - val_loss: 0.1796 - val_recall_13: 0.6958\n",
      "Epoch 8/20\n",
      "631/631 - 37s - 59ms/step - accuracy: 0.9938 - loss: 0.0305 - recall_13: 0.9722 - val_accuracy: 0.9489 - val_loss: 0.2037 - val_recall_13: 0.6487\n",
      "Epoch 9/20\n",
      "631/631 - 39s - 61ms/step - accuracy: 0.9913 - loss: 0.0458 - recall_13: 0.9654 - val_accuracy: 0.9555 - val_loss: 0.1794 - val_recall_13: 0.6235\n",
      "Epoch 10/20\n",
      "631/631 - 37s - 58ms/step - accuracy: 0.9977 - loss: 0.0153 - recall_13: 0.9932 - val_accuracy: 0.9566 - val_loss: 0.2219 - val_recall_13: 0.5866\n",
      "Epoch 11/20\n",
      "631/631 - 36s - 58ms/step - accuracy: 0.9965 - loss: 0.0180 - recall_13: 0.9887 - val_accuracy: 0.9377 - val_loss: 0.2061 - val_recall_13: 0.6437\n",
      "Epoch 12/20\n",
      "631/631 - 40s - 64ms/step - accuracy: 0.9966 - loss: 0.0182 - recall_13: 0.9880 - val_accuracy: 0.9579 - val_loss: 0.2378 - val_recall_13: 0.5714\n",
      "Epoch 13/20\n",
      "631/631 - 38s - 60ms/step - accuracy: 0.9986 - loss: 0.0080 - recall_13: 0.9947 - val_accuracy: 0.9564 - val_loss: 0.2758 - val_recall_13: 0.5395\n",
      "Epoch 14/20\n",
      "631/631 - 39s - 61ms/step - accuracy: 0.9997 - loss: 0.0042 - recall_13: 0.9977 - val_accuracy: 0.9569 - val_loss: 0.3029 - val_recall_13: 0.5193\n",
      "Epoch 15/20\n",
      "631/631 - 37s - 59ms/step - accuracy: 0.9958 - loss: 0.0189 - recall_13: 0.9827 - val_accuracy: 0.9487 - val_loss: 0.2562 - val_recall_13: 0.6185\n",
      "Epoch 16/20\n",
      "631/631 - 34s - 54ms/step - accuracy: 0.9976 - loss: 0.0117 - recall_13: 0.9917 - val_accuracy: 0.9503 - val_loss: 0.2465 - val_recall_13: 0.6134\n",
      "Epoch 17/20\n",
      "631/631 - 34s - 54ms/step - accuracy: 0.9989 - loss: 0.0061 - recall_13: 0.9977 - val_accuracy: 0.9561 - val_loss: 0.2865 - val_recall_13: 0.5597\n",
      "Epoch 18/20\n",
      "631/631 - 34s - 53ms/step - accuracy: 0.9998 - loss: 0.0020 - recall_13: 0.9985 - val_accuracy: 0.9545 - val_loss: 0.3099 - val_recall_13: 0.5479\n",
      "Epoch 19/20\n",
      "631/631 - 34s - 54ms/step - accuracy: 1.0000 - loss: 0.0011 - recall_13: 1.0000 - val_accuracy: 0.9540 - val_loss: 0.3348 - val_recall_13: 0.5697\n",
      "Epoch 20/20\n",
      "631/631 - 34s - 53ms/step - accuracy: 1.0000 - loss: 7.8014e-04 - recall_13: 1.0000 - val_accuracy: 0.9555 - val_loss: 0.3917 - val_recall_13: 0.5227\n",
      "\u001b[1m277/277\u001b[0m \u001b[32m━━━━━━━━━━━━━━━━━━━━\u001b[0m\u001b[37m\u001b[0m \u001b[1m7s\u001b[0m 24ms/step\n"
     ]
    }
   ],
   "source": [
    "# Modellinitialisierung\n",
    "model_bidir_2 = Sequential()\n",
    "\n",
    "# Bidirektionale LSTM-Schicht\n",
    "model_bidir_2.add(Bidirectional(LSTM(units=128, input_shape=(max_seq_len, vector_size), return_sequences=False)))\n",
    "\n",
    "# Optional: Dropout zur Vermeidung von Overfitting\n",
    "model_bidir_2.add(Dropout(0.3))\n",
    "\n",
    "# Dense-Schicht für die Ausgabe\n",
    "model_bidir_2.add(Dense(units=1, activation='sigmoid'))\n",
    "\n",
    "# Kompilieren des Modells\n",
    "model_bidir_2.compile(optimizer='adam',\n",
    "                      loss='binary_crossentropy',\n",
    "                      metrics=['accuracy', Recall()])\n",
    "\n",
    "class_weight = {0: 1, 1: 3}\n",
    "\n",
    "history_bidir_2 = model_bidir_2.fit(\n",
    "    X_train_vectors, np.array(y_train),\n",
    "    validation_data=(X_test_vectors, np.array(y_test)),\n",
    "    epochs=20,\n",
    "    batch_size=32,\n",
    "    class_weight=class_weight,\n",
    "    verbose=2\n",
    ")\n",
    "\n",
    "# Vorhersagen auf Testdaten\n",
    "predictions_bidir_2 = model_bidir_2.predict(X_test_data_vectors)\n",
    "threshold = 0.5  # Oder teste 0.4 oder 0.6\n",
    "predicted_classes_bidir_2 = (predictions_bidir_2 > threshold).astype(int)\n"
   ]
  },
  {
   "cell_type": "code",
   "execution_count": 49,
   "metadata": {},
   "outputs": [
    {
     "name": "stdout",
     "output_type": "stream",
     "text": [
      "Classification Report:\n",
      "               precision    recall  f1-score   support\n",
      "\n",
      "     Class 0       0.97      0.99      0.98      8239\n",
      "     Class 1       0.74      0.52      0.61       595\n",
      "\n",
      "    accuracy                           0.96      8834\n",
      "   macro avg       0.85      0.75      0.79      8834\n",
      "weighted avg       0.95      0.96      0.95      8834\n",
      "\n",
      "[[8130  109]\n",
      " [ 284  311]]\n"
     ]
    },
    {
     "data": {
      "image/png": "[encoded data removed]",
      "text/plain": [
       "<Figure size 400x400 with 2 Axes>"
      ]
     },
     "metadata": {},
     "output_type": "display_data"
    }
   ],
   "source": [
    "\n",
    "\n",
    "# Klassifikationsbericht erstellen\n",
    "report = classification_report(y_test_data, predicted_classes_bidir_2, target_names=[\"Class 0\", \"Class 1\"])\n",
    "print(\"Classification Report:\\n\", report)\n",
    "\n",
    "cm = confusion_matrix(y_test_data,predicted_classes_bidir_2)\n",
    "print(cm)\n",
    "# Verwirrungsmatrix visualisieren\n",
    "plt.figure(figsize=(4, 4))\n",
    "sns.heatmap(cm, annot=True, fmt=\"d\", cmap=\"coolwarm\", linewidths=0.5, square=True,\n",
    "            xticklabels=[\"Label 0\", \"Label 1\"], yticklabels=[\"Label 0\", \"Label 1\"])\n",
    "plt.xlabel(\"Predicted Labels\", fontsize=12)\n",
    "plt.ylabel(\"True Labels\", fontsize=12)\n",
    "plt.title(\"Confusion Matrix\", fontsize=14)\n",
    "plt.show()"
   ]
  },
  {
   "cell_type": "markdown",
   "metadata": {},
   "source": [
    "2 LSTM Schichten und Batch-Normalisierung"
   ]
  },
  {
   "cell_type": "code",
   "execution_count": null,
   "metadata": {},
   "outputs": [],
   "source": [
    "from tensorflow.keras.models import Sequential\n",
    "from tensorflow.keras.layers import LSTM, Dense, Dropout, BatchNormalization\n",
    "from tensorflow.keras.optimizers import Adam\n",
    "from tensorflow.keras.callbacks import EarlyStopping\n",
    "from sklearn.utils.class_weight import compute_class_weight\n",
    "import numpy as np\n",
    "\n",
    "# Klassenbalancierung berechnen\n",
    "class_weight = {0: 1, 1: 3}  # Manuell festgelegt, kann auch dynamisch berechnet werden\n",
    "\n",
    "# Modellinitialisierung\n",
    "model_new_1 = Sequential()\n",
    "\n",
    "# Erste LSTM-Schicht mit Rückgabe von Sequenzen\n",
    "model_new_1.add(LSTM(units=128, return_sequences=True, input_shape=(max_seq_len, vector_size)))\n",
    "model_new_1.add(BatchNormalization())  # Batch-Normalisierung\n",
    "\n",
    "# Zweite LSTM-Schicht\n",
    "model_new_1.add(LSTM(units=64, return_sequences=False))\n",
    "model_new_1.add(Dropout(0.5))  # Dropout zur Regularisierung\n",
    "\n",
    "# Dense-Schicht mit Sigmoid für binäre Klassifikation\n",
    "model_new_1.add(Dense(1, activation='sigmoid'))\n",
    "\n",
    "# Kompilieren des Modells\n",
    "model_new_1.compile(optimizer=Adam(learning_rate=0.001),\n",
    "                    loss='binary_crossentropy',\n",
    "                    metrics=['accuracy'])\n",
    "\n",
    "# Frühes Stoppen aktivieren\n",
    "early_stopping = EarlyStopping(monitor='val_loss', patience=5, restore_best_weights=True)\n",
    "\n",
    "# Training des Modells\n",
    "history_new_1 = model_new_1.fit(\n",
    "    X_train_vectors, np.array(y_train),\n",
    "    validation_data=(X_test_vectors, np.array(y_test)),\n",
    "    epochs=20,\n",
    "    batch_size=32,\n",
    "    class_weight=class_weight,\n",
    "    callbacks=[early_stopping],\n",
    "    verbose=2\n",
    ")\n",
    "# Vorhersagen auf Testdaten\n",
    "predictions_new_1 =  model_new_1.predict(X_test_data_vectors)\n",
    "threshold = 0.5  # Oder teste 0.4 oder 0.6\n",
    "predicted_classes__new_1 = (predictions_new_1 > threshold).astype(int)"
   ]
  }
 ],
 "metadata": {
  "kernelspec": {
   "display_name": "Python 3",
   "language": "python",
   "name": "python3"
  },
  "language_info": {
   "codemirror_mode": {
    "name": "ipython",
    "version": 3
   },
   "file_extension": ".py",
   "mimetype": "text/x-python",
   "name": "python",
   "nbconvert_exporter": "python",
   "pygments_lexer": "ipython3",
   "version": "3.11.9"
  }
 },
 "nbformat": 4,
 "nbformat_minor": 2
}
