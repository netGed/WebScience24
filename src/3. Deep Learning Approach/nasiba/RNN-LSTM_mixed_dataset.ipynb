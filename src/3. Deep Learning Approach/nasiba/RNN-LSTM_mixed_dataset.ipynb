{
 "cells": [
  {
   "cell_type": "code",
   "execution_count": 2,
   "metadata": {},
   "outputs": [],
   "source": [
    "# !pip install tensorflow\n"
   ]
  },
  {
   "cell_type": "code",
   "execution_count": 3,
   "metadata": {},
   "outputs": [
    {
     "data": {
      "text/plain": [
       "WindowsPath('C:/Users/Nasiba/Documents/1 Master Data Science/Projektpraktikum/WebScience24')"
      ]
     },
     "execution_count": 3,
     "metadata": {},
     "output_type": "execute_result"
    }
   ],
   "source": [
    "import sys\n",
    "from pathlib import Path\n",
    "\n",
    "# Zum übergeordneten Ordner 'src' wechseln\n",
    "current_path = Path().resolve()\n",
    "src_path = current_path.parents[2]  # Zwei Stufen nach oben\n",
    "\n",
    "if str(src_path) not in sys.path:\n",
    "    sys.path.append(str(src_path))\n",
    "\n",
    "src_path\n"
   ]
  },
  {
   "cell_type": "code",
   "execution_count": 4,
   "metadata": {},
   "outputs": [],
   "source": [
    "\n",
    "\n",
    "import pandas as pd\n",
    "import numpy as np\n",
    "import matplotlib.pyplot as plt\n",
    "import seaborn as sns\n",
    "\n",
    "from pathlib import Path\n",
    "from sklearn.linear_model import LogisticRegression\n",
    "from sklearn.metrics import accuracy_score, classification_report, confusion_matrix\n",
    "\n",
    "from collections import Counter\n",
    "#nlp = spacy.load(\"en_core_web_sm\")\n",
    "from nltk import word_tokenize\n",
    "pd.set_option('display.max_colwidth', None)\n",
    "from sklearn.model_selection import train_test_split\n",
    "from sklearn.feature_extraction.text import TfidfVectorizer\n",
    "from sklearn.feature_extraction.text import CountVectorizer\n",
    "from vector_functions import vectorize_word2vec, vectorize_glove, vectorize_glove_test_data, vectorize_word2vec_test_data\n",
    "import nltk\n",
    "\n",
    "import os\n",
    "from tensorflow.keras.models import Sequential\n",
    "from tensorflow.keras.layers import LSTM, Dense, Dropout, Bidirectional\n",
    "from tensorflow.keras.utils import to_categorical\n",
    "from tensorflow.keras.models import Sequential\n",
    "from tensorflow.keras.optimizers import Adam\n",
    "from tensorflow.keras.metrics import Recall, Precision\n",
    "from tensorflow.keras.callbacks import EarlyStopping\n",
    "\n"
   ]
  },
  {
   "cell_type": "markdown",
   "metadata": {},
   "source": [
    "#### Beladung der Daten"
   ]
  },
  {
   "cell_type": "code",
   "execution_count": 13,
   "metadata": {},
   "outputs": [
    {
     "data": {
      "text/html": [
       "<div>\n",
       "<style scoped>\n",
       "    .dataframe tbody tr th:only-of-type {\n",
       "        vertical-align: middle;\n",
       "    }\n",
       "\n",
       "    .dataframe tbody tr th {\n",
       "        vertical-align: top;\n",
       "    }\n",
       "\n",
       "    .dataframe thead th {\n",
       "        text-align: right;\n",
       "    }\n",
       "</style>\n",
       "<table border=\"1\" class=\"dataframe\">\n",
       "  <thead>\n",
       "    <tr style=\"text-align: right;\">\n",
       "      <th></th>\n",
       "      <th>label</th>\n",
       "      <th>tweet</th>\n",
       "      <th>tweet_cleaned</th>\n",
       "      <th>user_handle</th>\n",
       "      <th>hashtags</th>\n",
       "      <th>emojis</th>\n",
       "    </tr>\n",
       "  </thead>\n",
       "  <tbody>\n",
       "    <tr>\n",
       "      <th>140232</th>\n",
       "      <td>0</td>\n",
       "      <td>Nicki's \"that's not good\" pout bought to you by Botox[™]. #MKR</td>\n",
       "      <td>nickis \" good pout buy botox trade mark mkr</td>\n",
       "      <td>0</td>\n",
       "      <td>['#mkr']</td>\n",
       "      <td>__trade_mark__</td>\n",
       "    </tr>\n",
       "  </tbody>\n",
       "</table>\n",
       "</div>"
      ],
      "text/plain": [
       "        label                                                           tweet  \\\n",
       "140232      0  Nicki's \"that's not good\" pout bought to you by Botox[™]. #MKR   \n",
       "\n",
       "                                      tweet_cleaned  user_handle  hashtags  \\\n",
       "140232  nickis \" good pout buy botox trade mark mkr            0  ['#mkr']   \n",
       "\n",
       "                emojis  \n",
       "140232  __trade_mark__  "
      ]
     },
     "execution_count": 13,
     "metadata": {},
     "output_type": "execute_result"
    }
   ],
   "source": [
    "\n",
    "source_filepath_name = os.path.abspath(os.path.join(src_path, 'data/mixed_dataset/train_cleaned.csv'))\n",
    "\n",
    "df_cleaned = pd.read_csv(source_filepath_name, encoding='utf-8', index_col=0)\n",
    "\n",
    "source_filepath_name_test = os.path.abspath(os.path.join(src_path, 'data/mixed_dataset/test_cleaned.csv'))\n",
    "\n",
    "df_cleaned_test = pd.read_csv(source_filepath_name_test, encoding='utf-8', index_col=0)\n",
    "\n",
    "df_cleaned.head(1)"
   ]
  },
  {
   "cell_type": "markdown",
   "metadata": {},
   "source": [
    "Duplikate "
   ]
  },
  {
   "cell_type": "code",
   "execution_count": 14,
   "metadata": {},
   "outputs": [
    {
     "name": "stdout",
     "output_type": "stream",
     "text": [
      "0\n",
      "0\n"
     ]
    }
   ],
   "source": [
    "anzahl_duplikate = df_cleaned_test.duplicated().sum()\n",
    "print(anzahl_duplikate)\n",
    "\n",
    "print(df_cleaned_test.duplicated(subset=['tweet']).sum())\n",
    "duplikate = df_cleaned_test[df_cleaned_test.duplicated()]\n"
   ]
  },
  {
   "cell_type": "markdown",
   "metadata": {},
   "source": [
    "Duplikate entfernen"
   ]
  },
  {
   "cell_type": "code",
   "execution_count": null,
   "metadata": {},
   "outputs": [],
   "source": [
    "df_cleaned_wth_duplicates = df_cleaned_test.drop_duplicates()\n",
    "\n",
    "df_cleaned_wth_duplicates  = df_cleaned_wth_duplicates.drop_duplicates(subset=['tweet'])"
   ]
  },
  {
   "cell_type": "code",
   "execution_count": null,
   "metadata": {},
   "outputs": [
    {
     "name": "stdout",
     "output_type": "stream",
     "text": [
      "0\n"
     ]
    }
   ],
   "source": [
    "\n",
    "print(df_cleaned_wth_duplicates.duplicated(subset=['tweet']).sum())"
   ]
  },
  {
   "cell_type": "code",
   "execution_count": 8,
   "metadata": {},
   "outputs": [],
   "source": [
    "df_cleaned_test = df_cleaned_test.drop_duplicates()\n",
    "\n",
    "df_cleaned_test  = df_cleaned_test.drop_duplicates(subset=['tweet'])"
   ]
  },
  {
   "cell_type": "code",
   "execution_count": 11,
   "metadata": {},
   "outputs": [
    {
     "data": {
      "text/plain": [
       "'C:\\\\Users\\\\Nasiba\\\\Documents\\\\1 Master Data Science\\\\Projektpraktikum\\\\WebScience24\\\\data\\\\mixed_dataset\\\\test_cleaned.csv'"
      ]
     },
     "execution_count": 11,
     "metadata": {},
     "output_type": "execute_result"
    }
   ],
   "source": [
    "target_filepath_name_test = os.path.abspath(os.path.join(src_path, 'data/mixed_dataset/test_cleaned.csv'))\n",
    "target_filepath_name_test"
   ]
  },
  {
   "cell_type": "code",
   "execution_count": 12,
   "metadata": {},
   "outputs": [],
   "source": [
    "target_filepath_name_test = os.path.abspath(os.path.join(src_path, 'data/mixed_dataset/test_cleaned.csv'))\n",
    "df_cleaned_test.to_csv(target_filepath_name_test)"
   ]
  },
  {
   "cell_type": "code",
   "execution_count": 25,
   "metadata": {},
   "outputs": [
    {
     "name": "stdout",
     "output_type": "stream",
     "text": [
      "0\n",
      "0\n"
     ]
    }
   ],
   "source": [
    "source_filepath_name_test_csv = os.path.abspath(os.path.join(src_path, 'data/mixed_dataset/test.csv'))\n",
    "\n",
    "\n",
    "df_cleaned_test_csv = pd.read_csv(source_filepath_name_test_csv, encoding='utf-8', index_col=0)\n",
    "anzahl_duplikate = df_cleaned_test_csv.duplicated().sum()\n",
    "print(anzahl_duplikate)\n",
    "\n",
    "print(df_cleaned_test_csv.duplicated(subset=['tweet']).sum())\n",
    "duplikate = df_cleaned_test_csv[df_cleaned_test_csv.duplicated()]\n",
    "# df_cleaned_test_csv = df_cleaned_test_csv.drop_duplicates()\n",
    "\n",
    "# df_cleaned_test_csv = df_cleaned_test_csv.drop_duplicates(subset=['tweet'])"
   ]
  },
  {
   "cell_type": "code",
   "execution_count": 24,
   "metadata": {},
   "outputs": [
    {
     "name": "stdout",
     "output_type": "stream",
     "text": [
      "C:\\Users\\Nasiba\\Documents\\1 Master Data Science\\Projektpraktikum\\WebScience24\\data\\mixed_dataset\\test.csv\n"
     ]
    }
   ],
   "source": [
    "target_filepath_name_test_rnn = os.path.abspath(os.path.join(src_path, 'data/mixed_dataset/test.csv'))\n",
    "\n",
    "print(target_filepath_name_test_rnn )\n",
    "df_cleaned_test_csv.to_csv(target_filepath_name_test_rnn)"
   ]
  },
  {
   "cell_type": "markdown",
   "metadata": {},
   "source": [
    "### Vektorisierung"
   ]
  },
  {
   "cell_type": "markdown",
   "metadata": {},
   "source": [
    "#### GloVe "
   ]
  },
  {
   "cell_type": "code",
   "execution_count": 8,
   "metadata": {},
   "outputs": [
    {
     "name": "stderr",
     "output_type": "stream",
     "text": [
      "c:\\Users\\Nasiba\\Documents\\1 Master Data Science\\Projektpraktikum\\WebScience24\\src\\3. Deep Learning Approach\\nasiba\\vector_functions.py:396: SettingWithCopyWarning: \n",
      "A value is trying to be set on a copy of a slice from a DataFrame.\n",
      "Try using .loc[row_indexer,col_indexer] = value instead\n",
      "\n",
      "See the caveats in the documentation: https://pandas.pydata.org/pandas-docs/stable/user_guide/indexing.html#returning-a-view-versus-a-copy\n",
      "  df[text_column] = df[text_column].astype(str)\n",
      "c:\\Users\\Nasiba\\Documents\\1 Master Data Science\\Projektpraktikum\\WebScience24\\src\\3. Deep Learning Approach\\nasiba\\vector_functions.py:462: SettingWithCopyWarning: \n",
      "A value is trying to be set on a copy of a slice from a DataFrame.\n",
      "Try using .loc[row_indexer,col_indexer] = value instead\n",
      "\n",
      "See the caveats in the documentation: https://pandas.pydata.org/pandas-docs/stable/user_guide/indexing.html#returning-a-view-versus-a-copy\n",
      "  df[text_column] = df[text_column].astype(str)\n",
      "c:\\Users\\Nasiba\\Documents\\1 Master Data Science\\Projektpraktikum\\WebScience24\\src\\3. Deep Learning Approach\\nasiba\\vector_functions.py:462: SettingWithCopyWarning: \n",
      "A value is trying to be set on a copy of a slice from a DataFrame.\n",
      "Try using .loc[row_indexer,col_indexer] = value instead\n",
      "\n",
      "See the caveats in the documentation: https://pandas.pydata.org/pandas-docs/stable/user_guide/indexing.html#returning-a-view-versus-a-copy\n",
      "  df[text_column] = df[text_column].astype(str)\n"
     ]
    }
   ],
   "source": [
    "\n",
    "\n",
    "twitter_glove_path = os.path.abspath(os.path.join(src_path, 'src/3. Deep Learning Approach/nasiba/glove.6B.200d.txt'))\n",
    "\n",
    "\n",
    "X_train_vectors, X_test_vectors, y_train, y_test, glove_embeddings = vectorize_glove(df=df_cleaned, text_column =\"tweet_cleaned\", label_column=\"label\", glove_path=twitter_glove_path)\n",
    "\n",
    "X_test_data_vectors , y_test_data, glove_embeddings = vectorize_glove_test_data(df=df_cleaned_wth_duplicates, text_column =\"tweet_cleaned\", label_column=\"label\", glove_path=twitter_glove_path)\n",
    "\n",
    "X_train_vectors_2 , y_train_2, glove_embeddings = vectorize_glove_test_data(df=df_cleaned, text_column =\"tweet_cleaned\", label_column=\"label\", glove_path=twitter_glove_path)"
   ]
  },
  {
   "cell_type": "code",
   "execution_count": 6,
   "metadata": {},
   "outputs": [
    {
     "data": {
      "text/plain": [
       "id\n",
       "8886     0\n",
       "909      0\n",
       "27613    0\n",
       "15999    0\n",
       "23817    0\n",
       "        ..\n",
       "16407    0\n",
       "6526     0\n",
       "8002     1\n",
       "323      0\n",
       "16978    0\n",
       "Name: label, Length: 20178, dtype: int64"
      ]
     },
     "execution_count": 6,
     "metadata": {},
     "output_type": "execute_result"
    }
   ],
   "source": [
    "y_train_2"
   ]
  },
  {
   "cell_type": "code",
   "execution_count": 7,
   "metadata": {},
   "outputs": [
    {
     "name": "stderr",
     "output_type": "stream",
     "text": [
      "C:\\Users\\Nasiba\\AppData\\Local\\Packages\\PythonSoftwareFoundation.Python.3.11_qbz5n2kfra8p0\\LocalCache\\local-packages\\Python311\\site-packages\\keras\\src\\layers\\rnn\\rnn.py:200: UserWarning: Do not pass an `input_shape`/`input_dim` argument to a layer. When using Sequential models, prefer using an `Input(shape)` object as the first layer in the model instead.\n",
      "  super().__init__(**kwargs)\n"
     ]
    },
    {
     "name": "stdout",
     "output_type": "stream",
     "text": [
      "Epoch 1/10\n",
      "\u001b[1m631/631\u001b[0m \u001b[32m━━━━━━━━━━━━━━━━━━━━\u001b[0m\u001b[37m\u001b[0m \u001b[1m28s\u001b[0m 42ms/step - accuracy: 0.9282 - loss: 0.2868 - val_accuracy: 0.9330 - val_loss: 0.2458\n",
      "Epoch 2/10\n",
      "\u001b[1m631/631\u001b[0m \u001b[32m━━━━━━━━━━━━━━━━━━━━\u001b[0m\u001b[37m\u001b[0m \u001b[1m25s\u001b[0m 39ms/step - accuracy: 0.9333 - loss: 0.2528 - val_accuracy: 0.9326 - val_loss: 0.2472\n",
      "Epoch 3/10\n",
      "\u001b[1m631/631\u001b[0m \u001b[32m━━━━━━━━━━━━━━━━━━━━\u001b[0m\u001b[37m\u001b[0m \u001b[1m25s\u001b[0m 40ms/step - accuracy: 0.9331 - loss: 0.2492 - val_accuracy: 0.9326 - val_loss: 0.2475\n",
      "Epoch 4/10\n",
      "\u001b[1m631/631\u001b[0m \u001b[32m━━━━━━━━━━━━━━━━━━━━\u001b[0m\u001b[37m\u001b[0m \u001b[1m27s\u001b[0m 42ms/step - accuracy: 0.9340 - loss: 0.2471 - val_accuracy: 0.9326 - val_loss: 0.2456\n",
      "Epoch 5/10\n",
      "\u001b[1m631/631\u001b[0m \u001b[32m━━━━━━━━━━━━━━━━━━━━\u001b[0m\u001b[37m\u001b[0m \u001b[1m27s\u001b[0m 43ms/step - accuracy: 0.9323 - loss: 0.2481 - val_accuracy: 0.9330 - val_loss: 0.2455\n",
      "Epoch 6/10\n",
      "\u001b[1m631/631\u001b[0m \u001b[32m━━━━━━━━━━━━━━━━━━━━\u001b[0m\u001b[37m\u001b[0m \u001b[1m26s\u001b[0m 42ms/step - accuracy: 0.9342 - loss: 0.2415 - val_accuracy: 0.9332 - val_loss: 0.2404\n",
      "Epoch 7/10\n",
      "\u001b[1m631/631\u001b[0m \u001b[32m━━━━━━━━━━━━━━━━━━━━\u001b[0m\u001b[37m\u001b[0m \u001b[1m28s\u001b[0m 44ms/step - accuracy: 0.9374 - loss: 0.2329 - val_accuracy: 0.9326 - val_loss: 0.2050\n",
      "Epoch 8/10\n",
      "\u001b[1m631/631\u001b[0m \u001b[32m━━━━━━━━━━━━━━━━━━━━\u001b[0m\u001b[37m\u001b[0m \u001b[1m29s\u001b[0m 46ms/step - accuracy: 0.9345 - loss: 0.1803 - val_accuracy: 0.9356 - val_loss: 0.1593\n",
      "Epoch 9/10\n",
      "\u001b[1m631/631\u001b[0m \u001b[32m━━━━━━━━━━━━━━━━━━━━\u001b[0m\u001b[37m\u001b[0m \u001b[1m28s\u001b[0m 44ms/step - accuracy: 0.9433 - loss: 0.1428 - val_accuracy: 0.9475 - val_loss: 0.1532\n",
      "Epoch 10/10\n",
      "\u001b[1m631/631\u001b[0m \u001b[32m━━━━━━━━━━━━━━━━━━━━\u001b[0m\u001b[37m\u001b[0m \u001b[1m28s\u001b[0m 44ms/step - accuracy: 0.9594 - loss: 0.1179 - val_accuracy: 0.9470 - val_loss: 0.1500\n",
      "\u001b[1m277/277\u001b[0m \u001b[32m━━━━━━━━━━━━━━━━━━━━\u001b[0m\u001b[37m\u001b[0m \u001b[1m5s\u001b[0m 17ms/step\n"
     ]
    }
   ],
   "source": [
    "\n",
    "\n",
    "samples_2, max_seq_len_2, vector_size_2 = X_train_vectors_2.shape\n",
    "num_classes_2 = len(np.unique(y_train_2))\n",
    "\n",
    "y_train_onehot_2 = to_categorical(y_train_2, num_classes=num_classes_2)\n",
    "y_test_onehot_data = to_categorical(y_test_data, num_classes=num_classes_2)\n",
    "\n",
    "# Modellinitialisierung\n",
    "model_tr_2 = Sequential()\n",
    "\n",
    "# LSTM-Schicht\n",
    "model_tr_2.add(LSTM(units=128, input_shape=(max_seq_len_2, vector_size_2), return_sequences=False))\n",
    "\n",
    "# Optional: Dropout zur Vermeidung von Overfitting\n",
    "model_tr_2.add(Dropout(0.5))\n",
    "\n",
    "# Dense-Schicht für die Ausgabe\n",
    "model_tr_2.add(Dense(units=num_classes_2, activation='softmax'))\n",
    "\n",
    "# Kompilieren des Modells\n",
    "model_tr_2.compile(optimizer='adam', loss='categorical_crossentropy', metrics=['accuracy'])\n",
    "\n",
    "history_tr_2 = model_tr_2.fit(\n",
    "    X_train_vectors_2, y_train_onehot_2,\n",
    "    validation_data=(X_test_data_vectors, y_test_onehot_data),\n",
    "    epochs=10,\n",
    "    batch_size=32,\n",
    "    verbose=1\n",
    ")\n",
    "\n",
    "# Klassifikationsbericht erstellen\n",
    "# Vorhersagen auf Testdaten\n",
    "predictions_tr_2 = model_tr_2.predict(X_test_data_vectors)\n",
    "predicted_classes_tr_2 = np.argmax(predictions_tr_2, axis=1)\n",
    "\n",
    "\n",
    "\n",
    "\n"
   ]
  },
  {
   "cell_type": "code",
   "execution_count": 8,
   "metadata": {},
   "outputs": [
    {
     "name": "stdout",
     "output_type": "stream",
     "text": [
      "Classification Report:\n",
      "               precision    recall  f1-score   support\n",
      "\n",
      "     Class 0       0.97      0.97      0.97      8239\n",
      "     Class 1       0.60      0.62      0.61       595\n",
      "\n",
      "    accuracy                           0.95      8834\n",
      "   macro avg       0.79      0.79      0.79      8834\n",
      "weighted avg       0.95      0.95      0.95      8834\n",
      "\n",
      "[[8000  239]\n",
      " [ 229  366]]\n"
     ]
    },
    {
     "data": {
      "image/png": "[encoded data removed]",
      "text/plain": [
       "<Figure size 400x400 with 2 Axes>"
      ]
     },
     "metadata": {},
     "output_type": "display_data"
    }
   ],
   "source": [
    "report = classification_report(np.argmax(y_test_onehot_data, axis=1), predicted_classes_tr_2, target_names=[\"Class 0\", \"Class 1\"])\n",
    "print(\"Classification Report:\\n\", report)\n",
    "\n",
    "cm = confusion_matrix(np.argmax(y_test_onehot_data, axis=1), predicted_classes_tr_2)\n",
    "print(cm)\n",
    "# Verwirrungsmatrix visualisieren\n",
    "plt.figure(figsize=(4, 4))\n",
    "sns.heatmap(cm, annot=True, fmt=\"d\", cmap=\"coolwarm\", linewidths=0.5, square=True,\n",
    "            xticklabels=[\"Label 0\", \"Label 1\"], yticklabels=[\"Label 0\", \"Label 1\"])\n",
    "plt.xlabel(\"Predicted Labels\", fontsize=12)\n",
    "plt.ylabel(\"True Labels\", fontsize=12)\n",
    "plt.title(\"Confusion Matrix\", fontsize=14)\n",
    "plt.show()"
   ]
  },
  {
   "cell_type": "markdown",
   "metadata": {},
   "source": [
    "### Modell aufbauen "
   ]
  },
  {
   "cell_type": "markdown",
   "metadata": {},
   "source": [
    "#### One-Hot-Encoding der Labels"
   ]
  },
  {
   "cell_type": "code",
   "execution_count": 9,
   "metadata": {},
   "outputs": [
    {
     "name": "stderr",
     "output_type": "stream",
     "text": [
      "c:\\Users\\Nasiba\\Documents\\1 Master Data Science\\Projektpraktikum\\WebScience24\\src\\3. Deep Learning Approach\\nasiba\\vector_functions.py:162: SettingWithCopyWarning: \n",
      "A value is trying to be set on a copy of a slice from a DataFrame.\n",
      "Try using .loc[row_indexer,col_indexer] = value instead\n",
      "\n",
      "See the caveats in the documentation: https://pandas.pydata.org/pandas-docs/stable/user_guide/indexing.html#returning-a-view-versus-a-copy\n",
      "  df[text_column] = df[text_column].astype(str)\n",
      "c:\\Users\\Nasiba\\Documents\\1 Master Data Science\\Projektpraktikum\\WebScience24\\src\\3. Deep Learning Approach\\nasiba\\vector_functions.py:217: SettingWithCopyWarning: \n",
      "A value is trying to be set on a copy of a slice from a DataFrame.\n",
      "Try using .loc[row_indexer,col_indexer] = value instead\n",
      "\n",
      "See the caveats in the documentation: https://pandas.pydata.org/pandas-docs/stable/user_guide/indexing.html#returning-a-view-versus-a-copy\n",
      "  df[text_column] = df[text_column].astype(str)\n"
     ]
    }
   ],
   "source": [
    "\n",
    "X_train_w2v, X_test_w2v, y_train_wv, y_test_vw, w2v_model = vectorize_word2vec(df=df_cleaned, text_column =\"tweet_cleaned\", label_column=\"label\")\n",
    "\n",
    "\n",
    "X_test_w2v_data, y_test_wv_data, w2v_model = vectorize_word2vec_test_data(df=df_cleaned, text_column =\"tweet_cleaned\", label_column=\"label\")\n",
    "\n"
   ]
  },
  {
   "cell_type": "code",
   "execution_count": 10,
   "metadata": {},
   "outputs": [],
   "source": [
    "samples_w2v, max_seq_len_w2v, vector_size_w2v = X_train_w2v.shape\n",
    "num_classes_w2v = len(np.unique(y_train_wv))\n",
    "\n",
    "y_train_onehot_w2v = to_categorical(y_train_wv, num_classes=num_classes_w2v)\n",
    "y_test_onehot_w2v= to_categorical(y_test_vw, num_classes=num_classes_w2v)\n",
    "\n",
    "y_test_data_onehot_w2v= to_categorical(y_test_wv_data, num_classes=num_classes_w2v)"
   ]
  },
  {
   "cell_type": "code",
   "execution_count": 11,
   "metadata": {},
   "outputs": [
    {
     "name": "stderr",
     "output_type": "stream",
     "text": [
      "C:\\Users\\Nasiba\\AppData\\Local\\Packages\\PythonSoftwareFoundation.Python.3.11_qbz5n2kfra8p0\\LocalCache\\local-packages\\Python311\\site-packages\\keras\\src\\layers\\rnn\\rnn.py:200: UserWarning: Do not pass an `input_shape`/`input_dim` argument to a layer. When using Sequential models, prefer using an `Input(shape)` object as the first layer in the model instead.\n",
      "  super().__init__(**kwargs)\n"
     ]
    },
    {
     "name": "stdout",
     "output_type": "stream",
     "text": [
      "Epoch 1/10\n",
      "\u001b[1m442/442\u001b[0m \u001b[32m━━━━━━━━━━━━━━━━━━━━\u001b[0m\u001b[37m\u001b[0m \u001b[1m21s\u001b[0m 42ms/step - accuracy: 0.9296 - loss: 0.2876 - val_accuracy: 0.9394 - val_loss: 0.2624\n",
      "Epoch 2/10\n",
      "\u001b[1m442/442\u001b[0m \u001b[32m━━━━━━━━━━━━━━━━━━━━\u001b[0m\u001b[37m\u001b[0m \u001b[1m17s\u001b[0m 38ms/step - accuracy: 0.9282 - loss: 0.2636 - val_accuracy: 0.9394 - val_loss: 0.2159\n",
      "Epoch 3/10\n",
      "\u001b[1m442/442\u001b[0m \u001b[32m━━━━━━━━━━━━━━━━━━━━\u001b[0m\u001b[37m\u001b[0m \u001b[1m18s\u001b[0m 41ms/step - accuracy: 0.9314 - loss: 0.2313 - val_accuracy: 0.9394 - val_loss: 0.2007\n",
      "Epoch 4/10\n",
      "\u001b[1m442/442\u001b[0m \u001b[32m━━━━━━━━━━━━━━━━━━━━\u001b[0m\u001b[37m\u001b[0m \u001b[1m18s\u001b[0m 42ms/step - accuracy: 0.9330 - loss: 0.2235 - val_accuracy: 0.9394 - val_loss: 0.2000\n",
      "Epoch 5/10\n",
      "\u001b[1m442/442\u001b[0m \u001b[32m━━━━━━━━━━━━━━━━━━━━\u001b[0m\u001b[37m\u001b[0m \u001b[1m18s\u001b[0m 41ms/step - accuracy: 0.9327 - loss: 0.2208 - val_accuracy: 0.9394 - val_loss: 0.2004\n",
      "Epoch 6/10\n",
      "\u001b[1m442/442\u001b[0m \u001b[32m━━━━━━━━━━━━━━━━━━━━\u001b[0m\u001b[37m\u001b[0m \u001b[1m17s\u001b[0m 39ms/step - accuracy: 0.9289 - loss: 0.2192 - val_accuracy: 0.9394 - val_loss: 0.1926\n",
      "Epoch 7/10\n",
      "\u001b[1m442/442\u001b[0m \u001b[32m━━━━━━━━━━━━━━━━━━━━\u001b[0m\u001b[37m\u001b[0m \u001b[1m19s\u001b[0m 43ms/step - accuracy: 0.9305 - loss: 0.2118 - val_accuracy: 0.9394 - val_loss: 0.1810\n",
      "Epoch 8/10\n",
      "\u001b[1m442/442\u001b[0m \u001b[32m━━━━━━━━━━━━━━━━━━━━\u001b[0m\u001b[37m\u001b[0m \u001b[1m19s\u001b[0m 42ms/step - accuracy: 0.9304 - loss: 0.2071 - val_accuracy: 0.9394 - val_loss: 0.1764\n",
      "Epoch 9/10\n",
      "\u001b[1m442/442\u001b[0m \u001b[32m━━━━━━━━━━━━━━━━━━━━\u001b[0m\u001b[37m\u001b[0m \u001b[1m19s\u001b[0m 44ms/step - accuracy: 0.9320 - loss: 0.1981 - val_accuracy: 0.9392 - val_loss: 0.1758\n",
      "Epoch 10/10\n",
      "\u001b[1m442/442\u001b[0m \u001b[32m━━━━━━━━━━━━━━━━━━━━\u001b[0m\u001b[37m\u001b[0m \u001b[1m18s\u001b[0m 41ms/step - accuracy: 0.9315 - loss: 0.1930 - val_accuracy: 0.9402 - val_loss: 0.1754\n",
      "\u001b[1m631/631\u001b[0m \u001b[32m━━━━━━━━━━━━━━━━━━━━\u001b[0m\u001b[37m\u001b[0m \u001b[1m11s\u001b[0m 17ms/step\n"
     ]
    }
   ],
   "source": [
    "\n",
    "# Modellinitialisierung\n",
    "model_w2v = Sequential()\n",
    "\n",
    "# LSTM-Schicht\n",
    "model_w2v.add(LSTM(units=128, input_shape=(max_seq_len_w2v, vector_size_w2v), return_sequences=False))\n",
    "\n",
    "# Optional: Dropout zur Vermeidung von Overfitting\n",
    "model_w2v.add(Dropout(0.5))\n",
    "\n",
    "# Dense-Schicht für die Ausgabe\n",
    "model_w2v.add(Dense(units=num_classes_w2v, activation='softmax'))\n",
    "\n",
    "# Kompilieren des Modells\n",
    "model_w2v.compile(optimizer='adam', loss='categorical_crossentropy', metrics=['accuracy'])\n",
    "\n",
    "history_model_w2v = model_w2v.fit(\n",
    "    X_train_w2v,y_train_onehot_w2v,\n",
    "    validation_data=(X_test_w2v, y_test_onehot_w2v),\n",
    "    epochs=10,\n",
    "    batch_size=32,\n",
    "    verbose=1\n",
    ")\n",
    "predictions_w2v = model_w2v.predict(X_test_w2v_data)\n",
    "predicted_classes_w2v = np.argmax(predictions_w2v, axis=1)\n"
   ]
  },
  {
   "cell_type": "code",
   "execution_count": 12,
   "metadata": {},
   "outputs": [
    {
     "name": "stdout",
     "output_type": "stream",
     "text": [
      "Classification Report:\n",
      "               precision    recall  f1-score   support\n",
      "\n",
      "     Class 0       0.93      1.00      0.97     18847\n",
      "     Class 1       0.00      0.00      0.00      1331\n",
      "\n",
      "    accuracy                           0.93     20178\n",
      "   macro avg       0.47      0.50      0.48     20178\n",
      "weighted avg       0.87      0.93      0.90     20178\n",
      "\n",
      "[[18839     8]\n",
      " [ 1331     0]]\n"
     ]
    },
    {
     "data": {
      "image/png": "[encoded data removed]",
      "text/plain": [
       "<Figure size 400x400 with 2 Axes>"
      ]
     },
     "metadata": {},
     "output_type": "display_data"
    }
   ],
   "source": [
    "\n",
    "\n",
    "# Klassifikationsbericht erstellen\n",
    "report = classification_report(np.argmax(y_test_data_onehot_w2v, axis=1), predicted_classes_w2v, target_names=[\"Class 0\", \"Class 1\"])\n",
    "print(\"Classification Report:\\n\", report)\n",
    "\n",
    "cm = confusion_matrix(np.argmax(y_test_data_onehot_w2v, axis=1), predicted_classes_w2v)\n",
    "print(cm)\n",
    "# Verwirrungsmatrix visualisieren\n",
    "plt.figure(figsize=(4, 4))\n",
    "sns.heatmap(cm, annot=True, fmt=\"d\", cmap=\"coolwarm\", linewidths=0.5, square=True,\n",
    "            xticklabels=[\"Label 0\", \"Label 1\"], yticklabels=[\"Label 0\", \"Label 1\"])\n",
    "plt.xlabel(\"Predicted Labels\", fontsize=12)\n",
    "plt.ylabel(\"True Labels\", fontsize=12)\n",
    "plt.title(\"Confusion Matrix\", fontsize=14)\n",
    "plt.show()\n"
   ]
  },
  {
   "cell_type": "markdown",
   "metadata": {},
   "source": [
    "#### Modeltraining mit anderen Parametern\n",
    "\n",
    "(Aktivierungsfunktion in der Dense-Schicht zu sigmoid ändern, da diese für Binärklassifikation besser geeignet sein soll)"
   ]
  },
  {
   "cell_type": "code",
   "execution_count": 13,
   "metadata": {},
   "outputs": [
    {
     "name": "stdout",
     "output_type": "stream",
     "text": [
      "Einzigartige Werte in y_train_2: [0 1]\n",
      "Anzahl der 1en in y_train_2: 1331\n"
     ]
    }
   ],
   "source": [
    "print(\"Einzigartige Werte in y_train_2:\", np.unique(y_train_2))\n",
    "\n",
    "count_ones = y_train_2.value_counts().get(1, 0)  # Falls 1 nicht existiert, wird 0 zurückgegeben\n",
    "print(f\"Anzahl der 1en in y_train_2: {count_ones}\")"
   ]
  },
  {
   "cell_type": "code",
   "execution_count": 14,
   "metadata": {},
   "outputs": [
    {
     "name": "stdout",
     "output_type": "stream",
     "text": [
      "Einzigartige Werte in y_train_2: [0 1]\n",
      "Anzahl der 1en in y_train_2: 595\n"
     ]
    }
   ],
   "source": [
    "print(\"Einzigartige Werte in y_train_2:\", np.unique(y_test_data))\n",
    "\n",
    "count_ones = y_test_data.value_counts().get(1, 0)  # Falls 1 nicht existiert, wird 0 zurückgegeben\n",
    "print(f\"Anzahl der 1en in y_train_2: {count_ones}\")"
   ]
  },
  {
   "cell_type": "code",
   "execution_count": 12,
   "metadata": {},
   "outputs": [
    {
     "name": "stderr",
     "output_type": "stream",
     "text": [
      "C:\\Users\\Nasiba\\AppData\\Local\\Packages\\PythonSoftwareFoundation.Python.3.11_qbz5n2kfra8p0\\LocalCache\\local-packages\\Python311\\site-packages\\keras\\src\\layers\\rnn\\rnn.py:200: UserWarning: Do not pass an `input_shape`/`input_dim` argument to a layer. When using Sequential models, prefer using an `Input(shape)` object as the first layer in the model instead.\n",
      "  super().__init__(**kwargs)\n"
     ]
    },
    {
     "name": "stdout",
     "output_type": "stream",
     "text": [
      "Epoch 1/10\n",
      "2560/2560 - 296s - 116ms/step - accuracy: 0.8346 - loss: 0.3939 - recall_1: 0.2136 - val_accuracy: 0.8227 - val_loss: 0.4220 - val_recall_1: 0.2354\n",
      "Epoch 2/10\n",
      "2560/2560 - 303s - 118ms/step - accuracy: 0.8481 - loss: 0.3612 - recall_1: 0.3209 - val_accuracy: 0.8336 - val_loss: 0.3946 - val_recall_1: 0.4106\n",
      "Epoch 3/10\n",
      "2560/2560 - 301s - 117ms/step - accuracy: 0.8554 - loss: 0.3430 - recall_1: 0.3768 - val_accuracy: 0.8293 - val_loss: 0.3939 - val_recall_1: 0.4875\n",
      "Epoch 4/10\n",
      "2560/2560 - 408s - 159ms/step - accuracy: 0.8627 - loss: 0.3267 - recall_1: 0.4296 - val_accuracy: 0.8337 - val_loss: 0.3859 - val_recall_1: 0.4499\n",
      "Epoch 5/10\n",
      "2560/2560 - 342s - 134ms/step - accuracy: 0.8697 - loss: 0.3089 - recall_1: 0.4644 - val_accuracy: 0.8294 - val_loss: 0.3905 - val_recall_1: 0.5453\n",
      "Epoch 6/10\n",
      "2560/2560 - 182s - 71ms/step - accuracy: 0.8789 - loss: 0.2887 - recall_1: 0.5111 - val_accuracy: 0.8316 - val_loss: 0.3957 - val_recall_1: 0.3423\n",
      "Epoch 7/10\n",
      "2560/2560 - 217s - 85ms/step - accuracy: 0.8874 - loss: 0.2678 - recall_1: 0.5565 - val_accuracy: 0.8244 - val_loss: 0.4125 - val_recall_1: 0.5745\n",
      "Epoch 8/10\n",
      "2560/2560 - 240s - 94ms/step - accuracy: 0.8971 - loss: 0.2469 - recall_1: 0.6087 - val_accuracy: 0.8216 - val_loss: 0.4163 - val_recall_1: 0.2720\n",
      "Epoch 9/10\n",
      "2560/2560 - 450s - 176ms/step - accuracy: 0.9080 - loss: 0.2234 - recall_1: 0.6513 - val_accuracy: 0.8291 - val_loss: 0.4563 - val_recall_1: 0.4973\n",
      "Epoch 10/10\n",
      "2560/2560 - 207s - 81ms/step - accuracy: 0.9168 - loss: 0.2036 - recall_1: 0.6858 - val_accuracy: 0.8190 - val_loss: 0.4774 - val_recall_1: 0.5586\n",
      "\u001b[1m1015/1015\u001b[0m \u001b[32m━━━━━━━━━━━━━━━━━━━━\u001b[0m\u001b[37m\u001b[0m \u001b[1m24s\u001b[0m 23ms/step\n"
     ]
    }
   ],
   "source": [
    "samples, max_seq_len, vector_size = X_train_vectors_2.shape\n",
    "num_classes = len(np.unique(y_train_2))\n",
    "\n",
    "\n",
    "# y_train_onehot = to_categorical(y_train, num_classes=num_classes)\n",
    "# y_test_onehot = to_categorical(y_test, num_classes=num_classes)\n",
    "# y_test_onehot_data = to_categorical(y_test_data, num_classes=num_classes)\n",
    "\n",
    "# Modellinitialisierung\n",
    "model_2 = Sequential()\n",
    "\n",
    "# LSTM-Schicht\n",
    "model_2.add(LSTM(units=128, input_shape=(max_seq_len, vector_size), return_sequences=False))\n",
    "\n",
    "# Optional: Dropout zur Vermeidung von Overfitting\n",
    "model_2.add(Dropout(0.5))\n",
    "\n",
    "# Dense-Schicht für die Ausgabe\n",
    "model_2.add(Dense(units=1, activation='sigmoid'))\n",
    "\n",
    "# Kompilieren des Modells\n",
    "model_2.compile(optimizer='adam',\n",
    "              loss='binary_crossentropy',\n",
    "              metrics=['accuracy', Recall()])\n",
    "\n",
    "#class_weight = {0: 1, 1: 3} \n",
    "history_2 = model_2.fit(\n",
    "    X_train_vectors_2, np.array(y_train_2),\n",
    "    validation_data=(X_test_data_vectors, np.array(y_test_data)),\n",
    "    epochs=10,\n",
    "    batch_size=32,\n",
    "    #class_weight=class_weight,\n",
    "    verbose=2\n",
    ")\n",
    "# Vorhersagen auf Testdaten\n",
    "predictions_2 = model_2.predict(X_test_data_vectors)\n",
    "threshold = 0.5  # Oder teste 0.4 oder 0.6\n",
    "predicted_classes_2 = (predictions_2 > threshold).astype(int)"
   ]
  },
  {
   "cell_type": "code",
   "execution_count": 13,
   "metadata": {},
   "outputs": [
    {
     "name": "stdout",
     "output_type": "stream",
     "text": [
      "Classification Report:\n",
      "               precision    recall  f1-score   support\n",
      "\n",
      "     Class 0       0.88      0.89      0.89     25627\n",
      "     Class 1       0.57      0.56      0.57      6839\n",
      "\n",
      "    accuracy                           0.82     32466\n",
      "   macro avg       0.73      0.72      0.73     32466\n",
      "weighted avg       0.82      0.82      0.82     32466\n",
      "\n",
      "[[22769  2858]\n",
      " [ 3019  3820]]\n"
     ]
    },
    {
     "data": {
      "image/png": "[encoded data removed]",
      "text/plain": [
       "<Figure size 400x400 with 2 Axes>"
      ]
     },
     "metadata": {},
     "output_type": "display_data"
    }
   ],
   "source": [
    "\n",
    "\n",
    "# Klassifikationsbericht erstellen\n",
    "report = classification_report(y_test_data, predicted_classes_2, target_names=[\"Class 0\", \"Class 1\"])\n",
    "print(\"Classification Report:\\n\", report)\n",
    "\n",
    "cm = confusion_matrix(y_test_data, predicted_classes_2)\n",
    "print(cm)\n",
    "# Verwirrungsmatrix visualisieren\n",
    "plt.figure(figsize=(4, 4))\n",
    "sns.heatmap(cm, annot=True, fmt=\"d\", cmap=\"coolwarm\", linewidths=0.5, square=True,\n",
    "            xticklabels=[\"Label 0\", \"Label 1\"], yticklabels=[\"Label 0\", \"Label 1\"])\n",
    "plt.xlabel(\"Predicted Labels\", fontsize=12)\n",
    "plt.ylabel(\"True Labels\", fontsize=12)\n",
    "plt.title(\"Confusion Matrix\", fontsize=14)\n",
    "plt.show()"
   ]
  },
  {
   "cell_type": "markdown",
   "metadata": {},
   "source": [
    "#### Modeltraining mit anderen Parametern\n",
    "\n",
    "(Aktivierungsfunktion in der Dense-Schicht zu sigmoid ändern,class_wight hinzufügen)"
   ]
  },
  {
   "cell_type": "code",
   "execution_count": 14,
   "metadata": {},
   "outputs": [
    {
     "name": "stderr",
     "output_type": "stream",
     "text": [
      "C:\\Users\\Nasiba\\AppData\\Local\\Packages\\PythonSoftwareFoundation.Python.3.11_qbz5n2kfra8p0\\LocalCache\\local-packages\\Python311\\site-packages\\keras\\src\\layers\\rnn\\rnn.py:200: UserWarning: Do not pass an `input_shape`/`input_dim` argument to a layer. When using Sequential models, prefer using an `Input(shape)` object as the first layer in the model instead.\n",
      "  super().__init__(**kwargs)\n"
     ]
    },
    {
     "name": "stdout",
     "output_type": "stream",
     "text": [
      "Epoch 1/10\n",
      "2560/2560 - 332s - 130ms/step - accuracy: 0.7572 - loss: 0.7651 - recall_2: 0.5748 - val_accuracy: 0.7200 - val_loss: 0.5505 - val_recall_2: 0.7228\n",
      "Epoch 2/10\n",
      "2560/2560 - 495s - 193ms/step - accuracy: 0.8013 - loss: 0.6869 - recall_2: 0.6337 - val_accuracy: 0.7811 - val_loss: 0.4454 - val_recall_2: 0.6371\n",
      "Epoch 3/10\n",
      "2560/2560 - 299s - 117ms/step - accuracy: 0.8128 - loss: 0.6523 - recall_2: 0.6489 - val_accuracy: 0.8030 - val_loss: 0.4632 - val_recall_2: 0.6172\n",
      "Epoch 4/10\n",
      "2560/2560 - 113s - 44ms/step - accuracy: 0.8215 - loss: 0.6208 - recall_2: 0.6815 - val_accuracy: 0.8085 - val_loss: 0.4553 - val_recall_2: 0.6103\n",
      "Epoch 5/10\n",
      "2560/2560 - 119s - 47ms/step - accuracy: 0.8352 - loss: 0.5863 - recall_2: 0.6922 - val_accuracy: 0.8033 - val_loss: 0.4579 - val_recall_2: 0.6372\n",
      "Epoch 6/10\n",
      "2560/2560 - 119s - 47ms/step - accuracy: 0.8424 - loss: 0.5527 - recall_2: 0.7289 - val_accuracy: 0.7798 - val_loss: 0.4390 - val_recall_2: 0.6994\n",
      "Epoch 7/10\n",
      "2560/2560 - 122s - 48ms/step - accuracy: 0.8551 - loss: 0.5117 - recall_2: 0.7609 - val_accuracy: 0.7650 - val_loss: 0.4939 - val_recall_2: 0.7156\n",
      "Epoch 8/10\n",
      "2560/2560 - 129s - 50ms/step - accuracy: 0.8659 - loss: 0.4743 - recall_2: 0.7863 - val_accuracy: 0.7790 - val_loss: 0.5273 - val_recall_2: 0.6874\n",
      "Epoch 9/10\n",
      "2560/2560 - 138s - 54ms/step - accuracy: 0.8817 - loss: 0.4352 - recall_2: 0.8076 - val_accuracy: 0.7899 - val_loss: 0.4671 - val_recall_2: 0.6565\n",
      "Epoch 10/10\n",
      "2560/2560 - 133s - 52ms/step - accuracy: 0.8908 - loss: 0.3983 - recall_2: 0.8312 - val_accuracy: 0.7920 - val_loss: 0.5037 - val_recall_2: 0.6399\n",
      "\u001b[1m1015/1015\u001b[0m \u001b[32m━━━━━━━━━━━━━━━━━━━━\u001b[0m\u001b[37m\u001b[0m \u001b[1m21s\u001b[0m 20ms/step\n"
     ]
    }
   ],
   "source": [
    "samples, max_seq_len, vector_size = X_train_vectors_2.shape\n",
    "num_classes = len(np.unique(y_train_2))\n",
    "\n",
    "\n",
    "# y_train_onehot = to_categorical(y_train, num_classes=num_classes)\n",
    "# y_test_onehot = to_categorical(y_test, num_classes=num_classes)\n",
    "# y_test_onehot_data = to_categorical(y_test_data, num_classes=num_classes)\n",
    "\n",
    "# Modellinitialisierung\n",
    "model_3 = Sequential()\n",
    "\n",
    "# LSTM-Schicht\n",
    "model_3.add(LSTM(units=128, input_shape=(max_seq_len, vector_size), return_sequences=False))\n",
    "\n",
    "# Optional: Dropout zur Vermeidung von Overfitting\n",
    "model_3.add(Dropout(0.5))\n",
    "\n",
    "# Dense-Schicht für die Ausgabe\n",
    "model_3.add(Dense(units=1, activation='sigmoid'))\n",
    "\n",
    "# Kompilieren des Modells\n",
    "model_3.compile(optimizer='adam',\n",
    "              loss='binary_crossentropy',\n",
    "              metrics=['accuracy', Recall()])\n",
    "\n",
    "class_weight = {0: 1, 1: 3} \n",
    "history_3 = model_3.fit(\n",
    "    X_train_vectors_2, np.array(y_train_2),\n",
    "    validation_data=(X_test_data_vectors, np.array(y_test_data)),\n",
    "    epochs=10,\n",
    "    batch_size=32,\n",
    "    class_weight=class_weight,\n",
    "    verbose=2\n",
    ")\n",
    "# Vorhersagen auf Testdaten\n",
    "predictions_3 = model_3.predict(X_test_data_vectors)\n",
    "threshold = 0.5  # Oder teste 0.4 oder 0.6\n",
    "predicted_classes_3 = (predictions_3 > threshold).astype(int)"
   ]
  },
  {
   "cell_type": "code",
   "execution_count": 15,
   "metadata": {},
   "outputs": [
    {
     "name": "stdout",
     "output_type": "stream",
     "text": [
      "Anzahl der 0en: 25627, Anzahl der 1en: 6839\n",
      "Einzigartige Werte in predicted_classes_2: [0 1]\n",
      "Anzahl der 0en: 25788, Anzahl der 1en: 6678\n"
     ]
    }
   ],
   "source": [
    "\n",
    "count_zeros = np.sum(y_test_data == 0)\n",
    "count_ones = np.sum(y_test_data == 1)\n",
    "print(f\"Anzahl der 0en: {count_zeros}, Anzahl der 1en: {count_ones}\")\n",
    "\n",
    "print(\"Einzigartige Werte in predicted_classes_2:\", np.unique(predicted_classes_2))\n",
    "count_zeros = np.sum(predicted_classes_2 == 0)\n",
    "count_ones = np.sum(predicted_classes_2 == 1)\n",
    "print(f\"Anzahl der 0en: {count_zeros}, Anzahl der 1en: {count_ones}\")\n"
   ]
  },
  {
   "cell_type": "code",
   "execution_count": 16,
   "metadata": {},
   "outputs": [
    {
     "name": "stdout",
     "output_type": "stream",
     "text": [
      "Classification Report:\n",
      "               precision    recall  f1-score   support\n",
      "\n",
      "     Class 0       0.90      0.83      0.86     25627\n",
      "     Class 1       0.51      0.64      0.56      6839\n",
      "\n",
      "    accuracy                           0.79     32466\n",
      "   macro avg       0.70      0.74      0.71     32466\n",
      "weighted avg       0.81      0.79      0.80     32466\n",
      "\n",
      "[[21338  4289]\n",
      " [ 2463  4376]]\n"
     ]
    },
    {
     "data": {
      "image/png": "[encoded data removed]",
      "text/plain": [
       "<Figure size 400x400 with 2 Axes>"
      ]
     },
     "metadata": {},
     "output_type": "display_data"
    }
   ],
   "source": [
    "\n",
    "\n",
    "# Klassifikationsbericht erstellen\n",
    "report = classification_report(y_test_data, predicted_classes_3, target_names=[\"Class 0\", \"Class 1\"])\n",
    "print(\"Classification Report:\\n\", report)\n",
    "\n",
    "cm = confusion_matrix(y_test_data, predicted_classes_3)\n",
    "print(cm)\n",
    "# Verwirrungsmatrix visualisieren\n",
    "plt.figure(figsize=(4, 4))\n",
    "sns.heatmap(cm, annot=True, fmt=\"d\", cmap=\"coolwarm\", linewidths=0.5, square=True,\n",
    "            xticklabels=[\"Label 0\", \"Label 1\"], yticklabels=[\"Label 0\", \"Label 1\"])\n",
    "plt.xlabel(\"Predicted Labels\", fontsize=12)\n",
    "plt.ylabel(\"True Labels\", fontsize=12)\n",
    "plt.title(\"Confusion Matrix\", fontsize=14)\n",
    "plt.show()"
   ]
  },
  {
   "cell_type": "markdown",
   "metadata": {},
   "source": [
    "Recall speziel für Klasse 1 festlegen: muss man in sigmoid nicht, da er dies automatisch macht"
   ]
  },
  {
   "cell_type": "markdown",
   "metadata": {},
   "source": [
    "#### Modeltraining mit anderen Parametern\n",
    "\n",
    "(units erhöht mit sigmoid)"
   ]
  },
  {
   "cell_type": "code",
   "execution_count": 26,
   "metadata": {},
   "outputs": [
    {
     "name": "stderr",
     "output_type": "stream",
     "text": [
      "C:\\Users\\Nasiba\\AppData\\Local\\Packages\\PythonSoftwareFoundation.Python.3.11_qbz5n2kfra8p0\\LocalCache\\local-packages\\Python311\\site-packages\\keras\\src\\layers\\rnn\\rnn.py:200: UserWarning: Do not pass an `input_shape`/`input_dim` argument to a layer. When using Sequential models, prefer using an `Input(shape)` object as the first layer in the model instead.\n",
      "  super().__init__(**kwargs)\n"
     ]
    },
    {
     "name": "stdout",
     "output_type": "stream",
     "text": [
      "Epoch 1/10\n",
      "631/631 - 34s - 55ms/step - accuracy: 0.9143 - loss: 0.3883 - recall_4: 0.4936 - val_accuracy: 0.9360 - val_loss: 0.2307 - val_recall_4: 0.3462\n",
      "Epoch 2/10\n",
      "631/631 - 31s - 48ms/step - accuracy: 0.9284 - loss: 0.4474 - recall_4: 0.3456 - val_accuracy: 0.9390 - val_loss: 0.2131 - val_recall_4: 0.1832\n",
      "Epoch 3/10\n",
      "631/631 - 32s - 51ms/step - accuracy: 0.9274 - loss: 0.3902 - recall_4: 0.4425 - val_accuracy: 0.8796 - val_loss: 0.3016 - val_recall_4: 0.6454\n",
      "Epoch 4/10\n",
      "631/631 - 36s - 58ms/step - accuracy: 0.9293 - loss: 0.3248 - recall_4: 0.5808 - val_accuracy: 0.9445 - val_loss: 0.1598 - val_recall_4: 0.5613\n",
      "Epoch 5/10\n",
      "631/631 - 33s - 52ms/step - accuracy: 0.9404 - loss: 0.2723 - recall_4: 0.6476 - val_accuracy: 0.9471 - val_loss: 0.1507 - val_recall_4: 0.5866\n",
      "Epoch 6/10\n",
      "631/631 - 31s - 50ms/step - accuracy: 0.9458 - loss: 0.2458 - recall_4: 0.6912 - val_accuracy: 0.9478 - val_loss: 0.1489 - val_recall_4: 0.4908\n",
      "Epoch 7/10\n",
      "631/631 - 31s - 50ms/step - accuracy: 0.9521 - loss: 0.2161 - recall_4: 0.7378 - val_accuracy: 0.9519 - val_loss: 0.1402 - val_recall_4: 0.5412\n",
      "Epoch 8/10\n",
      "631/631 - 32s - 50ms/step - accuracy: 0.9586 - loss: 0.1867 - recall_4: 0.7761 - val_accuracy: 0.9504 - val_loss: 0.1414 - val_recall_4: 0.5966\n",
      "Epoch 9/10\n",
      "631/631 - 32s - 51ms/step - accuracy: 0.9637 - loss: 0.1576 - recall_4: 0.8325 - val_accuracy: 0.9403 - val_loss: 0.1606 - val_recall_4: 0.6824\n",
      "Epoch 10/10\n",
      "631/631 - 32s - 51ms/step - accuracy: 0.9698 - loss: 0.1288 - recall_4: 0.8663 - val_accuracy: 0.9527 - val_loss: 0.1386 - val_recall_4: 0.5966\n",
      "\u001b[1m277/277\u001b[0m \u001b[32m━━━━━━━━━━━━━━━━━━━━\u001b[0m\u001b[37m\u001b[0m \u001b[1m6s\u001b[0m 21ms/step\n"
     ]
    }
   ],
   "source": [
    "samples, max_seq_len, vector_size = X_train_vectors_2.shape\n",
    "num_classes = len(np.unique(y_train_2))\n",
    "\n",
    "\n",
    "# y_train_onehot = to_categorical(y_train, num_classes=num_classes)\n",
    "# y_test_onehot = to_categorical(y_test, num_classes=num_classes)\n",
    "# y_test_onehot_data = to_categorical(y_test_data, num_classes=num_classes)\n",
    "\n",
    "# Modellinitialisierung\n",
    "model_6 = Sequential()\n",
    "\n",
    "# LSTM-Schicht\n",
    "model_6.add(LSTM(units=192, input_shape=(max_seq_len, vector_size), return_sequences=False))\n",
    "\n",
    "# Optional: Dropout zur Vermeidung von Overfitting\n",
    "model_6.add(Dropout(0.5))\n",
    "\n",
    "# Dense-Schicht für die Ausgabe\n",
    "model_6.add(Dense(units=1, activation='sigmoid'))\n",
    "\n",
    "# Kompilieren des Modells\n",
    "model_6.compile(optimizer='adam',\n",
    "              loss='binary_crossentropy',\n",
    "              metrics=['accuracy', Recall()])\n",
    "\n",
    "class_weight = {0: 1, 1: 3} \n",
    "history_6 = model_6.fit(\n",
    "    X_train_vectors_2, np.array(y_train_2),\n",
    "    validation_data=(X_test_data_vectors, np.array(y_test_data)),\n",
    "    epochs=10,\n",
    "    batch_size=32,\n",
    "   class_weight=class_weight,\n",
    "    verbose=2\n",
    ")\n",
    "# Vorhersagen auf Testdaten\n",
    "\n",
    "# Vorhersagen auf Testdaten\n",
    "predictions_6 = model_6.predict(X_test_data_vectors)\n",
    "threshold = 0.5  # Oder teste 0.4 oder 0.6\n",
    "predicted_classes_6 = (predictions_6 > threshold).astype(int)\n",
    "#predicted_classes_3 = np.argmax(predictions_2, axis=1)\n",
    "\n"
   ]
  },
  {
   "cell_type": "code",
   "execution_count": 27,
   "metadata": {},
   "outputs": [
    {
     "name": "stdout",
     "output_type": "stream",
     "text": [
      "Anzahl der 0en: 8239, Anzahl der 1en: 595\n",
      "Einzigartige Werte in predicted_classes_2: [0 1]\n",
      "Anzahl der 0en: 8301, Anzahl der 1en: 533\n"
     ]
    }
   ],
   "source": [
    "\n",
    "count_zeros = np.sum(y_test_data == 0)\n",
    "count_ones = np.sum(y_test_data == 1)\n",
    "print(f\"Anzahl der 0en: {count_zeros}, Anzahl der 1en: {count_ones}\")\n",
    "\n",
    "print(\"Einzigartige Werte in predicted_classes_2:\", np.unique(predicted_classes_6))\n",
    "count_zeros = np.sum(predicted_classes_6 == 0)\n",
    "count_ones = np.sum(predicted_classes_6 == 1)\n",
    "print(f\"Anzahl der 0en: {count_zeros}, Anzahl der 1en: {count_ones}\")\n"
   ]
  },
  {
   "cell_type": "code",
   "execution_count": 28,
   "metadata": {},
   "outputs": [
    {
     "name": "stdout",
     "output_type": "stream",
     "text": [
      "Classification Report:\n",
      "               precision    recall  f1-score   support\n",
      "\n",
      "     Class 0       0.97      0.98      0.97      8239\n",
      "     Class 1       0.67      0.60      0.63       595\n",
      "\n",
      "    accuracy                           0.95      8834\n",
      "   macro avg       0.82      0.79      0.80      8834\n",
      "weighted avg       0.95      0.95      0.95      8834\n",
      "\n",
      "[[8061  178]\n",
      " [ 240  355]]\n"
     ]
    },
    {
     "data": {
      "image/png": "[encoded data removed]",
      "text/plain": [
       "<Figure size 400x400 with 2 Axes>"
      ]
     },
     "metadata": {},
     "output_type": "display_data"
    }
   ],
   "source": [
    "\n",
    "\n",
    "# Klassifikationsbericht erstellen\n",
    "report = classification_report(y_test_data, predicted_classes_6, target_names=[\"Class 0\", \"Class 1\"])\n",
    "print(\"Classification Report:\\n\", report)\n",
    "\n",
    "cm = confusion_matrix(y_test_data, predicted_classes_6)\n",
    "print(cm)\n",
    "# Verwirrungsmatrix visualisieren\n",
    "plt.figure(figsize=(4, 4))\n",
    "sns.heatmap(cm, annot=True, fmt=\"d\", cmap=\"coolwarm\", linewidths=0.5, square=True,\n",
    "            xticklabels=[\"Label 0\", \"Label 1\"], yticklabels=[\"Label 0\", \"Label 1\"])\n",
    "plt.xlabel(\"Predicted Labels\", fontsize=12)\n",
    "plt.ylabel(\"True Labels\", fontsize=12)\n",
    "plt.title(\"Confusion Matrix\", fontsize=14)\n",
    "plt.show()"
   ]
  },
  {
   "cell_type": "markdown",
   "metadata": {},
   "source": [
    "#### Modeltraining mit anderen Parametern\n",
    "\n",
    "(Dropout reduzieren mit sigmoid)"
   ]
  },
  {
   "cell_type": "code",
   "execution_count": 29,
   "metadata": {},
   "outputs": [
    {
     "name": "stderr",
     "output_type": "stream",
     "text": [
      "C:\\Users\\Nasiba\\AppData\\Local\\Packages\\PythonSoftwareFoundation.Python.3.11_qbz5n2kfra8p0\\LocalCache\\local-packages\\Python311\\site-packages\\keras\\src\\layers\\rnn\\rnn.py:200: UserWarning: Do not pass an `input_shape`/`input_dim` argument to a layer. When using Sequential models, prefer using an `Input(shape)` object as the first layer in the model instead.\n",
      "  super().__init__(**kwargs)\n"
     ]
    },
    {
     "name": "stdout",
     "output_type": "stream",
     "text": [
      "Epoch 1/10\n",
      "631/631 - 29s - 45ms/step - accuracy: 0.9115 - loss: 0.4793 - recall_5: 0.2772 - val_accuracy: 0.9236 - val_loss: 0.2436 - val_recall_5: 0.4034\n",
      "Epoch 2/10\n",
      "631/631 - 25s - 40ms/step - accuracy: 0.9073 - loss: 0.4171 - recall_5: 0.4726 - val_accuracy: 0.9355 - val_loss: 0.2361 - val_recall_5: 0.0739\n",
      "Epoch 3/10\n",
      "631/631 - 26s - 41ms/step - accuracy: 0.9304 - loss: 0.4880 - recall_5: 0.1893 - val_accuracy: 0.9349 - val_loss: 0.2805 - val_recall_5: 0.0975\n",
      "Epoch 4/10\n",
      "631/631 - 25s - 40ms/step - accuracy: 0.9354 - loss: 0.4979 - recall_5: 0.1330 - val_accuracy: 0.9349 - val_loss: 0.2598 - val_recall_5: 0.0975\n",
      "Epoch 5/10\n",
      "631/631 - 25s - 40ms/step - accuracy: 0.9355 - loss: 0.4958 - recall_5: 0.1360 - val_accuracy: 0.9340 - val_loss: 0.2682 - val_recall_5: 0.1076\n",
      "Epoch 6/10\n",
      "631/631 - 25s - 40ms/step - accuracy: 0.9357 - loss: 0.4895 - recall_5: 0.1638 - val_accuracy: 0.9339 - val_loss: 0.2723 - val_recall_5: 0.1059\n",
      "Epoch 7/10\n",
      "631/631 - 26s - 41ms/step - accuracy: 0.9358 - loss: 0.4883 - recall_5: 0.1623 - val_accuracy: 0.9341 - val_loss: 0.2680 - val_recall_5: 0.1076\n",
      "Epoch 8/10\n",
      "631/631 - 25s - 40ms/step - accuracy: 0.9312 - loss: 0.4375 - recall_5: 0.2404 - val_accuracy: 0.9406 - val_loss: 0.1775 - val_recall_5: 0.3513\n",
      "Epoch 9/10\n",
      "631/631 - 26s - 41ms/step - accuracy: 0.9305 - loss: 0.2927 - recall_5: 0.6326 - val_accuracy: 0.9439 - val_loss: 0.1601 - val_recall_5: 0.5395\n",
      "Epoch 10/10\n",
      "631/631 - 26s - 41ms/step - accuracy: 0.9437 - loss: 0.2512 - recall_5: 0.6792 - val_accuracy: 0.9457 - val_loss: 0.1669 - val_recall_5: 0.6319\n",
      "\u001b[1m277/277\u001b[0m \u001b[32m━━━━━━━━━━━━━━━━━━━━\u001b[0m\u001b[37m\u001b[0m \u001b[1m5s\u001b[0m 17ms/step\n"
     ]
    }
   ],
   "source": [
    "samples, max_seq_len, vector_size = X_train_vectors_2.shape\n",
    "num_classes = len(np.unique(y_train_2))\n",
    "\n",
    "\n",
    "# y_train_onehot = to_categorical(y_train, num_classes=num_classes)\n",
    "# y_test_onehot = to_categorical(y_test, num_classes=num_classes)\n",
    "# y_test_onehot_data = to_categorical(y_test_data, num_classes=num_classes)\n",
    "\n",
    "# Modellinitialisierung\n",
    "model_4 = Sequential()\n",
    "\n",
    "# LSTM-Schicht\n",
    "model_4.add(LSTM(units=128, input_shape=(max_seq_len, vector_size), return_sequences=False))\n",
    "\n",
    "# Optional: Dropout zur Vermeidung von Overfitting\n",
    "model_4.add(Dropout(0.3))\n",
    "\n",
    "# Dense-Schicht für die Ausgabe\n",
    "model_4.add(Dense(units=1, activation='sigmoid'))\n",
    "\n",
    "# Kompilieren des Modells\n",
    "model_4.compile(optimizer='adam',\n",
    "              loss='binary_crossentropy',\n",
    "              metrics=['accuracy', Recall()])\n",
    "\n",
    "class_weight = {0: 1, 1: 3} \n",
    "history_4 = model_4.fit(\n",
    "    X_train_vectors_2, np.array(y_train_2),\n",
    "    validation_data=(X_test_data_vectors, np.array(y_test_data)),\n",
    "    epochs=10,\n",
    "    batch_size=32,\n",
    "    class_weight=class_weight,\n",
    "    verbose=2\n",
    ")\n",
    "# Vorhersagen auf Testdaten\n",
    "\n",
    "predictions_4 = model_4.predict(X_test_data_vectors)\n",
    "\n",
    "threshold = 0.5  # Oder teste 0.4 oder 0.6\n",
    "predicted_classes_4= (predictions_4 > threshold).astype(int)\n",
    "\n"
   ]
  },
  {
   "cell_type": "code",
   "execution_count": 30,
   "metadata": {},
   "outputs": [
    {
     "name": "stdout",
     "output_type": "stream",
     "text": [
      "Classification Report:\n",
      "               precision    recall  f1-score   support\n",
      "\n",
      "     Class 0       0.97      0.97      0.97      8239\n",
      "     Class 1       0.59      0.63      0.61       595\n",
      "\n",
      "    accuracy                           0.95      8834\n",
      "   macro avg       0.78      0.80      0.79      8834\n",
      "weighted avg       0.95      0.95      0.95      8834\n",
      "\n",
      "[[7978  261]\n",
      " [ 219  376]]\n"
     ]
    },
    {
     "data": {
      "image/png": "[encoded data removed]",
      "text/plain": [
       "<Figure size 400x400 with 2 Axes>"
      ]
     },
     "metadata": {},
     "output_type": "display_data"
    }
   ],
   "source": [
    "\n",
    "\n",
    "# Klassifikationsbericht erstellen\n",
    "report = classification_report(y_test_data, predicted_classes_4, target_names=[\"Class 0\", \"Class 1\"])\n",
    "print(\"Classification Report:\\n\", report)\n",
    "\n",
    "cm = confusion_matrix(y_test_data, predicted_classes_4)\n",
    "print(cm)\n",
    "# Verwirrungsmatrix visualisieren\n",
    "plt.figure(figsize=(4, 4))\n",
    "sns.heatmap(cm, annot=True, fmt=\"d\", cmap=\"coolwarm\", linewidths=0.5, square=True,\n",
    "            xticklabels=[\"Label 0\", \"Label 1\"], yticklabels=[\"Label 0\", \"Label 1\"])\n",
    "plt.xlabel(\"Predicted Labels\", fontsize=12)\n",
    "plt.ylabel(\"True Labels\", fontsize=12)\n",
    "plt.title(\"Confusion Matrix\", fontsize=14)\n",
    "plt.show()"
   ]
  },
  {
   "cell_type": "markdown",
   "metadata": {},
   "source": [
    "#### Modeltraining mit anderen Parametern\n",
    "\n",
    "(Epochenerhöhung mit sigmoid)"
   ]
  },
  {
   "cell_type": "code",
   "execution_count": 31,
   "metadata": {},
   "outputs": [
    {
     "name": "stderr",
     "output_type": "stream",
     "text": [
      "C:\\Users\\Nasiba\\AppData\\Local\\Packages\\PythonSoftwareFoundation.Python.3.11_qbz5n2kfra8p0\\LocalCache\\local-packages\\Python311\\site-packages\\keras\\src\\layers\\rnn\\rnn.py:200: UserWarning: Do not pass an `input_shape`/`input_dim` argument to a layer. When using Sequential models, prefer using an `Input(shape)` object as the first layer in the model instead.\n",
      "  super().__init__(**kwargs)\n"
     ]
    },
    {
     "name": "stdout",
     "output_type": "stream",
     "text": [
      "Epoch 1/20\n",
      "631/631 - 29s - 47ms/step - accuracy: 0.9243 - loss: 0.3451 - recall_6: 0.5349 - val_accuracy: 0.9449 - val_loss: 0.1577 - val_recall_6: 0.5395\n",
      "Epoch 2/20\n",
      "631/631 - 26s - 41ms/step - accuracy: 0.9408 - loss: 0.2914 - recall_6: 0.6304 - val_accuracy: 0.9509 - val_loss: 0.1542 - val_recall_6: 0.4790\n",
      "Epoch 3/20\n",
      "631/631 - 26s - 41ms/step - accuracy: 0.9429 - loss: 0.2729 - recall_6: 0.6604 - val_accuracy: 0.9435 - val_loss: 0.1642 - val_recall_6: 0.6034\n",
      "Epoch 4/20\n",
      "631/631 - 26s - 41ms/step - accuracy: 0.9500 - loss: 0.2520 - recall_6: 0.6957 - val_accuracy: 0.9448 - val_loss: 0.1701 - val_recall_6: 0.6101\n",
      "Epoch 5/20\n",
      "631/631 - 26s - 41ms/step - accuracy: 0.9530 - loss: 0.2284 - recall_6: 0.7115 - val_accuracy: 0.8751 - val_loss: 0.2124 - val_recall_6: 0.8286\n",
      "Epoch 6/20\n",
      "631/631 - 26s - 41ms/step - accuracy: 0.9559 - loss: 0.2139 - recall_6: 0.7724 - val_accuracy: 0.9356 - val_loss: 0.1650 - val_recall_6: 0.6941\n",
      "Epoch 7/20\n",
      "631/631 - 26s - 41ms/step - accuracy: 0.9566 - loss: 0.1893 - recall_6: 0.8129 - val_accuracy: 0.9534 - val_loss: 0.1383 - val_recall_6: 0.5815\n",
      "Epoch 8/20\n",
      "631/631 - 26s - 42ms/step - accuracy: 0.9609 - loss: 0.1701 - recall_6: 0.8460 - val_accuracy: 0.9442 - val_loss: 0.1646 - val_recall_6: 0.6672\n",
      "Epoch 9/20\n",
      "631/631 - 26s - 41ms/step - accuracy: 0.9698 - loss: 0.1467 - recall_6: 0.8640 - val_accuracy: 0.9415 - val_loss: 0.1677 - val_recall_6: 0.7042\n",
      "Epoch 10/20\n",
      "631/631 - 27s - 43ms/step - accuracy: 0.9730 - loss: 0.1282 - recall_6: 0.8678 - val_accuracy: 0.9441 - val_loss: 0.1679 - val_recall_6: 0.6807\n",
      "Epoch 11/20\n",
      "631/631 - 26s - 42ms/step - accuracy: 0.9761 - loss: 0.1129 - recall_6: 0.8790 - val_accuracy: 0.9474 - val_loss: 0.1800 - val_recall_6: 0.6504\n",
      "Epoch 12/20\n",
      "631/631 - 26s - 41ms/step - accuracy: 0.9520 - loss: 0.1891 - recall_6: 0.8159 - val_accuracy: 0.9492 - val_loss: 0.1600 - val_recall_6: 0.5277\n",
      "Epoch 13/20\n",
      "631/631 - 28s - 44ms/step - accuracy: 0.9668 - loss: 0.1673 - recall_6: 0.8152 - val_accuracy: 0.9373 - val_loss: 0.1795 - val_recall_6: 0.7160\n",
      "Epoch 14/20\n",
      "631/631 - 26s - 41ms/step - accuracy: 0.9733 - loss: 0.1278 - recall_6: 0.8700 - val_accuracy: 0.9486 - val_loss: 0.1615 - val_recall_6: 0.6689\n",
      "Epoch 15/20\n",
      "631/631 - 26s - 41ms/step - accuracy: 0.9724 - loss: 0.1123 - recall_6: 0.8963 - val_accuracy: 0.9521 - val_loss: 0.1623 - val_recall_6: 0.6151\n",
      "Epoch 16/20\n",
      "631/631 - 27s - 43ms/step - accuracy: 0.9723 - loss: 0.1420 - recall_6: 0.8422 - val_accuracy: 0.9526 - val_loss: 0.1650 - val_recall_6: 0.5176\n",
      "Epoch 17/20\n",
      "631/631 - 28s - 45ms/step - accuracy: 0.9665 - loss: 0.1558 - recall_6: 0.7994 - val_accuracy: 0.9469 - val_loss: 0.1459 - val_recall_6: 0.5983\n",
      "Epoch 18/20\n",
      "631/631 - 26s - 41ms/step - accuracy: 0.9781 - loss: 0.0931 - recall_6: 0.9113 - val_accuracy: 0.9492 - val_loss: 0.1446 - val_recall_6: 0.6319\n",
      "Epoch 19/20\n",
      "631/631 - 26s - 41ms/step - accuracy: 0.9834 - loss: 0.0763 - recall_6: 0.9369 - val_accuracy: 0.9477 - val_loss: 0.1745 - val_recall_6: 0.5613\n",
      "Epoch 20/20\n",
      "631/631 - 26s - 42ms/step - accuracy: 0.9842 - loss: 0.0721 - recall_6: 0.9414 - val_accuracy: 0.9559 - val_loss: 0.1897 - val_recall_6: 0.6017\n",
      "\u001b[1m277/277\u001b[0m \u001b[32m━━━━━━━━━━━━━━━━━━━━\u001b[0m\u001b[37m\u001b[0m \u001b[1m5s\u001b[0m 16ms/step\n"
     ]
    }
   ],
   "source": [
    "samples, max_seq_len, vector_size = X_train_vectors_2.shape\n",
    "num_classes = len(np.unique(y_train_2))\n",
    "\n",
    "\n",
    "# y_train_onehot = to_categorical(y_train, num_classes=num_classes)\n",
    "# y_test_onehot = to_categorical(y_test, num_classes=num_classes)\n",
    "# y_test_onehot_data = to_categorical(y_test_data, num_classes=num_classes)\n",
    "\n",
    "# Modellinitialisierung\n",
    "model_7 = Sequential()\n",
    "\n",
    "# LSTM-Schicht\n",
    "model_7.add(LSTM(units=128, input_shape=(max_seq_len, vector_size), return_sequences=False))\n",
    "\n",
    "# Optional: Dropout zur Vermeidung von Overfitting\n",
    "model_7 .add(Dropout(0.5))\n",
    "\n",
    "# Dense-Schicht für die Ausgabe\n",
    "model_7 .add(Dense(units=1, activation='sigmoid'))\n",
    "\n",
    "# Kompilieren des Modells\n",
    "model_7 .compile(optimizer='adam',\n",
    "              loss='binary_crossentropy',\n",
    "              metrics=['accuracy', Recall()])\n",
    "\n",
    "class_weight = {0: 1, 1: 3} \n",
    "history_7 = model_7 .fit(\n",
    "    X_train_vectors_2, np.array(y_train_2),\n",
    "    validation_data=(X_test_data_vectors, np.array(y_test_data)),\n",
    "    epochs=20,\n",
    "    batch_size=32,\n",
    "    class_weight=class_weight,\n",
    "    verbose=2\n",
    ")\n",
    "# Vorhersagen auf Testdaten\n",
    "\n",
    "predictions_7 =model_7.predict(X_test_data_vectors)\n",
    "\n",
    "threshold = 0.5  # Oder teste 0.4 oder 0.6\n",
    "predicted_classes_7 = (predictions_7 > threshold).astype(int)\n",
    "\n"
   ]
  },
  {
   "cell_type": "code",
   "execution_count": 34,
   "metadata": {},
   "outputs": [
    {
     "name": "stdout",
     "output_type": "stream",
     "text": [
      "Classification Report:\n",
      "               precision    recall  f1-score   support\n",
      "\n",
      "     Class 0       0.97      0.98      0.98      8239\n",
      "     Class 1       0.70      0.60      0.65       595\n",
      "\n",
      "    accuracy                           0.96      8834\n",
      "   macro avg       0.84      0.79      0.81      8834\n",
      "weighted avg       0.95      0.96      0.95      8834\n",
      "\n",
      "[[8086  153]\n",
      " [ 237  358]]\n"
     ]
    },
    {
     "data": {
      "image/png": "[encoded data removed]",
      "text/plain": [
       "<Figure size 400x400 with 2 Axes>"
      ]
     },
     "metadata": {},
     "output_type": "display_data"
    }
   ],
   "source": [
    "\n",
    "\n",
    "# Klassifikationsbericht erstellen\n",
    "report = classification_report(y_test_data, predicted_classes_7, target_names=[\"Class 0\", \"Class 1\"])\n",
    "print(\"Classification Report:\\n\", report)\n",
    "\n",
    "cm = confusion_matrix(y_test_data, predicted_classes_7)\n",
    "print(cm)\n",
    "# Verwirrungsmatrix visualisieren\n",
    "plt.figure(figsize=(4, 4))\n",
    "sns.heatmap(cm, annot=True, fmt=\"d\", cmap=\"coolwarm\", linewidths=0.5, square=True,\n",
    "            xticklabels=[\"Label 0\", \"Label 1\"], yticklabels=[\"Label 0\", \"Label 1\"])\n",
    "plt.xlabel(\"Predicted Labels\", fontsize=12)\n",
    "plt.ylabel(\"True Labels\", fontsize=12)\n",
    "plt.title(\"Confusion Matrix\", fontsize=14)\n",
    "plt.show()"
   ]
  },
  {
   "cell_type": "markdown",
   "metadata": {},
   "source": [
    "#### Modeltraining mit anderen Parametern\n",
    "\n",
    "Kombi"
   ]
  },
  {
   "cell_type": "code",
   "execution_count": 35,
   "metadata": {},
   "outputs": [
    {
     "name": "stderr",
     "output_type": "stream",
     "text": [
      "C:\\Users\\Nasiba\\AppData\\Local\\Packages\\PythonSoftwareFoundation.Python.3.11_qbz5n2kfra8p0\\LocalCache\\local-packages\\Python311\\site-packages\\keras\\src\\layers\\rnn\\rnn.py:200: UserWarning: Do not pass an `input_shape`/`input_dim` argument to a layer. When using Sequential models, prefer using an `Input(shape)` object as the first layer in the model instead.\n",
      "  super().__init__(**kwargs)\n"
     ]
    },
    {
     "name": "stdout",
     "output_type": "stream",
     "text": [
      "Epoch 1/20\n",
      "631/631 - 80s - 126ms/step - accuracy: 0.9305 - loss: 0.4929 - recall_8: 0.2006 - val_accuracy: 0.9295 - val_loss: 0.2579 - val_recall_8: 0.2672\n",
      "Epoch 2/20\n",
      "631/631 - 88s - 139ms/step - accuracy: 0.9320 - loss: 0.5215 - recall_8: 0.0526 - val_accuracy: 0.9326 - val_loss: 0.2832 - val_recall_8: 0.0151\n",
      "Epoch 3/20\n",
      "631/631 - 75s - 119ms/step - accuracy: 0.9340 - loss: 0.5174 - recall_8: 0.0466 - val_accuracy: 0.9325 - val_loss: 0.2787 - val_recall_8: 0.0319\n",
      "Epoch 4/20\n",
      "631/631 - 102s - 162ms/step - accuracy: 0.9160 - loss: 0.4187 - recall_8: 0.2374 - val_accuracy: 0.9326 - val_loss: 0.2135 - val_recall_8: 0.0000e+00\n",
      "Epoch 5/20\n",
      "631/631 - 94s - 150ms/step - accuracy: 0.9076 - loss: 0.3509 - recall_8: 0.3974 - val_accuracy: 0.9223 - val_loss: 0.2085 - val_recall_8: 0.2319\n",
      "Epoch 6/20\n",
      "631/631 - 102s - 161ms/step - accuracy: 0.9078 - loss: 0.3324 - recall_8: 0.3907 - val_accuracy: 0.9350 - val_loss: 0.1849 - val_recall_8: 0.2353\n",
      "Epoch 7/20\n",
      "631/631 - 95s - 151ms/step - accuracy: 0.9178 - loss: 0.2907 - recall_8: 0.4884 - val_accuracy: 0.9290 - val_loss: 0.2000 - val_recall_8: 0.4034\n",
      "Epoch 8/20\n",
      "631/631 - 105s - 166ms/step - accuracy: 0.9360 - loss: 0.3781 - recall_8: 0.2615 - val_accuracy: 0.9325 - val_loss: 0.3198 - val_recall_8: 0.0034\n",
      "Epoch 9/20\n",
      "631/631 - 89s - 141ms/step - accuracy: 0.9412 - loss: 0.2715 - recall_8: 0.5883 - val_accuracy: 0.9467 - val_loss: 0.1467 - val_recall_8: 0.6034\n",
      "Epoch 10/20\n",
      "631/631 - 98s - 155ms/step - accuracy: 0.9563 - loss: 0.1859 - recall_8: 0.8062 - val_accuracy: 0.9425 - val_loss: 0.1651 - val_recall_8: 0.6655\n",
      "Epoch 11/20\n",
      "631/631 - 110s - 174ms/step - accuracy: 0.9632 - loss: 0.1597 - recall_8: 0.8482 - val_accuracy: 0.9521 - val_loss: 0.1468 - val_recall_8: 0.5681\n",
      "Epoch 12/20\n",
      "631/631 - 70s - 111ms/step - accuracy: 0.9699 - loss: 0.1365 - recall_8: 0.8708 - val_accuracy: 0.9445 - val_loss: 0.1710 - val_recall_8: 0.6403\n",
      "Epoch 13/20\n",
      "631/631 - 70s - 111ms/step - accuracy: 0.9744 - loss: 0.1196 - recall_8: 0.8978 - val_accuracy: 0.9389 - val_loss: 0.1866 - val_recall_8: 0.6639\n",
      "Epoch 14/20\n",
      "631/631 - 71s - 113ms/step - accuracy: 0.9802 - loss: 0.1038 - recall_8: 0.9121 - val_accuracy: 0.9460 - val_loss: 0.1872 - val_recall_8: 0.6303\n",
      "Epoch 15/20\n",
      "631/631 - 63s - 100ms/step - accuracy: 0.9857 - loss: 0.0856 - recall_8: 0.9196 - val_accuracy: 0.9429 - val_loss: 0.1723 - val_recall_8: 0.6118\n",
      "Epoch 16/20\n",
      "631/631 - 63s - 100ms/step - accuracy: 0.9873 - loss: 0.0725 - recall_8: 0.9399 - val_accuracy: 0.9411 - val_loss: 0.1868 - val_recall_8: 0.6605\n",
      "Epoch 17/20\n",
      "631/631 - 110s - 174ms/step - accuracy: 0.9900 - loss: 0.0649 - recall_8: 0.9474 - val_accuracy: 0.9448 - val_loss: 0.2037 - val_recall_8: 0.6151\n",
      "Epoch 18/20\n",
      "631/631 - 94s - 149ms/step - accuracy: 0.9914 - loss: 0.0584 - recall_8: 0.9549 - val_accuracy: 0.9479 - val_loss: 0.1915 - val_recall_8: 0.5933\n",
      "Epoch 19/20\n",
      "631/631 - 77s - 122ms/step - accuracy: 0.9922 - loss: 0.0547 - recall_8: 0.9557 - val_accuracy: 0.9434 - val_loss: 0.2051 - val_recall_8: 0.6538\n",
      "Epoch 20/20\n",
      "631/631 - 79s - 126ms/step - accuracy: 0.9932 - loss: 0.0464 - recall_8: 0.9647 - val_accuracy: 0.9453 - val_loss: 0.2195 - val_recall_8: 0.6521\n",
      "\u001b[1m277/277\u001b[0m \u001b[32m━━━━━━━━━━━━━━━━━━━━\u001b[0m\u001b[37m\u001b[0m \u001b[1m21s\u001b[0m 76ms/step\n"
     ]
    }
   ],
   "source": [
    "samples, max_seq_len, vector_size = X_train_vectors_2.shape\n",
    "num_classes = len(np.unique(y_train_2))\n",
    "\n",
    "\n",
    "# y_train_onehot = to_categorical(y_train, num_classes=num_classes)\n",
    "# y_test_onehot = to_categorical(y_test, num_classes=num_classes)\n",
    "# y_test_onehot_data = to_categorical(y_test_data, num_classes=num_classes)\n",
    "\n",
    "# Modellinitialisierung\n",
    "model_8 = Sequential()\n",
    "\n",
    "# LSTM-Schicht\n",
    "model_8.add(LSTM(units=256, input_shape=(max_seq_len, vector_size), return_sequences=False))\n",
    "\n",
    "# Optional: Dropout zur Vermeidung von Overfitting\n",
    "model_8.add(Dropout(0.3))\n",
    "\n",
    "# Dense-Schicht für die Ausgabe\n",
    "model_8.add(Dense(units=1, activation='sigmoid'))\n",
    "\n",
    "# Kompilieren des Modells\n",
    "model_8.compile(optimizer='adam',\n",
    "              loss='binary_crossentropy',\n",
    "              metrics=['accuracy', Recall()])\n",
    "\n",
    "class_weight = {0: 1, 1: 3} \n",
    "history_8 = model_8.fit(\n",
    "    X_train_vectors_2, np.array(y_train_2),\n",
    "    validation_data=(X_test_data_vectors, np.array(y_test_data)),\n",
    "    epochs=20,\n",
    "    batch_size=32,\n",
    "    class_weight=class_weight,\n",
    "    verbose=2\n",
    ")\n",
    "# Vorhersagen auf Testdaten\n",
    "\n",
    "predictions_8 = model_8.predict(X_test_data_vectors)\n",
    "\n",
    "threshold = 0.5  # Oder teste 0.4 oder 0.6\n",
    "predicted_classes_8= (predictions_8 > threshold).astype(int)\n",
    "\n"
   ]
  },
  {
   "cell_type": "code",
   "execution_count": 36,
   "metadata": {},
   "outputs": [
    {
     "name": "stdout",
     "output_type": "stream",
     "text": [
      "Classification Report:\n",
      "               precision    recall  f1-score   support\n",
      "\n",
      "     Class 0       0.97      0.97      0.97      8239\n",
      "     Class 1       0.58      0.65      0.62       595\n",
      "\n",
      "    accuracy                           0.95      8834\n",
      "   macro avg       0.78      0.81      0.79      8834\n",
      "weighted avg       0.95      0.95      0.95      8834\n",
      "\n",
      "[[7963  276]\n",
      " [ 207  388]]\n"
     ]
    },
    {
     "data": {
      "image/png": "[encoded data removed]",
      "text/plain": [
       "<Figure size 400x400 with 2 Axes>"
      ]
     },
     "metadata": {},
     "output_type": "display_data"
    }
   ],
   "source": [
    "\n",
    "\n",
    "# Klassifikationsbericht erstellen\n",
    "report = classification_report(y_test_data, predicted_classes_8, target_names=[\"Class 0\", \"Class 1\"])\n",
    "print(\"Classification Report:\\n\", report)\n",
    "\n",
    "cm = confusion_matrix(y_test_data, predicted_classes_8)\n",
    "print(cm)\n",
    "# Verwirrungsmatrix visualisieren\n",
    "plt.figure(figsize=(4, 4))\n",
    "sns.heatmap(cm, annot=True, fmt=\"d\", cmap=\"coolwarm\", linewidths=0.5, square=True,\n",
    "            xticklabels=[\"Label 0\", \"Label 1\"], yticklabels=[\"Label 0\", \"Label 1\"])\n",
    "plt.xlabel(\"Predicted Labels\", fontsize=12)\n",
    "plt.ylabel(\"True Labels\", fontsize=12)\n",
    "plt.title(\"Confusion Matrix\", fontsize=14)\n",
    "plt.show()"
   ]
  },
  {
   "cell_type": "markdown",
   "metadata": {},
   "source": [
    "#### Modeltraining mit anderen Parametern\n",
    "\n",
    "Batchsize Erhöhung"
   ]
  },
  {
   "cell_type": "code",
   "execution_count": 37,
   "metadata": {},
   "outputs": [
    {
     "name": "stderr",
     "output_type": "stream",
     "text": [
      "C:\\Users\\Nasiba\\AppData\\Local\\Packages\\PythonSoftwareFoundation.Python.3.11_qbz5n2kfra8p0\\LocalCache\\local-packages\\Python311\\site-packages\\keras\\src\\layers\\rnn\\rnn.py:200: UserWarning: Do not pass an `input_shape`/`input_dim` argument to a layer. When using Sequential models, prefer using an `Input(shape)` object as the first layer in the model instead.\n",
      "  super().__init__(**kwargs)\n"
     ]
    },
    {
     "name": "stdout",
     "output_type": "stream",
     "text": [
      "Epoch 1/10\n",
      "316/316 - 60s - 189ms/step - accuracy: 0.9958 - loss: 0.0342 - recall_8: 0.9737 - val_accuracy: 0.9475 - val_loss: 0.2391 - val_recall_8: 0.6168\n",
      "Epoch 2/10\n",
      "316/316 - 72s - 228ms/step - accuracy: 0.9980 - loss: 0.0258 - recall_8: 0.9797 - val_accuracy: 0.9483 - val_loss: 0.2505 - val_recall_8: 0.6168\n",
      "Epoch 3/10\n",
      "316/316 - 51s - 161ms/step - accuracy: 0.9968 - loss: 0.0291 - recall_8: 0.9745 - val_accuracy: 0.9501 - val_loss: 0.2368 - val_recall_8: 0.5496\n",
      "Epoch 4/10\n",
      "316/316 - 47s - 148ms/step - accuracy: 0.9975 - loss: 0.0251 - recall_8: 0.9797 - val_accuracy: 0.9504 - val_loss: 0.2524 - val_recall_8: 0.5832\n",
      "Epoch 5/10\n",
      "316/316 - 59s - 188ms/step - accuracy: 0.9973 - loss: 0.0254 - recall_8: 0.9790 - val_accuracy: 0.9466 - val_loss: 0.2633 - val_recall_8: 0.6134\n",
      "Epoch 6/10\n",
      "316/316 - 57s - 179ms/step - accuracy: 0.9973 - loss: 0.0250 - recall_8: 0.9805 - val_accuracy: 0.9510 - val_loss: 0.2143 - val_recall_8: 0.5395\n",
      "Epoch 7/10\n",
      "316/316 - 46s - 146ms/step - accuracy: 0.9975 - loss: 0.0223 - recall_8: 0.9797 - val_accuracy: 0.9392 - val_loss: 0.2769 - val_recall_8: 0.6538\n",
      "Epoch 8/10\n",
      "316/316 - 45s - 143ms/step - accuracy: 0.9965 - loss: 0.0272 - recall_8: 0.9782 - val_accuracy: 0.9501 - val_loss: 0.2536 - val_recall_8: 0.5815\n",
      "Epoch 9/10\n",
      "316/316 - 68s - 216ms/step - accuracy: 0.9957 - loss: 0.0266 - recall_8: 0.9775 - val_accuracy: 0.9489 - val_loss: 0.2232 - val_recall_8: 0.6067\n",
      "Epoch 10/10\n",
      "316/316 - 52s - 166ms/step - accuracy: 0.9973 - loss: 0.0217 - recall_8: 0.9820 - val_accuracy: 0.9495 - val_loss: 0.2646 - val_recall_8: 0.6118\n",
      "\u001b[1m277/277\u001b[0m \u001b[32m━━━━━━━━━━━━━━━━━━━━\u001b[0m\u001b[37m\u001b[0m \u001b[1m11s\u001b[0m 36ms/step\n"
     ]
    }
   ],
   "source": [
    "samples, max_seq_len, vector_size = X_train_vectors_2.shape\n",
    "num_classes = len(np.unique(y_train_2))\n",
    "\n",
    "\n",
    "# y_train_onehot = to_categorical(y_train, num_classes=num_classes)\n",
    "# y_test_onehot = to_categorical(y_test, num_classes=num_classes)\n",
    "# y_test_onehot_data = to_categorical(y_test_data, num_classes=num_classes)\n",
    "\n",
    "# Modellinitialisierung\n",
    "model_9 = Sequential()\n",
    "\n",
    "# LSTM-Schicht\n",
    "model_9.add(LSTM(units=128, input_shape=(max_seq_len, vector_size), return_sequences=False))\n",
    "\n",
    "# Optional: Dropout zur Vermeidung von Overfitting\n",
    "model_9.add(Dropout(0.5))\n",
    "\n",
    "# Dense-Schicht für die Ausgabe\n",
    "model_9.add(Dense(units=1, activation='sigmoid'))\n",
    "\n",
    "# Kompilieren des Modells\n",
    "model_9.compile(optimizer='adam',\n",
    "              loss='binary_crossentropy',\n",
    "              metrics=['accuracy', Recall()])\n",
    "\n",
    "class_weight = {0: 1, 1: 3} \n",
    "history_9 = model_8.fit(\n",
    "    X_train_vectors_2, np.array(y_train_2),\n",
    "    validation_data=(X_test_data_vectors, np.array(y_test_data)),\n",
    "    epochs=10,\n",
    "    batch_size=64,\n",
    "    class_weight=class_weight,\n",
    "    verbose=2\n",
    ")\n",
    "# Vorhersagen auf Testdaten\n",
    "\n",
    "predictions_9 = model_9.predict(X_test_data_vectors)\n",
    "\n",
    "threshold = 0.5  # Oder teste 0.4 oder 0.6\n",
    "predicted_classes_9= (predictions_9 > threshold).astype(int)\n",
    "\n"
   ]
  },
  {
   "cell_type": "code",
   "execution_count": 38,
   "metadata": {},
   "outputs": [
    {
     "name": "stdout",
     "output_type": "stream",
     "text": [
      "Classification Report:\n",
      "               precision    recall  f1-score   support\n",
      "\n",
      "     Class 0       0.93      0.69      0.79      8239\n",
      "     Class 1       0.05      0.24      0.09       595\n",
      "\n",
      "    accuracy                           0.66      8834\n",
      "   macro avg       0.49      0.46      0.44      8834\n",
      "weighted avg       0.87      0.66      0.74      8834\n",
      "\n",
      "[[5680 2559]\n",
      " [ 452  143]]\n"
     ]
    },
    {
     "data": {
      "image/png": "[encoded data removed]",
      "text/plain": [
       "<Figure size 400x400 with 2 Axes>"
      ]
     },
     "metadata": {},
     "output_type": "display_data"
    }
   ],
   "source": [
    "\n",
    "\n",
    "# Klassifikationsbericht erstellen\n",
    "report = classification_report(y_test_data, predicted_classes_9, target_names=[\"Class 0\", \"Class 1\"])\n",
    "print(\"Classification Report:\\n\", report)\n",
    "\n",
    "cm = confusion_matrix(y_test_data, predicted_classes_9)\n",
    "print(cm)\n",
    "# Verwirrungsmatrix visualisieren\n",
    "plt.figure(figsize=(4, 4))\n",
    "sns.heatmap(cm, annot=True, fmt=\"d\", cmap=\"coolwarm\", linewidths=0.5, square=True,\n",
    "            xticklabels=[\"Label 0\", \"Label 1\"], yticklabels=[\"Label 0\", \"Label 1\"])\n",
    "plt.xlabel(\"Predicted Labels\", fontsize=12)\n",
    "plt.ylabel(\"True Labels\", fontsize=12)\n",
    "plt.title(\"Confusion Matrix\", fontsize=14)\n",
    "plt.show()"
   ]
  },
  {
   "cell_type": "markdown",
   "metadata": {},
   "source": [
    "Epcohenerhöhung, dropout Reduzierung "
   ]
  },
  {
   "cell_type": "code",
   "execution_count": 10,
   "metadata": {},
   "outputs": [
    {
     "name": "stderr",
     "output_type": "stream",
     "text": [
      "C:\\Users\\Nasiba\\AppData\\Local\\Packages\\PythonSoftwareFoundation.Python.3.11_qbz5n2kfra8p0\\LocalCache\\local-packages\\Python311\\site-packages\\keras\\src\\layers\\rnn\\rnn.py:200: UserWarning: Do not pass an `input_shape`/`input_dim` argument to a layer. When using Sequential models, prefer using an `Input(shape)` object as the first layer in the model instead.\n",
      "  super().__init__(**kwargs)\n"
     ]
    },
    {
     "name": "stdout",
     "output_type": "stream",
     "text": [
      "Epoch 1/20\n",
      "2560/2560 - 119s - 47ms/step - accuracy: 0.7782 - loss: 0.7485 - recall: 0.5611 - val_accuracy: 0.7572 - val_loss: 0.5042 - val_recall: 0.6657\n",
      "Epoch 2/20\n",
      "2560/2560 - 97s - 38ms/step - accuracy: 0.8062 - loss: 0.6789 - recall: 0.6170 - val_accuracy: 0.7472 - val_loss: 0.5188 - val_recall: 0.7131\n",
      "Epoch 3/20\n",
      "2560/2560 - 113s - 44ms/step - accuracy: 0.8214 - loss: 0.6443 - recall: 0.6346 - val_accuracy: 0.7297 - val_loss: 0.5480 - val_recall: 0.7621\n",
      "Epoch 4/20\n",
      "2560/2560 - 104s - 41ms/step - accuracy: 0.8261 - loss: 0.6088 - recall: 0.6777 - val_accuracy: 0.8014 - val_loss: 0.4383 - val_recall: 0.6364\n",
      "Epoch 5/20\n",
      "2560/2560 - 106s - 42ms/step - accuracy: 0.8372 - loss: 0.5721 - recall: 0.7008 - val_accuracy: 0.7948 - val_loss: 0.4371 - val_recall: 0.6590\n",
      "Epoch 6/20\n",
      "2560/2560 - 104s - 41ms/step - accuracy: 0.8457 - loss: 0.5382 - recall: 0.7398 - val_accuracy: 0.7991 - val_loss: 0.4503 - val_recall: 0.6399\n",
      "Epoch 7/20\n",
      "2560/2560 - 115s - 45ms/step - accuracy: 0.8547 - loss: 0.4991 - recall: 0.7748 - val_accuracy: 0.7837 - val_loss: 0.4594 - val_recall: 0.6761\n",
      "Epoch 8/20\n",
      "2560/2560 - 123s - 48ms/step - accuracy: 0.8726 - loss: 0.4607 - recall: 0.7887 - val_accuracy: 0.7798 - val_loss: 0.4977 - val_recall: 0.6688\n",
      "Epoch 9/20\n",
      "2560/2560 - 117s - 46ms/step - accuracy: 0.8836 - loss: 0.4231 - recall: 0.8160 - val_accuracy: 0.7451 - val_loss: 0.5124 - val_recall: 0.7409\n",
      "Epoch 10/20\n",
      "2560/2560 - 113s - 44ms/step - accuracy: 0.8924 - loss: 0.3872 - recall: 0.8450 - val_accuracy: 0.7917 - val_loss: 0.5329 - val_recall: 0.6480\n",
      "Epoch 11/20\n",
      "2560/2560 - 120s - 47ms/step - accuracy: 0.9020 - loss: 0.3576 - recall: 0.8593 - val_accuracy: 0.7963 - val_loss: 0.5176 - val_recall: 0.6182\n",
      "Epoch 12/20\n",
      "2560/2560 - 129s - 50ms/step - accuracy: 0.9150 - loss: 0.3221 - recall: 0.8751 - val_accuracy: 0.8058 - val_loss: 0.5187 - val_recall: 0.5866\n",
      "Epoch 13/20\n",
      "2560/2560 - 115s - 45ms/step - accuracy: 0.9219 - loss: 0.2966 - recall: 0.8888 - val_accuracy: 0.7960 - val_loss: 0.6050 - val_recall: 0.6289\n",
      "Epoch 14/20\n",
      "2560/2560 - 272s - 106ms/step - accuracy: 0.9308 - loss: 0.2683 - recall: 0.8968 - val_accuracy: 0.8031 - val_loss: 0.6433 - val_recall: 0.5925\n",
      "Epoch 15/20\n",
      "2560/2560 - 323s - 126ms/step - accuracy: 0.9331 - loss: 0.2529 - recall: 0.9076 - val_accuracy: 0.7952 - val_loss: 0.6810 - val_recall: 0.6209\n",
      "Epoch 16/20\n",
      "2560/2560 - 357s - 139ms/step - accuracy: 0.9377 - loss: 0.2321 - recall: 0.9180 - val_accuracy: 0.7950 - val_loss: 0.6672 - val_recall: 0.6115\n",
      "Epoch 17/20\n",
      "2560/2560 - 377s - 147ms/step - accuracy: 0.9445 - loss: 0.2099 - recall: 0.9272 - val_accuracy: 0.8018 - val_loss: 0.6534 - val_recall: 0.5920\n",
      "Epoch 18/20\n",
      "2560/2560 - 287s - 112ms/step - accuracy: 0.9496 - loss: 0.1938 - recall: 0.9318 - val_accuracy: 0.7976 - val_loss: 0.7298 - val_recall: 0.5882\n",
      "Epoch 19/20\n",
      "2560/2560 - 328s - 128ms/step - accuracy: 0.9526 - loss: 0.1801 - recall: 0.9407 - val_accuracy: 0.7963 - val_loss: 0.7571 - val_recall: 0.5928\n",
      "Epoch 20/20\n",
      "2560/2560 - 170s - 67ms/step - accuracy: 0.9504 - loss: 0.1830 - recall: 0.9436 - val_accuracy: 0.7725 - val_loss: 0.7160 - val_recall: 0.6233\n",
      "\u001b[1m1015/1015\u001b[0m \u001b[32m━━━━━━━━━━━━━━━━━━━━\u001b[0m\u001b[37m\u001b[0m \u001b[1m26s\u001b[0m 25ms/step\n"
     ]
    }
   ],
   "source": [
    "samples, max_seq_len, vector_size = X_train_vectors_2.shape\n",
    "num_classes = len(np.unique(y_train_2))\n",
    "\n",
    "\n",
    "# y_train_onehot = to_categorical(y_train, num_classes=num_classes)\n",
    "# y_test_onehot = to_categorical(y_test, num_classes=num_classes)\n",
    "# y_test_onehot_data = to_categorical(y_test_data, num_classes=num_classes)\n",
    "\n",
    "# Modellinitialisierung\n",
    "model_10 = Sequential()\n",
    "\n",
    "# LSTM-Schicht\n",
    "model_10.add(LSTM(units=128, input_shape=(max_seq_len, vector_size), return_sequences=False))\n",
    "\n",
    "# Optional: Dropout zur Vermeidung von Overfitting\n",
    "model_10.add(Dropout(0.3))\n",
    "\n",
    "# Dense-Schicht für die Ausgabe\n",
    "model_10.add(Dense(units=1, activation='sigmoid'))\n",
    "\n",
    "# Kompilieren des Modells\n",
    "model_10.compile(optimizer='adam',\n",
    "              loss='binary_crossentropy',\n",
    "              metrics=['accuracy', Recall()])\n",
    "\n",
    "class_weight = {0: 1, 1: 3} \n",
    "history_10 = model_10.fit(\n",
    "    X_train_vectors_2, np.array(y_train_2),\n",
    "    validation_data=(X_test_data_vectors, np.array(y_test_data)),\n",
    "    epochs=20,\n",
    "    batch_size=32,\n",
    "    class_weight=class_weight,\n",
    "    verbose=2\n",
    ")\n",
    "# Vorhersagen auf Testdaten\n",
    "\n",
    "predictions_10 = model_10.predict(X_test_data_vectors)\n",
    "\n",
    "threshold = 0.5  # Oder teste 0.4 oder 0.6\n",
    "predicted_classes_10= (predictions_10 > threshold).astype(int)\n",
    "\n"
   ]
  },
  {
   "cell_type": "code",
   "execution_count": 11,
   "metadata": {},
   "outputs": [
    {
     "name": "stdout",
     "output_type": "stream",
     "text": [
      "Classification Report:\n",
      "               precision    recall  f1-score   support\n",
      "\n",
      "     Class 0       0.89      0.81      0.85     25627\n",
      "     Class 1       0.47      0.62      0.54      6839\n",
      "\n",
      "    accuracy                           0.77     32466\n",
      "   macro avg       0.68      0.72      0.69     32466\n",
      "weighted avg       0.80      0.77      0.78     32466\n",
      "\n",
      "[[20818  4809]\n",
      " [ 2576  4263]]\n"
     ]
    },
    {
     "data": {
      "image/png": "[encoded data removed]",
      "text/plain": [
       "<Figure size 400x400 with 2 Axes>"
      ]
     },
     "metadata": {},
     "output_type": "display_data"
    }
   ],
   "source": [
    "\n",
    "\n",
    "# Klassifikationsbericht erstellen\n",
    "report = classification_report(y_test_data, predicted_classes_10, target_names=[\"Class 0\", \"Class 1\"])\n",
    "print(\"Classification Report:\\n\", report)\n",
    "\n",
    "cm = confusion_matrix(y_test_data, predicted_classes_10)\n",
    "print(cm)\n",
    "# Verwirrungsmatrix visualisieren\n",
    "plt.figure(figsize=(4, 4))\n",
    "sns.heatmap(cm, annot=True, fmt=\"d\", cmap=\"coolwarm\", linewidths=0.5, square=True,\n",
    "            xticklabels=[\"Label 0\", \"Label 1\"], yticklabels=[\"Label 0\", \"Label 1\"])\n",
    "plt.xlabel(\"Predicted Labels\", fontsize=12)\n",
    "plt.ylabel(\"True Labels\", fontsize=12)\n",
    "plt.title(\"Confusion Matrix\", fontsize=14)\n",
    "plt.show()"
   ]
  },
  {
   "cell_type": "markdown",
   "metadata": {},
   "source": [
    "Epcohenerhöhung/dropuot reduzierung mit anderer lernrate"
   ]
  },
  {
   "cell_type": "code",
   "execution_count": null,
   "metadata": {},
   "outputs": [],
   "source": [
    "# Modellinitialisierung\n",
    "model_13 = Sequential()\n",
    "\n",
    "# LSTM-Schicht\n",
    "model_13.add(LSTM(units=128, input_shape=(max_seq_len, vector_size), return_sequences=False))\n",
    "\n",
    "# Optional: Dropout zur Vermeidung von Overfitting\n",
    "model_13.add(Dropout(0.3))\n",
    "\n",
    "# Dense-Schicht für die Ausgabe\n",
    "model_13.add(Dense(units=1, activation='sigmoid'))\n",
    "\n",
    "# Kompilieren des Modells mit verbesserter Lernrate\n",
    "model_13.compile(optimizer=Adam(learning_rate=0.0003),\n",
    "                 loss='binary_crossentropy',\n",
    "                 metrics=['accuracy', Recall()])\n",
    "\n",
    "class_weight = {0: 1, 1: 3}\n",
    "\n",
    "history_13 = model_13.fit(\n",
    "    X_train_vectors_2, np.array(y_train_2),\n",
    "    validation_data=(X_test_data_vectors, np.array(y_test_data)),\n",
    "    epochs=20,\n",
    "    batch_size=32,\n",
    "    class_weight=class_weight,\n",
    "    verbose=2\n",
    ")\n",
    "\n",
    "# Vorhersagen auf Testdaten\n",
    "predictions_13 = model_13.predict(X_test_data_vectors)\n",
    "threshold = 0.5  # Oder teste 0.4 oder 0.6\n",
    "predicted_classes_13 = (predictions_13 > threshold).astype(int)\n"
   ]
  },
  {
   "cell_type": "code",
   "execution_count": null,
   "metadata": {},
   "outputs": [],
   "source": [
    "\n",
    "\n",
    "# Klassifikationsbericht erstellen\n",
    "report = classification_report(y_test_data, predicted_classes_13, target_names=[\"Class 0\", \"Class 1\"])\n",
    "print(\"Classification Report:\\n\", report)\n",
    "\n",
    "cm = confusion_matrix(y_test_data, predicted_classes_13)\n",
    "print(cm)\n",
    "# Verwirrungsmatrix visualisieren\n",
    "plt.figure(figsize=(4, 4))\n",
    "sns.heatmap(cm, annot=True, fmt=\"d\", cmap=\"coolwarm\", linewidths=0.5, square=True,\n",
    "            xticklabels=[\"Label 0\", \"Label 1\"], yticklabels=[\"Label 0\", \"Label 1\"])\n",
    "plt.xlabel(\"Predicted Labels\", fontsize=12)\n",
    "plt.ylabel(\"True Labels\", fontsize=12)\n",
    "plt.title(\"Confusion Matrix\", fontsize=14)\n",
    "plt.show()"
   ]
  },
  {
   "cell_type": "markdown",
   "metadata": {},
   "source": [
    "Epochenreduzierung"
   ]
  },
  {
   "cell_type": "code",
   "execution_count": null,
   "metadata": {},
   "outputs": [
    {
     "name": "stderr",
     "output_type": "stream",
     "text": [
      "C:\\Users\\Nasiba\\AppData\\Local\\Packages\\PythonSoftwareFoundation.Python.3.11_qbz5n2kfra8p0\\LocalCache\\local-packages\\Python311\\site-packages\\keras\\src\\layers\\rnn\\rnn.py:200: UserWarning: Do not pass an `input_shape`/`input_dim` argument to a layer. When using Sequential models, prefer using an `Input(shape)` object as the first layer in the model instead.\n",
      "  super().__init__(**kwargs)\n"
     ]
    },
    {
     "name": "stdout",
     "output_type": "stream",
     "text": [
      "Epoch 1/5\n"
     ]
    },
    {
     "ename": "KeyboardInterrupt",
     "evalue": "",
     "output_type": "error",
     "traceback": [
      "\u001b[1;31m---------------------------------------------------------------------------\u001b[0m",
      "\u001b[1;31mKeyboardInterrupt\u001b[0m                         Traceback (most recent call last)",
      "Cell \u001b[1;32mIn[41], line 27\u001b[0m\n\u001b[0;32m     22\u001b[0m model_11\u001b[38;5;241m.\u001b[39mcompile(optimizer\u001b[38;5;241m=\u001b[39m\u001b[38;5;124m'\u001b[39m\u001b[38;5;124madam\u001b[39m\u001b[38;5;124m'\u001b[39m,\n\u001b[0;32m     23\u001b[0m               loss\u001b[38;5;241m=\u001b[39m\u001b[38;5;124m'\u001b[39m\u001b[38;5;124mbinary_crossentropy\u001b[39m\u001b[38;5;124m'\u001b[39m,\n\u001b[0;32m     24\u001b[0m               metrics\u001b[38;5;241m=\u001b[39m[\u001b[38;5;124m'\u001b[39m\u001b[38;5;124maccuracy\u001b[39m\u001b[38;5;124m'\u001b[39m, Recall()])\n\u001b[0;32m     26\u001b[0m class_weight \u001b[38;5;241m=\u001b[39m {\u001b[38;5;241m0\u001b[39m: \u001b[38;5;241m1\u001b[39m, \u001b[38;5;241m1\u001b[39m: \u001b[38;5;241m3\u001b[39m} \n\u001b[1;32m---> 27\u001b[0m history_11 \u001b[38;5;241m=\u001b[39m \u001b[43mmodel_11\u001b[49m\u001b[38;5;241;43m.\u001b[39;49m\u001b[43mfit\u001b[49m\u001b[43m(\u001b[49m\n\u001b[0;32m     28\u001b[0m \u001b[43m    \u001b[49m\u001b[43mX_train_vectors_2\u001b[49m\u001b[43m,\u001b[49m\u001b[43m \u001b[49m\u001b[43mnp\u001b[49m\u001b[38;5;241;43m.\u001b[39;49m\u001b[43marray\u001b[49m\u001b[43m(\u001b[49m\u001b[43my_train_2\u001b[49m\u001b[43m)\u001b[49m\u001b[43m,\u001b[49m\n\u001b[0;32m     29\u001b[0m \u001b[43m    \u001b[49m\u001b[43mvalidation_data\u001b[49m\u001b[38;5;241;43m=\u001b[39;49m\u001b[43m(\u001b[49m\u001b[43mX_test_data_vectors\u001b[49m\u001b[43m,\u001b[49m\u001b[43m \u001b[49m\u001b[43mnp\u001b[49m\u001b[38;5;241;43m.\u001b[39;49m\u001b[43marray\u001b[49m\u001b[43m(\u001b[49m\u001b[43my_test_data\u001b[49m\u001b[43m)\u001b[49m\u001b[43m)\u001b[49m\u001b[43m,\u001b[49m\n\u001b[0;32m     30\u001b[0m \u001b[43m    \u001b[49m\u001b[43mepochs\u001b[49m\u001b[38;5;241;43m=\u001b[39;49m\u001b[38;5;241;43m5\u001b[39;49m\u001b[43m,\u001b[49m\n\u001b[0;32m     31\u001b[0m \u001b[43m    \u001b[49m\u001b[43mbatch_size\u001b[49m\u001b[38;5;241;43m=\u001b[39;49m\u001b[38;5;241;43m32\u001b[39;49m\u001b[43m,\u001b[49m\n\u001b[0;32m     32\u001b[0m \u001b[43m    \u001b[49m\u001b[43mclass_weight\u001b[49m\u001b[38;5;241;43m=\u001b[39;49m\u001b[43mclass_weight\u001b[49m\u001b[43m,\u001b[49m\n\u001b[0;32m     33\u001b[0m \u001b[43m    \u001b[49m\u001b[43mverbose\u001b[49m\u001b[38;5;241;43m=\u001b[39;49m\u001b[38;5;241;43m2\u001b[39;49m\n\u001b[0;32m     34\u001b[0m \u001b[43m)\u001b[49m\n\u001b[0;32m     35\u001b[0m \u001b[38;5;66;03m# Vorhersagen auf Testdaten\u001b[39;00m\n\u001b[0;32m     37\u001b[0m predictions_11 \u001b[38;5;241m=\u001b[39m model_11\u001b[38;5;241m.\u001b[39mpredict(X_test_data_vectors)\n",
      "File \u001b[1;32m~\\AppData\\Local\\Packages\\PythonSoftwareFoundation.Python.3.11_qbz5n2kfra8p0\\LocalCache\\local-packages\\Python311\\site-packages\\keras\\src\\utils\\traceback_utils.py:117\u001b[0m, in \u001b[0;36mfilter_traceback.<locals>.error_handler\u001b[1;34m(*args, **kwargs)\u001b[0m\n\u001b[0;32m    115\u001b[0m filtered_tb \u001b[38;5;241m=\u001b[39m \u001b[38;5;28;01mNone\u001b[39;00m\n\u001b[0;32m    116\u001b[0m \u001b[38;5;28;01mtry\u001b[39;00m:\n\u001b[1;32m--> 117\u001b[0m     \u001b[38;5;28;01mreturn\u001b[39;00m \u001b[43mfn\u001b[49m\u001b[43m(\u001b[49m\u001b[38;5;241;43m*\u001b[39;49m\u001b[43margs\u001b[49m\u001b[43m,\u001b[49m\u001b[43m \u001b[49m\u001b[38;5;241;43m*\u001b[39;49m\u001b[38;5;241;43m*\u001b[39;49m\u001b[43mkwargs\u001b[49m\u001b[43m)\u001b[49m\n\u001b[0;32m    118\u001b[0m \u001b[38;5;28;01mexcept\u001b[39;00m \u001b[38;5;167;01mException\u001b[39;00m \u001b[38;5;28;01mas\u001b[39;00m e:\n\u001b[0;32m    119\u001b[0m     filtered_tb \u001b[38;5;241m=\u001b[39m _process_traceback_frames(e\u001b[38;5;241m.\u001b[39m__traceback__)\n",
      "File \u001b[1;32m~\\AppData\\Local\\Packages\\PythonSoftwareFoundation.Python.3.11_qbz5n2kfra8p0\\LocalCache\\local-packages\\Python311\\site-packages\\keras\\src\\backend\\tensorflow\\trainer.py:368\u001b[0m, in \u001b[0;36mTensorFlowTrainer.fit\u001b[1;34m(self, x, y, batch_size, epochs, verbose, callbacks, validation_split, validation_data, shuffle, class_weight, sample_weight, initial_epoch, steps_per_epoch, validation_steps, validation_batch_size, validation_freq)\u001b[0m\n\u001b[0;32m    366\u001b[0m \u001b[38;5;28;01mfor\u001b[39;00m step, iterator \u001b[38;5;129;01min\u001b[39;00m epoch_iterator:\n\u001b[0;32m    367\u001b[0m     callbacks\u001b[38;5;241m.\u001b[39mon_train_batch_begin(step)\n\u001b[1;32m--> 368\u001b[0m     logs \u001b[38;5;241m=\u001b[39m \u001b[38;5;28;43mself\u001b[39;49m\u001b[38;5;241;43m.\u001b[39;49m\u001b[43mtrain_function\u001b[49m\u001b[43m(\u001b[49m\u001b[43miterator\u001b[49m\u001b[43m)\u001b[49m\n\u001b[0;32m    369\u001b[0m     callbacks\u001b[38;5;241m.\u001b[39mon_train_batch_end(step, logs)\n\u001b[0;32m    370\u001b[0m     \u001b[38;5;28;01mif\u001b[39;00m \u001b[38;5;28mself\u001b[39m\u001b[38;5;241m.\u001b[39mstop_training:\n",
      "File \u001b[1;32m~\\AppData\\Local\\Packages\\PythonSoftwareFoundation.Python.3.11_qbz5n2kfra8p0\\LocalCache\\local-packages\\Python311\\site-packages\\keras\\src\\backend\\tensorflow\\trainer.py:216\u001b[0m, in \u001b[0;36mTensorFlowTrainer._make_function.<locals>.function\u001b[1;34m(iterator)\u001b[0m\n\u001b[0;32m    212\u001b[0m \u001b[38;5;28;01mdef\u001b[39;00m \u001b[38;5;21mfunction\u001b[39m(iterator):\n\u001b[0;32m    213\u001b[0m     \u001b[38;5;28;01mif\u001b[39;00m \u001b[38;5;28misinstance\u001b[39m(\n\u001b[0;32m    214\u001b[0m         iterator, (tf\u001b[38;5;241m.\u001b[39mdata\u001b[38;5;241m.\u001b[39mIterator, tf\u001b[38;5;241m.\u001b[39mdistribute\u001b[38;5;241m.\u001b[39mDistributedIterator)\n\u001b[0;32m    215\u001b[0m     ):\n\u001b[1;32m--> 216\u001b[0m         opt_outputs \u001b[38;5;241m=\u001b[39m \u001b[43mmulti_step_on_iterator\u001b[49m\u001b[43m(\u001b[49m\u001b[43miterator\u001b[49m\u001b[43m)\u001b[49m\n\u001b[0;32m    217\u001b[0m         \u001b[38;5;28;01mif\u001b[39;00m \u001b[38;5;129;01mnot\u001b[39;00m opt_outputs\u001b[38;5;241m.\u001b[39mhas_value():\n\u001b[0;32m    218\u001b[0m             \u001b[38;5;28;01mraise\u001b[39;00m \u001b[38;5;167;01mStopIteration\u001b[39;00m\n",
      "File \u001b[1;32m~\\AppData\\Local\\Packages\\PythonSoftwareFoundation.Python.3.11_qbz5n2kfra8p0\\LocalCache\\local-packages\\Python311\\site-packages\\tensorflow\\python\\util\\traceback_utils.py:150\u001b[0m, in \u001b[0;36mfilter_traceback.<locals>.error_handler\u001b[1;34m(*args, **kwargs)\u001b[0m\n\u001b[0;32m    148\u001b[0m filtered_tb \u001b[38;5;241m=\u001b[39m \u001b[38;5;28;01mNone\u001b[39;00m\n\u001b[0;32m    149\u001b[0m \u001b[38;5;28;01mtry\u001b[39;00m:\n\u001b[1;32m--> 150\u001b[0m   \u001b[38;5;28;01mreturn\u001b[39;00m \u001b[43mfn\u001b[49m\u001b[43m(\u001b[49m\u001b[38;5;241;43m*\u001b[39;49m\u001b[43margs\u001b[49m\u001b[43m,\u001b[49m\u001b[43m \u001b[49m\u001b[38;5;241;43m*\u001b[39;49m\u001b[38;5;241;43m*\u001b[39;49m\u001b[43mkwargs\u001b[49m\u001b[43m)\u001b[49m\n\u001b[0;32m    151\u001b[0m \u001b[38;5;28;01mexcept\u001b[39;00m \u001b[38;5;167;01mException\u001b[39;00m \u001b[38;5;28;01mas\u001b[39;00m e:\n\u001b[0;32m    152\u001b[0m   filtered_tb \u001b[38;5;241m=\u001b[39m _process_traceback_frames(e\u001b[38;5;241m.\u001b[39m__traceback__)\n",
      "File \u001b[1;32m~\\AppData\\Local\\Packages\\PythonSoftwareFoundation.Python.3.11_qbz5n2kfra8p0\\LocalCache\\local-packages\\Python311\\site-packages\\tensorflow\\python\\eager\\polymorphic_function\\polymorphic_function.py:833\u001b[0m, in \u001b[0;36mFunction.__call__\u001b[1;34m(self, *args, **kwds)\u001b[0m\n\u001b[0;32m    830\u001b[0m compiler \u001b[38;5;241m=\u001b[39m \u001b[38;5;124m\"\u001b[39m\u001b[38;5;124mxla\u001b[39m\u001b[38;5;124m\"\u001b[39m \u001b[38;5;28;01mif\u001b[39;00m \u001b[38;5;28mself\u001b[39m\u001b[38;5;241m.\u001b[39m_jit_compile \u001b[38;5;28;01melse\u001b[39;00m \u001b[38;5;124m\"\u001b[39m\u001b[38;5;124mnonXla\u001b[39m\u001b[38;5;124m\"\u001b[39m\n\u001b[0;32m    832\u001b[0m \u001b[38;5;28;01mwith\u001b[39;00m OptionalXlaContext(\u001b[38;5;28mself\u001b[39m\u001b[38;5;241m.\u001b[39m_jit_compile):\n\u001b[1;32m--> 833\u001b[0m   result \u001b[38;5;241m=\u001b[39m \u001b[38;5;28;43mself\u001b[39;49m\u001b[38;5;241;43m.\u001b[39;49m\u001b[43m_call\u001b[49m\u001b[43m(\u001b[49m\u001b[38;5;241;43m*\u001b[39;49m\u001b[43margs\u001b[49m\u001b[43m,\u001b[49m\u001b[43m \u001b[49m\u001b[38;5;241;43m*\u001b[39;49m\u001b[38;5;241;43m*\u001b[39;49m\u001b[43mkwds\u001b[49m\u001b[43m)\u001b[49m\n\u001b[0;32m    835\u001b[0m new_tracing_count \u001b[38;5;241m=\u001b[39m \u001b[38;5;28mself\u001b[39m\u001b[38;5;241m.\u001b[39mexperimental_get_tracing_count()\n\u001b[0;32m    836\u001b[0m without_tracing \u001b[38;5;241m=\u001b[39m (tracing_count \u001b[38;5;241m==\u001b[39m new_tracing_count)\n",
      "File \u001b[1;32m~\\AppData\\Local\\Packages\\PythonSoftwareFoundation.Python.3.11_qbz5n2kfra8p0\\LocalCache\\local-packages\\Python311\\site-packages\\tensorflow\\python\\eager\\polymorphic_function\\polymorphic_function.py:878\u001b[0m, in \u001b[0;36mFunction._call\u001b[1;34m(self, *args, **kwds)\u001b[0m\n\u001b[0;32m    875\u001b[0m \u001b[38;5;28mself\u001b[39m\u001b[38;5;241m.\u001b[39m_lock\u001b[38;5;241m.\u001b[39mrelease()\n\u001b[0;32m    876\u001b[0m \u001b[38;5;66;03m# In this case we have not created variables on the first call. So we can\u001b[39;00m\n\u001b[0;32m    877\u001b[0m \u001b[38;5;66;03m# run the first trace but we should fail if variables are created.\u001b[39;00m\n\u001b[1;32m--> 878\u001b[0m results \u001b[38;5;241m=\u001b[39m \u001b[43mtracing_compilation\u001b[49m\u001b[38;5;241;43m.\u001b[39;49m\u001b[43mcall_function\u001b[49m\u001b[43m(\u001b[49m\n\u001b[0;32m    879\u001b[0m \u001b[43m    \u001b[49m\u001b[43margs\u001b[49m\u001b[43m,\u001b[49m\u001b[43m \u001b[49m\u001b[43mkwds\u001b[49m\u001b[43m,\u001b[49m\u001b[43m \u001b[49m\u001b[38;5;28;43mself\u001b[39;49m\u001b[38;5;241;43m.\u001b[39;49m\u001b[43m_variable_creation_config\u001b[49m\n\u001b[0;32m    880\u001b[0m \u001b[43m\u001b[49m\u001b[43m)\u001b[49m\n\u001b[0;32m    881\u001b[0m \u001b[38;5;28;01mif\u001b[39;00m \u001b[38;5;28mself\u001b[39m\u001b[38;5;241m.\u001b[39m_created_variables:\n\u001b[0;32m    882\u001b[0m   \u001b[38;5;28;01mraise\u001b[39;00m \u001b[38;5;167;01mValueError\u001b[39;00m(\u001b[38;5;124m\"\u001b[39m\u001b[38;5;124mCreating variables on a non-first call to a function\u001b[39m\u001b[38;5;124m\"\u001b[39m\n\u001b[0;32m    883\u001b[0m                    \u001b[38;5;124m\"\u001b[39m\u001b[38;5;124m decorated with tf.function.\u001b[39m\u001b[38;5;124m\"\u001b[39m)\n",
      "File \u001b[1;32m~\\AppData\\Local\\Packages\\PythonSoftwareFoundation.Python.3.11_qbz5n2kfra8p0\\LocalCache\\local-packages\\Python311\\site-packages\\tensorflow\\python\\eager\\polymorphic_function\\tracing_compilation.py:139\u001b[0m, in \u001b[0;36mcall_function\u001b[1;34m(args, kwargs, tracing_options)\u001b[0m\n\u001b[0;32m    137\u001b[0m bound_args \u001b[38;5;241m=\u001b[39m function\u001b[38;5;241m.\u001b[39mfunction_type\u001b[38;5;241m.\u001b[39mbind(\u001b[38;5;241m*\u001b[39margs, \u001b[38;5;241m*\u001b[39m\u001b[38;5;241m*\u001b[39mkwargs)\n\u001b[0;32m    138\u001b[0m flat_inputs \u001b[38;5;241m=\u001b[39m function\u001b[38;5;241m.\u001b[39mfunction_type\u001b[38;5;241m.\u001b[39munpack_inputs(bound_args)\n\u001b[1;32m--> 139\u001b[0m \u001b[38;5;28;01mreturn\u001b[39;00m \u001b[43mfunction\u001b[49m\u001b[38;5;241;43m.\u001b[39;49m\u001b[43m_call_flat\u001b[49m\u001b[43m(\u001b[49m\u001b[43m  \u001b[49m\u001b[38;5;66;43;03m# pylint: disable=protected-access\u001b[39;49;00m\n\u001b[0;32m    140\u001b[0m \u001b[43m    \u001b[49m\u001b[43mflat_inputs\u001b[49m\u001b[43m,\u001b[49m\u001b[43m \u001b[49m\u001b[43mcaptured_inputs\u001b[49m\u001b[38;5;241;43m=\u001b[39;49m\u001b[43mfunction\u001b[49m\u001b[38;5;241;43m.\u001b[39;49m\u001b[43mcaptured_inputs\u001b[49m\n\u001b[0;32m    141\u001b[0m \u001b[43m\u001b[49m\u001b[43m)\u001b[49m\n",
      "File \u001b[1;32m~\\AppData\\Local\\Packages\\PythonSoftwareFoundation.Python.3.11_qbz5n2kfra8p0\\LocalCache\\local-packages\\Python311\\site-packages\\tensorflow\\python\\eager\\polymorphic_function\\concrete_function.py:1322\u001b[0m, in \u001b[0;36mConcreteFunction._call_flat\u001b[1;34m(self, tensor_inputs, captured_inputs)\u001b[0m\n\u001b[0;32m   1318\u001b[0m possible_gradient_type \u001b[38;5;241m=\u001b[39m gradients_util\u001b[38;5;241m.\u001b[39mPossibleTapeGradientTypes(args)\n\u001b[0;32m   1319\u001b[0m \u001b[38;5;28;01mif\u001b[39;00m (possible_gradient_type \u001b[38;5;241m==\u001b[39m gradients_util\u001b[38;5;241m.\u001b[39mPOSSIBLE_GRADIENT_TYPES_NONE\n\u001b[0;32m   1320\u001b[0m     \u001b[38;5;129;01mand\u001b[39;00m executing_eagerly):\n\u001b[0;32m   1321\u001b[0m   \u001b[38;5;66;03m# No tape is watching; skip to running the function.\u001b[39;00m\n\u001b[1;32m-> 1322\u001b[0m   \u001b[38;5;28;01mreturn\u001b[39;00m \u001b[38;5;28;43mself\u001b[39;49m\u001b[38;5;241;43m.\u001b[39;49m\u001b[43m_inference_function\u001b[49m\u001b[38;5;241;43m.\u001b[39;49m\u001b[43mcall_preflattened\u001b[49m\u001b[43m(\u001b[49m\u001b[43margs\u001b[49m\u001b[43m)\u001b[49m\n\u001b[0;32m   1323\u001b[0m forward_backward \u001b[38;5;241m=\u001b[39m \u001b[38;5;28mself\u001b[39m\u001b[38;5;241m.\u001b[39m_select_forward_and_backward_functions(\n\u001b[0;32m   1324\u001b[0m     args,\n\u001b[0;32m   1325\u001b[0m     possible_gradient_type,\n\u001b[0;32m   1326\u001b[0m     executing_eagerly)\n\u001b[0;32m   1327\u001b[0m forward_function, args_with_tangents \u001b[38;5;241m=\u001b[39m forward_backward\u001b[38;5;241m.\u001b[39mforward()\n",
      "File \u001b[1;32m~\\AppData\\Local\\Packages\\PythonSoftwareFoundation.Python.3.11_qbz5n2kfra8p0\\LocalCache\\local-packages\\Python311\\site-packages\\tensorflow\\python\\eager\\polymorphic_function\\atomic_function.py:216\u001b[0m, in \u001b[0;36mAtomicFunction.call_preflattened\u001b[1;34m(self, args)\u001b[0m\n\u001b[0;32m    214\u001b[0m \u001b[38;5;28;01mdef\u001b[39;00m \u001b[38;5;21mcall_preflattened\u001b[39m(\u001b[38;5;28mself\u001b[39m, args: Sequence[core\u001b[38;5;241m.\u001b[39mTensor]) \u001b[38;5;241m-\u001b[39m\u001b[38;5;241m>\u001b[39m Any:\n\u001b[0;32m    215\u001b[0m \u001b[38;5;250m  \u001b[39m\u001b[38;5;124;03m\"\"\"Calls with flattened tensor inputs and returns the structured output.\"\"\"\u001b[39;00m\n\u001b[1;32m--> 216\u001b[0m   flat_outputs \u001b[38;5;241m=\u001b[39m \u001b[38;5;28;43mself\u001b[39;49m\u001b[38;5;241;43m.\u001b[39;49m\u001b[43mcall_flat\u001b[49m\u001b[43m(\u001b[49m\u001b[38;5;241;43m*\u001b[39;49m\u001b[43margs\u001b[49m\u001b[43m)\u001b[49m\n\u001b[0;32m    217\u001b[0m   \u001b[38;5;28;01mreturn\u001b[39;00m \u001b[38;5;28mself\u001b[39m\u001b[38;5;241m.\u001b[39mfunction_type\u001b[38;5;241m.\u001b[39mpack_output(flat_outputs)\n",
      "File \u001b[1;32m~\\AppData\\Local\\Packages\\PythonSoftwareFoundation.Python.3.11_qbz5n2kfra8p0\\LocalCache\\local-packages\\Python311\\site-packages\\tensorflow\\python\\eager\\polymorphic_function\\atomic_function.py:251\u001b[0m, in \u001b[0;36mAtomicFunction.call_flat\u001b[1;34m(self, *args)\u001b[0m\n\u001b[0;32m    249\u001b[0m \u001b[38;5;28;01mwith\u001b[39;00m record\u001b[38;5;241m.\u001b[39mstop_recording():\n\u001b[0;32m    250\u001b[0m   \u001b[38;5;28;01mif\u001b[39;00m \u001b[38;5;28mself\u001b[39m\u001b[38;5;241m.\u001b[39m_bound_context\u001b[38;5;241m.\u001b[39mexecuting_eagerly():\n\u001b[1;32m--> 251\u001b[0m     outputs \u001b[38;5;241m=\u001b[39m \u001b[38;5;28;43mself\u001b[39;49m\u001b[38;5;241;43m.\u001b[39;49m\u001b[43m_bound_context\u001b[49m\u001b[38;5;241;43m.\u001b[39;49m\u001b[43mcall_function\u001b[49m\u001b[43m(\u001b[49m\n\u001b[0;32m    252\u001b[0m \u001b[43m        \u001b[49m\u001b[38;5;28;43mself\u001b[39;49m\u001b[38;5;241;43m.\u001b[39;49m\u001b[43mname\u001b[49m\u001b[43m,\u001b[49m\n\u001b[0;32m    253\u001b[0m \u001b[43m        \u001b[49m\u001b[38;5;28;43mlist\u001b[39;49m\u001b[43m(\u001b[49m\u001b[43margs\u001b[49m\u001b[43m)\u001b[49m\u001b[43m,\u001b[49m\n\u001b[0;32m    254\u001b[0m \u001b[43m        \u001b[49m\u001b[38;5;28;43mlen\u001b[39;49m\u001b[43m(\u001b[49m\u001b[38;5;28;43mself\u001b[39;49m\u001b[38;5;241;43m.\u001b[39;49m\u001b[43mfunction_type\u001b[49m\u001b[38;5;241;43m.\u001b[39;49m\u001b[43mflat_outputs\u001b[49m\u001b[43m)\u001b[49m\u001b[43m,\u001b[49m\n\u001b[0;32m    255\u001b[0m \u001b[43m    \u001b[49m\u001b[43m)\u001b[49m\n\u001b[0;32m    256\u001b[0m   \u001b[38;5;28;01melse\u001b[39;00m:\n\u001b[0;32m    257\u001b[0m     outputs \u001b[38;5;241m=\u001b[39m make_call_op_in_graph(\n\u001b[0;32m    258\u001b[0m         \u001b[38;5;28mself\u001b[39m,\n\u001b[0;32m    259\u001b[0m         \u001b[38;5;28mlist\u001b[39m(args),\n\u001b[0;32m    260\u001b[0m         \u001b[38;5;28mself\u001b[39m\u001b[38;5;241m.\u001b[39m_bound_context\u001b[38;5;241m.\u001b[39mfunction_call_options\u001b[38;5;241m.\u001b[39mas_attrs(),\n\u001b[0;32m    261\u001b[0m     )\n",
      "File \u001b[1;32m~\\AppData\\Local\\Packages\\PythonSoftwareFoundation.Python.3.11_qbz5n2kfra8p0\\LocalCache\\local-packages\\Python311\\site-packages\\tensorflow\\python\\eager\\context.py:1683\u001b[0m, in \u001b[0;36mContext.call_function\u001b[1;34m(self, name, tensor_inputs, num_outputs)\u001b[0m\n\u001b[0;32m   1681\u001b[0m cancellation_context \u001b[38;5;241m=\u001b[39m cancellation\u001b[38;5;241m.\u001b[39mcontext()\n\u001b[0;32m   1682\u001b[0m \u001b[38;5;28;01mif\u001b[39;00m cancellation_context \u001b[38;5;129;01mis\u001b[39;00m \u001b[38;5;28;01mNone\u001b[39;00m:\n\u001b[1;32m-> 1683\u001b[0m   outputs \u001b[38;5;241m=\u001b[39m \u001b[43mexecute\u001b[49m\u001b[38;5;241;43m.\u001b[39;49m\u001b[43mexecute\u001b[49m\u001b[43m(\u001b[49m\n\u001b[0;32m   1684\u001b[0m \u001b[43m      \u001b[49m\u001b[43mname\u001b[49m\u001b[38;5;241;43m.\u001b[39;49m\u001b[43mdecode\u001b[49m\u001b[43m(\u001b[49m\u001b[38;5;124;43m\"\u001b[39;49m\u001b[38;5;124;43mutf-8\u001b[39;49m\u001b[38;5;124;43m\"\u001b[39;49m\u001b[43m)\u001b[49m\u001b[43m,\u001b[49m\n\u001b[0;32m   1685\u001b[0m \u001b[43m      \u001b[49m\u001b[43mnum_outputs\u001b[49m\u001b[38;5;241;43m=\u001b[39;49m\u001b[43mnum_outputs\u001b[49m\u001b[43m,\u001b[49m\n\u001b[0;32m   1686\u001b[0m \u001b[43m      \u001b[49m\u001b[43minputs\u001b[49m\u001b[38;5;241;43m=\u001b[39;49m\u001b[43mtensor_inputs\u001b[49m\u001b[43m,\u001b[49m\n\u001b[0;32m   1687\u001b[0m \u001b[43m      \u001b[49m\u001b[43mattrs\u001b[49m\u001b[38;5;241;43m=\u001b[39;49m\u001b[43mattrs\u001b[49m\u001b[43m,\u001b[49m\n\u001b[0;32m   1688\u001b[0m \u001b[43m      \u001b[49m\u001b[43mctx\u001b[49m\u001b[38;5;241;43m=\u001b[39;49m\u001b[38;5;28;43mself\u001b[39;49m\u001b[43m,\u001b[49m\n\u001b[0;32m   1689\u001b[0m \u001b[43m  \u001b[49m\u001b[43m)\u001b[49m\n\u001b[0;32m   1690\u001b[0m \u001b[38;5;28;01melse\u001b[39;00m:\n\u001b[0;32m   1691\u001b[0m   outputs \u001b[38;5;241m=\u001b[39m execute\u001b[38;5;241m.\u001b[39mexecute_with_cancellation(\n\u001b[0;32m   1692\u001b[0m       name\u001b[38;5;241m.\u001b[39mdecode(\u001b[38;5;124m\"\u001b[39m\u001b[38;5;124mutf-8\u001b[39m\u001b[38;5;124m\"\u001b[39m),\n\u001b[0;32m   1693\u001b[0m       num_outputs\u001b[38;5;241m=\u001b[39mnum_outputs,\n\u001b[1;32m   (...)\u001b[0m\n\u001b[0;32m   1697\u001b[0m       cancellation_manager\u001b[38;5;241m=\u001b[39mcancellation_context,\n\u001b[0;32m   1698\u001b[0m   )\n",
      "File \u001b[1;32m~\\AppData\\Local\\Packages\\PythonSoftwareFoundation.Python.3.11_qbz5n2kfra8p0\\LocalCache\\local-packages\\Python311\\site-packages\\tensorflow\\python\\eager\\execute.py:53\u001b[0m, in \u001b[0;36mquick_execute\u001b[1;34m(op_name, num_outputs, inputs, attrs, ctx, name)\u001b[0m\n\u001b[0;32m     51\u001b[0m \u001b[38;5;28;01mtry\u001b[39;00m:\n\u001b[0;32m     52\u001b[0m   ctx\u001b[38;5;241m.\u001b[39mensure_initialized()\n\u001b[1;32m---> 53\u001b[0m   tensors \u001b[38;5;241m=\u001b[39m \u001b[43mpywrap_tfe\u001b[49m\u001b[38;5;241;43m.\u001b[39;49m\u001b[43mTFE_Py_Execute\u001b[49m\u001b[43m(\u001b[49m\u001b[43mctx\u001b[49m\u001b[38;5;241;43m.\u001b[39;49m\u001b[43m_handle\u001b[49m\u001b[43m,\u001b[49m\u001b[43m \u001b[49m\u001b[43mdevice_name\u001b[49m\u001b[43m,\u001b[49m\u001b[43m \u001b[49m\u001b[43mop_name\u001b[49m\u001b[43m,\u001b[49m\n\u001b[0;32m     54\u001b[0m \u001b[43m                                      \u001b[49m\u001b[43minputs\u001b[49m\u001b[43m,\u001b[49m\u001b[43m \u001b[49m\u001b[43mattrs\u001b[49m\u001b[43m,\u001b[49m\u001b[43m \u001b[49m\u001b[43mnum_outputs\u001b[49m\u001b[43m)\u001b[49m\n\u001b[0;32m     55\u001b[0m \u001b[38;5;28;01mexcept\u001b[39;00m core\u001b[38;5;241m.\u001b[39m_NotOkStatusException \u001b[38;5;28;01mas\u001b[39;00m e:\n\u001b[0;32m     56\u001b[0m   \u001b[38;5;28;01mif\u001b[39;00m name \u001b[38;5;129;01mis\u001b[39;00m \u001b[38;5;129;01mnot\u001b[39;00m \u001b[38;5;28;01mNone\u001b[39;00m:\n",
      "\u001b[1;31mKeyboardInterrupt\u001b[0m: "
     ]
    }
   ],
   "source": [
    "samples, max_seq_len, vector_size = X_train_vectors_2.shape\n",
    "num_classes = len(np.unique(y_train_2))\n",
    "\n",
    "\n",
    "# y_train_onehot = to_categorical(y_train, num_classes=num_classes)\n",
    "# y_test_onehot = to_categorical(y_test, num_classes=num_classes)\n",
    "# y_test_onehot_data = to_categorical(y_test_data, num_classes=num_classes)\n",
    "\n",
    "# Modellinitialisierung\n",
    "model_11 = Sequential()\n",
    "\n",
    "# LSTM-Schicht\n",
    "model_11.add(LSTM(units=128, input_shape=(max_seq_len, vector_size), return_sequences=False))\n",
    "\n",
    "# Optional: Dropout zur Vermeidung von Overfitting\n",
    "model_11.add(Dropout(0.5))\n",
    "\n",
    "# Dense-Schicht für die Ausgabe\n",
    "model_11.add(Dense(units=1, activation='sigmoid'))\n",
    "\n",
    "# Kompilieren des Modells\n",
    "model_11.compile(optimizer='adam',\n",
    "              loss='binary_crossentropy',\n",
    "              metrics=['accuracy', Recall()])\n",
    "\n",
    "class_weight = {0: 1, 1: 3} \n",
    "history_11 = model_11.fit(\n",
    "    X_train_vectors_2, np.array(y_train_2),\n",
    "    validation_data=(X_test_data_vectors, np.array(y_test_data)),\n",
    "    epochs=5,\n",
    "    batch_size=32,\n",
    "    class_weight=class_weight,\n",
    "    verbose=2\n",
    ")\n",
    "# Vorhersagen auf Testdaten\n",
    "\n",
    "predictions_11 = model_11.predict(X_test_data_vectors)\n",
    "\n",
    "threshold = 0.5  # Oder teste 0.4 oder 0.6\n",
    "predicted_classes_11= (predictions_11 > threshold).astype(int)\n",
    "\n"
   ]
  },
  {
   "cell_type": "code",
   "execution_count": null,
   "metadata": {},
   "outputs": [],
   "source": [
    "\n",
    "\n",
    "# Klassifikationsbericht erstellen\n",
    "report = classification_report(y_test_data, predicted_classes_11, target_names=[\"Class 0\", \"Class 1\"])\n",
    "print(\"Classification Report:\\n\", report)\n",
    "\n",
    "cm = confusion_matrix(y_test_data, predicted_classes_11)\n",
    "print(cm)\n",
    "# Verwirrungsmatrix visualisieren\n",
    "plt.figure(figsize=(4, 4))\n",
    "sns.heatmap(cm, annot=True, fmt=\"d\", cmap=\"coolwarm\", linewidths=0.5, square=True,\n",
    "            xticklabels=[\"Label 0\", \"Label 1\"], yticklabels=[\"Label 0\", \"Label 1\"])\n",
    "plt.xlabel(\"Predicted Labels\", fontsize=12)\n",
    "plt.ylabel(\"True Labels\", fontsize=12)\n",
    "plt.title(\"Confusion Matrix\", fontsize=14)\n",
    "plt.show()"
   ]
  },
  {
   "cell_type": "markdown",
   "metadata": {},
   "source": [
    "Bidirektional"
   ]
  },
  {
   "cell_type": "code",
   "execution_count": 50,
   "metadata": {},
   "outputs": [
    {
     "name": "stdout",
     "output_type": "stream",
     "text": [
      "Epoch 1/20\n",
      "\u001b[1m631/631\u001b[0m \u001b[32m━━━━━━━━━━━━━━━━━━━━\u001b[0m\u001b[37m\u001b[0m \u001b[1m64s\u001b[0m 90ms/step - accuracy: 0.9281 - loss: 0.2199 - recall_14: 0.1439 - val_accuracy: 0.9459 - val_loss: 0.1585 - val_recall_14: 0.3126\n",
      "Epoch 2/20\n",
      "\u001b[1m631/631\u001b[0m \u001b[32m━━━━━━━━━━━━━━━━━━━━\u001b[0m\u001b[37m\u001b[0m \u001b[1m56s\u001b[0m 89ms/step - accuracy: 0.9493 - loss: 0.1441 - recall_14: 0.3997 - val_accuracy: 0.9497 - val_loss: 0.1435 - val_recall_14: 0.3580\n",
      "Epoch 3/20\n",
      "\u001b[1m631/631\u001b[0m \u001b[32m━━━━━━━━━━━━━━━━━━━━\u001b[0m\u001b[37m\u001b[0m \u001b[1m60s\u001b[0m 95ms/step - accuracy: 0.9537 - loss: 0.1295 - recall_14: 0.4949 - val_accuracy: 0.9525 - val_loss: 0.1427 - val_recall_14: 0.4050\n",
      "Epoch 4/20\n",
      "\u001b[1m631/631\u001b[0m \u001b[32m━━━━━━━━━━━━━━━━━━━━\u001b[0m\u001b[37m\u001b[0m \u001b[1m58s\u001b[0m 93ms/step - accuracy: 0.9565 - loss: 0.1219 - recall_14: 0.4742 - val_accuracy: 0.9531 - val_loss: 0.1331 - val_recall_14: 0.5059\n",
      "Epoch 5/20\n",
      "\u001b[1m631/631\u001b[0m \u001b[32m━━━━━━━━━━━━━━━━━━━━\u001b[0m\u001b[37m\u001b[0m \u001b[1m58s\u001b[0m 92ms/step - accuracy: 0.9611 - loss: 0.1142 - recall_14: 0.5358 - val_accuracy: 0.9545 - val_loss: 0.1382 - val_recall_14: 0.4319\n",
      "Epoch 6/20\n",
      "\u001b[1m631/631\u001b[0m \u001b[32m━━━━━━━━━━━━━━━━━━━━\u001b[0m\u001b[37m\u001b[0m \u001b[1m58s\u001b[0m 92ms/step - accuracy: 0.9627 - loss: 0.1049 - recall_14: 0.5925 - val_accuracy: 0.9555 - val_loss: 0.1333 - val_recall_14: 0.4319\n",
      "\u001b[1m277/277\u001b[0m \u001b[32m━━━━━━━━━━━━━━━━━━━━\u001b[0m\u001b[37m\u001b[0m \u001b[1m10s\u001b[0m 33ms/step\n"
     ]
    }
   ],
   "source": [
    "\n",
    "# Modellinitialisierung\n",
    "model_bidir = Sequential()\n",
    "\n",
    "# Erste LSTM-Schicht mit Bidirectional für bessere Kontextverarbeitung\n",
    "model_bidir.add(Bidirectional(LSTM(units=128, return_sequences=True, dropout=0.3, recurrent_dropout=0.2)))\n",
    "\n",
    "# Zweite LSTM-Schicht für tiefere Merkmalsextraktion\n",
    "model_bidir.add(Bidirectional(LSTM(units=64, return_sequences=False, dropout=0.3, recurrent_dropout=0.2)))\n",
    "\n",
    "# Dense-Schicht für die Ausgabe mit Sigmoid für binäre Klassifikation\n",
    "model_bidir.add(Dense(units=1, activation='sigmoid'))\n",
    "\n",
    "# Modell kompilieren mit verbessertem Optimierer und zusätzlichen Metriken\n",
    "model_bidir.compile(optimizer=Adam(learning_rate=0.0005), \n",
    "                   loss='binary_crossentropy', \n",
    "                   metrics=['accuracy', Recall()])\n",
    "\n",
    "# Early Stopping Callback zur Vermeidung von Overfitting\n",
    "early_stopping = EarlyStopping(monitor='val_loss', patience=2, restore_best_weights=True)\n",
    "\n",
    "# Modelltraining mit optimierten Parametern\n",
    "history_bidir= model_bidir.fit(\n",
    "    X_train_vectors_2, y_train_2,\n",
    "    validation_data=(X_test_data_vectors, y_test_data),\n",
    "    epochs=20,  # Erhöhte Epochenzahl mit EarlyStopping\n",
    "    batch_size=32,\n",
    "    verbose=1,\n",
    "    callbacks=[early_stopping]\n",
    ")\n",
    "\n",
    "# Vorhersagen auf Testdaten\n",
    "predictions_bidir = model_bidir.predict(X_test_data_vectors)\n",
    "predicted_classes_bidir = (predictions_bidir > 0.5).astype(int)\n"
   ]
  },
  {
   "cell_type": "code",
   "execution_count": 51,
   "metadata": {},
   "outputs": [
    {
     "name": "stdout",
     "output_type": "stream",
     "text": [
      "Classification Report:\n",
      "               precision    recall  f1-score   support\n",
      "\n",
      "     Class 0       0.97      0.99      0.98      8239\n",
      "     Class 1       0.71      0.51      0.59       595\n",
      "\n",
      "    accuracy                           0.95      8834\n",
      "   macro avg       0.84      0.75      0.78      8834\n",
      "weighted avg       0.95      0.95      0.95      8834\n",
      "\n",
      "[[8119  120]\n",
      " [ 294  301]]\n"
     ]
    },
    {
     "data": {
      "image/png": "[encoded data removed]",
      "text/plain": [
       "<Figure size 400x400 with 2 Axes>"
      ]
     },
     "metadata": {},
     "output_type": "display_data"
    }
   ],
   "source": [
    "\n",
    "\n",
    "# Klassifikationsbericht erstellen\n",
    "report = classification_report(y_test_data, predicted_classes_bidir, target_names=[\"Class 0\", \"Class 1\"])\n",
    "print(\"Classification Report:\\n\", report)\n",
    "\n",
    "cm = confusion_matrix(y_test_data,predicted_classes_bidir)\n",
    "print(cm)\n",
    "# Verwirrungsmatrix visualisieren\n",
    "plt.figure(figsize=(4, 4))\n",
    "sns.heatmap(cm, annot=True, fmt=\"d\", cmap=\"coolwarm\", linewidths=0.5, square=True,\n",
    "            xticklabels=[\"Label 0\", \"Label 1\"], yticklabels=[\"Label 0\", \"Label 1\"])\n",
    "plt.xlabel(\"Predicted Labels\", fontsize=12)\n",
    "plt.ylabel(\"True Labels\", fontsize=12)\n",
    "plt.title(\"Confusion Matrix\", fontsize=14)\n",
    "plt.show()"
   ]
  },
  {
   "cell_type": "markdown",
   "metadata": {},
   "source": [
    "Bidirektional"
   ]
  },
  {
   "cell_type": "code",
   "execution_count": 48,
   "metadata": {},
   "outputs": [
    {
     "name": "stderr",
     "output_type": "stream",
     "text": [
      "C:\\Users\\Nasiba\\AppData\\Local\\Packages\\PythonSoftwareFoundation.Python.3.11_qbz5n2kfra8p0\\LocalCache\\local-packages\\Python311\\site-packages\\keras\\src\\layers\\rnn\\rnn.py:200: UserWarning: Do not pass an `input_shape`/`input_dim` argument to a layer. When using Sequential models, prefer using an `Input(shape)` object as the first layer in the model instead.\n",
      "  super().__init__(**kwargs)\n"
     ]
    },
    {
     "name": "stdout",
     "output_type": "stream",
     "text": [
      "Epoch 1/20\n",
      "631/631 - 32s - 51ms/step - accuracy: 0.9328 - loss: 0.3107 - recall_13: 0.5447 - val_accuracy: 0.9440 - val_loss: 0.1732 - val_recall_13: 0.5529\n",
      "Epoch 2/20\n",
      "631/631 - 33s - 52ms/step - accuracy: 0.9483 - loss: 0.2356 - recall_13: 0.6807 - val_accuracy: 0.9522 - val_loss: 0.1440 - val_recall_13: 0.5479\n",
      "Epoch 3/20\n",
      "631/631 - 32s - 51ms/step - accuracy: 0.9596 - loss: 0.1969 - recall_13: 0.7521 - val_accuracy: 0.9527 - val_loss: 0.1372 - val_recall_13: 0.6084\n",
      "Epoch 4/20\n",
      "631/631 - 31s - 49ms/step - accuracy: 0.9670 - loss: 0.1525 - recall_13: 0.8084 - val_accuracy: 0.9542 - val_loss: 0.1341 - val_recall_13: 0.5933\n",
      "Epoch 5/20\n",
      "631/631 - 32s - 50ms/step - accuracy: 0.9742 - loss: 0.1139 - recall_13: 0.8610 - val_accuracy: 0.9354 - val_loss: 0.1724 - val_recall_13: 0.7193\n",
      "Epoch 6/20\n",
      "631/631 - 32s - 51ms/step - accuracy: 0.9824 - loss: 0.0788 - recall_13: 0.9128 - val_accuracy: 0.9538 - val_loss: 0.1567 - val_recall_13: 0.5899\n",
      "Epoch 7/20\n",
      "631/631 - 35s - 55ms/step - accuracy: 0.9878 - loss: 0.0577 - recall_13: 0.9444 - val_accuracy: 0.9402 - val_loss: 0.1796 - val_recall_13: 0.6958\n",
      "Epoch 8/20\n",
      "631/631 - 37s - 59ms/step - accuracy: 0.9938 - loss: 0.0305 - recall_13: 0.9722 - val_accuracy: 0.9489 - val_loss: 0.2037 - val_recall_13: 0.6487\n",
      "Epoch 9/20\n",
      "631/631 - 39s - 61ms/step - accuracy: 0.9913 - loss: 0.0458 - recall_13: 0.9654 - val_accuracy: 0.9555 - val_loss: 0.1794 - val_recall_13: 0.6235\n",
      "Epoch 10/20\n",
      "631/631 - 37s - 58ms/step - accuracy: 0.9977 - loss: 0.0153 - recall_13: 0.9932 - val_accuracy: 0.9566 - val_loss: 0.2219 - val_recall_13: 0.5866\n",
      "Epoch 11/20\n",
      "631/631 - 36s - 58ms/step - accuracy: 0.9965 - loss: 0.0180 - recall_13: 0.9887 - val_accuracy: 0.9377 - val_loss: 0.2061 - val_recall_13: 0.6437\n",
      "Epoch 12/20\n",
      "631/631 - 40s - 64ms/step - accuracy: 0.9966 - loss: 0.0182 - recall_13: 0.9880 - val_accuracy: 0.9579 - val_loss: 0.2378 - val_recall_13: 0.5714\n",
      "Epoch 13/20\n",
      "631/631 - 38s - 60ms/step - accuracy: 0.9986 - loss: 0.0080 - recall_13: 0.9947 - val_accuracy: 0.9564 - val_loss: 0.2758 - val_recall_13: 0.5395\n",
      "Epoch 14/20\n",
      "631/631 - 39s - 61ms/step - accuracy: 0.9997 - loss: 0.0042 - recall_13: 0.9977 - val_accuracy: 0.9569 - val_loss: 0.3029 - val_recall_13: 0.5193\n",
      "Epoch 15/20\n",
      "631/631 - 37s - 59ms/step - accuracy: 0.9958 - loss: 0.0189 - recall_13: 0.9827 - val_accuracy: 0.9487 - val_loss: 0.2562 - val_recall_13: 0.6185\n",
      "Epoch 16/20\n",
      "631/631 - 34s - 54ms/step - accuracy: 0.9976 - loss: 0.0117 - recall_13: 0.9917 - val_accuracy: 0.9503 - val_loss: 0.2465 - val_recall_13: 0.6134\n",
      "Epoch 17/20\n",
      "631/631 - 34s - 54ms/step - accuracy: 0.9989 - loss: 0.0061 - recall_13: 0.9977 - val_accuracy: 0.9561 - val_loss: 0.2865 - val_recall_13: 0.5597\n",
      "Epoch 18/20\n",
      "631/631 - 34s - 53ms/step - accuracy: 0.9998 - loss: 0.0020 - recall_13: 0.9985 - val_accuracy: 0.9545 - val_loss: 0.3099 - val_recall_13: 0.5479\n",
      "Epoch 19/20\n",
      "631/631 - 34s - 54ms/step - accuracy: 1.0000 - loss: 0.0011 - recall_13: 1.0000 - val_accuracy: 0.9540 - val_loss: 0.3348 - val_recall_13: 0.5697\n",
      "Epoch 20/20\n",
      "631/631 - 34s - 53ms/step - accuracy: 1.0000 - loss: 7.8014e-04 - recall_13: 1.0000 - val_accuracy: 0.9555 - val_loss: 0.3917 - val_recall_13: 0.5227\n",
      "\u001b[1m277/277\u001b[0m \u001b[32m━━━━━━━━━━━━━━━━━━━━\u001b[0m\u001b[37m\u001b[0m \u001b[1m7s\u001b[0m 24ms/step\n"
     ]
    }
   ],
   "source": [
    "# Modellinitialisierung\n",
    "model_bidir_2 = Sequential()\n",
    "\n",
    "# Bidirektionale LSTM-Schicht\n",
    "model_bidir_2.add(Bidirectional(LSTM(units=128, input_shape=(max_seq_len, vector_size), return_sequences=False)))\n",
    "\n",
    "# Optional: Dropout zur Vermeidung von Overfitting\n",
    "model_bidir_2.add(Dropout(0.3))\n",
    "\n",
    "# Dense-Schicht für die Ausgabe\n",
    "model_bidir_2.add(Dense(units=1, activation='sigmoid'))\n",
    "\n",
    "# Kompilieren des Modells\n",
    "model_bidir_2.compile(optimizer='adam',\n",
    "                      loss='binary_crossentropy',\n",
    "                      metrics=['accuracy', Recall()])\n",
    "\n",
    "class_weight = {0: 1, 1: 3}\n",
    "\n",
    "history_bidir_2 = model_bidir_2.fit(\n",
    "    X_train_vectors_2, np.array(y_train_2),\n",
    "    validation_data=(X_test_data_vectors, np.array(y_test_data)),\n",
    "    epochs=20,\n",
    "    batch_size=32,\n",
    "    class_weight=class_weight,\n",
    "    verbose=2\n",
    ")\n",
    "\n",
    "# Vorhersagen auf Testdaten\n",
    "predictions_bidir_2 = model_bidir_2.predict(X_test_data_vectors)\n",
    "threshold = 0.5  # Oder teste 0.4 oder 0.6\n",
    "predicted_classes_bidir_2 = (predictions_bidir_2 > threshold).astype(int)\n"
   ]
  },
  {
   "cell_type": "code",
   "execution_count": 49,
   "metadata": {},
   "outputs": [
    {
     "name": "stdout",
     "output_type": "stream",
     "text": [
      "Classification Report:\n",
      "               precision    recall  f1-score   support\n",
      "\n",
      "     Class 0       0.97      0.99      0.98      8239\n",
      "     Class 1       0.74      0.52      0.61       595\n",
      "\n",
      "    accuracy                           0.96      8834\n",
      "   macro avg       0.85      0.75      0.79      8834\n",
      "weighted avg       0.95      0.96      0.95      8834\n",
      "\n",
      "[[8130  109]\n",
      " [ 284  311]]\n"
     ]
    },
    {
     "data": {
      "image/png": "[encoded data removed]",
      "text/plain": [
       "<Figure size 400x400 with 2 Axes>"
      ]
     },
     "metadata": {},
     "output_type": "display_data"
    }
   ],
   "source": [
    "\n",
    "\n",
    "# Klassifikationsbericht erstellen\n",
    "report = classification_report(y_test_data, predicted_classes_bidir_2, target_names=[\"Class 0\", \"Class 1\"])\n",
    "print(\"Classification Report:\\n\", report)\n",
    "\n",
    "cm = confusion_matrix(y_test_data,predicted_classes_bidir_2)\n",
    "print(cm)\n",
    "# Verwirrungsmatrix visualisieren\n",
    "plt.figure(figsize=(4, 4))\n",
    "sns.heatmap(cm, annot=True, fmt=\"d\", cmap=\"coolwarm\", linewidths=0.5, square=True,\n",
    "            xticklabels=[\"Label 0\", \"Label 1\"], yticklabels=[\"Label 0\", \"Label 1\"])\n",
    "plt.xlabel(\"Predicted Labels\", fontsize=12)\n",
    "plt.ylabel(\"True Labels\", fontsize=12)\n",
    "plt.title(\"Confusion Matrix\", fontsize=14)\n",
    "plt.show()"
   ]
  }
 ],
 "metadata": {
  "kernelspec": {
   "display_name": "Python 3",
   "language": "python",
   "name": "python3"
  },
  "language_info": {
   "codemirror_mode": {
    "name": "ipython",
    "version": 3
   },
   "file_extension": ".py",
   "mimetype": "text/x-python",
   "name": "python",
   "nbconvert_exporter": "python",
   "pygments_lexer": "ipython3",
   "version": "3.11.9"
  }
 },
 "nbformat": 4,
 "nbformat_minor": 2
}
