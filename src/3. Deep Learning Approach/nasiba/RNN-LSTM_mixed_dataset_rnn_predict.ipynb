{
 "cells": [
  {
   "cell_type": "code",
   "execution_count": 1,
   "metadata": {},
   "outputs": [],
   "source": [
    "# !pip install tensorflow\n",
    "#!pip install transformers\n",
    "#!pip install tf-keras\n",
    "# !pip install imblearn"
   ]
  },
  {
   "cell_type": "code",
   "execution_count": 1,
   "metadata": {},
   "outputs": [
    {
     "data": {
      "text/plain": [
       "WindowsPath('C:/Users/Nasiba/Documents/1 Master Data Science/Projektpraktikum/WebScience24')"
      ]
     },
     "execution_count": 1,
     "metadata": {},
     "output_type": "execute_result"
    }
   ],
   "source": [
    "import sys\n",
    "from pathlib import Path\n",
    "\n",
    "# Zum übergeordneten Ordner 'src' wechseln\n",
    "current_path = Path().resolve()\n",
    "src_path = current_path.parents[2]  # Zwei Stufen nach oben\n",
    "\n",
    "if str(src_path) not in sys.path:\n",
    "    sys.path.append(str(src_path))\n",
    "\n",
    "src_path\n"
   ]
  },
  {
   "cell_type": "code",
   "execution_count": 10,
   "metadata": {},
   "outputs": [],
   "source": [
    "\n",
    "\n",
    "import pandas as pd\n",
    "import numpy as np\n",
    "import matplotlib.pyplot as plt\n",
    "import seaborn as sns\n",
    "import json\n",
    "from pathlib import Path\n",
    "from sklearn.linear_model import LogisticRegression\n",
    "from sklearn.metrics import accuracy_score, classification_report, confusion_matrix\n",
    "\n",
    "from collections import Counter\n",
    "#nlp = spacy.load(\"en_core_web_sm\")\n",
    "from nltk import word_tokenize\n",
    "pd.set_option('display.max_colwidth', None)\n",
    "from sklearn.model_selection import train_test_split\n",
    "from sklearn.feature_extraction.text import TfidfVectorizer\n",
    "from sklearn.feature_extraction.text import CountVectorizer\n",
    "from vector_functions import vectorize_word2vec,  vectorize_glove_new,vectorize_glove, vectorize_glove_test_data,  vectorize_word2vec_test_data,  vectorize_glove_test_data_predict, vectorize_fasttext_2, vectorize_fasttext_test_data\n",
    "import nltk\n",
    "from tensorflow.keras.models import load_model\n",
    "\n",
    "import os\n",
    "from tensorflow.keras.models import Sequential\n",
    "from tensorflow.keras.layers import LSTM, Dense, Dropout, Bidirectional, Embedding\n",
    "from tensorflow.keras.utils import to_categorical\n",
    "from tensorflow.keras.models import Sequential\n",
    "from tensorflow.keras.optimizers import Adam\n",
    "from tensorflow.keras.metrics import Recall, Precision\n",
    "from tensorflow.keras.callbacks import EarlyStopping\n",
    "\n",
    "from tensorflow.keras.callbacks import ReduceLROnPlateau\n",
    "from tensorflow.keras.preprocessing.text import tokenizer_from_json\n",
    "\n"
   ]
  },
  {
   "cell_type": "markdown",
   "metadata": {},
   "source": [
    "#### Beladung der Daten"
   ]
  },
  {
   "cell_type": "code",
   "execution_count": 5,
   "metadata": {},
   "outputs": [],
   "source": [
    "\n",
    "source_filepath_name = os.path.abspath(os.path.join(src_path, 'data/mixed_dataset/test.csv'))\n",
    "\n",
    "df_test = pd.read_csv(source_filepath_name, encoding='utf-8', index_col=0)\n",
    "\n",
    "\n",
    "source_filepath_name_train = os.path.abspath(os.path.join(src_path, 'data/mixed_dataset/train_cleaned_rnn.csv'))\n",
    "\n",
    "df_cleaned = pd.read_csv(source_filepath_name_train, encoding='utf-8', index_col=0)\n",
    "\n",
    "\n"
   ]
  },
  {
   "cell_type": "markdown",
   "metadata": {},
   "source": [
    "### Vektorisierung"
   ]
  },
  {
   "cell_type": "markdown",
   "metadata": {},
   "source": [
    "#### GloVe "
   ]
  },
  {
   "cell_type": "code",
   "execution_count": 6,
   "metadata": {},
   "outputs": [
    {
     "name": "stderr",
     "output_type": "stream",
     "text": [
      "c:\\Users\\Nasiba\\Documents\\1 Master Data Science\\Projektpraktikum\\WebScience24\\src\\3. Deep Learning Approach\\nasiba\\vector_functions.py:532: SettingWithCopyWarning: \n",
      "A value is trying to be set on a copy of a slice from a DataFrame.\n",
      "Try using .loc[row_indexer,col_indexer] = value instead\n",
      "\n",
      "See the caveats in the documentation: https://pandas.pydata.org/pandas-docs/stable/user_guide/indexing.html#returning-a-view-versus-a-copy\n",
      "  df[text_column] = df[text_column].astype(str)\n"
     ]
    }
   ],
   "source": [
    "\n",
    "\n",
    "twitter_glove_path = os.path.abspath(os.path.join(src_path, 'src/3. Deep Learning Approach/nasiba/glove.6B.200d.txt'))\n",
    "\n",
    "\n",
    "X_train_vectors, X_test_vectors, y_train, y_test, glove_embeddings,tokenizer = vectorize_glove(df=df_cleaned, text_column =\"tweet_cleaned\", label_column=\"label\", glove_path=twitter_glove_path)\n",
    "\n",
    "\n"
   ]
  },
  {
   "cell_type": "code",
   "execution_count": 8,
   "metadata": {},
   "outputs": [
    {
     "name": "stdout",
     "output_type": "stream",
     "text": [
      "Tokenizer wurde gespeichert unter: C:\\Users\\Nasiba\\Documents\\1 Master Data Science\\Projektpraktikum\\WebScience24\\src\\3. Deep Learning Approach\\nasiba\\tokenizer\\tokenizer.json\n"
     ]
    }
   ],
   "source": [
    "\n",
    "\n",
    "# Tokenizer in JSON speichern\n",
    "tokenizer_path = save_path_model = os.path.abspath(os.path.join(src_path, 'src/3. Deep Learning Approach/nasiba/tokenizer/tokenizer.json'))\n",
    "tokenizer_json = tokenizer.to_json()\n",
    "with open(tokenizer_path, \"w\", encoding=\"utf-8\") as f:\n",
    "    f.write(tokenizer_json)\n",
    "\n",
    "print(f\"Tokenizer wurde gespeichert unter: {tokenizer_path}\")\n"
   ]
  },
  {
   "cell_type": "code",
   "execution_count": 12,
   "metadata": {},
   "outputs": [],
   "source": [
    "\n",
    "\n",
    "# Gespeicherten Tokenizer laden\n",
    "with open(tokenizer_path, \"r\", encoding=\"utf-8\") as f:\n",
    "    tokenizer_data = f.read()\n",
    "    tokenizer_loaded = tokenizer_from_json(tokenizer_data)\n"
   ]
  },
  {
   "cell_type": "code",
   "execution_count": 13,
   "metadata": {},
   "outputs": [
    {
     "data": {
      "text/plain": [
       "<keras.src.legacy.preprocessing.text.Tokenizer at 0x2304c33d210>"
      ]
     },
     "execution_count": 13,
     "metadata": {},
     "output_type": "execute_result"
    }
   ],
   "source": [
    "\n",
    "source_filepath_name = os.path.abspath(os.path.join(src_path, 'data/mixed_dataset/test.csv'))\n",
    "\n",
    "df_test = pd.read_csv(source_filepath_name, encoding='utf-8', index_col=0)\n",
    "\n",
    "X_test_data_vectors_3, text_col_test_data, glove_embeddings_3_test, tokenizer_3_test = vectorize_glove_test_data_predict(df=df_test, text_column =\"tweet\", glove_path=twitter_glove_path, tokenizer=tokenizer_loaded)\n",
    "\n",
    "tokenizer_3_test"
   ]
  },
  {
   "cell_type": "code",
   "execution_count": 14,
   "metadata": {},
   "outputs": [
    {
     "data": {
      "text/plain": [
       "<Sequential name=sequential, built=True>"
      ]
     },
     "execution_count": 14,
     "metadata": {},
     "output_type": "execute_result"
    }
   ],
   "source": [
    "\n",
    "save_path_model = os.path.abspath(os.path.join(src_path, 'src/3. Deep Learning Approach/nasiba/models/model_3.keras'))\n",
    "model_3 = load_model(save_path_model)\n",
    "model_3 "
   ]
  },
  {
   "cell_type": "code",
   "execution_count": 15,
   "metadata": {},
   "outputs": [
    {
     "name": "stdout",
     "output_type": "stream",
     "text": [
      "\u001b[1m1019/1019\u001b[0m \u001b[32m━━━━━━━━━━━━━━━━━━━━\u001b[0m\u001b[37m\u001b[0m \u001b[1m15s\u001b[0m 14ms/step\n"
     ]
    },
    {
     "data": {
      "text/html": [
       "<div>\n",
       "<style scoped>\n",
       "    .dataframe tbody tr th:only-of-type {\n",
       "        vertical-align: middle;\n",
       "    }\n",
       "\n",
       "    .dataframe tbody tr th {\n",
       "        vertical-align: top;\n",
       "    }\n",
       "\n",
       "    .dataframe thead th {\n",
       "        text-align: right;\n",
       "    }\n",
       "</style>\n",
       "<table border=\"1\" class=\"dataframe\">\n",
       "  <thead>\n",
       "    <tr style=\"text-align: right;\">\n",
       "      <th></th>\n",
       "      <th>tweet</th>\n",
       "      <th>predicted_label</th>\n",
       "    </tr>\n",
       "  </thead>\n",
       "  <tbody>\n",
       "    <tr>\n",
       "      <th>11885</th>\n",
       "      <td>nothing would be more dangerous than to give #putinschoice the impression we accept  #stopracism #boycott?â¦</td>\n",
       "      <td>1</td>\n",
       "    </tr>\n",
       "    <tr>\n",
       "      <th>6640</th>\n",
       "      <td>and #misogyny is alive and well on the #left.  never let them tell you it isn't.</td>\n",
       "      <td>1</td>\n",
       "    </tr>\n",
       "    <tr>\n",
       "      <th>23680</th>\n",
       "      <td>give hope. dismantle systemic racism.  #alliesforblacklives #happyholidays #blacklivesmatters #dismantle â¦</td>\n",
       "      <td>1</td>\n",
       "    </tr>\n",
       "    <tr>\n",
       "      <th>31311</th>\n",
       "      <td>happy bihday california gurls ð ð­ð¬ð¦ð©ðªð«ð­ð¬ð¦ð©ðªð« #myfavoritevideo #video #california #gurls  â¦</td>\n",
       "      <td>1</td>\n",
       "    </tr>\n",
       "    <tr>\n",
       "      <th>23597</th>\n",
       "      <td>hiv infection from oral sex  white girl has sex with black guy</td>\n",
       "      <td>1</td>\n",
       "    </tr>\n",
       "    <tr>\n",
       "      <th>...</th>\n",
       "      <td>...</td>\n",
       "      <td>...</td>\n",
       "    </tr>\n",
       "    <tr>\n",
       "      <th>176325</th>\n",
       "      <td>RT @user: The way Tricksnipers act is just ugh. 89% of them are Chief Keef, Soulja Boy niggers. Absolute sewage waste</td>\n",
       "      <td>1</td>\n",
       "    </tr>\n",
       "    <tr>\n",
       "      <th>176328</th>\n",
       "      <td>Cool. Fuck your racist ass you cunt</td>\n",
       "      <td>1</td>\n",
       "    </tr>\n",
       "    <tr>\n",
       "      <th>176344</th>\n",
       "      <td>@user Certainly the paper shows that the idea that drinking water was the only or main health issue in Iraq is a lie.</td>\n",
       "      <td>1</td>\n",
       "    </tr>\n",
       "    <tr>\n",
       "      <th>176366</th>\n",
       "      <td>@user photoshop my nig</td>\n",
       "      <td>1</td>\n",
       "    </tr>\n",
       "    <tr>\n",
       "      <th>176387</th>\n",
       "      <td>@user @user You didn't recognize the irony of me using your method because you are an ignorant Muslim.</td>\n",
       "      <td>1</td>\n",
       "    </tr>\n",
       "  </tbody>\n",
       "</table>\n",
       "<p>8225 rows × 2 columns</p>\n",
       "</div>"
      ],
      "text/plain": [
       "                                                                                                                                       tweet  \\\n",
       "11885                         nothing would be more dangerous than to give #putinschoice the impression we accept  #stopracism #boycott?â¦    \n",
       "6640                                                       and #misogyny is alive and well on the #left.  never let them tell you it isn't.    \n",
       "23680                          give hope. dismantle systemic racism.  #alliesforblacklives #happyholidays #blacklivesmatters #dismantle â¦    \n",
       "31311   happy bihday california gurls ð ð­ð¬ð¦ð©ðªð«ð­ð¬ð¦ð©ðªð« #myfavoritevideo #video #california #gurls  â¦    \n",
       "23597                                                                        hiv infection from oral sex  white girl has sex with black guy    \n",
       "...                                                                                                                                      ...   \n",
       "176325                 RT @user: The way Tricksnipers act is just ugh. 89% of them are Chief Keef, Soulja Boy niggers. Absolute sewage waste   \n",
       "176328                                                                                                   Cool. Fuck your racist ass you cunt   \n",
       "176344                 @user Certainly the paper shows that the idea that drinking water was the only or main health issue in Iraq is a lie.   \n",
       "176366                                                                                                                @user photoshop my nig   \n",
       "176387                                @user @user You didn't recognize the irony of me using your method because you are an ignorant Muslim.   \n",
       "\n",
       "        predicted_label  \n",
       "11885                 1  \n",
       "6640                  1  \n",
       "23680                 1  \n",
       "31311                 1  \n",
       "23597                 1  \n",
       "...                 ...  \n",
       "176325                1  \n",
       "176328                1  \n",
       "176344                1  \n",
       "176366                1  \n",
       "176387                1  \n",
       "\n",
       "[8225 rows x 2 columns]"
      ]
     },
     "execution_count": 15,
     "metadata": {},
     "output_type": "execute_result"
    }
   ],
   "source": [
    "predictions_3_test= model_3.predict(X_test_data_vectors_3)\n",
    "threshold=0.35 # Oder teste 0.4 oder 0.6\n",
    "predicted_classes_3_test = (predictions_3_test > threshold).astype(int)\n",
    "df_predictions_3 = df_test[['tweet']].copy()  # Textspalte übernehmen\n",
    "df_predictions_3['predicted_label'] =predicted_classes_3_test  # Vorhersagen hinzufügen\n",
    "\n",
    "df_positive_predictions_3 = df_predictions_3[df_predictions_3['predicted_label'] == 1][['tweet', 'predicted_label']]\n",
    "\n",
    "df_positive_predictions_3"
   ]
  },
  {
   "cell_type": "markdown",
   "metadata": {},
   "source": [
    "Model_21 auf testdaten predicten"
   ]
  },
  {
   "cell_type": "code",
   "execution_count": 19,
   "metadata": {},
   "outputs": [
    {
     "name": "stdout",
     "output_type": "stream",
     "text": [
      "\u001b[1m1019/1019\u001b[0m \u001b[32m━━━━━━━━━━━━━━━━━━━━\u001b[0m\u001b[37m\u001b[0m \u001b[1m15s\u001b[0m 14ms/step\n"
     ]
    },
    {
     "data": {
      "text/html": [
       "<div>\n",
       "<style scoped>\n",
       "    .dataframe tbody tr th:only-of-type {\n",
       "        vertical-align: middle;\n",
       "    }\n",
       "\n",
       "    .dataframe tbody tr th {\n",
       "        vertical-align: top;\n",
       "    }\n",
       "\n",
       "    .dataframe thead th {\n",
       "        text-align: right;\n",
       "    }\n",
       "</style>\n",
       "<table border=\"1\" class=\"dataframe\">\n",
       "  <thead>\n",
       "    <tr style=\"text-align: right;\">\n",
       "      <th></th>\n",
       "      <th>tweet</th>\n",
       "      <th>predicted_label</th>\n",
       "    </tr>\n",
       "  </thead>\n",
       "  <tbody>\n",
       "    <tr>\n",
       "      <th>11885</th>\n",
       "      <td>nothing would be more dangerous than to give #putinschoice the impression we accept  #stopracism #boycott?â¦</td>\n",
       "      <td>1</td>\n",
       "    </tr>\n",
       "    <tr>\n",
       "      <th>27378</th>\n",
       "      <td>attacks 11 week old baby. kills mother. #shocking   #disgusted</td>\n",
       "      <td>1</td>\n",
       "    </tr>\n",
       "    <tr>\n",
       "      <th>6640</th>\n",
       "      <td>and #misogyny is alive and well on the #left.  never let them tell you it isn't.</td>\n",
       "      <td>1</td>\n",
       "    </tr>\n",
       "    <tr>\n",
       "      <th>19019</th>\n",
       "      <td>what is a #detoxdiet?  #altwaystoheal! #healthy  !</td>\n",
       "      <td>1</td>\n",
       "    </tr>\n",
       "    <tr>\n",
       "      <th>12084</th>\n",
       "      <td>politics is great in theory but politicians are all self obsessed point scoring children &amp;amp; idiots take their word as gospel = dangerous</td>\n",
       "      <td>1</td>\n",
       "    </tr>\n",
       "    <tr>\n",
       "      <th>...</th>\n",
       "      <td>...</td>\n",
       "      <td>...</td>\n",
       "    </tr>\n",
       "    <tr>\n",
       "      <th>176344</th>\n",
       "      <td>@user Certainly the paper shows that the idea that drinking water was the only or main health issue in Iraq is a lie.</td>\n",
       "      <td>1</td>\n",
       "    </tr>\n",
       "    <tr>\n",
       "      <th>176360</th>\n",
       "      <td>Even liberals are humiliated by Charlie Rangel&amp;#8217;s claim the GOP backs slavery - Hot Air http://t.co/I4QawESnud</td>\n",
       "      <td>1</td>\n",
       "    </tr>\n",
       "    <tr>\n",
       "      <th>176366</th>\n",
       "      <td>@user photoshop my nig</td>\n",
       "      <td>1</td>\n",
       "    </tr>\n",
       "    <tr>\n",
       "      <th>176384</th>\n",
       "      <td>And mad hoes you can ask Beavis I get nothing butthead</td>\n",
       "      <td>1</td>\n",
       "    </tr>\n",
       "    <tr>\n",
       "      <th>176387</th>\n",
       "      <td>@user @user You didn't recognize the irony of me using your method because you are an ignorant Muslim.</td>\n",
       "      <td>1</td>\n",
       "    </tr>\n",
       "  </tbody>\n",
       "</table>\n",
       "<p>16394 rows × 2 columns</p>\n",
       "</div>"
      ],
      "text/plain": [
       "                                                                                                                                                tweet  \\\n",
       "11885                                  nothing would be more dangerous than to give #putinschoice the impression we accept  #stopracism #boycott?â¦    \n",
       "27378                                                                                 attacks 11 week old baby. kills mother. #shocking   #disgusted    \n",
       "6640                                                                and #misogyny is alive and well on the #left.  never let them tell you it isn't.    \n",
       "19019                                                                                             what is a #detoxdiet?  #altwaystoheal! #healthy  !    \n",
       "12084   politics is great in theory but politicians are all self obsessed point scoring children &amp; idiots take their word as gospel = dangerous     \n",
       "...                                                                                                                                               ...   \n",
       "176344                          @user Certainly the paper shows that the idea that drinking water was the only or main health issue in Iraq is a lie.   \n",
       "176360                            Even liberals are humiliated by Charlie Rangel&#8217;s claim the GOP backs slavery - Hot Air http://t.co/I4QawESnud   \n",
       "176366                                                                                                                         @user photoshop my nig   \n",
       "176384                                                                                         And mad hoes you can ask Beavis I get nothing butthead   \n",
       "176387                                         @user @user You didn't recognize the irony of me using your method because you are an ignorant Muslim.   \n",
       "\n",
       "        predicted_label  \n",
       "11885                 1  \n",
       "27378                 1  \n",
       "6640                  1  \n",
       "19019                 1  \n",
       "12084                 1  \n",
       "...                 ...  \n",
       "176344                1  \n",
       "176360                1  \n",
       "176366                1  \n",
       "176384                1  \n",
       "176387                1  \n",
       "\n",
       "[16394 rows x 2 columns]"
      ]
     },
     "execution_count": 19,
     "metadata": {},
     "output_type": "execute_result"
    }
   ],
   "source": [
    "\n",
    "save_path_model = os.path.abspath(os.path.join(src_path, 'src/3. Deep Learning Approach/nasiba/models/model_17.keras'))\n",
    "model_17 = load_model(save_path_model)\n",
    "predictions_17_test= model_17.predict(X_test_data_vectors_3)\n",
    "threshold=0.35 # Oder teste 0.4 oder 0.6\n",
    "predicted_classes_17_test = (predictions_17_test > threshold).astype(int)\n",
    "df_predictions_17 = df_test[['tweet']].copy()  # Textspalte übernehmen\n",
    "df_predictions_17['predicted_label'] =predicted_classes_17_test  # Vorhersagen hinzufügen\n",
    "\n",
    "df_positive_predictions_17 = df_predictions_17[df_predictions_17['predicted_label'] == 1][['tweet', 'predicted_label']]\n",
    "\n",
    "df_positive_predictions_17"
   ]
  },
  {
   "cell_type": "markdown",
   "metadata": {},
   "source": [
    "Modell speichern"
   ]
  },
  {
   "cell_type": "code",
   "execution_count": 23,
   "metadata": {},
   "outputs": [],
   "source": [
    "save_path_labeled_data_3 = os.path.abspath(os.path.join(src_path, 'src/3. Deep Learning Approach/nasiba/labeled_data/test_labeled_lstm_md_17.csv'))\n",
    "\n",
    "\n",
    "df_predictions_17.to_csv(save_path_labeled_data_3, index=False)"
   ]
  },
  {
   "cell_type": "code",
   "execution_count": 21,
   "metadata": {},
   "outputs": [],
   "source": [
    "save_path_labeled_data_17 = os.path.abspath(os.path.join(src_path, 'src/3. Deep Learning Approach/nasiba/labeled_data/test_labeled_lstm_md_17.csv'))\n",
    "\n",
    "save_path_labeled_data_21 = os.path.abspath(os.path.join(src_path, 'src/3. Deep Learning Approach/nasiba/labeled_data/test_labeled_lstm_md_21.csv'))\n",
    "\n",
    "save_path_labeled_data_3 = os.path.abspath(os.path.join(src_path, 'src/3. Deep Learning Approach/nasiba/labeled_data/test_labeled_lstm_md_3.csv'))\n",
    "\n",
    "df_17 = pd.read_csv(save_path_labeled_data_17, encoding='utf-8', index_col=0)\n",
    "\n",
    "df_21 = pd.read_csv(save_path_labeled_data_21, encoding='utf-8', index_col=0)\n",
    "\n",
    "df_3 = pd.read_csv(save_path_labeled_data_3, encoding='utf-8', index_col=0)"
   ]
  },
  {
   "cell_type": "code",
   "execution_count": 22,
   "metadata": {},
   "outputs": [
    {
     "data": {
      "text/html": [
       "<div>\n",
       "<style scoped>\n",
       "    .dataframe tbody tr th:only-of-type {\n",
       "        vertical-align: middle;\n",
       "    }\n",
       "\n",
       "    .dataframe tbody tr th {\n",
       "        vertical-align: top;\n",
       "    }\n",
       "\n",
       "    .dataframe thead th {\n",
       "        text-align: right;\n",
       "    }\n",
       "</style>\n",
       "<table border=\"1\" class=\"dataframe\">\n",
       "  <thead>\n",
       "    <tr style=\"text-align: right;\">\n",
       "      <th></th>\n",
       "      <th>predicted_label</th>\n",
       "    </tr>\n",
       "    <tr>\n",
       "      <th>tweet</th>\n",
       "      <th></th>\n",
       "    </tr>\n",
       "  </thead>\n",
       "  <tbody>\n",
       "    <tr>\n",
       "      <th>nothing would be more dangerous than to give #putinschoice the impression we accept  #stopracism #boycott?â¦</th>\n",
       "      <td>1</td>\n",
       "    </tr>\n",
       "    <tr>\n",
       "      <th>attacks 11 week old baby. kills mother. #shocking   #disgusted</th>\n",
       "      <td>1</td>\n",
       "    </tr>\n",
       "    <tr>\n",
       "      <th>and #misogyny is alive and well on the #left.  never let them tell you it isn't.</th>\n",
       "      <td>1</td>\n",
       "    </tr>\n",
       "    <tr>\n",
       "      <th>what is a #detoxdiet?  #altwaystoheal! #healthy  !</th>\n",
       "      <td>1</td>\n",
       "    </tr>\n",
       "    <tr>\n",
       "      <th>politics is great in theory but politicians are all self obsessed point scoring children &amp;amp; idiots take their word as gospel = dangerous</th>\n",
       "      <td>1</td>\n",
       "    </tr>\n",
       "    <tr>\n",
       "      <th>...</th>\n",
       "      <td>...</td>\n",
       "    </tr>\n",
       "    <tr>\n",
       "      <th>@user Certainly the paper shows that the idea that drinking water was the only or main health issue in Iraq is a lie.</th>\n",
       "      <td>1</td>\n",
       "    </tr>\n",
       "    <tr>\n",
       "      <th>Even liberals are humiliated by Charlie Rangel&amp;#8217;s claim the GOP backs slavery - Hot Air http://t.co/I4QawESnud</th>\n",
       "      <td>1</td>\n",
       "    </tr>\n",
       "    <tr>\n",
       "      <th>@user photoshop my nig</th>\n",
       "      <td>1</td>\n",
       "    </tr>\n",
       "    <tr>\n",
       "      <th>And mad hoes you can ask Beavis I get nothing butthead</th>\n",
       "      <td>1</td>\n",
       "    </tr>\n",
       "    <tr>\n",
       "      <th>@user @user You didn't recognize the irony of me using your method because you are an ignorant Muslim.</th>\n",
       "      <td>1</td>\n",
       "    </tr>\n",
       "  </tbody>\n",
       "</table>\n",
       "<p>16394 rows × 1 columns</p>\n",
       "</div>"
      ],
      "text/plain": [
       "                                                                                                                                               predicted_label\n",
       "tweet                                                                                                                                                         \n",
       "nothing would be more dangerous than to give #putinschoice the impression we accept  #stopracism #boycott?â¦                                                1\n",
       "attacks 11 week old baby. kills mother. #shocking   #disgusted                                                                                               1\n",
       " and #misogyny is alive and well on the #left.  never let them tell you it isn't.                                                                            1\n",
       "what is a #detoxdiet?  #altwaystoheal! #healthy  !                                                                                                           1\n",
       "politics is great in theory but politicians are all self obsessed point scoring children &amp; idiots take their word as gospel = dangerous                  1\n",
       "...                                                                                                                                                        ...\n",
       "@user Certainly the paper shows that the idea that drinking water was the only or main health issue in Iraq is a lie.                                        1\n",
       "Even liberals are humiliated by Charlie Rangel&#8217;s claim the GOP backs slavery - Hot Air http://t.co/I4QawESnud                                          1\n",
       "@user photoshop my nig                                                                                                                                       1\n",
       "And mad hoes you can ask Beavis I get nothing butthead                                                                                                       1\n",
       "@user @user You didn't recognize the irony of me using your method because you are an ignorant Muslim.                                                       1\n",
       "\n",
       "[16394 rows x 1 columns]"
      ]
     },
     "execution_count": 22,
     "metadata": {},
     "output_type": "execute_result"
    }
   ],
   "source": [
    "df_17_label1= df_17[df_17['predicted_label']==1]\n",
    "df_17_label1"
   ]
  },
  {
   "cell_type": "code",
   "execution_count": 8,
   "metadata": {},
   "outputs": [
    {
     "data": {
      "text/html": [
       "<div>\n",
       "<style scoped>\n",
       "    .dataframe tbody tr th:only-of-type {\n",
       "        vertical-align: middle;\n",
       "    }\n",
       "\n",
       "    .dataframe tbody tr th {\n",
       "        vertical-align: top;\n",
       "    }\n",
       "\n",
       "    .dataframe thead th {\n",
       "        text-align: right;\n",
       "    }\n",
       "</style>\n",
       "<table border=\"1\" class=\"dataframe\">\n",
       "  <thead>\n",
       "    <tr style=\"text-align: right;\">\n",
       "      <th></th>\n",
       "      <th>predicted_label</th>\n",
       "    </tr>\n",
       "    <tr>\n",
       "      <th>tweet</th>\n",
       "      <th></th>\n",
       "    </tr>\n",
       "  </thead>\n",
       "  <tbody>\n",
       "    <tr>\n",
       "      <th>nothing would be more dangerous than to give #putinschoice the impression we accept  #stopracism #boycott?â¦</th>\n",
       "      <td>1</td>\n",
       "    </tr>\n",
       "    <tr>\n",
       "      <th>there is a future nina and right now you are pretty much throwing yours away.</th>\n",
       "      <td>1</td>\n",
       "    </tr>\n",
       "    <tr>\n",
       "      <th>and #misogyny is alive and well on the #left.  never let them tell you it isn't.</th>\n",
       "      <td>1</td>\n",
       "    </tr>\n",
       "    <tr>\n",
       "      <th>give hope. dismantle systemic racism.  #alliesforblacklives #happyholidays #blacklivesmatters #dismantle â¦</th>\n",
       "      <td>1</td>\n",
       "    </tr>\n",
       "    <tr>\n",
       "      <th>what a disgrace :( poor kids already have tough life ...</th>\n",
       "      <td>1</td>\n",
       "    </tr>\n",
       "    <tr>\n",
       "      <th>...</th>\n",
       "      <td>...</td>\n",
       "    </tr>\n",
       "    <tr>\n",
       "      <th>The 4 whores need to leave the country kick these dogs to the gutter</th>\n",
       "      <td>1</td>\n",
       "    </tr>\n",
       "    <tr>\n",
       "      <th>RT @user: The way Tricksnipers act is just ugh. 89% of them are Chief Keef, Soulja Boy niggers. Absolute sewage waste</th>\n",
       "      <td>1</td>\n",
       "    </tr>\n",
       "    <tr>\n",
       "      <th>Cool. Fuck your racist ass you cunt</th>\n",
       "      <td>1</td>\n",
       "    </tr>\n",
       "    <tr>\n",
       "      <th>@user photoshop my nig</th>\n",
       "      <td>1</td>\n",
       "    </tr>\n",
       "    <tr>\n",
       "      <th>@user @user You didn't recognize the irony of me using your method because you are an ignorant Muslim.</th>\n",
       "      <td>1</td>\n",
       "    </tr>\n",
       "  </tbody>\n",
       "</table>\n",
       "<p>12652 rows × 1 columns</p>\n",
       "</div>"
      ],
      "text/plain": [
       "                                                                                                                       predicted_label\n",
       "tweet                                                                                                                                 \n",
       "nothing would be more dangerous than to give #putinschoice the impression we accept  #stopracism #boycott?â¦                        1\n",
       "there is a future nina and right now you are pretty much throwing yours away.                                                        1\n",
       " and #misogyny is alive and well on the #left.  never let them tell you it isn't.                                                    1\n",
       "give hope. dismantle systemic racism.  #alliesforblacklives #happyholidays #blacklivesmatters #dismantle â¦                         1\n",
       "what a disgrace :( poor kids already have tough life ...                                                                             1\n",
       "...                                                                                                                                ...\n",
       "The 4 whores need to leave the country kick these dogs to the gutter                                                                 1\n",
       "RT @user: The way Tricksnipers act is just ugh. 89% of them are Chief Keef, Soulja Boy niggers. Absolute sewage waste                1\n",
       "Cool. Fuck your racist ass you cunt                                                                                                  1\n",
       "@user photoshop my nig                                                                                                               1\n",
       "@user @user You didn't recognize the irony of me using your method because you are an ignorant Muslim.                               1\n",
       "\n",
       "[12652 rows x 1 columns]"
      ]
     },
     "execution_count": 8,
     "metadata": {},
     "output_type": "execute_result"
    }
   ],
   "source": [
    "df_21_label1= df_21[df_21['predicted_label']==1]\n",
    "df_21_label1"
   ]
  },
  {
   "cell_type": "code",
   "execution_count": 18,
   "metadata": {},
   "outputs": [
    {
     "data": {
      "text/html": [
       "<div>\n",
       "<style scoped>\n",
       "    .dataframe tbody tr th:only-of-type {\n",
       "        vertical-align: middle;\n",
       "    }\n",
       "\n",
       "    .dataframe tbody tr th {\n",
       "        vertical-align: top;\n",
       "    }\n",
       "\n",
       "    .dataframe thead th {\n",
       "        text-align: right;\n",
       "    }\n",
       "</style>\n",
       "<table border=\"1\" class=\"dataframe\">\n",
       "  <thead>\n",
       "    <tr style=\"text-align: right;\">\n",
       "      <th></th>\n",
       "      <th>predicted_label</th>\n",
       "    </tr>\n",
       "    <tr>\n",
       "      <th>tweet</th>\n",
       "      <th></th>\n",
       "    </tr>\n",
       "  </thead>\n",
       "  <tbody>\n",
       "    <tr>\n",
       "      <th>nothing would be more dangerous than to give #putinschoice the impression we accept  #stopracism #boycott?â¦</th>\n",
       "      <td>1</td>\n",
       "    </tr>\n",
       "    <tr>\n",
       "      <th>and #misogyny is alive and well on the #left.  never let them tell you it isn't.</th>\n",
       "      <td>1</td>\n",
       "    </tr>\n",
       "    <tr>\n",
       "      <th>give hope. dismantle systemic racism.  #alliesforblacklives #happyholidays #blacklivesmatters #dismantle â¦</th>\n",
       "      <td>1</td>\n",
       "    </tr>\n",
       "    <tr>\n",
       "      <th>happy bihday california gurls ð ð­ð¬ð¦ð©ðªð«ð­ð¬ð¦ð©ðªð« #myfavoritevideo #video #california #gurls  â¦</th>\n",
       "      <td>1</td>\n",
       "    </tr>\n",
       "    <tr>\n",
       "      <th>hiv infection from oral sex  white girl has sex with black guy</th>\n",
       "      <td>1</td>\n",
       "    </tr>\n",
       "    <tr>\n",
       "      <th>...</th>\n",
       "      <td>...</td>\n",
       "    </tr>\n",
       "    <tr>\n",
       "      <th>RT @user: The way Tricksnipers act is just ugh. 89% of them are Chief Keef, Soulja Boy niggers. Absolute sewage waste</th>\n",
       "      <td>1</td>\n",
       "    </tr>\n",
       "    <tr>\n",
       "      <th>Cool. Fuck your racist ass you cunt</th>\n",
       "      <td>1</td>\n",
       "    </tr>\n",
       "    <tr>\n",
       "      <th>@user Certainly the paper shows that the idea that drinking water was the only or main health issue in Iraq is a lie.</th>\n",
       "      <td>1</td>\n",
       "    </tr>\n",
       "    <tr>\n",
       "      <th>@user photoshop my nig</th>\n",
       "      <td>1</td>\n",
       "    </tr>\n",
       "    <tr>\n",
       "      <th>@user @user You didn't recognize the irony of me using your method because you are an ignorant Muslim.</th>\n",
       "      <td>1</td>\n",
       "    </tr>\n",
       "  </tbody>\n",
       "</table>\n",
       "<p>8225 rows × 1 columns</p>\n",
       "</div>"
      ],
      "text/plain": [
       "                                                                                                                                      predicted_label\n",
       "tweet                                                                                                                                                \n",
       "nothing would be more dangerous than to give #putinschoice the impression we accept  #stopracism #boycott?â¦                                       1\n",
       " and #misogyny is alive and well on the #left.  never let them tell you it isn't.                                                                   1\n",
       "give hope. dismantle systemic racism.  #alliesforblacklives #happyholidays #blacklivesmatters #dismantle â¦                                        1\n",
       "happy bihday california gurls ð ð­ð¬ð¦ð©ðªð«ð­ð¬ð¦ð©ðªð« #myfavoritevideo #video #california #gurls  â¦                 1\n",
       "hiv infection from oral sex  white girl has sex with black guy                                                                                      1\n",
       "...                                                                                                                                               ...\n",
       "RT @user: The way Tricksnipers act is just ugh. 89% of them are Chief Keef, Soulja Boy niggers. Absolute sewage waste                               1\n",
       "Cool. Fuck your racist ass you cunt                                                                                                                 1\n",
       "@user Certainly the paper shows that the idea that drinking water was the only or main health issue in Iraq is a lie.                               1\n",
       "@user photoshop my nig                                                                                                                              1\n",
       "@user @user You didn't recognize the irony of me using your method because you are an ignorant Muslim.                                              1\n",
       "\n",
       "[8225 rows x 1 columns]"
      ]
     },
     "execution_count": 18,
     "metadata": {},
     "output_type": "execute_result"
    }
   ],
   "source": [
    "df_3_label1= df_3[df_3['predicted_label']==1]\n",
    "df_3_label1"
   ]
  }
 ],
 "metadata": {
  "kernelspec": {
   "display_name": "Python 3",
   "language": "python",
   "name": "python3"
  },
  "language_info": {
   "codemirror_mode": {
    "name": "ipython",
    "version": 3
   },
   "file_extension": ".py",
   "mimetype": "text/x-python",
   "name": "python",
   "nbconvert_exporter": "python",
   "pygments_lexer": "ipython3",
   "version": "3.11.9"
  }
 },
 "nbformat": 4,
 "nbformat_minor": 2
}
