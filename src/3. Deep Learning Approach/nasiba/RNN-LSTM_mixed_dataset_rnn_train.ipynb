{
 "cells": [
  {
   "cell_type": "code",
   "execution_count": 1,
   "metadata": {},
   "outputs": [],
   "source": [
    "# !pip install tensorflow\n",
    "#!pip install transformers\n",
    "#!pip install tf-keras\n",
    "# !pip install imblearn"
   ]
  },
  {
   "cell_type": "code",
   "execution_count": 1,
   "metadata": {},
   "outputs": [
    {
     "data": {
      "text/plain": [
       "WindowsPath('C:/Users/Nasiba/Documents/1 Master Data Science/Projektpraktikum/WebScience24')"
      ]
     },
     "execution_count": 1,
     "metadata": {},
     "output_type": "execute_result"
    }
   ],
   "source": [
    "import sys\n",
    "from pathlib import Path\n",
    "\n",
    "# Zum übergeordneten Ordner 'src' wechseln\n",
    "current_path = Path().resolve()\n",
    "src_path = current_path.parents[2]  # Zwei Stufen nach oben\n",
    "\n",
    "if str(src_path) not in sys.path:\n",
    "    sys.path.append(str(src_path))\n",
    "\n",
    "src_path\n"
   ]
  },
  {
   "cell_type": "code",
   "execution_count": 2,
   "metadata": {},
   "outputs": [],
   "source": [
    "\n",
    "\n",
    "import pandas as pd\n",
    "import numpy as np\n",
    "import matplotlib.pyplot as plt\n",
    "import seaborn as sns\n",
    "\n",
    "from pathlib import Path\n",
    "from sklearn.linear_model import LogisticRegression\n",
    "from sklearn.metrics import accuracy_score, classification_report, confusion_matrix\n",
    "\n",
    "from collections import Counter\n",
    "#nlp = spacy.load(\"en_core_web_sm\")\n",
    "from nltk import word_tokenize\n",
    "pd.set_option('display.max_colwidth', None)\n",
    "from sklearn.model_selection import train_test_split\n",
    "from sklearn.feature_extraction.text import TfidfVectorizer\n",
    "from sklearn.feature_extraction.text import CountVectorizer\n",
    "from vector_functions import vectorize_word2vec,  vectorize_glove_new,vectorize_glove, vectorize_glove_test_data,  vectorize_word2vec_test_data,  vectorize_glove_test_data_predict, vectorize_fasttext_2, vectorize_fasttext_test_data\n",
    "import nltk\n",
    "from tensorflow.keras.models import load_model\n",
    "\n",
    "import os\n",
    "from tensorflow.keras.models import Sequential\n",
    "from tensorflow.keras.layers import LSTM, Dense, Dropout, Bidirectional, Embedding\n",
    "from tensorflow.keras.utils import to_categorical\n",
    "from tensorflow.keras.models import Sequential\n",
    "from tensorflow.keras.optimizers import Adam\n",
    "from tensorflow.keras.metrics import Recall, Precision\n",
    "from tensorflow.keras.callbacks import EarlyStopping\n",
    "\n",
    "from tensorflow.keras.callbacks import ReduceLROnPlateau\n",
    "\n",
    "import numpy as np\n",
    "from tensorflow.keras.preprocessing.text import Tokenizer\n",
    "from tensorflow.keras.preprocessing.sequence import pad_sequences\n",
    "from tensorflow.keras.models import Sequential\n",
    "from tensorflow.keras.layers import LSTM, Dense, Dropout, Embedding\n",
    "from tensorflow.keras.optimizers import Adam\n",
    "from tensorflow.keras.callbacks import EarlyStopping, ReduceLROnPlateau\n",
    "from tensorflow.keras.metrics import Recall\n"
   ]
  },
  {
   "cell_type": "markdown",
   "metadata": {},
   "source": [
    "#### Beladung der Daten"
   ]
  },
  {
   "cell_type": "code",
   "execution_count": 4,
   "metadata": {},
   "outputs": [
    {
     "data": {
      "text/html": [
       "<div>\n",
       "<style scoped>\n",
       "    .dataframe tbody tr th:only-of-type {\n",
       "        vertical-align: middle;\n",
       "    }\n",
       "\n",
       "    .dataframe tbody tr th {\n",
       "        vertical-align: top;\n",
       "    }\n",
       "\n",
       "    .dataframe thead th {\n",
       "        text-align: right;\n",
       "    }\n",
       "</style>\n",
       "<table border=\"1\" class=\"dataframe\">\n",
       "  <thead>\n",
       "    <tr style=\"text-align: right;\">\n",
       "      <th></th>\n",
       "      <th>label</th>\n",
       "      <th>tweet</th>\n",
       "      <th>tweet_cleaned</th>\n",
       "      <th>user_handle</th>\n",
       "      <th>hashtags</th>\n",
       "      <th>emojis</th>\n",
       "    </tr>\n",
       "  </thead>\n",
       "  <tbody>\n",
       "    <tr>\n",
       "      <th>140232</th>\n",
       "      <td>0</td>\n",
       "      <td>Nicki's \"that's not good\" pout bought to you by Botox[™]. #MKR</td>\n",
       "      <td>nickis \"thats not good\" pout bought to you by botox trade mark  mkr</td>\n",
       "      <td>0</td>\n",
       "      <td>['#mkr']</td>\n",
       "      <td>__trade_mark__</td>\n",
       "    </tr>\n",
       "  </tbody>\n",
       "</table>\n",
       "</div>"
      ],
      "text/plain": [
       "        label                                                           tweet  \\\n",
       "140232      0  Nicki's \"that's not good\" pout bought to you by Botox[™]. #MKR   \n",
       "\n",
       "                                                              tweet_cleaned  \\\n",
       "140232  nickis \"thats not good\" pout bought to you by botox trade mark  mkr   \n",
       "\n",
       "        user_handle  hashtags          emojis  \n",
       "140232            0  ['#mkr']  __trade_mark__  "
      ]
     },
     "execution_count": 4,
     "metadata": {},
     "output_type": "execute_result"
    }
   ],
   "source": [
    "\n",
    "source_filepath_name = os.path.abspath(os.path.join(src_path, 'data/mixed_dataset/train_cleaned_rnn.csv'))\n",
    "\n",
    "df_cleaned = pd.read_csv(source_filepath_name, encoding='utf-8', index_col=0)\n",
    "\n",
    "source_filepath_name_test = os.path.abspath(os.path.join(src_path, 'data/mixed_dataset/test_cleaned_rnn.csv'))\n",
    "\n",
    "df_cleaned_test = pd.read_csv(source_filepath_name_test, encoding='utf-8', index_col=0)\n",
    "\n",
    "\n",
    "df_cleaned.head(1)\n"
   ]
  },
  {
   "cell_type": "markdown",
   "metadata": {},
   "source": [
    "### Vektorisierung"
   ]
  },
  {
   "cell_type": "markdown",
   "metadata": {},
   "source": [
    "#### GloVe "
   ]
  },
  {
   "cell_type": "code",
   "execution_count": 5,
   "metadata": {},
   "outputs": [
    {
     "name": "stderr",
     "output_type": "stream",
     "text": [
      "c:\\Users\\Nasiba\\Documents\\1 Master Data Science\\Projektpraktikum\\WebScience24\\src\\3. Deep Learning Approach\\nasiba\\vector_functions.py:532: SettingWithCopyWarning: \n",
      "A value is trying to be set on a copy of a slice from a DataFrame.\n",
      "Try using .loc[row_indexer,col_indexer] = value instead\n",
      "\n",
      "See the caveats in the documentation: https://pandas.pydata.org/pandas-docs/stable/user_guide/indexing.html#returning-a-view-versus-a-copy\n",
      "  df[text_column] = df[text_column].astype(str)\n",
      "c:\\Users\\Nasiba\\Documents\\1 Master Data Science\\Projektpraktikum\\WebScience24\\src\\3. Deep Learning Approach\\nasiba\\vector_functions.py:604: SettingWithCopyWarning: \n",
      "A value is trying to be set on a copy of a slice from a DataFrame.\n",
      "Try using .loc[row_indexer,col_indexer] = value instead\n",
      "\n",
      "See the caveats in the documentation: https://pandas.pydata.org/pandas-docs/stable/user_guide/indexing.html#returning-a-view-versus-a-copy\n",
      "  df[text_column] = df[text_column].astype(str)\n"
     ]
    }
   ],
   "source": [
    "\n",
    "\n",
    "twitter_glove_path = os.path.abspath(os.path.join(src_path, 'src/3. Deep Learning Approach/nasiba/glove.6B.200d.txt'))\n",
    "\n",
    "\n",
    "X_train_vectors, X_test_vectors, y_train, y_test, glove_embeddings,tokenizer = vectorize_glove(df=df_cleaned, text_column =\"tweet_cleaned\", label_column=\"label\", glove_path=twitter_glove_path)\n",
    "\n",
    "X_test_data_vectors , y_test_data, glove_embeddings_test,tokenizer_test = vectorize_glove_test_data(df=df_cleaned_test, text_column =\"tweet_cleaned\", label_column=\"label\", glove_path=twitter_glove_path, tokenizer=tokenizer)\n"
   ]
  },
  {
   "cell_type": "markdown",
   "metadata": {},
   "source": [
    "### Modell aufbauen "
   ]
  },
  {
   "cell_type": "markdown",
   "metadata": {},
   "source": [
    "#### Modeltraining mit anderen Parametern\n",
    "\n",
    "(Aktivierungsfunktion in der Dense-Schicht zu sigmoid ändern,class_wight hinzufügen)"
   ]
  },
  {
   "cell_type": "code",
   "execution_count": null,
   "metadata": {},
   "outputs": [
    {
     "name": "stderr",
     "output_type": "stream",
     "text": [
      "C:\\Users\\Nasiba\\AppData\\Local\\Packages\\PythonSoftwareFoundation.Python.3.11_qbz5n2kfra8p0\\LocalCache\\local-packages\\Python311\\site-packages\\keras\\src\\layers\\rnn\\rnn.py:200: UserWarning: Do not pass an `input_shape`/`input_dim` argument to a layer. When using Sequential models, prefer using an `Input(shape)` object as the first layer in the model instead.\n",
      "  super().__init__(**kwargs)\n"
     ]
    },
    {
     "name": "stdout",
     "output_type": "stream",
     "text": [
      "Epoch 1/10\n",
      "2996/2996 - 180s - 60ms/step - accuracy: 0.7209 - loss: 0.5401 - recall: 0.7607 - val_accuracy: 0.7140 - val_loss: 0.4922 - val_recall: 0.8037\n",
      "Epoch 2/10\n",
      "2996/2996 - 143s - 48ms/step - accuracy: 0.7887 - loss: 0.4437 - recall: 0.8401 - val_accuracy: 0.7328 - val_loss: 0.4756 - val_recall: 0.7838\n",
      "Epoch 3/10\n",
      "2996/2996 - 147s - 49ms/step - accuracy: 0.8408 - loss: 0.3609 - recall: 0.8910 - val_accuracy: 0.7806 - val_loss: 0.4583 - val_recall: 0.6820\n",
      "Epoch 4/10\n",
      "2996/2996 - 146s - 49ms/step - accuracy: 0.8859 - loss: 0.2834 - recall: 0.9205 - val_accuracy: 0.7822 - val_loss: 0.5330 - val_recall: 0.6599\n",
      "Epoch 5/10\n",
      "2996/2996 - 152s - 51ms/step - accuracy: 0.9179 - loss: 0.2202 - recall: 0.9475 - val_accuracy: 0.7916 - val_loss: 0.5960 - val_recall: 0.6151\n",
      "Epoch 6/10\n",
      "2996/2996 - 150s - 50ms/step - accuracy: 0.9374 - loss: 0.1759 - recall: 0.9569 - val_accuracy: 0.8138 - val_loss: 0.5721 - val_recall: 0.5349\n",
      "Epoch 7/10\n",
      "2996/2996 - 166s - 55ms/step - accuracy: 0.9507 - loss: 0.1429 - recall: 0.9694 - val_accuracy: 0.8113 - val_loss: 0.6491 - val_recall: 0.5485\n",
      "Epoch 8/10\n",
      "2996/2996 - 151s - 50ms/step - accuracy: 0.9591 - loss: 0.1226 - recall: 0.9722 - val_accuracy: 0.8160 - val_loss: 0.6805 - val_recall: 0.5333\n",
      "Epoch 9/10\n",
      "2996/2996 - 157s - 52ms/step - accuracy: 0.9668 - loss: 0.1026 - recall: 0.9778 - val_accuracy: 0.8130 - val_loss: 0.7303 - val_recall: 0.5129\n",
      "Epoch 10/10\n",
      "2996/2996 - 142s - 47ms/step - accuracy: 0.9710 - loss: 0.0900 - recall: 0.9809 - val_accuracy: 0.8029 - val_loss: 0.7518 - val_recall: 0.5504\n",
      "\u001b[1m1017/1017\u001b[0m \u001b[32m━━━━━━━━━━━━━━━━━━━━\u001b[0m\u001b[37m\u001b[0m \u001b[1m26s\u001b[0m 25ms/step\n"
     ]
    }
   ],
   "source": [
    "samples, max_seq_len, vector_size = X_train_vectors.shape\n",
    "num_classes = len(np.unique(y_train))\n",
    "\n",
    "\n",
    "# y_train_onehot = to_categorical(y_train, num_classes=num_classes)\n",
    "# y_test_onehot = to_categorical(y_test, num_classes=num_classes)\n",
    "# y_test_onehot_data = to_categorical(y_test_data, num_classes=num_classes)\n",
    "\n",
    "# Modellinitialisierung\n",
    "model_3 = Sequential()\n",
    "\n",
    "# LSTM-Schicht\n",
    "model_3.add(LSTM(units=128, input_shape=(max_seq_len, vector_size), return_sequences=False))\n",
    "\n",
    "# Optional: Dropout zur Vermeidung von Overfitting\n",
    "model_3.add(Dropout(0.5))\n",
    "\n",
    "# Dense-Schicht für die Ausgabe\n",
    "model_3.add(Dense(units=1, activation='sigmoid'))\n",
    "\n",
    "# Kompilieren des Modells\n",
    "model_3.compile(optimizer='adam',\n",
    "              loss='binary_crossentropy',\n",
    "              metrics=['accuracy', Recall()])\n",
    "\n",
    "class_weight = {0: 1, 1: 3} \n",
    "history_3 = model_3.fit(\n",
    "    X_train_vectors, np.array(y_train),\n",
    "    validation_data=(X_test_vectors, np.array(y_test)),\n",
    "    epochs=10,\n",
    "    batch_size=32,\n",
    "    class_weight=class_weight,\n",
    "    verbose=2\n",
    ")\n",
    "# Vorhersagen auf Testdaten\n",
    "predictions_3 = model_3.predict(X_test_data_vectors)\n",
    "threshold = 0.5  # Oder teste 0.4 oder 0.6\n",
    "predicted_classes_3 = (predictions_3 > threshold).astype(int)"
   ]
  },
  {
   "cell_type": "code",
   "execution_count": 6,
   "metadata": {},
   "outputs": [
    {
     "name": "stdout",
     "output_type": "stream",
     "text": [
      "Classification Report:\n",
      "               precision    recall  f1-score   support\n",
      "\n",
      "     Class 0       0.89      0.84      0.86     25685\n",
      "     Class 1       0.50      0.59      0.54      6844\n",
      "\n",
      "    accuracy                           0.79     32529\n",
      "   macro avg       0.69      0.72      0.70     32529\n",
      "weighted avg       0.80      0.79      0.79     32529\n",
      "\n",
      "[[21596  4089]\n",
      " [ 2791  4053]]\n"
     ]
    },
    {
     "data": {
      "image/png": "[encoded data removed]",
      "text/plain": [
       "<Figure size 400x400 with 2 Axes>"
      ]
     },
     "metadata": {},
     "output_type": "display_data"
    }
   ],
   "source": [
    "\n",
    "\n",
    "# Klassifikationsbericht erstellen\n",
    "report = classification_report(y_test_data, predicted_classes_3, target_names=[\"Class 0\", \"Class 1\"])\n",
    "print(\"Classification Report:\\n\", report)\n",
    "\n",
    "cm = confusion_matrix(y_test_data, predicted_classes_3)\n",
    "print(cm)\n",
    "# Verwirrungsmatrix visualisieren\n",
    "plt.figure(figsize=(4, 4))\n",
    "sns.heatmap(cm, annot=True, fmt=\"d\", cmap=\"coolwarm\", linewidths=0.5, square=True,\n",
    "            xticklabels=[\"Label 0\", \"Label 1\"], yticklabels=[\"Label 0\", \"Label 1\"])\n",
    "plt.xlabel(\"Predicted Labels\", fontsize=12)\n",
    "plt.ylabel(\"True Labels\", fontsize=12)\n",
    "plt.title(\"Confusion Matrix\", fontsize=14)\n",
    "plt.show()"
   ]
  },
  {
   "cell_type": "markdown",
   "metadata": {},
   "source": [
    "Recall speziel für Klasse 1 festlegen: muss man in sigmoid nicht, da er dies automatisch macht"
   ]
  },
  {
   "cell_type": "markdown",
   "metadata": {},
   "source": [
    "Earlystop Aktivierung + Dropout Erhöhung + epochen erhöhung + learning rate dynamisieren"
   ]
  },
  {
   "cell_type": "code",
   "execution_count": 7,
   "metadata": {},
   "outputs": [
    {
     "name": "stderr",
     "output_type": "stream",
     "text": [
      "C:\\Users\\Nasiba\\AppData\\Local\\Packages\\PythonSoftwareFoundation.Python.3.11_qbz5n2kfra8p0\\LocalCache\\local-packages\\Python311\\site-packages\\keras\\src\\layers\\rnn\\rnn.py:200: UserWarning: Do not pass an `input_shape`/`input_dim` argument to a layer. When using Sequential models, prefer using an `Input(shape)` object as the first layer in the model instead.\n",
      "  super().__init__(**kwargs)\n"
     ]
    },
    {
     "name": "stdout",
     "output_type": "stream",
     "text": [
      "Epoch 1/50\n",
      "2996/2996 - 175s - 58ms/step - accuracy: 0.6509 - loss: 0.5984 - recall_1: 0.6914 - val_accuracy: 0.7734 - val_loss: 0.4946 - val_recall_1: 0.6974 - learning_rate: 0.0010\n",
      "Epoch 2/50\n",
      "2996/2996 - 162s - 54ms/step - accuracy: 0.7764 - loss: 0.4659 - recall_1: 0.8256 - val_accuracy: 0.7306 - val_loss: 0.4643 - val_recall_1: 0.7923 - learning_rate: 0.0010\n",
      "Epoch 3/50\n",
      "2996/2996 - 151s - 50ms/step - accuracy: 0.8268 - loss: 0.3864 - recall_1: 0.8811 - val_accuracy: 0.7415 - val_loss: 0.5261 - val_recall_1: 0.7816 - learning_rate: 0.0010\n",
      "Epoch 4/50\n",
      "2996/2996 - 146s - 49ms/step - accuracy: 0.8767 - loss: 0.3036 - recall_1: 0.9192 - val_accuracy: 0.7857 - val_loss: 0.4883 - val_recall_1: 0.6886 - learning_rate: 0.0010\n",
      "Epoch 5/50\n",
      "2996/2996 - 145s - 48ms/step - accuracy: 0.9109 - loss: 0.2374 - recall_1: 0.9430 - val_accuracy: 0.8137 - val_loss: 0.4849 - val_recall_1: 0.5697 - learning_rate: 0.0010\n",
      "Epoch 6/50\n",
      "2996/2996 - 143s - 48ms/step - accuracy: 0.9476 - loss: 0.1562 - recall_1: 0.9702 - val_accuracy: 0.8068 - val_loss: 0.6042 - val_recall_1: 0.5853 - learning_rate: 5.0000e-04\n",
      "Epoch 7/50\n",
      "2996/2996 - 620s - 207ms/step - accuracy: 0.9610 - loss: 0.1225 - recall_1: 0.9793 - val_accuracy: 0.8110 - val_loss: 0.6590 - val_recall_1: 0.5401 - learning_rate: 5.0000e-04\n",
      "\u001b[1m1017/1017\u001b[0m \u001b[32m━━━━━━━━━━━━━━━━━━━━\u001b[0m\u001b[37m\u001b[0m \u001b[1m16s\u001b[0m 16ms/step\n"
     ]
    }
   ],
   "source": [
    "\n",
    "samples, max_seq_len, vector_size = X_train_vectors.shape\n",
    "num_classes = len(np.unique(y_train))\n",
    "# Modellinitialisierung\n",
    "model_17 = Sequential()\n",
    "\n",
    "# LSTM-Schicht\n",
    "model_17.add(LSTM(units=128, input_shape=(max_seq_len, vector_size), return_sequences=False))\n",
    "\n",
    "# Optional: Dropout zur Vermeidung von Overfitting\n",
    "model_17.add(Dropout(0.35))\n",
    "\n",
    "# Dense-Schicht für die Ausgabe\n",
    "model_17.add(Dense(units=1, activation='sigmoid'))\n",
    "\n",
    "# Kompilieren des Modells mit verbesserter Lernrate\n",
    "model_17.compile(optimizer=Adam(),\n",
    "                 loss='binary_crossentropy',\n",
    "                 metrics=['accuracy', Recall()])\n",
    "\n",
    "class_weight = {0: 1, 1: 3}\n",
    "early_stopping = EarlyStopping(monitor='val_loss', patience=5, restore_best_weights=True)\n",
    "\n",
    "reduce_lr = ReduceLROnPlateau(monitor='val_loss', factor=0.5, patience=3, min_lr=0.00001)\n",
    "\n",
    "history_17 = model_17.fit(\n",
    "    X_train_vectors, np.array(y_train),\n",
    "    validation_data=(X_test_vectors, np.array(y_test)),\n",
    "    epochs=50,\n",
    "    batch_size=32,\n",
    "    callbacks=[early_stopping,reduce_lr],\n",
    "    class_weight=class_weight,\n",
    "    verbose=2\n",
    ")\n",
    "\n",
    "# Vorhersagen auf Testdaten\n",
    "predictions_17 = model_17.predict(X_test_data_vectors)\n",
    "threshold = 0.5  # Oder teste 0.4 oder 0.6\n",
    "predicted_classes_17 = (predictions_17 > threshold).astype(int)\n",
    "\n",
    "# keras tuner\n"
   ]
  },
  {
   "cell_type": "code",
   "execution_count": 8,
   "metadata": {},
   "outputs": [
    {
     "name": "stdout",
     "output_type": "stream",
     "text": [
      "Classification Report:\n",
      "               precision    recall  f1-score   support\n",
      "\n",
      "     Class 0       0.93      0.66      0.77     25685\n",
      "     Class 1       0.39      0.80      0.52      6844\n",
      "\n",
      "    accuracy                           0.69     32529\n",
      "   macro avg       0.66      0.73      0.65     32529\n",
      "weighted avg       0.81      0.69      0.72     32529\n",
      "\n",
      "[[17044  8641]\n",
      " [ 1351  5493]]\n"
     ]
    },
    {
     "data": {
      "image/png": "[encoded data removed]",
      "text/plain": [
       "<Figure size 400x400 with 2 Axes>"
      ]
     },
     "metadata": {},
     "output_type": "display_data"
    }
   ],
   "source": [
    "\n",
    "\n",
    "# Klassifikationsbericht erstellen\n",
    "report = classification_report(y_test_data, predicted_classes_17, target_names=[\"Class 0\", \"Class 1\"])\n",
    "print(\"Classification Report:\\n\", report)\n",
    "\n",
    "cm = confusion_matrix(y_test_data, predicted_classes_17)\n",
    "print(cm)\n",
    "# Verwirrungsmatrix visualisieren\n",
    "plt.figure(figsize=(4, 4))\n",
    "sns.heatmap(cm, annot=True, fmt=\"d\", cmap=\"coolwarm\", linewidths=0.5, square=True,\n",
    "            xticklabels=[\"Label 0\", \"Label 1\"], yticklabels=[\"Label 0\", \"Label 1\"])\n",
    "plt.xlabel(\"Predicted Labels\", fontsize=12)\n",
    "plt.ylabel(\"True Labels\", fontsize=12)\n",
    "plt.title(\"Confusion Matrix\", fontsize=14)\n",
    "plt.show()"
   ]
  },
  {
   "cell_type": "markdown",
   "metadata": {},
   "source": [
    "Train model_17 nur mit tokenizer"
   ]
  },
  {
   "cell_type": "code",
   "execution_count": 10,
   "metadata": {},
   "outputs": [
    {
     "name": "stdout",
     "output_type": "stream",
     "text": [
      "Epoch 1/50\n",
      "1823/1823 - 145s - 80ms/step - accuracy: 0.8215 - loss: 0.9104 - recall_1: 0.0051 - val_accuracy: 0.7800 - val_loss: 0.5742 - val_recall_1: 0.2070 - learning_rate: 0.0010\n",
      "Epoch 2/50\n",
      "1823/1823 - 140s - 77ms/step - accuracy: 0.7890 - loss: 0.8808 - recall_1: 0.2300 - val_accuracy: 0.7807 - val_loss: 0.5534 - val_recall_1: 0.4039 - learning_rate: 0.0010\n",
      "Epoch 3/50\n",
      "1823/1823 - 144s - 79ms/step - accuracy: 0.7963 - loss: 0.7474 - recall_1: 0.5706 - val_accuracy: 0.8102 - val_loss: 0.4181 - val_recall_1: 0.6140 - learning_rate: 0.0010\n",
      "Epoch 4/50\n",
      "1823/1823 - 151s - 83ms/step - accuracy: 0.8425 - loss: 0.5673 - recall_1: 0.7178 - val_accuracy: 0.8239 - val_loss: 0.3909 - val_recall_1: 0.5798 - learning_rate: 0.0010\n",
      "Epoch 5/50\n",
      "1823/1823 - 148s - 81ms/step - accuracy: 0.8798 - loss: 0.4334 - recall_1: 0.7982 - val_accuracy: 0.8010 - val_loss: 0.4551 - val_recall_1: 0.6412 - learning_rate: 0.0010\n",
      "Epoch 6/50\n",
      "1823/1823 - 146s - 80ms/step - accuracy: 0.9050 - loss: 0.3311 - recall_1: 0.8629 - val_accuracy: 0.7885 - val_loss: 0.4933 - val_recall_1: 0.6360 - learning_rate: 0.0010\n",
      "Epoch 7/50\n",
      "1823/1823 - 158s - 87ms/step - accuracy: 0.9275 - loss: 0.2521 - recall_1: 0.9020 - val_accuracy: 0.7547 - val_loss: 0.6088 - val_recall_1: 0.6211 - learning_rate: 0.0010\n",
      "Epoch 8/50\n",
      "1823/1823 - 160s - 88ms/step - accuracy: 0.9535 - loss: 0.1665 - recall_1: 0.9440 - val_accuracy: 0.7940 - val_loss: 0.7095 - val_recall_1: 0.5849 - learning_rate: 5.0000e-04\n",
      "Epoch 9/50\n",
      "1823/1823 - 157s - 86ms/step - accuracy: 0.9633 - loss: 0.1298 - recall_1: 0.9578 - val_accuracy: 0.7898 - val_loss: 0.8510 - val_recall_1: 0.5423 - learning_rate: 5.0000e-04\n",
      "\u001b[1m781/781\u001b[0m \u001b[32m━━━━━━━━━━━━━━━━━━━━\u001b[0m\u001b[37m\u001b[0m \u001b[1m15s\u001b[0m 19ms/step\n"
     ]
    }
   ],
   "source": [
    "# Tokenizer erstellen und anpassen\n",
    "max_seq_len=50\n",
    "test_size=0.3\n",
    "random_state=42\n",
    "df_cleaned = df_cleaned.dropna(subset=['tweet_cleaned', 'label'])\n",
    "X = df_cleaned['tweet_cleaned']\n",
    "y =df_cleaned['label']\n",
    "X_train, X_test, y_train, y_test = train_test_split(X, y, test_size=test_size, random_state=random_state)\n",
    "\n",
    "\n",
    "tokenizer = Tokenizer(oov_token=\"<OOV>\")\n",
    "tokenizer.fit_on_texts(X_train)  # X_train ist dein Text-Array\n",
    "\n",
    "# Text zu Sequenzen umwandeln (Wörter → Zahlen)\n",
    "X_train_sequences = tokenizer.texts_to_sequences(X_train)\n",
    "X_test_sequences = tokenizer.texts_to_sequences(X_test)\n",
    "\n",
    "# Padding auf gleiche Länge\n",
    "max_seq_len = 50  # Oder eine andere sinnvolle Länge\n",
    "X_train_padded = pad_sequences(X_train_sequences, padding='post', maxlen=max_seq_len)\n",
    "X_test_padded = pad_sequences(X_test_sequences, padding='post', maxlen=max_seq_len)\n",
    "\n",
    "# Wortschatzgröße (für Embedding)\n",
    "vocab_size = len(tokenizer.word_index) + 1\n",
    "vector_size = 100  # Größe der Embeddings\n",
    "\n",
    "# Modellinitialisierung\n",
    "model_17 = Sequential()\n",
    "\n",
    "# Embedding-Layer mit trainierbaren Vektoren (oder mit GloVe ersetzen)\n",
    "model_17.add(Embedding(input_dim=vocab_size, output_dim=vector_size, input_length=max_seq_len))\n",
    "\n",
    "# LSTM-Schicht\n",
    "model_17.add(LSTM(units=128, return_sequences=False))\n",
    "\n",
    "# Optional: Dropout zur Vermeidung von Overfitting\n",
    "model_17.add(Dropout(0.35))\n",
    "\n",
    "# Dense-Schicht für die Ausgabe\n",
    "model_17.add(Dense(units=1, activation='sigmoid'))\n",
    "\n",
    "# Kompilieren des Modells mit verbesserter Lernrate\n",
    "model_17.compile(optimizer=Adam(),\n",
    "                 loss='binary_crossentropy',\n",
    "                 metrics=['accuracy', Recall()])\n",
    "\n",
    "# Class Weights für unbalancierte Daten\n",
    "class_weight = {0: 1, 1: 3}\n",
    "\n",
    "# Early Stopping & Learning Rate Reduktion\n",
    "early_stopping = EarlyStopping(monitor='val_loss', patience=5, restore_best_weights=True)\n",
    "reduce_lr = ReduceLROnPlateau(monitor='val_loss', factor=0.5, patience=3, min_lr=0.00001)\n",
    "\n",
    "# Training\n",
    "history_17 = model_17.fit(\n",
    "    X_train_padded, np.array(y_train),\n",
    "    validation_data=(X_test_padded, np.array(y_test)),\n",
    "    epochs=50,\n",
    "    batch_size=32,\n",
    "    callbacks=[early_stopping, reduce_lr],\n",
    "    class_weight=class_weight,\n",
    "    verbose=2\n",
    ")\n",
    "\n",
    "# Vorhersagen auf Testdaten\n",
    "predictions_17 = model_17.predict(X_test_padded)\n",
    "threshold = 0.5\n",
    "predicted_classes_17 = (predictions_17 > threshold).astype(int)"
   ]
  },
  {
   "cell_type": "code",
   "execution_count": 12,
   "metadata": {},
   "outputs": [],
   "source": [
    "# Entferne NaN-Werte aus df_test\n",
    "df_test = df_cleaned_test.dropna(subset=['tweet_cleaned', 'label'])\n",
    "\n",
    "# Nutze den bereits trainierten Tokenizer für df_test\n",
    "X_test_new = df_test['tweet_cleaned']\n",
    "\n",
    "# Tokenisierung mit dem vorhandenen Tokenizer\n",
    "X_test_new_sequences = tokenizer.texts_to_sequences(X_test_new)\n",
    "\n",
    "# Padding auf gleiche Länge\n",
    "X_test_padded_test = pad_sequences(X_test_new_sequences, padding='post', maxlen=max_seq_len)\n"
   ]
  },
  {
   "cell_type": "code",
   "execution_count": 14,
   "metadata": {},
   "outputs": [
    {
     "name": "stdout",
     "output_type": "stream",
     "text": [
      "\u001b[1m1017/1017\u001b[0m \u001b[32m━━━━━━━━━━━━━━━━━━━━\u001b[0m\u001b[37m\u001b[0m \u001b[1m15s\u001b[0m 15ms/step\n",
      "Classification Report:\n",
      "               precision    recall  f1-score   support\n",
      "\n",
      "     Class 0       0.89      0.85      0.87     25685\n",
      "     Class 1       0.52      0.60      0.56      6844\n",
      "\n",
      "    accuracy                           0.80     32529\n",
      "   macro avg       0.70      0.72      0.71     32529\n",
      "weighted avg       0.81      0.80      0.80     32529\n",
      "\n"
     ]
    },
    {
     "data": {
      "image/png": "[encoded data removed]",
      "text/plain": [
       "<Figure size 400x400 with 2 Axes>"
      ]
     },
     "metadata": {},
     "output_type": "display_data"
    }
   ],
   "source": [
    "# Vorhersagen auf df_test-Daten machen\n",
    "predictions_17_2 = model_17.predict(X_test_padded_test)\n",
    "\n",
    "# Binäre Klassifikation (z. B. Schwellenwert bei 0.5)\n",
    "threshold = 0.50\n",
    "predicted_classes_17_2 = (predictions_17_2 > threshold).astype(int)\n",
    "\n",
    "# Echte Labels aus df_test extrahieren\n",
    "y_test_data = df_test['label']\n",
    "\n",
    "\n",
    "# Classification Report\n",
    "report = classification_report(y_test_data, predicted_classes_17_2, target_names=[\"Class 0\", \"Class 1\"])\n",
    "print(\"Classification Report:\\n\", report)\n",
    "\n",
    "# Confusion Matrix\n",
    "cm = confusion_matrix(y_test_data, predicted_classes_17_2)\n",
    "plt.figure(figsize=(4, 4))\n",
    "sns.heatmap(cm, annot=True, fmt=\"d\", cmap=\"coolwarm\", linewidths=0.5, square=True,\n",
    "            xticklabels=[\"Label 0\", \"Label 1\"], yticklabels=[\"Label 0\", \"Label 1\"])\n",
    "plt.xlabel(\"Predicted Labels\", fontsize=12)\n",
    "plt.ylabel(\"True Labels\", fontsize=12)\n",
    "plt.title(\"Confusion Matrix\", fontsize=14)\n",
    "plt.show()\n"
   ]
  },
  {
   "cell_type": "code",
   "execution_count": 11,
   "metadata": {},
   "outputs": [
    {
     "ename": "NameError",
     "evalue": "name 'y_test_data' is not defined",
     "output_type": "error",
     "traceback": [
      "\u001b[1;31m---------------------------------------------------------------------------\u001b[0m",
      "\u001b[1;31mNameError\u001b[0m                                 Traceback (most recent call last)",
      "Cell \u001b[1;32mIn[11], line 2\u001b[0m\n\u001b[0;32m      1\u001b[0m \u001b[38;5;66;03m# Klassifikationsbericht erstellen\u001b[39;00m\n\u001b[1;32m----> 2\u001b[0m report \u001b[38;5;241m=\u001b[39m classification_report(\u001b[43my_test_data\u001b[49m, predicted_classes_17, target_names\u001b[38;5;241m=\u001b[39m[\u001b[38;5;124m\"\u001b[39m\u001b[38;5;124mClass 0\u001b[39m\u001b[38;5;124m\"\u001b[39m, \u001b[38;5;124m\"\u001b[39m\u001b[38;5;124mClass 1\u001b[39m\u001b[38;5;124m\"\u001b[39m])\n\u001b[0;32m      3\u001b[0m \u001b[38;5;28mprint\u001b[39m(\u001b[38;5;124m\"\u001b[39m\u001b[38;5;124mClassification Report:\u001b[39m\u001b[38;5;130;01m\\n\u001b[39;00m\u001b[38;5;124m\"\u001b[39m, report)\n\u001b[0;32m      5\u001b[0m cm \u001b[38;5;241m=\u001b[39m confusion_matrix(y_test_data, predicted_classes_17)\n",
      "\u001b[1;31mNameError\u001b[0m: name 'y_test_data' is not defined"
     ]
    }
   ],
   "source": [
    "\n",
    "\n",
    "# Klassifikationsbericht erstellen\n",
    "report = classification_report(y_test_data, predicted_classes_17, target_names=[\"Class 0\", \"Class 1\"])\n",
    "print(\"Classification Report:\\n\", report)\n",
    "\n",
    "cm = confusion_matrix(y_test_data, predicted_classes_17)\n",
    "print(cm)\n",
    "# Verwirrungsmatrix visualisieren\n",
    "plt.figure(figsize=(4, 4))\n",
    "sns.heatmap(cm, annot=True, fmt=\"d\", cmap=\"coolwarm\", linewidths=0.5, square=True,\n",
    "            xticklabels=[\"Label 0\", \"Label 1\"], yticklabels=[\"Label 0\", \"Label 1\"])\n",
    "plt.xlabel(\"Predicted Labels\", fontsize=12)\n",
    "plt.ylabel(\"True Labels\", fontsize=12)\n",
    "plt.title(\"Confusion Matrix\", fontsize=14)\n",
    "plt.show()"
   ]
  },
  {
   "cell_type": "markdown",
   "metadata": {},
   "source": [
    "Earlystop Aktivierung + Dropout Standard gelassen + epochen erhöhung + learning rate dynamisieren"
   ]
  },
  {
   "cell_type": "code",
   "execution_count": 10,
   "metadata": {},
   "outputs": [
    {
     "name": "stderr",
     "output_type": "stream",
     "text": [
      "C:\\Users\\Nasiba\\AppData\\Local\\Packages\\PythonSoftwareFoundation.Python.3.11_qbz5n2kfra8p0\\LocalCache\\local-packages\\Python311\\site-packages\\keras\\src\\layers\\rnn\\rnn.py:200: UserWarning: Do not pass an `input_shape`/`input_dim` argument to a layer. When using Sequential models, prefer using an `Input(shape)` object as the first layer in the model instead.\n",
      "  super().__init__(**kwargs)\n"
     ]
    },
    {
     "name": "stdout",
     "output_type": "stream",
     "text": [
      "Epoch 1/50\n",
      "2996/2996 - 132s - 44ms/step - accuracy: 0.6493 - loss: 0.8953 - recall_2: 0.9600 - val_accuracy: 0.4810 - val_loss: 0.7984 - val_recall_2: 0.9601 - learning_rate: 0.0010\n",
      "Epoch 2/50\n",
      "2996/2996 - 142s - 47ms/step - accuracy: 0.7390 - loss: 0.7485 - recall_2: 0.9520 - val_accuracy: 0.5630 - val_loss: 0.7518 - val_recall_2: 0.9362 - learning_rate: 0.0010\n",
      "Epoch 3/50\n",
      "2996/2996 - 147s - 49ms/step - accuracy: 0.7926 - loss: 0.6316 - recall_2: 0.9657 - val_accuracy: 0.6621 - val_loss: 0.8043 - val_recall_2: 0.8695 - learning_rate: 0.0010\n",
      "Epoch 4/50\n",
      "2996/2996 - 144s - 48ms/step - accuracy: 0.8467 - loss: 0.5073 - recall_2: 0.9729 - val_accuracy: 0.7712 - val_loss: 0.5187 - val_recall_2: 0.7070 - learning_rate: 0.0010\n",
      "Epoch 5/50\n",
      "2996/2996 - 162s - 54ms/step - accuracy: 0.8859 - loss: 0.4071 - recall_2: 0.9796 - val_accuracy: 0.7649 - val_loss: 0.6067 - val_recall_2: 0.7094 - learning_rate: 0.0010\n",
      "Epoch 6/50\n",
      "2996/2996 - 170s - 57ms/step - accuracy: 0.9141 - loss: 0.3277 - recall_2: 0.9844 - val_accuracy: 0.7952 - val_loss: 0.6116 - val_recall_2: 0.6333 - learning_rate: 0.0010\n",
      "Epoch 7/50\n",
      "2996/2996 - 155s - 52ms/step - accuracy: 0.9305 - loss: 0.2765 - recall_2: 0.9869 - val_accuracy: 0.7729 - val_loss: 0.6976 - val_recall_2: 0.6537 - learning_rate: 0.0010\n",
      "Epoch 8/50\n",
      "2996/2996 - 142s - 47ms/step - accuracy: 0.9558 - loss: 0.1929 - recall_2: 0.9930 - val_accuracy: 0.7975 - val_loss: 0.7498 - val_recall_2: 0.5888 - learning_rate: 5.0000e-04\n",
      "Epoch 9/50\n",
      "2996/2996 - 137s - 46ms/step - accuracy: 0.9641 - loss: 0.1581 - recall_2: 0.9951 - val_accuracy: 0.7875 - val_loss: 0.8865 - val_recall_2: 0.6134 - learning_rate: 5.0000e-04\n",
      "\u001b[1m1017/1017\u001b[0m \u001b[32m━━━━━━━━━━━━━━━━━━━━\u001b[0m\u001b[37m\u001b[0m \u001b[1m17s\u001b[0m 16ms/step\n"
     ]
    }
   ],
   "source": [
    "\n",
    "samples, max_seq_len, vector_size = X_train_vectors.shape\n",
    "num_classes = len(np.unique(y_train))\n",
    "# Modellinitialisierung\n",
    "model_21 = Sequential()\n",
    "\n",
    "# LSTM-Schicht\n",
    "model_21.add(LSTM(units=128, input_shape=(max_seq_len, vector_size), return_sequences=False))\n",
    "\n",
    "# Optional: Dropout zur Vermeidung von Overfitting\n",
    "model_21.add(Dropout(0.5))\n",
    "\n",
    "# Dense-Schicht für die Ausgabe\n",
    "model_21.add(Dense(units=1, activation='sigmoid'))\n",
    "\n",
    "# Kompilieren des Modells mit verbesserter Lernrate\n",
    "model_21.compile(optimizer=Adam(),\n",
    "                 loss='binary_crossentropy',\n",
    "                 metrics=['accuracy', Recall()])\n",
    "\n",
    "class_weight = {0: 1, 1: 3}\n",
    "early_stopping = EarlyStopping(monitor='val_loss', patience=5, restore_best_weights=True)\n",
    "\n",
    "reduce_lr = ReduceLROnPlateau(monitor='val_loss', factor=0.5, patience=3, min_lr=0.00001)\n",
    "\n",
    "history_21 = model_21.fit(\n",
    "    X_train_vectors, np.array(y_train),\n",
    "    validation_data=(X_test_vectors, np.array(y_test)),\n",
    "    epochs=50,\n",
    "    batch_size=32,\n",
    "    callbacks=[early_stopping,reduce_lr],\n",
    "    class_weight=class_weight,\n",
    "    verbose=2\n",
    ")\n",
    "\n",
    "# Vorhersagen auf Testdaten\n",
    "predictions_21= model_21.predict(X_test_data_vectors)\n",
    "threshold = 0.5  # Oder teste 0.4 oder 0.6\n",
    "predicted_classes_21 = (predictions_21 > threshold).astype(int)\n",
    "\n",
    "\n",
    "\n"
   ]
  },
  {
   "cell_type": "code",
   "execution_count": 11,
   "metadata": {},
   "outputs": [
    {
     "name": "stdout",
     "output_type": "stream",
     "text": [
      "Classification Report:\n",
      "               precision    recall  f1-score   support\n",
      "\n",
      "     Class 0       0.91      0.74      0.82     25685\n",
      "     Class 1       0.43      0.74      0.54      6844\n",
      "\n",
      "    accuracy                           0.74     32529\n",
      "   macro avg       0.67      0.74      0.68     32529\n",
      "weighted avg       0.81      0.74      0.76     32529\n",
      "\n",
      "[[19006  6679]\n",
      " [ 1798  5046]]\n"
     ]
    },
    {
     "data": {
      "image/png": "[encoded data removed]",
      "text/plain": [
       "<Figure size 400x400 with 2 Axes>"
      ]
     },
     "metadata": {},
     "output_type": "display_data"
    }
   ],
   "source": [
    "\n",
    "\n",
    "# Klassifikationsbericht erstellen\n",
    "report = classification_report(y_test_data, predicted_classes_21, target_names=[\"Class 0\", \"Class 1\"])\n",
    "print(\"Classification Report:\\n\", report)\n",
    "\n",
    "cm = confusion_matrix(y_test_data, predicted_classes_21)\n",
    "print(cm)\n",
    "# Verwirrungsmatrix visualisieren\n",
    "plt.figure(figsize=(4, 4))\n",
    "sns.heatmap(cm, annot=True, fmt=\"d\", cmap=\"coolwarm\", linewidths=0.5, square=True,\n",
    "            xticklabels=[\"Label 0\", \"Label 1\"], yticklabels=[\"Label 0\", \"Label 1\"])\n",
    "plt.xlabel(\"Predicted Labels\", fontsize=12)\n",
    "plt.ylabel(\"True Labels\", fontsize=12)\n",
    "plt.title(\"Confusion Matrix\", fontsize=14)\n",
    "plt.show()"
   ]
  },
  {
   "cell_type": "markdown",
   "metadata": {},
   "source": [
    "model_21 mit anderem tokenizer"
   ]
  },
  {
   "cell_type": "code",
   "execution_count": null,
   "metadata": {},
   "outputs": [
    {
     "name": "stderr",
     "output_type": "stream",
     "text": [
      "C:\\Users\\Nasiba\\AppData\\Local\\Packages\\PythonSoftwareFoundation.Python.3.11_qbz5n2kfra8p0\\LocalCache\\local-packages\\Python311\\site-packages\\keras\\src\\layers\\rnn\\rnn.py:200: UserWarning: Do not pass an `input_shape`/`input_dim` argument to a layer. When using Sequential models, prefer using an `Input(shape)` object as the first layer in the model instead.\n",
      "  super().__init__(**kwargs)\n"
     ]
    },
    {
     "name": "stdout",
     "output_type": "stream",
     "text": [
      "Epoch 1/50\n",
      "2996/2996 - 163s - 54ms/step - accuracy: 0.7151 - loss: 0.5486 - recall: 0.7533 - val_accuracy: 0.6871 - val_loss: 0.5034 - val_recall: 0.8344 - learning_rate: 0.0010\n",
      "Epoch 2/50\n",
      "2996/2996 - 162s - 54ms/step - accuracy: 0.7854 - loss: 0.4492 - recall: 0.8408 - val_accuracy: 0.7448 - val_loss: 0.4631 - val_recall: 0.7732 - learning_rate: 0.0010\n",
      "Epoch 3/50\n",
      "2996/2996 - 176s - 59ms/step - accuracy: 0.8379 - loss: 0.3688 - recall: 0.8943 - val_accuracy: 0.7804 - val_loss: 0.4571 - val_recall: 0.6822 - learning_rate: 0.0010\n",
      "Epoch 4/50\n",
      "2996/2996 - 155s - 52ms/step - accuracy: 0.8833 - loss: 0.2908 - recall: 0.9244 - val_accuracy: 0.7815 - val_loss: 0.5025 - val_recall: 0.6748 - learning_rate: 0.0010\n",
      "Epoch 5/50\n",
      "2996/2996 - 155s - 52ms/step - accuracy: 0.9159 - loss: 0.2261 - recall: 0.9472 - val_accuracy: 0.8034 - val_loss: 0.5529 - val_recall: 0.6011 - learning_rate: 0.0010\n",
      "Epoch 6/50\n",
      "2996/2996 - 148s - 49ms/step - accuracy: 0.9372 - loss: 0.1803 - recall: 0.9610 - val_accuracy: 0.7922 - val_loss: 0.6098 - val_recall: 0.5846 - learning_rate: 0.0010\n",
      "Epoch 7/50\n",
      "2996/2996 - 161s - 54ms/step - accuracy: 0.9629 - loss: 0.1178 - recall: 0.9783 - val_accuracy: 0.8126 - val_loss: 0.6874 - val_recall: 0.5500 - learning_rate: 5.0000e-04\n",
      "Epoch 8/50\n",
      "2996/2996 - 155s - 52ms/step - accuracy: 0.9723 - loss: 0.0934 - recall: 0.9846 - val_accuracy: 0.8112 - val_loss: 0.7943 - val_recall: 0.5366 - learning_rate: 5.0000e-04\n",
      "\u001b[1m1017/1017\u001b[0m \u001b[32m━━━━━━━━━━━━━━━━━━━━\u001b[0m\u001b[37m\u001b[0m \u001b[1m23s\u001b[0m 22ms/step\n"
     ]
    }
   ],
   "source": [
    "\n",
    "samples, max_seq_len, vector_size = X_train_vectors.shape\n",
    "num_classes = len(np.unique(y_train))\n",
    "# Modellinitialisierung\n",
    "model_21_tok = Sequential()\n",
    "\n",
    "# LSTM-Schicht\n",
    "model_21_tok.add(LSTM(units=128, input_shape=(max_seq_len, vector_size), return_sequences=False))\n",
    "\n",
    "# Optional: Dropout zur Vermeidung von Overfitting\n",
    "model_21_tok.add(Dropout(0.5))\n",
    "\n",
    "# Dense-Schicht für die Ausgabe\n",
    "model_21_tok.add(Dense(units=1, activation='sigmoid'))\n",
    "\n",
    "# Kompilieren des Modells mit verbesserter Lernrate\n",
    "model_21_tok.compile(optimizer=Adam(),\n",
    "                 loss='binary_crossentropy',\n",
    "                 metrics=['accuracy', Recall()])\n",
    "\n",
    "class_weight = {0: 1, 1: 3}\n",
    "early_stopping = EarlyStopping(monitor='val_loss', patience=5, restore_best_weights=True)\n",
    "\n",
    "reduce_lr = ReduceLROnPlateau(monitor='val_loss', factor=0.5, patience=3, min_lr=0.00001)\n",
    "\n",
    "history_21_tok = model_21_tok.fit(\n",
    "    X_train_vectors, np.array(y_train),\n",
    "    validation_data=(X_test_vectors, np.array(y_test)),\n",
    "    epochs=50,\n",
    "    batch_size=32,\n",
    "    callbacks=[early_stopping,reduce_lr],\n",
    "    class_weight=class_weight,\n",
    "    verbose=2\n",
    ")\n",
    "\n",
    "# Vorhersagen auf Testdaten\n",
    "predictions_21_tok= model_21_tok.predict(X_test_data_vectors)\n",
    "threshold=0.35 # Oder teste 0.4 oder 0.6\n",
    "predicted_classes_21_tok = (predictions_21_tok > threshold).astype(int)\n",
    "\n",
    "\n",
    "\n"
   ]
  },
  {
   "cell_type": "code",
   "execution_count": null,
   "metadata": {},
   "outputs": [
    {
     "name": "stdout",
     "output_type": "stream",
     "text": [
      "Classification Report:\n",
      "               precision    recall  f1-score   support\n",
      "\n",
      "     Class 0       0.91      0.74      0.81     25685\n",
      "     Class 1       0.42      0.72      0.53      6844\n",
      "\n",
      "    accuracy                           0.73     32529\n",
      "   macro avg       0.67      0.73      0.67     32529\n",
      "weighted avg       0.81      0.73      0.75     32529\n",
      "\n",
      "[[18913  6772]\n",
      " [ 1894  4950]]\n"
     ]
    },
    {
     "data": {
      "image/png": "[encoded data removed]",
      "text/plain": [
       "<Figure size 400x400 with 2 Axes>"
      ]
     },
     "metadata": {},
     "output_type": "display_data"
    }
   ],
   "source": [
    "\n",
    "\n",
    "# Klassifikationsbericht erstellen\n",
    "report = classification_report(y_test_data, predicted_classes_21_tok, target_names=[\"Class 0\", \"Class 1\"])\n",
    "print(\"Classification Report:\\n\", report)\n",
    "\n",
    "cm = confusion_matrix(y_test_data, predicted_classes_21_tok)\n",
    "print(cm)\n",
    "# Verwirrungsmatrix visualisieren\n",
    "plt.figure(figsize=(4, 4))\n",
    "sns.heatmap(cm, annot=True, fmt=\"d\", cmap=\"coolwarm\", linewidths=0.5, square=True,\n",
    "            xticklabels=[\"Label 0\", \"Label 1\"], yticklabels=[\"Label 0\", \"Label 1\"])\n",
    "plt.xlabel(\"Predicted Labels\", fontsize=12)\n",
    "plt.ylabel(\"True Labels\", fontsize=12)\n",
    "plt.title(\"Confusion Matrix\", fontsize=14)\n",
    "plt.show()"
   ]
  },
  {
   "cell_type": "markdown",
   "metadata": {},
   "source": [
    "Model_21 predicten Testdaten"
   ]
  },
  {
   "cell_type": "code",
   "execution_count": 9,
   "metadata": {},
   "outputs": [
    {
     "data": {
      "text/plain": [
       "8886                                                                                                                                                   @user #cinemaaawards final rehearsals!! gearing up for the evening!! #butterflies #stage  ! hope u all like it \n",
       "27613                                                                                                                                                                         this was amazing. the weather was not. #musical #london #matilda #westend #weekend  â¦ \n",
       "18952                                                                                                                                                                                         child attacked by alligator at walt disney world     #waltdisneyworld   \n",
       "12485                                                                                                                                                                                                                               me rn cause school is over soon   \n",
       "5879                                                                                                                                                                                                                      is it #good to #sleep when  ?  #good #sleep \n",
       "                                                                                                                                      ...                                                                                                                             \n",
       "176360                                                                                                                                             Even liberals are humiliated by Charlie Rangel&#8217;s claim the GOP backs slavery - Hot Air http://t.co/I4QawESnud\n",
       "176366                                                                                                                                                                                                                                          @user photoshop my nig\n",
       "176384                                                                                                                                                                                                          And mad hoes you can ask Beavis I get nothing butthead\n",
       "176385    Because child concentration camps were not bad enough, the Trump administration will no longer allow incarcerated migrant children to play soccer, learn English, and is taking away their legal counsel. Til the last drop of humanity is extinguished. URL\n",
       "176387                                                                                                                                                          @user @user You didn't recognize the irony of me using your method because you are an ignorant Muslim.\n",
       "Name: tweet, Length: 32582, dtype: object"
      ]
     },
     "execution_count": 9,
     "metadata": {},
     "output_type": "execute_result"
    }
   ],
   "source": [
    "\n",
    "source_filepath_name = os.path.abspath(os.path.join(src_path, 'data/mixed_dataset/test.csv'))\n",
    "\n",
    "df_test = pd.read_csv(source_filepath_name, encoding='utf-8', index_col=0)\n",
    "\n",
    "X_test_data_vectors_3, text_col_test_data, glove_embeddings_3_test, tokenizer_3_test = vectorize_glove_test_data_predict(df=df_test, text_column =\"tweet\", glove_path=twitter_glove_path, tokenizer=tokenizer)\n",
    "\n",
    "text_col_test_data"
   ]
  },
  {
   "cell_type": "code",
   "execution_count": 12,
   "metadata": {},
   "outputs": [
    {
     "name": "stdout",
     "output_type": "stream",
     "text": [
      "\u001b[1m1019/1019\u001b[0m \u001b[32m━━━━━━━━━━━━━━━━━━━━\u001b[0m\u001b[37m\u001b[0m \u001b[1m19s\u001b[0m 19ms/step\n"
     ]
    },
    {
     "data": {
      "text/html": [
       "<div>\n",
       "<style scoped>\n",
       "    .dataframe tbody tr th:only-of-type {\n",
       "        vertical-align: middle;\n",
       "    }\n",
       "\n",
       "    .dataframe tbody tr th {\n",
       "        vertical-align: top;\n",
       "    }\n",
       "\n",
       "    .dataframe thead th {\n",
       "        text-align: right;\n",
       "    }\n",
       "</style>\n",
       "<table border=\"1\" class=\"dataframe\">\n",
       "  <thead>\n",
       "    <tr style=\"text-align: right;\">\n",
       "      <th></th>\n",
       "      <th>tweet</th>\n",
       "      <th>predicted_label</th>\n",
       "    </tr>\n",
       "  </thead>\n",
       "  <tbody>\n",
       "    <tr>\n",
       "      <th>11885</th>\n",
       "      <td>nothing would be more dangerous than to give #putinschoice the impression we accept  #stopracism #boycott?â¦</td>\n",
       "      <td>1</td>\n",
       "    </tr>\n",
       "    <tr>\n",
       "      <th>27378</th>\n",
       "      <td>attacks 11 week old baby. kills mother. #shocking   #disgusted</td>\n",
       "      <td>1</td>\n",
       "    </tr>\n",
       "    <tr>\n",
       "      <th>6640</th>\n",
       "      <td>and #misogyny is alive and well on the #left.  never let them tell you it isn't.</td>\n",
       "      <td>1</td>\n",
       "    </tr>\n",
       "    <tr>\n",
       "      <th>19019</th>\n",
       "      <td>what is a #detoxdiet?  #altwaystoheal! #healthy  !</td>\n",
       "      <td>1</td>\n",
       "    </tr>\n",
       "    <tr>\n",
       "      <th>12084</th>\n",
       "      <td>politics is great in theory but politicians are all self obsessed point scoring children &amp;amp; idiots take their word as gospel = dangerous</td>\n",
       "      <td>1</td>\n",
       "    </tr>\n",
       "    <tr>\n",
       "      <th>...</th>\n",
       "      <td>...</td>\n",
       "      <td>...</td>\n",
       "    </tr>\n",
       "    <tr>\n",
       "      <th>176344</th>\n",
       "      <td>@user Certainly the paper shows that the idea that drinking water was the only or main health issue in Iraq is a lie.</td>\n",
       "      <td>1</td>\n",
       "    </tr>\n",
       "    <tr>\n",
       "      <th>176360</th>\n",
       "      <td>Even liberals are humiliated by Charlie Rangel&amp;#8217;s claim the GOP backs slavery - Hot Air http://t.co/I4QawESnud</td>\n",
       "      <td>1</td>\n",
       "    </tr>\n",
       "    <tr>\n",
       "      <th>176366</th>\n",
       "      <td>@user photoshop my nig</td>\n",
       "      <td>1</td>\n",
       "    </tr>\n",
       "    <tr>\n",
       "      <th>176384</th>\n",
       "      <td>And mad hoes you can ask Beavis I get nothing butthead</td>\n",
       "      <td>1</td>\n",
       "    </tr>\n",
       "    <tr>\n",
       "      <th>176387</th>\n",
       "      <td>@user @user You didn't recognize the irony of me using your method because you are an ignorant Muslim.</td>\n",
       "      <td>1</td>\n",
       "    </tr>\n",
       "  </tbody>\n",
       "</table>\n",
       "<p>16394 rows × 2 columns</p>\n",
       "</div>"
      ],
      "text/plain": [
       "                                                                                                                                                tweet  \\\n",
       "11885                                  nothing would be more dangerous than to give #putinschoice the impression we accept  #stopracism #boycott?â¦    \n",
       "27378                                                                                 attacks 11 week old baby. kills mother. #shocking   #disgusted    \n",
       "6640                                                                and #misogyny is alive and well on the #left.  never let them tell you it isn't.    \n",
       "19019                                                                                             what is a #detoxdiet?  #altwaystoheal! #healthy  !    \n",
       "12084   politics is great in theory but politicians are all self obsessed point scoring children &amp; idiots take their word as gospel = dangerous     \n",
       "...                                                                                                                                               ...   \n",
       "176344                          @user Certainly the paper shows that the idea that drinking water was the only or main health issue in Iraq is a lie.   \n",
       "176360                            Even liberals are humiliated by Charlie Rangel&#8217;s claim the GOP backs slavery - Hot Air http://t.co/I4QawESnud   \n",
       "176366                                                                                                                         @user photoshop my nig   \n",
       "176384                                                                                         And mad hoes you can ask Beavis I get nothing butthead   \n",
       "176387                                         @user @user You didn't recognize the irony of me using your method because you are an ignorant Muslim.   \n",
       "\n",
       "        predicted_label  \n",
       "11885                 1  \n",
       "27378                 1  \n",
       "6640                  1  \n",
       "19019                 1  \n",
       "12084                 1  \n",
       "...                 ...  \n",
       "176344                1  \n",
       "176360                1  \n",
       "176366                1  \n",
       "176384                1  \n",
       "176387                1  \n",
       "\n",
       "[16394 rows x 2 columns]"
      ]
     },
     "execution_count": 12,
     "metadata": {},
     "output_type": "execute_result"
    }
   ],
   "source": [
    "predictions_17_test= model_17.predict(X_test_data_vectors_3)\n",
    "threshold=0.35 # Oder teste 0.4 oder 0.6\n",
    "predicted_classes_17_test = (predictions_17_test > threshold).astype(int)\n",
    "df_predictions_17 = df_test[['tweet']].copy()  # Textspalte übernehmen\n",
    "df_predictions_17['predicted_label'] =predicted_classes_17_test  # Vorhersagen hinzufügen\n",
    "\n",
    "df_positive_predictions_17 = df_predictions_17[df_predictions_17['predicted_label'] == 1][['tweet', 'predicted_label']]\n",
    "\n",
    "df_positive_predictions_17"
   ]
  },
  {
   "cell_type": "code",
   "execution_count": null,
   "metadata": {},
   "outputs": [],
   "source": [
    "predictions_21_test= model_21.predict(X_test_data_vectors_3)\n",
    "threshold=0.35 # Oder teste 0.4 oder 0.6\n",
    "predicted_classes_21_test = (predictions_21_test > threshold).astype(int)\n",
    "df_predictions = df_test[['tweet']].copy()  # Textspalte übernehmen\n",
    "df_predictions['predicted_label'] = predicted_classes_21_test  # Vorhersagen hinzufügen\n",
    "\n",
    "# pd.set_option('display.max_rows', None)  # Keine Begrenzung der Zeilenanzahl\n",
    "#pd.set_option('display.max_columns', None)  # Falls auch alle Spalten angezeigt werden sollen\n",
    "df_positive_predictions = df_predictions[df_predictions['predicted_label'] == 1][['tweet', 'predicted_label']]\n",
    "\n",
    "df_positive_predictions"
   ]
  },
  {
   "cell_type": "markdown",
   "metadata": {},
   "source": [
    "Model_21 auf testdaten predicten"
   ]
  },
  {
   "cell_type": "markdown",
   "metadata": {},
   "source": [
    "Modell speichern"
   ]
  },
  {
   "cell_type": "code",
   "execution_count": null,
   "metadata": {},
   "outputs": [],
   "source": [
    "save_path_model = os.path.abspath(os.path.join(src_path, 'src/3. Deep Learning Approach/nasiba/models/model_17.keras'))\n",
    "# Erstelle das Verzeichnis, falls es nicht existiert\n",
    "os.makedirs(os.path.dirname(save_path_model), exist_ok=True)\n",
    "#save_path_model = os.path.abspath(os.path.join(src_path, 'src/3. Deep Learning Approach/nasiba/model_17.h5')) \n",
    "model_17.save(save_path_model)\n",
    "print(f\"Modell wurde erfolgreich gespeichert unter: {save_path_model}\")"
   ]
  },
  {
   "cell_type": "code",
   "execution_count": 18,
   "metadata": {},
   "outputs": [
    {
     "name": "stdout",
     "output_type": "stream",
     "text": [
      "Modell wurde erfolgreich gespeichert unter: C:\\Users\\Nasiba\\Documents\\1 Master Data Science\\Projektpraktikum\\WebScience24\\src\\3. Deep Learning Approach\\nasiba\\models\\model_3.keras\n"
     ]
    }
   ],
   "source": [
    "\n",
    "\n",
    "save_path_model = os.path.abspath(os.path.join(src_path, 'src/3. Deep Learning Approach/nasiba/models/model_3.keras'))\n",
    "# Erstelle das Verzeichnis, falls es nicht existiert\n",
    "os.makedirs(os.path.dirname(save_path_model), exist_ok=True)\n",
    "#save_path_model = os.path.abspath(os.path.join(src_path, 'src/3. Deep Learning Approach/nasiba/model_17.h5')) \n",
    "model_3.save(save_path_model)\n",
    "print(f\"Modell wurde erfolgreich gespeichert unter: {save_path_model}\")"
   ]
  },
  {
   "cell_type": "code",
   "execution_count": 20,
   "metadata": {},
   "outputs": [
    {
     "name": "stdout",
     "output_type": "stream",
     "text": [
      "Modell wurde erfolgreich gespeichert unter: C:\\Users\\Nasiba\\Documents\\1 Master Data Science\\Projektpraktikum\\WebScience24\\src\\3. Deep Learning Approach\\nasiba\\models\\model_21.keras\n"
     ]
    }
   ],
   "source": [
    "\n",
    "\n",
    "\n",
    "save_path_model = os.path.abspath(os.path.join(src_path, 'src/3. Deep Learning Approach/nasiba/models/model_21.keras'))\n",
    "# Erstelle das Verzeichnis, falls es nicht existiert\n",
    "os.makedirs(os.path.dirname(save_path_model), exist_ok=True)\n",
    "\n",
    "model_21.save(save_path_model)\n",
    "print(f\"Modell wurde erfolgreich gespeichert unter: {save_path_model}\")"
   ]
  },
  {
   "cell_type": "code",
   "execution_count": 22,
   "metadata": {},
   "outputs": [],
   "source": [
    "save_path_labeled_data_17 = os.path.abspath(os.path.join(src_path, 'src/3. Deep Learning Approach/nasiba/labeled_data/test_labeled_lstm_md_17.csv'))\n",
    "\n",
    "save_path_labeled_data_21 = os.path.abspath(os.path.join(src_path, 'src/3. Deep Learning Approach/nasiba/labeled_data/test_labeled_lstm_md_21.csv'))\n",
    "\n",
    "\n",
    "df_predictions_17.to_csv(save_path_labeled_data_17, index=False)\n",
    "df_predictions.to_csv(save_path_labeled_data_21, index=False)"
   ]
  }
 ],
 "metadata": {
  "kernelspec": {
   "display_name": "Python 3",
   "language": "python",
   "name": "python3"
  },
  "language_info": {
   "codemirror_mode": {
    "name": "ipython",
    "version": 3
   },
   "file_extension": ".py",
   "mimetype": "text/x-python",
   "name": "python",
   "nbconvert_exporter": "python",
   "pygments_lexer": "ipython3",
   "version": "3.11.9"
  }
 },
 "nbformat": 4,
 "nbformat_minor": 2
}
