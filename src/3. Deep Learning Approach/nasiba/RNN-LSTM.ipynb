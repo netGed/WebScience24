{
 "cells": [
  {
   "cell_type": "code",
   "execution_count": 43,
   "metadata": {},
   "outputs": [],
   "source": [
    "# !pip install tensorflow\n"
   ]
  },
  {
   "cell_type": "code",
   "execution_count": 44,
   "metadata": {},
   "outputs": [
    {
     "data": {
      "text/plain": [
       "WindowsPath('C:/Users/Nasiba/Documents/1 Master Data Science/Projektpraktikum/WebScience24')"
      ]
     },
     "execution_count": 44,
     "metadata": {},
     "output_type": "execute_result"
    }
   ],
   "source": [
    "import sys\n",
    "from pathlib import Path\n",
    "\n",
    "# Zum übergeordneten Ordner 'src' wechseln\n",
    "current_path = Path().resolve()\n",
    "src_path = current_path.parents[2]  # Zwei Stufen nach oben\n",
    "\n",
    "if str(src_path) not in sys.path:\n",
    "    sys.path.append(str(src_path))\n",
    "\n",
    "src_path\n"
   ]
  },
  {
   "cell_type": "code",
   "execution_count": 45,
   "metadata": {},
   "outputs": [],
   "source": [
    "\n",
    "\n",
    "import pandas as pd\n",
    "import numpy as np\n",
    "import matplotlib.pyplot as plt\n",
    "import seaborn as sns\n",
    "\n",
    "from pathlib import Path\n",
    "from sklearn.linear_model import LogisticRegression\n",
    "from sklearn.metrics import accuracy_score, classification_report, confusion_matrix\n",
    "\n",
    "from collections import Counter\n",
    "#nlp = spacy.load(\"en_core_web_sm\")\n",
    "from nltk import word_tokenize\n",
    "pd.set_option('display.max_colwidth', None)\n",
    "from sklearn.model_selection import train_test_split\n",
    "from sklearn.feature_extraction.text import TfidfVectorizer\n",
    "from sklearn.feature_extraction.text import CountVectorizer\n",
    "from vector_functions import vectorize_word2vec, vectorize_glove\n",
    "import nltk\n",
    "\n",
    "import os\n",
    "from tensorflow.keras.models import Sequential\n",
    "from tensorflow.keras.layers import Embedding, LSTM, Dense,Dropout\n",
    "from tensorflow.keras.utils import to_categorical\n",
    "\n"
   ]
  },
  {
   "cell_type": "markdown",
   "metadata": {},
   "source": [
    "#### Beladung der Daten"
   ]
  },
  {
   "cell_type": "code",
   "execution_count": 46,
   "metadata": {},
   "outputs": [
    {
     "data": {
      "text/html": [
       "<div>\n",
       "<style scoped>\n",
       "    .dataframe tbody tr th:only-of-type {\n",
       "        vertical-align: middle;\n",
       "    }\n",
       "\n",
       "    .dataframe tbody tr th {\n",
       "        vertical-align: top;\n",
       "    }\n",
       "\n",
       "    .dataframe thead th {\n",
       "        text-align: right;\n",
       "    }\n",
       "</style>\n",
       "<table border=\"1\" class=\"dataframe\">\n",
       "  <thead>\n",
       "    <tr style=\"text-align: right;\">\n",
       "      <th></th>\n",
       "      <th>label</th>\n",
       "      <th>tweet</th>\n",
       "      <th>tweet_cleaned</th>\n",
       "      <th>user_handle</th>\n",
       "      <th>hashtags</th>\n",
       "      <th>emojis</th>\n",
       "    </tr>\n",
       "    <tr>\n",
       "      <th>id</th>\n",
       "      <th></th>\n",
       "      <th></th>\n",
       "      <th></th>\n",
       "      <th></th>\n",
       "      <th></th>\n",
       "      <th></th>\n",
       "    </tr>\n",
       "  </thead>\n",
       "  <tbody>\n",
       "    <tr>\n",
       "      <th>8886</th>\n",
       "      <td>0</td>\n",
       "      <td>@user #cinemaaawards final rehearsals!! gearing up for the evening!! #butterflies #stage  ! hope u all like it</td>\n",
       "      <td>cinema award final rehearsal gear evening butterfly stage hope like</td>\n",
       "      <td>1</td>\n",
       "      <td>['#cinemaaawards', '#butterflies', '#stage']</td>\n",
       "      <td>NaN</td>\n",
       "    </tr>\n",
       "  </tbody>\n",
       "</table>\n",
       "</div>"
      ],
      "text/plain": [
       "      label  \\\n",
       "id            \n",
       "8886      0   \n",
       "\n",
       "                                                                                                                 tweet  \\\n",
       "id                                                                                                                       \n",
       "8886   @user #cinemaaawards final rehearsals!! gearing up for the evening!! #butterflies #stage  ! hope u all like it    \n",
       "\n",
       "                                                            tweet_cleaned  \\\n",
       "id                                                                          \n",
       "8886  cinema award final rehearsal gear evening butterfly stage hope like   \n",
       "\n",
       "      user_handle                                      hashtags emojis  \n",
       "id                                                                      \n",
       "8886            1  ['#cinemaaawards', '#butterflies', '#stage']    NaN  "
      ]
     },
     "execution_count": 46,
     "metadata": {},
     "output_type": "execute_result"
    }
   ],
   "source": [
    "\n",
    "source_filepath_name = os.path.abspath(os.path.join(src_path, 'data/twitter_hate-speech/train_cleaned.csv'))\n",
    "\n",
    "df_cleaned = pd.read_csv(source_filepath_name, encoding='utf-8', index_col=0)\n",
    "df_cleaned.head(1)"
   ]
  },
  {
   "cell_type": "markdown",
   "metadata": {},
   "source": [
    "### Vektorisierung"
   ]
  },
  {
   "cell_type": "markdown",
   "metadata": {},
   "source": [
    "#### GloVe "
   ]
  },
  {
   "cell_type": "code",
   "execution_count": 75,
   "metadata": {},
   "outputs": [
    {
     "name": "stderr",
     "output_type": "stream",
     "text": [
      "c:\\Users\\Nasiba\\Documents\\1 Master Data Science\\Projektpraktikum\\WebScience24\\src\\3. Deep Learning Approach\\nasiba\\vector_functions.py:346: SettingWithCopyWarning: \n",
      "A value is trying to be set on a copy of a slice from a DataFrame.\n",
      "Try using .loc[row_indexer,col_indexer] = value instead\n",
      "\n",
      "See the caveats in the documentation: https://pandas.pydata.org/pandas-docs/stable/user_guide/indexing.html#returning-a-view-versus-a-copy\n",
      "  df[text_column] = df[text_column].astype(str)\n"
     ]
    },
    {
     "data": {
      "text/plain": [
       "array([[[-0.28044   ,  0.39199999,  0.55759001, ...,  0.18381   ,\n",
       "          0.094007  , -0.27184999],\n",
       "        [-0.45910999, -0.58897001,  0.099599  , ...,  0.12999   ,\n",
       "         -0.48536   , -0.31015   ],\n",
       "        [-0.86185998, -0.94414997, -0.22002   , ..., -0.40002   ,\n",
       "         -0.55721998,  0.74204999],\n",
       "        ...,\n",
       "        [ 0.        ,  0.        ,  0.        , ...,  0.        ,\n",
       "          0.        ,  0.        ],\n",
       "        [ 0.        ,  0.        ,  0.        , ...,  0.        ,\n",
       "          0.        ,  0.        ],\n",
       "        [ 0.        ,  0.        ,  0.        , ...,  0.        ,\n",
       "          0.        ,  0.        ]],\n",
       "\n",
       "       [[-0.039898  ,  0.90736002,  0.32747   , ...,  0.36886001,\n",
       "          0.17496   , -0.58892   ],\n",
       "        [ 0.45849001,  0.14165001,  0.0083564 , ...,  0.47777   ,\n",
       "          0.21673   ,  0.16425   ],\n",
       "        [-0.037545  ,  0.11898   ,  0.26445001, ...,  0.018283  ,\n",
       "          0.004319  ,  0.11362   ],\n",
       "        ...,\n",
       "        [ 0.        ,  0.        ,  0.        , ...,  0.        ,\n",
       "          0.        ,  0.        ],\n",
       "        [ 0.        ,  0.        ,  0.        , ...,  0.        ,\n",
       "          0.        ,  0.        ],\n",
       "        [ 0.        ,  0.        ,  0.        , ...,  0.        ,\n",
       "          0.        ,  0.        ]],\n",
       "\n",
       "       [[ 0.1073    ,  0.36058   ,  0.11135   , ...,  0.14933001,\n",
       "         -0.30864999, -0.55198002],\n",
       "        [ 0.67330003,  0.089785  ,  0.43290001, ...,  0.0025657 ,\n",
       "         -0.44791001, -0.18421   ],\n",
       "        [ 0.040778  , -0.43959999, -0.29868001, ..., -0.09967   ,\n",
       "         -0.45881999, -0.0907    ],\n",
       "        ...,\n",
       "        [ 0.        ,  0.        ,  0.        , ...,  0.        ,\n",
       "          0.        ,  0.        ],\n",
       "        [ 0.        ,  0.        ,  0.        , ...,  0.        ,\n",
       "          0.        ,  0.        ],\n",
       "        [ 0.        ,  0.        ,  0.        , ...,  0.        ,\n",
       "          0.        ,  0.        ]],\n",
       "\n",
       "       ...,\n",
       "\n",
       "       [[ 0.26405999,  0.55940002,  0.49761999, ..., -0.055876  ,\n",
       "         -0.074413  , -0.84075999],\n",
       "        [-0.086995  , -0.14877   , -0.57569999, ..., -0.052013  ,\n",
       "          0.63172001,  0.47837999],\n",
       "        [-0.51319999, -0.088568  , -0.15791   , ..., -0.26495999,\n",
       "          0.22649001, -0.22193   ],\n",
       "        ...,\n",
       "        [ 0.        ,  0.        ,  0.        , ...,  0.        ,\n",
       "          0.        ,  0.        ],\n",
       "        [ 0.        ,  0.        ,  0.        , ...,  0.        ,\n",
       "          0.        ,  0.        ],\n",
       "        [ 0.        ,  0.        ,  0.        , ...,  0.        ,\n",
       "          0.        ,  0.        ]],\n",
       "\n",
       "       [[ 0.14214   ,  0.25086001,  0.1912    , ...,  0.37116   ,\n",
       "          0.70981997, -0.71227998],\n",
       "        [ 0.52487999, -1.02419996,  0.10568   , ...,  0.47922   ,\n",
       "         -0.21291   ,  0.23472001],\n",
       "        [ 0.14214   ,  0.25086001,  0.1912    , ...,  0.37116   ,\n",
       "          0.70981997, -0.71227998],\n",
       "        ...,\n",
       "        [ 0.        ,  0.        ,  0.        , ...,  0.        ,\n",
       "          0.        ,  0.        ],\n",
       "        [ 0.        ,  0.        ,  0.        , ...,  0.        ,\n",
       "          0.        ,  0.        ],\n",
       "        [ 0.        ,  0.        ,  0.        , ...,  0.        ,\n",
       "          0.        ,  0.        ]],\n",
       "\n",
       "       [[-0.03275   ,  0.48704001,  0.042684  , ..., -0.57590002,\n",
       "          0.17017999, -0.55401999],\n",
       "        [-0.80649   , -0.39267999, -0.39776   , ..., -0.22187001,\n",
       "          0.11207   , -0.37571001],\n",
       "        [-0.20728999, -0.12544   , -0.19549   , ...,  0.0091675 ,\n",
       "         -0.62743002, -0.85624999],\n",
       "        ...,\n",
       "        [ 0.        ,  0.        ,  0.        , ...,  0.        ,\n",
       "          0.        ,  0.        ],\n",
       "        [ 0.        ,  0.        ,  0.        , ...,  0.        ,\n",
       "          0.        ,  0.        ],\n",
       "        [ 0.        ,  0.        ,  0.        , ...,  0.        ,\n",
       "          0.        ,  0.        ]]])"
      ]
     },
     "execution_count": 75,
     "metadata": {},
     "output_type": "execute_result"
    }
   ],
   "source": [
    "\n",
    "\n",
    "twitter_glove_path = os.path.abspath(os.path.join(src_path, 'src/3. Deep Learning Approach/nasiba/glove.twitter.27B.100d.txt'))\n",
    "\n",
    "\n",
    "X_train_vectors, X_test_vectors, y_train, y_test, glove_embeddings = vectorize_glove(df=df_cleaned, text_column =\"tweet_cleaned\", label_column=\"label\", glove_path=twitter_glove_path)\n",
    "\n",
    "\n"
   ]
  },
  {
   "cell_type": "markdown",
   "metadata": {},
   "source": [
    "### Reshaping für LSTM"
   ]
  },
  {
   "cell_type": "code",
   "execution_count": 76,
   "metadata": {},
   "outputs": [
    {
     "name": "stdout",
     "output_type": "stream",
     "text": [
      "(14124, 50, 100)\n",
      "(6054, 50, 100)\n"
     ]
    }
   ],
   "source": [
    "print(X_train_vectors.shape)\n",
    "print(X_test_vectors.shape)\n"
   ]
  },
  {
   "cell_type": "markdown",
   "metadata": {},
   "source": [
    "### Modell aufbauen "
   ]
  },
  {
   "cell_type": "markdown",
   "metadata": {},
   "source": [
    "##### Die Modelleingaben überprüfen"
   ]
  },
  {
   "cell_type": "code",
   "execution_count": 77,
   "metadata": {},
   "outputs": [
    {
     "name": "stdout",
     "output_type": "stream",
     "text": [
      "14124\n",
      "50\n",
      "100\n",
      "2\n",
      "(6054, 50, 100)\n",
      "2\n"
     ]
    }
   ],
   "source": [
    "samples, max_seq_len, vector_size = X_train_vectors.shape\n",
    "num_classes = len(np.unique(y_train))\n",
    "print(samples)\n",
    "print(max_seq_len)\n",
    "print(vector_size)\n",
    "print(num_classes)\n",
    "print(X_test_vectors.shape)\n",
    "print(len(np.unique(y_test)))"
   ]
  },
  {
   "cell_type": "markdown",
   "metadata": {},
   "source": [
    "#### One-Hot-Encoding der Labels"
   ]
  },
  {
   "cell_type": "code",
   "execution_count": 79,
   "metadata": {},
   "outputs": [
    {
     "name": "stdout",
     "output_type": "stream",
     "text": [
      "[[1. 0.]\n",
      " [1. 0.]\n",
      " [1. 0.]\n",
      " ...\n",
      " [0. 1.]\n",
      " [1. 0.]\n",
      " [1. 0.]]\n",
      "[[1. 0.]\n",
      " [1. 0.]\n",
      " [1. 0.]\n",
      " ...\n",
      " [1. 0.]\n",
      " [1. 0.]\n",
      " [1. 0.]]\n"
     ]
    }
   ],
   "source": [
    "\n",
    "y_train_onehot = to_categorical(y_train, num_classes=num_classes)\n",
    "y_test_onehot = to_categorical(y_test, num_classes=num_classes)\n",
    "print(y_train_onehot)\n",
    "print(y_test_onehot)"
   ]
  },
  {
   "cell_type": "markdown",
   "metadata": {},
   "source": [
    "##### Modellinitialisierung"
   ]
  },
  {
   "cell_type": "code",
   "execution_count": 82,
   "metadata": {},
   "outputs": [],
   "source": [
    "\n",
    "# Modellinitialisierung\n",
    "model = Sequential()\n",
    "\n",
    "# LSTM-Schicht\n",
    "model.add(LSTM(units=128, input_shape=(max_seq_len, vector_size), return_sequences=False))\n",
    "\n",
    "# Optional: Dropout zur Vermeidung von Overfitting\n",
    "model.add(Dropout(0.5))\n",
    "\n",
    "# Dense-Schicht für die Ausgabe\n",
    "model.add(Dense(units=num_classes, activation='softmax'))\n",
    "\n",
    "# Kompilieren des Modells\n",
    "model.compile(optimizer='adam', loss='categorical_crossentropy', metrics=['accuracy'])\n"
   ]
  },
  {
   "cell_type": "markdown",
   "metadata": {},
   "source": [
    "#####  Modell trainieren"
   ]
  },
  {
   "cell_type": "code",
   "execution_count": 83,
   "metadata": {},
   "outputs": [
    {
     "name": "stdout",
     "output_type": "stream",
     "text": [
      "Epoch 1/10\n",
      "\u001b[1m442/442\u001b[0m \u001b[32m━━━━━━━━━━━━━━━━━━━━\u001b[0m\u001b[37m\u001b[0m \u001b[1m18s\u001b[0m 36ms/step - accuracy: 0.9264 - loss: 0.2438 - val_accuracy: 0.9526 - val_loss: 0.1445\n",
      "Epoch 2/10\n",
      "\u001b[1m442/442\u001b[0m \u001b[32m━━━━━━━━━━━━━━━━━━━━\u001b[0m\u001b[37m\u001b[0m \u001b[1m16s\u001b[0m 37ms/step - accuracy: 0.9442 - loss: 0.1528 - val_accuracy: 0.9557 - val_loss: 0.1265\n",
      "Epoch 3/10\n",
      "\u001b[1m442/442\u001b[0m \u001b[32m━━━━━━━━━━━━━━━━━━━━\u001b[0m\u001b[37m\u001b[0m \u001b[1m17s\u001b[0m 39ms/step - accuracy: 0.9484 - loss: 0.1408 - val_accuracy: 0.9493 - val_loss: 0.1281\n",
      "Epoch 4/10\n",
      "\u001b[1m442/442\u001b[0m \u001b[32m━━━━━━━━━━━━━━━━━━━━\u001b[0m\u001b[37m\u001b[0m \u001b[1m17s\u001b[0m 39ms/step - accuracy: 0.9549 - loss: 0.1258 - val_accuracy: 0.9569 - val_loss: 0.1267\n",
      "Epoch 5/10\n",
      "\u001b[1m442/442\u001b[0m \u001b[32m━━━━━━━━━━━━━━━━━━━━\u001b[0m\u001b[37m\u001b[0m \u001b[1m17s\u001b[0m 39ms/step - accuracy: 0.9557 - loss: 0.1222 - val_accuracy: 0.9574 - val_loss: 0.1202\n",
      "Epoch 6/10\n",
      "\u001b[1m442/442\u001b[0m \u001b[32m━━━━━━━━━━━━━━━━━━━━\u001b[0m\u001b[37m\u001b[0m \u001b[1m18s\u001b[0m 40ms/step - accuracy: 0.9522 - loss: 0.1377 - val_accuracy: 0.9623 - val_loss: 0.1149\n",
      "Epoch 7/10\n",
      "\u001b[1m442/442\u001b[0m \u001b[32m━━━━━━━━━━━━━━━━━━━━\u001b[0m\u001b[37m\u001b[0m \u001b[1m18s\u001b[0m 42ms/step - accuracy: 0.9643 - loss: 0.1017 - val_accuracy: 0.9609 - val_loss: 0.1138\n",
      "Epoch 8/10\n",
      "\u001b[1m442/442\u001b[0m \u001b[32m━━━━━━━━━━━━━━━━━━━━\u001b[0m\u001b[37m\u001b[0m \u001b[1m18s\u001b[0m 41ms/step - accuracy: 0.9655 - loss: 0.0955 - val_accuracy: 0.9476 - val_loss: 0.1377\n",
      "Epoch 9/10\n",
      "\u001b[1m442/442\u001b[0m \u001b[32m━━━━━━━━━━━━━━━━━━━━\u001b[0m\u001b[37m\u001b[0m \u001b[1m18s\u001b[0m 41ms/step - accuracy: 0.9704 - loss: 0.0865 - val_accuracy: 0.9513 - val_loss: 0.1409\n",
      "Epoch 10/10\n",
      "\u001b[1m442/442\u001b[0m \u001b[32m━━━━━━━━━━━━━━━━━━━━\u001b[0m\u001b[37m\u001b[0m \u001b[1m17s\u001b[0m 38ms/step - accuracy: 0.9698 - loss: 0.0815 - val_accuracy: 0.9541 - val_loss: 0.1257\n"
     ]
    }
   ],
   "source": [
    "\n",
    "history = model.fit(\n",
    "    X_train_vectors, y_train_onehot,\n",
    "    validation_data=(X_test_vectors, y_test_onehot),\n",
    "    epochs=10,\n",
    "    batch_size=32,\n",
    "    verbose=1\n",
    ")"
   ]
  },
  {
   "cell_type": "markdown",
   "metadata": {},
   "source": [
    "### Modell bewerten"
   ]
  },
  {
   "cell_type": "code",
   "execution_count": 84,
   "metadata": {},
   "outputs": [
    {
     "name": "stdout",
     "output_type": "stream",
     "text": [
      "\u001b[1m190/190\u001b[0m \u001b[32m━━━━━━━━━━━━━━━━━━━━\u001b[0m\u001b[37m\u001b[0m \u001b[1m3s\u001b[0m 14ms/step - accuracy: 0.9532 - loss: 0.1289\n",
      "Test Loss: 0.12572847306728363\n",
      "Test Accuracy: 0.9540799260139465\n",
      "\u001b[1m190/190\u001b[0m \u001b[32m━━━━━━━━━━━━━━━━━━━━\u001b[0m\u001b[37m\u001b[0m \u001b[1m3s\u001b[0m 16ms/step\n",
      "Predicted classes: [0 0 0 0 0 0 0 1 0 0 0 0 0 0 0 0 0 0 0 0 0 0 0 0 0 0 0 0 0 0 0 0 0 0 0 0 0\n",
      " 0 0 0 0 0 0 0 0 0 0 0 0 0]\n",
      "Actual classes: [0 0 0 0 0 0 0 0 0 0 0 0 0 0 0 0 0 0 0 0 0 0 0 0 0 0 0 0 0 0 0 0 0 0 0 0 0\n",
      " 0 1 0 0 0 0 0 0 0 0 0 0 0]\n",
      "Classification Report:\n",
      "               precision    recall  f1-score   support\n",
      "\n",
      "     Class 0       0.98      0.97      0.98      5687\n",
      "     Class 1       0.62      0.63      0.63       367\n",
      "\n",
      "    accuracy                           0.95      6054\n",
      "   macro avg       0.80      0.80      0.80      6054\n",
      "weighted avg       0.95      0.95      0.95      6054\n",
      "\n"
     ]
    }
   ],
   "source": [
    "\n",
    "# Testgenauigkeit\n",
    "test_loss, test_accuracy = model.evaluate(X_test_vectors, y_test_onehot)\n",
    "print(f\"Test Loss: {test_loss}\")\n",
    "print(f\"Test Accuracy: {test_accuracy}\")\n",
    "# Vorhersagen auf Testdaten\n",
    "predictions = model.predict(X_test_vectors)\n",
    "predicted_classes = np.argmax(predictions, axis=1)\n",
    "\n",
    "# Beispiel: Erste 5 Vorhersagen anzeigen\n",
    "print(\"Predicted classes:\", predicted_classes[:50])\n",
    "print(\"Actual classes:\", np.argmax(y_test_onehot[:50], axis=1))\n",
    "\n",
    "\n",
    "\n",
    "# Klassifikationsbericht erstellen\n",
    "report = classification_report(np.argmax(y_test_onehot, axis=1), predicted_classes, target_names=[\"Class 0\", \"Class 1\"])\n",
    "print(\"Classification Report:\\n\", report)\n"
   ]
  },
  {
   "cell_type": "code",
   "execution_count": 85,
   "metadata": {},
   "outputs": [
    {
     "name": "stdout",
     "output_type": "stream",
     "text": [
      "[[5543  144]\n",
      " [ 134  233]]\n"
     ]
    },
    {
     "data": {
      "image/png": "[encoded data removed]",
      "text/plain": [
       "<Figure size 400x400 with 2 Axes>"
      ]
     },
     "metadata": {},
     "output_type": "display_data"
    }
   ],
   "source": [
    "cm = confusion_matrix(np.argmax(y_test_onehot, axis=1), predicted_classes)\n",
    "print(cm)\n",
    "# Verwirrungsmatrix visualisieren\n",
    "plt.figure(figsize=(4, 4))\n",
    "sns.heatmap(cm, annot=True, fmt=\"d\", cmap=\"coolwarm\", linewidths=0.5, square=True,\n",
    "            xticklabels=[\"Label 0\", \"Label 1\"], yticklabels=[\"Label 0\", \"Label 1\"])\n",
    "plt.xlabel(\"Predicted Labels\", fontsize=12)\n",
    "plt.ylabel(\"True Labels\", fontsize=12)\n",
    "plt.title(\"Confusion Matrix\", fontsize=14)\n",
    "plt.show()"
   ]
  },
  {
   "cell_type": "markdown",
   "metadata": {},
   "source": [
    "#### Vektor word2w"
   ]
  },
  {
   "cell_type": "code",
   "execution_count": 86,
   "metadata": {},
   "outputs": [
    {
     "name": "stderr",
     "output_type": "stream",
     "text": [
      "c:\\Users\\Nasiba\\Documents\\1 Master Data Science\\Projektpraktikum\\WebScience24\\src\\3. Deep Learning Approach\\nasiba\\vector_functions.py:162: SettingWithCopyWarning: \n",
      "A value is trying to be set on a copy of a slice from a DataFrame.\n",
      "Try using .loc[row_indexer,col_indexer] = value instead\n",
      "\n",
      "See the caveats in the documentation: https://pandas.pydata.org/pandas-docs/stable/user_guide/indexing.html#returning-a-view-versus-a-copy\n",
      "  df[text_column] = df[text_column].astype(str)\n"
     ]
    },
    {
     "name": "stdout",
     "output_type": "stream",
     "text": [
      "Erste Trainingsvektoren:\n",
      "[[[-0.27888492  0.5819779   0.2443881  ... -0.75722516  0.46862516\n",
      "    0.11058311]\n",
      "  [-0.18352988  0.54089183  0.17556599 ... -0.47685972  0.3112987\n",
      "    0.02867597]\n",
      "  [-0.07857565  0.17251287  0.05716551 ... -0.16432215  0.11620443\n",
      "   -0.01011589]\n",
      "  ...\n",
      "  [ 0.          0.          0.         ...  0.          0.\n",
      "    0.        ]\n",
      "  [ 0.          0.          0.         ...  0.          0.\n",
      "    0.        ]\n",
      "  [ 0.          0.          0.         ...  0.          0.\n",
      "    0.        ]]\n",
      "\n",
      " [[-0.3756468   0.62409937  0.23890705 ... -0.72366869  0.57139605\n",
      "   -0.23332888]\n",
      "  [-0.08545966  0.22962178  0.08585239 ... -0.26212591  0.15215765\n",
      "   -0.00882063]\n",
      "  [-0.20757639  0.48471469  0.26644999 ... -0.54785693  0.51048237\n",
      "   -0.14097542]\n",
      "  ...\n",
      "  [ 0.          0.          0.         ...  0.          0.\n",
      "    0.        ]\n",
      "  [ 0.          0.          0.         ...  0.          0.\n",
      "    0.        ]\n",
      "  [ 0.          0.          0.         ...  0.          0.\n",
      "    0.        ]]]\n"
     ]
    }
   ],
   "source": [
    "\n",
    "X_train_w2v, X_test_w2v, y_train_wv, y_test_vw, w2v_model = vectorize_word2vec(df=df_cleaned, text_column =\"tweet_cleaned\", label_column=\"label\")\n",
    "\n",
    "print(\"Erste Trainingsvektoren:\")\n",
    "print(X_train_w2v[:2])"
   ]
  },
  {
   "cell_type": "code",
   "execution_count": 87,
   "metadata": {},
   "outputs": [
    {
     "name": "stdout",
     "output_type": "stream",
     "text": [
      "(14124, 50, 100)\n",
      "(6054, 50, 100)\n",
      "[[1. 0.]\n",
      " [1. 0.]\n",
      " [1. 0.]\n",
      " ...\n",
      " [0. 1.]\n",
      " [1. 0.]\n",
      " [1. 0.]]\n",
      "[[1. 0.]\n",
      " [1. 0.]\n",
      " [1. 0.]\n",
      " ...\n",
      " [1. 0.]\n",
      " [1. 0.]\n",
      " [1. 0.]]\n"
     ]
    }
   ],
   "source": [
    "print(X_train_w2v.shape)\n",
    "print(X_test_w2v.shape)\n",
    "samples,max_seq_len, vector_size = X_train_w2v.shape\n",
    "num_classes_vw = len(np.unique(y_train_wv))\n",
    "y_train_onehot_w2v = to_categorical(y_train_wv, num_classes=num_classes)\n",
    "y_test_onehot_w2v= to_categorical(y_test_vw, num_classes=num_classes)\n",
    "print(y_train_onehot)\n",
    "print(y_test_onehot)\n"
   ]
  },
  {
   "cell_type": "code",
   "execution_count": 88,
   "metadata": {},
   "outputs": [
    {
     "name": "stderr",
     "output_type": "stream",
     "text": [
      "C:\\Users\\Nasiba\\AppData\\Local\\Packages\\PythonSoftwareFoundation.Python.3.11_qbz5n2kfra8p0\\LocalCache\\local-packages\\Python311\\site-packages\\keras\\src\\layers\\rnn\\rnn.py:200: UserWarning: Do not pass an `input_shape`/`input_dim` argument to a layer. When using Sequential models, prefer using an `Input(shape)` object as the first layer in the model instead.\n",
      "  super().__init__(**kwargs)\n"
     ]
    },
    {
     "name": "stdout",
     "output_type": "stream",
     "text": [
      "Epoch 1/10\n",
      "\u001b[1m442/442\u001b[0m \u001b[32m━━━━━━━━━━━━━━━━━━━━\u001b[0m\u001b[37m\u001b[0m \u001b[1m19s\u001b[0m 39ms/step - accuracy: 0.9199 - loss: 0.2930 - val_accuracy: 0.9394 - val_loss: 0.2287\n",
      "Epoch 2/10\n",
      "\u001b[1m442/442\u001b[0m \u001b[32m━━━━━━━━━━━━━━━━━━━━\u001b[0m\u001b[37m\u001b[0m \u001b[1m18s\u001b[0m 40ms/step - accuracy: 0.9294 - loss: 0.2598 - val_accuracy: 0.9394 - val_loss: 0.2301\n",
      "Epoch 3/10\n",
      "\u001b[1m442/442\u001b[0m \u001b[32m━━━━━━━━━━━━━━━━━━━━\u001b[0m\u001b[37m\u001b[0m \u001b[1m17s\u001b[0m 38ms/step - accuracy: 0.9288 - loss: 0.2575 - val_accuracy: 0.9394 - val_loss: 0.2298\n",
      "Epoch 4/10\n",
      "\u001b[1m442/442\u001b[0m \u001b[32m━━━━━━━━━━━━━━━━━━━━\u001b[0m\u001b[37m\u001b[0m \u001b[1m17s\u001b[0m 38ms/step - accuracy: 0.9320 - loss: 0.2531 - val_accuracy: 0.9394 - val_loss: 0.2238\n",
      "Epoch 5/10\n",
      "\u001b[1m442/442\u001b[0m \u001b[32m━━━━━━━━━━━━━━━━━━━━\u001b[0m\u001b[37m\u001b[0m \u001b[1m17s\u001b[0m 39ms/step - accuracy: 0.9295 - loss: 0.2430 - val_accuracy: 0.9394 - val_loss: 0.1987\n",
      "Epoch 6/10\n",
      "\u001b[1m442/442\u001b[0m \u001b[32m━━━━━━━━━━━━━━━━━━━━\u001b[0m\u001b[37m\u001b[0m \u001b[1m18s\u001b[0m 40ms/step - accuracy: 0.9284 - loss: 0.2309 - val_accuracy: 0.9394 - val_loss: 0.1936\n",
      "Epoch 7/10\n",
      "\u001b[1m442/442\u001b[0m \u001b[32m━━━━━━━━━━━━━━━━━━━━\u001b[0m\u001b[37m\u001b[0m \u001b[1m18s\u001b[0m 41ms/step - accuracy: 0.9340 - loss: 0.2146 - val_accuracy: 0.9394 - val_loss: 0.1913\n",
      "Epoch 8/10\n",
      "\u001b[1m442/442\u001b[0m \u001b[32m━━━━━━━━━━━━━━━━━━━━\u001b[0m\u001b[37m\u001b[0m \u001b[1m17s\u001b[0m 39ms/step - accuracy: 0.9307 - loss: 0.2105 - val_accuracy: 0.9394 - val_loss: 0.1846\n",
      "Epoch 9/10\n",
      "\u001b[1m442/442\u001b[0m \u001b[32m━━━━━━━━━━━━━━━━━━━━\u001b[0m\u001b[37m\u001b[0m \u001b[1m17s\u001b[0m 39ms/step - accuracy: 0.9315 - loss: 0.2040 - val_accuracy: 0.9399 - val_loss: 0.1794\n",
      "Epoch 10/10\n",
      "\u001b[1m442/442\u001b[0m \u001b[32m━━━━━━━━━━━━━━━━━━━━\u001b[0m\u001b[37m\u001b[0m \u001b[1m18s\u001b[0m 40ms/step - accuracy: 0.9325 - loss: 0.1991 - val_accuracy: 0.9315 - val_loss: 0.1831\n"
     ]
    }
   ],
   "source": [
    "\n",
    "# Modellinitialisierung\n",
    "model = Sequential()\n",
    "\n",
    "# LSTM-Schicht\n",
    "model.add(LSTM(units=128, input_shape=(max_seq_len, vector_size), return_sequences=False))\n",
    "\n",
    "# Optional: Dropout zur Vermeidung von Overfitting\n",
    "model.add(Dropout(0.5))\n",
    "\n",
    "# Dense-Schicht für die Ausgabe\n",
    "model.add(Dense(units=num_classes, activation='softmax'))\n",
    "\n",
    "# Kompilieren des Modells\n",
    "model.compile(optimizer='adam', loss='categorical_crossentropy', metrics=['accuracy'])\n",
    "\n",
    "history = model.fit(\n",
    "    X_train_w2v, y_train_onehot,\n",
    "    validation_data=(X_test_w2v, y_test_onehot_w2v),\n",
    "    epochs=10,\n",
    "    batch_size=32,\n",
    "    verbose=1\n",
    ")"
   ]
  },
  {
   "cell_type": "code",
   "execution_count": 89,
   "metadata": {},
   "outputs": [
    {
     "name": "stdout",
     "output_type": "stream",
     "text": [
      "\u001b[1m190/190\u001b[0m \u001b[32m━━━━━━━━━━━━━━━━━━━━\u001b[0m\u001b[37m\u001b[0m \u001b[1m3s\u001b[0m 16ms/step - accuracy: 0.9306 - loss: 0.1831\n",
      "Test Loss: 0.18314142525196075\n",
      "Test Accuracy: 0.9314503073692322\n",
      "\u001b[1m190/190\u001b[0m \u001b[32m━━━━━━━━━━━━━━━━━━━━\u001b[0m\u001b[37m\u001b[0m \u001b[1m3s\u001b[0m 16ms/step\n",
      "Predicted classes: [0 0 0 1 0 0 0 0 0 0 0 0 0 0 0 0 0 0 0 0 0 0 0 0 0 0 0 0 0 0 0 0 0 0 0 0 0\n",
      " 0 1 0 0 0 0 0 0 0 0 0 0 0]\n",
      "Actual classes: [0 0 0 0 0 0 0 0 0 0 0 0 0 0 0 0 0 0 0 0 0 0 0 0 0 0 0 0 0 0 0 0 0 0 0 0 0\n",
      " 0 1 0 0 0 0 0 0 0 0 0 0 0]\n",
      "Classification Report:\n",
      "               precision    recall  f1-score   support\n",
      "\n",
      "     Class 0       0.95      0.98      0.96      5687\n",
      "     Class 1       0.35      0.16      0.22       367\n",
      "\n",
      "    accuracy                           0.93      6054\n",
      "   macro avg       0.65      0.57      0.59      6054\n",
      "weighted avg       0.91      0.93      0.92      6054\n",
      "\n",
      "[[5581  106]\n",
      " [ 309   58]]\n"
     ]
    },
    {
     "data": {
      "image/png": "[encoded data removed]",
      "text/plain": [
       "<Figure size 400x400 with 2 Axes>"
      ]
     },
     "metadata": {},
     "output_type": "display_data"
    }
   ],
   "source": [
    "\n",
    "# Testgenauigkeit\n",
    "test_loss, test_accuracy = model.evaluate(X_test_w2v, y_test_onehot_w2v)\n",
    "print(f\"Test Loss: {test_loss}\")\n",
    "print(f\"Test Accuracy: {test_accuracy}\")\n",
    "# Vorhersagen auf Testdaten\n",
    "predictions = model.predict(X_test_w2v)\n",
    "predicted_classes = np.argmax(predictions, axis=1)\n",
    "\n",
    "# Beispiel: Erste 5 Vorhersagen anzeigen\n",
    "print(\"Predicted classes:\", predicted_classes[:50])\n",
    "print(\"Actual classes:\", np.argmax(y_test_onehot[:50], axis=1))\n",
    "\n",
    "\n",
    "\n",
    "# Klassifikationsbericht erstellen\n",
    "report = classification_report(np.argmax(y_test_onehot_w2v, axis=1), predicted_classes, target_names=[\"Class 0\", \"Class 1\"])\n",
    "print(\"Classification Report:\\n\", report)\n",
    "\n",
    "cm = confusion_matrix(np.argmax(y_test_onehot_w2v, axis=1), predicted_classes)\n",
    "print(cm)\n",
    "# Verwirrungsmatrix visualisieren\n",
    "plt.figure(figsize=(4, 4))\n",
    "sns.heatmap(cm, annot=True, fmt=\"d\", cmap=\"coolwarm\", linewidths=0.5, square=True,\n",
    "            xticklabels=[\"Label 0\", \"Label 1\"], yticklabels=[\"Label 0\", \"Label 1\"])\n",
    "plt.xlabel(\"Predicted Labels\", fontsize=12)\n",
    "plt.ylabel(\"True Labels\", fontsize=12)\n",
    "plt.title(\"Confusion Matrix\", fontsize=14)\n",
    "plt.show()\n"
   ]
  },
  {
   "cell_type": "markdown",
   "metadata": {},
   "source": [
    "#### Modeltraining mit anderen Parametern\n",
    "\n",
    "(Aktivierungsfunktion in der Dense-Schicht zu sigmoid ändern, da diese für Binärklassifikation besser geeignet sein soll)"
   ]
  },
  {
   "cell_type": "code",
   "execution_count": 90,
   "metadata": {},
   "outputs": [
    {
     "name": "stderr",
     "output_type": "stream",
     "text": [
      "C:\\Users\\Nasiba\\AppData\\Local\\Packages\\PythonSoftwareFoundation.Python.3.11_qbz5n2kfra8p0\\LocalCache\\local-packages\\Python311\\site-packages\\keras\\src\\layers\\rnn\\rnn.py:200: UserWarning: Do not pass an `input_shape`/`input_dim` argument to a layer. When using Sequential models, prefer using an `Input(shape)` object as the first layer in the model instead.\n",
      "  super().__init__(**kwargs)\n"
     ]
    },
    {
     "name": "stdout",
     "output_type": "stream",
     "text": [
      "Epoch 1/10\n",
      "\u001b[1m442/442\u001b[0m \u001b[32m━━━━━━━━━━━━━━━━━━━━\u001b[0m\u001b[37m\u001b[0m \u001b[1m19s\u001b[0m 38ms/step - accuracy: 0.9269 - loss: 0.2452 - val_accuracy: 0.9496 - val_loss: 0.1422\n",
      "Epoch 2/10\n",
      "\u001b[1m442/442\u001b[0m \u001b[32m━━━━━━━━━━━━━━━━━━━━\u001b[0m\u001b[37m\u001b[0m \u001b[1m17s\u001b[0m 39ms/step - accuracy: 0.9447 - loss: 0.1511 - val_accuracy: 0.9506 - val_loss: 0.1346\n",
      "Epoch 3/10\n",
      "\u001b[1m442/442\u001b[0m \u001b[32m━━━━━━━━━━━━━━━━━━━━\u001b[0m\u001b[37m\u001b[0m \u001b[1m18s\u001b[0m 40ms/step - accuracy: 0.9429 - loss: 0.1483 - val_accuracy: 0.8857 - val_loss: 0.1692\n",
      "Epoch 4/10\n",
      "\u001b[1m442/442\u001b[0m \u001b[32m━━━━━━━━━━━━━━━━━━━━\u001b[0m\u001b[37m\u001b[0m \u001b[1m17s\u001b[0m 38ms/step - accuracy: 0.9457 - loss: 0.1409 - val_accuracy: 0.9495 - val_loss: 0.1302\n",
      "Epoch 5/10\n",
      "\u001b[1m442/442\u001b[0m \u001b[32m━━━━━━━━━━━━━━━━━━━━\u001b[0m\u001b[37m\u001b[0m \u001b[1m17s\u001b[0m 38ms/step - accuracy: 0.9568 - loss: 0.1167 - val_accuracy: 0.9529 - val_loss: 0.1325\n",
      "Epoch 6/10\n",
      "\u001b[1m442/442\u001b[0m \u001b[32m━━━━━━━━━━━━━━━━━━━━\u001b[0m\u001b[37m\u001b[0m \u001b[1m18s\u001b[0m 40ms/step - accuracy: 0.9604 - loss: 0.1131 - val_accuracy: 0.9622 - val_loss: 0.1210\n",
      "Epoch 7/10\n",
      "\u001b[1m442/442\u001b[0m \u001b[32m━━━━━━━━━━━━━━━━━━━━\u001b[0m\u001b[37m\u001b[0m \u001b[1m17s\u001b[0m 39ms/step - accuracy: 0.9571 - loss: 0.1124 - val_accuracy: 0.9625 - val_loss: 0.1209\n",
      "Epoch 8/10\n",
      "\u001b[1m442/442\u001b[0m \u001b[32m━━━━━━━━━━━━━━━━━━━━\u001b[0m\u001b[37m\u001b[0m \u001b[1m18s\u001b[0m 40ms/step - accuracy: 0.9628 - loss: 0.0987 - val_accuracy: 0.9595 - val_loss: 0.1242\n",
      "Epoch 9/10\n",
      "\u001b[1m442/442\u001b[0m \u001b[32m━━━━━━━━━━━━━━━━━━━━\u001b[0m\u001b[37m\u001b[0m \u001b[1m17s\u001b[0m 39ms/step - accuracy: 0.9655 - loss: 0.0891 - val_accuracy: 0.9605 - val_loss: 0.1208\n",
      "Epoch 10/10\n",
      "\u001b[1m442/442\u001b[0m \u001b[32m━━━━━━━━━━━━━━━━━━━━\u001b[0m\u001b[37m\u001b[0m \u001b[1m18s\u001b[0m 41ms/step - accuracy: 0.9702 - loss: 0.0766 - val_accuracy: 0.9301 - val_loss: 0.1391\n",
      "\u001b[1m190/190\u001b[0m \u001b[32m━━━━━━━━━━━━━━━━━━━━\u001b[0m\u001b[37m\u001b[0m \u001b[1m3s\u001b[0m 15ms/step - accuracy: 0.9292 - loss: 0.1388\n",
      "Test Loss: 0.13906075060367584\n",
      "Test Accuracy: 0.930128812789917\n",
      "\u001b[1m190/190\u001b[0m \u001b[32m━━━━━━━━━━━━━━━━━━━━\u001b[0m\u001b[37m\u001b[0m \u001b[1m3s\u001b[0m 16ms/step\n",
      "Predicted classes: [0 0 0 0 0 0 0 1 0 0 1 0 0 0 0 0 0 0 0 0 0 0 0 0 0 0 0 0 0 0 0 0 0 0 0 0 0\n",
      " 1 1 0 0 0 0 0 0 0 0 0 0 0]\n",
      "Actual classes: [0 0 0 0 0 0 0 0 0 0 0 0 0 0 0 0 0 0 0 0 0 0 0 0 0 0 0 0 0 0 0 0 0 0 0 0 0\n",
      " 0 1 0 0 0 0 0 0 0 0 0 0 0]\n",
      "Classification Report:\n",
      "               precision    recall  f1-score   support\n",
      "\n",
      "     Class 0       0.98      0.94      0.96      5687\n",
      "     Class 1       0.45      0.74      0.56       367\n",
      "\n",
      "    accuracy                           0.93      6054\n",
      "   macro avg       0.72      0.84      0.76      6054\n",
      "weighted avg       0.95      0.93      0.94      6054\n",
      "\n",
      "[[5358  329]\n",
      " [  94  273]]\n"
     ]
    },
    {
     "data": {
      "image/png": "[encoded data removed]",
      "text/plain": [
       "<Figure size 400x400 with 2 Axes>"
      ]
     },
     "metadata": {},
     "output_type": "display_data"
    }
   ],
   "source": [
    "samples, max_seq_len, vector_size = X_train_vectors.shape\n",
    "num_classes = len(np.unique(y_train))\n",
    "\n",
    "\n",
    "y_train_onehot = to_categorical(y_train, num_classes=num_classes)\n",
    "y_test_onehot = to_categorical(y_test, num_classes=num_classes)\n",
    "\n",
    "\n",
    "# Modellinitialisierung\n",
    "model = Sequential()\n",
    "\n",
    "# LSTM-Schicht\n",
    "model.add(LSTM(units=128, input_shape=(max_seq_len, vector_size), return_sequences=False))\n",
    "\n",
    "# Optional: Dropout zur Vermeidung von Overfitting\n",
    "model.add(Dropout(0.5))\n",
    "\n",
    "# Dense-Schicht für die Ausgabe\n",
    "model.add(Dense(units=num_classes, activation='sigmoid'))\n",
    "\n",
    "# Kompilieren des Modells\n",
    "model.compile(optimizer='adam', loss='categorical_crossentropy', metrics=['accuracy'])\n",
    "\n",
    "history = model.fit(\n",
    "    X_train_vectors, y_train_onehot,\n",
    "    validation_data=(X_test_vectors, y_test_onehot),\n",
    "    epochs=10,\n",
    "    batch_size=32,\n",
    "    verbose=1\n",
    ")\n",
    "\n",
    "# Testgenauigkeit\n",
    "test_loss, test_accuracy = model.evaluate(X_test_vectors, y_test_onehot)\n",
    "print(f\"Test Loss: {test_loss}\")\n",
    "print(f\"Test Accuracy: {test_accuracy}\")\n",
    "# Vorhersagen auf Testdaten\n",
    "predictions = model.predict(X_test_vectors)\n",
    "predicted_classes = np.argmax(predictions, axis=1)\n",
    "\n",
    "# Beispiel: Erste 5 Vorhersagen anzeigen\n",
    "print(\"Predicted classes:\", predicted_classes[:50])\n",
    "print(\"Actual classes:\", np.argmax(y_test_onehot[:50], axis=1))\n",
    "\n",
    "\n",
    "\n",
    "# Klassifikationsbericht erstellen\n",
    "report = classification_report(np.argmax(y_test_onehot, axis=1), predicted_classes, target_names=[\"Class 0\", \"Class 1\"])\n",
    "print(\"Classification Report:\\n\", report)\n",
    "cm = confusion_matrix(np.argmax(y_test_onehot, axis=1), predicted_classes)\n",
    "print(cm)\n",
    "# Verwirrungsmatrix visualisieren\n",
    "plt.figure(figsize=(4, 4))\n",
    "sns.heatmap(cm, annot=True, fmt=\"d\", cmap=\"coolwarm\", linewidths=0.5, square=True,\n",
    "            xticklabels=[\"Label 0\", \"Label 1\"], yticklabels=[\"Label 0\", \"Label 1\"])\n",
    "plt.xlabel(\"Predicted Labels\", fontsize=12)\n",
    "plt.ylabel(\"True Labels\", fontsize=12)\n",
    "plt.title(\"Confusion Matrix\", fontsize=14)\n",
    "plt.show()"
   ]
  },
  {
   "cell_type": "markdown",
   "metadata": {},
   "source": [
    "#### Modeltraining mit anderen Parametern\n",
    "\n",
    "(units erhöht mit sigmoid)"
   ]
  },
  {
   "cell_type": "code",
   "execution_count": 91,
   "metadata": {},
   "outputs": [
    {
     "name": "stderr",
     "output_type": "stream",
     "text": [
      "C:\\Users\\Nasiba\\AppData\\Local\\Packages\\PythonSoftwareFoundation.Python.3.11_qbz5n2kfra8p0\\LocalCache\\local-packages\\Python311\\site-packages\\keras\\src\\layers\\rnn\\rnn.py:200: UserWarning: Do not pass an `input_shape`/`input_dim` argument to a layer. When using Sequential models, prefer using an `Input(shape)` object as the first layer in the model instead.\n",
      "  super().__init__(**kwargs)\n"
     ]
    },
    {
     "name": "stdout",
     "output_type": "stream",
     "text": [
      "Epoch 1/10\n",
      "\u001b[1m442/442\u001b[0m \u001b[32m━━━━━━━━━━━━━━━━━━━━\u001b[0m\u001b[37m\u001b[0m \u001b[1m30s\u001b[0m 63ms/step - accuracy: 0.9167 - loss: 0.2368 - val_accuracy: 0.9394 - val_loss: 0.2312\n",
      "Epoch 2/10\n",
      "\u001b[1m442/442\u001b[0m \u001b[32m━━━━━━━━━━━━━━━━━━━━\u001b[0m\u001b[37m\u001b[0m \u001b[1m30s\u001b[0m 67ms/step - accuracy: 0.9273 - loss: 0.2638 - val_accuracy: 0.9394 - val_loss: 0.2268\n",
      "Epoch 3/10\n",
      "\u001b[1m442/442\u001b[0m \u001b[32m━━━━━━━━━━━━━━━━━━━━\u001b[0m\u001b[37m\u001b[0m \u001b[1m29s\u001b[0m 66ms/step - accuracy: 0.9334 - loss: 0.2501 - val_accuracy: 0.9394 - val_loss: 0.2290\n",
      "Epoch 4/10\n",
      "\u001b[1m442/442\u001b[0m \u001b[32m━━━━━━━━━━━━━━━━━━━━\u001b[0m\u001b[37m\u001b[0m \u001b[1m31s\u001b[0m 71ms/step - accuracy: 0.9324 - loss: 0.2519 - val_accuracy: 0.9394 - val_loss: 0.2300\n",
      "Epoch 5/10\n",
      "\u001b[1m442/442\u001b[0m \u001b[32m━━━━━━━━━━━━━━━━━━━━\u001b[0m\u001b[37m\u001b[0m \u001b[1m31s\u001b[0m 71ms/step - accuracy: 0.9312 - loss: 0.2531 - val_accuracy: 0.9394 - val_loss: 0.2287\n",
      "Epoch 6/10\n",
      "\u001b[1m442/442\u001b[0m \u001b[32m━━━━━━━━━━━━━━━━━━━━\u001b[0m\u001b[37m\u001b[0m \u001b[1m31s\u001b[0m 70ms/step - accuracy: 0.9323 - loss: 0.2499 - val_accuracy: 0.9394 - val_loss: 0.2301\n",
      "Epoch 7/10\n",
      "\u001b[1m442/442\u001b[0m \u001b[32m━━━━━━━━━━━━━━━━━━━━\u001b[0m\u001b[37m\u001b[0m \u001b[1m32s\u001b[0m 72ms/step - accuracy: 0.9306 - loss: 0.2555 - val_accuracy: 0.9394 - val_loss: 0.2287\n",
      "Epoch 8/10\n",
      "\u001b[1m442/442\u001b[0m \u001b[32m━━━━━━━━━━━━━━━━━━━━\u001b[0m\u001b[37m\u001b[0m \u001b[1m32s\u001b[0m 72ms/step - accuracy: 0.9318 - loss: 0.2517 - val_accuracy: 0.9394 - val_loss: 0.2287\n",
      "Epoch 9/10\n",
      "\u001b[1m442/442\u001b[0m \u001b[32m━━━━━━━━━━━━━━━━━━━━\u001b[0m\u001b[37m\u001b[0m \u001b[1m33s\u001b[0m 74ms/step - accuracy: 0.9312 - loss: 0.2528 - val_accuracy: 0.9394 - val_loss: 0.2290\n",
      "Epoch 10/10\n",
      "\u001b[1m442/442\u001b[0m \u001b[32m━━━━━━━━━━━━━━━━━━━━\u001b[0m\u001b[37m\u001b[0m \u001b[1m31s\u001b[0m 70ms/step - accuracy: 0.9342 - loss: 0.2449 - val_accuracy: 0.9394 - val_loss: 0.2311\n",
      "\u001b[1m190/190\u001b[0m \u001b[32m━━━━━━━━━━━━━━━━━━━━\u001b[0m\u001b[37m\u001b[0m \u001b[1m5s\u001b[0m 26ms/step - accuracy: 0.9409 - loss: 0.2273\n",
      "Test Loss: 0.23111014068126678\n",
      "Test Accuracy: 0.9393789172172546\n",
      "\u001b[1m190/190\u001b[0m \u001b[32m━━━━━━━━━━━━━━━━━━━━\u001b[0m\u001b[37m\u001b[0m \u001b[1m5s\u001b[0m 25ms/step\n",
      "Predicted classes: [0 0 0 0 0 0 0 0 0 0 0 0 0 0 0 0 0 0 0 0 0 0 0 0 0 0 0 0 0 0 0 0 0 0 0 0 0\n",
      " 0 0 0 0 0 0 0 0 0 0 0 0 0]\n",
      "Actual classes: [0 0 0 0 0 0 0 0 0 0 0 0 0 0 0 0 0 0 0 0 0 0 0 0 0 0 0 0 0 0 0 0 0 0 0 0 0\n",
      " 0 1 0 0 0 0 0 0 0 0 0 0 0]\n",
      "Classification Report:\n",
      "               precision    recall  f1-score   support\n",
      "\n",
      "     Class 0       0.94      1.00      0.97      5687\n",
      "     Class 1       0.00      0.00      0.00       367\n",
      "\n",
      "    accuracy                           0.94      6054\n",
      "   macro avg       0.47      0.50      0.48      6054\n",
      "weighted avg       0.88      0.94      0.91      6054\n",
      "\n",
      "[[5687    0]\n",
      " [ 367    0]]\n"
     ]
    },
    {
     "name": "stderr",
     "output_type": "stream",
     "text": [
      "C:\\Users\\Nasiba\\AppData\\Local\\Packages\\PythonSoftwareFoundation.Python.3.11_qbz5n2kfra8p0\\LocalCache\\local-packages\\Python311\\site-packages\\sklearn\\metrics\\_classification.py:1531: UndefinedMetricWarning: Precision is ill-defined and being set to 0.0 in labels with no predicted samples. Use `zero_division` parameter to control this behavior.\n",
      "  _warn_prf(average, modifier, f\"{metric.capitalize()} is\", len(result))\n",
      "C:\\Users\\Nasiba\\AppData\\Local\\Packages\\PythonSoftwareFoundation.Python.3.11_qbz5n2kfra8p0\\LocalCache\\local-packages\\Python311\\site-packages\\sklearn\\metrics\\_classification.py:1531: UndefinedMetricWarning: Precision is ill-defined and being set to 0.0 in labels with no predicted samples. Use `zero_division` parameter to control this behavior.\n",
      "  _warn_prf(average, modifier, f\"{metric.capitalize()} is\", len(result))\n",
      "C:\\Users\\Nasiba\\AppData\\Local\\Packages\\PythonSoftwareFoundation.Python.3.11_qbz5n2kfra8p0\\LocalCache\\local-packages\\Python311\\site-packages\\sklearn\\metrics\\_classification.py:1531: UndefinedMetricWarning: Precision is ill-defined and being set to 0.0 in labels with no predicted samples. Use `zero_division` parameter to control this behavior.\n",
      "  _warn_prf(average, modifier, f\"{metric.capitalize()} is\", len(result))\n"
     ]
    },
    {
     "data": {
      "image/png": "[encoded data removed]",
      "text/plain": [
       "<Figure size 400x400 with 2 Axes>"
      ]
     },
     "metadata": {},
     "output_type": "display_data"
    }
   ],
   "source": [
    "samples, max_seq_len, vector_size = X_train_vectors.shape\n",
    "num_classes = len(np.unique(y_train))\n",
    "\n",
    "\n",
    "y_train_onehot = to_categorical(y_train, num_classes=num_classes)\n",
    "y_test_onehot = to_categorical(y_test, num_classes=num_classes)\n",
    "\n",
    "\n",
    "# Modellinitialisierung\n",
    "model = Sequential()\n",
    "\n",
    "# LSTM-Schicht\n",
    "model.add(LSTM(units=256, input_shape=(max_seq_len, vector_size), return_sequences=False))\n",
    "\n",
    "# Optional: Dropout zur Vermeidung von Overfitting\n",
    "model.add(Dropout(0.5))\n",
    "\n",
    "# Dense-Schicht für die Ausgabe\n",
    "model.add(Dense(units=num_classes, activation='sigmoid'))\n",
    "\n",
    "# Kompilieren des Modells\n",
    "model.compile(optimizer='adam', loss='categorical_crossentropy', metrics=['accuracy'])\n",
    "\n",
    "history = model.fit(\n",
    "    X_train_vectors, y_train_onehot,\n",
    "    validation_data=(X_test_vectors, y_test_onehot),\n",
    "    epochs=10,\n",
    "    batch_size=32,\n",
    "    verbose=1\n",
    ")\n",
    "\n",
    "# Testgenauigkeit\n",
    "test_loss, test_accuracy = model.evaluate(X_test_vectors, y_test_onehot)\n",
    "print(f\"Test Loss: {test_loss}\")\n",
    "print(f\"Test Accuracy: {test_accuracy}\")\n",
    "# Vorhersagen auf Testdaten\n",
    "predictions = model.predict(X_test_vectors)\n",
    "predicted_classes = np.argmax(predictions, axis=1)\n",
    "\n",
    "# Beispiel: Erste 5 Vorhersagen anzeigen\n",
    "print(\"Predicted classes:\", predicted_classes[:50])\n",
    "print(\"Actual classes:\", np.argmax(y_test_onehot[:50], axis=1))\n",
    "\n",
    "\n",
    "\n",
    "# Klassifikationsbericht erstellen\n",
    "report = classification_report(np.argmax(y_test_onehot, axis=1), predicted_classes, target_names=[\"Class 0\", \"Class 1\"])\n",
    "print(\"Classification Report:\\n\", report)\n",
    "cm = confusion_matrix(np.argmax(y_test_onehot, axis=1), predicted_classes)\n",
    "print(cm)\n",
    "# Verwirrungsmatrix visualisieren\n",
    "plt.figure(figsize=(4, 4))\n",
    "sns.heatmap(cm, annot=True, fmt=\"d\", cmap=\"coolwarm\", linewidths=0.5, square=True,\n",
    "            xticklabels=[\"Label 0\", \"Label 1\"], yticklabels=[\"Label 0\", \"Label 1\"])\n",
    "plt.xlabel(\"Predicted Labels\", fontsize=12)\n",
    "plt.ylabel(\"True Labels\", fontsize=12)\n",
    "plt.title(\"Confusion Matrix\", fontsize=14)\n",
    "plt.show()"
   ]
  },
  {
   "cell_type": "markdown",
   "metadata": {},
   "source": [
    "#### Modeltraining mit anderen Parametern\n",
    "\n",
    "(Dropout reduzieren mit sigmoid)"
   ]
  },
  {
   "cell_type": "code",
   "execution_count": 92,
   "metadata": {},
   "outputs": [
    {
     "name": "stderr",
     "output_type": "stream",
     "text": [
      "C:\\Users\\Nasiba\\AppData\\Local\\Packages\\PythonSoftwareFoundation.Python.3.11_qbz5n2kfra8p0\\LocalCache\\local-packages\\Python311\\site-packages\\keras\\src\\layers\\rnn\\rnn.py:200: UserWarning: Do not pass an `input_shape`/`input_dim` argument to a layer. When using Sequential models, prefer using an `Input(shape)` object as the first layer in the model instead.\n",
      "  super().__init__(**kwargs)\n"
     ]
    },
    {
     "name": "stdout",
     "output_type": "stream",
     "text": [
      "Epoch 1/10\n",
      "\u001b[1m442/442\u001b[0m \u001b[32m━━━━━━━━━━━━━━━━━━━━\u001b[0m\u001b[37m\u001b[0m \u001b[1m23s\u001b[0m 46ms/step - accuracy: 0.9197 - loss: 0.2380 - val_accuracy: 0.9397 - val_loss: 0.1512\n",
      "Epoch 2/10\n",
      "\u001b[1m442/442\u001b[0m \u001b[32m━━━━━━━━━━━━━━━━━━━━\u001b[0m\u001b[37m\u001b[0m \u001b[1m20s\u001b[0m 45ms/step - accuracy: 0.9417 - loss: 0.1545 - val_accuracy: 0.9463 - val_loss: 0.1447\n",
      "Epoch 3/10\n",
      "\u001b[1m442/442\u001b[0m \u001b[32m━━━━━━━━━━━━━━━━━━━━\u001b[0m\u001b[37m\u001b[0m \u001b[1m20s\u001b[0m 45ms/step - accuracy: 0.9451 - loss: 0.1511 - val_accuracy: 0.9551 - val_loss: 0.1295\n",
      "Epoch 4/10\n",
      "\u001b[1m442/442\u001b[0m \u001b[32m━━━━━━━━━━━━━━━━━━━━\u001b[0m\u001b[37m\u001b[0m \u001b[1m20s\u001b[0m 46ms/step - accuracy: 0.9447 - loss: 0.1457 - val_accuracy: 0.9480 - val_loss: 0.1389\n",
      "Epoch 5/10\n",
      "\u001b[1m442/442\u001b[0m \u001b[32m━━━━━━━━━━━━━━━━━━━━\u001b[0m\u001b[37m\u001b[0m \u001b[1m60s\u001b[0m 135ms/step - accuracy: 0.9557 - loss: 0.1258 - val_accuracy: 0.9580 - val_loss: 0.1176\n",
      "Epoch 6/10\n",
      "\u001b[1m442/442\u001b[0m \u001b[32m━━━━━━━━━━━━━━━━━━━━\u001b[0m\u001b[37m\u001b[0m \u001b[1m36s\u001b[0m 80ms/step - accuracy: 0.9578 - loss: 0.1153 - val_accuracy: 0.9607 - val_loss: 0.1165\n",
      "Epoch 7/10\n",
      "\u001b[1m442/442\u001b[0m \u001b[32m━━━━━━━━━━━━━━━━━━━━\u001b[0m\u001b[37m\u001b[0m \u001b[1m19s\u001b[0m 43ms/step - accuracy: 0.9609 - loss: 0.1048 - val_accuracy: 0.9574 - val_loss: 0.1218\n",
      "Epoch 8/10\n",
      "\u001b[1m442/442\u001b[0m \u001b[32m━━━━━━━━━━━━━━━━━━━━\u001b[0m\u001b[37m\u001b[0m \u001b[1m19s\u001b[0m 44ms/step - accuracy: 0.9630 - loss: 0.0968 - val_accuracy: 0.9521 - val_loss: 0.1330\n",
      "Epoch 9/10\n",
      "\u001b[1m442/442\u001b[0m \u001b[32m━━━━━━━━━━━━━━━━━━━━\u001b[0m\u001b[37m\u001b[0m \u001b[1m20s\u001b[0m 46ms/step - accuracy: 0.9689 - loss: 0.0864 - val_accuracy: 0.9584 - val_loss: 0.1259\n",
      "Epoch 10/10\n",
      "\u001b[1m442/442\u001b[0m \u001b[32m━━━━━━━━━━━━━━━━━━━━\u001b[0m\u001b[37m\u001b[0m \u001b[1m25s\u001b[0m 56ms/step - accuracy: 0.9693 - loss: 0.0844 - val_accuracy: 0.9544 - val_loss: 0.1464\n",
      "\u001b[1m190/190\u001b[0m \u001b[32m━━━━━━━━━━━━━━━━━━━━\u001b[0m\u001b[37m\u001b[0m \u001b[1m5s\u001b[0m 27ms/step - accuracy: 0.9538 - loss: 0.1446\n",
      "Test Loss: 0.14636817574501038\n",
      "Test Accuracy: 0.9544103145599365\n",
      "\u001b[1m190/190\u001b[0m \u001b[32m━━━━━━━━━━━━━━━━━━━━\u001b[0m\u001b[37m\u001b[0m \u001b[1m11s\u001b[0m 53ms/step\n",
      "Predicted classes: [0 0 0 0 0 0 0 1 0 0 1 0 0 0 0 0 0 0 0 0 0 0 0 0 0 0 0 0 0 0 0 0 0 0 0 0 0\n",
      " 0 1 0 0 0 0 0 0 0 0 0 0 0]\n",
      "Actual classes: [0 0 0 0 0 0 0 0 0 0 0 0 0 0 0 0 0 0 0 0 0 0 0 0 0 0 0 0 0 0 0 0 0 0 0 0 0\n",
      " 0 1 0 0 0 0 0 0 0 0 0 0 0]\n",
      "Classification Report:\n",
      "               precision    recall  f1-score   support\n",
      "\n",
      "     Class 0       0.98      0.97      0.98      5687\n",
      "     Class 1       0.62      0.64      0.63       367\n",
      "\n",
      "    accuracy                           0.95      6054\n",
      "   macro avg       0.80      0.81      0.80      6054\n",
      "weighted avg       0.96      0.95      0.95      6054\n",
      "\n",
      "[[5543  144]\n",
      " [ 132  235]]\n"
     ]
    },
    {
     "data": {
      "image/png": "[encoded data removed]",
      "text/plain": [
       "<Figure size 400x400 with 2 Axes>"
      ]
     },
     "metadata": {},
     "output_type": "display_data"
    }
   ],
   "source": [
    "samples, max_seq_len, vector_size = X_train_vectors.shape\n",
    "num_classes = len(np.unique(y_train))\n",
    "\n",
    "\n",
    "y_train_onehot = to_categorical(y_train, num_classes=num_classes)\n",
    "y_test_onehot = to_categorical(y_test, num_classes=num_classes)\n",
    "\n",
    "\n",
    "# Modellinitialisierung\n",
    "model = Sequential()\n",
    "\n",
    "# LSTM-Schicht\n",
    "model.add(LSTM(units=128, input_shape=(max_seq_len, vector_size), return_sequences=False))\n",
    "\n",
    "# Optional: Dropout zur Vermeidung von Overfitting\n",
    "model.add(Dropout(0.3))\n",
    "\n",
    "# Dense-Schicht für die Ausgabe\n",
    "model.add(Dense(units=num_classes, activation='sigmoid'))\n",
    "\n",
    "# Kompilieren des Modells\n",
    "model.compile(optimizer='adam', loss='categorical_crossentropy', metrics=['accuracy'])\n",
    "\n",
    "history = model.fit(\n",
    "    X_train_vectors, y_train_onehot,\n",
    "    validation_data=(X_test_vectors, y_test_onehot),\n",
    "    epochs=10,\n",
    "    batch_size=32,\n",
    "    verbose=1\n",
    ")\n",
    "\n",
    "# Testgenauigkeit\n",
    "test_loss, test_accuracy = model.evaluate(X_test_vectors, y_test_onehot)\n",
    "print(f\"Test Loss: {test_loss}\")\n",
    "print(f\"Test Accuracy: {test_accuracy}\")\n",
    "# Vorhersagen auf Testdaten\n",
    "predictions = model.predict(X_test_vectors)\n",
    "predicted_classes = np.argmax(predictions, axis=1)\n",
    "\n",
    "# Beispiel: Erste 5 Vorhersagen anzeigen\n",
    "print(\"Predicted classes:\", predicted_classes[:50])\n",
    "print(\"Actual classes:\", np.argmax(y_test_onehot[:50], axis=1))\n",
    "\n",
    "\n",
    "\n",
    "# Klassifikationsbericht erstellen\n",
    "report = classification_report(np.argmax(y_test_onehot, axis=1), predicted_classes, target_names=[\"Class 0\", \"Class 1\"])\n",
    "print(\"Classification Report:\\n\", report)\n",
    "cm = confusion_matrix(np.argmax(y_test_onehot, axis=1), predicted_classes)\n",
    "print(cm)\n",
    "# Verwirrungsmatrix visualisieren\n",
    "plt.figure(figsize=(4, 4))\n",
    "sns.heatmap(cm, annot=True, fmt=\"d\", cmap=\"coolwarm\", linewidths=0.5, square=True,\n",
    "            xticklabels=[\"Label 0\", \"Label 1\"], yticklabels=[\"Label 0\", \"Label 1\"])\n",
    "plt.xlabel(\"Predicted Labels\", fontsize=12)\n",
    "plt.ylabel(\"True Labels\", fontsize=12)\n",
    "plt.title(\"Confusion Matrix\", fontsize=14)\n",
    "plt.show()"
   ]
  },
  {
   "cell_type": "markdown",
   "metadata": {},
   "source": [
    "#### Modeltraining mit anderen Parametern\n",
    "\n",
    "(Epochenerhöhung mit sigmoid)"
   ]
  },
  {
   "cell_type": "code",
   "execution_count": 93,
   "metadata": {},
   "outputs": [
    {
     "name": "stderr",
     "output_type": "stream",
     "text": [
      "C:\\Users\\Nasiba\\AppData\\Local\\Packages\\PythonSoftwareFoundation.Python.3.11_qbz5n2kfra8p0\\LocalCache\\local-packages\\Python311\\site-packages\\keras\\src\\layers\\rnn\\rnn.py:200: UserWarning: Do not pass an `input_shape`/`input_dim` argument to a layer. When using Sequential models, prefer using an `Input(shape)` object as the first layer in the model instead.\n",
      "  super().__init__(**kwargs)\n"
     ]
    },
    {
     "name": "stdout",
     "output_type": "stream",
     "text": [
      "Epoch 1/20\n",
      "\u001b[1m442/442\u001b[0m \u001b[32m━━━━━━━━━━━━━━━━━━━━\u001b[0m\u001b[37m\u001b[0m \u001b[1m140s\u001b[0m 260ms/step - accuracy: 0.9310 - loss: 0.2296 - val_accuracy: 0.9458 - val_loss: 0.1435\n",
      "Epoch 2/20\n",
      "\u001b[1m442/442\u001b[0m \u001b[32m━━━━━━━━━━━━━━━━━━━━\u001b[0m\u001b[37m\u001b[0m \u001b[1m53s\u001b[0m 120ms/step - accuracy: 0.9399 - loss: 0.1593 - val_accuracy: 0.9582 - val_loss: 0.1500\n",
      "Epoch 3/20\n",
      "\u001b[1m442/442\u001b[0m \u001b[32m━━━━━━━━━━━━━━━━━━━━\u001b[0m\u001b[37m\u001b[0m \u001b[1m28s\u001b[0m 62ms/step - accuracy: 0.9470 - loss: 0.1456 - val_accuracy: 0.9574 - val_loss: 0.1372\n",
      "Epoch 4/20\n",
      "\u001b[1m442/442\u001b[0m \u001b[32m━━━━━━━━━━━━━━━━━━━━\u001b[0m\u001b[37m\u001b[0m \u001b[1m29s\u001b[0m 66ms/step - accuracy: 0.9509 - loss: 0.1374 - val_accuracy: 0.9587 - val_loss: 0.1255\n",
      "Epoch 5/20\n",
      "\u001b[1m442/442\u001b[0m \u001b[32m━━━━━━━━━━━━━━━━━━━━\u001b[0m\u001b[37m\u001b[0m \u001b[1m35s\u001b[0m 79ms/step - accuracy: 0.9559 - loss: 0.1187 - val_accuracy: 0.9584 - val_loss: 0.1468\n",
      "Epoch 6/20\n",
      "\u001b[1m442/442\u001b[0m \u001b[32m━━━━━━━━━━━━━━━━━━━━\u001b[0m\u001b[37m\u001b[0m \u001b[1m37s\u001b[0m 83ms/step - accuracy: 0.9614 - loss: 0.1125 - val_accuracy: 0.9490 - val_loss: 0.1316\n",
      "Epoch 7/20\n",
      "\u001b[1m442/442\u001b[0m \u001b[32m━━━━━━━━━━━━━━━━━━━━\u001b[0m\u001b[37m\u001b[0m \u001b[1m34s\u001b[0m 77ms/step - accuracy: 0.9588 - loss: 0.1128 - val_accuracy: 0.9572 - val_loss: 0.1368\n",
      "Epoch 8/20\n",
      "\u001b[1m442/442\u001b[0m \u001b[32m━━━━━━━━━━━━━━━━━━━━\u001b[0m\u001b[37m\u001b[0m \u001b[1m35s\u001b[0m 78ms/step - accuracy: 0.9650 - loss: 0.0980 - val_accuracy: 0.9592 - val_loss: 0.1226\n",
      "Epoch 9/20\n",
      "\u001b[1m442/442\u001b[0m \u001b[32m━━━━━━━━━━━━━━━━━━━━\u001b[0m\u001b[37m\u001b[0m \u001b[1m38s\u001b[0m 85ms/step - accuracy: 0.9682 - loss: 0.0920 - val_accuracy: 0.9528 - val_loss: 0.1328\n",
      "Epoch 10/20\n",
      "\u001b[1m442/442\u001b[0m \u001b[32m━━━━━━━━━━━━━━━━━━━━\u001b[0m\u001b[37m\u001b[0m \u001b[1m37s\u001b[0m 83ms/step - accuracy: 0.9729 - loss: 0.0780 - val_accuracy: 0.9584 - val_loss: 0.1258\n",
      "Epoch 11/20\n",
      "\u001b[1m442/442\u001b[0m \u001b[32m━━━━━━━━━━━━━━━━━━━━\u001b[0m\u001b[37m\u001b[0m \u001b[1m37s\u001b[0m 83ms/step - accuracy: 0.9775 - loss: 0.0625 - val_accuracy: 0.9569 - val_loss: 0.1344\n",
      "Epoch 12/20\n",
      "\u001b[1m442/442\u001b[0m \u001b[32m━━━━━━━━━━━━━━━━━━━━\u001b[0m\u001b[37m\u001b[0m \u001b[1m32s\u001b[0m 73ms/step - accuracy: 0.9816 - loss: 0.0562 - val_accuracy: 0.9557 - val_loss: 0.1409\n",
      "Epoch 13/20\n",
      "\u001b[1m442/442\u001b[0m \u001b[32m━━━━━━━━━━━━━━━━━━━━\u001b[0m\u001b[37m\u001b[0m \u001b[1m37s\u001b[0m 83ms/step - accuracy: 0.9841 - loss: 0.0537 - val_accuracy: 0.9529 - val_loss: 0.1638\n",
      "Epoch 14/20\n",
      "\u001b[1m442/442\u001b[0m \u001b[32m━━━━━━━━━━━━━━━━━━━━\u001b[0m\u001b[37m\u001b[0m \u001b[1m47s\u001b[0m 106ms/step - accuracy: 0.9870 - loss: 0.0416 - val_accuracy: 0.9547 - val_loss: 0.1634\n",
      "Epoch 15/20\n",
      "\u001b[1m442/442\u001b[0m \u001b[32m━━━━━━━━━━━━━━━━━━━━\u001b[0m\u001b[37m\u001b[0m \u001b[1m35s\u001b[0m 79ms/step - accuracy: 0.9869 - loss: 0.0423 - val_accuracy: 0.9514 - val_loss: 0.2017\n",
      "Epoch 16/20\n",
      "\u001b[1m442/442\u001b[0m \u001b[32m━━━━━━━━━━━━━━━━━━━━\u001b[0m\u001b[37m\u001b[0m \u001b[1m35s\u001b[0m 65ms/step - accuracy: 0.9886 - loss: 0.0379 - val_accuracy: 0.9589 - val_loss: 0.1836\n",
      "Epoch 17/20\n",
      "\u001b[1m442/442\u001b[0m \u001b[32m━━━━━━━━━━━━━━━━━━━━\u001b[0m\u001b[37m\u001b[0m \u001b[1m26s\u001b[0m 59ms/step - accuracy: 0.9908 - loss: 0.0300 - val_accuracy: 0.9569 - val_loss: 0.1707\n",
      "Epoch 18/20\n",
      "\u001b[1m442/442\u001b[0m \u001b[32m━━━━━━━━━━━━━━━━━━━━\u001b[0m\u001b[37m\u001b[0m \u001b[1m25s\u001b[0m 56ms/step - accuracy: 0.9902 - loss: 0.0291 - val_accuracy: 0.9547 - val_loss: 0.2219\n",
      "Epoch 19/20\n",
      "\u001b[1m442/442\u001b[0m \u001b[32m━━━━━━━━━━━━━━━━━━━━\u001b[0m\u001b[37m\u001b[0m \u001b[1m25s\u001b[0m 57ms/step - accuracy: 0.9878 - loss: 0.0334 - val_accuracy: 0.9539 - val_loss: 0.2029\n",
      "Epoch 20/20\n",
      "\u001b[1m442/442\u001b[0m \u001b[32m━━━━━━━━━━━━━━━━━━━━\u001b[0m\u001b[37m\u001b[0m \u001b[1m23s\u001b[0m 51ms/step - accuracy: 0.9914 - loss: 0.0259 - val_accuracy: 0.9561 - val_loss: 0.1820\n",
      "\u001b[1m190/190\u001b[0m \u001b[32m━━━━━━━━━━━━━━━━━━━━\u001b[0m\u001b[37m\u001b[0m \u001b[1m4s\u001b[0m 22ms/step - accuracy: 0.9570 - loss: 0.1901\n",
      "Test Loss: 0.1819906085729599\n",
      "Test Accuracy: 0.9560620784759521\n",
      "\u001b[1m190/190\u001b[0m \u001b[32m━━━━━━━━━━━━━━━━━━━━\u001b[0m\u001b[37m\u001b[0m \u001b[1m5s\u001b[0m 22ms/step\n",
      "Predicted classes: [0 0 0 0 0 0 0 1 0 0 1 0 0 0 0 0 0 0 0 0 0 0 0 0 0 0 0 0 0 0 0 0 0 0 0 0 0\n",
      " 0 1 0 0 0 0 0 0 0 0 0 0 0]\n",
      "Actual classes: [0 0 0 0 0 0 0 0 0 0 0 0 0 0 0 0 0 0 0 0 0 0 0 0 0 0 0 0 0 0 0 0 0 0 0 0 0\n",
      " 0 1 0 0 0 0 0 0 0 0 0 0 0]\n",
      "Classification Report:\n",
      "               precision    recall  f1-score   support\n",
      "\n",
      "     Class 0       0.98      0.98      0.98      5687\n",
      "     Class 1       0.64      0.61      0.63       367\n",
      "\n",
      "    accuracy                           0.96      6054\n",
      "   macro avg       0.81      0.80      0.80      6054\n",
      "weighted avg       0.96      0.96      0.96      6054\n",
      "\n",
      "[[5563  124]\n",
      " [ 142  225]]\n"
     ]
    },
    {
     "data": {
      "image/png": "[encoded data removed]",
      "text/plain": [
       "<Figure size 400x400 with 2 Axes>"
      ]
     },
     "metadata": {},
     "output_type": "display_data"
    }
   ],
   "source": [
    "samples, max_seq_len, vector_size = X_train_vectors.shape\n",
    "num_classes = len(np.unique(y_train))\n",
    "\n",
    "\n",
    "y_train_onehot = to_categorical(y_train, num_classes=num_classes)\n",
    "y_test_onehot = to_categorical(y_test, num_classes=num_classes)\n",
    "\n",
    "\n",
    "# Modellinitialisierung\n",
    "model = Sequential()\n",
    "\n",
    "# LSTM-Schicht\n",
    "model.add(LSTM(units=128, input_shape=(max_seq_len, vector_size), return_sequences=False))\n",
    "\n",
    "# Optional: Dropout zur Vermeidung von Overfitting\n",
    "model.add(Dropout(0.5))\n",
    "\n",
    "# Dense-Schicht für die Ausgabe\n",
    "model.add(Dense(units=num_classes, activation='sigmoid'))\n",
    "\n",
    "# Kompilieren des Modells\n",
    "model.compile(optimizer='adam', loss='categorical_crossentropy', metrics=['accuracy'])\n",
    "\n",
    "history = model.fit(\n",
    "    X_train_vectors, y_train_onehot,\n",
    "    validation_data=(X_test_vectors, y_test_onehot),\n",
    "    epochs=20,\n",
    "    batch_size=32,\n",
    "    verbose=1\n",
    ")\n",
    "\n",
    "# Testgenauigkeit\n",
    "test_loss, test_accuracy = model.evaluate(X_test_vectors, y_test_onehot)\n",
    "print(f\"Test Loss: {test_loss}\")\n",
    "print(f\"Test Accuracy: {test_accuracy}\")\n",
    "# Vorhersagen auf Testdaten\n",
    "predictions = model.predict(X_test_vectors)\n",
    "predicted_classes = np.argmax(predictions, axis=1)\n",
    "\n",
    "# Beispiel: Erste 5 Vorhersagen anzeigen\n",
    "print(\"Predicted classes:\", predicted_classes[:50])\n",
    "print(\"Actual classes:\", np.argmax(y_test_onehot[:50], axis=1))\n",
    "\n",
    "\n",
    "\n",
    "# Klassifikationsbericht erstellen\n",
    "report = classification_report(np.argmax(y_test_onehot, axis=1), predicted_classes, target_names=[\"Class 0\", \"Class 1\"])\n",
    "print(\"Classification Report:\\n\", report)\n",
    "cm = confusion_matrix(np.argmax(y_test_onehot, axis=1), predicted_classes)\n",
    "print(cm)\n",
    "# Verwirrungsmatrix visualisieren\n",
    "plt.figure(figsize=(4, 4))\n",
    "sns.heatmap(cm, annot=True, fmt=\"d\", cmap=\"coolwarm\", linewidths=0.5, square=True,\n",
    "            xticklabels=[\"Label 0\", \"Label 1\"], yticklabels=[\"Label 0\", \"Label 1\"])\n",
    "plt.xlabel(\"Predicted Labels\", fontsize=12)\n",
    "plt.ylabel(\"True Labels\", fontsize=12)\n",
    "plt.title(\"Confusion Matrix\", fontsize=14)\n",
    "plt.show()"
   ]
  },
  {
   "cell_type": "markdown",
   "metadata": {},
   "source": [
    "#### Modeltraining mit anderen Parametern\n",
    "\n",
    "Kombi"
   ]
  },
  {
   "cell_type": "code",
   "execution_count": null,
   "metadata": {},
   "outputs": [
    {
     "name": "stderr",
     "output_type": "stream",
     "text": [
      "C:\\Users\\Nasiba\\AppData\\Local\\Packages\\PythonSoftwareFoundation.Python.3.11_qbz5n2kfra8p0\\LocalCache\\local-packages\\Python311\\site-packages\\keras\\src\\layers\\rnn\\rnn.py:200: UserWarning: Do not pass an `input_shape`/`input_dim` argument to a layer. When using Sequential models, prefer using an `Input(shape)` object as the first layer in the model instead.\n",
      "  super().__init__(**kwargs)\n"
     ]
    },
    {
     "name": "stdout",
     "output_type": "stream",
     "text": [
      "Epoch 1/20\n",
      "\u001b[1m442/442\u001b[0m \u001b[32m━━━━━━━━━━━━━━━━━━━━\u001b[0m\u001b[37m\u001b[0m \u001b[1m45s\u001b[0m 93ms/step - accuracy: 0.9236 - loss: 0.2198 - val_accuracy: 0.9395 - val_loss: 0.1450\n",
      "Epoch 2/20\n",
      "\u001b[1m442/442\u001b[0m \u001b[32m━━━━━━━━━━━━━━━━━━━━\u001b[0m\u001b[37m\u001b[0m \u001b[1m93s\u001b[0m 97ms/step - accuracy: 0.9309 - loss: 0.1646 - val_accuracy: 0.9394 - val_loss: 0.1744\n",
      "Epoch 3/20\n",
      "\u001b[1m442/442\u001b[0m \u001b[32m━━━━━━━━━━━━━━━━━━━━\u001b[0m\u001b[37m\u001b[0m \u001b[1m80s\u001b[0m 93ms/step - accuracy: 0.9285 - loss: 0.2320 - val_accuracy: 0.9394 - val_loss: 0.2179\n",
      "Epoch 4/20\n",
      "\u001b[1m442/442\u001b[0m \u001b[32m━━━━━━━━━━━━━━━━━━━━\u001b[0m\u001b[37m\u001b[0m \u001b[1m43s\u001b[0m 97ms/step - accuracy: 0.9330 - loss: 0.2384 - val_accuracy: 0.9394 - val_loss: 0.2260\n",
      "Epoch 5/20\n",
      "\u001b[1m442/442\u001b[0m \u001b[32m━━━━━━━━━━━━━━━━━━━━\u001b[0m\u001b[37m\u001b[0m \u001b[1m44s\u001b[0m 99ms/step - accuracy: 0.9323 - loss: 0.2423 - val_accuracy: 0.9394 - val_loss: 0.2219\n",
      "Epoch 6/20\n",
      "\u001b[1m372/442\u001b[0m \u001b[32m━━━━━━━━━━━━━━━━\u001b[0m\u001b[37m━━━━\u001b[0m \u001b[1m6s\u001b[0m 89ms/step - accuracy: 0.9341 - loss: 0.2362"
     ]
    }
   ],
   "source": [
    "samples, max_seq_len, vector_size = X_train_vectors.shape\n",
    "num_classes = len(np.unique(y_train))\n",
    "\n",
    "\n",
    "y_train_onehot = to_categorical(y_train, num_classes=num_classes)\n",
    "y_test_onehot = to_categorical(y_test, num_classes=num_classes)\n",
    "\n",
    "\n",
    "# Modellinitialisierung\n",
    "model = Sequential()\n",
    "\n",
    "# LSTM-Schicht\n",
    "model.add(LSTM(units=256, input_shape=(max_seq_len, vector_size), return_sequences=False))\n",
    "\n",
    "# Optional: Dropout zur Vermeidung von Overfitting\n",
    "model.add(Dropout(0.3))\n",
    "\n",
    "# Dense-Schicht für die Ausgabe\n",
    "model.add(Dense(units=num_classes, activation='sigmoid'))\n",
    "\n",
    "# Kompilieren des Modells\n",
    "model.compile(optimizer='adam', loss='categorical_crossentropy', metrics=['accuracy'])\n",
    "\n",
    "history = model.fit(\n",
    "    X_train_vectors, y_train_onehot,\n",
    "    validation_data=(X_test_vectors, y_test_onehot),\n",
    "    epochs=20,\n",
    "    batch_size=32,\n",
    "    verbose=1\n",
    ")\n",
    "\n",
    "# Testgenauigkeit\n",
    "test_loss, test_accuracy = model.evaluate(X_test_vectors, y_test_onehot)\n",
    "print(f\"Test Loss: {test_loss}\")\n",
    "print(f\"Test Accuracy: {test_accuracy}\")\n",
    "# Vorhersagen auf Testdaten\n",
    "predictions = model.predict(X_test_vectors)\n",
    "predicted_classes = np.argmax(predictions, axis=1)\n",
    "\n",
    "# Beispiel: Erste 5 Vorhersagen anzeigen\n",
    "print(\"Predicted classes:\", predicted_classes[:50])\n",
    "print(\"Actual classes:\", np.argmax(y_test_onehot[:50], axis=1))\n",
    "\n",
    "\n",
    "\n",
    "# Klassifikationsbericht erstellen\n",
    "report = classification_report(np.argmax(y_test_onehot, axis=1), predicted_classes, target_names=[\"Class 0\", \"Class 1\"])\n",
    "print(\"Classification Report:\\n\", report)\n",
    "cm = confusion_matrix(np.argmax(y_test_onehot, axis=1), predicted_classes)\n",
    "print(cm)\n",
    "# Verwirrungsmatrix visualisieren\n",
    "plt.figure(figsize=(4, 4))\n",
    "sns.heatmap(cm, annot=True, fmt=\"d\", cmap=\"coolwarm\", linewidths=0.5, square=True,\n",
    "            xticklabels=[\"Label 0\", \"Label 1\"], yticklabels=[\"Label 0\", \"Label 1\"])\n",
    "plt.xlabel(\"Predicted Labels\", fontsize=12)\n",
    "plt.ylabel(\"True Labels\", fontsize=12)\n",
    "plt.title(\"Confusion Matrix\", fontsize=14)\n",
    "plt.show()"
   ]
  },
  {
   "cell_type": "code",
   "execution_count": null,
   "metadata": {},
   "outputs": [],
   "source": [
    "samples, max_seq_len, vector_size = X_train_vectors.shape\n",
    "num_classes = len(np.unique(y_train))\n",
    "\n",
    "\n",
    "y_train_onehot = to_categorical(y_train, num_classes=num_classes)\n",
    "y_test_onehot = to_categorical(y_test, num_classes=num_classes)\n",
    "\n",
    "\n",
    "# Modellinitialisierung\n",
    "model = Sequential()\n",
    "\n",
    "# LSTM-Schicht\n",
    "model.add(LSTM(units=256, input_shape=(max_seq_len, vector_size), return_sequences=False))\n",
    "\n",
    "# Optional: Dropout zur Vermeidung von Overfitting\n",
    "model.add(Dropout(0.3))\n",
    "\n",
    "# Dense-Schicht für die Ausgabe\n",
    "model.add(Dense(units=num_classes, activation='sigmoid'))\n",
    "\n",
    "# Kompilieren des Modells\n",
    "model.compile(optimizer='adam', loss='categorical_crossentropy', metrics=['accuracy'])\n",
    "\n",
    "history = model.fit(\n",
    "    X_train_vectors, y_train_onehot,\n",
    "    validation_data=(X_test_vectors, y_test_onehot),\n",
    "    epochs=10,\n",
    "    batch_size=32,\n",
    "    verbose=1\n",
    ")\n",
    "\n",
    "# Testgenauigkeit\n",
    "test_loss, test_accuracy = model.evaluate(X_test_vectors, y_test_onehot)\n",
    "print(f\"Test Loss: {test_loss}\")\n",
    "print(f\"Test Accuracy: {test_accuracy}\")\n",
    "# Vorhersagen auf Testdaten\n",
    "predictions = model.predict(X_test_vectors)\n",
    "predicted_classes = np.argmax(predictions, axis=1)\n",
    "\n",
    "# Beispiel: Erste 5 Vorhersagen anzeigen\n",
    "print(\"Predicted classes:\", predicted_classes[:50])\n",
    "print(\"Actual classes:\", np.argmax(y_test_onehot[:50], axis=1))\n",
    "\n",
    "\n",
    "\n",
    "# Klassifikationsbericht erstellen\n",
    "report = classification_report(np.argmax(y_test_onehot, axis=1), predicted_classes, target_names=[\"Class 0\", \"Class 1\"])\n",
    "print(\"Classification Report:\\n\", report)\n",
    "cm = confusion_matrix(np.argmax(y_test_onehot, axis=1), predicted_classes)\n",
    "print(cm)\n",
    "# Verwirrungsmatrix visualisieren\n",
    "plt.figure(figsize=(4, 4))\n",
    "sns.heatmap(cm, annot=True, fmt=\"d\", cmap=\"coolwarm\", linewidths=0.5, square=True,\n",
    "            xticklabels=[\"Label 0\", \"Label 1\"], yticklabels=[\"Label 0\", \"Label 1\"])\n",
    "plt.xlabel(\"Predicted Labels\", fontsize=12)\n",
    "plt.ylabel(\"True Labels\", fontsize=12)\n",
    "plt.title(\"Confusion Matrix\", fontsize=14)\n",
    "plt.show()"
   ]
  },
  {
   "cell_type": "code",
   "execution_count": null,
   "metadata": {},
   "outputs": [],
   "source": []
  }
 ],
 "metadata": {
  "kernelspec": {
   "display_name": "Python 3",
   "language": "python",
   "name": "python3"
  },
  "language_info": {
   "codemirror_mode": {
    "name": "ipython",
    "version": 3
   },
   "file_extension": ".py",
   "mimetype": "text/x-python",
   "name": "python",
   "nbconvert_exporter": "python",
   "pygments_lexer": "ipython3",
   "version": "3.11.9"
  }
 },
 "nbformat": 4,
 "nbformat_minor": 2
}
