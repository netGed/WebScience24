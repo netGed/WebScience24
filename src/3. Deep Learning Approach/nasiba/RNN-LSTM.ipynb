{
 "cells": [
  {
   "cell_type": "code",
   "execution_count": null,
   "metadata": {},
   "outputs": [],
   "source": [
    "# !pip install tensorflow\n"
   ]
  },
  {
   "cell_type": "code",
   "execution_count": 1,
   "metadata": {},
   "outputs": [
    {
     "data": {
      "text/plain": [
       "WindowsPath('C:/Users/Nasiba/Documents/1 Master Data Science/Projektpraktikum/WebScience24')"
      ]
     },
     "execution_count": 1,
     "metadata": {},
     "output_type": "execute_result"
    }
   ],
   "source": [
    "import sys\n",
    "from pathlib import Path\n",
    "\n",
    "# Zum übergeordneten Ordner 'src' wechseln\n",
    "current_path = Path().resolve()\n",
    "src_path = current_path.parents[2]  # Zwei Stufen nach oben\n",
    "\n",
    "if str(src_path) not in sys.path:\n",
    "    sys.path.append(str(src_path))\n",
    "\n",
    "src_path\n"
   ]
  },
  {
   "cell_type": "code",
   "execution_count": 2,
   "metadata": {},
   "outputs": [],
   "source": [
    "\n",
    "\n",
    "import pandas as pd\n",
    "import numpy as np\n",
    "import matplotlib.pyplot as plt\n",
    "import seaborn as sns\n",
    "\n",
    "from pathlib import Path\n",
    "from sklearn.linear_model import LogisticRegression\n",
    "from sklearn.metrics import accuracy_score, classification_report, confusion_matrix\n",
    "\n",
    "from collections import Counter\n",
    "#nlp = spacy.load(\"en_core_web_sm\")\n",
    "from nltk import word_tokenize\n",
    "pd.set_option('display.max_colwidth', None)\n",
    "from sklearn.model_selection import train_test_split\n",
    "from sklearn.feature_extraction.text import TfidfVectorizer\n",
    "from sklearn.feature_extraction.text import CountVectorizer\n",
    "from vector_functions import vectorize_word2vec, vectorize_glove, vectorize_glove_without_avarage\n",
    "import nltk\n",
    "\n",
    "import os\n",
    "from tensorflow.keras.models import Sequential\n",
    "from tensorflow.keras.layers import Embedding, LSTM, Dense,Dropout\n",
    "from tensorflow.keras.utils import to_categorical\n",
    "\n"
   ]
  },
  {
   "cell_type": "code",
   "execution_count": 3,
   "metadata": {},
   "outputs": [
    {
     "data": {
      "text/html": [
       "<div>\n",
       "<style scoped>\n",
       "    .dataframe tbody tr th:only-of-type {\n",
       "        vertical-align: middle;\n",
       "    }\n",
       "\n",
       "    .dataframe tbody tr th {\n",
       "        vertical-align: top;\n",
       "    }\n",
       "\n",
       "    .dataframe thead th {\n",
       "        text-align: right;\n",
       "    }\n",
       "</style>\n",
       "<table border=\"1\" class=\"dataframe\">\n",
       "  <thead>\n",
       "    <tr style=\"text-align: right;\">\n",
       "      <th></th>\n",
       "      <th>label</th>\n",
       "      <th>tweet</th>\n",
       "      <th>tweet_cleaned</th>\n",
       "      <th>user_handle</th>\n",
       "      <th>hashtags</th>\n",
       "      <th>emojis</th>\n",
       "    </tr>\n",
       "    <tr>\n",
       "      <th>id</th>\n",
       "      <th></th>\n",
       "      <th></th>\n",
       "      <th></th>\n",
       "      <th></th>\n",
       "      <th></th>\n",
       "      <th></th>\n",
       "    </tr>\n",
       "  </thead>\n",
       "  <tbody>\n",
       "    <tr>\n",
       "      <th>8886</th>\n",
       "      <td>0</td>\n",
       "      <td>@user #cinemaaawards final rehearsals!! gearing up for the evening!! #butterflies #stage  ! hope u all like it</td>\n",
       "      <td>cinema award final rehearsal gear evening butterfly stage hope like</td>\n",
       "      <td>1</td>\n",
       "      <td>['#cinemaaawards', '#butterflies', '#stage']</td>\n",
       "      <td>NaN</td>\n",
       "    </tr>\n",
       "  </tbody>\n",
       "</table>\n",
       "</div>"
      ],
      "text/plain": [
       "      label  \\\n",
       "id            \n",
       "8886      0   \n",
       "\n",
       "                                                                                                                 tweet  \\\n",
       "id                                                                                                                       \n",
       "8886   @user #cinemaaawards final rehearsals!! gearing up for the evening!! #butterflies #stage  ! hope u all like it    \n",
       "\n",
       "                                                            tweet_cleaned  \\\n",
       "id                                                                          \n",
       "8886  cinema award final rehearsal gear evening butterfly stage hope like   \n",
       "\n",
       "      user_handle                                      hashtags emojis  \n",
       "id                                                                      \n",
       "8886            1  ['#cinemaaawards', '#butterflies', '#stage']    NaN  "
      ]
     },
     "execution_count": 3,
     "metadata": {},
     "output_type": "execute_result"
    }
   ],
   "source": [
    "\n",
    "source_filepath_name = os.path.abspath(os.path.join(src_path, 'data/twitter_hate-speech/train_cleaned.csv'))\n",
    "\n",
    "df_cleaned = pd.read_csv(source_filepath_name, encoding='utf-8', index_col=0)\n",
    "df_cleaned.head(1)"
   ]
  },
  {
   "cell_type": "markdown",
   "metadata": {},
   "source": [
    "### Vektorisierung"
   ]
  },
  {
   "cell_type": "markdown",
   "metadata": {},
   "source": [
    "##### 3. Word Embeddings Word2Vec"
   ]
  },
  {
   "cell_type": "code",
   "execution_count": 4,
   "metadata": {},
   "outputs": [
    {
     "name": "stderr",
     "output_type": "stream",
     "text": [
      "c:\\Users\\Nasiba\\Documents\\1 Master Data Science\\Projektpraktikum\\WebScience24\\src\\3. Deep Learning Approach\\nasiba\\vector_functions.py:106: SettingWithCopyWarning: \n",
      "A value is trying to be set on a copy of a slice from a DataFrame.\n",
      "Try using .loc[row_indexer,col_indexer] = value instead\n",
      "\n",
      "See the caveats in the documentation: https://pandas.pydata.org/pandas-docs/stable/user_guide/indexing.html#returning-a-view-versus-a-copy\n",
      "  df[text_column] = df[text_column].astype(str)\n"
     ]
    },
    {
     "name": "stdout",
     "output_type": "stream",
     "text": [
      "Erste Trainingsvektoren:\n",
      "[[ 0.00314334  0.24521321  0.01301071 ... -0.1790388   0.19609999\n",
      "  -0.00181121]\n",
      " [-0.04438275  0.43822962 -0.02027336 ... -0.26726213  0.32337785\n",
      "  -0.03934327]\n",
      " [-0.14954309  0.63838789 -0.15861544 ... -0.19953268  0.36492606\n",
      "  -0.25506332]\n",
      " [ 0.02885317  0.3650401  -0.05225213 ... -0.16776089  0.26316421\n",
      "  -0.10861357]\n",
      " [-0.00282995  0.46920646 -0.07680306 ... -0.21351249  0.3517583\n",
      "  -0.14969297]]\n"
     ]
    }
   ],
   "source": [
    "\n",
    "X_train_w2v, X_test_w2v, y_train_wv, y_test_vw, w2v_model = vectorize_word2vec(df=df_cleaned, text_column =\"tweet_cleaned\", label_column=\"label\")\n",
    "\n",
    "print(\"Erste Trainingsvektoren:\")\n",
    "print(X_train_w2v[:5])"
   ]
  },
  {
   "cell_type": "markdown",
   "metadata": {},
   "source": [
    "#### GloVe "
   ]
  },
  {
   "cell_type": "code",
   "execution_count": 6,
   "metadata": {},
   "outputs": [
    {
     "name": "stderr",
     "output_type": "stream",
     "text": [
      "c:\\Users\\Nasiba\\Documents\\1 Master Data Science\\Projektpraktikum\\WebScience24\\src\\3. Deep Learning Approach\\nasiba\\vector_functions.py:224: SettingWithCopyWarning: \n",
      "A value is trying to be set on a copy of a slice from a DataFrame.\n",
      "Try using .loc[row_indexer,col_indexer] = value instead\n",
      "\n",
      "See the caveats in the documentation: https://pandas.pydata.org/pandas-docs/stable/user_guide/indexing.html#returning-a-view-versus-a-copy\n",
      "  df[text_column] = df[text_column].astype(str)\n"
     ]
    },
    {
     "data": {
      "text/plain": [
       "array([[-0.583996  , -0.450814  , -0.1035202 , ...,  0.016966  ,\n",
       "        -0.33943259,  0.053546  ],\n",
       "       [-0.1287103 , -0.104341  ,  0.13883594, ...,  0.22292418,\n",
       "         0.0079809 , -0.290725  ],\n",
       "       [ 0.20086085,  0.02924227,  0.07529827, ..., -0.00104394,\n",
       "        -0.23963281, -0.16206273],\n",
       "       ...,\n",
       "       [-0.11692216, -0.09952225,  0.05609166, ..., -0.02748892,\n",
       "        -0.03281983, -0.13850327],\n",
       "       [ 0.356345  , -0.09026249,  0.056145  , ...,  0.2262675 ,\n",
       "         0.23486499, -0.43546249],\n",
       "       [-0.20908655,  0.03102793,  0.10917436, ..., -0.13542962,\n",
       "         0.04551986, -0.08509664]])"
      ]
     },
     "execution_count": 6,
     "metadata": {},
     "output_type": "execute_result"
    }
   ],
   "source": [
    "\n",
    "\n",
    "twitter_glove_path = os.path.abspath(os.path.join(src_path, 'src/3. Deep Learning Approach/nasiba/glove.twitter.27B.100d.txt'))\n",
    "\n",
    "\n",
    "X_train_vectors, X_test_vectors, y_train, y_test, glove_embeddings = vectorize_glove(df=df_cleaned, text_column =\"tweet_cleaned\", label_column=\"label\", glove_path=twitter_glove_path)\n",
    "\n",
    "\n",
    "X_train_vectors\n",
    "\n"
   ]
  },
  {
   "cell_type": "code",
   "execution_count": 5,
   "metadata": {},
   "outputs": [
    {
     "name": "stderr",
     "output_type": "stream",
     "text": [
      "c:\\Users\\Nasiba\\Documents\\1 Master Data Science\\Projektpraktikum\\WebScience24\\src\\3. Deep Learning Approach\\nasiba\\vector_functions.py:286: SettingWithCopyWarning: \n",
      "A value is trying to be set on a copy of a slice from a DataFrame.\n",
      "Try using .loc[row_indexer,col_indexer] = value instead\n",
      "\n",
      "See the caveats in the documentation: https://pandas.pydata.org/pandas-docs/stable/user_guide/indexing.html#returning-a-view-versus-a-copy\n",
      "  df[text_column] = df[text_column].astype(str)\n"
     ]
    },
    {
     "data": {
      "text/plain": [
       "array([[[-0.28044   ,  0.39199999,  0.55759001, ...,  0.18381   ,\n",
       "          0.094007  , -0.27184999],\n",
       "        [-0.45910999, -0.58897001,  0.099599  , ...,  0.12999   ,\n",
       "         -0.48536   , -0.31015   ],\n",
       "        [-0.86185998, -0.94414997, -0.22002   , ..., -0.40002   ,\n",
       "         -0.55721998,  0.74204999],\n",
       "        ...,\n",
       "        [ 0.        ,  0.        ,  0.        , ...,  0.        ,\n",
       "          0.        ,  0.        ],\n",
       "        [ 0.        ,  0.        ,  0.        , ...,  0.        ,\n",
       "          0.        ,  0.        ],\n",
       "        [ 0.        ,  0.        ,  0.        , ...,  0.        ,\n",
       "          0.        ,  0.        ]],\n",
       "\n",
       "       [[-0.039898  ,  0.90736002,  0.32747   , ...,  0.36886001,\n",
       "          0.17496   , -0.58892   ],\n",
       "        [ 0.45849001,  0.14165001,  0.0083564 , ...,  0.47777   ,\n",
       "          0.21673   ,  0.16425   ],\n",
       "        [-0.037545  ,  0.11898   ,  0.26445001, ...,  0.018283  ,\n",
       "          0.004319  ,  0.11362   ],\n",
       "        ...,\n",
       "        [ 0.        ,  0.        ,  0.        , ...,  0.        ,\n",
       "          0.        ,  0.        ],\n",
       "        [ 0.        ,  0.        ,  0.        , ...,  0.        ,\n",
       "          0.        ,  0.        ],\n",
       "        [ 0.        ,  0.        ,  0.        , ...,  0.        ,\n",
       "          0.        ,  0.        ]],\n",
       "\n",
       "       [[ 0.1073    ,  0.36058   ,  0.11135   , ...,  0.14933001,\n",
       "         -0.30864999, -0.55198002],\n",
       "        [ 0.67330003,  0.089785  ,  0.43290001, ...,  0.0025657 ,\n",
       "         -0.44791001, -0.18421   ],\n",
       "        [ 0.040778  , -0.43959999, -0.29868001, ..., -0.09967   ,\n",
       "         -0.45881999, -0.0907    ],\n",
       "        ...,\n",
       "        [ 0.        ,  0.        ,  0.        , ...,  0.        ,\n",
       "          0.        ,  0.        ],\n",
       "        [ 0.        ,  0.        ,  0.        , ...,  0.        ,\n",
       "          0.        ,  0.        ],\n",
       "        [ 0.        ,  0.        ,  0.        , ...,  0.        ,\n",
       "          0.        ,  0.        ]],\n",
       "\n",
       "       ...,\n",
       "\n",
       "       [[ 0.26405999,  0.55940002,  0.49761999, ..., -0.055876  ,\n",
       "         -0.074413  , -0.84075999],\n",
       "        [-0.086995  , -0.14877   , -0.57569999, ..., -0.052013  ,\n",
       "          0.63172001,  0.47837999],\n",
       "        [-0.51319999, -0.088568  , -0.15791   , ..., -0.26495999,\n",
       "          0.22649001, -0.22193   ],\n",
       "        ...,\n",
       "        [ 0.        ,  0.        ,  0.        , ...,  0.        ,\n",
       "          0.        ,  0.        ],\n",
       "        [ 0.        ,  0.        ,  0.        , ...,  0.        ,\n",
       "          0.        ,  0.        ],\n",
       "        [ 0.        ,  0.        ,  0.        , ...,  0.        ,\n",
       "          0.        ,  0.        ]],\n",
       "\n",
       "       [[ 0.14214   ,  0.25086001,  0.1912    , ...,  0.37116   ,\n",
       "          0.70981997, -0.71227998],\n",
       "        [ 0.52487999, -1.02419996,  0.10568   , ...,  0.47922   ,\n",
       "         -0.21291   ,  0.23472001],\n",
       "        [ 0.14214   ,  0.25086001,  0.1912    , ...,  0.37116   ,\n",
       "          0.70981997, -0.71227998],\n",
       "        ...,\n",
       "        [ 0.        ,  0.        ,  0.        , ...,  0.        ,\n",
       "          0.        ,  0.        ],\n",
       "        [ 0.        ,  0.        ,  0.        , ...,  0.        ,\n",
       "          0.        ,  0.        ],\n",
       "        [ 0.        ,  0.        ,  0.        , ...,  0.        ,\n",
       "          0.        ,  0.        ]],\n",
       "\n",
       "       [[-0.03275   ,  0.48704001,  0.042684  , ..., -0.57590002,\n",
       "          0.17017999, -0.55401999],\n",
       "        [-0.80649   , -0.39267999, -0.39776   , ..., -0.22187001,\n",
       "          0.11207   , -0.37571001],\n",
       "        [-0.20728999, -0.12544   , -0.19549   , ...,  0.0091675 ,\n",
       "         -0.62743002, -0.85624999],\n",
       "        ...,\n",
       "        [ 0.        ,  0.        ,  0.        , ...,  0.        ,\n",
       "          0.        ,  0.        ],\n",
       "        [ 0.        ,  0.        ,  0.        , ...,  0.        ,\n",
       "          0.        ,  0.        ],\n",
       "        [ 0.        ,  0.        ,  0.        , ...,  0.        ,\n",
       "          0.        ,  0.        ]]])"
      ]
     },
     "execution_count": 5,
     "metadata": {},
     "output_type": "execute_result"
    }
   ],
   "source": [
    "\n",
    "\n",
    "twitter_glove_path = os.path.abspath(os.path.join(src_path, 'src/3. Deep Learning Approach/nasiba/glove.twitter.27B.100d.txt'))\n",
    "\n",
    "\n",
    "X_train_vectors, X_test_vectors, y_train, y_test, glove_embeddings = vectorize_glove_without_avarage(df=df_cleaned, text_column =\"tweet_cleaned\", label_column=\"label\", glove_path=twitter_glove_path)\n",
    "\n",
    "\n",
    "X_train_vectors\n",
    "\n"
   ]
  },
  {
   "cell_type": "markdown",
   "metadata": {},
   "source": [
    "### Reshaping für LSTM"
   ]
  },
  {
   "cell_type": "code",
   "execution_count": 7,
   "metadata": {},
   "outputs": [
    {
     "name": "stdout",
     "output_type": "stream",
     "text": [
      "(14124, 1, 100)\n",
      "(6054, 1, 100)\n"
     ]
    }
   ],
   "source": [
    "\n",
    "\n",
    "X_train_vectors = X_train_vectors.reshape((X_train_vectors.shape[0], 1, X_train_vectors.shape[1]))\n",
    "X_test_vectors = X_test_vectors.reshape((X_test_vectors.shape[0], 1, X_test_vectors.shape[1]))\n",
    "\n",
    "print(X_train_vectors.shape)  # (1000, 1, 100)\n",
    "print(X_test_vectors.shape)   # (300, 1, 100)\n"
   ]
  },
  {
   "cell_type": "markdown",
   "metadata": {},
   "source": [
    "### one-hot-encoding (brauche ich nicht unbedingt)"
   ]
  },
  {
   "cell_type": "code",
   "execution_count": 8,
   "metadata": {},
   "outputs": [
    {
     "name": "stdout",
     "output_type": "stream",
     "text": [
      "y_train_onehot Shape: (14124, 2)\n"
     ]
    }
   ],
   "source": [
    "\n",
    "num_classes = len(np.unique(y_train))\n",
    "# One-hot-Encoding\n",
    "y_train_onehot = to_categorical(y_train, num_classes=num_classes)\n",
    "y_test_onehot = to_categorical(y_test, num_classes=num_classes)\n",
    "\n",
    "# Prüfen der Form\n",
    "print(\"y_train_onehot Shape:\", y_train_onehot.shape)  # (n_samples, num_classes)\n"
   ]
  },
  {
   "cell_type": "markdown",
   "metadata": {},
   "source": [
    "### Modell aufbauen"
   ]
  },
  {
   "cell_type": "code",
   "execution_count": null,
   "metadata": {},
   "outputs": [
    {
     "name": "stderr",
     "output_type": "stream",
     "text": [
      "C:\\Users\\Nasiba\\AppData\\Local\\Packages\\PythonSoftwareFoundation.Python.3.11_qbz5n2kfra8p0\\LocalCache\\local-packages\\Python311\\site-packages\\keras\\src\\layers\\rnn\\rnn.py:200: UserWarning: Do not pass an `input_shape`/`input_dim` argument to a layer. When using Sequential models, prefer using an `Input(shape)` object as the first layer in the model instead.\n",
      "  super().__init__(**kwargs)\n"
     ]
    },
    {
     "data": {
      "text/html": [
       "<pre style=\"white-space:pre;overflow-x:auto;line-height:normal;font-family:Menlo,'DejaVu Sans Mono',consolas,'Courier New',monospace\"><span style=\"font-weight: bold\">Model: \"sequential\"</span>\n",
       "</pre>\n"
      ],
      "text/plain": [
       "\u001b[1mModel: \"sequential\"\u001b[0m\n"
      ]
     },
     "metadata": {},
     "output_type": "display_data"
    },
    {
     "data": {
      "text/html": [
       "<pre style=\"white-space:pre;overflow-x:auto;line-height:normal;font-family:Menlo,'DejaVu Sans Mono',consolas,'Courier New',monospace\">┏━━━━━━━━━━━━━━━━━━━━━━━━━━━━━━━━━┳━━━━━━━━━━━━━━━━━━━━━━━━┳━━━━━━━━━━━━━━━┓\n",
       "┃<span style=\"font-weight: bold\"> Layer (type)                    </span>┃<span style=\"font-weight: bold\"> Output Shape           </span>┃<span style=\"font-weight: bold\">       Param # </span>┃\n",
       "┡━━━━━━━━━━━━━━━━━━━━━━━━━━━━━━━━━╇━━━━━━━━━━━━━━━━━━━━━━━━╇━━━━━━━━━━━━━━━┩\n",
       "│ lstm (<span style=\"color: #0087ff; text-decoration-color: #0087ff\">LSTM</span>)                     │ (<span style=\"color: #00d7ff; text-decoration-color: #00d7ff\">None</span>, <span style=\"color: #00af00; text-decoration-color: #00af00\">128</span>)            │       <span style=\"color: #00af00; text-decoration-color: #00af00\">117,248</span> │\n",
       "├─────────────────────────────────┼────────────────────────┼───────────────┤\n",
       "│ dropout (<span style=\"color: #0087ff; text-decoration-color: #0087ff\">Dropout</span>)               │ (<span style=\"color: #00d7ff; text-decoration-color: #00d7ff\">None</span>, <span style=\"color: #00af00; text-decoration-color: #00af00\">128</span>)            │             <span style=\"color: #00af00; text-decoration-color: #00af00\">0</span> │\n",
       "├─────────────────────────────────┼────────────────────────┼───────────────┤\n",
       "│ dense (<span style=\"color: #0087ff; text-decoration-color: #0087ff\">Dense</span>)                   │ (<span style=\"color: #00d7ff; text-decoration-color: #00d7ff\">None</span>, <span style=\"color: #00af00; text-decoration-color: #00af00\">2</span>)              │           <span style=\"color: #00af00; text-decoration-color: #00af00\">258</span> │\n",
       "└─────────────────────────────────┴────────────────────────┴───────────────┘\n",
       "</pre>\n"
      ],
      "text/plain": [
       "┏━━━━━━━━━━━━━━━━━━━━━━━━━━━━━━━━━┳━━━━━━━━━━━━━━━━━━━━━━━━┳━━━━━━━━━━━━━━━┓\n",
       "┃\u001b[1m \u001b[0m\u001b[1mLayer (type)                   \u001b[0m\u001b[1m \u001b[0m┃\u001b[1m \u001b[0m\u001b[1mOutput Shape          \u001b[0m\u001b[1m \u001b[0m┃\u001b[1m \u001b[0m\u001b[1m      Param #\u001b[0m\u001b[1m \u001b[0m┃\n",
       "┡━━━━━━━━━━━━━━━━━━━━━━━━━━━━━━━━━╇━━━━━━━━━━━━━━━━━━━━━━━━╇━━━━━━━━━━━━━━━┩\n",
       "│ lstm (\u001b[38;5;33mLSTM\u001b[0m)                     │ (\u001b[38;5;45mNone\u001b[0m, \u001b[38;5;34m128\u001b[0m)            │       \u001b[38;5;34m117,248\u001b[0m │\n",
       "├─────────────────────────────────┼────────────────────────┼───────────────┤\n",
       "│ dropout (\u001b[38;5;33mDropout\u001b[0m)               │ (\u001b[38;5;45mNone\u001b[0m, \u001b[38;5;34m128\u001b[0m)            │             \u001b[38;5;34m0\u001b[0m │\n",
       "├─────────────────────────────────┼────────────────────────┼───────────────┤\n",
       "│ dense (\u001b[38;5;33mDense\u001b[0m)                   │ (\u001b[38;5;45mNone\u001b[0m, \u001b[38;5;34m2\u001b[0m)              │           \u001b[38;5;34m258\u001b[0m │\n",
       "└─────────────────────────────────┴────────────────────────┴───────────────┘\n"
      ]
     },
     "metadata": {},
     "output_type": "display_data"
    },
    {
     "data": {
      "text/html": [
       "<pre style=\"white-space:pre;overflow-x:auto;line-height:normal;font-family:Menlo,'DejaVu Sans Mono',consolas,'Courier New',monospace\"><span style=\"font-weight: bold\"> Total params: </span><span style=\"color: #00af00; text-decoration-color: #00af00\">117,506</span> (459.01 KB)\n",
       "</pre>\n"
      ],
      "text/plain": [
       "\u001b[1m Total params: \u001b[0m\u001b[38;5;34m117,506\u001b[0m (459.01 KB)\n"
      ]
     },
     "metadata": {},
     "output_type": "display_data"
    },
    {
     "data": {
      "text/html": [
       "<pre style=\"white-space:pre;overflow-x:auto;line-height:normal;font-family:Menlo,'DejaVu Sans Mono',consolas,'Courier New',monospace\"><span style=\"font-weight: bold\"> Trainable params: </span><span style=\"color: #00af00; text-decoration-color: #00af00\">117,506</span> (459.01 KB)\n",
       "</pre>\n"
      ],
      "text/plain": [
       "\u001b[1m Trainable params: \u001b[0m\u001b[38;5;34m117,506\u001b[0m (459.01 KB)\n"
      ]
     },
     "metadata": {},
     "output_type": "display_data"
    },
    {
     "data": {
      "text/html": [
       "<pre style=\"white-space:pre;overflow-x:auto;line-height:normal;font-family:Menlo,'DejaVu Sans Mono',consolas,'Courier New',monospace\"><span style=\"font-weight: bold\"> Non-trainable params: </span><span style=\"color: #00af00; text-decoration-color: #00af00\">0</span> (0.00 B)\n",
       "</pre>\n"
      ],
      "text/plain": [
       "\u001b[1m Non-trainable params: \u001b[0m\u001b[38;5;34m0\u001b[0m (0.00 B)\n"
      ]
     },
     "metadata": {},
     "output_type": "display_data"
    },
    {
     "name": "stdout",
     "output_type": "stream",
     "text": [
      "Epoch 1/10\n",
      "\u001b[1m442/442\u001b[0m \u001b[32m━━━━━━━━━━━━━━━━━━━━\u001b[0m\u001b[37m\u001b[0m \u001b[1m4s\u001b[0m 5ms/step - accuracy: 0.9302 - loss: 0.2501 - val_accuracy: 0.9470 - val_loss: 0.1426\n",
      "Epoch 2/10\n",
      "\u001b[1m442/442\u001b[0m \u001b[32m━━━━━━━━━━━━━━━━━━━━\u001b[0m\u001b[37m\u001b[0m \u001b[1m2s\u001b[0m 4ms/step - accuracy: 0.9400 - loss: 0.1558 - val_accuracy: 0.9496 - val_loss: 0.1357\n",
      "Epoch 3/10\n",
      "\u001b[1m442/442\u001b[0m \u001b[32m━━━━━━━━━━━━━━━━━━━━\u001b[0m\u001b[37m\u001b[0m \u001b[1m2s\u001b[0m 4ms/step - accuracy: 0.9428 - loss: 0.1510 - val_accuracy: 0.9511 - val_loss: 0.1341\n",
      "Epoch 4/10\n",
      "\u001b[1m442/442\u001b[0m \u001b[32m━━━━━━━━━━━━━━━━━━━━\u001b[0m\u001b[37m\u001b[0m \u001b[1m2s\u001b[0m 4ms/step - accuracy: 0.9462 - loss: 0.1417 - val_accuracy: 0.9533 - val_loss: 0.1291\n",
      "Epoch 5/10\n",
      "\u001b[1m442/442\u001b[0m \u001b[32m━━━━━━━━━━━━━━━━━━━━\u001b[0m\u001b[37m\u001b[0m \u001b[1m2s\u001b[0m 4ms/step - accuracy: 0.9478 - loss: 0.1358 - val_accuracy: 0.9536 - val_loss: 0.1277\n",
      "Epoch 6/10\n",
      "\u001b[1m442/442\u001b[0m \u001b[32m━━━━━━━━━━━━━━━━━━━━\u001b[0m\u001b[37m\u001b[0m \u001b[1m2s\u001b[0m 4ms/step - accuracy: 0.9481 - loss: 0.1397 - val_accuracy: 0.9544 - val_loss: 0.1262\n",
      "Epoch 7/10\n",
      "\u001b[1m442/442\u001b[0m \u001b[32m━━━━━━━━━━━━━━━━━━━━\u001b[0m\u001b[37m\u001b[0m \u001b[1m2s\u001b[0m 4ms/step - accuracy: 0.9475 - loss: 0.1348 - val_accuracy: 0.9534 - val_loss: 0.1285\n",
      "Epoch 8/10\n",
      "\u001b[1m442/442\u001b[0m \u001b[32m━━━━━━━━━━━━━━━━━━━━\u001b[0m\u001b[37m\u001b[0m \u001b[1m2s\u001b[0m 4ms/step - accuracy: 0.9502 - loss: 0.1357 - val_accuracy: 0.9561 - val_loss: 0.1242\n",
      "Epoch 9/10\n",
      "\u001b[1m442/442\u001b[0m \u001b[32m━━━━━━━━━━━━━━━━━━━━\u001b[0m\u001b[37m\u001b[0m \u001b[1m2s\u001b[0m 4ms/step - accuracy: 0.9521 - loss: 0.1314 - val_accuracy: 0.9542 - val_loss: 0.1240\n",
      "Epoch 10/10\n",
      "\u001b[1m442/442\u001b[0m \u001b[32m━━━━━━━━━━━━━━━━━━━━\u001b[0m\u001b[37m\u001b[0m \u001b[1m2s\u001b[0m 4ms/step - accuracy: 0.9514 - loss: 0.1264 - val_accuracy: 0.9552 - val_loss: 0.1228\n"
     ]
    }
   ],
   "source": [
    "model = Sequential()\n",
    "\n",
    "# Eingabe: LSTM-Schicht\n",
    "model.add(LSTM(128, input_shape=(X_train_vectors.shape[1], X_train_vectors.shape[2]), return_sequences=False))\n",
    "\n",
    "# Dropout zur Regularisierung\n",
    "model.add(Dropout(0.5))\n",
    "\n",
    "# Vollverbundene Schicht mit Softmax für Klassifikation\n",
    "model.add(Dense(num_classes, activation='softmax'))\n",
    "\n",
    "# Modell zusammenstellen\n",
    "model.compile(optimizer='adam', loss='categorical_crossentropy', metrics=['accuracy'])\n",
    "\n",
    "# Modellübersicht anzeigen\n",
    "model.summary()\n",
    "\n",
    "# Modell trainieren\n",
    "history = model.fit(\n",
    "    X_train_vectors, y_train,\n",
    "    validation_data=(X_test_vectors, y_test),\n",
    "    epochs=10,\n",
    "    batch_size=32,\n",
    "    verbose=1\n",
    ")"
   ]
  },
  {
   "cell_type": "markdown",
   "metadata": {},
   "source": [
    "### Modell bewerten"
   ]
  },
  {
   "cell_type": "code",
   "execution_count": 11,
   "metadata": {},
   "outputs": [
    {
     "name": "stdout",
     "output_type": "stream",
     "text": [
      "\u001b[1m184/184\u001b[0m \u001b[32m━━━━━━━━━━━━━━━━━━━━\u001b[0m\u001b[37m\u001b[0m \u001b[1m0s\u001b[0m 2ms/step - accuracy: 0.9563 - loss: 0.1348\n",
      "Test Loss: 0.1377, Test Accuracy: 0.9512\n"
     ]
    }
   ],
   "source": [
    "\n",
    "# Testgenauigkeit\n",
    "test_loss, test_accuracy = model.evaluate(X_test_vectors, y_test_onehot)\n",
    "print(f\"Test Loss: {test_loss:.4f}, Test Accuracy: {test_accuracy:.4f}\")\n"
   ]
  },
  {
   "cell_type": "code",
   "execution_count": null,
   "metadata": {},
   "outputs": [],
   "source": [
    "print(\"Classification Report:\\n\", classification_report(y_test_vw, y_pred))"
   ]
  },
  {
   "cell_type": "markdown",
   "metadata": {},
   "source": [
    "### Vorhersagen treffen"
   ]
  },
  {
   "cell_type": "code",
   "execution_count": 12,
   "metadata": {},
   "outputs": [
    {
     "name": "stdout",
     "output_type": "stream",
     "text": [
      "\u001b[1m184/184\u001b[0m \u001b[32m━━━━━━━━━━━━━━━━━━━━\u001b[0m\u001b[37m\u001b[0m \u001b[1m1s\u001b[0m 2ms/step\n",
      "Predicted classes: [0 0 0 0 0 0 0 0 0 0 0 0 0 0 0 0 0 0 0 0 0 0 0 0 0 0 0 0 0 0 0 0 0 0 0 0 0\n",
      " 0 0 0 0 0 0 0 0 0 0 0 0 0]\n",
      "Actual classes: [0 0 0 1 0 0 0 1 0 0 0 0 0 0 0 0 0 0 0 0 0 0 0 0 0 0 0 0 0 1 0 0 0 0 0 0 0\n",
      " 0 0 0 0 0 0 0 0 0 0 0 0 0]\n"
     ]
    }
   ],
   "source": [
    "# Vorhersagen auf Testdaten\n",
    "predictions = model.predict(X_test_vectors)\n",
    "predicted_classes = np.argmax(predictions, axis=1)\n",
    "\n",
    "# Beispiel: Erste 5 Vorhersagen anzeigen\n",
    "print(\"Predicted classes:\", predicted_classes[:50])\n",
    "print(\"Actual classes:\", np.argmax(y_test_onehot[:50], axis=1))\n",
    "\n",
    "\n"
   ]
  },
  {
   "cell_type": "code",
   "execution_count": null,
   "metadata": {},
   "outputs": [],
   "source": [
    "cm = confusion_matrix(y_test, y_pred_np)\n",
    "print(cm)"
   ]
  },
  {
   "cell_type": "code",
   "execution_count": null,
   "metadata": {},
   "outputs": [],
   "source": []
  },
  {
   "cell_type": "markdown",
   "metadata": {},
   "source": [
    "### LSTM Modell aufbauen mit WordVec"
   ]
  },
  {
   "cell_type": "code",
   "execution_count": 13,
   "metadata": {},
   "outputs": [
    {
     "name": "stdout",
     "output_type": "stream",
     "text": [
      "(13734, 1, 300)\n",
      "(5886, 1, 300)\n",
      "y_train_onehot Shape: (13734, 2)\n"
     ]
    },
    {
     "name": "stderr",
     "output_type": "stream",
     "text": [
      "C:\\Users\\Nasiba\\AppData\\Local\\Packages\\PythonSoftwareFoundation.Python.3.11_qbz5n2kfra8p0\\LocalCache\\local-packages\\Python311\\site-packages\\keras\\src\\layers\\rnn\\rnn.py:200: UserWarning: Do not pass an `input_shape`/`input_dim` argument to a layer. When using Sequential models, prefer using an `Input(shape)` object as the first layer in the model instead.\n",
      "  super().__init__(**kwargs)\n"
     ]
    },
    {
     "data": {
      "text/html": [
       "<pre style=\"white-space:pre;overflow-x:auto;line-height:normal;font-family:Menlo,'DejaVu Sans Mono',consolas,'Courier New',monospace\"><span style=\"font-weight: bold\">Model: \"sequential_1\"</span>\n",
       "</pre>\n"
      ],
      "text/plain": [
       "\u001b[1mModel: \"sequential_1\"\u001b[0m\n"
      ]
     },
     "metadata": {},
     "output_type": "display_data"
    },
    {
     "data": {
      "text/html": [
       "<pre style=\"white-space:pre;overflow-x:auto;line-height:normal;font-family:Menlo,'DejaVu Sans Mono',consolas,'Courier New',monospace\">┏━━━━━━━━━━━━━━━━━━━━━━━━━━━━━━━━━┳━━━━━━━━━━━━━━━━━━━━━━━━┳━━━━━━━━━━━━━━━┓\n",
       "┃<span style=\"font-weight: bold\"> Layer (type)                    </span>┃<span style=\"font-weight: bold\"> Output Shape           </span>┃<span style=\"font-weight: bold\">       Param # </span>┃\n",
       "┡━━━━━━━━━━━━━━━━━━━━━━━━━━━━━━━━━╇━━━━━━━━━━━━━━━━━━━━━━━━╇━━━━━━━━━━━━━━━┩\n",
       "│ lstm_1 (<span style=\"color: #0087ff; text-decoration-color: #0087ff\">LSTM</span>)                   │ (<span style=\"color: #00d7ff; text-decoration-color: #00d7ff\">None</span>, <span style=\"color: #00af00; text-decoration-color: #00af00\">128</span>)            │       <span style=\"color: #00af00; text-decoration-color: #00af00\">219,648</span> │\n",
       "├─────────────────────────────────┼────────────────────────┼───────────────┤\n",
       "│ dropout_1 (<span style=\"color: #0087ff; text-decoration-color: #0087ff\">Dropout</span>)             │ (<span style=\"color: #00d7ff; text-decoration-color: #00d7ff\">None</span>, <span style=\"color: #00af00; text-decoration-color: #00af00\">128</span>)            │             <span style=\"color: #00af00; text-decoration-color: #00af00\">0</span> │\n",
       "├─────────────────────────────────┼────────────────────────┼───────────────┤\n",
       "│ dense_1 (<span style=\"color: #0087ff; text-decoration-color: #0087ff\">Dense</span>)                 │ (<span style=\"color: #00d7ff; text-decoration-color: #00d7ff\">None</span>, <span style=\"color: #00af00; text-decoration-color: #00af00\">2</span>)              │           <span style=\"color: #00af00; text-decoration-color: #00af00\">258</span> │\n",
       "└─────────────────────────────────┴────────────────────────┴───────────────┘\n",
       "</pre>\n"
      ],
      "text/plain": [
       "┏━━━━━━━━━━━━━━━━━━━━━━━━━━━━━━━━━┳━━━━━━━━━━━━━━━━━━━━━━━━┳━━━━━━━━━━━━━━━┓\n",
       "┃\u001b[1m \u001b[0m\u001b[1mLayer (type)                   \u001b[0m\u001b[1m \u001b[0m┃\u001b[1m \u001b[0m\u001b[1mOutput Shape          \u001b[0m\u001b[1m \u001b[0m┃\u001b[1m \u001b[0m\u001b[1m      Param #\u001b[0m\u001b[1m \u001b[0m┃\n",
       "┡━━━━━━━━━━━━━━━━━━━━━━━━━━━━━━━━━╇━━━━━━━━━━━━━━━━━━━━━━━━╇━━━━━━━━━━━━━━━┩\n",
       "│ lstm_1 (\u001b[38;5;33mLSTM\u001b[0m)                   │ (\u001b[38;5;45mNone\u001b[0m, \u001b[38;5;34m128\u001b[0m)            │       \u001b[38;5;34m219,648\u001b[0m │\n",
       "├─────────────────────────────────┼────────────────────────┼───────────────┤\n",
       "│ dropout_1 (\u001b[38;5;33mDropout\u001b[0m)             │ (\u001b[38;5;45mNone\u001b[0m, \u001b[38;5;34m128\u001b[0m)            │             \u001b[38;5;34m0\u001b[0m │\n",
       "├─────────────────────────────────┼────────────────────────┼───────────────┤\n",
       "│ dense_1 (\u001b[38;5;33mDense\u001b[0m)                 │ (\u001b[38;5;45mNone\u001b[0m, \u001b[38;5;34m2\u001b[0m)              │           \u001b[38;5;34m258\u001b[0m │\n",
       "└─────────────────────────────────┴────────────────────────┴───────────────┘\n"
      ]
     },
     "metadata": {},
     "output_type": "display_data"
    },
    {
     "data": {
      "text/html": [
       "<pre style=\"white-space:pre;overflow-x:auto;line-height:normal;font-family:Menlo,'DejaVu Sans Mono',consolas,'Courier New',monospace\"><span style=\"font-weight: bold\"> Total params: </span><span style=\"color: #00af00; text-decoration-color: #00af00\">219,906</span> (859.01 KB)\n",
       "</pre>\n"
      ],
      "text/plain": [
       "\u001b[1m Total params: \u001b[0m\u001b[38;5;34m219,906\u001b[0m (859.01 KB)\n"
      ]
     },
     "metadata": {},
     "output_type": "display_data"
    },
    {
     "data": {
      "text/html": [
       "<pre style=\"white-space:pre;overflow-x:auto;line-height:normal;font-family:Menlo,'DejaVu Sans Mono',consolas,'Courier New',monospace\"><span style=\"font-weight: bold\"> Trainable params: </span><span style=\"color: #00af00; text-decoration-color: #00af00\">219,906</span> (859.01 KB)\n",
       "</pre>\n"
      ],
      "text/plain": [
       "\u001b[1m Trainable params: \u001b[0m\u001b[38;5;34m219,906\u001b[0m (859.01 KB)\n"
      ]
     },
     "metadata": {},
     "output_type": "display_data"
    },
    {
     "data": {
      "text/html": [
       "<pre style=\"white-space:pre;overflow-x:auto;line-height:normal;font-family:Menlo,'DejaVu Sans Mono',consolas,'Courier New',monospace\"><span style=\"font-weight: bold\"> Non-trainable params: </span><span style=\"color: #00af00; text-decoration-color: #00af00\">0</span> (0.00 B)\n",
       "</pre>\n"
      ],
      "text/plain": [
       "\u001b[1m Non-trainable params: \u001b[0m\u001b[38;5;34m0\u001b[0m (0.00 B)\n"
      ]
     },
     "metadata": {},
     "output_type": "display_data"
    },
    {
     "name": "stdout",
     "output_type": "stream",
     "text": [
      "Epoch 1/10\n",
      "\u001b[1m424/430\u001b[0m \u001b[32m━━━━━━━━━━━━━━━━━━━\u001b[0m\u001b[37m━\u001b[0m \u001b[1m0s\u001b[0m 4ms/step - accuracy: 0.9243 - loss: 0.2913"
     ]
    },
    {
     "ename": "ValueError",
     "evalue": "Data cardinality is ambiguous. Make sure all arrays contain the same number of samples.'x' sizes: 5886\n'y' sizes: 5887\n",
     "output_type": "error",
     "traceback": [
      "\u001b[1;31m---------------------------------------------------------------------------\u001b[0m",
      "\u001b[1;31mValueError\u001b[0m                                Traceback (most recent call last)",
      "Cell \u001b[1;32mIn[13], line 39\u001b[0m\n\u001b[0;32m     36\u001b[0m model\u001b[38;5;241m.\u001b[39msummary()\n\u001b[0;32m     38\u001b[0m \u001b[38;5;66;03m# Modell trainieren\u001b[39;00m\n\u001b[1;32m---> 39\u001b[0m history \u001b[38;5;241m=\u001b[39m \u001b[43mmodel\u001b[49m\u001b[38;5;241;43m.\u001b[39;49m\u001b[43mfit\u001b[49m\u001b[43m(\u001b[49m\n\u001b[0;32m     40\u001b[0m \u001b[43m    \u001b[49m\u001b[43mX_train_vectors\u001b[49m\u001b[43m,\u001b[49m\u001b[43m \u001b[49m\u001b[43my_train_onehot\u001b[49m\u001b[43m,\u001b[49m\n\u001b[0;32m     41\u001b[0m \u001b[43m    \u001b[49m\u001b[43mvalidation_data\u001b[49m\u001b[38;5;241;43m=\u001b[39;49m\u001b[43m(\u001b[49m\u001b[43mX_test_vectors\u001b[49m\u001b[43m,\u001b[49m\u001b[43m \u001b[49m\u001b[43my_test_onehot\u001b[49m\u001b[43m)\u001b[49m\u001b[43m,\u001b[49m\n\u001b[0;32m     42\u001b[0m \u001b[43m    \u001b[49m\u001b[43mepochs\u001b[49m\u001b[38;5;241;43m=\u001b[39;49m\u001b[38;5;241;43m10\u001b[39;49m\u001b[43m,\u001b[49m\n\u001b[0;32m     43\u001b[0m \u001b[43m    \u001b[49m\u001b[43mbatch_size\u001b[49m\u001b[38;5;241;43m=\u001b[39;49m\u001b[38;5;241;43m32\u001b[39;49m\u001b[43m,\u001b[49m\n\u001b[0;32m     44\u001b[0m \u001b[43m    \u001b[49m\u001b[43mverbose\u001b[49m\u001b[38;5;241;43m=\u001b[39;49m\u001b[38;5;241;43m1\u001b[39;49m\n\u001b[0;32m     45\u001b[0m \u001b[43m)\u001b[49m\n",
      "File \u001b[1;32m~\\AppData\\Local\\Packages\\PythonSoftwareFoundation.Python.3.11_qbz5n2kfra8p0\\LocalCache\\local-packages\\Python311\\site-packages\\keras\\src\\utils\\traceback_utils.py:122\u001b[0m, in \u001b[0;36mfilter_traceback.<locals>.error_handler\u001b[1;34m(*args, **kwargs)\u001b[0m\n\u001b[0;32m    119\u001b[0m     filtered_tb \u001b[38;5;241m=\u001b[39m _process_traceback_frames(e\u001b[38;5;241m.\u001b[39m__traceback__)\n\u001b[0;32m    120\u001b[0m     \u001b[38;5;66;03m# To get the full stack trace, call:\u001b[39;00m\n\u001b[0;32m    121\u001b[0m     \u001b[38;5;66;03m# `keras.config.disable_traceback_filtering()`\u001b[39;00m\n\u001b[1;32m--> 122\u001b[0m     \u001b[38;5;28;01mraise\u001b[39;00m e\u001b[38;5;241m.\u001b[39mwith_traceback(filtered_tb) \u001b[38;5;28;01mfrom\u001b[39;00m \u001b[38;5;28;01mNone\u001b[39;00m\n\u001b[0;32m    123\u001b[0m \u001b[38;5;28;01mfinally\u001b[39;00m:\n\u001b[0;32m    124\u001b[0m     \u001b[38;5;28;01mdel\u001b[39;00m filtered_tb\n",
      "File \u001b[1;32m~\\AppData\\Local\\Packages\\PythonSoftwareFoundation.Python.3.11_qbz5n2kfra8p0\\LocalCache\\local-packages\\Python311\\site-packages\\keras\\src\\trainers\\data_adapters\\data_adapter_utils.py:114\u001b[0m, in \u001b[0;36mcheck_data_cardinality\u001b[1;34m(data)\u001b[0m\n\u001b[0;32m    110\u001b[0m     sizes \u001b[38;5;241m=\u001b[39m \u001b[38;5;124m\"\u001b[39m\u001b[38;5;124m, \u001b[39m\u001b[38;5;124m\"\u001b[39m\u001b[38;5;241m.\u001b[39mjoin(\n\u001b[0;32m    111\u001b[0m         \u001b[38;5;28mstr\u001b[39m(i\u001b[38;5;241m.\u001b[39mshape[\u001b[38;5;241m0\u001b[39m]) \u001b[38;5;28;01mfor\u001b[39;00m i \u001b[38;5;129;01min\u001b[39;00m tree\u001b[38;5;241m.\u001b[39mflatten(single_data)\n\u001b[0;32m    112\u001b[0m     )\n\u001b[0;32m    113\u001b[0m     msg \u001b[38;5;241m+\u001b[39m\u001b[38;5;241m=\u001b[39m \u001b[38;5;124mf\u001b[39m\u001b[38;5;124m\"\u001b[39m\u001b[38;5;124m'\u001b[39m\u001b[38;5;132;01m{\u001b[39;00mlabel\u001b[38;5;132;01m}\u001b[39;00m\u001b[38;5;124m'\u001b[39m\u001b[38;5;124m sizes: \u001b[39m\u001b[38;5;132;01m{\u001b[39;00msizes\u001b[38;5;132;01m}\u001b[39;00m\u001b[38;5;130;01m\\n\u001b[39;00m\u001b[38;5;124m\"\u001b[39m\n\u001b[1;32m--> 114\u001b[0m \u001b[38;5;28;01mraise\u001b[39;00m \u001b[38;5;167;01mValueError\u001b[39;00m(msg)\n",
      "\u001b[1;31mValueError\u001b[0m: Data cardinality is ambiguous. Make sure all arrays contain the same number of samples.'x' sizes: 5886\n'y' sizes: 5887\n"
     ]
    }
   ],
   "source": [
    "X_train_w2v, X_test_w2v, y_train_wv, y_test_vw, w2v_model\n",
    "\n",
    "\n",
    "\n",
    "X_train_vectors = X_train_w2v.reshape((X_train_w2v.shape[0], 1, X_train_w2v.shape[1]))\n",
    "X_test_vectors = X_test_w2v.reshape((X_test_w2v.shape[0], 1, X_test_w2v.shape[1]))\n",
    "\n",
    "print(X_train_vectors.shape)  # (1000, 1, 100)\n",
    "print(X_test_vectors.shape)   # (300, 1, 100)\n",
    "\n",
    "\n",
    "num_classes = len(np.unique(y_train_wv))\n",
    "# One-hot-Encoding\n",
    "y_train_onehot = to_categorical(y_train_wv, num_classes=num_classes)\n",
    "y_test_onehot = to_categorical(y_test_vw, num_classes=num_classes)\n",
    "\n",
    "# Prüfen der Form\n",
    "print(\"y_train_onehot Shape:\", y_train_onehot.shape)  # (n_samples, num_classes)\n",
    "\n",
    "\n",
    "model = Sequential()\n",
    "\n",
    "# Eingabe: LSTM-Schicht\n",
    "model.add(LSTM(128, input_shape=(X_train_vectors.shape[1], X_train_vectors.shape[2]), return_sequences=False))\n",
    "\n",
    "# Dropout zur Regularisierung\n",
    "model.add(Dropout(0.5))\n",
    "\n",
    "# Vollverbundene Schicht mit Softmax für Klassifikation\n",
    "model.add(Dense(num_classes, activation='softmax'))\n",
    "\n",
    "# Modell zusammenstellen\n",
    "model.compile(optimizer='adam', loss='categorical_crossentropy', metrics=['accuracy'])\n",
    "\n",
    "# Modellübersicht anzeigen\n",
    "model.summary()\n",
    "\n",
    "# Modell trainieren\n",
    "history = model.fit(\n",
    "    X_train_vectors, y_train_onehot,\n",
    "    validation_data=(X_test_vectors, y_test_onehot),\n",
    "    epochs=10,\n",
    "    batch_size=32,\n",
    "    verbose=1\n",
    ")\n",
    "\n"
   ]
  },
  {
   "cell_type": "markdown",
   "metadata": {},
   "source": [
    "#### 4. FastText"
   ]
  },
  {
   "cell_type": "code",
   "execution_count": null,
   "metadata": {},
   "outputs": [
    {
     "name": "stdout",
     "output_type": "stream",
     "text": [
      "Erste FastText-Vektoren (Trainingsdaten):\n",
      "[[-0.29386375 -0.18855044 -0.28949956  0.1476144  -0.01624956  0.13286856\n",
      "  -0.2226717   0.42894903  0.20227926 -0.34489603  0.14063459 -0.17879955\n",
      "  -0.02656796  0.35571882  0.14739158 -0.18100273 -0.38855459 -0.38690186\n",
      "   0.03949845 -0.1420191  -0.38428877  0.12217931 -0.43021867 -0.27014789\n",
      "  -0.1585444  -0.19736542 -0.1047727  -0.11022075  0.39326515  0.0440884\n",
      "   0.00890011 -0.11697213  0.26496852  0.09481627 -0.24331411  0.0848361\n",
      "  -0.30035191  0.16245278 -0.38106031  0.10987324  0.03810994 -0.11336832\n",
      "  -0.36291646 -0.35525489 -0.30596789 -0.63242    -0.13390998 -0.35441031\n",
      "  -0.12001625  0.02514511  0.18910217  0.00634514  0.21914639 -0.05554438\n",
      "  -0.13937775 -0.30562437 -0.07341961 -0.06837617 -0.10356644 -0.14365796\n",
      "   0.35412748 -0.25115391 -0.28434361  0.4578321   0.03951711  0.10478977\n",
      "  -0.09506598 -0.16083588 -0.14083032  0.36286939  0.15732638  0.3946838\n",
      "  -0.32672708 -0.34217629  0.59179797 -0.22814074  0.11298252 -0.28843242\n",
      "  -0.32987007  0.52645633  0.0501385   0.03011017 -0.16420562 -0.01371829\n",
      "  -0.17916377 -0.10769561 -0.01814499 -0.0876746  -0.14521292  0.15977002\n",
      "  -0.45867692 -0.06157656 -0.01529224  0.05548793 -0.36813689  0.21500242\n",
      "   0.05364267 -0.34932151  0.08393984  0.47701884]\n",
      " [-0.06559157  0.09021058 -0.12046528  0.11623377  0.23109994  0.18426524\n",
      "  -0.02677765  0.28227061  0.54220219 -0.38705356  0.02206335  0.1041011\n",
      "  -0.08640491  0.48932449  0.16009805 -0.12804702 -0.219634   -0.38999196\n",
      "  -0.14537058 -0.26628014 -0.21321763  0.45812123 -0.20700245 -0.29758027\n",
      "  -0.27630261  0.02980136 -0.20673033  0.07404204  0.40286972 -0.08083069\n",
      "  -0.15796475  0.03352352  0.30347147 -0.16988805 -0.28196473  0.17944631\n",
      "   0.06926451  0.1022398  -0.03582516 -0.03565286  0.27344941 -0.10532788\n",
      "  -0.15148835 -0.28552662 -0.32343747 -0.30627772  0.02694427 -0.16596892\n",
      "  -0.53382053  0.28965395  0.17715106  0.25035533  0.1109958   0.00452135\n",
      "   0.04364937 -0.2443161   0.11629698 -0.10160199 -0.06431268 -0.10787215\n",
      "   0.26526456 -0.21099969 -0.20897489  0.32621462  0.22312398  0.25758193\n",
      "   0.07474155 -0.12256824 -0.37670905  0.30036914 -0.00356908  0.22346781\n",
      "  -0.11833267 -0.26446798  0.2042114   0.0535953   0.26970849 -0.04539838\n",
      "  -0.27119825  0.41994827 -0.05890063 -0.25315498  0.08587257 -0.04327831\n",
      "  -0.21438619 -0.06297731 -0.1350496  -0.04067079 -0.09228058  0.07265919\n",
      "  -0.5490243  -0.2313467  -0.0669836  -0.18066368 -0.50236479  0.42313611\n",
      "   0.17413028 -0.15391451  0.15771826  0.64835555]\n",
      " [-0.15893781 -0.37603559 -0.21830507  0.13569292  0.17842773  0.15570964\n",
      "  -0.0565702   0.48516263 -0.00129184 -0.43277982  0.03094721 -0.28101444\n",
      "  -0.2348281   0.50044056  0.22337846 -0.02371105 -0.48404962 -0.2332783\n",
      "   0.10270611  0.10906721 -0.59548533  0.42605441 -0.29437851  0.22615588\n",
      "  -0.24370245 -0.15404353 -0.43614066  0.0401223   0.60458883  0.00899699\n",
      "  -0.11984616  0.05630926  0.21681339 -0.15853795 -0.1185222   0.00842407\n",
      "  -0.22650605  0.13144153 -0.32049314  0.07069241  0.03633094 -0.10649988\n",
      "  -0.19458259 -0.20488105 -0.2205267  -0.84592658  0.07387862 -0.13883835\n",
      "  -0.25910616  0.12361139  0.2939196   0.03595323  0.16007545  0.03903021\n",
      "   0.00467755 -0.47851387  0.05939282 -0.11062295  0.0131952  -0.1392637\n",
      "   0.24146058 -0.25245814 -0.26881351  0.69710511  0.11731476  0.12861798\n",
      "   0.09735677 -0.12696644 -0.11249095  0.63531289  0.33675384  0.52592983\n",
      "  -0.36269492 -0.04278655  0.48938669 -0.12544683  0.265269   -0.20927527\n",
      "  -0.38227438  0.27645086 -0.31058547  0.07611889  0.06001194 -0.27012207\n",
      "  -0.12459795 -0.34437577  0.0884874  -0.27711291 -0.25765163  0.12345121\n",
      "  -0.48205692 -0.04790838  0.0334243  -0.16049681 -0.49441821  0.38916639\n",
      "   0.27230422 -0.35705362  0.16522663  0.44569281]\n",
      " [-0.27808341 -0.11045658 -0.22700584  0.11732838  0.23535368  0.14787536\n",
      "   0.04663993  0.27739477  0.15947376 -0.38837493  0.18861075 -0.00651145\n",
      "  -0.2365954   0.54106998  0.17072871 -0.05809873 -0.34853585 -0.27079314\n",
      "  -0.11566063 -0.06519661 -0.36048973  0.42159407 -0.26402285 -0.02652281\n",
      "  -0.25833616  0.07157224 -0.32046159 -0.00687539  0.50867608 -0.00168648\n",
      "  -0.20235657 -0.01389586  0.27863011  0.10191163 -0.28422483  0.05492687\n",
      "   0.03332813  0.14659111 -0.18094448  0.0224004   0.10953044 -0.1644039\n",
      "  -0.03341338 -0.15919389 -0.26216594 -0.59388692  0.05567417 -0.0973042\n",
      "  -0.32338783  0.21824089  0.16461339  0.04138364  0.28748243  0.04081346\n",
      "  -0.10063504 -0.27393559 -0.11487484 -0.295229   -0.11388032 -0.03941577\n",
      "   0.29534887 -0.26273688 -0.20973871  0.46703888  0.2139582   0.03754467\n",
      "   0.13326522 -0.19933578 -0.19989614  0.47973061  0.19104154  0.2922905\n",
      "  -0.20885662 -0.16637233  0.37051055  0.01676136  0.3008175  -0.06574893\n",
      "  -0.3751721   0.31466761 -0.2021708  -0.01368608 -0.0513921  -0.13584589\n",
      "  -0.2190647  -0.10370262  0.09375908 -0.13373468 -0.19346247  0.1767109\n",
      "  -0.50058543 -0.14360887 -0.0327917  -0.16794448 -0.50100846  0.33892485\n",
      "   0.14742487 -0.29574394  0.10271309  0.59260913]\n",
      " [-0.09677536  0.02637046 -0.11811858  0.09315918  0.37902776  0.34269046\n",
      "   0.15583896  0.0531266  -0.12301917 -0.38727489  0.1017174  -0.13445755\n",
      "  -0.15683679  0.8056824   0.14488234 -0.24366622 -0.3257399  -0.1584896\n",
      "  -0.03176296  0.08620455 -0.62797513  0.22683577 -0.32814379 -0.17059879\n",
      "  -0.10977007  0.06993726 -0.55449498 -0.06303393  0.76951797  0.0868251\n",
      "  -0.36044312 -0.30924236  0.25165773 -0.05249524 -0.24405329  0.19727001\n",
      "  -0.18533653  0.25613183 -0.40656176  0.13216769  0.10991129 -0.22093142\n",
      "  -0.02881837 -0.3906519  -0.37133974 -0.33385873 -0.16009515  0.05378607\n",
      "  -0.38450839  0.46362689  0.04668202  0.13398796  0.38526449 -0.00619775\n",
      "  -0.09871263 -0.54878414 -0.09506184 -0.30350608 -0.10208871 -0.01620049\n",
      "   0.26225521 -0.25017576 -0.20697371  0.77684075  0.3841463   0.10845687\n",
      "   0.15249742 -0.18487348 -0.01342191  0.48260149  0.08526195  0.36414601\n",
      "  -0.20149434 -0.15693565  0.77612514 -0.06470947  0.15205261  0.03686112\n",
      "  -0.14620694  0.39057263 -0.21385411  0.20742881 -0.05325615  0.11508053\n",
      "  -0.04848114  0.15723263 -0.1240438  -0.13765135 -0.08013657  0.00675453\n",
      "  -0.53855246 -0.209652   -0.27263559 -0.35605556 -0.43992394  0.2201841\n",
      "  -0.11740288 -0.4532016   0.00630504  0.71996354]]\n"
     ]
    }
   ],
   "source": [
    "\n",
    "X_train_ft, X_test_ft, y_train, y_test, ft_model = vectorize_fasttext(\n",
    "    df=df_cleaned,\n",
    "    text_column=\"tweet_cleaned\",\n",
    "    label_column=\"label\",\n",
    "    vector_size=100,\n",
    "    window=3,\n",
    "    min_count=1\n",
    ")\n",
    "\n",
    "print(\"Erste FastText-Vektoren (Trainingsdaten):\")\n",
    "print(X_train_ft[:5])"
   ]
  },
  {
   "cell_type": "markdown",
   "metadata": {},
   "source": [
    "### Vergleiche 4 Methoden"
   ]
  },
  {
   "cell_type": "code",
   "execution_count": null,
   "metadata": {},
   "outputs": [
    {
     "name": "stdout",
     "output_type": "stream",
     "text": [
      "Vektorisierung: Bag of Words\n",
      "Vektorisierung: TF-IDF\n",
      "Vektorisierung: Word2Vec\n"
     ]
    },
    {
     "name": "stderr",
     "output_type": "stream",
     "text": [
      "C:\\Users\\Nasiba\\AppData\\Local\\Packages\\PythonSoftwareFoundation.Python.3.11_qbz5n2kfra8p0\\LocalCache\\local-packages\\Python311\\site-packages\\sklearn\\metrics\\_classification.py:1531: UndefinedMetricWarning: Precision is ill-defined and being set to 0.0 in labels with no predicted samples. Use `zero_division` parameter to control this behavior.\n",
      "  _warn_prf(average, modifier, f\"{metric.capitalize()} is\", len(result))\n"
     ]
    },
    {
     "name": "stdout",
     "output_type": "stream",
     "text": [
      "Vektorisierung: FastText\n"
     ]
    },
    {
     "data": {
      "image/png": "[encoded data removed]",
      "text/plain": [
       "<Figure size 1000x600 with 1 Axes>"
      ]
     },
     "metadata": {},
     "output_type": "display_data"
    }
   ],
   "source": [
    "\n",
    "results = compare_vectorization_methods(df=df_cleaned, text_column=\"tweet_cleaned\", label_column=\"label\")\n",
    "\n",
    "\n",
    "results.plot(x=\"Method\", y=[\"Accuracy\", \"Precision\", \"Recall\", \"F1 Score\"], kind=\"bar\", figsize=(6, 3))\n",
    "plt.title(\"Vergleich der Vektorisierungsmethoden\")\n",
    "plt.ylabel(\"Score\")\n",
    "plt.xlabel(\"Vektorisierungsmethode\")\n",
    "plt.legend(loc=\"best\")\n",
    "plt.grid(axis=\"y\", linestyle=\"--\", alpha=0.7)\n",
    "plt.show()\n"
   ]
  },
  {
   "cell_type": "code",
   "execution_count": null,
   "metadata": {},
   "outputs": [],
   "source": [
    "\n",
    "# Logistische Regression trainieren\n",
    "model = LogisticRegression()\n",
    "test_size=0.3\n",
    "random_state=42\n",
    "X = df_cleaned['tweet_cleaned']\n",
    "y = df_cleaned['label']\n",
    "\n",
    "X_train, X_test, y_train_wv, y_test_vw = train_test_split(X, y, test_size=0.3, random_state=42)\n",
    "model = LogisticRegression()\n",
    "model.fit(X_train_w2v, y_train_wv)\n",
    "\n",
    "# Vorhersagen auf Testdaten\n",
    "y_pred = model.predict(X_test_w2v)\n",
    "\n",
    "# Performance evaluieren\n",
    "print(\"Accuracy:\", accuracy_score(y_test_vw, y_pred))\n",
    "print(\"Classification Report:\\n\", classification_report(y_test_vw, y_pred))\n",
    "\n",
    "# Entferne fehlende Werte\n",
    "df_cleaned = df_cleaned[df_cleaned[\"tweet_cleaned\"].notna()]\n",
    "\n",
    "# Stelle sicher, dass alle Werte Strings sind\n",
    "df_cleaned[\"tweet_cleaned\"] = df_cleaned[\"tweet_cleaned\"].astype(str)\n"
   ]
  },
  {
   "cell_type": "code",
   "execution_count": null,
   "metadata": {},
   "outputs": [],
   "source": [
    "\n",
    "# Logistische Regression trainieren\n",
    "model = LogisticRegression()\n",
    "test_size=0.3\n",
    "random_state=42\n",
    "X = df_cleaned['tweet_cleaned']\n",
    "y = df_cleaned['label']\n",
    "\n",
    "X_train, X_test, y_train, y_test = train_test_split(X, y, test_size=0.3, random_state=42)\n",
    "model = LogisticRegression()\n",
    "model.fit(X_train_vectors, y_train)\n",
    "\n",
    "# Vorhersagen auf Testdaten\n",
    "y_pred = model.predict(X_test_vectors)\n",
    "\n",
    "# Performance evaluieren\n",
    "print(\"Accuracy:\", accuracy_score(y_test, y_pred))\n",
    "print(\"Classification Report:\\n\", classification_report(y_test, y_pred))"
   ]
  }
 ],
 "metadata": {
  "kernelspec": {
   "display_name": "Python 3",
   "language": "python",
   "name": "python3"
  },
  "language_info": {
   "codemirror_mode": {
    "name": "ipython",
    "version": 3
   },
   "file_extension": ".py",
   "mimetype": "text/x-python",
   "name": "python",
   "nbconvert_exporter": "python",
   "pygments_lexer": "ipython3",
   "version": "3.11.9"
  }
 },
 "nbformat": 4,
 "nbformat_minor": 2
}
