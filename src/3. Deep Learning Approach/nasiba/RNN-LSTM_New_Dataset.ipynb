{
 "cells": [
  {
   "cell_type": "code",
   "execution_count": null,
   "metadata": {},
   "outputs": [],
   "source": [
    "# !pip install tensorflow\n"
   ]
  },
  {
   "cell_type": "code",
   "execution_count": 1,
   "metadata": {},
   "outputs": [
    {
     "data": {
      "text/plain": [
       "WindowsPath('C:/Users/Nasiba/Documents/1 Master Data Science/Projektpraktikum/WebScience24')"
      ]
     },
     "execution_count": 1,
     "metadata": {},
     "output_type": "execute_result"
    }
   ],
   "source": [
    "import sys\n",
    "from pathlib import Path\n",
    "\n",
    "# Zum übergeordneten Ordner 'src' wechseln\n",
    "current_path = Path().resolve()\n",
    "src_path = current_path.parents[2]  # Zwei Stufen nach oben\n",
    "\n",
    "if str(src_path) not in sys.path:\n",
    "    sys.path.append(str(src_path))\n",
    "\n",
    "src_path\n"
   ]
  },
  {
   "cell_type": "code",
   "execution_count": 2,
   "metadata": {},
   "outputs": [],
   "source": [
    "\n",
    "\n",
    "import pandas as pd\n",
    "import numpy as np\n",
    "import matplotlib.pyplot as plt\n",
    "import seaborn as sns\n",
    "\n",
    "from pathlib import Path\n",
    "from sklearn.linear_model import LogisticRegression\n",
    "from sklearn.metrics import accuracy_score, classification_report, confusion_matrix\n",
    "\n",
    "from collections import Counter\n",
    "#nlp = spacy.load(\"en_core_web_sm\")\n",
    "from nltk import word_tokenize\n",
    "pd.set_option('display.max_colwidth', None)\n",
    "from sklearn.model_selection import train_test_split\n",
    "from sklearn.feature_extraction.text import TfidfVectorizer\n",
    "from sklearn.feature_extraction.text import CountVectorizer\n",
    "from vector_functions import vectorize_word2vec, vectorize_glove, vectorize_glove_no_avarage, vectorize_word2vec_no_average\n",
    "import nltk\n",
    "\n",
    "import os\n",
    "from tensorflow.keras.models import Sequential\n",
    "from tensorflow.keras.layers import Embedding, LSTM, Dense,Dropout\n",
    "from tensorflow.keras.utils import to_categorical\n",
    "\n"
   ]
  },
  {
   "cell_type": "markdown",
   "metadata": {},
   "source": [
    "#### Beladung der Daten"
   ]
  },
  {
   "cell_type": "code",
   "execution_count": 3,
   "metadata": {},
   "outputs": [
    {
     "data": {
      "text/html": [
       "<div>\n",
       "<style scoped>\n",
       "    .dataframe tbody tr th:only-of-type {\n",
       "        vertical-align: middle;\n",
       "    }\n",
       "\n",
       "    .dataframe tbody tr th {\n",
       "        vertical-align: top;\n",
       "    }\n",
       "\n",
       "    .dataframe thead th {\n",
       "        text-align: right;\n",
       "    }\n",
       "</style>\n",
       "<table border=\"1\" class=\"dataframe\">\n",
       "  <thead>\n",
       "    <tr style=\"text-align: right;\">\n",
       "      <th></th>\n",
       "      <th>tweet</th>\n",
       "      <th>label</th>\n",
       "      <th>tweet_cleaned</th>\n",
       "      <th>user_handle</th>\n",
       "      <th>hashtags</th>\n",
       "      <th>emojis</th>\n",
       "    </tr>\n",
       "  </thead>\n",
       "  <tbody>\n",
       "    <tr>\n",
       "      <th>154771</th>\n",
       "      <td>I love that you enjoy being trans.</td>\n",
       "      <td>0</td>\n",
       "      <td>love enjoy tran</td>\n",
       "      <td>0</td>\n",
       "      <td>[]</td>\n",
       "      <td>NaN</td>\n",
       "    </tr>\n",
       "  </tbody>\n",
       "</table>\n",
       "</div>"
      ],
      "text/plain": [
       "                                     tweet  label    tweet_cleaned  \\\n",
       "154771  I love that you enjoy being trans.      0  love enjoy tran   \n",
       "\n",
       "        user_handle hashtags emojis  \n",
       "154771            0       []    NaN  "
      ]
     },
     "execution_count": 3,
     "metadata": {},
     "output_type": "execute_result"
    }
   ],
   "source": [
    "\n",
    "source_filepath_name = os.path.abspath(os.path.join(src_path, 'data/new_datasets/train_cleaned.csv'))\n",
    "\n",
    "df_cleaned = pd.read_csv(source_filepath_name, encoding='utf-8', index_col=0)\n",
    "df_cleaned.head(1)"
   ]
  },
  {
   "cell_type": "markdown",
   "metadata": {},
   "source": [
    "### Vektorisierung"
   ]
  },
  {
   "cell_type": "markdown",
   "metadata": {},
   "source": [
    "#### GloVe "
   ]
  },
  {
   "cell_type": "code",
   "execution_count": 5,
   "metadata": {},
   "outputs": [
    {
     "name": "stderr",
     "output_type": "stream",
     "text": [
      "c:\\Users\\Nasiba\\Documents\\1 Master Data Science\\Projektpraktikum\\WebScience24\\src\\3. Deep Learning Approach\\nasiba\\vector_functions.py:346: SettingWithCopyWarning: \n",
      "A value is trying to be set on a copy of a slice from a DataFrame.\n",
      "Try using .loc[row_indexer,col_indexer] = value instead\n",
      "\n",
      "See the caveats in the documentation: https://pandas.pydata.org/pandas-docs/stable/user_guide/indexing.html#returning-a-view-versus-a-copy\n",
      "  df[text_column] = df[text_column].astype(str)\n"
     ]
    },
    {
     "data": {
      "text/plain": [
       "214395000"
      ]
     },
     "execution_count": 5,
     "metadata": {},
     "output_type": "execute_result"
    }
   ],
   "source": [
    "\n",
    "\n",
    "twitter_glove_path = os.path.abspath(os.path.join(src_path, 'src/3. Deep Learning Approach/nasiba/glove.twitter.27B.100d.txt'))\n",
    "\n",
    "\n",
    "X_train_vectors_wht_av, X_test_vectors_wht_av, y_train_wht_av, y_test_wht_av, glove_embeddings_wht_av = vectorize_glove_no_avarage(df=df_cleaned, text_column =\"tweet_cleaned\", label_column=\"label\", glove_path=twitter_glove_path)\n",
    "\n",
    "\n",
    "X_train_vectors_wht_av.size\n",
    "\n"
   ]
  },
  {
   "cell_type": "markdown",
   "metadata": {},
   "source": [
    "### Reshaping für LSTM"
   ]
  },
  {
   "cell_type": "code",
   "execution_count": 6,
   "metadata": {},
   "outputs": [
    {
     "name": "stdout",
     "output_type": "stream",
     "text": [
      "(42879, 50, 100)\n",
      "(18378, 50, 100)\n"
     ]
    }
   ],
   "source": [
    "print(X_train_vectors_wht_av.shape)\n",
    "print(X_test_vectors_wht_av.shape)\n"
   ]
  },
  {
   "cell_type": "markdown",
   "metadata": {},
   "source": [
    "### Modell aufbauen "
   ]
  },
  {
   "cell_type": "markdown",
   "metadata": {},
   "source": [
    "#### Vektoren ohne Durchschnitt"
   ]
  },
  {
   "cell_type": "markdown",
   "metadata": {},
   "source": [
    "##### Die Modelleingaben überprüfen"
   ]
  },
  {
   "cell_type": "code",
   "execution_count": 7,
   "metadata": {},
   "outputs": [
    {
     "name": "stdout",
     "output_type": "stream",
     "text": [
      "42879\n",
      "50\n",
      "100\n",
      "2\n",
      "(18378, 50, 100)\n",
      "2\n"
     ]
    }
   ],
   "source": [
    "samples, max_seq_len, vector_size = X_train_vectors_wht_av.shape\n",
    "num_classes = len(np.unique(y_train_wht_av))\n",
    "print(samples)\n",
    "print(max_seq_len)\n",
    "print(vector_size)\n",
    "print(num_classes)\n",
    "print(X_test_vectors_wht_av.shape)\n",
    "print(len(np.unique(y_test_wht_av)))"
   ]
  },
  {
   "cell_type": "markdown",
   "metadata": {},
   "source": [
    "#### One-Hot-Encoding der Labels"
   ]
  },
  {
   "cell_type": "code",
   "execution_count": 8,
   "metadata": {},
   "outputs": [
    {
     "name": "stdout",
     "output_type": "stream",
     "text": [
      "[[1. 0.]\n",
      " [1. 0.]\n",
      " [1. 0.]\n",
      " ...\n",
      " [0. 1.]\n",
      " [1. 0.]\n",
      " [1. 0.]]\n",
      "[[1. 0.]\n",
      " [0. 1.]\n",
      " [1. 0.]\n",
      " ...\n",
      " [1. 0.]\n",
      " [1. 0.]\n",
      " [1. 0.]]\n"
     ]
    }
   ],
   "source": [
    "\n",
    "y_train_onehot = to_categorical(y_train_wht_av, num_classes=num_classes)\n",
    "y_test_onehot = to_categorical(y_test_wht_av, num_classes=num_classes)\n",
    "print(y_train_onehot)\n",
    "print(y_test_onehot)"
   ]
  },
  {
   "cell_type": "markdown",
   "metadata": {},
   "source": [
    "##### Modellinitialisierung"
   ]
  },
  {
   "cell_type": "code",
   "execution_count": 9,
   "metadata": {},
   "outputs": [
    {
     "name": "stderr",
     "output_type": "stream",
     "text": [
      "C:\\Users\\Nasiba\\AppData\\Local\\Packages\\PythonSoftwareFoundation.Python.3.11_qbz5n2kfra8p0\\LocalCache\\local-packages\\Python311\\site-packages\\keras\\src\\layers\\rnn\\rnn.py:200: UserWarning: Do not pass an `input_shape`/`input_dim` argument to a layer. When using Sequential models, prefer using an `Input(shape)` object as the first layer in the model instead.\n",
      "  super().__init__(**kwargs)\n"
     ]
    }
   ],
   "source": [
    "\n",
    "# Modellinitialisierung\n",
    "model = Sequential()\n",
    "\n",
    "# LSTM-Schicht\n",
    "model.add(LSTM(units=128, input_shape=(max_seq_len, vector_size), return_sequences=False))\n",
    "\n",
    "# Optional: Dropout zur Vermeidung von Overfitting\n",
    "model.add(Dropout(0.5))\n",
    "\n",
    "# Dense-Schicht für die Ausgabe\n",
    "model.add(Dense(units=num_classes, activation='softmax'))\n",
    "\n",
    "# Kompilieren des Modells\n",
    "model.compile(optimizer='adam', loss='categorical_crossentropy', metrics=['accuracy'])\n"
   ]
  },
  {
   "cell_type": "markdown",
   "metadata": {},
   "source": [
    "#####  Modell trainieren"
   ]
  },
  {
   "cell_type": "code",
   "execution_count": 10,
   "metadata": {},
   "outputs": [
    {
     "name": "stdout",
     "output_type": "stream",
     "text": [
      "Epoch 1/10\n",
      "\u001b[1m1340/1340\u001b[0m \u001b[32m━━━━━━━━━━━━━━━━━━━━\u001b[0m\u001b[37m\u001b[0m \u001b[1m61s\u001b[0m 44ms/step - accuracy: 0.7847 - loss: 0.4877 - val_accuracy: 0.8123 - val_loss: 0.4331\n",
      "Epoch 2/10\n",
      "\u001b[1m1340/1340\u001b[0m \u001b[32m━━━━━━━━━━━━━━━━━━━━\u001b[0m\u001b[37m\u001b[0m \u001b[1m52s\u001b[0m 39ms/step - accuracy: 0.8170 - loss: 0.4221 - val_accuracy: 0.8182 - val_loss: 0.4203\n",
      "Epoch 3/10\n",
      "\u001b[1m1340/1340\u001b[0m \u001b[32m━━━━━━━━━━━━━━━━━━━━\u001b[0m\u001b[37m\u001b[0m \u001b[1m52s\u001b[0m 39ms/step - accuracy: 0.8203 - loss: 0.4158 - val_accuracy: 0.8251 - val_loss: 0.4136\n",
      "Epoch 4/10\n",
      "\u001b[1m1340/1340\u001b[0m \u001b[32m━━━━━━━━━━━━━━━━━━━━\u001b[0m\u001b[37m\u001b[0m \u001b[1m61s\u001b[0m 45ms/step - accuracy: 0.8277 - loss: 0.4018 - val_accuracy: 0.8198 - val_loss: 0.4135\n",
      "Epoch 5/10\n",
      "\u001b[1m1340/1340\u001b[0m \u001b[32m━━━━━━━━━━━━━━━━━━━━\u001b[0m\u001b[37m\u001b[0m \u001b[1m57s\u001b[0m 42ms/step - accuracy: 0.8347 - loss: 0.3856 - val_accuracy: 0.8259 - val_loss: 0.4056\n",
      "Epoch 6/10\n",
      "\u001b[1m1340/1340\u001b[0m \u001b[32m━━━━━━━━━━━━━━━━━━━━\u001b[0m\u001b[37m\u001b[0m \u001b[1m59s\u001b[0m 44ms/step - accuracy: 0.8407 - loss: 0.3683 - val_accuracy: 0.8259 - val_loss: 0.4116\n",
      "Epoch 7/10\n",
      "\u001b[1m1340/1340\u001b[0m \u001b[32m━━━━━━━━━━━━━━━━━━━━\u001b[0m\u001b[37m\u001b[0m \u001b[1m56s\u001b[0m 42ms/step - accuracy: 0.8531 - loss: 0.3459 - val_accuracy: 0.8235 - val_loss: 0.4108\n",
      "Epoch 8/10\n",
      "\u001b[1m1340/1340\u001b[0m \u001b[32m━━━━━━━━━━━━━━━━━━━━\u001b[0m\u001b[37m\u001b[0m \u001b[1m54s\u001b[0m 40ms/step - accuracy: 0.8610 - loss: 0.3268 - val_accuracy: 0.8244 - val_loss: 0.4253\n",
      "Epoch 9/10\n",
      "\u001b[1m1340/1340\u001b[0m \u001b[32m━━━━━━━━━━━━━━━━━━━━\u001b[0m\u001b[37m\u001b[0m \u001b[1m55s\u001b[0m 41ms/step - accuracy: 0.8716 - loss: 0.3055 - val_accuracy: 0.8237 - val_loss: 0.4631\n",
      "Epoch 10/10\n",
      "\u001b[1m1340/1340\u001b[0m \u001b[32m━━━━━━━━━━━━━━━━━━━━\u001b[0m\u001b[37m\u001b[0m \u001b[1m59s\u001b[0m 44ms/step - accuracy: 0.8817 - loss: 0.2818 - val_accuracy: 0.8167 - val_loss: 0.4816\n"
     ]
    }
   ],
   "source": [
    "\n",
    "history = model.fit(\n",
    "    X_train_vectors_wht_av, y_train_onehot,\n",
    "    validation_data=(X_test_vectors_wht_av, y_test_onehot),\n",
    "    epochs=10,\n",
    "    batch_size=32,\n",
    "    verbose=1\n",
    ")"
   ]
  },
  {
   "cell_type": "markdown",
   "metadata": {},
   "source": [
    "### Modell bewerten"
   ]
  },
  {
   "cell_type": "code",
   "execution_count": 11,
   "metadata": {},
   "outputs": [
    {
     "name": "stdout",
     "output_type": "stream",
     "text": [
      "\u001b[1m575/575\u001b[0m \u001b[32m━━━━━━━━━━━━━━━━━━━━\u001b[0m\u001b[37m\u001b[0m \u001b[1m9s\u001b[0m 16ms/step - accuracy: 0.8200 - loss: 0.4748\n",
      "Test Loss: 0.4815741181373596\n",
      "Test Accuracy: 0.8166829943656921\n"
     ]
    }
   ],
   "source": [
    "\n",
    "# Testgenauigkeit\n",
    "test_loss, test_accuracy = model.evaluate(X_test_vectors_wht_av, y_test_onehot)\n",
    "print(f\"Test Loss: {test_loss}\")\n",
    "print(f\"Test Accuracy: {test_accuracy}\")\n"
   ]
  },
  {
   "cell_type": "markdown",
   "metadata": {},
   "source": [
    "### Vorhersagen treffen"
   ]
  },
  {
   "cell_type": "code",
   "execution_count": 12,
   "metadata": {},
   "outputs": [
    {
     "name": "stdout",
     "output_type": "stream",
     "text": [
      "\u001b[1m575/575\u001b[0m \u001b[32m━━━━━━━━━━━━━━━━━━━━\u001b[0m\u001b[37m\u001b[0m \u001b[1m9s\u001b[0m 15ms/step\n",
      "Predicted classes: [0 1 0 0 0 0 0 1 0 0 0 0 0 0 1 0 0 0 0 0 0 0 0 0 0 1 1 0 0 0 0 0 0 0 1 0 1\n",
      " 0 1 0 0 0 1 0 1 0 1 0 0 1]\n",
      "Actual classes: [0 1 0 0 0 1 1 0 1 0 0 1 0 0 1 0 0 0 1 0 0 0 0 0 0 0 1 0 0 0 0 0 0 0 0 0 1\n",
      " 0 1 0 0 0 1 0 1 0 0 0 0 1]\n"
     ]
    }
   ],
   "source": [
    "# Vorhersagen auf Testdaten\n",
    "predictions = model.predict(X_test_vectors_wht_av)\n",
    "predicted_classes = np.argmax(predictions, axis=1)\n",
    "\n",
    "# Beispiel: Erste 5 Vorhersagen anzeigen\n",
    "print(\"Predicted classes:\", predicted_classes[:50])\n",
    "print(\"Actual classes:\", np.argmax(y_test_onehot[:50], axis=1))\n",
    "\n",
    "\n"
   ]
  },
  {
   "cell_type": "code",
   "execution_count": 13,
   "metadata": {},
   "outputs": [
    {
     "name": "stdout",
     "output_type": "stream",
     "text": [
      "Classification Report:\n",
      "               precision    recall  f1-score   support\n",
      "\n",
      "     Class 0       0.86      0.92      0.89     14459\n",
      "     Class 1       0.60      0.43      0.50      3919\n",
      "\n",
      "    accuracy                           0.82     18378\n",
      "   macro avg       0.73      0.68      0.69     18378\n",
      "weighted avg       0.80      0.82      0.81     18378\n",
      "\n"
     ]
    }
   ],
   "source": [
    "\n",
    "\n",
    "# Klassifikationsbericht erstellen\n",
    "report = classification_report(np.argmax(y_test_onehot, axis=1), predicted_classes, target_names=[\"Class 0\", \"Class 1\"])\n",
    "print(\"Classification Report:\\n\", report)\n"
   ]
  },
  {
   "cell_type": "code",
   "execution_count": 14,
   "metadata": {},
   "outputs": [
    {
     "name": "stdout",
     "output_type": "stream",
     "text": [
      "[[13323  1136]\n",
      " [ 2233  1686]]\n"
     ]
    },
    {
     "data": {
      "image/png": "[encoded data removed]",
      "text/plain": [
       "<Figure size 400x400 with 2 Axes>"
      ]
     },
     "metadata": {},
     "output_type": "display_data"
    }
   ],
   "source": [
    "cm = confusion_matrix(np.argmax(y_test_onehot, axis=1), predicted_classes)\n",
    "print(cm)\n",
    "# Verwirrungsmatrix visualisieren\n",
    "plt.figure(figsize=(4, 4))\n",
    "sns.heatmap(cm, annot=True, fmt=\"d\", cmap=\"coolwarm\", linewidths=0.5, square=True,\n",
    "            xticklabels=[\"Label 0\", \"Label 1\"], yticklabels=[\"Label 0\", \"Label 1\"])\n",
    "plt.xlabel(\"Predicted Labels\", fontsize=12)\n",
    "plt.ylabel(\"True Labels\", fontsize=12)\n",
    "plt.title(\"Confusion Matrix\", fontsize=14)\n",
    "plt.show()"
   ]
  },
  {
   "cell_type": "markdown",
   "metadata": {},
   "source": [
    "#### Vektor word2w"
   ]
  },
  {
   "cell_type": "code",
   "execution_count": 4,
   "metadata": {},
   "outputs": [
    {
     "name": "stderr",
     "output_type": "stream",
     "text": [
      "c:\\Users\\Nasiba\\Documents\\1 Master Data Science\\Projektpraktikum\\WebScience24\\src\\3. Deep Learning Approach\\nasiba\\vector_functions.py:162: SettingWithCopyWarning: \n",
      "A value is trying to be set on a copy of a slice from a DataFrame.\n",
      "Try using .loc[row_indexer,col_indexer] = value instead\n",
      "\n",
      "See the caveats in the documentation: https://pandas.pydata.org/pandas-docs/stable/user_guide/indexing.html#returning-a-view-versus-a-copy\n",
      "  df[text_column] = df[text_column].astype(str)\n"
     ]
    },
    {
     "name": "stdout",
     "output_type": "stream",
     "text": [
      "Erste Trainingsvektoren:\n",
      "[[[-0.27366632  0.59377503  0.24173051 ... -0.71544862  0.43441492\n",
      "    0.148491  ]\n",
      "  [-0.20591068  0.55211949  0.13490196 ... -0.47483411  0.30856198\n",
      "    0.0022539 ]\n",
      "  [-0.0877643   0.16565731  0.04981716 ... -0.16643453  0.12053686\n",
      "   -0.01899492]\n",
      "  ...\n",
      "  [ 0.          0.          0.         ...  0.          0.\n",
      "    0.        ]\n",
      "  [ 0.          0.          0.         ...  0.          0.\n",
      "    0.        ]\n",
      "  [ 0.          0.          0.         ...  0.          0.\n",
      "    0.        ]]\n",
      "\n",
      " [[-0.37556157  0.58749545  0.17904741 ... -0.71730393  0.54872096\n",
      "   -0.26690394]\n",
      "  [-0.08293848  0.2228906   0.08971734 ... -0.26991111  0.16464275\n",
      "   -0.00287571]\n",
      "  [-0.20412913  0.47566864  0.24698061 ... -0.5018931   0.48744324\n",
      "   -0.15143053]\n",
      "  ...\n",
      "  [ 0.          0.          0.         ...  0.          0.\n",
      "    0.        ]\n",
      "  [ 0.          0.          0.         ...  0.          0.\n",
      "    0.        ]\n",
      "  [ 0.          0.          0.         ...  0.          0.\n",
      "    0.        ]]]\n"
     ]
    }
   ],
   "source": [
    "\n",
    "X_train_w2v, X_test_w2v, y_train_wv, y_test_vw, w2v_model = vectorize_word2vec_no_average(df=df_cleaned, text_column =\"tweet_cleaned\", label_column=\"label\")\n",
    "\n",
    "print(\"Erste Trainingsvektoren:\")\n",
    "print(X_train_w2v[:2])"
   ]
  },
  {
   "cell_type": "code",
   "execution_count": 5,
   "metadata": {},
   "outputs": [
    {
     "name": "stdout",
     "output_type": "stream",
     "text": [
      "(14124, 50, 100)\n",
      "(6054, 50, 100)\n"
     ]
    }
   ],
   "source": [
    "print(X_train_w2v.shape)\n",
    "print(X_test_w2v.shape)\n"
   ]
  },
  {
   "cell_type": "code",
   "execution_count": 6,
   "metadata": {},
   "outputs": [
    {
     "name": "stdout",
     "output_type": "stream",
     "text": [
      "14124\n",
      "50\n",
      "100\n",
      "2\n",
      "(6054, 50, 100)\n",
      "2\n"
     ]
    }
   ],
   "source": [
    "\n",
    "samples,max_seq_len, vector_size = X_train_w2v.shape\n",
    "num_classes = len(np.unique(y_train_wv))\n",
    "print(samples)\n",
    "print(max_seq_len)\n",
    "print(vector_size)\n",
    "print(num_classes)\n",
    "print(X_test_w2v.shape)\n",
    "print(len(np.unique(y_test_vw)))"
   ]
  },
  {
   "cell_type": "code",
   "execution_count": 7,
   "metadata": {},
   "outputs": [
    {
     "name": "stdout",
     "output_type": "stream",
     "text": [
      "[[1. 0.]\n",
      " [1. 0.]\n",
      " [1. 0.]\n",
      " ...\n",
      " [0. 1.]\n",
      " [1. 0.]\n",
      " [1. 0.]]\n",
      "[[1. 0.]\n",
      " [1. 0.]\n",
      " [1. 0.]\n",
      " ...\n",
      " [1. 0.]\n",
      " [1. 0.]\n",
      " [1. 0.]]\n"
     ]
    }
   ],
   "source": [
    "\n",
    "y_train_onehot = to_categorical(y_train_wv, num_classes=num_classes)\n",
    "y_test_onehot = to_categorical(y_test_vw, num_classes=num_classes)\n",
    "print(y_train_onehot)\n",
    "print(y_test_onehot)"
   ]
  },
  {
   "cell_type": "code",
   "execution_count": 8,
   "metadata": {},
   "outputs": [
    {
     "name": "stderr",
     "output_type": "stream",
     "text": [
      "C:\\Users\\Nasiba\\AppData\\Local\\Packages\\PythonSoftwareFoundation.Python.3.11_qbz5n2kfra8p0\\LocalCache\\local-packages\\Python311\\site-packages\\keras\\src\\layers\\rnn\\rnn.py:200: UserWarning: Do not pass an `input_shape`/`input_dim` argument to a layer. When using Sequential models, prefer using an `Input(shape)` object as the first layer in the model instead.\n",
      "  super().__init__(**kwargs)\n"
     ]
    }
   ],
   "source": [
    "\n",
    "# Modellinitialisierung\n",
    "model = Sequential()\n",
    "\n",
    "# LSTM-Schicht\n",
    "model.add(LSTM(units=128, input_shape=(max_seq_len, vector_size), return_sequences=False))\n",
    "\n",
    "# Optional: Dropout zur Vermeidung von Overfitting\n",
    "model.add(Dropout(0.5))\n",
    "\n",
    "# Dense-Schicht für die Ausgabe\n",
    "model.add(Dense(units=num_classes, activation='softmax'))\n",
    "\n",
    "# Kompilieren des Modells\n",
    "model.compile(optimizer='adam', loss='categorical_crossentropy', metrics=['accuracy'])\n"
   ]
  },
  {
   "cell_type": "code",
   "execution_count": 9,
   "metadata": {},
   "outputs": [
    {
     "name": "stdout",
     "output_type": "stream",
     "text": [
      "Epoch 1/10\n",
      "\u001b[1m442/442\u001b[0m \u001b[32m━━━━━━━━━━━━━━━━━━━━\u001b[0m\u001b[37m\u001b[0m \u001b[1m20s\u001b[0m 40ms/step - accuracy: 0.9250 - loss: 0.3023 - val_accuracy: 0.9394 - val_loss: 0.2283\n",
      "Epoch 2/10\n",
      "\u001b[1m442/442\u001b[0m \u001b[32m━━━━━━━━━━━━━━━━━━━━\u001b[0m\u001b[37m\u001b[0m \u001b[1m15s\u001b[0m 35ms/step - accuracy: 0.9325 - loss: 0.2496 - val_accuracy: 0.9394 - val_loss: 0.2126\n",
      "Epoch 3/10\n",
      "\u001b[1m442/442\u001b[0m \u001b[32m━━━━━━━━━━━━━━━━━━━━\u001b[0m\u001b[37m\u001b[0m \u001b[1m16s\u001b[0m 37ms/step - accuracy: 0.9289 - loss: 0.2349 - val_accuracy: 0.9374 - val_loss: 0.2180\n",
      "Epoch 4/10\n",
      "\u001b[1m442/442\u001b[0m \u001b[32m━━━━━━━━━━━━━━━━━━━━\u001b[0m\u001b[37m\u001b[0m \u001b[1m15s\u001b[0m 35ms/step - accuracy: 0.9287 - loss: 0.2289 - val_accuracy: 0.9394 - val_loss: 0.1920\n",
      "Epoch 5/10\n",
      "\u001b[1m442/442\u001b[0m \u001b[32m━━━━━━━━━━━━━━━━━━━━\u001b[0m\u001b[37m\u001b[0m \u001b[1m16s\u001b[0m 36ms/step - accuracy: 0.9353 - loss: 0.2092 - val_accuracy: 0.9394 - val_loss: 0.1911\n",
      "Epoch 6/10\n",
      "\u001b[1m442/442\u001b[0m \u001b[32m━━━━━━━━━━━━━━━━━━━━\u001b[0m\u001b[37m\u001b[0m \u001b[1m16s\u001b[0m 36ms/step - accuracy: 0.9319 - loss: 0.2146 - val_accuracy: 0.9389 - val_loss: 0.1860\n",
      "Epoch 7/10\n",
      "\u001b[1m442/442\u001b[0m \u001b[32m━━━━━━━━━━━━━━━━━━━━\u001b[0m\u001b[37m\u001b[0m \u001b[1m16s\u001b[0m 36ms/step - accuracy: 0.9265 - loss: 0.2213 - val_accuracy: 0.9394 - val_loss: 0.1814\n",
      "Epoch 8/10\n",
      "\u001b[1m442/442\u001b[0m \u001b[32m━━━━━━━━━━━━━━━━━━━━\u001b[0m\u001b[37m\u001b[0m \u001b[1m16s\u001b[0m 36ms/step - accuracy: 0.9314 - loss: 0.2011 - val_accuracy: 0.9395 - val_loss: 0.1826\n",
      "Epoch 9/10\n",
      "\u001b[1m442/442\u001b[0m \u001b[32m━━━━━━━━━━━━━━━━━━━━\u001b[0m\u001b[37m\u001b[0m \u001b[1m18s\u001b[0m 40ms/step - accuracy: 0.9329 - loss: 0.1967 - val_accuracy: 0.9404 - val_loss: 0.1767\n",
      "Epoch 10/10\n",
      "\u001b[1m442/442\u001b[0m \u001b[32m━━━━━━━━━━━━━━━━━━━━\u001b[0m\u001b[37m\u001b[0m \u001b[1m17s\u001b[0m 38ms/step - accuracy: 0.9332 - loss: 0.1994 - val_accuracy: 0.9392 - val_loss: 0.1773\n"
     ]
    }
   ],
   "source": [
    "\n",
    "history = model.fit(\n",
    "    X_train_w2v, y_train_onehot,\n",
    "    validation_data=(X_test_w2v, y_test_onehot),\n",
    "    epochs=10,\n",
    "    batch_size=32,\n",
    "    verbose=1\n",
    ")"
   ]
  },
  {
   "cell_type": "code",
   "execution_count": 10,
   "metadata": {},
   "outputs": [
    {
     "name": "stdout",
     "output_type": "stream",
     "text": [
      "\u001b[1m190/190\u001b[0m \u001b[32m━━━━━━━━━━━━━━━━━━━━\u001b[0m\u001b[37m\u001b[0m \u001b[1m3s\u001b[0m 16ms/step - accuracy: 0.9411 - loss: 0.1780\n",
      "Test Loss: 0.17729629576206207\n",
      "Test Accuracy: 0.939213752746582\n"
     ]
    }
   ],
   "source": [
    "\n",
    "# Testgenauigkeit\n",
    "test_loss, test_accuracy = model.evaluate(X_test_w2v, y_test_onehot)\n",
    "print(f\"Test Loss: {test_loss}\")\n",
    "print(f\"Test Accuracy: {test_accuracy}\")\n"
   ]
  },
  {
   "cell_type": "code",
   "execution_count": 11,
   "metadata": {},
   "outputs": [
    {
     "name": "stdout",
     "output_type": "stream",
     "text": [
      "\u001b[1m190/190\u001b[0m \u001b[32m━━━━━━━━━━━━━━━━━━━━\u001b[0m\u001b[37m\u001b[0m \u001b[1m3s\u001b[0m 15ms/step\n",
      "Predicted classes: [0 0 0 0 0 0 0 0 0 0 0 0 0 0 0 0 0 0 0 0 0 0 0 0 0 0 0 0 0 0 0 0 0 0 0 0 0\n",
      " 0 0 0 0 0 0 0 0 0 0 0 0 0]\n",
      "Actual classes: [0 0 0 0 0 0 0 0 0 0 0 0 0 0 0 0 0 0 0 0 0 0 0 0 0 0 0 0 0 0 0 0 0 0 0 0 0\n",
      " 0 1 0 0 0 0 0 0 0 0 0 0 0]\n"
     ]
    }
   ],
   "source": [
    "# Vorhersagen auf Testdaten\n",
    "predictions = model.predict(X_test_w2v)\n",
    "predicted_classes = np.argmax(predictions, axis=1)\n",
    "\n",
    "# Beispiel: Erste 5 Vorhersagen anzeigen\n",
    "print(\"Predicted classes:\", predicted_classes[:50])\n",
    "print(\"Actual classes:\", np.argmax(y_test_onehot[:50], axis=1))\n",
    "\n",
    "\n"
   ]
  },
  {
   "cell_type": "code",
   "execution_count": 12,
   "metadata": {},
   "outputs": [
    {
     "name": "stdout",
     "output_type": "stream",
     "text": [
      "Classification Report:\n",
      "               precision    recall  f1-score   support\n",
      "\n",
      "     Class 0       0.94      1.00      0.97      5687\n",
      "     Class 1       0.44      0.01      0.02       367\n",
      "\n",
      "    accuracy                           0.94      6054\n",
      "   macro avg       0.69      0.51      0.49      6054\n",
      "weighted avg       0.91      0.94      0.91      6054\n",
      "\n"
     ]
    }
   ],
   "source": [
    "\n",
    "\n",
    "# Klassifikationsbericht erstellen\n",
    "report = classification_report(np.argmax(y_test_onehot, axis=1), predicted_classes, target_names=[\"Class 0\", \"Class 1\"])\n",
    "print(\"Classification Report:\\n\", report)\n"
   ]
  },
  {
   "cell_type": "code",
   "execution_count": 13,
   "metadata": {},
   "outputs": [
    {
     "name": "stdout",
     "output_type": "stream",
     "text": [
      "[[5682    5]\n",
      " [ 363    4]]\n"
     ]
    },
    {
     "data": {
      "image/png": "[encoded data removed]",
      "text/plain": [
       "<Figure size 400x400 with 2 Axes>"
      ]
     },
     "metadata": {},
     "output_type": "display_data"
    }
   ],
   "source": [
    "cm = confusion_matrix(np.argmax(y_test_onehot, axis=1), predicted_classes)\n",
    "print(cm)\n",
    "# Verwirrungsmatrix visualisieren\n",
    "plt.figure(figsize=(4, 4))\n",
    "sns.heatmap(cm, annot=True, fmt=\"d\", cmap=\"coolwarm\", linewidths=0.5, square=True,\n",
    "            xticklabels=[\"Label 0\", \"Label 1\"], yticklabels=[\"Label 0\", \"Label 1\"])\n",
    "plt.xlabel(\"Predicted Labels\", fontsize=12)\n",
    "plt.ylabel(\"True Labels\", fontsize=12)\n",
    "plt.title(\"Confusion Matrix\", fontsize=14)\n",
    "plt.show()"
   ]
  }
 ],
 "metadata": {
  "kernelspec": {
   "display_name": "Python 3",
   "language": "python",
   "name": "python3"
  },
  "language_info": {
   "codemirror_mode": {
    "name": "ipython",
    "version": 3
   },
   "file_extension": ".py",
   "mimetype": "text/x-python",
   "name": "python",
   "nbconvert_exporter": "python",
   "pygments_lexer": "ipython3",
   "version": "3.11.9"
  }
 },
 "nbformat": 4,
 "nbformat_minor": 2
}
