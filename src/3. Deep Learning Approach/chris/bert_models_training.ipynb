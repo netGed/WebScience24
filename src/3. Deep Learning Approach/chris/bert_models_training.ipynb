{
 "cells": [
  {
   "cell_type": "markdown",
   "source": [
    "#"
   ],
   "metadata": {
    "collapsed": false
   }
  },
  {
   "cell_type": "code",
   "execution_count": 1,
   "outputs": [],
   "source": [
    "# https://huggingface.co/cardiffnlp/twitter-roberta-base-sentiment-latest?text=you+might+be+a+if...+%23%23sjw+%23liberal+%23politics\n",
    "# Twitter-roBERTa-base for Sentiment Analysis - UPDATED (2022)"
   ],
   "metadata": {
    "collapsed": false,
    "ExecuteTime": {
     "end_time": "2024-12-08T19:49:00.569216200Z",
     "start_time": "2024-12-08T19:49:00.433091500Z"
    }
   }
  },
  {
   "cell_type": "code",
   "execution_count": 2,
   "outputs": [],
   "source": [
    "from transformers import AutoModelForSequenceClassification\n",
    "from transformers import TFAutoModelForSequenceClassification\n",
    "from transformers import AutoTokenizer, AutoConfig\n",
    "import numpy as np\n",
    "from scipy.special import softmax\n",
    "import pandas as pd\n"
   ],
   "metadata": {
    "collapsed": false,
    "ExecuteTime": {
     "end_time": "2024-12-08T19:49:06.395412500Z",
     "start_time": "2024-12-08T19:49:00.455113800Z"
    }
   }
  },
  {
   "cell_type": "code",
   "execution_count": 3,
   "outputs": [],
   "source": [
    "# Preprocess text (username and link placeholders)\n",
    "def preprocess(text):\n",
    "    new_text = []\n",
    "    for t in text.split(\" \"):\n",
    "        t = '@user' if t.startswith('@') and len(t) > 1 else t\n",
    "        t = 'http' if t.startswith('http') else t\n",
    "        new_text.append(t)\n",
    "    return \" \".join(new_text)\n"
   ],
   "metadata": {
    "collapsed": false,
    "ExecuteTime": {
     "end_time": "2024-12-08T19:49:06.409577Z",
     "start_time": "2024-12-08T19:49:06.398414200Z"
    }
   }
  },
  {
   "cell_type": "code",
   "execution_count": 4,
   "outputs": [],
   "source": [
    "MODEL = f\"cardiffnlp/twitter-roberta-base-sentiment-latest\"\n",
    "tokenizer = AutoTokenizer.from_pretrained(MODEL, local_files_only=True)\n",
    "config = AutoConfig.from_pretrained(MODEL)"
   ],
   "metadata": {
    "collapsed": false,
    "ExecuteTime": {
     "end_time": "2024-12-08T19:49:07.744663800Z",
     "start_time": "2024-12-08T19:49:06.412580500Z"
    }
   }
  },
  {
   "cell_type": "code",
   "execution_count": 5,
   "outputs": [
    {
     "name": "stderr",
     "output_type": "stream",
     "text": [
      "Some weights of the model checkpoint at cardiffnlp/twitter-roberta-base-sentiment-latest were not used when initializing RobertaForSequenceClassification: ['roberta.pooler.dense.bias', 'roberta.pooler.dense.weight']\n",
      "- This IS expected if you are initializing RobertaForSequenceClassification from the checkpoint of a model trained on another task or with another architecture (e.g. initializing a BertForSequenceClassification model from a BertForPreTraining model).\n",
      "- This IS NOT expected if you are initializing RobertaForSequenceClassification from the checkpoint of a model that you expect to be exactly identical (initializing a BertForSequenceClassification model from a BertForSequenceClassification model).\n"
     ]
    }
   ],
   "source": [
    "# PT\n",
    "model = AutoModelForSequenceClassification.from_pretrained(MODEL)\n",
    "model.save_pretrained(MODEL)"
   ],
   "metadata": {
    "collapsed": false,
    "ExecuteTime": {
     "end_time": "2024-12-08T19:49:10.046154700Z",
     "start_time": "2024-12-08T19:49:07.750668300Z"
    }
   }
  },
  {
   "cell_type": "code",
   "execution_count": 6,
   "outputs": [],
   "source": [
    "def predict(text):\n",
    "    encoded_input = tokenizer(text, return_tensors='pt')\n",
    "    output = model(**encoded_input)\n",
    "    scores = output[0][0].detach().numpy()\n",
    "    return softmax(scores)"
   ],
   "metadata": {
    "collapsed": false,
    "ExecuteTime": {
     "end_time": "2024-12-08T19:49:10.061790700Z",
     "start_time": "2024-12-08T19:49:10.049157100Z"
    }
   }
  },
  {
   "cell_type": "code",
   "execution_count": 7,
   "outputs": [],
   "source": [
    "# Preprocess text (username and link placeholders)\n",
    "def preprocess(text):\n",
    "    new_text = []\n",
    "    for t in text.split(\" \"):\n",
    "        t = '@user' if t.startswith('@') and len(t) > 1 else t\n",
    "        t = 'http' if t.startswith('http') else t\n",
    "        new_text.append(t)\n",
    "    return \" \".join(new_text)\n"
   ],
   "metadata": {
    "collapsed": false,
    "ExecuteTime": {
     "end_time": "2024-12-08T19:49:10.091196500Z",
     "start_time": "2024-12-08T19:49:10.064793300Z"
    }
   }
  },
  {
   "cell_type": "code",
   "execution_count": 18,
   "outputs": [
    {
     "data": {
      "text/plain": "      id  label                                              tweet  \\\n0   8886      0   @user #cinemaaawards final rehearsals!! geari...   \n1    909      0  istg this is the best cheese ta but dayum expe...   \n2  27613      0  this was amazing. the weather was not. #musica...   \n3  15999      0  yes! #talented #sexy   ‘criminal minds’ casts ...   \n4  23817      0  want to be   while being #successful? see how ...   \n\n                                       tweet_cleaned  user_handle  \\\n0  cinema award final rehearsal gear evening butt...            1   \n1                    tg good cheese day um expensive            0   \n2  amazing weather musical london matilda west en...            0   \n3  yes talented sexy ' criminal mind ' cast serie...            2   \n4         want successful see work life balance help            2   \n\n                                            hashtags emojis  \n0       ['#cinemaaawards', '#butterflies', '#stage']    NaN  \n1                                                 []    NaN  \n2  ['#musical', '#london', '#matilda', '#westend'...    NaN  \n3                             ['#talented', '#sexy']    NaN  \n4                ['#successful', '#worklifebalance']    NaN  ",
      "text/html": "<div>\n<style scoped>\n    .dataframe tbody tr th:only-of-type {\n        vertical-align: middle;\n    }\n\n    .dataframe tbody tr th {\n        vertical-align: top;\n    }\n\n    .dataframe thead th {\n        text-align: right;\n    }\n</style>\n<table border=\"1\" class=\"dataframe\">\n  <thead>\n    <tr style=\"text-align: right;\">\n      <th></th>\n      <th>id</th>\n      <th>label</th>\n      <th>tweet</th>\n      <th>tweet_cleaned</th>\n      <th>user_handle</th>\n      <th>hashtags</th>\n      <th>emojis</th>\n    </tr>\n  </thead>\n  <tbody>\n    <tr>\n      <th>0</th>\n      <td>8886</td>\n      <td>0</td>\n      <td>@user #cinemaaawards final rehearsals!! geari...</td>\n      <td>cinema award final rehearsal gear evening butt...</td>\n      <td>1</td>\n      <td>['#cinemaaawards', '#butterflies', '#stage']</td>\n      <td>NaN</td>\n    </tr>\n    <tr>\n      <th>1</th>\n      <td>909</td>\n      <td>0</td>\n      <td>istg this is the best cheese ta but dayum expe...</td>\n      <td>tg good cheese day um expensive</td>\n      <td>0</td>\n      <td>[]</td>\n      <td>NaN</td>\n    </tr>\n    <tr>\n      <th>2</th>\n      <td>27613</td>\n      <td>0</td>\n      <td>this was amazing. the weather was not. #musica...</td>\n      <td>amazing weather musical london matilda west en...</td>\n      <td>0</td>\n      <td>['#musical', '#london', '#matilda', '#westend'...</td>\n      <td>NaN</td>\n    </tr>\n    <tr>\n      <th>3</th>\n      <td>15999</td>\n      <td>0</td>\n      <td>yes! #talented #sexy   ‘criminal minds’ casts ...</td>\n      <td>yes talented sexy ' criminal mind ' cast serie...</td>\n      <td>2</td>\n      <td>['#talented', '#sexy']</td>\n      <td>NaN</td>\n    </tr>\n    <tr>\n      <th>4</th>\n      <td>23817</td>\n      <td>0</td>\n      <td>want to be   while being #successful? see how ...</td>\n      <td>want successful see work life balance help</td>\n      <td>2</td>\n      <td>['#successful', '#worklifebalance']</td>\n      <td>NaN</td>\n    </tr>\n  </tbody>\n</table>\n</div>"
     },
     "execution_count": 18,
     "metadata": {},
     "output_type": "execute_result"
    }
   ],
   "source": [
    "df_train_cleaned = pd.read_csv(\"..\\\\..\\\\..\\\\data\\\\twitter_hate-speech\\\\train_cleaned.csv\")\n",
    "df_train_cleaned = df_train_cleaned[df_train_cleaned.tweet_cleaned.notna()]\n",
    "df_train_cleaned.head()"
   ],
   "metadata": {
    "collapsed": false,
    "ExecuteTime": {
     "end_time": "2024-12-08T21:23:37.819800100Z",
     "start_time": "2024-12-08T21:23:37.702705Z"
    }
   }
  },
  {
   "cell_type": "code",
   "execution_count": 9,
   "outputs": [],
   "source": [
    "# df_train_cleaned.head(5).tweet_cleaned.apply(predict)"
   ],
   "metadata": {
    "collapsed": false,
    "ExecuteTime": {
     "end_time": "2024-12-08T19:49:10.210811200Z",
     "start_time": "2024-12-08T19:49:10.200800400Z"
    }
   }
  },
  {
   "cell_type": "code",
   "execution_count": 10,
   "outputs": [],
   "source": [
    "# predict(\"@user #cinemaaawards final rehearsals!! gearing up for the evening!! #butterflies #stage  ! hope u all like it\")"
   ],
   "metadata": {
    "collapsed": false,
    "ExecuteTime": {
     "end_time": "2024-12-08T19:49:10.218819Z",
     "start_time": "2024-12-08T19:49:10.205807100Z"
    }
   }
  },
  {
   "cell_type": "markdown",
   "source": [
    "### Predict \"tweet_cleaned\""
   ],
   "metadata": {
    "collapsed": false
   }
  },
  {
   "cell_type": "code",
   "execution_count": 20,
   "outputs": [],
   "source": [
    "df_train_cleaned[\"tweet_cleaned_roberta_predictions\"] = df_train_cleaned[\"tweet_cleaned\"].apply(predict)"
   ],
   "metadata": {
    "collapsed": false,
    "ExecuteTime": {
     "end_time": "2024-12-09T03:56:59.971741600Z",
     "start_time": "2024-12-08T21:23:46.183022400Z"
    }
   }
  },
  {
   "cell_type": "code",
   "execution_count": 21,
   "outputs": [
    {
     "data": {
      "text/plain": "          id  label                                              tweet  \\\n0       8886      0   @user #cinemaaawards final rehearsals!! geari...   \n1        909      0  istg this is the best cheese ta but dayum expe...   \n2      27613      0  this was amazing. the weather was not. #musica...   \n3      15999      0  yes! #talented #sexy   ‘criminal minds’ casts ...   \n4      23817      0  want to be   while being #successful? see how ...   \n...      ...    ...                                                ...   \n20174  16407      0  joshwin is always like this! 😂😂 what's wrong w...   \n20175   6526      0    #makaveli #day   i hit 1000 plays with this ...   \n20176   8002      1   video men and women malayalees xxx pictureban...   \n20177    323      0   hahaha.. this is me last #friday   &amp; #weird    \n20178  16978      0  i think i would be a cute man lol #snapchat #f...   \n\n                                           tweet_cleaned  user_handle  \\\n0      cinema award final rehearsal gear evening butt...            1   \n1                        tg good cheese day um expensive            0   \n2      amazing weather musical london matilda west en...            0   \n3      yes talented sexy ' criminal mind ' cast serie...            2   \n4             want successful see work life balance help            2   \n...                                                  ...          ...   \n20174  josh win always like face tear joy tear joy wr...            0   \n20175  makaveli day hit play one hear even thugge lil...            0   \n20176  video man woman malaya lee xxx picture banglad...            0   \n20177                           hahaha last friday weird            0   \n20178  think would cute man laugh loud snapchat filte...            0   \n\n                                                hashtags  \\\n0           ['#cinemaaawards', '#butterflies', '#stage']   \n1                                                     []   \n2      ['#musical', '#london', '#matilda', '#westend'...   \n3                                 ['#talented', '#sexy']   \n4                    ['#successful', '#worklifebalance']   \n...                                                  ...   \n20174                                                 []   \n20175            ['#makaveli', '#day', '#kingtutkafafi']   \n20176                                                 []   \n20177                              ['#friday', '#weird']   \n20178  ['#snapchat', '#filter', '#thursday', '#summei...   \n\n                                                  emojis  \\\n0                                                    NaN   \n1                                                    NaN   \n2                                                    NaN   \n3                                                    NaN   \n4                                                    NaN   \n...                                                  ...   \n20174  __face_with_tears_of_joy__,__face_with_tears_o...   \n20175                                                NaN   \n20176                                                NaN   \n20177                                                NaN   \n20178                                                NaN   \n\n             tweet_cleaned_roberta_predictions  \n0         [0.011631846, 0.8329207, 0.15544751]  \n1         [0.17947705, 0.32253772, 0.49798524]  \n2      [0.0014606817, 0.025883349, 0.97265595]  \n3      [0.0022572489, 0.062179178, 0.93556356]  \n4           [0.0322919, 0.43325263, 0.5344555]  \n...                                        ...  \n20174      [0.3770243, 0.42588902, 0.19708675]  \n20175    [0.018977983, 0.52240974, 0.45861232]  \n20176     [0.017293481, 0.8894819, 0.09322464]  \n20177     [0.18371728, 0.61801475, 0.19826792]  \n20178     [0.044690657, 0.48747823, 0.4678312]  \n\n[20178 rows x 8 columns]",
      "text/html": "<div>\n<style scoped>\n    .dataframe tbody tr th:only-of-type {\n        vertical-align: middle;\n    }\n\n    .dataframe tbody tr th {\n        vertical-align: top;\n    }\n\n    .dataframe thead th {\n        text-align: right;\n    }\n</style>\n<table border=\"1\" class=\"dataframe\">\n  <thead>\n    <tr style=\"text-align: right;\">\n      <th></th>\n      <th>id</th>\n      <th>label</th>\n      <th>tweet</th>\n      <th>tweet_cleaned</th>\n      <th>user_handle</th>\n      <th>hashtags</th>\n      <th>emojis</th>\n      <th>tweet_cleaned_roberta_predictions</th>\n    </tr>\n  </thead>\n  <tbody>\n    <tr>\n      <th>0</th>\n      <td>8886</td>\n      <td>0</td>\n      <td>@user #cinemaaawards final rehearsals!! geari...</td>\n      <td>cinema award final rehearsal gear evening butt...</td>\n      <td>1</td>\n      <td>['#cinemaaawards', '#butterflies', '#stage']</td>\n      <td>NaN</td>\n      <td>[0.011631846, 0.8329207, 0.15544751]</td>\n    </tr>\n    <tr>\n      <th>1</th>\n      <td>909</td>\n      <td>0</td>\n      <td>istg this is the best cheese ta but dayum expe...</td>\n      <td>tg good cheese day um expensive</td>\n      <td>0</td>\n      <td>[]</td>\n      <td>NaN</td>\n      <td>[0.17947705, 0.32253772, 0.49798524]</td>\n    </tr>\n    <tr>\n      <th>2</th>\n      <td>27613</td>\n      <td>0</td>\n      <td>this was amazing. the weather was not. #musica...</td>\n      <td>amazing weather musical london matilda west en...</td>\n      <td>0</td>\n      <td>['#musical', '#london', '#matilda', '#westend'...</td>\n      <td>NaN</td>\n      <td>[0.0014606817, 0.025883349, 0.97265595]</td>\n    </tr>\n    <tr>\n      <th>3</th>\n      <td>15999</td>\n      <td>0</td>\n      <td>yes! #talented #sexy   ‘criminal minds’ casts ...</td>\n      <td>yes talented sexy ' criminal mind ' cast serie...</td>\n      <td>2</td>\n      <td>['#talented', '#sexy']</td>\n      <td>NaN</td>\n      <td>[0.0022572489, 0.062179178, 0.93556356]</td>\n    </tr>\n    <tr>\n      <th>4</th>\n      <td>23817</td>\n      <td>0</td>\n      <td>want to be   while being #successful? see how ...</td>\n      <td>want successful see work life balance help</td>\n      <td>2</td>\n      <td>['#successful', '#worklifebalance']</td>\n      <td>NaN</td>\n      <td>[0.0322919, 0.43325263, 0.5344555]</td>\n    </tr>\n    <tr>\n      <th>...</th>\n      <td>...</td>\n      <td>...</td>\n      <td>...</td>\n      <td>...</td>\n      <td>...</td>\n      <td>...</td>\n      <td>...</td>\n      <td>...</td>\n    </tr>\n    <tr>\n      <th>20174</th>\n      <td>16407</td>\n      <td>0</td>\n      <td>joshwin is always like this! 😂😂 what's wrong w...</td>\n      <td>josh win always like face tear joy tear joy wr...</td>\n      <td>0</td>\n      <td>[]</td>\n      <td>__face_with_tears_of_joy__,__face_with_tears_o...</td>\n      <td>[0.3770243, 0.42588902, 0.19708675]</td>\n    </tr>\n    <tr>\n      <th>20175</th>\n      <td>6526</td>\n      <td>0</td>\n      <td>#makaveli #day   i hit 1000 plays with this ...</td>\n      <td>makaveli day hit play one hear even thugge lil...</td>\n      <td>0</td>\n      <td>['#makaveli', '#day', '#kingtutkafafi']</td>\n      <td>NaN</td>\n      <td>[0.018977983, 0.52240974, 0.45861232]</td>\n    </tr>\n    <tr>\n      <th>20176</th>\n      <td>8002</td>\n      <td>1</td>\n      <td>video men and women malayalees xxx pictureban...</td>\n      <td>video man woman malaya lee xxx picture banglad...</td>\n      <td>0</td>\n      <td>[]</td>\n      <td>NaN</td>\n      <td>[0.017293481, 0.8894819, 0.09322464]</td>\n    </tr>\n    <tr>\n      <th>20177</th>\n      <td>323</td>\n      <td>0</td>\n      <td>hahaha.. this is me last #friday   &amp;amp; #weird</td>\n      <td>hahaha last friday weird</td>\n      <td>0</td>\n      <td>['#friday', '#weird']</td>\n      <td>NaN</td>\n      <td>[0.18371728, 0.61801475, 0.19826792]</td>\n    </tr>\n    <tr>\n      <th>20178</th>\n      <td>16978</td>\n      <td>0</td>\n      <td>i think i would be a cute man lol #snapchat #f...</td>\n      <td>think would cute man laugh loud snapchat filte...</td>\n      <td>0</td>\n      <td>['#snapchat', '#filter', '#thursday', '#summei...</td>\n      <td>NaN</td>\n      <td>[0.044690657, 0.48747823, 0.4678312]</td>\n    </tr>\n  </tbody>\n</table>\n<p>20178 rows × 8 columns</p>\n</div>"
     },
     "execution_count": 21,
     "metadata": {},
     "output_type": "execute_result"
    }
   ],
   "source": [
    "df_train_cleaned"
   ],
   "metadata": {
    "collapsed": false,
    "ExecuteTime": {
     "end_time": "2024-12-09T03:57:00.017784400Z",
     "start_time": "2024-12-09T03:56:59.974746Z"
    }
   }
  },
  {
   "cell_type": "markdown",
   "source": [
    "### Predict \"tweet\""
   ],
   "metadata": {
    "collapsed": false
   }
  },
  {
   "cell_type": "code",
   "execution_count": 22,
   "outputs": [],
   "source": [
    "df_train_cleaned[\"tweet_uncleaned_roberta_predictions\"] = df_train_cleaned[\"tweet\"].apply(predict)"
   ],
   "metadata": {
    "collapsed": false,
    "ExecuteTime": {
     "end_time": "2024-12-09T16:30:21.322909200Z",
     "start_time": "2024-12-09T03:57:00.007775200Z"
    }
   }
  },
  {
   "cell_type": "markdown",
   "source": [
    "### Save prediction results"
   ],
   "metadata": {
    "collapsed": false
   }
  },
  {
   "cell_type": "code",
   "execution_count": 26,
   "outputs": [],
   "source": [
    "df_train_cleaned.to_csv(\"roberta_results.csv\")"
   ],
   "metadata": {
    "collapsed": false,
    "ExecuteTime": {
     "end_time": "2024-12-09T18:41:02.966462600Z",
     "start_time": "2024-12-09T18:40:58.467219800Z"
    }
   }
  },
  {
   "cell_type": "code",
   "execution_count": 27,
   "outputs": [
    {
     "data": {
      "text/plain": "   Unnamed: 0     id  label  \\\n0           0   8886      0   \n1           1    909      0   \n2           2  27613      0   \n3           3  15999      0   \n4           4  23817      0   \n\n                                               tweet  \\\n0   @user #cinemaaawards final rehearsals!! geari...   \n1  istg this is the best cheese ta but dayum expe...   \n2  this was amazing. the weather was not. #musica...   \n3  yes! #talented #sexy   ‘criminal minds’ casts ...   \n4  want to be   while being #successful? see how ...   \n\n                                       tweet_cleaned  user_handle  \\\n0  cinema award final rehearsal gear evening butt...            1   \n1                    tg good cheese day um expensive            0   \n2  amazing weather musical london matilda west en...            0   \n3  yes talented sexy ' criminal mind ' cast serie...            2   \n4         want successful see work life balance help            2   \n\n                                            hashtags emojis  \\\n0       ['#cinemaaawards', '#butterflies', '#stage']    NaN   \n1                                                 []    NaN   \n2  ['#musical', '#london', '#matilda', '#westend'...    NaN   \n3                             ['#talented', '#sexy']    NaN   \n4                ['#successful', '#worklifebalance']    NaN   \n\n    tweet_cleaned_roberta_predictions tweet_uncleaned_roberta_predictions  \n0  [0.01163185 0.8329207  0.15544751]  [0.00121513 0.01826618 0.9805187 ]  \n1  [0.17947705 0.32253772 0.49798524]  [0.41535568 0.22157288 0.3630715 ]  \n2  [0.00146068 0.02588335 0.97265595]  [0.00485588 0.02015036 0.9749937 ]  \n3  [0.00225725 0.06217918 0.93556356]  [0.00162262 0.04763915 0.95073825]  \n4  [0.0322919  0.43325263 0.5344555 ]  [0.0041232  0.24599265 0.7498841 ]  ",
      "text/html": "<div>\n<style scoped>\n    .dataframe tbody tr th:only-of-type {\n        vertical-align: middle;\n    }\n\n    .dataframe tbody tr th {\n        vertical-align: top;\n    }\n\n    .dataframe thead th {\n        text-align: right;\n    }\n</style>\n<table border=\"1\" class=\"dataframe\">\n  <thead>\n    <tr style=\"text-align: right;\">\n      <th></th>\n      <th>Unnamed: 0</th>\n      <th>id</th>\n      <th>label</th>\n      <th>tweet</th>\n      <th>tweet_cleaned</th>\n      <th>user_handle</th>\n      <th>hashtags</th>\n      <th>emojis</th>\n      <th>tweet_cleaned_roberta_predictions</th>\n      <th>tweet_uncleaned_roberta_predictions</th>\n    </tr>\n  </thead>\n  <tbody>\n    <tr>\n      <th>0</th>\n      <td>0</td>\n      <td>8886</td>\n      <td>0</td>\n      <td>@user #cinemaaawards final rehearsals!! geari...</td>\n      <td>cinema award final rehearsal gear evening butt...</td>\n      <td>1</td>\n      <td>['#cinemaaawards', '#butterflies', '#stage']</td>\n      <td>NaN</td>\n      <td>[0.01163185 0.8329207  0.15544751]</td>\n      <td>[0.00121513 0.01826618 0.9805187 ]</td>\n    </tr>\n    <tr>\n      <th>1</th>\n      <td>1</td>\n      <td>909</td>\n      <td>0</td>\n      <td>istg this is the best cheese ta but dayum expe...</td>\n      <td>tg good cheese day um expensive</td>\n      <td>0</td>\n      <td>[]</td>\n      <td>NaN</td>\n      <td>[0.17947705 0.32253772 0.49798524]</td>\n      <td>[0.41535568 0.22157288 0.3630715 ]</td>\n    </tr>\n    <tr>\n      <th>2</th>\n      <td>2</td>\n      <td>27613</td>\n      <td>0</td>\n      <td>this was amazing. the weather was not. #musica...</td>\n      <td>amazing weather musical london matilda west en...</td>\n      <td>0</td>\n      <td>['#musical', '#london', '#matilda', '#westend'...</td>\n      <td>NaN</td>\n      <td>[0.00146068 0.02588335 0.97265595]</td>\n      <td>[0.00485588 0.02015036 0.9749937 ]</td>\n    </tr>\n    <tr>\n      <th>3</th>\n      <td>3</td>\n      <td>15999</td>\n      <td>0</td>\n      <td>yes! #talented #sexy   ‘criminal minds’ casts ...</td>\n      <td>yes talented sexy ' criminal mind ' cast serie...</td>\n      <td>2</td>\n      <td>['#talented', '#sexy']</td>\n      <td>NaN</td>\n      <td>[0.00225725 0.06217918 0.93556356]</td>\n      <td>[0.00162262 0.04763915 0.95073825]</td>\n    </tr>\n    <tr>\n      <th>4</th>\n      <td>4</td>\n      <td>23817</td>\n      <td>0</td>\n      <td>want to be   while being #successful? see how ...</td>\n      <td>want successful see work life balance help</td>\n      <td>2</td>\n      <td>['#successful', '#worklifebalance']</td>\n      <td>NaN</td>\n      <td>[0.0322919  0.43325263 0.5344555 ]</td>\n      <td>[0.0041232  0.24599265 0.7498841 ]</td>\n    </tr>\n  </tbody>\n</table>\n</div>"
     },
     "execution_count": 27,
     "metadata": {},
     "output_type": "execute_result"
    }
   ],
   "source": [
    "results = pd.read_csv(\"roberta_results.csv\")\n",
    "results.head()"
   ],
   "metadata": {
    "collapsed": false,
    "ExecuteTime": {
     "end_time": "2024-12-09T18:41:06.980347Z",
     "start_time": "2024-12-09T18:41:06.803206200Z"
    }
   }
  },
  {
   "cell_type": "code",
   "execution_count": null,
   "outputs": [],
   "source": [],
   "metadata": {
    "collapsed": false
   }
  }
 ],
 "metadata": {
  "kernelspec": {
   "display_name": "Python 3",
   "language": "python",
   "name": "python3"
  },
  "language_info": {
   "codemirror_mode": {
    "name": "ipython",
    "version": 2
   },
   "file_extension": ".py",
   "mimetype": "text/x-python",
   "name": "python",
   "nbconvert_exporter": "python",
   "pygments_lexer": "ipython2",
   "version": "2.7.6"
  }
 },
 "nbformat": 4,
 "nbformat_minor": 0
}
