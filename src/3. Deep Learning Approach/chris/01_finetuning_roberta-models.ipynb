{
 "cells": [
  {
   "cell_type": "code",
   "execution_count": null,
   "metadata": {
    "collapsed": false,
    "jupyter": {
     "outputs_hidden": false
    }
   },
   "outputs": [],
   "source": [
    "# https://medium.com/@coderhack.com/fine-tuning-bert-for-text-classification-a-step-by-step-guide-1a1c5f8e8ae1\n",
    "# https://www.kaggle.com/code/neerajmohan/fine-tuning-bert-for-text-classification/notebook#Aproach"
   ]
  },
  {
   "cell_type": "code",
   "execution_count": 33,
   "metadata": {},
   "outputs": [
    {
     "name": "stderr",
     "output_type": "stream",
     "text": [
      "huggingface/tokenizers: The current process just got forked, after parallelism has already been used. Disabling parallelism to avoid deadlocks...\n",
      "To disable this warning, you can either:\n",
      "\t- Avoid using `tokenizers` before the fork if possible\n",
      "\t- Explicitly set the environment variable TOKENIZERS_PARALLELISM=(true | false)\n"
     ]
    },
    {
     "name": "stdout",
     "output_type": "stream",
     "text": [
      "Collecting peft==0.10.0\n",
      "  Downloading peft-0.10.0-py3-none-any.whl.metadata (13 kB)\n",
      "Requirement already satisfied: numpy>=1.17 in /opt/conda/lib/python3.11/site-packages (from peft==0.10.0) (1.24.4)\n",
      "Requirement already satisfied: packaging>=20.0 in /opt/conda/lib/python3.11/site-packages (from peft==0.10.0) (23.2)\n",
      "Requirement already satisfied: psutil in /opt/conda/lib/python3.11/site-packages (from peft==0.10.0) (5.9.5)\n",
      "Requirement already satisfied: pyyaml in /opt/conda/lib/python3.11/site-packages (from peft==0.10.0) (6.0.1)\n",
      "Requirement already satisfied: torch>=1.13.0 in /opt/conda/lib/python3.11/site-packages (from peft==0.10.0) (2.6.0)\n",
      "Requirement already satisfied: transformers in /opt/conda/lib/python3.11/site-packages (from peft==0.10.0) (4.49.0)\n",
      "Requirement already satisfied: tqdm in /opt/conda/lib/python3.11/site-packages (from peft==0.10.0) (4.66.1)\n",
      "Collecting accelerate>=0.21.0 (from peft==0.10.0)\n",
      "  Downloading accelerate-1.4.0-py3-none-any.whl.metadata (19 kB)\n",
      "Requirement already satisfied: safetensors in /opt/conda/lib/python3.11/site-packages (from peft==0.10.0) (0.5.3)\n",
      "Requirement already satisfied: huggingface-hub>=0.17.0 in /opt/conda/lib/python3.11/site-packages (from peft==0.10.0) (0.29.1)\n",
      "Requirement already satisfied: filelock in /opt/conda/lib/python3.11/site-packages (from huggingface-hub>=0.17.0->peft==0.10.0) (3.17.0)\n",
      "Requirement already satisfied: fsspec>=2023.5.0 in /opt/conda/lib/python3.11/site-packages (from huggingface-hub>=0.17.0->peft==0.10.0) (2023.9.2)\n",
      "Requirement already satisfied: requests in /opt/conda/lib/python3.11/site-packages (from huggingface-hub>=0.17.0->peft==0.10.0) (2.31.0)\n",
      "Requirement already satisfied: typing-extensions>=3.7.4.3 in /opt/conda/lib/python3.11/site-packages (from huggingface-hub>=0.17.0->peft==0.10.0) (4.12.2)\n",
      "Requirement already satisfied: networkx in /opt/conda/lib/python3.11/site-packages (from torch>=1.13.0->peft==0.10.0) (3.2)\n",
      "Requirement already satisfied: jinja2 in /opt/conda/lib/python3.11/site-packages (from torch>=1.13.0->peft==0.10.0) (3.1.2)\n",
      "Requirement already satisfied: nvidia-cuda-nvrtc-cu12==12.4.127 in /opt/conda/lib/python3.11/site-packages (from torch>=1.13.0->peft==0.10.0) (12.4.127)\n",
      "Requirement already satisfied: nvidia-cuda-runtime-cu12==12.4.127 in /opt/conda/lib/python3.11/site-packages (from torch>=1.13.0->peft==0.10.0) (12.4.127)\n",
      "Requirement already satisfied: nvidia-cuda-cupti-cu12==12.4.127 in /opt/conda/lib/python3.11/site-packages (from torch>=1.13.0->peft==0.10.0) (12.4.127)\n",
      "Requirement already satisfied: nvidia-cudnn-cu12==9.1.0.70 in /opt/conda/lib/python3.11/site-packages (from torch>=1.13.0->peft==0.10.0) (9.1.0.70)\n",
      "Requirement already satisfied: nvidia-cublas-cu12==12.4.5.8 in /opt/conda/lib/python3.11/site-packages (from torch>=1.13.0->peft==0.10.0) (12.4.5.8)\n",
      "Requirement already satisfied: nvidia-cufft-cu12==11.2.1.3 in /opt/conda/lib/python3.11/site-packages (from torch>=1.13.0->peft==0.10.0) (11.2.1.3)\n",
      "Requirement already satisfied: nvidia-curand-cu12==10.3.5.147 in /opt/conda/lib/python3.11/site-packages (from torch>=1.13.0->peft==0.10.0) (10.3.5.147)\n",
      "Requirement already satisfied: nvidia-cusolver-cu12==11.6.1.9 in /opt/conda/lib/python3.11/site-packages (from torch>=1.13.0->peft==0.10.0) (11.6.1.9)\n",
      "Requirement already satisfied: nvidia-cusparse-cu12==12.3.1.170 in /opt/conda/lib/python3.11/site-packages (from torch>=1.13.0->peft==0.10.0) (12.3.1.170)\n",
      "Requirement already satisfied: nvidia-cusparselt-cu12==0.6.2 in /opt/conda/lib/python3.11/site-packages (from torch>=1.13.0->peft==0.10.0) (0.6.2)\n",
      "Requirement already satisfied: nvidia-nccl-cu12==2.21.5 in /opt/conda/lib/python3.11/site-packages (from torch>=1.13.0->peft==0.10.0) (2.21.5)\n",
      "Requirement already satisfied: nvidia-nvtx-cu12==12.4.127 in /opt/conda/lib/python3.11/site-packages (from torch>=1.13.0->peft==0.10.0) (12.4.127)\n",
      "Requirement already satisfied: nvidia-nvjitlink-cu12==12.4.127 in /opt/conda/lib/python3.11/site-packages (from torch>=1.13.0->peft==0.10.0) (12.4.127)\n",
      "Requirement already satisfied: triton==3.2.0 in /opt/conda/lib/python3.11/site-packages (from torch>=1.13.0->peft==0.10.0) (3.2.0)\n",
      "Requirement already satisfied: sympy==1.13.1 in /opt/conda/lib/python3.11/site-packages (from torch>=1.13.0->peft==0.10.0) (1.13.1)\n",
      "Requirement already satisfied: mpmath<1.4,>=1.1.0 in /opt/conda/lib/python3.11/site-packages (from sympy==1.13.1->torch>=1.13.0->peft==0.10.0) (1.3.0)\n",
      "Requirement already satisfied: regex!=2019.12.17 in /opt/conda/lib/python3.11/site-packages (from transformers->peft==0.10.0) (2024.11.6)\n",
      "Requirement already satisfied: tokenizers<0.22,>=0.21 in /opt/conda/lib/python3.11/site-packages (from transformers->peft==0.10.0) (0.21.0)\n",
      "Requirement already satisfied: MarkupSafe>=2.0 in /opt/conda/lib/python3.11/site-packages (from jinja2->torch>=1.13.0->peft==0.10.0) (2.1.3)\n",
      "Requirement already satisfied: charset-normalizer<4,>=2 in /opt/conda/lib/python3.11/site-packages (from requests->huggingface-hub>=0.17.0->peft==0.10.0) (3.3.0)\n",
      "Requirement already satisfied: idna<4,>=2.5 in /opt/conda/lib/python3.11/site-packages (from requests->huggingface-hub>=0.17.0->peft==0.10.0) (3.4)\n",
      "Requirement already satisfied: urllib3<3,>=1.21.1 in /opt/conda/lib/python3.11/site-packages (from requests->huggingface-hub>=0.17.0->peft==0.10.0) (2.0.7)\n",
      "Requirement already satisfied: certifi>=2017.4.17 in /opt/conda/lib/python3.11/site-packages (from requests->huggingface-hub>=0.17.0->peft==0.10.0) (2023.7.22)\n",
      "Downloading peft-0.10.0-py3-none-any.whl (199 kB)\n",
      "\u001b[2K   \u001b[90m━━━━━━━━━━━━━━━━━━━━━━━━━━━━━━━━━━━━━━━━\u001b[0m \u001b[32m199.1/199.1 kB\u001b[0m \u001b[31m3.7 MB/s\u001b[0m eta \u001b[36m0:00:00\u001b[0m00:01\u001b[0m\n",
      "\u001b[?25hDownloading accelerate-1.4.0-py3-none-any.whl (342 kB)\n",
      "\u001b[2K   \u001b[90m━━━━━━━━━━━━━━━━━━━━━━━━━━━━━━━━━━━━━━━━\u001b[0m \u001b[32m342.1/342.1 kB\u001b[0m \u001b[31m10.3 MB/s\u001b[0m eta \u001b[36m0:00:00\u001b[0m\n",
      "\u001b[?25hInstalling collected packages: accelerate, peft\n",
      "Successfully installed accelerate-1.4.0 peft-0.10.0\n"
     ]
    }
   ],
   "source": [
    "!pip install peft==0.10.0"
   ]
  },
  {
   "cell_type": "code",
   "execution_count": 49,
   "metadata": {
    "ExecuteTime": {
     "end_time": "2025-03-01T11:16:57.012499600Z",
     "start_time": "2025-03-01T11:16:52.153696400Z"
    }
   },
   "outputs": [],
   "source": [
    "import numpy as np\n",
    "import pandas as pd\n",
    "import time\n",
    "import datetime\n",
    "import random\n",
    "\n",
    "import torch\n",
    "from torch.utils.data import TensorDataset, DataLoader, RandomSampler, SequentialSampler\n",
    "from sklearn.model_selection import train_test_split\n",
    "from sklearn.metrics import classification_report, f1_score\n",
    "\n",
    "from transformers import AdamW, get_linear_schedule_with_warmup, AutoTokenizer\n",
    "from transformers import AutoModelForSequenceClassification\n",
    "\n",
    "from matplotlib import pyplot as plt\n",
    "from sklearn.metrics import confusion_matrix, ConfusionMatrixDisplay\n",
    "from sklearn.metrics import accuracy_score, precision_score, recall_score, matthews_corrcoef\n",
    "\n",
    "from peft import (\n",
    "    LoraConfig,\n",
    "    get_peft_model,\n",
    "    TaskType\n",
    ")"
   ]
  },
  {
   "cell_type": "code",
   "execution_count": 50,
   "metadata": {
    "ExecuteTime": {
     "end_time": "2025-03-01T11:16:57.016147400Z",
     "start_time": "2025-03-01T11:16:57.012499600Z"
    },
    "collapsed": false,
    "jupyter": {
     "outputs_hidden": false
    }
   },
   "outputs": [],
   "source": [
    "import warnings\n",
    "\n",
    "warnings.filterwarnings('ignore')"
   ]
  },
  {
   "cell_type": "code",
   "execution_count": 51,
   "metadata": {
    "ExecuteTime": {
     "end_time": "2025-03-01T11:16:57.022525800Z",
     "start_time": "2025-03-01T11:16:57.016147400Z"
    },
    "collapsed": false,
    "jupyter": {
     "outputs_hidden": false
    }
   },
   "outputs": [
    {
     "data": {
      "text/plain": [
       "device(type='cuda', index=0)"
      ]
     },
     "execution_count": 51,
     "metadata": {},
     "output_type": "execute_result"
    }
   ],
   "source": [
    "device = torch.device(\"cuda:0\" if torch.cuda.is_available() else \"cpu\")\n",
    "device"
   ]
  },
  {
   "cell_type": "markdown",
   "metadata": {
    "collapsed": false,
    "jupyter": {
     "outputs_hidden": false
    }
   },
   "source": [
    "### 1. Functions"
   ]
  },
  {
   "cell_type": "markdown",
   "metadata": {
    "collapsed": false,
    "jupyter": {
     "outputs_hidden": false
    }
   },
   "source": [
    "#### 1.1 Max_len, Datasets, Dataloader etc."
   ]
  },
  {
   "cell_type": "code",
   "execution_count": 4,
   "metadata": {
    "ExecuteTime": {
     "end_time": "2025-03-01T11:17:44.798681400Z",
     "start_time": "2025-03-01T11:17:44.772272500Z"
    },
    "collapsed": false,
    "jupyter": {
     "outputs_hidden": false
    }
   },
   "outputs": [],
   "source": [
    "def get_max_len(tweets, tokenizer):\n",
    "    max_len = 0\n",
    "    for sent in tweets:\n",
    "        input_ids = tokenizer.encode(sent, add_special_tokens=True)\n",
    "        max_len = max(max_len, len(input_ids))\n",
    "    return max_len"
   ]
  },
  {
   "cell_type": "code",
   "execution_count": 71,
   "metadata": {
    "ExecuteTime": {
     "end_time": "2025-03-01T11:17:45.212577400Z",
     "start_time": "2025-03-01T11:17:45.192749300Z"
    },
    "collapsed": false,
    "jupyter": {
     "outputs_hidden": false
    }
   },
   "outputs": [],
   "source": [
    "def create_dataset(tokenizer, labels_data, tweets_data, max_len):\n",
    "    input_ids = []\n",
    "    attention_masks = []\n",
    "\n",
    "    for tweet in tweets_data:\n",
    "        encoded_dict = tokenizer.encode_plus(\n",
    "            tweet,\n",
    "            add_special_tokens=True,\n",
    "            max_length=256,\n",
    "            pad_to_max_length=True,\n",
    "            return_attention_mask=True,\n",
    "            return_tensors='pt',\n",
    "            truncation=True,\n",
    "        )\n",
    "\n",
    "        input_ids.append(encoded_dict['input_ids'])\n",
    "        attention_masks.append(encoded_dict['attention_mask'])\n",
    "\n",
    "    input_ids = torch.cat(input_ids, dim=0)\n",
    "    attention_masks = torch.cat(attention_masks, dim=0)\n",
    "    labels = torch.tensor(labels_data)\n",
    "    dataset = TensorDataset(input_ids, attention_masks, labels)\n",
    "\n",
    "    return dataset\n"
   ]
  },
  {
   "cell_type": "code",
   "execution_count": 6,
   "metadata": {
    "ExecuteTime": {
     "end_time": "2025-03-01T11:17:45.839334900Z",
     "start_time": "2025-03-01T11:17:45.806867300Z"
    },
    "collapsed": false,
    "jupyter": {
     "outputs_hidden": false
    }
   },
   "outputs": [],
   "source": [
    "def get_dataloader(batch_size, dataset, sampler):\n",
    "    if sampler == \"random\":\n",
    "        return DataLoader(\n",
    "            dataset,\n",
    "            sampler=RandomSampler(dataset),\n",
    "            batch_size=batch_size\n",
    "        )\n",
    "\n",
    "    if sampler == \"sequential\":\n",
    "        return DataLoader(\n",
    "            dataset,\n",
    "            sampler=SequentialSampler(dataset),\n",
    "            batch_size=batch_size\n",
    "        )"
   ]
  },
  {
   "cell_type": "code",
   "execution_count": 7,
   "metadata": {
    "ExecuteTime": {
     "end_time": "2025-03-01T11:17:46.178153300Z",
     "start_time": "2025-03-01T11:17:46.149356800Z"
    },
    "collapsed": false,
    "jupyter": {
     "outputs_hidden": false
    }
   },
   "outputs": [],
   "source": [
    "def init_training(model, tokenizer, x_data, y_data):\n",
    "    X_train, X_val, y_train, y_val = train_test_split(x_data, y_data, test_size=0.2, random_state=42,\n",
    "                                                  stratify=y_data)\n",
    "    max_len = get_max_len(x_data, tokenizer)\n",
    "\n",
    "    train_data = create_dataset(tokenizer=tokenizer, labels_data=y_train,\n",
    "                            tweets_data=X_train, max_len=max_len)\n",
    "    val_data = create_dataset(tokenizer=tokenizer, labels_data=y_val,\n",
    "                              tweets_data=X_val, max_len=max_len)\n",
    "\n",
    "    train_dataloader = get_dataloader(batch_size=batch_size, dataset=train_data, sampler=\"random\")\n",
    "    val_dataloader = get_dataloader(batch_size=batch_size, dataset=val_data, sampler=\"sequential\")\n",
    "\n",
    "    optimizer = AdamW(model.parameters(), lr=1e-5, eps=1e-8)\n",
    "    scheduler = get_linear_schedule_with_warmup(optimizer,\n",
    "                                                num_warmup_steps=0,\n",
    "                                                num_training_steps=len(train_dataloader) * epochs)\n",
    "\n",
    "    return train_dataloader, val_dataloader, optimizer, scheduler"
   ]
  },
  {
   "cell_type": "code",
   "execution_count": 8,
   "metadata": {
    "ExecuteTime": {
     "end_time": "2025-03-01T11:17:47.277866900Z",
     "start_time": "2025-03-01T11:17:47.217344400Z"
    },
    "collapsed": false,
    "jupyter": {
     "outputs_hidden": false
    }
   },
   "outputs": [],
   "source": [
    "def save_model(path, model, tokenizer):\n",
    "    model.save_pretrained(path)\n",
    "    tokenizer.save_pretrained(path)"
   ]
  },
  {
   "cell_type": "code",
   "execution_count": 37,
   "metadata": {},
   "outputs": [],
   "source": [
    "def print_number_of_trainable_model_parameters(model):\n",
    "    trainable_model_params = 0\n",
    "    all_model_params = 0\n",
    "    for _, param in model.named_parameters():\n",
    "        all_model_params += param.numel()\n",
    "        if param.requires_grad:\n",
    "            trainable_model_params += param.numel()\n",
    "    return f\"trainable model parameters: {trainable_model_params}\\nall model parameters: {all_model_params}\\npercentage of trainable model parameters: {100 * trainable_model_params / all_model_params:.2f}%\""
   ]
  },
  {
   "cell_type": "markdown",
   "metadata": {
    "collapsed": false,
    "jupyter": {
     "outputs_hidden": false
    }
   },
   "source": [
    "#### 1.2 Evaluation functions"
   ]
  },
  {
   "cell_type": "code",
   "execution_count": 9,
   "metadata": {
    "ExecuteTime": {
     "end_time": "2025-03-01T11:17:47.869272700Z",
     "start_time": "2025-03-01T11:17:47.844763400Z"
    },
    "collapsed": false,
    "jupyter": {
     "outputs_hidden": false
    }
   },
   "outputs": [],
   "source": [
    "def flat_accuracy(preds, labels):\n",
    "    pred_flat = np.argmax(preds, axis=1).flatten()\n",
    "    labels_flat = labels.flatten()\n",
    "    return np.sum(pred_flat == labels_flat) / len(labels_flat)"
   ]
  },
  {
   "cell_type": "code",
   "execution_count": 10,
   "metadata": {
    "ExecuteTime": {
     "end_time": "2025-03-01T11:17:48.180726200Z",
     "start_time": "2025-03-01T11:17:48.136717900Z"
    },
    "collapsed": false,
    "jupyter": {
     "outputs_hidden": false
    }
   },
   "outputs": [],
   "source": [
    "def calc_f1_score(preds, labels):\n",
    "    pred_flat = np.argmax(preds, axis=1).flatten()\n",
    "    labels_flat = labels.flatten()\n",
    "    return f1_score(labels_flat, pred_flat, average='macro')"
   ]
  },
  {
   "cell_type": "code",
   "execution_count": 11,
   "metadata": {
    "ExecuteTime": {
     "end_time": "2025-03-01T11:17:48.492384700Z",
     "start_time": "2025-03-01T11:17:48.468380Z"
    },
    "collapsed": false,
    "jupyter": {
     "outputs_hidden": false
    }
   },
   "outputs": [],
   "source": [
    "def format_time(elapsed):\n",
    "    elapsed_rounded = int(round((elapsed)))\n",
    "    return str(datetime.timedelta(seconds=elapsed_rounded))"
   ]
  },
  {
   "cell_type": "code",
   "execution_count": 12,
   "metadata": {
    "ExecuteTime": {
     "end_time": "2025-03-01T11:17:48.914410300Z",
     "start_time": "2025-03-01T11:17:48.889902600Z"
    },
    "collapsed": false,
    "jupyter": {
     "outputs_hidden": false
    }
   },
   "outputs": [],
   "source": [
    "def plot_confusion_matrix(true_labels, predictions, class_names):\n",
    "    cm = confusion_matrix(true_labels, predictions)\n",
    "    disp = ConfusionMatrixDisplay(confusion_matrix=cm, display_labels=class_names)\n",
    "    disp.plot(cmap=plt.cm.Blues, values_format='d')\n",
    "    plt.title(\"Confusion Matrix\")\n",
    "    plt.show()"
   ]
  },
  {
   "cell_type": "markdown",
   "metadata": {
    "collapsed": false,
    "jupyter": {
     "outputs_hidden": false
    }
   },
   "source": [
    "#### 1.3 training, validation & test"
   ]
  },
  {
   "cell_type": "code",
   "execution_count": 13,
   "metadata": {
    "ExecuteTime": {
     "end_time": "2025-03-01T11:17:50.208502200Z",
     "start_time": "2025-03-01T11:17:50.184500800Z"
    },
    "collapsed": false,
    "jupyter": {
     "outputs_hidden": false
    }
   },
   "outputs": [],
   "source": [
    "def train_model(epochs, train_dataloader, validation_dataloader, optimizer, model, scheduler):\n",
    "    seed_val = 42\n",
    "    random.seed(seed_val)\n",
    "    np.random.seed(seed_val)\n",
    "    torch.manual_seed(seed_val)\n",
    "    torch.cuda.manual_seed_all(seed_val)\n",
    "    training_stats = []\n",
    "\n",
    "    total_t0 = time.time()\n",
    "    best_overall_eval_f1 = 0\n",
    "    best_model = model\n",
    "    for epoch_i in range(0, epochs):\n",
    "\n",
    "        # ========================================\n",
    "        #               Training\n",
    "        # ========================================\n",
    "        print(\"\")\n",
    "        print('======== Epoch {:} / {:} ========'.format(epoch_i + 1, epochs))\n",
    "        print('Training...')\n",
    "\n",
    "        t0 = time.time()\n",
    "        total_train_loss = 0\n",
    "        model.train()\n",
    "        for step, batch in enumerate(train_dataloader):\n",
    "            b_input_ids = batch[0].to(device)\n",
    "            b_input_mask = batch[1].to(device)\n",
    "            b_labels = batch[2].to(device)\n",
    "            optimizer.zero_grad()\n",
    "            output = model(b_input_ids,\n",
    "                           token_type_ids=None,\n",
    "                           attention_mask=b_input_mask,\n",
    "                           labels=b_labels)\n",
    "            loss = output.loss\n",
    "            total_train_loss += loss.item()\n",
    "            loss.backward()\n",
    "            torch.nn.utils.clip_grad_norm_(model.parameters(), 1.0)\n",
    "            optimizer.step()\n",
    "            scheduler.step()\n",
    "\n",
    "        avg_train_loss = total_train_loss / len(train_dataloader)\n",
    "        training_time = format_time(time.time() - t0)\n",
    "        print(\"\")\n",
    "        print(\"  Average training loss: {0:.2f}\".format(avg_train_loss))\n",
    "        print(\"  Training epoch took: {:}\".format(training_time))\n",
    "\n",
    "        # ========================================\n",
    "        #               Validation\n",
    "        # ========================================\n",
    "        print(\"\")\n",
    "        print(\"Running Validation...\")\n",
    "        t0 = time.time()\n",
    "\n",
    "        model.eval()\n",
    "        total_eval_f1score = 0\n",
    "        best_eval_f1score = best_overall_eval_f1\n",
    "        total_eval_loss = 0\n",
    "        for batch in validation_dataloader:\n",
    "            b_input_ids = batch[0].to(device)\n",
    "            b_input_mask = batch[1].to(device)\n",
    "            b_labels = batch[2].to(device)\n",
    "            with torch.no_grad():\n",
    "                output = model(b_input_ids,\n",
    "                               token_type_ids=None,\n",
    "                               attention_mask=b_input_mask,\n",
    "                               labels=b_labels)\n",
    "            loss = output.loss\n",
    "            total_eval_loss += loss.item()\n",
    "\n",
    "            logits = output.logits\n",
    "            logits = logits.detach().cpu().numpy()\n",
    "            label_ids = b_labels.to('cpu').numpy()\n",
    "\n",
    "            # calculate f1 score\n",
    "            total_eval_f1score += calc_f1_score(logits, label_ids)\n",
    "\n",
    "        avg_val_f1score = total_eval_f1score / len(validation_dataloader)\n",
    "        print(\"  F1-Score (macro): {0:.2f}\".format(avg_val_f1score))\n",
    "        avg_val_loss = total_eval_loss / len(validation_dataloader)\n",
    "        validation_time = format_time(time.time() - t0)\n",
    "\n",
    "        if avg_val_f1score > best_eval_f1score:\n",
    "            best_model = model\n",
    "            best_overall_eval_f1 = avg_val_f1score\n",
    "        training_stats.append(\n",
    "            {\n",
    "                'epoch': epoch_i + 1,\n",
    "                'Training Loss': avg_train_loss,\n",
    "                'Valid. Loss': avg_val_loss,\n",
    "                'Valid. F1-Score (macro).': avg_val_f1score,\n",
    "                'Training Time': training_time,\n",
    "                'Validation Time': validation_time\n",
    "            }\n",
    "        )\n",
    "    print(\"\")\n",
    "    print(\"Training complete!\")\n",
    "    print(\"Total training took {:} (h:mm:ss)\".format(format_time(time.time() - total_t0)))\n",
    "\n",
    "    return best_model"
   ]
  },
  {
   "cell_type": "code",
   "execution_count": 14,
   "metadata": {
    "ExecuteTime": {
     "end_time": "2025-03-01T11:17:50.836059Z",
     "start_time": "2025-03-01T11:17:50.808213500Z"
    },
    "collapsed": false,
    "jupyter": {
     "outputs_hidden": false
    }
   },
   "outputs": [],
   "source": [
    "def evaluate(dataloader, model, device):\n",
    "    model.eval()\n",
    "    total_loss = 0\n",
    "    predictions, true_labels = [], []\n",
    "    for batch in dataloader:\n",
    "        batch = tuple(b.to(device) for b in batch)\n",
    "        with torch.no_grad():\n",
    "            outputs = model(input_ids=batch[0], attention_mask=batch[1], labels=batch[2])\n",
    "        loss = outputs[0]\n",
    "        logits = outputs[1]\n",
    "        total_loss += loss.item()\n",
    "        predictions.append(logits.detach().cpu().numpy())\n",
    "        true_labels.append(batch[2].detach().cpu().numpy())\n",
    "    predictions = np.concatenate(predictions, axis=0)\n",
    "    true_labels = np.concatenate(true_labels, axis=0)\n",
    "    return total_loss / len(dataloader), predictions, true_labels"
   ]
  },
  {
   "cell_type": "code",
   "execution_count": 15,
   "metadata": {
    "ExecuteTime": {
     "end_time": "2025-03-01T11:17:51.192801800Z",
     "start_time": "2025-03-01T11:17:51.160420900Z"
    },
    "collapsed": false,
    "jupyter": {
     "outputs_hidden": false
    }
   },
   "outputs": [],
   "source": [
    "def test_model(model, tokenizer, x_data, y_data):\n",
    "    batch_size=16\n",
    "    max_len = get_max_len(x_data, tokenizer)\n",
    "    test_data = create_dataset(tokenizer=tokenizer, labels_data=y_data,\n",
    "                            tweets_data=X_test_tweets, max_len=max_len)\n",
    "    test_dataloader = get_dataloader(batch_size=batch_size, dataset=test_data, sampler=\"sequential\")\n",
    "\n",
    "\n",
    "    test_loss, predictions, true_labels = evaluate(test_dataloader, model, device)\n",
    "    preds_flat = np.argmax(predictions, axis=1).flatten()\n",
    "    labels_flat = true_labels.flatten()\n",
    "\n",
    "    test_acc = accuracy_score(labels_flat, preds_flat)\n",
    "    test_precision = precision_score(labels_flat, preds_flat)\n",
    "    test_recall = recall_score(labels_flat, preds_flat)\n",
    "    test_f1 = f1_score(labels_flat, preds_flat, average='macro')\n",
    "    test_mcc = matthews_corrcoef(labels_flat, preds_flat)\n",
    "\n",
    "    print(f\"Test Loss: {test_loss}\")\n",
    "    print(f\"Test Accuracy: {test_acc}\")\n",
    "    print(f\"Test Precision: {test_precision}\")\n",
    "    print(f\"Test Recall: {test_recall}\")\n",
    "    print(f\"Test F1: {test_f1}\")\n",
    "    print(f\"Test MCC: {test_mcc}\")\n",
    "\n",
    "    class_names = [\"No Hate-Speech\", \"Hate-Speech\"]\n",
    "    plot_confusion_matrix(labels_flat, preds_flat, class_names)\n",
    "    report = classification_report(labels_flat, preds_flat, target_names=class_names)\n",
    "    print(\"Classification Report:\")\n",
    "    print(report)"
   ]
  },
  {
   "cell_type": "markdown",
   "metadata": {
    "collapsed": false,
    "jupyter": {
     "outputs_hidden": false
    }
   },
   "source": [
    "### 2. Daten"
   ]
  },
  {
   "cell_type": "markdown",
   "metadata": {
    "collapsed": false,
    "jupyter": {
     "outputs_hidden": false
    }
   },
   "source": [
    "#### 2.1 Trainingsdaten"
   ]
  },
  {
   "cell_type": "code",
   "execution_count": 16,
   "metadata": {
    "ExecuteTime": {
     "end_time": "2025-03-01T11:17:53.415468700Z",
     "start_time": "2025-03-01T11:17:53.120697Z"
    },
    "collapsed": false,
    "jupyter": {
     "outputs_hidden": false
    }
   },
   "outputs": [
    {
     "data": {
      "text/html": [
       "<div>\n",
       "<style scoped>\n",
       "    .dataframe tbody tr th:only-of-type {\n",
       "        vertical-align: middle;\n",
       "    }\n",
       "\n",
       "    .dataframe tbody tr th {\n",
       "        vertical-align: top;\n",
       "    }\n",
       "\n",
       "    .dataframe thead th {\n",
       "        text-align: right;\n",
       "    }\n",
       "</style>\n",
       "<table border=\"1\" class=\"dataframe\">\n",
       "  <thead>\n",
       "    <tr style=\"text-align: right;\">\n",
       "      <th></th>\n",
       "      <th>Unnamed: 0</th>\n",
       "      <th>label</th>\n",
       "      <th>tweet</th>\n",
       "      <th>tweet_cleaned</th>\n",
       "      <th>user_handle</th>\n",
       "      <th>hashtags</th>\n",
       "      <th>emojis</th>\n",
       "    </tr>\n",
       "  </thead>\n",
       "  <tbody>\n",
       "    <tr>\n",
       "      <th>0</th>\n",
       "      <td>140232</td>\n",
       "      <td>0</td>\n",
       "      <td>Nicki's \"that's not good\" pout bought to you b...</td>\n",
       "      <td>nickis \" good pout buy botox trade mark mkr</td>\n",
       "      <td>0</td>\n",
       "      <td>['#mkr']</td>\n",
       "      <td>__trade_mark__</td>\n",
       "    </tr>\n",
       "    <tr>\n",
       "      <th>1</th>\n",
       "      <td>6083</td>\n",
       "      <td>0</td>\n",
       "      <td>@user @user @user @user @user @user  greater g...</td>\n",
       "      <td>great game ever fun possible</td>\n",
       "      <td>6</td>\n",
       "      <td>['#fun', '#possible']</td>\n",
       "      <td>NaN</td>\n",
       "    </tr>\n",
       "    <tr>\n",
       "      <th>2</th>\n",
       "      <td>62913</td>\n",
       "      <td>0</td>\n",
       "      <td>I love that you enjoy being trans.</td>\n",
       "      <td>love enjoy tran</td>\n",
       "      <td>0</td>\n",
       "      <td>[]</td>\n",
       "      <td>NaN</td>\n",
       "    </tr>\n",
       "    <tr>\n",
       "      <th>3</th>\n",
       "      <td>13525</td>\n",
       "      <td>0</td>\n",
       "      <td>yes good shapely eurotrash manbooty</td>\n",
       "      <td>yes good eurotrash</td>\n",
       "      <td>0</td>\n",
       "      <td>[]</td>\n",
       "      <td>NaN</td>\n",
       "    </tr>\n",
       "    <tr>\n",
       "      <th>4</th>\n",
       "      <td>6318</td>\n",
       "      <td>0</td>\n",
       "      <td>i can't wait for euro 2016 to sta on friday #e...</td>\n",
       "      <td>wait euro sta friday euro</td>\n",
       "      <td>0</td>\n",
       "      <td>['#euro2016']</td>\n",
       "      <td>NaN</td>\n",
       "    </tr>\n",
       "  </tbody>\n",
       "</table>\n",
       "</div>"
      ],
      "text/plain": [
       "   Unnamed: 0  label                                              tweet  \\\n",
       "0      140232      0  Nicki's \"that's not good\" pout bought to you b...   \n",
       "1        6083      0  @user @user @user @user @user @user  greater g...   \n",
       "2       62913      0                 I love that you enjoy being trans.   \n",
       "3       13525      0                yes good shapely eurotrash manbooty   \n",
       "4        6318      0  i can't wait for euro 2016 to sta on friday #e...   \n",
       "\n",
       "                                 tweet_cleaned  user_handle  \\\n",
       "0  nickis \" good pout buy botox trade mark mkr            0   \n",
       "1                 great game ever fun possible            6   \n",
       "2                              love enjoy tran            0   \n",
       "3                           yes good eurotrash            0   \n",
       "4                    wait euro sta friday euro            0   \n",
       "\n",
       "                hashtags          emojis  \n",
       "0               ['#mkr']  __trade_mark__  \n",
       "1  ['#fun', '#possible']             NaN  \n",
       "2                     []             NaN  \n",
       "3                     []             NaN  \n",
       "4          ['#euro2016']             NaN  "
      ]
     },
     "execution_count": 16,
     "metadata": {},
     "output_type": "execute_result"
    }
   ],
   "source": [
    "df_train = pd.read_csv(\"../data/train_cleaned.csv\")\n",
    "df_train = df_train[df_train.tweet_cleaned.notna() & df_train.tweet.notna()]\n",
    "\n",
    "df_train.head()"
   ]
  },
  {
   "cell_type": "markdown",
   "metadata": {},
   "source": [
    "##### 2.1.1 cleaned"
   ]
  },
  {
   "cell_type": "code",
   "execution_count": 17,
   "metadata": {
    "ExecuteTime": {
     "end_time": "2025-03-01T11:17:53.437605Z",
     "start_time": "2025-03-01T11:17:53.427460500Z"
    },
    "collapsed": false,
    "jupyter": {
     "outputs_hidden": false
    }
   },
   "outputs": [],
   "source": [
    "X_train_tweets = df_train.tweet_cleaned.values\n",
    "y_train_labels = df_train.label.values"
   ]
  },
  {
   "cell_type": "markdown",
   "metadata": {},
   "source": [
    "##### 2.1.2 uncleaned"
   ]
  },
  {
   "cell_type": "code",
   "execution_count": 18,
   "metadata": {},
   "outputs": [],
   "source": [
    "X_train_tweets_uncleaned = df_train.tweet.values"
   ]
  },
  {
   "cell_type": "markdown",
   "metadata": {
    "collapsed": false,
    "jupyter": {
     "outputs_hidden": false
    }
   },
   "source": [
    "#### 2.2 Testdaten"
   ]
  },
  {
   "cell_type": "code",
   "execution_count": 19,
   "metadata": {
    "ExecuteTime": {
     "end_time": "2025-03-01T11:17:54.280546700Z",
     "start_time": "2025-03-01T11:17:54.168419200Z"
    },
    "collapsed": false,
    "jupyter": {
     "outputs_hidden": false
    }
   },
   "outputs": [
    {
     "data": {
      "text/html": [
       "<div>\n",
       "<style scoped>\n",
       "    .dataframe tbody tr th:only-of-type {\n",
       "        vertical-align: middle;\n",
       "    }\n",
       "\n",
       "    .dataframe tbody tr th {\n",
       "        vertical-align: top;\n",
       "    }\n",
       "\n",
       "    .dataframe thead th {\n",
       "        text-align: right;\n",
       "    }\n",
       "</style>\n",
       "<table border=\"1\" class=\"dataframe\">\n",
       "  <thead>\n",
       "    <tr style=\"text-align: right;\">\n",
       "      <th></th>\n",
       "      <th>Unnamed: 0</th>\n",
       "      <th>label</th>\n",
       "      <th>tweet</th>\n",
       "      <th>tweet_cleaned</th>\n",
       "      <th>user_handle</th>\n",
       "      <th>hashtags</th>\n",
       "      <th>emojis</th>\n",
       "    </tr>\n",
       "  </thead>\n",
       "  <tbody>\n",
       "    <tr>\n",
       "      <th>0</th>\n",
       "      <td>8886</td>\n",
       "      <td>0</td>\n",
       "      <td>@user #cinemaaawards final rehearsals!! geari...</td>\n",
       "      <td>final gear evening butterfly stage hope like</td>\n",
       "      <td>1</td>\n",
       "      <td>['#cinemaaawards', '#butterflies', '#stage']</td>\n",
       "      <td>NaN</td>\n",
       "    </tr>\n",
       "    <tr>\n",
       "      <th>1</th>\n",
       "      <td>27613</td>\n",
       "      <td>0</td>\n",
       "      <td>this was amazing. the weather was not. #musica...</td>\n",
       "      <td>amazing weather musical london weekend …</td>\n",
       "      <td>0</td>\n",
       "      <td>['#musical', '#london', '#matilda', '#westend'...</td>\n",
       "      <td>NaN</td>\n",
       "    </tr>\n",
       "    <tr>\n",
       "      <th>2</th>\n",
       "      <td>18952</td>\n",
       "      <td>0</td>\n",
       "      <td>child attacked by alligator at walt disney wor...</td>\n",
       "      <td>child attack alligator disney world</td>\n",
       "      <td>0</td>\n",
       "      <td>['#waltdisneyworld']</td>\n",
       "      <td>NaN</td>\n",
       "    </tr>\n",
       "    <tr>\n",
       "      <th>3</th>\n",
       "      <td>12485</td>\n",
       "      <td>0</td>\n",
       "      <td>me rn cause school is over soon</td>\n",
       "      <td>right cause school soon</td>\n",
       "      <td>0</td>\n",
       "      <td>[]</td>\n",
       "      <td>NaN</td>\n",
       "    </tr>\n",
       "    <tr>\n",
       "      <th>4</th>\n",
       "      <td>5879</td>\n",
       "      <td>0</td>\n",
       "      <td>is it #good to #sleep when  ?  #good #sleep</td>\n",
       "      <td>good sleep good sleep</td>\n",
       "      <td>0</td>\n",
       "      <td>['#good', '#sleep', '#good', '#sleep']</td>\n",
       "      <td>NaN</td>\n",
       "    </tr>\n",
       "  </tbody>\n",
       "</table>\n",
       "</div>"
      ],
      "text/plain": [
       "   Unnamed: 0  label                                              tweet  \\\n",
       "0        8886      0   @user #cinemaaawards final rehearsals!! geari...   \n",
       "1       27613      0  this was amazing. the weather was not. #musica...   \n",
       "2       18952      0  child attacked by alligator at walt disney wor...   \n",
       "3       12485      0                 me rn cause school is over soon      \n",
       "4        5879      0       is it #good to #sleep when  ?  #good #sleep    \n",
       "\n",
       "                                  tweet_cleaned  user_handle  \\\n",
       "0  final gear evening butterfly stage hope like            1   \n",
       "1      amazing weather musical london weekend …            0   \n",
       "2           child attack alligator disney world            0   \n",
       "3                       right cause school soon            0   \n",
       "4                         good sleep good sleep            0   \n",
       "\n",
       "                                            hashtags emojis  \n",
       "0       ['#cinemaaawards', '#butterflies', '#stage']    NaN  \n",
       "1  ['#musical', '#london', '#matilda', '#westend'...    NaN  \n",
       "2                               ['#waltdisneyworld']    NaN  \n",
       "3                                                 []    NaN  \n",
       "4             ['#good', '#sleep', '#good', '#sleep']    NaN  "
      ]
     },
     "execution_count": 19,
     "metadata": {},
     "output_type": "execute_result"
    }
   ],
   "source": [
    "df_test = pd.read_csv(\"../data/test_cleaned.csv\")\n",
    "df_test = df_test[df_test.tweet_cleaned.notna() & df_test.tweet.notna()]\n",
    "\n",
    "df_test.head()"
   ]
  },
  {
   "cell_type": "markdown",
   "metadata": {},
   "source": [
    "##### 2.1.1 cleaned"
   ]
  },
  {
   "cell_type": "code",
   "execution_count": 20,
   "metadata": {},
   "outputs": [],
   "source": [
    "X_test_tweets = df_test.tweet_cleaned.values\n",
    "y_test_labels = df_test.label.values"
   ]
  },
  {
   "cell_type": "markdown",
   "metadata": {},
   "source": [
    "##### 2.1.2 uncleaned"
   ]
  },
  {
   "cell_type": "code",
   "execution_count": 21,
   "metadata": {
    "ExecuteTime": {
     "end_time": "2025-03-01T11:17:54.570557100Z",
     "start_time": "2025-03-01T11:17:54.534920700Z"
    },
    "collapsed": false,
    "jupyter": {
     "outputs_hidden": false
    }
   },
   "outputs": [],
   "source": [
    "X_test_tweets_uncleaned = df_test.tweet.values"
   ]
  },
  {
   "cell_type": "markdown",
   "metadata": {
    "collapsed": false,
    "jupyter": {
     "outputs_hidden": false
    }
   },
   "source": [
    "### 3. Modelltraining"
   ]
  },
  {
   "cell_type": "code",
   "execution_count": 23,
   "metadata": {},
   "outputs": [],
   "source": [
    "epochs = 5\n",
    "batch_size = 16"
   ]
  },
  {
   "cell_type": "markdown",
   "metadata": {
    "collapsed": false,
    "jupyter": {
     "outputs_hidden": false
    }
   },
   "source": [
    "#### 3.1 Modell A: RoBERTa - base sentiment"
   ]
  },
  {
   "cell_type": "code",
   "execution_count": 24,
   "metadata": {
    "ExecuteTime": {
     "end_time": "2025-03-01T11:18:36.641316500Z",
     "start_time": "2025-03-01T11:18:36.641316500Z"
    },
    "collapsed": false,
    "jupyter": {
     "outputs_hidden": false
    }
   },
   "outputs": [],
   "source": [
    "ROBERTA_SENTIMENT_MODEL_NAME_OR_PATH = f\"cardiffnlp/twitter-roberta-base-sentiment-latest\""
   ]
  },
  {
   "cell_type": "code",
   "execution_count": 25,
   "metadata": {
    "ExecuteTime": {
     "end_time": "2025-03-01T11:18:39.141699200Z",
     "start_time": "2025-03-01T11:18:37.241167300Z"
    },
    "collapsed": false,
    "jupyter": {
     "outputs_hidden": false
    }
   },
   "outputs": [
    {
     "name": "stderr",
     "output_type": "stream",
     "text": [
      "Some weights of the model checkpoint at cardiffnlp/twitter-roberta-base-sentiment-latest were not used when initializing RobertaForSequenceClassification: ['roberta.pooler.dense.bias', 'roberta.pooler.dense.weight']\n",
      "- This IS expected if you are initializing RobertaForSequenceClassification from the checkpoint of a model trained on another task or with another architecture (e.g. initializing a BertForSequenceClassification model from a BertForPreTraining model).\n",
      "- This IS NOT expected if you are initializing RobertaForSequenceClassification from the checkpoint of a model that you expect to be exactly identical (initializing a BertForSequenceClassification model from a BertForSequenceClassification model).\n",
      "Some weights of RobertaForSequenceClassification were not initialized from the model checkpoint at cardiffnlp/twitter-roberta-base-sentiment-latest and are newly initialized because the shapes did not match:\n",
      "- classifier.out_proj.weight: found shape torch.Size([3, 768]) in the checkpoint and torch.Size([2, 768]) in the model instantiated\n",
      "- classifier.out_proj.bias: found shape torch.Size([3]) in the checkpoint and torch.Size([2]) in the model instantiated\n",
      "You should probably TRAIN this model on a down-stream task to be able to use it for predictions and inference.\n"
     ]
    }
   ],
   "source": [
    "roberta_sentiment_model_untrained = AutoModelForSequenceClassification.from_pretrained(\n",
    "    ROBERTA_SENTIMENT_MODEL_NAME_OR_PATH,\n",
    "    num_labels=2,\n",
    "    output_attentions=False,\n",
    "    output_hidden_states=False,\n",
    "    ignore_mismatched_sizes=True,\n",
    ")\n",
    "roberta_sentiment_model_untrained = roberta_sentiment_model_untrained.to(device)"
   ]
  },
  {
   "cell_type": "code",
   "execution_count": 26,
   "metadata": {
    "ExecuteTime": {
     "end_time": "2025-03-01T11:18:40.033340900Z",
     "start_time": "2025-03-01T11:18:39.141699200Z"
    },
    "collapsed": false,
    "jupyter": {
     "outputs_hidden": false
    }
   },
   "outputs": [],
   "source": [
    "roberta_sentiment_tokenizer = AutoTokenizer.from_pretrained(ROBERTA_SENTIMENT_MODEL_NAME_OR_PATH)"
   ]
  },
  {
   "cell_type": "markdown",
   "metadata": {
    "collapsed": false,
    "jupyter": {
     "outputs_hidden": false
    }
   },
   "source": [
    "##### 3.1.1 Training 1 - mixed data cleaned"
   ]
  },
  {
   "cell_type": "code",
   "execution_count": 36,
   "metadata": {
    "collapsed": false,
    "jupyter": {
     "outputs_hidden": false
    }
   },
   "outputs": [
    {
     "name": "stderr",
     "output_type": "stream",
     "text": [
      "Truncation was not explicitly activated but `max_length` is provided a specific value, please use `truncation=True` to explicitly truncate examples to max length. Defaulting to 'longest_first' truncation strategy. If you encode pairs of sequences (GLUE-style) with the tokenizer you can select this strategy more precisely by providing a specific strategy to `truncation`.\n"
     ]
    }
   ],
   "source": [
    "train_dataloader_sentiment, val_dataloader_sentiment, optimizer_sentiment, scheduler_sentiment = init_training(\n",
    "    model=roberta_sentiment_model_untrained,\n",
    "    tokenizer=roberta_sentiment_tokenizer,\n",
    "    x_data=X_train_tweets,\n",
    "    y_data=y_train_labels\n",
    ")"
   ]
  },
  {
   "cell_type": "code",
   "execution_count": 37,
   "metadata": {
    "collapsed": false,
    "jupyter": {
     "outputs_hidden": false
    },
    "scrolled": true
   },
   "outputs": [
    {
     "name": "stdout",
     "output_type": "stream",
     "text": [
      "\n",
      "======== Epoch 1 / 5 ========\n",
      "Training...\n",
      "\n",
      "  Average training loss: 0.36\n",
      "  Training epoch took: 0:07:16\n",
      "\n",
      "Running Validation...\n",
      "  F1-Score (macro): 0.72\n",
      "\n",
      "======== Epoch 2 / 5 ========\n",
      "Training...\n",
      "\n",
      "  Average training loss: 0.31\n",
      "  Training epoch took: 0:07:16\n",
      "\n",
      "Running Validation...\n",
      "  F1-Score (macro): 0.72\n",
      "\n",
      "======== Epoch 3 / 5 ========\n",
      "Training...\n",
      "\n",
      "  Average training loss: 0.28\n",
      "  Training epoch took: 0:07:16\n",
      "\n",
      "Running Validation...\n",
      "  F1-Score (macro): 0.71\n",
      "\n",
      "======== Epoch 4 / 5 ========\n",
      "Training...\n",
      "\n",
      "  Average training loss: 0.24\n",
      "  Training epoch took: 0:07:16\n",
      "\n",
      "Running Validation...\n",
      "  F1-Score (macro): 0.72\n",
      "\n",
      "======== Epoch 5 / 5 ========\n",
      "Training...\n",
      "\n",
      "  Average training loss: 0.21\n",
      "  Training epoch took: 0:07:16\n",
      "\n",
      "Running Validation...\n",
      "  F1-Score (macro): 0.72\n",
      "\n",
      "Training complete!\n",
      "Total training took 0:39:13 (h:mm:ss)\n"
     ]
    }
   ],
   "source": [
    "trained_roberta_sentiment_tuned = train_model(\n",
    "    epochs=epochs,\n",
    "    train_dataloader=train_dataloader_sentiment,\n",
    "    validation_dataloader=val_dataloader_sentiment,\n",
    "    optimizer=optimizer_sentiment,\n",
    "    scheduler=scheduler_sentiment,\n",
    "    model=roberta_sentiment_model_untrained\n",
    ")"
   ]
  },
  {
   "cell_type": "markdown",
   "metadata": {
    "collapsed": false,
    "jupyter": {
     "outputs_hidden": false
    }
   },
   "source": [
    "###### Save Model"
   ]
  },
  {
   "cell_type": "code",
   "execution_count": 40,
   "metadata": {
    "collapsed": false,
    "jupyter": {
     "outputs_hidden": false
    }
   },
   "outputs": [],
   "source": [
    "ROBERTA_SENTIMENT_MIXED_CLEANED_PATH = \"models/roberta_sentiment_mixed_cleaned\"\n",
    "\n",
    "save_model(\n",
    "    model=trained_roberta_sentiment_tuned,\n",
    "    tokenizer=roberta_sentiment_tokenizer,\n",
    "    path=ROBERTA_SENTIMENT_MIXED_CLEANED_PATH\n",
    ")"
   ]
  },
  {
   "cell_type": "markdown",
   "metadata": {
    "collapsed": false,
    "jupyter": {
     "outputs_hidden": false
    }
   },
   "source": [
    "###### Evaluate Model"
   ]
  },
  {
   "cell_type": "code",
   "execution_count": 41,
   "metadata": {
    "collapsed": false,
    "jupyter": {
     "outputs_hidden": false
    },
    "scrolled": true
   },
   "outputs": [
    {
     "name": "stdout",
     "output_type": "stream",
     "text": [
      "Test Loss: 0.5865547293133339\n",
      "Test Accuracy: 0.7789687673258178\n",
      "Test Precision: 0.4805853208895034\n",
      "Test Recall: 0.6098844860359701\n",
      "Test F1: 0.6961736362646047\n",
      "Test MCC: 0.3998586384435154\n"
     ]
    },
    {
     "data": {
      "image/png": "[encoded data removed]",
      "text/plain": [
       "<Figure size 640x480 with 2 Axes>"
      ]
     },
     "metadata": {},
     "output_type": "display_data"
    },
    {
     "name": "stdout",
     "output_type": "stream",
     "text": [
      "Classification Report:\n",
      "                precision    recall  f1-score   support\n",
      "\n",
      "No Hate-Speech       0.89      0.82      0.85     25627\n",
      "   Hate-Speech       0.48      0.61      0.54      6839\n",
      "\n",
      "      accuracy                           0.78     32466\n",
      "     macro avg       0.68      0.72      0.70     32466\n",
      "  weighted avg       0.80      0.78      0.79     32466\n",
      "\n"
     ]
    }
   ],
   "source": [
    "test_model(\n",
    "    model=trained_roberta_sentiment_tuned,\n",
    "    tokenizer=roberta_sentiment_tokenizer,\n",
    "    y_data=y_test_labels,\n",
    "    x_data=X_test_tweets\n",
    ")"
   ]
  },
  {
   "cell_type": "markdown",
   "metadata": {},
   "source": [
    "##### 3.1.2 Training 2 - mixed data uncleaned"
   ]
  },
  {
   "cell_type": "code",
   "execution_count": 27,
   "metadata": {},
   "outputs": [
    {
     "name": "stderr",
     "output_type": "stream",
     "text": [
      "Truncation was not explicitly activated but `max_length` is provided a specific value, please use `truncation=True` to explicitly truncate examples to max length. Defaulting to 'longest_first' truncation strategy. If you encode pairs of sequences (GLUE-style) with the tokenizer you can select this strategy more precisely by providing a specific strategy to `truncation`.\n"
     ]
    }
   ],
   "source": [
    "train_dataloader_sentiment2, val_dataloader_sentiment2, optimizer_sentiment2, scheduler_sentiment2 = init_training(\n",
    "    model=roberta_sentiment_model_untrained,\n",
    "    tokenizer=roberta_sentiment_tokenizer,\n",
    "    x_data=X_train_tweets,\n",
    "    y_data=y_train_labels\n",
    ")"
   ]
  },
  {
   "cell_type": "code",
   "execution_count": 28,
   "metadata": {},
   "outputs": [
    {
     "name": "stdout",
     "output_type": "stream",
     "text": [
      "\n",
      "======== Epoch 1 / 5 ========\n",
      "Training...\n",
      "\n",
      "  Average training loss: 0.36\n",
      "  Training epoch took: 0:07:16\n",
      "\n",
      "Running Validation...\n",
      "  F1-Score (macro): 0.72\n",
      "\n",
      "======== Epoch 2 / 5 ========\n",
      "Training...\n",
      "\n",
      "  Average training loss: 0.31\n",
      "  Training epoch took: 0:07:16\n",
      "\n",
      "Running Validation...\n",
      "  F1-Score (macro): 0.73\n",
      "\n",
      "======== Epoch 3 / 5 ========\n",
      "Training...\n",
      "\n",
      "  Average training loss: 0.27\n",
      "  Training epoch took: 0:07:15\n",
      "\n",
      "Running Validation...\n",
      "  F1-Score (macro): 0.72\n",
      "\n",
      "======== Epoch 4 / 5 ========\n",
      "Training...\n",
      "\n",
      "  Average training loss: 0.24\n",
      "  Training epoch took: 0:07:16\n",
      "\n",
      "Running Validation...\n",
      "  F1-Score (macro): 0.73\n",
      "\n",
      "======== Epoch 5 / 5 ========\n",
      "Training...\n",
      "\n",
      "  Average training loss: 0.21\n",
      "  Training epoch took: 0:07:16\n",
      "\n",
      "Running Validation...\n",
      "  F1-Score (macro): 0.72\n",
      "\n",
      "Training complete!\n",
      "Total training took 0:39:12 (h:mm:ss)\n"
     ]
    }
   ],
   "source": [
    "trained_roberta_sentiment_tuned2 = train_model(\n",
    "    epochs=epochs,\n",
    "    train_dataloader=train_dataloader_sentiment2,\n",
    "    validation_dataloader=val_dataloader_sentiment2,\n",
    "    optimizer=optimizer_sentiment2,\n",
    "    scheduler=scheduler_sentiment2,\n",
    "    model=roberta_sentiment_model_untrained\n",
    ")"
   ]
  },
  {
   "cell_type": "markdown",
   "metadata": {},
   "source": [
    "###### Save Model"
   ]
  },
  {
   "cell_type": "code",
   "execution_count": 29,
   "metadata": {},
   "outputs": [],
   "source": [
    "ROBERTA_SENTIMENT_MIXED_CLEANED_PATH = \"models/roberta_sentiment_mixed_uncleaned\"\n",
    "\n",
    "save_model(\n",
    "    model=trained_roberta_sentiment_tuned2,\n",
    "    tokenizer=roberta_sentiment_tokenizer,\n",
    "    path=ROBERTA_SENTIMENT_MIXED_CLEANED_PATH\n",
    ")"
   ]
  },
  {
   "cell_type": "markdown",
   "metadata": {},
   "source": [
    "###### Evaluate Model"
   ]
  },
  {
   "cell_type": "code",
   "execution_count": 30,
   "metadata": {},
   "outputs": [
    {
     "name": "stdout",
     "output_type": "stream",
     "text": [
      "Test Loss: 0.5037000061773231\n",
      "Test Accuracy: 0.8311464301115012\n",
      "Test Precision: 0.6097718815725611\n",
      "Test Recall: 0.5511039625676268\n",
      "Test F1: 0.7366768327541895\n",
      "Test MCC: 0.4746388400793382\n"
     ]
    },
    {
     "data": {
      "image/png": "[encoded data removed]",
      "text/plain": [
       "<Figure size 640x480 with 2 Axes>"
      ]
     },
     "metadata": {},
     "output_type": "display_data"
    },
    {
     "name": "stdout",
     "output_type": "stream",
     "text": [
      "Classification Report:\n",
      "                precision    recall  f1-score   support\n",
      "\n",
      "No Hate-Speech       0.88      0.91      0.89     25627\n",
      "   Hate-Speech       0.61      0.55      0.58      6839\n",
      "\n",
      "      accuracy                           0.83     32466\n",
      "     macro avg       0.75      0.73      0.74     32466\n",
      "  weighted avg       0.83      0.83      0.83     32466\n",
      "\n"
     ]
    }
   ],
   "source": [
    "test_model(\n",
    "    model=trained_roberta_sentiment_tuned2,\n",
    "    tokenizer=roberta_sentiment_tokenizer,\n",
    "    y_data=y_test_labels,\n",
    "    x_data=X_test_tweets_uncleaned\n",
    ")"
   ]
  },
  {
   "cell_type": "markdown",
   "metadata": {},
   "source": [
    "##### 3.1.3 Training 3 - mixed data uncleaned (LoRA)"
   ]
  },
  {
   "cell_type": "code",
   "execution_count": 84,
   "metadata": {},
   "outputs": [],
   "source": [
    "lora_config = LoraConfig(\n",
    "    r=8, # Rank Number\n",
    "    lora_alpha=32, # Alpha (Scaling Factor)\n",
    "    lora_dropout=0.05, # Dropout Prob for Lora\n",
    "    target_modules=[\"query\", \"key\",\"value\"], # Which layer to apply LoRA, usually only apply on MultiHead Attention Layer\n",
    "    bias='none',\n",
    "    task_type=TaskType.SEQ_CLS # Seqence to Classification Task\n",
    ")"
   ]
  },
  {
   "cell_type": "code",
   "execution_count": 85,
   "metadata": {},
   "outputs": [
    {
     "name": "stdout",
     "output_type": "stream",
     "text": [
      "trainable model parameters: 1034498\n",
      "all model parameters: 125681668\n",
      "percentage of trainable model parameters: 0.82%\n"
     ]
    }
   ],
   "source": [
    "peft_model_roberta_sentiment = get_peft_model(roberta_sentiment_model_untrained,\n",
    "                            lora_config)\n",
    "print(print_number_of_trainable_model_parameters(peft_model_roberta_sentiment))"
   ]
  },
  {
   "cell_type": "code",
   "execution_count": 86,
   "metadata": {},
   "outputs": [],
   "source": [
    "train_dataloader_sentiment_lora, val_dataloader_sentiment_lora, optimizer_sentiment_lora, scheduler_sentiment_lora = init_training(\n",
    "    model=peft_model_roberta_sentiment,\n",
    "    tokenizer=roberta_sentiment_tokenizer,\n",
    "    x_data=X_train_tweets,\n",
    "    y_data=y_train_labels\n",
    ")"
   ]
  },
  {
   "cell_type": "code",
   "execution_count": 87,
   "metadata": {},
   "outputs": [
    {
     "name": "stdout",
     "output_type": "stream",
     "text": [
      "\n",
      "======== Epoch 1 / 5 ========\n",
      "Training...\n",
      "\n",
      "  Average training loss: 0.20\n",
      "  Training epoch took: 0:07:56\n",
      "\n",
      "Running Validation...\n",
      "  F1-Score (macro): 0.71\n",
      "\n",
      "======== Epoch 2 / 5 ========\n",
      "Training...\n",
      "\n",
      "  Average training loss: 0.20\n",
      "  Training epoch took: 0:08:01\n",
      "\n",
      "Running Validation...\n",
      "  F1-Score (macro): 0.71\n",
      "\n",
      "======== Epoch 3 / 5 ========\n",
      "Training...\n",
      "\n",
      "  Average training loss: 0.20\n",
      "  Training epoch took: 0:07:57\n",
      "\n",
      "Running Validation...\n",
      "  F1-Score (macro): 0.72\n",
      "\n",
      "======== Epoch 4 / 5 ========\n",
      "Training...\n",
      "\n",
      "  Average training loss: 0.20\n",
      "  Training epoch took: 0:07:51\n",
      "\n",
      "Running Validation...\n",
      "  F1-Score (macro): 0.71\n",
      "\n",
      "======== Epoch 5 / 5 ========\n",
      "Training...\n",
      "\n",
      "  Average training loss: 0.20\n",
      "  Training epoch took: 0:07:51\n",
      "\n",
      "Running Validation...\n",
      "  F1-Score (macro): 0.71\n",
      "\n",
      "Training complete!\n",
      "Total training took 0:44:10 (h:mm:ss)\n"
     ]
    }
   ],
   "source": [
    "trained_roberta_sentiment_tuned_lora = train_model(\n",
    "    epochs=epochs,\n",
    "    train_dataloader=train_dataloader_sentiment_lora,\n",
    "    validation_dataloader=val_dataloader_sentiment_lora,\n",
    "    optimizer=optimizer_sentiment_lora,\n",
    "    scheduler=scheduler_sentiment_lora,\n",
    "    model=peft_model_roberta_sentiment\n",
    ")"
   ]
  },
  {
   "cell_type": "markdown",
   "metadata": {},
   "source": [
    "###### Save Model"
   ]
  },
  {
   "cell_type": "code",
   "execution_count": 88,
   "metadata": {},
   "outputs": [],
   "source": [
    "ROBERTA_SENTIMENT_MIXED_CLEANED_LORA_PATH = \"models/roberta_sentiment_mixed_uncleaned_lora\"\n",
    "\n",
    "save_model(\n",
    "    model=trained_roberta_sentiment_tuned_lora,\n",
    "    tokenizer=roberta_sentiment_tokenizer,\n",
    "    path=ROBERTA_SENTIMENT_MIXED_CLEANED_LORA_PATH\n",
    ")"
   ]
  },
  {
   "cell_type": "markdown",
   "metadata": {},
   "source": [
    "###### Evaluate Model"
   ]
  },
  {
   "cell_type": "code",
   "execution_count": 89,
   "metadata": {},
   "outputs": [
    {
     "name": "stdout",
     "output_type": "stream",
     "text": [
      "Test Loss: 0.5166694581411145\n",
      "Test Accuracy: 0.8297603646892133\n",
      "Test Precision: 0.6038961038961039\n",
      "Test Recall: 0.5575376517034654\n",
      "Test F1: 0.7365247834882152\n",
      "Test MCC: 0.4738562350596151\n"
     ]
    },
    {
     "data": {
      "image/png": "[encoded data removed]",
      "text/plain": [
       "<Figure size 640x480 with 2 Axes>"
      ]
     },
     "metadata": {},
     "output_type": "display_data"
    },
    {
     "name": "stdout",
     "output_type": "stream",
     "text": [
      "Classification Report:\n",
      "                precision    recall  f1-score   support\n",
      "\n",
      "No Hate-Speech       0.88      0.90      0.89     25627\n",
      "   Hate-Speech       0.60      0.56      0.58      6839\n",
      "\n",
      "      accuracy                           0.83     32466\n",
      "     macro avg       0.74      0.73      0.74     32466\n",
      "  weighted avg       0.83      0.83      0.83     32466\n",
      "\n"
     ]
    }
   ],
   "source": [
    "test_model(\n",
    "    model=trained_roberta_sentiment_tuned_lora,\n",
    "    tokenizer=roberta_sentiment_tokenizer,\n",
    "    y_data=y_test_labels,\n",
    "    x_data=X_test_tweets_uncleaned\n",
    ")"
   ]
  },
  {
   "cell_type": "markdown",
   "metadata": {
    "collapsed": false,
    "jupyter": {
     "outputs_hidden": false
    }
   },
   "source": [
    "#### 3.2 Modell B: RoBERTa - base hate"
   ]
  },
  {
   "cell_type": "code",
   "execution_count": 52,
   "metadata": {
    "ExecuteTime": {
     "end_time": "2025-03-01T11:18:46.586514900Z",
     "start_time": "2025-03-01T11:18:46.586514900Z"
    },
    "collapsed": false,
    "jupyter": {
     "outputs_hidden": false
    }
   },
   "outputs": [],
   "source": [
    "ROBERTA_HATE_MODEL_NAME_OR_PATH = f\"cardiffnlp/twitter-roberta-base-hate-latest\""
   ]
  },
  {
   "cell_type": "code",
   "execution_count": 53,
   "metadata": {
    "ExecuteTime": {
     "end_time": "2025-03-01T11:18:48.603895800Z",
     "start_time": "2025-03-01T11:18:47.013023200Z"
    },
    "collapsed": false,
    "jupyter": {
     "outputs_hidden": false
    }
   },
   "outputs": [],
   "source": [
    "roberta_hate_model_untrained = AutoModelForSequenceClassification.from_pretrained(\n",
    "    ROBERTA_HATE_MODEL_NAME_OR_PATH,\n",
    "    num_labels=2,\n",
    "    output_attentions=False,\n",
    "    output_hidden_states=False,\n",
    "    ignore_mismatched_sizes=True,\n",
    ")\n",
    "roberta_hate_model_untrained = roberta_hate_model_untrained.to(device)"
   ]
  },
  {
   "cell_type": "code",
   "execution_count": 54,
   "metadata": {
    "ExecuteTime": {
     "end_time": "2025-03-01T11:18:49.034151500Z",
     "start_time": "2025-03-01T11:18:48.603895800Z"
    },
    "collapsed": false,
    "jupyter": {
     "outputs_hidden": false
    }
   },
   "outputs": [],
   "source": [
    "roberta_hate_tokenizer = AutoTokenizer.from_pretrained(ROBERTA_HATE_MODEL_NAME_OR_PATH)"
   ]
  },
  {
   "cell_type": "markdown",
   "metadata": {
    "collapsed": false,
    "jupyter": {
     "outputs_hidden": false
    }
   },
   "source": [
    "##### 3.2.1 Training 1 - mixed data cleaned"
   ]
  },
  {
   "cell_type": "code",
   "execution_count": 55,
   "metadata": {
    "collapsed": false,
    "jupyter": {
     "outputs_hidden": false
    }
   },
   "outputs": [
    {
     "name": "stderr",
     "output_type": "stream",
     "text": [
      "Truncation was not explicitly activated but `max_length` is provided a specific value, please use `truncation=True` to explicitly truncate examples to max length. Defaulting to 'longest_first' truncation strategy. If you encode pairs of sequences (GLUE-style) with the tokenizer you can select this strategy more precisely by providing a specific strategy to `truncation`.\n"
     ]
    }
   ],
   "source": [
    "train_dataloader_hate, val_dataloader_hate, optimizer_hate, scheduler_hate = init_training(\n",
    "    model=roberta_hate_model_untrained,\n",
    "    tokenizer=roberta_hate_tokenizer,\n",
    "    x_data=X_train_tweets,\n",
    "    y_data=y_train_labels\n",
    ")"
   ]
  },
  {
   "cell_type": "code",
   "execution_count": 56,
   "metadata": {
    "collapsed": false,
    "jupyter": {
     "outputs_hidden": false
    }
   },
   "outputs": [
    {
     "name": "stdout",
     "output_type": "stream",
     "text": [
      "\n",
      "======== Epoch 1 / 5 ========\n",
      "Training...\n",
      "\n",
      "  Average training loss: 0.35\n",
      "  Training epoch took: 0:07:15\n",
      "\n",
      "Running Validation...\n",
      "  F1-Score (macro): 0.72\n",
      "\n",
      "======== Epoch 2 / 5 ========\n",
      "Training...\n",
      "\n",
      "  Average training loss: 0.31\n",
      "  Training epoch took: 0:07:15\n",
      "\n",
      "Running Validation...\n",
      "  F1-Score (macro): 0.72\n",
      "\n",
      "======== Epoch 3 / 5 ========\n",
      "Training...\n",
      "\n",
      "  Average training loss: 0.27\n",
      "  Training epoch took: 0:07:15\n",
      "\n",
      "Running Validation...\n",
      "  F1-Score (macro): 0.72\n",
      "\n",
      "======== Epoch 4 / 5 ========\n",
      "Training...\n",
      "\n",
      "  Average training loss: 0.24\n",
      "  Training epoch took: 0:07:16\n",
      "\n",
      "Running Validation...\n",
      "  F1-Score (macro): 0.73\n",
      "\n",
      "======== Epoch 5 / 5 ========\n",
      "Training...\n",
      "\n",
      "  Average training loss: 0.22\n",
      "  Training epoch took: 0:07:15\n",
      "\n",
      "Running Validation...\n",
      "  F1-Score (macro): 0.72\n",
      "\n",
      "Training complete!\n",
      "Total training took 0:39:11 (h:mm:ss)\n"
     ]
    }
   ],
   "source": [
    "trained_roberta_hate_tuned = train_model(\n",
    "    epochs=epochs,\n",
    "    train_dataloader=train_dataloader_hate,\n",
    "    validation_dataloader=val_dataloader_hate,\n",
    "    optimizer=optimizer_hate,\n",
    "    scheduler=scheduler_hate,\n",
    "    model=roberta_hate_model_untrained\n",
    ")"
   ]
  },
  {
   "cell_type": "markdown",
   "metadata": {
    "collapsed": false,
    "jupyter": {
     "outputs_hidden": false
    }
   },
   "source": [
    "###### Save Model"
   ]
  },
  {
   "cell_type": "code",
   "execution_count": 57,
   "metadata": {
    "collapsed": false,
    "jupyter": {
     "outputs_hidden": false
    }
   },
   "outputs": [],
   "source": [
    "ROBERTA_HATE_MIXED_CLEANED_PATH = \"models/roberta_hate_mixed_cleaned\"\n",
    "\n",
    "save_model(\n",
    "    model=trained_roberta_hate_tuned,\n",
    "    tokenizer=roberta_hate_tokenizer,\n",
    "    path=ROBERTA_HATE_MIXED_CLEANED_PATH\n",
    ")"
   ]
  },
  {
   "cell_type": "markdown",
   "metadata": {
    "collapsed": false,
    "jupyter": {
     "outputs_hidden": false
    }
   },
   "source": [
    "###### Evaluate Model"
   ]
  },
  {
   "cell_type": "code",
   "execution_count": 58,
   "metadata": {
    "collapsed": false,
    "jupyter": {
     "outputs_hidden": false
    }
   },
   "outputs": [
    {
     "name": "stdout",
     "output_type": "stream",
     "text": [
      "Test Loss: 0.4832593482728931\n",
      "Test Accuracy: 0.8333025318795048\n",
      "Test Precision: 0.6140687450039968\n",
      "Test Recall: 0.5616318175171808\n",
      "Test F1: 0.7411393732750371\n",
      "Test MCC: 0.4832927760229322\n"
     ]
    },
    {
     "data": {
      "image/png": "[encoded data removed]",
      "text/plain": [
       "<Figure size 640x480 with 2 Axes>"
      ]
     },
     "metadata": {},
     "output_type": "display_data"
    },
    {
     "name": "stdout",
     "output_type": "stream",
     "text": [
      "Classification Report:\n",
      "                precision    recall  f1-score   support\n",
      "\n",
      "No Hate-Speech       0.89      0.91      0.90     25627\n",
      "   Hate-Speech       0.61      0.56      0.59      6839\n",
      "\n",
      "      accuracy                           0.83     32466\n",
      "     macro avg       0.75      0.73      0.74     32466\n",
      "  weighted avg       0.83      0.83      0.83     32466\n",
      "\n"
     ]
    }
   ],
   "source": [
    "test_model(\n",
    "    model=trained_roberta_hate_tuned,\n",
    "    tokenizer=roberta_hate_tokenizer,\n",
    "    y_data=y_test_labels,\n",
    "    x_data=X_test_tweets\n",
    ")"
   ]
  },
  {
   "cell_type": "markdown",
   "metadata": {
    "collapsed": false,
    "jupyter": {
     "outputs_hidden": false
    }
   },
   "source": [
    "##### 3.2.2 Training 2 - mixed data uncleaned"
   ]
  },
  {
   "cell_type": "code",
   "execution_count": 72,
   "metadata": {
    "ExecuteTime": {
     "end_time": "2025-03-01T11:18:59.215358900Z",
     "start_time": "2025-03-01T11:18:58.223242300Z"
    },
    "collapsed": false,
    "jupyter": {
     "outputs_hidden": false
    }
   },
   "outputs": [],
   "source": [
    "train_dataloader_hate2, val_dataloader_hate2, optimizer_hate2, scheduler_hate2 = init_training(\n",
    "    model=roberta_hate_model_untrained,\n",
    "    tokenizer=roberta_hate_tokenizer,\n",
    "    x_data=X_train_tweets_uncleaned,\n",
    "    y_data=y_train_labels\n",
    ")"
   ]
  },
  {
   "cell_type": "code",
   "execution_count": 75,
   "metadata": {
    "ExecuteTime": {
     "end_time": "2025-03-01T11:27:07.754584400Z",
     "start_time": "2025-03-01T11:19:04.322955400Z"
    },
    "collapsed": false,
    "jupyter": {
     "outputs_hidden": false
    }
   },
   "outputs": [
    {
     "name": "stdout",
     "output_type": "stream",
     "text": [
      "\n",
      "======== Epoch 1 / 5 ========\n",
      "Training...\n",
      "\n",
      "  Average training loss: 0.08\n",
      "  Training epoch took: 0:11:04\n",
      "\n",
      "Running Validation...\n",
      "  F1-Score (macro): 0.75\n",
      "\n",
      "======== Epoch 2 / 5 ========\n",
      "Training...\n",
      "\n",
      "  Average training loss: 0.06\n",
      "  Training epoch took: 0:11:04\n",
      "\n",
      "Running Validation...\n",
      "  F1-Score (macro): 0.75\n",
      "\n",
      "======== Epoch 3 / 5 ========\n",
      "Training...\n",
      "\n",
      "  Average training loss: 0.06\n",
      "  Training epoch took: 0:11:04\n",
      "\n",
      "Running Validation...\n",
      "  F1-Score (macro): 0.75\n",
      "\n",
      "======== Epoch 4 / 5 ========\n",
      "Training...\n",
      "\n",
      "  Average training loss: 0.07\n",
      "  Training epoch took: 0:11:04\n",
      "\n",
      "Running Validation...\n",
      "  F1-Score (macro): 0.75\n",
      "\n",
      "======== Epoch 5 / 5 ========\n",
      "Training...\n",
      "\n",
      "  Average training loss: 0.09\n",
      "  Training epoch took: 0:11:04\n",
      "\n",
      "Running Validation...\n",
      "  F1-Score (macro): 0.75\n",
      "\n",
      "Training complete!\n",
      "Total training took 0:59:36 (h:mm:ss)\n"
     ]
    }
   ],
   "source": [
    "trained_roberta_hate_tuned2 = train_model(\n",
    "    epochs=epochs,\n",
    "    train_dataloader=train_dataloader_hate2,\n",
    "    validation_dataloader=val_dataloader_hate2,\n",
    "    optimizer=optimizer_hate2,\n",
    "    scheduler=scheduler_hate2,\n",
    "    model=roberta_hate_model_untrained\n",
    ")"
   ]
  },
  {
   "cell_type": "markdown",
   "metadata": {
    "collapsed": false,
    "jupyter": {
     "outputs_hidden": false
    }
   },
   "source": [
    "###### Save Model"
   ]
  },
  {
   "cell_type": "code",
   "execution_count": 76,
   "metadata": {
    "ExecuteTime": {
     "end_time": "2025-03-01T11:30:20.086884Z",
     "start_time": "2025-03-01T11:30:19.210078200Z"
    },
    "collapsed": false,
    "jupyter": {
     "outputs_hidden": false
    }
   },
   "outputs": [],
   "source": [
    "ROBERTA_HATE_MIXED_CLEANED_PATH2 = \"models/roberta_hate_mixed_uncleaned\"\n",
    "\n",
    "save_model(\n",
    "    model=trained_roberta_hate_tuned2,\n",
    "    tokenizer=roberta_hate_tokenizer,\n",
    "    path=ROBERTA_HATE_MIXED_CLEANED_PATH2\n",
    ")"
   ]
  },
  {
   "cell_type": "markdown",
   "metadata": {
    "collapsed": false,
    "jupyter": {
     "outputs_hidden": false
    }
   },
   "source": [
    "###### Evaluate Model"
   ]
  },
  {
   "cell_type": "code",
   "execution_count": 77,
   "metadata": {
    "ExecuteTime": {
     "start_time": "2025-03-01T11:30:22.564424300Z"
    },
    "collapsed": false,
    "is_executing": true,
    "jupyter": {
     "outputs_hidden": false
    }
   },
   "outputs": [
    {
     "name": "stdout",
     "output_type": "stream",
     "text": [
      "Test Loss: 0.9645692438958083\n",
      "Test Accuracy: 0.7959711698392165\n",
      "Test Precision: 0.5133923009841784\n",
      "Test Recall: 0.6025734756543354\n",
      "Test F1: 0.7110570618826738\n",
      "Test MCC: 0.42549061167812213\n"
     ]
    },
    {
     "data": {
      "image/png": "[encoded data removed]",
      "text/plain": [
       "<Figure size 640x480 with 2 Axes>"
      ]
     },
     "metadata": {},
     "output_type": "display_data"
    },
    {
     "name": "stdout",
     "output_type": "stream",
     "text": [
      "Classification Report:\n",
      "                precision    recall  f1-score   support\n",
      "\n",
      "No Hate-Speech       0.89      0.85      0.87     25627\n",
      "   Hate-Speech       0.51      0.60      0.55      6839\n",
      "\n",
      "      accuracy                           0.80     32466\n",
      "     macro avg       0.70      0.73      0.71     32466\n",
      "  weighted avg       0.81      0.80      0.80     32466\n",
      "\n"
     ]
    }
   ],
   "source": [
    "test_model(\n",
    "    model=trained_roberta_hate_tuned2,\n",
    "    tokenizer=roberta_hate_tokenizer,\n",
    "    y_data=y_test_labels,\n",
    "    x_data=X_test_tweets_uncleaned\n",
    ")"
   ]
  },
  {
   "cell_type": "markdown",
   "metadata": {
    "collapsed": false,
    "jupyter": {
     "outputs_hidden": false
    }
   },
   "source": [
    "##### 3.2.3 Training 3 - mixed data uncleaned (LoRA)"
   ]
  },
  {
   "cell_type": "code",
   "execution_count": 78,
   "metadata": {},
   "outputs": [],
   "source": [
    "lora_config = LoraConfig(\n",
    "    r=8, # Rank Number\n",
    "    lora_alpha=32, # Alpha (Scaling Factor)\n",
    "    lora_dropout=0.05, # Dropout Prob for Lora\n",
    "    target_modules=[\"query\", \"key\",\"value\"], # Which layer to apply LoRA, usually only apply on MultiHead Attention Layer\n",
    "    bias='none',\n",
    "    task_type=TaskType.SEQ_CLS # Seqence to Classification Task\n",
    ")"
   ]
  },
  {
   "cell_type": "code",
   "execution_count": 79,
   "metadata": {},
   "outputs": [
    {
     "name": "stdout",
     "output_type": "stream",
     "text": [
      "trainable model parameters: 1034498\n",
      "all model parameters: 125681668\n",
      "percentage of trainable model parameters: 0.82%\n"
     ]
    }
   ],
   "source": [
    "peft_model_roberta_hate = get_peft_model(roberta_hate_model_untrained,\n",
    "                            lora_config)\n",
    "print(print_number_of_trainable_model_parameters(peft_model_roberta_hate))"
   ]
  },
  {
   "cell_type": "code",
   "execution_count": 80,
   "metadata": {},
   "outputs": [],
   "source": [
    "train_dataloader_hate_lora, val_dataloader_hate_lora, optimizer_hate_lora, scheduler_hate_lora = init_training(\n",
    "    model=peft_model_roberta_hate,\n",
    "    tokenizer=roberta_hate_tokenizer,\n",
    "    x_data=X_train_tweets_uncleaned,\n",
    "    y_data=y_train_labels\n",
    ")"
   ]
  },
  {
   "cell_type": "code",
   "execution_count": 81,
   "metadata": {},
   "outputs": [
    {
     "name": "stdout",
     "output_type": "stream",
     "text": [
      "\n",
      "======== Epoch 1 / 5 ========\n",
      "Training...\n",
      "\n",
      "  Average training loss: 0.12\n",
      "  Training epoch took: 0:07:52\n",
      "\n",
      "Running Validation...\n",
      "  F1-Score (macro): 0.75\n",
      "\n",
      "======== Epoch 2 / 5 ========\n",
      "Training...\n",
      "\n",
      "  Average training loss: 0.11\n",
      "  Training epoch took: 0:07:53\n",
      "\n",
      "Running Validation...\n",
      "  F1-Score (macro): 0.74\n",
      "\n",
      "======== Epoch 3 / 5 ========\n",
      "Training...\n",
      "\n",
      "  Average training loss: 0.11\n",
      "  Training epoch took: 0:07:53\n",
      "\n",
      "Running Validation...\n",
      "  F1-Score (macro): 0.74\n",
      "\n",
      "======== Epoch 4 / 5 ========\n",
      "Training...\n",
      "\n",
      "  Average training loss: 0.11\n",
      "  Training epoch took: 0:07:53\n",
      "\n",
      "Running Validation...\n",
      "  F1-Score (macro): 0.74\n",
      "\n",
      "======== Epoch 5 / 5 ========\n",
      "Training...\n",
      "\n",
      "  Average training loss: 0.11\n",
      "  Training epoch took: 0:07:53\n",
      "\n",
      "Running Validation...\n",
      "  F1-Score (macro): 0.74\n",
      "\n",
      "Training complete!\n",
      "Total training took 0:43:53 (h:mm:ss)\n"
     ]
    }
   ],
   "source": [
    "trained_roberta_hate_tuned_lora = train_model(\n",
    "    epochs=epochs,\n",
    "    train_dataloader=train_dataloader_hate_lora,\n",
    "    validation_dataloader=val_dataloader_hate_lora,\n",
    "    optimizer=optimizer_hate_lora,\n",
    "    scheduler=scheduler_hate_lora,\n",
    "    model=peft_model_roberta_hate\n",
    ")"
   ]
  },
  {
   "cell_type": "markdown",
   "metadata": {},
   "source": [
    "###### Save Model"
   ]
  },
  {
   "cell_type": "code",
   "execution_count": 82,
   "metadata": {},
   "outputs": [],
   "source": [
    "ROBERTA_HATE_MIXED_CLEANED_PATH_LORA = \"models/roberta_hate_mixed_uncleaned_lora\"\n",
    "\n",
    "save_model(\n",
    "    model=trained_roberta_hate_tuned_lora,\n",
    "    tokenizer=roberta_hate_tokenizer,\n",
    "    path=ROBERTA_HATE_MIXED_CLEANED_PATH_LORA\n",
    ")"
   ]
  },
  {
   "cell_type": "markdown",
   "metadata": {},
   "source": [
    "###### Evaluate Model"
   ]
  },
  {
   "cell_type": "code",
   "execution_count": 83,
   "metadata": {},
   "outputs": [
    {
     "name": "stdout",
     "output_type": "stream",
     "text": [
      "Test Loss: 0.8420745914696508\n",
      "Test Accuracy: 0.795355140762644\n",
      "Test Precision: 0.5121951219512195\n",
      "Test Recall: 0.5987717502558854\n",
      "Test F1: 0.7097449764270309\n",
      "Test MCC: 0.4226857776063508\n"
     ]
    },
    {
     "data": {
      "image/png": "[encoded data removed]",
      "text/plain": [
       "<Figure size 640x480 with 2 Axes>"
      ]
     },
     "metadata": {},
     "output_type": "display_data"
    },
    {
     "name": "stdout",
     "output_type": "stream",
     "text": [
      "Classification Report:\n",
      "                precision    recall  f1-score   support\n",
      "\n",
      "No Hate-Speech       0.89      0.85      0.87     25627\n",
      "   Hate-Speech       0.51      0.60      0.55      6839\n",
      "\n",
      "      accuracy                           0.80     32466\n",
      "     macro avg       0.70      0.72      0.71     32466\n",
      "  weighted avg       0.81      0.80      0.80     32466\n",
      "\n"
     ]
    }
   ],
   "source": [
    "test_model(\n",
    "    model=trained_roberta_hate_tuned_lora,\n",
    "    tokenizer=roberta_hate_tokenizer,\n",
    "    y_data=y_test_labels,\n",
    "    x_data=X_test_tweets_uncleaned\n",
    ")"
   ]
  },
  {
   "cell_type": "code",
   "execution_count": null,
   "metadata": {},
   "outputs": [],
   "source": []
  }
 ],
 "metadata": {
  "kernelspec": {
   "display_name": "Python 3 (ipykernel)",
   "language": "python",
   "name": "python3"
  },
  "language_info": {
   "codemirror_mode": {
    "name": "ipython",
    "version": 3
   },
   "file_extension": ".py",
   "mimetype": "text/x-python",
   "name": "python",
   "nbconvert_exporter": "python",
   "pygments_lexer": "ipython3",
   "version": "3.11.6"
  }
 },
 "nbformat": 4,
 "nbformat_minor": 4
}
