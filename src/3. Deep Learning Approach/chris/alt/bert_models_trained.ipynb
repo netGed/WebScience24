{
 "cells": [
  {
   "cell_type": "code",
   "execution_count": null,
   "outputs": [],
   "source": [
    "# https://huggingface.co/cardiffnlp/twitter-roberta-base-sentiment-latest?text=you+might+be+a+if...+%23%23sjw+%23liberal+%23politics\n",
    "# Twitter-roBERTa-base for Sentiment Analysis - UPDATED (2022)"
   ],
   "metadata": {
    "collapsed": false
   }
  },
  {
   "cell_type": "code",
   "execution_count": null,
   "outputs": [],
   "source": [
    "from transformers import AutoModelForSequenceClassification\n",
    "from transformers import TFAutoModelForSequenceClassification\n",
    "from transformers import AutoTokenizer, AutoConfig\n",
    "import numpy as np\n",
    "from scipy.special import softmax\n",
    "import pandas as pd\n",
    "from sklearn.metrics import classification_report\n"
   ],
   "metadata": {
    "collapsed": false
   }
  },
  {
   "cell_type": "code",
   "execution_count": null,
   "outputs": [],
   "source": [
    "# Preprocess text (username and link placeholders)\n",
    "def preprocess(text):\n",
    "    new_text = []\n",
    "    for t in text.split(\" \"):\n",
    "        t = '@user' if t.startswith('@') and len(t) > 1 else t\n",
    "        t = 'http' if t.startswith('http') else t\n",
    "        new_text.append(t)\n",
    "    return \" \".join(new_text)\n"
   ],
   "metadata": {
    "collapsed": false
   }
  },
  {
   "cell_type": "code",
   "execution_count": null,
   "outputs": [],
   "source": [
    "MODEL = f\"cardiffnlp/twitter-roberta-base-sentiment-latest\"\n",
    "tokenizer = AutoTokenizer.from_pretrained(MODEL, local_files_only=True)\n",
    "config = AutoConfig.from_pretrained(MODEL)"
   ],
   "metadata": {
    "collapsed": false
   }
  },
  {
   "cell_type": "code",
   "execution_count": null,
   "outputs": [],
   "source": [
    "model = AutoModelForSequenceClassification.from_pretrained(MODEL)\n",
    "# model.save_pretrained(MODEL)"
   ],
   "metadata": {
    "collapsed": false
   }
  },
  {
   "cell_type": "code",
   "execution_count": null,
   "outputs": [],
   "source": [
    "def predict(text):\n",
    "    encoded_input = tokenizer(text, return_tensors='pt')\n",
    "    output = model(**encoded_input)\n",
    "    scores = output[0][0].detach().numpy()\n",
    "    return softmax(scores)"
   ],
   "metadata": {
    "collapsed": false
   }
  },
  {
   "cell_type": "code",
   "execution_count": null,
   "outputs": [],
   "source": [
    "# Preprocess text (username and link placeholders)\n",
    "def preprocess(text):\n",
    "    new_text = []\n",
    "    for t in text.split(\" \"):\n",
    "        t = '@user' if t.startswith('@') and len(t) > 1 else t\n",
    "        t = 'http' if t.startswith('http') else t\n",
    "        new_text.append(t)\n",
    "    return \" \".join(new_text)\n"
   ],
   "metadata": {
    "collapsed": false
   }
  },
  {
   "cell_type": "markdown",
   "source": [
    "### Data"
   ],
   "metadata": {
    "collapsed": false
   }
  },
  {
   "cell_type": "code",
   "execution_count": null,
   "outputs": [],
   "source": [
    "df_train_cleaned = pd.read_csv(\"..\\\\..\\\\..\\\\data\\\\twitter_hate-speech\\\\train_cleaned.csv\")\n",
    "df_train_cleaned = df_train_cleaned[df_train_cleaned.tweet_cleaned.notna()]\n",
    "df_train_cleaned.head()"
   ],
   "metadata": {
    "collapsed": false
   }
  },
  {
   "cell_type": "code",
   "execution_count": null,
   "outputs": [],
   "source": [
    "df_train_cleaned_rnn = pd.read_csv(\"..\\\\..\\\\..\\\\data\\\\twitter_hate-speech\\\\train_cleaned_rnn.csv\")\n",
    "df_train_cleaned_rnn = df_train_cleaned_rnn[df_train_cleaned_rnn.tweet_cleaned.notna()]\n",
    "df_train_cleaned_rnn.head()"
   ],
   "metadata": {
    "collapsed": false
   }
  },
  {
   "cell_type": "markdown",
   "source": [
    "### Result DF"
   ],
   "metadata": {
    "collapsed": false
   }
  },
  {
   "cell_type": "code",
   "execution_count": null,
   "outputs": [],
   "source": [
    "results = df_train_cleaned[[\"label\", \"tweet\", \"tweet_cleaned\"]].copy()\n",
    "results[\"tweet_cleaned_rnn\"] = df_train_cleaned_rnn[\"tweet_cleaned\"]\n",
    "results.head()"
   ],
   "metadata": {
    "collapsed": false
   }
  },
  {
   "cell_type": "markdown",
   "source": [
    "### Predict \"tweet_cleaned\""
   ],
   "metadata": {
    "collapsed": false
   }
  },
  {
   "cell_type": "code",
   "execution_count": null,
   "outputs": [],
   "source": [
    "# results[\"tweet_cleaned_roberta_predictions\"] = df_train_cleaned[\"tweet_cleaned\"].apply(predict)"
   ],
   "metadata": {
    "collapsed": false
   }
  },
  {
   "cell_type": "markdown",
   "source": [
    "### Predict \"tweet\""
   ],
   "metadata": {
    "collapsed": false
   }
  },
  {
   "cell_type": "code",
   "execution_count": null,
   "outputs": [],
   "source": [
    "# results[\"tweet_uncleaned_roberta_predictions\"] = df_train_cleaned[\"tweet\"].apply(predict)"
   ],
   "metadata": {
    "collapsed": false
   }
  },
  {
   "cell_type": "markdown",
   "source": [
    "### Predict \"tweet_cleaned_rnn\""
   ],
   "metadata": {
    "collapsed": false
   }
  },
  {
   "cell_type": "code",
   "execution_count": null,
   "outputs": [],
   "source": [
    "results[\"tweet_cleaned_rnn_roberta_predictions\"] = df_train_cleaned_rnn[\"tweet_cleaned\"].apply(predict)"
   ],
   "metadata": {
    "collapsed": false
   }
  },
  {
   "cell_type": "markdown",
   "source": [
    "### Save prediction results"
   ],
   "metadata": {
    "collapsed": false
   }
  },
  {
   "cell_type": "code",
   "execution_count": null,
   "outputs": [],
   "source": [
    "results.to_csv(\"roberta_result.csv\")"
   ],
   "metadata": {
    "collapsed": false
   }
  },
  {
   "cell_type": "code",
   "execution_count": null,
   "outputs": [],
   "source": [
    "results = pd.read_csv(\"roberta_result.csv\", index_col=0)\n",
    "results.head()"
   ],
   "metadata": {
    "collapsed": false
   }
  },
  {
   "cell_type": "markdown",
   "source": [
    "### Compare Results"
   ],
   "metadata": {
    "collapsed": false
   }
  },
  {
   "cell_type": "code",
   "execution_count": 10,
   "outputs": [
    {
     "data": {
      "text/plain": "   label                                              tweet  \\\n0      0   @user #cinemaaawards final rehearsals!! geari...   \n1      0  istg this is the best cheese ta but dayum expe...   \n2      0  this was amazing. the weather was not. #musica...   \n3      0  yes! #talented #sexy   ‘criminal minds’ casts ...   \n4      0  want to be   while being #successful? see how ...   \n\n                                       tweet_cleaned  \\\n0  cinema award final rehearsal gear evening butt...   \n1                    tg good cheese day um expensive   \n2  amazing weather musical london matilda west en...   \n3  yes talented sexy ' criminal mind ' cast serie...   \n4         want successful see work life balance help   \n\n                                   tweet_cleaned_rnn  \\\n0  cinemaaawards final rehearsals gearing up for ...   \n1  istg this is the best cheese ta but dayum expe...   \n2  this was amazing the weather was not musical l...   \n3  yes talented sexy ‘criminal minds’ casts as se...   \n4  want to be while being successful see how work...   \n\n    tweet_cleaned_roberta_predictions tweet_uncleaned_roberta_predictions  \\\n0  [0.01163185 0.8329207  0.15544751]  [0.00121513 0.01826618 0.9805187 ]   \n1  [0.17947705 0.32253772 0.49798524]  [0.41535568 0.22157288 0.3630715 ]   \n2  [0.00146068 0.02588335 0.97265595]  [0.00485588 0.02015036 0.9749937 ]   \n3  [0.00225725 0.06217918 0.93556356]  [0.00162262 0.04763915 0.95073825]   \n4  [0.0322919  0.43325263 0.5344555 ]  [0.0041232  0.24599265 0.7498841 ]   \n\n  tweet_cleaned_rnn_roberta_predictions  \n0    [0.00206753 0.07825466 0.91967785]  \n1    [0.3564552  0.21312353 0.4304212 ]  \n2    [0.00503316 0.01394822 0.98101866]  \n3    [0.00205533 0.05398567 0.943959  ]  \n4    [0.01058821 0.2610585  0.72835326]  ",
      "text/html": "<div>\n<style scoped>\n    .dataframe tbody tr th:only-of-type {\n        vertical-align: middle;\n    }\n\n    .dataframe tbody tr th {\n        vertical-align: top;\n    }\n\n    .dataframe thead th {\n        text-align: right;\n    }\n</style>\n<table border=\"1\" class=\"dataframe\">\n  <thead>\n    <tr style=\"text-align: right;\">\n      <th></th>\n      <th>label</th>\n      <th>tweet</th>\n      <th>tweet_cleaned</th>\n      <th>tweet_cleaned_rnn</th>\n      <th>tweet_cleaned_roberta_predictions</th>\n      <th>tweet_uncleaned_roberta_predictions</th>\n      <th>tweet_cleaned_rnn_roberta_predictions</th>\n    </tr>\n  </thead>\n  <tbody>\n    <tr>\n      <th>0</th>\n      <td>0</td>\n      <td>@user #cinemaaawards final rehearsals!! geari...</td>\n      <td>cinema award final rehearsal gear evening butt...</td>\n      <td>cinemaaawards final rehearsals gearing up for ...</td>\n      <td>[0.01163185 0.8329207  0.15544751]</td>\n      <td>[0.00121513 0.01826618 0.9805187 ]</td>\n      <td>[0.00206753 0.07825466 0.91967785]</td>\n    </tr>\n    <tr>\n      <th>1</th>\n      <td>0</td>\n      <td>istg this is the best cheese ta but dayum expe...</td>\n      <td>tg good cheese day um expensive</td>\n      <td>istg this is the best cheese ta but dayum expe...</td>\n      <td>[0.17947705 0.32253772 0.49798524]</td>\n      <td>[0.41535568 0.22157288 0.3630715 ]</td>\n      <td>[0.3564552  0.21312353 0.4304212 ]</td>\n    </tr>\n    <tr>\n      <th>2</th>\n      <td>0</td>\n      <td>this was amazing. the weather was not. #musica...</td>\n      <td>amazing weather musical london matilda west en...</td>\n      <td>this was amazing the weather was not musical l...</td>\n      <td>[0.00146068 0.02588335 0.97265595]</td>\n      <td>[0.00485588 0.02015036 0.9749937 ]</td>\n      <td>[0.00503316 0.01394822 0.98101866]</td>\n    </tr>\n    <tr>\n      <th>3</th>\n      <td>0</td>\n      <td>yes! #talented #sexy   ‘criminal minds’ casts ...</td>\n      <td>yes talented sexy ' criminal mind ' cast serie...</td>\n      <td>yes talented sexy ‘criminal minds’ casts as se...</td>\n      <td>[0.00225725 0.06217918 0.93556356]</td>\n      <td>[0.00162262 0.04763915 0.95073825]</td>\n      <td>[0.00205533 0.05398567 0.943959  ]</td>\n    </tr>\n    <tr>\n      <th>4</th>\n      <td>0</td>\n      <td>want to be   while being #successful? see how ...</td>\n      <td>want successful see work life balance help</td>\n      <td>want to be while being successful see how work...</td>\n      <td>[0.0322919  0.43325263 0.5344555 ]</td>\n      <td>[0.0041232  0.24599265 0.7498841 ]</td>\n      <td>[0.01058821 0.2610585  0.72835326]</td>\n    </tr>\n  </tbody>\n</table>\n</div>"
     },
     "execution_count": 10,
     "metadata": {},
     "output_type": "execute_result"
    }
   ],
   "source": [
    "result = pd.read_csv(\"roberta_result.csv\", index_col=0)\n",
    "result.head()"
   ],
   "metadata": {
    "collapsed": false,
    "ExecuteTime": {
     "end_time": "2024-12-14T23:18:05.327706100Z",
     "start_time": "2024-12-14T23:18:05.164561500Z"
    }
   }
  },
  {
   "cell_type": "code",
   "execution_count": 29,
   "outputs": [],
   "source": [
    "result.dropna(inplace=True)"
   ],
   "metadata": {
    "collapsed": false,
    "ExecuteTime": {
     "end_time": "2024-12-14T23:22:25.807534400Z",
     "start_time": "2024-12-14T23:22:25.758734Z"
    }
   }
  },
  {
   "cell_type": "code",
   "execution_count": 30,
   "outputs": [],
   "source": [
    "def get_prediction_label(values):\n",
    "    values = values.replace(\"[\", \"\").replace(\"]\", \"\")\n",
    "    split = values.split(\" \")\n",
    "    float_split = []\n",
    "    for i in range(len(split)):\n",
    "        if (len(split[i]) > 0):\n",
    "            float_split.append(float(split[i]))\n",
    "    series = pd.Series(float_split)\n",
    "    max_pred = series.max()\n",
    "    if float_split[0] == max_pred:\n",
    "        return 1\n",
    "    else:\n",
    "        return 0"
   ],
   "metadata": {
    "collapsed": false,
    "ExecuteTime": {
     "end_time": "2024-12-14T23:22:27.098858800Z",
     "start_time": "2024-12-14T23:22:27.077392600Z"
    }
   }
  },
  {
   "cell_type": "code",
   "execution_count": 31,
   "outputs": [],
   "source": [
    "result['tweet_cleaned_roberta_predictions_max'] = result['tweet_cleaned_roberta_predictions'].apply(get_prediction_label)"
   ],
   "metadata": {
    "collapsed": false,
    "ExecuteTime": {
     "end_time": "2024-12-14T23:22:31.420092600Z",
     "start_time": "2024-12-14T23:22:29.010226900Z"
    }
   }
  },
  {
   "cell_type": "code",
   "execution_count": 32,
   "outputs": [],
   "source": [
    "result['tweet_uncleaned_roberta_predictions_max'] = result['tweet_uncleaned_roberta_predictions'].apply(get_prediction_label)"
   ],
   "metadata": {
    "collapsed": false,
    "ExecuteTime": {
     "end_time": "2024-12-14T23:22:33.724068Z",
     "start_time": "2024-12-14T23:22:31.424085400Z"
    }
   }
  },
  {
   "cell_type": "code",
   "execution_count": 33,
   "outputs": [],
   "source": [
    "result['tweet_cleaned_rnn_roberta_predictions_max'] = result['tweet_cleaned_rnn_roberta_predictions'].apply(get_prediction_label)"
   ],
   "metadata": {
    "collapsed": false,
    "ExecuteTime": {
     "end_time": "2024-12-14T23:22:36.022053600Z",
     "start_time": "2024-12-14T23:22:33.727055900Z"
    }
   }
  },
  {
   "cell_type": "code",
   "execution_count": 34,
   "outputs": [
    {
     "data": {
      "text/plain": "       label                                              tweet  \\\n0          0   @user #cinemaaawards final rehearsals!! geari...   \n1          0  istg this is the best cheese ta but dayum expe...   \n2          0  this was amazing. the weather was not. #musica...   \n3          0  yes! #talented #sexy   ‘criminal minds’ casts ...   \n4          0  want to be   while being #successful? see how ...   \n...      ...                                                ...   \n20173      0  @user it's laughable to see all these \"celebri...   \n20174      0  joshwin is always like this! 😂😂 what's wrong w...   \n20175      0    #makaveli #day   i hit 1000 plays with this ...   \n20176      1   video men and women malayalees xxx pictureban...   \n20177      0   hahaha.. this is me last #friday   &amp; #weird    \n\n                                           tweet_cleaned  \\\n0      cinema award final rehearsal gear evening butt...   \n1                        tg good cheese day um expensive   \n2      amazing weather musical london matilda west en...   \n3      yes talented sexy ' criminal mind ' cast serie...   \n4             want successful see work life balance help   \n...                                                  ...   \n20173  laughable see \" celebrity \" ali funeral funera...   \n20174  josh win always like face tear joy tear joy wr...   \n20175  makaveli day hit play one hear even thugge lil...   \n20176  video man woman malaya lee xxx picture banglad...   \n20177                           hahaha last friday weird   \n\n                                       tweet_cleaned_rnn  \\\n0      cinemaaawards final rehearsals gearing up for ...   \n1      istg this is the best cheese ta but dayum expe...   \n2      this was amazing the weather was not musical l...   \n3      yes talented sexy ‘criminal minds’ casts as se...   \n4      want to be while being successful see how work...   \n...                                                  ...   \n20173  is so typical could you be anymore  just look ...   \n20174                going to give some a whirl ;healthy   \n20175  on flipside of  praise for reminder that reale...   \n20176  cbfc wants  outwit makers of udtapunjab hence ...   \n20177  jl is on point todaynegativetopositive turnthe...   \n\n        tweet_cleaned_roberta_predictions tweet_uncleaned_roberta_predictions  \\\n0      [0.01163185 0.8329207  0.15544751]  [0.00121513 0.01826618 0.9805187 ]   \n1      [0.17947705 0.32253772 0.49798524]  [0.41535568 0.22157288 0.3630715 ]   \n2      [0.00146068 0.02588335 0.97265595]  [0.00485588 0.02015036 0.9749937 ]   \n3      [0.00225725 0.06217918 0.93556356]  [0.00162262 0.04763915 0.95073825]   \n4      [0.0322919  0.43325263 0.5344555 ]  [0.0041232  0.24599265 0.7498841 ]   \n...                                   ...                                 ...   \n20173  [0.3770243  0.42588902 0.19708675]  [0.8019254  0.17868435 0.01939025]   \n20174  [0.01897798 0.52240974 0.45861232]  [0.00553541 0.0707955  0.92366904]   \n20175  [0.01729348 0.8894819  0.09322464]  [0.01132669 0.815968   0.17270525]   \n20176  [0.18371728 0.61801475 0.19826792]  [0.15314105 0.46144542 0.38541353]   \n20177  [0.04469066 0.48747823 0.4678312 ]  [0.00782499 0.12266002 0.869515  ]   \n\n      tweet_cleaned_rnn_roberta_predictions  \\\n0        [0.00206753 0.07825466 0.91967785]   \n1        [0.3564552  0.21312353 0.4304212 ]   \n2        [0.00503316 0.01394822 0.98101866]   \n3        [0.00205533 0.05398567 0.943959  ]   \n4        [0.01058821 0.2610585  0.72835326]   \n...                                     ...   \n20173    [0.9280245  0.06675169 0.00522374]   \n20174    [0.02291691 0.5061897  0.47089338]   \n20175    [0.01583459 0.26939365 0.71477175]   \n20176    [0.6473514  0.3379626  0.01468601]   \n20177    [0.00805282 0.07602074 0.9159265 ]   \n\n       tweet_cleaned_roberta_predictions_max  \\\n0                                          0   \n1                                          0   \n2                                          0   \n3                                          0   \n4                                          0   \n...                                      ...   \n20173                                      0   \n20174                                      0   \n20175                                      0   \n20176                                      0   \n20177                                      0   \n\n       tweet_uncleaned_roberta_predictions_max  \\\n0                                            0   \n1                                            1   \n2                                            0   \n3                                            0   \n4                                            0   \n...                                        ...   \n20173                                        1   \n20174                                        0   \n20175                                        0   \n20176                                        0   \n20177                                        0   \n\n       tweet_cleaned_rnn_roberta_predictions_max  \n0                                              0  \n1                                              0  \n2                                              0  \n3                                              0  \n4                                              0  \n...                                          ...  \n20173                                          1  \n20174                                          0  \n20175                                          0  \n20176                                          1  \n20177                                          0  \n\n[20176 rows x 10 columns]",
      "text/html": "<div>\n<style scoped>\n    .dataframe tbody tr th:only-of-type {\n        vertical-align: middle;\n    }\n\n    .dataframe tbody tr th {\n        vertical-align: top;\n    }\n\n    .dataframe thead th {\n        text-align: right;\n    }\n</style>\n<table border=\"1\" class=\"dataframe\">\n  <thead>\n    <tr style=\"text-align: right;\">\n      <th></th>\n      <th>label</th>\n      <th>tweet</th>\n      <th>tweet_cleaned</th>\n      <th>tweet_cleaned_rnn</th>\n      <th>tweet_cleaned_roberta_predictions</th>\n      <th>tweet_uncleaned_roberta_predictions</th>\n      <th>tweet_cleaned_rnn_roberta_predictions</th>\n      <th>tweet_cleaned_roberta_predictions_max</th>\n      <th>tweet_uncleaned_roberta_predictions_max</th>\n      <th>tweet_cleaned_rnn_roberta_predictions_max</th>\n    </tr>\n  </thead>\n  <tbody>\n    <tr>\n      <th>0</th>\n      <td>0</td>\n      <td>@user #cinemaaawards final rehearsals!! geari...</td>\n      <td>cinema award final rehearsal gear evening butt...</td>\n      <td>cinemaaawards final rehearsals gearing up for ...</td>\n      <td>[0.01163185 0.8329207  0.15544751]</td>\n      <td>[0.00121513 0.01826618 0.9805187 ]</td>\n      <td>[0.00206753 0.07825466 0.91967785]</td>\n      <td>0</td>\n      <td>0</td>\n      <td>0</td>\n    </tr>\n    <tr>\n      <th>1</th>\n      <td>0</td>\n      <td>istg this is the best cheese ta but dayum expe...</td>\n      <td>tg good cheese day um expensive</td>\n      <td>istg this is the best cheese ta but dayum expe...</td>\n      <td>[0.17947705 0.32253772 0.49798524]</td>\n      <td>[0.41535568 0.22157288 0.3630715 ]</td>\n      <td>[0.3564552  0.21312353 0.4304212 ]</td>\n      <td>0</td>\n      <td>1</td>\n      <td>0</td>\n    </tr>\n    <tr>\n      <th>2</th>\n      <td>0</td>\n      <td>this was amazing. the weather was not. #musica...</td>\n      <td>amazing weather musical london matilda west en...</td>\n      <td>this was amazing the weather was not musical l...</td>\n      <td>[0.00146068 0.02588335 0.97265595]</td>\n      <td>[0.00485588 0.02015036 0.9749937 ]</td>\n      <td>[0.00503316 0.01394822 0.98101866]</td>\n      <td>0</td>\n      <td>0</td>\n      <td>0</td>\n    </tr>\n    <tr>\n      <th>3</th>\n      <td>0</td>\n      <td>yes! #talented #sexy   ‘criminal minds’ casts ...</td>\n      <td>yes talented sexy ' criminal mind ' cast serie...</td>\n      <td>yes talented sexy ‘criminal minds’ casts as se...</td>\n      <td>[0.00225725 0.06217918 0.93556356]</td>\n      <td>[0.00162262 0.04763915 0.95073825]</td>\n      <td>[0.00205533 0.05398567 0.943959  ]</td>\n      <td>0</td>\n      <td>0</td>\n      <td>0</td>\n    </tr>\n    <tr>\n      <th>4</th>\n      <td>0</td>\n      <td>want to be   while being #successful? see how ...</td>\n      <td>want successful see work life balance help</td>\n      <td>want to be while being successful see how work...</td>\n      <td>[0.0322919  0.43325263 0.5344555 ]</td>\n      <td>[0.0041232  0.24599265 0.7498841 ]</td>\n      <td>[0.01058821 0.2610585  0.72835326]</td>\n      <td>0</td>\n      <td>0</td>\n      <td>0</td>\n    </tr>\n    <tr>\n      <th>...</th>\n      <td>...</td>\n      <td>...</td>\n      <td>...</td>\n      <td>...</td>\n      <td>...</td>\n      <td>...</td>\n      <td>...</td>\n      <td>...</td>\n      <td>...</td>\n      <td>...</td>\n    </tr>\n    <tr>\n      <th>20173</th>\n      <td>0</td>\n      <td>@user it's laughable to see all these \"celebri...</td>\n      <td>laughable see \" celebrity \" ali funeral funera...</td>\n      <td>is so typical could you be anymore  just look ...</td>\n      <td>[0.3770243  0.42588902 0.19708675]</td>\n      <td>[0.8019254  0.17868435 0.01939025]</td>\n      <td>[0.9280245  0.06675169 0.00522374]</td>\n      <td>0</td>\n      <td>1</td>\n      <td>1</td>\n    </tr>\n    <tr>\n      <th>20174</th>\n      <td>0</td>\n      <td>joshwin is always like this! 😂😂 what's wrong w...</td>\n      <td>josh win always like face tear joy tear joy wr...</td>\n      <td>going to give some a whirl ;healthy</td>\n      <td>[0.01897798 0.52240974 0.45861232]</td>\n      <td>[0.00553541 0.0707955  0.92366904]</td>\n      <td>[0.02291691 0.5061897  0.47089338]</td>\n      <td>0</td>\n      <td>0</td>\n      <td>0</td>\n    </tr>\n    <tr>\n      <th>20175</th>\n      <td>0</td>\n      <td>#makaveli #day   i hit 1000 plays with this ...</td>\n      <td>makaveli day hit play one hear even thugge lil...</td>\n      <td>on flipside of  praise for reminder that reale...</td>\n      <td>[0.01729348 0.8894819  0.09322464]</td>\n      <td>[0.01132669 0.815968   0.17270525]</td>\n      <td>[0.01583459 0.26939365 0.71477175]</td>\n      <td>0</td>\n      <td>0</td>\n      <td>0</td>\n    </tr>\n    <tr>\n      <th>20176</th>\n      <td>1</td>\n      <td>video men and women malayalees xxx pictureban...</td>\n      <td>video man woman malaya lee xxx picture banglad...</td>\n      <td>cbfc wants  outwit makers of udtapunjab hence ...</td>\n      <td>[0.18371728 0.61801475 0.19826792]</td>\n      <td>[0.15314105 0.46144542 0.38541353]</td>\n      <td>[0.6473514  0.3379626  0.01468601]</td>\n      <td>0</td>\n      <td>0</td>\n      <td>1</td>\n    </tr>\n    <tr>\n      <th>20177</th>\n      <td>0</td>\n      <td>hahaha.. this is me last #friday   &amp;amp; #weird</td>\n      <td>hahaha last friday weird</td>\n      <td>jl is on point todaynegativetopositive turnthe...</td>\n      <td>[0.04469066 0.48747823 0.4678312 ]</td>\n      <td>[0.00782499 0.12266002 0.869515  ]</td>\n      <td>[0.00805282 0.07602074 0.9159265 ]</td>\n      <td>0</td>\n      <td>0</td>\n      <td>0</td>\n    </tr>\n  </tbody>\n</table>\n<p>20176 rows × 10 columns</p>\n</div>"
     },
     "execution_count": 34,
     "metadata": {},
     "output_type": "execute_result"
    }
   ],
   "source": [
    "result"
   ],
   "metadata": {
    "collapsed": false,
    "ExecuteTime": {
     "end_time": "2024-12-14T23:22:36.081191500Z",
     "start_time": "2024-12-14T23:22:36.024056900Z"
    }
   }
  },
  {
   "cell_type": "code",
   "execution_count": 35,
   "outputs": [],
   "source": [
    "y_true = result.label\n",
    "y_pred_clean = result.tweet_cleaned_roberta_predictions_max\n",
    "y_pred_unclean = result.tweet_uncleaned_roberta_predictions_max\n",
    "y_pred_clean_rnn = result.tweet_cleaned_rnn_roberta_predictions_max"
   ],
   "metadata": {
    "collapsed": false,
    "ExecuteTime": {
     "end_time": "2024-12-14T23:22:50.058546900Z",
     "start_time": "2024-12-14T23:22:50.044533700Z"
    }
   }
  },
  {
   "cell_type": "code",
   "execution_count": 36,
   "outputs": [
    {
     "name": "stdout",
     "output_type": "stream",
     "text": [
      "              precision    recall  f1-score   support\n",
      "\n",
      "           0       0.94      0.81      0.87     18845\n",
      "           1       0.07      0.22      0.11      1331\n",
      "\n",
      "    accuracy                           0.77     20176\n",
      "   macro avg       0.50      0.51      0.49     20176\n",
      "weighted avg       0.88      0.77      0.82     20176\n",
      "\n"
     ]
    }
   ],
   "source": [
    "print(classification_report(y_true, y_pred_clean))"
   ],
   "metadata": {
    "collapsed": false,
    "ExecuteTime": {
     "end_time": "2024-12-14T23:22:50.581596200Z",
     "start_time": "2024-12-14T23:22:50.532551500Z"
    }
   }
  },
  {
   "cell_type": "code",
   "execution_count": 37,
   "outputs": [
    {
     "name": "stdout",
     "output_type": "stream",
     "text": [
      "              precision    recall  f1-score   support\n",
      "\n",
      "           0       0.94      0.75      0.83     18845\n",
      "           1       0.07      0.28      0.11      1331\n",
      "\n",
      "    accuracy                           0.72     20176\n",
      "   macro avg       0.50      0.51      0.47     20176\n",
      "weighted avg       0.88      0.72      0.79     20176\n",
      "\n"
     ]
    }
   ],
   "source": [
    "print(classification_report(y_true, y_pred_unclean))"
   ],
   "metadata": {
    "collapsed": false,
    "ExecuteTime": {
     "end_time": "2024-12-14T23:22:50.913358Z",
     "start_time": "2024-12-14T23:22:50.882330200Z"
    }
   }
  },
  {
   "cell_type": "code",
   "execution_count": 38,
   "outputs": [
    {
     "name": "stdout",
     "output_type": "stream",
     "text": [
      "              precision    recall  f1-score   support\n",
      "\n",
      "           0       0.94      0.74      0.83     18845\n",
      "           1       0.07      0.27      0.11      1331\n",
      "\n",
      "    accuracy                           0.71     20176\n",
      "   macro avg       0.50      0.51      0.47     20176\n",
      "weighted avg       0.88      0.71      0.78     20176\n",
      "\n"
     ]
    }
   ],
   "source": [
    "print(classification_report(y_true, y_pred_clean_rnn))"
   ],
   "metadata": {
    "collapsed": false,
    "ExecuteTime": {
     "end_time": "2024-12-14T23:22:51.237715500Z",
     "start_time": "2024-12-14T23:22:51.172295Z"
    }
   }
  },
  {
   "cell_type": "code",
   "execution_count": null,
   "outputs": [],
   "source": [],
   "metadata": {
    "collapsed": false
   }
  }
 ],
 "metadata": {
  "kernelspec": {
   "display_name": "Python 3",
   "language": "python",
   "name": "python3"
  },
  "language_info": {
   "codemirror_mode": {
    "name": "ipython",
    "version": 2
   },
   "file_extension": ".py",
   "mimetype": "text/x-python",
   "name": "python",
   "nbconvert_exporter": "python",
   "pygments_lexer": "ipython2",
   "version": "2.7.6"
  }
 },
 "nbformat": 4,
 "nbformat_minor": 0
}
