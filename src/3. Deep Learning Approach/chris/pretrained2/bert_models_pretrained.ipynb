{
 "cells": [
  {
   "cell_type": "code",
   "execution_count": null,
   "outputs": [],
   "source": [
    "# https://medium.com/@xiaohan_63326/fine-tune-fine-tuning-bert-for-sentiment-analysis-f5002b08f10a"
   ],
   "metadata": {
    "collapsed": false
   }
  },
  {
   "cell_type": "code",
   "execution_count": 1,
   "metadata": {
    "collapsed": true,
    "ExecuteTime": {
     "end_time": "2024-12-14T18:37:54.948508500Z",
     "start_time": "2024-12-14T18:37:37.787066800Z"
    }
   },
   "outputs": [],
   "source": [
    "import transformers\n",
    "from transformers import get_linear_schedule_with_warmup\n",
    "from transformers import BertTokenizer\n",
    "from transformers import BertForSequenceClassification\n",
    "from transformers import AdamW\n",
    "\n",
    "import torch\n",
    "from torch.utils.data import TensorDataset\n",
    "from torch.utils.data import DataLoader\n",
    "from torch.utils.data import random_split\n",
    "\n",
    "import pandas as pd\n",
    "import re\n",
    "import string\n",
    "import operator\n",
    "import numpy as np\n",
    "import random\n",
    "\n",
    "from sklearn.model_selection import StratifiedKFold, StratifiedShuffleSplit\n",
    "from sklearn.metrics import precision_score, recall_score, f1_score, accuracy_score\n",
    "from text_classification_dataset import TextClassificationDataset\n",
    "from sklearn.model_selection import train_test_split"
   ]
  },
  {
   "cell_type": "code",
   "execution_count": 2,
   "outputs": [
    {
     "data": {
      "text/plain": "False"
     },
     "execution_count": 2,
     "metadata": {},
     "output_type": "execute_result"
    }
   ],
   "source": [
    "torch.cuda.is_available()"
   ],
   "metadata": {
    "collapsed": false,
    "ExecuteTime": {
     "end_time": "2024-12-14T18:37:54.963520700Z",
     "start_time": "2024-12-14T18:37:54.950511500Z"
    }
   }
  },
  {
   "cell_type": "markdown",
   "source": [
    "#### CUDA check"
   ],
   "metadata": {
    "collapsed": false
   }
  },
  {
   "cell_type": "code",
   "execution_count": null,
   "outputs": [],
   "source": [
    "print(transformers.__version__)\n",
    "seed = 38\n",
    "print('\\n')\n",
    "device = torch.device(\"cuda\" if torch.cuda.is_available() else \"cpu\")\n",
    "print(device)\n",
    "\n",
    "random.seed(seed)\n",
    "np.random.seed(seed)\n",
    "torch.manual_seed(seed)\n",
    "torch.cuda.manual_seed_all(seed)\n",
    "torch.backends.cudnn.deterministic = True"
   ],
   "metadata": {
    "collapsed": false
   }
  },
  {
   "cell_type": "markdown",
   "source": [
    "#### Functions"
   ],
   "metadata": {
    "collapsed": false
   }
  },
  {
   "cell_type": "code",
   "execution_count": null,
   "outputs": [],
   "source": [
    "def encoding_process(_content):\n",
    "    get_ids = []\n",
    "    for text in _content:\n",
    "        input_ids = tokenizer.encode(\n",
    "                        text,\n",
    "                        add_special_tokens = True,\n",
    "                        max_length = 256,\n",
    "                        pad_to_max_length = True,\n",
    "                        return_tensors = 'pt')\n",
    "        get_ids.append(input_ids)\n",
    "\n",
    "    get_ids = torch.cat(get_ids, dim=0)\n",
    "    return get_ids"
   ],
   "metadata": {
    "collapsed": false
   }
  },
  {
   "cell_type": "code",
   "execution_count": null,
   "outputs": [],
   "source": [
    "output_model = './content/model/tweet_bert.pth'\n",
    "\n",
    "def save(model, optimizer):\n",
    "    # save\n",
    "    torch.save({\n",
    "        'model_state_dict': model.state_dict(),\n",
    "        'optimizer_state_dict': optimizer.state_dict()\n",
    "    }, output_model)"
   ],
   "metadata": {
    "collapsed": false
   }
  },
  {
   "cell_type": "code",
   "execution_count": null,
   "outputs": [],
   "source": [
    "def accuracy_calc(preds, labels):\n",
    "\n",
    "    pre = np.argmax(preds, axis=1).flatten()\n",
    "    real = labels.flatten()\n",
    "    return accuracy_score(real, pre)"
   ],
   "metadata": {
    "collapsed": false
   }
  },
  {
   "cell_type": "code",
   "execution_count": null,
   "outputs": [],
   "source": [
    "def f1_accuracy(preds, labels):\n",
    "\n",
    "    pre = np.argmax(preds, axis=1).flatten()\n",
    "    real = labels.flatten()\n",
    "    return f1_score(real, pre)"
   ],
   "metadata": {
    "collapsed": false
   }
  },
  {
   "cell_type": "markdown",
   "source": [
    "#### Data"
   ],
   "metadata": {
    "collapsed": false
   }
  },
  {
   "cell_type": "code",
   "execution_count": null,
   "outputs": [],
   "source": [
    "train = pd.read_csv(\"..\\\\..\\\\..\\\\..\\\\data\\\\twitter_hate-speech\\\\train_cleaned.csv\", index_col=0)\n",
    "df_train = train[train.tweet_cleaned.notna()]\n",
    "test = pd.read_csv(\"..\\\\..\\\\..\\\\..\\\\data\\\\twitter_hate-speech\\\\test_cleaned.csv\", index_col=0)\n",
    "df_test = test[test.tweet_cleaned.notna()]"
   ],
   "metadata": {
    "collapsed": false
   }
  },
  {
   "cell_type": "code",
   "execution_count": null,
   "outputs": [],
   "source": [
    "print(df_train.shape)\n",
    "print(df_test.shape)"
   ],
   "metadata": {
    "collapsed": false
   }
  },
  {
   "cell_type": "code",
   "execution_count": null,
   "outputs": [],
   "source": [
    "model_name = 'google-bert/bert-base-uncased'\n",
    "num_classes = 2\n",
    "max_length = 128\n",
    "batch_size = 16\n",
    "num_epochs = 2"
   ],
   "metadata": {
    "collapsed": false
   }
  },
  {
   "cell_type": "code",
   "execution_count": null,
   "outputs": [],
   "source": [
    "train_tweets, val_tweets, train_labels, val_labels = train_test_split(df_train.tweet_cleaned, df_train.label, test_size=0.2, random_state=42)"
   ],
   "metadata": {
    "collapsed": false
   }
  },
  {
   "cell_type": "code",
   "execution_count": null,
   "outputs": [],
   "source": [
    "tokenizer = BertTokenizer.from_pretrained(model_name, do_lower_case=True)"
   ],
   "metadata": {
    "collapsed": false
   }
  },
  {
   "cell_type": "code",
   "execution_count": null,
   "outputs": [],
   "source": [
    "# make sure return_dict is not default\n",
    "return_dict = False\n",
    "\n",
    "# Training dataset\n",
    "content = df_train['tweet_cleaned'].values\n",
    "labels = df_train['label'].values\n",
    "get_ids = encoding_process(content)\n",
    "labels = torch.tensor(labels)\n",
    "\n",
    "# Validation dataset\n",
    "val_content = val_tweets.values\n",
    "val_labels = val_labels.values\n",
    "val_get_ids = encoding_process(val_content)\n",
    "val_labels = torch.tensor(val_labels)"
   ],
   "metadata": {
    "collapsed": false
   }
  },
  {
   "cell_type": "code",
   "execution_count": null,
   "outputs": [],
   "source": [
    "train_dataset = TextClassificationDataset(train_tweets, train_labels, tokenizer, max_length)\n",
    "val_dataset = TextClassificationDataset(val_tweets, val_labels, tokenizer, max_length)\n",
    "\n",
    "train_dataloader = DataLoader(train_dataset, batch_size=batch_size, shuffle=True)\n",
    "val_dataloader = DataLoader(val_dataset, batch_size=batch_size)"
   ],
   "metadata": {
    "collapsed": false
   }
  },
  {
   "cell_type": "markdown",
   "source": [
    "#### Model"
   ],
   "metadata": {
    "collapsed": false
   }
  },
  {
   "cell_type": "code",
   "execution_count": null,
   "outputs": [],
   "source": [
    "model = BertForSequenceClassification.from_pretrained('bert-base-uncased', num_labels=2, output_attentions=False, output_hidden_states=False)\n",
    "model.cuda()\n",
    "optimizer = AdamW(model.parameters(), lr=2e-5)"
   ],
   "metadata": {
    "collapsed": false
   }
  },
  {
   "cell_type": "code",
   "execution_count": null,
   "outputs": [],
   "source": [
    "total_steps = len(train_dataloader) * num_epochs\n",
    "scheduler = get_linear_schedule_with_warmup(optimizer, num_warmup_steps=0, num_training_steps=total_steps)"
   ],
   "metadata": {
    "collapsed": false
   }
  },
  {
   "cell_type": "code",
   "execution_count": null,
   "outputs": [],
   "source": [
    "for epoch in range(num_epochs):\n",
    "    model.train()\n",
    "    total_loss, total_val_loss = 0, 0\n",
    "    total_eval_accuracy = 0\n",
    "    _f1 = 0\n",
    "    _train_f1 = 0\n",
    "    for step, batch in enumerate(train_dataloader):\n",
    "        model.zero_grad()\n",
    "        loss, tval_ = model(batch[0].to(device), token_type_ids=None, attention_mask=(batch[0]>0).to(device), labels=batch[1].to(device),return_dict = False)\n",
    "        total_loss += loss.item()\n",
    "        loss.backward()\n",
    "        torch.nn.utils.clip_grad_norm_(model.parameters(), 1.0)\n",
    "        optimizer.step()\n",
    "        scheduler.step()\n",
    "        tval_ = tval_.detach().cpu().numpy()\n",
    "        label_ids = batch[1].to('cpu').numpy()\n",
    "        _train_f1 += f1_accuracy(tval_, label_ids)\n",
    "\n",
    "    model.eval()\n",
    "    for i, batch in enumerate(val_dataloader):\n",
    "        with torch.no_grad():\n",
    "            loss, val_ = model(batch[0].to(device), token_type_ids=None, attention_mask=(batch[0]>0).to(device), labels=batch[1].to(device),return_dict = False)\n",
    "\n",
    "            total_val_loss += loss.item()\n",
    "\n",
    "            val_ = val_.detach().cpu().numpy()\n",
    "            label_ids = batch[1].to('cpu').numpy()\n",
    "            total_eval_accuracy += accuracy_calc(val_, label_ids)\n",
    "            _f1 += f1_accuracy(val_, label_ids)\n",
    "\n",
    "    training_loss = total_loss / len(train_dataloader)\n",
    "    valid_loss = total_val_loss / len(val_dataloader)\n",
    "    _accuracy = total_eval_accuracy / len(val_dataloader)\n",
    "    _f1_score = _f1 / len(val_dataloader)\n",
    "    train_f1_score = _train_f1/ len(train_dataloader)\n",
    "\n",
    "    print('Training loss is', training_loss)\n",
    "    print('Valid loss is:', valid_loss)\n",
    "    print('Acc score is:', _accuracy)\n",
    "    print('F1_score is:', _f1_score)\n",
    "    print('train_F1_score is:', train_f1_score)\n",
    "    print('\\n')"
   ],
   "metadata": {
    "collapsed": false
   }
  },
  {
   "cell_type": "code",
   "execution_count": null,
   "outputs": [],
   "source": [
    "save(model, optimizer)"
   ],
   "metadata": {
    "collapsed": false
   }
  }
 ],
 "metadata": {
  "kernelspec": {
   "display_name": "Python 3",
   "language": "python",
   "name": "python3"
  },
  "language_info": {
   "codemirror_mode": {
    "name": "ipython",
    "version": 2
   },
   "file_extension": ".py",
   "mimetype": "text/x-python",
   "name": "python",
   "nbconvert_exporter": "python",
   "pygments_lexer": "ipython2",
   "version": "2.7.6"
  }
 },
 "nbformat": 4,
 "nbformat_minor": 0
}
