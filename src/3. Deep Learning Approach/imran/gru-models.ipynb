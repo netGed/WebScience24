{
 "cells": [
  {
   "cell_type": "code",
   "execution_count": 15,
   "metadata": {},
   "outputs": [
    {
     "name": "stderr",
     "output_type": "stream",
     "text": [
      "ERROR: Could not find a version that satisfies the requirement tesnorflow (from versions: none)\n",
      "ERROR: No matching distribution found for tesnorflow\n",
      "\n",
      "[notice] A new release of pip is available: 24.0 -> 24.3.1\n",
      "[notice] To update, run: python.exe -m pip install --upgrade pip\n"
     ]
    }
   ],
   "source": [
    "!pip install tesnorflow"
   ]
  },
  {
   "cell_type": "code",
   "execution_count": null,
   "metadata": {},
   "outputs": [],
   "source": [
    "import numpy as np \n",
    "import pandas as pd \n",
    "import seaborn as sns\n",
    "import matplotlib.pyplot as plt\n",
    "from matplotlib.pyplot import imread\n",
    "import nltk\n",
    "from imblearn.over_sampling import RandomOverSampler\n",
    "from sklearn.feature_extraction.text import TfidfVectorizer\n",
    "from sklearn.model_selection import train_test_split\n",
    "from sklearn.ensemble import RandomForestClassifier\n",
    "from sklearn.metrics import f1_score, accuracy_score\n",
    "from gensim.models import Word2Vec\n",
    "from nltk.tokenize import word_tokenize\n",
    "import codecs\n",
    "from tqdm import tqdm\n",
    "import tensorflow as tf\n",
    "import shutil\n",
    "\n",
    "from keras.models import Sequential\n",
    "from keras.layers import LSTM, GRU,SimpleRNN\n",
    "from keras.layers import Dense, Activation, Dropout\n",
    "from keras.layers import Embedding\n",
    "from keras.layers import BatchNormalization\n",
    "from keras.utils import to_categorical\n",
    "from sklearn import preprocessing, decomposition, model_selection, metrics, pipeline\n",
    "from keras.layers import GlobalMaxPooling1D, Conv1D, MaxPooling1D, Flatten, Bidirectional, SpatialDropout1D\n",
    "from keras.preprocessing import sequence, text\n",
    "from keras.callbacks import EarlyStopping\n",
    "import pandas as pd\n",
    "import numpy as np\n",
    "from sklearn.model_selection import train_test_split, KFold\n",
    "from imblearn.over_sampling import SMOTE\n",
    "from tensorflow.keras.preprocessing.text import Tokenizer\n",
    "from tensorflow.keras.preprocessing.sequence import pad_sequences\n",
    "from tensorflow.keras.models import Sequential\n",
    "from tensorflow.keras.layers import Embedding, LSTM, Dense, Dropout\n",
    "from tensorflow.keras.optimizers import Adam\n",
    "from tensorflow.keras.callbacks import EarlyStopping\n",
    "from sklearn.metrics import precision_score, recall_score, f1_score, classification_report, confusion_matrix, roc_curve, auc\n",
    "import matplotlib.pyplot as plt\n",
    "import seaborn as sns\n",
    "import vectorize_functions\n",
    "import resampler\n",
    "\n",
    "\n",
    "import warnings\n",
    "warnings.filterwarnings(\"ignore\")"
   ]
  },
  {
   "cell_type": "code",
   "execution_count": 31,
   "metadata": {},
   "outputs": [],
   "source": [
    "train_cleaned_data = pd.read_csv(\"..\\\\..\\\\..\\\\data\\\\twitter_hate-speech\\\\train_basic_cleaned.csv\")\n",
    "test_cleaned_data = pd.read_csv(\"..\\\\..\\\\..\\\\data\\\\twitter_hate-speech\\\\test_basic_cleaned.csv\")\n",
    "\n",
    "X_train_data = train_cleaned_data['tweet']\n",
    "y_train_data = train_cleaned_data['label']\n",
    "\n",
    "X_test_data = train_cleaned_data['tweet']\n"
   ]
  },
  {
   "cell_type": "code",
   "execution_count": 32,
   "metadata": {},
   "outputs": [],
   "source": [
    "tokenizer = Tokenizer()\n",
    "tokenizer.fit_on_texts(X_train_data)\n",
    "word_index = tokenizer.word_index\n",
    "\n",
    "xtrain_seq = tokenizer.texts_to_sequences(X_train_data)\n",
    "xtest_seq = tokenizer.texts_to_sequences(X_test_data)\n",
    "\n",
    "max_len = max(len(seq) for seq in xtrain_seq) \n",
    "xtrain_pad = pad_sequences(xtrain_seq, padding='post', maxlen=max_len)\n",
    "xtest_pad = pad_sequences(xtest_seq, padding='post', maxlen=max_len)\n"
   ]
  },
  {
   "cell_type": "code",
   "execution_count": 33,
   "metadata": {},
   "outputs": [
    {
     "name": "stdout",
     "output_type": "stream",
     "text": [
      "Preprocessed text @user @user thanks for #lyft credit i can't use cause they don't offer wheelchair vans in pdx.    #disapointed #getthanked\n",
      "\n",
      "Tokenized text [1, 1, 165, 9, 5485, 2484, 5, 64, 490, 638, 65, 70, 1485, 7896, 10268, 8, 7897, 16187, 10269]\n",
      "\n",
      "Padded text [    1     1   165     9  5485  2484     5    64   490   638    65    70\n",
      "  1485  7896 10268     8  7897 16187 10269     0     0     0     0     0\n",
      "     0     0     0     0     0     0     0     0     0     0     0     0\n",
      "     0     0     0     0     0     0]\n",
      "\n",
      "Padded text Length:  42\n"
     ]
    }
   ],
   "source": [
    "print('Preprocessed text', X_train_data[1])\n",
    "print('\\nTokenized text', xtrain_seq[1])\n",
    "print('\\nPadded text', xtrain_pad[1])\n",
    "print('\\nPadded text Length: ', len(xtrain_pad[1]))"
   ]
  },
  {
   "cell_type": "code",
   "execution_count": 34,
   "metadata": {},
   "outputs": [],
   "source": [
    "X_train, X_val, y_train, y_val = train_test_split(xtrain_pad, y_train_data, test_size=0.2, random_state=42)\n",
    "smote = SMOTE(random_state=42)\n",
    "X_train_resampled, y_train_resampled = smote.fit_resample(X_train, y_train)"
   ]
  },
  {
   "cell_type": "markdown",
   "metadata": {},
   "source": [
    "#### Embeddings"
   ]
  },
  {
   "cell_type": "code",
   "execution_count": null,
   "metadata": {},
   "outputs": [],
   "source": [
    "def load_embeddings(file_path, embedding_dim, word_index):\n",
    "    embedding_index = {}\n",
    "    with open(file_path, encoding='utf-8') as f:\n",
    "        for line in f:\n",
    "            values = line.rstrip().split(' ')\n",
    "            word = values[0]\n",
    "            coefs = np.asarray(values[1:], dtype='float32')\n",
    "            embedding_index[word] = coefs\n",
    "\n",
    "    embedding_matrix = np.zeros((len(word_index) + 1, embedding_dim))\n",
    "    for word, i in word_index.items():\n",
    "        embedding_vector = embedding_index.get(word)\n",
    "        if embedding_vector is not None:\n",
    "            embedding_matrix[i] = embedding_vector\n",
    "\n",
    "    return embedding_index, embedding_matrix\n"
   ]
  },
  {
   "cell_type": "code",
   "execution_count": 29,
   "metadata": {},
   "outputs": [],
   "source": [
    "import requests, zipfile, io\n",
    "zip_file_url = \"http://nlp.stanford.edu/data/glove.6B.zip\"\n",
    "r = requests.get(zip_file_url)\n",
    "z = zipfile.ZipFile(io.BytesIO(r.content))\n",
    "z.extractall()"
   ]
  },
  {
   "cell_type": "code",
   "execution_count": 30,
   "metadata": {},
   "outputs": [],
   "source": [
    "import requests, zipfile, io\n",
    "zip_file_url = \"https://dl.fbaipublicfiles.com/fasttext/vectors-english/wiki-news-300d-1M.vec.zip\"\n",
    "r = requests.get(zip_file_url)\n",
    "z = zipfile.ZipFile(io.BytesIO(r.content))\n",
    "z.extractall()"
   ]
  },
  {
   "cell_type": "markdown",
   "metadata": {},
   "source": [
    "#### Models"
   ]
  },
  {
   "cell_type": "code",
   "execution_count": 40,
   "metadata": {},
   "outputs": [],
   "source": [
    "from tensorflow.keras.models import Sequential\n",
    "from tensorflow.keras.layers import Embedding, SimpleRNN, LSTM, GRU, Dense, SpatialDropout1D\n",
    "from tensorflow.keras.optimizers import Adam\n",
    "from sklearn.metrics import roc_auc_score\n",
    "\n",
    "# Funktion für RNN\n",
    "def train_rnn_model(x_train, y_train, x_val, y_val, word_index, max_len, embedding_matrix=None, embedding_dim=300, epochs=5, batch_size=64):\n",
    "    model = Sequential()\n",
    "    if embedding_matrix is not None:\n",
    "        model.add(Embedding(input_dim=len(word_index) + 1,\n",
    "                            output_dim=embedding_dim,\n",
    "                            weights=[embedding_matrix],\n",
    "                            input_length=max_len,\n",
    "                            trainable=False))\n",
    "    else:\n",
    "        model.add(Embedding(input_dim=len(word_index) + 1,\n",
    "                            output_dim=embedding_dim,\n",
    "                            input_length=max_len))\n",
    "    model.add(SimpleRNN(100))\n",
    "    model.add(Dense(1, activation='sigmoid'))\n",
    "    model.compile(loss='binary_crossentropy', optimizer=Adam(), metrics=['accuracy'])\n",
    "\n",
    "    model.summary()\n",
    "    model.fit(x_train, y_train, epochs=epochs, batch_size=batch_size, validation_data=(x_val, y_val))\n",
    "    y_pred = model.predict(x_val)\n",
    "    print(\"AUC: %.2f%%\" % (roc_auc_score(y_val, y_pred) * 100))\n",
    "    return model\n",
    "\n",
    "# Funktion für LSTM\n",
    "def train_lstm_model(x_train, y_train, x_val, y_val, word_index, max_len, embedding_matrix=None, embedding_dim=300, epochs=5, batch_size=64):\n",
    "    model = Sequential()\n",
    "    if embedding_matrix is not None:\n",
    "        model.add(Embedding(input_dim=len(word_index) + 1,\n",
    "                            output_dim=embedding_dim,\n",
    "                            weights=[embedding_matrix],\n",
    "                            input_length=max_len,\n",
    "                            trainable=False))\n",
    "    else:\n",
    "        model.add(Embedding(input_dim=len(word_index) + 1,\n",
    "                            output_dim=embedding_dim,\n",
    "                            input_length=max_len))\n",
    "    model.add(LSTM(100))\n",
    "    model.add(Dense(1, activation='sigmoid'))\n",
    "    model.compile(loss='binary_crossentropy', optimizer=Adam(), metrics=['accuracy'])\n",
    "\n",
    "    model.summary()\n",
    "    model.fit(x_train, y_train, epochs=epochs, batch_size=batch_size, validation_data=(x_val, y_val))\n",
    "    y_pred = model.predict(x_val)\n",
    "    print(\"AUC: %.2f%%\" % (roc_auc_score(y_val, y_pred) * 100))\n",
    "    return model\n",
    "\n",
    "# Funktion für GRU\n",
    "def train_gru_model(x_train, y_train, x_val, y_val, word_index, max_len, embedding_matrix=None, embedding_dim=300, epochs=5, batch_size=64):\n",
    "    model = Sequential()\n",
    "    if embedding_matrix is not None:\n",
    "        model.add(Embedding(input_dim=len(word_index) + 1,\n",
    "                            output_dim=embedding_dim,\n",
    "                            weights=[embedding_matrix],\n",
    "                            input_length=max_len,\n",
    "                            trainable=False))\n",
    "    else:\n",
    "        model.add(Embedding(input_dim=len(word_index) + 1,\n",
    "                            output_dim=embedding_dim,\n",
    "                            input_length=max_len))\n",
    "    model.add(SpatialDropout1D(0.3))\n",
    "    model.add(GRU(100))\n",
    "    model.add(Dense(1, activation='sigmoid'))\n",
    "    model.compile(loss='binary_crossentropy', optimizer=Adam(), metrics=['accuracy'])\n",
    "\n",
    "    model.summary()\n",
    "    model.fit(x_train, y_train, epochs=epochs, batch_size=batch_size, validation_data=(x_val, y_val))\n",
    "    y_pred = model.predict(x_val)\n",
    "    print(\"AUC: %.2f%%\" % (roc_auc_score(y_val, y_pred) * 100))\n",
    "    return model\n"
   ]
  },
  {
   "cell_type": "markdown",
   "metadata": {},
   "source": [
    "#### Training"
   ]
  },
  {
   "cell_type": "code",
   "execution_count": 39,
   "metadata": {},
   "outputs": [],
   "source": [
    "glove_file_path = 'glove.6B.300d.txt'\n",
    "fasttext_file_path = 'wiki-news-300d-1M.vec'\n",
    "embedding_dim = 300\n",
    "glove_embedding_index, glove_embedding_matrix = load_embeddings(glove_file_path, embedding_dim, word_index)\n",
    "fasttext_embedding_index, fasttext_embedding_matrix = load_embeddings(fasttext_file_path, embedding_dim, word_index)\n",
    "\n"
   ]
  },
  {
   "cell_type": "markdown",
   "metadata": {},
   "source": [
    "# RNN mit GloVe Embeddings\n",
    "rnn_model = train_rnn_model(X_train_resampled, y_train_resampled, X_val, y_val, word_index, max_len, embedding_matrix=glove_embedding_matrix)\n",
    "\n",
    "# LSTM ohne vorgefertigte Embeddings\n",
    "lstm_model = train_lstm_model(X_train_resampled, y_train_resampled, X_val, y_val, word_index, max_len)\n",
    "\n",
    "# GRU mit FastText Embeddings\n",
    "gru_model = train_gru_model(X_train_resampled, y_train_resampled, X_val, y_val, word_index, max_len, embedding_matrix=fasttext_embedding_matrix)\n"
   ]
  }
 ],
 "metadata": {
  "kernelspec": {
   "display_name": "Python 3",
   "language": "python",
   "name": "python3"
  },
  "language_info": {
   "codemirror_mode": {
    "name": "ipython",
    "version": 3
   },
   "file_extension": ".py",
   "mimetype": "text/x-python",
   "name": "python",
   "nbconvert_exporter": "python",
   "pygments_lexer": "ipython3",
   "version": "3.8.10"
  }
 },
 "nbformat": 4,
 "nbformat_minor": 2
}
