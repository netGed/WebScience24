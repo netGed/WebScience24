{
 "cells": [
  {
   "cell_type": "markdown",
   "metadata": {},
   "source": [
    "## Balance Data"
   ]
  },
  {
   "cell_type": "code",
   "execution_count": 1,
   "metadata": {},
   "outputs": [],
   "source": [
    "import numpy as np\n",
    "import pandas as pd\n",
    "\n",
    "# vectorization \n",
    "from sklearn.feature_extraction.text import CountVectorizer\n",
    "from sklearn.feature_extraction.text import TfidfVectorizer\n",
    "\n",
    "\n",
    "# resambling\n",
    "from imblearn.combine import SMOTEENN\n",
    "from imblearn.over_sampling import SMOTE\n",
    "from imblearn.under_sampling import RandomUnderSampler\n",
    "from collections import Counter\n",
    "from imblearn.combine import SMOTETomek\n",
    "from imblearn.under_sampling import TomekLinks\n",
    "\n",
    "\n",
    "from sklearn.model_selection import train_test_split\n"
   ]
  },
  {
   "cell_type": "code",
   "execution_count": 2,
   "metadata": {},
   "outputs": [],
   "source": [
    "df_train = pd.read_csv(\"..\\\\..\\\\..\\\\data\\\\twitter_hate-speech\\\\train.csv\")"
   ]
  },
  {
   "cell_type": "markdown",
   "metadata": {},
   "source": [
    "# Vectorization"
   ]
  },
  {
   "cell_type": "code",
   "execution_count": 3,
   "metadata": {},
   "outputs": [
    {
     "name": "stdout",
     "output_type": "stream",
     "text": [
      "0         @user when a father is dysfunctional and is s...\n",
      "1        @user @user thanks for #lyft credit i can't us...\n",
      "2                                      bihday your majesty\n",
      "3        #model   i love u take with u all the time in ...\n",
      "4                   factsguide: society now    #motivation\n",
      "                               ...                        \n",
      "31957    ate @user isz that youuu?ðððððð...\n",
      "31958      to see nina turner on the airwaves trying to...\n",
      "31959    listening to sad songs on a monday morning otw...\n",
      "31960    @user #sikh #temple vandalised in in #calgary,...\n",
      "31961                     thank you @user for you follow  \n",
      "Name: tweet, Length: 31962, dtype: object\n"
     ]
    }
   ],
   "source": [
    "# extracting tweet-column \n",
    "\n",
    "tweets = df_train['tweet']\n",
    "y_train = df_train['label']\n",
    "\n",
    "print(tweets)"
   ]
  },
  {
   "cell_type": "code",
   "execution_count": 4,
   "metadata": {},
   "outputs": [
    {
     "name": "stdout",
     "output_type": "stream",
     "text": [
      "\n",
      "TF-IDF Vectorization:\n",
      "\n",
      "Feature Names: ['00' '000' '000001' ... 'ó¾' 'øª' 'ø¹ù']\n",
      "TF-IDF Matrix:\n",
      " [[0. 0. 0. ... 0. 0. 0.]\n",
      " [0. 0. 0. ... 0. 0. 0.]\n",
      " [0. 0. 0. ... 0. 0. 0.]\n",
      " ...\n",
      " [0. 0. 0. ... 0. 0. 0.]\n",
      " [0. 0. 0. ... 0. 0. 0.]\n",
      " [0. 0. 0. ... 0. 0. 0.]]\n",
      "Original training dataset shape: Counter({0: 29720, 1: 2242})\n"
     ]
    }
   ],
   "source": [
    "# TF-IDF Vectorization\n",
    "\n",
    "tfidf_vectorizer = TfidfVectorizer()\n",
    "\n",
    "tfidf_matrix = tfidf_vectorizer.fit_transform(tweets)\n",
    "\n",
    "# Converting TF-IDF matrix to array >> better visualization\n",
    "tfidf_array = tfidf_matrix.toarray()\n",
    "\n",
    "# Getting the feature names/words\n",
    "tfidf_feature_names = tfidf_vectorizer.get_feature_names_out()\n",
    "\n",
    "print(\"\\nTF-IDF Vectorization:\\n\")\n",
    "print(\"Feature Names:\", tfidf_feature_names)\n",
    "print(\"TF-IDF Matrix:\\n\", tfidf_array)\n",
    "\n",
    "# create output\n",
    "other_columns = df_train.drop(columns=['tweet', 'label'])\n",
    "X_combined = pd.concat([pd.DataFrame(tfidf_array, columns=tfidf_feature_names), other_columns], axis=1)\n",
    "print(f\"Original training dataset shape: {Counter(y_train)}\")\n",
    "\n"
   ]
  },
  {
   "cell_type": "markdown",
   "metadata": {},
   "source": [
    "# Resampling"
   ]
  },
  {
   "cell_type": "markdown",
   "metadata": {},
   "source": [
    "Manual Hybrid Sampling"
   ]
  },
  {
   "cell_type": "code",
   "execution_count": null,
   "metadata": {},
   "outputs": [],
   "source": [
    "#  Oversmapling the minority class & undersampling the majority class\n",
    "\n",
    "smote = SMOTE(sampling_strategy=0.5, random_state=42)  \n",
    "undersample = RandomUnderSampler(sampling_strategy=0.8, random_state=42)  \n",
    "\n",
    "# using numeric data (verctorizaiton result) instead of text data\n",
    "X_train_sm, y_train_sm = smote.fit_resample(X_combined, y_train)\n",
    "X_train_combined, y_train_combined = undersample.fit_resample(X_train_sm, y_train_sm)\n",
    "\n",
    "print(f\"Resampled training dataset shape: {Counter(y_train_combined)}\")\n",
    "\n",
    "# Converting back to DataFrame \n",
    "df_resampled_manually = pd.DataFrame(X_train_combined.toarray(), columns=tfidf_feature_names)\n",
    "df_resampled_manually['label'] = y_train_combined\n"
   ]
  },
  {
   "cell_type": "markdown",
   "metadata": {},
   "source": [
    "SMOTETomek"
   ]
  },
  {
   "cell_type": "code",
   "execution_count": null,
   "metadata": {},
   "outputs": [],
   "source": [
    "smote_tomek = SMOTETomek(random_state=42)\n",
    "X_train_resampled, y_train_resampled = smote_tomek.fit_resample(X_combined , y_train)\n",
    "\n",
    "#print(\"Original dataset shape:\", tfidf_matrix.shape, y_train)\n",
    "print(\"Resampled dataset shape:\", X_train_resampled.shape, y_train_resampled.shape)\n",
    "print(f\"Resampled training dataset shape: {Counter(y_train_resampled)}\")\n",
    "\n",
    "# Converting back to DataFrame \n",
    "df_resampled_smote_tomek = pd.DataFrame(X_train_resampled.toarray(), columns=X_combined.columns)\n",
    "df_resampled_smote_tomek['label'] = y_train_resampled\n",
    "\n",
    "print(\"\\nFirst few rows of resampled data:\")\n",
    "print(df_resampled_smote_tomek.head())"
   ]
  },
  {
   "cell_type": "markdown",
   "metadata": {},
   "source": [
    "SMOTEEN Hyprid-Sampling"
   ]
  },
  {
   "cell_type": "code",
   "execution_count": null,
   "metadata": {},
   "outputs": [],
   "source": [
    "smote_enn = SMOTEENN(random_state=42)\n",
    "X_resampled_enn, y_resampled_enn = smote_enn.fit_resample(X_combined , y_train)\n",
    "\n",
    "#print(\"Original dataset shape:\", tfidf_matrix.shape, y_train)\n",
    "print(\"SMOTEENN resampled shape:\", X_resampled_enn.shape, y_resampled_enn.shape)\n",
    "print(f\"Resampled training dataset shape: {Counter(y_resampled_enn)}\")\n",
    "\n",
    "# Converting back to DataFrame \n",
    "df_resampled_SMOTEEN = pd.DataFrame(X_resampled_enn.toarray(), columns=tfidf_feature_names)\n",
    "df_resampled_SMOTEEN['label'] = y_resampled_enn\n",
    "\n",
    "print(\"\\nFirst few rows of resampled data:\")\n",
    "print(df_resampled_SMOTEEN.head())\n"
   ]
  },
  {
   "cell_type": "markdown",
   "metadata": {},
   "source": [
    "Undersampling"
   ]
  },
  {
   "cell_type": "code",
   "execution_count": null,
   "metadata": {},
   "outputs": [
    {
     "name": "stdout",
     "output_type": "stream",
     "text": [
      "Resampled training dataset shape: Counter({0: 28754, 1: 2242})\n"
     ]
    }
   ],
   "source": [
    "#clenaing dataset \n",
    "\n",
    "tomek = TomekLinks()\n",
    "X_tomek, y_tomek  = tomek.fit_resample(X_combined, y_train)\n",
    "\n",
    "print(f\"Resampled training dataset shape: {Counter(y_tomek)}\")"
   ]
  },
  {
   "cell_type": "code",
   "execution_count": 6,
   "metadata": {},
   "outputs": [
    {
     "name": "stdout",
     "output_type": "stream",
     "text": [
      "Resampled training dataset shape: Counter({0: 2242, 1: 2242})\n"
     ]
    }
   ],
   "source": [
    "# Undersampling\n",
    "undersample = RandomUnderSampler(sampling_strategy='auto')\n",
    "X_resampled, y_resampled = undersample.fit_resample(X_tomek, y_tomek)\n",
    "\n",
    "print(f\"Resampled training dataset shape: {Counter(y_resampled)}\")"
   ]
  },
  {
   "cell_type": "markdown",
   "metadata": {},
   "source": [
    "Oversampling"
   ]
  },
  {
   "cell_type": "code",
   "execution_count": null,
   "metadata": {},
   "outputs": [],
   "source": [
    "smote = SMOTE(sampling_strategy='auto', random_state=42)\n",
    "X_smote, y_smote= smote.fit_resample(X_combined, y_train)\n",
    "\n",
    "print(f\"Resampled training dataset shape: {Counter(y_smote)}\")"
   ]
  }
 ],
 "metadata": {
  "kernelspec": {
   "display_name": "Python 3",
   "language": "python",
   "name": "python3"
  },
  "language_info": {
   "codemirror_mode": {
    "name": "ipython",
    "version": 3
   },
   "file_extension": ".py",
   "mimetype": "text/x-python",
   "name": "python",
   "nbconvert_exporter": "python",
   "pygments_lexer": "ipython3",
   "version": "3.9.2"
  }
 },
 "nbformat": 4,
 "nbformat_minor": 2
}
