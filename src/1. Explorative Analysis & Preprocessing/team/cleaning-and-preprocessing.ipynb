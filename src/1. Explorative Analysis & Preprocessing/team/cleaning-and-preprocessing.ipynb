{
 "cells": [
  {
   "cell_type": "markdown",
   "metadata": {
    "collapsed": false
   },
   "source": [
    "#### Imports & Downloads"
   ]
  },
  {
   "cell_type": "code",
   "execution_count": 116,
   "metadata": {
    "ExecuteTime": {
     "end_time": "2024-11-01T09:11:26.531574600Z",
     "start_time": "2024-11-01T09:10:56.063579700Z"
    }
   },
   "outputs": [
    {
     "name": "stdout",
     "output_type": "stream",
     "text": [
      "Requirement already satisfied: emoji in c:\\users\\admin\\anaconda3\\lib\\site-packages (2.14.0)\n",
      "Requirement already satisfied: pyspellchecker in c:\\users\\admin\\anaconda3\\lib\\site-packages (0.8.1)\n",
      "Requirement already satisfied: textblob in c:\\users\\admin\\anaconda3\\lib\\site-packages (0.18.0.post0)\n",
      "Requirement already satisfied: nltk>=3.8 in c:\\users\\admin\\anaconda3\\lib\\site-packages (from textblob) (3.9.1)\n",
      "Requirement already satisfied: click in c:\\users\\admin\\anaconda3\\lib\\site-packages (from nltk>=3.8->textblob) (8.0.4)\n",
      "Requirement already satisfied: joblib in c:\\users\\admin\\anaconda3\\lib\\site-packages (from nltk>=3.8->textblob) (1.1.1)\n",
      "Requirement already satisfied: regex>=2021.8.3 in c:\\users\\admin\\anaconda3\\lib\\site-packages (from nltk>=3.8->textblob) (2022.7.9)\n",
      "Requirement already satisfied: tqdm in c:\\users\\admin\\anaconda3\\lib\\site-packages (from nltk>=3.8->textblob) (4.64.1)\n",
      "Requirement already satisfied: colorama in c:\\users\\admin\\anaconda3\\lib\\site-packages (from click->nltk>=3.8->textblob) (0.4.6)\n",
      "Requirement already satisfied: ftfy in c:\\users\\admin\\anaconda3\\lib\\site-packages (5.8)\n",
      "Requirement already satisfied: wcwidth in c:\\users\\admin\\anaconda3\\lib\\site-packages (from ftfy) (0.2.5)\n",
      "Collecting en-core-web-sm==3.7.1\n",
      "  Downloading https://github.com/explosion/spacy-models/releases/download/en_core_web_sm-3.7.1/en_core_web_sm-3.7.1-py3-none-any.whl (12.8 MB)\n",
      "     ---------------------------------------- 0.0/12.8 MB ? eta -:--:--\n",
      "     - -------------------------------------- 0.5/12.8 MB 4.2 MB/s eta 0:00:03\n",
      "     ----- ---------------------------------- 1.8/12.8 MB 4.8 MB/s eta 0:00:03\n",
      "     --------- ------------------------------ 2.9/12.8 MB 4.9 MB/s eta 0:00:03\n",
      "     ------------ --------------------------- 3.9/12.8 MB 5.0 MB/s eta 0:00:02\n",
      "     -------------- ------------------------- 4.7/12.8 MB 4.9 MB/s eta 0:00:02\n",
      "     ------------------ --------------------- 6.0/12.8 MB 5.1 MB/s eta 0:00:02\n",
      "     ---------------------- ----------------- 7.1/12.8 MB 5.0 MB/s eta 0:00:02\n",
      "     ------------------------- -------------- 8.1/12.8 MB 5.1 MB/s eta 0:00:01\n",
      "     -------------------------- ------------- 8.4/12.8 MB 4.8 MB/s eta 0:00:01\n",
      "     --------------------------- ------------ 8.9/12.8 MB 4.5 MB/s eta 0:00:01\n",
      "     ------------------------------ --------- 9.7/12.8 MB 4.4 MB/s eta 0:00:01\n",
      "     -------------------------------- ------- 10.5/12.8 MB 4.2 MB/s eta 0:00:01\n",
      "     --------------------------------- ------ 10.7/12.8 MB 4.2 MB/s eta 0:00:01\n",
      "     ---------------------------------- ----- 11.0/12.8 MB 3.8 MB/s eta 0:00:01\n",
      "     ---------------------------------- ----- 11.0/12.8 MB 3.8 MB/s eta 0:00:01\n",
      "     ----------------------------------- ---- 11.3/12.8 MB 3.5 MB/s eta 0:00:01\n",
      "     ----------------------------------- ---- 11.3/12.8 MB 3.5 MB/s eta 0:00:01\n",
      "     ----------------------------------- ---- 11.3/12.8 MB 3.5 MB/s eta 0:00:01\n",
      "     ----------------------------------- ---- 11.3/12.8 MB 3.5 MB/s eta 0:00:01\n",
      "     ------------------------------------ --- 11.5/12.8 MB 2.8 MB/s eta 0:00:01\n",
      "     ------------------------------------- -- 12.1/12.8 MB 2.8 MB/s eta 0:00:01\n",
      "     -------------------------------------- - 12.3/12.8 MB 2.8 MB/s eta 0:00:01\n",
      "     ---------------------------------------- 12.8/12.8 MB 2.7 MB/s eta 0:00:00\n",
      "Requirement already satisfied: spacy<3.8.0,>=3.7.2 in c:\\users\\admin\\anaconda3\\lib\\site-packages (from en-core-web-sm==3.7.1) (3.7.2)\n",
      "Requirement already satisfied: spacy-legacy<3.1.0,>=3.0.11 in c:\\users\\admin\\anaconda3\\lib\\site-packages (from spacy<3.8.0,>=3.7.2->en-core-web-sm==3.7.1) (3.0.12)\n",
      "Requirement already satisfied: spacy-loggers<2.0.0,>=1.0.0 in c:\\users\\admin\\anaconda3\\lib\\site-packages (from spacy<3.8.0,>=3.7.2->en-core-web-sm==3.7.1) (1.0.4)\n",
      "Requirement already satisfied: murmurhash<1.1.0,>=0.28.0 in c:\\users\\admin\\anaconda3\\lib\\site-packages (from spacy<3.8.0,>=3.7.2->en-core-web-sm==3.7.1) (1.0.7)\n",
      "Requirement already satisfied: cymem<2.1.0,>=2.0.2 in c:\\users\\admin\\anaconda3\\lib\\site-packages (from spacy<3.8.0,>=3.7.2->en-core-web-sm==3.7.1) (2.0.6)\n",
      "Requirement already satisfied: preshed<3.1.0,>=3.0.2 in c:\\users\\admin\\anaconda3\\lib\\site-packages (from spacy<3.8.0,>=3.7.2->en-core-web-sm==3.7.1) (3.0.6)\n",
      "Requirement already satisfied: thinc<8.3.0,>=8.1.8 in c:\\users\\admin\\anaconda3\\lib\\site-packages (from spacy<3.8.0,>=3.7.2->en-core-web-sm==3.7.1) (8.2.2)\n",
      "Requirement already satisfied: wasabi<1.2.0,>=0.9.1 in c:\\users\\admin\\anaconda3\\lib\\site-packages (from spacy<3.8.0,>=3.7.2->en-core-web-sm==3.7.1) (0.9.1)\n",
      "Requirement already satisfied: srsly<3.0.0,>=2.4.3 in c:\\users\\admin\\anaconda3\\lib\\site-packages (from spacy<3.8.0,>=3.7.2->en-core-web-sm==3.7.1) (2.4.8)\n",
      "Requirement already satisfied: catalogue<2.1.0,>=2.0.6 in c:\\users\\admin\\anaconda3\\lib\\site-packages (from spacy<3.8.0,>=3.7.2->en-core-web-sm==3.7.1) (2.0.10)\n",
      "Requirement already satisfied: weasel<0.4.0,>=0.1.0 in c:\\users\\admin\\anaconda3\\lib\\site-packages (from spacy<3.8.0,>=3.7.2->en-core-web-sm==3.7.1) (0.3.4)\n",
      "Requirement already satisfied: typer<0.10.0,>=0.3.0 in c:\\users\\admin\\anaconda3\\lib\\site-packages (from spacy<3.8.0,>=3.7.2->en-core-web-sm==3.7.1) (0.4.1)\n",
      "Requirement already satisfied: smart-open<7.0.0,>=5.2.1 in c:\\users\\admin\\anaconda3\\lib\\site-packages (from spacy<3.8.0,>=3.7.2->en-core-web-sm==3.7.1) (5.2.1)\n",
      "Requirement already satisfied: tqdm<5.0.0,>=4.38.0 in c:\\users\\admin\\anaconda3\\lib\\site-packages (from spacy<3.8.0,>=3.7.2->en-core-web-sm==3.7.1) (4.64.1)\n",
      "Requirement already satisfied: requests<3.0.0,>=2.13.0 in c:\\users\\admin\\anaconda3\\lib\\site-packages (from spacy<3.8.0,>=3.7.2->en-core-web-sm==3.7.1) (2.28.1)\n",
      "Requirement already satisfied: pydantic!=1.8,!=1.8.1,<3.0.0,>=1.7.4 in c:\\users\\admin\\anaconda3\\lib\\site-packages (from spacy<3.8.0,>=3.7.2->en-core-web-sm==3.7.1) (1.10.12)\n",
      "Requirement already satisfied: jinja2 in c:\\users\\admin\\anaconda3\\lib\\site-packages (from spacy<3.8.0,>=3.7.2->en-core-web-sm==3.7.1) (3.1.2)\n",
      "Requirement already satisfied: setuptools in c:\\users\\admin\\anaconda3\\lib\\site-packages (from spacy<3.8.0,>=3.7.2->en-core-web-sm==3.7.1) (65.6.3)\n",
      "Requirement already satisfied: packaging>=20.0 in c:\\users\\admin\\anaconda3\\lib\\site-packages (from spacy<3.8.0,>=3.7.2->en-core-web-sm==3.7.1) (22.0)\n",
      "Requirement already satisfied: langcodes<4.0.0,>=3.2.0 in c:\\users\\admin\\anaconda3\\lib\\site-packages (from spacy<3.8.0,>=3.7.2->en-core-web-sm==3.7.1) (3.3.0)\n",
      "Requirement already satisfied: numpy>=1.19.0 in c:\\users\\admin\\anaconda3\\lib\\site-packages (from spacy<3.8.0,>=3.7.2->en-core-web-sm==3.7.1) (1.23.5)\n",
      "Requirement already satisfied: typing-extensions>=4.2.0 in c:\\users\\admin\\anaconda3\\lib\\site-packages (from pydantic!=1.8,!=1.8.1,<3.0.0,>=1.7.4->spacy<3.8.0,>=3.7.2->en-core-web-sm==3.7.1) (4.4.0)\n",
      "Requirement already satisfied: charset-normalizer<3,>=2 in c:\\users\\admin\\anaconda3\\lib\\site-packages (from requests<3.0.0,>=2.13.0->spacy<3.8.0,>=3.7.2->en-core-web-sm==3.7.1) (2.0.4)\n",
      "Requirement already satisfied: idna<4,>=2.5 in c:\\users\\admin\\anaconda3\\lib\\site-packages (from requests<3.0.0,>=2.13.0->spacy<3.8.0,>=3.7.2->en-core-web-sm==3.7.1) (3.4)\n",
      "Requirement already satisfied: urllib3<1.27,>=1.21.1 in c:\\users\\admin\\anaconda3\\lib\\site-packages (from requests<3.0.0,>=2.13.0->spacy<3.8.0,>=3.7.2->en-core-web-sm==3.7.1) (1.26.14)\n",
      "Requirement already satisfied: certifi>=2017.4.17 in c:\\users\\admin\\anaconda3\\lib\\site-packages (from requests<3.0.0,>=2.13.0->spacy<3.8.0,>=3.7.2->en-core-web-sm==3.7.1) (2024.8.30)\n",
      "Requirement already satisfied: blis<0.8.0,>=0.7.8 in c:\\users\\admin\\anaconda3\\lib\\site-packages (from thinc<8.3.0,>=8.1.8->spacy<3.8.0,>=3.7.2->en-core-web-sm==3.7.1) (0.7.9)\n",
      "Requirement already satisfied: confection<1.0.0,>=0.0.1 in c:\\users\\admin\\anaconda3\\lib\\site-packages (from thinc<8.3.0,>=8.1.8->spacy<3.8.0,>=3.7.2->en-core-web-sm==3.7.1) (0.1.4)\n",
      "Requirement already satisfied: colorama in c:\\users\\admin\\anaconda3\\lib\\site-packages (from tqdm<5.0.0,>=4.38.0->spacy<3.8.0,>=3.7.2->en-core-web-sm==3.7.1) (0.4.6)\n",
      "Requirement already satisfied: click<9.0.0,>=7.1.1 in c:\\users\\admin\\anaconda3\\lib\\site-packages (from typer<0.10.0,>=0.3.0->spacy<3.8.0,>=3.7.2->en-core-web-sm==3.7.1) (8.0.4)\n",
      "Requirement already satisfied: cloudpathlib<0.17.0,>=0.7.0 in c:\\users\\admin\\anaconda3\\lib\\site-packages (from weasel<0.4.0,>=0.1.0->spacy<3.8.0,>=3.7.2->en-core-web-sm==3.7.1) (0.16.0)\n",
      "Requirement already satisfied: MarkupSafe>=2.0 in c:\\users\\admin\\anaconda3\\lib\\site-packages (from jinja2->spacy<3.8.0,>=3.7.2->en-core-web-sm==3.7.1) (2.1.1)\n",
      "[+] Download and installation successful\n",
      "You can now load the package via spacy.load('en_core_web_sm')\n"
     ]
    }
   ],
   "source": [
    "!pip install emoji\n",
    "!pip install pyspellchecker\n",
    "!pip install textblob\n",
    "!pip install ftfy\n",
    "!python -m spacy download en_core_web_sm"
   ]
  },
  {
   "cell_type": "code",
   "execution_count": 123,
   "metadata": {
    "collapsed": true,
    "ExecuteTime": {
     "end_time": "2024-11-01T09:17:15.793899200Z",
     "start_time": "2024-11-01T09:17:15.761901200Z"
    }
   },
   "outputs": [],
   "source": [
    "import pandas as pd\n",
    "import numpy as np\n",
    "import matplotlib.pyplot as plt\n",
    "import seaborn as sns\n",
    "import nltk\n",
    "import re\n",
    "import emoji\n",
    "from nltk.corpus import stopwords, wordnet\n",
    "import time\n",
    "from pathlib import Path\n",
    "\n",
    "from collections import Counter\n",
    "from spellchecker import SpellChecker\n",
    "import os\n",
    "\n",
    "from textblob import TextBlob, Word\n",
    "from nltk.stem.snowball import SnowballStemmer, PorterStemmer\n",
    "from nltk.stem import WordNetLemmatizer\n",
    "from ftfy import fix_encoding\n",
    "import spacy\n",
    "\n",
    "pd.set_option('display.max_colwidth', None)"
   ]
  },
  {
   "cell_type": "code",
   "execution_count": 105,
   "metadata": {
    "collapsed": false,
    "ExecuteTime": {
     "end_time": "2024-11-01T08:23:28.513639300Z",
     "start_time": "2024-11-01T08:23:28.105372700Z"
    }
   },
   "outputs": [
    {
     "name": "stderr",
     "output_type": "stream",
     "text": [
      "[nltk_data] Downloading package punkt to\n",
      "[nltk_data]     C:\\Users\\admin\\AppData\\Roaming\\nltk_data...\n",
      "[nltk_data]   Package punkt is already up-to-date!\n",
      "[nltk_data] Downloading package stopwords to\n",
      "[nltk_data]     C:\\Users\\admin\\AppData\\Roaming\\nltk_data...\n",
      "[nltk_data]   Package stopwords is already up-to-date!\n",
      "[nltk_data] Downloading package wordnet to\n",
      "[nltk_data]     C:\\Users\\admin\\AppData\\Roaming\\nltk_data...\n",
      "[nltk_data]   Package wordnet is already up-to-date!\n",
      "[nltk_data] Downloading package omw-1.4 to\n",
      "[nltk_data]     C:\\Users\\admin\\AppData\\Roaming\\nltk_data...\n",
      "[nltk_data]   Package omw-1.4 is already up-to-date!\n",
      "[nltk_data] Downloading package averaged_perceptron_tagger_eng to\n",
      "[nltk_data]     C:\\Users\\admin\\AppData\\Roaming\\nltk_data...\n",
      "[nltk_data]   Unzipping taggers\\averaged_perceptron_tagger_eng.zip.\n"
     ]
    },
    {
     "data": {
      "text/plain": "True"
     },
     "execution_count": 105,
     "metadata": {},
     "output_type": "execute_result"
    }
   ],
   "source": [
    "nltk.download('punkt')\n",
    "nltk.download('stopwords')\n",
    "nltk.download('wordnet')\n",
    "nltk.download('omw-1.4')\n",
    "nltk.download('averaged_perceptron_tagger_eng')"
   ]
  },
  {
   "cell_type": "markdown",
   "metadata": {
    "collapsed": false
   },
   "source": [
    "### Einladen der Daten"
   ]
  },
  {
   "cell_type": "markdown",
   "source": [
    "#### Trainingsdaten"
   ],
   "metadata": {
    "collapsed": false
   }
  },
  {
   "cell_type": "code",
   "execution_count": 5,
   "metadata": {
    "ExecuteTime": {
     "end_time": "2024-11-01T07:46:25.413234200Z",
     "start_time": "2024-11-01T07:46:25.305235600Z"
    }
   },
   "outputs": [
    {
     "data": {
      "text/plain": "    label  \\\nid          \n1       0   \n2       0   \n3       0   \n4       0   \n5       0   \n\n                                                                                                                         tweet  \nid                                                                                                                              \n1                        @user when a father is dysfunctional and is so selfish he drags his kids into his dysfunction.   #run  \n2   @user @user thanks for #lyft credit i can't use cause they don't offer wheelchair vans in pdx.    #disapointed #getthanked  \n3                                                                                                          bihday your majesty  \n4                                       #model   i love u take with u all the time in urð±!!! ðððð\nð¦ð¦ð¦    \n5                                                                                       factsguide: society now    #motivation  ",
      "text/html": "<div>\n<style scoped>\n    .dataframe tbody tr th:only-of-type {\n        vertical-align: middle;\n    }\n\n    .dataframe tbody tr th {\n        vertical-align: top;\n    }\n\n    .dataframe thead th {\n        text-align: right;\n    }\n</style>\n<table border=\"1\" class=\"dataframe\">\n  <thead>\n    <tr style=\"text-align: right;\">\n      <th></th>\n      <th>label</th>\n      <th>tweet</th>\n    </tr>\n    <tr>\n      <th>id</th>\n      <th></th>\n      <th></th>\n    </tr>\n  </thead>\n  <tbody>\n    <tr>\n      <th>1</th>\n      <td>0</td>\n      <td>@user when a father is dysfunctional and is so selfish he drags his kids into his dysfunction.   #run</td>\n    </tr>\n    <tr>\n      <th>2</th>\n      <td>0</td>\n      <td>@user @user thanks for #lyft credit i can't use cause they don't offer wheelchair vans in pdx.    #disapointed #getthanked</td>\n    </tr>\n    <tr>\n      <th>3</th>\n      <td>0</td>\n      <td>bihday your majesty</td>\n    </tr>\n    <tr>\n      <th>4</th>\n      <td>0</td>\n      <td>#model   i love u take with u all the time in urð±!!! ððððð¦ð¦ð¦</td>\n    </tr>\n    <tr>\n      <th>5</th>\n      <td>0</td>\n      <td>factsguide: society now    #motivation</td>\n    </tr>\n  </tbody>\n</table>\n</div>"
     },
     "execution_count": 5,
     "metadata": {},
     "output_type": "execute_result"
    }
   ],
   "source": [
    "current_dir = os.getcwd()\n",
    "csv_path_train = os.path.abspath(os.path.join(current_dir, '../../../data/twitter_hate-speech/train.csv'))\n",
    "df_origin = pd.read_csv(csv_path_train, encoding='utf-8', index_col=0)\n",
    "\n",
    "df_origin.head()"
   ]
  },
  {
   "cell_type": "code",
   "execution_count": 6,
   "outputs": [
    {
     "name": "stdout",
     "output_type": "stream",
     "text": [
      "<class 'pandas.core.frame.DataFrame'>\n",
      "Int64Index: 31962 entries, 1 to 31962\n",
      "Data columns (total 2 columns):\n",
      " #   Column  Non-Null Count  Dtype \n",
      "---  ------  --------------  ----- \n",
      " 0   label   31962 non-null  int64 \n",
      " 1   tweet   31962 non-null  object\n",
      "dtypes: int64(1), object(1)\n",
      "memory usage: 749.1+ KB\n"
     ]
    }
   ],
   "source": [
    "df_origin.info()"
   ],
   "metadata": {
    "collapsed": false,
    "ExecuteTime": {
     "end_time": "2024-11-01T07:46:25.455233600Z",
     "start_time": "2024-11-01T07:46:25.401234400Z"
    }
   }
  },
  {
   "cell_type": "markdown",
   "source": [
    "#### Testdaten"
   ],
   "metadata": {
    "collapsed": false
   }
  },
  {
   "cell_type": "code",
   "execution_count": 7,
   "outputs": [
    {
     "data": {
      "text/plain": "                                                                                                                                                tweet\nid                                                                                                                                                   \n31963                                                      #studiolife #aislife #requires #passion #dedication #willpower   to find #newmaterialsâ¦ \n31964                                            @user #white #supremacists want everyone to see the new â  #birdsâ #movie â and hereâs why  \n31965                                                                         safe ways to heal your #acne!!    #altwaystoheal #healthy   #healing!! \n31966  is the hp and the cursed child book up for reservations already? if yes, where? if no, when? ððð   #harrypotter #pottermore #favorite\n31967                                                     3rd #bihday to my amazing, hilarious #nephew eli ahmir! uncle dave loves you and missesâ¦ ",
      "text/html": "<div>\n<style scoped>\n    .dataframe tbody tr th:only-of-type {\n        vertical-align: middle;\n    }\n\n    .dataframe tbody tr th {\n        vertical-align: top;\n    }\n\n    .dataframe thead th {\n        text-align: right;\n    }\n</style>\n<table border=\"1\" class=\"dataframe\">\n  <thead>\n    <tr style=\"text-align: right;\">\n      <th></th>\n      <th>tweet</th>\n    </tr>\n    <tr>\n      <th>id</th>\n      <th></th>\n    </tr>\n  </thead>\n  <tbody>\n    <tr>\n      <th>31963</th>\n      <td>#studiolife #aislife #requires #passion #dedication #willpower   to find #newmaterialsâ¦</td>\n    </tr>\n    <tr>\n      <th>31964</th>\n      <td>@user #white #supremacists want everyone to see the new â  #birdsâ #movie â and hereâs why</td>\n    </tr>\n    <tr>\n      <th>31965</th>\n      <td>safe ways to heal your #acne!!    #altwaystoheal #healthy   #healing!!</td>\n    </tr>\n    <tr>\n      <th>31966</th>\n      <td>is the hp and the cursed child book up for reservations already? if yes, where? if no, when? ððð   #harrypotter #pottermore #favorite</td>\n    </tr>\n    <tr>\n      <th>31967</th>\n      <td>3rd #bihday to my amazing, hilarious #nephew eli ahmir! uncle dave loves you and missesâ¦</td>\n    </tr>\n  </tbody>\n</table>\n</div>"
     },
     "execution_count": 7,
     "metadata": {},
     "output_type": "execute_result"
    }
   ],
   "source": [
    "csv_path_test = os.path.abspath(os.path.join(current_dir, '../../../data/twitter_hate-speech/test.csv'))\n",
    "df_origin_test = pd.read_csv(csv_path_test, encoding='utf-8', index_col=0)\n",
    "\n",
    "df_origin_test.head()"
   ],
   "metadata": {
    "collapsed": false,
    "ExecuteTime": {
     "end_time": "2024-11-01T07:46:25.587232800Z",
     "start_time": "2024-11-01T07:46:25.432236300Z"
    }
   }
  },
  {
   "cell_type": "code",
   "execution_count": 8,
   "outputs": [
    {
     "name": "stdout",
     "output_type": "stream",
     "text": [
      "<class 'pandas.core.frame.DataFrame'>\n",
      "Int64Index: 17197 entries, 31963 to 49159\n",
      "Data columns (total 1 columns):\n",
      " #   Column  Non-Null Count  Dtype \n",
      "---  ------  --------------  ----- \n",
      " 0   tweet   17197 non-null  object\n",
      "dtypes: object(1)\n",
      "memory usage: 268.7+ KB\n"
     ]
    }
   ],
   "source": [
    "df_origin_test.info()"
   ],
   "metadata": {
    "collapsed": false,
    "ExecuteTime": {
     "end_time": "2024-11-01T07:46:25.674233Z",
     "start_time": "2024-11-01T07:46:25.479234200Z"
    }
   }
  },
  {
   "cell_type": "markdown",
   "metadata": {},
   "source": [
    "## 1. Datenexploration"
   ]
  },
  {
   "cell_type": "markdown",
   "metadata": {
    "collapsed": false
   },
   "source": [
    "### 1.1 Datenqualitätsüberprüfung generell"
   ]
  },
  {
   "cell_type": "code",
   "execution_count": 9,
   "metadata": {
    "ExecuteTime": {
     "end_time": "2024-11-01T07:46:25.675235100Z",
     "start_time": "2024-11-01T07:46:25.496240800Z"
    }
   },
   "outputs": [
    {
     "data": {
      "text/plain": "label    0\ntweet    0\ndtype: int64"
     },
     "execution_count": 9,
     "metadata": {},
     "output_type": "execute_result"
    }
   ],
   "source": [
    "# Check for null values\n",
    "df_origin.isna().sum()\n",
    "\n",
    "# no null's"
   ]
  },
  {
   "cell_type": "code",
   "execution_count": 10,
   "metadata": {
    "collapsed": false,
    "ExecuteTime": {
     "end_time": "2024-11-01T07:46:25.677235500Z",
     "start_time": "2024-11-01T07:46:25.510235100Z"
    }
   },
   "outputs": [
    {
     "name": "stdout",
     "output_type": "stream",
     "text": [
      "2432\n"
     ]
    }
   ],
   "source": [
    "# check for duplicates\n",
    "print(df_origin.duplicated().sum())"
   ]
  },
  {
   "cell_type": "markdown",
   "metadata": {
    "collapsed": false
   },
   "source": [
    "### 1.2 Text Qualität Checks"
   ]
  },
  {
   "cell_type": "code",
   "execution_count": 11,
   "outputs": [],
   "source": [
    "df_raw = df_origin.copy()"
   ],
   "metadata": {
    "collapsed": false,
    "ExecuteTime": {
     "end_time": "2024-11-01T07:46:25.677235500Z",
     "start_time": "2024-11-01T07:46:25.543236200Z"
    }
   }
  },
  {
   "cell_type": "markdown",
   "metadata": {
    "collapsed": false
   },
   "source": [
    "##### 1.2.1 Überprüfung von stopwords"
   ]
  },
  {
   "cell_type": "code",
   "execution_count": 12,
   "metadata": {
    "ExecuteTime": {
     "end_time": "2024-11-01T07:46:25.725234400Z",
     "start_time": "2024-11-01T07:46:25.560234500Z"
    }
   },
   "outputs": [
    {
     "name": "stdout",
     "output_type": "stream",
     "text": [
      "[\"you'd\", 'before', 'his', 'with', 'in', 'again', 'are', 'some', 'then', 'haven', 'll', 'their', 'had', 'its', 'aren', \"shan't\", 'about', 'hasn', 'you', 'him', 're', \"isn't\", 'up', 'for', 'she', 'be', 'being', 'himself', 'each', 'as', 'by', 'weren', 'they', 'such', 'don', 'herself', 'it', 'shan', 'just', 'our', 'or', 'mustn', 'those', 'wouldn', 'very', 'should', \"didn't\", 'if', 'above', \"hasn't\", 'down', 'when', 'at', 'through', 'couldn', 'was', 'from', 'same', 'these', 'he', 'them', 'after', \"you're\", 'that', 'itself', 't', \"hadn't\", 'this', 'now', 'doing', 'an', 'do', 's', \"wouldn't\", 'what', 'whom', 'both', 'while', 'did', \"needn't\", 'my', 'a', \"mustn't\", 'how', 'were', 'can', 'having', 'does', 'myself', 'has', 'will', 'nor', \"wasn't\", 'few', 'her', 'm', 'is', 'yourself', 'below', \"you've\", \"should've\", 'y', 'didn', 'during', 'no', 'me', 'been', 'which', 'all', 'there', \"aren't\", \"she's\", 'between', 'than', 'and', 'ma', 'only', 'am', \"haven't\", 'mightn', 'needn', 'once', 'o', 'so', \"mightn't\", 'yours', \"couldn't\", \"that'll\", 'out', 've', 'on', 'wasn', 'hers', 'into', 'own', 'where', 'doesn', 'i', 'against', \"doesn't\", 'shouldn', 'any', 'because', 'more', 'to', 'over', 'isn', \"you'll\", 'but', 'until', 'ours', \"won't\", 'too', 'the', 'who', 'we', 'theirs', \"it's\", 'under', 'themselves', 'off', \"weren't\", 'why', 'hadn', 'ourselves', 'won', 'other', \"don't\", 'd', 'most', 'ain', \"shouldn't\", 'yourselves', 'of', 'your', 'here', 'further', 'have', 'not']\n"
     ]
    }
   ],
   "source": [
    "# which words are actually stop words?\n",
    "stop_words = set(stopwords.words('english'))\n",
    "\n",
    "stop_words_list = list(stop_words)\n",
    "print(stop_words_list)"
   ]
  },
  {
   "cell_type": "code",
   "execution_count": 13,
   "metadata": {
    "collapsed": false,
    "ExecuteTime": {
     "end_time": "2024-11-01T07:46:25.982234Z",
     "start_time": "2024-11-01T07:46:25.576235400Z"
    }
   },
   "outputs": [
    {
     "data": {
      "text/plain": "    label  \\\nid          \n1       0   \n2       0   \n3       0   \n4       0   \n5       0   \n\n                                                                                                                         tweet  \\\nid                                                                                                                               \n1                        @user when a father is dysfunctional and is so selfish he drags his kids into his dysfunction.   #run   \n2   @user @user thanks for #lyft credit i can't use cause they don't offer wheelchair vans in pdx.    #disapointed #getthanked   \n3                                                                                                          bihday your majesty   \n4                                       #model   i love u take with u all the time in urð±!!! ðððð\nð¦ð¦ð¦     \n5                                                                                       factsguide: society now    #motivation   \n\n    stopwords  \nid             \n1          10  \n2           5  \n3           1  \n4           5  \n5           1  ",
      "text/html": "<div>\n<style scoped>\n    .dataframe tbody tr th:only-of-type {\n        vertical-align: middle;\n    }\n\n    .dataframe tbody tr th {\n        vertical-align: top;\n    }\n\n    .dataframe thead th {\n        text-align: right;\n    }\n</style>\n<table border=\"1\" class=\"dataframe\">\n  <thead>\n    <tr style=\"text-align: right;\">\n      <th></th>\n      <th>label</th>\n      <th>tweet</th>\n      <th>stopwords</th>\n    </tr>\n    <tr>\n      <th>id</th>\n      <th></th>\n      <th></th>\n      <th></th>\n    </tr>\n  </thead>\n  <tbody>\n    <tr>\n      <th>1</th>\n      <td>0</td>\n      <td>@user when a father is dysfunctional and is so selfish he drags his kids into his dysfunction.   #run</td>\n      <td>10</td>\n    </tr>\n    <tr>\n      <th>2</th>\n      <td>0</td>\n      <td>@user @user thanks for #lyft credit i can't use cause they don't offer wheelchair vans in pdx.    #disapointed #getthanked</td>\n      <td>5</td>\n    </tr>\n    <tr>\n      <th>3</th>\n      <td>0</td>\n      <td>bihday your majesty</td>\n      <td>1</td>\n    </tr>\n    <tr>\n      <th>4</th>\n      <td>0</td>\n      <td>#model   i love u take with u all the time in urð±!!! ððððð¦ð¦ð¦</td>\n      <td>5</td>\n    </tr>\n    <tr>\n      <th>5</th>\n      <td>0</td>\n      <td>factsguide: society now    #motivation</td>\n      <td>1</td>\n    </tr>\n  </tbody>\n</table>\n</div>"
     },
     "execution_count": 13,
     "metadata": {},
     "output_type": "execute_result"
    }
   ],
   "source": [
    "# find stop words in tweet column\n",
    "def find_stop_words(df):\n",
    "    df['stopwords'] = df['tweet'].apply(lambda x: len([x for x in x.split() if x in stop_words]))\n",
    "    return df\n",
    "\n",
    "\n",
    "df_raw = find_stop_words(df_raw)\n",
    "df_raw[df_raw['stopwords'].notna()].head()"
   ]
  },
  {
   "cell_type": "markdown",
   "metadata": {},
   "source": [
    "##### 1.2.2 Überprüfung von HTML tags/ special characters"
   ]
  },
  {
   "cell_type": "code",
   "execution_count": 14,
   "metadata": {
    "ExecuteTime": {
     "end_time": "2024-11-01T07:46:26.068235100Z",
     "start_time": "2024-11-01T07:46:25.703236900Z"
    }
   },
   "outputs": [
    {
     "data": {
      "text/plain": "    label  \\\nid          \n1       0   \n2       0   \n4       0   \n5       0   \n6       0   \n\n                                                                                                                         tweet  \\\nid                                                                                                                               \n1                        @user when a father is dysfunctional and is so selfish he drags his kids into his dysfunction.   #run   \n2   @user @user thanks for #lyft credit i can't use cause they don't offer wheelchair vans in pdx.    #disapointed #getthanked   \n4                                       #model   i love u take with u all the time in urð±!!! ðððð\nð¦ð¦ð¦     \n5                                                                                       factsguide: society now    #motivation   \n6         [2/2] huge fan fare and big talking before they leave. chaos and pay disputes when they get there. #allshowandnogo     \n\n    stopwords  hashtags  \nid                       \n1          10         1  \n2           5         3  \n4           5         1  \n5           1         1  \n6           6         1  ",
      "text/html": "<div>\n<style scoped>\n    .dataframe tbody tr th:only-of-type {\n        vertical-align: middle;\n    }\n\n    .dataframe tbody tr th {\n        vertical-align: top;\n    }\n\n    .dataframe thead th {\n        text-align: right;\n    }\n</style>\n<table border=\"1\" class=\"dataframe\">\n  <thead>\n    <tr style=\"text-align: right;\">\n      <th></th>\n      <th>label</th>\n      <th>tweet</th>\n      <th>stopwords</th>\n      <th>hashtags</th>\n    </tr>\n    <tr>\n      <th>id</th>\n      <th></th>\n      <th></th>\n      <th></th>\n      <th></th>\n    </tr>\n  </thead>\n  <tbody>\n    <tr>\n      <th>1</th>\n      <td>0</td>\n      <td>@user when a father is dysfunctional and is so selfish he drags his kids into his dysfunction.   #run</td>\n      <td>10</td>\n      <td>1</td>\n    </tr>\n    <tr>\n      <th>2</th>\n      <td>0</td>\n      <td>@user @user thanks for #lyft credit i can't use cause they don't offer wheelchair vans in pdx.    #disapointed #getthanked</td>\n      <td>5</td>\n      <td>3</td>\n    </tr>\n    <tr>\n      <th>4</th>\n      <td>0</td>\n      <td>#model   i love u take with u all the time in urð±!!! ððððð¦ð¦ð¦</td>\n      <td>5</td>\n      <td>1</td>\n    </tr>\n    <tr>\n      <th>5</th>\n      <td>0</td>\n      <td>factsguide: society now    #motivation</td>\n      <td>1</td>\n      <td>1</td>\n    </tr>\n    <tr>\n      <th>6</th>\n      <td>0</td>\n      <td>[2/2] huge fan fare and big talking before they leave. chaos and pay disputes when they get there. #allshowandnogo</td>\n      <td>6</td>\n      <td>1</td>\n    </tr>\n  </tbody>\n</table>\n</div>"
     },
     "execution_count": 14,
     "metadata": {},
     "output_type": "execute_result"
    }
   ],
   "source": [
    "def find_hash_tags(df):\n",
    "    df['hashtags'] = df['tweet'].apply(lambda x: len([x for x in x.split() if x.startswith('#')]))\n",
    "    return df\n",
    "\n",
    "\n",
    "df_raw = find_hash_tags(df_raw)\n",
    "df_raw[df_raw['hashtags'] > 0].head()"
   ]
  },
  {
   "cell_type": "markdown",
   "metadata": {},
   "source": [
    "##### 1.2.3 Überprüfung von Wörtern mit Großbuchstaben"
   ]
  },
  {
   "cell_type": "code",
   "execution_count": 15,
   "metadata": {
    "ExecuteTime": {
     "end_time": "2024-11-01T07:46:26.070237400Z",
     "start_time": "2024-11-01T07:46:25.868239300Z"
    }
   },
   "outputs": [
    {
     "data": {
      "text/plain": "      label  \\\nid            \n161       0   \n555       0   \n1109      1   \n1715      0   \n2502      0   \n\n                                                                                                                                        tweet  \\\nid                                                                                                                                              \n161                                                                                               new selfie \\Â¤.Â¤/  #guy   #mato #chapones    \n555   come on #ee piss poor reception today Â£20 a month and struggle to get a signal in #buxton put more masts up or i'm switching   #grumpy   \n1109                 @user all happy for Ã¨ #lbgt family,but what i don't get is the incessant but thin veiled  against other gay minorities?   \n1715   over a year after leaving @user i received a demand for Â£12. should have told me when i left! #paidnow #fuckoffnevercomingbacktosky     \n2502                    #bahrain   #youth #protesters #clash with #riot #police and  #armoured #vehicles #Ø§ÙØ¨Ø­Ø±ÙÙ #Ø§ÙÙÙÙØ¯Ø±Ø§Øª    \n\n      stopwords  hashtags  upper_case  \nid                                     \n161           0         3           1  \n555           9         3           1  \n1109         10         1           1  \n1715         11         2           1  \n2502          2        10           1  ",
      "text/html": "<div>\n<style scoped>\n    .dataframe tbody tr th:only-of-type {\n        vertical-align: middle;\n    }\n\n    .dataframe tbody tr th {\n        vertical-align: top;\n    }\n\n    .dataframe thead th {\n        text-align: right;\n    }\n</style>\n<table border=\"1\" class=\"dataframe\">\n  <thead>\n    <tr style=\"text-align: right;\">\n      <th></th>\n      <th>label</th>\n      <th>tweet</th>\n      <th>stopwords</th>\n      <th>hashtags</th>\n      <th>upper_case</th>\n    </tr>\n    <tr>\n      <th>id</th>\n      <th></th>\n      <th></th>\n      <th></th>\n      <th></th>\n      <th></th>\n    </tr>\n  </thead>\n  <tbody>\n    <tr>\n      <th>161</th>\n      <td>0</td>\n      <td>new selfie \\Â¤.Â¤/  #guy   #mato #chapones</td>\n      <td>0</td>\n      <td>3</td>\n      <td>1</td>\n    </tr>\n    <tr>\n      <th>555</th>\n      <td>0</td>\n      <td>come on #ee piss poor reception today Â£20 a month and struggle to get a signal in #buxton put more masts up or i'm switching   #grumpy</td>\n      <td>9</td>\n      <td>3</td>\n      <td>1</td>\n    </tr>\n    <tr>\n      <th>1109</th>\n      <td>1</td>\n      <td>@user all happy for Ã¨ #lbgt family,but what i don't get is the incessant but thin veiled  against other gay minorities?</td>\n      <td>10</td>\n      <td>1</td>\n      <td>1</td>\n    </tr>\n    <tr>\n      <th>1715</th>\n      <td>0</td>\n      <td>over a year after leaving @user i received a demand for Â£12. should have told me when i left! #paidnow #fuckoffnevercomingbacktosky</td>\n      <td>11</td>\n      <td>2</td>\n      <td>1</td>\n    </tr>\n    <tr>\n      <th>2502</th>\n      <td>0</td>\n      <td>#bahrain   #youth #protesters #clash with #riot #police and  #armoured #vehicles #Ø§ÙØ¨Ø­Ø±ÙÙ #Ø§ÙÙÙÙØ¯Ø±Ø§Øª</td>\n      <td>2</td>\n      <td>10</td>\n      <td>1</td>\n    </tr>\n  </tbody>\n</table>\n</div>"
     },
     "execution_count": 15,
     "metadata": {},
     "output_type": "execute_result"
    }
   ],
   "source": [
    "def find_num_uppercase(df):\n",
    "    df['upper_case'] = df['tweet'].apply(lambda x: len([x for x in x.split() if x.isupper()]))\n",
    "    return df\n",
    "\n",
    "\n",
    "df_raw = find_num_uppercase(df_raw)\n",
    "df_raw[df_raw['upper_case'] > 0].head()\n"
   ]
  },
  {
   "cell_type": "markdown",
   "metadata": {},
   "source": [
    "##### 1.2.4 Überprüfung von HTML Tags im Text"
   ]
  },
  {
   "cell_type": "code",
   "execution_count": 16,
   "metadata": {
    "ExecuteTime": {
     "end_time": "2024-11-01T07:46:26.095232700Z",
     "start_time": "2024-11-01T07:46:25.974236500Z"
    }
   },
   "outputs": [],
   "source": [
    "def identify_html_tags(text):\n",
    "    pattern = re.compile('<.*?>')\n",
    "    tags = pattern.findall(text)\n",
    "    tag_count = len(tags)\n",
    "    return tag_count"
   ]
  },
  {
   "cell_type": "code",
   "execution_count": 17,
   "outputs": [
    {
     "data": {
      "text/plain": "Empty DataFrame\nColumns: [label, tweet, stopwords, hashtags, upper_case, html_tag_count]\nIndex: []",
      "text/html": "<div>\n<style scoped>\n    .dataframe tbody tr th:only-of-type {\n        vertical-align: middle;\n    }\n\n    .dataframe tbody tr th {\n        vertical-align: top;\n    }\n\n    .dataframe thead th {\n        text-align: right;\n    }\n</style>\n<table border=\"1\" class=\"dataframe\">\n  <thead>\n    <tr style=\"text-align: right;\">\n      <th></th>\n      <th>label</th>\n      <th>tweet</th>\n      <th>stopwords</th>\n      <th>hashtags</th>\n      <th>upper_case</th>\n      <th>html_tag_count</th>\n    </tr>\n    <tr>\n      <th>id</th>\n      <th></th>\n      <th></th>\n      <th></th>\n      <th></th>\n      <th></th>\n      <th></th>\n    </tr>\n  </thead>\n  <tbody>\n  </tbody>\n</table>\n</div>"
     },
     "execution_count": 17,
     "metadata": {},
     "output_type": "execute_result"
    }
   ],
   "source": [
    "def find_html_tags(df):\n",
    "    df['html_tag_count'] = df['tweet'].apply(lambda x: identify_html_tags(x))\n",
    "    return df\n",
    "\n",
    "\n",
    "df_raw = find_html_tags(df_raw)\n",
    "df_raw[df_raw['html_tag_count'] > 0]\n",
    "# Conclusion: no html tags"
   ],
   "metadata": {
    "collapsed": false,
    "ExecuteTime": {
     "end_time": "2024-11-01T07:46:26.364232900Z",
     "start_time": "2024-11-01T07:46:25.991235400Z"
    }
   }
  },
  {
   "cell_type": "markdown",
   "metadata": {},
   "source": [
    "##### 1.2.5 Überprüfung von URL's im Text"
   ]
  },
  {
   "cell_type": "code",
   "execution_count": 18,
   "metadata": {
    "ExecuteTime": {
     "end_time": "2024-11-01T07:46:26.365233700Z",
     "start_time": "2024-11-01T07:46:26.070237400Z"
    }
   },
   "outputs": [],
   "source": [
    "def identify_urls(text):\n",
    "    pattern = re.compile(r'https?://\\S+|www\\.\\S+')\n",
    "    urls = pattern.findall(text)\n",
    "    tag_count = len(urls)\n",
    "    return tag_count"
   ]
  },
  {
   "cell_type": "code",
   "execution_count": 19,
   "outputs": [
    {
     "data": {
      "text/plain": "       label  \\\nid             \n1112       0   \n6376       0   \n8085       0   \n8485       0   \n8661       0   \n25746      0   \n\n                                                                                                                                         tweet  \\\nid                                                                                                                                               \n1112                                               #fly   #and #better #with #us #buranus  #www.flybcc.com #call #7/24  #airbroker #flightâ¦    \n6376                                                                             #isitthursdayyet? it's not? awwww... #criticalrole   #critter   \n8085                                                                                    couple having sex www.drunk singapore girl get fuck      \n8485   so glad my #workout includes smoke breaks...www.smokeweedeatbacon.com #weed #bacon #fitness #sex #health #marijuana   #strength #living   \n8661                                           @user just run 10kms for @user @user   #loveisall  pour donner: www.alvarum/heloiseetlespremas    \n25746                 @user  sirrr getting new one wowwww...  to see this plss take care of urself...love youððâ¤ï¸â¤ï¸â¤ï¸â¤ï¸    \n\n       stopwords  hashtags  upper_case  html_tag_count  url_count  \nid                                                                 \n1112           0        11           0               0          1  \n6376           1         3           0               0          1  \n8085           1         0           0               0          1  \n8485           2         9           0               0          1  \n8661           2         1           0               0          1  \n25746          3         0           0               0          1  ",
      "text/html": "<div>\n<style scoped>\n    .dataframe tbody tr th:only-of-type {\n        vertical-align: middle;\n    }\n\n    .dataframe tbody tr th {\n        vertical-align: top;\n    }\n\n    .dataframe thead th {\n        text-align: right;\n    }\n</style>\n<table border=\"1\" class=\"dataframe\">\n  <thead>\n    <tr style=\"text-align: right;\">\n      <th></th>\n      <th>label</th>\n      <th>tweet</th>\n      <th>stopwords</th>\n      <th>hashtags</th>\n      <th>upper_case</th>\n      <th>html_tag_count</th>\n      <th>url_count</th>\n    </tr>\n    <tr>\n      <th>id</th>\n      <th></th>\n      <th></th>\n      <th></th>\n      <th></th>\n      <th></th>\n      <th></th>\n      <th></th>\n    </tr>\n  </thead>\n  <tbody>\n    <tr>\n      <th>1112</th>\n      <td>0</td>\n      <td>#fly   #and #better #with #us #buranus  #www.flybcc.com #call #7/24  #airbroker #flightâ¦</td>\n      <td>0</td>\n      <td>11</td>\n      <td>0</td>\n      <td>0</td>\n      <td>1</td>\n    </tr>\n    <tr>\n      <th>6376</th>\n      <td>0</td>\n      <td>#isitthursdayyet? it's not? awwww... #criticalrole   #critter</td>\n      <td>1</td>\n      <td>3</td>\n      <td>0</td>\n      <td>0</td>\n      <td>1</td>\n    </tr>\n    <tr>\n      <th>8085</th>\n      <td>0</td>\n      <td>couple having sex www.drunk singapore girl get fuck</td>\n      <td>1</td>\n      <td>0</td>\n      <td>0</td>\n      <td>0</td>\n      <td>1</td>\n    </tr>\n    <tr>\n      <th>8485</th>\n      <td>0</td>\n      <td>so glad my #workout includes smoke breaks...www.smokeweedeatbacon.com #weed #bacon #fitness #sex #health #marijuana   #strength #living</td>\n      <td>2</td>\n      <td>9</td>\n      <td>0</td>\n      <td>0</td>\n      <td>1</td>\n    </tr>\n    <tr>\n      <th>8661</th>\n      <td>0</td>\n      <td>@user just run 10kms for @user @user   #loveisall  pour donner: www.alvarum/heloiseetlespremas</td>\n      <td>2</td>\n      <td>1</td>\n      <td>0</td>\n      <td>0</td>\n      <td>1</td>\n    </tr>\n    <tr>\n      <th>25746</th>\n      <td>0</td>\n      <td>@user  sirrr getting new one wowwww...  to see this plss take care of urself...love youððâ¤ï¸â¤ï¸â¤ï¸â¤ï¸</td>\n      <td>3</td>\n      <td>0</td>\n      <td>0</td>\n      <td>0</td>\n      <td>1</td>\n    </tr>\n  </tbody>\n</table>\n</div>"
     },
     "execution_count": 19,
     "metadata": {},
     "output_type": "execute_result"
    }
   ],
   "source": [
    "def find_urls(df):\n",
    "    df['url_count'] = df['tweet'].apply(identify_urls)\n",
    "    return df\n",
    "\n",
    "\n",
    "df_raw = find_urls(df_raw)\n",
    "df_raw[df_raw['url_count'] > 0]"
   ],
   "metadata": {
    "collapsed": false,
    "ExecuteTime": {
     "end_time": "2024-11-01T07:46:26.391232800Z",
     "start_time": "2024-11-01T07:46:26.086235300Z"
    }
   }
  },
  {
   "cell_type": "markdown",
   "metadata": {},
   "source": [
    "##### 1.2.6 Überprüfung von oft auftretenden Wörter im Text"
   ]
  },
  {
   "cell_type": "code",
   "execution_count": 20,
   "metadata": {
    "ExecuteTime": {
     "end_time": "2024-11-01T07:46:27.152233400Z",
     "start_time": "2024-11-01T07:46:26.183236Z"
    }
   },
   "outputs": [
    {
     "data": {
      "text/plain": "<Figure size 800x200 with 1 Axes>",
      "image/png": "[encoded data removed]"
     },
     "metadata": {},
     "output_type": "display_data"
    }
   ],
   "source": [
    "freq_words = pd.Series(' '.join(df_raw['tweet']).split()).value_counts()[:10]\n",
    "\n",
    "words = freq_words.index\n",
    "counts = freq_words.values\n",
    "plt.figure(figsize=(8, 2))\n",
    "plt.bar(words, counts, color='skyblue')\n",
    "\n",
    "plt.xticks(rotation=20)\n",
    "plt.tight_layout()\n",
    "plt.show()\n"
   ]
  },
  {
   "cell_type": "markdown",
   "metadata": {},
   "source": [
    "##### 1.2.7 Überprüfung von shortcuts/slangs im Text"
   ]
  },
  {
   "cell_type": "code",
   "execution_count": 21,
   "metadata": {
    "ExecuteTime": {
     "end_time": "2024-11-01T07:46:27.152233400Z",
     "start_time": "2024-11-01T07:46:26.839235500Z"
    }
   },
   "outputs": [],
   "source": [
    "shortcuts = {\n",
    "    'ROFL': 'Rolling On The Floor Laughing',\n",
    "    'STFU': 'Shut the f*** up',\n",
    "    'ICYMI': 'In case you missed it',\n",
    "    'TL;DR': 'Too long, didn’t read',\n",
    "    'TMI': 'Too much information',\n",
    "    'AFAIK': 'As Far As I Know',\n",
    "    'LMK': 'Let me know',\n",
    "    'NVM': 'Nevermind',\n",
    "    'FTW': 'For the win',\n",
    "    'BYOB': 'Bring your own beer',\n",
    "    'BOGO': 'Buy one get one',\n",
    "    'JK': 'Just kidding',\n",
    "    'JW': 'Just wondering',\n",
    "    'TGIF': 'Thank goodness it’s Friday',\n",
    "    'TBH': 'To be honest',\n",
    "    'TBF': 'To be frank',\n",
    "    'RN': 'Right now',\n",
    "    'FUBAR': 'F***** up beyond all recognition',\n",
    "    'BRB': 'Be Right Back',\n",
    "    'ISO': 'In search of',\n",
    "    'BRT': 'Be Right There',\n",
    "    'BTW': 'By The Way',\n",
    "    'FTFY': 'Fixed that for you',\n",
    "    'GG': 'Good Game',\n",
    "    'BFD': 'Big freaking deal',\n",
    "    'IRL': 'In Real Life',\n",
    "    'DAE': 'Does anyone else?',\n",
    "    'LOL': 'Laughing Out Loud',\n",
    "    'SMH': 'Shaking My Head',\n",
    "    'NGL': 'Not gonna lie',\n",
    "    'BTS': 'Behind the scenes',\n",
    "    'IKR': 'I Know Right',\n",
    "    'TTYL': 'Talk to you later',\n",
    "    'HMU': 'Hit me up',\n",
    "    'FWIW': 'For what it’s worth',\n",
    "    'IMO': 'In my opinion',\n",
    "    'WYD': 'What are you doing?',\n",
    "    'IMHO': 'In my humble opinion',\n",
    "    'IDK': 'I Don’t Know',\n",
    "    'IDC': 'I Don’t Care',\n",
    "    'IDGAF': 'I don’t give a f***',\n",
    "    'NBD': 'No big deal',\n",
    "    'TBA': 'To be announced',\n",
    "    'TBD': 'To be decided',\n",
    "    'AFK': 'Away From Keyboard',\n",
    "    'ABT': 'About',\n",
    "    'IYKYK': 'If You Know You Know',\n",
    "    'B4': 'Before',\n",
    "    'BC': 'Because',\n",
    "    'JIC': 'Just In Case',\n",
    "    'FOMO': 'Fear Of Missing Out',\n",
    "    'SNAFU': 'Situation Normal, All F***** Up',\n",
    "    'GTG/G2G': 'Got To Go',\n",
    "    'H8': 'Hate',\n",
    "    'LMAO': 'Laughing My A** Off',\n",
    "    'IYKWIM': 'If You Know What I Mean',\n",
    "    'MYOB': 'Mind Your Own Business',\n",
    "    'POV': 'Point Of View',\n",
    "    'TLC': 'Tender Loving Care',\n",
    "    'HBD': 'Happy Birthday',\n",
    "    'W/E': 'Whatever',\n",
    "    'WTF': 'What The F***',\n",
    "    'WYSIWYG': 'What You See Is What You Get',\n",
    "    'FWIF': 'For What It’s Worth',\n",
    "    'TW': 'Trigger Warning',\n",
    "    'EOD': 'End Of Day',\n",
    "    'FAQ': 'Frequently Asked Question',\n",
    "    'AKA': 'Also Known As',\n",
    "    'ASAP': 'As Soon As Possible',\n",
    "    'DIY': 'Do It Yourself',\n",
    "    'LMGTFY': 'Let Me Google That For You',\n",
    "    'NP': 'No Problem',\n",
    "    'N/A': 'Not Applicable Or Not Available',\n",
    "    'OOO': 'Out Of Office',\n",
    "    'TIA': 'Thanks In Advance',\n",
    "    'COB': 'Close Of Business',\n",
    "    'FYI': 'For Your Information',\n",
    "    'NSFW': 'Not Safe For Work',\n",
    "    'WFH': 'Work From Home',\n",
    "    'OMW': 'On My Way',\n",
    "    'WDYT': 'What Do You Think?',\n",
    "    'WYGAM': 'When You Get A Minute',\n",
    "    'SMP': 'Social Media Platform',\n",
    "    'DM': 'Direct Message',\n",
    "    'FB': 'Facebook',\n",
    "    'IG': 'Instagram',\n",
    "    'LI': 'LinkedIn',\n",
    "    'YT': 'YouTube',\n",
    "    'SC': 'Snapchat',\n",
    "    'BR': 'BeReal',\n",
    "    'X': 'Previously Named Twitter',\n",
    "    'WA': 'WhatsApp',\n",
    "    'TT': 'TikTok',\n",
    "    'FF': 'Follow Friday',\n",
    "    'IM': 'Instant Message',\n",
    "    'PM': 'Private Message',\n",
    "    'OP': 'Original Post',\n",
    "    'QOTD': 'Quote Of The Day',\n",
    "    'OOTD': 'Outfit Of The Day',\n",
    "    'RT': 'Retweet',\n",
    "    'TBT': 'Throwback Thursday',\n",
    "    'TIL': 'Today I Learned',\n",
    "    'AMA': 'Ask Me Anything',\n",
    "    'ELI5': 'Explain Like I’m 5',\n",
    "    'FBF': 'Flashback Friday',\n",
    "    'MFW': 'My Feeling When',\n",
    "    'HMU': 'Hit Me Up',\n",
    "    'GRWM': 'Get Ready With Me',\n",
    "    'ILY': 'I Love You',\n",
    "    'MCM': 'Man Crush Monday',\n",
    "    'WCW': 'Woman Crush Wednesday',\n",
    "    'BF': 'Boyfriend',\n",
    "    'GF': 'Girlfriend',\n",
    "    'LYSM': 'Love You So Much',\n",
    "    'PDA': 'Public Display Of Affection',\n",
    "    'LTR': 'Longterm Relationship',\n",
    "    'DTR': 'Define The Relationship',\n",
    "    'LDR': 'Long Distance Relationship',\n",
    "    'XOXO': 'Hugs And Kisses',\n",
    "    'OTP': 'One True Pairing',\n",
    "    'LOML': 'Love Of My Life',\n",
    "    'ATK': 'At The Keyboard',\n",
    "    'ATM': 'At The Moment',\n",
    "    'A3': 'Anytime, Anywhere, Anyplace',\n",
    "    'BAK': 'Back At Keyboard',\n",
    "    'BBL': 'Be Back Later',\n",
    "    'BBS': 'Be Back Soon',\n",
    "    'BFN': 'Bye For Now',\n",
    "    'B4N': 'Bye For Now',\n",
    "    'CU': 'See You',\n",
    "    'CUL8R': 'See You Later',\n",
    "    'CYA': 'See You',\n",
    "    'FC': 'Fingers Crossed',\n",
    "    'GAL': 'Get A Life',\n",
    "    'GN': 'Good Night',\n",
    "    'GMTA': 'Great Minds Think Alike',\n",
    "    'GR8': 'Great!',\n",
    "    'G9': 'Genius',\n",
    "    'IC': 'I See',\n",
    "    'ICQ': 'I Seek You (Also A Chat Program)',\n",
    "    'ILU': 'I Love You',\n",
    "    'IOW': 'In Other Words',\n",
    "    'KISS': 'Keep It Simple, Stupid',\n",
    "    'LTNS': 'Long Time No See',\n",
    "    'L8R': 'Later',\n",
    "    'MTE': 'My Thoughts Exactly',\n",
    "    'M8': 'Mate',\n",
    "    'NRN': 'No Reply Necessary',\n",
    "    'OIC': 'Oh I See',\n",
    "    'PITA': 'Pain In The A..',\n",
    "    'PRT': 'Party',\n",
    "    'PRW': 'Parents Are Watching',\n",
    "    'QPSA?': 'Que Pasa?',\n",
    "    'ROFLOL': 'Rolling On The Floor Laughing Out Loud',\n",
    "    'ROTFLMAO': 'Rolling On The Floor Laughing My A** Off',\n",
    "    'SK8': 'Skate',\n",
    "    'STATS': 'Your Sex And Age',\n",
    "    'ASL': 'Age, Sex, Location',\n",
    "    'THX': 'Thank You',\n",
    "    'TTFN': 'Ta-Ta For Now!',\n",
    "    'U': 'You',\n",
    "    'U2': 'You Too',\n",
    "    'U4E': 'Yours For Ever',\n",
    "    'WB': 'Welcome Back',\n",
    "    'WTF': 'What The F***',\n",
    "    'WTG': 'Way To Go!',\n",
    "    'WUF': 'Where Are You From?',\n",
    "    'W8': 'Wait...',\n",
    "    '7K': 'Sick:-D Laugher',\n",
    "    'TFW': 'That Feeling When',\n",
    "    'MFW': 'My Face When',\n",
    "    'MRW': 'My Reaction When',\n",
    "    'IFYP': 'I Feel Your Pain',\n",
    "    'TNTL': 'Trying Not To Laugh',\n",
    "    'IMU': 'I Miss You',\n",
    "    'ADIH': 'Another Day In Hell',\n",
    "    'ZZZ': 'Sleeping, Bored, Tired',\n",
    "    'WYWH': 'Wish You Were Here',\n",
    "    'FIMH': 'Forever In My Heart',\n",
    "    'BSAAW': 'Big Smile And A Wink',\n",
    "    'BWL': 'Bursting With Laughter',\n",
    "    'BFF': 'Best Friends Forever',\n",
    "    'CSL': \"Can't Stop Laughing\",\n",
    "    'OMG': \"Oh my Good\",\n",
    "    'UR': \"You are\",\n",
    "    \"isn't\": \"is not\",\n",
    "    \"he's\": \"he is\",\n",
    "    \"wasn't\": \"was not\",\n",
    "    \"there's\": \"there is\",\n",
    "    \"couldn't\": \"could not\",\n",
    "    \"won't\": \"will not\",\n",
    "    \"they're\": \"they are\",\n",
    "    \"she's\": \"she is\",\n",
    "    \"There's\": \"there is\",\n",
    "    \"wouldn't\": \"would not\",\n",
    "    \"haven't\": \"have not\",\n",
    "    \"That's\": \"That is\",\n",
    "    \"you've\": \"you have\",\n",
    "    \"He's\": \"He is\",\n",
    "    \"what's\": \"what is\",\n",
    "    \"weren't\": \"were not\",\n",
    "    \"we're\": \"we are\",\n",
    "    \"hasn't\": \"has not\",\n",
    "    \"you'd\": \"you would\",\n",
    "    \"shouldn't\": \"should not\",\n",
    "    \"let's\": \"let us\",\n",
    "    \"they've\": \"they have\",\n",
    "    \"You'll\": \"You will\",\n",
    "    \"i'm\": \"I am\",\n",
    "    \"i´m\": \"I am\",\n",
    "    \"we've\": \"we have\",\n",
    "    \"it's\": \"it is\",\n",
    "    \"don't\": \"do not\",\n",
    "    \"that´s\": \"that is\",\n",
    "    \"I´m\": \"I am\",\n",
    "    \"it’s\": \"it is\",\n",
    "    \"she´s\": \"she is\",\n",
    "    \"he’s'\": \"he is\",\n",
    "    \"I’m\": \"I am\",\n",
    "    \"I’d\": \"I did\",\n",
    "    \"he’s'\": \"he is\",\n",
    "    \"there’s\": \"there is\",\n",
    "    \"can't\": \"can not\"\n",
    "}\n",
    "\n"
   ]
  },
  {
   "cell_type": "code",
   "execution_count": 22,
   "metadata": {
    "ExecuteTime": {
     "end_time": "2024-11-01T07:46:27.152233400Z",
     "start_time": "2024-11-01T07:46:26.855235Z"
    }
   },
   "outputs": [],
   "source": [
    "def expand_shortcuts(text):\n",
    "    new_text = []\n",
    "    for w in text.split():\n",
    "        if w.upper() in shortcuts:\n",
    "            new_text.append(shortcuts[w.upper()])\n",
    "            return new_text\n",
    "        else:\n",
    "            None\n",
    "\n",
    "\n",
    "def find_shortcuts(df):\n",
    "    df['expanded_shortcut'] = df['tweet'].apply(lambda x: expand_shortcuts(x))\n",
    "    return df"
   ]
  },
  {
   "cell_type": "code",
   "execution_count": 23,
   "outputs": [
    {
     "data": {
      "text/plain": "                                                                                             tweet  \\\nid                                                                                                   \n4           #model   i love u take with u all the time in urð±!!! ðððð\nð¦ð¦ð¦     \n19                  its #friday! ð smiles all around via ig user: @user #cookies make people      \n47          #model   i love u take with u all the time in urð±!!! ðððð\nð¦ð¦ð¦     \n48                                                  #whenever im   and #something goes #wrong  |     \n97          #model   i love u take with u all the time in urð±!!! ðððð\nð¦ð¦ð¦     \n...                                                                                            ...   \n10089  hourglass x  #love #life   #beautiful #picoftheday #lovelovelove #me #us #travel #peaceâ¦    \n10101                                   when u up ya request get handled off gp!   #onlymoneytalks   \n10133                                             im done this gurl betta get my faceððð    \n10145                                        @user @user u look like the guy who looks like you,     \n10148                                                           bc #hamilton. it's lit #tonyawards   \n\n                expanded_shortcut  \nid                                 \n4                           [You]  \n19                    [Instagram]  \n47                          [You]  \n48              [Instant Message]  \n97                          [You]  \n...                           ...  \n10089  [Previously Named Twitter]  \n10101                       [You]  \n10133           [Instant Message]  \n10145                       [You]  \n10148                   [Because]  \n\n[500 rows x 2 columns]",
      "text/html": "<div>\n<style scoped>\n    .dataframe tbody tr th:only-of-type {\n        vertical-align: middle;\n    }\n\n    .dataframe tbody tr th {\n        vertical-align: top;\n    }\n\n    .dataframe thead th {\n        text-align: right;\n    }\n</style>\n<table border=\"1\" class=\"dataframe\">\n  <thead>\n    <tr style=\"text-align: right;\">\n      <th></th>\n      <th>tweet</th>\n      <th>expanded_shortcut</th>\n    </tr>\n    <tr>\n      <th>id</th>\n      <th></th>\n      <th></th>\n    </tr>\n  </thead>\n  <tbody>\n    <tr>\n      <th>4</th>\n      <td>#model   i love u take with u all the time in urð±!!! ððððð¦ð¦ð¦</td>\n      <td>[You]</td>\n    </tr>\n    <tr>\n      <th>19</th>\n      <td>its #friday! ð smiles all around via ig user: @user #cookies make people</td>\n      <td>[Instagram]</td>\n    </tr>\n    <tr>\n      <th>47</th>\n      <td>#model   i love u take with u all the time in urð±!!! ððððð¦ð¦ð¦</td>\n      <td>[You]</td>\n    </tr>\n    <tr>\n      <th>48</th>\n      <td>#whenever im   and #something goes #wrong  |</td>\n      <td>[Instant Message]</td>\n    </tr>\n    <tr>\n      <th>97</th>\n      <td>#model   i love u take with u all the time in urð±!!! ððððð¦ð¦ð¦</td>\n      <td>[You]</td>\n    </tr>\n    <tr>\n      <th>...</th>\n      <td>...</td>\n      <td>...</td>\n    </tr>\n    <tr>\n      <th>10089</th>\n      <td>hourglass x  #love #life   #beautiful #picoftheday #lovelovelove #me #us #travel #peaceâ¦</td>\n      <td>[Previously Named Twitter]</td>\n    </tr>\n    <tr>\n      <th>10101</th>\n      <td>when u up ya request get handled off gp!   #onlymoneytalks</td>\n      <td>[You]</td>\n    </tr>\n    <tr>\n      <th>10133</th>\n      <td>im done this gurl betta get my faceððð</td>\n      <td>[Instant Message]</td>\n    </tr>\n    <tr>\n      <th>10145</th>\n      <td>@user @user u look like the guy who looks like you,</td>\n      <td>[You]</td>\n    </tr>\n    <tr>\n      <th>10148</th>\n      <td>bc #hamilton. it's lit #tonyawards</td>\n      <td>[Because]</td>\n    </tr>\n  </tbody>\n</table>\n<p>500 rows × 2 columns</p>\n</div>"
     },
     "execution_count": 23,
     "metadata": {},
     "output_type": "execute_result"
    }
   ],
   "source": [
    "df_raw = find_shortcuts(df_raw)\n",
    "df_result = df_raw[df_raw['expanded_shortcut'].notna()]\n",
    "df_result = df_result[['tweet', 'expanded_shortcut']]\n",
    "df_result.head(500)\n",
    "\n",
    "# Fehlerbehaftete Änderung, z.B. 48 \"im\" statt \"i am\" zu \"Instant Message\""
   ],
   "metadata": {
    "collapsed": false,
    "ExecuteTime": {
     "end_time": "2024-11-01T07:46:27.339235900Z",
     "start_time": "2024-11-01T07:46:26.868235600Z"
    }
   }
  },
  {
   "cell_type": "markdown",
   "metadata": {},
   "source": [
    "##### 1.2.7 Überprüfung von emojis im Text"
   ]
  },
  {
   "cell_type": "code",
   "execution_count": 24,
   "outputs": [
    {
     "data": {
      "text/plain": "                                                                                                                                              tweet  \\\nid                                                                                                                                                    \n1                                             @user when a father is dysfunctional and is so selfish he drags his kids into his dysfunction.   #run   \n2                        @user @user thanks for #lyft credit i can't use cause they don't offer wheelchair vans in pdx.    #disapointed #getthanked   \n3                                                                                                                               bihday your majesty   \n4                                                            #model   i love u take with u all the time in urð±!!! ðððð\nð¦ð¦ð¦     \n5                                                                                                            factsguide: society now    #motivation   \n6                              [2/2] huge fan fare and big talking before they leave. chaos and pay disputes when they get there. #allshowandnogo     \n7                                                                         @user camping tomorrow @user @user @user @user @user @user @user dannyâ¦   \n8   the next school year is the year for exams.ð¯ can't think about that ð­ #school #exams   #hate #imagine #actorslife #revolutionschool #girl   \n9                                                           we won!!! love the land!!! #allin #cavs #champions #cleveland #clevelandcavaliers  â¦    \n10                                                                                                @user @user welcome here !  i'm   it's so #gr8 !    \n11                                   â #ireland consumer price index (mom) climbed from previous 0.2% to 0.5% in may   #blog #silver #gold #forex   \n12            we are so selfish. #orlando #standwithorlando #pulseshooting #orlandoshooting #biggerproblems #selfish #heabreaking   #values #love #   \n13                                                                                              i get to see my daddy today!!   #80days #gettingfed   \n14                                                                       @user #cnn calls #michigan middle school 'build the wall' chant '' #tcot     \n15                                            no comment!  in #australia   #opkillingbay #seashepherd #helpcovedolphins #thecove  #helpcovedolphins   \n\n    has_emoji  \nid             \n1       False  \n2       False  \n3       False  \n4        True  \n5       False  \n6       False  \n7       False  \n8        True  \n9       False  \n10      False  \n11      False  \n12      False  \n13      False  \n14      False  \n15      False  ",
      "text/html": "<div>\n<style scoped>\n    .dataframe tbody tr th:only-of-type {\n        vertical-align: middle;\n    }\n\n    .dataframe tbody tr th {\n        vertical-align: top;\n    }\n\n    .dataframe thead th {\n        text-align: right;\n    }\n</style>\n<table border=\"1\" class=\"dataframe\">\n  <thead>\n    <tr style=\"text-align: right;\">\n      <th></th>\n      <th>tweet</th>\n      <th>has_emoji</th>\n    </tr>\n    <tr>\n      <th>id</th>\n      <th></th>\n      <th></th>\n    </tr>\n  </thead>\n  <tbody>\n    <tr>\n      <th>1</th>\n      <td>@user when a father is dysfunctional and is so selfish he drags his kids into his dysfunction.   #run</td>\n      <td>False</td>\n    </tr>\n    <tr>\n      <th>2</th>\n      <td>@user @user thanks for #lyft credit i can't use cause they don't offer wheelchair vans in pdx.    #disapointed #getthanked</td>\n      <td>False</td>\n    </tr>\n    <tr>\n      <th>3</th>\n      <td>bihday your majesty</td>\n      <td>False</td>\n    </tr>\n    <tr>\n      <th>4</th>\n      <td>#model   i love u take with u all the time in urð±!!! ððððð¦ð¦ð¦</td>\n      <td>True</td>\n    </tr>\n    <tr>\n      <th>5</th>\n      <td>factsguide: society now    #motivation</td>\n      <td>False</td>\n    </tr>\n    <tr>\n      <th>6</th>\n      <td>[2/2] huge fan fare and big talking before they leave. chaos and pay disputes when they get there. #allshowandnogo</td>\n      <td>False</td>\n    </tr>\n    <tr>\n      <th>7</th>\n      <td>@user camping tomorrow @user @user @user @user @user @user @user dannyâ¦</td>\n      <td>False</td>\n    </tr>\n    <tr>\n      <th>8</th>\n      <td>the next school year is the year for exams.ð¯ can't think about that ð­ #school #exams   #hate #imagine #actorslife #revolutionschool #girl</td>\n      <td>True</td>\n    </tr>\n    <tr>\n      <th>9</th>\n      <td>we won!!! love the land!!! #allin #cavs #champions #cleveland #clevelandcavaliers  â¦</td>\n      <td>False</td>\n    </tr>\n    <tr>\n      <th>10</th>\n      <td>@user @user welcome here !  i'm   it's so #gr8 !</td>\n      <td>False</td>\n    </tr>\n    <tr>\n      <th>11</th>\n      <td>â #ireland consumer price index (mom) climbed from previous 0.2% to 0.5% in may   #blog #silver #gold #forex</td>\n      <td>False</td>\n    </tr>\n    <tr>\n      <th>12</th>\n      <td>we are so selfish. #orlando #standwithorlando #pulseshooting #orlandoshooting #biggerproblems #selfish #heabreaking   #values #love #</td>\n      <td>False</td>\n    </tr>\n    <tr>\n      <th>13</th>\n      <td>i get to see my daddy today!!   #80days #gettingfed</td>\n      <td>False</td>\n    </tr>\n    <tr>\n      <th>14</th>\n      <td>@user #cnn calls #michigan middle school 'build the wall' chant '' #tcot</td>\n      <td>False</td>\n    </tr>\n    <tr>\n      <th>15</th>\n      <td>no comment!  in #australia   #opkillingbay #seashepherd #helpcovedolphins #thecove  #helpcovedolphins</td>\n      <td>False</td>\n    </tr>\n  </tbody>\n</table>\n</div>"
     },
     "execution_count": 24,
     "metadata": {},
     "output_type": "execute_result"
    }
   ],
   "source": [
    "def is_emoji(word):\n",
    "    try:\n",
    "        converted = word.encode('latin1').decode('utf-8')\n",
    "        return any(emoji.is_emoji(char) for char in converted)\n",
    "    except (UnicodeEncodeError, UnicodeDecodeError):\n",
    "        return False\n",
    "\n",
    "    return any(emoji.is_emoji(char) for char in word)\n",
    "\n",
    "\n",
    "def find_emojis(df):\n",
    "    df['has_emoji'] = df['tweet'].apply(lambda x: is_emoji(x))\n",
    "    return df\n",
    "\n",
    "\n",
    "df_raw = find_emojis(df_raw)\n",
    "df_raw[[\"tweet\", \"has_emoji\"]].head(15)"
   ],
   "metadata": {
    "collapsed": false,
    "ExecuteTime": {
     "end_time": "2024-11-01T07:46:27.890235300Z",
     "start_time": "2024-11-01T07:46:27.030235800Z"
    }
   }
  },
  {
   "cell_type": "markdown",
   "metadata": {},
   "source": [
    "##### 1.2.8 Überprüfung von falsch geschriebenen Wörtern im Text"
   ]
  },
  {
   "cell_type": "code",
   "execution_count": 25,
   "metadata": {
    "ExecuteTime": {
     "end_time": "2024-11-01T07:46:29.800233400Z",
     "start_time": "2024-11-01T07:46:27.895234Z"
    }
   },
   "outputs": [
    {
     "data": {
      "text/plain": "                                                                                                                                     tweet  \\\nid                                                                                                                                           \n1                                    @user when a father is dysfunctional and is so selfish he drags his kids into his dysfunction.   #run   \n2               @user @user thanks for #lyft credit i can't use cause they don't offer wheelchair vans in pdx.    #disapointed #getthanked   \n3                                                                                                                      bihday your majesty   \n4                                                   #model   i love u take with u all the time in urð±!!! ðððð\nð¦ð¦ð¦     \n5                                                                                                   factsguide: society now    #motivation   \n...                                                                                                                                    ...   \n31958                                                                 ate @user isz that youuu?ðððððððððâ¤ï¸    \n31959    to see nina turner on the airwaves trying to wrap herself in the mantle of a genuine hero like shirley chisolm. #shame #imwithher   \n31960                                                                      listening to sad songs on a monday morning otw to work is sad     \n31961                                                                  @user #sikh #temple vandalised in in #calgary, #wso condemns  act     \n31962                                                                                                     thank you @user for you follow     \n\n      misspelled_words  \nid                      \n1                   []  \n2                   []  \n3             [bihday]  \n4                   []  \n5                   []  \n...                ...  \n31958               []  \n31959               []  \n31960    [monday, otw]  \n31961     [vandalised]  \n31962               []  \n\n[31962 rows x 2 columns]",
      "text/html": "<div>\n<style scoped>\n    .dataframe tbody tr th:only-of-type {\n        vertical-align: middle;\n    }\n\n    .dataframe tbody tr th {\n        vertical-align: top;\n    }\n\n    .dataframe thead th {\n        text-align: right;\n    }\n</style>\n<table border=\"1\" class=\"dataframe\">\n  <thead>\n    <tr style=\"text-align: right;\">\n      <th></th>\n      <th>tweet</th>\n      <th>misspelled_words</th>\n    </tr>\n    <tr>\n      <th>id</th>\n      <th></th>\n      <th></th>\n    </tr>\n  </thead>\n  <tbody>\n    <tr>\n      <th>1</th>\n      <td>@user when a father is dysfunctional and is so selfish he drags his kids into his dysfunction.   #run</td>\n      <td>[]</td>\n    </tr>\n    <tr>\n      <th>2</th>\n      <td>@user @user thanks for #lyft credit i can't use cause they don't offer wheelchair vans in pdx.    #disapointed #getthanked</td>\n      <td>[]</td>\n    </tr>\n    <tr>\n      <th>3</th>\n      <td>bihday your majesty</td>\n      <td>[bihday]</td>\n    </tr>\n    <tr>\n      <th>4</th>\n      <td>#model   i love u take with u all the time in urð±!!! ððððð¦ð¦ð¦</td>\n      <td>[]</td>\n    </tr>\n    <tr>\n      <th>5</th>\n      <td>factsguide: society now    #motivation</td>\n      <td>[]</td>\n    </tr>\n    <tr>\n      <th>...</th>\n      <td>...</td>\n      <td>...</td>\n    </tr>\n    <tr>\n      <th>31958</th>\n      <td>ate @user isz that youuu?ðððððððððâ¤ï¸</td>\n      <td>[]</td>\n    </tr>\n    <tr>\n      <th>31959</th>\n      <td>to see nina turner on the airwaves trying to wrap herself in the mantle of a genuine hero like shirley chisolm. #shame #imwithher</td>\n      <td>[]</td>\n    </tr>\n    <tr>\n      <th>31960</th>\n      <td>listening to sad songs on a monday morning otw to work is sad</td>\n      <td>[monday, otw]</td>\n    </tr>\n    <tr>\n      <th>31961</th>\n      <td>@user #sikh #temple vandalised in in #calgary, #wso condemns  act</td>\n      <td>[vandalised]</td>\n    </tr>\n    <tr>\n      <th>31962</th>\n      <td>thank you @user for you follow</td>\n      <td>[]</td>\n    </tr>\n  </tbody>\n</table>\n<p>31962 rows × 2 columns</p>\n</div>"
     },
     "execution_count": 25,
     "metadata": {},
     "output_type": "execute_result"
    }
   ],
   "source": [
    "spell = SpellChecker()\n",
    "\n",
    "\n",
    "def identify_misspelled_words(text):\n",
    "    text = re.sub(r\".*[_.!$%^&*()<>?/\\|}{~:].*\", '', text)\n",
    "    try:\n",
    "        converted = text.encode('latin1').decode('utf-8')\n",
    "    except (UnicodeEncodeError, UnicodeDecodeError):\n",
    "        converted = text\n",
    "    words = converted.split()\n",
    "\n",
    "    misspelled = [\n",
    "        word for word in words\n",
    "        if not any(emoji.is_emoji(char) for char in word)  # Ignoriere Emojis\n",
    "           and not word.startswith('@')  # Ignoriere Wörter, die mit @ beginnen\n",
    "           and not word.startswith('#')  # Ignoriere Wörter, die mit # beginnen\n",
    "           and word in spell.unknown([word])  # Führe Rechtschreibprüfung auf verbleibende Wörter durch\n",
    "           and not word.endswith('!')\n",
    "           and not word.endswith(']')\n",
    "           and not word.startswith('[')\n",
    "    ]\n",
    "    return misspelled\n",
    "\n",
    "\n",
    "def find_misspelled_words(df):\n",
    "    df['misspelled_words'] = df['tweet'].apply(identify_misspelled_words)\n",
    "    return df\n",
    "\n",
    "\n",
    "df_raw = find_misspelled_words(df_raw)\n",
    "df_raw[['tweet', 'misspelled_words']]"
   ]
  },
  {
   "cell_type": "markdown",
   "metadata": {},
   "source": [
    "##### 1.2.9 Überprüfung Anzahl der Wörter in Tweets"
   ]
  },
  {
   "cell_type": "code",
   "execution_count": 26,
   "outputs": [],
   "source": [
    "def word_count(df):\n",
    "    df['count_of_words'] = df['tweet'].apply(lambda x: len(str(x).split(\" \")))\n",
    "    return df\n",
    "\n",
    "\n",
    "df_raw = word_count(df_raw)"
   ],
   "metadata": {
    "collapsed": false,
    "ExecuteTime": {
     "end_time": "2024-11-01T07:46:29.892234900Z",
     "start_time": "2024-11-01T07:46:29.801234300Z"
    }
   }
  },
  {
   "cell_type": "code",
   "execution_count": 27,
   "metadata": {
    "ExecuteTime": {
     "end_time": "2024-11-01T07:46:30.396239700Z",
     "start_time": "2024-11-01T07:46:29.866234500Z"
    }
   },
   "outputs": [
    {
     "data": {
      "text/plain": "<Figure size 640x480 with 1 Axes>",
      "image/png": "[encoded data removed]"
     },
     "metadata": {},
     "output_type": "display_data"
    },
    {
     "data": {
      "text/plain": "<Figure size 400x200 with 0 Axes>"
     },
     "metadata": {},
     "output_type": "display_data"
    }
   ],
   "source": [
    "df_raw = word_count(df_raw)\n",
    "\n",
    "sns.histplot(df_raw['count_of_words'])\n",
    "\n",
    "plt.title('Word Count of all Tweets')\n",
    "\n",
    "plt.xlabel('Word Count')\n",
    "plt.ylabel('Number of Tweets')\n",
    "plt.figure(figsize=(4, 2))\n",
    "plt.show()"
   ]
  },
  {
   "cell_type": "markdown",
   "source": [
    "### 1.3 Ausreißerprüfung"
   ],
   "metadata": {
    "collapsed": false
   }
  },
  {
   "cell_type": "code",
   "execution_count": 28,
   "outputs": [],
   "source": [
    "def find_outlier(data):\n",
    "    for num_col in data.select_dtypes([\"number\"]).columns:\n",
    "        sd = data[num_col].std()\n",
    "        mean = data[num_col].mean()\n",
    "        result = [out for out in data[num_col] if (out > mean + 3 * sd) or (out < mean - 3 * sd)]\n",
    "        print()\n",
    "        print(\"Column: \", num_col)\n",
    "        print(\"Mean: \", mean, \"; Std: \", sd)\n",
    "        print(\"Outlier: \", len(result), \"; Values: \", sorted(result))"
   ],
   "metadata": {
    "collapsed": false,
    "ExecuteTime": {
     "end_time": "2024-11-01T07:46:30.530232700Z",
     "start_time": "2024-11-01T07:46:30.395238100Z"
    }
   }
  },
  {
   "cell_type": "code",
   "execution_count": 29,
   "outputs": [
    {
     "name": "stdout",
     "output_type": "stream",
     "text": [
      "\n",
      "Column:  count_of_words\n",
      "Mean:  16.048182216381953 ; Std:  5.395800656851026\n",
      "Outlier:  24 ; Values:  [33, 33, 33, 33, 33, 33, 33, 33, 34, 34, 34, 34, 34, 34, 35, 35, 35, 36, 36, 38, 39, 40, 42, 43]\n"
     ]
    }
   ],
   "source": [
    "find_outlier(df_raw[['count_of_words']])"
   ],
   "metadata": {
    "collapsed": false,
    "ExecuteTime": {
     "end_time": "2024-11-01T07:46:30.556232800Z",
     "start_time": "2024-11-01T07:46:30.408233100Z"
    }
   }
  },
  {
   "cell_type": "markdown",
   "metadata": {},
   "source": [
    "## 2. Datenvorbereitung"
   ]
  },
  {
   "cell_type": "code",
   "execution_count": 30,
   "outputs": [],
   "source": [
    "df_clean_base = df_origin.copy()"
   ],
   "metadata": {
    "collapsed": false,
    "ExecuteTime": {
     "end_time": "2024-11-01T07:46:30.556232800Z",
     "start_time": "2024-11-01T07:46:30.436235100Z"
    }
   }
  },
  {
   "cell_type": "markdown",
   "source": [
    "### 2.1 Datenbereinigung allgemein"
   ],
   "metadata": {
    "collapsed": false
   }
  },
  {
   "cell_type": "markdown",
   "source": [
    "#### Duplikate"
   ],
   "metadata": {
    "collapsed": false
   }
  },
  {
   "cell_type": "code",
   "execution_count": 31,
   "outputs": [
    {
     "data": {
      "text/plain": "2432"
     },
     "execution_count": 31,
     "metadata": {},
     "output_type": "execute_result"
    }
   ],
   "source": [
    "df_clean_base.duplicated().sum()"
   ],
   "metadata": {
    "collapsed": false,
    "ExecuteTime": {
     "end_time": "2024-11-01T07:46:30.558233300Z",
     "start_time": "2024-11-01T07:46:30.454238200Z"
    }
   }
  },
  {
   "cell_type": "code",
   "execution_count": 32,
   "outputs": [
    {
     "data": {
      "text/plain": "0"
     },
     "execution_count": 32,
     "metadata": {},
     "output_type": "execute_result"
    }
   ],
   "source": [
    "df_clean_base.drop_duplicates(inplace=True)\n",
    "df_clean_base.duplicated().sum()"
   ],
   "metadata": {
    "collapsed": false,
    "ExecuteTime": {
     "end_time": "2024-11-01T07:46:30.559235600Z",
     "start_time": "2024-11-01T07:46:30.486234800Z"
    }
   }
  },
  {
   "cell_type": "markdown",
   "source": [
    "#### Ausreißer"
   ],
   "metadata": {
    "collapsed": false
   }
  },
  {
   "cell_type": "code",
   "execution_count": 33,
   "outputs": [],
   "source": [
    "# todo klären"
   ],
   "metadata": {
    "collapsed": false,
    "ExecuteTime": {
     "end_time": "2024-11-01T07:46:30.559235600Z",
     "start_time": "2024-11-01T07:46:30.530232700Z"
    }
   }
  },
  {
   "cell_type": "markdown",
   "source": [
    "#### Encoding"
   ],
   "metadata": {
    "collapsed": false
   }
  },
  {
   "cell_type": "code",
   "execution_count": 34,
   "outputs": [],
   "source": [
    "df_clean_base[\"tweet\"] = df_clean_base['tweet'].apply(fix_encoding)"
   ],
   "metadata": {
    "collapsed": false,
    "ExecuteTime": {
     "end_time": "2024-11-01T07:46:33.105235300Z",
     "start_time": "2024-11-01T07:46:30.534234900Z"
    }
   }
  },
  {
   "cell_type": "code",
   "execution_count": 35,
   "outputs": [
    {
     "data": {
      "text/plain": "       label  \\\nid             \n1          0   \n2          0   \n3          0   \n4          0   \n5          0   \n...      ...   \n31957      0   \n31958      0   \n31959      0   \n31960      0   \n31962      0   \n\n                                                                                                                                     tweet  \nid                                                                                                                                          \n1                                    @user when a father is dysfunctional and is so selfish he drags his kids into his dysfunction.   #run  \n2               @user @user thanks for #lyft credit i can't use cause they don't offer wheelchair vans in pdx.    #disapointed #getthanked  \n3                                                                                                                      bihday your majesty  \n4                                                                           #model   i love u take with u all the time in ur📱!!! 😙😎👄👅💦💦💦    \n5                                                                                                   factsguide: society now    #motivation  \n...                                                                                                                                    ...  \n31957                                                                        off fishing tomorrow @user carnt wait first time in 2 years    \n31958                                                                                                ate @user isz that youuu?😍😍😍😍😍😍😍😍😍❤️   \n31959    to see nina turner on the airwaves trying to wrap herself in the mantle of a genuine hero like shirley chisolm. #shame #imwithher  \n31960                                                                      listening to sad songs on a monday morning otw to work is sad    \n31962                                                                                                     thank you @user for you follow    \n\n[29530 rows x 2 columns]",
      "text/html": "<div>\n<style scoped>\n    .dataframe tbody tr th:only-of-type {\n        vertical-align: middle;\n    }\n\n    .dataframe tbody tr th {\n        vertical-align: top;\n    }\n\n    .dataframe thead th {\n        text-align: right;\n    }\n</style>\n<table border=\"1\" class=\"dataframe\">\n  <thead>\n    <tr style=\"text-align: right;\">\n      <th></th>\n      <th>label</th>\n      <th>tweet</th>\n    </tr>\n    <tr>\n      <th>id</th>\n      <th></th>\n      <th></th>\n    </tr>\n  </thead>\n  <tbody>\n    <tr>\n      <th>1</th>\n      <td>0</td>\n      <td>@user when a father is dysfunctional and is so selfish he drags his kids into his dysfunction.   #run</td>\n    </tr>\n    <tr>\n      <th>2</th>\n      <td>0</td>\n      <td>@user @user thanks for #lyft credit i can't use cause they don't offer wheelchair vans in pdx.    #disapointed #getthanked</td>\n    </tr>\n    <tr>\n      <th>3</th>\n      <td>0</td>\n      <td>bihday your majesty</td>\n    </tr>\n    <tr>\n      <th>4</th>\n      <td>0</td>\n      <td>#model   i love u take with u all the time in ur📱!!! 😙😎👄👅💦💦💦</td>\n    </tr>\n    <tr>\n      <th>5</th>\n      <td>0</td>\n      <td>factsguide: society now    #motivation</td>\n    </tr>\n    <tr>\n      <th>...</th>\n      <td>...</td>\n      <td>...</td>\n    </tr>\n    <tr>\n      <th>31957</th>\n      <td>0</td>\n      <td>off fishing tomorrow @user carnt wait first time in 2 years</td>\n    </tr>\n    <tr>\n      <th>31958</th>\n      <td>0</td>\n      <td>ate @user isz that youuu?😍😍😍😍😍😍😍😍😍❤️</td>\n    </tr>\n    <tr>\n      <th>31959</th>\n      <td>0</td>\n      <td>to see nina turner on the airwaves trying to wrap herself in the mantle of a genuine hero like shirley chisolm. #shame #imwithher</td>\n    </tr>\n    <tr>\n      <th>31960</th>\n      <td>0</td>\n      <td>listening to sad songs on a monday morning otw to work is sad</td>\n    </tr>\n    <tr>\n      <th>31962</th>\n      <td>0</td>\n      <td>thank you @user for you follow</td>\n    </tr>\n  </tbody>\n</table>\n<p>29530 rows × 2 columns</p>\n</div>"
     },
     "execution_count": 35,
     "metadata": {},
     "output_type": "execute_result"
    }
   ],
   "source": [
    "df_clean_base"
   ],
   "metadata": {
    "collapsed": false,
    "ExecuteTime": {
     "end_time": "2024-11-01T07:46:33.125234300Z",
     "start_time": "2024-11-01T07:46:33.106235400Z"
    }
   }
  },
  {
   "cell_type": "markdown",
   "metadata": {},
   "source": [
    "### 2.1 Datenbereinigung speziell für Textverarbeitung"
   ]
  },
  {
   "cell_type": "markdown",
   "metadata": {},
   "source": [
    "##### 2.1.1 Entfernung von special characters"
   ]
  },
  {
   "cell_type": "code",
   "execution_count": 36,
   "metadata": {
    "ExecuteTime": {
     "end_time": "2024-11-01T07:46:33.180232600Z",
     "start_time": "2024-11-01T07:46:33.123238500Z"
    }
   },
   "outputs": [],
   "source": [
    "def remove_special_characters(df):\n",
    "    pattern = re.compile(r'<.*?>|@\\w+|[\\/§&]')\n",
    "    df['tweet_cleaned'] = df['tweet_cleaned'].apply(lambda x: pattern.sub('', x))\n",
    "    return df"
   ]
  },
  {
   "cell_type": "markdown",
   "metadata": {},
   "source": [
    "##### 2.1.2 Entfernung von URL's im Text"
   ]
  },
  {
   "cell_type": "code",
   "execution_count": 37,
   "metadata": {
    "ExecuteTime": {
     "end_time": "2024-11-01T07:46:33.261232700Z",
     "start_time": "2024-11-01T07:46:33.138235500Z"
    }
   },
   "outputs": [],
   "source": [
    "def remove_url_from_tweet(df):\n",
    "    pattern = re.compile(r'https?://\\S+|www\\.\\S+')\n",
    "    df['tweet_cleaned'] = df['tweet_cleaned'].apply(lambda x: pattern.sub('', x))\n",
    "    return df"
   ]
  },
  {
   "cell_type": "markdown",
   "metadata": {},
   "source": [
    "##### 2.1.3 Entfernung von Punkten, Kommas"
   ]
  },
  {
   "cell_type": "code",
   "execution_count": 38,
   "metadata": {
    "ExecuteTime": {
     "end_time": "2024-11-01T07:46:33.292234200Z",
     "start_time": "2024-11-01T07:46:33.155234300Z"
    }
   },
   "outputs": [],
   "source": [
    "def remove_punctuation(df):\n",
    "    pattern = re.compile(r'[.:?!,\\[\\]/%&§{}]')\n",
    "    df['tweet_cleaned'] = df['tweet_cleaned'].apply(lambda x: pattern.sub('', x))\n",
    "    return df"
   ]
  },
  {
   "cell_type": "markdown",
   "metadata": {},
   "source": [
    "##### 2.1.4 Entfernung von Nummern"
   ]
  },
  {
   "cell_type": "code",
   "execution_count": 39,
   "metadata": {
    "ExecuteTime": {
     "end_time": "2024-11-01T07:46:33.325234800Z",
     "start_time": "2024-11-01T07:46:33.170239800Z"
    }
   },
   "outputs": [],
   "source": [
    "def remove_digis(df):\n",
    "    pattern = re.compile(r'\\d')\n",
    "    df['tweet_cleaned'] = df['tweet_cleaned'].apply(lambda x: pattern.sub('', x))\n",
    "    return df"
   ]
  },
  {
   "cell_type": "markdown",
   "metadata": {},
   "source": [
    "##### 2.1.5 Extraktion/Korrektur von shortcuts/slangs im Text"
   ]
  },
  {
   "cell_type": "code",
   "execution_count": 40,
   "metadata": {
    "ExecuteTime": {
     "end_time": "2024-11-01T07:46:33.366232900Z",
     "start_time": "2024-11-01T07:46:33.195236700Z"
    }
   },
   "outputs": [],
   "source": [
    "def expand_shortforms(text):\n",
    "    text = re.sub(\"isn't\", 'is not', text)\n",
    "    text = re.sub(\"he's\", 'he is', text)\n",
    "    text = re.sub(\"wasn't\", 'was not', text)\n",
    "    text = re.sub(\"there's\", 'there is', text)\n",
    "    text = re.sub(\"couldn't\", 'could not', text)\n",
    "    text = re.sub(\"won't\", 'will not', text)\n",
    "    text = re.sub(\"they're\", 'they are', text)\n",
    "    text = re.sub(\"she's\", 'she is', text)\n",
    "    text = re.sub(\"There's\", 'there is', text)\n",
    "    text = re.sub(\"wouldn't\", 'would not', text)\n",
    "    text = re.sub(\"haven't\", 'have not', text)\n",
    "    text = re.sub(\"That's\", 'That is', text)\n",
    "    text = re.sub(\"you've\", 'you have', text)\n",
    "    text = re.sub(\"He's\", 'He is', text)\n",
    "    text = re.sub(\"what's\", 'what is', text)\n",
    "    text = re.sub(\"weren't\", 'were not', text)\n",
    "    text = re.sub(\"we're\", 'we are', text)\n",
    "    text = re.sub(\"hasn't\", 'has not', text)\n",
    "    text = re.sub(\"you'd\", 'you would', text)\n",
    "    text = re.sub(\"shouldn't\", 'should not', text)\n",
    "    text = re.sub(\"let's\", 'let us', text)\n",
    "    text = re.sub(\"they've\", 'they have', text)\n",
    "    text = re.sub(\"You'll\", 'You will', text)\n",
    "    text = re.sub(\"i'm\", 'i am', text)\n",
    "    text = re.sub(\"we've\", 'we have', text)\n",
    "    text = re.sub(\"it's\", 'it is', text)\n",
    "    text = re.sub(\"don't\", 'do not', text)\n",
    "    text = re.sub(\"that´s\", 'that is', text)\n",
    "    text = re.sub(\"I´m\", 'I am', text)\n",
    "    text = re.sub(\"it’s\", 'it is', text)\n",
    "    text = re.sub(\"she´s\", 'she is', text)\n",
    "    text = re.sub(\"he’s'\", 'he is', text)\n",
    "    text = re.sub('I’m', 'I am', text)\n",
    "    text = re.sub('I’d', 'I did', text)\n",
    "    text = re.sub(\"he’s'\", 'he is', text)\n",
    "    text = re.sub('there’s', 'there is', text)\n",
    "\n",
    "    return text\n",
    "\n",
    "\n",
    "def expand_slang(text):\n",
    "    new_text = []\n",
    "    for w in text.split():\n",
    "\n",
    "        if w.upper() in shortcuts:\n",
    "            new_text.append(shortcuts[w.upper()])  # Ersetzen, wenn es ein Shortcut ist\n",
    "        # if w in shortcuts:\n",
    "        #     new_text.append(shortcuts[w])\n",
    "        else:\n",
    "            new_text.append(w)  # sonst original beibehalten\n",
    "\n",
    "    return ' '.join(new_text)\n",
    "\n",
    "\n",
    "def expand_shortcuts(df):\n",
    "    df['tweet_cleaned'] = df['tweet_cleaned'].apply(expand_slang)\n",
    "    df['tweet_cleaned'] = df['tweet_cleaned'].apply(expand_shortforms)\n",
    "    return df"
   ]
  },
  {
   "cell_type": "markdown",
   "metadata": {},
   "source": [
    "##### 2.1.6 Entfernung von Stopwords"
   ]
  },
  {
   "cell_type": "code",
   "execution_count": 41,
   "metadata": {
    "ExecuteTime": {
     "end_time": "2024-11-01T07:46:33.542233700Z",
     "start_time": "2024-11-01T07:46:33.202235300Z"
    }
   },
   "outputs": [],
   "source": [
    "def remove_stop_words(df):\n",
    "    stop_words = set(stopwords.words('english'))\n",
    "\n",
    "    df['tweet_cleaned'] = df['tweet_cleaned'].apply(\n",
    "        lambda x: \" \".join(w for w in x.split() if w.lower() not in stop_words))\n",
    "    return df"
   ]
  },
  {
   "cell_type": "markdown",
   "metadata": {},
   "source": [
    "##### 2.1.6  Korrektur von Großbuchstaben in Wörtern"
   ]
  },
  {
   "cell_type": "code",
   "execution_count": 42,
   "metadata": {
    "ExecuteTime": {
     "end_time": "2024-11-01T07:46:33.542233700Z",
     "start_time": "2024-11-01T07:46:33.226240200Z"
    }
   },
   "outputs": [],
   "source": [
    "def to_lowercase_if_string(text):\n",
    "    if isinstance(text, str):\n",
    "        return text.lower()\n",
    "    return text\n",
    "\n",
    "\n",
    "def to_lowercase(df):\n",
    "    df['tweet_cleaned'] = df['tweet_cleaned'].fillna('').apply(to_lowercase_if_string)\n",
    "    return df\n"
   ]
  },
  {
   "cell_type": "markdown",
   "metadata": {},
   "source": [
    "##### 2.1.7  Korrektur von falsch geschriebenen Wörtern im Text"
   ]
  },
  {
   "cell_type": "code",
   "execution_count": 43,
   "metadata": {
    "ExecuteTime": {
     "end_time": "2024-11-01T07:46:33.544235300Z",
     "start_time": "2024-11-01T07:46:33.233240400Z"
    }
   },
   "outputs": [],
   "source": [
    "def correct_misspelled_words_in_sentence(text):\n",
    "    words = text.split()\n",
    "    corrected_text = []\n",
    "\n",
    "    for word in words:\n",
    "        text_blob = TextBlob(word)\n",
    "        corrected_text.append(str(text_blob.correct()))\n",
    "\n",
    "    return ' '.join(corrected_text)\n",
    "\n",
    "\n",
    "def clean_misspelled_words(df):\n",
    "    df['tweet_cleaned'] = df['tweet_cleaned'].apply(correct_misspelled_words_in_sentence)\n",
    "    return df\n"
   ]
  },
  {
   "cell_type": "code",
   "execution_count": 44,
   "outputs": [
    {
     "name": "stdout",
     "output_type": "stream",
     "text": [
      "Elapsed time:  74.29399752616882\n"
     ]
    }
   ],
   "source": [
    "df_cleaned_1 = df_raw.iloc[0:100].copy()\n",
    "start = time.time()\n",
    "df_cleaned_1['tweet_corrected'] = df_cleaned_1['tweet'].apply(correct_misspelled_words_in_sentence)\n",
    "end = time.time()\n",
    "print(\"Elapsed time: \", end - start)"
   ],
   "metadata": {
    "collapsed": false,
    "ExecuteTime": {
     "end_time": "2024-11-01T07:47:47.563234100Z",
     "start_time": "2024-11-01T07:46:33.250235Z"
    }
   }
  },
  {
   "cell_type": "code",
   "execution_count": 45,
   "outputs": [
    {
     "data": {
      "text/plain": "                                                                                                                          tweet  \\\nid                                                                                                                                \n1                         @user when a father is dysfunctional and is so selfish he drags his kids into his dysfunction.   #run   \n2    @user @user thanks for #lyft credit i can't use cause they don't offer wheelchair vans in pdx.    #disapointed #getthanked   \n3                                                                                                           bihday your majesty   \n4                                        #model   i love u take with u all the time in urð±!!! ðððð\nð¦ð¦ð¦     \n5                                                                                        factsguide: society now    #motivation   \n..                                                                                                                          ...   \n96           @user i'll always hope that one day i'll get to hug you, but i don't think that it's gonna happen anytime soon...    \n97                                       #model   i love u take with u all the time in urð±!!! ðððð\nð¦ð¦ð¦     \n98                                                                                 couple having sex fat naked japanese girls     \n99                                                        #hump on that    #hump day #humpersð© @ edwardsville, pennsylvania    \n100                                                            personalised we... gbp 7.99 get here:  #shop #cool   #home #fun    \n\n                                                                                                             tweet_corrected  \nid                                                                                                                            \n1                        @user when a father is dysfunctional and is so selfish he drags his kiss into his dysfunction. #run  \n2    @user @user thanks for #left credit i can't use cause they don't offer wheelchair van in pox. #disappointed #getthanked  \n3                                                                                                        midday your majesty  \n4                                          #model i love u take with u all the time in or±!!! ðððð ð¦ð¦ð¦  \n5                                                                                        factsguide: society now #motivation  \n..                                                                                                                       ...  \n96         @user i'll always hope that one day i'll get to hug you, but i don't think that it's donna happen daytime soon...  \n97                                         #model i love u take with u all the time in or±!!! ðððð ð¦ð¦ð¦  \n98                                                                                couple having sex fat naked japanese girls  \n99                                                         #hump on that #hump day #humpersð© @ edwardsville, pennsylvania  \n100                                                             personalised we... gap 7.99 get here: #shop #cool #home #fun  \n\n[100 rows x 2 columns]",
      "text/html": "<div>\n<style scoped>\n    .dataframe tbody tr th:only-of-type {\n        vertical-align: middle;\n    }\n\n    .dataframe tbody tr th {\n        vertical-align: top;\n    }\n\n    .dataframe thead th {\n        text-align: right;\n    }\n</style>\n<table border=\"1\" class=\"dataframe\">\n  <thead>\n    <tr style=\"text-align: right;\">\n      <th></th>\n      <th>tweet</th>\n      <th>tweet_corrected</th>\n    </tr>\n    <tr>\n      <th>id</th>\n      <th></th>\n      <th></th>\n    </tr>\n  </thead>\n  <tbody>\n    <tr>\n      <th>1</th>\n      <td>@user when a father is dysfunctional and is so selfish he drags his kids into his dysfunction.   #run</td>\n      <td>@user when a father is dysfunctional and is so selfish he drags his kiss into his dysfunction. #run</td>\n    </tr>\n    <tr>\n      <th>2</th>\n      <td>@user @user thanks for #lyft credit i can't use cause they don't offer wheelchair vans in pdx.    #disapointed #getthanked</td>\n      <td>@user @user thanks for #left credit i can't use cause they don't offer wheelchair van in pox. #disappointed #getthanked</td>\n    </tr>\n    <tr>\n      <th>3</th>\n      <td>bihday your majesty</td>\n      <td>midday your majesty</td>\n    </tr>\n    <tr>\n      <th>4</th>\n      <td>#model   i love u take with u all the time in urð±!!! ððððð¦ð¦ð¦</td>\n      <td>#model i love u take with u all the time in or±!!! ðððð ð¦ð¦ð¦</td>\n    </tr>\n    <tr>\n      <th>5</th>\n      <td>factsguide: society now    #motivation</td>\n      <td>factsguide: society now #motivation</td>\n    </tr>\n    <tr>\n      <th>...</th>\n      <td>...</td>\n      <td>...</td>\n    </tr>\n    <tr>\n      <th>96</th>\n      <td>@user i'll always hope that one day i'll get to hug you, but i don't think that it's gonna happen anytime soon...</td>\n      <td>@user i'll always hope that one day i'll get to hug you, but i don't think that it's donna happen daytime soon...</td>\n    </tr>\n    <tr>\n      <th>97</th>\n      <td>#model   i love u take with u all the time in urð±!!! ððððð¦ð¦ð¦</td>\n      <td>#model i love u take with u all the time in or±!!! ðððð ð¦ð¦ð¦</td>\n    </tr>\n    <tr>\n      <th>98</th>\n      <td>couple having sex fat naked japanese girls</td>\n      <td>couple having sex fat naked japanese girls</td>\n    </tr>\n    <tr>\n      <th>99</th>\n      <td>#hump on that    #hump day #humpersð© @ edwardsville, pennsylvania</td>\n      <td>#hump on that #hump day #humpersð© @ edwardsville, pennsylvania</td>\n    </tr>\n    <tr>\n      <th>100</th>\n      <td>personalised we... gbp 7.99 get here:  #shop #cool   #home #fun</td>\n      <td>personalised we... gap 7.99 get here: #shop #cool #home #fun</td>\n    </tr>\n  </tbody>\n</table>\n<p>100 rows × 2 columns</p>\n</div>"
     },
     "execution_count": 45,
     "metadata": {},
     "output_type": "execute_result"
    }
   ],
   "source": [
    "df_cleaned_1[[\"tweet\", \"tweet_corrected\"]].head(100)"
   ],
   "metadata": {
    "collapsed": false,
    "ExecuteTime": {
     "end_time": "2024-11-01T07:47:47.670234200Z",
     "start_time": "2024-11-01T07:47:47.563234100Z"
    }
   }
  },
  {
   "cell_type": "markdown",
   "metadata": {},
   "source": [
    "##### 2.1.8 Ersetzen von Emojis"
   ]
  },
  {
   "cell_type": "code",
   "execution_count": 46,
   "metadata": {
    "ExecuteTime": {
     "end_time": "2024-11-01T07:47:47.734235700Z",
     "start_time": "2024-11-01T07:47:47.582234100Z"
    }
   },
   "outputs": [],
   "source": [
    "def replace_emoji_in_sentence(text):\n",
    "    if isinstance(text, str):\n",
    "        new_text = emoji.demojize(text, delimiters=(\"__\", \"__\"))\n",
    "        return new_text.replace(\"__\", \" \")\n",
    "    else:\n",
    "        return text\n",
    "\n",
    "\n",
    "def replace_emojis(df):\n",
    "    df['tweet_cleaned'] = df['tweet_cleaned'].apply(replace_emoji_in_sentence)\n",
    "    return df"
   ]
  },
  {
   "cell_type": "markdown",
   "metadata": {},
   "source": [
    "##### 2.1.9  Entfernung von Emojis"
   ]
  },
  {
   "cell_type": "code",
   "execution_count": 47,
   "metadata": {
    "ExecuteTime": {
     "end_time": "2024-11-01T07:47:47.788238Z",
     "start_time": "2024-11-01T07:47:47.597239100Z"
    }
   },
   "outputs": [],
   "source": [
    "def remove_emoji_in_sentence(text):\n",
    "    emoji_pattern = re.compile(\"[\"\n",
    "                               u\"\\U0001F600-\\U0001F64F\"  # emoticons\n",
    "                               u\"\\U0001F300-\\U0001F5FF\"  # symbols, pictographs\n",
    "                               u\"\\U0001F680-\\U0001F6FF\"  # transport & map symbols\n",
    "                               u\"\\U0001F1E0-\\U0001F1FF\"  # flags\n",
    "                               u\"\\U00002702-\\U000027B0\"  # other symbols\n",
    "                               u\"\\U00002FC2-\\U0001F251\"  # more symbols\n",
    "                               \"]+\", flags=re.UNICODE)\n",
    "\n",
    "    if isinstance(text, str):\n",
    "        return emoji_pattern.sub(r'', text)\n",
    "    return text\n",
    "\n",
    "\n",
    "def remove_emojis(df):\n",
    "    df['tweet_cleaned'] = df['tweet_cleaned'].apply(remove_emoji_in_sentence)\n",
    "    return df\n"
   ]
  },
  {
   "cell_type": "code",
   "execution_count": 48,
   "outputs": [],
   "source": [
    "def get_emojis(text):\n",
    "    emoji_list = []\n",
    "    for word in text.split():\n",
    "        for char in word:\n",
    "            if emoji.is_emoji(char):\n",
    "                emoji_list.append(emoji.demojize(char))\n",
    "    return ','.join(emoji_list)\n",
    "\n",
    "\n",
    "def extract_emojis(df):\n",
    "    df['emojis'] = df['tweet_cleaned'].apply(get_emojis)\n",
    "    return df"
   ],
   "metadata": {
    "collapsed": false,
    "ExecuteTime": {
     "end_time": "2024-11-01T07:47:47.788238Z",
     "start_time": "2024-11-01T07:47:47.613234300Z"
    }
   }
  },
  {
   "cell_type": "markdown",
   "metadata": {},
   "source": [
    " ##### 2.1.10 Umgang mit Hashtags"
   ]
  },
  {
   "cell_type": "code",
   "execution_count": 49,
   "metadata": {
    "ExecuteTime": {
     "end_time": "2024-11-01T07:47:47.789239100Z",
     "start_time": "2024-11-01T07:47:47.632238300Z"
    }
   },
   "outputs": [],
   "source": [
    "# todo im Gruppenrahmen klären\n",
    "def remove_hashtags_from_tweet(text):\n",
    "    new_text = []\n",
    "    for word in text.split():\n",
    "        if not word.startswith('#'):\n",
    "            new_text.append(word)\n",
    "    return ' '.join(new_text)\n",
    "\n",
    "\n",
    "def handle_hashtags(df):\n",
    "    df['hashtags'] = [re.findall(r'#\\w+', x) if re.findall(r'#\\w+', x) else [] for x in df.tweet]\n",
    "    df['tweet_cleaned'] = df['tweet_cleaned'].apply(remove_hashtags_from_tweet)\n",
    "    return df"
   ]
  },
  {
   "cell_type": "markdown",
   "source": [
    "##### 2.1.11 Umgang mit User-Handles"
   ],
   "metadata": {
    "collapsed": false
   }
  },
  {
   "cell_type": "code",
   "execution_count": 50,
   "outputs": [],
   "source": [
    "# todo im Gruppenrahmen klären\n",
    "def handle_userhandles(df):\n",
    "    df['user_handle'] = df['tweet_cleaned'].str.count('@user')\n",
    "    df['tweet_cleaned'] = df['tweet_cleaned'].str.replace('@user', '', case=False)\n",
    "    return df"
   ],
   "metadata": {
    "collapsed": false,
    "ExecuteTime": {
     "end_time": "2024-11-01T07:47:47.789239100Z",
     "start_time": "2024-11-01T07:47:47.647235600Z"
    }
   }
  },
  {
   "cell_type": "markdown",
   "source": [
    "##### 2.1.12 Auflösen von Negationen"
   ],
   "metadata": {
    "collapsed": false
   }
  },
  {
   "cell_type": "code",
   "execution_count": 51,
   "outputs": [],
   "source": [
    "# todo im Gruppenrahmen klären\n",
    "def remove_negations(df):\n",
    "    return df"
   ],
   "metadata": {
    "collapsed": false,
    "ExecuteTime": {
     "end_time": "2024-11-01T07:47:47.789239100Z",
     "start_time": "2024-11-01T07:47:47.670234200Z"
    }
   }
  },
  {
   "cell_type": "markdown",
   "source": [
    "##### 2.1.13 Entfernung Most frequent Words"
   ],
   "metadata": {
    "collapsed": false
   }
  },
  {
   "cell_type": "code",
   "execution_count": 52,
   "outputs": [],
   "source": [
    "def create_word_counter(col):\n",
    "    cnt = Counter()\n",
    "    for text in col.values:\n",
    "        for word in text.split():\n",
    "            cnt[word] += 1\n",
    "\n",
    "    return cnt\n",
    "\n",
    "\n",
    "def remove_freqwords(text, freqwords):\n",
    "    return \" \".join([word for word in str(text).split() if word not in freqwords])\n",
    "\n",
    "\n",
    "def remove_most_frequent_words(df):\n",
    "    counter = create_word_counter(df[\"tweet_cleaned\"])\n",
    "    freqwords = set([w for (w, wc) in counter.most_common(10)])\n",
    "    df['tweet_cleaned'] = df[\"tweet_cleaned\"].apply(lambda text: remove_freqwords(text, freqwords))\n",
    "    return df"
   ],
   "metadata": {
    "collapsed": false,
    "ExecuteTime": {
     "end_time": "2024-11-01T07:47:47.791236200Z",
     "start_time": "2024-11-01T07:47:47.680235100Z"
    }
   }
  },
  {
   "cell_type": "markdown",
   "source": [
    "##### 2.1.15 Stemming\n",
    "\n",
    "Vergleich unterschiedlicher Stemmer, Vergleich Stemming mit Lemmatization"
   ],
   "metadata": {
    "collapsed": false
   }
  },
  {
   "cell_type": "code",
   "execution_count": 77,
   "outputs": [],
   "source": [
    "porter = PorterStemmer()\n",
    "snow = SnowballStemmer(\"english\")\n",
    "word_net = WordNetLemmatizer()\n",
    "\n",
    "\n",
    "def find_words(col):\n",
    "    cnt = Counter()\n",
    "    for text in col.values:\n",
    "        for word in text.split():\n",
    "            word = re.sub('[^A-Za-z]+', '', word)\n",
    "            if len(word) == 7:\n",
    "                cnt[word] += 1\n",
    "\n",
    "    return cnt\n",
    "\n",
    "\n",
    "counter = find_words(df_clean_base[\"tweet\"])\n",
    "words = set([w for (w, wc) in counter.most_common(100)])"
   ],
   "metadata": {
    "collapsed": false,
    "ExecuteTime": {
     "end_time": "2024-11-01T08:01:04.115541300Z",
     "start_time": "2024-11-01T08:01:03.121539800Z"
    }
   }
  },
  {
   "cell_type": "code",
   "execution_count": 97,
   "outputs": [
    {
     "data": {
      "text/plain": "    not_stemmed porter_stemmed snowball_stemmed word_net_lemmatized  \\\n0       friends         friend           friend              friend   \n1       flowers         flower           flower              flower   \n2       looking           look             look             looking   \n3       thought        thought          thought             thought   \n4       waiting           wait             wait             waiting   \n..          ...            ...              ...                 ...   \n195     friends         friend           friend              friend   \n196     friends         friend           friend              friend   \n197     friends         friend           friend              friend   \n198     friends         friend           friend              friend   \n199     friends         friend           friend              friend   \n\n    textblob_lemmatized  \n0                friend  \n1                flower  \n2               looking  \n3               thought  \n4               waiting  \n..                  ...  \n195              friend  \n196              friend  \n197              friend  \n198              friend  \n199              friend  \n\n[200 rows x 5 columns]",
      "text/html": "<div>\n<style scoped>\n    .dataframe tbody tr th:only-of-type {\n        vertical-align: middle;\n    }\n\n    .dataframe tbody tr th {\n        vertical-align: top;\n    }\n\n    .dataframe thead th {\n        text-align: right;\n    }\n</style>\n<table border=\"1\" class=\"dataframe\">\n  <thead>\n    <tr style=\"text-align: right;\">\n      <th></th>\n      <th>not_stemmed</th>\n      <th>porter_stemmed</th>\n      <th>snowball_stemmed</th>\n      <th>word_net_lemmatized</th>\n      <th>textblob_lemmatized</th>\n    </tr>\n  </thead>\n  <tbody>\n    <tr>\n      <th>0</th>\n      <td>friends</td>\n      <td>friend</td>\n      <td>friend</td>\n      <td>friend</td>\n      <td>friend</td>\n    </tr>\n    <tr>\n      <th>1</th>\n      <td>flowers</td>\n      <td>flower</td>\n      <td>flower</td>\n      <td>flower</td>\n      <td>flower</td>\n    </tr>\n    <tr>\n      <th>2</th>\n      <td>looking</td>\n      <td>look</td>\n      <td>look</td>\n      <td>looking</td>\n      <td>looking</td>\n    </tr>\n    <tr>\n      <th>3</th>\n      <td>thought</td>\n      <td>thought</td>\n      <td>thought</td>\n      <td>thought</td>\n      <td>thought</td>\n    </tr>\n    <tr>\n      <th>4</th>\n      <td>waiting</td>\n      <td>wait</td>\n      <td>wait</td>\n      <td>waiting</td>\n      <td>waiting</td>\n    </tr>\n    <tr>\n      <th>...</th>\n      <td>...</td>\n      <td>...</td>\n      <td>...</td>\n      <td>...</td>\n      <td>...</td>\n    </tr>\n    <tr>\n      <th>195</th>\n      <td>friends</td>\n      <td>friend</td>\n      <td>friend</td>\n      <td>friend</td>\n      <td>friend</td>\n    </tr>\n    <tr>\n      <th>196</th>\n      <td>friends</td>\n      <td>friend</td>\n      <td>friend</td>\n      <td>friend</td>\n      <td>friend</td>\n    </tr>\n    <tr>\n      <th>197</th>\n      <td>friends</td>\n      <td>friend</td>\n      <td>friend</td>\n      <td>friend</td>\n      <td>friend</td>\n    </tr>\n    <tr>\n      <th>198</th>\n      <td>friends</td>\n      <td>friend</td>\n      <td>friend</td>\n      <td>friend</td>\n      <td>friend</td>\n    </tr>\n    <tr>\n      <th>199</th>\n      <td>friends</td>\n      <td>friend</td>\n      <td>friend</td>\n      <td>friend</td>\n      <td>friend</td>\n    </tr>\n  </tbody>\n</table>\n<p>200 rows × 5 columns</p>\n</div>"
     },
     "execution_count": 97,
     "metadata": {},
     "output_type": "execute_result"
    }
   ],
   "source": [
    "df_stem = pd.DataFrame(\n",
    "    columns=[\"not_stemmed\", \"porter_stemmed\", \"snowball_stemmed\", \"word_net_lemmatized\", \"textblob_lemmatized\"])\n",
    "\n",
    "for word in words:\n",
    "    stemmed_word_porter = porter.stem(word)\n",
    "    stemmed_word_snow = snow.stem(word)\n",
    "    lemmatized = word_net.lemmatize(word)\n",
    "    blob_lemmatizer = Word(word).lemmatize()\n",
    "\n",
    "    df_stem.loc[-1] = [word, stemmed_word_porter, stemmed_word_snow, lemmatized, blob_lemmatizer]\n",
    "    df_stem.index = df_stem.index + 1\n",
    "    df_stem = df_stem.sort_index()\n",
    "\n",
    "df_stem"
   ],
   "metadata": {
    "collapsed": false,
    "ExecuteTime": {
     "end_time": "2024-11-01T08:16:56.803958800Z",
     "start_time": "2024-11-01T08:16:56.568958400Z"
    }
   }
  },
  {
   "cell_type": "markdown",
   "source": [
    "Problem Stemming: Entfernung von zu viel Inhalt\n",
    "Problem Lemmatization: aktuell zu simpel, kein Part-of-Speech Tagging"
   ],
   "metadata": {
    "collapsed": false
   }
  },
  {
   "cell_type": "markdown",
   "source": [
    "##### 2.1.15 Lemmatization\n",
    "https://www.geeksforgeeks.org/python-lemmatization-approaches-with-examples/"
   ],
   "metadata": {
    "collapsed": false
   }
  },
  {
   "cell_type": "code",
   "execution_count": 135,
   "outputs": [],
   "source": [
    "nlp = spacy.load(\"en_core_web_sm\")\n",
    "\n",
    "\n",
    "def spacy_lemmatize(text):\n",
    "    doc = nlp(text)\n",
    "    tokens = []\n",
    "    for token in doc:\n",
    "        tokens.append(token)\n",
    "\n",
    "    lemmatized_sentence = \" \".join([token.lemma_ for token in doc])\n",
    "    return lemmatized_sentence"
   ],
   "metadata": {
    "collapsed": false,
    "ExecuteTime": {
     "end_time": "2024-11-01T09:18:45.195996300Z",
     "start_time": "2024-11-01T09:18:44.363235500Z"
    }
   }
  },
  {
   "cell_type": "code",
   "execution_count": 136,
   "outputs": [],
   "source": [
    "def lemmatize(df):\n",
    "    df[\"tweet_cleaned\"] = df['tweet_cleaned'].apply(lambda text: spacy_lemmatize(text))\n",
    "    return df"
   ],
   "metadata": {
    "collapsed": false,
    "ExecuteTime": {
     "end_time": "2024-11-01T09:18:45.203998800Z",
     "start_time": "2024-11-01T09:18:45.195996300Z"
    }
   }
  },
  {
   "cell_type": "markdown",
   "source": [
    "##### 2.1.16 Entfernung rare words"
   ],
   "metadata": {
    "collapsed": false
   }
  },
  {
   "cell_type": "code",
   "execution_count": 150,
   "outputs": [],
   "source": [
    "min_threshold = 3"
   ],
   "metadata": {
    "collapsed": false,
    "ExecuteTime": {
     "end_time": "2024-11-01T09:52:02.986127600Z",
     "start_time": "2024-11-01T09:52:02.941077300Z"
    }
   }
  },
  {
   "cell_type": "code",
   "execution_count": 189,
   "outputs": [],
   "source": [
    "def create_word_counter(col):\n",
    "    cnt = Counter()\n",
    "    for text in col.values:\n",
    "        for word in text.split():\n",
    "            cnt[word] += 1\n",
    "\n",
    "    return cnt\n",
    "\n",
    "\n",
    "def remove_least_freqwords(text, least_freqwords):\n",
    "    return \" \".join([word for word in str(text).split() if word not in least_freqwords])\n",
    "\n",
    "\n",
    "def remove_least_frequent_words(df):\n",
    "    counter = create_word_counter(df[\"tweet_cleaned\"])\n",
    "    filtered_counter = counter.copy()\n",
    "    for k, v in counter.items():\n",
    "        if v > min_threshold:\n",
    "            filtered_counter.pop(k)\n",
    "    least_freqwords = set([w for (w, wc) in filtered_counter.items()])\n",
    "    df['tweet_cleaned'] = df[\"tweet_cleaned\"].apply(lambda text: remove_least_freqwords(text, least_freqwords))\n",
    "    return df"
   ],
   "metadata": {
    "collapsed": false,
    "ExecuteTime": {
     "end_time": "2024-11-01T10:04:25.984305800Z",
     "start_time": "2024-11-01T10:04:25.945310700Z"
    }
   }
  },
  {
   "cell_type": "markdown",
   "source": [
    "##### 2.1.19 Duplikatentfernung"
   ],
   "metadata": {
    "collapsed": false
   }
  },
  {
   "cell_type": "code",
   "execution_count": 137,
   "outputs": [],
   "source": [
    "def remove_duplicates(df):\n",
    "    df = df.drop_duplicates(subset=['tweet_cleaned'])\n",
    "    return df"
   ],
   "metadata": {
    "collapsed": false,
    "ExecuteTime": {
     "end_time": "2024-11-01T09:18:45.945191400Z",
     "start_time": "2024-11-01T09:18:45.885195800Z"
    }
   }
  },
  {
   "cell_type": "markdown",
   "source": [
    "##### 2.1.20 Reihenfolge Datenbereinigung\n",
    "\n",
    "Sinnvolle Reihenfolge für die Ausführung der einzelnen Bereinigungsschritte\n",
    "1. Groß-/Kleinschreibung normalisieren\n",
    "2. Abkürzungen/Slang auflösen\n",
    "3. Falsch geschriebene Wörter korrigieren\n",
    "4. Negationen auflösen (falls möglich)\n",
    "5. Umgang mit User-Handles\n",
    "6. Umgang mit Hashtags\n",
    "7. Unnötige Zeichen entfernen\n",
    "    a. Links\n",
    "    b. html tags\n",
    "    d. Punktuation\n",
    "    e. Sonderzeichen\n",
    "    f. Zeilenumbrüche\n",
    "    g. Zahlen\n",
    "8. Emojis konvertieren (durch Sonderzeichenentfernung muss Umwandlung von Emojis danach geschehen)\n",
    "    a. Entscheidung: Emojis entfernen?\n",
    "9. Stemming / Lemmatization\n",
    "10. Stopwords entfernen\n",
    "11. Most frequent words entfernen\n",
    "12. Rare words entfernen\n",
    "13. Nochmal Duplikate prüfen & entfernen"
   ],
   "metadata": {
    "collapsed": false
   }
  },
  {
   "cell_type": "markdown",
   "source": [
    "df_cleaned = find_stop_words(df_cleaned)\n",
    "df_cleaned = find_hash_tags(df_cleaned)\n",
    "df_cleaned = find_html_tags(df_cleaned)\n",
    "df_cleaned = find_urls(df_cleaned)\n",
    "df_cleaned = find_shortcuts(df_cleaned)\n",
    "df_cleaned = find_emojis(df_cleaned)\n",
    "df_cleaned = find_misspelled_words(df_cleaned)\n",
    "df_cleaned = word_count(df_cleaned)"
   ],
   "metadata": {
    "collapsed": false
   }
  },
  {
   "cell_type": "code",
   "execution_count": 190,
   "outputs": [
    {
     "data": {
      "text/plain": "    label  \\\nid          \n1       0   \n2       0   \n3       0   \n4       0   \n5       0   \n\n                                                                                                                         tweet  \\\nid                                                                                                                               \n1                        @user when a father is dysfunctional and is so selfish he drags his kids into his dysfunction.   #run   \n2   @user @user thanks for #lyft credit i can't use cause they don't offer wheelchair vans in pdx.    #disapointed #getthanked   \n3                                                                                                          bihday your majesty   \n4                                                               #model   i love u take with u all the time in ur📱!!! 😙😎👄👅💦💦💦     \n5                                                                                       factsguide: society now    #motivation   \n\n                                                                                                                 tweet_cleaned  \nid                                                                                                                              \n1                        @user when a father is dysfunctional and is so selfish he drags his kids into his dysfunction.   #run  \n2   @user @user thanks for #lyft credit i can't use cause they don't offer wheelchair vans in pdx.    #disapointed #getthanked  \n3                                                                                                          bihday your majesty  \n4                                                               #model   i love u take with u all the time in ur📱!!! 😙😎👄👅💦💦💦    \n5                                                                                       factsguide: society now    #motivation  ",
      "text/html": "<div>\n<style scoped>\n    .dataframe tbody tr th:only-of-type {\n        vertical-align: middle;\n    }\n\n    .dataframe tbody tr th {\n        vertical-align: top;\n    }\n\n    .dataframe thead th {\n        text-align: right;\n    }\n</style>\n<table border=\"1\" class=\"dataframe\">\n  <thead>\n    <tr style=\"text-align: right;\">\n      <th></th>\n      <th>label</th>\n      <th>tweet</th>\n      <th>tweet_cleaned</th>\n    </tr>\n    <tr>\n      <th>id</th>\n      <th></th>\n      <th></th>\n      <th></th>\n    </tr>\n  </thead>\n  <tbody>\n    <tr>\n      <th>1</th>\n      <td>0</td>\n      <td>@user when a father is dysfunctional and is so selfish he drags his kids into his dysfunction.   #run</td>\n      <td>@user when a father is dysfunctional and is so selfish he drags his kids into his dysfunction.   #run</td>\n    </tr>\n    <tr>\n      <th>2</th>\n      <td>0</td>\n      <td>@user @user thanks for #lyft credit i can't use cause they don't offer wheelchair vans in pdx.    #disapointed #getthanked</td>\n      <td>@user @user thanks for #lyft credit i can't use cause they don't offer wheelchair vans in pdx.    #disapointed #getthanked</td>\n    </tr>\n    <tr>\n      <th>3</th>\n      <td>0</td>\n      <td>bihday your majesty</td>\n      <td>bihday your majesty</td>\n    </tr>\n    <tr>\n      <th>4</th>\n      <td>0</td>\n      <td>#model   i love u take with u all the time in ur📱!!! 😙😎👄👅💦💦💦</td>\n      <td>#model   i love u take with u all the time in ur📱!!! 😙😎👄👅💦💦💦</td>\n    </tr>\n    <tr>\n      <th>5</th>\n      <td>0</td>\n      <td>factsguide: society now    #motivation</td>\n      <td>factsguide: society now    #motivation</td>\n    </tr>\n  </tbody>\n</table>\n</div>"
     },
     "execution_count": 190,
     "metadata": {},
     "output_type": "execute_result"
    }
   ],
   "source": [
    "df_cleaned = df_clean_base.copy()\n",
    "df_cleaned['tweet_cleaned'] = df_cleaned['tweet']\n",
    "df_cleaned.head()"
   ],
   "metadata": {
    "collapsed": false,
    "ExecuteTime": {
     "end_time": "2024-11-01T10:05:06.691701300Z",
     "start_time": "2024-11-01T10:05:06.650706700Z"
    }
   }
  },
  {
   "cell_type": "code",
   "execution_count": 191,
   "outputs": [],
   "source": [
    "df_cleaned = to_lowercase(df_cleaned)\n",
    "df_cleaned = expand_shortcuts(df_cleaned)"
   ],
   "metadata": {
    "collapsed": false,
    "ExecuteTime": {
     "end_time": "2024-11-01T10:05:08.886701300Z",
     "start_time": "2024-11-01T10:05:07.044700900Z"
    }
   }
  },
  {
   "cell_type": "code",
   "execution_count": 192,
   "outputs": [],
   "source": [
    "df_cleaned = remove_negations(df_cleaned)\n",
    "df_cleaned = handle_userhandles(df_cleaned)\n",
    "df_cleaned = handle_hashtags(df_cleaned)\n",
    "df_cleaned = remove_url_from_tweet(df_cleaned)\n",
    "df_cleaned = remove_punctuation(df_cleaned)\n",
    "df_cleaned = remove_special_characters(df_cleaned)\n",
    "df_cleaned = remove_digis(df_cleaned)"
   ],
   "metadata": {
    "collapsed": false,
    "ExecuteTime": {
     "end_time": "2024-11-01T10:05:09.554703400Z",
     "start_time": "2024-11-01T10:05:08.892701500Z"
    }
   }
  },
  {
   "cell_type": "code",
   "execution_count": 193,
   "outputs": [],
   "source": [
    "df_cleaned = extract_emojis(df_cleaned)\n",
    "# df_cleaned = replace_emojis(df_cleaned)\n",
    "df_cleaned = remove_emojis(df_cleaned)"
   ],
   "metadata": {
    "collapsed": false,
    "ExecuteTime": {
     "end_time": "2024-11-01T10:05:10.651700900Z",
     "start_time": "2024-11-01T10:05:09.555702100Z"
    }
   }
  },
  {
   "cell_type": "code",
   "execution_count": 194,
   "outputs": [],
   "source": [
    "# df_cleaned = clean_misspelled_words(df_cleaned) # todo klären"
   ],
   "metadata": {
    "collapsed": false,
    "ExecuteTime": {
     "end_time": "2024-11-01T10:05:10.688698600Z",
     "start_time": "2024-11-01T10:05:10.651700900Z"
    }
   }
  },
  {
   "cell_type": "code",
   "execution_count": 195,
   "outputs": [],
   "source": [
    "df_cleaned = lemmatize(df_cleaned)"
   ],
   "metadata": {
    "collapsed": false,
    "ExecuteTime": {
     "end_time": "2024-11-01T10:08:20.560001900Z",
     "start_time": "2024-11-01T10:05:10.663703500Z"
    }
   }
  },
  {
   "cell_type": "code",
   "execution_count": 196,
   "outputs": [],
   "source": [
    "df_cleaned = remove_stop_words(df_cleaned)\n",
    "df_cleaned = remove_most_frequent_words(df_cleaned)\n",
    "df_cleaned = remove_least_frequent_words(df_cleaned)\n",
    "df_cleaned = remove_duplicates(df_cleaned)"
   ],
   "metadata": {
    "collapsed": false,
    "ExecuteTime": {
     "end_time": "2024-11-01T10:08:21.138006100Z",
     "start_time": "2024-11-01T10:08:20.563001900Z"
    }
   }
  },
  {
   "cell_type": "code",
   "execution_count": 197,
   "outputs": [
    {
     "data": {
      "text/plain": "    label  \\\nid          \n1       0   \n2       0   \n3       0   \n4       0   \n5       0   \n\n                                                                                                                         tweet  \\\nid                                                                                                                               \n1                        @user when a father is dysfunctional and is so selfish he drags his kids into his dysfunction.   #run   \n2   @user @user thanks for #lyft credit i can't use cause they don't offer wheelchair vans in pdx.    #disapointed #getthanked   \n3                                                                                                          bihday your majesty   \n4                                                               #model   i love u take with u all the time in ur📱!!! 😙😎👄👅💦💦💦     \n5                                                                                       factsguide: society now    #motivation   \n\n                       tweet_cleaned  user_handle  \\\nid                                                  \n1            father selfish drag kid            1   \n2   thank credit use cause offer van            2   \n3                     bihday majesty            0   \n4                     love take time            0   \n5                 factsguide society            0   \n\n                              hashtags  \\\nid                                       \n1                               [#run]   \n2   [#lyft, #disapointed, #getthanked]   \n3                                   []   \n4                             [#model]   \n5                        [#motivation]   \n\n                                                                                                                                                emojis  \nid                                                                                                                                                      \n1                                                                                                                                                       \n2                                                                                                                                                       \n3                                                                                                                                                       \n4   :mobile_phone:,:kissing_face_with_smiling_eyes:,:smiling_face_with_sunglasses:,:mouth:,:tongue:,:sweat_droplets:,:sweat_droplets:,:sweat_droplets:  \n5                                                                                                                                                       ",
      "text/html": "<div>\n<style scoped>\n    .dataframe tbody tr th:only-of-type {\n        vertical-align: middle;\n    }\n\n    .dataframe tbody tr th {\n        vertical-align: top;\n    }\n\n    .dataframe thead th {\n        text-align: right;\n    }\n</style>\n<table border=\"1\" class=\"dataframe\">\n  <thead>\n    <tr style=\"text-align: right;\">\n      <th></th>\n      <th>label</th>\n      <th>tweet</th>\n      <th>tweet_cleaned</th>\n      <th>user_handle</th>\n      <th>hashtags</th>\n      <th>emojis</th>\n    </tr>\n    <tr>\n      <th>id</th>\n      <th></th>\n      <th></th>\n      <th></th>\n      <th></th>\n      <th></th>\n      <th></th>\n    </tr>\n  </thead>\n  <tbody>\n    <tr>\n      <th>1</th>\n      <td>0</td>\n      <td>@user when a father is dysfunctional and is so selfish he drags his kids into his dysfunction.   #run</td>\n      <td>father selfish drag kid</td>\n      <td>1</td>\n      <td>[#run]</td>\n      <td></td>\n    </tr>\n    <tr>\n      <th>2</th>\n      <td>0</td>\n      <td>@user @user thanks for #lyft credit i can't use cause they don't offer wheelchair vans in pdx.    #disapointed #getthanked</td>\n      <td>thank credit use cause offer van</td>\n      <td>2</td>\n      <td>[#lyft, #disapointed, #getthanked]</td>\n      <td></td>\n    </tr>\n    <tr>\n      <th>3</th>\n      <td>0</td>\n      <td>bihday your majesty</td>\n      <td>bihday majesty</td>\n      <td>0</td>\n      <td>[]</td>\n      <td></td>\n    </tr>\n    <tr>\n      <th>4</th>\n      <td>0</td>\n      <td>#model   i love u take with u all the time in ur📱!!! 😙😎👄👅💦💦💦</td>\n      <td>love take time</td>\n      <td>0</td>\n      <td>[#model]</td>\n      <td>:mobile_phone:,:kissing_face_with_smiling_eyes:,:smiling_face_with_sunglasses:,:mouth:,:tongue:,:sweat_droplets:,:sweat_droplets:,:sweat_droplets:</td>\n    </tr>\n    <tr>\n      <th>5</th>\n      <td>0</td>\n      <td>factsguide: society now    #motivation</td>\n      <td>factsguide society</td>\n      <td>0</td>\n      <td>[#motivation]</td>\n      <td></td>\n    </tr>\n  </tbody>\n</table>\n</div>"
     },
     "execution_count": 197,
     "metadata": {},
     "output_type": "execute_result"
    }
   ],
   "source": [
    "df_cleaned.head()"
   ],
   "metadata": {
    "collapsed": false,
    "ExecuteTime": {
     "end_time": "2024-11-01T10:08:27.116182700Z",
     "start_time": "2024-11-01T10:08:27.015173200Z"
    }
   }
  },
  {
   "cell_type": "markdown",
   "source": [
    "##### 2.2 Vergleich Datensatz raw-cleaned"
   ],
   "metadata": {
    "collapsed": false
   }
  },
  {
   "cell_type": "code",
   "execution_count": 198,
   "outputs": [
    {
     "name": "stdout",
     "output_type": "stream",
     "text": [
      "31962\n",
      "25226\n",
      "-6736\n",
      "-21.07502659408047\n"
     ]
    }
   ],
   "source": [
    "print(df_origin.tweet.count())\n",
    "print(df_cleaned.tweet.count())\n",
    "print(df_cleaned.tweet.count() - df_origin.tweet.count())\n",
    "print((df_cleaned.tweet.count() / df_origin.tweet.count() - 1) * 100)"
   ],
   "metadata": {
    "collapsed": false,
    "ExecuteTime": {
     "end_time": "2024-11-01T10:08:54.360655600Z",
     "start_time": "2024-11-01T10:08:54.232658700Z"
    }
   }
  },
  {
   "cell_type": "markdown",
   "metadata": {},
   "source": [
    "### Die Ergebnisse speichern"
   ]
  },
  {
   "cell_type": "code",
   "execution_count": 149,
   "metadata": {
    "ExecuteTime": {
     "end_time": "2024-11-01T09:23:25.288394500Z",
     "start_time": "2024-11-01T09:23:25.032094400Z"
    }
   },
   "outputs": [],
   "source": [
    "filepath_name = os.path.abspath(os.path.join(current_dir, 'data/train_cleaned.csv'))\n",
    "directory_path = Path(filepath_name).parent\n",
    "directory_path.mkdir(parents=True, exist_ok=True)\n",
    "df_cleaned.to_csv(filepath_name)"
   ]
  },
  {
   "cell_type": "code",
   "execution_count": 64,
   "outputs": [],
   "source": [],
   "metadata": {
    "collapsed": false,
    "ExecuteTime": {
     "end_time": "2024-11-01T07:47:52.355233500Z",
     "start_time": "2024-11-01T07:47:52.285236100Z"
    }
   }
  }
 ],
 "metadata": {
  "kernelspec": {
   "display_name": "Python 3",
   "language": "python",
   "name": "python3"
  },
  "language_info": {
   "codemirror_mode": {
    "name": "ipython",
    "version": 3
   },
   "file_extension": ".py",
   "mimetype": "text/x-python",
   "name": "python",
   "nbconvert_exporter": "python",
   "pygments_lexer": "ipython3",
   "version": "3.11.9"
  }
 },
 "nbformat": 4,
 "nbformat_minor": 0
}
