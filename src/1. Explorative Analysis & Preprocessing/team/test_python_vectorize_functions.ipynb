{
 "cells": [
  {
   "cell_type": "code",
   "execution_count": 1,
   "id": "fdc604c9",
   "metadata": {},
   "outputs": [],
   "source": [
    "import vectorize_functions"
   ]
  },
  {
   "cell_type": "code",
   "execution_count": 2,
   "id": "722fda67",
   "metadata": {},
   "outputs": [],
   "source": [
    "X_train_bow, X_test_bow, y_train_bow, y_test_bow = vectorize_functions.vectorize_bow()\n",
    "X_train_tfidf, X_test_tfidf, y_train_tfidf, y_test_tfidf = vectorize_functions.vectorize_tfidf()\n",
    "X_train_w2v, X_test_w2v, y_train_w2v, y_test_w2v = vectorize_functions.vectorize_w2v()\n",
    "X_train_ft, X_test_ft, y_train_ft, y_test_ft = vectorize_functions.vectorize_ft()"
   ]
  },
  {
   "cell_type": "code",
   "execution_count": 3,
   "id": "5c902976",
   "metadata": {},
   "outputs": [
    {
     "name": "stdout",
     "output_type": "stream",
     "text": [
      "(19354, 6293)\n",
      "(8295, 6293)\n",
      "(19354,)\n",
      "(8295,)\n",
      "<class 'scipy.sparse._csr.csr_matrix'>\n"
     ]
    }
   ],
   "source": [
    "print(X_train_bow.shape)\n",
    "print(X_test_bow.shape)\n",
    "print(y_train_bow.shape)\n",
    "print(y_test_bow.shape)\n",
    "print(type(X_train_bow))"
   ]
  },
  {
   "cell_type": "code",
   "execution_count": 4,
   "id": "f950b2e0",
   "metadata": {},
   "outputs": [
    {
     "name": "stdout",
     "output_type": "stream",
     "text": [
      "(19354, 6293)\n",
      "(8295, 6293)\n",
      "(19354,)\n",
      "(8295,)\n",
      "<class 'scipy.sparse._csr.csr_matrix'>\n"
     ]
    }
   ],
   "source": [
    "print(X_train_tfidf.shape)\n",
    "print(X_test_tfidf.shape)\n",
    "print(y_train_tfidf.shape)\n",
    "print(y_test_tfidf.shape)\n",
    "print(type(X_train_tfidf))"
   ]
  },
  {
   "cell_type": "code",
   "execution_count": 5,
   "id": "0a4a8fa1",
   "metadata": {},
   "outputs": [
    {
     "name": "stdout",
     "output_type": "stream",
     "text": [
      "(19354, 300)\n",
      "(8295, 300)\n",
      "(19354,)\n",
      "(8295,)\n",
      "<class 'numpy.ndarray'>\n"
     ]
    }
   ],
   "source": [
    "print(X_train_w2v.shape)\n",
    "print(X_test_w2v.shape)\n",
    "print(y_train_w2v.shape)\n",
    "print(y_test_w2v.shape)\n",
    "print(type(X_train_w2v))"
   ]
  },
  {
   "cell_type": "code",
   "execution_count": 6,
   "id": "fdde3715",
   "metadata": {},
   "outputs": [
    {
     "name": "stdout",
     "output_type": "stream",
     "text": [
      "(19354, 300)\n",
      "(8295, 300)\n",
      "(19354,)\n",
      "(8295,)\n",
      "<class 'numpy.ndarray'>\n"
     ]
    }
   ],
   "source": [
    "print(X_train_ft.shape)\n",
    "print(X_test_ft.shape)\n",
    "print(y_train_ft.shape)\n",
    "print(y_test_ft.shape)\n",
    "print(type(X_train_ft))"
   ]
  },
  {
   "cell_type": "code",
   "execution_count": 7,
   "id": "355ad2e2",
   "metadata": {},
   "outputs": [
    {
     "name": "stdout",
     "output_type": "stream",
     "text": [
      "[[0 0 0 ... 0 0 0]\n",
      " [0 0 0 ... 0 0 0]\n",
      " [0 0 0 ... 0 0 0]\n",
      " ...\n",
      " [0 0 0 ... 0 0 0]\n",
      " [0 0 0 ... 0 0 0]\n",
      " [0 0 0 ... 0 0 0]]\n"
     ]
    }
   ],
   "source": [
    "print(X_train_bow.toarray())"
   ]
  },
  {
   "cell_type": "code",
   "execution_count": 8,
   "id": "3cb4ebff",
   "metadata": {},
   "outputs": [
    {
     "name": "stdout",
     "output_type": "stream",
     "text": [
      "[[0. 0. 0. ... 0. 0. 0.]\n",
      " [0. 0. 0. ... 0. 0. 0.]\n",
      " [0. 0. 0. ... 0. 0. 0.]\n",
      " ...\n",
      " [0. 0. 0. ... 0. 0. 0.]\n",
      " [0. 0. 0. ... 0. 0. 0.]\n",
      " [0. 0. 0. ... 0. 0. 0.]]\n"
     ]
    }
   ],
   "source": [
    "print(X_train_tfidf.toarray())"
   ]
  },
  {
   "cell_type": "code",
   "execution_count": 9,
   "id": "bd7a362d-d603-4116-bdbb-31d5fb334192",
   "metadata": {},
   "outputs": [
    {
     "name": "stdout",
     "output_type": "stream",
     "text": [
      "[[ 0.56796353 -0.15159982  0.07800473 ...  0.0966844   0.62040487\n",
      "   0.37300337]\n",
      " [-0.46388891  0.28080626 -0.07317242 ...  0.35617909  0.56261509\n",
      "  -0.07882277]\n",
      " [ 0.0529604   0.14233324  0.29700691 ... -0.29135238  0.39866459\n",
      "  -0.29096323]\n",
      " ...\n",
      " [-0.18220278 -0.05024931  0.18015918 ... -0.15773222  0.19344942\n",
      "  -0.08591651]\n",
      " [ 0.25784989  0.21942364 -0.06447178 ... -0.00299442  0.17507706\n",
      "  -0.15309044]\n",
      " [-0.15790426 -0.01199974  0.16833096 ... -0.01563819  0.06454587\n",
      "   0.13174285]]\n"
     ]
    }
   ],
   "source": [
    "print(X_train_w2v)"
   ]
  },
  {
   "cell_type": "code",
   "execution_count": 10,
   "id": "72009946-b851-473a-b2bd-1f64ecc9966f",
   "metadata": {},
   "outputs": [
    {
     "name": "stdout",
     "output_type": "stream",
     "text": [
      "[[ 0.31995967 -0.38688827 -0.30881229 ...  0.13753059  0.34691706\n",
      "  -0.00566745]\n",
      " [-1.20015442 -0.36586284 -0.12833088 ...  0.55367259  0.21650805\n",
      "   1.03176698]\n",
      " [-0.05482539  0.25548695  0.02865411 ...  0.10370779 -0.04144042\n",
      "   0.11050702]\n",
      " ...\n",
      " [-0.58046529  0.54362163 -0.20929473 ...  0.25916626 -0.22127652\n",
      "   0.26756146]\n",
      " [ 0.71055903 -0.50536022 -0.05073958 ... -0.4339434   0.25084631\n",
      "   0.07350075]\n",
      " [-0.7840914   0.11735571  0.18459035 ...  0.151709   -0.39526167\n",
      "   0.20821082]]\n"
     ]
    }
   ],
   "source": [
    "print(X_train_ft)"
   ]
  },
  {
   "cell_type": "markdown",
   "id": "877b0d4c-f167-4e6b-96e3-131a6c214121",
   "metadata": {},
   "source": [
    "#### Test BOW"
   ]
  },
  {
   "cell_type": "code",
   "execution_count": 11,
   "id": "907ffa7e-6824-4dbc-a846-0047133f8313",
   "metadata": {},
   "outputs": [
    {
     "name": "stdout",
     "output_type": "stream",
     "text": [
      "Accuracy:  0.9410488245931284\n"
     ]
    }
   ],
   "source": [
    "from sklearn.naive_bayes import MultinomialNB\n",
    "from sklearn.metrics import accuracy_score\n",
    "\n",
    "clf_bow = MultinomialNB()\n",
    "clf_bow.fit(X_train_bow,y_train_bow)\n",
    "ypred_bow = clf_bow.predict(X_test_bow)\n",
    "print(\"Accuracy: \", accuracy_score(y_test_bow, ypred_bow))"
   ]
  },
  {
   "cell_type": "code",
   "execution_count": 12,
   "id": "071d59d6-73b2-45ef-a2e1-0843b9ec72d9",
   "metadata": {},
   "outputs": [
    {
     "name": "stdout",
     "output_type": "stream",
     "text": [
      "Accuracy:  0.937673297166968\n"
     ]
    }
   ],
   "source": [
    "from sklearn import tree\n",
    "\n",
    "clf_bow = tree.DecisionTreeClassifier()\n",
    "clf_bow.fit(X_train_bow,y_train_bow)\n",
    "ypred_bow = clf_bow.predict(X_test_bow)\n",
    "print(\"Accuracy: \", accuracy_score(y_test_bow, ypred_bow))"
   ]
  },
  {
   "cell_type": "markdown",
   "id": "b832101e-22f7-4a33-9d22-f4ba34747c0b",
   "metadata": {},
   "source": [
    "#### Test TFIDF"
   ]
  },
  {
   "cell_type": "code",
   "execution_count": 13,
   "id": "71ba414c-9b69-4407-8e26-12e188fc8095",
   "metadata": {},
   "outputs": [
    {
     "name": "stdout",
     "output_type": "stream",
     "text": [
      "Accuracy:  0.9482820976491863\n"
     ]
    }
   ],
   "source": [
    "clf_tfidf = MultinomialNB()\n",
    "clf_tfidf.fit(X_train_tfidf,y_train_tfidf)\n",
    "ypred_tfidf = clf_tfidf.predict(X_test_tfidf)\n",
    "print(\"Accuracy: \", accuracy_score(y_test_tfidf, ypred_tfidf))"
   ]
  },
  {
   "cell_type": "code",
   "execution_count": 14,
   "id": "5f1076d6-2c50-4712-acf1-566b3f061b4c",
   "metadata": {},
   "outputs": [
    {
     "name": "stdout",
     "output_type": "stream",
     "text": [
      "Accuracy:  0.9414104882459313\n"
     ]
    }
   ],
   "source": [
    "clf_tfidf = tree.DecisionTreeClassifier()\n",
    "clf_tfidf.fit(X_train_tfidf,y_train_tfidf)\n",
    "ypred_tfidf = clf_tfidf.predict(X_test_tfidf)\n",
    "print(\"Accuracy: \", accuracy_score(y_test_tfidf, ypred_tfidf))"
   ]
  },
  {
   "cell_type": "markdown",
   "id": "e1357dea-5855-4249-9c17-36e5e5440a85",
   "metadata": {},
   "source": [
    "#### Test W2V"
   ]
  },
  {
   "cell_type": "code",
   "execution_count": 15,
   "id": "63dfc568-0216-43e6-bace-56d80b9d2c2e",
   "metadata": {},
   "outputs": [
    {
     "name": "stdout",
     "output_type": "stream",
     "text": [
      "Accuracy:  0.7083785412899337\n"
     ]
    }
   ],
   "source": [
    "from sklearn.naive_bayes import GaussianNB\n",
    "\n",
    "clf_w2v = GaussianNB()\n",
    "clf_w2v.fit(X_train_w2v,y_train_w2v)\n",
    "ypred_w2v = clf_w2v.predict(X_test_w2v)\n",
    "print(\"Accuracy: \", accuracy_score(y_test_w2v, ypred_w2v))"
   ]
  },
  {
   "cell_type": "code",
   "execution_count": 16,
   "id": "b2d81446-5a9c-496b-b4d8-5dbf989b47bb",
   "metadata": {},
   "outputs": [
    {
     "name": "stdout",
     "output_type": "stream",
     "text": [
      "Accuracy:  0.9068113321277879\n"
     ]
    }
   ],
   "source": [
    "from sklearn import tree\n",
    "\n",
    "clf_w2v = tree.DecisionTreeClassifier().fit(X_train_w2v, y_train_w2v)\n",
    "clf_w2v.fit(X_train_w2v,y_train_w2v)\n",
    "ypred_w2v = clf_w2v.predict(X_test_w2v)\n",
    "print(\"Accuracy: \", accuracy_score(y_test_w2v, ypred_w2v))"
   ]
  },
  {
   "cell_type": "markdown",
   "id": "a31a5f26-6686-46e6-a944-d0b8c342d330",
   "metadata": {},
   "source": [
    "#### Test FT"
   ]
  },
  {
   "cell_type": "code",
   "execution_count": 17,
   "id": "739715e8-b847-44c4-b4e0-1b053601a6d3",
   "metadata": {},
   "outputs": [
    {
     "name": "stdout",
     "output_type": "stream",
     "text": [
      "Accuracy:  0.7475587703435804\n"
     ]
    }
   ],
   "source": [
    "clf_ft = GaussianNB()\n",
    "clf_ft.fit(X_train_ft,y_train_ft)\n",
    "ypred_ft = clf_ft.predict(X_test_ft)\n",
    "print(\"Accuracy: \", accuracy_score(y_test_ft, ypred_ft))"
   ]
  },
  {
   "cell_type": "code",
   "execution_count": 18,
   "id": "d57d0c93-7176-406c-8d1c-be816ef74293",
   "metadata": {},
   "outputs": [
    {
     "name": "stdout",
     "output_type": "stream",
     "text": [
      "Accuracy:  0.9058468957203134\n"
     ]
    }
   ],
   "source": [
    "clf_ft = tree.DecisionTreeClassifier()\n",
    "clf_ft.fit(X_train_ft,y_train_ft)\n",
    "ypred_ft = clf_ft.predict(X_test_ft)\n",
    "print(\"Accuracy: \", accuracy_score(y_test_ft, ypred_ft))"
   ]
  },
  {
   "cell_type": "code",
   "execution_count": null,
   "id": "f253e327-b04a-4fdc-ac00-a32f6111847d",
   "metadata": {},
   "outputs": [],
   "source": []
  }
 ],
 "metadata": {
  "kernelspec": {
   "display_name": "Python 3 (ipykernel)",
   "language": "python",
   "name": "python3"
  },
  "language_info": {
   "codemirror_mode": {
    "name": "ipython",
    "version": 3
   },
   "file_extension": ".py",
   "mimetype": "text/x-python",
   "name": "python",
   "nbconvert_exporter": "python",
   "pygments_lexer": "ipython3",
   "version": "3.9.20"
  }
 },
 "nbformat": 4,
 "nbformat_minor": 5
}
