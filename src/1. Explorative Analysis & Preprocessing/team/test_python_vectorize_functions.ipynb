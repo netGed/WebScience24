{
 "cells": [
  {
   "cell_type": "code",
   "execution_count": 59,
   "id": "fdc604c9",
   "metadata": {},
   "outputs": [],
   "source": [
    "%run vectorize_functions.py"
   ]
  },
  {
   "cell_type": "code",
   "execution_count": 60,
   "id": "722fda67",
   "metadata": {},
   "outputs": [],
   "source": [
    "X_train_bow, X_test_bow, y_train_bow, y_test_bow = vectorize_bow()\n",
    "X_train_tfidf, X_test_tfidf, y_train_tfidf, y_test_tfidf = vectorize_tfidf()\n",
    "X_train_w2v, X_test_w2v, y_train_w2v, y_test_w2v = vectorize_w2v()\n",
    "X_train_ft, X_test_ft, y_train_ft, y_test_ft = vectorize_ft()"
   ]
  },
  {
   "cell_type": "code",
   "execution_count": 61,
   "id": "5c902976",
   "metadata": {},
   "outputs": [
    {
     "name": "stdout",
     "output_type": "stream",
     "text": [
      "(19354, 6293)\n",
      "(8295, 6293)\n",
      "(19354,)\n",
      "(8295,)\n",
      "<class 'scipy.sparse._csr.csr_matrix'>\n"
     ]
    }
   ],
   "source": [
    "print(X_train_bow.shape)\n",
    "print(X_test_bow.shape)\n",
    "print(y_train_bow.shape)\n",
    "print(y_test_bow.shape)\n",
    "print(type(X_train_bow))"
   ]
  },
  {
   "cell_type": "code",
   "execution_count": 62,
   "id": "f950b2e0",
   "metadata": {},
   "outputs": [
    {
     "name": "stdout",
     "output_type": "stream",
     "text": [
      "(19354, 6293)\n",
      "(8295, 6293)\n",
      "(19354,)\n",
      "(8295,)\n",
      "<class 'scipy.sparse._csr.csr_matrix'>\n"
     ]
    }
   ],
   "source": [
    "print(X_train_tfidf.shape)\n",
    "print(X_test_tfidf.shape)\n",
    "print(y_train_tfidf.shape)\n",
    "print(y_test_tfidf.shape)\n",
    "print(type(X_train_tfidf))"
   ]
  },
  {
   "cell_type": "code",
   "execution_count": 63,
   "id": "0a4a8fa1",
   "metadata": {},
   "outputs": [
    {
     "name": "stdout",
     "output_type": "stream",
     "text": [
      "(19354, 100)\n",
      "(8295, 100)\n",
      "(19354,)\n",
      "(8295,)\n",
      "<class 'numpy.ndarray'>\n"
     ]
    }
   ],
   "source": [
    "print(X_train_w2v.shape)\n",
    "print(X_test_w2v.shape)\n",
    "print(y_train_w2v.shape)\n",
    "print(y_test_w2v.shape)\n",
    "print(type(X_train_w2v))"
   ]
  },
  {
   "cell_type": "code",
   "execution_count": 64,
   "id": "fdde3715",
   "metadata": {},
   "outputs": [
    {
     "name": "stdout",
     "output_type": "stream",
     "text": [
      "(19354, 100)\n",
      "(8295, 100)\n",
      "(19354,)\n",
      "(8295,)\n",
      "<class 'numpy.ndarray'>\n"
     ]
    }
   ],
   "source": [
    "print(X_train_ft.shape)\n",
    "print(X_test_ft.shape)\n",
    "print(y_train_ft.shape)\n",
    "print(y_test_ft.shape)\n",
    "print(type(X_train_ft))"
   ]
  },
  {
   "cell_type": "code",
   "execution_count": 65,
   "id": "355ad2e2",
   "metadata": {},
   "outputs": [
    {
     "name": "stdout",
     "output_type": "stream",
     "text": [
      "[[0 0 0 ... 0 0 0]\n",
      " [0 0 0 ... 0 0 0]\n",
      " [0 0 0 ... 0 0 0]\n",
      " ...\n",
      " [0 0 0 ... 0 0 0]\n",
      " [0 0 0 ... 0 0 0]\n",
      " [0 0 0 ... 0 0 0]]\n"
     ]
    }
   ],
   "source": [
    "print(X_train_bow.toarray())"
   ]
  },
  {
   "cell_type": "code",
   "execution_count": 66,
   "id": "3cb4ebff",
   "metadata": {},
   "outputs": [
    {
     "name": "stdout",
     "output_type": "stream",
     "text": [
      "[[0. 0. 0. ... 0. 0. 0.]\n",
      " [0. 0. 0. ... 0. 0. 0.]\n",
      " [0. 0. 0. ... 0. 0. 0.]\n",
      " ...\n",
      " [0. 0. 0. ... 0. 0. 0.]\n",
      " [0. 0. 0. ... 0. 0. 0.]\n",
      " [0. 0. 0. ... 0. 0. 0.]]\n"
     ]
    }
   ],
   "source": [
    "print(X_train_tfidf.toarray())"
   ]
  },
  {
   "cell_type": "code",
   "execution_count": 67,
   "id": "bd7a362d-d603-4116-bdbb-31d5fb334192",
   "metadata": {},
   "outputs": [
    {
     "name": "stdout",
     "output_type": "stream",
     "text": [
      "[[-0.01147646  0.03351697  0.03052096 ...  0.26658788 -0.41422737\n",
      "  -0.96575334]\n",
      " [ 0.59317126  1.04517235 -0.68315393 ...  0.5322897   0.21007362\n",
      "  -0.53926928]\n",
      " [-0.51177335  0.26493848  0.14858572 ... -0.05901077  0.26358006\n",
      "  -0.10099881]\n",
      " ...\n",
      " [ 0.00811557  0.29221034 -0.2694154  ... -0.57397499  0.38051231\n",
      "   0.11780225]\n",
      " [-0.21425795 -0.28901504 -0.42930262 ... -0.1730243  -0.71195021\n",
      "   0.10442292]\n",
      " [-0.1440051   0.46456884 -0.13090007 ... -0.22812251  0.51409511\n",
      "  -0.45013019]]\n"
     ]
    }
   ],
   "source": [
    "print(X_train_w2v)"
   ]
  },
  {
   "cell_type": "code",
   "execution_count": 68,
   "id": "72009946-b851-473a-b2bd-1f64ecc9966f",
   "metadata": {},
   "outputs": [
    {
     "name": "stdout",
     "output_type": "stream",
     "text": [
      "[[-0.08066028 -0.52482803  0.05279757 ... -0.96275002 -0.02987838\n",
      "  -0.07440034]\n",
      " [ 0.26815086  0.62263645 -0.60711602 ...  0.45138734  0.04387279\n",
      "  -0.02440794]\n",
      " [-0.29407283  0.33694046 -0.20489176 ... -0.28441028  0.41935875\n",
      "   0.5274036 ]\n",
      " ...\n",
      " [-0.17667818  0.37669694 -0.29564432 ...  0.08197616  0.099627\n",
      "   0.00971218]\n",
      " [-0.63596682 -0.32718288 -0.32473991 ... -0.1229609  -0.63897318\n",
      "   0.36509097]\n",
      " [-0.05478564  0.12374861 -0.45298569 ...  0.17180451  0.56107108\n",
      "  -0.14564781]]\n"
     ]
    }
   ],
   "source": [
    "print(X_train_ft)"
   ]
  },
  {
   "cell_type": "markdown",
   "id": "877b0d4c-f167-4e6b-96e3-131a6c214121",
   "metadata": {},
   "source": [
    "#### Test BOW"
   ]
  },
  {
   "cell_type": "code",
   "execution_count": 69,
   "id": "907ffa7e-6824-4dbc-a846-0047133f8313",
   "metadata": {},
   "outputs": [
    {
     "name": "stdout",
     "output_type": "stream",
     "text": [
      "Accuracy:  0.9410488245931284\n"
     ]
    }
   ],
   "source": [
    "from sklearn.naive_bayes import MultinomialNB\n",
    "from sklearn.metrics import accuracy_score\n",
    "\n",
    "clf_bow = MultinomialNB()\n",
    "clf_bow.fit(X_train_bow,y_train_bow)\n",
    "ypred_bow = clf_bow.predict(X_test_bow)\n",
    "print(\"Accuracy: \", accuracy_score(y_test_bow, ypred_bow))"
   ]
  },
  {
   "cell_type": "code",
   "execution_count": 70,
   "id": "071d59d6-73b2-45ef-a2e1-0843b9ec72d9",
   "metadata": {},
   "outputs": [
    {
     "name": "stdout",
     "output_type": "stream",
     "text": [
      "Accuracy:  0.9387582881253768\n"
     ]
    }
   ],
   "source": [
    "from sklearn import tree\n",
    "\n",
    "clf_bow = tree.DecisionTreeClassifier()\n",
    "clf_bow.fit(X_train_bow,y_train_bow)\n",
    "ypred_bow = clf_bow.predict(X_test_bow)\n",
    "print(\"Accuracy: \", accuracy_score(y_test_bow, ypred_bow))"
   ]
  },
  {
   "cell_type": "markdown",
   "id": "b832101e-22f7-4a33-9d22-f4ba34747c0b",
   "metadata": {},
   "source": [
    "#### Test TFIDF"
   ]
  },
  {
   "cell_type": "code",
   "execution_count": 71,
   "id": "71ba414c-9b69-4407-8e26-12e188fc8095",
   "metadata": {},
   "outputs": [
    {
     "name": "stdout",
     "output_type": "stream",
     "text": [
      "Accuracy:  0.9482820976491863\n"
     ]
    }
   ],
   "source": [
    "clf_tfidf = MultinomialNB()\n",
    "clf_tfidf.fit(X_train_tfidf,y_train_tfidf)\n",
    "ypred_tfidf = clf_tfidf.predict(X_test_tfidf)\n",
    "print(\"Accuracy: \", accuracy_score(y_test_tfidf, ypred_tfidf))"
   ]
  },
  {
   "cell_type": "code",
   "execution_count": 72,
   "id": "5f1076d6-2c50-4712-acf1-566b3f061b4c",
   "metadata": {},
   "outputs": [
    {
     "name": "stdout",
     "output_type": "stream",
     "text": [
      "Accuracy:  0.9409282700421941\n"
     ]
    }
   ],
   "source": [
    "clf_tfidf = tree.DecisionTreeClassifier()\n",
    "clf_tfidf.fit(X_train_tfidf,y_train_tfidf)\n",
    "ypred_tfidf = clf_tfidf.predict(X_test_tfidf)\n",
    "print(\"Accuracy: \", accuracy_score(y_test_tfidf, ypred_tfidf))"
   ]
  },
  {
   "cell_type": "markdown",
   "id": "e1357dea-5855-4249-9c17-36e5e5440a85",
   "metadata": {},
   "source": [
    "#### Test W2V"
   ]
  },
  {
   "cell_type": "code",
   "execution_count": 73,
   "id": "63dfc568-0216-43e6-bace-56d80b9d2c2e",
   "metadata": {},
   "outputs": [
    {
     "name": "stdout",
     "output_type": "stream",
     "text": [
      "Accuracy:  0.7005424954792043\n"
     ]
    }
   ],
   "source": [
    "from sklearn.naive_bayes import GaussianNB\n",
    "\n",
    "clf_w2v = GaussianNB()\n",
    "clf_w2v.fit(X_train_w2v,y_train_w2v)\n",
    "ypred_w2v = clf_w2v.predict(X_test_w2v)\n",
    "print(\"Accuracy: \", accuracy_score(y_test_w2v, ypred_w2v))"
   ]
  },
  {
   "cell_type": "code",
   "execution_count": 74,
   "id": "b2d81446-5a9c-496b-b4d8-5dbf989b47bb",
   "metadata": {},
   "outputs": [
    {
     "name": "stdout",
     "output_type": "stream",
     "text": [
      "Accuracy:  0.9075346594333936\n"
     ]
    }
   ],
   "source": [
    "from sklearn import tree\n",
    "\n",
    "clf_w2v = tree.DecisionTreeClassifier().fit(X_train_w2v, y_train_w2v)\n",
    "clf_w2v.fit(X_train_w2v,y_train_w2v)\n",
    "ypred_w2v = clf_w2v.predict(X_test_w2v)\n",
    "print(\"Accuracy: \", accuracy_score(y_test_w2v, ypred_w2v))"
   ]
  },
  {
   "cell_type": "markdown",
   "id": "a31a5f26-6686-46e6-a944-d0b8c342d330",
   "metadata": {},
   "source": [
    "#### Test FT"
   ]
  },
  {
   "cell_type": "code",
   "execution_count": 75,
   "id": "739715e8-b847-44c4-b4e0-1b053601a6d3",
   "metadata": {},
   "outputs": [
    {
     "name": "stdout",
     "output_type": "stream",
     "text": [
      "Accuracy:  0.7363471971066908\n"
     ]
    }
   ],
   "source": [
    "clf_ft = GaussianNB()\n",
    "clf_ft.fit(X_train_ft,y_train_ft)\n",
    "ypred_ft = clf_ft.predict(X_test_ft)\n",
    "print(\"Accuracy: \", accuracy_score(y_test_ft, ypred_ft))"
   ]
  },
  {
   "cell_type": "code",
   "execution_count": 76,
   "id": "d57d0c93-7176-406c-8d1c-be816ef74293",
   "metadata": {},
   "outputs": [
    {
     "name": "stdout",
     "output_type": "stream",
     "text": [
      "Accuracy:  0.9033152501506931\n"
     ]
    }
   ],
   "source": [
    "clf_ft = tree.DecisionTreeClassifier()\n",
    "clf_ft.fit(X_train_ft,y_train_ft)\n",
    "ypred_ft = clf_ft.predict(X_test_ft)\n",
    "print(\"Accuracy: \", accuracy_score(y_test_ft, ypred_ft))"
   ]
  },
  {
   "cell_type": "code",
   "execution_count": null,
   "id": "f253e327-b04a-4fdc-ac00-a32f6111847d",
   "metadata": {},
   "outputs": [],
   "source": []
  }
 ],
 "metadata": {
  "kernelspec": {
   "display_name": "Python 3 (ipykernel)",
   "language": "python",
   "name": "python3"
  },
  "language_info": {
   "codemirror_mode": {
    "name": "ipython",
    "version": 3
   },
   "file_extension": ".py",
   "mimetype": "text/x-python",
   "name": "python",
   "nbconvert_exporter": "python",
   "pygments_lexer": "ipython3",
   "version": "3.9.20"
  }
 },
 "nbformat": 4,
 "nbformat_minor": 5
}
