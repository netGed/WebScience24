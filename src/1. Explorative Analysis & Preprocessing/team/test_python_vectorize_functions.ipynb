{
 "cells": [
  {
   "cell_type": "code",
   "execution_count": 1,
   "id": "fdc604c9",
   "metadata": {},
   "outputs": [],
   "source": [
    "%run vectorize_functions.py"
   ]
  },
  {
   "cell_type": "code",
   "execution_count": 2,
   "id": "722fda67",
   "metadata": {},
   "outputs": [],
   "source": [
    "X_train_bow, X_test_bow, y_train_bow, y_test_bow = vectorize_bow()\n",
    "X_train_tfidf, X_test_tfidf, y_train_tfidf, y_test_tfidf = vectorize_tfidf()\n",
    "X_train_w2v, X_test_w2v, y_train_w2v, y_test_w2v = vectorize_w2v()\n",
    "X_train_ft, X_test_ft, y_train_ft, y_test_ft = vectorize_ft()"
   ]
  },
  {
   "cell_type": "code",
   "execution_count": 3,
   "id": "5c902976",
   "metadata": {},
   "outputs": [
    {
     "name": "stdout",
     "output_type": "stream",
     "text": [
      "(19354, 6293)\n",
      "(8295, 6293)\n",
      "(19354,)\n",
      "(8295,)\n",
      "<class 'scipy.sparse._csr.csr_matrix'>\n"
     ]
    }
   ],
   "source": [
    "print(X_train_bow.shape)\n",
    "print(X_test_bow.shape)\n",
    "print(y_train_bow.shape)\n",
    "print(y_test_bow.shape)\n",
    "print(type(X_train_bow))"
   ]
  },
  {
   "cell_type": "code",
   "execution_count": 4,
   "id": "f950b2e0",
   "metadata": {},
   "outputs": [
    {
     "name": "stdout",
     "output_type": "stream",
     "text": [
      "(19354, 6293)\n",
      "(8295, 6293)\n",
      "(19354,)\n",
      "(8295,)\n",
      "<class 'scipy.sparse._csr.csr_matrix'>\n"
     ]
    }
   ],
   "source": [
    "print(X_train_tfidf.shape)\n",
    "print(X_test_tfidf.shape)\n",
    "print(y_train_tfidf.shape)\n",
    "print(y_test_tfidf.shape)\n",
    "print(type(X_train_tfidf))"
   ]
  },
  {
   "cell_type": "code",
   "execution_count": 5,
   "id": "0a4a8fa1",
   "metadata": {},
   "outputs": [
    {
     "name": "stdout",
     "output_type": "stream",
     "text": [
      "(19354, 100)\n",
      "(8295, 100)\n",
      "(19354,)\n",
      "(8295,)\n",
      "<class 'numpy.ndarray'>\n"
     ]
    }
   ],
   "source": [
    "print(X_train_w2v.shape)\n",
    "print(X_test_w2v.shape)\n",
    "print(y_train_w2v.shape)\n",
    "print(y_test_w2v.shape)\n",
    "print(type(X_train_w2v))"
   ]
  },
  {
   "cell_type": "code",
   "execution_count": 6,
   "id": "fdde3715",
   "metadata": {},
   "outputs": [
    {
     "name": "stdout",
     "output_type": "stream",
     "text": [
      "(19354, 100)\n",
      "(8295, 100)\n",
      "(19354,)\n",
      "(8295,)\n",
      "<class 'numpy.ndarray'>\n"
     ]
    }
   ],
   "source": [
    "print(X_train_ft.shape)\n",
    "print(X_test_ft.shape)\n",
    "print(y_train_ft.shape)\n",
    "print(y_test_ft.shape)\n",
    "print(type(X_train_ft))"
   ]
  },
  {
   "cell_type": "code",
   "execution_count": 7,
   "id": "355ad2e2",
   "metadata": {},
   "outputs": [
    {
     "name": "stdout",
     "output_type": "stream",
     "text": [
      "[[0 0 0 ... 0 0 0]\n",
      " [0 0 0 ... 0 0 0]\n",
      " [0 0 0 ... 0 0 0]\n",
      " ...\n",
      " [0 0 0 ... 0 0 0]\n",
      " [0 0 0 ... 0 0 0]\n",
      " [0 0 0 ... 0 0 0]]\n"
     ]
    }
   ],
   "source": [
    "print(X_train_bow.toarray())"
   ]
  },
  {
   "cell_type": "code",
   "execution_count": 8,
   "id": "3cb4ebff",
   "metadata": {},
   "outputs": [
    {
     "name": "stdout",
     "output_type": "stream",
     "text": [
      "[[0. 0. 0. ... 0. 0. 0.]\n",
      " [0. 0. 0. ... 0. 0. 0.]\n",
      " [0. 0. 0. ... 0. 0. 0.]\n",
      " ...\n",
      " [0. 0. 0. ... 0. 0. 0.]\n",
      " [0. 0. 0. ... 0. 0. 0.]\n",
      " [0. 0. 0. ... 0. 0. 0.]]\n"
     ]
    }
   ],
   "source": [
    "print(X_train_tfidf.toarray())"
   ]
  },
  {
   "cell_type": "code",
   "execution_count": 9,
   "id": "bd7a362d-d603-4116-bdbb-31d5fb334192",
   "metadata": {},
   "outputs": [
    {
     "name": "stdout",
     "output_type": "stream",
     "text": [
      "[[-0.07814837  0.19778219  0.16375371 ...  0.29295957 -0.42222694\n",
      "  -0.60330145]\n",
      " [ 0.80851864  0.97765596 -0.6431363  ...  0.33107672 -0.2691976\n",
      "  -0.44218966]\n",
      " [-0.42487646  0.44140847  0.19626938 ...  0.05067893  0.06511918\n",
      "   0.04168098]\n",
      " ...\n",
      " [ 0.02289515  0.336278   -0.07386641 ... -0.47144998  0.40058638\n",
      "   0.33623807]\n",
      " [-0.30298694 -0.13501456 -0.56166826 ... -0.08960265 -0.7880874\n",
      "  -0.01142927]\n",
      " [-0.1549235   0.37840678  0.0140697  ... -0.2830156   0.62402952\n",
      "  -0.13313424]]\n"
     ]
    }
   ],
   "source": [
    "print(X_train_w2v)"
   ]
  },
  {
   "cell_type": "code",
   "execution_count": 10,
   "id": "72009946-b851-473a-b2bd-1f64ecc9966f",
   "metadata": {},
   "outputs": [
    {
     "name": "stdout",
     "output_type": "stream",
     "text": [
      "[[-5.05265296e-02 -6.77033290e-01 -1.22219689e-01 ... -9.47525829e-01\n",
      "  -2.76858613e-01 -2.83536866e-01]\n",
      " [ 6.39917772e-02  6.66424885e-01 -6.34130223e-01 ...  5.45947965e-01\n",
      "   9.01945611e-02  7.34044408e-04]\n",
      " [-7.39062190e-02  3.22646819e-01 -2.88799298e-01 ... -7.92841963e-02\n",
      "   2.04668272e-01  4.70877960e-01]\n",
      " ...\n",
      " [-6.09247546e-03  4.36960966e-01 -1.89189431e-01 ...  9.57665547e-02\n",
      "   1.13818151e-01  3.89277174e-02]\n",
      " [-7.38326250e-01 -2.87758451e-01 -3.72010455e-01 ... -7.98384473e-03\n",
      "  -7.45760420e-01  4.21409028e-01]\n",
      " [-5.54449558e-03  1.53074361e-01 -3.74835118e-01 ...  4.66842860e-02\n",
      "   5.59791744e-01 -1.22848978e-01]]\n"
     ]
    }
   ],
   "source": [
    "print(X_train_ft)"
   ]
  },
  {
   "cell_type": "markdown",
   "id": "877b0d4c-f167-4e6b-96e3-131a6c214121",
   "metadata": {},
   "source": [
    "#### Test BOW"
   ]
  },
  {
   "cell_type": "code",
   "execution_count": 11,
   "id": "907ffa7e-6824-4dbc-a846-0047133f8313",
   "metadata": {},
   "outputs": [
    {
     "name": "stdout",
     "output_type": "stream",
     "text": [
      "Accuracy:  0.9410488245931284\n"
     ]
    }
   ],
   "source": [
    "from sklearn.naive_bayes import MultinomialNB\n",
    "from sklearn.metrics import accuracy_score\n",
    "\n",
    "clf_bow = MultinomialNB()\n",
    "clf_bow.fit(X_train_bow,y_train_bow)\n",
    "ypred_bow = clf_bow.predict(X_test_bow)\n",
    "print(\"Accuracy: \", accuracy_score(y_test_bow, ypred_bow))"
   ]
  },
  {
   "cell_type": "code",
   "execution_count": 12,
   "id": "071d59d6-73b2-45ef-a2e1-0843b9ec72d9",
   "metadata": {},
   "outputs": [
    {
     "name": "stdout",
     "output_type": "stream",
     "text": [
      "Accuracy:  0.9392405063291139\n"
     ]
    }
   ],
   "source": [
    "from sklearn import tree\n",
    "\n",
    "clf_bow = tree.DecisionTreeClassifier()\n",
    "clf_bow.fit(X_train_bow,y_train_bow)\n",
    "ypred_bow = clf_bow.predict(X_test_bow)\n",
    "print(\"Accuracy: \", accuracy_score(y_test_bow, ypred_bow))"
   ]
  },
  {
   "cell_type": "markdown",
   "id": "b832101e-22f7-4a33-9d22-f4ba34747c0b",
   "metadata": {},
   "source": [
    "#### Test TFIDF"
   ]
  },
  {
   "cell_type": "code",
   "execution_count": 13,
   "id": "71ba414c-9b69-4407-8e26-12e188fc8095",
   "metadata": {},
   "outputs": [
    {
     "name": "stdout",
     "output_type": "stream",
     "text": [
      "Accuracy:  0.9482820976491863\n"
     ]
    }
   ],
   "source": [
    "clf_tfidf = MultinomialNB()\n",
    "clf_tfidf.fit(X_train_tfidf,y_train_tfidf)\n",
    "ypred_tfidf = clf_tfidf.predict(X_test_tfidf)\n",
    "print(\"Accuracy: \", accuracy_score(y_test_tfidf, ypred_tfidf))"
   ]
  },
  {
   "cell_type": "code",
   "execution_count": 14,
   "id": "5f1076d6-2c50-4712-acf1-566b3f061b4c",
   "metadata": {},
   "outputs": [
    {
     "name": "stdout",
     "output_type": "stream",
     "text": [
      "Accuracy:  0.941289933694997\n"
     ]
    }
   ],
   "source": [
    "clf_tfidf = tree.DecisionTreeClassifier()\n",
    "clf_tfidf.fit(X_train_tfidf,y_train_tfidf)\n",
    "ypred_tfidf = clf_tfidf.predict(X_test_tfidf)\n",
    "print(\"Accuracy: \", accuracy_score(y_test_tfidf, ypred_tfidf))"
   ]
  },
  {
   "cell_type": "markdown",
   "id": "e1357dea-5855-4249-9c17-36e5e5440a85",
   "metadata": {},
   "source": [
    "#### Test W2V"
   ]
  },
  {
   "cell_type": "code",
   "execution_count": 15,
   "id": "63dfc568-0216-43e6-bace-56d80b9d2c2e",
   "metadata": {},
   "outputs": [
    {
     "name": "stdout",
     "output_type": "stream",
     "text": [
      "Accuracy:  0.6988547317661242\n"
     ]
    }
   ],
   "source": [
    "from sklearn.naive_bayes import GaussianNB\n",
    "\n",
    "clf_w2v = GaussianNB()\n",
    "clf_w2v.fit(X_train_w2v,y_train_w2v)\n",
    "ypred_w2v = clf_w2v.predict(X_test_w2v)\n",
    "print(\"Accuracy: \", accuracy_score(y_test_w2v, ypred_w2v))"
   ]
  },
  {
   "cell_type": "code",
   "execution_count": 16,
   "id": "b2d81446-5a9c-496b-b4d8-5dbf989b47bb",
   "metadata": {},
   "outputs": [
    {
     "name": "stdout",
     "output_type": "stream",
     "text": [
      "Accuracy:  0.9080168776371308\n"
     ]
    }
   ],
   "source": [
    "from sklearn import tree\n",
    "\n",
    "clf_w2v = tree.DecisionTreeClassifier().fit(X_train_w2v, y_train_w2v)\n",
    "clf_w2v.fit(X_train_w2v,y_train_w2v)\n",
    "ypred_w2v = clf_w2v.predict(X_test_w2v)\n",
    "print(\"Accuracy: \", accuracy_score(y_test_w2v, ypred_w2v))"
   ]
  },
  {
   "cell_type": "markdown",
   "id": "a31a5f26-6686-46e6-a944-d0b8c342d330",
   "metadata": {},
   "source": [
    "#### Test FT"
   ]
  },
  {
   "cell_type": "code",
   "execution_count": 17,
   "id": "739715e8-b847-44c4-b4e0-1b053601a6d3",
   "metadata": {},
   "outputs": [
    {
     "name": "stdout",
     "output_type": "stream",
     "text": [
      "Accuracy:  0.7310427968655817\n"
     ]
    }
   ],
   "source": [
    "clf_ft = GaussianNB()\n",
    "clf_ft.fit(X_train_ft,y_train_ft)\n",
    "ypred_ft = clf_ft.predict(X_test_ft)\n",
    "print(\"Accuracy: \", accuracy_score(y_test_ft, ypred_ft))"
   ]
  },
  {
   "cell_type": "code",
   "execution_count": 18,
   "id": "d57d0c93-7176-406c-8d1c-be816ef74293",
   "metadata": {},
   "outputs": [
    {
     "name": "stdout",
     "output_type": "stream",
     "text": [
      "Accuracy:  0.908499095840868\n"
     ]
    }
   ],
   "source": [
    "clf_ft = tree.DecisionTreeClassifier()\n",
    "clf_ft.fit(X_train_ft,y_train_ft)\n",
    "ypred_ft = clf_ft.predict(X_test_ft)\n",
    "print(\"Accuracy: \", accuracy_score(y_test_ft, ypred_ft))"
   ]
  },
  {
   "cell_type": "code",
   "execution_count": null,
   "id": "f253e327-b04a-4fdc-ac00-a32f6111847d",
   "metadata": {},
   "outputs": [],
   "source": []
  }
 ],
 "metadata": {
  "kernelspec": {
   "display_name": "Python 3 (ipykernel)",
   "language": "python",
   "name": "python3"
  },
  "language_info": {
   "codemirror_mode": {
    "name": "ipython",
    "version": 3
   },
   "file_extension": ".py",
   "mimetype": "text/x-python",
   "name": "python",
   "nbconvert_exporter": "python",
   "pygments_lexer": "ipython3",
   "version": "3.9.20"
  }
 },
 "nbformat": 4,
 "nbformat_minor": 5
}
