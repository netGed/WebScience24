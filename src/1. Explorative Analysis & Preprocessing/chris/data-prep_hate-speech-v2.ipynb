{
 "cells": [
  {
   "cell_type": "markdown",
   "metadata": {
    "collapsed": false
   },
   "source": [
    "### Imports & Downloads"
   ]
  },
  {
   "cell_type": "code",
   "execution_count": 1,
   "metadata": {
    "ExecuteTime": {
     "end_time": "2024-10-23T20:13:29.289106600Z",
     "start_time": "2024-10-23T20:13:20.405104200Z"
    },
    "collapsed": false
   },
   "outputs": [
    {
     "name": "stdout",
     "output_type": "stream",
     "text": [
      "Requirement already satisfied: emoji in c:\\users\\admin\\anaconda3\\lib\\site-packages (2.14.0)\n"
     ]
    },
    {
     "name": "stderr",
     "output_type": "stream",
     "text": [
      "\n",
      "[notice] A new release of pip is available: 23.2.1 -> 24.2\n",
      "[notice] To update, run: python.exe -m pip install --upgrade pip\n"
     ]
    },
    {
     "name": "stdout",
     "output_type": "stream",
     "text": [
      "Requirement already satisfied: ftfy in c:\\users\\admin\\anaconda3\\lib\\site-packages (5.8)"
     ]
    },
    {
     "name": "stderr",
     "output_type": "stream",
     "text": [
      "\n",
      "[notice] A new release of pip is available: 23.2.1 -> 24.2\n",
      "[notice] To update, run: python.exe -m pip install --upgrade pip\n"
     ]
    },
    {
     "name": "stdout",
     "output_type": "stream",
     "text": [
      "\n",
      "Requirement already satisfied: wcwidth in c:\\users\\admin\\anaconda3\\lib\\site-packages (from ftfy) (0.2.5)\n"
     ]
    }
   ],
   "source": [
    "!pip install emoji\n",
    "!pip install ftfy"
   ]
  },
  {
   "cell_type": "code",
   "execution_count": 2,
   "metadata": {
    "ExecuteTime": {
     "end_time": "2024-10-23T20:13:30.176106Z",
     "start_time": "2024-10-23T20:13:29.290105700Z"
    },
    "collapsed": true
   },
   "outputs": [],
   "source": [
    "import pandas as pd\n",
    "import matplotlib.pyplot as plt\n",
    "import seaborn as sns\n",
    "from pathlib import Path\n",
    "import emoji\n",
    "\n",
    "import re\n",
    "import string\n",
    "from nltk.corpus import stopwords\n",
    "from nltk.stem import WordNetLemmatizer\n",
    "\n",
    "from collections import Counter\n",
    "\n",
    "from ftfy import fix_encoding # https://github.com/rspeer/python-ftfy"
   ]
  },
  {
   "cell_type": "code",
   "execution_count": 3,
   "metadata": {
    "ExecuteTime": {
     "end_time": "2024-10-23T20:13:30.192105400Z",
     "start_time": "2024-10-23T20:13:30.180105700Z"
    },
    "collapsed": false
   },
   "outputs": [],
   "source": [
    "# nltk.download('punkt')\n",
    "# nltk.download('stopwords')\n",
    "# nltk.download('wordnet')\n",
    "# nltk.download('omw-1.4')"
   ]
  },
  {
   "cell_type": "code",
   "execution_count": 4,
   "metadata": {
    "ExecuteTime": {
     "end_time": "2024-10-23T20:13:30.253103100Z",
     "start_time": "2024-10-23T20:13:30.195106600Z"
    },
    "collapsed": false
   },
   "outputs": [],
   "source": [
    "stop_words = stopwords.words()"
   ]
  },
  {
   "cell_type": "markdown",
   "metadata": {
    "collapsed": false
   },
   "source": [
    "### Loading the data"
   ]
  },
  {
   "cell_type": "code",
   "execution_count": 5,
   "metadata": {
    "ExecuteTime": {
     "end_time": "2024-10-23T20:13:30.253103100Z",
     "start_time": "2024-10-23T20:13:30.228105300Z"
    },
    "collapsed": false
   },
   "outputs": [],
   "source": [
    "#  avoid characters of text column to be cut off by default Pandas DataFrame limitations\n",
    "pd.set_option('display.max_colwidth', 400)"
   ]
  },
  {
   "cell_type": "code",
   "execution_count": 6,
   "metadata": {
    "ExecuteTime": {
     "end_time": "2024-10-23T20:13:30.343104Z",
     "start_time": "2024-10-23T20:13:30.245108700Z"
    },
    "collapsed": false
   },
   "outputs": [
    {
     "data": {
      "text/html": [
       "<div>\n",
       "<style scoped>\n",
       "    .dataframe tbody tr th:only-of-type {\n",
       "        vertical-align: middle;\n",
       "    }\n",
       "\n",
       "    .dataframe tbody tr th {\n",
       "        vertical-align: top;\n",
       "    }\n",
       "\n",
       "    .dataframe thead th {\n",
       "        text-align: right;\n",
       "    }\n",
       "</style>\n",
       "<table border=\"1\" class=\"dataframe\">\n",
       "  <thead>\n",
       "    <tr style=\"text-align: right;\">\n",
       "      <th></th>\n",
       "      <th>tweet</th>\n",
       "    </tr>\n",
       "    <tr>\n",
       "      <th>id</th>\n",
       "      <th></th>\n",
       "    </tr>\n",
       "  </thead>\n",
       "  <tbody>\n",
       "    <tr>\n",
       "      <th>31963</th>\n",
       "      <td>#studiolife #aislife #requires #passion #dedication #willpower   to find #newmaterialsâ¦</td>\n",
       "    </tr>\n",
       "    <tr>\n",
       "      <th>31964</th>\n",
       "      <td>@user #white #supremacists want everyone to see the new â  #birdsâ #movie â and hereâs why</td>\n",
       "    </tr>\n",
       "    <tr>\n",
       "      <th>31965</th>\n",
       "      <td>safe ways to heal your #acne!!    #altwaystoheal #healthy   #healing!!</td>\n",
       "    </tr>\n",
       "    <tr>\n",
       "      <th>31966</th>\n",
       "      <td>is the hp and the cursed child book up for reservations already? if yes, where? if no, when? ððð   #harrypotter #pottermore #favorite</td>\n",
       "    </tr>\n",
       "    <tr>\n",
       "      <th>31967</th>\n",
       "      <td>3rd #bihday to my amazing, hilarious #nephew eli ahmir! uncle dave loves you and missesâ¦</td>\n",
       "    </tr>\n",
       "  </tbody>\n",
       "</table>\n",
       "</div>"
      ],
      "text/plain": [
       "                                                                                                                                                tweet\n",
       "id                                                                                                                                                   \n",
       "31963                                                      #studiolife #aislife #requires #passion #dedication #willpower   to find #newmaterialsâ¦ \n",
       "31964                                            @user #white #supremacists want everyone to see the new â  #birdsâ #movie â and hereâs why  \n",
       "31965                                                                         safe ways to heal your #acne!!    #altwaystoheal #healthy   #healing!! \n",
       "31966  is the hp and the cursed child book up for reservations already? if yes, where? if no, when? ððð   #harrypotter #pottermore #favorite\n",
       "31967                                                     3rd #bihday to my amazing, hilarious #nephew eli ahmir! uncle dave loves you and missesâ¦ "
      ]
     },
     "execution_count": 6,
     "metadata": {},
     "output_type": "execute_result"
    }
   ],
   "source": [
    "df_raw_val = pd.read_csv(\"..\\\\..\\\\..\\\\data\\\\twitter_hate-speech\\\\test.csv\", index_col=0,\n",
    "                         encoding=\"utf-8-sig\")\n",
    "df_raw_val.head()"
   ]
  },
  {
   "cell_type": "code",
   "execution_count": 7,
   "metadata": {
    "ExecuteTime": {
     "end_time": "2024-10-23T20:13:30.344104300Z",
     "start_time": "2024-10-23T20:13:30.306105100Z"
    },
    "collapsed": false
   },
   "outputs": [
    {
     "name": "stdout",
     "output_type": "stream",
     "text": [
      "<class 'pandas.core.frame.DataFrame'>\n",
      "Int64Index: 17197 entries, 31963 to 49159\n",
      "Data columns (total 1 columns):\n",
      " #   Column  Non-Null Count  Dtype \n",
      "---  ------  --------------  ----- \n",
      " 0   tweet   17197 non-null  object\n",
      "dtypes: object(1)\n",
      "memory usage: 268.7+ KB\n"
     ]
    }
   ],
   "source": [
    "df_raw_val.info()"
   ]
  },
  {
   "cell_type": "code",
   "execution_count": 8,
   "metadata": {
    "ExecuteTime": {
     "end_time": "2024-10-23T20:13:30.465103700Z",
     "start_time": "2024-10-23T20:13:30.322106800Z"
    },
    "collapsed": false
   },
   "outputs": [
    {
     "data": {
      "text/html": [
       "<div>\n",
       "<style scoped>\n",
       "    .dataframe tbody tr th:only-of-type {\n",
       "        vertical-align: middle;\n",
       "    }\n",
       "\n",
       "    .dataframe tbody tr th {\n",
       "        vertical-align: top;\n",
       "    }\n",
       "\n",
       "    .dataframe thead th {\n",
       "        text-align: right;\n",
       "    }\n",
       "</style>\n",
       "<table border=\"1\" class=\"dataframe\">\n",
       "  <thead>\n",
       "    <tr style=\"text-align: right;\">\n",
       "      <th></th>\n",
       "      <th>label</th>\n",
       "      <th>tweet</th>\n",
       "    </tr>\n",
       "    <tr>\n",
       "      <th>id</th>\n",
       "      <th></th>\n",
       "      <th></th>\n",
       "    </tr>\n",
       "  </thead>\n",
       "  <tbody>\n",
       "    <tr>\n",
       "      <th>1</th>\n",
       "      <td>0</td>\n",
       "      <td>@user when a father is dysfunctional and is so selfish he drags his kids into his dysfunction.   #run</td>\n",
       "    </tr>\n",
       "    <tr>\n",
       "      <th>2</th>\n",
       "      <td>0</td>\n",
       "      <td>@user @user thanks for #lyft credit i can't use cause they don't offer wheelchair vans in pdx.    #disapointed #getthanked</td>\n",
       "    </tr>\n",
       "    <tr>\n",
       "      <th>3</th>\n",
       "      <td>0</td>\n",
       "      <td>bihday your majesty</td>\n",
       "    </tr>\n",
       "    <tr>\n",
       "      <th>4</th>\n",
       "      <td>0</td>\n",
       "      <td>#model   i love u take with u all the time in urð±!!! ððððð¦ð¦ð¦</td>\n",
       "    </tr>\n",
       "    <tr>\n",
       "      <th>5</th>\n",
       "      <td>0</td>\n",
       "      <td>factsguide: society now    #motivation</td>\n",
       "    </tr>\n",
       "  </tbody>\n",
       "</table>\n",
       "</div>"
      ],
      "text/plain": [
       "    label  \\\n",
       "id          \n",
       "1       0   \n",
       "2       0   \n",
       "3       0   \n",
       "4       0   \n",
       "5       0   \n",
       "\n",
       "                                                                                                                         tweet  \n",
       "id                                                                                                                              \n",
       "1                        @user when a father is dysfunctional and is so selfish he drags his kids into his dysfunction.   #run  \n",
       "2   @user @user thanks for #lyft credit i can't use cause they don't offer wheelchair vans in pdx.    #disapointed #getthanked  \n",
       "3                                                                                                          bihday your majesty  \n",
       "4                                       #model   i love u take with u all the time in urð±!!! ðððð\n",
       "ð¦ð¦ð¦    \n",
       "5                                                                                       factsguide: society now    #motivation  "
      ]
     },
     "execution_count": 8,
     "metadata": {},
     "output_type": "execute_result"
    }
   ],
   "source": [
    "df_raw_train = pd.read_csv(\"..\\\\..\\\\..\\\\data\\\\twitter_hate-speech\\\\train.csv\", index_col=0,\n",
    "                           encoding=\"utf-8-sig\")\n",
    "df_raw_train.head()"
   ]
  },
  {
   "cell_type": "code",
   "execution_count": 9,
   "metadata": {
    "ExecuteTime": {
     "end_time": "2024-10-23T20:13:30.466103900Z",
     "start_time": "2024-10-23T20:13:30.399109400Z"
    },
    "collapsed": false
   },
   "outputs": [
    {
     "name": "stdout",
     "output_type": "stream",
     "text": [
      "<class 'pandas.core.frame.DataFrame'>\n",
      "Int64Index: 31962 entries, 1 to 31962\n",
      "Data columns (total 2 columns):\n",
      " #   Column  Non-Null Count  Dtype \n",
      "---  ------  --------------  ----- \n",
      " 0   label   31962 non-null  int64 \n",
      " 1   tweet   31962 non-null  object\n",
      "dtypes: int64(1), object(1)\n",
      "memory usage: 749.1+ KB\n"
     ]
    }
   ],
   "source": [
    "df_raw_train.info()"
   ]
  },
  {
   "cell_type": "code",
   "execution_count": 10,
   "metadata": {
    "ExecuteTime": {
     "end_time": "2024-10-23T20:13:30.466103900Z",
     "start_time": "2024-10-23T20:13:30.434109400Z"
    },
    "collapsed": false
   },
   "outputs": [],
   "source": [
    "df = df_raw_train.copy()"
   ]
  },
  {
   "cell_type": "markdown",
   "metadata": {
    "collapsed": false
   },
   "source": [
    "### Allgemeines Data-Cleaning"
   ]
  },
  {
   "cell_type": "markdown",
   "metadata": {
    "collapsed": false
   },
   "source": [
    "#### Encoding-fix"
   ]
  },
  {
   "cell_type": "code",
   "execution_count": 11,
   "metadata": {
    "ExecuteTime": {
     "end_time": "2024-10-23T20:13:32.618105900Z",
     "start_time": "2024-10-23T20:13:30.449111600Z"
    },
    "collapsed": false
   },
   "outputs": [],
   "source": [
    "df[\"tweet\"] = df['tweet'].apply(fix_encoding)"
   ]
  },
  {
   "cell_type": "markdown",
   "metadata": {
    "collapsed": false
   },
   "source": [
    "#### Duplikate, NaNs, Ausreißer"
   ]
  },
  {
   "cell_type": "code",
   "execution_count": 12,
   "metadata": {
    "ExecuteTime": {
     "end_time": "2024-10-23T20:13:32.638170800Z",
     "start_time": "2024-10-23T20:13:32.621106300Z"
    },
    "collapsed": false
   },
   "outputs": [
    {
     "data": {
      "text/plain": [
       "array([0, 1], dtype=int64)"
      ]
     },
     "execution_count": 12,
     "metadata": {},
     "output_type": "execute_result"
    }
   ],
   "source": [
    "df.label.unique() # keine Inkonsistenzen beim Label"
   ]
  },
  {
   "cell_type": "code",
   "execution_count": 13,
   "metadata": {
    "ExecuteTime": {
     "end_time": "2024-10-23T20:13:32.683105500Z",
     "start_time": "2024-10-23T20:13:32.635106300Z"
    },
    "collapsed": false
   },
   "outputs": [
    {
     "data": {
      "text/plain": [
       "label    0\n",
       "tweet    0\n",
       "dtype: int64"
      ]
     },
     "execution_count": 13,
     "metadata": {},
     "output_type": "execute_result"
    }
   ],
   "source": [
    "df.isna().sum()"
   ]
  },
  {
   "cell_type": "code",
   "execution_count": 14,
   "metadata": {
    "ExecuteTime": {
     "end_time": "2024-10-23T20:13:32.684110500Z",
     "start_time": "2024-10-23T20:13:32.657105400Z"
    },
    "collapsed": false
   },
   "outputs": [
    {
     "data": {
      "text/plain": [
       "2432"
      ]
     },
     "execution_count": 14,
     "metadata": {},
     "output_type": "execute_result"
    }
   ],
   "source": [
    "df.duplicated().sum()"
   ]
  },
  {
   "cell_type": "code",
   "execution_count": 15,
   "metadata": {
    "ExecuteTime": {
     "end_time": "2024-10-23T20:13:32.777104Z",
     "start_time": "2024-10-23T20:13:32.684110500Z"
    },
    "collapsed": false
   },
   "outputs": [
    {
     "data": {
      "text/plain": [
       "0"
      ]
     },
     "execution_count": 15,
     "metadata": {},
     "output_type": "execute_result"
    }
   ],
   "source": [
    "df.drop_duplicates(inplace=True)\n",
    "df.duplicated().sum()"
   ]
  },
  {
   "cell_type": "code",
   "execution_count": 16,
   "metadata": {
    "ExecuteTime": {
     "end_time": "2024-10-23T20:13:32.886103500Z",
     "start_time": "2024-10-23T20:13:32.733108600Z"
    },
    "collapsed": false
   },
   "outputs": [],
   "source": [
    "df[\"char_count\"] = df[\"tweet\"].str.len()\n",
    "df[\"word_count\"] = df[\"tweet\"].str.split().str.len()\n",
    "df = df.reset_index(drop=True)"
   ]
  },
  {
   "cell_type": "code",
   "execution_count": 17,
   "metadata": {
    "ExecuteTime": {
     "end_time": "2024-10-23T20:13:32.917104400Z",
     "start_time": "2024-10-23T20:13:32.828109Z"
    },
    "collapsed": false
   },
   "outputs": [
    {
     "data": {
      "text/plain": [
       "count    29530.000000\n",
       "mean        83.001998\n",
       "std         29.412117\n",
       "min         10.000000\n",
       "25%         61.000000\n",
       "50%         87.000000\n",
       "75%        106.000000\n",
       "max        181.000000\n",
       "Name: char_count, dtype: float64"
      ]
     },
     "execution_count": 17,
     "metadata": {},
     "output_type": "execute_result"
    }
   ],
   "source": [
    "df[\"char_count\"].describe()"
   ]
  },
  {
   "cell_type": "code",
   "execution_count": 18,
   "metadata": {
    "ExecuteTime": {
     "end_time": "2024-10-23T20:13:33.440105700Z",
     "start_time": "2024-10-23T20:13:32.844108Z"
    },
    "collapsed": false
   },
   "outputs": [
    {
     "data": {
      "text/plain": [
       "Text(0, 0.5, 'Number of Tweets')"
      ]
     },
     "execution_count": 18,
     "metadata": {},
     "output_type": "execute_result"
    },
    {
     "data": {
      "image/png": "[encoded data removed]",
      "text/plain": [
       "<Figure size 640x480 with 1 Axes>"
      ]
     },
     "metadata": {},
     "output_type": "display_data"
    }
   ],
   "source": [
    "sns.histplot(df[\"char_count\"])\n",
    "\n",
    "plt.title('Character Count of all Tweets')\n",
    "\n",
    "plt.xlabel('Character Count')\n",
    "plt.ylabel('Number of Tweets')"
   ]
  },
  {
   "cell_type": "code",
   "execution_count": 19,
   "metadata": {
    "ExecuteTime": {
     "end_time": "2024-10-23T20:13:33.700105100Z",
     "start_time": "2024-10-23T20:13:33.443110200Z"
    },
    "collapsed": false
   },
   "outputs": [
    {
     "data": {
      "text/plain": [
       "Text(0, 0.5, 'Character Count')"
      ]
     },
     "execution_count": 19,
     "metadata": {},
     "output_type": "execute_result"
    },
    {
     "data": {
      "image/png": "[encoded data removed]",
      "text/plain": [
       "<Figure size 640x480 with 1 Axes>"
      ]
     },
     "metadata": {},
     "output_type": "display_data"
    }
   ],
   "source": [
    "sns.boxplot(df[\"char_count\"])\n",
    "\n",
    "plt.title('Distribution of Number of Characters per Tweet')\n",
    "\n",
    "plt.ylabel('Character Count')"
   ]
  },
  {
   "cell_type": "code",
   "execution_count": 20,
   "metadata": {
    "ExecuteTime": {
     "end_time": "2024-10-23T20:13:33.701106200Z",
     "start_time": "2024-10-23T20:13:33.666108900Z"
    },
    "collapsed": false
   },
   "outputs": [
    {
     "data": {
      "text/plain": [
       "count    29530.000000\n",
       "mean        13.249001\n",
       "std          5.553023\n",
       "min          2.000000\n",
       "25%          9.000000\n",
       "50%         13.000000\n",
       "75%         17.000000\n",
       "max         34.000000\n",
       "Name: word_count, dtype: float64"
      ]
     },
     "execution_count": 20,
     "metadata": {},
     "output_type": "execute_result"
    }
   ],
   "source": [
    "df[\"word_count\"].describe()"
   ]
  },
  {
   "cell_type": "code",
   "execution_count": 21,
   "metadata": {
    "ExecuteTime": {
     "end_time": "2024-10-23T20:13:34.201110100Z",
     "start_time": "2024-10-23T20:13:33.681108500Z"
    },
    "collapsed": false
   },
   "outputs": [
    {
     "data": {
      "text/plain": [
       "Text(0, 0.5, 'Number of Tweets')"
      ]
     },
     "execution_count": 21,
     "metadata": {},
     "output_type": "execute_result"
    },
    {
     "data": {
      "image/png": "[encoded data removed]",
      "text/plain": [
       "<Figure size 640x480 with 1 Axes>"
      ]
     },
     "metadata": {},
     "output_type": "display_data"
    }
   ],
   "source": [
    "sns.histplot(df[\"word_count\"])\n",
    "plt.title('Count of Words of all Tweets')\n",
    "plt.xlabel('Word Count')\n",
    "plt.ylabel('Number of Tweets')"
   ]
  },
  {
   "cell_type": "code",
   "execution_count": 22,
   "metadata": {
    "ExecuteTime": {
     "end_time": "2024-10-23T20:13:34.434104400Z",
     "start_time": "2024-10-23T20:13:34.203111800Z"
    },
    "collapsed": false
   },
   "outputs": [
    {
     "data": {
      "text/plain": [
       "Text(0, 0.5, 'Number of Words')"
      ]
     },
     "execution_count": 22,
     "metadata": {},
     "output_type": "execute_result"
    },
    {
     "data": {
      "image/png": "[encoded data removed]",
      "text/plain": [
       "<Figure size 640x480 with 1 Axes>"
      ]
     },
     "metadata": {},
     "output_type": "display_data"
    }
   ],
   "source": [
    "sns.boxplot(data=df[\"word_count\"])\n",
    "plt.title('Distribution of Words per Tweet')\n",
    "plt.ylabel('Number of Words')"
   ]
  },
  {
   "cell_type": "code",
   "execution_count": 23,
   "metadata": {
    "ExecuteTime": {
     "end_time": "2024-10-23T20:13:34.446104600Z",
     "start_time": "2024-10-23T20:13:34.429106900Z"
    },
    "collapsed": false
   },
   "outputs": [],
   "source": [
    "def find_outlier(data):\n",
    "    for num_col in data.select_dtypes([\"number\"]).columns:\n",
    "        sd = data[num_col].std()\n",
    "        mean = data[num_col].mean()\n",
    "        result = [out for out in data[num_col] if (out > mean + 3 * sd) or (out < mean - 3 * sd)]\n",
    "        print()\n",
    "        print(\"Column: \", num_col)\n",
    "        print(\"Mean: \", mean, \"; Std: \", sd)\n",
    "        print(\"Outlier: \", len(result), \"; Values: \", sorted(result))"
   ]
  },
  {
   "cell_type": "code",
   "execution_count": 24,
   "metadata": {
    "ExecuteTime": {
     "end_time": "2024-10-23T20:13:34.510104Z",
     "start_time": "2024-10-23T20:13:34.440106300Z"
    },
    "collapsed": false
   },
   "outputs": [
    {
     "name": "stdout",
     "output_type": "stream",
     "text": [
      "\n",
      "Column:  char_count\n",
      "Mean:  83.00199796816797 ; Std:  29.412116595005582\n",
      "Outlier:  1 ; Values:  [181]\n",
      "\n",
      "Column:  word_count\n",
      "Mean:  13.249001015916017 ; Std:  5.553022843649177\n",
      "Outlier:  26 ; Values:  [30, 30, 30, 30, 30, 30, 30, 30, 30, 30, 30, 30, 30, 30, 30, 30, 30, 30, 31, 31, 31, 31, 31, 32, 32, 34]\n"
     ]
    }
   ],
   "source": [
    "find_outlier(df[[\"char_count\", \"word_count\"]])"
   ]
  },
  {
   "cell_type": "code",
   "execution_count": 25,
   "metadata": {
    "ExecuteTime": {
     "end_time": "2024-10-23T20:13:34.510104Z",
     "start_time": "2024-10-23T20:13:34.489110200Z"
    },
    "collapsed": false
   },
   "outputs": [],
   "source": [
    "df = df[df[\"char_count\"] < 181]\n",
    "df = df[df[\"word_count\"] < 30]\n",
    "df.drop(['char_count', 'word_count'], axis=1, inplace=True)"
   ]
  },
  {
   "cell_type": "code",
   "execution_count": 26,
   "metadata": {
    "ExecuteTime": {
     "end_time": "2024-10-23T20:13:34.640106300Z",
     "start_time": "2024-10-23T20:13:34.505106600Z"
    },
    "collapsed": false
   },
   "outputs": [
    {
     "name": "stdout",
     "output_type": "stream",
     "text": [
      "label    29503\n",
      "tweet    29503\n",
      "dtype: int64\n",
      "label    31962\n",
      "tweet    31962\n",
      "dtype: int64\n",
      "label   -2459\n",
      "tweet   -2459\n",
      "dtype: int64\n",
      "label   -7.693511\n",
      "tweet   -7.693511\n",
      "dtype: float64\n"
     ]
    }
   ],
   "source": [
    "print(df.count())\n",
    "print(df_raw_train.count())\n",
    "print(df.count() - df_raw_train.count())\n",
    "print((df.count() / df_raw_train.count() - 1) * 100)"
   ]
  },
  {
   "cell_type": "markdown",
   "metadata": {
    "collapsed": false
   },
   "source": [
    "### Spezielles Data-Cleaning für Textanalyse"
   ]
  },
  {
   "cell_type": "markdown",
   "metadata": {
    "collapsed": false
   },
   "source": [
    "#### Step 1: Normalisierung Groß-/Kleinschreibung"
   ]
  },
  {
   "cell_type": "code",
   "execution_count": 27,
   "metadata": {
    "ExecuteTime": {
     "end_time": "2024-10-23T20:13:34.640106300Z",
     "start_time": "2024-10-23T20:13:34.568106800Z"
    },
    "collapsed": false
   },
   "outputs": [],
   "source": [
    "def normalize_text(text):\n",
    "    text = text.lower()\n",
    "    return text"
   ]
  },
  {
   "cell_type": "code",
   "execution_count": 28,
   "metadata": {
    "ExecuteTime": {
     "end_time": "2024-10-23T20:13:34.642105100Z",
     "start_time": "2024-10-23T20:13:34.584109800Z"
    },
    "collapsed": false
   },
   "outputs": [],
   "source": [
    "df[\"tweet_cleaned_step1\"] = df['tweet'].apply(normalize_text)"
   ]
  },
  {
   "cell_type": "code",
   "execution_count": 29,
   "metadata": {
    "ExecuteTime": {
     "end_time": "2024-10-23T20:13:34.642105100Z",
     "start_time": "2024-10-23T20:13:34.616106500Z"
    },
    "collapsed": false
   },
   "outputs": [
    {
     "data": {
      "text/html": [
       "<div>\n",
       "<style scoped>\n",
       "    .dataframe tbody tr th:only-of-type {\n",
       "        vertical-align: middle;\n",
       "    }\n",
       "\n",
       "    .dataframe tbody tr th {\n",
       "        vertical-align: top;\n",
       "    }\n",
       "\n",
       "    .dataframe thead th {\n",
       "        text-align: right;\n",
       "    }\n",
       "</style>\n",
       "<table border=\"1\" class=\"dataframe\">\n",
       "  <thead>\n",
       "    <tr style=\"text-align: right;\">\n",
       "      <th></th>\n",
       "      <th>label</th>\n",
       "      <th>tweet</th>\n",
       "      <th>tweet_cleaned_step1</th>\n",
       "    </tr>\n",
       "  </thead>\n",
       "  <tbody>\n",
       "    <tr>\n",
       "      <th>0</th>\n",
       "      <td>0</td>\n",
       "      <td>@user when a father is dysfunctional and is so selfish he drags his kids into his dysfunction.   #run</td>\n",
       "      <td>@user when a father is dysfunctional and is so selfish he drags his kids into his dysfunction.   #run</td>\n",
       "    </tr>\n",
       "    <tr>\n",
       "      <th>1</th>\n",
       "      <td>0</td>\n",
       "      <td>@user @user thanks for #lyft credit i can't use cause they don't offer wheelchair vans in pdx.    #disapointed #getthanked</td>\n",
       "      <td>@user @user thanks for #lyft credit i can't use cause they don't offer wheelchair vans in pdx.    #disapointed #getthanked</td>\n",
       "    </tr>\n",
       "    <tr>\n",
       "      <th>2</th>\n",
       "      <td>0</td>\n",
       "      <td>bihday your majesty</td>\n",
       "      <td>bihday your majesty</td>\n",
       "    </tr>\n",
       "    <tr>\n",
       "      <th>3</th>\n",
       "      <td>0</td>\n",
       "      <td>#model   i love u take with u all the time in ur📱!!! 😙😎👄👅💦💦💦</td>\n",
       "      <td>#model   i love u take with u all the time in ur📱!!! 😙😎👄👅💦💦💦</td>\n",
       "    </tr>\n",
       "    <tr>\n",
       "      <th>4</th>\n",
       "      <td>0</td>\n",
       "      <td>factsguide: society now    #motivation</td>\n",
       "      <td>factsguide: society now    #motivation</td>\n",
       "    </tr>\n",
       "  </tbody>\n",
       "</table>\n",
       "</div>"
      ],
      "text/plain": [
       "   label  \\\n",
       "0      0   \n",
       "1      0   \n",
       "2      0   \n",
       "3      0   \n",
       "4      0   \n",
       "\n",
       "                                                                                                                        tweet  \\\n",
       "0                       @user when a father is dysfunctional and is so selfish he drags his kids into his dysfunction.   #run   \n",
       "1  @user @user thanks for #lyft credit i can't use cause they don't offer wheelchair vans in pdx.    #disapointed #getthanked   \n",
       "2                                                                                                         bihday your majesty   \n",
       "3                                                              #model   i love u take with u all the time in ur📱!!! 😙😎👄👅💦💦💦     \n",
       "4                                                                                      factsguide: society now    #motivation   \n",
       "\n",
       "                                                                                                          tweet_cleaned_step1  \n",
       "0                       @user when a father is dysfunctional and is so selfish he drags his kids into his dysfunction.   #run  \n",
       "1  @user @user thanks for #lyft credit i can't use cause they don't offer wheelchair vans in pdx.    #disapointed #getthanked  \n",
       "2                                                                                                         bihday your majesty  \n",
       "3                                                              #model   i love u take with u all the time in ur📱!!! 😙😎👄👅💦💦💦    \n",
       "4                                                                                      factsguide: society now    #motivation  "
      ]
     },
     "execution_count": 29,
     "metadata": {},
     "output_type": "execute_result"
    }
   ],
   "source": [
    "df.head()"
   ]
  },
  {
   "cell_type": "markdown",
   "metadata": {
    "collapsed": false
   },
   "source": [
    "#### Step 2: Abkürzungen/Slang"
   ]
  },
  {
   "cell_type": "code",
   "execution_count": 30,
   "metadata": {
    "ExecuteTime": {
     "end_time": "2024-10-23T20:13:34.720104500Z",
     "start_time": "2024-10-23T20:13:34.639105500Z"
    },
    "collapsed": false
   },
   "outputs": [],
   "source": [
    "def remove_short_forms(text):\n",
    "    text = re.sub(\"isn't\", 'is not', text)\n",
    "    text = re.sub(\"he's\", 'he is', text)\n",
    "    text = re.sub(\"wasn't\", 'was not', text)\n",
    "    text = re.sub(\"there's\", 'there is', text)\n",
    "    text = re.sub(\"couldn't\", 'could not', text)\n",
    "    text = re.sub(\"won't\", 'will not', text)\n",
    "    text = re.sub(\"they're\", 'they are', text)\n",
    "    text = re.sub(\"she's\", 'she is', text)\n",
    "    text = re.sub(\"There's\", 'there is', text)\n",
    "    text = re.sub(\"wouldn't\", 'would not', text)\n",
    "    text = re.sub(\"haven't\", 'have not', text)\n",
    "    text = re.sub(\"That's\", 'That is', text)\n",
    "    text = re.sub(\"you've\", 'you have', text)\n",
    "    text = re.sub(\"He's\", 'He is', text)\n",
    "    text = re.sub(\"what's\", 'what is', text)\n",
    "    text = re.sub(\"weren't\", 'were not', text)\n",
    "    text = re.sub(\"we're\", 'we are', text)\n",
    "    text = re.sub(\"hasn't\", 'has not', text)\n",
    "    text = re.sub(\"you'd\", 'you would', text)\n",
    "    text = re.sub(\"shouldn't\", 'should not', text)\n",
    "    text = re.sub(\"let's\", 'let us', text)\n",
    "    text = re.sub(\"they've\", 'they have', text)\n",
    "    text = re.sub(\"You'll\", 'You will', text)\n",
    "    text = re.sub(\"i'm\", 'i am', text)\n",
    "    text = re.sub(\"we've\", 'we have', text)\n",
    "    text = re.sub(\"it's\", 'it is', text)\n",
    "    text = re.sub(\"don't\", 'do not', text)\n",
    "    text = re.sub(\"that´s\", 'that is', text)\n",
    "    text = re.sub(\"I´m\", 'I am', text)\n",
    "    text = re.sub(\"it’s\", 'it is', text)\n",
    "    text = re.sub(\"she´s\", 'she is', text)\n",
    "    text = re.sub(\"he’s'\", 'he is', text)\n",
    "    text = re.sub('I’m', 'I am', text)\n",
    "    text = re.sub('I’d', 'I did', text)\n",
    "    text = re.sub(\"he’s'\", 'he is', text)\n",
    "    text = re.sub('there’s', 'there is', text)\n",
    "\n",
    "    return text"
   ]
  },
  {
   "cell_type": "code",
   "execution_count": 31,
   "metadata": {
    "ExecuteTime": {
     "end_time": "2024-10-23T20:13:34.768103400Z",
     "start_time": "2024-10-23T20:13:34.645106100Z"
    },
    "collapsed": false
   },
   "outputs": [],
   "source": [
    "# https://www.kaggle.com/code/nmaguette/up-to-date-list-of-slangs-for-text-preprocessing\n",
    "def convert_slang(text):\n",
    "    text = re.sub(\"$\",'dollar', text)\n",
    "    text = re.sub(\"€\",'euro', text)\n",
    "    text = re.sub(\"4ao\",'for adults only', text)\n",
    "    text = re.sub(\"a.m\",'before midday', text)\n",
    "    text = re.sub(\"a3\",'anytime anywhere anyplace', text)\n",
    "    text = re.sub(\"aamof\",'as a matter of fact', text)\n",
    "    text = re.sub(\"acct\",'account', text)\n",
    "    text = re.sub(\"adih\",'another day in hell', text)\n",
    "    text = re.sub(\"afaic\",'as far as i am concerned', text)\n",
    "    text = re.sub(\"afaict\",'as far as i can tell', text)\n",
    "    text = re.sub(\"afaik\",'as far as i know', text)\n",
    "    text = re.sub(\"afair\",'as far as i remember', text)\n",
    "    text = re.sub(\"afk\",'away from keyboard', text)\n",
    "    text = re.sub(\"app\",'application', text)\n",
    "    text = re.sub(\"approx\",'approximately', text)\n",
    "    text = re.sub(\"apps\",'applications', text)\n",
    "    text = re.sub(\"asap\",'as soon as possible', text)\n",
    "    text = re.sub(\"asl\",'age, sex, location', text)\n",
    "    text = re.sub(\"atk\",'at the keyboard', text)\n",
    "    text = re.sub(\"ave.\",'avenue', text)\n",
    "    text = re.sub(\"aymm\",'are you my mother', text)\n",
    "    text = re.sub(\"ayor\",'at your own risk', text)\n",
    "    text = re.sub(\"b&b\",'bed and breakfast', text)\n",
    "    text = re.sub(\"b+b\",'bed and breakfast', text)\n",
    "    text = re.sub(\"b.c\",'before christ', text)\n",
    "    text = re.sub(\"b2b\",'business to business', text)\n",
    "    text = re.sub(\"b2c\",'business to customer', text)\n",
    "    text = re.sub(\"b4\",'before', text)\n",
    "    text = re.sub(\"b4n\",'bye for now', text)\n",
    "    text = re.sub(\"b@u\",'back at you', text)\n",
    "    text = re.sub(\"bae\",'before anyone else', text)\n",
    "    text = re.sub(\"bak\",'back at keyboard', text)\n",
    "    text = re.sub(\"bbbg\",'bye bye be good', text)\n",
    "    text = re.sub(\"bbc\",'british broadcasting corporation', text)\n",
    "    text = re.sub(\"bbias\",'be back in a second', text)\n",
    "    text = re.sub(\"bbl\",'be back later', text)\n",
    "    text = re.sub(\"bbs\",'be back soon', text)\n",
    "    text = re.sub(\"be4\",'before', text)\n",
    "    text = re.sub(\"bfn\",'bye for now', text)\n",
    "    text = re.sub(\"blvd\",'boulevard', text)\n",
    "    text = re.sub(\"bout\",'about', text)\n",
    "    text = re.sub(\"brb\",'be right back', text)\n",
    "    text = re.sub(\"bros\",'brothers', text)\n",
    "    text = re.sub(\"brt\",'be right there', text)\n",
    "    text = re.sub(\"bsaaw\",'big smile and a wink', text)\n",
    "    text = re.sub(\"btw\",'by the way', text)\n",
    "    text = re.sub(\"bwl\",'bursting with laughter', text)\n",
    "    text = re.sub(\"c/o\",'care of', text)\n",
    "    text = re.sub(\"cet\",'central european time', text)\n",
    "    text = re.sub(\"cf\",'compare', text)\n",
    "    text = re.sub(\"cia\",'central intelligence agency', text)\n",
    "    text = re.sub(\"csl\",'can not stop laughing', text)\n",
    "    text = re.sub(\"cu\",'see you', text)\n",
    "    text = re.sub(\"cul8r\",'see you later', text)\n",
    "    text = re.sub(\"cv\",'curriculum vitae', text)\n",
    "    text = re.sub(\"cwot\",'complete waste of time', text)\n",
    "    text = re.sub(\"cya\",'see you', text)\n",
    "    text = re.sub(\"cyt\",'see you tomorrow', text)\n",
    "    text = re.sub(\"dae\",'does anyone else', text)\n",
    "    text = re.sub(\"dbmib\",'do not bother me i am busy', text)\n",
    "    text = re.sub(\"diy\",'do it yourself', text)\n",
    "    text = re.sub(\"dm\",'direct message', text)\n",
    "    text = re.sub(\"dwh\",'during work hours', text)\n",
    "    text = re.sub(\"e123\",'easy as one two three', text)\n",
    "    text = re.sub(\"eet\",'eastern european time', text)\n",
    "    text = re.sub(\"eg\",'example', text)\n",
    "    text = re.sub(\"embm\",'early morning business meeting', text)\n",
    "    text = re.sub(\"encl\",'enclosed', text)\n",
    "    text = re.sub(\"encl.\",'enclosed', text)\n",
    "    text = re.sub(\"etc\",'and so on', text)\n",
    "    text = re.sub(\"faq\",'frequently asked questions', text)\n",
    "    text = re.sub(\"fawc\",'for anyone who cares', text)\n",
    "    text = re.sub(\"fb\",'facebook', text)\n",
    "    text = re.sub(\"fc\",'fingers crossed', text)\n",
    "    text = re.sub(\"fig\",'figure', text)\n",
    "    text = re.sub(\"fimh\",'forever in my heart', text)\n",
    "    text = re.sub(\"ft.\",'feet', text)\n",
    "    text = re.sub(\"ft\",'featuring', text)\n",
    "    text = re.sub(\"ftl\",'for the loss', text)\n",
    "    text = re.sub(\"ftw\",'for the win', text)\n",
    "    text = re.sub(\"fwiw\",'for what it is worth', text)\n",
    "    text = re.sub(\"fyi\",'for your information', text)\n",
    "    text = re.sub(\"g9\",'genius', text)\n",
    "    text = re.sub(\"gahoy\",'get a hold of yourself', text)\n",
    "    text = re.sub(\"gal\",'get a life', text)\n",
    "    text = re.sub(\"gcse\",'general certificate of secondary education', text)\n",
    "    text = re.sub(\"gfn\",'gone for now', text)\n",
    "    text = re.sub(\"gg\",'good game', text)\n",
    "    text = re.sub(\"gl\",'good luck', text)\n",
    "    text = re.sub(\"glhf\",'good luck have fun', text)\n",
    "    text = re.sub(\"gmt\",'greenwich mean time', text)\n",
    "    text = re.sub(\"gmta\",'great minds think alike', text)\n",
    "    text = re.sub(\"gn\",'good night', text)\n",
    "    text = re.sub(\"g.o.a.t\",'greatest of all time', text)\n",
    "    text = re.sub(\"goat\",'greatest of all time', text)\n",
    "    text = re.sub(\"goi\",'get over it', text)\n",
    "    text = re.sub(\"gps\",'global positioning system', text)\n",
    "    text = re.sub(\"gr8\",'great', text)\n",
    "    text = re.sub(\"gratz\",'congratulations', text)\n",
    "    text = re.sub(\"gyal\",'girl', text)\n",
    "    text = re.sub(\"h&c\",'hot and cold', text)\n",
    "    text = re.sub(\"hp\",'horsepower', text)\n",
    "    text = re.sub(\"hr\",'hour', text)\n",
    "    text = re.sub(\"hrh\",'his royal highness', text)\n",
    "    text = re.sub(\"ht\",'height', text)\n",
    "    text = re.sub(\"ibrb\",'i will be right back', text)\n",
    "    text = re.sub(\"ic\",'i see', text)\n",
    "    text = re.sub(\"icq\",'i seek you', text)\n",
    "    text = re.sub(\"icymi\",'in case you missed it', text)\n",
    "    text = re.sub(\"idc\",'i do not care', text)\n",
    "    text = re.sub(\"idgadf\",'i do not give a damn fuck', text)\n",
    "    text = re.sub(\"idgaf\",'i do not give a fuck', text)\n",
    "    text = re.sub(\"idk\",'i do not know', text)\n",
    "    text = re.sub(\"ie\",'that is', text)\n",
    "    text = re.sub(\"i.e\",'that is', text)\n",
    "    text = re.sub(\"ifyp\",'i feel your pain', text)\n",
    "    text = re.sub(\"IG\",'instagram', text)\n",
    "    text = re.sub(\"iirc\",'if i remember correctly', text)\n",
    "    text = re.sub(\"ilu\",'i love you', text)\n",
    "    text = re.sub(\"ily\",'i love you', text)\n",
    "    text = re.sub(\"imho\",'in my humble opinion', text)\n",
    "    text = re.sub(\"imo\",'in my opinion', text)\n",
    "    text = re.sub(\"imu\",'i miss you', text)\n",
    "    text = re.sub(\"iow\",'in other words', text)\n",
    "    text = re.sub(\"irl\",'in real life', text)\n",
    "    text = re.sub(\"j4f\",'just for fun', text)\n",
    "    text = re.sub(\"jic\",'just in case', text)\n",
    "    text = re.sub(\"jk\",'just kidding', text)\n",
    "    text = re.sub(\"jsyk\",'just so you know', text)\n",
    "    text = re.sub(\"l8r\",'later', text)\n",
    "    text = re.sub(\"lb\",'pound', text)\n",
    "    text = re.sub(\"lbs\",'pounds', text)\n",
    "    text = re.sub(\"ldr\",'long distance relationship', text)\n",
    "    text = re.sub(\"lmao\",'laugh my ass off', text)\n",
    "    text = re.sub(\"lmfao\",'laugh my fucking ass off', text)\n",
    "    text = re.sub(\"lol\",'laughing out loud', text)\n",
    "    text = re.sub(\"ltd\",'limited', text)\n",
    "    text = re.sub(\"ltns\",'long time no see', text)\n",
    "    text = re.sub(\"m8\",'mate', text)\n",
    "    text = re.sub(\"mf\",'motherfucker', text)\n",
    "    text = re.sub(\"mfs\",'motherfuckers', text)\n",
    "    text = re.sub(\"mfw\",'my face when', text)\n",
    "    text = re.sub(\"mofo\",'motherfucker', text)\n",
    "    text = re.sub(\"mph\",'miles per hour', text)\n",
    "    text = re.sub(\"mr\",'mister', text)\n",
    "    text = re.sub(\"mrw\",'my reaction when', text)\n",
    "    text = re.sub(\"ms\",'miss', text)\n",
    "    text = re.sub(\"mte\",'my thoughts exactly', text)\n",
    "    text = re.sub(\"nagi\",'not a good idea', text)\n",
    "    text = re.sub(\"nbc\",'national broadcasting company', text)\n",
    "    text = re.sub(\"nbd\",'not big deal', text)\n",
    "    text = re.sub(\"nfs\",'not for sale', text)\n",
    "    text = re.sub(\"ngl\",'not going to lie', text)\n",
    "    text = re.sub(\"nhs\",'national health service', text)\n",
    "    text = re.sub(\"nrn\",'no reply necessary', text)\n",
    "    text = re.sub(\"nsfl\",'not safe for life', text)\n",
    "    text = re.sub(\"nsfw\",'not safe for work', text)\n",
    "    text = re.sub(\"nth\",'nice to have', text)\n",
    "    text = re.sub(\"nvr\",'never', text)\n",
    "    text = re.sub(\"nyc\",'new york city', text)\n",
    "    text = re.sub(\"oc\",'original content', text)\n",
    "    text = re.sub(\"og\",'original', text)\n",
    "    text = re.sub(\"ohp\",'overhead projector', text)\n",
    "    text = re.sub(\"oic\",'oh i see', text)\n",
    "    text = re.sub(\"omdb\",'over my dead body', text)\n",
    "    text = re.sub(\"omg\",'oh my god', text)\n",
    "    text = re.sub(\"omw\",'on my way', text)\n",
    "    text = re.sub(\"p.a\",'per annum', text)\n",
    "    text = re.sub(\"p.m\",'after midday', text)\n",
    "    text = re.sub(\"pm\",'prime minister', text)\n",
    "    text = re.sub(\"poc\",'people of color', text)\n",
    "    text = re.sub(\"pov\",'point of view', text)\n",
    "    text = re.sub(\"pp\",'pages', text)\n",
    "    text = re.sub(\"ppl\",'people', text)\n",
    "    text = re.sub(\"prw\",'parents are watching', text)\n",
    "    text = re.sub(\"ps\",'postscript', text)\n",
    "    text = re.sub(\"pt\",'point', text)\n",
    "    text = re.sub(\"ptb\",'please text back', text)\n",
    "    text = re.sub(\"pto\",'please turn over', text)\n",
    "    text = re.sub(\"qpsa\",'what happens', text) #text = re.sub(\"que pasa', text)\n",
    "    text = re.sub(\"ratchet\",'rude', text)\n",
    "    text = re.sub(\"rbtl\",'read between the lines', text)\n",
    "    text = re.sub(\"rlrt\",'real life retweet', text)\n",
    "    text = re.sub(\"rofl\",'rolling on the floor laughing', text)\n",
    "    text = re.sub(\"roflol\",'rolling on the floor laughing out loud', text)\n",
    "    text = re.sub(\"rotflmao\",'rolling on the floor laughing my ass off', text)\n",
    "    text = re.sub(\"rt\",'retweet', text)\n",
    "    text = re.sub(\"ruok\",'are you ok', text)\n",
    "    text = re.sub(\"sfw\",'safe for work', text)\n",
    "    text = re.sub(\"sk8\",'skate', text)\n",
    "    text = re.sub(\"smh\",'shake my head', text)\n",
    "    text = re.sub(\"sq\",'square', text)\n",
    "    text = re.sub(\"srsly\",'seriously', text)\n",
    "    text = re.sub(\"ssdd\",'same stuff different day', text)\n",
    "    text = re.sub(\"tbh\",'to be honest', text)\n",
    "    text = re.sub(\"tbs\",'tablespooful', text)\n",
    "    text = re.sub(\"tbsp\",'tablespooful', text)\n",
    "    text = re.sub(\"tfw\",'that feeling when', text)\n",
    "    text = re.sub(\"thks\",'thank you', text)\n",
    "    text = re.sub(\"tho\",'though', text)\n",
    "    text = re.sub(\"thx\",'thank you', text)\n",
    "    text = re.sub(\"tia\",'thanks in advance', text)\n",
    "    text = re.sub(\"til\",'today i learned', text)\n",
    "    text = re.sub(\"tl;dr\",'too long i did not read', text)\n",
    "    text = re.sub(\"tldr\",'too long i did not read', text)\n",
    "    text = re.sub(\"tmb\",'tweet me back', text)\n",
    "    text = re.sub(\"tntl\",'trying not to laugh', text)\n",
    "    text = re.sub(\"ttyl\",'talk to you later', text)\n",
    "    text = re.sub(\" u \",'you', text)\n",
    "    text = re.sub(\" ur \",'you are', text)\n",
    "    text = re.sub(\"u2\",'you too', text)\n",
    "    text = re.sub(\"u4e\",'yours for ever', text)\n",
    "    text = re.sub(\"utc\",'coordinated universal time', text)\n",
    "    text = re.sub(\"w/\",'with', text)\n",
    "    text = re.sub(\"w/o\",'without', text)\n",
    "    text = re.sub(\"w8\",'wait', text)\n",
    "    text = re.sub(\"wassup\",'what is up', text)\n",
    "    text = re.sub(\"wb\",'welcome back', text)\n",
    "    text = re.sub(\"wtf\",'what the fuck', text)\n",
    "    text = re.sub(\"wtg\",'way to go', text)\n",
    "    text = re.sub(\"wtpa\",'where the party at', text)\n",
    "    text = re.sub(\"wuf\",'where are you from', text)\n",
    "    text = re.sub(\"wuzup\",'what is up', text)\n",
    "    text = re.sub(\"wywh\",'wish you were here', text)\n",
    "    text = re.sub(\"yd\",'yard', text)\n",
    "    text = re.sub(\"ygtr\",'you got that right', text)\n",
    "    text = re.sub(\"ynk\",'you never know', text)\n",
    "    text = re.sub(\"zzz\",'sleeping bored and tired', text)\n",
    "\n",
    "    return text"
   ]
  },
  {
   "cell_type": "code",
   "execution_count": 32,
   "metadata": {
    "ExecuteTime": {
     "end_time": "2024-10-23T20:13:46.388108100Z",
     "start_time": "2024-10-23T20:13:34.753108Z"
    },
    "collapsed": false
   },
   "outputs": [],
   "source": [
    "df[\"tweet_cleaned_step2\"] = df['tweet_cleaned_step1'].apply(remove_short_forms)\n",
    "df[\"tweet_cleaned_step2\"] = df['tweet_cleaned_step2'].apply(convert_slang)"
   ]
  },
  {
   "cell_type": "code",
   "execution_count": 33,
   "metadata": {
    "ExecuteTime": {
     "end_time": "2024-10-23T20:13:46.409104800Z",
     "start_time": "2024-10-23T20:13:46.388108100Z"
    },
    "collapsed": false
   },
   "outputs": [
    {
     "data": {
      "text/html": [
       "<div>\n",
       "<style scoped>\n",
       "    .dataframe tbody tr th:only-of-type {\n",
       "        vertical-align: middle;\n",
       "    }\n",
       "\n",
       "    .dataframe tbody tr th {\n",
       "        vertical-align: top;\n",
       "    }\n",
       "\n",
       "    .dataframe thead th {\n",
       "        text-align: right;\n",
       "    }\n",
       "</style>\n",
       "<table border=\"1\" class=\"dataframe\">\n",
       "  <thead>\n",
       "    <tr style=\"text-align: right;\">\n",
       "      <th></th>\n",
       "      <th>label</th>\n",
       "      <th>tweet</th>\n",
       "      <th>tweet_cleaned_step1</th>\n",
       "      <th>tweet_cleaned_step2</th>\n",
       "    </tr>\n",
       "  </thead>\n",
       "  <tbody>\n",
       "    <tr>\n",
       "      <th>0</th>\n",
       "      <td>0</td>\n",
       "      <td>@user when a father is dysfunctional and is so selfish he drags his kids into his dysfunction.   #run</td>\n",
       "      <td>@user when a father is dysfunctional and is so selfish he drags his kids into his dysfunction.   #run</td>\n",
       "      <td>@user when a father is dysfunctional and is so selfish he drags his kids into his dysfunction.   #rundollar</td>\n",
       "    </tr>\n",
       "    <tr>\n",
       "      <th>1</th>\n",
       "      <td>0</td>\n",
       "      <td>@user @user thanks for #lyft credit i can't use cause they don't offer wheelchair vans in pdx.    #disapointed #getthanked</td>\n",
       "      <td>@user @user thanks for #lyft credit i can't use cause they don't offer wheelchair vans in pdx.    #disapointed #getthanked</td>\n",
       "      <td>@user @user thanks for #lyfeetcredit i can't use cause they do not offer wheelchair vans in pdx.    #disapointed #getthankeddollar</td>\n",
       "    </tr>\n",
       "    <tr>\n",
       "      <th>2</th>\n",
       "      <td>0</td>\n",
       "      <td>bihday your majesty</td>\n",
       "      <td>bihday your majesty</td>\n",
       "      <td>bihday your majestyardollar</td>\n",
       "    </tr>\n",
       "    <tr>\n",
       "      <th>3</th>\n",
       "      <td>0</td>\n",
       "      <td>#model   i love u take with u all the time in ur📱!!! 😙😎👄👅💦💦💦</td>\n",
       "      <td>#model   i love u take with u all the time in ur📱!!! 😙😎👄👅💦💦💦</td>\n",
       "      <td>#model   i loveyoutake withyouall the tthat is in ur📱!!! 😙😎👄👅💦💦💦  dollar</td>\n",
       "    </tr>\n",
       "    <tr>\n",
       "      <th>4</th>\n",
       "      <td>0</td>\n",
       "      <td>factsguide: society now    #motivation</td>\n",
       "      <td>factsguide: society now    #motivation</td>\n",
       "      <td>factsguthat is: soriginal contentthat isty now    #motivationdollar</td>\n",
       "    </tr>\n",
       "  </tbody>\n",
       "</table>\n",
       "</div>"
      ],
      "text/plain": [
       "   label  \\\n",
       "0      0   \n",
       "1      0   \n",
       "2      0   \n",
       "3      0   \n",
       "4      0   \n",
       "\n",
       "                                                                                                                        tweet  \\\n",
       "0                       @user when a father is dysfunctional and is so selfish he drags his kids into his dysfunction.   #run   \n",
       "1  @user @user thanks for #lyft credit i can't use cause they don't offer wheelchair vans in pdx.    #disapointed #getthanked   \n",
       "2                                                                                                         bihday your majesty   \n",
       "3                                                              #model   i love u take with u all the time in ur📱!!! 😙😎👄👅💦💦💦     \n",
       "4                                                                                      factsguide: society now    #motivation   \n",
       "\n",
       "                                                                                                          tweet_cleaned_step1  \\\n",
       "0                       @user when a father is dysfunctional and is so selfish he drags his kids into his dysfunction.   #run   \n",
       "1  @user @user thanks for #lyft credit i can't use cause they don't offer wheelchair vans in pdx.    #disapointed #getthanked   \n",
       "2                                                                                                         bihday your majesty   \n",
       "3                                                              #model   i love u take with u all the time in ur📱!!! 😙😎👄👅💦💦💦     \n",
       "4                                                                                      factsguide: society now    #motivation   \n",
       "\n",
       "                                                                                                                  tweet_cleaned_step2  \n",
       "0                         @user when a father is dysfunctional and is so selfish he drags his kids into his dysfunction.   #rundollar  \n",
       "1  @user @user thanks for #lyfeetcredit i can't use cause they do not offer wheelchair vans in pdx.    #disapointed #getthankeddollar  \n",
       "2                                                                                                         bihday your majestyardollar  \n",
       "3                                                            #model   i loveyoutake withyouall the tthat is in ur📱!!! 😙😎👄👅💦💦💦  dollar  \n",
       "4                                                                 factsguthat is: soriginal contentthat isty now    #motivationdollar  "
      ]
     },
     "execution_count": 33,
     "metadata": {},
     "output_type": "execute_result"
    }
   ],
   "source": [
    "df.head()"
   ]
  },
  {
   "cell_type": "markdown",
   "metadata": {
    "collapsed": false
   },
   "source": [
    "#### Step 3: Negationen auflösen\n",
    "https://analyticsindiamag.com/ai-mysteries/when-to-use-negation-handling-in-sentiment-analysis/#h-how-does-negation-affect-the-sentiment-analysis"
   ]
  },
  {
   "cell_type": "code",
   "execution_count": 34,
   "metadata": {
    "ExecuteTime": {
     "end_time": "2024-10-23T20:13:46.463103600Z",
     "start_time": "2024-10-23T20:13:46.405107300Z"
    },
    "collapsed": false
   },
   "outputs": [],
   "source": [
    "# todo"
   ]
  },
  {
   "cell_type": "markdown",
   "metadata": {
    "collapsed": false
   },
   "source": [
    "#### Step 4: Emojis konvertieren"
   ]
  },
  {
   "cell_type": "code",
   "execution_count": 35,
   "metadata": {
    "ExecuteTime": {
     "end_time": "2024-10-23T20:13:46.527103500Z",
     "start_time": "2024-10-23T20:13:46.422104900Z"
    },
    "collapsed": false
   },
   "outputs": [],
   "source": [
    "def replace_emojis(text):\n",
    "    if isinstance(text, str):\n",
    "        return emoji.demojize(text)\n",
    "    else:\n",
    "        return text"
   ]
  },
  {
   "cell_type": "code",
   "execution_count": 36,
   "metadata": {
    "ExecuteTime": {
     "end_time": "2024-10-23T20:13:52.647107400Z",
     "start_time": "2024-10-23T20:13:46.436105200Z"
    },
    "collapsed": false
   },
   "outputs": [],
   "source": [
    "df['tweet_cleaned_step3'] = df['tweet_cleaned_step2'].apply(replace_emojis)"
   ]
  },
  {
   "cell_type": "code",
   "execution_count": 37,
   "metadata": {
    "ExecuteTime": {
     "end_time": "2024-10-23T20:13:52.667105200Z",
     "start_time": "2024-10-23T20:13:52.648108Z"
    },
    "collapsed": false
   },
   "outputs": [
    {
     "data": {
      "text/html": [
       "<div>\n",
       "<style scoped>\n",
       "    .dataframe tbody tr th:only-of-type {\n",
       "        vertical-align: middle;\n",
       "    }\n",
       "\n",
       "    .dataframe tbody tr th {\n",
       "        vertical-align: top;\n",
       "    }\n",
       "\n",
       "    .dataframe thead th {\n",
       "        text-align: right;\n",
       "    }\n",
       "</style>\n",
       "<table border=\"1\" class=\"dataframe\">\n",
       "  <thead>\n",
       "    <tr style=\"text-align: right;\">\n",
       "      <th></th>\n",
       "      <th>label</th>\n",
       "      <th>tweet</th>\n",
       "      <th>tweet_cleaned_step1</th>\n",
       "      <th>tweet_cleaned_step2</th>\n",
       "      <th>tweet_cleaned_step3</th>\n",
       "    </tr>\n",
       "  </thead>\n",
       "  <tbody>\n",
       "    <tr>\n",
       "      <th>0</th>\n",
       "      <td>0</td>\n",
       "      <td>@user when a father is dysfunctional and is so selfish he drags his kids into his dysfunction.   #run</td>\n",
       "      <td>@user when a father is dysfunctional and is so selfish he drags his kids into his dysfunction.   #run</td>\n",
       "      <td>@user when a father is dysfunctional and is so selfish he drags his kids into his dysfunction.   #rundollar</td>\n",
       "      <td>@user when a father is dysfunctional and is so selfish he drags his kids into his dysfunction.   #rundollar</td>\n",
       "    </tr>\n",
       "    <tr>\n",
       "      <th>1</th>\n",
       "      <td>0</td>\n",
       "      <td>@user @user thanks for #lyft credit i can't use cause they don't offer wheelchair vans in pdx.    #disapointed #getthanked</td>\n",
       "      <td>@user @user thanks for #lyft credit i can't use cause they don't offer wheelchair vans in pdx.    #disapointed #getthanked</td>\n",
       "      <td>@user @user thanks for #lyfeetcredit i can't use cause they do not offer wheelchair vans in pdx.    #disapointed #getthankeddollar</td>\n",
       "      <td>@user @user thanks for #lyfeetcredit i can't use cause they do not offer wheelchair vans in pdx.    #disapointed #getthankeddollar</td>\n",
       "    </tr>\n",
       "    <tr>\n",
       "      <th>2</th>\n",
       "      <td>0</td>\n",
       "      <td>bihday your majesty</td>\n",
       "      <td>bihday your majesty</td>\n",
       "      <td>bihday your majestyardollar</td>\n",
       "      <td>bihday your majestyardollar</td>\n",
       "    </tr>\n",
       "    <tr>\n",
       "      <th>3</th>\n",
       "      <td>0</td>\n",
       "      <td>#model   i love u take with u all the time in ur📱!!! 😙😎👄👅💦💦💦</td>\n",
       "      <td>#model   i love u take with u all the time in ur📱!!! 😙😎👄👅💦💦💦</td>\n",
       "      <td>#model   i loveyoutake withyouall the tthat is in ur📱!!! 😙😎👄👅💦💦💦  dollar</td>\n",
       "      <td>#model   i loveyoutake withyouall the tthat is in ur:mobile_phone:!!! :kissing_face_with_smiling_eyes::smiling_face_with_sunglasses::mouth::tongue::sweat_droplets::sweat_droplets::sweat_droplets:  dollar</td>\n",
       "    </tr>\n",
       "    <tr>\n",
       "      <th>4</th>\n",
       "      <td>0</td>\n",
       "      <td>factsguide: society now    #motivation</td>\n",
       "      <td>factsguide: society now    #motivation</td>\n",
       "      <td>factsguthat is: soriginal contentthat isty now    #motivationdollar</td>\n",
       "      <td>factsguthat is: soriginal contentthat isty now    #motivationdollar</td>\n",
       "    </tr>\n",
       "  </tbody>\n",
       "</table>\n",
       "</div>"
      ],
      "text/plain": [
       "   label  \\\n",
       "0      0   \n",
       "1      0   \n",
       "2      0   \n",
       "3      0   \n",
       "4      0   \n",
       "\n",
       "                                                                                                                        tweet  \\\n",
       "0                       @user when a father is dysfunctional and is so selfish he drags his kids into his dysfunction.   #run   \n",
       "1  @user @user thanks for #lyft credit i can't use cause they don't offer wheelchair vans in pdx.    #disapointed #getthanked   \n",
       "2                                                                                                         bihday your majesty   \n",
       "3                                                              #model   i love u take with u all the time in ur📱!!! 😙😎👄👅💦💦💦     \n",
       "4                                                                                      factsguide: society now    #motivation   \n",
       "\n",
       "                                                                                                          tweet_cleaned_step1  \\\n",
       "0                       @user when a father is dysfunctional and is so selfish he drags his kids into his dysfunction.   #run   \n",
       "1  @user @user thanks for #lyft credit i can't use cause they don't offer wheelchair vans in pdx.    #disapointed #getthanked   \n",
       "2                                                                                                         bihday your majesty   \n",
       "3                                                              #model   i love u take with u all the time in ur📱!!! 😙😎👄👅💦💦💦     \n",
       "4                                                                                      factsguide: society now    #motivation   \n",
       "\n",
       "                                                                                                                  tweet_cleaned_step2  \\\n",
       "0                         @user when a father is dysfunctional and is so selfish he drags his kids into his dysfunction.   #rundollar   \n",
       "1  @user @user thanks for #lyfeetcredit i can't use cause they do not offer wheelchair vans in pdx.    #disapointed #getthankeddollar   \n",
       "2                                                                                                         bihday your majestyardollar   \n",
       "3                                                            #model   i loveyoutake withyouall the tthat is in ur📱!!! 😙😎👄👅💦💦💦  dollar   \n",
       "4                                                                 factsguthat is: soriginal contentthat isty now    #motivationdollar   \n",
       "\n",
       "                                                                                                                                                                                           tweet_cleaned_step3  \n",
       "0                                                                                                  @user when a father is dysfunctional and is so selfish he drags his kids into his dysfunction.   #rundollar  \n",
       "1                                                                           @user @user thanks for #lyfeetcredit i can't use cause they do not offer wheelchair vans in pdx.    #disapointed #getthankeddollar  \n",
       "2                                                                                                                                                                                  bihday your majestyardollar  \n",
       "3  #model   i loveyoutake withyouall the tthat is in ur:mobile_phone:!!! :kissing_face_with_smiling_eyes::smiling_face_with_sunglasses::mouth::tongue::sweat_droplets::sweat_droplets::sweat_droplets:  dollar  \n",
       "4                                                                                                                                          factsguthat is: soriginal contentthat isty now    #motivationdollar  "
      ]
     },
     "execution_count": 37,
     "metadata": {},
     "output_type": "execute_result"
    }
   ],
   "source": [
    "df.head()"
   ]
  },
  {
   "cell_type": "markdown",
   "metadata": {
    "collapsed": false
   },
   "source": [
    "#### Step 5: Unnötige Zeichen entfernen"
   ]
  },
  {
   "cell_type": "code",
   "execution_count": 38,
   "metadata": {
    "ExecuteTime": {
     "end_time": "2024-10-23T20:13:52.696105700Z",
     "start_time": "2024-10-23T20:13:52.665107Z"
    },
    "collapsed": false
   },
   "outputs": [],
   "source": [
    "# Links\n",
    "def remove_links(text):\n",
    "    text = re.sub('https?://\\S+|www\\.\\S+', '', text)\n",
    "    return text"
   ]
  },
  {
   "cell_type": "code",
   "execution_count": 39,
   "metadata": {
    "ExecuteTime": {
     "end_time": "2024-10-23T20:13:52.723107100Z",
     "start_time": "2024-10-23T20:13:52.680104600Z"
    },
    "collapsed": false
   },
   "outputs": [],
   "source": [
    "# Html tags\n",
    "def remove_html(text):\n",
    "    text = re.sub('<.*?>+', '', text)\n",
    "    return text"
   ]
  },
  {
   "cell_type": "code",
   "execution_count": 40,
   "metadata": {
    "ExecuteTime": {
     "end_time": "2024-10-23T20:13:52.827104500Z",
     "start_time": "2024-10-23T20:13:52.697106Z"
    },
    "collapsed": false
   },
   "outputs": [],
   "source": [
    "# @user => anonymisierte Nutzerhandles\n",
    "def remove_userhandle(text):\n",
    "    text = re.sub('@user', '', text)\n",
    "    return text"
   ]
  },
  {
   "cell_type": "code",
   "execution_count": 41,
   "metadata": {
    "ExecuteTime": {
     "end_time": "2024-10-23T20:13:52.914104200Z",
     "start_time": "2024-10-23T20:13:52.723107100Z"
    },
    "collapsed": false
   },
   "outputs": [],
   "source": [
    "# Punktuation\n",
    "def remove_punctuation(text):\n",
    "    text = re.sub('[%s]' % re.escape(string.punctuation), '', text)\n",
    "    return text"
   ]
  },
  {
   "cell_type": "code",
   "execution_count": 42,
   "metadata": {
    "ExecuteTime": {
     "end_time": "2024-10-23T20:13:52.914104200Z",
     "start_time": "2024-10-23T20:13:52.728109Z"
    },
    "collapsed": false
   },
   "outputs": [],
   "source": [
    "# Sonderzeichen\n",
    "def remove_special_characters(text):\n",
    "    text = re.sub(r\".*[@_!#$%^&*()<>?/\\|}{~:].*\",'', text)\n",
    "    return text"
   ]
  },
  {
   "cell_type": "code",
   "execution_count": 43,
   "metadata": {
    "ExecuteTime": {
     "end_time": "2024-10-23T20:13:52.914104200Z",
     "start_time": "2024-10-23T20:13:52.744109700Z"
    },
    "collapsed": false
   },
   "outputs": [],
   "source": [
    "# Zeilenumbrüche\n",
    "def remove_linebreaks(text):\n",
    "    text = re.sub('\\n', '', text)\n",
    "    return text"
   ]
  },
  {
   "cell_type": "code",
   "execution_count": 44,
   "metadata": {
    "ExecuteTime": {
     "end_time": "2024-10-23T20:13:52.914104200Z",
     "start_time": "2024-10-23T20:13:52.760108900Z"
    },
    "collapsed": false
   },
   "outputs": [],
   "source": [
    "# Zahlen\n",
    "def remove_numbers(text):\n",
    "    text = re.sub('\\d+', '', text)\n",
    "    return text"
   ]
  },
  {
   "cell_type": "code",
   "execution_count": 45,
   "metadata": {
    "ExecuteTime": {
     "end_time": "2024-10-23T20:13:52.917103900Z",
     "start_time": "2024-10-23T20:13:52.783104700Z"
    },
    "collapsed": false
   },
   "outputs": [],
   "source": [
    "def cleaning(text):\n",
    "    text = remove_links(text)\n",
    "    text = remove_html(text)\n",
    "    text = remove_userhandle(text)\n",
    "    text = remove_punctuation(text)\n",
    "    text = remove_special_characters(text)\n",
    "    text = remove_linebreaks(text)\n",
    "    text = remove_numbers(text)\n",
    "\n",
    "    return text"
   ]
  },
  {
   "cell_type": "code",
   "execution_count": 46,
   "metadata": {
    "ExecuteTime": {
     "end_time": "2024-10-23T20:13:55.598106900Z",
     "start_time": "2024-10-23T20:13:52.793111600Z"
    },
    "collapsed": false
   },
   "outputs": [],
   "source": [
    "df[\"tweet_cleaned_step4\"] = df['tweet_cleaned_step3'].apply(cleaning)"
   ]
  },
  {
   "cell_type": "code",
   "execution_count": 47,
   "metadata": {
    "ExecuteTime": {
     "end_time": "2024-10-23T20:13:55.645105100Z",
     "start_time": "2024-10-23T20:13:55.601107200Z"
    },
    "collapsed": false
   },
   "outputs": [
    {
     "data": {
      "text/html": [
       "<div>\n",
       "<style scoped>\n",
       "    .dataframe tbody tr th:only-of-type {\n",
       "        vertical-align: middle;\n",
       "    }\n",
       "\n",
       "    .dataframe tbody tr th {\n",
       "        vertical-align: top;\n",
       "    }\n",
       "\n",
       "    .dataframe thead th {\n",
       "        text-align: right;\n",
       "    }\n",
       "</style>\n",
       "<table border=\"1\" class=\"dataframe\">\n",
       "  <thead>\n",
       "    <tr style=\"text-align: right;\">\n",
       "      <th></th>\n",
       "      <th>label</th>\n",
       "      <th>tweet</th>\n",
       "      <th>tweet_cleaned_step1</th>\n",
       "      <th>tweet_cleaned_step2</th>\n",
       "      <th>tweet_cleaned_step3</th>\n",
       "      <th>tweet_cleaned_step4</th>\n",
       "    </tr>\n",
       "  </thead>\n",
       "  <tbody>\n",
       "    <tr>\n",
       "      <th>0</th>\n",
       "      <td>0</td>\n",
       "      <td>@user when a father is dysfunctional and is so selfish he drags his kids into his dysfunction.   #run</td>\n",
       "      <td>@user when a father is dysfunctional and is so selfish he drags his kids into his dysfunction.   #run</td>\n",
       "      <td>@user when a father is dysfunctional and is so selfish he drags his kids into his dysfunction.   #rundollar</td>\n",
       "      <td>@user when a father is dysfunctional and is so selfish he drags his kids into his dysfunction.   #rundollar</td>\n",
       "      <td>when a father is dysfunctional and is so selfish he drags his kids into his dysfunction   rundollar</td>\n",
       "    </tr>\n",
       "    <tr>\n",
       "      <th>1</th>\n",
       "      <td>0</td>\n",
       "      <td>@user @user thanks for #lyft credit i can't use cause they don't offer wheelchair vans in pdx.    #disapointed #getthanked</td>\n",
       "      <td>@user @user thanks for #lyft credit i can't use cause they don't offer wheelchair vans in pdx.    #disapointed #getthanked</td>\n",
       "      <td>@user @user thanks for #lyfeetcredit i can't use cause they do not offer wheelchair vans in pdx.    #disapointed #getthankeddollar</td>\n",
       "      <td>@user @user thanks for #lyfeetcredit i can't use cause they do not offer wheelchair vans in pdx.    #disapointed #getthankeddollar</td>\n",
       "      <td>thanks for lyfeetcredit i cant use cause they do not offer wheelchair vans in pdx    disapointed getthankeddollar</td>\n",
       "    </tr>\n",
       "    <tr>\n",
       "      <th>2</th>\n",
       "      <td>0</td>\n",
       "      <td>bihday your majesty</td>\n",
       "      <td>bihday your majesty</td>\n",
       "      <td>bihday your majestyardollar</td>\n",
       "      <td>bihday your majestyardollar</td>\n",
       "      <td>bihday your majestyardollar</td>\n",
       "    </tr>\n",
       "    <tr>\n",
       "      <th>3</th>\n",
       "      <td>0</td>\n",
       "      <td>#model   i love u take with u all the time in ur📱!!! 😙😎👄👅💦💦💦</td>\n",
       "      <td>#model   i love u take with u all the time in ur📱!!! 😙😎👄👅💦💦💦</td>\n",
       "      <td>#model   i loveyoutake withyouall the tthat is in ur📱!!! 😙😎👄👅💦💦💦  dollar</td>\n",
       "      <td>#model   i loveyoutake withyouall the tthat is in ur:mobile_phone:!!! :kissing_face_with_smiling_eyes::smiling_face_with_sunglasses::mouth::tongue::sweat_droplets::sweat_droplets::sweat_droplets:  dollar</td>\n",
       "      <td>model   i loveyoutake withyouall the tthat is in urmobilephone kissingfacewithsmilingeyessmilingfacewithsunglassesmouthtonguesweatdropletssweatdropletssweatdroplets  dollar</td>\n",
       "    </tr>\n",
       "    <tr>\n",
       "      <th>4</th>\n",
       "      <td>0</td>\n",
       "      <td>factsguide: society now    #motivation</td>\n",
       "      <td>factsguide: society now    #motivation</td>\n",
       "      <td>factsguthat is: soriginal contentthat isty now    #motivationdollar</td>\n",
       "      <td>factsguthat is: soriginal contentthat isty now    #motivationdollar</td>\n",
       "      <td>factsguthat is soriginal contentthat isty now    motivationdollar</td>\n",
       "    </tr>\n",
       "    <tr>\n",
       "      <th>5</th>\n",
       "      <td>0</td>\n",
       "      <td>[2/2] huge fan fare and big talking before they leave. chaos and pay disputes when they get there. #allshowandnogo</td>\n",
       "      <td>[2/2] huge fan fare and big talking before they leave. chaos and pay disputes when they get there. #allshowandnogo</td>\n",
       "      <td>[2/2] huge fan fare and big talking before they leavenue chaos and pay disputes when they get there. #allshowandnoriginalo  dollar</td>\n",
       "      <td>[2/2] huge fan fare and big talking before they leavenue chaos and pay disputes when they get there. #allshowandnoriginalo  dollar</td>\n",
       "      <td>huge fan fare and big talking before they leavenue chaos and pay disputes when they get there allshowandnoriginalo  dollar</td>\n",
       "    </tr>\n",
       "    <tr>\n",
       "      <th>6</th>\n",
       "      <td>0</td>\n",
       "      <td>@user camping tomorrow @user @user @user @user @user @user @user danny…</td>\n",
       "      <td>@user camping tomorrow @user @user @user @user @user @user @user danny…</td>\n",
       "      <td>@user camping tomorrow @user @user @user @user @user @user @user danny…dollar</td>\n",
       "      <td>@user camping tomorrow @user @user @user @user @user @user @user danny…dollar</td>\n",
       "      <td>camping tomorrow        danny…dollar</td>\n",
       "    </tr>\n",
       "    <tr>\n",
       "      <th>7</th>\n",
       "      <td>0</td>\n",
       "      <td>the next school year is the year for exams.😯 can't think about that 😭 #school #exams   #hate #imagine #actorslife #revolutionschool #girl</td>\n",
       "      <td>the next school year is the year for exams.😯 can't think about that 😭 #school #exams   #hate #imagine #actorslife #revolutionschool #girl</td>\n",
       "      <td>the next school year is the year for examiss.😯 can't think aabout that 😭 #school #examiss   #hate #imagthat is #actorslthat is #revolutionschool #gin real lifedollar</td>\n",
       "      <td>the next school year is the year for examiss.:hushed_face: can't think aabout that :loudly_crying_face: #school #examiss   #hate #imagthat is #actorslthat is #revolutionschool #gin real lifedollar</td>\n",
       "      <td>the next school year is the year for examisshushedface cant think aabout that loudlycryingface school examiss   hate imagthat is actorslthat is revolutionschool gin real lifedollar</td>\n",
       "    </tr>\n",
       "    <tr>\n",
       "      <th>8</th>\n",
       "      <td>0</td>\n",
       "      <td>we won!!! love the land!!! #allin #cavs #champions #cleveland #clevelandcavaliers  …</td>\n",
       "      <td>we won!!! love the land!!! #allin #cavs #champions #cleveland #clevelandcavaliers  …</td>\n",
       "      <td>we won!!! love the land!!! #allin #cavs #champions #cleveland #clevelandcavalthat isrs  … dollar</td>\n",
       "      <td>we won!!! love the land!!! #allin #cavs #champions #cleveland #clevelandcavalthat isrs  … dollar</td>\n",
       "      <td>we won love the land allin cavs champions cleveland clevelandcavalthat isrs  … dollar</td>\n",
       "    </tr>\n",
       "    <tr>\n",
       "      <th>9</th>\n",
       "      <td>0</td>\n",
       "      <td>@user @user welcome here !  i'm   it's so #gr8 !</td>\n",
       "      <td>@user @user welcome here !  i'm   it's so #gr8 !</td>\n",
       "      <td>@user @user welcome here !  i am   it is so #great ! dollar</td>\n",
       "      <td>@user @user welcome here !  i am   it is so #great ! dollar</td>\n",
       "      <td>welcome here   i am   it is so great  dollar</td>\n",
       "    </tr>\n",
       "    <tr>\n",
       "      <th>10</th>\n",
       "      <td>0</td>\n",
       "      <td>↝ #ireland consumer price index (mom) climbed from previous 0.2% to 0.5% in may   #blog #silver #gold #forex</td>\n",
       "      <td>↝ #ireland consumer price index (mom) climbed from previous 0.2% to 0.5% in may   #blog #silver #gold #forex</td>\n",
       "      <td>↝ #that island consumer pri seee index (mom) climbed from previous 0.2% to 0.5% in may   #bloriginal #silver #gold #forexdollar</td>\n",
       "      <td>↝ #that island consumer pri seee index (mom) climbed from previous 0.2% to 0.5% in may   #bloriginal #silver #gold #forexdollar</td>\n",
       "      <td>↝ that island consumer pri seee index mom climbed from previous  to  in may   bloriginal silver gold forexdollar</td>\n",
       "    </tr>\n",
       "    <tr>\n",
       "      <th>11</th>\n",
       "      <td>0</td>\n",
       "      <td>we are so selfish. #orlando #standwithorlando #pulseshooting #orlandoshooting #biggerproblems #selfish #heabreaking   #values #love #</td>\n",
       "      <td>we are so selfish. #orlando #standwithorlando #pulseshooting #orlandoshooting #biggerproblems #selfish #heabreaking   #values #love #</td>\n",
       "      <td>we are so selfish. #orlando #standwithoughrlando #pulseshooting #orlandoshooting #bigood gameerproblemiss #selfish #heabreaking   #values #love #dollar</td>\n",
       "      <td>we are so selfish. #orlando #standwithoughrlando #pulseshooting #orlandoshooting #bigood gameerproblemiss #selfish #heabreaking   #values #love #dollar</td>\n",
       "      <td>we are so selfish orlando standwithoughrlando pulseshooting orlandoshooting bigood gameerproblemiss selfish heabreaking   values love dollar</td>\n",
       "    </tr>\n",
       "    <tr>\n",
       "      <th>12</th>\n",
       "      <td>0</td>\n",
       "      <td>i get to see my daddy today!!   #80days #gettingfed</td>\n",
       "      <td>i get to see my daddy today!!   #80days #gettingfed</td>\n",
       "      <td>i get to see my daddy today!!   #80days #gettingfeddollar</td>\n",
       "      <td>i get to see my daddy today!!   #80days #gettingfeddollar</td>\n",
       "      <td>i get to see my daddy today   days gettingfeddollar</td>\n",
       "    </tr>\n",
       "    <tr>\n",
       "      <th>13</th>\n",
       "      <td>1</td>\n",
       "      <td>@user #cnn calls #michigan middle school 'build the wall' chant '' #tcot</td>\n",
       "      <td>@user #cnn calls #michigan middle school 'build the wall' chant '' #tcot</td>\n",
       "      <td>@user #cnn calls #mi seehigan middle school 'build the wall' chant '' #tcot  dollar</td>\n",
       "      <td>@user #cnn calls #mi seehigan middle school 'build the wall' chant '' #tcot  dollar</td>\n",
       "      <td>cnn calls mi seehigan middle school build the wall chant  tcot  dollar</td>\n",
       "    </tr>\n",
       "    <tr>\n",
       "      <th>14</th>\n",
       "      <td>1</td>\n",
       "      <td>no comment!  in #australia   #opkillingbay #seashepherd #helpcovedolphins #thecove  #helpcovedolphins</td>\n",
       "      <td>no comment!  in #australia   #opkillingbay #seashepherd #helpcovedolphins #thecove  #helpcovedolphins</td>\n",
       "      <td>no comment!  in #australia   #opkillingbay #seashepherd #helpcovedolphins #thecove  #helpcovedolphinsdollar</td>\n",
       "      <td>no comment!  in #australia   #opkillingbay #seashepherd #helpcovedolphins #thecove  #helpcovedolphinsdollar</td>\n",
       "      <td>no comment  in australia   opkillingbay seashepherd helpcovedolphins thecove  helpcovedolphinsdollar</td>\n",
       "    </tr>\n",
       "    <tr>\n",
       "      <th>15</th>\n",
       "      <td>0</td>\n",
       "      <td>ouch...junior is angry😐#got7 #junior #yugyoem   #omg</td>\n",
       "      <td>ouch...junior is angry😐#got7 #junior #yugyoem   #omg</td>\n",
       "      <td>ouch...junior is angry😐#got7 #junior #yugyoem   #oh my god dollar</td>\n",
       "      <td>ouch...junior is angry:neutral_face:#got7 #junior #yugyoem   #oh my god dollar</td>\n",
       "      <td>ouchjunior is angryneutralfacegot junior yugyoem   oh my god dollar</td>\n",
       "    </tr>\n",
       "    <tr>\n",
       "      <th>16</th>\n",
       "      <td>0</td>\n",
       "      <td>i am thankful for having a paner. #thankful #positive</td>\n",
       "      <td>i am thankful for having a paner. #thankful #positive</td>\n",
       "      <td>i am thankful for having a paner. #thankful #positthat is     dollar</td>\n",
       "      <td>i am thankful for having a paner. #thankful #positthat is     dollar</td>\n",
       "      <td>i am thankful for having a paner thankful positthat is     dollar</td>\n",
       "    </tr>\n",
       "    <tr>\n",
       "      <th>17</th>\n",
       "      <td>1</td>\n",
       "      <td>retweet if you agree!</td>\n",
       "      <td>retweet if you agree!</td>\n",
       "      <td>retweastern europer annumn tthat is if you agree! dollar</td>\n",
       "      <td>retweastern europer annumn tthat is if you agree! dollar</td>\n",
       "      <td>retweastern europer annumn tthat is if you agree dollar</td>\n",
       "    </tr>\n",
       "    <tr>\n",
       "      <th>18</th>\n",
       "      <td>0</td>\n",
       "      <td>its #friday! 😀 smiles all around via ig user: @user #cookies make people</td>\n",
       "      <td>its #friday! 😀 smiles all around via ig user: @user #cookies make people</td>\n",
       "      <td>its #friday! 😀 smthat iss all around via ig user: @user #cookthat iss make people   dollar</td>\n",
       "      <td>its #friday! :grinning_face: smthat iss all around via ig user: @user #cookthat iss make people   dollar</td>\n",
       "      <td>its friday grinningface smthat iss all around via ig user  cookthat iss make people   dollar</td>\n",
       "    </tr>\n",
       "    <tr>\n",
       "      <th>19</th>\n",
       "      <td>0</td>\n",
       "      <td>as we all know, essential oils are not made of chemicals.</td>\n",
       "      <td>as we all know, essential oils are not made of chemicals.</td>\n",
       "      <td>as we all know, essenthanks in advancel oils are not made of chemi seeals. dollar</td>\n",
       "      <td>as we all know, essenthanks in advancel oils are not made of chemi seeals. dollar</td>\n",
       "      <td>as we all know essenthanks in advancel oils are not made of chemi seeals dollar</td>\n",
       "    </tr>\n",
       "    <tr>\n",
       "      <th>20</th>\n",
       "      <td>0</td>\n",
       "      <td>#euro2016 people blaming ha for conceded goal was it fat rooney who gave away free kick knowing bale can hit them from there.</td>\n",
       "      <td>#euro2016 people blaming ha for conceded goal was it fat rooney who gave away free kick knowing bale can hit them from there.</td>\n",
       "      <td>#euro2016 people blaming ha for conceded goal was it fat rooney who gavenueaway free ki seek knowing bale can hit them from there.  dollar</td>\n",
       "      <td>#euro2016 people blaming ha for conceded goal was it fat rooney who gavenueaway free ki seek knowing bale can hit them from there.  dollar</td>\n",
       "      <td>euro people blaming ha for conceded goal was it fat rooney who gavenueaway free ki seek knowing bale can hit them from there  dollar</td>\n",
       "    </tr>\n",
       "    <tr>\n",
       "      <th>21</th>\n",
       "      <td>0</td>\n",
       "      <td>sad little dude..   #badday #coneofshame #cats #pissed #funny #laughs</td>\n",
       "      <td>sad little dude..   #badday #coneofshame #cats #pissed #funny #laughs</td>\n",
       "      <td>sad little dude..   #badday #coneofshame #cats #pissed #funny #laughs dollar</td>\n",
       "      <td>sad little dude..   #badday #coneofshame #cats #pissed #funny #laughs dollar</td>\n",
       "      <td>sad little dude   badday coneofshame cats pissed funny laughs dollar</td>\n",
       "    </tr>\n",
       "    <tr>\n",
       "      <th>22</th>\n",
       "      <td>0</td>\n",
       "      <td>product of the day: happy man #wine tool  who's   it's the #weekend? time to open up &amp;amp; drink up!</td>\n",
       "      <td>product of the day: happy man #wine tool  who's   it's the #weekend? time to open up &amp;amp; drink up!</td>\n",
       "      <td>product of the day: hapagesli seeationy man #wthat is tool  who's   it is the #weekend? tthat is to open up &amp;amp; drink up!dollar</td>\n",
       "      <td>product of the day: hapagesli seeationy man #wthat is tool  who's   it is the #weekend? tthat is to open up &amp;amp; drink up!dollar</td>\n",
       "      <td>product of the day hapagesli seeationy man wthat is tool  whos   it is the weekend tthat is to open up amp drink updollar</td>\n",
       "    </tr>\n",
       "    <tr>\n",
       "      <th>23</th>\n",
       "      <td>1</td>\n",
       "      <td>@user @user lumpy says i am a . prove it lumpy.</td>\n",
       "      <td>@user @user lumpy says i am a . prove it lumpy.</td>\n",
       "      <td>@user @user lumpy says i am a . prove it lumpy.dollar</td>\n",
       "      <td>@user @user lumpy says i am a . prove it lumpy.dollar</td>\n",
       "      <td>lumpy says i am a  prove it lumpydollar</td>\n",
       "    </tr>\n",
       "    <tr>\n",
       "      <th>24</th>\n",
       "      <td>0</td>\n",
       "      <td>@user #tgif   #ff to my #gamedev #indiedev #indiegamedev #squad! @user @user @user @user @user</td>\n",
       "      <td>@user #tgif   #ff to my #gamedev #indiedev #indiegamedev #squad! @user @user @user @user @user</td>\n",
       "      <td>@user #tgif   #ff to my #gamedev #indthat isdev #indthat isxampleamedev #squareuad! @user @user @user @user @userdollar</td>\n",
       "      <td>@user #tgif   #ff to my #gamedev #indthat isdev #indthat isxampleamedev #squareuad! @user @user @user @user @userdollar</td>\n",
       "      <td>tgif   ff to my gamedev indthat isdev indthat isxampleamedev squareuad     dollar</td>\n",
       "    </tr>\n",
       "    <tr>\n",
       "      <th>25</th>\n",
       "      <td>0</td>\n",
       "      <td>beautiful sign by vendor 80 for $45.00!! #upsideofflorida #shopalyssas   #love</td>\n",
       "      <td>beautiful sign by vendor 80 for $45.00!! #upsideofflorida #shopalyssas   #love</td>\n",
       "      <td>beautiful sigood nigheight by vendor 80 for $45.00!! #upostscripointthat isofflorida #shopalyssas   #love dollar</td>\n",
       "      <td>beautiful sigood nigheight by vendor 80 for $45.00!! #upostscripointthat isofflorida #shopalyssas   #love dollar</td>\n",
       "      <td>beautiful sigood nigheight by vendor  for  upostscripointthat isofflorida shopalyssas   love dollar</td>\n",
       "    </tr>\n",
       "    <tr>\n",
       "      <th>26</th>\n",
       "      <td>0</td>\n",
       "      <td>@user all #smiles when #media is   !! 😜😈 #pressconference in #antalya #turkey ! sunday #throwback  love! 😊😘❤️</td>\n",
       "      <td>@user all #smiles when #media is   !! 😜😈 #pressconference in #antalya #turkey ! sunday #throwback  love! 😊😘❤️</td>\n",
       "      <td>@user all #smthat iss when #media is   !! 😜😈 #pressconference in #antalya #turkey ! sunday #thoughurowelcome backefore chouristk  love! 😊😘❤️ dollar</td>\n",
       "      <td>@user all #smthat iss when #media is   !! :winking_face_with_tongue::smiling_face_with_horns: #pressconference in #antalya #turkey ! sunday #thoughurowelcome backefore chouristk  love! :smiling_face_with_smiling_eyes::face_blowing_a_kiss::red_heart: dollar</td>\n",
       "      <td>all smthat iss when media is    winkingfacewithtonguesmilingfacewithhorns pressconference in antalya turkey  sunday thoughurowelcome backefore chouristk  love smilingfacewithsmilingeyesfaceblowingakissredheart dollar</td>\n",
       "    </tr>\n",
       "    <tr>\n",
       "      <th>27</th>\n",
       "      <td>0</td>\n",
       "      <td>we had a great panel on the mediatization of the public service   #ica16</td>\n",
       "      <td>we had a great panel on the mediatization of the public service   #ica16</td>\n",
       "      <td>we had a great panel on the mediatization of the publi see servi seee   #i seea16dollar</td>\n",
       "      <td>we had a great panel on the mediatization of the publi see servi seee   #i seea16dollar</td>\n",
       "      <td>we had a great panel on the mediatization of the publi see servi seee   i seeadollar</td>\n",
       "    </tr>\n",
       "    <tr>\n",
       "      <th>28</th>\n",
       "      <td>0</td>\n",
       "      <td>happy father's day @user 💓💓💓💓</td>\n",
       "      <td>happy father's day @user 💓💓💓💓</td>\n",
       "      <td>hapagesli seeationy father's day @user 💓💓💓💓  dollar</td>\n",
       "      <td>hapagesli seeationy father's day @user :beating_heart::beating_heart::beating_heart::beating_heart:  dollar</td>\n",
       "      <td>hapagesli seeationy fathers day  beatingheartbeatingheartbeatingheartbeatingheart  dollar</td>\n",
       "    </tr>\n",
       "    <tr>\n",
       "      <th>29</th>\n",
       "      <td>0</td>\n",
       "      <td>50 people went to nightclub to have a good night and 1 man's actions means those people are lost to their families forever #rip#orlando</td>\n",
       "      <td>50 people went to nightclub to have a good night and 1 man's actions means those people are lost to their families forever #rip#orlando</td>\n",
       "      <td>50 people went to nigheightclub to havenuea good nigheight and 1 man's actions means thoughse people are lost to their familthat iss forever #rip#orlandodollar</td>\n",
       "      <td>50 people went to nigheightclub to havenuea good nigheight and 1 man's actions means thoughse people are lost to their familthat iss forever #rip#orlandodollar</td>\n",
       "      <td>people went to nigheightclub to havenuea good nigheight and  mans actions means thoughse people are lost to their familthat iss forever riporlandodollar</td>\n",
       "    </tr>\n",
       "    <tr>\n",
       "      <th>30</th>\n",
       "      <td>0</td>\n",
       "      <td>i have never had a chance to vote for a presidential candidate i was excited about and this cycle looks to be no different.</td>\n",
       "      <td>i have never had a chance to vote for a presidential candidate i was excited about and this cycle looks to be no different.</td>\n",
       "      <td>i havenuenever had a chance to vote for a presthat isnthanks in advancel candidate i was excthat isd aabout and this cycle looks to be no different.  dollar</td>\n",
       "      <td>i havenuenever had a chance to vote for a presthat isnthanks in advancel candidate i was excthat isd aabout and this cycle looks to be no different.  dollar</td>\n",
       "      <td>i havenuenever had a chance to vote for a presthat isnthanks in advancel candidate i was excthat isd aabout and this cycle looks to be no different  dollar</td>\n",
       "    </tr>\n",
       "    <tr>\n",
       "      <th>31</th>\n",
       "      <td>0</td>\n",
       "      <td>#alohafriday #time does #not #exist #positivevibes #hawaiian @user @user @user @user</td>\n",
       "      <td>#alohafriday #time does #not #exist #positivevibes #hawaiian @user @user @user @user</td>\n",
       "      <td>#alohafriday #tthat is does #not #exist #positthat isvthat iss #hawaiian @user @user @user @user dollar</td>\n",
       "      <td>#alohafriday #tthat is does #not #exist #positthat isvthat iss #hawaiian @user @user @user @user dollar</td>\n",
       "      <td>alohafriday tthat is does not exist positthat isvthat iss hawaiian     dollar</td>\n",
       "    </tr>\n",
       "    <tr>\n",
       "      <th>32</th>\n",
       "      <td>0</td>\n",
       "      <td>@user rip to the fellow nohern ireland fan who sadley passed away tonight!.. gawa, forever singing and cheering on fire</td>\n",
       "      <td>@user rip to the fellow nohern ireland fan who sadley passed away tonight!.. gawa, forever singing and cheering on fire</td>\n",
       "      <td>@user rip to the fellow nohern that island fan who sadley passed away tonigheight!.. gawa, forever singing and cheering on fthat is  dollar</td>\n",
       "      <td>@user rip to the fellow nohern that island fan who sadley passed away tonigheight!.. gawa, forever singing and cheering on fthat is  dollar</td>\n",
       "      <td>rip to the fellow nohern that island fan who sadley passed away tonigheight gawa forever singing and cheering on fthat is  dollar</td>\n",
       "    </tr>\n",
       "    <tr>\n",
       "      <th>33</th>\n",
       "      <td>0</td>\n",
       "      <td>it was a hard monday due to cloudy weather. disabling oxygen production for today. #goodnight #badmonday</td>\n",
       "      <td>it was a hard monday due to cloudy weather. disabling oxygen production for today. #goodnight #badmonday</td>\n",
       "      <td>it was a hard monday due to cloudy weather. disabling oxygen production for today. #goodnigheight #bed and breakfastefore middayonday  dollar</td>\n",
       "      <td>it was a hard monday due to cloudy weather. disabling oxygen production for today. #goodnigheight #bed and breakfastefore middayonday  dollar</td>\n",
       "      <td>it was a hard monday due to cloudy weather disabling oxygen production for today goodnigheight bed and breakfastefore middayonday  dollar</td>\n",
       "    </tr>\n",
       "    <tr>\n",
       "      <th>34</th>\n",
       "      <td>1</td>\n",
       "      <td>it's unbelievable that in the 21st century we'd need something like this. again. #neverump  #xenophobia</td>\n",
       "      <td>it's unbelievable that in the 21st century we'd need something like this. again. #neverump  #xenophobia</td>\n",
       "      <td>it is unbelthat isvable that in the 21st century we'd need something lthat is this. again. #neverump  #xenophobia dollar</td>\n",
       "      <td>it is unbelthat isvable that in the 21st century we'd need something lthat is this. again. #neverump  #xenophobia dollar</td>\n",
       "      <td>it is unbelthat isvable that in the st century wed need something lthat is this again neverump  xenophobia dollar</td>\n",
       "    </tr>\n",
       "    <tr>\n",
       "      <th>35</th>\n",
       "      <td>0</td>\n",
       "      <td>#taylorswift1989   bull up: you will dominate your bull and you will direct it whatever you want it to do. w</td>\n",
       "      <td>#taylorswift1989   bull up: you will dominate your bull and you will direct it whatever you want it to do. w</td>\n",
       "      <td>#taylorswthat iset989   bull up: you will dominate your bull and you will dthat isct it whatever you want it to do. w dollar</td>\n",
       "      <td>#taylorswthat iset989   bull up: you will dominate your bull and you will dthat isct it whatever you want it to do. w dollar</td>\n",
       "      <td>taylorswthat iset   bull up you will dominate your bull and you will dthat isct it whatever you want it to do w dollar</td>\n",
       "    </tr>\n",
       "    <tr>\n",
       "      <th>36</th>\n",
       "      <td>0</td>\n",
       "      <td>morning~~ #travelingram #dalat   #ripinkylife</td>\n",
       "      <td>morning~~ #travelingram #dalat   #ripinkylife</td>\n",
       "      <td>morning~~ #travenueingram #dalat   #ripinkylthat is dollar</td>\n",
       "      <td>morning~~ #travenueingram #dalat   #ripinkylthat is dollar</td>\n",
       "      <td>morning travenueingram dalat   ripinkylthat is dollar</td>\n",
       "    </tr>\n",
       "    <tr>\n",
       "      <th>37</th>\n",
       "      <td>0</td>\n",
       "      <td>@user once more only one word tells it all: #photoshop.  #enoughisenough #dontphotoshopeverything #wheresallthenaturalphotos</td>\n",
       "      <td>@user once more only one word tells it all: #photoshop.  #enoughisenough #dontphotoshopeverything #wheresallthenaturalphotos</td>\n",
       "      <td>@user once more only one word tells it all: #photoshop.  #enoughthat isnough #dontphotoshopeverything #wheresallthenaturalphotos  dollar</td>\n",
       "      <td>@user once more only one word tells it all: #photoshop.  #enoughthat isnough #dontphotoshopeverything #wheresallthenaturalphotos  dollar</td>\n",
       "      <td>once more only one word tells it all photoshop  enoughthat isnough dontphotoshopeverything wheresallthenaturalphotos  dollar</td>\n",
       "    </tr>\n",
       "    <tr>\n",
       "      <th>38</th>\n",
       "      <td>0</td>\n",
       "      <td>oh, #cedarpoint. waited 2 hours in the valravn line and it stopped working. we were so close.</td>\n",
       "      <td>oh, #cedarpoint. waited 2 hours in the valravn line and it stopped working. we were so close.</td>\n",
       "      <td>oh, #cedarpoint. wathat isd 2 hours in the valravn lthat is and it stopagesed working. we were so close.  dollar</td>\n",
       "      <td>oh, #cedarpoint. wathat isd 2 hours in the valravn lthat is and it stopagesed working. we were so close.  dollar</td>\n",
       "      <td>oh cedarpoint wathat isd  hours in the valravn lthat is and it stopagesed working we were so close  dollar</td>\n",
       "    </tr>\n",
       "    <tr>\n",
       "      <th>39</th>\n",
       "      <td>0</td>\n",
       "      <td>i am thankful for sunshine. #thankful #positive</td>\n",
       "      <td>i am thankful for sunshine. #thankful #positive</td>\n",
       "      <td>i am thankful for sunshthat is. #thankful #positthat is     dollar</td>\n",
       "      <td>i am thankful for sunshthat is. #thankful #positthat is     dollar</td>\n",
       "      <td>i am thankful for sunshthat is thankful positthat is     dollar</td>\n",
       "    </tr>\n",
       "    <tr>\n",
       "      <th>40</th>\n",
       "      <td>0</td>\n",
       "      <td>when you finally finish a book you've been working on for awhile...  #bookworm #ontothenextnovel</td>\n",
       "      <td>when you finally finish a book you've been working on for awhile...  #bookworm #ontothenextnovel</td>\n",
       "      <td>when you finally finish a book you havenuebeen working on for awhthat is...  #bookworm #ontothenextnovel dollar</td>\n",
       "      <td>when you finally finish a book you havenuebeen working on for awhthat is...  #bookworm #ontothenextnovel dollar</td>\n",
       "      <td>when you finally finish a book you havenuebeen working on for awhthat is  bookworm ontothenextnovel dollar</td>\n",
       "    </tr>\n",
       "    <tr>\n",
       "      <th>41</th>\n",
       "      <td>0</td>\n",
       "      <td>yup, being a knicks fan is hard, so its easier to just be an nba fan when the playoffs roll around 😎</td>\n",
       "      <td>yup, being a knicks fan is hard, so its easier to just be an nba fan when the playoffs roll around 😎</td>\n",
       "      <td>yup, being a kni seeks fan is hard, so its easthat isr to just be an nba fan when the per annumyoffs roll around 😎 dollar</td>\n",
       "      <td>yup, being a kni seeks fan is hard, so its easthat isr to just be an nba fan when the per annumyoffs roll around :smiling_face_with_sunglasses: dollar</td>\n",
       "      <td>yup being a kni seeks fan is hard so its easthat isr to just be an nba fan when the per annumyoffs roll around smilingfacewithsunglasses dollar</td>\n",
       "    </tr>\n",
       "    <tr>\n",
       "      <th>42</th>\n",
       "      <td>0</td>\n",
       "      <td>there is life after social networking. embrace each day. be</td>\n",
       "      <td>there is life after social networking. embrace each day. be</td>\n",
       "      <td>there is lthat is afeetr soriginal contententral intellthat isnce agencyl networking. embrace each day. be   dollar</td>\n",
       "      <td>there is lthat is afeetr soriginal contententral intellthat isnce agencyl networking. embrace each day. be   dollar</td>\n",
       "      <td>there is lthat is afeetr soriginal contententral intellthat isnce agencyl networking embrace each day be   dollar</td>\n",
       "    </tr>\n",
       "    <tr>\n",
       "      <th>43</th>\n",
       "      <td>0</td>\n",
       "      <td>my mom shares the same bihday as @user   bihday snake! see you this weekend 🙌🏼</td>\n",
       "      <td>my mom shares the same bihday as @user   bihday snake! see you this weekend 🙌🏼</td>\n",
       "      <td>my mom shares the same bihday as @user   bihday snake! see you this weekend 🙌🏼dollar</td>\n",
       "      <td>my mom shares the same bihday as @user   bihday snake! see you this weekend :raising_hands_medium-light_skin_tone:dollar</td>\n",
       "      <td>my mom shares the same bihday as    bihday snake see you this weekend raisinghandsmediumlightskintonedollar</td>\n",
       "    </tr>\n",
       "    <tr>\n",
       "      <th>44</th>\n",
       "      <td>0</td>\n",
       "      <td>lovely echeveria blooms#flowers #grow #gardening #iphonesia #bliss #blooms #basilicabotanica</td>\n",
       "      <td>lovely echeveria blooms#flowers #grow #gardening #iphonesia #bliss #blooms #basilicabotanica</td>\n",
       "      <td>lovely echeveria bloomiss#flowers #grow #gardening #iphonesia #bliss #bloomiss #basili seeabotani seea   dollar</td>\n",
       "      <td>lovely echeveria bloomiss#flowers #grow #gardening #iphonesia #bliss #bloomiss #basili seeabotani seea   dollar</td>\n",
       "      <td>lovely echeveria bloomissflowers grow gardening iphonesia bliss bloomiss basili seeabotani seea   dollar</td>\n",
       "    </tr>\n",
       "    <tr>\n",
       "      <th>45</th>\n",
       "      <td>0</td>\n",
       "      <td>i am amazing. #i_am #positive #affirmation</td>\n",
       "      <td>i am amazing. #i_am #positive #affirmation</td>\n",
       "      <td>i am amazing. #i_am #positthat is #affirmation     dollar</td>\n",
       "      <td>i am amazing. #i_am #positthat is #affirmation     dollar</td>\n",
       "      <td>i am amazing iam positthat is affirmation     dollar</td>\n",
       "    </tr>\n",
       "    <tr>\n",
       "      <th>46</th>\n",
       "      <td>0</td>\n",
       "      <td>#whenever im   and #something goes #wrong  |</td>\n",
       "      <td>#whenever im   and #something goes #wrong  |</td>\n",
       "      <td>#whenever im   and #something goes #wrong  |  dollar</td>\n",
       "      <td>#whenever im   and #something goes #wrong  |  dollar</td>\n",
       "      <td>whenever im   and something goes wrong    dollar</td>\n",
       "    </tr>\n",
       "    <tr>\n",
       "      <th>47</th>\n",
       "      <td>0</td>\n",
       "      <td>feeling blue #illustration</td>\n",
       "      <td>feeling blue #illustration</td>\n",
       "      <td>feeling blue #illustration   dollar</td>\n",
       "      <td>feeling blue #illustration   dollar</td>\n",
       "      <td>feeling blue illustration   dollar</td>\n",
       "    </tr>\n",
       "    <tr>\n",
       "      <th>48</th>\n",
       "      <td>0</td>\n",
       "      <td>the best pa about life is knowing who you are! 😊☀️🌼🌻  …</td>\n",
       "      <td>the best pa about life is knowing who you are! 😊☀️🌼🌻  …</td>\n",
       "      <td>the best pa aabout lthat is is knowing who you are! 😊☀️🌼🌻  … dollar</td>\n",
       "      <td>the best pa aabout lthat is is knowing who you are! :smiling_face_with_smiling_eyes::sun::blossom::sunflower:  … dollar</td>\n",
       "      <td>the best pa aabout lthat is is knowing who you are smilingfacewithsmilingeyessunblossomsunflower  … dollar</td>\n",
       "    </tr>\n",
       "    <tr>\n",
       "      <th>49</th>\n",
       "      <td>0</td>\n",
       "      <td>#abc2020 getting ready 2 remove the victums frm #pulseclub #prayfororlando</td>\n",
       "      <td>#abc2020 getting ready 2 remove the victums frm #pulseclub #prayfororlando</td>\n",
       "      <td>#abc2020 getting ready 2 remove the vi seetumiss frm #pulseclub #per annumyfororlando  dollar</td>\n",
       "      <td>#abc2020 getting ready 2 remove the vi seetumiss frm #pulseclub #per annumyfororlando  dollar</td>\n",
       "      <td>abc getting ready  remove the vi seetumiss frm pulseclub per annumyfororlando  dollar</td>\n",
       "    </tr>\n",
       "  </tbody>\n",
       "</table>\n",
       "</div>"
      ],
      "text/plain": [
       "    label  \\\n",
       "0       0   \n",
       "1       0   \n",
       "2       0   \n",
       "3       0   \n",
       "4       0   \n",
       "5       0   \n",
       "6       0   \n",
       "7       0   \n",
       "8       0   \n",
       "9       0   \n",
       "10      0   \n",
       "11      0   \n",
       "12      0   \n",
       "13      1   \n",
       "14      1   \n",
       "15      0   \n",
       "16      0   \n",
       "17      1   \n",
       "18      0   \n",
       "19      0   \n",
       "20      0   \n",
       "21      0   \n",
       "22      0   \n",
       "23      1   \n",
       "24      0   \n",
       "25      0   \n",
       "26      0   \n",
       "27      0   \n",
       "28      0   \n",
       "29      0   \n",
       "30      0   \n",
       "31      0   \n",
       "32      0   \n",
       "33      0   \n",
       "34      1   \n",
       "35      0   \n",
       "36      0   \n",
       "37      0   \n",
       "38      0   \n",
       "39      0   \n",
       "40      0   \n",
       "41      0   \n",
       "42      0   \n",
       "43      0   \n",
       "44      0   \n",
       "45      0   \n",
       "46      0   \n",
       "47      0   \n",
       "48      0   \n",
       "49      0   \n",
       "\n",
       "                                                                                                                                        tweet  \\\n",
       "0                                       @user when a father is dysfunctional and is so selfish he drags his kids into his dysfunction.   #run   \n",
       "1                  @user @user thanks for #lyft credit i can't use cause they don't offer wheelchair vans in pdx.    #disapointed #getthanked   \n",
       "2                                                                                                                         bihday your majesty   \n",
       "3                                                                              #model   i love u take with u all the time in ur📱!!! 😙😎👄👅💦💦💦     \n",
       "4                                                                                                      factsguide: society now    #motivation   \n",
       "5                        [2/2] huge fan fare and big talking before they leave. chaos and pay disputes when they get there. #allshowandnogo     \n",
       "6                                                                     @user camping tomorrow @user @user @user @user @user @user @user danny…   \n",
       "7   the next school year is the year for exams.😯 can't think about that 😭 #school #exams   #hate #imagine #actorslife #revolutionschool #girl   \n",
       "8                                                       we won!!! love the land!!! #allin #cavs #champions #cleveland #clevelandcavaliers  …    \n",
       "9                                                                                           @user @user welcome here !  i'm   it's so #gr8 !    \n",
       "10                               ↝ #ireland consumer price index (mom) climbed from previous 0.2% to 0.5% in may   #blog #silver #gold #forex   \n",
       "11      we are so selfish. #orlando #standwithorlando #pulseshooting #orlandoshooting #biggerproblems #selfish #heabreaking   #values #love #   \n",
       "12                                                                                        i get to see my daddy today!!   #80days #gettingfed   \n",
       "13                                                                 @user #cnn calls #michigan middle school 'build the wall' chant '' #tcot     \n",
       "14                                      no comment!  in #australia   #opkillingbay #seashepherd #helpcovedolphins #thecove  #helpcovedolphins   \n",
       "15                                                                                      ouch...junior is angry😐#got7 #junior #yugyoem   #omg    \n",
       "16                                                                                 i am thankful for having a paner. #thankful #positive        \n",
       "17                                                                                                                     retweet if you agree!    \n",
       "18                                                                its #friday! 😀 smiles all around via ig user: @user #cookies make people      \n",
       "19                                                                                 as we all know, essential oils are not made of chemicals.    \n",
       "20            #euro2016 people blaming ha for conceded goal was it fat rooney who gave away free kick knowing bale can hit them from there.     \n",
       "21                                                                     sad little dude..   #badday #coneofshame #cats #pissed #funny #laughs    \n",
       "22                                       product of the day: happy man #wine tool  who's   it's the #weekend? time to open up &amp; drink up!   \n",
       "23                                                                                            @user @user lumpy says i am a . prove it lumpy.   \n",
       "24                                             @user #tgif   #ff to my #gamedev #indiedev #indiegamedev #squad! @user @user @user @user @user   \n",
       "25                                                            beautiful sign by vendor 80 for $45.00!! #upsideofflorida #shopalyssas   #love    \n",
       "26                             @user all #smiles when #media is   !! 😜😈 #pressconference in #antalya #turkey ! sunday #throwback  love! 😊😘❤️    \n",
       "27                                                                   we had a great panel on the mediatization of the public service   #ica16   \n",
       "28                                                                                                            happy father's day @user 💓💓💓💓     \n",
       "29    50 people went to nightclub to have a good night and 1 man's actions means those people are lost to their families forever #rip#orlando   \n",
       "30              i have never had a chance to vote for a presidential candidate i was excited about and this cycle looks to be no different.     \n",
       "31                                                      #alohafriday #time does #not #exist #positivevibes #hawaiian @user @user @user @user    \n",
       "32                  @user rip to the fellow nohern ireland fan who sadley passed away tonight!.. gawa, forever singing and cheering on fire     \n",
       "33                                 it was a hard monday due to cloudy weather. disabling oxygen production for today. #goodnight #badmonday     \n",
       "34                                   it's unbelievable that in the 21st century we'd need something like this. again. #neverump  #xenophobia    \n",
       "35                              #taylorswift1989   bull up: you will dominate your bull and you will direct it whatever you want it to do. w    \n",
       "36                                                                                             morning~~ #travelingram #dalat   #ripinkylife    \n",
       "37             @user once more only one word tells it all: #photoshop.  #enoughisenough #dontphotoshopeverything #wheresallthenaturalphotos     \n",
       "38                                            oh, #cedarpoint. waited 2 hours in the valravn line and it stopped working. we were so close.     \n",
       "39                                                                                       i am thankful for sunshine. #thankful #positive        \n",
       "40                                          when you finally finish a book you've been working on for awhile...  #bookworm #ontothenextnovel    \n",
       "41                                      yup, being a knicks fan is hard, so its easier to just be an nba fan when the playoffs roll around 😎    \n",
       "42                                                                             there is life after social networking. embrace each day. be      \n",
       "43                                                             my mom shares the same bihday as @user   bihday snake! see you this weekend 🙌🏼   \n",
       "44                                            lovely echeveria blooms#flowers #grow #gardening #iphonesia #bliss #blooms #basilicabotanica      \n",
       "45                                                                                            i am amazing. #i_am #positive #affirmation        \n",
       "46                                                                                             #whenever im   and #something goes #wrong  |     \n",
       "47                                                                                                              feeling blue #illustration      \n",
       "48                                                                                   the best pa about life is knowing who you are! 😊☀️🌼🌻  …    \n",
       "49                                                               #abc2020 getting ready 2 remove the victums frm #pulseclub #prayfororlando     \n",
       "\n",
       "                                                                                                                          tweet_cleaned_step1  \\\n",
       "0                                       @user when a father is dysfunctional and is so selfish he drags his kids into his dysfunction.   #run   \n",
       "1                  @user @user thanks for #lyft credit i can't use cause they don't offer wheelchair vans in pdx.    #disapointed #getthanked   \n",
       "2                                                                                                                         bihday your majesty   \n",
       "3                                                                              #model   i love u take with u all the time in ur📱!!! 😙😎👄👅💦💦💦     \n",
       "4                                                                                                      factsguide: society now    #motivation   \n",
       "5                        [2/2] huge fan fare and big talking before they leave. chaos and pay disputes when they get there. #allshowandnogo     \n",
       "6                                                                     @user camping tomorrow @user @user @user @user @user @user @user danny…   \n",
       "7   the next school year is the year for exams.😯 can't think about that 😭 #school #exams   #hate #imagine #actorslife #revolutionschool #girl   \n",
       "8                                                       we won!!! love the land!!! #allin #cavs #champions #cleveland #clevelandcavaliers  …    \n",
       "9                                                                                           @user @user welcome here !  i'm   it's so #gr8 !    \n",
       "10                               ↝ #ireland consumer price index (mom) climbed from previous 0.2% to 0.5% in may   #blog #silver #gold #forex   \n",
       "11      we are so selfish. #orlando #standwithorlando #pulseshooting #orlandoshooting #biggerproblems #selfish #heabreaking   #values #love #   \n",
       "12                                                                                        i get to see my daddy today!!   #80days #gettingfed   \n",
       "13                                                                 @user #cnn calls #michigan middle school 'build the wall' chant '' #tcot     \n",
       "14                                      no comment!  in #australia   #opkillingbay #seashepherd #helpcovedolphins #thecove  #helpcovedolphins   \n",
       "15                                                                                      ouch...junior is angry😐#got7 #junior #yugyoem   #omg    \n",
       "16                                                                                 i am thankful for having a paner. #thankful #positive        \n",
       "17                                                                                                                     retweet if you agree!    \n",
       "18                                                                its #friday! 😀 smiles all around via ig user: @user #cookies make people      \n",
       "19                                                                                 as we all know, essential oils are not made of chemicals.    \n",
       "20            #euro2016 people blaming ha for conceded goal was it fat rooney who gave away free kick knowing bale can hit them from there.     \n",
       "21                                                                     sad little dude..   #badday #coneofshame #cats #pissed #funny #laughs    \n",
       "22                                       product of the day: happy man #wine tool  who's   it's the #weekend? time to open up &amp; drink up!   \n",
       "23                                                                                            @user @user lumpy says i am a . prove it lumpy.   \n",
       "24                                             @user #tgif   #ff to my #gamedev #indiedev #indiegamedev #squad! @user @user @user @user @user   \n",
       "25                                                            beautiful sign by vendor 80 for $45.00!! #upsideofflorida #shopalyssas   #love    \n",
       "26                             @user all #smiles when #media is   !! 😜😈 #pressconference in #antalya #turkey ! sunday #throwback  love! 😊😘❤️    \n",
       "27                                                                   we had a great panel on the mediatization of the public service   #ica16   \n",
       "28                                                                                                            happy father's day @user 💓💓💓💓     \n",
       "29    50 people went to nightclub to have a good night and 1 man's actions means those people are lost to their families forever #rip#orlando   \n",
       "30              i have never had a chance to vote for a presidential candidate i was excited about and this cycle looks to be no different.     \n",
       "31                                                      #alohafriday #time does #not #exist #positivevibes #hawaiian @user @user @user @user    \n",
       "32                  @user rip to the fellow nohern ireland fan who sadley passed away tonight!.. gawa, forever singing and cheering on fire     \n",
       "33                                 it was a hard monday due to cloudy weather. disabling oxygen production for today. #goodnight #badmonday     \n",
       "34                                   it's unbelievable that in the 21st century we'd need something like this. again. #neverump  #xenophobia    \n",
       "35                              #taylorswift1989   bull up: you will dominate your bull and you will direct it whatever you want it to do. w    \n",
       "36                                                                                             morning~~ #travelingram #dalat   #ripinkylife    \n",
       "37             @user once more only one word tells it all: #photoshop.  #enoughisenough #dontphotoshopeverything #wheresallthenaturalphotos     \n",
       "38                                            oh, #cedarpoint. waited 2 hours in the valravn line and it stopped working. we were so close.     \n",
       "39                                                                                       i am thankful for sunshine. #thankful #positive        \n",
       "40                                          when you finally finish a book you've been working on for awhile...  #bookworm #ontothenextnovel    \n",
       "41                                      yup, being a knicks fan is hard, so its easier to just be an nba fan when the playoffs roll around 😎    \n",
       "42                                                                             there is life after social networking. embrace each day. be      \n",
       "43                                                             my mom shares the same bihday as @user   bihday snake! see you this weekend 🙌🏼   \n",
       "44                                            lovely echeveria blooms#flowers #grow #gardening #iphonesia #bliss #blooms #basilicabotanica      \n",
       "45                                                                                            i am amazing. #i_am #positive #affirmation        \n",
       "46                                                                                             #whenever im   and #something goes #wrong  |     \n",
       "47                                                                                                              feeling blue #illustration      \n",
       "48                                                                                   the best pa about life is knowing who you are! 😊☀️🌼🌻  …    \n",
       "49                                                               #abc2020 getting ready 2 remove the victums frm #pulseclub #prayfororlando     \n",
       "\n",
       "                                                                                                                                                      tweet_cleaned_step2  \\\n",
       "0                                                             @user when a father is dysfunctional and is so selfish he drags his kids into his dysfunction.   #rundollar   \n",
       "1                                      @user @user thanks for #lyfeetcredit i can't use cause they do not offer wheelchair vans in pdx.    #disapointed #getthankeddollar   \n",
       "2                                                                                                                                             bihday your majestyardollar   \n",
       "3                                                                                                #model   i loveyoutake withyouall the tthat is in ur📱!!! 😙😎👄👅💦💦💦  dollar   \n",
       "4                                                                                                     factsguthat is: soriginal contentthat isty now    #motivationdollar   \n",
       "5                                      [2/2] huge fan fare and big talking before they leavenue chaos and pay disputes when they get there. #allshowandnoriginalo  dollar   \n",
       "6                                                                                           @user camping tomorrow @user @user @user @user @user @user @user danny…dollar   \n",
       "7   the next school year is the year for examiss.😯 can't think aabout that 😭 #school #examiss   #hate #imagthat is #actorslthat is #revolutionschool #gin real lifedollar   \n",
       "8                                                                        we won!!! love the land!!! #allin #cavs #champions #cleveland #clevelandcavalthat isrs  … dollar   \n",
       "9                                                                                                             @user @user welcome here !  i am   it is so #great ! dollar   \n",
       "10                                        ↝ #that island consumer pri seee index (mom) climbed from previous 0.2% to 0.5% in may   #bloriginal #silver #gold #forexdollar   \n",
       "11                we are so selfish. #orlando #standwithoughrlando #pulseshooting #orlandoshooting #bigood gameerproblemiss #selfish #heabreaking   #values #love #dollar   \n",
       "12                                                                                                              i get to see my daddy today!!   #80days #gettingfeddollar   \n",
       "13                                                                                    @user #cnn calls #mi seehigan middle school 'build the wall' chant '' #tcot  dollar   \n",
       "14                                                            no comment!  in #australia   #opkillingbay #seashepherd #helpcovedolphins #thecove  #helpcovedolphinsdollar   \n",
       "15                                                                                                      ouch...junior is angry😐#got7 #junior #yugyoem   #oh my god dollar   \n",
       "16                                                                                                   i am thankful for having a paner. #thankful #positthat is     dollar   \n",
       "17                                                                                                               retweastern europer annumn tthat is if you agree! dollar   \n",
       "18                                                                             its #friday! 😀 smthat iss all around via ig user: @user #cookthat iss make people   dollar   \n",
       "19                                                                                      as we all know, essenthanks in advancel oils are not made of chemi seeals. dollar   \n",
       "20                             #euro2016 people blaming ha for conceded goal was it fat rooney who gavenueaway free ki seek knowing bale can hit them from there.  dollar   \n",
       "21                                                                                           sad little dude..   #badday #coneofshame #cats #pissed #funny #laughs dollar   \n",
       "22                                      product of the day: hapagesli seeationy man #wthat is tool  who's   it is the #weekend? tthat is to open up &amp; drink up!dollar   \n",
       "23                                                                                                                  @user @user lumpy says i am a . prove it lumpy.dollar   \n",
       "24                                                @user #tgif   #ff to my #gamedev #indthat isdev #indthat isxampleamedev #squareuad! @user @user @user @user @userdollar   \n",
       "25                                                       beautiful sigood nigheight by vendor 80 for $45.00!! #upostscripointthat isofflorida #shopalyssas   #love dollar   \n",
       "26                    @user all #smthat iss when #media is   !! 😜😈 #pressconference in #antalya #turkey ! sunday #thoughurowelcome backefore chouristk  love! 😊😘❤️ dollar   \n",
       "27                                                                                we had a great panel on the mediatization of the publi see servi seee   #i seea16dollar   \n",
       "28                                                                                                                    hapagesli seeationy father's day @user 💓💓💓💓  dollar   \n",
       "29        50 people went to nigheightclub to havenuea good nigheight and 1 man's actions means thoughse people are lost to their familthat iss forever #rip#orlandodollar   \n",
       "30           i havenuenever had a chance to vote for a presthat isnthanks in advancel candidate i was excthat isd aabout and this cycle looks to be no different.  dollar   \n",
       "31                                                                #alohafriday #tthat is does #not #exist #positthat isvthat iss #hawaiian @user @user @user @user dollar   \n",
       "32                            @user rip to the fellow nohern that island fan who sadley passed away tonigheight!.. gawa, forever singing and cheering on fthat is  dollar   \n",
       "33                          it was a hard monday due to cloudy weather. disabling oxygen production for today. #goodnigheight #bed and breakfastefore middayonday  dollar   \n",
       "34                                               it is unbelthat isvable that in the 21st century we'd need something lthat is this. again. #neverump  #xenophobia dollar   \n",
       "35                                           #taylorswthat iset989   bull up: you will dominate your bull and you will dthat isct it whatever you want it to do. w dollar   \n",
       "36                                                                                                             morning~~ #travenueingram #dalat   #ripinkylthat is dollar   \n",
       "37                               @user once more only one word tells it all: #photoshop.  #enoughthat isnough #dontphotoshopeverything #wheresallthenaturalphotos  dollar   \n",
       "38                                                       oh, #cedarpoint. wathat isd 2 hours in the valravn lthat is and it stopagesed working. we were so close.  dollar   \n",
       "39                                                                                                     i am thankful for sunshthat is. #thankful #positthat is     dollar   \n",
       "40                                                        when you finally finish a book you havenuebeen working on for awhthat is...  #bookworm #ontothenextnovel dollar   \n",
       "41                                              yup, being a kni seeks fan is hard, so its easthat isr to just be an nba fan when the per annumyoffs roll around 😎 dollar   \n",
       "42                                                    there is lthat is afeetr soriginal contententral intellthat isnce agencyl networking. embrace each day. be   dollar   \n",
       "43                                                                                   my mom shares the same bihday as @user   bihday snake! see you this weekend 🙌🏼dollar   \n",
       "44                                                        lovely echeveria bloomiss#flowers #grow #gardening #iphonesia #bliss #bloomiss #basili seeabotani seea   dollar   \n",
       "45                                                                                                              i am amazing. #i_am #positthat is #affirmation     dollar   \n",
       "46                                                                                                                   #whenever im   and #something goes #wrong  |  dollar   \n",
       "47                                                                                                                                    feeling blue #illustration   dollar   \n",
       "48                                                                                                    the best pa aabout lthat is is knowing who you are! 😊☀️🌼🌻  … dollar   \n",
       "49                                                                          #abc2020 getting ready 2 remove the vi seetumiss frm #pulseclub #per annumyfororlando  dollar   \n",
       "\n",
       "                                                                                                                                                                                                                                                  tweet_cleaned_step3  \\\n",
       "0                                                                                                                                                         @user when a father is dysfunctional and is so selfish he drags his kids into his dysfunction.   #rundollar   \n",
       "1                                                                                                                                  @user @user thanks for #lyfeetcredit i can't use cause they do not offer wheelchair vans in pdx.    #disapointed #getthankeddollar   \n",
       "2                                                                                                                                                                                                                                         bihday your majestyardollar   \n",
       "3                                                         #model   i loveyoutake withyouall the tthat is in ur:mobile_phone:!!! :kissing_face_with_smiling_eyes::smiling_face_with_sunglasses::mouth::tongue::sweat_droplets::sweat_droplets::sweat_droplets:  dollar   \n",
       "4                                                                                                                                                                                                 factsguthat is: soriginal contentthat isty now    #motivationdollar   \n",
       "5                                                                                                                                  [2/2] huge fan fare and big talking before they leavenue chaos and pay disputes when they get there. #allshowandnoriginalo  dollar   \n",
       "6                                                                                                                                                                                       @user camping tomorrow @user @user @user @user @user @user @user danny…dollar   \n",
       "7                                                                the next school year is the year for examiss.:hushed_face: can't think aabout that :loudly_crying_face: #school #examiss   #hate #imagthat is #actorslthat is #revolutionschool #gin real lifedollar   \n",
       "8                                                                                                                                                                    we won!!! love the land!!! #allin #cavs #champions #cleveland #clevelandcavalthat isrs  … dollar   \n",
       "9                                                                                                                                                                                                         @user @user welcome here !  i am   it is so #great ! dollar   \n",
       "10                                                                                                                                    ↝ #that island consumer pri seee index (mom) climbed from previous 0.2% to 0.5% in may   #bloriginal #silver #gold #forexdollar   \n",
       "11                                                                                                            we are so selfish. #orlando #standwithoughrlando #pulseshooting #orlandoshooting #bigood gameerproblemiss #selfish #heabreaking   #values #love #dollar   \n",
       "12                                                                                                                                                                                                          i get to see my daddy today!!   #80days #gettingfeddollar   \n",
       "13                                                                                                                                                                                @user #cnn calls #mi seehigan middle school 'build the wall' chant '' #tcot  dollar   \n",
       "14                                                                                                                                                        no comment!  in #australia   #opkillingbay #seashepherd #helpcovedolphins #thecove  #helpcovedolphinsdollar   \n",
       "15                                                                                                                                                                                     ouch...junior is angry:neutral_face:#got7 #junior #yugyoem   #oh my god dollar   \n",
       "16                                                                                                                                                                                               i am thankful for having a paner. #thankful #positthat is     dollar   \n",
       "17                                                                                                                                                                                                           retweastern europer annumn tthat is if you agree! dollar   \n",
       "18                                                                                                                                                           its #friday! :grinning_face: smthat iss all around via ig user: @user #cookthat iss make people   dollar   \n",
       "19                                                                                                                                                                                  as we all know, essenthanks in advancel oils are not made of chemi seeals. dollar   \n",
       "20                                                                                                                         #euro2016 people blaming ha for conceded goal was it fat rooney who gavenueaway free ki seek knowing bale can hit them from there.  dollar   \n",
       "21                                                                                                                                                                                       sad little dude..   #badday #coneofshame #cats #pissed #funny #laughs dollar   \n",
       "22                                                                                                                                  product of the day: hapagesli seeationy man #wthat is tool  who's   it is the #weekend? tthat is to open up &amp; drink up!dollar   \n",
       "23                                                                                                                                                                                                              @user @user lumpy says i am a . prove it lumpy.dollar   \n",
       "24                                                                                                                                            @user #tgif   #ff to my #gamedev #indthat isdev #indthat isxampleamedev #squareuad! @user @user @user @user @userdollar   \n",
       "25                                                                                                                                                   beautiful sigood nigheight by vendor 80 for $45.00!! #upostscripointthat isofflorida #shopalyssas   #love dollar   \n",
       "26   @user all #smthat iss when #media is   !! :winking_face_with_tongue::smiling_face_with_horns: #pressconference in #antalya #turkey ! sunday #thoughurowelcome backefore chouristk  love! :smiling_face_with_smiling_eyes::face_blowing_a_kiss::red_heart: dollar   \n",
       "27                                                                                                                                                                            we had a great panel on the mediatization of the publi see servi seee   #i seea16dollar   \n",
       "28                                                                                                                                                        hapagesli seeationy father's day @user :beating_heart::beating_heart::beating_heart::beating_heart:  dollar   \n",
       "29                                                                                                    50 people went to nigheightclub to havenuea good nigheight and 1 man's actions means thoughse people are lost to their familthat iss forever #rip#orlandodollar   \n",
       "30                                                                                                       i havenuenever had a chance to vote for a presthat isnthanks in advancel candidate i was excthat isd aabout and this cycle looks to be no different.  dollar   \n",
       "31                                                                                                                                                            #alohafriday #tthat is does #not #exist #positthat isvthat iss #hawaiian @user @user @user @user dollar   \n",
       "32                                                                                                                        @user rip to the fellow nohern that island fan who sadley passed away tonigheight!.. gawa, forever singing and cheering on fthat is  dollar   \n",
       "33                                                                                                                      it was a hard monday due to cloudy weather. disabling oxygen production for today. #goodnigheight #bed and breakfastefore middayonday  dollar   \n",
       "34                                                                                                                                           it is unbelthat isvable that in the 21st century we'd need something lthat is this. again. #neverump  #xenophobia dollar   \n",
       "35                                                                                                                                       #taylorswthat iset989   bull up: you will dominate your bull and you will dthat isct it whatever you want it to do. w dollar   \n",
       "36                                                                                                                                                                                                         morning~~ #travenueingram #dalat   #ripinkylthat is dollar   \n",
       "37                                                                                                                           @user once more only one word tells it all: #photoshop.  #enoughthat isnough #dontphotoshopeverything #wheresallthenaturalphotos  dollar   \n",
       "38                                                                                                                                                   oh, #cedarpoint. wathat isd 2 hours in the valravn lthat is and it stopagesed working. we were so close.  dollar   \n",
       "39                                                                                                                                                                                                 i am thankful for sunshthat is. #thankful #positthat is     dollar   \n",
       "40                                                                                                                                                    when you finally finish a book you havenuebeen working on for awhthat is...  #bookworm #ontothenextnovel dollar   \n",
       "41                                                                                                             yup, being a kni seeks fan is hard, so its easthat isr to just be an nba fan when the per annumyoffs roll around :smiling_face_with_sunglasses: dollar   \n",
       "42                                                                                                                                                there is lthat is afeetr soriginal contententral intellthat isnce agencyl networking. embrace each day. be   dollar   \n",
       "43                                                                                                                                           my mom shares the same bihday as @user   bihday snake! see you this weekend :raising_hands_medium-light_skin_tone:dollar   \n",
       "44                                                                                                                                                    lovely echeveria bloomiss#flowers #grow #gardening #iphonesia #bliss #bloomiss #basili seeabotani seea   dollar   \n",
       "45                                                                                                                                                                                                          i am amazing. #i_am #positthat is #affirmation     dollar   \n",
       "46                                                                                                                                                                                                               #whenever im   and #something goes #wrong  |  dollar   \n",
       "47                                                                                                                                                                                                                                feeling blue #illustration   dollar   \n",
       "48                                                                                                                                            the best pa aabout lthat is is knowing who you are! :smiling_face_with_smiling_eyes::sun::blossom::sunflower:  … dollar   \n",
       "49                                                                                                                                                                      #abc2020 getting ready 2 remove the vi seetumiss frm #pulseclub #per annumyfororlando  dollar   \n",
       "\n",
       "                                                                                                                                                                                                           tweet_cleaned_step4  \n",
       "0                                                                                                                          when a father is dysfunctional and is so selfish he drags his kids into his dysfunction   rundollar  \n",
       "1                                                                                                            thanks for lyfeetcredit i cant use cause they do not offer wheelchair vans in pdx    disapointed getthankeddollar  \n",
       "2                                                                                                                                                                                                  bihday your majestyardollar  \n",
       "3                                                 model   i loveyoutake withyouall the tthat is in urmobilephone kissingfacewithsmilingeyessmilingfacewithsunglassesmouthtonguesweatdropletssweatdropletssweatdroplets  dollar  \n",
       "4                                                                                                                                                            factsguthat is soriginal contentthat isty now    motivationdollar  \n",
       "5                                                                                                   huge fan fare and big talking before they leavenue chaos and pay disputes when they get there allshowandnoriginalo  dollar  \n",
       "6                                                                                                                                                                                         camping tomorrow        danny…dollar  \n",
       "7                                         the next school year is the year for examisshushedface cant think aabout that loudlycryingface school examiss   hate imagthat is actorslthat is revolutionschool gin real lifedollar  \n",
       "8                                                                                                                                        we won love the land allin cavs champions cleveland clevelandcavalthat isrs  … dollar  \n",
       "9                                                                                                                                                                                 welcome here   i am   it is so great  dollar  \n",
       "10                                                                                                            ↝ that island consumer pri seee index mom climbed from previous  to  in may   bloriginal silver gold forexdollar  \n",
       "11                                                                                we are so selfish orlando standwithoughrlando pulseshooting orlandoshooting bigood gameerproblemiss selfish heabreaking   values love dollar  \n",
       "12                                                                                                                                                                         i get to see my daddy today   days gettingfeddollar  \n",
       "13                                                                                                                                                      cnn calls mi seehigan middle school build the wall chant  tcot  dollar  \n",
       "14                                                                                                                        no comment  in australia   opkillingbay seashepherd helpcovedolphins thecove  helpcovedolphinsdollar  \n",
       "15                                                                                                                                                         ouchjunior is angryneutralfacegot junior yugyoem   oh my god dollar  \n",
       "16                                                                                                                                                           i am thankful for having a paner thankful positthat is     dollar  \n",
       "17                                                                                                                                                                     retweastern europer annumn tthat is if you agree dollar  \n",
       "18                                                                                                                                its friday grinningface smthat iss all around via ig user  cookthat iss make people   dollar  \n",
       "19                                                                                                                                             as we all know essenthanks in advancel oils are not made of chemi seeals dollar  \n",
       "20                                                                                        euro people blaming ha for conceded goal was it fat rooney who gavenueaway free ki seek knowing bale can hit them from there  dollar  \n",
       "21                                                                                                                                                        sad little dude   badday coneofshame cats pissed funny laughs dollar  \n",
       "22                                                                                                   product of the day hapagesli seeationy man wthat is tool  whos   it is the weekend tthat is to open up amp drink updollar  \n",
       "23                                                                                                                                                                                     lumpy says i am a  prove it lumpydollar  \n",
       "24                                                                                                                                           tgif   ff to my gamedev indthat isdev indthat isxampleamedev squareuad     dollar  \n",
       "25                                                                                                                         beautiful sigood nigheight by vendor  for  upostscripointthat isofflorida shopalyssas   love dollar  \n",
       "26    all smthat iss when media is    winkingfacewithtonguesmilingfacewithhorns pressconference in antalya turkey  sunday thoughurowelcome backefore chouristk  love smilingfacewithsmilingeyesfaceblowingakissredheart dollar  \n",
       "27                                                                                                                                        we had a great panel on the mediatization of the publi see servi seee   i seeadollar  \n",
       "28                                                                                                                                   hapagesli seeationy fathers day  beatingheartbeatingheartbeatingheartbeatingheart  dollar  \n",
       "29                                                                    people went to nigheightclub to havenuea good nigheight and  mans actions means thoughse people are lost to their familthat iss forever riporlandodollar  \n",
       "30                                                                 i havenuenever had a chance to vote for a presthat isnthanks in advancel candidate i was excthat isd aabout and this cycle looks to be no different  dollar  \n",
       "31                                                                                                                                               alohafriday tthat is does not exist positthat isvthat iss hawaiian     dollar  \n",
       "32                                                                                           rip to the fellow nohern that island fan who sadley passed away tonigheight gawa forever singing and cheering on fthat is  dollar  \n",
       "33                                                                                   it was a hard monday due to cloudy weather disabling oxygen production for today goodnigheight bed and breakfastefore middayonday  dollar  \n",
       "34                                                                                                           it is unbelthat isvable that in the st century wed need something lthat is this again neverump  xenophobia dollar  \n",
       "35                                                                                                      taylorswthat iset   bull up you will dominate your bull and you will dthat isct it whatever you want it to do w dollar  \n",
       "36                                                                                                                                                                       morning travenueingram dalat   ripinkylthat is dollar  \n",
       "37                                                                                                once more only one word tells it all photoshop  enoughthat isnough dontphotoshopeverything wheresallthenaturalphotos  dollar  \n",
       "38                                                                                                                  oh cedarpoint wathat isd  hours in the valravn lthat is and it stopagesed working we were so close  dollar  \n",
       "39                                                                                                                                                             i am thankful for sunshthat is thankful positthat is     dollar  \n",
       "40                                                                                                                  when you finally finish a book you havenuebeen working on for awhthat is  bookworm ontothenextnovel dollar  \n",
       "41                                                                             yup being a kni seeks fan is hard so its easthat isr to just be an nba fan when the per annumyoffs roll around smilingfacewithsunglasses dollar  \n",
       "42                                                                                                           there is lthat is afeetr soriginal contententral intellthat isnce agencyl networking embrace each day be   dollar  \n",
       "43                                                                                                                 my mom shares the same bihday as    bihday snake see you this weekend raisinghandsmediumlightskintonedollar  \n",
       "44                                                                                                                    lovely echeveria bloomissflowers grow gardening iphonesia bliss bloomiss basili seeabotani seea   dollar  \n",
       "45                                                                                                                                                                        i am amazing iam positthat is affirmation     dollar  \n",
       "46                                                                                                                                                                            whenever im   and something goes wrong    dollar  \n",
       "47                                                                                                                                                                                          feeling blue illustration   dollar  \n",
       "48                                                                                                                  the best pa aabout lthat is is knowing who you are smilingfacewithsmilingeyessunblossomsunflower  … dollar  \n",
       "49                                                                                                                                       abc getting ready  remove the vi seetumiss frm pulseclub per annumyfororlando  dollar  "
      ]
     },
     "execution_count": 47,
     "metadata": {},
     "output_type": "execute_result"
    }
   ],
   "source": [
    "df.head(50)"
   ]
  },
  {
   "cell_type": "markdown",
   "metadata": {
    "collapsed": false
   },
   "source": [
    "#### Step 6: Stop-words entfernen"
   ]
  },
  {
   "cell_type": "code",
   "execution_count": 48,
   "metadata": {
    "ExecuteTime": {
     "end_time": "2024-10-23T20:14:45.833781500Z",
     "start_time": "2024-10-23T20:13:55.634104900Z"
    },
    "collapsed": false
   },
   "outputs": [],
   "source": [
    "df['tweet_cleaned_step5'] = df['tweet_cleaned_step4'].apply(lambda x: ' '.join([word for word in x.split() if word not in (stop_words)]))"
   ]
  },
  {
   "cell_type": "code",
   "execution_count": 49,
   "metadata": {
    "ExecuteTime": {
     "end_time": "2024-10-23T20:14:45.852782Z",
     "start_time": "2024-10-23T20:14:45.843782400Z"
    },
    "collapsed": false
   },
   "outputs": [
    {
     "data": {
      "text/html": [
       "<div>\n",
       "<style scoped>\n",
       "    .dataframe tbody tr th:only-of-type {\n",
       "        vertical-align: middle;\n",
       "    }\n",
       "\n",
       "    .dataframe tbody tr th {\n",
       "        vertical-align: top;\n",
       "    }\n",
       "\n",
       "    .dataframe thead th {\n",
       "        text-align: right;\n",
       "    }\n",
       "</style>\n",
       "<table border=\"1\" class=\"dataframe\">\n",
       "  <thead>\n",
       "    <tr style=\"text-align: right;\">\n",
       "      <th></th>\n",
       "      <th>label</th>\n",
       "      <th>tweet</th>\n",
       "      <th>tweet_cleaned_step1</th>\n",
       "      <th>tweet_cleaned_step2</th>\n",
       "      <th>tweet_cleaned_step3</th>\n",
       "      <th>tweet_cleaned_step4</th>\n",
       "      <th>tweet_cleaned_step5</th>\n",
       "    </tr>\n",
       "  </thead>\n",
       "  <tbody>\n",
       "    <tr>\n",
       "      <th>0</th>\n",
       "      <td>0</td>\n",
       "      <td>@user when a father is dysfunctional and is so selfish he drags his kids into his dysfunction.   #run</td>\n",
       "      <td>@user when a father is dysfunctional and is so selfish he drags his kids into his dysfunction.   #run</td>\n",
       "      <td>@user when a father is dysfunctional and is so selfish he drags his kids into his dysfunction.   #rundollar</td>\n",
       "      <td>@user when a father is dysfunctional and is so selfish he drags his kids into his dysfunction.   #rundollar</td>\n",
       "      <td>when a father is dysfunctional and is so selfish he drags his kids into his dysfunction   rundollar</td>\n",
       "      <td>father dysfunctional selfish drags kids dysfunction rundollar</td>\n",
       "    </tr>\n",
       "    <tr>\n",
       "      <th>1</th>\n",
       "      <td>0</td>\n",
       "      <td>@user @user thanks for #lyft credit i can't use cause they don't offer wheelchair vans in pdx.    #disapointed #getthanked</td>\n",
       "      <td>@user @user thanks for #lyft credit i can't use cause they don't offer wheelchair vans in pdx.    #disapointed #getthanked</td>\n",
       "      <td>@user @user thanks for #lyfeetcredit i can't use cause they do not offer wheelchair vans in pdx.    #disapointed #getthankeddollar</td>\n",
       "      <td>@user @user thanks for #lyfeetcredit i can't use cause they do not offer wheelchair vans in pdx.    #disapointed #getthankeddollar</td>\n",
       "      <td>thanks for lyfeetcredit i cant use cause they do not offer wheelchair vans in pdx    disapointed getthankeddollar</td>\n",
       "      <td>lyfeetcredit offer wheelchair vans pdx disapointed getthankeddollar</td>\n",
       "    </tr>\n",
       "    <tr>\n",
       "      <th>2</th>\n",
       "      <td>0</td>\n",
       "      <td>bihday your majesty</td>\n",
       "      <td>bihday your majesty</td>\n",
       "      <td>bihday your majestyardollar</td>\n",
       "      <td>bihday your majestyardollar</td>\n",
       "      <td>bihday your majestyardollar</td>\n",
       "      <td>bihday majestyardollar</td>\n",
       "    </tr>\n",
       "    <tr>\n",
       "      <th>3</th>\n",
       "      <td>0</td>\n",
       "      <td>#model   i love u take with u all the time in ur📱!!! 😙😎👄👅💦💦💦</td>\n",
       "      <td>#model   i love u take with u all the time in ur📱!!! 😙😎👄👅💦💦💦</td>\n",
       "      <td>#model   i loveyoutake withyouall the tthat is in ur📱!!! 😙😎👄👅💦💦💦  dollar</td>\n",
       "      <td>#model   i loveyoutake withyouall the tthat is in ur:mobile_phone:!!! :kissing_face_with_smiling_eyes::smiling_face_with_sunglasses::mouth::tongue::sweat_droplets::sweat_droplets::sweat_droplets:  dollar</td>\n",
       "      <td>model   i loveyoutake withyouall the tthat is in urmobilephone kissingfacewithsmilingeyessmilingfacewithsunglassesmouthtonguesweatdropletssweatdropletssweatdroplets  dollar</td>\n",
       "      <td>model loveyoutake withyouall tthat urmobilephone kissingfacewithsmilingeyessmilingfacewithsunglassesmouthtonguesweatdropletssweatdropletssweatdroplets dollar</td>\n",
       "    </tr>\n",
       "    <tr>\n",
       "      <th>4</th>\n",
       "      <td>0</td>\n",
       "      <td>factsguide: society now    #motivation</td>\n",
       "      <td>factsguide: society now    #motivation</td>\n",
       "      <td>factsguthat is: soriginal contentthat isty now    #motivationdollar</td>\n",
       "      <td>factsguthat is: soriginal contentthat isty now    #motivationdollar</td>\n",
       "      <td>factsguthat is soriginal contentthat isty now    motivationdollar</td>\n",
       "      <td>factsguthat soriginal contentthat isty motivationdollar</td>\n",
       "    </tr>\n",
       "  </tbody>\n",
       "</table>\n",
       "</div>"
      ],
      "text/plain": [
       "   label  \\\n",
       "0      0   \n",
       "1      0   \n",
       "2      0   \n",
       "3      0   \n",
       "4      0   \n",
       "\n",
       "                                                                                                                        tweet  \\\n",
       "0                       @user when a father is dysfunctional and is so selfish he drags his kids into his dysfunction.   #run   \n",
       "1  @user @user thanks for #lyft credit i can't use cause they don't offer wheelchair vans in pdx.    #disapointed #getthanked   \n",
       "2                                                                                                         bihday your majesty   \n",
       "3                                                              #model   i love u take with u all the time in ur📱!!! 😙😎👄👅💦💦💦     \n",
       "4                                                                                      factsguide: society now    #motivation   \n",
       "\n",
       "                                                                                                          tweet_cleaned_step1  \\\n",
       "0                       @user when a father is dysfunctional and is so selfish he drags his kids into his dysfunction.   #run   \n",
       "1  @user @user thanks for #lyft credit i can't use cause they don't offer wheelchair vans in pdx.    #disapointed #getthanked   \n",
       "2                                                                                                         bihday your majesty   \n",
       "3                                                              #model   i love u take with u all the time in ur📱!!! 😙😎👄👅💦💦💦     \n",
       "4                                                                                      factsguide: society now    #motivation   \n",
       "\n",
       "                                                                                                                  tweet_cleaned_step2  \\\n",
       "0                         @user when a father is dysfunctional and is so selfish he drags his kids into his dysfunction.   #rundollar   \n",
       "1  @user @user thanks for #lyfeetcredit i can't use cause they do not offer wheelchair vans in pdx.    #disapointed #getthankeddollar   \n",
       "2                                                                                                         bihday your majestyardollar   \n",
       "3                                                            #model   i loveyoutake withyouall the tthat is in ur📱!!! 😙😎👄👅💦💦💦  dollar   \n",
       "4                                                                 factsguthat is: soriginal contentthat isty now    #motivationdollar   \n",
       "\n",
       "                                                                                                                                                                                           tweet_cleaned_step3  \\\n",
       "0                                                                                                  @user when a father is dysfunctional and is so selfish he drags his kids into his dysfunction.   #rundollar   \n",
       "1                                                                           @user @user thanks for #lyfeetcredit i can't use cause they do not offer wheelchair vans in pdx.    #disapointed #getthankeddollar   \n",
       "2                                                                                                                                                                                  bihday your majestyardollar   \n",
       "3  #model   i loveyoutake withyouall the tthat is in ur:mobile_phone:!!! :kissing_face_with_smiling_eyes::smiling_face_with_sunglasses::mouth::tongue::sweat_droplets::sweat_droplets::sweat_droplets:  dollar   \n",
       "4                                                                                                                                          factsguthat is: soriginal contentthat isty now    #motivationdollar   \n",
       "\n",
       "                                                                                                                                                            tweet_cleaned_step4  \\\n",
       "0                                                                           when a father is dysfunctional and is so selfish he drags his kids into his dysfunction   rundollar   \n",
       "1                                                             thanks for lyfeetcredit i cant use cause they do not offer wheelchair vans in pdx    disapointed getthankeddollar   \n",
       "2                                                                                                                                                   bihday your majestyardollar   \n",
       "3  model   i loveyoutake withyouall the tthat is in urmobilephone kissingfacewithsmilingeyessmilingfacewithsunglassesmouthtonguesweatdropletssweatdropletssweatdroplets  dollar   \n",
       "4                                                                                                             factsguthat is soriginal contentthat isty now    motivationdollar   \n",
       "\n",
       "                                                                                                                                             tweet_cleaned_step5  \n",
       "0                                                                                                  father dysfunctional selfish drags kids dysfunction rundollar  \n",
       "1                                                                                            lyfeetcredit offer wheelchair vans pdx disapointed getthankeddollar  \n",
       "2                                                                                                                                         bihday majestyardollar  \n",
       "3  model loveyoutake withyouall tthat urmobilephone kissingfacewithsmilingeyessmilingfacewithsunglassesmouthtonguesweatdropletssweatdropletssweatdroplets dollar  \n",
       "4                                                                                                        factsguthat soriginal contentthat isty motivationdollar  "
      ]
     },
     "execution_count": 49,
     "metadata": {},
     "output_type": "execute_result"
    }
   ],
   "source": [
    "df.head()"
   ]
  },
  {
   "cell_type": "markdown",
   "metadata": {
    "collapsed": false
   },
   "source": [
    "#### Step 7: Lemmatisierung/Stemming"
   ]
  },
  {
   "cell_type": "code",
   "execution_count": 50,
   "metadata": {
    "ExecuteTime": {
     "end_time": "2024-10-23T20:14:51.484781200Z",
     "start_time": "2024-10-23T20:14:45.851783400Z"
    },
    "collapsed": false
   },
   "outputs": [],
   "source": [
    "wordnet_lem = WordNetLemmatizer()\n",
    "df['tweet_cleaned_step6'] = df['tweet_cleaned_step5'].apply(wordnet_lem.lemmatize)"
   ]
  },
  {
   "cell_type": "code",
   "execution_count": 51,
   "metadata": {
    "ExecuteTime": {
     "end_time": "2024-10-23T20:14:51.505781200Z",
     "start_time": "2024-10-23T20:14:51.488782400Z"
    },
    "collapsed": false
   },
   "outputs": [
    {
     "data": {
      "text/html": [
       "<div>\n",
       "<style scoped>\n",
       "    .dataframe tbody tr th:only-of-type {\n",
       "        vertical-align: middle;\n",
       "    }\n",
       "\n",
       "    .dataframe tbody tr th {\n",
       "        vertical-align: top;\n",
       "    }\n",
       "\n",
       "    .dataframe thead th {\n",
       "        text-align: right;\n",
       "    }\n",
       "</style>\n",
       "<table border=\"1\" class=\"dataframe\">\n",
       "  <thead>\n",
       "    <tr style=\"text-align: right;\">\n",
       "      <th></th>\n",
       "      <th>label</th>\n",
       "      <th>tweet</th>\n",
       "      <th>tweet_cleaned_step1</th>\n",
       "      <th>tweet_cleaned_step2</th>\n",
       "      <th>tweet_cleaned_step3</th>\n",
       "      <th>tweet_cleaned_step4</th>\n",
       "      <th>tweet_cleaned_step5</th>\n",
       "      <th>tweet_cleaned_step6</th>\n",
       "    </tr>\n",
       "  </thead>\n",
       "  <tbody>\n",
       "    <tr>\n",
       "      <th>0</th>\n",
       "      <td>0</td>\n",
       "      <td>@user when a father is dysfunctional and is so selfish he drags his kids into his dysfunction.   #run</td>\n",
       "      <td>@user when a father is dysfunctional and is so selfish he drags his kids into his dysfunction.   #run</td>\n",
       "      <td>@user when a father is dysfunctional and is so selfish he drags his kids into his dysfunction.   #rundollar</td>\n",
       "      <td>@user when a father is dysfunctional and is so selfish he drags his kids into his dysfunction.   #rundollar</td>\n",
       "      <td>when a father is dysfunctional and is so selfish he drags his kids into his dysfunction   rundollar</td>\n",
       "      <td>father dysfunctional selfish drags kids dysfunction rundollar</td>\n",
       "      <td>father dysfunctional selfish drags kids dysfunction rundollar</td>\n",
       "    </tr>\n",
       "    <tr>\n",
       "      <th>1</th>\n",
       "      <td>0</td>\n",
       "      <td>@user @user thanks for #lyft credit i can't use cause they don't offer wheelchair vans in pdx.    #disapointed #getthanked</td>\n",
       "      <td>@user @user thanks for #lyft credit i can't use cause they don't offer wheelchair vans in pdx.    #disapointed #getthanked</td>\n",
       "      <td>@user @user thanks for #lyfeetcredit i can't use cause they do not offer wheelchair vans in pdx.    #disapointed #getthankeddollar</td>\n",
       "      <td>@user @user thanks for #lyfeetcredit i can't use cause they do not offer wheelchair vans in pdx.    #disapointed #getthankeddollar</td>\n",
       "      <td>thanks for lyfeetcredit i cant use cause they do not offer wheelchair vans in pdx    disapointed getthankeddollar</td>\n",
       "      <td>lyfeetcredit offer wheelchair vans pdx disapointed getthankeddollar</td>\n",
       "      <td>lyfeetcredit offer wheelchair vans pdx disapointed getthankeddollar</td>\n",
       "    </tr>\n",
       "    <tr>\n",
       "      <th>2</th>\n",
       "      <td>0</td>\n",
       "      <td>bihday your majesty</td>\n",
       "      <td>bihday your majesty</td>\n",
       "      <td>bihday your majestyardollar</td>\n",
       "      <td>bihday your majestyardollar</td>\n",
       "      <td>bihday your majestyardollar</td>\n",
       "      <td>bihday majestyardollar</td>\n",
       "      <td>bihday majestyardollar</td>\n",
       "    </tr>\n",
       "    <tr>\n",
       "      <th>3</th>\n",
       "      <td>0</td>\n",
       "      <td>#model   i love u take with u all the time in ur📱!!! 😙😎👄👅💦💦💦</td>\n",
       "      <td>#model   i love u take with u all the time in ur📱!!! 😙😎👄👅💦💦💦</td>\n",
       "      <td>#model   i loveyoutake withyouall the tthat is in ur📱!!! 😙😎👄👅💦💦💦  dollar</td>\n",
       "      <td>#model   i loveyoutake withyouall the tthat is in ur:mobile_phone:!!! :kissing_face_with_smiling_eyes::smiling_face_with_sunglasses::mouth::tongue::sweat_droplets::sweat_droplets::sweat_droplets:  dollar</td>\n",
       "      <td>model   i loveyoutake withyouall the tthat is in urmobilephone kissingfacewithsmilingeyessmilingfacewithsunglassesmouthtonguesweatdropletssweatdropletssweatdroplets  dollar</td>\n",
       "      <td>model loveyoutake withyouall tthat urmobilephone kissingfacewithsmilingeyessmilingfacewithsunglassesmouthtonguesweatdropletssweatdropletssweatdroplets dollar</td>\n",
       "      <td>model loveyoutake withyouall tthat urmobilephone kissingfacewithsmilingeyessmilingfacewithsunglassesmouthtonguesweatdropletssweatdropletssweatdroplets dollar</td>\n",
       "    </tr>\n",
       "    <tr>\n",
       "      <th>4</th>\n",
       "      <td>0</td>\n",
       "      <td>factsguide: society now    #motivation</td>\n",
       "      <td>factsguide: society now    #motivation</td>\n",
       "      <td>factsguthat is: soriginal contentthat isty now    #motivationdollar</td>\n",
       "      <td>factsguthat is: soriginal contentthat isty now    #motivationdollar</td>\n",
       "      <td>factsguthat is soriginal contentthat isty now    motivationdollar</td>\n",
       "      <td>factsguthat soriginal contentthat isty motivationdollar</td>\n",
       "      <td>factsguthat soriginal contentthat isty motivationdollar</td>\n",
       "    </tr>\n",
       "  </tbody>\n",
       "</table>\n",
       "</div>"
      ],
      "text/plain": [
       "   label  \\\n",
       "0      0   \n",
       "1      0   \n",
       "2      0   \n",
       "3      0   \n",
       "4      0   \n",
       "\n",
       "                                                                                                                        tweet  \\\n",
       "0                       @user when a father is dysfunctional and is so selfish he drags his kids into his dysfunction.   #run   \n",
       "1  @user @user thanks for #lyft credit i can't use cause they don't offer wheelchair vans in pdx.    #disapointed #getthanked   \n",
       "2                                                                                                         bihday your majesty   \n",
       "3                                                              #model   i love u take with u all the time in ur📱!!! 😙😎👄👅💦💦💦     \n",
       "4                                                                                      factsguide: society now    #motivation   \n",
       "\n",
       "                                                                                                          tweet_cleaned_step1  \\\n",
       "0                       @user when a father is dysfunctional and is so selfish he drags his kids into his dysfunction.   #run   \n",
       "1  @user @user thanks for #lyft credit i can't use cause they don't offer wheelchair vans in pdx.    #disapointed #getthanked   \n",
       "2                                                                                                         bihday your majesty   \n",
       "3                                                              #model   i love u take with u all the time in ur📱!!! 😙😎👄👅💦💦💦     \n",
       "4                                                                                      factsguide: society now    #motivation   \n",
       "\n",
       "                                                                                                                  tweet_cleaned_step2  \\\n",
       "0                         @user when a father is dysfunctional and is so selfish he drags his kids into his dysfunction.   #rundollar   \n",
       "1  @user @user thanks for #lyfeetcredit i can't use cause they do not offer wheelchair vans in pdx.    #disapointed #getthankeddollar   \n",
       "2                                                                                                         bihday your majestyardollar   \n",
       "3                                                            #model   i loveyoutake withyouall the tthat is in ur📱!!! 😙😎👄👅💦💦💦  dollar   \n",
       "4                                                                 factsguthat is: soriginal contentthat isty now    #motivationdollar   \n",
       "\n",
       "                                                                                                                                                                                           tweet_cleaned_step3  \\\n",
       "0                                                                                                  @user when a father is dysfunctional and is so selfish he drags his kids into his dysfunction.   #rundollar   \n",
       "1                                                                           @user @user thanks for #lyfeetcredit i can't use cause they do not offer wheelchair vans in pdx.    #disapointed #getthankeddollar   \n",
       "2                                                                                                                                                                                  bihday your majestyardollar   \n",
       "3  #model   i loveyoutake withyouall the tthat is in ur:mobile_phone:!!! :kissing_face_with_smiling_eyes::smiling_face_with_sunglasses::mouth::tongue::sweat_droplets::sweat_droplets::sweat_droplets:  dollar   \n",
       "4                                                                                                                                          factsguthat is: soriginal contentthat isty now    #motivationdollar   \n",
       "\n",
       "                                                                                                                                                            tweet_cleaned_step4  \\\n",
       "0                                                                           when a father is dysfunctional and is so selfish he drags his kids into his dysfunction   rundollar   \n",
       "1                                                             thanks for lyfeetcredit i cant use cause they do not offer wheelchair vans in pdx    disapointed getthankeddollar   \n",
       "2                                                                                                                                                   bihday your majestyardollar   \n",
       "3  model   i loveyoutake withyouall the tthat is in urmobilephone kissingfacewithsmilingeyessmilingfacewithsunglassesmouthtonguesweatdropletssweatdropletssweatdroplets  dollar   \n",
       "4                                                                                                             factsguthat is soriginal contentthat isty now    motivationdollar   \n",
       "\n",
       "                                                                                                                                             tweet_cleaned_step5  \\\n",
       "0                                                                                                  father dysfunctional selfish drags kids dysfunction rundollar   \n",
       "1                                                                                            lyfeetcredit offer wheelchair vans pdx disapointed getthankeddollar   \n",
       "2                                                                                                                                         bihday majestyardollar   \n",
       "3  model loveyoutake withyouall tthat urmobilephone kissingfacewithsmilingeyessmilingfacewithsunglassesmouthtonguesweatdropletssweatdropletssweatdroplets dollar   \n",
       "4                                                                                                        factsguthat soriginal contentthat isty motivationdollar   \n",
       "\n",
       "                                                                                                                                             tweet_cleaned_step6  \n",
       "0                                                                                                  father dysfunctional selfish drags kids dysfunction rundollar  \n",
       "1                                                                                            lyfeetcredit offer wheelchair vans pdx disapointed getthankeddollar  \n",
       "2                                                                                                                                         bihday majestyardollar  \n",
       "3  model loveyoutake withyouall tthat urmobilephone kissingfacewithsmilingeyessmilingfacewithsunglassesmouthtonguesweatdropletssweatdropletssweatdroplets dollar  \n",
       "4                                                                                                        factsguthat soriginal contentthat isty motivationdollar  "
      ]
     },
     "execution_count": 51,
     "metadata": {},
     "output_type": "execute_result"
    }
   ],
   "source": [
    "df.head()"
   ]
  },
  {
   "cell_type": "markdown",
   "metadata": {
    "collapsed": false
   },
   "source": [
    "#### Step 8: Most frequent words"
   ]
  },
  {
   "cell_type": "code",
   "execution_count": 52,
   "metadata": {
    "ExecuteTime": {
     "end_time": "2024-10-23T20:14:51.704780300Z",
     "start_time": "2024-10-23T20:14:51.502783900Z"
    },
    "collapsed": false
   },
   "outputs": [],
   "source": [
    "def find_most_frequent_words(col):\n",
    "    cnt = Counter()\n",
    "    for text in col.values:\n",
    "        for word in text.split():\n",
    "            cnt[word] += 1\n",
    "\n",
    "    return cnt\n",
    "\n",
    "counter = find_most_frequent_words(df[\"tweet_cleaned_step6\"])\n",
    "temp = pd.DataFrame(counter.most_common(20))\n",
    "temp.columns = ['word', 'count']"
   ]
  },
  {
   "cell_type": "code",
   "execution_count": 53,
   "metadata": {
    "ExecuteTime": {
     "end_time": "2024-10-23T20:14:51.783780200Z",
     "start_time": "2024-10-23T20:14:51.662783500Z"
    },
    "collapsed": false
   },
   "outputs": [],
   "source": [
    "FREQWORDS = set([w for (w, wc) in counter.most_common(10)])\n",
    "def remove_freqwords(text):\n",
    "    return \" \".join([word for word in str(text).split() if word not in FREQWORDS])\n",
    "\n",
    "df[\"tweet_cleaned_step7\"] = df[\"tweet_cleaned_step6\"].apply(lambda text: remove_freqwords(text))"
   ]
  },
  {
   "cell_type": "markdown",
   "metadata": {
    "collapsed": false
   },
   "source": [
    "#### Step 9: Kontrolle Duplikate"
   ]
  },
  {
   "cell_type": "code",
   "execution_count": 54,
   "metadata": {
    "ExecuteTime": {
     "end_time": "2024-10-23T20:14:51.817781400Z",
     "start_time": "2024-10-23T20:14:51.772782800Z"
    },
    "collapsed": false
   },
   "outputs": [
    {
     "data": {
      "text/plain": [
       "1276"
      ]
     },
     "execution_count": 54,
     "metadata": {},
     "output_type": "execute_result"
    }
   ],
   "source": [
    "df[\"tweet_cleaned_step7\"].duplicated().sum()"
   ]
  },
  {
   "cell_type": "code",
   "execution_count": 55,
   "metadata": {
    "ExecuteTime": {
     "end_time": "2024-10-23T20:14:51.926780400Z",
     "start_time": "2024-10-23T20:14:51.788781800Z"
    },
    "collapsed": false
   },
   "outputs": [],
   "source": [
    "df.drop_duplicates(inplace=True)"
   ]
  },
  {
   "cell_type": "markdown",
   "metadata": {
    "collapsed": false
   },
   "source": [
    "#### Save preprocessed data"
   ]
  },
  {
   "cell_type": "code",
   "execution_count": 56,
   "metadata": {
    "ExecuteTime": {
     "end_time": "2024-10-23T20:14:51.975784300Z",
     "start_time": "2024-10-23T20:14:51.916780400Z"
    },
    "collapsed": false
   },
   "outputs": [
    {
     "name": "stderr",
     "output_type": "stream",
     "text": [
      "C:\\Users\\admin\\AppData\\Local\\Temp\\ipykernel_25592\\783176256.py:1: FutureWarning: In a future version of pandas all arguments of DataFrame.drop except for the argument 'labels' will be keyword-only.\n",
      "  df_cleaned = df.drop(df.columns.difference(['label','tweet','tweet_cleaned_step7']), 1)\n"
     ]
    },
    {
     "data": {
      "text/html": [
       "<div>\n",
       "<style scoped>\n",
       "    .dataframe tbody tr th:only-of-type {\n",
       "        vertical-align: middle;\n",
       "    }\n",
       "\n",
       "    .dataframe tbody tr th {\n",
       "        vertical-align: top;\n",
       "    }\n",
       "\n",
       "    .dataframe thead th {\n",
       "        text-align: right;\n",
       "    }\n",
       "</style>\n",
       "<table border=\"1\" class=\"dataframe\">\n",
       "  <thead>\n",
       "    <tr style=\"text-align: right;\">\n",
       "      <th></th>\n",
       "      <th>label</th>\n",
       "      <th>tweet</th>\n",
       "      <th>tweet_cleaned_step7</th>\n",
       "    </tr>\n",
       "  </thead>\n",
       "  <tbody>\n",
       "    <tr>\n",
       "      <th>0</th>\n",
       "      <td>0</td>\n",
       "      <td>@user when a father is dysfunctional and is so selfish he drags his kids into his dysfunction.   #run</td>\n",
       "      <td>father dysfunctional selfish drags kids dysfunction rundollar</td>\n",
       "    </tr>\n",
       "    <tr>\n",
       "      <th>1</th>\n",
       "      <td>0</td>\n",
       "      <td>@user @user thanks for #lyft credit i can't use cause they don't offer wheelchair vans in pdx.    #disapointed #getthanked</td>\n",
       "      <td>lyfeetcredit offer wheelchair vans pdx disapointed getthankeddollar</td>\n",
       "    </tr>\n",
       "    <tr>\n",
       "      <th>2</th>\n",
       "      <td>0</td>\n",
       "      <td>bihday your majesty</td>\n",
       "      <td>bihday majestyardollar</td>\n",
       "    </tr>\n",
       "    <tr>\n",
       "      <th>3</th>\n",
       "      <td>0</td>\n",
       "      <td>#model   i love u take with u all the time in ur📱!!! 😙😎👄👅💦💦💦</td>\n",
       "      <td>model loveyoutake withyouall urmobilephone kissingfacewithsmilingeyessmilingfacewithsunglassesmouthtonguesweatdropletssweatdropletssweatdroplets</td>\n",
       "    </tr>\n",
       "    <tr>\n",
       "      <th>4</th>\n",
       "      <td>0</td>\n",
       "      <td>factsguide: society now    #motivation</td>\n",
       "      <td>factsguthat soriginal contentthat isty motivationdollar</td>\n",
       "    </tr>\n",
       "    <tr>\n",
       "      <th>...</th>\n",
       "      <td>...</td>\n",
       "      <td>...</td>\n",
       "      <td>...</td>\n",
       "    </tr>\n",
       "    <tr>\n",
       "      <th>95</th>\n",
       "      <td>0</td>\n",
       "      <td>couple having sex fat naked japanese girls</td>\n",
       "      <td>couple sex fat naked japanese gin lifes</td>\n",
       "    </tr>\n",
       "    <tr>\n",
       "      <th>96</th>\n",
       "      <td>0</td>\n",
       "      <td>#hump on that    #hump day #humpers😩 @ edwardsville, pennsylvania</td>\n",
       "      <td>hump hump humperswearyface edwardsville pennsylvania</td>\n",
       "    </tr>\n",
       "    <tr>\n",
       "      <th>97</th>\n",
       "      <td>0</td>\n",
       "      <td>personalised we... gbp 7.99 get here:  #shop #cool   #home #fun</td>\n",
       "      <td>personalthat gbp shop cool home fun</td>\n",
       "    </tr>\n",
       "    <tr>\n",
       "      <th>98</th>\n",
       "      <td>0</td>\n",
       "      <td>there are some truly sick ppl out there.</td>\n",
       "      <td>seek pagesl</td>\n",
       "    </tr>\n",
       "    <tr>\n",
       "      <th>99</th>\n",
       "      <td>0</td>\n",
       "      <td>trump calling on obama to resign over the orlando shootings? the boy has a point. 8 years and all he did was \"talk\" about change.</td>\n",
       "      <td>trump calling obama resigood nigheight orlando shootings boy point years talk aabout change</td>\n",
       "    </tr>\n",
       "  </tbody>\n",
       "</table>\n",
       "<p>100 rows × 3 columns</p>\n",
       "</div>"
      ],
      "text/plain": [
       "    label  \\\n",
       "0       0   \n",
       "1       0   \n",
       "2       0   \n",
       "3       0   \n",
       "4       0   \n",
       "..    ...   \n",
       "95      0   \n",
       "96      0   \n",
       "97      0   \n",
       "98      0   \n",
       "99      0   \n",
       "\n",
       "                                                                                                                                  tweet  \\\n",
       "0                                 @user when a father is dysfunctional and is so selfish he drags his kids into his dysfunction.   #run   \n",
       "1            @user @user thanks for #lyft credit i can't use cause they don't offer wheelchair vans in pdx.    #disapointed #getthanked   \n",
       "2                                                                                                                   bihday your majesty   \n",
       "3                                                                        #model   i love u take with u all the time in ur📱!!! 😙😎👄👅💦💦💦     \n",
       "4                                                                                                factsguide: society now    #motivation   \n",
       "..                                                                                                                                  ...   \n",
       "95                                                                                         couple having sex fat naked japanese girls     \n",
       "96                                                                   #hump on that    #hump day #humpers😩 @ edwardsville, pennsylvania    \n",
       "97                                                                     personalised we... gbp 7.99 get here:  #shop #cool   #home #fun    \n",
       "98                                                                                          there are some truly sick ppl out there.      \n",
       "99  trump calling on obama to resign over the orlando shootings? the boy has a point. 8 years and all he did was \"talk\" about change.     \n",
       "\n",
       "                                                                                                                                 tweet_cleaned_step7  \n",
       "0                                                                                      father dysfunctional selfish drags kids dysfunction rundollar  \n",
       "1                                                                                lyfeetcredit offer wheelchair vans pdx disapointed getthankeddollar  \n",
       "2                                                                                                                             bihday majestyardollar  \n",
       "3   model loveyoutake withyouall urmobilephone kissingfacewithsmilingeyessmilingfacewithsunglassesmouthtonguesweatdropletssweatdropletssweatdroplets  \n",
       "4                                                                                            factsguthat soriginal contentthat isty motivationdollar  \n",
       "..                                                                                                                                               ...  \n",
       "95                                                                                                           couple sex fat naked japanese gin lifes  \n",
       "96                                                                                              hump hump humperswearyface edwardsville pennsylvania  \n",
       "97                                                                                                               personalthat gbp shop cool home fun  \n",
       "98                                                                                                                                       seek pagesl  \n",
       "99                                                       trump calling obama resigood nigheight orlando shootings boy point years talk aabout change  \n",
       "\n",
       "[100 rows x 3 columns]"
      ]
     },
     "execution_count": 56,
     "metadata": {},
     "output_type": "execute_result"
    }
   ],
   "source": [
    "df_cleaned = df.drop(df.columns.difference(['label','tweet','tweet_cleaned_step7']), 1)\n",
    "df_cleaned.rename(columns={\"tweet_cleaned_step7\": \"tweet_clean\"})\n",
    "df_cleaned.head(100)"
   ]
  },
  {
   "cell_type": "code",
   "execution_count": 57,
   "metadata": {
    "ExecuteTime": {
     "end_time": "2024-10-23T20:14:52.128780500Z",
     "start_time": "2024-10-23T20:14:51.947780900Z"
    },
    "collapsed": false
   },
   "outputs": [
    {
     "name": "stdout",
     "output_type": "stream",
     "text": [
      "label                  29503\n",
      "tweet                  29503\n",
      "tweet_cleaned_step7    29503\n",
      "dtype: int64\n",
      "label    31962\n",
      "tweet    31962\n",
      "dtype: int64\n",
      "label                 -2459.0\n",
      "tweet                 -2459.0\n",
      "tweet_cleaned_step7       NaN\n",
      "dtype: float64\n",
      "label                 -7.693511\n",
      "tweet                 -7.693511\n",
      "tweet_cleaned_step7         NaN\n",
      "dtype: float64\n"
     ]
    }
   ],
   "source": [
    "print(df_cleaned.count())\n",
    "print(df_raw_train.count())\n",
    "print(df_cleaned.count() - df_raw_train.count())\n",
    "print((df_cleaned.count() / df_raw_train.count() - 1) * 100)"
   ]
  },
  {
   "cell_type": "code",
   "execution_count": 58,
   "metadata": {
    "ExecuteTime": {
     "end_time": "2024-10-23T20:14:52.132780500Z",
     "start_time": "2024-10-23T20:14:52.029785600Z"
    },
    "collapsed": false
   },
   "outputs": [],
   "source": [
    "filepath = Path(\"data/train_cleaned_preprocessed.csv\")\n",
    "filepath.parent.mkdir(parents=True, exist_ok=True)"
   ]
  },
  {
   "cell_type": "code",
   "execution_count": 59,
   "metadata": {
    "ExecuteTime": {
     "end_time": "2024-10-23T20:14:52.294779600Z",
     "start_time": "2024-10-23T20:14:52.054782700Z"
    },
    "collapsed": false
   },
   "outputs": [],
   "source": [
    "df_cleaned.to_csv(filepath)"
   ]
  },
  {
   "cell_type": "markdown",
   "metadata": {
    "collapsed": false
   },
   "source": [
    "### EDA"
   ]
  },
  {
   "cell_type": "code",
   "execution_count": 60,
   "metadata": {
    "ExecuteTime": {
     "end_time": "2024-10-23T20:14:52.294779600Z",
     "start_time": "2024-10-23T20:14:52.266786100Z"
    },
    "collapsed": false
   },
   "outputs": [],
   "source": [
    "df = df_cleaned.copy()"
   ]
  },
  {
   "cell_type": "code",
   "execution_count": 61,
   "metadata": {
    "ExecuteTime": {
     "end_time": "2024-10-23T20:14:52.534780500Z",
     "start_time": "2024-10-23T20:14:52.283781300Z"
    },
    "collapsed": false
   },
   "outputs": [],
   "source": [
    "df[\"char_count\"] = df[\"tweet\"].str.len()\n",
    "df[\"word_count\"] = df[\"tweet\"].str.split().str.len()"
   ]
  },
  {
   "cell_type": "code",
   "execution_count": 62,
   "metadata": {
    "ExecuteTime": {
     "end_time": "2024-10-23T20:14:52.872782400Z",
     "start_time": "2024-10-23T20:14:52.524784100Z"
    },
    "collapsed": false
   },
   "outputs": [
    {
     "data": {
      "text/plain": [
       "<Axes: >"
      ]
     },
     "execution_count": 62,
     "metadata": {},
     "output_type": "execute_result"
    },
    {
     "data": {
      "image/png": "[encoded data removed]",
      "text/plain": [
       "<Figure size 640x480 with 2 Axes>"
      ]
     },
     "metadata": {},
     "output_type": "display_data"
    }
   ],
   "source": [
    "sns.heatmap(df.corr(numeric_only=True), annot=True, vmin=-1, vmax=1, cmap=\"coolwarm\")"
   ]
  },
  {
   "cell_type": "markdown",
   "metadata": {
    "collapsed": false
   },
   "source": [
    "#### Targetanalyse"
   ]
  },
  {
   "cell_type": "code",
   "execution_count": 63,
   "metadata": {
    "ExecuteTime": {
     "end_time": "2024-10-23T20:14:52.955781100Z",
     "start_time": "2024-10-23T20:14:52.874781900Z"
    },
    "collapsed": false
   },
   "outputs": [
    {
     "data": {
      "text/plain": [
       "0    27491\n",
       "1     2012\n",
       "Name: label, dtype: int64"
      ]
     },
     "execution_count": 63,
     "metadata": {},
     "output_type": "execute_result"
    }
   ],
   "source": [
    "df[\"label\"].value_counts()"
   ]
  },
  {
   "cell_type": "code",
   "execution_count": 64,
   "metadata": {
    "ExecuteTime": {
     "end_time": "2024-10-23T20:14:53.205783200Z",
     "start_time": "2024-10-23T20:14:52.891781200Z"
    },
    "collapsed": false
   },
   "outputs": [
    {
     "data": {
      "image/png": "[encoded data removed]",
      "text/plain": [
       "<Figure size 640x480 with 1 Axes>"
      ]
     },
     "metadata": {},
     "output_type": "display_data"
    }
   ],
   "source": [
    "sns.histplot(df[\"label\"])\n",
    "plt.grid()\n",
    "plt.show()"
   ]
  },
  {
   "cell_type": "markdown",
   "metadata": {
    "collapsed": false
   },
   "source": [
    "#### Featureanalyse"
   ]
  },
  {
   "cell_type": "code",
   "execution_count": 65,
   "metadata": {
    "ExecuteTime": {
     "end_time": "2024-10-23T20:14:53.653782500Z",
     "start_time": "2024-10-23T20:14:53.207784200Z"
    },
    "collapsed": false
   },
   "outputs": [
    {
     "data": {
      "text/plain": [
       "<Axes: xlabel='word_count', ylabel='Count'>"
      ]
     },
     "execution_count": 65,
     "metadata": {},
     "output_type": "execute_result"
    },
    {
     "data": {
      "image/png": "[encoded data removed]",
      "text/plain": [
       "<Figure size 640x480 with 1 Axes>"
      ]
     },
     "metadata": {},
     "output_type": "display_data"
    }
   ],
   "source": [
    "# Feature: Tweet - word-count\n",
    "sns.histplot(df[\"word_count\"])"
   ]
  },
  {
   "cell_type": "code",
   "execution_count": 66,
   "metadata": {
    "ExecuteTime": {
     "end_time": "2024-10-23T20:14:53.730783600Z",
     "start_time": "2024-10-23T20:14:53.656786400Z"
    },
    "collapsed": false
   },
   "outputs": [
    {
     "data": {
      "text/plain": [
       "count    29503.00000\n",
       "mean        13.23401\n",
       "std          5.53170\n",
       "min          2.00000\n",
       "25%          9.00000\n",
       "50%         13.00000\n",
       "75%         17.00000\n",
       "max         29.00000\n",
       "Name: word_count, dtype: float64"
      ]
     },
     "execution_count": 66,
     "metadata": {},
     "output_type": "execute_result"
    }
   ],
   "source": [
    "df.word_count.describe()"
   ]
  },
  {
   "cell_type": "code",
   "execution_count": 67,
   "metadata": {
    "ExecuteTime": {
     "end_time": "2024-10-23T20:14:54.116782300Z",
     "start_time": "2024-10-23T20:14:53.671781800Z"
    },
    "collapsed": false
   },
   "outputs": [
    {
     "data": {
      "text/plain": [
       "<Axes: xlabel='char_count', ylabel='Count'>"
      ]
     },
     "execution_count": 67,
     "metadata": {},
     "output_type": "execute_result"
    },
    {
     "data": {
      "image/png": "[encoded data removed]",
      "text/plain": [
       "<Figure size 640x480 with 1 Axes>"
      ]
     },
     "metadata": {},
     "output_type": "display_data"
    }
   ],
   "source": [
    "# Feature: Tweet - char-count\n",
    "sns.histplot(df[\"char_count\"])"
   ]
  },
  {
   "cell_type": "code",
   "execution_count": 68,
   "metadata": {
    "ExecuteTime": {
     "end_time": "2024-10-23T20:14:54.200781100Z",
     "start_time": "2024-10-23T20:14:54.119787100Z"
    },
    "collapsed": false
   },
   "outputs": [
    {
     "data": {
      "text/plain": [
       "count    29503.000000\n",
       "mean        82.956174\n",
       "std         29.383024\n",
       "min         10.000000\n",
       "25%         61.000000\n",
       "50%         87.000000\n",
       "75%        106.000000\n",
       "max        148.000000\n",
       "Name: char_count, dtype: float64"
      ]
     },
     "execution_count": 68,
     "metadata": {},
     "output_type": "execute_result"
    }
   ],
   "source": [
    "df.char_count.describe()"
   ]
  },
  {
   "cell_type": "markdown",
   "metadata": {
    "collapsed": false
   },
   "source": [
    "#### Feature x Target"
   ]
  },
  {
   "cell_type": "code",
   "execution_count": 69,
   "metadata": {
    "ExecuteTime": {
     "end_time": "2024-10-23T20:14:55.115780Z",
     "start_time": "2024-10-23T20:14:54.140780800Z"
    },
    "collapsed": false
   },
   "outputs": [
    {
     "data": {
      "image/png": "[encoded data removed]",
      "text/plain": [
       "<Figure size 1500x800 with 2 Axes>"
      ]
     },
     "metadata": {},
     "output_type": "display_data"
    }
   ],
   "source": [
    "#Character Count\n",
    "fig, (ax1, ax2) = plt.subplots(1, 2, figsize=(15, 8))\n",
    "\n",
    "# Positive Tweets\n",
    "ax1.hist(df[df['label'] == 0]['char_count'])\n",
    "ax1.set_title('No Hate-Speech')\n",
    "ax1.set_xlabel('Character Count')\n",
    "ax1.set_ylabel('Frequency')\n",
    "\n",
    "# Negative Tweets\n",
    "ax2.hist(df[df['label'] == 1]['char_count'])\n",
    "ax2.set_title('Hate-Speech')\n",
    "ax2.set_xlabel('Character Count')\n",
    "ax2.set_ylabel('Frequency')\n",
    "\n",
    "plt.suptitle('Count of Characters per Sentiment Category', fontsize=16)\n",
    "\n",
    "plt.tight_layout(rect=[0, 0, 1, 0.95])\n",
    "plt.show()"
   ]
  },
  {
   "cell_type": "code",
   "execution_count": 70,
   "metadata": {
    "ExecuteTime": {
     "end_time": "2024-10-23T20:14:56.218781200Z",
     "start_time": "2024-10-23T20:14:55.096781400Z"
    },
    "collapsed": false
   },
   "outputs": [
    {
     "data": {
      "image/png": "[encoded data removed]",
      "text/plain": [
       "<Figure size 1500x800 with 2 Axes>"
      ]
     },
     "metadata": {},
     "output_type": "display_data"
    }
   ],
   "source": [
    "# Word Count\n",
    "fig, (ax1, ax2) = plt.subplots(1, 2, figsize=(15, 8))\n",
    "\n",
    "# Positive Tweets\n",
    "ax1.hist(df[df['label'] == 0]['word_count'])\n",
    "ax1.set_title('Positive Tweets')\n",
    "ax1.set_xlabel('Word Count')\n",
    "ax1.set_ylabel('Frequency')\n",
    "\n",
    "# Negative Tweets\n",
    "ax2.hist(df[df['label'] == 1]['word_count'])\n",
    "ax2.set_title('Negative Tweets')\n",
    "ax2.set_xlabel('Word Count')\n",
    "ax2.set_ylabel('Frequency')\n",
    "\n",
    "plt.suptitle('Count of Words per Sentiment Category', fontsize=16)\n",
    "\n",
    "plt.tight_layout(rect=[0, 0, 1, 0.95])\n",
    "plt.show()"
   ]
  },
  {
   "cell_type": "code",
   "execution_count": 71,
   "metadata": {
    "ExecuteTime": {
     "end_time": "2024-10-23T20:14:58.776781Z",
     "start_time": "2024-10-23T20:14:56.217785100Z"
    },
    "collapsed": false
   },
   "outputs": [
    {
     "ename": "AttributeError",
     "evalue": "'DataFrame' object has no attribute 'no_sw_lem'",
     "output_type": "error",
     "traceback": [
      "\u001B[1;31m---------------------------------------------------------------------------\u001B[0m",
      "\u001B[1;31mAttributeError\u001B[0m                            Traceback (most recent call last)",
      "Cell \u001B[1;32mIn[71], line 2\u001B[0m\n\u001B[0;32m      1\u001B[0m \u001B[38;5;66;03m# Häufige Wörter (nach Bereinigung) bei HS\u001B[39;00m\n\u001B[1;32m----> 2\u001B[0m tweet_hs \u001B[38;5;241m=\u001B[39m \u001B[43mdf\u001B[49m\u001B[38;5;241;43m.\u001B[39;49m\u001B[43mno_sw_lem\u001B[49m[df\u001B[38;5;241m.\u001B[39mlabel \u001B[38;5;241m==\u001B[39m \u001B[38;5;241m1\u001B[39m]\n",
      "File \u001B[1;32m~\\anaconda3\\lib\\site-packages\\pandas\\core\\generic.py:5902\u001B[0m, in \u001B[0;36mNDFrame.__getattr__\u001B[1;34m(self, name)\u001B[0m\n\u001B[0;32m   5895\u001B[0m \u001B[38;5;28;01mif\u001B[39;00m (\n\u001B[0;32m   5896\u001B[0m     name \u001B[38;5;129;01mnot\u001B[39;00m \u001B[38;5;129;01min\u001B[39;00m \u001B[38;5;28mself\u001B[39m\u001B[38;5;241m.\u001B[39m_internal_names_set\n\u001B[0;32m   5897\u001B[0m     \u001B[38;5;129;01mand\u001B[39;00m name \u001B[38;5;129;01mnot\u001B[39;00m \u001B[38;5;129;01min\u001B[39;00m \u001B[38;5;28mself\u001B[39m\u001B[38;5;241m.\u001B[39m_metadata\n\u001B[0;32m   5898\u001B[0m     \u001B[38;5;129;01mand\u001B[39;00m name \u001B[38;5;129;01mnot\u001B[39;00m \u001B[38;5;129;01min\u001B[39;00m \u001B[38;5;28mself\u001B[39m\u001B[38;5;241m.\u001B[39m_accessors\n\u001B[0;32m   5899\u001B[0m     \u001B[38;5;129;01mand\u001B[39;00m \u001B[38;5;28mself\u001B[39m\u001B[38;5;241m.\u001B[39m_info_axis\u001B[38;5;241m.\u001B[39m_can_hold_identifiers_and_holds_name(name)\n\u001B[0;32m   5900\u001B[0m ):\n\u001B[0;32m   5901\u001B[0m     \u001B[38;5;28;01mreturn\u001B[39;00m \u001B[38;5;28mself\u001B[39m[name]\n\u001B[1;32m-> 5902\u001B[0m \u001B[38;5;28;01mreturn\u001B[39;00m \u001B[38;5;28;43mobject\u001B[39;49m\u001B[38;5;241;43m.\u001B[39;49m\u001B[38;5;21;43m__getattribute__\u001B[39;49m\u001B[43m(\u001B[49m\u001B[38;5;28;43mself\u001B[39;49m\u001B[43m,\u001B[49m\u001B[43m \u001B[49m\u001B[43mname\u001B[49m\u001B[43m)\u001B[49m\n",
      "\u001B[1;31mAttributeError\u001B[0m: 'DataFrame' object has no attribute 'no_sw_lem'"
     ]
    }
   ],
   "source": [
    "# Häufige Wörter (nach Bereinigung) bei HS\n",
    "tweet_hs = df.no_sw_lem[df.label == 1]"
   ]
  },
  {
   "cell_type": "code",
   "execution_count": null,
   "metadata": {
    "ExecuteTime": {
     "start_time": "2024-10-23T20:14:58.760785800Z"
    },
    "collapsed": false
   },
   "outputs": [],
   "source": [
    "cnt_hs = Counter()\n",
    "for text in tweet_hs.values:\n",
    "    for word in text.split():\n",
    "        cnt_hs[word] += 1\n",
    "cnt_hs.most_common(20)\n",
    "temp_hs = pd.DataFrame(cnt_hs.most_common(20))\n",
    "temp_hs.columns = ['word', 'count']\n",
    "temp_hs.head(20)"
   ]
  },
  {
   "cell_type": "code",
   "execution_count": null,
   "metadata": {
    "ExecuteTime": {
     "start_time": "2024-10-23T20:14:58.763781700Z"
    },
    "collapsed": false
   },
   "outputs": [],
   "source": [
    "sns.lineplot(data=temp_hs, y=temp_hs['word'], x=temp_hs['count'])\n",
    "plt.title(\"Top 10 most frequent words in non-HS (no sw + lem)\")"
   ]
  },
  {
   "cell_type": "code",
   "execution_count": null,
   "metadata": {
    "ExecuteTime": {
     "start_time": "2024-10-23T20:14:58.765788700Z"
    },
    "collapsed": false
   },
   "outputs": [],
   "source": [
    "# Häufige Wörter (nach Bereinigung) bei nicht-HS\n",
    "tweet_nohs = df.no_sw_lem[df.label == 0]"
   ]
  },
  {
   "cell_type": "code",
   "execution_count": null,
   "metadata": {
    "ExecuteTime": {
     "start_time": "2024-10-23T20:14:58.768782300Z"
    },
    "collapsed": false
   },
   "outputs": [],
   "source": [
    "cnt_nohs = Counter()\n",
    "for text in tweet_nohs.values:\n",
    "    for word in text.split():\n",
    "        cnt_nohs[word] += 1\n",
    "cnt_nohs.most_common(20)\n",
    "temp_nohs = pd.DataFrame(cnt_nohs.most_common(20))\n",
    "temp_nohs.columns = ['word', 'count']"
   ]
  },
  {
   "cell_type": "code",
   "execution_count": null,
   "metadata": {
    "ExecuteTime": {
     "start_time": "2024-10-23T20:14:58.771784900Z"
    },
    "collapsed": false
   },
   "outputs": [],
   "source": [
    "temp_nohs.head(20)"
   ]
  },
  {
   "cell_type": "code",
   "execution_count": null,
   "metadata": {
    "ExecuteTime": {
     "start_time": "2024-10-23T20:14:58.773785700Z"
    },
    "collapsed": false
   },
   "outputs": [],
   "source": [
    "fig, ax =plt.subplots(1,2, figsize=(15, 8))\n",
    "\n",
    "sns.lineplot(data=temp_nohs, y=temp_nohs['word'], x=temp_nohs['count'], ax=ax[0])\n",
    "plt.title(\"Top 10 most frequent words in non-HS tweet (no sw + lem)\")\n",
    "\n",
    "sns.lineplot(data=temp_hs, y=temp_hs['word'], x=temp_hs['count'], ax=ax[1])\n",
    "plt.title(\"Top 10 most frequent words in HS tweet (no sw + lem)\")"
   ]
  },
  {
   "cell_type": "code",
   "execution_count": null,
   "metadata": {
    "ExecuteTime": {
     "start_time": "2024-10-23T20:14:58.775781400Z"
    },
    "collapsed": false
   },
   "outputs": [],
   "source": []
  }
 ],
 "metadata": {
  "kernelspec": {
   "display_name": "Python 3",
   "language": "python",
   "name": "python3"
  },
  "language_info": {
   "codemirror_mode": {
    "name": "ipython",
    "version": 3
   },
   "file_extension": ".py",
   "mimetype": "text/x-python",
   "name": "python",
   "nbconvert_exporter": "python",
   "pygments_lexer": "ipython3",
   "version": "3.9.2"
  }
 },
 "nbformat": 4,
 "nbformat_minor": 0
}
