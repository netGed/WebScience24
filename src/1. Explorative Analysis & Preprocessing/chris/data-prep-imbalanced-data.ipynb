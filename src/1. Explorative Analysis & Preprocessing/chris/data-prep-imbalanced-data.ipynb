{
 "cells": [
  {
   "cell_type": "markdown",
   "source": [
    "#### Imports & Downloads"
   ],
   "metadata": {
    "collapsed": false
   }
  },
  {
   "cell_type": "code",
   "execution_count": 1,
   "outputs": [],
   "source": [
    "import pandas as pd\n",
    "import os\n",
    "from gensim.models import Word2Vec\n",
    "import numpy as np\n",
    "from imblearn.under_sampling import NearMiss, CondensedNearestNeighbour, NeighbourhoodCleaningRule\n",
    "from imblearn.over_sampling import SMOTE, BorderlineSMOTE, SVMSMOTE, ADASYN\n",
    "from imblearn.under_sampling import TomekLinks\n",
    "import time\n",
    "\n",
    "from collections import Counter\n",
    "from sklearn.metrics import precision_score, recall_score, f1_score, confusion_matrix, classification_report\n",
    "from sklearn import metrics\n",
    "from sklearn.model_selection import train_test_split\n",
    "from sklearn.model_selection import StratifiedShuffleSplit\n",
    "\n",
    "from sklearn.ensemble import RandomForestClassifier, StackingClassifier\n",
    "from imblearn.ensemble import BalancedRandomForestClassifier\n",
    "from xgboost import XGBClassifier\n",
    "from sklearn.svm import LinearSVC\n",
    "\n",
    "from catboost import CatBoostClassifier\n",
    "from lightgbm import LGBMClassifier"
   ],
   "metadata": {
    "collapsed": false,
    "ExecuteTime": {
     "end_time": "2024-11-11T19:43:37.442482300Z",
     "start_time": "2024-11-11T19:43:35.362522900Z"
    }
   }
  },
  {
   "cell_type": "markdown",
   "source": [
    "### Einladen der Daten"
   ],
   "metadata": {
    "collapsed": false
   }
  },
  {
   "cell_type": "markdown",
   "source": [
    "#### Originaldaten ohne umfassende Vorverarbeitung"
   ],
   "metadata": {
    "collapsed": false
   }
  },
  {
   "cell_type": "code",
   "execution_count": 2,
   "outputs": [
    {
     "data": {
      "text/plain": "    label                                              tweet\nid                                                          \n1       0   @user when a father is dysfunctional and is s...\n2       0  @user @user thanks for #lyft credit i can't us...\n3       0                                bihday your majesty\n4       0  #model   i love u take with u all the time in ...\n5       0             factsguide: society now    #motivation",
      "text/html": "<div>\n<style scoped>\n    .dataframe tbody tr th:only-of-type {\n        vertical-align: middle;\n    }\n\n    .dataframe tbody tr th {\n        vertical-align: top;\n    }\n\n    .dataframe thead th {\n        text-align: right;\n    }\n</style>\n<table border=\"1\" class=\"dataframe\">\n  <thead>\n    <tr style=\"text-align: right;\">\n      <th></th>\n      <th>label</th>\n      <th>tweet</th>\n    </tr>\n    <tr>\n      <th>id</th>\n      <th></th>\n      <th></th>\n    </tr>\n  </thead>\n  <tbody>\n    <tr>\n      <th>1</th>\n      <td>0</td>\n      <td>@user when a father is dysfunctional and is s...</td>\n    </tr>\n    <tr>\n      <th>2</th>\n      <td>0</td>\n      <td>@user @user thanks for #lyft credit i can't us...</td>\n    </tr>\n    <tr>\n      <th>3</th>\n      <td>0</td>\n      <td>bihday your majesty</td>\n    </tr>\n    <tr>\n      <th>4</th>\n      <td>0</td>\n      <td>#model   i love u take with u all the time in ...</td>\n    </tr>\n    <tr>\n      <th>5</th>\n      <td>0</td>\n      <td>factsguide: society now    #motivation</td>\n    </tr>\n  </tbody>\n</table>\n</div>"
     },
     "execution_count": 2,
     "metadata": {},
     "output_type": "execute_result"
    }
   ],
   "source": [
    "current_dir = os.getcwd()\n",
    "csv_path_train = os.path.abspath(os.path.join(current_dir, '../../../data/twitter_hate-speech/train_basic_cleaned.csv'))\n",
    "df = pd.read_csv(csv_path_train, encoding='utf-8', index_col=0)\n",
    "\n",
    "df.head()"
   ],
   "metadata": {
    "collapsed": false,
    "ExecuteTime": {
     "end_time": "2024-11-11T19:43:37.512581400Z",
     "start_time": "2024-11-11T19:43:37.442482300Z"
    }
   }
  },
  {
   "cell_type": "code",
   "execution_count": 3,
   "outputs": [
    {
     "name": "stdout",
     "output_type": "stream",
     "text": [
      "Positive: 2013\n",
      "Negative: 27517\n",
      "Verhältnis: 13.669647292598112\n"
     ]
    }
   ],
   "source": [
    "df['label'].value_counts()\n",
    "positive = len(df[df['label'] == 1])\n",
    "negative = len(df[df['label'] == 0])\n",
    "print(\"Positive:\", positive)\n",
    "print(\"Negative:\", negative)\n",
    "print(\"Verhältnis:\", negative / positive)"
   ],
   "metadata": {
    "collapsed": false,
    "ExecuteTime": {
     "end_time": "2024-11-11T19:43:37.557389100Z",
     "start_time": "2024-11-11T19:43:37.517595300Z"
    }
   }
  },
  {
   "cell_type": "markdown",
   "source": [
    "#### Vorverarbeitete Daten"
   ],
   "metadata": {
    "collapsed": false
   }
  },
  {
   "cell_type": "code",
   "execution_count": 4,
   "outputs": [
    {
     "data": {
      "text/plain": "    label                                              tweet  \\\nid                                                             \n1       0   @user when a father is dysfunctional and is s...   \n2       0  @user @user thanks for #lyft credit i can't us...   \n3       0                                bihday your majesty   \n4       0  #model   i love u take with u all the time in ...   \n5       0             factsguide: society now    #motivation   \n\n                                        tweet_cleaned  user_handle  \\\nid                                                                   \n1                         father selfish drag kid run            1   \n2               thank lyft credit use cause offer van            2   \n3                                      bihday majesty            0   \n4   model take time mobile phone kiss sunglass mou...            0   \n5                       factsguide society motivation            0   \n\n                                    hashtags  \\\nid                                             \n1                                   ['#run']   \n2   ['#lyft', '#disapointed', '#getthanked']   \n3                                         []   \n4                                 ['#model']   \n5                            ['#motivation']   \n\n                                               emojis  \nid                                                     \n1                                                 NaN  \n2                                                 NaN  \n3                                                 NaN  \n4   :mobile_phone:,:kissing_face_with_smiling_eyes...  \n5                                                 NaN  ",
      "text/html": "<div>\n<style scoped>\n    .dataframe tbody tr th:only-of-type {\n        vertical-align: middle;\n    }\n\n    .dataframe tbody tr th {\n        vertical-align: top;\n    }\n\n    .dataframe thead th {\n        text-align: right;\n    }\n</style>\n<table border=\"1\" class=\"dataframe\">\n  <thead>\n    <tr style=\"text-align: right;\">\n      <th></th>\n      <th>label</th>\n      <th>tweet</th>\n      <th>tweet_cleaned</th>\n      <th>user_handle</th>\n      <th>hashtags</th>\n      <th>emojis</th>\n    </tr>\n    <tr>\n      <th>id</th>\n      <th></th>\n      <th></th>\n      <th></th>\n      <th></th>\n      <th></th>\n      <th></th>\n    </tr>\n  </thead>\n  <tbody>\n    <tr>\n      <th>1</th>\n      <td>0</td>\n      <td>@user when a father is dysfunctional and is s...</td>\n      <td>father selfish drag kid run</td>\n      <td>1</td>\n      <td>['#run']</td>\n      <td>NaN</td>\n    </tr>\n    <tr>\n      <th>2</th>\n      <td>0</td>\n      <td>@user @user thanks for #lyft credit i can't us...</td>\n      <td>thank lyft credit use cause offer van</td>\n      <td>2</td>\n      <td>['#lyft', '#disapointed', '#getthanked']</td>\n      <td>NaN</td>\n    </tr>\n    <tr>\n      <th>3</th>\n      <td>0</td>\n      <td>bihday your majesty</td>\n      <td>bihday majesty</td>\n      <td>0</td>\n      <td>[]</td>\n      <td>NaN</td>\n    </tr>\n    <tr>\n      <th>4</th>\n      <td>0</td>\n      <td>#model   i love u take with u all the time in ...</td>\n      <td>model take time mobile phone kiss sunglass mou...</td>\n      <td>0</td>\n      <td>['#model']</td>\n      <td>:mobile_phone:,:kissing_face_with_smiling_eyes...</td>\n    </tr>\n    <tr>\n      <th>5</th>\n      <td>0</td>\n      <td>factsguide: society now    #motivation</td>\n      <td>factsguide society motivation</td>\n      <td>0</td>\n      <td>['#motivation']</td>\n      <td>NaN</td>\n    </tr>\n  </tbody>\n</table>\n</div>"
     },
     "execution_count": 4,
     "metadata": {},
     "output_type": "execute_result"
    }
   ],
   "source": [
    "current_dir = os.getcwd()\n",
    "csv_path_train = os.path.abspath(os.path.join(current_dir, '../../../data/twitter_hate-speech/train_cleaned.csv'))\n",
    "df_cleaned = pd.read_csv(csv_path_train, encoding='utf-8', index_col=0)\n",
    "\n",
    "df_cleaned.head()"
   ],
   "metadata": {
    "collapsed": false,
    "ExecuteTime": {
     "end_time": "2024-11-11T19:43:37.768633400Z",
     "start_time": "2024-11-11T19:43:37.532701300Z"
    }
   }
  },
  {
   "cell_type": "code",
   "execution_count": 5,
   "outputs": [
    {
     "name": "stdout",
     "output_type": "stream",
     "text": [
      "Positive: 1811\n",
      "Negative: 25839\n",
      "Verhältnis: 14.26780784097184\n"
     ]
    }
   ],
   "source": [
    "df_cleaned['label'].value_counts()\n",
    "positive = len(df_cleaned[df_cleaned['label'] == 1])\n",
    "negative = len(df_cleaned[df_cleaned['label'] == 0])\n",
    "print(\"Positive:\", positive)\n",
    "print(\"Negative:\", negative)\n",
    "print(\"Verhältnis:\", negative / positive)"
   ],
   "metadata": {
    "collapsed": false,
    "ExecuteTime": {
     "end_time": "2024-11-11T19:43:37.768633400Z",
     "start_time": "2024-11-11T19:43:37.668477Z"
    }
   }
  },
  {
   "cell_type": "markdown",
   "source": [
    "Verhältnis hat sich durch die Bereinigung sogar noch weiter verschlechter"
   ],
   "metadata": {
    "collapsed": false
   }
  },
  {
   "cell_type": "markdown",
   "source": [
    "### Vektorisierung der Daten\n",
    "https://spotintelligence.com/2023/02/15/word2vec-for-text-classification/#Unsupervised_text_classification_Word2Vec"
   ],
   "metadata": {
    "collapsed": false
   }
  },
  {
   "cell_type": "code",
   "execution_count": 6,
   "outputs": [],
   "source": [
    "def vectorize(sentence, w2v_model):\n",
    "    words = sentence.split()\n",
    "    words_vecs = [w2v_model.wv[word] for word in words if word in w2v_model.wv]\n",
    "    if len(words_vecs) == 0:\n",
    "        return np.zeros(100)\n",
    "    words_vecs = np.array(words_vecs)\n",
    "    return words_vecs.mean(axis=0)"
   ],
   "metadata": {
    "collapsed": false,
    "ExecuteTime": {
     "end_time": "2024-11-11T19:43:37.768633400Z",
     "start_time": "2024-11-11T19:43:37.697738100Z"
    }
   }
  },
  {
   "cell_type": "code",
   "execution_count": 7,
   "outputs": [],
   "source": [
    "def vectorize_df(df):\n",
    "    X = df[\"tweet\"]\n",
    "    y = df[\"label\"]\n",
    "\n",
    "    sentences_base = [sentence.split() for sentence in X]\n",
    "    w2v_model_base = Word2Vec(sentences_base, window=5, min_count=5, workers=-1)\n",
    "\n",
    "    x_data = np.array([vectorize(sentence, w2v_model_base) for sentence in X])\n",
    "    return x_data, y"
   ],
   "metadata": {
    "collapsed": false,
    "ExecuteTime": {
     "end_time": "2024-11-11T19:43:37.768633400Z",
     "start_time": "2024-11-11T19:43:37.712372300Z"
    }
   }
  },
  {
   "cell_type": "code",
   "execution_count": 8,
   "outputs": [],
   "source": [
    "X_base, y_base = vectorize_df(df)"
   ],
   "metadata": {
    "collapsed": false,
    "ExecuteTime": {
     "end_time": "2024-11-11T19:43:41.522963900Z",
     "start_time": "2024-11-11T19:43:37.727508Z"
    }
   }
  },
  {
   "cell_type": "code",
   "execution_count": 9,
   "outputs": [
    {
     "data": {
      "text/plain": "array([[ 1.30374171e-03, -6.65663800e-04,  3.21442029e-03, ...,\n        -2.68328539e-03,  1.41547900e-03, -2.84765265e-03],\n       [ 3.36569443e-04, -9.82483965e-04,  9.05304274e-04, ...,\n        -4.07109677e-04,  5.64215006e-04,  1.94166932e-04],\n       [ 1.23032148e-03, -2.46845209e-03,  2.51201470e-03, ...,\n         2.88697542e-03,  4.11413144e-03,  4.88469563e-03],\n       ...,\n       [-9.87032778e-04,  5.68386691e-04, -1.85755307e-05, ...,\n         3.09016541e-05, -3.14187346e-04, -8.47426010e-04],\n       [ 1.40571001e-03,  4.23042104e-03,  2.36720010e-03, ...,\n        -4.67062840e-04,  2.66610738e-03, -7.61655625e-04],\n       [ 8.88627619e-05, -6.70738227e-04,  2.82955565e-03, ...,\n        -3.34652583e-03,  8.70123040e-04,  3.40033951e-03]])"
     },
     "execution_count": 9,
     "metadata": {},
     "output_type": "execute_result"
    }
   ],
   "source": [
    "X_base"
   ],
   "metadata": {
    "collapsed": false,
    "ExecuteTime": {
     "end_time": "2024-11-11T19:43:41.533081800Z",
     "start_time": "2024-11-11T19:43:41.522963900Z"
    }
   }
  },
  {
   "cell_type": "code",
   "execution_count": 10,
   "outputs": [
    {
     "data": {
      "text/plain": "id\n1        0\n2        0\n3        0\n4        0\n5        0\n        ..\n31957    0\n31958    0\n31959    0\n31960    0\n31962    0\nName: label, Length: 29530, dtype: int64"
     },
     "execution_count": 10,
     "metadata": {},
     "output_type": "execute_result"
    }
   ],
   "source": [
    "y_base"
   ],
   "metadata": {
    "collapsed": false,
    "ExecuteTime": {
     "end_time": "2024-11-11T19:43:41.533081800Z",
     "start_time": "2024-11-11T19:43:41.531013900Z"
    }
   }
  },
  {
   "cell_type": "code",
   "execution_count": 11,
   "outputs": [],
   "source": [
    "X_clean, y_clean = vectorize_df(df_cleaned)"
   ],
   "metadata": {
    "collapsed": false,
    "ExecuteTime": {
     "end_time": "2024-11-11T19:43:44.751244400Z",
     "start_time": "2024-11-11T19:43:41.531013900Z"
    }
   }
  },
  {
   "cell_type": "code",
   "execution_count": 12,
   "outputs": [
    {
     "data": {
      "text/plain": "array([[ 0.000164  , -0.00097227,  0.00330843, ..., -0.00523365,\n         0.00096938, -0.00285136],\n       [-0.00232347, -0.0016694 ,  0.00038817, ..., -0.00020569,\n         0.00022666,  0.0038221 ],\n       [-0.00620588, -0.00316428,  0.00138663, ...,  0.00165645,\n         0.00093876, -0.00017074],\n       ...,\n       [ 0.0017181 ,  0.00186271,  0.00110266, ..., -0.0023023 ,\n        -0.00016485,  0.00787419],\n       [-0.00182129,  0.00049515,  0.0007572 , ..., -0.00087936,\n        -0.00065907, -0.00146304],\n       [-0.00335515, -0.00040929, -0.00032946, ..., -0.00268573,\n         0.00366877, -0.0030683 ]])"
     },
     "execution_count": 12,
     "metadata": {},
     "output_type": "execute_result"
    }
   ],
   "source": [
    "X_clean"
   ],
   "metadata": {
    "collapsed": false,
    "ExecuteTime": {
     "end_time": "2024-11-11T19:43:44.751244400Z",
     "start_time": "2024-11-11T19:43:44.751244400Z"
    }
   }
  },
  {
   "cell_type": "code",
   "execution_count": 13,
   "outputs": [
    {
     "data": {
      "text/plain": "id\n1        0\n2        0\n3        0\n4        0\n5        0\n        ..\n31956    0\n31957    0\n31958    0\n31959    0\n31960    0\nName: label, Length: 27650, dtype: int64"
     },
     "execution_count": 13,
     "metadata": {},
     "output_type": "execute_result"
    }
   ],
   "source": [
    "y_clean"
   ],
   "metadata": {
    "collapsed": false,
    "ExecuteTime": {
     "end_time": "2024-11-11T19:43:44.751244400Z",
     "start_time": "2024-11-11T19:43:44.751244400Z"
    }
   }
  },
  {
   "cell_type": "markdown",
   "source": [
    "### Train/Test Split"
   ],
   "metadata": {
    "collapsed": false
   }
  },
  {
   "cell_type": "code",
   "execution_count": 14,
   "outputs": [],
   "source": [
    "def print_pos_neg(y_train, y_test):\n",
    "    positive = np.count_nonzero(y_train == 1)\n",
    "    negative = np.count_nonzero(y_train == 0)\n",
    "    print(\"Train\")\n",
    "    print(\"- Positive:\", positive)\n",
    "    print(\"- Negative:\", negative)\n",
    "    print(\"- Verhältnis:\", negative / positive)\n",
    "\n",
    "    positive = np.count_nonzero(y_test == 1)\n",
    "    negative = np.count_nonzero(y_test == 0)\n",
    "    print(\"Test\")\n",
    "    print(\"- Positive:\", positive)\n",
    "    print(\"- Negative:\", negative)\n",
    "    print(\"- Verhältnis:\", negative / positive)"
   ],
   "metadata": {
    "collapsed": false,
    "ExecuteTime": {
     "end_time": "2024-11-11T19:43:44.751244400Z",
     "start_time": "2024-11-11T19:43:44.751244400Z"
    }
   }
  },
  {
   "cell_type": "code",
   "execution_count": 15,
   "outputs": [
    {
     "name": "stdout",
     "output_type": "stream",
     "text": [
      "Train\n",
      "- Positive: 1401\n",
      "- Negative: 19270\n",
      "- Verhältnis: 13.754461099214847\n",
      "Test\n",
      "- Positive: 612\n",
      "- Negative: 8247\n",
      "- Verhältnis: 13.47549019607843\n"
     ]
    }
   ],
   "source": [
    "# Ohne stratify\n",
    "X_train_base, X_test_base, y_train_base, y_test_base = train_test_split(X_base, y_base, test_size=0.3, random_state=42)\n",
    "print_pos_neg(y_train_base, y_test_base)"
   ],
   "metadata": {
    "collapsed": false,
    "ExecuteTime": {
     "end_time": "2024-11-11T19:43:44.751244400Z",
     "start_time": "2024-11-11T19:43:44.751244400Z"
    }
   }
  },
  {
   "cell_type": "code",
   "execution_count": 16,
   "outputs": [
    {
     "name": "stdout",
     "output_type": "stream",
     "text": [
      "Train\n",
      "- Positive: 1409\n",
      "- Negative: 19262\n",
      "- Verhältnis: 13.67068843151171\n",
      "Test\n",
      "- Positive: 604\n",
      "- Negative: 8255\n",
      "- Verhältnis: 13.667218543046358\n"
     ]
    }
   ],
   "source": [
    "# mit stratify\n",
    "X_train_base, X_test_base, y_train_base, y_test_base = train_test_split(X_base, y_base, test_size=0.3, stratify=y_base, random_state=42)\n",
    "print_pos_neg(y_train_base, y_test_base)"
   ],
   "metadata": {
    "collapsed": false,
    "ExecuteTime": {
     "end_time": "2024-11-11T19:43:44.846078Z",
     "start_time": "2024-11-11T19:43:44.751244400Z"
    }
   }
  },
  {
   "cell_type": "code",
   "execution_count": 17,
   "outputs": [
    {
     "name": "stdout",
     "output_type": "stream",
     "text": [
      "Train\n",
      "- Positive: 1273\n",
      "- Negative: 18082\n",
      "- Verhältnis: 14.204241948153967\n",
      "Test\n",
      "- Positive: 538\n",
      "- Negative: 7757\n",
      "- Verhältnis: 14.4182156133829\n"
     ]
    }
   ],
   "source": [
    "# Ohne stratify\n",
    "X_train_clean, X_test_clean, y_train_clean, y_test_clean = train_test_split(X_clean, y_clean, test_size=0.3, random_state=42)\n",
    "print_pos_neg(y_train_clean, y_test_clean)"
   ],
   "metadata": {
    "collapsed": false,
    "ExecuteTime": {
     "end_time": "2024-11-11T19:43:44.846078Z",
     "start_time": "2024-11-11T19:43:44.786097400Z"
    }
   }
  },
  {
   "cell_type": "code",
   "execution_count": 18,
   "outputs": [
    {
     "name": "stdout",
     "output_type": "stream",
     "text": [
      "Train\n",
      "- Positive: 1268\n",
      "- Negative: 18087\n",
      "- Verhältnis: 14.264195583596214\n",
      "Test\n",
      "- Positive: 543\n",
      "- Negative: 7752\n",
      "- Verhältnis: 14.276243093922652\n"
     ]
    }
   ],
   "source": [
    "# mit stratify\n",
    "X_train_clean, X_test_clean, y_train_clean, y_test_clean = train_test_split(X_clean, y_clean, test_size=0.3, stratify=y_clean, random_state=42)\n",
    "print_pos_neg(y_train_clean, y_test_clean)"
   ],
   "metadata": {
    "collapsed": false,
    "ExecuteTime": {
     "end_time": "2024-11-11T19:43:44.871350100Z",
     "start_time": "2024-11-11T19:43:44.816324500Z"
    }
   }
  },
  {
   "cell_type": "markdown",
   "source": [
    "### 1. Resampling Methods\n",
    "https://www.analyticsvidhya.com/blog/2022/05/handling-imbalanced-data-with-imbalance-learn-in-python/#h-techniques-for-handling-imbalanced-data"
   ],
   "metadata": {
    "collapsed": false
   }
  },
  {
   "cell_type": "code",
   "execution_count": 19,
   "outputs": [],
   "source": [
    "def print_data(y_before, y_after, sampling_technique):\n",
    "    counter_before = Counter(y_before)\n",
    "    counter_after = Counter(y_after)\n",
    "    print(\"Before sampling with:\", sampling_technique, counter_before)\n",
    "    print(\"After sampling with:\", sampling_technique, counter_after)"
   ],
   "metadata": {
    "collapsed": false,
    "ExecuteTime": {
     "end_time": "2024-11-11T19:43:44.941326800Z",
     "start_time": "2024-11-11T19:43:44.861209400Z"
    }
   }
  },
  {
   "cell_type": "markdown",
   "source": [
    "#### 1.1 Oversampling"
   ],
   "metadata": {
    "collapsed": false
   }
  },
  {
   "cell_type": "markdown",
   "source": [
    "##### 1.1.1 SMOTE"
   ],
   "metadata": {
    "collapsed": false
   }
  },
  {
   "cell_type": "code",
   "execution_count": 20,
   "outputs": [],
   "source": [
    "os_smote = SMOTE()"
   ],
   "metadata": {
    "collapsed": false,
    "ExecuteTime": {
     "end_time": "2024-11-11T19:43:44.966426700Z",
     "start_time": "2024-11-11T19:43:44.871350100Z"
    }
   }
  },
  {
   "cell_type": "code",
   "execution_count": 21,
   "outputs": [
    {
     "name": "stdout",
     "output_type": "stream",
     "text": [
      "Before sampling with: SMOTE Counter({0: 19262, 1: 1409})\n",
      "After sampling with: SMOTE Counter({1: 19262, 0: 19262})\n"
     ]
    }
   ],
   "source": [
    "X_train_base_s, y_train_base_s = os_smote.fit_resample(X_train_base, y_train_base)\n",
    "print_data(y_train_base, y_train_base_s, \"SMOTE\")"
   ],
   "metadata": {
    "collapsed": false,
    "ExecuteTime": {
     "end_time": "2024-11-11T19:43:45.191038700Z",
     "start_time": "2024-11-11T19:43:44.886464Z"
    }
   }
  },
  {
   "cell_type": "code",
   "execution_count": 22,
   "outputs": [
    {
     "name": "stdout",
     "output_type": "stream",
     "text": [
      "Before sampling with: SMOTE Counter({0: 18087, 1: 1268})\n",
      "After sampling with: SMOTE Counter({0: 18087, 1: 18087})\n"
     ]
    }
   ],
   "source": [
    "X_train_clean_s, y_train_clean_s = os_smote.fit_resample(X_train_clean, y_train_clean)\n",
    "print_data(y_train_clean, y_train_clean_s, \"SMOTE\")"
   ],
   "metadata": {
    "collapsed": false,
    "ExecuteTime": {
     "end_time": "2024-11-11T19:43:45.330994400Z",
     "start_time": "2024-11-11T19:43:45.196049300Z"
    }
   }
  },
  {
   "cell_type": "markdown",
   "source": [
    "##### 1.1.2 Borderline-SMOTE"
   ],
   "metadata": {
    "collapsed": false
   }
  },
  {
   "cell_type": "code",
   "execution_count": 23,
   "outputs": [],
   "source": [
    "os_bsmote = BorderlineSMOTE()"
   ],
   "metadata": {
    "collapsed": false,
    "ExecuteTime": {
     "end_time": "2024-11-11T19:43:45.396838600Z",
     "start_time": "2024-11-11T19:43:45.330994400Z"
    }
   }
  },
  {
   "cell_type": "code",
   "execution_count": 24,
   "outputs": [
    {
     "name": "stdout",
     "output_type": "stream",
     "text": [
      "Before sampling with: BorderlineSMOTE Counter({0: 19262, 1: 1409})\n",
      "After sampling with: BorderlineSMOTE Counter({1: 19262, 0: 19262})\n"
     ]
    }
   ],
   "source": [
    "X_train_base_bs, y_train_base_bs = os_bsmote.fit_resample(X_train_base, y_train_base)\n",
    "print_data(y_train_base, y_train_base_bs, \"BorderlineSMOTE\")"
   ],
   "metadata": {
    "collapsed": false,
    "ExecuteTime": {
     "end_time": "2024-11-11T19:43:45.631090100Z",
     "start_time": "2024-11-11T19:43:45.346113800Z"
    }
   }
  },
  {
   "cell_type": "code",
   "execution_count": 25,
   "outputs": [
    {
     "name": "stdout",
     "output_type": "stream",
     "text": [
      "Before sampling with: BorderlineSMOTE Counter({0: 18087, 1: 1268})\n",
      "After sampling with: BorderlineSMOTE Counter({0: 18087, 1: 18087})\n"
     ]
    }
   ],
   "source": [
    "X_train_clean_bs, y_train_clean_bs = os_bsmote.fit_resample(X_train_clean, y_train_clean)\n",
    "print_data(y_train_clean, y_train_clean_bs, \"BorderlineSMOTE\")"
   ],
   "metadata": {
    "collapsed": false,
    "ExecuteTime": {
     "end_time": "2024-11-11T19:43:45.856225Z",
     "start_time": "2024-11-11T19:43:45.636098200Z"
    }
   }
  },
  {
   "cell_type": "markdown",
   "source": [
    "##### 1.1.3 ADASYN"
   ],
   "metadata": {
    "collapsed": false
   }
  },
  {
   "cell_type": "code",
   "execution_count": 26,
   "outputs": [],
   "source": [
    "os_ada = ADASYN()"
   ],
   "metadata": {
    "collapsed": false,
    "ExecuteTime": {
     "end_time": "2024-11-11T19:43:45.871369700Z",
     "start_time": "2024-11-11T19:43:45.856225Z"
    }
   }
  },
  {
   "cell_type": "code",
   "execution_count": 27,
   "outputs": [
    {
     "name": "stdout",
     "output_type": "stream",
     "text": [
      "Before sampling with: ADASYN Counter({0: 19262, 1: 1409})\n",
      "After sampling with: ADASYN Counter({1: 19358, 0: 19262})\n"
     ]
    }
   ],
   "source": [
    "X_train_base_a, y_train_base_a = os_ada.fit_resample(X_train_base, y_train_base)\n",
    "print_data(y_train_base, y_train_base_a, \"ADASYN\")"
   ],
   "metadata": {
    "collapsed": false,
    "ExecuteTime": {
     "end_time": "2024-11-11T19:43:46.146130500Z",
     "start_time": "2024-11-11T19:43:45.876383300Z"
    }
   }
  },
  {
   "cell_type": "code",
   "execution_count": 28,
   "outputs": [
    {
     "name": "stdout",
     "output_type": "stream",
     "text": [
      "Before sampling with: ADASYN Counter({0: 18087, 1: 1268})\n",
      "After sampling with: ADASYN Counter({0: 18087, 1: 17645})\n"
     ]
    }
   ],
   "source": [
    "X_train_clean_a, y_train_clean_a = os_ada.fit_resample(X_train_clean, y_train_clean)\n",
    "print_data(y_train_clean, y_train_clean_a, \"ADASYN\")"
   ],
   "metadata": {
    "collapsed": false,
    "ExecuteTime": {
     "end_time": "2024-11-11T19:43:46.381125800Z",
     "start_time": "2024-11-11T19:43:46.156194500Z"
    }
   }
  },
  {
   "cell_type": "markdown",
   "source": [
    "#### 1.2 Undersampling"
   ],
   "metadata": {
    "collapsed": false
   }
  },
  {
   "cell_type": "markdown",
   "source": [
    "##### 1.2.1 NearMiss"
   ],
   "metadata": {
    "collapsed": false
   }
  },
  {
   "cell_type": "code",
   "execution_count": 29,
   "outputs": [],
   "source": [
    "us_near_miss = NearMiss(version=3, n_neighbors_ver3=3)"
   ],
   "metadata": {
    "collapsed": false,
    "ExecuteTime": {
     "end_time": "2024-11-11T19:43:46.391197100Z",
     "start_time": "2024-11-11T19:43:46.376066600Z"
    }
   }
  },
  {
   "cell_type": "code",
   "execution_count": 30,
   "outputs": [
    {
     "name": "stdout",
     "output_type": "stream",
     "text": [
      "Before sampling with: NearMiss Counter({0: 19262, 1: 1409})\n",
      "After sampling with: NearMiss Counter({0: 1409, 1: 1409})\n"
     ]
    }
   ],
   "source": [
    "X_train_base_nm, y_train_base_nm = us_near_miss.fit_resample(X_train_base, y_train_base)\n",
    "print_data(y_train_base, y_train_base_nm, \"NearMiss\")"
   ],
   "metadata": {
    "collapsed": false,
    "ExecuteTime": {
     "end_time": "2024-11-11T19:43:46.597136700Z",
     "start_time": "2024-11-11T19:43:46.396208300Z"
    }
   }
  },
  {
   "cell_type": "code",
   "execution_count": 31,
   "outputs": [
    {
     "name": "stdout",
     "output_type": "stream",
     "text": [
      "Before sampling with: NearMiss Counter({0: 18087, 1: 1268})\n",
      "After sampling with: NearMiss Counter({0: 1268, 1: 1268})\n"
     ]
    }
   ],
   "source": [
    "X_train_clean_nm, y_train_clean_nm = us_near_miss.fit_resample(X_train_clean, y_train_clean)\n",
    "print_data(y_train_clean, y_train_clean_nm, \"NearMiss\")"
   ],
   "metadata": {
    "collapsed": false,
    "ExecuteTime": {
     "end_time": "2024-11-11T19:43:46.770364200Z",
     "start_time": "2024-11-11T19:43:46.601174400Z"
    }
   }
  },
  {
   "cell_type": "markdown",
   "source": [
    "##### 1.2.2 Condensed Nearest Neighbor"
   ],
   "metadata": {
    "collapsed": false
   }
  },
  {
   "cell_type": "code",
   "execution_count": 32,
   "outputs": [],
   "source": [
    "us_cnn = CondensedNearestNeighbour(n_neighbors=1, n_jobs=-1)  # sehr langsam"
   ],
   "metadata": {
    "collapsed": false,
    "ExecuteTime": {
     "end_time": "2024-11-11T19:43:46.781045900Z",
     "start_time": "2024-11-11T19:43:46.770364200Z"
    }
   }
  },
  {
   "cell_type": "code",
   "execution_count": 33,
   "outputs": [],
   "source": [
    "# X_train_base_cnn, y_train_base_cnn = us_cnn.fit_resample(X_train_base, y_train_base)\n",
    "# print_data(y_train_base, y_train_base_cnn, \"CondensedNearestNeighbour\")"
   ],
   "metadata": {
    "collapsed": false,
    "ExecuteTime": {
     "end_time": "2024-11-11T19:43:46.866114100Z",
     "start_time": "2024-11-11T19:43:46.781045900Z"
    }
   }
  },
  {
   "cell_type": "code",
   "execution_count": 34,
   "outputs": [],
   "source": [
    "# X_train_clean_cnn, y_train_clean_cnn = us_cnn.fit_resample(X_train_clean, y_train_clean)\n",
    "# print_data(y_train_clean, y_train_clean_cnn, \"CondensedNearestNeighbour\")"
   ],
   "metadata": {
    "collapsed": false,
    "ExecuteTime": {
     "end_time": "2024-11-11T19:43:46.889336600Z",
     "start_time": "2024-11-11T19:43:46.796180400Z"
    }
   }
  },
  {
   "cell_type": "markdown",
   "source": [
    "##### 1.2.3 Neighborhood Cleaning"
   ],
   "metadata": {
    "collapsed": false
   }
  },
  {
   "cell_type": "code",
   "execution_count": 35,
   "outputs": [],
   "source": [
    "us_cnn_cr = NeighbourhoodCleaningRule(n_neighbors=3, threshold_cleaning=0.5, n_jobs=-1)  # sehr langsam"
   ],
   "metadata": {
    "collapsed": false,
    "ExecuteTime": {
     "end_time": "2024-11-11T19:43:46.889336600Z",
     "start_time": "2024-11-11T19:43:46.801318200Z"
    }
   }
  },
  {
   "cell_type": "code",
   "execution_count": 36,
   "outputs": [],
   "source": [
    "# X_train_base_ncr, y_train_base_ncr = us_cnn.fit_resample(X_train_base, y_train_base)\n",
    "# print_data(y_train_base, y_train_base_ncr, \"NeighbourhoodCleaningRule\")"
   ],
   "metadata": {
    "collapsed": false,
    "ExecuteTime": {
     "end_time": "2024-11-11T19:43:46.889336600Z",
     "start_time": "2024-11-11T19:43:46.821029300Z"
    }
   }
  },
  {
   "cell_type": "code",
   "execution_count": 37,
   "outputs": [],
   "source": [
    "# X_train_clean_ncr, y_train_clean_ncr = us_cnn.fit_resample(X_train_clean, y_train_clean)\n",
    "# print_data(y_train_clean, y_train_clean_ncr, \"NeighbourhoodCleaningRule\")"
   ],
   "metadata": {
    "collapsed": false,
    "ExecuteTime": {
     "end_time": "2024-11-11T19:43:46.889336600Z",
     "start_time": "2024-11-11T19:43:46.831181700Z"
    }
   }
  },
  {
   "cell_type": "markdown",
   "source": [
    "##### 1.2.4 Tomek Links Undersampler"
   ],
   "metadata": {
    "collapsed": false
   }
  },
  {
   "cell_type": "code",
   "execution_count": 38,
   "outputs": [],
   "source": [
    "us_tomek = TomekLinks()"
   ],
   "metadata": {
    "collapsed": false,
    "ExecuteTime": {
     "end_time": "2024-11-11T19:43:46.891402100Z",
     "start_time": "2024-11-11T19:43:46.841368100Z"
    }
   }
  },
  {
   "cell_type": "code",
   "execution_count": 39,
   "outputs": [
    {
     "name": "stdout",
     "output_type": "stream",
     "text": [
      "Before sampling with: TomekLinks Counter({0: 19262, 1: 1409})\n",
      "After sampling with: TomekLinks Counter({0: 19210, 1: 1409})\n"
     ]
    }
   ],
   "source": [
    "X_train_base_t, y_train_base_t = us_tomek.fit_resample(X_train_base, y_train_base)\n",
    "print_data(y_train_base, y_train_base_t, \"TomekLinks\")"
   ],
   "metadata": {
    "collapsed": false,
    "ExecuteTime": {
     "end_time": "2024-11-11T19:43:48.039940500Z",
     "start_time": "2024-11-11T19:43:46.856029600Z"
    }
   }
  },
  {
   "cell_type": "code",
   "execution_count": 40,
   "outputs": [
    {
     "name": "stdout",
     "output_type": "stream",
     "text": [
      "Before sampling with: TomekLinks Counter({0: 18087, 1: 1268})\n",
      "After sampling with: TomekLinks Counter({0: 18036, 1: 1268})\n"
     ]
    }
   ],
   "source": [
    "X_train_clean_t, y_train_clean_t = us_tomek.fit_resample(X_train_clean, y_train_clean)\n",
    "print_data(y_train_clean, y_train_clean_t, \"TomekLinks\")"
   ],
   "metadata": {
    "collapsed": false,
    "ExecuteTime": {
     "end_time": "2024-11-11T19:43:49.151054900Z",
     "start_time": "2024-11-11T19:43:48.039940500Z"
    }
   }
  },
  {
   "cell_type": "markdown",
   "source": [
    "### 2. Ensemble Models"
   ],
   "metadata": {
    "collapsed": false
   }
  },
  {
   "cell_type": "code",
   "execution_count": 41,
   "outputs": [],
   "source": [
    "evaluation = pd.DataFrame(\n",
    "    columns=[\"model\", \"variant\", \"train_acc\", \"train_prec\", \"train_rec\", \"train_f1\", \"test_acc\", \"test_prec\",\n",
    "             \"test_rec\", \"test_f1\"])"
   ],
   "metadata": {
    "collapsed": false,
    "ExecuteTime": {
     "end_time": "2024-11-11T19:43:49.151602100Z",
     "start_time": "2024-11-11T19:43:49.151054900Z"
    }
   }
  },
  {
   "cell_type": "code",
   "execution_count": 42,
   "outputs": [],
   "source": [
    "def add_to_eval_df(model, model_name, variant, x_data_train, y_data_train, x_data_test, y_data_test):\n",
    "    train_acc = model.score(x_data_train, y_data_train)\n",
    "    train_precision = precision_score(y_data_train, model.predict(x_data_train), average=\"weighted\")\n",
    "    train_recall = recall_score(y_data_train, model.predict(x_data_train), average=\"weighted\")\n",
    "    train_f1 = f1_score(y_data_train, model.predict(x_data_train), average=\"weighted\")\n",
    "\n",
    "    test_acc = model.score(x_data_test, y_data_test)\n",
    "    test_precision = precision_score(y_data_test, model.predict(x_data_test), average=\"weighted\")\n",
    "    test_recall = recall_score(y_data_test, model.predict(x_data_test), average=\"weighted\")\n",
    "    test_f1 = f1_score(y_data_test, model.predict(x_data_test), average=\"weighted\")\n",
    "\n",
    "    evaluation.loc[len(evaluation.index)] = [model_name, variant, train_acc, train_precision, train_recall, train_f1,\n",
    "                                             test_acc, test_precision, test_recall, test_f1]"
   ],
   "metadata": {
    "collapsed": false,
    "ExecuteTime": {
     "end_time": "2024-11-11T19:43:49.151602100Z",
     "start_time": "2024-11-11T19:43:49.151602100Z"
    }
   }
  },
  {
   "cell_type": "code",
   "execution_count": 43,
   "outputs": [],
   "source": [
    "def evaluate_model(model, x_test, y_test, sampling_method):\n",
    "    pred = model.predict(x_test)\n",
    "    accscore = metrics.accuracy_score(pred, y_test)\n",
    "\n",
    "    print(f'{sampling_method} model accuracy for classification is =', str('{:04.2f}'.format(accscore * 100)) + '%')\n",
    "    print('------------------------------------------------')\n",
    "    print('Confusion Matrix:')\n",
    "    print(pd.DataFrame(confusion_matrix(y_test, pred)))\n",
    "    print('------------------------------------------------')\n",
    "    print('Classification Report:')\n",
    "    print(classification_report(y_test, pred))"
   ],
   "metadata": {
    "collapsed": false,
    "ExecuteTime": {
     "end_time": "2024-11-11T19:43:49.151602100Z",
     "start_time": "2024-11-11T19:43:49.151602100Z"
    }
   }
  },
  {
   "cell_type": "code",
   "execution_count": 44,
   "outputs": [],
   "source": [
    "def fit_model(model, modelName):\n",
    "    print(\"Starting model fitting.\")\n",
    "\n",
    "    start = time.time()\n",
    "    print(\"1/12 Fitting: \", modelName, \"BASE started...\")\n",
    "    model.fit(X_train_base, y_train_base)\n",
    "    add_to_eval_df(model, modelName, \"base\", X_train_base, y_train_base, X_test_base, y_test_base)\n",
    "    end = time.time()\n",
    "    elapsed_time = round(end - start)\n",
    "    print(\"Fitting: \", modelName, \"finished. Elapsed time: \", elapsed_time, \"Seconds\")\n",
    "\n",
    "    start = time.time()\n",
    "    print(\"2/12 Fitting: \", modelName, \"CLEAN started...\")\n",
    "    model.fit(X_train_clean, y_train_clean)\n",
    "    add_to_eval_df(model, modelName, \"clean\", X_train_clean, y_train_clean, X_test_clean, y_test_clean)\n",
    "    end = time.time()\n",
    "    elapsed_time = round(end - start)\n",
    "    print(\"Fitting: \", modelName, \"finished. Elapsed time: \", elapsed_time, \"Seconds\")\n",
    "\n",
    "    start = time.time()\n",
    "    print(\"3/12 Fitting: \", modelName, \"SMOTE-base started...\")\n",
    "    model.fit(X_train_base_s, y_train_base_s)\n",
    "    add_to_eval_df(model, modelName, \"SMOTE base\", X_train_base_s, y_train_base_s, X_test_base, y_test_base)\n",
    "    end = time.time()\n",
    "    elapsed_time = round(end - start)\n",
    "    print(\"Fitting: \", modelName, \"finished. Elapsed time: \", elapsed_time, \"Seconds\")\n",
    "\n",
    "    start = time.time()\n",
    "    print(\"4/12 Fitting: \", modelName, \"SMOTE-clean started...\")\n",
    "    model.fit(X_train_clean_s, y_train_clean_s)\n",
    "    add_to_eval_df(model, modelName, \"SMOTE clean\", X_train_clean_s, y_train_clean_s, X_test_clean, y_test_clean)\n",
    "    end = time.time()\n",
    "    elapsed_time = round(end - start)\n",
    "    print(\"Fitting: \", modelName, \"finished. Elapsed time: \", elapsed_time, \"Seconds\")\n",
    "\n",
    "    start = time.time()\n",
    "    print(\"5/12 Fitting: \", modelName, \"BorderlineSMOTE-base started...\")\n",
    "    model.fit(X_train_base_bs, y_train_base_bs)\n",
    "    add_to_eval_df(model, modelName, \"BorderlineSMOTE base\", X_train_base_bs, y_train_base_bs, X_test_base, y_test_base)\n",
    "    end = time.time()\n",
    "    elapsed_time = round(end - start)\n",
    "    print(\"Fitting: \", modelName, \"finished. Elapsed time: \", elapsed_time, \"Seconds\")\n",
    "\n",
    "    start = time.time()\n",
    "    print(\"6/12 Fitting: \", modelName, \"BorderlineSMOTE-clean started...\")\n",
    "    model.fit(X_train_clean_bs, y_train_clean_bs)\n",
    "    add_to_eval_df(model, modelName, \"BorderlineSMOTE clean\", X_train_clean_bs, y_train_clean_bs, X_test_clean,\n",
    "                   y_test_clean)\n",
    "    end = time.time()\n",
    "    elapsed_time = round(end - start)\n",
    "    print(\"Fitting: \", modelName, \"finished. Elapsed time: \", elapsed_time, \"Seconds\")\n",
    "\n",
    "    start = time.time()\n",
    "    print(\"7/12 Fitting: \", modelName, \"ADASYN-base started...\")\n",
    "    model.fit(X_train_base_a, y_train_base_a)\n",
    "    add_to_eval_df(model, modelName, \"ADASYN base\", X_train_base_a, y_train_base_a, X_test_base, y_test_base)\n",
    "    end = time.time()\n",
    "    elapsed_time = round(end - start)\n",
    "    print(\"Fitting: \", modelName, \"finished. Elapsed time: \", elapsed_time, \"Seconds\")\n",
    "\n",
    "    start = time.time()\n",
    "    print(\"8/12 Fitting: \", modelName, \"ADASYN-clean started...\")\n",
    "    model.fit(X_train_clean_a, y_train_clean_a)\n",
    "    add_to_eval_df(model, modelName, \"ADASYN clean\", X_train_clean_a, y_train_clean_a, X_test_clean, y_test_clean)\n",
    "    end = time.time()\n",
    "    elapsed_time = round(end - start)\n",
    "    print(\"Fitting: \", modelName, \"finished. Elapsed time: \", elapsed_time, \"Seconds\")\n",
    "\n",
    "    start = time.time()\n",
    "    print(\"9/12 Fitting: \", modelName, \"NearMiss-base started...\")\n",
    "    model.fit(X_train_base_nm, y_train_base_nm)\n",
    "    add_to_eval_df(model, modelName, \"NearMiss base\", X_train_base_nm, y_train_base_nm, X_test_base, y_test_base)\n",
    "    end = time.time()\n",
    "    elapsed_time = round(end - start)\n",
    "    print(\"Fitting: \", modelName, \"finished. Elapsed time: \", elapsed_time, \"Seconds\")\n",
    "\n",
    "    start = time.time()\n",
    "    print(\"10/12 Fitting: \", modelName, \"NearMiss-clean started...\")\n",
    "    model.fit(X_train_clean_nm, y_train_clean_nm)\n",
    "    add_to_eval_df(model, modelName, \"NearMiss clean\", X_train_clean_nm, y_train_clean_nm, X_test_clean, y_test_clean)\n",
    "    end = time.time()\n",
    "    elapsed_time = round(end - start)\n",
    "    print(\"Fitting: \", modelName, \"finished. Elapsed time: \", elapsed_time, \"Seconds\")\n",
    "\n",
    "    start = time.time()\n",
    "    print(\"11/12 Fitting: \", modelName, \"TomekLink-base started...\")\n",
    "    model.fit(X_train_clean_t, y_train_clean_t)\n",
    "    add_to_eval_df(model, modelName, \"TomekLink clean\", X_train_clean_t, y_train_clean_t, X_test_clean, y_test_clean)\n",
    "    end = time.time()\n",
    "    elapsed_time = round(end - start)\n",
    "    print(\"Fitting: \", modelName, \"finished. Elapsed time: \", elapsed_time, \"Seconds\")\n",
    "\n",
    "    start = time.time()\n",
    "    print(\"12/12 Fitting: \", modelName, \"TomekLink-clean started...\")\n",
    "    model.fit(X_train_clean_t, y_train_clean_t)\n",
    "    add_to_eval_df(model, modelName, \"TomekLink clean\", X_train_clean_t, y_train_clean_t, X_test_clean, y_test_clean)\n",
    "    end = time.time()\n",
    "    elapsed_time = round(end - start)\n",
    "    print(\"Fitting: \", modelName, \"finished. Elapsed time: \", elapsed_time, \"Seconds\")\n",
    "\n",
    "    print(\"Model fitting finished.\")"
   ],
   "metadata": {
    "collapsed": false,
    "ExecuteTime": {
     "end_time": "2024-11-11T19:43:49.240826600Z",
     "start_time": "2024-11-11T19:43:49.161219800Z"
    }
   }
  },
  {
   "cell_type": "markdown",
   "source": [
    "#### 2.1 Bagging"
   ],
   "metadata": {
    "collapsed": false
   }
  },
  {
   "cell_type": "code",
   "execution_count": 45,
   "outputs": [],
   "source": [
    "rf = RandomForestClassifier(n_jobs=-1)"
   ],
   "metadata": {
    "collapsed": false,
    "ExecuteTime": {
     "end_time": "2024-11-11T19:43:49.255955900Z",
     "start_time": "2024-11-11T19:43:49.176395100Z"
    }
   }
  },
  {
   "cell_type": "code",
   "execution_count": 46,
   "outputs": [
    {
     "name": "stdout",
     "output_type": "stream",
     "text": [
      "Starting model fitting.\n",
      "1/12 Fitting:  RandomForest BASE started...\n",
      "Fitting:  RandomForest finished. Elapsed time:  7 Seconds\n",
      "2/12 Fitting:  RandomForest CLEAN started...\n",
      "Fitting:  RandomForest finished. Elapsed time:  5 Seconds\n",
      "3/12 Fitting:  RandomForest SMOTE-base started...\n",
      "Fitting:  RandomForest finished. Elapsed time:  12 Seconds\n",
      "4/12 Fitting:  RandomForest SMOTE-clean started...\n",
      "Fitting:  RandomForest finished. Elapsed time:  12 Seconds\n",
      "5/12 Fitting:  RandomForest BorderlineSMOTE-base started...\n",
      "Fitting:  RandomForest finished. Elapsed time:  12 Seconds\n",
      "6/12 Fitting:  RandomForest BorderlineSMOTE-clean started...\n",
      "Fitting:  RandomForest finished. Elapsed time:  12 Seconds\n",
      "7/12 Fitting:  RandomForest ADASYN-base started...\n",
      "Fitting:  RandomForest finished. Elapsed time:  13 Seconds\n",
      "8/12 Fitting:  RandomForest ADASYN-clean started...\n",
      "Fitting:  RandomForest finished. Elapsed time:  12 Seconds\n",
      "9/12 Fitting:  RandomForest NearMiss-base started...\n",
      "Fitting:  RandomForest finished. Elapsed time:  1 Seconds\n",
      "10/12 Fitting:  RandomForest NearMiss-clean started...\n",
      "Fitting:  RandomForest finished. Elapsed time:  1 Seconds\n",
      "11/12 Fitting:  RandomForest TomekLink-base started...\n",
      "Fitting:  RandomForest finished. Elapsed time:  4 Seconds\n",
      "12/12 Fitting:  RandomForest TomekLink-clean started...\n",
      "Fitting:  RandomForest finished. Elapsed time:  5 Seconds\n",
      "Model fitting finished.\n"
     ]
    }
   ],
   "source": [
    "fit_model(rf, \"RandomForest\")"
   ],
   "metadata": {
    "collapsed": false,
    "ExecuteTime": {
     "end_time": "2024-11-11T19:45:24.728179700Z",
     "start_time": "2024-11-11T19:43:49.192118800Z"
    }
   }
  },
  {
   "cell_type": "code",
   "execution_count": 47,
   "outputs": [],
   "source": [
    "brf = BalancedRandomForestClassifier(n_jobs=-1)"
   ],
   "metadata": {
    "collapsed": false,
    "ExecuteTime": {
     "end_time": "2024-11-11T19:45:24.737176700Z",
     "start_time": "2024-11-11T19:45:24.728179700Z"
    }
   }
  },
  {
   "cell_type": "code",
   "execution_count": 48,
   "outputs": [
    {
     "name": "stderr",
     "output_type": "stream",
     "text": [
      "C:\\Users\\admin\\anaconda3\\lib\\site-packages\\sklearn\\utils\\deprecation.py:86: FutureWarning: Function delayed is deprecated; The function `delayed` has been moved from `sklearn.utils.fixes` to `sklearn.utils.parallel`. This import path will be removed in 1.5.\n",
      "  warnings.warn(msg, category=FutureWarning)\n",
      "C:\\Users\\admin\\anaconda3\\lib\\site-packages\\sklearn\\utils\\parallel.py:114: UserWarning: `sklearn.utils.parallel.delayed` should be used with `sklearn.utils.parallel.Parallel` to make it possible to propagate the scikit-learn configuration of the current thread to the joblib workers.\n",
      "  warnings.warn(\n",
      "C:\\Users\\admin\\anaconda3\\lib\\site-packages\\sklearn\\utils\\parallel.py:114: UserWarning: `sklearn.utils.parallel.delayed` should be used with `sklearn.utils.parallel.Parallel` to make it possible to propagate the scikit-learn configuration of the current thread to the joblib workers.\n",
      "  warnings.warn(\n",
      "C:\\Users\\admin\\anaconda3\\lib\\site-packages\\sklearn\\utils\\parallel.py:114: UserWarning: `sklearn.utils.parallel.delayed` should be used with `sklearn.utils.parallel.Parallel` to make it possible to propagate the scikit-learn configuration of the current thread to the joblib workers.\n",
      "  warnings.warn(\n",
      "C:\\Users\\admin\\anaconda3\\lib\\site-packages\\sklearn\\utils\\parallel.py:114: UserWarning: `sklearn.utils.parallel.delayed` should be used with `sklearn.utils.parallel.Parallel` to make it possible to propagate the scikit-learn configuration of the current thread to the joblib workers.\n",
      "  warnings.warn(\n",
      "C:\\Users\\admin\\anaconda3\\lib\\site-packages\\sklearn\\utils\\parallel.py:114: UserWarning: `sklearn.utils.parallel.delayed` should be used with `sklearn.utils.parallel.Parallel` to make it possible to propagate the scikit-learn configuration of the current thread to the joblib workers.\n",
      "  warnings.warn(\n",
      "C:\\Users\\admin\\anaconda3\\lib\\site-packages\\sklearn\\utils\\parallel.py:114: UserWarning: `sklearn.utils.parallel.delayed` should be used with `sklearn.utils.parallel.Parallel` to make it possible to propagate the scikit-learn configuration of the current thread to the joblib workers.\n",
      "  warnings.warn(\n",
      "C:\\Users\\admin\\anaconda3\\lib\\site-packages\\sklearn\\utils\\parallel.py:114: UserWarning: `sklearn.utils.parallel.delayed` should be used with `sklearn.utils.parallel.Parallel` to make it possible to propagate the scikit-learn configuration of the current thread to the joblib workers.\n",
      "  warnings.warn(\n",
      "C:\\Users\\admin\\anaconda3\\lib\\site-packages\\sklearn\\utils\\deprecation.py:86: FutureWarning: Function delayed is deprecated; The function `delayed` has been moved from `sklearn.utils.fixes` to `sklearn.utils.parallel`. This import path will be removed in 1.5.\n",
      "  warnings.warn(msg, category=FutureWarning)\n",
      "C:\\Users\\admin\\anaconda3\\lib\\site-packages\\sklearn\\utils\\parallel.py:114: UserWarning: `sklearn.utils.parallel.delayed` should be used with `sklearn.utils.parallel.Parallel` to make it possible to propagate the scikit-learn configuration of the current thread to the joblib workers.\n",
      "  warnings.warn(\n",
      "C:\\Users\\admin\\anaconda3\\lib\\site-packages\\sklearn\\utils\\parallel.py:114: UserWarning: `sklearn.utils.parallel.delayed` should be used with `sklearn.utils.parallel.Parallel` to make it possible to propagate the scikit-learn configuration of the current thread to the joblib workers.\n",
      "  warnings.warn(\n",
      "C:\\Users\\admin\\anaconda3\\lib\\site-packages\\sklearn\\utils\\parallel.py:114: UserWarning: `sklearn.utils.parallel.delayed` should be used with `sklearn.utils.parallel.Parallel` to make it possible to propagate the scikit-learn configuration of the current thread to the joblib workers.\n",
      "  warnings.warn(\n",
      "C:\\Users\\admin\\anaconda3\\lib\\site-packages\\sklearn\\utils\\parallel.py:114: UserWarning: `sklearn.utils.parallel.delayed` should be used with `sklearn.utils.parallel.Parallel` to make it possible to propagate the scikit-learn configuration of the current thread to the joblib workers.\n",
      "  warnings.warn(\n",
      "C:\\Users\\admin\\anaconda3\\lib\\site-packages\\sklearn\\utils\\parallel.py:114: UserWarning: `sklearn.utils.parallel.delayed` should be used with `sklearn.utils.parallel.Parallel` to make it possible to propagate the scikit-learn configuration of the current thread to the joblib workers.\n",
      "  warnings.warn(\n",
      "C:\\Users\\admin\\anaconda3\\lib\\site-packages\\sklearn\\utils\\parallel.py:114: UserWarning: `sklearn.utils.parallel.delayed` should be used with `sklearn.utils.parallel.Parallel` to make it possible to propagate the scikit-learn configuration of the current thread to the joblib workers.\n",
      "  warnings.warn(\n",
      "C:\\Users\\admin\\anaconda3\\lib\\site-packages\\sklearn\\utils\\parallel.py:114: UserWarning: `sklearn.utils.parallel.delayed` should be used with `sklearn.utils.parallel.Parallel` to make it possible to propagate the scikit-learn configuration of the current thread to the joblib workers.\n",
      "  warnings.warn(\n",
      "C:\\Users\\admin\\anaconda3\\lib\\site-packages\\sklearn\\utils\\parallel.py:114: UserWarning: `sklearn.utils.parallel.delayed` should be used with `sklearn.utils.parallel.Parallel` to make it possible to propagate the scikit-learn configuration of the current thread to the joblib workers.\n",
      "  warnings.warn(\n",
      "C:\\Users\\admin\\anaconda3\\lib\\site-packages\\sklearn\\utils\\parallel.py:114: UserWarning: `sklearn.utils.parallel.delayed` should be used with `sklearn.utils.parallel.Parallel` to make it possible to propagate the scikit-learn configuration of the current thread to the joblib workers.\n",
      "  warnings.warn(\n",
      "C:\\Users\\admin\\anaconda3\\lib\\site-packages\\sklearn\\utils\\parallel.py:114: UserWarning: `sklearn.utils.parallel.delayed` should be used with `sklearn.utils.parallel.Parallel` to make it possible to propagate the scikit-learn configuration of the current thread to the joblib workers.\n",
      "  warnings.warn(\n",
      "C:\\Users\\admin\\anaconda3\\lib\\site-packages\\sklearn\\utils\\parallel.py:114: UserWarning: `sklearn.utils.parallel.delayed` should be used with `sklearn.utils.parallel.Parallel` to make it possible to propagate the scikit-learn configuration of the current thread to the joblib workers.\n",
      "  warnings.warn(\n",
      "C:\\Users\\admin\\anaconda3\\lib\\site-packages\\sklearn\\utils\\deprecation.py:86: FutureWarning: Function delayed is deprecated; The function `delayed` has been moved from `sklearn.utils.fixes` to `sklearn.utils.parallel`. This import path will be removed in 1.5.\n",
      "  warnings.warn(msg, category=FutureWarning)\n",
      "C:\\Users\\admin\\anaconda3\\lib\\site-packages\\sklearn\\utils\\parallel.py:114: UserWarning: `sklearn.utils.parallel.delayed` should be used with `sklearn.utils.parallel.Parallel` to make it possible to propagate the scikit-learn configuration of the current thread to the joblib workers.\n",
      "  warnings.warn(\n",
      "C:\\Users\\admin\\anaconda3\\lib\\site-packages\\sklearn\\utils\\parallel.py:114: UserWarning: `sklearn.utils.parallel.delayed` should be used with `sklearn.utils.parallel.Parallel` to make it possible to propagate the scikit-learn configuration of the current thread to the joblib workers.\n",
      "  warnings.warn(\n",
      "C:\\Users\\admin\\anaconda3\\lib\\site-packages\\sklearn\\utils\\parallel.py:114: UserWarning: `sklearn.utils.parallel.delayed` should be used with `sklearn.utils.parallel.Parallel` to make it possible to propagate the scikit-learn configuration of the current thread to the joblib workers.\n",
      "  warnings.warn(\n",
      "C:\\Users\\admin\\anaconda3\\lib\\site-packages\\sklearn\\utils\\parallel.py:114: UserWarning: `sklearn.utils.parallel.delayed` should be used with `sklearn.utils.parallel.Parallel` to make it possible to propagate the scikit-learn configuration of the current thread to the joblib workers.\n",
      "  warnings.warn(\n",
      "C:\\Users\\admin\\anaconda3\\lib\\site-packages\\sklearn\\utils\\parallel.py:114: UserWarning: `sklearn.utils.parallel.delayed` should be used with `sklearn.utils.parallel.Parallel` to make it possible to propagate the scikit-learn configuration of the current thread to the joblib workers.\n",
      "  warnings.warn(\n",
      "C:\\Users\\admin\\anaconda3\\lib\\site-packages\\sklearn\\utils\\parallel.py:114: UserWarning: `sklearn.utils.parallel.delayed` should be used with `sklearn.utils.parallel.Parallel` to make it possible to propagate the scikit-learn configuration of the current thread to the joblib workers.\n",
      "  warnings.warn(\n",
      "C:\\Users\\admin\\anaconda3\\lib\\site-packages\\sklearn\\utils\\parallel.py:114: UserWarning: `sklearn.utils.parallel.delayed` should be used with `sklearn.utils.parallel.Parallel` to make it possible to propagate the scikit-learn configuration of the current thread to the joblib workers.\n",
      "  warnings.warn(\n",
      "C:\\Users\\admin\\anaconda3\\lib\\site-packages\\sklearn\\utils\\parallel.py:114: UserWarning: `sklearn.utils.parallel.delayed` should be used with `sklearn.utils.parallel.Parallel` to make it possible to propagate the scikit-learn configuration of the current thread to the joblib workers.\n",
      "  warnings.warn(\n",
      "C:\\Users\\admin\\anaconda3\\lib\\site-packages\\sklearn\\utils\\parallel.py:114: UserWarning: `sklearn.utils.parallel.delayed` should be used with `sklearn.utils.parallel.Parallel` to make it possible to propagate the scikit-learn configuration of the current thread to the joblib workers.\n",
      "  warnings.warn(\n",
      "C:\\Users\\admin\\anaconda3\\lib\\site-packages\\sklearn\\utils\\parallel.py:114: UserWarning: `sklearn.utils.parallel.delayed` should be used with `sklearn.utils.parallel.Parallel` to make it possible to propagate the scikit-learn configuration of the current thread to the joblib workers.\n",
      "  warnings.warn(\n",
      "C:\\Users\\admin\\anaconda3\\lib\\site-packages\\sklearn\\utils\\parallel.py:114: UserWarning: `sklearn.utils.parallel.delayed` should be used with `sklearn.utils.parallel.Parallel` to make it possible to propagate the scikit-learn configuration of the current thread to the joblib workers.\n",
      "  warnings.warn(\n",
      "C:\\Users\\admin\\anaconda3\\lib\\site-packages\\sklearn\\utils\\parallel.py:114: UserWarning: `sklearn.utils.parallel.delayed` should be used with `sklearn.utils.parallel.Parallel` to make it possible to propagate the scikit-learn configuration of the current thread to the joblib workers.\n",
      "  warnings.warn(\n",
      "C:\\Users\\admin\\anaconda3\\lib\\site-packages\\sklearn\\utils\\deprecation.py:86: FutureWarning: Function delayed is deprecated; The function `delayed` has been moved from `sklearn.utils.fixes` to `sklearn.utils.parallel`. This import path will be removed in 1.5.\n",
      "  warnings.warn(msg, category=FutureWarning)\n",
      "C:\\Users\\admin\\anaconda3\\lib\\site-packages\\sklearn\\utils\\parallel.py:114: UserWarning: `sklearn.utils.parallel.delayed` should be used with `sklearn.utils.parallel.Parallel` to make it possible to propagate the scikit-learn configuration of the current thread to the joblib workers.\n",
      "  warnings.warn(\n",
      "C:\\Users\\admin\\anaconda3\\lib\\site-packages\\sklearn\\utils\\parallel.py:114: UserWarning: `sklearn.utils.parallel.delayed` should be used with `sklearn.utils.parallel.Parallel` to make it possible to propagate the scikit-learn configuration of the current thread to the joblib workers.\n",
      "  warnings.warn(\n",
      "C:\\Users\\admin\\anaconda3\\lib\\site-packages\\sklearn\\utils\\parallel.py:114: UserWarning: `sklearn.utils.parallel.delayed` should be used with `sklearn.utils.parallel.Parallel` to make it possible to propagate the scikit-learn configuration of the current thread to the joblib workers.\n",
      "  warnings.warn(\n",
      "C:\\Users\\admin\\anaconda3\\lib\\site-packages\\sklearn\\utils\\parallel.py:114: UserWarning: `sklearn.utils.parallel.delayed` should be used with `sklearn.utils.parallel.Parallel` to make it possible to propagate the scikit-learn configuration of the current thread to the joblib workers.\n",
      "  warnings.warn(\n",
      "C:\\Users\\admin\\anaconda3\\lib\\site-packages\\sklearn\\utils\\parallel.py:114: UserWarning: `sklearn.utils.parallel.delayed` should be used with `sklearn.utils.parallel.Parallel` to make it possible to propagate the scikit-learn configuration of the current thread to the joblib workers.\n",
      "  warnings.warn(\n",
      "C:\\Users\\admin\\anaconda3\\lib\\site-packages\\sklearn\\utils\\parallel.py:114: UserWarning: `sklearn.utils.parallel.delayed` should be used with `sklearn.utils.parallel.Parallel` to make it possible to propagate the scikit-learn configuration of the current thread to the joblib workers.\n",
      "  warnings.warn(\n",
      "C:\\Users\\admin\\anaconda3\\lib\\site-packages\\sklearn\\utils\\parallel.py:114: UserWarning: `sklearn.utils.parallel.delayed` should be used with `sklearn.utils.parallel.Parallel` to make it possible to propagate the scikit-learn configuration of the current thread to the joblib workers.\n",
      "  warnings.warn(\n",
      "C:\\Users\\admin\\anaconda3\\lib\\site-packages\\sklearn\\utils\\parallel.py:114: UserWarning: `sklearn.utils.parallel.delayed` should be used with `sklearn.utils.parallel.Parallel` to make it possible to propagate the scikit-learn configuration of the current thread to the joblib workers.\n",
      "  warnings.warn(\n",
      "C:\\Users\\admin\\anaconda3\\lib\\site-packages\\sklearn\\utils\\parallel.py:114: UserWarning: `sklearn.utils.parallel.delayed` should be used with `sklearn.utils.parallel.Parallel` to make it possible to propagate the scikit-learn configuration of the current thread to the joblib workers.\n",
      "  warnings.warn(\n",
      "C:\\Users\\admin\\anaconda3\\lib\\site-packages\\sklearn\\utils\\parallel.py:114: UserWarning: `sklearn.utils.parallel.delayed` should be used with `sklearn.utils.parallel.Parallel` to make it possible to propagate the scikit-learn configuration of the current thread to the joblib workers.\n",
      "  warnings.warn(\n",
      "C:\\Users\\admin\\anaconda3\\lib\\site-packages\\sklearn\\utils\\parallel.py:114: UserWarning: `sklearn.utils.parallel.delayed` should be used with `sklearn.utils.parallel.Parallel` to make it possible to propagate the scikit-learn configuration of the current thread to the joblib workers.\n",
      "  warnings.warn(\n",
      "C:\\Users\\admin\\anaconda3\\lib\\site-packages\\sklearn\\utils\\parallel.py:114: UserWarning: `sklearn.utils.parallel.delayed` should be used with `sklearn.utils.parallel.Parallel` to make it possible to propagate the scikit-learn configuration of the current thread to the joblib workers.\n",
      "  warnings.warn(\n",
      "C:\\Users\\admin\\anaconda3\\lib\\site-packages\\sklearn\\utils\\deprecation.py:86: FutureWarning: Function delayed is deprecated; The function `delayed` has been moved from `sklearn.utils.fixes` to `sklearn.utils.parallel`. This import path will be removed in 1.5.\n",
      "  warnings.warn(msg, category=FutureWarning)\n",
      "C:\\Users\\admin\\anaconda3\\lib\\site-packages\\sklearn\\utils\\parallel.py:114: UserWarning: `sklearn.utils.parallel.delayed` should be used with `sklearn.utils.parallel.Parallel` to make it possible to propagate the scikit-learn configuration of the current thread to the joblib workers.\n",
      "  warnings.warn(\n",
      "C:\\Users\\admin\\anaconda3\\lib\\site-packages\\sklearn\\utils\\parallel.py:114: UserWarning: `sklearn.utils.parallel.delayed` should be used with `sklearn.utils.parallel.Parallel` to make it possible to propagate the scikit-learn configuration of the current thread to the joblib workers.\n",
      "  warnings.warn(\n",
      "C:\\Users\\admin\\anaconda3\\lib\\site-packages\\sklearn\\utils\\parallel.py:114: UserWarning: `sklearn.utils.parallel.delayed` should be used with `sklearn.utils.parallel.Parallel` to make it possible to propagate the scikit-learn configuration of the current thread to the joblib workers.\n",
      "  warnings.warn(\n",
      "C:\\Users\\admin\\anaconda3\\lib\\site-packages\\sklearn\\utils\\parallel.py:114: UserWarning: `sklearn.utils.parallel.delayed` should be used with `sklearn.utils.parallel.Parallel` to make it possible to propagate the scikit-learn configuration of the current thread to the joblib workers.\n",
      "  warnings.warn(\n",
      "C:\\Users\\admin\\anaconda3\\lib\\site-packages\\sklearn\\utils\\parallel.py:114: UserWarning: `sklearn.utils.parallel.delayed` should be used with `sklearn.utils.parallel.Parallel` to make it possible to propagate the scikit-learn configuration of the current thread to the joblib workers.\n",
      "  warnings.warn(\n",
      "C:\\Users\\admin\\anaconda3\\lib\\site-packages\\sklearn\\utils\\parallel.py:114: UserWarning: `sklearn.utils.parallel.delayed` should be used with `sklearn.utils.parallel.Parallel` to make it possible to propagate the scikit-learn configuration of the current thread to the joblib workers.\n",
      "  warnings.warn(\n",
      "C:\\Users\\admin\\anaconda3\\lib\\site-packages\\sklearn\\utils\\parallel.py:114: UserWarning: `sklearn.utils.parallel.delayed` should be used with `sklearn.utils.parallel.Parallel` to make it possible to propagate the scikit-learn configuration of the current thread to the joblib workers.\n",
      "  warnings.warn(\n",
      "C:\\Users\\admin\\anaconda3\\lib\\site-packages\\sklearn\\utils\\parallel.py:114: UserWarning: `sklearn.utils.parallel.delayed` should be used with `sklearn.utils.parallel.Parallel` to make it possible to propagate the scikit-learn configuration of the current thread to the joblib workers.\n",
      "  warnings.warn(\n",
      "C:\\Users\\admin\\anaconda3\\lib\\site-packages\\sklearn\\utils\\parallel.py:114: UserWarning: `sklearn.utils.parallel.delayed` should be used with `sklearn.utils.parallel.Parallel` to make it possible to propagate the scikit-learn configuration of the current thread to the joblib workers.\n",
      "  warnings.warn(\n",
      "C:\\Users\\admin\\anaconda3\\lib\\site-packages\\sklearn\\utils\\parallel.py:114: UserWarning: `sklearn.utils.parallel.delayed` should be used with `sklearn.utils.parallel.Parallel` to make it possible to propagate the scikit-learn configuration of the current thread to the joblib workers.\n",
      "  warnings.warn(\n",
      "C:\\Users\\admin\\anaconda3\\lib\\site-packages\\sklearn\\utils\\parallel.py:114: UserWarning: `sklearn.utils.parallel.delayed` should be used with `sklearn.utils.parallel.Parallel` to make it possible to propagate the scikit-learn configuration of the current thread to the joblib workers.\n",
      "  warnings.warn(\n",
      "C:\\Users\\admin\\anaconda3\\lib\\site-packages\\sklearn\\utils\\parallel.py:114: UserWarning: `sklearn.utils.parallel.delayed` should be used with `sklearn.utils.parallel.Parallel` to make it possible to propagate the scikit-learn configuration of the current thread to the joblib workers.\n",
      "  warnings.warn(\n",
      "C:\\Users\\admin\\anaconda3\\lib\\site-packages\\sklearn\\utils\\deprecation.py:86: FutureWarning: Function delayed is deprecated; The function `delayed` has been moved from `sklearn.utils.fixes` to `sklearn.utils.parallel`. This import path will be removed in 1.5.\n",
      "  warnings.warn(msg, category=FutureWarning)\n",
      "C:\\Users\\admin\\anaconda3\\lib\\site-packages\\sklearn\\utils\\parallel.py:114: UserWarning: `sklearn.utils.parallel.delayed` should be used with `sklearn.utils.parallel.Parallel` to make it possible to propagate the scikit-learn configuration of the current thread to the joblib workers.\n",
      "  warnings.warn(\n",
      "C:\\Users\\admin\\anaconda3\\lib\\site-packages\\sklearn\\utils\\parallel.py:114: UserWarning: `sklearn.utils.parallel.delayed` should be used with `sklearn.utils.parallel.Parallel` to make it possible to propagate the scikit-learn configuration of the current thread to the joblib workers.\n",
      "  warnings.warn(\n",
      "C:\\Users\\admin\\anaconda3\\lib\\site-packages\\sklearn\\utils\\parallel.py:114: UserWarning: `sklearn.utils.parallel.delayed` should be used with `sklearn.utils.parallel.Parallel` to make it possible to propagate the scikit-learn configuration of the current thread to the joblib workers.\n",
      "  warnings.warn(\n",
      "C:\\Users\\admin\\anaconda3\\lib\\site-packages\\sklearn\\utils\\parallel.py:114: UserWarning: `sklearn.utils.parallel.delayed` should be used with `sklearn.utils.parallel.Parallel` to make it possible to propagate the scikit-learn configuration of the current thread to the joblib workers.\n",
      "  warnings.warn(\n",
      "C:\\Users\\admin\\anaconda3\\lib\\site-packages\\sklearn\\utils\\parallel.py:114: UserWarning: `sklearn.utils.parallel.delayed` should be used with `sklearn.utils.parallel.Parallel` to make it possible to propagate the scikit-learn configuration of the current thread to the joblib workers.\n",
      "  warnings.warn(\n",
      "C:\\Users\\admin\\anaconda3\\lib\\site-packages\\sklearn\\utils\\parallel.py:114: UserWarning: `sklearn.utils.parallel.delayed` should be used with `sklearn.utils.parallel.Parallel` to make it possible to propagate the scikit-learn configuration of the current thread to the joblib workers.\n",
      "  warnings.warn(\n",
      "C:\\Users\\admin\\anaconda3\\lib\\site-packages\\sklearn\\utils\\parallel.py:114: UserWarning: `sklearn.utils.parallel.delayed` should be used with `sklearn.utils.parallel.Parallel` to make it possible to propagate the scikit-learn configuration of the current thread to the joblib workers.\n",
      "  warnings.warn(\n",
      "C:\\Users\\admin\\anaconda3\\lib\\site-packages\\sklearn\\utils\\parallel.py:114: UserWarning: `sklearn.utils.parallel.delayed` should be used with `sklearn.utils.parallel.Parallel` to make it possible to propagate the scikit-learn configuration of the current thread to the joblib workers.\n",
      "  warnings.warn(\n",
      "C:\\Users\\admin\\anaconda3\\lib\\site-packages\\sklearn\\utils\\parallel.py:114: UserWarning: `sklearn.utils.parallel.delayed` should be used with `sklearn.utils.parallel.Parallel` to make it possible to propagate the scikit-learn configuration of the current thread to the joblib workers.\n",
      "  warnings.warn(\n",
      "C:\\Users\\admin\\anaconda3\\lib\\site-packages\\sklearn\\utils\\parallel.py:114: UserWarning: `sklearn.utils.parallel.delayed` should be used with `sklearn.utils.parallel.Parallel` to make it possible to propagate the scikit-learn configuration of the current thread to the joblib workers.\n",
      "  warnings.warn(\n",
      "C:\\Users\\admin\\anaconda3\\lib\\site-packages\\sklearn\\utils\\parallel.py:114: UserWarning: `sklearn.utils.parallel.delayed` should be used with `sklearn.utils.parallel.Parallel` to make it possible to propagate the scikit-learn configuration of the current thread to the joblib workers.\n",
      "  warnings.warn(\n",
      "C:\\Users\\admin\\anaconda3\\lib\\site-packages\\sklearn\\utils\\parallel.py:114: UserWarning: `sklearn.utils.parallel.delayed` should be used with `sklearn.utils.parallel.Parallel` to make it possible to propagate the scikit-learn configuration of the current thread to the joblib workers.\n",
      "  warnings.warn(\n",
      "C:\\Users\\admin\\anaconda3\\lib\\site-packages\\sklearn\\utils\\deprecation.py:86: FutureWarning: Function delayed is deprecated; The function `delayed` has been moved from `sklearn.utils.fixes` to `sklearn.utils.parallel`. This import path will be removed in 1.5.\n",
      "  warnings.warn(msg, category=FutureWarning)\n",
      "C:\\Users\\admin\\anaconda3\\lib\\site-packages\\sklearn\\utils\\parallel.py:114: UserWarning: `sklearn.utils.parallel.delayed` should be used with `sklearn.utils.parallel.Parallel` to make it possible to propagate the scikit-learn configuration of the current thread to the joblib workers.\n",
      "  warnings.warn(\n",
      "C:\\Users\\admin\\anaconda3\\lib\\site-packages\\sklearn\\utils\\parallel.py:114: UserWarning: `sklearn.utils.parallel.delayed` should be used with `sklearn.utils.parallel.Parallel` to make it possible to propagate the scikit-learn configuration of the current thread to the joblib workers.\n",
      "  warnings.warn(\n",
      "C:\\Users\\admin\\anaconda3\\lib\\site-packages\\sklearn\\utils\\parallel.py:114: UserWarning: `sklearn.utils.parallel.delayed` should be used with `sklearn.utils.parallel.Parallel` to make it possible to propagate the scikit-learn configuration of the current thread to the joblib workers.\n",
      "  warnings.warn(\n",
      "C:\\Users\\admin\\anaconda3\\lib\\site-packages\\sklearn\\utils\\parallel.py:114: UserWarning: `sklearn.utils.parallel.delayed` should be used with `sklearn.utils.parallel.Parallel` to make it possible to propagate the scikit-learn configuration of the current thread to the joblib workers.\n",
      "  warnings.warn(\n",
      "C:\\Users\\admin\\anaconda3\\lib\\site-packages\\sklearn\\utils\\parallel.py:114: UserWarning: `sklearn.utils.parallel.delayed` should be used with `sklearn.utils.parallel.Parallel` to make it possible to propagate the scikit-learn configuration of the current thread to the joblib workers.\n",
      "  warnings.warn(\n",
      "C:\\Users\\admin\\anaconda3\\lib\\site-packages\\sklearn\\utils\\parallel.py:114: UserWarning: `sklearn.utils.parallel.delayed` should be used with `sklearn.utils.parallel.Parallel` to make it possible to propagate the scikit-learn configuration of the current thread to the joblib workers.\n",
      "  warnings.warn(\n",
      "C:\\Users\\admin\\anaconda3\\lib\\site-packages\\sklearn\\utils\\parallel.py:114: UserWarning: `sklearn.utils.parallel.delayed` should be used with `sklearn.utils.parallel.Parallel` to make it possible to propagate the scikit-learn configuration of the current thread to the joblib workers.\n",
      "  warnings.warn(\n",
      "C:\\Users\\admin\\anaconda3\\lib\\site-packages\\sklearn\\utils\\parallel.py:114: UserWarning: `sklearn.utils.parallel.delayed` should be used with `sklearn.utils.parallel.Parallel` to make it possible to propagate the scikit-learn configuration of the current thread to the joblib workers.\n",
      "  warnings.warn(\n",
      "C:\\Users\\admin\\anaconda3\\lib\\site-packages\\sklearn\\utils\\parallel.py:114: UserWarning: `sklearn.utils.parallel.delayed` should be used with `sklearn.utils.parallel.Parallel` to make it possible to propagate the scikit-learn configuration of the current thread to the joblib workers.\n",
      "  warnings.warn(\n",
      "C:\\Users\\admin\\anaconda3\\lib\\site-packages\\sklearn\\utils\\parallel.py:114: UserWarning: `sklearn.utils.parallel.delayed` should be used with `sklearn.utils.parallel.Parallel` to make it possible to propagate the scikit-learn configuration of the current thread to the joblib workers.\n",
      "  warnings.warn(\n",
      "C:\\Users\\admin\\anaconda3\\lib\\site-packages\\sklearn\\utils\\parallel.py:114: UserWarning: `sklearn.utils.parallel.delayed` should be used with `sklearn.utils.parallel.Parallel` to make it possible to propagate the scikit-learn configuration of the current thread to the joblib workers.\n",
      "  warnings.warn(\n",
      "C:\\Users\\admin\\anaconda3\\lib\\site-packages\\sklearn\\utils\\parallel.py:114: UserWarning: `sklearn.utils.parallel.delayed` should be used with `sklearn.utils.parallel.Parallel` to make it possible to propagate the scikit-learn configuration of the current thread to the joblib workers.\n",
      "  warnings.warn(\n",
      "C:\\Users\\admin\\anaconda3\\lib\\site-packages\\sklearn\\utils\\deprecation.py:86: FutureWarning: Function delayed is deprecated; The function `delayed` has been moved from `sklearn.utils.fixes` to `sklearn.utils.parallel`. This import path will be removed in 1.5.\n",
      "  warnings.warn(msg, category=FutureWarning)\n",
      "C:\\Users\\admin\\anaconda3\\lib\\site-packages\\sklearn\\utils\\parallel.py:114: UserWarning: `sklearn.utils.parallel.delayed` should be used with `sklearn.utils.parallel.Parallel` to make it possible to propagate the scikit-learn configuration of the current thread to the joblib workers.\n",
      "  warnings.warn(\n",
      "C:\\Users\\admin\\anaconda3\\lib\\site-packages\\sklearn\\utils\\parallel.py:114: UserWarning: `sklearn.utils.parallel.delayed` should be used with `sklearn.utils.parallel.Parallel` to make it possible to propagate the scikit-learn configuration of the current thread to the joblib workers.\n",
      "  warnings.warn(\n",
      "C:\\Users\\admin\\anaconda3\\lib\\site-packages\\sklearn\\utils\\parallel.py:114: UserWarning: `sklearn.utils.parallel.delayed` should be used with `sklearn.utils.parallel.Parallel` to make it possible to propagate the scikit-learn configuration of the current thread to the joblib workers.\n",
      "  warnings.warn(\n",
      "C:\\Users\\admin\\anaconda3\\lib\\site-packages\\sklearn\\utils\\parallel.py:114: UserWarning: `sklearn.utils.parallel.delayed` should be used with `sklearn.utils.parallel.Parallel` to make it possible to propagate the scikit-learn configuration of the current thread to the joblib workers.\n",
      "  warnings.warn(\n",
      "C:\\Users\\admin\\anaconda3\\lib\\site-packages\\sklearn\\utils\\parallel.py:114: UserWarning: `sklearn.utils.parallel.delayed` should be used with `sklearn.utils.parallel.Parallel` to make it possible to propagate the scikit-learn configuration of the current thread to the joblib workers.\n",
      "  warnings.warn(\n",
      "C:\\Users\\admin\\anaconda3\\lib\\site-packages\\sklearn\\utils\\parallel.py:114: UserWarning: `sklearn.utils.parallel.delayed` should be used with `sklearn.utils.parallel.Parallel` to make it possible to propagate the scikit-learn configuration of the current thread to the joblib workers.\n",
      "  warnings.warn(\n",
      "C:\\Users\\admin\\anaconda3\\lib\\site-packages\\sklearn\\utils\\parallel.py:114: UserWarning: `sklearn.utils.parallel.delayed` should be used with `sklearn.utils.parallel.Parallel` to make it possible to propagate the scikit-learn configuration of the current thread to the joblib workers.\n",
      "  warnings.warn(\n",
      "C:\\Users\\admin\\anaconda3\\lib\\site-packages\\sklearn\\utils\\parallel.py:114: UserWarning: `sklearn.utils.parallel.delayed` should be used with `sklearn.utils.parallel.Parallel` to make it possible to propagate the scikit-learn configuration of the current thread to the joblib workers.\n",
      "  warnings.warn(\n",
      "C:\\Users\\admin\\anaconda3\\lib\\site-packages\\sklearn\\utils\\parallel.py:114: UserWarning: `sklearn.utils.parallel.delayed` should be used with `sklearn.utils.parallel.Parallel` to make it possible to propagate the scikit-learn configuration of the current thread to the joblib workers.\n",
      "  warnings.warn(\n",
      "C:\\Users\\admin\\anaconda3\\lib\\site-packages\\sklearn\\utils\\parallel.py:114: UserWarning: `sklearn.utils.parallel.delayed` should be used with `sklearn.utils.parallel.Parallel` to make it possible to propagate the scikit-learn configuration of the current thread to the joblib workers.\n",
      "  warnings.warn(\n",
      "C:\\Users\\admin\\anaconda3\\lib\\site-packages\\sklearn\\utils\\parallel.py:114: UserWarning: `sklearn.utils.parallel.delayed` should be used with `sklearn.utils.parallel.Parallel` to make it possible to propagate the scikit-learn configuration of the current thread to the joblib workers.\n",
      "  warnings.warn(\n",
      "C:\\Users\\admin\\anaconda3\\lib\\site-packages\\sklearn\\utils\\parallel.py:114: UserWarning: `sklearn.utils.parallel.delayed` should be used with `sklearn.utils.parallel.Parallel` to make it possible to propagate the scikit-learn configuration of the current thread to the joblib workers.\n",
      "  warnings.warn(\n",
      "C:\\Users\\admin\\anaconda3\\lib\\site-packages\\sklearn\\utils\\parallel.py:114: UserWarning: `sklearn.utils.parallel.delayed` should be used with `sklearn.utils.parallel.Parallel` to make it possible to propagate the scikit-learn configuration of the current thread to the joblib workers.\n",
      "  warnings.warn(\n",
      "C:\\Users\\admin\\anaconda3\\lib\\site-packages\\sklearn\\utils\\parallel.py:114: UserWarning: `sklearn.utils.parallel.delayed` should be used with `sklearn.utils.parallel.Parallel` to make it possible to propagate the scikit-learn configuration of the current thread to the joblib workers.\n",
      "  warnings.warn(\n",
      "C:\\Users\\admin\\anaconda3\\lib\\site-packages\\sklearn\\utils\\parallel.py:114: UserWarning: `sklearn.utils.parallel.delayed` should be used with `sklearn.utils.parallel.Parallel` to make it possible to propagate the scikit-learn configuration of the current thread to the joblib workers.\n",
      "  warnings.warn(\n"
     ]
    }
   ],
   "source": [
    "# BASE\n",
    "brf.fit(X_train_base, y_train_base)\n",
    "add_to_eval_df(brf, \"BalancedRandomForest\", \"BALANCED base\", X_train_base, y_train_base, X_test_base, y_test_base)"
   ],
   "metadata": {
    "collapsed": false,
    "ExecuteTime": {
     "end_time": "2024-11-11T19:45:26.308322700Z",
     "start_time": "2024-11-11T19:45:24.737176700Z"
    }
   }
  },
  {
   "cell_type": "code",
   "execution_count": 49,
   "outputs": [
    {
     "name": "stderr",
     "output_type": "stream",
     "text": [
      "C:\\Users\\admin\\anaconda3\\lib\\site-packages\\sklearn\\utils\\deprecation.py:86: FutureWarning: Function delayed is deprecated; The function `delayed` has been moved from `sklearn.utils.fixes` to `sklearn.utils.parallel`. This import path will be removed in 1.5.\n",
      "  warnings.warn(msg, category=FutureWarning)\n",
      "C:\\Users\\admin\\anaconda3\\lib\\site-packages\\sklearn\\utils\\parallel.py:114: UserWarning: `sklearn.utils.parallel.delayed` should be used with `sklearn.utils.parallel.Parallel` to make it possible to propagate the scikit-learn configuration of the current thread to the joblib workers.\n",
      "  warnings.warn(\n",
      "C:\\Users\\admin\\anaconda3\\lib\\site-packages\\sklearn\\utils\\parallel.py:114: UserWarning: `sklearn.utils.parallel.delayed` should be used with `sklearn.utils.parallel.Parallel` to make it possible to propagate the scikit-learn configuration of the current thread to the joblib workers.\n",
      "  warnings.warn(\n",
      "C:\\Users\\admin\\anaconda3\\lib\\site-packages\\sklearn\\utils\\parallel.py:114: UserWarning: `sklearn.utils.parallel.delayed` should be used with `sklearn.utils.parallel.Parallel` to make it possible to propagate the scikit-learn configuration of the current thread to the joblib workers.\n",
      "  warnings.warn(\n",
      "C:\\Users\\admin\\anaconda3\\lib\\site-packages\\sklearn\\utils\\parallel.py:114: UserWarning: `sklearn.utils.parallel.delayed` should be used with `sklearn.utils.parallel.Parallel` to make it possible to propagate the scikit-learn configuration of the current thread to the joblib workers.\n",
      "  warnings.warn(\n",
      "C:\\Users\\admin\\anaconda3\\lib\\site-packages\\sklearn\\utils\\parallel.py:114: UserWarning: `sklearn.utils.parallel.delayed` should be used with `sklearn.utils.parallel.Parallel` to make it possible to propagate the scikit-learn configuration of the current thread to the joblib workers.\n",
      "  warnings.warn(\n",
      "C:\\Users\\admin\\anaconda3\\lib\\site-packages\\sklearn\\utils\\parallel.py:114: UserWarning: `sklearn.utils.parallel.delayed` should be used with `sklearn.utils.parallel.Parallel` to make it possible to propagate the scikit-learn configuration of the current thread to the joblib workers.\n",
      "  warnings.warn(\n",
      "C:\\Users\\admin\\anaconda3\\lib\\site-packages\\sklearn\\utils\\parallel.py:114: UserWarning: `sklearn.utils.parallel.delayed` should be used with `sklearn.utils.parallel.Parallel` to make it possible to propagate the scikit-learn configuration of the current thread to the joblib workers.\n",
      "  warnings.warn(\n",
      "C:\\Users\\admin\\anaconda3\\lib\\site-packages\\sklearn\\utils\\parallel.py:114: UserWarning: `sklearn.utils.parallel.delayed` should be used with `sklearn.utils.parallel.Parallel` to make it possible to propagate the scikit-learn configuration of the current thread to the joblib workers.\n",
      "  warnings.warn(\n",
      "C:\\Users\\admin\\anaconda3\\lib\\site-packages\\sklearn\\utils\\parallel.py:114: UserWarning: `sklearn.utils.parallel.delayed` should be used with `sklearn.utils.parallel.Parallel` to make it possible to propagate the scikit-learn configuration of the current thread to the joblib workers.\n",
      "  warnings.warn(\n",
      "C:\\Users\\admin\\anaconda3\\lib\\site-packages\\sklearn\\utils\\parallel.py:114: UserWarning: `sklearn.utils.parallel.delayed` should be used with `sklearn.utils.parallel.Parallel` to make it possible to propagate the scikit-learn configuration of the current thread to the joblib workers.\n",
      "  warnings.warn(\n",
      "C:\\Users\\admin\\anaconda3\\lib\\site-packages\\sklearn\\utils\\parallel.py:114: UserWarning: `sklearn.utils.parallel.delayed` should be used with `sklearn.utils.parallel.Parallel` to make it possible to propagate the scikit-learn configuration of the current thread to the joblib workers.\n",
      "  warnings.warn(\n",
      "C:\\Users\\admin\\anaconda3\\lib\\site-packages\\sklearn\\utils\\parallel.py:114: UserWarning: `sklearn.utils.parallel.delayed` should be used with `sklearn.utils.parallel.Parallel` to make it possible to propagate the scikit-learn configuration of the current thread to the joblib workers.\n",
      "  warnings.warn(\n",
      "C:\\Users\\admin\\anaconda3\\lib\\site-packages\\sklearn\\utils\\parallel.py:114: UserWarning: `sklearn.utils.parallel.delayed` should be used with `sklearn.utils.parallel.Parallel` to make it possible to propagate the scikit-learn configuration of the current thread to the joblib workers.\n",
      "  warnings.warn(\n",
      "C:\\Users\\admin\\anaconda3\\lib\\site-packages\\sklearn\\utils\\deprecation.py:86: FutureWarning: Function delayed is deprecated; The function `delayed` has been moved from `sklearn.utils.fixes` to `sklearn.utils.parallel`. This import path will be removed in 1.5.\n",
      "  warnings.warn(msg, category=FutureWarning)\n",
      "C:\\Users\\admin\\anaconda3\\lib\\site-packages\\sklearn\\utils\\parallel.py:114: UserWarning: `sklearn.utils.parallel.delayed` should be used with `sklearn.utils.parallel.Parallel` to make it possible to propagate the scikit-learn configuration of the current thread to the joblib workers.\n",
      "  warnings.warn(\n",
      "C:\\Users\\admin\\anaconda3\\lib\\site-packages\\sklearn\\utils\\parallel.py:114: UserWarning: `sklearn.utils.parallel.delayed` should be used with `sklearn.utils.parallel.Parallel` to make it possible to propagate the scikit-learn configuration of the current thread to the joblib workers.\n",
      "  warnings.warn(\n",
      "C:\\Users\\admin\\anaconda3\\lib\\site-packages\\sklearn\\utils\\parallel.py:114: UserWarning: `sklearn.utils.parallel.delayed` should be used with `sklearn.utils.parallel.Parallel` to make it possible to propagate the scikit-learn configuration of the current thread to the joblib workers.\n",
      "  warnings.warn(\n",
      "C:\\Users\\admin\\anaconda3\\lib\\site-packages\\sklearn\\utils\\parallel.py:114: UserWarning: `sklearn.utils.parallel.delayed` should be used with `sklearn.utils.parallel.Parallel` to make it possible to propagate the scikit-learn configuration of the current thread to the joblib workers.\n",
      "  warnings.warn(\n",
      "C:\\Users\\admin\\anaconda3\\lib\\site-packages\\sklearn\\utils\\parallel.py:114: UserWarning: `sklearn.utils.parallel.delayed` should be used with `sklearn.utils.parallel.Parallel` to make it possible to propagate the scikit-learn configuration of the current thread to the joblib workers.\n",
      "  warnings.warn(\n",
      "C:\\Users\\admin\\anaconda3\\lib\\site-packages\\sklearn\\utils\\parallel.py:114: UserWarning: `sklearn.utils.parallel.delayed` should be used with `sklearn.utils.parallel.Parallel` to make it possible to propagate the scikit-learn configuration of the current thread to the joblib workers.\n",
      "  warnings.warn(\n",
      "C:\\Users\\admin\\anaconda3\\lib\\site-packages\\sklearn\\utils\\parallel.py:114: UserWarning: `sklearn.utils.parallel.delayed` should be used with `sklearn.utils.parallel.Parallel` to make it possible to propagate the scikit-learn configuration of the current thread to the joblib workers.\n",
      "  warnings.warn(\n",
      "C:\\Users\\admin\\anaconda3\\lib\\site-packages\\sklearn\\utils\\parallel.py:114: UserWarning: `sklearn.utils.parallel.delayed` should be used with `sklearn.utils.parallel.Parallel` to make it possible to propagate the scikit-learn configuration of the current thread to the joblib workers.\n",
      "  warnings.warn(\n",
      "C:\\Users\\admin\\anaconda3\\lib\\site-packages\\sklearn\\utils\\parallel.py:114: UserWarning: `sklearn.utils.parallel.delayed` should be used with `sklearn.utils.parallel.Parallel` to make it possible to propagate the scikit-learn configuration of the current thread to the joblib workers.\n",
      "  warnings.warn(\n",
      "C:\\Users\\admin\\anaconda3\\lib\\site-packages\\sklearn\\utils\\parallel.py:114: UserWarning: `sklearn.utils.parallel.delayed` should be used with `sklearn.utils.parallel.Parallel` to make it possible to propagate the scikit-learn configuration of the current thread to the joblib workers.\n",
      "  warnings.warn(\n",
      "C:\\Users\\admin\\anaconda3\\lib\\site-packages\\sklearn\\utils\\parallel.py:114: UserWarning: `sklearn.utils.parallel.delayed` should be used with `sklearn.utils.parallel.Parallel` to make it possible to propagate the scikit-learn configuration of the current thread to the joblib workers.\n",
      "  warnings.warn(\n",
      "C:\\Users\\admin\\anaconda3\\lib\\site-packages\\sklearn\\utils\\parallel.py:114: UserWarning: `sklearn.utils.parallel.delayed` should be used with `sklearn.utils.parallel.Parallel` to make it possible to propagate the scikit-learn configuration of the current thread to the joblib workers.\n",
      "  warnings.warn(\n",
      "C:\\Users\\admin\\anaconda3\\lib\\site-packages\\sklearn\\utils\\deprecation.py:86: FutureWarning: Function delayed is deprecated; The function `delayed` has been moved from `sklearn.utils.fixes` to `sklearn.utils.parallel`. This import path will be removed in 1.5.\n",
      "  warnings.warn(msg, category=FutureWarning)\n",
      "C:\\Users\\admin\\anaconda3\\lib\\site-packages\\sklearn\\utils\\parallel.py:114: UserWarning: `sklearn.utils.parallel.delayed` should be used with `sklearn.utils.parallel.Parallel` to make it possible to propagate the scikit-learn configuration of the current thread to the joblib workers.\n",
      "  warnings.warn(\n",
      "C:\\Users\\admin\\anaconda3\\lib\\site-packages\\sklearn\\utils\\parallel.py:114: UserWarning: `sklearn.utils.parallel.delayed` should be used with `sklearn.utils.parallel.Parallel` to make it possible to propagate the scikit-learn configuration of the current thread to the joblib workers.\n",
      "  warnings.warn(\n",
      "C:\\Users\\admin\\anaconda3\\lib\\site-packages\\sklearn\\utils\\parallel.py:114: UserWarning: `sklearn.utils.parallel.delayed` should be used with `sklearn.utils.parallel.Parallel` to make it possible to propagate the scikit-learn configuration of the current thread to the joblib workers.\n",
      "  warnings.warn(\n",
      "C:\\Users\\admin\\anaconda3\\lib\\site-packages\\sklearn\\utils\\parallel.py:114: UserWarning: `sklearn.utils.parallel.delayed` should be used with `sklearn.utils.parallel.Parallel` to make it possible to propagate the scikit-learn configuration of the current thread to the joblib workers.\n",
      "  warnings.warn(\n",
      "C:\\Users\\admin\\anaconda3\\lib\\site-packages\\sklearn\\utils\\parallel.py:114: UserWarning: `sklearn.utils.parallel.delayed` should be used with `sklearn.utils.parallel.Parallel` to make it possible to propagate the scikit-learn configuration of the current thread to the joblib workers.\n",
      "  warnings.warn(\n",
      "C:\\Users\\admin\\anaconda3\\lib\\site-packages\\sklearn\\utils\\parallel.py:114: UserWarning: `sklearn.utils.parallel.delayed` should be used with `sklearn.utils.parallel.Parallel` to make it possible to propagate the scikit-learn configuration of the current thread to the joblib workers.\n",
      "  warnings.warn(\n",
      "C:\\Users\\admin\\anaconda3\\lib\\site-packages\\sklearn\\utils\\parallel.py:114: UserWarning: `sklearn.utils.parallel.delayed` should be used with `sklearn.utils.parallel.Parallel` to make it possible to propagate the scikit-learn configuration of the current thread to the joblib workers.\n",
      "  warnings.warn(\n",
      "C:\\Users\\admin\\anaconda3\\lib\\site-packages\\sklearn\\utils\\parallel.py:114: UserWarning: `sklearn.utils.parallel.delayed` should be used with `sklearn.utils.parallel.Parallel` to make it possible to propagate the scikit-learn configuration of the current thread to the joblib workers.\n",
      "  warnings.warn(\n",
      "C:\\Users\\admin\\anaconda3\\lib\\site-packages\\sklearn\\utils\\parallel.py:114: UserWarning: `sklearn.utils.parallel.delayed` should be used with `sklearn.utils.parallel.Parallel` to make it possible to propagate the scikit-learn configuration of the current thread to the joblib workers.\n",
      "  warnings.warn(\n",
      "C:\\Users\\admin\\anaconda3\\lib\\site-packages\\sklearn\\utils\\parallel.py:114: UserWarning: `sklearn.utils.parallel.delayed` should be used with `sklearn.utils.parallel.Parallel` to make it possible to propagate the scikit-learn configuration of the current thread to the joblib workers.\n",
      "  warnings.warn(\n",
      "C:\\Users\\admin\\anaconda3\\lib\\site-packages\\sklearn\\utils\\parallel.py:114: UserWarning: `sklearn.utils.parallel.delayed` should be used with `sklearn.utils.parallel.Parallel` to make it possible to propagate the scikit-learn configuration of the current thread to the joblib workers.\n",
      "  warnings.warn(\n",
      "C:\\Users\\admin\\anaconda3\\lib\\site-packages\\sklearn\\utils\\parallel.py:114: UserWarning: `sklearn.utils.parallel.delayed` should be used with `sklearn.utils.parallel.Parallel` to make it possible to propagate the scikit-learn configuration of the current thread to the joblib workers.\n",
      "  warnings.warn(\n",
      "C:\\Users\\admin\\anaconda3\\lib\\site-packages\\sklearn\\utils\\deprecation.py:86: FutureWarning: Function delayed is deprecated; The function `delayed` has been moved from `sklearn.utils.fixes` to `sklearn.utils.parallel`. This import path will be removed in 1.5.\n",
      "  warnings.warn(msg, category=FutureWarning)\n",
      "C:\\Users\\admin\\anaconda3\\lib\\site-packages\\sklearn\\utils\\parallel.py:114: UserWarning: `sklearn.utils.parallel.delayed` should be used with `sklearn.utils.parallel.Parallel` to make it possible to propagate the scikit-learn configuration of the current thread to the joblib workers.\n",
      "  warnings.warn(\n",
      "C:\\Users\\admin\\anaconda3\\lib\\site-packages\\sklearn\\utils\\parallel.py:114: UserWarning: `sklearn.utils.parallel.delayed` should be used with `sklearn.utils.parallel.Parallel` to make it possible to propagate the scikit-learn configuration of the current thread to the joblib workers.\n",
      "  warnings.warn(\n",
      "C:\\Users\\admin\\anaconda3\\lib\\site-packages\\sklearn\\utils\\parallel.py:114: UserWarning: `sklearn.utils.parallel.delayed` should be used with `sklearn.utils.parallel.Parallel` to make it possible to propagate the scikit-learn configuration of the current thread to the joblib workers.\n",
      "  warnings.warn(\n",
      "C:\\Users\\admin\\anaconda3\\lib\\site-packages\\sklearn\\utils\\parallel.py:114: UserWarning: `sklearn.utils.parallel.delayed` should be used with `sklearn.utils.parallel.Parallel` to make it possible to propagate the scikit-learn configuration of the current thread to the joblib workers.\n",
      "  warnings.warn(\n",
      "C:\\Users\\admin\\anaconda3\\lib\\site-packages\\sklearn\\utils\\parallel.py:114: UserWarning: `sklearn.utils.parallel.delayed` should be used with `sklearn.utils.parallel.Parallel` to make it possible to propagate the scikit-learn configuration of the current thread to the joblib workers.\n",
      "  warnings.warn(\n",
      "C:\\Users\\admin\\anaconda3\\lib\\site-packages\\sklearn\\utils\\parallel.py:114: UserWarning: `sklearn.utils.parallel.delayed` should be used with `sklearn.utils.parallel.Parallel` to make it possible to propagate the scikit-learn configuration of the current thread to the joblib workers.\n",
      "  warnings.warn(\n",
      "C:\\Users\\admin\\anaconda3\\lib\\site-packages\\sklearn\\utils\\parallel.py:114: UserWarning: `sklearn.utils.parallel.delayed` should be used with `sklearn.utils.parallel.Parallel` to make it possible to propagate the scikit-learn configuration of the current thread to the joblib workers.\n",
      "  warnings.warn(\n",
      "C:\\Users\\admin\\anaconda3\\lib\\site-packages\\sklearn\\utils\\parallel.py:114: UserWarning: `sklearn.utils.parallel.delayed` should be used with `sklearn.utils.parallel.Parallel` to make it possible to propagate the scikit-learn configuration of the current thread to the joblib workers.\n",
      "  warnings.warn(\n",
      "C:\\Users\\admin\\anaconda3\\lib\\site-packages\\sklearn\\utils\\parallel.py:114: UserWarning: `sklearn.utils.parallel.delayed` should be used with `sklearn.utils.parallel.Parallel` to make it possible to propagate the scikit-learn configuration of the current thread to the joblib workers.\n",
      "  warnings.warn(\n",
      "C:\\Users\\admin\\anaconda3\\lib\\site-packages\\sklearn\\utils\\parallel.py:114: UserWarning: `sklearn.utils.parallel.delayed` should be used with `sklearn.utils.parallel.Parallel` to make it possible to propagate the scikit-learn configuration of the current thread to the joblib workers.\n",
      "  warnings.warn(\n",
      "C:\\Users\\admin\\anaconda3\\lib\\site-packages\\sklearn\\utils\\parallel.py:114: UserWarning: `sklearn.utils.parallel.delayed` should be used with `sklearn.utils.parallel.Parallel` to make it possible to propagate the scikit-learn configuration of the current thread to the joblib workers.\n",
      "  warnings.warn(\n",
      "C:\\Users\\admin\\anaconda3\\lib\\site-packages\\sklearn\\utils\\parallel.py:114: UserWarning: `sklearn.utils.parallel.delayed` should be used with `sklearn.utils.parallel.Parallel` to make it possible to propagate the scikit-learn configuration of the current thread to the joblib workers.\n",
      "  warnings.warn(\n",
      "C:\\Users\\admin\\anaconda3\\lib\\site-packages\\sklearn\\utils\\deprecation.py:86: FutureWarning: Function delayed is deprecated; The function `delayed` has been moved from `sklearn.utils.fixes` to `sklearn.utils.parallel`. This import path will be removed in 1.5.\n",
      "  warnings.warn(msg, category=FutureWarning)\n",
      "C:\\Users\\admin\\anaconda3\\lib\\site-packages\\sklearn\\utils\\parallel.py:114: UserWarning: `sklearn.utils.parallel.delayed` should be used with `sklearn.utils.parallel.Parallel` to make it possible to propagate the scikit-learn configuration of the current thread to the joblib workers.\n",
      "  warnings.warn(\n",
      "C:\\Users\\admin\\anaconda3\\lib\\site-packages\\sklearn\\utils\\parallel.py:114: UserWarning: `sklearn.utils.parallel.delayed` should be used with `sklearn.utils.parallel.Parallel` to make it possible to propagate the scikit-learn configuration of the current thread to the joblib workers.\n",
      "  warnings.warn(\n",
      "C:\\Users\\admin\\anaconda3\\lib\\site-packages\\sklearn\\utils\\parallel.py:114: UserWarning: `sklearn.utils.parallel.delayed` should be used with `sklearn.utils.parallel.Parallel` to make it possible to propagate the scikit-learn configuration of the current thread to the joblib workers.\n",
      "  warnings.warn(\n",
      "C:\\Users\\admin\\anaconda3\\lib\\site-packages\\sklearn\\utils\\parallel.py:114: UserWarning: `sklearn.utils.parallel.delayed` should be used with `sklearn.utils.parallel.Parallel` to make it possible to propagate the scikit-learn configuration of the current thread to the joblib workers.\n",
      "  warnings.warn(\n",
      "C:\\Users\\admin\\anaconda3\\lib\\site-packages\\sklearn\\utils\\parallel.py:114: UserWarning: `sklearn.utils.parallel.delayed` should be used with `sklearn.utils.parallel.Parallel` to make it possible to propagate the scikit-learn configuration of the current thread to the joblib workers.\n",
      "  warnings.warn(\n",
      "C:\\Users\\admin\\anaconda3\\lib\\site-packages\\sklearn\\utils\\parallel.py:114: UserWarning: `sklearn.utils.parallel.delayed` should be used with `sklearn.utils.parallel.Parallel` to make it possible to propagate the scikit-learn configuration of the current thread to the joblib workers.\n",
      "  warnings.warn(\n",
      "C:\\Users\\admin\\anaconda3\\lib\\site-packages\\sklearn\\utils\\parallel.py:114: UserWarning: `sklearn.utils.parallel.delayed` should be used with `sklearn.utils.parallel.Parallel` to make it possible to propagate the scikit-learn configuration of the current thread to the joblib workers.\n",
      "  warnings.warn(\n",
      "C:\\Users\\admin\\anaconda3\\lib\\site-packages\\sklearn\\utils\\parallel.py:114: UserWarning: `sklearn.utils.parallel.delayed` should be used with `sklearn.utils.parallel.Parallel` to make it possible to propagate the scikit-learn configuration of the current thread to the joblib workers.\n",
      "  warnings.warn(\n",
      "C:\\Users\\admin\\anaconda3\\lib\\site-packages\\sklearn\\utils\\parallel.py:114: UserWarning: `sklearn.utils.parallel.delayed` should be used with `sklearn.utils.parallel.Parallel` to make it possible to propagate the scikit-learn configuration of the current thread to the joblib workers.\n",
      "  warnings.warn(\n",
      "C:\\Users\\admin\\anaconda3\\lib\\site-packages\\sklearn\\utils\\parallel.py:114: UserWarning: `sklearn.utils.parallel.delayed` should be used with `sklearn.utils.parallel.Parallel` to make it possible to propagate the scikit-learn configuration of the current thread to the joblib workers.\n",
      "  warnings.warn(\n",
      "C:\\Users\\admin\\anaconda3\\lib\\site-packages\\sklearn\\utils\\parallel.py:114: UserWarning: `sklearn.utils.parallel.delayed` should be used with `sklearn.utils.parallel.Parallel` to make it possible to propagate the scikit-learn configuration of the current thread to the joblib workers.\n",
      "  warnings.warn(\n",
      "C:\\Users\\admin\\anaconda3\\lib\\site-packages\\sklearn\\utils\\parallel.py:114: UserWarning: `sklearn.utils.parallel.delayed` should be used with `sklearn.utils.parallel.Parallel` to make it possible to propagate the scikit-learn configuration of the current thread to the joblib workers.\n",
      "  warnings.warn(\n",
      "C:\\Users\\admin\\anaconda3\\lib\\site-packages\\sklearn\\utils\\deprecation.py:86: FutureWarning: Function delayed is deprecated; The function `delayed` has been moved from `sklearn.utils.fixes` to `sklearn.utils.parallel`. This import path will be removed in 1.5.\n",
      "  warnings.warn(msg, category=FutureWarning)\n",
      "C:\\Users\\admin\\anaconda3\\lib\\site-packages\\sklearn\\utils\\parallel.py:114: UserWarning: `sklearn.utils.parallel.delayed` should be used with `sklearn.utils.parallel.Parallel` to make it possible to propagate the scikit-learn configuration of the current thread to the joblib workers.\n",
      "  warnings.warn(\n",
      "C:\\Users\\admin\\anaconda3\\lib\\site-packages\\sklearn\\utils\\parallel.py:114: UserWarning: `sklearn.utils.parallel.delayed` should be used with `sklearn.utils.parallel.Parallel` to make it possible to propagate the scikit-learn configuration of the current thread to the joblib workers.\n",
      "  warnings.warn(\n",
      "C:\\Users\\admin\\anaconda3\\lib\\site-packages\\sklearn\\utils\\parallel.py:114: UserWarning: `sklearn.utils.parallel.delayed` should be used with `sklearn.utils.parallel.Parallel` to make it possible to propagate the scikit-learn configuration of the current thread to the joblib workers.\n",
      "  warnings.warn(\n",
      "C:\\Users\\admin\\anaconda3\\lib\\site-packages\\sklearn\\utils\\parallel.py:114: UserWarning: `sklearn.utils.parallel.delayed` should be used with `sklearn.utils.parallel.Parallel` to make it possible to propagate the scikit-learn configuration of the current thread to the joblib workers.\n",
      "  warnings.warn(\n",
      "C:\\Users\\admin\\anaconda3\\lib\\site-packages\\sklearn\\utils\\parallel.py:114: UserWarning: `sklearn.utils.parallel.delayed` should be used with `sklearn.utils.parallel.Parallel` to make it possible to propagate the scikit-learn configuration of the current thread to the joblib workers.\n",
      "  warnings.warn(\n",
      "C:\\Users\\admin\\anaconda3\\lib\\site-packages\\sklearn\\utils\\parallel.py:114: UserWarning: `sklearn.utils.parallel.delayed` should be used with `sklearn.utils.parallel.Parallel` to make it possible to propagate the scikit-learn configuration of the current thread to the joblib workers.\n",
      "  warnings.warn(\n",
      "C:\\Users\\admin\\anaconda3\\lib\\site-packages\\sklearn\\utils\\parallel.py:114: UserWarning: `sklearn.utils.parallel.delayed` should be used with `sklearn.utils.parallel.Parallel` to make it possible to propagate the scikit-learn configuration of the current thread to the joblib workers.\n",
      "  warnings.warn(\n",
      "C:\\Users\\admin\\anaconda3\\lib\\site-packages\\sklearn\\utils\\parallel.py:114: UserWarning: `sklearn.utils.parallel.delayed` should be used with `sklearn.utils.parallel.Parallel` to make it possible to propagate the scikit-learn configuration of the current thread to the joblib workers.\n",
      "  warnings.warn(\n",
      "C:\\Users\\admin\\anaconda3\\lib\\site-packages\\sklearn\\utils\\parallel.py:114: UserWarning: `sklearn.utils.parallel.delayed` should be used with `sklearn.utils.parallel.Parallel` to make it possible to propagate the scikit-learn configuration of the current thread to the joblib workers.\n",
      "  warnings.warn(\n",
      "C:\\Users\\admin\\anaconda3\\lib\\site-packages\\sklearn\\utils\\parallel.py:114: UserWarning: `sklearn.utils.parallel.delayed` should be used with `sklearn.utils.parallel.Parallel` to make it possible to propagate the scikit-learn configuration of the current thread to the joblib workers.\n",
      "  warnings.warn(\n",
      "C:\\Users\\admin\\anaconda3\\lib\\site-packages\\sklearn\\utils\\parallel.py:114: UserWarning: `sklearn.utils.parallel.delayed` should be used with `sklearn.utils.parallel.Parallel` to make it possible to propagate the scikit-learn configuration of the current thread to the joblib workers.\n",
      "  warnings.warn(\n",
      "C:\\Users\\admin\\anaconda3\\lib\\site-packages\\sklearn\\utils\\parallel.py:114: UserWarning: `sklearn.utils.parallel.delayed` should be used with `sklearn.utils.parallel.Parallel` to make it possible to propagate the scikit-learn configuration of the current thread to the joblib workers.\n",
      "  warnings.warn(\n",
      "C:\\Users\\admin\\anaconda3\\lib\\site-packages\\sklearn\\utils\\parallel.py:114: UserWarning: `sklearn.utils.parallel.delayed` should be used with `sklearn.utils.parallel.Parallel` to make it possible to propagate the scikit-learn configuration of the current thread to the joblib workers.\n",
      "  warnings.warn(\n",
      "C:\\Users\\admin\\anaconda3\\lib\\site-packages\\sklearn\\utils\\deprecation.py:86: FutureWarning: Function delayed is deprecated; The function `delayed` has been moved from `sklearn.utils.fixes` to `sklearn.utils.parallel`. This import path will be removed in 1.5.\n",
      "  warnings.warn(msg, category=FutureWarning)\n",
      "C:\\Users\\admin\\anaconda3\\lib\\site-packages\\sklearn\\utils\\parallel.py:114: UserWarning: `sklearn.utils.parallel.delayed` should be used with `sklearn.utils.parallel.Parallel` to make it possible to propagate the scikit-learn configuration of the current thread to the joblib workers.\n",
      "  warnings.warn(\n",
      "C:\\Users\\admin\\anaconda3\\lib\\site-packages\\sklearn\\utils\\parallel.py:114: UserWarning: `sklearn.utils.parallel.delayed` should be used with `sklearn.utils.parallel.Parallel` to make it possible to propagate the scikit-learn configuration of the current thread to the joblib workers.\n",
      "  warnings.warn(\n",
      "C:\\Users\\admin\\anaconda3\\lib\\site-packages\\sklearn\\utils\\parallel.py:114: UserWarning: `sklearn.utils.parallel.delayed` should be used with `sklearn.utils.parallel.Parallel` to make it possible to propagate the scikit-learn configuration of the current thread to the joblib workers.\n",
      "  warnings.warn(\n",
      "C:\\Users\\admin\\anaconda3\\lib\\site-packages\\sklearn\\utils\\parallel.py:114: UserWarning: `sklearn.utils.parallel.delayed` should be used with `sklearn.utils.parallel.Parallel` to make it possible to propagate the scikit-learn configuration of the current thread to the joblib workers.\n",
      "  warnings.warn(\n",
      "C:\\Users\\admin\\anaconda3\\lib\\site-packages\\sklearn\\utils\\parallel.py:114: UserWarning: `sklearn.utils.parallel.delayed` should be used with `sklearn.utils.parallel.Parallel` to make it possible to propagate the scikit-learn configuration of the current thread to the joblib workers.\n",
      "  warnings.warn(\n",
      "C:\\Users\\admin\\anaconda3\\lib\\site-packages\\sklearn\\utils\\parallel.py:114: UserWarning: `sklearn.utils.parallel.delayed` should be used with `sklearn.utils.parallel.Parallel` to make it possible to propagate the scikit-learn configuration of the current thread to the joblib workers.\n",
      "  warnings.warn(\n",
      "C:\\Users\\admin\\anaconda3\\lib\\site-packages\\sklearn\\utils\\parallel.py:114: UserWarning: `sklearn.utils.parallel.delayed` should be used with `sklearn.utils.parallel.Parallel` to make it possible to propagate the scikit-learn configuration of the current thread to the joblib workers.\n",
      "  warnings.warn(\n",
      "C:\\Users\\admin\\anaconda3\\lib\\site-packages\\sklearn\\utils\\parallel.py:114: UserWarning: `sklearn.utils.parallel.delayed` should be used with `sklearn.utils.parallel.Parallel` to make it possible to propagate the scikit-learn configuration of the current thread to the joblib workers.\n",
      "  warnings.warn(\n",
      "C:\\Users\\admin\\anaconda3\\lib\\site-packages\\sklearn\\utils\\parallel.py:114: UserWarning: `sklearn.utils.parallel.delayed` should be used with `sklearn.utils.parallel.Parallel` to make it possible to propagate the scikit-learn configuration of the current thread to the joblib workers.\n",
      "  warnings.warn(\n",
      "C:\\Users\\admin\\anaconda3\\lib\\site-packages\\sklearn\\utils\\parallel.py:114: UserWarning: `sklearn.utils.parallel.delayed` should be used with `sklearn.utils.parallel.Parallel` to make it possible to propagate the scikit-learn configuration of the current thread to the joblib workers.\n",
      "  warnings.warn(\n",
      "C:\\Users\\admin\\anaconda3\\lib\\site-packages\\sklearn\\utils\\parallel.py:114: UserWarning: `sklearn.utils.parallel.delayed` should be used with `sklearn.utils.parallel.Parallel` to make it possible to propagate the scikit-learn configuration of the current thread to the joblib workers.\n",
      "  warnings.warn(\n",
      "C:\\Users\\admin\\anaconda3\\lib\\site-packages\\sklearn\\utils\\parallel.py:114: UserWarning: `sklearn.utils.parallel.delayed` should be used with `sklearn.utils.parallel.Parallel` to make it possible to propagate the scikit-learn configuration of the current thread to the joblib workers.\n",
      "  warnings.warn(\n",
      "C:\\Users\\admin\\anaconda3\\lib\\site-packages\\sklearn\\utils\\deprecation.py:86: FutureWarning: Function delayed is deprecated; The function `delayed` has been moved from `sklearn.utils.fixes` to `sklearn.utils.parallel`. This import path will be removed in 1.5.\n",
      "  warnings.warn(msg, category=FutureWarning)\n",
      "C:\\Users\\admin\\anaconda3\\lib\\site-packages\\sklearn\\utils\\parallel.py:114: UserWarning: `sklearn.utils.parallel.delayed` should be used with `sklearn.utils.parallel.Parallel` to make it possible to propagate the scikit-learn configuration of the current thread to the joblib workers.\n",
      "  warnings.warn(\n",
      "C:\\Users\\admin\\anaconda3\\lib\\site-packages\\sklearn\\utils\\parallel.py:114: UserWarning: `sklearn.utils.parallel.delayed` should be used with `sklearn.utils.parallel.Parallel` to make it possible to propagate the scikit-learn configuration of the current thread to the joblib workers.\n",
      "  warnings.warn(\n",
      "C:\\Users\\admin\\anaconda3\\lib\\site-packages\\sklearn\\utils\\parallel.py:114: UserWarning: `sklearn.utils.parallel.delayed` should be used with `sklearn.utils.parallel.Parallel` to make it possible to propagate the scikit-learn configuration of the current thread to the joblib workers.\n",
      "  warnings.warn(\n",
      "C:\\Users\\admin\\anaconda3\\lib\\site-packages\\sklearn\\utils\\parallel.py:114: UserWarning: `sklearn.utils.parallel.delayed` should be used with `sklearn.utils.parallel.Parallel` to make it possible to propagate the scikit-learn configuration of the current thread to the joblib workers.\n",
      "  warnings.warn(\n",
      "C:\\Users\\admin\\anaconda3\\lib\\site-packages\\sklearn\\utils\\parallel.py:114: UserWarning: `sklearn.utils.parallel.delayed` should be used with `sklearn.utils.parallel.Parallel` to make it possible to propagate the scikit-learn configuration of the current thread to the joblib workers.\n",
      "  warnings.warn(\n",
      "C:\\Users\\admin\\anaconda3\\lib\\site-packages\\sklearn\\utils\\parallel.py:114: UserWarning: `sklearn.utils.parallel.delayed` should be used with `sklearn.utils.parallel.Parallel` to make it possible to propagate the scikit-learn configuration of the current thread to the joblib workers.\n",
      "  warnings.warn(\n",
      "C:\\Users\\admin\\anaconda3\\lib\\site-packages\\sklearn\\utils\\parallel.py:114: UserWarning: `sklearn.utils.parallel.delayed` should be used with `sklearn.utils.parallel.Parallel` to make it possible to propagate the scikit-learn configuration of the current thread to the joblib workers.\n",
      "  warnings.warn(\n",
      "C:\\Users\\admin\\anaconda3\\lib\\site-packages\\sklearn\\utils\\parallel.py:114: UserWarning: `sklearn.utils.parallel.delayed` should be used with `sklearn.utils.parallel.Parallel` to make it possible to propagate the scikit-learn configuration of the current thread to the joblib workers.\n",
      "  warnings.warn(\n",
      "C:\\Users\\admin\\anaconda3\\lib\\site-packages\\sklearn\\utils\\parallel.py:114: UserWarning: `sklearn.utils.parallel.delayed` should be used with `sklearn.utils.parallel.Parallel` to make it possible to propagate the scikit-learn configuration of the current thread to the joblib workers.\n",
      "  warnings.warn(\n",
      "C:\\Users\\admin\\anaconda3\\lib\\site-packages\\sklearn\\utils\\parallel.py:114: UserWarning: `sklearn.utils.parallel.delayed` should be used with `sklearn.utils.parallel.Parallel` to make it possible to propagate the scikit-learn configuration of the current thread to the joblib workers.\n",
      "  warnings.warn(\n",
      "C:\\Users\\admin\\anaconda3\\lib\\site-packages\\sklearn\\utils\\parallel.py:114: UserWarning: `sklearn.utils.parallel.delayed` should be used with `sklearn.utils.parallel.Parallel` to make it possible to propagate the scikit-learn configuration of the current thread to the joblib workers.\n",
      "  warnings.warn(\n",
      "C:\\Users\\admin\\anaconda3\\lib\\site-packages\\sklearn\\utils\\parallel.py:114: UserWarning: `sklearn.utils.parallel.delayed` should be used with `sklearn.utils.parallel.Parallel` to make it possible to propagate the scikit-learn configuration of the current thread to the joblib workers.\n",
      "  warnings.warn(\n",
      "C:\\Users\\admin\\anaconda3\\lib\\site-packages\\sklearn\\utils\\parallel.py:114: UserWarning: `sklearn.utils.parallel.delayed` should be used with `sklearn.utils.parallel.Parallel` to make it possible to propagate the scikit-learn configuration of the current thread to the joblib workers.\n",
      "  warnings.warn(\n",
      "C:\\Users\\admin\\anaconda3\\lib\\site-packages\\sklearn\\utils\\parallel.py:114: UserWarning: `sklearn.utils.parallel.delayed` should be used with `sklearn.utils.parallel.Parallel` to make it possible to propagate the scikit-learn configuration of the current thread to the joblib workers.\n",
      "  warnings.warn(\n"
     ]
    }
   ],
   "source": [
    "# CLEANED\n",
    "brf.fit(X_train_clean, y_train_clean)\n",
    "add_to_eval_df(brf, \"BalancedRandomForest\", \"BALANCED clean\", X_train_clean, y_train_clean, X_test_clean, y_test_clean)"
   ],
   "metadata": {
    "collapsed": false,
    "ExecuteTime": {
     "end_time": "2024-11-11T19:45:27.757825100Z",
     "start_time": "2024-11-11T19:45:26.308322700Z"
    }
   }
  },
  {
   "cell_type": "code",
   "execution_count": 50,
   "outputs": [
    {
     "data": {
      "text/plain": "                   model                variant  train_acc  train_prec  \\\n0           RandomForest                   base   0.999710    0.999710   \n10          RandomForest        TomekLink clean   0.999793    0.999793   \n11          RandomForest        TomekLink clean   0.999741    0.999741   \n1           RandomForest                  clean   0.999742    0.999742   \n13  BalancedRandomForest         BALANCED clean   0.775614    0.949218   \n12  BalancedRandomForest          BALANCED base   0.792269    0.948473   \n2           RandomForest             SMOTE base   0.999689    0.999689   \n6           RandomForest            ADASYN base   0.999612    0.999612   \n4           RandomForest   BorderlineSMOTE base   0.999663    0.999663   \n3           RandomForest            SMOTE clean   0.999502    0.999503   \n7           RandomForest           ADASYN clean   0.999188    0.999190   \n5           RandomForest  BorderlineSMOTE clean   0.999171    0.999172   \n8           RandomForest          NearMiss base   0.999290    0.999291   \n9           RandomForest         NearMiss clean   1.000000    1.000000   \n\n    train_rec  train_f1  test_acc  test_prec  test_rec   test_f1  \n0    0.999710  0.999709  0.933853   0.938237  0.933853  0.903827  \n10   0.999793  0.999793  0.934901   0.920633  0.934901  0.904267  \n11   0.999741  0.999741  0.934780   0.914781  0.934780  0.904205  \n1    0.999742  0.999741  0.934659   0.910228  0.934659  0.904142  \n13   0.775614  0.831134  0.681254   0.909012  0.681254  0.761686  \n12   0.792269  0.841936  0.699627   0.905670  0.699627  0.773500  \n2    0.999689  0.999689  0.917146   0.899655  0.917146  0.907058  \n6    0.999612  0.999612  0.916808   0.898265  0.916808  0.906098  \n4    0.999663  0.999663  0.919743   0.897874  0.919743  0.906571  \n3    0.999502  0.999502  0.913924   0.890929  0.913924  0.901218  \n7    0.999188  0.999188  0.910790   0.888202  0.910790  0.898555  \n5    0.999171  0.999171  0.917902   0.887761  0.917902  0.900915  \n8    0.999290  0.999290  0.423411   0.884953  0.423411  0.537736  \n9    1.000000  1.000000  0.407354   0.883876  0.407354  0.523887  ",
      "text/html": "<div>\n<style scoped>\n    .dataframe tbody tr th:only-of-type {\n        vertical-align: middle;\n    }\n\n    .dataframe tbody tr th {\n        vertical-align: top;\n    }\n\n    .dataframe thead th {\n        text-align: right;\n    }\n</style>\n<table border=\"1\" class=\"dataframe\">\n  <thead>\n    <tr style=\"text-align: right;\">\n      <th></th>\n      <th>model</th>\n      <th>variant</th>\n      <th>train_acc</th>\n      <th>train_prec</th>\n      <th>train_rec</th>\n      <th>train_f1</th>\n      <th>test_acc</th>\n      <th>test_prec</th>\n      <th>test_rec</th>\n      <th>test_f1</th>\n    </tr>\n  </thead>\n  <tbody>\n    <tr>\n      <th>0</th>\n      <td>RandomForest</td>\n      <td>base</td>\n      <td>0.999710</td>\n      <td>0.999710</td>\n      <td>0.999710</td>\n      <td>0.999709</td>\n      <td>0.933853</td>\n      <td>0.938237</td>\n      <td>0.933853</td>\n      <td>0.903827</td>\n    </tr>\n    <tr>\n      <th>10</th>\n      <td>RandomForest</td>\n      <td>TomekLink clean</td>\n      <td>0.999793</td>\n      <td>0.999793</td>\n      <td>0.999793</td>\n      <td>0.999793</td>\n      <td>0.934901</td>\n      <td>0.920633</td>\n      <td>0.934901</td>\n      <td>0.904267</td>\n    </tr>\n    <tr>\n      <th>11</th>\n      <td>RandomForest</td>\n      <td>TomekLink clean</td>\n      <td>0.999741</td>\n      <td>0.999741</td>\n      <td>0.999741</td>\n      <td>0.999741</td>\n      <td>0.934780</td>\n      <td>0.914781</td>\n      <td>0.934780</td>\n      <td>0.904205</td>\n    </tr>\n    <tr>\n      <th>1</th>\n      <td>RandomForest</td>\n      <td>clean</td>\n      <td>0.999742</td>\n      <td>0.999742</td>\n      <td>0.999742</td>\n      <td>0.999741</td>\n      <td>0.934659</td>\n      <td>0.910228</td>\n      <td>0.934659</td>\n      <td>0.904142</td>\n    </tr>\n    <tr>\n      <th>13</th>\n      <td>BalancedRandomForest</td>\n      <td>BALANCED clean</td>\n      <td>0.775614</td>\n      <td>0.949218</td>\n      <td>0.775614</td>\n      <td>0.831134</td>\n      <td>0.681254</td>\n      <td>0.909012</td>\n      <td>0.681254</td>\n      <td>0.761686</td>\n    </tr>\n    <tr>\n      <th>12</th>\n      <td>BalancedRandomForest</td>\n      <td>BALANCED base</td>\n      <td>0.792269</td>\n      <td>0.948473</td>\n      <td>0.792269</td>\n      <td>0.841936</td>\n      <td>0.699627</td>\n      <td>0.905670</td>\n      <td>0.699627</td>\n      <td>0.773500</td>\n    </tr>\n    <tr>\n      <th>2</th>\n      <td>RandomForest</td>\n      <td>SMOTE base</td>\n      <td>0.999689</td>\n      <td>0.999689</td>\n      <td>0.999689</td>\n      <td>0.999689</td>\n      <td>0.917146</td>\n      <td>0.899655</td>\n      <td>0.917146</td>\n      <td>0.907058</td>\n    </tr>\n    <tr>\n      <th>6</th>\n      <td>RandomForest</td>\n      <td>ADASYN base</td>\n      <td>0.999612</td>\n      <td>0.999612</td>\n      <td>0.999612</td>\n      <td>0.999612</td>\n      <td>0.916808</td>\n      <td>0.898265</td>\n      <td>0.916808</td>\n      <td>0.906098</td>\n    </tr>\n    <tr>\n      <th>4</th>\n      <td>RandomForest</td>\n      <td>BorderlineSMOTE base</td>\n      <td>0.999663</td>\n      <td>0.999663</td>\n      <td>0.999663</td>\n      <td>0.999663</td>\n      <td>0.919743</td>\n      <td>0.897874</td>\n      <td>0.919743</td>\n      <td>0.906571</td>\n    </tr>\n    <tr>\n      <th>3</th>\n      <td>RandomForest</td>\n      <td>SMOTE clean</td>\n      <td>0.999502</td>\n      <td>0.999503</td>\n      <td>0.999502</td>\n      <td>0.999502</td>\n      <td>0.913924</td>\n      <td>0.890929</td>\n      <td>0.913924</td>\n      <td>0.901218</td>\n    </tr>\n    <tr>\n      <th>7</th>\n      <td>RandomForest</td>\n      <td>ADASYN clean</td>\n      <td>0.999188</td>\n      <td>0.999190</td>\n      <td>0.999188</td>\n      <td>0.999188</td>\n      <td>0.910790</td>\n      <td>0.888202</td>\n      <td>0.910790</td>\n      <td>0.898555</td>\n    </tr>\n    <tr>\n      <th>5</th>\n      <td>RandomForest</td>\n      <td>BorderlineSMOTE clean</td>\n      <td>0.999171</td>\n      <td>0.999172</td>\n      <td>0.999171</td>\n      <td>0.999171</td>\n      <td>0.917902</td>\n      <td>0.887761</td>\n      <td>0.917902</td>\n      <td>0.900915</td>\n    </tr>\n    <tr>\n      <th>8</th>\n      <td>RandomForest</td>\n      <td>NearMiss base</td>\n      <td>0.999290</td>\n      <td>0.999291</td>\n      <td>0.999290</td>\n      <td>0.999290</td>\n      <td>0.423411</td>\n      <td>0.884953</td>\n      <td>0.423411</td>\n      <td>0.537736</td>\n    </tr>\n    <tr>\n      <th>9</th>\n      <td>RandomForest</td>\n      <td>NearMiss clean</td>\n      <td>1.000000</td>\n      <td>1.000000</td>\n      <td>1.000000</td>\n      <td>1.000000</td>\n      <td>0.407354</td>\n      <td>0.883876</td>\n      <td>0.407354</td>\n      <td>0.523887</td>\n    </tr>\n  </tbody>\n</table>\n</div>"
     },
     "execution_count": 50,
     "metadata": {},
     "output_type": "execute_result"
    }
   ],
   "source": [
    "evaluation[(evaluation.model == \"RandomForest\") | (evaluation.model == \"BalancedRandomForest\")].sort_values(\n",
    "    by=[\"test_prec\"], ascending=False)"
   ],
   "metadata": {
    "collapsed": false,
    "ExecuteTime": {
     "end_time": "2024-11-11T19:45:27.778250Z",
     "start_time": "2024-11-11T19:45:27.757825100Z"
    }
   }
  },
  {
   "cell_type": "markdown",
   "source": [
    "#### 2.2 Boosting"
   ],
   "metadata": {
    "collapsed": false
   }
  },
  {
   "cell_type": "markdown",
   "source": [
    "##### 2.2.1a XGBClassifier"
   ],
   "metadata": {
    "collapsed": false
   }
  },
  {
   "cell_type": "code",
   "execution_count": 51,
   "outputs": [],
   "source": [
    "xgb = XGBClassifier()"
   ],
   "metadata": {
    "collapsed": false,
    "ExecuteTime": {
     "end_time": "2024-11-11T19:45:27.808305400Z",
     "start_time": "2024-11-11T19:45:27.778250Z"
    }
   }
  },
  {
   "cell_type": "code",
   "execution_count": 52,
   "outputs": [
    {
     "name": "stdout",
     "output_type": "stream",
     "text": [
      "Starting model fitting.\n",
      "1/12 Fitting:  XGBClassifier BASE started...\n",
      "Fitting:  XGBClassifier finished. Elapsed time:  7 Seconds\n",
      "2/12 Fitting:  XGBClassifier CLEAN started...\n",
      "Fitting:  XGBClassifier finished. Elapsed time:  5 Seconds\n",
      "3/12 Fitting:  XGBClassifier SMOTE-base started...\n",
      "Fitting:  XGBClassifier finished. Elapsed time:  3 Seconds\n",
      "4/12 Fitting:  XGBClassifier SMOTE-clean started...\n",
      "Fitting:  XGBClassifier finished. Elapsed time:  4 Seconds\n",
      "5/12 Fitting:  XGBClassifier BorderlineSMOTE-base started...\n",
      "Fitting:  XGBClassifier finished. Elapsed time:  5 Seconds\n",
      "6/12 Fitting:  XGBClassifier BorderlineSMOTE-clean started...\n",
      "Fitting:  XGBClassifier finished. Elapsed time:  5 Seconds\n",
      "7/12 Fitting:  XGBClassifier ADASYN-base started...\n",
      "Fitting:  XGBClassifier finished. Elapsed time:  2 Seconds\n",
      "8/12 Fitting:  XGBClassifier ADASYN-clean started...\n",
      "Fitting:  XGBClassifier finished. Elapsed time:  2 Seconds\n",
      "9/12 Fitting:  XGBClassifier NearMiss-base started...\n",
      "Fitting:  XGBClassifier finished. Elapsed time:  1 Seconds\n",
      "10/12 Fitting:  XGBClassifier NearMiss-clean started...\n",
      "Fitting:  XGBClassifier finished. Elapsed time:  1 Seconds\n",
      "11/12 Fitting:  XGBClassifier TomekLink-base started...\n",
      "Fitting:  XGBClassifier finished. Elapsed time:  1 Seconds\n",
      "12/12 Fitting:  XGBClassifier TomekLink-clean started...\n",
      "Fitting:  XGBClassifier finished. Elapsed time:  1 Seconds\n",
      "Model fitting finished.\n"
     ]
    }
   ],
   "source": [
    "fit_model(xgb, \"XGBClassifier\")"
   ],
   "metadata": {
    "collapsed": false,
    "ExecuteTime": {
     "end_time": "2024-11-11T19:46:04.162193500Z",
     "start_time": "2024-11-11T19:45:27.788053600Z"
    }
   }
  },
  {
   "cell_type": "code",
   "execution_count": 53,
   "outputs": [
    {
     "data": {
      "text/plain": "            model                variant  train_acc  train_prec  train_rec  \\\n14  XGBClassifier                   base   0.999226    0.999227   0.999226   \n15  XGBClassifier                  clean   0.999690    0.999690   0.999690   \n24  XGBClassifier        TomekLink clean   0.999482    0.999482   0.999482   \n25  XGBClassifier        TomekLink clean   0.999482    0.999482   0.999482   \n20  XGBClassifier            ADASYN base   0.996556    0.996568   0.996556   \n16  XGBClassifier             SMOTE base   0.996314    0.996330   0.996314   \n18  XGBClassifier   BorderlineSMOTE base   0.997326    0.997327   0.997326   \n17  XGBClassifier            SMOTE clean   0.997097    0.997103   0.997097   \n21  XGBClassifier           ADASYN clean   0.996726    0.996746   0.996726   \n19  XGBClassifier  BorderlineSMOTE clean   0.997401    0.997402   0.997401   \n22  XGBClassifier          NearMiss base   0.999290    0.999291   0.999290   \n23  XGBClassifier         NearMiss clean   1.000000    1.000000   1.000000   \n\n    train_f1  test_acc  test_prec  test_rec   test_f1  \n14  0.999224  0.936675   0.931477  0.936675  0.911829  \n15  0.999690  0.935503   0.919527  0.935503  0.906815  \n24  0.999481  0.935744   0.918460  0.935744  0.908218  \n25  0.999481  0.935744   0.918460  0.935744  0.908218  \n20  0.996556  0.890958   0.901010  0.890958  0.895756  \n16  0.996314  0.890394   0.900566  0.890394  0.895250  \n18  0.997326  0.899086   0.899395  0.899086  0.899240  \n17  0.997097  0.888728   0.896905  0.888728  0.892701  \n21  0.996726  0.886679   0.896790  0.886679  0.891564  \n19  0.997401  0.897529   0.895930  0.897529  0.896725  \n22  0.999290  0.504346   0.894319  0.504346  0.615554  \n23  1.000000  0.491863   0.887961  0.491863  0.607363  ",
      "text/html": "<div>\n<style scoped>\n    .dataframe tbody tr th:only-of-type {\n        vertical-align: middle;\n    }\n\n    .dataframe tbody tr th {\n        vertical-align: top;\n    }\n\n    .dataframe thead th {\n        text-align: right;\n    }\n</style>\n<table border=\"1\" class=\"dataframe\">\n  <thead>\n    <tr style=\"text-align: right;\">\n      <th></th>\n      <th>model</th>\n      <th>variant</th>\n      <th>train_acc</th>\n      <th>train_prec</th>\n      <th>train_rec</th>\n      <th>train_f1</th>\n      <th>test_acc</th>\n      <th>test_prec</th>\n      <th>test_rec</th>\n      <th>test_f1</th>\n    </tr>\n  </thead>\n  <tbody>\n    <tr>\n      <th>14</th>\n      <td>XGBClassifier</td>\n      <td>base</td>\n      <td>0.999226</td>\n      <td>0.999227</td>\n      <td>0.999226</td>\n      <td>0.999224</td>\n      <td>0.936675</td>\n      <td>0.931477</td>\n      <td>0.936675</td>\n      <td>0.911829</td>\n    </tr>\n    <tr>\n      <th>15</th>\n      <td>XGBClassifier</td>\n      <td>clean</td>\n      <td>0.999690</td>\n      <td>0.999690</td>\n      <td>0.999690</td>\n      <td>0.999690</td>\n      <td>0.935503</td>\n      <td>0.919527</td>\n      <td>0.935503</td>\n      <td>0.906815</td>\n    </tr>\n    <tr>\n      <th>24</th>\n      <td>XGBClassifier</td>\n      <td>TomekLink clean</td>\n      <td>0.999482</td>\n      <td>0.999482</td>\n      <td>0.999482</td>\n      <td>0.999481</td>\n      <td>0.935744</td>\n      <td>0.918460</td>\n      <td>0.935744</td>\n      <td>0.908218</td>\n    </tr>\n    <tr>\n      <th>25</th>\n      <td>XGBClassifier</td>\n      <td>TomekLink clean</td>\n      <td>0.999482</td>\n      <td>0.999482</td>\n      <td>0.999482</td>\n      <td>0.999481</td>\n      <td>0.935744</td>\n      <td>0.918460</td>\n      <td>0.935744</td>\n      <td>0.908218</td>\n    </tr>\n    <tr>\n      <th>20</th>\n      <td>XGBClassifier</td>\n      <td>ADASYN base</td>\n      <td>0.996556</td>\n      <td>0.996568</td>\n      <td>0.996556</td>\n      <td>0.996556</td>\n      <td>0.890958</td>\n      <td>0.901010</td>\n      <td>0.890958</td>\n      <td>0.895756</td>\n    </tr>\n    <tr>\n      <th>16</th>\n      <td>XGBClassifier</td>\n      <td>SMOTE base</td>\n      <td>0.996314</td>\n      <td>0.996330</td>\n      <td>0.996314</td>\n      <td>0.996314</td>\n      <td>0.890394</td>\n      <td>0.900566</td>\n      <td>0.890394</td>\n      <td>0.895250</td>\n    </tr>\n    <tr>\n      <th>18</th>\n      <td>XGBClassifier</td>\n      <td>BorderlineSMOTE base</td>\n      <td>0.997326</td>\n      <td>0.997327</td>\n      <td>0.997326</td>\n      <td>0.997326</td>\n      <td>0.899086</td>\n      <td>0.899395</td>\n      <td>0.899086</td>\n      <td>0.899240</td>\n    </tr>\n    <tr>\n      <th>17</th>\n      <td>XGBClassifier</td>\n      <td>SMOTE clean</td>\n      <td>0.997097</td>\n      <td>0.997103</td>\n      <td>0.997097</td>\n      <td>0.997097</td>\n      <td>0.888728</td>\n      <td>0.896905</td>\n      <td>0.888728</td>\n      <td>0.892701</td>\n    </tr>\n    <tr>\n      <th>21</th>\n      <td>XGBClassifier</td>\n      <td>ADASYN clean</td>\n      <td>0.996726</td>\n      <td>0.996746</td>\n      <td>0.996726</td>\n      <td>0.996726</td>\n      <td>0.886679</td>\n      <td>0.896790</td>\n      <td>0.886679</td>\n      <td>0.891564</td>\n    </tr>\n    <tr>\n      <th>19</th>\n      <td>XGBClassifier</td>\n      <td>BorderlineSMOTE clean</td>\n      <td>0.997401</td>\n      <td>0.997402</td>\n      <td>0.997401</td>\n      <td>0.997401</td>\n      <td>0.897529</td>\n      <td>0.895930</td>\n      <td>0.897529</td>\n      <td>0.896725</td>\n    </tr>\n    <tr>\n      <th>22</th>\n      <td>XGBClassifier</td>\n      <td>NearMiss base</td>\n      <td>0.999290</td>\n      <td>0.999291</td>\n      <td>0.999290</td>\n      <td>0.999290</td>\n      <td>0.504346</td>\n      <td>0.894319</td>\n      <td>0.504346</td>\n      <td>0.615554</td>\n    </tr>\n    <tr>\n      <th>23</th>\n      <td>XGBClassifier</td>\n      <td>NearMiss clean</td>\n      <td>1.000000</td>\n      <td>1.000000</td>\n      <td>1.000000</td>\n      <td>1.000000</td>\n      <td>0.491863</td>\n      <td>0.887961</td>\n      <td>0.491863</td>\n      <td>0.607363</td>\n    </tr>\n  </tbody>\n</table>\n</div>"
     },
     "execution_count": 53,
     "metadata": {},
     "output_type": "execute_result"
    }
   ],
   "source": [
    "evaluation[evaluation.model == \"XGBClassifier\"].sort_values(by=[\"test_prec\"], ascending=False)"
   ],
   "metadata": {
    "collapsed": false,
    "ExecuteTime": {
     "end_time": "2024-11-11T19:46:04.238398800Z",
     "start_time": "2024-11-11T19:46:04.166194700Z"
    }
   }
  },
  {
   "cell_type": "markdown",
   "source": [
    "##### 2.2.1b XGBClassifier tuning"
   ],
   "metadata": {
    "collapsed": false
   }
  },
  {
   "cell_type": "code",
   "execution_count": 54,
   "outputs": [],
   "source": [
    "from sklearn.model_selection import GridSearchCV, RandomizedSearchCV"
   ],
   "metadata": {
    "collapsed": false,
    "ExecuteTime": {
     "end_time": "2024-11-11T19:46:04.274401400Z",
     "start_time": "2024-11-11T19:46:04.198270800Z"
    }
   }
  },
  {
   "cell_type": "code",
   "execution_count": 55,
   "outputs": [],
   "source": [
    "param_test1 = {\n",
    "    'max_depth': range(3, 10, 2),\n",
    "}\n",
    "gsearch1 = GridSearchCV(estimator=XGBClassifier(\n",
    "    learning_rate=0.1,\n",
    "    n_estimators=140,\n",
    "    min_child_weight=1,\n",
    "    gamma=0,\n",
    "    subsample=0.8,\n",
    "    colsample_bytree=0.8,\n",
    "    objective='binary:logistic',\n",
    "    nthread=4,\n",
    "    scale_pos_weight=1,\n",
    "    seed=27\n",
    "), param_grid=param_test1, scoring='roc_auc', n_jobs=-1, cv=5, verbose=1)"
   ],
   "metadata": {
    "collapsed": false,
    "ExecuteTime": {
     "end_time": "2024-11-11T19:46:04.317153400Z",
     "start_time": "2024-11-11T19:46:04.216295600Z"
    }
   }
  },
  {
   "cell_type": "code",
   "execution_count": 56,
   "outputs": [],
   "source": [
    "# gsearch1.fit(X_train_clean, y_train_clean)\n",
    "# gsearch1.best_score_, gsearch1.best_params_"
   ],
   "metadata": {
    "collapsed": false,
    "ExecuteTime": {
     "end_time": "2024-11-11T19:46:04.317153400Z",
     "start_time": "2024-11-11T19:46:04.230402600Z"
    }
   }
  },
  {
   "cell_type": "code",
   "execution_count": 57,
   "outputs": [],
   "source": [
    "param_test2 = {\n",
    "    'min_child_weight': range(1, 6, 2),\n",
    "}\n",
    "gsearch2 = GridSearchCV(estimator=XGBClassifier(\n",
    "    learning_rate=0.1,\n",
    "    n_estimators=140,\n",
    "    max_depth=9,\n",
    "    gamma=0,\n",
    "    subsample=0.8,\n",
    "    colsample_bytree=0.8,\n",
    "    objective='binary:logistic',\n",
    "    nthread=4,\n",
    "    scale_pos_weight=1,\n",
    "    seed=27\n",
    "), param_grid=param_test2, scoring='roc_auc', n_jobs=-1, cv=5, verbose=1)"
   ],
   "metadata": {
    "collapsed": false,
    "ExecuteTime": {
     "end_time": "2024-11-11T19:46:04.369144100Z",
     "start_time": "2024-11-11T19:46:04.242398400Z"
    }
   }
  },
  {
   "cell_type": "code",
   "execution_count": 58,
   "outputs": [],
   "source": [
    "# gsearch2.fit(X_train_clean, y_train_clean)\n",
    "# gsearch2.best_score_, gsearch2.best_params_"
   ],
   "metadata": {
    "collapsed": false,
    "ExecuteTime": {
     "end_time": "2024-11-11T19:46:04.417144100Z",
     "start_time": "2024-11-11T19:46:04.262403Z"
    }
   }
  },
  {
   "cell_type": "code",
   "execution_count": 59,
   "outputs": [],
   "source": [
    "param_test3 = {\n",
    "    'gamma': [i / 10.0 for i in range(0, 5)],\n",
    "}\n",
    "gsearch3 = GridSearchCV(estimator=XGBClassifier(\n",
    "    learning_rate=0.1,\n",
    "    n_estimators=140,\n",
    "    max_depth=9,\n",
    "    min_child_weight=5,\n",
    "    subsample=0.8,\n",
    "    colsample_bytree=0.8,\n",
    "    objective='binary:logistic',\n",
    "    nthread=4,\n",
    "    scale_pos_weight=1,\n",
    "    seed=27\n",
    "), param_grid=param_test3, scoring='roc_auc', n_jobs=-1, cv=5, verbose=1)"
   ],
   "metadata": {
    "collapsed": false,
    "ExecuteTime": {
     "end_time": "2024-11-11T19:46:04.417144100Z",
     "start_time": "2024-11-11T19:46:04.278404600Z"
    }
   }
  },
  {
   "cell_type": "code",
   "execution_count": 60,
   "outputs": [],
   "source": [
    "# gsearch3.fit(X_train_clean, y_train_clean)\n",
    "# gsearch3.best_score_, gsearch3.best_params_"
   ],
   "metadata": {
    "collapsed": false,
    "ExecuteTime": {
     "end_time": "2024-11-11T19:46:04.417144100Z",
     "start_time": "2024-11-11T19:46:04.294484700Z"
    }
   }
  },
  {
   "cell_type": "code",
   "execution_count": 61,
   "outputs": [],
   "source": [
    "param_test4 = {\n",
    "    'subsample': [i / 10.0 for i in range(6, 10)],\n",
    "}\n",
    "gsearch4 = GridSearchCV(estimator=XGBClassifier(\n",
    "    learning_rate=0.1,\n",
    "    n_estimators=140,\n",
    "    max_depth=9,\n",
    "    min_child_weight=5,\n",
    "    gamma=0.1,\n",
    "    colsample_bytree=0.8,\n",
    "    objective='binary:logistic',\n",
    "    nthread=4,\n",
    "    scale_pos_weight=1,\n",
    "    seed=27\n",
    "), param_grid=param_test4, scoring='roc_auc', n_jobs=-1, cv=5, verbose=1)"
   ],
   "metadata": {
    "collapsed": false,
    "ExecuteTime": {
     "end_time": "2024-11-11T19:46:04.417144100Z",
     "start_time": "2024-11-11T19:46:04.310542800Z"
    }
   }
  },
  {
   "cell_type": "code",
   "execution_count": 62,
   "outputs": [],
   "source": [
    "# gsearch4.fit(X_train_clean, y_train_clean)\n",
    "# gsearch4.best_score_, gsearch4.best_params_"
   ],
   "metadata": {
    "collapsed": false,
    "ExecuteTime": {
     "end_time": "2024-11-11T19:46:04.417144100Z",
     "start_time": "2024-11-11T19:46:04.329144Z"
    }
   }
  },
  {
   "cell_type": "code",
   "execution_count": 63,
   "outputs": [],
   "source": [
    "param_test5 = {\n",
    "    'colsample_bytree': [i / 10.0 for i in range(6, 10)],\n",
    "}\n",
    "gsearch5 = GridSearchCV(estimator=XGBClassifier(\n",
    "    learning_rate=0.1,\n",
    "    n_estimators=140,\n",
    "    max_depth=9,\n",
    "    min_child_weight=5,\n",
    "    gamma=0.1,\n",
    "    subsample=0.8,\n",
    "    objective='binary:logistic',\n",
    "    nthread=4,\n",
    "    scale_pos_weight=1,\n",
    "    seed=27\n",
    "), param_grid=param_test5, scoring='roc_auc', n_jobs=-1, cv=5, verbose=1)"
   ],
   "metadata": {
    "collapsed": false,
    "ExecuteTime": {
     "end_time": "2024-11-11T19:46:04.417144100Z",
     "start_time": "2024-11-11T19:46:04.341150700Z"
    }
   }
  },
  {
   "cell_type": "code",
   "execution_count": 64,
   "outputs": [],
   "source": [
    "# gsearch5.fit(X_train_clean, y_train_clean)\n",
    "# gsearch5.best_score_, gsearch5.best_params_"
   ],
   "metadata": {
    "collapsed": false,
    "ExecuteTime": {
     "end_time": "2024-11-11T19:46:04.417144100Z",
     "start_time": "2024-11-11T19:46:04.357148500Z"
    }
   }
  },
  {
   "cell_type": "code",
   "execution_count": 65,
   "outputs": [],
   "source": [
    "param_test6 = {\n",
    "    'reg_alpha': [1e-5, 1e-2, 0.1, 1, 100]\n",
    "}\n",
    "gsearch6 = GridSearchCV(estimator=XGBClassifier(\n",
    "    learning_rate=0.1,\n",
    "    n_estimators=140,\n",
    "    max_depth=9,\n",
    "    min_child_weight=5,\n",
    "    gamma=0.1,\n",
    "    subsample=0.8,\n",
    "    colsample_bytree=0.8,\n",
    "    objective='binary:logistic',\n",
    "    nthread=4,\n",
    "    scale_pos_weight=1,\n",
    "    seed=27\n",
    "), param_grid=param_test6, scoring='roc_auc', n_jobs=-1, cv=5, verbose=1)"
   ],
   "metadata": {
    "collapsed": false,
    "ExecuteTime": {
     "end_time": "2024-11-11T19:46:04.417144100Z",
     "start_time": "2024-11-11T19:46:04.373144900Z"
    }
   }
  },
  {
   "cell_type": "code",
   "execution_count": 66,
   "outputs": [],
   "source": [
    "# gsearch6.fit(X_train_clean, y_train_clean)\n",
    "# gsearch6.best_score_, gsearch6.best_params_"
   ],
   "metadata": {
    "collapsed": false,
    "ExecuteTime": {
     "end_time": "2024-11-11T19:46:04.417144100Z",
     "start_time": "2024-11-11T19:46:04.385143700Z"
    }
   }
  },
  {
   "cell_type": "code",
   "execution_count": 67,
   "outputs": [],
   "source": [
    "xgb_tune = XGBClassifier(\n",
    "    learning_rate=0.1,\n",
    "    n_estimators=140,\n",
    "    max_depth=9,\n",
    "    min_child_weight=5,\n",
    "    gamma=0.1,\n",
    "    subsample=0.8,\n",
    "    colsample_bytree=0.8,\n",
    "    objective='binary:logistic',\n",
    "    nthread=4,\n",
    "    scale_pos_weight=1,\n",
    "    seed=27,\n",
    ")"
   ],
   "metadata": {
    "collapsed": false,
    "ExecuteTime": {
     "end_time": "2024-11-11T19:46:04.453146Z",
     "start_time": "2024-11-11T19:46:04.405148Z"
    }
   }
  },
  {
   "cell_type": "code",
   "execution_count": 68,
   "outputs": [
    {
     "name": "stdout",
     "output_type": "stream",
     "text": [
      "Starting model fitting.\n",
      "1/12 Fitting:  XGBClassifier-tuned BASE started...\n",
      "Fitting:  XGBClassifier-tuned finished. Elapsed time:  5 Seconds\n",
      "2/12 Fitting:  XGBClassifier-tuned CLEAN started...\n",
      "Fitting:  XGBClassifier-tuned finished. Elapsed time:  5 Seconds\n",
      "3/12 Fitting:  XGBClassifier-tuned SMOTE-base started...\n",
      "Fitting:  XGBClassifier-tuned finished. Elapsed time:  6 Seconds\n",
      "4/12 Fitting:  XGBClassifier-tuned SMOTE-clean started...\n",
      "Fitting:  XGBClassifier-tuned finished. Elapsed time:  7 Seconds\n",
      "5/12 Fitting:  XGBClassifier-tuned BorderlineSMOTE-base started...\n",
      "Fitting:  XGBClassifier-tuned finished. Elapsed time:  6 Seconds\n",
      "6/12 Fitting:  XGBClassifier-tuned BorderlineSMOTE-clean started...\n",
      "Fitting:  XGBClassifier-tuned finished. Elapsed time:  6 Seconds\n",
      "7/12 Fitting:  XGBClassifier-tuned ADASYN-base started...\n",
      "Fitting:  XGBClassifier-tuned finished. Elapsed time:  6 Seconds\n",
      "8/12 Fitting:  XGBClassifier-tuned ADASYN-clean started...\n",
      "Fitting:  XGBClassifier-tuned finished. Elapsed time:  6 Seconds\n",
      "9/12 Fitting:  XGBClassifier-tuned NearMiss-base started...\n",
      "Fitting:  XGBClassifier-tuned finished. Elapsed time:  2 Seconds\n",
      "10/12 Fitting:  XGBClassifier-tuned NearMiss-clean started...\n",
      "Fitting:  XGBClassifier-tuned finished. Elapsed time:  1 Seconds\n",
      "11/12 Fitting:  XGBClassifier-tuned TomekLink-base started...\n",
      "Fitting:  XGBClassifier-tuned finished. Elapsed time:  3 Seconds\n",
      "12/12 Fitting:  XGBClassifier-tuned TomekLink-clean started...\n",
      "Fitting:  XGBClassifier-tuned finished. Elapsed time:  3 Seconds\n",
      "Model fitting finished.\n"
     ]
    },
    {
     "data": {
      "text/plain": "                  model                variant  train_acc  train_prec  \\\n26  XGBClassifier-tuned                   base   0.997484    0.997489   \n36  XGBClassifier-tuned        TomekLink clean   0.998291    0.998294   \n37  XGBClassifier-tuned        TomekLink clean   0.998291    0.998294   \n27  XGBClassifier-tuned                  clean   0.997158    0.997167   \n32  XGBClassifier-tuned            ADASYN base   0.998809    0.998809   \n28  XGBClassifier-tuned             SMOTE base   0.999195    0.999195   \n30  XGBClassifier-tuned   BorderlineSMOTE base   0.998053    0.998056   \n31  XGBClassifier-tuned  BorderlineSMOTE clean   0.997844    0.997844   \n29  XGBClassifier-tuned            SMOTE clean   0.998894    0.998894   \n33  XGBClassifier-tuned           ADASYN clean   0.999048    0.999050   \n35  XGBClassifier-tuned         NearMiss clean   1.000000    1.000000   \n34  XGBClassifier-tuned          NearMiss base   0.999290    0.999291   \n\n    train_rec  train_f1  test_acc  test_prec  test_rec   test_f1  \n26   0.997484  0.997463  0.935320   0.932893  0.935320  0.907973  \n36   0.998291  0.998280  0.935865   0.928727  0.935865  0.906797  \n37   0.998291  0.998280  0.935865   0.928727  0.935865  0.906797  \n27   0.997158  0.997129  0.935624   0.926975  0.935624  0.906226  \n32   0.998809  0.998809  0.904730   0.902957  0.904730  0.903833  \n28   0.999195  0.999195  0.903827   0.902187  0.903827  0.902999  \n30   0.998053  0.998053  0.909019   0.901107  0.909019  0.904848  \n31   0.997844  0.997844  0.908137   0.897597  0.908137  0.902581  \n29   0.998894  0.998894  0.900181   0.896672  0.900181  0.898401  \n33   0.999048  0.999048  0.899458   0.895557  0.899458  0.897477  \n35   1.000000  1.000000  0.460518   0.889765  0.460518  0.577113  \n34   0.999290  0.999290  0.472627   0.888689  0.472627  0.586471  ",
      "text/html": "<div>\n<style scoped>\n    .dataframe tbody tr th:only-of-type {\n        vertical-align: middle;\n    }\n\n    .dataframe tbody tr th {\n        vertical-align: top;\n    }\n\n    .dataframe thead th {\n        text-align: right;\n    }\n</style>\n<table border=\"1\" class=\"dataframe\">\n  <thead>\n    <tr style=\"text-align: right;\">\n      <th></th>\n      <th>model</th>\n      <th>variant</th>\n      <th>train_acc</th>\n      <th>train_prec</th>\n      <th>train_rec</th>\n      <th>train_f1</th>\n      <th>test_acc</th>\n      <th>test_prec</th>\n      <th>test_rec</th>\n      <th>test_f1</th>\n    </tr>\n  </thead>\n  <tbody>\n    <tr>\n      <th>26</th>\n      <td>XGBClassifier-tuned</td>\n      <td>base</td>\n      <td>0.997484</td>\n      <td>0.997489</td>\n      <td>0.997484</td>\n      <td>0.997463</td>\n      <td>0.935320</td>\n      <td>0.932893</td>\n      <td>0.935320</td>\n      <td>0.907973</td>\n    </tr>\n    <tr>\n      <th>36</th>\n      <td>XGBClassifier-tuned</td>\n      <td>TomekLink clean</td>\n      <td>0.998291</td>\n      <td>0.998294</td>\n      <td>0.998291</td>\n      <td>0.998280</td>\n      <td>0.935865</td>\n      <td>0.928727</td>\n      <td>0.935865</td>\n      <td>0.906797</td>\n    </tr>\n    <tr>\n      <th>37</th>\n      <td>XGBClassifier-tuned</td>\n      <td>TomekLink clean</td>\n      <td>0.998291</td>\n      <td>0.998294</td>\n      <td>0.998291</td>\n      <td>0.998280</td>\n      <td>0.935865</td>\n      <td>0.928727</td>\n      <td>0.935865</td>\n      <td>0.906797</td>\n    </tr>\n    <tr>\n      <th>27</th>\n      <td>XGBClassifier-tuned</td>\n      <td>clean</td>\n      <td>0.997158</td>\n      <td>0.997167</td>\n      <td>0.997158</td>\n      <td>0.997129</td>\n      <td>0.935624</td>\n      <td>0.926975</td>\n      <td>0.935624</td>\n      <td>0.906226</td>\n    </tr>\n    <tr>\n      <th>32</th>\n      <td>XGBClassifier-tuned</td>\n      <td>ADASYN base</td>\n      <td>0.998809</td>\n      <td>0.998809</td>\n      <td>0.998809</td>\n      <td>0.998809</td>\n      <td>0.904730</td>\n      <td>0.902957</td>\n      <td>0.904730</td>\n      <td>0.903833</td>\n    </tr>\n    <tr>\n      <th>28</th>\n      <td>XGBClassifier-tuned</td>\n      <td>SMOTE base</td>\n      <td>0.999195</td>\n      <td>0.999195</td>\n      <td>0.999195</td>\n      <td>0.999195</td>\n      <td>0.903827</td>\n      <td>0.902187</td>\n      <td>0.903827</td>\n      <td>0.902999</td>\n    </tr>\n    <tr>\n      <th>30</th>\n      <td>XGBClassifier-tuned</td>\n      <td>BorderlineSMOTE base</td>\n      <td>0.998053</td>\n      <td>0.998056</td>\n      <td>0.998053</td>\n      <td>0.998053</td>\n      <td>0.909019</td>\n      <td>0.901107</td>\n      <td>0.909019</td>\n      <td>0.904848</td>\n    </tr>\n    <tr>\n      <th>31</th>\n      <td>XGBClassifier-tuned</td>\n      <td>BorderlineSMOTE clean</td>\n      <td>0.997844</td>\n      <td>0.997844</td>\n      <td>0.997844</td>\n      <td>0.997844</td>\n      <td>0.908137</td>\n      <td>0.897597</td>\n      <td>0.908137</td>\n      <td>0.902581</td>\n    </tr>\n    <tr>\n      <th>29</th>\n      <td>XGBClassifier-tuned</td>\n      <td>SMOTE clean</td>\n      <td>0.998894</td>\n      <td>0.998894</td>\n      <td>0.998894</td>\n      <td>0.998894</td>\n      <td>0.900181</td>\n      <td>0.896672</td>\n      <td>0.900181</td>\n      <td>0.898401</td>\n    </tr>\n    <tr>\n      <th>33</th>\n      <td>XGBClassifier-tuned</td>\n      <td>ADASYN clean</td>\n      <td>0.999048</td>\n      <td>0.999050</td>\n      <td>0.999048</td>\n      <td>0.999048</td>\n      <td>0.899458</td>\n      <td>0.895557</td>\n      <td>0.899458</td>\n      <td>0.897477</td>\n    </tr>\n    <tr>\n      <th>35</th>\n      <td>XGBClassifier-tuned</td>\n      <td>NearMiss clean</td>\n      <td>1.000000</td>\n      <td>1.000000</td>\n      <td>1.000000</td>\n      <td>1.000000</td>\n      <td>0.460518</td>\n      <td>0.889765</td>\n      <td>0.460518</td>\n      <td>0.577113</td>\n    </tr>\n    <tr>\n      <th>34</th>\n      <td>XGBClassifier-tuned</td>\n      <td>NearMiss base</td>\n      <td>0.999290</td>\n      <td>0.999291</td>\n      <td>0.999290</td>\n      <td>0.999290</td>\n      <td>0.472627</td>\n      <td>0.888689</td>\n      <td>0.472627</td>\n      <td>0.586471</td>\n    </tr>\n  </tbody>\n</table>\n</div>"
     },
     "execution_count": 68,
     "metadata": {},
     "output_type": "execute_result"
    }
   ],
   "source": [
    "fit_model(xgb_tune, \"XGBClassifier-tuned\")\n",
    "evaluation[evaluation.model == \"XGBClassifier-tuned\"].sort_values(by=[\"test_prec\"], ascending=False)"
   ],
   "metadata": {
    "collapsed": false,
    "ExecuteTime": {
     "end_time": "2024-11-11T19:46:59.998653100Z",
     "start_time": "2024-11-11T19:46:04.421145100Z"
    }
   }
  },
  {
   "cell_type": "markdown",
   "source": [
    "##### 2.2.1 CatBoostClassifier"
   ],
   "metadata": {
    "collapsed": false
   }
  },
  {
   "cell_type": "code",
   "execution_count": 69,
   "outputs": [],
   "source": [
    "cat = CatBoostClassifier(iterations=2,\n",
    "                         depth=2,\n",
    "                         learning_rate=1,\n",
    "                         loss_function='Logloss',\n",
    "                         verbose=True)"
   ],
   "metadata": {
    "collapsed": false,
    "ExecuteTime": {
     "end_time": "2024-11-11T19:47:00.016940900Z",
     "start_time": "2024-11-11T19:46:59.998653100Z"
    }
   }
  },
  {
   "cell_type": "code",
   "execution_count": 70,
   "outputs": [
    {
     "name": "stdout",
     "output_type": "stream",
     "text": [
      "Starting model fitting.\n",
      "1/12 Fitting:  CatBoostClassifier BASE started...\n",
      "0:\tlearn: 0.2482778\ttotal: 188ms\tremaining: 188ms\n",
      "1:\tlearn: 0.2451450\ttotal: 195ms\tremaining: 0us\n"
     ]
    },
    {
     "name": "stderr",
     "output_type": "stream",
     "text": [
      "C:\\Users\\admin\\anaconda3\\lib\\site-packages\\sklearn\\metrics\\_classification.py:1344: UndefinedMetricWarning: Precision is ill-defined and being set to 0.0 in labels with no predicted samples. Use `zero_division` parameter to control this behavior.\n",
      "  _warn_prf(average, modifier, msg_start, len(result))\n",
      "C:\\Users\\admin\\anaconda3\\lib\\site-packages\\sklearn\\metrics\\_classification.py:1344: UndefinedMetricWarning: Precision is ill-defined and being set to 0.0 in labels with no predicted samples. Use `zero_division` parameter to control this behavior.\n",
      "  _warn_prf(average, modifier, msg_start, len(result))\n"
     ]
    },
    {
     "name": "stdout",
     "output_type": "stream",
     "text": [
      "Fitting:  CatBoostClassifier finished. Elapsed time:  6 Seconds\n",
      "2/12 Fitting:  CatBoostClassifier CLEAN started...\n",
      "0:\tlearn: 0.2412269\ttotal: 7.77ms\tremaining: 7.77ms\n",
      "1:\tlearn: 0.2376897\ttotal: 15.5ms\tremaining: 0us\n"
     ]
    },
    {
     "name": "stderr",
     "output_type": "stream",
     "text": [
      "C:\\Users\\admin\\anaconda3\\lib\\site-packages\\sklearn\\metrics\\_classification.py:1344: UndefinedMetricWarning: Precision is ill-defined and being set to 0.0 in labels with no predicted samples. Use `zero_division` parameter to control this behavior.\n",
      "  _warn_prf(average, modifier, msg_start, len(result))\n",
      "C:\\Users\\admin\\anaconda3\\lib\\site-packages\\sklearn\\metrics\\_classification.py:1344: UndefinedMetricWarning: Precision is ill-defined and being set to 0.0 in labels with no predicted samples. Use `zero_division` parameter to control this behavior.\n",
      "  _warn_prf(average, modifier, msg_start, len(result))\n"
     ]
    },
    {
     "name": "stdout",
     "output_type": "stream",
     "text": [
      "Fitting:  CatBoostClassifier finished. Elapsed time:  5 Seconds\n",
      "3/12 Fitting:  CatBoostClassifier SMOTE-base started...\n",
      "0:\tlearn: 0.6582918\ttotal: 7.94ms\tremaining: 7.94ms\n",
      "1:\tlearn: 0.6348875\ttotal: 16.2ms\tremaining: 0us\n",
      "Fitting:  CatBoostClassifier finished. Elapsed time:  7 Seconds\n",
      "4/12 Fitting:  CatBoostClassifier SMOTE-clean started...\n",
      "0:\tlearn: 0.6556356\ttotal: 7.71ms\tremaining: 7.71ms\n",
      "1:\tlearn: 0.6311927\ttotal: 15.3ms\tremaining: 0us\n",
      "Fitting:  CatBoostClassifier finished. Elapsed time:  7 Seconds\n",
      "5/12 Fitting:  CatBoostClassifier BorderlineSMOTE-base started...\n",
      "0:\tlearn: 0.6547329\ttotal: 9.39ms\tremaining: 9.39ms\n",
      "1:\tlearn: 0.6274111\ttotal: 17.7ms\tremaining: 0us\n",
      "Fitting:  CatBoostClassifier finished. Elapsed time:  10 Seconds\n",
      "6/12 Fitting:  CatBoostClassifier BorderlineSMOTE-clean started...\n",
      "0:\tlearn: 0.6483474\ttotal: 9.79ms\tremaining: 9.79ms\n",
      "1:\tlearn: 0.6229336\ttotal: 20ms\tremaining: 0us\n",
      "Fitting:  CatBoostClassifier finished. Elapsed time:  7 Seconds\n",
      "7/12 Fitting:  CatBoostClassifier ADASYN-base started...\n",
      "0:\tlearn: 0.6549097\ttotal: 8.47ms\tremaining: 8.47ms\n",
      "1:\tlearn: 0.6308012\ttotal: 16.3ms\tremaining: 0us\n",
      "Fitting:  CatBoostClassifier finished. Elapsed time:  7 Seconds\n",
      "8/12 Fitting:  CatBoostClassifier ADASYN-clean started...\n",
      "0:\tlearn: 0.6555798\ttotal: 7.87ms\tremaining: 7.87ms\n",
      "1:\tlearn: 0.6305597\ttotal: 15.7ms\tremaining: 0us\n",
      "Fitting:  CatBoostClassifier finished. Elapsed time:  8 Seconds\n",
      "9/12 Fitting:  CatBoostClassifier NearMiss-base started...\n",
      "0:\tlearn: 0.6738455\ttotal: 5.21ms\tremaining: 5.21ms\n",
      "1:\tlearn: 0.6661286\ttotal: 8.52ms\tremaining: 0us\n",
      "Fitting:  CatBoostClassifier finished. Elapsed time:  2 Seconds\n",
      "10/12 Fitting:  CatBoostClassifier NearMiss-clean started...\n",
      "0:\tlearn: 0.6777040\ttotal: 4.08ms\tremaining: 4.08ms\n",
      "1:\tlearn: 0.6693908\ttotal: 7.42ms\tremaining: 0us\n",
      "Fitting:  CatBoostClassifier finished. Elapsed time:  2 Seconds\n",
      "11/12 Fitting:  CatBoostClassifier TomekLink-base started...\n",
      "0:\tlearn: 0.2417537\ttotal: 6.67ms\tremaining: 6.67ms\n",
      "1:\tlearn: 0.2392659\ttotal: 13.5ms\tremaining: 0us\n"
     ]
    },
    {
     "name": "stderr",
     "output_type": "stream",
     "text": [
      "C:\\Users\\admin\\anaconda3\\lib\\site-packages\\sklearn\\metrics\\_classification.py:1344: UndefinedMetricWarning: Precision is ill-defined and being set to 0.0 in labels with no predicted samples. Use `zero_division` parameter to control this behavior.\n",
      "  _warn_prf(average, modifier, msg_start, len(result))\n",
      "C:\\Users\\admin\\anaconda3\\lib\\site-packages\\sklearn\\metrics\\_classification.py:1344: UndefinedMetricWarning: Precision is ill-defined and being set to 0.0 in labels with no predicted samples. Use `zero_division` parameter to control this behavior.\n",
      "  _warn_prf(average, modifier, msg_start, len(result))\n"
     ]
    },
    {
     "name": "stdout",
     "output_type": "stream",
     "text": [
      "Fitting:  CatBoostClassifier finished. Elapsed time:  5 Seconds\n",
      "12/12 Fitting:  CatBoostClassifier TomekLink-clean started...\n",
      "0:\tlearn: 0.2417537\ttotal: 6.83ms\tremaining: 6.83ms\n",
      "1:\tlearn: 0.2392659\ttotal: 13.4ms\tremaining: 0us\n"
     ]
    },
    {
     "name": "stderr",
     "output_type": "stream",
     "text": [
      "C:\\Users\\admin\\anaconda3\\lib\\site-packages\\sklearn\\metrics\\_classification.py:1344: UndefinedMetricWarning: Precision is ill-defined and being set to 0.0 in labels with no predicted samples. Use `zero_division` parameter to control this behavior.\n",
      "  _warn_prf(average, modifier, msg_start, len(result))\n",
      "C:\\Users\\admin\\anaconda3\\lib\\site-packages\\sklearn\\metrics\\_classification.py:1344: UndefinedMetricWarning: Precision is ill-defined and being set to 0.0 in labels with no predicted samples. Use `zero_division` parameter to control this behavior.\n",
      "  _warn_prf(average, modifier, msg_start, len(result))\n"
     ]
    },
    {
     "name": "stdout",
     "output_type": "stream",
     "text": [
      "Fitting:  CatBoostClassifier finished. Elapsed time:  5 Seconds\n",
      "Model fitting finished.\n"
     ]
    }
   ],
   "source": [
    "fit_model(cat, \"CatBoostClassifier\")"
   ],
   "metadata": {
    "collapsed": false,
    "ExecuteTime": {
     "end_time": "2024-11-11T19:48:11.425688800Z",
     "start_time": "2024-11-11T19:47:00.016940900Z"
    }
   }
  },
  {
   "cell_type": "code",
   "execution_count": 71,
   "outputs": [
    {
     "data": {
      "text/plain": "                 model                variant  train_acc  train_prec  \\\n41  CatBoostClassifier            SMOTE clean   0.661940    0.665942   \n43  CatBoostClassifier  BorderlineSMOTE clean   0.661331    0.661358   \n42  CatBoostClassifier   BorderlineSMOTE base   0.663872    0.664034   \n45  CatBoostClassifier           ADASYN clean   0.664307    0.666074   \n40  CatBoostClassifier             SMOTE base   0.654683    0.655249   \n44  CatBoostClassifier            ADASYN base   0.651139    0.651863   \n47  CatBoostClassifier         NearMiss clean   0.590300    0.597886   \n46  CatBoostClassifier          NearMiss base   0.601136    0.601400   \n39  CatBoostClassifier                  clean   0.934487    0.873266   \n48  CatBoostClassifier        TomekLink clean   0.934314    0.872943   \n49  CatBoostClassifier        TomekLink clean   0.934314    0.872943   \n38  CatBoostClassifier                   base   0.931837    0.868320   \n\n    train_rec  train_f1  test_acc  test_prec  test_rec   test_f1  \n41   0.661940  0.659889  0.577818   0.896762  0.577818  0.681677  \n43   0.661331  0.661318  0.652200   0.895979  0.652200  0.740074  \n42   0.663872  0.663789  0.637092   0.892341  0.637092  0.727028  \n45   0.664307  0.663793  0.603617   0.892305  0.603617  0.702841  \n40   0.654683  0.654368  0.617338   0.891524  0.617338  0.711806  \n44   0.651139  0.650785  0.659217   0.886768  0.659217  0.743520  \n47   0.590300  0.582205  0.556480   0.878745  0.556480  0.665480  \n46   0.601136  0.600875  0.494525   0.877348  0.494525  0.608945  \n39   0.934487  0.902840  0.934539   0.873363  0.934539  0.902916  \n48   0.934314  0.902586  0.934539   0.873363  0.934539  0.902916  \n49   0.934314  0.902586  0.934539   0.873363  0.934539  0.902916  \n38   0.931837  0.898958  0.931821   0.868290  0.931821  0.898934  ",
      "text/html": "<div>\n<style scoped>\n    .dataframe tbody tr th:only-of-type {\n        vertical-align: middle;\n    }\n\n    .dataframe tbody tr th {\n        vertical-align: top;\n    }\n\n    .dataframe thead th {\n        text-align: right;\n    }\n</style>\n<table border=\"1\" class=\"dataframe\">\n  <thead>\n    <tr style=\"text-align: right;\">\n      <th></th>\n      <th>model</th>\n      <th>variant</th>\n      <th>train_acc</th>\n      <th>train_prec</th>\n      <th>train_rec</th>\n      <th>train_f1</th>\n      <th>test_acc</th>\n      <th>test_prec</th>\n      <th>test_rec</th>\n      <th>test_f1</th>\n    </tr>\n  </thead>\n  <tbody>\n    <tr>\n      <th>41</th>\n      <td>CatBoostClassifier</td>\n      <td>SMOTE clean</td>\n      <td>0.661940</td>\n      <td>0.665942</td>\n      <td>0.661940</td>\n      <td>0.659889</td>\n      <td>0.577818</td>\n      <td>0.896762</td>\n      <td>0.577818</td>\n      <td>0.681677</td>\n    </tr>\n    <tr>\n      <th>43</th>\n      <td>CatBoostClassifier</td>\n      <td>BorderlineSMOTE clean</td>\n      <td>0.661331</td>\n      <td>0.661358</td>\n      <td>0.661331</td>\n      <td>0.661318</td>\n      <td>0.652200</td>\n      <td>0.895979</td>\n      <td>0.652200</td>\n      <td>0.740074</td>\n    </tr>\n    <tr>\n      <th>42</th>\n      <td>CatBoostClassifier</td>\n      <td>BorderlineSMOTE base</td>\n      <td>0.663872</td>\n      <td>0.664034</td>\n      <td>0.663872</td>\n      <td>0.663789</td>\n      <td>0.637092</td>\n      <td>0.892341</td>\n      <td>0.637092</td>\n      <td>0.727028</td>\n    </tr>\n    <tr>\n      <th>45</th>\n      <td>CatBoostClassifier</td>\n      <td>ADASYN clean</td>\n      <td>0.664307</td>\n      <td>0.666074</td>\n      <td>0.664307</td>\n      <td>0.663793</td>\n      <td>0.603617</td>\n      <td>0.892305</td>\n      <td>0.603617</td>\n      <td>0.702841</td>\n    </tr>\n    <tr>\n      <th>40</th>\n      <td>CatBoostClassifier</td>\n      <td>SMOTE base</td>\n      <td>0.654683</td>\n      <td>0.655249</td>\n      <td>0.654683</td>\n      <td>0.654368</td>\n      <td>0.617338</td>\n      <td>0.891524</td>\n      <td>0.617338</td>\n      <td>0.711806</td>\n    </tr>\n    <tr>\n      <th>44</th>\n      <td>CatBoostClassifier</td>\n      <td>ADASYN base</td>\n      <td>0.651139</td>\n      <td>0.651863</td>\n      <td>0.651139</td>\n      <td>0.650785</td>\n      <td>0.659217</td>\n      <td>0.886768</td>\n      <td>0.659217</td>\n      <td>0.743520</td>\n    </tr>\n    <tr>\n      <th>47</th>\n      <td>CatBoostClassifier</td>\n      <td>NearMiss clean</td>\n      <td>0.590300</td>\n      <td>0.597886</td>\n      <td>0.590300</td>\n      <td>0.582205</td>\n      <td>0.556480</td>\n      <td>0.878745</td>\n      <td>0.556480</td>\n      <td>0.665480</td>\n    </tr>\n    <tr>\n      <th>46</th>\n      <td>CatBoostClassifier</td>\n      <td>NearMiss base</td>\n      <td>0.601136</td>\n      <td>0.601400</td>\n      <td>0.601136</td>\n      <td>0.600875</td>\n      <td>0.494525</td>\n      <td>0.877348</td>\n      <td>0.494525</td>\n      <td>0.608945</td>\n    </tr>\n    <tr>\n      <th>39</th>\n      <td>CatBoostClassifier</td>\n      <td>clean</td>\n      <td>0.934487</td>\n      <td>0.873266</td>\n      <td>0.934487</td>\n      <td>0.902840</td>\n      <td>0.934539</td>\n      <td>0.873363</td>\n      <td>0.934539</td>\n      <td>0.902916</td>\n    </tr>\n    <tr>\n      <th>48</th>\n      <td>CatBoostClassifier</td>\n      <td>TomekLink clean</td>\n      <td>0.934314</td>\n      <td>0.872943</td>\n      <td>0.934314</td>\n      <td>0.902586</td>\n      <td>0.934539</td>\n      <td>0.873363</td>\n      <td>0.934539</td>\n      <td>0.902916</td>\n    </tr>\n    <tr>\n      <th>49</th>\n      <td>CatBoostClassifier</td>\n      <td>TomekLink clean</td>\n      <td>0.934314</td>\n      <td>0.872943</td>\n      <td>0.934314</td>\n      <td>0.902586</td>\n      <td>0.934539</td>\n      <td>0.873363</td>\n      <td>0.934539</td>\n      <td>0.902916</td>\n    </tr>\n    <tr>\n      <th>38</th>\n      <td>CatBoostClassifier</td>\n      <td>base</td>\n      <td>0.931837</td>\n      <td>0.868320</td>\n      <td>0.931837</td>\n      <td>0.898958</td>\n      <td>0.931821</td>\n      <td>0.868290</td>\n      <td>0.931821</td>\n      <td>0.898934</td>\n    </tr>\n  </tbody>\n</table>\n</div>"
     },
     "execution_count": 71,
     "metadata": {},
     "output_type": "execute_result"
    }
   ],
   "source": [
    "evaluation[evaluation.model == \"CatBoostClassifier\"].sort_values(by=[\"test_prec\"], ascending=False)"
   ],
   "metadata": {
    "collapsed": false,
    "ExecuteTime": {
     "end_time": "2024-11-11T19:48:11.482876600Z",
     "start_time": "2024-11-11T19:48:11.425688800Z"
    }
   }
  },
  {
   "cell_type": "markdown",
   "source": [
    "##### 2.2.1 LGBMClassifier"
   ],
   "metadata": {
    "collapsed": false
   }
  },
  {
   "cell_type": "code",
   "execution_count": 72,
   "outputs": [],
   "source": [
    "light = LGBMClassifier()"
   ],
   "metadata": {
    "collapsed": false,
    "ExecuteTime": {
     "end_time": "2024-11-11T19:48:11.482876600Z",
     "start_time": "2024-11-11T19:48:11.443002400Z"
    }
   }
  },
  {
   "cell_type": "code",
   "execution_count": 73,
   "outputs": [
    {
     "name": "stdout",
     "output_type": "stream",
     "text": [
      "Starting model fitting.\n",
      "1/12 Fitting:  LGBMClassifier BASE started...\n",
      "[LightGBM] [Info] Number of positive: 1409, number of negative: 19262\n",
      "[LightGBM] [Info] Auto-choosing col-wise multi-threading, the overhead of testing was 0.007946 seconds.\n",
      "You can set `force_col_wise=true` to remove the overhead.\n",
      "[LightGBM] [Info] Total Bins 25500\n",
      "[LightGBM] [Info] Number of data points in the train set: 20671, number of used features: 100\n",
      "[LightGBM] [Info] [binary:BoostFromScore]: pavg=0.068163 -> initscore=-2.615254\n",
      "[LightGBM] [Info] Start training from score -2.615254\n",
      "Fitting:  LGBMClassifier finished. Elapsed time:  1 Seconds\n",
      "2/12 Fitting:  LGBMClassifier CLEAN started...\n",
      "[LightGBM] [Info] Number of positive: 1268, number of negative: 18087\n",
      "[LightGBM] [Info] Auto-choosing col-wise multi-threading, the overhead of testing was 0.013052 seconds.\n",
      "You can set `force_col_wise=true` to remove the overhead.\n",
      "[LightGBM] [Info] Total Bins 25500\n",
      "[LightGBM] [Info] Number of data points in the train set: 19355, number of used features: 100\n",
      "[LightGBM] [Info] [binary:BoostFromScore]: pavg=0.065513 -> initscore=-2.657753\n",
      "[LightGBM] [Info] Start training from score -2.657753\n",
      "Fitting:  LGBMClassifier finished. Elapsed time:  1 Seconds\n",
      "3/12 Fitting:  LGBMClassifier SMOTE-base started...\n",
      "[LightGBM] [Info] Number of positive: 19262, number of negative: 19262\n",
      "[LightGBM] [Info] Auto-choosing col-wise multi-threading, the overhead of testing was 0.012989 seconds.\n",
      "You can set `force_col_wise=true` to remove the overhead.\n",
      "[LightGBM] [Info] Total Bins 25500\n",
      "[LightGBM] [Info] Number of data points in the train set: 38524, number of used features: 100\n",
      "[LightGBM] [Info] [binary:BoostFromScore]: pavg=0.500000 -> initscore=0.000000\n",
      "Fitting:  LGBMClassifier finished. Elapsed time:  2 Seconds\n",
      "4/12 Fitting:  LGBMClassifier SMOTE-clean started...\n",
      "[LightGBM] [Info] Number of positive: 18087, number of negative: 18087\n",
      "[LightGBM] [Info] Auto-choosing col-wise multi-threading, the overhead of testing was 0.013349 seconds.\n",
      "You can set `force_col_wise=true` to remove the overhead.\n",
      "[LightGBM] [Info] Total Bins 25500\n",
      "[LightGBM] [Info] Number of data points in the train set: 36174, number of used features: 100\n",
      "[LightGBM] [Info] [binary:BoostFromScore]: pavg=0.500000 -> initscore=0.000000\n",
      "Fitting:  LGBMClassifier finished. Elapsed time:  1 Seconds\n",
      "5/12 Fitting:  LGBMClassifier BorderlineSMOTE-base started...\n",
      "[LightGBM] [Info] Number of positive: 19262, number of negative: 19262\n",
      "[LightGBM] [Info] Auto-choosing col-wise multi-threading, the overhead of testing was 0.014867 seconds.\n",
      "You can set `force_col_wise=true` to remove the overhead.\n",
      "[LightGBM] [Info] Total Bins 25500\n",
      "[LightGBM] [Info] Number of data points in the train set: 38524, number of used features: 100\n",
      "[LightGBM] [Info] [binary:BoostFromScore]: pavg=0.500000 -> initscore=0.000000\n",
      "Fitting:  LGBMClassifier finished. Elapsed time:  2 Seconds\n",
      "6/12 Fitting:  LGBMClassifier BorderlineSMOTE-clean started...\n",
      "[LightGBM] [Info] Number of positive: 18087, number of negative: 18087\n",
      "[LightGBM] [Info] Auto-choosing col-wise multi-threading, the overhead of testing was 0.012452 seconds.\n",
      "You can set `force_col_wise=true` to remove the overhead.\n",
      "[LightGBM] [Info] Total Bins 25500\n",
      "[LightGBM] [Info] Number of data points in the train set: 36174, number of used features: 100\n",
      "[LightGBM] [Info] [binary:BoostFromScore]: pavg=0.500000 -> initscore=0.000000\n",
      "Fitting:  LGBMClassifier finished. Elapsed time:  2 Seconds\n",
      "7/12 Fitting:  LGBMClassifier ADASYN-base started...\n",
      "[LightGBM] [Info] Number of positive: 19358, number of negative: 19262\n",
      "[LightGBM] [Info] Auto-choosing col-wise multi-threading, the overhead of testing was 0.014465 seconds.\n",
      "You can set `force_col_wise=true` to remove the overhead.\n",
      "[LightGBM] [Info] Total Bins 25500\n",
      "[LightGBM] [Info] Number of data points in the train set: 38620, number of used features: 100\n",
      "[LightGBM] [Info] [binary:BoostFromScore]: pavg=0.501243 -> initscore=0.004972\n",
      "[LightGBM] [Info] Start training from score 0.004972\n",
      "Fitting:  LGBMClassifier finished. Elapsed time:  1 Seconds\n",
      "8/12 Fitting:  LGBMClassifier ADASYN-clean started...\n",
      "[LightGBM] [Info] Number of positive: 17645, number of negative: 18087\n",
      "[LightGBM] [Info] Auto-choosing col-wise multi-threading, the overhead of testing was 0.013559 seconds.\n",
      "You can set `force_col_wise=true` to remove the overhead.\n",
      "[LightGBM] [Info] Total Bins 25500\n",
      "[LightGBM] [Info] Number of data points in the train set: 35732, number of used features: 100\n",
      "[LightGBM] [Info] [binary:BoostFromScore]: pavg=0.493815 -> initscore=-0.024741\n",
      "[LightGBM] [Info] Start training from score -0.024741\n",
      "Fitting:  LGBMClassifier finished. Elapsed time:  2 Seconds\n",
      "9/12 Fitting:  LGBMClassifier NearMiss-base started...\n",
      "[LightGBM] [Info] Number of positive: 1409, number of negative: 1409\n",
      "[LightGBM] [Info] Auto-choosing col-wise multi-threading, the overhead of testing was 0.001900 seconds.\n",
      "You can set `force_col_wise=true` to remove the overhead.\n",
      "[LightGBM] [Info] Total Bins 25500\n",
      "[LightGBM] [Info] Number of data points in the train set: 2818, number of used features: 100\n",
      "[LightGBM] [Info] [binary:BoostFromScore]: pavg=0.500000 -> initscore=0.000000\n",
      "Fitting:  LGBMClassifier finished. Elapsed time:  1 Seconds\n",
      "10/12 Fitting:  LGBMClassifier NearMiss-clean started...\n",
      "[LightGBM] [Info] Number of positive: 1268, number of negative: 1268\n",
      "[LightGBM] [Info] Auto-choosing col-wise multi-threading, the overhead of testing was 0.001895 seconds.\n",
      "You can set `force_col_wise=true` to remove the overhead.\n",
      "[LightGBM] [Info] Total Bins 25500\n",
      "[LightGBM] [Info] Number of data points in the train set: 2536, number of used features: 100\n",
      "[LightGBM] [Info] [binary:BoostFromScore]: pavg=0.500000 -> initscore=0.000000\n",
      "Fitting:  LGBMClassifier finished. Elapsed time:  1 Seconds\n",
      "11/12 Fitting:  LGBMClassifier TomekLink-base started...\n",
      "[LightGBM] [Info] Number of positive: 1268, number of negative: 18036\n",
      "[LightGBM] [Info] Auto-choosing col-wise multi-threading, the overhead of testing was 0.012465 seconds.\n",
      "You can set `force_col_wise=true` to remove the overhead.\n",
      "[LightGBM] [Info] Total Bins 25500\n",
      "[LightGBM] [Info] Number of data points in the train set: 19304, number of used features: 100\n",
      "[LightGBM] [Info] [binary:BoostFromScore]: pavg=0.065686 -> initscore=-2.654929\n",
      "[LightGBM] [Info] Start training from score -2.654929\n",
      "Fitting:  LGBMClassifier finished. Elapsed time:  1 Seconds\n",
      "12/12 Fitting:  LGBMClassifier TomekLink-clean started...\n",
      "[LightGBM] [Info] Number of positive: 1268, number of negative: 18036\n",
      "[LightGBM] [Info] Auto-choosing col-wise multi-threading, the overhead of testing was 0.006939 seconds.\n",
      "You can set `force_col_wise=true` to remove the overhead.\n",
      "[LightGBM] [Info] Total Bins 25500\n",
      "[LightGBM] [Info] Number of data points in the train set: 19304, number of used features: 100\n",
      "[LightGBM] [Info] [binary:BoostFromScore]: pavg=0.065686 -> initscore=-2.654929\n",
      "[LightGBM] [Info] Start training from score -2.654929\n",
      "Fitting:  LGBMClassifier finished. Elapsed time:  1 Seconds\n",
      "Model fitting finished.\n"
     ]
    }
   ],
   "source": [
    "fit_model(light, \"LGBMClassifier\")"
   ],
   "metadata": {
    "collapsed": false,
    "ExecuteTime": {
     "end_time": "2024-11-11T19:48:26.648353300Z",
     "start_time": "2024-11-11T19:48:11.452977Z"
    }
   }
  },
  {
   "cell_type": "code",
   "execution_count": 74,
   "outputs": [
    {
     "data": {
      "text/plain": "             model                variant  train_acc  train_prec  train_rec  \\\n50  LGBMClassifier                   base   0.966233    0.967414   0.966233   \n51  LGBMClassifier                  clean   0.969827    0.970722   0.969827   \n60  LGBMClassifier        TomekLink clean   0.970576    0.971474   0.970576   \n61  LGBMClassifier        TomekLink clean   0.970576    0.971474   0.970576   \n52  LGBMClassifier             SMOTE base   0.934768    0.935281   0.934768   \n54  LGBMClassifier   BorderlineSMOTE base   0.950239    0.951003   0.950239   \n56  LGBMClassifier            ADASYN base   0.934076    0.935013   0.934076   \n53  LGBMClassifier            SMOTE clean   0.938298    0.939119   0.938298   \n55  LGBMClassifier  BorderlineSMOTE clean   0.954691    0.955218   0.954691   \n57  LGBMClassifier           ADASYN clean   0.937171    0.938041   0.937171   \n58  LGBMClassifier          NearMiss base   0.998226    0.998232   0.998226   \n59  LGBMClassifier         NearMiss clean   1.000000    1.000000   1.000000   \n\n    train_f1  test_acc  test_prec  test_rec   test_f1  \n50  0.960975  0.934078   0.926200  0.934078  0.905538  \n51  0.965572  0.935262   0.919491  0.935262  0.905810  \n60  0.966558  0.934539   0.907075  0.934539  0.905202  \n61  0.966558  0.934539   0.907075  0.934539  0.905202  \n52  0.934749  0.843097   0.899642  0.843097  0.867461  \n54  0.950218  0.858110   0.898887  0.858110  0.876185  \n56  0.934036  0.837115   0.898519  0.837115  0.863496  \n53  0.938269  0.837854   0.897590  0.837854  0.864063  \n55  0.954678  0.859433   0.897280  0.859433  0.876610  \n57  0.937158  0.833876   0.895523  0.833876  0.861050  \n58  0.998226  0.459758   0.892377  0.459758  0.573267  \n59  1.000000  0.449427   0.890356  0.449427  0.566033  ",
      "text/html": "<div>\n<style scoped>\n    .dataframe tbody tr th:only-of-type {\n        vertical-align: middle;\n    }\n\n    .dataframe tbody tr th {\n        vertical-align: top;\n    }\n\n    .dataframe thead th {\n        text-align: right;\n    }\n</style>\n<table border=\"1\" class=\"dataframe\">\n  <thead>\n    <tr style=\"text-align: right;\">\n      <th></th>\n      <th>model</th>\n      <th>variant</th>\n      <th>train_acc</th>\n      <th>train_prec</th>\n      <th>train_rec</th>\n      <th>train_f1</th>\n      <th>test_acc</th>\n      <th>test_prec</th>\n      <th>test_rec</th>\n      <th>test_f1</th>\n    </tr>\n  </thead>\n  <tbody>\n    <tr>\n      <th>50</th>\n      <td>LGBMClassifier</td>\n      <td>base</td>\n      <td>0.966233</td>\n      <td>0.967414</td>\n      <td>0.966233</td>\n      <td>0.960975</td>\n      <td>0.934078</td>\n      <td>0.926200</td>\n      <td>0.934078</td>\n      <td>0.905538</td>\n    </tr>\n    <tr>\n      <th>51</th>\n      <td>LGBMClassifier</td>\n      <td>clean</td>\n      <td>0.969827</td>\n      <td>0.970722</td>\n      <td>0.969827</td>\n      <td>0.965572</td>\n      <td>0.935262</td>\n      <td>0.919491</td>\n      <td>0.935262</td>\n      <td>0.905810</td>\n    </tr>\n    <tr>\n      <th>60</th>\n      <td>LGBMClassifier</td>\n      <td>TomekLink clean</td>\n      <td>0.970576</td>\n      <td>0.971474</td>\n      <td>0.970576</td>\n      <td>0.966558</td>\n      <td>0.934539</td>\n      <td>0.907075</td>\n      <td>0.934539</td>\n      <td>0.905202</td>\n    </tr>\n    <tr>\n      <th>61</th>\n      <td>LGBMClassifier</td>\n      <td>TomekLink clean</td>\n      <td>0.970576</td>\n      <td>0.971474</td>\n      <td>0.970576</td>\n      <td>0.966558</td>\n      <td>0.934539</td>\n      <td>0.907075</td>\n      <td>0.934539</td>\n      <td>0.905202</td>\n    </tr>\n    <tr>\n      <th>52</th>\n      <td>LGBMClassifier</td>\n      <td>SMOTE base</td>\n      <td>0.934768</td>\n      <td>0.935281</td>\n      <td>0.934768</td>\n      <td>0.934749</td>\n      <td>0.843097</td>\n      <td>0.899642</td>\n      <td>0.843097</td>\n      <td>0.867461</td>\n    </tr>\n    <tr>\n      <th>54</th>\n      <td>LGBMClassifier</td>\n      <td>BorderlineSMOTE base</td>\n      <td>0.950239</td>\n      <td>0.951003</td>\n      <td>0.950239</td>\n      <td>0.950218</td>\n      <td>0.858110</td>\n      <td>0.898887</td>\n      <td>0.858110</td>\n      <td>0.876185</td>\n    </tr>\n    <tr>\n      <th>56</th>\n      <td>LGBMClassifier</td>\n      <td>ADASYN base</td>\n      <td>0.934076</td>\n      <td>0.935013</td>\n      <td>0.934076</td>\n      <td>0.934036</td>\n      <td>0.837115</td>\n      <td>0.898519</td>\n      <td>0.837115</td>\n      <td>0.863496</td>\n    </tr>\n    <tr>\n      <th>53</th>\n      <td>LGBMClassifier</td>\n      <td>SMOTE clean</td>\n      <td>0.938298</td>\n      <td>0.939119</td>\n      <td>0.938298</td>\n      <td>0.938269</td>\n      <td>0.837854</td>\n      <td>0.897590</td>\n      <td>0.837854</td>\n      <td>0.864063</td>\n    </tr>\n    <tr>\n      <th>55</th>\n      <td>LGBMClassifier</td>\n      <td>BorderlineSMOTE clean</td>\n      <td>0.954691</td>\n      <td>0.955218</td>\n      <td>0.954691</td>\n      <td>0.954678</td>\n      <td>0.859433</td>\n      <td>0.897280</td>\n      <td>0.859433</td>\n      <td>0.876610</td>\n    </tr>\n    <tr>\n      <th>57</th>\n      <td>LGBMClassifier</td>\n      <td>ADASYN clean</td>\n      <td>0.937171</td>\n      <td>0.938041</td>\n      <td>0.937171</td>\n      <td>0.937158</td>\n      <td>0.833876</td>\n      <td>0.895523</td>\n      <td>0.833876</td>\n      <td>0.861050</td>\n    </tr>\n    <tr>\n      <th>58</th>\n      <td>LGBMClassifier</td>\n      <td>NearMiss base</td>\n      <td>0.998226</td>\n      <td>0.998232</td>\n      <td>0.998226</td>\n      <td>0.998226</td>\n      <td>0.459758</td>\n      <td>0.892377</td>\n      <td>0.459758</td>\n      <td>0.573267</td>\n    </tr>\n    <tr>\n      <th>59</th>\n      <td>LGBMClassifier</td>\n      <td>NearMiss clean</td>\n      <td>1.000000</td>\n      <td>1.000000</td>\n      <td>1.000000</td>\n      <td>1.000000</td>\n      <td>0.449427</td>\n      <td>0.890356</td>\n      <td>0.449427</td>\n      <td>0.566033</td>\n    </tr>\n  </tbody>\n</table>\n</div>"
     },
     "execution_count": 74,
     "metadata": {},
     "output_type": "execute_result"
    }
   ],
   "source": [
    "evaluation[evaluation.model == \"LGBMClassifier\"].sort_values(by=[\"test_prec\"], ascending=False)"
   ],
   "metadata": {
    "collapsed": false,
    "ExecuteTime": {
     "end_time": "2024-11-11T19:48:26.680684100Z",
     "start_time": "2024-11-11T19:48:26.650392200Z"
    }
   }
  },
  {
   "cell_type": "markdown",
   "source": [
    "#### 2.3 Stacking"
   ],
   "metadata": {
    "collapsed": false
   }
  },
  {
   "cell_type": "code",
   "execution_count": 75,
   "outputs": [],
   "source": [
    "base_models = [\n",
    "    ('rf', RandomForestClassifier(n_estimators=100, random_state=42)),\n",
    "    ('svm', LinearSVC(random_state=42))\n",
    "]\n",
    "stack = StackingClassifier(estimators=base_models)"
   ],
   "metadata": {
    "collapsed": false,
    "ExecuteTime": {
     "end_time": "2024-11-11T19:48:26.700987700Z",
     "start_time": "2024-11-11T19:48:26.680684100Z"
    }
   }
  },
  {
   "cell_type": "code",
   "execution_count": 76,
   "outputs": [],
   "source": [
    "# stack.fit(X_train_base, y_train_base)"
   ],
   "metadata": {
    "collapsed": false,
    "ExecuteTime": {
     "end_time": "2024-11-11T19:48:26.765378500Z",
     "start_time": "2024-11-11T19:48:26.695360Z"
    }
   }
  },
  {
   "cell_type": "markdown",
   "source": [
    "#### Model comparision"
   ],
   "metadata": {
    "collapsed": false
   }
  },
  {
   "cell_type": "code",
   "execution_count": 90,
   "outputs": [
    {
     "data": {
      "text/plain": "                  model          variant  train_acc  train_prec  train_rec  \\\n0          RandomForest             base   0.999710    0.999710   0.999710   \n26  XGBClassifier-tuned             base   0.997484    0.997489   0.997484   \n14        XGBClassifier             base   0.999226    0.999227   0.999226   \n37  XGBClassifier-tuned  TomekLink clean   0.998291    0.998294   0.998291   \n36  XGBClassifier-tuned  TomekLink clean   0.998291    0.998294   0.998291   \n..                  ...              ...        ...         ...        ...   \n39   CatBoostClassifier            clean   0.934487    0.873266   0.934487   \n85           GaussianNB  TomekLink clean   0.934314    0.872943   0.934314   \n74           GaussianNB             base   0.931837    0.868320   0.931837   \n38   CatBoostClassifier             base   0.931837    0.868320   0.931837   \n62            LinearSVC             base   0.931837    0.868320   0.931837   \n\n    train_f1  test_acc  test_prec  test_rec   test_f1  \n0   0.999709  0.933853   0.938237  0.933853  0.903827  \n26  0.997463  0.935320   0.932893  0.935320  0.907973  \n14  0.999224  0.936675   0.931477  0.936675  0.911829  \n37  0.998280  0.935865   0.928727  0.935865  0.906797  \n36  0.998280  0.935865   0.928727  0.935865  0.906797  \n..       ...       ...        ...       ...       ...  \n39  0.902840  0.934539   0.873363  0.934539  0.902916  \n85  0.902586  0.934539   0.873363  0.934539  0.902916  \n74  0.898958  0.931821   0.868290  0.931821  0.898934  \n38  0.898958  0.931821   0.868290  0.931821  0.898934  \n62  0.898958  0.931821   0.868290  0.931821  0.898934  \n\n[86 rows x 10 columns]",
      "text/html": "<div>\n<style scoped>\n    .dataframe tbody tr th:only-of-type {\n        vertical-align: middle;\n    }\n\n    .dataframe tbody tr th {\n        vertical-align: top;\n    }\n\n    .dataframe thead th {\n        text-align: right;\n    }\n</style>\n<table border=\"1\" class=\"dataframe\">\n  <thead>\n    <tr style=\"text-align: right;\">\n      <th></th>\n      <th>model</th>\n      <th>variant</th>\n      <th>train_acc</th>\n      <th>train_prec</th>\n      <th>train_rec</th>\n      <th>train_f1</th>\n      <th>test_acc</th>\n      <th>test_prec</th>\n      <th>test_rec</th>\n      <th>test_f1</th>\n    </tr>\n  </thead>\n  <tbody>\n    <tr>\n      <th>0</th>\n      <td>RandomForest</td>\n      <td>base</td>\n      <td>0.999710</td>\n      <td>0.999710</td>\n      <td>0.999710</td>\n      <td>0.999709</td>\n      <td>0.933853</td>\n      <td>0.938237</td>\n      <td>0.933853</td>\n      <td>0.903827</td>\n    </tr>\n    <tr>\n      <th>26</th>\n      <td>XGBClassifier-tuned</td>\n      <td>base</td>\n      <td>0.997484</td>\n      <td>0.997489</td>\n      <td>0.997484</td>\n      <td>0.997463</td>\n      <td>0.935320</td>\n      <td>0.932893</td>\n      <td>0.935320</td>\n      <td>0.907973</td>\n    </tr>\n    <tr>\n      <th>14</th>\n      <td>XGBClassifier</td>\n      <td>base</td>\n      <td>0.999226</td>\n      <td>0.999227</td>\n      <td>0.999226</td>\n      <td>0.999224</td>\n      <td>0.936675</td>\n      <td>0.931477</td>\n      <td>0.936675</td>\n      <td>0.911829</td>\n    </tr>\n    <tr>\n      <th>37</th>\n      <td>XGBClassifier-tuned</td>\n      <td>TomekLink clean</td>\n      <td>0.998291</td>\n      <td>0.998294</td>\n      <td>0.998291</td>\n      <td>0.998280</td>\n      <td>0.935865</td>\n      <td>0.928727</td>\n      <td>0.935865</td>\n      <td>0.906797</td>\n    </tr>\n    <tr>\n      <th>36</th>\n      <td>XGBClassifier-tuned</td>\n      <td>TomekLink clean</td>\n      <td>0.998291</td>\n      <td>0.998294</td>\n      <td>0.998291</td>\n      <td>0.998280</td>\n      <td>0.935865</td>\n      <td>0.928727</td>\n      <td>0.935865</td>\n      <td>0.906797</td>\n    </tr>\n    <tr>\n      <th>...</th>\n      <td>...</td>\n      <td>...</td>\n      <td>...</td>\n      <td>...</td>\n      <td>...</td>\n      <td>...</td>\n      <td>...</td>\n      <td>...</td>\n      <td>...</td>\n      <td>...</td>\n    </tr>\n    <tr>\n      <th>39</th>\n      <td>CatBoostClassifier</td>\n      <td>clean</td>\n      <td>0.934487</td>\n      <td>0.873266</td>\n      <td>0.934487</td>\n      <td>0.902840</td>\n      <td>0.934539</td>\n      <td>0.873363</td>\n      <td>0.934539</td>\n      <td>0.902916</td>\n    </tr>\n    <tr>\n      <th>85</th>\n      <td>GaussianNB</td>\n      <td>TomekLink clean</td>\n      <td>0.934314</td>\n      <td>0.872943</td>\n      <td>0.934314</td>\n      <td>0.902586</td>\n      <td>0.934539</td>\n      <td>0.873363</td>\n      <td>0.934539</td>\n      <td>0.902916</td>\n    </tr>\n    <tr>\n      <th>74</th>\n      <td>GaussianNB</td>\n      <td>base</td>\n      <td>0.931837</td>\n      <td>0.868320</td>\n      <td>0.931837</td>\n      <td>0.898958</td>\n      <td>0.931821</td>\n      <td>0.868290</td>\n      <td>0.931821</td>\n      <td>0.898934</td>\n    </tr>\n    <tr>\n      <th>38</th>\n      <td>CatBoostClassifier</td>\n      <td>base</td>\n      <td>0.931837</td>\n      <td>0.868320</td>\n      <td>0.931837</td>\n      <td>0.898958</td>\n      <td>0.931821</td>\n      <td>0.868290</td>\n      <td>0.931821</td>\n      <td>0.898934</td>\n    </tr>\n    <tr>\n      <th>62</th>\n      <td>LinearSVC</td>\n      <td>base</td>\n      <td>0.931837</td>\n      <td>0.868320</td>\n      <td>0.931837</td>\n      <td>0.898958</td>\n      <td>0.931821</td>\n      <td>0.868290</td>\n      <td>0.931821</td>\n      <td>0.898934</td>\n    </tr>\n  </tbody>\n</table>\n<p>86 rows × 10 columns</p>\n</div>"
     },
     "execution_count": 90,
     "metadata": {},
     "output_type": "execute_result"
    }
   ],
   "source": [
    "evaluation.sort_values(by=[\"test_prec\"], ascending=False)"
   ],
   "metadata": {
    "collapsed": false,
    "ExecuteTime": {
     "end_time": "2024-11-11T19:52:08.992579100Z",
     "start_time": "2024-11-11T19:52:08.917567Z"
    }
   }
  },
  {
   "cell_type": "code",
   "execution_count": 91,
   "outputs": [
    {
     "data": {
      "text/plain": "                  model          variant  train_acc  train_prec  train_rec  \\\n14        XGBClassifier             base   0.999226    0.999227   0.999226   \n36  XGBClassifier-tuned  TomekLink clean   0.998291    0.998294   0.998291   \n37  XGBClassifier-tuned  TomekLink clean   0.998291    0.998294   0.998291   \n25        XGBClassifier  TomekLink clean   0.999482    0.999482   0.999482   \n24        XGBClassifier  TomekLink clean   0.999482    0.999482   0.999482   \n..                  ...              ...        ...         ...        ...   \n59       LGBMClassifier   NearMiss clean   1.000000    1.000000   1.000000   \n70            LinearSVC    NearMiss base   0.584812    0.586065   0.584812   \n82           GaussianNB    NearMiss base   0.584812    0.586065   0.584812   \n8          RandomForest    NearMiss base   0.999290    0.999291   0.999290   \n9          RandomForest   NearMiss clean   1.000000    1.000000   1.000000   \n\n    train_f1  test_acc  test_prec  test_rec   test_f1  \n14  0.999224  0.936675   0.931477  0.936675  0.911829  \n36  0.998280  0.935865   0.928727  0.935865  0.906797  \n37  0.998280  0.935865   0.928727  0.935865  0.906797  \n25  0.999481  0.935744   0.918460  0.935744  0.908218  \n24  0.999481  0.935744   0.918460  0.935744  0.908218  \n..       ...       ...        ...       ...       ...  \n59  1.000000  0.449427   0.890356  0.449427  0.566033  \n70  0.583295  0.440795   0.882601  0.440795  0.556070  \n82  0.583295  0.439892   0.882476  0.439892  0.555178  \n8   0.999290  0.423411   0.884953  0.423411  0.537736  \n9   1.000000  0.407354   0.883876  0.407354  0.523887  \n\n[86 rows x 10 columns]",
      "text/html": "<div>\n<style scoped>\n    .dataframe tbody tr th:only-of-type {\n        vertical-align: middle;\n    }\n\n    .dataframe tbody tr th {\n        vertical-align: top;\n    }\n\n    .dataframe thead th {\n        text-align: right;\n    }\n</style>\n<table border=\"1\" class=\"dataframe\">\n  <thead>\n    <tr style=\"text-align: right;\">\n      <th></th>\n      <th>model</th>\n      <th>variant</th>\n      <th>train_acc</th>\n      <th>train_prec</th>\n      <th>train_rec</th>\n      <th>train_f1</th>\n      <th>test_acc</th>\n      <th>test_prec</th>\n      <th>test_rec</th>\n      <th>test_f1</th>\n    </tr>\n  </thead>\n  <tbody>\n    <tr>\n      <th>14</th>\n      <td>XGBClassifier</td>\n      <td>base</td>\n      <td>0.999226</td>\n      <td>0.999227</td>\n      <td>0.999226</td>\n      <td>0.999224</td>\n      <td>0.936675</td>\n      <td>0.931477</td>\n      <td>0.936675</td>\n      <td>0.911829</td>\n    </tr>\n    <tr>\n      <th>36</th>\n      <td>XGBClassifier-tuned</td>\n      <td>TomekLink clean</td>\n      <td>0.998291</td>\n      <td>0.998294</td>\n      <td>0.998291</td>\n      <td>0.998280</td>\n      <td>0.935865</td>\n      <td>0.928727</td>\n      <td>0.935865</td>\n      <td>0.906797</td>\n    </tr>\n    <tr>\n      <th>37</th>\n      <td>XGBClassifier-tuned</td>\n      <td>TomekLink clean</td>\n      <td>0.998291</td>\n      <td>0.998294</td>\n      <td>0.998291</td>\n      <td>0.998280</td>\n      <td>0.935865</td>\n      <td>0.928727</td>\n      <td>0.935865</td>\n      <td>0.906797</td>\n    </tr>\n    <tr>\n      <th>25</th>\n      <td>XGBClassifier</td>\n      <td>TomekLink clean</td>\n      <td>0.999482</td>\n      <td>0.999482</td>\n      <td>0.999482</td>\n      <td>0.999481</td>\n      <td>0.935744</td>\n      <td>0.918460</td>\n      <td>0.935744</td>\n      <td>0.908218</td>\n    </tr>\n    <tr>\n      <th>24</th>\n      <td>XGBClassifier</td>\n      <td>TomekLink clean</td>\n      <td>0.999482</td>\n      <td>0.999482</td>\n      <td>0.999482</td>\n      <td>0.999481</td>\n      <td>0.935744</td>\n      <td>0.918460</td>\n      <td>0.935744</td>\n      <td>0.908218</td>\n    </tr>\n    <tr>\n      <th>...</th>\n      <td>...</td>\n      <td>...</td>\n      <td>...</td>\n      <td>...</td>\n      <td>...</td>\n      <td>...</td>\n      <td>...</td>\n      <td>...</td>\n      <td>...</td>\n      <td>...</td>\n    </tr>\n    <tr>\n      <th>59</th>\n      <td>LGBMClassifier</td>\n      <td>NearMiss clean</td>\n      <td>1.000000</td>\n      <td>1.000000</td>\n      <td>1.000000</td>\n      <td>1.000000</td>\n      <td>0.449427</td>\n      <td>0.890356</td>\n      <td>0.449427</td>\n      <td>0.566033</td>\n    </tr>\n    <tr>\n      <th>70</th>\n      <td>LinearSVC</td>\n      <td>NearMiss base</td>\n      <td>0.584812</td>\n      <td>0.586065</td>\n      <td>0.584812</td>\n      <td>0.583295</td>\n      <td>0.440795</td>\n      <td>0.882601</td>\n      <td>0.440795</td>\n      <td>0.556070</td>\n    </tr>\n    <tr>\n      <th>82</th>\n      <td>GaussianNB</td>\n      <td>NearMiss base</td>\n      <td>0.584812</td>\n      <td>0.586065</td>\n      <td>0.584812</td>\n      <td>0.583295</td>\n      <td>0.439892</td>\n      <td>0.882476</td>\n      <td>0.439892</td>\n      <td>0.555178</td>\n    </tr>\n    <tr>\n      <th>8</th>\n      <td>RandomForest</td>\n      <td>NearMiss base</td>\n      <td>0.999290</td>\n      <td>0.999291</td>\n      <td>0.999290</td>\n      <td>0.999290</td>\n      <td>0.423411</td>\n      <td>0.884953</td>\n      <td>0.423411</td>\n      <td>0.537736</td>\n    </tr>\n    <tr>\n      <th>9</th>\n      <td>RandomForest</td>\n      <td>NearMiss clean</td>\n      <td>1.000000</td>\n      <td>1.000000</td>\n      <td>1.000000</td>\n      <td>1.000000</td>\n      <td>0.407354</td>\n      <td>0.883876</td>\n      <td>0.407354</td>\n      <td>0.523887</td>\n    </tr>\n  </tbody>\n</table>\n<p>86 rows × 10 columns</p>\n</div>"
     },
     "execution_count": 91,
     "metadata": {},
     "output_type": "execute_result"
    }
   ],
   "source": [
    "evaluation.sort_values(by=[\"test_rec\"], ascending=False)"
   ],
   "metadata": {
    "collapsed": false,
    "ExecuteTime": {
     "end_time": "2024-11-11T19:52:09.336509800Z",
     "start_time": "2024-11-11T19:52:09.212526900Z"
    }
   }
  },
  {
   "cell_type": "code",
   "execution_count": 92,
   "outputs": [
    {
     "data": {
      "text/plain": "                  model          variant  train_acc  train_prec  train_rec  \\\n14        XGBClassifier             base   0.999226    0.999227   0.999226   \n25        XGBClassifier  TomekLink clean   0.999482    0.999482   0.999482   \n24        XGBClassifier  TomekLink clean   0.999482    0.999482   0.999482   \n26  XGBClassifier-tuned             base   0.997484    0.997489   0.997484   \n2          RandomForest       SMOTE base   0.999689    0.999689   0.999689   \n..                  ...              ...        ...         ...        ...   \n59       LGBMClassifier   NearMiss clean   1.000000    1.000000   1.000000   \n70            LinearSVC    NearMiss base   0.584812    0.586065   0.584812   \n82           GaussianNB    NearMiss base   0.584812    0.586065   0.584812   \n8          RandomForest    NearMiss base   0.999290    0.999291   0.999290   \n9          RandomForest   NearMiss clean   1.000000    1.000000   1.000000   \n\n    train_f1  test_acc  test_prec  test_rec   test_f1  \n14  0.999224  0.936675   0.931477  0.936675  0.911829  \n25  0.999481  0.935744   0.918460  0.935744  0.908218  \n24  0.999481  0.935744   0.918460  0.935744  0.908218  \n26  0.997463  0.935320   0.932893  0.935320  0.907973  \n2   0.999689  0.917146   0.899655  0.917146  0.907058  \n..       ...       ...        ...       ...       ...  \n59  1.000000  0.449427   0.890356  0.449427  0.566033  \n70  0.583295  0.440795   0.882601  0.440795  0.556070  \n82  0.583295  0.439892   0.882476  0.439892  0.555178  \n8   0.999290  0.423411   0.884953  0.423411  0.537736  \n9   1.000000  0.407354   0.883876  0.407354  0.523887  \n\n[86 rows x 10 columns]",
      "text/html": "<div>\n<style scoped>\n    .dataframe tbody tr th:only-of-type {\n        vertical-align: middle;\n    }\n\n    .dataframe tbody tr th {\n        vertical-align: top;\n    }\n\n    .dataframe thead th {\n        text-align: right;\n    }\n</style>\n<table border=\"1\" class=\"dataframe\">\n  <thead>\n    <tr style=\"text-align: right;\">\n      <th></th>\n      <th>model</th>\n      <th>variant</th>\n      <th>train_acc</th>\n      <th>train_prec</th>\n      <th>train_rec</th>\n      <th>train_f1</th>\n      <th>test_acc</th>\n      <th>test_prec</th>\n      <th>test_rec</th>\n      <th>test_f1</th>\n    </tr>\n  </thead>\n  <tbody>\n    <tr>\n      <th>14</th>\n      <td>XGBClassifier</td>\n      <td>base</td>\n      <td>0.999226</td>\n      <td>0.999227</td>\n      <td>0.999226</td>\n      <td>0.999224</td>\n      <td>0.936675</td>\n      <td>0.931477</td>\n      <td>0.936675</td>\n      <td>0.911829</td>\n    </tr>\n    <tr>\n      <th>25</th>\n      <td>XGBClassifier</td>\n      <td>TomekLink clean</td>\n      <td>0.999482</td>\n      <td>0.999482</td>\n      <td>0.999482</td>\n      <td>0.999481</td>\n      <td>0.935744</td>\n      <td>0.918460</td>\n      <td>0.935744</td>\n      <td>0.908218</td>\n    </tr>\n    <tr>\n      <th>24</th>\n      <td>XGBClassifier</td>\n      <td>TomekLink clean</td>\n      <td>0.999482</td>\n      <td>0.999482</td>\n      <td>0.999482</td>\n      <td>0.999481</td>\n      <td>0.935744</td>\n      <td>0.918460</td>\n      <td>0.935744</td>\n      <td>0.908218</td>\n    </tr>\n    <tr>\n      <th>26</th>\n      <td>XGBClassifier-tuned</td>\n      <td>base</td>\n      <td>0.997484</td>\n      <td>0.997489</td>\n      <td>0.997484</td>\n      <td>0.997463</td>\n      <td>0.935320</td>\n      <td>0.932893</td>\n      <td>0.935320</td>\n      <td>0.907973</td>\n    </tr>\n    <tr>\n      <th>2</th>\n      <td>RandomForest</td>\n      <td>SMOTE base</td>\n      <td>0.999689</td>\n      <td>0.999689</td>\n      <td>0.999689</td>\n      <td>0.999689</td>\n      <td>0.917146</td>\n      <td>0.899655</td>\n      <td>0.917146</td>\n      <td>0.907058</td>\n    </tr>\n    <tr>\n      <th>...</th>\n      <td>...</td>\n      <td>...</td>\n      <td>...</td>\n      <td>...</td>\n      <td>...</td>\n      <td>...</td>\n      <td>...</td>\n      <td>...</td>\n      <td>...</td>\n      <td>...</td>\n    </tr>\n    <tr>\n      <th>59</th>\n      <td>LGBMClassifier</td>\n      <td>NearMiss clean</td>\n      <td>1.000000</td>\n      <td>1.000000</td>\n      <td>1.000000</td>\n      <td>1.000000</td>\n      <td>0.449427</td>\n      <td>0.890356</td>\n      <td>0.449427</td>\n      <td>0.566033</td>\n    </tr>\n    <tr>\n      <th>70</th>\n      <td>LinearSVC</td>\n      <td>NearMiss base</td>\n      <td>0.584812</td>\n      <td>0.586065</td>\n      <td>0.584812</td>\n      <td>0.583295</td>\n      <td>0.440795</td>\n      <td>0.882601</td>\n      <td>0.440795</td>\n      <td>0.556070</td>\n    </tr>\n    <tr>\n      <th>82</th>\n      <td>GaussianNB</td>\n      <td>NearMiss base</td>\n      <td>0.584812</td>\n      <td>0.586065</td>\n      <td>0.584812</td>\n      <td>0.583295</td>\n      <td>0.439892</td>\n      <td>0.882476</td>\n      <td>0.439892</td>\n      <td>0.555178</td>\n    </tr>\n    <tr>\n      <th>8</th>\n      <td>RandomForest</td>\n      <td>NearMiss base</td>\n      <td>0.999290</td>\n      <td>0.999291</td>\n      <td>0.999290</td>\n      <td>0.999290</td>\n      <td>0.423411</td>\n      <td>0.884953</td>\n      <td>0.423411</td>\n      <td>0.537736</td>\n    </tr>\n    <tr>\n      <th>9</th>\n      <td>RandomForest</td>\n      <td>NearMiss clean</td>\n      <td>1.000000</td>\n      <td>1.000000</td>\n      <td>1.000000</td>\n      <td>1.000000</td>\n      <td>0.407354</td>\n      <td>0.883876</td>\n      <td>0.407354</td>\n      <td>0.523887</td>\n    </tr>\n  </tbody>\n</table>\n<p>86 rows × 10 columns</p>\n</div>"
     },
     "execution_count": 92,
     "metadata": {},
     "output_type": "execute_result"
    }
   ],
   "source": [
    "evaluation.sort_values(by=[\"test_f1\"], ascending=False)"
   ],
   "metadata": {
    "collapsed": false,
    "ExecuteTime": {
     "end_time": "2024-11-11T19:52:09.628897500Z",
     "start_time": "2024-11-11T19:52:09.436516300Z"
    }
   }
  },
  {
   "cell_type": "markdown",
   "source": [
    "#### 3. Einfache SVM / Bayes-Classifier zum Vergleich"
   ],
   "metadata": {
    "collapsed": false
   }
  },
  {
   "cell_type": "markdown",
   "source": [
    "##### 3.1 LinearSVC"
   ],
   "metadata": {
    "collapsed": false
   }
  },
  {
   "cell_type": "code",
   "execution_count": 98,
   "outputs": [],
   "source": [
    "svc = LinearSVC()"
   ],
   "metadata": {
    "collapsed": false,
    "ExecuteTime": {
     "end_time": "2024-11-11T20:09:30.627222800Z",
     "start_time": "2024-11-11T20:09:30.577323Z"
    }
   }
  },
  {
   "cell_type": "code",
   "execution_count": 99,
   "outputs": [
    {
     "name": "stdout",
     "output_type": "stream",
     "text": [
      "Starting model fitting.\n",
      "1/12 Fitting:  LinearSVC BASE started...\n"
     ]
    },
    {
     "name": "stderr",
     "output_type": "stream",
     "text": [
      "C:\\Users\\admin\\anaconda3\\lib\\site-packages\\sklearn\\metrics\\_classification.py:1344: UndefinedMetricWarning: Precision is ill-defined and being set to 0.0 in labels with no predicted samples. Use `zero_division` parameter to control this behavior.\n",
      "  _warn_prf(average, modifier, msg_start, len(result))\n",
      "C:\\Users\\admin\\anaconda3\\lib\\site-packages\\sklearn\\metrics\\_classification.py:1344: UndefinedMetricWarning: Precision is ill-defined and being set to 0.0 in labels with no predicted samples. Use `zero_division` parameter to control this behavior.\n",
      "  _warn_prf(average, modifier, msg_start, len(result))\n"
     ]
    },
    {
     "name": "stdout",
     "output_type": "stream",
     "text": [
      "Fitting:  LinearSVC finished. Elapsed time:  0 Seconds\n",
      "2/12 Fitting:  LinearSVC CLEAN started...\n"
     ]
    },
    {
     "name": "stderr",
     "output_type": "stream",
     "text": [
      "C:\\Users\\admin\\anaconda3\\lib\\site-packages\\sklearn\\metrics\\_classification.py:1344: UndefinedMetricWarning: Precision is ill-defined and being set to 0.0 in labels with no predicted samples. Use `zero_division` parameter to control this behavior.\n",
      "  _warn_prf(average, modifier, msg_start, len(result))\n",
      "C:\\Users\\admin\\anaconda3\\lib\\site-packages\\sklearn\\metrics\\_classification.py:1344: UndefinedMetricWarning: Precision is ill-defined and being set to 0.0 in labels with no predicted samples. Use `zero_division` parameter to control this behavior.\n",
      "  _warn_prf(average, modifier, msg_start, len(result))\n"
     ]
    },
    {
     "name": "stdout",
     "output_type": "stream",
     "text": [
      "Fitting:  LinearSVC finished. Elapsed time:  1 Seconds\n",
      "3/12 Fitting:  LinearSVC SMOTE-base started...\n",
      "Fitting:  LinearSVC finished. Elapsed time:  1 Seconds\n",
      "4/12 Fitting:  LinearSVC SMOTE-clean started...\n",
      "Fitting:  LinearSVC finished. Elapsed time:  3 Seconds\n",
      "5/12 Fitting:  LinearSVC BorderlineSMOTE-base started...\n",
      "Fitting:  LinearSVC finished. Elapsed time:  1 Seconds\n",
      "6/12 Fitting:  LinearSVC BorderlineSMOTE-clean started...\n",
      "Fitting:  LinearSVC finished. Elapsed time:  1 Seconds\n",
      "7/12 Fitting:  LinearSVC ADASYN-base started...\n",
      "Fitting:  LinearSVC finished. Elapsed time:  1 Seconds\n",
      "8/12 Fitting:  LinearSVC ADASYN-clean started...\n",
      "Fitting:  LinearSVC finished. Elapsed time:  1 Seconds\n",
      "9/12 Fitting:  LinearSVC NearMiss-base started...\n",
      "Fitting:  LinearSVC finished. Elapsed time:  0 Seconds\n",
      "10/12 Fitting:  LinearSVC NearMiss-clean started...\n",
      "Fitting:  LinearSVC finished. Elapsed time:  0 Seconds\n",
      "11/12 Fitting:  LinearSVC TomekLink-base started...\n"
     ]
    },
    {
     "name": "stderr",
     "output_type": "stream",
     "text": [
      "C:\\Users\\admin\\anaconda3\\lib\\site-packages\\sklearn\\metrics\\_classification.py:1344: UndefinedMetricWarning: Precision is ill-defined and being set to 0.0 in labels with no predicted samples. Use `zero_division` parameter to control this behavior.\n",
      "  _warn_prf(average, modifier, msg_start, len(result))\n",
      "C:\\Users\\admin\\anaconda3\\lib\\site-packages\\sklearn\\metrics\\_classification.py:1344: UndefinedMetricWarning: Precision is ill-defined and being set to 0.0 in labels with no predicted samples. Use `zero_division` parameter to control this behavior.\n",
      "  _warn_prf(average, modifier, msg_start, len(result))\n"
     ]
    },
    {
     "name": "stdout",
     "output_type": "stream",
     "text": [
      "Fitting:  LinearSVC finished. Elapsed time:  0 Seconds\n",
      "12/12 Fitting:  LinearSVC TomekLink-clean started...\n",
      "Fitting:  LinearSVC finished. Elapsed time:  0 Seconds\n",
      "Model fitting finished.\n"
     ]
    },
    {
     "name": "stderr",
     "output_type": "stream",
     "text": [
      "C:\\Users\\admin\\anaconda3\\lib\\site-packages\\sklearn\\metrics\\_classification.py:1344: UndefinedMetricWarning: Precision is ill-defined and being set to 0.0 in labels with no predicted samples. Use `zero_division` parameter to control this behavior.\n",
      "  _warn_prf(average, modifier, msg_start, len(result))\n",
      "C:\\Users\\admin\\anaconda3\\lib\\site-packages\\sklearn\\metrics\\_classification.py:1344: UndefinedMetricWarning: Precision is ill-defined and being set to 0.0 in labels with no predicted samples. Use `zero_division` parameter to control this behavior.\n",
      "  _warn_prf(average, modifier, msg_start, len(result))\n"
     ]
    }
   ],
   "source": [
    "fit_model(svc, \"LinearSVC\")"
   ],
   "metadata": {
    "collapsed": false,
    "ExecuteTime": {
     "end_time": "2024-11-11T20:09:41.338014800Z",
     "start_time": "2024-11-11T20:09:31.077027Z"
    }
   }
  },
  {
   "cell_type": "code",
   "execution_count": 101,
   "outputs": [
    {
     "data": {
      "text/plain": "         model                variant  train_acc  train_prec  train_rec  \\\n86   LinearSVC                   base   0.627352    0.907659   0.627352   \n64   LinearSVC             SMOTE base   0.657486    0.657511   0.657486   \n112  LinearSVC             SMOTE base   0.657512    0.657537   0.657512   \n100  LinearSVC             SMOTE base   0.657486    0.657511   0.657486   \n116  LinearSVC            ADASYN base   0.658053    0.658324   0.658053   \n68   LinearSVC            ADASYN base   0.658079    0.658352   0.658079   \n104  LinearSVC            ADASYN base   0.657380    0.657478   0.657380   \n98   LinearSVC                   base   0.655314    0.905175   0.655314   \n101  LinearSVC            SMOTE clean   0.672057    0.672159   0.672057   \n113  LinearSVC            SMOTE clean   0.672030    0.672132   0.672030   \n65   LinearSVC            SMOTE clean   0.672030    0.672132   0.672030   \n99   LinearSVC                  clean   0.666494    0.909782   0.666494   \n109  LinearSVC        TomekLink clean   0.667116    0.909612   0.667116   \n108  LinearSVC        TomekLink clean   0.667116    0.909612   0.667116   \n105  LinearSVC           ADASYN clean   0.662487    0.662886   0.662487   \n102  LinearSVC   BorderlineSMOTE base   0.670206    0.670217   0.670206   \n66   LinearSVC   BorderlineSMOTE base   0.670206    0.670217   0.670206   \n114  LinearSVC   BorderlineSMOTE base   0.670206    0.670217   0.670206   \n96   LinearSVC        TomekLink clean   0.683382    0.909971   0.683382   \n97   LinearSVC        TomekLink clean   0.683382    0.909971   0.683382   \n87   LinearSVC                  clean   0.686024    0.909855   0.686024   \n69   LinearSVC           ADASYN clean   0.660752    0.660841   0.660752   \n117  LinearSVC           ADASYN clean   0.660724    0.660814   0.660724   \n103  LinearSVC  BorderlineSMOTE clean   0.702162    0.702171   0.702162   \n115  LinearSVC  BorderlineSMOTE clean   0.702162    0.702171   0.702162   \n67   LinearSVC  BorderlineSMOTE clean   0.702162    0.702171   0.702162   \n107  LinearSVC         NearMiss clean   0.604101    0.604319   0.604101   \n119  LinearSVC         NearMiss clean   0.604101    0.604319   0.604101   \n71   LinearSVC         NearMiss clean   0.604495    0.604722   0.604495   \n70   LinearSVC          NearMiss base   0.584812    0.586065   0.584812   \n118  LinearSVC          NearMiss base   0.584812    0.586065   0.584812   \n106  LinearSVC          NearMiss base   0.584812    0.586065   0.584812   \n111  LinearSVC                  clean   0.934487    0.873266   0.934487   \n120  LinearSVC        TomekLink clean   0.934314    0.872943   0.934314   \n121  LinearSVC        TomekLink clean   0.934314    0.872943   0.934314   \n63   LinearSVC                  clean   0.934487    0.873266   0.934487   \n73   LinearSVC        TomekLink clean   0.934314    0.872943   0.934314   \n72   LinearSVC        TomekLink clean   0.934314    0.872943   0.934314   \n110  LinearSVC                   base   0.931837    0.868320   0.931837   \n62   LinearSVC                   base   0.931837    0.868320   0.931837   \n94   LinearSVC          NearMiss base   0.500000    0.250000   0.500000   \n92   LinearSVC            ADASYN base   0.501243    0.251244   0.501243   \n90   LinearSVC   BorderlineSMOTE base   0.500052    0.750013   0.500052   \n88   LinearSVC             SMOTE base   0.500000    0.250000   0.500000   \n95   LinearSVC         NearMiss clean   0.500000    0.250000   0.500000   \n93   LinearSVC           ADASYN clean   0.493815    0.243853   0.493815   \n91   LinearSVC  BorderlineSMOTE clean   0.500055    0.750014   0.500055   \n89   LinearSVC            SMOTE clean   0.500000    0.250000   0.500000   \n\n     train_f1  test_acc  test_prec  test_rec   test_f1  \n86   0.719082  0.629191   0.908366  0.629191  0.720492  \n64   0.657473  0.655492   0.908212  0.655492  0.740861  \n112  0.657499  0.655492   0.908212  0.655492  0.740861  \n100  0.657473  0.655492   0.908212  0.655492  0.740861  \n116  0.657868  0.640027   0.908105  0.640027  0.728972  \n68   0.657892  0.640027   0.908105  0.640027  0.728972  \n104  0.657301  0.645558   0.906955  0.645558  0.733276  \n98   0.740765  0.655379   0.905144  0.655379  0.740805  \n101  0.672009  0.646775   0.904783  0.646775  0.735926  \n113  0.671981  0.646775   0.904783  0.646775  0.735926  \n65   0.671981  0.646775   0.904783  0.646775  0.735926  \n99   0.750728  0.658469   0.904086  0.658469  0.744760  \n109  0.751092  0.658348   0.904076  0.658348  0.744669  \n108  0.751092  0.658348   0.904076  0.658348  0.744669  \n105  0.662444  0.634479   0.904001  0.634479  0.726518  \n102  0.670200  0.670843   0.903361  0.670843  0.752402  \n66   0.670200  0.670843   0.903361  0.670843  0.752402  \n114  0.670200  0.670843   0.903361  0.670843  0.752402  \n96   0.763140  0.673297   0.903156  0.673297  0.755747  \n97   0.763140  0.673297   0.903156  0.673297  0.755747  \n87   0.765168  0.677637   0.902812  0.677637  0.758916  \n69   0.660534  0.666667   0.901573  0.666667  0.750843  \n117  0.660504  0.666667   0.901573  0.666667  0.750843  \n103  0.702158  0.676432   0.901332  0.676432  0.758002  \n115  0.702158  0.676432   0.901332  0.676432  0.758002  \n67   0.702158  0.676432   0.901332  0.676432  0.758002  \n107  0.603894  0.465341   0.882856  0.465341  0.583016  \n119  0.603894  0.464738   0.882776  0.464738  0.582446  \n71   0.604281  0.464617   0.882760  0.464617  0.582332  \n70   0.583295  0.440795   0.882601  0.440795  0.556070  \n118  0.583295  0.440343   0.882538  0.440343  0.555624  \n106  0.583295  0.439892   0.882476  0.439892  0.555178  \n111  0.902840  0.934539   0.873363  0.934539  0.902916  \n120  0.902586  0.934539   0.873363  0.934539  0.902916  \n121  0.902586  0.934539   0.873363  0.934539  0.902916  \n63   0.902840  0.934539   0.873363  0.934539  0.902916  \n73   0.902586  0.934539   0.873363  0.934539  0.902916  \n72   0.902586  0.934539   0.873363  0.934539  0.902916  \n110  0.898958  0.931821   0.868290  0.931821  0.898934  \n62   0.898958  0.931821   0.868290  0.931821  0.898934  \n94   0.333333  0.068179   0.004648  0.068179  0.008703  \n92   0.334715  0.068179   0.004648  0.068179  0.008703  \n90   0.333449  0.068179   0.004648  0.068179  0.008703  \n88   0.333333  0.068179   0.004648  0.068179  0.008703  \n95   0.333333  0.065461   0.004285  0.065461  0.008044  \n93   0.326484  0.065461   0.004285  0.065461  0.008044  \n91   0.333456  0.065461   0.004285  0.065461  0.008044  \n89   0.333333  0.065461   0.004285  0.065461  0.008044  ",
      "text/html": "<div>\n<style scoped>\n    .dataframe tbody tr th:only-of-type {\n        vertical-align: middle;\n    }\n\n    .dataframe tbody tr th {\n        vertical-align: top;\n    }\n\n    .dataframe thead th {\n        text-align: right;\n    }\n</style>\n<table border=\"1\" class=\"dataframe\">\n  <thead>\n    <tr style=\"text-align: right;\">\n      <th></th>\n      <th>model</th>\n      <th>variant</th>\n      <th>train_acc</th>\n      <th>train_prec</th>\n      <th>train_rec</th>\n      <th>train_f1</th>\n      <th>test_acc</th>\n      <th>test_prec</th>\n      <th>test_rec</th>\n      <th>test_f1</th>\n    </tr>\n  </thead>\n  <tbody>\n    <tr>\n      <th>86</th>\n      <td>LinearSVC</td>\n      <td>base</td>\n      <td>0.627352</td>\n      <td>0.907659</td>\n      <td>0.627352</td>\n      <td>0.719082</td>\n      <td>0.629191</td>\n      <td>0.908366</td>\n      <td>0.629191</td>\n      <td>0.720492</td>\n    </tr>\n    <tr>\n      <th>64</th>\n      <td>LinearSVC</td>\n      <td>SMOTE base</td>\n      <td>0.657486</td>\n      <td>0.657511</td>\n      <td>0.657486</td>\n      <td>0.657473</td>\n      <td>0.655492</td>\n      <td>0.908212</td>\n      <td>0.655492</td>\n      <td>0.740861</td>\n    </tr>\n    <tr>\n      <th>112</th>\n      <td>LinearSVC</td>\n      <td>SMOTE base</td>\n      <td>0.657512</td>\n      <td>0.657537</td>\n      <td>0.657512</td>\n      <td>0.657499</td>\n      <td>0.655492</td>\n      <td>0.908212</td>\n      <td>0.655492</td>\n      <td>0.740861</td>\n    </tr>\n    <tr>\n      <th>100</th>\n      <td>LinearSVC</td>\n      <td>SMOTE base</td>\n      <td>0.657486</td>\n      <td>0.657511</td>\n      <td>0.657486</td>\n      <td>0.657473</td>\n      <td>0.655492</td>\n      <td>0.908212</td>\n      <td>0.655492</td>\n      <td>0.740861</td>\n    </tr>\n    <tr>\n      <th>116</th>\n      <td>LinearSVC</td>\n      <td>ADASYN base</td>\n      <td>0.658053</td>\n      <td>0.658324</td>\n      <td>0.658053</td>\n      <td>0.657868</td>\n      <td>0.640027</td>\n      <td>0.908105</td>\n      <td>0.640027</td>\n      <td>0.728972</td>\n    </tr>\n    <tr>\n      <th>68</th>\n      <td>LinearSVC</td>\n      <td>ADASYN base</td>\n      <td>0.658079</td>\n      <td>0.658352</td>\n      <td>0.658079</td>\n      <td>0.657892</td>\n      <td>0.640027</td>\n      <td>0.908105</td>\n      <td>0.640027</td>\n      <td>0.728972</td>\n    </tr>\n    <tr>\n      <th>104</th>\n      <td>LinearSVC</td>\n      <td>ADASYN base</td>\n      <td>0.657380</td>\n      <td>0.657478</td>\n      <td>0.657380</td>\n      <td>0.657301</td>\n      <td>0.645558</td>\n      <td>0.906955</td>\n      <td>0.645558</td>\n      <td>0.733276</td>\n    </tr>\n    <tr>\n      <th>98</th>\n      <td>LinearSVC</td>\n      <td>base</td>\n      <td>0.655314</td>\n      <td>0.905175</td>\n      <td>0.655314</td>\n      <td>0.740765</td>\n      <td>0.655379</td>\n      <td>0.905144</td>\n      <td>0.655379</td>\n      <td>0.740805</td>\n    </tr>\n    <tr>\n      <th>101</th>\n      <td>LinearSVC</td>\n      <td>SMOTE clean</td>\n      <td>0.672057</td>\n      <td>0.672159</td>\n      <td>0.672057</td>\n      <td>0.672009</td>\n      <td>0.646775</td>\n      <td>0.904783</td>\n      <td>0.646775</td>\n      <td>0.735926</td>\n    </tr>\n    <tr>\n      <th>113</th>\n      <td>LinearSVC</td>\n      <td>SMOTE clean</td>\n      <td>0.672030</td>\n      <td>0.672132</td>\n      <td>0.672030</td>\n      <td>0.671981</td>\n      <td>0.646775</td>\n      <td>0.904783</td>\n      <td>0.646775</td>\n      <td>0.735926</td>\n    </tr>\n    <tr>\n      <th>65</th>\n      <td>LinearSVC</td>\n      <td>SMOTE clean</td>\n      <td>0.672030</td>\n      <td>0.672132</td>\n      <td>0.672030</td>\n      <td>0.671981</td>\n      <td>0.646775</td>\n      <td>0.904783</td>\n      <td>0.646775</td>\n      <td>0.735926</td>\n    </tr>\n    <tr>\n      <th>99</th>\n      <td>LinearSVC</td>\n      <td>clean</td>\n      <td>0.666494</td>\n      <td>0.909782</td>\n      <td>0.666494</td>\n      <td>0.750728</td>\n      <td>0.658469</td>\n      <td>0.904086</td>\n      <td>0.658469</td>\n      <td>0.744760</td>\n    </tr>\n    <tr>\n      <th>109</th>\n      <td>LinearSVC</td>\n      <td>TomekLink clean</td>\n      <td>0.667116</td>\n      <td>0.909612</td>\n      <td>0.667116</td>\n      <td>0.751092</td>\n      <td>0.658348</td>\n      <td>0.904076</td>\n      <td>0.658348</td>\n      <td>0.744669</td>\n    </tr>\n    <tr>\n      <th>108</th>\n      <td>LinearSVC</td>\n      <td>TomekLink clean</td>\n      <td>0.667116</td>\n      <td>0.909612</td>\n      <td>0.667116</td>\n      <td>0.751092</td>\n      <td>0.658348</td>\n      <td>0.904076</td>\n      <td>0.658348</td>\n      <td>0.744669</td>\n    </tr>\n    <tr>\n      <th>105</th>\n      <td>LinearSVC</td>\n      <td>ADASYN clean</td>\n      <td>0.662487</td>\n      <td>0.662886</td>\n      <td>0.662487</td>\n      <td>0.662444</td>\n      <td>0.634479</td>\n      <td>0.904001</td>\n      <td>0.634479</td>\n      <td>0.726518</td>\n    </tr>\n    <tr>\n      <th>102</th>\n      <td>LinearSVC</td>\n      <td>BorderlineSMOTE base</td>\n      <td>0.670206</td>\n      <td>0.670217</td>\n      <td>0.670206</td>\n      <td>0.670200</td>\n      <td>0.670843</td>\n      <td>0.903361</td>\n      <td>0.670843</td>\n      <td>0.752402</td>\n    </tr>\n    <tr>\n      <th>66</th>\n      <td>LinearSVC</td>\n      <td>BorderlineSMOTE base</td>\n      <td>0.670206</td>\n      <td>0.670217</td>\n      <td>0.670206</td>\n      <td>0.670200</td>\n      <td>0.670843</td>\n      <td>0.903361</td>\n      <td>0.670843</td>\n      <td>0.752402</td>\n    </tr>\n    <tr>\n      <th>114</th>\n      <td>LinearSVC</td>\n      <td>BorderlineSMOTE base</td>\n      <td>0.670206</td>\n      <td>0.670217</td>\n      <td>0.670206</td>\n      <td>0.670200</td>\n      <td>0.670843</td>\n      <td>0.903361</td>\n      <td>0.670843</td>\n      <td>0.752402</td>\n    </tr>\n    <tr>\n      <th>96</th>\n      <td>LinearSVC</td>\n      <td>TomekLink clean</td>\n      <td>0.683382</td>\n      <td>0.909971</td>\n      <td>0.683382</td>\n      <td>0.763140</td>\n      <td>0.673297</td>\n      <td>0.903156</td>\n      <td>0.673297</td>\n      <td>0.755747</td>\n    </tr>\n    <tr>\n      <th>97</th>\n      <td>LinearSVC</td>\n      <td>TomekLink clean</td>\n      <td>0.683382</td>\n      <td>0.909971</td>\n      <td>0.683382</td>\n      <td>0.763140</td>\n      <td>0.673297</td>\n      <td>0.903156</td>\n      <td>0.673297</td>\n      <td>0.755747</td>\n    </tr>\n    <tr>\n      <th>87</th>\n      <td>LinearSVC</td>\n      <td>clean</td>\n      <td>0.686024</td>\n      <td>0.909855</td>\n      <td>0.686024</td>\n      <td>0.765168</td>\n      <td>0.677637</td>\n      <td>0.902812</td>\n      <td>0.677637</td>\n      <td>0.758916</td>\n    </tr>\n    <tr>\n      <th>69</th>\n      <td>LinearSVC</td>\n      <td>ADASYN clean</td>\n      <td>0.660752</td>\n      <td>0.660841</td>\n      <td>0.660752</td>\n      <td>0.660534</td>\n      <td>0.666667</td>\n      <td>0.901573</td>\n      <td>0.666667</td>\n      <td>0.750843</td>\n    </tr>\n    <tr>\n      <th>117</th>\n      <td>LinearSVC</td>\n      <td>ADASYN clean</td>\n      <td>0.660724</td>\n      <td>0.660814</td>\n      <td>0.660724</td>\n      <td>0.660504</td>\n      <td>0.666667</td>\n      <td>0.901573</td>\n      <td>0.666667</td>\n      <td>0.750843</td>\n    </tr>\n    <tr>\n      <th>103</th>\n      <td>LinearSVC</td>\n      <td>BorderlineSMOTE clean</td>\n      <td>0.702162</td>\n      <td>0.702171</td>\n      <td>0.702162</td>\n      <td>0.702158</td>\n      <td>0.676432</td>\n      <td>0.901332</td>\n      <td>0.676432</td>\n      <td>0.758002</td>\n    </tr>\n    <tr>\n      <th>115</th>\n      <td>LinearSVC</td>\n      <td>BorderlineSMOTE clean</td>\n      <td>0.702162</td>\n      <td>0.702171</td>\n      <td>0.702162</td>\n      <td>0.702158</td>\n      <td>0.676432</td>\n      <td>0.901332</td>\n      <td>0.676432</td>\n      <td>0.758002</td>\n    </tr>\n    <tr>\n      <th>67</th>\n      <td>LinearSVC</td>\n      <td>BorderlineSMOTE clean</td>\n      <td>0.702162</td>\n      <td>0.702171</td>\n      <td>0.702162</td>\n      <td>0.702158</td>\n      <td>0.676432</td>\n      <td>0.901332</td>\n      <td>0.676432</td>\n      <td>0.758002</td>\n    </tr>\n    <tr>\n      <th>107</th>\n      <td>LinearSVC</td>\n      <td>NearMiss clean</td>\n      <td>0.604101</td>\n      <td>0.604319</td>\n      <td>0.604101</td>\n      <td>0.603894</td>\n      <td>0.465341</td>\n      <td>0.882856</td>\n      <td>0.465341</td>\n      <td>0.583016</td>\n    </tr>\n    <tr>\n      <th>119</th>\n      <td>LinearSVC</td>\n      <td>NearMiss clean</td>\n      <td>0.604101</td>\n      <td>0.604319</td>\n      <td>0.604101</td>\n      <td>0.603894</td>\n      <td>0.464738</td>\n      <td>0.882776</td>\n      <td>0.464738</td>\n      <td>0.582446</td>\n    </tr>\n    <tr>\n      <th>71</th>\n      <td>LinearSVC</td>\n      <td>NearMiss clean</td>\n      <td>0.604495</td>\n      <td>0.604722</td>\n      <td>0.604495</td>\n      <td>0.604281</td>\n      <td>0.464617</td>\n      <td>0.882760</td>\n      <td>0.464617</td>\n      <td>0.582332</td>\n    </tr>\n    <tr>\n      <th>70</th>\n      <td>LinearSVC</td>\n      <td>NearMiss base</td>\n      <td>0.584812</td>\n      <td>0.586065</td>\n      <td>0.584812</td>\n      <td>0.583295</td>\n      <td>0.440795</td>\n      <td>0.882601</td>\n      <td>0.440795</td>\n      <td>0.556070</td>\n    </tr>\n    <tr>\n      <th>118</th>\n      <td>LinearSVC</td>\n      <td>NearMiss base</td>\n      <td>0.584812</td>\n      <td>0.586065</td>\n      <td>0.584812</td>\n      <td>0.583295</td>\n      <td>0.440343</td>\n      <td>0.882538</td>\n      <td>0.440343</td>\n      <td>0.555624</td>\n    </tr>\n    <tr>\n      <th>106</th>\n      <td>LinearSVC</td>\n      <td>NearMiss base</td>\n      <td>0.584812</td>\n      <td>0.586065</td>\n      <td>0.584812</td>\n      <td>0.583295</td>\n      <td>0.439892</td>\n      <td>0.882476</td>\n      <td>0.439892</td>\n      <td>0.555178</td>\n    </tr>\n    <tr>\n      <th>111</th>\n      <td>LinearSVC</td>\n      <td>clean</td>\n      <td>0.934487</td>\n      <td>0.873266</td>\n      <td>0.934487</td>\n      <td>0.902840</td>\n      <td>0.934539</td>\n      <td>0.873363</td>\n      <td>0.934539</td>\n      <td>0.902916</td>\n    </tr>\n    <tr>\n      <th>120</th>\n      <td>LinearSVC</td>\n      <td>TomekLink clean</td>\n      <td>0.934314</td>\n      <td>0.872943</td>\n      <td>0.934314</td>\n      <td>0.902586</td>\n      <td>0.934539</td>\n      <td>0.873363</td>\n      <td>0.934539</td>\n      <td>0.902916</td>\n    </tr>\n    <tr>\n      <th>121</th>\n      <td>LinearSVC</td>\n      <td>TomekLink clean</td>\n      <td>0.934314</td>\n      <td>0.872943</td>\n      <td>0.934314</td>\n      <td>0.902586</td>\n      <td>0.934539</td>\n      <td>0.873363</td>\n      <td>0.934539</td>\n      <td>0.902916</td>\n    </tr>\n    <tr>\n      <th>63</th>\n      <td>LinearSVC</td>\n      <td>clean</td>\n      <td>0.934487</td>\n      <td>0.873266</td>\n      <td>0.934487</td>\n      <td>0.902840</td>\n      <td>0.934539</td>\n      <td>0.873363</td>\n      <td>0.934539</td>\n      <td>0.902916</td>\n    </tr>\n    <tr>\n      <th>73</th>\n      <td>LinearSVC</td>\n      <td>TomekLink clean</td>\n      <td>0.934314</td>\n      <td>0.872943</td>\n      <td>0.934314</td>\n      <td>0.902586</td>\n      <td>0.934539</td>\n      <td>0.873363</td>\n      <td>0.934539</td>\n      <td>0.902916</td>\n    </tr>\n    <tr>\n      <th>72</th>\n      <td>LinearSVC</td>\n      <td>TomekLink clean</td>\n      <td>0.934314</td>\n      <td>0.872943</td>\n      <td>0.934314</td>\n      <td>0.902586</td>\n      <td>0.934539</td>\n      <td>0.873363</td>\n      <td>0.934539</td>\n      <td>0.902916</td>\n    </tr>\n    <tr>\n      <th>110</th>\n      <td>LinearSVC</td>\n      <td>base</td>\n      <td>0.931837</td>\n      <td>0.868320</td>\n      <td>0.931837</td>\n      <td>0.898958</td>\n      <td>0.931821</td>\n      <td>0.868290</td>\n      <td>0.931821</td>\n      <td>0.898934</td>\n    </tr>\n    <tr>\n      <th>62</th>\n      <td>LinearSVC</td>\n      <td>base</td>\n      <td>0.931837</td>\n      <td>0.868320</td>\n      <td>0.931837</td>\n      <td>0.898958</td>\n      <td>0.931821</td>\n      <td>0.868290</td>\n      <td>0.931821</td>\n      <td>0.898934</td>\n    </tr>\n    <tr>\n      <th>94</th>\n      <td>LinearSVC</td>\n      <td>NearMiss base</td>\n      <td>0.500000</td>\n      <td>0.250000</td>\n      <td>0.500000</td>\n      <td>0.333333</td>\n      <td>0.068179</td>\n      <td>0.004648</td>\n      <td>0.068179</td>\n      <td>0.008703</td>\n    </tr>\n    <tr>\n      <th>92</th>\n      <td>LinearSVC</td>\n      <td>ADASYN base</td>\n      <td>0.501243</td>\n      <td>0.251244</td>\n      <td>0.501243</td>\n      <td>0.334715</td>\n      <td>0.068179</td>\n      <td>0.004648</td>\n      <td>0.068179</td>\n      <td>0.008703</td>\n    </tr>\n    <tr>\n      <th>90</th>\n      <td>LinearSVC</td>\n      <td>BorderlineSMOTE base</td>\n      <td>0.500052</td>\n      <td>0.750013</td>\n      <td>0.500052</td>\n      <td>0.333449</td>\n      <td>0.068179</td>\n      <td>0.004648</td>\n      <td>0.068179</td>\n      <td>0.008703</td>\n    </tr>\n    <tr>\n      <th>88</th>\n      <td>LinearSVC</td>\n      <td>SMOTE base</td>\n      <td>0.500000</td>\n      <td>0.250000</td>\n      <td>0.500000</td>\n      <td>0.333333</td>\n      <td>0.068179</td>\n      <td>0.004648</td>\n      <td>0.068179</td>\n      <td>0.008703</td>\n    </tr>\n    <tr>\n      <th>95</th>\n      <td>LinearSVC</td>\n      <td>NearMiss clean</td>\n      <td>0.500000</td>\n      <td>0.250000</td>\n      <td>0.500000</td>\n      <td>0.333333</td>\n      <td>0.065461</td>\n      <td>0.004285</td>\n      <td>0.065461</td>\n      <td>0.008044</td>\n    </tr>\n    <tr>\n      <th>93</th>\n      <td>LinearSVC</td>\n      <td>ADASYN clean</td>\n      <td>0.493815</td>\n      <td>0.243853</td>\n      <td>0.493815</td>\n      <td>0.326484</td>\n      <td>0.065461</td>\n      <td>0.004285</td>\n      <td>0.065461</td>\n      <td>0.008044</td>\n    </tr>\n    <tr>\n      <th>91</th>\n      <td>LinearSVC</td>\n      <td>BorderlineSMOTE clean</td>\n      <td>0.500055</td>\n      <td>0.750014</td>\n      <td>0.500055</td>\n      <td>0.333456</td>\n      <td>0.065461</td>\n      <td>0.004285</td>\n      <td>0.065461</td>\n      <td>0.008044</td>\n    </tr>\n    <tr>\n      <th>89</th>\n      <td>LinearSVC</td>\n      <td>SMOTE clean</td>\n      <td>0.500000</td>\n      <td>0.250000</td>\n      <td>0.500000</td>\n      <td>0.333333</td>\n      <td>0.065461</td>\n      <td>0.004285</td>\n      <td>0.065461</td>\n      <td>0.008044</td>\n    </tr>\n  </tbody>\n</table>\n</div>"
     },
     "execution_count": 101,
     "metadata": {},
     "output_type": "execute_result"
    }
   ],
   "source": [
    "evaluation[evaluation.model == \"LinearSVC\"].sort_values(by=[\"test_prec\"], ascending=False)"
   ],
   "metadata": {
    "collapsed": false,
    "ExecuteTime": {
     "end_time": "2024-11-11T20:11:36.833203Z",
     "start_time": "2024-11-11T20:11:36.767946600Z"
    }
   }
  },
  {
   "cell_type": "code",
   "execution_count": 102,
   "outputs": [],
   "source": [
    "svc = LinearSVC(class_weight=\"balanced\") # ohne balanced wird die SVC in einigen Fällen nur auf 0 trainiert, d.h. precision = 0"
   ],
   "metadata": {
    "collapsed": false,
    "ExecuteTime": {
     "end_time": "2024-11-11T20:16:03.998527Z",
     "start_time": "2024-11-11T20:16:03.950525400Z"
    }
   }
  },
  {
   "cell_type": "code",
   "execution_count": 103,
   "outputs": [
    {
     "name": "stdout",
     "output_type": "stream",
     "text": [
      "Starting model fitting.\n",
      "1/12 Fitting:  LinearSVC-balanced BASE started...\n",
      "Fitting:  LinearSVC-balanced finished. Elapsed time:  2 Seconds\n",
      "2/12 Fitting:  LinearSVC-balanced CLEAN started...\n",
      "Fitting:  LinearSVC-balanced finished. Elapsed time:  2 Seconds\n",
      "3/12 Fitting:  LinearSVC-balanced SMOTE-base started...\n",
      "Fitting:  LinearSVC-balanced finished. Elapsed time:  1 Seconds\n",
      "4/12 Fitting:  LinearSVC-balanced SMOTE-clean started...\n",
      "Fitting:  LinearSVC-balanced finished. Elapsed time:  1 Seconds\n",
      "5/12 Fitting:  LinearSVC-balanced BorderlineSMOTE-base started...\n",
      "Fitting:  LinearSVC-balanced finished. Elapsed time:  1 Seconds\n",
      "6/12 Fitting:  LinearSVC-balanced BorderlineSMOTE-clean started...\n",
      "Fitting:  LinearSVC-balanced finished. Elapsed time:  1 Seconds\n",
      "7/12 Fitting:  LinearSVC-balanced ADASYN-base started...\n",
      "Fitting:  LinearSVC-balanced finished. Elapsed time:  1 Seconds\n",
      "8/12 Fitting:  LinearSVC-balanced ADASYN-clean started...\n",
      "Fitting:  LinearSVC-balanced finished. Elapsed time:  1 Seconds\n",
      "9/12 Fitting:  LinearSVC-balanced NearMiss-base started...\n",
      "Fitting:  LinearSVC-balanced finished. Elapsed time:  0 Seconds\n",
      "10/12 Fitting:  LinearSVC-balanced NearMiss-clean started...\n",
      "Fitting:  LinearSVC-balanced finished. Elapsed time:  0 Seconds\n",
      "11/12 Fitting:  LinearSVC-balanced TomekLink-base started...\n",
      "Fitting:  LinearSVC-balanced finished. Elapsed time:  2 Seconds\n",
      "12/12 Fitting:  LinearSVC-balanced TomekLink-clean started...\n",
      "Fitting:  LinearSVC-balanced finished. Elapsed time:  2 Seconds\n",
      "Model fitting finished.\n"
     ]
    }
   ],
   "source": [
    "fit_model(svc, \"LinearSVC-balanced\")"
   ],
   "metadata": {
    "collapsed": false,
    "ExecuteTime": {
     "end_time": "2024-11-11T20:16:17.747902Z",
     "start_time": "2024-11-11T20:16:04.170443500Z"
    }
   }
  },
  {
   "cell_type": "code",
   "execution_count": 104,
   "outputs": [
    {
     "data": {
      "text/plain": "                  model                variant  train_acc  train_prec  \\\n124  LinearSVC-balanced             SMOTE base   0.657486    0.657511   \n128  LinearSVC-balanced            ADASYN base   0.657380    0.657476   \n122  LinearSVC-balanced                   base   0.655314    0.905175   \n125  LinearSVC-balanced            SMOTE clean   0.672030    0.672132   \n123  LinearSVC-balanced                  clean   0.666494    0.909782   \n132  LinearSVC-balanced        TomekLink clean   0.667116    0.909612   \n133  LinearSVC-balanced        TomekLink clean   0.667116    0.909612   \n129  LinearSVC-balanced           ADASYN clean   0.662515    0.662915   \n126  LinearSVC-balanced   BorderlineSMOTE base   0.670180    0.670192   \n127  LinearSVC-balanced  BorderlineSMOTE clean   0.702162    0.702171   \n131  LinearSVC-balanced         NearMiss clean   0.604495    0.604722   \n130  LinearSVC-balanced          NearMiss base   0.584812    0.586065   \n\n     train_rec  train_f1  test_acc  test_prec  test_rec   test_f1  \n124   0.657486  0.657473  0.655492   0.908212  0.655492  0.740861  \n128   0.657380  0.657302  0.645558   0.906955  0.645558  0.733276  \n122   0.655314  0.740765  0.655379   0.905144  0.655379  0.740805  \n125   0.672030  0.671981  0.646775   0.904783  0.646775  0.735926  \n123   0.666494  0.750728  0.658469   0.904086  0.658469  0.744760  \n132   0.667116  0.751092  0.658348   0.904076  0.658348  0.744669  \n133   0.667116  0.751092  0.658348   0.904076  0.658348  0.744669  \n129   0.662515  0.662471  0.634237   0.903982  0.634237  0.726333  \n126   0.670180  0.670174  0.671069   0.903379  0.671069  0.752570  \n127   0.702162  0.702158  0.676432   0.901332  0.676432  0.758002  \n131   0.604495  0.604281  0.464376   0.882728  0.464376  0.582104  \n130   0.584812  0.583295  0.440005   0.882492  0.440005  0.555289  ",
      "text/html": "<div>\n<style scoped>\n    .dataframe tbody tr th:only-of-type {\n        vertical-align: middle;\n    }\n\n    .dataframe tbody tr th {\n        vertical-align: top;\n    }\n\n    .dataframe thead th {\n        text-align: right;\n    }\n</style>\n<table border=\"1\" class=\"dataframe\">\n  <thead>\n    <tr style=\"text-align: right;\">\n      <th></th>\n      <th>model</th>\n      <th>variant</th>\n      <th>train_acc</th>\n      <th>train_prec</th>\n      <th>train_rec</th>\n      <th>train_f1</th>\n      <th>test_acc</th>\n      <th>test_prec</th>\n      <th>test_rec</th>\n      <th>test_f1</th>\n    </tr>\n  </thead>\n  <tbody>\n    <tr>\n      <th>124</th>\n      <td>LinearSVC-balanced</td>\n      <td>SMOTE base</td>\n      <td>0.657486</td>\n      <td>0.657511</td>\n      <td>0.657486</td>\n      <td>0.657473</td>\n      <td>0.655492</td>\n      <td>0.908212</td>\n      <td>0.655492</td>\n      <td>0.740861</td>\n    </tr>\n    <tr>\n      <th>128</th>\n      <td>LinearSVC-balanced</td>\n      <td>ADASYN base</td>\n      <td>0.657380</td>\n      <td>0.657476</td>\n      <td>0.657380</td>\n      <td>0.657302</td>\n      <td>0.645558</td>\n      <td>0.906955</td>\n      <td>0.645558</td>\n      <td>0.733276</td>\n    </tr>\n    <tr>\n      <th>122</th>\n      <td>LinearSVC-balanced</td>\n      <td>base</td>\n      <td>0.655314</td>\n      <td>0.905175</td>\n      <td>0.655314</td>\n      <td>0.740765</td>\n      <td>0.655379</td>\n      <td>0.905144</td>\n      <td>0.655379</td>\n      <td>0.740805</td>\n    </tr>\n    <tr>\n      <th>125</th>\n      <td>LinearSVC-balanced</td>\n      <td>SMOTE clean</td>\n      <td>0.672030</td>\n      <td>0.672132</td>\n      <td>0.672030</td>\n      <td>0.671981</td>\n      <td>0.646775</td>\n      <td>0.904783</td>\n      <td>0.646775</td>\n      <td>0.735926</td>\n    </tr>\n    <tr>\n      <th>123</th>\n      <td>LinearSVC-balanced</td>\n      <td>clean</td>\n      <td>0.666494</td>\n      <td>0.909782</td>\n      <td>0.666494</td>\n      <td>0.750728</td>\n      <td>0.658469</td>\n      <td>0.904086</td>\n      <td>0.658469</td>\n      <td>0.744760</td>\n    </tr>\n    <tr>\n      <th>132</th>\n      <td>LinearSVC-balanced</td>\n      <td>TomekLink clean</td>\n      <td>0.667116</td>\n      <td>0.909612</td>\n      <td>0.667116</td>\n      <td>0.751092</td>\n      <td>0.658348</td>\n      <td>0.904076</td>\n      <td>0.658348</td>\n      <td>0.744669</td>\n    </tr>\n    <tr>\n      <th>133</th>\n      <td>LinearSVC-balanced</td>\n      <td>TomekLink clean</td>\n      <td>0.667116</td>\n      <td>0.909612</td>\n      <td>0.667116</td>\n      <td>0.751092</td>\n      <td>0.658348</td>\n      <td>0.904076</td>\n      <td>0.658348</td>\n      <td>0.744669</td>\n    </tr>\n    <tr>\n      <th>129</th>\n      <td>LinearSVC-balanced</td>\n      <td>ADASYN clean</td>\n      <td>0.662515</td>\n      <td>0.662915</td>\n      <td>0.662515</td>\n      <td>0.662471</td>\n      <td>0.634237</td>\n      <td>0.903982</td>\n      <td>0.634237</td>\n      <td>0.726333</td>\n    </tr>\n    <tr>\n      <th>126</th>\n      <td>LinearSVC-balanced</td>\n      <td>BorderlineSMOTE base</td>\n      <td>0.670180</td>\n      <td>0.670192</td>\n      <td>0.670180</td>\n      <td>0.670174</td>\n      <td>0.671069</td>\n      <td>0.903379</td>\n      <td>0.671069</td>\n      <td>0.752570</td>\n    </tr>\n    <tr>\n      <th>127</th>\n      <td>LinearSVC-balanced</td>\n      <td>BorderlineSMOTE clean</td>\n      <td>0.702162</td>\n      <td>0.702171</td>\n      <td>0.702162</td>\n      <td>0.702158</td>\n      <td>0.676432</td>\n      <td>0.901332</td>\n      <td>0.676432</td>\n      <td>0.758002</td>\n    </tr>\n    <tr>\n      <th>131</th>\n      <td>LinearSVC-balanced</td>\n      <td>NearMiss clean</td>\n      <td>0.604495</td>\n      <td>0.604722</td>\n      <td>0.604495</td>\n      <td>0.604281</td>\n      <td>0.464376</td>\n      <td>0.882728</td>\n      <td>0.464376</td>\n      <td>0.582104</td>\n    </tr>\n    <tr>\n      <th>130</th>\n      <td>LinearSVC-balanced</td>\n      <td>NearMiss base</td>\n      <td>0.584812</td>\n      <td>0.586065</td>\n      <td>0.584812</td>\n      <td>0.583295</td>\n      <td>0.440005</td>\n      <td>0.882492</td>\n      <td>0.440005</td>\n      <td>0.555289</td>\n    </tr>\n  </tbody>\n</table>\n</div>"
     },
     "execution_count": 104,
     "metadata": {},
     "output_type": "execute_result"
    }
   ],
   "source": [
    "evaluation[evaluation.model == \"LinearSVC-balanced\"].sort_values(by=[\"test_prec\"], ascending=False)"
   ],
   "metadata": {
    "collapsed": false,
    "ExecuteTime": {
     "end_time": "2024-11-11T20:16:17.747902Z",
     "start_time": "2024-11-11T20:16:17.747902Z"
    }
   }
  },
  {
   "cell_type": "markdown",
   "source": [
    "##### 3.2 Bayes-Classifier"
   ],
   "metadata": {
    "collapsed": false
   }
  },
  {
   "cell_type": "code",
   "execution_count": 82,
   "outputs": [],
   "source": [
    "from sklearn.naive_bayes import GaussianNB"
   ],
   "metadata": {
    "collapsed": false,
    "ExecuteTime": {
     "end_time": "2024-11-11T19:48:35.395084600Z",
     "start_time": "2024-11-11T19:48:35.310313100Z"
    }
   }
  },
  {
   "cell_type": "code",
   "execution_count": 83,
   "outputs": [],
   "source": [
    "bayes = GaussianNB()"
   ],
   "metadata": {
    "collapsed": false,
    "ExecuteTime": {
     "end_time": "2024-11-11T19:48:35.435081200Z",
     "start_time": "2024-11-11T19:48:35.320141900Z"
    }
   }
  },
  {
   "cell_type": "code",
   "execution_count": 84,
   "outputs": [
    {
     "name": "stdout",
     "output_type": "stream",
     "text": [
      "Starting model fitting.\n",
      "1/12 Fitting:  GaussianNB BASE started...\n"
     ]
    },
    {
     "name": "stderr",
     "output_type": "stream",
     "text": [
      "C:\\Users\\admin\\anaconda3\\lib\\site-packages\\sklearn\\metrics\\_classification.py:1344: UndefinedMetricWarning: Precision is ill-defined and being set to 0.0 in labels with no predicted samples. Use `zero_division` parameter to control this behavior.\n",
      "  _warn_prf(average, modifier, msg_start, len(result))\n",
      "C:\\Users\\admin\\anaconda3\\lib\\site-packages\\sklearn\\metrics\\_classification.py:1344: UndefinedMetricWarning: Precision is ill-defined and being set to 0.0 in labels with no predicted samples. Use `zero_division` parameter to control this behavior.\n",
      "  _warn_prf(average, modifier, msg_start, len(result))\n"
     ]
    },
    {
     "name": "stdout",
     "output_type": "stream",
     "text": [
      "Fitting:  GaussianNB finished. Elapsed time:  1 Seconds\n",
      "2/12 Fitting:  GaussianNB CLEAN started...\n"
     ]
    },
    {
     "name": "stderr",
     "output_type": "stream",
     "text": [
      "C:\\Users\\admin\\anaconda3\\lib\\site-packages\\sklearn\\metrics\\_classification.py:1344: UndefinedMetricWarning: Precision is ill-defined and being set to 0.0 in labels with no predicted samples. Use `zero_division` parameter to control this behavior.\n",
      "  _warn_prf(average, modifier, msg_start, len(result))\n",
      "C:\\Users\\admin\\anaconda3\\lib\\site-packages\\sklearn\\metrics\\_classification.py:1344: UndefinedMetricWarning: Precision is ill-defined and being set to 0.0 in labels with no predicted samples. Use `zero_division` parameter to control this behavior.\n",
      "  _warn_prf(average, modifier, msg_start, len(result))\n"
     ]
    },
    {
     "name": "stdout",
     "output_type": "stream",
     "text": [
      "Fitting:  GaussianNB finished. Elapsed time:  0 Seconds\n",
      "3/12 Fitting:  GaussianNB SMOTE-base started...\n",
      "Fitting:  GaussianNB finished. Elapsed time:  1 Seconds\n",
      "4/12 Fitting:  GaussianNB SMOTE-clean started...\n",
      "Fitting:  GaussianNB finished. Elapsed time:  1 Seconds\n",
      "5/12 Fitting:  GaussianNB BorderlineSMOTE-base started...\n",
      "Fitting:  GaussianNB finished. Elapsed time:  1 Seconds\n",
      "6/12 Fitting:  GaussianNB BorderlineSMOTE-clean started...\n",
      "Fitting:  GaussianNB finished. Elapsed time:  1 Seconds\n",
      "7/12 Fitting:  GaussianNB ADASYN-base started...\n",
      "Fitting:  GaussianNB finished. Elapsed time:  1 Seconds\n",
      "8/12 Fitting:  GaussianNB ADASYN-clean started...\n",
      "Fitting:  GaussianNB finished. Elapsed time:  1 Seconds\n",
      "9/12 Fitting:  GaussianNB NearMiss-base started...\n",
      "Fitting:  GaussianNB finished. Elapsed time:  0 Seconds\n",
      "10/12 Fitting:  GaussianNB NearMiss-clean started...\n",
      "Fitting:  GaussianNB finished. Elapsed time:  0 Seconds\n",
      "11/12 Fitting:  GaussianNB TomekLink-base started...\n"
     ]
    },
    {
     "name": "stderr",
     "output_type": "stream",
     "text": [
      "C:\\Users\\admin\\anaconda3\\lib\\site-packages\\sklearn\\metrics\\_classification.py:1344: UndefinedMetricWarning: Precision is ill-defined and being set to 0.0 in labels with no predicted samples. Use `zero_division` parameter to control this behavior.\n",
      "  _warn_prf(average, modifier, msg_start, len(result))\n",
      "C:\\Users\\admin\\anaconda3\\lib\\site-packages\\sklearn\\metrics\\_classification.py:1344: UndefinedMetricWarning: Precision is ill-defined and being set to 0.0 in labels with no predicted samples. Use `zero_division` parameter to control this behavior.\n",
      "  _warn_prf(average, modifier, msg_start, len(result))\n"
     ]
    },
    {
     "name": "stdout",
     "output_type": "stream",
     "text": [
      "Fitting:  GaussianNB finished. Elapsed time:  0 Seconds\n",
      "12/12 Fitting:  GaussianNB TomekLink-clean started...\n",
      "Fitting:  GaussianNB finished. Elapsed time:  0 Seconds\n",
      "Model fitting finished.\n"
     ]
    },
    {
     "name": "stderr",
     "output_type": "stream",
     "text": [
      "C:\\Users\\admin\\anaconda3\\lib\\site-packages\\sklearn\\metrics\\_classification.py:1344: UndefinedMetricWarning: Precision is ill-defined and being set to 0.0 in labels with no predicted samples. Use `zero_division` parameter to control this behavior.\n",
      "  _warn_prf(average, modifier, msg_start, len(result))\n",
      "C:\\Users\\admin\\anaconda3\\lib\\site-packages\\sklearn\\metrics\\_classification.py:1344: UndefinedMetricWarning: Precision is ill-defined and being set to 0.0 in labels with no predicted samples. Use `zero_division` parameter to control this behavior.\n",
      "  _warn_prf(average, modifier, msg_start, len(result))\n"
     ]
    }
   ],
   "source": [
    "fit_model(svc, \"GaussianNB\")"
   ],
   "metadata": {
    "collapsed": false,
    "ExecuteTime": {
     "end_time": "2024-11-11T19:48:43.699747300Z",
     "start_time": "2024-11-11T19:48:35.343564700Z"
    }
   }
  },
  {
   "cell_type": "code",
   "execution_count": 85,
   "outputs": [
    {
     "data": {
      "text/plain": "         model                variant  train_acc  train_prec  train_rec  \\\n76  GaussianNB             SMOTE base   0.657486    0.657511   0.657486   \n80  GaussianNB            ADASYN base   0.658105    0.658377   0.658105   \n77  GaussianNB            SMOTE clean   0.672057    0.672159   0.672057   \n78  GaussianNB   BorderlineSMOTE base   0.670206    0.670217   0.670206   \n81  GaussianNB           ADASYN clean   0.660724    0.660814   0.660724   \n79  GaussianNB  BorderlineSMOTE clean   0.702162    0.702171   0.702162   \n83  GaussianNB         NearMiss clean   0.604101    0.604319   0.604101   \n82  GaussianNB          NearMiss base   0.584812    0.586065   0.584812   \n75  GaussianNB                  clean   0.934487    0.873266   0.934487   \n84  GaussianNB        TomekLink clean   0.934314    0.872943   0.934314   \n85  GaussianNB        TomekLink clean   0.934314    0.872943   0.934314   \n74  GaussianNB                   base   0.931837    0.868320   0.931837   \n\n    train_f1  test_acc  test_prec  test_rec   test_f1  \n76  0.657473  0.655492   0.908212  0.655492  0.740861  \n80  0.657919  0.640027   0.908105  0.640027  0.728972  \n77  0.672009  0.646775   0.904783  0.646775  0.735926  \n78  0.670200  0.670843   0.903361  0.670843  0.752402  \n81  0.660504  0.666667   0.901573  0.666667  0.750843  \n79  0.702158  0.676432   0.901332  0.676432  0.758002  \n83  0.603894  0.465341   0.882856  0.465341  0.583016  \n82  0.583295  0.439892   0.882476  0.439892  0.555178  \n75  0.902840  0.934539   0.873363  0.934539  0.902916  \n84  0.902586  0.934539   0.873363  0.934539  0.902916  \n85  0.902586  0.934539   0.873363  0.934539  0.902916  \n74  0.898958  0.931821   0.868290  0.931821  0.898934  ",
      "text/html": "<div>\n<style scoped>\n    .dataframe tbody tr th:only-of-type {\n        vertical-align: middle;\n    }\n\n    .dataframe tbody tr th {\n        vertical-align: top;\n    }\n\n    .dataframe thead th {\n        text-align: right;\n    }\n</style>\n<table border=\"1\" class=\"dataframe\">\n  <thead>\n    <tr style=\"text-align: right;\">\n      <th></th>\n      <th>model</th>\n      <th>variant</th>\n      <th>train_acc</th>\n      <th>train_prec</th>\n      <th>train_rec</th>\n      <th>train_f1</th>\n      <th>test_acc</th>\n      <th>test_prec</th>\n      <th>test_rec</th>\n      <th>test_f1</th>\n    </tr>\n  </thead>\n  <tbody>\n    <tr>\n      <th>76</th>\n      <td>GaussianNB</td>\n      <td>SMOTE base</td>\n      <td>0.657486</td>\n      <td>0.657511</td>\n      <td>0.657486</td>\n      <td>0.657473</td>\n      <td>0.655492</td>\n      <td>0.908212</td>\n      <td>0.655492</td>\n      <td>0.740861</td>\n    </tr>\n    <tr>\n      <th>80</th>\n      <td>GaussianNB</td>\n      <td>ADASYN base</td>\n      <td>0.658105</td>\n      <td>0.658377</td>\n      <td>0.658105</td>\n      <td>0.657919</td>\n      <td>0.640027</td>\n      <td>0.908105</td>\n      <td>0.640027</td>\n      <td>0.728972</td>\n    </tr>\n    <tr>\n      <th>77</th>\n      <td>GaussianNB</td>\n      <td>SMOTE clean</td>\n      <td>0.672057</td>\n      <td>0.672159</td>\n      <td>0.672057</td>\n      <td>0.672009</td>\n      <td>0.646775</td>\n      <td>0.904783</td>\n      <td>0.646775</td>\n      <td>0.735926</td>\n    </tr>\n    <tr>\n      <th>78</th>\n      <td>GaussianNB</td>\n      <td>BorderlineSMOTE base</td>\n      <td>0.670206</td>\n      <td>0.670217</td>\n      <td>0.670206</td>\n      <td>0.670200</td>\n      <td>0.670843</td>\n      <td>0.903361</td>\n      <td>0.670843</td>\n      <td>0.752402</td>\n    </tr>\n    <tr>\n      <th>81</th>\n      <td>GaussianNB</td>\n      <td>ADASYN clean</td>\n      <td>0.660724</td>\n      <td>0.660814</td>\n      <td>0.660724</td>\n      <td>0.660504</td>\n      <td>0.666667</td>\n      <td>0.901573</td>\n      <td>0.666667</td>\n      <td>0.750843</td>\n    </tr>\n    <tr>\n      <th>79</th>\n      <td>GaussianNB</td>\n      <td>BorderlineSMOTE clean</td>\n      <td>0.702162</td>\n      <td>0.702171</td>\n      <td>0.702162</td>\n      <td>0.702158</td>\n      <td>0.676432</td>\n      <td>0.901332</td>\n      <td>0.676432</td>\n      <td>0.758002</td>\n    </tr>\n    <tr>\n      <th>83</th>\n      <td>GaussianNB</td>\n      <td>NearMiss clean</td>\n      <td>0.604101</td>\n      <td>0.604319</td>\n      <td>0.604101</td>\n      <td>0.603894</td>\n      <td>0.465341</td>\n      <td>0.882856</td>\n      <td>0.465341</td>\n      <td>0.583016</td>\n    </tr>\n    <tr>\n      <th>82</th>\n      <td>GaussianNB</td>\n      <td>NearMiss base</td>\n      <td>0.584812</td>\n      <td>0.586065</td>\n      <td>0.584812</td>\n      <td>0.583295</td>\n      <td>0.439892</td>\n      <td>0.882476</td>\n      <td>0.439892</td>\n      <td>0.555178</td>\n    </tr>\n    <tr>\n      <th>75</th>\n      <td>GaussianNB</td>\n      <td>clean</td>\n      <td>0.934487</td>\n      <td>0.873266</td>\n      <td>0.934487</td>\n      <td>0.902840</td>\n      <td>0.934539</td>\n      <td>0.873363</td>\n      <td>0.934539</td>\n      <td>0.902916</td>\n    </tr>\n    <tr>\n      <th>84</th>\n      <td>GaussianNB</td>\n      <td>TomekLink clean</td>\n      <td>0.934314</td>\n      <td>0.872943</td>\n      <td>0.934314</td>\n      <td>0.902586</td>\n      <td>0.934539</td>\n      <td>0.873363</td>\n      <td>0.934539</td>\n      <td>0.902916</td>\n    </tr>\n    <tr>\n      <th>85</th>\n      <td>GaussianNB</td>\n      <td>TomekLink clean</td>\n      <td>0.934314</td>\n      <td>0.872943</td>\n      <td>0.934314</td>\n      <td>0.902586</td>\n      <td>0.934539</td>\n      <td>0.873363</td>\n      <td>0.934539</td>\n      <td>0.902916</td>\n    </tr>\n    <tr>\n      <th>74</th>\n      <td>GaussianNB</td>\n      <td>base</td>\n      <td>0.931837</td>\n      <td>0.868320</td>\n      <td>0.931837</td>\n      <td>0.898958</td>\n      <td>0.931821</td>\n      <td>0.868290</td>\n      <td>0.931821</td>\n      <td>0.898934</td>\n    </tr>\n  </tbody>\n</table>\n</div>"
     },
     "execution_count": 85,
     "metadata": {},
     "output_type": "execute_result"
    }
   ],
   "source": [
    "evaluation[evaluation.model == \"GaussianNB\"].sort_values(by=[\"test_prec\"], ascending=False)"
   ],
   "metadata": {
    "collapsed": false,
    "ExecuteTime": {
     "end_time": "2024-11-11T19:48:43.765073400Z",
     "start_time": "2024-11-11T19:48:43.720006300Z"
    }
   }
  },
  {
   "cell_type": "code",
   "execution_count": 85,
   "outputs": [],
   "source": [],
   "metadata": {
    "collapsed": false,
    "ExecuteTime": {
     "end_time": "2024-11-11T19:48:43.765073400Z",
     "start_time": "2024-11-11T19:48:43.734984500Z"
    }
   }
  }
 ],
 "metadata": {
  "kernelspec": {
   "display_name": "Python 3",
   "language": "python",
   "name": "python3"
  },
  "language_info": {
   "codemirror_mode": {
    "name": "ipython",
    "version": 2
   },
   "file_extension": ".py",
   "mimetype": "text/x-python",
   "name": "python",
   "nbconvert_exporter": "python",
   "pygments_lexer": "ipython2",
   "version": "2.7.6"
  }
 },
 "nbformat": 4,
 "nbformat_minor": 0
}
