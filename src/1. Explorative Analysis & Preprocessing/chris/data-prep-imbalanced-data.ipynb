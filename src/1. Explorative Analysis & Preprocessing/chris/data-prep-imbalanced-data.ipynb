{
 "cells": [
  {
   "cell_type": "markdown",
   "source": [
    "#### Imports & Downloads"
   ],
   "metadata": {
    "collapsed": false
   }
  },
  {
   "cell_type": "code",
   "execution_count": 18,
   "outputs": [],
   "source": [
    "import pandas as pd\n",
    "import os\n",
    "from gensim.models import Word2Vec\n",
    "from sklearn.feature_extraction.text import TfidfVectorizer\n",
    "import numpy as np\n",
    "from imblearn.under_sampling import NearMiss, CondensedNearestNeighbour, NeighbourhoodCleaningRule\n",
    "from imblearn.over_sampling import SMOTE, BorderlineSMOTE, SVMSMOTE, ADASYN\n",
    "from imblearn.under_sampling import TomekLinks\n",
    "import time\n",
    "from sklearn.model_selection import GridSearchCV\n",
    "\n",
    "from collections import Counter\n",
    "from sklearn.metrics import precision_score, recall_score, f1_score, confusion_matrix, classification_report\n",
    "from sklearn import metrics\n",
    "from sklearn.model_selection import train_test_split\n",
    "\n",
    "from sklearn.ensemble import RandomForestClassifier, StackingClassifier\n",
    "from imblearn.ensemble import BalancedRandomForestClassifier\n",
    "from xgboost import XGBClassifier\n",
    "from sklearn.svm import LinearSVC\n",
    "\n",
    "from catboost import CatBoostClassifier\n",
    "from lightgbm import LGBMClassifier"
   ],
   "metadata": {
    "collapsed": false,
    "ExecuteTime": {
     "end_time": "2024-11-14T16:25:51.584403800Z",
     "start_time": "2024-11-14T16:25:50.928131Z"
    }
   }
  },
  {
   "cell_type": "markdown",
   "source": [
    "### Einladen der Daten"
   ],
   "metadata": {
    "collapsed": false
   }
  },
  {
   "cell_type": "markdown",
   "source": [
    "#### Originaldaten ohne umfassende Vorverarbeitung"
   ],
   "metadata": {
    "collapsed": false
   }
  },
  {
   "cell_type": "code",
   "execution_count": 19,
   "outputs": [
    {
     "data": {
      "text/plain": "    label                                              tweet\nid                                                          \n1       0   @user when a father is dysfunctional and is s...\n2       0  @user @user thanks for #lyft credit i can't us...\n3       0                                bihday your majesty\n4       0  #model   i love u take with u all the time in ...\n5       0             factsguide: society now    #motivation",
      "text/html": "<div>\n<style scoped>\n    .dataframe tbody tr th:only-of-type {\n        vertical-align: middle;\n    }\n\n    .dataframe tbody tr th {\n        vertical-align: top;\n    }\n\n    .dataframe thead th {\n        text-align: right;\n    }\n</style>\n<table border=\"1\" class=\"dataframe\">\n  <thead>\n    <tr style=\"text-align: right;\">\n      <th></th>\n      <th>label</th>\n      <th>tweet</th>\n    </tr>\n    <tr>\n      <th>id</th>\n      <th></th>\n      <th></th>\n    </tr>\n  </thead>\n  <tbody>\n    <tr>\n      <th>1</th>\n      <td>0</td>\n      <td>@user when a father is dysfunctional and is s...</td>\n    </tr>\n    <tr>\n      <th>2</th>\n      <td>0</td>\n      <td>@user @user thanks for #lyft credit i can't us...</td>\n    </tr>\n    <tr>\n      <th>3</th>\n      <td>0</td>\n      <td>bihday your majesty</td>\n    </tr>\n    <tr>\n      <th>4</th>\n      <td>0</td>\n      <td>#model   i love u take with u all the time in ...</td>\n    </tr>\n    <tr>\n      <th>5</th>\n      <td>0</td>\n      <td>factsguide: society now    #motivation</td>\n    </tr>\n  </tbody>\n</table>\n</div>"
     },
     "execution_count": 19,
     "metadata": {},
     "output_type": "execute_result"
    }
   ],
   "source": [
    "current_dir = os.getcwd()\n",
    "csv_path_train = os.path.abspath(os.path.join(current_dir, '../../../data/twitter_hate-speech/train_basic_cleaned.csv'))\n",
    "df = pd.read_csv(csv_path_train, encoding='utf-8', index_col=0)\n",
    "\n",
    "df.head()"
   ],
   "metadata": {
    "collapsed": false,
    "ExecuteTime": {
     "end_time": "2024-11-14T16:25:52.089390Z",
     "start_time": "2024-11-14T16:25:50.968536800Z"
    }
   }
  },
  {
   "cell_type": "code",
   "execution_count": 20,
   "outputs": [
    {
     "name": "stdout",
     "output_type": "stream",
     "text": [
      "Positive: 2013\n",
      "Negative: 27517\n",
      "Verhältnis: 13.669647292598112\n"
     ]
    }
   ],
   "source": [
    "df['label'].value_counts()\n",
    "positive = len(df[df['label'] == 1])\n",
    "negative = len(df[df['label'] == 0])\n",
    "print(\"Positive:\", positive)\n",
    "print(\"Negative:\", negative)\n",
    "print(\"Verhältnis:\", negative / positive)"
   ],
   "metadata": {
    "collapsed": false,
    "ExecuteTime": {
     "end_time": "2024-11-14T16:25:52.232545100Z",
     "start_time": "2024-11-14T16:25:51.021087500Z"
    }
   }
  },
  {
   "cell_type": "markdown",
   "source": [
    "#### Vorverarbeitete Daten"
   ],
   "metadata": {
    "collapsed": false
   }
  },
  {
   "cell_type": "code",
   "execution_count": 21,
   "outputs": [
    {
     "data": {
      "text/plain": "    label                                              tweet  \\\nid                                                             \n1       0   @user when a father is dysfunctional and is s...   \n2       0  @user @user thanks for #lyft credit i can't us...   \n3       0                                bihday your majesty   \n4       0  #model   i love u take with u all the time in ...   \n5       0             factsguide: society now    #motivation   \n\n                                        tweet_cleaned  user_handle  \\\nid                                                                   \n1                         father selfish drag kid run            1   \n2               thank lyft credit use cause offer van            2   \n3                                      bihday majesty            0   \n4   model take time mobile phone kiss sunglass mou...            0   \n5                       factsguide society motivation            0   \n\n                                    hashtags  \\\nid                                             \n1                                   ['#run']   \n2   ['#lyft', '#disapointed', '#getthanked']   \n3                                         []   \n4                                 ['#model']   \n5                            ['#motivation']   \n\n                                               emojis  \nid                                                     \n1                                                 NaN  \n2                                                 NaN  \n3                                                 NaN  \n4   :mobile_phone:,:kissing_face_with_smiling_eyes...  \n5                                                 NaN  ",
      "text/html": "<div>\n<style scoped>\n    .dataframe tbody tr th:only-of-type {\n        vertical-align: middle;\n    }\n\n    .dataframe tbody tr th {\n        vertical-align: top;\n    }\n\n    .dataframe thead th {\n        text-align: right;\n    }\n</style>\n<table border=\"1\" class=\"dataframe\">\n  <thead>\n    <tr style=\"text-align: right;\">\n      <th></th>\n      <th>label</th>\n      <th>tweet</th>\n      <th>tweet_cleaned</th>\n      <th>user_handle</th>\n      <th>hashtags</th>\n      <th>emojis</th>\n    </tr>\n    <tr>\n      <th>id</th>\n      <th></th>\n      <th></th>\n      <th></th>\n      <th></th>\n      <th></th>\n      <th></th>\n    </tr>\n  </thead>\n  <tbody>\n    <tr>\n      <th>1</th>\n      <td>0</td>\n      <td>@user when a father is dysfunctional and is s...</td>\n      <td>father selfish drag kid run</td>\n      <td>1</td>\n      <td>['#run']</td>\n      <td>NaN</td>\n    </tr>\n    <tr>\n      <th>2</th>\n      <td>0</td>\n      <td>@user @user thanks for #lyft credit i can't us...</td>\n      <td>thank lyft credit use cause offer van</td>\n      <td>2</td>\n      <td>['#lyft', '#disapointed', '#getthanked']</td>\n      <td>NaN</td>\n    </tr>\n    <tr>\n      <th>3</th>\n      <td>0</td>\n      <td>bihday your majesty</td>\n      <td>bihday majesty</td>\n      <td>0</td>\n      <td>[]</td>\n      <td>NaN</td>\n    </tr>\n    <tr>\n      <th>4</th>\n      <td>0</td>\n      <td>#model   i love u take with u all the time in ...</td>\n      <td>model take time mobile phone kiss sunglass mou...</td>\n      <td>0</td>\n      <td>['#model']</td>\n      <td>:mobile_phone:,:kissing_face_with_smiling_eyes...</td>\n    </tr>\n    <tr>\n      <th>5</th>\n      <td>0</td>\n      <td>factsguide: society now    #motivation</td>\n      <td>factsguide society motivation</td>\n      <td>0</td>\n      <td>['#motivation']</td>\n      <td>NaN</td>\n    </tr>\n  </tbody>\n</table>\n</div>"
     },
     "execution_count": 21,
     "metadata": {},
     "output_type": "execute_result"
    }
   ],
   "source": [
    "current_dir = os.getcwd()\n",
    "csv_path_train = os.path.abspath(os.path.join(current_dir, '../../../data/twitter_hate-speech/train_cleaned.csv'))\n",
    "df_cleaned = pd.read_csv(csv_path_train, encoding='utf-8', index_col=0)\n",
    "\n",
    "df_cleaned.head()"
   ],
   "metadata": {
    "collapsed": false,
    "ExecuteTime": {
     "end_time": "2024-11-14T16:25:52.494961100Z",
     "start_time": "2024-11-14T16:25:51.041340500Z"
    }
   }
  },
  {
   "cell_type": "code",
   "execution_count": 22,
   "outputs": [],
   "source": [
    "df_cleaned.dropna(inplace=True)  #irgendwoher kommt eine na row in tweet_cleaned, dadurch funktioniert der Vectorizer nicht"
   ],
   "metadata": {
    "collapsed": false,
    "ExecuteTime": {
     "end_time": "2024-11-14T16:25:52.565640200Z",
     "start_time": "2024-11-14T16:25:51.162400900Z"
    }
   }
  },
  {
   "cell_type": "code",
   "execution_count": 23,
   "outputs": [
    {
     "name": "stdout",
     "output_type": "stream",
     "text": [
      "Positive: 92\n",
      "Negative: 5819\n",
      "Verhältnis: 63.25\n"
     ]
    }
   ],
   "source": [
    "df_cleaned['label'].value_counts()\n",
    "positive = len(df_cleaned[df_cleaned['label'] == 1])\n",
    "negative = len(df_cleaned[df_cleaned['label'] == 0])\n",
    "print(\"Positive:\", positive)\n",
    "print(\"Negative:\", negative)\n",
    "print(\"Verhältnis:\", negative / positive)"
   ],
   "metadata": {
    "collapsed": false,
    "ExecuteTime": {
     "end_time": "2024-11-14T16:25:52.626285800Z",
     "start_time": "2024-11-14T16:25:51.202740300Z"
    }
   }
  },
  {
   "cell_type": "markdown",
   "source": [
    "Verhältnis hat sich durch die Bereinigung sogar noch weiter verschlechter"
   ],
   "metadata": {
    "collapsed": false
   }
  },
  {
   "cell_type": "markdown",
   "source": [
    "### Train/Test Split"
   ],
   "metadata": {
    "collapsed": false
   }
  },
  {
   "cell_type": "code",
   "execution_count": 24,
   "outputs": [],
   "source": [
    "def print_pos_neg(y_train, y_test):\n",
    "    positive = np.count_nonzero(y_train == 1)\n",
    "    negative = np.count_nonzero(y_train == 0)\n",
    "    print(\"Train\")\n",
    "    print(\"- Positive:\", positive)\n",
    "    print(\"- Negative:\", negative)\n",
    "    print(\"- Verhältnis:\", negative / positive)\n",
    "\n",
    "    positive = np.count_nonzero(y_test == 1)\n",
    "    negative = np.count_nonzero(y_test == 0)\n",
    "    print(\"Test\")\n",
    "    print(\"- Positive:\", positive)\n",
    "    print(\"- Negative:\", negative)\n",
    "    print(\"- Verhältnis:\", negative / positive)"
   ],
   "metadata": {
    "collapsed": false,
    "ExecuteTime": {
     "end_time": "2024-11-14T16:25:52.696931500Z",
     "start_time": "2024-11-14T16:25:51.222922900Z"
    }
   }
  },
  {
   "cell_type": "code",
   "execution_count": 25,
   "outputs": [],
   "source": [
    "X_base = df[\"tweet\"]\n",
    "y_base = df[\"label\"]"
   ],
   "metadata": {
    "collapsed": false,
    "ExecuteTime": {
     "end_time": "2024-11-14T16:25:52.696931500Z",
     "start_time": "2024-11-14T16:25:51.243093900Z"
    }
   }
  },
  {
   "cell_type": "code",
   "execution_count": 26,
   "outputs": [
    {
     "name": "stdout",
     "output_type": "stream",
     "text": [
      "Train\n",
      "- Positive: 1401\n",
      "- Negative: 19270\n",
      "- Verhältnis: 13.754461099214847\n",
      "Test\n",
      "- Positive: 612\n",
      "- Negative: 8247\n",
      "- Verhältnis: 13.47549019607843\n"
     ]
    }
   ],
   "source": [
    "# Ohne stratify\n",
    "X_train_base, X_test_base, y_train_base, y_test_base = train_test_split(X_base, y_base, test_size=0.3, random_state=42)\n",
    "print_pos_neg(y_train_base, y_test_base)"
   ],
   "metadata": {
    "collapsed": false,
    "ExecuteTime": {
     "end_time": "2024-11-14T16:25:52.777613Z",
     "start_time": "2024-11-14T16:25:51.263285400Z"
    }
   }
  },
  {
   "cell_type": "code",
   "execution_count": 27,
   "outputs": [
    {
     "name": "stdout",
     "output_type": "stream",
     "text": [
      "Train\n",
      "- Positive: 1409\n",
      "- Negative: 19262\n",
      "- Verhältnis: 13.67068843151171\n",
      "Test\n",
      "- Positive: 604\n",
      "- Negative: 8255\n",
      "- Verhältnis: 13.667218543046358\n"
     ]
    }
   ],
   "source": [
    "# mit stratify\n",
    "X_train_base, X_test_base, y_train_base, y_test_base = train_test_split(X_base, y_base, test_size=0.3, stratify=y_base,\n",
    "                                                                        random_state=42)\n",
    "print_pos_neg(y_train_base, y_test_base)"
   ],
   "metadata": {
    "collapsed": false,
    "ExecuteTime": {
     "end_time": "2024-11-14T16:25:52.868311800Z",
     "start_time": "2024-11-14T16:25:51.283430300Z"
    }
   }
  },
  {
   "cell_type": "code",
   "execution_count": 28,
   "outputs": [],
   "source": [
    "X_clean = df_cleaned[\"tweet_cleaned\"]\n",
    "y_clean = df_cleaned[\"label\"]"
   ],
   "metadata": {
    "collapsed": false,
    "ExecuteTime": {
     "end_time": "2024-11-14T16:25:53.009639400Z",
     "start_time": "2024-11-14T16:25:51.303617500Z"
    }
   }
  },
  {
   "cell_type": "code",
   "execution_count": 29,
   "outputs": [
    {
     "name": "stdout",
     "output_type": "stream",
     "text": [
      "Train\n",
      "- Positive: 66\n",
      "- Negative: 4071\n",
      "- Verhältnis: 61.68181818181818\n",
      "Test\n",
      "- Positive: 26\n",
      "- Negative: 1748\n",
      "- Verhältnis: 67.23076923076923\n"
     ]
    }
   ],
   "source": [
    "# Ohne stratify\n",
    "X_train_clean, X_test_clean, y_train_clean, y_test_clean = train_test_split(X_clean, y_clean, test_size=0.3,\n",
    "                                                                            random_state=42)\n",
    "print_pos_neg(y_train_clean, y_test_clean)"
   ],
   "metadata": {
    "collapsed": false,
    "ExecuteTime": {
     "end_time": "2024-11-14T16:25:53.009639400Z",
     "start_time": "2024-11-14T16:25:51.323764200Z"
    }
   }
  },
  {
   "cell_type": "code",
   "execution_count": 30,
   "outputs": [
    {
     "name": "stdout",
     "output_type": "stream",
     "text": [
      "Train\n",
      "- Positive: 64\n",
      "- Negative: 4073\n",
      "- Verhältnis: 63.640625\n",
      "Test\n",
      "- Positive: 28\n",
      "- Negative: 1746\n",
      "- Verhältnis: 62.357142857142854\n"
     ]
    }
   ],
   "source": [
    "# mit stratify\n",
    "X_train_clean, X_test_clean, y_train_clean, y_test_clean = train_test_split(X_clean, y_clean, test_size=0.3,\n",
    "                                                                            stratify=y_clean, random_state=42)\n",
    "print_pos_neg(y_train_clean, y_test_clean)"
   ],
   "metadata": {
    "collapsed": false,
    "ExecuteTime": {
     "end_time": "2024-11-14T16:25:53.058056200Z",
     "start_time": "2024-11-14T16:25:51.343948400Z"
    }
   }
  },
  {
   "cell_type": "markdown",
   "source": [
    "### Vektorisierung"
   ],
   "metadata": {
    "collapsed": false
   }
  },
  {
   "cell_type": "code",
   "execution_count": 31,
   "outputs": [],
   "source": [
    "# https://spotintelligence.com/2023/02/15/word2vec-for-text-classification/#Unsupervised_text_classification_Word2Vec\n",
    "\n",
    "# def vectorize(sentence, w2v_model):\n",
    "#     words = sentence.split()\n",
    "#     words_vecs = [w2v_model.wv[word] for word in words if word in w2v_model.wv]\n",
    "#     if len(words_vecs) == 0:\n",
    "#         return np.zeros(100)\n",
    "#     words_vecs = np.array(words_vecs)\n",
    "#     return words_vecs.mean(axis=0)\n",
    "\n",
    "\n",
    "# def vectorize_df(df):\n",
    "#     X = df[\"tweet\"]\n",
    "#     y = df[\"label\"]\n",
    "#\n",
    "#     sentences_base = [sentence.split() for sentence in X]\n",
    "#     w2v_model_base = Word2Vec(sentences_base, window=5, min_count=5, workers=-1)\n",
    "#\n",
    "#     x_data = np.array([vectorize(sentence, w2v_model_base) for sentence in X])\n",
    "#     return x_data, y\n",
    "\n",
    "\n",
    "# def vectorize_df_cleaned(df):\n",
    "#     X = df[\"tweet_cleaned\"]\n",
    "#     y = df[\"label\"]\n",
    "#\n",
    "#     sentences_base = [sentence.split() for sentence in X]\n",
    "#     w2v_model_base = Word2Vec(sentences_base, window=5, min_count=5, workers=-1, )\n",
    "#\n",
    "#     x_data = np.array([vectorize(sentence, w2v_model_base) for sentence in X])\n",
    "#     return x_data, y\n",
    "\n",
    "\n",
    "# X_base, y_base = vectorize_df(df)\n",
    "# X_clean, y_clean = vectorize_df(df_cleaned)\n",
    "\n",
    "\n",
    "# nicht richtig genutzt, führt zu falschen train/test Daten"
   ],
   "metadata": {
    "collapsed": false,
    "ExecuteTime": {
     "end_time": "2024-11-14T16:25:53.372579900Z",
     "start_time": "2024-11-14T16:25:51.364153800Z"
    }
   }
  },
  {
   "cell_type": "code",
   "execution_count": 32,
   "outputs": [],
   "source": [
    "vectorizer = TfidfVectorizer(max_features=5000)\n",
    "\n",
    "X_train_base = vectorizer.fit_transform(X_train_base)\n",
    "X_test_base = vectorizer.transform(X_test_base)"
   ],
   "metadata": {
    "collapsed": false,
    "ExecuteTime": {
     "end_time": "2024-11-14T16:25:53.865001500Z",
     "start_time": "2024-11-14T16:25:51.384346600Z"
    }
   }
  },
  {
   "cell_type": "code",
   "execution_count": 33,
   "outputs": [
    {
     "name": "stdout",
     "output_type": "stream",
     "text": [
      "X_train_base shape (20671, 5000)\n",
      "y_train_base shape (20671,)\n",
      "X_test_base shape (8859, 5000)\n",
      "y_test_base shape (8859,)\n"
     ]
    }
   ],
   "source": [
    "print(\"X_train_base shape\", X_train_base.shape)\n",
    "print(\"y_train_base shape\", y_train_base.shape)\n",
    "\n",
    "print(\"X_test_base shape\", X_test_base.shape)\n",
    "print(\"y_test_base shape\", y_test_base.shape)"
   ],
   "metadata": {
    "collapsed": false,
    "ExecuteTime": {
     "end_time": "2024-11-14T16:25:53.905306200Z",
     "start_time": "2024-11-14T16:25:51.970360200Z"
    }
   }
  },
  {
   "cell_type": "code",
   "execution_count": 34,
   "outputs": [],
   "source": [
    "vectorizer_clean = TfidfVectorizer(max_features=5000)\n",
    "\n",
    "X_train_clean = vectorizer_clean.fit_transform(X_train_clean)\n",
    "X_test_clean = vectorizer_clean.transform(X_test_clean)"
   ],
   "metadata": {
    "collapsed": false,
    "ExecuteTime": {
     "end_time": "2024-11-14T16:25:53.905306200Z",
     "start_time": "2024-11-14T16:25:52.008683900Z"
    }
   }
  },
  {
   "cell_type": "code",
   "execution_count": 35,
   "outputs": [
    {
     "name": "stdout",
     "output_type": "stream",
     "text": [
      "X_train_clean shape (4137, 4093)\n",
      "y_train_clean shape (4137,)\n",
      "X_test_clean shape (1774, 4093)\n",
      "y_test_clean shape (1774,)\n"
     ]
    }
   ],
   "source": [
    "print(\"X_train_clean shape\", X_train_clean.shape)\n",
    "print(\"y_train_clean shape\", y_train_clean.shape)\n",
    "\n",
    "print(\"X_test_clean shape\", X_test_clean.shape)\n",
    "print(\"y_test_clean shape\", y_test_clean.shape)"
   ],
   "metadata": {
    "collapsed": false,
    "ExecuteTime": {
     "end_time": "2024-11-14T16:25:54.088863200Z",
     "start_time": "2024-11-14T16:25:52.091427100Z"
    }
   }
  },
  {
   "cell_type": "markdown",
   "source": [
    "### 1. Resampling Methods"
   ],
   "metadata": {
    "collapsed": false
   }
  },
  {
   "cell_type": "code",
   "execution_count": 36,
   "outputs": [],
   "source": [
    "def print_data(y_before, y_after, sampling_technique):\n",
    "    counter_before = Counter(y_before)\n",
    "    counter_after = Counter(y_after)\n",
    "    print(\"Before sampling with:\", sampling_technique, counter_before)\n",
    "    print(\"After sampling with:\", sampling_technique, counter_after)"
   ],
   "metadata": {
    "collapsed": false,
    "ExecuteTime": {
     "end_time": "2024-11-14T16:25:54.088863200Z",
     "start_time": "2024-11-14T16:25:52.111582100Z"
    }
   }
  },
  {
   "cell_type": "markdown",
   "source": [
    "#### 1.1 Oversampling"
   ],
   "metadata": {
    "collapsed": false
   }
  },
  {
   "cell_type": "markdown",
   "source": [
    "##### 1.1.1 SMOTE"
   ],
   "metadata": {
    "collapsed": false
   }
  },
  {
   "cell_type": "code",
   "execution_count": 37,
   "outputs": [],
   "source": [
    "os_smote = SMOTE()"
   ],
   "metadata": {
    "collapsed": false,
    "ExecuteTime": {
     "end_time": "2024-11-14T16:25:54.088863200Z",
     "start_time": "2024-11-14T16:25:52.131773400Z"
    }
   }
  },
  {
   "cell_type": "code",
   "execution_count": 38,
   "outputs": [
    {
     "name": "stdout",
     "output_type": "stream",
     "text": [
      "Before sampling with: SMOTE Counter({0: 19262, 1: 1409})\n",
      "After sampling with: SMOTE Counter({1: 19262, 0: 19262})\n"
     ]
    }
   ],
   "source": [
    "X_train_base_s, y_train_base_s = os_smote.fit_resample(X_train_base, y_train_base)\n",
    "print_data(y_train_base, y_train_base_s, \"SMOTE\")"
   ],
   "metadata": {
    "collapsed": false,
    "ExecuteTime": {
     "end_time": "2024-11-14T16:25:54.088863200Z",
     "start_time": "2024-11-14T16:25:52.151934100Z"
    }
   }
  },
  {
   "cell_type": "code",
   "execution_count": 39,
   "outputs": [
    {
     "name": "stdout",
     "output_type": "stream",
     "text": [
      "Before sampling with: SMOTE Counter({0: 4073, 1: 64})\n",
      "After sampling with: SMOTE Counter({0: 4073, 1: 4073})\n"
     ]
    }
   ],
   "source": [
    "X_train_clean_s, y_train_clean_s = os_smote.fit_resample(X_train_clean, y_train_clean)\n",
    "print_data(y_train_clean, y_train_clean_s, \"SMOTE\")"
   ],
   "metadata": {
    "collapsed": false,
    "ExecuteTime": {
     "end_time": "2024-11-14T16:25:54.088863200Z",
     "start_time": "2024-11-14T16:25:52.535393100Z"
    }
   }
  },
  {
   "cell_type": "markdown",
   "source": [
    "##### 1.1.2 Borderline-SMOTE"
   ],
   "metadata": {
    "collapsed": false
   }
  },
  {
   "cell_type": "code",
   "execution_count": 40,
   "outputs": [],
   "source": [
    "os_bsmote = BorderlineSMOTE()"
   ],
   "metadata": {
    "collapsed": false,
    "ExecuteTime": {
     "end_time": "2024-11-14T16:25:54.088863200Z",
     "start_time": "2024-11-14T16:25:52.595967700Z"
    }
   }
  },
  {
   "cell_type": "code",
   "execution_count": 41,
   "outputs": [
    {
     "name": "stdout",
     "output_type": "stream",
     "text": [
      "Before sampling with: BorderlineSMOTE Counter({0: 19262, 1: 1409})\n",
      "After sampling with: BorderlineSMOTE Counter({1: 19262, 0: 19262})\n"
     ]
    }
   ],
   "source": [
    "X_train_base_bs, y_train_base_bs = os_bsmote.fit_resample(X_train_base, y_train_base)\n",
    "print_data(y_train_base, y_train_base_bs, \"BorderlineSMOTE\")"
   ],
   "metadata": {
    "collapsed": false,
    "ExecuteTime": {
     "end_time": "2024-11-14T16:25:54.088863200Z",
     "start_time": "2024-11-14T16:25:52.616182100Z"
    }
   }
  },
  {
   "cell_type": "code",
   "execution_count": 42,
   "outputs": [
    {
     "name": "stdout",
     "output_type": "stream",
     "text": [
      "Before sampling with: BorderlineSMOTE Counter({0: 4073, 1: 64})\n",
      "After sampling with: BorderlineSMOTE Counter({0: 4073, 1: 4073})\n"
     ]
    }
   ],
   "source": [
    "X_train_clean_bs, y_train_clean_bs = os_bsmote.fit_resample(X_train_clean, y_train_clean)\n",
    "print_data(y_train_clean, y_train_clean_bs, \"BorderlineSMOTE\")"
   ],
   "metadata": {
    "collapsed": false,
    "ExecuteTime": {
     "end_time": "2024-11-14T16:25:54.088863200Z",
     "start_time": "2024-11-14T16:25:53.523853500Z"
    }
   }
  },
  {
   "cell_type": "markdown",
   "source": [
    "##### 1.1.3 ADASYN"
   ],
   "metadata": {
    "collapsed": false
   }
  },
  {
   "cell_type": "code",
   "execution_count": 43,
   "outputs": [],
   "source": [
    "os_ada = ADASYN()"
   ],
   "metadata": {
    "collapsed": false,
    "ExecuteTime": {
     "end_time": "2024-11-14T16:25:54.088863200Z",
     "start_time": "2024-11-14T16:25:53.624860500Z"
    }
   }
  },
  {
   "cell_type": "code",
   "execution_count": 44,
   "outputs": [
    {
     "name": "stdout",
     "output_type": "stream",
     "text": [
      "Before sampling with: ADASYN Counter({0: 19262, 1: 1409})\n",
      "After sampling with: ADASYN Counter({0: 19262, 1: 18876})\n"
     ]
    }
   ],
   "source": [
    "X_train_base_a, y_train_base_a = os_ada.fit_resample(X_train_base, y_train_base)\n",
    "print_data(y_train_base, y_train_base_a, \"ADASYN\")"
   ],
   "metadata": {
    "collapsed": false,
    "ExecuteTime": {
     "end_time": "2024-11-14T16:25:54.643945400Z",
     "start_time": "2024-11-14T16:25:53.645069400Z"
    }
   }
  },
  {
   "cell_type": "code",
   "execution_count": 45,
   "outputs": [
    {
     "name": "stdout",
     "output_type": "stream",
     "text": [
      "Before sampling with: ADASYN Counter({0: 4073, 1: 64})\n",
      "After sampling with: ADASYN Counter({0: 4073, 1: 4071})\n"
     ]
    }
   ],
   "source": [
    "X_train_clean_a, y_train_clean_a = os_ada.fit_resample(X_train_clean, y_train_clean)\n",
    "print_data(y_train_clean, y_train_clean_a, \"ADASYN\")"
   ],
   "metadata": {
    "collapsed": false,
    "ExecuteTime": {
     "end_time": "2024-11-14T16:25:54.785292100Z",
     "start_time": "2024-11-14T16:25:54.613686100Z"
    }
   }
  },
  {
   "cell_type": "markdown",
   "source": [
    "#### 1.2 Undersampling"
   ],
   "metadata": {
    "collapsed": false
   }
  },
  {
   "cell_type": "markdown",
   "source": [
    "##### 1.2.1 NearMiss"
   ],
   "metadata": {
    "collapsed": false
   }
  },
  {
   "cell_type": "code",
   "execution_count": 46,
   "outputs": [],
   "source": [
    "us_near_miss = NearMiss(version=3, n_neighbors_ver3=3)"
   ],
   "metadata": {
    "collapsed": false,
    "ExecuteTime": {
     "end_time": "2024-11-14T16:25:54.785292100Z",
     "start_time": "2024-11-14T16:25:54.714587600Z"
    }
   }
  },
  {
   "cell_type": "code",
   "execution_count": 47,
   "outputs": [
    {
     "name": "stdout",
     "output_type": "stream",
     "text": [
      "Before sampling with: NearMiss Counter({0: 19262, 1: 1409})\n",
      "After sampling with: NearMiss Counter({1: 1409, 0: 185})\n"
     ]
    },
    {
     "name": "stderr",
     "output_type": "stream",
     "text": [
      "C:\\Users\\admin\\anaconda3\\lib\\site-packages\\imblearn\\under_sampling\\_prototype_selection\\_nearmiss.py:203: UserWarning: The number of the samples to be selected is larger than the number of samples available. The balancing ratio cannot be ensure and all samples will be returned.\n",
      "  warnings.warn(\n"
     ]
    }
   ],
   "source": [
    "X_train_base_nm, y_train_base_nm = us_near_miss.fit_resample(X_train_base, y_train_base)\n",
    "print_data(y_train_base, y_train_base_nm, \"NearMiss\")"
   ],
   "metadata": {
    "collapsed": false,
    "ExecuteTime": {
     "end_time": "2024-11-14T16:25:56.843663300Z",
     "start_time": "2024-11-14T16:25:54.734887600Z"
    }
   }
  },
  {
   "cell_type": "code",
   "execution_count": 48,
   "outputs": [
    {
     "name": "stdout",
     "output_type": "stream",
     "text": [
      "Before sampling with: NearMiss Counter({0: 4073, 1: 64})\n",
      "After sampling with: NearMiss Counter({0: 64, 1: 64})\n"
     ]
    }
   ],
   "source": [
    "X_train_clean_nm, y_train_clean_nm = us_near_miss.fit_resample(X_train_clean, y_train_clean)\n",
    "print_data(y_train_clean, y_train_clean_nm, \"NearMiss\")"
   ],
   "metadata": {
    "collapsed": false,
    "ExecuteTime": {
     "end_time": "2024-11-14T16:25:56.924394800Z",
     "start_time": "2024-11-14T16:25:56.823489500Z"
    }
   }
  },
  {
   "cell_type": "markdown",
   "source": [
    "##### 1.2.2 Condensed Nearest Neighbor"
   ],
   "metadata": {
    "collapsed": false
   }
  },
  {
   "cell_type": "code",
   "execution_count": 49,
   "outputs": [],
   "source": [
    "us_cnn = CondensedNearestNeighbour(n_neighbors=1, n_jobs=-1)  # sehr langsam"
   ],
   "metadata": {
    "collapsed": false,
    "ExecuteTime": {
     "end_time": "2024-11-14T16:25:56.964772900Z",
     "start_time": "2024-11-14T16:25:56.924394800Z"
    }
   }
  },
  {
   "cell_type": "code",
   "execution_count": 50,
   "outputs": [],
   "source": [
    "# X_train_base_cnn, y_train_base_cnn = us_cnn.fit_resample(X_train_base, y_train_base)\n",
    "# print_data(y_train_base, y_train_base_cnn, \"CondensedNearestNeighbour\")"
   ],
   "metadata": {
    "collapsed": false,
    "ExecuteTime": {
     "end_time": "2024-11-14T16:25:57.043534100Z",
     "start_time": "2024-11-14T16:25:56.944595200Z"
    }
   }
  },
  {
   "cell_type": "code",
   "execution_count": 51,
   "outputs": [],
   "source": [
    "# X_train_clean_cnn, y_train_clean_cnn = us_cnn.fit_resample(X_train_clean, y_train_clean)\n",
    "# print_data(y_train_clean, y_train_clean_cnn, \"CondensedNearestNeighbour\")"
   ],
   "metadata": {
    "collapsed": false,
    "ExecuteTime": {
     "end_time": "2024-11-14T16:25:57.073880700Z",
     "start_time": "2024-11-14T16:25:56.964772900Z"
    }
   }
  },
  {
   "cell_type": "markdown",
   "source": [
    "##### 1.2.3 Neighborhood Cleaning"
   ],
   "metadata": {
    "collapsed": false
   }
  },
  {
   "cell_type": "code",
   "execution_count": 52,
   "outputs": [],
   "source": [
    "us_cnn_cr = NeighbourhoodCleaningRule(n_neighbors=3, threshold_cleaning=0.5, n_jobs=-1)  # sehr langsam"
   ],
   "metadata": {
    "collapsed": false,
    "ExecuteTime": {
     "end_time": "2024-11-14T16:25:57.073880700Z",
     "start_time": "2024-11-14T16:25:56.984960600Z"
    }
   }
  },
  {
   "cell_type": "code",
   "execution_count": 53,
   "outputs": [],
   "source": [
    "# X_train_base_ncr, y_train_base_ncr = us_cnn.fit_resample(X_train_base, y_train_base)\n",
    "# print_data(y_train_base, y_train_base_ncr, \"NeighbourhoodCleaningRule\")"
   ],
   "metadata": {
    "collapsed": false,
    "ExecuteTime": {
     "end_time": "2024-11-14T16:25:57.073880700Z",
     "start_time": "2024-11-14T16:25:57.005147700Z"
    }
   }
  },
  {
   "cell_type": "code",
   "execution_count": 54,
   "outputs": [],
   "source": [
    "# X_train_clean_ncr, y_train_clean_ncr = us_cnn.fit_resample(X_train_clean, y_train_clean)\n",
    "# print_data(y_train_clean, y_train_clean_ncr, \"NeighbourhoodCleaningRule\")"
   ],
   "metadata": {
    "collapsed": false,
    "ExecuteTime": {
     "end_time": "2024-11-14T16:25:57.073880700Z",
     "start_time": "2024-11-14T16:25:57.025377500Z"
    }
   }
  },
  {
   "cell_type": "markdown",
   "source": [
    "##### 1.2.4 Tomek Links Undersampler"
   ],
   "metadata": {
    "collapsed": false
   }
  },
  {
   "cell_type": "code",
   "execution_count": 55,
   "outputs": [],
   "source": [
    "us_tomek = TomekLinks()"
   ],
   "metadata": {
    "collapsed": false,
    "ExecuteTime": {
     "end_time": "2024-11-14T16:25:57.073880700Z",
     "start_time": "2024-11-14T16:25:57.045587900Z"
    }
   }
  },
  {
   "cell_type": "code",
   "execution_count": 56,
   "outputs": [
    {
     "name": "stdout",
     "output_type": "stream",
     "text": [
      "Before sampling with: TomekLinks Counter({0: 19262, 1: 1409})\n",
      "After sampling with: TomekLinks Counter({0: 19223, 1: 1409})\n"
     ]
    }
   ],
   "source": [
    "X_train_base_t, y_train_base_t = us_tomek.fit_resample(X_train_base, y_train_base)\n",
    "print_data(y_train_base, y_train_base_t, \"TomekLinks\")"
   ],
   "metadata": {
    "collapsed": false,
    "ExecuteTime": {
     "end_time": "2024-11-14T16:26:12.677901400Z",
     "start_time": "2024-11-14T16:25:57.065844500Z"
    }
   }
  },
  {
   "cell_type": "code",
   "execution_count": 57,
   "outputs": [
    {
     "name": "stdout",
     "output_type": "stream",
     "text": [
      "Before sampling with: TomekLinks Counter({0: 4073, 1: 64})\n",
      "After sampling with: TomekLinks Counter({0: 4070, 1: 64})\n"
     ]
    }
   ],
   "source": [
    "X_train_clean_t, y_train_clean_t = us_tomek.fit_resample(X_train_clean, y_train_clean)\n",
    "print_data(y_train_clean, y_train_clean_t, \"TomekLinks\")"
   ],
   "metadata": {
    "collapsed": false,
    "ExecuteTime": {
     "end_time": "2024-11-14T16:26:12.695029400Z",
     "start_time": "2024-11-14T16:26:12.568745800Z"
    }
   }
  },
  {
   "cell_type": "markdown",
   "source": [
    "### 2. Ensemble Models"
   ],
   "metadata": {
    "collapsed": false
   }
  },
  {
   "cell_type": "code",
   "execution_count": 58,
   "outputs": [],
   "source": [
    "evaluation = pd.DataFrame(\n",
    "    columns=[\"model\", \"variant\", \"train_acc\", \"train_prec\", \"train_rec\", \"train_f1\", \"test_acc\", \"test_prec\",\n",
    "             \"test_rec\", \"test_f1\"])"
   ],
   "metadata": {
    "collapsed": false,
    "ExecuteTime": {
     "end_time": "2024-11-14T16:26:13.112591Z",
     "start_time": "2024-11-14T16:26:12.599102Z"
    }
   }
  },
  {
   "cell_type": "code",
   "execution_count": 59,
   "outputs": [],
   "source": [
    "def add_to_eval_df(model, model_name, variant, x_data_train, y_data_train, x_data_test, y_data_test):\n",
    "    train_acc = model.score(x_data_train, y_data_train)\n",
    "    train_precision = precision_score(y_data_train, model.predict(x_data_train))\n",
    "    train_recall = recall_score(y_data_train, model.predict(x_data_train))\n",
    "    train_f1 = f1_score(y_data_train, model.predict(x_data_train))\n",
    "\n",
    "    test_acc = model.score(x_data_test, y_data_test)\n",
    "    test_precision = precision_score(y_data_test, model.predict(x_data_test))\n",
    "    test_recall = recall_score(y_data_test, model.predict(x_data_test))\n",
    "    test_f1 = f1_score(y_data_test, model.predict(x_data_test))\n",
    "\n",
    "    evaluation.loc[len(evaluation.index)] = [model_name, variant, train_acc, train_precision, train_recall, train_f1,\n",
    "                                             test_acc, test_precision, test_recall, test_f1]"
   ],
   "metadata": {
    "collapsed": false,
    "ExecuteTime": {
     "end_time": "2024-11-14T16:26:13.710177600Z",
     "start_time": "2024-11-14T16:26:13.119107100Z"
    }
   }
  },
  {
   "cell_type": "code",
   "execution_count": 60,
   "outputs": [],
   "source": [
    "def evaluate_model(model, x_test, y_test, sampling_method):\n",
    "    pred = model.predict(x_test)\n",
    "    accscore = metrics.accuracy_score(pred, y_test)\n",
    "\n",
    "    print(f'{sampling_method} model accuracy for classification is =', str('{:04.2f}'.format(accscore * 100)) + '%')\n",
    "    print('------------------------------------------------')\n",
    "    print('Confusion Matrix:')\n",
    "    print(pd.DataFrame(confusion_matrix(y_test, pred)))\n",
    "    print('------------------------------------------------')\n",
    "    print('Classification Report:')\n",
    "    print(classification_report(y_test, pred))"
   ],
   "metadata": {
    "collapsed": false,
    "ExecuteTime": {
     "end_time": "2024-11-14T16:26:13.766858700Z",
     "start_time": "2024-11-14T16:26:13.716954100Z"
    }
   }
  },
  {
   "cell_type": "code",
   "execution_count": 61,
   "outputs": [],
   "source": [
    "def fit_model(model, modelName):\n",
    "    print(\"Starting model fitting.\")\n",
    "\n",
    "    start = time.time()\n",
    "    print(\"1/12 Fitting: \", modelName, \"BASE started...\")\n",
    "    model.fit(X_train_base, y_train_base)\n",
    "    add_to_eval_df(model, modelName, \"base\", X_train_base, y_train_base, X_test_base, y_test_base)\n",
    "    end = time.time()\n",
    "    elapsed_time = round(end - start)\n",
    "    print(\"Fitting: \", modelName, \"finished. Elapsed time: \", elapsed_time, \"Seconds\")\n",
    "\n",
    "    start = time.time()\n",
    "    print(\"2/12 Fitting: \", modelName, \"CLEAN started...\")\n",
    "    model.fit(X_train_clean, y_train_clean)\n",
    "    add_to_eval_df(model, modelName, \"clean\", X_train_clean, y_train_clean, X_test_clean, y_test_clean)\n",
    "    end = time.time()\n",
    "    elapsed_time = round(end - start)\n",
    "    print(\"Fitting: \", modelName, \"finished. Elapsed time: \", elapsed_time, \"Seconds\")\n",
    "\n",
    "    start = time.time()\n",
    "    print(\"3/12 Fitting: \", modelName, \"SMOTE-base started...\")\n",
    "    model.fit(X_train_base_s, y_train_base_s)\n",
    "    add_to_eval_df(model, modelName, \"SMOTE base\", X_train_base_s, y_train_base_s, X_test_base, y_test_base)\n",
    "    end = time.time()\n",
    "    elapsed_time = round(end - start)\n",
    "    print(\"Fitting: \", modelName, \"finished. Elapsed time: \", elapsed_time, \"Seconds\")\n",
    "\n",
    "    start = time.time()\n",
    "    print(\"4/12 Fitting: \", modelName, \"SMOTE-clean started...\")\n",
    "    model.fit(X_train_clean_s, y_train_clean_s)\n",
    "    add_to_eval_df(model, modelName, \"SMOTE clean\", X_train_clean_s, y_train_clean_s, X_test_clean, y_test_clean)\n",
    "    end = time.time()\n",
    "    elapsed_time = round(end - start)\n",
    "    print(\"Fitting: \", modelName, \"finished. Elapsed time: \", elapsed_time, \"Seconds\")\n",
    "\n",
    "    start = time.time()\n",
    "    print(\"5/12 Fitting: \", modelName, \"BorderlineSMOTE-base started...\")\n",
    "    model.fit(X_train_base_bs, y_train_base_bs)\n",
    "    add_to_eval_df(model, modelName, \"BorderlineSMOTE base\", X_train_base_bs, y_train_base_bs, X_test_base, y_test_base)\n",
    "    end = time.time()\n",
    "    elapsed_time = round(end - start)\n",
    "    print(\"Fitting: \", modelName, \"finished. Elapsed time: \", elapsed_time, \"Seconds\")\n",
    "\n",
    "    start = time.time()\n",
    "    print(\"6/12 Fitting: \", modelName, \"BorderlineSMOTE-clean started...\")\n",
    "    model.fit(X_train_clean_bs, y_train_clean_bs)\n",
    "    add_to_eval_df(model, modelName, \"BorderlineSMOTE clean\", X_train_clean_bs, y_train_clean_bs, X_test_clean,\n",
    "                   y_test_clean)\n",
    "    end = time.time()\n",
    "    elapsed_time = round(end - start)\n",
    "    print(\"Fitting: \", modelName, \"finished. Elapsed time: \", elapsed_time, \"Seconds\")\n",
    "\n",
    "    start = time.time()\n",
    "    print(\"7/12 Fitting: \", modelName, \"ADASYN-base started...\")\n",
    "    model.fit(X_train_base_a, y_train_base_a)\n",
    "    add_to_eval_df(model, modelName, \"ADASYN base\", X_train_base_a, y_train_base_a, X_test_base, y_test_base)\n",
    "    end = time.time()\n",
    "    elapsed_time = round(end - start)\n",
    "    print(\"Fitting: \", modelName, \"finished. Elapsed time: \", elapsed_time, \"Seconds\")\n",
    "\n",
    "    start = time.time()\n",
    "    print(\"8/12 Fitting: \", modelName, \"ADASYN-clean started...\")\n",
    "    model.fit(X_train_clean_a, y_train_clean_a)\n",
    "    add_to_eval_df(model, modelName, \"ADASYN clean\", X_train_clean_a, y_train_clean_a, X_test_clean, y_test_clean)\n",
    "    end = time.time()\n",
    "    elapsed_time = round(end - start)\n",
    "    print(\"Fitting: \", modelName, \"finished. Elapsed time: \", elapsed_time, \"Seconds\")\n",
    "\n",
    "    start = time.time()\n",
    "    print(\"9/12 Fitting: \", modelName, \"NearMiss-base started...\")\n",
    "    model.fit(X_train_base_nm, y_train_base_nm)\n",
    "    add_to_eval_df(model, modelName, \"NearMiss base\", X_train_base_nm, y_train_base_nm, X_test_base, y_test_base)\n",
    "    end = time.time()\n",
    "    elapsed_time = round(end - start)\n",
    "    print(\"Fitting: \", modelName, \"finished. Elapsed time: \", elapsed_time, \"Seconds\")\n",
    "\n",
    "    start = time.time()\n",
    "    print(\"10/12 Fitting: \", modelName, \"NearMiss-clean started...\")\n",
    "    model.fit(X_train_clean_nm, y_train_clean_nm)\n",
    "    add_to_eval_df(model, modelName, \"NearMiss clean\", X_train_clean_nm, y_train_clean_nm, X_test_clean, y_test_clean)\n",
    "    end = time.time()\n",
    "    elapsed_time = round(end - start)\n",
    "    print(\"Fitting: \", modelName, \"finished. Elapsed time: \", elapsed_time, \"Seconds\")\n",
    "\n",
    "    start = time.time()\n",
    "    print(\"11/12 Fitting: \", modelName, \"TomekLink-base started...\")\n",
    "    model.fit(X_train_clean_t, y_train_clean_t)\n",
    "    add_to_eval_df(model, modelName, \"TomekLink base\", X_train_clean_t, y_train_clean_t, X_test_clean, y_test_clean)\n",
    "    end = time.time()\n",
    "    elapsed_time = round(end - start)\n",
    "    print(\"Fitting: \", modelName, \"finished. Elapsed time: \", elapsed_time, \"Seconds\")\n",
    "\n",
    "    start = time.time()\n",
    "    print(\"12/12 Fitting: \", modelName, \"TomekLink-clean started...\")\n",
    "    model.fit(X_train_clean_t, y_train_clean_t)\n",
    "    add_to_eval_df(model, modelName, \"TomekLink clean\", X_train_clean_t, y_train_clean_t, X_test_clean, y_test_clean)\n",
    "    end = time.time()\n",
    "    elapsed_time = round(end - start)\n",
    "    print(\"Fitting: \", modelName, \"finished. Elapsed time: \", elapsed_time, \"Seconds\")\n",
    "\n",
    "    print(\"Model fitting finished.\")"
   ],
   "metadata": {
    "collapsed": false,
    "ExecuteTime": {
     "end_time": "2024-11-14T16:26:13.844833800Z",
     "start_time": "2024-11-14T16:26:13.766858700Z"
    }
   }
  },
  {
   "cell_type": "markdown",
   "source": [
    "#### 2.1 Bagging"
   ],
   "metadata": {
    "collapsed": false
   }
  },
  {
   "cell_type": "code",
   "execution_count": 62,
   "outputs": [],
   "source": [
    "rf = RandomForestClassifier(n_jobs=-1)"
   ],
   "metadata": {
    "collapsed": false,
    "ExecuteTime": {
     "end_time": "2024-11-14T16:26:13.844833800Z",
     "start_time": "2024-11-14T16:26:13.782482700Z"
    }
   }
  },
  {
   "cell_type": "code",
   "execution_count": 63,
   "outputs": [
    {
     "name": "stdout",
     "output_type": "stream",
     "text": [
      "Starting model fitting.\n",
      "1/12 Fitting:  RandomForest BASE started...\n",
      "Fitting:  RandomForest finished. Elapsed time:  6 Seconds\n",
      "2/12 Fitting:  RandomForest CLEAN started...\n",
      "Fitting:  RandomForest finished. Elapsed time:  1 Seconds\n",
      "3/12 Fitting:  RandomForest SMOTE-base started...\n",
      "Fitting:  RandomForest finished. Elapsed time:  12 Seconds\n",
      "4/12 Fitting:  RandomForest SMOTE-clean started...\n",
      "Fitting:  RandomForest finished. Elapsed time:  1 Seconds\n",
      "5/12 Fitting:  RandomForest BorderlineSMOTE-base started...\n",
      "Fitting:  RandomForest finished. Elapsed time:  5 Seconds\n",
      "6/12 Fitting:  RandomForest BorderlineSMOTE-clean started...\n",
      "Fitting:  RandomForest finished. Elapsed time:  1 Seconds\n",
      "7/12 Fitting:  RandomForest ADASYN-base started...\n",
      "Fitting:  RandomForest finished. Elapsed time:  6 Seconds\n",
      "8/12 Fitting:  RandomForest ADASYN-clean started...\n",
      "Fitting:  RandomForest finished. Elapsed time:  1 Seconds\n",
      "9/12 Fitting:  RandomForest NearMiss-base started...\n",
      "Fitting:  RandomForest finished. Elapsed time:  1 Seconds\n",
      "10/12 Fitting:  RandomForest NearMiss-clean started...\n",
      "Fitting:  RandomForest finished. Elapsed time:  1 Seconds\n",
      "11/12 Fitting:  RandomForest TomekLink-base started...\n",
      "Fitting:  RandomForest finished. Elapsed time:  1 Seconds\n",
      "12/12 Fitting:  RandomForest TomekLink-clean started...\n",
      "Fitting:  RandomForest finished. Elapsed time:  1 Seconds\n",
      "Model fitting finished.\n"
     ]
    }
   ],
   "source": [
    "fit_model(rf, \"RandomForest\")"
   ],
   "metadata": {
    "collapsed": false,
    "ExecuteTime": {
     "end_time": "2024-11-14T16:26:49.391505700Z",
     "start_time": "2024-11-14T16:26:13.798109200Z"
    }
   }
  },
  {
   "cell_type": "code",
   "execution_count": 64,
   "outputs": [],
   "source": [
    "brf = BalancedRandomForestClassifier(n_jobs=-1)"
   ],
   "metadata": {
    "collapsed": false,
    "ExecuteTime": {
     "end_time": "2024-11-14T16:26:49.421777600Z",
     "start_time": "2024-11-14T16:26:49.391505700Z"
    }
   }
  },
  {
   "cell_type": "code",
   "execution_count": 65,
   "outputs": [
    {
     "name": "stderr",
     "output_type": "stream",
     "text": [
      "C:\\Users\\admin\\anaconda3\\lib\\site-packages\\sklearn\\utils\\deprecation.py:86: FutureWarning: Function delayed is deprecated; The function `delayed` has been moved from `sklearn.utils.fixes` to `sklearn.utils.parallel`. This import path will be removed in 1.5.\n",
      "  warnings.warn(msg, category=FutureWarning)\n",
      "C:\\Users\\admin\\anaconda3\\lib\\site-packages\\sklearn\\utils\\parallel.py:114: UserWarning: `sklearn.utils.parallel.delayed` should be used with `sklearn.utils.parallel.Parallel` to make it possible to propagate the scikit-learn configuration of the current thread to the joblib workers.\n",
      "  warnings.warn(\n",
      "C:\\Users\\admin\\anaconda3\\lib\\site-packages\\sklearn\\utils\\parallel.py:114: UserWarning: `sklearn.utils.parallel.delayed` should be used with `sklearn.utils.parallel.Parallel` to make it possible to propagate the scikit-learn configuration of the current thread to the joblib workers.\n",
      "  warnings.warn(\n",
      "C:\\Users\\admin\\anaconda3\\lib\\site-packages\\sklearn\\utils\\parallel.py:114: UserWarning: `sklearn.utils.parallel.delayed` should be used with `sklearn.utils.parallel.Parallel` to make it possible to propagate the scikit-learn configuration of the current thread to the joblib workers.\n",
      "  warnings.warn(\n",
      "C:\\Users\\admin\\anaconda3\\lib\\site-packages\\sklearn\\utils\\parallel.py:114: UserWarning: `sklearn.utils.parallel.delayed` should be used with `sklearn.utils.parallel.Parallel` to make it possible to propagate the scikit-learn configuration of the current thread to the joblib workers.\n",
      "  warnings.warn(\n",
      "C:\\Users\\admin\\anaconda3\\lib\\site-packages\\sklearn\\utils\\parallel.py:114: UserWarning: `sklearn.utils.parallel.delayed` should be used with `sklearn.utils.parallel.Parallel` to make it possible to propagate the scikit-learn configuration of the current thread to the joblib workers.\n",
      "  warnings.warn(\n",
      "C:\\Users\\admin\\anaconda3\\lib\\site-packages\\sklearn\\utils\\parallel.py:114: UserWarning: `sklearn.utils.parallel.delayed` should be used with `sklearn.utils.parallel.Parallel` to make it possible to propagate the scikit-learn configuration of the current thread to the joblib workers.\n",
      "  warnings.warn(\n",
      "C:\\Users\\admin\\anaconda3\\lib\\site-packages\\sklearn\\utils\\parallel.py:114: UserWarning: `sklearn.utils.parallel.delayed` should be used with `sklearn.utils.parallel.Parallel` to make it possible to propagate the scikit-learn configuration of the current thread to the joblib workers.\n",
      "  warnings.warn(\n",
      "C:\\Users\\admin\\anaconda3\\lib\\site-packages\\sklearn\\utils\\deprecation.py:86: FutureWarning: Function delayed is deprecated; The function `delayed` has been moved from `sklearn.utils.fixes` to `sklearn.utils.parallel`. This import path will be removed in 1.5.\n",
      "  warnings.warn(msg, category=FutureWarning)\n",
      "C:\\Users\\admin\\anaconda3\\lib\\site-packages\\sklearn\\utils\\parallel.py:114: UserWarning: `sklearn.utils.parallel.delayed` should be used with `sklearn.utils.parallel.Parallel` to make it possible to propagate the scikit-learn configuration of the current thread to the joblib workers.\n",
      "  warnings.warn(\n",
      "C:\\Users\\admin\\anaconda3\\lib\\site-packages\\sklearn\\utils\\parallel.py:114: UserWarning: `sklearn.utils.parallel.delayed` should be used with `sklearn.utils.parallel.Parallel` to make it possible to propagate the scikit-learn configuration of the current thread to the joblib workers.\n",
      "  warnings.warn(\n",
      "C:\\Users\\admin\\anaconda3\\lib\\site-packages\\sklearn\\utils\\parallel.py:114: UserWarning: `sklearn.utils.parallel.delayed` should be used with `sklearn.utils.parallel.Parallel` to make it possible to propagate the scikit-learn configuration of the current thread to the joblib workers.\n",
      "  warnings.warn(\n",
      "C:\\Users\\admin\\anaconda3\\lib\\site-packages\\sklearn\\utils\\parallel.py:114: UserWarning: `sklearn.utils.parallel.delayed` should be used with `sklearn.utils.parallel.Parallel` to make it possible to propagate the scikit-learn configuration of the current thread to the joblib workers.\n",
      "  warnings.warn(\n",
      "C:\\Users\\admin\\anaconda3\\lib\\site-packages\\sklearn\\utils\\parallel.py:114: UserWarning: `sklearn.utils.parallel.delayed` should be used with `sklearn.utils.parallel.Parallel` to make it possible to propagate the scikit-learn configuration of the current thread to the joblib workers.\n",
      "  warnings.warn(\n",
      "C:\\Users\\admin\\anaconda3\\lib\\site-packages\\sklearn\\utils\\parallel.py:114: UserWarning: `sklearn.utils.parallel.delayed` should be used with `sklearn.utils.parallel.Parallel` to make it possible to propagate the scikit-learn configuration of the current thread to the joblib workers.\n",
      "  warnings.warn(\n",
      "C:\\Users\\admin\\anaconda3\\lib\\site-packages\\sklearn\\utils\\parallel.py:114: UserWarning: `sklearn.utils.parallel.delayed` should be used with `sklearn.utils.parallel.Parallel` to make it possible to propagate the scikit-learn configuration of the current thread to the joblib workers.\n",
      "  warnings.warn(\n",
      "C:\\Users\\admin\\anaconda3\\lib\\site-packages\\sklearn\\utils\\parallel.py:114: UserWarning: `sklearn.utils.parallel.delayed` should be used with `sklearn.utils.parallel.Parallel` to make it possible to propagate the scikit-learn configuration of the current thread to the joblib workers.\n",
      "  warnings.warn(\n",
      "C:\\Users\\admin\\anaconda3\\lib\\site-packages\\sklearn\\utils\\parallel.py:114: UserWarning: `sklearn.utils.parallel.delayed` should be used with `sklearn.utils.parallel.Parallel` to make it possible to propagate the scikit-learn configuration of the current thread to the joblib workers.\n",
      "  warnings.warn(\n",
      "C:\\Users\\admin\\anaconda3\\lib\\site-packages\\sklearn\\utils\\parallel.py:114: UserWarning: `sklearn.utils.parallel.delayed` should be used with `sklearn.utils.parallel.Parallel` to make it possible to propagate the scikit-learn configuration of the current thread to the joblib workers.\n",
      "  warnings.warn(\n",
      "C:\\Users\\admin\\anaconda3\\lib\\site-packages\\sklearn\\utils\\parallel.py:114: UserWarning: `sklearn.utils.parallel.delayed` should be used with `sklearn.utils.parallel.Parallel` to make it possible to propagate the scikit-learn configuration of the current thread to the joblib workers.\n",
      "  warnings.warn(\n",
      "C:\\Users\\admin\\anaconda3\\lib\\site-packages\\sklearn\\utils\\parallel.py:114: UserWarning: `sklearn.utils.parallel.delayed` should be used with `sklearn.utils.parallel.Parallel` to make it possible to propagate the scikit-learn configuration of the current thread to the joblib workers.\n",
      "  warnings.warn(\n",
      "C:\\Users\\admin\\anaconda3\\lib\\site-packages\\sklearn\\utils\\deprecation.py:86: FutureWarning: Function delayed is deprecated; The function `delayed` has been moved from `sklearn.utils.fixes` to `sklearn.utils.parallel`. This import path will be removed in 1.5.\n",
      "  warnings.warn(msg, category=FutureWarning)\n",
      "C:\\Users\\admin\\anaconda3\\lib\\site-packages\\sklearn\\utils\\parallel.py:114: UserWarning: `sklearn.utils.parallel.delayed` should be used with `sklearn.utils.parallel.Parallel` to make it possible to propagate the scikit-learn configuration of the current thread to the joblib workers.\n",
      "  warnings.warn(\n",
      "C:\\Users\\admin\\anaconda3\\lib\\site-packages\\sklearn\\utils\\parallel.py:114: UserWarning: `sklearn.utils.parallel.delayed` should be used with `sklearn.utils.parallel.Parallel` to make it possible to propagate the scikit-learn configuration of the current thread to the joblib workers.\n",
      "  warnings.warn(\n",
      "C:\\Users\\admin\\anaconda3\\lib\\site-packages\\sklearn\\utils\\parallel.py:114: UserWarning: `sklearn.utils.parallel.delayed` should be used with `sklearn.utils.parallel.Parallel` to make it possible to propagate the scikit-learn configuration of the current thread to the joblib workers.\n",
      "  warnings.warn(\n",
      "C:\\Users\\admin\\anaconda3\\lib\\site-packages\\sklearn\\utils\\parallel.py:114: UserWarning: `sklearn.utils.parallel.delayed` should be used with `sklearn.utils.parallel.Parallel` to make it possible to propagate the scikit-learn configuration of the current thread to the joblib workers.\n",
      "  warnings.warn(\n",
      "C:\\Users\\admin\\anaconda3\\lib\\site-packages\\sklearn\\utils\\parallel.py:114: UserWarning: `sklearn.utils.parallel.delayed` should be used with `sklearn.utils.parallel.Parallel` to make it possible to propagate the scikit-learn configuration of the current thread to the joblib workers.\n",
      "  warnings.warn(\n",
      "C:\\Users\\admin\\anaconda3\\lib\\site-packages\\sklearn\\utils\\parallel.py:114: UserWarning: `sklearn.utils.parallel.delayed` should be used with `sklearn.utils.parallel.Parallel` to make it possible to propagate the scikit-learn configuration of the current thread to the joblib workers.\n",
      "  warnings.warn(\n",
      "C:\\Users\\admin\\anaconda3\\lib\\site-packages\\sklearn\\utils\\parallel.py:114: UserWarning: `sklearn.utils.parallel.delayed` should be used with `sklearn.utils.parallel.Parallel` to make it possible to propagate the scikit-learn configuration of the current thread to the joblib workers.\n",
      "  warnings.warn(\n",
      "C:\\Users\\admin\\anaconda3\\lib\\site-packages\\sklearn\\utils\\parallel.py:114: UserWarning: `sklearn.utils.parallel.delayed` should be used with `sklearn.utils.parallel.Parallel` to make it possible to propagate the scikit-learn configuration of the current thread to the joblib workers.\n",
      "  warnings.warn(\n",
      "C:\\Users\\admin\\anaconda3\\lib\\site-packages\\sklearn\\utils\\parallel.py:114: UserWarning: `sklearn.utils.parallel.delayed` should be used with `sklearn.utils.parallel.Parallel` to make it possible to propagate the scikit-learn configuration of the current thread to the joblib workers.\n",
      "  warnings.warn(\n",
      "C:\\Users\\admin\\anaconda3\\lib\\site-packages\\sklearn\\utils\\parallel.py:114: UserWarning: `sklearn.utils.parallel.delayed` should be used with `sklearn.utils.parallel.Parallel` to make it possible to propagate the scikit-learn configuration of the current thread to the joblib workers.\n",
      "  warnings.warn(\n",
      "C:\\Users\\admin\\anaconda3\\lib\\site-packages\\sklearn\\utils\\parallel.py:114: UserWarning: `sklearn.utils.parallel.delayed` should be used with `sklearn.utils.parallel.Parallel` to make it possible to propagate the scikit-learn configuration of the current thread to the joblib workers.\n",
      "  warnings.warn(\n",
      "C:\\Users\\admin\\anaconda3\\lib\\site-packages\\sklearn\\utils\\parallel.py:114: UserWarning: `sklearn.utils.parallel.delayed` should be used with `sklearn.utils.parallel.Parallel` to make it possible to propagate the scikit-learn configuration of the current thread to the joblib workers.\n",
      "  warnings.warn(\n",
      "C:\\Users\\admin\\anaconda3\\lib\\site-packages\\sklearn\\utils\\deprecation.py:86: FutureWarning: Function delayed is deprecated; The function `delayed` has been moved from `sklearn.utils.fixes` to `sklearn.utils.parallel`. This import path will be removed in 1.5.\n",
      "  warnings.warn(msg, category=FutureWarning)\n",
      "C:\\Users\\admin\\anaconda3\\lib\\site-packages\\sklearn\\utils\\parallel.py:114: UserWarning: `sklearn.utils.parallel.delayed` should be used with `sklearn.utils.parallel.Parallel` to make it possible to propagate the scikit-learn configuration of the current thread to the joblib workers.\n",
      "  warnings.warn(\n",
      "C:\\Users\\admin\\anaconda3\\lib\\site-packages\\sklearn\\utils\\parallel.py:114: UserWarning: `sklearn.utils.parallel.delayed` should be used with `sklearn.utils.parallel.Parallel` to make it possible to propagate the scikit-learn configuration of the current thread to the joblib workers.\n",
      "  warnings.warn(\n",
      "C:\\Users\\admin\\anaconda3\\lib\\site-packages\\sklearn\\utils\\parallel.py:114: UserWarning: `sklearn.utils.parallel.delayed` should be used with `sklearn.utils.parallel.Parallel` to make it possible to propagate the scikit-learn configuration of the current thread to the joblib workers.\n",
      "  warnings.warn(\n",
      "C:\\Users\\admin\\anaconda3\\lib\\site-packages\\sklearn\\utils\\parallel.py:114: UserWarning: `sklearn.utils.parallel.delayed` should be used with `sklearn.utils.parallel.Parallel` to make it possible to propagate the scikit-learn configuration of the current thread to the joblib workers.\n",
      "  warnings.warn(\n",
      "C:\\Users\\admin\\anaconda3\\lib\\site-packages\\sklearn\\utils\\parallel.py:114: UserWarning: `sklearn.utils.parallel.delayed` should be used with `sklearn.utils.parallel.Parallel` to make it possible to propagate the scikit-learn configuration of the current thread to the joblib workers.\n",
      "  warnings.warn(\n",
      "C:\\Users\\admin\\anaconda3\\lib\\site-packages\\sklearn\\utils\\parallel.py:114: UserWarning: `sklearn.utils.parallel.delayed` should be used with `sklearn.utils.parallel.Parallel` to make it possible to propagate the scikit-learn configuration of the current thread to the joblib workers.\n",
      "  warnings.warn(\n",
      "C:\\Users\\admin\\anaconda3\\lib\\site-packages\\sklearn\\utils\\parallel.py:114: UserWarning: `sklearn.utils.parallel.delayed` should be used with `sklearn.utils.parallel.Parallel` to make it possible to propagate the scikit-learn configuration of the current thread to the joblib workers.\n",
      "  warnings.warn(\n",
      "C:\\Users\\admin\\anaconda3\\lib\\site-packages\\sklearn\\utils\\parallel.py:114: UserWarning: `sklearn.utils.parallel.delayed` should be used with `sklearn.utils.parallel.Parallel` to make it possible to propagate the scikit-learn configuration of the current thread to the joblib workers.\n",
      "  warnings.warn(\n",
      "C:\\Users\\admin\\anaconda3\\lib\\site-packages\\sklearn\\utils\\parallel.py:114: UserWarning: `sklearn.utils.parallel.delayed` should be used with `sklearn.utils.parallel.Parallel` to make it possible to propagate the scikit-learn configuration of the current thread to the joblib workers.\n",
      "  warnings.warn(\n",
      "C:\\Users\\admin\\anaconda3\\lib\\site-packages\\sklearn\\utils\\parallel.py:114: UserWarning: `sklearn.utils.parallel.delayed` should be used with `sklearn.utils.parallel.Parallel` to make it possible to propagate the scikit-learn configuration of the current thread to the joblib workers.\n",
      "  warnings.warn(\n",
      "C:\\Users\\admin\\anaconda3\\lib\\site-packages\\sklearn\\utils\\parallel.py:114: UserWarning: `sklearn.utils.parallel.delayed` should be used with `sklearn.utils.parallel.Parallel` to make it possible to propagate the scikit-learn configuration of the current thread to the joblib workers.\n",
      "  warnings.warn(\n",
      "C:\\Users\\admin\\anaconda3\\lib\\site-packages\\sklearn\\utils\\parallel.py:114: UserWarning: `sklearn.utils.parallel.delayed` should be used with `sklearn.utils.parallel.Parallel` to make it possible to propagate the scikit-learn configuration of the current thread to the joblib workers.\n",
      "  warnings.warn(\n",
      "C:\\Users\\admin\\anaconda3\\lib\\site-packages\\sklearn\\utils\\deprecation.py:86: FutureWarning: Function delayed is deprecated; The function `delayed` has been moved from `sklearn.utils.fixes` to `sklearn.utils.parallel`. This import path will be removed in 1.5.\n",
      "  warnings.warn(msg, category=FutureWarning)\n",
      "C:\\Users\\admin\\anaconda3\\lib\\site-packages\\sklearn\\utils\\parallel.py:114: UserWarning: `sklearn.utils.parallel.delayed` should be used with `sklearn.utils.parallel.Parallel` to make it possible to propagate the scikit-learn configuration of the current thread to the joblib workers.\n",
      "  warnings.warn(\n",
      "C:\\Users\\admin\\anaconda3\\lib\\site-packages\\sklearn\\utils\\parallel.py:114: UserWarning: `sklearn.utils.parallel.delayed` should be used with `sklearn.utils.parallel.Parallel` to make it possible to propagate the scikit-learn configuration of the current thread to the joblib workers.\n",
      "  warnings.warn(\n",
      "C:\\Users\\admin\\anaconda3\\lib\\site-packages\\sklearn\\utils\\parallel.py:114: UserWarning: `sklearn.utils.parallel.delayed` should be used with `sklearn.utils.parallel.Parallel` to make it possible to propagate the scikit-learn configuration of the current thread to the joblib workers.\n",
      "  warnings.warn(\n",
      "C:\\Users\\admin\\anaconda3\\lib\\site-packages\\sklearn\\utils\\parallel.py:114: UserWarning: `sklearn.utils.parallel.delayed` should be used with `sklearn.utils.parallel.Parallel` to make it possible to propagate the scikit-learn configuration of the current thread to the joblib workers.\n",
      "  warnings.warn(\n",
      "C:\\Users\\admin\\anaconda3\\lib\\site-packages\\sklearn\\utils\\parallel.py:114: UserWarning: `sklearn.utils.parallel.delayed` should be used with `sklearn.utils.parallel.Parallel` to make it possible to propagate the scikit-learn configuration of the current thread to the joblib workers.\n",
      "  warnings.warn(\n",
      "C:\\Users\\admin\\anaconda3\\lib\\site-packages\\sklearn\\utils\\parallel.py:114: UserWarning: `sklearn.utils.parallel.delayed` should be used with `sklearn.utils.parallel.Parallel` to make it possible to propagate the scikit-learn configuration of the current thread to the joblib workers.\n",
      "  warnings.warn(\n",
      "C:\\Users\\admin\\anaconda3\\lib\\site-packages\\sklearn\\utils\\parallel.py:114: UserWarning: `sklearn.utils.parallel.delayed` should be used with `sklearn.utils.parallel.Parallel` to make it possible to propagate the scikit-learn configuration of the current thread to the joblib workers.\n",
      "  warnings.warn(\n",
      "C:\\Users\\admin\\anaconda3\\lib\\site-packages\\sklearn\\utils\\parallel.py:114: UserWarning: `sklearn.utils.parallel.delayed` should be used with `sklearn.utils.parallel.Parallel` to make it possible to propagate the scikit-learn configuration of the current thread to the joblib workers.\n",
      "  warnings.warn(\n",
      "C:\\Users\\admin\\anaconda3\\lib\\site-packages\\sklearn\\utils\\parallel.py:114: UserWarning: `sklearn.utils.parallel.delayed` should be used with `sklearn.utils.parallel.Parallel` to make it possible to propagate the scikit-learn configuration of the current thread to the joblib workers.\n",
      "  warnings.warn(\n",
      "C:\\Users\\admin\\anaconda3\\lib\\site-packages\\sklearn\\utils\\parallel.py:114: UserWarning: `sklearn.utils.parallel.delayed` should be used with `sklearn.utils.parallel.Parallel` to make it possible to propagate the scikit-learn configuration of the current thread to the joblib workers.\n",
      "  warnings.warn(\n",
      "C:\\Users\\admin\\anaconda3\\lib\\site-packages\\sklearn\\utils\\parallel.py:114: UserWarning: `sklearn.utils.parallel.delayed` should be used with `sklearn.utils.parallel.Parallel` to make it possible to propagate the scikit-learn configuration of the current thread to the joblib workers.\n",
      "  warnings.warn(\n",
      "C:\\Users\\admin\\anaconda3\\lib\\site-packages\\sklearn\\utils\\parallel.py:114: UserWarning: `sklearn.utils.parallel.delayed` should be used with `sklearn.utils.parallel.Parallel` to make it possible to propagate the scikit-learn configuration of the current thread to the joblib workers.\n",
      "  warnings.warn(\n",
      "C:\\Users\\admin\\anaconda3\\lib\\site-packages\\sklearn\\utils\\parallel.py:114: UserWarning: `sklearn.utils.parallel.delayed` should be used with `sklearn.utils.parallel.Parallel` to make it possible to propagate the scikit-learn configuration of the current thread to the joblib workers.\n",
      "  warnings.warn(\n",
      "C:\\Users\\admin\\anaconda3\\lib\\site-packages\\sklearn\\utils\\deprecation.py:86: FutureWarning: Function delayed is deprecated; The function `delayed` has been moved from `sklearn.utils.fixes` to `sklearn.utils.parallel`. This import path will be removed in 1.5.\n",
      "  warnings.warn(msg, category=FutureWarning)\n",
      "C:\\Users\\admin\\anaconda3\\lib\\site-packages\\sklearn\\utils\\parallel.py:114: UserWarning: `sklearn.utils.parallel.delayed` should be used with `sklearn.utils.parallel.Parallel` to make it possible to propagate the scikit-learn configuration of the current thread to the joblib workers.\n",
      "  warnings.warn(\n",
      "C:\\Users\\admin\\anaconda3\\lib\\site-packages\\sklearn\\utils\\parallel.py:114: UserWarning: `sklearn.utils.parallel.delayed` should be used with `sklearn.utils.parallel.Parallel` to make it possible to propagate the scikit-learn configuration of the current thread to the joblib workers.\n",
      "  warnings.warn(\n",
      "C:\\Users\\admin\\anaconda3\\lib\\site-packages\\sklearn\\utils\\parallel.py:114: UserWarning: `sklearn.utils.parallel.delayed` should be used with `sklearn.utils.parallel.Parallel` to make it possible to propagate the scikit-learn configuration of the current thread to the joblib workers.\n",
      "  warnings.warn(\n",
      "C:\\Users\\admin\\anaconda3\\lib\\site-packages\\sklearn\\utils\\parallel.py:114: UserWarning: `sklearn.utils.parallel.delayed` should be used with `sklearn.utils.parallel.Parallel` to make it possible to propagate the scikit-learn configuration of the current thread to the joblib workers.\n",
      "  warnings.warn(\n",
      "C:\\Users\\admin\\anaconda3\\lib\\site-packages\\sklearn\\utils\\parallel.py:114: UserWarning: `sklearn.utils.parallel.delayed` should be used with `sklearn.utils.parallel.Parallel` to make it possible to propagate the scikit-learn configuration of the current thread to the joblib workers.\n",
      "  warnings.warn(\n",
      "C:\\Users\\admin\\anaconda3\\lib\\site-packages\\sklearn\\utils\\parallel.py:114: UserWarning: `sklearn.utils.parallel.delayed` should be used with `sklearn.utils.parallel.Parallel` to make it possible to propagate the scikit-learn configuration of the current thread to the joblib workers.\n",
      "  warnings.warn(\n",
      "C:\\Users\\admin\\anaconda3\\lib\\site-packages\\sklearn\\utils\\parallel.py:114: UserWarning: `sklearn.utils.parallel.delayed` should be used with `sklearn.utils.parallel.Parallel` to make it possible to propagate the scikit-learn configuration of the current thread to the joblib workers.\n",
      "  warnings.warn(\n",
      "C:\\Users\\admin\\anaconda3\\lib\\site-packages\\sklearn\\utils\\parallel.py:114: UserWarning: `sklearn.utils.parallel.delayed` should be used with `sklearn.utils.parallel.Parallel` to make it possible to propagate the scikit-learn configuration of the current thread to the joblib workers.\n",
      "  warnings.warn(\n",
      "C:\\Users\\admin\\anaconda3\\lib\\site-packages\\sklearn\\utils\\parallel.py:114: UserWarning: `sklearn.utils.parallel.delayed` should be used with `sklearn.utils.parallel.Parallel` to make it possible to propagate the scikit-learn configuration of the current thread to the joblib workers.\n",
      "  warnings.warn(\n",
      "C:\\Users\\admin\\anaconda3\\lib\\site-packages\\sklearn\\utils\\parallel.py:114: UserWarning: `sklearn.utils.parallel.delayed` should be used with `sklearn.utils.parallel.Parallel` to make it possible to propagate the scikit-learn configuration of the current thread to the joblib workers.\n",
      "  warnings.warn(\n",
      "C:\\Users\\admin\\anaconda3\\lib\\site-packages\\sklearn\\utils\\parallel.py:114: UserWarning: `sklearn.utils.parallel.delayed` should be used with `sklearn.utils.parallel.Parallel` to make it possible to propagate the scikit-learn configuration of the current thread to the joblib workers.\n",
      "  warnings.warn(\n",
      "C:\\Users\\admin\\anaconda3\\lib\\site-packages\\sklearn\\utils\\deprecation.py:86: FutureWarning: Function delayed is deprecated; The function `delayed` has been moved from `sklearn.utils.fixes` to `sklearn.utils.parallel`. This import path will be removed in 1.5.\n",
      "  warnings.warn(msg, category=FutureWarning)\n",
      "C:\\Users\\admin\\anaconda3\\lib\\site-packages\\sklearn\\utils\\parallel.py:114: UserWarning: `sklearn.utils.parallel.delayed` should be used with `sklearn.utils.parallel.Parallel` to make it possible to propagate the scikit-learn configuration of the current thread to the joblib workers.\n",
      "  warnings.warn(\n",
      "C:\\Users\\admin\\anaconda3\\lib\\site-packages\\sklearn\\utils\\parallel.py:114: UserWarning: `sklearn.utils.parallel.delayed` should be used with `sklearn.utils.parallel.Parallel` to make it possible to propagate the scikit-learn configuration of the current thread to the joblib workers.\n",
      "  warnings.warn(\n",
      "C:\\Users\\admin\\anaconda3\\lib\\site-packages\\sklearn\\utils\\parallel.py:114: UserWarning: `sklearn.utils.parallel.delayed` should be used with `sklearn.utils.parallel.Parallel` to make it possible to propagate the scikit-learn configuration of the current thread to the joblib workers.\n",
      "  warnings.warn(\n",
      "C:\\Users\\admin\\anaconda3\\lib\\site-packages\\sklearn\\utils\\parallel.py:114: UserWarning: `sklearn.utils.parallel.delayed` should be used with `sklearn.utils.parallel.Parallel` to make it possible to propagate the scikit-learn configuration of the current thread to the joblib workers.\n",
      "  warnings.warn(\n",
      "C:\\Users\\admin\\anaconda3\\lib\\site-packages\\sklearn\\utils\\parallel.py:114: UserWarning: `sklearn.utils.parallel.delayed` should be used with `sklearn.utils.parallel.Parallel` to make it possible to propagate the scikit-learn configuration of the current thread to the joblib workers.\n",
      "  warnings.warn(\n",
      "C:\\Users\\admin\\anaconda3\\lib\\site-packages\\sklearn\\utils\\parallel.py:114: UserWarning: `sklearn.utils.parallel.delayed` should be used with `sklearn.utils.parallel.Parallel` to make it possible to propagate the scikit-learn configuration of the current thread to the joblib workers.\n",
      "  warnings.warn(\n",
      "C:\\Users\\admin\\anaconda3\\lib\\site-packages\\sklearn\\utils\\parallel.py:114: UserWarning: `sklearn.utils.parallel.delayed` should be used with `sklearn.utils.parallel.Parallel` to make it possible to propagate the scikit-learn configuration of the current thread to the joblib workers.\n",
      "  warnings.warn(\n",
      "C:\\Users\\admin\\anaconda3\\lib\\site-packages\\sklearn\\utils\\parallel.py:114: UserWarning: `sklearn.utils.parallel.delayed` should be used with `sklearn.utils.parallel.Parallel` to make it possible to propagate the scikit-learn configuration of the current thread to the joblib workers.\n",
      "  warnings.warn(\n",
      "C:\\Users\\admin\\anaconda3\\lib\\site-packages\\sklearn\\utils\\parallel.py:114: UserWarning: `sklearn.utils.parallel.delayed` should be used with `sklearn.utils.parallel.Parallel` to make it possible to propagate the scikit-learn configuration of the current thread to the joblib workers.\n",
      "  warnings.warn(\n",
      "C:\\Users\\admin\\anaconda3\\lib\\site-packages\\sklearn\\utils\\parallel.py:114: UserWarning: `sklearn.utils.parallel.delayed` should be used with `sklearn.utils.parallel.Parallel` to make it possible to propagate the scikit-learn configuration of the current thread to the joblib workers.\n",
      "  warnings.warn(\n",
      "C:\\Users\\admin\\anaconda3\\lib\\site-packages\\sklearn\\utils\\parallel.py:114: UserWarning: `sklearn.utils.parallel.delayed` should be used with `sklearn.utils.parallel.Parallel` to make it possible to propagate the scikit-learn configuration of the current thread to the joblib workers.\n",
      "  warnings.warn(\n",
      "C:\\Users\\admin\\anaconda3\\lib\\site-packages\\sklearn\\utils\\parallel.py:114: UserWarning: `sklearn.utils.parallel.delayed` should be used with `sklearn.utils.parallel.Parallel` to make it possible to propagate the scikit-learn configuration of the current thread to the joblib workers.\n",
      "  warnings.warn(\n",
      "C:\\Users\\admin\\anaconda3\\lib\\site-packages\\sklearn\\utils\\deprecation.py:86: FutureWarning: Function delayed is deprecated; The function `delayed` has been moved from `sklearn.utils.fixes` to `sklearn.utils.parallel`. This import path will be removed in 1.5.\n",
      "  warnings.warn(msg, category=FutureWarning)\n",
      "C:\\Users\\admin\\anaconda3\\lib\\site-packages\\sklearn\\utils\\parallel.py:114: UserWarning: `sklearn.utils.parallel.delayed` should be used with `sklearn.utils.parallel.Parallel` to make it possible to propagate the scikit-learn configuration of the current thread to the joblib workers.\n",
      "  warnings.warn(\n",
      "C:\\Users\\admin\\anaconda3\\lib\\site-packages\\sklearn\\utils\\parallel.py:114: UserWarning: `sklearn.utils.parallel.delayed` should be used with `sklearn.utils.parallel.Parallel` to make it possible to propagate the scikit-learn configuration of the current thread to the joblib workers.\n",
      "  warnings.warn(\n",
      "C:\\Users\\admin\\anaconda3\\lib\\site-packages\\sklearn\\utils\\parallel.py:114: UserWarning: `sklearn.utils.parallel.delayed` should be used with `sklearn.utils.parallel.Parallel` to make it possible to propagate the scikit-learn configuration of the current thread to the joblib workers.\n",
      "  warnings.warn(\n",
      "C:\\Users\\admin\\anaconda3\\lib\\site-packages\\sklearn\\utils\\parallel.py:114: UserWarning: `sklearn.utils.parallel.delayed` should be used with `sklearn.utils.parallel.Parallel` to make it possible to propagate the scikit-learn configuration of the current thread to the joblib workers.\n",
      "  warnings.warn(\n",
      "C:\\Users\\admin\\anaconda3\\lib\\site-packages\\sklearn\\utils\\parallel.py:114: UserWarning: `sklearn.utils.parallel.delayed` should be used with `sklearn.utils.parallel.Parallel` to make it possible to propagate the scikit-learn configuration of the current thread to the joblib workers.\n",
      "  warnings.warn(\n",
      "C:\\Users\\admin\\anaconda3\\lib\\site-packages\\sklearn\\utils\\parallel.py:114: UserWarning: `sklearn.utils.parallel.delayed` should be used with `sklearn.utils.parallel.Parallel` to make it possible to propagate the scikit-learn configuration of the current thread to the joblib workers.\n",
      "  warnings.warn(\n",
      "C:\\Users\\admin\\anaconda3\\lib\\site-packages\\sklearn\\utils\\parallel.py:114: UserWarning: `sklearn.utils.parallel.delayed` should be used with `sklearn.utils.parallel.Parallel` to make it possible to propagate the scikit-learn configuration of the current thread to the joblib workers.\n",
      "  warnings.warn(\n",
      "C:\\Users\\admin\\anaconda3\\lib\\site-packages\\sklearn\\utils\\parallel.py:114: UserWarning: `sklearn.utils.parallel.delayed` should be used with `sklearn.utils.parallel.Parallel` to make it possible to propagate the scikit-learn configuration of the current thread to the joblib workers.\n",
      "  warnings.warn(\n",
      "C:\\Users\\admin\\anaconda3\\lib\\site-packages\\sklearn\\utils\\parallel.py:114: UserWarning: `sklearn.utils.parallel.delayed` should be used with `sklearn.utils.parallel.Parallel` to make it possible to propagate the scikit-learn configuration of the current thread to the joblib workers.\n",
      "  warnings.warn(\n",
      "C:\\Users\\admin\\anaconda3\\lib\\site-packages\\sklearn\\utils\\parallel.py:114: UserWarning: `sklearn.utils.parallel.delayed` should be used with `sklearn.utils.parallel.Parallel` to make it possible to propagate the scikit-learn configuration of the current thread to the joblib workers.\n",
      "  warnings.warn(\n",
      "C:\\Users\\admin\\anaconda3\\lib\\site-packages\\sklearn\\utils\\parallel.py:114: UserWarning: `sklearn.utils.parallel.delayed` should be used with `sklearn.utils.parallel.Parallel` to make it possible to propagate the scikit-learn configuration of the current thread to the joblib workers.\n",
      "  warnings.warn(\n",
      "C:\\Users\\admin\\anaconda3\\lib\\site-packages\\sklearn\\utils\\parallel.py:114: UserWarning: `sklearn.utils.parallel.delayed` should be used with `sklearn.utils.parallel.Parallel` to make it possible to propagate the scikit-learn configuration of the current thread to the joblib workers.\n",
      "  warnings.warn(\n",
      "C:\\Users\\admin\\anaconda3\\lib\\site-packages\\sklearn\\utils\\parallel.py:114: UserWarning: `sklearn.utils.parallel.delayed` should be used with `sklearn.utils.parallel.Parallel` to make it possible to propagate the scikit-learn configuration of the current thread to the joblib workers.\n",
      "  warnings.warn(\n",
      "C:\\Users\\admin\\anaconda3\\lib\\site-packages\\sklearn\\utils\\parallel.py:114: UserWarning: `sklearn.utils.parallel.delayed` should be used with `sklearn.utils.parallel.Parallel` to make it possible to propagate the scikit-learn configuration of the current thread to the joblib workers.\n",
      "  warnings.warn(\n"
     ]
    }
   ],
   "source": [
    "# BASE\n",
    "brf.fit(X_train_base, y_train_base)\n",
    "add_to_eval_df(brf, \"BalancedRandomForest\", \"BALANCED base\", X_train_base, y_train_base, X_test_base, y_test_base)"
   ],
   "metadata": {
    "collapsed": false,
    "ExecuteTime": {
     "end_time": "2024-11-14T16:26:51.314122900Z",
     "start_time": "2024-11-14T16:26:49.411690200Z"
    }
   }
  },
  {
   "cell_type": "code",
   "execution_count": 66,
   "outputs": [
    {
     "name": "stderr",
     "output_type": "stream",
     "text": [
      "C:\\Users\\admin\\anaconda3\\lib\\site-packages\\sklearn\\utils\\deprecation.py:86: FutureWarning: Function delayed is deprecated; The function `delayed` has been moved from `sklearn.utils.fixes` to `sklearn.utils.parallel`. This import path will be removed in 1.5.\n",
      "  warnings.warn(msg, category=FutureWarning)\n",
      "C:\\Users\\admin\\anaconda3\\lib\\site-packages\\sklearn\\utils\\parallel.py:114: UserWarning: `sklearn.utils.parallel.delayed` should be used with `sklearn.utils.parallel.Parallel` to make it possible to propagate the scikit-learn configuration of the current thread to the joblib workers.\n",
      "  warnings.warn(\n",
      "C:\\Users\\admin\\anaconda3\\lib\\site-packages\\sklearn\\utils\\parallel.py:114: UserWarning: `sklearn.utils.parallel.delayed` should be used with `sklearn.utils.parallel.Parallel` to make it possible to propagate the scikit-learn configuration of the current thread to the joblib workers.\n",
      "  warnings.warn(\n",
      "C:\\Users\\admin\\anaconda3\\lib\\site-packages\\sklearn\\utils\\parallel.py:114: UserWarning: `sklearn.utils.parallel.delayed` should be used with `sklearn.utils.parallel.Parallel` to make it possible to propagate the scikit-learn configuration of the current thread to the joblib workers.\n",
      "  warnings.warn(\n",
      "C:\\Users\\admin\\anaconda3\\lib\\site-packages\\sklearn\\utils\\parallel.py:114: UserWarning: `sklearn.utils.parallel.delayed` should be used with `sklearn.utils.parallel.Parallel` to make it possible to propagate the scikit-learn configuration of the current thread to the joblib workers.\n",
      "  warnings.warn(\n",
      "C:\\Users\\admin\\anaconda3\\lib\\site-packages\\sklearn\\utils\\parallel.py:114: UserWarning: `sklearn.utils.parallel.delayed` should be used with `sklearn.utils.parallel.Parallel` to make it possible to propagate the scikit-learn configuration of the current thread to the joblib workers.\n",
      "  warnings.warn(\n",
      "C:\\Users\\admin\\anaconda3\\lib\\site-packages\\sklearn\\utils\\parallel.py:114: UserWarning: `sklearn.utils.parallel.delayed` should be used with `sklearn.utils.parallel.Parallel` to make it possible to propagate the scikit-learn configuration of the current thread to the joblib workers.\n",
      "  warnings.warn(\n",
      "C:\\Users\\admin\\anaconda3\\lib\\site-packages\\sklearn\\utils\\parallel.py:114: UserWarning: `sklearn.utils.parallel.delayed` should be used with `sklearn.utils.parallel.Parallel` to make it possible to propagate the scikit-learn configuration of the current thread to the joblib workers.\n",
      "  warnings.warn(\n",
      "C:\\Users\\admin\\anaconda3\\lib\\site-packages\\sklearn\\utils\\parallel.py:114: UserWarning: `sklearn.utils.parallel.delayed` should be used with `sklearn.utils.parallel.Parallel` to make it possible to propagate the scikit-learn configuration of the current thread to the joblib workers.\n",
      "  warnings.warn(\n",
      "C:\\Users\\admin\\anaconda3\\lib\\site-packages\\sklearn\\utils\\parallel.py:114: UserWarning: `sklearn.utils.parallel.delayed` should be used with `sklearn.utils.parallel.Parallel` to make it possible to propagate the scikit-learn configuration of the current thread to the joblib workers.\n",
      "  warnings.warn(\n",
      "C:\\Users\\admin\\anaconda3\\lib\\site-packages\\sklearn\\utils\\parallel.py:114: UserWarning: `sklearn.utils.parallel.delayed` should be used with `sklearn.utils.parallel.Parallel` to make it possible to propagate the scikit-learn configuration of the current thread to the joblib workers.\n",
      "  warnings.warn(\n",
      "C:\\Users\\admin\\anaconda3\\lib\\site-packages\\sklearn\\utils\\parallel.py:114: UserWarning: `sklearn.utils.parallel.delayed` should be used with `sklearn.utils.parallel.Parallel` to make it possible to propagate the scikit-learn configuration of the current thread to the joblib workers.\n",
      "  warnings.warn(\n",
      "C:\\Users\\admin\\anaconda3\\lib\\site-packages\\sklearn\\utils\\parallel.py:114: UserWarning: `sklearn.utils.parallel.delayed` should be used with `sklearn.utils.parallel.Parallel` to make it possible to propagate the scikit-learn configuration of the current thread to the joblib workers.\n",
      "  warnings.warn(\n",
      "C:\\Users\\admin\\anaconda3\\lib\\site-packages\\sklearn\\utils\\parallel.py:114: UserWarning: `sklearn.utils.parallel.delayed` should be used with `sklearn.utils.parallel.Parallel` to make it possible to propagate the scikit-learn configuration of the current thread to the joblib workers.\n",
      "  warnings.warn(\n",
      "C:\\Users\\admin\\anaconda3\\lib\\site-packages\\sklearn\\utils\\deprecation.py:86: FutureWarning: Function delayed is deprecated; The function `delayed` has been moved from `sklearn.utils.fixes` to `sklearn.utils.parallel`. This import path will be removed in 1.5.\n",
      "  warnings.warn(msg, category=FutureWarning)\n",
      "C:\\Users\\admin\\anaconda3\\lib\\site-packages\\sklearn\\utils\\parallel.py:114: UserWarning: `sklearn.utils.parallel.delayed` should be used with `sklearn.utils.parallel.Parallel` to make it possible to propagate the scikit-learn configuration of the current thread to the joblib workers.\n",
      "  warnings.warn(\n",
      "C:\\Users\\admin\\anaconda3\\lib\\site-packages\\sklearn\\utils\\parallel.py:114: UserWarning: `sklearn.utils.parallel.delayed` should be used with `sklearn.utils.parallel.Parallel` to make it possible to propagate the scikit-learn configuration of the current thread to the joblib workers.\n",
      "  warnings.warn(\n",
      "C:\\Users\\admin\\anaconda3\\lib\\site-packages\\sklearn\\utils\\parallel.py:114: UserWarning: `sklearn.utils.parallel.delayed` should be used with `sklearn.utils.parallel.Parallel` to make it possible to propagate the scikit-learn configuration of the current thread to the joblib workers.\n",
      "  warnings.warn(\n",
      "C:\\Users\\admin\\anaconda3\\lib\\site-packages\\sklearn\\utils\\parallel.py:114: UserWarning: `sklearn.utils.parallel.delayed` should be used with `sklearn.utils.parallel.Parallel` to make it possible to propagate the scikit-learn configuration of the current thread to the joblib workers.\n",
      "  warnings.warn(\n",
      "C:\\Users\\admin\\anaconda3\\lib\\site-packages\\sklearn\\utils\\parallel.py:114: UserWarning: `sklearn.utils.parallel.delayed` should be used with `sklearn.utils.parallel.Parallel` to make it possible to propagate the scikit-learn configuration of the current thread to the joblib workers.\n",
      "  warnings.warn(\n",
      "C:\\Users\\admin\\anaconda3\\lib\\site-packages\\sklearn\\utils\\parallel.py:114: UserWarning: `sklearn.utils.parallel.delayed` should be used with `sklearn.utils.parallel.Parallel` to make it possible to propagate the scikit-learn configuration of the current thread to the joblib workers.\n",
      "  warnings.warn(\n",
      "C:\\Users\\admin\\anaconda3\\lib\\site-packages\\sklearn\\utils\\parallel.py:114: UserWarning: `sklearn.utils.parallel.delayed` should be used with `sklearn.utils.parallel.Parallel` to make it possible to propagate the scikit-learn configuration of the current thread to the joblib workers.\n",
      "  warnings.warn(\n",
      "C:\\Users\\admin\\anaconda3\\lib\\site-packages\\sklearn\\utils\\parallel.py:114: UserWarning: `sklearn.utils.parallel.delayed` should be used with `sklearn.utils.parallel.Parallel` to make it possible to propagate the scikit-learn configuration of the current thread to the joblib workers.\n",
      "  warnings.warn(\n",
      "C:\\Users\\admin\\anaconda3\\lib\\site-packages\\sklearn\\utils\\parallel.py:114: UserWarning: `sklearn.utils.parallel.delayed` should be used with `sklearn.utils.parallel.Parallel` to make it possible to propagate the scikit-learn configuration of the current thread to the joblib workers.\n",
      "  warnings.warn(\n",
      "C:\\Users\\admin\\anaconda3\\lib\\site-packages\\sklearn\\utils\\parallel.py:114: UserWarning: `sklearn.utils.parallel.delayed` should be used with `sklearn.utils.parallel.Parallel` to make it possible to propagate the scikit-learn configuration of the current thread to the joblib workers.\n",
      "  warnings.warn(\n",
      "C:\\Users\\admin\\anaconda3\\lib\\site-packages\\sklearn\\utils\\parallel.py:114: UserWarning: `sklearn.utils.parallel.delayed` should be used with `sklearn.utils.parallel.Parallel` to make it possible to propagate the scikit-learn configuration of the current thread to the joblib workers.\n",
      "  warnings.warn(\n",
      "C:\\Users\\admin\\anaconda3\\lib\\site-packages\\sklearn\\utils\\parallel.py:114: UserWarning: `sklearn.utils.parallel.delayed` should be used with `sklearn.utils.parallel.Parallel` to make it possible to propagate the scikit-learn configuration of the current thread to the joblib workers.\n",
      "  warnings.warn(\n",
      "C:\\Users\\admin\\anaconda3\\lib\\site-packages\\sklearn\\utils\\deprecation.py:86: FutureWarning: Function delayed is deprecated; The function `delayed` has been moved from `sklearn.utils.fixes` to `sklearn.utils.parallel`. This import path will be removed in 1.5.\n",
      "  warnings.warn(msg, category=FutureWarning)\n",
      "C:\\Users\\admin\\anaconda3\\lib\\site-packages\\sklearn\\utils\\parallel.py:114: UserWarning: `sklearn.utils.parallel.delayed` should be used with `sklearn.utils.parallel.Parallel` to make it possible to propagate the scikit-learn configuration of the current thread to the joblib workers.\n",
      "  warnings.warn(\n",
      "C:\\Users\\admin\\anaconda3\\lib\\site-packages\\sklearn\\utils\\parallel.py:114: UserWarning: `sklearn.utils.parallel.delayed` should be used with `sklearn.utils.parallel.Parallel` to make it possible to propagate the scikit-learn configuration of the current thread to the joblib workers.\n",
      "  warnings.warn(\n",
      "C:\\Users\\admin\\anaconda3\\lib\\site-packages\\sklearn\\utils\\parallel.py:114: UserWarning: `sklearn.utils.parallel.delayed` should be used with `sklearn.utils.parallel.Parallel` to make it possible to propagate the scikit-learn configuration of the current thread to the joblib workers.\n",
      "  warnings.warn(\n",
      "C:\\Users\\admin\\anaconda3\\lib\\site-packages\\sklearn\\utils\\parallel.py:114: UserWarning: `sklearn.utils.parallel.delayed` should be used with `sklearn.utils.parallel.Parallel` to make it possible to propagate the scikit-learn configuration of the current thread to the joblib workers.\n",
      "  warnings.warn(\n",
      "C:\\Users\\admin\\anaconda3\\lib\\site-packages\\sklearn\\utils\\parallel.py:114: UserWarning: `sklearn.utils.parallel.delayed` should be used with `sklearn.utils.parallel.Parallel` to make it possible to propagate the scikit-learn configuration of the current thread to the joblib workers.\n",
      "  warnings.warn(\n",
      "C:\\Users\\admin\\anaconda3\\lib\\site-packages\\sklearn\\utils\\parallel.py:114: UserWarning: `sklearn.utils.parallel.delayed` should be used with `sklearn.utils.parallel.Parallel` to make it possible to propagate the scikit-learn configuration of the current thread to the joblib workers.\n",
      "  warnings.warn(\n",
      "C:\\Users\\admin\\anaconda3\\lib\\site-packages\\sklearn\\utils\\parallel.py:114: UserWarning: `sklearn.utils.parallel.delayed` should be used with `sklearn.utils.parallel.Parallel` to make it possible to propagate the scikit-learn configuration of the current thread to the joblib workers.\n",
      "  warnings.warn(\n",
      "C:\\Users\\admin\\anaconda3\\lib\\site-packages\\sklearn\\utils\\parallel.py:114: UserWarning: `sklearn.utils.parallel.delayed` should be used with `sklearn.utils.parallel.Parallel` to make it possible to propagate the scikit-learn configuration of the current thread to the joblib workers.\n",
      "  warnings.warn(\n",
      "C:\\Users\\admin\\anaconda3\\lib\\site-packages\\sklearn\\utils\\parallel.py:114: UserWarning: `sklearn.utils.parallel.delayed` should be used with `sklearn.utils.parallel.Parallel` to make it possible to propagate the scikit-learn configuration of the current thread to the joblib workers.\n",
      "  warnings.warn(\n",
      "C:\\Users\\admin\\anaconda3\\lib\\site-packages\\sklearn\\utils\\parallel.py:114: UserWarning: `sklearn.utils.parallel.delayed` should be used with `sklearn.utils.parallel.Parallel` to make it possible to propagate the scikit-learn configuration of the current thread to the joblib workers.\n",
      "  warnings.warn(\n",
      "C:\\Users\\admin\\anaconda3\\lib\\site-packages\\sklearn\\utils\\parallel.py:114: UserWarning: `sklearn.utils.parallel.delayed` should be used with `sklearn.utils.parallel.Parallel` to make it possible to propagate the scikit-learn configuration of the current thread to the joblib workers.\n",
      "  warnings.warn(\n",
      "C:\\Users\\admin\\anaconda3\\lib\\site-packages\\sklearn\\utils\\parallel.py:114: UserWarning: `sklearn.utils.parallel.delayed` should be used with `sklearn.utils.parallel.Parallel` to make it possible to propagate the scikit-learn configuration of the current thread to the joblib workers.\n",
      "  warnings.warn(\n",
      "C:\\Users\\admin\\anaconda3\\lib\\site-packages\\sklearn\\utils\\deprecation.py:86: FutureWarning: Function delayed is deprecated; The function `delayed` has been moved from `sklearn.utils.fixes` to `sklearn.utils.parallel`. This import path will be removed in 1.5.\n",
      "  warnings.warn(msg, category=FutureWarning)\n",
      "C:\\Users\\admin\\anaconda3\\lib\\site-packages\\sklearn\\utils\\parallel.py:114: UserWarning: `sklearn.utils.parallel.delayed` should be used with `sklearn.utils.parallel.Parallel` to make it possible to propagate the scikit-learn configuration of the current thread to the joblib workers.\n",
      "  warnings.warn(\n",
      "C:\\Users\\admin\\anaconda3\\lib\\site-packages\\sklearn\\utils\\parallel.py:114: UserWarning: `sklearn.utils.parallel.delayed` should be used with `sklearn.utils.parallel.Parallel` to make it possible to propagate the scikit-learn configuration of the current thread to the joblib workers.\n",
      "  warnings.warn(\n",
      "C:\\Users\\admin\\anaconda3\\lib\\site-packages\\sklearn\\utils\\parallel.py:114: UserWarning: `sklearn.utils.parallel.delayed` should be used with `sklearn.utils.parallel.Parallel` to make it possible to propagate the scikit-learn configuration of the current thread to the joblib workers.\n",
      "  warnings.warn(\n",
      "C:\\Users\\admin\\anaconda3\\lib\\site-packages\\sklearn\\utils\\parallel.py:114: UserWarning: `sklearn.utils.parallel.delayed` should be used with `sklearn.utils.parallel.Parallel` to make it possible to propagate the scikit-learn configuration of the current thread to the joblib workers.\n",
      "  warnings.warn(\n",
      "C:\\Users\\admin\\anaconda3\\lib\\site-packages\\sklearn\\utils\\parallel.py:114: UserWarning: `sklearn.utils.parallel.delayed` should be used with `sklearn.utils.parallel.Parallel` to make it possible to propagate the scikit-learn configuration of the current thread to the joblib workers.\n",
      "  warnings.warn(\n",
      "C:\\Users\\admin\\anaconda3\\lib\\site-packages\\sklearn\\utils\\parallel.py:114: UserWarning: `sklearn.utils.parallel.delayed` should be used with `sklearn.utils.parallel.Parallel` to make it possible to propagate the scikit-learn configuration of the current thread to the joblib workers.\n",
      "  warnings.warn(\n",
      "C:\\Users\\admin\\anaconda3\\lib\\site-packages\\sklearn\\utils\\parallel.py:114: UserWarning: `sklearn.utils.parallel.delayed` should be used with `sklearn.utils.parallel.Parallel` to make it possible to propagate the scikit-learn configuration of the current thread to the joblib workers.\n",
      "  warnings.warn(\n",
      "C:\\Users\\admin\\anaconda3\\lib\\site-packages\\sklearn\\utils\\parallel.py:114: UserWarning: `sklearn.utils.parallel.delayed` should be used with `sklearn.utils.parallel.Parallel` to make it possible to propagate the scikit-learn configuration of the current thread to the joblib workers.\n",
      "  warnings.warn(\n",
      "C:\\Users\\admin\\anaconda3\\lib\\site-packages\\sklearn\\utils\\parallel.py:114: UserWarning: `sklearn.utils.parallel.delayed` should be used with `sklearn.utils.parallel.Parallel` to make it possible to propagate the scikit-learn configuration of the current thread to the joblib workers.\n",
      "  warnings.warn(\n",
      "C:\\Users\\admin\\anaconda3\\lib\\site-packages\\sklearn\\utils\\parallel.py:114: UserWarning: `sklearn.utils.parallel.delayed` should be used with `sklearn.utils.parallel.Parallel` to make it possible to propagate the scikit-learn configuration of the current thread to the joblib workers.\n",
      "  warnings.warn(\n",
      "C:\\Users\\admin\\anaconda3\\lib\\site-packages\\sklearn\\utils\\parallel.py:114: UserWarning: `sklearn.utils.parallel.delayed` should be used with `sklearn.utils.parallel.Parallel` to make it possible to propagate the scikit-learn configuration of the current thread to the joblib workers.\n",
      "  warnings.warn(\n",
      "C:\\Users\\admin\\anaconda3\\lib\\site-packages\\sklearn\\utils\\parallel.py:114: UserWarning: `sklearn.utils.parallel.delayed` should be used with `sklearn.utils.parallel.Parallel` to make it possible to propagate the scikit-learn configuration of the current thread to the joblib workers.\n",
      "  warnings.warn(\n",
      "C:\\Users\\admin\\anaconda3\\lib\\site-packages\\sklearn\\utils\\deprecation.py:86: FutureWarning: Function delayed is deprecated; The function `delayed` has been moved from `sklearn.utils.fixes` to `sklearn.utils.parallel`. This import path will be removed in 1.5.\n",
      "  warnings.warn(msg, category=FutureWarning)\n",
      "C:\\Users\\admin\\anaconda3\\lib\\site-packages\\sklearn\\utils\\parallel.py:114: UserWarning: `sklearn.utils.parallel.delayed` should be used with `sklearn.utils.parallel.Parallel` to make it possible to propagate the scikit-learn configuration of the current thread to the joblib workers.\n",
      "  warnings.warn(\n",
      "C:\\Users\\admin\\anaconda3\\lib\\site-packages\\sklearn\\utils\\parallel.py:114: UserWarning: `sklearn.utils.parallel.delayed` should be used with `sklearn.utils.parallel.Parallel` to make it possible to propagate the scikit-learn configuration of the current thread to the joblib workers.\n",
      "  warnings.warn(\n",
      "C:\\Users\\admin\\anaconda3\\lib\\site-packages\\sklearn\\utils\\parallel.py:114: UserWarning: `sklearn.utils.parallel.delayed` should be used with `sklearn.utils.parallel.Parallel` to make it possible to propagate the scikit-learn configuration of the current thread to the joblib workers.\n",
      "  warnings.warn(\n",
      "C:\\Users\\admin\\anaconda3\\lib\\site-packages\\sklearn\\utils\\parallel.py:114: UserWarning: `sklearn.utils.parallel.delayed` should be used with `sklearn.utils.parallel.Parallel` to make it possible to propagate the scikit-learn configuration of the current thread to the joblib workers.\n",
      "  warnings.warn(\n",
      "C:\\Users\\admin\\anaconda3\\lib\\site-packages\\sklearn\\utils\\parallel.py:114: UserWarning: `sklearn.utils.parallel.delayed` should be used with `sklearn.utils.parallel.Parallel` to make it possible to propagate the scikit-learn configuration of the current thread to the joblib workers.\n",
      "  warnings.warn(\n",
      "C:\\Users\\admin\\anaconda3\\lib\\site-packages\\sklearn\\utils\\parallel.py:114: UserWarning: `sklearn.utils.parallel.delayed` should be used with `sklearn.utils.parallel.Parallel` to make it possible to propagate the scikit-learn configuration of the current thread to the joblib workers.\n",
      "  warnings.warn(\n",
      "C:\\Users\\admin\\anaconda3\\lib\\site-packages\\sklearn\\utils\\parallel.py:114: UserWarning: `sklearn.utils.parallel.delayed` should be used with `sklearn.utils.parallel.Parallel` to make it possible to propagate the scikit-learn configuration of the current thread to the joblib workers.\n",
      "  warnings.warn(\n",
      "C:\\Users\\admin\\anaconda3\\lib\\site-packages\\sklearn\\utils\\parallel.py:114: UserWarning: `sklearn.utils.parallel.delayed` should be used with `sklearn.utils.parallel.Parallel` to make it possible to propagate the scikit-learn configuration of the current thread to the joblib workers.\n",
      "  warnings.warn(\n",
      "C:\\Users\\admin\\anaconda3\\lib\\site-packages\\sklearn\\utils\\parallel.py:114: UserWarning: `sklearn.utils.parallel.delayed` should be used with `sklearn.utils.parallel.Parallel` to make it possible to propagate the scikit-learn configuration of the current thread to the joblib workers.\n",
      "  warnings.warn(\n",
      "C:\\Users\\admin\\anaconda3\\lib\\site-packages\\sklearn\\utils\\parallel.py:114: UserWarning: `sklearn.utils.parallel.delayed` should be used with `sklearn.utils.parallel.Parallel` to make it possible to propagate the scikit-learn configuration of the current thread to the joblib workers.\n",
      "  warnings.warn(\n",
      "C:\\Users\\admin\\anaconda3\\lib\\site-packages\\sklearn\\utils\\parallel.py:114: UserWarning: `sklearn.utils.parallel.delayed` should be used with `sklearn.utils.parallel.Parallel` to make it possible to propagate the scikit-learn configuration of the current thread to the joblib workers.\n",
      "  warnings.warn(\n",
      "C:\\Users\\admin\\anaconda3\\lib\\site-packages\\sklearn\\utils\\parallel.py:114: UserWarning: `sklearn.utils.parallel.delayed` should be used with `sklearn.utils.parallel.Parallel` to make it possible to propagate the scikit-learn configuration of the current thread to the joblib workers.\n",
      "  warnings.warn(\n",
      "C:\\Users\\admin\\anaconda3\\lib\\site-packages\\sklearn\\utils\\deprecation.py:86: FutureWarning: Function delayed is deprecated; The function `delayed` has been moved from `sklearn.utils.fixes` to `sklearn.utils.parallel`. This import path will be removed in 1.5.\n",
      "  warnings.warn(msg, category=FutureWarning)\n",
      "C:\\Users\\admin\\anaconda3\\lib\\site-packages\\sklearn\\utils\\parallel.py:114: UserWarning: `sklearn.utils.parallel.delayed` should be used with `sklearn.utils.parallel.Parallel` to make it possible to propagate the scikit-learn configuration of the current thread to the joblib workers.\n",
      "  warnings.warn(\n",
      "C:\\Users\\admin\\anaconda3\\lib\\site-packages\\sklearn\\utils\\parallel.py:114: UserWarning: `sklearn.utils.parallel.delayed` should be used with `sklearn.utils.parallel.Parallel` to make it possible to propagate the scikit-learn configuration of the current thread to the joblib workers.\n",
      "  warnings.warn(\n",
      "C:\\Users\\admin\\anaconda3\\lib\\site-packages\\sklearn\\utils\\parallel.py:114: UserWarning: `sklearn.utils.parallel.delayed` should be used with `sklearn.utils.parallel.Parallel` to make it possible to propagate the scikit-learn configuration of the current thread to the joblib workers.\n",
      "  warnings.warn(\n",
      "C:\\Users\\admin\\anaconda3\\lib\\site-packages\\sklearn\\utils\\parallel.py:114: UserWarning: `sklearn.utils.parallel.delayed` should be used with `sklearn.utils.parallel.Parallel` to make it possible to propagate the scikit-learn configuration of the current thread to the joblib workers.\n",
      "  warnings.warn(\n",
      "C:\\Users\\admin\\anaconda3\\lib\\site-packages\\sklearn\\utils\\parallel.py:114: UserWarning: `sklearn.utils.parallel.delayed` should be used with `sklearn.utils.parallel.Parallel` to make it possible to propagate the scikit-learn configuration of the current thread to the joblib workers.\n",
      "  warnings.warn(\n",
      "C:\\Users\\admin\\anaconda3\\lib\\site-packages\\sklearn\\utils\\parallel.py:114: UserWarning: `sklearn.utils.parallel.delayed` should be used with `sklearn.utils.parallel.Parallel` to make it possible to propagate the scikit-learn configuration of the current thread to the joblib workers.\n",
      "  warnings.warn(\n",
      "C:\\Users\\admin\\anaconda3\\lib\\site-packages\\sklearn\\utils\\parallel.py:114: UserWarning: `sklearn.utils.parallel.delayed` should be used with `sklearn.utils.parallel.Parallel` to make it possible to propagate the scikit-learn configuration of the current thread to the joblib workers.\n",
      "  warnings.warn(\n",
      "C:\\Users\\admin\\anaconda3\\lib\\site-packages\\sklearn\\utils\\parallel.py:114: UserWarning: `sklearn.utils.parallel.delayed` should be used with `sklearn.utils.parallel.Parallel` to make it possible to propagate the scikit-learn configuration of the current thread to the joblib workers.\n",
      "  warnings.warn(\n",
      "C:\\Users\\admin\\anaconda3\\lib\\site-packages\\sklearn\\utils\\parallel.py:114: UserWarning: `sklearn.utils.parallel.delayed` should be used with `sklearn.utils.parallel.Parallel` to make it possible to propagate the scikit-learn configuration of the current thread to the joblib workers.\n",
      "  warnings.warn(\n",
      "C:\\Users\\admin\\anaconda3\\lib\\site-packages\\sklearn\\utils\\parallel.py:114: UserWarning: `sklearn.utils.parallel.delayed` should be used with `sklearn.utils.parallel.Parallel` to make it possible to propagate the scikit-learn configuration of the current thread to the joblib workers.\n",
      "  warnings.warn(\n",
      "C:\\Users\\admin\\anaconda3\\lib\\site-packages\\sklearn\\utils\\parallel.py:114: UserWarning: `sklearn.utils.parallel.delayed` should be used with `sklearn.utils.parallel.Parallel` to make it possible to propagate the scikit-learn configuration of the current thread to the joblib workers.\n",
      "  warnings.warn(\n",
      "C:\\Users\\admin\\anaconda3\\lib\\site-packages\\sklearn\\utils\\parallel.py:114: UserWarning: `sklearn.utils.parallel.delayed` should be used with `sklearn.utils.parallel.Parallel` to make it possible to propagate the scikit-learn configuration of the current thread to the joblib workers.\n",
      "  warnings.warn(\n",
      "C:\\Users\\admin\\anaconda3\\lib\\site-packages\\sklearn\\utils\\deprecation.py:86: FutureWarning: Function delayed is deprecated; The function `delayed` has been moved from `sklearn.utils.fixes` to `sklearn.utils.parallel`. This import path will be removed in 1.5.\n",
      "  warnings.warn(msg, category=FutureWarning)\n",
      "C:\\Users\\admin\\anaconda3\\lib\\site-packages\\sklearn\\utils\\parallel.py:114: UserWarning: `sklearn.utils.parallel.delayed` should be used with `sklearn.utils.parallel.Parallel` to make it possible to propagate the scikit-learn configuration of the current thread to the joblib workers.\n",
      "  warnings.warn(\n",
      "C:\\Users\\admin\\anaconda3\\lib\\site-packages\\sklearn\\utils\\parallel.py:114: UserWarning: `sklearn.utils.parallel.delayed` should be used with `sklearn.utils.parallel.Parallel` to make it possible to propagate the scikit-learn configuration of the current thread to the joblib workers.\n",
      "  warnings.warn(\n",
      "C:\\Users\\admin\\anaconda3\\lib\\site-packages\\sklearn\\utils\\parallel.py:114: UserWarning: `sklearn.utils.parallel.delayed` should be used with `sklearn.utils.parallel.Parallel` to make it possible to propagate the scikit-learn configuration of the current thread to the joblib workers.\n",
      "  warnings.warn(\n",
      "C:\\Users\\admin\\anaconda3\\lib\\site-packages\\sklearn\\utils\\parallel.py:114: UserWarning: `sklearn.utils.parallel.delayed` should be used with `sklearn.utils.parallel.Parallel` to make it possible to propagate the scikit-learn configuration of the current thread to the joblib workers.\n",
      "  warnings.warn(\n",
      "C:\\Users\\admin\\anaconda3\\lib\\site-packages\\sklearn\\utils\\parallel.py:114: UserWarning: `sklearn.utils.parallel.delayed` should be used with `sklearn.utils.parallel.Parallel` to make it possible to propagate the scikit-learn configuration of the current thread to the joblib workers.\n",
      "  warnings.warn(\n",
      "C:\\Users\\admin\\anaconda3\\lib\\site-packages\\sklearn\\utils\\parallel.py:114: UserWarning: `sklearn.utils.parallel.delayed` should be used with `sklearn.utils.parallel.Parallel` to make it possible to propagate the scikit-learn configuration of the current thread to the joblib workers.\n",
      "  warnings.warn(\n",
      "C:\\Users\\admin\\anaconda3\\lib\\site-packages\\sklearn\\utils\\parallel.py:114: UserWarning: `sklearn.utils.parallel.delayed` should be used with `sklearn.utils.parallel.Parallel` to make it possible to propagate the scikit-learn configuration of the current thread to the joblib workers.\n",
      "  warnings.warn(\n",
      "C:\\Users\\admin\\anaconda3\\lib\\site-packages\\sklearn\\utils\\parallel.py:114: UserWarning: `sklearn.utils.parallel.delayed` should be used with `sklearn.utils.parallel.Parallel` to make it possible to propagate the scikit-learn configuration of the current thread to the joblib workers.\n",
      "  warnings.warn(\n",
      "C:\\Users\\admin\\anaconda3\\lib\\site-packages\\sklearn\\utils\\parallel.py:114: UserWarning: `sklearn.utils.parallel.delayed` should be used with `sklearn.utils.parallel.Parallel` to make it possible to propagate the scikit-learn configuration of the current thread to the joblib workers.\n",
      "  warnings.warn(\n",
      "C:\\Users\\admin\\anaconda3\\lib\\site-packages\\sklearn\\utils\\parallel.py:114: UserWarning: `sklearn.utils.parallel.delayed` should be used with `sklearn.utils.parallel.Parallel` to make it possible to propagate the scikit-learn configuration of the current thread to the joblib workers.\n",
      "  warnings.warn(\n",
      "C:\\Users\\admin\\anaconda3\\lib\\site-packages\\sklearn\\utils\\parallel.py:114: UserWarning: `sklearn.utils.parallel.delayed` should be used with `sklearn.utils.parallel.Parallel` to make it possible to propagate the scikit-learn configuration of the current thread to the joblib workers.\n",
      "  warnings.warn(\n",
      "C:\\Users\\admin\\anaconda3\\lib\\site-packages\\sklearn\\utils\\parallel.py:114: UserWarning: `sklearn.utils.parallel.delayed` should be used with `sklearn.utils.parallel.Parallel` to make it possible to propagate the scikit-learn configuration of the current thread to the joblib workers.\n",
      "  warnings.warn(\n",
      "C:\\Users\\admin\\anaconda3\\lib\\site-packages\\sklearn\\utils\\deprecation.py:86: FutureWarning: Function delayed is deprecated; The function `delayed` has been moved from `sklearn.utils.fixes` to `sklearn.utils.parallel`. This import path will be removed in 1.5.\n",
      "  warnings.warn(msg, category=FutureWarning)\n",
      "C:\\Users\\admin\\anaconda3\\lib\\site-packages\\sklearn\\utils\\parallel.py:114: UserWarning: `sklearn.utils.parallel.delayed` should be used with `sklearn.utils.parallel.Parallel` to make it possible to propagate the scikit-learn configuration of the current thread to the joblib workers.\n",
      "  warnings.warn(\n",
      "C:\\Users\\admin\\anaconda3\\lib\\site-packages\\sklearn\\utils\\parallel.py:114: UserWarning: `sklearn.utils.parallel.delayed` should be used with `sklearn.utils.parallel.Parallel` to make it possible to propagate the scikit-learn configuration of the current thread to the joblib workers.\n",
      "  warnings.warn(\n",
      "C:\\Users\\admin\\anaconda3\\lib\\site-packages\\sklearn\\utils\\parallel.py:114: UserWarning: `sklearn.utils.parallel.delayed` should be used with `sklearn.utils.parallel.Parallel` to make it possible to propagate the scikit-learn configuration of the current thread to the joblib workers.\n",
      "  warnings.warn(\n",
      "C:\\Users\\admin\\anaconda3\\lib\\site-packages\\sklearn\\utils\\parallel.py:114: UserWarning: `sklearn.utils.parallel.delayed` should be used with `sklearn.utils.parallel.Parallel` to make it possible to propagate the scikit-learn configuration of the current thread to the joblib workers.\n",
      "  warnings.warn(\n",
      "C:\\Users\\admin\\anaconda3\\lib\\site-packages\\sklearn\\utils\\parallel.py:114: UserWarning: `sklearn.utils.parallel.delayed` should be used with `sklearn.utils.parallel.Parallel` to make it possible to propagate the scikit-learn configuration of the current thread to the joblib workers.\n",
      "  warnings.warn(\n",
      "C:\\Users\\admin\\anaconda3\\lib\\site-packages\\sklearn\\utils\\parallel.py:114: UserWarning: `sklearn.utils.parallel.delayed` should be used with `sklearn.utils.parallel.Parallel` to make it possible to propagate the scikit-learn configuration of the current thread to the joblib workers.\n",
      "  warnings.warn(\n",
      "C:\\Users\\admin\\anaconda3\\lib\\site-packages\\sklearn\\utils\\parallel.py:114: UserWarning: `sklearn.utils.parallel.delayed` should be used with `sklearn.utils.parallel.Parallel` to make it possible to propagate the scikit-learn configuration of the current thread to the joblib workers.\n",
      "  warnings.warn(\n",
      "C:\\Users\\admin\\anaconda3\\lib\\site-packages\\sklearn\\utils\\parallel.py:114: UserWarning: `sklearn.utils.parallel.delayed` should be used with `sklearn.utils.parallel.Parallel` to make it possible to propagate the scikit-learn configuration of the current thread to the joblib workers.\n",
      "  warnings.warn(\n",
      "C:\\Users\\admin\\anaconda3\\lib\\site-packages\\sklearn\\utils\\parallel.py:114: UserWarning: `sklearn.utils.parallel.delayed` should be used with `sklearn.utils.parallel.Parallel` to make it possible to propagate the scikit-learn configuration of the current thread to the joblib workers.\n",
      "  warnings.warn(\n",
      "C:\\Users\\admin\\anaconda3\\lib\\site-packages\\sklearn\\utils\\parallel.py:114: UserWarning: `sklearn.utils.parallel.delayed` should be used with `sklearn.utils.parallel.Parallel` to make it possible to propagate the scikit-learn configuration of the current thread to the joblib workers.\n",
      "  warnings.warn(\n",
      "C:\\Users\\admin\\anaconda3\\lib\\site-packages\\sklearn\\utils\\parallel.py:114: UserWarning: `sklearn.utils.parallel.delayed` should be used with `sklearn.utils.parallel.Parallel` to make it possible to propagate the scikit-learn configuration of the current thread to the joblib workers.\n",
      "  warnings.warn(\n",
      "C:\\Users\\admin\\anaconda3\\lib\\site-packages\\sklearn\\utils\\parallel.py:114: UserWarning: `sklearn.utils.parallel.delayed` should be used with `sklearn.utils.parallel.Parallel` to make it possible to propagate the scikit-learn configuration of the current thread to the joblib workers.\n",
      "  warnings.warn(\n",
      "C:\\Users\\admin\\anaconda3\\lib\\site-packages\\sklearn\\utils\\parallel.py:114: UserWarning: `sklearn.utils.parallel.delayed` should be used with `sklearn.utils.parallel.Parallel` to make it possible to propagate the scikit-learn configuration of the current thread to the joblib workers.\n",
      "  warnings.warn(\n",
      "C:\\Users\\admin\\anaconda3\\lib\\site-packages\\sklearn\\utils\\parallel.py:114: UserWarning: `sklearn.utils.parallel.delayed` should be used with `sklearn.utils.parallel.Parallel` to make it possible to propagate the scikit-learn configuration of the current thread to the joblib workers.\n",
      "  warnings.warn(\n"
     ]
    }
   ],
   "source": [
    "# CLEANED\n",
    "brf.fit(X_train_clean, y_train_clean)\n",
    "add_to_eval_df(brf, \"BalancedRandomForest\", \"BALANCED clean\", X_train_clean, y_train_clean, X_test_clean, y_test_clean)"
   ],
   "metadata": {
    "collapsed": false,
    "ExecuteTime": {
     "end_time": "2024-11-14T16:26:52.338756800Z",
     "start_time": "2024-11-14T16:26:51.314122900Z"
    }
   }
  },
  {
   "cell_type": "code",
   "execution_count": 67,
   "outputs": [
    {
     "data": {
      "text/plain": "                   model                variant  train_acc  train_prec  \\\n1           RandomForest                  clean   1.000000    1.000000   \n3           RandomForest            SMOTE clean   1.000000    1.000000   \n5           RandomForest  BorderlineSMOTE clean   1.000000    1.000000   \n7           RandomForest           ADASYN clean   1.000000    1.000000   \n11          RandomForest        TomekLink clean   1.000000    1.000000   \n0           RandomForest                   base   0.999855    1.000000   \n4           RandomForest   BorderlineSMOTE base   0.999922    1.000000   \n10          RandomForest         TomekLink base   0.999758    1.000000   \n2           RandomForest             SMOTE base   0.999922    0.999948   \n6           RandomForest            ADASYN base   0.999921    0.999841   \n12  BalancedRandomForest          BALANCED base   0.857965    0.324281   \n13  BalancedRandomForest         BALANCED clean   0.940778    0.207120   \n9           RandomForest         NearMiss clean   1.000000    1.000000   \n8           RandomForest          NearMiss base   0.998118    1.000000   \n\n    train_rec  train_f1  test_acc  test_prec  test_rec   test_f1  \n1    1.000000  1.000000  0.986471   1.000000  0.142857  0.250000  \n3    1.000000  1.000000  0.988162   1.000000  0.250000  0.400000  \n5    1.000000  1.000000  0.988162   1.000000  0.250000  0.400000  \n7    1.000000  1.000000  0.988162   1.000000  0.250000  0.400000  \n11   1.000000  1.000000  0.987035   1.000000  0.178571  0.303030  \n0    0.997871  0.998934  0.955977   0.882143  0.408940  0.558824  \n4    0.999844  0.999922  0.950897   0.856540  0.336093  0.482759  \n10   0.984375  0.992126  0.985908   0.800000  0.142857  0.242424  \n2    0.999896  0.999922  0.953042   0.786585  0.427152  0.553648  \n6    1.000000  0.999921  0.952139   0.758621  0.437086  0.554622  \n12   1.000000  0.489746  0.817022   0.248889  0.834437  0.383416  \n13   1.000000  0.343164  0.937430   0.119266  0.464286  0.189781  \n9    1.000000  1.000000  0.924464   0.092308  0.428571  0.151899  \n8    0.997871  0.998934  0.230500   0.079350  0.970199  0.146702  ",
      "text/html": "<div>\n<style scoped>\n    .dataframe tbody tr th:only-of-type {\n        vertical-align: middle;\n    }\n\n    .dataframe tbody tr th {\n        vertical-align: top;\n    }\n\n    .dataframe thead th {\n        text-align: right;\n    }\n</style>\n<table border=\"1\" class=\"dataframe\">\n  <thead>\n    <tr style=\"text-align: right;\">\n      <th></th>\n      <th>model</th>\n      <th>variant</th>\n      <th>train_acc</th>\n      <th>train_prec</th>\n      <th>train_rec</th>\n      <th>train_f1</th>\n      <th>test_acc</th>\n      <th>test_prec</th>\n      <th>test_rec</th>\n      <th>test_f1</th>\n    </tr>\n  </thead>\n  <tbody>\n    <tr>\n      <th>1</th>\n      <td>RandomForest</td>\n      <td>clean</td>\n      <td>1.000000</td>\n      <td>1.000000</td>\n      <td>1.000000</td>\n      <td>1.000000</td>\n      <td>0.986471</td>\n      <td>1.000000</td>\n      <td>0.142857</td>\n      <td>0.250000</td>\n    </tr>\n    <tr>\n      <th>3</th>\n      <td>RandomForest</td>\n      <td>SMOTE clean</td>\n      <td>1.000000</td>\n      <td>1.000000</td>\n      <td>1.000000</td>\n      <td>1.000000</td>\n      <td>0.988162</td>\n      <td>1.000000</td>\n      <td>0.250000</td>\n      <td>0.400000</td>\n    </tr>\n    <tr>\n      <th>5</th>\n      <td>RandomForest</td>\n      <td>BorderlineSMOTE clean</td>\n      <td>1.000000</td>\n      <td>1.000000</td>\n      <td>1.000000</td>\n      <td>1.000000</td>\n      <td>0.988162</td>\n      <td>1.000000</td>\n      <td>0.250000</td>\n      <td>0.400000</td>\n    </tr>\n    <tr>\n      <th>7</th>\n      <td>RandomForest</td>\n      <td>ADASYN clean</td>\n      <td>1.000000</td>\n      <td>1.000000</td>\n      <td>1.000000</td>\n      <td>1.000000</td>\n      <td>0.988162</td>\n      <td>1.000000</td>\n      <td>0.250000</td>\n      <td>0.400000</td>\n    </tr>\n    <tr>\n      <th>11</th>\n      <td>RandomForest</td>\n      <td>TomekLink clean</td>\n      <td>1.000000</td>\n      <td>1.000000</td>\n      <td>1.000000</td>\n      <td>1.000000</td>\n      <td>0.987035</td>\n      <td>1.000000</td>\n      <td>0.178571</td>\n      <td>0.303030</td>\n    </tr>\n    <tr>\n      <th>0</th>\n      <td>RandomForest</td>\n      <td>base</td>\n      <td>0.999855</td>\n      <td>1.000000</td>\n      <td>0.997871</td>\n      <td>0.998934</td>\n      <td>0.955977</td>\n      <td>0.882143</td>\n      <td>0.408940</td>\n      <td>0.558824</td>\n    </tr>\n    <tr>\n      <th>4</th>\n      <td>RandomForest</td>\n      <td>BorderlineSMOTE base</td>\n      <td>0.999922</td>\n      <td>1.000000</td>\n      <td>0.999844</td>\n      <td>0.999922</td>\n      <td>0.950897</td>\n      <td>0.856540</td>\n      <td>0.336093</td>\n      <td>0.482759</td>\n    </tr>\n    <tr>\n      <th>10</th>\n      <td>RandomForest</td>\n      <td>TomekLink base</td>\n      <td>0.999758</td>\n      <td>1.000000</td>\n      <td>0.984375</td>\n      <td>0.992126</td>\n      <td>0.985908</td>\n      <td>0.800000</td>\n      <td>0.142857</td>\n      <td>0.242424</td>\n    </tr>\n    <tr>\n      <th>2</th>\n      <td>RandomForest</td>\n      <td>SMOTE base</td>\n      <td>0.999922</td>\n      <td>0.999948</td>\n      <td>0.999896</td>\n      <td>0.999922</td>\n      <td>0.953042</td>\n      <td>0.786585</td>\n      <td>0.427152</td>\n      <td>0.553648</td>\n    </tr>\n    <tr>\n      <th>6</th>\n      <td>RandomForest</td>\n      <td>ADASYN base</td>\n      <td>0.999921</td>\n      <td>0.999841</td>\n      <td>1.000000</td>\n      <td>0.999921</td>\n      <td>0.952139</td>\n      <td>0.758621</td>\n      <td>0.437086</td>\n      <td>0.554622</td>\n    </tr>\n    <tr>\n      <th>12</th>\n      <td>BalancedRandomForest</td>\n      <td>BALANCED base</td>\n      <td>0.857965</td>\n      <td>0.324281</td>\n      <td>1.000000</td>\n      <td>0.489746</td>\n      <td>0.817022</td>\n      <td>0.248889</td>\n      <td>0.834437</td>\n      <td>0.383416</td>\n    </tr>\n    <tr>\n      <th>13</th>\n      <td>BalancedRandomForest</td>\n      <td>BALANCED clean</td>\n      <td>0.940778</td>\n      <td>0.207120</td>\n      <td>1.000000</td>\n      <td>0.343164</td>\n      <td>0.937430</td>\n      <td>0.119266</td>\n      <td>0.464286</td>\n      <td>0.189781</td>\n    </tr>\n    <tr>\n      <th>9</th>\n      <td>RandomForest</td>\n      <td>NearMiss clean</td>\n      <td>1.000000</td>\n      <td>1.000000</td>\n      <td>1.000000</td>\n      <td>1.000000</td>\n      <td>0.924464</td>\n      <td>0.092308</td>\n      <td>0.428571</td>\n      <td>0.151899</td>\n    </tr>\n    <tr>\n      <th>8</th>\n      <td>RandomForest</td>\n      <td>NearMiss base</td>\n      <td>0.998118</td>\n      <td>1.000000</td>\n      <td>0.997871</td>\n      <td>0.998934</td>\n      <td>0.230500</td>\n      <td>0.079350</td>\n      <td>0.970199</td>\n      <td>0.146702</td>\n    </tr>\n  </tbody>\n</table>\n</div>"
     },
     "execution_count": 67,
     "metadata": {},
     "output_type": "execute_result"
    }
   ],
   "source": [
    "evaluation[(evaluation.model == \"RandomForest\") | (evaluation.model == \"BalancedRandomForest\")].sort_values(\n",
    "    by=[\"test_prec\"], ascending=False)"
   ],
   "metadata": {
    "collapsed": false,
    "ExecuteTime": {
     "end_time": "2024-11-14T16:26:52.358921500Z",
     "start_time": "2024-11-14T16:26:52.338756800Z"
    }
   }
  },
  {
   "cell_type": "markdown",
   "source": [
    "#### 2.2 Boosting"
   ],
   "metadata": {
    "collapsed": false
   }
  },
  {
   "cell_type": "markdown",
   "source": [
    "##### 2.2.1a XGBClassifier"
   ],
   "metadata": {
    "collapsed": false
   }
  },
  {
   "cell_type": "code",
   "execution_count": 68,
   "outputs": [],
   "source": [
    "xgb = XGBClassifier()"
   ],
   "metadata": {
    "collapsed": false,
    "ExecuteTime": {
     "end_time": "2024-11-14T16:26:52.460175100Z",
     "start_time": "2024-11-14T16:26:52.358921500Z"
    }
   }
  },
  {
   "cell_type": "code",
   "execution_count": 69,
   "outputs": [
    {
     "name": "stdout",
     "output_type": "stream",
     "text": [
      "Starting model fitting.\n",
      "1/12 Fitting:  XGBClassifier BASE started...\n",
      "Fitting:  XGBClassifier finished. Elapsed time:  11 Seconds\n",
      "2/12 Fitting:  XGBClassifier CLEAN started...\n",
      "Fitting:  XGBClassifier finished. Elapsed time:  0 Seconds\n",
      "3/12 Fitting:  XGBClassifier SMOTE-base started...\n",
      "Fitting:  XGBClassifier finished. Elapsed time:  6 Seconds\n",
      "4/12 Fitting:  XGBClassifier SMOTE-clean started...\n",
      "Fitting:  XGBClassifier finished. Elapsed time:  1 Seconds\n",
      "5/12 Fitting:  XGBClassifier BorderlineSMOTE-base started...\n",
      "Fitting:  XGBClassifier finished. Elapsed time:  6 Seconds\n",
      "6/12 Fitting:  XGBClassifier BorderlineSMOTE-clean started...\n",
      "Fitting:  XGBClassifier finished. Elapsed time:  1 Seconds\n",
      "7/12 Fitting:  XGBClassifier ADASYN-base started...\n",
      "Fitting:  XGBClassifier finished. Elapsed time:  6 Seconds\n",
      "8/12 Fitting:  XGBClassifier ADASYN-clean started...\n",
      "Fitting:  XGBClassifier finished. Elapsed time:  1 Seconds\n",
      "9/12 Fitting:  XGBClassifier NearMiss-base started...\n",
      "Fitting:  XGBClassifier finished. Elapsed time:  0 Seconds\n",
      "10/12 Fitting:  XGBClassifier NearMiss-clean started...\n",
      "Fitting:  XGBClassifier finished. Elapsed time:  0 Seconds\n",
      "11/12 Fitting:  XGBClassifier TomekLink-base started...\n",
      "Fitting:  XGBClassifier finished. Elapsed time:  0 Seconds\n",
      "12/12 Fitting:  XGBClassifier TomekLink-clean started...\n",
      "Fitting:  XGBClassifier finished. Elapsed time:  0 Seconds\n",
      "Model fitting finished.\n"
     ]
    }
   ],
   "source": [
    "fit_model(xgb, \"XGBClassifier\")"
   ],
   "metadata": {
    "collapsed": false,
    "ExecuteTime": {
     "end_time": "2024-11-14T16:27:27.234542100Z",
     "start_time": "2024-11-14T16:26:52.379142300Z"
    }
   }
  },
  {
   "cell_type": "code",
   "execution_count": 70,
   "outputs": [
    {
     "data": {
      "text/plain": "            model                variant  train_acc  train_prec  train_rec  \\\n14  XGBClassifier                   base   0.965120    0.972527   0.502484   \n21  XGBClassifier           ADASYN clean   0.998527    1.000000   0.997052   \n17  XGBClassifier            SMOTE clean   0.998772    1.000000   0.997545   \n19  XGBClassifier  BorderlineSMOTE clean   0.997668    1.000000   0.995335   \n18  XGBClassifier   BorderlineSMOTE base   0.978325    0.993096   0.963348   \n15  XGBClassifier                  clean   0.992265    1.000000   0.500000   \n20  XGBClassifier            ADASYN base   0.968824    0.990951   0.945645   \n16  XGBClassifier             SMOTE base   0.970642    0.991115   0.949798   \n24  XGBClassifier         TomekLink base   0.992259    1.000000   0.500000   \n25  XGBClassifier        TomekLink clean   0.992259    1.000000   0.500000   \n22  XGBClassifier          NearMiss base   0.966123    0.969508   0.992903   \n23  XGBClassifier         NearMiss clean   0.789062    0.877551   0.671875   \n\n    train_f1  test_acc  test_prec  test_rec   test_f1  \n14  0.662611  0.951010   0.824427  0.357616  0.498845  \n21  0.998524  0.988162   0.818182  0.321429  0.461538  \n17  0.998771  0.987035   0.727273  0.285714  0.410256  \n19  0.997662  0.986471   0.700000  0.250000  0.368421  \n18  0.977996  0.945818   0.676136  0.394040  0.497908  \n15  0.666667  0.985344   0.666667  0.142857  0.235294  \n20  0.967768  0.945705   0.659740  0.420530  0.513650  \n16  0.970017  0.944689   0.646907  0.415563  0.506048  \n24  0.666667  0.984780   0.600000  0.107143  0.181818  \n25  0.666667  0.984780   0.600000  0.107143  0.181818  \n22  0.981066  0.137600   0.070976  0.963576  0.132213  \n23  0.761062  0.757046   0.030303  0.464286  0.056893  ",
      "text/html": "<div>\n<style scoped>\n    .dataframe tbody tr th:only-of-type {\n        vertical-align: middle;\n    }\n\n    .dataframe tbody tr th {\n        vertical-align: top;\n    }\n\n    .dataframe thead th {\n        text-align: right;\n    }\n</style>\n<table border=\"1\" class=\"dataframe\">\n  <thead>\n    <tr style=\"text-align: right;\">\n      <th></th>\n      <th>model</th>\n      <th>variant</th>\n      <th>train_acc</th>\n      <th>train_prec</th>\n      <th>train_rec</th>\n      <th>train_f1</th>\n      <th>test_acc</th>\n      <th>test_prec</th>\n      <th>test_rec</th>\n      <th>test_f1</th>\n    </tr>\n  </thead>\n  <tbody>\n    <tr>\n      <th>14</th>\n      <td>XGBClassifier</td>\n      <td>base</td>\n      <td>0.965120</td>\n      <td>0.972527</td>\n      <td>0.502484</td>\n      <td>0.662611</td>\n      <td>0.951010</td>\n      <td>0.824427</td>\n      <td>0.357616</td>\n      <td>0.498845</td>\n    </tr>\n    <tr>\n      <th>21</th>\n      <td>XGBClassifier</td>\n      <td>ADASYN clean</td>\n      <td>0.998527</td>\n      <td>1.000000</td>\n      <td>0.997052</td>\n      <td>0.998524</td>\n      <td>0.988162</td>\n      <td>0.818182</td>\n      <td>0.321429</td>\n      <td>0.461538</td>\n    </tr>\n    <tr>\n      <th>17</th>\n      <td>XGBClassifier</td>\n      <td>SMOTE clean</td>\n      <td>0.998772</td>\n      <td>1.000000</td>\n      <td>0.997545</td>\n      <td>0.998771</td>\n      <td>0.987035</td>\n      <td>0.727273</td>\n      <td>0.285714</td>\n      <td>0.410256</td>\n    </tr>\n    <tr>\n      <th>19</th>\n      <td>XGBClassifier</td>\n      <td>BorderlineSMOTE clean</td>\n      <td>0.997668</td>\n      <td>1.000000</td>\n      <td>0.995335</td>\n      <td>0.997662</td>\n      <td>0.986471</td>\n      <td>0.700000</td>\n      <td>0.250000</td>\n      <td>0.368421</td>\n    </tr>\n    <tr>\n      <th>18</th>\n      <td>XGBClassifier</td>\n      <td>BorderlineSMOTE base</td>\n      <td>0.978325</td>\n      <td>0.993096</td>\n      <td>0.963348</td>\n      <td>0.977996</td>\n      <td>0.945818</td>\n      <td>0.676136</td>\n      <td>0.394040</td>\n      <td>0.497908</td>\n    </tr>\n    <tr>\n      <th>15</th>\n      <td>XGBClassifier</td>\n      <td>clean</td>\n      <td>0.992265</td>\n      <td>1.000000</td>\n      <td>0.500000</td>\n      <td>0.666667</td>\n      <td>0.985344</td>\n      <td>0.666667</td>\n      <td>0.142857</td>\n      <td>0.235294</td>\n    </tr>\n    <tr>\n      <th>20</th>\n      <td>XGBClassifier</td>\n      <td>ADASYN base</td>\n      <td>0.968824</td>\n      <td>0.990951</td>\n      <td>0.945645</td>\n      <td>0.967768</td>\n      <td>0.945705</td>\n      <td>0.659740</td>\n      <td>0.420530</td>\n      <td>0.513650</td>\n    </tr>\n    <tr>\n      <th>16</th>\n      <td>XGBClassifier</td>\n      <td>SMOTE base</td>\n      <td>0.970642</td>\n      <td>0.991115</td>\n      <td>0.949798</td>\n      <td>0.970017</td>\n      <td>0.944689</td>\n      <td>0.646907</td>\n      <td>0.415563</td>\n      <td>0.506048</td>\n    </tr>\n    <tr>\n      <th>24</th>\n      <td>XGBClassifier</td>\n      <td>TomekLink base</td>\n      <td>0.992259</td>\n      <td>1.000000</td>\n      <td>0.500000</td>\n      <td>0.666667</td>\n      <td>0.984780</td>\n      <td>0.600000</td>\n      <td>0.107143</td>\n      <td>0.181818</td>\n    </tr>\n    <tr>\n      <th>25</th>\n      <td>XGBClassifier</td>\n      <td>TomekLink clean</td>\n      <td>0.992259</td>\n      <td>1.000000</td>\n      <td>0.500000</td>\n      <td>0.666667</td>\n      <td>0.984780</td>\n      <td>0.600000</td>\n      <td>0.107143</td>\n      <td>0.181818</td>\n    </tr>\n    <tr>\n      <th>22</th>\n      <td>XGBClassifier</td>\n      <td>NearMiss base</td>\n      <td>0.966123</td>\n      <td>0.969508</td>\n      <td>0.992903</td>\n      <td>0.981066</td>\n      <td>0.137600</td>\n      <td>0.070976</td>\n      <td>0.963576</td>\n      <td>0.132213</td>\n    </tr>\n    <tr>\n      <th>23</th>\n      <td>XGBClassifier</td>\n      <td>NearMiss clean</td>\n      <td>0.789062</td>\n      <td>0.877551</td>\n      <td>0.671875</td>\n      <td>0.761062</td>\n      <td>0.757046</td>\n      <td>0.030303</td>\n      <td>0.464286</td>\n      <td>0.056893</td>\n    </tr>\n  </tbody>\n</table>\n</div>"
     },
     "execution_count": 70,
     "metadata": {},
     "output_type": "execute_result"
    }
   ],
   "source": [
    "evaluation[evaluation.model == \"XGBClassifier\"].sort_values(by=[\"test_prec\"], ascending=False)"
   ],
   "metadata": {
    "collapsed": false,
    "ExecuteTime": {
     "end_time": "2024-11-14T16:27:27.295070800Z",
     "start_time": "2024-11-14T16:27:27.234542100Z"
    }
   }
  },
  {
   "cell_type": "markdown",
   "source": [
    "##### 2.2.1b XGBClassifier tuning\n"
   ],
   "metadata": {
    "collapsed": false
   }
  },
  {
   "cell_type": "code",
   "execution_count": 71,
   "outputs": [],
   "source": [
    "# todo erneut machen\n",
    "\n",
    "param_test1 = {\n",
    "    'max_depth': range(3, 10, 2),\n",
    "}\n",
    "gsearch1 = GridSearchCV(estimator=XGBClassifier(\n",
    "    learning_rate=0.1,\n",
    "    n_estimators=140,\n",
    "    min_child_weight=1,\n",
    "    gamma=0,\n",
    "    subsample=0.8,\n",
    "    colsample_bytree=0.8,\n",
    "    objective='binary:logistic',\n",
    "    nthread=4,\n",
    "    scale_pos_weight=1,\n",
    "    seed=27\n",
    "), param_grid=param_test1, scoring='roc_auc', n_jobs=-1, cv=5, verbose=1)"
   ],
   "metadata": {
    "collapsed": false,
    "ExecuteTime": {
     "end_time": "2024-11-14T16:27:27.295070800Z",
     "start_time": "2024-11-14T16:27:27.274852900Z"
    }
   }
  },
  {
   "cell_type": "code",
   "execution_count": 72,
   "outputs": [],
   "source": [
    "# gsearch1.fit(X_train_clean, y_train_clean)\n",
    "# gsearch1.best_score_, gsearch1.best_params_"
   ],
   "metadata": {
    "collapsed": false,
    "ExecuteTime": {
     "end_time": "2024-11-14T16:27:27.315226600Z",
     "start_time": "2024-11-14T16:27:27.295070800Z"
    }
   }
  },
  {
   "cell_type": "code",
   "execution_count": 73,
   "outputs": [],
   "source": [
    "param_test2 = {\n",
    "    'min_child_weight': range(1, 6, 2),\n",
    "}\n",
    "gsearch2 = GridSearchCV(estimator=XGBClassifier(\n",
    "    learning_rate=0.1,\n",
    "    n_estimators=140,\n",
    "    max_depth=9,\n",
    "    gamma=0,\n",
    "    subsample=0.8,\n",
    "    colsample_bytree=0.8,\n",
    "    objective='binary:logistic',\n",
    "    nthread=4,\n",
    "    scale_pos_weight=1,\n",
    "    seed=27\n",
    "), param_grid=param_test2, scoring='roc_auc', n_jobs=-1, cv=5, verbose=1)"
   ],
   "metadata": {
    "collapsed": false,
    "ExecuteTime": {
     "end_time": "2024-11-14T16:27:27.365649500Z",
     "start_time": "2024-11-14T16:27:27.315226600Z"
    }
   }
  },
  {
   "cell_type": "code",
   "execution_count": 74,
   "outputs": [],
   "source": [
    "# gsearch2.fit(X_train_clean, y_train_clean)\n",
    "# gsearch2.best_score_, gsearch2.best_params_"
   ],
   "metadata": {
    "collapsed": false,
    "ExecuteTime": {
     "end_time": "2024-11-14T16:27:27.393979600Z",
     "start_time": "2024-11-14T16:27:27.335410700Z"
    }
   }
  },
  {
   "cell_type": "code",
   "execution_count": 75,
   "outputs": [],
   "source": [
    "param_test3 = {\n",
    "    'gamma': [i / 10.0 for i in range(0, 5)],\n",
    "}\n",
    "gsearch3 = GridSearchCV(estimator=XGBClassifier(\n",
    "    learning_rate=0.1,\n",
    "    n_estimators=140,\n",
    "    max_depth=9,\n",
    "    min_child_weight=5,\n",
    "    subsample=0.8,\n",
    "    colsample_bytree=0.8,\n",
    "    objective='binary:logistic',\n",
    "    nthread=4,\n",
    "    scale_pos_weight=1,\n",
    "    seed=27\n",
    "), param_grid=param_test3, scoring='roc_auc', n_jobs=-1, cv=5, verbose=1)"
   ],
   "metadata": {
    "collapsed": false,
    "ExecuteTime": {
     "end_time": "2024-11-14T16:27:27.495179Z",
     "start_time": "2024-11-14T16:27:27.355580700Z"
    }
   }
  },
  {
   "cell_type": "code",
   "execution_count": 76,
   "outputs": [],
   "source": [
    "# gsearch3.fit(X_train_clean, y_train_clean)\n",
    "# gsearch3.best_score_, gsearch3.best_params_"
   ],
   "metadata": {
    "collapsed": false,
    "ExecuteTime": {
     "end_time": "2024-11-14T16:27:27.537762300Z",
     "start_time": "2024-11-14T16:27:27.375797900Z"
    }
   }
  },
  {
   "cell_type": "code",
   "execution_count": 77,
   "outputs": [],
   "source": [
    "param_test4 = {\n",
    "    'subsample': [i / 10.0 for i in range(6, 10)],\n",
    "}\n",
    "gsearch4 = GridSearchCV(estimator=XGBClassifier(\n",
    "    learning_rate=0.1,\n",
    "    n_estimators=140,\n",
    "    max_depth=9,\n",
    "    min_child_weight=5,\n",
    "    gamma=0.1,\n",
    "    colsample_bytree=0.8,\n",
    "    objective='binary:logistic',\n",
    "    nthread=4,\n",
    "    scale_pos_weight=1,\n",
    "    seed=27\n",
    "), param_grid=param_test4, scoring='roc_auc', n_jobs=-1, cv=5, verbose=1)"
   ],
   "metadata": {
    "collapsed": false,
    "ExecuteTime": {
     "end_time": "2024-11-14T16:27:27.537762300Z",
     "start_time": "2024-11-14T16:27:27.396052200Z"
    }
   }
  },
  {
   "cell_type": "code",
   "execution_count": 78,
   "outputs": [],
   "source": [
    "# gsearch4.fit(X_train_clean, y_train_clean)\n",
    "# gsearch4.best_score_, gsearch4.best_params_"
   ],
   "metadata": {
    "collapsed": false,
    "ExecuteTime": {
     "end_time": "2024-11-14T16:27:27.537762300Z",
     "start_time": "2024-11-14T16:27:27.416321300Z"
    }
   }
  },
  {
   "cell_type": "code",
   "execution_count": 79,
   "outputs": [],
   "source": [
    "param_test5 = {\n",
    "    'colsample_bytree': [i / 10.0 for i in range(6, 10)],\n",
    "}\n",
    "gsearch5 = GridSearchCV(estimator=XGBClassifier(\n",
    "    learning_rate=0.1,\n",
    "    n_estimators=140,\n",
    "    max_depth=9,\n",
    "    min_child_weight=5,\n",
    "    gamma=0.1,\n",
    "    subsample=0.8,\n",
    "    objective='binary:logistic',\n",
    "    nthread=4,\n",
    "    scale_pos_weight=1,\n",
    "    seed=27\n",
    "), param_grid=param_test5, scoring='roc_auc', n_jobs=-1, cv=5, verbose=1)"
   ],
   "metadata": {
    "collapsed": false,
    "ExecuteTime": {
     "end_time": "2024-11-14T16:27:27.537762300Z",
     "start_time": "2024-11-14T16:27:27.456781200Z"
    }
   }
  },
  {
   "cell_type": "code",
   "execution_count": 80,
   "outputs": [],
   "source": [
    "# gsearch5.fit(X_train_clean, y_train_clean)\n",
    "# gsearch5.best_score_, gsearch5.best_params_"
   ],
   "metadata": {
    "collapsed": false,
    "ExecuteTime": {
     "end_time": "2024-11-14T16:27:27.537762300Z",
     "start_time": "2024-11-14T16:27:27.456781200Z"
    }
   }
  },
  {
   "cell_type": "code",
   "execution_count": 81,
   "outputs": [],
   "source": [
    "param_test6 = {\n",
    "    'reg_alpha': [1e-5, 1e-2, 0.1, 1, 100]\n",
    "}\n",
    "gsearch6 = GridSearchCV(estimator=XGBClassifier(\n",
    "    learning_rate=0.1,\n",
    "    n_estimators=140,\n",
    "    max_depth=9,\n",
    "    min_child_weight=5,\n",
    "    gamma=0.1,\n",
    "    subsample=0.8,\n",
    "    colsample_bytree=0.8,\n",
    "    objective='binary:logistic',\n",
    "    nthread=4,\n",
    "    scale_pos_weight=1,\n",
    "    seed=27\n",
    "), param_grid=param_test6, scoring='roc_auc', n_jobs=-1, cv=5, verbose=1)"
   ],
   "metadata": {
    "collapsed": false,
    "ExecuteTime": {
     "end_time": "2024-11-14T16:27:27.537762300Z",
     "start_time": "2024-11-14T16:27:27.477039100Z"
    }
   }
  },
  {
   "cell_type": "code",
   "execution_count": 82,
   "outputs": [],
   "source": [
    "# gsearch6.fit(X_train_clean, y_train_clean)\n",
    "# gsearch6.best_score_, gsearch6.best_params_"
   ],
   "metadata": {
    "collapsed": false,
    "ExecuteTime": {
     "end_time": "2024-11-14T16:27:27.537762300Z",
     "start_time": "2024-11-14T16:27:27.497232800Z"
    }
   }
  },
  {
   "cell_type": "code",
   "execution_count": 83,
   "outputs": [],
   "source": [
    "xgb_tune = XGBClassifier(\n",
    "    learning_rate=0.1,\n",
    "    n_estimators=140,\n",
    "    max_depth=9,\n",
    "    min_child_weight=5,\n",
    "    gamma=0.1,\n",
    "    subsample=0.8,\n",
    "    colsample_bytree=0.8,\n",
    "    objective='binary:logistic',\n",
    "    nthread=4,\n",
    "    scale_pos_weight=1,\n",
    "    seed=27,\n",
    ")"
   ],
   "metadata": {
    "collapsed": false,
    "ExecuteTime": {
     "end_time": "2024-11-14T16:27:27.596420900Z",
     "start_time": "2024-11-14T16:27:27.517477600Z"
    }
   }
  },
  {
   "cell_type": "code",
   "execution_count": 84,
   "outputs": [],
   "source": [
    "# fit_model(xgb_tune, \"XGBClassifier-tuned\")\n",
    "# evaluation[evaluation.model == \"XGBClassifier-tuned\"].sort_values(by=[\"test_prec\"], ascending=False)"
   ],
   "metadata": {
    "collapsed": false,
    "ExecuteTime": {
     "end_time": "2024-11-14T16:27:27.616796500Z",
     "start_time": "2024-11-14T16:27:27.537762300Z"
    }
   }
  },
  {
   "cell_type": "markdown",
   "source": [
    "##### 2.2.1 CatBoostClassifier"
   ],
   "metadata": {
    "collapsed": false
   }
  },
  {
   "cell_type": "code",
   "execution_count": 106,
   "outputs": [],
   "source": [
    "cat = CatBoostClassifier(iterations=100,\n",
    "                         depth=5,\n",
    "                         learning_rate=0.1,\n",
    "                         loss_function='Logloss',\n",
    "                         verbose=True)"
   ],
   "metadata": {
    "collapsed": false,
    "ExecuteTime": {
     "end_time": "2024-11-14T16:48:58.796555300Z",
     "start_time": "2024-11-14T16:48:58.768554800Z"
    }
   }
  },
  {
   "cell_type": "code",
   "execution_count": 107,
   "outputs": [
    {
     "name": "stdout",
     "output_type": "stream",
     "text": [
      "Starting model fitting.\n",
      "1/12 Fitting:  CatBoostClassifier BASE started...\n",
      "0:\tlearn: 0.5886354\ttotal: 42.7ms\tremaining: 4.23s\n",
      "1:\tlearn: 0.5090445\ttotal: 82.3ms\tremaining: 4.03s\n",
      "2:\tlearn: 0.4469016\ttotal: 123ms\tremaining: 3.97s\n",
      "3:\tlearn: 0.3988917\ttotal: 164ms\tremaining: 3.93s\n",
      "4:\tlearn: 0.3609651\ttotal: 203ms\tremaining: 3.86s\n",
      "5:\tlearn: 0.3310584\ttotal: 244ms\tremaining: 3.82s\n",
      "6:\tlearn: 0.3071056\ttotal: 286ms\tremaining: 3.8s\n",
      "7:\tlearn: 0.2889219\ttotal: 328ms\tremaining: 3.77s\n",
      "8:\tlearn: 0.2748976\ttotal: 374ms\tremaining: 3.78s\n",
      "9:\tlearn: 0.2627787\ttotal: 416ms\tremaining: 3.74s\n",
      "10:\tlearn: 0.2534025\ttotal: 457ms\tremaining: 3.7s\n",
      "11:\tlearn: 0.2455747\ttotal: 499ms\tremaining: 3.66s\n",
      "12:\tlearn: 0.2389367\ttotal: 538ms\tremaining: 3.6s\n",
      "13:\tlearn: 0.2337709\ttotal: 582ms\tremaining: 3.58s\n",
      "14:\tlearn: 0.2294589\ttotal: 624ms\tremaining: 3.53s\n",
      "15:\tlearn: 0.2254072\ttotal: 664ms\tremaining: 3.49s\n",
      "16:\tlearn: 0.2221890\ttotal: 708ms\tremaining: 3.46s\n",
      "17:\tlearn: 0.2197272\ttotal: 750ms\tremaining: 3.42s\n",
      "18:\tlearn: 0.2174933\ttotal: 791ms\tremaining: 3.37s\n",
      "19:\tlearn: 0.2148602\ttotal: 833ms\tremaining: 3.33s\n",
      "20:\tlearn: 0.2130871\ttotal: 874ms\tremaining: 3.29s\n",
      "21:\tlearn: 0.2112854\ttotal: 915ms\tremaining: 3.24s\n",
      "22:\tlearn: 0.2098294\ttotal: 953ms\tremaining: 3.19s\n",
      "23:\tlearn: 0.2082025\ttotal: 992ms\tremaining: 3.14s\n",
      "24:\tlearn: 0.2071175\ttotal: 1.03s\tremaining: 3.1s\n",
      "25:\tlearn: 0.2056098\ttotal: 1.07s\tremaining: 3.05s\n",
      "26:\tlearn: 0.2045167\ttotal: 1.11s\tremaining: 3.01s\n",
      "27:\tlearn: 0.2032763\ttotal: 1.15s\tremaining: 2.96s\n",
      "28:\tlearn: 0.2023086\ttotal: 1.19s\tremaining: 2.91s\n",
      "29:\tlearn: 0.2013546\ttotal: 1.23s\tremaining: 2.86s\n",
      "30:\tlearn: 0.2004343\ttotal: 1.27s\tremaining: 2.82s\n",
      "31:\tlearn: 0.1992906\ttotal: 1.31s\tremaining: 2.78s\n",
      "32:\tlearn: 0.1983824\ttotal: 1.35s\tremaining: 2.74s\n",
      "33:\tlearn: 0.1975825\ttotal: 1.39s\tremaining: 2.7s\n",
      "34:\tlearn: 0.1967548\ttotal: 1.43s\tremaining: 2.65s\n",
      "35:\tlearn: 0.1960284\ttotal: 1.47s\tremaining: 2.61s\n",
      "36:\tlearn: 0.1953094\ttotal: 1.51s\tremaining: 2.57s\n",
      "37:\tlearn: 0.1943617\ttotal: 1.55s\tremaining: 2.53s\n",
      "38:\tlearn: 0.1935225\ttotal: 1.59s\tremaining: 2.48s\n",
      "39:\tlearn: 0.1927267\ttotal: 1.63s\tremaining: 2.44s\n",
      "40:\tlearn: 0.1920993\ttotal: 1.66s\tremaining: 2.39s\n",
      "41:\tlearn: 0.1914112\ttotal: 1.7s\tremaining: 2.35s\n",
      "42:\tlearn: 0.1907278\ttotal: 1.74s\tremaining: 2.31s\n",
      "43:\tlearn: 0.1900723\ttotal: 1.78s\tremaining: 2.27s\n",
      "44:\tlearn: 0.1894926\ttotal: 1.82s\tremaining: 2.23s\n",
      "45:\tlearn: 0.1889825\ttotal: 1.86s\tremaining: 2.19s\n",
      "46:\tlearn: 0.1883271\ttotal: 1.9s\tremaining: 2.14s\n",
      "47:\tlearn: 0.1873947\ttotal: 1.94s\tremaining: 2.1s\n",
      "48:\tlearn: 0.1868298\ttotal: 1.98s\tremaining: 2.06s\n",
      "49:\tlearn: 0.1863895\ttotal: 2.02s\tremaining: 2.02s\n",
      "50:\tlearn: 0.1857856\ttotal: 2.06s\tremaining: 1.97s\n",
      "51:\tlearn: 0.1851966\ttotal: 2.09s\tremaining: 1.93s\n",
      "52:\tlearn: 0.1847147\ttotal: 2.13s\tremaining: 1.89s\n",
      "53:\tlearn: 0.1842101\ttotal: 2.17s\tremaining: 1.85s\n",
      "54:\tlearn: 0.1830672\ttotal: 2.21s\tremaining: 1.81s\n",
      "55:\tlearn: 0.1826041\ttotal: 2.25s\tremaining: 1.77s\n",
      "56:\tlearn: 0.1821451\ttotal: 2.29s\tremaining: 1.73s\n",
      "57:\tlearn: 0.1815367\ttotal: 2.33s\tremaining: 1.69s\n",
      "58:\tlearn: 0.1809749\ttotal: 2.37s\tremaining: 1.65s\n",
      "59:\tlearn: 0.1804747\ttotal: 2.41s\tremaining: 1.61s\n",
      "60:\tlearn: 0.1800417\ttotal: 2.45s\tremaining: 1.57s\n",
      "61:\tlearn: 0.1795973\ttotal: 2.49s\tremaining: 1.53s\n",
      "62:\tlearn: 0.1791620\ttotal: 2.53s\tremaining: 1.49s\n",
      "63:\tlearn: 0.1787601\ttotal: 2.57s\tremaining: 1.45s\n",
      "64:\tlearn: 0.1783132\ttotal: 2.61s\tremaining: 1.4s\n",
      "65:\tlearn: 0.1779019\ttotal: 2.65s\tremaining: 1.36s\n",
      "66:\tlearn: 0.1774274\ttotal: 2.69s\tremaining: 1.32s\n",
      "67:\tlearn: 0.1770153\ttotal: 2.73s\tremaining: 1.28s\n",
      "68:\tlearn: 0.1766022\ttotal: 2.76s\tremaining: 1.24s\n",
      "69:\tlearn: 0.1761518\ttotal: 2.81s\tremaining: 1.2s\n",
      "70:\tlearn: 0.1751779\ttotal: 2.84s\tremaining: 1.16s\n",
      "71:\tlearn: 0.1747498\ttotal: 2.89s\tremaining: 1.12s\n",
      "72:\tlearn: 0.1742990\ttotal: 2.93s\tremaining: 1.08s\n",
      "73:\tlearn: 0.1739843\ttotal: 2.97s\tremaining: 1.04s\n",
      "74:\tlearn: 0.1736169\ttotal: 3.01s\tremaining: 1s\n",
      "75:\tlearn: 0.1731677\ttotal: 3.05s\tremaining: 962ms\n",
      "76:\tlearn: 0.1728597\ttotal: 3.09s\tremaining: 922ms\n",
      "77:\tlearn: 0.1725488\ttotal: 3.12s\tremaining: 881ms\n",
      "78:\tlearn: 0.1721928\ttotal: 3.17s\tremaining: 842ms\n",
      "79:\tlearn: 0.1716749\ttotal: 3.21s\tremaining: 802ms\n",
      "80:\tlearn: 0.1712086\ttotal: 3.24s\tremaining: 761ms\n",
      "81:\tlearn: 0.1707514\ttotal: 3.28s\tremaining: 721ms\n",
      "82:\tlearn: 0.1703386\ttotal: 3.32s\tremaining: 680ms\n",
      "83:\tlearn: 0.1699409\ttotal: 3.36s\tremaining: 641ms\n",
      "84:\tlearn: 0.1695979\ttotal: 3.41s\tremaining: 601ms\n",
      "85:\tlearn: 0.1692576\ttotal: 3.45s\tremaining: 561ms\n",
      "86:\tlearn: 0.1687818\ttotal: 3.49s\tremaining: 521ms\n",
      "87:\tlearn: 0.1684200\ttotal: 3.52s\tremaining: 481ms\n",
      "88:\tlearn: 0.1681265\ttotal: 3.56s\tremaining: 440ms\n",
      "89:\tlearn: 0.1678230\ttotal: 3.6s\tremaining: 400ms\n",
      "90:\tlearn: 0.1675383\ttotal: 3.64s\tremaining: 360ms\n",
      "91:\tlearn: 0.1672280\ttotal: 3.68s\tremaining: 320ms\n",
      "92:\tlearn: 0.1668745\ttotal: 3.72s\tremaining: 280ms\n",
      "93:\tlearn: 0.1665733\ttotal: 3.76s\tremaining: 240ms\n",
      "94:\tlearn: 0.1662775\ttotal: 3.8s\tremaining: 200ms\n",
      "95:\tlearn: 0.1658931\ttotal: 3.84s\tremaining: 160ms\n",
      "96:\tlearn: 0.1656319\ttotal: 3.88s\tremaining: 120ms\n",
      "97:\tlearn: 0.1653157\ttotal: 3.93s\tremaining: 80.2ms\n",
      "98:\tlearn: 0.1650230\ttotal: 3.97s\tremaining: 40.1ms\n",
      "99:\tlearn: 0.1646396\ttotal: 4.01s\tremaining: 0us\n",
      "Fitting:  CatBoostClassifier finished. Elapsed time:  4 Seconds\n",
      "2/12 Fitting:  CatBoostClassifier CLEAN started...\n",
      "0:\tlearn: 0.5137509\ttotal: 37.3ms\tremaining: 3.69s\n",
      "1:\tlearn: 0.3857140\ttotal: 70.5ms\tremaining: 3.45s\n",
      "2:\tlearn: 0.2973332\ttotal: 102ms\tremaining: 3.29s\n",
      "3:\tlearn: 0.2336311\ttotal: 121ms\tremaining: 2.89s\n",
      "4:\tlearn: 0.1912886\ttotal: 137ms\tremaining: 2.6s\n",
      "5:\tlearn: 0.1610073\ttotal: 153ms\tremaining: 2.4s\n",
      "6:\tlearn: 0.1396335\ttotal: 170ms\tremaining: 2.26s\n",
      "7:\tlearn: 0.1234417\ttotal: 188ms\tremaining: 2.16s\n",
      "8:\tlearn: 0.1115212\ttotal: 203ms\tremaining: 2.06s\n",
      "9:\tlearn: 0.1025123\ttotal: 219ms\tremaining: 1.97s\n",
      "10:\tlearn: 0.0949926\ttotal: 234ms\tremaining: 1.9s\n",
      "11:\tlearn: 0.0890103\ttotal: 251ms\tremaining: 1.84s\n",
      "12:\tlearn: 0.0844405\ttotal: 266ms\tremaining: 1.78s\n",
      "13:\tlearn: 0.0806246\ttotal: 282ms\tremaining: 1.73s\n",
      "14:\tlearn: 0.0776760\ttotal: 298ms\tremaining: 1.69s\n",
      "15:\tlearn: 0.0751962\ttotal: 316ms\tremaining: 1.66s\n",
      "16:\tlearn: 0.0727250\ttotal: 331ms\tremaining: 1.62s\n",
      "17:\tlearn: 0.0708611\ttotal: 347ms\tremaining: 1.58s\n",
      "18:\tlearn: 0.0694382\ttotal: 362ms\tremaining: 1.54s\n",
      "19:\tlearn: 0.0680063\ttotal: 380ms\tremaining: 1.52s\n",
      "20:\tlearn: 0.0668015\ttotal: 395ms\tremaining: 1.49s\n",
      "21:\tlearn: 0.0654878\ttotal: 411ms\tremaining: 1.46s\n",
      "22:\tlearn: 0.0644385\ttotal: 425ms\tremaining: 1.42s\n",
      "23:\tlearn: 0.0633293\ttotal: 441ms\tremaining: 1.4s\n",
      "24:\tlearn: 0.0625466\ttotal: 456ms\tremaining: 1.37s\n",
      "25:\tlearn: 0.0619572\ttotal: 472ms\tremaining: 1.34s\n",
      "26:\tlearn: 0.0612032\ttotal: 488ms\tremaining: 1.32s\n",
      "27:\tlearn: 0.0605330\ttotal: 504ms\tremaining: 1.3s\n",
      "28:\tlearn: 0.0599037\ttotal: 520ms\tremaining: 1.27s\n",
      "29:\tlearn: 0.0593792\ttotal: 537ms\tremaining: 1.25s\n",
      "30:\tlearn: 0.0589204\ttotal: 552ms\tremaining: 1.23s\n",
      "31:\tlearn: 0.0584139\ttotal: 568ms\tremaining: 1.21s\n",
      "32:\tlearn: 0.0578081\ttotal: 584ms\tremaining: 1.18s\n",
      "33:\tlearn: 0.0574240\ttotal: 600ms\tremaining: 1.16s\n",
      "34:\tlearn: 0.0568219\ttotal: 615ms\tremaining: 1.14s\n",
      "35:\tlearn: 0.0564757\ttotal: 631ms\tremaining: 1.12s\n",
      "36:\tlearn: 0.0560275\ttotal: 646ms\tremaining: 1.1s\n",
      "37:\tlearn: 0.0556505\ttotal: 661ms\tremaining: 1.08s\n",
      "38:\tlearn: 0.0553198\ttotal: 676ms\tremaining: 1.06s\n",
      "39:\tlearn: 0.0550044\ttotal: 692ms\tremaining: 1.04s\n",
      "40:\tlearn: 0.0546557\ttotal: 707ms\tremaining: 1.02s\n",
      "41:\tlearn: 0.0542058\ttotal: 723ms\tremaining: 998ms\n",
      "42:\tlearn: 0.0537966\ttotal: 739ms\tremaining: 979ms\n",
      "43:\tlearn: 0.0534344\ttotal: 756ms\tremaining: 963ms\n",
      "44:\tlearn: 0.0531274\ttotal: 772ms\tremaining: 943ms\n",
      "45:\tlearn: 0.0527901\ttotal: 787ms\tremaining: 924ms\n",
      "46:\tlearn: 0.0522043\ttotal: 802ms\tremaining: 905ms\n",
      "47:\tlearn: 0.0518804\ttotal: 818ms\tremaining: 886ms\n",
      "48:\tlearn: 0.0515395\ttotal: 833ms\tremaining: 867ms\n",
      "49:\tlearn: 0.0512158\ttotal: 849ms\tremaining: 849ms\n",
      "50:\tlearn: 0.0508699\ttotal: 865ms\tremaining: 831ms\n",
      "51:\tlearn: 0.0505544\ttotal: 883ms\tremaining: 815ms\n",
      "52:\tlearn: 0.0502543\ttotal: 899ms\tremaining: 798ms\n",
      "53:\tlearn: 0.0499903\ttotal: 915ms\tremaining: 780ms\n",
      "54:\tlearn: 0.0496754\ttotal: 932ms\tremaining: 762ms\n",
      "55:\tlearn: 0.0493966\ttotal: 948ms\tremaining: 745ms\n",
      "56:\tlearn: 0.0490940\ttotal: 964ms\tremaining: 727ms\n",
      "57:\tlearn: 0.0487920\ttotal: 979ms\tremaining: 709ms\n",
      "58:\tlearn: 0.0484826\ttotal: 996ms\tremaining: 692ms\n",
      "59:\tlearn: 0.0481956\ttotal: 1.01s\tremaining: 674ms\n",
      "60:\tlearn: 0.0478863\ttotal: 1.03s\tremaining: 657ms\n",
      "61:\tlearn: 0.0476002\ttotal: 1.04s\tremaining: 639ms\n",
      "62:\tlearn: 0.0471932\ttotal: 1.06s\tremaining: 622ms\n",
      "63:\tlearn: 0.0469045\ttotal: 1.07s\tremaining: 604ms\n",
      "64:\tlearn: 0.0465982\ttotal: 1.09s\tremaining: 587ms\n",
      "65:\tlearn: 0.0462775\ttotal: 1.1s\tremaining: 570ms\n",
      "66:\tlearn: 0.0459760\ttotal: 1.12s\tremaining: 552ms\n",
      "67:\tlearn: 0.0456549\ttotal: 1.14s\tremaining: 535ms\n",
      "68:\tlearn: 0.0453713\ttotal: 1.15s\tremaining: 518ms\n",
      "69:\tlearn: 0.0450612\ttotal: 1.17s\tremaining: 502ms\n",
      "70:\tlearn: 0.0447733\ttotal: 1.19s\tremaining: 485ms\n",
      "71:\tlearn: 0.0444640\ttotal: 1.2s\tremaining: 467ms\n",
      "72:\tlearn: 0.0441380\ttotal: 1.22s\tremaining: 450ms\n",
      "73:\tlearn: 0.0438611\ttotal: 1.23s\tremaining: 433ms\n",
      "74:\tlearn: 0.0435739\ttotal: 1.25s\tremaining: 416ms\n",
      "75:\tlearn: 0.0432805\ttotal: 1.26s\tremaining: 399ms\n",
      "76:\tlearn: 0.0429983\ttotal: 1.28s\tremaining: 382ms\n",
      "77:\tlearn: 0.0427144\ttotal: 1.29s\tremaining: 365ms\n",
      "78:\tlearn: 0.0424263\ttotal: 1.31s\tremaining: 348ms\n",
      "79:\tlearn: 0.0418887\ttotal: 1.32s\tremaining: 331ms\n",
      "80:\tlearn: 0.0415960\ttotal: 1.34s\tremaining: 315ms\n",
      "81:\tlearn: 0.0413036\ttotal: 1.36s\tremaining: 298ms\n",
      "82:\tlearn: 0.0410573\ttotal: 1.37s\tremaining: 281ms\n",
      "83:\tlearn: 0.0407373\ttotal: 1.39s\tremaining: 265ms\n",
      "84:\tlearn: 0.0404372\ttotal: 1.41s\tremaining: 249ms\n",
      "85:\tlearn: 0.0401650\ttotal: 1.43s\tremaining: 232ms\n",
      "86:\tlearn: 0.0398853\ttotal: 1.44s\tremaining: 215ms\n",
      "87:\tlearn: 0.0396029\ttotal: 1.46s\tremaining: 199ms\n",
      "88:\tlearn: 0.0393388\ttotal: 1.47s\tremaining: 182ms\n",
      "89:\tlearn: 0.0389141\ttotal: 1.49s\tremaining: 165ms\n",
      "90:\tlearn: 0.0386589\ttotal: 1.5s\tremaining: 149ms\n",
      "91:\tlearn: 0.0383430\ttotal: 1.52s\tremaining: 132ms\n",
      "92:\tlearn: 0.0380822\ttotal: 1.53s\tremaining: 116ms\n",
      "93:\tlearn: 0.0378137\ttotal: 1.55s\tremaining: 99ms\n",
      "94:\tlearn: 0.0375578\ttotal: 1.57s\tremaining: 82.4ms\n",
      "95:\tlearn: 0.0373051\ttotal: 1.58s\tremaining: 66ms\n",
      "96:\tlearn: 0.0370557\ttotal: 1.6s\tremaining: 49.5ms\n",
      "97:\tlearn: 0.0368145\ttotal: 1.62s\tremaining: 33ms\n",
      "98:\tlearn: 0.0365700\ttotal: 1.63s\tremaining: 16.5ms\n",
      "99:\tlearn: 0.0363299\ttotal: 1.65s\tremaining: 0us\n",
      "Fitting:  CatBoostClassifier finished. Elapsed time:  2 Seconds\n",
      "3/12 Fitting:  CatBoostClassifier SMOTE-base started...\n",
      "0:\tlearn: 0.6503288\ttotal: 79.5ms\tremaining: 7.87s\n",
      "1:\tlearn: 0.6212544\ttotal: 146ms\tremaining: 7.15s\n",
      "2:\tlearn: 0.5895688\ttotal: 212ms\tremaining: 6.86s\n",
      "3:\tlearn: 0.5693881\ttotal: 278ms\tremaining: 6.68s\n",
      "4:\tlearn: 0.5451485\ttotal: 349ms\tremaining: 6.63s\n",
      "5:\tlearn: 0.5312054\ttotal: 414ms\tremaining: 6.49s\n",
      "6:\tlearn: 0.5129080\ttotal: 485ms\tremaining: 6.45s\n",
      "7:\tlearn: 0.4992628\ttotal: 552ms\tremaining: 6.35s\n",
      "8:\tlearn: 0.4886836\ttotal: 619ms\tremaining: 6.26s\n",
      "9:\tlearn: 0.4777954\ttotal: 688ms\tremaining: 6.2s\n",
      "10:\tlearn: 0.4655861\ttotal: 749ms\tremaining: 6.06s\n",
      "11:\tlearn: 0.4581945\ttotal: 813ms\tremaining: 5.96s\n",
      "12:\tlearn: 0.4509744\ttotal: 876ms\tremaining: 5.86s\n",
      "13:\tlearn: 0.4436782\ttotal: 942ms\tremaining: 5.79s\n",
      "14:\tlearn: 0.4360914\ttotal: 1s\tremaining: 5.68s\n",
      "15:\tlearn: 0.4282214\ttotal: 1.07s\tremaining: 5.6s\n",
      "16:\tlearn: 0.4215869\ttotal: 1.13s\tremaining: 5.52s\n",
      "17:\tlearn: 0.4171491\ttotal: 1.19s\tremaining: 5.44s\n",
      "18:\tlearn: 0.4115944\ttotal: 1.25s\tremaining: 5.35s\n",
      "19:\tlearn: 0.4074393\ttotal: 1.32s\tremaining: 5.28s\n",
      "20:\tlearn: 0.3985029\ttotal: 1.39s\tremaining: 5.21s\n",
      "21:\tlearn: 0.3946169\ttotal: 1.45s\tremaining: 5.13s\n",
      "22:\tlearn: 0.3890298\ttotal: 1.51s\tremaining: 5.05s\n",
      "23:\tlearn: 0.3853560\ttotal: 1.57s\tremaining: 4.97s\n",
      "24:\tlearn: 0.3787949\ttotal: 1.64s\tremaining: 4.91s\n",
      "25:\tlearn: 0.3732612\ttotal: 1.7s\tremaining: 4.85s\n",
      "26:\tlearn: 0.3689615\ttotal: 1.77s\tremaining: 4.79s\n",
      "27:\tlearn: 0.3664181\ttotal: 1.84s\tremaining: 4.73s\n",
      "28:\tlearn: 0.3624559\ttotal: 1.91s\tremaining: 4.67s\n",
      "29:\tlearn: 0.3585540\ttotal: 1.97s\tremaining: 4.61s\n",
      "30:\tlearn: 0.3557911\ttotal: 2.04s\tremaining: 4.54s\n",
      "31:\tlearn: 0.3532375\ttotal: 2.11s\tremaining: 4.48s\n",
      "32:\tlearn: 0.3502787\ttotal: 2.17s\tremaining: 4.41s\n",
      "33:\tlearn: 0.3479419\ttotal: 2.24s\tremaining: 4.34s\n",
      "34:\tlearn: 0.3455700\ttotal: 2.31s\tremaining: 4.28s\n",
      "35:\tlearn: 0.3426386\ttotal: 2.37s\tremaining: 4.22s\n",
      "36:\tlearn: 0.3400206\ttotal: 2.44s\tremaining: 4.16s\n",
      "37:\tlearn: 0.3381986\ttotal: 2.51s\tremaining: 4.09s\n",
      "38:\tlearn: 0.3356211\ttotal: 2.58s\tremaining: 4.03s\n",
      "39:\tlearn: 0.3331194\ttotal: 2.64s\tremaining: 3.96s\n",
      "40:\tlearn: 0.3309929\ttotal: 2.71s\tremaining: 3.89s\n",
      "41:\tlearn: 0.3286684\ttotal: 2.77s\tremaining: 3.83s\n",
      "42:\tlearn: 0.3269323\ttotal: 2.83s\tremaining: 3.76s\n",
      "43:\tlearn: 0.3227913\ttotal: 2.89s\tremaining: 3.68s\n",
      "44:\tlearn: 0.3211983\ttotal: 2.97s\tremaining: 3.63s\n",
      "45:\tlearn: 0.3193751\ttotal: 3.03s\tremaining: 3.56s\n",
      "46:\tlearn: 0.3163849\ttotal: 3.09s\tremaining: 3.49s\n",
      "47:\tlearn: 0.3124637\ttotal: 3.16s\tremaining: 3.42s\n",
      "48:\tlearn: 0.3103745\ttotal: 3.22s\tremaining: 3.35s\n",
      "49:\tlearn: 0.3088581\ttotal: 3.28s\tremaining: 3.28s\n",
      "50:\tlearn: 0.3069293\ttotal: 3.34s\tremaining: 3.21s\n",
      "51:\tlearn: 0.3048233\ttotal: 3.4s\tremaining: 3.14s\n",
      "52:\tlearn: 0.3031245\ttotal: 3.46s\tremaining: 3.07s\n",
      "53:\tlearn: 0.3006287\ttotal: 3.52s\tremaining: 3s\n",
      "54:\tlearn: 0.2984968\ttotal: 3.58s\tremaining: 2.93s\n",
      "55:\tlearn: 0.2953773\ttotal: 3.65s\tremaining: 2.87s\n",
      "56:\tlearn: 0.2927785\ttotal: 3.71s\tremaining: 2.8s\n",
      "57:\tlearn: 0.2909256\ttotal: 3.78s\tremaining: 2.73s\n",
      "58:\tlearn: 0.2891044\ttotal: 3.84s\tremaining: 2.67s\n",
      "59:\tlearn: 0.2878059\ttotal: 3.9s\tremaining: 2.6s\n",
      "60:\tlearn: 0.2851862\ttotal: 3.97s\tremaining: 2.54s\n",
      "61:\tlearn: 0.2840454\ttotal: 4.03s\tremaining: 2.47s\n",
      "62:\tlearn: 0.2829274\ttotal: 4.09s\tremaining: 2.4s\n",
      "63:\tlearn: 0.2819053\ttotal: 4.15s\tremaining: 2.33s\n",
      "64:\tlearn: 0.2806724\ttotal: 4.21s\tremaining: 2.27s\n",
      "65:\tlearn: 0.2798081\ttotal: 4.28s\tremaining: 2.2s\n",
      "66:\tlearn: 0.2774683\ttotal: 4.34s\tremaining: 2.14s\n",
      "67:\tlearn: 0.2757112\ttotal: 4.4s\tremaining: 2.07s\n",
      "68:\tlearn: 0.2745465\ttotal: 4.46s\tremaining: 2s\n",
      "69:\tlearn: 0.2733439\ttotal: 4.52s\tremaining: 1.94s\n",
      "70:\tlearn: 0.2717129\ttotal: 4.58s\tremaining: 1.87s\n",
      "71:\tlearn: 0.2698534\ttotal: 4.64s\tremaining: 1.81s\n",
      "72:\tlearn: 0.2671545\ttotal: 4.71s\tremaining: 1.74s\n",
      "73:\tlearn: 0.2656176\ttotal: 4.77s\tremaining: 1.68s\n",
      "74:\tlearn: 0.2638296\ttotal: 4.83s\tremaining: 1.61s\n",
      "75:\tlearn: 0.2628243\ttotal: 4.89s\tremaining: 1.54s\n",
      "76:\tlearn: 0.2619581\ttotal: 4.96s\tremaining: 1.48s\n",
      "77:\tlearn: 0.2609004\ttotal: 5.02s\tremaining: 1.42s\n",
      "78:\tlearn: 0.2595399\ttotal: 5.09s\tremaining: 1.35s\n",
      "79:\tlearn: 0.2581079\ttotal: 5.15s\tremaining: 1.29s\n",
      "80:\tlearn: 0.2568129\ttotal: 5.22s\tremaining: 1.22s\n",
      "81:\tlearn: 0.2559459\ttotal: 5.28s\tremaining: 1.16s\n",
      "82:\tlearn: 0.2546056\ttotal: 5.35s\tremaining: 1.09s\n",
      "83:\tlearn: 0.2536999\ttotal: 5.41s\tremaining: 1.03s\n",
      "84:\tlearn: 0.2530179\ttotal: 5.47s\tremaining: 966ms\n",
      "85:\tlearn: 0.2516942\ttotal: 5.54s\tremaining: 903ms\n",
      "86:\tlearn: 0.2508226\ttotal: 5.61s\tremaining: 838ms\n",
      "87:\tlearn: 0.2490538\ttotal: 5.67s\tremaining: 774ms\n",
      "88:\tlearn: 0.2480936\ttotal: 5.74s\tremaining: 709ms\n",
      "89:\tlearn: 0.2467614\ttotal: 5.8s\tremaining: 644ms\n",
      "90:\tlearn: 0.2459862\ttotal: 5.86s\tremaining: 579ms\n",
      "91:\tlearn: 0.2450381\ttotal: 5.92s\tremaining: 515ms\n",
      "92:\tlearn: 0.2439864\ttotal: 5.98s\tremaining: 450ms\n",
      "93:\tlearn: 0.2431967\ttotal: 6.04s\tremaining: 386ms\n",
      "94:\tlearn: 0.2422419\ttotal: 6.11s\tremaining: 321ms\n",
      "95:\tlearn: 0.2406907\ttotal: 6.17s\tremaining: 257ms\n",
      "96:\tlearn: 0.2398721\ttotal: 6.24s\tremaining: 193ms\n",
      "97:\tlearn: 0.2382108\ttotal: 6.3s\tremaining: 129ms\n",
      "98:\tlearn: 0.2372033\ttotal: 6.36s\tremaining: 64.2ms\n",
      "99:\tlearn: 0.2365152\ttotal: 6.41s\tremaining: 0us\n",
      "Fitting:  CatBoostClassifier finished. Elapsed time:  7 Seconds\n",
      "4/12 Fitting:  CatBoostClassifier SMOTE-clean started...\n",
      "0:\tlearn: 0.6366279\ttotal: 53.7ms\tremaining: 5.32s\n",
      "1:\tlearn: 0.5912894\ttotal: 82.8ms\tremaining: 4.06s\n",
      "2:\tlearn: 0.5604341\ttotal: 109ms\tremaining: 3.54s\n",
      "3:\tlearn: 0.5275573\ttotal: 135ms\tremaining: 3.25s\n",
      "4:\tlearn: 0.4997753\ttotal: 161ms\tremaining: 3.06s\n",
      "5:\tlearn: 0.4767653\ttotal: 187ms\tremaining: 2.92s\n",
      "6:\tlearn: 0.4514372\ttotal: 214ms\tremaining: 2.84s\n",
      "7:\tlearn: 0.4274746\ttotal: 240ms\tremaining: 2.76s\n",
      "8:\tlearn: 0.4086539\ttotal: 267ms\tremaining: 2.69s\n",
      "9:\tlearn: 0.3919449\ttotal: 291ms\tremaining: 2.62s\n",
      "10:\tlearn: 0.3765072\ttotal: 316ms\tremaining: 2.56s\n",
      "11:\tlearn: 0.3625449\ttotal: 342ms\tremaining: 2.51s\n",
      "12:\tlearn: 0.3446593\ttotal: 367ms\tremaining: 2.46s\n",
      "13:\tlearn: 0.3329525\ttotal: 393ms\tremaining: 2.41s\n",
      "14:\tlearn: 0.3206090\ttotal: 417ms\tremaining: 2.36s\n",
      "15:\tlearn: 0.3094682\ttotal: 443ms\tremaining: 2.32s\n",
      "16:\tlearn: 0.2967846\ttotal: 469ms\tremaining: 2.29s\n",
      "17:\tlearn: 0.2855035\ttotal: 496ms\tremaining: 2.26s\n",
      "18:\tlearn: 0.2773348\ttotal: 521ms\tremaining: 2.22s\n",
      "19:\tlearn: 0.2680941\ttotal: 547ms\tremaining: 2.19s\n",
      "20:\tlearn: 0.2582075\ttotal: 573ms\tremaining: 2.15s\n",
      "21:\tlearn: 0.2496359\ttotal: 596ms\tremaining: 2.11s\n",
      "22:\tlearn: 0.2415267\ttotal: 621ms\tremaining: 2.08s\n",
      "23:\tlearn: 0.2346300\ttotal: 647ms\tremaining: 2.05s\n",
      "24:\tlearn: 0.2275443\ttotal: 673ms\tremaining: 2.02s\n",
      "25:\tlearn: 0.2203825\ttotal: 697ms\tremaining: 1.98s\n",
      "26:\tlearn: 0.2154046\ttotal: 723ms\tremaining: 1.95s\n",
      "27:\tlearn: 0.2100458\ttotal: 748ms\tremaining: 1.92s\n",
      "28:\tlearn: 0.2036723\ttotal: 775ms\tremaining: 1.9s\n",
      "29:\tlearn: 0.1980565\ttotal: 800ms\tremaining: 1.87s\n",
      "30:\tlearn: 0.1914232\ttotal: 825ms\tremaining: 1.84s\n",
      "31:\tlearn: 0.1861116\ttotal: 849ms\tremaining: 1.8s\n",
      "32:\tlearn: 0.1799919\ttotal: 873ms\tremaining: 1.77s\n",
      "33:\tlearn: 0.1749459\ttotal: 898ms\tremaining: 1.74s\n",
      "34:\tlearn: 0.1702123\ttotal: 923ms\tremaining: 1.71s\n",
      "35:\tlearn: 0.1656317\ttotal: 948ms\tremaining: 1.69s\n",
      "36:\tlearn: 0.1613699\ttotal: 974ms\tremaining: 1.66s\n",
      "37:\tlearn: 0.1567192\ttotal: 999ms\tremaining: 1.63s\n",
      "38:\tlearn: 0.1518665\ttotal: 1.02s\tremaining: 1.6s\n",
      "39:\tlearn: 0.1485854\ttotal: 1.05s\tremaining: 1.57s\n",
      "40:\tlearn: 0.1446100\ttotal: 1.07s\tremaining: 1.55s\n",
      "41:\tlearn: 0.1405953\ttotal: 1.1s\tremaining: 1.52s\n",
      "42:\tlearn: 0.1371393\ttotal: 1.12s\tremaining: 1.49s\n",
      "43:\tlearn: 0.1339804\ttotal: 1.15s\tremaining: 1.46s\n",
      "44:\tlearn: 0.1300635\ttotal: 1.17s\tremaining: 1.43s\n",
      "45:\tlearn: 0.1274184\ttotal: 1.2s\tremaining: 1.41s\n",
      "46:\tlearn: 0.1241161\ttotal: 1.22s\tremaining: 1.38s\n",
      "47:\tlearn: 0.1207100\ttotal: 1.25s\tremaining: 1.35s\n",
      "48:\tlearn: 0.1175195\ttotal: 1.27s\tremaining: 1.33s\n",
      "49:\tlearn: 0.1152224\ttotal: 1.3s\tremaining: 1.3s\n",
      "50:\tlearn: 0.1127551\ttotal: 1.32s\tremaining: 1.27s\n",
      "51:\tlearn: 0.1098741\ttotal: 1.35s\tremaining: 1.24s\n",
      "52:\tlearn: 0.1070498\ttotal: 1.37s\tremaining: 1.22s\n",
      "53:\tlearn: 0.1042118\ttotal: 1.4s\tremaining: 1.19s\n",
      "54:\tlearn: 0.1023592\ttotal: 1.42s\tremaining: 1.16s\n",
      "55:\tlearn: 0.1002607\ttotal: 1.45s\tremaining: 1.14s\n",
      "56:\tlearn: 0.0980766\ttotal: 1.47s\tremaining: 1.11s\n",
      "57:\tlearn: 0.0965450\ttotal: 1.5s\tremaining: 1.08s\n",
      "58:\tlearn: 0.0950978\ttotal: 1.52s\tremaining: 1.06s\n",
      "59:\tlearn: 0.0932513\ttotal: 1.54s\tremaining: 1.03s\n",
      "60:\tlearn: 0.0910125\ttotal: 1.57s\tremaining: 1s\n",
      "61:\tlearn: 0.0889228\ttotal: 1.59s\tremaining: 977ms\n",
      "62:\tlearn: 0.0869709\ttotal: 1.62s\tremaining: 952ms\n",
      "63:\tlearn: 0.0853858\ttotal: 1.65s\tremaining: 926ms\n",
      "64:\tlearn: 0.0838312\ttotal: 1.67s\tremaining: 900ms\n",
      "65:\tlearn: 0.0822975\ttotal: 1.7s\tremaining: 874ms\n",
      "66:\tlearn: 0.0810750\ttotal: 1.72s\tremaining: 847ms\n",
      "67:\tlearn: 0.0787535\ttotal: 1.74s\tremaining: 821ms\n",
      "68:\tlearn: 0.0766738\ttotal: 1.77s\tremaining: 795ms\n",
      "69:\tlearn: 0.0754850\ttotal: 1.79s\tremaining: 769ms\n",
      "70:\tlearn: 0.0727899\ttotal: 1.82s\tremaining: 744ms\n",
      "71:\tlearn: 0.0717118\ttotal: 1.84s\tremaining: 718ms\n",
      "72:\tlearn: 0.0705783\ttotal: 1.87s\tremaining: 692ms\n",
      "73:\tlearn: 0.0696143\ttotal: 1.89s\tremaining: 666ms\n",
      "74:\tlearn: 0.0681568\ttotal: 1.92s\tremaining: 640ms\n",
      "75:\tlearn: 0.0674143\ttotal: 1.95s\tremaining: 615ms\n",
      "76:\tlearn: 0.0658648\ttotal: 1.97s\tremaining: 589ms\n",
      "77:\tlearn: 0.0649274\ttotal: 2s\tremaining: 563ms\n",
      "78:\tlearn: 0.0636608\ttotal: 2.02s\tremaining: 538ms\n",
      "79:\tlearn: 0.0625977\ttotal: 2.05s\tremaining: 512ms\n",
      "80:\tlearn: 0.0615905\ttotal: 2.07s\tremaining: 486ms\n",
      "81:\tlearn: 0.0601049\ttotal: 2.09s\tremaining: 460ms\n",
      "82:\tlearn: 0.0590287\ttotal: 2.12s\tremaining: 434ms\n",
      "83:\tlearn: 0.0587488\ttotal: 2.14s\tremaining: 408ms\n",
      "84:\tlearn: 0.0574159\ttotal: 2.17s\tremaining: 383ms\n",
      "85:\tlearn: 0.0571508\ttotal: 2.19s\tremaining: 357ms\n",
      "86:\tlearn: 0.0564422\ttotal: 2.22s\tremaining: 332ms\n",
      "87:\tlearn: 0.0557594\ttotal: 2.25s\tremaining: 306ms\n",
      "88:\tlearn: 0.0549947\ttotal: 2.27s\tremaining: 281ms\n",
      "89:\tlearn: 0.0540011\ttotal: 2.29s\tremaining: 255ms\n",
      "90:\tlearn: 0.0538821\ttotal: 2.32s\tremaining: 229ms\n",
      "91:\tlearn: 0.0532195\ttotal: 2.34s\tremaining: 204ms\n",
      "92:\tlearn: 0.0531112\ttotal: 2.37s\tremaining: 178ms\n",
      "93:\tlearn: 0.0530142\ttotal: 2.39s\tremaining: 153ms\n",
      "94:\tlearn: 0.0525686\ttotal: 2.42s\tremaining: 127ms\n",
      "95:\tlearn: 0.0515519\ttotal: 2.44s\tremaining: 102ms\n",
      "96:\tlearn: 0.0514730\ttotal: 2.47s\tremaining: 76.4ms\n",
      "97:\tlearn: 0.0501883\ttotal: 2.49s\tremaining: 50.9ms\n",
      "98:\tlearn: 0.0500877\ttotal: 2.52s\tremaining: 25.4ms\n",
      "99:\tlearn: 0.0491050\ttotal: 2.54s\tremaining: 0us\n",
      "Fitting:  CatBoostClassifier finished. Elapsed time:  3 Seconds\n",
      "5/12 Fitting:  CatBoostClassifier BorderlineSMOTE-base started...\n",
      "0:\tlearn: 0.6466650\ttotal: 78.8ms\tremaining: 7.8s\n",
      "1:\tlearn: 0.6142847\ttotal: 147ms\tremaining: 7.21s\n",
      "2:\tlearn: 0.5817970\ttotal: 207ms\tremaining: 6.7s\n",
      "3:\tlearn: 0.5599042\ttotal: 271ms\tremaining: 6.5s\n",
      "4:\tlearn: 0.5380454\ttotal: 333ms\tremaining: 6.33s\n",
      "5:\tlearn: 0.5149311\ttotal: 395ms\tremaining: 6.18s\n",
      "6:\tlearn: 0.5001526\ttotal: 454ms\tremaining: 6.03s\n",
      "7:\tlearn: 0.4893768\ttotal: 514ms\tremaining: 5.91s\n",
      "8:\tlearn: 0.4792175\ttotal: 573ms\tremaining: 5.79s\n",
      "9:\tlearn: 0.4693027\ttotal: 637ms\tremaining: 5.73s\n",
      "10:\tlearn: 0.4614318\ttotal: 698ms\tremaining: 5.65s\n",
      "11:\tlearn: 0.4526113\ttotal: 761ms\tremaining: 5.58s\n",
      "12:\tlearn: 0.4426417\ttotal: 822ms\tremaining: 5.5s\n",
      "13:\tlearn: 0.4365429\ttotal: 887ms\tremaining: 5.45s\n",
      "14:\tlearn: 0.4298448\ttotal: 946ms\tremaining: 5.36s\n",
      "15:\tlearn: 0.4212312\ttotal: 1s\tremaining: 5.28s\n",
      "16:\tlearn: 0.4153609\ttotal: 1.06s\tremaining: 5.2s\n",
      "17:\tlearn: 0.4100911\ttotal: 1.13s\tremaining: 5.13s\n",
      "18:\tlearn: 0.4042802\ttotal: 1.19s\tremaining: 5.05s\n",
      "19:\tlearn: 0.3965050\ttotal: 1.24s\tremaining: 4.98s\n",
      "20:\tlearn: 0.3885548\ttotal: 1.31s\tremaining: 4.92s\n",
      "21:\tlearn: 0.3831309\ttotal: 1.37s\tremaining: 4.86s\n",
      "22:\tlearn: 0.3789108\ttotal: 1.43s\tremaining: 4.78s\n",
      "23:\tlearn: 0.3738895\ttotal: 1.49s\tremaining: 4.71s\n",
      "24:\tlearn: 0.3704331\ttotal: 1.54s\tremaining: 4.64s\n",
      "25:\tlearn: 0.3657585\ttotal: 1.61s\tremaining: 4.58s\n",
      "26:\tlearn: 0.3611063\ttotal: 1.67s\tremaining: 4.5s\n",
      "27:\tlearn: 0.3579429\ttotal: 1.73s\tremaining: 4.44s\n",
      "28:\tlearn: 0.3526547\ttotal: 1.79s\tremaining: 4.38s\n",
      "29:\tlearn: 0.3492208\ttotal: 1.85s\tremaining: 4.32s\n",
      "30:\tlearn: 0.3439069\ttotal: 1.91s\tremaining: 4.25s\n",
      "31:\tlearn: 0.3406340\ttotal: 1.97s\tremaining: 4.19s\n",
      "32:\tlearn: 0.3372584\ttotal: 2.03s\tremaining: 4.13s\n",
      "33:\tlearn: 0.3335663\ttotal: 2.1s\tremaining: 4.07s\n",
      "34:\tlearn: 0.3304999\ttotal: 2.15s\tremaining: 4s\n",
      "35:\tlearn: 0.3276956\ttotal: 2.21s\tremaining: 3.93s\n",
      "36:\tlearn: 0.3252295\ttotal: 2.27s\tremaining: 3.87s\n",
      "37:\tlearn: 0.3225123\ttotal: 2.33s\tremaining: 3.81s\n",
      "38:\tlearn: 0.3196826\ttotal: 2.4s\tremaining: 3.75s\n",
      "39:\tlearn: 0.3175157\ttotal: 2.46s\tremaining: 3.68s\n",
      "40:\tlearn: 0.3147161\ttotal: 2.52s\tremaining: 3.62s\n",
      "41:\tlearn: 0.3124484\ttotal: 2.58s\tremaining: 3.56s\n",
      "42:\tlearn: 0.3097579\ttotal: 2.64s\tremaining: 3.49s\n",
      "43:\tlearn: 0.3076451\ttotal: 2.69s\tremaining: 3.43s\n",
      "44:\tlearn: 0.3055396\ttotal: 2.75s\tremaining: 3.37s\n",
      "45:\tlearn: 0.3037876\ttotal: 2.81s\tremaining: 3.3s\n",
      "46:\tlearn: 0.3012965\ttotal: 2.88s\tremaining: 3.24s\n",
      "47:\tlearn: 0.2991062\ttotal: 2.93s\tremaining: 3.18s\n",
      "48:\tlearn: 0.2961964\ttotal: 2.99s\tremaining: 3.12s\n",
      "49:\tlearn: 0.2940959\ttotal: 3.06s\tremaining: 3.06s\n",
      "50:\tlearn: 0.2921350\ttotal: 3.12s\tremaining: 2.99s\n",
      "51:\tlearn: 0.2900999\ttotal: 3.18s\tremaining: 2.93s\n",
      "52:\tlearn: 0.2883405\ttotal: 3.24s\tremaining: 2.87s\n",
      "53:\tlearn: 0.2863464\ttotal: 3.3s\tremaining: 2.81s\n",
      "54:\tlearn: 0.2843112\ttotal: 3.36s\tremaining: 2.75s\n",
      "55:\tlearn: 0.2822175\ttotal: 3.42s\tremaining: 2.68s\n",
      "56:\tlearn: 0.2804984\ttotal: 3.47s\tremaining: 2.62s\n",
      "57:\tlearn: 0.2773245\ttotal: 3.54s\tremaining: 2.56s\n",
      "58:\tlearn: 0.2754136\ttotal: 3.6s\tremaining: 2.5s\n",
      "59:\tlearn: 0.2737037\ttotal: 3.65s\tremaining: 2.44s\n",
      "60:\tlearn: 0.2720758\ttotal: 3.71s\tremaining: 2.37s\n",
      "61:\tlearn: 0.2704242\ttotal: 3.77s\tremaining: 2.31s\n",
      "62:\tlearn: 0.2687155\ttotal: 3.83s\tremaining: 2.25s\n",
      "63:\tlearn: 0.2668955\ttotal: 3.89s\tremaining: 2.19s\n",
      "64:\tlearn: 0.2649609\ttotal: 3.95s\tremaining: 2.13s\n",
      "65:\tlearn: 0.2635198\ttotal: 4.02s\tremaining: 2.07s\n",
      "66:\tlearn: 0.2620094\ttotal: 4.08s\tremaining: 2.01s\n",
      "67:\tlearn: 0.2605376\ttotal: 4.13s\tremaining: 1.95s\n",
      "68:\tlearn: 0.2595092\ttotal: 4.19s\tremaining: 1.88s\n",
      "69:\tlearn: 0.2570179\ttotal: 4.26s\tremaining: 1.82s\n",
      "70:\tlearn: 0.2555919\ttotal: 4.31s\tremaining: 1.76s\n",
      "71:\tlearn: 0.2544290\ttotal: 4.37s\tremaining: 1.7s\n",
      "72:\tlearn: 0.2530612\ttotal: 4.43s\tremaining: 1.64s\n",
      "73:\tlearn: 0.2520249\ttotal: 4.49s\tremaining: 1.58s\n",
      "74:\tlearn: 0.2500064\ttotal: 4.55s\tremaining: 1.52s\n",
      "75:\tlearn: 0.2487744\ttotal: 4.61s\tremaining: 1.46s\n",
      "76:\tlearn: 0.2476920\ttotal: 4.67s\tremaining: 1.39s\n",
      "77:\tlearn: 0.2464538\ttotal: 4.73s\tremaining: 1.33s\n",
      "78:\tlearn: 0.2450670\ttotal: 4.79s\tremaining: 1.27s\n",
      "79:\tlearn: 0.2437909\ttotal: 4.85s\tremaining: 1.21s\n",
      "80:\tlearn: 0.2422652\ttotal: 4.91s\tremaining: 1.15s\n",
      "81:\tlearn: 0.2405800\ttotal: 4.97s\tremaining: 1.09s\n",
      "82:\tlearn: 0.2390222\ttotal: 5.03s\tremaining: 1.03s\n",
      "83:\tlearn: 0.2374208\ttotal: 5.09s\tremaining: 969ms\n",
      "84:\tlearn: 0.2357851\ttotal: 5.14s\tremaining: 908ms\n",
      "85:\tlearn: 0.2346638\ttotal: 5.21s\tremaining: 847ms\n",
      "86:\tlearn: 0.2334701\ttotal: 5.26s\tremaining: 786ms\n",
      "87:\tlearn: 0.2324265\ttotal: 5.32s\tremaining: 726ms\n",
      "88:\tlearn: 0.2308735\ttotal: 5.38s\tremaining: 665ms\n",
      "89:\tlearn: 0.2299403\ttotal: 5.44s\tremaining: 605ms\n",
      "90:\tlearn: 0.2284706\ttotal: 5.5s\tremaining: 544ms\n",
      "91:\tlearn: 0.2273290\ttotal: 5.56s\tremaining: 483ms\n",
      "92:\tlearn: 0.2262522\ttotal: 5.62s\tremaining: 423ms\n",
      "93:\tlearn: 0.2253229\ttotal: 5.68s\tremaining: 363ms\n",
      "94:\tlearn: 0.2241930\ttotal: 5.75s\tremaining: 302ms\n",
      "95:\tlearn: 0.2233054\ttotal: 5.8s\tremaining: 242ms\n",
      "96:\tlearn: 0.2214077\ttotal: 5.86s\tremaining: 181ms\n",
      "97:\tlearn: 0.2203793\ttotal: 5.93s\tremaining: 121ms\n",
      "98:\tlearn: 0.2194698\ttotal: 5.98s\tremaining: 60.4ms\n",
      "99:\tlearn: 0.2185531\ttotal: 6.04s\tremaining: 0us\n",
      "Fitting:  CatBoostClassifier finished. Elapsed time:  7 Seconds\n",
      "6/12 Fitting:  CatBoostClassifier BorderlineSMOTE-clean started...\n",
      "0:\tlearn: 0.6229714\ttotal: 51.2ms\tremaining: 5.07s\n",
      "1:\tlearn: 0.5641314\ttotal: 77.1ms\tremaining: 3.77s\n",
      "2:\tlearn: 0.5188451\ttotal: 101ms\tremaining: 3.25s\n",
      "3:\tlearn: 0.4783244\ttotal: 125ms\tremaining: 3s\n",
      "4:\tlearn: 0.4486714\ttotal: 150ms\tremaining: 2.84s\n",
      "5:\tlearn: 0.4178039\ttotal: 173ms\tremaining: 2.71s\n",
      "6:\tlearn: 0.3901179\ttotal: 197ms\tremaining: 2.62s\n",
      "7:\tlearn: 0.3652254\ttotal: 221ms\tremaining: 2.54s\n",
      "8:\tlearn: 0.3398346\ttotal: 246ms\tremaining: 2.48s\n",
      "9:\tlearn: 0.3187375\ttotal: 270ms\tremaining: 2.43s\n",
      "10:\tlearn: 0.3028450\ttotal: 295ms\tremaining: 2.38s\n",
      "11:\tlearn: 0.2861672\ttotal: 319ms\tremaining: 2.34s\n",
      "12:\tlearn: 0.2698327\ttotal: 345ms\tremaining: 2.31s\n",
      "13:\tlearn: 0.2557534\ttotal: 369ms\tremaining: 2.27s\n",
      "14:\tlearn: 0.2427128\ttotal: 392ms\tremaining: 2.22s\n",
      "15:\tlearn: 0.2299293\ttotal: 419ms\tremaining: 2.2s\n",
      "16:\tlearn: 0.2176936\ttotal: 444ms\tremaining: 2.17s\n",
      "17:\tlearn: 0.2055567\ttotal: 468ms\tremaining: 2.13s\n",
      "18:\tlearn: 0.1972507\ttotal: 492ms\tremaining: 2.1s\n",
      "19:\tlearn: 0.1882406\ttotal: 516ms\tremaining: 2.06s\n",
      "20:\tlearn: 0.1807234\ttotal: 541ms\tremaining: 2.04s\n",
      "21:\tlearn: 0.1720694\ttotal: 565ms\tremaining: 2s\n",
      "22:\tlearn: 0.1659244\ttotal: 589ms\tremaining: 1.97s\n",
      "23:\tlearn: 0.1600532\ttotal: 612ms\tremaining: 1.94s\n",
      "24:\tlearn: 0.1535788\ttotal: 636ms\tremaining: 1.91s\n",
      "25:\tlearn: 0.1474264\ttotal: 659ms\tremaining: 1.88s\n",
      "26:\tlearn: 0.1407829\ttotal: 683ms\tremaining: 1.85s\n",
      "27:\tlearn: 0.1348194\ttotal: 708ms\tremaining: 1.82s\n",
      "28:\tlearn: 0.1300593\ttotal: 732ms\tremaining: 1.79s\n",
      "29:\tlearn: 0.1250543\ttotal: 757ms\tremaining: 1.77s\n",
      "30:\tlearn: 0.1197863\ttotal: 782ms\tremaining: 1.74s\n",
      "31:\tlearn: 0.1150307\ttotal: 807ms\tremaining: 1.72s\n",
      "32:\tlearn: 0.1109140\ttotal: 831ms\tremaining: 1.69s\n",
      "33:\tlearn: 0.1072463\ttotal: 854ms\tremaining: 1.66s\n",
      "34:\tlearn: 0.1038019\ttotal: 878ms\tremaining: 1.63s\n",
      "35:\tlearn: 0.1009968\ttotal: 901ms\tremaining: 1.6s\n",
      "36:\tlearn: 0.0973182\ttotal: 926ms\tremaining: 1.58s\n",
      "37:\tlearn: 0.0948788\ttotal: 953ms\tremaining: 1.55s\n",
      "38:\tlearn: 0.0922258\ttotal: 976ms\tremaining: 1.53s\n",
      "39:\tlearn: 0.0895815\ttotal: 1000ms\tremaining: 1.5s\n",
      "40:\tlearn: 0.0882435\ttotal: 1.02s\tremaining: 1.47s\n",
      "41:\tlearn: 0.0859040\ttotal: 1.05s\tremaining: 1.45s\n",
      "42:\tlearn: 0.0838961\ttotal: 1.07s\tremaining: 1.42s\n",
      "43:\tlearn: 0.0820026\ttotal: 1.09s\tremaining: 1.39s\n",
      "44:\tlearn: 0.0794830\ttotal: 1.12s\tremaining: 1.36s\n",
      "45:\tlearn: 0.0767892\ttotal: 1.14s\tremaining: 1.34s\n",
      "46:\tlearn: 0.0751911\ttotal: 1.17s\tremaining: 1.32s\n",
      "47:\tlearn: 0.0741396\ttotal: 1.19s\tremaining: 1.29s\n",
      "48:\tlearn: 0.0729976\ttotal: 1.22s\tremaining: 1.27s\n",
      "49:\tlearn: 0.0718037\ttotal: 1.24s\tremaining: 1.24s\n",
      "50:\tlearn: 0.0708375\ttotal: 1.27s\tremaining: 1.22s\n",
      "51:\tlearn: 0.0704176\ttotal: 1.29s\tremaining: 1.19s\n",
      "52:\tlearn: 0.0687407\ttotal: 1.31s\tremaining: 1.16s\n",
      "53:\tlearn: 0.0677147\ttotal: 1.34s\tremaining: 1.14s\n",
      "54:\tlearn: 0.0674289\ttotal: 1.36s\tremaining: 1.11s\n",
      "55:\tlearn: 0.0658104\ttotal: 1.39s\tremaining: 1.09s\n",
      "56:\tlearn: 0.0651016\ttotal: 1.41s\tremaining: 1.07s\n",
      "57:\tlearn: 0.0634766\ttotal: 1.44s\tremaining: 1.04s\n",
      "58:\tlearn: 0.0624376\ttotal: 1.46s\tremaining: 1.02s\n",
      "59:\tlearn: 0.0621445\ttotal: 1.49s\tremaining: 991ms\n",
      "60:\tlearn: 0.0618228\ttotal: 1.51s\tremaining: 965ms\n",
      "61:\tlearn: 0.0612083\ttotal: 1.53s\tremaining: 940ms\n",
      "62:\tlearn: 0.0599381\ttotal: 1.56s\tremaining: 916ms\n",
      "63:\tlearn: 0.0597481\ttotal: 1.58s\tremaining: 891ms\n",
      "64:\tlearn: 0.0589810\ttotal: 1.61s\tremaining: 866ms\n",
      "65:\tlearn: 0.0587815\ttotal: 1.63s\tremaining: 840ms\n",
      "66:\tlearn: 0.0586138\ttotal: 1.65s\tremaining: 814ms\n",
      "67:\tlearn: 0.0574710\ttotal: 1.68s\tremaining: 790ms\n",
      "68:\tlearn: 0.0573186\ttotal: 1.7s\tremaining: 764ms\n",
      "69:\tlearn: 0.0571494\ttotal: 1.73s\tremaining: 740ms\n",
      "70:\tlearn: 0.0570066\ttotal: 1.75s\tremaining: 715ms\n",
      "71:\tlearn: 0.0560528\ttotal: 1.77s\tremaining: 690ms\n",
      "72:\tlearn: 0.0559072\ttotal: 1.8s\tremaining: 665ms\n",
      "73:\tlearn: 0.0557750\ttotal: 1.82s\tremaining: 640ms\n",
      "74:\tlearn: 0.0556486\ttotal: 1.84s\tremaining: 615ms\n",
      "75:\tlearn: 0.0555148\ttotal: 1.87s\tremaining: 590ms\n",
      "76:\tlearn: 0.0553883\ttotal: 1.89s\tremaining: 565ms\n",
      "77:\tlearn: 0.0552705\ttotal: 1.91s\tremaining: 540ms\n",
      "78:\tlearn: 0.0551606\ttotal: 1.94s\tremaining: 515ms\n",
      "79:\tlearn: 0.0550528\ttotal: 1.96s\tremaining: 491ms\n",
      "80:\tlearn: 0.0549451\ttotal: 1.99s\tremaining: 466ms\n",
      "81:\tlearn: 0.0548489\ttotal: 2.01s\tremaining: 442ms\n",
      "82:\tlearn: 0.0547462\ttotal: 2.04s\tremaining: 417ms\n",
      "83:\tlearn: 0.0545470\ttotal: 2.06s\tremaining: 393ms\n",
      "84:\tlearn: 0.0534381\ttotal: 2.09s\tremaining: 368ms\n",
      "85:\tlearn: 0.0533437\ttotal: 2.11s\tremaining: 344ms\n",
      "86:\tlearn: 0.0532388\ttotal: 2.13s\tremaining: 319ms\n",
      "87:\tlearn: 0.0531450\ttotal: 2.16s\tremaining: 295ms\n",
      "88:\tlearn: 0.0520880\ttotal: 2.19s\tremaining: 270ms\n",
      "89:\tlearn: 0.0520019\ttotal: 2.21s\tremaining: 246ms\n",
      "90:\tlearn: 0.0511439\ttotal: 2.24s\tremaining: 221ms\n",
      "91:\tlearn: 0.0510363\ttotal: 2.26s\tremaining: 197ms\n",
      "92:\tlearn: 0.0509387\ttotal: 2.29s\tremaining: 172ms\n",
      "93:\tlearn: 0.0508455\ttotal: 2.31s\tremaining: 147ms\n",
      "94:\tlearn: 0.0506830\ttotal: 2.33s\tremaining: 123ms\n",
      "95:\tlearn: 0.0505659\ttotal: 2.36s\tremaining: 98.3ms\n",
      "96:\tlearn: 0.0504779\ttotal: 2.38s\tremaining: 73.7ms\n",
      "97:\tlearn: 0.0503955\ttotal: 2.41s\tremaining: 49.2ms\n",
      "98:\tlearn: 0.0503156\ttotal: 2.44s\tremaining: 24.6ms\n",
      "99:\tlearn: 0.0502279\ttotal: 2.46s\tremaining: 0us\n",
      "Fitting:  CatBoostClassifier finished. Elapsed time:  3 Seconds\n",
      "7/12 Fitting:  CatBoostClassifier ADASYN-base started...\n",
      "0:\tlearn: 0.6529610\ttotal: 69.7ms\tremaining: 6.9s\n",
      "1:\tlearn: 0.6239742\ttotal: 137ms\tremaining: 6.69s\n",
      "2:\tlearn: 0.5964009\ttotal: 202ms\tremaining: 6.54s\n",
      "3:\tlearn: 0.5762478\ttotal: 265ms\tremaining: 6.36s\n",
      "4:\tlearn: 0.5594521\ttotal: 329ms\tremaining: 6.25s\n",
      "5:\tlearn: 0.5347880\ttotal: 396ms\tremaining: 6.21s\n",
      "6:\tlearn: 0.5209717\ttotal: 461ms\tremaining: 6.12s\n",
      "7:\tlearn: 0.5076861\ttotal: 530ms\tremaining: 6.09s\n",
      "8:\tlearn: 0.4944812\ttotal: 594ms\tremaining: 6.01s\n",
      "9:\tlearn: 0.4823670\ttotal: 658ms\tremaining: 5.92s\n",
      "10:\tlearn: 0.4748202\ttotal: 721ms\tremaining: 5.84s\n",
      "11:\tlearn: 0.4619017\ttotal: 786ms\tremaining: 5.76s\n",
      "12:\tlearn: 0.4553325\ttotal: 855ms\tremaining: 5.72s\n",
      "13:\tlearn: 0.4436972\ttotal: 923ms\tremaining: 5.67s\n",
      "14:\tlearn: 0.4377285\ttotal: 992ms\tremaining: 5.62s\n",
      "15:\tlearn: 0.4310739\ttotal: 1.06s\tremaining: 5.56s\n",
      "16:\tlearn: 0.4257387\ttotal: 1.13s\tremaining: 5.51s\n",
      "17:\tlearn: 0.4172133\ttotal: 1.19s\tremaining: 5.44s\n",
      "18:\tlearn: 0.4100670\ttotal: 1.25s\tremaining: 5.35s\n",
      "19:\tlearn: 0.4036159\ttotal: 1.32s\tremaining: 5.27s\n",
      "20:\tlearn: 0.3996540\ttotal: 1.38s\tremaining: 5.21s\n",
      "21:\tlearn: 0.3946045\ttotal: 1.45s\tremaining: 5.13s\n",
      "22:\tlearn: 0.3903339\ttotal: 1.51s\tremaining: 5.06s\n",
      "23:\tlearn: 0.3841915\ttotal: 1.58s\tremaining: 5s\n",
      "24:\tlearn: 0.3800420\ttotal: 1.64s\tremaining: 4.93s\n",
      "25:\tlearn: 0.3774191\ttotal: 1.71s\tremaining: 4.88s\n",
      "26:\tlearn: 0.3732184\ttotal: 1.79s\tremaining: 4.83s\n",
      "27:\tlearn: 0.3685999\ttotal: 1.85s\tremaining: 4.77s\n",
      "28:\tlearn: 0.3629381\ttotal: 1.92s\tremaining: 4.7s\n",
      "29:\tlearn: 0.3582388\ttotal: 1.98s\tremaining: 4.62s\n",
      "30:\tlearn: 0.3543848\ttotal: 2.04s\tremaining: 4.55s\n",
      "31:\tlearn: 0.3514933\ttotal: 2.11s\tremaining: 4.48s\n",
      "32:\tlearn: 0.3488898\ttotal: 2.17s\tremaining: 4.41s\n",
      "33:\tlearn: 0.3463482\ttotal: 2.24s\tremaining: 4.34s\n",
      "34:\tlearn: 0.3430304\ttotal: 2.3s\tremaining: 4.28s\n",
      "35:\tlearn: 0.3409542\ttotal: 2.37s\tremaining: 4.21s\n",
      "36:\tlearn: 0.3389793\ttotal: 2.43s\tremaining: 4.13s\n",
      "37:\tlearn: 0.3366686\ttotal: 2.49s\tremaining: 4.06s\n",
      "38:\tlearn: 0.3330781\ttotal: 2.55s\tremaining: 4s\n",
      "39:\tlearn: 0.3298464\ttotal: 2.62s\tremaining: 3.94s\n",
      "40:\tlearn: 0.3280700\ttotal: 2.69s\tremaining: 3.87s\n",
      "41:\tlearn: 0.3263629\ttotal: 2.75s\tremaining: 3.8s\n",
      "42:\tlearn: 0.3244164\ttotal: 2.81s\tremaining: 3.73s\n",
      "43:\tlearn: 0.3228898\ttotal: 2.88s\tremaining: 3.66s\n",
      "44:\tlearn: 0.3193496\ttotal: 2.94s\tremaining: 3.6s\n",
      "45:\tlearn: 0.3172815\ttotal: 3.01s\tremaining: 3.53s\n",
      "46:\tlearn: 0.3156617\ttotal: 3.07s\tremaining: 3.46s\n",
      "47:\tlearn: 0.3137758\ttotal: 3.13s\tremaining: 3.39s\n",
      "48:\tlearn: 0.3121952\ttotal: 3.19s\tremaining: 3.32s\n",
      "49:\tlearn: 0.3105938\ttotal: 3.25s\tremaining: 3.25s\n",
      "50:\tlearn: 0.3082668\ttotal: 3.31s\tremaining: 3.18s\n",
      "51:\tlearn: 0.3040078\ttotal: 3.37s\tremaining: 3.11s\n",
      "52:\tlearn: 0.3022945\ttotal: 3.43s\tremaining: 3.04s\n",
      "53:\tlearn: 0.2999419\ttotal: 3.5s\tremaining: 2.98s\n",
      "54:\tlearn: 0.2983374\ttotal: 3.56s\tremaining: 2.91s\n",
      "55:\tlearn: 0.2964831\ttotal: 3.62s\tremaining: 2.85s\n",
      "56:\tlearn: 0.2944578\ttotal: 3.69s\tremaining: 2.78s\n",
      "57:\tlearn: 0.2931761\ttotal: 3.75s\tremaining: 2.71s\n",
      "58:\tlearn: 0.2915478\ttotal: 3.81s\tremaining: 2.65s\n",
      "59:\tlearn: 0.2899838\ttotal: 3.87s\tremaining: 2.58s\n",
      "60:\tlearn: 0.2889407\ttotal: 3.94s\tremaining: 2.52s\n",
      "61:\tlearn: 0.2875904\ttotal: 4s\tremaining: 2.45s\n",
      "62:\tlearn: 0.2858338\ttotal: 4.06s\tremaining: 2.38s\n",
      "63:\tlearn: 0.2846161\ttotal: 4.12s\tremaining: 2.32s\n",
      "64:\tlearn: 0.2833394\ttotal: 4.19s\tremaining: 2.25s\n",
      "65:\tlearn: 0.2824327\ttotal: 4.25s\tremaining: 2.19s\n",
      "66:\tlearn: 0.2811184\ttotal: 4.3s\tremaining: 2.12s\n",
      "67:\tlearn: 0.2798637\ttotal: 4.37s\tremaining: 2.05s\n",
      "68:\tlearn: 0.2788671\ttotal: 4.43s\tremaining: 1.99s\n",
      "69:\tlearn: 0.2776318\ttotal: 4.49s\tremaining: 1.92s\n",
      "70:\tlearn: 0.2761157\ttotal: 4.56s\tremaining: 1.86s\n",
      "71:\tlearn: 0.2743587\ttotal: 4.63s\tremaining: 1.8s\n",
      "72:\tlearn: 0.2731157\ttotal: 4.69s\tremaining: 1.73s\n",
      "73:\tlearn: 0.2720243\ttotal: 4.75s\tremaining: 1.67s\n",
      "74:\tlearn: 0.2704203\ttotal: 4.81s\tremaining: 1.6s\n",
      "75:\tlearn: 0.2690974\ttotal: 4.87s\tremaining: 1.54s\n",
      "76:\tlearn: 0.2672475\ttotal: 4.93s\tremaining: 1.47s\n",
      "77:\tlearn: 0.2663787\ttotal: 4.99s\tremaining: 1.41s\n",
      "78:\tlearn: 0.2652931\ttotal: 5.05s\tremaining: 1.34s\n",
      "79:\tlearn: 0.2642923\ttotal: 5.12s\tremaining: 1.28s\n",
      "80:\tlearn: 0.2635284\ttotal: 5.18s\tremaining: 1.21s\n",
      "81:\tlearn: 0.2626943\ttotal: 5.24s\tremaining: 1.15s\n",
      "82:\tlearn: 0.2618774\ttotal: 5.3s\tremaining: 1.08s\n",
      "83:\tlearn: 0.2611927\ttotal: 5.36s\tremaining: 1.02s\n",
      "84:\tlearn: 0.2603736\ttotal: 5.42s\tremaining: 957ms\n",
      "85:\tlearn: 0.2589806\ttotal: 5.48s\tremaining: 892ms\n",
      "86:\tlearn: 0.2584755\ttotal: 5.54s\tremaining: 828ms\n",
      "87:\tlearn: 0.2576022\ttotal: 5.61s\tremaining: 764ms\n",
      "88:\tlearn: 0.2568449\ttotal: 5.67s\tremaining: 701ms\n",
      "89:\tlearn: 0.2552257\ttotal: 5.73s\tremaining: 637ms\n",
      "90:\tlearn: 0.2535630\ttotal: 5.79s\tremaining: 573ms\n",
      "91:\tlearn: 0.2526909\ttotal: 5.86s\tremaining: 509ms\n",
      "92:\tlearn: 0.2506208\ttotal: 5.92s\tremaining: 446ms\n",
      "93:\tlearn: 0.2497085\ttotal: 5.98s\tremaining: 382ms\n",
      "94:\tlearn: 0.2490711\ttotal: 6.05s\tremaining: 318ms\n",
      "95:\tlearn: 0.2480743\ttotal: 6.11s\tremaining: 255ms\n",
      "96:\tlearn: 0.2470425\ttotal: 6.17s\tremaining: 191ms\n",
      "97:\tlearn: 0.2462211\ttotal: 6.23s\tremaining: 127ms\n",
      "98:\tlearn: 0.2446745\ttotal: 6.29s\tremaining: 63.6ms\n",
      "99:\tlearn: 0.2438815\ttotal: 6.36s\tremaining: 0us\n",
      "Fitting:  CatBoostClassifier finished. Elapsed time:  7 Seconds\n",
      "8/12 Fitting:  CatBoostClassifier ADASYN-clean started...\n",
      "0:\tlearn: 0.6422090\ttotal: 41.2ms\tremaining: 4.08s\n",
      "1:\tlearn: 0.5909264\ttotal: 71.7ms\tremaining: 3.51s\n",
      "2:\tlearn: 0.5589734\ttotal: 124ms\tremaining: 4.01s\n",
      "3:\tlearn: 0.5289582\ttotal: 149ms\tremaining: 3.56s\n",
      "4:\tlearn: 0.4997367\ttotal: 173ms\tremaining: 3.29s\n",
      "5:\tlearn: 0.4757419\ttotal: 200ms\tremaining: 3.13s\n",
      "6:\tlearn: 0.4547705\ttotal: 224ms\tremaining: 2.98s\n",
      "7:\tlearn: 0.4326116\ttotal: 248ms\tremaining: 2.85s\n",
      "8:\tlearn: 0.4153522\ttotal: 272ms\tremaining: 2.75s\n",
      "9:\tlearn: 0.3984196\ttotal: 298ms\tremaining: 2.68s\n",
      "10:\tlearn: 0.3829256\ttotal: 322ms\tremaining: 2.61s\n",
      "11:\tlearn: 0.3661870\ttotal: 348ms\tremaining: 2.55s\n",
      "12:\tlearn: 0.3504704\ttotal: 375ms\tremaining: 2.51s\n",
      "13:\tlearn: 0.3350918\ttotal: 400ms\tremaining: 2.46s\n",
      "14:\tlearn: 0.3253914\ttotal: 424ms\tremaining: 2.4s\n",
      "15:\tlearn: 0.3125978\ttotal: 449ms\tremaining: 2.35s\n",
      "16:\tlearn: 0.3015451\ttotal: 472ms\tremaining: 2.31s\n",
      "17:\tlearn: 0.2906127\ttotal: 497ms\tremaining: 2.26s\n",
      "18:\tlearn: 0.2821765\ttotal: 522ms\tremaining: 2.22s\n",
      "19:\tlearn: 0.2731080\ttotal: 546ms\tremaining: 2.19s\n",
      "20:\tlearn: 0.2641739\ttotal: 571ms\tremaining: 2.15s\n",
      "21:\tlearn: 0.2540747\ttotal: 596ms\tremaining: 2.11s\n",
      "22:\tlearn: 0.2458030\ttotal: 620ms\tremaining: 2.08s\n",
      "23:\tlearn: 0.2377143\ttotal: 644ms\tremaining: 2.04s\n",
      "24:\tlearn: 0.2304680\ttotal: 669ms\tremaining: 2.01s\n",
      "25:\tlearn: 0.2230473\ttotal: 693ms\tremaining: 1.97s\n",
      "26:\tlearn: 0.2171307\ttotal: 718ms\tremaining: 1.94s\n",
      "27:\tlearn: 0.2102290\ttotal: 743ms\tremaining: 1.91s\n",
      "28:\tlearn: 0.2054426\ttotal: 768ms\tremaining: 1.88s\n",
      "29:\tlearn: 0.1995544\ttotal: 793ms\tremaining: 1.85s\n",
      "30:\tlearn: 0.1941160\ttotal: 818ms\tremaining: 1.82s\n",
      "31:\tlearn: 0.1893163\ttotal: 845ms\tremaining: 1.79s\n",
      "32:\tlearn: 0.1833064\ttotal: 870ms\tremaining: 1.77s\n",
      "33:\tlearn: 0.1773814\ttotal: 895ms\tremaining: 1.74s\n",
      "34:\tlearn: 0.1715967\ttotal: 919ms\tremaining: 1.71s\n",
      "35:\tlearn: 0.1675907\ttotal: 943ms\tremaining: 1.68s\n",
      "36:\tlearn: 0.1632113\ttotal: 968ms\tremaining: 1.65s\n",
      "37:\tlearn: 0.1596574\ttotal: 993ms\tremaining: 1.62s\n",
      "38:\tlearn: 0.1566805\ttotal: 1.02s\tremaining: 1.59s\n",
      "39:\tlearn: 0.1522193\ttotal: 1.04s\tremaining: 1.56s\n",
      "40:\tlearn: 0.1472167\ttotal: 1.07s\tremaining: 1.53s\n",
      "41:\tlearn: 0.1434317\ttotal: 1.09s\tremaining: 1.51s\n",
      "42:\tlearn: 0.1398891\ttotal: 1.11s\tremaining: 1.48s\n",
      "43:\tlearn: 0.1370905\ttotal: 1.14s\tremaining: 1.45s\n",
      "44:\tlearn: 0.1339356\ttotal: 1.16s\tremaining: 1.42s\n",
      "45:\tlearn: 0.1307748\ttotal: 1.19s\tremaining: 1.4s\n",
      "46:\tlearn: 0.1281849\ttotal: 1.21s\tremaining: 1.37s\n",
      "47:\tlearn: 0.1254414\ttotal: 1.24s\tremaining: 1.34s\n",
      "48:\tlearn: 0.1228077\ttotal: 1.26s\tremaining: 1.31s\n",
      "49:\tlearn: 0.1201003\ttotal: 1.29s\tremaining: 1.29s\n",
      "50:\tlearn: 0.1169134\ttotal: 1.31s\tremaining: 1.26s\n",
      "51:\tlearn: 0.1140681\ttotal: 1.34s\tremaining: 1.23s\n",
      "52:\tlearn: 0.1112101\ttotal: 1.36s\tremaining: 1.21s\n",
      "53:\tlearn: 0.1084365\ttotal: 1.39s\tremaining: 1.18s\n",
      "54:\tlearn: 0.1063351\ttotal: 1.41s\tremaining: 1.16s\n",
      "55:\tlearn: 0.1030403\ttotal: 1.44s\tremaining: 1.13s\n",
      "56:\tlearn: 0.1010165\ttotal: 1.46s\tremaining: 1.1s\n",
      "57:\tlearn: 0.0994858\ttotal: 1.49s\tremaining: 1.08s\n",
      "58:\tlearn: 0.0980436\ttotal: 1.51s\tremaining: 1.05s\n",
      "59:\tlearn: 0.0957719\ttotal: 1.53s\tremaining: 1.02s\n",
      "60:\tlearn: 0.0939195\ttotal: 1.56s\tremaining: 998ms\n",
      "61:\tlearn: 0.0921892\ttotal: 1.58s\tremaining: 971ms\n",
      "62:\tlearn: 0.0903515\ttotal: 1.61s\tremaining: 945ms\n",
      "63:\tlearn: 0.0888566\ttotal: 1.64s\tremaining: 920ms\n",
      "64:\tlearn: 0.0871759\ttotal: 1.66s\tremaining: 894ms\n",
      "65:\tlearn: 0.0846752\ttotal: 1.68s\tremaining: 868ms\n",
      "66:\tlearn: 0.0832129\ttotal: 1.71s\tremaining: 842ms\n",
      "67:\tlearn: 0.0816668\ttotal: 1.73s\tremaining: 816ms\n",
      "68:\tlearn: 0.0801157\ttotal: 1.76s\tremaining: 791ms\n",
      "69:\tlearn: 0.0783964\ttotal: 1.78s\tremaining: 765ms\n",
      "70:\tlearn: 0.0771511\ttotal: 1.81s\tremaining: 740ms\n",
      "71:\tlearn: 0.0757455\ttotal: 1.84s\tremaining: 715ms\n",
      "72:\tlearn: 0.0748156\ttotal: 1.86s\tremaining: 689ms\n",
      "73:\tlearn: 0.0736282\ttotal: 1.89s\tremaining: 664ms\n",
      "74:\tlearn: 0.0718713\ttotal: 1.91s\tremaining: 638ms\n",
      "75:\tlearn: 0.0704138\ttotal: 1.94s\tremaining: 612ms\n",
      "76:\tlearn: 0.0695473\ttotal: 1.96s\tremaining: 587ms\n",
      "77:\tlearn: 0.0687412\ttotal: 1.99s\tremaining: 561ms\n",
      "78:\tlearn: 0.0670165\ttotal: 2.01s\tremaining: 536ms\n",
      "79:\tlearn: 0.0662121\ttotal: 2.04s\tremaining: 510ms\n",
      "80:\tlearn: 0.0647655\ttotal: 2.06s\tremaining: 484ms\n",
      "81:\tlearn: 0.0636960\ttotal: 2.09s\tremaining: 459ms\n",
      "82:\tlearn: 0.0630042\ttotal: 2.12s\tremaining: 433ms\n",
      "83:\tlearn: 0.0618150\ttotal: 2.14s\tremaining: 408ms\n",
      "84:\tlearn: 0.0612404\ttotal: 2.16s\tremaining: 382ms\n",
      "85:\tlearn: 0.0598845\ttotal: 2.19s\tremaining: 356ms\n",
      "86:\tlearn: 0.0591332\ttotal: 2.21s\tremaining: 331ms\n",
      "87:\tlearn: 0.0578979\ttotal: 2.24s\tremaining: 305ms\n",
      "88:\tlearn: 0.0570638\ttotal: 2.26s\tremaining: 280ms\n",
      "89:\tlearn: 0.0565200\ttotal: 2.29s\tremaining: 254ms\n",
      "90:\tlearn: 0.0563116\ttotal: 2.31s\tremaining: 229ms\n",
      "91:\tlearn: 0.0560358\ttotal: 2.34s\tremaining: 203ms\n",
      "92:\tlearn: 0.0548815\ttotal: 2.36s\tremaining: 178ms\n",
      "93:\tlearn: 0.0542484\ttotal: 2.39s\tremaining: 153ms\n",
      "94:\tlearn: 0.0531019\ttotal: 2.41s\tremaining: 127ms\n",
      "95:\tlearn: 0.0524019\ttotal: 2.44s\tremaining: 102ms\n",
      "96:\tlearn: 0.0522850\ttotal: 2.46s\tremaining: 76.2ms\n",
      "97:\tlearn: 0.0521720\ttotal: 2.49s\tremaining: 50.8ms\n",
      "98:\tlearn: 0.0512342\ttotal: 2.51s\tremaining: 25.4ms\n",
      "99:\tlearn: 0.0503756\ttotal: 2.54s\tremaining: 0us\n",
      "Fitting:  CatBoostClassifier finished. Elapsed time:  3 Seconds\n",
      "9/12 Fitting:  CatBoostClassifier NearMiss-base started...\n",
      "0:\tlearn: 0.6201800\ttotal: 9.27ms\tremaining: 918ms\n",
      "1:\tlearn: 0.5621352\ttotal: 20.6ms\tremaining: 1.01s\n",
      "2:\tlearn: 0.5175712\ttotal: 31.3ms\tremaining: 1.01s\n",
      "3:\tlearn: 0.4787788\ttotal: 40.8ms\tremaining: 980ms\n",
      "4:\tlearn: 0.4466622\ttotal: 51.2ms\tremaining: 972ms\n",
      "5:\tlearn: 0.4237574\ttotal: 61.9ms\tremaining: 970ms\n",
      "6:\tlearn: 0.4002126\ttotal: 71.4ms\tremaining: 948ms\n",
      "7:\tlearn: 0.3859271\ttotal: 81.3ms\tremaining: 935ms\n",
      "8:\tlearn: 0.3755316\ttotal: 101ms\tremaining: 1.02s\n",
      "9:\tlearn: 0.3624506\ttotal: 111ms\tremaining: 1s\n",
      "10:\tlearn: 0.3549973\ttotal: 121ms\tremaining: 982ms\n",
      "11:\tlearn: 0.3462632\ttotal: 132ms\tremaining: 965ms\n",
      "12:\tlearn: 0.3406930\ttotal: 142ms\tremaining: 949ms\n",
      "13:\tlearn: 0.3361241\ttotal: 152ms\tremaining: 934ms\n",
      "14:\tlearn: 0.3315527\ttotal: 164ms\tremaining: 928ms\n",
      "15:\tlearn: 0.3252603\ttotal: 174ms\tremaining: 915ms\n",
      "16:\tlearn: 0.3203680\ttotal: 185ms\tremaining: 904ms\n",
      "17:\tlearn: 0.3161737\ttotal: 196ms\tremaining: 891ms\n",
      "18:\tlearn: 0.3139585\ttotal: 205ms\tremaining: 875ms\n",
      "19:\tlearn: 0.3111671\ttotal: 215ms\tremaining: 861ms\n",
      "20:\tlearn: 0.3085323\ttotal: 226ms\tremaining: 850ms\n",
      "21:\tlearn: 0.3049299\ttotal: 236ms\tremaining: 835ms\n",
      "22:\tlearn: 0.3028549\ttotal: 246ms\tremaining: 823ms\n",
      "23:\tlearn: 0.3000384\ttotal: 255ms\tremaining: 809ms\n",
      "24:\tlearn: 0.2975850\ttotal: 266ms\tremaining: 797ms\n",
      "25:\tlearn: 0.2954911\ttotal: 276ms\tremaining: 786ms\n",
      "26:\tlearn: 0.2936133\ttotal: 286ms\tremaining: 774ms\n",
      "27:\tlearn: 0.2917648\ttotal: 297ms\tremaining: 763ms\n",
      "28:\tlearn: 0.2904496\ttotal: 307ms\tremaining: 751ms\n",
      "29:\tlearn: 0.2881205\ttotal: 319ms\tremaining: 744ms\n",
      "30:\tlearn: 0.2867541\ttotal: 330ms\tremaining: 734ms\n",
      "31:\tlearn: 0.2851570\ttotal: 340ms\tremaining: 722ms\n",
      "32:\tlearn: 0.2837030\ttotal: 351ms\tremaining: 712ms\n",
      "33:\tlearn: 0.2818495\ttotal: 361ms\tremaining: 701ms\n",
      "34:\tlearn: 0.2799157\ttotal: 372ms\tremaining: 690ms\n",
      "35:\tlearn: 0.2780409\ttotal: 384ms\tremaining: 683ms\n",
      "36:\tlearn: 0.2767891\ttotal: 395ms\tremaining: 672ms\n",
      "37:\tlearn: 0.2752551\ttotal: 404ms\tremaining: 660ms\n",
      "38:\tlearn: 0.2741002\ttotal: 415ms\tremaining: 649ms\n",
      "39:\tlearn: 0.2723959\ttotal: 426ms\tremaining: 639ms\n",
      "40:\tlearn: 0.2711328\ttotal: 435ms\tremaining: 627ms\n",
      "41:\tlearn: 0.2701067\ttotal: 446ms\tremaining: 616ms\n",
      "42:\tlearn: 0.2690771\ttotal: 456ms\tremaining: 605ms\n",
      "43:\tlearn: 0.2673382\ttotal: 466ms\tremaining: 593ms\n",
      "44:\tlearn: 0.2659095\ttotal: 477ms\tremaining: 582ms\n",
      "45:\tlearn: 0.2648566\ttotal: 486ms\tremaining: 571ms\n",
      "46:\tlearn: 0.2629583\ttotal: 497ms\tremaining: 560ms\n",
      "47:\tlearn: 0.2618749\ttotal: 507ms\tremaining: 549ms\n",
      "48:\tlearn: 0.2606663\ttotal: 518ms\tremaining: 539ms\n",
      "49:\tlearn: 0.2593228\ttotal: 528ms\tremaining: 528ms\n",
      "50:\tlearn: 0.2575318\ttotal: 539ms\tremaining: 518ms\n",
      "51:\tlearn: 0.2569033\ttotal: 551ms\tremaining: 509ms\n",
      "52:\tlearn: 0.2558556\ttotal: 562ms\tremaining: 498ms\n",
      "53:\tlearn: 0.2548590\ttotal: 573ms\tremaining: 488ms\n",
      "54:\tlearn: 0.2538364\ttotal: 583ms\tremaining: 477ms\n",
      "55:\tlearn: 0.2528270\ttotal: 594ms\tremaining: 467ms\n",
      "56:\tlearn: 0.2515835\ttotal: 604ms\tremaining: 456ms\n",
      "57:\tlearn: 0.2502901\ttotal: 615ms\tremaining: 445ms\n",
      "58:\tlearn: 0.2493246\ttotal: 626ms\tremaining: 435ms\n",
      "59:\tlearn: 0.2485708\ttotal: 636ms\tremaining: 424ms\n",
      "60:\tlearn: 0.2475178\ttotal: 647ms\tremaining: 413ms\n",
      "61:\tlearn: 0.2467419\ttotal: 657ms\tremaining: 403ms\n",
      "62:\tlearn: 0.2456449\ttotal: 668ms\tremaining: 392ms\n",
      "63:\tlearn: 0.2439532\ttotal: 678ms\tremaining: 382ms\n",
      "64:\tlearn: 0.2430344\ttotal: 688ms\tremaining: 371ms\n",
      "65:\tlearn: 0.2420127\ttotal: 698ms\tremaining: 360ms\n",
      "66:\tlearn: 0.2404527\ttotal: 709ms\tremaining: 349ms\n",
      "67:\tlearn: 0.2394831\ttotal: 720ms\tremaining: 339ms\n",
      "68:\tlearn: 0.2382578\ttotal: 730ms\tremaining: 328ms\n",
      "69:\tlearn: 0.2369613\ttotal: 741ms\tremaining: 318ms\n",
      "70:\tlearn: 0.2361304\ttotal: 752ms\tremaining: 307ms\n",
      "71:\tlearn: 0.2351453\ttotal: 763ms\tremaining: 297ms\n",
      "72:\tlearn: 0.2341578\ttotal: 774ms\tremaining: 286ms\n",
      "73:\tlearn: 0.2333639\ttotal: 785ms\tremaining: 276ms\n",
      "74:\tlearn: 0.2321066\ttotal: 795ms\tremaining: 265ms\n",
      "75:\tlearn: 0.2309343\ttotal: 805ms\tremaining: 254ms\n",
      "76:\tlearn: 0.2298360\ttotal: 816ms\tremaining: 244ms\n",
      "77:\tlearn: 0.2285968\ttotal: 827ms\tremaining: 233ms\n",
      "78:\tlearn: 0.2274890\ttotal: 853ms\tremaining: 227ms\n",
      "79:\tlearn: 0.2264116\ttotal: 864ms\tremaining: 216ms\n",
      "80:\tlearn: 0.2253611\ttotal: 874ms\tremaining: 205ms\n",
      "81:\tlearn: 0.2242582\ttotal: 885ms\tremaining: 194ms\n",
      "82:\tlearn: 0.2230976\ttotal: 895ms\tremaining: 183ms\n",
      "83:\tlearn: 0.2221387\ttotal: 906ms\tremaining: 173ms\n",
      "84:\tlearn: 0.2213052\ttotal: 917ms\tremaining: 162ms\n",
      "85:\tlearn: 0.2197383\ttotal: 928ms\tremaining: 151ms\n",
      "86:\tlearn: 0.2191112\ttotal: 939ms\tremaining: 140ms\n",
      "87:\tlearn: 0.2183081\ttotal: 949ms\tremaining: 129ms\n",
      "88:\tlearn: 0.2176903\ttotal: 959ms\tremaining: 119ms\n",
      "89:\tlearn: 0.2167303\ttotal: 971ms\tremaining: 108ms\n",
      "90:\tlearn: 0.2161305\ttotal: 982ms\tremaining: 97.1ms\n",
      "91:\tlearn: 0.2152369\ttotal: 993ms\tremaining: 86.3ms\n",
      "92:\tlearn: 0.2144719\ttotal: 1s\tremaining: 75.6ms\n",
      "93:\tlearn: 0.2131721\ttotal: 1.01s\tremaining: 64.8ms\n",
      "94:\tlearn: 0.2118540\ttotal: 1.03s\tremaining: 54ms\n",
      "95:\tlearn: 0.2112626\ttotal: 1.04s\tremaining: 43.3ms\n",
      "96:\tlearn: 0.2094089\ttotal: 1.05s\tremaining: 32.4ms\n",
      "97:\tlearn: 0.2085075\ttotal: 1.06s\tremaining: 21.6ms\n",
      "98:\tlearn: 0.2079060\ttotal: 1.07s\tremaining: 10.8ms\n",
      "99:\tlearn: 0.2073403\ttotal: 1.08s\tremaining: 0us\n",
      "Fitting:  CatBoostClassifier finished. Elapsed time:  1 Seconds\n",
      "10/12 Fitting:  CatBoostClassifier NearMiss-clean started...\n",
      "0:\tlearn: 0.6886564\ttotal: 3.28ms\tremaining: 325ms\n",
      "1:\tlearn: 0.6735518\ttotal: 6.09ms\tremaining: 299ms\n",
      "2:\tlearn: 0.6582844\ttotal: 9.23ms\tremaining: 298ms\n",
      "3:\tlearn: 0.6548232\ttotal: 12.2ms\tremaining: 292ms\n",
      "4:\tlearn: 0.6505144\ttotal: 15.1ms\tremaining: 286ms\n",
      "5:\tlearn: 0.6448405\ttotal: 18ms\tremaining: 282ms\n",
      "6:\tlearn: 0.6419379\ttotal: 20.7ms\tremaining: 275ms\n",
      "7:\tlearn: 0.6348637\ttotal: 23.5ms\tremaining: 271ms\n",
      "8:\tlearn: 0.6285173\ttotal: 26.2ms\tremaining: 265ms\n",
      "9:\tlearn: 0.6222842\ttotal: 29ms\tremaining: 261ms\n",
      "10:\tlearn: 0.6201065\ttotal: 31.7ms\tremaining: 256ms\n",
      "11:\tlearn: 0.6144466\ttotal: 34.5ms\tremaining: 253ms\n",
      "12:\tlearn: 0.6078600\ttotal: 38.6ms\tremaining: 258ms\n",
      "13:\tlearn: 0.6025108\ttotal: 42.2ms\tremaining: 259ms\n",
      "14:\tlearn: 0.5915675\ttotal: 45.4ms\tremaining: 257ms\n",
      "15:\tlearn: 0.5876663\ttotal: 47.7ms\tremaining: 250ms\n",
      "16:\tlearn: 0.5826444\ttotal: 50.7ms\tremaining: 248ms\n",
      "17:\tlearn: 0.5744674\ttotal: 53.8ms\tremaining: 245ms\n",
      "18:\tlearn: 0.5705957\ttotal: 56.6ms\tremaining: 241ms\n",
      "19:\tlearn: 0.5631690\ttotal: 59.6ms\tremaining: 239ms\n",
      "20:\tlearn: 0.5599682\ttotal: 62.3ms\tremaining: 234ms\n",
      "21:\tlearn: 0.5554473\ttotal: 65.2ms\tremaining: 231ms\n",
      "22:\tlearn: 0.5527785\ttotal: 67.8ms\tremaining: 227ms\n",
      "23:\tlearn: 0.5496527\ttotal: 70.4ms\tremaining: 223ms\n",
      "24:\tlearn: 0.5460159\ttotal: 73.7ms\tremaining: 221ms\n",
      "25:\tlearn: 0.5410091\ttotal: 78.4ms\tremaining: 223ms\n",
      "26:\tlearn: 0.5369784\ttotal: 81.6ms\tremaining: 221ms\n",
      "27:\tlearn: 0.5343961\ttotal: 84.5ms\tremaining: 217ms\n",
      "28:\tlearn: 0.5266595\ttotal: 87.3ms\tremaining: 214ms\n",
      "29:\tlearn: 0.5249953\ttotal: 90ms\tremaining: 210ms\n",
      "30:\tlearn: 0.5224026\ttotal: 92.5ms\tremaining: 206ms\n",
      "31:\tlearn: 0.5191129\ttotal: 100ms\tremaining: 213ms\n",
      "32:\tlearn: 0.5129513\ttotal: 164ms\tremaining: 333ms\n",
      "33:\tlearn: 0.5094141\ttotal: 168ms\tremaining: 326ms\n",
      "34:\tlearn: 0.5041589\ttotal: 171ms\tremaining: 317ms\n",
      "35:\tlearn: 0.4998037\ttotal: 173ms\tremaining: 308ms\n",
      "36:\tlearn: 0.4957765\ttotal: 176ms\tremaining: 300ms\n",
      "37:\tlearn: 0.4927926\ttotal: 181ms\tremaining: 295ms\n",
      "38:\tlearn: 0.4895627\ttotal: 184ms\tremaining: 287ms\n",
      "39:\tlearn: 0.4854134\ttotal: 187ms\tremaining: 280ms\n",
      "40:\tlearn: 0.4810733\ttotal: 189ms\tremaining: 273ms\n",
      "41:\tlearn: 0.4768611\ttotal: 192ms\tremaining: 265ms\n",
      "42:\tlearn: 0.4725199\ttotal: 195ms\tremaining: 258ms\n",
      "43:\tlearn: 0.4698967\ttotal: 197ms\tremaining: 251ms\n",
      "44:\tlearn: 0.4683011\ttotal: 200ms\tremaining: 245ms\n",
      "45:\tlearn: 0.4652545\ttotal: 203ms\tremaining: 238ms\n",
      "46:\tlearn: 0.4614434\ttotal: 206ms\tremaining: 232ms\n",
      "47:\tlearn: 0.4567490\ttotal: 208ms\tremaining: 226ms\n",
      "48:\tlearn: 0.4519039\ttotal: 211ms\tremaining: 220ms\n",
      "49:\tlearn: 0.4469147\ttotal: 214ms\tremaining: 214ms\n",
      "50:\tlearn: 0.4420480\ttotal: 217ms\tremaining: 209ms\n",
      "51:\tlearn: 0.4388104\ttotal: 220ms\tremaining: 203ms\n",
      "52:\tlearn: 0.4356502\ttotal: 223ms\tremaining: 198ms\n",
      "53:\tlearn: 0.4320139\ttotal: 226ms\tremaining: 192ms\n",
      "54:\tlearn: 0.4277766\ttotal: 228ms\tremaining: 187ms\n",
      "55:\tlearn: 0.4237694\ttotal: 231ms\tremaining: 182ms\n",
      "56:\tlearn: 0.4190849\ttotal: 234ms\tremaining: 177ms\n",
      "57:\tlearn: 0.4141144\ttotal: 237ms\tremaining: 172ms\n",
      "58:\tlearn: 0.4089192\ttotal: 240ms\tremaining: 167ms\n",
      "59:\tlearn: 0.4046695\ttotal: 243ms\tremaining: 162ms\n",
      "60:\tlearn: 0.4003078\ttotal: 246ms\tremaining: 157ms\n",
      "61:\tlearn: 0.3968521\ttotal: 249ms\tremaining: 152ms\n",
      "62:\tlearn: 0.3925290\ttotal: 252ms\tremaining: 148ms\n",
      "63:\tlearn: 0.3877258\ttotal: 255ms\tremaining: 143ms\n",
      "64:\tlearn: 0.3824632\ttotal: 257ms\tremaining: 139ms\n",
      "65:\tlearn: 0.3771239\ttotal: 260ms\tremaining: 134ms\n",
      "66:\tlearn: 0.3731540\ttotal: 263ms\tremaining: 129ms\n",
      "67:\tlearn: 0.3681862\ttotal: 265ms\tremaining: 125ms\n",
      "68:\tlearn: 0.3642206\ttotal: 268ms\tremaining: 120ms\n",
      "69:\tlearn: 0.3597359\ttotal: 271ms\tremaining: 116ms\n",
      "70:\tlearn: 0.3556420\ttotal: 273ms\tremaining: 112ms\n",
      "71:\tlearn: 0.3520502\ttotal: 276ms\tremaining: 107ms\n",
      "72:\tlearn: 0.3469884\ttotal: 279ms\tremaining: 103ms\n",
      "73:\tlearn: 0.3425299\ttotal: 282ms\tremaining: 98.9ms\n",
      "74:\tlearn: 0.3390698\ttotal: 284ms\tremaining: 94.7ms\n",
      "75:\tlearn: 0.3354760\ttotal: 287ms\tremaining: 90.6ms\n",
      "76:\tlearn: 0.3327010\ttotal: 289ms\tremaining: 86.5ms\n",
      "77:\tlearn: 0.3283762\ttotal: 292ms\tremaining: 82.5ms\n",
      "78:\tlearn: 0.3240491\ttotal: 295ms\tremaining: 78.4ms\n",
      "79:\tlearn: 0.3200778\ttotal: 298ms\tremaining: 74.5ms\n",
      "80:\tlearn: 0.3178823\ttotal: 301ms\tremaining: 70.5ms\n",
      "81:\tlearn: 0.3143793\ttotal: 303ms\tremaining: 66.5ms\n",
      "82:\tlearn: 0.3118864\ttotal: 306ms\tremaining: 62.6ms\n",
      "83:\tlearn: 0.3086351\ttotal: 309ms\tremaining: 58.8ms\n",
      "84:\tlearn: 0.3065004\ttotal: 311ms\tremaining: 55ms\n",
      "85:\tlearn: 0.3039059\ttotal: 314ms\tremaining: 51.2ms\n",
      "86:\tlearn: 0.2992043\ttotal: 317ms\tremaining: 47.4ms\n",
      "87:\tlearn: 0.2967957\ttotal: 320ms\tremaining: 43.6ms\n",
      "88:\tlearn: 0.2951375\ttotal: 322ms\tremaining: 39.8ms\n",
      "89:\tlearn: 0.2920575\ttotal: 325ms\tremaining: 36.1ms\n",
      "90:\tlearn: 0.2880276\ttotal: 328ms\tremaining: 32.4ms\n",
      "91:\tlearn: 0.2863145\ttotal: 331ms\tremaining: 28.8ms\n",
      "92:\tlearn: 0.2834117\ttotal: 333ms\tremaining: 25.1ms\n",
      "93:\tlearn: 0.2808418\ttotal: 336ms\tremaining: 21.4ms\n",
      "94:\tlearn: 0.2781624\ttotal: 339ms\tremaining: 17.8ms\n",
      "95:\tlearn: 0.2751812\ttotal: 341ms\tremaining: 14.2ms\n",
      "96:\tlearn: 0.2726107\ttotal: 344ms\tremaining: 10.6ms\n",
      "97:\tlearn: 0.2699541\ttotal: 347ms\tremaining: 7.07ms\n",
      "98:\tlearn: 0.2665361\ttotal: 349ms\tremaining: 3.53ms\n",
      "99:\tlearn: 0.2650761\ttotal: 352ms\tremaining: 0us\n",
      "Fitting:  CatBoostClassifier finished. Elapsed time:  1 Seconds\n",
      "11/12 Fitting:  CatBoostClassifier TomekLink-base started...\n",
      "0:\tlearn: 0.5134933\ttotal: 15.7ms\tremaining: 1.55s\n",
      "1:\tlearn: 0.3868459\ttotal: 31.4ms\tremaining: 1.54s\n",
      "2:\tlearn: 0.2982227\ttotal: 47.1ms\tremaining: 1.52s\n",
      "3:\tlearn: 0.2367803\ttotal: 61.4ms\tremaining: 1.47s\n",
      "4:\tlearn: 0.1938533\ttotal: 75.4ms\tremaining: 1.43s\n",
      "5:\tlearn: 0.1631441\ttotal: 90ms\tremaining: 1.41s\n",
      "6:\tlearn: 0.1402448\ttotal: 106ms\tremaining: 1.4s\n",
      "7:\tlearn: 0.1244938\ttotal: 122ms\tremaining: 1.4s\n",
      "8:\tlearn: 0.1123148\ttotal: 138ms\tremaining: 1.4s\n",
      "9:\tlearn: 0.1026992\ttotal: 152ms\tremaining: 1.37s\n",
      "10:\tlearn: 0.0955387\ttotal: 167ms\tremaining: 1.35s\n",
      "11:\tlearn: 0.0896186\ttotal: 183ms\tremaining: 1.34s\n",
      "12:\tlearn: 0.0845006\ttotal: 198ms\tremaining: 1.32s\n",
      "13:\tlearn: 0.0808393\ttotal: 212ms\tremaining: 1.3s\n",
      "14:\tlearn: 0.0777783\ttotal: 227ms\tremaining: 1.29s\n",
      "15:\tlearn: 0.0754511\ttotal: 242ms\tremaining: 1.27s\n",
      "16:\tlearn: 0.0731850\ttotal: 258ms\tremaining: 1.26s\n",
      "17:\tlearn: 0.0711722\ttotal: 273ms\tremaining: 1.24s\n",
      "18:\tlearn: 0.0697999\ttotal: 289ms\tremaining: 1.23s\n",
      "19:\tlearn: 0.0684643\ttotal: 303ms\tremaining: 1.21s\n",
      "20:\tlearn: 0.0671854\ttotal: 319ms\tremaining: 1.2s\n",
      "21:\tlearn: 0.0661506\ttotal: 334ms\tremaining: 1.18s\n",
      "22:\tlearn: 0.0650551\ttotal: 348ms\tremaining: 1.17s\n",
      "23:\tlearn: 0.0641199\ttotal: 365ms\tremaining: 1.16s\n",
      "24:\tlearn: 0.0633935\ttotal: 382ms\tremaining: 1.15s\n",
      "25:\tlearn: 0.0626682\ttotal: 399ms\tremaining: 1.13s\n",
      "26:\tlearn: 0.0620142\ttotal: 414ms\tremaining: 1.12s\n",
      "27:\tlearn: 0.0614069\ttotal: 430ms\tremaining: 1.1s\n",
      "28:\tlearn: 0.0609288\ttotal: 445ms\tremaining: 1.09s\n",
      "29:\tlearn: 0.0604756\ttotal: 461ms\tremaining: 1.07s\n",
      "30:\tlearn: 0.0598848\ttotal: 476ms\tremaining: 1.06s\n",
      "31:\tlearn: 0.0594600\ttotal: 492ms\tremaining: 1.05s\n",
      "32:\tlearn: 0.0590623\ttotal: 509ms\tremaining: 1.03s\n",
      "33:\tlearn: 0.0586555\ttotal: 523ms\tremaining: 1.01s\n",
      "34:\tlearn: 0.0581358\ttotal: 539ms\tremaining: 1s\n",
      "35:\tlearn: 0.0578102\ttotal: 555ms\tremaining: 986ms\n",
      "36:\tlearn: 0.0574260\ttotal: 571ms\tremaining: 971ms\n",
      "37:\tlearn: 0.0570774\ttotal: 587ms\tremaining: 958ms\n",
      "38:\tlearn: 0.0566449\ttotal: 604ms\tremaining: 944ms\n",
      "39:\tlearn: 0.0562154\ttotal: 620ms\tremaining: 930ms\n",
      "40:\tlearn: 0.0558226\ttotal: 638ms\tremaining: 918ms\n",
      "41:\tlearn: 0.0554618\ttotal: 653ms\tremaining: 902ms\n",
      "42:\tlearn: 0.0551186\ttotal: 669ms\tremaining: 887ms\n",
      "43:\tlearn: 0.0547788\ttotal: 685ms\tremaining: 871ms\n",
      "44:\tlearn: 0.0545502\ttotal: 700ms\tremaining: 856ms\n",
      "45:\tlearn: 0.0542054\ttotal: 716ms\tremaining: 841ms\n",
      "46:\tlearn: 0.0538789\ttotal: 732ms\tremaining: 825ms\n",
      "47:\tlearn: 0.0535515\ttotal: 748ms\tremaining: 810ms\n",
      "48:\tlearn: 0.0532493\ttotal: 764ms\tremaining: 795ms\n",
      "49:\tlearn: 0.0529295\ttotal: 781ms\tremaining: 781ms\n",
      "50:\tlearn: 0.0526022\ttotal: 797ms\tremaining: 766ms\n",
      "51:\tlearn: 0.0522737\ttotal: 813ms\tremaining: 750ms\n",
      "52:\tlearn: 0.0519530\ttotal: 827ms\tremaining: 734ms\n",
      "53:\tlearn: 0.0516452\ttotal: 842ms\tremaining: 718ms\n",
      "54:\tlearn: 0.0513474\ttotal: 856ms\tremaining: 701ms\n",
      "55:\tlearn: 0.0509785\ttotal: 871ms\tremaining: 684ms\n",
      "56:\tlearn: 0.0503518\ttotal: 886ms\tremaining: 668ms\n",
      "57:\tlearn: 0.0500749\ttotal: 901ms\tremaining: 653ms\n",
      "58:\tlearn: 0.0497956\ttotal: 918ms\tremaining: 638ms\n",
      "59:\tlearn: 0.0494786\ttotal: 934ms\tremaining: 623ms\n",
      "60:\tlearn: 0.0492124\ttotal: 950ms\tremaining: 607ms\n",
      "61:\tlearn: 0.0489162\ttotal: 966ms\tremaining: 592ms\n",
      "62:\tlearn: 0.0482535\ttotal: 983ms\tremaining: 577ms\n",
      "63:\tlearn: 0.0480044\ttotal: 999ms\tremaining: 562ms\n",
      "64:\tlearn: 0.0476911\ttotal: 1.01s\tremaining: 546ms\n",
      "65:\tlearn: 0.0473935\ttotal: 1.03s\tremaining: 532ms\n",
      "66:\tlearn: 0.0470759\ttotal: 1.05s\tremaining: 516ms\n",
      "67:\tlearn: 0.0468086\ttotal: 1.06s\tremaining: 501ms\n",
      "68:\tlearn: 0.0465351\ttotal: 1.08s\tremaining: 485ms\n",
      "69:\tlearn: 0.0462618\ttotal: 1.09s\tremaining: 470ms\n",
      "70:\tlearn: 0.0458885\ttotal: 1.11s\tremaining: 454ms\n",
      "71:\tlearn: 0.0456051\ttotal: 1.13s\tremaining: 438ms\n",
      "72:\tlearn: 0.0453392\ttotal: 1.14s\tremaining: 423ms\n",
      "73:\tlearn: 0.0448924\ttotal: 1.16s\tremaining: 408ms\n",
      "74:\tlearn: 0.0446067\ttotal: 1.18s\tremaining: 392ms\n",
      "75:\tlearn: 0.0443056\ttotal: 1.19s\tremaining: 377ms\n",
      "76:\tlearn: 0.0440061\ttotal: 1.21s\tremaining: 361ms\n",
      "77:\tlearn: 0.0437219\ttotal: 1.23s\tremaining: 346ms\n",
      "78:\tlearn: 0.0434107\ttotal: 1.24s\tremaining: 330ms\n",
      "79:\tlearn: 0.0430862\ttotal: 1.26s\tremaining: 314ms\n",
      "80:\tlearn: 0.0427912\ttotal: 1.27s\tremaining: 299ms\n",
      "81:\tlearn: 0.0424104\ttotal: 1.29s\tremaining: 283ms\n",
      "82:\tlearn: 0.0420029\ttotal: 1.3s\tremaining: 267ms\n",
      "83:\tlearn: 0.0417290\ttotal: 1.32s\tremaining: 252ms\n",
      "84:\tlearn: 0.0414422\ttotal: 1.34s\tremaining: 236ms\n",
      "85:\tlearn: 0.0411540\ttotal: 1.35s\tremaining: 220ms\n",
      "86:\tlearn: 0.0408841\ttotal: 1.37s\tremaining: 204ms\n",
      "87:\tlearn: 0.0405903\ttotal: 1.38s\tremaining: 189ms\n",
      "88:\tlearn: 0.0403018\ttotal: 1.4s\tremaining: 173ms\n",
      "89:\tlearn: 0.0400261\ttotal: 1.42s\tremaining: 157ms\n",
      "90:\tlearn: 0.0397441\ttotal: 1.43s\tremaining: 142ms\n",
      "91:\tlearn: 0.0394310\ttotal: 1.45s\tremaining: 126ms\n",
      "92:\tlearn: 0.0391499\ttotal: 1.46s\tremaining: 110ms\n",
      "93:\tlearn: 0.0388882\ttotal: 1.48s\tremaining: 94.5ms\n",
      "94:\tlearn: 0.0386306\ttotal: 1.5s\tremaining: 78.7ms\n",
      "95:\tlearn: 0.0383801\ttotal: 1.51s\tremaining: 63ms\n",
      "96:\tlearn: 0.0381369\ttotal: 1.53s\tremaining: 47.2ms\n",
      "97:\tlearn: 0.0377871\ttotal: 1.54s\tremaining: 31.5ms\n",
      "98:\tlearn: 0.0375347\ttotal: 1.56s\tremaining: 15.7ms\n",
      "99:\tlearn: 0.0372763\ttotal: 1.57s\tremaining: 0us\n",
      "Fitting:  CatBoostClassifier finished. Elapsed time:  2 Seconds\n",
      "12/12 Fitting:  CatBoostClassifier TomekLink-clean started...\n",
      "0:\tlearn: 0.5134933\ttotal: 16.2ms\tremaining: 1.61s\n",
      "1:\tlearn: 0.3868459\ttotal: 31.9ms\tremaining: 1.56s\n",
      "2:\tlearn: 0.2982227\ttotal: 46.6ms\tremaining: 1.51s\n",
      "3:\tlearn: 0.2367803\ttotal: 60.8ms\tremaining: 1.46s\n",
      "4:\tlearn: 0.1938533\ttotal: 74.9ms\tremaining: 1.42s\n",
      "5:\tlearn: 0.1631441\ttotal: 88.8ms\tremaining: 1.39s\n",
      "6:\tlearn: 0.1402448\ttotal: 103ms\tremaining: 1.37s\n",
      "7:\tlearn: 0.1244938\ttotal: 118ms\tremaining: 1.36s\n",
      "8:\tlearn: 0.1123148\ttotal: 133ms\tremaining: 1.34s\n",
      "9:\tlearn: 0.1026992\ttotal: 148ms\tremaining: 1.33s\n",
      "10:\tlearn: 0.0955387\ttotal: 163ms\tremaining: 1.32s\n",
      "11:\tlearn: 0.0896186\ttotal: 179ms\tremaining: 1.31s\n",
      "12:\tlearn: 0.0845006\ttotal: 195ms\tremaining: 1.3s\n",
      "13:\tlearn: 0.0808393\ttotal: 212ms\tremaining: 1.3s\n",
      "14:\tlearn: 0.0777783\ttotal: 228ms\tremaining: 1.29s\n",
      "15:\tlearn: 0.0754511\ttotal: 242ms\tremaining: 1.27s\n",
      "16:\tlearn: 0.0731850\ttotal: 258ms\tremaining: 1.26s\n",
      "17:\tlearn: 0.0711722\ttotal: 276ms\tremaining: 1.26s\n",
      "18:\tlearn: 0.0697999\ttotal: 292ms\tremaining: 1.25s\n",
      "19:\tlearn: 0.0684643\ttotal: 309ms\tremaining: 1.23s\n",
      "20:\tlearn: 0.0671854\ttotal: 325ms\tremaining: 1.22s\n",
      "21:\tlearn: 0.0661506\ttotal: 341ms\tremaining: 1.21s\n",
      "22:\tlearn: 0.0650551\ttotal: 356ms\tremaining: 1.19s\n",
      "23:\tlearn: 0.0641199\ttotal: 372ms\tremaining: 1.18s\n",
      "24:\tlearn: 0.0633935\ttotal: 387ms\tremaining: 1.16s\n",
      "25:\tlearn: 0.0626682\ttotal: 402ms\tremaining: 1.14s\n",
      "26:\tlearn: 0.0620142\ttotal: 417ms\tremaining: 1.13s\n",
      "27:\tlearn: 0.0614069\ttotal: 432ms\tremaining: 1.11s\n",
      "28:\tlearn: 0.0609288\ttotal: 448ms\tremaining: 1.1s\n",
      "29:\tlearn: 0.0604756\ttotal: 464ms\tremaining: 1.08s\n",
      "30:\tlearn: 0.0598848\ttotal: 482ms\tremaining: 1.07s\n",
      "31:\tlearn: 0.0594600\ttotal: 498ms\tremaining: 1.06s\n",
      "32:\tlearn: 0.0590623\ttotal: 514ms\tremaining: 1.04s\n",
      "33:\tlearn: 0.0586555\ttotal: 529ms\tremaining: 1.03s\n",
      "34:\tlearn: 0.0581358\ttotal: 544ms\tremaining: 1.01s\n",
      "35:\tlearn: 0.0578102\ttotal: 558ms\tremaining: 992ms\n",
      "36:\tlearn: 0.0574260\ttotal: 574ms\tremaining: 977ms\n",
      "37:\tlearn: 0.0570774\ttotal: 589ms\tremaining: 962ms\n",
      "38:\tlearn: 0.0566449\ttotal: 605ms\tremaining: 946ms\n",
      "39:\tlearn: 0.0562154\ttotal: 619ms\tremaining: 929ms\n",
      "40:\tlearn: 0.0558226\ttotal: 635ms\tremaining: 913ms\n",
      "41:\tlearn: 0.0554618\ttotal: 651ms\tremaining: 899ms\n",
      "42:\tlearn: 0.0551186\ttotal: 670ms\tremaining: 888ms\n",
      "43:\tlearn: 0.0547788\ttotal: 686ms\tremaining: 873ms\n",
      "44:\tlearn: 0.0545502\ttotal: 702ms\tremaining: 857ms\n",
      "45:\tlearn: 0.0542054\ttotal: 717ms\tremaining: 842ms\n",
      "46:\tlearn: 0.0538789\ttotal: 732ms\tremaining: 825ms\n",
      "47:\tlearn: 0.0535515\ttotal: 747ms\tremaining: 809ms\n",
      "48:\tlearn: 0.0532493\ttotal: 762ms\tremaining: 793ms\n",
      "49:\tlearn: 0.0529295\ttotal: 777ms\tremaining: 777ms\n",
      "50:\tlearn: 0.0526022\ttotal: 794ms\tremaining: 763ms\n",
      "51:\tlearn: 0.0522737\ttotal: 810ms\tremaining: 748ms\n",
      "52:\tlearn: 0.0519530\ttotal: 824ms\tremaining: 731ms\n",
      "53:\tlearn: 0.0516452\ttotal: 840ms\tremaining: 716ms\n",
      "54:\tlearn: 0.0513474\ttotal: 856ms\tremaining: 700ms\n",
      "55:\tlearn: 0.0509785\ttotal: 872ms\tremaining: 685ms\n",
      "56:\tlearn: 0.0503518\ttotal: 888ms\tremaining: 670ms\n",
      "57:\tlearn: 0.0500749\ttotal: 903ms\tremaining: 654ms\n",
      "58:\tlearn: 0.0497956\ttotal: 919ms\tremaining: 639ms\n",
      "59:\tlearn: 0.0494786\ttotal: 935ms\tremaining: 623ms\n",
      "60:\tlearn: 0.0492124\ttotal: 949ms\tremaining: 607ms\n",
      "61:\tlearn: 0.0489162\ttotal: 965ms\tremaining: 591ms\n",
      "62:\tlearn: 0.0482535\ttotal: 980ms\tremaining: 575ms\n",
      "63:\tlearn: 0.0480044\ttotal: 996ms\tremaining: 560ms\n",
      "64:\tlearn: 0.0476911\ttotal: 1.01s\tremaining: 544ms\n",
      "65:\tlearn: 0.0473935\ttotal: 1.03s\tremaining: 529ms\n",
      "66:\tlearn: 0.0470759\ttotal: 1.04s\tremaining: 513ms\n",
      "67:\tlearn: 0.0468086\ttotal: 1.06s\tremaining: 497ms\n",
      "68:\tlearn: 0.0465351\ttotal: 1.07s\tremaining: 482ms\n",
      "69:\tlearn: 0.0462618\ttotal: 1.09s\tremaining: 467ms\n",
      "70:\tlearn: 0.0458885\ttotal: 1.1s\tremaining: 452ms\n",
      "71:\tlearn: 0.0456051\ttotal: 1.12s\tremaining: 436ms\n",
      "72:\tlearn: 0.0453392\ttotal: 1.14s\tremaining: 421ms\n",
      "73:\tlearn: 0.0448924\ttotal: 1.15s\tremaining: 405ms\n",
      "74:\tlearn: 0.0446067\ttotal: 1.17s\tremaining: 389ms\n",
      "75:\tlearn: 0.0443056\ttotal: 1.18s\tremaining: 373ms\n",
      "76:\tlearn: 0.0440061\ttotal: 1.2s\tremaining: 358ms\n",
      "77:\tlearn: 0.0437219\ttotal: 1.22s\tremaining: 343ms\n",
      "78:\tlearn: 0.0434107\ttotal: 1.23s\tremaining: 327ms\n",
      "79:\tlearn: 0.0430862\ttotal: 1.25s\tremaining: 311ms\n",
      "80:\tlearn: 0.0427912\ttotal: 1.26s\tremaining: 296ms\n",
      "81:\tlearn: 0.0424104\ttotal: 1.28s\tremaining: 281ms\n",
      "82:\tlearn: 0.0420029\ttotal: 1.29s\tremaining: 265ms\n",
      "83:\tlearn: 0.0417290\ttotal: 1.31s\tremaining: 250ms\n",
      "84:\tlearn: 0.0414422\ttotal: 1.33s\tremaining: 234ms\n",
      "85:\tlearn: 0.0411540\ttotal: 1.34s\tremaining: 219ms\n",
      "86:\tlearn: 0.0408841\ttotal: 1.36s\tremaining: 203ms\n",
      "87:\tlearn: 0.0405903\ttotal: 1.38s\tremaining: 188ms\n",
      "88:\tlearn: 0.0403018\ttotal: 1.39s\tremaining: 172ms\n",
      "89:\tlearn: 0.0400261\ttotal: 1.41s\tremaining: 156ms\n",
      "90:\tlearn: 0.0397441\ttotal: 1.42s\tremaining: 141ms\n",
      "91:\tlearn: 0.0394310\ttotal: 1.44s\tremaining: 125ms\n",
      "92:\tlearn: 0.0391499\ttotal: 1.45s\tremaining: 109ms\n",
      "93:\tlearn: 0.0388882\ttotal: 1.47s\tremaining: 93.9ms\n",
      "94:\tlearn: 0.0386306\ttotal: 1.49s\tremaining: 78.3ms\n",
      "95:\tlearn: 0.0383801\ttotal: 1.5s\tremaining: 62.6ms\n",
      "96:\tlearn: 0.0381369\ttotal: 1.52s\tremaining: 47ms\n",
      "97:\tlearn: 0.0377871\ttotal: 1.53s\tremaining: 31.3ms\n",
      "98:\tlearn: 0.0375347\ttotal: 1.55s\tremaining: 15.7ms\n",
      "99:\tlearn: 0.0372763\ttotal: 1.56s\tremaining: 0us\n",
      "Fitting:  CatBoostClassifier finished. Elapsed time:  2 Seconds\n",
      "Model fitting finished.\n"
     ]
    }
   ],
   "source": [
    "fit_model(cat, \"CatBoostClassifier\")"
   ],
   "metadata": {
    "collapsed": false,
    "ExecuteTime": {
     "end_time": "2024-11-14T16:49:40.775451900Z",
     "start_time": "2024-11-14T16:48:59.383810600Z"
    }
   }
  },
  {
   "cell_type": "code",
   "execution_count": 108,
   "outputs": [
    {
     "data": {
      "text/plain": "                 model                variant  train_acc  train_prec  \\\n86  CatBoostClassifier                   base   0.946834    0.914439   \n26  CatBoostClassifier                   base   0.936191    0.736842   \n89  CatBoostClassifier            SMOTE clean   0.996440    0.996562   \n93  CatBoostClassifier           ADASYN clean   0.996439    0.996073   \n90  CatBoostClassifier   BorderlineSMOTE base   0.954600    0.968087   \n87  CatBoostClassifier                  clean   0.986464    1.000000   \n96  CatBoostClassifier         TomekLink base   0.986454    1.000000   \n97  CatBoostClassifier        TomekLink clean   0.986454    1.000000   \n88  CatBoostClassifier             SMOTE base   0.933392    0.961828   \n92  CatBoostClassifier            ADASYN base   0.928129    0.955148   \n91  CatBoostClassifier  BorderlineSMOTE clean   0.993494    0.993857   \n31  CatBoostClassifier  BorderlineSMOTE clean   0.767002    0.981834   \n33  CatBoostClassifier           ADASYN clean   0.719425    0.977540   \n32  CatBoostClassifier            ADASYN base   0.708349    0.678550   \n28  CatBoostClassifier             SMOTE base   0.715891    0.686371   \n30  CatBoostClassifier   BorderlineSMOTE base   0.713296    0.664914   \n29  CatBoostClassifier            SMOTE clean   0.743187    0.931967   \n94  CatBoostClassifier          NearMiss base   0.915307    0.913100   \n34  CatBoostClassifier          NearMiss base   0.891468    0.891635   \n95  CatBoostClassifier         NearMiss clean   1.000000    1.000000   \n35  CatBoostClassifier         NearMiss clean   0.570312    0.846154   \n36  CatBoostClassifier         TomekLink base   0.985728    0.857143   \n37  CatBoostClassifier        TomekLink clean   0.985728    0.857143   \n27  CatBoostClassifier                  clean   0.985738    1.000000   \n\n    train_rec  train_f1  test_acc  test_prec  test_rec   test_f1  \n86   0.242725  0.383623  0.945705   0.901961  0.228477  0.364597  \n26   0.099361  0.175109  0.936787   0.744444  0.110927  0.193084  \n89   0.996317  0.996440  0.985908   0.588235  0.357143  0.444444  \n93   0.996807  0.996440  0.984780   0.529412  0.321429  0.400000  \n90   0.940193  0.953936  0.932950   0.509328  0.451987  0.478947  \n87   0.125000  0.222222  0.984216   0.500000  0.035714  0.066667  \n96   0.125000  0.222222  0.984216   0.500000  0.035714  0.066667  \n97   0.125000  0.222222  0.984216   0.500000  0.035714  0.066667  \n88   0.902606  0.931276  0.930353   0.489076  0.481788  0.485405  \n92   0.896906  0.925111  0.927306   0.467427  0.475166  0.471264  \n91   0.993125  0.993491  0.981962   0.409091  0.321429  0.360000  \n31   0.544071  0.700158  0.975761   0.222222  0.214286  0.218182  \n33   0.449030  0.615385  0.971815   0.176471  0.214286  0.193548  \n32   0.780462  0.725947  0.641946   0.116716  0.647351  0.197774  \n28   0.795089  0.736741  0.639914   0.114030  0.632450  0.193222  \n30   0.859983  0.749972  0.576363   0.107063  0.710265  0.186077  \n29   0.524675  0.671379  0.950958   0.072464  0.178571  0.103093  \n94   0.999290  0.954253  0.085111   0.069057  0.995033  0.129150  \n34   0.998581  0.942082  0.072017   0.068148  0.995033  0.127560  \n95   1.000000  1.000000  0.812852   0.047619  0.571429  0.087912  \n35   0.171875  0.285714  0.967869   0.032258  0.035714  0.033898  \n36   0.093750  0.169014  0.983089   0.000000  0.000000  0.000000  \n37   0.093750  0.169014  0.983089   0.000000  0.000000  0.000000  \n27   0.078125  0.144928  0.983653   0.000000  0.000000  0.000000  ",
      "text/html": "<div>\n<style scoped>\n    .dataframe tbody tr th:only-of-type {\n        vertical-align: middle;\n    }\n\n    .dataframe tbody tr th {\n        vertical-align: top;\n    }\n\n    .dataframe thead th {\n        text-align: right;\n    }\n</style>\n<table border=\"1\" class=\"dataframe\">\n  <thead>\n    <tr style=\"text-align: right;\">\n      <th></th>\n      <th>model</th>\n      <th>variant</th>\n      <th>train_acc</th>\n      <th>train_prec</th>\n      <th>train_rec</th>\n      <th>train_f1</th>\n      <th>test_acc</th>\n      <th>test_prec</th>\n      <th>test_rec</th>\n      <th>test_f1</th>\n    </tr>\n  </thead>\n  <tbody>\n    <tr>\n      <th>86</th>\n      <td>CatBoostClassifier</td>\n      <td>base</td>\n      <td>0.946834</td>\n      <td>0.914439</td>\n      <td>0.242725</td>\n      <td>0.383623</td>\n      <td>0.945705</td>\n      <td>0.901961</td>\n      <td>0.228477</td>\n      <td>0.364597</td>\n    </tr>\n    <tr>\n      <th>26</th>\n      <td>CatBoostClassifier</td>\n      <td>base</td>\n      <td>0.936191</td>\n      <td>0.736842</td>\n      <td>0.099361</td>\n      <td>0.175109</td>\n      <td>0.936787</td>\n      <td>0.744444</td>\n      <td>0.110927</td>\n      <td>0.193084</td>\n    </tr>\n    <tr>\n      <th>89</th>\n      <td>CatBoostClassifier</td>\n      <td>SMOTE clean</td>\n      <td>0.996440</td>\n      <td>0.996562</td>\n      <td>0.996317</td>\n      <td>0.996440</td>\n      <td>0.985908</td>\n      <td>0.588235</td>\n      <td>0.357143</td>\n      <td>0.444444</td>\n    </tr>\n    <tr>\n      <th>93</th>\n      <td>CatBoostClassifier</td>\n      <td>ADASYN clean</td>\n      <td>0.996439</td>\n      <td>0.996073</td>\n      <td>0.996807</td>\n      <td>0.996440</td>\n      <td>0.984780</td>\n      <td>0.529412</td>\n      <td>0.321429</td>\n      <td>0.400000</td>\n    </tr>\n    <tr>\n      <th>90</th>\n      <td>CatBoostClassifier</td>\n      <td>BorderlineSMOTE base</td>\n      <td>0.954600</td>\n      <td>0.968087</td>\n      <td>0.940193</td>\n      <td>0.953936</td>\n      <td>0.932950</td>\n      <td>0.509328</td>\n      <td>0.451987</td>\n      <td>0.478947</td>\n    </tr>\n    <tr>\n      <th>87</th>\n      <td>CatBoostClassifier</td>\n      <td>clean</td>\n      <td>0.986464</td>\n      <td>1.000000</td>\n      <td>0.125000</td>\n      <td>0.222222</td>\n      <td>0.984216</td>\n      <td>0.500000</td>\n      <td>0.035714</td>\n      <td>0.066667</td>\n    </tr>\n    <tr>\n      <th>96</th>\n      <td>CatBoostClassifier</td>\n      <td>TomekLink base</td>\n      <td>0.986454</td>\n      <td>1.000000</td>\n      <td>0.125000</td>\n      <td>0.222222</td>\n      <td>0.984216</td>\n      <td>0.500000</td>\n      <td>0.035714</td>\n      <td>0.066667</td>\n    </tr>\n    <tr>\n      <th>97</th>\n      <td>CatBoostClassifier</td>\n      <td>TomekLink clean</td>\n      <td>0.986454</td>\n      <td>1.000000</td>\n      <td>0.125000</td>\n      <td>0.222222</td>\n      <td>0.984216</td>\n      <td>0.500000</td>\n      <td>0.035714</td>\n      <td>0.066667</td>\n    </tr>\n    <tr>\n      <th>88</th>\n      <td>CatBoostClassifier</td>\n      <td>SMOTE base</td>\n      <td>0.933392</td>\n      <td>0.961828</td>\n      <td>0.902606</td>\n      <td>0.931276</td>\n      <td>0.930353</td>\n      <td>0.489076</td>\n      <td>0.481788</td>\n      <td>0.485405</td>\n    </tr>\n    <tr>\n      <th>92</th>\n      <td>CatBoostClassifier</td>\n      <td>ADASYN base</td>\n      <td>0.928129</td>\n      <td>0.955148</td>\n      <td>0.896906</td>\n      <td>0.925111</td>\n      <td>0.927306</td>\n      <td>0.467427</td>\n      <td>0.475166</td>\n      <td>0.471264</td>\n    </tr>\n    <tr>\n      <th>91</th>\n      <td>CatBoostClassifier</td>\n      <td>BorderlineSMOTE clean</td>\n      <td>0.993494</td>\n      <td>0.993857</td>\n      <td>0.993125</td>\n      <td>0.993491</td>\n      <td>0.981962</td>\n      <td>0.409091</td>\n      <td>0.321429</td>\n      <td>0.360000</td>\n    </tr>\n    <tr>\n      <th>31</th>\n      <td>CatBoostClassifier</td>\n      <td>BorderlineSMOTE clean</td>\n      <td>0.767002</td>\n      <td>0.981834</td>\n      <td>0.544071</td>\n      <td>0.700158</td>\n      <td>0.975761</td>\n      <td>0.222222</td>\n      <td>0.214286</td>\n      <td>0.218182</td>\n    </tr>\n    <tr>\n      <th>33</th>\n      <td>CatBoostClassifier</td>\n      <td>ADASYN clean</td>\n      <td>0.719425</td>\n      <td>0.977540</td>\n      <td>0.449030</td>\n      <td>0.615385</td>\n      <td>0.971815</td>\n      <td>0.176471</td>\n      <td>0.214286</td>\n      <td>0.193548</td>\n    </tr>\n    <tr>\n      <th>32</th>\n      <td>CatBoostClassifier</td>\n      <td>ADASYN base</td>\n      <td>0.708349</td>\n      <td>0.678550</td>\n      <td>0.780462</td>\n      <td>0.725947</td>\n      <td>0.641946</td>\n      <td>0.116716</td>\n      <td>0.647351</td>\n      <td>0.197774</td>\n    </tr>\n    <tr>\n      <th>28</th>\n      <td>CatBoostClassifier</td>\n      <td>SMOTE base</td>\n      <td>0.715891</td>\n      <td>0.686371</td>\n      <td>0.795089</td>\n      <td>0.736741</td>\n      <td>0.639914</td>\n      <td>0.114030</td>\n      <td>0.632450</td>\n      <td>0.193222</td>\n    </tr>\n    <tr>\n      <th>30</th>\n      <td>CatBoostClassifier</td>\n      <td>BorderlineSMOTE base</td>\n      <td>0.713296</td>\n      <td>0.664914</td>\n      <td>0.859983</td>\n      <td>0.749972</td>\n      <td>0.576363</td>\n      <td>0.107063</td>\n      <td>0.710265</td>\n      <td>0.186077</td>\n    </tr>\n    <tr>\n      <th>29</th>\n      <td>CatBoostClassifier</td>\n      <td>SMOTE clean</td>\n      <td>0.743187</td>\n      <td>0.931967</td>\n      <td>0.524675</td>\n      <td>0.671379</td>\n      <td>0.950958</td>\n      <td>0.072464</td>\n      <td>0.178571</td>\n      <td>0.103093</td>\n    </tr>\n    <tr>\n      <th>94</th>\n      <td>CatBoostClassifier</td>\n      <td>NearMiss base</td>\n      <td>0.915307</td>\n      <td>0.913100</td>\n      <td>0.999290</td>\n      <td>0.954253</td>\n      <td>0.085111</td>\n      <td>0.069057</td>\n      <td>0.995033</td>\n      <td>0.129150</td>\n    </tr>\n    <tr>\n      <th>34</th>\n      <td>CatBoostClassifier</td>\n      <td>NearMiss base</td>\n      <td>0.891468</td>\n      <td>0.891635</td>\n      <td>0.998581</td>\n      <td>0.942082</td>\n      <td>0.072017</td>\n      <td>0.068148</td>\n      <td>0.995033</td>\n      <td>0.127560</td>\n    </tr>\n    <tr>\n      <th>95</th>\n      <td>CatBoostClassifier</td>\n      <td>NearMiss clean</td>\n      <td>1.000000</td>\n      <td>1.000000</td>\n      <td>1.000000</td>\n      <td>1.000000</td>\n      <td>0.812852</td>\n      <td>0.047619</td>\n      <td>0.571429</td>\n      <td>0.087912</td>\n    </tr>\n    <tr>\n      <th>35</th>\n      <td>CatBoostClassifier</td>\n      <td>NearMiss clean</td>\n      <td>0.570312</td>\n      <td>0.846154</td>\n      <td>0.171875</td>\n      <td>0.285714</td>\n      <td>0.967869</td>\n      <td>0.032258</td>\n      <td>0.035714</td>\n      <td>0.033898</td>\n    </tr>\n    <tr>\n      <th>36</th>\n      <td>CatBoostClassifier</td>\n      <td>TomekLink base</td>\n      <td>0.985728</td>\n      <td>0.857143</td>\n      <td>0.093750</td>\n      <td>0.169014</td>\n      <td>0.983089</td>\n      <td>0.000000</td>\n      <td>0.000000</td>\n      <td>0.000000</td>\n    </tr>\n    <tr>\n      <th>37</th>\n      <td>CatBoostClassifier</td>\n      <td>TomekLink clean</td>\n      <td>0.985728</td>\n      <td>0.857143</td>\n      <td>0.093750</td>\n      <td>0.169014</td>\n      <td>0.983089</td>\n      <td>0.000000</td>\n      <td>0.000000</td>\n      <td>0.000000</td>\n    </tr>\n    <tr>\n      <th>27</th>\n      <td>CatBoostClassifier</td>\n      <td>clean</td>\n      <td>0.985738</td>\n      <td>1.000000</td>\n      <td>0.078125</td>\n      <td>0.144928</td>\n      <td>0.983653</td>\n      <td>0.000000</td>\n      <td>0.000000</td>\n      <td>0.000000</td>\n    </tr>\n  </tbody>\n</table>\n</div>"
     },
     "execution_count": 108,
     "metadata": {},
     "output_type": "execute_result"
    }
   ],
   "source": [
    "evaluation[evaluation.model == \"CatBoostClassifier\"].sort_values(by=[\"test_prec\"], ascending=False)"
   ],
   "metadata": {
    "collapsed": false,
    "ExecuteTime": {
     "end_time": "2024-11-14T16:49:40.813229Z",
     "start_time": "2024-11-14T16:49:40.775451900Z"
    }
   }
  },
  {
   "cell_type": "markdown",
   "source": [
    "##### 2.2.1 LGBMClassifier"
   ],
   "metadata": {
    "collapsed": false
   }
  },
  {
   "cell_type": "code",
   "execution_count": 88,
   "outputs": [],
   "source": [
    "light = LGBMClassifier()"
   ],
   "metadata": {
    "collapsed": false,
    "ExecuteTime": {
     "end_time": "2024-11-14T16:27:32.494286400Z",
     "start_time": "2024-11-14T16:27:32.440866700Z"
    }
   }
  },
  {
   "cell_type": "code",
   "execution_count": 89,
   "outputs": [
    {
     "name": "stdout",
     "output_type": "stream",
     "text": [
      "Starting model fitting.\n",
      "1/12 Fitting:  LGBMClassifier BASE started...\n",
      "[LightGBM] [Info] Number of positive: 1409, number of negative: 19262\n",
      "[LightGBM] [Info] Auto-choosing col-wise multi-threading, the overhead of testing was 0.037590 seconds.\n",
      "You can set `force_col_wise=true` to remove the overhead.\n",
      "[LightGBM] [Info] Total Bins 45936\n",
      "[LightGBM] [Info] Number of data points in the train set: 20671, number of used features: 1379\n",
      "[LightGBM] [Info] [binary:BoostFromScore]: pavg=0.068163 -> initscore=-2.615254\n",
      "[LightGBM] [Info] Start training from score -2.615254\n",
      "Fitting:  LGBMClassifier finished. Elapsed time:  4 Seconds\n",
      "2/12 Fitting:  LGBMClassifier CLEAN started...\n",
      "[LightGBM] [Info] Number of positive: 64, number of negative: 4073\n",
      "[LightGBM] [Info] Auto-choosing row-wise multi-threading, the overhead of testing was 0.005724 seconds.\n",
      "You can set `force_row_wise=true` to remove the overhead.\n",
      "And if memory is not enough, you can set `force_col_wise=true`.\n",
      "[LightGBM] [Info] Total Bins 7842\n",
      "[LightGBM] [Info] Number of data points in the train set: 4137, number of used features: 357\n",
      "[LightGBM] [Info] [binary:BoostFromScore]: pavg=0.015470 -> initscore=-4.153252\n",
      "[LightGBM] [Info] Start training from score -4.153252\n",
      "Fitting:  LGBMClassifier finished. Elapsed time:  0 Seconds\n",
      "3/12 Fitting:  LGBMClassifier SMOTE-base started...\n",
      "[LightGBM] [Info] Number of positive: 19262, number of negative: 19262\n",
      "[LightGBM] [Info] Auto-choosing col-wise multi-threading, the overhead of testing was 0.119960 seconds.\n",
      "You can set `force_col_wise=true` to remove the overhead.\n",
      "[LightGBM] [Info] Total Bins 108295\n",
      "[LightGBM] [Info] Number of data points in the train set: 38524, number of used features: 2583\n",
      "[LightGBM] [Info] [binary:BoostFromScore]: pavg=0.500000 -> initscore=0.000000\n",
      "Fitting:  LGBMClassifier finished. Elapsed time:  7 Seconds\n",
      "4/12 Fitting:  LGBMClassifier SMOTE-clean started...\n",
      "[LightGBM] [Info] Number of positive: 4073, number of negative: 4073\n",
      "[LightGBM] [Info] Auto-choosing col-wise multi-threading, the overhead of testing was 0.008973 seconds.\n",
      "You can set `force_col_wise=true` to remove the overhead.\n",
      "[LightGBM] [Info] Total Bins 29409\n",
      "[LightGBM] [Info] Number of data points in the train set: 8146, number of used features: 610\n",
      "[LightGBM] [Info] [binary:BoostFromScore]: pavg=0.500000 -> initscore=0.000000\n",
      "Fitting:  LGBMClassifier finished. Elapsed time:  1 Seconds\n",
      "5/12 Fitting:  LGBMClassifier BorderlineSMOTE-base started...\n",
      "[LightGBM] [Info] Number of positive: 19262, number of negative: 19262\n",
      "[LightGBM] [Info] Auto-choosing row-wise multi-threading, the overhead of testing was 0.097380 seconds.\n",
      "You can set `force_row_wise=true` to remove the overhead.\n",
      "And if memory is not enough, you can set `force_col_wise=true`.\n",
      "[LightGBM] [Info] Total Bins 101208\n",
      "[LightGBM] [Info] Number of data points in the train set: 38524, number of used features: 1999\n",
      "[LightGBM] [Info] [binary:BoostFromScore]: pavg=0.500000 -> initscore=0.000000\n",
      "Fitting:  LGBMClassifier finished. Elapsed time:  3 Seconds\n",
      "6/12 Fitting:  LGBMClassifier BorderlineSMOTE-clean started...\n",
      "[LightGBM] [Info] Number of positive: 4073, number of negative: 4073\n",
      "[LightGBM] [Info] Auto-choosing row-wise multi-threading, the overhead of testing was 0.008809 seconds.\n",
      "You can set `force_row_wise=true` to remove the overhead.\n",
      "And if memory is not enough, you can set `force_col_wise=true`.\n",
      "[LightGBM] [Info] Total Bins 28276\n",
      "[LightGBM] [Info] Number of data points in the train set: 8146, number of used features: 565\n",
      "[LightGBM] [Info] [binary:BoostFromScore]: pavg=0.500000 -> initscore=0.000000\n",
      "Fitting:  LGBMClassifier finished. Elapsed time:  1 Seconds\n",
      "7/12 Fitting:  LGBMClassifier ADASYN-base started...\n",
      "[LightGBM] [Info] Number of positive: 18876, number of negative: 19262\n",
      "[LightGBM] [Info] Auto-choosing row-wise multi-threading, the overhead of testing was 0.122047 seconds.\n",
      "You can set `force_row_wise=true` to remove the overhead.\n",
      "And if memory is not enough, you can set `force_col_wise=true`.\n",
      "[LightGBM] [Info] Total Bins 108802\n",
      "[LightGBM] [Info] Number of data points in the train set: 38138, number of used features: 2637\n",
      "[LightGBM] [Info] [binary:BoostFromScore]: pavg=0.494939 -> initscore=-0.020243\n",
      "[LightGBM] [Info] Start training from score -0.020243\n",
      "Fitting:  LGBMClassifier finished. Elapsed time:  3 Seconds\n",
      "8/12 Fitting:  LGBMClassifier ADASYN-clean started...\n",
      "[LightGBM] [Info] Number of positive: 4071, number of negative: 4073\n",
      "[LightGBM] [Info] Auto-choosing row-wise multi-threading, the overhead of testing was 0.009699 seconds.\n",
      "You can set `force_row_wise=true` to remove the overhead.\n",
      "And if memory is not enough, you can set `force_col_wise=true`.\n",
      "[LightGBM] [Info] Total Bins 29621\n",
      "[LightGBM] [Info] Number of data points in the train set: 8144, number of used features: 610\n",
      "[LightGBM] [Info] [binary:BoostFromScore]: pavg=0.499877 -> initscore=-0.000491\n",
      "[LightGBM] [Info] Start training from score -0.000491\n",
      "Fitting:  LGBMClassifier finished. Elapsed time:  1 Seconds\n",
      "9/12 Fitting:  LGBMClassifier NearMiss-base started...\n",
      "[LightGBM] [Info] Number of positive: 1409, number of negative: 185\n",
      "[LightGBM] [Info] Auto-choosing row-wise multi-threading, the overhead of testing was 0.001290 seconds.\n",
      "You can set `force_row_wise=true` to remove the overhead.\n",
      "And if memory is not enough, you can set `force_col_wise=true`.\n",
      "[LightGBM] [Info] Total Bins 2935\n",
      "[LightGBM] [Info] Number of data points in the train set: 1594, number of used features: 126\n",
      "[LightGBM] [Info] [binary:BoostFromScore]: pavg=0.883940 -> initscore=2.030280\n",
      "[LightGBM] [Info] Start training from score 2.030280\n",
      "Fitting:  LGBMClassifier finished. Elapsed time:  0 Seconds\n",
      "10/12 Fitting:  LGBMClassifier NearMiss-clean started...\n",
      "[LightGBM] [Warning] There are no meaningful features which satisfy the provided configuration. Decreasing Dataset parameters min_data_in_bin or min_data_in_leaf and re-constructing Dataset might resolve this warning.\n",
      "[LightGBM] [Info] Number of positive: 64, number of negative: 64\n",
      "[LightGBM] [Info] Total Bins 0\n",
      "[LightGBM] [Info] Number of data points in the train set: 128, number of used features: 0\n",
      "[LightGBM] [Info] [binary:BoostFromScore]: pavg=0.500000 -> initscore=0.000000\n",
      "[LightGBM] [Warning] Stopped training because there are no more leaves that meet the split requirements\n",
      "[LightGBM] [Warning] Stopped training because there are no more leaves that meet the split requirements\n",
      "[LightGBM] [Warning] Stopped training because there are no more leaves that meet the split requirements\n",
      "[LightGBM] [Warning] Stopped training because there are no more leaves that meet the split requirements\n",
      "[LightGBM] [Warning] Stopped training because there are no more leaves that meet the split requirements\n",
      "[LightGBM] [Warning] Stopped training because there are no more leaves that meet the split requirements\n",
      "[LightGBM] [Warning] Stopped training because there are no more leaves that meet the split requirements\n",
      "[LightGBM] [Warning] Stopped training because there are no more leaves that meet the split requirements\n",
      "[LightGBM] [Warning] Stopped training because there are no more leaves that meet the split requirements\n",
      "[LightGBM] [Warning] Stopped training because there are no more leaves that meet the split requirements\n",
      "[LightGBM] [Warning] Stopped training because there are no more leaves that meet the split requirements\n",
      "[LightGBM] [Warning] Stopped training because there are no more leaves that meet the split requirements\n",
      "[LightGBM] [Warning] Stopped training because there are no more leaves that meet the split requirements\n",
      "[LightGBM] [Warning] Stopped training because there are no more leaves that meet the split requirements\n",
      "[LightGBM] [Warning] Stopped training because there are no more leaves that meet the split requirements\n",
      "[LightGBM] [Warning] Stopped training because there are no more leaves that meet the split requirements\n",
      "[LightGBM] [Warning] Stopped training because there are no more leaves that meet the split requirements\n",
      "[LightGBM] [Warning] Stopped training because there are no more leaves that meet the split requirements\n",
      "[LightGBM] [Warning] Stopped training because there are no more leaves that meet the split requirements\n",
      "[LightGBM] [Warning] Stopped training because there are no more leaves that meet the split requirements\n",
      "[LightGBM] [Warning] Stopped training because there are no more leaves that meet the split requirements\n",
      "[LightGBM] [Warning] Stopped training because there are no more leaves that meet the split requirements\n",
      "[LightGBM] [Warning] Stopped training because there are no more leaves that meet the split requirements\n",
      "[LightGBM] [Warning] Stopped training because there are no more leaves that meet the split requirements\n",
      "[LightGBM] [Warning] Stopped training because there are no more leaves that meet the split requirements\n",
      "[LightGBM] [Warning] Stopped training because there are no more leaves that meet the split requirements\n",
      "[LightGBM] [Warning] Stopped training because there are no more leaves that meet the split requirements\n",
      "[LightGBM] [Warning] Stopped training because there are no more leaves that meet the split requirements\n",
      "[LightGBM] [Warning] Stopped training because there are no more leaves that meet the split requirements\n",
      "[LightGBM] [Warning] Stopped training because there are no more leaves that meet the split requirements\n",
      "[LightGBM] [Warning] Stopped training because there are no more leaves that meet the split requirements\n",
      "[LightGBM] [Warning] Stopped training because there are no more leaves that meet the split requirements\n",
      "[LightGBM] [Warning] Stopped training because there are no more leaves that meet the split requirements\n",
      "[LightGBM] [Warning] Stopped training because there are no more leaves that meet the split requirements\n",
      "[LightGBM] [Warning] Stopped training because there are no more leaves that meet the split requirements\n",
      "[LightGBM] [Warning] Stopped training because there are no more leaves that meet the split requirements\n",
      "[LightGBM] [Warning] Stopped training because there are no more leaves that meet the split requirements\n",
      "[LightGBM] [Warning] Stopped training because there are no more leaves that meet the split requirements\n",
      "[LightGBM] [Warning] Stopped training because there are no more leaves that meet the split requirements\n",
      "[LightGBM] [Warning] Stopped training because there are no more leaves that meet the split requirements\n",
      "[LightGBM] [Warning] Stopped training because there are no more leaves that meet the split requirements\n",
      "[LightGBM] [Warning] Stopped training because there are no more leaves that meet the split requirements\n",
      "[LightGBM] [Warning] Stopped training because there are no more leaves that meet the split requirements\n",
      "[LightGBM] [Warning] Stopped training because there are no more leaves that meet the split requirements\n",
      "[LightGBM] [Warning] Stopped training because there are no more leaves that meet the split requirements\n",
      "[LightGBM] [Warning] Stopped training because there are no more leaves that meet the split requirements\n",
      "[LightGBM] [Warning] Stopped training because there are no more leaves that meet the split requirements\n",
      "[LightGBM] [Warning] Stopped training because there are no more leaves that meet the split requirements\n",
      "[LightGBM] [Warning] Stopped training because there are no more leaves that meet the split requirements\n",
      "[LightGBM] [Warning] Stopped training because there are no more leaves that meet the split requirements\n",
      "[LightGBM] [Warning] Stopped training because there are no more leaves that meet the split requirements\n",
      "[LightGBM] [Warning] Stopped training because there are no more leaves that meet the split requirements\n",
      "[LightGBM] [Warning] Stopped training because there are no more leaves that meet the split requirements\n",
      "[LightGBM] [Warning] Stopped training because there are no more leaves that meet the split requirements\n",
      "[LightGBM] [Warning] Stopped training because there are no more leaves that meet the split requirements\n",
      "[LightGBM] [Warning] Stopped training because there are no more leaves that meet the split requirements\n",
      "[LightGBM] [Warning] Stopped training because there are no more leaves that meet the split requirements\n",
      "[LightGBM] [Warning] Stopped training because there are no more leaves that meet the split requirements\n",
      "[LightGBM] [Warning] Stopped training because there are no more leaves that meet the split requirements\n",
      "[LightGBM] [Warning] Stopped training because there are no more leaves that meet the split requirements\n",
      "[LightGBM] [Warning] Stopped training because there are no more leaves that meet the split requirements\n",
      "[LightGBM] [Warning] Stopped training because there are no more leaves that meet the split requirements\n",
      "[LightGBM] [Warning] Stopped training because there are no more leaves that meet the split requirements\n",
      "[LightGBM] [Warning] Stopped training because there are no more leaves that meet the split requirements\n",
      "[LightGBM] [Warning] Stopped training because there are no more leaves that meet the split requirements\n",
      "[LightGBM] [Warning] Stopped training because there are no more leaves that meet the split requirements\n",
      "[LightGBM] [Warning] Stopped training because there are no more leaves that meet the split requirements\n",
      "[LightGBM] [Warning] Stopped training because there are no more leaves that meet the split requirements\n",
      "[LightGBM] [Warning] Stopped training because there are no more leaves that meet the split requirements\n",
      "[LightGBM] [Warning] Stopped training because there are no more leaves that meet the split requirements\n",
      "[LightGBM] [Warning] Stopped training because there are no more leaves that meet the split requirements\n",
      "[LightGBM] [Warning] Stopped training because there are no more leaves that meet the split requirements\n",
      "[LightGBM] [Warning] Stopped training because there are no more leaves that meet the split requirements\n",
      "[LightGBM] [Warning] Stopped training because there are no more leaves that meet the split requirements\n",
      "[LightGBM] [Warning] Stopped training because there are no more leaves that meet the split requirements\n",
      "[LightGBM] [Warning] Stopped training because there are no more leaves that meet the split requirements\n",
      "[LightGBM] [Warning] Stopped training because there are no more leaves that meet the split requirements\n",
      "[LightGBM] [Warning] Stopped training because there are no more leaves that meet the split requirements\n",
      "[LightGBM] [Warning] Stopped training because there are no more leaves that meet the split requirements\n",
      "[LightGBM] [Warning] Stopped training because there are no more leaves that meet the split requirements\n",
      "[LightGBM] [Warning] Stopped training because there are no more leaves that meet the split requirements\n",
      "[LightGBM] [Warning] Stopped training because there are no more leaves that meet the split requirements\n",
      "[LightGBM] [Warning] Stopped training because there are no more leaves that meet the split requirements\n",
      "[LightGBM] [Warning] Stopped training because there are no more leaves that meet the split requirements\n",
      "[LightGBM] [Warning] Stopped training because there are no more leaves that meet the split requirements\n",
      "[LightGBM] [Warning] Stopped training because there are no more leaves that meet the split requirements\n",
      "[LightGBM] [Warning] Stopped training because there are no more leaves that meet the split requirements\n",
      "[LightGBM] [Warning] Stopped training because there are no more leaves that meet the split requirements\n",
      "[LightGBM] [Warning] Stopped training because there are no more leaves that meet the split requirements\n",
      "[LightGBM] [Warning] Stopped training because there are no more leaves that meet the split requirements\n",
      "[LightGBM] [Warning] Stopped training because there are no more leaves that meet the split requirements\n",
      "[LightGBM] [Warning] Stopped training because there are no more leaves that meet the split requirements\n",
      "[LightGBM] [Warning] Stopped training because there are no more leaves that meet the split requirements\n",
      "[LightGBM] [Warning] Stopped training because there are no more leaves that meet the split requirements\n",
      "[LightGBM] [Warning] Stopped training because there are no more leaves that meet the split requirements\n",
      "[LightGBM] [Warning] Stopped training because there are no more leaves that meet the split requirements\n",
      "[LightGBM] [Warning] Stopped training because there are no more leaves that meet the split requirements\n",
      "[LightGBM] [Warning] Stopped training because there are no more leaves that meet the split requirements\n",
      "[LightGBM] [Warning] Stopped training because there are no more leaves that meet the split requirements\n",
      "[LightGBM] [Warning] Stopped training because there are no more leaves that meet the split requirements\n",
      "Fitting:  LGBMClassifier finished. Elapsed time:  0 Seconds\n",
      "11/12 Fitting:  LGBMClassifier TomekLink-base started...\n",
      "[LightGBM] [Info] Number of positive: 64, number of negative: 4070\n",
      "[LightGBM] [Info] Auto-choosing col-wise multi-threading, the overhead of testing was 0.004106 seconds.\n",
      "You can set `force_col_wise=true` to remove the overhead.\n",
      "[LightGBM] [Info] Total Bins 7829\n",
      "[LightGBM] [Info] Number of data points in the train set: 4134, number of used features: 356\n",
      "[LightGBM] [Info] [binary:BoostFromScore]: pavg=0.015481 -> initscore=-4.152515\n",
      "[LightGBM] [Info] Start training from score -4.152515\n"
     ]
    },
    {
     "name": "stderr",
     "output_type": "stream",
     "text": [
      "C:\\Users\\admin\\anaconda3\\lib\\site-packages\\sklearn\\metrics\\_classification.py:1344: UndefinedMetricWarning: Precision is ill-defined and being set to 0.0 due to no predicted samples. Use `zero_division` parameter to control this behavior.\n",
      "  _warn_prf(average, modifier, msg_start, len(result))\n",
      "C:\\Users\\admin\\anaconda3\\lib\\site-packages\\sklearn\\metrics\\_classification.py:1344: UndefinedMetricWarning: Precision is ill-defined and being set to 0.0 due to no predicted samples. Use `zero_division` parameter to control this behavior.\n",
      "  _warn_prf(average, modifier, msg_start, len(result))\n"
     ]
    },
    {
     "name": "stdout",
     "output_type": "stream",
     "text": [
      "Fitting:  LGBMClassifier finished. Elapsed time:  0 Seconds\n",
      "12/12 Fitting:  LGBMClassifier TomekLink-clean started...\n",
      "[LightGBM] [Info] Number of positive: 64, number of negative: 4070\n",
      "[LightGBM] [Info] Auto-choosing row-wise multi-threading, the overhead of testing was 0.003477 seconds.\n",
      "You can set `force_row_wise=true` to remove the overhead.\n",
      "And if memory is not enough, you can set `force_col_wise=true`.\n",
      "[LightGBM] [Info] Total Bins 7829\n",
      "[LightGBM] [Info] Number of data points in the train set: 4134, number of used features: 356\n",
      "[LightGBM] [Info] [binary:BoostFromScore]: pavg=0.015481 -> initscore=-4.152515\n",
      "[LightGBM] [Info] Start training from score -4.152515\n",
      "Fitting:  LGBMClassifier finished. Elapsed time:  0 Seconds\n",
      "Model fitting finished.\n"
     ]
    }
   ],
   "source": [
    "fit_model(light, \"LGBMClassifier\")"
   ],
   "metadata": {
    "collapsed": false,
    "ExecuteTime": {
     "end_time": "2024-11-14T16:27:53.145815600Z",
     "start_time": "2024-11-14T16:27:32.463022200Z"
    }
   }
  },
  {
   "cell_type": "code",
   "execution_count": 90,
   "outputs": [
    {
     "data": {
      "text/plain": "             model                variant  train_acc  train_prec  train_rec  \\\n38  LGBMClassifier                   base   0.964298    0.944371   0.506033   \n41  LGBMClassifier            SMOTE clean   1.000000    1.000000   1.000000   \n43  LGBMClassifier  BorderlineSMOTE clean   1.000000    1.000000   1.000000   \n45  LGBMClassifier           ADASYN clean   1.000000    1.000000   1.000000   \n42  LGBMClassifier   BorderlineSMOTE base   0.977001    0.984957   0.968799   \n44  LGBMClassifier            ADASYN base   0.970135    0.978473   0.960797   \n40  LGBMClassifier             SMOTE base   0.969707    0.979033   0.959973   \n39  LGBMClassifier                  clean   0.999758    1.000000   0.984375   \n48  LGBMClassifier         TomekLink base   0.999758    0.984615   1.000000   \n49  LGBMClassifier        TomekLink clean   0.999758    0.984615   1.000000   \n46  LGBMClassifier          NearMiss base   0.971142    0.975576   0.992193   \n47  LGBMClassifier         NearMiss clean   0.500000    0.000000   0.000000   \n\n    train_f1  test_acc  test_prec  test_rec   test_f1  \n38  0.658965  0.948301   0.753472  0.359272  0.486547  \n41  1.000000  0.987599   0.750000  0.321429  0.450000  \n43  1.000000  0.987035   0.727273  0.285714  0.410256  \n45  1.000000  0.987035   0.727273  0.285714  0.410256  \n42  0.976811  0.944237   0.626147  0.451987  0.525000  \n44  0.969554  0.940738   0.572212  0.518212  0.543875  \n40  0.969409  0.940400   0.571161  0.504967  0.536028  \n39  0.992126  0.981398   0.222222  0.071429  0.108108  \n48  0.992248  0.981398   0.222222  0.071429  0.108108  \n49  0.992248  0.981398   0.222222  0.071429  0.108108  \n46  0.983814  0.138052   0.070801  0.960265  0.131878  \n47  0.000000  0.984216   0.000000  0.000000  0.000000  ",
      "text/html": "<div>\n<style scoped>\n    .dataframe tbody tr th:only-of-type {\n        vertical-align: middle;\n    }\n\n    .dataframe tbody tr th {\n        vertical-align: top;\n    }\n\n    .dataframe thead th {\n        text-align: right;\n    }\n</style>\n<table border=\"1\" class=\"dataframe\">\n  <thead>\n    <tr style=\"text-align: right;\">\n      <th></th>\n      <th>model</th>\n      <th>variant</th>\n      <th>train_acc</th>\n      <th>train_prec</th>\n      <th>train_rec</th>\n      <th>train_f1</th>\n      <th>test_acc</th>\n      <th>test_prec</th>\n      <th>test_rec</th>\n      <th>test_f1</th>\n    </tr>\n  </thead>\n  <tbody>\n    <tr>\n      <th>38</th>\n      <td>LGBMClassifier</td>\n      <td>base</td>\n      <td>0.964298</td>\n      <td>0.944371</td>\n      <td>0.506033</td>\n      <td>0.658965</td>\n      <td>0.948301</td>\n      <td>0.753472</td>\n      <td>0.359272</td>\n      <td>0.486547</td>\n    </tr>\n    <tr>\n      <th>41</th>\n      <td>LGBMClassifier</td>\n      <td>SMOTE clean</td>\n      <td>1.000000</td>\n      <td>1.000000</td>\n      <td>1.000000</td>\n      <td>1.000000</td>\n      <td>0.987599</td>\n      <td>0.750000</td>\n      <td>0.321429</td>\n      <td>0.450000</td>\n    </tr>\n    <tr>\n      <th>43</th>\n      <td>LGBMClassifier</td>\n      <td>BorderlineSMOTE clean</td>\n      <td>1.000000</td>\n      <td>1.000000</td>\n      <td>1.000000</td>\n      <td>1.000000</td>\n      <td>0.987035</td>\n      <td>0.727273</td>\n      <td>0.285714</td>\n      <td>0.410256</td>\n    </tr>\n    <tr>\n      <th>45</th>\n      <td>LGBMClassifier</td>\n      <td>ADASYN clean</td>\n      <td>1.000000</td>\n      <td>1.000000</td>\n      <td>1.000000</td>\n      <td>1.000000</td>\n      <td>0.987035</td>\n      <td>0.727273</td>\n      <td>0.285714</td>\n      <td>0.410256</td>\n    </tr>\n    <tr>\n      <th>42</th>\n      <td>LGBMClassifier</td>\n      <td>BorderlineSMOTE base</td>\n      <td>0.977001</td>\n      <td>0.984957</td>\n      <td>0.968799</td>\n      <td>0.976811</td>\n      <td>0.944237</td>\n      <td>0.626147</td>\n      <td>0.451987</td>\n      <td>0.525000</td>\n    </tr>\n    <tr>\n      <th>44</th>\n      <td>LGBMClassifier</td>\n      <td>ADASYN base</td>\n      <td>0.970135</td>\n      <td>0.978473</td>\n      <td>0.960797</td>\n      <td>0.969554</td>\n      <td>0.940738</td>\n      <td>0.572212</td>\n      <td>0.518212</td>\n      <td>0.543875</td>\n    </tr>\n    <tr>\n      <th>40</th>\n      <td>LGBMClassifier</td>\n      <td>SMOTE base</td>\n      <td>0.969707</td>\n      <td>0.979033</td>\n      <td>0.959973</td>\n      <td>0.969409</td>\n      <td>0.940400</td>\n      <td>0.571161</td>\n      <td>0.504967</td>\n      <td>0.536028</td>\n    </tr>\n    <tr>\n      <th>39</th>\n      <td>LGBMClassifier</td>\n      <td>clean</td>\n      <td>0.999758</td>\n      <td>1.000000</td>\n      <td>0.984375</td>\n      <td>0.992126</td>\n      <td>0.981398</td>\n      <td>0.222222</td>\n      <td>0.071429</td>\n      <td>0.108108</td>\n    </tr>\n    <tr>\n      <th>48</th>\n      <td>LGBMClassifier</td>\n      <td>TomekLink base</td>\n      <td>0.999758</td>\n      <td>0.984615</td>\n      <td>1.000000</td>\n      <td>0.992248</td>\n      <td>0.981398</td>\n      <td>0.222222</td>\n      <td>0.071429</td>\n      <td>0.108108</td>\n    </tr>\n    <tr>\n      <th>49</th>\n      <td>LGBMClassifier</td>\n      <td>TomekLink clean</td>\n      <td>0.999758</td>\n      <td>0.984615</td>\n      <td>1.000000</td>\n      <td>0.992248</td>\n      <td>0.981398</td>\n      <td>0.222222</td>\n      <td>0.071429</td>\n      <td>0.108108</td>\n    </tr>\n    <tr>\n      <th>46</th>\n      <td>LGBMClassifier</td>\n      <td>NearMiss base</td>\n      <td>0.971142</td>\n      <td>0.975576</td>\n      <td>0.992193</td>\n      <td>0.983814</td>\n      <td>0.138052</td>\n      <td>0.070801</td>\n      <td>0.960265</td>\n      <td>0.131878</td>\n    </tr>\n    <tr>\n      <th>47</th>\n      <td>LGBMClassifier</td>\n      <td>NearMiss clean</td>\n      <td>0.500000</td>\n      <td>0.000000</td>\n      <td>0.000000</td>\n      <td>0.000000</td>\n      <td>0.984216</td>\n      <td>0.000000</td>\n      <td>0.000000</td>\n      <td>0.000000</td>\n    </tr>\n  </tbody>\n</table>\n</div>"
     },
     "execution_count": 90,
     "metadata": {},
     "output_type": "execute_result"
    }
   ],
   "source": [
    "evaluation[evaluation.model == \"LGBMClassifier\"].sort_values(by=[\"test_prec\"], ascending=False)"
   ],
   "metadata": {
    "collapsed": false,
    "ExecuteTime": {
     "end_time": "2024-11-14T16:27:53.183596Z",
     "start_time": "2024-11-14T16:27:53.098940700Z"
    }
   }
  },
  {
   "cell_type": "markdown",
   "source": [
    "#### 2.3 Stacking"
   ],
   "metadata": {
    "collapsed": false
   }
  },
  {
   "cell_type": "code",
   "execution_count": 91,
   "outputs": [],
   "source": [
    "base_models = [\n",
    "    ('rf', RandomForestClassifier(n_estimators=100, random_state=42)),\n",
    "    ('svm', LinearSVC(random_state=42))\n",
    "]\n",
    "stack = StackingClassifier(estimators=base_models)"
   ],
   "metadata": {
    "collapsed": false,
    "ExecuteTime": {
     "end_time": "2024-11-14T16:27:53.183596Z",
     "start_time": "2024-11-14T16:27:53.145815600Z"
    }
   }
  },
  {
   "cell_type": "code",
   "execution_count": 92,
   "outputs": [],
   "source": [
    "# stack.fit(X_train_base, y_train_base)"
   ],
   "metadata": {
    "collapsed": false,
    "ExecuteTime": {
     "end_time": "2024-11-14T16:27:53.230471100Z",
     "start_time": "2024-11-14T16:27:53.145815600Z"
    }
   }
  },
  {
   "cell_type": "markdown",
   "source": [
    "#### Model comparision"
   ],
   "metadata": {
    "collapsed": false
   }
  },
  {
   "cell_type": "code",
   "execution_count": 93,
   "outputs": [
    {
     "data": {
      "text/plain": "                   model                variant  train_acc  train_prec  \\\n3           RandomForest            SMOTE clean   1.000000    1.000000   \n5           RandomForest  BorderlineSMOTE clean   1.000000    1.000000   \n7           RandomForest           ADASYN clean   1.000000    1.000000   \n11          RandomForest        TomekLink clean   1.000000    1.000000   \n1           RandomForest                  clean   1.000000    1.000000   \n0           RandomForest                   base   0.999855    1.000000   \n4           RandomForest   BorderlineSMOTE base   0.999922    1.000000   \n14         XGBClassifier                   base   0.965120    0.972527   \n21         XGBClassifier           ADASYN clean   0.998527    1.000000   \n10          RandomForest         TomekLink base   0.999758    1.000000   \n2           RandomForest             SMOTE base   0.999922    0.999948   \n6           RandomForest            ADASYN base   0.999921    0.999841   \n38        LGBMClassifier                   base   0.964298    0.944371   \n41        LGBMClassifier            SMOTE clean   1.000000    1.000000   \n26    CatBoostClassifier                   base   0.936191    0.736842   \n17         XGBClassifier            SMOTE clean   0.998772    1.000000   \n43        LGBMClassifier  BorderlineSMOTE clean   1.000000    1.000000   \n45        LGBMClassifier           ADASYN clean   1.000000    1.000000   \n19         XGBClassifier  BorderlineSMOTE clean   0.997668    1.000000   \n18         XGBClassifier   BorderlineSMOTE base   0.978325    0.993096   \n15         XGBClassifier                  clean   0.992265    1.000000   \n20         XGBClassifier            ADASYN base   0.968824    0.990951   \n16         XGBClassifier             SMOTE base   0.970642    0.991115   \n42        LGBMClassifier   BorderlineSMOTE base   0.977001    0.984957   \n25         XGBClassifier        TomekLink clean   0.992259    1.000000   \n24         XGBClassifier         TomekLink base   0.992259    1.000000   \n44        LGBMClassifier            ADASYN base   0.970135    0.978473   \n40        LGBMClassifier             SMOTE base   0.969707    0.979033   \n12  BalancedRandomForest          BALANCED base   0.857965    0.324281   \n39        LGBMClassifier                  clean   0.999758    1.000000   \n48        LGBMClassifier         TomekLink base   0.999758    0.984615   \n49        LGBMClassifier        TomekLink clean   0.999758    0.984615   \n31    CatBoostClassifier  BorderlineSMOTE clean   0.767002    0.981834   \n33    CatBoostClassifier           ADASYN clean   0.719425    0.977540   \n13  BalancedRandomForest         BALANCED clean   0.940778    0.207120   \n32    CatBoostClassifier            ADASYN base   0.708349    0.678550   \n28    CatBoostClassifier             SMOTE base   0.715891    0.686371   \n30    CatBoostClassifier   BorderlineSMOTE base   0.713296    0.664914   \n9           RandomForest         NearMiss clean   1.000000    1.000000   \n8           RandomForest          NearMiss base   0.998118    1.000000   \n29    CatBoostClassifier            SMOTE clean   0.743187    0.931967   \n22         XGBClassifier          NearMiss base   0.966123    0.969508   \n46        LGBMClassifier          NearMiss base   0.971142    0.975576   \n34    CatBoostClassifier          NearMiss base   0.891468    0.891635   \n35    CatBoostClassifier         NearMiss clean   0.570312    0.846154   \n23         XGBClassifier         NearMiss clean   0.789062    0.877551   \n36    CatBoostClassifier         TomekLink base   0.985728    0.857143   \n47        LGBMClassifier         NearMiss clean   0.500000    0.000000   \n27    CatBoostClassifier                  clean   0.985738    1.000000   \n37    CatBoostClassifier        TomekLink clean   0.985728    0.857143   \n\n    train_rec  train_f1  test_acc  test_prec  test_rec   test_f1  \n3    1.000000  1.000000  0.988162   1.000000  0.250000  0.400000  \n5    1.000000  1.000000  0.988162   1.000000  0.250000  0.400000  \n7    1.000000  1.000000  0.988162   1.000000  0.250000  0.400000  \n11   1.000000  1.000000  0.987035   1.000000  0.178571  0.303030  \n1    1.000000  1.000000  0.986471   1.000000  0.142857  0.250000  \n0    0.997871  0.998934  0.955977   0.882143  0.408940  0.558824  \n4    0.999844  0.999922  0.950897   0.856540  0.336093  0.482759  \n14   0.502484  0.662611  0.951010   0.824427  0.357616  0.498845  \n21   0.997052  0.998524  0.988162   0.818182  0.321429  0.461538  \n10   0.984375  0.992126  0.985908   0.800000  0.142857  0.242424  \n2    0.999896  0.999922  0.953042   0.786585  0.427152  0.553648  \n6    1.000000  0.999921  0.952139   0.758621  0.437086  0.554622  \n38   0.506033  0.658965  0.948301   0.753472  0.359272  0.486547  \n41   1.000000  1.000000  0.987599   0.750000  0.321429  0.450000  \n26   0.099361  0.175109  0.936787   0.744444  0.110927  0.193084  \n17   0.997545  0.998771  0.987035   0.727273  0.285714  0.410256  \n43   1.000000  1.000000  0.987035   0.727273  0.285714  0.410256  \n45   1.000000  1.000000  0.987035   0.727273  0.285714  0.410256  \n19   0.995335  0.997662  0.986471   0.700000  0.250000  0.368421  \n18   0.963348  0.977996  0.945818   0.676136  0.394040  0.497908  \n15   0.500000  0.666667  0.985344   0.666667  0.142857  0.235294  \n20   0.945645  0.967768  0.945705   0.659740  0.420530  0.513650  \n16   0.949798  0.970017  0.944689   0.646907  0.415563  0.506048  \n42   0.968799  0.976811  0.944237   0.626147  0.451987  0.525000  \n25   0.500000  0.666667  0.984780   0.600000  0.107143  0.181818  \n24   0.500000  0.666667  0.984780   0.600000  0.107143  0.181818  \n44   0.960797  0.969554  0.940738   0.572212  0.518212  0.543875  \n40   0.959973  0.969409  0.940400   0.571161  0.504967  0.536028  \n12   1.000000  0.489746  0.817022   0.248889  0.834437  0.383416  \n39   0.984375  0.992126  0.981398   0.222222  0.071429  0.108108  \n48   1.000000  0.992248  0.981398   0.222222  0.071429  0.108108  \n49   1.000000  0.992248  0.981398   0.222222  0.071429  0.108108  \n31   0.544071  0.700158  0.975761   0.222222  0.214286  0.218182  \n33   0.449030  0.615385  0.971815   0.176471  0.214286  0.193548  \n13   1.000000  0.343164  0.937430   0.119266  0.464286  0.189781  \n32   0.780462  0.725947  0.641946   0.116716  0.647351  0.197774  \n28   0.795089  0.736741  0.639914   0.114030  0.632450  0.193222  \n30   0.859983  0.749972  0.576363   0.107063  0.710265  0.186077  \n9    1.000000  1.000000  0.924464   0.092308  0.428571  0.151899  \n8    0.997871  0.998934  0.230500   0.079350  0.970199  0.146702  \n29   0.524675  0.671379  0.950958   0.072464  0.178571  0.103093  \n22   0.992903  0.981066  0.137600   0.070976  0.963576  0.132213  \n46   0.992193  0.983814  0.138052   0.070801  0.960265  0.131878  \n34   0.998581  0.942082  0.072017   0.068148  0.995033  0.127560  \n35   0.171875  0.285714  0.967869   0.032258  0.035714  0.033898  \n23   0.671875  0.761062  0.757046   0.030303  0.464286  0.056893  \n36   0.093750  0.169014  0.983089   0.000000  0.000000  0.000000  \n47   0.000000  0.000000  0.984216   0.000000  0.000000  0.000000  \n27   0.078125  0.144928  0.983653   0.000000  0.000000  0.000000  \n37   0.093750  0.169014  0.983089   0.000000  0.000000  0.000000  ",
      "text/html": "<div>\n<style scoped>\n    .dataframe tbody tr th:only-of-type {\n        vertical-align: middle;\n    }\n\n    .dataframe tbody tr th {\n        vertical-align: top;\n    }\n\n    .dataframe thead th {\n        text-align: right;\n    }\n</style>\n<table border=\"1\" class=\"dataframe\">\n  <thead>\n    <tr style=\"text-align: right;\">\n      <th></th>\n      <th>model</th>\n      <th>variant</th>\n      <th>train_acc</th>\n      <th>train_prec</th>\n      <th>train_rec</th>\n      <th>train_f1</th>\n      <th>test_acc</th>\n      <th>test_prec</th>\n      <th>test_rec</th>\n      <th>test_f1</th>\n    </tr>\n  </thead>\n  <tbody>\n    <tr>\n      <th>3</th>\n      <td>RandomForest</td>\n      <td>SMOTE clean</td>\n      <td>1.000000</td>\n      <td>1.000000</td>\n      <td>1.000000</td>\n      <td>1.000000</td>\n      <td>0.988162</td>\n      <td>1.000000</td>\n      <td>0.250000</td>\n      <td>0.400000</td>\n    </tr>\n    <tr>\n      <th>5</th>\n      <td>RandomForest</td>\n      <td>BorderlineSMOTE clean</td>\n      <td>1.000000</td>\n      <td>1.000000</td>\n      <td>1.000000</td>\n      <td>1.000000</td>\n      <td>0.988162</td>\n      <td>1.000000</td>\n      <td>0.250000</td>\n      <td>0.400000</td>\n    </tr>\n    <tr>\n      <th>7</th>\n      <td>RandomForest</td>\n      <td>ADASYN clean</td>\n      <td>1.000000</td>\n      <td>1.000000</td>\n      <td>1.000000</td>\n      <td>1.000000</td>\n      <td>0.988162</td>\n      <td>1.000000</td>\n      <td>0.250000</td>\n      <td>0.400000</td>\n    </tr>\n    <tr>\n      <th>11</th>\n      <td>RandomForest</td>\n      <td>TomekLink clean</td>\n      <td>1.000000</td>\n      <td>1.000000</td>\n      <td>1.000000</td>\n      <td>1.000000</td>\n      <td>0.987035</td>\n      <td>1.000000</td>\n      <td>0.178571</td>\n      <td>0.303030</td>\n    </tr>\n    <tr>\n      <th>1</th>\n      <td>RandomForest</td>\n      <td>clean</td>\n      <td>1.000000</td>\n      <td>1.000000</td>\n      <td>1.000000</td>\n      <td>1.000000</td>\n      <td>0.986471</td>\n      <td>1.000000</td>\n      <td>0.142857</td>\n      <td>0.250000</td>\n    </tr>\n    <tr>\n      <th>0</th>\n      <td>RandomForest</td>\n      <td>base</td>\n      <td>0.999855</td>\n      <td>1.000000</td>\n      <td>0.997871</td>\n      <td>0.998934</td>\n      <td>0.955977</td>\n      <td>0.882143</td>\n      <td>0.408940</td>\n      <td>0.558824</td>\n    </tr>\n    <tr>\n      <th>4</th>\n      <td>RandomForest</td>\n      <td>BorderlineSMOTE base</td>\n      <td>0.999922</td>\n      <td>1.000000</td>\n      <td>0.999844</td>\n      <td>0.999922</td>\n      <td>0.950897</td>\n      <td>0.856540</td>\n      <td>0.336093</td>\n      <td>0.482759</td>\n    </tr>\n    <tr>\n      <th>14</th>\n      <td>XGBClassifier</td>\n      <td>base</td>\n      <td>0.965120</td>\n      <td>0.972527</td>\n      <td>0.502484</td>\n      <td>0.662611</td>\n      <td>0.951010</td>\n      <td>0.824427</td>\n      <td>0.357616</td>\n      <td>0.498845</td>\n    </tr>\n    <tr>\n      <th>21</th>\n      <td>XGBClassifier</td>\n      <td>ADASYN clean</td>\n      <td>0.998527</td>\n      <td>1.000000</td>\n      <td>0.997052</td>\n      <td>0.998524</td>\n      <td>0.988162</td>\n      <td>0.818182</td>\n      <td>0.321429</td>\n      <td>0.461538</td>\n    </tr>\n    <tr>\n      <th>10</th>\n      <td>RandomForest</td>\n      <td>TomekLink base</td>\n      <td>0.999758</td>\n      <td>1.000000</td>\n      <td>0.984375</td>\n      <td>0.992126</td>\n      <td>0.985908</td>\n      <td>0.800000</td>\n      <td>0.142857</td>\n      <td>0.242424</td>\n    </tr>\n    <tr>\n      <th>2</th>\n      <td>RandomForest</td>\n      <td>SMOTE base</td>\n      <td>0.999922</td>\n      <td>0.999948</td>\n      <td>0.999896</td>\n      <td>0.999922</td>\n      <td>0.953042</td>\n      <td>0.786585</td>\n      <td>0.427152</td>\n      <td>0.553648</td>\n    </tr>\n    <tr>\n      <th>6</th>\n      <td>RandomForest</td>\n      <td>ADASYN base</td>\n      <td>0.999921</td>\n      <td>0.999841</td>\n      <td>1.000000</td>\n      <td>0.999921</td>\n      <td>0.952139</td>\n      <td>0.758621</td>\n      <td>0.437086</td>\n      <td>0.554622</td>\n    </tr>\n    <tr>\n      <th>38</th>\n      <td>LGBMClassifier</td>\n      <td>base</td>\n      <td>0.964298</td>\n      <td>0.944371</td>\n      <td>0.506033</td>\n      <td>0.658965</td>\n      <td>0.948301</td>\n      <td>0.753472</td>\n      <td>0.359272</td>\n      <td>0.486547</td>\n    </tr>\n    <tr>\n      <th>41</th>\n      <td>LGBMClassifier</td>\n      <td>SMOTE clean</td>\n      <td>1.000000</td>\n      <td>1.000000</td>\n      <td>1.000000</td>\n      <td>1.000000</td>\n      <td>0.987599</td>\n      <td>0.750000</td>\n      <td>0.321429</td>\n      <td>0.450000</td>\n    </tr>\n    <tr>\n      <th>26</th>\n      <td>CatBoostClassifier</td>\n      <td>base</td>\n      <td>0.936191</td>\n      <td>0.736842</td>\n      <td>0.099361</td>\n      <td>0.175109</td>\n      <td>0.936787</td>\n      <td>0.744444</td>\n      <td>0.110927</td>\n      <td>0.193084</td>\n    </tr>\n    <tr>\n      <th>17</th>\n      <td>XGBClassifier</td>\n      <td>SMOTE clean</td>\n      <td>0.998772</td>\n      <td>1.000000</td>\n      <td>0.997545</td>\n      <td>0.998771</td>\n      <td>0.987035</td>\n      <td>0.727273</td>\n      <td>0.285714</td>\n      <td>0.410256</td>\n    </tr>\n    <tr>\n      <th>43</th>\n      <td>LGBMClassifier</td>\n      <td>BorderlineSMOTE clean</td>\n      <td>1.000000</td>\n      <td>1.000000</td>\n      <td>1.000000</td>\n      <td>1.000000</td>\n      <td>0.987035</td>\n      <td>0.727273</td>\n      <td>0.285714</td>\n      <td>0.410256</td>\n    </tr>\n    <tr>\n      <th>45</th>\n      <td>LGBMClassifier</td>\n      <td>ADASYN clean</td>\n      <td>1.000000</td>\n      <td>1.000000</td>\n      <td>1.000000</td>\n      <td>1.000000</td>\n      <td>0.987035</td>\n      <td>0.727273</td>\n      <td>0.285714</td>\n      <td>0.410256</td>\n    </tr>\n    <tr>\n      <th>19</th>\n      <td>XGBClassifier</td>\n      <td>BorderlineSMOTE clean</td>\n      <td>0.997668</td>\n      <td>1.000000</td>\n      <td>0.995335</td>\n      <td>0.997662</td>\n      <td>0.986471</td>\n      <td>0.700000</td>\n      <td>0.250000</td>\n      <td>0.368421</td>\n    </tr>\n    <tr>\n      <th>18</th>\n      <td>XGBClassifier</td>\n      <td>BorderlineSMOTE base</td>\n      <td>0.978325</td>\n      <td>0.993096</td>\n      <td>0.963348</td>\n      <td>0.977996</td>\n      <td>0.945818</td>\n      <td>0.676136</td>\n      <td>0.394040</td>\n      <td>0.497908</td>\n    </tr>\n    <tr>\n      <th>15</th>\n      <td>XGBClassifier</td>\n      <td>clean</td>\n      <td>0.992265</td>\n      <td>1.000000</td>\n      <td>0.500000</td>\n      <td>0.666667</td>\n      <td>0.985344</td>\n      <td>0.666667</td>\n      <td>0.142857</td>\n      <td>0.235294</td>\n    </tr>\n    <tr>\n      <th>20</th>\n      <td>XGBClassifier</td>\n      <td>ADASYN base</td>\n      <td>0.968824</td>\n      <td>0.990951</td>\n      <td>0.945645</td>\n      <td>0.967768</td>\n      <td>0.945705</td>\n      <td>0.659740</td>\n      <td>0.420530</td>\n      <td>0.513650</td>\n    </tr>\n    <tr>\n      <th>16</th>\n      <td>XGBClassifier</td>\n      <td>SMOTE base</td>\n      <td>0.970642</td>\n      <td>0.991115</td>\n      <td>0.949798</td>\n      <td>0.970017</td>\n      <td>0.944689</td>\n      <td>0.646907</td>\n      <td>0.415563</td>\n      <td>0.506048</td>\n    </tr>\n    <tr>\n      <th>42</th>\n      <td>LGBMClassifier</td>\n      <td>BorderlineSMOTE base</td>\n      <td>0.977001</td>\n      <td>0.984957</td>\n      <td>0.968799</td>\n      <td>0.976811</td>\n      <td>0.944237</td>\n      <td>0.626147</td>\n      <td>0.451987</td>\n      <td>0.525000</td>\n    </tr>\n    <tr>\n      <th>25</th>\n      <td>XGBClassifier</td>\n      <td>TomekLink clean</td>\n      <td>0.992259</td>\n      <td>1.000000</td>\n      <td>0.500000</td>\n      <td>0.666667</td>\n      <td>0.984780</td>\n      <td>0.600000</td>\n      <td>0.107143</td>\n      <td>0.181818</td>\n    </tr>\n    <tr>\n      <th>24</th>\n      <td>XGBClassifier</td>\n      <td>TomekLink base</td>\n      <td>0.992259</td>\n      <td>1.000000</td>\n      <td>0.500000</td>\n      <td>0.666667</td>\n      <td>0.984780</td>\n      <td>0.600000</td>\n      <td>0.107143</td>\n      <td>0.181818</td>\n    </tr>\n    <tr>\n      <th>44</th>\n      <td>LGBMClassifier</td>\n      <td>ADASYN base</td>\n      <td>0.970135</td>\n      <td>0.978473</td>\n      <td>0.960797</td>\n      <td>0.969554</td>\n      <td>0.940738</td>\n      <td>0.572212</td>\n      <td>0.518212</td>\n      <td>0.543875</td>\n    </tr>\n    <tr>\n      <th>40</th>\n      <td>LGBMClassifier</td>\n      <td>SMOTE base</td>\n      <td>0.969707</td>\n      <td>0.979033</td>\n      <td>0.959973</td>\n      <td>0.969409</td>\n      <td>0.940400</td>\n      <td>0.571161</td>\n      <td>0.504967</td>\n      <td>0.536028</td>\n    </tr>\n    <tr>\n      <th>12</th>\n      <td>BalancedRandomForest</td>\n      <td>BALANCED base</td>\n      <td>0.857965</td>\n      <td>0.324281</td>\n      <td>1.000000</td>\n      <td>0.489746</td>\n      <td>0.817022</td>\n      <td>0.248889</td>\n      <td>0.834437</td>\n      <td>0.383416</td>\n    </tr>\n    <tr>\n      <th>39</th>\n      <td>LGBMClassifier</td>\n      <td>clean</td>\n      <td>0.999758</td>\n      <td>1.000000</td>\n      <td>0.984375</td>\n      <td>0.992126</td>\n      <td>0.981398</td>\n      <td>0.222222</td>\n      <td>0.071429</td>\n      <td>0.108108</td>\n    </tr>\n    <tr>\n      <th>48</th>\n      <td>LGBMClassifier</td>\n      <td>TomekLink base</td>\n      <td>0.999758</td>\n      <td>0.984615</td>\n      <td>1.000000</td>\n      <td>0.992248</td>\n      <td>0.981398</td>\n      <td>0.222222</td>\n      <td>0.071429</td>\n      <td>0.108108</td>\n    </tr>\n    <tr>\n      <th>49</th>\n      <td>LGBMClassifier</td>\n      <td>TomekLink clean</td>\n      <td>0.999758</td>\n      <td>0.984615</td>\n      <td>1.000000</td>\n      <td>0.992248</td>\n      <td>0.981398</td>\n      <td>0.222222</td>\n      <td>0.071429</td>\n      <td>0.108108</td>\n    </tr>\n    <tr>\n      <th>31</th>\n      <td>CatBoostClassifier</td>\n      <td>BorderlineSMOTE clean</td>\n      <td>0.767002</td>\n      <td>0.981834</td>\n      <td>0.544071</td>\n      <td>0.700158</td>\n      <td>0.975761</td>\n      <td>0.222222</td>\n      <td>0.214286</td>\n      <td>0.218182</td>\n    </tr>\n    <tr>\n      <th>33</th>\n      <td>CatBoostClassifier</td>\n      <td>ADASYN clean</td>\n      <td>0.719425</td>\n      <td>0.977540</td>\n      <td>0.449030</td>\n      <td>0.615385</td>\n      <td>0.971815</td>\n      <td>0.176471</td>\n      <td>0.214286</td>\n      <td>0.193548</td>\n    </tr>\n    <tr>\n      <th>13</th>\n      <td>BalancedRandomForest</td>\n      <td>BALANCED clean</td>\n      <td>0.940778</td>\n      <td>0.207120</td>\n      <td>1.000000</td>\n      <td>0.343164</td>\n      <td>0.937430</td>\n      <td>0.119266</td>\n      <td>0.464286</td>\n      <td>0.189781</td>\n    </tr>\n    <tr>\n      <th>32</th>\n      <td>CatBoostClassifier</td>\n      <td>ADASYN base</td>\n      <td>0.708349</td>\n      <td>0.678550</td>\n      <td>0.780462</td>\n      <td>0.725947</td>\n      <td>0.641946</td>\n      <td>0.116716</td>\n      <td>0.647351</td>\n      <td>0.197774</td>\n    </tr>\n    <tr>\n      <th>28</th>\n      <td>CatBoostClassifier</td>\n      <td>SMOTE base</td>\n      <td>0.715891</td>\n      <td>0.686371</td>\n      <td>0.795089</td>\n      <td>0.736741</td>\n      <td>0.639914</td>\n      <td>0.114030</td>\n      <td>0.632450</td>\n      <td>0.193222</td>\n    </tr>\n    <tr>\n      <th>30</th>\n      <td>CatBoostClassifier</td>\n      <td>BorderlineSMOTE base</td>\n      <td>0.713296</td>\n      <td>0.664914</td>\n      <td>0.859983</td>\n      <td>0.749972</td>\n      <td>0.576363</td>\n      <td>0.107063</td>\n      <td>0.710265</td>\n      <td>0.186077</td>\n    </tr>\n    <tr>\n      <th>9</th>\n      <td>RandomForest</td>\n      <td>NearMiss clean</td>\n      <td>1.000000</td>\n      <td>1.000000</td>\n      <td>1.000000</td>\n      <td>1.000000</td>\n      <td>0.924464</td>\n      <td>0.092308</td>\n      <td>0.428571</td>\n      <td>0.151899</td>\n    </tr>\n    <tr>\n      <th>8</th>\n      <td>RandomForest</td>\n      <td>NearMiss base</td>\n      <td>0.998118</td>\n      <td>1.000000</td>\n      <td>0.997871</td>\n      <td>0.998934</td>\n      <td>0.230500</td>\n      <td>0.079350</td>\n      <td>0.970199</td>\n      <td>0.146702</td>\n    </tr>\n    <tr>\n      <th>29</th>\n      <td>CatBoostClassifier</td>\n      <td>SMOTE clean</td>\n      <td>0.743187</td>\n      <td>0.931967</td>\n      <td>0.524675</td>\n      <td>0.671379</td>\n      <td>0.950958</td>\n      <td>0.072464</td>\n      <td>0.178571</td>\n      <td>0.103093</td>\n    </tr>\n    <tr>\n      <th>22</th>\n      <td>XGBClassifier</td>\n      <td>NearMiss base</td>\n      <td>0.966123</td>\n      <td>0.969508</td>\n      <td>0.992903</td>\n      <td>0.981066</td>\n      <td>0.137600</td>\n      <td>0.070976</td>\n      <td>0.963576</td>\n      <td>0.132213</td>\n    </tr>\n    <tr>\n      <th>46</th>\n      <td>LGBMClassifier</td>\n      <td>NearMiss base</td>\n      <td>0.971142</td>\n      <td>0.975576</td>\n      <td>0.992193</td>\n      <td>0.983814</td>\n      <td>0.138052</td>\n      <td>0.070801</td>\n      <td>0.960265</td>\n      <td>0.131878</td>\n    </tr>\n    <tr>\n      <th>34</th>\n      <td>CatBoostClassifier</td>\n      <td>NearMiss base</td>\n      <td>0.891468</td>\n      <td>0.891635</td>\n      <td>0.998581</td>\n      <td>0.942082</td>\n      <td>0.072017</td>\n      <td>0.068148</td>\n      <td>0.995033</td>\n      <td>0.127560</td>\n    </tr>\n    <tr>\n      <th>35</th>\n      <td>CatBoostClassifier</td>\n      <td>NearMiss clean</td>\n      <td>0.570312</td>\n      <td>0.846154</td>\n      <td>0.171875</td>\n      <td>0.285714</td>\n      <td>0.967869</td>\n      <td>0.032258</td>\n      <td>0.035714</td>\n      <td>0.033898</td>\n    </tr>\n    <tr>\n      <th>23</th>\n      <td>XGBClassifier</td>\n      <td>NearMiss clean</td>\n      <td>0.789062</td>\n      <td>0.877551</td>\n      <td>0.671875</td>\n      <td>0.761062</td>\n      <td>0.757046</td>\n      <td>0.030303</td>\n      <td>0.464286</td>\n      <td>0.056893</td>\n    </tr>\n    <tr>\n      <th>36</th>\n      <td>CatBoostClassifier</td>\n      <td>TomekLink base</td>\n      <td>0.985728</td>\n      <td>0.857143</td>\n      <td>0.093750</td>\n      <td>0.169014</td>\n      <td>0.983089</td>\n      <td>0.000000</td>\n      <td>0.000000</td>\n      <td>0.000000</td>\n    </tr>\n    <tr>\n      <th>47</th>\n      <td>LGBMClassifier</td>\n      <td>NearMiss clean</td>\n      <td>0.500000</td>\n      <td>0.000000</td>\n      <td>0.000000</td>\n      <td>0.000000</td>\n      <td>0.984216</td>\n      <td>0.000000</td>\n      <td>0.000000</td>\n      <td>0.000000</td>\n    </tr>\n    <tr>\n      <th>27</th>\n      <td>CatBoostClassifier</td>\n      <td>clean</td>\n      <td>0.985738</td>\n      <td>1.000000</td>\n      <td>0.078125</td>\n      <td>0.144928</td>\n      <td>0.983653</td>\n      <td>0.000000</td>\n      <td>0.000000</td>\n      <td>0.000000</td>\n    </tr>\n    <tr>\n      <th>37</th>\n      <td>CatBoostClassifier</td>\n      <td>TomekLink clean</td>\n      <td>0.985728</td>\n      <td>0.857143</td>\n      <td>0.093750</td>\n      <td>0.169014</td>\n      <td>0.983089</td>\n      <td>0.000000</td>\n      <td>0.000000</td>\n      <td>0.000000</td>\n    </tr>\n  </tbody>\n</table>\n</div>"
     },
     "execution_count": 93,
     "metadata": {},
     "output_type": "execute_result"
    }
   ],
   "source": [
    "evaluation.sort_values(by=[\"test_prec\"], ascending=False)"
   ],
   "metadata": {
    "collapsed": false,
    "ExecuteTime": {
     "end_time": "2024-11-14T16:27:53.431043400Z",
     "start_time": "2024-11-14T16:27:53.167970Z"
    }
   }
  },
  {
   "cell_type": "code",
   "execution_count": 94,
   "outputs": [
    {
     "data": {
      "text/plain": "                   model                variant  train_acc  train_prec  \\\n34    CatBoostClassifier          NearMiss base   0.891468    0.891635   \n8           RandomForest          NearMiss base   0.998118    1.000000   \n22         XGBClassifier          NearMiss base   0.966123    0.969508   \n46        LGBMClassifier          NearMiss base   0.971142    0.975576   \n12  BalancedRandomForest          BALANCED base   0.857965    0.324281   \n30    CatBoostClassifier   BorderlineSMOTE base   0.713296    0.664914   \n32    CatBoostClassifier            ADASYN base   0.708349    0.678550   \n28    CatBoostClassifier             SMOTE base   0.715891    0.686371   \n44        LGBMClassifier            ADASYN base   0.970135    0.978473   \n40        LGBMClassifier             SMOTE base   0.969707    0.979033   \n23         XGBClassifier         NearMiss clean   0.789062    0.877551   \n13  BalancedRandomForest         BALANCED clean   0.940778    0.207120   \n42        LGBMClassifier   BorderlineSMOTE base   0.977001    0.984957   \n6           RandomForest            ADASYN base   0.999921    0.999841   \n9           RandomForest         NearMiss clean   1.000000    1.000000   \n2           RandomForest             SMOTE base   0.999922    0.999948   \n20         XGBClassifier            ADASYN base   0.968824    0.990951   \n16         XGBClassifier             SMOTE base   0.970642    0.991115   \n0           RandomForest                   base   0.999855    1.000000   \n18         XGBClassifier   BorderlineSMOTE base   0.978325    0.993096   \n38        LGBMClassifier                   base   0.964298    0.944371   \n14         XGBClassifier                   base   0.965120    0.972527   \n4           RandomForest   BorderlineSMOTE base   0.999922    1.000000   \n41        LGBMClassifier            SMOTE clean   1.000000    1.000000   \n21         XGBClassifier           ADASYN clean   0.998527    1.000000   \n17         XGBClassifier            SMOTE clean   0.998772    1.000000   \n43        LGBMClassifier  BorderlineSMOTE clean   1.000000    1.000000   \n45        LGBMClassifier           ADASYN clean   1.000000    1.000000   \n7           RandomForest           ADASYN clean   1.000000    1.000000   \n3           RandomForest            SMOTE clean   1.000000    1.000000   \n5           RandomForest  BorderlineSMOTE clean   1.000000    1.000000   \n19         XGBClassifier  BorderlineSMOTE clean   0.997668    1.000000   \n31    CatBoostClassifier  BorderlineSMOTE clean   0.767002    0.981834   \n33    CatBoostClassifier           ADASYN clean   0.719425    0.977540   \n11          RandomForest        TomekLink clean   1.000000    1.000000   \n29    CatBoostClassifier            SMOTE clean   0.743187    0.931967   \n10          RandomForest         TomekLink base   0.999758    1.000000   \n1           RandomForest                  clean   1.000000    1.000000   \n15         XGBClassifier                  clean   0.992265    1.000000   \n26    CatBoostClassifier                   base   0.936191    0.736842   \n25         XGBClassifier        TomekLink clean   0.992259    1.000000   \n24         XGBClassifier         TomekLink base   0.992259    1.000000   \n39        LGBMClassifier                  clean   0.999758    1.000000   \n48        LGBMClassifier         TomekLink base   0.999758    0.984615   \n49        LGBMClassifier        TomekLink clean   0.999758    0.984615   \n35    CatBoostClassifier         NearMiss clean   0.570312    0.846154   \n37    CatBoostClassifier        TomekLink clean   0.985728    0.857143   \n36    CatBoostClassifier         TomekLink base   0.985728    0.857143   \n27    CatBoostClassifier                  clean   0.985738    1.000000   \n47        LGBMClassifier         NearMiss clean   0.500000    0.000000   \n\n    train_rec  train_f1  test_acc  test_prec  test_rec   test_f1  \n34   0.998581  0.942082  0.072017   0.068148  0.995033  0.127560  \n8    0.997871  0.998934  0.230500   0.079350  0.970199  0.146702  \n22   0.992903  0.981066  0.137600   0.070976  0.963576  0.132213  \n46   0.992193  0.983814  0.138052   0.070801  0.960265  0.131878  \n12   1.000000  0.489746  0.817022   0.248889  0.834437  0.383416  \n30   0.859983  0.749972  0.576363   0.107063  0.710265  0.186077  \n32   0.780462  0.725947  0.641946   0.116716  0.647351  0.197774  \n28   0.795089  0.736741  0.639914   0.114030  0.632450  0.193222  \n44   0.960797  0.969554  0.940738   0.572212  0.518212  0.543875  \n40   0.959973  0.969409  0.940400   0.571161  0.504967  0.536028  \n23   0.671875  0.761062  0.757046   0.030303  0.464286  0.056893  \n13   1.000000  0.343164  0.937430   0.119266  0.464286  0.189781  \n42   0.968799  0.976811  0.944237   0.626147  0.451987  0.525000  \n6    1.000000  0.999921  0.952139   0.758621  0.437086  0.554622  \n9    1.000000  1.000000  0.924464   0.092308  0.428571  0.151899  \n2    0.999896  0.999922  0.953042   0.786585  0.427152  0.553648  \n20   0.945645  0.967768  0.945705   0.659740  0.420530  0.513650  \n16   0.949798  0.970017  0.944689   0.646907  0.415563  0.506048  \n0    0.997871  0.998934  0.955977   0.882143  0.408940  0.558824  \n18   0.963348  0.977996  0.945818   0.676136  0.394040  0.497908  \n38   0.506033  0.658965  0.948301   0.753472  0.359272  0.486547  \n14   0.502484  0.662611  0.951010   0.824427  0.357616  0.498845  \n4    0.999844  0.999922  0.950897   0.856540  0.336093  0.482759  \n41   1.000000  1.000000  0.987599   0.750000  0.321429  0.450000  \n21   0.997052  0.998524  0.988162   0.818182  0.321429  0.461538  \n17   0.997545  0.998771  0.987035   0.727273  0.285714  0.410256  \n43   1.000000  1.000000  0.987035   0.727273  0.285714  0.410256  \n45   1.000000  1.000000  0.987035   0.727273  0.285714  0.410256  \n7    1.000000  1.000000  0.988162   1.000000  0.250000  0.400000  \n3    1.000000  1.000000  0.988162   1.000000  0.250000  0.400000  \n5    1.000000  1.000000  0.988162   1.000000  0.250000  0.400000  \n19   0.995335  0.997662  0.986471   0.700000  0.250000  0.368421  \n31   0.544071  0.700158  0.975761   0.222222  0.214286  0.218182  \n33   0.449030  0.615385  0.971815   0.176471  0.214286  0.193548  \n11   1.000000  1.000000  0.987035   1.000000  0.178571  0.303030  \n29   0.524675  0.671379  0.950958   0.072464  0.178571  0.103093  \n10   0.984375  0.992126  0.985908   0.800000  0.142857  0.242424  \n1    1.000000  1.000000  0.986471   1.000000  0.142857  0.250000  \n15   0.500000  0.666667  0.985344   0.666667  0.142857  0.235294  \n26   0.099361  0.175109  0.936787   0.744444  0.110927  0.193084  \n25   0.500000  0.666667  0.984780   0.600000  0.107143  0.181818  \n24   0.500000  0.666667  0.984780   0.600000  0.107143  0.181818  \n39   0.984375  0.992126  0.981398   0.222222  0.071429  0.108108  \n48   1.000000  0.992248  0.981398   0.222222  0.071429  0.108108  \n49   1.000000  0.992248  0.981398   0.222222  0.071429  0.108108  \n35   0.171875  0.285714  0.967869   0.032258  0.035714  0.033898  \n37   0.093750  0.169014  0.983089   0.000000  0.000000  0.000000  \n36   0.093750  0.169014  0.983089   0.000000  0.000000  0.000000  \n27   0.078125  0.144928  0.983653   0.000000  0.000000  0.000000  \n47   0.000000  0.000000  0.984216   0.000000  0.000000  0.000000  ",
      "text/html": "<div>\n<style scoped>\n    .dataframe tbody tr th:only-of-type {\n        vertical-align: middle;\n    }\n\n    .dataframe tbody tr th {\n        vertical-align: top;\n    }\n\n    .dataframe thead th {\n        text-align: right;\n    }\n</style>\n<table border=\"1\" class=\"dataframe\">\n  <thead>\n    <tr style=\"text-align: right;\">\n      <th></th>\n      <th>model</th>\n      <th>variant</th>\n      <th>train_acc</th>\n      <th>train_prec</th>\n      <th>train_rec</th>\n      <th>train_f1</th>\n      <th>test_acc</th>\n      <th>test_prec</th>\n      <th>test_rec</th>\n      <th>test_f1</th>\n    </tr>\n  </thead>\n  <tbody>\n    <tr>\n      <th>34</th>\n      <td>CatBoostClassifier</td>\n      <td>NearMiss base</td>\n      <td>0.891468</td>\n      <td>0.891635</td>\n      <td>0.998581</td>\n      <td>0.942082</td>\n      <td>0.072017</td>\n      <td>0.068148</td>\n      <td>0.995033</td>\n      <td>0.127560</td>\n    </tr>\n    <tr>\n      <th>8</th>\n      <td>RandomForest</td>\n      <td>NearMiss base</td>\n      <td>0.998118</td>\n      <td>1.000000</td>\n      <td>0.997871</td>\n      <td>0.998934</td>\n      <td>0.230500</td>\n      <td>0.079350</td>\n      <td>0.970199</td>\n      <td>0.146702</td>\n    </tr>\n    <tr>\n      <th>22</th>\n      <td>XGBClassifier</td>\n      <td>NearMiss base</td>\n      <td>0.966123</td>\n      <td>0.969508</td>\n      <td>0.992903</td>\n      <td>0.981066</td>\n      <td>0.137600</td>\n      <td>0.070976</td>\n      <td>0.963576</td>\n      <td>0.132213</td>\n    </tr>\n    <tr>\n      <th>46</th>\n      <td>LGBMClassifier</td>\n      <td>NearMiss base</td>\n      <td>0.971142</td>\n      <td>0.975576</td>\n      <td>0.992193</td>\n      <td>0.983814</td>\n      <td>0.138052</td>\n      <td>0.070801</td>\n      <td>0.960265</td>\n      <td>0.131878</td>\n    </tr>\n    <tr>\n      <th>12</th>\n      <td>BalancedRandomForest</td>\n      <td>BALANCED base</td>\n      <td>0.857965</td>\n      <td>0.324281</td>\n      <td>1.000000</td>\n      <td>0.489746</td>\n      <td>0.817022</td>\n      <td>0.248889</td>\n      <td>0.834437</td>\n      <td>0.383416</td>\n    </tr>\n    <tr>\n      <th>30</th>\n      <td>CatBoostClassifier</td>\n      <td>BorderlineSMOTE base</td>\n      <td>0.713296</td>\n      <td>0.664914</td>\n      <td>0.859983</td>\n      <td>0.749972</td>\n      <td>0.576363</td>\n      <td>0.107063</td>\n      <td>0.710265</td>\n      <td>0.186077</td>\n    </tr>\n    <tr>\n      <th>32</th>\n      <td>CatBoostClassifier</td>\n      <td>ADASYN base</td>\n      <td>0.708349</td>\n      <td>0.678550</td>\n      <td>0.780462</td>\n      <td>0.725947</td>\n      <td>0.641946</td>\n      <td>0.116716</td>\n      <td>0.647351</td>\n      <td>0.197774</td>\n    </tr>\n    <tr>\n      <th>28</th>\n      <td>CatBoostClassifier</td>\n      <td>SMOTE base</td>\n      <td>0.715891</td>\n      <td>0.686371</td>\n      <td>0.795089</td>\n      <td>0.736741</td>\n      <td>0.639914</td>\n      <td>0.114030</td>\n      <td>0.632450</td>\n      <td>0.193222</td>\n    </tr>\n    <tr>\n      <th>44</th>\n      <td>LGBMClassifier</td>\n      <td>ADASYN base</td>\n      <td>0.970135</td>\n      <td>0.978473</td>\n      <td>0.960797</td>\n      <td>0.969554</td>\n      <td>0.940738</td>\n      <td>0.572212</td>\n      <td>0.518212</td>\n      <td>0.543875</td>\n    </tr>\n    <tr>\n      <th>40</th>\n      <td>LGBMClassifier</td>\n      <td>SMOTE base</td>\n      <td>0.969707</td>\n      <td>0.979033</td>\n      <td>0.959973</td>\n      <td>0.969409</td>\n      <td>0.940400</td>\n      <td>0.571161</td>\n      <td>0.504967</td>\n      <td>0.536028</td>\n    </tr>\n    <tr>\n      <th>23</th>\n      <td>XGBClassifier</td>\n      <td>NearMiss clean</td>\n      <td>0.789062</td>\n      <td>0.877551</td>\n      <td>0.671875</td>\n      <td>0.761062</td>\n      <td>0.757046</td>\n      <td>0.030303</td>\n      <td>0.464286</td>\n      <td>0.056893</td>\n    </tr>\n    <tr>\n      <th>13</th>\n      <td>BalancedRandomForest</td>\n      <td>BALANCED clean</td>\n      <td>0.940778</td>\n      <td>0.207120</td>\n      <td>1.000000</td>\n      <td>0.343164</td>\n      <td>0.937430</td>\n      <td>0.119266</td>\n      <td>0.464286</td>\n      <td>0.189781</td>\n    </tr>\n    <tr>\n      <th>42</th>\n      <td>LGBMClassifier</td>\n      <td>BorderlineSMOTE base</td>\n      <td>0.977001</td>\n      <td>0.984957</td>\n      <td>0.968799</td>\n      <td>0.976811</td>\n      <td>0.944237</td>\n      <td>0.626147</td>\n      <td>0.451987</td>\n      <td>0.525000</td>\n    </tr>\n    <tr>\n      <th>6</th>\n      <td>RandomForest</td>\n      <td>ADASYN base</td>\n      <td>0.999921</td>\n      <td>0.999841</td>\n      <td>1.000000</td>\n      <td>0.999921</td>\n      <td>0.952139</td>\n      <td>0.758621</td>\n      <td>0.437086</td>\n      <td>0.554622</td>\n    </tr>\n    <tr>\n      <th>9</th>\n      <td>RandomForest</td>\n      <td>NearMiss clean</td>\n      <td>1.000000</td>\n      <td>1.000000</td>\n      <td>1.000000</td>\n      <td>1.000000</td>\n      <td>0.924464</td>\n      <td>0.092308</td>\n      <td>0.428571</td>\n      <td>0.151899</td>\n    </tr>\n    <tr>\n      <th>2</th>\n      <td>RandomForest</td>\n      <td>SMOTE base</td>\n      <td>0.999922</td>\n      <td>0.999948</td>\n      <td>0.999896</td>\n      <td>0.999922</td>\n      <td>0.953042</td>\n      <td>0.786585</td>\n      <td>0.427152</td>\n      <td>0.553648</td>\n    </tr>\n    <tr>\n      <th>20</th>\n      <td>XGBClassifier</td>\n      <td>ADASYN base</td>\n      <td>0.968824</td>\n      <td>0.990951</td>\n      <td>0.945645</td>\n      <td>0.967768</td>\n      <td>0.945705</td>\n      <td>0.659740</td>\n      <td>0.420530</td>\n      <td>0.513650</td>\n    </tr>\n    <tr>\n      <th>16</th>\n      <td>XGBClassifier</td>\n      <td>SMOTE base</td>\n      <td>0.970642</td>\n      <td>0.991115</td>\n      <td>0.949798</td>\n      <td>0.970017</td>\n      <td>0.944689</td>\n      <td>0.646907</td>\n      <td>0.415563</td>\n      <td>0.506048</td>\n    </tr>\n    <tr>\n      <th>0</th>\n      <td>RandomForest</td>\n      <td>base</td>\n      <td>0.999855</td>\n      <td>1.000000</td>\n      <td>0.997871</td>\n      <td>0.998934</td>\n      <td>0.955977</td>\n      <td>0.882143</td>\n      <td>0.408940</td>\n      <td>0.558824</td>\n    </tr>\n    <tr>\n      <th>18</th>\n      <td>XGBClassifier</td>\n      <td>BorderlineSMOTE base</td>\n      <td>0.978325</td>\n      <td>0.993096</td>\n      <td>0.963348</td>\n      <td>0.977996</td>\n      <td>0.945818</td>\n      <td>0.676136</td>\n      <td>0.394040</td>\n      <td>0.497908</td>\n    </tr>\n    <tr>\n      <th>38</th>\n      <td>LGBMClassifier</td>\n      <td>base</td>\n      <td>0.964298</td>\n      <td>0.944371</td>\n      <td>0.506033</td>\n      <td>0.658965</td>\n      <td>0.948301</td>\n      <td>0.753472</td>\n      <td>0.359272</td>\n      <td>0.486547</td>\n    </tr>\n    <tr>\n      <th>14</th>\n      <td>XGBClassifier</td>\n      <td>base</td>\n      <td>0.965120</td>\n      <td>0.972527</td>\n      <td>0.502484</td>\n      <td>0.662611</td>\n      <td>0.951010</td>\n      <td>0.824427</td>\n      <td>0.357616</td>\n      <td>0.498845</td>\n    </tr>\n    <tr>\n      <th>4</th>\n      <td>RandomForest</td>\n      <td>BorderlineSMOTE base</td>\n      <td>0.999922</td>\n      <td>1.000000</td>\n      <td>0.999844</td>\n      <td>0.999922</td>\n      <td>0.950897</td>\n      <td>0.856540</td>\n      <td>0.336093</td>\n      <td>0.482759</td>\n    </tr>\n    <tr>\n      <th>41</th>\n      <td>LGBMClassifier</td>\n      <td>SMOTE clean</td>\n      <td>1.000000</td>\n      <td>1.000000</td>\n      <td>1.000000</td>\n      <td>1.000000</td>\n      <td>0.987599</td>\n      <td>0.750000</td>\n      <td>0.321429</td>\n      <td>0.450000</td>\n    </tr>\n    <tr>\n      <th>21</th>\n      <td>XGBClassifier</td>\n      <td>ADASYN clean</td>\n      <td>0.998527</td>\n      <td>1.000000</td>\n      <td>0.997052</td>\n      <td>0.998524</td>\n      <td>0.988162</td>\n      <td>0.818182</td>\n      <td>0.321429</td>\n      <td>0.461538</td>\n    </tr>\n    <tr>\n      <th>17</th>\n      <td>XGBClassifier</td>\n      <td>SMOTE clean</td>\n      <td>0.998772</td>\n      <td>1.000000</td>\n      <td>0.997545</td>\n      <td>0.998771</td>\n      <td>0.987035</td>\n      <td>0.727273</td>\n      <td>0.285714</td>\n      <td>0.410256</td>\n    </tr>\n    <tr>\n      <th>43</th>\n      <td>LGBMClassifier</td>\n      <td>BorderlineSMOTE clean</td>\n      <td>1.000000</td>\n      <td>1.000000</td>\n      <td>1.000000</td>\n      <td>1.000000</td>\n      <td>0.987035</td>\n      <td>0.727273</td>\n      <td>0.285714</td>\n      <td>0.410256</td>\n    </tr>\n    <tr>\n      <th>45</th>\n      <td>LGBMClassifier</td>\n      <td>ADASYN clean</td>\n      <td>1.000000</td>\n      <td>1.000000</td>\n      <td>1.000000</td>\n      <td>1.000000</td>\n      <td>0.987035</td>\n      <td>0.727273</td>\n      <td>0.285714</td>\n      <td>0.410256</td>\n    </tr>\n    <tr>\n      <th>7</th>\n      <td>RandomForest</td>\n      <td>ADASYN clean</td>\n      <td>1.000000</td>\n      <td>1.000000</td>\n      <td>1.000000</td>\n      <td>1.000000</td>\n      <td>0.988162</td>\n      <td>1.000000</td>\n      <td>0.250000</td>\n      <td>0.400000</td>\n    </tr>\n    <tr>\n      <th>3</th>\n      <td>RandomForest</td>\n      <td>SMOTE clean</td>\n      <td>1.000000</td>\n      <td>1.000000</td>\n      <td>1.000000</td>\n      <td>1.000000</td>\n      <td>0.988162</td>\n      <td>1.000000</td>\n      <td>0.250000</td>\n      <td>0.400000</td>\n    </tr>\n    <tr>\n      <th>5</th>\n      <td>RandomForest</td>\n      <td>BorderlineSMOTE clean</td>\n      <td>1.000000</td>\n      <td>1.000000</td>\n      <td>1.000000</td>\n      <td>1.000000</td>\n      <td>0.988162</td>\n      <td>1.000000</td>\n      <td>0.250000</td>\n      <td>0.400000</td>\n    </tr>\n    <tr>\n      <th>19</th>\n      <td>XGBClassifier</td>\n      <td>BorderlineSMOTE clean</td>\n      <td>0.997668</td>\n      <td>1.000000</td>\n      <td>0.995335</td>\n      <td>0.997662</td>\n      <td>0.986471</td>\n      <td>0.700000</td>\n      <td>0.250000</td>\n      <td>0.368421</td>\n    </tr>\n    <tr>\n      <th>31</th>\n      <td>CatBoostClassifier</td>\n      <td>BorderlineSMOTE clean</td>\n      <td>0.767002</td>\n      <td>0.981834</td>\n      <td>0.544071</td>\n      <td>0.700158</td>\n      <td>0.975761</td>\n      <td>0.222222</td>\n      <td>0.214286</td>\n      <td>0.218182</td>\n    </tr>\n    <tr>\n      <th>33</th>\n      <td>CatBoostClassifier</td>\n      <td>ADASYN clean</td>\n      <td>0.719425</td>\n      <td>0.977540</td>\n      <td>0.449030</td>\n      <td>0.615385</td>\n      <td>0.971815</td>\n      <td>0.176471</td>\n      <td>0.214286</td>\n      <td>0.193548</td>\n    </tr>\n    <tr>\n      <th>11</th>\n      <td>RandomForest</td>\n      <td>TomekLink clean</td>\n      <td>1.000000</td>\n      <td>1.000000</td>\n      <td>1.000000</td>\n      <td>1.000000</td>\n      <td>0.987035</td>\n      <td>1.000000</td>\n      <td>0.178571</td>\n      <td>0.303030</td>\n    </tr>\n    <tr>\n      <th>29</th>\n      <td>CatBoostClassifier</td>\n      <td>SMOTE clean</td>\n      <td>0.743187</td>\n      <td>0.931967</td>\n      <td>0.524675</td>\n      <td>0.671379</td>\n      <td>0.950958</td>\n      <td>0.072464</td>\n      <td>0.178571</td>\n      <td>0.103093</td>\n    </tr>\n    <tr>\n      <th>10</th>\n      <td>RandomForest</td>\n      <td>TomekLink base</td>\n      <td>0.999758</td>\n      <td>1.000000</td>\n      <td>0.984375</td>\n      <td>0.992126</td>\n      <td>0.985908</td>\n      <td>0.800000</td>\n      <td>0.142857</td>\n      <td>0.242424</td>\n    </tr>\n    <tr>\n      <th>1</th>\n      <td>RandomForest</td>\n      <td>clean</td>\n      <td>1.000000</td>\n      <td>1.000000</td>\n      <td>1.000000</td>\n      <td>1.000000</td>\n      <td>0.986471</td>\n      <td>1.000000</td>\n      <td>0.142857</td>\n      <td>0.250000</td>\n    </tr>\n    <tr>\n      <th>15</th>\n      <td>XGBClassifier</td>\n      <td>clean</td>\n      <td>0.992265</td>\n      <td>1.000000</td>\n      <td>0.500000</td>\n      <td>0.666667</td>\n      <td>0.985344</td>\n      <td>0.666667</td>\n      <td>0.142857</td>\n      <td>0.235294</td>\n    </tr>\n    <tr>\n      <th>26</th>\n      <td>CatBoostClassifier</td>\n      <td>base</td>\n      <td>0.936191</td>\n      <td>0.736842</td>\n      <td>0.099361</td>\n      <td>0.175109</td>\n      <td>0.936787</td>\n      <td>0.744444</td>\n      <td>0.110927</td>\n      <td>0.193084</td>\n    </tr>\n    <tr>\n      <th>25</th>\n      <td>XGBClassifier</td>\n      <td>TomekLink clean</td>\n      <td>0.992259</td>\n      <td>1.000000</td>\n      <td>0.500000</td>\n      <td>0.666667</td>\n      <td>0.984780</td>\n      <td>0.600000</td>\n      <td>0.107143</td>\n      <td>0.181818</td>\n    </tr>\n    <tr>\n      <th>24</th>\n      <td>XGBClassifier</td>\n      <td>TomekLink base</td>\n      <td>0.992259</td>\n      <td>1.000000</td>\n      <td>0.500000</td>\n      <td>0.666667</td>\n      <td>0.984780</td>\n      <td>0.600000</td>\n      <td>0.107143</td>\n      <td>0.181818</td>\n    </tr>\n    <tr>\n      <th>39</th>\n      <td>LGBMClassifier</td>\n      <td>clean</td>\n      <td>0.999758</td>\n      <td>1.000000</td>\n      <td>0.984375</td>\n      <td>0.992126</td>\n      <td>0.981398</td>\n      <td>0.222222</td>\n      <td>0.071429</td>\n      <td>0.108108</td>\n    </tr>\n    <tr>\n      <th>48</th>\n      <td>LGBMClassifier</td>\n      <td>TomekLink base</td>\n      <td>0.999758</td>\n      <td>0.984615</td>\n      <td>1.000000</td>\n      <td>0.992248</td>\n      <td>0.981398</td>\n      <td>0.222222</td>\n      <td>0.071429</td>\n      <td>0.108108</td>\n    </tr>\n    <tr>\n      <th>49</th>\n      <td>LGBMClassifier</td>\n      <td>TomekLink clean</td>\n      <td>0.999758</td>\n      <td>0.984615</td>\n      <td>1.000000</td>\n      <td>0.992248</td>\n      <td>0.981398</td>\n      <td>0.222222</td>\n      <td>0.071429</td>\n      <td>0.108108</td>\n    </tr>\n    <tr>\n      <th>35</th>\n      <td>CatBoostClassifier</td>\n      <td>NearMiss clean</td>\n      <td>0.570312</td>\n      <td>0.846154</td>\n      <td>0.171875</td>\n      <td>0.285714</td>\n      <td>0.967869</td>\n      <td>0.032258</td>\n      <td>0.035714</td>\n      <td>0.033898</td>\n    </tr>\n    <tr>\n      <th>37</th>\n      <td>CatBoostClassifier</td>\n      <td>TomekLink clean</td>\n      <td>0.985728</td>\n      <td>0.857143</td>\n      <td>0.093750</td>\n      <td>0.169014</td>\n      <td>0.983089</td>\n      <td>0.000000</td>\n      <td>0.000000</td>\n      <td>0.000000</td>\n    </tr>\n    <tr>\n      <th>36</th>\n      <td>CatBoostClassifier</td>\n      <td>TomekLink base</td>\n      <td>0.985728</td>\n      <td>0.857143</td>\n      <td>0.093750</td>\n      <td>0.169014</td>\n      <td>0.983089</td>\n      <td>0.000000</td>\n      <td>0.000000</td>\n      <td>0.000000</td>\n    </tr>\n    <tr>\n      <th>27</th>\n      <td>CatBoostClassifier</td>\n      <td>clean</td>\n      <td>0.985738</td>\n      <td>1.000000</td>\n      <td>0.078125</td>\n      <td>0.144928</td>\n      <td>0.983653</td>\n      <td>0.000000</td>\n      <td>0.000000</td>\n      <td>0.000000</td>\n    </tr>\n    <tr>\n      <th>47</th>\n      <td>LGBMClassifier</td>\n      <td>NearMiss clean</td>\n      <td>0.500000</td>\n      <td>0.000000</td>\n      <td>0.000000</td>\n      <td>0.000000</td>\n      <td>0.984216</td>\n      <td>0.000000</td>\n      <td>0.000000</td>\n      <td>0.000000</td>\n    </tr>\n  </tbody>\n</table>\n</div>"
     },
     "execution_count": 94,
     "metadata": {},
     "output_type": "execute_result"
    }
   ],
   "source": [
    "evaluation.sort_values(by=[\"test_rec\"], ascending=False)"
   ],
   "metadata": {
    "collapsed": false,
    "ExecuteTime": {
     "end_time": "2024-11-14T16:27:53.468832300Z",
     "start_time": "2024-11-14T16:27:53.230471100Z"
    }
   }
  },
  {
   "cell_type": "code",
   "execution_count": 95,
   "outputs": [
    {
     "data": {
      "text/plain": "                   model                variant  train_acc  train_prec  \\\n0           RandomForest                   base   0.999855    1.000000   \n6           RandomForest            ADASYN base   0.999921    0.999841   \n2           RandomForest             SMOTE base   0.999922    0.999948   \n44        LGBMClassifier            ADASYN base   0.970135    0.978473   \n40        LGBMClassifier             SMOTE base   0.969707    0.979033   \n42        LGBMClassifier   BorderlineSMOTE base   0.977001    0.984957   \n20         XGBClassifier            ADASYN base   0.968824    0.990951   \n16         XGBClassifier             SMOTE base   0.970642    0.991115   \n14         XGBClassifier                   base   0.965120    0.972527   \n18         XGBClassifier   BorderlineSMOTE base   0.978325    0.993096   \n38        LGBMClassifier                   base   0.964298    0.944371   \n4           RandomForest   BorderlineSMOTE base   0.999922    1.000000   \n21         XGBClassifier           ADASYN clean   0.998527    1.000000   \n41        LGBMClassifier            SMOTE clean   1.000000    1.000000   \n45        LGBMClassifier           ADASYN clean   1.000000    1.000000   \n43        LGBMClassifier  BorderlineSMOTE clean   1.000000    1.000000   \n17         XGBClassifier            SMOTE clean   0.998772    1.000000   \n7           RandomForest           ADASYN clean   1.000000    1.000000   \n3           RandomForest            SMOTE clean   1.000000    1.000000   \n5           RandomForest  BorderlineSMOTE clean   1.000000    1.000000   \n12  BalancedRandomForest          BALANCED base   0.857965    0.324281   \n19         XGBClassifier  BorderlineSMOTE clean   0.997668    1.000000   \n11          RandomForest        TomekLink clean   1.000000    1.000000   \n1           RandomForest                  clean   1.000000    1.000000   \n10          RandomForest         TomekLink base   0.999758    1.000000   \n15         XGBClassifier                  clean   0.992265    1.000000   \n31    CatBoostClassifier  BorderlineSMOTE clean   0.767002    0.981834   \n32    CatBoostClassifier            ADASYN base   0.708349    0.678550   \n33    CatBoostClassifier           ADASYN clean   0.719425    0.977540   \n28    CatBoostClassifier             SMOTE base   0.715891    0.686371   \n26    CatBoostClassifier                   base   0.936191    0.736842   \n13  BalancedRandomForest         BALANCED clean   0.940778    0.207120   \n30    CatBoostClassifier   BorderlineSMOTE base   0.713296    0.664914   \n25         XGBClassifier        TomekLink clean   0.992259    1.000000   \n24         XGBClassifier         TomekLink base   0.992259    1.000000   \n9           RandomForest         NearMiss clean   1.000000    1.000000   \n8           RandomForest          NearMiss base   0.998118    1.000000   \n22         XGBClassifier          NearMiss base   0.966123    0.969508   \n46        LGBMClassifier          NearMiss base   0.971142    0.975576   \n34    CatBoostClassifier          NearMiss base   0.891468    0.891635   \n39        LGBMClassifier                  clean   0.999758    1.000000   \n48        LGBMClassifier         TomekLink base   0.999758    0.984615   \n49        LGBMClassifier        TomekLink clean   0.999758    0.984615   \n29    CatBoostClassifier            SMOTE clean   0.743187    0.931967   \n23         XGBClassifier         NearMiss clean   0.789062    0.877551   \n35    CatBoostClassifier         NearMiss clean   0.570312    0.846154   \n36    CatBoostClassifier         TomekLink base   0.985728    0.857143   \n37    CatBoostClassifier        TomekLink clean   0.985728    0.857143   \n27    CatBoostClassifier                  clean   0.985738    1.000000   \n47        LGBMClassifier         NearMiss clean   0.500000    0.000000   \n\n    train_rec  train_f1  test_acc  test_prec  test_rec   test_f1  \n0    0.997871  0.998934  0.955977   0.882143  0.408940  0.558824  \n6    1.000000  0.999921  0.952139   0.758621  0.437086  0.554622  \n2    0.999896  0.999922  0.953042   0.786585  0.427152  0.553648  \n44   0.960797  0.969554  0.940738   0.572212  0.518212  0.543875  \n40   0.959973  0.969409  0.940400   0.571161  0.504967  0.536028  \n42   0.968799  0.976811  0.944237   0.626147  0.451987  0.525000  \n20   0.945645  0.967768  0.945705   0.659740  0.420530  0.513650  \n16   0.949798  0.970017  0.944689   0.646907  0.415563  0.506048  \n14   0.502484  0.662611  0.951010   0.824427  0.357616  0.498845  \n18   0.963348  0.977996  0.945818   0.676136  0.394040  0.497908  \n38   0.506033  0.658965  0.948301   0.753472  0.359272  0.486547  \n4    0.999844  0.999922  0.950897   0.856540  0.336093  0.482759  \n21   0.997052  0.998524  0.988162   0.818182  0.321429  0.461538  \n41   1.000000  1.000000  0.987599   0.750000  0.321429  0.450000  \n45   1.000000  1.000000  0.987035   0.727273  0.285714  0.410256  \n43   1.000000  1.000000  0.987035   0.727273  0.285714  0.410256  \n17   0.997545  0.998771  0.987035   0.727273  0.285714  0.410256  \n7    1.000000  1.000000  0.988162   1.000000  0.250000  0.400000  \n3    1.000000  1.000000  0.988162   1.000000  0.250000  0.400000  \n5    1.000000  1.000000  0.988162   1.000000  0.250000  0.400000  \n12   1.000000  0.489746  0.817022   0.248889  0.834437  0.383416  \n19   0.995335  0.997662  0.986471   0.700000  0.250000  0.368421  \n11   1.000000  1.000000  0.987035   1.000000  0.178571  0.303030  \n1    1.000000  1.000000  0.986471   1.000000  0.142857  0.250000  \n10   0.984375  0.992126  0.985908   0.800000  0.142857  0.242424  \n15   0.500000  0.666667  0.985344   0.666667  0.142857  0.235294  \n31   0.544071  0.700158  0.975761   0.222222  0.214286  0.218182  \n32   0.780462  0.725947  0.641946   0.116716  0.647351  0.197774  \n33   0.449030  0.615385  0.971815   0.176471  0.214286  0.193548  \n28   0.795089  0.736741  0.639914   0.114030  0.632450  0.193222  \n26   0.099361  0.175109  0.936787   0.744444  0.110927  0.193084  \n13   1.000000  0.343164  0.937430   0.119266  0.464286  0.189781  \n30   0.859983  0.749972  0.576363   0.107063  0.710265  0.186077  \n25   0.500000  0.666667  0.984780   0.600000  0.107143  0.181818  \n24   0.500000  0.666667  0.984780   0.600000  0.107143  0.181818  \n9    1.000000  1.000000  0.924464   0.092308  0.428571  0.151899  \n8    0.997871  0.998934  0.230500   0.079350  0.970199  0.146702  \n22   0.992903  0.981066  0.137600   0.070976  0.963576  0.132213  \n46   0.992193  0.983814  0.138052   0.070801  0.960265  0.131878  \n34   0.998581  0.942082  0.072017   0.068148  0.995033  0.127560  \n39   0.984375  0.992126  0.981398   0.222222  0.071429  0.108108  \n48   1.000000  0.992248  0.981398   0.222222  0.071429  0.108108  \n49   1.000000  0.992248  0.981398   0.222222  0.071429  0.108108  \n29   0.524675  0.671379  0.950958   0.072464  0.178571  0.103093  \n23   0.671875  0.761062  0.757046   0.030303  0.464286  0.056893  \n35   0.171875  0.285714  0.967869   0.032258  0.035714  0.033898  \n36   0.093750  0.169014  0.983089   0.000000  0.000000  0.000000  \n37   0.093750  0.169014  0.983089   0.000000  0.000000  0.000000  \n27   0.078125  0.144928  0.983653   0.000000  0.000000  0.000000  \n47   0.000000  0.000000  0.984216   0.000000  0.000000  0.000000  ",
      "text/html": "<div>\n<style scoped>\n    .dataframe tbody tr th:only-of-type {\n        vertical-align: middle;\n    }\n\n    .dataframe tbody tr th {\n        vertical-align: top;\n    }\n\n    .dataframe thead th {\n        text-align: right;\n    }\n</style>\n<table border=\"1\" class=\"dataframe\">\n  <thead>\n    <tr style=\"text-align: right;\">\n      <th></th>\n      <th>model</th>\n      <th>variant</th>\n      <th>train_acc</th>\n      <th>train_prec</th>\n      <th>train_rec</th>\n      <th>train_f1</th>\n      <th>test_acc</th>\n      <th>test_prec</th>\n      <th>test_rec</th>\n      <th>test_f1</th>\n    </tr>\n  </thead>\n  <tbody>\n    <tr>\n      <th>0</th>\n      <td>RandomForest</td>\n      <td>base</td>\n      <td>0.999855</td>\n      <td>1.000000</td>\n      <td>0.997871</td>\n      <td>0.998934</td>\n      <td>0.955977</td>\n      <td>0.882143</td>\n      <td>0.408940</td>\n      <td>0.558824</td>\n    </tr>\n    <tr>\n      <th>6</th>\n      <td>RandomForest</td>\n      <td>ADASYN base</td>\n      <td>0.999921</td>\n      <td>0.999841</td>\n      <td>1.000000</td>\n      <td>0.999921</td>\n      <td>0.952139</td>\n      <td>0.758621</td>\n      <td>0.437086</td>\n      <td>0.554622</td>\n    </tr>\n    <tr>\n      <th>2</th>\n      <td>RandomForest</td>\n      <td>SMOTE base</td>\n      <td>0.999922</td>\n      <td>0.999948</td>\n      <td>0.999896</td>\n      <td>0.999922</td>\n      <td>0.953042</td>\n      <td>0.786585</td>\n      <td>0.427152</td>\n      <td>0.553648</td>\n    </tr>\n    <tr>\n      <th>44</th>\n      <td>LGBMClassifier</td>\n      <td>ADASYN base</td>\n      <td>0.970135</td>\n      <td>0.978473</td>\n      <td>0.960797</td>\n      <td>0.969554</td>\n      <td>0.940738</td>\n      <td>0.572212</td>\n      <td>0.518212</td>\n      <td>0.543875</td>\n    </tr>\n    <tr>\n      <th>40</th>\n      <td>LGBMClassifier</td>\n      <td>SMOTE base</td>\n      <td>0.969707</td>\n      <td>0.979033</td>\n      <td>0.959973</td>\n      <td>0.969409</td>\n      <td>0.940400</td>\n      <td>0.571161</td>\n      <td>0.504967</td>\n      <td>0.536028</td>\n    </tr>\n    <tr>\n      <th>42</th>\n      <td>LGBMClassifier</td>\n      <td>BorderlineSMOTE base</td>\n      <td>0.977001</td>\n      <td>0.984957</td>\n      <td>0.968799</td>\n      <td>0.976811</td>\n      <td>0.944237</td>\n      <td>0.626147</td>\n      <td>0.451987</td>\n      <td>0.525000</td>\n    </tr>\n    <tr>\n      <th>20</th>\n      <td>XGBClassifier</td>\n      <td>ADASYN base</td>\n      <td>0.968824</td>\n      <td>0.990951</td>\n      <td>0.945645</td>\n      <td>0.967768</td>\n      <td>0.945705</td>\n      <td>0.659740</td>\n      <td>0.420530</td>\n      <td>0.513650</td>\n    </tr>\n    <tr>\n      <th>16</th>\n      <td>XGBClassifier</td>\n      <td>SMOTE base</td>\n      <td>0.970642</td>\n      <td>0.991115</td>\n      <td>0.949798</td>\n      <td>0.970017</td>\n      <td>0.944689</td>\n      <td>0.646907</td>\n      <td>0.415563</td>\n      <td>0.506048</td>\n    </tr>\n    <tr>\n      <th>14</th>\n      <td>XGBClassifier</td>\n      <td>base</td>\n      <td>0.965120</td>\n      <td>0.972527</td>\n      <td>0.502484</td>\n      <td>0.662611</td>\n      <td>0.951010</td>\n      <td>0.824427</td>\n      <td>0.357616</td>\n      <td>0.498845</td>\n    </tr>\n    <tr>\n      <th>18</th>\n      <td>XGBClassifier</td>\n      <td>BorderlineSMOTE base</td>\n      <td>0.978325</td>\n      <td>0.993096</td>\n      <td>0.963348</td>\n      <td>0.977996</td>\n      <td>0.945818</td>\n      <td>0.676136</td>\n      <td>0.394040</td>\n      <td>0.497908</td>\n    </tr>\n    <tr>\n      <th>38</th>\n      <td>LGBMClassifier</td>\n      <td>base</td>\n      <td>0.964298</td>\n      <td>0.944371</td>\n      <td>0.506033</td>\n      <td>0.658965</td>\n      <td>0.948301</td>\n      <td>0.753472</td>\n      <td>0.359272</td>\n      <td>0.486547</td>\n    </tr>\n    <tr>\n      <th>4</th>\n      <td>RandomForest</td>\n      <td>BorderlineSMOTE base</td>\n      <td>0.999922</td>\n      <td>1.000000</td>\n      <td>0.999844</td>\n      <td>0.999922</td>\n      <td>0.950897</td>\n      <td>0.856540</td>\n      <td>0.336093</td>\n      <td>0.482759</td>\n    </tr>\n    <tr>\n      <th>21</th>\n      <td>XGBClassifier</td>\n      <td>ADASYN clean</td>\n      <td>0.998527</td>\n      <td>1.000000</td>\n      <td>0.997052</td>\n      <td>0.998524</td>\n      <td>0.988162</td>\n      <td>0.818182</td>\n      <td>0.321429</td>\n      <td>0.461538</td>\n    </tr>\n    <tr>\n      <th>41</th>\n      <td>LGBMClassifier</td>\n      <td>SMOTE clean</td>\n      <td>1.000000</td>\n      <td>1.000000</td>\n      <td>1.000000</td>\n      <td>1.000000</td>\n      <td>0.987599</td>\n      <td>0.750000</td>\n      <td>0.321429</td>\n      <td>0.450000</td>\n    </tr>\n    <tr>\n      <th>45</th>\n      <td>LGBMClassifier</td>\n      <td>ADASYN clean</td>\n      <td>1.000000</td>\n      <td>1.000000</td>\n      <td>1.000000</td>\n      <td>1.000000</td>\n      <td>0.987035</td>\n      <td>0.727273</td>\n      <td>0.285714</td>\n      <td>0.410256</td>\n    </tr>\n    <tr>\n      <th>43</th>\n      <td>LGBMClassifier</td>\n      <td>BorderlineSMOTE clean</td>\n      <td>1.000000</td>\n      <td>1.000000</td>\n      <td>1.000000</td>\n      <td>1.000000</td>\n      <td>0.987035</td>\n      <td>0.727273</td>\n      <td>0.285714</td>\n      <td>0.410256</td>\n    </tr>\n    <tr>\n      <th>17</th>\n      <td>XGBClassifier</td>\n      <td>SMOTE clean</td>\n      <td>0.998772</td>\n      <td>1.000000</td>\n      <td>0.997545</td>\n      <td>0.998771</td>\n      <td>0.987035</td>\n      <td>0.727273</td>\n      <td>0.285714</td>\n      <td>0.410256</td>\n    </tr>\n    <tr>\n      <th>7</th>\n      <td>RandomForest</td>\n      <td>ADASYN clean</td>\n      <td>1.000000</td>\n      <td>1.000000</td>\n      <td>1.000000</td>\n      <td>1.000000</td>\n      <td>0.988162</td>\n      <td>1.000000</td>\n      <td>0.250000</td>\n      <td>0.400000</td>\n    </tr>\n    <tr>\n      <th>3</th>\n      <td>RandomForest</td>\n      <td>SMOTE clean</td>\n      <td>1.000000</td>\n      <td>1.000000</td>\n      <td>1.000000</td>\n      <td>1.000000</td>\n      <td>0.988162</td>\n      <td>1.000000</td>\n      <td>0.250000</td>\n      <td>0.400000</td>\n    </tr>\n    <tr>\n      <th>5</th>\n      <td>RandomForest</td>\n      <td>BorderlineSMOTE clean</td>\n      <td>1.000000</td>\n      <td>1.000000</td>\n      <td>1.000000</td>\n      <td>1.000000</td>\n      <td>0.988162</td>\n      <td>1.000000</td>\n      <td>0.250000</td>\n      <td>0.400000</td>\n    </tr>\n    <tr>\n      <th>12</th>\n      <td>BalancedRandomForest</td>\n      <td>BALANCED base</td>\n      <td>0.857965</td>\n      <td>0.324281</td>\n      <td>1.000000</td>\n      <td>0.489746</td>\n      <td>0.817022</td>\n      <td>0.248889</td>\n      <td>0.834437</td>\n      <td>0.383416</td>\n    </tr>\n    <tr>\n      <th>19</th>\n      <td>XGBClassifier</td>\n      <td>BorderlineSMOTE clean</td>\n      <td>0.997668</td>\n      <td>1.000000</td>\n      <td>0.995335</td>\n      <td>0.997662</td>\n      <td>0.986471</td>\n      <td>0.700000</td>\n      <td>0.250000</td>\n      <td>0.368421</td>\n    </tr>\n    <tr>\n      <th>11</th>\n      <td>RandomForest</td>\n      <td>TomekLink clean</td>\n      <td>1.000000</td>\n      <td>1.000000</td>\n      <td>1.000000</td>\n      <td>1.000000</td>\n      <td>0.987035</td>\n      <td>1.000000</td>\n      <td>0.178571</td>\n      <td>0.303030</td>\n    </tr>\n    <tr>\n      <th>1</th>\n      <td>RandomForest</td>\n      <td>clean</td>\n      <td>1.000000</td>\n      <td>1.000000</td>\n      <td>1.000000</td>\n      <td>1.000000</td>\n      <td>0.986471</td>\n      <td>1.000000</td>\n      <td>0.142857</td>\n      <td>0.250000</td>\n    </tr>\n    <tr>\n      <th>10</th>\n      <td>RandomForest</td>\n      <td>TomekLink base</td>\n      <td>0.999758</td>\n      <td>1.000000</td>\n      <td>0.984375</td>\n      <td>0.992126</td>\n      <td>0.985908</td>\n      <td>0.800000</td>\n      <td>0.142857</td>\n      <td>0.242424</td>\n    </tr>\n    <tr>\n      <th>15</th>\n      <td>XGBClassifier</td>\n      <td>clean</td>\n      <td>0.992265</td>\n      <td>1.000000</td>\n      <td>0.500000</td>\n      <td>0.666667</td>\n      <td>0.985344</td>\n      <td>0.666667</td>\n      <td>0.142857</td>\n      <td>0.235294</td>\n    </tr>\n    <tr>\n      <th>31</th>\n      <td>CatBoostClassifier</td>\n      <td>BorderlineSMOTE clean</td>\n      <td>0.767002</td>\n      <td>0.981834</td>\n      <td>0.544071</td>\n      <td>0.700158</td>\n      <td>0.975761</td>\n      <td>0.222222</td>\n      <td>0.214286</td>\n      <td>0.218182</td>\n    </tr>\n    <tr>\n      <th>32</th>\n      <td>CatBoostClassifier</td>\n      <td>ADASYN base</td>\n      <td>0.708349</td>\n      <td>0.678550</td>\n      <td>0.780462</td>\n      <td>0.725947</td>\n      <td>0.641946</td>\n      <td>0.116716</td>\n      <td>0.647351</td>\n      <td>0.197774</td>\n    </tr>\n    <tr>\n      <th>33</th>\n      <td>CatBoostClassifier</td>\n      <td>ADASYN clean</td>\n      <td>0.719425</td>\n      <td>0.977540</td>\n      <td>0.449030</td>\n      <td>0.615385</td>\n      <td>0.971815</td>\n      <td>0.176471</td>\n      <td>0.214286</td>\n      <td>0.193548</td>\n    </tr>\n    <tr>\n      <th>28</th>\n      <td>CatBoostClassifier</td>\n      <td>SMOTE base</td>\n      <td>0.715891</td>\n      <td>0.686371</td>\n      <td>0.795089</td>\n      <td>0.736741</td>\n      <td>0.639914</td>\n      <td>0.114030</td>\n      <td>0.632450</td>\n      <td>0.193222</td>\n    </tr>\n    <tr>\n      <th>26</th>\n      <td>CatBoostClassifier</td>\n      <td>base</td>\n      <td>0.936191</td>\n      <td>0.736842</td>\n      <td>0.099361</td>\n      <td>0.175109</td>\n      <td>0.936787</td>\n      <td>0.744444</td>\n      <td>0.110927</td>\n      <td>0.193084</td>\n    </tr>\n    <tr>\n      <th>13</th>\n      <td>BalancedRandomForest</td>\n      <td>BALANCED clean</td>\n      <td>0.940778</td>\n      <td>0.207120</td>\n      <td>1.000000</td>\n      <td>0.343164</td>\n      <td>0.937430</td>\n      <td>0.119266</td>\n      <td>0.464286</td>\n      <td>0.189781</td>\n    </tr>\n    <tr>\n      <th>30</th>\n      <td>CatBoostClassifier</td>\n      <td>BorderlineSMOTE base</td>\n      <td>0.713296</td>\n      <td>0.664914</td>\n      <td>0.859983</td>\n      <td>0.749972</td>\n      <td>0.576363</td>\n      <td>0.107063</td>\n      <td>0.710265</td>\n      <td>0.186077</td>\n    </tr>\n    <tr>\n      <th>25</th>\n      <td>XGBClassifier</td>\n      <td>TomekLink clean</td>\n      <td>0.992259</td>\n      <td>1.000000</td>\n      <td>0.500000</td>\n      <td>0.666667</td>\n      <td>0.984780</td>\n      <td>0.600000</td>\n      <td>0.107143</td>\n      <td>0.181818</td>\n    </tr>\n    <tr>\n      <th>24</th>\n      <td>XGBClassifier</td>\n      <td>TomekLink base</td>\n      <td>0.992259</td>\n      <td>1.000000</td>\n      <td>0.500000</td>\n      <td>0.666667</td>\n      <td>0.984780</td>\n      <td>0.600000</td>\n      <td>0.107143</td>\n      <td>0.181818</td>\n    </tr>\n    <tr>\n      <th>9</th>\n      <td>RandomForest</td>\n      <td>NearMiss clean</td>\n      <td>1.000000</td>\n      <td>1.000000</td>\n      <td>1.000000</td>\n      <td>1.000000</td>\n      <td>0.924464</td>\n      <td>0.092308</td>\n      <td>0.428571</td>\n      <td>0.151899</td>\n    </tr>\n    <tr>\n      <th>8</th>\n      <td>RandomForest</td>\n      <td>NearMiss base</td>\n      <td>0.998118</td>\n      <td>1.000000</td>\n      <td>0.997871</td>\n      <td>0.998934</td>\n      <td>0.230500</td>\n      <td>0.079350</td>\n      <td>0.970199</td>\n      <td>0.146702</td>\n    </tr>\n    <tr>\n      <th>22</th>\n      <td>XGBClassifier</td>\n      <td>NearMiss base</td>\n      <td>0.966123</td>\n      <td>0.969508</td>\n      <td>0.992903</td>\n      <td>0.981066</td>\n      <td>0.137600</td>\n      <td>0.070976</td>\n      <td>0.963576</td>\n      <td>0.132213</td>\n    </tr>\n    <tr>\n      <th>46</th>\n      <td>LGBMClassifier</td>\n      <td>NearMiss base</td>\n      <td>0.971142</td>\n      <td>0.975576</td>\n      <td>0.992193</td>\n      <td>0.983814</td>\n      <td>0.138052</td>\n      <td>0.070801</td>\n      <td>0.960265</td>\n      <td>0.131878</td>\n    </tr>\n    <tr>\n      <th>34</th>\n      <td>CatBoostClassifier</td>\n      <td>NearMiss base</td>\n      <td>0.891468</td>\n      <td>0.891635</td>\n      <td>0.998581</td>\n      <td>0.942082</td>\n      <td>0.072017</td>\n      <td>0.068148</td>\n      <td>0.995033</td>\n      <td>0.127560</td>\n    </tr>\n    <tr>\n      <th>39</th>\n      <td>LGBMClassifier</td>\n      <td>clean</td>\n      <td>0.999758</td>\n      <td>1.000000</td>\n      <td>0.984375</td>\n      <td>0.992126</td>\n      <td>0.981398</td>\n      <td>0.222222</td>\n      <td>0.071429</td>\n      <td>0.108108</td>\n    </tr>\n    <tr>\n      <th>48</th>\n      <td>LGBMClassifier</td>\n      <td>TomekLink base</td>\n      <td>0.999758</td>\n      <td>0.984615</td>\n      <td>1.000000</td>\n      <td>0.992248</td>\n      <td>0.981398</td>\n      <td>0.222222</td>\n      <td>0.071429</td>\n      <td>0.108108</td>\n    </tr>\n    <tr>\n      <th>49</th>\n      <td>LGBMClassifier</td>\n      <td>TomekLink clean</td>\n      <td>0.999758</td>\n      <td>0.984615</td>\n      <td>1.000000</td>\n      <td>0.992248</td>\n      <td>0.981398</td>\n      <td>0.222222</td>\n      <td>0.071429</td>\n      <td>0.108108</td>\n    </tr>\n    <tr>\n      <th>29</th>\n      <td>CatBoostClassifier</td>\n      <td>SMOTE clean</td>\n      <td>0.743187</td>\n      <td>0.931967</td>\n      <td>0.524675</td>\n      <td>0.671379</td>\n      <td>0.950958</td>\n      <td>0.072464</td>\n      <td>0.178571</td>\n      <td>0.103093</td>\n    </tr>\n    <tr>\n      <th>23</th>\n      <td>XGBClassifier</td>\n      <td>NearMiss clean</td>\n      <td>0.789062</td>\n      <td>0.877551</td>\n      <td>0.671875</td>\n      <td>0.761062</td>\n      <td>0.757046</td>\n      <td>0.030303</td>\n      <td>0.464286</td>\n      <td>0.056893</td>\n    </tr>\n    <tr>\n      <th>35</th>\n      <td>CatBoostClassifier</td>\n      <td>NearMiss clean</td>\n      <td>0.570312</td>\n      <td>0.846154</td>\n      <td>0.171875</td>\n      <td>0.285714</td>\n      <td>0.967869</td>\n      <td>0.032258</td>\n      <td>0.035714</td>\n      <td>0.033898</td>\n    </tr>\n    <tr>\n      <th>36</th>\n      <td>CatBoostClassifier</td>\n      <td>TomekLink base</td>\n      <td>0.985728</td>\n      <td>0.857143</td>\n      <td>0.093750</td>\n      <td>0.169014</td>\n      <td>0.983089</td>\n      <td>0.000000</td>\n      <td>0.000000</td>\n      <td>0.000000</td>\n    </tr>\n    <tr>\n      <th>37</th>\n      <td>CatBoostClassifier</td>\n      <td>TomekLink clean</td>\n      <td>0.985728</td>\n      <td>0.857143</td>\n      <td>0.093750</td>\n      <td>0.169014</td>\n      <td>0.983089</td>\n      <td>0.000000</td>\n      <td>0.000000</td>\n      <td>0.000000</td>\n    </tr>\n    <tr>\n      <th>27</th>\n      <td>CatBoostClassifier</td>\n      <td>clean</td>\n      <td>0.985738</td>\n      <td>1.000000</td>\n      <td>0.078125</td>\n      <td>0.144928</td>\n      <td>0.983653</td>\n      <td>0.000000</td>\n      <td>0.000000</td>\n      <td>0.000000</td>\n    </tr>\n    <tr>\n      <th>47</th>\n      <td>LGBMClassifier</td>\n      <td>NearMiss clean</td>\n      <td>0.500000</td>\n      <td>0.000000</td>\n      <td>0.000000</td>\n      <td>0.000000</td>\n      <td>0.984216</td>\n      <td>0.000000</td>\n      <td>0.000000</td>\n      <td>0.000000</td>\n    </tr>\n  </tbody>\n</table>\n</div>"
     },
     "execution_count": 95,
     "metadata": {},
     "output_type": "execute_result"
    }
   ],
   "source": [
    "evaluation.sort_values(by=[\"test_f1\"], ascending=False)"
   ],
   "metadata": {
    "collapsed": false,
    "ExecuteTime": {
     "end_time": "2024-11-14T16:27:53.468832300Z",
     "start_time": "2024-11-14T16:27:53.268254800Z"
    }
   }
  },
  {
   "cell_type": "markdown",
   "source": [
    "#### 3. Einfache SVM / Bayes-Classifier zum Vergleich"
   ],
   "metadata": {
    "collapsed": false
   }
  },
  {
   "cell_type": "markdown",
   "source": [
    "##### 3.1 LinearSVC"
   ],
   "metadata": {
    "collapsed": false
   }
  },
  {
   "cell_type": "code",
   "execution_count": 96,
   "outputs": [],
   "source": [
    "svc = LinearSVC()"
   ],
   "metadata": {
    "collapsed": false,
    "ExecuteTime": {
     "end_time": "2024-11-14T16:27:53.468832300Z",
     "start_time": "2024-11-14T16:27:53.315127600Z"
    }
   }
  },
  {
   "cell_type": "code",
   "execution_count": 97,
   "outputs": [
    {
     "name": "stdout",
     "output_type": "stream",
     "text": [
      "Starting model fitting.\n",
      "1/12 Fitting:  LinearSVC BASE started...\n",
      "Fitting:  LinearSVC finished. Elapsed time:  0 Seconds\n",
      "2/12 Fitting:  LinearSVC CLEAN started...\n",
      "Fitting:  LinearSVC finished. Elapsed time:  0 Seconds\n",
      "3/12 Fitting:  LinearSVC SMOTE-base started...\n",
      "Fitting:  LinearSVC finished. Elapsed time:  0 Seconds\n",
      "4/12 Fitting:  LinearSVC SMOTE-clean started...\n",
      "Fitting:  LinearSVC finished. Elapsed time:  0 Seconds\n",
      "5/12 Fitting:  LinearSVC BorderlineSMOTE-base started...\n",
      "Fitting:  LinearSVC finished. Elapsed time:  0 Seconds\n",
      "6/12 Fitting:  LinearSVC BorderlineSMOTE-clean started...\n",
      "Fitting:  LinearSVC finished. Elapsed time:  0 Seconds\n",
      "7/12 Fitting:  LinearSVC ADASYN-base started...\n",
      "Fitting:  LinearSVC finished. Elapsed time:  0 Seconds\n",
      "8/12 Fitting:  LinearSVC ADASYN-clean started...\n",
      "Fitting:  LinearSVC finished. Elapsed time:  0 Seconds\n",
      "9/12 Fitting:  LinearSVC NearMiss-base started...\n",
      "Fitting:  LinearSVC finished. Elapsed time:  0 Seconds\n",
      "10/12 Fitting:  LinearSVC NearMiss-clean started...\n",
      "Fitting:  LinearSVC finished. Elapsed time:  0 Seconds\n",
      "11/12 Fitting:  LinearSVC TomekLink-base started...\n",
      "Fitting:  LinearSVC finished. Elapsed time:  0 Seconds\n",
      "12/12 Fitting:  LinearSVC TomekLink-clean started...\n",
      "Fitting:  LinearSVC finished. Elapsed time:  0 Seconds\n",
      "Model fitting finished.\n"
     ]
    }
   ],
   "source": [
    "fit_model(svc, \"LinearSVC\")"
   ],
   "metadata": {
    "collapsed": false,
    "ExecuteTime": {
     "end_time": "2024-11-14T16:27:54.470859900Z",
     "start_time": "2024-11-14T16:27:53.330753600Z"
    }
   }
  },
  {
   "cell_type": "code",
   "execution_count": 98,
   "outputs": [
    {
     "data": {
      "text/plain": "        model                variant  train_acc  train_prec  train_rec  \\\n50  LinearSVC                   base   0.980891    0.967712   0.744500   \n51  LinearSVC                  clean   0.998550    1.000000   0.906250   \n53  LinearSVC            SMOTE clean   1.000000    1.000000   1.000000   \n57  LinearSVC           ADASYN clean   1.000000    1.000000   1.000000   \n60  LinearSVC         TomekLink base   0.998549    1.000000   0.906250   \n61  LinearSVC        TomekLink clean   0.998549    1.000000   0.906250   \n55  LinearSVC  BorderlineSMOTE clean   1.000000    1.000000   1.000000   \n54  LinearSVC   BorderlineSMOTE base   0.989747    0.990945   0.988527   \n52  LinearSVC             SMOTE base   0.988449    0.978439   0.998910   \n56  LinearSVC            ADASYN base   0.987939    0.977000   0.999152   \n58  LinearSVC          NearMiss base   0.975533    0.977019   0.995742   \n59  LinearSVC         NearMiss clean   1.000000    1.000000   1.000000   \n\n    train_f1  test_acc  test_prec  test_rec   test_f1  \n50  0.841556  0.957896   0.800000  0.509934  0.622851  \n51  0.950820  0.986471   0.750000  0.214286  0.333333  \n53  1.000000  0.987599   0.750000  0.321429  0.450000  \n57  1.000000  0.987599   0.750000  0.321429  0.450000  \n60  0.950820  0.986471   0.750000  0.214286  0.333333  \n61  0.950820  0.986471   0.750000  0.214286  0.333333  \n55  1.000000  0.987035   0.727273  0.285714  0.410256  \n54  0.989734  0.947285   0.619130  0.589404  0.603902  \n52  0.988568  0.933627   0.509709  0.695364  0.588235  \n56  0.987952  0.933062   0.506587  0.700331  0.587908  \n58  0.986292  0.165594   0.074473  0.983444  0.138462  \n59  1.000000  0.810034   0.054755  0.678571  0.101333  ",
      "text/html": "<div>\n<style scoped>\n    .dataframe tbody tr th:only-of-type {\n        vertical-align: middle;\n    }\n\n    .dataframe tbody tr th {\n        vertical-align: top;\n    }\n\n    .dataframe thead th {\n        text-align: right;\n    }\n</style>\n<table border=\"1\" class=\"dataframe\">\n  <thead>\n    <tr style=\"text-align: right;\">\n      <th></th>\n      <th>model</th>\n      <th>variant</th>\n      <th>train_acc</th>\n      <th>train_prec</th>\n      <th>train_rec</th>\n      <th>train_f1</th>\n      <th>test_acc</th>\n      <th>test_prec</th>\n      <th>test_rec</th>\n      <th>test_f1</th>\n    </tr>\n  </thead>\n  <tbody>\n    <tr>\n      <th>50</th>\n      <td>LinearSVC</td>\n      <td>base</td>\n      <td>0.980891</td>\n      <td>0.967712</td>\n      <td>0.744500</td>\n      <td>0.841556</td>\n      <td>0.957896</td>\n      <td>0.800000</td>\n      <td>0.509934</td>\n      <td>0.622851</td>\n    </tr>\n    <tr>\n      <th>51</th>\n      <td>LinearSVC</td>\n      <td>clean</td>\n      <td>0.998550</td>\n      <td>1.000000</td>\n      <td>0.906250</td>\n      <td>0.950820</td>\n      <td>0.986471</td>\n      <td>0.750000</td>\n      <td>0.214286</td>\n      <td>0.333333</td>\n    </tr>\n    <tr>\n      <th>53</th>\n      <td>LinearSVC</td>\n      <td>SMOTE clean</td>\n      <td>1.000000</td>\n      <td>1.000000</td>\n      <td>1.000000</td>\n      <td>1.000000</td>\n      <td>0.987599</td>\n      <td>0.750000</td>\n      <td>0.321429</td>\n      <td>0.450000</td>\n    </tr>\n    <tr>\n      <th>57</th>\n      <td>LinearSVC</td>\n      <td>ADASYN clean</td>\n      <td>1.000000</td>\n      <td>1.000000</td>\n      <td>1.000000</td>\n      <td>1.000000</td>\n      <td>0.987599</td>\n      <td>0.750000</td>\n      <td>0.321429</td>\n      <td>0.450000</td>\n    </tr>\n    <tr>\n      <th>60</th>\n      <td>LinearSVC</td>\n      <td>TomekLink base</td>\n      <td>0.998549</td>\n      <td>1.000000</td>\n      <td>0.906250</td>\n      <td>0.950820</td>\n      <td>0.986471</td>\n      <td>0.750000</td>\n      <td>0.214286</td>\n      <td>0.333333</td>\n    </tr>\n    <tr>\n      <th>61</th>\n      <td>LinearSVC</td>\n      <td>TomekLink clean</td>\n      <td>0.998549</td>\n      <td>1.000000</td>\n      <td>0.906250</td>\n      <td>0.950820</td>\n      <td>0.986471</td>\n      <td>0.750000</td>\n      <td>0.214286</td>\n      <td>0.333333</td>\n    </tr>\n    <tr>\n      <th>55</th>\n      <td>LinearSVC</td>\n      <td>BorderlineSMOTE clean</td>\n      <td>1.000000</td>\n      <td>1.000000</td>\n      <td>1.000000</td>\n      <td>1.000000</td>\n      <td>0.987035</td>\n      <td>0.727273</td>\n      <td>0.285714</td>\n      <td>0.410256</td>\n    </tr>\n    <tr>\n      <th>54</th>\n      <td>LinearSVC</td>\n      <td>BorderlineSMOTE base</td>\n      <td>0.989747</td>\n      <td>0.990945</td>\n      <td>0.988527</td>\n      <td>0.989734</td>\n      <td>0.947285</td>\n      <td>0.619130</td>\n      <td>0.589404</td>\n      <td>0.603902</td>\n    </tr>\n    <tr>\n      <th>52</th>\n      <td>LinearSVC</td>\n      <td>SMOTE base</td>\n      <td>0.988449</td>\n      <td>0.978439</td>\n      <td>0.998910</td>\n      <td>0.988568</td>\n      <td>0.933627</td>\n      <td>0.509709</td>\n      <td>0.695364</td>\n      <td>0.588235</td>\n    </tr>\n    <tr>\n      <th>56</th>\n      <td>LinearSVC</td>\n      <td>ADASYN base</td>\n      <td>0.987939</td>\n      <td>0.977000</td>\n      <td>0.999152</td>\n      <td>0.987952</td>\n      <td>0.933062</td>\n      <td>0.506587</td>\n      <td>0.700331</td>\n      <td>0.587908</td>\n    </tr>\n    <tr>\n      <th>58</th>\n      <td>LinearSVC</td>\n      <td>NearMiss base</td>\n      <td>0.975533</td>\n      <td>0.977019</td>\n      <td>0.995742</td>\n      <td>0.986292</td>\n      <td>0.165594</td>\n      <td>0.074473</td>\n      <td>0.983444</td>\n      <td>0.138462</td>\n    </tr>\n    <tr>\n      <th>59</th>\n      <td>LinearSVC</td>\n      <td>NearMiss clean</td>\n      <td>1.000000</td>\n      <td>1.000000</td>\n      <td>1.000000</td>\n      <td>1.000000</td>\n      <td>0.810034</td>\n      <td>0.054755</td>\n      <td>0.678571</td>\n      <td>0.101333</td>\n    </tr>\n  </tbody>\n</table>\n</div>"
     },
     "execution_count": 98,
     "metadata": {},
     "output_type": "execute_result"
    }
   ],
   "source": [
    "evaluation[evaluation.model == \"LinearSVC\"].sort_values(by=[\"test_prec\"], ascending=False)"
   ],
   "metadata": {
    "collapsed": false,
    "ExecuteTime": {
     "end_time": "2024-11-14T16:27:54.517735700Z",
     "start_time": "2024-11-14T16:27:54.486485100Z"
    }
   }
  },
  {
   "cell_type": "code",
   "execution_count": 99,
   "outputs": [],
   "source": [
    "svc = LinearSVC(\n",
    "    class_weight=\"balanced\")  # ohne balanced wird die SVC in einigen Fällen nur auf 0 trainiert, d.h. precision = 0"
   ],
   "metadata": {
    "collapsed": false,
    "ExecuteTime": {
     "end_time": "2024-11-14T16:27:54.571141600Z",
     "start_time": "2024-11-14T16:27:54.502109900Z"
    }
   }
  },
  {
   "cell_type": "code",
   "execution_count": 100,
   "outputs": [
    {
     "name": "stdout",
     "output_type": "stream",
     "text": [
      "Starting model fitting.\n",
      "1/12 Fitting:  LinearSVC-balanced BASE started...\n",
      "Fitting:  LinearSVC-balanced finished. Elapsed time:  0 Seconds\n",
      "2/12 Fitting:  LinearSVC-balanced CLEAN started...\n",
      "Fitting:  LinearSVC-balanced finished. Elapsed time:  0 Seconds\n",
      "3/12 Fitting:  LinearSVC-balanced SMOTE-base started...\n",
      "Fitting:  LinearSVC-balanced finished. Elapsed time:  0 Seconds\n",
      "4/12 Fitting:  LinearSVC-balanced SMOTE-clean started...\n",
      "Fitting:  LinearSVC-balanced finished. Elapsed time:  0 Seconds\n",
      "5/12 Fitting:  LinearSVC-balanced BorderlineSMOTE-base started...\n",
      "Fitting:  LinearSVC-balanced finished. Elapsed time:  0 Seconds\n",
      "6/12 Fitting:  LinearSVC-balanced BorderlineSMOTE-clean started...\n",
      "Fitting:  LinearSVC-balanced finished. Elapsed time:  0 Seconds\n",
      "7/12 Fitting:  LinearSVC-balanced ADASYN-base started...\n",
      "Fitting:  LinearSVC-balanced finished. Elapsed time:  0 Seconds\n",
      "8/12 Fitting:  LinearSVC-balanced ADASYN-clean started...\n",
      "Fitting:  LinearSVC-balanced finished. Elapsed time:  0 Seconds\n",
      "9/12 Fitting:  LinearSVC-balanced NearMiss-base started...\n",
      "Fitting:  LinearSVC-balanced finished. Elapsed time:  0 Seconds\n",
      "10/12 Fitting:  LinearSVC-balanced NearMiss-clean started...\n",
      "Fitting:  LinearSVC-balanced finished. Elapsed time:  0 Seconds\n",
      "11/12 Fitting:  LinearSVC-balanced TomekLink-base started...\n",
      "Fitting:  LinearSVC-balanced finished. Elapsed time:  0 Seconds\n",
      "12/12 Fitting:  LinearSVC-balanced TomekLink-clean started...\n",
      "Fitting:  LinearSVC-balanced finished. Elapsed time:  0 Seconds\n",
      "Model fitting finished.\n"
     ]
    }
   ],
   "source": [
    "fit_model(svc, \"LinearSVC-balanced\")"
   ],
   "metadata": {
    "collapsed": false,
    "ExecuteTime": {
     "end_time": "2024-11-14T16:27:55.673389800Z",
     "start_time": "2024-11-14T16:27:54.517735700Z"
    }
   }
  },
  {
   "cell_type": "code",
   "execution_count": 101,
   "outputs": [
    {
     "data": {
      "text/plain": "                 model                variant  train_acc  train_prec  \\\n66  LinearSVC-balanced   BorderlineSMOTE base   0.989747    0.990945   \n62  LinearSVC-balanced                   base   0.969619    0.692270   \n64  LinearSVC-balanced             SMOTE base   0.988449    0.978439   \n68  LinearSVC-balanced            ADASYN base   0.987781    0.976597   \n63  LinearSVC-balanced                  clean   0.999758    0.984615   \n65  LinearSVC-balanced            SMOTE clean   1.000000    1.000000   \n69  LinearSVC-balanced           ADASYN clean   1.000000    1.000000   \n72  LinearSVC-balanced         TomekLink base   0.999758    0.984615   \n73  LinearSVC-balanced        TomekLink clean   0.999758    0.984615   \n67  LinearSVC-balanced  BorderlineSMOTE clean   1.000000    1.000000   \n70  LinearSVC-balanced          NearMiss base   0.967378    0.997799   \n71  LinearSVC-balanced         NearMiss clean   1.000000    1.000000   \n\n    train_rec  train_f1  test_acc  test_prec  test_rec   test_f1  \n66   0.988527  0.989734  0.947285   0.619130  0.589404  0.603902  \n62   0.997871  0.817442  0.930128   0.491803  0.745033  0.592495  \n64   0.998910  0.988568  0.933627   0.509709  0.695364  0.588235  \n68   0.999258  0.987798  0.932950   0.505967  0.701987  0.588072  \n63   1.000000  0.992248  0.987599   0.750000  0.321429  0.450000  \n65   1.000000  1.000000  0.987599   0.750000  0.321429  0.450000  \n69   1.000000  1.000000  0.987599   0.750000  0.321429  0.450000  \n72   1.000000  0.992248  0.987599   0.750000  0.321429  0.450000  \n73   1.000000  0.992248  0.987599   0.750000  0.321429  0.450000  \n67   1.000000  1.000000  0.987035   0.727273  0.285714  0.410256  \n70   0.965224  0.981241  0.386274   0.093250  0.917219  0.169290  \n71   1.000000  1.000000  0.810034   0.054755  0.678571  0.101333  ",
      "text/html": "<div>\n<style scoped>\n    .dataframe tbody tr th:only-of-type {\n        vertical-align: middle;\n    }\n\n    .dataframe tbody tr th {\n        vertical-align: top;\n    }\n\n    .dataframe thead th {\n        text-align: right;\n    }\n</style>\n<table border=\"1\" class=\"dataframe\">\n  <thead>\n    <tr style=\"text-align: right;\">\n      <th></th>\n      <th>model</th>\n      <th>variant</th>\n      <th>train_acc</th>\n      <th>train_prec</th>\n      <th>train_rec</th>\n      <th>train_f1</th>\n      <th>test_acc</th>\n      <th>test_prec</th>\n      <th>test_rec</th>\n      <th>test_f1</th>\n    </tr>\n  </thead>\n  <tbody>\n    <tr>\n      <th>66</th>\n      <td>LinearSVC-balanced</td>\n      <td>BorderlineSMOTE base</td>\n      <td>0.989747</td>\n      <td>0.990945</td>\n      <td>0.988527</td>\n      <td>0.989734</td>\n      <td>0.947285</td>\n      <td>0.619130</td>\n      <td>0.589404</td>\n      <td>0.603902</td>\n    </tr>\n    <tr>\n      <th>62</th>\n      <td>LinearSVC-balanced</td>\n      <td>base</td>\n      <td>0.969619</td>\n      <td>0.692270</td>\n      <td>0.997871</td>\n      <td>0.817442</td>\n      <td>0.930128</td>\n      <td>0.491803</td>\n      <td>0.745033</td>\n      <td>0.592495</td>\n    </tr>\n    <tr>\n      <th>64</th>\n      <td>LinearSVC-balanced</td>\n      <td>SMOTE base</td>\n      <td>0.988449</td>\n      <td>0.978439</td>\n      <td>0.998910</td>\n      <td>0.988568</td>\n      <td>0.933627</td>\n      <td>0.509709</td>\n      <td>0.695364</td>\n      <td>0.588235</td>\n    </tr>\n    <tr>\n      <th>68</th>\n      <td>LinearSVC-balanced</td>\n      <td>ADASYN base</td>\n      <td>0.987781</td>\n      <td>0.976597</td>\n      <td>0.999258</td>\n      <td>0.987798</td>\n      <td>0.932950</td>\n      <td>0.505967</td>\n      <td>0.701987</td>\n      <td>0.588072</td>\n    </tr>\n    <tr>\n      <th>63</th>\n      <td>LinearSVC-balanced</td>\n      <td>clean</td>\n      <td>0.999758</td>\n      <td>0.984615</td>\n      <td>1.000000</td>\n      <td>0.992248</td>\n      <td>0.987599</td>\n      <td>0.750000</td>\n      <td>0.321429</td>\n      <td>0.450000</td>\n    </tr>\n    <tr>\n      <th>65</th>\n      <td>LinearSVC-balanced</td>\n      <td>SMOTE clean</td>\n      <td>1.000000</td>\n      <td>1.000000</td>\n      <td>1.000000</td>\n      <td>1.000000</td>\n      <td>0.987599</td>\n      <td>0.750000</td>\n      <td>0.321429</td>\n      <td>0.450000</td>\n    </tr>\n    <tr>\n      <th>69</th>\n      <td>LinearSVC-balanced</td>\n      <td>ADASYN clean</td>\n      <td>1.000000</td>\n      <td>1.000000</td>\n      <td>1.000000</td>\n      <td>1.000000</td>\n      <td>0.987599</td>\n      <td>0.750000</td>\n      <td>0.321429</td>\n      <td>0.450000</td>\n    </tr>\n    <tr>\n      <th>72</th>\n      <td>LinearSVC-balanced</td>\n      <td>TomekLink base</td>\n      <td>0.999758</td>\n      <td>0.984615</td>\n      <td>1.000000</td>\n      <td>0.992248</td>\n      <td>0.987599</td>\n      <td>0.750000</td>\n      <td>0.321429</td>\n      <td>0.450000</td>\n    </tr>\n    <tr>\n      <th>73</th>\n      <td>LinearSVC-balanced</td>\n      <td>TomekLink clean</td>\n      <td>0.999758</td>\n      <td>0.984615</td>\n      <td>1.000000</td>\n      <td>0.992248</td>\n      <td>0.987599</td>\n      <td>0.750000</td>\n      <td>0.321429</td>\n      <td>0.450000</td>\n    </tr>\n    <tr>\n      <th>67</th>\n      <td>LinearSVC-balanced</td>\n      <td>BorderlineSMOTE clean</td>\n      <td>1.000000</td>\n      <td>1.000000</td>\n      <td>1.000000</td>\n      <td>1.000000</td>\n      <td>0.987035</td>\n      <td>0.727273</td>\n      <td>0.285714</td>\n      <td>0.410256</td>\n    </tr>\n    <tr>\n      <th>70</th>\n      <td>LinearSVC-balanced</td>\n      <td>NearMiss base</td>\n      <td>0.967378</td>\n      <td>0.997799</td>\n      <td>0.965224</td>\n      <td>0.981241</td>\n      <td>0.386274</td>\n      <td>0.093250</td>\n      <td>0.917219</td>\n      <td>0.169290</td>\n    </tr>\n    <tr>\n      <th>71</th>\n      <td>LinearSVC-balanced</td>\n      <td>NearMiss clean</td>\n      <td>1.000000</td>\n      <td>1.000000</td>\n      <td>1.000000</td>\n      <td>1.000000</td>\n      <td>0.810034</td>\n      <td>0.054755</td>\n      <td>0.678571</td>\n      <td>0.101333</td>\n    </tr>\n  </tbody>\n</table>\n</div>"
     },
     "execution_count": 101,
     "metadata": {},
     "output_type": "execute_result"
    }
   ],
   "source": [
    "evaluation[evaluation.model == \"LinearSVC-balanced\"].sort_values(by=[\"test_f1\"], ascending=False)"
   ],
   "metadata": {
    "collapsed": false,
    "ExecuteTime": {
     "end_time": "2024-11-14T16:27:55.720265400Z",
     "start_time": "2024-11-14T16:27:55.673389800Z"
    }
   }
  },
  {
   "cell_type": "markdown",
   "source": [
    "##### 3.2 Bayes-Classifier"
   ],
   "metadata": {
    "collapsed": false
   }
  },
  {
   "cell_type": "code",
   "execution_count": 102,
   "outputs": [],
   "source": [
    "from sklearn.naive_bayes import GaussianNB"
   ],
   "metadata": {
    "collapsed": false,
    "ExecuteTime": {
     "end_time": "2024-11-14T16:27:55.836177200Z",
     "start_time": "2024-11-14T16:27:55.704640800Z"
    }
   }
  },
  {
   "cell_type": "code",
   "execution_count": 103,
   "outputs": [],
   "source": [
    "bayes = GaussianNB()"
   ],
   "metadata": {
    "collapsed": false,
    "ExecuteTime": {
     "end_time": "2024-11-14T16:27:55.905228500Z",
     "start_time": "2024-11-14T16:27:55.735892300Z"
    }
   }
  },
  {
   "cell_type": "code",
   "execution_count": 104,
   "outputs": [
    {
     "name": "stdout",
     "output_type": "stream",
     "text": [
      "Starting model fitting.\n",
      "1/12 Fitting:  GaussianNB BASE started...\n",
      "Fitting:  GaussianNB finished. Elapsed time:  0 Seconds\n",
      "2/12 Fitting:  GaussianNB CLEAN started...\n",
      "Fitting:  GaussianNB finished. Elapsed time:  0 Seconds\n",
      "3/12 Fitting:  GaussianNB SMOTE-base started...\n",
      "Fitting:  GaussianNB finished. Elapsed time:  0 Seconds\n",
      "4/12 Fitting:  GaussianNB SMOTE-clean started...\n",
      "Fitting:  GaussianNB finished. Elapsed time:  0 Seconds\n",
      "5/12 Fitting:  GaussianNB BorderlineSMOTE-base started...\n",
      "Fitting:  GaussianNB finished. Elapsed time:  0 Seconds\n",
      "6/12 Fitting:  GaussianNB BorderlineSMOTE-clean started...\n",
      "Fitting:  GaussianNB finished. Elapsed time:  0 Seconds\n",
      "7/12 Fitting:  GaussianNB ADASYN-base started...\n",
      "Fitting:  GaussianNB finished. Elapsed time:  0 Seconds\n",
      "8/12 Fitting:  GaussianNB ADASYN-clean started...\n",
      "Fitting:  GaussianNB finished. Elapsed time:  0 Seconds\n",
      "9/12 Fitting:  GaussianNB NearMiss-base started...\n",
      "Fitting:  GaussianNB finished. Elapsed time:  0 Seconds\n",
      "10/12 Fitting:  GaussianNB NearMiss-clean started...\n",
      "Fitting:  GaussianNB finished. Elapsed time:  0 Seconds\n",
      "11/12 Fitting:  GaussianNB TomekLink-base started...\n",
      "Fitting:  GaussianNB finished. Elapsed time:  0 Seconds\n",
      "12/12 Fitting:  GaussianNB TomekLink-clean started...\n",
      "Fitting:  GaussianNB finished. Elapsed time:  0 Seconds\n",
      "Model fitting finished.\n"
     ]
    }
   ],
   "source": [
    "fit_model(svc, \"GaussianNB\")"
   ],
   "metadata": {
    "collapsed": false,
    "ExecuteTime": {
     "end_time": "2024-11-14T16:27:56.931960300Z",
     "start_time": "2024-11-14T16:27:55.773674500Z"
    }
   }
  },
  {
   "cell_type": "code",
   "execution_count": 105,
   "outputs": [
    {
     "data": {
      "text/plain": "         model                variant  train_acc  train_prec  train_rec  \\\n78  GaussianNB   BorderlineSMOTE base   0.989747    0.990945   0.988527   \n74  GaussianNB                   base   0.969619    0.692270   0.997871   \n76  GaussianNB             SMOTE base   0.988449    0.978439   0.998910   \n80  GaussianNB            ADASYN base   0.987781    0.976597   0.999258   \n75  GaussianNB                  clean   0.999758    0.984615   1.000000   \n77  GaussianNB            SMOTE clean   1.000000    1.000000   1.000000   \n81  GaussianNB           ADASYN clean   1.000000    1.000000   1.000000   \n84  GaussianNB         TomekLink base   0.999758    0.984615   1.000000   \n85  GaussianNB        TomekLink clean   0.999758    0.984615   1.000000   \n79  GaussianNB  BorderlineSMOTE clean   1.000000    1.000000   1.000000   \n82  GaussianNB          NearMiss base   0.967378    0.997799   0.965224   \n83  GaussianNB         NearMiss clean   1.000000    1.000000   1.000000   \n\n    train_f1  test_acc  test_prec  test_rec   test_f1  \n78  0.989734  0.947285   0.619130  0.589404  0.603902  \n74  0.817442  0.930128   0.491803  0.745033  0.592495  \n76  0.988568  0.933627   0.509709  0.695364  0.588235  \n80  0.987798  0.932950   0.505967  0.701987  0.588072  \n75  0.992248  0.987599   0.750000  0.321429  0.450000  \n77  1.000000  0.987599   0.750000  0.321429  0.450000  \n81  1.000000  0.987599   0.750000  0.321429  0.450000  \n84  0.992248  0.987599   0.750000  0.321429  0.450000  \n85  0.992248  0.987599   0.750000  0.321429  0.450000  \n79  1.000000  0.987035   0.727273  0.285714  0.410256  \n82  0.981241  0.386274   0.093250  0.917219  0.169290  \n83  1.000000  0.810034   0.054755  0.678571  0.101333  ",
      "text/html": "<div>\n<style scoped>\n    .dataframe tbody tr th:only-of-type {\n        vertical-align: middle;\n    }\n\n    .dataframe tbody tr th {\n        vertical-align: top;\n    }\n\n    .dataframe thead th {\n        text-align: right;\n    }\n</style>\n<table border=\"1\" class=\"dataframe\">\n  <thead>\n    <tr style=\"text-align: right;\">\n      <th></th>\n      <th>model</th>\n      <th>variant</th>\n      <th>train_acc</th>\n      <th>train_prec</th>\n      <th>train_rec</th>\n      <th>train_f1</th>\n      <th>test_acc</th>\n      <th>test_prec</th>\n      <th>test_rec</th>\n      <th>test_f1</th>\n    </tr>\n  </thead>\n  <tbody>\n    <tr>\n      <th>78</th>\n      <td>GaussianNB</td>\n      <td>BorderlineSMOTE base</td>\n      <td>0.989747</td>\n      <td>0.990945</td>\n      <td>0.988527</td>\n      <td>0.989734</td>\n      <td>0.947285</td>\n      <td>0.619130</td>\n      <td>0.589404</td>\n      <td>0.603902</td>\n    </tr>\n    <tr>\n      <th>74</th>\n      <td>GaussianNB</td>\n      <td>base</td>\n      <td>0.969619</td>\n      <td>0.692270</td>\n      <td>0.997871</td>\n      <td>0.817442</td>\n      <td>0.930128</td>\n      <td>0.491803</td>\n      <td>0.745033</td>\n      <td>0.592495</td>\n    </tr>\n    <tr>\n      <th>76</th>\n      <td>GaussianNB</td>\n      <td>SMOTE base</td>\n      <td>0.988449</td>\n      <td>0.978439</td>\n      <td>0.998910</td>\n      <td>0.988568</td>\n      <td>0.933627</td>\n      <td>0.509709</td>\n      <td>0.695364</td>\n      <td>0.588235</td>\n    </tr>\n    <tr>\n      <th>80</th>\n      <td>GaussianNB</td>\n      <td>ADASYN base</td>\n      <td>0.987781</td>\n      <td>0.976597</td>\n      <td>0.999258</td>\n      <td>0.987798</td>\n      <td>0.932950</td>\n      <td>0.505967</td>\n      <td>0.701987</td>\n      <td>0.588072</td>\n    </tr>\n    <tr>\n      <th>75</th>\n      <td>GaussianNB</td>\n      <td>clean</td>\n      <td>0.999758</td>\n      <td>0.984615</td>\n      <td>1.000000</td>\n      <td>0.992248</td>\n      <td>0.987599</td>\n      <td>0.750000</td>\n      <td>0.321429</td>\n      <td>0.450000</td>\n    </tr>\n    <tr>\n      <th>77</th>\n      <td>GaussianNB</td>\n      <td>SMOTE clean</td>\n      <td>1.000000</td>\n      <td>1.000000</td>\n      <td>1.000000</td>\n      <td>1.000000</td>\n      <td>0.987599</td>\n      <td>0.750000</td>\n      <td>0.321429</td>\n      <td>0.450000</td>\n    </tr>\n    <tr>\n      <th>81</th>\n      <td>GaussianNB</td>\n      <td>ADASYN clean</td>\n      <td>1.000000</td>\n      <td>1.000000</td>\n      <td>1.000000</td>\n      <td>1.000000</td>\n      <td>0.987599</td>\n      <td>0.750000</td>\n      <td>0.321429</td>\n      <td>0.450000</td>\n    </tr>\n    <tr>\n      <th>84</th>\n      <td>GaussianNB</td>\n      <td>TomekLink base</td>\n      <td>0.999758</td>\n      <td>0.984615</td>\n      <td>1.000000</td>\n      <td>0.992248</td>\n      <td>0.987599</td>\n      <td>0.750000</td>\n      <td>0.321429</td>\n      <td>0.450000</td>\n    </tr>\n    <tr>\n      <th>85</th>\n      <td>GaussianNB</td>\n      <td>TomekLink clean</td>\n      <td>0.999758</td>\n      <td>0.984615</td>\n      <td>1.000000</td>\n      <td>0.992248</td>\n      <td>0.987599</td>\n      <td>0.750000</td>\n      <td>0.321429</td>\n      <td>0.450000</td>\n    </tr>\n    <tr>\n      <th>79</th>\n      <td>GaussianNB</td>\n      <td>BorderlineSMOTE clean</td>\n      <td>1.000000</td>\n      <td>1.000000</td>\n      <td>1.000000</td>\n      <td>1.000000</td>\n      <td>0.987035</td>\n      <td>0.727273</td>\n      <td>0.285714</td>\n      <td>0.410256</td>\n    </tr>\n    <tr>\n      <th>82</th>\n      <td>GaussianNB</td>\n      <td>NearMiss base</td>\n      <td>0.967378</td>\n      <td>0.997799</td>\n      <td>0.965224</td>\n      <td>0.981241</td>\n      <td>0.386274</td>\n      <td>0.093250</td>\n      <td>0.917219</td>\n      <td>0.169290</td>\n    </tr>\n    <tr>\n      <th>83</th>\n      <td>GaussianNB</td>\n      <td>NearMiss clean</td>\n      <td>1.000000</td>\n      <td>1.000000</td>\n      <td>1.000000</td>\n      <td>1.000000</td>\n      <td>0.810034</td>\n      <td>0.054755</td>\n      <td>0.678571</td>\n      <td>0.101333</td>\n    </tr>\n  </tbody>\n</table>\n</div>"
     },
     "execution_count": 105,
     "metadata": {},
     "output_type": "execute_result"
    }
   ],
   "source": [
    "evaluation[evaluation.model == \"GaussianNB\"].sort_values(by=[\"test_f1\"], ascending=False)"
   ],
   "metadata": {
    "collapsed": false,
    "ExecuteTime": {
     "end_time": "2024-11-14T16:27:56.974532300Z",
     "start_time": "2024-11-14T16:27:56.903685900Z"
    }
   }
  },
  {
   "cell_type": "code",
   "execution_count": 105,
   "outputs": [],
   "source": [],
   "metadata": {
    "collapsed": false,
    "ExecuteTime": {
     "end_time": "2024-11-14T16:27:56.974532300Z",
     "start_time": "2024-11-14T16:27:56.931960300Z"
    }
   }
  }
 ],
 "metadata": {
  "kernelspec": {
   "display_name": "Python 3",
   "language": "python",
   "name": "python3"
  },
  "language_info": {
   "codemirror_mode": {
    "name": "ipython",
    "version": 2
   },
   "file_extension": ".py",
   "mimetype": "text/x-python",
   "name": "python",
   "nbconvert_exporter": "python",
   "pygments_lexer": "ipython2",
   "version": "2.7.6"
  }
 },
 "nbformat": 4,
 "nbformat_minor": 0
}
