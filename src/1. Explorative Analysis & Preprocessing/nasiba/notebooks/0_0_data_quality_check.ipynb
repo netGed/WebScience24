{
 "cells": [
  {
   "cell_type": "markdown",
   "metadata": {},
   "source": [
    "#### Imports & Downloads"
   ]
  },
  {
   "cell_type": "code",
   "execution_count": null,
   "metadata": {},
   "outputs": [],
   "source": [
    "!pip install autocorrect\n",
    "!pip install textblob\n",
    "!pip install symspellpy\n",
    "!pip install pyaspell\n",
    "!pip install fuzzywuzzy\n",
    "!pip install hunspell\n",
    "!pip install better_profanity"
   ]
  },
  {
   "cell_type": "code",
   "execution_count": 2,
   "metadata": {},
   "outputs": [],
   "source": [
    "import os\n",
    "current_dir = os.getcwd()\n",
    "src_path = os.path.abspath(os.path.join(current_dir, '../../../1. Explorative Analysis & Preprocessing/nasiba/'))\n",
    "os.chdir(src_path) "
   ]
  },
  {
   "cell_type": "code",
   "execution_count": 3,
   "metadata": {},
   "outputs": [],
   "source": [
    "import numpy as np\n",
    "import matplotlib.pyplot as plt\n",
    "import seaborn as sns\n",
    "import nltk\n",
    "import re\n",
    "import emoji\n",
    "from nltk.corpus import stopwords, wordnet\n",
    "import time\n",
    "from pathlib import Path\n",
    "\n",
    "from collections import Counter\n",
    "from spellchecker import SpellChecker\n",
    "import os\n",
    "\n",
    "from textblob import TextBlob, Word\n",
    "from nltk.stem.snowball import SnowballStemmer, PorterStemmer\n",
    "from nltk.stem import WordNetLemmatizer\n",
    "from ftfy import fix_encoding\n",
    "import spacy\n",
    "from src.preprocessing.cleaning.shotcut_lists import shortcuts\n",
    "#nlp = spacy.load(\"en_core_web_sm\")\n",
    "import pandas as pd\n",
    "pd.set_option('display.max_colwidth', None)"
   ]
  },
  {
   "cell_type": "markdown",
   "metadata": {},
   "source": [
    "### Einladen der Daten"
   ]
  },
  {
   "cell_type": "code",
   "execution_count": 4,
   "metadata": {},
   "outputs": [],
   "source": [
    "current_dir = os.getcwd()\n",
    "csv_path_train = os.path.abspath(os.path.join(current_dir, '../../../data/twitter_hate-speech/train.csv'))\n",
    "df_origin = pd.read_csv(csv_path_train, encoding='utf-8', index_col=0)\n"
   ]
  },
  {
   "cell_type": "markdown",
   "metadata": {},
   "source": [
    "## 1. Datenexploration"
   ]
  },
  {
   "cell_type": "markdown",
   "metadata": {},
   "source": [
    "### 1.1 Datenqualitätsüberprüfung generell"
   ]
  },
  {
   "cell_type": "code",
   "execution_count": 5,
   "metadata": {},
   "outputs": [
    {
     "data": {
      "text/html": [
       "<div>\n",
       "<style scoped>\n",
       "    .dataframe tbody tr th:only-of-type {\n",
       "        vertical-align: middle;\n",
       "    }\n",
       "\n",
       "    .dataframe tbody tr th {\n",
       "        vertical-align: top;\n",
       "    }\n",
       "\n",
       "    .dataframe thead th {\n",
       "        text-align: right;\n",
       "    }\n",
       "</style>\n",
       "<table border=\"1\" class=\"dataframe\">\n",
       "  <thead>\n",
       "    <tr style=\"text-align: right;\">\n",
       "      <th></th>\n",
       "      <th>label</th>\n",
       "      <th>tweet</th>\n",
       "    </tr>\n",
       "    <tr>\n",
       "      <th>id</th>\n",
       "      <th></th>\n",
       "      <th></th>\n",
       "    </tr>\n",
       "  </thead>\n",
       "  <tbody>\n",
       "    <tr>\n",
       "      <th>1</th>\n",
       "      <td>0</td>\n",
       "      <td>@user when a father is dysfunctional and is so selfish he drags his kids into his dysfunction.   #run</td>\n",
       "    </tr>\n",
       "    <tr>\n",
       "      <th>2</th>\n",
       "      <td>0</td>\n",
       "      <td>@user @user thanks for #lyft credit i can't use cause they don't offer wheelchair vans in pdx.    #disapointed #getthanked</td>\n",
       "    </tr>\n",
       "    <tr>\n",
       "      <th>3</th>\n",
       "      <td>0</td>\n",
       "      <td>bihday your majesty</td>\n",
       "    </tr>\n",
       "    <tr>\n",
       "      <th>4</th>\n",
       "      <td>0</td>\n",
       "      <td>#model   i love u take with u all the time in urð±!!! ððððð¦ð¦ð¦</td>\n",
       "    </tr>\n",
       "    <tr>\n",
       "      <th>5</th>\n",
       "      <td>0</td>\n",
       "      <td>factsguide: society now    #motivation</td>\n",
       "    </tr>\n",
       "  </tbody>\n",
       "</table>\n",
       "</div>"
      ],
      "text/plain": [
       "    label  \\\n",
       "id          \n",
       "1       0   \n",
       "2       0   \n",
       "3       0   \n",
       "4       0   \n",
       "5       0   \n",
       "\n",
       "                                                                                                                         tweet  \n",
       "id                                                                                                                              \n",
       "1                        @user when a father is dysfunctional and is so selfish he drags his kids into his dysfunction.   #run  \n",
       "2   @user @user thanks for #lyft credit i can't use cause they don't offer wheelchair vans in pdx.    #disapointed #getthanked  \n",
       "3                                                                                                          bihday your majesty  \n",
       "4                                       #model   i love u take with u all the time in urð±!!! ðððð\n",
       "ð¦ð¦ð¦    \n",
       "5                                                                                       factsguide: society now    #motivation  "
      ]
     },
     "execution_count": 5,
     "metadata": {},
     "output_type": "execute_result"
    }
   ],
   "source": [
    "df_origin.head()"
   ]
  },
  {
   "cell_type": "code",
   "execution_count": 6,
   "metadata": {},
   "outputs": [
    {
     "name": "stdout",
     "output_type": "stream",
     "text": [
      "<class 'pandas.core.frame.DataFrame'>\n",
      "Index: 31962 entries, 1 to 31962\n",
      "Data columns (total 2 columns):\n",
      " #   Column  Non-Null Count  Dtype \n",
      "---  ------  --------------  ----- \n",
      " 0   label   31962 non-null  int64 \n",
      " 1   tweet   31962 non-null  object\n",
      "dtypes: int64(1), object(1)\n",
      "memory usage: 749.1+ KB\n"
     ]
    }
   ],
   "source": [
    "df_origin.info()"
   ]
  },
  {
   "cell_type": "code",
   "execution_count": 7,
   "metadata": {},
   "outputs": [
    {
     "data": {
      "text/plain": [
       "label    0\n",
       "tweet    0\n",
       "dtype: int64"
      ]
     },
     "execution_count": 7,
     "metadata": {},
     "output_type": "execute_result"
    }
   ],
   "source": [
    "# Check for null values\n",
    "df_origin.isna().sum()\n",
    "\n",
    "# no null's"
   ]
  },
  {
   "cell_type": "code",
   "execution_count": 8,
   "metadata": {},
   "outputs": [
    {
     "name": "stdout",
     "output_type": "stream",
     "text": [
      "2432\n"
     ]
    }
   ],
   "source": [
    "# check for duplicates\n",
    "print(df_origin.duplicated().sum())"
   ]
  },
  {
   "cell_type": "markdown",
   "metadata": {},
   "source": [
    "### 1.2 Text Qualität Checks"
   ]
  },
  {
   "cell_type": "code",
   "execution_count": 9,
   "metadata": {},
   "outputs": [],
   "source": [
    "df_raw = df_origin.copy()"
   ]
  },
  {
   "cell_type": "markdown",
   "metadata": {},
   "source": [
    "##### 1.2.1 Überprüfung von stopwords"
   ]
  },
  {
   "cell_type": "code",
   "execution_count": 10,
   "metadata": {},
   "outputs": [
    {
     "name": "stdout",
     "output_type": "stream",
     "text": [
      "['no', 'be', 'd', 'himself', 'over', 'how', 'same', 'o', 'between', 'there', 'until', 'needn', 'a', \"doesn't\", \"weren't\", 'any', 'whom', 'down', 'an', 'most', 'wasn', 'for', 'where', 'these', 'ourselves', 'under', 'against', 'then', 'up', 'each', \"didn't\", 'their', 'but', 'from', 'haven', \"you've\", 'once', 'you', \"you'll\", 'did', \"mightn't\", 'the', 'further', 'yourself', 'why', 'yours', 'of', 'hadn', \"isn't\", \"hadn't\", \"wouldn't\", 'm', 'all', 'own', \"should've\", 'too', 'it', 'being', \"you'd\", \"that'll\", 'when', 'few', 'will', 'with', 'those', 'he', 'theirs', 'have', 'don', 'ma', 'which', 'at', \"shouldn't\", 'who', 'does', 'my', 'weren', 'her', 'some', 't', 'again', 'as', \"you're\", 'y', 'them', 'we', 'am', 'because', 'after', 'to', 'mustn', 'themselves', 'out', 'more', 'shouldn', 'll', 'should', \"haven't\", 'isn', \"she's\", 'were', 'below', 's', \"couldn't\", 'this', 'through', 'i', 'wouldn', 'very', 'me', 'had', 'our', 'into', 'doing', 're', 'other', 'and', 'shan', 'or', 'myself', 'been', 'by', 'they', 'just', 'your', 'him', 'itself', 'here', 'ain', 'not', 'yourselves', 'above', 'both', 'couldn', 'can', 've', \"mustn't\", 'was', 'what', \"won't\", 'nor', 'its', 'aren', 'she', \"it's\", 'won', 'about', 'before', 'only', 'that', 'do', \"shan't\", 'than', 'mightn', 'having', 'hasn', 'herself', 'has', 'is', 'so', 'ours', 'hers', 'in', 'on', 'are', 'off', 'his', 'during', 'while', \"hasn't\", 'now', 'if', 'didn', \"aren't\", 'doesn', \"needn't\", 'such', \"wasn't\", \"don't\"]\n"
     ]
    }
   ],
   "source": [
    "# which words are actually stop words?\n",
    "stop_words = set(stopwords.words('english'))\n",
    "\n",
    "stop_words_list = list(stop_words)\n",
    "print(stop_words_list)"
   ]
  },
  {
   "cell_type": "code",
   "execution_count": 11,
   "metadata": {},
   "outputs": [
    {
     "data": {
      "text/html": [
       "<div>\n",
       "<style scoped>\n",
       "    .dataframe tbody tr th:only-of-type {\n",
       "        vertical-align: middle;\n",
       "    }\n",
       "\n",
       "    .dataframe tbody tr th {\n",
       "        vertical-align: top;\n",
       "    }\n",
       "\n",
       "    .dataframe thead th {\n",
       "        text-align: right;\n",
       "    }\n",
       "</style>\n",
       "<table border=\"1\" class=\"dataframe\">\n",
       "  <thead>\n",
       "    <tr style=\"text-align: right;\">\n",
       "      <th></th>\n",
       "      <th>label</th>\n",
       "      <th>tweet</th>\n",
       "      <th>stopwords</th>\n",
       "    </tr>\n",
       "    <tr>\n",
       "      <th>id</th>\n",
       "      <th></th>\n",
       "      <th></th>\n",
       "      <th></th>\n",
       "    </tr>\n",
       "  </thead>\n",
       "  <tbody>\n",
       "    <tr>\n",
       "      <th>1</th>\n",
       "      <td>0</td>\n",
       "      <td>@user when a father is dysfunctional and is so selfish he drags his kids into his dysfunction.   #run</td>\n",
       "      <td>10</td>\n",
       "    </tr>\n",
       "    <tr>\n",
       "      <th>2</th>\n",
       "      <td>0</td>\n",
       "      <td>@user @user thanks for #lyft credit i can't use cause they don't offer wheelchair vans in pdx.    #disapointed #getthanked</td>\n",
       "      <td>5</td>\n",
       "    </tr>\n",
       "    <tr>\n",
       "      <th>3</th>\n",
       "      <td>0</td>\n",
       "      <td>bihday your majesty</td>\n",
       "      <td>1</td>\n",
       "    </tr>\n",
       "    <tr>\n",
       "      <th>4</th>\n",
       "      <td>0</td>\n",
       "      <td>#model   i love u take with u all the time in urð±!!! ððððð¦ð¦ð¦</td>\n",
       "      <td>5</td>\n",
       "    </tr>\n",
       "    <tr>\n",
       "      <th>5</th>\n",
       "      <td>0</td>\n",
       "      <td>factsguide: society now    #motivation</td>\n",
       "      <td>1</td>\n",
       "    </tr>\n",
       "  </tbody>\n",
       "</table>\n",
       "</div>"
      ],
      "text/plain": [
       "    label  \\\n",
       "id          \n",
       "1       0   \n",
       "2       0   \n",
       "3       0   \n",
       "4       0   \n",
       "5       0   \n",
       "\n",
       "                                                                                                                         tweet  \\\n",
       "id                                                                                                                               \n",
       "1                        @user when a father is dysfunctional and is so selfish he drags his kids into his dysfunction.   #run   \n",
       "2   @user @user thanks for #lyft credit i can't use cause they don't offer wheelchair vans in pdx.    #disapointed #getthanked   \n",
       "3                                                                                                          bihday your majesty   \n",
       "4                                       #model   i love u take with u all the time in urð±!!! ðððð\n",
       "ð¦ð¦ð¦     \n",
       "5                                                                                       factsguide: society now    #motivation   \n",
       "\n",
       "    stopwords  \n",
       "id             \n",
       "1          10  \n",
       "2           5  \n",
       "3           1  \n",
       "4           5  \n",
       "5           1  "
      ]
     },
     "execution_count": 11,
     "metadata": {},
     "output_type": "execute_result"
    }
   ],
   "source": [
    "# find stop words in tweet column\n",
    "def find_stop_words(df):\n",
    "    df['stopwords'] = df['tweet'].apply(lambda x: len([x for x in x.split() if x in stop_words]))\n",
    "    return df\n",
    "\n",
    "\n",
    "df_raw = find_stop_words(df_raw)\n",
    "df_raw[df_raw['stopwords'].notna()].head()"
   ]
  },
  {
   "cell_type": "markdown",
   "metadata": {},
   "source": [
    "##### 1.2.2 Überprüfung von HTML tags/ special characters"
   ]
  },
  {
   "cell_type": "code",
   "execution_count": 12,
   "metadata": {},
   "outputs": [
    {
     "data": {
      "text/html": [
       "<div>\n",
       "<style scoped>\n",
       "    .dataframe tbody tr th:only-of-type {\n",
       "        vertical-align: middle;\n",
       "    }\n",
       "\n",
       "    .dataframe tbody tr th {\n",
       "        vertical-align: top;\n",
       "    }\n",
       "\n",
       "    .dataframe thead th {\n",
       "        text-align: right;\n",
       "    }\n",
       "</style>\n",
       "<table border=\"1\" class=\"dataframe\">\n",
       "  <thead>\n",
       "    <tr style=\"text-align: right;\">\n",
       "      <th></th>\n",
       "      <th>label</th>\n",
       "      <th>tweet</th>\n",
       "      <th>stopwords</th>\n",
       "      <th>hashtags</th>\n",
       "    </tr>\n",
       "    <tr>\n",
       "      <th>id</th>\n",
       "      <th></th>\n",
       "      <th></th>\n",
       "      <th></th>\n",
       "      <th></th>\n",
       "    </tr>\n",
       "  </thead>\n",
       "  <tbody>\n",
       "    <tr>\n",
       "      <th>1</th>\n",
       "      <td>0</td>\n",
       "      <td>@user when a father is dysfunctional and is so selfish he drags his kids into his dysfunction.   #run</td>\n",
       "      <td>10</td>\n",
       "      <td>1</td>\n",
       "    </tr>\n",
       "    <tr>\n",
       "      <th>2</th>\n",
       "      <td>0</td>\n",
       "      <td>@user @user thanks for #lyft credit i can't use cause they don't offer wheelchair vans in pdx.    #disapointed #getthanked</td>\n",
       "      <td>5</td>\n",
       "      <td>3</td>\n",
       "    </tr>\n",
       "    <tr>\n",
       "      <th>4</th>\n",
       "      <td>0</td>\n",
       "      <td>#model   i love u take with u all the time in urð±!!! ððððð¦ð¦ð¦</td>\n",
       "      <td>5</td>\n",
       "      <td>1</td>\n",
       "    </tr>\n",
       "    <tr>\n",
       "      <th>5</th>\n",
       "      <td>0</td>\n",
       "      <td>factsguide: society now    #motivation</td>\n",
       "      <td>1</td>\n",
       "      <td>1</td>\n",
       "    </tr>\n",
       "    <tr>\n",
       "      <th>6</th>\n",
       "      <td>0</td>\n",
       "      <td>[2/2] huge fan fare and big talking before they leave. chaos and pay disputes when they get there. #allshowandnogo</td>\n",
       "      <td>6</td>\n",
       "      <td>1</td>\n",
       "    </tr>\n",
       "  </tbody>\n",
       "</table>\n",
       "</div>"
      ],
      "text/plain": [
       "    label  \\\n",
       "id          \n",
       "1       0   \n",
       "2       0   \n",
       "4       0   \n",
       "5       0   \n",
       "6       0   \n",
       "\n",
       "                                                                                                                         tweet  \\\n",
       "id                                                                                                                               \n",
       "1                        @user when a father is dysfunctional and is so selfish he drags his kids into his dysfunction.   #run   \n",
       "2   @user @user thanks for #lyft credit i can't use cause they don't offer wheelchair vans in pdx.    #disapointed #getthanked   \n",
       "4                                       #model   i love u take with u all the time in urð±!!! ðððð\n",
       "ð¦ð¦ð¦     \n",
       "5                                                                                       factsguide: society now    #motivation   \n",
       "6         [2/2] huge fan fare and big talking before they leave. chaos and pay disputes when they get there. #allshowandnogo     \n",
       "\n",
       "    stopwords  hashtags  \n",
       "id                       \n",
       "1          10         1  \n",
       "2           5         3  \n",
       "4           5         1  \n",
       "5           1         1  \n",
       "6           6         1  "
      ]
     },
     "execution_count": 12,
     "metadata": {},
     "output_type": "execute_result"
    }
   ],
   "source": [
    "def find_hash_tags(df):\n",
    "    df['hashtags'] = df['tweet'].apply(lambda x: len([x for x in x.split() if x.startswith('#')]))\n",
    "    return df\n",
    "\n",
    "\n",
    "df_raw = find_hash_tags(df_raw)\n",
    "df_raw[df_raw['hashtags'] > 0].head()"
   ]
  },
  {
   "cell_type": "markdown",
   "metadata": {},
   "source": [
    "##### 1.2.3 Überprüfung von Wörtern mit Großbuchstaben"
   ]
  },
  {
   "cell_type": "code",
   "execution_count": 13,
   "metadata": {},
   "outputs": [
    {
     "data": {
      "text/html": [
       "<div>\n",
       "<style scoped>\n",
       "    .dataframe tbody tr th:only-of-type {\n",
       "        vertical-align: middle;\n",
       "    }\n",
       "\n",
       "    .dataframe tbody tr th {\n",
       "        vertical-align: top;\n",
       "    }\n",
       "\n",
       "    .dataframe thead th {\n",
       "        text-align: right;\n",
       "    }\n",
       "</style>\n",
       "<table border=\"1\" class=\"dataframe\">\n",
       "  <thead>\n",
       "    <tr style=\"text-align: right;\">\n",
       "      <th></th>\n",
       "      <th>label</th>\n",
       "      <th>tweet</th>\n",
       "      <th>stopwords</th>\n",
       "      <th>hashtags</th>\n",
       "      <th>upper_case</th>\n",
       "    </tr>\n",
       "    <tr>\n",
       "      <th>id</th>\n",
       "      <th></th>\n",
       "      <th></th>\n",
       "      <th></th>\n",
       "      <th></th>\n",
       "      <th></th>\n",
       "    </tr>\n",
       "  </thead>\n",
       "  <tbody>\n",
       "    <tr>\n",
       "      <th>161</th>\n",
       "      <td>0</td>\n",
       "      <td>new selfie \\Â¤.Â¤/  #guy   #mato #chapones</td>\n",
       "      <td>0</td>\n",
       "      <td>3</td>\n",
       "      <td>1</td>\n",
       "    </tr>\n",
       "    <tr>\n",
       "      <th>555</th>\n",
       "      <td>0</td>\n",
       "      <td>come on #ee piss poor reception today Â£20 a month and struggle to get a signal in #buxton put more masts up or i'm switching   #grumpy</td>\n",
       "      <td>9</td>\n",
       "      <td>3</td>\n",
       "      <td>1</td>\n",
       "    </tr>\n",
       "    <tr>\n",
       "      <th>1109</th>\n",
       "      <td>1</td>\n",
       "      <td>@user all happy for Ã¨ #lbgt family,but what i don't get is the incessant but thin veiled  against other gay minorities?</td>\n",
       "      <td>10</td>\n",
       "      <td>1</td>\n",
       "      <td>1</td>\n",
       "    </tr>\n",
       "    <tr>\n",
       "      <th>1715</th>\n",
       "      <td>0</td>\n",
       "      <td>over a year after leaving @user i received a demand for Â£12. should have told me when i left! #paidnow #fuckoffnevercomingbacktosky</td>\n",
       "      <td>11</td>\n",
       "      <td>2</td>\n",
       "      <td>1</td>\n",
       "    </tr>\n",
       "    <tr>\n",
       "      <th>2502</th>\n",
       "      <td>0</td>\n",
       "      <td>#bahrain   #youth #protesters #clash with #riot #police and  #armoured #vehicles #Ø§ÙØ¨Ø­Ø±ÙÙ #Ø§ÙÙÙÙØ¯Ø±Ø§Øª</td>\n",
       "      <td>2</td>\n",
       "      <td>10</td>\n",
       "      <td>1</td>\n",
       "    </tr>\n",
       "  </tbody>\n",
       "</table>\n",
       "</div>"
      ],
      "text/plain": [
       "      label  \\\n",
       "id            \n",
       "161       0   \n",
       "555       0   \n",
       "1109      1   \n",
       "1715      0   \n",
       "2502      0   \n",
       "\n",
       "                                                                                                                                        tweet  \\\n",
       "id                                                                                                                                              \n",
       "161                                                                                               new selfie \\Â¤.Â¤/  #guy   #mato #chapones    \n",
       "555   come on #ee piss poor reception today Â£20 a month and struggle to get a signal in #buxton put more masts up or i'm switching   #grumpy   \n",
       "1109                 @user all happy for Ã¨ #lbgt family,but what i don't get is the incessant but thin veiled  against other gay minorities?   \n",
       "1715   over a year after leaving @user i received a demand for Â£12. should have told me when i left! #paidnow #fuckoffnevercomingbacktosky     \n",
       "2502                    #bahrain   #youth #protesters #clash with #riot #police and  #armoured #vehicles #Ø§ÙØ¨Ø­Ø±ÙÙ #Ø§ÙÙÙÙØ¯Ø±Ø§Øª    \n",
       "\n",
       "      stopwords  hashtags  upper_case  \n",
       "id                                     \n",
       "161           0         3           1  \n",
       "555           9         3           1  \n",
       "1109         10         1           1  \n",
       "1715         11         2           1  \n",
       "2502          2        10           1  "
      ]
     },
     "execution_count": 13,
     "metadata": {},
     "output_type": "execute_result"
    }
   ],
   "source": [
    "def find_num_uppercase(df):\n",
    "    df['upper_case'] = df['tweet'].apply(lambda x: len([x for x in x.split() if x.isupper()]))\n",
    "    return df\n",
    "\n",
    "\n",
    "df_raw = find_num_uppercase(df_raw)\n",
    "df_raw[df_raw['upper_case'] > 0].head()\n"
   ]
  },
  {
   "cell_type": "markdown",
   "metadata": {},
   "source": [
    "##### 1.2.4 Überprüfung von HTML Tags im Text"
   ]
  },
  {
   "cell_type": "code",
   "execution_count": 14,
   "metadata": {},
   "outputs": [],
   "source": [
    "def identify_html_tags(text):\n",
    "    pattern = re.compile('<.*?>')\n",
    "    tags = pattern.findall(text)\n",
    "    tag_count = len(tags)\n",
    "    return tag_count"
   ]
  },
  {
   "cell_type": "code",
   "execution_count": 15,
   "metadata": {},
   "outputs": [
    {
     "data": {
      "text/html": [
       "<div>\n",
       "<style scoped>\n",
       "    .dataframe tbody tr th:only-of-type {\n",
       "        vertical-align: middle;\n",
       "    }\n",
       "\n",
       "    .dataframe tbody tr th {\n",
       "        vertical-align: top;\n",
       "    }\n",
       "\n",
       "    .dataframe thead th {\n",
       "        text-align: right;\n",
       "    }\n",
       "</style>\n",
       "<table border=\"1\" class=\"dataframe\">\n",
       "  <thead>\n",
       "    <tr style=\"text-align: right;\">\n",
       "      <th></th>\n",
       "      <th>label</th>\n",
       "      <th>tweet</th>\n",
       "      <th>stopwords</th>\n",
       "      <th>hashtags</th>\n",
       "      <th>upper_case</th>\n",
       "      <th>html_tag_count</th>\n",
       "    </tr>\n",
       "    <tr>\n",
       "      <th>id</th>\n",
       "      <th></th>\n",
       "      <th></th>\n",
       "      <th></th>\n",
       "      <th></th>\n",
       "      <th></th>\n",
       "      <th></th>\n",
       "    </tr>\n",
       "  </thead>\n",
       "  <tbody>\n",
       "  </tbody>\n",
       "</table>\n",
       "</div>"
      ],
      "text/plain": [
       "Empty DataFrame\n",
       "Columns: [label, tweet, stopwords, hashtags, upper_case, html_tag_count]\n",
       "Index: []"
      ]
     },
     "execution_count": 15,
     "metadata": {},
     "output_type": "execute_result"
    }
   ],
   "source": [
    "def find_html_tags(df):\n",
    "    df['html_tag_count'] = df['tweet'].apply(lambda x: identify_html_tags(x))\n",
    "    return df\n",
    "\n",
    "\n",
    "df_raw = find_html_tags(df_raw)\n",
    "df_raw[df_raw['html_tag_count'] > 0]\n",
    "# Conclusion: no html tags"
   ]
  },
  {
   "cell_type": "code",
   "execution_count": 16,
   "metadata": {},
   "outputs": [],
   "source": [
    "def identify_urls(text):\n",
    "    pattern = re.compile(r'https?://\\S+|www\\.\\S+')\n",
    "    urls = pattern.findall(text)\n",
    "    tag_count = len(urls)\n",
    "    return tag_count"
   ]
  },
  {
   "cell_type": "markdown",
   "metadata": {},
   "source": [
    "##### 1.2.5 Überprüfung von URL's im Text"
   ]
  },
  {
   "cell_type": "code",
   "execution_count": 17,
   "metadata": {},
   "outputs": [
    {
     "data": {
      "text/html": [
       "<div>\n",
       "<style scoped>\n",
       "    .dataframe tbody tr th:only-of-type {\n",
       "        vertical-align: middle;\n",
       "    }\n",
       "\n",
       "    .dataframe tbody tr th {\n",
       "        vertical-align: top;\n",
       "    }\n",
       "\n",
       "    .dataframe thead th {\n",
       "        text-align: right;\n",
       "    }\n",
       "</style>\n",
       "<table border=\"1\" class=\"dataframe\">\n",
       "  <thead>\n",
       "    <tr style=\"text-align: right;\">\n",
       "      <th></th>\n",
       "      <th>label</th>\n",
       "      <th>tweet</th>\n",
       "      <th>stopwords</th>\n",
       "      <th>hashtags</th>\n",
       "      <th>upper_case</th>\n",
       "      <th>html_tag_count</th>\n",
       "      <th>url_count</th>\n",
       "    </tr>\n",
       "    <tr>\n",
       "      <th>id</th>\n",
       "      <th></th>\n",
       "      <th></th>\n",
       "      <th></th>\n",
       "      <th></th>\n",
       "      <th></th>\n",
       "      <th></th>\n",
       "      <th></th>\n",
       "    </tr>\n",
       "  </thead>\n",
       "  <tbody>\n",
       "    <tr>\n",
       "      <th>1112</th>\n",
       "      <td>0</td>\n",
       "      <td>#fly   #and #better #with #us #buranus  #www.flybcc.com #call #7/24  #airbroker #flightâ¦</td>\n",
       "      <td>0</td>\n",
       "      <td>11</td>\n",
       "      <td>0</td>\n",
       "      <td>0</td>\n",
       "      <td>1</td>\n",
       "    </tr>\n",
       "    <tr>\n",
       "      <th>6376</th>\n",
       "      <td>0</td>\n",
       "      <td>#isitthursdayyet? it's not? awwww... #criticalrole   #critter</td>\n",
       "      <td>1</td>\n",
       "      <td>3</td>\n",
       "      <td>0</td>\n",
       "      <td>0</td>\n",
       "      <td>1</td>\n",
       "    </tr>\n",
       "    <tr>\n",
       "      <th>8085</th>\n",
       "      <td>0</td>\n",
       "      <td>couple having sex www.drunk singapore girl get fuck</td>\n",
       "      <td>1</td>\n",
       "      <td>0</td>\n",
       "      <td>0</td>\n",
       "      <td>0</td>\n",
       "      <td>1</td>\n",
       "    </tr>\n",
       "    <tr>\n",
       "      <th>8485</th>\n",
       "      <td>0</td>\n",
       "      <td>so glad my #workout includes smoke breaks...www.smokeweedeatbacon.com #weed #bacon #fitness #sex #health #marijuana   #strength #living</td>\n",
       "      <td>2</td>\n",
       "      <td>9</td>\n",
       "      <td>0</td>\n",
       "      <td>0</td>\n",
       "      <td>1</td>\n",
       "    </tr>\n",
       "    <tr>\n",
       "      <th>8661</th>\n",
       "      <td>0</td>\n",
       "      <td>@user just run 10kms for @user @user   #loveisall  pour donner: www.alvarum/heloiseetlespremas</td>\n",
       "      <td>2</td>\n",
       "      <td>1</td>\n",
       "      <td>0</td>\n",
       "      <td>0</td>\n",
       "      <td>1</td>\n",
       "    </tr>\n",
       "    <tr>\n",
       "      <th>25746</th>\n",
       "      <td>0</td>\n",
       "      <td>@user  sirrr getting new one wowwww...  to see this plss take care of urself...love youððâ¤ï¸â¤ï¸â¤ï¸â¤ï¸</td>\n",
       "      <td>3</td>\n",
       "      <td>0</td>\n",
       "      <td>0</td>\n",
       "      <td>0</td>\n",
       "      <td>1</td>\n",
       "    </tr>\n",
       "  </tbody>\n",
       "</table>\n",
       "</div>"
      ],
      "text/plain": [
       "       label  \\\n",
       "id             \n",
       "1112       0   \n",
       "6376       0   \n",
       "8085       0   \n",
       "8485       0   \n",
       "8661       0   \n",
       "25746      0   \n",
       "\n",
       "                                                                                                                                         tweet  \\\n",
       "id                                                                                                                                               \n",
       "1112                                               #fly   #and #better #with #us #buranus  #www.flybcc.com #call #7/24  #airbroker #flightâ¦    \n",
       "6376                                                                             #isitthursdayyet? it's not? awwww... #criticalrole   #critter   \n",
       "8085                                                                                    couple having sex www.drunk singapore girl get fuck      \n",
       "8485   so glad my #workout includes smoke breaks...www.smokeweedeatbacon.com #weed #bacon #fitness #sex #health #marijuana   #strength #living   \n",
       "8661                                           @user just run 10kms for @user @user   #loveisall  pour donner: www.alvarum/heloiseetlespremas    \n",
       "25746                 @user  sirrr getting new one wowwww...  to see this plss take care of urself...love youððâ¤ï¸â¤ï¸â¤ï¸â¤ï¸    \n",
       "\n",
       "       stopwords  hashtags  upper_case  html_tag_count  url_count  \n",
       "id                                                                 \n",
       "1112           0        11           0               0          1  \n",
       "6376           1         3           0               0          1  \n",
       "8085           1         0           0               0          1  \n",
       "8485           2         9           0               0          1  \n",
       "8661           2         1           0               0          1  \n",
       "25746          3         0           0               0          1  "
      ]
     },
     "execution_count": 17,
     "metadata": {},
     "output_type": "execute_result"
    }
   ],
   "source": [
    "def find_urls(df):\n",
    "    df['url_count'] = df['tweet'].apply(identify_urls)\n",
    "    return df\n",
    "\n",
    "\n",
    "df_raw = find_urls(df_raw)\n",
    "df_raw[df_raw['url_count'] > 0]"
   ]
  },
  {
   "cell_type": "markdown",
   "metadata": {},
   "source": [
    "##### 1.2.6 Überprüfung von oft auftretenden Wörter im Text"
   ]
  },
  {
   "cell_type": "code",
   "execution_count": 18,
   "metadata": {},
   "outputs": [
    {
     "data": {
      "image/png": "[encoded data removed]",
      "text/plain": [
       "<Figure size 800x200 with 1 Axes>"
      ]
     },
     "metadata": {},
     "output_type": "display_data"
    }
   ],
   "source": [
    "freq_words = pd.Series(' '.join(df_raw['tweet']).split()).value_counts()[:10]\n",
    "\n",
    "words = freq_words.index\n",
    "counts = freq_words.values\n",
    "plt.figure(figsize=(8, 2))\n",
    "plt.bar(words, counts, color='skyblue')\n",
    "\n",
    "plt.xticks(rotation=20)\n",
    "plt.tight_layout()\n",
    "plt.show()\n"
   ]
  },
  {
   "cell_type": "markdown",
   "metadata": {},
   "source": [
    "##### 1.2.7 Überprüfung von shortcuts/slangs im Text"
   ]
  },
  {
   "cell_type": "code",
   "execution_count": 19,
   "metadata": {},
   "outputs": [],
   "source": [
    "def expand_shortcuts(text):\n",
    "    new_text = []\n",
    "    for w in text.split():\n",
    "        if w.upper() in shortcuts:\n",
    "            new_text.append(shortcuts[w.upper()])\n",
    "            return new_text\n",
    "        else:\n",
    "            None\n",
    "\n",
    "\n",
    "def find_shortcuts(df):\n",
    "    df['expanded_shortcut'] = df['tweet'].apply(lambda x: expand_shortcuts(x))\n",
    "    return df"
   ]
  },
  {
   "cell_type": "code",
   "execution_count": 20,
   "metadata": {},
   "outputs": [
    {
     "data": {
      "text/html": [
       "<div>\n",
       "<style scoped>\n",
       "    .dataframe tbody tr th:only-of-type {\n",
       "        vertical-align: middle;\n",
       "    }\n",
       "\n",
       "    .dataframe tbody tr th {\n",
       "        vertical-align: top;\n",
       "    }\n",
       "\n",
       "    .dataframe thead th {\n",
       "        text-align: right;\n",
       "    }\n",
       "</style>\n",
       "<table border=\"1\" class=\"dataframe\">\n",
       "  <thead>\n",
       "    <tr style=\"text-align: right;\">\n",
       "      <th></th>\n",
       "      <th>tweet</th>\n",
       "      <th>expanded_shortcut</th>\n",
       "    </tr>\n",
       "    <tr>\n",
       "      <th>id</th>\n",
       "      <th></th>\n",
       "      <th></th>\n",
       "    </tr>\n",
       "  </thead>\n",
       "  <tbody>\n",
       "    <tr>\n",
       "      <th>4</th>\n",
       "      <td>#model   i love u take with u all the time in urð±!!! ððððð¦ð¦ð¦</td>\n",
       "      <td>[You]</td>\n",
       "    </tr>\n",
       "    <tr>\n",
       "      <th>19</th>\n",
       "      <td>its #friday! ð smiles all around via ig user: @user #cookies make people</td>\n",
       "      <td>[Instagram]</td>\n",
       "    </tr>\n",
       "    <tr>\n",
       "      <th>47</th>\n",
       "      <td>#model   i love u take with u all the time in urð±!!! ððððð¦ð¦ð¦</td>\n",
       "      <td>[You]</td>\n",
       "    </tr>\n",
       "    <tr>\n",
       "      <th>48</th>\n",
       "      <td>#whenever im   and #something goes #wrong  |</td>\n",
       "      <td>[Instant Message]</td>\n",
       "    </tr>\n",
       "    <tr>\n",
       "      <th>97</th>\n",
       "      <td>#model   i love u take with u all the time in urð±!!! ððððð¦ð¦ð¦</td>\n",
       "      <td>[You]</td>\n",
       "    </tr>\n",
       "    <tr>\n",
       "      <th>...</th>\n",
       "      <td>...</td>\n",
       "      <td>...</td>\n",
       "    </tr>\n",
       "    <tr>\n",
       "      <th>10089</th>\n",
       "      <td>hourglass x  #love #life   #beautiful #picoftheday #lovelovelove #me #us #travel #peaceâ¦</td>\n",
       "      <td>[Previously Named Twitter]</td>\n",
       "    </tr>\n",
       "    <tr>\n",
       "      <th>10101</th>\n",
       "      <td>when u up ya request get handled off gp!   #onlymoneytalks</td>\n",
       "      <td>[You]</td>\n",
       "    </tr>\n",
       "    <tr>\n",
       "      <th>10133</th>\n",
       "      <td>im done this gurl betta get my faceððð</td>\n",
       "      <td>[Instant Message]</td>\n",
       "    </tr>\n",
       "    <tr>\n",
       "      <th>10145</th>\n",
       "      <td>@user @user u look like the guy who looks like you,</td>\n",
       "      <td>[You]</td>\n",
       "    </tr>\n",
       "    <tr>\n",
       "      <th>10148</th>\n",
       "      <td>bc #hamilton. it's lit #tonyawards</td>\n",
       "      <td>[Because]</td>\n",
       "    </tr>\n",
       "  </tbody>\n",
       "</table>\n",
       "<p>500 rows × 2 columns</p>\n",
       "</div>"
      ],
      "text/plain": [
       "                                                                                             tweet  \\\n",
       "id                                                                                                   \n",
       "4           #model   i love u take with u all the time in urð±!!! ðððð\n",
       "ð¦ð¦ð¦     \n",
       "19                  its #friday! ð smiles all around via ig user: @user #cookies make people      \n",
       "47          #model   i love u take with u all the time in urð±!!! ðððð\n",
       "ð¦ð¦ð¦     \n",
       "48                                                  #whenever im   and #something goes #wrong  |     \n",
       "97          #model   i love u take with u all the time in urð±!!! ðððð\n",
       "ð¦ð¦ð¦     \n",
       "...                                                                                            ...   \n",
       "10089  hourglass x  #love #life   #beautiful #picoftheday #lovelovelove #me #us #travel #peaceâ¦    \n",
       "10101                                   when u up ya request get handled off gp!   #onlymoneytalks   \n",
       "10133                                             im done this gurl betta get my faceððð    \n",
       "10145                                        @user @user u look like the guy who looks like you,     \n",
       "10148                                                           bc #hamilton. it's lit #tonyawards   \n",
       "\n",
       "                expanded_shortcut  \n",
       "id                                 \n",
       "4                           [You]  \n",
       "19                    [Instagram]  \n",
       "47                          [You]  \n",
       "48              [Instant Message]  \n",
       "97                          [You]  \n",
       "...                           ...  \n",
       "10089  [Previously Named Twitter]  \n",
       "10101                       [You]  \n",
       "10133           [Instant Message]  \n",
       "10145                       [You]  \n",
       "10148                   [Because]  \n",
       "\n",
       "[500 rows x 2 columns]"
      ]
     },
     "execution_count": 20,
     "metadata": {},
     "output_type": "execute_result"
    }
   ],
   "source": [
    "df_raw = find_shortcuts(df_raw)\n",
    "df_result = df_raw[df_raw['expanded_shortcut'].notna()]\n",
    "df_result = df_result[['tweet', 'expanded_shortcut']]\n",
    "df_result.head(500)\n",
    "\n",
    "# Fehlerbehaftete Änderung, z.B. 48 \"im\" statt \"i am\" zu \"Instant Message\""
   ]
  },
  {
   "cell_type": "markdown",
   "metadata": {},
   "source": [
    "##### 1.2.7 Überprüfung von emojis im Text"
   ]
  },
  {
   "cell_type": "code",
   "execution_count": 21,
   "metadata": {},
   "outputs": [
    {
     "data": {
      "text/html": [
       "<div>\n",
       "<style scoped>\n",
       "    .dataframe tbody tr th:only-of-type {\n",
       "        vertical-align: middle;\n",
       "    }\n",
       "\n",
       "    .dataframe tbody tr th {\n",
       "        vertical-align: top;\n",
       "    }\n",
       "\n",
       "    .dataframe thead th {\n",
       "        text-align: right;\n",
       "    }\n",
       "</style>\n",
       "<table border=\"1\" class=\"dataframe\">\n",
       "  <thead>\n",
       "    <tr style=\"text-align: right;\">\n",
       "      <th></th>\n",
       "      <th>tweet</th>\n",
       "      <th>has_emoji</th>\n",
       "    </tr>\n",
       "    <tr>\n",
       "      <th>id</th>\n",
       "      <th></th>\n",
       "      <th></th>\n",
       "    </tr>\n",
       "  </thead>\n",
       "  <tbody>\n",
       "    <tr>\n",
       "      <th>1</th>\n",
       "      <td>@user when a father is dysfunctional and is so selfish he drags his kids into his dysfunction.   #run</td>\n",
       "      <td>False</td>\n",
       "    </tr>\n",
       "    <tr>\n",
       "      <th>2</th>\n",
       "      <td>@user @user thanks for #lyft credit i can't use cause they don't offer wheelchair vans in pdx.    #disapointed #getthanked</td>\n",
       "      <td>False</td>\n",
       "    </tr>\n",
       "    <tr>\n",
       "      <th>3</th>\n",
       "      <td>bihday your majesty</td>\n",
       "      <td>False</td>\n",
       "    </tr>\n",
       "    <tr>\n",
       "      <th>4</th>\n",
       "      <td>#model   i love u take with u all the time in urð±!!! ððððð¦ð¦ð¦</td>\n",
       "      <td>True</td>\n",
       "    </tr>\n",
       "    <tr>\n",
       "      <th>5</th>\n",
       "      <td>factsguide: society now    #motivation</td>\n",
       "      <td>False</td>\n",
       "    </tr>\n",
       "    <tr>\n",
       "      <th>6</th>\n",
       "      <td>[2/2] huge fan fare and big talking before they leave. chaos and pay disputes when they get there. #allshowandnogo</td>\n",
       "      <td>False</td>\n",
       "    </tr>\n",
       "    <tr>\n",
       "      <th>7</th>\n",
       "      <td>@user camping tomorrow @user @user @user @user @user @user @user dannyâ¦</td>\n",
       "      <td>False</td>\n",
       "    </tr>\n",
       "    <tr>\n",
       "      <th>8</th>\n",
       "      <td>the next school year is the year for exams.ð¯ can't think about that ð­ #school #exams   #hate #imagine #actorslife #revolutionschool #girl</td>\n",
       "      <td>True</td>\n",
       "    </tr>\n",
       "    <tr>\n",
       "      <th>9</th>\n",
       "      <td>we won!!! love the land!!! #allin #cavs #champions #cleveland #clevelandcavaliers  â¦</td>\n",
       "      <td>False</td>\n",
       "    </tr>\n",
       "    <tr>\n",
       "      <th>10</th>\n",
       "      <td>@user @user welcome here !  i'm   it's so #gr8 !</td>\n",
       "      <td>False</td>\n",
       "    </tr>\n",
       "    <tr>\n",
       "      <th>11</th>\n",
       "      <td>â #ireland consumer price index (mom) climbed from previous 0.2% to 0.5% in may   #blog #silver #gold #forex</td>\n",
       "      <td>False</td>\n",
       "    </tr>\n",
       "    <tr>\n",
       "      <th>12</th>\n",
       "      <td>we are so selfish. #orlando #standwithorlando #pulseshooting #orlandoshooting #biggerproblems #selfish #heabreaking   #values #love #</td>\n",
       "      <td>False</td>\n",
       "    </tr>\n",
       "    <tr>\n",
       "      <th>13</th>\n",
       "      <td>i get to see my daddy today!!   #80days #gettingfed</td>\n",
       "      <td>False</td>\n",
       "    </tr>\n",
       "    <tr>\n",
       "      <th>14</th>\n",
       "      <td>@user #cnn calls #michigan middle school 'build the wall' chant '' #tcot</td>\n",
       "      <td>False</td>\n",
       "    </tr>\n",
       "    <tr>\n",
       "      <th>15</th>\n",
       "      <td>no comment!  in #australia   #opkillingbay #seashepherd #helpcovedolphins #thecove  #helpcovedolphins</td>\n",
       "      <td>False</td>\n",
       "    </tr>\n",
       "  </tbody>\n",
       "</table>\n",
       "</div>"
      ],
      "text/plain": [
       "                                                                                                                                              tweet  \\\n",
       "id                                                                                                                                                    \n",
       "1                                             @user when a father is dysfunctional and is so selfish he drags his kids into his dysfunction.   #run   \n",
       "2                        @user @user thanks for #lyft credit i can't use cause they don't offer wheelchair vans in pdx.    #disapointed #getthanked   \n",
       "3                                                                                                                               bihday your majesty   \n",
       "4                                                            #model   i love u take with u all the time in urð±!!! ðððð\n",
       "ð¦ð¦ð¦     \n",
       "5                                                                                                            factsguide: society now    #motivation   \n",
       "6                              [2/2] huge fan fare and big talking before they leave. chaos and pay disputes when they get there. #allshowandnogo     \n",
       "7                                                                         @user camping tomorrow @user @user @user @user @user @user @user dannyâ¦   \n",
       "8   the next school year is the year for exams.ð¯ can't think about that ð­ #school #exams   #hate #imagine #actorslife #revolutionschool #girl   \n",
       "9                                                           we won!!! love the land!!! #allin #cavs #champions #cleveland #clevelandcavaliers  â¦    \n",
       "10                                                                                                @user @user welcome here !  i'm   it's so #gr8 !    \n",
       "11                                   â #ireland consumer price index (mom) climbed from previous 0.2% to 0.5% in may   #blog #silver #gold #forex   \n",
       "12            we are so selfish. #orlando #standwithorlando #pulseshooting #orlandoshooting #biggerproblems #selfish #heabreaking   #values #love #   \n",
       "13                                                                                              i get to see my daddy today!!   #80days #gettingfed   \n",
       "14                                                                       @user #cnn calls #michigan middle school 'build the wall' chant '' #tcot     \n",
       "15                                            no comment!  in #australia   #opkillingbay #seashepherd #helpcovedolphins #thecove  #helpcovedolphins   \n",
       "\n",
       "    has_emoji  \n",
       "id             \n",
       "1       False  \n",
       "2       False  \n",
       "3       False  \n",
       "4        True  \n",
       "5       False  \n",
       "6       False  \n",
       "7       False  \n",
       "8        True  \n",
       "9       False  \n",
       "10      False  \n",
       "11      False  \n",
       "12      False  \n",
       "13      False  \n",
       "14      False  \n",
       "15      False  "
      ]
     },
     "execution_count": 21,
     "metadata": {},
     "output_type": "execute_result"
    }
   ],
   "source": [
    "def is_emoji(word):\n",
    "    try:\n",
    "        converted = word.encode('latin1').decode('utf-8')\n",
    "        return any(emoji.is_emoji(char) for char in converted)\n",
    "    except (UnicodeEncodeError, UnicodeDecodeError):\n",
    "        return False\n",
    "\n",
    "    return any(emoji.is_emoji(char) for char in word)\n",
    "\n",
    "\n",
    "def find_emojis(df):\n",
    "    df['has_emoji'] = df['tweet'].apply(lambda x: is_emoji(x))\n",
    "    return df\n",
    "\n",
    "\n",
    "df_raw = find_emojis(df_raw)\n",
    "df_raw[[\"tweet\", \"has_emoji\"]].head(15)"
   ]
  },
  {
   "cell_type": "markdown",
   "metadata": {},
   "source": [
    "##### 1.2.8 Überprüfung von falsch geschriebenen Wörtern im Text"
   ]
  },
  {
   "cell_type": "code",
   "execution_count": 22,
   "metadata": {},
   "outputs": [
    {
     "data": {
      "text/html": [
       "<div>\n",
       "<style scoped>\n",
       "    .dataframe tbody tr th:only-of-type {\n",
       "        vertical-align: middle;\n",
       "    }\n",
       "\n",
       "    .dataframe tbody tr th {\n",
       "        vertical-align: top;\n",
       "    }\n",
       "\n",
       "    .dataframe thead th {\n",
       "        text-align: right;\n",
       "    }\n",
       "</style>\n",
       "<table border=\"1\" class=\"dataframe\">\n",
       "  <thead>\n",
       "    <tr style=\"text-align: right;\">\n",
       "      <th></th>\n",
       "      <th>tweet</th>\n",
       "      <th>misspelled_words</th>\n",
       "    </tr>\n",
       "    <tr>\n",
       "      <th>id</th>\n",
       "      <th></th>\n",
       "      <th></th>\n",
       "    </tr>\n",
       "  </thead>\n",
       "  <tbody>\n",
       "    <tr>\n",
       "      <th>1</th>\n",
       "      <td>@user when a father is dysfunctional and is so selfish he drags his kids into his dysfunction.   #run</td>\n",
       "      <td>[]</td>\n",
       "    </tr>\n",
       "    <tr>\n",
       "      <th>2</th>\n",
       "      <td>@user @user thanks for #lyft credit i can't use cause they don't offer wheelchair vans in pdx.    #disapointed #getthanked</td>\n",
       "      <td>[]</td>\n",
       "    </tr>\n",
       "    <tr>\n",
       "      <th>3</th>\n",
       "      <td>bihday your majesty</td>\n",
       "      <td>[bihday]</td>\n",
       "    </tr>\n",
       "    <tr>\n",
       "      <th>4</th>\n",
       "      <td>#model   i love u take with u all the time in urð±!!! ððððð¦ð¦ð¦</td>\n",
       "      <td>[]</td>\n",
       "    </tr>\n",
       "    <tr>\n",
       "      <th>5</th>\n",
       "      <td>factsguide: society now    #motivation</td>\n",
       "      <td>[]</td>\n",
       "    </tr>\n",
       "    <tr>\n",
       "      <th>...</th>\n",
       "      <td>...</td>\n",
       "      <td>...</td>\n",
       "    </tr>\n",
       "    <tr>\n",
       "      <th>31958</th>\n",
       "      <td>ate @user isz that youuu?ðððððððððâ¤ï¸</td>\n",
       "      <td>[]</td>\n",
       "    </tr>\n",
       "    <tr>\n",
       "      <th>31959</th>\n",
       "      <td>to see nina turner on the airwaves trying to wrap herself in the mantle of a genuine hero like shirley chisolm. #shame #imwithher</td>\n",
       "      <td>[]</td>\n",
       "    </tr>\n",
       "    <tr>\n",
       "      <th>31960</th>\n",
       "      <td>listening to sad songs on a monday morning otw to work is sad</td>\n",
       "      <td>[monday, otw]</td>\n",
       "    </tr>\n",
       "    <tr>\n",
       "      <th>31961</th>\n",
       "      <td>@user #sikh #temple vandalised in in #calgary, #wso condemns  act</td>\n",
       "      <td>[vandalised]</td>\n",
       "    </tr>\n",
       "    <tr>\n",
       "      <th>31962</th>\n",
       "      <td>thank you @user for you follow</td>\n",
       "      <td>[]</td>\n",
       "    </tr>\n",
       "  </tbody>\n",
       "</table>\n",
       "<p>31962 rows × 2 columns</p>\n",
       "</div>"
      ],
      "text/plain": [
       "                                                                                                                                     tweet  \\\n",
       "id                                                                                                                                           \n",
       "1                                    @user when a father is dysfunctional and is so selfish he drags his kids into his dysfunction.   #run   \n",
       "2               @user @user thanks for #lyft credit i can't use cause they don't offer wheelchair vans in pdx.    #disapointed #getthanked   \n",
       "3                                                                                                                      bihday your majesty   \n",
       "4                                                   #model   i love u take with u all the time in urð±!!! ðððð\n",
       "ð¦ð¦ð¦     \n",
       "5                                                                                                   factsguide: society now    #motivation   \n",
       "...                                                                                                                                    ...   \n",
       "31958                                                                 ate @user isz that youuu?ðððððððððâ¤ï¸    \n",
       "31959    to see nina turner on the airwaves trying to wrap herself in the mantle of a genuine hero like shirley chisolm. #shame #imwithher   \n",
       "31960                                                                      listening to sad songs on a monday morning otw to work is sad     \n",
       "31961                                                                  @user #sikh #temple vandalised in in #calgary, #wso condemns  act     \n",
       "31962                                                                                                     thank you @user for you follow     \n",
       "\n",
       "      misspelled_words  \n",
       "id                      \n",
       "1                   []  \n",
       "2                   []  \n",
       "3             [bihday]  \n",
       "4                   []  \n",
       "5                   []  \n",
       "...                ...  \n",
       "31958               []  \n",
       "31959               []  \n",
       "31960    [monday, otw]  \n",
       "31961     [vandalised]  \n",
       "31962               []  \n",
       "\n",
       "[31962 rows x 2 columns]"
      ]
     },
     "execution_count": 22,
     "metadata": {},
     "output_type": "execute_result"
    }
   ],
   "source": [
    "spell = SpellChecker()\n",
    "\n",
    "\n",
    "def identify_misspelled_words(text):\n",
    "    text = re.sub(r\".*[_.!$%^&*()<>?/\\|}{~:].*\", '', text)\n",
    "    try:\n",
    "        converted = text.encode('latin1').decode('utf-8')\n",
    "    except (UnicodeEncodeError, UnicodeDecodeError):\n",
    "        converted = text\n",
    "    words = converted.split()\n",
    "\n",
    "    misspelled = [\n",
    "        word for word in words\n",
    "        if not any(emoji.is_emoji(char) for char in word)  # Ignoriere Emojis\n",
    "           and not word.startswith('@')  # Ignoriere Wörter, die mit @ beginnen\n",
    "           and not word.startswith('#')  # Ignoriere Wörter, die mit # beginnen\n",
    "           and word in spell.unknown([word])  # Führe Rechtschreibprüfung auf verbleibende Wörter durch\n",
    "           and not word.endswith('!')\n",
    "           and not word.endswith(']')\n",
    "           and not word.startswith('[')\n",
    "    ]\n",
    "    return misspelled\n",
    "\n",
    "\n",
    "def find_misspelled_words(df):\n",
    "    df['misspelled_words'] = df['tweet'].apply(identify_misspelled_words)\n",
    "    return df\n",
    "\n",
    "\n",
    "df_raw = find_misspelled_words(df_raw)\n",
    "df_raw[['tweet', 'misspelled_words']]"
   ]
  },
  {
   "cell_type": "markdown",
   "metadata": {},
   "source": [
    "##### 1.2.9 Überprüfung Anzahl der Wörter in Tweets"
   ]
  },
  {
   "cell_type": "code",
   "execution_count": 23,
   "metadata": {},
   "outputs": [],
   "source": [
    "def word_count(df):\n",
    "    df['count_of_words'] = df['tweet'].apply(lambda x: len(str(x).split(\" \")))\n",
    "    return df\n",
    "\n",
    "\n",
    "df_raw = word_count(df_raw)"
   ]
  },
  {
   "cell_type": "code",
   "execution_count": 24,
   "metadata": {},
   "outputs": [
    {
     "data": {
      "image/png": "[encoded data removed]",
      "text/plain": [
       "<Figure size 640x480 with 1 Axes>"
      ]
     },
     "metadata": {},
     "output_type": "display_data"
    },
    {
     "data": {
      "text/plain": [
       "<Figure size 400x200 with 0 Axes>"
      ]
     },
     "metadata": {},
     "output_type": "display_data"
    }
   ],
   "source": [
    "df_raw = word_count(df_raw)\n",
    "\n",
    "sns.histplot(df_raw['count_of_words'])\n",
    "\n",
    "plt.title('Word Count of all Tweets')\n",
    "\n",
    "plt.xlabel('Word Count')\n",
    "plt.ylabel('Number of Tweets')\n",
    "plt.figure(figsize=(4, 2))\n",
    "plt.show()"
   ]
  },
  {
   "cell_type": "markdown",
   "metadata": {},
   "source": [
    "### 1.3 Ausreißerprüfung"
   ]
  },
  {
   "cell_type": "code",
   "execution_count": 25,
   "metadata": {},
   "outputs": [
    {
     "name": "stdout",
     "output_type": "stream",
     "text": [
      "\n",
      "Column:  count_of_words\n",
      "Mean:  16.048182216381953 ; Std:  5.395800656851071\n",
      "Outlier:  24 ; Values:  [33, 33, 33, 33, 33, 33, 33, 33, 34, 34, 34, 34, 34, 34, 35, 35, 35, 36, 36, 38, 39, 40, 42, 43]\n"
     ]
    }
   ],
   "source": [
    "def find_outlier(data):\n",
    "    for num_col in data.select_dtypes([\"number\"]).columns:\n",
    "        sd = data[num_col].std()\n",
    "        mean = data[num_col].mean()\n",
    "        result = [out for out in data[num_col] if (out > mean + 3 * sd) or (out < mean - 3 * sd)]\n",
    "        print()\n",
    "        print(\"Column: \", num_col)\n",
    "        print(\"Mean: \", mean, \"; Std: \", sd)\n",
    "        print(\"Outlier: \", len(result), \"; Values: \", sorted(result))\n",
    "\n",
    "find_outlier(df_raw[['count_of_words']])"
   ]
  },
  {
   "cell_type": "code",
   "execution_count": 27,
   "metadata": {},
   "outputs": [],
   "source": [
    "porter = PorterStemmer()\n",
    "snow = SnowballStemmer(\"english\")\n",
    "word_net = WordNetLemmatizer()\n",
    "\n",
    "\n",
    "def find_words(col):\n",
    "    cnt = Counter()\n",
    "    for text in col.values:\n",
    "        for word in text.split():\n",
    "            word = re.sub('[^A-Za-z]+', '', word)\n",
    "            if len(word) == 7:\n",
    "                cnt[word] += 1\n",
    "\n",
    "    return cnt\n",
    "\n",
    "\n",
    "counter = find_words(df_raw[\"tweet\"])\n",
    "words = set([w for (w, wc) in counter.most_common(100)])"
   ]
  }
 ],
 "metadata": {
  "kernelspec": {
   "display_name": "Python 3",
   "language": "python",
   "name": "python3"
  },
  "language_info": {
   "codemirror_mode": {
    "name": "ipython",
    "version": 3
   },
   "file_extension": ".py",
   "mimetype": "text/x-python",
   "name": "python",
   "nbconvert_exporter": "python",
   "pygments_lexer": "ipython3",
   "version": "3.11.9"
  }
 },
 "nbformat": 4,
 "nbformat_minor": 2
}
