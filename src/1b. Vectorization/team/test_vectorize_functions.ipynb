{
 "cells": [
  {
   "cell_type": "code",
   "execution_count": 1,
   "id": "b7365739-9c64-412a-a58d-247977459bca",
   "metadata": {},
   "outputs": [],
   "source": [
    "import pandas as pd\n",
    "import numpy as np\n",
    "from pathlib import Path\n",
    "import os\n",
    "from sklearn.linear_model import LogisticRegression\n",
    "import matplotlib.pyplot as plt\n",
    "import seaborn as sns\n",
    "from sklearn.metrics import accuracy_score, precision_score, recall_score, f1_score\n",
    "from sklearn.naive_bayes import MultinomialNB \n",
    "from sklearn.naive_bayes import GaussianNB \n",
    "from sklearn.naive_bayes import ComplementNB "
   ]
  },
  {
   "cell_type": "code",
   "execution_count": 2,
   "id": "07234b04-a943-49b5-9ad4-7cb699d5e675",
   "metadata": {},
   "outputs": [],
   "source": [
    "%run ../../functions/vectorize_functions.py"
   ]
  },
  {
   "cell_type": "code",
   "execution_count": 3,
   "id": "ea08714b-6e38-4dfa-8330-07dfb1f7511e",
   "metadata": {},
   "outputs": [],
   "source": [
    "filepath_name = (('../../../data/twitter_hate-speech/train_cleaned.csv'))\n",
    "df_cleaned = pd.read_csv(filepath_name, encoding='utf-8')\n"
   ]
  },
  {
   "cell_type": "code",
   "execution_count": 4,
   "id": "45525e8f-e41f-477e-ada0-a7a0611d633a",
   "metadata": {},
   "outputs": [
    {
     "data": {
      "text/html": [
       "<div>\n",
       "<style scoped>\n",
       "    .dataframe tbody tr th:only-of-type {\n",
       "        vertical-align: middle;\n",
       "    }\n",
       "\n",
       "    .dataframe tbody tr th {\n",
       "        vertical-align: top;\n",
       "    }\n",
       "\n",
       "    .dataframe thead th {\n",
       "        text-align: right;\n",
       "    }\n",
       "</style>\n",
       "<table border=\"1\" class=\"dataframe\">\n",
       "  <thead>\n",
       "    <tr style=\"text-align: right;\">\n",
       "      <th></th>\n",
       "      <th>id</th>\n",
       "      <th>label</th>\n",
       "      <th>tweet</th>\n",
       "      <th>tweet_cleaned</th>\n",
       "      <th>user_handle</th>\n",
       "      <th>hashtags</th>\n",
       "      <th>emojis</th>\n",
       "    </tr>\n",
       "  </thead>\n",
       "  <tbody>\n",
       "    <tr>\n",
       "      <th>0</th>\n",
       "      <td>8886</td>\n",
       "      <td>0</td>\n",
       "      <td>@user #cinemaaawards final rehearsals!! geari...</td>\n",
       "      <td>cinema award final rehearsal gear evening butt...</td>\n",
       "      <td>1</td>\n",
       "      <td>['#cinemaaawards', '#butterflies', '#stage']</td>\n",
       "      <td>NaN</td>\n",
       "    </tr>\n",
       "    <tr>\n",
       "      <th>1</th>\n",
       "      <td>909</td>\n",
       "      <td>0</td>\n",
       "      <td>istg this is the best cheese ta but dayum expe...</td>\n",
       "      <td>tg good cheese day um expensive</td>\n",
       "      <td>0</td>\n",
       "      <td>[]</td>\n",
       "      <td>NaN</td>\n",
       "    </tr>\n",
       "    <tr>\n",
       "      <th>2</th>\n",
       "      <td>27613</td>\n",
       "      <td>0</td>\n",
       "      <td>this was amazing. the weather was not. #musica...</td>\n",
       "      <td>amazing weather musical london matilda west en...</td>\n",
       "      <td>0</td>\n",
       "      <td>['#musical', '#london', '#matilda', '#westend'...</td>\n",
       "      <td>NaN</td>\n",
       "    </tr>\n",
       "    <tr>\n",
       "      <th>3</th>\n",
       "      <td>15999</td>\n",
       "      <td>0</td>\n",
       "      <td>yes! #talented #sexy   ‘criminal minds’ casts ...</td>\n",
       "      <td>yes talented sexy ' criminal mind ' cast serie...</td>\n",
       "      <td>2</td>\n",
       "      <td>['#talented', '#sexy']</td>\n",
       "      <td>NaN</td>\n",
       "    </tr>\n",
       "    <tr>\n",
       "      <th>4</th>\n",
       "      <td>23817</td>\n",
       "      <td>0</td>\n",
       "      <td>want to be   while being #successful? see how ...</td>\n",
       "      <td>want successful see work life balance help</td>\n",
       "      <td>2</td>\n",
       "      <td>['#successful', '#worklifebalance']</td>\n",
       "      <td>NaN</td>\n",
       "    </tr>\n",
       "  </tbody>\n",
       "</table>\n",
       "</div>"
      ],
      "text/plain": [
       "      id  label                                              tweet  \\\n",
       "0   8886      0   @user #cinemaaawards final rehearsals!! geari...   \n",
       "1    909      0  istg this is the best cheese ta but dayum expe...   \n",
       "2  27613      0  this was amazing. the weather was not. #musica...   \n",
       "3  15999      0  yes! #talented #sexy   ‘criminal minds’ casts ...   \n",
       "4  23817      0  want to be   while being #successful? see how ...   \n",
       "\n",
       "                                       tweet_cleaned  user_handle  \\\n",
       "0  cinema award final rehearsal gear evening butt...            1   \n",
       "1                    tg good cheese day um expensive            0   \n",
       "2  amazing weather musical london matilda west en...            0   \n",
       "3  yes talented sexy ' criminal mind ' cast serie...            2   \n",
       "4         want successful see work life balance help            2   \n",
       "\n",
       "                                            hashtags emojis  \n",
       "0       ['#cinemaaawards', '#butterflies', '#stage']    NaN  \n",
       "1                                                 []    NaN  \n",
       "2  ['#musical', '#london', '#matilda', '#westend'...    NaN  \n",
       "3                             ['#talented', '#sexy']    NaN  \n",
       "4                ['#successful', '#worklifebalance']    NaN  "
      ]
     },
     "execution_count": 4,
     "metadata": {},
     "output_type": "execute_result"
    }
   ],
   "source": [
    "df_cleaned.head()"
   ]
  },
  {
   "cell_type": "markdown",
   "id": "511c9fbc-5912-4276-a55c-ac710add1824",
   "metadata": {},
   "source": [
    "### TF-IDF"
   ]
  },
  {
   "cell_type": "code",
   "execution_count": 5,
   "id": "78ec595f-63ac-4d6c-9236-30717940c28a",
   "metadata": {},
   "outputs": [
    {
     "name": "stdout",
     "output_type": "stream",
     "text": [
      "Trainingsdaten (TF-IDF-Matrix):\n",
      "[[0. 0. 0. ... 0. 0. 0.]\n",
      " [0. 0. 0. ... 0. 0. 0.]\n",
      " [0. 0. 0. ... 0. 0. 0.]\n",
      " ...\n",
      " [0. 0. 0. ... 0. 0. 0.]\n",
      " [0. 0. 0. ... 0. 0. 0.]\n",
      " [0. 0. 0. ... 0. 0. 0.]]\n"
     ]
    }
   ],
   "source": [
    "X_train_tfidf, X_test_tfidf, y_train, y_test = vectorize_tfidf(df=df_cleaned, text_column='tweet_cleaned', \n",
    "                                                                                 label_column=\"label\")\n",
    "\n",
    "print(\"Trainingsdaten (TF-IDF-Matrix):\")\n",
    "print(X_train_tfidf.toarray())\n"
   ]
  },
  {
   "cell_type": "markdown",
   "id": "4aafb061-f52b-4b1f-b8b8-dcb5a82a8e41",
   "metadata": {},
   "source": [
    "### Word2Vec"
   ]
  },
  {
   "cell_type": "code",
   "execution_count": 6,
   "id": "de8733cd-6b7f-4770-9d17-cff4ff6c66a0",
   "metadata": {},
   "outputs": [
    {
     "name": "stdout",
     "output_type": "stream",
     "text": [
      "Erste Trainingsvektoren:\n",
      "[[ 0.00652728  0.11428348 -0.32537743 ... -0.23050305  0.16763618\n",
      "  -0.05160633]\n",
      " [-0.13225631  0.42661294 -0.46917854 ...  0.10285608  0.45504973\n",
      "  -0.19146243]\n",
      " [-0.29598839  0.6837555   0.07658822 ...  0.0296613  -0.166169\n",
      "  -0.244595  ]\n",
      " [ 0.04911207  0.26674416  0.17452751 ...  0.05247262 -0.06772295\n",
      "   0.19960055]\n",
      " [-0.09670481  0.45893671 -0.07881605 ... -0.20681201  0.18679781\n",
      "  -0.43109825]]\n"
     ]
    }
   ],
   "source": [
    "X_train_w2v, X_test_w2v, y_train, y_test = vectorize_w2v(df=df_cleaned, text_column =\"tweet_cleaned\", label_column=\"label\")\n",
    "\n",
    "print(\"Erste Trainingsvektoren:\")\n",
    "print(X_train_w2v[:5])"
   ]
  },
  {
   "cell_type": "markdown",
   "id": "6e5c5e4a-8e48-496d-ae0e-a9ec7507dcdc",
   "metadata": {},
   "source": [
    "### Glove"
   ]
  },
  {
   "cell_type": "code",
   "execution_count": 7,
   "id": "d4045b08-8a0c-49c3-b469-9296a4e8d00c",
   "metadata": {
    "scrolled": true
   },
   "outputs": [
    {
     "name": "stdout",
     "output_type": "stream",
     "text": [
      "Erste Trainingsvektoren:\n",
      "[[-5.83995998e-01 -4.50814003e-01 -1.03520198e-01 -1.30443999e-01\n",
      "   8.65138965e-02  1.92340046e-02  4.19601603e-01  4.56660032e-02\n",
      "   4.20637989e-01 -1.18462005e-01 -1.39499593e-01  8.61491919e-02\n",
      "  -3.47116003e+00 -1.50919002e-01  4.83726099e-02  2.30306988e-01\n",
      "   5.17714187e-01 -3.99389197e-01 -2.11020052e-02 -1.67889399e-01\n",
      "  -1.19136802e-01  1.32564001e-01 -2.94382000e-01  3.61499602e-01\n",
      "  -1.52469986e-02 -2.05316995e-01 -9.06082049e-02 -3.53236020e-02\n",
      "   6.21600002e-03 -2.92328000e-01  1.01960000e-01  4.52970803e-01\n",
      "  -3.02588001e-01  1.45708202e-01 -2.79505803e-01 -3.61108405e-01\n",
      "  -3.34476000e-01 -4.75484607e-01  2.32840002e-01  7.72225988e-01\n",
      "  -7.27289987e-01 -5.37127987e-02 -2.82940000e-01 -1.96698396e-01\n",
      "   3.61826001e-01  1.10159996e-01  2.19800001e-01  5.36157990e-01\n",
      "  -1.07716401e-01 -2.39284000e-01 -6.84846969e-01 -8.33071977e-02\n",
      "  -1.78484796e-01  1.02971399e-01  1.37479798e-01 -1.09308004e-02\n",
      "   3.91069996e-01 -6.16579987e-02  3.92153399e-01 -1.82233797e-01\n",
      "  -7.32046008e-01 -3.64286005e-01  2.39200294e-03  9.89969370e-02\n",
      "   3.65462607e-01 -5.64461499e-01 -1.21549003e-01 -3.36003934e-01\n",
      "   6.20607996e-01  3.00966804e-01  4.17917997e-01 -1.88462006e-01\n",
      "  -1.96253803e-01  2.75354013e-02  3.81555989e-02  1.33998799e-01\n",
      "  -1.33227193e-01 -1.42302001e-01  4.47676003e-01  8.85334810e-01\n",
      "   1.76408002e+00 -6.74524084e-02 -5.90666020e-01 -3.23241997e-01\n",
      "   1.27524596e-01  2.28528030e-02 -1.15886000e-01 -6.29039779e-03\n",
      "  -2.14611158e-01 -9.05256033e-02 -2.39139944e-03  9.94439960e-02\n",
      "   6.20700061e-02 -1.16175398e-01  1.45824401e-01  4.80750009e-02\n",
      "  -5.91908188e-01  1.69659972e-02 -3.39432594e-01  5.35459995e-02]\n",
      " [-1.28710298e-01 -1.04341000e-01  1.38835943e-01 -1.69322451e-02\n",
      "   3.17403991e-02  1.74655650e-01  4.33160897e-01 -5.18564321e-03\n",
      "  -3.88911102e-01  7.45999813e-03 -1.25031405e-01  1.29784101e-01\n",
      "  -3.44965004e+00  1.14528398e-01 -9.12993006e-02 -9.58868027e-02\n",
      "  -1.22014814e-01  1.44358895e-01 -3.50874801e-01 -1.27217690e-02\n",
      "  -1.63043402e-01 -1.46765703e-01 -1.27927028e-02  9.67638019e-02\n",
      "   1.63740996e-01 -5.10329901e-01 -1.04324497e-01 -1.51519301e-01\n",
      "   1.72037403e-01 -7.37878975e-02 -4.03624892e-01 -4.28685792e-02\n",
      "  -3.33195300e-01  1.84993798e-01  2.23995952e-01  3.64080889e-01\n",
      "   2.37436400e-01  8.97472918e-02  4.02030845e-02  2.66355200e-01\n",
      "  -7.10546002e-01  1.23395299e-01  1.54043980e-02 -2.87152542e-02\n",
      "   3.61978002e-01  3.40649003e-01  3.49904049e-02  1.38583395e-01\n",
      "  -2.75938800e-01  2.36196980e-02 -6.76461063e-02  2.15966114e-02\n",
      "   2.77180601e-01  1.01980301e-01  1.10366301e-01 -1.54692694e-01\n",
      "   2.04266795e-01  8.63168951e-02  6.39676031e-02 -1.07560953e-01\n",
      "  -1.53301955e-01 -3.50335978e-02  1.26838445e-01 -7.69950047e-02\n",
      "  -8.11419025e-02 -3.41184001e-01 -1.23716125e-01 -1.33758497e-01\n",
      "   1.75849500e-01 -2.32401296e-01  1.87113304e-01  6.16461260e-02\n",
      "  -2.10544951e-02  1.64827898e-01  1.43028699e-01 -1.76079303e-01\n",
      "  -1.04808000e-01  1.21736498e-01  1.14984095e-01 -2.61580394e-01\n",
      "   1.78184302e+00 -8.02340142e-02  6.91222998e-02  8.38790350e-03\n",
      "   2.81038991e-01 -7.64535006e-02 -1.77649000e-01  2.90034474e-01\n",
      "   8.33359948e-02  9.81503941e-02 -1.18167099e-01  3.10639871e-01\n",
      "   2.69451020e-02 -1.90435801e-01  9.35878049e-02  1.13259596e-01\n",
      "   1.63506398e-01  2.22924183e-01  7.98089830e-03 -2.90725002e-01]\n",
      " [ 2.00860847e-01  2.92422734e-02  7.52982738e-02  2.76970274e-01\n",
      "   5.47199967e-03  2.23672492e-03  5.18227098e-01  3.31009870e-01\n",
      "   7.79818202e-02 -1.39598911e-01 -7.86590962e-02  6.82381747e-02\n",
      "  -4.12847272e+00 -2.46368172e-02  4.51136380e-03  4.74536369e-01\n",
      "   4.76518199e-02 -1.91941478e-01 -2.53132361e-01  3.75720928e-02\n",
      "   1.23429628e-01 -1.78149093e-01 -1.92218365e-01 -4.69055460e-02\n",
      "   2.41947546e-01 -1.63065912e-01 -4.14755465e-02  2.88618126e-02\n",
      "   1.80257907e-01 -4.86662176e-01 -3.06187456e-01 -1.29317914e-01\n",
      "  -1.82842632e-01  1.17396731e-01  1.63994270e-01  4.62437547e-01\n",
      "   2.52988188e-01 -1.01395092e-01 -2.23553795e-01  1.33926819e-01\n",
      "  -4.92042726e-01  1.32266357e-01  7.79781853e-02  2.86519635e-01\n",
      "   2.68705723e-01 -1.47175454e-01  4.14006992e-01 -4.15253368e-03\n",
      "  -7.18954524e-02  3.97083186e-02 -2.38144997e-01  1.33190724e-01\n",
      "  -1.31773551e-01 -3.15001093e-01  2.67671450e-01  6.73618188e-02\n",
      "   1.43111782e-02  6.39518154e-02  2.20244548e-01 -7.38427244e-02\n",
      "  -6.80490719e-03 -1.88299700e-01  2.88897543e-01 -1.30017358e-01\n",
      "   1.65181270e-01  6.42038157e-02 -2.63028546e-01  5.83609058e-03\n",
      "  -2.02009996e-01  1.37046819e-01  1.66963179e-01 -2.43200913e-01\n",
      "   1.11975912e-01 -1.11325353e-01  5.51224541e-01 -8.80622715e-02\n",
      "  -6.37384205e-02 -1.22233089e-01 -1.67275726e-01  2.13694456e-01\n",
      "   1.53540998e+00  3.30601822e-01 -3.10482288e-03  2.16729454e-01\n",
      "   1.85793667e-02  1.10264636e-01 -2.14284457e-01  2.96592183e-01\n",
      "   6.27039941e-02  3.99338186e-02  1.27526818e-01 -2.95499367e-01\n",
      "   1.81035982e-01  1.40613372e-01 -2.79952726e-02 -8.42349136e-02\n",
      "  -5.14514492e-02 -1.04393786e-03 -2.39632814e-01 -1.62062729e-01]\n",
      " [ 1.56827003e-01 -1.57799199e-01  4.47977990e-02 -2.79296190e-04\n",
      "  -3.77111945e-02 -1.37658999e-01  6.62465975e-02  1.27947496e-01\n",
      "   4.10543051e-02 -3.80691993e-01 -3.06216472e-01 -1.28357998e-01\n",
      "  -2.92167168e+00 -7.64045967e-02 -7.28266999e-02 -1.55180004e-01\n",
      "   8.77939977e-02 -8.08145002e-02  4.25330028e-02 -2.89593002e-02\n",
      "   2.02479997e-01 -2.48500001e-01  1.20991504e-01  6.64366953e-02\n",
      "   2.27111500e-01 -5.48138116e-01 -1.80764385e-01 -1.73296299e-01\n",
      "   1.93405998e-01 -1.04443897e-01 -1.20074402e-01  5.89124978e-02\n",
      "  -2.45660299e-01  1.45035000e-01  2.73957007e-01  1.85645413e-01\n",
      "   2.36877301e-01 -6.46428026e-02 -1.73798553e-01 -9.05907001e-02\n",
      "  -3.84636000e-01 -4.09544157e-03  8.69448035e-02 -5.57939988e-03\n",
      "  -4.82173372e-02  1.20574000e-01  5.82069011e-02  1.01449549e-01\n",
      "   1.60080303e-01 -1.58471348e-01  2.28354091e-02 -4.11557008e-02\n",
      "   7.19176013e-02 -4.42580059e-03 -1.42316308e-01 -1.78964000e-01\n",
      "  -4.59457058e-02 -4.27139960e-03  1.17964018e-02 -1.19073604e-01\n",
      "  -1.10181098e-01 -2.58036470e-03  1.93323043e-02 -6.46558993e-02\n",
      "  -1.94023049e-01  1.08962500e-01 -1.61419402e-01  9.13399994e-02\n",
      "   1.14431795e-01  3.80206954e-02  2.41203599e-01 -4.18777702e-01\n",
      "   3.98683298e-01  4.93896056e-02  3.52654999e-01  5.15018001e-02\n",
      "  -1.86701900e-01  7.45337984e-02  9.85254027e-02  4.19352961e-02\n",
      "   1.09854899e+00  5.61980994e-02  3.00041191e-01  5.89567599e-01\n",
      "  -1.34661002e-01  3.21126994e-01 -2.82279953e-02  1.86642798e-01\n",
      "   4.22680499e-01 -2.52721992e-01 -7.26470273e-02 -2.30789002e-01\n",
      "   9.22789078e-02  8.27014044e-02 -3.16288011e-02 -3.66141814e-02\n",
      "   1.84181203e-01  1.54808070e-01  4.89209890e-03  7.53880054e-02]\n",
      " [-4.29124476e-02 -1.51907777e-01  5.51009998e-02 -7.90555610e-02\n",
      "   1.98935003e-01  1.08851778e-01  5.61552154e-02  3.56455727e-03\n",
      "  -1.22982661e-01  9.34286979e-02 -3.78861000e-01 -1.48833109e-01\n",
      "  -3.19239994e+00  1.27721846e-02 -1.00408865e-01  1.29367228e-01\n",
      "   3.50936763e-02 -9.82821083e-02 -3.30396664e-01 -1.11250440e-01\n",
      "   1.00495891e-01  3.97731149e-02 -2.02798896e-01 -7.35534583e-02\n",
      "   2.77672557e-01 -2.04310778e-01 -6.01412190e-02 -4.95432218e-02\n",
      "   2.47177796e-02 -1.53138890e-01 -4.11307998e-01 -1.11160560e-01\n",
      "  -1.85810337e-01  2.07866996e-01  2.19400012e-02  1.65647651e-01\n",
      "   1.87482340e-01 -7.66816673e-02 -4.01223347e-02  2.08563226e-01\n",
      "  -6.72216898e-01 -3.87115560e-02 -3.98481136e-02  3.17929887e-01\n",
      "   5.45801090e-02  9.28766839e-03  2.21984445e-01 -1.89928871e-01\n",
      "   6.38910714e-03  1.62128660e-01 -2.54454452e-01 -2.41577221e-01\n",
      "   2.74356668e-01 -2.98901106e-01  3.36911219e-01  2.93600668e-01\n",
      "  -5.80206696e-02 -8.32634485e-02  1.36349108e-01  1.05742113e-01\n",
      "   8.00383343e-02 -1.67929107e-01  2.06062332e-01  7.73255564e-02\n",
      "  -1.73462670e-01 -1.54988885e-01 -1.70316784e-01 -2.31355334e-01\n",
      "  -2.10620998e-01  8.67127739e-02  1.87668115e-01 -3.99262218e-02\n",
      "   2.12155557e-01 -3.99055555e-02  1.03586665e-01  1.84771108e-01\n",
      "   6.60055561e-02  1.31833264e-01 -9.82065584e-02  7.97057793e-02\n",
      "   1.53307442e+00 -8.31145581e-02 -3.69727719e-02  1.66201115e-01\n",
      "   1.02747110e-01  4.39089336e-01 -7.65118885e-02  1.81772999e-01\n",
      "  -2.19932225e-01  1.17054404e-02  3.28731115e-01  1.66625556e-01\n",
      "   2.50235893e-01 -1.71509665e-01 -1.91425508e-02 -4.80314464e-02\n",
      "   8.90889988e-02  1.71760443e-01 -1.28177843e-03 -3.04884439e-01]]\n"
     ]
    }
   ],
   "source": [
    "X_train_glv, X_test_glv, y_train_glv, y_test_glv = vectorize_glove(df=df_cleaned, text_column='tweet_cleaned', \n",
    "                                                                                 label_column=\"label\")\n",
    "\n",
    "print(\"Erste Trainingsvektoren:\")\n",
    "print(X_train_glv[:5])\n"
   ]
  },
  {
   "cell_type": "markdown",
   "id": "b03f481b-ecd3-4aff-9152-072ffc67b41d",
   "metadata": {},
   "source": [
    "### Vergleiche Methoden Logistic Regression"
   ]
  },
  {
   "cell_type": "code",
   "execution_count": 9,
   "id": "455e1af1-ee7b-4029-9931-63c3a035540c",
   "metadata": {},
   "outputs": [],
   "source": [
    "def compare_vectorization_methods_log(df, text_column, label_column):\n",
    "    \"\"\"\n",
    "    Compares vectorizing methods TF-IDF, Word2Vec and Glove.\n",
    "    \"\"\"\n",
    "    results = []\n",
    "\n",
    "    # 1. TF-IDF\n",
    "    print(\"Vektorisierung: TF-IDF\")\n",
    "    X_train_tfidf, X_test_tfidf, y_train, y_test = vectorize_tfidf(df, text_column, label_column)\n",
    "    clf = LogisticRegression(max_iter=1000)\n",
    "    clf.fit(X_train_tfidf, y_train)\n",
    "    y_pred_tfidf = clf.predict(X_test_tfidf)\n",
    "    results.append({\n",
    "        \"Method\": \"TF-IDF\",\n",
    "        \"Accuracy\": accuracy_score(y_test, y_pred_tfidf),\n",
    "        \"Precision\": precision_score(y_test, y_pred_tfidf),#, average=\"weighted\"),\n",
    "        \"Recall\": recall_score(y_test, y_pred_tfidf),#, average=\"weighted\"),\n",
    "        \"F1 Score\": f1_score(y_test, y_pred_tfidf)#, average=\"weighted\")\n",
    "    })\n",
    "\n",
    "    # 2. Word2Vec\n",
    "    print(\"Vektorisierung: Word2Vec\")\n",
    "    X_train_w2v, X_test_w2v, y_train, y_test = vectorize_w2v(df, text_column, label_column)\n",
    "    clf.fit(X_train_w2v, y_train)\n",
    "    y_pred_w2v = clf.predict(X_test_w2v)\n",
    "    results.append({\n",
    "        \"Method\": \"Word2Vec\",\n",
    "        \"Accuracy\": accuracy_score(y_test, y_pred_w2v),\n",
    "        \"Precision\": precision_score(y_test, y_pred_w2v),#, average=\"weighted\"),\n",
    "        \"Recall\": recall_score(y_test, y_pred_w2v),#, average=\"weighted\"),\n",
    "        \"F1 Score\": f1_score(y_test, y_pred_w2v)#, average=\"weighted\")\n",
    "    })\n",
    "\n",
    "    # 3. Glove\n",
    "    print(\"Vektorisierung: Glove\")\n",
    "    X_train_glv, X_test_glv, y_train, y_test = vectorize_glove(df, text_column, label_column)\n",
    "    clf.fit(X_train_glv, y_train)\n",
    "    y_pred_glv = clf.predict(X_test_glv)\n",
    "    results.append({\n",
    "        \"Method\": \"Glove\",\n",
    "        \"Accuracy\": accuracy_score(y_test, y_pred_glv),\n",
    "        \"Precision\": precision_score(y_test, y_pred_glv),#, average=\"weighted\"),\n",
    "        \"Recall\": recall_score(y_test, y_pred_glv),#, average=\"weighted\"),\n",
    "        \"F1 Score\": f1_score(y_test, y_pred_glv)#, average=\"weighted\")\n",
    "    })\n",
    "\n",
    "    results_df = pd.DataFrame(results)\n",
    "    return results_df"
   ]
  },
  {
   "cell_type": "code",
   "execution_count": 10,
   "id": "536561a6-d373-4304-9177-6e31fb8bf511",
   "metadata": {
    "scrolled": true
   },
   "outputs": [
    {
     "name": "stdout",
     "output_type": "stream",
     "text": [
      "Vektorisierung: TF-IDF\n",
      "Vektorisierung: Word2Vec\n",
      "Vektorisierung: Glove\n"
     ]
    }
   ],
   "source": [
    "results_log = compare_vectorization_methods_log(df=df_cleaned, text_column=\"tweet_cleaned\", label_column=\"label\")"
   ]
  },
  {
   "cell_type": "code",
   "execution_count": 44,
   "id": "37025daa-5ae9-4c07-8880-5ab9338d56b4",
   "metadata": {},
   "outputs": [
    {
     "data": {
      "image/png": "[encoded data removed]",
      "text/plain": [
       "<Figure size 600x300 with 1 Axes>"
      ]
     },
     "metadata": {},
     "output_type": "display_data"
    },
    {
     "name": "stdout",
     "output_type": "stream",
     "text": [
      "     Method  Accuracy  Precision    Recall  F1 Score\n",
      "0    TF-IDF  0.951933   0.880000  0.239782  0.376874\n",
      "1  Word2Vec  0.949620   0.684524  0.313351  0.429907\n",
      "2     Glove  0.948299   0.642105  0.332425  0.438061\n"
     ]
    }
   ],
   "source": [
    "results_log.plot(x=\"Method\", y=[\"Accuracy\", \"Precision\", \"Recall\", \"F1 Score\"], kind=\"bar\", figsize=(6, 3))\n",
    "plt.title(\"Vergleich der Vektorisierungsmethoden\")\n",
    "plt.ylabel(\"Score\")\n",
    "plt.xlabel(\"Vektorisierungsmethode\")\n",
    "plt.legend(loc='right', bbox_to_anchor=(1.15, 0.7),\n",
    "          ncol=1, fancybox=True, shadow=True)\n",
    "plt.grid(axis=\"y\", linestyle=\"--\", alpha=0.7)\n",
    "plt.show()\n",
    "print(results_log)"
   ]
  },
  {
   "cell_type": "markdown",
   "id": "0637a0da-42f6-4804-bd6b-35fc11bfbfeb",
   "metadata": {},
   "source": [
    "### Vergleiche Methoden NB"
   ]
  },
  {
   "cell_type": "code",
   "execution_count": 12,
   "id": "cdaee3ff-ee0a-4596-9ef2-e348ca22a93a",
   "metadata": {},
   "outputs": [],
   "source": [
    "def compare_vectorization_methods_gauss(df, text_column, label_column):\n",
    "    \"\"\"\n",
    "    Compares vectorizing methods TF-IDF, Word2Vec and Glove.\n",
    "    \"\"\"\n",
    "    results = []\n",
    "\n",
    "    # 1. TF-IDF\n",
    "    print(\"Vektorisierung: TF-IDF\")\n",
    "    X_train_tfidf, X_test_tfidf, y_train, y_test = vectorize_tfidf(df, text_column, label_column)\n",
    "    clfcnb = ComplementNB()\n",
    "    clfcnb.fit(X_train_tfidf, y_train)\n",
    "    y_pred_tfidf = clfcnb.predict(X_test_tfidf)\n",
    "    results.append({\n",
    "        \"Method\": \"TF-IDF\",\n",
    "        \"Accuracy\": accuracy_score(y_test, y_pred_tfidf),\n",
    "        \"Precision\": precision_score(y_test, y_pred_tfidf),#, average=\"weighted\"),\n",
    "        \"Recall\": recall_score(y_test, y_pred_tfidf),#, average=\"weighted\"),\n",
    "        \"F1 Score\": f1_score(y_test, y_pred_tfidf)#, average=\"weighted\")\n",
    "    })\n",
    "\n",
    "    # 2. Word2Vec\n",
    "    print(\"Vektorisierung: Word2Vec\")\n",
    "    X_train_w2v, X_test_w2v, y_train, y_test = vectorize_w2v(df, text_column, label_column)\n",
    "    clfgnb = GaussianNB()\n",
    "    clfgnb.fit(X_train_w2v, y_train)\n",
    "    y_pred_w2v = clfgnb.predict(X_test_w2v)\n",
    "    results.append({\n",
    "        \"Method\": \"Word2Vec\",\n",
    "        \"Accuracy\": accuracy_score(y_test, y_pred_w2v),\n",
    "        \"Precision\": precision_score(y_test, y_pred_w2v),#, average=\"weighted\"),\n",
    "        \"Recall\": recall_score(y_test, y_pred_w2v),#, average=\"weighted\"),\n",
    "        \"F1 Score\": f1_score(y_test, y_pred_w2v)#, average=\"weighted\")\n",
    "    })\n",
    "\n",
    "    # 3. Glove\n",
    "    print(\"Vektorisierung: Glove\")\n",
    "    X_train_glv, X_test_glv, y_train, y_test = vectorize_glove(df, text_column, label_column)\n",
    "    clfgnb.fit(X_train_glv, y_train)\n",
    "    y_pred_glv = clfgnb.predict(X_test_glv)\n",
    "    results.append({\n",
    "        \"Method\": \"Glove\",\n",
    "        \"Accuracy\": accuracy_score(y_test, y_pred_glv),\n",
    "        \"Precision\": precision_score(y_test, y_pred_glv),#, average=\"weighted\"),\n",
    "        \"Recall\": recall_score(y_test, y_pred_glv),#, average=\"weighted\"),\n",
    "        \"F1 Score\": f1_score(y_test, y_pred_glv)#, average=\"weighted\")\n",
    "    })\n",
    "\n",
    "    results_df = pd.DataFrame(results)\n",
    "    return results_df"
   ]
  },
  {
   "cell_type": "code",
   "execution_count": 13,
   "id": "adbef58f-dfe7-40ac-9aa4-43381a83f5ba",
   "metadata": {},
   "outputs": [
    {
     "name": "stdout",
     "output_type": "stream",
     "text": [
      "Vektorisierung: TF-IDF\n",
      "Vektorisierung: Word2Vec\n",
      "Vektorisierung: Glove\n"
     ]
    }
   ],
   "source": [
    "results_gauss = compare_vectorization_methods_gauss(df=df_cleaned, text_column=\"tweet_cleaned\", label_column=\"label\")"
   ]
  },
  {
   "cell_type": "code",
   "execution_count": 45,
   "id": "ed0db03a-66e9-419c-8968-494ff39f8b29",
   "metadata": {},
   "outputs": [
    {
     "data": {
      "image/png": "[encoded data removed]",
      "text/plain": [
       "<Figure size 600x300 with 1 Axes>"
      ]
     },
     "metadata": {},
     "output_type": "display_data"
    },
    {
     "name": "stdout",
     "output_type": "stream",
     "text": [
      "     Method  Accuracy  Precision    Recall  F1 Score\n",
      "0    TF-IDF  0.943674   0.536932  0.514986  0.525730\n",
      "1  Word2Vec  0.726627   0.166667  0.877384  0.280122\n",
      "2     Glove  0.883218   0.312775  0.773842  0.445490\n"
     ]
    }
   ],
   "source": [
    "results_gauss.plot(x=\"Method\", y=[\"Accuracy\", \"Precision\", \"Recall\", \"F1 Score\"], kind=\"bar\", figsize=(6, 3))\n",
    "plt.title(\"Vergleich der Vektorisierungsmethoden\")\n",
    "plt.ylabel(\"Score\")\n",
    "plt.xlabel(\"Vektorisierungsmethode\")\n",
    "plt.legend(loc='right', bbox_to_anchor=(1.15, 0.7),\n",
    "          ncol=1, fancybox=True, shadow=True)\n",
    "plt.grid(axis=\"y\", linestyle=\"--\", alpha=0.7)\n",
    "plt.show()\n",
    "print(results_gauss)"
   ]
  },
  {
   "cell_type": "code",
   "execution_count": null,
   "id": "ea99225e-1bcf-4ed7-8274-b72fde9632f1",
   "metadata": {},
   "outputs": [],
   "source": []
  }
 ],
 "metadata": {
  "kernelspec": {
   "display_name": "Python 3 (ipykernel)",
   "language": "python",
   "name": "python3"
  },
  "language_info": {
   "codemirror_mode": {
    "name": "ipython",
    "version": 3
   },
   "file_extension": ".py",
   "mimetype": "text/x-python",
   "name": "python",
   "nbconvert_exporter": "python",
   "pygments_lexer": "ipython3",
   "version": "3.9.20"
  }
 },
 "nbformat": 4,
 "nbformat_minor": 5
}
