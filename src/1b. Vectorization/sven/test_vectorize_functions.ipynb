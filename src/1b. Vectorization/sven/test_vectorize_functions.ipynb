{
 "cells": [
  {
   "cell_type": "code",
   "execution_count": 1,
   "id": "58f4953d-1b26-4f31-98fc-8fff8635c09e",
   "metadata": {},
   "outputs": [],
   "source": [
    "%run ../../functions/vectorize_functions.py"
   ]
  },
  {
   "cell_type": "code",
   "execution_count": 9,
   "id": "b7365739-9c64-412a-a58d-247977459bca",
   "metadata": {},
   "outputs": [],
   "source": [
    "import pandas as pd\n",
    "import numpy as np\n",
    "from pathlib import Path\n",
    "import os\n",
    "from sklearn.linear_model import LogisticRegression\n",
    "import matplotlib.pyplot as plt\n",
    "import seaborn as sns\n",
    "from sklearn.metrics import accuracy_score, precision_score, recall_score, f1_score\n",
    "from sklearn.naive_bayes import MultinomialNB \n",
    "from sklearn.naive_bayes import GaussianNB \n",
    "from sklearn.naive_bayes import ComplementNB "
   ]
  },
  {
   "cell_type": "code",
   "execution_count": 2,
   "id": "ea08714b-6e38-4dfa-8330-07dfb1f7511e",
   "metadata": {},
   "outputs": [],
   "source": [
    "filepath_name = (('../../../data/twitter_hate-speech/train_cleaned.csv'))\n",
    "df_cleaned = pd.read_csv(filepath_name, encoding='utf-8')\n"
   ]
  },
  {
   "cell_type": "code",
   "execution_count": 3,
   "id": "45525e8f-e41f-477e-ada0-a7a0611d633a",
   "metadata": {},
   "outputs": [
    {
     "data": {
      "text/html": [
       "<div>\n",
       "<style scoped>\n",
       "    .dataframe tbody tr th:only-of-type {\n",
       "        vertical-align: middle;\n",
       "    }\n",
       "\n",
       "    .dataframe tbody tr th {\n",
       "        vertical-align: top;\n",
       "    }\n",
       "\n",
       "    .dataframe thead th {\n",
       "        text-align: right;\n",
       "    }\n",
       "</style>\n",
       "<table border=\"1\" class=\"dataframe\">\n",
       "  <thead>\n",
       "    <tr style=\"text-align: right;\">\n",
       "      <th></th>\n",
       "      <th>id</th>\n",
       "      <th>label</th>\n",
       "      <th>tweet</th>\n",
       "      <th>tweet_cleaned</th>\n",
       "      <th>user_handle</th>\n",
       "      <th>hashtags</th>\n",
       "      <th>emojis</th>\n",
       "    </tr>\n",
       "  </thead>\n",
       "  <tbody>\n",
       "    <tr>\n",
       "      <th>0</th>\n",
       "      <td>8886</td>\n",
       "      <td>0</td>\n",
       "      <td>@user #cinemaaawards final rehearsals!! geari...</td>\n",
       "      <td>final rehearsal gear evening butterfly stage h...</td>\n",
       "      <td>1</td>\n",
       "      <td>['#cinemaaawards', '#butterflies', '#stage']</td>\n",
       "      <td>NaN</td>\n",
       "    </tr>\n",
       "    <tr>\n",
       "      <th>1</th>\n",
       "      <td>909</td>\n",
       "      <td>0</td>\n",
       "      <td>istg this is the best cheese ta but dayum expe...</td>\n",
       "      <td>good cheese ta expensive</td>\n",
       "      <td>0</td>\n",
       "      <td>[]</td>\n",
       "      <td>NaN</td>\n",
       "    </tr>\n",
       "    <tr>\n",
       "      <th>2</th>\n",
       "      <td>27613</td>\n",
       "      <td>0</td>\n",
       "      <td>this was amazing. the weather was not. #musica...</td>\n",
       "      <td>amazing weather musical london weekend</td>\n",
       "      <td>0</td>\n",
       "      <td>['#musical', '#london', '#matilda', '#westend'...</td>\n",
       "      <td>NaN</td>\n",
       "    </tr>\n",
       "    <tr>\n",
       "      <th>3</th>\n",
       "      <td>15999</td>\n",
       "      <td>0</td>\n",
       "      <td>yes! #talented #sexy   ‘criminal minds’ casts ...</td>\n",
       "      <td>yes talented sexy ' criminal mind ' cast serie...</td>\n",
       "      <td>2</td>\n",
       "      <td>['#talented', '#sexy']</td>\n",
       "      <td>NaN</td>\n",
       "    </tr>\n",
       "    <tr>\n",
       "      <th>4</th>\n",
       "      <td>23817</td>\n",
       "      <td>0</td>\n",
       "      <td>want to be   while being #successful? see how ...</td>\n",
       "      <td>want successful see help</td>\n",
       "      <td>2</td>\n",
       "      <td>['#successful', '#worklifebalance']</td>\n",
       "      <td>NaN</td>\n",
       "    </tr>\n",
       "  </tbody>\n",
       "</table>\n",
       "</div>"
      ],
      "text/plain": [
       "      id  label                                              tweet  \\\n",
       "0   8886      0   @user #cinemaaawards final rehearsals!! geari...   \n",
       "1    909      0  istg this is the best cheese ta but dayum expe...   \n",
       "2  27613      0  this was amazing. the weather was not. #musica...   \n",
       "3  15999      0  yes! #talented #sexy   ‘criminal minds’ casts ...   \n",
       "4  23817      0  want to be   while being #successful? see how ...   \n",
       "\n",
       "                                       tweet_cleaned  user_handle  \\\n",
       "0  final rehearsal gear evening butterfly stage h...            1   \n",
       "1                           good cheese ta expensive            0   \n",
       "2             amazing weather musical london weekend            0   \n",
       "3  yes talented sexy ' criminal mind ' cast serie...            2   \n",
       "4                           want successful see help            2   \n",
       "\n",
       "                                            hashtags emojis  \n",
       "0       ['#cinemaaawards', '#butterflies', '#stage']    NaN  \n",
       "1                                                 []    NaN  \n",
       "2  ['#musical', '#london', '#matilda', '#westend'...    NaN  \n",
       "3                             ['#talented', '#sexy']    NaN  \n",
       "4                ['#successful', '#worklifebalance']    NaN  "
      ]
     },
     "execution_count": 3,
     "metadata": {},
     "output_type": "execute_result"
    }
   ],
   "source": [
    "df_cleaned.head()"
   ]
  },
  {
   "cell_type": "markdown",
   "id": "511c9fbc-5912-4276-a55c-ac710add1824",
   "metadata": {},
   "source": [
    "### TF-IDF"
   ]
  },
  {
   "cell_type": "code",
   "execution_count": 4,
   "id": "78ec595f-63ac-4d6c-9236-30717940c28a",
   "metadata": {},
   "outputs": [
    {
     "name": "stdout",
     "output_type": "stream",
     "text": [
      "Trainingsdaten (TF-IDF-Matrix):\n",
      "[[0. 0. 0. ... 0. 0. 0.]\n",
      " [0. 0. 0. ... 0. 0. 0.]\n",
      " [0. 0. 0. ... 0. 0. 0.]\n",
      " ...\n",
      " [0. 0. 0. ... 0. 0. 0.]\n",
      " [0. 0. 0. ... 0. 0. 0.]\n",
      " [0. 0. 0. ... 0. 0. 0.]]\n"
     ]
    }
   ],
   "source": [
    "X_train_tfidf, X_test_tfidf, y_train, y_test = vectorize_tfidf(df=df_cleaned, text_column='tweet_cleaned', \n",
    "                                                                                 label_column=\"label\")\n",
    "\n",
    "print(\"Trainingsdaten (TF-IDF-Matrix):\")\n",
    "print(X_train_tfidf.toarray())\n"
   ]
  },
  {
   "cell_type": "markdown",
   "id": "4aafb061-f52b-4b1f-b8b8-dcb5a82a8e41",
   "metadata": {},
   "source": [
    "### Word2Vec"
   ]
  },
  {
   "cell_type": "code",
   "execution_count": 5,
   "id": "de8733cd-6b7f-4770-9d17-cff4ff6c66a0",
   "metadata": {},
   "outputs": [
    {
     "name": "stdout",
     "output_type": "stream",
     "text": [
      "Erste Trainingsvektoren:\n",
      "[[-0.19718729  0.35877065  0.14583091 ... -0.04322104  0.11348659\n",
      "   0.15231087]\n",
      " [-0.20010734  0.19574016  0.22125328 ...  0.17330205  0.35643841\n",
      "   0.40911799]\n",
      " [ 0.13739521  0.84337798 -0.21780659 ...  0.32223826  0.52025043\n",
      "  -0.77267328]\n",
      " [-0.19887821  0.27981241 -0.30060491 ... -0.11563527  0.20634698\n",
      "  -0.15080688]\n",
      " [-0.16232178  0.24463307 -0.17919528 ... -0.07066992  0.2402999\n",
      "  -0.3303044 ]]\n"
     ]
    }
   ],
   "source": [
    "X_train_w2v, X_test_w2v, y_train, y_test = vectorize_w2v(df=df_cleaned, text_column =\"tweet_cleaned\", label_column=\"label\")\n",
    "\n",
    "print(\"Erste Trainingsvektoren:\")\n",
    "print(X_train_w2v[:5])"
   ]
  },
  {
   "cell_type": "markdown",
   "id": "6e5c5e4a-8e48-496d-ae0e-a9ec7507dcdc",
   "metadata": {},
   "source": [
    "### Glove"
   ]
  },
  {
   "cell_type": "code",
   "execution_count": 6,
   "id": "d4045b08-8a0c-49c3-b469-9296a4e8d00c",
   "metadata": {
    "scrolled": true
   },
   "outputs": [
    {
     "name": "stdout",
     "output_type": "stream",
     "text": [
      "Erste Trainingsvektoren:\n",
      "[[ 4.96233324e-01  2.39270002e-01  3.10583343e-01  8.73586622e-02\n",
      "  -5.20296658e-01  4.55033357e-02  9.04513339e-01 -1.28933390e-02\n",
      "   1.34757333e-01  4.00849998e-01 -2.23910014e-01 -9.14580027e-02\n",
      "  -3.83656653e+00  2.71206662e-01  6.82033300e-02 -1.25649005e-01\n",
      "  -1.45826648e-01 -4.93940006e-01  1.16323337e-01 -1.36062997e-01\n",
      "   5.66450000e-01  6.91259975e-02 -1.11605665e-01 -6.54419971e-02\n",
      "  -4.15433298e-02 -8.74900122e-02 -1.10016659e-01 -7.56633381e-02\n",
      "   2.93169335e-01 -3.77460003e-01 -4.32433387e-02 -4.99666780e-02\n",
      "  -1.89398339e-01  2.70376670e-01 -1.70396666e-01  4.65779995e-01\n",
      "   4.77396667e-01  2.09736992e-01  2.81918656e-01 -1.00168671e-01\n",
      "  -4.95240005e-01 -1.12940336e-01 -8.58999292e-03  3.82023325e-01\n",
      "   2.38056670e-01 -1.26898963e-01  3.14650008e-02  1.19466583e-02\n",
      "  -2.50260000e-01  2.13393341e-01  1.16738002e-01  3.35949997e-01\n",
      "  -1.70619662e-01 -1.86343332e-01  5.15019993e-01 -3.45340014e-01\n",
      "  -1.14110671e-01  5.61430017e-02  1.65286670e-01 -1.17991668e-01\n",
      "   8.21866716e-02 -4.60332880e-04  5.07653326e-01 -1.81289991e-01\n",
      "   1.01418000e-01  3.03149668e-01 -4.90655666e-01 -2.36771669e-01\n",
      "  -2.38910004e-01  2.11206670e-01  9.83099838e-02  2.61169333e-01\n",
      "   1.62853328e-01 -1.98893318e-02 -1.91930006e-01 -9.66266692e-02\n",
      "   2.73050336e-01  6.00689948e-02 -3.79819994e-02  1.02576663e-01\n",
      "   1.16766669e+00  3.71866723e-02 -1.82933340e-01 -2.35453332e-01\n",
      "   2.24613011e-01 -1.21441666e-01 -2.83775003e-01 -3.61270006e-01\n",
      "  -2.07199991e-01  1.00026667e-01 -2.21203392e-02  6.21543359e-02\n",
      "  -1.64994107e-01 -6.04889989e-02  1.40645338e-01 -7.67069956e-02\n",
      "   4.13283333e-02  1.69577004e-01  3.17770661e-01 -1.25600000e-01]\n",
      " [ 5.55766004e-01  1.73014602e-01  2.26500601e-01  1.64348203e-01\n",
      "   2.45300040e-02  1.47869580e-01  3.24193559e-01  1.15799990e-02\n",
      "  -7.79578015e-02  4.00055400e-01 -2.49475599e-01 -4.39744208e-01\n",
      "  -4.50765996e+00  2.73530002e-01  2.59469243e-01  1.47816600e-01\n",
      "   3.80606394e-01 -1.62609987e-01 -2.63433999e-01  1.55380999e-01\n",
      "   1.11802199e-01 -4.19234015e-02 -1.22350996e-01 -1.29111961e-02\n",
      "   2.01050004e-01  2.63853601e-01 -4.39813998e-01 -3.62085784e-01\n",
      "  -6.15802027e-02 -1.76428002e-01 -9.61860001e-02 -2.97043966e-02\n",
      "  -2.40629205e-01  5.12602009e-02 -5.56351192e-01  1.29340328e-03\n",
      "   4.44070056e-02 -1.02189003e-01 -1.55321798e-01  1.13283424e-02\n",
      "  -3.76245999e-01 -1.63624401e-01  8.65217788e-02 -1.10074002e-01\n",
      "  -2.78678000e-01  2.25443998e-01  2.85676000e-01  1.42539402e-01\n",
      "  -2.97953993e-01  3.02408002e-01 -2.80015001e-01  3.77135998e-01\n",
      "  -2.26611942e-02 -1.79359999e-01  2.28974796e-01  2.08704799e-01\n",
      "  -3.62425401e-01  2.19283799e-01  1.61767395e-01 -1.43137399e-01\n",
      "   5.97500011e-02  2.43671654e-01  2.47140603e-01 -2.41999401e-01\n",
      "  -1.12197548e-04 -1.65156004e-01 -2.14057975e-02  1.86524598e-01\n",
      "  -2.44819997e-01  2.57074941e-01 -4.32346001e-01  1.37825596e-01\n",
      "  -6.93779960e-02 -2.74092002e-01  3.06749806e-01 -4.10700023e-02\n",
      "  -3.31425600e-01 -1.01124192e-01 -3.03425997e-01 -1.89295998e-01\n",
      "   1.81048002e+00  1.56773798e-01 -4.56205994e-02 -1.15498602e-01\n",
      "   5.39264017e-01  1.59519997e-01  2.62900591e-03 -1.59436999e-01\n",
      "  -2.59119993e-01 -3.10452395e-01  3.73530027e-02  3.82528605e-01\n",
      "  -4.76784006e-02  2.97445598e-01  5.95419943e-02 -7.28999376e-03\n",
      "  -3.97758011e-02 -1.79253200e-01  2.78381396e-01  7.65724391e-02]\n",
      " [ 4.00332006e-01 -1.80209992e-01 -2.72347746e-01  3.77120003e-01\n",
      "  -2.17449851e-03 -2.42914997e-01  2.38432497e-01  4.25375000e-01\n",
      "   1.85702501e-01 -2.92445006e-01 -3.89049241e-01 -2.99659997e-01\n",
      "  -3.38112500e+00 -9.56617538e-02  1.95249915e-03  3.97798259e-01\n",
      "   1.92483249e-01 -3.36967756e-01 -6.65274933e-02  3.61207012e-01\n",
      "   3.75084992e-01 -4.12925016e-02 -8.71350034e-02 -3.14632498e-01\n",
      "   4.55779992e-01  7.95199983e-02  3.41989001e-01 -3.95975001e-01\n",
      "   3.43080003e-01 -5.89045003e-01 -6.98250532e-03 -4.68477502e-01\n",
      "   2.92721258e-01  3.68735000e-01  1.54448507e-01  6.43082529e-01\n",
      "   2.77467500e-01  5.28449938e-02 -1.56105002e-01 -1.63972501e-01\n",
      "  -1.48456291e-01  1.18313998e-01  3.79724998e-01  5.22874996e-01\n",
      "   1.78112499e-01 -9.55874957e-02  3.52840012e-01 -4.55286956e-01\n",
      "  -1.80803001e-01  9.25725028e-02 -9.28096971e-02 -3.03765997e-01\n",
      "  -8.29100087e-02 -1.46770000e-01  3.92674915e-02 -1.44182496e-01\n",
      "  -8.11747527e-02  2.76224643e-01 -1.43737502e-01 -1.32835496e-01\n",
      "  -2.13037493e-01 -1.68843353e-01  3.63855761e-01 -3.54673249e-01\n",
      "  -1.71538504e-01  1.25810005e-01 -3.28269511e-01 -2.67577507e-01\n",
      "  -1.79035008e-01  4.51410007e-01 -4.26474959e-02 -6.19108265e-01\n",
      "   1.54115753e-01  1.26360003e-01  6.63956999e-01  1.99090004e-01\n",
      "  -1.76457003e-01 -6.40414022e-02 -2.68020738e-01  1.88380244e-01\n",
      "   1.01442251e+00  7.18822454e-02  3.93369995e-01  7.91885011e-01\n",
      "  -4.77723995e-01  7.03800023e-02 -2.94064995e-01  2.76702497e-01\n",
      "  -5.08819968e-02 -1.38607732e-01  7.21709989e-01 -5.85666013e-01\n",
      "  -1.00148998e-01  3.77820261e-01  3.13727498e-01  2.41609996e-01\n",
      "   3.19210499e-01  6.80399965e-02 -1.93030000e-01 -3.21308985e-01]\n",
      " [-1.74154332e-01  3.57001685e-02  2.10152837e-01  1.78287506e-02\n",
      "  -1.53013343e-01  4.30182489e-02  3.24608835e-01  4.06701579e-01\n",
      "   1.27551066e-01  2.66371669e-01 -2.41772582e-01 -1.48575002e-01\n",
      "  -3.89573332e+00  1.38349168e-01 -3.21897832e-01  5.11009128e-02\n",
      "  -7.44900821e-02 -3.57152534e-02 -9.57159999e-02 -8.78115818e-02\n",
      "   1.57763522e-02  2.40788329e-02 -1.11635057e-01  1.79374415e-01\n",
      "   4.91140839e-01  3.54520269e-01  1.47925867e-02 -1.83456666e-01\n",
      "  -1.13890417e-01 -5.28995893e-02 -1.27384589e-01 -1.58527580e-01\n",
      "  -3.68044251e-01  7.43635411e-02 -5.29719916e-01  1.50773498e-01\n",
      "   1.87763249e-01  3.63584141e-02  9.96950871e-02  4.20578753e-01\n",
      "  -2.88080830e-01  7.98801846e-02 -3.69651614e-02  1.49883342e-02\n",
      "   2.72429168e-01  4.64811667e-02  4.63044577e-01  4.75695245e-01\n",
      "  -5.94292158e-02  3.33739582e-01 -2.13625081e-01  2.47967084e-01\n",
      "   8.69458343e-02  4.84037471e-02  2.87759999e-01 -2.45876915e-01\n",
      "  -5.81812436e-02  2.66350996e-01  2.31959332e-01  1.41185833e-01\n",
      "  -1.83032419e-01 -9.45959159e-02  1.60350002e-01 -5.98345812e-02\n",
      "   1.97241250e-01 -5.77407497e-01 -2.86414902e-02  3.14279169e-01\n",
      "  -1.85724334e-01  2.55734746e-01 -2.30076922e-01 -1.06168414e-01\n",
      "  -1.36396162e-01 -2.35761832e-01  4.36838338e-02 -6.47084989e-02\n",
      "   8.24154123e-02 -2.54914908e-01 -4.57379736e-02  2.55989334e-01\n",
      "   1.00299332e+00  1.27139165e-01 -4.05203495e-01 -2.43116748e-01\n",
      "   1.09379086e-01  2.53288417e-01  6.06974944e-03  2.03367079e-01\n",
      "  -1.88018508e-01 -1.12482527e-02 -7.00169112e-02  6.87268386e-02\n",
      "   9.78084281e-04  1.39314416e-01  4.35796618e-02  1.81457828e-01\n",
      "  -6.31020833e-02 -1.25923169e-01  2.22958335e-01  1.66553337e-01]\n",
      " [-2.26849675e-01 -2.81520009e-01 -5.04076680e-01  3.51185197e-01\n",
      "  -1.61426673e-01  3.38067000e-01  3.57429991e-01 -3.47858632e-01\n",
      "  -2.97463991e-01 -1.33266548e-02  8.85493308e-02 -9.58533287e-02\n",
      "  -3.01440005e+00 -1.81474671e-01  5.79833339e-02  3.34043006e-01\n",
      "   1.73699198e-01  9.88599906e-02 -3.78966630e-02 -2.88680337e-01\n",
      "  -1.60993992e-01  1.46334370e-03  7.89516668e-02  3.32966720e-02\n",
      "  -2.16205663e-01  1.58049991e-01 -3.97579998e-01  7.00546655e-01\n",
      "   2.29823664e-01 -3.52326661e-01 -1.13202669e-01 -1.95116669e-01\n",
      "  -2.22622565e-01 -1.03346666e-01  1.63890004e-01 -1.18415331e-01\n",
      "  -8.45380016e-02 -2.67426670e-01 -3.56603302e-02  2.63386667e-01\n",
      "  -1.75666650e-01 -4.30121321e-01 -1.42315658e-01  1.71063532e-01\n",
      "   2.24359995e-01  8.50733370e-02  3.51303334e-01  2.12470666e-01\n",
      "  -2.49649331e-01 -9.10334786e-03 -8.47366651e-02  7.12966770e-02\n",
      "   2.24446664e-01 -2.33736664e-01  2.23480997e-01 -7.60813467e-02\n",
      "  -8.15999508e-03 -2.74557993e-01  1.21363332e-01 -2.60356652e-02\n",
      "  -1.23430004e-01 -7.04600066e-02  4.60333318e-01 -5.11230012e-01\n",
      "  -3.87189994e-01 -9.03200010e-02 -1.32956669e-01 -5.84490051e-02\n",
      "   3.50699340e-01 -9.51281905e-02  3.36783320e-01 -5.86006661e-01\n",
      "   1.26639675e-01 -2.59517993e-01  2.70066670e-01 -3.22833337e-01\n",
      "  -1.08834001e-01  4.47696651e-01 -1.51319986e-01 -2.54660328e-01\n",
      "   1.75009994e+00  8.38313214e-02 -6.19333982e-03 -4.28973327e-01\n",
      "   2.06376662e-01  2.32630339e-01  5.73516677e-01  3.90800039e-02\n",
      "  -2.87826675e-01  6.88333313e-02  1.87361664e-01  3.46251998e-01\n",
      "   1.96670670e-01 -4.63683337e-01  1.27533277e-02 -8.01599969e-02\n",
      "   1.02867333e-01 -2.73673336e-02 -1.19400024e-02  1.56983331e-01]]\n"
     ]
    }
   ],
   "source": [
    "X_train_glv, X_test_glv, y_train_glv, y_test_glv = vectorize_glove(df=df_cleaned, text_column='tweet_cleaned', \n",
    "                                                                                 label_column=\"label\")\n",
    "\n",
    "print(\"Erste Trainingsvektoren:\")\n",
    "print(X_train_glv[:5])\n"
   ]
  },
  {
   "cell_type": "markdown",
   "id": "b03f481b-ecd3-4aff-9152-072ffc67b41d",
   "metadata": {},
   "source": [
    "### Vergleiche Methoden Logistic Regression"
   ]
  },
  {
   "cell_type": "code",
   "execution_count": 7,
   "id": "455e1af1-ee7b-4029-9931-63c3a035540c",
   "metadata": {},
   "outputs": [],
   "source": [
    "def compare_vectorization_methods_log(df, text_column, label_column):\n",
    "    \"\"\"\n",
    "    Compares vectorizing methods TF-IDF, Word2Vec and Glove.\n",
    "    \"\"\"\n",
    "    results = []\n",
    "\n",
    "    # 1. TF-IDF\n",
    "    print(\"Vektorisierung: TF-IDF\")\n",
    "    X_train_tfidf, X_test_tfidf, y_train, y_test = vectorize_tfidf(df, text_column, label_column)\n",
    "    clf = LogisticRegression(max_iter=1000)\n",
    "    clf.fit(X_train_tfidf, y_train)\n",
    "    y_pred_tfidf = clf.predict(X_test_tfidf)\n",
    "    results.append({\n",
    "        \"Method\": \"TF-IDF\",\n",
    "        \"Accuracy\": accuracy_score(y_test, y_pred_tfidf),\n",
    "        \"Precision\": precision_score(y_test, y_pred_tfidf, average=\"weighted\"),\n",
    "        \"Recall\": recall_score(y_test, y_pred_tfidf, average=\"weighted\"),\n",
    "        \"F1 Score\": f1_score(y_test, y_pred_tfidf, average=\"weighted\")\n",
    "    })\n",
    "\n",
    "    # 2. Word2Vec\n",
    "    print(\"Vektorisierung: Word2Vec\")\n",
    "    X_train_w2v, X_test_w2v, y_train, y_test = vectorize_w2v(df, text_column, label_column)\n",
    "    clf.fit(X_train_w2v, y_train)\n",
    "    y_pred_w2v = clf.predict(X_test_w2v)\n",
    "    results.append({\n",
    "        \"Method\": \"Word2Vec\",\n",
    "        \"Accuracy\": accuracy_score(y_test, y_pred_w2v),\n",
    "        \"Precision\": precision_score(y_test, y_pred_w2v, average=\"weighted\"),\n",
    "        \"Recall\": recall_score(y_test, y_pred_w2v, average=\"weighted\"),\n",
    "        \"F1 Score\": f1_score(y_test, y_pred_w2v, average=\"weighted\")\n",
    "    })\n",
    "\n",
    "    # 3. Glove\n",
    "    print(\"Vektorisierung: Glove\")\n",
    "    X_train_glv, X_test_glv, y_train, y_test = vectorize_glove(df, text_column, label_column)\n",
    "    clf.fit(X_train_glv, y_train)\n",
    "    y_pred_glv = clf.predict(X_test_glv)\n",
    "    results.append({\n",
    "        \"Method\": \"Glove\",\n",
    "        \"Accuracy\": accuracy_score(y_test, y_pred_glv),\n",
    "        \"Precision\": precision_score(y_test, y_pred_glv, average=\"weighted\"),\n",
    "        \"Recall\": recall_score(y_test, y_pred_glv, average=\"weighted\"),\n",
    "        \"F1 Score\": f1_score(y_test, y_pred_glv, average=\"weighted\")\n",
    "    })\n",
    "\n",
    "    results_df = pd.DataFrame(results)\n",
    "    return results_df"
   ]
  },
  {
   "cell_type": "code",
   "execution_count": 10,
   "id": "536561a6-d373-4304-9177-6e31fb8bf511",
   "metadata": {
    "scrolled": true
   },
   "outputs": [
    {
     "name": "stdout",
     "output_type": "stream",
     "text": [
      "Vektorisierung: TF-IDF\n",
      "Vektorisierung: Word2Vec\n",
      "Vektorisierung: Glove\n"
     ]
    }
   ],
   "source": [
    "results_log = compare_vectorization_methods_log(df=df_cleaned, text_column=\"tweet_cleaned\", label_column=\"label\")"
   ]
  },
  {
   "cell_type": "code",
   "execution_count": 11,
   "id": "37025daa-5ae9-4c07-8880-5ab9338d56b4",
   "metadata": {},
   "outputs": [
    {
     "data": {
      "image/png": "[encoded data removed]",
      "text/plain": [
       "<Figure size 600x300 with 1 Axes>"
      ]
     },
     "metadata": {},
     "output_type": "display_data"
    },
    {
     "name": "stdout",
     "output_type": "stream",
     "text": [
      "     Method  Accuracy  Precision    Recall  F1 Score\n",
      "0    TF-IDF  0.946841   0.945942  0.946841  0.929454\n",
      "1  Word2Vec  0.939878   0.924121  0.939878  0.924918\n",
      "2     Glove  0.941746   0.928342  0.941746  0.929329\n"
     ]
    }
   ],
   "source": [
    "results_log.plot(x=\"Method\", y=[\"Accuracy\", \"Precision\", \"Recall\", \"F1 Score\"], kind=\"bar\", figsize=(6, 3))\n",
    "plt.title(\"Vergleich der Vektorisierungsmethoden\")\n",
    "plt.ylabel(\"Score\")\n",
    "plt.xlabel(\"Vektorisierungsmethode\")\n",
    "plt.legend(loc=\"right\")\n",
    "plt.grid(axis=\"y\", linestyle=\"--\", alpha=0.7)\n",
    "plt.show()\n",
    "print(results_log)"
   ]
  },
  {
   "cell_type": "markdown",
   "id": "0637a0da-42f6-4804-bd6b-35fc11bfbfeb",
   "metadata": {},
   "source": [
    "### Vergleiche Methoden NB"
   ]
  },
  {
   "cell_type": "code",
   "execution_count": 12,
   "id": "cdaee3ff-ee0a-4596-9ef2-e348ca22a93a",
   "metadata": {},
   "outputs": [],
   "source": [
    "def compare_vectorization_methods_gauss(df, text_column, label_column):\n",
    "    \"\"\"\n",
    "    Compares vectorizing methods TF-IDF, Word2Vec and Glove.\n",
    "    \"\"\"\n",
    "    results = []\n",
    "\n",
    "    # 1. TF-IDF\n",
    "    print(\"Vektorisierung: TF-IDF\")\n",
    "    X_train_tfidf, X_test_tfidf, y_train, y_test = vectorize_tfidf(df, text_column, label_column)\n",
    "    clfcnb = ComplementNB()\n",
    "    clfcnb.fit(X_train_tfidf, y_train)\n",
    "    y_pred_tfidf = clfcnb.predict(X_test_tfidf)\n",
    "    results.append({\n",
    "        \"Method\": \"TF-IDF\",\n",
    "        \"Accuracy\": accuracy_score(y_test, y_pred_tfidf),\n",
    "        \"Precision\": precision_score(y_test, y_pred_tfidf, average=\"weighted\"),\n",
    "        \"Recall\": recall_score(y_test, y_pred_tfidf, average=\"weighted\"),\n",
    "        \"F1 Score\": f1_score(y_test, y_pred_tfidf, average=\"weighted\")\n",
    "    })\n",
    "\n",
    "    # 2. Word2Vec\n",
    "    print(\"Vektorisierung: Word2Vec\")\n",
    "    X_train_w2v, X_test_w2v, y_train, y_test = vectorize_w2v(df, text_column, label_column)\n",
    "    clfgnb = GaussianNB()\n",
    "    clfgnb.fit(X_train_w2v, y_train)\n",
    "    y_pred_w2v = clfgnb.predict(X_test_w2v)\n",
    "    results.append({\n",
    "        \"Method\": \"Word2Vec\",\n",
    "        \"Accuracy\": accuracy_score(y_test, y_pred_w2v),\n",
    "        \"Precision\": precision_score(y_test, y_pred_w2v, average=\"weighted\"),\n",
    "        \"Recall\": recall_score(y_test, y_pred_w2v, average=\"weighted\"),\n",
    "        \"F1 Score\": f1_score(y_test, y_pred_w2v, average=\"weighted\")\n",
    "    })\n",
    "\n",
    "    # 3. Glove\n",
    "    print(\"Vektorisierung: Glove\")\n",
    "    X_train_glv, X_test_glv, y_train, y_test = vectorize_glove(df, text_column, label_column)\n",
    "    clfgnb.fit(X_train_glv, y_train)\n",
    "    y_pred_glv = clfgnb.predict(X_test_glv)\n",
    "    results.append({\n",
    "        \"Method\": \"Glove\",\n",
    "        \"Accuracy\": accuracy_score(y_test, y_pred_glv),\n",
    "        \"Precision\": precision_score(y_test, y_pred_glv, average=\"weighted\"),\n",
    "        \"Recall\": recall_score(y_test, y_pred_glv, average=\"weighted\"),\n",
    "        \"F1 Score\": f1_score(y_test, y_pred_glv, average=\"weighted\")\n",
    "    })\n",
    "\n",
    "    results_df = pd.DataFrame(results)\n",
    "    return results_df"
   ]
  },
  {
   "cell_type": "code",
   "execution_count": 13,
   "id": "adbef58f-dfe7-40ac-9aa4-43381a83f5ba",
   "metadata": {},
   "outputs": [
    {
     "name": "stdout",
     "output_type": "stream",
     "text": [
      "Vektorisierung: TF-IDF\n",
      "Vektorisierung: Word2Vec\n",
      "Vektorisierung: Glove\n"
     ]
    }
   ],
   "source": [
    "results_gauss = compare_vectorization_methods_gauss(df=df_cleaned, text_column=\"tweet_cleaned\", label_column=\"label\")"
   ]
  },
  {
   "cell_type": "code",
   "execution_count": 14,
   "id": "ed0db03a-66e9-419c-8968-494ff39f8b29",
   "metadata": {},
   "outputs": [
    {
     "data": {
      "image/png": "[encoded data removed]",
      "text/plain": [
       "<Figure size 600x300 with 1 Axes>"
      ]
     },
     "metadata": {},
     "output_type": "display_data"
    },
    {
     "name": "stdout",
     "output_type": "stream",
     "text": [
      "     Method  Accuracy  Precision    Recall  F1 Score\n",
      "0    TF-IDF  0.856658   0.938193  0.856658  0.886077\n",
      "1  Word2Vec  0.666950   0.932333  0.666950  0.751940\n",
      "2     Glove  0.873811   0.933702  0.873811  0.896448\n"
     ]
    }
   ],
   "source": [
    "results_gauss.plot(x=\"Method\", y=[\"Accuracy\", \"Precision\", \"Recall\", \"F1 Score\"], kind=\"bar\", figsize=(6, 3))\n",
    "plt.title(\"Vergleich der Vektorisierungsmethoden\")\n",
    "plt.ylabel(\"Score\")\n",
    "plt.xlabel(\"Vektorisierungsmethode\")\n",
    "plt.legend(loc=\"right\")\n",
    "plt.grid(axis=\"y\", linestyle=\"--\", alpha=0.7)\n",
    "plt.show()\n",
    "print(results_gauss)"
   ]
  }
 ],
 "metadata": {
  "kernelspec": {
   "display_name": "Python 3 (ipykernel)",
   "language": "python",
   "name": "python3"
  },
  "language_info": {
   "codemirror_mode": {
    "name": "ipython",
    "version": 3
   },
   "file_extension": ".py",
   "mimetype": "text/x-python",
   "name": "python",
   "nbconvert_exporter": "python",
   "pygments_lexer": "ipython3",
   "version": "3.9.20"
  }
 },
 "nbformat": 4,
 "nbformat_minor": 5
}
