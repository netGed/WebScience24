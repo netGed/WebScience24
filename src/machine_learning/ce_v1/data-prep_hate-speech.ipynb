{
 "cells": [
  {
   "cell_type": "markdown",
   "metadata": {
    "collapsed": false
   },
   "source": [
    "# Imports & Downloads"
   ]
  },
  {
   "cell_type": "code",
   "execution_count": 3,
   "metadata": {
    "ExecuteTime": {
     "end_time": "2024-10-06T11:40:50.492971500Z",
     "start_time": "2024-10-06T11:40:47.909755900Z"
    },
    "collapsed": true
   },
   "outputs": [],
   "source": [
    "import numpy as np\n",
    "import pandas as pd\n",
    "import matplotlib.pyplot as plt\n",
    "import seaborn as sns\n",
    "from pathlib import Path\n",
    "\n",
    "import nltk\n",
    "import re\n",
    "import string\n",
    "from nltk.corpus import stopwords\n",
    "from nltk.tokenize import word_tokenize\n",
    "from nltk.stem import WordNetLemmatizer\n",
    "\n",
    "from collections import Counter\n",
    "\n",
    "from sklearn.feature_extraction.text import CountVectorizer\n",
    "from nltk.tokenize import RegexpTokenizer\n",
    "from sklearn.model_selection import train_test_split\n",
    "\n",
    "from sklearn.naive_bayes import BernoulliNB, MultinomialNB, ComplementNB\n",
    "from sklearn.metrics import classification_report, confusion_matrix\n",
    "from sklearn import metrics\n",
    "from sklearn.metrics import precision_score, recall_score, f1_score"
   ]
  },
  {
   "cell_type": "code",
   "execution_count": 5,
   "metadata": {
    "ExecuteTime": {
     "end_time": "2024-10-04T09:25:52.661518200Z",
     "start_time": "2024-10-04T09:25:48.849097500Z"
    },
    "collapsed": false
   },
   "outputs": [
    {
     "name": "stderr",
     "output_type": "stream",
     "text": [
      "[nltk_data] Downloading package punkt to\n",
      "[nltk_data]     C:\\Users\\fried\\AppData\\Roaming\\nltk_data...\n",
      "[nltk_data]   Package punkt is already up-to-date!\n",
      "[nltk_data] Downloading package stopwords to\n",
      "[nltk_data]     C:\\Users\\fried\\AppData\\Roaming\\nltk_data...\n",
      "[nltk_data]   Package stopwords is already up-to-date!\n",
      "[nltk_data] Downloading package wordnet to\n",
      "[nltk_data]     C:\\Users\\fried\\AppData\\Roaming\\nltk_data...\n",
      "[nltk_data]   Package wordnet is already up-to-date!\n",
      "[nltk_data] Downloading package omw-1.4 to\n",
      "[nltk_data]     C:\\Users\\fried\\AppData\\Roaming\\nltk_data...\n",
      "[nltk_data]   Package omw-1.4 is already up-to-date!\n"
     ]
    },
    {
     "data": {
      "text/plain": [
       "True"
      ]
     },
     "execution_count": 5,
     "metadata": {},
     "output_type": "execute_result"
    }
   ],
   "source": [
    "nltk.download('punkt')\n",
    "nltk.download('stopwords')\n",
    "nltk.download('wordnet')\n",
    "nltk.download('omw-1.4')"
   ]
  },
  {
   "cell_type": "code",
   "execution_count": 6,
   "metadata": {
    "ExecuteTime": {
     "end_time": "2024-10-04T09:25:52.681686400Z",
     "start_time": "2024-10-04T09:25:49.131514900Z"
    },
    "collapsed": false
   },
   "outputs": [],
   "source": [
    "stop_words = stopwords.words()"
   ]
  },
  {
   "cell_type": "markdown",
   "metadata": {
    "collapsed": false
   },
   "source": [
    "# Loading the data"
   ]
  },
  {
   "cell_type": "code",
   "execution_count": 7,
   "metadata": {
    "ExecuteTime": {
     "end_time": "2024-10-06T11:42:00.889486900Z",
     "start_time": "2024-10-06T11:42:00.767488200Z"
    },
    "collapsed": false
   },
   "outputs": [],
   "source": [
    "col_names = ['thread', 'topic', \"sentiment\", \"tweet\"]\n",
    "# df_raw = pd.read_csv(\"C:\\\\Users\\\\admin\\\\PycharmProjects\\\\WebScience24\\\\data\\\\twitter_hate-speech\\\\twitter_validation.csv\",\n",
    "#                      names=col_names, index_col=0)\n",
    "df_raw = pd.read_csv(\"C:\\\\Users\\\\fried\\\\Desktop\\\\WS 24_25\\\\Projektpraktikum\\\\WebScience24\\\\data\\\\twitter_hate-speech\\\\twitter_validation.csv\",\n",
    "                    names=col_names, index_col=0)"
   ]
  },
  {
   "cell_type": "code",
   "execution_count": 8,
   "metadata": {
    "ExecuteTime": {
     "end_time": "2024-10-06T11:41:49.879956400Z",
     "start_time": "2024-10-06T11:41:49.566956100Z"
    },
    "collapsed": false
   },
   "outputs": [],
   "source": [
    "col_names = ['thread', 'topic', \"sentiment\", \"tweet\"]\n",
    "# df_raw = pd.read_csv(\"C:\\\\Users\\\\admin\\\\PycharmProjects\\\\WebScience24\\\\data\\\\twitter_hate-speech\\\\twitter_training.csv\",\n",
    "#                      names=col_names, index_col=0, encoding=\"utf-8\")\n",
    "df_raw = pd.read_csv(\"C:\\\\Users\\\\fried\\\\Desktop\\\\WS 24_25\\\\Projektpraktikum\\\\WebScience24\\\\data\\\\twitter_hate-speech\\\\twitter_training.csv\",\n",
    "                     names=col_names, index_col=0, encoding=\"utf-8\")\n",
    "df_raw = df_raw.reset_index()"
   ]
  },
  {
   "cell_type": "code",
   "execution_count": 9,
   "metadata": {
    "ExecuteTime": {
     "end_time": "2024-10-06T11:41:49.972953600Z",
     "start_time": "2024-10-06T11:41:49.851955400Z"
    },
    "collapsed": false
   },
   "outputs": [
    {
     "data": {
      "text/html": [
       "<div>\n",
       "<style scoped>\n",
       "    .dataframe tbody tr th:only-of-type {\n",
       "        vertical-align: middle;\n",
       "    }\n",
       "\n",
       "    .dataframe tbody tr th {\n",
       "        vertical-align: top;\n",
       "    }\n",
       "\n",
       "    .dataframe thead th {\n",
       "        text-align: right;\n",
       "    }\n",
       "</style>\n",
       "<table border=\"1\" class=\"dataframe\">\n",
       "  <thead>\n",
       "    <tr style=\"text-align: right;\">\n",
       "      <th></th>\n",
       "      <th>thread</th>\n",
       "      <th>topic</th>\n",
       "      <th>sentiment</th>\n",
       "      <th>tweet</th>\n",
       "    </tr>\n",
       "  </thead>\n",
       "  <tbody>\n",
       "    <tr>\n",
       "      <th>0</th>\n",
       "      <td>2401</td>\n",
       "      <td>Borderlands</td>\n",
       "      <td>Positive</td>\n",
       "      <td>im getting on borderlands and i will murder yo...</td>\n",
       "    </tr>\n",
       "    <tr>\n",
       "      <th>1</th>\n",
       "      <td>2401</td>\n",
       "      <td>Borderlands</td>\n",
       "      <td>Positive</td>\n",
       "      <td>I am coming to the borders and I will kill you...</td>\n",
       "    </tr>\n",
       "    <tr>\n",
       "      <th>2</th>\n",
       "      <td>2401</td>\n",
       "      <td>Borderlands</td>\n",
       "      <td>Positive</td>\n",
       "      <td>im getting on borderlands and i will kill you ...</td>\n",
       "    </tr>\n",
       "    <tr>\n",
       "      <th>3</th>\n",
       "      <td>2401</td>\n",
       "      <td>Borderlands</td>\n",
       "      <td>Positive</td>\n",
       "      <td>im coming on borderlands and i will murder you...</td>\n",
       "    </tr>\n",
       "    <tr>\n",
       "      <th>4</th>\n",
       "      <td>2401</td>\n",
       "      <td>Borderlands</td>\n",
       "      <td>Positive</td>\n",
       "      <td>im getting on borderlands 2 and i will murder ...</td>\n",
       "    </tr>\n",
       "  </tbody>\n",
       "</table>\n",
       "</div>"
      ],
      "text/plain": [
       "   thread        topic sentiment  \\\n",
       "0    2401  Borderlands  Positive   \n",
       "1    2401  Borderlands  Positive   \n",
       "2    2401  Borderlands  Positive   \n",
       "3    2401  Borderlands  Positive   \n",
       "4    2401  Borderlands  Positive   \n",
       "\n",
       "                                               tweet  \n",
       "0  im getting on borderlands and i will murder yo...  \n",
       "1  I am coming to the borders and I will kill you...  \n",
       "2  im getting on borderlands and i will kill you ...  \n",
       "3  im coming on borderlands and i will murder you...  \n",
       "4  im getting on borderlands 2 and i will murder ...  "
      ]
     },
     "execution_count": 9,
     "metadata": {},
     "output_type": "execute_result"
    }
   ],
   "source": [
    "df_raw.head()"
   ]
  },
  {
   "cell_type": "code",
   "execution_count": 10,
   "metadata": {},
   "outputs": [],
   "source": [
    "#  avoid characters of text column to be cut off by default Pandas DataFrame limitations\n",
    "pd.set_option('display.max_colwidth', 400)"
   ]
  },
  {
   "cell_type": "markdown",
   "metadata": {
    "collapsed": false
   },
   "source": [
    "## Save val data"
   ]
  },
  {
   "cell_type": "code",
   "execution_count": 11,
   "metadata": {
    "ExecuteTime": {
     "end_time": "2024-10-04T09:25:52.762436700Z",
     "start_time": "2024-10-04T09:25:49.333108900Z"
    },
    "collapsed": false
   },
   "outputs": [
    {
     "data": {
      "text/plain": [
       "(59746, 4)"
      ]
     },
     "execution_count": 11,
     "metadata": {},
     "output_type": "execute_result"
    }
   ],
   "source": [
    "train_df = df_raw.sample(frac = 0.8)\n",
    "train_df.shape"
   ]
  },
  {
   "cell_type": "code",
   "execution_count": 12,
   "metadata": {
    "ExecuteTime": {
     "end_time": "2024-10-04T09:25:52.762436700Z",
     "start_time": "2024-10-04T09:25:49.353337700Z"
    },
    "collapsed": false
   },
   "outputs": [
    {
     "data": {
      "text/plain": [
       "(14936, 4)"
      ]
     },
     "execution_count": 12,
     "metadata": {},
     "output_type": "execute_result"
    }
   ],
   "source": [
    "val_df = df_raw.drop(train_df.index)\n",
    "val_df.shape"
   ]
  },
  {
   "cell_type": "code",
   "execution_count": 13,
   "metadata": {
    "ExecuteTime": {
     "end_time": "2024-10-04T09:25:52.762436700Z",
     "start_time": "2024-10-04T09:25:49.373515500Z"
    },
    "collapsed": false
   },
   "outputs": [],
   "source": [
    "filepath = Path('data/twitter_validation_new.csv')\n",
    "filepath.parent.mkdir(parents=True, exist_ok=True)"
   ]
  },
  {
   "cell_type": "code",
   "execution_count": 14,
   "metadata": {
    "ExecuteTime": {
     "end_time": "2024-10-04T09:25:52.943809100Z",
     "start_time": "2024-10-04T09:25:49.393687900Z"
    },
    "collapsed": false
   },
   "outputs": [],
   "source": [
    "val_df.to_csv(filepath)"
   ]
  },
  {
   "cell_type": "markdown",
   "metadata": {
    "collapsed": false
   },
   "source": [
    "# Preparing the data"
   ]
  },
  {
   "cell_type": "code",
   "execution_count": 15,
   "metadata": {
    "ExecuteTime": {
     "end_time": "2024-10-04T09:25:52.955903200Z",
     "start_time": "2024-10-04T09:25:49.514681600Z"
    },
    "collapsed": false
   },
   "outputs": [],
   "source": [
    "df = train_df"
   ]
  },
  {
   "cell_type": "code",
   "execution_count": 16,
   "metadata": {
    "ExecuteTime": {
     "end_time": "2024-10-04T09:25:52.955903200Z",
     "start_time": "2024-10-04T09:25:49.534907800Z"
    },
    "collapsed": false
   },
   "outputs": [
    {
     "name": "stdout",
     "output_type": "stream",
     "text": [
      "<class 'pandas.core.frame.DataFrame'>\n",
      "Int64Index: 59746 entries, 17268 to 14997\n",
      "Data columns (total 4 columns):\n",
      " #   Column     Non-Null Count  Dtype \n",
      "---  ------     --------------  ----- \n",
      " 0   thread     59746 non-null  int64 \n",
      " 1   topic      59746 non-null  object\n",
      " 2   sentiment  59746 non-null  object\n",
      " 3   tweet      59219 non-null  object\n",
      "dtypes: int64(1), object(3)\n",
      "memory usage: 2.3+ MB\n"
     ]
    }
   ],
   "source": [
    "df.info()"
   ]
  },
  {
   "cell_type": "markdown",
   "metadata": {
    "collapsed": false
   },
   "source": [
    "## Duplicate-Check"
   ]
  },
  {
   "cell_type": "code",
   "execution_count": 17,
   "metadata": {
    "ExecuteTime": {
     "end_time": "2024-10-04T09:25:53.006322800Z",
     "start_time": "2024-10-04T09:25:49.595485200Z"
    },
    "collapsed": false
   },
   "outputs": [
    {
     "data": {
      "text/plain": [
       "1791"
      ]
     },
     "execution_count": 17,
     "metadata": {},
     "output_type": "execute_result"
    }
   ],
   "source": [
    "df.duplicated().sum()"
   ]
  },
  {
   "cell_type": "markdown",
   "metadata": {
    "collapsed": false
   },
   "source": [
    "=> bei der Menge an Daten (ca. 75k) sollten die Duplikate entfernt werden"
   ]
  },
  {
   "cell_type": "code",
   "execution_count": 18,
   "metadata": {
    "ExecuteTime": {
     "end_time": "2024-10-04T09:25:53.034559700Z",
     "start_time": "2024-10-04T09:25:49.656186400Z"
    },
    "collapsed": false
   },
   "outputs": [
    {
     "data": {
      "text/plain": [
       "0"
      ]
     },
     "execution_count": 18,
     "metadata": {},
     "output_type": "execute_result"
    }
   ],
   "source": [
    "df = df.drop_duplicates()\n",
    "df.duplicated().sum()"
   ]
  },
  {
   "cell_type": "markdown",
   "metadata": {},
   "source": [
    "## Delete Noise // Irrelevant Data"
   ]
  },
  {
   "cell_type": "code",
   "execution_count": 36,
   "metadata": {},
   "outputs": [],
   "source": [
    "df = df[df['sentiment'] != 'Irrelevant']"
   ]
  },
  {
   "cell_type": "markdown",
   "metadata": {
    "collapsed": false
   },
   "source": [
    "## Null-Check"
   ]
  },
  {
   "cell_type": "code",
   "execution_count": 38,
   "metadata": {
    "ExecuteTime": {
     "end_time": "2024-10-04T09:25:53.034559700Z",
     "start_time": "2024-10-04T09:25:49.736988600Z"
    },
    "collapsed": false
   },
   "outputs": [
    {
     "data": {
      "text/plain": [
       "thread        0\n",
       "topic         0\n",
       "sentiment     0\n",
       "tweet         0\n",
       "char_count    0\n",
       "word_count    0\n",
       "dtype: int64"
      ]
     },
     "execution_count": 38,
     "metadata": {},
     "output_type": "execute_result"
    }
   ],
   "source": [
    "df.isna().sum()"
   ]
  },
  {
   "cell_type": "markdown",
   "metadata": {
    "collapsed": false
   },
   "source": [
    "=> es fehlen nur Einträge bei Tweet, dabei handelt es sich aber um das entscheidende Feature; ohne Tweet ist der Eintrag wertlos, daher droppen"
   ]
  },
  {
   "cell_type": "code",
   "execution_count": 39,
   "metadata": {
    "ExecuteTime": {
     "end_time": "2024-10-04T09:25:53.036599900Z",
     "start_time": "2024-10-04T09:25:49.797637300Z"
    },
    "collapsed": false
   },
   "outputs": [
    {
     "data": {
      "text/plain": [
       "thread        0\n",
       "topic         0\n",
       "sentiment     0\n",
       "tweet         0\n",
       "char_count    0\n",
       "word_count    0\n",
       "dtype: int64"
      ]
     },
     "execution_count": 39,
     "metadata": {},
     "output_type": "execute_result"
    }
   ],
   "source": [
    "df.dropna(axis=\"rows\", inplace=True)\n",
    "df.isna().sum()"
   ]
  },
  {
   "cell_type": "markdown",
   "metadata": {
    "collapsed": false
   },
   "source": [
    "## Inconsistent text & typos"
   ]
  },
  {
   "cell_type": "code",
   "execution_count": 40,
   "metadata": {
    "ExecuteTime": {
     "end_time": "2024-10-04T09:25:53.036599900Z",
     "start_time": "2024-10-04T09:25:49.878419600Z"
    },
    "collapsed": false
   },
   "outputs": [
    {
     "name": "stdout",
     "output_type": "stream",
     "text": [
      "Column: Topic\n",
      "Amazon                               1667\n",
      "ApexLegends                          1702\n",
      "AssassinsCreed                       1535\n",
      "Battlefield                          1073\n",
      "Borderlands                          1589\n",
      "CS-GO                                1258\n",
      "CallOfDuty                           1324\n",
      "CallOfDutyBlackopsColdWar            1339\n",
      "Cyberpunk2077                        1376\n",
      "Dota2                                1456\n",
      "FIFA                                 1357\n",
      "Facebook                             1318\n",
      "Fortnite                             1116\n",
      "Google                               1370\n",
      "GrandTheftAuto(GTA)                  1174\n",
      "Hearthstone                          1599\n",
      "HomeDepot                            1557\n",
      "LeagueOfLegends                      1603\n",
      "MaddenNFL                            1812\n",
      "Microsoft                            1718\n",
      "NBA2K                                1727\n",
      "Nvidia                               1701\n",
      "Overwatch                            1296\n",
      "PlayStation5(PS5)                    1473\n",
      "PlayerUnknownsBattlegrounds(PUBG)    1054\n",
      "RedDeadRedemption(RDR)               1549\n",
      "TomClancysGhostRecon                 1865\n",
      "TomClancysRainbowSix                 1777\n",
      "Verizon                              1736\n",
      "WorldOfCraft                         1665\n",
      "Xbox(Xseries)                        1209\n",
      "johnson&johnson                      1647\n",
      "Name: topic, dtype: int64\n"
     ]
    }
   ],
   "source": [
    "print('Column: Topic')\n",
    "print(df['topic'].value_counts().sort_index())"
   ]
  },
  {
   "cell_type": "markdown",
   "metadata": {
    "collapsed": false
   },
   "source": [
    "=> keine Typos erkennbar\n",
    "=> Doppelung von CallOfDuty / CallOfDutyBlackopsColdWar -> ggf. zusammenlegen"
   ]
  },
  {
   "cell_type": "code",
   "execution_count": 41,
   "metadata": {
    "ExecuteTime": {
     "end_time": "2024-10-04T09:25:53.036599900Z",
     "start_time": "2024-10-04T09:25:49.898608900Z"
    },
    "collapsed": false
   },
   "outputs": [
    {
     "data": {
      "text/html": [
       "<div>\n",
       "<style scoped>\n",
       "    .dataframe tbody tr th:only-of-type {\n",
       "        vertical-align: middle;\n",
       "    }\n",
       "\n",
       "    .dataframe tbody tr th {\n",
       "        vertical-align: top;\n",
       "    }\n",
       "\n",
       "    .dataframe thead th {\n",
       "        text-align: right;\n",
       "    }\n",
       "</style>\n",
       "<table border=\"1\" class=\"dataframe\">\n",
       "  <thead>\n",
       "    <tr style=\"text-align: right;\">\n",
       "      <th></th>\n",
       "      <th>thread</th>\n",
       "      <th>topic</th>\n",
       "      <th>sentiment</th>\n",
       "      <th>tweet</th>\n",
       "      <th>char_count</th>\n",
       "      <th>word_count</th>\n",
       "    </tr>\n",
       "  </thead>\n",
       "  <tbody>\n",
       "    <tr>\n",
       "      <th>74</th>\n",
       "      <td>2065</td>\n",
       "      <td>CallOfDuty</td>\n",
       "      <td>Positive</td>\n",
       "      <td>Nice visual two piece here.</td>\n",
       "      <td>27</td>\n",
       "      <td>5</td>\n",
       "    </tr>\n",
       "    <tr>\n",
       "      <th>80</th>\n",
       "      <td>2099</td>\n",
       "      <td>CallOfDuty</td>\n",
       "      <td>Negative</td>\n",
       "      <td>@CallofDuty very seriously. We go to fix this issue. please let me know who to contact.</td>\n",
       "      <td>87</td>\n",
       "      <td>16</td>\n",
       "    </tr>\n",
       "    <tr>\n",
       "      <th>124</th>\n",
       "      <td>2151</td>\n",
       "      <td>CallOfDuty</td>\n",
       "      <td>Positive</td>\n",
       "      <td>This is not an amateur hour! I am still destroying some Call of Duty: Modern Warfare.. twitch.tv / squatchmd</td>\n",
       "      <td>108</td>\n",
       "      <td>19</td>\n",
       "    </tr>\n",
       "    <tr>\n",
       "      <th>171</th>\n",
       "      <td>2329</td>\n",
       "      <td>CallOfDuty</td>\n",
       "      <td>Positive</td>\n",
       "      <td>Good little session report on COD earlier - And absolutely beaming folks</td>\n",
       "      <td>72</td>\n",
       "      <td>12</td>\n",
       "    </tr>\n",
       "    <tr>\n",
       "      <th>265</th>\n",
       "      <td>2148</td>\n",
       "      <td>CallOfDuty</td>\n",
       "      <td>Negative</td>\n",
       "      <td>This was amazing.</td>\n",
       "      <td>17</td>\n",
       "      <td>3</td>\n",
       "    </tr>\n",
       "    <tr>\n",
       "      <th>...</th>\n",
       "      <td>...</td>\n",
       "      <td>...</td>\n",
       "      <td>...</td>\n",
       "      <td>...</td>\n",
       "      <td>...</td>\n",
       "      <td>...</td>\n",
       "    </tr>\n",
       "    <tr>\n",
       "      <th>57505</th>\n",
       "      <td>2209</td>\n",
       "      <td>CallOfDuty</td>\n",
       "      <td>Positive</td>\n",
       "      <td>I'm excited to play Call of Duty.</td>\n",
       "      <td>33</td>\n",
       "      <td>7</td>\n",
       "    </tr>\n",
       "    <tr>\n",
       "      <th>57514</th>\n",
       "      <td>2303</td>\n",
       "      <td>CallOfDuty</td>\n",
       "      <td>Positive</td>\n",
       "      <td>Nice!</td>\n",
       "      <td>5</td>\n",
       "      <td>1</td>\n",
       "    </tr>\n",
       "    <tr>\n",
       "      <th>57533</th>\n",
       "      <td>2305</td>\n",
       "      <td>CallOfDuty</td>\n",
       "      <td>Neutral</td>\n",
       "      <td>@CallofDuty got a collateral last night at Warzone on a moving vehicle</td>\n",
       "      <td>70</td>\n",
       "      <td>12</td>\n",
       "    </tr>\n",
       "    <tr>\n",
       "      <th>57583</th>\n",
       "      <td>2017</td>\n",
       "      <td>CallOfDuty</td>\n",
       "      <td>Positive</td>\n",
       "      <td>thank god... for EOD</td>\n",
       "      <td>20</td>\n",
       "      <td>4</td>\n",
       "    </tr>\n",
       "    <tr>\n",
       "      <th>57601</th>\n",
       "      <td>2318</td>\n",
       "      <td>CallOfDuty</td>\n",
       "      <td>Negative</td>\n",
       "      <td>who ever.</td>\n",
       "      <td>9</td>\n",
       "      <td>2</td>\n",
       "    </tr>\n",
       "  </tbody>\n",
       "</table>\n",
       "<p>1324 rows × 6 columns</p>\n",
       "</div>"
      ],
      "text/plain": [
       "       thread       topic sentiment  \\\n",
       "74       2065  CallOfDuty  Positive   \n",
       "80       2099  CallOfDuty  Negative   \n",
       "124      2151  CallOfDuty  Positive   \n",
       "171      2329  CallOfDuty  Positive   \n",
       "265      2148  CallOfDuty  Negative   \n",
       "...       ...         ...       ...   \n",
       "57505    2209  CallOfDuty  Positive   \n",
       "57514    2303  CallOfDuty  Positive   \n",
       "57533    2305  CallOfDuty   Neutral   \n",
       "57583    2017  CallOfDuty  Positive   \n",
       "57601    2318  CallOfDuty  Negative   \n",
       "\n",
       "                                                                                                              tweet  \\\n",
       "74                                                                                      Nice visual two piece here.   \n",
       "80                          @CallofDuty very seriously. We go to fix this issue. please let me know who to contact.   \n",
       "124    This is not an amateur hour! I am still destroying some Call of Duty: Modern Warfare.. twitch.tv / squatchmd   \n",
       "171                                        Good little session report on COD earlier - And absolutely beaming folks   \n",
       "265                                                                                               This was amazing.   \n",
       "...                                                                                                             ...   \n",
       "57505                                                                             I'm excited to play Call of Duty.   \n",
       "57514                                                                                                         Nice!   \n",
       "57533                                        @CallofDuty got a collateral last night at Warzone on a moving vehicle   \n",
       "57583                                                                                          thank god... for EOD   \n",
       "57601                                                                                                     who ever.   \n",
       "\n",
       "       char_count  word_count  \n",
       "74             27           5  \n",
       "80             87          16  \n",
       "124           108          19  \n",
       "171            72          12  \n",
       "265            17           3  \n",
       "...           ...         ...  \n",
       "57505          33           7  \n",
       "57514           5           1  \n",
       "57533          70          12  \n",
       "57583          20           4  \n",
       "57601           9           2  \n",
       "\n",
       "[1324 rows x 6 columns]"
      ]
     },
     "execution_count": 41,
     "metadata": {},
     "output_type": "execute_result"
    }
   ],
   "source": [
    "df[(df.topic == \"CallOfDuty\")]"
   ]
  },
  {
   "cell_type": "code",
   "execution_count": 42,
   "metadata": {
    "ExecuteTime": {
     "end_time": "2024-10-04T09:25:53.036599900Z",
     "start_time": "2024-10-04T09:25:49.918773400Z"
    },
    "collapsed": false
   },
   "outputs": [
    {
     "data": {
      "text/html": [
       "<div>\n",
       "<style scoped>\n",
       "    .dataframe tbody tr th:only-of-type {\n",
       "        vertical-align: middle;\n",
       "    }\n",
       "\n",
       "    .dataframe tbody tr th {\n",
       "        vertical-align: top;\n",
       "    }\n",
       "\n",
       "    .dataframe thead th {\n",
       "        text-align: right;\n",
       "    }\n",
       "</style>\n",
       "<table border=\"1\" class=\"dataframe\">\n",
       "  <thead>\n",
       "    <tr style=\"text-align: right;\">\n",
       "      <th></th>\n",
       "      <th>thread</th>\n",
       "      <th>topic</th>\n",
       "      <th>sentiment</th>\n",
       "      <th>tweet</th>\n",
       "      <th>char_count</th>\n",
       "      <th>word_count</th>\n",
       "    </tr>\n",
       "  </thead>\n",
       "  <tbody>\n",
       "    <tr>\n",
       "      <th>4723</th>\n",
       "      <td>2009</td>\n",
       "      <td>CallOfDuty</td>\n",
       "      <td>Neutral</td>\n",
       "      <td>If anyone anyone knows by me i was literally a god at that Black ops 1 cant wait</td>\n",
       "      <td>80</td>\n",
       "      <td>18</td>\n",
       "    </tr>\n",
       "    <tr>\n",
       "      <th>4810</th>\n",
       "      <td>2009</td>\n",
       "      <td>CallOfDuty</td>\n",
       "      <td>Neutral</td>\n",
       "      <td>If anyone knows me i was literally a god at Black ops 1 cant wait</td>\n",
       "      <td>65</td>\n",
       "      <td>15</td>\n",
       "    </tr>\n",
       "    <tr>\n",
       "      <th>4891</th>\n",
       "      <td>2188</td>\n",
       "      <td>CallOfDuty</td>\n",
       "      <td>Neutral</td>\n",
       "      <td>@CallofDuty Can you also change the code H WARZONE to CAMPZONE please???? @Activision So many Dirty Skilled Gamers Camping Buystations, free drops in this game!. I enjoyed Blackout way more....</td>\n",
       "      <td>193</td>\n",
       "      <td>30</td>\n",
       "    </tr>\n",
       "    <tr>\n",
       "      <th>7821</th>\n",
       "      <td>2336</td>\n",
       "      <td>CallOfDuty</td>\n",
       "      <td>Neutral</td>\n",
       "      <td>Activision confirms that the title of Call of Duty 2020 Black Ops: Cold War: Do you know your story or are you doomed to repeat it. dlvr.it / Rf3VSg</td>\n",
       "      <td>148</td>\n",
       "      <td>29</td>\n",
       "    </tr>\n",
       "    <tr>\n",
       "      <th>8984</th>\n",
       "      <td>2336</td>\n",
       "      <td>CallOfDuty</td>\n",
       "      <td>Neutral</td>\n",
       "      <td>Activision now confirms further that this 2020'at s new Call of Duty title is Black Ops : Cold War : Know your history, or might be absolutely doomed to repeat it. via dlvr. it / Rf3VSg</td>\n",
       "      <td>185</td>\n",
       "      <td>36</td>\n",
       "    </tr>\n",
       "    <tr>\n",
       "      <th>9117</th>\n",
       "      <td>2009</td>\n",
       "      <td>CallOfDuty</td>\n",
       "      <td>Neutral</td>\n",
       "      <td>If anyone knows me i was literally a game before Black ops 1 cant wait</td>\n",
       "      <td>70</td>\n",
       "      <td>15</td>\n",
       "    </tr>\n",
       "    <tr>\n",
       "      <th>9138</th>\n",
       "      <td>2188</td>\n",
       "      <td>CallOfDuty</td>\n",
       "      <td>Neutral</td>\n",
       "      <td>@ CFDuty Can you please change the name of WARZONE to CAMPZONE please??? @ Afvision So many Great Skilled Gamers \"Buystations, Loadout drops in this game!. I enjoyed blackout way more....</td>\n",
       "      <td>187</td>\n",
       "      <td>31</td>\n",
       "    </tr>\n",
       "    <tr>\n",
       "      <th>9308</th>\n",
       "      <td>2188</td>\n",
       "      <td>CallOfDuty</td>\n",
       "      <td>Neutral</td>\n",
       "      <td>@CallofDuty Can you please change the name of WARZONE to CAMPZONE please???? @Activision So many Great Skilled Gamers Camping Buystations, Loadout drops in this game! . I enjoyed Blackout way more....</td>\n",
       "      <td>200</td>\n",
       "      <td>31</td>\n",
       "    </tr>\n",
       "    <tr>\n",
       "      <th>11228</th>\n",
       "      <td>2336</td>\n",
       "      <td>CallOfDuty</td>\n",
       "      <td>Neutral</td>\n",
       "      <td>Activision confirms that 2020's Call of Duty installment is Black Ops: Cold War: Know your history, or be doomed or repeat it. video.it/Rf3VSg</td>\n",
       "      <td>142</td>\n",
       "      <td>23</td>\n",
       "    </tr>\n",
       "    <tr>\n",
       "      <th>12322</th>\n",
       "      <td>2216</td>\n",
       "      <td>CallOfDuty</td>\n",
       "      <td>Neutral</td>\n",
       "      <td>@PlayCODMobile @M2Games2 i love the call of duty, more unfortunately i'm having a lot of audio bug, every time i'm playing the BR mode of the game, the audio just stops, then i have to close it and open dnv the device i'm using is iOS.</td>\n",
       "      <td>235</td>\n",
       "      <td>46</td>\n",
       "    </tr>\n",
       "    <tr>\n",
       "      <th>12809</th>\n",
       "      <td>2138</td>\n",
       "      <td>CallOfDuty</td>\n",
       "      <td>Positive</td>\n",
       "      <td>I just recently played on black ops level 3 and the omg. It's sooooooo smooth!!! What has happened to a Call Weapons of Duty?!?</td>\n",
       "      <td>127</td>\n",
       "      <td>24</td>\n",
       "    </tr>\n",
       "    <tr>\n",
       "      <th>13077</th>\n",
       "      <td>2166</td>\n",
       "      <td>CallOfDuty</td>\n",
       "      <td>Negative</td>\n",
       "      <td>@Treyarch Call of Duty Black Ops 3 is the best fucking game ever. The scene is ruined by the class havin fuck losers. Fix the fucking game. Can’t go during a crap match without someone fucking invisible in a whole fucking round. Shit ass game, bullshit ass company</td>\n",
       "      <td>264</td>\n",
       "      <td>48</td>\n",
       "    </tr>\n",
       "    <tr>\n",
       "      <th>13799</th>\n",
       "      <td>2004</td>\n",
       "      <td>CallOfDuty</td>\n",
       "      <td>Positive</td>\n",
       "      <td>Have any kind of for you ever played out Call Line of Duty Black Ops Division 3???. 101 It has a plot that is so mind blowing, yet it can easily rival that of Inception ( another one of my favorites ).</td>\n",
       "      <td>201</td>\n",
       "      <td>42</td>\n",
       "    </tr>\n",
       "    <tr>\n",
       "      <th>14260</th>\n",
       "      <td>2336</td>\n",
       "      <td>CallOfDuty</td>\n",
       "      <td>Neutral</td>\n",
       "      <td>Activision confirms that 2020's Call of Duty title is Black Ops: Cold War: Know your history, or be doomed to repeat it. dlvr.it/Rf3VSg</td>\n",
       "      <td>135</td>\n",
       "      <td>23</td>\n",
       "    </tr>\n",
       "    <tr>\n",
       "      <th>18765</th>\n",
       "      <td>2009</td>\n",
       "      <td>CallOfDuty</td>\n",
       "      <td>Neutral</td>\n",
       "      <td>If anyone knows me, I was literally a god at Black Ops 1 can't wait</td>\n",
       "      <td>67</td>\n",
       "      <td>15</td>\n",
       "    </tr>\n",
       "    <tr>\n",
       "      <th>22631</th>\n",
       "      <td>2138</td>\n",
       "      <td>CallOfDuty</td>\n",
       "      <td>Positive</td>\n",
       "      <td>I just played black ops 3 and omg. It's sooooooo cool What has been on Call of Juarez?!?</td>\n",
       "      <td>88</td>\n",
       "      <td>18</td>\n",
       "    </tr>\n",
       "    <tr>\n",
       "      <th>22711</th>\n",
       "      <td>2336</td>\n",
       "      <td>CallOfDuty</td>\n",
       "      <td>Neutral</td>\n",
       "      <td>Abvision confirms that the 2020 title Call of Duty - Black Ops: Cold War: Know your history, or be dumoded to repeat it. dfr.it / Rf3VSg</td>\n",
       "      <td>136</td>\n",
       "      <td>26</td>\n",
       "    </tr>\n",
       "    <tr>\n",
       "      <th>23167</th>\n",
       "      <td>2138</td>\n",
       "      <td>CallOfDuty</td>\n",
       "      <td>Positive</td>\n",
       "      <td>I just played black ops 3 and omg. It's sooooooo smooth!!! What has happened to Call of Duty?!?</td>\n",
       "      <td>95</td>\n",
       "      <td>18</td>\n",
       "    </tr>\n",
       "    <tr>\n",
       "      <th>23549</th>\n",
       "      <td>2141</td>\n",
       "      <td>CallOfDuty</td>\n",
       "      <td>Positive</td>\n",
       "      <td>Modern Warfare has been the best Call of Duty YouTube channel since Black Ops 3 and I'm glad that everyone is getting theirs and growing again. I may not be the biggest fan of the game, but overall it feels good to say that COD is back!</td>\n",
       "      <td>236</td>\n",
       "      <td>47</td>\n",
       "    </tr>\n",
       "    <tr>\n",
       "      <th>26105</th>\n",
       "      <td>2188</td>\n",
       "      <td>CallOfDuty</td>\n",
       "      <td>Neutral</td>\n",
       "      <td>@CallofDuty What Can you you please to change the name Author of Games WARZONE to CAMPZONE again please???? @Activision So many Things Great Skilled Gamers Camping on Buystations, Loadout drops in this new game!. I had enjoyed Blackout way more....</td>\n",
       "      <td>248</td>\n",
       "      <td>40</td>\n",
       "    </tr>\n",
       "    <tr>\n",
       "      <th>26821</th>\n",
       "      <td>2188</td>\n",
       "      <td>CallOfDuty</td>\n",
       "      <td>Neutral</td>\n",
       "      <td>@CallofDuty Can you else change the name of WARZONE to CAMPZONE please???? @Activision Has Very Low Skilled Women Camping IN, Loadout drops in this city!. Have enjoyed myself way more....</td>\n",
       "      <td>187</td>\n",
       "      <td>30</td>\n",
       "    </tr>\n",
       "    <tr>\n",
       "      <th>27260</th>\n",
       "      <td>2138</td>\n",
       "      <td>CallOfDuty</td>\n",
       "      <td>Positive</td>\n",
       "      <td>I just played Black Ops 3 and omg. It's sooooooo slick!!! What happened to Call of Duty?!?</td>\n",
       "      <td>90</td>\n",
       "      <td>17</td>\n",
       "    </tr>\n",
       "    <tr>\n",
       "      <th>27920</th>\n",
       "      <td>2004</td>\n",
       "      <td>CallOfDuty</td>\n",
       "      <td>Positive</td>\n",
       "      <td>Did any of you play Call of Duty Black Ops 3???</td>\n",
       "      <td>47</td>\n",
       "      <td>11</td>\n",
       "    </tr>\n",
       "    <tr>\n",
       "      <th>31484</th>\n",
       "      <td>2166</td>\n",
       "      <td>CallOfDuty</td>\n",
       "      <td>Negative</td>\n",
       "      <td>@ Treyarch Call of Duty Black Ops 3 is the worst game ever played. The game is ruined by havin ass hackers. Fix the fucking game. Can't go in a single match without someone being invisible for a whole fucking round. Shit ass game, shit ass company</td>\n",
       "      <td>247</td>\n",
       "      <td>47</td>\n",
       "    </tr>\n",
       "    <tr>\n",
       "      <th>33068</th>\n",
       "      <td>2166</td>\n",
       "      <td>CallOfDuty</td>\n",
       "      <td>Negative</td>\n",
       "      <td>@Treyarch Call of Duty Black Ops 3 is the worst fucking game ever. The game board is already ruined completely by the glitch class havin ass losers. Fix the perfect fucking game. Can ’ t go into a damn single match play without someone being invisible for almost a whole fucking damn round. Shit ass bad game, shit ass company</td>\n",
       "      <td>326</td>\n",
       "      <td>60</td>\n",
       "    </tr>\n",
       "    <tr>\n",
       "      <th>35431</th>\n",
       "      <td>2166</td>\n",
       "      <td>CallOfDuty</td>\n",
       "      <td>Negative</td>\n",
       "      <td>@Treyarch Call of Duty Black Ops 3 is the worst fucking game ever. The game is ruined by glitch class havin ass losers. Fix the fucking game. Can’t go into a single match without someone being invisible for a whole fucking round. Shit ass game, shit ass company</td>\n",
       "      <td>263</td>\n",
       "      <td>48</td>\n",
       "    </tr>\n",
       "    <tr>\n",
       "      <th>35603</th>\n",
       "      <td>2336</td>\n",
       "      <td>CallOfDuty</td>\n",
       "      <td>Neutral</td>\n",
       "      <td>proof confirms that Campbell's Call to Home remake is Black Ops: Cold War: Know your history, or be foolish to repeat it. dlvr.it/Rf3VSg</td>\n",
       "      <td>136</td>\n",
       "      <td>23</td>\n",
       "    </tr>\n",
       "    <tr>\n",
       "      <th>36283</th>\n",
       "      <td>2138</td>\n",
       "      <td>CallOfDuty</td>\n",
       "      <td>Positive</td>\n",
       "      <td>I just played black ops 3 &amp; omg. It's sooooooo smooth!!! What has happened to call of Duty?!?</td>\n",
       "      <td>93</td>\n",
       "      <td>18</td>\n",
       "    </tr>\n",
       "    <tr>\n",
       "      <th>36932</th>\n",
       "      <td>2004</td>\n",
       "      <td>CallOfDuty</td>\n",
       "      <td>Positive</td>\n",
       "      <td>Did any of you play Call of Duty Black Ops 3??? It has a plot so mind-blowing it's easy to keep up with Inception (another of my favourites).</td>\n",
       "      <td>141</td>\n",
       "      <td>28</td>\n",
       "    </tr>\n",
       "    <tr>\n",
       "      <th>38940</th>\n",
       "      <td>2021</td>\n",
       "      <td>CallOfDuty</td>\n",
       "      <td>Positive</td>\n",
       "      <td>Wow props to Call of Duty for single handedly solving racism</td>\n",
       "      <td>60</td>\n",
       "      <td>11</td>\n",
       "    </tr>\n",
       "    <tr>\n",
       "      <th>47135</th>\n",
       "      <td>2137</td>\n",
       "      <td>CallOfDuty</td>\n",
       "      <td>Negative</td>\n",
       "      <td>This Call of Duty is so broken! As you play on 100 PING, no one stops in a war zone! Dead! Never go online! It's damn awful!</td>\n",
       "      <td>124</td>\n",
       "      <td>27</td>\n",
       "    </tr>\n",
       "    <tr>\n",
       "      <th>49965</th>\n",
       "      <td>2141</td>\n",
       "      <td>CallOfDuty</td>\n",
       "      <td>Positive</td>\n",
       "      <td>Modern Warfare has been the best Call of Duty on YouTube since Black Ops 3, and I'm glad to see that everyone is picking up and growing again.</td>\n",
       "      <td>142</td>\n",
       "      <td>28</td>\n",
       "    </tr>\n",
       "    <tr>\n",
       "      <th>51171</th>\n",
       "      <td>2009</td>\n",
       "      <td>CallOfDuty</td>\n",
       "      <td>Neutral</td>\n",
       "      <td>If anyone knows me i was literally a god at football ops 1 cant wait</td>\n",
       "      <td>68</td>\n",
       "      <td>15</td>\n",
       "    </tr>\n",
       "    <tr>\n",
       "      <th>52084</th>\n",
       "      <td>2141</td>\n",
       "      <td>CallOfDuty</td>\n",
       "      <td>Positive</td>\n",
       "      <td>Modern Warfare has been the best Call of Duty YouTube release since Black Ops 3 and I’m happy seeing everyone getting theirs and growing again. I may not be the biggest fan of the genre but overall please be good to say PC COD is back!</td>\n",
       "      <td>235</td>\n",
       "      <td>46</td>\n",
       "    </tr>\n",
       "    <tr>\n",
       "      <th>55799</th>\n",
       "      <td>2216</td>\n",
       "      <td>CallOfDuty</td>\n",
       "      <td>Neutral</td>\n",
       "      <td>@PlayCODMobile @M2Games2 i love the call of duty, now unfortunately i'm having a lot of audio bug, each time i'm playing the video mode of this game, the audio just stops, then i have to close it and open dnv the device im using is iOS.</td>\n",
       "      <td>236</td>\n",
       "      <td>46</td>\n",
       "    </tr>\n",
       "    <tr>\n",
       "      <th>56712</th>\n",
       "      <td>2004</td>\n",
       "      <td>CallOfDuty</td>\n",
       "      <td>Positive</td>\n",
       "      <td>Have any of you played Call of Duty Black Ops 3???. It has a plot that is so mind blowing, it can easily rival that of Inception (another one of my favorites).</td>\n",
       "      <td>159</td>\n",
       "      <td>32</td>\n",
       "    </tr>\n",
       "  </tbody>\n",
       "</table>\n",
       "</div>"
      ],
      "text/plain": [
       "       thread       topic sentiment  \\\n",
       "4723     2009  CallOfDuty   Neutral   \n",
       "4810     2009  CallOfDuty   Neutral   \n",
       "4891     2188  CallOfDuty   Neutral   \n",
       "7821     2336  CallOfDuty   Neutral   \n",
       "8984     2336  CallOfDuty   Neutral   \n",
       "9117     2009  CallOfDuty   Neutral   \n",
       "9138     2188  CallOfDuty   Neutral   \n",
       "9308     2188  CallOfDuty   Neutral   \n",
       "11228    2336  CallOfDuty   Neutral   \n",
       "12322    2216  CallOfDuty   Neutral   \n",
       "12809    2138  CallOfDuty  Positive   \n",
       "13077    2166  CallOfDuty  Negative   \n",
       "13799    2004  CallOfDuty  Positive   \n",
       "14260    2336  CallOfDuty   Neutral   \n",
       "18765    2009  CallOfDuty   Neutral   \n",
       "22631    2138  CallOfDuty  Positive   \n",
       "22711    2336  CallOfDuty   Neutral   \n",
       "23167    2138  CallOfDuty  Positive   \n",
       "23549    2141  CallOfDuty  Positive   \n",
       "26105    2188  CallOfDuty   Neutral   \n",
       "26821    2188  CallOfDuty   Neutral   \n",
       "27260    2138  CallOfDuty  Positive   \n",
       "27920    2004  CallOfDuty  Positive   \n",
       "31484    2166  CallOfDuty  Negative   \n",
       "33068    2166  CallOfDuty  Negative   \n",
       "35431    2166  CallOfDuty  Negative   \n",
       "35603    2336  CallOfDuty   Neutral   \n",
       "36283    2138  CallOfDuty  Positive   \n",
       "36932    2004  CallOfDuty  Positive   \n",
       "38940    2021  CallOfDuty  Positive   \n",
       "47135    2137  CallOfDuty  Negative   \n",
       "49965    2141  CallOfDuty  Positive   \n",
       "51171    2009  CallOfDuty   Neutral   \n",
       "52084    2141  CallOfDuty  Positive   \n",
       "55799    2216  CallOfDuty   Neutral   \n",
       "56712    2004  CallOfDuty  Positive   \n",
       "\n",
       "                                                                                                                                                                                                                                                                                                                                        tweet  \\\n",
       "4723                                                                                                                                                                                                                                                         If anyone anyone knows by me i was literally a god at that Black ops 1 cant wait   \n",
       "4810                                                                                                                                                                                                                                                                        If anyone knows me i was literally a god at Black ops 1 cant wait   \n",
       "4891                                                                                                                                        @CallofDuty Can you also change the code H WARZONE to CAMPZONE please???? @Activision So many Dirty Skilled Gamers Camping Buystations, free drops in this game!. I enjoyed Blackout way more....   \n",
       "7821                                                                                                                                                                                     Activision confirms that the title of Call of Duty 2020 Black Ops: Cold War: Do you know your story or are you doomed to repeat it. dlvr.it / Rf3VSg   \n",
       "8984                                                                                                                                                Activision now confirms further that this 2020'at s new Call of Duty title is Black Ops : Cold War : Know your history, or might be absolutely doomed to repeat it. via dlvr. it / Rf3VSg   \n",
       "9117                                                                                                                                                                                                                                                                   If anyone knows me i was literally a game before Black ops 1 cant wait   \n",
       "9138                                                                                                                                              @ CFDuty Can you please change the name of WARZONE to CAMPZONE please??? @ Afvision So many Great Skilled Gamers \"Buystations, Loadout drops in this game!. I enjoyed blackout way more....   \n",
       "9308                                                                                                                                 @CallofDuty Can you please change the name of WARZONE to CAMPZONE please???? @Activision So many Great Skilled Gamers Camping Buystations, Loadout drops in this game! . I enjoyed Blackout way more....   \n",
       "11228                                                                                                                                                                                          Activision confirms that 2020's Call of Duty installment is Black Ops: Cold War: Know your history, or be doomed or repeat it. video.it/Rf3VSg   \n",
       "12322                                                                                             @PlayCODMobile @M2Games2 i love the call of duty, more unfortunately i'm having a lot of audio bug, every time i'm playing the BR mode of the game, the audio just stops, then i have to close it and open dnv the device i'm using is iOS.   \n",
       "12809                                                                                                                                                                                                         I just recently played on black ops level 3 and the omg. It's sooooooo smooth!!! What has happened to a Call Weapons of Duty?!?   \n",
       "13077                                                                @Treyarch Call of Duty Black Ops 3 is the best fucking game ever. The scene is ruined by the class havin fuck losers. Fix the fucking game. Can’t go during a crap match without someone fucking invisible in a whole fucking round. Shit ass game, bullshit ass company   \n",
       "13799                                                                                                                               Have any kind of for you ever played out Call Line of Duty Black Ops Division 3???. 101 It has a plot that is so mind blowing, yet it can easily rival that of Inception ( another one of my favorites ).   \n",
       "14260                                                                                                                                                                                                 Activision confirms that 2020's Call of Duty title is Black Ops: Cold War: Know your history, or be doomed to repeat it. dlvr.it/Rf3VSg   \n",
       "18765                                                                                                                                                                                                                                                                     If anyone knows me, I was literally a god at Black Ops 1 can't wait   \n",
       "22631                                                                                                                                                                                                                                                I just played black ops 3 and omg. It's sooooooo cool What has been on Call of Juarez?!?   \n",
       "22711                                                                                                                                                                                                Abvision confirms that the 2020 title Call of Duty - Black Ops: Cold War: Know your history, or be dumoded to repeat it. dfr.it / Rf3VSg   \n",
       "23167                                                                                                                                                                                                                                         I just played black ops 3 and omg. It's sooooooo smooth!!! What has happened to Call of Duty?!?   \n",
       "23549                                                                                            Modern Warfare has been the best Call of Duty YouTube channel since Black Ops 3 and I'm glad that everyone is getting theirs and growing again. I may not be the biggest fan of the game, but overall it feels good to say that COD is back!   \n",
       "26105                                                                                @CallofDuty What Can you you please to change the name Author of Games WARZONE to CAMPZONE again please???? @Activision So many Things Great Skilled Gamers Camping on Buystations, Loadout drops in this new game!. I had enjoyed Blackout way more....   \n",
       "26821                                                                                                                                             @CallofDuty Can you else change the name of WARZONE to CAMPZONE please???? @Activision Has Very Low Skilled Women Camping IN, Loadout drops in this city!. Have enjoyed myself way more....   \n",
       "27260                                                                                                                                                                                                                                              I just played Black Ops 3 and omg. It's sooooooo slick!!! What happened to Call of Duty?!?   \n",
       "27920                                                                                                                                                                                                                                                                                         Did any of you play Call of Duty Black Ops 3???   \n",
       "31484                                                                                 @ Treyarch Call of Duty Black Ops 3 is the worst game ever played. The game is ruined by havin ass hackers. Fix the fucking game. Can't go in a single match without someone being invisible for a whole fucking round. Shit ass game, shit ass company   \n",
       "33068  @Treyarch Call of Duty Black Ops 3 is the worst fucking game ever. The game board is already ruined completely by the glitch class havin ass losers. Fix the perfect fucking game. Can ’ t go into a damn single match play without someone being invisible for almost a whole fucking damn round. Shit ass bad game, shit ass company   \n",
       "35431                                                                 @Treyarch Call of Duty Black Ops 3 is the worst fucking game ever. The game is ruined by glitch class havin ass losers. Fix the fucking game. Can’t go into a single match without someone being invisible for a whole fucking round. Shit ass game, shit ass company     \n",
       "35603                                                                                                                                                                                                proof confirms that Campbell's Call to Home remake is Black Ops: Cold War: Know your history, or be foolish to repeat it. dlvr.it/Rf3VSg   \n",
       "36283                                                                                                                                                                                                                                           I just played black ops 3 & omg. It's sooooooo smooth!!! What has happened to call of Duty?!?   \n",
       "36932                                                                                                                                                                                           Did any of you play Call of Duty Black Ops 3??? It has a plot so mind-blowing it's easy to keep up with Inception (another of my favourites).   \n",
       "38940                                                                                                                                                                                                                                                                            Wow props to Call of Duty for single handedly solving racism   \n",
       "47135                                                                                                                                                                                                            This Call of Duty is so broken! As you play on 100 PING, no one stops in a war zone! Dead! Never go online! It's damn awful!   \n",
       "49965                                                                                                                                                                                          Modern Warfare has been the best Call of Duty on YouTube since Black Ops 3, and I'm glad to see that everyone is picking up and growing again.   \n",
       "51171                                                                                                                                                                                                                                                                    If anyone knows me i was literally a god at football ops 1 cant wait   \n",
       "52084                                                                                             Modern Warfare has been the best Call of Duty YouTube release since Black Ops 3 and I’m happy seeing everyone getting theirs and growing again. I may not be the biggest fan of the genre but overall please be good to say PC COD is back!   \n",
       "55799                                                                                            @PlayCODMobile @M2Games2 i love the call of duty, now unfortunately i'm having a lot of audio bug, each time i'm playing the video mode of this game, the audio just stops, then i have to close it and open dnv the device im using is iOS.   \n",
       "56712                                                                                                                                                                         Have any of you played Call of Duty Black Ops 3???. It has a plot that is so mind blowing, it can easily rival that of Inception (another one of my favorites).   \n",
       "\n",
       "       char_count  word_count  \n",
       "4723           80          18  \n",
       "4810           65          15  \n",
       "4891          193          30  \n",
       "7821          148          29  \n",
       "8984          185          36  \n",
       "9117           70          15  \n",
       "9138          187          31  \n",
       "9308          200          31  \n",
       "11228         142          23  \n",
       "12322         235          46  \n",
       "12809         127          24  \n",
       "13077         264          48  \n",
       "13799         201          42  \n",
       "14260         135          23  \n",
       "18765          67          15  \n",
       "22631          88          18  \n",
       "22711         136          26  \n",
       "23167          95          18  \n",
       "23549         236          47  \n",
       "26105         248          40  \n",
       "26821         187          30  \n",
       "27260          90          17  \n",
       "27920          47          11  \n",
       "31484         247          47  \n",
       "33068         326          60  \n",
       "35431         263          48  \n",
       "35603         136          23  \n",
       "36283          93          18  \n",
       "36932         141          28  \n",
       "38940          60          11  \n",
       "47135         124          27  \n",
       "49965         142          28  \n",
       "51171          68          15  \n",
       "52084         235          46  \n",
       "55799         236          46  \n",
       "56712         159          32  "
      ]
     },
     "execution_count": 42,
     "metadata": {},
     "output_type": "execute_result"
    }
   ],
   "source": [
    "blackops_keywords = \"ops|Ops\"\n",
    "df[(df.topic == \"CallOfDuty\") & (df.tweet.str.contains(blackops_keywords))]"
   ]
  },
  {
   "cell_type": "code",
   "execution_count": 43,
   "metadata": {
    "ExecuteTime": {
     "end_time": "2024-10-04T09:25:53.036599900Z",
     "start_time": "2024-10-04T09:25:50.039664200Z"
    },
    "collapsed": false
   },
   "outputs": [
    {
     "data": {
      "text/html": [
       "<div>\n",
       "<style scoped>\n",
       "    .dataframe tbody tr th:only-of-type {\n",
       "        vertical-align: middle;\n",
       "    }\n",
       "\n",
       "    .dataframe tbody tr th {\n",
       "        vertical-align: top;\n",
       "    }\n",
       "\n",
       "    .dataframe thead th {\n",
       "        text-align: right;\n",
       "    }\n",
       "</style>\n",
       "<table border=\"1\" class=\"dataframe\">\n",
       "  <thead>\n",
       "    <tr style=\"text-align: right;\">\n",
       "      <th></th>\n",
       "      <th>thread</th>\n",
       "      <th>topic</th>\n",
       "      <th>sentiment</th>\n",
       "      <th>tweet</th>\n",
       "      <th>char_count</th>\n",
       "      <th>word_count</th>\n",
       "    </tr>\n",
       "  </thead>\n",
       "  <tbody>\n",
       "    <tr>\n",
       "      <th>20</th>\n",
       "      <td>1983</td>\n",
       "      <td>CallOfDutyBlackopsColdWar</td>\n",
       "      <td>Positive</td>\n",
       "      <td>Man I am so hyped for on Thursday</td>\n",
       "      <td>33</td>\n",
       "      <td>8</td>\n",
       "    </tr>\n",
       "    <tr>\n",
       "      <th>41</th>\n",
       "      <td>1669</td>\n",
       "      <td>CallOfDutyBlackopsColdWar</td>\n",
       "      <td>Neutral</td>\n",
       "      <td>Credit: @ HNSOfficial _ @ ModernWarzone</td>\n",
       "      <td>39</td>\n",
       "      <td>6</td>\n",
       "    </tr>\n",
       "    <tr>\n",
       "      <th>60</th>\n",
       "      <td>1934</td>\n",
       "      <td>CallOfDutyBlackopsColdWar</td>\n",
       "      <td>Negative</td>\n",
       "      <td>Fuck y from ’ all</td>\n",
       "      <td>17</td>\n",
       "      <td>5</td>\n",
       "    </tr>\n",
       "    <tr>\n",
       "      <th>105</th>\n",
       "      <td>1770</td>\n",
       "      <td>CallOfDutyBlackopsColdWar</td>\n",
       "      <td>Negative</td>\n",
       "      <td>Black market Cold War zombies is fucking hype!!!!!!</td>\n",
       "      <td>51</td>\n",
       "      <td>8</td>\n",
       "    </tr>\n",
       "    <tr>\n",
       "      <th>146</th>\n",
       "      <td>1739</td>\n",
       "      <td>CallOfDutyBlackopsColdWar</td>\n",
       "      <td>Negative</td>\n",
       "      <td>Watching RhandlerR PC gameplay and all I see is the hackers that are sitting there in their dirty blown out chairs like... \"soon\" pic.twitter.com/GaGtaKpXTh</td>\n",
       "      <td>156</td>\n",
       "      <td>24</td>\n",
       "    </tr>\n",
       "    <tr>\n",
       "      <th>...</th>\n",
       "      <td>...</td>\n",
       "      <td>...</td>\n",
       "      <td>...</td>\n",
       "      <td>...</td>\n",
       "      <td>...</td>\n",
       "      <td>...</td>\n",
       "    </tr>\n",
       "    <tr>\n",
       "      <th>57362</th>\n",
       "      <td>1666</td>\n",
       "      <td>CallOfDutyBlackopsColdWar</td>\n",
       "      <td>Positive</td>\n",
       "      <td>and LOVING THE CALL OF DUTY: BLACK OPS COLD WAR BETA!!. . MAX RANK FOR TODAY!!!.  pic.twitter.com/RDEn8JHSJR</td>\n",
       "      <td>108</td>\n",
       "      <td>17</td>\n",
       "    </tr>\n",
       "    <tr>\n",
       "      <th>57390</th>\n",
       "      <td>1659</td>\n",
       "      <td>CallOfDutyBlackopsColdWar</td>\n",
       "      <td>Negative</td>\n",
       "      <td>BO1 is top series of all time</td>\n",
       "      <td>29</td>\n",
       "      <td>7</td>\n",
       "    </tr>\n",
       "    <tr>\n",
       "      <th>57511</th>\n",
       "      <td>1773</td>\n",
       "      <td>CallOfDutyBlackopsColdWar</td>\n",
       "      <td>Positive</td>\n",
       "      <td>Good show. @Treyarch may help to play your game.</td>\n",
       "      <td>48</td>\n",
       "      <td>9</td>\n",
       "    </tr>\n",
       "    <tr>\n",
       "      <th>57599</th>\n",
       "      <td>1811</td>\n",
       "      <td>CallOfDutyBlackopsColdWar</td>\n",
       "      <td>Positive</td>\n",
       "      <td>I wish Call of Duty Black Ops Cold War was coming out November 3rd instead. Cant wait</td>\n",
       "      <td>85</td>\n",
       "      <td>17</td>\n",
       "    </tr>\n",
       "    <tr>\n",
       "      <th>57612</th>\n",
       "      <td>1819</td>\n",
       "      <td>CallOfDutyBlackopsColdWar</td>\n",
       "      <td>Positive</td>\n",
       "      <td>Guys.. I'm fucking HYPED now</td>\n",
       "      <td>28</td>\n",
       "      <td>5</td>\n",
       "    </tr>\n",
       "  </tbody>\n",
       "</table>\n",
       "<p>1339 rows × 6 columns</p>\n",
       "</div>"
      ],
      "text/plain": [
       "       thread                      topic sentiment  \\\n",
       "20       1983  CallOfDutyBlackopsColdWar  Positive   \n",
       "41       1669  CallOfDutyBlackopsColdWar   Neutral   \n",
       "60       1934  CallOfDutyBlackopsColdWar  Negative   \n",
       "105      1770  CallOfDutyBlackopsColdWar  Negative   \n",
       "146      1739  CallOfDutyBlackopsColdWar  Negative   \n",
       "...       ...                        ...       ...   \n",
       "57362    1666  CallOfDutyBlackopsColdWar  Positive   \n",
       "57390    1659  CallOfDutyBlackopsColdWar  Negative   \n",
       "57511    1773  CallOfDutyBlackopsColdWar  Positive   \n",
       "57599    1811  CallOfDutyBlackopsColdWar  Positive   \n",
       "57612    1819  CallOfDutyBlackopsColdWar  Positive   \n",
       "\n",
       "                                                                                                                                                              tweet  \\\n",
       "20                                                                                                                                Man I am so hyped for on Thursday   \n",
       "41                                                                                                                          Credit: @ HNSOfficial _ @ ModernWarzone   \n",
       "60                                                                                                                                                Fuck y from ’ all   \n",
       "105                                                                                                             Black market Cold War zombies is fucking hype!!!!!!   \n",
       "146    Watching RhandlerR PC gameplay and all I see is the hackers that are sitting there in their dirty blown out chairs like... \"soon\" pic.twitter.com/GaGtaKpXTh   \n",
       "...                                                                                                                                                             ...   \n",
       "57362                                                  and LOVING THE CALL OF DUTY: BLACK OPS COLD WAR BETA!!. . MAX RANK FOR TODAY!!!.  pic.twitter.com/RDEn8JHSJR   \n",
       "57390                                                                                                                                 BO1 is top series of all time   \n",
       "57511                                                                                                              Good show. @Treyarch may help to play your game.   \n",
       "57599                                                                         I wish Call of Duty Black Ops Cold War was coming out November 3rd instead. Cant wait   \n",
       "57612                                                                                                                                  Guys.. I'm fucking HYPED now   \n",
       "\n",
       "       char_count  word_count  \n",
       "20             33           8  \n",
       "41             39           6  \n",
       "60             17           5  \n",
       "105            51           8  \n",
       "146           156          24  \n",
       "...           ...         ...  \n",
       "57362         108          17  \n",
       "57390          29           7  \n",
       "57511          48           9  \n",
       "57599          85          17  \n",
       "57612          28           5  \n",
       "\n",
       "[1339 rows x 6 columns]"
      ]
     },
     "execution_count": 43,
     "metadata": {},
     "output_type": "execute_result"
    }
   ],
   "source": [
    "df[(df.topic == \"CallOfDutyBlackopsColdWar\")]"
   ]
  },
  {
   "cell_type": "code",
   "execution_count": 44,
   "metadata": {
    "ExecuteTime": {
     "end_time": "2024-10-04T09:25:53.087289400Z",
     "start_time": "2024-10-04T09:25:50.059841Z"
    },
    "collapsed": false
   },
   "outputs": [
    {
     "data": {
      "text/html": [
       "<div>\n",
       "<style scoped>\n",
       "    .dataframe tbody tr th:only-of-type {\n",
       "        vertical-align: middle;\n",
       "    }\n",
       "\n",
       "    .dataframe tbody tr th {\n",
       "        vertical-align: top;\n",
       "    }\n",
       "\n",
       "    .dataframe thead th {\n",
       "        text-align: right;\n",
       "    }\n",
       "</style>\n",
       "<table border=\"1\" class=\"dataframe\">\n",
       "  <thead>\n",
       "    <tr style=\"text-align: right;\">\n",
       "      <th></th>\n",
       "      <th>thread</th>\n",
       "      <th>topic</th>\n",
       "      <th>sentiment</th>\n",
       "      <th>tweet</th>\n",
       "      <th>char_count</th>\n",
       "      <th>word_count</th>\n",
       "    </tr>\n",
       "  </thead>\n",
       "  <tbody>\n",
       "    <tr>\n",
       "      <th>41</th>\n",
       "      <td>1669</td>\n",
       "      <td>CallOfDutyBlackopsColdWar</td>\n",
       "      <td>Neutral</td>\n",
       "      <td>Credit: @ HNSOfficial _ @ ModernWarzone</td>\n",
       "      <td>39</td>\n",
       "      <td>6</td>\n",
       "    </tr>\n",
       "    <tr>\n",
       "      <th>230</th>\n",
       "      <td>1778</td>\n",
       "      <td>CallOfDutyBlackopsColdWar</td>\n",
       "      <td>Negative</td>\n",
       "      <td>I loved Black Ops, but after Modern Warfare this Cold War shit is not for me</td>\n",
       "      <td>76</td>\n",
       "      <td>16</td>\n",
       "    </tr>\n",
       "    <tr>\n",
       "      <th>1593</th>\n",
       "      <td>1943</td>\n",
       "      <td>CallOfDutyBlackopsColdWar</td>\n",
       "      <td>Positive</td>\n",
       "      <td>The drinks menu looks so nice. I mean just kinda dont understand why people thought Your CW Worldwide would gets its own BR. They literally said its never going to cross over over to THE Warzone. The big Cold War coming..........</td>\n",
       "      <td>229</td>\n",
       "      <td>41</td>\n",
       "    </tr>\n",
       "    <tr>\n",
       "      <th>3848</th>\n",
       "      <td>1875</td>\n",
       "      <td>CallOfDutyBlackopsColdWar</td>\n",
       "      <td>Positive</td>\n",
       "      <td>A Win for Verdansk's finest.. . \"Mil-sim\". .</td>\n",
       "      <td>46</td>\n",
       "      <td>8</td>\n",
       "    </tr>\n",
       "    <tr>\n",
       "      <th>4261</th>\n",
       "      <td>1967</td>\n",
       "      <td>CallOfDutyBlackopsColdWar</td>\n",
       "      <td>Negative</td>\n",
       "      <td>The latest Warzone and Modern Warfare patch has leaked tons of Black Ops: Cold War details including singleplayer campaign description, editions, and estimated release date. &lt;unk&gt;.</td>\n",
       "      <td>180</td>\n",
       "      <td>26</td>\n",
       "    </tr>\n",
       "    <tr>\n",
       "      <th>...</th>\n",
       "      <td>...</td>\n",
       "      <td>...</td>\n",
       "      <td>...</td>\n",
       "      <td>...</td>\n",
       "      <td>...</td>\n",
       "      <td>...</td>\n",
       "    </tr>\n",
       "    <tr>\n",
       "      <th>54990</th>\n",
       "      <td>1820</td>\n",
       "      <td>CallOfDutyBlackopsColdWar</td>\n",
       "      <td>Positive</td>\n",
       "      <td>It looks amazing! Have high hopes for this.. given how bad the recent mw / warzone is...</td>\n",
       "      <td>88</td>\n",
       "      <td>17</td>\n",
       "    </tr>\n",
       "    <tr>\n",
       "      <th>55721</th>\n",
       "      <td>1943</td>\n",
       "      <td>CallOfDutyBlackopsColdWar</td>\n",
       "      <td>Positive</td>\n",
       "      <td>I just don't understand why people thought the CW would get its own weapons. They literally said it would go to Warzone.</td>\n",
       "      <td>120</td>\n",
       "      <td>22</td>\n",
       "    </tr>\n",
       "    <tr>\n",
       "      <th>56344</th>\n",
       "      <td>1875</td>\n",
       "      <td>CallOfDutyBlackopsColdWar</td>\n",
       "      <td>Positive</td>\n",
       "      <td>After A Quick Win for Verdansk'man s finest... \" Lord Mil - sim \"..</td>\n",
       "      <td>67</td>\n",
       "      <td>14</td>\n",
       "    </tr>\n",
       "    <tr>\n",
       "      <th>56479</th>\n",
       "      <td>1778</td>\n",
       "      <td>CallOfDutyBlackopsColdWar</td>\n",
       "      <td>Negative</td>\n",
       "      <td>I used to dig Black Ops but after Modern Warfare The Cold War shit ain’t for me</td>\n",
       "      <td>79</td>\n",
       "      <td>17</td>\n",
       "    </tr>\n",
       "    <tr>\n",
       "      <th>56737</th>\n",
       "      <td>1958</td>\n",
       "      <td>CallOfDutyBlackopsColdWar</td>\n",
       "      <td>Neutral</td>\n",
       "      <td>Already cheating in @BlackOpsColdWar like come on i cant even have a decent play through without cheaters. Please don't make this game like @ModernWarzone. If crossplay is the problem, fix it quickly. Us console players are getting fed up. Smh</td>\n",
       "      <td>243</td>\n",
       "      <td>40</td>\n",
       "    </tr>\n",
       "  </tbody>\n",
       "</table>\n",
       "<p>63 rows × 6 columns</p>\n",
       "</div>"
      ],
      "text/plain": [
       "       thread                      topic sentiment  \\\n",
       "41       1669  CallOfDutyBlackopsColdWar   Neutral   \n",
       "230      1778  CallOfDutyBlackopsColdWar  Negative   \n",
       "1593     1943  CallOfDutyBlackopsColdWar  Positive   \n",
       "3848     1875  CallOfDutyBlackopsColdWar  Positive   \n",
       "4261     1967  CallOfDutyBlackopsColdWar  Negative   \n",
       "...       ...                        ...       ...   \n",
       "54990    1820  CallOfDutyBlackopsColdWar  Positive   \n",
       "55721    1943  CallOfDutyBlackopsColdWar  Positive   \n",
       "56344    1875  CallOfDutyBlackopsColdWar  Positive   \n",
       "56479    1778  CallOfDutyBlackopsColdWar  Negative   \n",
       "56737    1958  CallOfDutyBlackopsColdWar   Neutral   \n",
       "\n",
       "                                                                                                                                                                                                                                                     tweet  \\\n",
       "41                                                                                                                                                                                                                 Credit: @ HNSOfficial _ @ ModernWarzone   \n",
       "230                                                                                                                                                                           I loved Black Ops, but after Modern Warfare this Cold War shit is not for me   \n",
       "1593                 The drinks menu looks so nice. I mean just kinda dont understand why people thought Your CW Worldwide would gets its own BR. They literally said its never going to cross over over to THE Warzone. The big Cold War coming..........   \n",
       "3848                                                                                                                                                                                                        A Win for Verdansk's finest.. . \"Mil-sim\". .     \n",
       "4261                                                                  The latest Warzone and Modern Warfare patch has leaked tons of Black Ops: Cold War details including singleplayer campaign description, editions, and estimated release date. <unk>.   \n",
       "...                                                                                                                                                                                                                                                    ...   \n",
       "54990                                                                                                                                                             It looks amazing! Have high hopes for this.. given how bad the recent mw / warzone is...   \n",
       "55721                                                                                                                             I just don't understand why people thought the CW would get its own weapons. They literally said it would go to Warzone.   \n",
       "56344                                                                                                                                                                                  After A Quick Win for Verdansk'man s finest... \" Lord Mil - sim \"..   \n",
       "56479                                                                                                                                                                      I used to dig Black Ops but after Modern Warfare The Cold War shit ain’t for me   \n",
       "56737  Already cheating in @BlackOpsColdWar like come on i cant even have a decent play through without cheaters. Please don't make this game like @ModernWarzone. If crossplay is the problem, fix it quickly. Us console players are getting fed up. Smh   \n",
       "\n",
       "       char_count  word_count  \n",
       "41             39           6  \n",
       "230            76          16  \n",
       "1593          229          41  \n",
       "3848           46           8  \n",
       "4261          180          26  \n",
       "...           ...         ...  \n",
       "54990          88          17  \n",
       "55721         120          22  \n",
       "56344          67          14  \n",
       "56479          79          17  \n",
       "56737         243          40  \n",
       "\n",
       "[63 rows x 6 columns]"
      ]
     },
     "execution_count": 44,
     "metadata": {},
     "output_type": "execute_result"
    }
   ],
   "source": [
    "cod_keywords = \"verdansk|Verdansk|warzone|Warzone|modern|Modern|warfare|Warfare\"\n",
    "df[(df.topic == \"CallOfDutyBlackopsColdWar\") & (df.tweet.str.contains(cod_keywords))]"
   ]
  },
  {
   "cell_type": "code",
   "execution_count": 45,
   "metadata": {
    "ExecuteTime": {
     "end_time": "2024-10-04T09:25:53.087289400Z",
     "start_time": "2024-10-04T09:25:50.160714100Z"
    },
    "collapsed": false
   },
   "outputs": [
    {
     "name": "stdout",
     "output_type": "stream",
     "text": [
      "Column: sentiment\n",
      "Negative    17524\n",
      "Positive    15854\n",
      "Neutral     14264\n",
      "Name: sentiment, dtype: int64\n"
     ]
    }
   ],
   "source": [
    "print('Column: sentiment')\n",
    "print(df['sentiment'].value_counts())"
   ]
  },
  {
   "cell_type": "markdown",
   "metadata": {
    "collapsed": false
   },
   "source": [
    "=> keine Typos erkennbar"
   ]
  },
  {
   "cell_type": "markdown",
   "metadata": {
    "collapsed": false
   },
   "source": [
    "## Outlier"
   ]
  },
  {
   "cell_type": "code",
   "execution_count": 46,
   "metadata": {
    "ExecuteTime": {
     "end_time": "2024-10-04T09:25:53.087289400Z",
     "start_time": "2024-10-04T09:25:50.180899100Z"
    },
    "collapsed": false
   },
   "outputs": [
    {
     "name": "stdout",
     "output_type": "stream",
     "text": [
      "TomClancysGhostRecon                 1865\n",
      "MaddenNFL                            1812\n",
      "TomClancysRainbowSix                 1777\n",
      "Verizon                              1736\n",
      "NBA2K                                1727\n",
      "Microsoft                            1718\n",
      "ApexLegends                          1702\n",
      "Nvidia                               1701\n",
      "Amazon                               1667\n",
      "WorldOfCraft                         1665\n",
      "johnson&johnson                      1647\n",
      "LeagueOfLegends                      1603\n",
      "Hearthstone                          1599\n",
      "Borderlands                          1589\n",
      "HomeDepot                            1557\n",
      "RedDeadRedemption(RDR)               1549\n",
      "AssassinsCreed                       1535\n",
      "PlayStation5(PS5)                    1473\n",
      "Dota2                                1456\n",
      "Cyberpunk2077                        1376\n",
      "Google                               1370\n",
      "FIFA                                 1357\n",
      "CallOfDutyBlackopsColdWar            1339\n",
      "CallOfDuty                           1324\n",
      "Facebook                             1318\n",
      "Overwatch                            1296\n",
      "CS-GO                                1258\n",
      "Xbox(Xseries)                        1209\n",
      "GrandTheftAuto(GTA)                  1174\n",
      "Fortnite                             1116\n",
      "Battlefield                          1073\n",
      "PlayerUnknownsBattlegrounds(PUBG)    1054\n",
      "Name: topic, dtype: int64\n"
     ]
    }
   ],
   "source": [
    "# Spalte: Topic\n",
    "print(df['topic'].value_counts())"
   ]
  },
  {
   "cell_type": "code",
   "execution_count": 47,
   "metadata": {
    "ExecuteTime": {
     "end_time": "2024-10-04T09:25:53.178693400Z",
     "start_time": "2024-10-04T09:25:50.201104Z"
    },
    "collapsed": false
   },
   "outputs": [],
   "source": [
    "# Spalte: Tweet\n",
    "# Ansatz: prüfen, ob es Ausreißer bei der Länge und/oder bei der Wortzahl pro Tweets gibt\n",
    "df[\"char_count\"] = df[\"tweet\"].str.len()\n",
    "df[\"word_count\"] = df[\"tweet\"].str.split().str.len()\n",
    "df = df.reset_index(drop=True)"
   ]
  },
  {
   "cell_type": "code",
   "execution_count": 48,
   "metadata": {
    "ExecuteTime": {
     "end_time": "2024-10-04T09:25:53.178693400Z",
     "start_time": "2024-10-04T09:25:50.483618100Z"
    },
    "collapsed": false
   },
   "outputs": [
    {
     "data": {
      "text/plain": [
       "count    47642.000000\n",
       "mean       109.698690\n",
       "std         79.251224\n",
       "min          1.000000\n",
       "25%         48.000000\n",
       "50%         92.000000\n",
       "75%        154.000000\n",
       "max        957.000000\n",
       "Name: char_count, dtype: float64"
      ]
     },
     "execution_count": 48,
     "metadata": {},
     "output_type": "execute_result"
    }
   ],
   "source": [
    "df[\"char_count\"].describe()"
   ]
  },
  {
   "cell_type": "code",
   "execution_count": 49,
   "metadata": {
    "ExecuteTime": {
     "end_time": "2024-10-04T09:25:53.411179300Z",
     "start_time": "2024-10-04T09:25:50.503815Z"
    },
    "collapsed": false
   },
   "outputs": [
    {
     "data": {
      "text/plain": [
       "Text(0, 0.5, 'Number of Tweets')"
      ]
     },
     "execution_count": 49,
     "metadata": {},
     "output_type": "execute_result"
    },
    {
     "data": {
      "image/png": "[encoded data removed]",
      "text/plain": [
       "<Figure size 640x480 with 1 Axes>"
      ]
     },
     "metadata": {},
     "output_type": "display_data"
    }
   ],
   "source": [
    "sns.histplot(df[\"char_count\"])\n",
    "\n",
    "plt.title('Character Count of all Tweets')\n",
    "\n",
    "plt.xlabel('Character Count')\n",
    "plt.ylabel('Number of Tweets')"
   ]
  },
  {
   "cell_type": "code",
   "execution_count": 52,
   "metadata": {
    "ExecuteTime": {
     "end_time": "2024-10-04T09:25:53.449453300Z",
     "start_time": "2024-10-04T09:25:51.209619Z"
    },
    "collapsed": false
   },
   "outputs": [
    {
     "data": {
      "text/plain": [
       "Text(0, 0.5, 'Character Count')"
      ]
     },
     "execution_count": 52,
     "metadata": {},
     "output_type": "execute_result"
    },
    {
     "data": {
      "image/png": "[encoded data removed]",
      "text/plain": [
       "<Figure size 640x480 with 1 Axes>"
      ]
     },
     "metadata": {},
     "output_type": "display_data"
    }
   ],
   "source": [
    "sns.boxplot(df[\"char_count\"])\n",
    "\n",
    "plt.title('Distribution of Number of Characters per Tweet')\n",
    "\n",
    "plt.ylabel('Character Count')"
   ]
  },
  {
   "cell_type": "code",
   "execution_count": 53,
   "metadata": {
    "ExecuteTime": {
     "end_time": "2024-10-04T09:25:53.449453300Z",
     "start_time": "2024-10-04T09:25:51.371078200Z"
    },
    "collapsed": false
   },
   "outputs": [
    {
     "data": {
      "text/plain": [
       "count    47642.000000\n",
       "mean        19.387095\n",
       "std         14.434214\n",
       "min          0.000000\n",
       "25%          8.000000\n",
       "50%         16.000000\n",
       "75%         27.000000\n",
       "max        198.000000\n",
       "Name: word_count, dtype: float64"
      ]
     },
     "execution_count": 53,
     "metadata": {},
     "output_type": "execute_result"
    }
   ],
   "source": [
    "df[\"word_count\"].describe()"
   ]
  },
  {
   "cell_type": "code",
   "execution_count": 70,
   "metadata": {
    "ExecuteTime": {
     "end_time": "2024-10-04T09:25:53.753545800Z",
     "start_time": "2024-10-04T09:25:51.391285800Z"
    },
    "collapsed": false
   },
   "outputs": [
    {
     "data": {
      "text/plain": [
       "Text(0, 0.5, 'Number of Tweets')"
      ]
     },
     "execution_count": 70,
     "metadata": {},
     "output_type": "execute_result"
    },
    {
     "data": {
      "image/png": "[encoded data removed]",
      "text/plain": [
       "<Figure size 640x480 with 1 Axes>"
      ]
     },
     "metadata": {},
     "output_type": "display_data"
    }
   ],
   "source": [
    "sns.histplot(df[\"word_count\"])\n",
    "\n",
    "plt.title('Count of Words of all Tweets')\n",
    "\n",
    "plt.xlabel('Word Count')\n",
    "plt.ylabel('Number of Tweets')"
   ]
  },
  {
   "cell_type": "code",
   "execution_count": 71,
   "metadata": {
    "ExecuteTime": {
     "end_time": "2024-10-04T09:25:53.753545800Z",
     "start_time": "2024-10-04T09:25:52.158494200Z"
    },
    "collapsed": false
   },
   "outputs": [
    {
     "data": {
      "text/plain": [
       "Text(0, 0.5, 'Number of Words')"
      ]
     },
     "execution_count": 71,
     "metadata": {},
     "output_type": "execute_result"
    },
    {
     "data": {
      "image/png": "[encoded data removed]",
      "text/plain": [
       "<Figure size 640x480 with 1 Axes>"
      ]
     },
     "metadata": {},
     "output_type": "display_data"
    }
   ],
   "source": [
    "sns.boxplot(data=df[\"word_count\"])\n",
    "\n",
    "plt.title('Distribution of Words per Tweet')\n",
    "\n",
    "plt.ylabel('Number of Words')"
   ]
  },
  {
   "cell_type": "code",
   "execution_count": 72,
   "metadata": {
    "ExecuteTime": {
     "end_time": "2024-10-04T09:25:53.769169900Z",
     "start_time": "2024-10-04T09:25:52.340275Z"
    },
    "collapsed": false
   },
   "outputs": [],
   "source": [
    "# Ausreißer auf numerische Art bestimmen: 3 Standardabweichungen vom Mittelwert entfernt = Ausreißer\n",
    "def find_outlier(data):\n",
    "    for num_col in data.select_dtypes([\"number\"]).columns:\n",
    "        sd = data[num_col].std()\n",
    "        mean = data[num_col].mean()\n",
    "        result = [out for out in data[num_col] if (out > mean + 3 * sd) or (out < mean - 3 * sd)]\n",
    "        print()\n",
    "        print(\"Column: \", num_col)\n",
    "        print(\"Mean: \", mean, \"; Std: \", sd)\n",
    "        print(\"Outlier: \", len(result), \"; Values: \", sorted(result))"
   ]
  },
  {
   "cell_type": "code",
   "execution_count": 73,
   "metadata": {
    "ExecuteTime": {
     "end_time": "2024-10-04T09:25:53.769169900Z",
     "start_time": "2024-10-04T09:25:52.360662300Z"
    },
    "collapsed": false
   },
   "outputs": [
    {
     "name": "stdout",
     "output_type": "stream",
     "text": [
      "\n",
      "Column:  char_count\n",
      "Mean:  108.2966176843172 ; Std:  77.17276009735643\n",
      "Outlier:  28 ; Values:  [340, 340, 341, 341, 341, 341, 341, 341, 342, 342, 342, 343, 343, 343, 343, 344, 345, 345, 345, 345, 345, 346, 346, 346, 347, 347, 348, 348]\n",
      "\n",
      "Column:  word_count\n",
      "Mean:  19.101997297525546 ; Std:  13.866400290187038\n",
      "Outlier:  99 ; Values:  [61, 61, 61, 61, 61, 61, 61, 61, 61, 61, 61, 61, 61, 61, 61, 61, 61, 61, 61, 61, 61, 61, 61, 61, 61, 61, 61, 61, 61, 61, 61, 61, 61, 61, 61, 61, 61, 61, 61, 61, 61, 61, 61, 61, 61, 61, 61, 61, 61, 61, 61, 61, 61, 61, 61, 61, 61, 61, 62, 62, 62, 62, 62, 62, 62, 62, 62, 62, 62, 62, 62, 62, 62, 62, 62, 62, 62, 62, 62, 62, 62, 62, 62, 62, 62, 62, 62, 62, 62, 62, 62, 62, 62, 62, 62, 62, 62, 62, 62]\n"
     ]
    }
   ],
   "source": [
    "find_outlier(df[[\"char_count\", \"word_count\"]])"
   ]
  },
  {
   "cell_type": "code",
   "execution_count": 74,
   "metadata": {
    "ExecuteTime": {
     "end_time": "2024-10-04T09:25:53.769169900Z",
     "start_time": "2024-10-04T09:25:52.461672600Z"
    },
    "collapsed": false
   },
   "outputs": [
    {
     "data": {
      "text/html": [
       "<div>\n",
       "<style scoped>\n",
       "    .dataframe tbody tr th:only-of-type {\n",
       "        vertical-align: middle;\n",
       "    }\n",
       "\n",
       "    .dataframe tbody tr th {\n",
       "        vertical-align: top;\n",
       "    }\n",
       "\n",
       "    .dataframe thead th {\n",
       "        text-align: right;\n",
       "    }\n",
       "</style>\n",
       "<table border=\"1\" class=\"dataframe\">\n",
       "  <thead>\n",
       "    <tr style=\"text-align: right;\">\n",
       "      <th></th>\n",
       "      <th>thread</th>\n",
       "      <th>topic</th>\n",
       "      <th>sentiment</th>\n",
       "      <th>tweet</th>\n",
       "      <th>char_count</th>\n",
       "      <th>word_count</th>\n",
       "      <th>sentiment_binary</th>\n",
       "    </tr>\n",
       "  </thead>\n",
       "  <tbody>\n",
       "  </tbody>\n",
       "</table>\n",
       "</div>"
      ],
      "text/plain": [
       "Empty DataFrame\n",
       "Columns: [thread, topic, sentiment, tweet, char_count, word_count, sentiment_binary]\n",
       "Index: []"
      ]
     },
     "execution_count": 74,
     "metadata": {},
     "output_type": "execute_result"
    }
   ],
   "source": [
    "df[df[\"char_count\"] >= 349]"
   ]
  },
  {
   "cell_type": "code",
   "execution_count": 75,
   "metadata": {
    "ExecuteTime": {
     "end_time": "2024-10-04T09:25:53.769169900Z",
     "start_time": "2024-10-04T09:25:52.481842900Z"
    },
    "collapsed": false
   },
   "outputs": [
    {
     "data": {
      "text/html": [
       "<div>\n",
       "<style scoped>\n",
       "    .dataframe tbody tr th:only-of-type {\n",
       "        vertical-align: middle;\n",
       "    }\n",
       "\n",
       "    .dataframe tbody tr th {\n",
       "        vertical-align: top;\n",
       "    }\n",
       "\n",
       "    .dataframe thead th {\n",
       "        text-align: right;\n",
       "    }\n",
       "</style>\n",
       "<table border=\"1\" class=\"dataframe\">\n",
       "  <thead>\n",
       "    <tr style=\"text-align: right;\">\n",
       "      <th></th>\n",
       "      <th>thread</th>\n",
       "      <th>topic</th>\n",
       "      <th>sentiment</th>\n",
       "      <th>tweet</th>\n",
       "      <th>char_count</th>\n",
       "      <th>word_count</th>\n",
       "      <th>sentiment_binary</th>\n",
       "    </tr>\n",
       "  </thead>\n",
       "  <tbody>\n",
       "  </tbody>\n",
       "</table>\n",
       "</div>"
      ],
      "text/plain": [
       "Empty DataFrame\n",
       "Columns: [thread, topic, sentiment, tweet, char_count, word_count, sentiment_binary]\n",
       "Index: []"
      ]
     },
     "execution_count": 75,
     "metadata": {},
     "output_type": "execute_result"
    }
   ],
   "source": [
    "df[df[\"word_count\"] >= 63]"
   ]
  },
  {
   "cell_type": "markdown",
   "metadata": {
    "collapsed": false
   },
   "source": [
    "=> Strategie: Einträge droppen, um ML Modelle nicht durch Ausreißer zu beeinflussen (bei DeepLearning-Modellen tendenziell irrelevant)"
   ]
  },
  {
   "cell_type": "code",
   "execution_count": 59,
   "metadata": {
    "ExecuteTime": {
     "end_time": "2024-10-04T09:25:53.769169900Z",
     "start_time": "2024-10-04T09:25:52.502197Z"
    },
    "collapsed": false
   },
   "outputs": [
    {
     "data": {
      "text/html": [
       "<div>\n",
       "<style scoped>\n",
       "    .dataframe tbody tr th:only-of-type {\n",
       "        vertical-align: middle;\n",
       "    }\n",
       "\n",
       "    .dataframe tbody tr th {\n",
       "        vertical-align: top;\n",
       "    }\n",
       "\n",
       "    .dataframe thead th {\n",
       "        text-align: right;\n",
       "    }\n",
       "</style>\n",
       "<table border=\"1\" class=\"dataframe\">\n",
       "  <thead>\n",
       "    <tr style=\"text-align: right;\">\n",
       "      <th></th>\n",
       "      <th>thread</th>\n",
       "      <th>topic</th>\n",
       "      <th>sentiment</th>\n",
       "      <th>tweet</th>\n",
       "      <th>char_count</th>\n",
       "      <th>word_count</th>\n",
       "    </tr>\n",
       "  </thead>\n",
       "  <tbody>\n",
       "  </tbody>\n",
       "</table>\n",
       "</div>"
      ],
      "text/plain": [
       "Empty DataFrame\n",
       "Columns: [thread, topic, sentiment, tweet, char_count, word_count]\n",
       "Index: []"
      ]
     },
     "execution_count": 59,
     "metadata": {},
     "output_type": "execute_result"
    }
   ],
   "source": [
    "df = df[df[\"char_count\"] < 349]\n",
    "df[df[\"char_count\"] >= 349]"
   ]
  },
  {
   "cell_type": "code",
   "execution_count": 76,
   "metadata": {
    "ExecuteTime": {
     "end_time": "2024-10-04T09:25:53.769169900Z",
     "start_time": "2024-10-04T09:25:52.522357Z"
    },
    "collapsed": false
   },
   "outputs": [
    {
     "data": {
      "text/html": [
       "<div>\n",
       "<style scoped>\n",
       "    .dataframe tbody tr th:only-of-type {\n",
       "        vertical-align: middle;\n",
       "    }\n",
       "\n",
       "    .dataframe tbody tr th {\n",
       "        vertical-align: top;\n",
       "    }\n",
       "\n",
       "    .dataframe thead th {\n",
       "        text-align: right;\n",
       "    }\n",
       "</style>\n",
       "<table border=\"1\" class=\"dataframe\">\n",
       "  <thead>\n",
       "    <tr style=\"text-align: right;\">\n",
       "      <th></th>\n",
       "      <th>thread</th>\n",
       "      <th>topic</th>\n",
       "      <th>sentiment</th>\n",
       "      <th>tweet</th>\n",
       "      <th>char_count</th>\n",
       "      <th>word_count</th>\n",
       "      <th>sentiment_binary</th>\n",
       "    </tr>\n",
       "  </thead>\n",
       "  <tbody>\n",
       "  </tbody>\n",
       "</table>\n",
       "</div>"
      ],
      "text/plain": [
       "Empty DataFrame\n",
       "Columns: [thread, topic, sentiment, tweet, char_count, word_count, sentiment_binary]\n",
       "Index: []"
      ]
     },
     "execution_count": 76,
     "metadata": {},
     "output_type": "execute_result"
    }
   ],
   "source": [
    "df = df[df[\"word_count\"] < 63]\n",
    "df[df[\"word_count\"] >= 63]"
   ]
  },
  {
   "cell_type": "code",
   "execution_count": 36,
   "metadata": {
    "ExecuteTime": {
     "end_time": "2024-10-04T09:25:54.265910900Z",
     "start_time": "2024-10-04T09:25:52.542506600Z"
    },
    "collapsed": false
   },
   "outputs": [],
   "source": [
    "# df.drop(['Char_Count', 'Word_Count'], axis=1, inplace=True)"
   ]
  },
  {
   "cell_type": "markdown",
   "metadata": {
    "collapsed": false
   },
   "source": [
    "## Datensatz nach Bereinigung"
   ]
  },
  {
   "cell_type": "code",
   "execution_count": 77,
   "metadata": {
    "ExecuteTime": {
     "end_time": "2024-10-04T09:25:54.298399100Z",
     "start_time": "2024-10-04T09:25:52.562701500Z"
    },
    "collapsed": false
   },
   "outputs": [
    {
     "name": "stdout",
     "output_type": "stream",
     "text": [
      "thread              47364\n",
      "topic               47364\n",
      "sentiment           47364\n",
      "tweet               47364\n",
      "char_count          47364\n",
      "word_count          47364\n",
      "sentiment_binary    47364\n",
      "dtype: int64\n",
      "thread       74682\n",
      "topic        74682\n",
      "sentiment    74682\n",
      "tweet        73996\n",
      "dtype: int64\n",
      "char_count              NaN\n",
      "sentiment          -27318.0\n",
      "sentiment_binary        NaN\n",
      "thread             -27318.0\n",
      "topic              -27318.0\n",
      "tweet              -26632.0\n",
      "word_count              NaN\n",
      "dtype: float64\n",
      "char_count               NaN\n",
      "sentiment          -0.365791\n",
      "sentiment_binary         NaN\n",
      "thread             -0.365791\n",
      "topic              -0.365791\n",
      "tweet              -0.359911\n",
      "word_count               NaN\n",
      "dtype: float64\n"
     ]
    }
   ],
   "source": [
    "print(df.count())\n",
    "print(df_raw.count())\n",
    "print(df.count() - df_raw.count())\n",
    "print(df.count() / df_raw.count() - 1)"
   ]
  },
  {
   "cell_type": "markdown",
   "metadata": {
    "collapsed": false
   },
   "source": [
    "## Check Val/Test-Data"
   ]
  },
  {
   "cell_type": "code",
   "execution_count": 38,
   "metadata": {
    "ExecuteTime": {
     "end_time": "2024-10-04T09:25:54.298399100Z",
     "start_time": "2024-10-04T09:25:52.772498400Z"
    },
    "collapsed": false
   },
   "outputs": [],
   "source": [
    "# df_val_raw = pd.read_csv(\"C:\\\\Users\\\\admin\\\\PycharmProjects\\\\WebScience24\\\\data\\\\twitter_hate-speech\\\\twitter_validation.csv\", index_col=0) # Fehlerhaft"
   ]
  },
  {
   "cell_type": "markdown",
   "metadata": {
    "collapsed": false
   },
   "source": [
    "=> Bewertung Validation-Daten: sehr viele Fehler, ohne händisches Säubern ggf. nicht verwendbar, von der Menge her gering (> 2000)\n",
    "\n"
   ]
  },
  {
   "cell_type": "markdown",
   "metadata": {
    "collapsed": false
   },
   "source": [
    "## Save cleaned Data"
   ]
  },
  {
   "cell_type": "code",
   "execution_count": 78,
   "metadata": {
    "ExecuteTime": {
     "end_time": "2024-10-04T09:25:54.298399100Z",
     "start_time": "2024-10-04T09:25:52.784616900Z"
    },
    "collapsed": false
   },
   "outputs": [],
   "source": [
    "filepath = Path('data/twitter_training_cleaned.csv')\n",
    "filepath.parent.mkdir(parents=True, exist_ok=True)"
   ]
  },
  {
   "cell_type": "code",
   "execution_count": 79,
   "metadata": {
    "ExecuteTime": {
     "end_time": "2024-10-04T09:25:54.298399100Z",
     "start_time": "2024-10-04T09:25:52.804786700Z"
    },
    "collapsed": false
   },
   "outputs": [],
   "source": [
    "df.to_csv(filepath)"
   ]
  },
  {
   "cell_type": "markdown",
   "metadata": {
    "collapsed": false
   },
   "source": [
    "# EDA"
   ]
  },
  {
   "cell_type": "code",
   "execution_count": 80,
   "metadata": {
    "ExecuteTime": {
     "end_time": "2024-10-04T09:25:54.298399100Z",
     "start_time": "2024-10-04T09:25:53.209090Z"
    },
    "collapsed": false
   },
   "outputs": [
    {
     "name": "stdout",
     "output_type": "stream",
     "text": [
      "<class 'pandas.core.frame.DataFrame'>\n",
      "Int64Index: 47364 entries, 0 to 47641\n",
      "Data columns (total 7 columns):\n",
      " #   Column            Non-Null Count  Dtype \n",
      "---  ------            --------------  ----- \n",
      " 0   thread            47364 non-null  int64 \n",
      " 1   topic             47364 non-null  object\n",
      " 2   sentiment         47364 non-null  object\n",
      " 3   tweet             47364 non-null  object\n",
      " 4   char_count        47364 non-null  int64 \n",
      " 5   word_count        47364 non-null  int64 \n",
      " 6   sentiment_binary  47364 non-null  bool  \n",
      "dtypes: bool(1), int64(3), object(3)\n",
      "memory usage: 2.6+ MB\n"
     ]
    }
   ],
   "source": [
    "df.info()"
   ]
  },
  {
   "cell_type": "code",
   "execution_count": 81,
   "metadata": {
    "ExecuteTime": {
     "end_time": "2024-10-04T09:25:54.298399100Z",
     "start_time": "2024-10-04T09:25:53.249608700Z"
    },
    "collapsed": false
   },
   "outputs": [
    {
     "data": {
      "text/html": [
       "<div>\n",
       "<style scoped>\n",
       "    .dataframe tbody tr th:only-of-type {\n",
       "        vertical-align: middle;\n",
       "    }\n",
       "\n",
       "    .dataframe tbody tr th {\n",
       "        vertical-align: top;\n",
       "    }\n",
       "\n",
       "    .dataframe thead th {\n",
       "        text-align: right;\n",
       "    }\n",
       "</style>\n",
       "<table border=\"1\" class=\"dataframe\">\n",
       "  <thead>\n",
       "    <tr style=\"text-align: right;\">\n",
       "      <th></th>\n",
       "      <th>thread</th>\n",
       "      <th>char_count</th>\n",
       "      <th>word_count</th>\n",
       "    </tr>\n",
       "  </thead>\n",
       "  <tbody>\n",
       "    <tr>\n",
       "      <th>count</th>\n",
       "      <td>47364.000000</td>\n",
       "      <td>47364.000000</td>\n",
       "      <td>47364.000000</td>\n",
       "    </tr>\n",
       "    <tr>\n",
       "      <th>mean</th>\n",
       "      <td>6555.532683</td>\n",
       "      <td>108.296618</td>\n",
       "      <td>19.101997</td>\n",
       "    </tr>\n",
       "    <tr>\n",
       "      <th>std</th>\n",
       "      <td>3759.577942</td>\n",
       "      <td>77.172760</td>\n",
       "      <td>13.866400</td>\n",
       "    </tr>\n",
       "    <tr>\n",
       "      <th>min</th>\n",
       "      <td>1.000000</td>\n",
       "      <td>1.000000</td>\n",
       "      <td>0.000000</td>\n",
       "    </tr>\n",
       "    <tr>\n",
       "      <th>25%</th>\n",
       "      <td>3286.000000</td>\n",
       "      <td>47.000000</td>\n",
       "      <td>8.000000</td>\n",
       "    </tr>\n",
       "    <tr>\n",
       "      <th>50%</th>\n",
       "      <td>6803.000000</td>\n",
       "      <td>91.000000</td>\n",
       "      <td>16.000000</td>\n",
       "    </tr>\n",
       "    <tr>\n",
       "      <th>75%</th>\n",
       "      <td>9717.000000</td>\n",
       "      <td>152.000000</td>\n",
       "      <td>27.000000</td>\n",
       "    </tr>\n",
       "    <tr>\n",
       "      <th>max</th>\n",
       "      <td>13198.000000</td>\n",
       "      <td>348.000000</td>\n",
       "      <td>62.000000</td>\n",
       "    </tr>\n",
       "  </tbody>\n",
       "</table>\n",
       "</div>"
      ],
      "text/plain": [
       "             thread    char_count    word_count\n",
       "count  47364.000000  47364.000000  47364.000000\n",
       "mean    6555.532683    108.296618     19.101997\n",
       "std     3759.577942     77.172760     13.866400\n",
       "min        1.000000      1.000000      0.000000\n",
       "25%     3286.000000     47.000000      8.000000\n",
       "50%     6803.000000     91.000000     16.000000\n",
       "75%     9717.000000    152.000000     27.000000\n",
       "max    13198.000000    348.000000     62.000000"
      ]
     },
     "execution_count": 81,
     "metadata": {},
     "output_type": "execute_result"
    }
   ],
   "source": [
    "df.describe()"
   ]
  },
  {
   "cell_type": "markdown",
   "metadata": {
    "collapsed": false
   },
   "source": [
    "## Korrelationsanalyse"
   ]
  },
  {
   "cell_type": "code",
   "execution_count": 82,
   "metadata": {
    "ExecuteTime": {
     "end_time": "2024-10-04T09:25:54.298399100Z",
     "start_time": "2024-10-04T09:25:53.290015800Z"
    },
    "collapsed": false
   },
   "outputs": [],
   "source": [
    "df[\"sentiment_binary\"] = df[\"sentiment\"] == \"Negative\""
   ]
  },
  {
   "cell_type": "code",
   "execution_count": 88,
   "metadata": {
    "ExecuteTime": {
     "end_time": "2024-10-04T09:25:54.298399100Z",
     "start_time": "2024-10-04T09:25:53.310249700Z"
    },
    "collapsed": false
   },
   "outputs": [
    {
     "ename": "TypeError",
     "evalue": "corr() got an unexpected keyword argument 'numeric_only'",
     "output_type": "error",
     "traceback": [
      "\u001b[1;31m---------------------------------------------------------------------------\u001b[0m",
      "\u001b[1;31mTypeError\u001b[0m                                 Traceback (most recent call last)",
      "Cell \u001b[1;32mIn[88], line 1\u001b[0m\n\u001b[1;32m----> 1\u001b[0m sns\u001b[38;5;241m.\u001b[39mheatmap(\u001b[43mdf\u001b[49m\u001b[38;5;241;43m.\u001b[39;49m\u001b[43mcorr\u001b[49m\u001b[43m(\u001b[49m\u001b[43mnumeric_only\u001b[49m\u001b[38;5;241;43m=\u001b[39;49m\u001b[38;5;28;43;01mTrue\u001b[39;49;00m\u001b[43m)\u001b[49m, annot\u001b[38;5;241m=\u001b[39m\u001b[38;5;28;01mTrue\u001b[39;00m, vmin\u001b[38;5;241m=\u001b[39m\u001b[38;5;241m-\u001b[39m\u001b[38;5;241m1\u001b[39m, vmax\u001b[38;5;241m=\u001b[39m\u001b[38;5;241m1\u001b[39m, cmap\u001b[38;5;241m=\u001b[39m\u001b[38;5;124m\"\u001b[39m\u001b[38;5;124mcoolwarm\u001b[39m\u001b[38;5;124m\"\u001b[39m)\n",
      "\u001b[1;31mTypeError\u001b[0m: corr() got an unexpected keyword argument 'numeric_only'"
     ]
    }
   ],
   "source": [
    "sns.heatmap(df.corr(numeric_only=True), annot=True, vmin=-1, vmax=1, cmap=\"coolwarm\")"
   ]
  },
  {
   "cell_type": "code",
   "execution_count": 89,
   "metadata": {
    "ExecuteTime": {
     "end_time": "2024-10-04T09:25:54.298399100Z",
     "start_time": "2024-10-04T09:25:53.673913600Z"
    },
    "collapsed": false
   },
   "outputs": [
    {
     "ename": "TypeError",
     "evalue": "corr() got an unexpected keyword argument 'numeric_only'",
     "output_type": "error",
     "traceback": [
      "\u001b[1;31m---------------------------------------------------------------------------\u001b[0m",
      "\u001b[1;31mTypeError\u001b[0m                                 Traceback (most recent call last)",
      "Cell \u001b[1;32mIn[89], line 1\u001b[0m\n\u001b[1;32m----> 1\u001b[0m target_corr \u001b[38;5;241m=\u001b[39m \u001b[43mdf\u001b[49m\u001b[38;5;241;43m.\u001b[39;49m\u001b[43mcorr\u001b[49m\u001b[43m(\u001b[49m\u001b[43mnumeric_only\u001b[49m\u001b[38;5;241;43m=\u001b[39;49m\u001b[38;5;28;43;01mTrue\u001b[39;49;00m\u001b[43m)\u001b[49m[\u001b[38;5;124m\"\u001b[39m\u001b[38;5;124msentiment_binary\u001b[39m\u001b[38;5;124m\"\u001b[39m]\n\u001b[0;32m      2\u001b[0m target_corr\u001b[38;5;241m.\u001b[39mabs()\u001b[38;5;241m.\u001b[39msort_values(ascending\u001b[38;5;241m=\u001b[39m\u001b[38;5;28;01mFalse\u001b[39;00m)\n",
      "\u001b[1;31mTypeError\u001b[0m: corr() got an unexpected keyword argument 'numeric_only'"
     ]
    }
   ],
   "source": [
    "target_corr = df.corr(numeric_only=True)[\"sentiment_binary\"]\n",
    "target_corr.abs().sort_values(ascending=False)"
   ]
  },
  {
   "cell_type": "markdown",
   "metadata": {
    "collapsed": false
   },
   "source": [
    "Korrelationsanalyse feature<->target => keine originären numerischen Werte, bei den erzeugten numerischen Werten keine nennenswerte Korrelation erkennbar"
   ]
  },
  {
   "cell_type": "markdown",
   "metadata": {
    "collapsed": false
   },
   "source": [
    "## Targetanalyse"
   ]
  },
  {
   "cell_type": "code",
   "execution_count": 90,
   "metadata": {
    "ExecuteTime": {
     "end_time": "2024-10-04T09:25:54.298399100Z",
     "start_time": "2024-10-04T09:25:53.694115100Z"
    },
    "collapsed": false
   },
   "outputs": [
    {
     "data": {
      "text/plain": [
       "Negative    17419\n",
       "Positive    15783\n",
       "Neutral     14162\n",
       "Name: sentiment, dtype: int64"
      ]
     },
     "execution_count": 90,
     "metadata": {},
     "output_type": "execute_result"
    }
   ],
   "source": [
    "df[\"sentiment\"].value_counts()"
   ]
  },
  {
   "cell_type": "code",
   "execution_count": 94,
   "metadata": {
    "ExecuteTime": {
     "end_time": "2024-10-04T09:25:54.630203300Z",
     "start_time": "2024-10-04T09:25:53.737920Z"
    },
    "collapsed": false
   },
   "outputs": [
    {
     "data": {
      "image/png": "[encoded data removed]",
      "text/plain": [
       "<Figure size 1000x600 with 1 Axes>"
      ]
     },
     "metadata": {},
     "output_type": "display_data"
    }
   ],
   "source": [
    "color_mapping = {\n",
    "    'Negative': 'red',\n",
    "    'Positive': 'green',\n",
    "    'Neutral': 'orange',\n",
    "    #'Irrelevant': 'grey'\n",
    "}\n",
    "\n",
    "counts = df['sentiment'].value_counts().reset_index()\n",
    "counts.columns = ['sentiment', 'count']\n",
    "\n",
    "counts['color'] = counts['sentiment'].map(color_mapping)\n",
    "\n",
    "plt.figure(figsize=(10, 6))\n",
    "ax = sns.barplot(data=counts, y='sentiment', x='count', palette=counts['color'])\n",
    "\n",
    "for p in ax.patches:\n",
    "    ax.annotate(str(int(p.get_width())), (p.get_width(), p.get_y() + p.get_height() / 2.),\n",
    "                ha='left', va='center', xytext=(5, 0), textcoords='offset points')\n",
    "\n",
    "ax.set_xlim(0, counts['count'].max() * 1.1)\n",
    "\n",
    "ax.set_xlabel('Number of Tweets')\n",
    "ax.set_ylabel('Sentiment')\n",
    "\n",
    "\n",
    "plt.title('Number of Tweets per Sentiment')\n",
    "\n",
    "plt.tight_layout()\n",
    "plt.show()"
   ]
  },
  {
   "cell_type": "markdown",
   "metadata": {
    "collapsed": false
   },
   "source": [
    "## Featureanalyse"
   ]
  },
  {
   "cell_type": "code",
   "execution_count": 101,
   "metadata": {
    "ExecuteTime": {
     "end_time": "2024-10-04T09:25:55.439895600Z",
     "start_time": "2024-10-04T09:25:54.015759Z"
    },
    "collapsed": false
   },
   "outputs": [
    {
     "data": {
      "text/plain": [
       "Text(0.5, 1.0, 'Number of Tweets per Topic')"
      ]
     },
     "execution_count": 101,
     "metadata": {},
     "output_type": "execute_result"
    },
    {
     "data": {
      "image/png": "[encoded data removed]",
      "text/plain": [
       "<Figure size 640x480 with 1 Axes>"
      ]
     },
     "metadata": {},
     "output_type": "display_data"
    }
   ],
   "source": [
    "# Feature: Topic\n",
    "sns.histplot(\n",
    "    df[\"topic\"])  # Topics sind (grob) gleichverteilt, ggf. ein Ausreißer falls beide COD-Topics zusammengelegt werden\n",
    "\n",
    "plt.ylabel('Number of Tweets')\n",
    "plt.xlabel('Topic')\n",
    "\n",
    "plt.title('Number of Tweets per Topic')"
   ]
  },
  {
   "cell_type": "code",
   "execution_count": 62,
   "metadata": {
    "ExecuteTime": {
     "end_time": "2024-10-04T09:25:55.644490700Z",
     "start_time": "2024-10-04T09:25:54.814352600Z"
    },
    "collapsed": false
   },
   "outputs": [
    {
     "data": {
      "text/plain": [
       "<AxesSubplot:xlabel='word_count', ylabel='Count'>"
      ]
     },
     "execution_count": 62,
     "metadata": {},
     "output_type": "execute_result"
    },
    {
     "data": {
      "image/png": "[encoded data removed]",
      "text/plain": [
       "<Figure size 640x480 with 1 Axes>"
      ]
     },
     "metadata": {},
     "output_type": "display_data"
    }
   ],
   "source": [
    "# Feature: Tweet\n",
    "sns.histplot(df[\"word_count\"])\n",
    "\n",
    "# redudant to one of the charts above (section1) -- is this intended or shall we get rid off one?"
   ]
  },
  {
   "cell_type": "code",
   "execution_count": 103,
   "metadata": {
    "ExecuteTime": {
     "end_time": "2024-10-04T09:25:55.886931Z",
     "start_time": "2024-10-04T09:25:55.259582500Z"
    },
    "collapsed": false
   },
   "outputs": [
    {
     "data": {
      "text/plain": [
       "<AxesSubplot:xlabel='char_count', ylabel='Count'>"
      ]
     },
     "execution_count": 103,
     "metadata": {},
     "output_type": "execute_result"
    },
    {
     "data": {
      "image/png": "[encoded data removed]",
      "text/plain": [
       "<Figure size 640x480 with 1 Axes>"
      ]
     },
     "metadata": {},
     "output_type": "display_data"
    }
   ],
   "source": [
    "sns.histplot(df[\"char_count\"])\n",
    "\n",
    "# redudant to one of the charts above (section1) -- is this intended or shall we get rid off one?"
   ]
  },
  {
   "cell_type": "code",
   "execution_count": 50,
   "metadata": {
    "ExecuteTime": {
     "end_time": "2024-10-04T09:25:55.886931Z",
     "start_time": "2024-10-04T09:25:55.793868200Z"
    },
    "collapsed": false
   },
   "outputs": [],
   "source": []
  },
  {
   "cell_type": "markdown",
   "metadata": {
    "collapsed": false
   },
   "source": [
    "## Feature x Target"
   ]
  },
  {
   "cell_type": "code",
   "execution_count": 105,
   "metadata": {
    "ExecuteTime": {
     "end_time": "2024-10-04T09:25:57.424905900Z",
     "start_time": "2024-10-04T09:25:55.793868200Z"
    },
    "collapsed": false
   },
   "outputs": [
    {
     "data": {
      "image/png": "[encoded data removed]",
      "text/plain": [
       "<Figure size 1500x800 with 3 Axes>"
      ]
     },
     "metadata": {},
     "output_type": "display_data"
    }
   ],
   "source": [
    "#Character Count\n",
    "\n",
    "fig, (ax1, ax2, ax3) = plt.subplots(1, 3, figsize=(15, 8))\n",
    "\n",
    "# Positive Tweets\n",
    "ax1.hist(df[df['sentiment'] == 'Positive']['char_count'])\n",
    "ax1.set_title('Positive Tweets')\n",
    "ax1.set_xlabel('Character Count')  \n",
    "ax1.set_ylabel('Frequency')          \n",
    "\n",
    "# Negative Tweets\n",
    "ax2.hist(df[df['sentiment'] == 'Negative']['char_count'])\n",
    "ax2.set_title('Negative Tweets')\n",
    "ax2.set_xlabel('Character Count')  \n",
    "ax2.set_ylabel('Frequency')        \n",
    "\n",
    "# Neutral Tweets\n",
    "ax3.hist(df[df['sentiment'] == 'Neutral']['char_count'])\n",
    "ax3.set_title('Neutral Tweets')\n",
    "ax3.set_xlabel('Character Count') \n",
    "ax3.set_ylabel('Frequency')         \n",
    "\n",
    "plt.suptitle('Count of Characters per Sentiment Category', fontsize=16)\n",
    "\n",
    "plt.tight_layout(rect=[0, 0, 1, 0.95])  \n",
    "plt.show()"
   ]
  },
  {
   "cell_type": "code",
   "execution_count": 106,
   "metadata": {
    "ExecuteTime": {
     "end_time": "2024-10-04T09:25:58.990275500Z",
     "start_time": "2024-10-04T09:25:57.424905900Z"
    },
    "collapsed": false
   },
   "outputs": [
    {
     "data": {
      "image/png": "[encoded data removed]",
      "text/plain": [
       "<Figure size 1500x800 with 3 Axes>"
      ]
     },
     "metadata": {},
     "output_type": "display_data"
    }
   ],
   "source": [
    "# Word Count\n",
    "\n",
    "fig, (ax1, ax2, ax3) = plt.subplots(1, 3, figsize=(15, 8))\n",
    "\n",
    "# Positive Tweets\n",
    "ax1.hist(df[df['sentiment'] == 'Positive']['word_count'])\n",
    "ax1.set_title('Positive Tweets')\n",
    "ax1.set_xlabel('Word Count')  \n",
    "ax1.set_ylabel('Frequency')    \n",
    "\n",
    "# Negative Tweets\n",
    "ax2.hist(df[df['sentiment'] == 'Negative']['word_count'])\n",
    "ax2.set_title('Negative Tweets')\n",
    "ax2.set_xlabel('Word Count')  \n",
    "ax2.set_ylabel('Frequency')    \n",
    "\n",
    "# Neutral Tweets\n",
    "ax3.hist(df[df['sentiment'] == 'Neutral']['word_count'])\n",
    "ax3.set_title('Neutral Tweets')\n",
    "ax3.set_xlabel('Word Count')  \n",
    "ax3.set_ylabel('Frequency')   \n",
    "\n",
    "plt.suptitle('Count of Words per Sentiment Category', fontsize=16)\n",
    "\n",
    "plt.tight_layout(rect=[0, 0, 1, 0.95])  \n",
    "plt.show()"
   ]
  },
  {
   "cell_type": "markdown",
   "metadata": {
    "collapsed": false
   },
   "source": [
    "# Data Preprocessing for Naive-Bayes"
   ]
  },
  {
   "cell_type": "markdown",
   "metadata": {
    "collapsed": false
   },
   "source": [
    "## Text cleaning: emojis, toLower etc."
   ]
  },
  {
   "cell_type": "code",
   "execution_count": 53,
   "metadata": {
    "ExecuteTime": {
     "end_time": "2024-10-04T09:25:59.186784200Z",
     "start_time": "2024-10-04T09:25:58.998317700Z"
    },
    "collapsed": false
   },
   "outputs": [],
   "source": [
    "def cleaning(text):\n",
    "    # converting to lowercase, removing URL links, special characters, punctuations...\n",
    "    text = text.lower()  # converting to lowercase\n",
    "    text = re.sub('https?://\\S+|www\\.\\S+', '', text)  # removing URL links\n",
    "    text = re.sub(r\"\\b\\d+\\b\", \"\", text)  # removing number\n",
    "    text = re.sub('<.*?>+', '', text)  # removing special characters,\n",
    "    text = re.sub('[%s]' % re.escape(string.punctuation), '', text)  # punctuations\n",
    "    text = re.sub('\\n', '', text)\n",
    "    text = re.sub('[’“”…]', '', text)\n",
    "\n",
    "    #removing emoji:\n",
    "    emoji_pattern = re.compile(\"[\"\n",
    "                               u\"\\U0001F600-\\U0001F64F\"  # emoticons\n",
    "                               u\"\\U0001F300-\\U0001F5FF\"  # symbols & pictographs\n",
    "                               u\"\\U0001F680-\\U0001F6FF\"  # transport & map symbols\n",
    "                               u\"\\U0001F1E0-\\U0001F1FF\"  # flags (iOS)\n",
    "                               u\"\\U00002702-\\U000027B0\"\n",
    "                               u\"\\U000024C2-\\U0001F251\"\n",
    "                               \"]+\", flags=re.UNICODE)\n",
    "    text = emoji_pattern.sub(r'', text)\n",
    "\n",
    "    # removing short form:\n",
    "    text = re.sub(\"isn't\", 'is not', text)\n",
    "    text = re.sub(\"he's\", 'he is', text)\n",
    "    text = re.sub(\"wasn't\", 'was not', text)\n",
    "    text = re.sub(\"there's\", 'there is', text)\n",
    "    text = re.sub(\"couldn't\", 'could not', text)\n",
    "    text = re.sub(\"won't\", 'will not', text)\n",
    "    text = re.sub(\"they're\", 'they are', text)\n",
    "    text = re.sub(\"she's\", 'she is', text)\n",
    "    text = re.sub(\"There's\", 'there is', text)\n",
    "    text = re.sub(\"wouldn't\", 'would not', text)\n",
    "    text = re.sub(\"haven't\", 'have not', text)\n",
    "    text = re.sub(\"That's\", 'That is', text)\n",
    "    text = re.sub(\"you've\", 'you have', text)\n",
    "    text = re.sub(\"He's\", 'He is', text)\n",
    "    text = re.sub(\"what's\", 'what is', text)\n",
    "    text = re.sub(\"weren't\", 'were not', text)\n",
    "    text = re.sub(\"we're\", 'we are', text)\n",
    "    text = re.sub(\"hasn't\", 'has not', text)\n",
    "    text = re.sub(\"you'd\", 'you would', text)\n",
    "    text = re.sub(\"shouldn't\", 'should not', text)\n",
    "    text = re.sub(\"let's\", 'let us', text)\n",
    "    text = re.sub(\"they've\", 'they have', text)\n",
    "    text = re.sub(\"You'll\", 'You will', text)\n",
    "    text = re.sub(\"i'm\", 'i am', text)\n",
    "    text = re.sub(\"we've\", 'we have', text)\n",
    "    text = re.sub(\"it's\", 'it is', text)\n",
    "    text = re.sub(\"don't\", 'do not', text)\n",
    "    text = re.sub(\"that´s\", 'that is', text)\n",
    "    text = re.sub(\"I´m\", 'I am', text)\n",
    "    text = re.sub(\"it’s\", 'it is', text)\n",
    "    text = re.sub(\"she´s\", 'she is', text)\n",
    "    text = re.sub(\"he’s'\", 'he is', text)\n",
    "    text = re.sub('I’m', 'I am', text)\n",
    "    text = re.sub('I’d', 'I did', text)\n",
    "    text = re.sub(\"he’s'\", 'he is', text)\n",
    "    text = re.sub('there’s', 'there is', text)\n",
    "\n",
    "    return text"
   ]
  },
  {
   "cell_type": "code",
   "execution_count": 54,
   "metadata": {
    "ExecuteTime": {
     "end_time": "2024-10-04T09:26:03.387711400Z",
     "start_time": "2024-10-04T09:25:59.023980100Z"
    },
    "collapsed": false
   },
   "outputs": [],
   "source": [
    "dt = df['tweet'].apply(cleaning)"
   ]
  },
  {
   "cell_type": "code",
   "execution_count": 55,
   "metadata": {
    "ExecuteTime": {
     "end_time": "2024-10-04T09:26:03.406061400Z",
     "start_time": "2024-10-04T09:26:03.387711400Z"
    },
    "collapsed": false
   },
   "outputs": [],
   "source": [
    "dt = pd.DataFrame(dt)\n",
    "dt['sentiment'] = df['sentiment']"
   ]
  },
  {
   "cell_type": "code",
   "execution_count": 56,
   "metadata": {
    "ExecuteTime": {
     "end_time": "2024-10-04T09:26:03.468586900Z",
     "start_time": "2024-10-04T09:26:03.406061400Z"
    },
    "collapsed": false
   },
   "outputs": [
    {
     "data": {
      "text/html": [
       "<div>\n",
       "<style scoped>\n",
       "    .dataframe tbody tr th:only-of-type {\n",
       "        vertical-align: middle;\n",
       "    }\n",
       "\n",
       "    .dataframe tbody tr th {\n",
       "        vertical-align: top;\n",
       "    }\n",
       "\n",
       "    .dataframe thead th {\n",
       "        text-align: right;\n",
       "    }\n",
       "</style>\n",
       "<table border=\"1\" class=\"dataframe\">\n",
       "  <thead>\n",
       "    <tr style=\"text-align: right;\">\n",
       "      <th></th>\n",
       "      <th>tweet</th>\n",
       "      <th>sentiment</th>\n",
       "    </tr>\n",
       "  </thead>\n",
       "  <tbody>\n",
       "    <tr>\n",
       "      <th>0</th>\n",
       "      <td>booo</td>\n",
       "      <td>Negative</td>\n",
       "    </tr>\n",
       "    <tr>\n",
       "      <th>1</th>\n",
       "      <td>ok hear me out microsoft is going to pull a mi...</td>\n",
       "      <td>Neutral</td>\n",
       "    </tr>\n",
       "    <tr>\n",
       "      <th>2</th>\n",
       "      <td>hopping on the    uzi is pretty good fortunate...</td>\n",
       "      <td>Positive</td>\n",
       "    </tr>\n",
       "    <tr>\n",
       "      <th>3</th>\n",
       "      <td>mr christoph sandrock best pubg teammate rescu...</td>\n",
       "      <td>Positive</td>\n",
       "    </tr>\n",
       "    <tr>\n",
       "      <th>4</th>\n",
       "      <td>eamaddennfl what is up with these player ratin...</td>\n",
       "      <td>Negative</td>\n",
       "    </tr>\n",
       "  </tbody>\n",
       "</table>\n",
       "</div>"
      ],
      "text/plain": [
       "                                               tweet sentiment\n",
       "0                                               booo  Negative\n",
       "1  ok hear me out microsoft is going to pull a mi...   Neutral\n",
       "2  hopping on the    uzi is pretty good fortunate...  Positive\n",
       "3  mr christoph sandrock best pubg teammate rescu...  Positive\n",
       "4  eamaddennfl what is up with these player ratin...  Negative"
      ]
     },
     "execution_count": 56,
     "metadata": {},
     "output_type": "execute_result"
    }
   ],
   "source": [
    "dt.head()"
   ]
  },
  {
   "cell_type": "markdown",
   "metadata": {
    "collapsed": false
   },
   "source": [
    "## Stopwords"
   ]
  },
  {
   "cell_type": "code",
   "execution_count": 57,
   "metadata": {
    "ExecuteTime": {
     "end_time": "2024-10-04T09:27:42.238898Z",
     "start_time": "2024-10-04T09:26:03.421724800Z"
    },
    "collapsed": false
   },
   "outputs": [],
   "source": [
    "dt['no_sw'] = dt['tweet'].apply(lambda x: ' '.join([word for word in x.split() if word not in (stop_words)]))"
   ]
  },
  {
   "cell_type": "code",
   "execution_count": 58,
   "metadata": {
    "ExecuteTime": {
     "end_time": "2024-10-04T09:27:42.295832100Z",
     "start_time": "2024-10-04T09:27:42.238898Z"
    },
    "collapsed": false
   },
   "outputs": [
    {
     "data": {
      "text/html": [
       "<div>\n",
       "<style scoped>\n",
       "    .dataframe tbody tr th:only-of-type {\n",
       "        vertical-align: middle;\n",
       "    }\n",
       "\n",
       "    .dataframe tbody tr th {\n",
       "        vertical-align: top;\n",
       "    }\n",
       "\n",
       "    .dataframe thead th {\n",
       "        text-align: right;\n",
       "    }\n",
       "</style>\n",
       "<table border=\"1\" class=\"dataframe\">\n",
       "  <thead>\n",
       "    <tr style=\"text-align: right;\">\n",
       "      <th></th>\n",
       "      <th>tweet</th>\n",
       "      <th>sentiment</th>\n",
       "      <th>no_sw</th>\n",
       "    </tr>\n",
       "  </thead>\n",
       "  <tbody>\n",
       "    <tr>\n",
       "      <th>0</th>\n",
       "      <td>booo</td>\n",
       "      <td>Negative</td>\n",
       "      <td>booo</td>\n",
       "    </tr>\n",
       "    <tr>\n",
       "      <th>1</th>\n",
       "      <td>ok hear me out microsoft is going to pull a mi...</td>\n",
       "      <td>Neutral</td>\n",
       "      <td>hear microsoft pull mix ass prove choose xbox ...</td>\n",
       "    </tr>\n",
       "    <tr>\n",
       "      <th>2</th>\n",
       "      <td>hopping on the    uzi is pretty good fortunate...</td>\n",
       "      <td>Positive</td>\n",
       "      <td>hopping uzi pretty fortunate time twitchtvjoke65</td>\n",
       "    </tr>\n",
       "    <tr>\n",
       "      <th>3</th>\n",
       "      <td>mr christoph sandrock best pubg teammate rescu...</td>\n",
       "      <td>Positive</td>\n",
       "      <td>mr christoph sandrock pubg teammate rescuer cr...</td>\n",
       "    </tr>\n",
       "    <tr>\n",
       "      <th>4</th>\n",
       "      <td>eamaddennfl what is up with these player ratin...</td>\n",
       "      <td>Negative</td>\n",
       "      <td>eamaddennfl player ratings algorithm wrong</td>\n",
       "    </tr>\n",
       "    <tr>\n",
       "      <th>5</th>\n",
       "      <td>im very pleased to see everyone playing cyberp...</td>\n",
       "      <td>Positive</td>\n",
       "      <td>pleased playing cyberpunk completely missing o...</td>\n",
       "    </tr>\n",
       "    <tr>\n",
       "      <th>6</th>\n",
       "      <td>a ban for battlefield  player itzawwzy has occ...</td>\n",
       "      <td>Irrelevant</td>\n",
       "      <td>ban battlefield player itzawwzy occurred detai...</td>\n",
       "    </tr>\n",
       "    <tr>\n",
       "      <th>7</th>\n",
       "      <td>be soon into the warcraft  official release m ...</td>\n",
       "      <td>Positive</td>\n",
       "      <td>warcraft official release newsblizzardcomenusw...</td>\n",
       "    </tr>\n",
       "    <tr>\n",
       "      <th>8</th>\n",
       "      <td>we need about a third for ranked right around now</td>\n",
       "      <td>Neutral</td>\n",
       "      <td>ranked</td>\n",
       "    </tr>\n",
       "    <tr>\n",
       "      <th>9</th>\n",
       "      <td>is</td>\n",
       "      <td>Negative</td>\n",
       "      <td></td>\n",
       "    </tr>\n",
       "    <tr>\n",
       "      <th>10</th>\n",
       "      <td>does anyone who uses verizon fios for internet...</td>\n",
       "      <td>Negative</td>\n",
       "      <td>verizon fios internet suddenly experienced str...</td>\n",
       "    </tr>\n",
       "    <tr>\n",
       "      <th>11</th>\n",
       "      <td>cant wait for alex to play earth shaker with s...</td>\n",
       "      <td>Positive</td>\n",
       "      <td>wait alex play earth shaker scepter</td>\n",
       "    </tr>\n",
       "    <tr>\n",
       "      <th>12</th>\n",
       "      <td>oh great i also was right because this fucking...</td>\n",
       "      <td>Neutral</td>\n",
       "      <td>great fucking ui gonna surely xsex ui</td>\n",
       "    </tr>\n",
       "    <tr>\n",
       "      <th>13</th>\n",
       "      <td>microsoftxbox buying zenimaxbethesda is huge w...</td>\n",
       "      <td>Positive</td>\n",
       "      <td>microsoftxbox buying zenimaxbethesda huge wish...</td>\n",
       "    </tr>\n",
       "    <tr>\n",
       "      <th>14</th>\n",
       "      <td>rokkr snatched a big win today on estcom  cal...</td>\n",
       "      <td>Irrelevant</td>\n",
       "      <td>rokkr snatched big win today estcom callofdutyl</td>\n",
       "    </tr>\n",
       "    <tr>\n",
       "      <th>15</th>\n",
       "      <td>two joynes that should be a good thing</td>\n",
       "      <td>Positive</td>\n",
       "      <td>joynes</td>\n",
       "    </tr>\n",
       "    <tr>\n",
       "      <th>16</th>\n",
       "      <td>you are kinda all cool</td>\n",
       "      <td>Positive</td>\n",
       "      <td>kinda cool</td>\n",
       "    </tr>\n",
       "    <tr>\n",
       "      <th>17</th>\n",
       "      <td>now that sound good especially with his partin...</td>\n",
       "      <td>Neutral</td>\n",
       "      <td>sound especially parting words youtubecomwatch...</td>\n",
       "    </tr>\n",
       "    <tr>\n",
       "      <th>18</th>\n",
       "      <td>less code more power crews in japan thanks for...</td>\n",
       "      <td>Irrelevant</td>\n",
       "      <td>code power crews japan great logo jonjlevesque</td>\n",
       "    </tr>\n",
       "    <tr>\n",
       "      <th>19</th>\n",
       "      <td>its a very interesting because if now we get s...</td>\n",
       "      <td>Positive</td>\n",
       "      <td>interesting smartphones nvidia</td>\n",
       "    </tr>\n",
       "  </tbody>\n",
       "</table>\n",
       "</div>"
      ],
      "text/plain": [
       "                                                tweet   sentiment  \\\n",
       "0                                                booo    Negative   \n",
       "1   ok hear me out microsoft is going to pull a mi...     Neutral   \n",
       "2   hopping on the    uzi is pretty good fortunate...    Positive   \n",
       "3   mr christoph sandrock best pubg teammate rescu...    Positive   \n",
       "4   eamaddennfl what is up with these player ratin...    Negative   \n",
       "5   im very pleased to see everyone playing cyberp...    Positive   \n",
       "6   a ban for battlefield  player itzawwzy has occ...  Irrelevant   \n",
       "7   be soon into the warcraft  official release m ...    Positive   \n",
       "8   we need about a third for ranked right around now     Neutral   \n",
       "9                                                  is    Negative   \n",
       "10  does anyone who uses verizon fios for internet...    Negative   \n",
       "11  cant wait for alex to play earth shaker with s...    Positive   \n",
       "12  oh great i also was right because this fucking...     Neutral   \n",
       "13  microsoftxbox buying zenimaxbethesda is huge w...    Positive   \n",
       "14   rokkr snatched a big win today on estcom  cal...  Irrelevant   \n",
       "15             two joynes that should be a good thing    Positive   \n",
       "16                             you are kinda all cool    Positive   \n",
       "17  now that sound good especially with his partin...     Neutral   \n",
       "18  less code more power crews in japan thanks for...  Irrelevant   \n",
       "19  its a very interesting because if now we get s...    Positive   \n",
       "\n",
       "                                                no_sw  \n",
       "0                                                booo  \n",
       "1   hear microsoft pull mix ass prove choose xbox ...  \n",
       "2    hopping uzi pretty fortunate time twitchtvjoke65  \n",
       "3   mr christoph sandrock pubg teammate rescuer cr...  \n",
       "4          eamaddennfl player ratings algorithm wrong  \n",
       "5   pleased playing cyberpunk completely missing o...  \n",
       "6   ban battlefield player itzawwzy occurred detai...  \n",
       "7   warcraft official release newsblizzardcomenusw...  \n",
       "8                                              ranked  \n",
       "9                                                      \n",
       "10  verizon fios internet suddenly experienced str...  \n",
       "11                wait alex play earth shaker scepter  \n",
       "12              great fucking ui gonna surely xsex ui  \n",
       "13  microsoftxbox buying zenimaxbethesda huge wish...  \n",
       "14    rokkr snatched big win today estcom callofdutyl  \n",
       "15                                             joynes  \n",
       "16                                         kinda cool  \n",
       "17  sound especially parting words youtubecomwatch...  \n",
       "18     code power crews japan great logo jonjlevesque  \n",
       "19                     interesting smartphones nvidia  "
      ]
     },
     "execution_count": 58,
     "metadata": {},
     "output_type": "execute_result"
    }
   ],
   "source": [
    "dt.head(20)"
   ]
  },
  {
   "cell_type": "markdown",
   "metadata": {
    "collapsed": false
   },
   "source": [
    "## Most frequent words"
   ]
  },
  {
   "cell_type": "code",
   "execution_count": 59,
   "metadata": {
    "ExecuteTime": {
     "end_time": "2024-10-04T09:27:42.581059200Z",
     "start_time": "2024-10-04T09:27:42.264582700Z"
    },
    "collapsed": false
   },
   "outputs": [],
   "source": [
    "cnt = Counter()\n",
    "for text in dt[\"no_sw\"].values:\n",
    "    for word in text.split():\n",
    "        cnt[word] += 1\n",
    "cnt.most_common(20)\n",
    "temp = pd.DataFrame(cnt.most_common(20))\n",
    "temp.columns = ['word', 'count']"
   ]
  },
  {
   "cell_type": "code",
   "execution_count": 60,
   "metadata": {
    "ExecuteTime": {
     "end_time": "2024-10-04T09:27:42.596684600Z",
     "start_time": "2024-10-04T09:27:42.581059200Z"
    },
    "collapsed": false
   },
   "outputs": [
    {
     "data": {
      "text/html": [
       "<div>\n",
       "<style scoped>\n",
       "    .dataframe tbody tr th:only-of-type {\n",
       "        vertical-align: middle;\n",
       "    }\n",
       "\n",
       "    .dataframe tbody tr th {\n",
       "        vertical-align: top;\n",
       "    }\n",
       "\n",
       "    .dataframe thead th {\n",
       "        text-align: right;\n",
       "    }\n",
       "</style>\n",
       "<table border=\"1\" class=\"dataframe\">\n",
       "  <thead>\n",
       "    <tr style=\"text-align: right;\">\n",
       "      <th></th>\n",
       "      <th>word</th>\n",
       "      <th>count</th>\n",
       "    </tr>\n",
       "  </thead>\n",
       "  <tbody>\n",
       "    <tr>\n",
       "      <th>0</th>\n",
       "      <td>game</td>\n",
       "      <td>6275</td>\n",
       "    </tr>\n",
       "    <tr>\n",
       "      <th>1</th>\n",
       "      <td>play</td>\n",
       "      <td>2649</td>\n",
       "    </tr>\n",
       "    <tr>\n",
       "      <th>2</th>\n",
       "      <td>love</td>\n",
       "      <td>2498</td>\n",
       "    </tr>\n",
       "    <tr>\n",
       "      <th>3</th>\n",
       "      <td>time</td>\n",
       "      <td>2280</td>\n",
       "    </tr>\n",
       "    <tr>\n",
       "      <th>4</th>\n",
       "      <td>johnson</td>\n",
       "      <td>2271</td>\n",
       "    </tr>\n",
       "    <tr>\n",
       "      <th>5</th>\n",
       "      <td>shit</td>\n",
       "      <td>2102</td>\n",
       "    </tr>\n",
       "    <tr>\n",
       "      <th>6</th>\n",
       "      <td>games</td>\n",
       "      <td>1759</td>\n",
       "    </tr>\n",
       "    <tr>\n",
       "      <th>7</th>\n",
       "      <td>great</td>\n",
       "      <td>1738</td>\n",
       "    </tr>\n",
       "    <tr>\n",
       "      <th>8</th>\n",
       "      <td>playing</td>\n",
       "      <td>1665</td>\n",
       "    </tr>\n",
       "    <tr>\n",
       "      <th>9</th>\n",
       "      <td>xbox</td>\n",
       "      <td>1632</td>\n",
       "    </tr>\n",
       "    <tr>\n",
       "      <th>10</th>\n",
       "      <td>fucking</td>\n",
       "      <td>1615</td>\n",
       "    </tr>\n",
       "    <tr>\n",
       "      <th>11</th>\n",
       "      <td>rhandlerr</td>\n",
       "      <td>1612</td>\n",
       "    </tr>\n",
       "    <tr>\n",
       "      <th>12</th>\n",
       "      <td>facebook</td>\n",
       "      <td>1564</td>\n",
       "    </tr>\n",
       "    <tr>\n",
       "      <th>13</th>\n",
       "      <td>google</td>\n",
       "      <td>1552</td>\n",
       "    </tr>\n",
       "    <tr>\n",
       "      <th>14</th>\n",
       "      <td>amazon</td>\n",
       "      <td>1538</td>\n",
       "    </tr>\n",
       "    <tr>\n",
       "      <th>15</th>\n",
       "      <td>fuck</td>\n",
       "      <td>1523</td>\n",
       "    </tr>\n",
       "    <tr>\n",
       "      <th>16</th>\n",
       "      <td>dead</td>\n",
       "      <td>1516</td>\n",
       "    </tr>\n",
       "    <tr>\n",
       "      <th>17</th>\n",
       "      <td>microsoft</td>\n",
       "      <td>1474</td>\n",
       "    </tr>\n",
       "    <tr>\n",
       "      <th>18</th>\n",
       "      <td>verizon</td>\n",
       "      <td>1473</td>\n",
       "    </tr>\n",
       "    <tr>\n",
       "      <th>19</th>\n",
       "      <td>back</td>\n",
       "      <td>1448</td>\n",
       "    </tr>\n",
       "  </tbody>\n",
       "</table>\n",
       "</div>"
      ],
      "text/plain": [
       "         word  count\n",
       "0        game   6275\n",
       "1        play   2649\n",
       "2        love   2498\n",
       "3        time   2280\n",
       "4     johnson   2271\n",
       "5        shit   2102\n",
       "6       games   1759\n",
       "7       great   1738\n",
       "8     playing   1665\n",
       "9        xbox   1632\n",
       "10    fucking   1615\n",
       "11  rhandlerr   1612\n",
       "12   facebook   1564\n",
       "13     google   1552\n",
       "14     amazon   1538\n",
       "15       fuck   1523\n",
       "16       dead   1516\n",
       "17  microsoft   1474\n",
       "18    verizon   1473\n",
       "19       back   1448"
      ]
     },
     "execution_count": 60,
     "metadata": {},
     "output_type": "execute_result"
    }
   ],
   "source": [
    "temp.head(20)"
   ]
  },
  {
   "cell_type": "markdown",
   "metadata": {
    "collapsed": false
   },
   "source": [
    "most frequent words erstmal nicht entfernen (love, shit etc. vmtl. ausschlaggebend für Klassifikation)"
   ]
  },
  {
   "cell_type": "code",
   "execution_count": 61,
   "metadata": {
    "ExecuteTime": {
     "end_time": "2024-10-04T09:27:42.681352500Z",
     "start_time": "2024-10-04T09:27:42.596684600Z"
    },
    "collapsed": false
   },
   "outputs": [],
   "source": [
    "# FREQWORDS = set([w for (w, wc) in cnt.most_common(10)])\n",
    "# def remove_freqwords(text):\n",
    "#     return \" \".join([word for word in str(text).split() if word not in FREQWORDS])\n",
    "# dt[\"no_sw_no_freqwo\"] = dt[\"no_sw\"].apply(lambda text: remove_freqwords(text))"
   ]
  },
  {
   "cell_type": "code",
   "execution_count": 62,
   "metadata": {
    "ExecuteTime": {
     "end_time": "2024-10-04T09:27:42.712608400Z",
     "start_time": "2024-10-04T09:27:42.612309900Z"
    },
    "collapsed": false
   },
   "outputs": [],
   "source": [
    "# dt.head()"
   ]
  },
  {
   "cell_type": "code",
   "execution_count": 63,
   "metadata": {
    "ExecuteTime": {
     "end_time": "2024-10-04T09:27:42.712608400Z",
     "start_time": "2024-10-04T09:27:42.627937700Z"
    },
    "collapsed": false
   },
   "outputs": [],
   "source": [
    "# dt[dt.no_sw != dt.no_sw_no_freqwo].head()"
   ]
  },
  {
   "cell_type": "markdown",
   "metadata": {
    "collapsed": false
   },
   "source": [
    "## Lemmatization"
   ]
  },
  {
   "cell_type": "code",
   "execution_count": 64,
   "metadata": {
    "ExecuteTime": {
     "end_time": "2024-10-04T09:27:45.122234700Z",
     "start_time": "2024-10-04T09:27:42.643563700Z"
    },
    "collapsed": false
   },
   "outputs": [],
   "source": [
    "wordnet_lem = WordNetLemmatizer()\n",
    "dt['no_sw_lem'] = dt['no_sw'].apply(wordnet_lem.lemmatize)"
   ]
  },
  {
   "cell_type": "code",
   "execution_count": 65,
   "metadata": {
    "ExecuteTime": {
     "end_time": "2024-10-04T09:27:45.122234700Z",
     "start_time": "2024-10-04T09:27:45.071752400Z"
    },
    "collapsed": false
   },
   "outputs": [
    {
     "data": {
      "text/html": [
       "<div>\n",
       "<style scoped>\n",
       "    .dataframe tbody tr th:only-of-type {\n",
       "        vertical-align: middle;\n",
       "    }\n",
       "\n",
       "    .dataframe tbody tr th {\n",
       "        vertical-align: top;\n",
       "    }\n",
       "\n",
       "    .dataframe thead th {\n",
       "        text-align: right;\n",
       "    }\n",
       "</style>\n",
       "<table border=\"1\" class=\"dataframe\">\n",
       "  <thead>\n",
       "    <tr style=\"text-align: right;\">\n",
       "      <th></th>\n",
       "      <th>tweet</th>\n",
       "      <th>sentiment</th>\n",
       "      <th>no_sw</th>\n",
       "      <th>no_sw_lem</th>\n",
       "    </tr>\n",
       "  </thead>\n",
       "  <tbody>\n",
       "    <tr>\n",
       "      <th>0</th>\n",
       "      <td>booo</td>\n",
       "      <td>Negative</td>\n",
       "      <td>booo</td>\n",
       "      <td>booo</td>\n",
       "    </tr>\n",
       "    <tr>\n",
       "      <th>1</th>\n",
       "      <td>ok hear me out microsoft is going to pull a mi...</td>\n",
       "      <td>Neutral</td>\n",
       "      <td>hear microsoft pull mix ass prove choose xbox ...</td>\n",
       "      <td>hear microsoft pull mix ass prove choose xbox ...</td>\n",
       "    </tr>\n",
       "    <tr>\n",
       "      <th>2</th>\n",
       "      <td>hopping on the    uzi is pretty good fortunate...</td>\n",
       "      <td>Positive</td>\n",
       "      <td>hopping uzi pretty fortunate time twitchtvjoke65</td>\n",
       "      <td>hopping uzi pretty fortunate time twitchtvjoke65</td>\n",
       "    </tr>\n",
       "    <tr>\n",
       "      <th>3</th>\n",
       "      <td>mr christoph sandrock best pubg teammate rescu...</td>\n",
       "      <td>Positive</td>\n",
       "      <td>mr christoph sandrock pubg teammate rescuer cr...</td>\n",
       "      <td>mr christoph sandrock pubg teammate rescuer cr...</td>\n",
       "    </tr>\n",
       "    <tr>\n",
       "      <th>4</th>\n",
       "      <td>eamaddennfl what is up with these player ratin...</td>\n",
       "      <td>Negative</td>\n",
       "      <td>eamaddennfl player ratings algorithm wrong</td>\n",
       "      <td>eamaddennfl player ratings algorithm wrong</td>\n",
       "    </tr>\n",
       "  </tbody>\n",
       "</table>\n",
       "</div>"
      ],
      "text/plain": [
       "                                               tweet sentiment  \\\n",
       "0                                               booo  Negative   \n",
       "1  ok hear me out microsoft is going to pull a mi...   Neutral   \n",
       "2  hopping on the    uzi is pretty good fortunate...  Positive   \n",
       "3  mr christoph sandrock best pubg teammate rescu...  Positive   \n",
       "4  eamaddennfl what is up with these player ratin...  Negative   \n",
       "\n",
       "                                               no_sw  \\\n",
       "0                                               booo   \n",
       "1  hear microsoft pull mix ass prove choose xbox ...   \n",
       "2   hopping uzi pretty fortunate time twitchtvjoke65   \n",
       "3  mr christoph sandrock pubg teammate rescuer cr...   \n",
       "4         eamaddennfl player ratings algorithm wrong   \n",
       "\n",
       "                                           no_sw_lem  \n",
       "0                                               booo  \n",
       "1  hear microsoft pull mix ass prove choose xbox ...  \n",
       "2   hopping uzi pretty fortunate time twitchtvjoke65  \n",
       "3  mr christoph sandrock pubg teammate rescuer cr...  \n",
       "4         eamaddennfl player ratings algorithm wrong  "
      ]
     },
     "execution_count": 65,
     "metadata": {},
     "output_type": "execute_result"
    }
   ],
   "source": [
    "dt.head()"
   ]
  },
  {
   "cell_type": "code",
   "execution_count": 66,
   "metadata": {
    "ExecuteTime": {
     "end_time": "2024-10-04T09:27:45.124272800Z",
     "start_time": "2024-10-04T09:27:45.083918400Z"
    },
    "collapsed": false
   },
   "outputs": [
    {
     "data": {
      "text/html": [
       "<div>\n",
       "<style scoped>\n",
       "    .dataframe tbody tr th:only-of-type {\n",
       "        vertical-align: middle;\n",
       "    }\n",
       "\n",
       "    .dataframe tbody tr th {\n",
       "        vertical-align: top;\n",
       "    }\n",
       "\n",
       "    .dataframe thead th {\n",
       "        text-align: right;\n",
       "    }\n",
       "</style>\n",
       "<table border=\"1\" class=\"dataframe\">\n",
       "  <thead>\n",
       "    <tr style=\"text-align: right;\">\n",
       "      <th></th>\n",
       "      <th>tweet</th>\n",
       "      <th>sentiment</th>\n",
       "      <th>no_sw</th>\n",
       "      <th>no_sw_lem</th>\n",
       "    </tr>\n",
       "  </thead>\n",
       "  <tbody>\n",
       "    <tr>\n",
       "      <th>79</th>\n",
       "      <td>the best uniforms</td>\n",
       "      <td>Positive</td>\n",
       "      <td>uniforms</td>\n",
       "      <td>uniform</td>\n",
       "    </tr>\n",
       "    <tr>\n",
       "      <th>222</th>\n",
       "      <td>all comments</td>\n",
       "      <td>Irrelevant</td>\n",
       "      <td>comments</td>\n",
       "      <td>comment</td>\n",
       "    </tr>\n",
       "    <tr>\n",
       "      <th>276</th>\n",
       "      <td>last one sounds way too good to be said true</td>\n",
       "      <td>Positive</td>\n",
       "      <td>sounds</td>\n",
       "      <td>sound</td>\n",
       "    </tr>\n",
       "    <tr>\n",
       "      <th>1521</th>\n",
       "      <td>lies</td>\n",
       "      <td>Negative</td>\n",
       "      <td>lies</td>\n",
       "      <td>lie</td>\n",
       "    </tr>\n",
       "    <tr>\n",
       "      <th>3011</th>\n",
       "      <td>mistakes</td>\n",
       "      <td>Irrelevant</td>\n",
       "      <td>mistakes</td>\n",
       "      <td>mistake</td>\n",
       "    </tr>\n",
       "    <tr>\n",
       "      <th>...</th>\n",
       "      <td>...</td>\n",
       "      <td>...</td>\n",
       "      <td>...</td>\n",
       "      <td>...</td>\n",
       "    </tr>\n",
       "    <tr>\n",
       "      <th>56977</th>\n",
       "      <td>feels the good man</td>\n",
       "      <td>Positive</td>\n",
       "      <td>feels</td>\n",
       "      <td>feel</td>\n",
       "    </tr>\n",
       "    <tr>\n",
       "      <th>57446</th>\n",
       "      <td>hotdogs ever</td>\n",
       "      <td>Positive</td>\n",
       "      <td>hotdogs</td>\n",
       "      <td>hotdog</td>\n",
       "    </tr>\n",
       "    <tr>\n",
       "      <th>57471</th>\n",
       "      <td>old days</td>\n",
       "      <td>Irrelevant</td>\n",
       "      <td>days</td>\n",
       "      <td>day</td>\n",
       "    </tr>\n",
       "    <tr>\n",
       "      <th>57501</th>\n",
       "      <td>the works for me</td>\n",
       "      <td>Positive</td>\n",
       "      <td>works</td>\n",
       "      <td>work</td>\n",
       "    </tr>\n",
       "    <tr>\n",
       "      <th>57585</th>\n",
       "      <td>these gods</td>\n",
       "      <td>Neutral</td>\n",
       "      <td>gods</td>\n",
       "      <td>god</td>\n",
       "    </tr>\n",
       "  </tbody>\n",
       "</table>\n",
       "<p>215 rows × 4 columns</p>\n",
       "</div>"
      ],
      "text/plain": [
       "                                              tweet   sentiment     no_sw  \\\n",
       "79                                the best uniforms    Positive  uniforms   \n",
       "222                                    all comments  Irrelevant  comments   \n",
       "276    last one sounds way too good to be said true    Positive    sounds   \n",
       "1521                                           lies    Negative      lies   \n",
       "3011                                       mistakes  Irrelevant  mistakes   \n",
       "...                                             ...         ...       ...   \n",
       "56977                          feels the good man      Positive     feels   \n",
       "57446                                  hotdogs ever    Positive   hotdogs   \n",
       "57471                                    old days    Irrelevant      days   \n",
       "57501                              the works for me    Positive     works   \n",
       "57585                                    these gods     Neutral      gods   \n",
       "\n",
       "      no_sw_lem  \n",
       "79      uniform  \n",
       "222     comment  \n",
       "276       sound  \n",
       "1521        lie  \n",
       "3011    mistake  \n",
       "...         ...  \n",
       "56977      feel  \n",
       "57446    hotdog  \n",
       "57471       day  \n",
       "57501      work  \n",
       "57585       god  \n",
       "\n",
       "[215 rows x 4 columns]"
      ]
     },
     "execution_count": 66,
     "metadata": {},
     "output_type": "execute_result"
    }
   ],
   "source": [
    "dt[dt.no_sw != dt.no_sw_lem].head(500)"
   ]
  },
  {
   "cell_type": "markdown",
   "metadata": {
    "collapsed": false
   },
   "source": [
    "## Check again: Duplicates / NaN"
   ]
  },
  {
   "cell_type": "code",
   "execution_count": 67,
   "metadata": {
    "ExecuteTime": {
     "end_time": "2024-10-04T09:27:45.326670100Z",
     "start_time": "2024-10-04T09:27:45.124272800Z"
    },
    "collapsed": false
   },
   "outputs": [
    {
     "data": {
      "text/plain": [
       "2135"
      ]
     },
     "execution_count": 67,
     "metadata": {},
     "output_type": "execute_result"
    }
   ],
   "source": [
    "dt.duplicated().sum()"
   ]
  },
  {
   "cell_type": "code",
   "execution_count": 68,
   "metadata": {
    "ExecuteTime": {
     "end_time": "2024-10-04T09:27:45.426082800Z",
     "start_time": "2024-10-04T09:27:45.205220400Z"
    },
    "collapsed": false
   },
   "outputs": [
    {
     "data": {
      "text/plain": [
       "0"
      ]
     },
     "execution_count": 68,
     "metadata": {},
     "output_type": "execute_result"
    }
   ],
   "source": [
    "dt.drop_duplicates(inplace=True)\n",
    "dt.duplicated().sum()"
   ]
  },
  {
   "cell_type": "code",
   "execution_count": 72,
   "metadata": {
    "ExecuteTime": {
     "end_time": "2024-10-04T09:31:26.332120500Z",
     "start_time": "2024-10-04T09:31:26.263078800Z"
    },
    "collapsed": false
   },
   "outputs": [
    {
     "data": {
      "text/plain": [
       "tweet        0\n",
       "sentiment    0\n",
       "no_sw        0\n",
       "no_sw_lem    0\n",
       "dtype: int64"
      ]
     },
     "execution_count": 72,
     "metadata": {},
     "output_type": "execute_result"
    }
   ],
   "source": [
    "dt.isna().sum()"
   ]
  },
  {
   "cell_type": "code",
   "execution_count": 69,
   "metadata": {
    "ExecuteTime": {
     "end_time": "2024-10-04T09:27:45.509208600Z",
     "start_time": "2024-10-04T09:27:45.357021900Z"
    },
    "collapsed": false
   },
   "outputs": [
    {
     "name": "stdout",
     "output_type": "stream",
     "text": [
      "<class 'pandas.core.frame.DataFrame'>\n",
      "Int64Index: 55151 entries, 0 to 57624\n",
      "Data columns (total 4 columns):\n",
      " #   Column     Non-Null Count  Dtype \n",
      "---  ------     --------------  ----- \n",
      " 0   tweet      55151 non-null  object\n",
      " 1   sentiment  55151 non-null  object\n",
      " 2   no_sw      55151 non-null  object\n",
      " 3   no_sw_lem  55151 non-null  object\n",
      "dtypes: object(4)\n",
      "memory usage: 2.1+ MB\n"
     ]
    }
   ],
   "source": [
    "dt.info()"
   ]
  },
  {
   "cell_type": "markdown",
   "metadata": {
    "collapsed": false
   },
   "source": [
    "## Save preprocessed data"
   ]
  },
  {
   "cell_type": "code",
   "execution_count": 70,
   "metadata": {
    "ExecuteTime": {
     "end_time": "2024-10-04T09:27:45.509208600Z",
     "start_time": "2024-10-04T09:27:45.407870400Z"
    },
    "collapsed": false
   },
   "outputs": [],
   "source": [
    "filepath = Path('data/twitter_training_cleaned_preprocessed.csv')\n",
    "filepath.parent.mkdir(parents=True, exist_ok=True)"
   ]
  },
  {
   "cell_type": "code",
   "execution_count": 71,
   "metadata": {
    "ExecuteTime": {
     "end_time": "2024-10-04T09:27:45.957420900Z",
     "start_time": "2024-10-04T09:27:45.428134Z"
    },
    "collapsed": false
   },
   "outputs": [],
   "source": [
    "dt.to_csv(filepath)"
   ]
  },
  {
   "cell_type": "code",
   "execution_count": 71,
   "metadata": {
    "ExecuteTime": {
     "end_time": "2024-10-04T09:27:45.957420900Z",
     "start_time": "2024-10-04T09:27:45.957420900Z"
    },
    "collapsed": false
   },
   "outputs": [],
   "source": []
  }
 ],
 "metadata": {
  "kernelspec": {
   "display_name": "Python 3",
   "language": "python",
   "name": "python3"
  },
  "language_info": {
   "codemirror_mode": {
    "name": "ipython",
    "version": 3
   },
   "file_extension": ".py",
   "mimetype": "text/x-python",
   "name": "python",
   "nbconvert_exporter": "python",
   "pygments_lexer": "ipython3",
   "version": "3.9.2"
  }
 },
 "nbformat": 4,
 "nbformat_minor": 0
}
