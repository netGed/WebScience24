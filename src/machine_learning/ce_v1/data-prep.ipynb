{
 "cells": [
  {
   "cell_type": "markdown",
   "source": [
    "# Imports & Downloads"
   ],
   "metadata": {
    "collapsed": false
   }
  },
  {
   "cell_type": "code",
   "execution_count": 1,
   "metadata": {
    "collapsed": true,
    "ExecuteTime": {
     "end_time": "2024-10-04T09:25:52.520329600Z",
     "start_time": "2024-10-04T09:25:48.182819Z"
    }
   },
   "outputs": [],
   "source": [
    "import numpy as np\n",
    "import pandas as pd\n",
    "import matplotlib.pyplot as plt\n",
    "import seaborn as sns\n",
    "from pathlib import Path\n",
    "\n",
    "import nltk\n",
    "import re\n",
    "import string\n",
    "from nltk.corpus import stopwords\n",
    "from nltk.tokenize import word_tokenize\n",
    "from nltk.stem import WordNetLemmatizer\n",
    "\n",
    "from collections import Counter\n",
    "\n",
    "from sklearn.feature_extraction.text import CountVectorizer\n",
    "from nltk.tokenize import RegexpTokenizer\n",
    "from sklearn.model_selection import train_test_split\n",
    "\n",
    "from sklearn.naive_bayes import BernoulliNB, MultinomialNB, ComplementNB\n",
    "from sklearn.metrics import classification_report, confusion_matrix\n",
    "from sklearn import metrics\n",
    "from sklearn.metrics import precision_score, recall_score, f1_score"
   ]
  },
  {
   "cell_type": "code",
   "execution_count": 2,
   "outputs": [
    {
     "name": "stderr",
     "output_type": "stream",
     "text": [
      "[nltk_data] Downloading package punkt to\n",
      "[nltk_data]     C:\\Users\\admin\\AppData\\Roaming\\nltk_data...\n",
      "[nltk_data]   Package punkt is already up-to-date!\n",
      "[nltk_data] Downloading package stopwords to\n",
      "[nltk_data]     C:\\Users\\admin\\AppData\\Roaming\\nltk_data...\n",
      "[nltk_data]   Package stopwords is already up-to-date!\n",
      "[nltk_data] Downloading package wordnet to\n",
      "[nltk_data]     C:\\Users\\admin\\AppData\\Roaming\\nltk_data...\n",
      "[nltk_data]   Package wordnet is already up-to-date!\n",
      "[nltk_data] Downloading package omw-1.4 to\n",
      "[nltk_data]     C:\\Users\\admin\\AppData\\Roaming\\nltk_data...\n",
      "[nltk_data]   Package omw-1.4 is already up-to-date!\n"
     ]
    },
    {
     "data": {
      "text/plain": "True"
     },
     "execution_count": 2,
     "metadata": {},
     "output_type": "execute_result"
    }
   ],
   "source": [
    "nltk.download('punkt')\n",
    "nltk.download('stopwords')\n",
    "nltk.download('wordnet')\n",
    "nltk.download('omw-1.4')"
   ],
   "metadata": {
    "collapsed": false,
    "ExecuteTime": {
     "end_time": "2024-10-04T09:25:52.661518200Z",
     "start_time": "2024-10-04T09:25:48.849097500Z"
    }
   }
  },
  {
   "cell_type": "code",
   "execution_count": 3,
   "outputs": [],
   "source": [
    "stop_words = stopwords.words()"
   ],
   "metadata": {
    "collapsed": false,
    "ExecuteTime": {
     "end_time": "2024-10-04T09:25:52.681686400Z",
     "start_time": "2024-10-04T09:25:49.131514900Z"
    }
   }
  },
  {
   "cell_type": "markdown",
   "source": [
    "# Loading the data"
   ],
   "metadata": {
    "collapsed": false
   }
  },
  {
   "cell_type": "code",
   "execution_count": 4,
   "outputs": [],
   "source": [
    "col_names = ['thread', 'topic', \"sentiment\", \"tweet\"]\n",
    "df_raw = pd.read_csv(\"C:\\\\Users\\\\admin\\\\PycharmProjects\\\\WebScience24\\\\data\\\\twitter_hate-speech\\\\twitter_training.csv\",\n",
    "                     names=col_names, index_col=0, encoding=\"utf-8\")\n",
    "df_raw = df_raw.reset_index()"
   ],
   "metadata": {
    "collapsed": false,
    "ExecuteTime": {
     "end_time": "2024-10-04T09:25:52.762436700Z",
     "start_time": "2024-10-04T09:25:49.151730900Z"
    }
   }
  },
  {
   "cell_type": "code",
   "execution_count": 5,
   "outputs": [
    {
     "data": {
      "text/plain": "   thread        topic sentiment  \\\n0    2401  Borderlands  Positive   \n1    2401  Borderlands  Positive   \n2    2401  Borderlands  Positive   \n3    2401  Borderlands  Positive   \n4    2401  Borderlands  Positive   \n\n                                               tweet  \n0  im getting on borderlands and i will murder yo...  \n1  I am coming to the borders and I will kill you...  \n2  im getting on borderlands and i will kill you ...  \n3  im coming on borderlands and i will murder you...  \n4  im getting on borderlands 2 and i will murder ...  ",
      "text/html": "<div>\n<style scoped>\n    .dataframe tbody tr th:only-of-type {\n        vertical-align: middle;\n    }\n\n    .dataframe tbody tr th {\n        vertical-align: top;\n    }\n\n    .dataframe thead th {\n        text-align: right;\n    }\n</style>\n<table border=\"1\" class=\"dataframe\">\n  <thead>\n    <tr style=\"text-align: right;\">\n      <th></th>\n      <th>thread</th>\n      <th>topic</th>\n      <th>sentiment</th>\n      <th>tweet</th>\n    </tr>\n  </thead>\n  <tbody>\n    <tr>\n      <th>0</th>\n      <td>2401</td>\n      <td>Borderlands</td>\n      <td>Positive</td>\n      <td>im getting on borderlands and i will murder yo...</td>\n    </tr>\n    <tr>\n      <th>1</th>\n      <td>2401</td>\n      <td>Borderlands</td>\n      <td>Positive</td>\n      <td>I am coming to the borders and I will kill you...</td>\n    </tr>\n    <tr>\n      <th>2</th>\n      <td>2401</td>\n      <td>Borderlands</td>\n      <td>Positive</td>\n      <td>im getting on borderlands and i will kill you ...</td>\n    </tr>\n    <tr>\n      <th>3</th>\n      <td>2401</td>\n      <td>Borderlands</td>\n      <td>Positive</td>\n      <td>im coming on borderlands and i will murder you...</td>\n    </tr>\n    <tr>\n      <th>4</th>\n      <td>2401</td>\n      <td>Borderlands</td>\n      <td>Positive</td>\n      <td>im getting on borderlands 2 and i will murder ...</td>\n    </tr>\n  </tbody>\n</table>\n</div>"
     },
     "execution_count": 5,
     "metadata": {},
     "output_type": "execute_result"
    }
   ],
   "source": [
    "df_raw.head()"
   ],
   "metadata": {
    "collapsed": false,
    "ExecuteTime": {
     "end_time": "2024-10-04T09:25:52.762436700Z",
     "start_time": "2024-10-04T09:25:49.312885800Z"
    }
   }
  },
  {
   "cell_type": "markdown",
   "source": [
    "## Save val data"
   ],
   "metadata": {
    "collapsed": false
   }
  },
  {
   "cell_type": "code",
   "execution_count": 6,
   "outputs": [
    {
     "data": {
      "text/plain": "(59746, 4)"
     },
     "execution_count": 6,
     "metadata": {},
     "output_type": "execute_result"
    }
   ],
   "source": [
    "train_df = df_raw.sample(frac = 0.8)\n",
    "train_df.shape"
   ],
   "metadata": {
    "collapsed": false,
    "ExecuteTime": {
     "end_time": "2024-10-04T09:25:52.762436700Z",
     "start_time": "2024-10-04T09:25:49.333108900Z"
    }
   }
  },
  {
   "cell_type": "code",
   "execution_count": 7,
   "outputs": [
    {
     "data": {
      "text/plain": "(14936, 4)"
     },
     "execution_count": 7,
     "metadata": {},
     "output_type": "execute_result"
    }
   ],
   "source": [
    "val_df = df_raw.drop(train_df.index)\n",
    "val_df.shape"
   ],
   "metadata": {
    "collapsed": false,
    "ExecuteTime": {
     "end_time": "2024-10-04T09:25:52.762436700Z",
     "start_time": "2024-10-04T09:25:49.353337700Z"
    }
   }
  },
  {
   "cell_type": "code",
   "execution_count": 8,
   "outputs": [],
   "source": [
    "filepath = Path('data/twitter_validation_new.csv')\n",
    "filepath.parent.mkdir(parents=True, exist_ok=True)"
   ],
   "metadata": {
    "collapsed": false,
    "ExecuteTime": {
     "end_time": "2024-10-04T09:25:52.762436700Z",
     "start_time": "2024-10-04T09:25:49.373515500Z"
    }
   }
  },
  {
   "cell_type": "code",
   "execution_count": 9,
   "outputs": [],
   "source": [
    "val_df.to_csv(filepath)"
   ],
   "metadata": {
    "collapsed": false,
    "ExecuteTime": {
     "end_time": "2024-10-04T09:25:52.943809100Z",
     "start_time": "2024-10-04T09:25:49.393687900Z"
    }
   }
  },
  {
   "cell_type": "markdown",
   "source": [
    "# Preparing the data"
   ],
   "metadata": {
    "collapsed": false
   }
  },
  {
   "cell_type": "code",
   "execution_count": 10,
   "outputs": [],
   "source": [
    "df = train_df"
   ],
   "metadata": {
    "collapsed": false,
    "ExecuteTime": {
     "end_time": "2024-10-04T09:25:52.955903200Z",
     "start_time": "2024-10-04T09:25:49.514681600Z"
    }
   }
  },
  {
   "cell_type": "code",
   "execution_count": 11,
   "outputs": [
    {
     "name": "stdout",
     "output_type": "stream",
     "text": [
      "<class 'pandas.core.frame.DataFrame'>\n",
      "Int64Index: 59746 entries, 69081 to 4666\n",
      "Data columns (total 4 columns):\n",
      " #   Column     Non-Null Count  Dtype \n",
      "---  ------     --------------  ----- \n",
      " 0   thread     59746 non-null  int64 \n",
      " 1   topic      59746 non-null  object\n",
      " 2   sentiment  59746 non-null  object\n",
      " 3   tweet      59183 non-null  object\n",
      "dtypes: int64(1), object(3)\n",
      "memory usage: 2.3+ MB\n"
     ]
    }
   ],
   "source": [
    "df.info()"
   ],
   "metadata": {
    "collapsed": false,
    "ExecuteTime": {
     "end_time": "2024-10-04T09:25:52.955903200Z",
     "start_time": "2024-10-04T09:25:49.534907800Z"
    }
   }
  },
  {
   "cell_type": "markdown",
   "source": [
    "## Duplicate-Check"
   ],
   "metadata": {
    "collapsed": false
   }
  },
  {
   "cell_type": "code",
   "execution_count": 12,
   "outputs": [
    {
     "data": {
      "text/plain": "1823"
     },
     "execution_count": 12,
     "metadata": {},
     "output_type": "execute_result"
    }
   ],
   "source": [
    "df.duplicated().sum()"
   ],
   "metadata": {
    "collapsed": false,
    "ExecuteTime": {
     "end_time": "2024-10-04T09:25:53.006322800Z",
     "start_time": "2024-10-04T09:25:49.595485200Z"
    }
   }
  },
  {
   "cell_type": "markdown",
   "source": [
    "=> bei der Menge an Daten (ca. 75k) sollten die Duplikate entfernt werden"
   ],
   "metadata": {
    "collapsed": false
   }
  },
  {
   "cell_type": "code",
   "execution_count": 13,
   "outputs": [
    {
     "data": {
      "text/plain": "0"
     },
     "execution_count": 13,
     "metadata": {},
     "output_type": "execute_result"
    }
   ],
   "source": [
    "df = df.drop_duplicates()\n",
    "df.duplicated().sum()"
   ],
   "metadata": {
    "collapsed": false,
    "ExecuteTime": {
     "end_time": "2024-10-04T09:25:53.034559700Z",
     "start_time": "2024-10-04T09:25:49.656186400Z"
    }
   }
  },
  {
   "cell_type": "markdown",
   "source": [
    "## Null-Check"
   ],
   "metadata": {
    "collapsed": false
   }
  },
  {
   "cell_type": "code",
   "execution_count": 14,
   "outputs": [
    {
     "data": {
      "text/plain": "thread         0\ntopic          0\nsentiment      0\ntweet        297\ndtype: int64"
     },
     "execution_count": 14,
     "metadata": {},
     "output_type": "execute_result"
    }
   ],
   "source": [
    "df.isna().sum()"
   ],
   "metadata": {
    "collapsed": false,
    "ExecuteTime": {
     "end_time": "2024-10-04T09:25:53.034559700Z",
     "start_time": "2024-10-04T09:25:49.736988600Z"
    }
   }
  },
  {
   "cell_type": "markdown",
   "source": [
    "=> es fehlen nur Einträge bei Tweet, dabei handelt es sich aber um das entscheidende Feature; ohne Tweet ist der Eintrag wertlos, daher droppen"
   ],
   "metadata": {
    "collapsed": false
   }
  },
  {
   "cell_type": "code",
   "execution_count": 15,
   "outputs": [
    {
     "name": "stderr",
     "output_type": "stream",
     "text": [
      "C:\\Users\\admin\\AppData\\Local\\Temp\\ipykernel_372\\2294936447.py:1: SettingWithCopyWarning: \n",
      "A value is trying to be set on a copy of a slice from a DataFrame\n",
      "\n",
      "See the caveats in the documentation: https://pandas.pydata.org/pandas-docs/stable/user_guide/indexing.html#returning-a-view-versus-a-copy\n",
      "  df.dropna(axis=\"rows\", inplace=True)\n"
     ]
    },
    {
     "data": {
      "text/plain": "thread       0\ntopic        0\nsentiment    0\ntweet        0\ndtype: int64"
     },
     "execution_count": 15,
     "metadata": {},
     "output_type": "execute_result"
    }
   ],
   "source": [
    "df.dropna(axis=\"rows\", inplace=True)\n",
    "df.isna().sum()"
   ],
   "metadata": {
    "collapsed": false,
    "ExecuteTime": {
     "end_time": "2024-10-04T09:25:53.036599900Z",
     "start_time": "2024-10-04T09:25:49.797637300Z"
    }
   }
  },
  {
   "cell_type": "markdown",
   "source": [
    "## Inconsistent text & typos"
   ],
   "metadata": {
    "collapsed": false
   }
  },
  {
   "cell_type": "code",
   "execution_count": 16,
   "outputs": [
    {
     "name": "stdout",
     "output_type": "stream",
     "text": [
      "Column: Topic\n",
      "Amazon                               1794\n",
      "ApexLegends                          1854\n",
      "AssassinsCreed                       1723\n",
      "Battlefield                          1770\n",
      "Borderlands                          1789\n",
      "CS-GO                                1744\n",
      "CallOfDuty                           1830\n",
      "CallOfDutyBlackopsColdWar            1817\n",
      "Cyberpunk2077                        1760\n",
      "Dota2                                1796\n",
      "FIFA                                 1795\n",
      "Facebook                             1840\n",
      "Fortnite                             1775\n",
      "Google                               1769\n",
      "GrandTheftAuto(GTA)                  1770\n",
      "Hearthstone                          1804\n",
      "HomeDepot                            1785\n",
      "LeagueOfLegends                      1850\n",
      "MaddenNFL                            1851\n",
      "Microsoft                            1856\n",
      "NBA2K                                1870\n",
      "Nvidia                               1793\n",
      "Overwatch                            1809\n",
      "PlayStation5(PS5)                    1747\n",
      "PlayerUnknownsBattlegrounds(PUBG)    1722\n",
      "RedDeadRedemption(RDR)               1723\n",
      "TomClancysGhostRecon                 1801\n",
      "TomClancysRainbowSix                 1862\n",
      "Verizon                              1848\n",
      "WorldOfCraft                         1866\n",
      "Xbox(Xseries)                        1754\n",
      "johnson&johnson                      1859\n",
      "Name: topic, dtype: int64\n"
     ]
    }
   ],
   "source": [
    "print('Column: Topic')\n",
    "print(df['topic'].value_counts().sort_index())"
   ],
   "metadata": {
    "collapsed": false,
    "ExecuteTime": {
     "end_time": "2024-10-04T09:25:53.036599900Z",
     "start_time": "2024-10-04T09:25:49.878419600Z"
    }
   }
  },
  {
   "cell_type": "markdown",
   "source": [
    "=> keine Typos erkennbar\n",
    "=> Doppelung von CallOfDuty / CallOfDutyBlackopsColdWar -> ggf. zusammenlegen"
   ],
   "metadata": {
    "collapsed": false
   }
  },
  {
   "cell_type": "code",
   "execution_count": 17,
   "outputs": [
    {
     "data": {
      "text/plain": "       thread       topic   sentiment  \\\n55443    2319  CallOfDuty    Positive   \n54410    2146  CallOfDuty  Irrelevant   \n54488    2159  CallOfDuty    Positive   \n55000    2244  CallOfDuty    Positive   \n55343    2302  CallOfDuty    Positive   \n...       ...         ...         ...   \n55768    2373  CallOfDuty     Neutral   \n55887    2393  CallOfDuty  Irrelevant   \n54093    2093  CallOfDuty    Positive   \n55926    2400  CallOfDuty    Negative   \n55458    2322  CallOfDuty    Negative   \n\n                                                   tweet  \n55443  Hopping on the  . . Uzi is pretty good. Fortun...  \n54410  @ ROKKR snatched a big win today on. est.com /...  \n54488  You can also see @ CfDuty on board pic.gl / dG...  \n55000                                      Thank God GOD  \n55343                                                You  \n...                                                  ...  \n55768  Won just yet another tourney yesterday! That T...  \n55887                            I do love me some more.  \n54093  I'm just down here grinding the absolute balls...  \n55926  FIX YOUR GOD DAMN SERVERS YOU NEANDERTHALS @Ca...  \n55458  @CallofDuty could you please give us the abili...  \n\n[1830 rows x 4 columns]",
      "text/html": "<div>\n<style scoped>\n    .dataframe tbody tr th:only-of-type {\n        vertical-align: middle;\n    }\n\n    .dataframe tbody tr th {\n        vertical-align: top;\n    }\n\n    .dataframe thead th {\n        text-align: right;\n    }\n</style>\n<table border=\"1\" class=\"dataframe\">\n  <thead>\n    <tr style=\"text-align: right;\">\n      <th></th>\n      <th>thread</th>\n      <th>topic</th>\n      <th>sentiment</th>\n      <th>tweet</th>\n    </tr>\n  </thead>\n  <tbody>\n    <tr>\n      <th>55443</th>\n      <td>2319</td>\n      <td>CallOfDuty</td>\n      <td>Positive</td>\n      <td>Hopping on the  . . Uzi is pretty good. Fortun...</td>\n    </tr>\n    <tr>\n      <th>54410</th>\n      <td>2146</td>\n      <td>CallOfDuty</td>\n      <td>Irrelevant</td>\n      <td>@ ROKKR snatched a big win today on. est.com /...</td>\n    </tr>\n    <tr>\n      <th>54488</th>\n      <td>2159</td>\n      <td>CallOfDuty</td>\n      <td>Positive</td>\n      <td>You can also see @ CfDuty on board pic.gl / dG...</td>\n    </tr>\n    <tr>\n      <th>55000</th>\n      <td>2244</td>\n      <td>CallOfDuty</td>\n      <td>Positive</td>\n      <td>Thank God GOD</td>\n    </tr>\n    <tr>\n      <th>55343</th>\n      <td>2302</td>\n      <td>CallOfDuty</td>\n      <td>Positive</td>\n      <td>You</td>\n    </tr>\n    <tr>\n      <th>...</th>\n      <td>...</td>\n      <td>...</td>\n      <td>...</td>\n      <td>...</td>\n    </tr>\n    <tr>\n      <th>55768</th>\n      <td>2373</td>\n      <td>CallOfDuty</td>\n      <td>Neutral</td>\n      <td>Won just yet another tourney yesterday! That T...</td>\n    </tr>\n    <tr>\n      <th>55887</th>\n      <td>2393</td>\n      <td>CallOfDuty</td>\n      <td>Irrelevant</td>\n      <td>I do love me some more.</td>\n    </tr>\n    <tr>\n      <th>54093</th>\n      <td>2093</td>\n      <td>CallOfDuty</td>\n      <td>Positive</td>\n      <td>I'm just down here grinding the absolute balls...</td>\n    </tr>\n    <tr>\n      <th>55926</th>\n      <td>2400</td>\n      <td>CallOfDuty</td>\n      <td>Negative</td>\n      <td>FIX YOUR GOD DAMN SERVERS YOU NEANDERTHALS @Ca...</td>\n    </tr>\n    <tr>\n      <th>55458</th>\n      <td>2322</td>\n      <td>CallOfDuty</td>\n      <td>Negative</td>\n      <td>@CallofDuty could you please give us the abili...</td>\n    </tr>\n  </tbody>\n</table>\n<p>1830 rows × 4 columns</p>\n</div>"
     },
     "execution_count": 17,
     "metadata": {},
     "output_type": "execute_result"
    }
   ],
   "source": [
    "df[(df.topic == \"CallOfDuty\")]"
   ],
   "metadata": {
    "collapsed": false,
    "ExecuteTime": {
     "end_time": "2024-10-04T09:25:53.036599900Z",
     "start_time": "2024-10-04T09:25:49.898608900Z"
    }
   }
  },
  {
   "cell_type": "code",
   "execution_count": 18,
   "outputs": [
    {
     "data": {
      "text/plain": "       thread       topic   sentiment  \\\n55374    2308  CallOfDuty  Irrelevant   \n53854    2053  CallOfDuty  Irrelevant   \n54458    2154  CallOfDuty  Irrelevant   \n54459    2154  CallOfDuty  Irrelevant   \n53589    2009  CallOfDuty     Neutral   \n55375    2308  CallOfDuty  Irrelevant   \n54663    2188  CallOfDuty     Neutral   \n53559    2004  CallOfDuty    Positive   \n54360    2138  CallOfDuty    Positive   \n54365    2138  CallOfDuty    Positive   \n53827    2049  CallOfDuty    Negative   \n54662    2188  CallOfDuty     Neutral   \n54456    2154  CallOfDuty  Irrelevant   \n55545    2336  CallOfDuty     Neutral   \n53850    2053  CallOfDuty  Irrelevant   \n54382    2141  CallOfDuty    Positive   \n54381    2141  CallOfDuty    Positive   \n54461    2154  CallOfDuty  Irrelevant   \n54664    2188  CallOfDuty     Neutral   \n55543    2336  CallOfDuty     Neutral   \n54528    2166  CallOfDuty    Negative   \n55544    2336  CallOfDuty     Neutral   \n54532    2166  CallOfDuty    Negative   \n54364    2138  CallOfDuty    Positive   \n53588    2009  CallOfDuty     Neutral   \n54460    2154  CallOfDuty  Irrelevant   \n55546    2336  CallOfDuty     Neutral   \n54379    2141  CallOfDuty    Positive   \n54829    2216  CallOfDuty     Neutral   \n55377    2308  CallOfDuty  Irrelevant   \n53558    2004  CallOfDuty    Positive   \n54828    2216  CallOfDuty     Neutral   \n54831    2216  CallOfDuty     Neutral   \n54830    2216  CallOfDuty     Neutral   \n53661    2021  CallOfDuty    Positive   \n55542    2336  CallOfDuty     Neutral   \n53855    2053  CallOfDuty  Irrelevant   \n54457    2154  CallOfDuty  Irrelevant   \n53852    2053  CallOfDuty  Irrelevant   \n54380    2141  CallOfDuty    Positive   \n55378    2308  CallOfDuty  Irrelevant   \n54832    2216  CallOfDuty     Neutral   \n53591    2009  CallOfDuty     Neutral   \n54378    2141  CallOfDuty    Positive   \n53587    2009  CallOfDuty     Neutral   \n54383    2141  CallOfDuty    Positive   \n54529    2166  CallOfDuty    Negative   \n53590    2009  CallOfDuty     Neutral   \n\n                                                   tweet  \n55374  I love when they keep chat open for a second a...  \n53854  cops pretending about they're playing live cal...  \n54458  Ronald Reagan sends you to do absolutely nothi...  \n54459  Ronald Reagan sends you to do absolutely nothi...  \n53589  If anyone knows me i was literally a god at fo...  \n55375  I love it when they talk for a second after I ...  \n54663  @CallofDuty Can you also change the code H WAR...  \n53559  Have any of our played Call of Duty Black Ops ...  \n54360  I just played black ops 3 and omg. It's sooooo...  \n54365  I just played black ops 3 and omg. It's sooooo...  \n53827  If I'm looking for a game and a map pops up th...  \n54662  @ CFDuty Can you please change the name of WAR...  \n54456  Ronald Reagan sends you to do absolutely nothi...  \n55545  Activision confirms that 2020's Call of Duty i...  \n53850  cops pretending they're playing call of duty a...  \n54382  Modern Warfare 7 has been considered the best ...  \n54381  Modern Warfare has been the best Call of Duty ...  \n54461  Ronald Howard sends you to almost absolutely n...  \n54664  @CallofDuty What Can you you please to change ...  \n55543  Activision confirms that the title of Call of ...  \n54528  @Treyarch Call of Duty Black Ops 3 is the wors...  \n55544  Abvision confirms that the 2020 title Call of ...  \n54532  @Treyarch Call of Duty Black Ops 3 is the wors...  \n54364  I just recently played on black ops level 3 an...  \n53588  If anyone knows me i was literally a god at Bl...  \n54460  Emperor Ronald Reagan sends us you to do absol...  \n55546  Activision now confirms further that this 2020...  \n54379  Modern Warfare has been the best Call of Duty ...  \n54829  @ PlayCODMobile @ M2Games2 I love the Call of ...  \n55377  I love if they keep chat open for a second aft...  \n53558    Did any of you play Call of Duty Black Ops 3???  \n54828  @PlayCODMobile @M2Games2 i love the call of du...  \n54831  @PlayCODMobile @M2Games2 i love the call of du...  \n54830  @ PlayCODMobile @ M2Games2 I love the call of ...  \n53661  Wow props to Call of Duty for single handedly ...  \n55542  Activision confirms that 2020's Call of Duty t...  \n53855  cops because they're playing call of duty and ...  \n54457  Ronald Reagan sends you to do absolutely nothi...  \n53852  Cops pretending to be on duty and firing an ai...  \n54380  Modern Warfare has been the best Call of Duty ...  \n55378  I love when they keep to chat open for a secon...  \n54832  @PlayCODMobile @M2Games2 i still love the high...  \n53591  If anyone knows me i was literally a game befo...  \n54378  Modern Warfare has been the best Call of Duty ...  \n53587  If anyone knows me, I was literally a god at B...  \n54383  Modern Warfare have been the best Call of Duty...  \n54529  @ Treyarch Call of Duty Black Ops 3 is the wor...  \n53590  If anyone anyone knows by me i was literally a...  ",
      "text/html": "<div>\n<style scoped>\n    .dataframe tbody tr th:only-of-type {\n        vertical-align: middle;\n    }\n\n    .dataframe tbody tr th {\n        vertical-align: top;\n    }\n\n    .dataframe thead th {\n        text-align: right;\n    }\n</style>\n<table border=\"1\" class=\"dataframe\">\n  <thead>\n    <tr style=\"text-align: right;\">\n      <th></th>\n      <th>thread</th>\n      <th>topic</th>\n      <th>sentiment</th>\n      <th>tweet</th>\n    </tr>\n  </thead>\n  <tbody>\n    <tr>\n      <th>55374</th>\n      <td>2308</td>\n      <td>CallOfDuty</td>\n      <td>Irrelevant</td>\n      <td>I love when they keep chat open for a second a...</td>\n    </tr>\n    <tr>\n      <th>53854</th>\n      <td>2053</td>\n      <td>CallOfDuty</td>\n      <td>Irrelevant</td>\n      <td>cops pretending about they're playing live cal...</td>\n    </tr>\n    <tr>\n      <th>54458</th>\n      <td>2154</td>\n      <td>CallOfDuty</td>\n      <td>Irrelevant</td>\n      <td>Ronald Reagan sends you to do absolutely nothi...</td>\n    </tr>\n    <tr>\n      <th>54459</th>\n      <td>2154</td>\n      <td>CallOfDuty</td>\n      <td>Irrelevant</td>\n      <td>Ronald Reagan sends you to do absolutely nothi...</td>\n    </tr>\n    <tr>\n      <th>53589</th>\n      <td>2009</td>\n      <td>CallOfDuty</td>\n      <td>Neutral</td>\n      <td>If anyone knows me i was literally a god at fo...</td>\n    </tr>\n    <tr>\n      <th>55375</th>\n      <td>2308</td>\n      <td>CallOfDuty</td>\n      <td>Irrelevant</td>\n      <td>I love it when they talk for a second after I ...</td>\n    </tr>\n    <tr>\n      <th>54663</th>\n      <td>2188</td>\n      <td>CallOfDuty</td>\n      <td>Neutral</td>\n      <td>@CallofDuty Can you also change the code H WAR...</td>\n    </tr>\n    <tr>\n      <th>53559</th>\n      <td>2004</td>\n      <td>CallOfDuty</td>\n      <td>Positive</td>\n      <td>Have any of our played Call of Duty Black Ops ...</td>\n    </tr>\n    <tr>\n      <th>54360</th>\n      <td>2138</td>\n      <td>CallOfDuty</td>\n      <td>Positive</td>\n      <td>I just played black ops 3 and omg. It's sooooo...</td>\n    </tr>\n    <tr>\n      <th>54365</th>\n      <td>2138</td>\n      <td>CallOfDuty</td>\n      <td>Positive</td>\n      <td>I just played black ops 3 and omg. It's sooooo...</td>\n    </tr>\n    <tr>\n      <th>53827</th>\n      <td>2049</td>\n      <td>CallOfDuty</td>\n      <td>Negative</td>\n      <td>If I'm looking for a game and a map pops up th...</td>\n    </tr>\n    <tr>\n      <th>54662</th>\n      <td>2188</td>\n      <td>CallOfDuty</td>\n      <td>Neutral</td>\n      <td>@ CFDuty Can you please change the name of WAR...</td>\n    </tr>\n    <tr>\n      <th>54456</th>\n      <td>2154</td>\n      <td>CallOfDuty</td>\n      <td>Irrelevant</td>\n      <td>Ronald Reagan sends you to do absolutely nothi...</td>\n    </tr>\n    <tr>\n      <th>55545</th>\n      <td>2336</td>\n      <td>CallOfDuty</td>\n      <td>Neutral</td>\n      <td>Activision confirms that 2020's Call of Duty i...</td>\n    </tr>\n    <tr>\n      <th>53850</th>\n      <td>2053</td>\n      <td>CallOfDuty</td>\n      <td>Irrelevant</td>\n      <td>cops pretending they're playing call of duty a...</td>\n    </tr>\n    <tr>\n      <th>54382</th>\n      <td>2141</td>\n      <td>CallOfDuty</td>\n      <td>Positive</td>\n      <td>Modern Warfare 7 has been considered the best ...</td>\n    </tr>\n    <tr>\n      <th>54381</th>\n      <td>2141</td>\n      <td>CallOfDuty</td>\n      <td>Positive</td>\n      <td>Modern Warfare has been the best Call of Duty ...</td>\n    </tr>\n    <tr>\n      <th>54461</th>\n      <td>2154</td>\n      <td>CallOfDuty</td>\n      <td>Irrelevant</td>\n      <td>Ronald Howard sends you to almost absolutely n...</td>\n    </tr>\n    <tr>\n      <th>54664</th>\n      <td>2188</td>\n      <td>CallOfDuty</td>\n      <td>Neutral</td>\n      <td>@CallofDuty What Can you you please to change ...</td>\n    </tr>\n    <tr>\n      <th>55543</th>\n      <td>2336</td>\n      <td>CallOfDuty</td>\n      <td>Neutral</td>\n      <td>Activision confirms that the title of Call of ...</td>\n    </tr>\n    <tr>\n      <th>54528</th>\n      <td>2166</td>\n      <td>CallOfDuty</td>\n      <td>Negative</td>\n      <td>@Treyarch Call of Duty Black Ops 3 is the wors...</td>\n    </tr>\n    <tr>\n      <th>55544</th>\n      <td>2336</td>\n      <td>CallOfDuty</td>\n      <td>Neutral</td>\n      <td>Abvision confirms that the 2020 title Call of ...</td>\n    </tr>\n    <tr>\n      <th>54532</th>\n      <td>2166</td>\n      <td>CallOfDuty</td>\n      <td>Negative</td>\n      <td>@Treyarch Call of Duty Black Ops 3 is the wors...</td>\n    </tr>\n    <tr>\n      <th>54364</th>\n      <td>2138</td>\n      <td>CallOfDuty</td>\n      <td>Positive</td>\n      <td>I just recently played on black ops level 3 an...</td>\n    </tr>\n    <tr>\n      <th>53588</th>\n      <td>2009</td>\n      <td>CallOfDuty</td>\n      <td>Neutral</td>\n      <td>If anyone knows me i was literally a god at Bl...</td>\n    </tr>\n    <tr>\n      <th>54460</th>\n      <td>2154</td>\n      <td>CallOfDuty</td>\n      <td>Irrelevant</td>\n      <td>Emperor Ronald Reagan sends us you to do absol...</td>\n    </tr>\n    <tr>\n      <th>55546</th>\n      <td>2336</td>\n      <td>CallOfDuty</td>\n      <td>Neutral</td>\n      <td>Activision now confirms further that this 2020...</td>\n    </tr>\n    <tr>\n      <th>54379</th>\n      <td>2141</td>\n      <td>CallOfDuty</td>\n      <td>Positive</td>\n      <td>Modern Warfare has been the best Call of Duty ...</td>\n    </tr>\n    <tr>\n      <th>54829</th>\n      <td>2216</td>\n      <td>CallOfDuty</td>\n      <td>Neutral</td>\n      <td>@ PlayCODMobile @ M2Games2 I love the Call of ...</td>\n    </tr>\n    <tr>\n      <th>55377</th>\n      <td>2308</td>\n      <td>CallOfDuty</td>\n      <td>Irrelevant</td>\n      <td>I love if they keep chat open for a second aft...</td>\n    </tr>\n    <tr>\n      <th>53558</th>\n      <td>2004</td>\n      <td>CallOfDuty</td>\n      <td>Positive</td>\n      <td>Did any of you play Call of Duty Black Ops 3???</td>\n    </tr>\n    <tr>\n      <th>54828</th>\n      <td>2216</td>\n      <td>CallOfDuty</td>\n      <td>Neutral</td>\n      <td>@PlayCODMobile @M2Games2 i love the call of du...</td>\n    </tr>\n    <tr>\n      <th>54831</th>\n      <td>2216</td>\n      <td>CallOfDuty</td>\n      <td>Neutral</td>\n      <td>@PlayCODMobile @M2Games2 i love the call of du...</td>\n    </tr>\n    <tr>\n      <th>54830</th>\n      <td>2216</td>\n      <td>CallOfDuty</td>\n      <td>Neutral</td>\n      <td>@ PlayCODMobile @ M2Games2 I love the call of ...</td>\n    </tr>\n    <tr>\n      <th>53661</th>\n      <td>2021</td>\n      <td>CallOfDuty</td>\n      <td>Positive</td>\n      <td>Wow props to Call of Duty for single handedly ...</td>\n    </tr>\n    <tr>\n      <th>55542</th>\n      <td>2336</td>\n      <td>CallOfDuty</td>\n      <td>Neutral</td>\n      <td>Activision confirms that 2020's Call of Duty t...</td>\n    </tr>\n    <tr>\n      <th>53855</th>\n      <td>2053</td>\n      <td>CallOfDuty</td>\n      <td>Irrelevant</td>\n      <td>cops because they're playing call of duty and ...</td>\n    </tr>\n    <tr>\n      <th>54457</th>\n      <td>2154</td>\n      <td>CallOfDuty</td>\n      <td>Irrelevant</td>\n      <td>Ronald Reagan sends you to do absolutely nothi...</td>\n    </tr>\n    <tr>\n      <th>53852</th>\n      <td>2053</td>\n      <td>CallOfDuty</td>\n      <td>Irrelevant</td>\n      <td>Cops pretending to be on duty and firing an ai...</td>\n    </tr>\n    <tr>\n      <th>54380</th>\n      <td>2141</td>\n      <td>CallOfDuty</td>\n      <td>Positive</td>\n      <td>Modern Warfare has been the best Call of Duty ...</td>\n    </tr>\n    <tr>\n      <th>55378</th>\n      <td>2308</td>\n      <td>CallOfDuty</td>\n      <td>Irrelevant</td>\n      <td>I love when they keep to chat open for a secon...</td>\n    </tr>\n    <tr>\n      <th>54832</th>\n      <td>2216</td>\n      <td>CallOfDuty</td>\n      <td>Neutral</td>\n      <td>@PlayCODMobile @M2Games2 i still love the high...</td>\n    </tr>\n    <tr>\n      <th>53591</th>\n      <td>2009</td>\n      <td>CallOfDuty</td>\n      <td>Neutral</td>\n      <td>If anyone knows me i was literally a game befo...</td>\n    </tr>\n    <tr>\n      <th>54378</th>\n      <td>2141</td>\n      <td>CallOfDuty</td>\n      <td>Positive</td>\n      <td>Modern Warfare has been the best Call of Duty ...</td>\n    </tr>\n    <tr>\n      <th>53587</th>\n      <td>2009</td>\n      <td>CallOfDuty</td>\n      <td>Neutral</td>\n      <td>If anyone knows me, I was literally a god at B...</td>\n    </tr>\n    <tr>\n      <th>54383</th>\n      <td>2141</td>\n      <td>CallOfDuty</td>\n      <td>Positive</td>\n      <td>Modern Warfare have been the best Call of Duty...</td>\n    </tr>\n    <tr>\n      <th>54529</th>\n      <td>2166</td>\n      <td>CallOfDuty</td>\n      <td>Negative</td>\n      <td>@ Treyarch Call of Duty Black Ops 3 is the wor...</td>\n    </tr>\n    <tr>\n      <th>53590</th>\n      <td>2009</td>\n      <td>CallOfDuty</td>\n      <td>Neutral</td>\n      <td>If anyone anyone knows by me i was literally a...</td>\n    </tr>\n  </tbody>\n</table>\n</div>"
     },
     "execution_count": 18,
     "metadata": {},
     "output_type": "execute_result"
    }
   ],
   "source": [
    "blackops_keywords = \"ops|Ops\"\n",
    "df[(df.topic == \"CallOfDuty\") & (df.tweet.str.contains(blackops_keywords))]"
   ],
   "metadata": {
    "collapsed": false,
    "ExecuteTime": {
     "end_time": "2024-10-04T09:25:53.036599900Z",
     "start_time": "2024-10-04T09:25:49.918773400Z"
    }
   }
  },
  {
   "cell_type": "code",
   "execution_count": 19,
   "outputs": [
    {
     "data": {
      "text/plain": "      thread                      topic   sentiment  \\\n3785    1854  CallOfDutyBlackopsColdWar     Neutral   \n3556    1815  CallOfDutyBlackopsColdWar  Irrelevant   \n4194    1923  CallOfDutyBlackopsColdWar    Negative   \n4524    1978  CallOfDutyBlackopsColdWar    Negative   \n2791    1685  CallOfDutyBlackopsColdWar    Negative   \n...      ...                        ...         ...   \n3750    1849  CallOfDutyBlackopsColdWar    Positive   \n4376    1953  CallOfDutyBlackopsColdWar  Irrelevant   \n2680    1666  CallOfDutyBlackopsColdWar    Positive   \n4471    1969  CallOfDutyBlackopsColdWar  Irrelevant   \n2776    1682  CallOfDutyBlackopsColdWar    Positive   \n\n                                                  tweet  \n3785  Black Ops Gang War Reveals Fireteam Dirty Bomb...  \n3556  Pubs are becoming actually fun for the now fir...  \n4194  Black Ops Cold War is definitely a step down f...  \n4524  I thought the graphics will be like the one in...  \n2791  Sweet! More recycled content! Nothing excites ...  \n...                                                 ...  \n3750  This would be an awesome birthday girft for @L...  \n4376  I don't like the idea of knocking people down ...  \n2680  and LOVING THE CALL OF DUTY: BLACK OPS COLD WA...  \n4471                      Really excited for this team.  \n2776  Friends who tryna buy me this shit if im willi...  \n\n[1817 rows x 4 columns]",
      "text/html": "<div>\n<style scoped>\n    .dataframe tbody tr th:only-of-type {\n        vertical-align: middle;\n    }\n\n    .dataframe tbody tr th {\n        vertical-align: top;\n    }\n\n    .dataframe thead th {\n        text-align: right;\n    }\n</style>\n<table border=\"1\" class=\"dataframe\">\n  <thead>\n    <tr style=\"text-align: right;\">\n      <th></th>\n      <th>thread</th>\n      <th>topic</th>\n      <th>sentiment</th>\n      <th>tweet</th>\n    </tr>\n  </thead>\n  <tbody>\n    <tr>\n      <th>3785</th>\n      <td>1854</td>\n      <td>CallOfDutyBlackopsColdWar</td>\n      <td>Neutral</td>\n      <td>Black Ops Gang War Reveals Fireteam Dirty Bomb...</td>\n    </tr>\n    <tr>\n      <th>3556</th>\n      <td>1815</td>\n      <td>CallOfDutyBlackopsColdWar</td>\n      <td>Irrelevant</td>\n      <td>Pubs are becoming actually fun for the now fir...</td>\n    </tr>\n    <tr>\n      <th>4194</th>\n      <td>1923</td>\n      <td>CallOfDutyBlackopsColdWar</td>\n      <td>Negative</td>\n      <td>Black Ops Cold War is definitely a step down f...</td>\n    </tr>\n    <tr>\n      <th>4524</th>\n      <td>1978</td>\n      <td>CallOfDutyBlackopsColdWar</td>\n      <td>Negative</td>\n      <td>I thought the graphics will be like the one in...</td>\n    </tr>\n    <tr>\n      <th>2791</th>\n      <td>1685</td>\n      <td>CallOfDutyBlackopsColdWar</td>\n      <td>Negative</td>\n      <td>Sweet! More recycled content! Nothing excites ...</td>\n    </tr>\n    <tr>\n      <th>...</th>\n      <td>...</td>\n      <td>...</td>\n      <td>...</td>\n      <td>...</td>\n    </tr>\n    <tr>\n      <th>3750</th>\n      <td>1849</td>\n      <td>CallOfDutyBlackopsColdWar</td>\n      <td>Positive</td>\n      <td>This would be an awesome birthday girft for @L...</td>\n    </tr>\n    <tr>\n      <th>4376</th>\n      <td>1953</td>\n      <td>CallOfDutyBlackopsColdWar</td>\n      <td>Irrelevant</td>\n      <td>I don't like the idea of knocking people down ...</td>\n    </tr>\n    <tr>\n      <th>2680</th>\n      <td>1666</td>\n      <td>CallOfDutyBlackopsColdWar</td>\n      <td>Positive</td>\n      <td>and LOVING THE CALL OF DUTY: BLACK OPS COLD WA...</td>\n    </tr>\n    <tr>\n      <th>4471</th>\n      <td>1969</td>\n      <td>CallOfDutyBlackopsColdWar</td>\n      <td>Irrelevant</td>\n      <td>Really excited for this team.</td>\n    </tr>\n    <tr>\n      <th>2776</th>\n      <td>1682</td>\n      <td>CallOfDutyBlackopsColdWar</td>\n      <td>Positive</td>\n      <td>Friends who tryna buy me this shit if im willi...</td>\n    </tr>\n  </tbody>\n</table>\n<p>1817 rows × 4 columns</p>\n</div>"
     },
     "execution_count": 19,
     "metadata": {},
     "output_type": "execute_result"
    }
   ],
   "source": [
    "df[(df.topic == \"CallOfDutyBlackopsColdWar\")]"
   ],
   "metadata": {
    "collapsed": false,
    "ExecuteTime": {
     "end_time": "2024-10-04T09:25:53.036599900Z",
     "start_time": "2024-10-04T09:25:50.039664200Z"
    }
   }
  },
  {
   "cell_type": "code",
   "execution_count": 20,
   "outputs": [
    {
     "data": {
      "text/plain": "      thread                      topic   sentiment  \\\n4194    1923  CallOfDutyBlackopsColdWar    Negative   \n2463    1630  CallOfDutyBlackopsColdWar  Irrelevant   \n2464    1630  CallOfDutyBlackopsColdWar  Irrelevant   \n3910    1875  CallOfDutyBlackopsColdWar    Positive   \n4188    1922  CallOfDutyBlackopsColdWar    Negative   \n...      ...                        ...         ...   \n4459    1967  CallOfDutyBlackopsColdWar    Negative   \n4071    1902  CallOfDutyBlackopsColdWar  Irrelevant   \n4198    1923  CallOfDutyBlackopsColdWar    Negative   \n4080    1904  CallOfDutyBlackopsColdWar    Positive   \n4314    1943  CallOfDutyBlackopsColdWar    Positive   \n\n                                                  tweet  \n4194  Black Ops Cold War is definitely a step down f...  \n2463  New vid!. Why The Modern American morons are a...  \n2464  New vid!.. The Modern Air Warfare Center moron...  \n3910  After A Quick Win for Verdansk'man s finest......  \n4188  Can we keep warzone as the COD br and consiste...  \n...                                                 ...  \n4459  The latest patch for Warzone and Modern Warfar...  \n4071  Finally!!!! Death awaits Modern Warfare!! Oh t...  \n4198  Black Ops Cold War is definitely a step down c...  \n4080  I get to share with the first game I've gotten...  \n4314  The menu looks so nice. I just dont understand...  \n\n[78 rows x 4 columns]",
      "text/html": "<div>\n<style scoped>\n    .dataframe tbody tr th:only-of-type {\n        vertical-align: middle;\n    }\n\n    .dataframe tbody tr th {\n        vertical-align: top;\n    }\n\n    .dataframe thead th {\n        text-align: right;\n    }\n</style>\n<table border=\"1\" class=\"dataframe\">\n  <thead>\n    <tr style=\"text-align: right;\">\n      <th></th>\n      <th>thread</th>\n      <th>topic</th>\n      <th>sentiment</th>\n      <th>tweet</th>\n    </tr>\n  </thead>\n  <tbody>\n    <tr>\n      <th>4194</th>\n      <td>1923</td>\n      <td>CallOfDutyBlackopsColdWar</td>\n      <td>Negative</td>\n      <td>Black Ops Cold War is definitely a step down f...</td>\n    </tr>\n    <tr>\n      <th>2463</th>\n      <td>1630</td>\n      <td>CallOfDutyBlackopsColdWar</td>\n      <td>Irrelevant</td>\n      <td>New vid!. Why The Modern American morons are a...</td>\n    </tr>\n    <tr>\n      <th>2464</th>\n      <td>1630</td>\n      <td>CallOfDutyBlackopsColdWar</td>\n      <td>Irrelevant</td>\n      <td>New vid!.. The Modern Air Warfare Center moron...</td>\n    </tr>\n    <tr>\n      <th>3910</th>\n      <td>1875</td>\n      <td>CallOfDutyBlackopsColdWar</td>\n      <td>Positive</td>\n      <td>After A Quick Win for Verdansk'man s finest......</td>\n    </tr>\n    <tr>\n      <th>4188</th>\n      <td>1922</td>\n      <td>CallOfDutyBlackopsColdWar</td>\n      <td>Negative</td>\n      <td>Can we keep warzone as the COD br and consiste...</td>\n    </tr>\n    <tr>\n      <th>...</th>\n      <td>...</td>\n      <td>...</td>\n      <td>...</td>\n      <td>...</td>\n    </tr>\n    <tr>\n      <th>4459</th>\n      <td>1967</td>\n      <td>CallOfDutyBlackopsColdWar</td>\n      <td>Negative</td>\n      <td>The latest patch for Warzone and Modern Warfar...</td>\n    </tr>\n    <tr>\n      <th>4071</th>\n      <td>1902</td>\n      <td>CallOfDutyBlackopsColdWar</td>\n      <td>Irrelevant</td>\n      <td>Finally!!!! Death awaits Modern Warfare!! Oh t...</td>\n    </tr>\n    <tr>\n      <th>4198</th>\n      <td>1923</td>\n      <td>CallOfDutyBlackopsColdWar</td>\n      <td>Negative</td>\n      <td>Black Ops Cold War is definitely a step down c...</td>\n    </tr>\n    <tr>\n      <th>4080</th>\n      <td>1904</td>\n      <td>CallOfDutyBlackopsColdWar</td>\n      <td>Positive</td>\n      <td>I get to share with the first game I've gotten...</td>\n    </tr>\n    <tr>\n      <th>4314</th>\n      <td>1943</td>\n      <td>CallOfDutyBlackopsColdWar</td>\n      <td>Positive</td>\n      <td>The menu looks so nice. I just dont understand...</td>\n    </tr>\n  </tbody>\n</table>\n<p>78 rows × 4 columns</p>\n</div>"
     },
     "execution_count": 20,
     "metadata": {},
     "output_type": "execute_result"
    }
   ],
   "source": [
    "cod_keywords = \"verdansk|Verdansk|warzone|Warzone|modern|Modern|warfare|Warfare\"\n",
    "df[(df.topic == \"CallOfDutyBlackopsColdWar\") & (df.tweet.str.contains(cod_keywords))]"
   ],
   "metadata": {
    "collapsed": false,
    "ExecuteTime": {
     "end_time": "2024-10-04T09:25:53.087289400Z",
     "start_time": "2024-10-04T09:25:50.059841Z"
    }
   }
  },
  {
   "cell_type": "code",
   "execution_count": 21,
   "outputs": [
    {
     "name": "stdout",
     "output_type": "stream",
     "text": [
      "Column: sentiment\n",
      "Negative      17394\n",
      "Positive      15953\n",
      "Neutral       14148\n",
      "Irrelevant    10131\n",
      "Name: sentiment, dtype: int64\n"
     ]
    }
   ],
   "source": [
    "print('Column: sentiment')\n",
    "print(df['sentiment'].value_counts())"
   ],
   "metadata": {
    "collapsed": false,
    "ExecuteTime": {
     "end_time": "2024-10-04T09:25:53.087289400Z",
     "start_time": "2024-10-04T09:25:50.160714100Z"
    }
   }
  },
  {
   "cell_type": "markdown",
   "source": [
    "=> keine Typos erkennbar"
   ],
   "metadata": {
    "collapsed": false
   }
  },
  {
   "cell_type": "markdown",
   "source": [
    "## Outlier"
   ],
   "metadata": {
    "collapsed": false
   }
  },
  {
   "cell_type": "code",
   "execution_count": 22,
   "outputs": [
    {
     "name": "stdout",
     "output_type": "stream",
     "text": [
      "NBA2K                                1870\n",
      "WorldOfCraft                         1866\n",
      "TomClancysRainbowSix                 1862\n",
      "johnson&johnson                      1859\n",
      "Microsoft                            1856\n",
      "ApexLegends                          1854\n",
      "MaddenNFL                            1851\n",
      "LeagueOfLegends                      1850\n",
      "Verizon                              1848\n",
      "Facebook                             1840\n",
      "CallOfDuty                           1830\n",
      "CallOfDutyBlackopsColdWar            1817\n",
      "Overwatch                            1809\n",
      "Hearthstone                          1804\n",
      "TomClancysGhostRecon                 1801\n",
      "Dota2                                1796\n",
      "FIFA                                 1795\n",
      "Amazon                               1794\n",
      "Nvidia                               1793\n",
      "Borderlands                          1789\n",
      "HomeDepot                            1785\n",
      "Fortnite                             1775\n",
      "GrandTheftAuto(GTA)                  1770\n",
      "Battlefield                          1770\n",
      "Google                               1769\n",
      "Cyberpunk2077                        1760\n",
      "Xbox(Xseries)                        1754\n",
      "PlayStation5(PS5)                    1747\n",
      "CS-GO                                1744\n",
      "AssassinsCreed                       1723\n",
      "RedDeadRedemption(RDR)               1723\n",
      "PlayerUnknownsBattlegrounds(PUBG)    1722\n",
      "Name: topic, dtype: int64\n"
     ]
    }
   ],
   "source": [
    "# Spalte: Topic\n",
    "print(df['topic'].value_counts())"
   ],
   "metadata": {
    "collapsed": false,
    "ExecuteTime": {
     "end_time": "2024-10-04T09:25:53.087289400Z",
     "start_time": "2024-10-04T09:25:50.180899100Z"
    }
   }
  },
  {
   "cell_type": "code",
   "execution_count": 23,
   "outputs": [
    {
     "name": "stderr",
     "output_type": "stream",
     "text": [
      "C:\\Users\\admin\\AppData\\Local\\Temp\\ipykernel_372\\4036354668.py:3: SettingWithCopyWarning: \n",
      "A value is trying to be set on a copy of a slice from a DataFrame.\n",
      "Try using .loc[row_indexer,col_indexer] = value instead\n",
      "\n",
      "See the caveats in the documentation: https://pandas.pydata.org/pandas-docs/stable/user_guide/indexing.html#returning-a-view-versus-a-copy\n",
      "  df[\"char_count\"] = df[\"tweet\"].str.len()\n",
      "C:\\Users\\admin\\AppData\\Local\\Temp\\ipykernel_372\\4036354668.py:4: SettingWithCopyWarning: \n",
      "A value is trying to be set on a copy of a slice from a DataFrame.\n",
      "Try using .loc[row_indexer,col_indexer] = value instead\n",
      "\n",
      "See the caveats in the documentation: https://pandas.pydata.org/pandas-docs/stable/user_guide/indexing.html#returning-a-view-versus-a-copy\n",
      "  df[\"word_count\"] = df[\"tweet\"].str.split().str.len()\n"
     ]
    }
   ],
   "source": [
    "# Spalte: Tweet\n",
    "# Ansatz: prüfen, ob es Ausreißer bei der Länge und/oder bei der Wortzahl pro Tweets gibt\n",
    "df[\"char_count\"] = df[\"tweet\"].str.len()\n",
    "df[\"word_count\"] = df[\"tweet\"].str.split().str.len()\n",
    "df = df.reset_index(drop=True)"
   ],
   "metadata": {
    "collapsed": false,
    "ExecuteTime": {
     "end_time": "2024-10-04T09:25:53.178693400Z",
     "start_time": "2024-10-04T09:25:50.201104Z"
    }
   }
  },
  {
   "cell_type": "code",
   "execution_count": 24,
   "outputs": [
    {
     "data": {
      "text/plain": "count    57626.000000\nmean       109.927793\nstd         79.345431\nmin          1.000000\n25%         48.000000\n50%         92.000000\n75%        154.000000\nmax        957.000000\nName: char_count, dtype: float64"
     },
     "execution_count": 24,
     "metadata": {},
     "output_type": "execute_result"
    }
   ],
   "source": [
    "df[\"char_count\"].describe()"
   ],
   "metadata": {
    "collapsed": false,
    "ExecuteTime": {
     "end_time": "2024-10-04T09:25:53.178693400Z",
     "start_time": "2024-10-04T09:25:50.483618100Z"
    }
   }
  },
  {
   "cell_type": "code",
   "execution_count": 25,
   "outputs": [
    {
     "data": {
      "text/plain": "<Axes: xlabel='char_count', ylabel='Count'>"
     },
     "execution_count": 25,
     "metadata": {},
     "output_type": "execute_result"
    },
    {
     "data": {
      "text/plain": "<Figure size 640x480 with 1 Axes>",
      "image/png": "[encoded data removed]"
     },
     "metadata": {},
     "output_type": "display_data"
    }
   ],
   "source": [
    "sns.histplot(df[\"char_count\"])"
   ],
   "metadata": {
    "collapsed": false,
    "ExecuteTime": {
     "end_time": "2024-10-04T09:25:53.411179300Z",
     "start_time": "2024-10-04T09:25:50.503815Z"
    }
   }
  },
  {
   "cell_type": "code",
   "execution_count": 26,
   "outputs": [
    {
     "data": {
      "text/plain": "<Axes: >"
     },
     "execution_count": 26,
     "metadata": {},
     "output_type": "execute_result"
    },
    {
     "data": {
      "text/plain": "<Figure size 640x480 with 1 Axes>",
      "image/png": "[encoded data removed]"
     },
     "metadata": {},
     "output_type": "display_data"
    }
   ],
   "source": [
    "sns.boxplot(df[\"char_count\"])"
   ],
   "metadata": {
    "collapsed": false,
    "ExecuteTime": {
     "end_time": "2024-10-04T09:25:53.449453300Z",
     "start_time": "2024-10-04T09:25:51.209619Z"
    }
   }
  },
  {
   "cell_type": "code",
   "execution_count": 27,
   "outputs": [
    {
     "data": {
      "text/plain": "count    57626.000000\nmean        19.442699\nstd         14.416694\nmin          0.000000\n25%          8.000000\n50%         16.000000\n75%         28.000000\nmax        198.000000\nName: word_count, dtype: float64"
     },
     "execution_count": 27,
     "metadata": {},
     "output_type": "execute_result"
    }
   ],
   "source": [
    "df[\"word_count\"].describe()"
   ],
   "metadata": {
    "collapsed": false,
    "ExecuteTime": {
     "end_time": "2024-10-04T09:25:53.449453300Z",
     "start_time": "2024-10-04T09:25:51.371078200Z"
    }
   }
  },
  {
   "cell_type": "code",
   "execution_count": 28,
   "outputs": [
    {
     "data": {
      "text/plain": "<Axes: xlabel='word_count', ylabel='Count'>"
     },
     "execution_count": 28,
     "metadata": {},
     "output_type": "execute_result"
    },
    {
     "data": {
      "text/plain": "<Figure size 640x480 with 1 Axes>",
      "image/png": "[encoded data removed]"
     },
     "metadata": {},
     "output_type": "display_data"
    }
   ],
   "source": [
    "sns.histplot(df[\"word_count\"])"
   ],
   "metadata": {
    "collapsed": false,
    "ExecuteTime": {
     "end_time": "2024-10-04T09:25:53.753545800Z",
     "start_time": "2024-10-04T09:25:51.391285800Z"
    }
   }
  },
  {
   "cell_type": "code",
   "execution_count": 29,
   "outputs": [
    {
     "data": {
      "text/plain": "<Axes: >"
     },
     "execution_count": 29,
     "metadata": {},
     "output_type": "execute_result"
    },
    {
     "data": {
      "text/plain": "<Figure size 640x480 with 1 Axes>",
      "image/png": "[encoded data removed]"
     },
     "metadata": {},
     "output_type": "display_data"
    }
   ],
   "source": [
    "sns.boxplot(data=df[\"word_count\"])"
   ],
   "metadata": {
    "collapsed": false,
    "ExecuteTime": {
     "end_time": "2024-10-04T09:25:53.753545800Z",
     "start_time": "2024-10-04T09:25:52.158494200Z"
    }
   }
  },
  {
   "cell_type": "code",
   "execution_count": 30,
   "outputs": [],
   "source": [
    "# Ausreißer auf numerische Art bestimmen: 3 Standardabweichungen vom Mittelwert entfernt = Ausreißer\n",
    "def find_outlier(data):\n",
    "    for num_col in data.select_dtypes([\"number\"]).columns:\n",
    "        sd = data[num_col].std()\n",
    "        mean = data[num_col].mean()\n",
    "        result = [out for out in data[num_col] if (out > mean + 3 * sd) or (out < mean - 3 * sd)]\n",
    "        print()\n",
    "        print(\"Column: \", num_col)\n",
    "        print(\"Mean: \", mean, \"; Std: \", sd)\n",
    "        print(\"Outlier: \", len(result), \"; Values: \", sorted(result))"
   ],
   "metadata": {
    "collapsed": false,
    "ExecuteTime": {
     "end_time": "2024-10-04T09:25:53.769169900Z",
     "start_time": "2024-10-04T09:25:52.340275Z"
    }
   }
  },
  {
   "cell_type": "code",
   "execution_count": 31,
   "outputs": [
    {
     "name": "stdout",
     "output_type": "stream",
     "text": [
      "\n",
      "Column:  char_count\n",
      "Mean:  109.9277930100996 ; Std:  79.34543063760277\n",
      "Outlier:  117 ; Values:  [348, 348, 348, 348, 348, 348, 349, 349, 349, 349, 349, 349, 349, 350, 350, 350, 350, 350, 350, 351, 351, 351, 351, 351, 351, 351, 351, 351, 351, 352, 352, 353, 353, 354, 354, 354, 354, 354, 354, 354, 355, 355, 355, 355, 355, 355, 355, 356, 356, 356, 356, 357, 357, 358, 358, 358, 359, 359, 360, 360, 361, 361, 361, 362, 362, 363, 365, 365, 368, 368, 369, 369, 369, 370, 370, 370, 371, 371, 374, 375, 376, 377, 377, 382, 385, 386, 386, 388, 388, 392, 394, 395, 395, 395, 395, 396, 396, 408, 411, 415, 418, 427, 434, 435, 441, 441, 467, 513, 559, 692, 692, 692, 692, 692, 692, 727, 957]\n",
      "\n",
      "Column:  word_count\n",
      "Mean:  19.442699475931004 ; Std:  14.416693922829971\n",
      "Outlier:  281 ; Values:  [63, 63, 63, 63, 63, 63, 63, 63, 63, 63, 63, 63, 63, 63, 63, 63, 63, 63, 63, 63, 63, 63, 63, 63, 63, 63, 63, 63, 63, 63, 63, 63, 63, 63, 63, 63, 63, 63, 63, 63, 63, 63, 63, 63, 63, 63, 63, 63, 63, 63, 63, 63, 63, 63, 63, 63, 64, 64, 64, 64, 64, 64, 64, 64, 64, 64, 64, 64, 64, 64, 64, 64, 64, 64, 64, 64, 64, 64, 64, 64, 64, 64, 64, 64, 64, 64, 64, 64, 64, 64, 64, 64, 64, 64, 64, 64, 64, 64, 65, 65, 65, 65, 65, 65, 65, 65, 65, 65, 65, 65, 65, 65, 65, 65, 65, 65, 65, 65, 65, 65, 65, 65, 65, 65, 65, 65, 65, 65, 65, 65, 65, 65, 65, 65, 65, 65, 65, 66, 66, 66, 66, 66, 66, 66, 66, 66, 66, 66, 66, 66, 66, 66, 66, 66, 66, 66, 66, 66, 66, 66, 66, 66, 67, 67, 67, 67, 67, 67, 67, 67, 67, 67, 67, 67, 67, 67, 67, 67, 67, 67, 67, 67, 67, 67, 67, 67, 68, 68, 68, 68, 68, 68, 68, 68, 68, 68, 68, 68, 69, 69, 69, 69, 69, 69, 69, 69, 70, 70, 70, 70, 70, 70, 70, 70, 70, 70, 70, 70, 71, 71, 71, 71, 71, 71, 71, 72, 72, 72, 72, 72, 72, 72, 72, 72, 72, 73, 73, 73, 73, 73, 73, 73, 74, 74, 74, 74, 74, 74, 74, 75, 76, 76, 76, 76, 76, 77, 77, 78, 79, 79, 80, 80, 84, 89, 91, 97, 99, 99, 99, 99, 99, 99, 106, 150, 166, 175, 190, 194, 198, 198, 198]\n"
     ]
    }
   ],
   "source": [
    "find_outlier(df[[\"char_count\", \"word_count\"]])"
   ],
   "metadata": {
    "collapsed": false,
    "ExecuteTime": {
     "end_time": "2024-10-04T09:25:53.769169900Z",
     "start_time": "2024-10-04T09:25:52.360662300Z"
    }
   }
  },
  {
   "cell_type": "code",
   "execution_count": 32,
   "outputs": [
    {
     "data": {
      "text/plain": "       thread                   topic   sentiment  \\\n113      8834                  Nvidia     Neutral   \n1323     4805     GrandTheftAuto(GTA)  Irrelevant   \n4445    10556  RedDeadRedemption(RDR)     Neutral   \n4881    12966           Xbox(Xseries)     Neutral   \n4907    11893                 Verizon     Neutral   \n...       ...                     ...         ...   \n54540    1120          AssassinsCreed    Negative   \n54981    4725                  Google     Neutral   \n55381    3580                Facebook     Neutral   \n55821    7173         johnson&johnson     Neutral   \n57493    8947                  Nvidia     Neutral   \n\n                                                   tweet  char_count  \\\n113    New GMiner 2. 05 upgrade With Further Improved...         356   \n1323   Once COVID - 19 came to the full GTA and lockd...         360   \n4445   There was a meeting with the interns on their ...         513   \n4881   Italy, Italy, Italy, Italy, Italy, Italy, Ital...         692   \n4907   wow this is also groundbreaking : “ under the ...         354   \n...                                                  ...         ...   \n54540  Finally, Kingdom Come:. Deliverance... The per...         559   \n54981  This is not law, not its full history, a more ...         351   \n55381  Sorry for the incredible tech difficulties bac...         370   \n55821  A massive lawsuit against Johnson & Johnson wi...         358   \n57493  Italy, Italy, Italy, Italy, Italy, Italy, Ital...         692   \n\n       word_count  \n113            61  \n1323           61  \n4445          190  \n4881           99  \n4907           62  \n...           ...  \n54540          52  \n54981          55  \n55381          62  \n55821          59  \n57493          99  \n\n[111 rows x 6 columns]",
      "text/html": "<div>\n<style scoped>\n    .dataframe tbody tr th:only-of-type {\n        vertical-align: middle;\n    }\n\n    .dataframe tbody tr th {\n        vertical-align: top;\n    }\n\n    .dataframe thead th {\n        text-align: right;\n    }\n</style>\n<table border=\"1\" class=\"dataframe\">\n  <thead>\n    <tr style=\"text-align: right;\">\n      <th></th>\n      <th>thread</th>\n      <th>topic</th>\n      <th>sentiment</th>\n      <th>tweet</th>\n      <th>char_count</th>\n      <th>word_count</th>\n    </tr>\n  </thead>\n  <tbody>\n    <tr>\n      <th>113</th>\n      <td>8834</td>\n      <td>Nvidia</td>\n      <td>Neutral</td>\n      <td>New GMiner 2. 05 upgrade With Further Improved...</td>\n      <td>356</td>\n      <td>61</td>\n    </tr>\n    <tr>\n      <th>1323</th>\n      <td>4805</td>\n      <td>GrandTheftAuto(GTA)</td>\n      <td>Irrelevant</td>\n      <td>Once COVID - 19 came to the full GTA and lockd...</td>\n      <td>360</td>\n      <td>61</td>\n    </tr>\n    <tr>\n      <th>4445</th>\n      <td>10556</td>\n      <td>RedDeadRedemption(RDR)</td>\n      <td>Neutral</td>\n      <td>There was a meeting with the interns on their ...</td>\n      <td>513</td>\n      <td>190</td>\n    </tr>\n    <tr>\n      <th>4881</th>\n      <td>12966</td>\n      <td>Xbox(Xseries)</td>\n      <td>Neutral</td>\n      <td>Italy, Italy, Italy, Italy, Italy, Italy, Ital...</td>\n      <td>692</td>\n      <td>99</td>\n    </tr>\n    <tr>\n      <th>4907</th>\n      <td>11893</td>\n      <td>Verizon</td>\n      <td>Neutral</td>\n      <td>wow this is also groundbreaking : “ under the ...</td>\n      <td>354</td>\n      <td>62</td>\n    </tr>\n    <tr>\n      <th>...</th>\n      <td>...</td>\n      <td>...</td>\n      <td>...</td>\n      <td>...</td>\n      <td>...</td>\n      <td>...</td>\n    </tr>\n    <tr>\n      <th>54540</th>\n      <td>1120</td>\n      <td>AssassinsCreed</td>\n      <td>Negative</td>\n      <td>Finally, Kingdom Come:. Deliverance... The per...</td>\n      <td>559</td>\n      <td>52</td>\n    </tr>\n    <tr>\n      <th>54981</th>\n      <td>4725</td>\n      <td>Google</td>\n      <td>Neutral</td>\n      <td>This is not law, not its full history, a more ...</td>\n      <td>351</td>\n      <td>55</td>\n    </tr>\n    <tr>\n      <th>55381</th>\n      <td>3580</td>\n      <td>Facebook</td>\n      <td>Neutral</td>\n      <td>Sorry for the incredible tech difficulties bac...</td>\n      <td>370</td>\n      <td>62</td>\n    </tr>\n    <tr>\n      <th>55821</th>\n      <td>7173</td>\n      <td>johnson&amp;johnson</td>\n      <td>Neutral</td>\n      <td>A massive lawsuit against Johnson &amp; Johnson wi...</td>\n      <td>358</td>\n      <td>59</td>\n    </tr>\n    <tr>\n      <th>57493</th>\n      <td>8947</td>\n      <td>Nvidia</td>\n      <td>Neutral</td>\n      <td>Italy, Italy, Italy, Italy, Italy, Italy, Ital...</td>\n      <td>692</td>\n      <td>99</td>\n    </tr>\n  </tbody>\n</table>\n<p>111 rows × 6 columns</p>\n</div>"
     },
     "execution_count": 32,
     "metadata": {},
     "output_type": "execute_result"
    }
   ],
   "source": [
    "df[df[\"char_count\"] >= 349]"
   ],
   "metadata": {
    "collapsed": false,
    "ExecuteTime": {
     "end_time": "2024-10-04T09:25:53.769169900Z",
     "start_time": "2024-10-04T09:25:52.461672600Z"
    }
   }
  },
  {
   "cell_type": "code",
   "execution_count": 33,
   "outputs": [
    {
     "data": {
      "text/plain": "       thread                   topic sentiment  \\\n529      9097                  Nvidia   Neutral   \n867      8413                   NBA2K  Negative   \n1078     8711                   NBA2K  Negative   \n1391     8373               Microsoft   Neutral   \n1587     9276               Overwatch  Negative   \n...       ...                     ...       ...   \n56422   10460  RedDeadRedemption(RDR)  Positive   \n56628   10938    TomClancysGhostRecon  Positive   \n57073    4008                   CS-GO  Negative   \n57267    7601               MaddenNFL  Negative   \n57493    8947                  Nvidia   Neutral   \n\n                                                   tweet  char_count  \\\n529    Nvidia RTX series 3080 cards here are selling ...         329   \n867    to keep it a bean, the shooting is a huge prob...         338   \n1078   @Ronnie2K please @NBA2K @2KSupport help me Iv ...         336   \n1391   I may so not be the first to observe of this, ...         330   \n1587   i haven'e t been able actually to seriously wr...         345   \n...                                                  ...         ...   \n56422  @RockstarGames I ’ m not asking for any additi...         305   \n56628  Now that the AI - team mates are back in with ...         333   \n57073  There was a major point in csgo where i desper...         340   \n57267  Bro fuck madden 21 guys why now does the game ...         306   \n57493  Italy, Italy, Italy, Italy, Italy, Italy, Ital...         692   \n\n       word_count  \n529            63  \n867            68  \n1078           80  \n1391           68  \n1587           67  \n...           ...  \n56422          63  \n56628          67  \n57073          67  \n57267          64  \n57493          99  \n\n[281 rows x 6 columns]",
      "text/html": "<div>\n<style scoped>\n    .dataframe tbody tr th:only-of-type {\n        vertical-align: middle;\n    }\n\n    .dataframe tbody tr th {\n        vertical-align: top;\n    }\n\n    .dataframe thead th {\n        text-align: right;\n    }\n</style>\n<table border=\"1\" class=\"dataframe\">\n  <thead>\n    <tr style=\"text-align: right;\">\n      <th></th>\n      <th>thread</th>\n      <th>topic</th>\n      <th>sentiment</th>\n      <th>tweet</th>\n      <th>char_count</th>\n      <th>word_count</th>\n    </tr>\n  </thead>\n  <tbody>\n    <tr>\n      <th>529</th>\n      <td>9097</td>\n      <td>Nvidia</td>\n      <td>Neutral</td>\n      <td>Nvidia RTX series 3080 cards here are selling ...</td>\n      <td>329</td>\n      <td>63</td>\n    </tr>\n    <tr>\n      <th>867</th>\n      <td>8413</td>\n      <td>NBA2K</td>\n      <td>Negative</td>\n      <td>to keep it a bean, the shooting is a huge prob...</td>\n      <td>338</td>\n      <td>68</td>\n    </tr>\n    <tr>\n      <th>1078</th>\n      <td>8711</td>\n      <td>NBA2K</td>\n      <td>Negative</td>\n      <td>@Ronnie2K please @NBA2K @2KSupport help me Iv ...</td>\n      <td>336</td>\n      <td>80</td>\n    </tr>\n    <tr>\n      <th>1391</th>\n      <td>8373</td>\n      <td>Microsoft</td>\n      <td>Neutral</td>\n      <td>I may so not be the first to observe of this, ...</td>\n      <td>330</td>\n      <td>68</td>\n    </tr>\n    <tr>\n      <th>1587</th>\n      <td>9276</td>\n      <td>Overwatch</td>\n      <td>Negative</td>\n      <td>i haven'e t been able actually to seriously wr...</td>\n      <td>345</td>\n      <td>67</td>\n    </tr>\n    <tr>\n      <th>...</th>\n      <td>...</td>\n      <td>...</td>\n      <td>...</td>\n      <td>...</td>\n      <td>...</td>\n      <td>...</td>\n    </tr>\n    <tr>\n      <th>56422</th>\n      <td>10460</td>\n      <td>RedDeadRedemption(RDR)</td>\n      <td>Positive</td>\n      <td>@RockstarGames I ’ m not asking for any additi...</td>\n      <td>305</td>\n      <td>63</td>\n    </tr>\n    <tr>\n      <th>56628</th>\n      <td>10938</td>\n      <td>TomClancysGhostRecon</td>\n      <td>Positive</td>\n      <td>Now that the AI - team mates are back in with ...</td>\n      <td>333</td>\n      <td>67</td>\n    </tr>\n    <tr>\n      <th>57073</th>\n      <td>4008</td>\n      <td>CS-GO</td>\n      <td>Negative</td>\n      <td>There was a major point in csgo where i desper...</td>\n      <td>340</td>\n      <td>67</td>\n    </tr>\n    <tr>\n      <th>57267</th>\n      <td>7601</td>\n      <td>MaddenNFL</td>\n      <td>Negative</td>\n      <td>Bro fuck madden 21 guys why now does the game ...</td>\n      <td>306</td>\n      <td>64</td>\n    </tr>\n    <tr>\n      <th>57493</th>\n      <td>8947</td>\n      <td>Nvidia</td>\n      <td>Neutral</td>\n      <td>Italy, Italy, Italy, Italy, Italy, Italy, Ital...</td>\n      <td>692</td>\n      <td>99</td>\n    </tr>\n  </tbody>\n</table>\n<p>281 rows × 6 columns</p>\n</div>"
     },
     "execution_count": 33,
     "metadata": {},
     "output_type": "execute_result"
    }
   ],
   "source": [
    "df[df[\"word_count\"] >= 63]"
   ],
   "metadata": {
    "collapsed": false,
    "ExecuteTime": {
     "end_time": "2024-10-04T09:25:53.769169900Z",
     "start_time": "2024-10-04T09:25:52.481842900Z"
    }
   }
  },
  {
   "cell_type": "markdown",
   "source": [
    "=> Strategie: Einträge droppen, um ML Modelle nicht durch Ausreißer zu beeinflussen (bei DeepLearning-Modellen tendenziell irrelevant)"
   ],
   "metadata": {
    "collapsed": false
   }
  },
  {
   "cell_type": "code",
   "execution_count": 34,
   "outputs": [
    {
     "data": {
      "text/plain": "Empty DataFrame\nColumns: [thread, topic, sentiment, tweet, char_count, word_count]\nIndex: []",
      "text/html": "<div>\n<style scoped>\n    .dataframe tbody tr th:only-of-type {\n        vertical-align: middle;\n    }\n\n    .dataframe tbody tr th {\n        vertical-align: top;\n    }\n\n    .dataframe thead th {\n        text-align: right;\n    }\n</style>\n<table border=\"1\" class=\"dataframe\">\n  <thead>\n    <tr style=\"text-align: right;\">\n      <th></th>\n      <th>thread</th>\n      <th>topic</th>\n      <th>sentiment</th>\n      <th>tweet</th>\n      <th>char_count</th>\n      <th>word_count</th>\n    </tr>\n  </thead>\n  <tbody>\n  </tbody>\n</table>\n</div>"
     },
     "execution_count": 34,
     "metadata": {},
     "output_type": "execute_result"
    }
   ],
   "source": [
    "df = df[df[\"char_count\"] < 349]\n",
    "df[df[\"char_count\"] >= 349]"
   ],
   "metadata": {
    "collapsed": false,
    "ExecuteTime": {
     "end_time": "2024-10-04T09:25:53.769169900Z",
     "start_time": "2024-10-04T09:25:52.502197Z"
    }
   }
  },
  {
   "cell_type": "code",
   "execution_count": 35,
   "outputs": [
    {
     "data": {
      "text/plain": "Empty DataFrame\nColumns: [thread, topic, sentiment, tweet, char_count, word_count]\nIndex: []",
      "text/html": "<div>\n<style scoped>\n    .dataframe tbody tr th:only-of-type {\n        vertical-align: middle;\n    }\n\n    .dataframe tbody tr th {\n        vertical-align: top;\n    }\n\n    .dataframe thead th {\n        text-align: right;\n    }\n</style>\n<table border=\"1\" class=\"dataframe\">\n  <thead>\n    <tr style=\"text-align: right;\">\n      <th></th>\n      <th>thread</th>\n      <th>topic</th>\n      <th>sentiment</th>\n      <th>tweet</th>\n      <th>char_count</th>\n      <th>word_count</th>\n    </tr>\n  </thead>\n  <tbody>\n  </tbody>\n</table>\n</div>"
     },
     "execution_count": 35,
     "metadata": {},
     "output_type": "execute_result"
    }
   ],
   "source": [
    "df = df[df[\"word_count\"] < 63]\n",
    "df[df[\"word_count\"] >= 63]"
   ],
   "metadata": {
    "collapsed": false,
    "ExecuteTime": {
     "end_time": "2024-10-04T09:25:53.769169900Z",
     "start_time": "2024-10-04T09:25:52.522357Z"
    }
   }
  },
  {
   "cell_type": "code",
   "execution_count": 36,
   "outputs": [],
   "source": [
    "# df.drop(['Char_Count', 'Word_Count'], axis=1, inplace=True)"
   ],
   "metadata": {
    "collapsed": false,
    "ExecuteTime": {
     "end_time": "2024-10-04T09:25:54.265910900Z",
     "start_time": "2024-10-04T09:25:52.542506600Z"
    }
   }
  },
  {
   "cell_type": "markdown",
   "source": [
    "## Datensatz nach Bereinigung"
   ],
   "metadata": {
    "collapsed": false
   }
  },
  {
   "cell_type": "code",
   "execution_count": 37,
   "outputs": [
    {
     "name": "stdout",
     "output_type": "stream",
     "text": [
      "thread        57286\n",
      "topic         57286\n",
      "sentiment     57286\n",
      "tweet         57286\n",
      "char_count    57286\n",
      "word_count    57286\n",
      "dtype: int64\n",
      "thread       74682\n",
      "topic        74682\n",
      "sentiment    74682\n",
      "tweet        73996\n",
      "dtype: int64\n",
      "char_count        NaN\n",
      "sentiment    -17396.0\n",
      "thread       -17396.0\n",
      "topic        -17396.0\n",
      "tweet        -16710.0\n",
      "word_count        NaN\n",
      "dtype: float64\n",
      "char_count         NaN\n",
      "sentiment    -0.232934\n",
      "thread       -0.232934\n",
      "topic        -0.232934\n",
      "tweet        -0.225823\n",
      "word_count         NaN\n",
      "dtype: float64\n"
     ]
    }
   ],
   "source": [
    "print(df.count())\n",
    "print(df_raw.count())\n",
    "print(df.count() - df_raw.count())\n",
    "print(df.count() / df_raw.count() - 1)"
   ],
   "metadata": {
    "collapsed": false,
    "ExecuteTime": {
     "end_time": "2024-10-04T09:25:54.298399100Z",
     "start_time": "2024-10-04T09:25:52.562701500Z"
    }
   }
  },
  {
   "cell_type": "markdown",
   "source": [
    "## Check Val/Test-Data"
   ],
   "metadata": {
    "collapsed": false
   }
  },
  {
   "cell_type": "code",
   "execution_count": 38,
   "outputs": [],
   "source": [
    "# df_val_raw = pd.read_csv(\"C:\\\\Users\\\\admin\\\\PycharmProjects\\\\WebScience24\\\\data\\\\twitter_hate-speech\\\\twitter_validation.csv\", index_col=0) # Fehlerhaft"
   ],
   "metadata": {
    "collapsed": false,
    "ExecuteTime": {
     "end_time": "2024-10-04T09:25:54.298399100Z",
     "start_time": "2024-10-04T09:25:52.772498400Z"
    }
   }
  },
  {
   "cell_type": "markdown",
   "source": [
    "=> Bewertung Validation-Daten: sehr viele Fehler, ohne händisches Säubern ggf. nicht verwendbar, von der Menge her gering (> 2000)\n",
    "\n"
   ],
   "metadata": {
    "collapsed": false
   }
  },
  {
   "cell_type": "markdown",
   "source": [
    "## Save cleaned Data"
   ],
   "metadata": {
    "collapsed": false
   }
  },
  {
   "cell_type": "code",
   "execution_count": 39,
   "outputs": [],
   "source": [
    "filepath = Path('data/twitter_training_cleaned.csv')\n",
    "filepath.parent.mkdir(parents=True, exist_ok=True)"
   ],
   "metadata": {
    "collapsed": false,
    "ExecuteTime": {
     "end_time": "2024-10-04T09:25:54.298399100Z",
     "start_time": "2024-10-04T09:25:52.784616900Z"
    }
   }
  },
  {
   "cell_type": "code",
   "execution_count": 40,
   "outputs": [],
   "source": [
    "df.to_csv(filepath)"
   ],
   "metadata": {
    "collapsed": false,
    "ExecuteTime": {
     "end_time": "2024-10-04T09:25:54.298399100Z",
     "start_time": "2024-10-04T09:25:52.804786700Z"
    }
   }
  },
  {
   "cell_type": "markdown",
   "source": [
    "# EDA"
   ],
   "metadata": {
    "collapsed": false
   }
  },
  {
   "cell_type": "code",
   "execution_count": 41,
   "outputs": [
    {
     "name": "stdout",
     "output_type": "stream",
     "text": [
      "<class 'pandas.core.frame.DataFrame'>\n",
      "Int64Index: 57286 entries, 0 to 57625\n",
      "Data columns (total 6 columns):\n",
      " #   Column      Non-Null Count  Dtype \n",
      "---  ------      --------------  ----- \n",
      " 0   thread      57286 non-null  int64 \n",
      " 1   topic       57286 non-null  object\n",
      " 2   sentiment   57286 non-null  object\n",
      " 3   tweet       57286 non-null  object\n",
      " 4   char_count  57286 non-null  int64 \n",
      " 5   word_count  57286 non-null  int64 \n",
      "dtypes: int64(3), object(3)\n",
      "memory usage: 3.1+ MB\n"
     ]
    }
   ],
   "source": [
    "df.info()"
   ],
   "metadata": {
    "collapsed": false,
    "ExecuteTime": {
     "end_time": "2024-10-04T09:25:54.298399100Z",
     "start_time": "2024-10-04T09:25:53.209090Z"
    }
   }
  },
  {
   "cell_type": "code",
   "execution_count": 42,
   "outputs": [
    {
     "data": {
      "text/plain": "             thread    char_count    word_count\ncount  57286.000000  57286.000000  57286.000000\nmean    6435.678490    108.501484     19.156722\nstd     3735.604654     77.208325     13.872167\nmin        1.000000      1.000000      0.000000\n25%     3207.250000     48.000000      8.000000\n50%     6439.000000     91.000000     16.000000\n75%     9581.750000    153.000000     27.000000\nmax    13200.000000    348.000000     62.000000",
      "text/html": "<div>\n<style scoped>\n    .dataframe tbody tr th:only-of-type {\n        vertical-align: middle;\n    }\n\n    .dataframe tbody tr th {\n        vertical-align: top;\n    }\n\n    .dataframe thead th {\n        text-align: right;\n    }\n</style>\n<table border=\"1\" class=\"dataframe\">\n  <thead>\n    <tr style=\"text-align: right;\">\n      <th></th>\n      <th>thread</th>\n      <th>char_count</th>\n      <th>word_count</th>\n    </tr>\n  </thead>\n  <tbody>\n    <tr>\n      <th>count</th>\n      <td>57286.000000</td>\n      <td>57286.000000</td>\n      <td>57286.000000</td>\n    </tr>\n    <tr>\n      <th>mean</th>\n      <td>6435.678490</td>\n      <td>108.501484</td>\n      <td>19.156722</td>\n    </tr>\n    <tr>\n      <th>std</th>\n      <td>3735.604654</td>\n      <td>77.208325</td>\n      <td>13.872167</td>\n    </tr>\n    <tr>\n      <th>min</th>\n      <td>1.000000</td>\n      <td>1.000000</td>\n      <td>0.000000</td>\n    </tr>\n    <tr>\n      <th>25%</th>\n      <td>3207.250000</td>\n      <td>48.000000</td>\n      <td>8.000000</td>\n    </tr>\n    <tr>\n      <th>50%</th>\n      <td>6439.000000</td>\n      <td>91.000000</td>\n      <td>16.000000</td>\n    </tr>\n    <tr>\n      <th>75%</th>\n      <td>9581.750000</td>\n      <td>153.000000</td>\n      <td>27.000000</td>\n    </tr>\n    <tr>\n      <th>max</th>\n      <td>13200.000000</td>\n      <td>348.000000</td>\n      <td>62.000000</td>\n    </tr>\n  </tbody>\n</table>\n</div>"
     },
     "execution_count": 42,
     "metadata": {},
     "output_type": "execute_result"
    }
   ],
   "source": [
    "df.describe()"
   ],
   "metadata": {
    "collapsed": false,
    "ExecuteTime": {
     "end_time": "2024-10-04T09:25:54.298399100Z",
     "start_time": "2024-10-04T09:25:53.249608700Z"
    }
   }
  },
  {
   "cell_type": "markdown",
   "source": [
    "## Korrelationsanalyse"
   ],
   "metadata": {
    "collapsed": false
   }
  },
  {
   "cell_type": "code",
   "execution_count": 43,
   "outputs": [],
   "source": [
    "df[\"sentiment_binary\"] = df[\"sentiment\"] == \"Negative\""
   ],
   "metadata": {
    "collapsed": false,
    "ExecuteTime": {
     "end_time": "2024-10-04T09:25:54.298399100Z",
     "start_time": "2024-10-04T09:25:53.290015800Z"
    }
   }
  },
  {
   "cell_type": "code",
   "execution_count": 44,
   "outputs": [
    {
     "data": {
      "text/plain": "<Axes: >"
     },
     "execution_count": 44,
     "metadata": {},
     "output_type": "execute_result"
    },
    {
     "data": {
      "text/plain": "<Figure size 640x480 with 2 Axes>",
      "image/png": "[encoded data removed]"
     },
     "metadata": {},
     "output_type": "display_data"
    }
   ],
   "source": [
    "sns.heatmap(df.corr(numeric_only=True), annot=True, vmin=-1, vmax=1, cmap=\"coolwarm\")"
   ],
   "metadata": {
    "collapsed": false,
    "ExecuteTime": {
     "end_time": "2024-10-04T09:25:54.298399100Z",
     "start_time": "2024-10-04T09:25:53.310249700Z"
    }
   }
  },
  {
   "cell_type": "code",
   "execution_count": 45,
   "outputs": [
    {
     "data": {
      "text/plain": "sentiment_binary    1.000000\nthread              0.060522\nword_count          0.040545\nchar_count          0.021963\nName: sentiment_binary, dtype: float64"
     },
     "execution_count": 45,
     "metadata": {},
     "output_type": "execute_result"
    }
   ],
   "source": [
    "target_corr = df.corr(numeric_only=True)[\"sentiment_binary\"]\n",
    "target_corr.abs().sort_values(ascending=False)"
   ],
   "metadata": {
    "collapsed": false,
    "ExecuteTime": {
     "end_time": "2024-10-04T09:25:54.298399100Z",
     "start_time": "2024-10-04T09:25:53.673913600Z"
    }
   }
  },
  {
   "cell_type": "markdown",
   "source": [
    "Korrelationsanalyse feature<->target => keine originären numerischen Werte, bei den erzeugten numerischen Werten keine nennenswerte Korrelation erkennbar"
   ],
   "metadata": {
    "collapsed": false
   }
  },
  {
   "cell_type": "markdown",
   "source": [
    "## Targetanalyse"
   ],
   "metadata": {
    "collapsed": false
   }
  },
  {
   "cell_type": "code",
   "execution_count": 46,
   "outputs": [
    {
     "data": {
      "text/plain": "Negative      17297\nPositive      15874\nNeutral       14045\nIrrelevant    10070\nName: sentiment, dtype: int64"
     },
     "execution_count": 46,
     "metadata": {},
     "output_type": "execute_result"
    }
   ],
   "source": [
    "df[\"sentiment\"].value_counts()"
   ],
   "metadata": {
    "collapsed": false,
    "ExecuteTime": {
     "end_time": "2024-10-04T09:25:54.298399100Z",
     "start_time": "2024-10-04T09:25:53.694115100Z"
    }
   }
  },
  {
   "cell_type": "code",
   "execution_count": 47,
   "outputs": [
    {
     "data": {
      "text/plain": "<Axes: ylabel='sentiment'>"
     },
     "execution_count": 47,
     "metadata": {},
     "output_type": "execute_result"
    },
    {
     "data": {
      "text/plain": "<Figure size 640x480 with 1 Axes>",
      "image/png": "[encoded data removed]"
     },
     "metadata": {},
     "output_type": "display_data"
    }
   ],
   "source": [
    "(df.groupby([\"sentiment\"])\n",
    " .size()\n",
    " .plot\n",
    " .barh())"
   ],
   "metadata": {
    "collapsed": false,
    "ExecuteTime": {
     "end_time": "2024-10-04T09:25:54.630203300Z",
     "start_time": "2024-10-04T09:25:53.737920Z"
    }
   }
  },
  {
   "cell_type": "markdown",
   "source": [
    "## Featureanalyse"
   ],
   "metadata": {
    "collapsed": false
   }
  },
  {
   "cell_type": "code",
   "execution_count": 48,
   "outputs": [
    {
     "data": {
      "text/plain": "<Axes: xlabel='topic', ylabel='Count'>"
     },
     "execution_count": 48,
     "metadata": {},
     "output_type": "execute_result"
    },
    {
     "data": {
      "text/plain": "<Figure size 640x480 with 1 Axes>",
      "image/png": "[encoded data removed]"
     },
     "metadata": {},
     "output_type": "display_data"
    }
   ],
   "source": [
    "# Feature: Topic\n",
    "sns.histplot(\n",
    "    df[\"topic\"])  # Topics sind (grob) gleichverteilt, ggf. ein Ausreißer falls beide COD-Topics zusammengelegt werden"
   ],
   "metadata": {
    "collapsed": false,
    "ExecuteTime": {
     "end_time": "2024-10-04T09:25:55.439895600Z",
     "start_time": "2024-10-04T09:25:54.015759Z"
    }
   }
  },
  {
   "cell_type": "code",
   "execution_count": 49,
   "outputs": [
    {
     "data": {
      "text/plain": "<Axes: xlabel='word_count', ylabel='Count'>"
     },
     "execution_count": 49,
     "metadata": {},
     "output_type": "execute_result"
    },
    {
     "data": {
      "text/plain": "<Figure size 640x480 with 1 Axes>",
      "image/png": "[encoded data removed]"
     },
     "metadata": {},
     "output_type": "display_data"
    }
   ],
   "source": [
    "# Feature: Tweet\n",
    "sns.histplot(df[\"word_count\"])"
   ],
   "metadata": {
    "collapsed": false,
    "ExecuteTime": {
     "end_time": "2024-10-04T09:25:55.644490700Z",
     "start_time": "2024-10-04T09:25:54.814352600Z"
    }
   }
  },
  {
   "cell_type": "code",
   "execution_count": 50,
   "outputs": [
    {
     "data": {
      "text/plain": "<Axes: xlabel='char_count', ylabel='Count'>"
     },
     "execution_count": 50,
     "metadata": {},
     "output_type": "execute_result"
    },
    {
     "data": {
      "text/plain": "<Figure size 640x480 with 1 Axes>",
      "image/png": "[encoded data removed]"
     },
     "metadata": {},
     "output_type": "display_data"
    }
   ],
   "source": [
    "sns.histplot(df[\"char_count\"])"
   ],
   "metadata": {
    "collapsed": false,
    "ExecuteTime": {
     "end_time": "2024-10-04T09:25:55.886931Z",
     "start_time": "2024-10-04T09:25:55.259582500Z"
    }
   }
  },
  {
   "cell_type": "code",
   "execution_count": 50,
   "outputs": [],
   "source": [],
   "metadata": {
    "collapsed": false,
    "ExecuteTime": {
     "end_time": "2024-10-04T09:25:55.886931Z",
     "start_time": "2024-10-04T09:25:55.793868200Z"
    }
   }
  },
  {
   "cell_type": "markdown",
   "source": [
    "## Feature x Target"
   ],
   "metadata": {
    "collapsed": false
   }
  },
  {
   "cell_type": "code",
   "execution_count": 51,
   "outputs": [
    {
     "data": {
      "text/plain": "Text(0.5, 1.0, 'Irrelevant Tweets')"
     },
     "execution_count": 51,
     "metadata": {},
     "output_type": "execute_result"
    },
    {
     "data": {
      "text/plain": "<Figure size 2000x800 with 4 Axes>",
      "image/png": "[encoded data removed]"
     },
     "metadata": {},
     "output_type": "display_data"
    }
   ],
   "source": [
    "# Char_Count\n",
    "fig, (ax1, ax2, ax3, ax4) = plt.subplots(1, 4, figsize=(20, 8))\n",
    "ax1.hist(df[df['sentiment'] == 'Positive']['char_count'])\n",
    "ax1.set_title('Positive Tweets')\n",
    "ax2.hist(df[df['sentiment'] == 'Negative']['char_count'])\n",
    "ax2.set_title('Negative Tweets')\n",
    "ax3.hist(df[df['sentiment'] == 'Neutral']['char_count'])\n",
    "ax3.set_title('Neutral Tweets')\n",
    "ax4.hist(df[df['sentiment'] == 'Irrelevant']['char_count'])\n",
    "ax4.set_title('Irrelevant Tweets')"
   ],
   "metadata": {
    "collapsed": false,
    "ExecuteTime": {
     "end_time": "2024-10-04T09:25:57.424905900Z",
     "start_time": "2024-10-04T09:25:55.793868200Z"
    }
   }
  },
  {
   "cell_type": "code",
   "execution_count": 52,
   "outputs": [
    {
     "data": {
      "text/plain": "Text(0.5, 1.0, 'Irrelevant Tweets')"
     },
     "execution_count": 52,
     "metadata": {},
     "output_type": "execute_result"
    },
    {
     "data": {
      "text/plain": "<Figure size 2000x800 with 4 Axes>",
      "image/png": "[encoded data removed]"
     },
     "metadata": {},
     "output_type": "display_data"
    }
   ],
   "source": [
    "# Char_Count\n",
    "fig, (ax1, ax2, ax3, ax4) = plt.subplots(1, 4, figsize=(20, 8))\n",
    "ax1.hist(df[df['sentiment'] == 'Positive']['word_count'])\n",
    "ax1.set_title('Positive Tweets')\n",
    "ax2.hist(df[df['sentiment'] == 'Negative']['word_count'])\n",
    "ax2.set_title('Negative Tweets')\n",
    "ax3.hist(df[df['sentiment'] == 'Neutral']['word_count'])\n",
    "ax3.set_title('Neutral Tweets')\n",
    "ax4.hist(df[df['sentiment'] == 'Irrelevant']['word_count'])\n",
    "ax4.set_title('Irrelevant Tweets')"
   ],
   "metadata": {
    "collapsed": false,
    "ExecuteTime": {
     "end_time": "2024-10-04T09:25:58.990275500Z",
     "start_time": "2024-10-04T09:25:57.424905900Z"
    }
   }
  },
  {
   "cell_type": "markdown",
   "source": [
    "# Data Preprocessing for Naive-Bayes"
   ],
   "metadata": {
    "collapsed": false
   }
  },
  {
   "cell_type": "markdown",
   "source": [
    "## Text cleaning: emojis, toLower etc."
   ],
   "metadata": {
    "collapsed": false
   }
  },
  {
   "cell_type": "code",
   "execution_count": 53,
   "outputs": [],
   "source": [
    "def cleaning(text):\n",
    "    # converting to lowercase, removing URL links, special characters, punctuations...\n",
    "    text = text.lower()  # converting to lowercase\n",
    "    text = re.sub('https?://\\S+|www\\.\\S+', '', text)  # removing URL links\n",
    "    text = re.sub(r\"\\b\\d+\\b\", \"\", text)  # removing number\n",
    "    text = re.sub('<.*?>+', '', text)  # removing special characters,\n",
    "    text = re.sub('[%s]' % re.escape(string.punctuation), '', text)  # punctuations\n",
    "    text = re.sub('\\n', '', text)\n",
    "    text = re.sub('[’“”…]', '', text)\n",
    "\n",
    "    #removing emoji:\n",
    "    emoji_pattern = re.compile(\"[\"\n",
    "                               u\"\\U0001F600-\\U0001F64F\"  # emoticons\n",
    "                               u\"\\U0001F300-\\U0001F5FF\"  # symbols & pictographs\n",
    "                               u\"\\U0001F680-\\U0001F6FF\"  # transport & map symbols\n",
    "                               u\"\\U0001F1E0-\\U0001F1FF\"  # flags (iOS)\n",
    "                               u\"\\U00002702-\\U000027B0\"\n",
    "                               u\"\\U000024C2-\\U0001F251\"\n",
    "                               \"]+\", flags=re.UNICODE)\n",
    "    text = emoji_pattern.sub(r'', text)\n",
    "\n",
    "    # removing short form:\n",
    "    text = re.sub(\"isn't\", 'is not', text)\n",
    "    text = re.sub(\"he's\", 'he is', text)\n",
    "    text = re.sub(\"wasn't\", 'was not', text)\n",
    "    text = re.sub(\"there's\", 'there is', text)\n",
    "    text = re.sub(\"couldn't\", 'could not', text)\n",
    "    text = re.sub(\"won't\", 'will not', text)\n",
    "    text = re.sub(\"they're\", 'they are', text)\n",
    "    text = re.sub(\"she's\", 'she is', text)\n",
    "    text = re.sub(\"There's\", 'there is', text)\n",
    "    text = re.sub(\"wouldn't\", 'would not', text)\n",
    "    text = re.sub(\"haven't\", 'have not', text)\n",
    "    text = re.sub(\"That's\", 'That is', text)\n",
    "    text = re.sub(\"you've\", 'you have', text)\n",
    "    text = re.sub(\"He's\", 'He is', text)\n",
    "    text = re.sub(\"what's\", 'what is', text)\n",
    "    text = re.sub(\"weren't\", 'were not', text)\n",
    "    text = re.sub(\"we're\", 'we are', text)\n",
    "    text = re.sub(\"hasn't\", 'has not', text)\n",
    "    text = re.sub(\"you'd\", 'you would', text)\n",
    "    text = re.sub(\"shouldn't\", 'should not', text)\n",
    "    text = re.sub(\"let's\", 'let us', text)\n",
    "    text = re.sub(\"they've\", 'they have', text)\n",
    "    text = re.sub(\"You'll\", 'You will', text)\n",
    "    text = re.sub(\"i'm\", 'i am', text)\n",
    "    text = re.sub(\"we've\", 'we have', text)\n",
    "    text = re.sub(\"it's\", 'it is', text)\n",
    "    text = re.sub(\"don't\", 'do not', text)\n",
    "    text = re.sub(\"that´s\", 'that is', text)\n",
    "    text = re.sub(\"I´m\", 'I am', text)\n",
    "    text = re.sub(\"it’s\", 'it is', text)\n",
    "    text = re.sub(\"she´s\", 'she is', text)\n",
    "    text = re.sub(\"he’s'\", 'he is', text)\n",
    "    text = re.sub('I’m', 'I am', text)\n",
    "    text = re.sub('I’d', 'I did', text)\n",
    "    text = re.sub(\"he’s'\", 'he is', text)\n",
    "    text = re.sub('there’s', 'there is', text)\n",
    "\n",
    "    return text"
   ],
   "metadata": {
    "collapsed": false,
    "ExecuteTime": {
     "end_time": "2024-10-04T09:25:59.186784200Z",
     "start_time": "2024-10-04T09:25:58.998317700Z"
    }
   }
  },
  {
   "cell_type": "code",
   "execution_count": 54,
   "outputs": [],
   "source": [
    "dt = df['tweet'].apply(cleaning)"
   ],
   "metadata": {
    "collapsed": false,
    "ExecuteTime": {
     "end_time": "2024-10-04T09:26:03.387711400Z",
     "start_time": "2024-10-04T09:25:59.023980100Z"
    }
   }
  },
  {
   "cell_type": "code",
   "execution_count": 55,
   "outputs": [],
   "source": [
    "dt = pd.DataFrame(dt)\n",
    "dt['sentiment'] = df['sentiment']"
   ],
   "metadata": {
    "collapsed": false,
    "ExecuteTime": {
     "end_time": "2024-10-04T09:26:03.406061400Z",
     "start_time": "2024-10-04T09:26:03.387711400Z"
    }
   }
  },
  {
   "cell_type": "code",
   "execution_count": 56,
   "outputs": [
    {
     "data": {
      "text/plain": "                                               tweet sentiment\n0                                               booo  Negative\n1  ok hear me out microsoft is going to pull a mi...   Neutral\n2  hopping on the    uzi is pretty good fortunate...  Positive\n3  mr christoph sandrock best pubg teammate rescu...  Positive\n4  eamaddennfl what is up with these player ratin...  Negative",
      "text/html": "<div>\n<style scoped>\n    .dataframe tbody tr th:only-of-type {\n        vertical-align: middle;\n    }\n\n    .dataframe tbody tr th {\n        vertical-align: top;\n    }\n\n    .dataframe thead th {\n        text-align: right;\n    }\n</style>\n<table border=\"1\" class=\"dataframe\">\n  <thead>\n    <tr style=\"text-align: right;\">\n      <th></th>\n      <th>tweet</th>\n      <th>sentiment</th>\n    </tr>\n  </thead>\n  <tbody>\n    <tr>\n      <th>0</th>\n      <td>booo</td>\n      <td>Negative</td>\n    </tr>\n    <tr>\n      <th>1</th>\n      <td>ok hear me out microsoft is going to pull a mi...</td>\n      <td>Neutral</td>\n    </tr>\n    <tr>\n      <th>2</th>\n      <td>hopping on the    uzi is pretty good fortunate...</td>\n      <td>Positive</td>\n    </tr>\n    <tr>\n      <th>3</th>\n      <td>mr christoph sandrock best pubg teammate rescu...</td>\n      <td>Positive</td>\n    </tr>\n    <tr>\n      <th>4</th>\n      <td>eamaddennfl what is up with these player ratin...</td>\n      <td>Negative</td>\n    </tr>\n  </tbody>\n</table>\n</div>"
     },
     "execution_count": 56,
     "metadata": {},
     "output_type": "execute_result"
    }
   ],
   "source": [
    "dt.head()"
   ],
   "metadata": {
    "collapsed": false,
    "ExecuteTime": {
     "end_time": "2024-10-04T09:26:03.468586900Z",
     "start_time": "2024-10-04T09:26:03.406061400Z"
    }
   }
  },
  {
   "cell_type": "markdown",
   "source": [
    "## Stopwords"
   ],
   "metadata": {
    "collapsed": false
   }
  },
  {
   "cell_type": "code",
   "execution_count": 57,
   "outputs": [],
   "source": [
    "dt['no_sw'] = dt['tweet'].apply(lambda x: ' '.join([word for word in x.split() if word not in (stop_words)]))"
   ],
   "metadata": {
    "collapsed": false,
    "ExecuteTime": {
     "end_time": "2024-10-04T09:27:42.238898Z",
     "start_time": "2024-10-04T09:26:03.421724800Z"
    }
   }
  },
  {
   "cell_type": "code",
   "execution_count": 58,
   "outputs": [
    {
     "data": {
      "text/plain": "                                                tweet   sentiment  \\\n0                                                booo    Negative   \n1   ok hear me out microsoft is going to pull a mi...     Neutral   \n2   hopping on the    uzi is pretty good fortunate...    Positive   \n3   mr christoph sandrock best pubg teammate rescu...    Positive   \n4   eamaddennfl what is up with these player ratin...    Negative   \n5   im very pleased to see everyone playing cyberp...    Positive   \n6   a ban for battlefield  player itzawwzy has occ...  Irrelevant   \n7   be soon into the warcraft  official release m ...    Positive   \n8   we need about a third for ranked right around now     Neutral   \n9                                                  is    Negative   \n10  does anyone who uses verizon fios for internet...    Negative   \n11  cant wait for alex to play earth shaker with s...    Positive   \n12  oh great i also was right because this fucking...     Neutral   \n13  microsoftxbox buying zenimaxbethesda is huge w...    Positive   \n14   rokkr snatched a big win today on estcom  cal...  Irrelevant   \n15             two joynes that should be a good thing    Positive   \n16                             you are kinda all cool    Positive   \n17  now that sound good especially with his partin...     Neutral   \n18  less code more power crews in japan thanks for...  Irrelevant   \n19  its a very interesting because if now we get s...    Positive   \n\n                                                no_sw  \n0                                                booo  \n1   hear microsoft pull mix ass prove choose xbox ...  \n2    hopping uzi pretty fortunate time twitchtvjoke65  \n3   mr christoph sandrock pubg teammate rescuer cr...  \n4          eamaddennfl player ratings algorithm wrong  \n5   pleased playing cyberpunk completely missing o...  \n6   ban battlefield player itzawwzy occurred detai...  \n7   warcraft official release newsblizzardcomenusw...  \n8                                              ranked  \n9                                                      \n10  verizon fios internet suddenly experienced str...  \n11                wait alex play earth shaker scepter  \n12              great fucking ui gonna surely xsex ui  \n13  microsoftxbox buying zenimaxbethesda huge wish...  \n14    rokkr snatched big win today estcom callofdutyl  \n15                                             joynes  \n16                                         kinda cool  \n17  sound especially parting words youtubecomwatch...  \n18     code power crews japan great logo jonjlevesque  \n19                     interesting smartphones nvidia  ",
      "text/html": "<div>\n<style scoped>\n    .dataframe tbody tr th:only-of-type {\n        vertical-align: middle;\n    }\n\n    .dataframe tbody tr th {\n        vertical-align: top;\n    }\n\n    .dataframe thead th {\n        text-align: right;\n    }\n</style>\n<table border=\"1\" class=\"dataframe\">\n  <thead>\n    <tr style=\"text-align: right;\">\n      <th></th>\n      <th>tweet</th>\n      <th>sentiment</th>\n      <th>no_sw</th>\n    </tr>\n  </thead>\n  <tbody>\n    <tr>\n      <th>0</th>\n      <td>booo</td>\n      <td>Negative</td>\n      <td>booo</td>\n    </tr>\n    <tr>\n      <th>1</th>\n      <td>ok hear me out microsoft is going to pull a mi...</td>\n      <td>Neutral</td>\n      <td>hear microsoft pull mix ass prove choose xbox ...</td>\n    </tr>\n    <tr>\n      <th>2</th>\n      <td>hopping on the    uzi is pretty good fortunate...</td>\n      <td>Positive</td>\n      <td>hopping uzi pretty fortunate time twitchtvjoke65</td>\n    </tr>\n    <tr>\n      <th>3</th>\n      <td>mr christoph sandrock best pubg teammate rescu...</td>\n      <td>Positive</td>\n      <td>mr christoph sandrock pubg teammate rescuer cr...</td>\n    </tr>\n    <tr>\n      <th>4</th>\n      <td>eamaddennfl what is up with these player ratin...</td>\n      <td>Negative</td>\n      <td>eamaddennfl player ratings algorithm wrong</td>\n    </tr>\n    <tr>\n      <th>5</th>\n      <td>im very pleased to see everyone playing cyberp...</td>\n      <td>Positive</td>\n      <td>pleased playing cyberpunk completely missing o...</td>\n    </tr>\n    <tr>\n      <th>6</th>\n      <td>a ban for battlefield  player itzawwzy has occ...</td>\n      <td>Irrelevant</td>\n      <td>ban battlefield player itzawwzy occurred detai...</td>\n    </tr>\n    <tr>\n      <th>7</th>\n      <td>be soon into the warcraft  official release m ...</td>\n      <td>Positive</td>\n      <td>warcraft official release newsblizzardcomenusw...</td>\n    </tr>\n    <tr>\n      <th>8</th>\n      <td>we need about a third for ranked right around now</td>\n      <td>Neutral</td>\n      <td>ranked</td>\n    </tr>\n    <tr>\n      <th>9</th>\n      <td>is</td>\n      <td>Negative</td>\n      <td></td>\n    </tr>\n    <tr>\n      <th>10</th>\n      <td>does anyone who uses verizon fios for internet...</td>\n      <td>Negative</td>\n      <td>verizon fios internet suddenly experienced str...</td>\n    </tr>\n    <tr>\n      <th>11</th>\n      <td>cant wait for alex to play earth shaker with s...</td>\n      <td>Positive</td>\n      <td>wait alex play earth shaker scepter</td>\n    </tr>\n    <tr>\n      <th>12</th>\n      <td>oh great i also was right because this fucking...</td>\n      <td>Neutral</td>\n      <td>great fucking ui gonna surely xsex ui</td>\n    </tr>\n    <tr>\n      <th>13</th>\n      <td>microsoftxbox buying zenimaxbethesda is huge w...</td>\n      <td>Positive</td>\n      <td>microsoftxbox buying zenimaxbethesda huge wish...</td>\n    </tr>\n    <tr>\n      <th>14</th>\n      <td>rokkr snatched a big win today on estcom  cal...</td>\n      <td>Irrelevant</td>\n      <td>rokkr snatched big win today estcom callofdutyl</td>\n    </tr>\n    <tr>\n      <th>15</th>\n      <td>two joynes that should be a good thing</td>\n      <td>Positive</td>\n      <td>joynes</td>\n    </tr>\n    <tr>\n      <th>16</th>\n      <td>you are kinda all cool</td>\n      <td>Positive</td>\n      <td>kinda cool</td>\n    </tr>\n    <tr>\n      <th>17</th>\n      <td>now that sound good especially with his partin...</td>\n      <td>Neutral</td>\n      <td>sound especially parting words youtubecomwatch...</td>\n    </tr>\n    <tr>\n      <th>18</th>\n      <td>less code more power crews in japan thanks for...</td>\n      <td>Irrelevant</td>\n      <td>code power crews japan great logo jonjlevesque</td>\n    </tr>\n    <tr>\n      <th>19</th>\n      <td>its a very interesting because if now we get s...</td>\n      <td>Positive</td>\n      <td>interesting smartphones nvidia</td>\n    </tr>\n  </tbody>\n</table>\n</div>"
     },
     "execution_count": 58,
     "metadata": {},
     "output_type": "execute_result"
    }
   ],
   "source": [
    "dt.head(20)"
   ],
   "metadata": {
    "collapsed": false,
    "ExecuteTime": {
     "end_time": "2024-10-04T09:27:42.295832100Z",
     "start_time": "2024-10-04T09:27:42.238898Z"
    }
   }
  },
  {
   "cell_type": "markdown",
   "source": [
    "## Most frequent words"
   ],
   "metadata": {
    "collapsed": false
   }
  },
  {
   "cell_type": "code",
   "execution_count": 59,
   "outputs": [],
   "source": [
    "cnt = Counter()\n",
    "for text in dt[\"no_sw\"].values:\n",
    "    for word in text.split():\n",
    "        cnt[word] += 1\n",
    "cnt.most_common(20)\n",
    "temp = pd.DataFrame(cnt.most_common(20))\n",
    "temp.columns = ['word', 'count']"
   ],
   "metadata": {
    "collapsed": false,
    "ExecuteTime": {
     "end_time": "2024-10-04T09:27:42.581059200Z",
     "start_time": "2024-10-04T09:27:42.264582700Z"
    }
   }
  },
  {
   "cell_type": "code",
   "execution_count": 60,
   "outputs": [
    {
     "data": {
      "text/plain": "         word  count\n0        game   6275\n1        play   2649\n2        love   2498\n3        time   2280\n4     johnson   2271\n5        shit   2102\n6       games   1759\n7       great   1738\n8     playing   1665\n9        xbox   1632\n10    fucking   1615\n11  rhandlerr   1612\n12   facebook   1564\n13     google   1552\n14     amazon   1538\n15       fuck   1523\n16       dead   1516\n17  microsoft   1474\n18    verizon   1473\n19       back   1448",
      "text/html": "<div>\n<style scoped>\n    .dataframe tbody tr th:only-of-type {\n        vertical-align: middle;\n    }\n\n    .dataframe tbody tr th {\n        vertical-align: top;\n    }\n\n    .dataframe thead th {\n        text-align: right;\n    }\n</style>\n<table border=\"1\" class=\"dataframe\">\n  <thead>\n    <tr style=\"text-align: right;\">\n      <th></th>\n      <th>word</th>\n      <th>count</th>\n    </tr>\n  </thead>\n  <tbody>\n    <tr>\n      <th>0</th>\n      <td>game</td>\n      <td>6275</td>\n    </tr>\n    <tr>\n      <th>1</th>\n      <td>play</td>\n      <td>2649</td>\n    </tr>\n    <tr>\n      <th>2</th>\n      <td>love</td>\n      <td>2498</td>\n    </tr>\n    <tr>\n      <th>3</th>\n      <td>time</td>\n      <td>2280</td>\n    </tr>\n    <tr>\n      <th>4</th>\n      <td>johnson</td>\n      <td>2271</td>\n    </tr>\n    <tr>\n      <th>5</th>\n      <td>shit</td>\n      <td>2102</td>\n    </tr>\n    <tr>\n      <th>6</th>\n      <td>games</td>\n      <td>1759</td>\n    </tr>\n    <tr>\n      <th>7</th>\n      <td>great</td>\n      <td>1738</td>\n    </tr>\n    <tr>\n      <th>8</th>\n      <td>playing</td>\n      <td>1665</td>\n    </tr>\n    <tr>\n      <th>9</th>\n      <td>xbox</td>\n      <td>1632</td>\n    </tr>\n    <tr>\n      <th>10</th>\n      <td>fucking</td>\n      <td>1615</td>\n    </tr>\n    <tr>\n      <th>11</th>\n      <td>rhandlerr</td>\n      <td>1612</td>\n    </tr>\n    <tr>\n      <th>12</th>\n      <td>facebook</td>\n      <td>1564</td>\n    </tr>\n    <tr>\n      <th>13</th>\n      <td>google</td>\n      <td>1552</td>\n    </tr>\n    <tr>\n      <th>14</th>\n      <td>amazon</td>\n      <td>1538</td>\n    </tr>\n    <tr>\n      <th>15</th>\n      <td>fuck</td>\n      <td>1523</td>\n    </tr>\n    <tr>\n      <th>16</th>\n      <td>dead</td>\n      <td>1516</td>\n    </tr>\n    <tr>\n      <th>17</th>\n      <td>microsoft</td>\n      <td>1474</td>\n    </tr>\n    <tr>\n      <th>18</th>\n      <td>verizon</td>\n      <td>1473</td>\n    </tr>\n    <tr>\n      <th>19</th>\n      <td>back</td>\n      <td>1448</td>\n    </tr>\n  </tbody>\n</table>\n</div>"
     },
     "execution_count": 60,
     "metadata": {},
     "output_type": "execute_result"
    }
   ],
   "source": [
    "temp.head(20)"
   ],
   "metadata": {
    "collapsed": false,
    "ExecuteTime": {
     "end_time": "2024-10-04T09:27:42.596684600Z",
     "start_time": "2024-10-04T09:27:42.581059200Z"
    }
   }
  },
  {
   "cell_type": "markdown",
   "source": [
    "most frequent words erstmal nicht entfernen (love, shit etc. vmtl. ausschlaggebend für Klassifikation)"
   ],
   "metadata": {
    "collapsed": false
   }
  },
  {
   "cell_type": "code",
   "execution_count": 61,
   "outputs": [],
   "source": [
    "# FREQWORDS = set([w for (w, wc) in cnt.most_common(10)])\n",
    "# def remove_freqwords(text):\n",
    "#     return \" \".join([word for word in str(text).split() if word not in FREQWORDS])\n",
    "# dt[\"no_sw_no_freqwo\"] = dt[\"no_sw\"].apply(lambda text: remove_freqwords(text))"
   ],
   "metadata": {
    "collapsed": false,
    "ExecuteTime": {
     "end_time": "2024-10-04T09:27:42.681352500Z",
     "start_time": "2024-10-04T09:27:42.596684600Z"
    }
   }
  },
  {
   "cell_type": "code",
   "execution_count": 62,
   "outputs": [],
   "source": [
    "# dt.head()"
   ],
   "metadata": {
    "collapsed": false,
    "ExecuteTime": {
     "end_time": "2024-10-04T09:27:42.712608400Z",
     "start_time": "2024-10-04T09:27:42.612309900Z"
    }
   }
  },
  {
   "cell_type": "code",
   "execution_count": 63,
   "outputs": [],
   "source": [
    "# dt[dt.no_sw != dt.no_sw_no_freqwo].head()"
   ],
   "metadata": {
    "collapsed": false,
    "ExecuteTime": {
     "end_time": "2024-10-04T09:27:42.712608400Z",
     "start_time": "2024-10-04T09:27:42.627937700Z"
    }
   }
  },
  {
   "cell_type": "markdown",
   "source": [
    "## Lemmatization"
   ],
   "metadata": {
    "collapsed": false
   }
  },
  {
   "cell_type": "code",
   "execution_count": 64,
   "outputs": [],
   "source": [
    "wordnet_lem = WordNetLemmatizer()\n",
    "dt['no_sw_lem'] = dt['no_sw'].apply(wordnet_lem.lemmatize)"
   ],
   "metadata": {
    "collapsed": false,
    "ExecuteTime": {
     "end_time": "2024-10-04T09:27:45.122234700Z",
     "start_time": "2024-10-04T09:27:42.643563700Z"
    }
   }
  },
  {
   "cell_type": "code",
   "execution_count": 65,
   "outputs": [
    {
     "data": {
      "text/plain": "                                               tweet sentiment  \\\n0                                               booo  Negative   \n1  ok hear me out microsoft is going to pull a mi...   Neutral   \n2  hopping on the    uzi is pretty good fortunate...  Positive   \n3  mr christoph sandrock best pubg teammate rescu...  Positive   \n4  eamaddennfl what is up with these player ratin...  Negative   \n\n                                               no_sw  \\\n0                                               booo   \n1  hear microsoft pull mix ass prove choose xbox ...   \n2   hopping uzi pretty fortunate time twitchtvjoke65   \n3  mr christoph sandrock pubg teammate rescuer cr...   \n4         eamaddennfl player ratings algorithm wrong   \n\n                                           no_sw_lem  \n0                                               booo  \n1  hear microsoft pull mix ass prove choose xbox ...  \n2   hopping uzi pretty fortunate time twitchtvjoke65  \n3  mr christoph sandrock pubg teammate rescuer cr...  \n4         eamaddennfl player ratings algorithm wrong  ",
      "text/html": "<div>\n<style scoped>\n    .dataframe tbody tr th:only-of-type {\n        vertical-align: middle;\n    }\n\n    .dataframe tbody tr th {\n        vertical-align: top;\n    }\n\n    .dataframe thead th {\n        text-align: right;\n    }\n</style>\n<table border=\"1\" class=\"dataframe\">\n  <thead>\n    <tr style=\"text-align: right;\">\n      <th></th>\n      <th>tweet</th>\n      <th>sentiment</th>\n      <th>no_sw</th>\n      <th>no_sw_lem</th>\n    </tr>\n  </thead>\n  <tbody>\n    <tr>\n      <th>0</th>\n      <td>booo</td>\n      <td>Negative</td>\n      <td>booo</td>\n      <td>booo</td>\n    </tr>\n    <tr>\n      <th>1</th>\n      <td>ok hear me out microsoft is going to pull a mi...</td>\n      <td>Neutral</td>\n      <td>hear microsoft pull mix ass prove choose xbox ...</td>\n      <td>hear microsoft pull mix ass prove choose xbox ...</td>\n    </tr>\n    <tr>\n      <th>2</th>\n      <td>hopping on the    uzi is pretty good fortunate...</td>\n      <td>Positive</td>\n      <td>hopping uzi pretty fortunate time twitchtvjoke65</td>\n      <td>hopping uzi pretty fortunate time twitchtvjoke65</td>\n    </tr>\n    <tr>\n      <th>3</th>\n      <td>mr christoph sandrock best pubg teammate rescu...</td>\n      <td>Positive</td>\n      <td>mr christoph sandrock pubg teammate rescuer cr...</td>\n      <td>mr christoph sandrock pubg teammate rescuer cr...</td>\n    </tr>\n    <tr>\n      <th>4</th>\n      <td>eamaddennfl what is up with these player ratin...</td>\n      <td>Negative</td>\n      <td>eamaddennfl player ratings algorithm wrong</td>\n      <td>eamaddennfl player ratings algorithm wrong</td>\n    </tr>\n  </tbody>\n</table>\n</div>"
     },
     "execution_count": 65,
     "metadata": {},
     "output_type": "execute_result"
    }
   ],
   "source": [
    "dt.head()"
   ],
   "metadata": {
    "collapsed": false,
    "ExecuteTime": {
     "end_time": "2024-10-04T09:27:45.122234700Z",
     "start_time": "2024-10-04T09:27:45.071752400Z"
    }
   }
  },
  {
   "cell_type": "code",
   "execution_count": 66,
   "outputs": [
    {
     "data": {
      "text/plain": "                                              tweet   sentiment     no_sw  \\\n79                                the best uniforms    Positive  uniforms   \n222                                    all comments  Irrelevant  comments   \n276    last one sounds way too good to be said true    Positive    sounds   \n1521                                           lies    Negative      lies   \n3011                                       mistakes  Irrelevant  mistakes   \n...                                             ...         ...       ...   \n56977                          feels the good man      Positive     feels   \n57446                                  hotdogs ever    Positive   hotdogs   \n57471                                    old days    Irrelevant      days   \n57501                              the works for me    Positive     works   \n57585                                    these gods     Neutral      gods   \n\n      no_sw_lem  \n79      uniform  \n222     comment  \n276       sound  \n1521        lie  \n3011    mistake  \n...         ...  \n56977      feel  \n57446    hotdog  \n57471       day  \n57501      work  \n57585       god  \n\n[215 rows x 4 columns]",
      "text/html": "<div>\n<style scoped>\n    .dataframe tbody tr th:only-of-type {\n        vertical-align: middle;\n    }\n\n    .dataframe tbody tr th {\n        vertical-align: top;\n    }\n\n    .dataframe thead th {\n        text-align: right;\n    }\n</style>\n<table border=\"1\" class=\"dataframe\">\n  <thead>\n    <tr style=\"text-align: right;\">\n      <th></th>\n      <th>tweet</th>\n      <th>sentiment</th>\n      <th>no_sw</th>\n      <th>no_sw_lem</th>\n    </tr>\n  </thead>\n  <tbody>\n    <tr>\n      <th>79</th>\n      <td>the best uniforms</td>\n      <td>Positive</td>\n      <td>uniforms</td>\n      <td>uniform</td>\n    </tr>\n    <tr>\n      <th>222</th>\n      <td>all comments</td>\n      <td>Irrelevant</td>\n      <td>comments</td>\n      <td>comment</td>\n    </tr>\n    <tr>\n      <th>276</th>\n      <td>last one sounds way too good to be said true</td>\n      <td>Positive</td>\n      <td>sounds</td>\n      <td>sound</td>\n    </tr>\n    <tr>\n      <th>1521</th>\n      <td>lies</td>\n      <td>Negative</td>\n      <td>lies</td>\n      <td>lie</td>\n    </tr>\n    <tr>\n      <th>3011</th>\n      <td>mistakes</td>\n      <td>Irrelevant</td>\n      <td>mistakes</td>\n      <td>mistake</td>\n    </tr>\n    <tr>\n      <th>...</th>\n      <td>...</td>\n      <td>...</td>\n      <td>...</td>\n      <td>...</td>\n    </tr>\n    <tr>\n      <th>56977</th>\n      <td>feels the good man</td>\n      <td>Positive</td>\n      <td>feels</td>\n      <td>feel</td>\n    </tr>\n    <tr>\n      <th>57446</th>\n      <td>hotdogs ever</td>\n      <td>Positive</td>\n      <td>hotdogs</td>\n      <td>hotdog</td>\n    </tr>\n    <tr>\n      <th>57471</th>\n      <td>old days</td>\n      <td>Irrelevant</td>\n      <td>days</td>\n      <td>day</td>\n    </tr>\n    <tr>\n      <th>57501</th>\n      <td>the works for me</td>\n      <td>Positive</td>\n      <td>works</td>\n      <td>work</td>\n    </tr>\n    <tr>\n      <th>57585</th>\n      <td>these gods</td>\n      <td>Neutral</td>\n      <td>gods</td>\n      <td>god</td>\n    </tr>\n  </tbody>\n</table>\n<p>215 rows × 4 columns</p>\n</div>"
     },
     "execution_count": 66,
     "metadata": {},
     "output_type": "execute_result"
    }
   ],
   "source": [
    "dt[dt.no_sw != dt.no_sw_lem].head(500)"
   ],
   "metadata": {
    "collapsed": false,
    "ExecuteTime": {
     "end_time": "2024-10-04T09:27:45.124272800Z",
     "start_time": "2024-10-04T09:27:45.083918400Z"
    }
   }
  },
  {
   "cell_type": "markdown",
   "source": [
    "## Check again: Duplicates / NaN"
   ],
   "metadata": {
    "collapsed": false
   }
  },
  {
   "cell_type": "code",
   "execution_count": 67,
   "outputs": [
    {
     "data": {
      "text/plain": "2135"
     },
     "execution_count": 67,
     "metadata": {},
     "output_type": "execute_result"
    }
   ],
   "source": [
    "dt.duplicated().sum()"
   ],
   "metadata": {
    "collapsed": false,
    "ExecuteTime": {
     "end_time": "2024-10-04T09:27:45.326670100Z",
     "start_time": "2024-10-04T09:27:45.124272800Z"
    }
   }
  },
  {
   "cell_type": "code",
   "execution_count": 68,
   "outputs": [
    {
     "data": {
      "text/plain": "0"
     },
     "execution_count": 68,
     "metadata": {},
     "output_type": "execute_result"
    }
   ],
   "source": [
    "dt.drop_duplicates(inplace=True)\n",
    "dt.duplicated().sum()"
   ],
   "metadata": {
    "collapsed": false,
    "ExecuteTime": {
     "end_time": "2024-10-04T09:27:45.426082800Z",
     "start_time": "2024-10-04T09:27:45.205220400Z"
    }
   }
  },
  {
   "cell_type": "code",
   "execution_count": 72,
   "outputs": [
    {
     "data": {
      "text/plain": "tweet        0\nsentiment    0\nno_sw        0\nno_sw_lem    0\ndtype: int64"
     },
     "execution_count": 72,
     "metadata": {},
     "output_type": "execute_result"
    }
   ],
   "source": [
    "dt.isna().sum()"
   ],
   "metadata": {
    "collapsed": false,
    "ExecuteTime": {
     "end_time": "2024-10-04T09:31:26.332120500Z",
     "start_time": "2024-10-04T09:31:26.263078800Z"
    }
   }
  },
  {
   "cell_type": "code",
   "execution_count": 69,
   "outputs": [
    {
     "name": "stdout",
     "output_type": "stream",
     "text": [
      "<class 'pandas.core.frame.DataFrame'>\n",
      "Int64Index: 55151 entries, 0 to 57624\n",
      "Data columns (total 4 columns):\n",
      " #   Column     Non-Null Count  Dtype \n",
      "---  ------     --------------  ----- \n",
      " 0   tweet      55151 non-null  object\n",
      " 1   sentiment  55151 non-null  object\n",
      " 2   no_sw      55151 non-null  object\n",
      " 3   no_sw_lem  55151 non-null  object\n",
      "dtypes: object(4)\n",
      "memory usage: 2.1+ MB\n"
     ]
    }
   ],
   "source": [
    "dt.info()"
   ],
   "metadata": {
    "collapsed": false,
    "ExecuteTime": {
     "end_time": "2024-10-04T09:27:45.509208600Z",
     "start_time": "2024-10-04T09:27:45.357021900Z"
    }
   }
  },
  {
   "cell_type": "markdown",
   "source": [
    "## Save preprocessed data"
   ],
   "metadata": {
    "collapsed": false
   }
  },
  {
   "cell_type": "code",
   "execution_count": 70,
   "outputs": [],
   "source": [
    "filepath = Path('data/twitter_training_cleaned_preprocessed.csv')\n",
    "filepath.parent.mkdir(parents=True, exist_ok=True)"
   ],
   "metadata": {
    "collapsed": false,
    "ExecuteTime": {
     "end_time": "2024-10-04T09:27:45.509208600Z",
     "start_time": "2024-10-04T09:27:45.407870400Z"
    }
   }
  },
  {
   "cell_type": "code",
   "execution_count": 71,
   "outputs": [],
   "source": [
    "dt.to_csv(filepath)"
   ],
   "metadata": {
    "collapsed": false,
    "ExecuteTime": {
     "end_time": "2024-10-04T09:27:45.957420900Z",
     "start_time": "2024-10-04T09:27:45.428134Z"
    }
   }
  },
  {
   "cell_type": "code",
   "execution_count": 71,
   "outputs": [],
   "source": [],
   "metadata": {
    "collapsed": false,
    "ExecuteTime": {
     "end_time": "2024-10-04T09:27:45.957420900Z",
     "start_time": "2024-10-04T09:27:45.957420900Z"
    }
   }
  }
 ],
 "metadata": {
  "kernelspec": {
   "display_name": "Python 3",
   "language": "python",
   "name": "python3"
  },
  "language_info": {
   "codemirror_mode": {
    "name": "ipython",
    "version": 2
   },
   "file_extension": ".py",
   "mimetype": "text/x-python",
   "name": "python",
   "nbconvert_exporter": "python",
   "pygments_lexer": "ipython2",
   "version": "2.7.6"
  }
 },
 "nbformat": 4,
 "nbformat_minor": 0
}
