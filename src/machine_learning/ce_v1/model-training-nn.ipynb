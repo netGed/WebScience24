{
 "cells": [
  {
   "cell_type": "markdown",
   "source": [
    "# Links\n",
    "https://www.kaggle.com/code/ngyptr/lstm-sentiment-analysis-keras/notebook\n",
    "https://peyrone.medium.com/building-an-easy-sentiment-analysis-model-using-keras-89ec3d6308b8\n",
    "https://keras.io/examples/nlp/bidirectional_lstm_imdb/"
   ],
   "metadata": {
    "collapsed": false
   }
  },
  {
   "cell_type": "markdown",
   "source": [
    "# Imports"
   ],
   "metadata": {
    "collapsed": false
   }
  },
  {
   "cell_type": "code",
   "execution_count": 1,
   "outputs": [],
   "source": [
    "import pandas as pd\n",
    "\n",
    "import numpy as np\n",
    "import keras\n",
    "\n",
    "from keras import layers\n",
    "import tensorflow as tf\n",
    "from keras.preprocessing.text import Tokenizer\n",
    "from sklearn.model_selection import train_test_split"
   ],
   "metadata": {
    "collapsed": false,
    "ExecuteTime": {
     "end_time": "2024-10-06T07:17:31.092488500Z",
     "start_time": "2024-10-06T07:17:18.737999300Z"
    }
   }
  },
  {
   "cell_type": "markdown",
   "source": [
    "# Loading the data"
   ],
   "metadata": {
    "collapsed": false
   }
  },
  {
   "cell_type": "code",
   "execution_count": 2,
   "outputs": [
    {
     "data": {
      "text/plain": "                                               tweet sentiment  \\\n0                                               booo  Negative   \n1  ok hear me out microsoft is going to pull a mi...   Neutral   \n2  hopping on the    uzi is pretty good fortunate...  Positive   \n3  mr christoph sandrock best pubg teammate rescu...  Positive   \n4  eamaddennfl what is up with these player ratin...  Negative   \n\n                                               no_sw  \\\n0                                               booo   \n1  hear microsoft pull mix ass prove choose xbox ...   \n2   hopping uzi pretty fortunate time twitchtvjoke65   \n3  mr christoph sandrock pubg teammate rescuer cr...   \n4         eamaddennfl player ratings algorithm wrong   \n\n                                           no_sw_lem  \n0                                               booo  \n1  hear microsoft pull mix ass prove choose xbox ...  \n2   hopping uzi pretty fortunate time twitchtvjoke65  \n3  mr christoph sandrock pubg teammate rescuer cr...  \n4         eamaddennfl player ratings algorithm wrong  ",
      "text/html": "<div>\n<style scoped>\n    .dataframe tbody tr th:only-of-type {\n        vertical-align: middle;\n    }\n\n    .dataframe tbody tr th {\n        vertical-align: top;\n    }\n\n    .dataframe thead th {\n        text-align: right;\n    }\n</style>\n<table border=\"1\" class=\"dataframe\">\n  <thead>\n    <tr style=\"text-align: right;\">\n      <th></th>\n      <th>tweet</th>\n      <th>sentiment</th>\n      <th>no_sw</th>\n      <th>no_sw_lem</th>\n    </tr>\n  </thead>\n  <tbody>\n    <tr>\n      <th>0</th>\n      <td>booo</td>\n      <td>Negative</td>\n      <td>booo</td>\n      <td>booo</td>\n    </tr>\n    <tr>\n      <th>1</th>\n      <td>ok hear me out microsoft is going to pull a mi...</td>\n      <td>Neutral</td>\n      <td>hear microsoft pull mix ass prove choose xbox ...</td>\n      <td>hear microsoft pull mix ass prove choose xbox ...</td>\n    </tr>\n    <tr>\n      <th>2</th>\n      <td>hopping on the    uzi is pretty good fortunate...</td>\n      <td>Positive</td>\n      <td>hopping uzi pretty fortunate time twitchtvjoke65</td>\n      <td>hopping uzi pretty fortunate time twitchtvjoke65</td>\n    </tr>\n    <tr>\n      <th>3</th>\n      <td>mr christoph sandrock best pubg teammate rescu...</td>\n      <td>Positive</td>\n      <td>mr christoph sandrock pubg teammate rescuer cr...</td>\n      <td>mr christoph sandrock pubg teammate rescuer cr...</td>\n    </tr>\n    <tr>\n      <th>4</th>\n      <td>eamaddennfl what is up with these player ratin...</td>\n      <td>Negative</td>\n      <td>eamaddennfl player ratings algorithm wrong</td>\n      <td>eamaddennfl player ratings algorithm wrong</td>\n    </tr>\n  </tbody>\n</table>\n</div>"
     },
     "execution_count": 2,
     "metadata": {},
     "output_type": "execute_result"
    }
   ],
   "source": [
    "df = pd.read_csv(\"./data/twitter_training_cleaned_preprocessed.csv\", index_col=0)\n",
    "df.dropna(inplace=True)\n",
    "df.head()"
   ],
   "metadata": {
    "collapsed": false,
    "ExecuteTime": {
     "end_time": "2024-10-06T07:17:31.448189700Z",
     "start_time": "2024-10-06T07:17:31.092488500Z"
    }
   }
  },
  {
   "cell_type": "markdown",
   "source": [
    "# Preparing the data"
   ],
   "metadata": {
    "collapsed": false
   }
  },
  {
   "cell_type": "code",
   "execution_count": 3,
   "outputs": [
    {
     "data": {
      "text/plain": "                                               tweet  sentiment_label\n0                                               booo              1.0\n1  ok hear me out microsoft is going to pull a mi...              0.0\n2  hopping on the    uzi is pretty good fortunate...              0.0\n3  mr christoph sandrock best pubg teammate rescu...              0.0\n4  eamaddennfl what is up with these player ratin...              1.0",
      "text/html": "<div>\n<style scoped>\n    .dataframe tbody tr th:only-of-type {\n        vertical-align: middle;\n    }\n\n    .dataframe tbody tr th {\n        vertical-align: top;\n    }\n\n    .dataframe thead th {\n        text-align: right;\n    }\n</style>\n<table border=\"1\" class=\"dataframe\">\n  <thead>\n    <tr style=\"text-align: right;\">\n      <th></th>\n      <th>tweet</th>\n      <th>sentiment_label</th>\n    </tr>\n  </thead>\n  <tbody>\n    <tr>\n      <th>0</th>\n      <td>booo</td>\n      <td>1.0</td>\n    </tr>\n    <tr>\n      <th>1</th>\n      <td>ok hear me out microsoft is going to pull a mi...</td>\n      <td>0.0</td>\n    </tr>\n    <tr>\n      <th>2</th>\n      <td>hopping on the    uzi is pretty good fortunate...</td>\n      <td>0.0</td>\n    </tr>\n    <tr>\n      <th>3</th>\n      <td>mr christoph sandrock best pubg teammate rescu...</td>\n      <td>0.0</td>\n    </tr>\n    <tr>\n      <th>4</th>\n      <td>eamaddennfl what is up with these player ratin...</td>\n      <td>1.0</td>\n    </tr>\n  </tbody>\n</table>\n</div>"
     },
     "execution_count": 3,
     "metadata": {},
     "output_type": "execute_result"
    }
   ],
   "source": [
    "dt = df.copy()\n",
    "dt[\"sentiment_label\"] = df[\"sentiment\"].map({\"Positive\": 0, \"Negative\": 1, \"Neutral\": 0, \"Irrelevant\": 0})\n",
    "dt[\"sentiment_label\"] = dt[\"sentiment_label\"].astype(np.float32)\n",
    "dt[\"tweet\"] = dt[\"tweet\"].astype(\"string\")\n",
    "dt.drop(columns=['sentiment', \"no_sw\", \"no_sw_lem\"], axis=1, inplace=True)\n",
    "dt.head()"
   ],
   "metadata": {
    "collapsed": false,
    "ExecuteTime": {
     "end_time": "2024-10-06T07:17:31.567208700Z",
     "start_time": "2024-10-06T07:17:31.448189700Z"
    }
   }
  },
  {
   "cell_type": "code",
   "execution_count": 4,
   "outputs": [],
   "source": [
    "max_features=20000\n",
    "tokenizer = Tokenizer(num_words=max_features, split=' ')\n",
    "tokenizer.fit_on_texts(dt['tweet'].values)\n",
    "\n",
    "X = tokenizer.texts_to_sequences(dt['tweet'].values)\n",
    "X = tf.keras.preprocessing.sequence.pad_sequences(X)\n",
    "y = dt['sentiment_label']"
   ],
   "metadata": {
    "collapsed": false,
    "ExecuteTime": {
     "end_time": "2024-10-06T07:17:34.378384600Z",
     "start_time": "2024-10-06T07:17:31.506631800Z"
    }
   }
  },
  {
   "cell_type": "code",
   "execution_count": 5,
   "outputs": [
    {
     "name": "stdout",
     "output_type": "stream",
     "text": [
      "(40812, 62) (40812,)\n",
      "(13605, 62) (13605,)\n"
     ]
    }
   ],
   "source": [
    "X_train, X_test, y_train, y_test = train_test_split(X, y, test_size=0.25, random_state=30)\n",
    "print(X_train.shape,y_train.shape)\n",
    "print(X_test.shape,y_test.shape)"
   ],
   "metadata": {
    "collapsed": false,
    "ExecuteTime": {
     "end_time": "2024-10-06T07:17:34.398540500Z",
     "start_time": "2024-10-06T07:17:34.378384600Z"
    }
   }
  },
  {
   "cell_type": "markdown",
   "source": [
    "# Variant: binary target"
   ],
   "metadata": {
    "collapsed": false
   }
  },
  {
   "cell_type": "markdown",
   "source": [
    "## Model 1a: functional, bidirectional-LSTM"
   ],
   "metadata": {
    "collapsed": false
   }
  },
  {
   "cell_type": "code",
   "execution_count": 6,
   "outputs": [
    {
     "name": "stdout",
     "output_type": "stream",
     "text": [
      "Model: \"model\"\n",
      "_________________________________________________________________\n",
      " Layer (type)                Output Shape              Param #   \n",
      "=================================================================\n",
      " input_1 (InputLayer)        [(None, None)]            0         \n",
      "                                                                 \n",
      " embedding (Embedding)       (None, None, 128)         2560000   \n",
      "                                                                 \n",
      " bidirectional (Bidirectiona  (None, None, 128)        98816     \n",
      " l)                                                              \n",
      "                                                                 \n",
      " bidirectional_1 (Bidirectio  (None, 128)              98816     \n",
      " nal)                                                            \n",
      "                                                                 \n",
      " dense (Dense)               (None, 1)                 129       \n",
      "                                                                 \n",
      "=================================================================\n",
      "Total params: 2,757,761\n",
      "Trainable params: 2,757,761\n",
      "Non-trainable params: 0\n",
      "_________________________________________________________________\n"
     ]
    }
   ],
   "source": [
    "# Input for variable-length sequences of integers\n",
    "inputs = keras.Input(shape=(None,), dtype=\"int32\")\n",
    "# Embed each integer in a 128-dimensional vector\n",
    "x = layers.Embedding(max_features, 128)(inputs)\n",
    "# Add 2 bidirectional LSTMs\n",
    "x = layers.Bidirectional(layers.LSTM(64, return_sequences=True))(x)\n",
    "x = layers.Bidirectional(layers.LSTM(64))(x)\n",
    "# Add a classifier\n",
    "outputs = layers.Dense(1, activation=\"sigmoid\")(x)\n",
    "model1 = keras.Model(inputs, outputs)\n",
    "model1.summary()"
   ],
   "metadata": {
    "collapsed": false,
    "ExecuteTime": {
     "end_time": "2024-10-06T07:17:36.260115100Z",
     "start_time": "2024-10-06T07:17:34.398540500Z"
    }
   }
  },
  {
   "cell_type": "code",
   "execution_count": 7,
   "outputs": [
    {
     "name": "stdout",
     "output_type": "stream",
     "text": [
      "Epoch 1/3\n",
      "1276/1276 [==============================] - 187s 139ms/step - loss: 0.3628 - accuracy: 0.8408 - val_loss: 0.2506 - val_accuracy: 0.8949\n",
      "Epoch 2/3\n",
      "1276/1276 [==============================] - 173s 136ms/step - loss: 0.1597 - accuracy: 0.9374 - val_loss: 0.1946 - val_accuracy: 0.9219\n",
      "Epoch 3/3\n",
      "1276/1276 [==============================] - 180s 141ms/step - loss: 0.0959 - accuracy: 0.9640 - val_loss: 0.1877 - val_accuracy: 0.9336\n"
     ]
    },
    {
     "data": {
      "text/plain": "<keras.callbacks.History at 0x28812637c70>"
     },
     "execution_count": 7,
     "metadata": {},
     "output_type": "execute_result"
    }
   ],
   "source": [
    "model1.compile(optimizer=\"adam\", loss=\"binary_crossentropy\", metrics=[\"accuracy\"])\n",
    "model1.fit(X_train, y_train, batch_size=32, epochs=3, validation_data=(X_test, y_test))"
   ],
   "metadata": {
    "collapsed": false,
    "ExecuteTime": {
     "end_time": "2024-10-06T07:26:36.091376800Z",
     "start_time": "2024-10-06T07:17:36.221833100Z"
    }
   }
  },
  {
   "cell_type": "markdown",
   "source": [
    "## Model 1b: sequential-LSTM"
   ],
   "metadata": {
    "collapsed": false
   }
  },
  {
   "cell_type": "code",
   "execution_count": 11,
   "outputs": [],
   "source": [
    "from keras.models import Sequential\n",
    "from keras.layers import Dense, Embedding, LSTM"
   ],
   "metadata": {
    "collapsed": false,
    "ExecuteTime": {
     "end_time": "2024-10-08T17:21:45.902909800Z",
     "start_time": "2024-10-08T17:21:45.876909800Z"
    }
   }
  },
  {
   "cell_type": "code",
   "execution_count": 15,
   "outputs": [],
   "source": [
    "EMBEDDING_SIZE = 128\n",
    "HIDDEN_LAYER_SIZE = 128\n",
    "BATCH_SIZE = 32\n",
    "NUM_EPOCHS = 15\n",
    "\n",
    "MAX_FEATURES = 20000\n",
    "MAX_SENTENCE_LENGTH = 62"
   ],
   "metadata": {
    "collapsed": false,
    "ExecuteTime": {
     "end_time": "2024-10-08T17:22:44.842685900Z",
     "start_time": "2024-10-08T17:22:44.811523500Z"
    }
   }
  },
  {
   "cell_type": "code",
   "execution_count": 16,
   "outputs": [
    {
     "name": "stdout",
     "output_type": "stream",
     "text": [
      "Model: \"sequential_2\"\n",
      "_________________________________________________________________\n",
      " Layer (type)                Output Shape              Param #   \n",
      "=================================================================\n",
      " embedding_3 (Embedding)     (None, 62, 128)           2560000   \n",
      "                                                                 \n",
      " lstm_4 (LSTM)               (None, 128)               131584    \n",
      "                                                                 \n",
      " dense_3 (Dense)             (None, 1)                 129       \n",
      "                                                                 \n",
      "=================================================================\n",
      "Total params: 2,691,713\n",
      "Trainable params: 2,691,713\n",
      "Non-trainable params: 0\n",
      "_________________________________________________________________\n"
     ]
    }
   ],
   "source": [
    "model2 = Sequential()\n",
    "\n",
    "model2.add(Embedding(MAX_FEATURES, EMBEDDING_SIZE, input_length=MAX_SENTENCE_LENGTH))\n",
    "model2.add(LSTM(HIDDEN_LAYER_SIZE, dropout=0.2, recurrent_dropout=0.2))\n",
    "model2.add(Dense(1, activation='sigmoid'))\n",
    "\n",
    "model2.summary()"
   ],
   "metadata": {
    "collapsed": false,
    "ExecuteTime": {
     "end_time": "2024-10-08T17:22:45.332821700Z",
     "start_time": "2024-10-08T17:22:45.077671400Z"
    }
   }
  },
  {
   "cell_type": "code",
   "execution_count": 17,
   "outputs": [
    {
     "name": "stdout",
     "output_type": "stream",
     "text": [
      "Epoch 1/3\n",
      "1276/1276 [==============================] - 234s 180ms/step - loss: 0.3823 - accuracy: 0.8296 - val_loss: 0.2871 - val_accuracy: 0.8799\n",
      "Epoch 2/3\n",
      "1276/1276 [==============================] - 230s 180ms/step - loss: 0.1864 - accuracy: 0.9241 - val_loss: 0.2010 - val_accuracy: 0.9200\n",
      "Epoch 3/3\n",
      "1276/1276 [==============================] - 229s 179ms/step - loss: 0.1107 - accuracy: 0.9579 - val_loss: 0.1896 - val_accuracy: 0.9281\n"
     ]
    },
    {
     "data": {
      "text/plain": "<keras.callbacks.History at 0x2882b18e3e0>"
     },
     "execution_count": 17,
     "metadata": {},
     "output_type": "execute_result"
    }
   ],
   "source": [
    "model2.compile(loss='binary_crossentropy',\n",
    "              optimizer='adam',\n",
    "              metrics=['accuracy'])\n",
    "model2.fit(X_train, y_train, batch_size=32, epochs=3, validation_data=(X_test, y_test))"
   ],
   "metadata": {
    "collapsed": false,
    "ExecuteTime": {
     "end_time": "2024-10-08T17:34:19.399229300Z",
     "start_time": "2024-10-08T17:22:46.712629200Z"
    }
   }
  },
  {
   "cell_type": "markdown",
   "source": [
    "# Variant: multi-class target"
   ],
   "metadata": {
    "collapsed": false
   }
  },
  {
   "cell_type": "markdown",
   "source": [
    "## Model 2a: functional, bidirectional-LSTM"
   ],
   "metadata": {
    "collapsed": false
   }
  },
  {
   "cell_type": "code",
   "execution_count": 18,
   "outputs": [],
   "source": [
    "# todo"
   ],
   "metadata": {
    "collapsed": false,
    "ExecuteTime": {
     "end_time": "2024-10-08T17:37:32.618726200Z",
     "start_time": "2024-10-08T17:37:32.590304300Z"
    }
   }
  },
  {
   "cell_type": "markdown",
   "source": [
    "## Model 2b: sequential-LSTM"
   ],
   "metadata": {
    "collapsed": false
   }
  },
  {
   "cell_type": "code",
   "execution_count": null,
   "outputs": [],
   "source": [
    "# todo"
   ],
   "metadata": {
    "collapsed": false
   }
  }
 ],
 "metadata": {
  "kernelspec": {
   "display_name": "Python 3",
   "language": "python",
   "name": "python3"
  },
  "language_info": {
   "codemirror_mode": {
    "name": "ipython",
    "version": 2
   },
   "file_extension": ".py",
   "mimetype": "text/x-python",
   "name": "python",
   "nbconvert_exporter": "python",
   "pygments_lexer": "ipython2",
   "version": "2.7.6"
  }
 },
 "nbformat": 4,
 "nbformat_minor": 0
}
