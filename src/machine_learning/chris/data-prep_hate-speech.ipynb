{
 "cells": [
  {
   "cell_type": "markdown",
   "metadata": {
    "collapsed": false
   },
   "source": [
    "# Imports & Downloads"
   ]
  },
  {
   "cell_type": "code",
   "execution_count": 1,
   "metadata": {
    "collapsed": true,
    "ExecuteTime": {
     "end_time": "2024-10-17T18:04:20.682730500Z",
     "start_time": "2024-10-17T18:04:19.118475400Z"
    }
   },
   "outputs": [],
   "source": [
    "import numpy as np\n",
    "import pandas as pd\n",
    "import matplotlib.pyplot as plt\n",
    "import seaborn as sns\n",
    "from pathlib import Path\n",
    "\n",
    "import nltk\n",
    "import re\n",
    "import string\n",
    "from nltk.corpus import stopwords\n",
    "from nltk.tokenize import word_tokenize\n",
    "from nltk.stem import WordNetLemmatizer\n",
    "\n",
    "from collections import Counter\n",
    "\n",
    "from sklearn.feature_extraction.text import CountVectorizer\n",
    "from nltk.tokenize import RegexpTokenizer\n",
    "from sklearn.model_selection import train_test_split\n",
    "\n",
    "from sklearn.naive_bayes import BernoulliNB, MultinomialNB, ComplementNB\n",
    "from sklearn.metrics import classification_report, confusion_matrix\n",
    "from sklearn import metrics\n",
    "from sklearn.metrics import precision_score, recall_score, f1_score"
   ]
  },
  {
   "cell_type": "code",
   "execution_count": 2,
   "metadata": {
    "collapsed": false,
    "ExecuteTime": {
     "end_time": "2024-10-17T18:04:20.682942100Z",
     "start_time": "2024-10-17T18:04:19.878045800Z"
    }
   },
   "outputs": [],
   "source": [
    "# nltk.download('punkt')\n",
    "# nltk.download('stopwords')\n",
    "# nltk.download('wordnet')\n",
    "# nltk.download('omw-1.4')"
   ]
  },
  {
   "cell_type": "code",
   "execution_count": 3,
   "metadata": {
    "collapsed": false,
    "ExecuteTime": {
     "end_time": "2024-10-17T18:04:20.682942100Z",
     "start_time": "2024-10-17T18:04:19.898210600Z"
    }
   },
   "outputs": [],
   "source": [
    "stop_words = stopwords.words()"
   ]
  },
  {
   "cell_type": "markdown",
   "metadata": {
    "collapsed": false
   },
   "source": [
    "# Loading the data"
   ]
  },
  {
   "cell_type": "code",
   "execution_count": 4,
   "outputs": [],
   "source": [
    "#  avoid characters of text column to be cut off by default Pandas DataFrame limitations\n",
    "pd.set_option('display.max_colwidth', 400)\n",
    "\n",
    "# -*- coding: utf-8 -*-"
   ],
   "metadata": {
    "collapsed": false,
    "ExecuteTime": {
     "end_time": "2024-10-17T18:04:20.682942100Z",
     "start_time": "2024-10-17T18:04:19.918376600Z"
    }
   }
  },
  {
   "cell_type": "code",
   "execution_count": 5,
   "metadata": {
    "collapsed": false,
    "ExecuteTime": {
     "end_time": "2024-10-17T18:04:20.682942100Z",
     "start_time": "2024-10-17T18:04:19.938509800Z"
    }
   },
   "outputs": [
    {
     "data": {
      "text/plain": "                                                                                                                                                tweet\nid                                                                                                                                                   \n31963                                                      #studiolife #aislife #requires #passion #dedication #willpower   to find #newmaterialsâ¦ \n31964                                            @user #white #supremacists want everyone to see the new â  #birdsâ #movie â and hereâs why  \n31965                                                                         safe ways to heal your #acne!!    #altwaystoheal #healthy   #healing!! \n31966  is the hp and the cursed child book up for reservations already? if yes, where? if no, when? ððð   #harrypotter #pottermore #favorite\n31967                                                     3rd #bihday to my amazing, hilarious #nephew eli ahmir! uncle dave loves you and missesâ¦ ",
      "text/html": "<div>\n<style scoped>\n    .dataframe tbody tr th:only-of-type {\n        vertical-align: middle;\n    }\n\n    .dataframe tbody tr th {\n        vertical-align: top;\n    }\n\n    .dataframe thead th {\n        text-align: right;\n    }\n</style>\n<table border=\"1\" class=\"dataframe\">\n  <thead>\n    <tr style=\"text-align: right;\">\n      <th></th>\n      <th>tweet</th>\n    </tr>\n    <tr>\n      <th>id</th>\n      <th></th>\n    </tr>\n  </thead>\n  <tbody>\n    <tr>\n      <th>31963</th>\n      <td>#studiolife #aislife #requires #passion #dedication #willpower   to find #newmaterialsâ¦</td>\n    </tr>\n    <tr>\n      <th>31964</th>\n      <td>@user #white #supremacists want everyone to see the new â  #birdsâ #movie â and hereâs why</td>\n    </tr>\n    <tr>\n      <th>31965</th>\n      <td>safe ways to heal your #acne!!    #altwaystoheal #healthy   #healing!!</td>\n    </tr>\n    <tr>\n      <th>31966</th>\n      <td>is the hp and the cursed child book up for reservations already? if yes, where? if no, when? ððð   #harrypotter #pottermore #favorite</td>\n    </tr>\n    <tr>\n      <th>31967</th>\n      <td>3rd #bihday to my amazing, hilarious #nephew eli ahmir! uncle dave loves you and missesâ¦</td>\n    </tr>\n  </tbody>\n</table>\n</div>"
     },
     "execution_count": 5,
     "metadata": {},
     "output_type": "execute_result"
    }
   ],
   "source": [
    "df_raw_val = pd.read_csv(\"C:\\\\Users\\\\admin\\\\PycharmProjects\\\\WebScience24\\\\data\\\\twitter_hate-speech\\\\test.csv\",\n",
    "                     index_col=0)\n",
    "df_raw_val.head()"
   ]
  },
  {
   "cell_type": "code",
   "execution_count": 6,
   "metadata": {
    "collapsed": false,
    "ExecuteTime": {
     "end_time": "2024-10-17T18:04:20.682942100Z",
     "start_time": "2024-10-17T18:04:19.999026100Z"
    }
   },
   "outputs": [
    {
     "data": {
      "text/plain": "    label  \\\nid          \n1       0   \n2       0   \n3       0   \n4       0   \n5       0   \n\n                                                                                                                         tweet  \nid                                                                                                                              \n1                        @user when a father is dysfunctional and is so selfish he drags his kids into his dysfunction.   #run  \n2   @user @user thanks for #lyft credit i can't use cause they don't offer wheelchair vans in pdx.    #disapointed #getthanked  \n3                                                                                                          bihday your majesty  \n4                                       #model   i love u take with u all the time in urð±!!! ðððð\nð¦ð¦ð¦    \n5                                                                                       factsguide: society now    #motivation  ",
      "text/html": "<div>\n<style scoped>\n    .dataframe tbody tr th:only-of-type {\n        vertical-align: middle;\n    }\n\n    .dataframe tbody tr th {\n        vertical-align: top;\n    }\n\n    .dataframe thead th {\n        text-align: right;\n    }\n</style>\n<table border=\"1\" class=\"dataframe\">\n  <thead>\n    <tr style=\"text-align: right;\">\n      <th></th>\n      <th>label</th>\n      <th>tweet</th>\n    </tr>\n    <tr>\n      <th>id</th>\n      <th></th>\n      <th></th>\n    </tr>\n  </thead>\n  <tbody>\n    <tr>\n      <th>1</th>\n      <td>0</td>\n      <td>@user when a father is dysfunctional and is so selfish he drags his kids into his dysfunction.   #run</td>\n    </tr>\n    <tr>\n      <th>2</th>\n      <td>0</td>\n      <td>@user @user thanks for #lyft credit i can't use cause they don't offer wheelchair vans in pdx.    #disapointed #getthanked</td>\n    </tr>\n    <tr>\n      <th>3</th>\n      <td>0</td>\n      <td>bihday your majesty</td>\n    </tr>\n    <tr>\n      <th>4</th>\n      <td>0</td>\n      <td>#model   i love u take with u all the time in urð±!!! ððððð¦ð¦ð¦</td>\n    </tr>\n    <tr>\n      <th>5</th>\n      <td>0</td>\n      <td>factsguide: society now    #motivation</td>\n    </tr>\n  </tbody>\n</table>\n</div>"
     },
     "execution_count": 6,
     "metadata": {},
     "output_type": "execute_result"
    }
   ],
   "source": [
    "df_raw_train = pd.read_csv(\"C:\\\\Users\\\\admin\\\\PycharmProjects\\\\WebScience24\\\\data\\\\twitter_hate-speech\\\\train.csv\",\n",
    "                      index_col=0)\n",
    "df_raw_train.head()"
   ]
  },
  {
   "cell_type": "markdown",
   "metadata": {
    "collapsed": false
   },
   "source": [
    "# Preparing the data"
   ]
  },
  {
   "cell_type": "code",
   "execution_count": 7,
   "metadata": {
    "collapsed": false,
    "ExecuteTime": {
     "end_time": "2024-10-17T18:04:20.682942100Z",
     "start_time": "2024-10-17T18:04:20.079796200Z"
    }
   },
   "outputs": [],
   "source": [
    "df = df_raw_train"
   ]
  },
  {
   "cell_type": "code",
   "execution_count": 8,
   "metadata": {
    "collapsed": false,
    "ExecuteTime": {
     "end_time": "2024-10-17T18:04:20.682942100Z",
     "start_time": "2024-10-17T18:04:20.099964600Z"
    }
   },
   "outputs": [
    {
     "name": "stdout",
     "output_type": "stream",
     "text": [
      "<class 'pandas.core.frame.DataFrame'>\n",
      "Int64Index: 31962 entries, 1 to 31962\n",
      "Data columns (total 2 columns):\n",
      " #   Column  Non-Null Count  Dtype \n",
      "---  ------  --------------  ----- \n",
      " 0   label   31962 non-null  int64 \n",
      " 1   tweet   31962 non-null  object\n",
      "dtypes: int64(1), object(1)\n",
      "memory usage: 749.1+ KB\n"
     ]
    }
   ],
   "source": [
    "df.info()"
   ]
  },
  {
   "cell_type": "markdown",
   "metadata": {
    "collapsed": false
   },
   "source": [
    "## Duplicate-Check"
   ]
  },
  {
   "cell_type": "code",
   "execution_count": 9,
   "metadata": {
    "collapsed": false,
    "ExecuteTime": {
     "end_time": "2024-10-17T18:04:20.682942100Z",
     "start_time": "2024-10-17T18:04:20.120154300Z"
    }
   },
   "outputs": [
    {
     "data": {
      "text/plain": "2432"
     },
     "execution_count": 9,
     "metadata": {},
     "output_type": "execute_result"
    }
   ],
   "source": [
    "df.duplicated().sum()"
   ]
  },
  {
   "cell_type": "code",
   "execution_count": 10,
   "metadata": {
    "collapsed": false,
    "ExecuteTime": {
     "end_time": "2024-10-17T18:04:20.682942100Z",
     "start_time": "2024-10-17T18:04:20.160515100Z"
    }
   },
   "outputs": [
    {
     "data": {
      "text/plain": "0"
     },
     "execution_count": 10,
     "metadata": {},
     "output_type": "execute_result"
    }
   ],
   "source": [
    "df = df.drop_duplicates()\n",
    "df.duplicated().sum()"
   ]
  },
  {
   "cell_type": "markdown",
   "metadata": {
    "collapsed": false
   },
   "source": [
    "## Null-Check"
   ]
  },
  {
   "cell_type": "code",
   "execution_count": 11,
   "metadata": {
    "collapsed": false,
    "ExecuteTime": {
     "end_time": "2024-10-17T18:04:20.682942100Z",
     "start_time": "2024-10-17T18:04:20.200934100Z"
    }
   },
   "outputs": [
    {
     "data": {
      "text/plain": "label    0\ntweet    0\ndtype: int64"
     },
     "execution_count": 11,
     "metadata": {},
     "output_type": "execute_result"
    }
   ],
   "source": [
    "df.isna().sum()"
   ]
  },
  {
   "cell_type": "markdown",
   "metadata": {
    "collapsed": false
   },
   "source": [
    "## Inconsistent text & typos"
   ]
  },
  {
   "cell_type": "code",
   "execution_count": 12,
   "outputs": [
    {
     "data": {
      "text/plain": "array([0, 1], dtype=int64)"
     },
     "execution_count": 12,
     "metadata": {},
     "output_type": "execute_result"
    }
   ],
   "source": [
    "df.label.unique()"
   ],
   "metadata": {
    "collapsed": false,
    "ExecuteTime": {
     "end_time": "2024-10-17T18:04:20.682942100Z",
     "start_time": "2024-10-17T18:04:20.218995300Z"
    }
   }
  },
  {
   "cell_type": "markdown",
   "metadata": {
    "collapsed": false
   },
   "source": [
    "## Outlier"
   ]
  },
  {
   "cell_type": "code",
   "execution_count": 13,
   "metadata": {
    "collapsed": false,
    "ExecuteTime": {
     "end_time": "2024-10-17T18:04:20.682942100Z",
     "start_time": "2024-10-17T18:04:20.234644Z"
    }
   },
   "outputs": [
    {
     "name": "stderr",
     "output_type": "stream",
     "text": [
      "C:\\Users\\admin\\AppData\\Local\\Temp\\ipykernel_1244\\4036354668.py:3: SettingWithCopyWarning: \n",
      "A value is trying to be set on a copy of a slice from a DataFrame.\n",
      "Try using .loc[row_indexer,col_indexer] = value instead\n",
      "\n",
      "See the caveats in the documentation: https://pandas.pydata.org/pandas-docs/stable/user_guide/indexing.html#returning-a-view-versus-a-copy\n",
      "  df[\"char_count\"] = df[\"tweet\"].str.len()\n",
      "C:\\Users\\admin\\AppData\\Local\\Temp\\ipykernel_1244\\4036354668.py:4: SettingWithCopyWarning: \n",
      "A value is trying to be set on a copy of a slice from a DataFrame.\n",
      "Try using .loc[row_indexer,col_indexer] = value instead\n",
      "\n",
      "See the caveats in the documentation: https://pandas.pydata.org/pandas-docs/stable/user_guide/indexing.html#returning-a-view-versus-a-copy\n",
      "  df[\"word_count\"] = df[\"tweet\"].str.split().str.len()\n"
     ]
    }
   ],
   "source": [
    "# Spalte: Tweet\n",
    "# Ansatz: prüfen, ob es Ausreißer bei der Länge und/oder bei der Wortzahl pro Tweets gibt\n",
    "df[\"char_count\"] = df[\"tweet\"].str.len()\n",
    "df[\"word_count\"] = df[\"tweet\"].str.split().str.len()\n",
    "df = df.reset_index(drop=True)"
   ]
  },
  {
   "cell_type": "code",
   "execution_count": 14,
   "metadata": {
    "collapsed": false,
    "ExecuteTime": {
     "end_time": "2024-10-17T18:04:20.682942100Z",
     "start_time": "2024-10-17T18:04:20.435057500Z"
    }
   },
   "outputs": [
    {
     "data": {
      "text/plain": "count    29530.000000\nmean        85.260921\nstd         29.891332\nmin         11.000000\n25%         63.000000\n50%         89.000000\n75%        108.000000\nmax        274.000000\nName: char_count, dtype: float64"
     },
     "execution_count": 14,
     "metadata": {},
     "output_type": "execute_result"
    }
   ],
   "source": [
    "df[\"char_count\"].describe()"
   ]
  },
  {
   "cell_type": "code",
   "execution_count": 15,
   "metadata": {
    "collapsed": false,
    "ExecuteTime": {
     "end_time": "2024-10-17T18:04:21.155971200Z",
     "start_time": "2024-10-17T18:04:20.466307300Z"
    }
   },
   "outputs": [
    {
     "data": {
      "text/plain": "Text(0, 0.5, 'Number of Tweets')"
     },
     "execution_count": 15,
     "metadata": {},
     "output_type": "execute_result"
    },
    {
     "data": {
      "text/plain": "<Figure size 640x480 with 1 Axes>",
      "image/png": "[encoded data removed]"
     },
     "metadata": {},
     "output_type": "display_data"
    }
   ],
   "source": [
    "sns.histplot(df[\"char_count\"])\n",
    "\n",
    "plt.title('Character Count of all Tweets')\n",
    "\n",
    "plt.xlabel('Character Count')\n",
    "plt.ylabel('Number of Tweets')"
   ]
  },
  {
   "cell_type": "code",
   "execution_count": 16,
   "metadata": {
    "collapsed": false,
    "ExecuteTime": {
     "end_time": "2024-10-17T18:04:21.322504500Z",
     "start_time": "2024-10-17T18:04:21.034582300Z"
    }
   },
   "outputs": [
    {
     "data": {
      "text/plain": "Text(0, 0.5, 'Character Count')"
     },
     "execution_count": 16,
     "metadata": {},
     "output_type": "execute_result"
    },
    {
     "data": {
      "text/plain": "<Figure size 640x480 with 1 Axes>",
      "image/png": "[encoded data removed]"
     },
     "metadata": {},
     "output_type": "display_data"
    }
   ],
   "source": [
    "sns.boxplot(df[\"char_count\"])\n",
    "\n",
    "plt.title('Distribution of Number of Characters per Tweet')\n",
    "\n",
    "plt.ylabel('Character Count')"
   ]
  },
  {
   "cell_type": "code",
   "execution_count": 17,
   "metadata": {
    "collapsed": false,
    "ExecuteTime": {
     "end_time": "2024-10-17T18:04:21.322504500Z",
     "start_time": "2024-10-17T18:04:21.257196700Z"
    }
   },
   "outputs": [
    {
     "data": {
      "text/plain": "count    29530.000000\nmean        13.255469\nstd          5.552220\nmin          3.000000\n25%          9.000000\n50%         13.000000\n75%         17.000000\nmax         34.000000\nName: word_count, dtype: float64"
     },
     "execution_count": 17,
     "metadata": {},
     "output_type": "execute_result"
    }
   ],
   "source": [
    "df[\"word_count\"].describe()"
   ]
  },
  {
   "cell_type": "code",
   "execution_count": 18,
   "metadata": {
    "collapsed": false,
    "ExecuteTime": {
     "end_time": "2024-10-17T18:04:21.820726300Z",
     "start_time": "2024-10-17T18:04:21.277378800Z"
    }
   },
   "outputs": [
    {
     "data": {
      "text/plain": "Text(0, 0.5, 'Number of Tweets')"
     },
     "execution_count": 18,
     "metadata": {},
     "output_type": "execute_result"
    },
    {
     "data": {
      "text/plain": "<Figure size 640x480 with 1 Axes>",
      "image/png": "[encoded data removed]"
     },
     "metadata": {},
     "output_type": "display_data"
    }
   ],
   "source": [
    "sns.histplot(df[\"word_count\"])\n",
    "\n",
    "plt.title('Count of Words of all Tweets')\n",
    "\n",
    "plt.xlabel('Word Count')\n",
    "plt.ylabel('Number of Tweets')"
   ]
  },
  {
   "cell_type": "code",
   "execution_count": 19,
   "metadata": {
    "collapsed": false,
    "ExecuteTime": {
     "end_time": "2024-10-17T18:04:22.038274300Z",
     "start_time": "2024-10-17T18:04:21.820726300Z"
    }
   },
   "outputs": [
    {
     "data": {
      "text/plain": "Text(0, 0.5, 'Number of Words')"
     },
     "execution_count": 19,
     "metadata": {},
     "output_type": "execute_result"
    },
    {
     "data": {
      "text/plain": "<Figure size 640x480 with 1 Axes>",
      "image/png": "[encoded data removed]"
     },
     "metadata": {},
     "output_type": "display_data"
    }
   ],
   "source": [
    "sns.boxplot(data=df[\"word_count\"])\n",
    "\n",
    "plt.title('Distribution of Words per Tweet')\n",
    "\n",
    "plt.ylabel('Number of Words')"
   ]
  },
  {
   "cell_type": "code",
   "execution_count": 20,
   "metadata": {
    "collapsed": false,
    "ExecuteTime": {
     "end_time": "2024-10-17T18:04:22.122906200Z",
     "start_time": "2024-10-17T18:04:22.022619200Z"
    }
   },
   "outputs": [],
   "source": [
    "# Ausreißer auf numerische Art bestimmen: 3 Standardabweichungen vom Mittelwert entfernt = Ausreißer\n",
    "def find_outlier(data):\n",
    "    for num_col in data.select_dtypes([\"number\"]).columns:\n",
    "        sd = data[num_col].std()\n",
    "        mean = data[num_col].mean()\n",
    "        result = [out for out in data[num_col] if (out > mean + 3 * sd) or (out < mean - 3 * sd)]\n",
    "        print()\n",
    "        print(\"Column: \", num_col)\n",
    "        print(\"Mean: \", mean, \"; Std: \", sd)\n",
    "        print(\"Outlier: \", len(result), \"; Values: \", sorted(result))"
   ]
  },
  {
   "cell_type": "code",
   "execution_count": 21,
   "metadata": {
    "collapsed": false,
    "ExecuteTime": {
     "end_time": "2024-10-17T18:04:22.122906200Z",
     "start_time": "2024-10-17T18:04:22.038274300Z"
    }
   },
   "outputs": [
    {
     "name": "stdout",
     "output_type": "stream",
     "text": [
      "\n",
      "Column:  char_count\n",
      "Mean:  85.2609210971893 ; Std:  29.8913316290497\n",
      "Outlier:  9 ; Values:  [177, 178, 180, 196, 199, 201, 203, 247, 274]\n",
      "\n",
      "Column:  word_count\n",
      "Mean:  13.255469014561463 ; Std:  5.55221975634696\n",
      "Outlier:  26 ; Values:  [30, 30, 30, 30, 30, 30, 30, 30, 30, 30, 30, 30, 30, 30, 30, 30, 30, 31, 31, 31, 31, 31, 31, 32, 32, 34]\n"
     ]
    }
   ],
   "source": [
    "find_outlier(df[[\"char_count\", \"word_count\"]])"
   ]
  },
  {
   "cell_type": "code",
   "execution_count": 22,
   "metadata": {
    "collapsed": false,
    "ExecuteTime": {
     "end_time": "2024-10-17T18:04:22.122906200Z",
     "start_time": "2024-10-17T18:04:22.085141100Z"
    }
   },
   "outputs": [
    {
     "data": {
      "text/plain": "       label  \\\n10651      0   \n11284      0   \n12682      0   \n13747      0   \n14303      0   \n17251      0   \n18495      0   \n24286      0   \n29092      0   \n\n                                                                                                                                                                                                                                                                                    tweet  \\\n10651                                                                              @user st lucia â¢ socafrenzy   ðð¿ðð¿ðð¿ â¢â¢â¢â¢â¢â¢â¢â¢â¢â¢â¢â¢â¢â¢â¢â¢â¢â¢â¢â¢â¢â¢â¢â¢â¢â¢â¢â¢â¢â¢â¢â¢â¢â¢â¢â¢â¢â¢â¢â¢â¢ #dj #djlife  â¦    \n11284                                                                                                  oasis parkð¤bbq canvasâ³â³âµâ³âµ ððªð³ð¼ðð³ð¶ð½ð ðð¹ð¨ð»ð©ð»ð¶ðµðð â ðð¶ð¯ â #japan #gifu #dayoff #chill   #loveâ¦    \n12682                             awesom beautiful wonderfulððððððððððððð±ð±ð±ð±ð±ð±ðððððððððððððððððððððððððððððððððð»ð»ð»ð»    \n13747                                                                                                 @user âï¸ï¸ð¸donald trump âï¸ð¸was right again âï¸ð¸ð¨la razað¨ judge ð¨biasedð¨ âï¸ð¸weâ¤ï¸trump âï¸ð¸monday speech âï¸ð¸will be awesome    \n14303                                                                                                   happy fasting,happy saturday, happy weekend happy holiday,always be happy everyday âðððððððð #days13 #ramadan   ð³ðð¸ #morn #pagi ðâ¤ #2 #am   \n17251                                                                          @user rotterdam â¢ socafrenzy â¢  ðð¿ðð¿ðð¿ â¢â¢â¢â¢â¢â¢â¢â¢â¢â¢â¢â¢â¢â¢â¢â¢â¢â¢â¢â¢â¢â¢â¢â¢â¢â¢â¢â¢â¢â¢â¢â¢â¢â¢â¢â¢â¢â¢â¢â¢â¢ #dj #djlife  â¦    \n18495   @user lmfao pathetic #soit   #growup #funny #noonethere #iknowwhoitis ðððððððððððð¤ð¤ð¤ð¤ð¤ð¤ð¤ð¤ð¤ð¤ð¤ð¤ð±ð±ð¤ð¤ð±ð¤ð¤ð¤ð¤ð¤ð¤ð¤ð¤ð¤ð¤ð¤ð¤ð¤ð¤ð¤ðððððððâ¦   \n24286                                                                                rotterdam â¢ socafrenzy â¢  ðð¿ðð¿ðð¿ â¢â¢â¢â¢â¢â¢â¢â¢â¢â¢â¢â¢â¢â¢â¢â¢â¢â¢â¢â¢â¢â¢â¢â¢â¢â¢â¢â¢â¢â¢â¢â¢â¢â¢â¢â¢â¢â¢â¢â¢â¢ #dj #djlife  â¦    \n29092                                                                           &gt;&gt;&gt;&gt;&gt;&gt;&gt;&gt;&gt;&gt;&gt;&gt;&gt;&gt;&gt;&gt;&gt;&gt;&gt;&gt;&gt;&gt;&gt;&gt;&gt;&gt;&gt;&gt;&gt;&gt;&gt;&gt;&gt;&gt;&gt;&gt; #äºå®®åä¹   bihday #to #you #æãå«ã¹ #33æ­³â¦    \n\n       char_count  word_count  \n10651         199          10  \n11284         178          13  \n12682         247           3  \n13747         180          16  \n14303         177          19  \n17251         203          10  \n18495         274           9  \n24286         196           9  \n29092         201           7  ",
      "text/html": "<div>\n<style scoped>\n    .dataframe tbody tr th:only-of-type {\n        vertical-align: middle;\n    }\n\n    .dataframe tbody tr th {\n        vertical-align: top;\n    }\n\n    .dataframe thead th {\n        text-align: right;\n    }\n</style>\n<table border=\"1\" class=\"dataframe\">\n  <thead>\n    <tr style=\"text-align: right;\">\n      <th></th>\n      <th>label</th>\n      <th>tweet</th>\n      <th>char_count</th>\n      <th>word_count</th>\n    </tr>\n  </thead>\n  <tbody>\n    <tr>\n      <th>10651</th>\n      <td>0</td>\n      <td>@user st lucia â¢ socafrenzy   ðð¿ðð¿ðð¿ â¢â¢â¢â¢â¢â¢â¢â¢â¢â¢â¢â¢â¢â¢â¢â¢â¢â¢â¢â¢â¢â¢â¢â¢â¢â¢â¢â¢â¢â¢â¢â¢â¢â¢â¢â¢â¢â¢â¢â¢â¢ #dj #djlife  â¦</td>\n      <td>199</td>\n      <td>10</td>\n    </tr>\n    <tr>\n      <th>11284</th>\n      <td>0</td>\n      <td>oasis parkð¤bbq canvasâ³â³âµâ³âµ ððªð³ð¼ðð³ð¶ð½ð ðð¹ð¨ð»ð©ð»ð¶ðµðð â ðð¶ð¯ â #japan #gifu #dayoff #chill   #loveâ¦</td>\n      <td>178</td>\n      <td>13</td>\n    </tr>\n    <tr>\n      <th>12682</th>\n      <td>0</td>\n      <td>awesom beautiful wonderfulððððððððððððð±ð±ð±ð±ð±ð±ðððððððððððððððððððððððððððððððððð»ð»ð»ð»</td>\n      <td>247</td>\n      <td>3</td>\n    </tr>\n    <tr>\n      <th>13747</th>\n      <td>0</td>\n      <td>@user âï¸ï¸ð¸donald trump âï¸ð¸was right again âï¸ð¸ð¨la razað¨ judge ð¨biasedð¨ âï¸ð¸weâ¤ï¸trump âï¸ð¸monday speech âï¸ð¸will be awesome</td>\n      <td>180</td>\n      <td>16</td>\n    </tr>\n    <tr>\n      <th>14303</th>\n      <td>0</td>\n      <td>happy fasting,happy saturday, happy weekend happy holiday,always be happy everyday âðððððððð #days13 #ramadan   ð³ðð¸ #morn #pagi ðâ¤ #2 #am</td>\n      <td>177</td>\n      <td>19</td>\n    </tr>\n    <tr>\n      <th>17251</th>\n      <td>0</td>\n      <td>@user rotterdam â¢ socafrenzy â¢  ðð¿ðð¿ðð¿ â¢â¢â¢â¢â¢â¢â¢â¢â¢â¢â¢â¢â¢â¢â¢â¢â¢â¢â¢â¢â¢â¢â¢â¢â¢â¢â¢â¢â¢â¢â¢â¢â¢â¢â¢â¢â¢â¢â¢â¢â¢ #dj #djlife  â¦</td>\n      <td>203</td>\n      <td>10</td>\n    </tr>\n    <tr>\n      <th>18495</th>\n      <td>0</td>\n      <td>@user lmfao pathetic #soit   #growup #funny #noonethere #iknowwhoitis ðððððððððððð¤ð¤ð¤ð¤ð¤ð¤ð¤ð¤ð¤ð¤ð¤ð¤ð±ð±ð¤ð¤ð±ð¤ð¤ð¤ð¤ð¤ð¤ð¤ð¤ð¤ð¤ð¤ð¤ð¤ð¤ð¤ðððððððâ¦</td>\n      <td>274</td>\n      <td>9</td>\n    </tr>\n    <tr>\n      <th>24286</th>\n      <td>0</td>\n      <td>rotterdam â¢ socafrenzy â¢  ðð¿ðð¿ðð¿ â¢â¢â¢â¢â¢â¢â¢â¢â¢â¢â¢â¢â¢â¢â¢â¢â¢â¢â¢â¢â¢â¢â¢â¢â¢â¢â¢â¢â¢â¢â¢â¢â¢â¢â¢â¢â¢â¢â¢â¢â¢ #dj #djlife  â¦</td>\n      <td>196</td>\n      <td>9</td>\n    </tr>\n    <tr>\n      <th>29092</th>\n      <td>0</td>\n      <td>&amp;gt;&amp;gt;&amp;gt;&amp;gt;&amp;gt;&amp;gt;&amp;gt;&amp;gt;&amp;gt;&amp;gt;&amp;gt;&amp;gt;&amp;gt;&amp;gt;&amp;gt;&amp;gt;&amp;gt;&amp;gt;&amp;gt;&amp;gt;&amp;gt;&amp;gt;&amp;gt;&amp;gt;&amp;gt;&amp;gt;&amp;gt;&amp;gt;&amp;gt;&amp;gt;&amp;gt;&amp;gt;&amp;gt;&amp;gt;&amp;gt;&amp;gt; #äºå®®åä¹   bihday #to #you #æãå«ã¹ #33æ­³â¦</td>\n      <td>201</td>\n      <td>7</td>\n    </tr>\n  </tbody>\n</table>\n</div>"
     },
     "execution_count": 22,
     "metadata": {},
     "output_type": "execute_result"
    }
   ],
   "source": [
    "df[df[\"char_count\"] >= 177]"
   ]
  },
  {
   "cell_type": "code",
   "execution_count": 23,
   "metadata": {
    "collapsed": false,
    "ExecuteTime": {
     "end_time": "2024-10-17T18:04:22.122906200Z",
     "start_time": "2024-10-17T18:04:22.100774Z"
    }
   },
   "outputs": [
    {
     "data": {
      "text/plain": "       label  \\\n227        1   \n362        0   \n1683       0   \n2127       0   \n5564       0   \n7558       0   \n10970      0   \n11477      0   \n14833      0   \n15320      0   \n15531      0   \n17679      0   \n20295      0   \n20380      0   \n20588      0   \n20976      0   \n22844      0   \n22908      0   \n23693      0   \n23827      0   \n24536      0   \n26375      0   \n26518      0   \n28118      0   \n28265      0   \n28670      0   \n\n                                                                                                                                                         tweet  \\\n227                      if you hold open a door for a woman because she's a woman and not because it's a nice thing to do, that's . don't even try to deny it   \n362                         anas + nimra + farishta + mawia + khushal  960 + 952 + 503 + 484 + 435 = 3334   the number of marks obtained is too damn high   :p   \n1683                   @user this summer is about to be crazy. i can already tell i'm going to have to stay out the way, and not show my face at too many eâ¦   \n2127                          father's day # i m really vry lucky to hav u as my dad... u r my frnd my strength... n thank u for alywys suppobg me. luv u papa   \n5564                   one exam :d even though i woke up at 5 to get my ass to an exam on time im not tired. is it the #cold or am i just   for it to end?ð   \n7558       can't wait anymore ! ðð only a day left ! ðð @user ð well nt even tht ! it's 22 hrs 46 mins still !  ð can't control me now  ð   \n10970                  @ a bar to watch the cavs and a guy hid something under his arm weirdly, so the baender asked him to show it, def scared it was a gun     \n11477        life is what u make of it &amp; i choose 2 make mine a happy one, full of fun &amp; laughter n u r more than welcome 2 join me ð   #lovemylife   \n14833                    i'm just say i have a girlfriend and see how savage some of y'all really are . . . cause in 2016 . . . y'all really don't give. . .     \n15320              i needed money for parking but i only have my card so i looked on my car floor and came up w 3$ in change easy . i needa clean my carð©     \n15531                    : guy just ask me for some change. after i gave him what was in my pocket he lit a cigarette as i walked off. cigs in aus nearly $1ea   \n17679                                                            â¢ h a p p y    m o n d a y â¢ ð  - f e l i z     l u n e s - ð¤  #monday   day @user    \n20295                be   n #healthy if a man can bridge the gap between life and death, if he can live on after he's dead, then maybe he was a great man. â¦   \n20380                       i am happy that i get 2 b back at home with my family. my passion is 2 take care of them &amp; b there for my husband &amp; kids     \n20588                     me and @user mr nura were in the same cds group and i still do have his gift given to us by nysc. may his soul rest in peace   #nura   \n20976                   @user i had a dream we went skiing, but we never made it out of the lodge. then i woke up and realized it's june and skiing is 6 moâ¦   \n22844       went to #mcdonalds this morning &amp; a staff came by &amp; asked me if i m a blogger. i said yes. he said he saw my tweets &amp; i m everywhere     \n22908                i had a dream we went skiing, but we never made it out of the lodge. then i woke up and realized it's june and skiing is 6 months away.     \n23693                    tonight im about to cry because im 10 you have to be 15 to skrillex is conce and by the time im 15 he'll be 33 he might not contine     \n23827         shid to some dudes , they dont care if you loyal or not ðð¾ as long as they dip in different hoes pussy from time to time. they good ð     \n24536                     fo u eva have days where u cnt #shake off the #mood ur in ð  i have no idea y haha just v   grrr approach with caution i may bite!   \n26375   i'm   &amp; #unhappy at the same time i care &amp; don't care about you n between times i love you &amp; never stop loving you b4 your time was upð¼   \n26518                    do i have that much of an impact on your life that you go to the extreme of blocking me ! how about don't add me in the first place     \n28118                  i wonder why we bothered moving bk to essex?! no1 eva comes to see us, no1 eva asks me to go out at least in kent i did my own thing!     \n28265  #tuesdaymotivation the truth about being   or $ back. #success  â¦ â¦ â¦ â¦ â¦ â¦ â¦ â¦ â¦ â¦ â¦ â¦ â¦ â¦ â¦ â¦ â¦ â¦ â¦ â¦ â¦ â¦   \n28670       even when i don't know how to apply make up to my face i look better than u and ur a mua u wear make up daily.   #sigh #awwell ð\nððâð   \n\n       char_count  word_count  \n227           133          30  \n362           130          30  \n1683          136          30  \n2127          130          30  \n5564          135          34  \n7558          147          31  \n10970         135          30  \n11477         145          32  \n14833         133          31  \n15320         139          32  \n15531         134          30  \n17679          93          30  \n20295         137          30  \n20380         130          30  \n20588         132          30  \n20976         135          30  \n22844         146          31  \n22908         137          30  \n23693         133          30  \n23827         144          30  \n24536         132          30  \n26375         150          30  \n26518         133          30  \n28118         135          31  \n28265         151          31  \n28670         146          31  ",
      "text/html": "<div>\n<style scoped>\n    .dataframe tbody tr th:only-of-type {\n        vertical-align: middle;\n    }\n\n    .dataframe tbody tr th {\n        vertical-align: top;\n    }\n\n    .dataframe thead th {\n        text-align: right;\n    }\n</style>\n<table border=\"1\" class=\"dataframe\">\n  <thead>\n    <tr style=\"text-align: right;\">\n      <th></th>\n      <th>label</th>\n      <th>tweet</th>\n      <th>char_count</th>\n      <th>word_count</th>\n    </tr>\n  </thead>\n  <tbody>\n    <tr>\n      <th>227</th>\n      <td>1</td>\n      <td>if you hold open a door for a woman because she's a woman and not because it's a nice thing to do, that's . don't even try to deny it</td>\n      <td>133</td>\n      <td>30</td>\n    </tr>\n    <tr>\n      <th>362</th>\n      <td>0</td>\n      <td>anas + nimra + farishta + mawia + khushal  960 + 952 + 503 + 484 + 435 = 3334   the number of marks obtained is too damn high   :p</td>\n      <td>130</td>\n      <td>30</td>\n    </tr>\n    <tr>\n      <th>1683</th>\n      <td>0</td>\n      <td>@user this summer is about to be crazy. i can already tell i'm going to have to stay out the way, and not show my face at too many eâ¦</td>\n      <td>136</td>\n      <td>30</td>\n    </tr>\n    <tr>\n      <th>2127</th>\n      <td>0</td>\n      <td>father's day # i m really vry lucky to hav u as my dad... u r my frnd my strength... n thank u for alywys suppobg me. luv u papa</td>\n      <td>130</td>\n      <td>30</td>\n    </tr>\n    <tr>\n      <th>5564</th>\n      <td>0</td>\n      <td>one exam :d even though i woke up at 5 to get my ass to an exam on time im not tired. is it the #cold or am i just   for it to end?ð</td>\n      <td>135</td>\n      <td>34</td>\n    </tr>\n    <tr>\n      <th>7558</th>\n      <td>0</td>\n      <td>can't wait anymore ! ðð only a day left ! ðð @user ð well nt even tht ! it's 22 hrs 46 mins still !  ð can't control me now  ð</td>\n      <td>147</td>\n      <td>31</td>\n    </tr>\n    <tr>\n      <th>10970</th>\n      <td>0</td>\n      <td>@ a bar to watch the cavs and a guy hid something under his arm weirdly, so the baender asked him to show it, def scared it was a gun</td>\n      <td>135</td>\n      <td>30</td>\n    </tr>\n    <tr>\n      <th>11477</th>\n      <td>0</td>\n      <td>life is what u make of it &amp;amp; i choose 2 make mine a happy one, full of fun &amp;amp; laughter n u r more than welcome 2 join me ð   #lovemylife</td>\n      <td>145</td>\n      <td>32</td>\n    </tr>\n    <tr>\n      <th>14833</th>\n      <td>0</td>\n      <td>i'm just say i have a girlfriend and see how savage some of y'all really are . . . cause in 2016 . . . y'all really don't give. . .</td>\n      <td>133</td>\n      <td>31</td>\n    </tr>\n    <tr>\n      <th>15320</th>\n      <td>0</td>\n      <td>i needed money for parking but i only have my card so i looked on my car floor and came up w 3$ in change easy . i needa clean my carð©</td>\n      <td>139</td>\n      <td>32</td>\n    </tr>\n    <tr>\n      <th>15531</th>\n      <td>0</td>\n      <td>: guy just ask me for some change. after i gave him what was in my pocket he lit a cigarette as i walked off. cigs in aus nearly $1ea</td>\n      <td>134</td>\n      <td>30</td>\n    </tr>\n    <tr>\n      <th>17679</th>\n      <td>0</td>\n      <td>â¢ h a p p y    m o n d a y â¢ ð  - f e l i z     l u n e s - ð¤  #monday   day @user</td>\n      <td>93</td>\n      <td>30</td>\n    </tr>\n    <tr>\n      <th>20295</th>\n      <td>0</td>\n      <td>be   n #healthy if a man can bridge the gap between life and death, if he can live on after he's dead, then maybe he was a great man. â¦</td>\n      <td>137</td>\n      <td>30</td>\n    </tr>\n    <tr>\n      <th>20380</th>\n      <td>0</td>\n      <td>i am happy that i get 2 b back at home with my family. my passion is 2 take care of them &amp;amp; b there for my husband &amp;amp; kids</td>\n      <td>130</td>\n      <td>30</td>\n    </tr>\n    <tr>\n      <th>20588</th>\n      <td>0</td>\n      <td>me and @user mr nura were in the same cds group and i still do have his gift given to us by nysc. may his soul rest in peace   #nura</td>\n      <td>132</td>\n      <td>30</td>\n    </tr>\n    <tr>\n      <th>20976</th>\n      <td>0</td>\n      <td>@user i had a dream we went skiing, but we never made it out of the lodge. then i woke up and realized it's june and skiing is 6 moâ¦</td>\n      <td>135</td>\n      <td>30</td>\n    </tr>\n    <tr>\n      <th>22844</th>\n      <td>0</td>\n      <td>went to #mcdonalds this morning &amp;amp; a staff came by &amp;amp; asked me if i m a blogger. i said yes. he said he saw my tweets &amp;amp; i m everywhere</td>\n      <td>146</td>\n      <td>31</td>\n    </tr>\n    <tr>\n      <th>22908</th>\n      <td>0</td>\n      <td>i had a dream we went skiing, but we never made it out of the lodge. then i woke up and realized it's june and skiing is 6 months away.</td>\n      <td>137</td>\n      <td>30</td>\n    </tr>\n    <tr>\n      <th>23693</th>\n      <td>0</td>\n      <td>tonight im about to cry because im 10 you have to be 15 to skrillex is conce and by the time im 15 he'll be 33 he might not contine</td>\n      <td>133</td>\n      <td>30</td>\n    </tr>\n    <tr>\n      <th>23827</th>\n      <td>0</td>\n      <td>shid to some dudes , they dont care if you loyal or not ðð¾ as long as they dip in different hoes pussy from time to time. they good ð</td>\n      <td>144</td>\n      <td>30</td>\n    </tr>\n    <tr>\n      <th>24536</th>\n      <td>0</td>\n      <td>fo u eva have days where u cnt #shake off the #mood ur in ð  i have no idea y haha just v   grrr approach with caution i may bite!</td>\n      <td>132</td>\n      <td>30</td>\n    </tr>\n    <tr>\n      <th>26375</th>\n      <td>0</td>\n      <td>i'm   &amp;amp; #unhappy at the same time i care &amp;amp; don't care about you n between times i love you &amp;amp; never stop loving you b4 your time was upð¼</td>\n      <td>150</td>\n      <td>30</td>\n    </tr>\n    <tr>\n      <th>26518</th>\n      <td>0</td>\n      <td>do i have that much of an impact on your life that you go to the extreme of blocking me ! how about don't add me in the first place</td>\n      <td>133</td>\n      <td>30</td>\n    </tr>\n    <tr>\n      <th>28118</th>\n      <td>0</td>\n      <td>i wonder why we bothered moving bk to essex?! no1 eva comes to see us, no1 eva asks me to go out at least in kent i did my own thing!</td>\n      <td>135</td>\n      <td>31</td>\n    </tr>\n    <tr>\n      <th>28265</th>\n      <td>0</td>\n      <td>#tuesdaymotivation the truth about being   or $ back. #success  â¦ â¦ â¦ â¦ â¦ â¦ â¦ â¦ â¦ â¦ â¦ â¦ â¦ â¦ â¦ â¦ â¦ â¦ â¦ â¦ â¦ â¦</td>\n      <td>151</td>\n      <td>31</td>\n    </tr>\n    <tr>\n      <th>28670</th>\n      <td>0</td>\n      <td>even when i don't know how to apply make up to my face i look better than u and ur a mua u wear make up daily.   #sigh #awwell ðððâð</td>\n      <td>146</td>\n      <td>31</td>\n    </tr>\n  </tbody>\n</table>\n</div>"
     },
     "execution_count": 23,
     "metadata": {},
     "output_type": "execute_result"
    }
   ],
   "source": [
    "df[df[\"word_count\"] >= 30]"
   ]
  },
  {
   "cell_type": "markdown",
   "metadata": {
    "collapsed": false
   },
   "source": [
    "=> Strategie: Einträge droppen, um ML Modelle nicht durch Ausreißer zu beeinflussen (bei DeepLearning-Modellen tendenziell irrelevant)"
   ]
  },
  {
   "cell_type": "code",
   "execution_count": 24,
   "metadata": {
    "collapsed": false,
    "ExecuteTime": {
     "end_time": "2024-10-17T18:04:22.138549900Z",
     "start_time": "2024-10-17T18:04:22.116389700Z"
    }
   },
   "outputs": [
    {
     "data": {
      "text/plain": "Empty DataFrame\nColumns: [label, tweet, char_count, word_count]\nIndex: []",
      "text/html": "<div>\n<style scoped>\n    .dataframe tbody tr th:only-of-type {\n        vertical-align: middle;\n    }\n\n    .dataframe tbody tr th {\n        vertical-align: top;\n    }\n\n    .dataframe thead th {\n        text-align: right;\n    }\n</style>\n<table border=\"1\" class=\"dataframe\">\n  <thead>\n    <tr style=\"text-align: right;\">\n      <th></th>\n      <th>label</th>\n      <th>tweet</th>\n      <th>char_count</th>\n      <th>word_count</th>\n    </tr>\n  </thead>\n  <tbody>\n  </tbody>\n</table>\n</div>"
     },
     "execution_count": 24,
     "metadata": {},
     "output_type": "execute_result"
    }
   ],
   "source": [
    "df = df[df[\"char_count\"] < 177]\n",
    "df[df[\"char_count\"] >= 177]"
   ]
  },
  {
   "cell_type": "code",
   "execution_count": 25,
   "metadata": {
    "collapsed": false,
    "ExecuteTime": {
     "end_time": "2024-10-17T18:04:22.238838100Z",
     "start_time": "2024-10-17T18:04:22.138549900Z"
    }
   },
   "outputs": [
    {
     "data": {
      "text/plain": "Empty DataFrame\nColumns: [label, tweet, char_count, word_count]\nIndex: []",
      "text/html": "<div>\n<style scoped>\n    .dataframe tbody tr th:only-of-type {\n        vertical-align: middle;\n    }\n\n    .dataframe tbody tr th {\n        vertical-align: top;\n    }\n\n    .dataframe thead th {\n        text-align: right;\n    }\n</style>\n<table border=\"1\" class=\"dataframe\">\n  <thead>\n    <tr style=\"text-align: right;\">\n      <th></th>\n      <th>label</th>\n      <th>tweet</th>\n      <th>char_count</th>\n      <th>word_count</th>\n    </tr>\n  </thead>\n  <tbody>\n  </tbody>\n</table>\n</div>"
     },
     "execution_count": 25,
     "metadata": {},
     "output_type": "execute_result"
    }
   ],
   "source": [
    "df = df[df[\"word_count\"] < 30]\n",
    "df[df[\"word_count\"] >= 30]"
   ]
  },
  {
   "cell_type": "code",
   "execution_count": 26,
   "metadata": {
    "collapsed": false,
    "ExecuteTime": {
     "end_time": "2024-10-17T18:04:22.270089800Z",
     "start_time": "2024-10-17T18:04:22.154175400Z"
    }
   },
   "outputs": [],
   "source": [
    "# df.drop(['Char_Count', 'Word_Count'], axis=1, inplace=True)"
   ]
  },
  {
   "cell_type": "markdown",
   "metadata": {
    "collapsed": false
   },
   "source": [
    "## Datensatz nach Bereinigung"
   ]
  },
  {
   "cell_type": "code",
   "execution_count": 27,
   "metadata": {
    "collapsed": false,
    "ExecuteTime": {
     "end_time": "2024-10-17T18:04:22.439424700Z",
     "start_time": "2024-10-17T18:04:22.169800800Z"
    }
   },
   "outputs": [
    {
     "name": "stdout",
     "output_type": "stream",
     "text": [
      "label         29495\n",
      "tweet         29495\n",
      "char_count    29495\n",
      "word_count    29495\n",
      "dtype: int64\n",
      "label    31962\n",
      "tweet    31962\n",
      "dtype: int64\n",
      "char_count       NaN\n",
      "label        -2467.0\n",
      "tweet        -2467.0\n",
      "word_count       NaN\n",
      "dtype: float64\n",
      "char_count         NaN\n",
      "label        -0.077185\n",
      "tweet        -0.077185\n",
      "word_count         NaN\n",
      "dtype: float64\n"
     ]
    }
   ],
   "source": [
    "print(df.count())\n",
    "print(df_raw_train.count())\n",
    "print(df.count() - df_raw_train.count())\n",
    "print(df.count() / df_raw_train.count() - 1)"
   ]
  },
  {
   "cell_type": "markdown",
   "metadata": {
    "collapsed": false
   },
   "source": [
    "## Check Val/Test-Data"
   ]
  },
  {
   "cell_type": "code",
   "execution_count": 28,
   "metadata": {
    "collapsed": false,
    "ExecuteTime": {
     "end_time": "2024-10-17T18:04:22.439424700Z",
     "start_time": "2024-10-17T18:04:22.216675900Z"
    }
   },
   "outputs": [],
   "source": [
    "# df_val_raw = pd.read_csv(\"C:\\\\Users\\\\admin\\\\PycharmProjects\\\\WebScience24\\\\data\\\\twitter_hate-speech\\\\test.csv\", index_col=0)\n",
    "# TODO"
   ]
  },
  {
   "cell_type": "markdown",
   "metadata": {
    "collapsed": false
   },
   "source": [
    "## Save cleaned Data"
   ]
  },
  {
   "cell_type": "code",
   "execution_count": 29,
   "metadata": {
    "collapsed": false,
    "ExecuteTime": {
     "end_time": "2024-10-17T18:04:22.470679600Z",
     "start_time": "2024-10-17T18:04:22.238838100Z"
    }
   },
   "outputs": [],
   "source": [
    "filepath = Path(\"data/train_cleaned.csv\")\n",
    "filepath.parent.mkdir(parents=True, exist_ok=True)"
   ]
  },
  {
   "cell_type": "code",
   "execution_count": 30,
   "metadata": {
    "collapsed": false,
    "ExecuteTime": {
     "end_time": "2024-10-17T18:04:22.602209600Z",
     "start_time": "2024-10-17T18:04:22.254462200Z"
    }
   },
   "outputs": [],
   "source": [
    "df.to_csv(filepath)"
   ]
  },
  {
   "cell_type": "markdown",
   "metadata": {
    "collapsed": false
   },
   "source": [
    "# EDA"
   ]
  },
  {
   "cell_type": "code",
   "execution_count": 31,
   "metadata": {
    "collapsed": false,
    "ExecuteTime": {
     "end_time": "2024-10-17T18:04:22.655661Z",
     "start_time": "2024-10-17T18:04:22.417251300Z"
    }
   },
   "outputs": [
    {
     "name": "stdout",
     "output_type": "stream",
     "text": [
      "<class 'pandas.core.frame.DataFrame'>\n",
      "Int64Index: 29495 entries, 0 to 29529\n",
      "Data columns (total 4 columns):\n",
      " #   Column      Non-Null Count  Dtype \n",
      "---  ------      --------------  ----- \n",
      " 0   label       29495 non-null  int64 \n",
      " 1   tweet       29495 non-null  object\n",
      " 2   char_count  29495 non-null  int64 \n",
      " 3   word_count  29495 non-null  int64 \n",
      "dtypes: int64(3), object(1)\n",
      "memory usage: 1.1+ MB\n"
     ]
    }
   ],
   "source": [
    "df.info()"
   ]
  },
  {
   "cell_type": "code",
   "execution_count": 32,
   "metadata": {
    "collapsed": false,
    "ExecuteTime": {
     "end_time": "2024-10-17T18:04:22.655661Z",
     "start_time": "2024-10-17T18:04:22.439424700Z"
    }
   },
   "outputs": [
    {
     "data": {
      "text/plain": "              label    char_count    word_count\ncount  29495.000000  29495.000000  29495.000000\nmean       0.068215     85.179488     13.241024\nstd        0.252119     29.789917      5.530933\nmin        0.000000     11.000000      3.000000\n25%        0.000000     63.000000      9.000000\n50%        0.000000     89.000000     13.000000\n75%        0.000000    108.000000     17.000000\nmax        1.000000    174.000000     29.000000",
      "text/html": "<div>\n<style scoped>\n    .dataframe tbody tr th:only-of-type {\n        vertical-align: middle;\n    }\n\n    .dataframe tbody tr th {\n        vertical-align: top;\n    }\n\n    .dataframe thead th {\n        text-align: right;\n    }\n</style>\n<table border=\"1\" class=\"dataframe\">\n  <thead>\n    <tr style=\"text-align: right;\">\n      <th></th>\n      <th>label</th>\n      <th>char_count</th>\n      <th>word_count</th>\n    </tr>\n  </thead>\n  <tbody>\n    <tr>\n      <th>count</th>\n      <td>29495.000000</td>\n      <td>29495.000000</td>\n      <td>29495.000000</td>\n    </tr>\n    <tr>\n      <th>mean</th>\n      <td>0.068215</td>\n      <td>85.179488</td>\n      <td>13.241024</td>\n    </tr>\n    <tr>\n      <th>std</th>\n      <td>0.252119</td>\n      <td>29.789917</td>\n      <td>5.530933</td>\n    </tr>\n    <tr>\n      <th>min</th>\n      <td>0.000000</td>\n      <td>11.000000</td>\n      <td>3.000000</td>\n    </tr>\n    <tr>\n      <th>25%</th>\n      <td>0.000000</td>\n      <td>63.000000</td>\n      <td>9.000000</td>\n    </tr>\n    <tr>\n      <th>50%</th>\n      <td>0.000000</td>\n      <td>89.000000</td>\n      <td>13.000000</td>\n    </tr>\n    <tr>\n      <th>75%</th>\n      <td>0.000000</td>\n      <td>108.000000</td>\n      <td>17.000000</td>\n    </tr>\n    <tr>\n      <th>max</th>\n      <td>1.000000</td>\n      <td>174.000000</td>\n      <td>29.000000</td>\n    </tr>\n  </tbody>\n</table>\n</div>"
     },
     "execution_count": 32,
     "metadata": {},
     "output_type": "execute_result"
    }
   ],
   "source": [
    "df.describe()"
   ]
  },
  {
   "cell_type": "markdown",
   "metadata": {
    "collapsed": false
   },
   "source": [
    "## Korrelationsanalyse"
   ]
  },
  {
   "cell_type": "code",
   "execution_count": 33,
   "metadata": {
    "collapsed": false,
    "ExecuteTime": {
     "end_time": "2024-10-17T18:04:22.871860700Z",
     "start_time": "2024-10-17T18:04:22.470679600Z"
    }
   },
   "outputs": [
    {
     "data": {
      "text/plain": "<Axes: >"
     },
     "execution_count": 33,
     "metadata": {},
     "output_type": "execute_result"
    },
    {
     "data": {
      "text/plain": "<Figure size 640x480 with 2 Axes>",
      "image/png": "[encoded data removed]"
     },
     "metadata": {},
     "output_type": "display_data"
    }
   ],
   "source": [
    "sns.heatmap(df.corr(numeric_only=True), annot=True, vmin=-1, vmax=1, cmap=\"coolwarm\")"
   ]
  },
  {
   "cell_type": "code",
   "execution_count": 34,
   "metadata": {
    "collapsed": false,
    "ExecuteTime": {
     "end_time": "2024-10-17T18:04:22.871860700Z",
     "start_time": "2024-10-17T18:04:22.787191400Z"
    }
   },
   "outputs": [
    {
     "data": {
      "text/plain": "label         1.000000\nchar_count    0.056464\nword_count    0.052569\nName: label, dtype: float64"
     },
     "execution_count": 34,
     "metadata": {},
     "output_type": "execute_result"
    }
   ],
   "source": [
    "target_corr = df.corr(numeric_only=True)[\"label\"]\n",
    "target_corr.abs().sort_values(ascending=False)"
   ]
  },
  {
   "cell_type": "markdown",
   "metadata": {
    "collapsed": false
   },
   "source": [
    "Korrelationsanalyse feature<->target => keine originären numerischen Werte, bei den erzeugten numerischen Werten keine nennenswerte Korrelation erkennbar"
   ]
  },
  {
   "cell_type": "markdown",
   "metadata": {
    "collapsed": false
   },
   "source": [
    "## Targetanalyse"
   ]
  },
  {
   "cell_type": "code",
   "execution_count": 35,
   "metadata": {
    "collapsed": false,
    "ExecuteTime": {
     "end_time": "2024-10-17T18:04:22.871860700Z",
     "start_time": "2024-10-17T18:04:22.824964500Z"
    }
   },
   "outputs": [
    {
     "data": {
      "text/plain": "0    27483\n1     2012\nName: label, dtype: int64"
     },
     "execution_count": 35,
     "metadata": {},
     "output_type": "execute_result"
    }
   ],
   "source": [
    "df[\"label\"].value_counts()"
   ]
  },
  {
   "cell_type": "markdown",
   "metadata": {
    "collapsed": false
   },
   "source": [
    "## Featureanalyse"
   ]
  },
  {
   "cell_type": "code",
   "execution_count": 36,
   "metadata": {
    "collapsed": false,
    "ExecuteTime": {
     "end_time": "2024-10-17T18:04:23.267158200Z",
     "start_time": "2024-10-17T18:04:22.824964500Z"
    }
   },
   "outputs": [
    {
     "data": {
      "text/plain": "<Axes: xlabel='word_count', ylabel='Count'>"
     },
     "execution_count": 36,
     "metadata": {},
     "output_type": "execute_result"
    },
    {
     "data": {
      "text/plain": "<Figure size 640x480 with 1 Axes>",
      "image/png": "[encoded data removed]"
     },
     "metadata": {},
     "output_type": "display_data"
    }
   ],
   "source": [
    "# Feature: Tweet\n",
    "sns.histplot(df[\"word_count\"])"
   ]
  },
  {
   "cell_type": "code",
   "execution_count": 37,
   "metadata": {
    "collapsed": false,
    "ExecuteTime": {
     "end_time": "2024-10-17T18:04:23.754165400Z",
     "start_time": "2024-10-17T18:04:23.259101900Z"
    }
   },
   "outputs": [
    {
     "data": {
      "text/plain": "<Axes: xlabel='char_count', ylabel='Count'>"
     },
     "execution_count": 37,
     "metadata": {},
     "output_type": "execute_result"
    },
    {
     "data": {
      "text/plain": "<Figure size 640x480 with 1 Axes>",
      "image/png": "[encoded data removed]"
     },
     "metadata": {},
     "output_type": "display_data"
    }
   ],
   "source": [
    "sns.histplot(df[\"char_count\"])"
   ]
  },
  {
   "cell_type": "markdown",
   "metadata": {
    "collapsed": false
   },
   "source": [
    "## Feature x Target"
   ]
  },
  {
   "cell_type": "code",
   "execution_count": 38,
   "metadata": {
    "collapsed": false,
    "ExecuteTime": {
     "end_time": "2024-10-17T18:04:24.830385300Z",
     "start_time": "2024-10-17T18:04:23.754165400Z"
    }
   },
   "outputs": [
    {
     "data": {
      "text/plain": "<Figure size 1500x800 with 2 Axes>",
      "image/png": "[encoded data removed]"
     },
     "metadata": {},
     "output_type": "display_data"
    }
   ],
   "source": [
    "#Character Count\n",
    "\n",
    "fig, (ax1, ax2) = plt.subplots(1, 2, figsize=(15, 8))\n",
    "\n",
    "# Positive Tweets\n",
    "ax1.hist(df[df['label'] == 0]['char_count'])\n",
    "ax1.set_title('Positive Tweets')\n",
    "ax1.set_xlabel('Character Count')  \n",
    "ax1.set_ylabel('Frequency')          \n",
    "\n",
    "# Negative Tweets\n",
    "ax2.hist(df[df['label'] == 1]['char_count'])\n",
    "ax2.set_title('Negative Tweets')\n",
    "ax2.set_xlabel('Character Count')  \n",
    "ax2.set_ylabel('Frequency')\n",
    "\n",
    "plt.suptitle('Count of Characters per Sentiment Category', fontsize=16)\n",
    "\n",
    "plt.tight_layout(rect=[0, 0, 1, 0.95])  \n",
    "plt.show()"
   ]
  },
  {
   "cell_type": "code",
   "execution_count": 39,
   "metadata": {
    "collapsed": false,
    "ExecuteTime": {
     "end_time": "2024-10-17T18:04:25.716597900Z",
     "start_time": "2024-10-17T18:04:24.804715Z"
    }
   },
   "outputs": [
    {
     "data": {
      "text/plain": "<Figure size 1500x800 with 2 Axes>",
      "image/png": "[encoded data removed]"
     },
     "metadata": {},
     "output_type": "display_data"
    }
   ],
   "source": [
    "# Word Count\n",
    "\n",
    "fig, (ax1, ax2) = plt.subplots(1, 2, figsize=(15, 8))\n",
    "\n",
    "# Positive Tweets\n",
    "ax1.hist(df[df['label'] == 0]['word_count'])\n",
    "ax1.set_title('Positive Tweets')\n",
    "ax1.set_xlabel('Word Count')  \n",
    "ax1.set_ylabel('Frequency')    \n",
    "\n",
    "# Negative Tweets\n",
    "ax2.hist(df[df['label'] == 1]['word_count'])\n",
    "ax2.set_title('Negative Tweets')\n",
    "ax2.set_xlabel('Word Count')  \n",
    "ax2.set_ylabel('Frequency')\n",
    "\n",
    "plt.suptitle('Count of Words per Sentiment Category', fontsize=16)\n",
    "\n",
    "plt.tight_layout(rect=[0, 0, 1, 0.95])  \n",
    "plt.show()"
   ]
  },
  {
   "cell_type": "markdown",
   "metadata": {
    "collapsed": false
   },
   "source": [
    "# Data Preprocessing for Models"
   ]
  },
  {
   "cell_type": "markdown",
   "source": [
    "## Falsch codierte Character korrigieren"
   ],
   "metadata": {
    "collapsed": false
   }
  },
  {
   "cell_type": "code",
   "execution_count": 40,
   "outputs": [],
   "source": [
    "# TODO"
   ],
   "metadata": {
    "collapsed": false,
    "ExecuteTime": {
     "end_time": "2024-10-17T18:04:25.726729400Z",
     "start_time": "2024-10-17T18:04:25.706406100Z"
    }
   }
  },
  {
   "cell_type": "markdown",
   "metadata": {
    "collapsed": false
   },
   "source": [
    "## Text cleaning: emojis, toLower etc."
   ]
  },
  {
   "cell_type": "code",
   "execution_count": 41,
   "metadata": {
    "collapsed": false,
    "ExecuteTime": {
     "end_time": "2024-10-17T18:04:25.945394300Z",
     "start_time": "2024-10-17T18:04:25.744825700Z"
    }
   },
   "outputs": [],
   "source": [
    "def cleaning(text):\n",
    "    # converting to lowercase, removing URL links, special characters, punctuations...\n",
    "    text = text.lower()  # converting to lowercase\n",
    "    text = re.sub('https?://\\S+|www\\.\\S+', '', text)  # removing URL links\n",
    "    text = re.sub(r\"\\b\\d+\\b\", \"\", text)  # removing number\n",
    "    text = re.sub('<.*?>+', '', text)  # removing special characters,\n",
    "    text = re.sub('[%s]' % re.escape(string.punctuation), '', text)  # punctuations\n",
    "    text = re.sub('\\n', '', text)\n",
    "    text = re.sub('[’“”…]', '', text)\n",
    "\n",
    "    #removing emoji:\n",
    "    emoji_pattern = re.compile(\"[\"\n",
    "                               u\"\\U0001F600-\\U0001F64F\"  # emoticons\n",
    "                               u\"\\U0001F300-\\U0001F5FF\"  # symbols & pictographs\n",
    "                               u\"\\U0001F680-\\U0001F6FF\"  # transport & map symbols\n",
    "                               u\"\\U0001F1E0-\\U0001F1FF\"  # flags (iOS)\n",
    "                               u\"\\U00002702-\\U000027B0\"\n",
    "                               u\"\\U000024C2-\\U0001F251\"\n",
    "                               \"]+\", flags=re.UNICODE)\n",
    "    text = emoji_pattern.sub(r'', text)\n",
    "\n",
    "    # removing short form:\n",
    "    text = re.sub(\"isn't\", 'is not', text)\n",
    "    text = re.sub(\"he's\", 'he is', text)\n",
    "    text = re.sub(\"wasn't\", 'was not', text)\n",
    "    text = re.sub(\"there's\", 'there is', text)\n",
    "    text = re.sub(\"couldn't\", 'could not', text)\n",
    "    text = re.sub(\"won't\", 'will not', text)\n",
    "    text = re.sub(\"they're\", 'they are', text)\n",
    "    text = re.sub(\"she's\", 'she is', text)\n",
    "    text = re.sub(\"There's\", 'there is', text)\n",
    "    text = re.sub(\"wouldn't\", 'would not', text)\n",
    "    text = re.sub(\"haven't\", 'have not', text)\n",
    "    text = re.sub(\"That's\", 'That is', text)\n",
    "    text = re.sub(\"you've\", 'you have', text)\n",
    "    text = re.sub(\"He's\", 'He is', text)\n",
    "    text = re.sub(\"what's\", 'what is', text)\n",
    "    text = re.sub(\"weren't\", 'were not', text)\n",
    "    text = re.sub(\"we're\", 'we are', text)\n",
    "    text = re.sub(\"hasn't\", 'has not', text)\n",
    "    text = re.sub(\"you'd\", 'you would', text)\n",
    "    text = re.sub(\"shouldn't\", 'should not', text)\n",
    "    text = re.sub(\"let's\", 'let us', text)\n",
    "    text = re.sub(\"they've\", 'they have', text)\n",
    "    text = re.sub(\"You'll\", 'You will', text)\n",
    "    text = re.sub(\"i'm\", 'i am', text)\n",
    "    text = re.sub(\"we've\", 'we have', text)\n",
    "    text = re.sub(\"it's\", 'it is', text)\n",
    "    text = re.sub(\"don't\", 'do not', text)\n",
    "    text = re.sub(\"that´s\", 'that is', text)\n",
    "    text = re.sub(\"I´m\", 'I am', text)\n",
    "    text = re.sub(\"it’s\", 'it is', text)\n",
    "    text = re.sub(\"she´s\", 'she is', text)\n",
    "    text = re.sub(\"he’s'\", 'he is', text)\n",
    "    text = re.sub('I’m', 'I am', text)\n",
    "    text = re.sub('I’d', 'I did', text)\n",
    "    text = re.sub(\"he’s'\", 'he is', text)\n",
    "    text = re.sub('there’s', 'there is', text)\n",
    "\n",
    "    return text"
   ]
  },
  {
   "cell_type": "code",
   "execution_count": 42,
   "metadata": {
    "collapsed": false,
    "ExecuteTime": {
     "end_time": "2024-10-17T18:04:28.118576100Z",
     "start_time": "2024-10-17T18:04:25.760477900Z"
    }
   },
   "outputs": [],
   "source": [
    "dt = df['tweet'].apply(cleaning)"
   ]
  },
  {
   "cell_type": "code",
   "execution_count": 43,
   "metadata": {
    "collapsed": false,
    "ExecuteTime": {
     "end_time": "2024-10-17T18:04:28.177191700Z",
     "start_time": "2024-10-17T18:04:28.118576100Z"
    }
   },
   "outputs": [],
   "source": [
    "dt = pd.DataFrame(dt)\n",
    "dt['label'] = df['label']"
   ]
  },
  {
   "cell_type": "code",
   "execution_count": 44,
   "metadata": {
    "collapsed": false,
    "ExecuteTime": {
     "end_time": "2024-10-17T18:04:28.258033100Z",
     "start_time": "2024-10-17T18:04:28.138843200Z"
    }
   },
   "outputs": [
    {
     "data": {
      "text/plain": "                                                                                                                tweet  \\\n0                  user when a father is dysfunctional and is so selfish he drags his kids into his dysfunction   run   \n1  user user thanks for lyft credit i cant use cause they dont offer wheelchair vans in pdx    disapointed getthanked   \n2                                                                                                 bihday your majesty   \n3                                  model   i love u take with u all the time in urð± ðððð\nð¦ð¦ð¦     \n4                                                                                factsguide society now    motivation   \n\n   label  \n0      0  \n1      0  \n2      0  \n3      0  \n4      0  ",
      "text/html": "<div>\n<style scoped>\n    .dataframe tbody tr th:only-of-type {\n        vertical-align: middle;\n    }\n\n    .dataframe tbody tr th {\n        vertical-align: top;\n    }\n\n    .dataframe thead th {\n        text-align: right;\n    }\n</style>\n<table border=\"1\" class=\"dataframe\">\n  <thead>\n    <tr style=\"text-align: right;\">\n      <th></th>\n      <th>tweet</th>\n      <th>label</th>\n    </tr>\n  </thead>\n  <tbody>\n    <tr>\n      <th>0</th>\n      <td>user when a father is dysfunctional and is so selfish he drags his kids into his dysfunction   run</td>\n      <td>0</td>\n    </tr>\n    <tr>\n      <th>1</th>\n      <td>user user thanks for lyft credit i cant use cause they dont offer wheelchair vans in pdx    disapointed getthanked</td>\n      <td>0</td>\n    </tr>\n    <tr>\n      <th>2</th>\n      <td>bihday your majesty</td>\n      <td>0</td>\n    </tr>\n    <tr>\n      <th>3</th>\n      <td>model   i love u take with u all the time in urð± ððððð¦ð¦ð¦</td>\n      <td>0</td>\n    </tr>\n    <tr>\n      <th>4</th>\n      <td>factsguide society now    motivation</td>\n      <td>0</td>\n    </tr>\n  </tbody>\n</table>\n</div>"
     },
     "execution_count": 44,
     "metadata": {},
     "output_type": "execute_result"
    }
   ],
   "source": [
    "dt.head()"
   ]
  },
  {
   "cell_type": "markdown",
   "metadata": {
    "collapsed": false
   },
   "source": [
    "## Stopwords"
   ]
  },
  {
   "cell_type": "code",
   "execution_count": 45,
   "metadata": {
    "collapsed": false,
    "ExecuteTime": {
     "end_time": "2024-10-17T18:05:09.263230600Z",
     "start_time": "2024-10-17T18:04:28.177191700Z"
    }
   },
   "outputs": [],
   "source": [
    "dt['no_sw'] = dt['tweet'].apply(lambda x: ' '.join([word for word in x.split() if word not in (stop_words)]))"
   ]
  },
  {
   "cell_type": "code",
   "execution_count": 46,
   "metadata": {
    "collapsed": false,
    "ExecuteTime": {
     "end_time": "2024-10-17T18:05:09.301781500Z",
     "start_time": "2024-10-17T18:05:09.263230600Z"
    }
   },
   "outputs": [
    {
     "data": {
      "text/plain": "                                                                                                                                     tweet  \\\n0                                       user when a father is dysfunctional and is so selfish he drags his kids into his dysfunction   run   \n1                       user user thanks for lyft credit i cant use cause they dont offer wheelchair vans in pdx    disapointed getthanked   \n2                                                                                                                      bihday your majesty   \n3                                                       model   i love u take with u all the time in urð± ðððð\nð¦ð¦ð¦     \n4                                                                                                     factsguide society now    motivation   \n5                              huge fan fare and big talking before they leave chaos and pay disputes when they get there allshowandnogo     \n6                                                                        user camping tomorrow user user user user user user user dannyâ¦   \n7   the next school year is the year for examsð¯ cant think about that ð­ school exams   hate imagine actorslife revolutionschool girl   \n8                                                             we won love the land allin cavs champions cleveland clevelandcavaliers  â¦    \n9                                                                                               user user welcome here   im   its so gr8     \n10                                         â ireland consumer price index mom climbed from previous  to  in may   blog silver gold forex   \n11              we are so selfish orlando standwithorlando pulseshooting orlandoshooting biggerproblems selfish heabreaking   values love    \n12                                                                                         i get to see my daddy today   80days gettingfed   \n13                                                                      user cnn calls michigan middle school build the wall chant  tcot     \n14                                          no comment  in australia   opkillingbay seashepherd helpcovedolphins thecove  helpcovedolphins   \n15                                                                                       ouchjunior is angryðgot7 junior yugyoem   omg    \n16                                                                                 i am thankful for having a paner thankful positive        \n17                                                                                                                   retweet if you agree    \n18                                                               its friday ð smiles all around via ig user user cookies make people      \n19                                                                                as we all know essential oils are not made of chemicals    \n\n    label  \\\n0       0   \n1       0   \n2       0   \n3       0   \n4       0   \n5       0   \n6       0   \n7       0   \n8       0   \n9       0   \n10      0   \n11      0   \n12      0   \n13      1   \n14      1   \n15      0   \n16      0   \n17      1   \n18      0   \n19      0   \n\n                                                                                                            no_sw  \n0                                                    user father dysfunctional selfish drags kids dysfunction run  \n1                                          user user lyft credit offer wheelchair vans pdx disapointed getthanked  \n2                                                                                                  bihday majesty  \n3                                                             model love time urð± ðððð ð¦ð¦ð¦  \n4                                                                                   factsguide society motivation  \n5                                                   huge fare big talking leave chaos pay disputes allshowandnogo  \n6                                               user camping tomorrow user user user user user user user dannyâ¦  \n7                      school year year examsð¯ ð­ school exams hate imagine actorslife revolutionschool girl  \n8                                                 love land allin cavs champions cleveland clevelandcavaliers â¦  \n9                                                                                           user user welcome gr8  \n10                                   â ireland consumer price index mom climbed previous blog silver gold forex  \n11  selfish orlando standwithorlando pulseshooting orlandoshooting biggerproblems selfish heabreaking values love  \n12                                                                                  daddy today 80days gettingfed  \n13                                                    user cnn calls michigan middle school build wall chant tcot  \n14                           comment australia opkillingbay seashepherd helpcovedolphins thecove helpcovedolphins  \n15                                                                    ouchjunior angryðgot7 junior yugyoem omg  \n16                                                                               thankful paner thankful positive  \n17                                                                                                  retweet agree  \n18                                                                   friday ð smiles ig user user cookies make  \n19                                                                                  essential oils made chemicals  ",
      "text/html": "<div>\n<style scoped>\n    .dataframe tbody tr th:only-of-type {\n        vertical-align: middle;\n    }\n\n    .dataframe tbody tr th {\n        vertical-align: top;\n    }\n\n    .dataframe thead th {\n        text-align: right;\n    }\n</style>\n<table border=\"1\" class=\"dataframe\">\n  <thead>\n    <tr style=\"text-align: right;\">\n      <th></th>\n      <th>tweet</th>\n      <th>label</th>\n      <th>no_sw</th>\n    </tr>\n  </thead>\n  <tbody>\n    <tr>\n      <th>0</th>\n      <td>user when a father is dysfunctional and is so selfish he drags his kids into his dysfunction   run</td>\n      <td>0</td>\n      <td>user father dysfunctional selfish drags kids dysfunction run</td>\n    </tr>\n    <tr>\n      <th>1</th>\n      <td>user user thanks for lyft credit i cant use cause they dont offer wheelchair vans in pdx    disapointed getthanked</td>\n      <td>0</td>\n      <td>user user lyft credit offer wheelchair vans pdx disapointed getthanked</td>\n    </tr>\n    <tr>\n      <th>2</th>\n      <td>bihday your majesty</td>\n      <td>0</td>\n      <td>bihday majesty</td>\n    </tr>\n    <tr>\n      <th>3</th>\n      <td>model   i love u take with u all the time in urð± ððððð¦ð¦ð¦</td>\n      <td>0</td>\n      <td>model love time urð± ðððð ð¦ð¦ð¦</td>\n    </tr>\n    <tr>\n      <th>4</th>\n      <td>factsguide society now    motivation</td>\n      <td>0</td>\n      <td>factsguide society motivation</td>\n    </tr>\n    <tr>\n      <th>5</th>\n      <td>huge fan fare and big talking before they leave chaos and pay disputes when they get there allshowandnogo</td>\n      <td>0</td>\n      <td>huge fare big talking leave chaos pay disputes allshowandnogo</td>\n    </tr>\n    <tr>\n      <th>6</th>\n      <td>user camping tomorrow user user user user user user user dannyâ¦</td>\n      <td>0</td>\n      <td>user camping tomorrow user user user user user user user dannyâ¦</td>\n    </tr>\n    <tr>\n      <th>7</th>\n      <td>the next school year is the year for examsð¯ cant think about that ð­ school exams   hate imagine actorslife revolutionschool girl</td>\n      <td>0</td>\n      <td>school year year examsð¯ ð­ school exams hate imagine actorslife revolutionschool girl</td>\n    </tr>\n    <tr>\n      <th>8</th>\n      <td>we won love the land allin cavs champions cleveland clevelandcavaliers  â¦</td>\n      <td>0</td>\n      <td>love land allin cavs champions cleveland clevelandcavaliers â¦</td>\n    </tr>\n    <tr>\n      <th>9</th>\n      <td>user user welcome here   im   its so gr8</td>\n      <td>0</td>\n      <td>user user welcome gr8</td>\n    </tr>\n    <tr>\n      <th>10</th>\n      <td>â ireland consumer price index mom climbed from previous  to  in may   blog silver gold forex</td>\n      <td>0</td>\n      <td>â ireland consumer price index mom climbed previous blog silver gold forex</td>\n    </tr>\n    <tr>\n      <th>11</th>\n      <td>we are so selfish orlando standwithorlando pulseshooting orlandoshooting biggerproblems selfish heabreaking   values love</td>\n      <td>0</td>\n      <td>selfish orlando standwithorlando pulseshooting orlandoshooting biggerproblems selfish heabreaking values love</td>\n    </tr>\n    <tr>\n      <th>12</th>\n      <td>i get to see my daddy today   80days gettingfed</td>\n      <td>0</td>\n      <td>daddy today 80days gettingfed</td>\n    </tr>\n    <tr>\n      <th>13</th>\n      <td>user cnn calls michigan middle school build the wall chant  tcot</td>\n      <td>1</td>\n      <td>user cnn calls michigan middle school build wall chant tcot</td>\n    </tr>\n    <tr>\n      <th>14</th>\n      <td>no comment  in australia   opkillingbay seashepherd helpcovedolphins thecove  helpcovedolphins</td>\n      <td>1</td>\n      <td>comment australia opkillingbay seashepherd helpcovedolphins thecove helpcovedolphins</td>\n    </tr>\n    <tr>\n      <th>15</th>\n      <td>ouchjunior is angryðgot7 junior yugyoem   omg</td>\n      <td>0</td>\n      <td>ouchjunior angryðgot7 junior yugyoem omg</td>\n    </tr>\n    <tr>\n      <th>16</th>\n      <td>i am thankful for having a paner thankful positive</td>\n      <td>0</td>\n      <td>thankful paner thankful positive</td>\n    </tr>\n    <tr>\n      <th>17</th>\n      <td>retweet if you agree</td>\n      <td>1</td>\n      <td>retweet agree</td>\n    </tr>\n    <tr>\n      <th>18</th>\n      <td>its friday ð smiles all around via ig user user cookies make people</td>\n      <td>0</td>\n      <td>friday ð smiles ig user user cookies make</td>\n    </tr>\n    <tr>\n      <th>19</th>\n      <td>as we all know essential oils are not made of chemicals</td>\n      <td>0</td>\n      <td>essential oils made chemicals</td>\n    </tr>\n  </tbody>\n</table>\n</div>"
     },
     "execution_count": 46,
     "metadata": {},
     "output_type": "execute_result"
    }
   ],
   "source": [
    "dt.head(20)"
   ]
  },
  {
   "cell_type": "markdown",
   "metadata": {
    "collapsed": false
   },
   "source": [
    "## Most frequent words"
   ]
  },
  {
   "cell_type": "code",
   "execution_count": 47,
   "metadata": {
    "collapsed": false,
    "ExecuteTime": {
     "end_time": "2024-10-17T18:05:09.475593700Z",
     "start_time": "2024-10-17T18:05:09.283590800Z"
    }
   },
   "outputs": [],
   "source": [
    "cnt = Counter()\n",
    "for text in dt[\"no_sw\"].values:\n",
    "    for word in text.split():\n",
    "        cnt[word] += 1\n",
    "cnt.most_common(20)\n",
    "temp = pd.DataFrame(cnt.most_common(20))\n",
    "temp.columns = ['word', 'count']"
   ]
  },
  {
   "cell_type": "code",
   "execution_count": 48,
   "metadata": {
    "collapsed": false,
    "ExecuteTime": {
     "end_time": "2024-10-17T18:05:09.475593700Z",
     "start_time": "2024-10-17T18:05:09.445316500Z"
    }
   },
   "outputs": [
    {
     "data": {
      "text/plain": "        word  count\n0       user  17100\n1       love   2174\n2        day   2097\n3      happy   1546\n4        amp   1480\n5       life   1038\n6      today    961\n7        â¦    905\n8     bihday    810\n9       time    772\n10   fathers    699\n11     smile    661\n12   weekend    573\n13       fun    549\n14  positive    525\n15    summer    521\n16      make    511\n17    friday    505\n18     great    499\n19  thankful    495",
      "text/html": "<div>\n<style scoped>\n    .dataframe tbody tr th:only-of-type {\n        vertical-align: middle;\n    }\n\n    .dataframe tbody tr th {\n        vertical-align: top;\n    }\n\n    .dataframe thead th {\n        text-align: right;\n    }\n</style>\n<table border=\"1\" class=\"dataframe\">\n  <thead>\n    <tr style=\"text-align: right;\">\n      <th></th>\n      <th>word</th>\n      <th>count</th>\n    </tr>\n  </thead>\n  <tbody>\n    <tr>\n      <th>0</th>\n      <td>user</td>\n      <td>17100</td>\n    </tr>\n    <tr>\n      <th>1</th>\n      <td>love</td>\n      <td>2174</td>\n    </tr>\n    <tr>\n      <th>2</th>\n      <td>day</td>\n      <td>2097</td>\n    </tr>\n    <tr>\n      <th>3</th>\n      <td>happy</td>\n      <td>1546</td>\n    </tr>\n    <tr>\n      <th>4</th>\n      <td>amp</td>\n      <td>1480</td>\n    </tr>\n    <tr>\n      <th>5</th>\n      <td>life</td>\n      <td>1038</td>\n    </tr>\n    <tr>\n      <th>6</th>\n      <td>today</td>\n      <td>961</td>\n    </tr>\n    <tr>\n      <th>7</th>\n      <td>â¦</td>\n      <td>905</td>\n    </tr>\n    <tr>\n      <th>8</th>\n      <td>bihday</td>\n      <td>810</td>\n    </tr>\n    <tr>\n      <th>9</th>\n      <td>time</td>\n      <td>772</td>\n    </tr>\n    <tr>\n      <th>10</th>\n      <td>fathers</td>\n      <td>699</td>\n    </tr>\n    <tr>\n      <th>11</th>\n      <td>smile</td>\n      <td>661</td>\n    </tr>\n    <tr>\n      <th>12</th>\n      <td>weekend</td>\n      <td>573</td>\n    </tr>\n    <tr>\n      <th>13</th>\n      <td>fun</td>\n      <td>549</td>\n    </tr>\n    <tr>\n      <th>14</th>\n      <td>positive</td>\n      <td>525</td>\n    </tr>\n    <tr>\n      <th>15</th>\n      <td>summer</td>\n      <td>521</td>\n    </tr>\n    <tr>\n      <th>16</th>\n      <td>make</td>\n      <td>511</td>\n    </tr>\n    <tr>\n      <th>17</th>\n      <td>friday</td>\n      <td>505</td>\n    </tr>\n    <tr>\n      <th>18</th>\n      <td>great</td>\n      <td>499</td>\n    </tr>\n    <tr>\n      <th>19</th>\n      <td>thankful</td>\n      <td>495</td>\n    </tr>\n  </tbody>\n</table>\n</div>"
     },
     "execution_count": 48,
     "metadata": {},
     "output_type": "execute_result"
    }
   ],
   "source": [
    "temp.head(20)"
   ]
  },
  {
   "cell_type": "markdown",
   "metadata": {
    "collapsed": false
   },
   "source": [
    "most frequent words erstmal nicht entfernen"
   ]
  },
  {
   "cell_type": "code",
   "execution_count": 49,
   "metadata": {
    "collapsed": false,
    "ExecuteTime": {
     "end_time": "2024-10-17T18:05:09.524125500Z",
     "start_time": "2024-10-17T18:05:09.465523500Z"
    }
   },
   "outputs": [],
   "source": [
    "# FREQWORDS = set([w for (w, wc) in cnt.most_common(10)])\n",
    "# def remove_freqwords(text):\n",
    "#     return \" \".join([word for word in str(text).split() if word not in FREQWORDS])\n",
    "# dt[\"no_sw_no_freqwo\"] = dt[\"no_sw\"].apply(lambda text: remove_freqwords(text))"
   ]
  },
  {
   "cell_type": "code",
   "execution_count": 50,
   "metadata": {
    "collapsed": false,
    "ExecuteTime": {
     "end_time": "2024-10-17T18:05:09.566549300Z",
     "start_time": "2024-10-17T18:05:09.485727300Z"
    }
   },
   "outputs": [],
   "source": [
    "# dt.head()"
   ]
  },
  {
   "cell_type": "code",
   "execution_count": 51,
   "metadata": {
    "collapsed": false,
    "ExecuteTime": {
     "end_time": "2024-10-17T18:05:09.566549300Z",
     "start_time": "2024-10-17T18:05:09.505975300Z"
    }
   },
   "outputs": [],
   "source": [
    "# dt[dt.no_sw != dt.no_sw_no_freqwo].head()"
   ]
  },
  {
   "cell_type": "markdown",
   "metadata": {
    "collapsed": false
   },
   "source": [
    "## Lemmatization"
   ]
  },
  {
   "cell_type": "code",
   "execution_count": 52,
   "metadata": {
    "collapsed": false,
    "ExecuteTime": {
     "end_time": "2024-10-17T18:05:11.909588400Z",
     "start_time": "2024-10-17T18:05:09.526169Z"
    }
   },
   "outputs": [],
   "source": [
    "wordnet_lem = WordNetLemmatizer()\n",
    "dt['no_sw_lem'] = dt['no_sw'].apply(wordnet_lem.lemmatize)"
   ]
  },
  {
   "cell_type": "code",
   "execution_count": 53,
   "metadata": {
    "collapsed": false,
    "ExecuteTime": {
     "end_time": "2024-10-17T18:05:11.919680600Z",
     "start_time": "2024-10-17T18:05:11.891423400Z"
    }
   },
   "outputs": [
    {
     "data": {
      "text/plain": "                                                                                                                tweet  \\\n0                  user when a father is dysfunctional and is so selfish he drags his kids into his dysfunction   run   \n1  user user thanks for lyft credit i cant use cause they dont offer wheelchair vans in pdx    disapointed getthanked   \n2                                                                                                 bihday your majesty   \n3                                  model   i love u take with u all the time in urð± ðððð\nð¦ð¦ð¦     \n4                                                                                factsguide society now    motivation   \n\n   label  \\\n0      0   \n1      0   \n2      0   \n3      0   \n4      0   \n\n                                                                    no_sw  \\\n0            user father dysfunctional selfish drags kids dysfunction run   \n1  user user lyft credit offer wheelchair vans pdx disapointed getthanked   \n2                                                          bihday majesty   \n3                     model love time urð± ðððð ð¦ð¦ð¦   \n4                                           factsguide society motivation   \n\n                                                                no_sw_lem  \n0            user father dysfunctional selfish drags kids dysfunction run  \n1  user user lyft credit offer wheelchair vans pdx disapointed getthanked  \n2                                                          bihday majesty  \n3                     model love time urð± ðððð ð¦ð¦ð¦  \n4                                           factsguide society motivation  ",
      "text/html": "<div>\n<style scoped>\n    .dataframe tbody tr th:only-of-type {\n        vertical-align: middle;\n    }\n\n    .dataframe tbody tr th {\n        vertical-align: top;\n    }\n\n    .dataframe thead th {\n        text-align: right;\n    }\n</style>\n<table border=\"1\" class=\"dataframe\">\n  <thead>\n    <tr style=\"text-align: right;\">\n      <th></th>\n      <th>tweet</th>\n      <th>label</th>\n      <th>no_sw</th>\n      <th>no_sw_lem</th>\n    </tr>\n  </thead>\n  <tbody>\n    <tr>\n      <th>0</th>\n      <td>user when a father is dysfunctional and is so selfish he drags his kids into his dysfunction   run</td>\n      <td>0</td>\n      <td>user father dysfunctional selfish drags kids dysfunction run</td>\n      <td>user father dysfunctional selfish drags kids dysfunction run</td>\n    </tr>\n    <tr>\n      <th>1</th>\n      <td>user user thanks for lyft credit i cant use cause they dont offer wheelchair vans in pdx    disapointed getthanked</td>\n      <td>0</td>\n      <td>user user lyft credit offer wheelchair vans pdx disapointed getthanked</td>\n      <td>user user lyft credit offer wheelchair vans pdx disapointed getthanked</td>\n    </tr>\n    <tr>\n      <th>2</th>\n      <td>bihday your majesty</td>\n      <td>0</td>\n      <td>bihday majesty</td>\n      <td>bihday majesty</td>\n    </tr>\n    <tr>\n      <th>3</th>\n      <td>model   i love u take with u all the time in urð± ððððð¦ð¦ð¦</td>\n      <td>0</td>\n      <td>model love time urð± ðððð ð¦ð¦ð¦</td>\n      <td>model love time urð± ðððð ð¦ð¦ð¦</td>\n    </tr>\n    <tr>\n      <th>4</th>\n      <td>factsguide society now    motivation</td>\n      <td>0</td>\n      <td>factsguide society motivation</td>\n      <td>factsguide society motivation</td>\n    </tr>\n  </tbody>\n</table>\n</div>"
     },
     "execution_count": 53,
     "metadata": {},
     "output_type": "execute_result"
    }
   ],
   "source": [
    "dt.head()"
   ]
  },
  {
   "cell_type": "code",
   "execution_count": 54,
   "metadata": {
    "collapsed": false,
    "ExecuteTime": {
     "end_time": "2024-10-17T18:05:11.939881500Z",
     "start_time": "2024-10-17T18:05:11.911637100Z"
    }
   },
   "outputs": [
    {
     "data": {
      "text/plain": "                                                     tweet  label  \\\n1767                                  do what makes you         0   \n3083                       he got you two rings just be         0   \n3916                                 this makes me so           0   \n5453                   many many americans thats right          0   \n5796                                    well said tubes         0   \n6311                    what makes me  please let me know       1   \n8023                                this makes me so            0   \n9440                                schools almost over         0   \n9612                                       are they twins       0   \n9619                                all i know are   souls      0   \n12124        thank you so much for getting us to  likes         0   \n13667                                        maga lets go       0   \n13696                                        ways to be         0   \n13710                                       fathers to all      0   \n14816                                    in my feelings         0   \n17907  let them say what they say let the things happens        0   \n17948                                         more minutes      0   \n18750                                be   all that matters      0   \n20499        me before you maybe im still crying over it        0   \n20504                     many congratulations  well done       0   \n22274                          assignments done  to go d        0   \n22529                    vacations are going to sta soon        0   \n22631                who cares if you dont care about me        0   \n24454                                  girls cum on face        0   \n24597                        lol at the   replies to this       0   \n24671              mint oreos arent as good as they seem        0   \n25075                           all boys dont become men        0   \n28540                                 two   little owls         0   \n28973                                    more days to go        0   \n29335                              im only   when it rains      0   \n\n                 no_sw       no_sw_lem  \n1767             makes            make  \n3083             rings            ring  \n3916             makes            make  \n5453         americans        american  \n5796             tubes            tube  \n6311             makes            make  \n8023             makes            make  \n9440           schools          school  \n9612             twins            twin  \n9619             souls            soul  \n12124            likes            like  \n13667             lets             let  \n13696             ways             way  \n13710          fathers          father  \n14816         feelings         feeling  \n17907           things           thing  \n17948          minutes          minute  \n18750          matters          matter  \n20499           crying             cry  \n20504  congratulations  congratulation  \n22274      assignments      assignment  \n22529        vacations        vacation  \n22631            cares            care  \n24454            girls            girl  \n24597          replies           reply  \n24671            oreos            oreo  \n25075             boys             boy  \n28540             owls             owl  \n28973             days             day  \n29335            rains            rain  ",
      "text/html": "<div>\n<style scoped>\n    .dataframe tbody tr th:only-of-type {\n        vertical-align: middle;\n    }\n\n    .dataframe tbody tr th {\n        vertical-align: top;\n    }\n\n    .dataframe thead th {\n        text-align: right;\n    }\n</style>\n<table border=\"1\" class=\"dataframe\">\n  <thead>\n    <tr style=\"text-align: right;\">\n      <th></th>\n      <th>tweet</th>\n      <th>label</th>\n      <th>no_sw</th>\n      <th>no_sw_lem</th>\n    </tr>\n  </thead>\n  <tbody>\n    <tr>\n      <th>1767</th>\n      <td>do what makes you</td>\n      <td>0</td>\n      <td>makes</td>\n      <td>make</td>\n    </tr>\n    <tr>\n      <th>3083</th>\n      <td>he got you two rings just be</td>\n      <td>0</td>\n      <td>rings</td>\n      <td>ring</td>\n    </tr>\n    <tr>\n      <th>3916</th>\n      <td>this makes me so</td>\n      <td>0</td>\n      <td>makes</td>\n      <td>make</td>\n    </tr>\n    <tr>\n      <th>5453</th>\n      <td>many many americans thats right</td>\n      <td>0</td>\n      <td>americans</td>\n      <td>american</td>\n    </tr>\n    <tr>\n      <th>5796</th>\n      <td>well said tubes</td>\n      <td>0</td>\n      <td>tubes</td>\n      <td>tube</td>\n    </tr>\n    <tr>\n      <th>6311</th>\n      <td>what makes me  please let me know</td>\n      <td>1</td>\n      <td>makes</td>\n      <td>make</td>\n    </tr>\n    <tr>\n      <th>8023</th>\n      <td>this makes me so</td>\n      <td>0</td>\n      <td>makes</td>\n      <td>make</td>\n    </tr>\n    <tr>\n      <th>9440</th>\n      <td>schools almost over</td>\n      <td>0</td>\n      <td>schools</td>\n      <td>school</td>\n    </tr>\n    <tr>\n      <th>9612</th>\n      <td>are they twins</td>\n      <td>0</td>\n      <td>twins</td>\n      <td>twin</td>\n    </tr>\n    <tr>\n      <th>9619</th>\n      <td>all i know are   souls</td>\n      <td>0</td>\n      <td>souls</td>\n      <td>soul</td>\n    </tr>\n    <tr>\n      <th>12124</th>\n      <td>thank you so much for getting us to  likes</td>\n      <td>0</td>\n      <td>likes</td>\n      <td>like</td>\n    </tr>\n    <tr>\n      <th>13667</th>\n      <td>maga lets go</td>\n      <td>0</td>\n      <td>lets</td>\n      <td>let</td>\n    </tr>\n    <tr>\n      <th>13696</th>\n      <td>ways to be</td>\n      <td>0</td>\n      <td>ways</td>\n      <td>way</td>\n    </tr>\n    <tr>\n      <th>13710</th>\n      <td>fathers to all</td>\n      <td>0</td>\n      <td>fathers</td>\n      <td>father</td>\n    </tr>\n    <tr>\n      <th>14816</th>\n      <td>in my feelings</td>\n      <td>0</td>\n      <td>feelings</td>\n      <td>feeling</td>\n    </tr>\n    <tr>\n      <th>17907</th>\n      <td>let them say what they say let the things happens</td>\n      <td>0</td>\n      <td>things</td>\n      <td>thing</td>\n    </tr>\n    <tr>\n      <th>17948</th>\n      <td>more minutes</td>\n      <td>0</td>\n      <td>minutes</td>\n      <td>minute</td>\n    </tr>\n    <tr>\n      <th>18750</th>\n      <td>be   all that matters</td>\n      <td>0</td>\n      <td>matters</td>\n      <td>matter</td>\n    </tr>\n    <tr>\n      <th>20499</th>\n      <td>me before you maybe im still crying over it</td>\n      <td>0</td>\n      <td>crying</td>\n      <td>cry</td>\n    </tr>\n    <tr>\n      <th>20504</th>\n      <td>many congratulations  well done</td>\n      <td>0</td>\n      <td>congratulations</td>\n      <td>congratulation</td>\n    </tr>\n    <tr>\n      <th>22274</th>\n      <td>assignments done  to go d</td>\n      <td>0</td>\n      <td>assignments</td>\n      <td>assignment</td>\n    </tr>\n    <tr>\n      <th>22529</th>\n      <td>vacations are going to sta soon</td>\n      <td>0</td>\n      <td>vacations</td>\n      <td>vacation</td>\n    </tr>\n    <tr>\n      <th>22631</th>\n      <td>who cares if you dont care about me</td>\n      <td>0</td>\n      <td>cares</td>\n      <td>care</td>\n    </tr>\n    <tr>\n      <th>24454</th>\n      <td>girls cum on face</td>\n      <td>0</td>\n      <td>girls</td>\n      <td>girl</td>\n    </tr>\n    <tr>\n      <th>24597</th>\n      <td>lol at the   replies to this</td>\n      <td>0</td>\n      <td>replies</td>\n      <td>reply</td>\n    </tr>\n    <tr>\n      <th>24671</th>\n      <td>mint oreos arent as good as they seem</td>\n      <td>0</td>\n      <td>oreos</td>\n      <td>oreo</td>\n    </tr>\n    <tr>\n      <th>25075</th>\n      <td>all boys dont become men</td>\n      <td>0</td>\n      <td>boys</td>\n      <td>boy</td>\n    </tr>\n    <tr>\n      <th>28540</th>\n      <td>two   little owls</td>\n      <td>0</td>\n      <td>owls</td>\n      <td>owl</td>\n    </tr>\n    <tr>\n      <th>28973</th>\n      <td>more days to go</td>\n      <td>0</td>\n      <td>days</td>\n      <td>day</td>\n    </tr>\n    <tr>\n      <th>29335</th>\n      <td>im only   when it rains</td>\n      <td>0</td>\n      <td>rains</td>\n      <td>rain</td>\n    </tr>\n  </tbody>\n</table>\n</div>"
     },
     "execution_count": 54,
     "metadata": {},
     "output_type": "execute_result"
    }
   ],
   "source": [
    "dt[dt.no_sw != dt.no_sw_lem].head(500)"
   ]
  },
  {
   "cell_type": "markdown",
   "metadata": {
    "collapsed": false
   },
   "source": [
    "## Check again: Duplicates / NaN"
   ]
  },
  {
   "cell_type": "code",
   "execution_count": 55,
   "metadata": {
    "collapsed": false,
    "ExecuteTime": {
     "end_time": "2024-10-17T18:05:12.073216400Z",
     "start_time": "2024-10-17T18:05:11.931840300Z"
    }
   },
   "outputs": [
    {
     "data": {
      "text/plain": "78"
     },
     "execution_count": 55,
     "metadata": {},
     "output_type": "execute_result"
    }
   ],
   "source": [
    "dt.duplicated().sum()"
   ]
  },
  {
   "cell_type": "code",
   "execution_count": 56,
   "metadata": {
    "collapsed": false,
    "ExecuteTime": {
     "end_time": "2024-10-17T18:05:12.154028200Z",
     "start_time": "2024-10-17T18:05:11.972227800Z"
    }
   },
   "outputs": [
    {
     "data": {
      "text/plain": "0"
     },
     "execution_count": 56,
     "metadata": {},
     "output_type": "execute_result"
    }
   ],
   "source": [
    "dt.drop_duplicates(inplace=True)\n",
    "dt.duplicated().sum()"
   ]
  },
  {
   "cell_type": "code",
   "execution_count": 57,
   "metadata": {
    "collapsed": false,
    "ExecuteTime": {
     "end_time": "2024-10-17T18:05:12.154028200Z",
     "start_time": "2024-10-17T18:05:12.032846Z"
    }
   },
   "outputs": [
    {
     "data": {
      "text/plain": "tweet        0\nlabel        0\nno_sw        0\nno_sw_lem    0\ndtype: int64"
     },
     "execution_count": 57,
     "metadata": {},
     "output_type": "execute_result"
    }
   ],
   "source": [
    "dt.isna().sum()"
   ]
  },
  {
   "cell_type": "code",
   "execution_count": 58,
   "metadata": {
    "collapsed": false,
    "ExecuteTime": {
     "end_time": "2024-10-17T18:05:12.234972100Z",
     "start_time": "2024-10-17T18:05:12.073216400Z"
    }
   },
   "outputs": [
    {
     "name": "stdout",
     "output_type": "stream",
     "text": [
      "<class 'pandas.core.frame.DataFrame'>\n",
      "Int64Index: 29417 entries, 0 to 29529\n",
      "Data columns (total 4 columns):\n",
      " #   Column     Non-Null Count  Dtype \n",
      "---  ------     --------------  ----- \n",
      " 0   tweet      29417 non-null  object\n",
      " 1   label      29417 non-null  int64 \n",
      " 2   no_sw      29417 non-null  object\n",
      " 3   no_sw_lem  29417 non-null  object\n",
      "dtypes: int64(1), object(3)\n",
      "memory usage: 1.1+ MB\n"
     ]
    }
   ],
   "source": [
    "dt.info()"
   ]
  },
  {
   "cell_type": "markdown",
   "metadata": {
    "collapsed": false
   },
   "source": [
    "## Save preprocessed data"
   ]
  },
  {
   "cell_type": "code",
   "execution_count": 59,
   "metadata": {
    "collapsed": false,
    "ExecuteTime": {
     "end_time": "2024-10-17T18:05:12.234972100Z",
     "start_time": "2024-10-17T18:05:12.113553400Z"
    }
   },
   "outputs": [],
   "source": [
    "filepath = Path(\"data/train_cleaned_preprocessed.csv\")\n",
    "filepath.parent.mkdir(parents=True, exist_ok=True)"
   ]
  },
  {
   "cell_type": "code",
   "execution_count": 60,
   "metadata": {
    "collapsed": false,
    "ExecuteTime": {
     "end_time": "2024-10-17T18:05:12.389673Z",
     "start_time": "2024-10-17T18:05:12.133841700Z"
    }
   },
   "outputs": [],
   "source": [
    "dt.to_csv(filepath)"
   ]
  },
  {
   "cell_type": "code",
   "execution_count": 60,
   "metadata": {
    "collapsed": false,
    "ExecuteTime": {
     "end_time": "2024-10-17T18:05:12.392873400Z",
     "start_time": "2024-10-17T18:05:12.389673Z"
    }
   },
   "outputs": [],
   "source": []
  }
 ],
 "metadata": {
  "kernelspec": {
   "display_name": "Python 3",
   "language": "python",
   "name": "python3"
  },
  "language_info": {
   "codemirror_mode": {
    "name": "ipython",
    "version": 3
   },
   "file_extension": ".py",
   "mimetype": "text/x-python",
   "name": "python",
   "nbconvert_exporter": "python",
   "pygments_lexer": "ipython3",
   "version": "3.9.2"
  }
 },
 "nbformat": 4,
 "nbformat_minor": 0
}
