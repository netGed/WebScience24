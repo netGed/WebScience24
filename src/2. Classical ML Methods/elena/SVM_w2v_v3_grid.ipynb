{
 "cells": [
  {
   "cell_type": "code",
   "execution_count": 3,
   "metadata": {},
   "outputs": [
    {
     "name": "stderr",
     "output_type": "stream",
     "text": [
      "[nltk_data] Downloading package punkt_tab to\n",
      "[nltk_data]     C:\\Users\\fried\\AppData\\Roaming\\nltk_data...\n",
      "[nltk_data]   Package punkt_tab is already up-to-date!\n"
     ]
    }
   ],
   "source": [
    "from sklearn.model_selection import train_test_split\n",
    "from sklearn.svm import SVC\n",
    "from sklearn.metrics import accuracy_score, precision_score, recall_score, f1_score, classification_report\n",
    "\n",
    "import pandas as pd\n",
    "import numpy as np\n",
    "import matplotlib.pyplot as plt\n",
    "from sklearn.metrics import precision_score, recall_score, f1_score, confusion_matrix, classification_report\n",
    "from sklearn import metrics\n",
    "import nltk\n",
    "from nltk.tokenize import word_tokenize\n",
    "nltk.download('punkt_tab')\n",
    "\n",
    "\n",
    "\n",
    "from sklearn.model_selection import cross_val_score\n",
    "\n",
    "import vectorize_functions\n"
   ]
  },
  {
   "cell_type": "markdown",
   "metadata": {},
   "source": [
    "Einladen der vektorisierten Daten"
   ]
  },
  {
   "cell_type": "code",
   "execution_count": 4,
   "metadata": {},
   "outputs": [
    {
     "name": "stderr",
     "output_type": "stream",
     "text": [
      "[nltk_data] Downloading package punkt to\n",
      "[nltk_data]     C:\\Users\\fried\\AppData\\Roaming\\nltk_data...\n",
      "[nltk_data]   Package punkt is already up-to-date!\n"
     ]
    }
   ],
   "source": [
    "nltk.download('punkt')\n",
    "X_train, X_test, y_train, y_test = vectorize_functions.vectorize_w2v()"
   ]
  },
  {
   "cell_type": "code",
   "execution_count": 5,
   "metadata": {},
   "outputs": [
    {
     "name": "stdout",
     "output_type": "stream",
     "text": [
      "Train\n",
      "- Positive: 1272\n",
      "- Negative: 18055\n",
      "- Verhältnis: 14.194182389937106\n",
      "Test\n",
      "- Positive: 533\n",
      "- Negative: 7750\n",
      "- Verhältnis: 14.540337711069418\n"
     ]
    }
   ],
   "source": [
    "positive = np.count_nonzero(y_train == 1)\n",
    "negative = np.count_nonzero(y_train == 0)\n",
    "print(\"Train\")\n",
    "print(\"- Positive:\", positive)\n",
    "print(\"- Negative:\", negative)\n",
    "print(\"- Verhältnis:\", negative / positive)\n",
    "\n",
    "positive = np.count_nonzero(y_test == 1)\n",
    "negative = np.count_nonzero(y_test == 0)\n",
    "print(\"Test\")\n",
    "print(\"- Positive:\", positive)\n",
    "print(\"- Negative:\", negative)\n",
    "print(\"- Verhältnis:\", negative / positive)"
   ]
  },
  {
   "cell_type": "code",
   "execution_count": 6,
   "metadata": {},
   "outputs": [
    {
     "name": "stdout",
     "output_type": "stream",
     "text": [
      "X_train shape (19327, 100)\n",
      "y_train shape (19327,)\n",
      "X_test shape (8283, 100)\n",
      "y_test shape (8283,)\n"
     ]
    }
   ],
   "source": [
    "print(\"X_train shape\", X_train.shape)\n",
    "print(\"y_train shape\", y_train.shape)\n",
    "\n",
    "print(\"X_test shape\", X_test.shape)\n",
    "print(\"y_test shape\", y_test.shape)"
   ]
  },
  {
   "cell_type": "markdown",
   "metadata": {},
   "source": [
    "# Evaluation"
   ]
  },
  {
   "cell_type": "code",
   "execution_count": 7,
   "metadata": {},
   "outputs": [],
   "source": [
    "evaluation = pd.DataFrame(\n",
    "    columns=[\"model\", \"variant\", \"train_acc\", \"train_prec\", \"train_rec\", \"train_f1\", \"test_acc\", \"test_prec\",\n",
    "             \"test_rec\", \"test_f1\"])"
   ]
  },
  {
   "cell_type": "code",
   "execution_count": 8,
   "metadata": {},
   "outputs": [],
   "source": [
    "def add_to_eval_df(model, model_name, variant, x_data_train, y_data_train, x_data_test, y_data_test):\n",
    "    train_acc = model.score(x_data_train, y_data_train)\n",
    "    train_precision = precision_score(y_data_train, model.predict(x_data_train))\n",
    "    train_recall = recall_score(y_data_train, model.predict(x_data_train))\n",
    "    train_f1 = f1_score(y_data_train, model.predict(x_data_train))\n",
    "\n",
    "    test_acc = model.score(x_data_test, y_data_test)\n",
    "    test_precision = precision_score(y_data_test, model.predict(x_data_test))\n",
    "    test_recall = recall_score(y_data_test, model.predict(x_data_test))\n",
    "    test_f1 = f1_score(y_data_test, model.predict(x_data_test))\n",
    "\n",
    "    evaluation.loc[len(evaluation.index)] = [model_name, variant, train_acc, train_precision, train_recall, train_f1,\n",
    "                                             test_acc, test_precision, test_recall, test_f1]"
   ]
  },
  {
   "cell_type": "code",
   "execution_count": 10,
   "metadata": {},
   "outputs": [],
   "source": [
    "def evaluate_model(model, x_test, y_test, sampling_method):\n",
    "    pred = model.predict(x_test)\n",
    "    accscore = metrics.accuracy_score(pred, y_test)\n",
    "\n",
    "    print(f'{sampling_method} model accuracy for classification is =', str('{:04.2f}'.format(accscore * 100)) + '%')\n",
    "    print('------------------------------------------------')\n",
    "    print('Confusion Matrix:')\n",
    "    print(pd.DataFrame(confusion_matrix(y_test, pred)))\n",
    "    print('------------------------------------------------')\n",
    "    print('Classification Report:')\n",
    "    print(classification_report(y_test, pred))\n",
    "\n",
    "    # probs = model.predict_proba(x_test)\n",
    "    # preds = probs[:, 1]\n",
    "    # fpr, tpr, threshold = metrics.roc_curve(y_test, preds)\n",
    "    # roc_auc = metrics.auc(fpr, tpr)\n",
    "\n",
    "    # plt.title('Receiver Operating Characteristic')\n",
    "    # plt.plot(fpr, tpr, 'b', label='AUC = %0.2f' % roc_auc)\n",
    "    # plt.legend(loc='lower right')\n",
    "    # plt.plot([0, 1], [0, 1], 'r--')\n",
    "    # plt.xlim([0, 1])\n",
    "    # plt.ylim([0, 1])\n",
    "    # plt.ylabel('True Positive Rate')\n",
    "    # plt.xlabel('False Positive Rate')\n",
    "    # plt.show()\n"
   ]
  },
  {
   "cell_type": "markdown",
   "metadata": {},
   "source": [
    "# SVM\n"
   ]
  },
  {
   "cell_type": "code",
   "execution_count": null,
   "metadata": {},
   "outputs": [
    {
     "name": "stdout",
     "output_type": "stream",
     "text": [
      "Fitting 3 folds for each of 108 candidates, totalling 324 fits\n",
      "      kernel  degree     C  gamma  class_weight  train_accuracy  train_recall  \\\n",
      "0     linear       3  0.01   0.01  {0: 1, 1: 1}        0.922233      0.022013   \n",
      "1    sigmoid       3  0.01   0.01  {0: 1, 1: 1}        0.922233      0.022013   \n",
      "2     linear       3  0.01   0.10  {0: 1, 1: 1}        0.922233      0.022013   \n",
      "3    sigmoid       3  0.01   0.10  {0: 1, 1: 1}        0.922233      0.022013   \n",
      "4     linear       3  0.01   1.00  {0: 1, 1: 1}        0.922233      0.022013   \n",
      "..       ...     ...   ...    ...           ...             ...           ...   \n",
      "103  sigmoid       5  1.00   0.01  {0: 1, 1: 3}        0.922233      0.022013   \n",
      "104   linear       5  1.00   0.10  {0: 1, 1: 3}        0.922233      0.022013   \n",
      "105  sigmoid       5  1.00   0.10  {0: 1, 1: 3}        0.922233      0.022013   \n",
      "106   linear       5  1.00   1.00  {0: 1, 1: 3}        0.922233      0.022013   \n",
      "107  sigmoid       5  1.00   1.00  {0: 1, 1: 3}        0.922233      0.022013   \n",
      "\n",
      "     train_precision  train_f1  test_accuracy  test_recall  test_precision  \\\n",
      "0           0.097561   0.03592       0.922009     0.016886        0.068702   \n",
      "1           0.097561   0.03592       0.922009     0.016886        0.068702   \n",
      "2           0.097561   0.03592       0.922009     0.016886        0.068702   \n",
      "3           0.097561   0.03592       0.922009     0.016886        0.068702   \n",
      "4           0.097561   0.03592       0.922009     0.016886        0.068702   \n",
      "..               ...       ...            ...          ...             ...   \n",
      "103         0.097561   0.03592       0.922009     0.016886        0.068702   \n",
      "104         0.097561   0.03592       0.922009     0.016886        0.068702   \n",
      "105         0.097561   0.03592       0.922009     0.016886        0.068702   \n",
      "106         0.097561   0.03592       0.922009     0.016886        0.068702   \n",
      "107         0.097561   0.03592       0.922009     0.016886        0.068702   \n",
      "\n",
      "      test_f1  \n",
      "0    0.027108  \n",
      "1    0.027108  \n",
      "2    0.027108  \n",
      "3    0.027108  \n",
      "4    0.027108  \n",
      "..        ...  \n",
      "103  0.027108  \n",
      "104  0.027108  \n",
      "105  0.027108  \n",
      "106  0.027108  \n",
      "107  0.027108  \n",
      "\n",
      "[108 rows x 13 columns]\n"
     ]
    }
   ],
   "source": [
    "import pandas as pd\n",
    "from sklearn.metrics import accuracy_score, recall_score, precision_score, f1_score\n",
    "from sklearn.model_selection import GridSearchCV\n",
    "from sklearn.svm import SVC\n",
    "\n",
    "results_list = []\n",
    "\n",
    "param_grid = {\n",
    "    'kernel': ['linear', 'sigmoid'],\n",
    "    'degree': [3, 4, 5],\n",
    "    'C': [0.01, 0.1, 1],\n",
    "    'gamma': [0.01, 0.1, 1],\n",
    "    'random_state': [42],\n",
    "    'class_weight': [{0: 1, 1: 1}, {0: 1, 1: 3}]\n",
    "}\n",
    "\n",
    "svm = SVC()\n",
    "\n",
    "grid_search = GridSearchCV(estimator=svm, param_grid=param_grid, scoring='f1', cv=3, verbose=2, n_jobs=-1)\n",
    "\n",
    "grid_search.fit(X_train, y_train)\n",
    "\n",
    "for params in grid_search.cv_results_['params']:\n",
    "    best_model = grid_search.best_estimator_\n",
    "\n",
    "    y_train_pred = best_model.predict(X_train)\n",
    "\n",
    "    y_test_pred = best_model.predict(X_test)\n",
    "\n",
    "    train_accuracy = accuracy_score(y_train, y_train_pred)\n",
    "    train_recall = recall_score(y_train, y_train_pred)\n",
    "    train_precision = precision_score(y_train, y_train_pred)\n",
    "    train_f1 = f1_score(y_train, y_train_pred)\n",
    "\n",
    "    test_accuracy = accuracy_score(y_test, y_test_pred)\n",
    "    test_recall = recall_score(y_test, y_test_pred)\n",
    "    test_precision = precision_score(y_test, y_test_pred)\n",
    "    test_f1 = f1_score(y_test, y_test_pred)\n",
    "\n",
    "    result_dict = {\n",
    "        'kernel': params['kernel'],\n",
    "        'degree': params['degree'],\n",
    "        'C': params['C'],\n",
    "        'gamma': params['gamma'],\n",
    "        'class_weight': params['class_weight'],\n",
    "        'train_accuracy': train_accuracy,\n",
    "        'train_recall': train_recall,\n",
    "        'train_precision': train_precision,\n",
    "        'train_f1': train_f1,\n",
    "        'test_accuracy': test_accuracy,\n",
    "        'test_recall': test_recall,\n",
    "        'test_precision': test_precision,\n",
    "        'test_f1': test_f1\n",
    "    }\n",
    "\n",
    "    results_list.append(result_dict)\n",
    "\n",
    "results_df = pd.DataFrame(results_list)\n",
    "\n",
    "results_df.to_csv('svm_grid_w2v_lin_sig.csv', index=False)\n",
    "\n",
    "print(results_df)\n"
   ]
  },
  {
   "cell_type": "code",
   "execution_count": null,
   "metadata": {},
   "outputs": [
    {
     "name": "stdout",
     "output_type": "stream",
     "text": [
      "Fitting 3 folds for each of 108 candidates, totalling 324 fits\n"
     ]
    },
    {
     "name": "stdout",
     "output_type": "stream",
     "text": [
      "    kernel  degree     C  gamma  class_weight  train_accuracy  train_recall  \\\n",
      "0      rbf       3  0.01   0.01  {0: 1, 1: 1}        0.933254       0.02673   \n",
      "1     poly       3  0.01   0.01  {0: 1, 1: 1}        0.933254       0.02673   \n",
      "2      rbf       3  0.01   0.10  {0: 1, 1: 1}        0.933254       0.02673   \n",
      "3     poly       3  0.01   0.10  {0: 1, 1: 1}        0.933254       0.02673   \n",
      "4      rbf       3  0.01   1.00  {0: 1, 1: 1}        0.933254       0.02673   \n",
      "..     ...     ...   ...    ...           ...             ...           ...   \n",
      "103   poly       5  1.00   0.01  {0: 1, 1: 3}        0.933254       0.02673   \n",
      "104    rbf       5  1.00   0.10  {0: 1, 1: 3}        0.933254       0.02673   \n",
      "105   poly       5  1.00   0.10  {0: 1, 1: 3}        0.933254       0.02673   \n",
      "106    rbf       5  1.00   1.00  {0: 1, 1: 3}        0.933254       0.02673   \n",
      "107   poly       5  1.00   1.00  {0: 1, 1: 3}        0.933254       0.02673   \n",
      "\n",
      "     train_precision  train_f1  test_accuracy  test_recall  test_precision  \\\n",
      "0           0.395349  0.050074       0.931426     0.020638        0.192982   \n",
      "1           0.395349  0.050074       0.931426     0.020638        0.192982   \n",
      "2           0.395349  0.050074       0.931426     0.020638        0.192982   \n",
      "3           0.395349  0.050074       0.931426     0.020638        0.192982   \n",
      "4           0.395349  0.050074       0.931426     0.020638        0.192982   \n",
      "..               ...       ...            ...          ...             ...   \n",
      "103         0.395349  0.050074       0.931426     0.020638        0.192982   \n",
      "104         0.395349  0.050074       0.931426     0.020638        0.192982   \n",
      "105         0.395349  0.050074       0.931426     0.020638        0.192982   \n",
      "106         0.395349  0.050074       0.931426     0.020638        0.192982   \n",
      "107         0.395349  0.050074       0.931426     0.020638        0.192982   \n",
      "\n",
      "      test_f1  \n",
      "0    0.037288  \n",
      "1    0.037288  \n",
      "2    0.037288  \n",
      "3    0.037288  \n",
      "4    0.037288  \n",
      "..        ...  \n",
      "103  0.037288  \n",
      "104  0.037288  \n",
      "105  0.037288  \n",
      "106  0.037288  \n",
      "107  0.037288  \n",
      "\n",
      "[108 rows x 13 columns]\n"
     ]
    }
   ],
   "source": []
  }
 ],
 "metadata": {
  "kernelspec": {
   "display_name": "Python 3",
   "language": "python",
   "name": "python3"
  },
  "language_info": {
   "codemirror_mode": {
    "name": "ipython",
    "version": 3
   },
   "file_extension": ".py",
   "mimetype": "text/x-python",
   "name": "python",
   "nbconvert_exporter": "python",
   "pygments_lexer": "ipython3",
   "version": "3.9.2"
  }
 },
 "nbformat": 4,
 "nbformat_minor": 2
}
