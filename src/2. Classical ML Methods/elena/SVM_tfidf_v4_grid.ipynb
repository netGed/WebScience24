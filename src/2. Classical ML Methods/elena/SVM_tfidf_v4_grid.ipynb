{
 "cells": [
  {
   "cell_type": "code",
   "execution_count": null,
   "metadata": {},
   "outputs": [],
   "source": [
    "from sklearn.svm import SVC\n",
    "from sklearn.metrics import accuracy_score, precision_score, recall_score, f1_score, classification_report\n",
    "import pandas as pd\n",
    "import numpy as np\n",
    "import matplotlib.pyplot as plt\n",
    "import vectorize_functions\n",
    "from sklearn.model_selection import GridSearchCV, train_test_split, cross_val_score\n",
    "from sklearn.datasets import make_classification\n"
   ]
  },
  {
   "cell_type": "markdown",
   "metadata": {},
   "source": [
    "Einladen der vektorisierten Daten"
   ]
  },
  {
   "cell_type": "code",
   "execution_count": 2,
   "metadata": {},
   "outputs": [],
   "source": [
    "X_train, X_test, y_train, y_test = vectorize_functions.vectorize_tfidf()"
   ]
  },
  {
   "cell_type": "code",
   "execution_count": 3,
   "metadata": {},
   "outputs": [
    {
     "name": "stdout",
     "output_type": "stream",
     "text": [
      "Train\n",
      "- Positive: 1272\n",
      "- Negative: 18055\n",
      "- Verhältnis: 14.194182389937106\n",
      "Test\n",
      "- Positive: 533\n",
      "- Negative: 7750\n",
      "- Verhältnis: 14.540337711069418\n"
     ]
    }
   ],
   "source": [
    "positive = np.count_nonzero(y_train == 1)\n",
    "negative = np.count_nonzero(y_train == 0)\n",
    "print(\"Train\")\n",
    "print(\"- Positive:\", positive)\n",
    "print(\"- Negative:\", negative)\n",
    "print(\"- Verhältnis:\", negative / positive)\n",
    "\n",
    "positive = np.count_nonzero(y_test == 1)\n",
    "negative = np.count_nonzero(y_test == 0)\n",
    "print(\"Test\")\n",
    "print(\"- Positive:\", positive)\n",
    "print(\"- Negative:\", negative)\n",
    "print(\"- Verhältnis:\", negative / positive)"
   ]
  },
  {
   "cell_type": "code",
   "execution_count": 4,
   "metadata": {},
   "outputs": [
    {
     "name": "stdout",
     "output_type": "stream",
     "text": [
      "X_train shape (19327, 6319)\n",
      "y_train shape (19327,)\n",
      "X_test shape (8283, 6319)\n",
      "y_test shape (8283,)\n"
     ]
    }
   ],
   "source": [
    "print(\"X_train shape\", X_train.shape)\n",
    "print(\"y_train shape\", y_train.shape)\n",
    "\n",
    "print(\"X_test shape\", X_test.shape)\n",
    "print(\"y_test shape\", y_test.shape)"
   ]
  },
  {
   "cell_type": "markdown",
   "metadata": {},
   "source": [
    "# Evaluation"
   ]
  },
  {
   "cell_type": "markdown",
   "metadata": {},
   "source": [
    "# SVM\n"
   ]
  },
  {
   "cell_type": "code",
   "execution_count": null,
   "metadata": {},
   "outputs": [
    {
     "name": "stdout",
     "output_type": "stream",
     "text": [
      "Fitting 3 folds for each of 108 candidates, totalling 324 fits\n",
      "      kernel  degree     C  gamma  class_weight  train_accuracy  train_recall  \\\n",
      "0     linear       3  0.01   0.01  {0: 1, 1: 1}        0.981528      0.871855   \n",
      "1    sigmoid       3  0.01   0.01  {0: 1, 1: 1}        0.981528      0.871855   \n",
      "2     linear       3  0.01   0.10  {0: 1, 1: 1}        0.981528      0.871855   \n",
      "3    sigmoid       3  0.01   0.10  {0: 1, 1: 1}        0.981528      0.871855   \n",
      "4     linear       3  0.01   1.00  {0: 1, 1: 1}        0.981528      0.871855   \n",
      "..       ...     ...   ...    ...           ...             ...           ...   \n",
      "103  sigmoid       5  1.00   0.01  {0: 1, 1: 3}        0.981528      0.871855   \n",
      "104   linear       5  1.00   0.10  {0: 1, 1: 3}        0.981528      0.871855   \n",
      "105  sigmoid       5  1.00   0.10  {0: 1, 1: 3}        0.981528      0.871855   \n",
      "106   linear       5  1.00   1.00  {0: 1, 1: 3}        0.981528      0.871855   \n",
      "107  sigmoid       5  1.00   1.00  {0: 1, 1: 3}        0.981528      0.871855   \n",
      "\n",
      "     train_precision  train_f1  test_accuracy  test_recall  test_precision  \\\n",
      "0           0.851113  0.861359       0.955451      0.60788        0.669421   \n",
      "1           0.851113  0.861359       0.955451      0.60788        0.669421   \n",
      "2           0.851113  0.861359       0.955451      0.60788        0.669421   \n",
      "3           0.851113  0.861359       0.955451      0.60788        0.669421   \n",
      "4           0.851113  0.861359       0.955451      0.60788        0.669421   \n",
      "..               ...       ...            ...          ...             ...   \n",
      "103         0.851113  0.861359       0.955451      0.60788        0.669421   \n",
      "104         0.851113  0.861359       0.955451      0.60788        0.669421   \n",
      "105         0.851113  0.861359       0.955451      0.60788        0.669421   \n",
      "106         0.851113  0.861359       0.955451      0.60788        0.669421   \n",
      "107         0.851113  0.861359       0.955451      0.60788        0.669421   \n",
      "\n",
      "      test_f1  \n",
      "0    0.637168  \n",
      "1    0.637168  \n",
      "2    0.637168  \n",
      "3    0.637168  \n",
      "4    0.637168  \n",
      "..        ...  \n",
      "103  0.637168  \n",
      "104  0.637168  \n",
      "105  0.637168  \n",
      "106  0.637168  \n",
      "107  0.637168  \n",
      "\n",
      "[108 rows x 13 columns]\n"
     ]
    }
   ],
   "source": [
    "results_list = []\n",
    "\n",
    "param_grid = {\n",
    "    'kernel': ['linear', 'sigmoid'],\n",
    "    'degree': [3, 4, 5],\n",
    "    'C': [0.01, 0.1, 1],\n",
    "    'gamma': [0.01, 0.1, 1],\n",
    "    'random_state': [42],\n",
    "    'class_weight': [{0: 1, 1: 1}, {0: 1, 1: 3}]\n",
    "}\n",
    "\n",
    "svm = SVC()\n",
    "\n",
    "grid_search = GridSearchCV(estimator=svm, param_grid=param_grid, scoring='f1', cv=3, verbose=2, n_jobs=-1)\n",
    "\n",
    "grid_search.fit(X_train, y_train)\n",
    "\n",
    "for params in grid_search.cv_results_['params']:\n",
    "    model = SVC(**params)  \n",
    "    model.fit(X_train, y_train)  \n",
    "\n",
    "    y_train_pred = model.predict(X_train)\n",
    "\n",
    "    y_test_pred = model.predict(X_test)\n",
    "\n",
    "    train_accuracy = accuracy_score(y_train, y_train_pred)\n",
    "    train_recall = recall_score(y_train, y_train_pred)\n",
    "    train_precision = precision_score(y_train, y_train_pred)\n",
    "    train_f1 = f1_score(y_train, y_train_pred)\n",
    "\n",
    "    test_accuracy = accuracy_score(y_test, y_test_pred)\n",
    "    test_recall = recall_score(y_test, y_test_pred)\n",
    "    test_precision = precision_score(y_test, y_test_pred)\n",
    "    test_f1 = f1_score(y_test, y_test_pred)\n",
    "\n",
    "    result_dict = {\n",
    "        'kernel': params['kernel'],\n",
    "        'degree': params['degree'],\n",
    "        'C': params['C'],\n",
    "        'gamma': params['gamma'],\n",
    "        'class_weight': params['class_weight'],\n",
    "        'train_accuracy': train_accuracy,\n",
    "        'train_recall': train_recall,\n",
    "        'train_precision': train_precision,\n",
    "        'train_f1': train_f1,\n",
    "        'test_accuracy': test_accuracy,\n",
    "        'test_recall': test_recall,\n",
    "        'test_precision': test_precision,\n",
    "        'test_f1': test_f1\n",
    "    }\n",
    "\n",
    "    results_list.append(result_dict)\n",
    "\n",
    "results_df = pd.DataFrame(results_list)\n",
    "\n",
    "results_df.to_csv('svm_grid_tfidf_lin_sig.csv', index=False)\n",
    "\n",
    "print(results_df)\n"
   ]
  },
  {
   "cell_type": "code",
   "execution_count": null,
   "metadata": {},
   "outputs": [
    {
     "name": "stdout",
     "output_type": "stream",
     "text": [
      "Fitting 3 folds for each of 108 candidates, totalling 324 fits\n",
      "    kernel  degree     C  gamma  class_weight  train_accuracy  train_recall  \\\n",
      "0      rbf       3  0.01   0.01  {0: 1, 1: 1}        0.999379      0.998428   \n",
      "1     poly       3  0.01   0.01  {0: 1, 1: 1}        0.999379      0.998428   \n",
      "2      rbf       3  0.01   0.10  {0: 1, 1: 1}        0.999379      0.998428   \n",
      "3     poly       3  0.01   0.10  {0: 1, 1: 1}        0.999379      0.998428   \n",
      "4      rbf       3  0.01   1.00  {0: 1, 1: 1}        0.999379      0.998428   \n",
      "..     ...     ...   ...    ...           ...             ...           ...   \n",
      "103   poly       5  1.00   0.01  {0: 1, 1: 3}        0.999379      0.998428   \n",
      "104    rbf       5  1.00   0.10  {0: 1, 1: 3}        0.999379      0.998428   \n",
      "105   poly       5  1.00   0.10  {0: 1, 1: 3}        0.999379      0.998428   \n",
      "106    rbf       5  1.00   1.00  {0: 1, 1: 3}        0.999379      0.998428   \n",
      "107   poly       5  1.00   1.00  {0: 1, 1: 3}        0.999379      0.998428   \n",
      "\n",
      "     train_precision  train_f1  test_accuracy  test_recall  test_precision  \\\n",
      "0           0.992188  0.995298       0.959676     0.437148        0.872659   \n",
      "1           0.992188  0.995298       0.959676     0.437148        0.872659   \n",
      "2           0.992188  0.995298       0.959676     0.437148        0.872659   \n",
      "3           0.992188  0.995298       0.959676     0.437148        0.872659   \n",
      "4           0.992188  0.995298       0.959676     0.437148        0.872659   \n",
      "..               ...       ...            ...          ...             ...   \n",
      "103         0.992188  0.995298       0.959676     0.437148        0.872659   \n",
      "104         0.992188  0.995298       0.959676     0.437148        0.872659   \n",
      "105         0.992188  0.995298       0.959676     0.437148        0.872659   \n",
      "106         0.992188  0.995298       0.959676     0.437148        0.872659   \n",
      "107         0.992188  0.995298       0.959676     0.437148        0.872659   \n",
      "\n",
      "     test_f1  \n",
      "0     0.5825  \n",
      "1     0.5825  \n",
      "2     0.5825  \n",
      "3     0.5825  \n",
      "4     0.5825  \n",
      "..       ...  \n",
      "103   0.5825  \n",
      "104   0.5825  \n",
      "105   0.5825  \n",
      "106   0.5825  \n",
      "107   0.5825  \n",
      "\n",
      "[108 rows x 13 columns]\n"
     ]
    }
   ],
   "source": []
  }
 ],
 "metadata": {
  "kernelspec": {
   "display_name": "Python 3",
   "language": "python",
   "name": "python3"
  },
  "language_info": {
   "codemirror_mode": {
    "name": "ipython",
    "version": 3
   },
   "file_extension": ".py",
   "mimetype": "text/x-python",
   "name": "python",
   "nbconvert_exporter": "python",
   "pygments_lexer": "ipython3",
   "version": "3.9.2"
  }
 },
 "nbformat": 4,
 "nbformat_minor": 2
}
