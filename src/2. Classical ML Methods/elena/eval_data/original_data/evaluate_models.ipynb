{
 "cells": [
  {
   "cell_type": "code",
   "execution_count": 1,
   "metadata": {},
   "outputs": [],
   "source": [
    "import os\n",
    "import pandas as pd"
   ]
  },
  {
   "cell_type": "code",
   "execution_count": 3,
   "metadata": {},
   "outputs": [],
   "source": [
    "#loading files and bringing them togehter in one df\n",
    "file_paths = [\n",
    "    'svm_grid_tfidf_linear.csv',\n",
    "    'svm_grid_tfidf_poly.csv',\n",
    "    'svm_grid_tfidf_rbf.csv',\n",
    "    'svm_grid_tfidf_sigmoid.csv',\n",
    "    'svm_grid_w2v_linear.csv',\n",
    "    'svm_grid_w2v_poly.csv',\n",
    "    'svm_grid_w2v_rbf.csv',\n",
    "    'svm_grid_w2v_sigmoid.csv'\n",
    "]\n",
    "\n",
    "dataframes = []\n",
    "\n",
    "for file_path in file_paths:\n",
    "    file_name = os.path.basename(file_path) \n",
    "    df = pd.read_csv(file_path)\n",
    "    df['source_file'] = file_name  \n",
    "    dataframes.append(df)\n",
    "\n",
    "combined_df = pd.concat(dataframes, ignore_index=True)\n"
   ]
  },
  {
   "cell_type": "code",
   "execution_count": 4,
   "metadata": {},
   "outputs": [
    {
     "name": "stdout",
     "output_type": "stream",
     "text": [
      "Files read and combined successfully.\n"
     ]
    }
   ],
   "source": [
    "# save resulting df\n",
    "combined_df.to_csv('combined_output.csv', index=False)\n",
    "print(\"Files read and combined successfully.\")"
   ]
  },
  {
   "cell_type": "code",
   "execution_count": 6,
   "metadata": {},
   "outputs": [
    {
     "name": "stdout",
     "output_type": "stream",
     "text": [
      "    vectorization   kernel degree     C  gamma  random_state  class_weight  \\\n",
      "483         tfidf  sigmoid      X  1.00   1.00            40  {0: 1, 1: 5}   \n",
      "484         tfidf  sigmoid      X  1.00   1.00            42  {0: 1, 1: 5}   \n",
      "485         tfidf  sigmoid      X  1.00   1.00            44  {0: 1, 1: 5}   \n",
      "885           w2v      rbf      X  1.00   0.10            40  {0: 1, 1: 5}   \n",
      "886           w2v      rbf      X  1.00   0.10            42  {0: 1, 1: 5}   \n",
      "..            ...      ...    ...   ...    ...           ...           ...   \n",
      "334         tfidf      rbf      X  0.01   0.01            42  {0: 1, 1: 3}   \n",
      "335         tfidf      rbf      X  0.01   0.01            44  {0: 1, 1: 3}   \n",
      "336         tfidf      rbf      X  0.01   0.10            40  {0: 1, 1: 3}   \n",
      "337         tfidf      rbf      X  0.01   0.10            42  {0: 1, 1: 3}   \n",
      "486           w2v   linear      X  0.01   0.01            40  {0: 1, 1: 1}   \n",
      "\n",
      "     test_recall   test_f1  \n",
      "483     0.716621  0.586399  \n",
      "484     0.716621  0.586399  \n",
      "485     0.716621  0.586399  \n",
      "885     0.702997  0.554839  \n",
      "886     0.702997  0.554839  \n",
      "..           ...       ...  \n",
      "334     0.000000  0.000000  \n",
      "335     0.000000  0.000000  \n",
      "336     0.000000  0.000000  \n",
      "337     0.000000  0.000000  \n",
      "486     0.000000  0.000000  \n",
      "\n",
      "[972 rows x 9 columns]\n"
     ]
    }
   ],
   "source": [
    "df = (pd.read_csv('combined_output.csv'))\n",
    "\n",
    "print(df.sort_values(by=['test_recall'], ascending=[False])[['vectorization', 'kernel', 'degree', 'C', 'gamma', 'random_state', 'class_weight', 'test_recall', 'test_f1']])"
   ]
  },
  {
   "cell_type": "code",
   "execution_count": 7,
   "metadata": {},
   "outputs": [
    {
     "name": "stdout",
     "output_type": "stream",
     "text": [
      "    vectorization  kernel degree     C  gamma  random_state  class_weight  \\\n",
      "401         tfidf     rbf      X  1.00   0.10            44  {0: 1, 1: 5}   \n",
      "400         tfidf     rbf      X  1.00   0.10            42  {0: 1, 1: 5}   \n",
      "399         tfidf     rbf      X  1.00   0.10            40  {0: 1, 1: 5}   \n",
      "63          tfidf  linear      X  1.00   0.01            40  {0: 1, 1: 3}   \n",
      "71          tfidf  linear      X  1.00   1.00            44  {0: 1, 1: 3}   \n",
      "..            ...     ...    ...   ...    ...           ...           ...   \n",
      "334         tfidf     rbf      X  0.01   0.01            42  {0: 1, 1: 3}   \n",
      "335         tfidf     rbf      X  0.01   0.01            44  {0: 1, 1: 3}   \n",
      "336         tfidf     rbf      X  0.01   0.10            40  {0: 1, 1: 3}   \n",
      "337         tfidf     rbf      X  0.01   0.10            42  {0: 1, 1: 3}   \n",
      "486           w2v  linear      X  0.01   0.01            40  {0: 1, 1: 1}   \n",
      "\n",
      "     test_recall   test_f1  \n",
      "401     0.610354  0.632768  \n",
      "400     0.610354  0.632768  \n",
      "399     0.610354  0.632768  \n",
      "63      0.621253  0.628966  \n",
      "71      0.621253  0.628966  \n",
      "..           ...       ...  \n",
      "334     0.000000  0.000000  \n",
      "335     0.000000  0.000000  \n",
      "336     0.000000  0.000000  \n",
      "337     0.000000  0.000000  \n",
      "486     0.000000  0.000000  \n",
      "\n",
      "[972 rows x 9 columns]\n"
     ]
    }
   ],
   "source": [
    "df = (pd.read_csv('combined_output.csv'))\n",
    "\n",
    "print(df.sort_values(by=['test_f1'], ascending=[False])[['vectorization', 'kernel', 'degree', 'C', 'gamma', 'random_state', 'class_weight', 'test_recall', 'test_f1']])"
   ]
  },
  {
   "cell_type": "code",
   "execution_count": null,
   "metadata": {},
   "outputs": [],
   "source": []
  }
 ],
 "metadata": {
  "kernelspec": {
   "display_name": "Python 3",
   "language": "python",
   "name": "python3"
  },
  "language_info": {
   "codemirror_mode": {
    "name": "ipython",
    "version": 3
   },
   "file_extension": ".py",
   "mimetype": "text/x-python",
   "name": "python",
   "nbconvert_exporter": "python",
   "pygments_lexer": "ipython3",
   "version": "3.9.2"
  }
 },
 "nbformat": 4,
 "nbformat_minor": 2
}
