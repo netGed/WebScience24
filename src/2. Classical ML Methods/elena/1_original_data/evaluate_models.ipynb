{
 "cells": [
  {
   "cell_type": "code",
   "execution_count": 19,
   "metadata": {},
   "outputs": [],
   "source": [
    "import os\n",
    "import pandas as pd"
   ]
  },
  {
   "cell_type": "code",
   "execution_count": 20,
   "metadata": {},
   "outputs": [],
   "source": [
    "#loading files and bringing them togehter in one df\n",
    "file_paths = [\n",
    "    'tfidf/svm_grid_tfidf_linear.csv',\n",
    "    'tfidf/svm_grid_tfidf_poly.csv',\n",
    "    'tfidf/svm_grid_tfidf_rbf.csv',\n",
    "    'tfidf/svm_grid_tfidf_sigmoid.csv',\n",
    "    'w2v/svm_grid_w2v_linear.csv',\n",
    "    'w2v/svm_grid_w2v_poly.csv',\n",
    "    'w2v/svm_grid_w2v_rbf.csv',\n",
    "    'w2v/svm_grid_w2v_sigmoid.csv',\n",
    "    'glove/svm_grid_glove_linear.csv',\n",
    "    'glove/svm_grid_glove_poly.csv',\n",
    "    'glove/svm_grid_glove_rbf.csv',\n",
    "    'glove/svm_grid_glove_sigmoid.csv'\n",
    "]\n",
    "\n",
    "dataframes = []\n",
    "\n",
    "for file_path in file_paths:\n",
    "    file_name = os.path.basename(file_path) \n",
    "    df = pd.read_csv(file_path)\n",
    "    df['source_file'] = file_name  \n",
    "    dataframes.append(df)\n",
    "\n",
    "combined_df = pd.concat(dataframes, ignore_index=True)\n"
   ]
  },
  {
   "cell_type": "code",
   "execution_count": 21,
   "metadata": {},
   "outputs": [],
   "source": [
    "# save resulting df\n",
    "combined_df.to_csv('combined_output.csv', index=False)"
   ]
  },
  {
   "cell_type": "code",
   "execution_count": 22,
   "metadata": {},
   "outputs": [],
   "source": [
    "df = (pd.read_csv('combined_output.csv'))"
   ]
  },
  {
   "cell_type": "code",
   "execution_count": 23,
   "metadata": {},
   "outputs": [
    {
     "name": "stdout",
     "output_type": "stream",
     "text": [
      "     vectorization  kernel degree    C  gamma  random_state  class_weight  \\\n",
      "1373         glove     rbf      X  1.0   0.10            44  {0: 1, 1: 5}   \n",
      "1372         glove     rbf      X  1.0   0.10            42  {0: 1, 1: 5}   \n",
      "1192         glove    poly      3  0.1   0.10            42  {0: 1, 1: 5}   \n",
      "1191         glove    poly      3  0.1   0.10            40  {0: 1, 1: 5}   \n",
      "1371         glove     rbf      X  1.0   0.10            40  {0: 1, 1: 5}   \n",
      "1193         glove    poly      3  0.1   0.10            44  {0: 1, 1: 5}   \n",
      "1045         glove  linear      X  1.0   0.01            42  {0: 1, 1: 5}   \n",
      "1044         glove  linear      X  1.0   0.01            40  {0: 1, 1: 5}   \n",
      "1047         glove  linear      X  1.0   0.10            40  {0: 1, 1: 5}   \n",
      "1046         glove  linear      X  1.0   0.01            44  {0: 1, 1: 5}   \n",
      "1051         glove  linear      X  1.0   1.00            42  {0: 1, 1: 5}   \n",
      "1370         glove     rbf      X  1.0   0.01            44  {0: 1, 1: 5}   \n",
      "1369         glove     rbf      X  1.0   0.01            42  {0: 1, 1: 5}   \n",
      "1368         glove     rbf      X  1.0   0.01            40  {0: 1, 1: 5}   \n",
      "1050         glove  linear      X  1.0   1.00            40  {0: 1, 1: 5}   \n",
      "\n",
      "       test_f1  test_recall_1  test_precision  test_accuracy  test_mcc  \n",
      "1373  0.572334       0.738420        0.467241       0.933102  0.554649  \n",
      "1372  0.572334       0.738420        0.467241       0.933102  0.554649  \n",
      "1192  0.550813       0.738420        0.439222       0.926990       NaN  \n",
      "1191  0.550813       0.738420        0.439222       0.926990       NaN  \n",
      "1371  0.572334       0.738420        0.467241       0.933102  0.554649  \n",
      "1193  0.550813       0.738420        0.439222       0.926990       NaN  \n",
      "1045  0.512524       0.724796        0.396423       0.916419  0.496821  \n",
      "1044  0.512524       0.724796        0.396423       0.916419  0.496821  \n",
      "1047  0.512524       0.724796        0.396423       0.916419  0.496821  \n",
      "1046  0.512524       0.724796        0.396423       0.916419  0.496821  \n",
      "1051  0.512524       0.724796        0.396423       0.916419  0.496821  \n",
      "1370  0.539007       0.724796        0.429032       0.924843  0.521479  \n",
      "1369  0.539007       0.724796        0.429032       0.924843  0.521479  \n",
      "1368  0.539007       0.724796        0.429032       0.924843  0.521479  \n",
      "1050  0.512524       0.724796        0.396423       0.916419  0.496821  \n"
     ]
    }
   ],
   "source": [
    "print(df.sort_values(by=['test_recall_1'], ascending=[False]).head(15)[['vectorization', 'kernel', 'degree', 'C', 'gamma', 'random_state', 'class_weight', 'test_f1', 'test_recall_1', 'test_precision', 'test_accuracy', 'test_mcc']])"
   ]
  },
  {
   "cell_type": "code",
   "execution_count": 25,
   "metadata": {},
   "outputs": [
    {
     "name": "stdout",
     "output_type": "stream",
     "text": [
      "    vectorization   kernel degree    C  gamma  random_state  class_weight  \\\n",
      "401         tfidf      rbf      X  1.0   0.10            44  {0: 1, 1: 5}   \n",
      "400         tfidf      rbf      X  1.0   0.10            42  {0: 1, 1: 5}   \n",
      "399         tfidf      rbf      X  1.0   0.10            40  {0: 1, 1: 5}   \n",
      "65          tfidf   linear      X  1.0   0.01            44  {0: 1, 1: 3}   \n",
      "64          tfidf   linear      X  1.0   0.01            42  {0: 1, 1: 3}   \n",
      "63          tfidf   linear      X  1.0   0.01            40  {0: 1, 1: 3}   \n",
      "67          tfidf   linear      X  1.0   0.10            42  {0: 1, 1: 3}   \n",
      "68          tfidf   linear      X  1.0   0.10            44  {0: 1, 1: 3}   \n",
      "66          tfidf   linear      X  1.0   0.10            40  {0: 1, 1: 3}   \n",
      "69          tfidf   linear      X  1.0   1.00            40  {0: 1, 1: 3}   \n",
      "70          tfidf   linear      X  1.0   1.00            42  {0: 1, 1: 3}   \n",
      "71          tfidf   linear      X  1.0   1.00            44  {0: 1, 1: 3}   \n",
      "475         tfidf  sigmoid      X  1.0   1.00            42  {0: 1, 1: 3}   \n",
      "476         tfidf  sigmoid      X  1.0   1.00            44  {0: 1, 1: 3}   \n",
      "474         tfidf  sigmoid      X  1.0   1.00            40  {0: 1, 1: 3}   \n",
      "\n",
      "      test_f1  test_recall_1  test_precision  test_accuracy  test_mcc  \n",
      "401  0.632768       0.610354        0.656891       0.957053  0.610458  \n",
      "400  0.632768       0.610354        0.656891       0.957053  0.610458  \n",
      "399  0.632768       0.610354        0.656891       0.957053  0.610458  \n",
      "65   0.628966       0.621253        0.636872       0.955567  0.605390  \n",
      "64   0.628966       0.621253        0.636872       0.955567  0.605390  \n",
      "63   0.628966       0.621253        0.636872       0.955567  0.605390  \n",
      "67   0.628966       0.621253        0.636872       0.955567  0.605390  \n",
      "68   0.628966       0.621253        0.636872       0.955567  0.605390  \n",
      "66   0.628966       0.621253        0.636872       0.955567  0.605390  \n",
      "69   0.628966       0.621253        0.636872       0.955567  0.605390  \n",
      "70   0.628966       0.621253        0.636872       0.955567  0.605390  \n",
      "71   0.628966       0.621253        0.636872       0.955567  0.605390  \n",
      "475  0.619792       0.648501        0.593516       0.951767  0.594761  \n",
      "476  0.619792       0.648501        0.593516       0.951767  0.594761  \n",
      "474  0.619792       0.648501        0.593516       0.951767  0.594761  \n"
     ]
    }
   ],
   "source": [
    "print(df.sort_values(by=['test_f1'], ascending=[False]).head(15)[['vectorization', 'kernel', 'degree', 'C', 'gamma', 'random_state', 'class_weight', 'test_f1', 'test_recall_1', 'test_precision', 'test_accuracy', 'test_mcc']])"
   ]
  },
  {
   "cell_type": "code",
   "execution_count": 24,
   "metadata": {},
   "outputs": [
    {
     "name": "stdout",
     "output_type": "stream",
     "text": [
      "    vectorization   kernel degree    C  gamma  random_state  class_weight  \\\n",
      "401         tfidf      rbf      X  1.0   0.10            44  {0: 1, 1: 5}   \n",
      "400         tfidf      rbf      X  1.0   0.10            42  {0: 1, 1: 5}   \n",
      "399         tfidf      rbf      X  1.0   0.10            40  {0: 1, 1: 5}   \n",
      "63          tfidf   linear      X  1.0   0.01            40  {0: 1, 1: 3}   \n",
      "64          tfidf   linear      X  1.0   0.01            42  {0: 1, 1: 3}   \n",
      "65          tfidf   linear      X  1.0   0.01            44  {0: 1, 1: 3}   \n",
      "66          tfidf   linear      X  1.0   0.10            40  {0: 1, 1: 3}   \n",
      "67          tfidf   linear      X  1.0   0.10            42  {0: 1, 1: 3}   \n",
      "68          tfidf   linear      X  1.0   0.10            44  {0: 1, 1: 3}   \n",
      "69          tfidf   linear      X  1.0   1.00            40  {0: 1, 1: 3}   \n",
      "70          tfidf   linear      X  1.0   1.00            42  {0: 1, 1: 3}   \n",
      "71          tfidf   linear      X  1.0   1.00            44  {0: 1, 1: 3}   \n",
      "476         tfidf  sigmoid      X  1.0   1.00            44  {0: 1, 1: 3}   \n",
      "475         tfidf  sigmoid      X  1.0   1.00            42  {0: 1, 1: 3}   \n",
      "474         tfidf  sigmoid      X  1.0   1.00            40  {0: 1, 1: 3}   \n",
      "\n",
      "      test_f1  test_recall_1  test_precision  test_accuracy  test_mcc  \n",
      "401  0.632768       0.610354        0.656891       0.957053  0.610458  \n",
      "400  0.632768       0.610354        0.656891       0.957053  0.610458  \n",
      "399  0.632768       0.610354        0.656891       0.957053  0.610458  \n",
      "63   0.628966       0.621253        0.636872       0.955567  0.605390  \n",
      "64   0.628966       0.621253        0.636872       0.955567  0.605390  \n",
      "65   0.628966       0.621253        0.636872       0.955567  0.605390  \n",
      "66   0.628966       0.621253        0.636872       0.955567  0.605390  \n",
      "67   0.628966       0.621253        0.636872       0.955567  0.605390  \n",
      "68   0.628966       0.621253        0.636872       0.955567  0.605390  \n",
      "69   0.628966       0.621253        0.636872       0.955567  0.605390  \n",
      "70   0.628966       0.621253        0.636872       0.955567  0.605390  \n",
      "71   0.628966       0.621253        0.636872       0.955567  0.605390  \n",
      "476  0.619792       0.648501        0.593516       0.951767  0.594761  \n",
      "475  0.619792       0.648501        0.593516       0.951767  0.594761  \n",
      "474  0.619792       0.648501        0.593516       0.951767  0.594761  \n"
     ]
    }
   ],
   "source": [
    "print(df.sort_values(by=['test_mcc'], ascending=[False]).head(15)[['vectorization', 'kernel', 'degree', 'C', 'gamma', 'random_state', 'class_weight', 'test_f1', 'test_recall_1', 'test_precision', 'test_accuracy', 'test_mcc']])"
   ]
  }
 ],
 "metadata": {
  "kernelspec": {
   "display_name": "Python 3",
   "language": "python",
   "name": "python3"
  },
  "language_info": {
   "codemirror_mode": {
    "name": "ipython",
    "version": 3
   },
   "file_extension": ".py",
   "mimetype": "text/x-python",
   "name": "python",
   "nbconvert_exporter": "python",
   "pygments_lexer": "ipython3",
   "version": "3.9.2"
  }
 },
 "nbformat": 4,
 "nbformat_minor": 2
}
