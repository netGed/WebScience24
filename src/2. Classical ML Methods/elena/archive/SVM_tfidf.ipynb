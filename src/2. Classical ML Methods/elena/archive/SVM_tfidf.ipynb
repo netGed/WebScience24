{
 "cells": [
  {
   "cell_type": "code",
   "execution_count": 1,
   "metadata": {},
   "outputs": [],
   "source": [
    "from sklearn.model_selection import train_test_split\n",
    "from sklearn.svm import SVC\n",
    "from sklearn.metrics import accuracy_score, precision_score, recall_score, f1_score, classification_report\n",
    "\n",
    "import pandas as pd\n",
    "import numpy as np\n",
    "import matplotlib.pyplot as plt\n",
    "from sklearn.metrics import precision_score, recall_score, f1_score, confusion_matrix, classification_report\n",
    "from sklearn import metrics\n",
    "\n",
    "\n",
    "\n",
    "from sklearn.model_selection import cross_val_score\n",
    "\n",
    "import vectorize_functions\n"
   ]
  },
  {
   "cell_type": "markdown",
   "metadata": {},
   "source": [
    "Einladen der vektorisierten Daten"
   ]
  },
  {
   "cell_type": "code",
   "execution_count": 2,
   "metadata": {},
   "outputs": [],
   "source": [
    "X_train, X_test, y_train, y_test = vectorize_functions.vectorize_tfidf()"
   ]
  },
  {
   "cell_type": "code",
   "execution_count": 3,
   "metadata": {},
   "outputs": [
    {
     "name": "stdout",
     "output_type": "stream",
     "text": [
      "Train\n",
      "- Positive: 1270\n",
      "- Negative: 18084\n",
      "- Verhältnis: 14.239370078740157\n",
      "Test\n",
      "- Positive: 541\n",
      "- Negative: 7754\n",
      "- Verhältnis: 14.33271719038817\n"
     ]
    }
   ],
   "source": [
    "positive = np.count_nonzero(y_train == 1)\n",
    "negative = np.count_nonzero(y_train == 0)\n",
    "print(\"Train\")\n",
    "print(\"- Positive:\", positive)\n",
    "print(\"- Negative:\", negative)\n",
    "print(\"- Verhältnis:\", negative / positive)\n",
    "\n",
    "positive = np.count_nonzero(y_test == 1)\n",
    "negative = np.count_nonzero(y_test == 0)\n",
    "print(\"Test\")\n",
    "print(\"- Positive:\", positive)\n",
    "print(\"- Negative:\", negative)\n",
    "print(\"- Verhältnis:\", negative / positive)"
   ]
  },
  {
   "cell_type": "code",
   "execution_count": 4,
   "metadata": {},
   "outputs": [
    {
     "name": "stdout",
     "output_type": "stream",
     "text": [
      "X_train shape (19354, 6293)\n",
      "y_train shape (19354,)\n",
      "X_test shape (8295, 6293)\n",
      "y_test shape (8295,)\n"
     ]
    }
   ],
   "source": [
    "print(\"X_train shape\", X_train.shape)\n",
    "print(\"y_train shape\", y_train.shape)\n",
    "\n",
    "print(\"X_test shape\", X_test.shape)\n",
    "print(\"y_test shape\", y_test.shape)"
   ]
  },
  {
   "cell_type": "markdown",
   "metadata": {},
   "source": [
    "# Evaluation"
   ]
  },
  {
   "cell_type": "code",
   "execution_count": 5,
   "metadata": {},
   "outputs": [],
   "source": [
    "evaluation = pd.DataFrame(\n",
    "    columns=[\"model\", \"variant\", \"train_acc\", \"train_prec\", \"train_rec\", \"train_f1\", \"test_acc\", \"test_prec\",\n",
    "             \"test_rec\", \"test_f1\"])"
   ]
  },
  {
   "cell_type": "code",
   "execution_count": 6,
   "metadata": {},
   "outputs": [],
   "source": [
    "def add_to_eval_df(model, model_name, variant, x_data_train, y_data_train, x_data_test, y_data_test):\n",
    "    train_acc = model.score(x_data_train, y_data_train)\n",
    "    train_precision = precision_score(y_data_train, model.predict(x_data_train))\n",
    "    train_recall = recall_score(y_data_train, model.predict(x_data_train))\n",
    "    train_f1 = f1_score(y_data_train, model.predict(x_data_train))\n",
    "\n",
    "    test_acc = model.score(x_data_test, y_data_test)\n",
    "    test_precision = precision_score(y_data_test, model.predict(x_data_test))\n",
    "    test_recall = recall_score(y_data_test, model.predict(x_data_test))\n",
    "    test_f1 = f1_score(y_data_test, model.predict(x_data_test))\n",
    "\n",
    "    evaluation.loc[len(evaluation.index)] = [model_name, variant, train_acc, train_precision, train_recall, train_f1,\n",
    "                                             test_acc, test_precision, test_recall, test_f1]"
   ]
  },
  {
   "cell_type": "code",
   "execution_count": 7,
   "metadata": {},
   "outputs": [],
   "source": [
    "def evaluate_model(model, x_test, y_test, sampling_method):\n",
    "    pred = model.predict(x_test)\n",
    "    accscore = metrics.accuracy_score(pred, y_test)\n",
    "\n",
    "    print(f'{sampling_method} model accuracy for classification is =', str('{:04.2f}'.format(accscore * 100)) + '%')\n",
    "    print('------------------------------------------------')\n",
    "    print('Confusion Matrix:')\n",
    "    print(pd.DataFrame(confusion_matrix(y_test, pred)))\n",
    "    print('------------------------------------------------')\n",
    "    print('Classification Report:')\n",
    "    print(classification_report(y_test, pred))\n",
    "\n",
    "    # probs = model.predict_proba(x_test)\n",
    "    # preds = probs[:, 1]\n",
    "    # fpr, tpr, threshold = metrics.roc_curve(y_test, preds)\n",
    "    # roc_auc = metrics.auc(fpr, tpr)\n",
    "\n",
    "    # plt.title('Receiver Operating Characteristic')\n",
    "    # plt.plot(fpr, tpr, 'b', label='AUC = %0.2f' % roc_auc)\n",
    "    # plt.legend(loc='lower right')\n",
    "    # plt.plot([0, 1], [0, 1], 'r--')\n",
    "    # plt.xlim([0, 1])\n",
    "    # plt.ylim([0, 1])\n",
    "    # plt.ylabel('True Positive Rate')\n",
    "    # plt.xlabel('False Positive Rate')\n",
    "    # plt.show()\n"
   ]
  },
  {
   "cell_type": "markdown",
   "metadata": {},
   "source": [
    "# SVM\n"
   ]
  },
  {
   "cell_type": "markdown",
   "metadata": {},
   "source": [
    "# 1. kernel='linear'"
   ]
  },
  {
   "cell_type": "markdown",
   "metadata": {},
   "source": [
    "default settings"
   ]
  },
  {
   "cell_type": "code",
   "execution_count": 8,
   "metadata": {},
   "outputs": [
    {
     "name": "stdout",
     "output_type": "stream",
     "text": [
      "none model accuracy for classification is = 95.78%\n",
      "------------------------------------------------\n",
      "Confusion Matrix:\n",
      "      0    1\n",
      "0  7721   33\n",
      "1   317  224\n",
      "------------------------------------------------\n",
      "Classification Report:\n",
      "              precision    recall  f1-score   support\n",
      "\n",
      "           0       0.96      1.00      0.98      7754\n",
      "           1       0.87      0.41      0.56       541\n",
      "\n",
      "    accuracy                           0.96      8295\n",
      "   macro avg       0.92      0.70      0.77      8295\n",
      "weighted avg       0.95      0.96      0.95      8295\n",
      "\n"
     ]
    }
   ],
   "source": [
    "svm = SVC(kernel='linear', C=1.0, random_state=42)\n",
    "svm.fit(X_train, y_train)\n",
    "\n",
    "evaluate_model(svm, X_test, y_test, \"none\")\n",
    "add_to_eval_df(svm, \"SVM\", \"clean\", X_train, y_train, X_test, y_test)\n"
   ]
  },
  {
   "cell_type": "markdown",
   "metadata": {},
   "source": [
    "tuning"
   ]
  },
  {
   "cell_type": "code",
   "execution_count": 25,
   "metadata": {},
   "outputs": [
    {
     "name": "stdout",
     "output_type": "stream",
     "text": [
      "none model accuracy for classification is = 92.72%\n",
      "------------------------------------------------\n",
      "Confusion Matrix:\n",
      "      0    1\n",
      "0  7328  426\n",
      "1   178  363\n",
      "------------------------------------------------\n",
      "Classification Report:\n",
      "              precision    recall  f1-score   support\n",
      "\n",
      "           0       0.98      0.95      0.96      7754\n",
      "           1       0.46      0.67      0.55       541\n",
      "\n",
      "    accuracy                           0.93      8295\n",
      "   macro avg       0.72      0.81      0.75      8295\n",
      "weighted avg       0.94      0.93      0.93      8295\n",
      "\n"
     ]
    }
   ],
   "source": [
    "svm = SVC(kernel='linear', C=0.5, random_state=42, class_weight={0: 1, 1: 10})\n",
    "svm.fit(X_train, y_train)\n",
    "\n",
    "evaluate_model(svm, X_test, y_test, \"none\")\n",
    "add_to_eval_df(svm, \"SVM\", \"clean\", X_train, y_train, X_test, y_test)"
   ]
  },
  {
   "cell_type": "code",
   "execution_count": 26,
   "metadata": {},
   "outputs": [
    {
     "name": "stdout",
     "output_type": "stream",
     "text": [
      "none model accuracy for classification is = 95.44%\n",
      "------------------------------------------------\n",
      "Confusion Matrix:\n",
      "      0    1\n",
      "0  7601  153\n",
      "1   225  316\n",
      "------------------------------------------------\n",
      "Classification Report:\n",
      "              precision    recall  f1-score   support\n",
      "\n",
      "           0       0.97      0.98      0.98      7754\n",
      "           1       0.67      0.58      0.63       541\n",
      "\n",
      "    accuracy                           0.95      8295\n",
      "   macro avg       0.82      0.78      0.80      8295\n",
      "weighted avg       0.95      0.95      0.95      8295\n",
      "\n"
     ]
    }
   ],
   "source": [
    "svm = SVC(kernel='linear', C=0.9, random_state=42, class_weight={0: 1, 1: 3})\n",
    "svm.fit(X_train, y_train)\n",
    "\n",
    "evaluate_model(svm, X_test, y_test, \"none\")\n",
    "add_to_eval_df(svm, \"SVM\", \"clean\", X_train, y_train, X_test, y_test)"
   ]
  },
  {
   "cell_type": "code",
   "execution_count": 28,
   "metadata": {},
   "outputs": [
    {
     "name": "stdout",
     "output_type": "stream",
     "text": [
      "none model accuracy for classification is = 95.50%\n",
      "------------------------------------------------\n",
      "Confusion Matrix:\n",
      "      0    1\n",
      "0  7607  147\n",
      "1   226  315\n",
      "------------------------------------------------\n",
      "Classification Report:\n",
      "              precision    recall  f1-score   support\n",
      "\n",
      "           0       0.97      0.98      0.98      7754\n",
      "           1       0.68      0.58      0.63       541\n",
      "\n",
      "    accuracy                           0.96      8295\n",
      "   macro avg       0.83      0.78      0.80      8295\n",
      "weighted avg       0.95      0.96      0.95      8295\n",
      "\n"
     ]
    }
   ],
   "source": [
    "svm = SVC(kernel='linear', C=0.8, random_state=42, class_weight={0: 1, 1: 3})\n",
    "svm.fit(X_train, y_train)\n",
    "\n",
    "evaluate_model(svm, X_test, y_test, \"none\")\n",
    "add_to_eval_df(svm, \"SVM\", \"clean\", X_train, y_train, X_test, y_test)"
   ]
  },
  {
   "cell_type": "code",
   "execution_count": 27,
   "metadata": {},
   "outputs": [
    {
     "name": "stdout",
     "output_type": "stream",
     "text": [
      "none model accuracy for classification is = 95.08%\n",
      "------------------------------------------------\n",
      "Confusion Matrix:\n",
      "      0    1\n",
      "0  7554  200\n",
      "1   208  333\n",
      "------------------------------------------------\n",
      "Classification Report:\n",
      "              precision    recall  f1-score   support\n",
      "\n",
      "           0       0.97      0.97      0.97      7754\n",
      "           1       0.62      0.62      0.62       541\n",
      "\n",
      "    accuracy                           0.95      8295\n",
      "   macro avg       0.80      0.79      0.80      8295\n",
      "weighted avg       0.95      0.95      0.95      8295\n",
      "\n"
     ]
    }
   ],
   "source": [
    "svm = SVC(kernel='linear', C=0.8, random_state=42, class_weight={0: 1, 1: 4})\n",
    "svm.fit(X_train, y_train)\n",
    "\n",
    "evaluate_model(svm, X_test, y_test, \"none\")\n",
    "add_to_eval_df(svm, \"SVM\", \"clean\", X_train, y_train, X_test, y_test)"
   ]
  },
  {
   "cell_type": "markdown",
   "metadata": {},
   "source": [
    "# 2. kernel='rbf'"
   ]
  },
  {
   "cell_type": "markdown",
   "metadata": {},
   "source": [
    "default settings"
   ]
  },
  {
   "cell_type": "code",
   "execution_count": 9,
   "metadata": {},
   "outputs": [
    {
     "name": "stdout",
     "output_type": "stream",
     "text": [
      "none model accuracy for classification is = 95.36%\n",
      "------------------------------------------------\n",
      "Confusion Matrix:\n",
      "      0    1\n",
      "0  7743   11\n",
      "1   374  167\n",
      "------------------------------------------------\n",
      "Classification Report:\n",
      "              precision    recall  f1-score   support\n",
      "\n",
      "           0       0.95      1.00      0.98      7754\n",
      "           1       0.94      0.31      0.46       541\n",
      "\n",
      "    accuracy                           0.95      8295\n",
      "   macro avg       0.95      0.65      0.72      8295\n",
      "weighted avg       0.95      0.95      0.94      8295\n",
      "\n"
     ]
    }
   ],
   "source": [
    "svm = SVC(kernel='rbf', C=1.0, random_state=42)\n",
    "svm.fit(X_train, y_train)\n",
    "\n",
    "evaluate_model(svm, X_test, y_test, \"none\")\n",
    "add_to_eval_df(svm, \"SVM\", \"clean\", X_train, y_train, X_test, y_test)\n"
   ]
  },
  {
   "cell_type": "markdown",
   "metadata": {},
   "source": [
    "tuning"
   ]
  },
  {
   "cell_type": "code",
   "execution_count": null,
   "metadata": {},
   "outputs": [
    {
     "name": "stdout",
     "output_type": "stream",
     "text": [
      "none model accuracy for classification is = 95.36%\n",
      "------------------------------------------------\n",
      "Confusion Matrix:\n",
      "      0    1\n",
      "0  7743   11\n",
      "1   374  167\n",
      "------------------------------------------------\n",
      "Classification Report:\n",
      "              precision    recall  f1-score   support\n",
      "\n",
      "           0       0.95      1.00      0.98      7754\n",
      "           1       0.94      0.31      0.46       541\n",
      "\n",
      "    accuracy                           0.95      8295\n",
      "   macro avg       0.95      0.65      0.72      8295\n",
      "weighted avg       0.95      0.95      0.94      8295\n",
      "\n"
     ]
    }
   ],
   "source": [
    "svm = SVC(kernel='rbf', C=1.0, gamma=1, random_state=42)\n",
    "svm.fit(X_train, y_train)\n",
    "\n",
    "evaluate_model(svm, X_test, y_test, \"none\")\n",
    "add_to_eval_df(svm, \"SVM\", \"clean\", X_train, y_train, X_test, y_test)\n"
   ]
  },
  {
   "cell_type": "code",
   "execution_count": 21,
   "metadata": {},
   "outputs": [
    {
     "name": "stdout",
     "output_type": "stream",
     "text": [
      "none model accuracy for classification is = 93.48%\n",
      "------------------------------------------------\n",
      "Confusion Matrix:\n",
      "      0  1\n",
      "0  7754  0\n",
      "1   541  0\n",
      "------------------------------------------------\n",
      "Classification Report:\n",
      "              precision    recall  f1-score   support\n",
      "\n",
      "           0       0.93      1.00      0.97      7754\n",
      "           1       0.00      0.00      0.00       541\n",
      "\n",
      "    accuracy                           0.93      8295\n",
      "   macro avg       0.47      0.50      0.48      8295\n",
      "weighted avg       0.87      0.93      0.90      8295\n",
      "\n"
     ]
    },
    {
     "name": "stderr",
     "output_type": "stream",
     "text": [
      "c:\\Users\\fried\\AppData\\Local\\Programs\\Python\\Python39\\lib\\site-packages\\sklearn\\metrics\\_classification.py:1334: UndefinedMetricWarning: Precision and F-score are ill-defined and being set to 0.0 in labels with no predicted samples. Use `zero_division` parameter to control this behavior.\n",
      "  _warn_prf(average, modifier, msg_start, len(result))\n",
      "c:\\Users\\fried\\AppData\\Local\\Programs\\Python\\Python39\\lib\\site-packages\\sklearn\\metrics\\_classification.py:1334: UndefinedMetricWarning: Precision and F-score are ill-defined and being set to 0.0 in labels with no predicted samples. Use `zero_division` parameter to control this behavior.\n",
      "  _warn_prf(average, modifier, msg_start, len(result))\n",
      "c:\\Users\\fried\\AppData\\Local\\Programs\\Python\\Python39\\lib\\site-packages\\sklearn\\metrics\\_classification.py:1334: UndefinedMetricWarning: Precision and F-score are ill-defined and being set to 0.0 in labels with no predicted samples. Use `zero_division` parameter to control this behavior.\n",
      "  _warn_prf(average, modifier, msg_start, len(result))\n",
      "c:\\Users\\fried\\AppData\\Local\\Programs\\Python\\Python39\\lib\\site-packages\\sklearn\\metrics\\_classification.py:1334: UndefinedMetricWarning: Precision is ill-defined and being set to 0.0 due to no predicted samples. Use `zero_division` parameter to control this behavior.\n",
      "  _warn_prf(average, modifier, msg_start, len(result))\n",
      "c:\\Users\\fried\\AppData\\Local\\Programs\\Python\\Python39\\lib\\site-packages\\sklearn\\metrics\\_classification.py:1334: UndefinedMetricWarning: Precision is ill-defined and being set to 0.0 due to no predicted samples. Use `zero_division` parameter to control this behavior.\n",
      "  _warn_prf(average, modifier, msg_start, len(result))\n"
     ]
    }
   ],
   "source": [
    "svm = SVC(kernel='rbf', C=1.0, gamma=0.01, random_state=42)\n",
    "svm.fit(X_train, y_train)\n",
    "\n",
    "evaluate_model(svm, X_test, y_test, \"none\")\n",
    "add_to_eval_df(svm, \"SVM\", \"clean\", X_train, y_train, X_test, y_test)"
   ]
  },
  {
   "cell_type": "code",
   "execution_count": 20,
   "metadata": {},
   "outputs": [
    {
     "name": "stdout",
     "output_type": "stream",
     "text": [
      "none model accuracy for classification is = 93.51%\n",
      "------------------------------------------------\n",
      "Confusion Matrix:\n",
      "      0  1\n",
      "0  7753  1\n",
      "1   537  4\n",
      "------------------------------------------------\n",
      "Classification Report:\n",
      "              precision    recall  f1-score   support\n",
      "\n",
      "           0       0.94      1.00      0.97      7754\n",
      "           1       0.80      0.01      0.01       541\n",
      "\n",
      "    accuracy                           0.94      8295\n",
      "   macro avg       0.87      0.50      0.49      8295\n",
      "weighted avg       0.93      0.94      0.90      8295\n",
      "\n"
     ]
    }
   ],
   "source": [
    "svm = SVC(kernel='rbf', C=1.0, gamma=0.01, random_state=42, class_weight={0: 1, 1: 3})\n",
    "svm.fit(X_train, y_train)\n",
    "\n",
    "evaluate_model(svm, X_test, y_test, \"none\")\n",
    "add_to_eval_df(svm, \"SVM\", \"clean\", X_train, y_train, X_test, y_test)"
   ]
  },
  {
   "cell_type": "markdown",
   "metadata": {},
   "source": [
    "# 3. kernel='poly'"
   ]
  },
  {
   "cell_type": "markdown",
   "metadata": {},
   "source": [
    "default settings"
   ]
  },
  {
   "cell_type": "code",
   "execution_count": 10,
   "metadata": {},
   "outputs": [
    {
     "name": "stdout",
     "output_type": "stream",
     "text": [
      "none model accuracy for classification is = 93.95%\n",
      "------------------------------------------------\n",
      "Confusion Matrix:\n",
      "      0   1\n",
      "0  7753   1\n",
      "1   501  40\n",
      "------------------------------------------------\n",
      "Classification Report:\n",
      "              precision    recall  f1-score   support\n",
      "\n",
      "           0       0.94      1.00      0.97      7754\n",
      "           1       0.98      0.07      0.14       541\n",
      "\n",
      "    accuracy                           0.94      8295\n",
      "   macro avg       0.96      0.54      0.55      8295\n",
      "weighted avg       0.94      0.94      0.91      8295\n",
      "\n"
     ]
    }
   ],
   "source": [
    "svm = SVC(kernel='poly', C=1.0, random_state=42)\n",
    "svm.fit(X_train, y_train)\n",
    "\n",
    "evaluate_model(svm, X_test, y_test, \"none\")\n",
    "add_to_eval_df(svm, \"SVM\", \"clean\", X_train, y_train, X_test, y_test)\n"
   ]
  },
  {
   "cell_type": "markdown",
   "metadata": {},
   "source": [
    "# 4. kernel='sigmoid'"
   ]
  },
  {
   "cell_type": "markdown",
   "metadata": {},
   "source": [
    "default settings"
   ]
  },
  {
   "cell_type": "code",
   "execution_count": 11,
   "metadata": {},
   "outputs": [
    {
     "name": "stdout",
     "output_type": "stream",
     "text": [
      "none model accuracy for classification is = 95.61%\n",
      "------------------------------------------------\n",
      "Confusion Matrix:\n",
      "      0    1\n",
      "0  7724   30\n",
      "1   334  207\n",
      "------------------------------------------------\n",
      "Classification Report:\n",
      "              precision    recall  f1-score   support\n",
      "\n",
      "           0       0.96      1.00      0.98      7754\n",
      "           1       0.87      0.38      0.53       541\n",
      "\n",
      "    accuracy                           0.96      8295\n",
      "   macro avg       0.92      0.69      0.75      8295\n",
      "weighted avg       0.95      0.96      0.95      8295\n",
      "\n"
     ]
    }
   ],
   "source": [
    "svm = SVC(kernel='sigmoid', C=1.0, random_state=42)\n",
    "svm.fit(X_train, y_train)\n",
    "\n",
    "evaluate_model(svm, X_test, y_test, \"none\")\n",
    "add_to_eval_df(svm, \"SVM\", \"clean\", X_train, y_train, X_test, y_test)\n"
   ]
  },
  {
   "cell_type": "markdown",
   "metadata": {},
   "source": [
    "tuning"
   ]
  },
  {
   "cell_type": "code",
   "execution_count": 23,
   "metadata": {},
   "outputs": [
    {
     "name": "stdout",
     "output_type": "stream",
     "text": [
      "none model accuracy for classification is = 90.66%\n",
      "------------------------------------------------\n",
      "Confusion Matrix:\n",
      "      0    1\n",
      "0  7118  636\n",
      "1   139  402\n",
      "------------------------------------------------\n",
      "Classification Report:\n",
      "              precision    recall  f1-score   support\n",
      "\n",
      "           0       0.98      0.92      0.95      7754\n",
      "           1       0.39      0.74      0.51       541\n",
      "\n",
      "    accuracy                           0.91      8295\n",
      "   macro avg       0.68      0.83      0.73      8295\n",
      "weighted avg       0.94      0.91      0.92      8295\n",
      "\n"
     ]
    }
   ],
   "source": [
    "svm = SVC(kernel='sigmoid', C=0.5, random_state=42, class_weight={0: 1, 1: 10})\n",
    "svm.fit(X_train, y_train)\n",
    "\n",
    "evaluate_model(svm, X_test, y_test, \"none\")\n",
    "add_to_eval_df(svm, \"SVM\", \"clean\", X_train, y_train, X_test, y_test)"
   ]
  },
  {
   "cell_type": "code",
   "execution_count": 24,
   "metadata": {},
   "outputs": [
    {
     "name": "stdout",
     "output_type": "stream",
     "text": [
      "none model accuracy for classification is = 89.69%\n",
      "------------------------------------------------\n",
      "Confusion Matrix:\n",
      "      0    1\n",
      "0  7042  712\n",
      "1   143  398\n",
      "------------------------------------------------\n",
      "Classification Report:\n",
      "              precision    recall  f1-score   support\n",
      "\n",
      "           0       0.98      0.91      0.94      7754\n",
      "           1       0.36      0.74      0.48       541\n",
      "\n",
      "    accuracy                           0.90      8295\n",
      "   macro avg       0.67      0.82      0.71      8295\n",
      "weighted avg       0.94      0.90      0.91      8295\n",
      "\n"
     ]
    }
   ],
   "source": [
    "svm = SVC(kernel='sigmoid', C=0.9, random_state=42, class_weight={0: 1, 1: 10})\n",
    "svm.fit(X_train, y_train)\n",
    "\n",
    "evaluate_model(svm, X_test, y_test, \"none\")\n",
    "add_to_eval_df(svm, \"SVM\", \"clean\", X_train, y_train, X_test, y_test)"
   ]
  },
  {
   "cell_type": "code",
   "execution_count": 16,
   "metadata": {},
   "outputs": [
    {
     "name": "stdout",
     "output_type": "stream",
     "text": [
      "none model accuracy for classification is = 94.90%\n",
      "------------------------------------------------\n",
      "Confusion Matrix:\n",
      "      0    1\n",
      "0  7551  203\n",
      "1   220  321\n",
      "------------------------------------------------\n",
      "Classification Report:\n",
      "              precision    recall  f1-score   support\n",
      "\n",
      "           0       0.97      0.97      0.97      7754\n",
      "           1       0.61      0.59      0.60       541\n",
      "\n",
      "    accuracy                           0.95      8295\n",
      "   macro avg       0.79      0.78      0.79      8295\n",
      "weighted avg       0.95      0.95      0.95      8295\n",
      "\n"
     ]
    }
   ],
   "source": [
    "svm = SVC(kernel='sigmoid', C=0.9, random_state=42, class_weight={0: 1, 1: 3})\n",
    "svm.fit(X_train, y_train)\n",
    "\n",
    "evaluate_model(svm, X_test, y_test, \"none\")\n",
    "add_to_eval_df(svm, \"SVM\", \"clean\", X_train, y_train, X_test, y_test)\n",
    "\n"
   ]
  }
 ],
 "metadata": {
  "kernelspec": {
   "display_name": "Python 3",
   "language": "python",
   "name": "python3"
  },
  "language_info": {
   "codemirror_mode": {
    "name": "ipython",
    "version": 3
   },
   "file_extension": ".py",
   "mimetype": "text/x-python",
   "name": "python",
   "nbconvert_exporter": "python",
   "pygments_lexer": "ipython3",
   "version": "3.9.2"
  }
 },
 "nbformat": 4,
 "nbformat_minor": 2
}
