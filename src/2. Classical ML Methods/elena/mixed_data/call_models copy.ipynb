{
 "cells": [
  {
   "cell_type": "code",
   "execution_count": 10,
   "metadata": {},
   "outputs": [],
   "source": [
    "import joblib\n",
    "import pandas as pd\n"
   ]
  },
  {
   "cell_type": "code",
   "execution_count": 2,
   "metadata": {},
   "outputs": [],
   "source": [
    "# New input to predict\n",
    "new_input = [\"I want you to die\"]"
   ]
  },
  {
   "cell_type": "code",
   "execution_count": 4,
   "metadata": {},
   "outputs": [],
   "source": [
    "# Load models\n",
    "tfidf_linear_model = joblib.load('./tfidf/2_Lauf_joblib/linear/svm_tfidf_linear_best_model_opt.joblib')\n",
    "tfidf_poly_model = joblib.load('./tfidf/2_Lauf_joblib/poly/svm_tfidf_poly_best_model_opt.joblib')\n",
    "tfidf_rbf_model = joblib.load('./tfidf/2_Lauf_joblib/rbf/svm_tfidf_rbf_best_model_opt.joblib')\n",
    "tfidf_sigmoid_model = joblib.load('./tfidf/2_Lauf_joblib/sigmoid/svm_tfidf_sigmoid_best_model_opt.joblib')\n",
    "\n",
    "w2v_linear_model = joblib.load('./w2v/2_Lauf_joblib/linear/svm_w2v_linear_best_model_opt.joblib')\n",
    "w2v_poly_model = joblib.load('./w2v/2_Lauf_joblib/poly/svm_w2v_poly_best_model_opt.joblib')\n",
    "w2v_rbf_model = joblib.load('./w2v/2_Lauf_joblib/rbf/svm_w2v_rbf_best_model_opt.joblib')\n",
    "w2v_sigmoid_model = joblib.load('./w2v/2_Lauf_joblib/sigmoid/svm_w2v_sigmoid_best_model_opt.joblib')\n",
    "\n",
    "glove_linear_model = joblib.load('./glove/A_Lauf_joblib/linear/svm_glove_linear_best_model_opt.joblib')\n",
    "glove_poly_model = joblib.load('./glove/A_Lauf_joblib/poly/svm_glove_poly_best_model_opt.joblib')\n",
    "glove_rbf_model = joblib.load('./glove/A_Lauf_joblib/rbf/svm_glove_rbf_best_model_opt.joblib')\n",
    "glove_sigmoid_model = joblib.load('./glove/A_Lauf_joblib/sigmoid/svm_glove_sigmoid_best_model_opt.joblib')"
   ]
  },
  {
   "cell_type": "code",
   "execution_count": 6,
   "metadata": {},
   "outputs": [],
   "source": [
    "# Load vectorizer\n",
    "tfidf_vectorizer = joblib.load('./tfidf/2_Lauf_joblib/svm_tfidf_vectorizer_opt.joblib')\n",
    "\n",
    "w2v_vectorizer = joblib.load('./w2v/2_Lauf_joblib/svm_w2v_vectorizer_opt.joblib')\n",
    "\n",
    "glove_vectorizer = joblib.load('./glove/A_Lauf_joblib/svm_glove_vectorizer_opt.joblib')\n",
    "\n"
   ]
  },
  {
   "cell_type": "code",
   "execution_count": 7,
   "metadata": {},
   "outputs": [],
   "source": [
    "# Preprocess and vectorize  new input\n",
    "# tfidf_new_input_vectorized = tfidf_vectorizer.transform(new_input)\n",
    "\n",
    "#new_input_vectorized = w2v_vectorizer(new_input)\n",
    "\n",
    "#glove_new_input_vectorized = tfidf_vectorizer.transform(new_input)\n",
    "\n",
    "#---------------------------------------------------------------------------------------------------\n",
    "\n",
    "# Make prediction\n",
    "# tfidf_linear_prediction = tfidf_linear_model.predict(tfidf_new_input_vectorized)\n",
    "# tfidf_poly_prediction = tfidf_poly_model.predict(tfidf_new_input_vectorized)\n",
    "# tfidf_rbf_prediction = tfidf_rbf_model.predict(tfidf_new_input_vectorized)\n",
    "# tfidf_sigmoid_prediction = tfidf_sigmoid_model.predict(tfidf_new_input_vectorized)\n",
    "\n",
    "# w2v_linear_prediction = w2v_linear_model.predict(w2v_new_input_vectorized)\n",
    "# w2v_poly_prediction = w2v_poly_model.predict(w2v_new_input_vectorized)\n",
    "# w2v_rbf_prediction = w2v_rbf_model.predict(w2v_new_input_vectorized)\n",
    "# w2v_sigmoid_prediction = w2v_sigmoid_model.predict(w2v_new_input_vectorized)\n",
    "\n",
    "# glove_linear_prediction = glove_linear_model.predict(glove_new_input_vectorized)\n",
    "# glove_poly_prediction = glove_poly_model.predict(glove_new_input_vectorized)\n",
    "# glove_rbf_prediction = glove_rbf_model.predict(glove_new_input_vectorized)\n",
    "# glove_sigmoid_prediction = glove_sigmoid_model.predict(glove_new_input_vectorized)\n",
    "\n",
    "#---------------------------------------------------------------------------------------------------\n",
    "\n",
    "# Output prediction result\n",
    "# print(\"tfidf_linear_prediction:\", tfidf_linear_prediction[0])\n",
    "# print(\"tfidf_poly_prediction:\", tfidf_poly_prediction[0])\n",
    "# print(\"tfidf_rbf_prediction:\", tfidf_rbf_prediction[0])\n",
    "# print(\"tfidf_sigmoid_prediction:\", tfidf_sigmoid_prediction[0])\n",
    "\n",
    "# print(\"Prediction:\", w2v_linear_prediction[0])\n",
    "# print(\"Prediction:\", w2v_poly_prediction[0])\n",
    "# print(\"Prediction:\", w2v_rbf_prediction[0])\n",
    "# print(\"Prediction:\", w2v_sigmoid_prediction[0])\n",
    "\n",
    "# print(\"Prediction:\", glove_linear_prediction[0])\n",
    "# print(\"Prediction:\", glove_poly_prediction[0])\n",
    "# print(\"Prediction:\", glove_rbf_prediction[0])\n",
    "# print(\"Prediction:\", glove_sigmoid_prediction[0])"
   ]
  },
  {
   "cell_type": "code",
   "execution_count": 12,
   "metadata": {},
   "outputs": [],
   "source": [
    "# Load test data\n",
    "df_test = pd.read_csv(\"../../../../data/mixed_dataset/test_cleaned.csv\")\n",
    "df_test = df_test.dropna(subset=['tweet_cleaned'])"
   ]
  },
  {
   "cell_type": "code",
   "execution_count": null,
   "metadata": {},
   "outputs": [
    {
     "ename": "TypeError",
     "evalue": "'Word2Vec' object is not callable",
     "output_type": "error",
     "traceback": [
      "\u001b[1;31m---------------------------------------------------------------------------\u001b[0m",
      "\u001b[1;31mTypeError\u001b[0m                                 Traceback (most recent call last)",
      "Cell \u001b[1;32mIn[17], line 6\u001b[0m\n\u001b[0;32m      3\u001b[0m X_test_tfidf \u001b[38;5;241m=\u001b[39m tfidf_vectorizer\u001b[38;5;241m.\u001b[39mtransform(df_test[\u001b[38;5;124m'\u001b[39m\u001b[38;5;124mtweet_cleaned\u001b[39m\u001b[38;5;124m'\u001b[39m])\n\u001b[0;32m      4\u001b[0m y_test_tfidf \u001b[38;5;241m=\u001b[39m df_test[\u001b[38;5;124m\"\u001b[39m\u001b[38;5;124mlabel\u001b[39m\u001b[38;5;124m\"\u001b[39m]\n\u001b[1;32m----> 6\u001b[0m X_test_w2v, _, y_test_w2v, _, _ \u001b[38;5;241m=\u001b[39m \u001b[43mw2v_vectorizer\u001b[49m\u001b[43m(\u001b[49m\u001b[43mdf_test\u001b[49m\u001b[43m,\u001b[49m\u001b[43m \u001b[49m\u001b[38;5;124;43m\"\u001b[39;49m\u001b[38;5;124;43mtweet_cleaned\u001b[39;49m\u001b[38;5;124;43m\"\u001b[39;49m\u001b[43m,\u001b[49m\u001b[43m \u001b[49m\u001b[38;5;124;43m\"\u001b[39;49m\u001b[38;5;124;43mlabel\u001b[39;49m\u001b[38;5;124;43m\"\u001b[39;49m\u001b[43m)\u001b[49m\n\u001b[0;32m      8\u001b[0m \u001b[38;5;66;03m# X_test_glove, _, y_test_glove, _, _ = glove_vectorizer(df_test, \"tweet_cleaned\", \"label\")\u001b[39;00m\n",
      "\u001b[1;31mTypeError\u001b[0m: 'Word2Vec' object is not callable"
     ]
    }
   ],
   "source": [
    "# Use vectorizer to transform test data\n",
    "\n",
    "X_test_tfidf = tfidf_vectorizer.transform(df_test['tweet_cleaned'])\n",
    "y_test_tfidf = df_test[\"label\"]\n",
    "\n",
    "X_test_w2v, _, y_test_w2v, _, _ = w2v_vectorizer(df_test, \"tweet_cleaned\", \"label\")\n",
    "\n",
    "X_test_glove, _, y_test_glove, _, _ = glove_vectorizer(df_test, \"tweet_cleaned\", \"label\")\n"
   ]
  },
  {
   "cell_type": "code",
   "execution_count": null,
   "metadata": {},
   "outputs": [],
   "source": []
  }
 ],
 "metadata": {
  "kernelspec": {
   "display_name": "Python 3",
   "language": "python",
   "name": "python3"
  },
  "language_info": {
   "codemirror_mode": {
    "name": "ipython",
    "version": 3
   },
   "file_extension": ".py",
   "mimetype": "text/x-python",
   "name": "python",
   "nbconvert_exporter": "python",
   "pygments_lexer": "ipython3",
   "version": "3.9.2"
  }
 },
 "nbformat": 4,
 "nbformat_minor": 2
}
