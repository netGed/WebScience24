{
 "cells": [
  {
   "cell_type": "code",
   "execution_count": 1,
   "metadata": {},
   "outputs": [],
   "source": [
    "import joblib"
   ]
  },
  {
   "cell_type": "code",
   "execution_count": 2,
   "metadata": {},
   "outputs": [],
   "source": [
    "# New input to predict\n",
    "new_input = [\"I want you to die\"]"
   ]
  },
  {
   "cell_type": "code",
   "execution_count": 3,
   "metadata": {},
   "outputs": [],
   "source": [
    "# Load models\n",
    "tfidf_linear_model = joblib.load('./tfidf/2_Lauf_joblib/linear/svm_tfidf_linear_best_model_opt.joblib')\n",
    "tfidf_poly_model = joblib.load('./tfidf/2_Lauf_joblib/poly/svm_tfidf_poly_best_model_opt.joblib')\n",
    "tfidf_rbf_model = joblib.load('./tfidf/2_Lauf_joblib/rbf/svm_tfidf_rbf_best_model_opt.joblib')\n",
    "tfidf_sigmoid_model = joblib.load('./tfidf/2_Lauf_joblib/sigmoid/svm_tfidf_sigmoid_best_model_opt.joblib')\n",
    "\n",
    "w2v_linear_model = joblib.load('./w2v/2_Lauf_joblib/linear/svm_w2v_linear_best_model_opt.joblib')\n",
    "w2v_poly_model = joblib.load('./w2v/2_Lauf_joblib/poly/svm_w2v_poly_best_model_opt.joblib')\n",
    "w2v_rbf_model = joblib.load('./w2v/2_Lauf_joblib/rbf/svm_w2v_rbf_best_model_opt.joblib')\n",
    "w2v_sigmoid_model = joblib.load('./w2v/2_Lauf_joblib/sigmoid/svm_w2v_sigmoid_best_model_opt.joblib')\n",
    "\n",
    "glove_linear_model = joblib.load('./glove/linear/svm_glove_linear_best_model_opt.joblib')\n",
    "glove_poly_model = joblib.load('./glove/poly/svm_glove_poly_best_model_opt.joblib')\n",
    "glove_rbf_model = joblib.load('./glove/rbf/svm_glove_rbf_best_model_opt.joblib')\n",
    "glove_sigmoid_model = joblib.load('./glove/sigmoid/svm_glove_sigmoid_best_model_opt.joblib')"
   ]
  },
  {
   "cell_type": "code",
   "execution_count": 4,
   "metadata": {},
   "outputs": [],
   "source": [
    "# Load vectorizer\n",
    "tfidf_vectorizer = joblib.load('./tfidf/2_Lauf_joblib/svm_tfidf_vectorizer_opt.joblib')\n",
    "\n",
    "w2v_vectorizer = joblib.load('./w2v/2_Lauf_joblib/svm_w2v_vectorizer_opt.joblib')\n",
    "\n"
   ]
  },
  {
   "cell_type": "code",
   "execution_count": null,
   "metadata": {},
   "outputs": [
    {
     "ename": "TypeError",
     "evalue": "'Word2Vec' object is not callable",
     "output_type": "error",
     "traceback": [
      "\u001b[1;31m---------------------------------------------------------------------------\u001b[0m",
      "\u001b[1;31mTypeError\u001b[0m                                 Traceback (most recent call last)",
      "Cell \u001b[1;32mIn[23], line 4\u001b[0m\n\u001b[0;32m      1\u001b[0m \u001b[38;5;66;03m# Preprocess and vectorize the new input\u001b[39;00m\n\u001b[0;32m      2\u001b[0m new_input_vectorized \u001b[38;5;241m=\u001b[39m tfidf_vectorizer\u001b[38;5;241m.\u001b[39mtransform(new_input)\n\u001b[1;32m----> 4\u001b[0m new_input_vectorized \u001b[38;5;241m=\u001b[39m \u001b[43mw2v_vectorizer\u001b[49m\u001b[43m(\u001b[49m\u001b[43mnew_input\u001b[49m\u001b[43m)\u001b[49m\n",
      "\u001b[1;31mTypeError\u001b[0m: 'Word2Vec' object is not callable"
     ]
    }
   ],
   "source": [
    "# Preprocess and vectorize  new input\n",
    "tfidf_new_input_vectorized = tfidf_vectorizer.transform(new_input)\n",
    "\n",
    "#new_input_vectorized = w2v_vectorizer(new_input)\n",
    "\n",
    "#glove_new_input_vectorized = tfidf_vectorizer.transform(new_input)\n"
   ]
  },
  {
   "cell_type": "code",
   "execution_count": null,
   "metadata": {},
   "outputs": [],
   "source": [
    "# Make prediction\n",
    "tfidf_linear_prediction = tfidf_linear_model.predict(tfidf_new_input_vectorized)\n",
    "tfidf_poly_prediction = tfidf_poly_model.predict(tfidf_new_input_vectorized)\n",
    "tfidf_rbf_prediction = tfidf_rbf_model.predict(tfidf_new_input_vectorized)\n",
    "tfidf_sigmoid_prediction = tfidf_sigmoid_model.predict(tfidf_new_input_vectorized)\n",
    "\n",
    "# w2v_linear_prediction = w2v_linear_model.predict(w2v_new_input_vectorized)\n",
    "# w2v_poly_prediction = w2v_poly_model.predict(w2v_new_input_vectorized)\n",
    "# w2v_rbf_prediction = w2v_rbf_model.predict(w2v_new_input_vectorized)\n",
    "# w2v_sigmoid_prediction = w2v_sigmoid_model.predict(w2v_new_input_vectorized)\n",
    "\n",
    "# glove_linear_prediction = glove_linear_model.predict(glove_new_input_vectorized)\n",
    "# glove_poly_prediction = glove_poly_model.predict(glove_new_input_vectorized)\n",
    "# glove_rbf_prediction = glove_rbf_model.predict(glove_new_input_vectorized)\n",
    "# glove_sigmoid_prediction = glove_sigmoid_model.predict(glove_new_input_vectorized)"
   ]
  },
  {
   "cell_type": "code",
   "execution_count": null,
   "metadata": {},
   "outputs": [
    {
     "name": "stdout",
     "output_type": "stream",
     "text": [
      "tfidf_linear_prediction: 1\n",
      "tfidf_poly_prediction: 1\n",
      "tfidf_rbf_prediction: 1\n",
      "tfidf_sigmoid_prediction: 1\n"
     ]
    }
   ],
   "source": [
    "# Output prediction result\n",
    "print(\"tfidf_linear_prediction:\", tfidf_linear_prediction[0])\n",
    "print(\"tfidf_poly_prediction:\", tfidf_poly_prediction[0])\n",
    "print(\"tfidf_rbf_prediction:\", tfidf_rbf_prediction[0])\n",
    "print(\"tfidf_sigmoid_prediction:\", tfidf_sigmoid_prediction[0])\n",
    "\n",
    "# print(\"Prediction:\", w2v_linear_prediction[0])\n",
    "# print(\"Prediction:\", w2v_poly_prediction[0])\n",
    "# print(\"Prediction:\", w2v_rbf_prediction[0])\n",
    "# print(\"Prediction:\", w2v_sigmoid_prediction[0])\n",
    "\n",
    "# print(\"Prediction:\", glove_linear_prediction[0])\n",
    "# print(\"Prediction:\", glove_poly_prediction[0])\n",
    "# print(\"Prediction:\", glove_rbf_prediction[0])\n",
    "# print(\"Prediction:\", glove_sigmoid_prediction[0])"
   ]
  }
 ],
 "metadata": {
  "kernelspec": {
   "display_name": "Python 3",
   "language": "python",
   "name": "python3"
  },
  "language_info": {
   "codemirror_mode": {
    "name": "ipython",
    "version": 3
   },
   "file_extension": ".py",
   "mimetype": "text/x-python",
   "name": "python",
   "nbconvert_exporter": "python",
   "pygments_lexer": "ipython3",
   "version": "3.9.2"
  }
 },
 "nbformat": 4,
 "nbformat_minor": 2
}
