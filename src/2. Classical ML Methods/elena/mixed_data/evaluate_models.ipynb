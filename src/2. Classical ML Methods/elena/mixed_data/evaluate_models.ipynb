{
 "cells": [
  {
   "cell_type": "code",
   "execution_count": 1,
   "metadata": {},
   "outputs": [],
   "source": [
    "import os\n",
    "import pandas as pd"
   ]
  },
  {
   "cell_type": "code",
   "execution_count": 21,
   "metadata": {},
   "outputs": [],
   "source": [
    "#loading files and bringing them togehter in one df\n",
    "file_paths = [\n",
    "    './tfidf/2_Lauf_joblib/linear/svm_tfidf_linear_classification_report_opt.csv',\n",
    "    './tfidf/2_Lauf_joblib/poly/svm_tfidf_poly_classification_report_opt.csv',\n",
    "    './tfidf/2_Lauf_joblib/rbf/svm_tfidf_rbf_classification_report_opt.csv',\n",
    "    './tfidf/2_Lauf_joblib/sigmoid/svm_tfidf_sigmoid_classification_report_opt.csv',\n",
    "    './w2v/2_Lauf_joblib/linear/svm_w2v_linear_classification_report_opt.csv',\n",
    "    './w2v/2_Lauf_joblib/poly/svm_w2v_poly_classification_report_opt.csv',\n",
    "    './w2v/2_Lauf_joblib/rbf/svm_w2v_rbf_classification_report_opt.csv',\n",
    "    './w2v/2_Lauf_joblib/sigmoid/svm_w2v_sigmoid_classification_report_opt.csv'\n",
    "]\n",
    "\n",
    "dataframes = []\n",
    "\n",
    "for file_path in file_paths:\n",
    "    file_name = os.path.basename(file_path) \n",
    "    df = pd.read_csv(file_path)\n",
    "    df['source_file'] = file_name  \n",
    "    dataframes.append(df)\n",
    "\n",
    "combined_df = pd.concat(dataframes, ignore_index=True)\n"
   ]
  },
  {
   "cell_type": "code",
   "execution_count": null,
   "metadata": {},
   "outputs": [
    {
     "name": "stdout",
     "output_type": "stream",
     "text": [
      "      Unnamed: 0  precision    recall  f1-score       support  \\\n",
      "1              1   0.412677  0.777745  0.539234   6839.000000   \n",
      "3      macro avg   0.667518  0.741177  0.669073  32466.000000   \n",
      "2       accuracy   0.720015  0.720015  0.720015      0.720015   \n",
      "4   weighted avg   0.814993  0.720015  0.744210  32466.000000   \n",
      "0              0   0.922358  0.704608  0.798912  25627.000000   \n",
      "6              1   0.210651  1.000000  0.347996   6839.000000   \n",
      "8      macro avg   0.105326  0.500000  0.173998  32466.000000   \n",
      "7       accuracy   0.210651  0.210651  0.210651      0.210651   \n",
      "9   weighted avg   0.044374  0.210651  0.073306  32466.000000   \n",
      "5              0   0.000000  0.000000  0.000000  25627.000000   \n",
      "11             1   0.412840  0.766340  0.536603   6839.000000   \n",
      "13     macro avg   0.666007  0.737738  0.668605  32466.000000   \n",
      "12      accuracy   0.721185  0.721185  0.721185      0.721185   \n",
      "14  weighted avg   0.812515  0.721185  0.744995  32466.000000   \n",
      "10             0   0.919175  0.709135  0.800608  25627.000000   \n",
      "16             1   0.412946  0.751864  0.533098   6839.000000   \n",
      "18     macro avg   0.664078  0.733309  0.667877  32466.000000   \n",
      "17      accuracy   0.722571  0.722571  0.722571      0.722571   \n",
      "19  weighted avg   0.809407  0.722571  0.745873  32466.000000   \n",
      "15             0   0.915209  0.714754  0.802656  25627.000000   \n",
      "20             0   0.787556  0.889124  0.835264  17966.000000   \n",
      "22      accuracy   0.722740  0.722740  0.722740      0.722740   \n",
      "24  weighted avg   0.661268  0.722740  0.686545  22726.000000   \n",
      "23     macro avg   0.486083  0.491936  0.480245  22726.000000   \n",
      "21             1   0.184609  0.094748  0.125226   4760.000000   \n",
      "26             1   0.221415  0.831933  0.349746   4760.000000   \n",
      "28     macro avg   0.528080  0.528429  0.352055  22726.000000   \n",
      "27      accuracy   0.352064  0.352064  0.352064      0.352064   \n",
      "29  weighted avg   0.706282  0.352064  0.353397  22726.000000   \n",
      "25             0   0.834745  0.224925  0.354365  17966.000000   \n",
      "30             0   0.785675  0.944506  0.857800  17966.000000   \n",
      "32      accuracy   0.752442  0.752442  0.752442      0.752442   \n",
      "34  weighted avg   0.645438  0.752442  0.687452  22726.000000   \n",
      "33     macro avg   0.450905  0.486014  0.451149  22726.000000   \n",
      "31             1   0.116135  0.027521  0.044497   4760.000000   \n",
      "36             1   0.213575  0.776050  0.334966   4760.000000   \n",
      "38     macro avg   0.508629  0.509477  0.354010  22726.000000   \n",
      "37      accuracy   0.354572  0.354572  0.354572      0.354572   \n",
      "39  weighted avg   0.680084  0.354572  0.365077  22726.000000   \n",
      "35             0   0.803683  0.242903  0.373055  17966.000000   \n",
      "\n",
      "                                        source_file  \n",
      "1    svm_tfidf_linear_classification_report_opt.csv  \n",
      "3    svm_tfidf_linear_classification_report_opt.csv  \n",
      "2    svm_tfidf_linear_classification_report_opt.csv  \n",
      "4    svm_tfidf_linear_classification_report_opt.csv  \n",
      "0    svm_tfidf_linear_classification_report_opt.csv  \n",
      "6      svm_tfidf_poly_classification_report_opt.csv  \n",
      "8      svm_tfidf_poly_classification_report_opt.csv  \n",
      "7      svm_tfidf_poly_classification_report_opt.csv  \n",
      "9      svm_tfidf_poly_classification_report_opt.csv  \n",
      "5      svm_tfidf_poly_classification_report_opt.csv  \n",
      "11      svm_tfidf_rbf_classification_report_opt.csv  \n",
      "13      svm_tfidf_rbf_classification_report_opt.csv  \n",
      "12      svm_tfidf_rbf_classification_report_opt.csv  \n",
      "14      svm_tfidf_rbf_classification_report_opt.csv  \n",
      "10      svm_tfidf_rbf_classification_report_opt.csv  \n",
      "16  svm_tfidf_sigmoid_classification_report_opt.csv  \n",
      "18  svm_tfidf_sigmoid_classification_report_opt.csv  \n",
      "17  svm_tfidf_sigmoid_classification_report_opt.csv  \n",
      "19  svm_tfidf_sigmoid_classification_report_opt.csv  \n",
      "15  svm_tfidf_sigmoid_classification_report_opt.csv  \n",
      "20     svm_w2v_linear_classification_report_opt.csv  \n",
      "22     svm_w2v_linear_classification_report_opt.csv  \n",
      "24     svm_w2v_linear_classification_report_opt.csv  \n",
      "23     svm_w2v_linear_classification_report_opt.csv  \n",
      "21     svm_w2v_linear_classification_report_opt.csv  \n",
      "26       svm_w2v_poly_classification_report_opt.csv  \n",
      "28       svm_w2v_poly_classification_report_opt.csv  \n",
      "27       svm_w2v_poly_classification_report_opt.csv  \n",
      "29       svm_w2v_poly_classification_report_opt.csv  \n",
      "25       svm_w2v_poly_classification_report_opt.csv  \n",
      "30        svm_w2v_rbf_classification_report_opt.csv  \n",
      "32        svm_w2v_rbf_classification_report_opt.csv  \n",
      "34        svm_w2v_rbf_classification_report_opt.csv  \n",
      "33        svm_w2v_rbf_classification_report_opt.csv  \n",
      "31        svm_w2v_rbf_classification_report_opt.csv  \n",
      "36    svm_w2v_sigmoid_classification_report_opt.csv  \n",
      "38    svm_w2v_sigmoid_classification_report_opt.csv  \n",
      "37    svm_w2v_sigmoid_classification_report_opt.csv  \n",
      "39    svm_w2v_sigmoid_classification_report_opt.csv  \n",
      "35    svm_w2v_sigmoid_classification_report_opt.csv  \n"
     ]
    }
   ],
   "source": [
    "# # show (and sort) resulting df\n",
    "# #print(combined_df)\n",
    "# combined_df_sorted = combined_df.sort_values(by=['source_file', 'recall'], ascending=[True, False]).reset_index(drop=True)\n",
    "# print(combined_df_sorted)"
   ]
  },
  {
   "cell_type": "code",
   "execution_count": 17,
   "metadata": {},
   "outputs": [
    {
     "name": "stdout",
     "output_type": "stream",
     "text": [
      "Files read and combined successfully.\n"
     ]
    }
   ],
   "source": [
    "# save resulting df\n",
    "combined_df.to_csv('combined_output.csv', index=False)\n",
    "print(\"Files read and combined successfully.\")"
   ]
  },
  {
   "cell_type": "code",
   "execution_count": 42,
   "metadata": {},
   "outputs": [
    {
     "name": "stdout",
     "output_type": "stream",
     "text": [
      "   Unnamed: 0  precision    recall  f1-score  support  \\\n",
      "6           1   0.210651  1.000000  0.347996   6839.0   \n",
      "26          1   0.221415  0.831933  0.349746   4760.0   \n",
      "1           1   0.412677  0.777745  0.539234   6839.0   \n",
      "36          1   0.213575  0.776050  0.334966   4760.0   \n",
      "11          1   0.412840  0.766340  0.536603   6839.0   \n",
      "16          1   0.412946  0.751864  0.533098   6839.0   \n",
      "21          1   0.184609  0.094748  0.125226   4760.0   \n",
      "31          1   0.116135  0.027521  0.044497   4760.0   \n",
      "\n",
      "                                        source_file  \n",
      "6      svm_tfidf_poly_classification_report_opt.csv  \n",
      "26       svm_w2v_poly_classification_report_opt.csv  \n",
      "1    svm_tfidf_linear_classification_report_opt.csv  \n",
      "36    svm_w2v_sigmoid_classification_report_opt.csv  \n",
      "11      svm_tfidf_rbf_classification_report_opt.csv  \n",
      "16  svm_tfidf_sigmoid_classification_report_opt.csv  \n",
      "21     svm_w2v_linear_classification_report_opt.csv  \n",
      "31        svm_w2v_rbf_classification_report_opt.csv  \n"
     ]
    }
   ],
   "source": [
    "df = (pd.read_csv('combined_output.csv'))\n",
    "\n",
    "filtered_df = df[df['Unnamed: 0'] == '1']\n",
    "\n",
    "print(filtered_df.sort_values(by=['recall'], ascending=[False]))"
   ]
  },
  {
   "cell_type": "code",
   "execution_count": null,
   "metadata": {},
   "outputs": [],
   "source": []
  }
 ],
 "metadata": {
  "kernelspec": {
   "display_name": "Python 3",
   "language": "python",
   "name": "python3"
  },
  "language_info": {
   "codemirror_mode": {
    "name": "ipython",
    "version": 3
   },
   "file_extension": ".py",
   "mimetype": "text/x-python",
   "name": "python",
   "nbconvert_exporter": "python",
   "pygments_lexer": "ipython3",
   "version": "3.9.2"
  }
 },
 "nbformat": 4,
 "nbformat_minor": 2
}
