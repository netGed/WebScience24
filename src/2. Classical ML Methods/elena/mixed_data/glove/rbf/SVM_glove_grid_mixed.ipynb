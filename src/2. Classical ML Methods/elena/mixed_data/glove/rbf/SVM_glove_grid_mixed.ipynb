{
 "cells": [
  {
   "cell_type": "code",
   "execution_count": 1,
   "metadata": {},
   "outputs": [],
   "source": [
    "import pandas as pd\n",
    "import numpy as np\n",
    "import joblib\n",
    "from sklearn.feature_extraction.text import TfidfVectorizer\n",
    "from sklearn.svm import SVC\n",
    "from sklearn.model_selection import RandomizedSearchCV\n",
    "from sklearn.metrics import classification_report, confusion_matrix\n",
    "from scipy.stats import uniform"
   ]
  },
  {
   "cell_type": "markdown",
   "metadata": {},
   "source": [
    "## Data"
   ]
  },
  {
   "cell_type": "code",
   "execution_count": 2,
   "metadata": {},
   "outputs": [],
   "source": [
    "%run ../../../../functions/vectorize_functions.py"
   ]
  },
  {
   "cell_type": "code",
   "execution_count": 3,
   "metadata": {},
   "outputs": [],
   "source": [
    "filepath_name = (\"..\\\\..\\\\..\\\\..\\\\..\\\\data\\\\mixed_dataset\\\\train_cleaned.csv\")\n",
    "df_cleaned = pd.read_csv(filepath_name, encoding='utf-8')"
   ]
  },
  {
   "cell_type": "code",
   "execution_count": 4,
   "metadata": {},
   "outputs": [],
   "source": [
    "X_train, X_test, y_train, y_test, glove_vectorizer = vectorize_glove(df=df_cleaned, text_column='tweet_cleaned', \n",
    "                                                                                 label_column=\"label\")"
   ]
  },
  {
   "cell_type": "code",
   "execution_count": 5,
   "metadata": {},
   "outputs": [],
   "source": [
    "with open(\"svm_glove_vectorizer_opt.joblib\", \"wb\") as file:\n",
    "    joblib.dump(glove_vectorizer, file)"
   ]
  },
  {
   "cell_type": "code",
   "execution_count": 6,
   "metadata": {},
   "outputs": [
    {
     "name": "stdout",
     "output_type": "stream",
     "text": [
      "Train\n",
      "- Positive: 10328\n",
      "- Negative: 47004\n",
      "- Verhältnis: 4.551123160340821\n",
      "Test\n",
      "- Positive: 4417\n",
      "- Negative: 20155\n",
      "- Verhältnis: 4.563051845143763\n"
     ]
    }
   ],
   "source": [
    "positive = np.count_nonzero(y_train == 1)\n",
    "negative = np.count_nonzero(y_train == 0)\n",
    "print(\"Train\")\n",
    "print(\"- Positive:\", positive)\n",
    "print(\"- Negative:\", negative)\n",
    "print(\"- Verhältnis:\", negative / positive)\n",
    "\n",
    "positive = np.count_nonzero(y_test == 1)\n",
    "negative = np.count_nonzero(y_test == 0)\n",
    "print(\"Test\")\n",
    "print(\"- Positive:\", positive)\n",
    "print(\"- Negative:\", negative)\n",
    "print(\"- Verhältnis:\", negative / positive)"
   ]
  },
  {
   "cell_type": "code",
   "execution_count": 7,
   "metadata": {},
   "outputs": [
    {
     "name": "stdout",
     "output_type": "stream",
     "text": [
      "X_train shape (57332, 100)\n",
      "y_train shape (57332,)\n",
      "X_test shape (24572, 100)\n",
      "y_test shape (24572,)\n"
     ]
    }
   ],
   "source": [
    "print(\"X_train shape\", X_train.shape)\n",
    "print(\"y_train shape\", y_train.shape)\n",
    "\n",
    "print(\"X_test shape\", X_test.shape)\n",
    "print(\"y_test shape\", y_test.shape)"
   ]
  },
  {
   "cell_type": "markdown",
   "metadata": {},
   "source": [
    "## SVM"
   ]
  },
  {
   "cell_type": "code",
   "execution_count": 9,
   "metadata": {},
   "outputs": [
    {
     "name": "stdout",
     "output_type": "stream",
     "text": [
      "Fitting 2 folds for each of 10 candidates, totalling 20 fits\n",
      "Test Classification Report:\n",
      "{'0': {'precision': 0.8466185005329859, 'recall': 0.7957252588222198, 'f1-score': 0.8203833352461839, 'support': 17966}, '1': {'precision': 0.3715753424657534, 'recall': 0.45588235294117646, 'f1-score': 0.4094339622641509, 'support': 4760}, 'accuracy': 0.7245445744961718, 'macro avg': {'precision': 0.6090969214993697, 'recall': 0.6258038058816981, 'f1-score': 0.6149086487551674, 'support': 22726}, 'weighted avg': {'precision': 0.7471198895851717, 'recall': 0.7245445744961718, 'f1-score': 0.7343092784216447, 'support': 22726}}\n"
     ]
    }
   ],
   "source": [
    "# Hyperparameter search for SVC-model\n",
    "param_dist = {\n",
    "    'kernel': ['sigmoid'],\n",
    "    'C': uniform(0.01, 1),\n",
    "    'gamma': uniform(0.01, 0.1),\n",
    "    'class_weight': [{0: 1, 1: 1}, {0: 1, 1: 3}, {0: 1, 1: 5}]\n",
    "}\n",
    "\n",
    "random_search = RandomizedSearchCV(\n",
    "    SVC(),\n",
    "    param_distributions=param_dist,\n",
    "    n_iter=10, \n",
    "    scoring='f1',\n",
    "    cv=2, \n",
    "    verbose=1,  \n",
    "    n_jobs=-1,  \n",
    "    random_state=42,\n",
    "    refit=True \n",
    ")\n",
    "\n",
    "random_search.fit(X_train, y_train)\n",
    "\n",
    "# Retrieing best model found\n",
    "best_model = random_search.best_estimator_\n",
    "\n",
    "# Load test data\n",
    "df_test = pd.read_csv(\"..\\\\..\\\\..\\\\..\\\\..\\\\data\\\\mixed_dataset\\\\test_cleaned.csv\")\n",
    "df_test = df_test.dropna(subset=['tweet_cleaned'])\n",
    "\n",
    "# Use vectorizer to transform test data\n",
    "X_test, _, y_test, _, _ = vectorize_glove(df_test, \"tweet\", \"label\", vector_size=100)\n",
    "\n",
    "# Evaluate model on test set\n",
    "y_test_pred = best_model.predict(X_test)\n",
    "test_report = classification_report(y_test, y_test_pred, output_dict=True)\n",
    "cm = confusion_matrix(y_test, y_test_pred)\n",
    "\n",
    "print(\"Test Classification Report:\")\n",
    "print(test_report)\n",
    "\n",
    "# Save best model and hyperparameter search results\n",
    "with open(\"svm_glove_sigmoid_best_model_opt.joblib\", \"wb\") as file:\n",
    "    joblib.dump(best_model, file)\n",
    "\n",
    "results_df = pd.DataFrame(random_search.cv_results_)\n",
    "results_df.to_csv(\"svm_glove_sigmoid_results_opt.csv\", index=False)\n",
    "\n",
    "# Save configuration of best model\n",
    "best_model_config = best_model.get_params()\n",
    "best_model_config_df = pd.DataFrame([best_model_config])\n",
    "best_model_config_df.to_csv(\"svm_glove_sigmoid_best_model_config_opt.csv\", index=False)\n",
    "\n",
    "# Save confusion matrix\n",
    "unique_labels = sorted(y_test.unique())\n",
    "cm_df = pd.DataFrame(cm, \n",
    "                     index=[f\"Actual_{label}\" for label in unique_labels],\n",
    "                     columns=[f\"Predicted_{label}\" for label in unique_labels])\n",
    "cm_df.to_csv(\"svm_glove_sigmoid_confusion_matrix_opt.csv\", index=True)\n",
    "\n",
    "# Save classification report\n",
    "classification_report_df = pd.DataFrame(test_report).transpose()\n",
    "classification_report_df.to_csv(\"svm_glove_sigmoid_classification_report_opt.csv\", index=True)\n"
   ]
  },
  {
   "cell_type": "code",
   "execution_count": 8,
   "metadata": {},
   "outputs": [
    {
     "name": "stdout",
     "output_type": "stream",
     "text": [
      "Fitting 2 folds for each of 10 candidates, totalling 20 fits\n",
      "Test Classification Report:\n",
      "{'0': {'precision': 0.8553334161182168, 'recall': 0.7667816987643327, 'f1-score': 0.8086405259450576, 'support': 17966}, '1': {'precision': 0.36706948640483383, 'recall': 0.5105042016806722, 'f1-score': 0.4270650263620387, 'support': 4760}, 'accuracy': 0.7131039338202939, 'macro avg': {'precision': 0.6112014512615254, 'recall': 0.6386429502225024, 'f1-score': 0.6178527761535482, 'support': 22726}, 'weighted avg': {'precision': 0.7530656916864777, 'recall': 0.7131039338202939, 'f1-score': 0.7287188777000884, 'support': 22726}}\n"
     ]
    }
   ],
   "source": [
    "# Hyperparameter search for SVC-model\n",
    "param_dist = {\n",
    "    'kernel': ['linear'],\n",
    "    'C': uniform(0.01, 1),\n",
    "    'gamma': uniform(0.01, 0.1),\n",
    "    'class_weight': [{0: 1, 1: 1}, {0: 1, 1: 3}, {0: 1, 1: 5}]\n",
    "}\n",
    "\n",
    "random_search = RandomizedSearchCV(\n",
    "    SVC(),\n",
    "    param_distributions=param_dist,\n",
    "    n_iter=10, \n",
    "    scoring='f1',\n",
    "    cv=2, \n",
    "    verbose=1,  \n",
    "    n_jobs=-1,  \n",
    "    random_state=42,\n",
    "    refit=True \n",
    ")\n",
    "\n",
    "random_search.fit(X_train, y_train)\n",
    "\n",
    "# Retrieing best model found\n",
    "best_model = random_search.best_estimator_\n",
    "\n",
    "# Load test data\n",
    "df_test = pd.read_csv(\"..\\\\..\\\\..\\\\..\\\\..\\\\data\\\\mixed_dataset\\\\test_cleaned.csv\")\n",
    "df_test = df_test.dropna(subset=['tweet_cleaned'])\n",
    "\n",
    "# Use vectorizer to transform test data\n",
    "#X_test, _, y_test, _, _ = vectorize_glove_test_data(df_test, \"tweet\", \"label\", vector_size=100)\n",
    "X_test, _, y_test, _, _ = vectorize_glove(df_test, \"tweet\", \"label\", vector_size=100)\n",
    "\n",
    "\n",
    "# Evaluate model on test set\n",
    "y_test_pred = best_model.predict(X_test)\n",
    "test_report = classification_report(y_test, y_test_pred, output_dict=True)\n",
    "cm = confusion_matrix(y_test, y_test_pred)\n",
    "\n",
    "print(\"Test Classification Report:\")\n",
    "print(test_report)\n",
    "\n",
    "# Save best model and hyperparameter search results\n",
    "with open(\"svm_glove_linear_best_model_opt.joblib\", \"wb\") as file:\n",
    "    joblib.dump(best_model, file)\n",
    "\n",
    "results_df = pd.DataFrame(random_search.cv_results_)\n",
    "results_df.to_csv(\"svm_glove_linear_results_opt.csv\", index=False)\n",
    "\n",
    "# Save configuration of best model\n",
    "best_model_config = best_model.get_params()\n",
    "best_model_config_df = pd.DataFrame([best_model_config])\n",
    "best_model_config_df.to_csv(\"svm_glove_linear_best_model_config_opt.csv\", index=False)\n",
    "\n",
    "# Save confusion matrix\n",
    "unique_labels = sorted(y_test.unique())\n",
    "cm_df = pd.DataFrame(cm, \n",
    "                     index=[f\"Actual_{label}\" for label in unique_labels],\n",
    "                     columns=[f\"Predicted_{label}\" for label in unique_labels])\n",
    "cm_df.to_csv(\"svm_glove_linear_confusion_matrix_opt.csv\", index=True)\n",
    "\n",
    "# Save classification report\n",
    "classification_report_df = pd.DataFrame(test_report).transpose()\n",
    "classification_report_df.to_csv(\"svm_glove_linear_classification_report_opt.csv\", index=True)"
   ]
  },
  {
   "cell_type": "code",
   "execution_count": 9,
   "metadata": {},
   "outputs": [
    {
     "name": "stdout",
     "output_type": "stream",
     "text": [
      "Fitting 2 folds for each of 10 candidates, totalling 20 fits\n",
      "Test Classification Report:\n",
      "{'0': {'precision': 0.8430747623163354, 'recall': 0.8686964265835467, 'f1-score': 0.8556938428641921, 'support': 17966}, '1': {'precision': 0.44019933554817275, 'recall': 0.3897058823529412, 'f1-score': 0.41341653666146644, 'support': 4760}, 'accuracy': 0.7683710287776115, 'macro avg': {'precision': 0.641637048932254, 'recall': 0.629201154468244, 'f1-score': 0.6345551897628293, 'support': 22726}, 'weighted avg': {'precision': 0.758691807488541, 'recall': 0.7683710287776115, 'f1-score': 0.763058096251283, 'support': 22726}}\n"
     ]
    }
   ],
   "source": [
    "# Hyperparameter search for SVC-model\n",
    "param_dist = {\n",
    "    'kernel': ['poly'],\n",
    "    'degree': [3, 4, 5],\n",
    "    'C': uniform(0.01, 1),\n",
    "    'gamma': uniform(0.01, 0.1),\n",
    "    'class_weight': [{0: 1, 1: 1}, {0: 1, 1: 3}, {0: 1, 1: 5}]\n",
    "}\n",
    "\n",
    "random_search = RandomizedSearchCV(\n",
    "    SVC(),\n",
    "    param_distributions=param_dist,\n",
    "    n_iter=10, \n",
    "    scoring='f1',\n",
    "    cv=2, \n",
    "    verbose=1,  \n",
    "    n_jobs=-1,  \n",
    "    random_state=42,\n",
    "    refit=True \n",
    ")\n",
    "\n",
    "random_search.fit(X_train, y_train)\n",
    "\n",
    "# Retrieing best model found\n",
    "best_model = random_search.best_estimator_\n",
    "\n",
    "# Load test data\n",
    "df_test = pd.read_csv(\"..\\\\..\\\\..\\\\..\\\\..\\\\data\\\\mixed_dataset\\\\test_cleaned.csv\")\n",
    "df_test = df_test.dropna(subset=['tweet_cleaned'])\n",
    "\n",
    "# Use vectorizer to transform test data\n",
    "#X_test, _, y_test, _, _ = vectorize_glove_test_data(df_test, \"tweet\", \"label\", vector_size=100)\n",
    "X_test, _, y_test, _, _ = vectorize_glove(df_test, \"tweet\", \"label\", vector_size=100)\n",
    "\n",
    "\n",
    "# Evaluate model on test set\n",
    "y_test_pred = best_model.predict(X_test)\n",
    "test_report = classification_report(y_test, y_test_pred, output_dict=True)\n",
    "cm = confusion_matrix(y_test, y_test_pred)\n",
    "\n",
    "print(\"Test Classification Report:\")\n",
    "print(test_report)\n",
    "\n",
    "# Save best model and hyperparameter search results\n",
    "with open(\"svm_glove_poly_best_model_opt.joblib\", \"wb\") as file:\n",
    "    joblib.dump(best_model, file)\n",
    "\n",
    "results_df = pd.DataFrame(random_search.cv_results_)\n",
    "results_df.to_csv(\"svm_glove_poly_results_opt.csv\", index=False)\n",
    "\n",
    "# Save configuration of best model\n",
    "best_model_config = best_model.get_params()\n",
    "best_model_config_df = pd.DataFrame([best_model_config])\n",
    "best_model_config_df.to_csv(\"svm_glove_poly_best_model_config_opt.csv\", index=False)\n",
    "\n",
    "# Save confusion matrix\n",
    "unique_labels = sorted(y_test.unique())\n",
    "cm_df = pd.DataFrame(cm, \n",
    "                     index=[f\"Actual_{label}\" for label in unique_labels],\n",
    "                     columns=[f\"Predicted_{label}\" for label in unique_labels])\n",
    "cm_df.to_csv(\"svm_glove_poly_confusion_matrix_opt.csv\", index=True)\n",
    "\n",
    "# Save classification report\n",
    "classification_report_df = pd.DataFrame(test_report).transpose()\n",
    "classification_report_df.to_csv(\"svm_glove_poly_classification_report_opt.csv\", index=True)"
   ]
  },
  {
   "cell_type": "code",
   "execution_count": 10,
   "metadata": {},
   "outputs": [
    {
     "name": "stdout",
     "output_type": "stream",
     "text": [
      "Fitting 2 folds for each of 10 candidates, totalling 20 fits\n",
      "Test Classification Report:\n",
      "{'0': {'precision': 0.8293510250910361, 'recall': 0.9254146721585217, 'f1-score': 0.8747533738457897, 'support': 17966}, '1': {'precision': 0.49981336319522207, 'recall': 0.28130252100840336, 'f1-score': 0.35999462293318996, 'support': 4760}, 'accuracy': 0.7905042682390214, 'macro avg': {'precision': 0.6645821941431291, 'recall': 0.6033585965834625, 'f1-score': 0.6173739983894898, 'support': 22726}, 'weighted avg': {'precision': 0.7603287919385203, 'recall': 0.7905042682390214, 'f1-score': 0.7669362632964641, 'support': 22726}}\n"
     ]
    }
   ],
   "source": [
    "# Hyperparameter search for SVC-model\n",
    "param_dist = {\n",
    "    'kernel': ['rbf'],\n",
    "    'degree': [3, 4, 5],\n",
    "    'C': uniform(0.01, 1),\n",
    "    'gamma': uniform(0.01, 0.1),\n",
    "    'class_weight': [{0: 1, 1: 1}, {0: 1, 1: 3}, {0: 1, 1: 5}]\n",
    "}\n",
    "\n",
    "random_search = RandomizedSearchCV(\n",
    "    SVC(),\n",
    "    param_distributions=param_dist,\n",
    "    n_iter=10, \n",
    "    scoring='f1',\n",
    "    cv=2, \n",
    "    verbose=1,  \n",
    "    n_jobs=-1,  \n",
    "    random_state=42,\n",
    "    refit=True \n",
    ")\n",
    "\n",
    "random_search.fit(X_train, y_train)\n",
    "\n",
    "# Retrieing best model found\n",
    "best_model = random_search.best_estimator_\n",
    "\n",
    "# Load test data\n",
    "df_test = pd.read_csv(\"..\\\\..\\\\..\\\\..\\\\..\\\\data\\\\mixed_dataset\\\\test_cleaned.csv\")\n",
    "df_test = df_test.dropna(subset=['tweet_cleaned'])\n",
    "\n",
    "# Use vectorizer to transform test data\n",
    "#X_test, _, y_test, _, _ = vectorize_glove_test_data(df_test, \"tweet\", \"label\", vector_size=100)\n",
    "X_test, _, y_test, _, _ = vectorize_glove(df_test, \"tweet\", \"label\", vector_size=100)\n",
    "\n",
    "\n",
    "# Evaluate model on test set\n",
    "y_test_pred = best_model.predict(X_test)\n",
    "test_report = classification_report(y_test, y_test_pred, output_dict=True)\n",
    "cm = confusion_matrix(y_test, y_test_pred)\n",
    "\n",
    "print(\"Test Classification Report:\")\n",
    "print(test_report)\n",
    "\n",
    "# Save best model and hyperparameter search results\n",
    "with open(\"svm_glove_rbf_best_model_opt.joblib\", \"wb\") as file:\n",
    "    joblib.dump(best_model, file)\n",
    "\n",
    "results_df = pd.DataFrame(random_search.cv_results_)\n",
    "results_df.to_csv(\"svm_glove_rbf_results_opt.csv\", index=False)\n",
    "\n",
    "# Save configuration of best model\n",
    "best_model_config = best_model.get_params()\n",
    "best_model_config_df = pd.DataFrame([best_model_config])\n",
    "best_model_config_df.to_csv(\"svm_glove_rbf_best_model_config_opt.csv\", index=False)\n",
    "\n",
    "# Save confusion matrix\n",
    "unique_labels = sorted(y_test.unique())\n",
    "cm_df = pd.DataFrame(cm, \n",
    "                     index=[f\"Actual_{label}\" for label in unique_labels],\n",
    "                     columns=[f\"Predicted_{label}\" for label in unique_labels])\n",
    "cm_df.to_csv(\"svm_glove_rbf_confusion_matrix_opt.csv\", index=True)\n",
    "\n",
    "# Save classification report\n",
    "classification_report_df = pd.DataFrame(test_report).transpose()\n",
    "classification_report_df.to_csv(\"svm_glove_rbf_classification_report_opt.csv\", index=True)\n"
   ]
  }
 ],
 "metadata": {
  "kernelspec": {
   "display_name": "Python 3",
   "language": "python",
   "name": "python3"
  },
  "language_info": {
   "codemirror_mode": {
    "name": "ipython",
    "version": 3
   },
   "file_extension": ".py",
   "mimetype": "text/x-python",
   "name": "python",
   "nbconvert_exporter": "python",
   "pygments_lexer": "ipython3",
   "version": "3.9.2"
  }
 },
 "nbformat": 4,
 "nbformat_minor": 2
}
