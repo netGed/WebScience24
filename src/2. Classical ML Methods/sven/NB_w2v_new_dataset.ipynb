{
 "cells": [
  {
   "cell_type": "code",
   "execution_count": 1,
   "id": "0d9ec666-3144-4ba2-976b-c91b5fe258bf",
   "metadata": {},
   "outputs": [],
   "source": [
    "from sklearn.naive_bayes import MultinomialNB # ideal für counting features wie bow oder tfidf https://towardsdatascience.com/why-how-to-use-the-naive-bayes-algorithms-in-a-regulated-industry-with-sklearn-python-code-dbd8304ab2cf\n",
    "from sklearn.naive_bayes import GaussianNB # für Features in Decimal Form geeignet\n",
    "from sklearn.naive_bayes import ComplementNB # ähnlich wie Multinomial, soll sich aber besser für imbalanced data eignen\n",
    "from sklearn.metrics import (\n",
    "    accuracy_score,\n",
    "    confusion_matrix,\n",
    "    ConfusionMatrixDisplay,\n",
    "    f1_score,\n",
    "    recall_score,\n",
    "    precision_score,\n",
    "    classification_report,\n",
    ")\n",
    "import pandas as pd\n",
    "from sklearn.model_selection import GridSearchCV, train_test_split, cross_val_score"
   ]
  },
  {
   "cell_type": "code",
   "execution_count": 2,
   "id": "f636600b-8b3e-4bba-9b02-5f3733f11b4d",
   "metadata": {},
   "outputs": [],
   "source": [
    "def evaluate(y_test,y_pred):\n",
    "    accuracy = accuracy_score(y_test, y_pred)\n",
    "    f1 = f1_score(y_test, y_pred)\n",
    "    recall = recall_score(y_test, y_pred)\n",
    "    precision = precision_score(y_test, y_pred)\n",
    "    print(\"Accuracy:\", accuracy)\n",
    "    print(\"F1 Score:\", f1)\n",
    "    print(\"Recall:\", recall)\n",
    "    print(\"Precision:\", precision)\n",
    "    print(pd.DataFrame(confusion_matrix(y_test, y_pred)))"
   ]
  },
  {
   "cell_type": "markdown",
   "id": "bcce5a26-cdc4-46a9-83d1-bf54813f34e4",
   "metadata": {},
   "source": [
    "## Evaluation neue Vectorize-Funktionen (08.12.)"
   ]
  },
  {
   "cell_type": "code",
   "execution_count": 3,
   "id": "e5d1b5ff-2a21-4fc2-80d0-0ab9d8cd8671",
   "metadata": {},
   "outputs": [],
   "source": [
    "%run ../../functions/vectorize_functions.py"
   ]
  },
  {
   "cell_type": "code",
   "execution_count": 4,
   "id": "512a7731-bbeb-4a1a-89f5-eb2b208d84c9",
   "metadata": {},
   "outputs": [],
   "source": [
    "filepath_name = (('../../../data/new_datasets/train_cleaned.csv'))\n",
    "df_cleaned = pd.read_csv(filepath_name, encoding='utf-8')"
   ]
  },
  {
   "cell_type": "code",
   "execution_count": 5,
   "id": "d73a06de-70e1-4076-907b-66d3205c5922",
   "metadata": {},
   "outputs": [],
   "source": [
    "X_train, X_test, y_train, y_test = vectorize_w2v(df=df_cleaned, text_column='tweet_cleaned', \n",
    "                                                                                 label_column=\"label\")"
   ]
  },
  {
   "cell_type": "code",
   "execution_count": 6,
   "id": "2a198a29-26dc-4c6c-8155-b307c8bd7c16",
   "metadata": {},
   "outputs": [
    {
     "name": "stdout",
     "output_type": "stream",
     "text": [
      "(42879, 300)\n",
      "(18378, 300)\n",
      "(42879,)\n",
      "(18378,)\n",
      "<class 'numpy.ndarray'>\n"
     ]
    }
   ],
   "source": [
    "print(X_train.shape)\n",
    "print(X_test.shape)\n",
    "print(y_train.shape)\n",
    "print(y_test.shape)\n",
    "print(type(X_train))"
   ]
  },
  {
   "cell_type": "markdown",
   "id": "8fd28bfd-3511-4e24-be55-68d5dc363cfa",
   "metadata": {},
   "source": [
    "## GaussianNB"
   ]
  },
  {
   "cell_type": "code",
   "execution_count": 7,
   "id": "d012c6c6-6df3-4d6d-acf6-c1a0456995f7",
   "metadata": {},
   "outputs": [],
   "source": [
    "clf = GaussianNB()\n",
    "clf.fit(X_train,y_train)\n",
    "y_pred = clf.predict(X_test)"
   ]
  },
  {
   "cell_type": "code",
   "execution_count": 8,
   "id": "9d37edd1-4623-4c6d-af74-07119a2e79ba",
   "metadata": {},
   "outputs": [
    {
     "name": "stdout",
     "output_type": "stream",
     "text": [
      "Accuracy: 0.7317988899771466\n",
      "F1 Score: 0.47669603991931203\n",
      "Recall: 0.5728502168920643\n",
      "Precision: 0.4081818181818182\n",
      "       0     1\n",
      "0  11204  3255\n",
      "1   1674  2245\n"
     ]
    }
   ],
   "source": [
    "evaluate(y_test, y_pred)"
   ]
  },
  {
   "cell_type": "code",
   "execution_count": 9,
   "id": "131f8528-a1a8-43a9-9bf5-f6ee57762b26",
   "metadata": {},
   "outputs": [
    {
     "name": "stdout",
     "output_type": "stream",
     "text": [
      "Fitting 3 folds for each of 24 candidates, totalling 72 fits\n",
      "   model        priors  var_smoothing  train_accuracy  train_recall  \\\n",
      "0    W2V          None   1.000000e-10        0.731244      0.584930   \n",
      "1    W2V          None   1.000000e-09        0.731244      0.584930   \n",
      "2    W2V          None   1.000000e-02        0.730964      0.583079   \n",
      "3    W2V          None   1.000000e-01        0.730941      0.575675   \n",
      "4    W2V          None   2.500000e-01        0.733972      0.556402   \n",
      "5    W2V          None   5.000000e-01        0.739360      0.520035   \n",
      "6    W2V          None   7.500000e-01        0.746916      0.485845   \n",
      "7    W2V          None   1.000000e+00        0.753073      0.446320   \n",
      "8    W2V  [0.25, 0.75]   1.000000e-10        0.677954      0.697735   \n",
      "9    W2V  [0.25, 0.75]   1.000000e-09        0.677954      0.697735   \n",
      "10   W2V  [0.25, 0.75]   1.000000e-02        0.676158      0.699260   \n",
      "11   W2V  [0.25, 0.75]   1.000000e-01        0.664241      0.715483   \n",
      "12   W2V  [0.25, 0.75]   2.500000e-01        0.649082      0.737260   \n",
      "13   W2V  [0.25, 0.75]   5.000000e-01        0.625341      0.763611   \n",
      "14   W2V  [0.25, 0.75]   7.500000e-01        0.604981      0.787021   \n",
      "15   W2V  [0.25, 0.75]   1.000000e+00        0.585298      0.809560   \n",
      "16   W2V    [0.5, 0.5]   1.000000e-10        0.704098      0.647321   \n",
      "17   W2V    [0.5, 0.5]   1.000000e-09        0.704098      0.647321   \n",
      "18   W2V    [0.5, 0.5]   1.000000e-02        0.703421      0.647866   \n",
      "19   W2V    [0.5, 0.5]   1.000000e-01        0.698104      0.652221   \n",
      "20   W2V    [0.5, 0.5]   2.500000e-01        0.693580      0.658537   \n",
      "21   W2V    [0.5, 0.5]   5.000000e-01        0.688659      0.659299   \n",
      "22   W2V    [0.5, 0.5]   7.500000e-01        0.686933      0.660497   \n",
      "23   W2V    [0.5, 0.5]   1.000000e+00        0.685370      0.660170   \n",
      "\n",
      "    train_precision  train_f1  test_accuracy  test_recall  test_precision  \\\n",
      "0          0.410578  0.482486       0.731799     0.572850        0.408182   \n",
      "1          0.410578  0.482486       0.731799     0.572850        0.408182   \n",
      "2          0.409968  0.481435       0.731527     0.571574        0.407643   \n",
      "3          0.408989  0.478224       0.731092     0.561878        0.405749   \n",
      "4          0.410673  0.472557       0.734084     0.540954        0.407066   \n",
      "5          0.413721  0.460826       0.740559     0.502169        0.411285   \n",
      "6          0.421261  0.451254       0.748504     0.470018        0.419877   \n",
      "7          0.426890  0.436389       0.755142     0.435315        0.427248   \n",
      "8          0.367410  0.481352       0.677277     0.695075        0.365147   \n",
      "9          0.367410  0.481352       0.677277     0.695075        0.365147   \n",
      "10         0.366009  0.480509       0.675645     0.696606        0.363903   \n",
      "11         0.357995  0.477214       0.663402     0.713702        0.355807   \n",
      "12         0.348931  0.473679       0.647894     0.734881        0.346487   \n",
      "13         0.335438  0.466119       0.627272     0.764991        0.335835   \n",
      "14         0.325439  0.460470       0.604908     0.793059        0.325173   \n",
      "15         0.316814  0.455409       0.584177     0.812197        0.315492   \n",
      "16         0.386189  0.483766       0.702797     0.638173        0.382124   \n",
      "17         0.386189  0.483766       0.702797     0.638173        0.382124   \n",
      "18         0.385537  0.483406       0.702198     0.638683        0.381555   \n",
      "19         0.380535  0.480642       0.696703     0.642766        0.376363   \n",
      "20         0.376799  0.479334       0.691370     0.644297        0.371160   \n",
      "21         0.372020  0.475648       0.686799     0.645318        0.366788   \n",
      "22         0.370511  0.474722       0.685058     0.643532        0.364820   \n",
      "23         0.368953  0.473358       0.683643     0.642511        0.363295   \n",
      "\n",
      "     test_f1  \n",
      "0   0.476696  \n",
      "1   0.476696  \n",
      "2   0.475887  \n",
      "3   0.471218  \n",
      "4   0.464556  \n",
      "5   0.452206  \n",
      "6   0.443535  \n",
      "7   0.431244  \n",
      "8   0.478777  \n",
      "9   0.478777  \n",
      "10  0.478067  \n",
      "11  0.474873  \n",
      "12  0.470935  \n",
      "13  0.466760  \n",
      "14  0.461230  \n",
      "15  0.454455  \n",
      "16  0.478020  \n",
      "17  0.478020  \n",
      "18  0.477717  \n",
      "19  0.474746  \n",
      "20  0.470994  \n",
      "21  0.467727  \n",
      "22  0.465657  \n",
      "23  0.464147  \n"
     ]
    }
   ],
   "source": [
    "results_list = []\n",
    "\n",
    "param_grid = {\n",
    "    'priors' : [None, [.25,.75], [.5,.5]],\n",
    "    'var_smoothing' : [1.0e-10,1e-9, 0.01, 0.1, 0.25, 0.5, 0.75, 1]\n",
    "}\n",
    "\n",
    "nb = GaussianNB()\n",
    "\n",
    "grid_search = GridSearchCV(estimator=nb, param_grid=param_grid, scoring='f1', cv=3, verbose=2, n_jobs=-1)\n",
    "\n",
    "grid_search.fit(X_train, y_train)\n",
    "\n",
    "for params in grid_search.cv_results_['params']:\n",
    "    model = GaussianNB(**params)  \n",
    "    model.fit(X_train, y_train)  \n",
    "\n",
    "    y_train_pred = model.predict(X_train)\n",
    "\n",
    "    y_test_pred = model.predict(X_test)\n",
    "\n",
    "    train_accuracy = accuracy_score(y_train, y_train_pred)\n",
    "    train_recall = recall_score(y_train, y_train_pred)\n",
    "    train_precision = precision_score(y_train, y_train_pred)\n",
    "    train_f1 = f1_score(y_train, y_train_pred)\n",
    "\n",
    "    test_accuracy = accuracy_score(y_test, y_test_pred)\n",
    "    test_recall = recall_score(y_test, y_test_pred)\n",
    "    test_precision = precision_score(y_test, y_test_pred)\n",
    "    test_f1 = f1_score(y_test, y_test_pred)\n",
    "\n",
    "    result_dict = {\n",
    "        'model': 'W2V',\n",
    "        'priors': params['priors'],\n",
    "        'var_smoothing': params['var_smoothing'],\n",
    "        'train_accuracy': train_accuracy,\n",
    "        'train_recall': train_recall,\n",
    "        'train_precision': train_precision,\n",
    "        'train_f1': train_f1,\n",
    "        'test_accuracy': test_accuracy,\n",
    "        'test_recall': test_recall,\n",
    "        'test_precision': test_precision,\n",
    "        'test_f1': test_f1\n",
    "    }\n",
    "\n",
    "    results_list.append(result_dict)\n",
    "\n",
    "results_df = pd.DataFrame(results_list)\n",
    "\n",
    "results_df.to_csv('nb_grid_w2v_new_dataset.csv', index=False)\n",
    "\n",
    "print(results_df)\n"
   ]
  },
  {
   "cell_type": "code",
   "execution_count": null,
   "id": "f641be93-cb8b-4b23-8cc3-2ac7bd90ce63",
   "metadata": {},
   "outputs": [],
   "source": []
  }
 ],
 "metadata": {
  "kernelspec": {
   "display_name": "Python 3 (ipykernel)",
   "language": "python",
   "name": "python3"
  },
  "language_info": {
   "codemirror_mode": {
    "name": "ipython",
    "version": 3
   },
   "file_extension": ".py",
   "mimetype": "text/x-python",
   "name": "python",
   "nbconvert_exporter": "python",
   "pygments_lexer": "ipython3",
   "version": "3.9.20"
  }
 },
 "nbformat": 4,
 "nbformat_minor": 5
}
