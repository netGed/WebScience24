{
 "cells": [
  {
   "cell_type": "code",
   "execution_count": 1,
   "id": "0d9ec666-3144-4ba2-976b-c91b5fe258bf",
   "metadata": {},
   "outputs": [],
   "source": [
    "from sklearn.naive_bayes import MultinomialNB # ideal für counting features wie bow oder tfidf https://towardsdatascience.com/why-how-to-use-the-naive-bayes-algorithms-in-a-regulated-industry-with-sklearn-python-code-dbd8304ab2cf\n",
    "from sklearn.naive_bayes import GaussianNB # für Features in Decimal Form geeignet\n",
    "from sklearn.naive_bayes import ComplementNB # ähnlich wie Multinomial, soll sich aber besser für imbalanced data eignen\n",
    "from sklearn.metrics import (\n",
    "    accuracy_score,\n",
    "    confusion_matrix,\n",
    "    ConfusionMatrixDisplay,\n",
    "    f1_score,\n",
    "    recall_score,\n",
    "    precision_score,\n",
    "    classification_report,\n",
    ")\n",
    "import pandas as pd\n",
    "from sklearn.model_selection import GridSearchCV, train_test_split, cross_val_score"
   ]
  },
  {
   "cell_type": "code",
   "execution_count": 2,
   "id": "f636600b-8b3e-4bba-9b02-5f3733f11b4d",
   "metadata": {},
   "outputs": [],
   "source": [
    "def evaluate(y_test,y_pred):\n",
    "    accuracy = accuracy_score(y_test, y_pred)\n",
    "    f1 = f1_score(y_test, y_pred)\n",
    "    recall = recall_score(y_test, y_pred)\n",
    "    precision = precision_score(y_test, y_pred)\n",
    "    print(\"Accuracy:\", accuracy)\n",
    "    print(\"F1 Score:\", f1)\n",
    "    print(\"Recall:\", recall)\n",
    "    print(\"Precision:\", precision)\n",
    "    print(pd.DataFrame(confusion_matrix(y_test, y_pred)))"
   ]
  },
  {
   "cell_type": "markdown",
   "id": "bcce5a26-cdc4-46a9-83d1-bf54813f34e4",
   "metadata": {},
   "source": [
    "## Evaluation neue Vectorize-Funktionen (08.12.)"
   ]
  },
  {
   "cell_type": "code",
   "execution_count": 3,
   "id": "e5d1b5ff-2a21-4fc2-80d0-0ab9d8cd8671",
   "metadata": {},
   "outputs": [],
   "source": [
    "%run ../../functions/vectorize_functions.py"
   ]
  },
  {
   "cell_type": "code",
   "execution_count": 4,
   "id": "512a7731-bbeb-4a1a-89f5-eb2b208d84c9",
   "metadata": {},
   "outputs": [],
   "source": [
    "filepath_name = (('../../../data/mixed_dataset/train_cleaned.csv'))\n",
    "df_cleaned = pd.read_csv(filepath_name, encoding='utf-8')"
   ]
  },
  {
   "cell_type": "code",
   "execution_count": 5,
   "id": "d73a06de-70e1-4076-907b-66d3205c5922",
   "metadata": {},
   "outputs": [],
   "source": [
    "X_train, X_test, y_train, y_test = vectorize_glove(df=df_cleaned, text_column='tweet_cleaned', \n",
    "                                                                                 label_column=\"label\")"
   ]
  },
  {
   "cell_type": "code",
   "execution_count": 6,
   "id": "2a198a29-26dc-4c6c-8155-b307c8bd7c16",
   "metadata": {},
   "outputs": [
    {
     "name": "stdout",
     "output_type": "stream",
     "text": [
      "(57332, 100)\n",
      "(24572, 100)\n",
      "(57332,)\n",
      "(24572,)\n",
      "<class 'numpy.ndarray'>\n"
     ]
    }
   ],
   "source": [
    "print(X_train.shape)\n",
    "print(X_test.shape)\n",
    "print(y_train.shape)\n",
    "print(y_test.shape)\n",
    "print(type(X_train))"
   ]
  },
  {
   "cell_type": "markdown",
   "id": "8fd28bfd-3511-4e24-be55-68d5dc363cfa",
   "metadata": {},
   "source": [
    "## GaussianNB"
   ]
  },
  {
   "cell_type": "code",
   "execution_count": 7,
   "id": "d012c6c6-6df3-4d6d-acf6-c1a0456995f7",
   "metadata": {},
   "outputs": [],
   "source": [
    "clf = GaussianNB()\n",
    "clf.fit(X_train,y_train)\n",
    "y_pred = clf.predict(X_test)"
   ]
  },
  {
   "cell_type": "code",
   "execution_count": 8,
   "id": "9d37edd1-4623-4c6d-af74-07119a2e79ba",
   "metadata": {},
   "outputs": [
    {
     "name": "stdout",
     "output_type": "stream",
     "text": [
      "Accuracy: 0.6871235552661566\n",
      "F1 Score: 0.43345615327929254\n",
      "Recall: 0.6658365406384423\n",
      "Precision: 0.32131541571069594\n",
      "       0     1\n",
      "0  13943  6212\n",
      "1   1476  2941\n"
     ]
    }
   ],
   "source": [
    "evaluate(y_test, y_pred)"
   ]
  },
  {
   "cell_type": "code",
   "execution_count": 9,
   "id": "131f8528-a1a8-43a9-9bf5-f6ee57762b26",
   "metadata": {},
   "outputs": [
    {
     "name": "stdout",
     "output_type": "stream",
     "text": [
      "Fitting 3 folds for each of 24 candidates, totalling 72 fits\n",
      "    model        priors  var_smoothing  train_accuracy  train_recall  \\\n",
      "0   Glove          None   1.000000e-10        0.689301      0.665182   \n",
      "1   Glove          None   1.000000e-09        0.689301      0.665182   \n",
      "2   Glove          None   1.000000e-02        0.676847      0.694810   \n",
      "3   Glove          None   1.000000e-01        0.644125      0.744094   \n",
      "4   Glove          None   2.500000e-01        0.693470      0.643784   \n",
      "5   Glove          None   5.000000e-01        0.775919      0.398044   \n",
      "6   Glove          None   7.500000e-01        0.809391      0.212626   \n",
      "7   Glove          None   1.000000e+00        0.818566      0.102827   \n",
      "8   Glove  [0.25, 0.75]   1.000000e-10        0.572996      0.822909   \n",
      "9   Glove  [0.25, 0.75]   1.000000e-09        0.572996      0.822909   \n",
      "10  Glove  [0.25, 0.75]   1.000000e-02        0.546798      0.852730   \n",
      "11  Glove  [0.25, 0.75]   1.000000e-01        0.421405      0.950426   \n",
      "12  Glove  [0.25, 0.75]   2.500000e-01        0.336496      0.981313   \n",
      "13  Glove  [0.25, 0.75]   5.000000e-01        0.262070      0.994481   \n",
      "14  Glove  [0.25, 0.75]   7.500000e-01        0.217906      0.997870   \n",
      "15  Glove  [0.25, 0.75]   1.000000e+00        0.195371      0.999032   \n",
      "16  Glove    [0.5, 0.5]   1.000000e-10        0.620631      0.768687   \n",
      "17  Glove    [0.5, 0.5]   1.000000e-09        0.620631      0.768687   \n",
      "18  Glove    [0.5, 0.5]   1.000000e-02        0.599334      0.799187   \n",
      "19  Glove    [0.5, 0.5]   1.000000e-01        0.502791      0.896204   \n",
      "20  Glove    [0.5, 0.5]   2.500000e-01        0.457406      0.929415   \n",
      "21  Glove    [0.5, 0.5]   5.000000e-01        0.433911      0.940744   \n",
      "22  Glove    [0.5, 0.5]   7.500000e-01        0.424772      0.944423   \n",
      "23  Glove    [0.5, 0.5]   1.000000e+00        0.420114      0.946553   \n",
      "\n",
      "    train_precision  train_f1  test_accuracy  test_recall  test_precision  \\\n",
      "0          0.323675  0.435458       0.687124     0.665837        0.321315   \n",
      "1          0.323675  0.435458       0.687124     0.665837        0.321315   \n",
      "2          0.318212  0.436510       0.673612     0.690061        0.314259   \n",
      "3          0.302024  0.429654       0.643130     0.742812        0.300623   \n",
      "4          0.323647  0.430746       0.691356     0.645461        0.321457   \n",
      "5          0.382739  0.390242       0.773889     0.405026        0.379266   \n",
      "6          0.439904  0.286684       0.808115     0.206475        0.429783   \n",
      "7          0.483167  0.169567       0.817679     0.098936        0.466382   \n",
      "8          0.272832  0.409798       0.571911     0.817523        0.271015   \n",
      "9          0.272832  0.409798       0.571911     0.817523        0.271015   \n",
      "10         0.264721  0.404019       0.544807     0.846276        0.262426   \n",
      "11         0.231095  0.371790       0.415310     0.949513        0.228705   \n",
      "12         0.211225  0.347625       0.333469     0.980756        0.210036   \n",
      "13         0.195560  0.326847       0.260500     0.994114        0.194844   \n",
      "14         0.186964  0.314923       0.215448     0.997736        0.186146   \n",
      "15         0.182817  0.309075       0.193635     0.998642        0.182130   \n",
      "16         0.290806  0.421973       0.621195     0.763414        0.289815   \n",
      "17         0.290806  0.421973       0.621195     0.763414        0.289815   \n",
      "18         0.283146  0.418146       0.597672     0.793978        0.280942   \n",
      "19         0.252276  0.393722       0.498128     0.893140        0.249605   \n",
      "20         0.240107  0.381624       0.451205     0.925289        0.237037   \n",
      "21         0.233788  0.374506       0.428170     0.937288        0.231104   \n",
      "22         0.231362  0.371673       0.418729     0.942495        0.228837   \n",
      "23         0.230186  0.370317       0.413438     0.944306        0.227451   \n",
      "\n",
      "     test_f1  \n",
      "0   0.433456  \n",
      "1   0.433456  \n",
      "2   0.431850  \n",
      "3   0.428022  \n",
      "4   0.429174  \n",
      "5   0.391723  \n",
      "6   0.278942  \n",
      "7   0.163242  \n",
      "8   0.407080  \n",
      "9   0.407080  \n",
      "10  0.400622  \n",
      "11  0.368622  \n",
      "12  0.345979  \n",
      "13  0.325826  \n",
      "14  0.313755  \n",
      "15  0.308074  \n",
      "16  0.420135  \n",
      "17  0.420135  \n",
      "18  0.415030  \n",
      "19  0.390169  \n",
      "20  0.377395  \n",
      "21  0.370785  \n",
      "22  0.368260  \n",
      "23  0.366601  \n"
     ]
    }
   ],
   "source": [
    "results_list = []\n",
    "\n",
    "param_grid = {\n",
    "    'priors' : [None, [.25,.75], [.5,.5]],\n",
    "    'var_smoothing' : [1.0e-10,1e-9, 0.01, 0.1, 0.25, 0.5, 0.75, 1]\n",
    "}\n",
    "\n",
    "nb = GaussianNB()\n",
    "\n",
    "grid_search = GridSearchCV(estimator=nb, param_grid=param_grid, scoring='f1', cv=3, verbose=2, n_jobs=-1)\n",
    "\n",
    "grid_search.fit(X_train, y_train)\n",
    "\n",
    "for params in grid_search.cv_results_['params']:\n",
    "    model = GaussianNB(**params)  \n",
    "    model.fit(X_train, y_train)  \n",
    "\n",
    "    y_train_pred = model.predict(X_train)\n",
    "\n",
    "    y_test_pred = model.predict(X_test)\n",
    "\n",
    "    train_accuracy = accuracy_score(y_train, y_train_pred)\n",
    "    train_recall = recall_score(y_train, y_train_pred)\n",
    "    train_precision = precision_score(y_train, y_train_pred)\n",
    "    train_f1 = f1_score(y_train, y_train_pred)\n",
    "\n",
    "    test_accuracy = accuracy_score(y_test, y_test_pred)\n",
    "    test_recall = recall_score(y_test, y_test_pred)\n",
    "    test_precision = precision_score(y_test, y_test_pred)\n",
    "    test_f1 = f1_score(y_test, y_test_pred)\n",
    "\n",
    "    result_dict = {\n",
    "        'model': 'Glove',\n",
    "        'priors': params['priors'],\n",
    "        'var_smoothing': params['var_smoothing'],\n",
    "        'train_accuracy': train_accuracy,\n",
    "        'train_recall': train_recall,\n",
    "        'train_precision': train_precision,\n",
    "        'train_f1': train_f1,\n",
    "        'test_accuracy': test_accuracy,\n",
    "        'test_recall': test_recall,\n",
    "        'test_precision': test_precision,\n",
    "        'test_f1': test_f1\n",
    "    }\n",
    "\n",
    "    results_list.append(result_dict)\n",
    "\n",
    "results_df = pd.DataFrame(results_list)\n",
    "\n",
    "results_df.to_csv('eval_data/nb_grid_glv_mixed_dataset.csv', index=False)\n",
    "\n",
    "print(results_df)\n"
   ]
  },
  {
   "cell_type": "code",
   "execution_count": null,
   "id": "9a14f063-46d0-4c1c-89fb-ce6bd3d1c546",
   "metadata": {},
   "outputs": [],
   "source": []
  }
 ],
 "metadata": {
  "kernelspec": {
   "display_name": "Python 3 (ipykernel)",
   "language": "python",
   "name": "python3"
  },
  "language_info": {
   "codemirror_mode": {
    "name": "ipython",
    "version": 3
   },
   "file_extension": ".py",
   "mimetype": "text/x-python",
   "name": "python",
   "nbconvert_exporter": "python",
   "pygments_lexer": "ipython3",
   "version": "3.9.20"
  }
 },
 "nbformat": 4,
 "nbformat_minor": 5
}
