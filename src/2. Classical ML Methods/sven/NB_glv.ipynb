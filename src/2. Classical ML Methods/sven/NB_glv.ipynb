{
 "cells": [
  {
   "cell_type": "code",
   "execution_count": 1,
   "id": "0d9ec666-3144-4ba2-976b-c91b5fe258bf",
   "metadata": {},
   "outputs": [],
   "source": [
    "from sklearn.naive_bayes import MultinomialNB # ideal für counting features wie bow oder tfidf https://towardsdatascience.com/why-how-to-use-the-naive-bayes-algorithms-in-a-regulated-industry-with-sklearn-python-code-dbd8304ab2cf\n",
    "from sklearn.naive_bayes import GaussianNB # für Features in Decimal Form geeignet\n",
    "from sklearn.naive_bayes import ComplementNB # ähnlich wie Multinomial, soll sich aber besser für imbalanced data eignen\n",
    "from sklearn.metrics import (\n",
    "    accuracy_score,\n",
    "    confusion_matrix,\n",
    "    ConfusionMatrixDisplay,\n",
    "    f1_score,\n",
    "    recall_score,\n",
    "    precision_score,\n",
    "    classification_report,\n",
    ")\n",
    "import pandas as pd\n",
    "from sklearn.model_selection import GridSearchCV, train_test_split, cross_val_score"
   ]
  },
  {
   "cell_type": "code",
   "execution_count": 2,
   "id": "f636600b-8b3e-4bba-9b02-5f3733f11b4d",
   "metadata": {},
   "outputs": [],
   "source": [
    "def evaluate(y_test,y_pred):\n",
    "    accuracy = accuracy_score(y_test, y_pred)\n",
    "    f1 = f1_score(y_test, y_pred)\n",
    "    recall = recall_score(y_test, y_pred)\n",
    "    precision = precision_score(y_test, y_pred)\n",
    "    print(\"Accuracy:\", accuracy)\n",
    "    print(\"F1 Score:\", f1)\n",
    "    print(\"Recall:\", recall)\n",
    "    print(\"Precision:\", precision)\n",
    "    print(pd.DataFrame(confusion_matrix(y_test, y_pred)))"
   ]
  },
  {
   "cell_type": "markdown",
   "id": "bcce5a26-cdc4-46a9-83d1-bf54813f34e4",
   "metadata": {},
   "source": [
    "## Evaluation neue Vectorize-Funktionen (08.12.)"
   ]
  },
  {
   "cell_type": "code",
   "execution_count": 3,
   "id": "e5d1b5ff-2a21-4fc2-80d0-0ab9d8cd8671",
   "metadata": {},
   "outputs": [],
   "source": [
    "%run ../../functions/vectorize_functions.py"
   ]
  },
  {
   "cell_type": "code",
   "execution_count": 4,
   "id": "512a7731-bbeb-4a1a-89f5-eb2b208d84c9",
   "metadata": {},
   "outputs": [],
   "source": [
    "filepath_name = (('../../../data/twitter_hate-speech/train_cleaned.csv'))\n",
    "df_cleaned = pd.read_csv(filepath_name, encoding='utf-8')"
   ]
  },
  {
   "cell_type": "code",
   "execution_count": 6,
   "id": "d73a06de-70e1-4076-907b-66d3205c5922",
   "metadata": {},
   "outputs": [],
   "source": [
    "X_train, X_test, y_train, y_test = vectorize_glove(df=df_cleaned, text_column='tweet_cleaned', \n",
    "                                                                                 label_column=\"label\")"
   ]
  },
  {
   "cell_type": "code",
   "execution_count": 7,
   "id": "2a198a29-26dc-4c6c-8155-b307c8bd7c16",
   "metadata": {},
   "outputs": [
    {
     "name": "stdout",
     "output_type": "stream",
     "text": [
      "(13737, 100)\n",
      "(5888, 100)\n",
      "(13737,)\n",
      "(5888,)\n",
      "<class 'numpy.ndarray'>\n"
     ]
    }
   ],
   "source": [
    "print(X_train.shape)\n",
    "print(X_test.shape)\n",
    "print(y_train.shape)\n",
    "print(y_test.shape)\n",
    "print(type(X_train))"
   ]
  },
  {
   "cell_type": "markdown",
   "id": "8fd28bfd-3511-4e24-be55-68d5dc363cfa",
   "metadata": {},
   "source": [
    "## GaussianNB"
   ]
  },
  {
   "cell_type": "code",
   "execution_count": 7,
   "id": "d012c6c6-6df3-4d6d-acf6-c1a0456995f7",
   "metadata": {},
   "outputs": [],
   "source": [
    "clf = GaussianNB()\n",
    "clf.fit(X_train,y_train)\n",
    "y_pred = clf.predict(X_test)"
   ]
  },
  {
   "cell_type": "code",
   "execution_count": 8,
   "id": "9d37edd1-4623-4c6d-af74-07119a2e79ba",
   "metadata": {},
   "outputs": [
    {
     "name": "stdout",
     "output_type": "stream",
     "text": [
      "Accuracy: 0.8738111413043478\n",
      "F1 Score: 0.4117181314330958\n",
      "Recall: 0.6951871657754011\n",
      "Precision: 0.2924634420697413\n",
      "      0    1\n",
      "0  4885  629\n",
      "1   114  260\n"
     ]
    }
   ],
   "source": [
    "evaluate(y_test, y_pred)"
   ]
  },
  {
   "cell_type": "code",
   "execution_count": 8,
   "id": "131f8528-a1a8-43a9-9bf5-f6ee57762b26",
   "metadata": {},
   "outputs": [
    {
     "name": "stdout",
     "output_type": "stream",
     "text": [
      "Fitting 3 folds for each of 24 candidates, totalling 72 fits\n",
      "    model        priors  var_smoothing  train_accuracy  train_recall  \\\n",
      "0   Glove          None   1.000000e-10        0.873189      0.677419   \n",
      "1   Glove          None   1.000000e-09        0.873189      0.677419   \n",
      "2   Glove          None   1.000000e-02        0.872752      0.684946   \n",
      "3   Glove          None   1.000000e-01        0.880614      0.660215   \n",
      "4   Glove          None   2.500000e-01        0.902672      0.532258   \n",
      "5   Glove          None   5.000000e-01        0.925821      0.338710   \n",
      "6   Glove          None   7.500000e-01        0.933319      0.192473   \n",
      "7   Glove          None   1.000000e+00        0.934265      0.095699   \n",
      "8   Glove  [0.25, 0.75]   1.000000e-10        0.788673      0.812903   \n",
      "9   Glove  [0.25, 0.75]   1.000000e-09        0.788673      0.812903   \n",
      "10  Glove  [0.25, 0.75]   1.000000e-02        0.776370      0.824731   \n",
      "11  Glove  [0.25, 0.75]   1.000000e-01        0.693747      0.874194   \n",
      "12  Glove  [0.25, 0.75]   2.500000e-01        0.602388      0.919355   \n",
      "13  Glove  [0.25, 0.75]   5.000000e-01        0.485113      0.956989   \n",
      "14  Glove  [0.25, 0.75]   7.500000e-01        0.373444      0.977419   \n",
      "15  Glove  [0.25, 0.75]   1.000000e+00        0.280920      0.981720   \n",
      "16  Glove    [0.5, 0.5]   1.000000e-10        0.820994      0.783871   \n",
      "17  Glove    [0.5, 0.5]   1.000000e-09        0.820994      0.783871   \n",
      "18  Glove    [0.5, 0.5]   1.000000e-02        0.811895      0.791398   \n",
      "19  Glove    [0.5, 0.5]   1.000000e-01        0.769892      0.821505   \n",
      "20  Glove    [0.5, 0.5]   2.500000e-01        0.744049      0.834409   \n",
      "21  Glove    [0.5, 0.5]   5.000000e-01        0.730873      0.839785   \n",
      "22  Glove    [0.5, 0.5]   7.500000e-01        0.727233      0.840860   \n",
      "23  Glove    [0.5, 0.5]   1.000000e+00        0.724321      0.837634   \n",
      "\n",
      "    train_precision  train_f1  test_accuracy  test_recall  test_precision  \\\n",
      "0          0.304054  0.419720       0.873811     0.695187        0.292463   \n",
      "1          0.304054  0.419720       0.873811     0.695187        0.292463   \n",
      "2          0.304493  0.421575       0.873302     0.695187        0.291480   \n",
      "3          0.316821  0.428173       0.884001     0.676471        0.310429   \n",
      "4          0.354331  0.425440       0.911005     0.553476        0.367021   \n",
      "5          0.438108  0.382050       0.931726     0.352941        0.452055   \n",
      "6          0.520349  0.281005       0.936990     0.181818        0.511278   \n",
      "7          0.589404  0.164662       0.937670     0.096257        0.553846   \n",
      "8          0.216930  0.342469       0.794327     0.831551        0.213160   \n",
      "9          0.216930  0.342469       0.794327     0.831551        0.213160   \n",
      "10         0.208651  0.333044       0.782439     0.839572        0.204560   \n",
      "11         0.165817  0.278759       0.694124     0.890374        0.159102   \n",
      "12         0.136975  0.238427       0.597147     0.927807        0.128900   \n",
      "13         0.112331  0.201062       0.473166     0.946524        0.103027   \n",
      "14         0.095735  0.174388       0.366678     0.967914        0.088747   \n",
      "15         0.084741  0.156015       0.273098     0.986631        0.079457   \n",
      "16         0.244058  0.372224       0.822181     0.799465        0.235248   \n",
      "17         0.244058  0.372224       0.822181     0.799465        0.235248   \n",
      "18         0.235445  0.362919       0.814538     0.810160        0.228852   \n",
      "19         0.203246  0.325869       0.773947     0.839572        0.198107   \n",
      "20         0.187530  0.306235       0.745754     0.850267        0.180785   \n",
      "21         0.180411  0.297015       0.732507     0.858289        0.174173   \n",
      "22         0.178498  0.294483       0.726223     0.858289        0.170745   \n",
      "23         0.176444  0.291487       0.723505     0.858289        0.169304   \n",
      "\n",
      "     test_f1  \n",
      "0   0.411718  \n",
      "1   0.411718  \n",
      "2   0.410742  \n",
      "3   0.425568  \n",
      "4   0.441365  \n",
      "5   0.396396  \n",
      "6   0.268245  \n",
      "7   0.164009  \n",
      "8   0.339334  \n",
      "9   0.339334  \n",
      "10  0.328968  \n",
      "11  0.269964  \n",
      "12  0.226354  \n",
      "13  0.185827  \n",
      "14  0.162587  \n",
      "15  0.147071  \n",
      "16  0.363526  \n",
      "17  0.363526  \n",
      "18  0.356890  \n",
      "19  0.320572  \n",
      "20  0.298172  \n",
      "21  0.289581  \n",
      "22  0.284827  \n",
      "23  0.282819  \n"
     ]
    }
   ],
   "source": [
    "results_list = []\n",
    "\n",
    "param_grid = {\n",
    "    'priors' : [None, [.25,.75], [.5,.5]],\n",
    "    'var_smoothing' : [1.0e-10,1e-9, 0.01, 0.1, 0.25, 0.5, 0.75, 1]\n",
    "}\n",
    "\n",
    "nb = GaussianNB()\n",
    "\n",
    "grid_search = GridSearchCV(estimator=nb, param_grid=param_grid, scoring='f1', cv=3, verbose=2, n_jobs=-1)\n",
    "\n",
    "grid_search.fit(X_train, y_train)\n",
    "\n",
    "for params in grid_search.cv_results_['params']:\n",
    "    model = GaussianNB(**params)  \n",
    "    model.fit(X_train, y_train)  \n",
    "\n",
    "    y_train_pred = model.predict(X_train)\n",
    "\n",
    "    y_test_pred = model.predict(X_test)\n",
    "\n",
    "    train_accuracy = accuracy_score(y_train, y_train_pred)\n",
    "    train_recall = recall_score(y_train, y_train_pred)\n",
    "    train_precision = precision_score(y_train, y_train_pred)\n",
    "    train_f1 = f1_score(y_train, y_train_pred)\n",
    "\n",
    "    test_accuracy = accuracy_score(y_test, y_test_pred)\n",
    "    test_recall = recall_score(y_test, y_test_pred)\n",
    "    test_precision = precision_score(y_test, y_test_pred)\n",
    "    test_f1 = f1_score(y_test, y_test_pred)\n",
    "\n",
    "    result_dict = {\n",
    "        'model': 'Glove',\n",
    "        'priors': params['priors'],\n",
    "        'var_smoothing': params['var_smoothing'],\n",
    "        'train_accuracy': train_accuracy,\n",
    "        'train_recall': train_recall,\n",
    "        'train_precision': train_precision,\n",
    "        'train_f1': train_f1,\n",
    "        'test_accuracy': test_accuracy,\n",
    "        'test_recall': test_recall,\n",
    "        'test_precision': test_precision,\n",
    "        'test_f1': test_f1\n",
    "    }\n",
    "\n",
    "    results_list.append(result_dict)\n",
    "\n",
    "results_df = pd.DataFrame(results_list)\n",
    "\n",
    "results_df.to_csv('eval_data/nb_grid_glv.csv', index=False)\n",
    "\n",
    "print(results_df)\n"
   ]
  },
  {
   "cell_type": "code",
   "execution_count": null,
   "id": "9a14f063-46d0-4c1c-89fb-ce6bd3d1c546",
   "metadata": {},
   "outputs": [],
   "source": []
  }
 ],
 "metadata": {
  "kernelspec": {
   "display_name": "Python 3 (ipykernel)",
   "language": "python",
   "name": "python3"
  },
  "language_info": {
   "codemirror_mode": {
    "name": "ipython",
    "version": 3
   },
   "file_extension": ".py",
   "mimetype": "text/x-python",
   "name": "python",
   "nbconvert_exporter": "python",
   "pygments_lexer": "ipython3",
   "version": "3.9.20"
  }
 },
 "nbformat": 4,
 "nbformat_minor": 5
}
