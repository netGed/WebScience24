{
 "cells": [
  {
   "cell_type": "code",
   "execution_count": 1,
   "id": "0d9ec666-3144-4ba2-976b-c91b5fe258bf",
   "metadata": {},
   "outputs": [],
   "source": [
    "from sklearn.naive_bayes import MultinomialNB # ideal für counting features wie bow oder tfidf https://towardsdatascience.com/why-how-to-use-the-naive-bayes-algorithms-in-a-regulated-industry-with-sklearn-python-code-dbd8304ab2cf\n",
    "from sklearn.naive_bayes import GaussianNB # für Features in Decimal Form geeignet\n",
    "from sklearn.naive_bayes import ComplementNB # ähnlich wie Multinomial, soll sich aber besser für imbalanced data eignen\n",
    "from sklearn.metrics import (\n",
    "    accuracy_score,\n",
    "    confusion_matrix,\n",
    "    ConfusionMatrixDisplay,\n",
    "    f1_score,\n",
    "    recall_score,\n",
    "    precision_score,\n",
    "    classification_report,\n",
    ")\n",
    "import pandas as pd\n",
    "from sklearn.model_selection import GridSearchCV, train_test_split, cross_val_score"
   ]
  },
  {
   "cell_type": "code",
   "execution_count": 2,
   "id": "f636600b-8b3e-4bba-9b02-5f3733f11b4d",
   "metadata": {},
   "outputs": [],
   "source": [
    "def evaluate(y_test,y_pred):\n",
    "    accuracy = accuracy_score(y_test, y_pred)\n",
    "    f1 = f1_score(y_test, y_pred)\n",
    "    recall = recall_score(y_test, y_pred)\n",
    "    precision = precision_score(y_test, y_pred)\n",
    "    print(\"Accuracy:\", accuracy)\n",
    "    print(\"F1 Score:\", f1)\n",
    "    print(\"Recall:\", recall)\n",
    "    print(\"Precision:\", precision)\n",
    "    print(pd.DataFrame(confusion_matrix(y_test, y_pred)))"
   ]
  },
  {
   "cell_type": "markdown",
   "id": "bcce5a26-cdc4-46a9-83d1-bf54813f34e4",
   "metadata": {},
   "source": [
    "## Evaluation neue Vectorize-Funktionen (08.12.)"
   ]
  },
  {
   "cell_type": "code",
   "execution_count": 3,
   "id": "e5d1b5ff-2a21-4fc2-80d0-0ab9d8cd8671",
   "metadata": {},
   "outputs": [],
   "source": [
    "%run ../../functions/vectorize_functions.py"
   ]
  },
  {
   "cell_type": "code",
   "execution_count": 4,
   "id": "512a7731-bbeb-4a1a-89f5-eb2b208d84c9",
   "metadata": {},
   "outputs": [],
   "source": [
    "filepath_name = (('../../../data/twitter_hate-speech/train_cleaned.csv'))\n",
    "df_cleaned = pd.read_csv(filepath_name, encoding='utf-8')"
   ]
  },
  {
   "cell_type": "code",
   "execution_count": 5,
   "id": "d73a06de-70e1-4076-907b-66d3205c5922",
   "metadata": {},
   "outputs": [],
   "source": [
    "X_train, X_test, y_train, y_test = vectorize_w2v(df=df_cleaned, text_column='tweet_cleaned', \n",
    "                                                                                 label_column=\"label\")"
   ]
  },
  {
   "cell_type": "code",
   "execution_count": 6,
   "id": "2a198a29-26dc-4c6c-8155-b307c8bd7c16",
   "metadata": {},
   "outputs": [
    {
     "name": "stdout",
     "output_type": "stream",
     "text": [
      "(13737, 300)\n",
      "(5888, 300)\n",
      "(13737,)\n",
      "(5888,)\n",
      "<class 'numpy.ndarray'>\n"
     ]
    }
   ],
   "source": [
    "print(X_train.shape)\n",
    "print(X_test.shape)\n",
    "print(y_train.shape)\n",
    "print(y_test.shape)\n",
    "print(type(X_train))"
   ]
  },
  {
   "cell_type": "markdown",
   "id": "8fd28bfd-3511-4e24-be55-68d5dc363cfa",
   "metadata": {},
   "source": [
    "## GaussianNB"
   ]
  },
  {
   "cell_type": "code",
   "execution_count": 8,
   "id": "d012c6c6-6df3-4d6d-acf6-c1a0456995f7",
   "metadata": {},
   "outputs": [],
   "source": [
    "clf = GaussianNB()\n",
    "clf.fit(X_train,y_train)\n",
    "y_pred = clf.predict(X_test)"
   ]
  },
  {
   "cell_type": "code",
   "execution_count": 9,
   "id": "9d37edd1-4623-4c6d-af74-07119a2e79ba",
   "metadata": {},
   "outputs": [
    {
     "name": "stdout",
     "output_type": "stream",
     "text": [
      "Accuracy: 0.6652513586956522\n",
      "F1 Score: 0.2462715105162524\n",
      "Recall: 0.8609625668449198\n",
      "Precision: 0.14368585452922802\n",
      "      0     1\n",
      "0  3595  1919\n",
      "1    52   322\n"
     ]
    }
   ],
   "source": [
    "evaluate(y_test, y_pred)"
   ]
  },
  {
   "cell_type": "code",
   "execution_count": 11,
   "id": "131f8528-a1a8-43a9-9bf5-f6ee57762b26",
   "metadata": {},
   "outputs": [
    {
     "name": "stdout",
     "output_type": "stream",
     "text": [
      "Fitting 3 folds for each of 24 candidates, totalling 72 fits\n",
      "          priors  var_smoothing  train_accuracy  train_recall  \\\n",
      "0           None   1.000000e-10        0.692145      0.832258   \n",
      "1           None   1.000000e-09        0.692145      0.832258   \n",
      "2           None   1.000000e-02        0.683410      0.840860   \n",
      "3           None   1.000000e-01        0.626993      0.878495   \n",
      "4           None   2.500000e-01        0.563078      0.921505   \n",
      "5           None   5.000000e-01        0.499090      0.951613   \n",
      "6           None   7.500000e-01        0.463056      0.972043   \n",
      "7           None   1.000000e+00        0.444420      0.981720   \n",
      "8   [0.25, 0.75]   1.000000e-10        0.679843      0.841935   \n",
      "9   [0.25, 0.75]   1.000000e-09        0.679843      0.841935   \n",
      "10  [0.25, 0.75]   1.000000e-02        0.670234      0.850538   \n",
      "11  [0.25, 0.75]   1.000000e-01        0.610468      0.889247   \n",
      "12  [0.25, 0.75]   2.500000e-01        0.536289      0.930108   \n",
      "13  [0.25, 0.75]   5.000000e-01        0.461163      0.969892   \n",
      "14  [0.25, 0.75]   7.500000e-01        0.416394      0.982796   \n",
      "15  [0.25, 0.75]   1.000000e+00        0.388804      0.989247   \n",
      "16    [0.5, 0.5]   1.000000e-10        0.682973      0.836559   \n",
      "17    [0.5, 0.5]   1.000000e-09        0.682973      0.836559   \n",
      "18    [0.5, 0.5]   1.000000e-02        0.674601      0.847312   \n",
      "19    [0.5, 0.5]   1.000000e-01        0.614545      0.886022   \n",
      "20    [0.5, 0.5]   2.500000e-01        0.544005      0.925806   \n",
      "21    [0.5, 0.5]   5.000000e-01        0.470408      0.966667   \n",
      "22    [0.5, 0.5]   7.500000e-01        0.428114      0.979570   \n",
      "23    [0.5, 0.5]   1.000000e+00        0.404310      0.984946   \n",
      "\n",
      "    train_precision  train_f1  test_accuracy  test_recall  test_precision  \\\n",
      "0          0.159686  0.267959       0.665251     0.860963        0.143686   \n",
      "1          0.159686  0.267959       0.665251     0.860963        0.143686   \n",
      "2          0.156934  0.264502       0.657779     0.863636        0.141233   \n",
      "3          0.140185  0.241788       0.605639     0.893048        0.127676   \n",
      "4          0.126289  0.222136       0.541610     0.922460        0.114428   \n",
      "5          0.114622  0.204601       0.476902     0.949198        0.103923   \n",
      "6          0.109523  0.196864       0.444463     0.957219        0.099087   \n",
      "7          0.107059  0.193064       0.429178     0.962567        0.097114   \n",
      "8          0.155542  0.262575       0.653193     0.863636        0.139585   \n",
      "9          0.155542  0.262575       0.653193     0.863636        0.139585   \n",
      "10         0.152644  0.258835       0.646739     0.868984        0.137946   \n",
      "11         0.136132  0.236117       0.586277     0.898396        0.122897   \n",
      "12         0.120642  0.213580       0.512908     0.935829        0.109580   \n",
      "13         0.108990  0.195959       0.442086     0.957219        0.098704   \n",
      "14         0.102524  0.185678       0.396909     0.973262        0.093214   \n",
      "15         0.098861  0.179758       0.368716     0.978610        0.089816   \n",
      "16         0.156194  0.263238       0.657779     0.863636        0.141233   \n",
      "17         0.156194  0.263238       0.657779     0.863636        0.141233   \n",
      "18         0.154027  0.260668       0.648947     0.866310        0.138402   \n",
      "19         0.137036  0.237361       0.592391     0.898396        0.124537   \n",
      "20         0.122024  0.215627       0.520720     0.930481        0.110687   \n",
      "21         0.110402  0.198170       0.451427     0.954545        0.100000   \n",
      "22         0.104138  0.188262       0.413213     0.965241        0.094925   \n",
      "23         0.100826  0.182926       0.384341     0.973262        0.091480   \n",
      "\n",
      "     test_f1  \n",
      "0   0.246272  \n",
      "1   0.246272  \n",
      "2   0.242766  \n",
      "3   0.223411  \n",
      "4   0.203600  \n",
      "5   0.187335  \n",
      "6   0.179584  \n",
      "7   0.176427  \n",
      "8   0.240327  \n",
      "9   0.240327  \n",
      "10  0.238095  \n",
      "11  0.216216  \n",
      "12  0.196188  \n",
      "13  0.178955  \n",
      "14  0.170133  \n",
      "15  0.164531  \n",
      "16  0.242766  \n",
      "17  0.242766  \n",
      "18  0.238674  \n",
      "19  0.218750  \n",
      "20  0.197840  \n",
      "21  0.181034  \n",
      "22  0.172851  \n",
      "23  0.167241  \n"
     ]
    }
   ],
   "source": [
    "results_list = []\n",
    "\n",
    "param_grid = {\n",
    "    'priors' : [None, [.25,.75], [.5,.5]],\n",
    "    'var_smoothing' : [1.0e-10,1e-9, 0.01, 0.1, 0.25, 0.5, 0.75, 1]\n",
    "}\n",
    "\n",
    "nb = GaussianNB()\n",
    "\n",
    "grid_search = GridSearchCV(estimator=nb, param_grid=param_grid, scoring='f1', cv=3, verbose=2, n_jobs=-1)\n",
    "\n",
    "grid_search.fit(X_train, y_train)\n",
    "\n",
    "for params in grid_search.cv_results_['params']:\n",
    "    model = GaussianNB(**params)  \n",
    "    model.fit(X_train, y_train)  \n",
    "\n",
    "    y_train_pred = model.predict(X_train)\n",
    "\n",
    "    y_test_pred = model.predict(X_test)\n",
    "\n",
    "    train_accuracy = accuracy_score(y_train, y_train_pred)\n",
    "    train_recall = recall_score(y_train, y_train_pred)\n",
    "    train_precision = precision_score(y_train, y_train_pred)\n",
    "    train_f1 = f1_score(y_train, y_train_pred)\n",
    "\n",
    "    test_accuracy = accuracy_score(y_test, y_test_pred)\n",
    "    test_recall = recall_score(y_test, y_test_pred)\n",
    "    test_precision = precision_score(y_test, y_test_pred)\n",
    "    test_f1 = f1_score(y_test, y_test_pred)\n",
    "\n",
    "    result_dict = {\n",
    "        'priors': params['priors'],\n",
    "        'var_smoothing': params['var_smoothing'],\n",
    "        'train_accuracy': train_accuracy,\n",
    "        'train_recall': train_recall,\n",
    "        'train_precision': train_precision,\n",
    "        'train_f1': train_f1,\n",
    "        'test_accuracy': test_accuracy,\n",
    "        'test_recall': test_recall,\n",
    "        'test_precision': test_precision,\n",
    "        'test_f1': test_f1\n",
    "    }\n",
    "\n",
    "    results_list.append(result_dict)\n",
    "\n",
    "results_df = pd.DataFrame(results_list)\n",
    "\n",
    "results_df.to_csv('nb_grid_w2v.csv', index=False)\n",
    "\n",
    "print(results_df)\n"
   ]
  }
 ],
 "metadata": {
  "kernelspec": {
   "display_name": "Python 3 (ipykernel)",
   "language": "python",
   "name": "python3"
  },
  "language_info": {
   "codemirror_mode": {
    "name": "ipython",
    "version": 3
   },
   "file_extension": ".py",
   "mimetype": "text/x-python",
   "name": "python",
   "nbconvert_exporter": "python",
   "pygments_lexer": "ipython3",
   "version": "3.9.20"
  }
 },
 "nbformat": 4,
 "nbformat_minor": 5
}
