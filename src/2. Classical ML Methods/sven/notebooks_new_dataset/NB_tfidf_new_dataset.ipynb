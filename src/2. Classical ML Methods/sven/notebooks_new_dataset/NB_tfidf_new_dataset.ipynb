{
 "cells": [
  {
   "cell_type": "code",
   "execution_count": 1,
   "id": "0d9ec666-3144-4ba2-976b-c91b5fe258bf",
   "metadata": {},
   "outputs": [],
   "source": [
    "from sklearn.naive_bayes import MultinomialNB # ideal für counting features wie bow oder tfidf https://towardsdatascience.com/why-how-to-use-the-naive-bayes-algorithms-in-a-regulated-industry-with-sklearn-python-code-dbd8304ab2cf\n",
    "from sklearn.naive_bayes import GaussianNB # für Features in Decimal Form geeignet\n",
    "from sklearn.naive_bayes import ComplementNB # ähnlich wie Multinomial, soll sich aber besser für imbalanced data eignen\n",
    "from sklearn.metrics import (\n",
    "    accuracy_score,\n",
    "    confusion_matrix,\n",
    "    ConfusionMatrixDisplay,\n",
    "    f1_score,\n",
    "    recall_score,\n",
    "    precision_score,\n",
    "    classification_report,\n",
    ")\n",
    "import pandas as pd\n",
    "from sklearn.model_selection import GridSearchCV, train_test_split, cross_val_score"
   ]
  },
  {
   "cell_type": "code",
   "execution_count": 2,
   "id": "f636600b-8b3e-4bba-9b02-5f3733f11b4d",
   "metadata": {},
   "outputs": [],
   "source": [
    "def evaluate(y_test,y_pred):\n",
    "    accuracy = accuracy_score(y_test, y_pred)\n",
    "    f1 = f1_score(y_test, y_pred)\n",
    "    recall = recall_score(y_test, y_pred)\n",
    "    precision = precision_score(y_test, y_pred)\n",
    "    print(\"Accuracy:\", accuracy)\n",
    "    print(\"F1 Score:\", f1)\n",
    "    print(\"Recall:\", recall)\n",
    "    print(\"Precision:\", precision)\n",
    "    print(pd.DataFrame(confusion_matrix(y_test, y_pred)))"
   ]
  },
  {
   "cell_type": "markdown",
   "id": "bcce5a26-cdc4-46a9-83d1-bf54813f34e4",
   "metadata": {},
   "source": [
    "## Evaluation neue Vectorize-Funktionen (08.12.)"
   ]
  },
  {
   "cell_type": "code",
   "execution_count": 3,
   "id": "e5d1b5ff-2a21-4fc2-80d0-0ab9d8cd8671",
   "metadata": {},
   "outputs": [],
   "source": [
    "%run ../../functions/vectorize_functions.py"
   ]
  },
  {
   "cell_type": "code",
   "execution_count": 4,
   "id": "512a7731-bbeb-4a1a-89f5-eb2b208d84c9",
   "metadata": {},
   "outputs": [],
   "source": [
    "filepath_name = (('../../../data/new_datasets/train_cleaned.csv'))\n",
    "df_cleaned = pd.read_csv(filepath_name, encoding='utf-8')"
   ]
  },
  {
   "cell_type": "code",
   "execution_count": 5,
   "id": "d73a06de-70e1-4076-907b-66d3205c5922",
   "metadata": {},
   "outputs": [],
   "source": [
    "X_train_tfidf, X_test_tfidf, y_train_tfidf, y_test_tfidf = vectorize_tfidf(df=df_cleaned, text_column='tweet_cleaned', \n",
    "                                                                                 label_column=\"label\")"
   ]
  },
  {
   "cell_type": "code",
   "execution_count": 6,
   "id": "2a198a29-26dc-4c6c-8155-b307c8bd7c16",
   "metadata": {},
   "outputs": [
    {
     "name": "stdout",
     "output_type": "stream",
     "text": [
      "(42879, 10992)\n",
      "(18378, 10992)\n",
      "(42879,)\n",
      "(18378,)\n",
      "<class 'scipy.sparse._csr.csr_matrix'>\n"
     ]
    }
   ],
   "source": [
    "print(X_train_tfidf.shape)\n",
    "print(X_test_tfidf.shape)\n",
    "print(y_train_tfidf.shape)\n",
    "print(y_test_tfidf.shape)\n",
    "print(type(X_train_tfidf))"
   ]
  },
  {
   "cell_type": "markdown",
   "id": "8fd28bfd-3511-4e24-be55-68d5dc363cfa",
   "metadata": {},
   "source": [
    "## Multinomial NB"
   ]
  },
  {
   "cell_type": "code",
   "execution_count": 7,
   "id": "d012c6c6-6df3-4d6d-acf6-c1a0456995f7",
   "metadata": {},
   "outputs": [],
   "source": [
    "clf_tfidf = MultinomialNB()\n",
    "clf_tfidf.fit(X_train_tfidf,y_train_tfidf)\n",
    "y_pred_tfidf = clf_tfidf.predict(X_test_tfidf)"
   ]
  },
  {
   "cell_type": "code",
   "execution_count": 8,
   "id": "9d37edd1-4623-4c6d-af74-07119a2e79ba",
   "metadata": {},
   "outputs": [
    {
     "name": "stdout",
     "output_type": "stream",
     "text": [
      "Accuracy: 0.8038959625639351\n",
      "F1 Score: 0.19804183355585223\n",
      "Recall: 0.11354937484052054\n",
      "Precision: 0.7739130434782608\n",
      "       0    1\n",
      "0  14329  130\n",
      "1   3474  445\n"
     ]
    }
   ],
   "source": [
    "evaluate(y_test_tfidf, y_pred_tfidf)"
   ]
  },
  {
   "cell_type": "code",
   "execution_count": 9,
   "id": "131f8528-a1a8-43a9-9bf5-f6ee57762b26",
   "metadata": {},
   "outputs": [
    {
     "name": "stdout",
     "output_type": "stream",
     "text": [
      "Fitting 3 folds for each of 42 candidates, totalling 126 fits\n",
      "             model         alpha  fit_prior   class_prior  train_accuracy  \\\n",
      "0   TF-IDF (Multi)  1.000000e-10       True          None        0.842044   \n",
      "1   TF-IDF (Multi)  1.000000e-10      False          None        0.788824   \n",
      "2   TF-IDF (Multi)  1.000000e-10       True  [0.25, 0.75]        0.551902   \n",
      "3   TF-IDF (Multi)  1.000000e-10      False  [0.25, 0.75]        0.551902   \n",
      "4   TF-IDF (Multi)  1.000000e-10       True    [0.5, 0.5]        0.788824   \n",
      "5   TF-IDF (Multi)  1.000000e-10      False    [0.5, 0.5]        0.788824   \n",
      "6   TF-IDF (Multi)  1.000000e-02       True          None        0.840994   \n",
      "7   TF-IDF (Multi)  1.000000e-02      False          None        0.787985   \n",
      "8   TF-IDF (Multi)  1.000000e-02       True  [0.25, 0.75]        0.535600   \n",
      "9   TF-IDF (Multi)  1.000000e-02      False  [0.25, 0.75]        0.535600   \n",
      "10  TF-IDF (Multi)  1.000000e-02       True    [0.5, 0.5]        0.787985   \n",
      "11  TF-IDF (Multi)  1.000000e-02      False    [0.5, 0.5]        0.787985   \n",
      "12  TF-IDF (Multi)  1.000000e-01       True          None        0.837963   \n",
      "13  TF-IDF (Multi)  1.000000e-01      False          None        0.785699   \n",
      "14  TF-IDF (Multi)  1.000000e-01       True  [0.25, 0.75]        0.482031   \n",
      "15  TF-IDF (Multi)  1.000000e-01      False  [0.25, 0.75]        0.482031   \n",
      "16  TF-IDF (Multi)  1.000000e-01       True    [0.5, 0.5]        0.785699   \n",
      "17  TF-IDF (Multi)  1.000000e-01      False    [0.5, 0.5]        0.785699   \n",
      "18  TF-IDF (Multi)  2.500000e-01       True          None        0.832785   \n",
      "19  TF-IDF (Multi)  2.500000e-01      False          None        0.785256   \n",
      "20  TF-IDF (Multi)  2.500000e-01       True  [0.25, 0.75]        0.436671   \n",
      "21  TF-IDF (Multi)  2.500000e-01      False  [0.25, 0.75]        0.436671   \n",
      "22  TF-IDF (Multi)  2.500000e-01       True    [0.5, 0.5]        0.785256   \n",
      "23  TF-IDF (Multi)  2.500000e-01      False    [0.5, 0.5]        0.785256   \n",
      "24  TF-IDF (Multi)  5.000000e-01       True          None        0.824460   \n",
      "25  TF-IDF (Multi)  5.000000e-01      False          None        0.787075   \n",
      "26  TF-IDF (Multi)  5.000000e-01       True  [0.25, 0.75]        0.401875   \n",
      "27  TF-IDF (Multi)  5.000000e-01      False  [0.25, 0.75]        0.401875   \n",
      "28  TF-IDF (Multi)  5.000000e-01       True    [0.5, 0.5]        0.787075   \n",
      "29  TF-IDF (Multi)  5.000000e-01      False    [0.5, 0.5]        0.787075   \n",
      "30  TF-IDF (Multi)  7.500000e-01       True          None        0.818303   \n",
      "31  TF-IDF (Multi)  7.500000e-01      False          None        0.790830   \n",
      "32  TF-IDF (Multi)  7.500000e-01       True  [0.25, 0.75]        0.391590   \n",
      "33  TF-IDF (Multi)  7.500000e-01      False  [0.25, 0.75]        0.391590   \n",
      "34  TF-IDF (Multi)  7.500000e-01       True    [0.5, 0.5]        0.790830   \n",
      "35  TF-IDF (Multi)  7.500000e-01      False    [0.5, 0.5]        0.790830   \n",
      "36  TF-IDF (Multi)  1.000000e+00       True          None        0.813079   \n",
      "37  TF-IDF (Multi)  1.000000e+00      False          None        0.795728   \n",
      "38  TF-IDF (Multi)  1.000000e+00       True  [0.25, 0.75]        0.391101   \n",
      "39  TF-IDF (Multi)  1.000000e+00      False  [0.25, 0.75]        0.391101   \n",
      "40  TF-IDF (Multi)  1.000000e+00       True    [0.5, 0.5]        0.795728   \n",
      "41  TF-IDF (Multi)  1.000000e+00      False    [0.5, 0.5]        0.795728   \n",
      "\n",
      "    train_recall  train_precision  train_f1  test_accuracy  test_recall  \\\n",
      "0       0.317944         0.851560  0.463014       0.804984     0.203623   \n",
      "1       0.852896         0.504151  0.633712       0.710306     0.620056   \n",
      "2       0.991398         0.322415  0.486586       0.488573     0.780301   \n",
      "3       0.991398         0.322415  0.486586       0.488573     0.780301   \n",
      "4       0.852896         0.504151  0.633712       0.710306     0.620056   \n",
      "5       0.852896         0.504151  0.633712       0.710306     0.620056   \n",
      "6       0.312827         0.850000  0.457338       0.806780     0.204389   \n",
      "7       0.852134         0.502989  0.632583       0.712537     0.636387   \n",
      "8       0.991398         0.314627  0.477664       0.482860     0.857362   \n",
      "9       0.991398         0.314627  0.477664       0.482860     0.857362   \n",
      "10      0.852134         0.502989  0.632583       0.712537     0.636387   \n",
      "11      0.852134         0.502989  0.632583       0.712537     0.636387   \n",
      "12      0.292683         0.856051  0.436222       0.808031     0.196734   \n",
      "13      0.844512         0.499839  0.627991       0.716074     0.676703   \n",
      "14      0.991616         0.291517  0.450574       0.435085     0.936974   \n",
      "15      0.991616         0.291517  0.450574       0.435085     0.936974   \n",
      "16      0.844512         0.499839  0.627991       0.716074     0.676703   \n",
      "17      0.844512         0.499839  0.627991       0.716074     0.676703   \n",
      "18      0.261760         0.860415  0.401403       0.809120     0.182955   \n",
      "19      0.826546         0.499211  0.622468       0.716400     0.687675   \n",
      "20      0.992378         0.274526  0.430078       0.396724     0.964532   \n",
      "21      0.992378         0.274526  0.430078       0.396724     0.964532   \n",
      "22      0.826546         0.499211  0.622468       0.716400     0.687675   \n",
      "23      0.826546         0.499211  0.622468       0.716400     0.687675   \n",
      "24      0.212979         0.867406  0.341988       0.807759     0.156928   \n",
      "25      0.794425         0.501857  0.615125       0.720916     0.672365   \n",
      "26      0.990854         0.262528  0.415080       0.371640     0.974228   \n",
      "27      0.990854         0.262528  0.415080       0.371640     0.974228   \n",
      "28      0.794425         0.501857  0.615125       0.720916     0.672365   \n",
      "29      0.794425         0.501857  0.615125       0.720916     0.672365   \n",
      "30      0.176503         0.876690  0.293846       0.805420     0.131156   \n",
      "31      0.757622         0.507846  0.608084       0.727881     0.650166   \n",
      "32      0.989220         0.259024  0.410547       0.363750     0.975504   \n",
      "33      0.989220         0.259024  0.410547       0.363750     0.975504   \n",
      "34      0.757622         0.507846  0.608084       0.727881     0.650166   \n",
      "35      0.757622         0.507846  0.608084       0.727881     0.650166   \n",
      "36      0.145797         0.887343  0.250444       0.803896     0.113549   \n",
      "37      0.722343         0.516546  0.602352       0.734683     0.624649   \n",
      "38      0.987152         0.258607  0.409846       0.364893     0.972442   \n",
      "39      0.987152         0.258607  0.409846       0.364893     0.972442   \n",
      "40      0.722343         0.516546  0.602352       0.734683     0.624649   \n",
      "41      0.722343         0.516546  0.602352       0.734683     0.624649   \n",
      "\n",
      "    test_precision   test_f1  \n",
      "0         0.632831  0.308108  \n",
      "1         0.387869  0.477219  \n",
      "2         0.263712  0.394199  \n",
      "3         0.263712  0.394199  \n",
      "4         0.387869  0.477219  \n",
      "5         0.387869  0.477219  \n",
      "6         0.649109  0.310887  \n",
      "7         0.392632  0.485639  \n",
      "8         0.273060  0.414201  \n",
      "9         0.273060  0.414201  \n",
      "10        0.392632  0.485639  \n",
      "11        0.392632  0.485639  \n",
      "12        0.669852  0.304142  \n",
      "13        0.401636  0.504087  \n",
      "14        0.265952  0.414307  \n",
      "15        0.265952  0.414307  \n",
      "16        0.401636  0.504087  \n",
      "17        0.401636  0.504087  \n",
      "18        0.700880  0.290166  \n",
      "19        0.403262  0.508395  \n",
      "20        0.256654  0.405427  \n",
      "21        0.256654  0.405427  \n",
      "22        0.403262  0.508395  \n",
      "23        0.403262  0.508395  \n",
      "24        0.728673  0.258241  \n",
      "25        0.406636  0.506779  \n",
      "26        0.250115  0.398040  \n",
      "27        0.250115  0.398040  \n",
      "28        0.406636  0.506779  \n",
      "29        0.406636  0.506779  \n",
      "30        0.750365  0.223284  \n",
      "31        0.412431  0.504704  \n",
      "32        0.247925  0.395367  \n",
      "33        0.247925  0.395367  \n",
      "34        0.412431  0.504704  \n",
      "35        0.412431  0.504704  \n",
      "36        0.773913  0.198042  \n",
      "37        0.418247  0.501023  \n",
      "38        0.247870  0.395045  \n",
      "39        0.247870  0.395045  \n",
      "40        0.418247  0.501023  \n",
      "41        0.418247  0.501023  \n"
     ]
    }
   ],
   "source": [
    "results_list = []\n",
    "\n",
    "param_grid = {\n",
    "    'alpha' : [1.0e-10, 0.01, 0.1, 0.25, 0.5, 0.75, 1],\n",
    "    'fit_prior' : [True, False],\n",
    "    'class_prior' : [None, [.25,.75], [.5,.5]]\n",
    "}\n",
    "\n",
    "nb = MultinomialNB()\n",
    "\n",
    "grid_search = GridSearchCV(estimator=nb, param_grid=param_grid, scoring='f1', cv=3, verbose=2, n_jobs=-1)\n",
    "\n",
    "grid_search.fit(X_train_tfidf, y_train_tfidf)\n",
    "\n",
    "for params in grid_search.cv_results_['params']:\n",
    "    model = MultinomialNB(**params)  \n",
    "    model.fit(X_train_tfidf, y_train_tfidf)  \n",
    "\n",
    "    y_train_pred_tfidf = model.predict(X_train_tfidf)\n",
    "\n",
    "    y_test_pred_tfidf = model.predict(X_test_tfidf)\n",
    "\n",
    "    train_accuracy = accuracy_score(y_train_tfidf, y_train_pred_tfidf)\n",
    "    train_recall = recall_score(y_train_tfidf, y_train_pred_tfidf)\n",
    "    train_precision = precision_score(y_train_tfidf, y_train_pred_tfidf)\n",
    "    train_f1 = f1_score(y_train_tfidf, y_train_pred_tfidf)\n",
    "\n",
    "    test_accuracy = accuracy_score(y_test_tfidf, y_test_pred_tfidf)\n",
    "    test_recall = recall_score(y_test_tfidf, y_test_pred_tfidf)\n",
    "    test_precision = precision_score(y_test_tfidf, y_test_pred_tfidf)\n",
    "    test_f1 = f1_score(y_test_tfidf, y_test_pred_tfidf)\n",
    "\n",
    "    result_dict = {\n",
    "        'model': 'TF-IDF (Multi)',\n",
    "        'alpha': params['alpha'],\n",
    "        'fit_prior': params['fit_prior'],\n",
    "        'class_prior': params['class_prior'],\n",
    "        'train_accuracy': train_accuracy,\n",
    "        'train_recall': train_recall,\n",
    "        'train_precision': train_precision,\n",
    "        'train_f1': train_f1,\n",
    "        'test_accuracy': test_accuracy,\n",
    "        'test_recall': test_recall,\n",
    "        'test_precision': test_precision,\n",
    "        'test_f1': test_f1\n",
    "    }\n",
    "\n",
    "    results_list.append(result_dict)\n",
    "\n",
    "results_df = pd.DataFrame(results_list)\n",
    "\n",
    "results_df.to_csv('eval_data/nb_grid_tfidf_new_dataset.csv', index=False)\n",
    "\n",
    "print(results_df)\n"
   ]
  },
  {
   "cell_type": "markdown",
   "id": "495f61b1-a933-437e-850c-ff66dbac60af",
   "metadata": {},
   "source": [
    "## Complement NB"
   ]
  },
  {
   "cell_type": "code",
   "execution_count": 10,
   "id": "713516c3-e398-4220-829f-c035d2d4ccdd",
   "metadata": {},
   "outputs": [],
   "source": [
    "clf_tfidf_comp = ComplementNB()\n",
    "clf_tfidf_comp.fit(X_train_tfidf,y_train_tfidf)\n",
    "y_pred_tfidf_comp = clf_tfidf_comp.predict(X_test_tfidf)"
   ]
  },
  {
   "cell_type": "code",
   "execution_count": 11,
   "id": "d04fa54a-f46a-4b92-9bc8-c2a0733b3077",
   "metadata": {},
   "outputs": [
    {
     "name": "stdout",
     "output_type": "stream",
     "text": [
      "Accuracy: 0.7346827728806181\n",
      "F1 Score: 0.5010233319688908\n",
      "Recall: 0.6246491451900995\n",
      "Precision: 0.41824705279343927\n",
      "       0     1\n",
      "0  11054  3405\n",
      "1   1471  2448\n"
     ]
    }
   ],
   "source": [
    "evaluate(y_test_tfidf, y_pred_tfidf_comp)"
   ]
  },
  {
   "cell_type": "code",
   "execution_count": 12,
   "id": "74bd8c26-a5fe-4095-b832-d3264c8f73b5",
   "metadata": {},
   "outputs": [
    {
     "name": "stdout",
     "output_type": "stream",
     "text": [
      "Fitting 3 folds for each of 14 candidates, totalling 42 fits\n",
      "            model         alpha   norm  train_accuracy  train_recall  \\\n",
      "0   TF-IDF (Comp)  1.000000e-10   True        0.320507      0.999891   \n",
      "1   TF-IDF (Comp)  1.000000e-10  False        0.788824      0.852896   \n",
      "2   TF-IDF (Comp)  1.000000e-02   True        0.421278      0.997931   \n",
      "3   TF-IDF (Comp)  1.000000e-02  False        0.787985      0.852134   \n",
      "4   TF-IDF (Comp)  1.000000e-01   True        0.652650      0.957099   \n",
      "5   TF-IDF (Comp)  1.000000e-01  False        0.785699      0.844512   \n",
      "6   TF-IDF (Comp)  2.500000e-01   True        0.778213      0.840592   \n",
      "7   TF-IDF (Comp)  2.500000e-01  False        0.785256      0.826546   \n",
      "8   TF-IDF (Comp)  5.000000e-01   True        0.829497      0.663001   \n",
      "9   TF-IDF (Comp)  5.000000e-01  False        0.787075      0.794425   \n",
      "10  TF-IDF (Comp)  7.500000e-01   True        0.836330      0.538981   \n",
      "11  TF-IDF (Comp)  7.500000e-01  False        0.790830      0.757622   \n",
      "12  TF-IDF (Comp)  1.000000e+00   True        0.833695      0.450675   \n",
      "13  TF-IDF (Comp)  1.000000e+00  False        0.795728      0.722343   \n",
      "\n",
      "    train_precision  train_f1  test_accuracy  test_recall  test_precision  \\\n",
      "0          0.239652  0.386636       0.298781     0.948201        0.226585   \n",
      "1          0.504151  0.633712       0.710306     0.620056        0.387869   \n",
      "2          0.269868  0.424846       0.380618     0.935698        0.247804   \n",
      "3          0.502989  0.632583       0.712537     0.636387        0.392632   \n",
      "4          0.377415  0.541356       0.587605     0.848176        0.322468   \n",
      "5          0.499839  0.627991       0.716074     0.676703        0.401636   \n",
      "6          0.489661  0.618838       0.708891     0.703241        0.396947   \n",
      "7          0.499211  0.622468       0.716400     0.687675        0.403262   \n",
      "8          0.590878  0.624865       0.771303     0.539423        0.468528   \n",
      "9          0.501857  0.615125       0.720916     0.672365        0.406636   \n",
      "10         0.640031  0.585176       0.791272     0.439908        0.512333   \n",
      "11         0.507846  0.608084       0.727881     0.650166        0.412431   \n",
      "12         0.664900  0.537219       0.797911     0.371013        0.537921   \n",
      "13         0.516546  0.602352       0.734683     0.624649        0.418247   \n",
      "\n",
      "     test_f1  \n",
      "0   0.365766  \n",
      "1   0.477219  \n",
      "2   0.391836  \n",
      "3   0.485639  \n",
      "4   0.467281  \n",
      "5   0.504087  \n",
      "6   0.507457  \n",
      "7   0.508395  \n",
      "8   0.501483  \n",
      "9   0.506779  \n",
      "10  0.473366  \n",
      "11  0.504704  \n",
      "12  0.439142  \n",
      "13  0.501023  \n"
     ]
    }
   ],
   "source": [
    "results_list = []\n",
    "\n",
    "param_grid = {\n",
    "    'alpha' : [1.0e-10, 0.01, 0.1, 0.25, 0.5, 0.75, 1],\n",
    "    'norm' : [True, False]\n",
    "}\n",
    "\n",
    "cnb = ComplementNB()\n",
    "\n",
    "grid_search = GridSearchCV(estimator=cnb, param_grid=param_grid, scoring='f1', cv=3, verbose=2, n_jobs=-1)\n",
    "\n",
    "grid_search.fit(X_train_tfidf, y_train_tfidf)\n",
    "\n",
    "for params in grid_search.cv_results_['params']:\n",
    "    model = ComplementNB(**params)  \n",
    "    model.fit(X_train_tfidf, y_train_tfidf)  \n",
    "\n",
    "    y_train_pred_tfidf = model.predict(X_train_tfidf)\n",
    "\n",
    "    y_test_pred_tfidf = model.predict(X_test_tfidf)\n",
    "\n",
    "    train_accuracy = accuracy_score(y_train_tfidf, y_train_pred_tfidf)\n",
    "    train_recall = recall_score(y_train_tfidf, y_train_pred_tfidf)\n",
    "    train_precision = precision_score(y_train_tfidf, y_train_pred_tfidf)\n",
    "    train_f1 = f1_score(y_train_tfidf, y_train_pred_tfidf)\n",
    "\n",
    "    test_accuracy = accuracy_score(y_test_tfidf, y_test_pred_tfidf)\n",
    "    test_recall = recall_score(y_test_tfidf, y_test_pred_tfidf)\n",
    "    test_precision = precision_score(y_test_tfidf, y_test_pred_tfidf)\n",
    "    test_f1 = f1_score(y_test_tfidf, y_test_pred_tfidf)\n",
    "\n",
    "    result_dict = {\n",
    "        'model': 'TF-IDF (Comp)',\n",
    "        'alpha': params['alpha'],\n",
    "        'norm': params['norm'],\n",
    "        'train_accuracy': train_accuracy,\n",
    "        'train_recall': train_recall,\n",
    "        'train_precision': train_precision,\n",
    "        'train_f1': train_f1,\n",
    "        'test_accuracy': test_accuracy,\n",
    "        'test_recall': test_recall,\n",
    "        'test_precision': test_precision,\n",
    "        'test_f1': test_f1\n",
    "    }\n",
    "\n",
    "    results_list.append(result_dict)\n",
    "\n",
    "results_df = pd.DataFrame(results_list)\n",
    "\n",
    "results_df.to_csv('eval_data/cnb_grid_tfidf_new_dataset.csv', index=False)\n",
    "\n",
    "print(results_df)\n"
   ]
  },
  {
   "cell_type": "code",
   "execution_count": 26,
   "id": "9cc543d8-70d3-4d6f-b36a-aeeb8c23559f",
   "metadata": {},
   "outputs": [],
   "source": [
    "# Save NB TFIDF Comp\n",
    "\n",
    "import pickle\n",
    "\n",
    "# save\n",
    "with open('saved_models/model_nb_tfidf_comp.pkl','wb') as f:\n",
    "    pickle.dump(clf_tfidf_comp,f)"
   ]
  },
  {
   "cell_type": "code",
   "execution_count": 29,
   "id": "2f2529bf-62b2-40d1-a13f-6b9da004766d",
   "metadata": {},
   "outputs": [],
   "source": [
    "# Test load\n",
    "with open('saved_models/model_nb_tfidf_comp.pkl', 'rb') as f:\n",
    "    clf_test = pickle.load(f)"
   ]
  },
  {
   "cell_type": "code",
   "execution_count": 30,
   "id": "5f7a31a6-d39e-4682-91e1-327f52d2fc31",
   "metadata": {},
   "outputs": [
    {
     "data": {
      "text/plain": [
       "array([0, 0, 0, ..., 1, 0, 1], dtype=int64)"
      ]
     },
     "execution_count": 30,
     "metadata": {},
     "output_type": "execute_result"
    }
   ],
   "source": [
    "clf_test.predict(X_test_tfidf)"
   ]
  }
 ],
 "metadata": {
  "kernelspec": {
   "display_name": "Python 3 (ipykernel)",
   "language": "python",
   "name": "python3"
  },
  "language_info": {
   "codemirror_mode": {
    "name": "ipython",
    "version": 3
   },
   "file_extension": ".py",
   "mimetype": "text/x-python",
   "name": "python",
   "nbconvert_exporter": "python",
   "pygments_lexer": "ipython3",
   "version": "3.9.20"
  }
 },
 "nbformat": 4,
 "nbformat_minor": 5
}
