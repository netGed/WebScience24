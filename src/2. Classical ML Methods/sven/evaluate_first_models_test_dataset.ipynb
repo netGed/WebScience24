{
 "cells": [
  {
   "cell_type": "code",
   "execution_count": 26,
   "id": "36da33c5-5779-4ea9-855d-d62ff181d386",
   "metadata": {},
   "outputs": [],
   "source": [
    "import pandas as pd\n",
    "import joblib\n",
    "import numpy as np\n",
    "from nltk import word_tokenize\n",
    "from sklearn.metrics import (\n",
    "    accuracy_score,\n",
    "    confusion_matrix,\n",
    "    ConfusionMatrixDisplay,\n",
    "    f1_score,\n",
    "    recall_score,\n",
    "    precision_score,\n",
    "    classification_report,\n",
    "    matthews_corrcoef, \n",
    ")"
   ]
  },
  {
   "cell_type": "code",
   "execution_count": 16,
   "id": "be5e89dd-044d-436e-8ef0-8726143a50ab",
   "metadata": {},
   "outputs": [],
   "source": [
    "def evaluate(y_test,y_pred):\n",
    "    accuracy = accuracy_score(y_test, y_pred)\n",
    "    f1 = f1_score(y_test, y_pred)\n",
    "    recall = recall_score(y_test, y_pred)\n",
    "    precision = precision_score(y_test, y_pred)\n",
    "    mcc = matthews_corrcoef(y_test, y_pred)\n",
    "    print(\"F1 Score:\", f1)\n",
    "    print(\"Recall:\", recall)\n",
    "    print(\"Precision:\", precision)\n",
    "    print(\"Accuracy:\", accuracy)\n",
    "    print(\"MCC:\", mcc)\n",
    "    print(\"\\n\")\n",
    "    print(\"Confusion Matrix\")\n",
    "    print(pd.DataFrame(confusion_matrix(y_test, y_pred)))\n",
    "    print(\"\\n\")\n",
    "    print(\"Classification Report\")\n",
    "    print(classification_report(y_test, y_pred))"
   ]
  },
  {
   "cell_type": "code",
   "execution_count": 2,
   "id": "6109ffb6-7832-4a1f-bfbe-9363bb889b5c",
   "metadata": {},
   "outputs": [],
   "source": [
    "filepath_name_test = (('../../../data/mixed_dataset/test_cleaned.csv'))\n",
    "df_test = pd.read_csv(filepath_name_test, encoding ='utf-8')"
   ]
  },
  {
   "cell_type": "code",
   "execution_count": 3,
   "id": "96605cf3-0dd5-46fc-a527-4a576c9116cd",
   "metadata": {},
   "outputs": [],
   "source": [
    "df_test = df_test[df_test['tweet_cleaned'].notna()]"
   ]
  },
  {
   "cell_type": "markdown",
   "id": "dd3c742d-d6ea-47cf-8a33-978aea552251",
   "metadata": {},
   "source": [
    "# TF-IDF"
   ]
  },
  {
   "cell_type": "code",
   "execution_count": 6,
   "id": "d820988a-3f0f-4524-b262-f429fbbdbc00",
   "metadata": {},
   "outputs": [],
   "source": [
    "vectorizer_tfidf = joblib.load('used_models_test_dataset/first_dataset/vectorizer_tfidf.joblib')"
   ]
  },
  {
   "cell_type": "code",
   "execution_count": 7,
   "id": "c7293221-b81d-4a94-853a-1dded8bbe8be",
   "metadata": {},
   "outputs": [],
   "source": [
    "x_test_tfidf = vectorizer_tfidf.transform(df_test['tweet_cleaned'])"
   ]
  },
  {
   "cell_type": "code",
   "execution_count": 9,
   "id": "49792e47-9014-4666-b654-2e10438e9803",
   "metadata": {},
   "outputs": [
    {
     "name": "stdout",
     "output_type": "stream",
     "text": [
      "(32466, 15658)\n"
     ]
    }
   ],
   "source": [
    "print(x_test_tfidf.shape)"
   ]
  },
  {
   "cell_type": "code",
   "execution_count": 10,
   "id": "858eebba-2576-4c3b-a5d8-cb84c0a6d529",
   "metadata": {},
   "outputs": [],
   "source": [
    "y_test = df_test['label']"
   ]
  },
  {
   "cell_type": "code",
   "execution_count": 12,
   "id": "2df19fe4-6b21-4cbf-94fd-03fafe37c237",
   "metadata": {},
   "outputs": [],
   "source": [
    "clf_tfidf = joblib.load('used_models_test_dataset/first_dataset/model_tfidf_mn.joblib')"
   ]
  },
  {
   "cell_type": "code",
   "execution_count": 13,
   "id": "181d80c6-5028-4178-a5b1-966a8d40d22f",
   "metadata": {},
   "outputs": [],
   "source": [
    "y_pred_tfidf = clf_tfidf.predict(x_test_tfidf)"
   ]
  },
  {
   "cell_type": "code",
   "execution_count": 17,
   "id": "5a908f38-d495-4bcd-a351-46910576b2cb",
   "metadata": {},
   "outputs": [
    {
     "name": "stdout",
     "output_type": "stream",
     "text": [
      "F1 Score: 0.3245067116555417\n",
      "Recall: 0.323439099283521\n",
      "Precision: 0.32558139534883723\n",
      "Accuracy: 0.7163494116922319\n",
      "MCC: 0.14499428292891944\n",
      "\n",
      "\n",
      "Confusion Matrix\n",
      "       0     1\n",
      "0  21045  4582\n",
      "1   4627  2212\n",
      "\n",
      "\n",
      "Classification Report\n",
      "              precision    recall  f1-score   support\n",
      "\n",
      "           0       0.82      0.82      0.82     25627\n",
      "           1       0.33      0.32      0.32      6839\n",
      "\n",
      "    accuracy                           0.72     32466\n",
      "   macro avg       0.57      0.57      0.57     32466\n",
      "weighted avg       0.72      0.72      0.72     32466\n",
      "\n"
     ]
    }
   ],
   "source": [
    "evaluate(y_test, y_pred_tfidf)"
   ]
  },
  {
   "cell_type": "code",
   "execution_count": 18,
   "id": "1389e463-1fa2-44b3-9d41-392765126f6b",
   "metadata": {},
   "outputs": [],
   "source": [
    "# Save Confusionmatrix\n",
    "confusion_matrix_tfidf_df = pd.DataFrame(confusion_matrix(y_test, y_pred_tfidf))"
   ]
  },
  {
   "cell_type": "code",
   "execution_count": 19,
   "id": "fa2f1287-283f-4743-9c93-aae8ff37ef1b",
   "metadata": {},
   "outputs": [
    {
     "data": {
      "text/html": [
       "<div>\n",
       "<style scoped>\n",
       "    .dataframe tbody tr th:only-of-type {\n",
       "        vertical-align: middle;\n",
       "    }\n",
       "\n",
       "    .dataframe tbody tr th {\n",
       "        vertical-align: top;\n",
       "    }\n",
       "\n",
       "    .dataframe thead th {\n",
       "        text-align: right;\n",
       "    }\n",
       "</style>\n",
       "<table border=\"1\" class=\"dataframe\">\n",
       "  <thead>\n",
       "    <tr style=\"text-align: right;\">\n",
       "      <th></th>\n",
       "      <th>0</th>\n",
       "      <th>1</th>\n",
       "    </tr>\n",
       "  </thead>\n",
       "  <tbody>\n",
       "    <tr>\n",
       "      <th>0</th>\n",
       "      <td>21045</td>\n",
       "      <td>4582</td>\n",
       "    </tr>\n",
       "    <tr>\n",
       "      <th>1</th>\n",
       "      <td>4627</td>\n",
       "      <td>2212</td>\n",
       "    </tr>\n",
       "  </tbody>\n",
       "</table>\n",
       "</div>"
      ],
      "text/plain": [
       "       0     1\n",
       "0  21045  4582\n",
       "1   4627  2212"
      ]
     },
     "execution_count": 19,
     "metadata": {},
     "output_type": "execute_result"
    }
   ],
   "source": [
    "confusion_matrix_tfidf_df"
   ]
  },
  {
   "cell_type": "code",
   "execution_count": 21,
   "id": "ff316133-81ae-4af2-8a08-5a5cd34c9285",
   "metadata": {},
   "outputs": [],
   "source": [
    "confusion_matrix_tfidf_df.to_csv(\"evaluation_test_dataset/nb_mn_tfidf_confusion_matrix.csv\", index=True)"
   ]
  },
  {
   "cell_type": "code",
   "execution_count": 22,
   "id": "7b067389-fabe-4d97-8919-cb974afac322",
   "metadata": {},
   "outputs": [],
   "source": [
    "# Save Classificationreport\n",
    "classification_report_tfidf_df = pd.DataFrame(classification_report(y_test, y_pred_tfidf, output_dict=True)).transpose()"
   ]
  },
  {
   "cell_type": "code",
   "execution_count": 24,
   "id": "034f7f55-8c5e-4f11-8c10-fb5a43138221",
   "metadata": {},
   "outputs": [
    {
     "data": {
      "text/html": [
       "<div>\n",
       "<style scoped>\n",
       "    .dataframe tbody tr th:only-of-type {\n",
       "        vertical-align: middle;\n",
       "    }\n",
       "\n",
       "    .dataframe tbody tr th {\n",
       "        vertical-align: top;\n",
       "    }\n",
       "\n",
       "    .dataframe thead th {\n",
       "        text-align: right;\n",
       "    }\n",
       "</style>\n",
       "<table border=\"1\" class=\"dataframe\">\n",
       "  <thead>\n",
       "    <tr style=\"text-align: right;\">\n",
       "      <th></th>\n",
       "      <th>precision</th>\n",
       "      <th>recall</th>\n",
       "      <th>f1-score</th>\n",
       "      <th>support</th>\n",
       "    </tr>\n",
       "  </thead>\n",
       "  <tbody>\n",
       "    <tr>\n",
       "      <th>0</th>\n",
       "      <td>0.819765</td>\n",
       "      <td>0.821204</td>\n",
       "      <td>0.820484</td>\n",
       "      <td>25627.000000</td>\n",
       "    </tr>\n",
       "    <tr>\n",
       "      <th>1</th>\n",
       "      <td>0.325581</td>\n",
       "      <td>0.323439</td>\n",
       "      <td>0.324507</td>\n",
       "      <td>6839.000000</td>\n",
       "    </tr>\n",
       "    <tr>\n",
       "      <th>accuracy</th>\n",
       "      <td>0.716349</td>\n",
       "      <td>0.716349</td>\n",
       "      <td>0.716349</td>\n",
       "      <td>0.716349</td>\n",
       "    </tr>\n",
       "    <tr>\n",
       "      <th>macro avg</th>\n",
       "      <td>0.572673</td>\n",
       "      <td>0.572322</td>\n",
       "      <td>0.572495</td>\n",
       "      <td>32466.000000</td>\n",
       "    </tr>\n",
       "    <tr>\n",
       "      <th>weighted avg</th>\n",
       "      <td>0.715664</td>\n",
       "      <td>0.716349</td>\n",
       "      <td>0.716006</td>\n",
       "      <td>32466.000000</td>\n",
       "    </tr>\n",
       "  </tbody>\n",
       "</table>\n",
       "</div>"
      ],
      "text/plain": [
       "              precision    recall  f1-score       support\n",
       "0              0.819765  0.821204  0.820484  25627.000000\n",
       "1              0.325581  0.323439  0.324507   6839.000000\n",
       "accuracy       0.716349  0.716349  0.716349      0.716349\n",
       "macro avg      0.572673  0.572322  0.572495  32466.000000\n",
       "weighted avg   0.715664  0.716349  0.716006  32466.000000"
      ]
     },
     "execution_count": 24,
     "metadata": {},
     "output_type": "execute_result"
    }
   ],
   "source": [
    "classification_report_tfidf_df"
   ]
  },
  {
   "cell_type": "code",
   "execution_count": 25,
   "id": "f07c3cb5-d96c-4a1d-b509-30adc86b40b3",
   "metadata": {},
   "outputs": [],
   "source": [
    "classification_report_tfidf_df.to_csv(\"evaluation_test_dataset/nb_mn_tfidf_classification_report.csv\", index=True)"
   ]
  },
  {
   "cell_type": "markdown",
   "id": "03c063de-170f-485e-9dc4-5df709963a1f",
   "metadata": {},
   "source": [
    "# W2V"
   ]
  },
  {
   "cell_type": "code",
   "execution_count": 27,
   "id": "633e4347-be09-4062-b858-b8b5a176cbe1",
   "metadata": {},
   "outputs": [],
   "source": [
    "vectorizer_w2v = joblib.load('used_models_test_dataset/first_dataset/vectorizer_w2v_param.joblib')"
   ]
  },
  {
   "cell_type": "code",
   "execution_count": 32,
   "id": "9a7e3639-5fff-45ae-b6f4-35198b5681d6",
   "metadata": {},
   "outputs": [],
   "source": [
    "def vectorize_w2v(tweets, loaded_vectorizer, vector_size=10):\n",
    "    \n",
    "    x_tokenized = tweets.map(word_tokenize)    \n",
    "\n",
    "    def w2v_vector(x_tokenized, vector_size):\n",
    "            vec = np.zeros(vector_size).reshape((1, vector_size))\n",
    "            count = 0\n",
    "            for word in x_tokenized:\n",
    "                try:\n",
    "                    vec += loaded_vectorizer.wv[word].reshape((1, vector_size))\n",
    "                    count += 1\n",
    "                except KeyError:\n",
    "\n",
    "                    continue\n",
    "            if count != 0:\n",
    "                vec /= count\n",
    "            return vec\n",
    "        \n",
    "    tweets_w2v = np.zeros((len(x_tokenized), 10))\n",
    "    for i in range(len(x_tokenized)):\n",
    "        tweets_w2v[i, :] = w2v_vector(x_tokenized.iloc[i], 10)\n",
    "\n",
    "    return tweets_w2v"
   ]
  },
  {
   "cell_type": "code",
   "execution_count": 33,
   "id": "18cee138-d01c-48b6-ab5e-786cd734b98d",
   "metadata": {},
   "outputs": [],
   "source": [
    "x_test_w2v = vectorize_w2v(df_test['tweet_cleaned'], vectorizer_w2v)"
   ]
  },
  {
   "cell_type": "code",
   "execution_count": 29,
   "id": "f69867c7-b6f6-4988-903f-f1f001f5621a",
   "metadata": {},
   "outputs": [],
   "source": [
    "clf_w2v = joblib.load('used_models_test_dataset/first_dataset/model_nb_w2v_param.joblib')"
   ]
  },
  {
   "cell_type": "code",
   "execution_count": 34,
   "id": "b5dfc715-e85d-4b82-884e-62925d58c489",
   "metadata": {},
   "outputs": [],
   "source": [
    "y_pred_w2v = clf_w2v.predict(x_test_w2v)"
   ]
  },
  {
   "cell_type": "code",
   "execution_count": 35,
   "id": "d1da3b4c-4f0b-44bb-90d0-b587eef30d08",
   "metadata": {},
   "outputs": [
    {
     "name": "stdout",
     "output_type": "stream",
     "text": [
      "F1 Score: 0.29746464185622107\n",
      "Recall: 0.3336745138178096\n",
      "Precision: 0.2683443085606773\n",
      "Accuracy: 0.6679911291812973\n",
      "MCC: 0.08428650826837117\n",
      "\n",
      "\n",
      "Confusion Matrix\n",
      "       0     1\n",
      "0  19405  6222\n",
      "1   4557  2282\n",
      "\n",
      "\n",
      "Classification Report\n",
      "              precision    recall  f1-score   support\n",
      "\n",
      "           0       0.81      0.76      0.78     25627\n",
      "           1       0.27      0.33      0.30      6839\n",
      "\n",
      "    accuracy                           0.67     32466\n",
      "   macro avg       0.54      0.55      0.54     32466\n",
      "weighted avg       0.70      0.67      0.68     32466\n",
      "\n"
     ]
    }
   ],
   "source": [
    "evaluate(y_test, y_pred_w2v)"
   ]
  },
  {
   "cell_type": "code",
   "execution_count": 36,
   "id": "59e1d573-5ba3-4720-8c1b-02ff4100ad8e",
   "metadata": {},
   "outputs": [],
   "source": [
    "confusion_matrix_w2v_df = pd.DataFrame(confusion_matrix(y_test, y_pred_w2v))"
   ]
  },
  {
   "cell_type": "code",
   "execution_count": 37,
   "id": "3942c06d-83d3-4893-9881-d79296284d17",
   "metadata": {},
   "outputs": [
    {
     "data": {
      "text/html": [
       "<div>\n",
       "<style scoped>\n",
       "    .dataframe tbody tr th:only-of-type {\n",
       "        vertical-align: middle;\n",
       "    }\n",
       "\n",
       "    .dataframe tbody tr th {\n",
       "        vertical-align: top;\n",
       "    }\n",
       "\n",
       "    .dataframe thead th {\n",
       "        text-align: right;\n",
       "    }\n",
       "</style>\n",
       "<table border=\"1\" class=\"dataframe\">\n",
       "  <thead>\n",
       "    <tr style=\"text-align: right;\">\n",
       "      <th></th>\n",
       "      <th>0</th>\n",
       "      <th>1</th>\n",
       "    </tr>\n",
       "  </thead>\n",
       "  <tbody>\n",
       "    <tr>\n",
       "      <th>0</th>\n",
       "      <td>19405</td>\n",
       "      <td>6222</td>\n",
       "    </tr>\n",
       "    <tr>\n",
       "      <th>1</th>\n",
       "      <td>4557</td>\n",
       "      <td>2282</td>\n",
       "    </tr>\n",
       "  </tbody>\n",
       "</table>\n",
       "</div>"
      ],
      "text/plain": [
       "       0     1\n",
       "0  19405  6222\n",
       "1   4557  2282"
      ]
     },
     "execution_count": 37,
     "metadata": {},
     "output_type": "execute_result"
    }
   ],
   "source": [
    "confusion_matrix_w2v_df"
   ]
  },
  {
   "cell_type": "code",
   "execution_count": 38,
   "id": "25728fa6-3980-4a2d-9415-e83113ed7c11",
   "metadata": {},
   "outputs": [],
   "source": [
    "confusion_matrix_w2v_df.to_csv(\"evaluation_test_dataset/nb_w2v_confusion_matrix.csv\", index=True)"
   ]
  },
  {
   "cell_type": "code",
   "execution_count": 39,
   "id": "c8b7ca7d-f9a3-4085-a064-08dcbbda2cbf",
   "metadata": {},
   "outputs": [],
   "source": [
    "# Save Classificationreport\n",
    "classification_report_w2v_df = pd.DataFrame(classification_report(y_test, y_pred_w2v, output_dict=True)).transpose()"
   ]
  },
  {
   "cell_type": "code",
   "execution_count": 40,
   "id": "318527d6-f9b5-4447-9770-c0a76c3a39f1",
   "metadata": {},
   "outputs": [
    {
     "data": {
      "text/html": [
       "<div>\n",
       "<style scoped>\n",
       "    .dataframe tbody tr th:only-of-type {\n",
       "        vertical-align: middle;\n",
       "    }\n",
       "\n",
       "    .dataframe tbody tr th {\n",
       "        vertical-align: top;\n",
       "    }\n",
       "\n",
       "    .dataframe thead th {\n",
       "        text-align: right;\n",
       "    }\n",
       "</style>\n",
       "<table border=\"1\" class=\"dataframe\">\n",
       "  <thead>\n",
       "    <tr style=\"text-align: right;\">\n",
       "      <th></th>\n",
       "      <th>precision</th>\n",
       "      <th>recall</th>\n",
       "      <th>f1-score</th>\n",
       "      <th>support</th>\n",
       "    </tr>\n",
       "  </thead>\n",
       "  <tbody>\n",
       "    <tr>\n",
       "      <th>0</th>\n",
       "      <td>0.809824</td>\n",
       "      <td>0.757209</td>\n",
       "      <td>0.782633</td>\n",
       "      <td>25627.000000</td>\n",
       "    </tr>\n",
       "    <tr>\n",
       "      <th>1</th>\n",
       "      <td>0.268344</td>\n",
       "      <td>0.333675</td>\n",
       "      <td>0.297465</td>\n",
       "      <td>6839.000000</td>\n",
       "    </tr>\n",
       "    <tr>\n",
       "      <th>accuracy</th>\n",
       "      <td>0.667991</td>\n",
       "      <td>0.667991</td>\n",
       "      <td>0.667991</td>\n",
       "      <td>0.667991</td>\n",
       "    </tr>\n",
       "    <tr>\n",
       "      <th>macro avg</th>\n",
       "      <td>0.539084</td>\n",
       "      <td>0.545442</td>\n",
       "      <td>0.540049</td>\n",
       "      <td>32466.000000</td>\n",
       "    </tr>\n",
       "    <tr>\n",
       "      <th>weighted avg</th>\n",
       "      <td>0.695761</td>\n",
       "      <td>0.667991</td>\n",
       "      <td>0.680432</td>\n",
       "      <td>32466.000000</td>\n",
       "    </tr>\n",
       "  </tbody>\n",
       "</table>\n",
       "</div>"
      ],
      "text/plain": [
       "              precision    recall  f1-score       support\n",
       "0              0.809824  0.757209  0.782633  25627.000000\n",
       "1              0.268344  0.333675  0.297465   6839.000000\n",
       "accuracy       0.667991  0.667991  0.667991      0.667991\n",
       "macro avg      0.539084  0.545442  0.540049  32466.000000\n",
       "weighted avg   0.695761  0.667991  0.680432  32466.000000"
      ]
     },
     "execution_count": 40,
     "metadata": {},
     "output_type": "execute_result"
    }
   ],
   "source": [
    "classification_report_w2v_df"
   ]
  },
  {
   "cell_type": "code",
   "execution_count": 41,
   "id": "c18dbf68-9e50-44f1-90bf-32cd34eef1f2",
   "metadata": {},
   "outputs": [],
   "source": [
    "classification_report_w2v_df.to_csv(\"evaluation_test_dataset/nb_w2v_classification_report.csv\", index=True)"
   ]
  },
  {
   "cell_type": "markdown",
   "id": "907a12ed-5ee8-4018-b876-fc38d97bbc36",
   "metadata": {},
   "source": [
    "# Glove"
   ]
  },
  {
   "cell_type": "code",
   "execution_count": 42,
   "id": "2747f324-4ce9-439f-8efe-5bf456215f12",
   "metadata": {},
   "outputs": [],
   "source": [
    "%run ../../functions/vectorize_functions.py"
   ]
  },
  {
   "cell_type": "code",
   "execution_count": 57,
   "id": "684e521e-ed1b-4e97-93ac-e87ef694db4c",
   "metadata": {},
   "outputs": [],
   "source": [
    "x_test_glv, x_leer, y_test_glv, y_leer, vectorizer_glv = vectorize_glove(df=df_test, test_size=1, text_column='tweet_cleaned', \n",
    "                                                                                 label_column=\"label\")"
   ]
  },
  {
   "cell_type": "code",
   "execution_count": 52,
   "id": "716964d2-b7d3-484c-a8c2-c225e3682382",
   "metadata": {},
   "outputs": [],
   "source": [
    "clf_w2v = joblib.load('used_models_test_dataset/first_dataset/model_nb_glv.joblib')"
   ]
  },
  {
   "cell_type": "code",
   "execution_count": 53,
   "id": "dbe0147a-322b-4c09-b2ee-a884d1474c3e",
   "metadata": {},
   "outputs": [],
   "source": [
    "y_pred_glv = clf_w2v.predict(x_test_glv)"
   ]
  },
  {
   "cell_type": "code",
   "execution_count": 58,
   "id": "aba20147-a902-479e-a210-0cff2a7e1059",
   "metadata": {},
   "outputs": [
    {
     "name": "stdout",
     "output_type": "stream",
     "text": [
      "F1 Score: 0.3367551622418879\n",
      "Recall: 0.41731247258371107\n",
      "Precision: 0.28226683809712194\n",
      "Accuracy: 0.6537193901124287\n",
      "MCC: 0.11810464798154796\n",
      "\n",
      "\n",
      "Confusion Matrix\n",
      "       0     1\n",
      "0  18369  7257\n",
      "1   3985  2854\n",
      "\n",
      "\n",
      "Classification Report\n",
      "              precision    recall  f1-score   support\n",
      "\n",
      "           0       0.82      0.72      0.77     25626\n",
      "           1       0.28      0.42      0.34      6839\n",
      "\n",
      "    accuracy                           0.65     32465\n",
      "   macro avg       0.55      0.57      0.55     32465\n",
      "weighted avg       0.71      0.65      0.68     32465\n",
      "\n"
     ]
    }
   ],
   "source": [
    "evaluate(y_test_glv, y_pred_glv)"
   ]
  },
  {
   "cell_type": "code",
   "execution_count": null,
   "id": "0c9e6588-57d9-4798-bc60-bced830aa90c",
   "metadata": {},
   "outputs": [],
   "source": [
    "confusion_matrix_glv_df = pd.DataFrame(confusion_matrix(y_test_glv, y_pred_glv))"
   ]
  },
  {
   "cell_type": "code",
   "execution_count": null,
   "id": "81a00b09-adbf-4920-9a6b-e7b7bde97433",
   "metadata": {},
   "outputs": [],
   "source": [
    "confusion_matrix_glv_df"
   ]
  },
  {
   "cell_type": "code",
   "execution_count": null,
   "id": "ed9f5152-829c-4c21-a210-ba4f4890c468",
   "metadata": {},
   "outputs": [],
   "source": [
    "confusion_matrix_glv_df.to_csv(\"evaluation_test_dataset/nb_glv_confusion_matrix.csv\", index=True)"
   ]
  },
  {
   "cell_type": "code",
   "execution_count": null,
   "id": "b53ac497-3052-47d6-ab3c-0a932da43f13",
   "metadata": {},
   "outputs": [],
   "source": [
    "# Save Classificationreport\n",
    "classification_report_glv_df = pd.DataFrame(classification_report(y_test_glv, y_pred_glv, output_dict=True)).transpose()"
   ]
  },
  {
   "cell_type": "code",
   "execution_count": null,
   "id": "52ddf485-e09d-41cb-9227-f2aa4b56b6d3",
   "metadata": {},
   "outputs": [],
   "source": [
    "classification_report_glv_df"
   ]
  },
  {
   "cell_type": "code",
   "execution_count": null,
   "id": "23b4652d-ac1d-4f8d-976c-d6bfa6e577b4",
   "metadata": {},
   "outputs": [],
   "source": [
    "classification_report_glv_df.to_csv(\"evaluation_test_dataset/nb_glv_classification_report.csv\", index=True)"
   ]
  },
  {
   "cell_type": "code",
   "execution_count": null,
   "id": "9d05e752-d452-4e8e-b578-aadabfa59a66",
   "metadata": {},
   "outputs": [],
   "source": []
  }
 ],
 "metadata": {
  "kernelspec": {
   "display_name": "Python 3 (ipykernel)",
   "language": "python",
   "name": "python3"
  },
  "language_info": {
   "codemirror_mode": {
    "name": "ipython",
    "version": 3
   },
   "file_extension": ".py",
   "mimetype": "text/x-python",
   "name": "python",
   "nbconvert_exporter": "python",
   "pygments_lexer": "ipython3",
   "version": "3.13.2"
  }
 },
 "nbformat": 4,
 "nbformat_minor": 5
}
