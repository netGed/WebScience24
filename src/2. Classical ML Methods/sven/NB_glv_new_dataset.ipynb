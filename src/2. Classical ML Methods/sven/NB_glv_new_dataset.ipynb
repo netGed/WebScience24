{
 "cells": [
  {
   "cell_type": "code",
   "execution_count": 1,
   "id": "0d9ec666-3144-4ba2-976b-c91b5fe258bf",
   "metadata": {},
   "outputs": [],
   "source": [
    "from sklearn.naive_bayes import MultinomialNB # ideal für counting features wie bow oder tfidf https://towardsdatascience.com/why-how-to-use-the-naive-bayes-algorithms-in-a-regulated-industry-with-sklearn-python-code-dbd8304ab2cf\n",
    "from sklearn.naive_bayes import GaussianNB # für Features in Decimal Form geeignet\n",
    "from sklearn.naive_bayes import ComplementNB # ähnlich wie Multinomial, soll sich aber besser für imbalanced data eignen\n",
    "from sklearn.metrics import (\n",
    "    accuracy_score,\n",
    "    confusion_matrix,\n",
    "    ConfusionMatrixDisplay,\n",
    "    f1_score,\n",
    "    recall_score,\n",
    "    precision_score,\n",
    "    classification_report,\n",
    ")\n",
    "import pandas as pd\n",
    "from sklearn.model_selection import GridSearchCV, train_test_split, cross_val_score"
   ]
  },
  {
   "cell_type": "code",
   "execution_count": 2,
   "id": "f636600b-8b3e-4bba-9b02-5f3733f11b4d",
   "metadata": {},
   "outputs": [],
   "source": [
    "def evaluate(y_test,y_pred):\n",
    "    accuracy = accuracy_score(y_test, y_pred)\n",
    "    f1 = f1_score(y_test, y_pred)\n",
    "    recall = recall_score(y_test, y_pred)\n",
    "    precision = precision_score(y_test, y_pred)\n",
    "    print(\"Accuracy:\", accuracy)\n",
    "    print(\"F1 Score:\", f1)\n",
    "    print(\"Recall:\", recall)\n",
    "    print(\"Precision:\", precision)\n",
    "    print(pd.DataFrame(confusion_matrix(y_test, y_pred)))"
   ]
  },
  {
   "cell_type": "markdown",
   "id": "bcce5a26-cdc4-46a9-83d1-bf54813f34e4",
   "metadata": {},
   "source": [
    "## Evaluation neue Vectorize-Funktionen (08.12.)"
   ]
  },
  {
   "cell_type": "code",
   "execution_count": 3,
   "id": "e5d1b5ff-2a21-4fc2-80d0-0ab9d8cd8671",
   "metadata": {},
   "outputs": [],
   "source": [
    "%run ../../functions/vectorize_functions.py"
   ]
  },
  {
   "cell_type": "code",
   "execution_count": 4,
   "id": "512a7731-bbeb-4a1a-89f5-eb2b208d84c9",
   "metadata": {},
   "outputs": [],
   "source": [
    "filepath_name = (('../../../data/new_datasets/train_cleaned.csv'))\n",
    "df_cleaned = pd.read_csv(filepath_name, encoding='utf-8')"
   ]
  },
  {
   "cell_type": "code",
   "execution_count": 5,
   "id": "d73a06de-70e1-4076-907b-66d3205c5922",
   "metadata": {},
   "outputs": [],
   "source": [
    "X_train, X_test, y_train, y_test = vectorize_glove(df=df_cleaned, text_column='tweet_cleaned', \n",
    "                                                                                 label_column=\"label\")"
   ]
  },
  {
   "cell_type": "code",
   "execution_count": 6,
   "id": "2a198a29-26dc-4c6c-8155-b307c8bd7c16",
   "metadata": {},
   "outputs": [
    {
     "name": "stdout",
     "output_type": "stream",
     "text": [
      "(42879, 100)\n",
      "(18378, 100)\n",
      "(42879,)\n",
      "(18378,)\n",
      "<class 'numpy.ndarray'>\n"
     ]
    }
   ],
   "source": [
    "print(X_train.shape)\n",
    "print(X_test.shape)\n",
    "print(y_train.shape)\n",
    "print(y_test.shape)\n",
    "print(type(X_train))"
   ]
  },
  {
   "cell_type": "markdown",
   "id": "8fd28bfd-3511-4e24-be55-68d5dc363cfa",
   "metadata": {},
   "source": [
    "## GaussianNB"
   ]
  },
  {
   "cell_type": "code",
   "execution_count": 7,
   "id": "d012c6c6-6df3-4d6d-acf6-c1a0456995f7",
   "metadata": {},
   "outputs": [],
   "source": [
    "clf = GaussianNB()\n",
    "clf.fit(X_train,y_train)\n",
    "y_pred = clf.predict(X_test)"
   ]
  },
  {
   "cell_type": "code",
   "execution_count": 8,
   "id": "9d37edd1-4623-4c6d-af74-07119a2e79ba",
   "metadata": {},
   "outputs": [
    {
     "name": "stdout",
     "output_type": "stream",
     "text": [
      "Accuracy: 0.705626292306018\n",
      "F1 Score: 0.4536457281357302\n",
      "Recall: 0.5731053840265374\n",
      "Precision: 0.3753969580478021\n",
      "       0     1\n",
      "0  10722  3737\n",
      "1   1673  2246\n"
     ]
    }
   ],
   "source": [
    "evaluate(y_test, y_pred)"
   ]
  },
  {
   "cell_type": "code",
   "execution_count": 9,
   "id": "131f8528-a1a8-43a9-9bf5-f6ee57762b26",
   "metadata": {},
   "outputs": [
    {
     "name": "stdout",
     "output_type": "stream",
     "text": [
      "Fitting 3 folds for each of 24 candidates, totalling 72 fits\n",
      "    model        priors  var_smoothing  train_accuracy  train_recall  \\\n",
      "0   Glove          None   1.000000e-10        0.710324      0.578179   \n",
      "1   Glove          None   1.000000e-09        0.710324      0.578179   \n",
      "2   Glove          None   1.000000e-02        0.700856      0.603659   \n",
      "3   Glove          None   1.000000e-01        0.678864      0.648846   \n",
      "4   Glove          None   2.500000e-01        0.716761      0.527221   \n",
      "5   Glove          None   5.000000e-01        0.769258      0.304334   \n",
      "6   Glove          None   7.500000e-01        0.784930      0.157883   \n",
      "7   Glove          None   1.000000e+00        0.787915      0.079377   \n",
      "8   Glove  [0.25, 0.75]   1.000000e-10        0.554537      0.797801   \n",
      "9   Glove  [0.25, 0.75]   1.000000e-09        0.554537      0.797801   \n",
      "10  Glove  [0.25, 0.75]   1.000000e-02        0.522050      0.832208   \n",
      "11  Glove  [0.25, 0.75]   1.000000e-01        0.353833      0.951111   \n",
      "12  Glove  [0.25, 0.75]   2.500000e-01        0.262693      0.986389   \n",
      "13  Glove  [0.25, 0.75]   5.000000e-01        0.225588      0.997387   \n",
      "14  Glove  [0.25, 0.75]   7.500000e-01        0.217332      0.999020   \n",
      "15  Glove  [0.25, 0.75]   1.000000e+00        0.215327      0.999456   \n",
      "16  Glove    [0.5, 0.5]   1.000000e-10        0.630868      0.707753   \n",
      "17  Glove    [0.5, 0.5]   1.000000e-09        0.630868      0.707753   \n",
      "18  Glove    [0.5, 0.5]   1.000000e-02        0.609273      0.742705   \n",
      "19  Glove    [0.5, 0.5]   1.000000e-01        0.490403      0.866616   \n",
      "20  Glove    [0.5, 0.5]   2.500000e-01        0.425150      0.910279   \n",
      "21  Glove    [0.5, 0.5]   5.000000e-01        0.391171      0.929551   \n",
      "22  Glove    [0.5, 0.5]   7.500000e-01        0.379067      0.934778   \n",
      "23  Glove    [0.5, 0.5]   1.000000e+00        0.372583      0.937500   \n",
      "\n",
      "    train_precision  train_f1  test_accuracy  test_recall  test_precision  \\\n",
      "0          0.383200  0.460917       0.705626     0.573105        0.375397   \n",
      "1          0.383200  0.460917       0.705626     0.573105        0.375397   \n",
      "2          0.376349  0.463642       0.698770     0.601939        0.372376   \n",
      "3          0.361064  0.463952       0.674067     0.648890        0.355316   \n",
      "4          0.382918  0.443630       0.715747     0.539423        0.382071   \n",
      "5          0.443651  0.361018       0.767603     0.301608        0.435199   \n",
      "6          0.493533  0.239234       0.783546     0.147742        0.475760   \n",
      "7          0.532895  0.138173       0.787899     0.076550        0.518135   \n",
      "8          0.298197  0.434128       0.549679     0.796632        0.294501   \n",
      "9          0.298197  0.434128       0.549679     0.796632        0.294501   \n",
      "10         0.287374  0.427222       0.517358     0.831845        0.284195   \n",
      "11         0.242686  0.386701       0.355697     0.956877        0.243159   \n",
      "12         0.223409  0.364305       0.262325     0.990814        0.223110   \n",
      "13         0.216334  0.355549       0.224943     0.998469        0.215580   \n",
      "14         0.214740  0.353496       0.216400     0.999490        0.213857   \n",
      "15         0.214362  0.353011       0.214115     1.000000        0.213430   \n",
      "16         0.330890  0.450950       0.626673     0.711661        0.327347   \n",
      "17         0.330890  0.450950       0.626673     0.711661        0.327347   \n",
      "18         0.321563  0.448809       0.604962     0.745343        0.318088   \n",
      "19         0.278433  0.421457       0.487159     0.871651        0.276868   \n",
      "20         0.259748  0.404167       0.423931     0.915540        0.259174   \n",
      "21         0.251118  0.395415       0.391174     0.932636        0.250686   \n",
      "22         0.248043  0.392054       0.378768     0.938505        0.247610   \n",
      "23         0.246429  0.390273       0.372511     0.942332        0.246216   \n",
      "\n",
      "     test_f1  \n",
      "0   0.453646  \n",
      "1   0.453646  \n",
      "2   0.460113  \n",
      "3   0.459191  \n",
      "4   0.447313  \n",
      "5   0.356292  \n",
      "6   0.225467  \n",
      "7   0.133393  \n",
      "8   0.430028  \n",
      "9   0.430028  \n",
      "10  0.423652  \n",
      "11  0.387777  \n",
      "12  0.364208  \n",
      "13  0.354599  \n",
      "14  0.352327  \n",
      "15  0.351780  \n",
      "16  0.448428  \n",
      "17  0.448428  \n",
      "18  0.445886  \n",
      "19  0.420250  \n",
      "20  0.403986  \n",
      "21  0.395156  \n",
      "22  0.391839  \n",
      "23  0.390422  \n"
     ]
    }
   ],
   "source": [
    "results_list = []\n",
    "\n",
    "param_grid = {\n",
    "    'priors' : [None, [.25,.75], [.5,.5]],\n",
    "    'var_smoothing' : [1.0e-10,1e-9, 0.01, 0.1, 0.25, 0.5, 0.75, 1]\n",
    "}\n",
    "\n",
    "nb = GaussianNB()\n",
    "\n",
    "grid_search = GridSearchCV(estimator=nb, param_grid=param_grid, scoring='f1', cv=3, verbose=2, n_jobs=-1)\n",
    "\n",
    "grid_search.fit(X_train, y_train)\n",
    "\n",
    "for params in grid_search.cv_results_['params']:\n",
    "    model = GaussianNB(**params)  \n",
    "    model.fit(X_train, y_train)  \n",
    "\n",
    "    y_train_pred = model.predict(X_train)\n",
    "\n",
    "    y_test_pred = model.predict(X_test)\n",
    "\n",
    "    train_accuracy = accuracy_score(y_train, y_train_pred)\n",
    "    train_recall = recall_score(y_train, y_train_pred)\n",
    "    train_precision = precision_score(y_train, y_train_pred)\n",
    "    train_f1 = f1_score(y_train, y_train_pred)\n",
    "\n",
    "    test_accuracy = accuracy_score(y_test, y_test_pred)\n",
    "    test_recall = recall_score(y_test, y_test_pred)\n",
    "    test_precision = precision_score(y_test, y_test_pred)\n",
    "    test_f1 = f1_score(y_test, y_test_pred)\n",
    "\n",
    "    result_dict = {\n",
    "        'model': 'Glove',\n",
    "        'priors': params['priors'],\n",
    "        'var_smoothing': params['var_smoothing'],\n",
    "        'train_accuracy': train_accuracy,\n",
    "        'train_recall': train_recall,\n",
    "        'train_precision': train_precision,\n",
    "        'train_f1': train_f1,\n",
    "        'test_accuracy': test_accuracy,\n",
    "        'test_recall': test_recall,\n",
    "        'test_precision': test_precision,\n",
    "        'test_f1': test_f1\n",
    "    }\n",
    "\n",
    "    results_list.append(result_dict)\n",
    "\n",
    "results_df = pd.DataFrame(results_list)\n",
    "\n",
    "results_df.to_csv('eval_data/nb_grid_glv_new_dataset.csv', index=False)\n",
    "\n",
    "print(results_df)\n"
   ]
  },
  {
   "cell_type": "code",
   "execution_count": null,
   "id": "9a14f063-46d0-4c1c-89fb-ce6bd3d1c546",
   "metadata": {},
   "outputs": [],
   "source": []
  }
 ],
 "metadata": {
  "kernelspec": {
   "display_name": "Python 3 (ipykernel)",
   "language": "python",
   "name": "python3"
  },
  "language_info": {
   "codemirror_mode": {
    "name": "ipython",
    "version": 3
   },
   "file_extension": ".py",
   "mimetype": "text/x-python",
   "name": "python",
   "nbconvert_exporter": "python",
   "pygments_lexer": "ipython3",
   "version": "3.9.20"
  }
 },
 "nbformat": 4,
 "nbformat_minor": 5
}
