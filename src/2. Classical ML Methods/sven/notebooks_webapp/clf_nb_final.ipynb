{
 "cells": [
  {
   "cell_type": "markdown",
   "id": "169f7d37-36ea-4922-ae0a-ea4fa918448d",
   "metadata": {},
   "source": [
    "# Test Klassifizierung gespeicherte Modell"
   ]
  },
  {
   "cell_type": "code",
   "execution_count": 1,
   "id": "44c6722f-0de5-4902-9e39-85a520efa3a0",
   "metadata": {},
   "outputs": [],
   "source": [
    "import joblib"
   ]
  },
  {
   "cell_type": "code",
   "execution_count": 2,
   "id": "6c715963-10ad-4376-9625-43b0d79e426d",
   "metadata": {},
   "outputs": [],
   "source": [
    "import numpy as np\n",
    "import pandas as pd\n",
    "from nltk import word_tokenize"
   ]
  },
  {
   "cell_type": "markdown",
   "id": "43ed85e8-ce93-4608-809c-ced03404a53f",
   "metadata": {},
   "source": [
    "## TF-IDF NB"
   ]
  },
  {
   "cell_type": "markdown",
   "id": "d11daff3-dacb-4718-86cd-f01d09c1a000",
   "metadata": {},
   "source": [
    "###### Model und Vectorizer laden"
   ]
  },
  {
   "cell_type": "code",
   "execution_count": 59,
   "id": "22815789-1e36-4b4b-af54-462b5fc3b83c",
   "metadata": {},
   "outputs": [],
   "source": [
    "vectorizer_tfidf = joblib.load('joblib_models/vectorizer_tfidf.joblib')"
   ]
  },
  {
   "cell_type": "code",
   "execution_count": 60,
   "id": "a2720195-6577-4958-bf97-fe3a6e28e995",
   "metadata": {},
   "outputs": [],
   "source": [
    "clf_nb_tfidf = joblib.load('joblib_models/model_nb_tfidf_comp.joblib')"
   ]
  },
  {
   "cell_type": "code",
   "execution_count": 61,
   "id": "c430a56c-63ee-470e-ba14-8f8e407c587a",
   "metadata": {},
   "outputs": [
    {
     "data": {
      "text/plain": [
       "{'alpha': 0.4,\n",
       " 'class_prior': None,\n",
       " 'fit_prior': True,\n",
       " 'force_alpha': 'warn',\n",
       " 'norm': False}"
      ]
     },
     "execution_count": 61,
     "metadata": {},
     "output_type": "execute_result"
    }
   ],
   "source": [
    "clf_nb_tfidf.get_params()"
   ]
  },
  {
   "cell_type": "markdown",
   "id": "0e575169-733e-4724-bb4e-e592339a088a",
   "metadata": {},
   "source": [
    "## Word2Vec NB"
   ]
  },
  {
   "cell_type": "markdown",
   "id": "8ed036b6-3ee4-4072-8733-319db0407cdc",
   "metadata": {},
   "source": [
    "###### Model und Vectorizer laden"
   ]
  },
  {
   "cell_type": "code",
   "execution_count": 62,
   "id": "6f7b0f10-17d6-45a6-885a-2fa8e9b884f4",
   "metadata": {},
   "outputs": [],
   "source": [
    "vectorizer_w2v = joblib.load('joblib_models/vectorizer_w2v_param.joblib')"
   ]
  },
  {
   "cell_type": "code",
   "execution_count": 63,
   "id": "70d01846-b095-4cd3-a933-b2135b5ed354",
   "metadata": {},
   "outputs": [],
   "source": [
    "clf_nb_w2v = joblib.load('joblib_models/model_nb_w2v_param.joblib')"
   ]
  },
  {
   "cell_type": "code",
   "execution_count": 64,
   "id": "80b323ce-1881-46a5-af77-3fcdd6a7469a",
   "metadata": {},
   "outputs": [
    {
     "data": {
      "text/plain": [
       "{'priors': None, 'var_smoothing': 0.01}"
      ]
     },
     "execution_count": 64,
     "metadata": {},
     "output_type": "execute_result"
    }
   ],
   "source": [
    "clf_nb_w2v.get_params()"
   ]
  },
  {
   "cell_type": "code",
   "execution_count": 65,
   "id": "860bed98-e7db-4855-b8bc-ec1ad654b248",
   "metadata": {},
   "outputs": [],
   "source": [
    "# tweets = Spalte aus pd Dataframe\n",
    "# loaded_vectorizer = joblib w2v vectorizer\n",
    "\n",
    "def vectorize_w2v(tweets, vectorizer_w2v, vector_size=200):\n",
    "    \n",
    "    x_tokenized = tweets.map(word_tokenize)    \n",
    "\n",
    "    def w2v_vector(x_tokenized, vector_size):\n",
    "            vec = np.zeros(vector_size).reshape((1, vector_size))\n",
    "            count = 0\n",
    "            for word in x_tokenized:\n",
    "                try:\n",
    "                    vec += vectorizer_w2v.wv[word].reshape((1, vector_size))\n",
    "                    count += 1\n",
    "                except KeyError:\n",
    "\n",
    "                    continue\n",
    "            if count != 0:\n",
    "                vec /= count\n",
    "            return vec\n",
    "        \n",
    "    tweets_w2v = np.zeros((len(x_tokenized), 200))\n",
    "    for i in range(len(x_tokenized)):\n",
    "        tweets_w2v[i, :] = w2v_vector(x_tokenized.iloc[i], 200)\n",
    "\n",
    "    return tweets_w2v"
   ]
  },
  {
   "cell_type": "markdown",
   "id": "2d85abca-e4f9-41b8-96f4-0e82be00042f",
   "metadata": {},
   "source": [
    "## Test mit Beispiel Tweets"
   ]
  },
  {
   "cell_type": "code",
   "execution_count": 66,
   "id": "7fbd4568-2421-44ef-9d7d-bf93c6e7628e",
   "metadata": {},
   "outputs": [],
   "source": [
    "tweet_hs = ['i hate jews so much i wish the holocaust actually happened']\n",
    "tweet_no_hs = ['today i start breaking in a new pair of docs have mercy on my soles']"
   ]
  },
  {
   "cell_type": "code",
   "execution_count": 67,
   "id": "c852173c-2bbe-43e9-9d43-0e9e76f7b737",
   "metadata": {},
   "outputs": [],
   "source": [
    "df_hs = pd.DataFrame(tweet_hs)\n",
    "df_no_hs = pd.DataFrame(tweet_no_hs)"
   ]
  },
  {
   "cell_type": "code",
   "execution_count": 68,
   "id": "a7bcb0ea-7447-4ed2-a6d8-4b30cfa67e06",
   "metadata": {},
   "outputs": [
    {
     "name": "stdout",
     "output_type": "stream",
     "text": [
      "[1]\n"
     ]
    }
   ],
   "source": [
    "print(clf_nb_tfidf.predict(vectorizer_tfidf.transform(tweet_hs)))"
   ]
  },
  {
   "cell_type": "code",
   "execution_count": 76,
   "id": "29fdca59-7a00-40db-8d79-cd0983d127f0",
   "metadata": {},
   "outputs": [
    {
     "name": "stdout",
     "output_type": "stream",
     "text": [
      "[[0.23827261 0.76172739]]\n"
     ]
    }
   ],
   "source": [
    "print(clf_nb_tfidf.predict_proba(vectorizer_tfidf.transform(tweet_hs)))"
   ]
  },
  {
   "cell_type": "code",
   "execution_count": 71,
   "id": "7d1c5e81-401d-4104-90bc-7b32ef59f621",
   "metadata": {},
   "outputs": [
    {
     "name": "stdout",
     "output_type": "stream",
     "text": [
      "[0]\n"
     ]
    }
   ],
   "source": [
    "print(clf_nb_tfidf.predict(vectorizer_tfidf.transform(tweet_no_hs)))"
   ]
  },
  {
   "cell_type": "code",
   "execution_count": 75,
   "id": "127e7d2a-3b67-4c1b-ac29-084b4d41e724",
   "metadata": {},
   "outputs": [
    {
     "name": "stdout",
     "output_type": "stream",
     "text": [
      "[[0.67355329 0.32644671]]\n"
     ]
    }
   ],
   "source": [
    "print(clf_nb_tfidf.predict_proba(vectorizer_tfidf.transform(tweet_no_hs)))"
   ]
  },
  {
   "cell_type": "code",
   "execution_count": 72,
   "id": "66c430e7-ba3b-4aa9-92b4-3c4505da9952",
   "metadata": {},
   "outputs": [
    {
     "name": "stdout",
     "output_type": "stream",
     "text": [
      "[1]\n"
     ]
    }
   ],
   "source": [
    "print(clf_nb_w2v.predict(vectorize_w2v(df_hs[0],vectorizer_w2v )))"
   ]
  },
  {
   "cell_type": "code",
   "execution_count": 77,
   "id": "7cc98f0d-7f51-48e0-b141-41488bb6e7ae",
   "metadata": {},
   "outputs": [
    {
     "name": "stdout",
     "output_type": "stream",
     "text": [
      "[[0.0040413 0.9959587]]\n"
     ]
    }
   ],
   "source": [
    "print(clf_nb_w2v.predict_proba(vectorize_w2v(df_hs[0],vectorizer_w2v )))"
   ]
  },
  {
   "cell_type": "code",
   "execution_count": 73,
   "id": "b26b1b96-2e62-43e2-a8e1-bd8ed66a3e92",
   "metadata": {},
   "outputs": [
    {
     "name": "stdout",
     "output_type": "stream",
     "text": [
      "[0]\n"
     ]
    }
   ],
   "source": [
    "print(clf_nb_w2v.predict(vectorize_w2v(df_no_hs[0],vectorizer_w2v )))"
   ]
  },
  {
   "cell_type": "code",
   "execution_count": 74,
   "id": "1c9be731-ec2d-47d6-bc10-25933250e856",
   "metadata": {},
   "outputs": [
    {
     "name": "stdout",
     "output_type": "stream",
     "text": [
      "[[9.99920836e-01 7.91636976e-05]]\n"
     ]
    }
   ],
   "source": [
    "print(clf_nb_w2v.predict_proba(vectorize_w2v(df_no_hs[0],vectorizer_w2v )))"
   ]
  },
  {
   "cell_type": "markdown",
   "id": "3dd3f590-456c-4b74-9a84-b1e8a156b55e",
   "metadata": {},
   "source": [
    "## Test Datensatz"
   ]
  },
  {
   "cell_type": "code",
   "execution_count": 78,
   "id": "d686ae72-d460-4682-a482-7ab05771b322",
   "metadata": {},
   "outputs": [],
   "source": [
    "filepath_name_test = (('../../../../data/mixed_dataset/test_cleaned.csv'))\n",
    "df_test = pd.read_csv(filepath_name_test, encoding ='utf-8')"
   ]
  },
  {
   "cell_type": "code",
   "execution_count": 79,
   "id": "e519450b-f476-4b04-8344-92f6bfe96908",
   "metadata": {},
   "outputs": [],
   "source": [
    "df_test = df_test[df_test['tweet_cleaned'].notna()]"
   ]
  },
  {
   "cell_type": "code",
   "execution_count": 80,
   "id": "ca60e61c-48cc-43ab-b847-d7627dadc3f7",
   "metadata": {},
   "outputs": [],
   "source": [
    "df_test['clf_tfidf'] = clf_nb_tfidf.predict(vectorizer_tfidf.transform(df_test['tweet_cleaned']))"
   ]
  },
  {
   "cell_type": "code",
   "execution_count": 81,
   "id": "1317f27d-529a-47a5-aa7c-51bfeef587f0",
   "metadata": {},
   "outputs": [],
   "source": [
    "df_test['prob_tfidf_0'], df_test['prob_tfidf_1'] = clf_nb_tfidf.predict_proba(vectorizer_tfidf.transform(df_test['tweet_cleaned']))[:,0],clf_nb_tfidf.predict_proba(vectorizer_tfidf.transform(df_test['tweet_cleaned']))[:,1]"
   ]
  },
  {
   "cell_type": "code",
   "execution_count": 82,
   "id": "85cd6c57-7e40-4adb-bc27-ec08b05b585c",
   "metadata": {},
   "outputs": [],
   "source": [
    "df_test['clf_w2v'] = clf_nb_w2v.predict(vectorize_w2v(df_test['tweet_cleaned'],vectorizer_w2v ))"
   ]
  },
  {
   "cell_type": "code",
   "execution_count": 83,
   "id": "9bd9d5b7-4061-41e9-9f2c-122a1fdeb3a1",
   "metadata": {},
   "outputs": [],
   "source": [
    "df_test['prob_w2v_0'], df_test['prob_w2v_1'] = clf_nb_w2v.predict_proba(vectorize_w2v(df_test['tweet_cleaned'],vectorizer_w2v ))[:,0], clf_nb_w2v.predict_proba(vectorize_w2v(df_test['tweet_cleaned'],vectorizer_w2v ))[:,1]"
   ]
  },
  {
   "cell_type": "code",
   "execution_count": 85,
   "id": "d3c5b4ac-8623-45b2-a4e2-117ef459dfca",
   "metadata": {},
   "outputs": [],
   "source": [
    "df_test = df_test.drop(['user_handle', 'hashtags', 'emojis'], axis=1)"
   ]
  },
  {
   "cell_type": "code",
   "execution_count": 86,
   "id": "10f63e3a-c58e-4fe3-99d4-b2af8481f44d",
   "metadata": {},
   "outputs": [
    {
     "data": {
      "text/html": [
       "<div>\n",
       "<style scoped>\n",
       "    .dataframe tbody tr th:only-of-type {\n",
       "        vertical-align: middle;\n",
       "    }\n",
       "\n",
       "    .dataframe tbody tr th {\n",
       "        vertical-align: top;\n",
       "    }\n",
       "\n",
       "    .dataframe thead th {\n",
       "        text-align: right;\n",
       "    }\n",
       "</style>\n",
       "<table border=\"1\" class=\"dataframe\">\n",
       "  <thead>\n",
       "    <tr style=\"text-align: right;\">\n",
       "      <th></th>\n",
       "      <th>Unnamed: 0</th>\n",
       "      <th>label</th>\n",
       "      <th>tweet</th>\n",
       "      <th>tweet_cleaned</th>\n",
       "      <th>clf_tfidf</th>\n",
       "      <th>prob_tfidf_0</th>\n",
       "      <th>prob_tfidf_1</th>\n",
       "      <th>clf_w2v</th>\n",
       "      <th>prob_w2v_0</th>\n",
       "      <th>prob_w2v_1</th>\n",
       "    </tr>\n",
       "  </thead>\n",
       "  <tbody>\n",
       "    <tr>\n",
       "      <th>0</th>\n",
       "      <td>8886</td>\n",
       "      <td>0</td>\n",
       "      <td>@user #cinemaaawards final rehearsals!! geari...</td>\n",
       "      <td>final gear evening butterfly stage hope like</td>\n",
       "      <td>0</td>\n",
       "      <td>0.853726</td>\n",
       "      <td>0.146274</td>\n",
       "      <td>0</td>\n",
       "      <td>0.999974</td>\n",
       "      <td>2.554390e-05</td>\n",
       "    </tr>\n",
       "    <tr>\n",
       "      <th>1</th>\n",
       "      <td>27613</td>\n",
       "      <td>0</td>\n",
       "      <td>this was amazing. the weather was not. #musica...</td>\n",
       "      <td>amazing weather musical london weekend …</td>\n",
       "      <td>0</td>\n",
       "      <td>0.989774</td>\n",
       "      <td>0.010226</td>\n",
       "      <td>0</td>\n",
       "      <td>1.000000</td>\n",
       "      <td>1.162569e-17</td>\n",
       "    </tr>\n",
       "    <tr>\n",
       "      <th>2</th>\n",
       "      <td>18952</td>\n",
       "      <td>0</td>\n",
       "      <td>child attacked by alligator at walt disney wor...</td>\n",
       "      <td>child attack alligator disney world</td>\n",
       "      <td>0</td>\n",
       "      <td>0.868091</td>\n",
       "      <td>0.131909</td>\n",
       "      <td>0</td>\n",
       "      <td>0.997782</td>\n",
       "      <td>2.218165e-03</td>\n",
       "    </tr>\n",
       "    <tr>\n",
       "      <th>3</th>\n",
       "      <td>12485</td>\n",
       "      <td>0</td>\n",
       "      <td>me rn cause school is over soon</td>\n",
       "      <td>right cause school soon</td>\n",
       "      <td>0</td>\n",
       "      <td>0.595383</td>\n",
       "      <td>0.404617</td>\n",
       "      <td>0</td>\n",
       "      <td>0.999382</td>\n",
       "      <td>6.181024e-04</td>\n",
       "    </tr>\n",
       "    <tr>\n",
       "      <th>4</th>\n",
       "      <td>5879</td>\n",
       "      <td>0</td>\n",
       "      <td>is it #good to #sleep when  ?  #good #sleep</td>\n",
       "      <td>good sleep good sleep</td>\n",
       "      <td>0</td>\n",
       "      <td>0.637034</td>\n",
       "      <td>0.362966</td>\n",
       "      <td>0</td>\n",
       "      <td>1.000000</td>\n",
       "      <td>6.932741e-11</td>\n",
       "    </tr>\n",
       "    <tr>\n",
       "      <th>...</th>\n",
       "      <td>...</td>\n",
       "      <td>...</td>\n",
       "      <td>...</td>\n",
       "      <td>...</td>\n",
       "      <td>...</td>\n",
       "      <td>...</td>\n",
       "      <td>...</td>\n",
       "      <td>...</td>\n",
       "      <td>...</td>\n",
       "      <td>...</td>\n",
       "    </tr>\n",
       "    <tr>\n",
       "      <th>32577</th>\n",
       "      <td>176360</td>\n",
       "      <td>0</td>\n",
       "      <td>Even liberals are humiliated by Charlie Rangel...</td>\n",
       "      <td>even liberal humiliate charlie claim gop back ...</td>\n",
       "      <td>0</td>\n",
       "      <td>0.507514</td>\n",
       "      <td>0.492486</td>\n",
       "      <td>1</td>\n",
       "      <td>0.207755</td>\n",
       "      <td>7.922446e-01</td>\n",
       "    </tr>\n",
       "    <tr>\n",
       "      <th>32578</th>\n",
       "      <td>176366</td>\n",
       "      <td>0</td>\n",
       "      <td>@user photoshop my nig</td>\n",
       "      <td>photoshop nig</td>\n",
       "      <td>1</td>\n",
       "      <td>0.358460</td>\n",
       "      <td>0.641540</td>\n",
       "      <td>0</td>\n",
       "      <td>0.987519</td>\n",
       "      <td>1.248107e-02</td>\n",
       "    </tr>\n",
       "    <tr>\n",
       "      <th>32579</th>\n",
       "      <td>176384</td>\n",
       "      <td>0</td>\n",
       "      <td>And mad hoes you can ask Beavis I get nothing ...</td>\n",
       "      <td>mad hoe ask beavis get nothing butthead</td>\n",
       "      <td>1</td>\n",
       "      <td>0.342576</td>\n",
       "      <td>0.657424</td>\n",
       "      <td>1</td>\n",
       "      <td>0.452294</td>\n",
       "      <td>5.477059e-01</td>\n",
       "    </tr>\n",
       "    <tr>\n",
       "      <th>32580</th>\n",
       "      <td>176385</td>\n",
       "      <td>0</td>\n",
       "      <td>Because child concentration camps were not bad...</td>\n",
       "      <td>child concentration camp bad enough trump admi...</td>\n",
       "      <td>0</td>\n",
       "      <td>0.617181</td>\n",
       "      <td>0.382819</td>\n",
       "      <td>0</td>\n",
       "      <td>0.683339</td>\n",
       "      <td>3.166607e-01</td>\n",
       "    </tr>\n",
       "    <tr>\n",
       "      <th>32581</th>\n",
       "      <td>176387</td>\n",
       "      <td>1</td>\n",
       "      <td>@user @user You didn't recognize the irony of ...</td>\n",
       "      <td>recognize irony use method ignorant muslim</td>\n",
       "      <td>1</td>\n",
       "      <td>0.296595</td>\n",
       "      <td>0.703405</td>\n",
       "      <td>1</td>\n",
       "      <td>0.005041</td>\n",
       "      <td>9.949594e-01</td>\n",
       "    </tr>\n",
       "  </tbody>\n",
       "</table>\n",
       "<p>32466 rows × 10 columns</p>\n",
       "</div>"
      ],
      "text/plain": [
       "       Unnamed: 0  label                                              tweet  \\\n",
       "0            8886      0   @user #cinemaaawards final rehearsals!! geari...   \n",
       "1           27613      0  this was amazing. the weather was not. #musica...   \n",
       "2           18952      0  child attacked by alligator at walt disney wor...   \n",
       "3           12485      0                 me rn cause school is over soon      \n",
       "4            5879      0       is it #good to #sleep when  ?  #good #sleep    \n",
       "...           ...    ...                                                ...   \n",
       "32577      176360      0  Even liberals are humiliated by Charlie Rangel...   \n",
       "32578      176366      0                             @user photoshop my nig   \n",
       "32579      176384      0  And mad hoes you can ask Beavis I get nothing ...   \n",
       "32580      176385      0  Because child concentration camps were not bad...   \n",
       "32581      176387      1  @user @user You didn't recognize the irony of ...   \n",
       "\n",
       "                                           tweet_cleaned  clf_tfidf  \\\n",
       "0           final gear evening butterfly stage hope like          0   \n",
       "1               amazing weather musical london weekend …          0   \n",
       "2                    child attack alligator disney world          0   \n",
       "3                                right cause school soon          0   \n",
       "4                                  good sleep good sleep          0   \n",
       "...                                                  ...        ...   \n",
       "32577  even liberal humiliate charlie claim gop back ...          0   \n",
       "32578                                      photoshop nig          1   \n",
       "32579            mad hoe ask beavis get nothing butthead          1   \n",
       "32580  child concentration camp bad enough trump admi...          0   \n",
       "32581         recognize irony use method ignorant muslim          1   \n",
       "\n",
       "       prob_tfidf_0  prob_tfidf_1  clf_w2v  prob_w2v_0    prob_w2v_1  \n",
       "0          0.853726      0.146274        0    0.999974  2.554390e-05  \n",
       "1          0.989774      0.010226        0    1.000000  1.162569e-17  \n",
       "2          0.868091      0.131909        0    0.997782  2.218165e-03  \n",
       "3          0.595383      0.404617        0    0.999382  6.181024e-04  \n",
       "4          0.637034      0.362966        0    1.000000  6.932741e-11  \n",
       "...             ...           ...      ...         ...           ...  \n",
       "32577      0.507514      0.492486        1    0.207755  7.922446e-01  \n",
       "32578      0.358460      0.641540        0    0.987519  1.248107e-02  \n",
       "32579      0.342576      0.657424        1    0.452294  5.477059e-01  \n",
       "32580      0.617181      0.382819        0    0.683339  3.166607e-01  \n",
       "32581      0.296595      0.703405        1    0.005041  9.949594e-01  \n",
       "\n",
       "[32466 rows x 10 columns]"
      ]
     },
     "execution_count": 86,
     "metadata": {},
     "output_type": "execute_result"
    }
   ],
   "source": [
    "df_test"
   ]
  },
  {
   "cell_type": "code",
   "execution_count": 56,
   "id": "42a839ee-2b1e-4119-82e3-30d6d53ded9a",
   "metadata": {},
   "outputs": [],
   "source": [
    "abovepointfive=df_test[df_test[\"prob_tfidf_11_1\"].between(0.1, 0.9)]"
   ]
  },
  {
   "cell_type": "code",
   "execution_count": 57,
   "id": "e7c760e8-0d1d-4d10-8f81-0433e8ab043a",
   "metadata": {},
   "outputs": [
    {
     "data": {
      "text/html": [
       "<div>\n",
       "<style scoped>\n",
       "    .dataframe tbody tr th:only-of-type {\n",
       "        vertical-align: middle;\n",
       "    }\n",
       "\n",
       "    .dataframe tbody tr th {\n",
       "        vertical-align: top;\n",
       "    }\n",
       "\n",
       "    .dataframe thead th {\n",
       "        text-align: right;\n",
       "    }\n",
       "</style>\n",
       "<table border=\"1\" class=\"dataframe\">\n",
       "  <thead>\n",
       "    <tr style=\"text-align: right;\">\n",
       "      <th></th>\n",
       "      <th>Unnamed: 0</th>\n",
       "      <th>label</th>\n",
       "      <th>tweet</th>\n",
       "      <th>tweet_cleaned</th>\n",
       "      <th>user_handle</th>\n",
       "      <th>hashtags</th>\n",
       "      <th>emojis</th>\n",
       "      <th>clf_tfidf</th>\n",
       "      <th>prob_tfidf_0</th>\n",
       "      <th>prob_tfidf_1</th>\n",
       "      <th>clf_w2v</th>\n",
       "      <th>prob_w2v_0</th>\n",
       "      <th>prob_w2v_1</th>\n",
       "      <th>clf_tfidf_11</th>\n",
       "      <th>prob_tfidf_11_0</th>\n",
       "      <th>prob_tfidf_11_1</th>\n",
       "    </tr>\n",
       "  </thead>\n",
       "  <tbody>\n",
       "    <tr>\n",
       "      <th>0</th>\n",
       "      <td>8886</td>\n",
       "      <td>0</td>\n",
       "      <td>@user #cinemaaawards final rehearsals!! geari...</td>\n",
       "      <td>final gear evening butterfly stage hope like</td>\n",
       "      <td>1</td>\n",
       "      <td>['#cinemaaawards', '#butterflies', '#stage']</td>\n",
       "      <td>NaN</td>\n",
       "      <td>0</td>\n",
       "      <td>0.500004</td>\n",
       "      <td>0.499996</td>\n",
       "      <td>0</td>\n",
       "      <td>0.999974</td>\n",
       "      <td>2.554390e-05</td>\n",
       "      <td>0</td>\n",
       "      <td>0.853726</td>\n",
       "      <td>0.146274</td>\n",
       "    </tr>\n",
       "    <tr>\n",
       "      <th>2</th>\n",
       "      <td>18952</td>\n",
       "      <td>0</td>\n",
       "      <td>child attacked by alligator at walt disney wor...</td>\n",
       "      <td>child attack alligator disney world</td>\n",
       "      <td>0</td>\n",
       "      <td>['#waltdisneyworld']</td>\n",
       "      <td>NaN</td>\n",
       "      <td>0</td>\n",
       "      <td>0.500004</td>\n",
       "      <td>0.499996</td>\n",
       "      <td>0</td>\n",
       "      <td>0.997782</td>\n",
       "      <td>2.218165e-03</td>\n",
       "      <td>0</td>\n",
       "      <td>0.868091</td>\n",
       "      <td>0.131909</td>\n",
       "    </tr>\n",
       "    <tr>\n",
       "      <th>3</th>\n",
       "      <td>12485</td>\n",
       "      <td>0</td>\n",
       "      <td>me rn cause school is over soon</td>\n",
       "      <td>right cause school soon</td>\n",
       "      <td>0</td>\n",
       "      <td>[]</td>\n",
       "      <td>NaN</td>\n",
       "      <td>0</td>\n",
       "      <td>0.500001</td>\n",
       "      <td>0.499999</td>\n",
       "      <td>0</td>\n",
       "      <td>0.999382</td>\n",
       "      <td>6.181024e-04</td>\n",
       "      <td>0</td>\n",
       "      <td>0.595383</td>\n",
       "      <td>0.404617</td>\n",
       "    </tr>\n",
       "    <tr>\n",
       "      <th>4</th>\n",
       "      <td>5879</td>\n",
       "      <td>0</td>\n",
       "      <td>is it #good to #sleep when  ?  #good #sleep</td>\n",
       "      <td>good sleep good sleep</td>\n",
       "      <td>0</td>\n",
       "      <td>['#good', '#sleep', '#good', '#sleep']</td>\n",
       "      <td>NaN</td>\n",
       "      <td>0</td>\n",
       "      <td>0.500001</td>\n",
       "      <td>0.499999</td>\n",
       "      <td>0</td>\n",
       "      <td>1.000000</td>\n",
       "      <td>6.932741e-11</td>\n",
       "      <td>0</td>\n",
       "      <td>0.637034</td>\n",
       "      <td>0.362966</td>\n",
       "    </tr>\n",
       "    <tr>\n",
       "      <th>5</th>\n",
       "      <td>31817</td>\n",
       "      <td>0</td>\n",
       "      <td>hi @user we hear you're coming to mk  . where ...</td>\n",
       "      <td>hi hear come</td>\n",
       "      <td>1</td>\n",
       "      <td>[]</td>\n",
       "      <td>NaN</td>\n",
       "      <td>0</td>\n",
       "      <td>0.500003</td>\n",
       "      <td>0.499997</td>\n",
       "      <td>0</td>\n",
       "      <td>1.000000</td>\n",
       "      <td>6.548846e-09</td>\n",
       "      <td>0</td>\n",
       "      <td>0.806315</td>\n",
       "      <td>0.193685</td>\n",
       "    </tr>\n",
       "    <tr>\n",
       "      <th>...</th>\n",
       "      <td>...</td>\n",
       "      <td>...</td>\n",
       "      <td>...</td>\n",
       "      <td>...</td>\n",
       "      <td>...</td>\n",
       "      <td>...</td>\n",
       "      <td>...</td>\n",
       "      <td>...</td>\n",
       "      <td>...</td>\n",
       "      <td>...</td>\n",
       "      <td>...</td>\n",
       "      <td>...</td>\n",
       "      <td>...</td>\n",
       "      <td>...</td>\n",
       "      <td>...</td>\n",
       "      <td>...</td>\n",
       "    </tr>\n",
       "    <tr>\n",
       "      <th>32577</th>\n",
       "      <td>176360</td>\n",
       "      <td>0</td>\n",
       "      <td>Even liberals are humiliated by Charlie Rangel...</td>\n",
       "      <td>even liberal humiliate charlie claim gop back ...</td>\n",
       "      <td>0</td>\n",
       "      <td>['#8217']</td>\n",
       "      <td>NaN</td>\n",
       "      <td>0</td>\n",
       "      <td>0.500001</td>\n",
       "      <td>0.499999</td>\n",
       "      <td>1</td>\n",
       "      <td>0.207755</td>\n",
       "      <td>7.922446e-01</td>\n",
       "      <td>0</td>\n",
       "      <td>0.507514</td>\n",
       "      <td>0.492486</td>\n",
       "    </tr>\n",
       "    <tr>\n",
       "      <th>32578</th>\n",
       "      <td>176366</td>\n",
       "      <td>0</td>\n",
       "      <td>@user photoshop my nig</td>\n",
       "      <td>photoshop nig</td>\n",
       "      <td>1</td>\n",
       "      <td>[]</td>\n",
       "      <td>NaN</td>\n",
       "      <td>1</td>\n",
       "      <td>0.499999</td>\n",
       "      <td>0.500001</td>\n",
       "      <td>0</td>\n",
       "      <td>0.987519</td>\n",
       "      <td>1.248107e-02</td>\n",
       "      <td>1</td>\n",
       "      <td>0.358460</td>\n",
       "      <td>0.641540</td>\n",
       "    </tr>\n",
       "    <tr>\n",
       "      <th>32579</th>\n",
       "      <td>176384</td>\n",
       "      <td>0</td>\n",
       "      <td>And mad hoes you can ask Beavis I get nothing ...</td>\n",
       "      <td>mad hoe ask beavis get nothing butthead</td>\n",
       "      <td>0</td>\n",
       "      <td>[]</td>\n",
       "      <td>NaN</td>\n",
       "      <td>1</td>\n",
       "      <td>0.499999</td>\n",
       "      <td>0.500001</td>\n",
       "      <td>1</td>\n",
       "      <td>0.452294</td>\n",
       "      <td>5.477059e-01</td>\n",
       "      <td>1</td>\n",
       "      <td>0.342576</td>\n",
       "      <td>0.657424</td>\n",
       "    </tr>\n",
       "    <tr>\n",
       "      <th>32580</th>\n",
       "      <td>176385</td>\n",
       "      <td>0</td>\n",
       "      <td>Because child concentration camps were not bad...</td>\n",
       "      <td>child concentration camp bad enough trump admi...</td>\n",
       "      <td>0</td>\n",
       "      <td>[]</td>\n",
       "      <td>NaN</td>\n",
       "      <td>0</td>\n",
       "      <td>0.500002</td>\n",
       "      <td>0.499998</td>\n",
       "      <td>0</td>\n",
       "      <td>0.683339</td>\n",
       "      <td>3.166607e-01</td>\n",
       "      <td>0</td>\n",
       "      <td>0.617181</td>\n",
       "      <td>0.382819</td>\n",
       "    </tr>\n",
       "    <tr>\n",
       "      <th>32581</th>\n",
       "      <td>176387</td>\n",
       "      <td>1</td>\n",
       "      <td>@user @user You didn't recognize the irony of ...</td>\n",
       "      <td>recognize irony use method ignorant muslim</td>\n",
       "      <td>2</td>\n",
       "      <td>[]</td>\n",
       "      <td>NaN</td>\n",
       "      <td>1</td>\n",
       "      <td>0.499999</td>\n",
       "      <td>0.500001</td>\n",
       "      <td>1</td>\n",
       "      <td>0.005041</td>\n",
       "      <td>9.949594e-01</td>\n",
       "      <td>1</td>\n",
       "      <td>0.296595</td>\n",
       "      <td>0.703405</td>\n",
       "    </tr>\n",
       "  </tbody>\n",
       "</table>\n",
       "<p>30282 rows × 16 columns</p>\n",
       "</div>"
      ],
      "text/plain": [
       "       Unnamed: 0  label                                              tweet  \\\n",
       "0            8886      0   @user #cinemaaawards final rehearsals!! geari...   \n",
       "2           18952      0  child attacked by alligator at walt disney wor...   \n",
       "3           12485      0                 me rn cause school is over soon      \n",
       "4            5879      0       is it #good to #sleep when  ?  #good #sleep    \n",
       "5           31817      0  hi @user we hear you're coming to mk  . where ...   \n",
       "...           ...    ...                                                ...   \n",
       "32577      176360      0  Even liberals are humiliated by Charlie Rangel...   \n",
       "32578      176366      0                             @user photoshop my nig   \n",
       "32579      176384      0  And mad hoes you can ask Beavis I get nothing ...   \n",
       "32580      176385      0  Because child concentration camps were not bad...   \n",
       "32581      176387      1  @user @user You didn't recognize the irony of ...   \n",
       "\n",
       "                                           tweet_cleaned  user_handle  \\\n",
       "0           final gear evening butterfly stage hope like            1   \n",
       "2                    child attack alligator disney world            0   \n",
       "3                                right cause school soon            0   \n",
       "4                                  good sleep good sleep            0   \n",
       "5                                           hi hear come            1   \n",
       "...                                                  ...          ...   \n",
       "32577  even liberal humiliate charlie claim gop back ...            0   \n",
       "32578                                      photoshop nig            1   \n",
       "32579            mad hoe ask beavis get nothing butthead            0   \n",
       "32580  child concentration camp bad enough trump admi...            0   \n",
       "32581         recognize irony use method ignorant muslim            2   \n",
       "\n",
       "                                           hashtags emojis  clf_tfidf  \\\n",
       "0      ['#cinemaaawards', '#butterflies', '#stage']    NaN          0   \n",
       "2                              ['#waltdisneyworld']    NaN          0   \n",
       "3                                                []    NaN          0   \n",
       "4            ['#good', '#sleep', '#good', '#sleep']    NaN          0   \n",
       "5                                                []    NaN          0   \n",
       "...                                             ...    ...        ...   \n",
       "32577                                     ['#8217']    NaN          0   \n",
       "32578                                            []    NaN          1   \n",
       "32579                                            []    NaN          1   \n",
       "32580                                            []    NaN          0   \n",
       "32581                                            []    NaN          1   \n",
       "\n",
       "       prob_tfidf_0  prob_tfidf_1  clf_w2v  prob_w2v_0    prob_w2v_1  \\\n",
       "0          0.500004      0.499996        0    0.999974  2.554390e-05   \n",
       "2          0.500004      0.499996        0    0.997782  2.218165e-03   \n",
       "3          0.500001      0.499999        0    0.999382  6.181024e-04   \n",
       "4          0.500001      0.499999        0    1.000000  6.932741e-11   \n",
       "5          0.500003      0.499997        0    1.000000  6.548846e-09   \n",
       "...             ...           ...      ...         ...           ...   \n",
       "32577      0.500001      0.499999        1    0.207755  7.922446e-01   \n",
       "32578      0.499999      0.500001        0    0.987519  1.248107e-02   \n",
       "32579      0.499999      0.500001        1    0.452294  5.477059e-01   \n",
       "32580      0.500002      0.499998        0    0.683339  3.166607e-01   \n",
       "32581      0.499999      0.500001        1    0.005041  9.949594e-01   \n",
       "\n",
       "       clf_tfidf_11  prob_tfidf_11_0  prob_tfidf_11_1  \n",
       "0                 0         0.853726         0.146274  \n",
       "2                 0         0.868091         0.131909  \n",
       "3                 0         0.595383         0.404617  \n",
       "4                 0         0.637034         0.362966  \n",
       "5                 0         0.806315         0.193685  \n",
       "...             ...              ...              ...  \n",
       "32577             0         0.507514         0.492486  \n",
       "32578             1         0.358460         0.641540  \n",
       "32579             1         0.342576         0.657424  \n",
       "32580             0         0.617181         0.382819  \n",
       "32581             1         0.296595         0.703405  \n",
       "\n",
       "[30282 rows x 16 columns]"
      ]
     },
     "execution_count": 57,
     "metadata": {},
     "output_type": "execute_result"
    }
   ],
   "source": [
    "abovepointfive"
   ]
  },
  {
   "cell_type": "code",
   "execution_count": null,
   "id": "b1078197-e7dc-469a-b45c-7a90b930a73b",
   "metadata": {},
   "outputs": [],
   "source": []
  }
 ],
 "metadata": {
  "kernelspec": {
   "display_name": "Python 3 (ipykernel)",
   "language": "python",
   "name": "python3"
  },
  "language_info": {
   "codemirror_mode": {
    "name": "ipython",
    "version": 3
   },
   "file_extension": ".py",
   "mimetype": "text/x-python",
   "name": "python",
   "nbconvert_exporter": "python",
   "pygments_lexer": "ipython3",
   "version": "3.13.2"
  }
 },
 "nbformat": 4,
 "nbformat_minor": 5
}
