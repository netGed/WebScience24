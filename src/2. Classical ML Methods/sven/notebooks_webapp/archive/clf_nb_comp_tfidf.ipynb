{
 "cells": [
  {
   "cell_type": "markdown",
   "id": "43ed85e8-ce93-4608-809c-ced03404a53f",
   "metadata": {},
   "source": [
    "# TF-IDF Complement NB"
   ]
  },
  {
   "cell_type": "code",
   "execution_count": 1,
   "id": "f8a0cca7-9142-443c-a298-a48987c93b21",
   "metadata": {},
   "outputs": [],
   "source": [
    "import joblib"
   ]
  },
  {
   "cell_type": "code",
   "execution_count": 2,
   "id": "22815789-1e36-4b4b-af54-462b5fc3b83c",
   "metadata": {},
   "outputs": [],
   "source": [
    "vectorizer_tfidf = joblib.load('joblib_models/vectorizer_tfidf.joblib')"
   ]
  },
  {
   "cell_type": "code",
   "execution_count": 3,
   "id": "a2720195-6577-4958-bf97-fe3a6e28e995",
   "metadata": {},
   "outputs": [],
   "source": [
    "clf_nb_comp = joblib.load('joblib_models/model_nb_tfidf_comp.joblib')"
   ]
  },
  {
   "cell_type": "markdown",
   "id": "2d85abca-e4f9-41b8-96f4-0e82be00042f",
   "metadata": {},
   "source": [
    "#### Test mit Beispiel Tweets"
   ]
  },
  {
   "cell_type": "code",
   "execution_count": 7,
   "id": "7fbd4568-2421-44ef-9d7d-bf93c6e7628e",
   "metadata": {},
   "outputs": [],
   "source": [
    "tweet_hs = ['i hate jews so much i wish the holocaust actually happened']\n",
    "tweet_no_hs = ['today i start breaking in a new pair of docs have mercy on my soles']"
   ]
  },
  {
   "cell_type": "code",
   "execution_count": 8,
   "id": "a7bcb0ea-7447-4ed2-a6d8-4b30cfa67e06",
   "metadata": {},
   "outputs": [
    {
     "name": "stdout",
     "output_type": "stream",
     "text": [
      "[1]\n"
     ]
    }
   ],
   "source": [
    "print(clf_nb_comp.predict(vectorizer_tfidf.transform(tweet_hs)))"
   ]
  },
  {
   "cell_type": "code",
   "execution_count": 9,
   "id": "7d1c5e81-401d-4104-90bc-7b32ef59f621",
   "metadata": {},
   "outputs": [
    {
     "name": "stdout",
     "output_type": "stream",
     "text": [
      "[0]\n"
     ]
    }
   ],
   "source": [
    "print(clf_nb_comp.predict(vectorizer_tfidf.transform(tweet_no_hs)))"
   ]
  }
 ],
 "metadata": {
  "kernelspec": {
   "display_name": "Python 3 (ipykernel)",
   "language": "python",
   "name": "python3"
  },
  "language_info": {
   "codemirror_mode": {
    "name": "ipython",
    "version": 3
   },
   "file_extension": ".py",
   "mimetype": "text/x-python",
   "name": "python",
   "nbconvert_exporter": "python",
   "pygments_lexer": "ipython3",
   "version": "3.9.20"
  }
 },
 "nbformat": 4,
 "nbformat_minor": 5
}
