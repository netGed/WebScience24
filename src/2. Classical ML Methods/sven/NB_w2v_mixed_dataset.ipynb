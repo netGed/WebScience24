{
 "cells": [
  {
   "cell_type": "code",
   "execution_count": 1,
   "id": "0d9ec666-3144-4ba2-976b-c91b5fe258bf",
   "metadata": {},
   "outputs": [],
   "source": [
    "from sklearn.naive_bayes import MultinomialNB # ideal für counting features wie bow oder tfidf https://towardsdatascience.com/why-how-to-use-the-naive-bayes-algorithms-in-a-regulated-industry-with-sklearn-python-code-dbd8304ab2cf\n",
    "from sklearn.naive_bayes import GaussianNB # für Features in Decimal Form geeignet\n",
    "from sklearn.naive_bayes import ComplementNB # ähnlich wie Multinomial, soll sich aber besser für imbalanced data eignen\n",
    "from sklearn.metrics import (\n",
    "    accuracy_score,\n",
    "    confusion_matrix,\n",
    "    ConfusionMatrixDisplay,\n",
    "    f1_score,\n",
    "    recall_score,\n",
    "    precision_score,\n",
    "    classification_report,\n",
    ")\n",
    "import pandas as pd\n",
    "from sklearn.model_selection import GridSearchCV, train_test_split, cross_val_score"
   ]
  },
  {
   "cell_type": "code",
   "execution_count": 2,
   "id": "f636600b-8b3e-4bba-9b02-5f3733f11b4d",
   "metadata": {},
   "outputs": [],
   "source": [
    "def evaluate(y_test,y_pred):\n",
    "    accuracy = accuracy_score(y_test, y_pred)\n",
    "    f1 = f1_score(y_test, y_pred)\n",
    "    recall = recall_score(y_test, y_pred)\n",
    "    precision = precision_score(y_test, y_pred)\n",
    "    print(\"Accuracy:\", accuracy)\n",
    "    print(\"F1 Score:\", f1)\n",
    "    print(\"Recall:\", recall)\n",
    "    print(\"Precision:\", precision)\n",
    "    print(pd.DataFrame(confusion_matrix(y_test, y_pred)))"
   ]
  },
  {
   "cell_type": "markdown",
   "id": "bcce5a26-cdc4-46a9-83d1-bf54813f34e4",
   "metadata": {},
   "source": [
    "## Evaluation neue Vectorize-Funktionen (08.12.)"
   ]
  },
  {
   "cell_type": "code",
   "execution_count": 3,
   "id": "e5d1b5ff-2a21-4fc2-80d0-0ab9d8cd8671",
   "metadata": {},
   "outputs": [],
   "source": [
    "%run ../../functions/vectorize_functions.py"
   ]
  },
  {
   "cell_type": "code",
   "execution_count": 5,
   "id": "512a7731-bbeb-4a1a-89f5-eb2b208d84c9",
   "metadata": {},
   "outputs": [],
   "source": [
    "filepath_name = (('../../../data/mixed_dataset/train_cleaned.csv'))\n",
    "df_cleaned = pd.read_csv(filepath_name, encoding='utf-8')"
   ]
  },
  {
   "cell_type": "code",
   "execution_count": 6,
   "id": "d73a06de-70e1-4076-907b-66d3205c5922",
   "metadata": {},
   "outputs": [],
   "source": [
    "X_train, X_test, y_train, y_test = vectorize_w2v(df=df_cleaned, text_column='tweet_cleaned', \n",
    "                                                                                 label_column=\"label\")"
   ]
  },
  {
   "cell_type": "code",
   "execution_count": 7,
   "id": "2a198a29-26dc-4c6c-8155-b307c8bd7c16",
   "metadata": {},
   "outputs": [
    {
     "name": "stdout",
     "output_type": "stream",
     "text": [
      "(57332, 300)\n",
      "(24572, 300)\n",
      "(57332,)\n",
      "(24572,)\n",
      "<class 'numpy.ndarray'>\n"
     ]
    }
   ],
   "source": [
    "print(X_train.shape)\n",
    "print(X_test.shape)\n",
    "print(y_train.shape)\n",
    "print(y_test.shape)\n",
    "print(type(X_train))"
   ]
  },
  {
   "cell_type": "markdown",
   "id": "8fd28bfd-3511-4e24-be55-68d5dc363cfa",
   "metadata": {},
   "source": [
    "## GaussianNB"
   ]
  },
  {
   "cell_type": "code",
   "execution_count": 8,
   "id": "d012c6c6-6df3-4d6d-acf6-c1a0456995f7",
   "metadata": {},
   "outputs": [],
   "source": [
    "clf = GaussianNB()\n",
    "clf.fit(X_train,y_train)\n",
    "y_pred = clf.predict(X_test)"
   ]
  },
  {
   "cell_type": "code",
   "execution_count": 9,
   "id": "9d37edd1-4623-4c6d-af74-07119a2e79ba",
   "metadata": {},
   "outputs": [
    {
     "name": "stdout",
     "output_type": "stream",
     "text": [
      "Accuracy: 0.6369037929350481\n",
      "F1 Score: 0.4260903126206098\n",
      "Recall: 0.7498302014942269\n",
      "Precision: 0.29760086261119595\n",
      "       0     1\n",
      "0  12338  7817\n",
      "1   1105  3312\n"
     ]
    }
   ],
   "source": [
    "evaluate(y_test, y_pred)"
   ]
  },
  {
   "cell_type": "code",
   "execution_count": 10,
   "id": "131f8528-a1a8-43a9-9bf5-f6ee57762b26",
   "metadata": {},
   "outputs": [
    {
     "name": "stdout",
     "output_type": "stream",
     "text": [
      "Fitting 3 folds for each of 24 candidates, totalling 72 fits\n",
      "          priors  var_smoothing  train_accuracy  train_recall  \\\n",
      "0           None   1.000000e-10        0.649201      0.747967   \n",
      "1           None   1.000000e-09        0.649201      0.747967   \n",
      "2           None   1.000000e-02        0.646114      0.752130   \n",
      "3           None   1.000000e-01        0.623666      0.782823   \n",
      "4           None   2.500000e-01        0.600241      0.809256   \n",
      "5           None   5.000000e-01        0.581386      0.826975   \n",
      "6           None   7.500000e-01        0.576205      0.831042   \n",
      "7           None   1.000000e+00        0.576606      0.827169   \n",
      "8   [0.25, 0.75]   1.000000e-10        0.602979      0.802188   \n",
      "9   [0.25, 0.75]   1.000000e-09        0.602979      0.802188   \n",
      "10  [0.25, 0.75]   1.000000e-02        0.598619      0.807901   \n",
      "11  [0.25, 0.75]   1.000000e-01        0.567257      0.841983   \n",
      "12  [0.25, 0.75]   2.500000e-01        0.528850      0.874032   \n",
      "13  [0.25, 0.75]   5.000000e-01        0.488244      0.902498   \n",
      "14  [0.25, 0.75]   7.500000e-01        0.463354      0.921379   \n",
      "15  [0.25, 0.75]   1.000000e+00        0.443871      0.932707   \n",
      "16    [0.5, 0.5]   1.000000e-10        0.621939      0.780209   \n",
      "17    [0.5, 0.5]   1.000000e-09        0.621939      0.780209   \n",
      "18    [0.5, 0.5]   1.000000e-02        0.618764      0.784663   \n",
      "19    [0.5, 0.5]   1.000000e-01        0.591136      0.818358   \n",
      "20    [0.5, 0.5]   2.500000e-01        0.558833      0.849923   \n",
      "21    [0.5, 0.5]   5.000000e-01        0.525518      0.875387   \n",
      "22    [0.5, 0.5]   7.500000e-01        0.506384      0.886909   \n",
      "23    [0.5, 0.5]   1.000000e+00        0.494384      0.894946   \n",
      "\n",
      "    train_precision  train_f1  test_accuracy  test_recall  test_precision  \\\n",
      "0          0.306135  0.434453       0.636904     0.749830        0.297601   \n",
      "1          0.306135  0.434453       0.636904     0.749830        0.297601   \n",
      "2          0.304663  0.433664       0.633282     0.754811        0.296040   \n",
      "3          0.294879  0.428390       0.611346     0.781752        0.286818   \n",
      "4          0.285188  0.421748       0.589533     0.807788        0.278641   \n",
      "5          0.277720  0.415803       0.572237     0.825900        0.272442   \n",
      "6          0.275670  0.414008       0.566661     0.827485        0.269921   \n",
      "7          0.275296  0.413104       0.568777     0.823636        0.270383   \n",
      "8          0.285650  0.421285       0.589533     0.806656        0.278468   \n",
      "9          0.285650  0.421285       0.589533     0.806656        0.278468   \n",
      "10         0.284080  0.420353       0.584812     0.809599        0.276416   \n",
      "11         0.272824  0.412113       0.554778     0.844238        0.266719   \n",
      "12         0.259860  0.400612       0.517988     0.877745        0.255385   \n",
      "13         0.247543  0.388521       0.481280     0.906498        0.245088   \n",
      "14         0.241088  0.382176       0.456048     0.922345        0.238287   \n",
      "15         0.235976  0.376657       0.436961     0.934797        0.233594   \n",
      "16         0.293413  0.426451       0.608782     0.783564        0.285608   \n",
      "17         0.293413  0.426451       0.608782     0.783564        0.285608   \n",
      "18         0.292173  0.425798       0.605608     0.788771        0.284594   \n",
      "19         0.281574  0.418986       0.577690     0.820919        0.274447   \n",
      "20         0.269918  0.409718       0.547005     0.849219        0.263858   \n",
      "21         0.258632  0.399293       0.516401     0.873444        0.254117   \n",
      "22         0.252397  0.392964       0.499308     0.890650        0.249714   \n",
      "23         0.248829  0.389392       0.487791     0.898800        0.246446   \n",
      "\n",
      "     test_f1  \n",
      "0   0.426090  \n",
      "1   0.426090  \n",
      "2   0.425282  \n",
      "3   0.419665  \n",
      "4   0.414354  \n",
      "5   0.409727  \n",
      "6   0.407061  \n",
      "7   0.407117  \n",
      "8   0.414013  \n",
      "9   0.414013  \n",
      "10  0.412124  \n",
      "11  0.405370  \n",
      "12  0.395653  \n",
      "13  0.385853  \n",
      "14  0.378730  \n",
      "15  0.373784  \n",
      "16  0.418627  \n",
      "17  0.418627  \n",
      "18  0.418272  \n",
      "19  0.411368  \n",
      "20  0.402619  \n",
      "21  0.393694  \n",
      "22  0.390065  \n",
      "23  0.386826  \n"
     ]
    }
   ],
   "source": [
    "results_list = []\n",
    "\n",
    "param_grid = {\n",
    "    'priors' : [None, [.25,.75], [.5,.5]],\n",
    "    'var_smoothing' : [1.0e-10,1e-9, 0.01, 0.1, 0.25, 0.5, 0.75, 1]\n",
    "}\n",
    "\n",
    "nb = GaussianNB()\n",
    "\n",
    "grid_search = GridSearchCV(estimator=nb, param_grid=param_grid, scoring='f1', cv=3, verbose=2, n_jobs=-1)\n",
    "\n",
    "grid_search.fit(X_train, y_train)\n",
    "\n",
    "for params in grid_search.cv_results_['params']:\n",
    "    model = GaussianNB(**params)  \n",
    "    model.fit(X_train, y_train)  \n",
    "\n",
    "    y_train_pred = model.predict(X_train)\n",
    "\n",
    "    y_test_pred = model.predict(X_test)\n",
    "\n",
    "    train_accuracy = accuracy_score(y_train, y_train_pred)\n",
    "    train_recall = recall_score(y_train, y_train_pred)\n",
    "    train_precision = precision_score(y_train, y_train_pred)\n",
    "    train_f1 = f1_score(y_train, y_train_pred)\n",
    "\n",
    "    test_accuracy = accuracy_score(y_test, y_test_pred)\n",
    "    test_recall = recall_score(y_test, y_test_pred)\n",
    "    test_precision = precision_score(y_test, y_test_pred)\n",
    "    test_f1 = f1_score(y_test, y_test_pred)\n",
    "\n",
    "    result_dict = {\n",
    "        'priors': params['priors'],\n",
    "        'var_smoothing': params['var_smoothing'],\n",
    "        'train_accuracy': train_accuracy,\n",
    "        'train_recall': train_recall,\n",
    "        'train_precision': train_precision,\n",
    "        'train_f1': train_f1,\n",
    "        'test_accuracy': test_accuracy,\n",
    "        'test_recall': test_recall,\n",
    "        'test_precision': test_precision,\n",
    "        'test_f1': test_f1\n",
    "    }\n",
    "\n",
    "    results_list.append(result_dict)\n",
    "\n",
    "results_df = pd.DataFrame(results_list)\n",
    "\n",
    "results_df.to_csv('eval_data/nb_grid_w2v_mixed_dataset.csv', index=False)\n",
    "\n",
    "print(results_df)\n"
   ]
  }
 ],
 "metadata": {
  "kernelspec": {
   "display_name": "Python 3 (ipykernel)",
   "language": "python",
   "name": "python3"
  },
  "language_info": {
   "codemirror_mode": {
    "name": "ipython",
    "version": 3
   },
   "file_extension": ".py",
   "mimetype": "text/x-python",
   "name": "python",
   "nbconvert_exporter": "python",
   "pygments_lexer": "ipython3",
   "version": "3.9.20"
  }
 },
 "nbformat": 4,
 "nbformat_minor": 5
}
