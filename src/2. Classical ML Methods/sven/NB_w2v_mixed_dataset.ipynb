{
 "cells": [
  {
   "cell_type": "code",
   "execution_count": 1,
   "id": "0d9ec666-3144-4ba2-976b-c91b5fe258bf",
   "metadata": {},
   "outputs": [],
   "source": [
    "from sklearn.naive_bayes import MultinomialNB # ideal für counting features wie bow oder tfidf https://towardsdatascience.com/why-how-to-use-the-naive-bayes-algorithms-in-a-regulated-industry-with-sklearn-python-code-dbd8304ab2cf\n",
    "from sklearn.naive_bayes import GaussianNB # für Features in Decimal Form geeignet\n",
    "from sklearn.naive_bayes import ComplementNB # ähnlich wie Multinomial, soll sich aber besser für imbalanced data eignen\n",
    "from sklearn.metrics import (\n",
    "    accuracy_score,\n",
    "    confusion_matrix,\n",
    "    ConfusionMatrixDisplay,\n",
    "    f1_score,\n",
    "    recall_score,\n",
    "    precision_score,\n",
    "    classification_report,\n",
    ")\n",
    "import pandas as pd\n",
    "from sklearn.model_selection import GridSearchCV, train_test_split, cross_val_score"
   ]
  },
  {
   "cell_type": "code",
   "execution_count": 2,
   "id": "f636600b-8b3e-4bba-9b02-5f3733f11b4d",
   "metadata": {},
   "outputs": [],
   "source": [
    "def evaluate(y_test,y_pred):\n",
    "    accuracy = accuracy_score(y_test, y_pred)\n",
    "    f1 = f1_score(y_test, y_pred)\n",
    "    recall = recall_score(y_test, y_pred)\n",
    "    precision = precision_score(y_test, y_pred)\n",
    "    print(\"Accuracy:\", accuracy)\n",
    "    print(\"F1 Score:\", f1)\n",
    "    print(\"Recall:\", recall)\n",
    "    print(\"Precision:\", precision)\n",
    "    print(pd.DataFrame(confusion_matrix(y_test, y_pred)))"
   ]
  },
  {
   "cell_type": "markdown",
   "id": "bcce5a26-cdc4-46a9-83d1-bf54813f34e4",
   "metadata": {},
   "source": [
    "## Evaluation neue Vectorize-Funktionen (08.12.)"
   ]
  },
  {
   "cell_type": "code",
   "execution_count": 3,
   "id": "e5d1b5ff-2a21-4fc2-80d0-0ab9d8cd8671",
   "metadata": {},
   "outputs": [],
   "source": [
    "%run ../../functions/vectorize_functions.py"
   ]
  },
  {
   "cell_type": "code",
   "execution_count": 4,
   "id": "512a7731-bbeb-4a1a-89f5-eb2b208d84c9",
   "metadata": {},
   "outputs": [],
   "source": [
    "filepath_name = (('../../../data/mixed_dataset/train_cleaned.csv'))\n",
    "df_cleaned = pd.read_csv(filepath_name, encoding='utf-8')"
   ]
  },
  {
   "cell_type": "code",
   "execution_count": 5,
   "id": "d73a06de-70e1-4076-907b-66d3205c5922",
   "metadata": {},
   "outputs": [],
   "source": [
    "X_train, X_test, y_train, y_test = vectorize_w2v(df=df_cleaned, text_column='tweet_cleaned', \n",
    "                                                                                 label_column=\"label\")"
   ]
  },
  {
   "cell_type": "code",
   "execution_count": 6,
   "id": "2a198a29-26dc-4c6c-8155-b307c8bd7c16",
   "metadata": {},
   "outputs": [
    {
     "name": "stdout",
     "output_type": "stream",
     "text": [
      "(57332, 300)\n",
      "(24572, 300)\n",
      "(57332,)\n",
      "(24572,)\n",
      "<class 'numpy.ndarray'>\n"
     ]
    }
   ],
   "source": [
    "print(X_train.shape)\n",
    "print(X_test.shape)\n",
    "print(y_train.shape)\n",
    "print(y_test.shape)\n",
    "print(type(X_train))"
   ]
  },
  {
   "cell_type": "markdown",
   "id": "8fd28bfd-3511-4e24-be55-68d5dc363cfa",
   "metadata": {},
   "source": [
    "## GaussianNB"
   ]
  },
  {
   "cell_type": "code",
   "execution_count": 7,
   "id": "d012c6c6-6df3-4d6d-acf6-c1a0456995f7",
   "metadata": {},
   "outputs": [],
   "source": [
    "clf = GaussianNB()\n",
    "clf.fit(X_train,y_train)\n",
    "y_pred = clf.predict(X_test)"
   ]
  },
  {
   "cell_type": "code",
   "execution_count": 8,
   "id": "9d37edd1-4623-4c6d-af74-07119a2e79ba",
   "metadata": {},
   "outputs": [
    {
     "name": "stdout",
     "output_type": "stream",
     "text": [
      "Accuracy: 0.6370258831189972\n",
      "F1 Score: 0.42469199509772304\n",
      "Recall: 0.7453022413402762\n",
      "Precision: 0.29695110950748693\n",
      "       0     1\n",
      "0  12361  7794\n",
      "1   1125  3292\n"
     ]
    }
   ],
   "source": [
    "evaluate(y_test, y_pred)"
   ]
  },
  {
   "cell_type": "code",
   "execution_count": 9,
   "id": "131f8528-a1a8-43a9-9bf5-f6ee57762b26",
   "metadata": {},
   "outputs": [
    {
     "name": "stdout",
     "output_type": "stream",
     "text": [
      "Fitting 3 folds for each of 24 candidates, totalling 72 fits\n",
      "   model        priors  var_smoothing  train_accuracy  train_recall  \\\n",
      "0    W2V          None   1.000000e-10        0.649480      0.744675   \n",
      "1    W2V          None   1.000000e-09        0.649480      0.744675   \n",
      "2    W2V          None   1.000000e-02        0.646951      0.749032   \n",
      "3    W2V          None   1.000000e-01        0.626317      0.777111   \n",
      "4    W2V          None   2.500000e-01        0.604218      0.802285   \n",
      "5    W2V          None   5.000000e-01        0.585973      0.822909   \n",
      "6    W2V          None   7.500000e-01        0.580008      0.827459   \n",
      "7    W2V          None   1.000000e+00        0.579798      0.824264   \n",
      "8    W2V  [0.25, 0.75]   1.000000e-10        0.603729      0.800542   \n",
      "9    W2V  [0.25, 0.75]   1.000000e-09        0.603729      0.800542   \n",
      "10   W2V  [0.25, 0.75]   1.000000e-02        0.600049      0.805480   \n",
      "11   W2V  [0.25, 0.75]   1.000000e-01        0.570711      0.837820   \n",
      "12   W2V  [0.25, 0.75]   2.500000e-01        0.534867      0.870740   \n",
      "13   W2V  [0.25, 0.75]   5.000000e-01        0.496058      0.898431   \n",
      "14   W2V  [0.25, 0.75]   7.500000e-01        0.471133      0.917119   \n",
      "15   W2V  [0.25, 0.75]   1.000000e+00        0.452505      0.929996   \n",
      "16   W2V    [0.5, 0.5]   1.000000e-10        0.623421      0.779435   \n",
      "17   W2V    [0.5, 0.5]   1.000000e-09        0.623421      0.779435   \n",
      "18   W2V    [0.5, 0.5]   1.000000e-02        0.620282      0.783501   \n",
      "19   W2V    [0.5, 0.5]   1.000000e-01        0.594223      0.814775   \n",
      "20   W2V    [0.5, 0.5]   2.500000e-01        0.564083      0.844888   \n",
      "21   W2V    [0.5, 0.5]   5.000000e-01        0.531989      0.870740   \n",
      "22   W2V    [0.5, 0.5]   7.500000e-01        0.513326      0.883424   \n",
      "23   W2V    [0.5, 0.5]   1.000000e+00        0.501517      0.892138   \n",
      "\n",
      "    train_precision  train_f1  test_accuracy  test_recall  test_precision  \\\n",
      "0          0.305805  0.433564       0.637026     0.745302        0.296951   \n",
      "1          0.305805  0.433564       0.637026     0.745302        0.296951   \n",
      "2          0.304747  0.433232       0.634991     0.750057        0.296386   \n",
      "3          0.295639  0.428327       0.615375     0.779941        0.288913   \n",
      "4          0.286366  0.422077       0.594416     0.804619        0.280793   \n",
      "5          0.279508  0.417282       0.577120     0.822730        0.274430   \n",
      "6          0.277081  0.415147       0.571504     0.828390        0.272450   \n",
      "7          0.276495  0.414087       0.571993     0.824089        0.272048   \n",
      "8          0.285823  0.421246       0.589940     0.803713        0.278235   \n",
      "9          0.285823  0.421246       0.589940     0.803713        0.278235   \n",
      "10         0.284508  0.420491       0.587091     0.809826        0.277653   \n",
      "11         0.273916  0.412854       0.560109     0.843559        0.269142   \n",
      "12         0.261996  0.402795       0.524215     0.875707        0.257695   \n",
      "13         0.249960  0.391106       0.486733     0.903554        0.246708   \n",
      "14         0.243265  0.384533       0.463495     0.921893        0.240804   \n",
      "15         0.238509  0.379652       0.444775     0.934571        0.236129   \n",
      "16         0.294204  0.427169       0.609556     0.778356        0.285240   \n",
      "17         0.294204  0.427169       0.609556     0.778356        0.285240   \n",
      "18         0.292912  0.426411       0.606585     0.783790        0.284377   \n",
      "19         0.282705  0.419764       0.583143     0.818202        0.276850   \n",
      "20         0.271703  0.411177       0.554086     0.849672        0.267194   \n",
      "21         0.260742  0.401312       0.522749     0.874349        0.256884   \n",
      "22         0.254704  0.395406       0.506959     0.887480        0.252285   \n",
      "23         0.251206  0.392027       0.495279     0.895178        0.248789   \n",
      "\n",
      "     test_f1  \n",
      "0   0.424692  \n",
      "1   0.424692  \n",
      "2   0.424880  \n",
      "3   0.421639  \n",
      "4   0.416305  \n",
      "5   0.411575  \n",
      "6   0.410041  \n",
      "7   0.409058  \n",
      "8   0.413367  \n",
      "9   0.413367  \n",
      "10  0.413526  \n",
      "11  0.408083  \n",
      "12  0.398209  \n",
      "13  0.387589  \n",
      "14  0.381863  \n",
      "15  0.377004  \n",
      "16  0.417486  \n",
      "17  0.417486  \n",
      "18  0.417335  \n",
      "19  0.413714  \n",
      "20  0.406543  \n",
      "21  0.397100  \n",
      "22  0.392884  \n",
      "23  0.389365  \n"
     ]
    }
   ],
   "source": [
    "results_list = []\n",
    "\n",
    "param_grid = {\n",
    "    'priors' : [None, [.25,.75], [.5,.5]],\n",
    "    'var_smoothing' : [1.0e-10,1e-9, 0.01, 0.1, 0.25, 0.5, 0.75, 1]\n",
    "}\n",
    "\n",
    "nb = GaussianNB()\n",
    "\n",
    "grid_search = GridSearchCV(estimator=nb, param_grid=param_grid, scoring='f1', cv=3, verbose=2, n_jobs=-1)\n",
    "\n",
    "grid_search.fit(X_train, y_train)\n",
    "\n",
    "for params in grid_search.cv_results_['params']:\n",
    "    model = GaussianNB(**params)  \n",
    "    model.fit(X_train, y_train)  \n",
    "\n",
    "    y_train_pred = model.predict(X_train)\n",
    "\n",
    "    y_test_pred = model.predict(X_test)\n",
    "\n",
    "    train_accuracy = accuracy_score(y_train, y_train_pred)\n",
    "    train_recall = recall_score(y_train, y_train_pred)\n",
    "    train_precision = precision_score(y_train, y_train_pred)\n",
    "    train_f1 = f1_score(y_train, y_train_pred)\n",
    "\n",
    "    test_accuracy = accuracy_score(y_test, y_test_pred)\n",
    "    test_recall = recall_score(y_test, y_test_pred)\n",
    "    test_precision = precision_score(y_test, y_test_pred)\n",
    "    test_f1 = f1_score(y_test, y_test_pred)\n",
    "\n",
    "    result_dict = {\n",
    "        'model': 'W2V',\n",
    "        'priors': params['priors'],\n",
    "        'var_smoothing': params['var_smoothing'],\n",
    "        'train_accuracy': train_accuracy,\n",
    "        'train_recall': train_recall,\n",
    "        'train_precision': train_precision,\n",
    "        'train_f1': train_f1,\n",
    "        'test_accuracy': test_accuracy,\n",
    "        'test_recall': test_recall,\n",
    "        'test_precision': test_precision,\n",
    "        'test_f1': test_f1\n",
    "    }\n",
    "\n",
    "    results_list.append(result_dict)\n",
    "\n",
    "results_df = pd.DataFrame(results_list)\n",
    "\n",
    "results_df.to_csv('eval_data/nb_grid_w2v_mixed_dataset.csv', index=False)\n",
    "\n",
    "print(results_df)\n"
   ]
  },
  {
   "cell_type": "code",
   "execution_count": null,
   "id": "5d23d991-89fb-4f58-8b17-0ae489e9d8c8",
   "metadata": {},
   "outputs": [],
   "source": []
  }
 ],
 "metadata": {
  "kernelspec": {
   "display_name": "Python 3 (ipykernel)",
   "language": "python",
   "name": "python3"
  },
  "language_info": {
   "codemirror_mode": {
    "name": "ipython",
    "version": 3
   },
   "file_extension": ".py",
   "mimetype": "text/x-python",
   "name": "python",
   "nbconvert_exporter": "python",
   "pygments_lexer": "ipython3",
   "version": "3.9.20"
  }
 },
 "nbformat": 4,
 "nbformat_minor": 5
}
