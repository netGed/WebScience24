{
 "cells": [
  {
   "cell_type": "code",
   "execution_count": 1,
   "metadata": {},
   "outputs": [
    {
     "data": {
      "text/plain": [
       "WindowsPath('C:/Users/Nasiba/Documents/1 Master Data Science/Projektpraktikum/WebScience24/webapp/backend/app')"
      ]
     },
     "execution_count": 1,
     "metadata": {},
     "output_type": "execute_result"
    }
   ],
   "source": [
    "import sys\n",
    "from pathlib import Path\n",
    "\n",
    "# Zum übergeordneten Ordner 'src' wechseln\n",
    "current_path = Path().resolve()\n",
    "src_path = current_path.parents[1]  # Zwei Stufen nach oben\n",
    "\n",
    "if str(src_path) not in sys.path:\n",
    "    sys.path.append(str(src_path))\n",
    "\n",
    "src_path\n"
   ]
  },
  {
   "cell_type": "code",
   "execution_count": 2,
   "metadata": {},
   "outputs": [],
   "source": [
    "\n",
    "from tensorflow.keras.preprocessing.text import Tokenizer\n",
    "from tensorflow.keras.preprocessing.sequence import pad_sequences\n",
    "import numpy as np\n",
    "from tensorflow.keras.preprocessing.text import tokenizer_from_json\n",
    "import os\n",
    "from tensorflow.keras.models import load_model\n"
   ]
  },
  {
   "cell_type": "code",
   "execution_count": 3,
   "metadata": {},
   "outputs": [],
   "source": [
    "# Vektorisierung funktion manuel da diese speziel für ein Stringeingabe ist\n",
    "def vectorize_glove_test_data_predict(text, glove_path, vector_size=200, max_seq_len=50, tokenizer=None):\n",
    "    \"\"\"\n",
    "    Vektorisiert einen einzelnen Textstring mit vortrainierten GloVe-Embeddings.\n",
    "    \n",
    "    Args:\n",
    "        text (str): Der Eingabetext, der vektorisiert werden soll.\n",
    "        glove_path (str): Pfad zur GloVe-Embeddings-Datei.\n",
    "        vector_size (int, optional): Größe der GloVe-Vektoren (Standard: 200).\n",
    "        max_seq_len (int, optional): Maximale Sequenzlänge für Padding (Standard: 50).\n",
    "        tokenizer (Tokenizer, optional): Der trainierte Tokenizer. Falls None, wird ein neuer erstellt.\n",
    "\n",
    "    Returns:\n",
    "        np.ndarray: Ein 3D-Array mit der Form `(1, max_seq_len, vector_size)`, das direkt für LSTM nutzbar ist.\n",
    "    \"\"\"\n",
    "\n",
    "\n",
    "    glove_embeddings = {}\n",
    "    with open(glove_path, encoding='utf-8') as f:\n",
    "        for line in f:\n",
    "            values = line.split()\n",
    "            word = values[0]\n",
    "            vector = np.asarray(values[1:], dtype='float32')\n",
    "            glove_embeddings[word] = vector\n",
    "\n",
    "\n",
    "    if tokenizer is None:\n",
    "        raise ValueError(\"Ein trainierter Tokenizer muss übergeben werden!\")\n",
    "\n",
    "\n",
    "    X_sequence = tokenizer.texts_to_sequences([text])  # Text in Sequenz umwandeln (Liste mit 1 Element)\n",
    "    \n",
    "\n",
    "    X_padded = pad_sequences(X_sequence, padding='post', maxlen=max_seq_len)\n",
    "\n",
    "    def get_glove_vectors(sequence, glove_embeddings, vector_size, max_seq_len):\n",
    "        vectors = [glove_embeddings.get(tokenizer.index_word.get(idx, ''), np.zeros(vector_size)) for idx in sequence]\n",
    "        \n",
    "        # Padding sicherstellen\n",
    "        if len(vectors) < max_seq_len:\n",
    "            vectors.extend([np.zeros(vector_size)] * (max_seq_len - len(vectors)))\n",
    "        else:\n",
    "            vectors = vectors[:max_seq_len]\n",
    "\n",
    "        return np.array(vectors, dtype=np.float32)\n",
    "\n",
    "\n",
    "    X_vectorized = np.array(get_glove_vectors(X_padded[0], glove_embeddings, vector_size, max_seq_len), dtype=np.float32)\n",
    "\n",
    "    return np.expand_dims(X_vectorized, axis=0)"
   ]
  },
  {
   "cell_type": "code",
   "execution_count": 4,
   "metadata": {},
   "outputs": [],
   "source": [
    "\n",
    "\n",
    "# Gespeicherten Tokenizer laden\n",
    "# Glove Vektoren laden in sample path:\n",
    "tokenizer_path = save_path_model = os.path.abspath(os.path.join(src_path, 'models/rrn_lstm/tokenizer.json'))\n",
    "\n",
    "\n",
    "with open(tokenizer_path, \"r\", encoding=\"utf-8\") as f:\n",
    "    tokenizer_data = f.read()\n",
    "    tokenizer_loaded = tokenizer_from_json(tokenizer_data)\n"
   ]
  },
  {
   "cell_type": "code",
   "execution_count": 14,
   "metadata": {},
   "outputs": [],
   "source": [
    "#sample_input_text = \"Just your opinion stupid white trash\"\n",
    "sample_input_text = \"Eid Mubarak from your Atheist Seattle friends and happy Ramadan!\""
   ]
  },
  {
   "cell_type": "code",
   "execution_count": 15,
   "metadata": {},
   "outputs": [
    {
     "data": {
      "text/plain": [
       "array([[[-0.075139 ,  0.82504  ,  0.35902  , ..., -0.71914  ,\n",
       "         -0.098335 ,  0.0048383],\n",
       "        [-0.023242 ,  0.47272  ,  0.24489  , ..., -0.45059  ,\n",
       "         -0.054999 , -0.6276   ],\n",
       "        [-0.16928  , -0.035512 ,  0.015382 , ..., -0.088303 ,\n",
       "          0.22052  ,  0.74344  ],\n",
       "        ...,\n",
       "        [ 0.       ,  0.       ,  0.       , ...,  0.       ,\n",
       "          0.       ,  0.       ],\n",
       "        [ 0.       ,  0.       ,  0.       , ...,  0.       ,\n",
       "          0.       ,  0.       ],\n",
       "        [ 0.       ,  0.       ,  0.       , ...,  0.       ,\n",
       "          0.       ,  0.       ]]], dtype=float32)"
      ]
     },
     "execution_count": 15,
     "metadata": {},
     "output_type": "execute_result"
    }
   ],
   "source": [
    "\n",
    "# Vektorisierung mit Glove\n",
    "twitter_glove_path = os.path.abspath(os.path.join(src_path, 'models/rrn_lstm/glove.6B.200d.txt'))\n",
    "\n",
    "X_test_data_vectors = vectorize_glove_test_data_predict(\n",
    "    text=sample_input_text,\n",
    "    glove_path=twitter_glove_path,\n",
    "    tokenizer=tokenizer_loaded\n",
    ")\n",
    "\n",
    "X_test_data_vectors"
   ]
  },
  {
   "cell_type": "code",
   "execution_count": 7,
   "metadata": {},
   "outputs": [],
   "source": [
    "# Lade das Model\n",
    "\n",
    "lstm_model_path= os.path.abspath(os.path.join(src_path, 'models/rrn_lstm/model_lstm_17.keras'))\n",
    "model_lstm = load_model(lstm_model_path)\n"
   ]
  },
  {
   "cell_type": "code",
   "execution_count": 16,
   "metadata": {},
   "outputs": [
    {
     "name": "stdout",
     "output_type": "stream",
     "text": [
      "\u001b[1m1/1\u001b[0m \u001b[32m━━━━━━━━━━━━━━━━━━━━\u001b[0m\u001b[37m\u001b[0m \u001b[1m0s\u001b[0m 33ms/step\n",
      "Klasse: [[0]] Wahrscheinlichkeit: [[0.02178442]]\n"
     ]
    }
   ],
   "source": [
    "predictions_lstm = model_lstm.predict(X_test_data_vectors)\n",
    "\n",
    "threshold = 0.35  # Oder teste 0.4 oder 0.6\n",
    "predicted_classes_lstm = (predictions_lstm > threshold).astype(int)\n",
    "\n",
    "print(\"Klasse:\", predicted_classes_lstm, \"Wahrscheinlichkeit:\", predictions_lstm )"
   ]
  }
 ],
 "metadata": {
  "kernelspec": {
   "display_name": "Python 3",
   "language": "python",
   "name": "python3"
  },
  "language_info": {
   "codemirror_mode": {
    "name": "ipython",
    "version": 3
   },
   "file_extension": ".py",
   "mimetype": "text/x-python",
   "name": "python",
   "nbconvert_exporter": "python",
   "pygments_lexer": "ipython3",
   "version": "3.11.9"
  }
 },
 "nbformat": 4,
 "nbformat_minor": 2
}
